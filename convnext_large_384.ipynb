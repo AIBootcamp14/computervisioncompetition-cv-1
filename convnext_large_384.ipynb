{
 "cells": [
  {
   "attachments": {},
   "cell_type": "markdown",
   "metadata": {
    "id": "zkH9T_86lDSS"
   },
   "source": [
    "## 1. Prepare Environments\n",
    "\n",
    "* 데이터 로드를 위한 구글 드라이브를 마운트합니다.\n",
    "* 필요한 라이브러리를 설치합니다."
   ]
  },
  {
   "cell_type": "code",
   "execution_count": 1,
   "metadata": {
    "colab": {
     "base_uri": "https://localhost:8080/"
    },
    "executionInfo": {
     "elapsed": 8489,
     "status": "ok",
     "timestamp": 1700314558888,
     "user": {
      "displayName": "Ynot(송원호)",
      "userId": "16271863862696372773"
     },
     "user_tz": -540
    },
    "id": "NC8V-D393wY4",
    "outputId": "e9927325-26c4-4b89-9c51-c1d6541388d6"
   },
   "outputs": [
    {
     "name": "stdout",
     "output_type": "stream",
     "text": [
      "Requirement already satisfied: timm in /opt/conda/lib/python3.10/site-packages (0.9.12)\n",
      "Requirement already satisfied: torch>=1.7 in /opt/conda/lib/python3.10/site-packages (from timm) (2.1.0)\n",
      "Requirement already satisfied: torchvision in /opt/conda/lib/python3.10/site-packages (from timm) (0.16.0)\n",
      "Requirement already satisfied: pyyaml in /opt/conda/lib/python3.10/site-packages (from timm) (6.0)\n",
      "Requirement already satisfied: huggingface-hub in /opt/conda/lib/python3.10/site-packages (from timm) (0.19.4)\n",
      "Requirement already satisfied: safetensors in /opt/conda/lib/python3.10/site-packages (from timm) (0.4.1)\n",
      "Requirement already satisfied: filelock in /opt/conda/lib/python3.10/site-packages (from torch>=1.7->timm) (3.9.0)\n",
      "Requirement already satisfied: typing-extensions in /opt/conda/lib/python3.10/site-packages (from torch>=1.7->timm) (4.15.0)\n",
      "Requirement already satisfied: sympy in /opt/conda/lib/python3.10/site-packages (from torch>=1.7->timm) (1.11.1)\n",
      "Requirement already satisfied: networkx in /opt/conda/lib/python3.10/site-packages (from torch>=1.7->timm) (3.1)\n",
      "Requirement already satisfied: jinja2 in /opt/conda/lib/python3.10/site-packages (from torch>=1.7->timm) (3.1.2)\n",
      "Requirement already satisfied: fsspec in /opt/conda/lib/python3.10/site-packages (from torch>=1.7->timm) (2023.9.2)\n",
      "Requirement already satisfied: requests in /opt/conda/lib/python3.10/site-packages (from huggingface-hub->timm) (2.31.0)\n",
      "Requirement already satisfied: tqdm>=4.42.1 in /opt/conda/lib/python3.10/site-packages (from huggingface-hub->timm) (4.65.0)\n",
      "Requirement already satisfied: packaging>=20.9 in /opt/conda/lib/python3.10/site-packages (from huggingface-hub->timm) (23.1)\n",
      "Requirement already satisfied: numpy in /opt/conda/lib/python3.10/site-packages (from torchvision->timm) (1.26.0)\n",
      "Requirement already satisfied: pillow!=8.3.*,>=5.3.0 in /opt/conda/lib/python3.10/site-packages (from torchvision->timm) (9.4.0)\n",
      "Requirement already satisfied: MarkupSafe>=2.0 in /opt/conda/lib/python3.10/site-packages (from jinja2->torch>=1.7->timm) (2.1.1)\n",
      "Requirement already satisfied: charset-normalizer<4,>=2 in /opt/conda/lib/python3.10/site-packages (from requests->huggingface-hub->timm) (2.0.4)\n",
      "Requirement already satisfied: idna<4,>=2.5 in /opt/conda/lib/python3.10/site-packages (from requests->huggingface-hub->timm) (3.4)\n",
      "Requirement already satisfied: urllib3<3,>=1.21.1 in /opt/conda/lib/python3.10/site-packages (from requests->huggingface-hub->timm) (1.26.16)\n",
      "Requirement already satisfied: certifi>=2017.4.17 in /opt/conda/lib/python3.10/site-packages (from requests->huggingface-hub->timm) (2023.7.22)\n",
      "Requirement already satisfied: mpmath>=0.19 in /opt/conda/lib/python3.10/site-packages (from sympy->torch>=1.7->timm) (1.3.0)\n",
      "\u001b[33mWARNING: Running pip as the 'root' user can result in broken permissions and conflicting behaviour with the system package manager. It is recommended to use a virtual environment instead: https://pip.pypa.io/warnings/venv\u001b[0m\u001b[33m\n",
      "\u001b[0mRequirement already satisfied: matplotlib in /opt/conda/lib/python3.10/site-packages (3.10.6)\n",
      "Requirement already satisfied: contourpy>=1.0.1 in /opt/conda/lib/python3.10/site-packages (from matplotlib) (1.3.2)\n",
      "Requirement already satisfied: cycler>=0.10 in /opt/conda/lib/python3.10/site-packages (from matplotlib) (0.12.1)\n",
      "Requirement already satisfied: fonttools>=4.22.0 in /opt/conda/lib/python3.10/site-packages (from matplotlib) (4.59.2)\n",
      "Requirement already satisfied: kiwisolver>=1.3.1 in /opt/conda/lib/python3.10/site-packages (from matplotlib) (1.4.9)\n",
      "Requirement already satisfied: numpy>=1.23 in /opt/conda/lib/python3.10/site-packages (from matplotlib) (1.26.0)\n",
      "Requirement already satisfied: packaging>=20.0 in /opt/conda/lib/python3.10/site-packages (from matplotlib) (23.1)\n",
      "Requirement already satisfied: pillow>=8 in /opt/conda/lib/python3.10/site-packages (from matplotlib) (9.4.0)\n",
      "Requirement already satisfied: pyparsing>=2.3.1 in /opt/conda/lib/python3.10/site-packages (from matplotlib) (3.2.3)\n",
      "Requirement already satisfied: python-dateutil>=2.7 in /opt/conda/lib/python3.10/site-packages (from matplotlib) (2.8.2)\n",
      "Requirement already satisfied: six>=1.5 in /opt/conda/lib/python3.10/site-packages (from python-dateutil>=2.7->matplotlib) (1.16.0)\n",
      "\u001b[33mWARNING: Running pip as the 'root' user can result in broken permissions and conflicting behaviour with the system package manager. It is recommended to use a virtual environment instead: https://pip.pypa.io/warnings/venv\u001b[0m\u001b[33m\n",
      "\u001b[0mRequirement already satisfied: seaborn in /opt/conda/lib/python3.10/site-packages (0.13.2)\n",
      "Requirement already satisfied: numpy!=1.24.0,>=1.20 in /opt/conda/lib/python3.10/site-packages (from seaborn) (1.26.0)\n",
      "Requirement already satisfied: pandas>=1.2 in /opt/conda/lib/python3.10/site-packages (from seaborn) (2.1.4)\n",
      "Requirement already satisfied: matplotlib!=3.6.1,>=3.4 in /opt/conda/lib/python3.10/site-packages (from seaborn) (3.10.6)\n",
      "Requirement already satisfied: contourpy>=1.0.1 in /opt/conda/lib/python3.10/site-packages (from matplotlib!=3.6.1,>=3.4->seaborn) (1.3.2)\n",
      "Requirement already satisfied: cycler>=0.10 in /opt/conda/lib/python3.10/site-packages (from matplotlib!=3.6.1,>=3.4->seaborn) (0.12.1)\n",
      "Requirement already satisfied: fonttools>=4.22.0 in /opt/conda/lib/python3.10/site-packages (from matplotlib!=3.6.1,>=3.4->seaborn) (4.59.2)\n",
      "Requirement already satisfied: kiwisolver>=1.3.1 in /opt/conda/lib/python3.10/site-packages (from matplotlib!=3.6.1,>=3.4->seaborn) (1.4.9)\n",
      "Requirement already satisfied: packaging>=20.0 in /opt/conda/lib/python3.10/site-packages (from matplotlib!=3.6.1,>=3.4->seaborn) (23.1)\n",
      "Requirement already satisfied: pillow>=8 in /opt/conda/lib/python3.10/site-packages (from matplotlib!=3.6.1,>=3.4->seaborn) (9.4.0)\n",
      "Requirement already satisfied: pyparsing>=2.3.1 in /opt/conda/lib/python3.10/site-packages (from matplotlib!=3.6.1,>=3.4->seaborn) (3.2.3)\n",
      "Requirement already satisfied: python-dateutil>=2.7 in /opt/conda/lib/python3.10/site-packages (from matplotlib!=3.6.1,>=3.4->seaborn) (2.8.2)\n",
      "Requirement already satisfied: pytz>=2020.1 in /opt/conda/lib/python3.10/site-packages (from pandas>=1.2->seaborn) (2023.3.post1)\n",
      "Requirement already satisfied: tzdata>=2022.1 in /opt/conda/lib/python3.10/site-packages (from pandas>=1.2->seaborn) (2023.3)\n",
      "Requirement already satisfied: six>=1.5 in /opt/conda/lib/python3.10/site-packages (from python-dateutil>=2.7->matplotlib!=3.6.1,>=3.4->seaborn) (1.16.0)\n",
      "\u001b[33mWARNING: Running pip as the 'root' user can result in broken permissions and conflicting behaviour with the system package manager. It is recommended to use a virtual environment instead: https://pip.pypa.io/warnings/venv\u001b[0m\u001b[33m\n",
      "\u001b[0mRequirement already satisfied: optuna in /opt/conda/lib/python3.10/site-packages (4.5.0)\n",
      "Requirement already satisfied: alembic>=1.5.0 in /opt/conda/lib/python3.10/site-packages (from optuna) (1.16.5)\n",
      "Requirement already satisfied: colorlog in /opt/conda/lib/python3.10/site-packages (from optuna) (6.9.0)\n",
      "Requirement already satisfied: numpy in /opt/conda/lib/python3.10/site-packages (from optuna) (1.26.0)\n",
      "Requirement already satisfied: packaging>=20.0 in /opt/conda/lib/python3.10/site-packages (from optuna) (23.1)\n",
      "Requirement already satisfied: sqlalchemy>=1.4.2 in /opt/conda/lib/python3.10/site-packages (from optuna) (2.0.43)\n",
      "Requirement already satisfied: tqdm in /opt/conda/lib/python3.10/site-packages (from optuna) (4.65.0)\n",
      "Requirement already satisfied: PyYAML in /opt/conda/lib/python3.10/site-packages (from optuna) (6.0)\n",
      "Requirement already satisfied: Mako in /opt/conda/lib/python3.10/site-packages (from alembic>=1.5.0->optuna) (1.3.10)\n",
      "Requirement already satisfied: typing-extensions>=4.12 in /opt/conda/lib/python3.10/site-packages (from alembic>=1.5.0->optuna) (4.15.0)\n",
      "Requirement already satisfied: tomli in /opt/conda/lib/python3.10/site-packages (from alembic>=1.5.0->optuna) (2.0.1)\n",
      "Requirement already satisfied: greenlet>=1 in /opt/conda/lib/python3.10/site-packages (from sqlalchemy>=1.4.2->optuna) (3.2.4)\n",
      "Requirement already satisfied: MarkupSafe>=0.9.2 in /opt/conda/lib/python3.10/site-packages (from Mako->alembic>=1.5.0->optuna) (2.1.1)\n",
      "\u001b[33mWARNING: Running pip as the 'root' user can result in broken permissions and conflicting behaviour with the system package manager. It is recommended to use a virtual environment instead: https://pip.pypa.io/warnings/venv\u001b[0m\u001b[33m\n",
      "Reading package lists... Done\n",
      "Building dependency tree       \n",
      "Reading state information... Done\n",
      "The following additional packages will be installed:\n",
      "  libdrm-amdgpu1 libdrm-common libdrm-intel1 libdrm-nouveau2 libdrm-radeon1\n",
      "  libdrm2 libelf1 libexpat1 libgl1 libgl1-mesa-dri libglapi-mesa libglvnd0\n",
      "  libglx-mesa0 libglx0 libllvm12 libpciaccess0 libsensors-config libsensors5\n",
      "  libvulkan1 libwayland-client0 libx11-6 libx11-data libx11-xcb1 libxau6\n",
      "  libxcb-dri2-0 libxcb-dri3-0 libxcb-glx0 libxcb-present0 libxcb-randr0\n",
      "  libxcb-shm0 libxcb-sync1 libxcb-xfixes0 libxcb1 libxdmcp6 libxext6\n",
      "  libxfixes3 libxshmfence1 libxxf86vm1 mesa-vulkan-drivers\n",
      "Suggested packages:\n",
      "  pciutils lm-sensors\n",
      "The following NEW packages will be installed:\n",
      "  libdrm-amdgpu1 libdrm-common libdrm-intel1 libdrm-nouveau2 libdrm-radeon1\n",
      "  libdrm2 libelf1 libexpat1 libgl1 libgl1-mesa-dri libgl1-mesa-glx\n",
      "  libglapi-mesa libglvnd0 libglx-mesa0 libglx0 libllvm12 libpciaccess0\n",
      "  libsensors-config libsensors5 libvulkan1 libwayland-client0 libx11-6\n",
      "  libx11-data libx11-xcb1 libxau6 libxcb-dri2-0 libxcb-dri3-0 libxcb-glx0\n",
      "  libxcb-present0 libxcb-randr0 libxcb-shm0 libxcb-sync1 libxcb-xfixes0\n",
      "  libxcb1 libxdmcp6 libxext6 libxfixes3 libxshmfence1 libxxf86vm1\n",
      "  mesa-vulkan-drivers\n",
      "0 upgraded, 40 newly installed, 0 to remove and 14 not upgraded.\n",
      "Need to get 74.6 kB/37.2 MB of archives.\n",
      "After this operation, 528 MB of additional disk space will be used.\n",
      "Ign:1 http://archive.ubuntu.com/ubuntu focal-updates/main amd64 libexpat1 amd64 2.2.9-1ubuntu0.6\n",
      "Err:1 http://security.ubuntu.com/ubuntu focal-updates/main amd64 libexpat1 amd64 2.2.9-1ubuntu0.6\n",
      "  404  Not Found [IP: 91.189.91.81 80]\n",
      "\u001b[1;31mE: \u001b[0mFailed to fetch http://security.ubuntu.com/ubuntu/pool/main/e/expat/libexpat1_2.2.9-1ubuntu0.6_amd64.deb  404  Not Found [IP: 91.189.91.81 80]\u001b[0m\n",
      "\u001b[1;31mE: \u001b[0mUnable to fetch some archives, maybe run apt-get update or try with --fix-missing?\u001b[0m\n",
      "Requirement already satisfied: albumentations in /opt/conda/lib/python3.10/site-packages (1.3.1)\n",
      "Requirement already satisfied: numpy>=1.11.1 in /opt/conda/lib/python3.10/site-packages (from albumentations) (1.26.0)\n",
      "Requirement already satisfied: scipy>=1.1.0 in /opt/conda/lib/python3.10/site-packages (from albumentations) (1.11.4)\n",
      "Requirement already satisfied: scikit-image>=0.16.1 in /opt/conda/lib/python3.10/site-packages (from albumentations) (0.22.0)\n",
      "Requirement already satisfied: PyYAML in /opt/conda/lib/python3.10/site-packages (from albumentations) (6.0)\n",
      "Requirement already satisfied: qudida>=0.0.4 in /opt/conda/lib/python3.10/site-packages (from albumentations) (0.0.4)\n",
      "Requirement already satisfied: opencv-python-headless>=4.1.1 in /opt/conda/lib/python3.10/site-packages (from albumentations) (4.8.1.78)\n",
      "Requirement already satisfied: scikit-learn>=0.19.1 in /opt/conda/lib/python3.10/site-packages (from qudida>=0.0.4->albumentations) (1.3.2)\n",
      "Requirement already satisfied: typing-extensions in /opt/conda/lib/python3.10/site-packages (from qudida>=0.0.4->albumentations) (4.15.0)\n",
      "Requirement already satisfied: networkx>=2.8 in /opt/conda/lib/python3.10/site-packages (from scikit-image>=0.16.1->albumentations) (3.1)\n",
      "Requirement already satisfied: pillow>=9.0.1 in /opt/conda/lib/python3.10/site-packages (from scikit-image>=0.16.1->albumentations) (9.4.0)\n",
      "Requirement already satisfied: imageio>=2.27 in /opt/conda/lib/python3.10/site-packages (from scikit-image>=0.16.1->albumentations) (2.33.1)\n",
      "Requirement already satisfied: tifffile>=2022.8.12 in /opt/conda/lib/python3.10/site-packages (from scikit-image>=0.16.1->albumentations) (2023.12.9)\n",
      "Requirement already satisfied: packaging>=21 in /opt/conda/lib/python3.10/site-packages (from scikit-image>=0.16.1->albumentations) (23.1)\n",
      "Requirement already satisfied: lazy_loader>=0.3 in /opt/conda/lib/python3.10/site-packages (from scikit-image>=0.16.1->albumentations) (0.3)\n",
      "Requirement already satisfied: joblib>=1.1.1 in /opt/conda/lib/python3.10/site-packages (from scikit-learn>=0.19.1->qudida>=0.0.4->albumentations) (1.3.2)\n",
      "Requirement already satisfied: threadpoolctl>=2.0.0 in /opt/conda/lib/python3.10/site-packages (from scikit-learn>=0.19.1->qudida>=0.0.4->albumentations) (3.2.0)\n",
      "\u001b[33mWARNING: Running pip as the 'root' user can result in broken permissions and conflicting behaviour with the system package manager. It is recommended to use a virtual environment instead: https://pip.pypa.io/warnings/venv\u001b[0m\u001b[33m\n",
      "\u001b[0m"
     ]
    }
   ],
   "source": [
    "# # 필요한 라이브러리를 설치합니다.\n",
    "!pip install timm\n",
    "!pip install matplotlib\n",
    "!pip install seaborn\n",
    "!pip install optuna\n",
    "!apt install -y libgl1-mesa-glx\n",
    "!pip install albumentations"
   ]
  },
  {
   "attachments": {},
   "cell_type": "markdown",
   "metadata": {
    "id": "PXa_FPM73R9f"
   },
   "source": [
    "## 2. Import Library & Define Functions\n",
    "* 학습 및 추론에 필요한 라이브러리를 로드합니다.\n",
    "* 학습 및 추론에 필요한 함수와 클래스를 정의합니다."
   ]
  },
  {
   "cell_type": "code",
   "execution_count": 2,
   "metadata": {
    "executionInfo": {
     "elapsed": 9396,
     "status": "ok",
     "timestamp": 1700314592802,
     "user": {
      "displayName": "Ynot(송원호)",
      "userId": "16271863862696372773"
     },
     "user_tz": -540
    },
    "id": "3BaoIkv5Xwa0"
   },
   "outputs": [],
   "source": [
    "import os\n",
    "import time\n",
    "import random\n",
    "import copy\n",
    "\n",
    "import optuna, math\n",
    "import timm\n",
    "import torch\n",
    "import albumentations as A\n",
    "import pandas as pd\n",
    "import numpy as np\n",
    "import torch.nn as nn\n",
    "import torch.nn.functional as F\n",
    "from albumentations.pytorch import ToTensorV2\n",
    "from torch.optim import Adam\n",
    "from torchvision import transforms\n",
    "from torch.utils.data import Dataset, DataLoader\n",
    "from torch.optim.lr_scheduler import CosineAnnealingLR\n",
    "from torch.cuda.amp import autocast, GradScaler  # Mixed Precision용\n",
    "\n",
    "from PIL import Image\n",
    "from tqdm import tqdm\n",
    "from sklearn.metrics import accuracy_score, f1_score, confusion_matrix, classification_report\n",
    "from sklearn.model_selection import train_test_split, StratifiedKFold\n",
    "\n",
    "from collections import Counter\n",
    "import warnings\n",
    "warnings.filterwarnings('ignore')\n",
    "\n",
    "import matplotlib.pyplot as plt\n",
    "# import wandb\n",
    "from datetime import datetime\n",
    "\n",
    "# 한글 폰트 설정 (시각화용)\n",
    "plt.rcParams['font.family'] = ['DejaVu Sans']"
   ]
  },
  {
   "cell_type": "code",
   "execution_count": 3,
   "metadata": {},
   "outputs": [],
   "source": [
    "# 시드를 고정합니다.\n",
    "SEED = 42\n",
    "os.environ['PYTHONHASHSEED'] = str(SEED)\n",
    "random.seed(SEED)\n",
    "np.random.seed(SEED)\n",
    "torch.manual_seed(SEED)\n",
    "torch.cuda.manual_seed(SEED)\n",
    "torch.cuda.manual_seed_all(SEED)\n",
    "torch.backends.cudnn.benchmark = True"
   ]
  },
  {
   "cell_type": "code",
   "execution_count": 4,
   "metadata": {
    "executionInfo": {
     "elapsed": 241,
     "status": "ok",
     "timestamp": 1700314772722,
     "user": {
      "displayName": "Ynot(송원호)",
      "userId": "16271863862696372773"
     },
     "user_tz": -540
    },
    "id": "Hyl8oAy6TZAu"
   },
   "outputs": [],
   "source": [
    "def mixup_data(x, y, alpha=1.0):\n",
    "    if alpha > 0:\n",
    "        lam = np.random.beta(alpha, alpha)\n",
    "    else:\n",
    "        lam = 1\n",
    "    batch_size = x.size()[0]\n",
    "    index = torch.randperm(batch_size).cuda()\n",
    "    mixed_x = lam * x + (1 - lam) * x[index, :]\n",
    "    y_a, y_b = y, y[index]\n",
    "    return mixed_x, y_a, y_b, lam\n",
    "\n",
    "# 데이터셋 클래스를 정의합니다. (Hard Augmentation 포함)\n",
    "class ImageDataset(Dataset):\n",
    "    def __init__(self, data, path, epoch=0, total_epochs=10, is_train=True):\n",
    "        if isinstance(data, str):\n",
    "            self.df = pd.read_csv(data).values\n",
    "        else:\n",
    "            self.df = data.values\n",
    "        self.path = path\n",
    "        self.epoch = epoch\n",
    "        self.total_epochs = total_epochs\n",
    "        self.is_train = is_train\n",
    "        \n",
    "        # Hard augmentation 확률 계산\n",
    "        self.p_hard = 0.2 + 0.3 * (epoch / total_epochs) if is_train else 0\n",
    "        \n",
    "        # Normal augmentation\n",
    "        self.normal_aug = A.Compose([\n",
    "            A.LongestMaxSize(max_size=img_size),\n",
    "            A.PadIfNeeded(min_height=img_size, min_width=img_size, border_mode=0, value=0),\n",
    "            A.OneOf([\n",
    "                A.Rotate(limit=[90,90], p=1.0),\n",
    "                A.Rotate(limit=[180,180], p=1.0),\n",
    "                A.Rotate(limit=[270,270], p=1.0),\n",
    "            ], p=0.6),\n",
    "            A.RandomBrightnessContrast(brightness_limit=0.3, contrast_limit=0.3, p=0.8),\n",
    "            A.GaussNoise(var_limit=(30.0, 100.0), p=0.7),\n",
    "            A.HorizontalFlip(p=0.5),\n",
    "            A.Normalize(mean=[0.485, 0.456, 0.406], std=[0.229, 0.224, 0.225]),\n",
    "            ToTensorV2(),\n",
    "        ])\n",
    "        \n",
    "        # Hard augmentation\n",
    "        self.hard_aug = A.Compose([\n",
    "            A.LongestMaxSize(max_size=img_size),\n",
    "            A.PadIfNeeded(min_height=img_size, min_width=img_size, border_mode=0, value=0),\n",
    "            A.OneOf([\n",
    "                A.Rotate(limit=[90,90], p=1.0),\n",
    "                A.Rotate(limit=[180,180], p=1.0),\n",
    "                A.Rotate(limit=[270,270], p=1.0),\n",
    "                A.Rotate(limit=[-15,15], p=1.0),\n",
    "            ], p=0.8),\n",
    "            A.OneOf([\n",
    "                A.MotionBlur(blur_limit=15, p=1.0),\n",
    "                A.GaussianBlur(blur_limit=15, p=1.0),\n",
    "            ], p=0.95),\n",
    "            A.RandomBrightnessContrast(brightness_limit=0.5, contrast_limit=0.5, p=0.9),\n",
    "            A.GaussNoise(var_limit=(50.0, 150.0), p=0.8),\n",
    "            A.JpegCompression(quality_lower=70, quality_upper=100, p=0.5),\n",
    "            A.HorizontalFlip(p=0.5),\n",
    "            A.Normalize(mean=[0.485, 0.456, 0.406], std=[0.229, 0.224, 0.225]),\n",
    "            ToTensorV2(),\n",
    "        ])\n",
    "\n",
    "    def __len__(self):\n",
    "        return len(self.df)\n",
    "\n",
    "    def __getitem__(self, idx):\n",
    "        name, target = self.df[idx]\n",
    "        img = np.array(Image.open(os.path.join(self.path, name)).convert('RGB'))\n",
    "        \n",
    "        # 배치별 증강 선택\n",
    "        if self.is_train and random.random() < self.p_hard:\n",
    "            img = self.hard_aug(image=img)['image']\n",
    "        else:\n",
    "            img = self.normal_aug(image=img)['image']\n",
    "        \n",
    "        return img, target"
   ]
  },
  {
   "cell_type": "code",
   "execution_count": 5,
   "metadata": {
    "executionInfo": {
     "elapsed": 255,
     "status": "ok",
     "timestamp": 1700315066028,
     "user": {
      "displayName": "Ynot(송원호)",
      "userId": "16271863862696372773"
     },
     "user_tz": -540
    },
    "id": "kTECBJfVTbdl"
   },
   "outputs": [],
   "source": [
    "# one epoch 학습을 위한 함수입니다.\n",
    "def train_one_epoch(loader, model, optimizer, loss_fn, device):\n",
    "    scaler = GradScaler()  # Mixed Precision용\n",
    "    model.train()\n",
    "    train_loss = 0\n",
    "    preds_list = []\n",
    "    targets_list = []\n",
    "\n",
    "    pbar = tqdm(loader)\n",
    "    for image, targets in pbar:\n",
    "        image = image.to(device)\n",
    "        targets = targets.to(device)\n",
    "        \n",
    "        # Cutmix/Mixup 적용 (30% 확률)\n",
    "        if random.random() < 0.3:\n",
    "            mixed_x, y_a, y_b, lam = mixup_data(image, targets, alpha=1.0)\n",
    "            with autocast(): preds = model(mixed_x)\n",
    "            loss = lam * loss_fn(preds, y_a) + (1 - lam) * loss_fn(preds, y_b)\n",
    "        else:\n",
    "            with autocast(): preds = model(image)\n",
    "            loss = loss_fn(preds, targets)\n",
    "\n",
    "        model.zero_grad(set_to_none=True)\n",
    "\n",
    "        scaler.scale(loss).backward()  # Mixed Precision용\n",
    "        torch.nn.utils.clip_grad_norm_(model.parameters(), 1.0)\n",
    "        scaler.step(optimizer); scaler.update()  # Mixed Precision용\n",
    "\n",
    "        train_loss += loss.item()\n",
    "        preds_list.extend(preds.argmax(dim=1).detach().cpu().numpy())\n",
    "        targets_list.extend(targets.detach().cpu().numpy())\n",
    "\n",
    "        pbar.set_description(f\"Loss: {loss.item():.4f}\")\n",
    "\n",
    "    train_loss /= len(loader)\n",
    "    train_acc = accuracy_score(targets_list, preds_list)\n",
    "    train_f1 = f1_score(targets_list, preds_list, average='macro')\n",
    "\n",
    "    ret = {\n",
    "        \"train_loss\": train_loss,\n",
    "        \"train_acc\": train_acc,\n",
    "        \"train_f1\": train_f1,\n",
    "    }\n",
    "\n",
    "    return ret"
   ]
  },
  {
   "cell_type": "code",
   "execution_count": 6,
   "metadata": {},
   "outputs": [],
   "source": [
    "# validation을 위한 함수 추가\n",
    "def validate_one_epoch(loader, model, loss_fn, device):\n",
    "    \"\"\"\n",
    "    한 에폭 검증을 수행하는 함수\n",
    "    - model.eval()로 모델을 평가 모드로 전환\n",
    "    - torch.no_grad()로 gradient 계산 비활성화하여 메모리 절약\n",
    "    - 검증 데이터에 대한 loss, accuracy, f1 score 계산\n",
    "    \"\"\"\n",
    "    model.eval()  # 모델을 평가 모드로 전환 (dropout, batchnorm 비활성화)\n",
    "    val_loss = 0\n",
    "    preds_list = []\n",
    "    targets_list = []\n",
    "    \n",
    "    with torch.no_grad():  # gradient 계산 비활성화로 메모리 절약\n",
    "        pbar = tqdm(loader, desc=\"Validating\")\n",
    "        for image, targets in pbar:\n",
    "            image = image.to(device)\n",
    "            targets = targets.to(device)\n",
    "            \n",
    "            preds = model(image)  # 모델 예측\n",
    "            loss = loss_fn(preds, targets)  # 손실 계산\n",
    "            \n",
    "            val_loss += loss.item()\n",
    "            preds_list.extend(preds.argmax(dim=1).detach().cpu().numpy())  # 예측 클래스 저장\n",
    "            targets_list.extend(targets.detach().cpu().numpy())  # 실제 클래스 저장\n",
    "            \n",
    "            pbar.set_description(f\"Val Loss: {loss.item():.4f}\")\n",
    "    \n",
    "    val_loss /= len(loader)  # 평균 손실 계산\n",
    "    val_acc = accuracy_score(targets_list, preds_list)  # 정확도 계산\n",
    "    val_f1 = f1_score(targets_list, preds_list, average='macro')  # Macro F1 계산 (대회 평가지표)\n",
    "    \n",
    "    ret = {\n",
    "        \"val_loss\": val_loss,\n",
    "        \"val_acc\": val_acc,\n",
    "        \"val_f1\": val_f1,\n",
    "    }\n",
    "    \n",
    "    return ret"
   ]
  },
  {
   "attachments": {},
   "cell_type": "markdown",
   "metadata": {
    "id": "Wjom43UvoXcx"
   },
   "source": [
    "## 3. Hyper-parameters\n",
    "* 학습 및 추론에 필요한 하이퍼파라미터들을 정의합니다."
   ]
  },
  {
   "cell_type": "code",
   "execution_count": 7,
   "metadata": {
    "executionInfo": {
     "elapsed": 436,
     "status": "ok",
     "timestamp": 1700315112439,
     "user": {
      "displayName": "Ynot(송원호)",
      "userId": "16271863862696372773"
     },
     "user_tz": -540
    },
    "id": "KByfAeRmXwYk"
   },
   "outputs": [],
   "source": [
    "# device\n",
    "device = torch.device('cuda' if torch.cuda.is_available() else 'cpu')\n",
    "\n",
    "# data config\n",
    "data_path = '../data/'\n",
    "\n",
    "# model config\n",
    "# model_name = 'tf_efficientnetv2_b3' # 'resnet50' 'efficientnet-b0', ...\n",
    "# model_name = 'swin_base_patch4_window12_384_in22k'\n",
    "model_name = 'convnext_large_384_in22ft1k'\n",
    "# model_name = 'convnextv2_base.fcmae_ft_in22k_in1k_384'\n",
    "# model_name = 'vit_base_patch16_clip_384.laion2b_ft_in12k_in1k' # openclip\n",
    "# model_name = 'vit_base_patch16_384.augreg_in1k' # augreg\n",
    "# model_name = 'eva02_enormous_patch14_plus_clip_224.laion2b_s9b_b144k' # eva-02 멀티모달\n",
    "# model_name = 'eva02_large_patch14_448.mim_in22k_ft_in1k' #448 테스트용\n",
    "# model_name = 'vit_base_patch14_reg4_dinov2.lvd142m' # dinov2 reg4\n",
    "\n",
    "# model_name = 'eva02_large_patch14_448.mim_in22k_ft_in1k' #448 테스트용\n",
    "\n",
    "# training config\n",
    "img_size = 512\n",
    "LR = 2e-4\n",
    "EPOCHS = 100\n",
    "BATCH_SIZE = 10\n",
    "num_workers = 8\n",
    "EMA = True  # Exponential Moving Average 사용 여부"
   ]
  },
  {
   "cell_type": "code",
   "execution_count": 8,
   "metadata": {},
   "outputs": [],
   "source": [
    "# Optuna를 사용한 하이퍼파라미터 튜닝 (선택적 실행)\n",
    "USE_OPTUNA = False  # True로 바꾸면 튜닝 실행\n",
    "\n",
    "if USE_OPTUNA:\n",
    "    def objective(trial):\n",
    "        lr = trial.suggest_loguniform('lr', 1e-5, 1e-2)\n",
    "        batch_size = trial.suggest_categorical('batch_size', [32, 64, 128])\n",
    "        \n",
    "        # 간단한 3-fold CV로 빠른 평가\n",
    "        skf_simple = StratifiedKFold(n_splits=3, shuffle=True, random_state=42)\n",
    "        fold_scores = []\n",
    "        \n",
    "        for fold, (train_idx, val_idx) in enumerate(skf_simple.split(train_df, train_df['target'])):\n",
    "            # 모델 생성\n",
    "            model = timm.create_model(model_name, pretrained=True, num_classes=17).to(device)\n",
    "            optimizer = Adam(model.parameters(), lr=lr)\n",
    "            loss_fn = nn.CrossEntropyLoss()\n",
    "            \n",
    "            # 간단한 2 epoch 학습\n",
    "            for epoch in range(2):\n",
    "                train_ret = train_one_epoch(trn_loader, model, optimizer, loss_fn, device)\n",
    "            \n",
    "            val_ret = validate_one_epoch(val_loader, model, loss_fn, device)\n",
    "            fold_scores.append(val_ret['val_f1'])\n",
    "        \n",
    "        return np.mean(fold_scores)\n",
    "    \n",
    "    study = optuna.create_study(direction='maximize')\n",
    "    study.optimize(objective, n_trials=10)\n",
    "    \n",
    "    # 최적 파라미터 적용\n",
    "    LR = study.best_params['lr']\n",
    "    BATCH_SIZE = study.best_params['batch_size']\n",
    "    print(f\"Best params: {study.best_params}\")"
   ]
  },
  {
   "attachments": {},
   "cell_type": "markdown",
   "metadata": {
    "id": "amum-FlIojc6"
   },
   "source": [
    "## 4. Load Data\n",
    "* 학습, 테스트 데이터셋과 로더를 정의합니다."
   ]
  },
  {
   "cell_type": "code",
   "execution_count": 9,
   "metadata": {},
   "outputs": [],
   "source": [
    "# Optuna 튜닝 (선택적 실행)\n",
    "USE_OPTUNA = False  # True로 바꾸면 튜닝 실행\n",
    "\n",
    "if USE_OPTUNA:\n",
    "    # 위의 objective 함수와 study 코드\n",
    "    pass"
   ]
  },
  {
   "cell_type": "markdown",
   "metadata": {},
   "source": [
    "# K-Fold 적용"
   ]
  },
  {
   "cell_type": "code",
   "execution_count": 10,
   "metadata": {},
   "outputs": [
    {
     "name": "stdout",
     "output_type": "stream",
     "text": [
      "Starting 5-Fold Cross Validation...\n",
      "\n",
      "==================================================\n",
      "FOLD 1/5\n",
      "==================================================\n",
      "Train samples: 1256, Validation samples: 314\n"
     ]
    },
    {
     "data": {
      "application/vnd.jupyter.widget-view+json": {
       "model_id": "287448d3aeaa438d9c58ff3cfd68b412",
       "version_major": 2,
       "version_minor": 0
      },
      "text/plain": [
       "model.safetensors:   0%|          | 0.00/791M [00:00<?, ?B/s]"
      ]
     },
     "metadata": {},
     "output_type": "display_data"
    },
    {
     "name": "stderr",
     "output_type": "stream",
     "text": [
      "Loss: 1.2861: 100%|██████████| 126/126 [00:49<00:00,  2.55it/s]\n",
      "Val Loss: 0.7243: 100%|██████████| 32/32 [00:10<00:00,  3.10it/s]"
     ]
    },
    {
     "name": "stdout",
     "output_type": "stream",
     "text": [
      "Epoch  1 | Train Loss: 1.5547 | Train F1: 0.5221 | Val Loss: 0.7919 | Val F1: 0.7882\n"
     ]
    },
    {
     "name": "stderr",
     "output_type": "stream",
     "text": [
      "\n",
      "Loss: 0.4326: 100%|██████████| 126/126 [00:39<00:00,  3.16it/s]\n",
      "Val Loss: 0.8532: 100%|██████████| 32/32 [00:08<00:00,  3.85it/s]"
     ]
    },
    {
     "name": "stdout",
     "output_type": "stream",
     "text": [
      "Epoch  2 | Train Loss: 0.8982 | Train F1: 0.7196 | Val Loss: 0.6148 | Val F1: 0.8715\n"
     ]
    },
    {
     "name": "stderr",
     "output_type": "stream",
     "text": [
      "\n",
      "Loss: 0.9570: 100%|██████████| 126/126 [00:40<00:00,  3.14it/s]\n",
      "Val Loss: 1.2745: 100%|██████████| 32/32 [00:08<00:00,  3.82it/s]\n"
     ]
    },
    {
     "name": "stdout",
     "output_type": "stream",
     "text": [
      "Epoch  3 | Train Loss: 0.8015 | Train F1: 0.7371 | Val Loss: 0.6201 | Val F1: 0.8557\n"
     ]
    },
    {
     "name": "stderr",
     "output_type": "stream",
     "text": [
      "Loss: 0.6660: 100%|██████████| 126/126 [00:40<00:00,  3.13it/s]\n",
      "Val Loss: 0.5664: 100%|██████████| 32/32 [00:08<00:00,  3.82it/s]"
     ]
    },
    {
     "name": "stdout",
     "output_type": "stream",
     "text": [
      "Epoch  4 | Train Loss: 0.7792 | Train F1: 0.7954 | Val Loss: 0.5511 | Val F1: 0.9152\n"
     ]
    },
    {
     "name": "stderr",
     "output_type": "stream",
     "text": [
      "\n",
      "Loss: 0.3818: 100%|██████████| 126/126 [00:40<00:00,  3.14it/s]\n",
      "Val Loss: 0.3768: 100%|██████████| 32/32 [00:08<00:00,  3.79it/s]\n"
     ]
    },
    {
     "name": "stdout",
     "output_type": "stream",
     "text": [
      "Epoch  5 | Train Loss: 0.7782 | Train F1: 0.7726 | Val Loss: 0.5957 | Val F1: 0.8978\n"
     ]
    },
    {
     "name": "stderr",
     "output_type": "stream",
     "text": [
      "Loss: 1.1260: 100%|██████████| 126/126 [00:40<00:00,  3.14it/s]\n",
      "Val Loss: 0.3475: 100%|██████████| 32/32 [00:08<00:00,  3.81it/s]\n"
     ]
    },
    {
     "name": "stdout",
     "output_type": "stream",
     "text": [
      "Epoch  6 | Train Loss: 0.7169 | Train F1: 0.7739 | Val Loss: 0.6442 | Val F1: 0.8887\n"
     ]
    },
    {
     "name": "stderr",
     "output_type": "stream",
     "text": [
      "Loss: 1.1064: 100%|██████████| 126/126 [00:40<00:00,  3.14it/s]\n",
      "Val Loss: 0.7987: 100%|██████████| 32/32 [00:08<00:00,  3.80it/s]"
     ]
    },
    {
     "name": "stdout",
     "output_type": "stream",
     "text": [
      "Epoch  7 | Train Loss: 0.6426 | Train F1: 0.8368 | Val Loss: 0.4849 | Val F1: 0.9494\n"
     ]
    },
    {
     "name": "stderr",
     "output_type": "stream",
     "text": [
      "\n",
      "Loss: 0.7646: 100%|██████████| 126/126 [00:40<00:00,  3.14it/s]\n",
      "Val Loss: 0.6170: 100%|██████████| 32/32 [00:08<00:00,  3.78it/s]\n"
     ]
    },
    {
     "name": "stdout",
     "output_type": "stream",
     "text": [
      "Epoch  8 | Train Loss: 0.5951 | Train F1: 0.8698 | Val Loss: 0.5035 | Val F1: 0.9351\n"
     ]
    },
    {
     "name": "stderr",
     "output_type": "stream",
     "text": [
      "Loss: 1.4316: 100%|██████████| 126/126 [00:40<00:00,  3.15it/s]\n",
      "Val Loss: 0.3475: 100%|██████████| 32/32 [00:08<00:00,  3.82it/s]\n"
     ]
    },
    {
     "name": "stdout",
     "output_type": "stream",
     "text": [
      "Epoch  9 | Train Loss: 0.6286 | Train F1: 0.8275 | Val Loss: 0.5332 | Val F1: 0.9309\n"
     ]
    },
    {
     "name": "stderr",
     "output_type": "stream",
     "text": [
      "Loss: 0.5508: 100%|██████████| 126/126 [00:40<00:00,  3.13it/s]\n",
      "Val Loss: 0.6853: 100%|██████████| 32/32 [00:08<00:00,  3.80it/s]\n"
     ]
    },
    {
     "name": "stdout",
     "output_type": "stream",
     "text": [
      "Epoch 10 | Train Loss: 0.7050 | Train F1: 0.8226 | Val Loss: 0.6172 | Val F1: 0.8807\n"
     ]
    },
    {
     "name": "stderr",
     "output_type": "stream",
     "text": [
      "Loss: 0.8340: 100%|██████████| 126/126 [00:40<00:00,  3.14it/s]\n",
      "Val Loss: 0.3526: 100%|██████████| 32/32 [00:08<00:00,  3.78it/s]\n"
     ]
    },
    {
     "name": "stdout",
     "output_type": "stream",
     "text": [
      "Epoch 11 | Train Loss: 0.6417 | Train F1: 0.8259 | Val Loss: 0.4994 | Val F1: 0.9485\n"
     ]
    },
    {
     "name": "stderr",
     "output_type": "stream",
     "text": [
      "Loss: 0.3433: 100%|██████████| 126/126 [00:40<00:00,  3.14it/s]\n",
      "Val Loss: 0.3331: 100%|██████████| 32/32 [00:08<00:00,  3.80it/s]\n"
     ]
    },
    {
     "name": "stdout",
     "output_type": "stream",
     "text": [
      "Epoch 12 | Train Loss: 0.6191 | Train F1: 0.8382 | Val Loss: 0.5446 | Val F1: 0.9264\n"
     ]
    },
    {
     "name": "stderr",
     "output_type": "stream",
     "text": [
      "Loss: 0.3318: 100%|██████████| 126/126 [00:40<00:00,  3.14it/s]\n",
      "Val Loss: 0.3349: 100%|██████████| 32/32 [00:08<00:00,  3.82it/s]\n"
     ]
    },
    {
     "name": "stdout",
     "output_type": "stream",
     "text": [
      "Epoch 13 | Train Loss: 0.5777 | Train F1: 0.8540 | Val Loss: 0.4925 | Val F1: 0.9374\n"
     ]
    },
    {
     "name": "stderr",
     "output_type": "stream",
     "text": [
      "Loss: 1.0352: 100%|██████████| 126/126 [00:40<00:00,  3.14it/s]\n",
      "Val Loss: 1.1098: 100%|██████████| 32/32 [00:08<00:00,  3.83it/s]"
     ]
    },
    {
     "name": "stdout",
     "output_type": "stream",
     "text": [
      "Epoch 14 | Train Loss: 0.5507 | Train F1: 0.8677 | Val Loss: 0.4658 | Val F1: 0.9523\n"
     ]
    },
    {
     "name": "stderr",
     "output_type": "stream",
     "text": [
      "\n",
      "Loss: 0.6538: 100%|██████████| 126/126 [00:39<00:00,  3.15it/s]\n",
      "Val Loss: 0.3659: 100%|██████████| 32/32 [00:08<00:00,  3.81it/s]\n"
     ]
    },
    {
     "name": "stdout",
     "output_type": "stream",
     "text": [
      "Epoch 15 | Train Loss: 0.6024 | Train F1: 0.8157 | Val Loss: 0.5358 | Val F1: 0.9056\n"
     ]
    },
    {
     "name": "stderr",
     "output_type": "stream",
     "text": [
      "Loss: 0.3955: 100%|██████████| 126/126 [00:40<00:00,  3.14it/s]\n",
      "Val Loss: 0.4936: 100%|██████████| 32/32 [00:08<00:00,  3.78it/s]"
     ]
    },
    {
     "name": "stdout",
     "output_type": "stream",
     "text": [
      "Epoch 16 | Train Loss: 0.5836 | Train F1: 0.8690 | Val Loss: 0.4468 | Val F1: 0.9534\n"
     ]
    },
    {
     "name": "stderr",
     "output_type": "stream",
     "text": [
      "\n",
      "Loss: 0.3362: 100%|██████████| 126/126 [00:39<00:00,  3.15it/s]\n",
      "Val Loss: 0.3392: 100%|██████████| 32/32 [00:08<00:00,  3.81it/s]\n"
     ]
    },
    {
     "name": "stdout",
     "output_type": "stream",
     "text": [
      "Epoch 17 | Train Loss: 0.6398 | Train F1: 0.8579 | Val Loss: 0.5625 | Val F1: 0.9325\n"
     ]
    },
    {
     "name": "stderr",
     "output_type": "stream",
     "text": [
      "Loss: 0.3657: 100%|██████████| 126/126 [00:40<00:00,  3.15it/s]\n",
      "Val Loss: 0.3685: 100%|██████████| 32/32 [00:08<00:00,  3.81it/s]"
     ]
    },
    {
     "name": "stdout",
     "output_type": "stream",
     "text": [
      "Epoch 18 | Train Loss: 0.5985 | Train F1: 0.8340 | Val Loss: 0.4532 | Val F1: 0.9546\n"
     ]
    },
    {
     "name": "stderr",
     "output_type": "stream",
     "text": [
      "\n",
      "Loss: 0.5024: 100%|██████████| 126/126 [00:40<00:00,  3.15it/s]\n",
      "Val Loss: 0.3285: 100%|██████████| 32/32 [00:08<00:00,  3.81it/s]"
     ]
    },
    {
     "name": "stdout",
     "output_type": "stream",
     "text": [
      "Epoch 19 | Train Loss: 0.5350 | Train F1: 0.8656 | Val Loss: 0.4420 | Val F1: 0.9688\n"
     ]
    },
    {
     "name": "stderr",
     "output_type": "stream",
     "text": [
      "\n",
      "Loss: 0.3621: 100%|██████████| 126/126 [00:40<00:00,  3.15it/s]\n",
      "Val Loss: 0.3644: 100%|██████████| 32/32 [00:08<00:00,  3.82it/s]\n"
     ]
    },
    {
     "name": "stdout",
     "output_type": "stream",
     "text": [
      "Epoch 20 | Train Loss: 0.5640 | Train F1: 0.8755 | Val Loss: 0.4898 | Val F1: 0.9445\n"
     ]
    },
    {
     "name": "stderr",
     "output_type": "stream",
     "text": [
      "Loss: 0.7744: 100%|██████████| 126/126 [00:40<00:00,  3.14it/s]\n",
      "Val Loss: 0.3901: 100%|██████████| 32/32 [00:08<00:00,  3.80it/s]\n"
     ]
    },
    {
     "name": "stdout",
     "output_type": "stream",
     "text": [
      "Epoch 21 | Train Loss: 0.5877 | Train F1: 0.8439 | Val Loss: 0.4478 | Val F1: 0.9640\n"
     ]
    },
    {
     "name": "stderr",
     "output_type": "stream",
     "text": [
      "Loss: 0.7598: 100%|██████████| 126/126 [00:39<00:00,  3.15it/s]\n",
      "Val Loss: 1.2040: 100%|██████████| 32/32 [00:08<00:00,  3.81it/s]\n"
     ]
    },
    {
     "name": "stdout",
     "output_type": "stream",
     "text": [
      "Epoch 22 | Train Loss: 0.5609 | Train F1: 0.8680 | Val Loss: 0.4676 | Val F1: 0.9623\n"
     ]
    },
    {
     "name": "stderr",
     "output_type": "stream",
     "text": [
      "Loss: 0.3296: 100%|██████████| 126/126 [00:40<00:00,  3.14it/s]\n",
      "Val Loss: 0.3301: 100%|██████████| 32/32 [00:08<00:00,  3.83it/s]"
     ]
    },
    {
     "name": "stdout",
     "output_type": "stream",
     "text": [
      "Epoch 23 | Train Loss: 0.6381 | Train F1: 0.8411 | Val Loss: 0.4389 | Val F1: 0.9690\n"
     ]
    },
    {
     "name": "stderr",
     "output_type": "stream",
     "text": [
      "\n",
      "Loss: 1.1211: 100%|██████████| 126/126 [00:40<00:00,  3.15it/s]\n",
      "Val Loss: 0.4017: 100%|██████████| 32/32 [00:08<00:00,  3.77it/s]"
     ]
    },
    {
     "name": "stdout",
     "output_type": "stream",
     "text": [
      "Epoch 24 | Train Loss: 0.5848 | Train F1: 0.8348 | Val Loss: 0.4137 | Val F1: 0.9714\n"
     ]
    },
    {
     "name": "stderr",
     "output_type": "stream",
     "text": [
      "\n",
      "Loss: 1.4043: 100%|██████████| 126/126 [00:40<00:00,  3.14it/s]\n",
      "Val Loss: 0.3301: 100%|██████████| 32/32 [00:08<00:00,  3.81it/s]\n"
     ]
    },
    {
     "name": "stdout",
     "output_type": "stream",
     "text": [
      "Epoch 25 | Train Loss: 0.5670 | Train F1: 0.8796 | Val Loss: 0.4259 | Val F1: 0.9633\n"
     ]
    },
    {
     "name": "stderr",
     "output_type": "stream",
     "text": [
      "Loss: 0.3604: 100%|██████████| 126/126 [00:40<00:00,  3.15it/s]\n",
      "Val Loss: 1.2656: 100%|██████████| 32/32 [00:08<00:00,  3.80it/s]\n"
     ]
    },
    {
     "name": "stdout",
     "output_type": "stream",
     "text": [
      "Epoch 26 | Train Loss: 0.6234 | Train F1: 0.8514 | Val Loss: 0.4922 | Val F1: 0.9543\n"
     ]
    },
    {
     "name": "stderr",
     "output_type": "stream",
     "text": [
      "Loss: 1.2969: 100%|██████████| 126/126 [00:40<00:00,  3.15it/s]\n",
      "Val Loss: 0.3217: 100%|██████████| 32/32 [00:08<00:00,  3.84it/s]\n"
     ]
    },
    {
     "name": "stdout",
     "output_type": "stream",
     "text": [
      "Epoch 27 | Train Loss: 0.6247 | Train F1: 0.8309 | Val Loss: 0.4507 | Val F1: 0.9608\n"
     ]
    },
    {
     "name": "stderr",
     "output_type": "stream",
     "text": [
      "Loss: 0.5957: 100%|██████████| 126/126 [00:40<00:00,  3.14it/s]\n",
      "Val Loss: 0.4967: 100%|██████████| 32/32 [00:08<00:00,  3.79it/s]\n"
     ]
    },
    {
     "name": "stdout",
     "output_type": "stream",
     "text": [
      "Epoch 28 | Train Loss: 0.5719 | Train F1: 0.8605 | Val Loss: 0.4471 | Val F1: 0.9658\n"
     ]
    },
    {
     "name": "stderr",
     "output_type": "stream",
     "text": [
      "Loss: 0.3220: 100%|██████████| 126/126 [00:40<00:00,  3.15it/s]\n",
      "Val Loss: 0.3242: 100%|██████████| 32/32 [00:08<00:00,  3.79it/s]\n"
     ]
    },
    {
     "name": "stdout",
     "output_type": "stream",
     "text": [
      "Epoch 29 | Train Loss: 0.5019 | Train F1: 0.8978 | Val Loss: 0.4596 | Val F1: 0.9625\n"
     ]
    },
    {
     "name": "stderr",
     "output_type": "stream",
     "text": [
      "Loss: 1.2646: 100%|██████████| 126/126 [00:40<00:00,  3.15it/s]\n",
      "Val Loss: 0.4787: 100%|██████████| 32/32 [00:08<00:00,  3.80it/s]\n"
     ]
    },
    {
     "name": "stdout",
     "output_type": "stream",
     "text": [
      "Epoch 30 | Train Loss: 0.5368 | Train F1: 0.8540 | Val Loss: 0.4804 | Val F1: 0.9597\n"
     ]
    },
    {
     "name": "stderr",
     "output_type": "stream",
     "text": [
      "Loss: 0.3777: 100%|██████████| 126/126 [00:40<00:00,  3.14it/s]\n",
      "Val Loss: 0.4707: 100%|██████████| 32/32 [00:08<00:00,  3.81it/s]\n"
     ]
    },
    {
     "name": "stdout",
     "output_type": "stream",
     "text": [
      "Epoch 31 | Train Loss: 0.5278 | Train F1: 0.8878 | Val Loss: 0.4468 | Val F1: 0.9624\n"
     ]
    },
    {
     "name": "stderr",
     "output_type": "stream",
     "text": [
      "Loss: 0.3232: 100%|██████████| 126/126 [00:40<00:00,  3.15it/s]\n",
      "Val Loss: 0.3275: 100%|██████████| 32/32 [00:08<00:00,  3.84it/s]\n"
     ]
    },
    {
     "name": "stdout",
     "output_type": "stream",
     "text": [
      "Epoch 32 | Train Loss: 0.5588 | Train F1: 0.8656 | Val Loss: 0.4445 | Val F1: 0.9677\n"
     ]
    },
    {
     "name": "stderr",
     "output_type": "stream",
     "text": [
      "Loss: 0.3208: 100%|██████████| 126/126 [00:40<00:00,  3.15it/s]\n",
      "Val Loss: 0.3331: 100%|██████████| 32/32 [00:08<00:00,  3.82it/s]\n"
     ]
    },
    {
     "name": "stdout",
     "output_type": "stream",
     "text": [
      "Epoch 33 | Train Loss: 0.5640 | Train F1: 0.8502 | Val Loss: 0.4621 | Val F1: 0.9656\n"
     ]
    },
    {
     "name": "stderr",
     "output_type": "stream",
     "text": [
      "Loss: 0.3213: 100%|██████████| 126/126 [00:39<00:00,  3.15it/s]\n",
      "Val Loss: 0.3220: 100%|██████████| 32/32 [00:08<00:00,  3.77it/s]\n"
     ]
    },
    {
     "name": "stdout",
     "output_type": "stream",
     "text": [
      "Epoch 34 | Train Loss: 0.5852 | Train F1: 0.8486 | Val Loss: 0.4483 | Val F1: 0.9662\n"
     ]
    },
    {
     "name": "stderr",
     "output_type": "stream",
     "text": [
      "Loss: 0.3208: 100%|██████████| 126/126 [00:40<00:00,  3.15it/s]\n",
      "Val Loss: 0.3208: 100%|██████████| 32/32 [00:08<00:00,  3.79it/s]\n"
     ]
    },
    {
     "name": "stdout",
     "output_type": "stream",
     "text": [
      "Epoch 35 | Train Loss: 0.5559 | Train F1: 0.8857 | Val Loss: 0.4654 | Val F1: 0.9647\n"
     ]
    },
    {
     "name": "stderr",
     "output_type": "stream",
     "text": [
      "Loss: 0.7285: 100%|██████████| 126/126 [00:40<00:00,  3.14it/s]\n",
      "Val Loss: 0.3222: 100%|██████████| 32/32 [00:08<00:00,  3.78it/s]\n"
     ]
    },
    {
     "name": "stdout",
     "output_type": "stream",
     "text": [
      "Epoch 36 | Train Loss: 0.5743 | Train F1: 0.8381 | Val Loss: 0.4705 | Val F1: 0.9634\n"
     ]
    },
    {
     "name": "stderr",
     "output_type": "stream",
     "text": [
      "Loss: 0.7056: 100%|██████████| 126/126 [00:39<00:00,  3.15it/s]\n",
      "Val Loss: 0.3295: 100%|██████████| 32/32 [00:08<00:00,  3.81it/s]\n"
     ]
    },
    {
     "name": "stdout",
     "output_type": "stream",
     "text": [
      "Epoch 37 | Train Loss: 0.5240 | Train F1: 0.8681 | Val Loss: 0.4234 | Val F1: 0.9685\n"
     ]
    },
    {
     "name": "stderr",
     "output_type": "stream",
     "text": [
      "Loss: 0.3213: 100%|██████████| 126/126 [00:40<00:00,  3.15it/s]\n",
      "Val Loss: 0.3209: 100%|██████████| 32/32 [00:08<00:00,  3.82it/s]\n"
     ]
    },
    {
     "name": "stdout",
     "output_type": "stream",
     "text": [
      "Epoch 38 | Train Loss: 0.5644 | Train F1: 0.8477 | Val Loss: 0.4385 | Val F1: 0.9687\n"
     ]
    },
    {
     "name": "stderr",
     "output_type": "stream",
     "text": [
      "Loss: 0.3206: 100%|██████████| 126/126 [00:39<00:00,  3.16it/s]\n",
      "Val Loss: 0.3208: 100%|██████████| 32/32 [00:08<00:00,  3.78it/s]"
     ]
    },
    {
     "name": "stdout",
     "output_type": "stream",
     "text": [
      "Epoch 39 | Train Loss: 0.4739 | Train F1: 0.8888 | Val Loss: 0.4285 | Val F1: 0.9729\n"
     ]
    },
    {
     "name": "stderr",
     "output_type": "stream",
     "text": [
      "\n",
      "Loss: 0.3569: 100%|██████████| 126/126 [00:39<00:00,  3.15it/s]\n",
      "Val Loss: 0.3213: 100%|██████████| 32/32 [00:08<00:00,  3.78it/s]\n"
     ]
    },
    {
     "name": "stdout",
     "output_type": "stream",
     "text": [
      "Epoch 40 | Train Loss: 0.5404 | Train F1: 0.8497 | Val Loss: 0.4384 | Val F1: 0.9676\n"
     ]
    },
    {
     "name": "stderr",
     "output_type": "stream",
     "text": [
      "Loss: 0.6719: 100%|██████████| 126/126 [00:39<00:00,  3.15it/s]\n",
      "Val Loss: 0.3231: 100%|██████████| 32/32 [00:08<00:00,  3.78it/s]\n"
     ]
    },
    {
     "name": "stdout",
     "output_type": "stream",
     "text": [
      "Epoch 41 | Train Loss: 0.5399 | Train F1: 0.8857 | Val Loss: 0.5133 | Val F1: 0.9479\n"
     ]
    },
    {
     "name": "stderr",
     "output_type": "stream",
     "text": [
      "Loss: 0.3748: 100%|██████████| 126/126 [00:40<00:00,  3.15it/s]\n",
      "Val Loss: 0.3302: 100%|██████████| 32/32 [00:08<00:00,  3.78it/s]\n"
     ]
    },
    {
     "name": "stdout",
     "output_type": "stream",
     "text": [
      "Epoch 42 | Train Loss: 0.5154 | Train F1: 0.8784 | Val Loss: 0.4783 | Val F1: 0.9599\n"
     ]
    },
    {
     "name": "stderr",
     "output_type": "stream",
     "text": [
      "Loss: 0.5762: 100%|██████████| 126/126 [00:39<00:00,  3.16it/s]\n",
      "Val Loss: 0.3214: 100%|██████████| 32/32 [00:08<00:00,  3.83it/s]\n"
     ]
    },
    {
     "name": "stdout",
     "output_type": "stream",
     "text": [
      "Epoch 43 | Train Loss: 0.5378 | Train F1: 0.8656 | Val Loss: 0.4460 | Val F1: 0.9635\n"
     ]
    },
    {
     "name": "stderr",
     "output_type": "stream",
     "text": [
      "Loss: 0.3281: 100%|██████████| 126/126 [00:39<00:00,  3.16it/s]\n",
      "Val Loss: 0.3240: 100%|██████████| 32/32 [00:08<00:00,  3.77it/s]\n"
     ]
    },
    {
     "name": "stdout",
     "output_type": "stream",
     "text": [
      "Epoch 44 | Train Loss: 0.5223 | Train F1: 0.8602 | Val Loss: 0.4575 | Val F1: 0.9540\n"
     ]
    },
    {
     "name": "stderr",
     "output_type": "stream",
     "text": [
      "Loss: 0.3208: 100%|██████████| 126/126 [00:40<00:00,  3.15it/s]\n",
      "Val Loss: 0.3207: 100%|██████████| 32/32 [00:08<00:00,  3.80it/s]\n"
     ]
    },
    {
     "name": "stdout",
     "output_type": "stream",
     "text": [
      "Epoch 45 | Train Loss: 0.4973 | Train F1: 0.8537 | Val Loss: 0.4309 | Val F1: 0.9706\n"
     ]
    },
    {
     "name": "stderr",
     "output_type": "stream",
     "text": [
      "Loss: 0.3225: 100%|██████████| 126/126 [00:40<00:00,  3.15it/s]\n",
      "Val Loss: 0.3208: 100%|██████████| 32/32 [00:08<00:00,  3.80it/s]\n"
     ]
    },
    {
     "name": "stdout",
     "output_type": "stream",
     "text": [
      "Epoch 46 | Train Loss: 0.5128 | Train F1: 0.8880 | Val Loss: 0.4700 | Val F1: 0.9631\n"
     ]
    },
    {
     "name": "stderr",
     "output_type": "stream",
     "text": [
      "Loss: 1.2988: 100%|██████████| 126/126 [00:39<00:00,  3.15it/s]\n",
      "Val Loss: 0.3210: 100%|██████████| 32/32 [00:08<00:00,  3.81it/s]\n"
     ]
    },
    {
     "name": "stdout",
     "output_type": "stream",
     "text": [
      "Epoch 47 | Train Loss: 0.5438 | Train F1: 0.8876 | Val Loss: 0.4605 | Val F1: 0.9661\n"
     ]
    },
    {
     "name": "stderr",
     "output_type": "stream",
     "text": [
      "Loss: 0.3213: 100%|██████████| 126/126 [00:40<00:00,  3.15it/s]\n",
      "Val Loss: 0.3213: 100%|██████████| 32/32 [00:08<00:00,  3.83it/s]\n"
     ]
    },
    {
     "name": "stdout",
     "output_type": "stream",
     "text": [
      "Epoch 48 | Train Loss: 0.5162 | Train F1: 0.8863 | Val Loss: 0.4524 | Val F1: 0.9650\n"
     ]
    },
    {
     "name": "stderr",
     "output_type": "stream",
     "text": [
      "Loss: 1.1582: 100%|██████████| 126/126 [00:39<00:00,  3.15it/s]\n",
      "Val Loss: 0.3220: 100%|██████████| 32/32 [00:08<00:00,  3.80it/s]\n"
     ]
    },
    {
     "name": "stdout",
     "output_type": "stream",
     "text": [
      "Epoch 49 | Train Loss: 0.5844 | Train F1: 0.8302 | Val Loss: 0.4691 | Val F1: 0.9629\n"
     ]
    },
    {
     "name": "stderr",
     "output_type": "stream",
     "text": [
      "Loss: 0.3206: 100%|██████████| 126/126 [00:39<00:00,  3.15it/s]\n",
      "Val Loss: 0.3207: 100%|██████████| 32/32 [00:08<00:00,  3.81it/s]\n"
     ]
    },
    {
     "name": "stdout",
     "output_type": "stream",
     "text": [
      "Epoch 50 | Train Loss: 0.4930 | Train F1: 0.8753 | Val Loss: 0.4617 | Val F1: 0.9662\n"
     ]
    },
    {
     "name": "stderr",
     "output_type": "stream",
     "text": [
      "Loss: 0.8115: 100%|██████████| 126/126 [00:39<00:00,  3.16it/s]\n",
      "Val Loss: 0.3206: 100%|██████████| 32/32 [00:08<00:00,  3.82it/s]\n"
     ]
    },
    {
     "name": "stdout",
     "output_type": "stream",
     "text": [
      "Epoch 51 | Train Loss: 0.4843 | Train F1: 0.8990 | Val Loss: 0.4442 | Val F1: 0.9685\n"
     ]
    },
    {
     "name": "stderr",
     "output_type": "stream",
     "text": [
      "Loss: 0.3208: 100%|██████████| 126/126 [00:39<00:00,  3.16it/s]\n",
      "Val Loss: 0.3206: 100%|██████████| 32/32 [00:08<00:00,  3.84it/s]\n"
     ]
    },
    {
     "name": "stdout",
     "output_type": "stream",
     "text": [
      "Epoch 52 | Train Loss: 0.4946 | Train F1: 0.8836 | Val Loss: 0.4343 | Val F1: 0.9715\n"
     ]
    },
    {
     "name": "stderr",
     "output_type": "stream",
     "text": [
      "Loss: 0.3206: 100%|██████████| 126/126 [00:39<00:00,  3.16it/s]\n",
      "Val Loss: 0.3206: 100%|██████████| 32/32 [00:08<00:00,  3.79it/s]\n"
     ]
    },
    {
     "name": "stdout",
     "output_type": "stream",
     "text": [
      "Epoch 53 | Train Loss: 0.4932 | Train F1: 0.8316 | Val Loss: 0.4394 | Val F1: 0.9685\n"
     ]
    },
    {
     "name": "stderr",
     "output_type": "stream",
     "text": [
      "Loss: 0.3210: 100%|██████████| 126/126 [00:39<00:00,  3.15it/s]\n",
      "Val Loss: 0.3205: 100%|██████████| 32/32 [00:08<00:00,  3.81it/s]\n"
     ]
    },
    {
     "name": "stdout",
     "output_type": "stream",
     "text": [
      "Epoch 54 | Train Loss: 0.5170 | Train F1: 0.8671 | Val Loss: 0.4477 | Val F1: 0.9690\n"
     ]
    },
    {
     "name": "stderr",
     "output_type": "stream",
     "text": [
      "Loss: 0.3213: 100%|██████████| 126/126 [00:39<00:00,  3.16it/s]\n",
      "Val Loss: 0.3237: 100%|██████████| 32/32 [00:08<00:00,  3.83it/s]\n"
     ]
    },
    {
     "name": "stdout",
     "output_type": "stream",
     "text": [
      "Epoch 55 | Train Loss: 0.5436 | Train F1: 0.8714 | Val Loss: 0.4500 | Val F1: 0.9657\n"
     ]
    },
    {
     "name": "stderr",
     "output_type": "stream",
     "text": [
      "Loss: 0.3215: 100%|██████████| 126/126 [00:39<00:00,  3.15it/s]\n",
      "Val Loss: 0.3209: 100%|██████████| 32/32 [00:08<00:00,  3.77it/s]\n"
     ]
    },
    {
     "name": "stdout",
     "output_type": "stream",
     "text": [
      "Epoch 56 | Train Loss: 0.5096 | Train F1: 0.8906 | Val Loss: 0.4347 | Val F1: 0.9657\n"
     ]
    },
    {
     "name": "stderr",
     "output_type": "stream",
     "text": [
      "Loss: 0.3203: 100%|██████████| 126/126 [00:39<00:00,  3.15it/s]\n",
      "Val Loss: 0.3206: 100%|██████████| 32/32 [00:08<00:00,  3.82it/s]\n"
     ]
    },
    {
     "name": "stdout",
     "output_type": "stream",
     "text": [
      "Epoch 57 | Train Loss: 0.4835 | Train F1: 0.8467 | Val Loss: 0.4361 | Val F1: 0.9715\n"
     ]
    },
    {
     "name": "stderr",
     "output_type": "stream",
     "text": [
      "Loss: 0.3210: 100%|██████████| 126/126 [00:39<00:00,  3.16it/s]\n",
      "Val Loss: 0.3205: 100%|██████████| 32/32 [00:08<00:00,  3.81it/s]\n"
     ]
    },
    {
     "name": "stdout",
     "output_type": "stream",
     "text": [
      "Epoch 58 | Train Loss: 0.4942 | Train F1: 0.8948 | Val Loss: 0.4476 | Val F1: 0.9687\n"
     ]
    },
    {
     "name": "stderr",
     "output_type": "stream",
     "text": [
      "Loss: 0.8545: 100%|██████████| 126/126 [00:39<00:00,  3.16it/s]\n",
      "Val Loss: 0.3208: 100%|██████████| 32/32 [00:08<00:00,  3.80it/s]\n"
     ]
    },
    {
     "name": "stdout",
     "output_type": "stream",
     "text": [
      "Epoch 59 | Train Loss: 0.5317 | Train F1: 0.8599 | Val Loss: 0.4441 | Val F1: 0.9659\n"
     ]
    },
    {
     "name": "stderr",
     "output_type": "stream",
     "text": [
      "Loss: 0.3203: 100%|██████████| 126/126 [00:39<00:00,  3.16it/s]\n",
      "Val Loss: 0.3205: 100%|██████████| 32/32 [00:08<00:00,  3.81it/s]\n"
     ]
    },
    {
     "name": "stdout",
     "output_type": "stream",
     "text": [
      "Epoch 60 | Train Loss: 0.5008 | Train F1: 0.8491 | Val Loss: 0.4449 | Val F1: 0.9690\n"
     ]
    },
    {
     "name": "stderr",
     "output_type": "stream",
     "text": [
      "Loss: 0.3203: 100%|██████████| 126/126 [00:39<00:00,  3.16it/s]\n",
      "Val Loss: 0.3204: 100%|██████████| 32/32 [00:08<00:00,  3.79it/s]\n"
     ]
    },
    {
     "name": "stdout",
     "output_type": "stream",
     "text": [
      "Epoch 61 | Train Loss: 0.4732 | Train F1: 0.8714 | Val Loss: 0.4613 | Val F1: 0.9660\n"
     ]
    },
    {
     "name": "stderr",
     "output_type": "stream",
     "text": [
      "Loss: 0.3203: 100%|██████████| 126/126 [00:39<00:00,  3.15it/s]\n",
      "Val Loss: 0.3204: 100%|██████████| 32/32 [00:08<00:00,  3.81it/s]\n"
     ]
    },
    {
     "name": "stdout",
     "output_type": "stream",
     "text": [
      "Epoch 62 | Train Loss: 0.5262 | Train F1: 0.8491 | Val Loss: 0.4590 | Val F1: 0.9704\n"
     ]
    },
    {
     "name": "stderr",
     "output_type": "stream",
     "text": [
      "Loss: 1.1670: 100%|██████████| 126/126 [00:39<00:00,  3.16it/s]\n",
      "Val Loss: 0.3250: 100%|██████████| 32/32 [00:08<00:00,  3.78it/s]\n"
     ]
    },
    {
     "name": "stdout",
     "output_type": "stream",
     "text": [
      "Epoch 63 | Train Loss: 0.5455 | Train F1: 0.8368 | Val Loss: 0.4783 | Val F1: 0.9630\n"
     ]
    },
    {
     "name": "stderr",
     "output_type": "stream",
     "text": [
      "Loss: 0.3218: 100%|██████████| 126/126 [00:39<00:00,  3.16it/s]\n",
      "Val Loss: 0.3205: 100%|██████████| 32/32 [00:08<00:00,  3.79it/s]\n"
     ]
    },
    {
     "name": "stdout",
     "output_type": "stream",
     "text": [
      "Epoch 64 | Train Loss: 0.4987 | Train F1: 0.8654 | Val Loss: 0.4564 | Val F1: 0.9690\n"
     ]
    },
    {
     "name": "stderr",
     "output_type": "stream",
     "text": [
      "Loss: 0.3203: 100%|██████████| 126/126 [00:39<00:00,  3.16it/s]\n",
      "Val Loss: 0.3203: 100%|██████████| 32/32 [00:08<00:00,  3.80it/s]\n"
     ]
    },
    {
     "name": "stdout",
     "output_type": "stream",
     "text": [
      "Epoch 65 | Train Loss: 0.4906 | Train F1: 0.8995 | Val Loss: 0.4783 | Val F1: 0.9632\n"
     ]
    },
    {
     "name": "stderr",
     "output_type": "stream",
     "text": [
      "Loss: 0.3203: 100%|██████████| 126/126 [00:39<00:00,  3.16it/s]\n",
      "Val Loss: 0.3206: 100%|██████████| 32/32 [00:08<00:00,  3.79it/s]\n"
     ]
    },
    {
     "name": "stdout",
     "output_type": "stream",
     "text": [
      "Epoch 66 | Train Loss: 0.5052 | Train F1: 0.8699 | Val Loss: 0.4444 | Val F1: 0.9715\n"
     ]
    },
    {
     "name": "stderr",
     "output_type": "stream",
     "text": [
      "Loss: 0.3203: 100%|██████████| 126/126 [00:39<00:00,  3.16it/s]\n",
      "Val Loss: 0.3204: 100%|██████████| 32/32 [00:08<00:00,  3.79it/s]\n"
     ]
    },
    {
     "name": "stdout",
     "output_type": "stream",
     "text": [
      "Epoch 67 | Train Loss: 0.5187 | Train F1: 0.8676 | Val Loss: 0.4646 | Val F1: 0.9635\n"
     ]
    },
    {
     "name": "stderr",
     "output_type": "stream",
     "text": [
      "Loss: 0.3232: 100%|██████████| 126/126 [00:39<00:00,  3.16it/s]\n",
      "Val Loss: 0.3205: 100%|██████████| 32/32 [00:08<00:00,  3.77it/s]\n"
     ]
    },
    {
     "name": "stdout",
     "output_type": "stream",
     "text": [
      "Epoch 68 | Train Loss: 0.4715 | Train F1: 0.8590 | Val Loss: 0.5001 | Val F1: 0.9576\n"
     ]
    },
    {
     "name": "stderr",
     "output_type": "stream",
     "text": [
      "Loss: 0.7666: 100%|██████████| 126/126 [00:39<00:00,  3.16it/s]\n",
      "Val Loss: 0.3203: 100%|██████████| 32/32 [00:08<00:00,  3.81it/s]\n"
     ]
    },
    {
     "name": "stdout",
     "output_type": "stream",
     "text": [
      "Epoch 69 | Train Loss: 0.5043 | Train F1: 0.8776 | Val Loss: 0.4558 | Val F1: 0.9687\n"
     ]
    },
    {
     "name": "stderr",
     "output_type": "stream",
     "text": [
      "Loss: 0.3203: 100%|██████████| 126/126 [00:39<00:00,  3.16it/s]\n",
      "Val Loss: 0.3203: 100%|██████████| 32/32 [00:08<00:00,  3.81it/s]\n"
     ]
    },
    {
     "name": "stdout",
     "output_type": "stream",
     "text": [
      "Epoch 70 | Train Loss: 0.5185 | Train F1: 0.8479 | Val Loss: 0.4413 | Val F1: 0.9656\n"
     ]
    },
    {
     "name": "stderr",
     "output_type": "stream",
     "text": [
      "Loss: 1.4629: 100%|██████████| 126/126 [00:39<00:00,  3.16it/s]\n",
      "Val Loss: 0.3204: 100%|██████████| 32/32 [00:08<00:00,  3.77it/s]\n"
     ]
    },
    {
     "name": "stdout",
     "output_type": "stream",
     "text": [
      "Epoch 71 | Train Loss: 0.4999 | Train F1: 0.8596 | Val Loss: 0.4508 | Val F1: 0.9653\n"
     ]
    },
    {
     "name": "stderr",
     "output_type": "stream",
     "text": [
      "Loss: 0.3206: 100%|██████████| 126/126 [00:39<00:00,  3.16it/s]\n",
      "Val Loss: 0.3203: 100%|██████████| 32/32 [00:08<00:00,  3.79it/s]\n"
     ]
    },
    {
     "name": "stdout",
     "output_type": "stream",
     "text": [
      "Epoch 72 | Train Loss: 0.4992 | Train F1: 0.8567 | Val Loss: 0.4398 | Val F1: 0.9717\n"
     ]
    },
    {
     "name": "stderr",
     "output_type": "stream",
     "text": [
      "Loss: 0.4343: 100%|██████████| 126/126 [00:39<00:00,  3.16it/s]\n",
      "Val Loss: 0.3203: 100%|██████████| 32/32 [00:08<00:00,  3.80it/s]\n"
     ]
    },
    {
     "name": "stdout",
     "output_type": "stream",
     "text": [
      "Epoch 73 | Train Loss: 0.4924 | Train F1: 0.8849 | Val Loss: 0.4408 | Val F1: 0.9717\n"
     ]
    },
    {
     "name": "stderr",
     "output_type": "stream",
     "text": [
      "Loss: 0.5356: 100%|██████████| 126/126 [00:39<00:00,  3.15it/s]\n",
      "Val Loss: 0.3203: 100%|██████████| 32/32 [00:08<00:00,  3.78it/s]\n"
     ]
    },
    {
     "name": "stdout",
     "output_type": "stream",
     "text": [
      "Epoch 74 | Train Loss: 0.4828 | Train F1: 0.8747 | Val Loss: 0.4417 | Val F1: 0.9715\n"
     ]
    },
    {
     "name": "stderr",
     "output_type": "stream",
     "text": [
      "Loss: 0.3203: 100%|██████████| 126/126 [00:39<00:00,  3.15it/s]\n",
      "Val Loss: 0.3204: 100%|██████████| 32/32 [00:08<00:00,  3.80it/s]\n"
     ]
    },
    {
     "name": "stdout",
     "output_type": "stream",
     "text": [
      "Epoch 75 | Train Loss: 0.4791 | Train F1: 0.8784 | Val Loss: 0.4413 | Val F1: 0.9715\n"
     ]
    },
    {
     "name": "stderr",
     "output_type": "stream",
     "text": [
      "Loss: 0.3206: 100%|██████████| 126/126 [00:39<00:00,  3.16it/s]\n",
      "Val Loss: 0.3203: 100%|██████████| 32/32 [00:08<00:00,  3.79it/s]\n"
     ]
    },
    {
     "name": "stdout",
     "output_type": "stream",
     "text": [
      "Epoch 76 | Train Loss: 0.5420 | Train F1: 0.7859 | Val Loss: 0.4567 | Val F1: 0.9687\n"
     ]
    },
    {
     "name": "stderr",
     "output_type": "stream",
     "text": [
      "Loss: 0.9370: 100%|██████████| 126/126 [00:39<00:00,  3.16it/s]\n",
      "Val Loss: 0.3212: 100%|██████████| 32/32 [00:08<00:00,  3.79it/s]\n"
     ]
    },
    {
     "name": "stdout",
     "output_type": "stream",
     "text": [
      "Epoch 77 | Train Loss: 0.4830 | Train F1: 0.8927 | Val Loss: 0.4415 | Val F1: 0.9715\n"
     ]
    },
    {
     "name": "stderr",
     "output_type": "stream",
     "text": [
      "Loss: 0.3203: 100%|██████████| 126/126 [00:39<00:00,  3.16it/s]\n",
      "Val Loss: 0.3412: 100%|██████████| 32/32 [00:08<00:00,  3.80it/s]\n"
     ]
    },
    {
     "name": "stdout",
     "output_type": "stream",
     "text": [
      "Epoch 78 | Train Loss: 0.4921 | Train F1: 0.8284 | Val Loss: 0.4469 | Val F1: 0.9685\n"
     ]
    },
    {
     "name": "stderr",
     "output_type": "stream",
     "text": [
      "Loss: 0.3203: 100%|██████████| 126/126 [00:39<00:00,  3.16it/s]\n",
      "Val Loss: 0.3203: 100%|██████████| 32/32 [00:08<00:00,  3.78it/s]\n"
     ]
    },
    {
     "name": "stdout",
     "output_type": "stream",
     "text": [
      "Epoch 79 | Train Loss: 0.4616 | Train F1: 0.8903 | Val Loss: 0.4555 | Val F1: 0.9687\n"
     ]
    },
    {
     "name": "stderr",
     "output_type": "stream",
     "text": [
      "Loss: 0.9331: 100%|██████████| 126/126 [00:39<00:00,  3.16it/s]\n",
      "Val Loss: 0.3203: 100%|██████████| 32/32 [00:08<00:00,  3.83it/s]\n"
     ]
    },
    {
     "name": "stdout",
     "output_type": "stream",
     "text": [
      "Epoch 80 | Train Loss: 0.5098 | Train F1: 0.8387 | Val Loss: 0.4382 | Val F1: 0.9657\n"
     ]
    },
    {
     "name": "stderr",
     "output_type": "stream",
     "text": [
      "Loss: 0.3203: 100%|██████████| 126/126 [00:39<00:00,  3.16it/s]\n",
      "Val Loss: 0.3203: 100%|██████████| 32/32 [00:08<00:00,  3.81it/s]\n"
     ]
    },
    {
     "name": "stdout",
     "output_type": "stream",
     "text": [
      "Epoch 81 | Train Loss: 0.4963 | Train F1: 0.8848 | Val Loss: 0.4476 | Val F1: 0.9690\n"
     ]
    },
    {
     "name": "stderr",
     "output_type": "stream",
     "text": [
      "Loss: 0.3203: 100%|██████████| 126/126 [00:39<00:00,  3.17it/s]\n",
      "Val Loss: 0.3203: 100%|██████████| 32/32 [00:08<00:00,  3.81it/s]\n"
     ]
    },
    {
     "name": "stdout",
     "output_type": "stream",
     "text": [
      "Epoch 82 | Train Loss: 0.4680 | Train F1: 0.8883 | Val Loss: 0.4665 | Val F1: 0.9638\n"
     ]
    },
    {
     "name": "stderr",
     "output_type": "stream",
     "text": [
      "Loss: 0.7886: 100%|██████████| 126/126 [00:39<00:00,  3.16it/s]\n",
      "Val Loss: 0.3205: 100%|██████████| 32/32 [00:08<00:00,  3.81it/s]\n"
     ]
    },
    {
     "name": "stdout",
     "output_type": "stream",
     "text": [
      "Epoch 83 | Train Loss: 0.5282 | Train F1: 0.8476 | Val Loss: 0.4488 | Val F1: 0.9699\n"
     ]
    },
    {
     "name": "stderr",
     "output_type": "stream",
     "text": [
      "Loss: 0.6514: 100%|██████████| 126/126 [00:39<00:00,  3.16it/s]\n",
      "Val Loss: 0.3203: 100%|██████████| 32/32 [00:08<00:00,  3.77it/s]\n"
     ]
    },
    {
     "name": "stdout",
     "output_type": "stream",
     "text": [
      "Epoch 84 | Train Loss: 0.5393 | Train F1: 0.8387 | Val Loss: 0.4419 | Val F1: 0.9687\n"
     ]
    },
    {
     "name": "stderr",
     "output_type": "stream",
     "text": [
      "Loss: 0.3203: 100%|██████████| 126/126 [00:39<00:00,  3.16it/s]\n",
      "Val Loss: 0.3204: 100%|██████████| 32/32 [00:08<00:00,  3.80it/s]\n"
     ]
    },
    {
     "name": "stdout",
     "output_type": "stream",
     "text": [
      "Epoch 85 | Train Loss: 0.4896 | Train F1: 0.8659 | Val Loss: 0.4578 | Val F1: 0.9699\n"
     ]
    },
    {
     "name": "stderr",
     "output_type": "stream",
     "text": [
      "Loss: 0.3203: 100%|██████████| 126/126 [00:39<00:00,  3.16it/s]\n",
      "Val Loss: 0.3203: 100%|██████████| 32/32 [00:08<00:00,  3.82it/s]\n"
     ]
    },
    {
     "name": "stdout",
     "output_type": "stream",
     "text": [
      "Epoch 86 | Train Loss: 0.4790 | Train F1: 0.9119 | Val Loss: 0.4390 | Val F1: 0.9715\n"
     ]
    },
    {
     "name": "stderr",
     "output_type": "stream",
     "text": [
      "Loss: 0.3760: 100%|██████████| 126/126 [00:39<00:00,  3.16it/s]\n",
      "Val Loss: 0.3203: 100%|██████████| 32/32 [00:08<00:00,  3.82it/s]\n"
     ]
    },
    {
     "name": "stdout",
     "output_type": "stream",
     "text": [
      "Epoch 87 | Train Loss: 0.4973 | Train F1: 0.8781 | Val Loss: 0.4288 | Val F1: 0.9713\n"
     ]
    },
    {
     "name": "stderr",
     "output_type": "stream",
     "text": [
      "Loss: 0.3203: 100%|██████████| 126/126 [00:39<00:00,  3.15it/s]\n",
      "Val Loss: 0.3203: 100%|██████████| 32/32 [00:08<00:00,  3.78it/s]\n"
     ]
    },
    {
     "name": "stdout",
     "output_type": "stream",
     "text": [
      "Epoch 88 | Train Loss: 0.4701 | Train F1: 0.8827 | Val Loss: 0.4442 | Val F1: 0.9687\n"
     ]
    },
    {
     "name": "stderr",
     "output_type": "stream",
     "text": [
      "Loss: 0.3203: 100%|██████████| 126/126 [00:39<00:00,  3.16it/s]\n",
      "Val Loss: 0.3203: 100%|██████████| 32/32 [00:08<00:00,  3.79it/s]\n"
     ]
    },
    {
     "name": "stdout",
     "output_type": "stream",
     "text": [
      "Epoch 89 | Train Loss: 0.4798 | Train F1: 0.8915 | Val Loss: 0.4566 | Val F1: 0.9687\n"
     ]
    },
    {
     "name": "stderr",
     "output_type": "stream",
     "text": [
      "Loss: 0.3201: 100%|██████████| 126/126 [00:39<00:00,  3.16it/s]\n",
      "Val Loss: 0.3222: 100%|██████████| 32/32 [00:08<00:00,  3.76it/s]\n"
     ]
    },
    {
     "name": "stdout",
     "output_type": "stream",
     "text": [
      "Epoch 90 | Train Loss: 0.4774 | Train F1: 0.8741 | Val Loss: 0.4306 | Val F1: 0.9715\n"
     ]
    },
    {
     "name": "stderr",
     "output_type": "stream",
     "text": [
      "Loss: 0.8872: 100%|██████████| 126/126 [00:39<00:00,  3.16it/s]\n",
      "Val Loss: 0.3203: 100%|██████████| 32/32 [00:08<00:00,  3.82it/s]\n"
     ]
    },
    {
     "name": "stdout",
     "output_type": "stream",
     "text": [
      "Epoch 91 | Train Loss: 0.5064 | Train F1: 0.8419 | Val Loss: 0.4511 | Val F1: 0.9687\n"
     ]
    },
    {
     "name": "stderr",
     "output_type": "stream",
     "text": [
      "Loss: 0.3203: 100%|██████████| 126/126 [00:39<00:00,  3.16it/s]\n",
      "Val Loss: 0.3203: 100%|██████████| 32/32 [00:08<00:00,  3.82it/s]\n"
     ]
    },
    {
     "name": "stdout",
     "output_type": "stream",
     "text": [
      "Epoch 92 | Train Loss: 0.4966 | Train F1: 0.8520 | Val Loss: 0.4527 | Val F1: 0.9685\n"
     ]
    },
    {
     "name": "stderr",
     "output_type": "stream",
     "text": [
      "Loss: 0.3203: 100%|██████████| 126/126 [00:39<00:00,  3.16it/s]\n",
      "Val Loss: 0.3203: 100%|██████████| 32/32 [00:08<00:00,  3.81it/s]\n"
     ]
    },
    {
     "name": "stdout",
     "output_type": "stream",
     "text": [
      "Epoch 93 | Train Loss: 0.4805 | Train F1: 0.9206 | Val Loss: 0.4564 | Val F1: 0.9687\n"
     ]
    },
    {
     "name": "stderr",
     "output_type": "stream",
     "text": [
      "Loss: 0.3201: 100%|██████████| 126/126 [00:39<00:00,  3.16it/s]\n",
      "Val Loss: 0.3203: 100%|██████████| 32/32 [00:08<00:00,  3.82it/s]\n"
     ]
    },
    {
     "name": "stdout",
     "output_type": "stream",
     "text": [
      "Epoch 94 | Train Loss: 0.4948 | Train F1: 0.9086 | Val Loss: 0.4530 | Val F1: 0.9690\n"
     ]
    },
    {
     "name": "stderr",
     "output_type": "stream",
     "text": [
      "Loss: 0.8076: 100%|██████████| 126/126 [00:39<00:00,  3.16it/s]\n",
      "Val Loss: 0.3204: 100%|██████████| 32/32 [00:08<00:00,  3.81it/s]\n"
     ]
    },
    {
     "name": "stdout",
     "output_type": "stream",
     "text": [
      "Epoch 95 | Train Loss: 0.4804 | Train F1: 0.8652 | Val Loss: 0.4565 | Val F1: 0.9699\n"
     ]
    },
    {
     "name": "stderr",
     "output_type": "stream",
     "text": [
      "Loss: 0.8159: 100%|██████████| 126/126 [00:39<00:00,  3.17it/s]\n",
      "Val Loss: 0.3203: 100%|██████████| 32/32 [00:08<00:00,  3.80it/s]"
     ]
    },
    {
     "name": "stdout",
     "output_type": "stream",
     "text": [
      "Epoch 96 | Train Loss: 0.4599 | Train F1: 0.9190 | Val Loss: 0.4319 | Val F1: 0.9729\n"
     ]
    },
    {
     "name": "stderr",
     "output_type": "stream",
     "text": [
      "\n",
      "Loss: 0.3201: 100%|██████████| 126/126 [00:39<00:00,  3.17it/s]\n",
      "Val Loss: 0.3203: 100%|██████████| 32/32 [00:08<00:00,  3.83it/s]\n"
     ]
    },
    {
     "name": "stdout",
     "output_type": "stream",
     "text": [
      "Epoch 97 | Train Loss: 0.4529 | Train F1: 0.8956 | Val Loss: 0.4509 | Val F1: 0.9687\n"
     ]
    },
    {
     "name": "stderr",
     "output_type": "stream",
     "text": [
      "Loss: 0.3201: 100%|██████████| 126/126 [00:39<00:00,  3.17it/s]\n",
      "Val Loss: 0.3203: 100%|██████████| 32/32 [00:08<00:00,  3.84it/s]\n"
     ]
    },
    {
     "name": "stdout",
     "output_type": "stream",
     "text": [
      "Epoch 98 | Train Loss: 0.4699 | Train F1: 0.8700 | Val Loss: 0.4413 | Val F1: 0.9715\n"
     ]
    },
    {
     "name": "stderr",
     "output_type": "stream",
     "text": [
      "Loss: 0.3203: 100%|██████████| 126/126 [00:39<00:00,  3.16it/s]\n",
      "Val Loss: 0.3203: 100%|██████████| 32/32 [00:08<00:00,  3.82it/s]\n"
     ]
    },
    {
     "name": "stdout",
     "output_type": "stream",
     "text": [
      "Epoch 99 | Train Loss: 0.5085 | Train F1: 0.8529 | Val Loss: 0.4403 | Val F1: 0.9717\n"
     ]
    },
    {
     "name": "stderr",
     "output_type": "stream",
     "text": [
      "Loss: 0.3203: 100%|██████████| 126/126 [00:39<00:00,  3.16it/s]\n",
      "Val Loss: 0.3203: 100%|██████████| 32/32 [00:08<00:00,  3.82it/s]\n"
     ]
    },
    {
     "name": "stdout",
     "output_type": "stream",
     "text": [
      "Epoch 100 | Train Loss: 0.4615 | Train F1: 0.8876 | Val Loss: 0.4433 | Val F1: 0.9715\n",
      "Fold 1 Best Validation F1: 0.9729\n",
      "\n",
      "==================================================\n",
      "FOLD 2/5\n",
      "==================================================\n",
      "Train samples: 1256, Validation samples: 314\n"
     ]
    },
    {
     "name": "stderr",
     "output_type": "stream",
     "text": [
      "Loss: 1.1484: 100%|██████████| 126/126 [00:39<00:00,  3.15it/s]\n",
      "Val Loss: 0.8652: 100%|██████████| 32/32 [00:08<00:00,  3.79it/s]"
     ]
    },
    {
     "name": "stdout",
     "output_type": "stream",
     "text": [
      "Epoch  1 | Train Loss: 1.6303 | Train F1: 0.4864 | Val Loss: 0.7544 | Val F1: 0.7903\n"
     ]
    },
    {
     "name": "stderr",
     "output_type": "stream",
     "text": [
      "\n",
      "Loss: 1.0566: 100%|██████████| 126/126 [00:40<00:00,  3.14it/s]\n",
      "Val Loss: 0.4618: 100%|██████████| 32/32 [00:08<00:00,  3.79it/s]"
     ]
    },
    {
     "name": "stdout",
     "output_type": "stream",
     "text": [
      "Epoch  2 | Train Loss: 1.0215 | Train F1: 0.6740 | Val Loss: 0.6260 | Val F1: 0.8631\n"
     ]
    },
    {
     "name": "stderr",
     "output_type": "stream",
     "text": [
      "\n",
      "Loss: 0.7446: 100%|██████████| 126/126 [00:40<00:00,  3.15it/s]\n",
      "Val Loss: 0.4830: 100%|██████████| 32/32 [00:08<00:00,  3.75it/s]"
     ]
    },
    {
     "name": "stdout",
     "output_type": "stream",
     "text": [
      "Epoch  3 | Train Loss: 0.8464 | Train F1: 0.7507 | Val Loss: 0.5802 | Val F1: 0.8750\n"
     ]
    },
    {
     "name": "stderr",
     "output_type": "stream",
     "text": [
      "\n",
      "Loss: 0.7637: 100%|██████████| 126/126 [00:40<00:00,  3.14it/s]\n",
      "Val Loss: 1.0467: 100%|██████████| 32/32 [00:08<00:00,  3.81it/s]\n"
     ]
    },
    {
     "name": "stdout",
     "output_type": "stream",
     "text": [
      "Epoch  4 | Train Loss: 0.7523 | Train F1: 0.7545 | Val Loss: 0.5885 | Val F1: 0.8591\n"
     ]
    },
    {
     "name": "stderr",
     "output_type": "stream",
     "text": [
      "Loss: 0.8418: 100%|██████████| 126/126 [00:40<00:00,  3.15it/s]\n",
      "Val Loss: 0.3813: 100%|██████████| 32/32 [00:08<00:00,  3.81it/s]"
     ]
    },
    {
     "name": "stdout",
     "output_type": "stream",
     "text": [
      "Epoch  5 | Train Loss: 0.6494 | Train F1: 0.8544 | Val Loss: 0.5228 | Val F1: 0.9143\n"
     ]
    },
    {
     "name": "stderr",
     "output_type": "stream",
     "text": [
      "\n",
      "Loss: 0.3843: 100%|██████████| 126/126 [00:40<00:00,  3.14it/s]\n",
      "Val Loss: 0.5556: 100%|██████████| 32/32 [00:08<00:00,  3.80it/s]"
     ]
    },
    {
     "name": "stdout",
     "output_type": "stream",
     "text": [
      "Epoch  6 | Train Loss: 0.8202 | Train F1: 0.7836 | Val Loss: 0.5157 | Val F1: 0.9218\n"
     ]
    },
    {
     "name": "stderr",
     "output_type": "stream",
     "text": [
      "\n",
      "Loss: 0.3401: 100%|██████████| 126/126 [00:40<00:00,  3.14it/s]\n",
      "Val Loss: 0.4730: 100%|██████████| 32/32 [00:08<00:00,  3.77it/s]"
     ]
    },
    {
     "name": "stdout",
     "output_type": "stream",
     "text": [
      "Epoch  7 | Train Loss: 0.6679 | Train F1: 0.8377 | Val Loss: 0.4460 | Val F1: 0.9427\n"
     ]
    },
    {
     "name": "stderr",
     "output_type": "stream",
     "text": [
      "\n",
      "Loss: 0.4109: 100%|██████████| 126/126 [00:39<00:00,  3.15it/s]\n",
      "Val Loss: 0.5417: 100%|██████████| 32/32 [00:08<00:00,  3.75it/s]\n"
     ]
    },
    {
     "name": "stdout",
     "output_type": "stream",
     "text": [
      "Epoch  8 | Train Loss: 0.7248 | Train F1: 0.7987 | Val Loss: 0.6115 | Val F1: 0.8791\n"
     ]
    },
    {
     "name": "stderr",
     "output_type": "stream",
     "text": [
      "Loss: 1.2676: 100%|██████████| 126/126 [00:40<00:00,  3.14it/s]\n",
      "Val Loss: 0.4012: 100%|██████████| 32/32 [00:08<00:00,  3.78it/s]\n"
     ]
    },
    {
     "name": "stdout",
     "output_type": "stream",
     "text": [
      "Epoch  9 | Train Loss: 0.7467 | Train F1: 0.8233 | Val Loss: 0.4695 | Val F1: 0.9405\n"
     ]
    },
    {
     "name": "stderr",
     "output_type": "stream",
     "text": [
      "Loss: 0.4724: 100%|██████████| 126/126 [00:40<00:00,  3.14it/s]\n",
      "Val Loss: 0.4171: 100%|██████████| 32/32 [00:08<00:00,  3.75it/s]"
     ]
    },
    {
     "name": "stdout",
     "output_type": "stream",
     "text": [
      "Epoch 10 | Train Loss: 0.6164 | Train F1: 0.8345 | Val Loss: 0.4509 | Val F1: 0.9495\n"
     ]
    },
    {
     "name": "stderr",
     "output_type": "stream",
     "text": [
      "\n",
      "Loss: 0.4814: 100%|██████████| 126/126 [00:40<00:00,  3.14it/s]\n",
      "Val Loss: 0.3391: 100%|██████████| 32/32 [00:08<00:00,  3.79it/s]\n"
     ]
    },
    {
     "name": "stdout",
     "output_type": "stream",
     "text": [
      "Epoch 11 | Train Loss: 0.6657 | Train F1: 0.7803 | Val Loss: 0.4850 | Val F1: 0.9492\n"
     ]
    },
    {
     "name": "stderr",
     "output_type": "stream",
     "text": [
      "Loss: 0.3320: 100%|██████████| 126/126 [00:40<00:00,  3.15it/s]\n",
      "Val Loss: 0.3942: 100%|██████████| 32/32 [00:08<00:00,  3.75it/s]"
     ]
    },
    {
     "name": "stdout",
     "output_type": "stream",
     "text": [
      "Epoch 12 | Train Loss: 0.5783 | Train F1: 0.8590 | Val Loss: 0.4398 | Val F1: 0.9586\n"
     ]
    },
    {
     "name": "stderr",
     "output_type": "stream",
     "text": [
      "\n",
      "Loss: 1.6211: 100%|██████████| 126/126 [00:40<00:00,  3.15it/s]\n",
      "Val Loss: 0.3849: 100%|██████████| 32/32 [00:08<00:00,  3.76it/s]\n"
     ]
    },
    {
     "name": "stdout",
     "output_type": "stream",
     "text": [
      "Epoch 13 | Train Loss: 0.6481 | Train F1: 0.8553 | Val Loss: 0.5234 | Val F1: 0.9378\n"
     ]
    },
    {
     "name": "stderr",
     "output_type": "stream",
     "text": [
      "Loss: 0.4722: 100%|██████████| 126/126 [00:40<00:00,  3.14it/s]\n",
      "Val Loss: 0.3632: 100%|██████████| 32/32 [00:08<00:00,  3.76it/s]"
     ]
    },
    {
     "name": "stdout",
     "output_type": "stream",
     "text": [
      "Epoch 14 | Train Loss: 0.6006 | Train F1: 0.8240 | Val Loss: 0.4064 | Val F1: 0.9778\n"
     ]
    },
    {
     "name": "stderr",
     "output_type": "stream",
     "text": [
      "\n",
      "Loss: 0.9048: 100%|██████████| 126/126 [00:40<00:00,  3.14it/s]\n",
      "Val Loss: 0.3288: 100%|██████████| 32/32 [00:08<00:00,  3.73it/s]\n"
     ]
    },
    {
     "name": "stdout",
     "output_type": "stream",
     "text": [
      "Epoch 15 | Train Loss: 0.6093 | Train F1: 0.8641 | Val Loss: 0.4259 | Val F1: 0.9751\n"
     ]
    },
    {
     "name": "stderr",
     "output_type": "stream",
     "text": [
      "Loss: 0.3562: 100%|██████████| 126/126 [00:40<00:00,  3.14it/s]\n",
      "Val Loss: 0.3345: 100%|██████████| 32/32 [00:08<00:00,  3.79it/s]\n"
     ]
    },
    {
     "name": "stdout",
     "output_type": "stream",
     "text": [
      "Epoch 16 | Train Loss: 0.6128 | Train F1: 0.8113 | Val Loss: 0.4415 | Val F1: 0.9566\n"
     ]
    },
    {
     "name": "stderr",
     "output_type": "stream",
     "text": [
      "Loss: 0.5659: 100%|██████████| 126/126 [00:40<00:00,  3.15it/s]\n",
      "Val Loss: 0.3355: 100%|██████████| 32/32 [00:08<00:00,  3.75it/s]\n"
     ]
    },
    {
     "name": "stdout",
     "output_type": "stream",
     "text": [
      "Epoch 17 | Train Loss: 0.6461 | Train F1: 0.8245 | Val Loss: 0.4239 | Val F1: 0.9624\n"
     ]
    },
    {
     "name": "stderr",
     "output_type": "stream",
     "text": [
      "Loss: 0.3223: 100%|██████████| 126/126 [00:40<00:00,  3.14it/s]\n",
      "Val Loss: 0.3720: 100%|██████████| 32/32 [00:08<00:00,  3.76it/s]\n"
     ]
    },
    {
     "name": "stdout",
     "output_type": "stream",
     "text": [
      "Epoch 18 | Train Loss: 0.5720 | Train F1: 0.8462 | Val Loss: 0.4527 | Val F1: 0.9489\n"
     ]
    },
    {
     "name": "stderr",
     "output_type": "stream",
     "text": [
      "Loss: 0.3254: 100%|██████████| 126/126 [00:40<00:00,  3.14it/s]\n",
      "Val Loss: 0.3366: 100%|██████████| 32/32 [00:08<00:00,  3.76it/s]\n"
     ]
    },
    {
     "name": "stdout",
     "output_type": "stream",
     "text": [
      "Epoch 19 | Train Loss: 0.5383 | Train F1: 0.8651 | Val Loss: 0.4205 | Val F1: 0.9699\n"
     ]
    },
    {
     "name": "stderr",
     "output_type": "stream",
     "text": [
      "Loss: 0.3352: 100%|██████████| 126/126 [00:39<00:00,  3.16it/s]\n",
      "Val Loss: 0.3257: 100%|██████████| 32/32 [00:08<00:00,  3.76it/s]\n"
     ]
    },
    {
     "name": "stdout",
     "output_type": "stream",
     "text": [
      "Epoch 20 | Train Loss: 0.5601 | Train F1: 0.8515 | Val Loss: 0.4346 | Val F1: 0.9713\n"
     ]
    },
    {
     "name": "stderr",
     "output_type": "stream",
     "text": [
      "Loss: 0.6245: 100%|██████████| 126/126 [00:40<00:00,  3.14it/s]\n",
      "Val Loss: 0.3369: 100%|██████████| 32/32 [00:08<00:00,  3.76it/s]\n"
     ]
    },
    {
     "name": "stdout",
     "output_type": "stream",
     "text": [
      "Epoch 21 | Train Loss: 0.5213 | Train F1: 0.9054 | Val Loss: 0.4161 | Val F1: 0.9760\n"
     ]
    },
    {
     "name": "stderr",
     "output_type": "stream",
     "text": [
      "Loss: 0.3232: 100%|██████████| 126/126 [00:40<00:00,  3.15it/s]\n",
      "Val Loss: 0.3285: 100%|██████████| 32/32 [00:08<00:00,  3.78it/s]\n"
     ]
    },
    {
     "name": "stdout",
     "output_type": "stream",
     "text": [
      "Epoch 22 | Train Loss: 0.5256 | Train F1: 0.8805 | Val Loss: 0.4168 | Val F1: 0.9692\n"
     ]
    },
    {
     "name": "stderr",
     "output_type": "stream",
     "text": [
      "Loss: 0.3293: 100%|██████████| 126/126 [00:40<00:00,  3.15it/s]\n",
      "Val Loss: 0.3389: 100%|██████████| 32/32 [00:08<00:00,  3.77it/s]\n"
     ]
    },
    {
     "name": "stdout",
     "output_type": "stream",
     "text": [
      "Epoch 23 | Train Loss: 0.5318 | Train F1: 0.8326 | Val Loss: 0.4258 | Val F1: 0.9725\n"
     ]
    },
    {
     "name": "stderr",
     "output_type": "stream",
     "text": [
      "Loss: 0.3228: 100%|██████████| 126/126 [00:40<00:00,  3.15it/s]\n",
      "Val Loss: 0.3241: 100%|██████████| 32/32 [00:08<00:00,  3.80it/s]\n"
     ]
    },
    {
     "name": "stdout",
     "output_type": "stream",
     "text": [
      "Epoch 24 | Train Loss: 0.5824 | Train F1: 0.8411 | Val Loss: 0.4510 | Val F1: 0.9674\n"
     ]
    },
    {
     "name": "stderr",
     "output_type": "stream",
     "text": [
      "Loss: 1.4688: 100%|██████████| 126/126 [00:40<00:00,  3.15it/s]\n",
      "Val Loss: 0.3433: 100%|██████████| 32/32 [00:08<00:00,  3.81it/s]\n"
     ]
    },
    {
     "name": "stdout",
     "output_type": "stream",
     "text": [
      "Epoch 25 | Train Loss: 0.5820 | Train F1: 0.8472 | Val Loss: 0.3932 | Val F1: 0.9775\n"
     ]
    },
    {
     "name": "stderr",
     "output_type": "stream",
     "text": [
      "Loss: 1.9883: 100%|██████████| 126/126 [00:40<00:00,  3.15it/s]\n",
      "Val Loss: 0.3225: 100%|██████████| 32/32 [00:08<00:00,  3.79it/s]\n"
     ]
    },
    {
     "name": "stdout",
     "output_type": "stream",
     "text": [
      "Epoch 26 | Train Loss: 0.6086 | Train F1: 0.7941 | Val Loss: 0.4225 | Val F1: 0.9673\n"
     ]
    },
    {
     "name": "stderr",
     "output_type": "stream",
     "text": [
      "Loss: 0.4189: 100%|██████████| 126/126 [00:40<00:00,  3.14it/s]\n",
      "Val Loss: 0.3262: 100%|██████████| 32/32 [00:08<00:00,  3.76it/s]\n"
     ]
    },
    {
     "name": "stdout",
     "output_type": "stream",
     "text": [
      "Epoch 27 | Train Loss: 0.5603 | Train F1: 0.8433 | Val Loss: 0.4012 | Val F1: 0.9736\n"
     ]
    },
    {
     "name": "stderr",
     "output_type": "stream",
     "text": [
      "Loss: 0.7832: 100%|██████████| 126/126 [00:40<00:00,  3.14it/s]\n",
      "Val Loss: 0.3234: 100%|██████████| 32/32 [00:08<00:00,  3.77it/s]\n"
     ]
    },
    {
     "name": "stdout",
     "output_type": "stream",
     "text": [
      "Epoch 28 | Train Loss: 0.5519 | Train F1: 0.8584 | Val Loss: 0.4023 | Val F1: 0.9753\n"
     ]
    },
    {
     "name": "stderr",
     "output_type": "stream",
     "text": [
      "Loss: 0.3232: 100%|██████████| 126/126 [00:40<00:00,  3.14it/s]\n",
      "Val Loss: 0.3236: 100%|██████████| 32/32 [00:08<00:00,  3.78it/s]"
     ]
    },
    {
     "name": "stdout",
     "output_type": "stream",
     "text": [
      "Epoch 29 | Train Loss: 0.5563 | Train F1: 0.8304 | Val Loss: 0.4006 | Val F1: 0.9796\n"
     ]
    },
    {
     "name": "stderr",
     "output_type": "stream",
     "text": [
      "\n",
      "Loss: 0.3210: 100%|██████████| 126/126 [00:40<00:00,  3.14it/s]\n",
      "Val Loss: 0.3806: 100%|██████████| 32/32 [00:08<00:00,  3.77it/s]\n"
     ]
    },
    {
     "name": "stdout",
     "output_type": "stream",
     "text": [
      "Epoch 30 | Train Loss: 0.5298 | Train F1: 0.8893 | Val Loss: 0.3993 | Val F1: 0.9789\n"
     ]
    },
    {
     "name": "stderr",
     "output_type": "stream",
     "text": [
      "Loss: 0.3213: 100%|██████████| 126/126 [00:39<00:00,  3.15it/s]\n",
      "Val Loss: 0.3235: 100%|██████████| 32/32 [00:08<00:00,  3.77it/s]\n"
     ]
    },
    {
     "name": "stdout",
     "output_type": "stream",
     "text": [
      "Epoch 31 | Train Loss: 0.5024 | Train F1: 0.8922 | Val Loss: 0.4356 | Val F1: 0.9690\n"
     ]
    },
    {
     "name": "stderr",
     "output_type": "stream",
     "text": [
      "Loss: 0.9717: 100%|██████████| 126/126 [00:39<00:00,  3.15it/s]\n",
      "Val Loss: 0.3291: 100%|██████████| 32/32 [00:08<00:00,  3.76it/s]\n"
     ]
    },
    {
     "name": "stdout",
     "output_type": "stream",
     "text": [
      "Epoch 32 | Train Loss: 0.5290 | Train F1: 0.8567 | Val Loss: 0.4306 | Val F1: 0.9657\n"
     ]
    },
    {
     "name": "stderr",
     "output_type": "stream",
     "text": [
      "Loss: 0.3203: 100%|██████████| 126/126 [00:40<00:00,  3.15it/s]\n",
      "Val Loss: 0.3223: 100%|██████████| 32/32 [00:08<00:00,  3.77it/s]"
     ]
    },
    {
     "name": "stdout",
     "output_type": "stream",
     "text": [
      "Epoch 33 | Train Loss: 0.5120 | Train F1: 0.8809 | Val Loss: 0.3809 | Val F1: 0.9834\n"
     ]
    },
    {
     "name": "stderr",
     "output_type": "stream",
     "text": [
      "\n",
      "Loss: 0.3652: 100%|██████████| 126/126 [00:39<00:00,  3.15it/s]\n",
      "Val Loss: 0.3290: 100%|██████████| 32/32 [00:08<00:00,  3.76it/s]\n"
     ]
    },
    {
     "name": "stdout",
     "output_type": "stream",
     "text": [
      "Epoch 34 | Train Loss: 0.5821 | Train F1: 0.8668 | Val Loss: 0.4620 | Val F1: 0.9476\n"
     ]
    },
    {
     "name": "stderr",
     "output_type": "stream",
     "text": [
      "Loss: 0.3242: 100%|██████████| 126/126 [00:40<00:00,  3.14it/s]\n",
      "Val Loss: 0.3208: 100%|██████████| 32/32 [00:08<00:00,  3.76it/s]\n"
     ]
    },
    {
     "name": "stdout",
     "output_type": "stream",
     "text": [
      "Epoch 35 | Train Loss: 0.5776 | Train F1: 0.8798 | Val Loss: 0.4151 | Val F1: 0.9766\n"
     ]
    },
    {
     "name": "stderr",
     "output_type": "stream",
     "text": [
      "Loss: 1.2959: 100%|██████████| 126/126 [00:39<00:00,  3.15it/s]\n",
      "Val Loss: 0.3220: 100%|██████████| 32/32 [00:08<00:00,  3.79it/s]\n"
     ]
    },
    {
     "name": "stdout",
     "output_type": "stream",
     "text": [
      "Epoch 36 | Train Loss: 0.5444 | Train F1: 0.8734 | Val Loss: 0.4170 | Val F1: 0.9764\n"
     ]
    },
    {
     "name": "stderr",
     "output_type": "stream",
     "text": [
      "Loss: 0.5806: 100%|██████████| 126/126 [00:40<00:00,  3.15it/s]\n",
      "Val Loss: 0.3213: 100%|██████████| 32/32 [00:08<00:00,  3.75it/s]\n"
     ]
    },
    {
     "name": "stdout",
     "output_type": "stream",
     "text": [
      "Epoch 37 | Train Loss: 0.5554 | Train F1: 0.8616 | Val Loss: 0.4223 | Val F1: 0.9578\n"
     ]
    },
    {
     "name": "stderr",
     "output_type": "stream",
     "text": [
      "Loss: 0.3230: 100%|██████████| 126/126 [00:40<00:00,  3.15it/s]\n",
      "Val Loss: 0.3225: 100%|██████████| 32/32 [00:08<00:00,  3.75it/s]\n"
     ]
    },
    {
     "name": "stdout",
     "output_type": "stream",
     "text": [
      "Epoch 38 | Train Loss: 0.5723 | Train F1: 0.8342 | Val Loss: 0.4084 | Val F1: 0.9683\n"
     ]
    },
    {
     "name": "stderr",
     "output_type": "stream",
     "text": [
      "Loss: 0.3271: 100%|██████████| 126/126 [00:39<00:00,  3.15it/s]\n",
      "Val Loss: 0.3206: 100%|██████████| 32/32 [00:08<00:00,  3.82it/s]\n"
     ]
    },
    {
     "name": "stdout",
     "output_type": "stream",
     "text": [
      "Epoch 39 | Train Loss: 0.5345 | Train F1: 0.8859 | Val Loss: 0.3964 | Val F1: 0.9804\n"
     ]
    },
    {
     "name": "stderr",
     "output_type": "stream",
     "text": [
      "Loss: 0.3208: 100%|██████████| 126/126 [00:40<00:00,  3.15it/s]\n",
      "Val Loss: 0.3213: 100%|██████████| 32/32 [00:08<00:00,  3.76it/s]\n"
     ]
    },
    {
     "name": "stdout",
     "output_type": "stream",
     "text": [
      "Epoch 40 | Train Loss: 0.5174 | Train F1: 0.8851 | Val Loss: 0.3905 | Val F1: 0.9763\n"
     ]
    },
    {
     "name": "stderr",
     "output_type": "stream",
     "text": [
      "Loss: 0.3242: 100%|██████████| 126/126 [00:39<00:00,  3.16it/s]\n",
      "Val Loss: 0.3210: 100%|██████████| 32/32 [00:08<00:00,  3.77it/s]\n"
     ]
    },
    {
     "name": "stdout",
     "output_type": "stream",
     "text": [
      "Epoch 41 | Train Loss: 0.5029 | Train F1: 0.9051 | Val Loss: 0.4694 | Val F1: 0.9557\n"
     ]
    },
    {
     "name": "stderr",
     "output_type": "stream",
     "text": [
      "Loss: 0.3213: 100%|██████████| 126/126 [00:39<00:00,  3.15it/s]\n",
      "Val Loss: 0.3209: 100%|██████████| 32/32 [00:08<00:00,  3.77it/s]\n"
     ]
    },
    {
     "name": "stdout",
     "output_type": "stream",
     "text": [
      "Epoch 42 | Train Loss: 0.5161 | Train F1: 0.8685 | Val Loss: 0.4369 | Val F1: 0.9695\n"
     ]
    },
    {
     "name": "stderr",
     "output_type": "stream",
     "text": [
      "Loss: 0.3435: 100%|██████████| 126/126 [00:39<00:00,  3.16it/s]\n",
      "Val Loss: 0.3205: 100%|██████████| 32/32 [00:08<00:00,  3.79it/s]\n"
     ]
    },
    {
     "name": "stdout",
     "output_type": "stream",
     "text": [
      "Epoch 43 | Train Loss: 0.5001 | Train F1: 0.8724 | Val Loss: 0.4084 | Val F1: 0.9746\n"
     ]
    },
    {
     "name": "stderr",
     "output_type": "stream",
     "text": [
      "Loss: 0.3210: 100%|██████████| 126/126 [00:39<00:00,  3.15it/s]\n",
      "Val Loss: 0.3239: 100%|██████████| 32/32 [00:08<00:00,  3.79it/s]\n"
     ]
    },
    {
     "name": "stdout",
     "output_type": "stream",
     "text": [
      "Epoch 44 | Train Loss: 0.5243 | Train F1: 0.8620 | Val Loss: 0.3853 | Val F1: 0.9782\n"
     ]
    },
    {
     "name": "stderr",
     "output_type": "stream",
     "text": [
      "Loss: 0.3210: 100%|██████████| 126/126 [00:40<00:00,  3.14it/s]\n",
      "Val Loss: 0.3207: 100%|██████████| 32/32 [00:08<00:00,  3.74it/s]\n"
     ]
    },
    {
     "name": "stdout",
     "output_type": "stream",
     "text": [
      "Epoch 45 | Train Loss: 0.4854 | Train F1: 0.8683 | Val Loss: 0.4115 | Val F1: 0.9732\n"
     ]
    },
    {
     "name": "stderr",
     "output_type": "stream",
     "text": [
      "Loss: 0.3242: 100%|██████████| 126/126 [00:39<00:00,  3.16it/s]\n",
      "Val Loss: 0.3215: 100%|██████████| 32/32 [00:08<00:00,  3.76it/s]\n"
     ]
    },
    {
     "name": "stdout",
     "output_type": "stream",
     "text": [
      "Epoch 46 | Train Loss: 0.5455 | Train F1: 0.8568 | Val Loss: 0.4053 | Val F1: 0.9751\n"
     ]
    },
    {
     "name": "stderr",
     "output_type": "stream",
     "text": [
      "Loss: 0.3203: 100%|██████████| 126/126 [00:39<00:00,  3.16it/s]\n",
      "Val Loss: 0.3204: 100%|██████████| 32/32 [00:08<00:00,  3.78it/s]\n"
     ]
    },
    {
     "name": "stdout",
     "output_type": "stream",
     "text": [
      "Epoch 47 | Train Loss: 0.4865 | Train F1: 0.9034 | Val Loss: 0.4103 | Val F1: 0.9667\n"
     ]
    },
    {
     "name": "stderr",
     "output_type": "stream",
     "text": [
      "Loss: 0.3206: 100%|██████████| 126/126 [00:39<00:00,  3.16it/s]\n",
      "Val Loss: 0.3204: 100%|██████████| 32/32 [00:08<00:00,  3.78it/s]\n"
     ]
    },
    {
     "name": "stdout",
     "output_type": "stream",
     "text": [
      "Epoch 48 | Train Loss: 0.5074 | Train F1: 0.8824 | Val Loss: 0.4118 | Val F1: 0.9804\n"
     ]
    },
    {
     "name": "stderr",
     "output_type": "stream",
     "text": [
      "Loss: 0.3208: 100%|██████████| 126/126 [00:40<00:00,  3.15it/s]\n",
      "Val Loss: 0.3206: 100%|██████████| 32/32 [00:08<00:00,  3.80it/s]\n"
     ]
    },
    {
     "name": "stdout",
     "output_type": "stream",
     "text": [
      "Epoch 49 | Train Loss: 0.4837 | Train F1: 0.8669 | Val Loss: 0.4539 | Val F1: 0.9716\n"
     ]
    },
    {
     "name": "stderr",
     "output_type": "stream",
     "text": [
      "Loss: 0.3206: 100%|██████████| 126/126 [00:39<00:00,  3.15it/s]\n",
      "Val Loss: 0.3205: 100%|██████████| 32/32 [00:08<00:00,  3.76it/s]\n"
     ]
    },
    {
     "name": "stdout",
     "output_type": "stream",
     "text": [
      "Epoch 50 | Train Loss: 0.4911 | Train F1: 0.9040 | Val Loss: 0.4068 | Val F1: 0.9778\n"
     ]
    },
    {
     "name": "stderr",
     "output_type": "stream",
     "text": [
      "Loss: 0.3208: 100%|██████████| 126/126 [00:39<00:00,  3.16it/s]\n",
      "Val Loss: 0.3207: 100%|██████████| 32/32 [00:08<00:00,  3.81it/s]\n"
     ]
    },
    {
     "name": "stdout",
     "output_type": "stream",
     "text": [
      "Epoch 51 | Train Loss: 0.5062 | Train F1: 0.8912 | Val Loss: 0.3978 | Val F1: 0.9804\n"
     ]
    },
    {
     "name": "stderr",
     "output_type": "stream",
     "text": [
      "Loss: 1.4814: 100%|██████████| 126/126 [00:40<00:00,  3.15it/s]\n",
      "Val Loss: 0.3205: 100%|██████████| 32/32 [00:08<00:00,  3.76it/s]\n"
     ]
    },
    {
     "name": "stdout",
     "output_type": "stream",
     "text": [
      "Epoch 52 | Train Loss: 0.5325 | Train F1: 0.8594 | Val Loss: 0.4051 | Val F1: 0.9745\n"
     ]
    },
    {
     "name": "stderr",
     "output_type": "stream",
     "text": [
      "Loss: 0.8281: 100%|██████████| 126/126 [00:39<00:00,  3.16it/s]\n",
      "Val Loss: 0.3212: 100%|██████████| 32/32 [00:08<00:00,  3.74it/s]\n"
     ]
    },
    {
     "name": "stdout",
     "output_type": "stream",
     "text": [
      "Epoch 53 | Train Loss: 0.5655 | Train F1: 0.7991 | Val Loss: 0.3870 | Val F1: 0.9834\n"
     ]
    },
    {
     "name": "stderr",
     "output_type": "stream",
     "text": [
      "Loss: 0.3210: 100%|██████████| 126/126 [00:39<00:00,  3.16it/s]\n",
      "Val Loss: 0.3204: 100%|██████████| 32/32 [00:08<00:00,  3.77it/s]\n"
     ]
    },
    {
     "name": "stdout",
     "output_type": "stream",
     "text": [
      "Epoch 54 | Train Loss: 0.5677 | Train F1: 0.8530 | Val Loss: 0.4015 | Val F1: 0.9756\n"
     ]
    },
    {
     "name": "stderr",
     "output_type": "stream",
     "text": [
      "Loss: 0.8462: 100%|██████████| 126/126 [00:39<00:00,  3.16it/s]\n",
      "Val Loss: 0.3208: 100%|██████████| 32/32 [00:08<00:00,  3.77it/s]\n"
     ]
    },
    {
     "name": "stdout",
     "output_type": "stream",
     "text": [
      "Epoch 55 | Train Loss: 0.5226 | Train F1: 0.8379 | Val Loss: 0.4141 | Val F1: 0.9745\n"
     ]
    },
    {
     "name": "stderr",
     "output_type": "stream",
     "text": [
      "Loss: 0.3206: 100%|██████████| 126/126 [00:39<00:00,  3.15it/s]\n",
      "Val Loss: 0.3209: 100%|██████████| 32/32 [00:08<00:00,  3.80it/s]"
     ]
    },
    {
     "name": "stdout",
     "output_type": "stream",
     "text": [
      "Epoch 56 | Train Loss: 0.4926 | Train F1: 0.8689 | Val Loss: 0.3718 | Val F1: 0.9866\n"
     ]
    },
    {
     "name": "stderr",
     "output_type": "stream",
     "text": [
      "\n",
      "Loss: 0.3208: 100%|██████████| 126/126 [00:39<00:00,  3.16it/s]\n",
      "Val Loss: 0.3206: 100%|██████████| 32/32 [00:08<00:00,  3.74it/s]\n"
     ]
    },
    {
     "name": "stdout",
     "output_type": "stream",
     "text": [
      "Epoch 57 | Train Loss: 0.4925 | Train F1: 0.8781 | Val Loss: 0.3807 | Val F1: 0.9824\n"
     ]
    },
    {
     "name": "stderr",
     "output_type": "stream",
     "text": [
      "Loss: 0.3799: 100%|██████████| 126/126 [00:39<00:00,  3.16it/s]\n",
      "Val Loss: 0.3207: 100%|██████████| 32/32 [00:08<00:00,  3.76it/s]\n"
     ]
    },
    {
     "name": "stdout",
     "output_type": "stream",
     "text": [
      "Epoch 58 | Train Loss: 0.4938 | Train F1: 0.8993 | Val Loss: 0.3832 | Val F1: 0.9783\n"
     ]
    },
    {
     "name": "stderr",
     "output_type": "stream",
     "text": [
      "Loss: 0.3208: 100%|██████████| 126/126 [00:39<00:00,  3.15it/s]\n",
      "Val Loss: 0.3224: 100%|██████████| 32/32 [00:08<00:00,  3.74it/s]\n"
     ]
    },
    {
     "name": "stdout",
     "output_type": "stream",
     "text": [
      "Epoch 59 | Train Loss: 0.5407 | Train F1: 0.8307 | Val Loss: 0.4054 | Val F1: 0.9773\n"
     ]
    },
    {
     "name": "stderr",
     "output_type": "stream",
     "text": [
      "Loss: 0.3208: 100%|██████████| 126/126 [00:39<00:00,  3.16it/s]\n",
      "Val Loss: 0.3548: 100%|██████████| 32/32 [00:08<00:00,  3.80it/s]\n"
     ]
    },
    {
     "name": "stdout",
     "output_type": "stream",
     "text": [
      "Epoch 60 | Train Loss: 0.5194 | Train F1: 0.8515 | Val Loss: 0.4007 | Val F1: 0.9751\n"
     ]
    },
    {
     "name": "stderr",
     "output_type": "stream",
     "text": [
      "Loss: 0.3210: 100%|██████████| 126/126 [00:39<00:00,  3.15it/s]\n",
      "Val Loss: 0.3203: 100%|██████████| 32/32 [00:08<00:00,  3.73it/s]\n"
     ]
    },
    {
     "name": "stdout",
     "output_type": "stream",
     "text": [
      "Epoch 61 | Train Loss: 0.5460 | Train F1: 0.8779 | Val Loss: 0.4070 | Val F1: 0.9793\n"
     ]
    },
    {
     "name": "stderr",
     "output_type": "stream",
     "text": [
      "Loss: 0.3206: 100%|██████████| 126/126 [00:39<00:00,  3.16it/s]\n",
      "Val Loss: 0.3203: 100%|██████████| 32/32 [00:08<00:00,  3.79it/s]\n"
     ]
    },
    {
     "name": "stdout",
     "output_type": "stream",
     "text": [
      "Epoch 62 | Train Loss: 0.4814 | Train F1: 0.8646 | Val Loss: 0.3986 | Val F1: 0.9806\n"
     ]
    },
    {
     "name": "stderr",
     "output_type": "stream",
     "text": [
      "Loss: 0.3203: 100%|██████████| 126/126 [00:40<00:00,  3.15it/s]\n",
      "Val Loss: 0.3204: 100%|██████████| 32/32 [00:08<00:00,  3.75it/s]"
     ]
    },
    {
     "name": "stdout",
     "output_type": "stream",
     "text": [
      "Epoch 63 | Train Loss: 0.5427 | Train F1: 0.8699 | Val Loss: 0.3729 | Val F1: 0.9867\n"
     ]
    },
    {
     "name": "stderr",
     "output_type": "stream",
     "text": [
      "\n",
      "Loss: 0.3203: 100%|██████████| 126/126 [00:39<00:00,  3.16it/s]\n",
      "Val Loss: 0.3203: 100%|██████████| 32/32 [00:08<00:00,  3.74it/s]"
     ]
    },
    {
     "name": "stdout",
     "output_type": "stream",
     "text": [
      "Epoch 64 | Train Loss: 0.4824 | Train F1: 0.8861 | Val Loss: 0.3780 | Val F1: 0.9897\n"
     ]
    },
    {
     "name": "stderr",
     "output_type": "stream",
     "text": [
      "\n",
      "Loss: 0.3210: 100%|██████████| 126/126 [00:39<00:00,  3.16it/s]\n",
      "Val Loss: 0.3205: 100%|██████████| 32/32 [00:08<00:00,  3.77it/s]\n"
     ]
    },
    {
     "name": "stdout",
     "output_type": "stream",
     "text": [
      "Epoch 65 | Train Loss: 0.5140 | Train F1: 0.8523 | Val Loss: 0.3888 | Val F1: 0.9794\n"
     ]
    },
    {
     "name": "stderr",
     "output_type": "stream",
     "text": [
      "Loss: 0.3203: 100%|██████████| 126/126 [00:39<00:00,  3.15it/s]\n",
      "Val Loss: 0.3204: 100%|██████████| 32/32 [00:08<00:00,  3.78it/s]\n"
     ]
    },
    {
     "name": "stdout",
     "output_type": "stream",
     "text": [
      "Epoch 66 | Train Loss: 0.4861 | Train F1: 0.8653 | Val Loss: 0.3743 | Val F1: 0.9853\n"
     ]
    },
    {
     "name": "stderr",
     "output_type": "stream",
     "text": [
      "Loss: 0.5449: 100%|██████████| 126/126 [00:39<00:00,  3.16it/s]\n",
      "Val Loss: 0.3205: 100%|██████████| 32/32 [00:08<00:00,  3.75it/s]\n"
     ]
    },
    {
     "name": "stdout",
     "output_type": "stream",
     "text": [
      "Epoch 67 | Train Loss: 0.5152 | Train F1: 0.8552 | Val Loss: 0.3905 | Val F1: 0.9806\n"
     ]
    },
    {
     "name": "stderr",
     "output_type": "stream",
     "text": [
      "Loss: 0.7183: 100%|██████████| 126/126 [00:39<00:00,  3.16it/s]\n",
      "Val Loss: 0.3203: 100%|██████████| 32/32 [00:08<00:00,  3.77it/s]\n"
     ]
    },
    {
     "name": "stdout",
     "output_type": "stream",
     "text": [
      "Epoch 68 | Train Loss: 0.5200 | Train F1: 0.8388 | Val Loss: 0.4224 | Val F1: 0.9710\n"
     ]
    },
    {
     "name": "stderr",
     "output_type": "stream",
     "text": [
      "Loss: 0.3203: 100%|██████████| 126/126 [00:39<00:00,  3.16it/s]\n",
      "Val Loss: 0.3205: 100%|██████████| 32/32 [00:08<00:00,  3.76it/s]\n"
     ]
    },
    {
     "name": "stdout",
     "output_type": "stream",
     "text": [
      "Epoch 69 | Train Loss: 0.5134 | Train F1: 0.8538 | Val Loss: 0.3944 | Val F1: 0.9789\n"
     ]
    },
    {
     "name": "stderr",
     "output_type": "stream",
     "text": [
      "Loss: 0.3203: 100%|██████████| 126/126 [00:39<00:00,  3.15it/s]\n",
      "Val Loss: 0.3203: 100%|██████████| 32/32 [00:08<00:00,  3.78it/s]\n"
     ]
    },
    {
     "name": "stdout",
     "output_type": "stream",
     "text": [
      "Epoch 70 | Train Loss: 0.5125 | Train F1: 0.8679 | Val Loss: 0.4031 | Val F1: 0.9774\n"
     ]
    },
    {
     "name": "stderr",
     "output_type": "stream",
     "text": [
      "Loss: 0.3203: 100%|██████████| 126/126 [00:39<00:00,  3.16it/s]\n",
      "Val Loss: 0.3204: 100%|██████████| 32/32 [00:08<00:00,  3.74it/s]\n"
     ]
    },
    {
     "name": "stdout",
     "output_type": "stream",
     "text": [
      "Epoch 71 | Train Loss: 0.5039 | Train F1: 0.8707 | Val Loss: 0.3816 | Val F1: 0.9819\n"
     ]
    },
    {
     "name": "stderr",
     "output_type": "stream",
     "text": [
      "Loss: 0.3203: 100%|██████████| 126/126 [00:39<00:00,  3.16it/s]\n",
      "Val Loss: 0.3206: 100%|██████████| 32/32 [00:08<00:00,  3.75it/s]\n"
     ]
    },
    {
     "name": "stdout",
     "output_type": "stream",
     "text": [
      "Epoch 72 | Train Loss: 0.4740 | Train F1: 0.8667 | Val Loss: 0.3932 | Val F1: 0.9834\n"
     ]
    },
    {
     "name": "stderr",
     "output_type": "stream",
     "text": [
      "Loss: 0.3203: 100%|██████████| 126/126 [00:39<00:00,  3.15it/s]\n",
      "Val Loss: 0.3203: 100%|██████████| 32/32 [00:08<00:00,  3.76it/s]\n"
     ]
    },
    {
     "name": "stdout",
     "output_type": "stream",
     "text": [
      "Epoch 73 | Train Loss: 0.5079 | Train F1: 0.8893 | Val Loss: 0.3834 | Val F1: 0.9819\n"
     ]
    },
    {
     "name": "stderr",
     "output_type": "stream",
     "text": [
      "Loss: 0.3201: 100%|██████████| 126/126 [00:39<00:00,  3.17it/s]\n",
      "Val Loss: 0.3206: 100%|██████████| 32/32 [00:08<00:00,  3.77it/s]\n"
     ]
    },
    {
     "name": "stdout",
     "output_type": "stream",
     "text": [
      "Epoch 74 | Train Loss: 0.4800 | Train F1: 0.8615 | Val Loss: 0.3833 | Val F1: 0.9823\n"
     ]
    },
    {
     "name": "stderr",
     "output_type": "stream",
     "text": [
      "Loss: 0.3691: 100%|██████████| 126/126 [00:39<00:00,  3.16it/s]\n",
      "Val Loss: 0.3204: 100%|██████████| 32/32 [00:08<00:00,  3.79it/s]\n"
     ]
    },
    {
     "name": "stdout",
     "output_type": "stream",
     "text": [
      "Epoch 75 | Train Loss: 0.4917 | Train F1: 0.9028 | Val Loss: 0.4030 | Val F1: 0.9810\n"
     ]
    },
    {
     "name": "stderr",
     "output_type": "stream",
     "text": [
      "Loss: 0.3206: 100%|██████████| 126/126 [00:39<00:00,  3.16it/s]\n",
      "Val Loss: 0.3203: 100%|██████████| 32/32 [00:08<00:00,  3.78it/s]\n"
     ]
    },
    {
     "name": "stdout",
     "output_type": "stream",
     "text": [
      "Epoch 76 | Train Loss: 0.4556 | Train F1: 0.8758 | Val Loss: 0.3972 | Val F1: 0.9790\n"
     ]
    },
    {
     "name": "stderr",
     "output_type": "stream",
     "text": [
      "Loss: 0.6738: 100%|██████████| 126/126 [00:39<00:00,  3.16it/s]\n",
      "Val Loss: 0.3204: 100%|██████████| 32/32 [00:08<00:00,  3.78it/s]\n"
     ]
    },
    {
     "name": "stdout",
     "output_type": "stream",
     "text": [
      "Epoch 77 | Train Loss: 0.5252 | Train F1: 0.8652 | Val Loss: 0.3813 | Val F1: 0.9819\n"
     ]
    },
    {
     "name": "stderr",
     "output_type": "stream",
     "text": [
      "Loss: 0.3203: 100%|██████████| 126/126 [00:39<00:00,  3.17it/s]\n",
      "Val Loss: 0.3204: 100%|██████████| 32/32 [00:08<00:00,  3.78it/s]\n"
     ]
    },
    {
     "name": "stdout",
     "output_type": "stream",
     "text": [
      "Epoch 78 | Train Loss: 0.5266 | Train F1: 0.8381 | Val Loss: 0.3811 | Val F1: 0.9819\n"
     ]
    },
    {
     "name": "stderr",
     "output_type": "stream",
     "text": [
      "Loss: 0.9194: 100%|██████████| 126/126 [00:39<00:00,  3.16it/s]\n",
      "Val Loss: 0.3205: 100%|██████████| 32/32 [00:08<00:00,  3.74it/s]\n"
     ]
    },
    {
     "name": "stdout",
     "output_type": "stream",
     "text": [
      "Epoch 79 | Train Loss: 0.4901 | Train F1: 0.8927 | Val Loss: 0.3756 | Val F1: 0.9867\n"
     ]
    },
    {
     "name": "stderr",
     "output_type": "stream",
     "text": [
      "Loss: 0.7451: 100%|██████████| 126/126 [00:39<00:00,  3.16it/s]\n",
      "Val Loss: 0.3203: 100%|██████████| 32/32 [00:08<00:00,  3.80it/s]\n"
     ]
    },
    {
     "name": "stdout",
     "output_type": "stream",
     "text": [
      "Epoch 80 | Train Loss: 0.5346 | Train F1: 0.8372 | Val Loss: 0.4025 | Val F1: 0.9808\n"
     ]
    },
    {
     "name": "stderr",
     "output_type": "stream",
     "text": [
      "Loss: 0.8818: 100%|██████████| 126/126 [00:39<00:00,  3.16it/s]\n",
      "Val Loss: 0.3203: 100%|██████████| 32/32 [00:08<00:00,  3.76it/s]\n"
     ]
    },
    {
     "name": "stdout",
     "output_type": "stream",
     "text": [
      "Epoch 81 | Train Loss: 0.4826 | Train F1: 0.8584 | Val Loss: 0.3948 | Val F1: 0.9834\n"
     ]
    },
    {
     "name": "stderr",
     "output_type": "stream",
     "text": [
      "Loss: 0.3203: 100%|██████████| 126/126 [00:39<00:00,  3.16it/s]\n",
      "Val Loss: 0.3203: 100%|██████████| 32/32 [00:08<00:00,  3.78it/s]\n"
     ]
    },
    {
     "name": "stdout",
     "output_type": "stream",
     "text": [
      "Epoch 82 | Train Loss: 0.4767 | Train F1: 0.8459 | Val Loss: 0.3828 | Val F1: 0.9824\n"
     ]
    },
    {
     "name": "stderr",
     "output_type": "stream",
     "text": [
      "Loss: 0.9126: 100%|██████████| 126/126 [00:39<00:00,  3.16it/s]\n",
      "Val Loss: 0.3203: 100%|██████████| 32/32 [00:08<00:00,  3.78it/s]\n"
     ]
    },
    {
     "name": "stdout",
     "output_type": "stream",
     "text": [
      "Epoch 83 | Train Loss: 0.5412 | Train F1: 0.8172 | Val Loss: 0.3805 | Val F1: 0.9794\n"
     ]
    },
    {
     "name": "stderr",
     "output_type": "stream",
     "text": [
      "Loss: 0.3203: 100%|██████████| 126/126 [00:40<00:00,  3.15it/s]\n",
      "Val Loss: 0.3203: 100%|██████████| 32/32 [00:08<00:00,  3.73it/s]\n"
     ]
    },
    {
     "name": "stdout",
     "output_type": "stream",
     "text": [
      "Epoch 84 | Train Loss: 0.5061 | Train F1: 0.8422 | Val Loss: 0.3870 | Val F1: 0.9820\n"
     ]
    },
    {
     "name": "stderr",
     "output_type": "stream",
     "text": [
      "Loss: 0.3203: 100%|██████████| 126/126 [00:39<00:00,  3.16it/s]\n",
      "Val Loss: 0.3203: 100%|██████████| 32/32 [00:08<00:00,  3.74it/s]\n"
     ]
    },
    {
     "name": "stdout",
     "output_type": "stream",
     "text": [
      "Epoch 85 | Train Loss: 0.4732 | Train F1: 0.8881 | Val Loss: 0.3827 | Val F1: 0.9867\n"
     ]
    },
    {
     "name": "stderr",
     "output_type": "stream",
     "text": [
      "Loss: 0.3252: 100%|██████████| 126/126 [00:39<00:00,  3.16it/s]\n",
      "Val Loss: 0.3203: 100%|██████████| 32/32 [00:08<00:00,  3.75it/s]\n"
     ]
    },
    {
     "name": "stdout",
     "output_type": "stream",
     "text": [
      "Epoch 86 | Train Loss: 0.4959 | Train F1: 0.8507 | Val Loss: 0.3844 | Val F1: 0.9837\n"
     ]
    },
    {
     "name": "stderr",
     "output_type": "stream",
     "text": [
      "Loss: 0.3201: 100%|██████████| 126/126 [00:39<00:00,  3.17it/s]\n",
      "Val Loss: 0.3203: 100%|██████████| 32/32 [00:08<00:00,  3.79it/s]\n"
     ]
    },
    {
     "name": "stdout",
     "output_type": "stream",
     "text": [
      "Epoch 87 | Train Loss: 0.4769 | Train F1: 0.9003 | Val Loss: 0.3952 | Val F1: 0.9775\n"
     ]
    },
    {
     "name": "stderr",
     "output_type": "stream",
     "text": [
      "Loss: 1.0469: 100%|██████████| 126/126 [00:39<00:00,  3.16it/s]\n",
      "Val Loss: 0.3203: 100%|██████████| 32/32 [00:08<00:00,  3.77it/s]\n"
     ]
    },
    {
     "name": "stdout",
     "output_type": "stream",
     "text": [
      "Epoch 88 | Train Loss: 0.5139 | Train F1: 0.8586 | Val Loss: 0.3761 | Val F1: 0.9823\n"
     ]
    },
    {
     "name": "stderr",
     "output_type": "stream",
     "text": [
      "Loss: 0.3203: 100%|██████████| 126/126 [00:39<00:00,  3.16it/s]\n",
      "Val Loss: 0.3203: 100%|██████████| 32/32 [00:08<00:00,  3.73it/s]\n"
     ]
    },
    {
     "name": "stdout",
     "output_type": "stream",
     "text": [
      "Epoch 89 | Train Loss: 0.4709 | Train F1: 0.9017 | Val Loss: 0.3960 | Val F1: 0.9838\n"
     ]
    },
    {
     "name": "stderr",
     "output_type": "stream",
     "text": [
      "Loss: 0.9038: 100%|██████████| 126/126 [00:39<00:00,  3.16it/s]\n",
      "Val Loss: 0.3203: 100%|██████████| 32/32 [00:08<00:00,  3.75it/s]\n"
     ]
    },
    {
     "name": "stdout",
     "output_type": "stream",
     "text": [
      "Epoch 90 | Train Loss: 0.4891 | Train F1: 0.8826 | Val Loss: 0.4040 | Val F1: 0.9806\n"
     ]
    },
    {
     "name": "stderr",
     "output_type": "stream",
     "text": [
      "Loss: 0.6260: 100%|██████████| 126/126 [00:39<00:00,  3.16it/s]\n",
      "Val Loss: 0.3203: 100%|██████████| 32/32 [00:08<00:00,  3.77it/s]\n"
     ]
    },
    {
     "name": "stdout",
     "output_type": "stream",
     "text": [
      "Epoch 91 | Train Loss: 0.5097 | Train F1: 0.8623 | Val Loss: 0.3867 | Val F1: 0.9805\n"
     ]
    },
    {
     "name": "stderr",
     "output_type": "stream",
     "text": [
      "Loss: 0.9463: 100%|██████████| 126/126 [00:39<00:00,  3.15it/s]\n",
      "Val Loss: 0.3203: 100%|██████████| 32/32 [00:08<00:00,  3.74it/s]\n"
     ]
    },
    {
     "name": "stdout",
     "output_type": "stream",
     "text": [
      "Epoch 92 | Train Loss: 0.5140 | Train F1: 0.8733 | Val Loss: 0.3978 | Val F1: 0.9789\n"
     ]
    },
    {
     "name": "stderr",
     "output_type": "stream",
     "text": [
      "Loss: 0.7744: 100%|██████████| 126/126 [00:39<00:00,  3.16it/s]\n",
      "Val Loss: 0.3203: 100%|██████████| 32/32 [00:08<00:00,  3.77it/s]\n"
     ]
    },
    {
     "name": "stdout",
     "output_type": "stream",
     "text": [
      "Epoch 93 | Train Loss: 0.5160 | Train F1: 0.8177 | Val Loss: 0.3939 | Val F1: 0.9834\n"
     ]
    },
    {
     "name": "stderr",
     "output_type": "stream",
     "text": [
      "Loss: 0.3201: 100%|██████████| 126/126 [00:39<00:00,  3.15it/s]\n",
      "Val Loss: 0.3203: 100%|██████████| 32/32 [00:08<00:00,  3.76it/s]\n"
     ]
    },
    {
     "name": "stdout",
     "output_type": "stream",
     "text": [
      "Epoch 94 | Train Loss: 0.4926 | Train F1: 0.8336 | Val Loss: 0.4000 | Val F1: 0.9774\n"
     ]
    },
    {
     "name": "stderr",
     "output_type": "stream",
     "text": [
      "Loss: 0.3206: 100%|██████████| 126/126 [00:39<00:00,  3.16it/s]\n",
      "Val Loss: 0.3203: 100%|██████████| 32/32 [00:08<00:00,  3.77it/s]\n"
     ]
    },
    {
     "name": "stdout",
     "output_type": "stream",
     "text": [
      "Epoch 95 | Train Loss: 0.4840 | Train F1: 0.8624 | Val Loss: 0.3821 | Val F1: 0.9819\n"
     ]
    },
    {
     "name": "stderr",
     "output_type": "stream",
     "text": [
      "Loss: 1.0000: 100%|██████████| 126/126 [00:39<00:00,  3.16it/s]\n",
      "Val Loss: 0.3203: 100%|██████████| 32/32 [00:08<00:00,  3.77it/s]\n"
     ]
    },
    {
     "name": "stdout",
     "output_type": "stream",
     "text": [
      "Epoch 96 | Train Loss: 0.4770 | Train F1: 0.8770 | Val Loss: 0.3783 | Val F1: 0.9834\n"
     ]
    },
    {
     "name": "stderr",
     "output_type": "stream",
     "text": [
      "Loss: 0.3206: 100%|██████████| 126/126 [00:39<00:00,  3.16it/s]\n",
      "Val Loss: 0.3203: 100%|██████████| 32/32 [00:08<00:00,  3.78it/s]\n"
     ]
    },
    {
     "name": "stdout",
     "output_type": "stream",
     "text": [
      "Epoch 97 | Train Loss: 0.4724 | Train F1: 0.9091 | Val Loss: 0.3767 | Val F1: 0.9867\n"
     ]
    },
    {
     "name": "stderr",
     "output_type": "stream",
     "text": [
      "Loss: 0.4575: 100%|██████████| 126/126 [00:39<00:00,  3.15it/s]\n",
      "Val Loss: 0.3203: 100%|██████████| 32/32 [00:08<00:00,  3.76it/s]\n"
     ]
    },
    {
     "name": "stdout",
     "output_type": "stream",
     "text": [
      "Epoch 98 | Train Loss: 0.4812 | Train F1: 0.8652 | Val Loss: 0.3877 | Val F1: 0.9790\n"
     ]
    },
    {
     "name": "stderr",
     "output_type": "stream",
     "text": [
      "Loss: 0.8579: 100%|██████████| 126/126 [00:39<00:00,  3.16it/s]\n",
      "Val Loss: 0.3203: 100%|██████████| 32/32 [00:08<00:00,  3.75it/s]\n"
     ]
    },
    {
     "name": "stdout",
     "output_type": "stream",
     "text": [
      "Epoch 99 | Train Loss: 0.4692 | Train F1: 0.9097 | Val Loss: 0.3982 | Val F1: 0.9763\n"
     ]
    },
    {
     "name": "stderr",
     "output_type": "stream",
     "text": [
      "Loss: 1.1289: 100%|██████████| 126/126 [00:39<00:00,  3.15it/s]\n",
      "Val Loss: 0.3202: 100%|██████████| 32/32 [00:08<00:00,  3.75it/s]\n"
     ]
    },
    {
     "name": "stdout",
     "output_type": "stream",
     "text": [
      "Epoch 100 | Train Loss: 0.4887 | Train F1: 0.8904 | Val Loss: 0.3799 | Val F1: 0.9833\n",
      "Fold 2 Best Validation F1: 0.9897\n",
      "\n",
      "==================================================\n",
      "FOLD 3/5\n",
      "==================================================\n",
      "Train samples: 1256, Validation samples: 314\n"
     ]
    },
    {
     "name": "stderr",
     "output_type": "stream",
     "text": [
      "Loss: 1.2627: 100%|██████████| 126/126 [00:40<00:00,  3.14it/s]\n",
      "Val Loss: 0.5996: 100%|██████████| 32/32 [00:08<00:00,  3.77it/s]"
     ]
    },
    {
     "name": "stdout",
     "output_type": "stream",
     "text": [
      "Epoch  1 | Train Loss: 1.6039 | Train F1: 0.4812 | Val Loss: 0.8160 | Val F1: 0.7952\n"
     ]
    },
    {
     "name": "stderr",
     "output_type": "stream",
     "text": [
      "\n",
      "Loss: 0.3564: 100%|██████████| 126/126 [00:40<00:00,  3.14it/s]\n",
      "Val Loss: 0.3904: 100%|██████████| 32/32 [00:08<00:00,  3.77it/s]"
     ]
    },
    {
     "name": "stdout",
     "output_type": "stream",
     "text": [
      "Epoch  2 | Train Loss: 0.8421 | Train F1: 0.7728 | Val Loss: 0.6461 | Val F1: 0.8634\n"
     ]
    },
    {
     "name": "stderr",
     "output_type": "stream",
     "text": [
      "\n",
      "Loss: 0.6787: 100%|██████████| 126/126 [00:40<00:00,  3.14it/s]\n",
      "Val Loss: 0.3516: 100%|██████████| 32/32 [00:08<00:00,  3.79it/s]"
     ]
    },
    {
     "name": "stdout",
     "output_type": "stream",
     "text": [
      "Epoch  3 | Train Loss: 0.8033 | Train F1: 0.7794 | Val Loss: 0.5833 | Val F1: 0.8888\n"
     ]
    },
    {
     "name": "stderr",
     "output_type": "stream",
     "text": [
      "\n",
      "Loss: 1.1309: 100%|██████████| 126/126 [00:40<00:00,  3.14it/s]\n",
      "Val Loss: 0.3370: 100%|██████████| 32/32 [00:08<00:00,  3.78it/s]"
     ]
    },
    {
     "name": "stdout",
     "output_type": "stream",
     "text": [
      "Epoch  4 | Train Loss: 0.6895 | Train F1: 0.8328 | Val Loss: 0.5427 | Val F1: 0.8972\n"
     ]
    },
    {
     "name": "stderr",
     "output_type": "stream",
     "text": [
      "\n",
      "Loss: 1.1006: 100%|██████████| 126/126 [00:40<00:00,  3.14it/s]\n",
      "Val Loss: 0.3394: 100%|██████████| 32/32 [00:08<00:00,  3.76it/s]\n"
     ]
    },
    {
     "name": "stdout",
     "output_type": "stream",
     "text": [
      "Epoch  5 | Train Loss: 0.7414 | Train F1: 0.8220 | Val Loss: 0.5619 | Val F1: 0.8970\n"
     ]
    },
    {
     "name": "stderr",
     "output_type": "stream",
     "text": [
      "Loss: 1.1602: 100%|██████████| 126/126 [00:40<00:00,  3.14it/s]\n",
      "Val Loss: 0.3576: 100%|██████████| 32/32 [00:08<00:00,  3.77it/s]"
     ]
    },
    {
     "name": "stdout",
     "output_type": "stream",
     "text": [
      "Epoch  6 | Train Loss: 0.7052 | Train F1: 0.8141 | Val Loss: 0.5202 | Val F1: 0.9167\n"
     ]
    },
    {
     "name": "stderr",
     "output_type": "stream",
     "text": [
      "\n",
      "Loss: 0.4163: 100%|██████████| 126/126 [00:40<00:00,  3.13it/s]\n",
      "Val Loss: 0.3322: 100%|██████████| 32/32 [00:08<00:00,  3.78it/s]"
     ]
    },
    {
     "name": "stdout",
     "output_type": "stream",
     "text": [
      "Epoch  7 | Train Loss: 0.6903 | Train F1: 0.8210 | Val Loss: 0.5045 | Val F1: 0.9196\n"
     ]
    },
    {
     "name": "stderr",
     "output_type": "stream",
     "text": [
      "\n",
      "Loss: 0.3479: 100%|██████████| 126/126 [00:40<00:00,  3.15it/s]\n",
      "Val Loss: 0.3298: 100%|██████████| 32/32 [00:08<00:00,  3.79it/s]"
     ]
    },
    {
     "name": "stdout",
     "output_type": "stream",
     "text": [
      "Epoch  8 | Train Loss: 0.6275 | Train F1: 0.8675 | Val Loss: 0.4731 | Val F1: 0.9409\n"
     ]
    },
    {
     "name": "stderr",
     "output_type": "stream",
     "text": [
      "\n",
      "Loss: 0.4966: 100%|██████████| 126/126 [00:40<00:00,  3.14it/s]\n",
      "Val Loss: 0.3255: 100%|██████████| 32/32 [00:08<00:00,  3.76it/s]\n"
     ]
    },
    {
     "name": "stdout",
     "output_type": "stream",
     "text": [
      "Epoch  9 | Train Loss: 0.6064 | Train F1: 0.8814 | Val Loss: 0.4750 | Val F1: 0.9390\n"
     ]
    },
    {
     "name": "stderr",
     "output_type": "stream",
     "text": [
      "Loss: 0.3650: 100%|██████████| 126/126 [00:40<00:00,  3.14it/s]\n",
      "Val Loss: 0.3322: 100%|██████████| 32/32 [00:08<00:00,  3.77it/s]"
     ]
    },
    {
     "name": "stdout",
     "output_type": "stream",
     "text": [
      "Epoch 10 | Train Loss: 0.6618 | Train F1: 0.8271 | Val Loss: 0.4731 | Val F1: 0.9503\n"
     ]
    },
    {
     "name": "stderr",
     "output_type": "stream",
     "text": [
      "\n",
      "Loss: 0.3408: 100%|██████████| 126/126 [00:40<00:00,  3.14it/s]\n",
      "Val Loss: 0.3247: 100%|██████████| 32/32 [00:08<00:00,  3.75it/s]"
     ]
    },
    {
     "name": "stdout",
     "output_type": "stream",
     "text": [
      "Epoch 11 | Train Loss: 0.5604 | Train F1: 0.8503 | Val Loss: 0.4370 | Val F1: 0.9640\n"
     ]
    },
    {
     "name": "stderr",
     "output_type": "stream",
     "text": [
      "\n",
      "Loss: 0.3518: 100%|██████████| 126/126 [00:40<00:00,  3.13it/s]\n",
      "Val Loss: 0.3266: 100%|██████████| 32/32 [00:08<00:00,  3.78it/s]"
     ]
    },
    {
     "name": "stdout",
     "output_type": "stream",
     "text": [
      "Epoch 12 | Train Loss: 0.6297 | Train F1: 0.8390 | Val Loss: 0.4257 | Val F1: 0.9660\n"
     ]
    },
    {
     "name": "stderr",
     "output_type": "stream",
     "text": [
      "\n",
      "Loss: 0.3330: 100%|██████████| 126/126 [00:40<00:00,  3.14it/s]\n",
      "Val Loss: 0.3264: 100%|██████████| 32/32 [00:08<00:00,  3.76it/s]\n"
     ]
    },
    {
     "name": "stdout",
     "output_type": "stream",
     "text": [
      "Epoch 13 | Train Loss: 0.5721 | Train F1: 0.8638 | Val Loss: 0.4333 | Val F1: 0.9646\n"
     ]
    },
    {
     "name": "stderr",
     "output_type": "stream",
     "text": [
      "Loss: 1.2432: 100%|██████████| 126/126 [00:40<00:00,  3.14it/s]\n",
      "Val Loss: 0.3438: 100%|██████████| 32/32 [00:08<00:00,  3.79it/s]\n"
     ]
    },
    {
     "name": "stdout",
     "output_type": "stream",
     "text": [
      "Epoch 14 | Train Loss: 0.6424 | Train F1: 0.8237 | Val Loss: 0.4166 | Val F1: 0.9636\n"
     ]
    },
    {
     "name": "stderr",
     "output_type": "stream",
     "text": [
      "Loss: 0.3523: 100%|██████████| 126/126 [00:40<00:00,  3.14it/s]\n",
      "Val Loss: 0.3241: 100%|██████████| 32/32 [00:08<00:00,  3.80it/s]\n"
     ]
    },
    {
     "name": "stdout",
     "output_type": "stream",
     "text": [
      "Epoch 15 | Train Loss: 0.5919 | Train F1: 0.8380 | Val Loss: 0.4462 | Val F1: 0.9624\n"
     ]
    },
    {
     "name": "stderr",
     "output_type": "stream",
     "text": [
      "Loss: 0.6738: 100%|██████████| 126/126 [00:40<00:00,  3.14it/s]\n",
      "Val Loss: 0.3273: 100%|██████████| 32/32 [00:08<00:00,  3.76it/s]\n"
     ]
    },
    {
     "name": "stdout",
     "output_type": "stream",
     "text": [
      "Epoch 16 | Train Loss: 0.6157 | Train F1: 0.8619 | Val Loss: 0.5706 | Val F1: 0.9457\n"
     ]
    },
    {
     "name": "stderr",
     "output_type": "stream",
     "text": [
      "Loss: 1.4238: 100%|██████████| 126/126 [00:40<00:00,  3.14it/s]\n",
      "Val Loss: 0.3307: 100%|██████████| 32/32 [00:08<00:00,  3.79it/s]\n"
     ]
    },
    {
     "name": "stdout",
     "output_type": "stream",
     "text": [
      "Epoch 17 | Train Loss: 0.6453 | Train F1: 0.8437 | Val Loss: 0.4584 | Val F1: 0.9443\n"
     ]
    },
    {
     "name": "stderr",
     "output_type": "stream",
     "text": [
      "Loss: 0.4155: 100%|██████████| 126/126 [00:40<00:00,  3.14it/s]\n",
      "Val Loss: 0.3214: 100%|██████████| 32/32 [00:08<00:00,  3.79it/s]"
     ]
    },
    {
     "name": "stdout",
     "output_type": "stream",
     "text": [
      "Epoch 18 | Train Loss: 0.6367 | Train F1: 0.7784 | Val Loss: 0.4156 | Val F1: 0.9742\n"
     ]
    },
    {
     "name": "stderr",
     "output_type": "stream",
     "text": [
      "\n",
      "Loss: 0.9902: 100%|██████████| 126/126 [00:40<00:00,  3.14it/s]\n",
      "Val Loss: 0.3462: 100%|██████████| 32/32 [00:08<00:00,  3.79it/s]\n"
     ]
    },
    {
     "name": "stdout",
     "output_type": "stream",
     "text": [
      "Epoch 19 | Train Loss: 0.5949 | Train F1: 0.8619 | Val Loss: 0.4071 | Val F1: 0.9624\n"
     ]
    },
    {
     "name": "stderr",
     "output_type": "stream",
     "text": [
      "Loss: 0.3232: 100%|██████████| 126/126 [00:40<00:00,  3.14it/s]\n",
      "Val Loss: 0.3241: 100%|██████████| 32/32 [00:08<00:00,  3.80it/s]\n"
     ]
    },
    {
     "name": "stdout",
     "output_type": "stream",
     "text": [
      "Epoch 20 | Train Loss: 0.5644 | Train F1: 0.8432 | Val Loss: 0.4470 | Val F1: 0.9516\n"
     ]
    },
    {
     "name": "stderr",
     "output_type": "stream",
     "text": [
      "Loss: 1.1924: 100%|██████████| 126/126 [00:40<00:00,  3.14it/s]\n",
      "Val Loss: 0.3270: 100%|██████████| 32/32 [00:08<00:00,  3.74it/s]\n"
     ]
    },
    {
     "name": "stdout",
     "output_type": "stream",
     "text": [
      "Epoch 21 | Train Loss: 0.5544 | Train F1: 0.8676 | Val Loss: 0.4245 | Val F1: 0.9697\n"
     ]
    },
    {
     "name": "stderr",
     "output_type": "stream",
     "text": [
      "Loss: 0.3320: 100%|██████████| 126/126 [00:40<00:00,  3.14it/s]\n",
      "Val Loss: 0.3232: 100%|██████████| 32/32 [00:08<00:00,  3.77it/s]\n"
     ]
    },
    {
     "name": "stdout",
     "output_type": "stream",
     "text": [
      "Epoch 22 | Train Loss: 0.5953 | Train F1: 0.8468 | Val Loss: 0.4385 | Val F1: 0.9687\n"
     ]
    },
    {
     "name": "stderr",
     "output_type": "stream",
     "text": [
      "Loss: 0.3230: 100%|██████████| 126/126 [00:40<00:00,  3.14it/s]\n",
      "Val Loss: 0.3247: 100%|██████████| 32/32 [00:08<00:00,  3.78it/s]\n"
     ]
    },
    {
     "name": "stdout",
     "output_type": "stream",
     "text": [
      "Epoch 23 | Train Loss: 0.5546 | Train F1: 0.8375 | Val Loss: 0.3999 | Val F1: 0.9668\n"
     ]
    },
    {
     "name": "stderr",
     "output_type": "stream",
     "text": [
      "Loss: 0.3230: 100%|██████████| 126/126 [00:40<00:00,  3.14it/s]\n",
      "Val Loss: 0.3212: 100%|██████████| 32/32 [00:08<00:00,  3.77it/s]\n"
     ]
    },
    {
     "name": "stdout",
     "output_type": "stream",
     "text": [
      "Epoch 24 | Train Loss: 0.5598 | Train F1: 0.8073 | Val Loss: 0.3971 | Val F1: 0.9742\n"
     ]
    },
    {
     "name": "stderr",
     "output_type": "stream",
     "text": [
      "Loss: 0.3345: 100%|██████████| 126/126 [00:40<00:00,  3.15it/s]\n",
      "Val Loss: 0.3257: 100%|██████████| 32/32 [00:08<00:00,  3.78it/s]\n"
     ]
    },
    {
     "name": "stdout",
     "output_type": "stream",
     "text": [
      "Epoch 25 | Train Loss: 0.5330 | Train F1: 0.8675 | Val Loss: 0.4328 | Val F1: 0.9596\n"
     ]
    },
    {
     "name": "stderr",
     "output_type": "stream",
     "text": [
      "Loss: 0.3281: 100%|██████████| 126/126 [00:40<00:00,  3.15it/s]\n",
      "Val Loss: 0.3232: 100%|██████████| 32/32 [00:08<00:00,  3.78it/s]\n"
     ]
    },
    {
     "name": "stdout",
     "output_type": "stream",
     "text": [
      "Epoch 26 | Train Loss: 0.5652 | Train F1: 0.8392 | Val Loss: 0.4021 | Val F1: 0.9715\n"
     ]
    },
    {
     "name": "stderr",
     "output_type": "stream",
     "text": [
      "Loss: 0.3218: 100%|██████████| 126/126 [00:40<00:00,  3.14it/s]\n",
      "Val Loss: 0.3211: 100%|██████████| 32/32 [00:08<00:00,  3.75it/s]\n"
     ]
    },
    {
     "name": "stdout",
     "output_type": "stream",
     "text": [
      "Epoch 27 | Train Loss: 0.5355 | Train F1: 0.8759 | Val Loss: 0.4081 | Val F1: 0.9702\n"
     ]
    },
    {
     "name": "stderr",
     "output_type": "stream",
     "text": [
      "Loss: 0.3235: 100%|██████████| 126/126 [00:40<00:00,  3.14it/s]\n",
      "Val Loss: 0.3211: 100%|██████████| 32/32 [00:08<00:00,  3.75it/s]"
     ]
    },
    {
     "name": "stdout",
     "output_type": "stream",
     "text": [
      "Epoch 28 | Train Loss: 0.5425 | Train F1: 0.8752 | Val Loss: 0.4146 | Val F1: 0.9748\n"
     ]
    },
    {
     "name": "stderr",
     "output_type": "stream",
     "text": [
      "\n",
      "Loss: 1.0293: 100%|██████████| 126/126 [00:40<00:00,  3.14it/s]\n",
      "Val Loss: 0.3209: 100%|██████████| 32/32 [00:08<00:00,  3.76it/s]\n"
     ]
    },
    {
     "name": "stdout",
     "output_type": "stream",
     "text": [
      "Epoch 29 | Train Loss: 0.6258 | Train F1: 0.7917 | Val Loss: 0.4159 | Val F1: 0.9674\n"
     ]
    },
    {
     "name": "stderr",
     "output_type": "stream",
     "text": [
      "Loss: 0.6240: 100%|██████████| 126/126 [00:40<00:00,  3.15it/s]\n",
      "Val Loss: 0.3216: 100%|██████████| 32/32 [00:08<00:00,  3.73it/s]\n"
     ]
    },
    {
     "name": "stdout",
     "output_type": "stream",
     "text": [
      "Epoch 30 | Train Loss: 0.5672 | Train F1: 0.8680 | Val Loss: 0.4306 | Val F1: 0.9620\n"
     ]
    },
    {
     "name": "stderr",
     "output_type": "stream",
     "text": [
      "Loss: 1.0273: 100%|██████████| 126/126 [00:40<00:00,  3.14it/s]\n",
      "Val Loss: 0.3229: 100%|██████████| 32/32 [00:08<00:00,  3.75it/s]"
     ]
    },
    {
     "name": "stdout",
     "output_type": "stream",
     "text": [
      "Epoch 31 | Train Loss: 0.5301 | Train F1: 0.8317 | Val Loss: 0.3948 | Val F1: 0.9761\n"
     ]
    },
    {
     "name": "stderr",
     "output_type": "stream",
     "text": [
      "\n",
      "Loss: 0.3572: 100%|██████████| 126/126 [00:40<00:00,  3.15it/s]\n",
      "Val Loss: 0.3317: 100%|██████████| 32/32 [00:08<00:00,  3.72it/s]\n"
     ]
    },
    {
     "name": "stdout",
     "output_type": "stream",
     "text": [
      "Epoch 32 | Train Loss: 0.6581 | Train F1: 0.8392 | Val Loss: 0.3983 | Val F1: 0.9724\n"
     ]
    },
    {
     "name": "stderr",
     "output_type": "stream",
     "text": [
      "Loss: 0.3269: 100%|██████████| 126/126 [00:40<00:00,  3.15it/s]\n",
      "Val Loss: 0.3214: 100%|██████████| 32/32 [00:08<00:00,  3.81it/s]"
     ]
    },
    {
     "name": "stdout",
     "output_type": "stream",
     "text": [
      "Epoch 33 | Train Loss: 0.5580 | Train F1: 0.8881 | Val Loss: 0.4020 | Val F1: 0.9776\n"
     ]
    },
    {
     "name": "stderr",
     "output_type": "stream",
     "text": [
      "\n",
      "Loss: 0.3237: 100%|██████████| 126/126 [00:40<00:00,  3.14it/s]\n",
      "Val Loss: 0.3240: 100%|██████████| 32/32 [00:08<00:00,  3.76it/s]"
     ]
    },
    {
     "name": "stdout",
     "output_type": "stream",
     "text": [
      "Epoch 34 | Train Loss: 0.5919 | Train F1: 0.8352 | Val Loss: 0.3704 | Val F1: 0.9851\n"
     ]
    },
    {
     "name": "stderr",
     "output_type": "stream",
     "text": [
      "\n",
      "Loss: 0.3228: 100%|██████████| 126/126 [00:40<00:00,  3.14it/s]\n",
      "Val Loss: 0.3206: 100%|██████████| 32/32 [00:08<00:00,  3.78it/s]\n"
     ]
    },
    {
     "name": "stdout",
     "output_type": "stream",
     "text": [
      "Epoch 35 | Train Loss: 0.5243 | Train F1: 0.8465 | Val Loss: 0.3817 | Val F1: 0.9790\n"
     ]
    },
    {
     "name": "stderr",
     "output_type": "stream",
     "text": [
      "Loss: 0.5928: 100%|██████████| 126/126 [00:39<00:00,  3.15it/s]\n",
      "Val Loss: 0.3227: 100%|██████████| 32/32 [00:08<00:00,  3.80it/s]\n"
     ]
    },
    {
     "name": "stdout",
     "output_type": "stream",
     "text": [
      "Epoch 36 | Train Loss: 0.5466 | Train F1: 0.8619 | Val Loss: 0.4338 | Val F1: 0.9680\n"
     ]
    },
    {
     "name": "stderr",
     "output_type": "stream",
     "text": [
      "Loss: 0.3208: 100%|██████████| 126/126 [00:40<00:00,  3.15it/s]\n",
      "Val Loss: 0.3218: 100%|██████████| 32/32 [00:08<00:00,  3.76it/s]\n"
     ]
    },
    {
     "name": "stdout",
     "output_type": "stream",
     "text": [
      "Epoch 37 | Train Loss: 0.5524 | Train F1: 0.8441 | Val Loss: 0.3780 | Val F1: 0.9758\n"
     ]
    },
    {
     "name": "stderr",
     "output_type": "stream",
     "text": [
      "Loss: 0.3696: 100%|██████████| 126/126 [00:40<00:00,  3.15it/s]\n",
      "Val Loss: 0.3207: 100%|██████████| 32/32 [00:08<00:00,  3.80it/s]\n"
     ]
    },
    {
     "name": "stdout",
     "output_type": "stream",
     "text": [
      "Epoch 38 | Train Loss: 0.5216 | Train F1: 0.8830 | Val Loss: 0.3970 | Val F1: 0.9777\n"
     ]
    },
    {
     "name": "stderr",
     "output_type": "stream",
     "text": [
      "Loss: 0.3208: 100%|██████████| 126/126 [00:40<00:00,  3.15it/s]\n",
      "Val Loss: 0.3208: 100%|██████████| 32/32 [00:08<00:00,  3.78it/s]\n"
     ]
    },
    {
     "name": "stdout",
     "output_type": "stream",
     "text": [
      "Epoch 39 | Train Loss: 0.5284 | Train F1: 0.8839 | Val Loss: 0.4309 | Val F1: 0.9706\n"
     ]
    },
    {
     "name": "stderr",
     "output_type": "stream",
     "text": [
      "Loss: 0.6123: 100%|██████████| 126/126 [00:40<00:00,  3.15it/s]\n",
      "Val Loss: 0.3206: 100%|██████████| 32/32 [00:08<00:00,  3.78it/s]\n"
     ]
    },
    {
     "name": "stdout",
     "output_type": "stream",
     "text": [
      "Epoch 40 | Train Loss: 0.5235 | Train F1: 0.8748 | Val Loss: 0.4047 | Val F1: 0.9701\n"
     ]
    },
    {
     "name": "stderr",
     "output_type": "stream",
     "text": [
      "Loss: 0.5356: 100%|██████████| 126/126 [00:39<00:00,  3.15it/s]\n",
      "Val Loss: 0.3213: 100%|██████████| 32/32 [00:08<00:00,  3.78it/s]"
     ]
    },
    {
     "name": "stdout",
     "output_type": "stream",
     "text": [
      "Epoch 41 | Train Loss: 0.5536 | Train F1: 0.8638 | Val Loss: 0.3778 | Val F1: 0.9882\n"
     ]
    },
    {
     "name": "stderr",
     "output_type": "stream",
     "text": [
      "\n",
      "Loss: 0.3228: 100%|██████████| 126/126 [00:40<00:00,  3.15it/s]\n",
      "Val Loss: 0.3214: 100%|██████████| 32/32 [00:08<00:00,  3.81it/s]\n"
     ]
    },
    {
     "name": "stdout",
     "output_type": "stream",
     "text": [
      "Epoch 42 | Train Loss: 0.5269 | Train F1: 0.8601 | Val Loss: 0.4192 | Val F1: 0.9671\n"
     ]
    },
    {
     "name": "stderr",
     "output_type": "stream",
     "text": [
      "Loss: 1.0215: 100%|██████████| 126/126 [00:39<00:00,  3.15it/s]\n",
      "Val Loss: 0.3206: 100%|██████████| 32/32 [00:08<00:00,  3.78it/s]\n"
     ]
    },
    {
     "name": "stdout",
     "output_type": "stream",
     "text": [
      "Epoch 43 | Train Loss: 0.5607 | Train F1: 0.8767 | Val Loss: 0.3674 | Val F1: 0.9863\n"
     ]
    },
    {
     "name": "stderr",
     "output_type": "stream",
     "text": [
      "Loss: 0.6357: 100%|██████████| 126/126 [00:40<00:00,  3.14it/s]\n",
      "Val Loss: 0.3216: 100%|██████████| 32/32 [00:08<00:00,  3.75it/s]\n"
     ]
    },
    {
     "name": "stdout",
     "output_type": "stream",
     "text": [
      "Epoch 44 | Train Loss: 0.5643 | Train F1: 0.8474 | Val Loss: 0.3885 | Val F1: 0.9789\n"
     ]
    },
    {
     "name": "stderr",
     "output_type": "stream",
     "text": [
      "Loss: 0.3215: 100%|██████████| 126/126 [00:39<00:00,  3.15it/s]\n",
      "Val Loss: 0.3226: 100%|██████████| 32/32 [00:08<00:00,  3.78it/s]\n"
     ]
    },
    {
     "name": "stdout",
     "output_type": "stream",
     "text": [
      "Epoch 45 | Train Loss: 0.5359 | Train F1: 0.8620 | Val Loss: 0.4364 | Val F1: 0.9674\n"
     ]
    },
    {
     "name": "stderr",
     "output_type": "stream",
     "text": [
      "Loss: 0.3208: 100%|██████████| 126/126 [00:40<00:00,  3.15it/s]\n",
      "Val Loss: 0.3205: 100%|██████████| 32/32 [00:08<00:00,  3.76it/s]\n"
     ]
    },
    {
     "name": "stdout",
     "output_type": "stream",
     "text": [
      "Epoch 46 | Train Loss: 0.4735 | Train F1: 0.9009 | Val Loss: 0.4077 | Val F1: 0.9776\n"
     ]
    },
    {
     "name": "stderr",
     "output_type": "stream",
     "text": [
      "Loss: 0.3208: 100%|██████████| 126/126 [00:39<00:00,  3.16it/s]\n",
      "Val Loss: 0.3205: 100%|██████████| 32/32 [00:08<00:00,  3.77it/s]\n"
     ]
    },
    {
     "name": "stdout",
     "output_type": "stream",
     "text": [
      "Epoch 47 | Train Loss: 0.5198 | Train F1: 0.8750 | Val Loss: 0.3793 | Val F1: 0.9819\n"
     ]
    },
    {
     "name": "stderr",
     "output_type": "stream",
     "text": [
      "Loss: 0.3315: 100%|██████████| 126/126 [00:40<00:00,  3.15it/s]\n",
      "Val Loss: 0.3208: 100%|██████████| 32/32 [00:08<00:00,  3.78it/s]\n"
     ]
    },
    {
     "name": "stdout",
     "output_type": "stream",
     "text": [
      "Epoch 48 | Train Loss: 0.5706 | Train F1: 0.8275 | Val Loss: 0.4024 | Val F1: 0.9708\n"
     ]
    },
    {
     "name": "stderr",
     "output_type": "stream",
     "text": [
      "Loss: 0.4165: 100%|██████████| 126/126 [00:39<00:00,  3.15it/s]\n",
      "Val Loss: 0.3205: 100%|██████████| 32/32 [00:08<00:00,  3.75it/s]\n"
     ]
    },
    {
     "name": "stdout",
     "output_type": "stream",
     "text": [
      "Epoch 49 | Train Loss: 0.5422 | Train F1: 0.8257 | Val Loss: 0.3893 | Val F1: 0.9837\n"
     ]
    },
    {
     "name": "stderr",
     "output_type": "stream",
     "text": [
      "Loss: 0.3232: 100%|██████████| 126/126 [00:39<00:00,  3.15it/s]\n",
      "Val Loss: 0.3213: 100%|██████████| 32/32 [00:08<00:00,  3.77it/s]\n"
     ]
    },
    {
     "name": "stdout",
     "output_type": "stream",
     "text": [
      "Epoch 50 | Train Loss: 0.5226 | Train F1: 0.8466 | Val Loss: 0.4186 | Val F1: 0.9632\n"
     ]
    },
    {
     "name": "stderr",
     "output_type": "stream",
     "text": [
      "Loss: 0.3218: 100%|██████████| 126/126 [00:39<00:00,  3.15it/s]\n",
      "Val Loss: 0.3205: 100%|██████████| 32/32 [00:08<00:00,  3.84it/s]\n"
     ]
    },
    {
     "name": "stdout",
     "output_type": "stream",
     "text": [
      "Epoch 51 | Train Loss: 0.5249 | Train F1: 0.8698 | Val Loss: 0.3668 | Val F1: 0.9834\n"
     ]
    },
    {
     "name": "stderr",
     "output_type": "stream",
     "text": [
      "Loss: 0.3210: 100%|██████████| 126/126 [00:39<00:00,  3.15it/s]\n",
      "Val Loss: 0.3204: 100%|██████████| 32/32 [00:08<00:00,  3.77it/s]"
     ]
    },
    {
     "name": "stdout",
     "output_type": "stream",
     "text": [
      "Epoch 52 | Train Loss: 0.5145 | Train F1: 0.8640 | Val Loss: 0.3573 | Val F1: 0.9893\n"
     ]
    },
    {
     "name": "stderr",
     "output_type": "stream",
     "text": [
      "\n",
      "Loss: 0.3220: 100%|██████████| 126/126 [00:40<00:00,  3.14it/s]\n",
      "Val Loss: 0.3203: 100%|██████████| 32/32 [00:08<00:00,  3.77it/s]\n"
     ]
    },
    {
     "name": "stdout",
     "output_type": "stream",
     "text": [
      "Epoch 53 | Train Loss: 0.5378 | Train F1: 0.8578 | Val Loss: 0.4006 | Val F1: 0.9760\n"
     ]
    },
    {
     "name": "stderr",
     "output_type": "stream",
     "text": [
      "Loss: 0.3208: 100%|██████████| 126/126 [00:40<00:00,  3.15it/s]\n",
      "Val Loss: 0.3203: 100%|██████████| 32/32 [00:08<00:00,  3.79it/s]\n"
     ]
    },
    {
     "name": "stdout",
     "output_type": "stream",
     "text": [
      "Epoch 54 | Train Loss: 0.5165 | Train F1: 0.8720 | Val Loss: 0.3742 | Val F1: 0.9863\n"
     ]
    },
    {
     "name": "stderr",
     "output_type": "stream",
     "text": [
      "Loss: 0.3203: 100%|██████████| 126/126 [00:40<00:00,  3.15it/s]\n",
      "Val Loss: 0.3204: 100%|██████████| 32/32 [00:08<00:00,  3.78it/s]\n"
     ]
    },
    {
     "name": "stdout",
     "output_type": "stream",
     "text": [
      "Epoch 55 | Train Loss: 0.5092 | Train F1: 0.8862 | Val Loss: 0.3745 | Val F1: 0.9820\n"
     ]
    },
    {
     "name": "stderr",
     "output_type": "stream",
     "text": [
      "Loss: 0.3206: 100%|██████████| 126/126 [00:39<00:00,  3.15it/s]\n",
      "Val Loss: 0.3204: 100%|██████████| 32/32 [00:08<00:00,  3.79it/s]\n"
     ]
    },
    {
     "name": "stdout",
     "output_type": "stream",
     "text": [
      "Epoch 56 | Train Loss: 0.5051 | Train F1: 0.8407 | Val Loss: 0.3729 | Val F1: 0.9819\n"
     ]
    },
    {
     "name": "stderr",
     "output_type": "stream",
     "text": [
      "Loss: 0.3208: 100%|██████████| 126/126 [00:39<00:00,  3.15it/s]\n",
      "Val Loss: 0.3205: 100%|██████████| 32/32 [00:08<00:00,  3.82it/s]\n"
     ]
    },
    {
     "name": "stdout",
     "output_type": "stream",
     "text": [
      "Epoch 57 | Train Loss: 0.5074 | Train F1: 0.8900 | Val Loss: 0.3913 | Val F1: 0.9819\n"
     ]
    },
    {
     "name": "stderr",
     "output_type": "stream",
     "text": [
      "Loss: 0.6504: 100%|██████████| 126/126 [00:39<00:00,  3.15it/s]\n",
      "Val Loss: 0.3203: 100%|██████████| 32/32 [00:08<00:00,  3.78it/s]\n"
     ]
    },
    {
     "name": "stdout",
     "output_type": "stream",
     "text": [
      "Epoch 58 | Train Loss: 0.5416 | Train F1: 0.8633 | Val Loss: 0.3608 | Val F1: 0.9893\n"
     ]
    },
    {
     "name": "stderr",
     "output_type": "stream",
     "text": [
      "Loss: 0.3206: 100%|██████████| 126/126 [00:39<00:00,  3.16it/s]\n",
      "Val Loss: 0.3203: 100%|██████████| 32/32 [00:08<00:00,  3.76it/s]\n"
     ]
    },
    {
     "name": "stdout",
     "output_type": "stream",
     "text": [
      "Epoch 59 | Train Loss: 0.5033 | Train F1: 0.8889 | Val Loss: 0.3878 | Val F1: 0.9823\n"
     ]
    },
    {
     "name": "stderr",
     "output_type": "stream",
     "text": [
      "Loss: 0.3206: 100%|██████████| 126/126 [00:40<00:00,  3.15it/s]\n",
      "Val Loss: 0.3206: 100%|██████████| 32/32 [00:08<00:00,  3.78it/s]\n"
     ]
    },
    {
     "name": "stdout",
     "output_type": "stream",
     "text": [
      "Epoch 60 | Train Loss: 0.5212 | Train F1: 0.8527 | Val Loss: 0.3727 | Val F1: 0.9852\n"
     ]
    },
    {
     "name": "stderr",
     "output_type": "stream",
     "text": [
      "Loss: 0.3203: 100%|██████████| 126/126 [00:39<00:00,  3.16it/s]\n",
      "Val Loss: 0.3203: 100%|██████████| 32/32 [00:08<00:00,  3.79it/s]\n"
     ]
    },
    {
     "name": "stdout",
     "output_type": "stream",
     "text": [
      "Epoch 61 | Train Loss: 0.4785 | Train F1: 0.8682 | Val Loss: 0.3721 | Val F1: 0.9773\n"
     ]
    },
    {
     "name": "stderr",
     "output_type": "stream",
     "text": [
      "Loss: 0.3203: 100%|██████████| 126/126 [00:40<00:00,  3.15it/s]\n",
      "Val Loss: 0.3203: 100%|██████████| 32/32 [00:08<00:00,  3.80it/s]\n"
     ]
    },
    {
     "name": "stdout",
     "output_type": "stream",
     "text": [
      "Epoch 62 | Train Loss: 0.5195 | Train F1: 0.8814 | Val Loss: 0.3713 | Val F1: 0.9801\n"
     ]
    },
    {
     "name": "stderr",
     "output_type": "stream",
     "text": [
      "Loss: 0.3206: 100%|██████████| 126/126 [00:39<00:00,  3.16it/s]\n",
      "Val Loss: 0.3206: 100%|██████████| 32/32 [00:08<00:00,  3.74it/s]\n"
     ]
    },
    {
     "name": "stdout",
     "output_type": "stream",
     "text": [
      "Epoch 63 | Train Loss: 0.4632 | Train F1: 0.8877 | Val Loss: 0.4299 | Val F1: 0.9682\n"
     ]
    },
    {
     "name": "stderr",
     "output_type": "stream",
     "text": [
      "Loss: 0.3208: 100%|██████████| 126/126 [00:40<00:00,  3.15it/s]\n",
      "Val Loss: 0.3203: 100%|██████████| 32/32 [00:08<00:00,  3.73it/s]\n"
     ]
    },
    {
     "name": "stdout",
     "output_type": "stream",
     "text": [
      "Epoch 64 | Train Loss: 0.4806 | Train F1: 0.8744 | Val Loss: 0.3958 | Val F1: 0.9789\n"
     ]
    },
    {
     "name": "stderr",
     "output_type": "stream",
     "text": [
      "Loss: 0.9561: 100%|██████████| 126/126 [00:39<00:00,  3.16it/s]\n",
      "Val Loss: 0.3210: 100%|██████████| 32/32 [00:08<00:00,  3.76it/s]\n"
     ]
    },
    {
     "name": "stdout",
     "output_type": "stream",
     "text": [
      "Epoch 65 | Train Loss: 0.5485 | Train F1: 0.8555 | Val Loss: 0.3643 | Val F1: 0.9848\n"
     ]
    },
    {
     "name": "stderr",
     "output_type": "stream",
     "text": [
      "Loss: 0.3210: 100%|██████████| 126/126 [00:39<00:00,  3.15it/s]\n",
      "Val Loss: 0.3204: 100%|██████████| 32/32 [00:08<00:00,  3.73it/s]\n"
     ]
    },
    {
     "name": "stdout",
     "output_type": "stream",
     "text": [
      "Epoch 66 | Train Loss: 0.5087 | Train F1: 0.8724 | Val Loss: 0.3890 | Val F1: 0.9744\n"
     ]
    },
    {
     "name": "stderr",
     "output_type": "stream",
     "text": [
      "Loss: 0.3208: 100%|██████████| 126/126 [00:39<00:00,  3.15it/s]\n",
      "Val Loss: 0.3204: 100%|██████████| 32/32 [00:08<00:00,  3.78it/s]\n"
     ]
    },
    {
     "name": "stdout",
     "output_type": "stream",
     "text": [
      "Epoch 67 | Train Loss: 0.4812 | Train F1: 0.8696 | Val Loss: 0.4068 | Val F1: 0.9790\n"
     ]
    },
    {
     "name": "stderr",
     "output_type": "stream",
     "text": [
      "Loss: 0.8647: 100%|██████████| 126/126 [00:39<00:00,  3.15it/s]\n",
      "Val Loss: 0.3203: 100%|██████████| 32/32 [00:08<00:00,  3.74it/s]\n"
     ]
    },
    {
     "name": "stdout",
     "output_type": "stream",
     "text": [
      "Epoch 68 | Train Loss: 0.4865 | Train F1: 0.8500 | Val Loss: 0.3786 | Val F1: 0.9772\n"
     ]
    },
    {
     "name": "stderr",
     "output_type": "stream",
     "text": [
      "Loss: 0.3203: 100%|██████████| 126/126 [00:39<00:00,  3.16it/s]\n",
      "Val Loss: 0.3207: 100%|██████████| 32/32 [00:08<00:00,  3.77it/s]\n"
     ]
    },
    {
     "name": "stdout",
     "output_type": "stream",
     "text": [
      "Epoch 69 | Train Loss: 0.5341 | Train F1: 0.8587 | Val Loss: 0.3766 | Val F1: 0.9818\n"
     ]
    },
    {
     "name": "stderr",
     "output_type": "stream",
     "text": [
      "Loss: 0.3208: 100%|██████████| 126/126 [00:39<00:00,  3.16it/s]\n",
      "Val Loss: 0.3203: 100%|██████████| 32/32 [00:08<00:00,  3.78it/s]\n"
     ]
    },
    {
     "name": "stdout",
     "output_type": "stream",
     "text": [
      "Epoch 70 | Train Loss: 0.4860 | Train F1: 0.8943 | Val Loss: 0.3808 | Val F1: 0.9749\n"
     ]
    },
    {
     "name": "stderr",
     "output_type": "stream",
     "text": [
      "Loss: 0.3210: 100%|██████████| 126/126 [00:40<00:00,  3.15it/s]\n",
      "Val Loss: 0.3203: 100%|██████████| 32/32 [00:08<00:00,  3.80it/s]\n"
     ]
    },
    {
     "name": "stdout",
     "output_type": "stream",
     "text": [
      "Epoch 71 | Train Loss: 0.5854 | Train F1: 0.8261 | Val Loss: 0.3767 | Val F1: 0.9819\n"
     ]
    },
    {
     "name": "stderr",
     "output_type": "stream",
     "text": [
      "Loss: 1.3770: 100%|██████████| 126/126 [00:39<00:00,  3.16it/s]\n",
      "Val Loss: 0.3203: 100%|██████████| 32/32 [00:08<00:00,  3.77it/s]\n"
     ]
    },
    {
     "name": "stdout",
     "output_type": "stream",
     "text": [
      "Epoch 72 | Train Loss: 0.5306 | Train F1: 0.8658 | Val Loss: 0.3748 | Val F1: 0.9801\n"
     ]
    },
    {
     "name": "stderr",
     "output_type": "stream",
     "text": [
      "Loss: 0.3208: 100%|██████████| 126/126 [00:39<00:00,  3.15it/s]\n",
      "Val Loss: 0.3203: 100%|██████████| 32/32 [00:08<00:00,  3.79it/s]\n"
     ]
    },
    {
     "name": "stdout",
     "output_type": "stream",
     "text": [
      "Epoch 73 | Train Loss: 0.5253 | Train F1: 0.8415 | Val Loss: 0.3755 | Val F1: 0.9801\n"
     ]
    },
    {
     "name": "stderr",
     "output_type": "stream",
     "text": [
      "Loss: 0.3218: 100%|██████████| 126/126 [00:39<00:00,  3.16it/s]\n",
      "Val Loss: 0.3204: 100%|██████████| 32/32 [00:08<00:00,  3.76it/s]\n"
     ]
    },
    {
     "name": "stdout",
     "output_type": "stream",
     "text": [
      "Epoch 74 | Train Loss: 0.5206 | Train F1: 0.8527 | Val Loss: 0.4156 | Val F1: 0.9760\n"
     ]
    },
    {
     "name": "stderr",
     "output_type": "stream",
     "text": [
      "Loss: 0.3203: 100%|██████████| 126/126 [00:39<00:00,  3.16it/s]\n",
      "Val Loss: 0.3203: 100%|██████████| 32/32 [00:08<00:00,  3.75it/s]\n"
     ]
    },
    {
     "name": "stdout",
     "output_type": "stream",
     "text": [
      "Epoch 75 | Train Loss: 0.4981 | Train F1: 0.8616 | Val Loss: 0.4133 | Val F1: 0.9731\n"
     ]
    },
    {
     "name": "stderr",
     "output_type": "stream",
     "text": [
      "Loss: 0.3206: 100%|██████████| 126/126 [00:39<00:00,  3.15it/s]\n",
      "Val Loss: 0.3203: 100%|██████████| 32/32 [00:08<00:00,  3.75it/s]\n"
     ]
    },
    {
     "name": "stdout",
     "output_type": "stream",
     "text": [
      "Epoch 76 | Train Loss: 0.4886 | Train F1: 0.8547 | Val Loss: 0.4207 | Val F1: 0.9712\n"
     ]
    },
    {
     "name": "stderr",
     "output_type": "stream",
     "text": [
      "Loss: 0.3203: 100%|██████████| 126/126 [00:39<00:00,  3.16it/s]\n",
      "Val Loss: 0.3203: 100%|██████████| 32/32 [00:08<00:00,  3.78it/s]\n"
     ]
    },
    {
     "name": "stdout",
     "output_type": "stream",
     "text": [
      "Epoch 77 | Train Loss: 0.4538 | Train F1: 0.8903 | Val Loss: 0.3867 | Val F1: 0.9790\n"
     ]
    },
    {
     "name": "stderr",
     "output_type": "stream",
     "text": [
      "Loss: 0.3206: 100%|██████████| 126/126 [00:39<00:00,  3.15it/s]\n",
      "Val Loss: 0.3203: 100%|██████████| 32/32 [00:08<00:00,  3.78it/s]\n"
     ]
    },
    {
     "name": "stdout",
     "output_type": "stream",
     "text": [
      "Epoch 78 | Train Loss: 0.5462 | Train F1: 0.8331 | Val Loss: 0.4022 | Val F1: 0.9760\n"
     ]
    },
    {
     "name": "stderr",
     "output_type": "stream",
     "text": [
      "Loss: 0.3203: 100%|██████████| 126/126 [00:39<00:00,  3.16it/s]\n",
      "Val Loss: 0.3203: 100%|██████████| 32/32 [00:08<00:00,  3.77it/s]\n"
     ]
    },
    {
     "name": "stdout",
     "output_type": "stream",
     "text": [
      "Epoch 79 | Train Loss: 0.4538 | Train F1: 0.8507 | Val Loss: 0.3984 | Val F1: 0.9743\n"
     ]
    },
    {
     "name": "stderr",
     "output_type": "stream",
     "text": [
      "Loss: 0.7275: 100%|██████████| 126/126 [00:39<00:00,  3.15it/s]\n",
      "Val Loss: 0.3203: 100%|██████████| 32/32 [00:08<00:00,  3.76it/s]\n"
     ]
    },
    {
     "name": "stdout",
     "output_type": "stream",
     "text": [
      "Epoch 80 | Train Loss: 0.5278 | Train F1: 0.8524 | Val Loss: 0.3994 | Val F1: 0.9790\n"
     ]
    },
    {
     "name": "stderr",
     "output_type": "stream",
     "text": [
      "Loss: 0.3203: 100%|██████████| 126/126 [00:39<00:00,  3.16it/s]\n",
      "Val Loss: 0.3203: 100%|██████████| 32/32 [00:08<00:00,  3.78it/s]\n"
     ]
    },
    {
     "name": "stdout",
     "output_type": "stream",
     "text": [
      "Epoch 81 | Train Loss: 0.5117 | Train F1: 0.8686 | Val Loss: 0.4048 | Val F1: 0.9790\n"
     ]
    },
    {
     "name": "stderr",
     "output_type": "stream",
     "text": [
      "Loss: 0.7041: 100%|██████████| 126/126 [00:39<00:00,  3.16it/s]\n",
      "Val Loss: 0.3203: 100%|██████████| 32/32 [00:08<00:00,  3.77it/s]\n"
     ]
    },
    {
     "name": "stdout",
     "output_type": "stream",
     "text": [
      "Epoch 82 | Train Loss: 0.5054 | Train F1: 0.8867 | Val Loss: 0.4028 | Val F1: 0.9760\n"
     ]
    },
    {
     "name": "stderr",
     "output_type": "stream",
     "text": [
      "Loss: 0.3201: 100%|██████████| 126/126 [00:39<00:00,  3.16it/s]\n",
      "Val Loss: 0.3203: 100%|██████████| 32/32 [00:08<00:00,  3.74it/s]\n"
     ]
    },
    {
     "name": "stdout",
     "output_type": "stream",
     "text": [
      "Epoch 83 | Train Loss: 0.5234 | Train F1: 0.8254 | Val Loss: 0.4335 | Val F1: 0.9730\n"
     ]
    },
    {
     "name": "stderr",
     "output_type": "stream",
     "text": [
      "Loss: 0.3203: 100%|██████████| 126/126 [00:39<00:00,  3.16it/s]\n",
      "Val Loss: 0.3203: 100%|██████████| 32/32 [00:08<00:00,  3.76it/s]\n"
     ]
    },
    {
     "name": "stdout",
     "output_type": "stream",
     "text": [
      "Epoch 84 | Train Loss: 0.4648 | Train F1: 0.8854 | Val Loss: 0.3949 | Val F1: 0.9742\n"
     ]
    },
    {
     "name": "stderr",
     "output_type": "stream",
     "text": [
      "Loss: 0.3203: 100%|██████████| 126/126 [00:39<00:00,  3.16it/s]\n",
      "Val Loss: 0.3203: 100%|██████████| 32/32 [00:08<00:00,  3.77it/s]\n"
     ]
    },
    {
     "name": "stdout",
     "output_type": "stream",
     "text": [
      "Epoch 85 | Train Loss: 0.4784 | Train F1: 0.9057 | Val Loss: 0.3792 | Val F1: 0.9819\n"
     ]
    },
    {
     "name": "stderr",
     "output_type": "stream",
     "text": [
      "Loss: 0.3201: 100%|██████████| 126/126 [00:39<00:00,  3.16it/s]\n",
      "Val Loss: 0.3203: 100%|██████████| 32/32 [00:08<00:00,  3.81it/s]\n"
     ]
    },
    {
     "name": "stdout",
     "output_type": "stream",
     "text": [
      "Epoch 86 | Train Loss: 0.5186 | Train F1: 0.8518 | Val Loss: 0.4063 | Val F1: 0.9759\n"
     ]
    },
    {
     "name": "stderr",
     "output_type": "stream",
     "text": [
      "Loss: 1.0088: 100%|██████████| 126/126 [00:39<00:00,  3.16it/s]\n",
      "Val Loss: 0.3203: 100%|██████████| 32/32 [00:08<00:00,  3.78it/s]\n"
     ]
    },
    {
     "name": "stdout",
     "output_type": "stream",
     "text": [
      "Epoch 87 | Train Loss: 0.5196 | Train F1: 0.8876 | Val Loss: 0.4242 | Val F1: 0.9730\n"
     ]
    },
    {
     "name": "stderr",
     "output_type": "stream",
     "text": [
      "Loss: 0.4731: 100%|██████████| 126/126 [00:39<00:00,  3.16it/s]\n",
      "Val Loss: 0.3203: 100%|██████████| 32/32 [00:08<00:00,  3.78it/s]\n"
     ]
    },
    {
     "name": "stdout",
     "output_type": "stream",
     "text": [
      "Epoch 88 | Train Loss: 0.4976 | Train F1: 0.8654 | Val Loss: 0.3700 | Val F1: 0.9848\n"
     ]
    },
    {
     "name": "stderr",
     "output_type": "stream",
     "text": [
      "Loss: 0.3201: 100%|██████████| 126/126 [00:39<00:00,  3.17it/s]\n",
      "Val Loss: 0.3203: 100%|██████████| 32/32 [00:08<00:00,  3.81it/s]\n"
     ]
    },
    {
     "name": "stdout",
     "output_type": "stream",
     "text": [
      "Epoch 89 | Train Loss: 0.4378 | Train F1: 0.9405 | Val Loss: 0.3871 | Val F1: 0.9819\n"
     ]
    },
    {
     "name": "stderr",
     "output_type": "stream",
     "text": [
      "Loss: 0.3201: 100%|██████████| 126/126 [00:39<00:00,  3.16it/s]\n",
      "Val Loss: 0.3203: 100%|██████████| 32/32 [00:08<00:00,  3.79it/s]\n"
     ]
    },
    {
     "name": "stdout",
     "output_type": "stream",
     "text": [
      "Epoch 90 | Train Loss: 0.4652 | Train F1: 0.8823 | Val Loss: 0.3926 | Val F1: 0.9772\n"
     ]
    },
    {
     "name": "stderr",
     "output_type": "stream",
     "text": [
      "Loss: 0.3203: 100%|██████████| 126/126 [00:39<00:00,  3.16it/s]\n",
      "Val Loss: 0.3203: 100%|██████████| 32/32 [00:08<00:00,  3.76it/s]\n"
     ]
    },
    {
     "name": "stdout",
     "output_type": "stream",
     "text": [
      "Epoch 91 | Train Loss: 0.4566 | Train F1: 0.8722 | Val Loss: 0.3738 | Val F1: 0.9819\n"
     ]
    },
    {
     "name": "stderr",
     "output_type": "stream",
     "text": [
      "Loss: 0.3203: 100%|██████████| 126/126 [00:39<00:00,  3.17it/s]\n",
      "Val Loss: 0.3203: 100%|██████████| 32/32 [00:08<00:00,  3.76it/s]\n"
     ]
    },
    {
     "name": "stdout",
     "output_type": "stream",
     "text": [
      "Epoch 92 | Train Loss: 0.4548 | Train F1: 0.8965 | Val Loss: 0.3915 | Val F1: 0.9772\n"
     ]
    },
    {
     "name": "stderr",
     "output_type": "stream",
     "text": [
      "Loss: 0.3203: 100%|██████████| 126/126 [00:40<00:00,  3.15it/s]\n",
      "Val Loss: 0.3203: 100%|██████████| 32/32 [00:08<00:00,  3.77it/s]\n"
     ]
    },
    {
     "name": "stdout",
     "output_type": "stream",
     "text": [
      "Epoch 93 | Train Loss: 0.4944 | Train F1: 0.8971 | Val Loss: 0.3666 | Val F1: 0.9819\n"
     ]
    },
    {
     "name": "stderr",
     "output_type": "stream",
     "text": [
      "Loss: 0.3203: 100%|██████████| 126/126 [00:39<00:00,  3.16it/s]\n",
      "Val Loss: 0.3203: 100%|██████████| 32/32 [00:08<00:00,  3.77it/s]\n"
     ]
    },
    {
     "name": "stdout",
     "output_type": "stream",
     "text": [
      "Epoch 94 | Train Loss: 0.4640 | Train F1: 0.8912 | Val Loss: 0.4017 | Val F1: 0.9742\n"
     ]
    },
    {
     "name": "stderr",
     "output_type": "stream",
     "text": [
      "Loss: 0.9180: 100%|██████████| 126/126 [00:39<00:00,  3.16it/s]\n",
      "Val Loss: 0.3203: 100%|██████████| 32/32 [00:08<00:00,  3.77it/s]\n"
     ]
    },
    {
     "name": "stdout",
     "output_type": "stream",
     "text": [
      "Epoch 95 | Train Loss: 0.5089 | Train F1: 0.8749 | Val Loss: 0.3975 | Val F1: 0.9771\n"
     ]
    },
    {
     "name": "stderr",
     "output_type": "stream",
     "text": [
      "Loss: 0.9526: 100%|██████████| 126/126 [00:39<00:00,  3.15it/s]\n",
      "Val Loss: 0.3203: 100%|██████████| 32/32 [00:08<00:00,  3.73it/s]\n"
     ]
    },
    {
     "name": "stdout",
     "output_type": "stream",
     "text": [
      "Epoch 96 | Train Loss: 0.5114 | Train F1: 0.8401 | Val Loss: 0.4067 | Val F1: 0.9692\n"
     ]
    },
    {
     "name": "stderr",
     "output_type": "stream",
     "text": [
      "Loss: 0.7373: 100%|██████████| 126/126 [00:39<00:00,  3.15it/s]\n",
      "Val Loss: 0.3203: 100%|██████████| 32/32 [00:08<00:00,  3.78it/s]\n"
     ]
    },
    {
     "name": "stdout",
     "output_type": "stream",
     "text": [
      "Epoch 97 | Train Loss: 0.5263 | Train F1: 0.8416 | Val Loss: 0.3940 | Val F1: 0.9772\n"
     ]
    },
    {
     "name": "stderr",
     "output_type": "stream",
     "text": [
      "Loss: 0.7031: 100%|██████████| 126/126 [00:39<00:00,  3.16it/s]\n",
      "Val Loss: 0.3203: 100%|██████████| 32/32 [00:08<00:00,  3.77it/s]\n"
     ]
    },
    {
     "name": "stdout",
     "output_type": "stream",
     "text": [
      "Epoch 98 | Train Loss: 0.5208 | Train F1: 0.8544 | Val Loss: 0.3895 | Val F1: 0.9834\n"
     ]
    },
    {
     "name": "stderr",
     "output_type": "stream",
     "text": [
      "Loss: 1.1270: 100%|██████████| 126/126 [00:39<00:00,  3.16it/s]\n",
      "Val Loss: 0.3203: 100%|██████████| 32/32 [00:08<00:00,  3.75it/s]\n"
     ]
    },
    {
     "name": "stdout",
     "output_type": "stream",
     "text": [
      "Epoch 99 | Train Loss: 0.5534 | Train F1: 0.8299 | Val Loss: 0.3887 | Val F1: 0.9771\n"
     ]
    },
    {
     "name": "stderr",
     "output_type": "stream",
     "text": [
      "Loss: 1.1201: 100%|██████████| 126/126 [00:39<00:00,  3.16it/s]\n",
      "Val Loss: 0.3203: 100%|██████████| 32/32 [00:08<00:00,  3.77it/s]\n"
     ]
    },
    {
     "name": "stdout",
     "output_type": "stream",
     "text": [
      "Epoch 100 | Train Loss: 0.5451 | Train F1: 0.8442 | Val Loss: 0.4155 | Val F1: 0.9731\n",
      "Fold 3 Best Validation F1: 0.9893\n",
      "\n",
      "==================================================\n",
      "FOLD 4/5\n",
      "==================================================\n",
      "Train samples: 1256, Validation samples: 314\n"
     ]
    },
    {
     "name": "stderr",
     "output_type": "stream",
     "text": [
      "Loss: 1.4785: 100%|██████████| 126/126 [00:40<00:00,  3.15it/s]\n",
      "Val Loss: 1.0895: 100%|██████████| 32/32 [00:08<00:00,  3.74it/s]"
     ]
    },
    {
     "name": "stdout",
     "output_type": "stream",
     "text": [
      "Epoch  1 | Train Loss: 1.5332 | Train F1: 0.5160 | Val Loss: 0.7600 | Val F1: 0.8240\n"
     ]
    },
    {
     "name": "stderr",
     "output_type": "stream",
     "text": [
      "\n",
      "Loss: 0.7021: 100%|██████████| 126/126 [00:40<00:00,  3.14it/s]\n",
      "Val Loss: 0.3438: 100%|██████████| 32/32 [00:08<00:00,  3.76it/s]\n"
     ]
    },
    {
     "name": "stdout",
     "output_type": "stream",
     "text": [
      "Epoch  2 | Train Loss: 0.9186 | Train F1: 0.7417 | Val Loss: 0.7259 | Val F1: 0.8094\n"
     ]
    },
    {
     "name": "stderr",
     "output_type": "stream",
     "text": [
      "Loss: 1.5273: 100%|██████████| 126/126 [00:40<00:00,  3.14it/s]\n",
      "Val Loss: 0.4413: 100%|██████████| 32/32 [00:08<00:00,  3.79it/s]"
     ]
    },
    {
     "name": "stdout",
     "output_type": "stream",
     "text": [
      "Epoch  3 | Train Loss: 0.8873 | Train F1: 0.7420 | Val Loss: 0.6526 | Val F1: 0.8496\n"
     ]
    },
    {
     "name": "stderr",
     "output_type": "stream",
     "text": [
      "\n",
      "Loss: 0.6045: 100%|██████████| 126/126 [00:40<00:00,  3.14it/s]\n",
      "Val Loss: 0.3702: 100%|██████████| 32/32 [00:08<00:00,  3.79it/s]"
     ]
    },
    {
     "name": "stdout",
     "output_type": "stream",
     "text": [
      "Epoch  4 | Train Loss: 0.7808 | Train F1: 0.7764 | Val Loss: 0.5300 | Val F1: 0.9171\n"
     ]
    },
    {
     "name": "stderr",
     "output_type": "stream",
     "text": [
      "\n",
      "Loss: 0.9727: 100%|██████████| 126/126 [00:40<00:00,  3.13it/s]\n",
      "Val Loss: 0.4447: 100%|██████████| 32/32 [00:08<00:00,  3.75it/s]\n"
     ]
    },
    {
     "name": "stdout",
     "output_type": "stream",
     "text": [
      "Epoch  5 | Train Loss: 0.7087 | Train F1: 0.8165 | Val Loss: 0.5169 | Val F1: 0.9134\n"
     ]
    },
    {
     "name": "stderr",
     "output_type": "stream",
     "text": [
      "Loss: 0.7993: 100%|██████████| 126/126 [00:40<00:00,  3.14it/s]\n",
      "Val Loss: 0.3858: 100%|██████████| 32/32 [00:08<00:00,  3.77it/s]"
     ]
    },
    {
     "name": "stdout",
     "output_type": "stream",
     "text": [
      "Epoch  6 | Train Loss: 0.6365 | Train F1: 0.8704 | Val Loss: 0.5101 | Val F1: 0.9183\n"
     ]
    },
    {
     "name": "stderr",
     "output_type": "stream",
     "text": [
      "\n",
      "Loss: 0.3706: 100%|██████████| 126/126 [00:40<00:00,  3.14it/s]\n",
      "Val Loss: 0.4567: 100%|██████████| 32/32 [00:08<00:00,  3.79it/s]"
     ]
    },
    {
     "name": "stdout",
     "output_type": "stream",
     "text": [
      "Epoch  7 | Train Loss: 0.7581 | Train F1: 0.7873 | Val Loss: 0.4829 | Val F1: 0.9432\n"
     ]
    },
    {
     "name": "stderr",
     "output_type": "stream",
     "text": [
      "\n",
      "Loss: 1.1064: 100%|██████████| 126/126 [00:40<00:00,  3.13it/s]\n",
      "Val Loss: 0.3984: 100%|██████████| 32/32 [00:08<00:00,  3.79it/s]\n"
     ]
    },
    {
     "name": "stdout",
     "output_type": "stream",
     "text": [
      "Epoch  8 | Train Loss: 0.7073 | Train F1: 0.8153 | Val Loss: 0.4906 | Val F1: 0.9251\n"
     ]
    },
    {
     "name": "stderr",
     "output_type": "stream",
     "text": [
      "Loss: 1.0566: 100%|██████████| 126/126 [00:40<00:00,  3.13it/s]\n",
      "Val Loss: 0.4968: 100%|██████████| 32/32 [00:08<00:00,  3.74it/s]"
     ]
    },
    {
     "name": "stdout",
     "output_type": "stream",
     "text": [
      "Epoch  9 | Train Loss: 0.6729 | Train F1: 0.8166 | Val Loss: 0.4736 | Val F1: 0.9570\n"
     ]
    },
    {
     "name": "stderr",
     "output_type": "stream",
     "text": [
      "\n",
      "Loss: 0.3616: 100%|██████████| 126/126 [00:40<00:00,  3.13it/s]\n",
      "Val Loss: 0.3553: 100%|██████████| 32/32 [00:08<00:00,  3.75it/s]\n"
     ]
    },
    {
     "name": "stdout",
     "output_type": "stream",
     "text": [
      "Epoch 10 | Train Loss: 0.6421 | Train F1: 0.8364 | Val Loss: 0.4727 | Val F1: 0.9515\n"
     ]
    },
    {
     "name": "stderr",
     "output_type": "stream",
     "text": [
      "Loss: 0.3992: 100%|██████████| 126/126 [00:40<00:00,  3.13it/s]\n",
      "Val Loss: 0.4079: 100%|██████████| 32/32 [00:08<00:00,  3.76it/s]"
     ]
    },
    {
     "name": "stdout",
     "output_type": "stream",
     "text": [
      "Epoch 11 | Train Loss: 0.6246 | Train F1: 0.8437 | Val Loss: 0.4355 | Val F1: 0.9736\n"
     ]
    },
    {
     "name": "stderr",
     "output_type": "stream",
     "text": [
      "\n",
      "Loss: 0.8848: 100%|██████████| 126/126 [00:40<00:00,  3.14it/s]\n",
      "Val Loss: 0.4256: 100%|██████████| 32/32 [00:08<00:00,  3.76it/s]\n"
     ]
    },
    {
     "name": "stdout",
     "output_type": "stream",
     "text": [
      "Epoch 12 | Train Loss: 0.6794 | Train F1: 0.8276 | Val Loss: 0.4888 | Val F1: 0.9344\n"
     ]
    },
    {
     "name": "stderr",
     "output_type": "stream",
     "text": [
      "Loss: 0.3350: 100%|██████████| 126/126 [00:40<00:00,  3.14it/s]\n",
      "Val Loss: 0.3884: 100%|██████████| 32/32 [00:08<00:00,  3.74it/s]\n"
     ]
    },
    {
     "name": "stdout",
     "output_type": "stream",
     "text": [
      "Epoch 13 | Train Loss: 0.6363 | Train F1: 0.8491 | Val Loss: 0.4438 | Val F1: 0.9520\n"
     ]
    },
    {
     "name": "stderr",
     "output_type": "stream",
     "text": [
      "Loss: 0.9346: 100%|██████████| 126/126 [00:40<00:00,  3.14it/s]\n",
      "Val Loss: 0.3580: 100%|██████████| 32/32 [00:08<00:00,  3.74it/s]\n"
     ]
    },
    {
     "name": "stdout",
     "output_type": "stream",
     "text": [
      "Epoch 14 | Train Loss: 0.6200 | Train F1: 0.8511 | Val Loss: 0.5138 | Val F1: 0.9388\n"
     ]
    },
    {
     "name": "stderr",
     "output_type": "stream",
     "text": [
      "Loss: 0.3259: 100%|██████████| 126/126 [00:40<00:00,  3.14it/s]\n",
      "Val Loss: 0.4195: 100%|██████████| 32/32 [00:08<00:00,  3.78it/s]\n"
     ]
    },
    {
     "name": "stdout",
     "output_type": "stream",
     "text": [
      "Epoch 15 | Train Loss: 0.6004 | Train F1: 0.8405 | Val Loss: 0.4741 | Val F1: 0.9581\n"
     ]
    },
    {
     "name": "stderr",
     "output_type": "stream",
     "text": [
      "Loss: 0.3560: 100%|██████████| 126/126 [00:40<00:00,  3.14it/s]\n",
      "Val Loss: 0.3680: 100%|██████████| 32/32 [00:08<00:00,  3.77it/s]\n"
     ]
    },
    {
     "name": "stdout",
     "output_type": "stream",
     "text": [
      "Epoch 16 | Train Loss: 0.5600 | Train F1: 0.8314 | Val Loss: 0.4394 | Val F1: 0.9647\n"
     ]
    },
    {
     "name": "stderr",
     "output_type": "stream",
     "text": [
      "Loss: 0.3320: 100%|██████████| 126/126 [00:40<00:00,  3.14it/s]\n",
      "Val Loss: 0.5399: 100%|██████████| 32/32 [00:08<00:00,  3.76it/s]\n"
     ]
    },
    {
     "name": "stdout",
     "output_type": "stream",
     "text": [
      "Epoch 17 | Train Loss: 0.5483 | Train F1: 0.8796 | Val Loss: 0.4859 | Val F1: 0.9461\n"
     ]
    },
    {
     "name": "stderr",
     "output_type": "stream",
     "text": [
      "Loss: 0.7529: 100%|██████████| 126/126 [00:40<00:00,  3.14it/s]\n",
      "Val Loss: 0.3324: 100%|██████████| 32/32 [00:08<00:00,  3.74it/s]"
     ]
    },
    {
     "name": "stdout",
     "output_type": "stream",
     "text": [
      "Epoch 18 | Train Loss: 0.5238 | Train F1: 0.8911 | Val Loss: 0.4232 | Val F1: 0.9751\n"
     ]
    },
    {
     "name": "stderr",
     "output_type": "stream",
     "text": [
      "\n",
      "Loss: 0.3232: 100%|██████████| 126/126 [00:40<00:00,  3.14it/s]\n",
      "Val Loss: 0.3264: 100%|██████████| 32/32 [00:08<00:00,  3.78it/s]\n"
     ]
    },
    {
     "name": "stdout",
     "output_type": "stream",
     "text": [
      "Epoch 19 | Train Loss: 0.5384 | Train F1: 0.8834 | Val Loss: 0.4260 | Val F1: 0.9730\n"
     ]
    },
    {
     "name": "stderr",
     "output_type": "stream",
     "text": [
      "Loss: 1.7734: 100%|██████████| 126/126 [00:40<00:00,  3.15it/s]\n",
      "Val Loss: 0.3491: 100%|██████████| 32/32 [00:08<00:00,  3.78it/s]\n"
     ]
    },
    {
     "name": "stdout",
     "output_type": "stream",
     "text": [
      "Epoch 20 | Train Loss: 0.6093 | Train F1: 0.8206 | Val Loss: 0.4359 | Val F1: 0.9620\n"
     ]
    },
    {
     "name": "stderr",
     "output_type": "stream",
     "text": [
      "Loss: 0.4263: 100%|██████████| 126/126 [00:40<00:00,  3.14it/s]\n",
      "Val Loss: 0.5389: 100%|██████████| 32/32 [00:08<00:00,  3.77it/s]\n"
     ]
    },
    {
     "name": "stdout",
     "output_type": "stream",
     "text": [
      "Epoch 21 | Train Loss: 0.5530 | Train F1: 0.8440 | Val Loss: 0.4385 | Val F1: 0.9679\n"
     ]
    },
    {
     "name": "stderr",
     "output_type": "stream",
     "text": [
      "Loss: 0.6650: 100%|██████████| 126/126 [00:40<00:00,  3.14it/s]\n",
      "Val Loss: 0.3237: 100%|██████████| 32/32 [00:08<00:00,  3.79it/s]\n"
     ]
    },
    {
     "name": "stdout",
     "output_type": "stream",
     "text": [
      "Epoch 22 | Train Loss: 0.5785 | Train F1: 0.8626 | Val Loss: 0.4159 | Val F1: 0.9680\n"
     ]
    },
    {
     "name": "stderr",
     "output_type": "stream",
     "text": [
      "Loss: 0.7769: 100%|██████████| 126/126 [00:40<00:00,  3.14it/s]\n",
      "Val Loss: 0.3249: 100%|██████████| 32/32 [00:08<00:00,  3.77it/s]\n"
     ]
    },
    {
     "name": "stdout",
     "output_type": "stream",
     "text": [
      "Epoch 23 | Train Loss: 0.5525 | Train F1: 0.8792 | Val Loss: 0.4018 | Val F1: 0.9748\n"
     ]
    },
    {
     "name": "stderr",
     "output_type": "stream",
     "text": [
      "Loss: 0.3223: 100%|██████████| 126/126 [00:40<00:00,  3.13it/s]\n",
      "Val Loss: 0.3228: 100%|██████████| 32/32 [00:08<00:00,  3.76it/s]\n"
     ]
    },
    {
     "name": "stdout",
     "output_type": "stream",
     "text": [
      "Epoch 24 | Train Loss: 0.5572 | Train F1: 0.8225 | Val Loss: 0.4206 | Val F1: 0.9675\n"
     ]
    },
    {
     "name": "stderr",
     "output_type": "stream",
     "text": [
      "Loss: 0.3252: 100%|██████████| 126/126 [00:40<00:00,  3.14it/s]\n",
      "Val Loss: 0.3228: 100%|██████████| 32/32 [00:08<00:00,  3.76it/s]\n"
     ]
    },
    {
     "name": "stdout",
     "output_type": "stream",
     "text": [
      "Epoch 25 | Train Loss: 0.5208 | Train F1: 0.8601 | Val Loss: 0.4180 | Val F1: 0.9748\n"
     ]
    },
    {
     "name": "stderr",
     "output_type": "stream",
     "text": [
      "Loss: 0.6621: 100%|██████████| 126/126 [00:40<00:00,  3.14it/s]\n",
      "Val Loss: 0.3220: 100%|██████████| 32/32 [00:08<00:00,  3.75it/s]\n"
     ]
    },
    {
     "name": "stdout",
     "output_type": "stream",
     "text": [
      "Epoch 26 | Train Loss: 0.5507 | Train F1: 0.8912 | Val Loss: 0.4310 | Val F1: 0.9713\n"
     ]
    },
    {
     "name": "stderr",
     "output_type": "stream",
     "text": [
      "Loss: 1.2930: 100%|██████████| 126/126 [00:40<00:00,  3.15it/s]\n",
      "Val Loss: 0.3358: 100%|██████████| 32/32 [00:08<00:00,  3.76it/s]\n"
     ]
    },
    {
     "name": "stdout",
     "output_type": "stream",
     "text": [
      "Epoch 27 | Train Loss: 0.5882 | Train F1: 0.8352 | Val Loss: 0.4528 | Val F1: 0.9575\n"
     ]
    },
    {
     "name": "stderr",
     "output_type": "stream",
     "text": [
      "Loss: 0.3364: 100%|██████████| 126/126 [00:40<00:00,  3.14it/s]\n",
      "Val Loss: 0.3235: 100%|██████████| 32/32 [00:08<00:00,  3.79it/s]\n"
     ]
    },
    {
     "name": "stdout",
     "output_type": "stream",
     "text": [
      "Epoch 28 | Train Loss: 0.5710 | Train F1: 0.8237 | Val Loss: 0.4613 | Val F1: 0.9529\n"
     ]
    },
    {
     "name": "stderr",
     "output_type": "stream",
     "text": [
      "Loss: 0.3230: 100%|██████████| 126/126 [00:40<00:00,  3.15it/s]\n",
      "Val Loss: 0.3216: 100%|██████████| 32/32 [00:08<00:00,  3.76it/s]"
     ]
    },
    {
     "name": "stdout",
     "output_type": "stream",
     "text": [
      "Epoch 29 | Train Loss: 0.5566 | Train F1: 0.8458 | Val Loss: 0.3983 | Val F1: 0.9777\n"
     ]
    },
    {
     "name": "stderr",
     "output_type": "stream",
     "text": [
      "\n",
      "Loss: 0.3232: 100%|██████████| 126/126 [00:40<00:00,  3.14it/s]\n",
      "Val Loss: 0.3236: 100%|██████████| 32/32 [00:08<00:00,  3.80it/s]\n"
     ]
    },
    {
     "name": "stdout",
     "output_type": "stream",
     "text": [
      "Epoch 30 | Train Loss: 0.5121 | Train F1: 0.9207 | Val Loss: 0.4160 | Val F1: 0.9756\n"
     ]
    },
    {
     "name": "stderr",
     "output_type": "stream",
     "text": [
      "Loss: 1.0078: 100%|██████████| 126/126 [00:40<00:00,  3.15it/s]\n",
      "Val Loss: 0.3218: 100%|██████████| 32/32 [00:08<00:00,  3.75it/s]\n"
     ]
    },
    {
     "name": "stdout",
     "output_type": "stream",
     "text": [
      "Epoch 31 | Train Loss: 0.5424 | Train F1: 0.8695 | Val Loss: 0.4006 | Val F1: 0.9744\n"
     ]
    },
    {
     "name": "stderr",
     "output_type": "stream",
     "text": [
      "Loss: 1.2178: 100%|██████████| 126/126 [00:39<00:00,  3.15it/s]\n",
      "Val Loss: 0.3223: 100%|██████████| 32/32 [00:08<00:00,  3.74it/s]"
     ]
    },
    {
     "name": "stdout",
     "output_type": "stream",
     "text": [
      "Epoch 32 | Train Loss: 0.5226 | Train F1: 0.8783 | Val Loss: 0.3908 | Val F1: 0.9809\n"
     ]
    },
    {
     "name": "stderr",
     "output_type": "stream",
     "text": [
      "\n",
      "Loss: 0.3210: 100%|██████████| 126/126 [00:40<00:00,  3.14it/s]\n",
      "Val Loss: 0.3219: 100%|██████████| 32/32 [00:08<00:00,  3.74it/s]"
     ]
    },
    {
     "name": "stdout",
     "output_type": "stream",
     "text": [
      "Epoch 33 | Train Loss: 0.4994 | Train F1: 0.8833 | Val Loss: 0.3918 | Val F1: 0.9837\n"
     ]
    },
    {
     "name": "stderr",
     "output_type": "stream",
     "text": [
      "\n",
      "Loss: 0.3237: 100%|██████████| 126/126 [00:40<00:00,  3.15it/s]\n",
      "Val Loss: 0.3223: 100%|██████████| 32/32 [00:08<00:00,  3.78it/s]"
     ]
    },
    {
     "name": "stdout",
     "output_type": "stream",
     "text": [
      "Epoch 34 | Train Loss: 0.5635 | Train F1: 0.8104 | Val Loss: 0.3822 | Val F1: 0.9848\n"
     ]
    },
    {
     "name": "stderr",
     "output_type": "stream",
     "text": [
      "\n",
      "Loss: 0.3208: 100%|██████████| 126/126 [00:40<00:00,  3.14it/s]\n",
      "Val Loss: 0.3213: 100%|██████████| 32/32 [00:08<00:00,  3.76it/s]\n"
     ]
    },
    {
     "name": "stdout",
     "output_type": "stream",
     "text": [
      "Epoch 35 | Train Loss: 0.5314 | Train F1: 0.8482 | Val Loss: 0.3864 | Val F1: 0.9780\n"
     ]
    },
    {
     "name": "stderr",
     "output_type": "stream",
     "text": [
      "Loss: 0.3223: 100%|██████████| 126/126 [00:40<00:00,  3.15it/s]\n",
      "Val Loss: 0.3245: 100%|██████████| 32/32 [00:08<00:00,  3.77it/s]\n"
     ]
    },
    {
     "name": "stdout",
     "output_type": "stream",
     "text": [
      "Epoch 36 | Train Loss: 0.5751 | Train F1: 0.8623 | Val Loss: 0.4236 | Val F1: 0.9753\n"
     ]
    },
    {
     "name": "stderr",
     "output_type": "stream",
     "text": [
      "Loss: 0.3215: 100%|██████████| 126/126 [00:40<00:00,  3.14it/s]\n",
      "Val Loss: 0.3241: 100%|██████████| 32/32 [00:08<00:00,  3.78it/s]\n"
     ]
    },
    {
     "name": "stdout",
     "output_type": "stream",
     "text": [
      "Epoch 37 | Train Loss: 0.5671 | Train F1: 0.8333 | Val Loss: 0.3874 | Val F1: 0.9690\n"
     ]
    },
    {
     "name": "stderr",
     "output_type": "stream",
     "text": [
      "Loss: 0.8154: 100%|██████████| 126/126 [00:39<00:00,  3.16it/s]\n",
      "Val Loss: 0.3215: 100%|██████████| 32/32 [00:08<00:00,  3.77it/s]\n"
     ]
    },
    {
     "name": "stdout",
     "output_type": "stream",
     "text": [
      "Epoch 38 | Train Loss: 0.5304 | Train F1: 0.8455 | Val Loss: 0.3779 | Val F1: 0.9836\n"
     ]
    },
    {
     "name": "stderr",
     "output_type": "stream",
     "text": [
      "Loss: 0.3215: 100%|██████████| 126/126 [00:39<00:00,  3.15it/s]\n",
      "Val Loss: 0.3222: 100%|██████████| 32/32 [00:08<00:00,  3.72it/s]\n"
     ]
    },
    {
     "name": "stdout",
     "output_type": "stream",
     "text": [
      "Epoch 39 | Train Loss: 0.5255 | Train F1: 0.8610 | Val Loss: 0.4100 | Val F1: 0.9755\n"
     ]
    },
    {
     "name": "stderr",
     "output_type": "stream",
     "text": [
      "Loss: 0.3215: 100%|██████████| 126/126 [00:40<00:00,  3.15it/s]\n",
      "Val Loss: 0.3207: 100%|██████████| 32/32 [00:08<00:00,  3.78it/s]\n"
     ]
    },
    {
     "name": "stdout",
     "output_type": "stream",
     "text": [
      "Epoch 40 | Train Loss: 0.5425 | Train F1: 0.8722 | Val Loss: 0.4037 | Val F1: 0.9742\n"
     ]
    },
    {
     "name": "stderr",
     "output_type": "stream",
     "text": [
      "Loss: 0.3225: 100%|██████████| 126/126 [00:40<00:00,  3.15it/s]\n",
      "Val Loss: 0.3211: 100%|██████████| 32/32 [00:08<00:00,  3.78it/s]\n"
     ]
    },
    {
     "name": "stdout",
     "output_type": "stream",
     "text": [
      "Epoch 41 | Train Loss: 0.4978 | Train F1: 0.9009 | Val Loss: 0.3938 | Val F1: 0.9769\n"
     ]
    },
    {
     "name": "stderr",
     "output_type": "stream",
     "text": [
      "Loss: 0.3206: 100%|██████████| 126/126 [00:39<00:00,  3.15it/s]\n",
      "Val Loss: 0.3221: 100%|██████████| 32/32 [00:08<00:00,  3.75it/s]\n"
     ]
    },
    {
     "name": "stdout",
     "output_type": "stream",
     "text": [
      "Epoch 42 | Train Loss: 0.5511 | Train F1: 0.8315 | Val Loss: 0.3989 | Val F1: 0.9802\n"
     ]
    },
    {
     "name": "stderr",
     "output_type": "stream",
     "text": [
      "Loss: 0.3208: 100%|██████████| 126/126 [00:40<00:00,  3.14it/s]\n",
      "Val Loss: 0.3207: 100%|██████████| 32/32 [00:08<00:00,  3.78it/s]\n"
     ]
    },
    {
     "name": "stdout",
     "output_type": "stream",
     "text": [
      "Epoch 43 | Train Loss: 0.5211 | Train F1: 0.8722 | Val Loss: 0.3932 | Val F1: 0.9779\n"
     ]
    },
    {
     "name": "stderr",
     "output_type": "stream",
     "text": [
      "Loss: 0.6333: 100%|██████████| 126/126 [00:40<00:00,  3.15it/s]\n",
      "Val Loss: 0.3220: 100%|██████████| 32/32 [00:08<00:00,  3.79it/s]\n"
     ]
    },
    {
     "name": "stdout",
     "output_type": "stream",
     "text": [
      "Epoch 44 | Train Loss: 0.5170 | Train F1: 0.8445 | Val Loss: 0.4019 | Val F1: 0.9808\n"
     ]
    },
    {
     "name": "stderr",
     "output_type": "stream",
     "text": [
      "Loss: 0.3208: 100%|██████████| 126/126 [00:40<00:00,  3.14it/s]\n",
      "Val Loss: 0.3206: 100%|██████████| 32/32 [00:08<00:00,  3.78it/s]\n"
     ]
    },
    {
     "name": "stdout",
     "output_type": "stream",
     "text": [
      "Epoch 45 | Train Loss: 0.5160 | Train F1: 0.8253 | Val Loss: 0.3876 | Val F1: 0.9818\n"
     ]
    },
    {
     "name": "stderr",
     "output_type": "stream",
     "text": [
      "Loss: 0.3208: 100%|██████████| 126/126 [00:40<00:00,  3.15it/s]\n",
      "Val Loss: 0.3205: 100%|██████████| 32/32 [00:08<00:00,  3.79it/s]\n"
     ]
    },
    {
     "name": "stdout",
     "output_type": "stream",
     "text": [
      "Epoch 46 | Train Loss: 0.4744 | Train F1: 0.9116 | Val Loss: 0.3765 | Val F1: 0.9808\n"
     ]
    },
    {
     "name": "stderr",
     "output_type": "stream",
     "text": [
      "Loss: 0.3250: 100%|██████████| 126/126 [00:40<00:00,  3.14it/s]\n",
      "Val Loss: 0.3218: 100%|██████████| 32/32 [00:08<00:00,  3.73it/s]\n"
     ]
    },
    {
     "name": "stdout",
     "output_type": "stream",
     "text": [
      "Epoch 47 | Train Loss: 0.5633 | Train F1: 0.8131 | Val Loss: 0.3734 | Val F1: 0.9808\n"
     ]
    },
    {
     "name": "stderr",
     "output_type": "stream",
     "text": [
      "Loss: 0.8721: 100%|██████████| 126/126 [00:39<00:00,  3.15it/s]\n",
      "Val Loss: 0.3211: 100%|██████████| 32/32 [00:08<00:00,  3.79it/s]\n"
     ]
    },
    {
     "name": "stdout",
     "output_type": "stream",
     "text": [
      "Epoch 48 | Train Loss: 0.5241 | Train F1: 0.8445 | Val Loss: 0.4010 | Val F1: 0.9802\n"
     ]
    },
    {
     "name": "stderr",
     "output_type": "stream",
     "text": [
      "Loss: 0.3223: 100%|██████████| 126/126 [00:39<00:00,  3.15it/s]\n",
      "Val Loss: 0.3234: 100%|██████████| 32/32 [00:08<00:00,  3.77it/s]\n"
     ]
    },
    {
     "name": "stdout",
     "output_type": "stream",
     "text": [
      "Epoch 49 | Train Loss: 0.5528 | Train F1: 0.8153 | Val Loss: 0.4122 | Val F1: 0.9702\n"
     ]
    },
    {
     "name": "stderr",
     "output_type": "stream",
     "text": [
      "Loss: 0.3213: 100%|██████████| 126/126 [00:40<00:00,  3.15it/s]\n",
      "Val Loss: 0.3318: 100%|██████████| 32/32 [00:08<00:00,  3.76it/s]\n"
     ]
    },
    {
     "name": "stdout",
     "output_type": "stream",
     "text": [
      "Epoch 50 | Train Loss: 0.5048 | Train F1: 0.8662 | Val Loss: 0.4003 | Val F1: 0.9773\n"
     ]
    },
    {
     "name": "stderr",
     "output_type": "stream",
     "text": [
      "Loss: 0.3206: 100%|██████████| 126/126 [00:40<00:00,  3.15it/s]\n",
      "Val Loss: 0.3210: 100%|██████████| 32/32 [00:08<00:00,  3.77it/s]\n"
     ]
    },
    {
     "name": "stdout",
     "output_type": "stream",
     "text": [
      "Epoch 51 | Train Loss: 0.4683 | Train F1: 0.9114 | Val Loss: 0.4018 | Val F1: 0.9772\n"
     ]
    },
    {
     "name": "stderr",
     "output_type": "stream",
     "text": [
      "Loss: 0.3203: 100%|██████████| 126/126 [00:40<00:00,  3.15it/s]\n",
      "Val Loss: 0.3206: 100%|██████████| 32/32 [00:08<00:00,  3.76it/s]\n"
     ]
    },
    {
     "name": "stdout",
     "output_type": "stream",
     "text": [
      "Epoch 52 | Train Loss: 0.4985 | Train F1: 0.8809 | Val Loss: 0.3984 | Val F1: 0.9802\n"
     ]
    },
    {
     "name": "stderr",
     "output_type": "stream",
     "text": [
      "Loss: 0.3213: 100%|██████████| 126/126 [00:40<00:00,  3.15it/s]\n",
      "Val Loss: 0.3209: 100%|██████████| 32/32 [00:08<00:00,  3.77it/s]\n"
     ]
    },
    {
     "name": "stdout",
     "output_type": "stream",
     "text": [
      "Epoch 53 | Train Loss: 0.5394 | Train F1: 0.8377 | Val Loss: 0.3787 | Val F1: 0.9808\n"
     ]
    },
    {
     "name": "stderr",
     "output_type": "stream",
     "text": [
      "Loss: 0.3208: 100%|██████████| 126/126 [00:40<00:00,  3.14it/s]\n",
      "Val Loss: 0.3207: 100%|██████████| 32/32 [00:08<00:00,  3.79it/s]\n"
     ]
    },
    {
     "name": "stdout",
     "output_type": "stream",
     "text": [
      "Epoch 54 | Train Loss: 0.5313 | Train F1: 0.8590 | Val Loss: 0.3766 | Val F1: 0.9773\n"
     ]
    },
    {
     "name": "stderr",
     "output_type": "stream",
     "text": [
      "Loss: 0.3203: 100%|██████████| 126/126 [00:39<00:00,  3.15it/s]\n",
      "Val Loss: 0.3207: 100%|██████████| 32/32 [00:08<00:00,  3.77it/s]\n"
     ]
    },
    {
     "name": "stdout",
     "output_type": "stream",
     "text": [
      "Epoch 55 | Train Loss: 0.4921 | Train F1: 0.8464 | Val Loss: 0.3849 | Val F1: 0.9837\n"
     ]
    },
    {
     "name": "stderr",
     "output_type": "stream",
     "text": [
      "Loss: 0.7485: 100%|██████████| 126/126 [00:39<00:00,  3.15it/s]\n",
      "Val Loss: 0.3210: 100%|██████████| 32/32 [00:08<00:00,  3.73it/s]\n"
     ]
    },
    {
     "name": "stdout",
     "output_type": "stream",
     "text": [
      "Epoch 56 | Train Loss: 0.4863 | Train F1: 0.9056 | Val Loss: 0.4114 | Val F1: 0.9695\n"
     ]
    },
    {
     "name": "stderr",
     "output_type": "stream",
     "text": [
      "Loss: 0.3208: 100%|██████████| 126/126 [00:39<00:00,  3.15it/s]\n",
      "Val Loss: 0.3207: 100%|██████████| 32/32 [00:08<00:00,  3.76it/s]\n"
     ]
    },
    {
     "name": "stdout",
     "output_type": "stream",
     "text": [
      "Epoch 57 | Train Loss: 0.5435 | Train F1: 0.8462 | Val Loss: 0.4409 | Val F1: 0.9561\n"
     ]
    },
    {
     "name": "stderr",
     "output_type": "stream",
     "text": [
      "Loss: 0.3203: 100%|██████████| 126/126 [00:40<00:00,  3.15it/s]\n",
      "Val Loss: 0.3205: 100%|██████████| 32/32 [00:08<00:00,  3.76it/s]"
     ]
    },
    {
     "name": "stdout",
     "output_type": "stream",
     "text": [
      "Epoch 58 | Train Loss: 0.5036 | Train F1: 0.8568 | Val Loss: 0.3723 | Val F1: 0.9866\n"
     ]
    },
    {
     "name": "stderr",
     "output_type": "stream",
     "text": [
      "\n",
      "Loss: 0.3210: 100%|██████████| 126/126 [00:40<00:00,  3.15it/s]\n",
      "Val Loss: 0.3206: 100%|██████████| 32/32 [00:08<00:00,  3.80it/s]\n"
     ]
    },
    {
     "name": "stdout",
     "output_type": "stream",
     "text": [
      "Epoch 59 | Train Loss: 0.5477 | Train F1: 0.8286 | Val Loss: 0.4136 | Val F1: 0.9718\n"
     ]
    },
    {
     "name": "stderr",
     "output_type": "stream",
     "text": [
      "Loss: 1.1289: 100%|██████████| 126/126 [00:40<00:00,  3.15it/s]\n",
      "Val Loss: 0.3206: 100%|██████████| 32/32 [00:08<00:00,  3.78it/s]\n"
     ]
    },
    {
     "name": "stdout",
     "output_type": "stream",
     "text": [
      "Epoch 60 | Train Loss: 0.4823 | Train F1: 0.8638 | Val Loss: 0.3910 | Val F1: 0.9774\n"
     ]
    },
    {
     "name": "stderr",
     "output_type": "stream",
     "text": [
      "Loss: 0.3208: 100%|██████████| 126/126 [00:39<00:00,  3.15it/s]\n",
      "Val Loss: 0.3205: 100%|██████████| 32/32 [00:08<00:00,  3.76it/s]\n"
     ]
    },
    {
     "name": "stdout",
     "output_type": "stream",
     "text": [
      "Epoch 61 | Train Loss: 0.5017 | Train F1: 0.8273 | Val Loss: 0.3869 | Val F1: 0.9837\n"
     ]
    },
    {
     "name": "stderr",
     "output_type": "stream",
     "text": [
      "Loss: 0.3203: 100%|██████████| 126/126 [00:40<00:00,  3.15it/s]\n",
      "Val Loss: 0.3204: 100%|██████████| 32/32 [00:08<00:00,  3.79it/s]\n"
     ]
    },
    {
     "name": "stdout",
     "output_type": "stream",
     "text": [
      "Epoch 62 | Train Loss: 0.4852 | Train F1: 0.8868 | Val Loss: 0.3888 | Val F1: 0.9731\n"
     ]
    },
    {
     "name": "stderr",
     "output_type": "stream",
     "text": [
      "Loss: 0.6934: 100%|██████████| 126/126 [00:40<00:00,  3.15it/s]\n",
      "Val Loss: 0.3207: 100%|██████████| 32/32 [00:08<00:00,  3.75it/s]\n"
     ]
    },
    {
     "name": "stdout",
     "output_type": "stream",
     "text": [
      "Epoch 63 | Train Loss: 0.5470 | Train F1: 0.8479 | Val Loss: 0.4032 | Val F1: 0.9802\n"
     ]
    },
    {
     "name": "stderr",
     "output_type": "stream",
     "text": [
      "Loss: 0.3638: 100%|██████████| 126/126 [00:40<00:00,  3.15it/s]\n",
      "Val Loss: 0.3205: 100%|██████████| 32/32 [00:08<00:00,  3.77it/s]\n"
     ]
    },
    {
     "name": "stdout",
     "output_type": "stream",
     "text": [
      "Epoch 64 | Train Loss: 0.4950 | Train F1: 0.8548 | Val Loss: 0.3942 | Val F1: 0.9764\n"
     ]
    },
    {
     "name": "stderr",
     "output_type": "stream",
     "text": [
      "Loss: 0.3203: 100%|██████████| 126/126 [00:39<00:00,  3.16it/s]\n",
      "Val Loss: 0.3205: 100%|██████████| 32/32 [00:08<00:00,  3.78it/s]\n"
     ]
    },
    {
     "name": "stdout",
     "output_type": "stream",
     "text": [
      "Epoch 65 | Train Loss: 0.4743 | Train F1: 0.8832 | Val Loss: 0.4092 | Val F1: 0.9762\n"
     ]
    },
    {
     "name": "stderr",
     "output_type": "stream",
     "text": [
      "Loss: 0.3215: 100%|██████████| 126/126 [00:39<00:00,  3.16it/s]\n",
      "Val Loss: 0.3205: 100%|██████████| 32/32 [00:08<00:00,  3.79it/s]\n"
     ]
    },
    {
     "name": "stdout",
     "output_type": "stream",
     "text": [
      "Epoch 66 | Train Loss: 0.5337 | Train F1: 0.8765 | Val Loss: 0.3861 | Val F1: 0.9808\n"
     ]
    },
    {
     "name": "stderr",
     "output_type": "stream",
     "text": [
      "Loss: 0.7109: 100%|██████████| 126/126 [00:39<00:00,  3.15it/s]\n",
      "Val Loss: 0.3205: 100%|██████████| 32/32 [00:08<00:00,  3.79it/s]\n"
     ]
    },
    {
     "name": "stdout",
     "output_type": "stream",
     "text": [
      "Epoch 67 | Train Loss: 0.5192 | Train F1: 0.8240 | Val Loss: 0.4201 | Val F1: 0.9734\n"
     ]
    },
    {
     "name": "stderr",
     "output_type": "stream",
     "text": [
      "Loss: 0.3201: 100%|██████████| 126/126 [00:40<00:00,  3.15it/s]\n",
      "Val Loss: 0.3205: 100%|██████████| 32/32 [00:08<00:00,  3.73it/s]\n"
     ]
    },
    {
     "name": "stdout",
     "output_type": "stream",
     "text": [
      "Epoch 68 | Train Loss: 0.4944 | Train F1: 0.8808 | Val Loss: 0.3912 | Val F1: 0.9778\n"
     ]
    },
    {
     "name": "stderr",
     "output_type": "stream",
     "text": [
      "Loss: 1.4814: 100%|██████████| 126/126 [00:39<00:00,  3.15it/s]\n",
      "Val Loss: 0.3204: 100%|██████████| 32/32 [00:08<00:00,  3.75it/s]\n"
     ]
    },
    {
     "name": "stdout",
     "output_type": "stream",
     "text": [
      "Epoch 69 | Train Loss: 0.5335 | Train F1: 0.8542 | Val Loss: 0.4224 | Val F1: 0.9719\n"
     ]
    },
    {
     "name": "stderr",
     "output_type": "stream",
     "text": [
      "Loss: 0.3201: 100%|██████████| 126/126 [00:40<00:00,  3.15it/s]\n",
      "Val Loss: 0.3204: 100%|██████████| 32/32 [00:08<00:00,  3.80it/s]\n"
     ]
    },
    {
     "name": "stdout",
     "output_type": "stream",
     "text": [
      "Epoch 70 | Train Loss: 0.4858 | Train F1: 0.8703 | Val Loss: 0.3796 | Val F1: 0.9836\n"
     ]
    },
    {
     "name": "stderr",
     "output_type": "stream",
     "text": [
      "Loss: 1.0254: 100%|██████████| 126/126 [00:39<00:00,  3.15it/s]\n",
      "Val Loss: 0.3204: 100%|██████████| 32/32 [00:08<00:00,  3.76it/s]\n"
     ]
    },
    {
     "name": "stdout",
     "output_type": "stream",
     "text": [
      "Epoch 71 | Train Loss: 0.4797 | Train F1: 0.8788 | Val Loss: 0.3982 | Val F1: 0.9773\n"
     ]
    },
    {
     "name": "stderr",
     "output_type": "stream",
     "text": [
      "Loss: 0.3203: 100%|██████████| 126/126 [00:40<00:00,  3.15it/s]\n",
      "Val Loss: 0.3204: 100%|██████████| 32/32 [00:08<00:00,  3.76it/s]\n"
     ]
    },
    {
     "name": "stdout",
     "output_type": "stream",
     "text": [
      "Epoch 72 | Train Loss: 0.5308 | Train F1: 0.8306 | Val Loss: 0.4272 | Val F1: 0.9719\n"
     ]
    },
    {
     "name": "stderr",
     "output_type": "stream",
     "text": [
      "Loss: 0.3203: 100%|██████████| 126/126 [00:40<00:00,  3.15it/s]\n",
      "Val Loss: 0.3203: 100%|██████████| 32/32 [00:08<00:00,  3.78it/s]\n"
     ]
    },
    {
     "name": "stdout",
     "output_type": "stream",
     "text": [
      "Epoch 73 | Train Loss: 0.5249 | Train F1: 0.8490 | Val Loss: 0.4112 | Val F1: 0.9773\n"
     ]
    },
    {
     "name": "stderr",
     "output_type": "stream",
     "text": [
      "Loss: 0.3203: 100%|██████████| 126/126 [00:39<00:00,  3.15it/s]\n",
      "Val Loss: 0.3205: 100%|██████████| 32/32 [00:08<00:00,  3.75it/s]\n"
     ]
    },
    {
     "name": "stdout",
     "output_type": "stream",
     "text": [
      "Epoch 74 | Train Loss: 0.5002 | Train F1: 0.8598 | Val Loss: 0.3870 | Val F1: 0.9837\n"
     ]
    },
    {
     "name": "stderr",
     "output_type": "stream",
     "text": [
      "Loss: 0.7822: 100%|██████████| 126/126 [00:40<00:00,  3.15it/s]\n",
      "Val Loss: 0.3203: 100%|██████████| 32/32 [00:08<00:00,  3.76it/s]\n"
     ]
    },
    {
     "name": "stdout",
     "output_type": "stream",
     "text": [
      "Epoch 75 | Train Loss: 0.4792 | Train F1: 0.8683 | Val Loss: 0.4020 | Val F1: 0.9823\n"
     ]
    },
    {
     "name": "stderr",
     "output_type": "stream",
     "text": [
      "Loss: 0.3201: 100%|██████████| 126/126 [00:39<00:00,  3.16it/s]\n",
      "Val Loss: 0.3204: 100%|██████████| 32/32 [00:08<00:00,  3.76it/s]\n"
     ]
    },
    {
     "name": "stdout",
     "output_type": "stream",
     "text": [
      "Epoch 76 | Train Loss: 0.5176 | Train F1: 0.8335 | Val Loss: 0.3922 | Val F1: 0.9808\n"
     ]
    },
    {
     "name": "stderr",
     "output_type": "stream",
     "text": [
      "Loss: 0.6465: 100%|██████████| 126/126 [00:39<00:00,  3.16it/s]\n",
      "Val Loss: 0.3208: 100%|██████████| 32/32 [00:08<00:00,  3.78it/s]\n"
     ]
    },
    {
     "name": "stdout",
     "output_type": "stream",
     "text": [
      "Epoch 77 | Train Loss: 0.4637 | Train F1: 0.8770 | Val Loss: 0.4174 | Val F1: 0.9720\n"
     ]
    },
    {
     "name": "stderr",
     "output_type": "stream",
     "text": [
      "Loss: 0.3203: 100%|██████████| 126/126 [00:40<00:00,  3.15it/s]\n",
      "Val Loss: 0.3203: 100%|██████████| 32/32 [00:08<00:00,  3.77it/s]\n"
     ]
    },
    {
     "name": "stdout",
     "output_type": "stream",
     "text": [
      "Epoch 78 | Train Loss: 0.4884 | Train F1: 0.8775 | Val Loss: 0.3833 | Val F1: 0.9779\n"
     ]
    },
    {
     "name": "stderr",
     "output_type": "stream",
     "text": [
      "Loss: 0.3201: 100%|██████████| 126/126 [00:39<00:00,  3.16it/s]\n",
      "Val Loss: 0.3203: 100%|██████████| 32/32 [00:08<00:00,  3.80it/s]\n"
     ]
    },
    {
     "name": "stdout",
     "output_type": "stream",
     "text": [
      "Epoch 79 | Train Loss: 0.4648 | Train F1: 0.8744 | Val Loss: 0.4311 | Val F1: 0.9714\n"
     ]
    },
    {
     "name": "stderr",
     "output_type": "stream",
     "text": [
      "Loss: 0.3203: 100%|██████████| 126/126 [00:39<00:00,  3.16it/s]\n",
      "Val Loss: 0.3203: 100%|██████████| 32/32 [00:08<00:00,  3.78it/s]\n"
     ]
    },
    {
     "name": "stdout",
     "output_type": "stream",
     "text": [
      "Epoch 80 | Train Loss: 0.4781 | Train F1: 0.8657 | Val Loss: 0.3834 | Val F1: 0.9837\n"
     ]
    },
    {
     "name": "stderr",
     "output_type": "stream",
     "text": [
      "Loss: 0.3203: 100%|██████████| 126/126 [00:39<00:00,  3.16it/s]\n",
      "Val Loss: 0.3203: 100%|██████████| 32/32 [00:08<00:00,  3.79it/s]\n"
     ]
    },
    {
     "name": "stdout",
     "output_type": "stream",
     "text": [
      "Epoch 81 | Train Loss: 0.4910 | Train F1: 0.8338 | Val Loss: 0.4060 | Val F1: 0.9778\n"
     ]
    },
    {
     "name": "stderr",
     "output_type": "stream",
     "text": [
      "Loss: 0.8916: 100%|██████████| 126/126 [00:39<00:00,  3.15it/s]\n",
      "Val Loss: 0.3203: 100%|██████████| 32/32 [00:08<00:00,  3.77it/s]\n"
     ]
    },
    {
     "name": "stdout",
     "output_type": "stream",
     "text": [
      "Epoch 82 | Train Loss: 0.4859 | Train F1: 0.8817 | Val Loss: 0.3963 | Val F1: 0.9808\n"
     ]
    },
    {
     "name": "stderr",
     "output_type": "stream",
     "text": [
      "Loss: 0.3203: 100%|██████████| 126/126 [00:40<00:00,  3.15it/s]\n",
      "Val Loss: 0.3203: 100%|██████████| 32/32 [00:08<00:00,  3.79it/s]\n"
     ]
    },
    {
     "name": "stdout",
     "output_type": "stream",
     "text": [
      "Epoch 83 | Train Loss: 0.4653 | Train F1: 0.9052 | Val Loss: 0.4109 | Val F1: 0.9802\n"
     ]
    },
    {
     "name": "stderr",
     "output_type": "stream",
     "text": [
      "Loss: 0.3201: 100%|██████████| 126/126 [00:39<00:00,  3.15it/s]\n",
      "Val Loss: 0.3203: 100%|██████████| 32/32 [00:08<00:00,  3.75it/s]\n"
     ]
    },
    {
     "name": "stdout",
     "output_type": "stream",
     "text": [
      "Epoch 84 | Train Loss: 0.4972 | Train F1: 0.8885 | Val Loss: 0.3857 | Val F1: 0.9837\n"
     ]
    },
    {
     "name": "stderr",
     "output_type": "stream",
     "text": [
      "Loss: 0.5156: 100%|██████████| 126/126 [00:39<00:00,  3.17it/s]\n",
      "Val Loss: 0.3203: 100%|██████████| 32/32 [00:08<00:00,  3.75it/s]\n"
     ]
    },
    {
     "name": "stdout",
     "output_type": "stream",
     "text": [
      "Epoch 85 | Train Loss: 0.4560 | Train F1: 0.8923 | Val Loss: 0.4052 | Val F1: 0.9777\n"
     ]
    },
    {
     "name": "stderr",
     "output_type": "stream",
     "text": [
      "Loss: 0.4453: 100%|██████████| 126/126 [00:39<00:00,  3.16it/s]\n",
      "Val Loss: 0.3203: 100%|██████████| 32/32 [00:08<00:00,  3.80it/s]\n"
     ]
    },
    {
     "name": "stdout",
     "output_type": "stream",
     "text": [
      "Epoch 86 | Train Loss: 0.4882 | Train F1: 0.8469 | Val Loss: 0.4016 | Val F1: 0.9778\n"
     ]
    },
    {
     "name": "stderr",
     "output_type": "stream",
     "text": [
      "Loss: 0.3201: 100%|██████████| 126/126 [00:39<00:00,  3.16it/s]\n",
      "Val Loss: 0.3203: 100%|██████████| 32/32 [00:08<00:00,  3.78it/s]\n"
     ]
    },
    {
     "name": "stdout",
     "output_type": "stream",
     "text": [
      "Epoch 87 | Train Loss: 0.5090 | Train F1: 0.8380 | Val Loss: 0.3827 | Val F1: 0.9866\n"
     ]
    },
    {
     "name": "stderr",
     "output_type": "stream",
     "text": [
      "Loss: 0.3203: 100%|██████████| 126/126 [00:39<00:00,  3.16it/s]\n",
      "Val Loss: 0.3203: 100%|██████████| 32/32 [00:08<00:00,  3.78it/s]\n"
     ]
    },
    {
     "name": "stdout",
     "output_type": "stream",
     "text": [
      "Epoch 88 | Train Loss: 0.4813 | Train F1: 0.8723 | Val Loss: 0.4003 | Val F1: 0.9773\n"
     ]
    },
    {
     "name": "stderr",
     "output_type": "stream",
     "text": [
      "Loss: 0.3203: 100%|██████████| 126/126 [00:39<00:00,  3.16it/s]\n",
      "Val Loss: 0.3203: 100%|██████████| 32/32 [00:08<00:00,  3.78it/s]\n"
     ]
    },
    {
     "name": "stdout",
     "output_type": "stream",
     "text": [
      "Epoch 89 | Train Loss: 0.5023 | Train F1: 0.8821 | Val Loss: 0.3875 | Val F1: 0.9836\n"
     ]
    },
    {
     "name": "stderr",
     "output_type": "stream",
     "text": [
      "Loss: 0.9194: 100%|██████████| 126/126 [00:39<00:00,  3.17it/s]\n",
      "Val Loss: 0.3203: 100%|██████████| 32/32 [00:08<00:00,  3.77it/s]\n"
     ]
    },
    {
     "name": "stdout",
     "output_type": "stream",
     "text": [
      "Epoch 90 | Train Loss: 0.5086 | Train F1: 0.8706 | Val Loss: 0.3973 | Val F1: 0.9808\n"
     ]
    },
    {
     "name": "stderr",
     "output_type": "stream",
     "text": [
      "Loss: 0.3203: 100%|██████████| 126/126 [00:39<00:00,  3.16it/s]\n",
      "Val Loss: 0.3203: 100%|██████████| 32/32 [00:08<00:00,  3.78it/s]\n"
     ]
    },
    {
     "name": "stdout",
     "output_type": "stream",
     "text": [
      "Epoch 91 | Train Loss: 0.4823 | Train F1: 0.8579 | Val Loss: 0.3838 | Val F1: 0.9792\n"
     ]
    },
    {
     "name": "stderr",
     "output_type": "stream",
     "text": [
      "Loss: 0.3203: 100%|██████████| 126/126 [00:39<00:00,  3.16it/s]\n",
      "Val Loss: 0.3203: 100%|██████████| 32/32 [00:08<00:00,  3.76it/s]\n"
     ]
    },
    {
     "name": "stdout",
     "output_type": "stream",
     "text": [
      "Epoch 92 | Train Loss: 0.4737 | Train F1: 0.8538 | Val Loss: 0.3974 | Val F1: 0.9808\n"
     ]
    },
    {
     "name": "stderr",
     "output_type": "stream",
     "text": [
      "Loss: 0.3203: 100%|██████████| 126/126 [00:39<00:00,  3.16it/s]\n",
      "Val Loss: 0.3203: 100%|██████████| 32/32 [00:08<00:00,  3.76it/s]\n"
     ]
    },
    {
     "name": "stdout",
     "output_type": "stream",
     "text": [
      "Epoch 93 | Train Loss: 0.5203 | Train F1: 0.8535 | Val Loss: 0.3726 | Val F1: 0.9836\n"
     ]
    },
    {
     "name": "stderr",
     "output_type": "stream",
     "text": [
      "Loss: 0.7915: 100%|██████████| 126/126 [00:39<00:00,  3.16it/s]\n",
      "Val Loss: 0.3203: 100%|██████████| 32/32 [00:08<00:00,  3.76it/s]\n"
     ]
    },
    {
     "name": "stdout",
     "output_type": "stream",
     "text": [
      "Epoch 94 | Train Loss: 0.4626 | Train F1: 0.8954 | Val Loss: 0.3979 | Val F1: 0.9778\n"
     ]
    },
    {
     "name": "stderr",
     "output_type": "stream",
     "text": [
      "Loss: 0.5845: 100%|██████████| 126/126 [00:39<00:00,  3.17it/s]\n",
      "Val Loss: 0.3203: 100%|██████████| 32/32 [00:08<00:00,  3.78it/s]\n"
     ]
    },
    {
     "name": "stdout",
     "output_type": "stream",
     "text": [
      "Epoch 95 | Train Loss: 0.4512 | Train F1: 0.8935 | Val Loss: 0.3938 | Val F1: 0.9837\n"
     ]
    },
    {
     "name": "stderr",
     "output_type": "stream",
     "text": [
      "Loss: 0.3201: 100%|██████████| 126/126 [00:39<00:00,  3.16it/s]\n",
      "Val Loss: 0.3203: 100%|██████████| 32/32 [00:08<00:00,  3.78it/s]\n"
     ]
    },
    {
     "name": "stdout",
     "output_type": "stream",
     "text": [
      "Epoch 96 | Train Loss: 0.4840 | Train F1: 0.8693 | Val Loss: 0.3782 | Val F1: 0.9866\n"
     ]
    },
    {
     "name": "stderr",
     "output_type": "stream",
     "text": [
      "Loss: 0.5581: 100%|██████████| 126/126 [00:39<00:00,  3.16it/s]\n",
      "Val Loss: 0.3203: 100%|██████████| 32/32 [00:08<00:00,  3.77it/s]\n"
     ]
    },
    {
     "name": "stdout",
     "output_type": "stream",
     "text": [
      "Epoch 97 | Train Loss: 0.4912 | Train F1: 0.8336 | Val Loss: 0.3936 | Val F1: 0.9808\n"
     ]
    },
    {
     "name": "stderr",
     "output_type": "stream",
     "text": [
      "Loss: 1.0986: 100%|██████████| 126/126 [00:39<00:00,  3.16it/s]\n",
      "Val Loss: 0.3203: 100%|██████████| 32/32 [00:08<00:00,  3.81it/s]\n"
     ]
    },
    {
     "name": "stdout",
     "output_type": "stream",
     "text": [
      "Epoch 98 | Train Loss: 0.4941 | Train F1: 0.8603 | Val Loss: 0.3774 | Val F1: 0.9866\n"
     ]
    },
    {
     "name": "stderr",
     "output_type": "stream",
     "text": [
      "Loss: 0.3203: 100%|██████████| 126/126 [00:39<00:00,  3.15it/s]\n",
      "Val Loss: 0.3203: 100%|██████████| 32/32 [00:08<00:00,  3.77it/s]\n"
     ]
    },
    {
     "name": "stdout",
     "output_type": "stream",
     "text": [
      "Epoch 99 | Train Loss: 0.5091 | Train F1: 0.8333 | Val Loss: 0.3800 | Val F1: 0.9778\n"
     ]
    },
    {
     "name": "stderr",
     "output_type": "stream",
     "text": [
      "Loss: 0.3203: 100%|██████████| 126/126 [00:39<00:00,  3.17it/s]\n",
      "Val Loss: 0.3203: 100%|██████████| 32/32 [00:08<00:00,  3.74it/s]\n"
     ]
    },
    {
     "name": "stdout",
     "output_type": "stream",
     "text": [
      "Epoch 100 | Train Loss: 0.4698 | Train F1: 0.9117 | Val Loss: 0.3870 | Val F1: 0.9832\n",
      "Fold 4 Best Validation F1: 0.9866\n",
      "\n",
      "==================================================\n",
      "FOLD 5/5\n",
      "==================================================\n",
      "Train samples: 1256, Validation samples: 314\n"
     ]
    },
    {
     "name": "stderr",
     "output_type": "stream",
     "text": [
      "Loss: 0.6987: 100%|██████████| 126/126 [00:40<00:00,  3.15it/s]\n",
      "Val Loss: 0.9423: 100%|██████████| 32/32 [00:08<00:00,  3.75it/s]"
     ]
    },
    {
     "name": "stdout",
     "output_type": "stream",
     "text": [
      "Epoch  1 | Train Loss: 1.6316 | Train F1: 0.5152 | Val Loss: 0.7384 | Val F1: 0.8017\n"
     ]
    },
    {
     "name": "stderr",
     "output_type": "stream",
     "text": [
      "\n",
      "Loss: 0.7891: 100%|██████████| 126/126 [00:40<00:00,  3.14it/s]\n",
      "Val Loss: 0.9805: 100%|██████████| 32/32 [00:08<00:00,  3.76it/s]"
     ]
    },
    {
     "name": "stdout",
     "output_type": "stream",
     "text": [
      "Epoch  2 | Train Loss: 0.9623 | Train F1: 0.7272 | Val Loss: 0.7068 | Val F1: 0.8138\n"
     ]
    },
    {
     "name": "stderr",
     "output_type": "stream",
     "text": [
      "\n",
      "Loss: 0.5566: 100%|██████████| 126/126 [00:40<00:00,  3.14it/s]\n",
      "Val Loss: 0.4340: 100%|██████████| 32/32 [00:08<00:00,  3.77it/s]"
     ]
    },
    {
     "name": "stdout",
     "output_type": "stream",
     "text": [
      "Epoch  3 | Train Loss: 0.8306 | Train F1: 0.7708 | Val Loss: 0.5579 | Val F1: 0.8905\n"
     ]
    },
    {
     "name": "stderr",
     "output_type": "stream",
     "text": [
      "\n",
      "Loss: 0.5103: 100%|██████████| 126/126 [00:40<00:00,  3.14it/s]\n",
      "Val Loss: 0.4048: 100%|██████████| 32/32 [00:08<00:00,  3.76it/s]"
     ]
    },
    {
     "name": "stdout",
     "output_type": "stream",
     "text": [
      "Epoch  4 | Train Loss: 0.7237 | Train F1: 0.7985 | Val Loss: 0.5273 | Val F1: 0.9218\n"
     ]
    },
    {
     "name": "stderr",
     "output_type": "stream",
     "text": [
      "\n",
      "Loss: 1.6191: 100%|██████████| 126/126 [00:40<00:00,  3.14it/s]\n",
      "Val Loss: 0.6738: 100%|██████████| 32/32 [00:08<00:00,  3.74it/s]\n"
     ]
    },
    {
     "name": "stdout",
     "output_type": "stream",
     "text": [
      "Epoch  5 | Train Loss: 0.7637 | Train F1: 0.8059 | Val Loss: 0.5401 | Val F1: 0.9046\n"
     ]
    },
    {
     "name": "stderr",
     "output_type": "stream",
     "text": [
      "Loss: 1.1602: 100%|██████████| 126/126 [00:40<00:00,  3.14it/s]\n",
      "Val Loss: 0.3691: 100%|██████████| 32/32 [00:08<00:00,  3.80it/s]"
     ]
    },
    {
     "name": "stdout",
     "output_type": "stream",
     "text": [
      "Epoch  6 | Train Loss: 0.6873 | Train F1: 0.8104 | Val Loss: 0.4950 | Val F1: 0.9298\n"
     ]
    },
    {
     "name": "stderr",
     "output_type": "stream",
     "text": [
      "\n",
      "Loss: 0.3325: 100%|██████████| 126/126 [00:40<00:00,  3.14it/s]\n",
      "Val Loss: 0.3469: 100%|██████████| 32/32 [00:08<00:00,  3.75it/s]\n"
     ]
    },
    {
     "name": "stdout",
     "output_type": "stream",
     "text": [
      "Epoch  7 | Train Loss: 0.6976 | Train F1: 0.8353 | Val Loss: 0.5535 | Val F1: 0.9000\n"
     ]
    },
    {
     "name": "stderr",
     "output_type": "stream",
     "text": [
      "Loss: 0.3379: 100%|██████████| 126/126 [00:40<00:00,  3.13it/s]\n",
      "Val Loss: 0.3591: 100%|██████████| 32/32 [00:08<00:00,  3.79it/s]"
     ]
    },
    {
     "name": "stdout",
     "output_type": "stream",
     "text": [
      "Epoch  8 | Train Loss: 0.6820 | Train F1: 0.7738 | Val Loss: 0.4797 | Val F1: 0.9331\n"
     ]
    },
    {
     "name": "stderr",
     "output_type": "stream",
     "text": [
      "\n",
      "Loss: 0.3557: 100%|██████████| 126/126 [00:40<00:00,  3.14it/s]\n",
      "Val Loss: 0.8388: 100%|██████████| 32/32 [00:08<00:00,  3.75it/s]\n"
     ]
    },
    {
     "name": "stdout",
     "output_type": "stream",
     "text": [
      "Epoch  9 | Train Loss: 0.6648 | Train F1: 0.8086 | Val Loss: 0.5427 | Val F1: 0.9225\n"
     ]
    },
    {
     "name": "stderr",
     "output_type": "stream",
     "text": [
      "Loss: 1.5488: 100%|██████████| 126/126 [00:40<00:00,  3.14it/s]\n",
      "Val Loss: 0.3813: 100%|██████████| 32/32 [00:08<00:00,  3.77it/s]"
     ]
    },
    {
     "name": "stdout",
     "output_type": "stream",
     "text": [
      "Epoch 10 | Train Loss: 0.6594 | Train F1: 0.8478 | Val Loss: 0.4515 | Val F1: 0.9594\n"
     ]
    },
    {
     "name": "stderr",
     "output_type": "stream",
     "text": [
      "\n",
      "Loss: 0.3281: 100%|██████████| 126/126 [00:40<00:00,  3.14it/s]\n",
      "Val Loss: 0.4865: 100%|██████████| 32/32 [00:08<00:00,  3.80it/s]\n"
     ]
    },
    {
     "name": "stdout",
     "output_type": "stream",
     "text": [
      "Epoch 11 | Train Loss: 0.5976 | Train F1: 0.8608 | Val Loss: 0.4950 | Val F1: 0.9316\n"
     ]
    },
    {
     "name": "stderr",
     "output_type": "stream",
     "text": [
      "Loss: 1.7070: 100%|██████████| 126/126 [00:40<00:00,  3.14it/s]\n",
      "Val Loss: 1.2985: 100%|██████████| 32/32 [00:08<00:00,  3.77it/s]\n"
     ]
    },
    {
     "name": "stdout",
     "output_type": "stream",
     "text": [
      "Epoch 12 | Train Loss: 0.6626 | Train F1: 0.8271 | Val Loss: 0.5475 | Val F1: 0.9390\n"
     ]
    },
    {
     "name": "stderr",
     "output_type": "stream",
     "text": [
      "Loss: 0.5430: 100%|██████████| 126/126 [00:40<00:00,  3.14it/s]\n",
      "Val Loss: 0.3719: 100%|██████████| 32/32 [00:08<00:00,  3.78it/s]\n"
     ]
    },
    {
     "name": "stdout",
     "output_type": "stream",
     "text": [
      "Epoch 13 | Train Loss: 0.6103 | Train F1: 0.8226 | Val Loss: 0.5021 | Val F1: 0.9372\n"
     ]
    },
    {
     "name": "stderr",
     "output_type": "stream",
     "text": [
      "Loss: 1.1025: 100%|██████████| 126/126 [00:40<00:00,  3.14it/s]\n",
      "Val Loss: 0.4054: 100%|██████████| 32/32 [00:08<00:00,  3.79it/s]\n"
     ]
    },
    {
     "name": "stdout",
     "output_type": "stream",
     "text": [
      "Epoch 14 | Train Loss: 0.5958 | Train F1: 0.8387 | Val Loss: 0.4611 | Val F1: 0.9555\n"
     ]
    },
    {
     "name": "stderr",
     "output_type": "stream",
     "text": [
      "Loss: 0.9443: 100%|██████████| 126/126 [00:40<00:00,  3.13it/s]\n",
      "Val Loss: 0.3316: 100%|██████████| 32/32 [00:08<00:00,  3.72it/s]"
     ]
    },
    {
     "name": "stdout",
     "output_type": "stream",
     "text": [
      "Epoch 15 | Train Loss: 0.5940 | Train F1: 0.8534 | Val Loss: 0.4496 | Val F1: 0.9663\n"
     ]
    },
    {
     "name": "stderr",
     "output_type": "stream",
     "text": [
      "\n",
      "Loss: 0.3684: 100%|██████████| 126/126 [00:40<00:00,  3.15it/s]\n",
      "Val Loss: 0.3327: 100%|██████████| 32/32 [00:08<00:00,  3.75it/s]\n"
     ]
    },
    {
     "name": "stdout",
     "output_type": "stream",
     "text": [
      "Epoch 16 | Train Loss: 0.5201 | Train F1: 0.8873 | Val Loss: 0.4948 | Val F1: 0.9440\n"
     ]
    },
    {
     "name": "stderr",
     "output_type": "stream",
     "text": [
      "Loss: 0.5977: 100%|██████████| 126/126 [00:40<00:00,  3.14it/s]\n",
      "Val Loss: 0.3707: 100%|██████████| 32/32 [00:08<00:00,  3.77it/s]\n"
     ]
    },
    {
     "name": "stdout",
     "output_type": "stream",
     "text": [
      "Epoch 17 | Train Loss: 0.6216 | Train F1: 0.8195 | Val Loss: 0.4821 | Val F1: 0.9476\n"
     ]
    },
    {
     "name": "stderr",
     "output_type": "stream",
     "text": [
      "Loss: 0.5996: 100%|██████████| 126/126 [00:40<00:00,  3.14it/s]\n",
      "Val Loss: 0.3299: 100%|██████████| 32/32 [00:08<00:00,  3.76it/s]\n"
     ]
    },
    {
     "name": "stdout",
     "output_type": "stream",
     "text": [
      "Epoch 18 | Train Loss: 0.5406 | Train F1: 0.8555 | Val Loss: 0.4729 | Val F1: 0.9436\n"
     ]
    },
    {
     "name": "stderr",
     "output_type": "stream",
     "text": [
      "Loss: 0.3413: 100%|██████████| 126/126 [00:40<00:00,  3.14it/s]\n",
      "Val Loss: 0.3487: 100%|██████████| 32/32 [00:08<00:00,  3.77it/s]\n"
     ]
    },
    {
     "name": "stdout",
     "output_type": "stream",
     "text": [
      "Epoch 19 | Train Loss: 0.6210 | Train F1: 0.8210 | Val Loss: 0.5005 | Val F1: 0.9428\n"
     ]
    },
    {
     "name": "stderr",
     "output_type": "stream",
     "text": [
      "Loss: 1.0557: 100%|██████████| 126/126 [00:40<00:00,  3.14it/s]\n",
      "Val Loss: 0.3418: 100%|██████████| 32/32 [00:08<00:00,  3.77it/s]\n"
     ]
    },
    {
     "name": "stdout",
     "output_type": "stream",
     "text": [
      "Epoch 20 | Train Loss: 0.6051 | Train F1: 0.8587 | Val Loss: 0.4637 | Val F1: 0.9617\n"
     ]
    },
    {
     "name": "stderr",
     "output_type": "stream",
     "text": [
      "Loss: 1.4863: 100%|██████████| 126/126 [00:40<00:00,  3.13it/s]\n",
      "Val Loss: 0.3502: 100%|██████████| 32/32 [00:08<00:00,  3.72it/s]\n"
     ]
    },
    {
     "name": "stdout",
     "output_type": "stream",
     "text": [
      "Epoch 21 | Train Loss: 0.5853 | Train F1: 0.8204 | Val Loss: 0.4428 | Val F1: 0.9625\n"
     ]
    },
    {
     "name": "stderr",
     "output_type": "stream",
     "text": [
      "Loss: 0.3245: 100%|██████████| 126/126 [00:40<00:00,  3.14it/s]\n",
      "Val Loss: 0.3347: 100%|██████████| 32/32 [00:08<00:00,  3.77it/s]\n"
     ]
    },
    {
     "name": "stdout",
     "output_type": "stream",
     "text": [
      "Epoch 22 | Train Loss: 0.5570 | Train F1: 0.8520 | Val Loss: 0.4744 | Val F1: 0.9594\n"
     ]
    },
    {
     "name": "stderr",
     "output_type": "stream",
     "text": [
      "Loss: 0.3320: 100%|██████████| 126/126 [00:40<00:00,  3.14it/s]\n",
      "Val Loss: 0.3476: 100%|██████████| 32/32 [00:08<00:00,  3.72it/s]\n"
     ]
    },
    {
     "name": "stdout",
     "output_type": "stream",
     "text": [
      "Epoch 23 | Train Loss: 0.4917 | Train F1: 0.8914 | Val Loss: 0.4773 | Val F1: 0.9540\n"
     ]
    },
    {
     "name": "stderr",
     "output_type": "stream",
     "text": [
      "Loss: 0.3276: 100%|██████████| 126/126 [00:40<00:00,  3.14it/s]\n",
      "Val Loss: 0.3346: 100%|██████████| 32/32 [00:08<00:00,  3.75it/s]\n"
     ]
    },
    {
     "name": "stdout",
     "output_type": "stream",
     "text": [
      "Epoch 24 | Train Loss: 0.5480 | Train F1: 0.8549 | Val Loss: 0.4837 | Val F1: 0.9447\n"
     ]
    },
    {
     "name": "stderr",
     "output_type": "stream",
     "text": [
      "Loss: 0.3298: 100%|██████████| 126/126 [00:40<00:00,  3.14it/s]\n",
      "Val Loss: 0.3232: 100%|██████████| 32/32 [00:08<00:00,  3.78it/s]\n"
     ]
    },
    {
     "name": "stdout",
     "output_type": "stream",
     "text": [
      "Epoch 25 | Train Loss: 0.5898 | Train F1: 0.8408 | Val Loss: 0.5397 | Val F1: 0.9379\n"
     ]
    },
    {
     "name": "stderr",
     "output_type": "stream",
     "text": [
      "Loss: 0.9028: 100%|██████████| 126/126 [00:40<00:00,  3.14it/s]\n",
      "Val Loss: 0.3307: 100%|██████████| 32/32 [00:08<00:00,  3.77it/s]\n"
     ]
    },
    {
     "name": "stdout",
     "output_type": "stream",
     "text": [
      "Epoch 26 | Train Loss: 0.5400 | Train F1: 0.8717 | Val Loss: 0.4805 | Val F1: 0.9393\n"
     ]
    },
    {
     "name": "stderr",
     "output_type": "stream",
     "text": [
      "Loss: 0.3232: 100%|██████████| 126/126 [00:40<00:00,  3.14it/s]\n",
      "Val Loss: 0.4453: 100%|██████████| 32/32 [00:08<00:00,  3.76it/s]"
     ]
    },
    {
     "name": "stdout",
     "output_type": "stream",
     "text": [
      "Epoch 27 | Train Loss: 0.5215 | Train F1: 0.8966 | Val Loss: 0.4303 | Val F1: 0.9749\n"
     ]
    },
    {
     "name": "stderr",
     "output_type": "stream",
     "text": [
      "\n",
      "Loss: 0.3328: 100%|██████████| 126/126 [00:40<00:00,  3.15it/s]\n",
      "Val Loss: 1.3841: 100%|██████████| 32/32 [00:08<00:00,  3.76it/s]\n"
     ]
    },
    {
     "name": "stdout",
     "output_type": "stream",
     "text": [
      "Epoch 28 | Train Loss: 0.5496 | Train F1: 0.8665 | Val Loss: 0.5420 | Val F1: 0.9402\n"
     ]
    },
    {
     "name": "stderr",
     "output_type": "stream",
     "text": [
      "Loss: 0.3337: 100%|██████████| 126/126 [00:40<00:00,  3.14it/s]\n",
      "Val Loss: 0.3260: 100%|██████████| 32/32 [00:08<00:00,  3.75it/s]\n"
     ]
    },
    {
     "name": "stdout",
     "output_type": "stream",
     "text": [
      "Epoch 29 | Train Loss: 0.5687 | Train F1: 0.8618 | Val Loss: 0.4812 | Val F1: 0.9528\n"
     ]
    },
    {
     "name": "stderr",
     "output_type": "stream",
     "text": [
      "Loss: 0.3237: 100%|██████████| 126/126 [00:40<00:00,  3.14it/s]\n",
      "Val Loss: 0.3230: 100%|██████████| 32/32 [00:08<00:00,  3.74it/s]\n"
     ]
    },
    {
     "name": "stdout",
     "output_type": "stream",
     "text": [
      "Epoch 30 | Train Loss: 0.5377 | Train F1: 0.8802 | Val Loss: 0.4310 | Val F1: 0.9631\n"
     ]
    },
    {
     "name": "stderr",
     "output_type": "stream",
     "text": [
      "Loss: 0.8164: 100%|██████████| 126/126 [00:40<00:00,  3.14it/s]\n",
      "Val Loss: 0.3245: 100%|██████████| 32/32 [00:08<00:00,  3.76it/s]\n"
     ]
    },
    {
     "name": "stdout",
     "output_type": "stream",
     "text": [
      "Epoch 31 | Train Loss: 0.5148 | Train F1: 0.8845 | Val Loss: 0.4932 | Val F1: 0.9375\n"
     ]
    },
    {
     "name": "stderr",
     "output_type": "stream",
     "text": [
      "Loss: 1.2656: 100%|██████████| 126/126 [00:40<00:00,  3.14it/s]\n",
      "Val Loss: 0.3235: 100%|██████████| 32/32 [00:08<00:00,  3.78it/s]\n"
     ]
    },
    {
     "name": "stdout",
     "output_type": "stream",
     "text": [
      "Epoch 32 | Train Loss: 0.5578 | Train F1: 0.8707 | Val Loss: 0.4464 | Val F1: 0.9599\n"
     ]
    },
    {
     "name": "stderr",
     "output_type": "stream",
     "text": [
      "Loss: 1.0996: 100%|██████████| 126/126 [00:40<00:00,  3.14it/s]\n",
      "Val Loss: 0.3982: 100%|██████████| 32/32 [00:08<00:00,  3.77it/s]\n"
     ]
    },
    {
     "name": "stdout",
     "output_type": "stream",
     "text": [
      "Epoch 33 | Train Loss: 0.5228 | Train F1: 0.8710 | Val Loss: 0.4665 | Val F1: 0.9630\n"
     ]
    },
    {
     "name": "stderr",
     "output_type": "stream",
     "text": [
      "Loss: 0.6953: 100%|██████████| 126/126 [00:40<00:00,  3.14it/s]\n",
      "Val Loss: 0.3437: 100%|██████████| 32/32 [00:08<00:00,  3.77it/s]\n"
     ]
    },
    {
     "name": "stdout",
     "output_type": "stream",
     "text": [
      "Epoch 34 | Train Loss: 0.5234 | Train F1: 0.8844 | Val Loss: 0.4794 | Val F1: 0.9518\n"
     ]
    },
    {
     "name": "stderr",
     "output_type": "stream",
     "text": [
      "Loss: 0.5845: 100%|██████████| 126/126 [00:40<00:00,  3.15it/s]\n",
      "Val Loss: 0.3227: 100%|██████████| 32/32 [00:08<00:00,  3.74it/s]\n"
     ]
    },
    {
     "name": "stdout",
     "output_type": "stream",
     "text": [
      "Epoch 35 | Train Loss: 0.5036 | Train F1: 0.8783 | Val Loss: 0.4315 | Val F1: 0.9668\n"
     ]
    },
    {
     "name": "stderr",
     "output_type": "stream",
     "text": [
      "Loss: 0.3213: 100%|██████████| 126/126 [00:40<00:00,  3.15it/s]\n",
      "Val Loss: 0.3223: 100%|██████████| 32/32 [00:08<00:00,  3.76it/s]\n"
     ]
    },
    {
     "name": "stdout",
     "output_type": "stream",
     "text": [
      "Epoch 36 | Train Loss: 0.5397 | Train F1: 0.8565 | Val Loss: 0.4552 | Val F1: 0.9584\n"
     ]
    },
    {
     "name": "stderr",
     "output_type": "stream",
     "text": [
      "Loss: 1.0039: 100%|██████████| 126/126 [00:40<00:00,  3.14it/s]\n",
      "Val Loss: 0.3218: 100%|██████████| 32/32 [00:08<00:00,  3.75it/s]\n"
     ]
    },
    {
     "name": "stdout",
     "output_type": "stream",
     "text": [
      "Epoch 37 | Train Loss: 0.5084 | Train F1: 0.8838 | Val Loss: 0.4392 | Val F1: 0.9608\n"
     ]
    },
    {
     "name": "stderr",
     "output_type": "stream",
     "text": [
      "Loss: 1.1406: 100%|██████████| 126/126 [00:39<00:00,  3.15it/s]\n",
      "Val Loss: 0.3212: 100%|██████████| 32/32 [00:08<00:00,  3.77it/s]\n"
     ]
    },
    {
     "name": "stdout",
     "output_type": "stream",
     "text": [
      "Epoch 38 | Train Loss: 0.5049 | Train F1: 0.8791 | Val Loss: 0.4577 | Val F1: 0.9557\n"
     ]
    },
    {
     "name": "stderr",
     "output_type": "stream",
     "text": [
      "Loss: 0.3208: 100%|██████████| 126/126 [00:40<00:00,  3.14it/s]\n",
      "Val Loss: 0.3206: 100%|██████████| 32/32 [00:08<00:00,  3.77it/s]\n"
     ]
    },
    {
     "name": "stdout",
     "output_type": "stream",
     "text": [
      "Epoch 39 | Train Loss: 0.5250 | Train F1: 0.8614 | Val Loss: 0.4726 | Val F1: 0.9571\n"
     ]
    },
    {
     "name": "stderr",
     "output_type": "stream",
     "text": [
      "Loss: 0.3206: 100%|██████████| 126/126 [00:40<00:00,  3.15it/s]\n",
      "Val Loss: 0.3226: 100%|██████████| 32/32 [00:08<00:00,  3.75it/s]\n"
     ]
    },
    {
     "name": "stdout",
     "output_type": "stream",
     "text": [
      "Epoch 40 | Train Loss: 0.5284 | Train F1: 0.8396 | Val Loss: 0.4423 | Val F1: 0.9622\n"
     ]
    },
    {
     "name": "stderr",
     "output_type": "stream",
     "text": [
      "Loss: 0.6367: 100%|██████████| 126/126 [00:40<00:00,  3.15it/s]\n",
      "Val Loss: 0.3263: 100%|██████████| 32/32 [00:08<00:00,  3.75it/s]\n"
     ]
    },
    {
     "name": "stdout",
     "output_type": "stream",
     "text": [
      "Epoch 41 | Train Loss: 0.5199 | Train F1: 0.8730 | Val Loss: 0.4717 | Val F1: 0.9573\n"
     ]
    },
    {
     "name": "stderr",
     "output_type": "stream",
     "text": [
      "Loss: 0.7705: 100%|██████████| 126/126 [00:39<00:00,  3.15it/s]\n",
      "Val Loss: 0.3231: 100%|██████████| 32/32 [00:08<00:00,  3.76it/s]\n"
     ]
    },
    {
     "name": "stdout",
     "output_type": "stream",
     "text": [
      "Epoch 42 | Train Loss: 0.5372 | Train F1: 0.8555 | Val Loss: 0.4697 | Val F1: 0.9506\n"
     ]
    },
    {
     "name": "stderr",
     "output_type": "stream",
     "text": [
      "Loss: 0.9351: 100%|██████████| 126/126 [00:40<00:00,  3.14it/s]\n",
      "Val Loss: 0.3225: 100%|██████████| 32/32 [00:08<00:00,  3.76it/s]\n"
     ]
    },
    {
     "name": "stdout",
     "output_type": "stream",
     "text": [
      "Epoch 43 | Train Loss: 0.5825 | Train F1: 0.8446 | Val Loss: 0.4944 | Val F1: 0.9537\n"
     ]
    },
    {
     "name": "stderr",
     "output_type": "stream",
     "text": [
      "Loss: 0.3208: 100%|██████████| 126/126 [00:40<00:00,  3.15it/s]\n",
      "Val Loss: 1.5621: 100%|██████████| 32/32 [00:08<00:00,  3.78it/s]\n"
     ]
    },
    {
     "name": "stdout",
     "output_type": "stream",
     "text": [
      "Epoch 44 | Train Loss: 0.5252 | Train F1: 0.8817 | Val Loss: 0.5003 | Val F1: 0.9533\n"
     ]
    },
    {
     "name": "stderr",
     "output_type": "stream",
     "text": [
      "Loss: 0.3218: 100%|██████████| 126/126 [00:40<00:00,  3.14it/s]\n",
      "Val Loss: 0.3214: 100%|██████████| 32/32 [00:08<00:00,  3.76it/s]\n"
     ]
    },
    {
     "name": "stdout",
     "output_type": "stream",
     "text": [
      "Epoch 45 | Train Loss: 0.5151 | Train F1: 0.8514 | Val Loss: 0.4498 | Val F1: 0.9633\n"
     ]
    },
    {
     "name": "stderr",
     "output_type": "stream",
     "text": [
      "Loss: 0.6924: 100%|██████████| 126/126 [00:40<00:00,  3.14it/s]\n",
      "Val Loss: 0.3213: 100%|██████████| 32/32 [00:08<00:00,  3.77it/s]\n"
     ]
    },
    {
     "name": "stdout",
     "output_type": "stream",
     "text": [
      "Epoch 46 | Train Loss: 0.4969 | Train F1: 0.8838 | Val Loss: 0.4664 | Val F1: 0.9631\n"
     ]
    },
    {
     "name": "stderr",
     "output_type": "stream",
     "text": [
      "Loss: 0.6074: 100%|██████████| 126/126 [00:40<00:00,  3.14it/s]\n",
      "Val Loss: 0.3222: 100%|██████████| 32/32 [00:08<00:00,  3.76it/s]\n"
     ]
    },
    {
     "name": "stdout",
     "output_type": "stream",
     "text": [
      "Epoch 47 | Train Loss: 0.5036 | Train F1: 0.8754 | Val Loss: 0.4285 | Val F1: 0.9701\n"
     ]
    },
    {
     "name": "stderr",
     "output_type": "stream",
     "text": [
      "Loss: 0.3218: 100%|██████████| 126/126 [00:39<00:00,  3.15it/s]\n",
      "Val Loss: 0.3227: 100%|██████████| 32/32 [00:08<00:00,  3.75it/s]\n"
     ]
    },
    {
     "name": "stdout",
     "output_type": "stream",
     "text": [
      "Epoch 48 | Train Loss: 0.5272 | Train F1: 0.8448 | Val Loss: 0.4718 | Val F1: 0.9590\n"
     ]
    },
    {
     "name": "stderr",
     "output_type": "stream",
     "text": [
      "Loss: 1.1357: 100%|██████████| 126/126 [00:40<00:00,  3.15it/s]\n",
      "Val Loss: 0.3210: 100%|██████████| 32/32 [00:08<00:00,  3.75it/s]\n"
     ]
    },
    {
     "name": "stdout",
     "output_type": "stream",
     "text": [
      "Epoch 49 | Train Loss: 0.5392 | Train F1: 0.8646 | Val Loss: 0.4791 | Val F1: 0.9616\n"
     ]
    },
    {
     "name": "stderr",
     "output_type": "stream",
     "text": [
      "Loss: 0.3225: 100%|██████████| 126/126 [00:39<00:00,  3.15it/s]\n",
      "Val Loss: 0.9003: 100%|██████████| 32/32 [00:08<00:00,  3.77it/s]\n"
     ]
    },
    {
     "name": "stdout",
     "output_type": "stream",
     "text": [
      "Epoch 50 | Train Loss: 0.5075 | Train F1: 0.8528 | Val Loss: 0.4581 | Val F1: 0.9633\n"
     ]
    },
    {
     "name": "stderr",
     "output_type": "stream",
     "text": [
      "Loss: 0.3208: 100%|██████████| 126/126 [00:40<00:00,  3.14it/s]\n",
      "Val Loss: 0.3207: 100%|██████████| 32/32 [00:08<00:00,  3.76it/s]\n"
     ]
    },
    {
     "name": "stdout",
     "output_type": "stream",
     "text": [
      "Epoch 51 | Train Loss: 0.4825 | Train F1: 0.8709 | Val Loss: 0.4780 | Val F1: 0.9645\n"
     ]
    },
    {
     "name": "stderr",
     "output_type": "stream",
     "text": [
      "Loss: 0.9170: 100%|██████████| 126/126 [00:40<00:00,  3.15it/s]\n",
      "Val Loss: 0.3208: 100%|██████████| 32/32 [00:08<00:00,  3.77it/s]\n"
     ]
    },
    {
     "name": "stdout",
     "output_type": "stream",
     "text": [
      "Epoch 52 | Train Loss: 0.5469 | Train F1: 0.8353 | Val Loss: 0.4488 | Val F1: 0.9581\n"
     ]
    },
    {
     "name": "stderr",
     "output_type": "stream",
     "text": [
      "Loss: 0.3208: 100%|██████████| 126/126 [00:39<00:00,  3.15it/s]\n",
      "Val Loss: 0.3205: 100%|██████████| 32/32 [00:08<00:00,  3.76it/s]\n"
     ]
    },
    {
     "name": "stdout",
     "output_type": "stream",
     "text": [
      "Epoch 53 | Train Loss: 0.4944 | Train F1: 0.8794 | Val Loss: 0.4759 | Val F1: 0.9534\n"
     ]
    },
    {
     "name": "stderr",
     "output_type": "stream",
     "text": [
      "Loss: 0.3228: 100%|██████████| 126/126 [00:39<00:00,  3.15it/s]\n",
      "Val Loss: 0.3210: 100%|██████████| 32/32 [00:08<00:00,  3.75it/s]\n"
     ]
    },
    {
     "name": "stdout",
     "output_type": "stream",
     "text": [
      "Epoch 54 | Train Loss: 0.5105 | Train F1: 0.8460 | Val Loss: 0.4672 | Val F1: 0.9595\n"
     ]
    },
    {
     "name": "stderr",
     "output_type": "stream",
     "text": [
      "Loss: 0.3203: 100%|██████████| 126/126 [00:40<00:00,  3.14it/s]\n",
      "Val Loss: 0.3204: 100%|██████████| 32/32 [00:08<00:00,  3.74it/s]\n"
     ]
    },
    {
     "name": "stdout",
     "output_type": "stream",
     "text": [
      "Epoch 55 | Train Loss: 0.5222 | Train F1: 0.8614 | Val Loss: 0.4760 | Val F1: 0.9618\n"
     ]
    },
    {
     "name": "stderr",
     "output_type": "stream",
     "text": [
      "Loss: 0.3203: 100%|██████████| 126/126 [00:40<00:00,  3.15it/s]\n",
      "Val Loss: 0.3621: 100%|██████████| 32/32 [00:08<00:00,  3.74it/s]\n"
     ]
    },
    {
     "name": "stdout",
     "output_type": "stream",
     "text": [
      "Epoch 56 | Train Loss: 0.5233 | Train F1: 0.8793 | Val Loss: 0.4989 | Val F1: 0.9552\n"
     ]
    },
    {
     "name": "stderr",
     "output_type": "stream",
     "text": [
      "Loss: 0.8101: 100%|██████████| 126/126 [00:40<00:00,  3.15it/s]\n",
      "Val Loss: 0.3205: 100%|██████████| 32/32 [00:08<00:00,  3.77it/s]\n"
     ]
    },
    {
     "name": "stdout",
     "output_type": "stream",
     "text": [
      "Epoch 57 | Train Loss: 0.4752 | Train F1: 0.8981 | Val Loss: 0.4636 | Val F1: 0.9626\n"
     ]
    },
    {
     "name": "stderr",
     "output_type": "stream",
     "text": [
      "Loss: 0.8057: 100%|██████████| 126/126 [00:40<00:00,  3.15it/s]\n",
      "Val Loss: 0.3205: 100%|██████████| 32/32 [00:08<00:00,  3.77it/s]\n"
     ]
    },
    {
     "name": "stdout",
     "output_type": "stream",
     "text": [
      "Epoch 58 | Train Loss: 0.5390 | Train F1: 0.8485 | Val Loss: 0.4796 | Val F1: 0.9625\n"
     ]
    },
    {
     "name": "stderr",
     "output_type": "stream",
     "text": [
      "Loss: 0.3203: 100%|██████████| 126/126 [00:40<00:00,  3.15it/s]\n",
      "Val Loss: 0.3212: 100%|██████████| 32/32 [00:08<00:00,  3.76it/s]\n"
     ]
    },
    {
     "name": "stdout",
     "output_type": "stream",
     "text": [
      "Epoch 59 | Train Loss: 0.5381 | Train F1: 0.8767 | Val Loss: 0.4765 | Val F1: 0.9608\n"
     ]
    },
    {
     "name": "stderr",
     "output_type": "stream",
     "text": [
      "Loss: 0.3206: 100%|██████████| 126/126 [00:39<00:00,  3.15it/s]\n",
      "Val Loss: 0.3205: 100%|██████████| 32/32 [00:08<00:00,  3.75it/s]\n"
     ]
    },
    {
     "name": "stdout",
     "output_type": "stream",
     "text": [
      "Epoch 60 | Train Loss: 0.4998 | Train F1: 0.8578 | Val Loss: 0.4769 | Val F1: 0.9549\n"
     ]
    },
    {
     "name": "stderr",
     "output_type": "stream",
     "text": [
      "Loss: 0.3206: 100%|██████████| 126/126 [00:40<00:00,  3.14it/s]\n",
      "Val Loss: 0.3204: 100%|██████████| 32/32 [00:08<00:00,  3.72it/s]\n"
     ]
    },
    {
     "name": "stdout",
     "output_type": "stream",
     "text": [
      "Epoch 61 | Train Loss: 0.5445 | Train F1: 0.8332 | Val Loss: 0.4779 | Val F1: 0.9558\n"
     ]
    },
    {
     "name": "stderr",
     "output_type": "stream",
     "text": [
      "Loss: 0.3206: 100%|██████████| 126/126 [00:40<00:00,  3.15it/s]\n",
      "Val Loss: 0.3221: 100%|██████████| 32/32 [00:08<00:00,  3.77it/s]\n"
     ]
    },
    {
     "name": "stdout",
     "output_type": "stream",
     "text": [
      "Epoch 62 | Train Loss: 0.5022 | Train F1: 0.8341 | Val Loss: 0.4618 | Val F1: 0.9515\n"
     ]
    },
    {
     "name": "stderr",
     "output_type": "stream",
     "text": [
      "Loss: 0.7935: 100%|██████████| 126/126 [00:40<00:00,  3.15it/s]\n",
      "Val Loss: 0.3241: 100%|██████████| 32/32 [00:08<00:00,  3.76it/s]\n"
     ]
    },
    {
     "name": "stdout",
     "output_type": "stream",
     "text": [
      "Epoch 63 | Train Loss: 0.4422 | Train F1: 0.9109 | Val Loss: 0.4268 | Val F1: 0.9707\n"
     ]
    },
    {
     "name": "stderr",
     "output_type": "stream",
     "text": [
      "Loss: 0.3281: 100%|██████████| 126/126 [00:39<00:00,  3.16it/s]\n",
      "Val Loss: 0.3204: 100%|██████████| 32/32 [00:08<00:00,  3.79it/s]\n"
     ]
    },
    {
     "name": "stdout",
     "output_type": "stream",
     "text": [
      "Epoch 64 | Train Loss: 0.4846 | Train F1: 0.9034 | Val Loss: 0.4551 | Val F1: 0.9609\n"
     ]
    },
    {
     "name": "stderr",
     "output_type": "stream",
     "text": [
      "Loss: 0.3203: 100%|██████████| 126/126 [00:39<00:00,  3.15it/s]\n",
      "Val Loss: 0.3204: 100%|██████████| 32/32 [00:08<00:00,  3.77it/s]\n"
     ]
    },
    {
     "name": "stdout",
     "output_type": "stream",
     "text": [
      "Epoch 65 | Train Loss: 0.5333 | Train F1: 0.7974 | Val Loss: 0.4480 | Val F1: 0.9630\n"
     ]
    },
    {
     "name": "stderr",
     "output_type": "stream",
     "text": [
      "Loss: 0.3203: 100%|██████████| 126/126 [00:40<00:00,  3.15it/s]\n",
      "Val Loss: 0.3203: 100%|██████████| 32/32 [00:08<00:00,  3.72it/s]\n"
     ]
    },
    {
     "name": "stdout",
     "output_type": "stream",
     "text": [
      "Epoch 66 | Train Loss: 0.4970 | Train F1: 0.8818 | Val Loss: 0.4654 | Val F1: 0.9579\n"
     ]
    },
    {
     "name": "stderr",
     "output_type": "stream",
     "text": [
      "Loss: 0.3203: 100%|██████████| 126/126 [00:40<00:00,  3.15it/s]\n",
      "Val Loss: 0.3207: 100%|██████████| 32/32 [00:08<00:00,  3.74it/s]\n"
     ]
    },
    {
     "name": "stdout",
     "output_type": "stream",
     "text": [
      "Epoch 67 | Train Loss: 0.4891 | Train F1: 0.8531 | Val Loss: 0.4421 | Val F1: 0.9609\n"
     ]
    },
    {
     "name": "stderr",
     "output_type": "stream",
     "text": [
      "Loss: 1.1953: 100%|██████████| 126/126 [00:39<00:00,  3.15it/s]\n",
      "Val Loss: 0.3203: 100%|██████████| 32/32 [00:08<00:00,  3.78it/s]\n"
     ]
    },
    {
     "name": "stdout",
     "output_type": "stream",
     "text": [
      "Epoch 68 | Train Loss: 0.4885 | Train F1: 0.8680 | Val Loss: 0.4131 | Val F1: 0.9729\n"
     ]
    },
    {
     "name": "stderr",
     "output_type": "stream",
     "text": [
      "Loss: 1.0420: 100%|██████████| 126/126 [00:39<00:00,  3.15it/s]\n",
      "Val Loss: 0.3203: 100%|██████████| 32/32 [00:08<00:00,  3.77it/s]\n"
     ]
    },
    {
     "name": "stdout",
     "output_type": "stream",
     "text": [
      "Epoch 69 | Train Loss: 0.4915 | Train F1: 0.8566 | Val Loss: 0.4099 | Val F1: 0.9736\n"
     ]
    },
    {
     "name": "stderr",
     "output_type": "stream",
     "text": [
      "Loss: 0.3201: 100%|██████████| 126/126 [00:40<00:00,  3.15it/s]\n",
      "Val Loss: 0.3436: 100%|██████████| 32/32 [00:08<00:00,  3.74it/s]\n"
     ]
    },
    {
     "name": "stdout",
     "output_type": "stream",
     "text": [
      "Epoch 70 | Train Loss: 0.4968 | Train F1: 0.8465 | Val Loss: 0.4683 | Val F1: 0.9558\n"
     ]
    },
    {
     "name": "stderr",
     "output_type": "stream",
     "text": [
      "Loss: 0.8359: 100%|██████████| 126/126 [00:40<00:00,  3.15it/s]\n",
      "Val Loss: 0.3251: 100%|██████████| 32/32 [00:08<00:00,  3.73it/s]\n"
     ]
    },
    {
     "name": "stdout",
     "output_type": "stream",
     "text": [
      "Epoch 71 | Train Loss: 0.4928 | Train F1: 0.8874 | Val Loss: 0.4421 | Val F1: 0.9622\n"
     ]
    },
    {
     "name": "stderr",
     "output_type": "stream",
     "text": [
      "Loss: 0.3203: 100%|██████████| 126/126 [00:40<00:00,  3.15it/s]\n",
      "Val Loss: 0.3203: 100%|██████████| 32/32 [00:08<00:00,  3.70it/s]\n"
     ]
    },
    {
     "name": "stdout",
     "output_type": "stream",
     "text": [
      "Epoch 72 | Train Loss: 0.4630 | Train F1: 0.8813 | Val Loss: 0.4143 | Val F1: 0.9693\n"
     ]
    },
    {
     "name": "stderr",
     "output_type": "stream",
     "text": [
      "Loss: 0.3206: 100%|██████████| 126/126 [00:39<00:00,  3.15it/s]\n",
      "Val Loss: 0.3285: 100%|██████████| 32/32 [00:08<00:00,  3.76it/s]\n"
     ]
    },
    {
     "name": "stdout",
     "output_type": "stream",
     "text": [
      "Epoch 73 | Train Loss: 0.5169 | Train F1: 0.8551 | Val Loss: 0.4617 | Val F1: 0.9567\n"
     ]
    },
    {
     "name": "stderr",
     "output_type": "stream",
     "text": [
      "Loss: 0.3206: 100%|██████████| 126/126 [00:40<00:00,  3.15it/s]\n",
      "Val Loss: 0.3485: 100%|██████████| 32/32 [00:08<00:00,  3.78it/s]\n"
     ]
    },
    {
     "name": "stdout",
     "output_type": "stream",
     "text": [
      "Epoch 74 | Train Loss: 0.5428 | Train F1: 0.8135 | Val Loss: 0.4453 | Val F1: 0.9675\n"
     ]
    },
    {
     "name": "stderr",
     "output_type": "stream",
     "text": [
      "Loss: 1.0283: 100%|██████████| 126/126 [00:39<00:00,  3.15it/s]\n",
      "Val Loss: 0.3203: 100%|██████████| 32/32 [00:08<00:00,  3.76it/s]\n"
     ]
    },
    {
     "name": "stdout",
     "output_type": "stream",
     "text": [
      "Epoch 75 | Train Loss: 0.5065 | Train F1: 0.8563 | Val Loss: 0.4507 | Val F1: 0.9606\n"
     ]
    },
    {
     "name": "stderr",
     "output_type": "stream",
     "text": [
      "Loss: 0.3203: 100%|██████████| 126/126 [00:39<00:00,  3.15it/s]\n",
      "Val Loss: 1.3602: 100%|██████████| 32/32 [00:08<00:00,  3.77it/s]\n"
     ]
    },
    {
     "name": "stdout",
     "output_type": "stream",
     "text": [
      "Epoch 76 | Train Loss: 0.4996 | Train F1: 0.8853 | Val Loss: 0.4851 | Val F1: 0.9611\n"
     ]
    },
    {
     "name": "stderr",
     "output_type": "stream",
     "text": [
      "Loss: 0.3203: 100%|██████████| 126/126 [00:39<00:00,  3.15it/s]\n",
      "Val Loss: 1.0904: 100%|██████████| 32/32 [00:08<00:00,  3.78it/s]\n"
     ]
    },
    {
     "name": "stdout",
     "output_type": "stream",
     "text": [
      "Epoch 77 | Train Loss: 0.4796 | Train F1: 0.8959 | Val Loss: 0.4810 | Val F1: 0.9546\n"
     ]
    },
    {
     "name": "stderr",
     "output_type": "stream",
     "text": [
      "Loss: 0.3201: 100%|██████████| 126/126 [00:39<00:00,  3.16it/s]\n",
      "Val Loss: 0.3203: 100%|██████████| 32/32 [00:08<00:00,  3.78it/s]\n"
     ]
    },
    {
     "name": "stdout",
     "output_type": "stream",
     "text": [
      "Epoch 78 | Train Loss: 0.4868 | Train F1: 0.8614 | Val Loss: 0.4489 | Val F1: 0.9665\n"
     ]
    },
    {
     "name": "stderr",
     "output_type": "stream",
     "text": [
      "Loss: 0.3203: 100%|██████████| 126/126 [00:40<00:00,  3.15it/s]\n",
      "Val Loss: 0.3203: 100%|██████████| 32/32 [00:08<00:00,  3.79it/s]\n"
     ]
    },
    {
     "name": "stdout",
     "output_type": "stream",
     "text": [
      "Epoch 79 | Train Loss: 0.4931 | Train F1: 0.8790 | Val Loss: 0.4906 | Val F1: 0.9511\n"
     ]
    },
    {
     "name": "stderr",
     "output_type": "stream",
     "text": [
      "Loss: 0.3203: 100%|██████████| 126/126 [00:39<00:00,  3.16it/s]\n",
      "Val Loss: 1.4239: 100%|██████████| 32/32 [00:08<00:00,  3.71it/s]\n"
     ]
    },
    {
     "name": "stdout",
     "output_type": "stream",
     "text": [
      "Epoch 80 | Train Loss: 0.4976 | Train F1: 0.8207 | Val Loss: 0.4948 | Val F1: 0.9622\n"
     ]
    },
    {
     "name": "stderr",
     "output_type": "stream",
     "text": [
      "Loss: 0.3201: 100%|██████████| 126/126 [00:39<00:00,  3.16it/s]\n",
      "Val Loss: 1.7034: 100%|██████████| 32/32 [00:08<00:00,  3.79it/s]\n"
     ]
    },
    {
     "name": "stdout",
     "output_type": "stream",
     "text": [
      "Epoch 81 | Train Loss: 0.4961 | Train F1: 0.8865 | Val Loss: 0.5425 | Val F1: 0.9515\n"
     ]
    },
    {
     "name": "stderr",
     "output_type": "stream",
     "text": [
      "Loss: 0.3203: 100%|██████████| 126/126 [00:39<00:00,  3.16it/s]\n",
      "Val Loss: 0.3203: 100%|██████████| 32/32 [00:08<00:00,  3.76it/s]\n"
     ]
    },
    {
     "name": "stdout",
     "output_type": "stream",
     "text": [
      "Epoch 82 | Train Loss: 0.4864 | Train F1: 0.8740 | Val Loss: 0.4327 | Val F1: 0.9694\n"
     ]
    },
    {
     "name": "stderr",
     "output_type": "stream",
     "text": [
      "Loss: 0.3206: 100%|██████████| 126/126 [00:40<00:00,  3.15it/s]\n",
      "Val Loss: 0.3242: 100%|██████████| 32/32 [00:08<00:00,  3.76it/s]\n"
     ]
    },
    {
     "name": "stdout",
     "output_type": "stream",
     "text": [
      "Epoch 83 | Train Loss: 0.5700 | Train F1: 0.8421 | Val Loss: 0.4638 | Val F1: 0.9593\n"
     ]
    },
    {
     "name": "stderr",
     "output_type": "stream",
     "text": [
      "Loss: 0.3203: 100%|██████████| 126/126 [00:39<00:00,  3.15it/s]\n",
      "Val Loss: 0.3203: 100%|██████████| 32/32 [00:08<00:00,  3.78it/s]\n"
     ]
    },
    {
     "name": "stdout",
     "output_type": "stream",
     "text": [
      "Epoch 84 | Train Loss: 0.4965 | Train F1: 0.8504 | Val Loss: 0.4457 | Val F1: 0.9636\n"
     ]
    },
    {
     "name": "stderr",
     "output_type": "stream",
     "text": [
      "Loss: 0.3201: 100%|██████████| 126/126 [00:39<00:00,  3.15it/s]\n",
      "Val Loss: 0.3203: 100%|██████████| 32/32 [00:08<00:00,  3.78it/s]\n"
     ]
    },
    {
     "name": "stdout",
     "output_type": "stream",
     "text": [
      "Epoch 85 | Train Loss: 0.4932 | Train F1: 0.9001 | Val Loss: 0.4297 | Val F1: 0.9678\n"
     ]
    },
    {
     "name": "stderr",
     "output_type": "stream",
     "text": [
      "Loss: 0.6982: 100%|██████████| 126/126 [00:39<00:00,  3.15it/s]\n",
      "Val Loss: 0.3203: 100%|██████████| 32/32 [00:08<00:00,  3.77it/s]\n"
     ]
    },
    {
     "name": "stdout",
     "output_type": "stream",
     "text": [
      "Epoch 86 | Train Loss: 0.5262 | Train F1: 0.8761 | Val Loss: 0.4647 | Val F1: 0.9546\n"
     ]
    },
    {
     "name": "stderr",
     "output_type": "stream",
     "text": [
      "Loss: 0.4907: 100%|██████████| 126/126 [00:39<00:00,  3.15it/s]\n",
      "Val Loss: 0.7206: 100%|██████████| 32/32 [00:08<00:00,  3.76it/s]\n"
     ]
    },
    {
     "name": "stdout",
     "output_type": "stream",
     "text": [
      "Epoch 87 | Train Loss: 0.4707 | Train F1: 0.8748 | Val Loss: 0.4441 | Val F1: 0.9693\n"
     ]
    },
    {
     "name": "stderr",
     "output_type": "stream",
     "text": [
      "Loss: 0.8242: 100%|██████████| 126/126 [00:39<00:00,  3.16it/s]\n",
      "Val Loss: 0.3220: 100%|██████████| 32/32 [00:08<00:00,  3.75it/s]\n"
     ]
    },
    {
     "name": "stdout",
     "output_type": "stream",
     "text": [
      "Epoch 88 | Train Loss: 0.4947 | Train F1: 0.8734 | Val Loss: 0.4325 | Val F1: 0.9652\n"
     ]
    },
    {
     "name": "stderr",
     "output_type": "stream",
     "text": [
      "Loss: 0.3203: 100%|██████████| 126/126 [00:39<00:00,  3.16it/s]\n",
      "Val Loss: 0.3223: 100%|██████████| 32/32 [00:08<00:00,  3.77it/s]\n"
     ]
    },
    {
     "name": "stdout",
     "output_type": "stream",
     "text": [
      "Epoch 89 | Train Loss: 0.4781 | Train F1: 0.8708 | Val Loss: 0.4528 | Val F1: 0.9724\n"
     ]
    },
    {
     "name": "stderr",
     "output_type": "stream",
     "text": [
      "Loss: 0.8931: 100%|██████████| 126/126 [00:40<00:00,  3.15it/s]\n",
      "Val Loss: 0.3203: 100%|██████████| 32/32 [00:08<00:00,  3.76it/s]\n"
     ]
    },
    {
     "name": "stdout",
     "output_type": "stream",
     "text": [
      "Epoch 90 | Train Loss: 0.4908 | Train F1: 0.8771 | Val Loss: 0.4138 | Val F1: 0.9707\n"
     ]
    },
    {
     "name": "stderr",
     "output_type": "stream",
     "text": [
      "Loss: 0.3203: 100%|██████████| 126/126 [00:40<00:00,  3.14it/s]\n",
      "Val Loss: 0.8863: 100%|██████████| 32/32 [00:08<00:00,  3.76it/s]\n"
     ]
    },
    {
     "name": "stdout",
     "output_type": "stream",
     "text": [
      "Epoch 91 | Train Loss: 0.5033 | Train F1: 0.8653 | Val Loss: 0.4604 | Val F1: 0.9688\n"
     ]
    },
    {
     "name": "stderr",
     "output_type": "stream",
     "text": [
      "Loss: 0.8164: 100%|██████████| 126/126 [00:40<00:00,  3.15it/s]\n",
      "Val Loss: 0.7881: 100%|██████████| 32/32 [00:08<00:00,  3.76it/s]\n"
     ]
    },
    {
     "name": "stdout",
     "output_type": "stream",
     "text": [
      "Epoch 92 | Train Loss: 0.5153 | Train F1: 0.8662 | Val Loss: 0.4701 | Val F1: 0.9588\n"
     ]
    },
    {
     "name": "stderr",
     "output_type": "stream",
     "text": [
      "Loss: 0.6963: 100%|██████████| 126/126 [00:40<00:00,  3.15it/s]\n",
      "Val Loss: 0.3226: 100%|██████████| 32/32 [00:08<00:00,  3.75it/s]\n"
     ]
    },
    {
     "name": "stdout",
     "output_type": "stream",
     "text": [
      "Epoch 93 | Train Loss: 0.4972 | Train F1: 0.8661 | Val Loss: 0.4411 | Val F1: 0.9724\n"
     ]
    },
    {
     "name": "stderr",
     "output_type": "stream",
     "text": [
      "Loss: 0.6211: 100%|██████████| 126/126 [00:39<00:00,  3.16it/s]\n",
      "Val Loss: 0.7710: 100%|██████████| 32/32 [00:08<00:00,  3.77it/s]\n"
     ]
    },
    {
     "name": "stdout",
     "output_type": "stream",
     "text": [
      "Epoch 94 | Train Loss: 0.4895 | Train F1: 0.8698 | Val Loss: 0.4541 | Val F1: 0.9663\n"
     ]
    },
    {
     "name": "stderr",
     "output_type": "stream",
     "text": [
      "Loss: 0.3201: 100%|██████████| 126/126 [00:39<00:00,  3.15it/s]\n",
      "Val Loss: 0.3203: 100%|██████████| 32/32 [00:08<00:00,  3.76it/s]\n"
     ]
    },
    {
     "name": "stdout",
     "output_type": "stream",
     "text": [
      "Epoch 95 | Train Loss: 0.4817 | Train F1: 0.8418 | Val Loss: 0.4565 | Val F1: 0.9633\n"
     ]
    },
    {
     "name": "stderr",
     "output_type": "stream",
     "text": [
      "Loss: 1.0547: 100%|██████████| 126/126 [00:40<00:00,  3.15it/s]\n",
      "Val Loss: 0.3203: 100%|██████████| 32/32 [00:08<00:00,  3.80it/s]\n"
     ]
    },
    {
     "name": "stdout",
     "output_type": "stream",
     "text": [
      "Epoch 96 | Train Loss: 0.5035 | Train F1: 0.8000 | Val Loss: 0.4413 | Val F1: 0.9676\n"
     ]
    },
    {
     "name": "stderr",
     "output_type": "stream",
     "text": [
      "Loss: 1.1035: 100%|██████████| 126/126 [00:40<00:00,  3.15it/s]\n",
      "Val Loss: 0.3203: 100%|██████████| 32/32 [00:08<00:00,  3.75it/s]\n"
     ]
    },
    {
     "name": "stdout",
     "output_type": "stream",
     "text": [
      "Epoch 97 | Train Loss: 0.5318 | Train F1: 0.8088 | Val Loss: 0.4584 | Val F1: 0.9633\n"
     ]
    },
    {
     "name": "stderr",
     "output_type": "stream",
     "text": [
      "Loss: 0.3206: 100%|██████████| 126/126 [00:39<00:00,  3.16it/s]\n",
      "Val Loss: 0.3203: 100%|██████████| 32/32 [00:08<00:00,  3.75it/s]\n"
     ]
    },
    {
     "name": "stdout",
     "output_type": "stream",
     "text": [
      "Epoch 98 | Train Loss: 0.4740 | Train F1: 0.8924 | Val Loss: 0.4592 | Val F1: 0.9621\n"
     ]
    },
    {
     "name": "stderr",
     "output_type": "stream",
     "text": [
      "Loss: 0.6006: 100%|██████████| 126/126 [00:39<00:00,  3.16it/s]\n",
      "Val Loss: 0.6277: 100%|██████████| 32/32 [00:08<00:00,  3.75it/s]\n"
     ]
    },
    {
     "name": "stdout",
     "output_type": "stream",
     "text": [
      "Epoch 99 | Train Loss: 0.4857 | Train F1: 0.8969 | Val Loss: 0.4524 | Val F1: 0.9629\n"
     ]
    },
    {
     "name": "stderr",
     "output_type": "stream",
     "text": [
      "Loss: 0.3201: 100%|██████████| 126/126 [00:39<00:00,  3.17it/s]\n",
      "Val Loss: 0.3203: 100%|██████████| 32/32 [00:08<00:00,  3.80it/s]"
     ]
    },
    {
     "name": "stdout",
     "output_type": "stream",
     "text": [
      "Epoch 100 | Train Loss: 0.4520 | Train F1: 0.8923 | Val Loss: 0.4144 | Val F1: 0.9778\n"
     ]
    },
    {
     "name": "stderr",
     "output_type": "stream",
     "text": [
      "\n"
     ]
    },
    {
     "name": "stdout",
     "output_type": "stream",
     "text": [
      "Fold 5 Best Validation F1: 0.9778\n",
      "\n",
      "============================================================\n",
      "K-FOLD CROSS VALIDATION RESULTS\n",
      "============================================================\n",
      "Fold 1: 0.9729\n",
      "Fold 2: 0.9897\n",
      "Fold 3: 0.9893\n",
      "Fold 4: 0.9866\n",
      "Fold 5: 0.9778\n",
      "\n",
      "Mean CV F1: 0.9833 ± 0.0067\n",
      "Best single fold: 0.9897\n"
     ]
    }
   ],
   "source": [
    "# K-Fold 설정\n",
    "N_FOLDS = 5  # 5-fold로 설정 (데이터가 적으므로)\n",
    "skf = StratifiedKFold(n_splits=N_FOLDS, shuffle=True, random_state=42)\n",
    "\n",
    "# 클래스별 최소 샘플 보장 확인\n",
    "# for fold, (train_idx, val_idx) in enumerate(skf.split(train_df, train_df['target'])):\n",
    "#     assert len(np.unique(train_df.iloc[val_idx]['target'])) == 17\n",
    "\n",
    "# 전체 학습 데이터 로드\n",
    "train_df = pd.read_csv(\"../data/train.csv\")\n",
    "\n",
    "# K-Fold 결과를 저장할 리스트\n",
    "fold_results = []\n",
    "fold_models = []  # 각 fold의 최고 성능 모델을 저장\n",
    "fold_class_accuracies = [] # 각 fold의 클래스별 정확도 저장\n",
    "\n",
    "print(f\"Starting {N_FOLDS}-Fold Cross Validation...\")\n",
    "\n",
    "# LR = best_params['lr']\n",
    "# BATCH_SIZE = best_params['batch_size']\n",
    "\n",
    "# K-Fold Cross Validation 시작\n",
    "for fold, (train_idx, val_idx) in enumerate(skf.split(train_df, train_df['target'])):\n",
    "    print(f\"\\n{'='*50}\")\n",
    "    print(f\"FOLD {fold + 1}/{N_FOLDS}\")\n",
    "    print(f\"{'='*50}\")\n",
    "    \n",
    "    current_model = model_name\n",
    "    \n",
    "    # 현재 fold의 train/validation 데이터 분할\n",
    "    train_fold_df = train_df.iloc[train_idx].reset_index(drop=True)\n",
    "    val_fold_df = train_df.iloc[val_idx].reset_index(drop=True)\n",
    "    \n",
    "    # 현재 fold의 Dataset 생성\n",
    "    trn_dataset = ImageDataset(\n",
    "        train_fold_df,\n",
    "        \"../data/train/\",\n",
    "        # transform=trn_transform\n",
    "        epoch=0,  # 현재 epoch 전달\n",
    "        total_epochs=EPOCHS,\n",
    "        is_train=True\n",
    "    )\n",
    "    \n",
    "    val_dataset = ImageDataset(\n",
    "        val_fold_df,\n",
    "        \"../data/train/\",\n",
    "        # transform=tst_transform  # 검증에는 증강 적용 안함\n",
    "        epoch=0,  # validation은 epoch 관계없음\n",
    "        total_epochs=EPOCHS,\n",
    "        is_train=False  # validation이므로 hard augmentation 비활성화\n",
    "    )\n",
    "    \n",
    "    # 현재 fold의 DataLoader 생성\n",
    "    trn_loader = DataLoader(\n",
    "        trn_dataset,\n",
    "        batch_size=BATCH_SIZE,\n",
    "        shuffle=True,\n",
    "        num_workers=num_workers,\n",
    "        pin_memory=True,\n",
    "        drop_last=False\n",
    "    )\n",
    "    \n",
    "    val_loader = DataLoader(\n",
    "        val_dataset,\n",
    "        batch_size=BATCH_SIZE,\n",
    "        shuffle=False,\n",
    "        num_workers=num_workers,\n",
    "        pin_memory=True\n",
    "    )\n",
    "    \n",
    "    print(f\"Train samples: {len(trn_dataset)}, Validation samples: {len(val_dataset)}\")\n",
    "    \n",
    "    # 모델 초기화 (각 fold마다 새로운 모델)\n",
    "    model = timm.create_model(\n",
    "        current_model,\n",
    "        pretrained=True,\n",
    "        num_classes=17\n",
    "    ).to(device)\n",
    "    \n",
    "    loss_fn = nn.CrossEntropyLoss(label_smoothing=0.05)  # Label Smoothing 적용\n",
    "    optimizer = Adam(model.parameters(), lr=LR)\n",
    "    \n",
    "    # Learning Rate Scheduler 추가\n",
    "    scheduler = CosineAnnealingLR(optimizer, T_max=EPOCHS)\n",
    "    \n",
    "    # 현재 fold의 최고 성능 추적\n",
    "    best_val_f1 = 0.0\n",
    "    best_model = None\n",
    "    \n",
    "    # 현재 fold 학습\n",
    "    for epoch in range(EPOCHS):\n",
    "        # Training\n",
    "        train_ret = train_one_epoch(trn_loader, model, optimizer, loss_fn, device)\n",
    "        \n",
    "        # Validation\n",
    "        val_ret = validate_one_epoch(val_loader, model, loss_fn, device)\n",
    "        \n",
    "        # Scheduler step 추가\n",
    "        scheduler.step()\n",
    "        \n",
    "        print(f\"Epoch {epoch+1:2d} | \"\n",
    "              f\"Train Loss: {train_ret['train_loss']:.4f} | \"\n",
    "              f\"Train F1: {train_ret['train_f1']:.4f} | \"\n",
    "              f\"Val Loss: {val_ret['val_loss']:.4f} | \"\n",
    "              f\"Val F1: {val_ret['val_f1']:.4f}\")\n",
    "        \n",
    "        # 최고 성능 모델 저장\n",
    "        if val_ret['val_f1'] > best_val_f1:\n",
    "            best_val_f1 = val_ret['val_f1']\n",
    "            best_model = copy.deepcopy(model.state_dict())\n",
    "            \n",
    "            # Best 모델 분석\n",
    "            model.eval()\n",
    "            val_preds, val_targets = [], []\n",
    "            with torch.no_grad():\n",
    "                for image, targets in val_loader:\n",
    "                    preds = model(image.to(device)).argmax(dim=1)\n",
    "                    val_preds.extend(preds.cpu().numpy())\n",
    "                    val_targets.extend(targets.numpy())\n",
    "            \n",
    "            # 클래스별 정확도\n",
    "            fold_class_acc = {}\n",
    "            for c in range(17):\n",
    "                mask = np.array(val_targets) == c\n",
    "                if mask.sum() > 0:\n",
    "                    fold_class_acc[c] = (np.array(val_preds)[mask] == c).mean()\n",
    "    \n",
    "    # 현재 fold 결과 저장\n",
    "    fold_results.append({\n",
    "        'fold': fold + 1,\n",
    "        'best_val_f1': best_val_f1,\n",
    "        'train_samples': len(trn_dataset),\n",
    "        'val_samples': len(val_dataset)\n",
    "    })\n",
    "    \n",
    "    fold_models.append(best_model)\n",
    "    \n",
    "    print(f\"Fold {fold + 1} Best Validation F1: {best_val_f1:.4f}\")\n",
    "    \n",
    "    fold_class_accuracies.append(fold_class_acc) # 각 fold의 클래스별 정확도 저장\n",
    "\n",
    "# K-Fold 결과 요약\n",
    "print(f\"\\n{'='*60}\")\n",
    "print(\"K-FOLD CROSS VALIDATION RESULTS\")\n",
    "print(f\"{'='*60}\")\n",
    "\n",
    "val_f1_scores = [result['best_val_f1'] for result in fold_results]\n",
    "mean_f1 = np.mean(val_f1_scores)\n",
    "std_f1 = np.std(val_f1_scores)\n",
    "\n",
    "for result in fold_results:\n",
    "    print(f\"Fold {result['fold']}: {result['best_val_f1']:.4f}\")\n",
    "\n",
    "print(f\"\\nMean CV F1: {mean_f1:.4f} ± {std_f1:.4f}\")\n",
    "print(f\"Best single fold: {max(val_f1_scores):.4f}\")"
   ]
  },
  {
   "cell_type": "code",
   "execution_count": 11,
   "metadata": {},
   "outputs": [
    {
     "data": {
      "image/png": "[encoded data removed]",
      "text/plain": [
       "<Figure size 1500x800 with 1 Axes>"
      ]
     },
     "metadata": {},
     "output_type": "display_data"
    },
    {
     "name": "stdout",
     "output_type": "stream",
     "text": [
      "Worst 3 classes:\n",
      "Class 14: 84.0%\n",
      "Class 3: 90.0%\n",
      "Class 7: 91.0%\n"
     ]
    }
   ],
   "source": [
    "# 클래스별 성능 시각화\n",
    "meta_df = pd.read_csv(\"../data/meta.csv\")\n",
    "avg_acc = {c: np.mean([f.get(c,0) for f in fold_class_accuracies]) for c in range(17)}\n",
    "\n",
    "plt.figure(figsize=(15, 8))\n",
    "classes = list(avg_acc.keys())\n",
    "accs = [avg_acc[c] * 100 for c in classes]\n",
    "names = [f\"C{c}\" for c in classes]\n",
    "\n",
    "plt.bar(range(17), accs)\n",
    "plt.xticks(range(17), names)\n",
    "plt.ylabel('Accuracy (%)')\n",
    "plt.title('Class-wise Prediction Accuracy')\n",
    "for i, acc in enumerate(accs):\n",
    "    plt.text(i, acc + 1, f'{acc:.1f}%', ha='center', fontsize=8)\n",
    "plt.tight_layout()\n",
    "plt.show()\n",
    "\n",
    "print(\"Worst 3 classes:\")\n",
    "worst = sorted(avg_acc.items(), key=lambda x: x[1])[:3]\n",
    "for c, acc in worst:\n",
    "    print(f\"Class {c}: {acc*100:.1f}%\")"
   ]
  },
  {
   "cell_type": "code",
   "execution_count": 12,
   "metadata": {},
   "outputs": [
    {
     "name": "stdout",
     "output_type": "stream",
     "text": [
      "Saving fold models...\n",
      "✓ Fold 1 model saved to models/fold_1_best.pth\n",
      "✓ Fold 2 model saved to models/fold_2_best.pth\n",
      "✓ Fold 3 model saved to models/fold_3_best.pth\n",
      "✓ Fold 4 model saved to models/fold_4_best.pth\n",
      "✓ Fold 5 model saved to models/fold_5_best.pth\n",
      "All 5 fold models saved!\n"
     ]
    }
   ],
   "source": [
    "# 디렉토리 생성\n",
    "os.makedirs('models', exist_ok=True)\n",
    "\n",
    "# fold_models 저장 (현재 메모리에 있다면 바로 실행 가능)\n",
    "print(\"Saving fold models...\")\n",
    "for i, state_dict in enumerate(fold_models):\n",
    "    save_path = f'models/fold_{i+1}_best.pth'\n",
    "    torch.save(state_dict, save_path)  # 그냥 직접 저장\n",
    "    print(f\"✓ Fold {i+1} model saved to {save_path}\")\n",
    "\n",
    "print(f\"All {len(fold_models)} fold models saved!\")"
   ]
  },
  {
   "cell_type": "code",
   "execution_count": null,
   "metadata": {},
   "outputs": [
    {
     "ename": "NameError",
     "evalue": "name 'save_models' is not defined",
     "output_type": "error",
     "traceback": [
      "\u001b[0;31m---------------------------------------------------------------------------\u001b[0m",
      "\u001b[0;31mNameError\u001b[0m                                 Traceback (most recent call last)",
      "Cell \u001b[0;32mIn[14], line 1\u001b[0m\n\u001b[0;32m----> 1\u001b[0m \u001b[43msave_models\u001b[49m()\n",
      "\u001b[0;31mNameError\u001b[0m: name 'save_models' is not defined"
     ]
    }
   ],
   "source": [
    "# save_models()"
   ]
  },
  {
   "cell_type": "code",
   "execution_count": 15,
   "metadata": {},
   "outputs": [
    {
     "name": "stdout",
     "output_type": "stream",
     "text": [
      "Using ensemble of all 5 fold models for inference\n"
     ]
    }
   ],
   "source": [
    "# 5-Fold 앙상블 모델 준비\n",
    "ensemble_models = []\n",
    "for i, state_dict in enumerate(fold_models):\n",
    "    fold_model = timm.create_model(model_name, pretrained=True, num_classes=17).to(device)\n",
    "    fold_model.load_state_dict(state_dict)\n",
    "    fold_model.eval()\n",
    "    ensemble_models.append(fold_model)\n",
    "print(f\"Using ensemble of all {len(ensemble_models)} fold models for inference\")"
   ]
  },
  {
   "attachments": {},
   "cell_type": "markdown",
   "metadata": {
    "id": "Nmm5h3J-pXNV"
   },
   "source": [
    "## 5. Train Model\n",
    "* 모델을 로드하고, 학습을 진행합니다."
   ]
  },
  {
   "attachments": {},
   "cell_type": "markdown",
   "metadata": {
    "id": "lkwxRXoBpbaX"
   },
   "source": [
    "# 6. Inference & Save File\n",
    "* 테스트 이미지에 대한 추론을 진행하고, 결과 파일을 저장합니다."
   ]
  },
  {
   "cell_type": "code",
   "execution_count": 16,
   "metadata": {},
   "outputs": [],
   "source": [
    "# Temperature Scaling 클래스 정의\n",
    "class TemperatureScaling(nn.Module):\n",
    "    def __init__(self):\n",
    "        super().__init__()\n",
    "        self.temperature = nn.Parameter(torch.ones(1) * 1.5)\n",
    "    \n",
    "    def forward(self, logits):\n",
    "        return logits / self.temperature"
   ]
  },
  {
   "cell_type": "code",
   "execution_count": 17,
   "metadata": {},
   "outputs": [],
   "source": [
    "essential_tta_transforms = [\n",
    "    # 원본\n",
    "    A.Compose([\n",
    "        A.LongestMaxSize(max_size=img_size),\n",
    "        A.PadIfNeeded(min_height=img_size, min_width=img_size, border_mode=0, value=0),\n",
    "        A.Normalize(mean=[0.485, 0.456, 0.406], std=[0.229, 0.224, 0.225]),\n",
    "        ToTensorV2(),\n",
    "    ]),\n",
    "    # 90도 회전들\n",
    "    A.Compose([\n",
    "        A.LongestMaxSize(max_size=img_size),\n",
    "        A.PadIfNeeded(min_height=img_size, min_width=img_size, border_mode=0, value=0),\n",
    "        A.Rotate(limit=[90, 90], p=1.0),\n",
    "        A.Normalize(mean=[0.485, 0.456, 0.406], std=[0.229, 0.224, 0.225]),\n",
    "        ToTensorV2(),\n",
    "    ]),\n",
    "    A.Compose([\n",
    "        A.LongestMaxSize(max_size=img_size),\n",
    "        A.PadIfNeeded(min_height=img_size, min_width=img_size, border_mode=0, value=0),\n",
    "        A.Rotate(limit=[180, 180], p=1.0),\n",
    "        A.Normalize(mean=[0.485, 0.456, 0.406], std=[0.229, 0.224, 0.225]),\n",
    "        ToTensorV2(),\n",
    "    ]),\n",
    "    A.Compose([\n",
    "        A.LongestMaxSize(max_size=img_size),\n",
    "        A.PadIfNeeded(min_height=img_size, min_width=img_size, border_mode=0, value=0),\n",
    "        A.Rotate(limit=[-90, -90], p=1.0),\n",
    "        A.Normalize(mean=[0.485, 0.456, 0.406], std=[0.229, 0.224, 0.225]),\n",
    "        ToTensorV2(),\n",
    "    ]),\n",
    "    # 밝기 개선\n",
    "    A.Compose([\n",
    "        A.LongestMaxSize(max_size=img_size),\n",
    "        A.PadIfNeeded(min_height=img_size, min_width=img_size, border_mode=0, value=0),\n",
    "        A.RandomBrightnessContrast(brightness_limit=[0.3, 0.3], contrast_limit=[0.3, 0.3], p=1.0),\n",
    "        A.Normalize(mean=[0.485, 0.456, 0.406], std=[0.229, 0.224, 0.225]),\n",
    "        ToTensorV2(),\n",
    "    ]),\n",
    "]"
   ]
  },
  {
   "cell_type": "code",
   "execution_count": 18,
   "metadata": {},
   "outputs": [],
   "source": [
    "# TTA 추론을 위한 Dataset 클래스\n",
    "class TTAImageDataset(Dataset):\n",
    "    def __init__(self, data, path, transforms):\n",
    "        if isinstance(data, str):\n",
    "            self.df = pd.read_csv(data).values\n",
    "        else:\n",
    "            self.df = data.values\n",
    "        self.path = path\n",
    "        self.transforms = transforms  # 여러 transform을 리스트로 받음\n",
    "\n",
    "    def __len__(self):\n",
    "        return len(self.df)\n",
    "\n",
    "    def __getitem__(self, idx):\n",
    "        name, target = self.df[idx]\n",
    "        img = np.array(Image.open(os.path.join(self.path, name)).convert('RGB'))\n",
    "        \n",
    "        # 모든 transform을 적용한 결과를 리스트로 반환\n",
    "        augmented_images = []\n",
    "        for transform in self.transforms:\n",
    "            aug_img = transform(image=img)['image']\n",
    "            augmented_images.append(aug_img)\n",
    "        \n",
    "        return augmented_images, target"
   ]
  },
  {
   "cell_type": "code",
   "execution_count": 19,
   "metadata": {},
   "outputs": [
    {
     "name": "stdout",
     "output_type": "stream",
     "text": [
      "TTA Dataset size: 3140\n"
     ]
    }
   ],
   "source": [
    "# TTA Dataset 생성\n",
    "tta_dataset = TTAImageDataset(\n",
    "    \"../data/sample_submission.csv\",\n",
    "    \"../data/test/\",\n",
    "    essential_tta_transforms\n",
    ")\n",
    "\n",
    "# TTA DataLoader (배치 크기를 줄여서 메모리 절약)\n",
    "tta_loader = DataLoader(\n",
    "    tta_dataset,\n",
    "    batch_size=16,  # TTA는 메모리를 많이 사용하므로 배치 크기 줄임\n",
    "    shuffle=False,\n",
    "    num_workers=num_workers,\n",
    "    pin_memory=True\n",
    ")\n",
    "\n",
    "print(f\"TTA Dataset size: {len(tta_dataset)}\")"
   ]
  },
  {
   "cell_type": "code",
   "execution_count": 20,
   "metadata": {},
   "outputs": [],
   "source": [
    "def ensemble_tta_inference(models, loader, transforms, confidence_threshold=0.9):\n",
    "    \"\"\"5-Fold 모델 앙상블 + TTA 추론\"\"\"\n",
    "    all_predictions = []\n",
    "    \n",
    "    for batch_idx, (images_list, _) in enumerate(tqdm(loader, desc=\"Ensemble TTA\")):\n",
    "        batch_size = images_list[0].size(0)\n",
    "        ensemble_probs = torch.zeros(batch_size, 17).to(device)\n",
    "        \n",
    "        # 각 fold 모델별 예측\n",
    "        for model in models:\n",
    "            with torch.no_grad():\n",
    "                # 각 TTA 변형별 예측\n",
    "                for images in images_list:\n",
    "                    images = images.to(device)\n",
    "                    preds = model(images)\n",
    "                    probs = torch.softmax(preds, dim=1)\n",
    "                    ensemble_probs += probs / (len(models) * len(images_list))\n",
    "        \n",
    "        final_preds = torch.argmax(ensemble_probs, dim=1)\n",
    "        all_predictions.extend(final_preds.cpu().numpy())\n",
    "    \n",
    "    return all_predictions"
   ]
  },
  {
   "cell_type": "code",
   "execution_count": 21,
   "metadata": {},
   "outputs": [
    {
     "name": "stdout",
     "output_type": "stream",
     "text": [
      "Starting Ensemble TTA inference...\n"
     ]
    },
    {
     "name": "stderr",
     "output_type": "stream",
     "text": [
      "Ensemble TTA: 100%|██████████| 197/197 [33:06<00:00, 10.08s/it]\n"
     ]
    }
   ],
   "source": [
    "# 앙상블 TTA 실행\n",
    "print(\"Starting Ensemble TTA inference...\")\n",
    "tta_predictions = ensemble_tta_inference(\n",
    "    models=ensemble_models, \n",
    "    loader=tta_loader, \n",
    "    transforms=essential_tta_transforms,\n",
    "    confidence_threshold=0.9\n",
    ")"
   ]
  },
  {
   "cell_type": "code",
   "execution_count": 22,
   "metadata": {},
   "outputs": [],
   "source": [
    "# TTA 결과로 submission 파일 생성\n",
    "tta_pred_df = pd.DataFrame(tta_dataset.df, columns=['ID', 'target'])\n",
    "tta_pred_df['target'] = tta_predictions"
   ]
  },
  {
   "cell_type": "code",
   "execution_count": 23,
   "metadata": {},
   "outputs": [],
   "source": [
    "# 기존 submission과 동일한 순서인지 확인\n",
    "sample_submission_df = pd.read_csv(\"../data/sample_submission.csv\")\n",
    "assert (sample_submission_df['ID'] == tta_pred_df['ID']).all()"
   ]
  },
  {
   "cell_type": "code",
   "execution_count": 24,
   "metadata": {},
   "outputs": [
    {
     "name": "stdout",
     "output_type": "stream",
     "text": [
      "TTA predictions saved\n",
      "TTA Prediction sample:\n"
     ]
    }
   ],
   "source": [
    "# TTA 결과 저장\n",
    "tta_pred_df.to_csv(\"../submission/choice.csv\", index=False)\n",
    "print(\"TTA predictions saved\")\n",
    "\n",
    "print(\"TTA Prediction sample:\")"
   ]
  },
  {
   "cell_type": "code",
   "execution_count": null,
   "metadata": {
    "colab": {
     "base_uri": "https://localhost:8080/",
     "height": 206
    },
    "executionInfo": {
     "elapsed": 353,
     "status": "ok",
     "timestamp": 1700315247734,
     "user": {
      "displayName": "Ynot(송원호)",
      "userId": "16271863862696372773"
     },
     "user_tz": -540
    },
    "id": "9yMO8s6GqAwZ",
    "outputId": "9a30616f-f0ea-439f-a906-dd806737ce00"
   },
   "outputs": [
    {
     "data": {
      "text/html": [
       "<div>\n",
       "<style scoped>\n",
       "    .dataframe tbody tr th:only-of-type {\n",
       "        vertical-align: middle;\n",
       "    }\n",
       "\n",
       "    .dataframe tbody tr th {\n",
       "        vertical-align: top;\n",
       "    }\n",
       "\n",
       "    .dataframe thead th {\n",
       "        text-align: right;\n",
       "    }\n",
       "</style>\n",
       "<table border=\"1\" class=\"dataframe\">\n",
       "  <thead>\n",
       "    <tr style=\"text-align: right;\">\n",
       "      <th></th>\n",
       "      <th>ID</th>\n",
       "      <th>target</th>\n",
       "    </tr>\n",
       "  </thead>\n",
       "  <tbody>\n",
       "    <tr>\n",
       "      <th>0</th>\n",
       "      <td>0008fdb22ddce0ce.jpg</td>\n",
       "      <td>2</td>\n",
       "    </tr>\n",
       "    <tr>\n",
       "      <th>1</th>\n",
       "      <td>00091bffdffd83de.jpg</td>\n",
       "      <td>12</td>\n",
       "    </tr>\n",
       "    <tr>\n",
       "      <th>2</th>\n",
       "      <td>00396fbc1f6cc21d.jpg</td>\n",
       "      <td>5</td>\n",
       "    </tr>\n",
       "    <tr>\n",
       "      <th>3</th>\n",
       "      <td>00471f8038d9c4b6.jpg</td>\n",
       "      <td>12</td>\n",
       "    </tr>\n",
       "    <tr>\n",
       "      <th>4</th>\n",
       "      <td>00901f504008d884.jpg</td>\n",
       "      <td>2</td>\n",
       "    </tr>\n",
       "  </tbody>\n",
       "</table>\n",
       "</div>"
      ],
      "text/plain": [
       "                     ID  target\n",
       "0  0008fdb22ddce0ce.jpg       2\n",
       "1  00091bffdffd83de.jpg      12\n",
       "2  00396fbc1f6cc21d.jpg       5\n",
       "3  00471f8038d9c4b6.jpg      12\n",
       "4  00901f504008d884.jpg       2"
      ]
     },
     "execution_count": 24,
     "metadata": {},
     "output_type": "execute_result"
    }
   ],
   "source": [
    "tta_pred_df.head()"
   ]
  },
  {
   "cell_type": "code",
   "execution_count": 1,
   "metadata": {},
   "outputs": [
    {
     "name": "stdout",
     "output_type": "stream",
     "text": [
      "\n",
      "============================================================\n",
      "🏁 K-FOLD 결과 상세 분석\n",
      "============================================================\n"
     ]
    },
    {
     "ename": "NameError",
     "evalue": "name 'fold_results' is not defined",
     "output_type": "error",
     "traceback": [
      "\u001b[0;31m---------------------------------------------------------------------------\u001b[0m",
      "\u001b[0;31mNameError\u001b[0m                                 Traceback (most recent call last)",
      "Cell \u001b[0;32mIn[1], line 10\u001b[0m\n\u001b[1;32m      7\u001b[0m \u001b[38;5;28mprint\u001b[39m(\u001b[38;5;124mf\u001b[39m\u001b[38;5;124m\"\u001b[39m\u001b[38;5;132;01m{\u001b[39;00m\u001b[38;5;124m'\u001b[39m\u001b[38;5;124m=\u001b[39m\u001b[38;5;124m'\u001b[39m\u001b[38;5;241m*\u001b[39m\u001b[38;5;241m60\u001b[39m\u001b[38;5;132;01m}\u001b[39;00m\u001b[38;5;124m\"\u001b[39m)\n\u001b[1;32m      9\u001b[0m \u001b[38;5;66;03m# 전체 성능 요약\u001b[39;00m\n\u001b[0;32m---> 10\u001b[0m val_f1_scores \u001b[38;5;241m=\u001b[39m [result[\u001b[38;5;124m'\u001b[39m\u001b[38;5;124mbest_val_f1\u001b[39m\u001b[38;5;124m'\u001b[39m] \u001b[38;5;28;01mfor\u001b[39;00m result \u001b[38;5;129;01min\u001b[39;00m \u001b[43mfold_results\u001b[49m]\n\u001b[1;32m     11\u001b[0m mean_f1 \u001b[38;5;241m=\u001b[39m np\u001b[38;5;241m.\u001b[39mmean(val_f1_scores)\n\u001b[1;32m     12\u001b[0m std_f1 \u001b[38;5;241m=\u001b[39m np\u001b[38;5;241m.\u001b[39mstd(val_f1_scores)\n",
      "\u001b[0;31mNameError\u001b[0m: name 'fold_results' is not defined"
     ]
    }
   ],
   "source": [
    "# =============================================================================\n",
    "# 📊 K-Fold 결과 분석 (단일 모델 버전)\n",
    "# =============================================================================\n",
    "\n",
    "print(f\"\\n{'='*60}\")\n",
    "print(\"🏁 K-FOLD 결과 상세 분석\")\n",
    "print(f\"{'='*60}\")\n",
    "\n",
    "# 전체 성능 요약\n",
    "val_f1_scores = [result['best_val_f1'] for result in fold_results]\n",
    "mean_f1 = np.mean(val_f1_scores)\n",
    "std_f1 = np.std(val_f1_scores)\n",
    "\n",
    "print(f\"\\n🤖 모델: {model_name}\")\n",
    "print(f\"📊 평균 CV F1: {mean_f1:.4f} ± {std_f1:.4f}\")\n",
    "print(f\"🏆 최고 Fold: {max(val_f1_scores):.4f}\")\n",
    "print(f\"📉 최악 Fold: {min(val_f1_scores):.4f}\")\n",
    "print(f\"📏 성능 범위: {max(val_f1_scores) - min(val_f1_scores):.4f}\")\n",
    "\n",
    "# Fold별 상세 성능\n",
    "print(f\"\\n📋 Fold별 상세 결과:\")\n",
    "print(f\"{'📁 Fold':<8} {'🎯 Val F1':<10} {'📈 Train F1':<11} {'👥 Train':<8} {'✅ Val':<7}\")\n",
    "print(\"─\" * 50)\n",
    "\n",
    "for result in fold_results:\n",
    "   print(f\"   {result['fold']:<5} \"\n",
    "         f\"   {result['best_val_f1']:<8.4f} \"\n",
    "         f\"   {result['final_train_f1']:<9.4f} \"\n",
    "         f\"   {result['train_samples']:<6} \"\n",
    "         f\"   {result['val_samples']:<5}\")\n",
    "\n",
    "# 성능 순위\n",
    "sorted_results = sorted(fold_results, key=lambda x: x['best_val_f1'], reverse=True)\n",
    "print(f\"\\n🏅 성능 순위:\")\n",
    "medals = [\"🥇\", \"🥈\", \"🥉\", \"🏅\", \"🏅\"]\n",
    "for i, result in enumerate(sorted_results):\n",
    "   medal = medals[i] if i < len(medals) else \"📍\"\n",
    "   print(f\"{medal} {i+1}위: Fold {result['fold']} - F1: {result['best_val_f1']:.4f}\")\n",
    "\n",
    "# 클래스별 성능 분석\n",
    "if fold_class_accuracies:\n",
    "   print(f\"\\n🎯 클래스별 성능 분석:\")\n",
    "   print(f\"{'📊 Class':<9} {'📈 평균':<8} {'📏 표준편차':<9} {'🏆 최고':<7} {'📉 최악':<7}\")\n",
    "   print(\"─\" * 45)\n",
    "   \n",
    "   class_performance = []\n",
    "   for class_id in range(17):\n",
    "       class_accs = []\n",
    "       for fold_acc in fold_class_accuracies:\n",
    "           if class_id in fold_acc:\n",
    "               class_accs.append(fold_acc[class_id])\n",
    "       \n",
    "       if class_accs:\n",
    "           mean_acc = np.mean(class_accs)\n",
    "           std_acc = np.std(class_accs)\n",
    "           max_acc = max(class_accs)\n",
    "           min_acc = min(class_accs)\n",
    "           \n",
    "           class_performance.append({\n",
    "               'class_id': class_id,\n",
    "               'mean_acc': mean_acc,\n",
    "               'std_acc': std_acc,\n",
    "               'max_acc': max_acc,\n",
    "               'min_acc': min_acc\n",
    "           })\n",
    "           \n",
    "           print(f\"   {class_id:<5} \"\n",
    "                 f\"   {mean_acc:<6.3f} \"\n",
    "                 f\"   {std_acc:<7.3f} \"\n",
    "                 f\"   {max_acc:<5.3f} \"\n",
    "                 f\"   {min_acc:<5.3f}\")\n",
    "   \n",
    "   # 어려운 클래스 TOP 3\n",
    "   worst_classes = sorted(class_performance, key=lambda x: x['mean_acc'])[:3]\n",
    "   print(f\"\\n🔴 가장 어려운 클래스 TOP 3:\")\n",
    "   for i, cls in enumerate(worst_classes, 1):\n",
    "       print(f\"   {i}. Class {cls['class_id']}: {cls['mean_acc']:.3f} 정확도\")\n",
    "   \n",
    "   # 쉬운 클래스 TOP 3\n",
    "   best_classes = sorted(class_performance, key=lambda x: x['mean_acc'], reverse=True)[:3]\n",
    "   print(f\"\\n🟢 가장 쉬운 클래스 TOP 3:\")\n",
    "   for i, cls in enumerate(best_classes, 1):\n",
    "       print(f\"   {i}. Class {cls['class_id']}: {cls['mean_acc']:.3f} 정확도\")\n",
    "\n",
    "# 성능 일관성 분석\n",
    "cv_coefficient = std_f1 / mean_f1 if mean_f1 > 0 else 0\n",
    "print(f\"\\n⚖️ 성능 일관성 분석:\")\n",
    "print(f\"📊 변동계수 (CV): {cv_coefficient:.3f}\")\n",
    "\n",
    "if cv_coefficient < 0.05:\n",
    "   consistency_emoji = \"🟢\"\n",
    "   consistency_text = \"매우 일관적인 성능\"\n",
    "elif cv_coefficient < 0.1:\n",
    "   consistency_emoji = \"🔵\"\n",
    "   consistency_text = \"일관적인 성능\"\n",
    "elif cv_coefficient < 0.15:\n",
    "   consistency_emoji = \"🟡\"\n",
    "   consistency_text = \"보통 수준의 일관성\"\n",
    "else:\n",
    "   consistency_emoji = \"🔴\"\n",
    "   consistency_text = \"성능 변동이 큼\"\n",
    "\n",
    "print(f\"{consistency_emoji} {consistency_text}\")\n",
    "\n",
    "# 추가 통계\n",
    "overfit_count = sum(1 for result in fold_results \n",
    "                  if result['final_train_f1'] - result['best_val_f1'] > 0.05)\n",
    "\n",
    "print(f\"\\n📈 학습 상태 분석:\")\n",
    "print(f\"🎯 과적합 의심 Fold: {overfit_count}/{len(fold_results)}개\")\n",
    "if overfit_count > 0:\n",
    "   print(f\"   💡 Train-Val F1 차이가 0.05 이상인 fold 수\")\n",
    "\n",
    "print(f\"\\n✅ 학습 완료! 총 {len(fold_results)}개 fold 모델 저장됨\")\n",
    "print(f\"📁 저장된 모델 파일:\")\n",
    "for i, result in enumerate(fold_results, 1):\n",
    "   print(f\"   📄 {result['model_path']}\")\n",
    "\n",
    "print(f\"\\n🎉 K-Fold Cross Validation 분석 완료!\")"
   ]
  },
  {
   "cell_type": "code",
   "execution_count": null,
   "metadata": {},
   "outputs": [],
   "source": []
  }
 ],
 "metadata": {
  "accelerator": "GPU",
  "colab": {
   "provenance": []
  },
  "kernelspec": {
   "display_name": "base",
   "language": "python",
   "name": "python3"
  },
  "language_info": {
   "codemirror_mode": {
    "name": "ipython",
    "version": 3
   },
   "file_extension": ".py",
   "mimetype": "text/x-python",
   "name": "python",
   "nbconvert_exporter": "python",
   "pygments_lexer": "ipython3",
   "version": "3.10.13"
  }
 },
 "nbformat": 4,
 "nbformat_minor": 0
}
