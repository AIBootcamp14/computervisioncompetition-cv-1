{
 "cells": [
  {
   "cell_type": "markdown",
   "metadata": {},
   "source": [
    "# **📄 Document Classification with Modular Architecture**\n",
    "> 모듈화 CV 경진대회 코드\n",
    "> \n",
    "> **Features**: K-Fold CV + Ensemble TTA + Professional Architecture\n",
    "\n",
    "##  Contents\n",
    "- Environment Setup & Configuration\n",
    "- K-Fold Cross Validation Training\n",
    "- Ensemble TTA Inference\n",
    "- Results & Submission"
   ]
  },
  {
   "cell_type": "markdown",
   "metadata": {},
   "source": [
    "## 1. Environment Setup"
   ]
  },
  {
   "cell_type": "code",
   "execution_count": 1,
   "metadata": {},
   "outputs": [
    {
     "name": "stdout",
     "output_type": "stream",
     "text": [
      "Starting Modular CV Competition Pipeline...\n"
     ]
    }
   ],
   "source": [
    "# 필요한 라이브러리 설치\n",
    "# !pip install timm optuna albumentations\n",
    "\n",
    "import warnings\n",
    "warnings.filterwarnings('ignore')\n",
    "\n",
    "print(\"Starting Modular CV Competition Pipeline...\")"
   ]
  },
  {
   "cell_type": "code",
   "execution_count": 2,
   "metadata": {},
   "outputs": [
    {
     "ename": "ModuleNotFoundError",
     "evalue": "No module named 'module.training.loss'",
     "output_type": "error",
     "traceback": [
      "\u001b[0;31m---------------------------------------------------------------------------\u001b[0m",
      "\u001b[0;31mModuleNotFoundError\u001b[0m                       Traceback (most recent call last)",
      "Cell \u001b[0;32mIn[2], line 4\u001b[0m\n\u001b[1;32m      1\u001b[0m \u001b[38;5;66;03m# 모듈화된 컴포넌트 임포트\u001b[39;00m\n\u001b[1;32m      2\u001b[0m \u001b[38;5;28;01mimport\u001b[39;00m \u001b[38;5;21;01mpandas\u001b[39;00m \u001b[38;5;28;01mas\u001b[39;00m \u001b[38;5;21;01mpd\u001b[39;00m\n\u001b[0;32m----> 4\u001b[0m \u001b[38;5;28;01mfrom\u001b[39;00m \u001b[38;5;21;01mmodule\u001b[39;00m\u001b[38;5;21;01m.\u001b[39;00m\u001b[38;5;21;01mconfig\u001b[39;00m \u001b[38;5;28;01mimport\u001b[39;00m Config\n\u001b[1;32m      5\u001b[0m \u001b[38;5;28;01mfrom\u001b[39;00m \u001b[38;5;21;01mmodule\u001b[39;00m\u001b[38;5;21;01m.\u001b[39;00m\u001b[38;5;21;01mutils\u001b[39;00m\u001b[38;5;21;01m.\u001b[39;00m\u001b[38;5;21;01mseed\u001b[39;00m \u001b[38;5;28;01mimport\u001b[39;00m set_seed\n\u001b[1;32m      6\u001b[0m \u001b[38;5;28;01mfrom\u001b[39;00m \u001b[38;5;21;01mmodule\u001b[39;00m\u001b[38;5;21;01m.\u001b[39;00m\u001b[38;5;21;01mexperiment\u001b[39;00m\u001b[38;5;21;01m.\u001b[39;00m\u001b[38;5;21;01mkfold\u001b[39;00m \u001b[38;5;28;01mimport\u001b[39;00m KFoldExperiment\n",
      "File \u001b[0;32m/Fastcamp/CV-Competition/dev/module/__init__.py:16\u001b[0m\n\u001b[1;32m     14\u001b[0m \u001b[38;5;28;01mfrom\u001b[39;00m \u001b[38;5;21;01m.\u001b[39;00m\u001b[38;5;21;01mconfig\u001b[39;00m \u001b[38;5;28;01mimport\u001b[39;00m Config\n\u001b[1;32m     15\u001b[0m \u001b[38;5;28;01mfrom\u001b[39;00m \u001b[38;5;21;01m.\u001b[39;00m\u001b[38;5;21;01mutils\u001b[39;00m\u001b[38;5;21;01m.\u001b[39;00m\u001b[38;5;21;01mseed\u001b[39;00m \u001b[38;5;28;01mimport\u001b[39;00m set_seed\n\u001b[0;32m---> 16\u001b[0m \u001b[38;5;28;01mfrom\u001b[39;00m \u001b[38;5;21;01m.\u001b[39;00m\u001b[38;5;21;01mexperiment\u001b[39;00m\u001b[38;5;21;01m.\u001b[39;00m\u001b[38;5;21;01mkfold\u001b[39;00m \u001b[38;5;28;01mimport\u001b[39;00m KFoldExperiment\n\u001b[1;32m     17\u001b[0m \u001b[38;5;28;01mfrom\u001b[39;00m \u001b[38;5;21;01m.\u001b[39;00m\u001b[38;5;21;01minference\u001b[39;00m\u001b[38;5;21;01m.\u001b[39;00m\u001b[38;5;21;01mtta\u001b[39;00m \u001b[38;5;28;01mimport\u001b[39;00m EnsembleTTAPredictor\n\u001b[1;32m     19\u001b[0m __all__ \u001b[38;5;241m=\u001b[39m [\n\u001b[1;32m     20\u001b[0m     \u001b[38;5;124m\"\u001b[39m\u001b[38;5;124mConfig\u001b[39m\u001b[38;5;124m\"\u001b[39m,\n\u001b[1;32m     21\u001b[0m     \u001b[38;5;124m\"\u001b[39m\u001b[38;5;124mset_seed\u001b[39m\u001b[38;5;124m\"\u001b[39m, \n\u001b[1;32m     22\u001b[0m     \u001b[38;5;124m\"\u001b[39m\u001b[38;5;124mKFoldExperiment\u001b[39m\u001b[38;5;124m\"\u001b[39m,\n\u001b[1;32m     23\u001b[0m     \u001b[38;5;124m\"\u001b[39m\u001b[38;5;124mEnsembleTTAPredictor\u001b[39m\u001b[38;5;124m\"\u001b[39m\n\u001b[1;32m     24\u001b[0m ]\n",
      "File \u001b[0;32m/Fastcamp/CV-Competition/dev/module/experiment/__init__.py:3\u001b[0m\n\u001b[1;32m      1\u001b[0m \u001b[38;5;124;03m\"\"\"Experiment 패키지 - 실험 관리\"\"\"\u001b[39;00m\n\u001b[0;32m----> 3\u001b[0m \u001b[38;5;28;01mfrom\u001b[39;00m \u001b[38;5;21;01m.\u001b[39;00m\u001b[38;5;21;01mkfold\u001b[39;00m \u001b[38;5;28;01mimport\u001b[39;00m KFoldExperiment\n\u001b[1;32m      4\u001b[0m \u001b[38;5;28;01mfrom\u001b[39;00m \u001b[38;5;21;01m.\u001b[39;00m\u001b[38;5;21;01moptuna_tuning\u001b[39;00m \u001b[38;5;28;01mimport\u001b[39;00m OptunaOptimizer\n\u001b[1;32m      6\u001b[0m __all__ \u001b[38;5;241m=\u001b[39m [\n\u001b[1;32m      7\u001b[0m     \u001b[38;5;124m\"\u001b[39m\u001b[38;5;124mKFoldExperiment\u001b[39m\u001b[38;5;124m\"\u001b[39m,\n\u001b[1;32m      8\u001b[0m     \u001b[38;5;124m\"\u001b[39m\u001b[38;5;124mOptunaOptimizer\u001b[39m\u001b[38;5;124m\"\u001b[39m\n\u001b[1;32m      9\u001b[0m ]\n",
      "File \u001b[0;32m/Fastcamp/CV-Competition/dev/module/experiment/kfold.py:21\u001b[0m\n\u001b[1;32m     19\u001b[0m \u001b[38;5;28;01mfrom\u001b[39;00m \u001b[38;5;21;01m.\u001b[39;00m\u001b[38;5;21;01m.\u001b[39;00m\u001b[38;5;21;01mdata\u001b[39;00m\u001b[38;5;21;01m.\u001b[39;00m\u001b[38;5;21;01mdataset\u001b[39;00m \u001b[38;5;28;01mimport\u001b[39;00m ImageDataset\n\u001b[1;32m     20\u001b[0m \u001b[38;5;28;01mfrom\u001b[39;00m \u001b[38;5;21;01m.\u001b[39;00m\u001b[38;5;21;01m.\u001b[39;00m\u001b[38;5;21;01mdata\u001b[39;00m\u001b[38;5;21;01m.\u001b[39;00m\u001b[38;5;21;01mtransforms\u001b[39;00m \u001b[38;5;28;01mimport\u001b[39;00m get_train_transforms, get_val_transforms\n\u001b[0;32m---> 21\u001b[0m \u001b[38;5;28;01mfrom\u001b[39;00m \u001b[38;5;21;01m.\u001b[39;00m\u001b[38;5;21;01m.\u001b[39;00m\u001b[38;5;21;01mtraining\u001b[39;00m\u001b[38;5;21;01m.\u001b[39;00m\u001b[38;5;21;01mtrainer\u001b[39;00m \u001b[38;5;28;01mimport\u001b[39;00m Trainer\n\u001b[1;32m     22\u001b[0m \u001b[38;5;28;01mfrom\u001b[39;00m \u001b[38;5;21;01m.\u001b[39;00m\u001b[38;5;21;01m.\u001b[39;00m\u001b[38;5;21;01mtraining\u001b[39;00m\u001b[38;5;21;01m.\u001b[39;00m\u001b[38;5;21;01mvalidator\u001b[39;00m \u001b[38;5;28;01mimport\u001b[39;00m Validator\n\u001b[1;32m     23\u001b[0m \u001b[38;5;28;01mfrom\u001b[39;00m \u001b[38;5;21;01m.\u001b[39;00m\u001b[38;5;21;01m.\u001b[39;00m\u001b[38;5;21;01mtraining\u001b[39;00m\u001b[38;5;21;01m.\u001b[39;00m\u001b[38;5;21;01mloss\u001b[39;00m \u001b[38;5;28;01mimport\u001b[39;00m get_loss_function\n",
      "File \u001b[0;32m/Fastcamp/CV-Competition/dev/module/training/__init__.py:5\u001b[0m\n\u001b[1;32m      3\u001b[0m \u001b[38;5;28;01mfrom\u001b[39;00m \u001b[38;5;21;01m.\u001b[39;00m\u001b[38;5;21;01mtrainer\u001b[39;00m \u001b[38;5;28;01mimport\u001b[39;00m Trainer\n\u001b[1;32m      4\u001b[0m \u001b[38;5;28;01mfrom\u001b[39;00m \u001b[38;5;21;01m.\u001b[39;00m\u001b[38;5;21;01mvalidator\u001b[39;00m \u001b[38;5;28;01mimport\u001b[39;00m Validator  \n\u001b[0;32m----> 5\u001b[0m \u001b[38;5;28;01mfrom\u001b[39;00m \u001b[38;5;21;01m.\u001b[39;00m\u001b[38;5;21;01mloss\u001b[39;00m \u001b[38;5;28;01mimport\u001b[39;00m get_loss_function, MixupLoss, LabelSmoothingCrossEntropy\n\u001b[1;32m      6\u001b[0m \u001b[38;5;28;01mfrom\u001b[39;00m \u001b[38;5;21;01m.\u001b[39;00m\u001b[38;5;21;01mscheduler\u001b[39;00m \u001b[38;5;28;01mimport\u001b[39;00m get_scheduler\n\u001b[1;32m      8\u001b[0m __all__ \u001b[38;5;241m=\u001b[39m [\n\u001b[1;32m      9\u001b[0m     \u001b[38;5;124m\"\u001b[39m\u001b[38;5;124mTrainer\u001b[39m\u001b[38;5;124m\"\u001b[39m,\n\u001b[1;32m     10\u001b[0m     \u001b[38;5;124m\"\u001b[39m\u001b[38;5;124mValidator\u001b[39m\u001b[38;5;124m\"\u001b[39m,\n\u001b[0;32m   (...)\u001b[0m\n\u001b[1;32m     14\u001b[0m     \u001b[38;5;124m\"\u001b[39m\u001b[38;5;124mget_scheduler\u001b[39m\u001b[38;5;124m\"\u001b[39m\n\u001b[1;32m     15\u001b[0m ]\n",
      "\u001b[0;31mModuleNotFoundError\u001b[0m: No module named 'module.training.loss'"
     ]
    }
   ],
   "source": [
    "# 모듈화된 컴포넌트 임포트\n",
    "import pandas as pd\n",
    "\n",
    "from module.config import Config\n",
    "from module.utils.seed import set_seed\n",
    "from module.experiment.kfold import KFoldExperiment\n",
    "from module.inference.tta import EnsembleTTAPredictor\n",
    "from module.data.dataset import ImageDataset\n",
    "from module.data.transforms import get_train_transforms, get_test_transforms\n",
    "\n",
    "print(\"All modules imported successfully\")"
   ]
  },
  {
   "cell_type": "markdown",
   "metadata": {},
   "source": [
    "## 2. Configuration Setup"
   ]
  },
  {
   "cell_type": "code",
   "execution_count": null,
   "metadata": {},
   "outputs": [],
   "source": [
    "# 설정 초기화\n",
    "config = Config()\n",
    "\n",
    "# 경로 설정 (필요시 수정)\n",
    "config.data_path = \"../data/\"\n",
    "config.train_path = \"../data/train/\"\n",
    "config.test_path = \"../data/test/\"\n",
    "config.output_path = \"../output/\"\n",
    "\n",
    "# 모델 및 학습 설정\n",
    "config.model_name = 'efficientnet_b3'\n",
    "config.img_size = 384\n",
    "config.batch_size = 32\n",
    "config.epochs = 10\n",
    "config.learning_rate = 5e-4\n",
    "config.n_folds = 5\n",
    "\n",
    "# 시드 고정으로 재현성 보장\n",
    "set_seed(config.seed)\n",
    "\n",
    "print(f\"  Configuration completed\")\n",
    "print(f\"   - Model: {config.model_name}\")\n",
    "print(f\"   - Image Size: {config.img_size}\")\n",
    "print(f\"   - Batch Size: {config.batch_size}\")\n",
    "print(f\"   - Epochs: {config.epochs}\")\n",
    "print(f\"   - K-Folds: {config.n_folds}\")\n",
    "print(f\"   - Device: {config.device}\")"
   ]
  },
  {
   "cell_type": "markdown",
   "metadata": {},
   "source": [
    "## 3. Data Loading"
   ]
  },
  {
   "cell_type": "code",
   "execution_count": null,
   "metadata": {},
   "outputs": [],
   "source": [
    "# 훈련 데이터 로드\n",
    "train_df = pd.read_csv(config.get_train_csv_path())\n",
    "\n",
    "print(f\" Dataset Info:\")\n",
    "print(f\"   - Train samples: {len(train_df)}\")\n",
    "print(f\"   - Classes: {config.num_classes}\")\n",
    "print(f\"   - Class distribution:\")\n",
    "print(train_df['target'].value_counts().sort_index().to_string())"
   ]
  },
  {
   "cell_type": "markdown",
   "metadata": {},
   "source": [
    "## 4. K-Fold Cross Validation Training"
   ]
  },
  {
   "cell_type": "code",
   "execution_count": null,
   "metadata": {},
   "outputs": [],
   "source": [
    "# K-Fold 실험 초기화\n",
    "experiment = KFoldExperiment(config)\n",
    "\n",
    "# 교차 검증 실행\n",
    "print(\" Starting K-Fold Cross Validation Training...\")\n",
    "cv_results = experiment.run_cross_validation(train_df)\n",
    "\n",
    "# 결과 저장\n",
    "experiment.save_experiment_results(cv_results)\n",
    "\n",
    "print(f\"\\n Final CV Results:\")\n",
    "print(f\"   - Mean F1: {cv_results['mean_f1']:.4f} ± {cv_results['std_f1']:.4f}\")\n",
    "print(f\"   - Best Fold: {cv_results['best_fold']} (F1: {cv_results['max_f1']:.4f})\")\n",
    "print(f\"   - Models saved: {len(experiment.fold_models)}\")"
   ]
  },
  {
   "cell_type": "markdown",
   "metadata": {},
   "source": [
    "## 5. Test Data Loading"
   ]
  },
  {
   "cell_type": "code",
   "execution_count": null,
   "metadata": {},
   "outputs": [],
   "source": [
    "# 테스트 데이터 로드\n",
    "test_df = pd.read_csv(config.get_test_csv_path())\n",
    "\n",
    "# 테스트 데이터셋 생성\n",
    "test_dataset = ImageDataset(\n",
    "    image_paths=[f\"{config.test_path}{img_id}\" for img_id in test_df['ID']],\n",
    "    targets=[0] * len(test_df),  # 테스트 데이터는 레이블이 없음\n",
    "    transform=get_val_transforms(config)\n",
    ")\n",
    "\n",
    "from torch.utils.data import DataLoader\n",
    "test_loader = DataLoader(\n",
    "    test_dataset,\n",
    "    batch_size=config.tta_batch_size,\n",
    "    shuffle=False,\n",
    "    num_workers=config.num_workers,\n",
    "    pin_memory=True\n",
    ")\n",
    "\n",
    "print(f\" Test Data Loaded:\")\n",
    "print(f\"   - Test samples: {len(test_dataset)}\")\n",
    "print(f\"   - Batch size: {config.tta_batch_size}\")"
   ]
  },
  {
   "cell_type": "markdown",
   "metadata": {},
   "source": [
    "## 6. Ensemble TTA Inference"
   ]
  },
  {
   "cell_type": "code",
   "execution_count": null,
   "metadata": {},
   "outputs": [],
   "source": [
    "# 앙상블 TTA 예측기 초기화\n",
    "ensemble_predictor = EnsembleTTAPredictor(\n",
    "    models=experiment.fold_models,\n",
    "    config=config\n",
    ")\n",
    "\n",
    "# 앙상블 TTA 추론 실행\n",
    "print(\" Starting Ensemble TTA Inference...\")\n",
    "ensemble_probs = ensemble_predictor.predict_ensemble_tta(\n",
    "    test_loader,\n",
    "    use_adaptive_tta=True,\n",
    "    show_progress=True\n",
    ")\n",
    "\n",
    "# 최종 예측 생성\n",
    "import numpy as np\n",
    "final_predictions = np.argmax(ensemble_probs, axis=1)\n",
    "\n",
    "print(f\"\\n Inference Completed:\")\n",
    "print(f\"   - Total predictions: {len(final_predictions)}\")\n",
    "print(f\"   - Models used: {len(experiment.fold_models)}\")\n",
    "print(f\"   - TTA transforms: {len(ensemble_predictor.tta_predictors[0].tta_transforms)}\")"
   ]
  },
  {
   "cell_type": "markdown",
   "metadata": {},
   "source": [
    "## 7. Results & Submission"
   ]
  },
  {
   "cell_type": "code",
   "execution_count": null,
   "metadata": {},
   "outputs": [],
   "source": [
    "# 제출 파일 생성\n",
    "submission_df = pd.DataFrame({\n",
    "    'ID': test_df['ID'],\n",
    "    'target': final_predictions.astype(int)\n",
    "})\n",
    "\n",
    "# 결과 저장\n",
    "submission_path = config.get_output_csv_path()\n",
    "submission_df.to_csv(submission_path, index=False)\n",
    "\n",
    "print(f\" Submission saved: {submission_path}\")\n",
    "print(f\"\\n Prediction Summary:\")\n",
    "print(f\"   - Total samples: {len(submission_df)}\")\n",
    "print(f\"   - Unique classes predicted: {len(np.unique(final_predictions))}\")\n",
    "print(f\"\\n Class Distribution:\")\n",
    "print(submission_df['target'].value_counts().sort_index().to_string())\n",
    "\n",
    "# 샘플 출력\n",
    "print(f\"\\n Sample Predictions:\")\n",
    "display(submission_df.head(10))"
   ]
  },
  {
   "cell_type": "markdown",
   "metadata": {},
   "source": [
    "## 8. Performance Summary"
   ]
  },
  {
   "cell_type": "code",
   "execution_count": null,
   "metadata": {},
   "outputs": [],
   "source": [
    "# 최종 성능 요약\n",
    "print(f\"\\n{'='*60}\")\n",
    "print(f\" MODULAR CV PIPELINE COMPLETED\")\n",
    "print(f\"{'='*60}\")\n",
    "\n",
    "print(f\" Cross Validation Results:\")\n",
    "for i, result in enumerate(experiment.fold_results):\n",
    "    print(f\"   Fold {i+1}: F1 = {result['best_val_f1']:.4f}\")\n",
    "\n",
    "print(f\"\\n Final Performance:\")\n",
    "print(f\"   - CV Mean F1: {cv_results['mean_f1']:.4f} ± {cv_results['std_f1']:.4f}\")\n",
    "print(f\"   - Expected Public Score: ~{cv_results['mean_f1']*0.85:.4f} (conservative estimate)\")\n",
    "\n",
    "print(f\"\\n Technical Highlights:\")\n",
    "print(f\"   - Modular Architecture: ✅\")\n",
    "print(f\"   - K-Fold Cross Validation: ✅\")\n",
    "print(f\"   - Ensemble TTA: ✅\")\n",
    "print(f\"   - Document-Specific Augmentation: ✅\")\n",
    "print(f\"   - Mixed Precision Training: ✅\")\n",
    "print(f\"   - Reproducible Results: ✅\")\n",
    "\n",
    "print(f\"\\n Ready for submission: {submission_path}\")"
   ]
  }
 ],
 "metadata": {
  "kernelspec": {
   "display_name": "base",
   "language": "python",
   "name": "python3"
  },
  "language_info": {
   "codemirror_mode": {
    "name": "ipython",
    "version": 3
   },
   "file_extension": ".py",
   "mimetype": "text/x-python",
   "name": "python",
   "nbconvert_exporter": "python",
   "pygments_lexer": "ipython3",
   "version": "3.10.13"
  }
 },
 "nbformat": 4,
 "nbformat_minor": 0
}
