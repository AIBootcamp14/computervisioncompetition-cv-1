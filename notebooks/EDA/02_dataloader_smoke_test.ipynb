{
 "cells": [
  {
   "cell_type": "markdown",
   "id": "737fb7ad",
   "metadata": {},
   "source": [
    "# DataLoader 스모크 & 처리량 측정"
   ]
  },
  {
   "cell_type": "code",
   "execution_count": 1,
   "id": "58d7f07d",
   "metadata": {},
   "outputs": [
    {
     "name": "stdout",
     "output_type": "stream",
     "text": [
      "현재 작업 디렉토리: /home/ieyeppo/AI_Lab/computer-vision-competition-1SEN/notebooks/EDA\n",
      "변경 후 작업 디렉토리: /home/ieyeppo/AI_Lab/computer-vision-competition-1SEN\n"
     ]
    }
   ],
   "source": [
    "import os\n",
    "\n",
    "# 현재 작업 디렉토리 확인\n",
    "print(\"현재 작업 디렉토리:\", os.getcwd())\n",
    "\n",
    "# 노트북이 위치한 디렉토리에서 프로젝트 루트 디렉토리로 이동\n",
    "# 'notebooks/EDA' 에서 'AI_Lab/computer-vision-competition-1SEN' 으로 이동\n",
    "os.chdir(\"../../\") \n",
    "\n",
    "# 작업 디렉토리 변경 후 다시 확인\n",
    "print(\"변경 후 작업 디렉토리:\", os.getcwd())"
   ]
  },
  {
   "cell_type": "code",
   "execution_count": 3,
   "id": "071afda5",
   "metadata": {},
   "outputs": [
    {
     "name": "stdout",
     "output_type": "stream",
     "text": [
      "imgs/sec ≈ 35.64\n"
     ]
    }
   ],
   "source": [
    "import time, torch                                   # 시간 측정, PyTorch\n",
    "import json                                          # JSON 파일 처리\n",
    "from torch.utils.data import DataLoader              # 데이터 배치 로더\n",
    "from src.data.dataset import DocTypeDataset          # 커스텀 데이터셋 클래스\n",
    "from src.data.transforms import get_train_transforms # 학습용 변환 함수\n",
    "\n",
    "CFG = json.load(open(\"configs/data_config.json\"))    # 데이터 설정 JSON 로드\n",
    "\n",
    "# 학습 데이터셋 인스턴스 생성\n",
    "ds = DocTypeDataset(\n",
    "    CFG[\"paths\"][\"train_csv\"],                       # 학습 CSV 경로\n",
    "    CFG[\"paths\"][\"train_root\"],                      # 학습 이미지 루트\n",
    "    mode=\"train\",                                    # 모드(train)\n",
    "    transform=get_train_transforms(                  # 학습용 변환\n",
    "        CFG[\"loader\"][\"img_size\"],                   # 이미지 크기\n",
    "        CFG[\"augs\"]                                  # 증강 설정\n",
    "    )\n",
    ")\n",
    "\n",
    "# DataLoader 인스턴스 생성\n",
    "dl = DataLoader(\n",
    "    ds,                                              # 데이터셋 객체\n",
    "    batch_size=CFG[\"loader\"][\"batch_size\"],          # 배치 크기\n",
    "    shuffle=True,                                    # 데이터 셔플\n",
    "    num_workers=CFG[\"loader\"][\"num_workers\"],        # 워커 수\n",
    "    pin_memory=CFG[\"loader\"][\"pin_memory\"],          # 핀 메모리 사용\n",
    "    prefetch_factor=CFG[\"loader\"][\"prefetch_factor\"],# 프리페치 배치 수\n",
    "    persistent_workers=CFG[\"loader\"][\"persistent_workers\"]  # 워커 유지 여부\n",
    ")\n",
    "\n",
    "# 100배치 처리 속도 측정\n",
    "start = time.time()                                  # 시작 시각 기록\n",
    "n = 0                                                # 처리된 이미지 수 카운터\n",
    "# DataLoader 순회\n",
    "for i, (x, y) in enumerate(dl):\n",
    "    n += len(x)                                      # 배치 내 이미지 개수 누적\n",
    "    # 100배치 이상 처리 시 종료\n",
    "    if i >= 100:\n",
    "        break\n",
    "\n",
    "elapsed = time.time() - start                        # 경과 시간 계산\n",
    "print(f\"imgs/sec ≈ {n/elapsed:.2f}\")                 # 초당 처리 이미지 수 출력"
   ]
  }
 ],
 "metadata": {
  "kernelspec": {
   "display_name": "cv_py3_11_9",
   "language": "python",
   "name": "python3"
  },
  "language_info": {
   "codemirror_mode": {
    "name": "ipython",
    "version": 3
   },
   "file_extension": ".py",
   "mimetype": "text/x-python",
   "name": "python",
   "nbconvert_exporter": "python",
   "pygments_lexer": "ipython3",
   "version": "3.11.9"
  }
 },
 "nbformat": 4,
 "nbformat_minor": 5
}
