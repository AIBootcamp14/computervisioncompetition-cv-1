{
 "cells": [
  {
   "cell_type": "markdown",
   "id": "e9ff45f7",
   "metadata": {},
   "source": [
    "# 버전/파라미터/산출물 링크 정리"
   ]
  },
  {
   "cell_type": "code",
   "execution_count": null,
   "id": "4152dec1",
   "metadata": {},
   "outputs": [],
   "source": []
  }
 ],
 "metadata": {
  "kernelspec": {
   "display_name": "cv_py3_11_9",
   "language": "python",
   "name": "python3"
  },
  "language_info": {
   "name": "python",
   "version": "3.11.9"
  }
 },
 "nbformat": 4,
 "nbformat_minor": 5
}
