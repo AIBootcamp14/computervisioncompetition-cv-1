{
 "cells": [
  {
   "cell_type": "markdown",
   "id": "6d3c39fb",
   "metadata": {},
   "source": [
    "# 📊 Submission Results Comparison\n",
    "\n",
    "**목적**: submissions 폴더의 각 날짜별 CSV 결과 파일들을 비교 분석합니다.\n",
    "\n",
    "## 📋 분석 내용\n",
    "1. **파일 개요**: 각 날짜별 제출 파일 현황\n",
    "2. **예측 분포**: 클래스별 예측 분포 비교\n",
    "3. **예측 차이**: 모델간 예측 결과 차이점 분석\n",
    "4. **성능 추정**: 예측 신뢰도 및 일관성 평가\n",
    "5. **시각화**: 인터랙티브 차트로 결과 비교"
   ]
  },
  {
   "cell_type": "code",
   "execution_count": 1,
   "id": "3ae9245b",
   "metadata": {},
   "outputs": [
    {
     "name": "stdout",
     "output_type": "stream",
     "text": [
      "현재 작업 디렉토리: /home/ieyeppo/AI_Lab/computer-vision-competition-1SEN\n"
     ]
    }
   ],
   "source": [
    "# [1] 프로젝트 루트 디렉토리로 이동\n",
    "import os                                                   # OS 모듈 임포트\n",
    "import sys                                                  # 시스템 모듈 임포트\n",
    "os.chdir(\"../../../\")                                       # 프로젝트 루트로 이동\n",
    "print(\"현재 작업 디렉토리:\", os.getcwd())                      # 현재 디렉토리 출력"
   ]
  },
  {
   "cell_type": "code",
   "execution_count": 2,
   "id": "0c792776",
   "metadata": {},
   "outputs": [
    {
     "name": "stdout",
     "output_type": "stream",
     "text": [
      "✅ 나눔고딕 폰트 로드 성공\n"
     ]
    }
   ],
   "source": [
    "# [2] 폰트 설정 및 경고 억제\n",
    "# 경고 억제 설정\n",
    "import warnings\n",
    "warnings.filterwarnings('ignore')\n",
    "\n",
    "# 한글 폰트 적용 및 시각화 환경 설정\n",
    "import matplotlib.pyplot as plt\n",
    "import matplotlib.font_manager as fm\n",
    "\n",
    "# 나눔고딕 폰트 경로 및 설정\n",
    "font_path = './font/NanumGothic.ttf'\n",
    "fontprop = fm.FontProperties(fname=font_path)\n",
    "\n",
    "# 폰트 등록 및 설정 (한글 텍스트 표시를 위함)\n",
    "fe = fm.FontEntry(fname=font_path, name='NanumGothic')\n",
    "fm.fontManager.ttflist.insert(0, fe)\n",
    "plt.rcParams['font.family'] = 'NanumGothic'      # 기본 폰트를 나눔고딕으로 설정\n",
    "plt.rcParams['font.size'] = 10                   # 기본 글자 크기 설정\n",
    "plt.rcParams['axes.unicode_minus'] = False       # 마이너스 기호 깨짐 방지\n",
    "\n",
    "# 글자 겹침 방지를 위한 레이아웃 설정\n",
    "plt.rcParams['figure.autolayout'] = True         # 자동 레이아웃 조정\n",
    "plt.rcParams['axes.titlepad'] = 20               # 제목과 축 사이 여백\n",
    "\n",
    "# 폰트 로드 확인\n",
    "try:\n",
    "    test_font = fm.FontProperties(fname=font_path)\n",
    "    print(\"✅ 나눔고딕 폰트 로드 성공\")\n",
    "except Exception as e:\n",
    "    print(f\"❌ 폰트 로드 실패: {e}\")"
   ]
  },
  {
   "cell_type": "code",
   "execution_count": 3,
   "id": "64d71880",
   "metadata": {},
   "outputs": [
    {
     "name": "stdout",
     "output_type": "stream",
     "text": [
      "✅ 라이브러리 로드 완료!\n"
     ]
    }
   ],
   "source": [
    "# [3] 필수 라이브러리 임포트 및 설정\n",
    "# 데이터 처리 라이브러리\n",
    "import pandas as pd                               # 데이터프레임 처리\n",
    "import numpy as np                                # 수치 연산\n",
    "\n",
    "# 시각화 라이브러리\n",
    "import matplotlib.pyplot as plt                   # 정적 차트 생성\n",
    "import seaborn as sns                             # 통계 시각화\n",
    "import plotly.express as px                       # 인터랙티브 차트\n",
    "import plotly.graph_objects as go                 # plotly 그래프 객체\n",
    "from plotly.subplots import make_subplots         # 서브플롯 생성\n",
    "\n",
    "# 시스템 및 파일 처리\n",
    "import os                                         # 운영체제 인터페이스\n",
    "from pathlib import Path                          # 경로 처리\n",
    "from datetime import datetime                     # 날짜/시간 처리\n",
    "\n",
    "# 프로젝트 로깅 시스템\n",
    "from src.logging.notebook_logger import NotebookLogger, create_notebook_logger\n",
    "\n",
    "# 시각화 스타일 설정\n",
    "sns.set_style(\"whitegrid\")                        # seaborn 스타일 설정\n",
    "plt.style.use('seaborn-v0_8')                     # matplotlib 스타일 설정\n",
    "\n",
    "print(\"✅ 라이브러리 로드 완료!\")"
   ]
  },
  {
   "cell_type": "code",
   "execution_count": 1,
   "id": "f92a459a",
   "metadata": {},
   "outputs": [
    {
     "ename": "NameError",
     "evalue": "name 'create_notebook_logger' is not defined",
     "output_type": "error",
     "traceback": [
      "\u001b[0;31m---------------------------------------------------------------------------\u001b[0m",
      "\u001b[0;31mNameError\u001b[0m                                 Traceback (most recent call last)",
      "Cell \u001b[0;32mIn[1], line 8\u001b[0m\n\u001b[1;32m      5\u001b[0m folder_name \u001b[38;5;241m=\u001b[39m \u001b[38;5;124m\"\u001b[39m\u001b[38;5;124mresults_comparison\u001b[39m\u001b[38;5;124m\"\u001b[39m                  \u001b[38;5;66;03m# 결과 저장 폴더명\u001b[39;00m\n\u001b[1;32m      7\u001b[0m \u001b[38;5;66;03m# NotebookLogger 인스턴스 생성\u001b[39;00m\n\u001b[0;32m----> 8\u001b[0m logger \u001b[38;5;241m=\u001b[39m \u001b[43mcreate_notebook_logger\u001b[49m(\n\u001b[1;32m      9\u001b[0m     base_log_dir\u001b[38;5;241m=\u001b[39m\u001b[38;5;124m\"\u001b[39m\u001b[38;5;124mmodular\u001b[39m\u001b[38;5;124m\"\u001b[39m,                         \u001b[38;5;66;03m# notebooks 폴더 내 기본 저장 경로\u001b[39;00m\n\u001b[1;32m     10\u001b[0m     folder_name\u001b[38;5;241m=\u001b[39m\u001b[38;5;124m\"\u001b[39m\u001b[38;5;124mresults_comparison\u001b[39m\u001b[38;5;124m\"\u001b[39m,               \u001b[38;5;66;03m# results_comparison 폴더 지정\u001b[39;00m\n\u001b[1;32m     11\u001b[0m     file_name\u001b[38;5;241m=\u001b[39mfile_name                             \u001b[38;5;66;03m# 파일명으로 폴더 생성됨\u001b[39;00m\n\u001b[1;32m     12\u001b[0m )\n\u001b[1;32m     14\u001b[0m \u001b[38;5;28mprint\u001b[39m(\u001b[38;5;124mf\u001b[39m\u001b[38;5;124m\"\u001b[39m\u001b[38;5;124m📁 결과 저장 경로: \u001b[39m\u001b[38;5;132;01m{\u001b[39;00mlogger\u001b[38;5;241m.\u001b[39mlog_dir\u001b[38;5;132;01m}\u001b[39;00m\u001b[38;5;124m\"\u001b[39m)\n\u001b[1;32m     15\u001b[0m \u001b[38;5;28mprint\u001b[39m(\u001b[38;5;124mf\u001b[39m\u001b[38;5;124m\"\u001b[39m\u001b[38;5;124m🕐 실행 시간: \u001b[39m\u001b[38;5;132;01m{\u001b[39;00mlogger\u001b[38;5;241m.\u001b[39mtimestamp\u001b[38;5;132;01m}\u001b[39;00m\u001b[38;5;124m\"\u001b[39m)\n",
      "\u001b[0;31mNameError\u001b[0m: name 'create_notebook_logger' is not defined"
     ]
    }
   ],
   "source": [
    "# [4] 결과 저장을 위한 로깅 시스템 초기화\n",
    "# 노트북 실행 결과를 체계적으로 저장하기 위한 로거 설정\n",
    "file_name = \"submission_results_date_comparison\"    # 현재 노트북 파일명\n",
    "base_log_dir = \"modular\"                            # notebooks 폴더 내 기본 저장 경로\n",
    "folder_name = \"results_comparison\"                  # 결과 저장 폴더명\n",
    "\n",
    "# NotebookLogger 인스턴스 생성\n",
    "logger = create_notebook_logger(\n",
    "    base_log_dir=\"modular\",                         # notebooks 폴더 내 기본 저장 경로\n",
    "    folder_name=\"results_comparison\",               # results_comparison 폴더 지정\n",
    "    file_name=file_name                             # 파일명으로 폴더 생성됨\n",
    ")\n",
    "\n",
    "print(f\"📁 결과 저장 경로: {logger.log_dir}\")\n",
    "print(f\"🕐 실행 시간: {logger.timestamp}\")\n",
    "print(\"✅ 로깅 시스템 초기화 완료!\")"
   ]
  },
  {
   "cell_type": "code",
   "execution_count": 5,
   "id": "d50a3a67",
   "metadata": {},
   "outputs": [
    {
     "name": "stdout",
     "output_type": "stream",
     "text": [
      "📂 Submissions 디렉토리: submissions\n",
      "📅 20250903: 1개 파일 발견\n",
      "   - baseline_code_pred.csv\n",
      "📅 20250904: 1개 파일 발견\n",
      "   - infer.csv\n",
      "📅 20250905: 2개 파일 발견\n",
      "   - swin-sighperf_ensemble_20250905_1522.csv\n",
      "   - efficientnet_b3_ensemble_20250905_1345.csv\n",
      "📅 20250906: 2개 파일 발견\n",
      "   - swin-sighperf_ensemble_20250906_2213.csv\n",
      "   - efficientnet_b3_ensemble_20250906_2157.csv\n",
      "📅 20250907: 2개 파일 발견\n",
      "   - swin-sighperf_ensemble_20250907_0035.csv\n",
      "   - efficientnet_b3_ensemble_20250907_0016.csv\n",
      "\n",
      "🎯 총 5개 날짜, 8개 파일 발견\n"
     ]
    }
   ],
   "source": [
    "# [5] Submission 파일 탐색 및 수집\n",
    "# submissions 폴더에서 날짜별로 구조화된 CSV 파일들을 탐색\n",
    "submissions_dir = Path(\"./submissions\")\n",
    "print(f'📂 Submissions 디렉토리: {submissions_dir}')\n",
    "\n",
    "# 날짜별 submission 파일 매핑 딕셔너리\n",
    "submission_files = {}\n",
    "\n",
    "# submissions 폴더 내 모든 하위 디렉토리 탐색\n",
    "for date_dir in sorted(submissions_dir.iterdir()):\n",
    "    # 8자리 숫자로 구성된 날짜 폴더만 처리 (YYYYMMDD 형식)\n",
    "    if date_dir.is_dir() and date_dir.name.isdigit() and len(date_dir.name) == 8:\n",
    "        date = date_dir.name\n",
    "        csv_files = list(date_dir.glob(\"*.csv\"))  # 해당 날짜 폴더의 모든 CSV 파일\n",
    "        \n",
    "        if csv_files:\n",
    "            submission_files[date] = csv_files\n",
    "            print(f\"📅 {date}: {len(csv_files)}개 파일 발견\")\n",
    "            for file in csv_files:\n",
    "                print(f\"   - {file.name}\")\n",
    "\n",
    "print(f\"\\n🎯 총 {len(submission_files)}개 날짜, {sum(len(files) for files in submission_files.values())}개 파일 발견\")"
   ]
  },
  {
   "cell_type": "code",
   "execution_count": 6,
   "id": "d13ddffa",
   "metadata": {},
   "outputs": [
    {
     "name": "stdout",
     "output_type": "stream",
     "text": [
      "✅ 20250903/baseline_code_pred: 3140개 샘플 로드 완료\n",
      "✅ 20250904/infer: 3140개 샘플 로드 완료\n",
      "✅ 20250905/swin-sighperf_ensemble_20250905_1522: 3140개 샘플 로드 완료\n",
      "✅ 20250905/efficientnet_b3_ensemble_20250905_1345: 3140개 샘플 로드 완료\n",
      "✅ 20250906/swin-sighperf_ensemble_20250906_2213: 3140개 샘플 로드 완료\n",
      "✅ 20250906/efficientnet_b3_ensemble_20250906_2157: 3140개 샘플 로드 완료\n",
      "✅ 20250907/swin-sighperf_ensemble_20250907_0035: 3140개 샘플 로드 완료\n",
      "✅ 20250907/efficientnet_b3_ensemble_20250907_0016: 3140개 샘플 로드 완료\n",
      "\n",
      "📊 데이터 로드 완료!\n"
     ]
    }
   ],
   "source": [
    "# [6] Submission 데이터 로드 및 모델 정보 추출\n",
    "# 발견된 모든 CSV 파일을 로드하고 모델 정보를 추출하여 구조화\n",
    "submission_data = {}\n",
    "\n",
    "for date, files in submission_files.items():\n",
    "    submission_data[date] = {}\n",
    "    \n",
    "    for file_path in files:\n",
    "        try:\n",
    "            # CSV 파일 로드\n",
    "            df = pd.read_csv(file_path)\n",
    "            \n",
    "            # 파일명에서 모델 타입 자동 추출\n",
    "            model_name = file_path.stem\n",
    "            if \"efficientnet\" in model_name.lower():\n",
    "                model_type = \"EfficientNet\"\n",
    "            elif \"swin\" in model_name.lower():\n",
    "                model_type = \"Swin\"\n",
    "            else:\n",
    "                model_type = \"Unknown\"\n",
    "            \n",
    "            # 데이터와 메타정보를 함께 저장\n",
    "            submission_data[date][model_name] = {\n",
    "                'data': df,                    # 실제 예측 데이터\n",
    "                'model_type': model_type,      # 모델 타입 분류\n",
    "                'file_path': str(file_path)    # 원본 파일 경로\n",
    "            }\n",
    "            \n",
    "            print(f\"✅ {date}/{model_name}: {len(df)}개 샘플 로드 완료\")\n",
    "            \n",
    "        except Exception as e:\n",
    "            print(f\"❌ {file_path} 로드 실패: {e}\")\n",
    "\n",
    "print(\"\\n📊 데이터 로드 완료!\")"
   ]
  },
  {
   "cell_type": "code",
   "execution_count": 7,
   "id": "f10eb784",
   "metadata": {},
   "outputs": [
    {
     "name": "stdout",
     "output_type": "stream",
     "text": [
      "📋 Submission Files Overview\n",
      "================================================================================\n",
      "\n",
      "📅 20250903\n",
      "----------------------------------------\n",
      "🤖 baseline_code_pred (Unknown)\n",
      "   - 샘플 수: 3,140\n",
      "   - 컬럼: ['ID', 'target']\n",
      "   - 예측 클래스 수: 15\n",
      "   - 클래스 분포 (상위3): {9: np.int64(709), 16: np.int64(421), 0: np.int64(313)}\n",
      "\n",
      "📅 20250904\n",
      "----------------------------------------\n",
      "🤖 infer (Unknown)\n",
      "   - 샘플 수: 3,140\n",
      "   - 컬럼: ['ID', 'target']\n",
      "   - 예측 클래스 수: 17\n",
      "   - 클래스 분포 (상위3): {6: np.int64(620), 13: np.int64(242), 10: np.int64(227)}\n",
      "\n",
      "📅 20250905\n",
      "----------------------------------------\n",
      "🤖 swin-sighperf_ensemble_20250905_1522 (Swin)\n",
      "   - 샘플 수: 3,140\n",
      "   - 컬럼: ['ID', 'target']\n",
      "   - 예측 클래스 수: 17\n",
      "   - 클래스 분포 (상위3): {7: np.int64(219), 4: np.int64(214), 6: np.int64(207)}\n",
      "🤖 efficientnet_b3_ensemble_20250905_1345 (EfficientNet)\n",
      "   - 샘플 수: 3,140\n",
      "   - 컬럼: ['ID', 'target']\n",
      "   - 예측 클래스 수: 17\n",
      "   - 클래스 분포 (상위3): {10: np.int64(238), 4: np.int64(233), 6: np.int64(205)}\n",
      "\n",
      "📅 20250906\n",
      "----------------------------------------\n",
      "🤖 swin-sighperf_ensemble_20250906_2213 (Swin)\n",
      "   - 샘플 수: 3,140\n",
      "   - 컬럼: ['ID', 'target']\n",
      "   - 예측 클래스 수: 17\n",
      "   - 클래스 분포 (상위3): {7: np.int64(219), 4: np.int64(214), 6: np.int64(207)}\n",
      "🤖 efficientnet_b3_ensemble_20250906_2157 (EfficientNet)\n",
      "   - 샘플 수: 3,140\n",
      "   - 컬럼: ['ID', 'target']\n",
      "   - 예측 클래스 수: 17\n",
      "   - 클래스 분포 (상위3): {10: np.int64(238), 4: np.int64(233), 6: np.int64(205)}\n",
      "\n",
      "📅 20250907\n",
      "----------------------------------------\n",
      "🤖 swin-sighperf_ensemble_20250907_0035 (Swin)\n",
      "   - 샘플 수: 3,140\n",
      "   - 컬럼: ['ID', 'target']\n",
      "   - 예측 클래스 수: 17\n",
      "   - 클래스 분포 (상위3): {7: np.int64(219), 4: np.int64(214), 6: np.int64(207)}\n",
      "🤖 efficientnet_b3_ensemble_20250907_0016 (EfficientNet)\n",
      "   - 샘플 수: 3,140\n",
      "   - 컬럼: ['ID', 'target']\n",
      "   - 예측 클래스 수: 17\n",
      "   - 클래스 분포 (상위3): {10: np.int64(238), 4: np.int64(233), 6: np.int64(205)}\n"
     ]
    }
   ],
   "source": [
    "# [7] 로드된 데이터 기본 정보 출력 및 검증\n",
    "# 각 날짜별, 모델별 데이터의 기본 구조와 통계 정보 출력\n",
    "print(\"📋 Submission Files Overview\")\n",
    "print(\"=\" * 80)\n",
    "\n",
    "for date in sorted(submission_data.keys()):\n",
    "    print(f\"\\n📅 {date}\")\n",
    "    print(\"-\" * 40)\n",
    "    \n",
    "    for model_name, info in submission_data[date].items():\n",
    "        df = info['data']                     # 예측 데이터\n",
    "        model_type = info['model_type']       # 모델 타입\n",
    "        \n",
    "        print(f\"🤖 {model_name} ({model_type})\")\n",
    "        print(f\"   - 샘플 수: {len(df):,}\")\n",
    "        print(f\"   - 컬럼: {list(df.columns)}\")\n",
    "        \n",
    "        # target 컬럼이 있는 경우 예측 분포 정보도 출력\n",
    "        if 'target' in df.columns:\n",
    "            unique_classes = df['target'].nunique()\n",
    "            print(f\"   - 예측 클래스 수: {unique_classes}\")\n",
    "            print(f\"   - 클래스 분포 (상위3): {dict(df['target'].value_counts().head(3))}\")"
   ]
  },
  {
   "cell_type": "code",
   "execution_count": 8,
   "id": "24908e51",
   "metadata": {},
   "outputs": [
    {
     "data": {
      "application/vnd.plotly.v1+json": {
       "config": {
        "plotlyServerURL": "https://plot.ly"
       },
       "data": [
        {
         "marker": {
          "color": "#FF6B6B"
         },
         "name": "Unknown",
         "showlegend": true,
         "type": "bar",
         "x": {
          "bdata": "AAIDBAUGBwgJCgsMDQ8Q",
          "dtype": "i1"
         },
         "xaxis": "x",
         "y": {
          "bdata": "OQEDAU0AJQDbAHoAEgCRAMUCtACPAMAAOwD2AKUB",
          "dtype": "i2"
         },
         "yaxis": "y"
        },
        {
         "marker": {
          "color": "#FF6B6B"
         },
         "name": "Unknown",
         "showlegend": false,
         "type": "bar",
         "x": {
          "bdata": "AAECAwQFBgcICQoLDA0ODxA=",
          "dtype": "i1"
         },
         "xaxis": "x2",
         "y": {
          "bdata": "xwA8AMIAVwB5AKIAbAKvAK4AlQDjAIMApgDyACkArwDZAA==",
          "dtype": "i2"
         },
         "yaxis": "y2"
        },
        {
         "marker": {
          "color": "#FF6B6B"
         },
         "name": "Swin",
         "showlegend": false,
         "type": "bar",
         "x": {
          "bdata": "AAECAwQFBgcICQoLDA0ODxA=",
          "dtype": "i1"
         },
         "xaxis": "x3",
         "y": {
          "bdata": "yABcAMgAuwDWAMgAzwDbAMgAyADNAL4AygCZAEcAyADIAA==",
          "dtype": "i2"
         },
         "yaxis": "y3"
        },
        {
         "marker": {
          "color": "#4ECDC4"
         },
         "name": "EfficientNet",
         "showlegend": false,
         "type": "bar",
         "x": {
          "bdata": "AAECAwQFBgcICQoLDA0ODxA=",
          "dtype": "i1"
         },
         "xaxis": "x3",
         "y": {
          "bdata": "ywBlAMgAsgDpAMgAzQCpAMgAyADuALsAwQCkAEUAyADIAA==",
          "dtype": "i2"
         },
         "yaxis": "y3"
        },
        {
         "marker": {
          "color": "#FF6B6B"
         },
         "name": "Swin",
         "showlegend": false,
         "type": "bar",
         "x": {
          "bdata": "AAECAwQFBgcICQoLDA0ODxA=",
          "dtype": "i1"
         },
         "xaxis": "x4",
         "y": {
          "bdata": "yABcAMgAuwDWAMgAzwDbAMgAyADNAL4AygCZAEcAyADIAA==",
          "dtype": "i2"
         },
         "yaxis": "y4"
        },
        {
         "marker": {
          "color": "#4ECDC4"
         },
         "name": "EfficientNet",
         "showlegend": false,
         "type": "bar",
         "x": {
          "bdata": "AAECAwQFBgcICQoLDA0ODxA=",
          "dtype": "i1"
         },
         "xaxis": "x4",
         "y": {
          "bdata": "ywBlAMgAsgDpAMgAzQCpAMgAyADuALsAwQCkAEUAyADIAA==",
          "dtype": "i2"
         },
         "yaxis": "y4"
        },
        {
         "marker": {
          "color": "#FF6B6B"
         },
         "name": "Swin",
         "showlegend": false,
         "type": "bar",
         "x": {
          "bdata": "AAECAwQFBgcICQoLDA0ODxA=",
          "dtype": "i1"
         },
         "xaxis": "x5",
         "y": {
          "bdata": "yABcAMgAuwDWAMgAzwDbAMgAyADNAL4AygCZAEcAyADIAA==",
          "dtype": "i2"
         },
         "yaxis": "y5"
        },
        {
         "marker": {
          "color": "#4ECDC4"
         },
         "name": "EfficientNet",
         "showlegend": false,
         "type": "bar",
         "x": {
          "bdata": "AAECAwQFBgcICQoLDA0ODxA=",
          "dtype": "i1"
         },
         "xaxis": "x5",
         "y": {
          "bdata": "ywBlAMgAsgDpAMgAzQCpAMgAyADuALsAwQCkAEUAyADIAA==",
          "dtype": "i2"
         },
         "yaxis": "y5"
        }
       ],
       "layout": {
        "annotations": [
         {
          "font": {
           "size": 16
          },
          "showarrow": false,
          "text": "📅 20250903",
          "x": 0.5,
          "xanchor": "center",
          "xref": "paper",
          "y": 0.9999999999999999,
          "yanchor": "bottom",
          "yref": "paper"
         },
         {
          "font": {
           "size": 16
          },
          "showarrow": false,
          "text": "📅 20250904",
          "x": 0.5,
          "xanchor": "center",
          "xref": "paper",
          "y": 0.7839999999999999,
          "yanchor": "bottom",
          "yref": "paper"
         },
         {
          "font": {
           "size": 16
          },
          "showarrow": false,
          "text": "📅 20250905",
          "x": 0.5,
          "xanchor": "center",
          "xref": "paper",
          "y": 0.568,
          "yanchor": "bottom",
          "yref": "paper"
         },
         {
          "font": {
           "size": 16
          },
          "showarrow": false,
          "text": "📅 20250906",
          "x": 0.5,
          "xanchor": "center",
          "xref": "paper",
          "y": 0.352,
          "yanchor": "bottom",
          "yref": "paper"
         },
         {
          "font": {
           "size": 16
          },
          "showarrow": false,
          "text": "📅 20250907",
          "x": 0.5,
          "xanchor": "center",
          "xref": "paper",
          "y": 0.13599999999999998,
          "yanchor": "bottom",
          "yref": "paper"
         }
        ],
        "font": {
         "family": "NanumGothic, Arial, sans-serif"
        },
        "height": 1500,
        "template": {
         "data": {
          "bar": [
           {
            "error_x": {
             "color": "#2a3f5f"
            },
            "error_y": {
             "color": "#2a3f5f"
            },
            "marker": {
             "line": {
              "color": "#E5ECF6",
              "width": 0.5
             },
             "pattern": {
              "fillmode": "overlay",
              "size": 10,
              "solidity": 0.2
             }
            },
            "type": "bar"
           }
          ],
          "barpolar": [
           {
            "marker": {
             "line": {
              "color": "#E5ECF6",
              "width": 0.5
             },
             "pattern": {
              "fillmode": "overlay",
              "size": 10,
              "solidity": 0.2
             }
            },
            "type": "barpolar"
           }
          ],
          "carpet": [
           {
            "aaxis": {
             "endlinecolor": "#2a3f5f",
             "gridcolor": "white",
             "linecolor": "white",
             "minorgridcolor": "white",
             "startlinecolor": "#2a3f5f"
            },
            "baxis": {
             "endlinecolor": "#2a3f5f",
             "gridcolor": "white",
             "linecolor": "white",
             "minorgridcolor": "white",
             "startlinecolor": "#2a3f5f"
            },
            "type": "carpet"
           }
          ],
          "choropleth": [
           {
            "colorbar": {
             "outlinewidth": 0,
             "ticks": ""
            },
            "type": "choropleth"
           }
          ],
          "contour": [
           {
            "colorbar": {
             "outlinewidth": 0,
             "ticks": ""
            },
            "colorscale": [
             [
              0,
              "#0d0887"
             ],
             [
              0.1111111111111111,
              "#46039f"
             ],
             [
              0.2222222222222222,
              "#7201a8"
             ],
             [
              0.3333333333333333,
              "#9c179e"
             ],
             [
              0.4444444444444444,
              "#bd3786"
             ],
             [
              0.5555555555555556,
              "#d8576b"
             ],
             [
              0.6666666666666666,
              "#ed7953"
             ],
             [
              0.7777777777777778,
              "#fb9f3a"
             ],
             [
              0.8888888888888888,
              "#fdca26"
             ],
             [
              1,
              "#f0f921"
             ]
            ],
            "type": "contour"
           }
          ],
          "contourcarpet": [
           {
            "colorbar": {
             "outlinewidth": 0,
             "ticks": ""
            },
            "type": "contourcarpet"
           }
          ],
          "heatmap": [
           {
            "colorbar": {
             "outlinewidth": 0,
             "ticks": ""
            },
            "colorscale": [
             [
              0,
              "#0d0887"
             ],
             [
              0.1111111111111111,
              "#46039f"
             ],
             [
              0.2222222222222222,
              "#7201a8"
             ],
             [
              0.3333333333333333,
              "#9c179e"
             ],
             [
              0.4444444444444444,
              "#bd3786"
             ],
             [
              0.5555555555555556,
              "#d8576b"
             ],
             [
              0.6666666666666666,
              "#ed7953"
             ],
             [
              0.7777777777777778,
              "#fb9f3a"
             ],
             [
              0.8888888888888888,
              "#fdca26"
             ],
             [
              1,
              "#f0f921"
             ]
            ],
            "type": "heatmap"
           }
          ],
          "histogram": [
           {
            "marker": {
             "pattern": {
              "fillmode": "overlay",
              "size": 10,
              "solidity": 0.2
             }
            },
            "type": "histogram"
           }
          ],
          "histogram2d": [
           {
            "colorbar": {
             "outlinewidth": 0,
             "ticks": ""
            },
            "colorscale": [
             [
              0,
              "#0d0887"
             ],
             [
              0.1111111111111111,
              "#46039f"
             ],
             [
              0.2222222222222222,
              "#7201a8"
             ],
             [
              0.3333333333333333,
              "#9c179e"
             ],
             [
              0.4444444444444444,
              "#bd3786"
             ],
             [
              0.5555555555555556,
              "#d8576b"
             ],
             [
              0.6666666666666666,
              "#ed7953"
             ],
             [
              0.7777777777777778,
              "#fb9f3a"
             ],
             [
              0.8888888888888888,
              "#fdca26"
             ],
             [
              1,
              "#f0f921"
             ]
            ],
            "type": "histogram2d"
           }
          ],
          "histogram2dcontour": [
           {
            "colorbar": {
             "outlinewidth": 0,
             "ticks": ""
            },
            "colorscale": [
             [
              0,
              "#0d0887"
             ],
             [
              0.1111111111111111,
              "#46039f"
             ],
             [
              0.2222222222222222,
              "#7201a8"
             ],
             [
              0.3333333333333333,
              "#9c179e"
             ],
             [
              0.4444444444444444,
              "#bd3786"
             ],
             [
              0.5555555555555556,
              "#d8576b"
             ],
             [
              0.6666666666666666,
              "#ed7953"
             ],
             [
              0.7777777777777778,
              "#fb9f3a"
             ],
             [
              0.8888888888888888,
              "#fdca26"
             ],
             [
              1,
              "#f0f921"
             ]
            ],
            "type": "histogram2dcontour"
           }
          ],
          "mesh3d": [
           {
            "colorbar": {
             "outlinewidth": 0,
             "ticks": ""
            },
            "type": "mesh3d"
           }
          ],
          "parcoords": [
           {
            "line": {
             "colorbar": {
              "outlinewidth": 0,
              "ticks": ""
             }
            },
            "type": "parcoords"
           }
          ],
          "pie": [
           {
            "automargin": true,
            "type": "pie"
           }
          ],
          "scatter": [
           {
            "fillpattern": {
             "fillmode": "overlay",
             "size": 10,
             "solidity": 0.2
            },
            "type": "scatter"
           }
          ],
          "scatter3d": [
           {
            "line": {
             "colorbar": {
              "outlinewidth": 0,
              "ticks": ""
             }
            },
            "marker": {
             "colorbar": {
              "outlinewidth": 0,
              "ticks": ""
             }
            },
            "type": "scatter3d"
           }
          ],
          "scattercarpet": [
           {
            "marker": {
             "colorbar": {
              "outlinewidth": 0,
              "ticks": ""
             }
            },
            "type": "scattercarpet"
           }
          ],
          "scattergeo": [
           {
            "marker": {
             "colorbar": {
              "outlinewidth": 0,
              "ticks": ""
             }
            },
            "type": "scattergeo"
           }
          ],
          "scattergl": [
           {
            "marker": {
             "colorbar": {
              "outlinewidth": 0,
              "ticks": ""
             }
            },
            "type": "scattergl"
           }
          ],
          "scattermap": [
           {
            "marker": {
             "colorbar": {
              "outlinewidth": 0,
              "ticks": ""
             }
            },
            "type": "scattermap"
           }
          ],
          "scattermapbox": [
           {
            "marker": {
             "colorbar": {
              "outlinewidth": 0,
              "ticks": ""
             }
            },
            "type": "scattermapbox"
           }
          ],
          "scatterpolar": [
           {
            "marker": {
             "colorbar": {
              "outlinewidth": 0,
              "ticks": ""
             }
            },
            "type": "scatterpolar"
           }
          ],
          "scatterpolargl": [
           {
            "marker": {
             "colorbar": {
              "outlinewidth": 0,
              "ticks": ""
             }
            },
            "type": "scatterpolargl"
           }
          ],
          "scatterternary": [
           {
            "marker": {
             "colorbar": {
              "outlinewidth": 0,
              "ticks": ""
             }
            },
            "type": "scatterternary"
           }
          ],
          "surface": [
           {
            "colorbar": {
             "outlinewidth": 0,
             "ticks": ""
            },
            "colorscale": [
             [
              0,
              "#0d0887"
             ],
             [
              0.1111111111111111,
              "#46039f"
             ],
             [
              0.2222222222222222,
              "#7201a8"
             ],
             [
              0.3333333333333333,
              "#9c179e"
             ],
             [
              0.4444444444444444,
              "#bd3786"
             ],
             [
              0.5555555555555556,
              "#d8576b"
             ],
             [
              0.6666666666666666,
              "#ed7953"
             ],
             [
              0.7777777777777778,
              "#fb9f3a"
             ],
             [
              0.8888888888888888,
              "#fdca26"
             ],
             [
              1,
              "#f0f921"
             ]
            ],
            "type": "surface"
           }
          ],
          "table": [
           {
            "cells": {
             "fill": {
              "color": "#EBF0F8"
             },
             "line": {
              "color": "white"
             }
            },
            "header": {
             "fill": {
              "color": "#C8D4E3"
             },
             "line": {
              "color": "white"
             }
            },
            "type": "table"
           }
          ]
         },
         "layout": {
          "annotationdefaults": {
           "arrowcolor": "#2a3f5f",
           "arrowhead": 0,
           "arrowwidth": 1
          },
          "autotypenumbers": "strict",
          "coloraxis": {
           "colorbar": {
            "outlinewidth": 0,
            "ticks": ""
           }
          },
          "colorscale": {
           "diverging": [
            [
             0,
             "#8e0152"
            ],
            [
             0.1,
             "#c51b7d"
            ],
            [
             0.2,
             "#de77ae"
            ],
            [
             0.3,
             "#f1b6da"
            ],
            [
             0.4,
             "#fde0ef"
            ],
            [
             0.5,
             "#f7f7f7"
            ],
            [
             0.6,
             "#e6f5d0"
            ],
            [
             0.7,
             "#b8e186"
            ],
            [
             0.8,
             "#7fbc41"
            ],
            [
             0.9,
             "#4d9221"
            ],
            [
             1,
             "#276419"
            ]
           ],
           "sequential": [
            [
             0,
             "#0d0887"
            ],
            [
             0.1111111111111111,
             "#46039f"
            ],
            [
             0.2222222222222222,
             "#7201a8"
            ],
            [
             0.3333333333333333,
             "#9c179e"
            ],
            [
             0.4444444444444444,
             "#bd3786"
            ],
            [
             0.5555555555555556,
             "#d8576b"
            ],
            [
             0.6666666666666666,
             "#ed7953"
            ],
            [
             0.7777777777777778,
             "#fb9f3a"
            ],
            [
             0.8888888888888888,
             "#fdca26"
            ],
            [
             1,
             "#f0f921"
            ]
           ],
           "sequentialminus": [
            [
             0,
             "#0d0887"
            ],
            [
             0.1111111111111111,
             "#46039f"
            ],
            [
             0.2222222222222222,
             "#7201a8"
            ],
            [
             0.3333333333333333,
             "#9c179e"
            ],
            [
             0.4444444444444444,
             "#bd3786"
            ],
            [
             0.5555555555555556,
             "#d8576b"
            ],
            [
             0.6666666666666666,
             "#ed7953"
            ],
            [
             0.7777777777777778,
             "#fb9f3a"
            ],
            [
             0.8888888888888888,
             "#fdca26"
            ],
            [
             1,
             "#f0f921"
            ]
           ]
          },
          "colorway": [
           "#636efa",
           "#EF553B",
           "#00cc96",
           "#ab63fa",
           "#FFA15A",
           "#19d3f3",
           "#FF6692",
           "#B6E880",
           "#FF97FF",
           "#FECB52"
          ],
          "font": {
           "color": "#2a3f5f"
          },
          "geo": {
           "bgcolor": "white",
           "lakecolor": "white",
           "landcolor": "#E5ECF6",
           "showlakes": true,
           "showland": true,
           "subunitcolor": "white"
          },
          "hoverlabel": {
           "align": "left"
          },
          "hovermode": "closest",
          "mapbox": {
           "style": "light"
          },
          "paper_bgcolor": "white",
          "plot_bgcolor": "#E5ECF6",
          "polar": {
           "angularaxis": {
            "gridcolor": "white",
            "linecolor": "white",
            "ticks": ""
           },
           "bgcolor": "#E5ECF6",
           "radialaxis": {
            "gridcolor": "white",
            "linecolor": "white",
            "ticks": ""
           }
          },
          "scene": {
           "xaxis": {
            "backgroundcolor": "#E5ECF6",
            "gridcolor": "white",
            "gridwidth": 2,
            "linecolor": "white",
            "showbackground": true,
            "ticks": "",
            "zerolinecolor": "white"
           },
           "yaxis": {
            "backgroundcolor": "#E5ECF6",
            "gridcolor": "white",
            "gridwidth": 2,
            "linecolor": "white",
            "showbackground": true,
            "ticks": "",
            "zerolinecolor": "white"
           },
           "zaxis": {
            "backgroundcolor": "#E5ECF6",
            "gridcolor": "white",
            "gridwidth": 2,
            "linecolor": "white",
            "showbackground": true,
            "ticks": "",
            "zerolinecolor": "white"
           }
          },
          "shapedefaults": {
           "line": {
            "color": "#2a3f5f"
           }
          },
          "ternary": {
           "aaxis": {
            "gridcolor": "white",
            "linecolor": "white",
            "ticks": ""
           },
           "baxis": {
            "gridcolor": "white",
            "linecolor": "white",
            "ticks": ""
           },
           "bgcolor": "#E5ECF6",
           "caxis": {
            "gridcolor": "white",
            "linecolor": "white",
            "ticks": ""
           }
          },
          "title": {
           "x": 0.05
          },
          "xaxis": {
           "automargin": true,
           "gridcolor": "white",
           "linecolor": "white",
           "ticks": "",
           "title": {
            "standoff": 15
           },
           "zerolinecolor": "white",
           "zerolinewidth": 2
          },
          "yaxis": {
           "automargin": true,
           "gridcolor": "white",
           "linecolor": "white",
           "ticks": "",
           "title": {
            "standoff": 15
           },
           "zerolinecolor": "white",
           "zerolinewidth": 2
          }
         }
        },
        "title": {
         "font": {
          "size": 20
         },
         "text": "📊 날짜별/모델별 예측 클래스 분포"
        },
        "xaxis": {
         "anchor": "y",
         "domain": [
          0,
          1
         ],
         "title": {
          "text": "Class ID"
         }
        },
        "xaxis2": {
         "anchor": "y2",
         "domain": [
          0,
          1
         ],
         "title": {
          "text": "Class ID"
         }
        },
        "xaxis3": {
         "anchor": "y3",
         "domain": [
          0,
          1
         ],
         "title": {
          "text": "Class ID"
         }
        },
        "xaxis4": {
         "anchor": "y4",
         "domain": [
          0,
          1
         ],
         "title": {
          "text": "Class ID"
         }
        },
        "xaxis5": {
         "anchor": "y5",
         "domain": [
          0,
          1
         ],
         "title": {
          "text": "Class ID"
         }
        },
        "yaxis": {
         "anchor": "x",
         "domain": [
          0.8639999999999999,
          0.9999999999999999
         ],
         "title": {
          "text": "Count"
         }
        },
        "yaxis2": {
         "anchor": "x2",
         "domain": [
          0.6479999999999999,
          0.7839999999999999
         ],
         "title": {
          "text": "Count"
         }
        },
        "yaxis3": {
         "anchor": "x3",
         "domain": [
          0.43199999999999994,
          0.568
         ],
         "title": {
          "text": "Count"
         }
        },
        "yaxis4": {
         "anchor": "x4",
         "domain": [
          0.21599999999999997,
          0.352
         ],
         "title": {
          "text": "Count"
         }
        },
        "yaxis5": {
         "anchor": "x5",
         "domain": [
          0,
          0.13599999999999998
         ],
         "title": {
          "text": "Count"
         }
        }
       }
      }
     },
     "metadata": {},
     "output_type": "display_data"
    },
    {
     "data": {
      "application/vnd.plotly.v1+json": {
       "config": {
        "plotlyServerURL": "https://plot.ly"
       },
       "data": [
        {
         "marker": {
          "color": "#FF6B6B"
         },
         "name": "Unknown",
         "showlegend": true,
         "type": "bar",
         "x": {
          "bdata": "AAIDBAUGBwgJCgsMDQ8Q",
          "dtype": "i1"
         },
         "xaxis": "x",
         "y": {
          "bdata": "OQEDAU0AJQDbAHoAEgCRAMUCtACPAMAAOwD2AKUB",
          "dtype": "i2"
         },
         "yaxis": "y"
        },
        {
         "marker": {
          "color": "#FF6B6B"
         },
         "name": "Unknown",
         "showlegend": false,
         "type": "bar",
         "x": {
          "bdata": "AAECAwQFBgcICQoLDA0ODxA=",
          "dtype": "i1"
         },
         "xaxis": "x2",
         "y": {
          "bdata": "xwA8AMIAVwB5AKIAbAKvAK4AlQDjAIMApgDyACkArwDZAA==",
          "dtype": "i2"
         },
         "yaxis": "y2"
        },
        {
         "marker": {
          "color": "#FF6B6B"
         },
         "name": "Swin",
         "showlegend": false,
         "type": "bar",
         "x": {
          "bdata": "AAECAwQFBgcICQoLDA0ODxA=",
          "dtype": "i1"
         },
         "xaxis": "x3",
         "y": {
          "bdata": "yABcAMgAuwDWAMgAzwDbAMgAyADNAL4AygCZAEcAyADIAA==",
          "dtype": "i2"
         },
         "yaxis": "y3"
        },
        {
         "marker": {
          "color": "#4ECDC4"
         },
         "name": "EfficientNet",
         "showlegend": false,
         "type": "bar",
         "x": {
          "bdata": "AAECAwQFBgcICQoLDA0ODxA=",
          "dtype": "i1"
         },
         "xaxis": "x3",
         "y": {
          "bdata": "ywBlAMgAsgDpAMgAzQCpAMgAyADuALsAwQCkAEUAyADIAA==",
          "dtype": "i2"
         },
         "yaxis": "y3"
        },
        {
         "marker": {
          "color": "#FF6B6B"
         },
         "name": "Swin",
         "showlegend": false,
         "type": "bar",
         "x": {
          "bdata": "AAECAwQFBgcICQoLDA0ODxA=",
          "dtype": "i1"
         },
         "xaxis": "x4",
         "y": {
          "bdata": "yABcAMgAuwDWAMgAzwDbAMgAyADNAL4AygCZAEcAyADIAA==",
          "dtype": "i2"
         },
         "yaxis": "y4"
        },
        {
         "marker": {
          "color": "#4ECDC4"
         },
         "name": "EfficientNet",
         "showlegend": false,
         "type": "bar",
         "x": {
          "bdata": "AAECAwQFBgcICQoLDA0ODxA=",
          "dtype": "i1"
         },
         "xaxis": "x4",
         "y": {
          "bdata": "ywBlAMgAsgDpAMgAzQCpAMgAyADuALsAwQCkAEUAyADIAA==",
          "dtype": "i2"
         },
         "yaxis": "y4"
        },
        {
         "marker": {
          "color": "#FF6B6B"
         },
         "name": "Swin",
         "showlegend": false,
         "type": "bar",
         "x": {
          "bdata": "AAECAwQFBgcICQoLDA0ODxA=",
          "dtype": "i1"
         },
         "xaxis": "x5",
         "y": {
          "bdata": "yABcAMgAuwDWAMgAzwDbAMgAyADNAL4AygCZAEcAyADIAA==",
          "dtype": "i2"
         },
         "yaxis": "y5"
        },
        {
         "marker": {
          "color": "#4ECDC4"
         },
         "name": "EfficientNet",
         "showlegend": false,
         "type": "bar",
         "x": {
          "bdata": "AAECAwQFBgcICQoLDA0ODxA=",
          "dtype": "i1"
         },
         "xaxis": "x5",
         "y": {
          "bdata": "ywBlAMgAsgDpAMgAzQCpAMgAyADuALsAwQCkAEUAyADIAA==",
          "dtype": "i2"
         },
         "yaxis": "y5"
        }
       ],
       "layout": {
        "annotations": [
         {
          "font": {
           "size": 16
          },
          "showarrow": false,
          "text": "📅 20250903",
          "x": 0.5,
          "xanchor": "center",
          "xref": "paper",
          "y": 0.9999999999999999,
          "yanchor": "bottom",
          "yref": "paper"
         },
         {
          "font": {
           "size": 16
          },
          "showarrow": false,
          "text": "📅 20250904",
          "x": 0.5,
          "xanchor": "center",
          "xref": "paper",
          "y": 0.7839999999999999,
          "yanchor": "bottom",
          "yref": "paper"
         },
         {
          "font": {
           "size": 16
          },
          "showarrow": false,
          "text": "📅 20250905",
          "x": 0.5,
          "xanchor": "center",
          "xref": "paper",
          "y": 0.568,
          "yanchor": "bottom",
          "yref": "paper"
         },
         {
          "font": {
           "size": 16
          },
          "showarrow": false,
          "text": "📅 20250906",
          "x": 0.5,
          "xanchor": "center",
          "xref": "paper",
          "y": 0.352,
          "yanchor": "bottom",
          "yref": "paper"
         },
         {
          "font": {
           "size": 16
          },
          "showarrow": false,
          "text": "📅 20250907",
          "x": 0.5,
          "xanchor": "center",
          "xref": "paper",
          "y": 0.13599999999999998,
          "yanchor": "bottom",
          "yref": "paper"
         }
        ],
        "font": {
         "family": "NanumGothic, Arial, sans-serif"
        },
        "height": 1500,
        "template": {
         "data": {
          "bar": [
           {
            "error_x": {
             "color": "#2a3f5f"
            },
            "error_y": {
             "color": "#2a3f5f"
            },
            "marker": {
             "line": {
              "color": "#E5ECF6",
              "width": 0.5
             },
             "pattern": {
              "fillmode": "overlay",
              "size": 10,
              "solidity": 0.2
             }
            },
            "type": "bar"
           }
          ],
          "barpolar": [
           {
            "marker": {
             "line": {
              "color": "#E5ECF6",
              "width": 0.5
             },
             "pattern": {
              "fillmode": "overlay",
              "size": 10,
              "solidity": 0.2
             }
            },
            "type": "barpolar"
           }
          ],
          "carpet": [
           {
            "aaxis": {
             "endlinecolor": "#2a3f5f",
             "gridcolor": "white",
             "linecolor": "white",
             "minorgridcolor": "white",
             "startlinecolor": "#2a3f5f"
            },
            "baxis": {
             "endlinecolor": "#2a3f5f",
             "gridcolor": "white",
             "linecolor": "white",
             "minorgridcolor": "white",
             "startlinecolor": "#2a3f5f"
            },
            "type": "carpet"
           }
          ],
          "choropleth": [
           {
            "colorbar": {
             "outlinewidth": 0,
             "ticks": ""
            },
            "type": "choropleth"
           }
          ],
          "contour": [
           {
            "colorbar": {
             "outlinewidth": 0,
             "ticks": ""
            },
            "colorscale": [
             [
              0,
              "#0d0887"
             ],
             [
              0.1111111111111111,
              "#46039f"
             ],
             [
              0.2222222222222222,
              "#7201a8"
             ],
             [
              0.3333333333333333,
              "#9c179e"
             ],
             [
              0.4444444444444444,
              "#bd3786"
             ],
             [
              0.5555555555555556,
              "#d8576b"
             ],
             [
              0.6666666666666666,
              "#ed7953"
             ],
             [
              0.7777777777777778,
              "#fb9f3a"
             ],
             [
              0.8888888888888888,
              "#fdca26"
             ],
             [
              1,
              "#f0f921"
             ]
            ],
            "type": "contour"
           }
          ],
          "contourcarpet": [
           {
            "colorbar": {
             "outlinewidth": 0,
             "ticks": ""
            },
            "type": "contourcarpet"
           }
          ],
          "heatmap": [
           {
            "colorbar": {
             "outlinewidth": 0,
             "ticks": ""
            },
            "colorscale": [
             [
              0,
              "#0d0887"
             ],
             [
              0.1111111111111111,
              "#46039f"
             ],
             [
              0.2222222222222222,
              "#7201a8"
             ],
             [
              0.3333333333333333,
              "#9c179e"
             ],
             [
              0.4444444444444444,
              "#bd3786"
             ],
             [
              0.5555555555555556,
              "#d8576b"
             ],
             [
              0.6666666666666666,
              "#ed7953"
             ],
             [
              0.7777777777777778,
              "#fb9f3a"
             ],
             [
              0.8888888888888888,
              "#fdca26"
             ],
             [
              1,
              "#f0f921"
             ]
            ],
            "type": "heatmap"
           }
          ],
          "histogram": [
           {
            "marker": {
             "pattern": {
              "fillmode": "overlay",
              "size": 10,
              "solidity": 0.2
             }
            },
            "type": "histogram"
           }
          ],
          "histogram2d": [
           {
            "colorbar": {
             "outlinewidth": 0,
             "ticks": ""
            },
            "colorscale": [
             [
              0,
              "#0d0887"
             ],
             [
              0.1111111111111111,
              "#46039f"
             ],
             [
              0.2222222222222222,
              "#7201a8"
             ],
             [
              0.3333333333333333,
              "#9c179e"
             ],
             [
              0.4444444444444444,
              "#bd3786"
             ],
             [
              0.5555555555555556,
              "#d8576b"
             ],
             [
              0.6666666666666666,
              "#ed7953"
             ],
             [
              0.7777777777777778,
              "#fb9f3a"
             ],
             [
              0.8888888888888888,
              "#fdca26"
             ],
             [
              1,
              "#f0f921"
             ]
            ],
            "type": "histogram2d"
           }
          ],
          "histogram2dcontour": [
           {
            "colorbar": {
             "outlinewidth": 0,
             "ticks": ""
            },
            "colorscale": [
             [
              0,
              "#0d0887"
             ],
             [
              0.1111111111111111,
              "#46039f"
             ],
             [
              0.2222222222222222,
              "#7201a8"
             ],
             [
              0.3333333333333333,
              "#9c179e"
             ],
             [
              0.4444444444444444,
              "#bd3786"
             ],
             [
              0.5555555555555556,
              "#d8576b"
             ],
             [
              0.6666666666666666,
              "#ed7953"
             ],
             [
              0.7777777777777778,
              "#fb9f3a"
             ],
             [
              0.8888888888888888,
              "#fdca26"
             ],
             [
              1,
              "#f0f921"
             ]
            ],
            "type": "histogram2dcontour"
           }
          ],
          "mesh3d": [
           {
            "colorbar": {
             "outlinewidth": 0,
             "ticks": ""
            },
            "type": "mesh3d"
           }
          ],
          "parcoords": [
           {
            "line": {
             "colorbar": {
              "outlinewidth": 0,
              "ticks": ""
             }
            },
            "type": "parcoords"
           }
          ],
          "pie": [
           {
            "automargin": true,
            "type": "pie"
           }
          ],
          "scatter": [
           {
            "fillpattern": {
             "fillmode": "overlay",
             "size": 10,
             "solidity": 0.2
            },
            "type": "scatter"
           }
          ],
          "scatter3d": [
           {
            "line": {
             "colorbar": {
              "outlinewidth": 0,
              "ticks": ""
             }
            },
            "marker": {
             "colorbar": {
              "outlinewidth": 0,
              "ticks": ""
             }
            },
            "type": "scatter3d"
           }
          ],
          "scattercarpet": [
           {
            "marker": {
             "colorbar": {
              "outlinewidth": 0,
              "ticks": ""
             }
            },
            "type": "scattercarpet"
           }
          ],
          "scattergeo": [
           {
            "marker": {
             "colorbar": {
              "outlinewidth": 0,
              "ticks": ""
             }
            },
            "type": "scattergeo"
           }
          ],
          "scattergl": [
           {
            "marker": {
             "colorbar": {
              "outlinewidth": 0,
              "ticks": ""
             }
            },
            "type": "scattergl"
           }
          ],
          "scattermap": [
           {
            "marker": {
             "colorbar": {
              "outlinewidth": 0,
              "ticks": ""
             }
            },
            "type": "scattermap"
           }
          ],
          "scattermapbox": [
           {
            "marker": {
             "colorbar": {
              "outlinewidth": 0,
              "ticks": ""
             }
            },
            "type": "scattermapbox"
           }
          ],
          "scatterpolar": [
           {
            "marker": {
             "colorbar": {
              "outlinewidth": 0,
              "ticks": ""
             }
            },
            "type": "scatterpolar"
           }
          ],
          "scatterpolargl": [
           {
            "marker": {
             "colorbar": {
              "outlinewidth": 0,
              "ticks": ""
             }
            },
            "type": "scatterpolargl"
           }
          ],
          "scatterternary": [
           {
            "marker": {
             "colorbar": {
              "outlinewidth": 0,
              "ticks": ""
             }
            },
            "type": "scatterternary"
           }
          ],
          "surface": [
           {
            "colorbar": {
             "outlinewidth": 0,
             "ticks": ""
            },
            "colorscale": [
             [
              0,
              "#0d0887"
             ],
             [
              0.1111111111111111,
              "#46039f"
             ],
             [
              0.2222222222222222,
              "#7201a8"
             ],
             [
              0.3333333333333333,
              "#9c179e"
             ],
             [
              0.4444444444444444,
              "#bd3786"
             ],
             [
              0.5555555555555556,
              "#d8576b"
             ],
             [
              0.6666666666666666,
              "#ed7953"
             ],
             [
              0.7777777777777778,
              "#fb9f3a"
             ],
             [
              0.8888888888888888,
              "#fdca26"
             ],
             [
              1,
              "#f0f921"
             ]
            ],
            "type": "surface"
           }
          ],
          "table": [
           {
            "cells": {
             "fill": {
              "color": "#EBF0F8"
             },
             "line": {
              "color": "white"
             }
            },
            "header": {
             "fill": {
              "color": "#C8D4E3"
             },
             "line": {
              "color": "white"
             }
            },
            "type": "table"
           }
          ]
         },
         "layout": {
          "annotationdefaults": {
           "arrowcolor": "#2a3f5f",
           "arrowhead": 0,
           "arrowwidth": 1
          },
          "autotypenumbers": "strict",
          "coloraxis": {
           "colorbar": {
            "outlinewidth": 0,
            "ticks": ""
           }
          },
          "colorscale": {
           "diverging": [
            [
             0,
             "#8e0152"
            ],
            [
             0.1,
             "#c51b7d"
            ],
            [
             0.2,
             "#de77ae"
            ],
            [
             0.3,
             "#f1b6da"
            ],
            [
             0.4,
             "#fde0ef"
            ],
            [
             0.5,
             "#f7f7f7"
            ],
            [
             0.6,
             "#e6f5d0"
            ],
            [
             0.7,
             "#b8e186"
            ],
            [
             0.8,
             "#7fbc41"
            ],
            [
             0.9,
             "#4d9221"
            ],
            [
             1,
             "#276419"
            ]
           ],
           "sequential": [
            [
             0,
             "#0d0887"
            ],
            [
             0.1111111111111111,
             "#46039f"
            ],
            [
             0.2222222222222222,
             "#7201a8"
            ],
            [
             0.3333333333333333,
             "#9c179e"
            ],
            [
             0.4444444444444444,
             "#bd3786"
            ],
            [
             0.5555555555555556,
             "#d8576b"
            ],
            [
             0.6666666666666666,
             "#ed7953"
            ],
            [
             0.7777777777777778,
             "#fb9f3a"
            ],
            [
             0.8888888888888888,
             "#fdca26"
            ],
            [
             1,
             "#f0f921"
            ]
           ],
           "sequentialminus": [
            [
             0,
             "#0d0887"
            ],
            [
             0.1111111111111111,
             "#46039f"
            ],
            [
             0.2222222222222222,
             "#7201a8"
            ],
            [
             0.3333333333333333,
             "#9c179e"
            ],
            [
             0.4444444444444444,
             "#bd3786"
            ],
            [
             0.5555555555555556,
             "#d8576b"
            ],
            [
             0.6666666666666666,
             "#ed7953"
            ],
            [
             0.7777777777777778,
             "#fb9f3a"
            ],
            [
             0.8888888888888888,
             "#fdca26"
            ],
            [
             1,
             "#f0f921"
            ]
           ]
          },
          "colorway": [
           "#636efa",
           "#EF553B",
           "#00cc96",
           "#ab63fa",
           "#FFA15A",
           "#19d3f3",
           "#FF6692",
           "#B6E880",
           "#FF97FF",
           "#FECB52"
          ],
          "font": {
           "color": "#2a3f5f"
          },
          "geo": {
           "bgcolor": "white",
           "lakecolor": "white",
           "landcolor": "#E5ECF6",
           "showlakes": true,
           "showland": true,
           "subunitcolor": "white"
          },
          "hoverlabel": {
           "align": "left"
          },
          "hovermode": "closest",
          "mapbox": {
           "style": "light"
          },
          "paper_bgcolor": "white",
          "plot_bgcolor": "#E5ECF6",
          "polar": {
           "angularaxis": {
            "gridcolor": "white",
            "linecolor": "white",
            "ticks": ""
           },
           "bgcolor": "#E5ECF6",
           "radialaxis": {
            "gridcolor": "white",
            "linecolor": "white",
            "ticks": ""
           }
          },
          "scene": {
           "xaxis": {
            "backgroundcolor": "#E5ECF6",
            "gridcolor": "white",
            "gridwidth": 2,
            "linecolor": "white",
            "showbackground": true,
            "ticks": "",
            "zerolinecolor": "white"
           },
           "yaxis": {
            "backgroundcolor": "#E5ECF6",
            "gridcolor": "white",
            "gridwidth": 2,
            "linecolor": "white",
            "showbackground": true,
            "ticks": "",
            "zerolinecolor": "white"
           },
           "zaxis": {
            "backgroundcolor": "#E5ECF6",
            "gridcolor": "white",
            "gridwidth": 2,
            "linecolor": "white",
            "showbackground": true,
            "ticks": "",
            "zerolinecolor": "white"
           }
          },
          "shapedefaults": {
           "line": {
            "color": "#2a3f5f"
           }
          },
          "ternary": {
           "aaxis": {
            "gridcolor": "white",
            "linecolor": "white",
            "ticks": ""
           },
           "baxis": {
            "gridcolor": "white",
            "linecolor": "white",
            "ticks": ""
           },
           "bgcolor": "#E5ECF6",
           "caxis": {
            "gridcolor": "white",
            "linecolor": "white",
            "ticks": ""
           }
          },
          "title": {
           "x": 0.05
          },
          "xaxis": {
           "automargin": true,
           "gridcolor": "white",
           "linecolor": "white",
           "ticks": "",
           "title": {
            "standoff": 15
           },
           "zerolinecolor": "white",
           "zerolinewidth": 2
          },
          "yaxis": {
           "automargin": true,
           "gridcolor": "white",
           "linecolor": "white",
           "ticks": "",
           "title": {
            "standoff": 15
           },
           "zerolinecolor": "white",
           "zerolinewidth": 2
          }
         }
        },
        "title": {
         "font": {
          "size": 20
         },
         "text": "📊 날짜별/모델별 예측 클래스 분포"
        },
        "xaxis": {
         "anchor": "y",
         "domain": [
          0,
          1
         ],
         "title": {
          "text": "Class ID"
         }
        },
        "xaxis2": {
         "anchor": "y2",
         "domain": [
          0,
          1
         ],
         "title": {
          "text": "Class ID"
         }
        },
        "xaxis3": {
         "anchor": "y3",
         "domain": [
          0,
          1
         ],
         "title": {
          "text": "Class ID"
         }
        },
        "xaxis4": {
         "anchor": "y4",
         "domain": [
          0,
          1
         ],
         "title": {
          "text": "Class ID"
         }
        },
        "xaxis5": {
         "anchor": "y5",
         "domain": [
          0,
          1
         ],
         "title": {
          "text": "Class ID"
         }
        },
        "yaxis": {
         "anchor": "x",
         "domain": [
          0.8639999999999999,
          0.9999999999999999
         ],
         "title": {
          "text": "Count"
         }
        },
        "yaxis2": {
         "anchor": "x2",
         "domain": [
          0.6479999999999999,
          0.7839999999999999
         ],
         "title": {
          "text": "Count"
         }
        },
        "yaxis3": {
         "anchor": "x3",
         "domain": [
          0.43199999999999994,
          0.568
         ],
         "title": {
          "text": "Count"
         }
        },
        "yaxis4": {
         "anchor": "x4",
         "domain": [
          0.21599999999999997,
          0.352
         ],
         "title": {
          "text": "Count"
         }
        },
        "yaxis5": {
         "anchor": "x5",
         "domain": [
          0,
          0.13599999999999998
         ],
         "title": {
          "text": "Count"
         }
        }
       }
      }
     },
     "metadata": {},
     "output_type": "display_data"
    },
    {
     "name": "stdout",
     "output_type": "stream",
     "text": [
      "📊 예측 분포 차트 저장: notebooks/modular/results_comparison/submission_results_date_comparison/20250907_065923/images/prediction_distribution.png\n"
     ]
    }
   ],
   "source": [
    "# [8] 클래스별 예측 분포 비교 시각화\n",
    "def plot_prediction_distribution():\n",
    "    \"\"\"\n",
    "    날짜별/모델별 예측 클래스 분포를 비교하는 인터랙티브 차트 생성\n",
    "    - 각 날짜별로 서브플롯 생성\n",
    "    - 모델별로 다른 색상 적용\n",
    "    - 한글 제목 및 라벨 지원\n",
    "    \"\"\"\n",
    "    # 서브플롯 구성: 날짜별로 행 분할\n",
    "    fig = make_subplots(\n",
    "        rows=len(submission_data), \n",
    "        cols=1,\n",
    "        subplot_titles=[f\"📅 {date}\" for date in sorted(submission_data.keys())],\n",
    "        vertical_spacing=0.08\n",
    "    )\n",
    "    \n",
    "    # 모델별 색상 팔레트 정의\n",
    "    colors = ['#FF6B6B', '#4ECDC4', '#45B7D1', '#96CEB4', '#FFEAA7']\n",
    "    \n",
    "    # 각 날짜별로 데이터 처리\n",
    "    for i, date in enumerate(sorted(submission_data.keys()), 1):\n",
    "        for j, (model_name, info) in enumerate(submission_data[date].items()):\n",
    "            df = info['data']\n",
    "            \n",
    "            if 'target' in df.columns:\n",
    "                # 클래스별 예측 횟수 집계 (클래스 ID 순으로 정렬)\n",
    "                class_counts = df['target'].value_counts().sort_index()\n",
    "                \n",
    "                # 막대 차트 추가\n",
    "                fig.add_trace(\n",
    "                    go.Bar(\n",
    "                        x=class_counts.index,\n",
    "                        y=class_counts.values,\n",
    "                        name=f\"{info['model_type']}\",\n",
    "                        marker_color=colors[j % len(colors)],\n",
    "                        showlegend=(i == 1)  # 첫 번째 subplot에서만 범례 표시\n",
    "                    ),\n",
    "                    row=i, col=1\n",
    "                )\n",
    "    \n",
    "    # 레이아웃 설정 (한글 지원)\n",
    "    fig.update_layout(\n",
    "        height=300 * len(submission_data),\n",
    "        title=\"📊 날짜별/모델별 예측 클래스 분포\",\n",
    "        title_font_size=20,\n",
    "        font=dict(family=\"NanumGothic, Arial, sans-serif\")  # 한글 폰트 명시적 설정\n",
    "    )\n",
    "    \n",
    "    # 축 라벨 설정\n",
    "    fig.update_xaxes(title_text=\"Class ID\")\n",
    "    fig.update_yaxes(title_text=\"Count\")\n",
    "    \n",
    "    return fig\n",
    "\n",
    "# 차트 생성 및 표시\n",
    "distribution_fig = plot_prediction_distribution()\n",
    "distribution_fig.show()\n",
    "\n",
    "# 이미지 저장 (한글 폰트 적용된 matplotlib 버전)\n",
    "try:\n",
    "    # plotly를 matplotlib로 변환하여 한글 폰트 적용해서 저장\n",
    "    import matplotlib.pyplot as plt\n",
    "    import matplotlib.font_manager as fm\n",
    "    \n",
    "    # 한글 폰트 재설정 (함수 내에서 명시적 적용)\n",
    "    font_path = './font/NanumGothic.ttf'\n",
    "    fontprop = fm.FontProperties(fname=font_path)\n",
    "    plt.rcParams['font.family'] = 'NanumGothic'\n",
    "    plt.rcParams['axes.unicode_minus'] = False\n",
    "    \n",
    "    # matplotlib로 동일한 차트 재생성\n",
    "    fig_rows = len(submission_data)\n",
    "    fig, axes = plt.subplots(fig_rows, 1, figsize=(12, 6*fig_rows))\n",
    "    if fig_rows == 1:\n",
    "        axes = [axes]  # 단일 subplot인 경우 리스트로 변환\n",
    "    \n",
    "    colors = ['#FF6B6B', '#4ECDC4', '#45B7D1', '#96CEB4', '#FFEAA7']\n",
    "    \n",
    "    for i, date in enumerate(sorted(submission_data.keys())):\n",
    "        ax = axes[i]\n",
    "        \n",
    "        for j, (model_name, info) in enumerate(submission_data[date].items()):\n",
    "            df = info['data']\n",
    "            \n",
    "            if 'target' in df.columns:\n",
    "                class_counts = df['target'].value_counts().sort_index()\n",
    "                ax.bar(class_counts.index, class_counts.values, \n",
    "                      color=colors[j % len(colors)], alpha=0.7,\n",
    "                      label=f\"{info['model_type']}\")\n",
    "        \n",
    "        ax.set_title(f\"📅 {date}\", fontproperties=fontprop, fontsize=14)\n",
    "        ax.set_xlabel(\"Class ID\", fontproperties=fontprop)\n",
    "        ax.set_ylabel(\"Count\", fontproperties=fontprop)\n",
    "        ax.legend(prop=fontprop)\n",
    "        ax.grid(True, alpha=0.3)\n",
    "    \n",
    "    plt.suptitle(\"📊 날짜별/모델별 예측 클래스 분포\", fontproperties=fontprop, fontsize=16)\n",
    "    plt.tight_layout()\n",
    "    \n",
    "    # 이미지 저장\n",
    "    save_path = logger.image_dir / \"prediction_distribution.png\"\n",
    "    plt.savefig(save_path, dpi=300, bbox_inches='tight', facecolor='white')\n",
    "    plt.close()\n",
    "    \n",
    "    print(f\"📊 예측 분포 차트 저장: {save_path}\")\n",
    "    \n",
    "except Exception as e:\n",
    "    print(f\"❌ 이미지 저장 실패: {e}\")"
   ]
  },
  {
   "cell_type": "code",
   "execution_count": 9,
   "id": "45da0627",
   "metadata": {},
   "outputs": [
    {
     "name": "stdout",
     "output_type": "stream",
     "text": [
      "📅 20250905 - Swin vs EfficientNet:\n",
      "   예측 차이 비율: 7.5% (235/3,140)\n",
      "📅 20250906 - Swin vs EfficientNet:\n",
      "   예측 차이 비율: 7.5% (235/3,140)\n",
      "📅 20250907 - Swin vs EfficientNet:\n",
      "   예측 차이 비율: 7.5% (235/3,140)\n"
     ]
    }
   ],
   "source": [
    "# [9] 모델간 예측 차이 분석 (같은 날짜 내 모델 비교)\n",
    "def analyze_prediction_differences():\n",
    "    \"\"\"\n",
    "    동일 날짜에 여러 모델이 있는 경우 모델간 예측 차이를 분석\n",
    "    - ID별로 매칭하여 예측 결과 비교\n",
    "    - 차이 비율 및 절대 개수 계산\n",
    "    - 모든 모델 쌍에 대해 분석 수행\n",
    "    \"\"\"\n",
    "    differences = {}\n",
    "    \n",
    "    for date, models in submission_data.items():\n",
    "        if len(models) > 1:  # 2개 이상의 모델이 있는 경우만 비교 가능\n",
    "            model_names = list(models.keys())\n",
    "            differences[date] = {}\n",
    "            \n",
    "            # 모든 모델 쌍에 대해 차이 계산 (조합)\n",
    "            for i in range(len(model_names)):\n",
    "                for j in range(i+1, len(model_names)):\n",
    "                    model1_name = model_names[i]\n",
    "                    model2_name = model_names[j]\n",
    "                    \n",
    "                    df1 = models[model1_name]['data']\n",
    "                    df2 = models[model2_name]['data']\n",
    "                    \n",
    "                    if 'target' in df1.columns and 'target' in df2.columns:\n",
    "                        # ID로 매칭하여 차이 계산 (같은 샘플에 대한 예측 비교)\n",
    "                        merged = pd.merge(df1, df2, on='ID', suffixes=('_1', '_2'))\n",
    "                        \n",
    "                        # 예측이 다른 샘플 비율 계산\n",
    "                        diff_ratio = (merged['target_1'] != merged['target_2']).mean()\n",
    "                        \n",
    "                        # 모델 쌍 이름 생성\n",
    "                        pair_name = f\"{models[model1_name]['model_type']} vs {models[model2_name]['model_type']}\"\n",
    "                        differences[date][pair_name] = {\n",
    "                            'diff_ratio': diff_ratio,\n",
    "                            'diff_count': (merged['target_1'] != merged['target_2']).sum(),\n",
    "                            'total_count': len(merged)\n",
    "                        }\n",
    "                        \n",
    "                        print(f\"📅 {date} - {pair_name}:\")\n",
    "                        print(f\"   예측 차이 비율: {diff_ratio:.1%} ({(merged['target_1'] != merged['target_2']).sum():,}/{len(merged):,})\")\n",
    "    \n",
    "    return differences\n",
    "\n",
    "# 차이 분석 실행\n",
    "prediction_diffs = analyze_prediction_differences()"
   ]
  },
  {
   "cell_type": "code",
   "execution_count": 10,
   "id": "0aeef0ff",
   "metadata": {},
   "outputs": [
    {
     "name": "stdout",
     "output_type": "stream",
     "text": [
      "🔄 예측 차이 차트 저장: notebooks/modular/results_comparison/submission_results_date_comparison/20250907_065923/images/prediction_differences.png\n"
     ]
    },
    {
     "data": {
      "application/vnd.plotly.v1+json": {
       "config": {
        "plotlyServerURL": "https://plot.ly"
       },
       "data": [
        {
         "hovertemplate": "Model_Pair=Swin vs EfficientNet<br>날짜=%{x}<br>예측 차이 비율=%{y}<br>Difference_Count=%{text}<extra></extra>",
         "legendgroup": "Swin vs EfficientNet",
         "marker": {
          "color": "#636efa",
          "pattern": {
           "shape": ""
          }
         },
         "name": "Swin vs EfficientNet",
         "orientation": "v",
         "showlegend": true,
         "text": {
          "bdata": "AAAAAABgbUAAAAAAAGBtQAAAAAAAYG1A",
          "dtype": "f8"
         },
         "textposition": "outside",
         "texttemplate": "%{text}개",
         "type": "bar",
         "x": [
          "20250905",
          "20250906",
          "20250907"
         ],
         "xaxis": "x",
         "y": {
          "bdata": "Fc81q8Mosz8VzzWrwyizPxXPNavDKLM/",
          "dtype": "f8"
         },
         "yaxis": "y"
        }
       ],
       "layout": {
        "barmode": "relative",
        "font": {
         "family": "NanumGothic, Arial, sans-serif"
        },
        "height": 500,
        "legend": {
         "title": {
          "text": "Model_Pair"
         },
         "tracegroupgap": 0
        },
        "template": {
         "data": {
          "bar": [
           {
            "error_x": {
             "color": "#2a3f5f"
            },
            "error_y": {
             "color": "#2a3f5f"
            },
            "marker": {
             "line": {
              "color": "#E5ECF6",
              "width": 0.5
             },
             "pattern": {
              "fillmode": "overlay",
              "size": 10,
              "solidity": 0.2
             }
            },
            "type": "bar"
           }
          ],
          "barpolar": [
           {
            "marker": {
             "line": {
              "color": "#E5ECF6",
              "width": 0.5
             },
             "pattern": {
              "fillmode": "overlay",
              "size": 10,
              "solidity": 0.2
             }
            },
            "type": "barpolar"
           }
          ],
          "carpet": [
           {
            "aaxis": {
             "endlinecolor": "#2a3f5f",
             "gridcolor": "white",
             "linecolor": "white",
             "minorgridcolor": "white",
             "startlinecolor": "#2a3f5f"
            },
            "baxis": {
             "endlinecolor": "#2a3f5f",
             "gridcolor": "white",
             "linecolor": "white",
             "minorgridcolor": "white",
             "startlinecolor": "#2a3f5f"
            },
            "type": "carpet"
           }
          ],
          "choropleth": [
           {
            "colorbar": {
             "outlinewidth": 0,
             "ticks": ""
            },
            "type": "choropleth"
           }
          ],
          "contour": [
           {
            "colorbar": {
             "outlinewidth": 0,
             "ticks": ""
            },
            "colorscale": [
             [
              0,
              "#0d0887"
             ],
             [
              0.1111111111111111,
              "#46039f"
             ],
             [
              0.2222222222222222,
              "#7201a8"
             ],
             [
              0.3333333333333333,
              "#9c179e"
             ],
             [
              0.4444444444444444,
              "#bd3786"
             ],
             [
              0.5555555555555556,
              "#d8576b"
             ],
             [
              0.6666666666666666,
              "#ed7953"
             ],
             [
              0.7777777777777778,
              "#fb9f3a"
             ],
             [
              0.8888888888888888,
              "#fdca26"
             ],
             [
              1,
              "#f0f921"
             ]
            ],
            "type": "contour"
           }
          ],
          "contourcarpet": [
           {
            "colorbar": {
             "outlinewidth": 0,
             "ticks": ""
            },
            "type": "contourcarpet"
           }
          ],
          "heatmap": [
           {
            "colorbar": {
             "outlinewidth": 0,
             "ticks": ""
            },
            "colorscale": [
             [
              0,
              "#0d0887"
             ],
             [
              0.1111111111111111,
              "#46039f"
             ],
             [
              0.2222222222222222,
              "#7201a8"
             ],
             [
              0.3333333333333333,
              "#9c179e"
             ],
             [
              0.4444444444444444,
              "#bd3786"
             ],
             [
              0.5555555555555556,
              "#d8576b"
             ],
             [
              0.6666666666666666,
              "#ed7953"
             ],
             [
              0.7777777777777778,
              "#fb9f3a"
             ],
             [
              0.8888888888888888,
              "#fdca26"
             ],
             [
              1,
              "#f0f921"
             ]
            ],
            "type": "heatmap"
           }
          ],
          "histogram": [
           {
            "marker": {
             "pattern": {
              "fillmode": "overlay",
              "size": 10,
              "solidity": 0.2
             }
            },
            "type": "histogram"
           }
          ],
          "histogram2d": [
           {
            "colorbar": {
             "outlinewidth": 0,
             "ticks": ""
            },
            "colorscale": [
             [
              0,
              "#0d0887"
             ],
             [
              0.1111111111111111,
              "#46039f"
             ],
             [
              0.2222222222222222,
              "#7201a8"
             ],
             [
              0.3333333333333333,
              "#9c179e"
             ],
             [
              0.4444444444444444,
              "#bd3786"
             ],
             [
              0.5555555555555556,
              "#d8576b"
             ],
             [
              0.6666666666666666,
              "#ed7953"
             ],
             [
              0.7777777777777778,
              "#fb9f3a"
             ],
             [
              0.8888888888888888,
              "#fdca26"
             ],
             [
              1,
              "#f0f921"
             ]
            ],
            "type": "histogram2d"
           }
          ],
          "histogram2dcontour": [
           {
            "colorbar": {
             "outlinewidth": 0,
             "ticks": ""
            },
            "colorscale": [
             [
              0,
              "#0d0887"
             ],
             [
              0.1111111111111111,
              "#46039f"
             ],
             [
              0.2222222222222222,
              "#7201a8"
             ],
             [
              0.3333333333333333,
              "#9c179e"
             ],
             [
              0.4444444444444444,
              "#bd3786"
             ],
             [
              0.5555555555555556,
              "#d8576b"
             ],
             [
              0.6666666666666666,
              "#ed7953"
             ],
             [
              0.7777777777777778,
              "#fb9f3a"
             ],
             [
              0.8888888888888888,
              "#fdca26"
             ],
             [
              1,
              "#f0f921"
             ]
            ],
            "type": "histogram2dcontour"
           }
          ],
          "mesh3d": [
           {
            "colorbar": {
             "outlinewidth": 0,
             "ticks": ""
            },
            "type": "mesh3d"
           }
          ],
          "parcoords": [
           {
            "line": {
             "colorbar": {
              "outlinewidth": 0,
              "ticks": ""
             }
            },
            "type": "parcoords"
           }
          ],
          "pie": [
           {
            "automargin": true,
            "type": "pie"
           }
          ],
          "scatter": [
           {
            "fillpattern": {
             "fillmode": "overlay",
             "size": 10,
             "solidity": 0.2
            },
            "type": "scatter"
           }
          ],
          "scatter3d": [
           {
            "line": {
             "colorbar": {
              "outlinewidth": 0,
              "ticks": ""
             }
            },
            "marker": {
             "colorbar": {
              "outlinewidth": 0,
              "ticks": ""
             }
            },
            "type": "scatter3d"
           }
          ],
          "scattercarpet": [
           {
            "marker": {
             "colorbar": {
              "outlinewidth": 0,
              "ticks": ""
             }
            },
            "type": "scattercarpet"
           }
          ],
          "scattergeo": [
           {
            "marker": {
             "colorbar": {
              "outlinewidth": 0,
              "ticks": ""
             }
            },
            "type": "scattergeo"
           }
          ],
          "scattergl": [
           {
            "marker": {
             "colorbar": {
              "outlinewidth": 0,
              "ticks": ""
             }
            },
            "type": "scattergl"
           }
          ],
          "scattermap": [
           {
            "marker": {
             "colorbar": {
              "outlinewidth": 0,
              "ticks": ""
             }
            },
            "type": "scattermap"
           }
          ],
          "scattermapbox": [
           {
            "marker": {
             "colorbar": {
              "outlinewidth": 0,
              "ticks": ""
             }
            },
            "type": "scattermapbox"
           }
          ],
          "scatterpolar": [
           {
            "marker": {
             "colorbar": {
              "outlinewidth": 0,
              "ticks": ""
             }
            },
            "type": "scatterpolar"
           }
          ],
          "scatterpolargl": [
           {
            "marker": {
             "colorbar": {
              "outlinewidth": 0,
              "ticks": ""
             }
            },
            "type": "scatterpolargl"
           }
          ],
          "scatterternary": [
           {
            "marker": {
             "colorbar": {
              "outlinewidth": 0,
              "ticks": ""
             }
            },
            "type": "scatterternary"
           }
          ],
          "surface": [
           {
            "colorbar": {
             "outlinewidth": 0,
             "ticks": ""
            },
            "colorscale": [
             [
              0,
              "#0d0887"
             ],
             [
              0.1111111111111111,
              "#46039f"
             ],
             [
              0.2222222222222222,
              "#7201a8"
             ],
             [
              0.3333333333333333,
              "#9c179e"
             ],
             [
              0.4444444444444444,
              "#bd3786"
             ],
             [
              0.5555555555555556,
              "#d8576b"
             ],
             [
              0.6666666666666666,
              "#ed7953"
             ],
             [
              0.7777777777777778,
              "#fb9f3a"
             ],
             [
              0.8888888888888888,
              "#fdca26"
             ],
             [
              1,
              "#f0f921"
             ]
            ],
            "type": "surface"
           }
          ],
          "table": [
           {
            "cells": {
             "fill": {
              "color": "#EBF0F8"
             },
             "line": {
              "color": "white"
             }
            },
            "header": {
             "fill": {
              "color": "#C8D4E3"
             },
             "line": {
              "color": "white"
             }
            },
            "type": "table"
           }
          ]
         },
         "layout": {
          "annotationdefaults": {
           "arrowcolor": "#2a3f5f",
           "arrowhead": 0,
           "arrowwidth": 1
          },
          "autotypenumbers": "strict",
          "coloraxis": {
           "colorbar": {
            "outlinewidth": 0,
            "ticks": ""
           }
          },
          "colorscale": {
           "diverging": [
            [
             0,
             "#8e0152"
            ],
            [
             0.1,
             "#c51b7d"
            ],
            [
             0.2,
             "#de77ae"
            ],
            [
             0.3,
             "#f1b6da"
            ],
            [
             0.4,
             "#fde0ef"
            ],
            [
             0.5,
             "#f7f7f7"
            ],
            [
             0.6,
             "#e6f5d0"
            ],
            [
             0.7,
             "#b8e186"
            ],
            [
             0.8,
             "#7fbc41"
            ],
            [
             0.9,
             "#4d9221"
            ],
            [
             1,
             "#276419"
            ]
           ],
           "sequential": [
            [
             0,
             "#0d0887"
            ],
            [
             0.1111111111111111,
             "#46039f"
            ],
            [
             0.2222222222222222,
             "#7201a8"
            ],
            [
             0.3333333333333333,
             "#9c179e"
            ],
            [
             0.4444444444444444,
             "#bd3786"
            ],
            [
             0.5555555555555556,
             "#d8576b"
            ],
            [
             0.6666666666666666,
             "#ed7953"
            ],
            [
             0.7777777777777778,
             "#fb9f3a"
            ],
            [
             0.8888888888888888,
             "#fdca26"
            ],
            [
             1,
             "#f0f921"
            ]
           ],
           "sequentialminus": [
            [
             0,
             "#0d0887"
            ],
            [
             0.1111111111111111,
             "#46039f"
            ],
            [
             0.2222222222222222,
             "#7201a8"
            ],
            [
             0.3333333333333333,
             "#9c179e"
            ],
            [
             0.4444444444444444,
             "#bd3786"
            ],
            [
             0.5555555555555556,
             "#d8576b"
            ],
            [
             0.6666666666666666,
             "#ed7953"
            ],
            [
             0.7777777777777778,
             "#fb9f3a"
            ],
            [
             0.8888888888888888,
             "#fdca26"
            ],
            [
             1,
             "#f0f921"
            ]
           ]
          },
          "colorway": [
           "#636efa",
           "#EF553B",
           "#00cc96",
           "#ab63fa",
           "#FFA15A",
           "#19d3f3",
           "#FF6692",
           "#B6E880",
           "#FF97FF",
           "#FECB52"
          ],
          "font": {
           "color": "#2a3f5f"
          },
          "geo": {
           "bgcolor": "white",
           "lakecolor": "white",
           "landcolor": "#E5ECF6",
           "showlakes": true,
           "showland": true,
           "subunitcolor": "white"
          },
          "hoverlabel": {
           "align": "left"
          },
          "hovermode": "closest",
          "mapbox": {
           "style": "light"
          },
          "paper_bgcolor": "white",
          "plot_bgcolor": "#E5ECF6",
          "polar": {
           "angularaxis": {
            "gridcolor": "white",
            "linecolor": "white",
            "ticks": ""
           },
           "bgcolor": "#E5ECF6",
           "radialaxis": {
            "gridcolor": "white",
            "linecolor": "white",
            "ticks": ""
           }
          },
          "scene": {
           "xaxis": {
            "backgroundcolor": "#E5ECF6",
            "gridcolor": "white",
            "gridwidth": 2,
            "linecolor": "white",
            "showbackground": true,
            "ticks": "",
            "zerolinecolor": "white"
           },
           "yaxis": {
            "backgroundcolor": "#E5ECF6",
            "gridcolor": "white",
            "gridwidth": 2,
            "linecolor": "white",
            "showbackground": true,
            "ticks": "",
            "zerolinecolor": "white"
           },
           "zaxis": {
            "backgroundcolor": "#E5ECF6",
            "gridcolor": "white",
            "gridwidth": 2,
            "linecolor": "white",
            "showbackground": true,
            "ticks": "",
            "zerolinecolor": "white"
           }
          },
          "shapedefaults": {
           "line": {
            "color": "#2a3f5f"
           }
          },
          "ternary": {
           "aaxis": {
            "gridcolor": "white",
            "linecolor": "white",
            "ticks": ""
           },
           "baxis": {
            "gridcolor": "white",
            "linecolor": "white",
            "ticks": ""
           },
           "bgcolor": "#E5ECF6",
           "caxis": {
            "gridcolor": "white",
            "linecolor": "white",
            "ticks": ""
           }
          },
          "title": {
           "x": 0.05
          },
          "xaxis": {
           "automargin": true,
           "gridcolor": "white",
           "linecolor": "white",
           "ticks": "",
           "title": {
            "standoff": 15
           },
           "zerolinecolor": "white",
           "zerolinewidth": 2
          },
          "yaxis": {
           "automargin": true,
           "gridcolor": "white",
           "linecolor": "white",
           "ticks": "",
           "title": {
            "standoff": 15
           },
           "zerolinecolor": "white",
           "zerolinewidth": 2
          }
         }
        },
        "title": {
         "text": "🔄 모델간 예측 차이 비율"
        },
        "xaxis": {
         "anchor": "y",
         "domain": [
          0,
          1
         ],
         "title": {
          "text": "날짜"
         }
        },
        "yaxis": {
         "anchor": "x",
         "domain": [
          0,
          1
         ],
         "tickformat": ".1%",
         "title": {
          "text": "예측 차이 비율"
         }
        }
       }
      }
     },
     "metadata": {},
     "output_type": "display_data"
    }
   ],
   "source": [
    "# [10] 예측 차이 시각화 및 저장\n",
    "def plot_prediction_differences(differences):\n",
    "    \"\"\"\n",
    "    모델간 예측 차이를 시각화하는 막대 차트 생성\n",
    "    - 날짜별, 모델 쌍별 차이 비율 표시\n",
    "    - 차이 개수를 텍스트로 표시\n",
    "    - 한글 라벨 및 제목 지원\n",
    "    \"\"\"\n",
    "    if not differences:\n",
    "        print(\"⚠️ 비교할 모델 쌍이 없습니다.\")\n",
    "        return\n",
    "    \n",
    "    # 차이 데이터를 DataFrame으로 변환\n",
    "    diff_data = []\n",
    "    for date, pairs in differences.items():\n",
    "        for pair_name, stats in pairs.items():\n",
    "            diff_data.append({\n",
    "                'Date': date,\n",
    "                'Model_Pair': pair_name,\n",
    "                'Difference_Ratio': stats['diff_ratio'],\n",
    "                'Difference_Count': stats['diff_count'],\n",
    "                'Total_Count': stats['total_count']\n",
    "            })\n",
    "    \n",
    "    if not diff_data:\n",
    "        print(\"⚠️ 차이 데이터가 없습니다.\")\n",
    "        return\n",
    "    \n",
    "    diff_df = pd.DataFrame(diff_data)\n",
    "    \n",
    "    # plotly 막대 차트 생성\n",
    "    fig = px.bar(\n",
    "        diff_df, \n",
    "        x='Date', \n",
    "        y='Difference_Ratio', \n",
    "        color='Model_Pair',\n",
    "        title=\"🔄 모델간 예측 차이 비율\",\n",
    "        labels={'Difference_Ratio': '예측 차이 비율', 'Date': '날짜'},\n",
    "        text='Difference_Count'\n",
    "    )\n",
    "    \n",
    "    # 차트 스타일 설정\n",
    "    fig.update_traces(texttemplate='%{text}개', textposition='outside')\n",
    "    fig.update_layout(\n",
    "        height=500, \n",
    "        yaxis_tickformat='.1%',\n",
    "        font=dict(family=\"NanumGothic, Arial, sans-serif\")  # 한글 폰트 설정\n",
    "    )\n",
    "    \n",
    "    # matplotlib로 이미지 저장 (한글 폰트 적용)\n",
    "    try:\n",
    "        # 한글 폰트 재설정\n",
    "        font_path = './font/NanumGothic.ttf'\n",
    "        fontprop = fm.FontProperties(fname=font_path)\n",
    "        plt.rcParams['font.family'] = 'NanumGothic'\n",
    "        plt.rcParams['axes.unicode_minus'] = False\n",
    "        \n",
    "        # matplotlib 차트 생성\n",
    "        fig_plt, ax = plt.subplots(figsize=(12, 6))\n",
    "        \n",
    "        # 모델 쌍별로 다른 색상 적용\n",
    "        colors = ['#FF6B6B', '#4ECDC4', '#45B7D1', '#96CEB4']\n",
    "        pairs = diff_df['Model_Pair'].unique()\n",
    "        \n",
    "        for i, pair in enumerate(pairs):\n",
    "            pair_data = diff_df[diff_df['Model_Pair'] == pair]\n",
    "            bars = ax.bar(pair_data['Date'], pair_data['Difference_Ratio'], \n",
    "                         color=colors[i % len(colors)], alpha=0.7, label=pair)\n",
    "            \n",
    "            # 차이 개수를 막대 위에 표시\n",
    "            for j, (idx, row) in enumerate(pair_data.iterrows()):\n",
    "                ax.text(row['Date'], row['Difference_Ratio'] + 0.01, \n",
    "                       f\"{row['Difference_Count']}개\", \n",
    "                       ha='center', fontproperties=fontprop, fontsize=9)\n",
    "        \n",
    "        ax.set_title(\"🔄 모델간 예측 차이 비율\", fontproperties=fontprop, fontsize=16)\n",
    "        ax.set_xlabel(\"날짜\", fontproperties=fontprop, fontsize=12)\n",
    "        ax.set_ylabel(\"예측 차이 비율\", fontproperties=fontprop, fontsize=12)\n",
    "        ax.legend(prop=fontprop)\n",
    "        ax.grid(True, alpha=0.3)\n",
    "        \n",
    "        # Y축을 퍼센트로 표시\n",
    "        ax.yaxis.set_major_formatter(plt.FuncFormatter(lambda y, _: '{:.1%}'.format(y)))\n",
    "        \n",
    "        plt.tight_layout()\n",
    "        \n",
    "        # 이미지 저장\n",
    "        save_path = logger.image_dir / \"prediction_differences.png\"\n",
    "        plt.savefig(save_path, dpi=300, bbox_inches='tight', facecolor='white')\n",
    "        plt.close()\n",
    "        \n",
    "        print(f\"🔄 예측 차이 차트 저장: {save_path}\")\n",
    "        \n",
    "    except Exception as e:\n",
    "        print(f\"❌ 이미지 저장 실패: {e}\")\n",
    "    \n",
    "    return fig\n",
    "\n",
    "# 차이 시각화 실행\n",
    "if prediction_diffs:\n",
    "    diff_fig = plot_prediction_differences(prediction_diffs)\n",
    "    if diff_fig:\n",
    "        diff_fig.show()\n",
    "else:\n",
    "    print(\"📝 각 날짜별로 하나의 모델만 있어서 비교할 수 없습니다.\")"
   ]
  },
  {
   "cell_type": "code",
   "execution_count": 11,
   "id": "14c5121d",
   "metadata": {},
   "outputs": [
    {
     "name": "stdout",
     "output_type": "stream",
     "text": [
      "📈 시간별 예측 패턴 분석\n",
      "==================================================\n",
      "\n",
      "📊 모델별 주요 통계:\n",
      "    Date        Model                             Model_Name  Total_Samples  Unique_Classes  Most_Common_Class  Most_Common_Ratio  Entropy\n",
      "20250903      Unknown                     baseline_code_pred           3140              15                  9           0.225796 3.487709\n",
      "20250904      Unknown                                  infer           3140              17                  6           0.197452 3.843412\n",
      "20250905         Swin   swin-sighperf_ensemble_20250905_1522           3140              17                  7           0.069745 4.046079\n",
      "20250905 EfficientNet efficientnet_b3_ensemble_20250905_1345           3140              17                 10           0.075796 4.045544\n",
      "20250906         Swin   swin-sighperf_ensemble_20250906_2213           3140              17                  7           0.069745 4.046079\n",
      "20250906 EfficientNet efficientnet_b3_ensemble_20250906_2157           3140              17                 10           0.075796 4.045544\n",
      "20250907         Swin   swin-sighperf_ensemble_20250907_0035           3140              17                  7           0.069745 4.046079\n",
      "20250907 EfficientNet efficientnet_b3_ensemble_20250907_0016           3140              17                 10           0.075796 4.045544\n"
     ]
    }
   ],
   "source": [
    "# [11] 시간별 성능 추세 분석\n",
    "def analyze_temporal_trends():\n",
    "    \"\"\"\n",
    "    시간에 따른 모델 예측 패턴 변화를 분석\n",
    "    - 각 모델별 예측 다양성(엔트로피) 계산\n",
    "    - 최빈 클래스 비율을 통한 예측 신뢰도 분석\n",
    "    - 시간에 따른 패턴 변화 추적\n",
    "    \"\"\"\n",
    "    print(\"📈 시간별 예측 패턴 분석\")\n",
    "    print(\"=\" * 50)\n",
    "    \n",
    "    # 날짜별 주요 통계 수집\n",
    "    temporal_stats = []\n",
    "    \n",
    "    for date in sorted(submission_data.keys()):\n",
    "        for model_name, info in submission_data[date].items():\n",
    "            df = info['data']\n",
    "            \n",
    "            if 'target' in df.columns:\n",
    "                # 예측 다양성 계산 (Shannon Entropy)\n",
    "                class_probs = df['target'].value_counts(normalize=True)\n",
    "                entropy = -sum(p * np.log2(p) for p in class_probs if p > 0)\n",
    "                \n",
    "                stats = {\n",
    "                    'Date': date,\n",
    "                    'Model': info['model_type'],\n",
    "                    'Model_Name': model_name,\n",
    "                    'Total_Samples': len(df),                                    # 총 샘플 수\n",
    "                    'Unique_Classes': df['target'].nunique(),                    # 예측에 사용된 클래스 수\n",
    "                    'Most_Common_Class': df['target'].mode().iloc[0],            # 최빈 클래스\n",
    "                    'Most_Common_Ratio': df['target'].value_counts().iloc[0] / len(df),  # 최빈 클래스 비율\n",
    "                    'Entropy': entropy                                           # 예측 다양성 (높을수록 다양한 클래스 예측)\n",
    "                }\n",
    "                temporal_stats.append(stats)\n",
    "    \n",
    "    if temporal_stats:\n",
    "        stats_df = pd.DataFrame(temporal_stats)\n",
    "        print(\"\\n📊 모델별 주요 통계:\")\n",
    "        print(stats_df.to_string(index=False))\n",
    "        \n",
    "        return stats_df\n",
    "    else:\n",
    "        print(\"⚠️ 분석할 데이터가 없습니다.\")\n",
    "        return None\n",
    "\n",
    "# 추세 분석 실행\n",
    "temporal_df = analyze_temporal_trends()"
   ]
  },
  {
   "cell_type": "code",
   "execution_count": 12,
   "id": "cff57058",
   "metadata": {},
   "outputs": [
    {
     "name": "stdout",
     "output_type": "stream",
     "text": [
      "📈 시간별 메트릭 차트 저장: notebooks/modular/results_comparison/submission_results_date_comparison/20250907_065923/images/temporal_metrics.png\n"
     ]
    },
    {
     "data": {
      "application/vnd.plotly.v1+json": {
       "config": {
        "plotlyServerURL": "https://plot.ly"
       },
       "data": [
        {
         "line": {
          "color": "#95A5A6",
          "width": 3
         },
         "mode": "lines+markers",
         "name": "Unknown - Classes",
         "type": "scatter",
         "x": [
          "20250903",
          "20250904"
         ],
         "xaxis": "x",
         "y": {
          "bdata": "DxE=",
          "dtype": "i1"
         },
         "yaxis": "y"
        },
        {
         "line": {
          "color": "#95A5A6",
          "dash": "dash",
          "width": 3
         },
         "mode": "lines+markers",
         "name": "Unknown - Dominance",
         "type": "scatter",
         "x": [
          "20250903",
          "20250904"
         ],
         "xaxis": "x2",
         "y": {
          "bdata": "GEfGoOPmzD+qeK5ZHUbJPw==",
          "dtype": "f8"
         },
         "yaxis": "y2"
        },
        {
         "line": {
          "color": "#95A5A6",
          "dash": "dot",
          "width": 3
         },
         "mode": "lines+markers",
         "name": "Unknown - Entropy",
         "type": "scatter",
         "x": [
          "20250903",
          "20250904"
         ],
         "xaxis": "x3",
         "y": {
          "bdata": "rZPBN9TmC0C4p0KTTr8OQA==",
          "dtype": "f8"
         },
         "yaxis": "y3"
        },
        {
         "line": {
          "color": "#95A5A6",
          "dash": "dashdot",
          "width": 3
         },
         "mode": "lines+markers",
         "name": "Unknown - Samples",
         "type": "scatter",
         "x": [
          "20250903",
          "20250904"
         ],
         "xaxis": "x4",
         "y": {
          "bdata": "RAxEDA==",
          "dtype": "i2"
         },
         "yaxis": "y4"
        },
        {
         "line": {
          "color": "#4ECDC4",
          "width": 3
         },
         "mode": "lines+markers",
         "name": "Swin - Classes",
         "type": "scatter",
         "x": [
          "20250905",
          "20250906",
          "20250907"
         ],
         "xaxis": "x",
         "y": {
          "bdata": "ERER",
          "dtype": "i1"
         },
         "yaxis": "y"
        },
        {
         "line": {
          "color": "#4ECDC4",
          "dash": "dash",
          "width": 3
         },
         "mode": "lines+markers",
         "name": "Swin - Dominance",
         "type": "scatter",
         "x": [
          "20250905",
          "20250906",
          "20250907"
         ],
         "xaxis": "x2",
         "y": {
          "bdata": "VUuJq9LasT9VS4mr0tqxP1VLiavS2rE/",
          "dtype": "f8"
         },
         "yaxis": "y2"
        },
        {
         "line": {
          "color": "#4ECDC4",
          "dash": "dot",
          "width": 3
         },
         "mode": "lines+markers",
         "name": "Swin - Entropy",
         "type": "scatter",
         "x": [
          "20250905",
          "20250906",
          "20250907"
         ],
         "xaxis": "x3",
         "y": {
          "bdata": "BygFNS8vEEAHKAU1Ly8QQAcoBTUvLxBA",
          "dtype": "f8"
         },
         "yaxis": "y3"
        },
        {
         "line": {
          "color": "#4ECDC4",
          "dash": "dashdot",
          "width": 3
         },
         "mode": "lines+markers",
         "name": "Swin - Samples",
         "type": "scatter",
         "x": [
          "20250905",
          "20250906",
          "20250907"
         ],
         "xaxis": "x4",
         "y": {
          "bdata": "RAxEDEQM",
          "dtype": "i2"
         },
         "yaxis": "y4"
        },
        {
         "line": {
          "color": "#FF6B6B",
          "width": 3
         },
         "mode": "lines+markers",
         "name": "EfficientNet - Classes",
         "type": "scatter",
         "x": [
          "20250905",
          "20250906",
          "20250907"
         ],
         "xaxis": "x",
         "y": {
          "bdata": "ERER",
          "dtype": "i1"
         },
         "yaxis": "y"
        },
        {
         "line": {
          "color": "#FF6B6B",
          "dash": "dash",
          "width": 3
         },
         "mode": "lines+markers",
         "name": "EfficientNet - Dominance",
         "type": "scatter",
         "x": [
          "20250905",
          "20250906",
          "20250907"
         ],
         "xaxis": "x2",
         "y": {
          "bdata": "yScm22Bnsz/JJybbYGezP8knJttgZ7M/",
          "dtype": "f8"
         },
         "yaxis": "y2"
        },
        {
         "line": {
          "color": "#FF6B6B",
          "dash": "dot",
          "width": 3
         },
         "mode": "lines+markers",
         "name": "EfficientNet - Entropy",
         "type": "scatter",
         "x": [
          "20250905",
          "20250906",
          "20250907"
         ],
         "xaxis": "x3",
         "y": {
          "bdata": "tWGoH6MuEEC1Yagfoy4QQLVhqB+jLhBA",
          "dtype": "f8"
         },
         "yaxis": "y3"
        },
        {
         "line": {
          "color": "#FF6B6B",
          "dash": "dashdot",
          "width": 3
         },
         "mode": "lines+markers",
         "name": "EfficientNet - Samples",
         "type": "scatter",
         "x": [
          "20250905",
          "20250906",
          "20250907"
         ],
         "xaxis": "x4",
         "y": {
          "bdata": "RAxEDEQM",
          "dtype": "i2"
         },
         "yaxis": "y4"
        }
       ],
       "layout": {
        "annotations": [
         {
          "font": {
           "size": 16
          },
          "showarrow": false,
          "text": "📊 예측 클래스 수 변화",
          "x": 0.225,
          "xanchor": "center",
          "xref": "paper",
          "y": 1,
          "yanchor": "bottom",
          "yref": "paper"
         },
         {
          "font": {
           "size": 16
          },
          "showarrow": false,
          "text": "🎯 최빈 클래스 비율 변화",
          "x": 0.775,
          "xanchor": "center",
          "xref": "paper",
          "y": 1,
          "yanchor": "bottom",
          "yref": "paper"
         },
         {
          "font": {
           "size": 16
          },
          "showarrow": false,
          "text": "📈 예측 엔트로피 변화",
          "x": 0.225,
          "xanchor": "center",
          "xref": "paper",
          "y": 0.375,
          "yanchor": "bottom",
          "yref": "paper"
         },
         {
          "font": {
           "size": 16
          },
          "showarrow": false,
          "text": "📋 샘플 수 변화",
          "x": 0.775,
          "xanchor": "center",
          "xref": "paper",
          "y": 0.375,
          "yanchor": "bottom",
          "yref": "paper"
         }
        ],
        "font": {
         "family": "NanumGothic, Arial, sans-serif"
        },
        "height": 800,
        "showlegend": true,
        "template": {
         "data": {
          "bar": [
           {
            "error_x": {
             "color": "#2a3f5f"
            },
            "error_y": {
             "color": "#2a3f5f"
            },
            "marker": {
             "line": {
              "color": "#E5ECF6",
              "width": 0.5
             },
             "pattern": {
              "fillmode": "overlay",
              "size": 10,
              "solidity": 0.2
             }
            },
            "type": "bar"
           }
          ],
          "barpolar": [
           {
            "marker": {
             "line": {
              "color": "#E5ECF6",
              "width": 0.5
             },
             "pattern": {
              "fillmode": "overlay",
              "size": 10,
              "solidity": 0.2
             }
            },
            "type": "barpolar"
           }
          ],
          "carpet": [
           {
            "aaxis": {
             "endlinecolor": "#2a3f5f",
             "gridcolor": "white",
             "linecolor": "white",
             "minorgridcolor": "white",
             "startlinecolor": "#2a3f5f"
            },
            "baxis": {
             "endlinecolor": "#2a3f5f",
             "gridcolor": "white",
             "linecolor": "white",
             "minorgridcolor": "white",
             "startlinecolor": "#2a3f5f"
            },
            "type": "carpet"
           }
          ],
          "choropleth": [
           {
            "colorbar": {
             "outlinewidth": 0,
             "ticks": ""
            },
            "type": "choropleth"
           }
          ],
          "contour": [
           {
            "colorbar": {
             "outlinewidth": 0,
             "ticks": ""
            },
            "colorscale": [
             [
              0,
              "#0d0887"
             ],
             [
              0.1111111111111111,
              "#46039f"
             ],
             [
              0.2222222222222222,
              "#7201a8"
             ],
             [
              0.3333333333333333,
              "#9c179e"
             ],
             [
              0.4444444444444444,
              "#bd3786"
             ],
             [
              0.5555555555555556,
              "#d8576b"
             ],
             [
              0.6666666666666666,
              "#ed7953"
             ],
             [
              0.7777777777777778,
              "#fb9f3a"
             ],
             [
              0.8888888888888888,
              "#fdca26"
             ],
             [
              1,
              "#f0f921"
             ]
            ],
            "type": "contour"
           }
          ],
          "contourcarpet": [
           {
            "colorbar": {
             "outlinewidth": 0,
             "ticks": ""
            },
            "type": "contourcarpet"
           }
          ],
          "heatmap": [
           {
            "colorbar": {
             "outlinewidth": 0,
             "ticks": ""
            },
            "colorscale": [
             [
              0,
              "#0d0887"
             ],
             [
              0.1111111111111111,
              "#46039f"
             ],
             [
              0.2222222222222222,
              "#7201a8"
             ],
             [
              0.3333333333333333,
              "#9c179e"
             ],
             [
              0.4444444444444444,
              "#bd3786"
             ],
             [
              0.5555555555555556,
              "#d8576b"
             ],
             [
              0.6666666666666666,
              "#ed7953"
             ],
             [
              0.7777777777777778,
              "#fb9f3a"
             ],
             [
              0.8888888888888888,
              "#fdca26"
             ],
             [
              1,
              "#f0f921"
             ]
            ],
            "type": "heatmap"
           }
          ],
          "histogram": [
           {
            "marker": {
             "pattern": {
              "fillmode": "overlay",
              "size": 10,
              "solidity": 0.2
             }
            },
            "type": "histogram"
           }
          ],
          "histogram2d": [
           {
            "colorbar": {
             "outlinewidth": 0,
             "ticks": ""
            },
            "colorscale": [
             [
              0,
              "#0d0887"
             ],
             [
              0.1111111111111111,
              "#46039f"
             ],
             [
              0.2222222222222222,
              "#7201a8"
             ],
             [
              0.3333333333333333,
              "#9c179e"
             ],
             [
              0.4444444444444444,
              "#bd3786"
             ],
             [
              0.5555555555555556,
              "#d8576b"
             ],
             [
              0.6666666666666666,
              "#ed7953"
             ],
             [
              0.7777777777777778,
              "#fb9f3a"
             ],
             [
              0.8888888888888888,
              "#fdca26"
             ],
             [
              1,
              "#f0f921"
             ]
            ],
            "type": "histogram2d"
           }
          ],
          "histogram2dcontour": [
           {
            "colorbar": {
             "outlinewidth": 0,
             "ticks": ""
            },
            "colorscale": [
             [
              0,
              "#0d0887"
             ],
             [
              0.1111111111111111,
              "#46039f"
             ],
             [
              0.2222222222222222,
              "#7201a8"
             ],
             [
              0.3333333333333333,
              "#9c179e"
             ],
             [
              0.4444444444444444,
              "#bd3786"
             ],
             [
              0.5555555555555556,
              "#d8576b"
             ],
             [
              0.6666666666666666,
              "#ed7953"
             ],
             [
              0.7777777777777778,
              "#fb9f3a"
             ],
             [
              0.8888888888888888,
              "#fdca26"
             ],
             [
              1,
              "#f0f921"
             ]
            ],
            "type": "histogram2dcontour"
           }
          ],
          "mesh3d": [
           {
            "colorbar": {
             "outlinewidth": 0,
             "ticks": ""
            },
            "type": "mesh3d"
           }
          ],
          "parcoords": [
           {
            "line": {
             "colorbar": {
              "outlinewidth": 0,
              "ticks": ""
             }
            },
            "type": "parcoords"
           }
          ],
          "pie": [
           {
            "automargin": true,
            "type": "pie"
           }
          ],
          "scatter": [
           {
            "fillpattern": {
             "fillmode": "overlay",
             "size": 10,
             "solidity": 0.2
            },
            "type": "scatter"
           }
          ],
          "scatter3d": [
           {
            "line": {
             "colorbar": {
              "outlinewidth": 0,
              "ticks": ""
             }
            },
            "marker": {
             "colorbar": {
              "outlinewidth": 0,
              "ticks": ""
             }
            },
            "type": "scatter3d"
           }
          ],
          "scattercarpet": [
           {
            "marker": {
             "colorbar": {
              "outlinewidth": 0,
              "ticks": ""
             }
            },
            "type": "scattercarpet"
           }
          ],
          "scattergeo": [
           {
            "marker": {
             "colorbar": {
              "outlinewidth": 0,
              "ticks": ""
             }
            },
            "type": "scattergeo"
           }
          ],
          "scattergl": [
           {
            "marker": {
             "colorbar": {
              "outlinewidth": 0,
              "ticks": ""
             }
            },
            "type": "scattergl"
           }
          ],
          "scattermap": [
           {
            "marker": {
             "colorbar": {
              "outlinewidth": 0,
              "ticks": ""
             }
            },
            "type": "scattermap"
           }
          ],
          "scattermapbox": [
           {
            "marker": {
             "colorbar": {
              "outlinewidth": 0,
              "ticks": ""
             }
            },
            "type": "scattermapbox"
           }
          ],
          "scatterpolar": [
           {
            "marker": {
             "colorbar": {
              "outlinewidth": 0,
              "ticks": ""
             }
            },
            "type": "scatterpolar"
           }
          ],
          "scatterpolargl": [
           {
            "marker": {
             "colorbar": {
              "outlinewidth": 0,
              "ticks": ""
             }
            },
            "type": "scatterpolargl"
           }
          ],
          "scatterternary": [
           {
            "marker": {
             "colorbar": {
              "outlinewidth": 0,
              "ticks": ""
             }
            },
            "type": "scatterternary"
           }
          ],
          "surface": [
           {
            "colorbar": {
             "outlinewidth": 0,
             "ticks": ""
            },
            "colorscale": [
             [
              0,
              "#0d0887"
             ],
             [
              0.1111111111111111,
              "#46039f"
             ],
             [
              0.2222222222222222,
              "#7201a8"
             ],
             [
              0.3333333333333333,
              "#9c179e"
             ],
             [
              0.4444444444444444,
              "#bd3786"
             ],
             [
              0.5555555555555556,
              "#d8576b"
             ],
             [
              0.6666666666666666,
              "#ed7953"
             ],
             [
              0.7777777777777778,
              "#fb9f3a"
             ],
             [
              0.8888888888888888,
              "#fdca26"
             ],
             [
              1,
              "#f0f921"
             ]
            ],
            "type": "surface"
           }
          ],
          "table": [
           {
            "cells": {
             "fill": {
              "color": "#EBF0F8"
             },
             "line": {
              "color": "white"
             }
            },
            "header": {
             "fill": {
              "color": "#C8D4E3"
             },
             "line": {
              "color": "white"
             }
            },
            "type": "table"
           }
          ]
         },
         "layout": {
          "annotationdefaults": {
           "arrowcolor": "#2a3f5f",
           "arrowhead": 0,
           "arrowwidth": 1
          },
          "autotypenumbers": "strict",
          "coloraxis": {
           "colorbar": {
            "outlinewidth": 0,
            "ticks": ""
           }
          },
          "colorscale": {
           "diverging": [
            [
             0,
             "#8e0152"
            ],
            [
             0.1,
             "#c51b7d"
            ],
            [
             0.2,
             "#de77ae"
            ],
            [
             0.3,
             "#f1b6da"
            ],
            [
             0.4,
             "#fde0ef"
            ],
            [
             0.5,
             "#f7f7f7"
            ],
            [
             0.6,
             "#e6f5d0"
            ],
            [
             0.7,
             "#b8e186"
            ],
            [
             0.8,
             "#7fbc41"
            ],
            [
             0.9,
             "#4d9221"
            ],
            [
             1,
             "#276419"
            ]
           ],
           "sequential": [
            [
             0,
             "#0d0887"
            ],
            [
             0.1111111111111111,
             "#46039f"
            ],
            [
             0.2222222222222222,
             "#7201a8"
            ],
            [
             0.3333333333333333,
             "#9c179e"
            ],
            [
             0.4444444444444444,
             "#bd3786"
            ],
            [
             0.5555555555555556,
             "#d8576b"
            ],
            [
             0.6666666666666666,
             "#ed7953"
            ],
            [
             0.7777777777777778,
             "#fb9f3a"
            ],
            [
             0.8888888888888888,
             "#fdca26"
            ],
            [
             1,
             "#f0f921"
            ]
           ],
           "sequentialminus": [
            [
             0,
             "#0d0887"
            ],
            [
             0.1111111111111111,
             "#46039f"
            ],
            [
             0.2222222222222222,
             "#7201a8"
            ],
            [
             0.3333333333333333,
             "#9c179e"
            ],
            [
             0.4444444444444444,
             "#bd3786"
            ],
            [
             0.5555555555555556,
             "#d8576b"
            ],
            [
             0.6666666666666666,
             "#ed7953"
            ],
            [
             0.7777777777777778,
             "#fb9f3a"
            ],
            [
             0.8888888888888888,
             "#fdca26"
            ],
            [
             1,
             "#f0f921"
            ]
           ]
          },
          "colorway": [
           "#636efa",
           "#EF553B",
           "#00cc96",
           "#ab63fa",
           "#FFA15A",
           "#19d3f3",
           "#FF6692",
           "#B6E880",
           "#FF97FF",
           "#FECB52"
          ],
          "font": {
           "color": "#2a3f5f"
          },
          "geo": {
           "bgcolor": "white",
           "lakecolor": "white",
           "landcolor": "#E5ECF6",
           "showlakes": true,
           "showland": true,
           "subunitcolor": "white"
          },
          "hoverlabel": {
           "align": "left"
          },
          "hovermode": "closest",
          "mapbox": {
           "style": "light"
          },
          "paper_bgcolor": "white",
          "plot_bgcolor": "#E5ECF6",
          "polar": {
           "angularaxis": {
            "gridcolor": "white",
            "linecolor": "white",
            "ticks": ""
           },
           "bgcolor": "#E5ECF6",
           "radialaxis": {
            "gridcolor": "white",
            "linecolor": "white",
            "ticks": ""
           }
          },
          "scene": {
           "xaxis": {
            "backgroundcolor": "#E5ECF6",
            "gridcolor": "white",
            "gridwidth": 2,
            "linecolor": "white",
            "showbackground": true,
            "ticks": "",
            "zerolinecolor": "white"
           },
           "yaxis": {
            "backgroundcolor": "#E5ECF6",
            "gridcolor": "white",
            "gridwidth": 2,
            "linecolor": "white",
            "showbackground": true,
            "ticks": "",
            "zerolinecolor": "white"
           },
           "zaxis": {
            "backgroundcolor": "#E5ECF6",
            "gridcolor": "white",
            "gridwidth": 2,
            "linecolor": "white",
            "showbackground": true,
            "ticks": "",
            "zerolinecolor": "white"
           }
          },
          "shapedefaults": {
           "line": {
            "color": "#2a3f5f"
           }
          },
          "ternary": {
           "aaxis": {
            "gridcolor": "white",
            "linecolor": "white",
            "ticks": ""
           },
           "baxis": {
            "gridcolor": "white",
            "linecolor": "white",
            "ticks": ""
           },
           "bgcolor": "#E5ECF6",
           "caxis": {
            "gridcolor": "white",
            "linecolor": "white",
            "ticks": ""
           }
          },
          "title": {
           "x": 0.05
          },
          "xaxis": {
           "automargin": true,
           "gridcolor": "white",
           "linecolor": "white",
           "ticks": "",
           "title": {
            "standoff": 15
           },
           "zerolinecolor": "white",
           "zerolinewidth": 2
          },
          "yaxis": {
           "automargin": true,
           "gridcolor": "white",
           "linecolor": "white",
           "ticks": "",
           "title": {
            "standoff": 15
           },
           "zerolinecolor": "white",
           "zerolinewidth": 2
          }
         }
        },
        "title": {
         "font": {
          "size": 20
         },
         "text": "📊 시간별 모델 성능 및 예측 패턴 분석"
        },
        "xaxis": {
         "anchor": "y",
         "domain": [
          0,
          0.45
         ]
        },
        "xaxis2": {
         "anchor": "y2",
         "domain": [
          0.55,
          1
         ]
        },
        "xaxis3": {
         "anchor": "y3",
         "domain": [
          0,
          0.45
         ]
        },
        "xaxis4": {
         "anchor": "y4",
         "domain": [
          0.55,
          1
         ]
        },
        "yaxis": {
         "anchor": "x",
         "domain": [
          0.625,
          1
         ]
        },
        "yaxis2": {
         "anchor": "x2",
         "domain": [
          0.625,
          1
         ]
        },
        "yaxis3": {
         "anchor": "x3",
         "domain": [
          0,
          0.375
         ]
        },
        "yaxis4": {
         "anchor": "x4",
         "domain": [
          0,
          0.375
         ]
        }
       }
      }
     },
     "metadata": {},
     "output_type": "display_data"
    }
   ],
   "source": [
    "# [12] 예측 신뢰도 및 다양성 시각화\n",
    "def plot_temporal_metrics(stats_df):\n",
    "    \"\"\"\n",
    "    시간에 따른 모델 성능 메트릭을 4개 서브플롯으로 시각화\n",
    "    - 예측 클래스 수 변화\n",
    "    - 최빈 클래스 비율 변화 (예측 집중도)\n",
    "    - 예측 엔트로피 변화 (예측 다양성)\n",
    "    - 샘플 수 변화\n",
    "    \"\"\"\n",
    "    if stats_df is None or len(stats_df) == 0:\n",
    "        print(\"⚠️ 시각화할 데이터가 없습니다.\")\n",
    "        return\n",
    "    \n",
    "    # 2x2 서브플롯 생성\n",
    "    fig = make_subplots(\n",
    "        rows=2, cols=2,\n",
    "        subplot_titles=[\n",
    "            \"📊 예측 클래스 수 변화\",\n",
    "            \"🎯 최빈 클래스 비율 변화\", \n",
    "            \"📈 예측 엔트로피 변화\",\n",
    "            \"📋 샘플 수 변화\"\n",
    "        ],\n",
    "        specs=[[{\"secondary_y\": False}, {\"secondary_y\": False}],\n",
    "               [{\"secondary_y\": False}, {\"secondary_y\": False}]]\n",
    "    )\n",
    "    \n",
    "    # 모델별 색상 매핑\n",
    "    colors = {'EfficientNet': '#FF6B6B', 'Swin': '#4ECDC4', 'Unknown': '#95A5A6'}\n",
    "    \n",
    "    # 각 모델별로 시계열 데이터 추가\n",
    "    for model_type in stats_df['Model'].unique():\n",
    "        model_data = stats_df[stats_df['Model'] == model_type].sort_values('Date')\n",
    "        color = colors.get(model_type, '#95A5A6')\n",
    "        \n",
    "        # 1. 예측 클래스 수 (다양성 지표)\n",
    "        fig.add_trace(\n",
    "            go.Scatter(\n",
    "                x=model_data['Date'], \n",
    "                y=model_data['Unique_Classes'],\n",
    "                name=f\"{model_type} - Classes\",\n",
    "                line=dict(color=color, width=3),\n",
    "                mode='lines+markers'\n",
    "            ), row=1, col=1\n",
    "        )\n",
    "        \n",
    "        # 2. 최빈 클래스 비율 (예측 집중도)\n",
    "        fig.add_trace(\n",
    "            go.Scatter(\n",
    "                x=model_data['Date'], \n",
    "                y=model_data['Most_Common_Ratio'],\n",
    "                name=f\"{model_type} - Dominance\",\n",
    "                line=dict(color=color, width=3, dash='dash'),\n",
    "                mode='lines+markers'\n",
    "            ), row=1, col=2\n",
    "        )\n",
    "        \n",
    "        # 3. 엔트로피 (예측 다양성)\n",
    "        fig.add_trace(\n",
    "            go.Scatter(\n",
    "                x=model_data['Date'], \n",
    "                y=model_data['Entropy'],\n",
    "                name=f\"{model_type} - Entropy\",\n",
    "                line=dict(color=color, width=3, dash='dot'),\n",
    "                mode='lines+markers'\n",
    "            ), row=2, col=1\n",
    "        )\n",
    "        \n",
    "        # 4. 샘플 수\n",
    "        fig.add_trace(\n",
    "            go.Scatter(\n",
    "                x=model_data['Date'], \n",
    "                y=model_data['Total_Samples'],\n",
    "                name=f\"{model_type} - Samples\",\n",
    "                line=dict(color=color, width=3, dash='dashdot'),\n",
    "                mode='lines+markers'\n",
    "            ), row=2, col=2\n",
    "        )\n",
    "    \n",
    "    fig.update_layout(\n",
    "        height=800,\n",
    "        title=\"📊 시간별 모델 성능 및 예측 패턴 분석\",\n",
    "        title_font_size=20,\n",
    "        showlegend=True,\n",
    "        font=dict(family=\"NanumGothic, Arial, sans-serif\")  # 한글 폰트 설정\n",
    "    )\n",
    "    \n",
    "    # matplotlib로 이미지 저장 (한글 폰트 적용)\n",
    "    try:\n",
    "        # 한글 폰트 재설정\n",
    "        font_path = './font/NanumGothic.ttf'\n",
    "        fontprop = fm.FontProperties(fname=font_path)\n",
    "        plt.rcParams['font.family'] = 'NanumGothic'\n",
    "        plt.rcParams['axes.unicode_minus'] = False\n",
    "        \n",
    "        # 2x2 서브플롯 생성\n",
    "        fig_plt, axes = plt.subplots(2, 2, figsize=(15, 10))\n",
    "        \n",
    "        metrics = [\n",
    "            ('Unique_Classes', '📊 예측 클래스 수 변화', 'Classes'),\n",
    "            ('Most_Common_Ratio', '🎯 최빈 클래스 비율 변화', 'Dominance'), \n",
    "            ('Entropy', '📈 예측 엔트로피 변화', 'Entropy'),\n",
    "            ('Total_Samples', '📋 샘플 수 변화', 'Samples')\n",
    "        ]\n",
    "        \n",
    "        for idx, (metric, title, suffix) in enumerate(metrics):\n",
    "            row, col = idx // 2, idx % 2\n",
    "            ax = axes[row, col]\n",
    "            \n",
    "            for model_type in stats_df['Model'].unique():\n",
    "                model_data = stats_df[stats_df['Model'] == model_type].sort_values('Date')\n",
    "                color = colors.get(model_type, '#95A5A6')\n",
    "                \n",
    "                ax.plot(model_data['Date'], model_data[metric], \n",
    "                       color=color, linewidth=2, marker='o', \n",
    "                       label=f\"{model_type}\")\n",
    "            \n",
    "            ax.set_title(title, fontproperties=fontprop, fontsize=12)\n",
    "            ax.set_xlabel(\"날짜\", fontproperties=fontprop)\n",
    "            ax.legend(prop=fontprop)\n",
    "            ax.grid(True, alpha=0.3)\n",
    "            \n",
    "            # 날짜 라벨 회전\n",
    "            plt.setp(ax.get_xticklabels(), rotation=45)\n",
    "        \n",
    "        plt.suptitle(\"📊 시간별 모델 성능 및 예측 패턴 분석\", \n",
    "                    fontproperties=fontprop, fontsize=16)\n",
    "        plt.tight_layout()\n",
    "        \n",
    "        # 이미지 저장\n",
    "        save_path = logger.image_dir / \"temporal_metrics.png\"\n",
    "        plt.savefig(save_path, dpi=300, bbox_inches='tight', facecolor='white')\n",
    "        plt.close()\n",
    "        \n",
    "        print(f\"📈 시간별 메트릭 차트 저장: {save_path}\")\n",
    "        \n",
    "    except Exception as e:\n",
    "        print(f\"❌ 이미지 저장 실패: {e}\")\n",
    "    \n",
    "    return fig\n",
    "\n",
    "# 시간별 메트릭 시각화\n",
    "if temporal_df is not None:\n",
    "    temporal_fig = plot_temporal_metrics(temporal_df)\n",
    "    if temporal_fig:\n",
    "        temporal_fig.show()"
   ]
  },
  {
   "cell_type": "code",
   "execution_count": 13,
   "id": "86716895",
   "metadata": {},
   "outputs": [
    {
     "name": "stdout",
     "output_type": "stream",
     "text": [
      "🎯 Submission 결과 분석 종합 리포트\n",
      "============================================================\n",
      "\n",
      "📋 데이터 현황:\n",
      "   - 분석 기간: 20250903 ~ 20250907\n",
      "   - 총 실험 날짜: 5일\n",
      "   - 총 제출 파일: 8개\n",
      "\n",
      "🤖 모델별 제출 현황:\n",
      "   - Unknown: 2개 파일\n",
      "   - Swin: 3개 파일\n",
      "   - EfficientNet: 3개 파일\n",
      "\n",
      "💡 주요 인사이트:\n",
      "   📈 예측 다양성이 시간에 따라 증가하는 추세 (+0.140)\n",
      "   🎯 활용 클래스 범위: 15~17개 (총 17개 중)\n",
      "   🔍 Unknown: 평균 엔트로피 3.67, 최빈클래스 비율 21.2%\n",
      "   🔍 Swin: 평균 엔트로피 4.05, 최빈클래스 비율 7.0%\n",
      "   🔍 EfficientNet: 평균 엔트로피 4.05, 최빈클래스 비율 7.6%\n",
      "\n",
      "🔄 모델간 예측 차이:\n",
      "   📅 20250905 Swin vs EfficientNet: 7.5% 차이\n",
      "   📅 20250906 Swin vs EfficientNet: 7.5% 차이\n",
      "   📅 20250907 Swin vs EfficientNet: 7.5% 차이\n",
      "\n",
      "✅ 권장사항:\n",
      "   1. 모델별 예측 패턴이 다르므로 앙상블 효과를 기대할 수 있음\n",
      "   2. 시간에 따른 성능 변화를 추적하여 최적 모델 선택\n",
      "   3. 예측 신뢰도가 낮은 샘플들에 대한 추가 분석 권장\n",
      "   4. 정기적인 submission 결과 모니터링으로 성능 추세 파악\n"
     ]
    }
   ],
   "source": [
    "# [13] 종합 결론 및 인사이트 생성\n",
    "def generate_insights():\n",
    "    \"\"\"\n",
    "    전체 분석 결과를 종합하여 인사이트 리포트 생성\n",
    "    - 데이터 현황 요약\n",
    "    - 모델별 특성 분석\n",
    "    - 시간별 추세 분석\n",
    "    - 실무 권장사항 제시\n",
    "    \"\"\"\n",
    "    print(\"🎯 Submission 결과 분석 종합 리포트\")\n",
    "    print(\"=\" * 60)\n",
    "    \n",
    "    # 1. 파일 현황 요약\n",
    "    total_dates = len(submission_data)\n",
    "    total_files = sum(len(models) for models in submission_data.values())\n",
    "    \n",
    "    print(f\"\\n📋 데이터 현황:\")\n",
    "    print(f\"   - 분석 기간: {min(submission_data.keys())} ~ {max(submission_data.keys())}\")\n",
    "    print(f\"   - 총 실험 날짜: {total_dates}일\")\n",
    "    print(f\"   - 총 제출 파일: {total_files}개\")\n",
    "    \n",
    "    # 2. 모델별 현황\n",
    "    model_counts = {}\n",
    "    for models in submission_data.values():\n",
    "        for info in models.values():\n",
    "            model_type = info['model_type']\n",
    "            model_counts[model_type] = model_counts.get(model_type, 0) + 1\n",
    "    \n",
    "    print(f\"\\n🤖 모델별 제출 현황:\")\n",
    "    for model_type, count in model_counts.items():\n",
    "        print(f\"   - {model_type}: {count}개 파일\")\n",
    "    \n",
    "    # 3. 주요 인사이트 (시간별 분석 결과 기반)\n",
    "    print(f\"\\n💡 주요 인사이트:\")\n",
    "    \n",
    "    if temporal_df is not None and len(temporal_df) > 0:\n",
    "        # 엔트로피 변화\n",
    "        entropy_trend = temporal_df.groupby('Date')['Entropy'].mean().diff().mean()\n",
    "        if entropy_trend > 0:\n",
    "            print(f\"   📈 예측 다양성이 시간에 따라 증가하는 추세 (+{entropy_trend:.3f})\")\n",
    "        elif entropy_trend < 0:\n",
    "            print(f\"   📉 예측이 시간에 따라 더 확신적으로 변화 ({entropy_trend:.3f})\")\n",
    "        else:\n",
    "            print(f\"   ➡️  예측 패턴이 비교적 안정적\")\n",
    "        \n",
    "        # 클래스 수 변화\n",
    "        max_classes = temporal_df['Unique_Classes'].max()\n",
    "        min_classes = temporal_df['Unique_Classes'].min()\n",
    "        print(f\"   🎯 활용 클래스 범위: {min_classes}~{max_classes}개 (총 17개 중)\")\n",
    "        \n",
    "        # 모델별 특성\n",
    "        for model_type in temporal_df['Model'].unique():\n",
    "            model_data = temporal_df[temporal_df['Model'] == model_type]\n",
    "            avg_entropy = model_data['Entropy'].mean()\n",
    "            avg_dominance = model_data['Most_Common_Ratio'].mean()\n",
    "            print(f\"   🔍 {model_type}: 평균 엔트로피 {avg_entropy:.2f}, 최빈클래스 비율 {avg_dominance:.1%}\")\n",
    "    \n",
    "    # 4. 차이 분석 결과\n",
    "    if prediction_diffs:\n",
    "        print(f\"\\n🔄 모델간 예측 차이:\")\n",
    "        for date, pairs in prediction_diffs.items():\n",
    "            for pair_name, stats in pairs.items():\n",
    "                print(f\"   📅 {date} {pair_name}: {stats['diff_ratio']:.1%} 차이\")\n",
    "    else:\n",
    "        print(f\"\\n🔄 모델간 예측 차이: 각 날짜별 단일 모델로 비교 불가\")\n",
    "    \n",
    "    # 5. 권장사항\n",
    "    print(f\"\\n✅ 권장사항:\")\n",
    "    print(f\"   1. 모델별 예측 패턴이 다르므로 앙상블 효과를 기대할 수 있음\")\n",
    "    print(f\"   2. 시간에 따른 성능 변화를 추적하여 최적 모델 선택\")\n",
    "    print(f\"   3. 예측 신뢰도가 낮은 샘플들에 대한 추가 분석 권장\")\n",
    "    print(f\"   4. 정기적인 submission 결과 모니터링으로 성능 추세 파악\")\n",
    "\n",
    "# 인사이트 생성\n",
    "generate_insights()"
   ]
  },
  {
   "cell_type": "code",
   "execution_count": 14,
   "id": "6b1672ea",
   "metadata": {},
   "outputs": [
    {
     "name": "stdout",
     "output_type": "stream",
     "text": [
      "📋 분석 완료 - 결과 파일 확인\n",
      "==================================================\n",
      "\n",
      "📁 저장 위치:\n",
      "   📊 로그 파일: notebooks/modular/results_comparison/submission_results_date_comparison/20250907_065923/logs\n",
      "   🖼️  이미지 파일: notebooks/modular/results_comparison/submission_results_date_comparison/20250907_065923/images\n",
      "🕐 실행 시간: 20250907_065923\n",
      "\n",
      "📄 저장된 로그 파일 (1개):\n",
      "   📎 submission_results_date_comparison_20250907_065923.log (327 bytes)\n",
      "\n",
      "🖼️  저장된 이미지 파일 (3개):\n",
      "   🖼️  prediction_differences.png (108,979 bytes)\n",
      "   🖼️  temporal_metrics.png (334,204 bytes)\n",
      "   🖼️  prediction_distribution.png (435,244 bytes)\n",
      "\n",
      "✅ 모든 결과가 성공적으로 저장되었습니다!\n",
      "   🖼️  시각화 이미지: PNG 형태로 한글 폰트 적용하여 images 폴더에 저장\n",
      "   📊 분석 리포트: 텍스트 형태로 주요 인사이트 저장\n",
      "\n",
      "🎯 분석 대상:\n",
      "   📅 기간: 20250903 ~ 20250907\n",
      "   📊 총 파일: 8개\n",
      "   🤖 모델 종류: 3가지\n",
      "\n",
      "💡 다음 단계:\n",
      "   1. 저장된 이미지 파일에서 한글 표시 확인\n",
      "   2. 분석 리포트 검토 및 인사이트 활용\n",
      "   3. 추가 submission 파일 생성 시 재실행\n",
      "   4. 모델 개선 방향 결정을 위한 참고 자료 활용\n"
     ]
    }
   ],
   "source": [
    "# [14] 실행 결과 요약 및 저장된 파일 확인\n",
    "print(\"📋 분석 완료 - 결과 파일 확인\")\n",
    "print(\"=\" * 50)\n",
    "\n",
    "# 저장된 파일들 확인\n",
    "import os\n",
    "saved_files = []\n",
    "image_files = []\n",
    "\n",
    "# 로그 디렉토리의 모든 파일 확인\n",
    "if logger.log_dir.exists():\n",
    "    for file_path in logger.log_dir.iterdir():\n",
    "        if file_path.is_file():\n",
    "            file_size = file_path.stat().st_size\n",
    "            saved_files.append({\n",
    "                'name': file_path.name,\n",
    "                'size': f\"{file_size:,} bytes\",\n",
    "                'path': str(file_path)\n",
    "            })\n",
    "\n",
    "# 이미지 디렉토리의 모든 파일 확인\n",
    "if logger.image_dir.exists():\n",
    "    for file_path in logger.image_dir.iterdir():\n",
    "        if file_path.is_file():\n",
    "            file_size = file_path.stat().st_size\n",
    "            image_files.append({\n",
    "                'name': file_path.name,\n",
    "                'size': f\"{file_size:,} bytes\",\n",
    "                'path': str(file_path)\n",
    "            })\n",
    "\n",
    "print(f\"\\n📁 저장 위치:\")\n",
    "print(f\"   📊 로그 파일: {logger.log_dir}\")\n",
    "print(f\"   🖼️  이미지 파일: {logger.image_dir}\")\n",
    "print(f\"🕐 실행 시간: {logger.timestamp}\")\n",
    "\n",
    "if saved_files:\n",
    "    print(f\"\\n📄 저장된 로그 파일 ({len(saved_files)}개):\")\n",
    "    for file_info in saved_files:\n",
    "        print(f\"   📎 {file_info['name']} ({file_info['size']})\")\n",
    "\n",
    "if image_files:\n",
    "    print(f\"\\n🖼️  저장된 이미지 파일 ({len(image_files)}개):\")\n",
    "    for file_info in image_files:\n",
    "        print(f\"   🖼️  {file_info['name']} ({file_info['size']})\")\n",
    "        \n",
    "    print(f\"\\n✅ 모든 결과가 성공적으로 저장되었습니다!\")\n",
    "    print(f\"   🖼️  시각화 이미지: PNG 형태로 한글 폰트 적용하여 images 폴더에 저장\")\n",
    "    print(f\"   📊 분석 리포트: 텍스트 형태로 주요 인사이트 저장\")\n",
    "else:\n",
    "    print(\"\\n⚠️ 저장된 이미지 파일이 없습니다.\")\n",
    "\n",
    "print(f\"\\n🎯 분석 대상:\")\n",
    "print(f\"   📅 기간: {min(submission_data.keys()) if submission_data else 'N/A'} ~ {max(submission_data.keys()) if submission_data else 'N/A'}\")\n",
    "print(f\"   📊 총 파일: {sum(len(models) for models in submission_data.values())}개\")\n",
    "print(f\"   🤖 모델 종류: {len(set(info['model_type'] for models in submission_data.values() for info in models.values()))}가지\")\n",
    "\n",
    "print(f\"\\n💡 다음 단계:\")\n",
    "print(f\"   1. 저장된 이미지 파일에서 한글 표시 확인\")\n",
    "print(f\"   2. 분석 리포트 검토 및 인사이트 활용\")\n",
    "print(f\"   3. 추가 submission 파일 생성 시 재실행\")\n",
    "print(f\"   4. 모델 개선 방향 결정을 위한 참고 자료 활용\")"
   ]
  },
  {
   "cell_type": "code",
   "execution_count": 15,
   "id": "1ae79a1c",
   "metadata": {},
   "outputs": [
    {
     "name": "stdout",
     "output_type": "stream",
     "text": [
      "🔍 한글 폰트 적용 확인 테스트\n",
      "========================================\n"
     ]
    },
    {
     "data": {
      "image/png": "[encoded data removed]",
      "text/plain": [
       "<Figure size 800x500 with 1 Axes>"
      ]
     },
     "metadata": {},
     "output_type": "display_data"
    },
    {
     "name": "stdout",
     "output_type": "stream",
     "text": [
      "✅ 한글 폰트 테스트 차트 저장: notebooks/modular/results_comparison/submission_results_date_comparison/20250907_065923/images/korean_font_test.png\n",
      "📌 저장된 이미지를 확인하여 한글이 정상적으로 표시되는지 검증하세요.\n",
      "\n",
      "🎉 노트북 실행 완료!\n",
      "📁 주요 결과 저장 위치:\n",
      "   🖼️  이미지 파일: notebooks/modular/results_comparison/submission_results_date_comparison/20250907_065923/images\n",
      "   📊 로그 파일: notebooks/modular/results_comparison/submission_results_date_comparison/20250907_065923/logs\n",
      "\n",
      "📋 생성된 분석 차트:\n",
      "   1. prediction_distribution.png - 날짜별/모델별 예측 클래스 분포\n",
      "   2. prediction_differences.png - 모델간 예측 차이 비율\n",
      "   3. temporal_metrics.png - 시간별 모델 성능 메트릭\n",
      "   4. korean_font_test.png - 한글 폰트 적용 확인\n",
      "\n",
      "✅ 모든 차트에 한글 폰트(나눔고딕)가 적용되어 images 폴더에 저장되었습니다!\n"
     ]
    }
   ],
   "source": [
    "# [15] 한글 폰트 적용 확인 테스트\n",
    "# 저장된 이미지에서 한글이 제대로 표시되는지 확인하기 위한 간단한 테스트 차트 생성\n",
    "print(\"🔍 한글 폰트 적용 확인 테스트\")\n",
    "print(\"=\" * 40)\n",
    "\n",
    "try:\n",
    "    # 한글 폰트 재설정\n",
    "    font_path = './font/NanumGothic.ttf'\n",
    "    fontprop = fm.FontProperties(fname=font_path)\n",
    "    plt.rcParams['font.family'] = 'NanumGothic'\n",
    "    plt.rcParams['axes.unicode_minus'] = False\n",
    "    \n",
    "    # 간단한 테스트 차트 생성\n",
    "    fig, ax = plt.subplots(figsize=(8, 5))\n",
    "    \n",
    "    # 한글 텍스트 포함 데이터\n",
    "    categories = ['모델 A', '모델 B', '모델 C']\n",
    "    values = [85, 92, 78]\n",
    "    colors = ['#FF6B6B', '#4ECDC4', '#45B7D1']\n",
    "    \n",
    "    bars = ax.bar(categories, values, color=colors, alpha=0.7)\n",
    "    \n",
    "    # 한글 제목과 라벨 설정\n",
    "    ax.set_title('📊 모델별 성능 비교 (한글 폰트 테스트)', fontproperties=fontprop, fontsize=16)\n",
    "    ax.set_xlabel('모델 종류', fontproperties=fontprop, fontsize=12)\n",
    "    ax.set_ylabel('성능 점수', fontproperties=fontprop, fontsize=12)\n",
    "    \n",
    "    # 막대 위에 값 표시\n",
    "    for bar, value in zip(bars, values):\n",
    "        height = bar.get_height()\n",
    "        ax.text(bar.get_x() + bar.get_width()/2., height + 1,\n",
    "                f'{value}점', ha='center', va='bottom', fontproperties=fontprop)\n",
    "    \n",
    "    # 한글 텍스트 추가\n",
    "    ax.text(0.5, 0.95, '✅ 한글 폰트가 정상적으로 표시됩니다!', \n",
    "            transform=ax.transAxes, ha='center', va='top', \n",
    "            fontproperties=fontprop, fontsize=14, \n",
    "            bbox=dict(boxstyle=\"round,pad=0.3\", facecolor=\"lightgreen\", alpha=0.7))\n",
    "    \n",
    "    ax.grid(True, alpha=0.3)\n",
    "    plt.tight_layout()\n",
    "    \n",
    "    # 테스트 이미지 저장\n",
    "    test_save_path = logger.image_dir / \"korean_font_test.png\"\n",
    "    plt.savefig(test_save_path, dpi=300, bbox_inches='tight', facecolor='white')\n",
    "    plt.show()\n",
    "    plt.close()\n",
    "    \n",
    "    print(f\"✅ 한글 폰트 테스트 차트 저장: {test_save_path}\")\n",
    "    print(\"📌 저장된 이미지를 확인하여 한글이 정상적으로 표시되는지 검증하세요.\")\n",
    "    \n",
    "except Exception as e:\n",
    "    print(f\"❌ 한글 폰트 테스트 실패: {e}\")\n",
    "\n",
    "# 전체 실행 결과 요약\n",
    "print(f\"\\n🎉 노트북 실행 완료!\")\n",
    "print(f\"📁 주요 결과 저장 위치:\")\n",
    "print(f\"   🖼️  이미지 파일: {logger.image_dir}\")\n",
    "print(f\"   📊 로그 파일: {logger.log_dir}\")\n",
    "print(f\"\\n📋 생성된 분석 차트:\")\n",
    "print(f\"   1. prediction_distribution.png - 날짜별/모델별 예측 클래스 분포\")\n",
    "print(f\"   2. prediction_differences.png - 모델간 예측 차이 비율\")  \n",
    "print(f\"   3. temporal_metrics.png - 시간별 모델 성능 메트릭\")\n",
    "print(f\"   4. korean_font_test.png - 한글 폰트 적용 확인\")\n",
    "print(f\"\\n✅ 모든 차트에 한글 폰트(나눔고딕)가 적용되어 images 폴더에 저장되었습니다!\")"
   ]
  },
  {
   "cell_type": "markdown",
   "id": "25a02fd8",
   "metadata": {},
   "source": [
    "## 📝 사용법 가이드\n",
    "\n",
    "### 1. **노트북 실행**\n",
    "```bash\n",
    "# 노트북 실행\n",
    "cd /path/to/computer-vision-competition-1SEN\n",
    "jupyter notebook notebooks/modular/submission_results_comparison.ipynb\n",
    "```\n",
    "\n",
    "### 2. **새로운 submission 추가 시**\n",
    "- 새 CSV 파일을 `submissions/YYYYMMDD/` 폴더에 저장\n",
    "- 노트북의 모든 셀을 다시 실행\n",
    "- 자동으로 새로운 결과가 분석에 포함됨\n",
    "\n",
    "### 3. **커스터마이징**\n",
    "- `submissions_dir` 경로 수정으로 다른 폴더 분석 가능\n",
    "- 모델명 추출 로직 수정으로 다양한 명명 규칙 지원\n",
    "- 시각화 스타일 및 색상 커스터마이징 가능\n",
    "\n",
    "### 4. **활용 시나리오**\n",
    "- **일일 결과 리뷰**: 매일 실험 후 성능 변화 확인\n",
    "- **모델 비교**: 동일 조건에서 다른 모델의 예측 패턴 비교\n",
    "- **앙상블 전략**: 모델간 차이점을 활용한 앙상블 방법 결정\n",
    "- **성능 추세**: 장기적인 모델 개선 방향 설정\n",
    "\n",
    "---\n",
    "**💡 Tip**: 이 노트북을 정기적으로 실행하여 submission 결과의 일관성과 개선 추세를 모니터링하세요!"
   ]
  }
 ],
 "metadata": {
  "kernelspec": {
   "display_name": "cv_py3_11_9",
   "language": "python",
   "name": "python3"
  },
  "language_info": {
   "codemirror_mode": {
    "name": "ipython",
    "version": 3
   },
   "file_extension": ".py",
   "mimetype": "text/x-python",
   "name": "python",
   "nbconvert_exporter": "python",
   "pygments_lexer": "ipython3",
   "version": "3.11.9"
  }
 },
 "nbformat": 4,
 "nbformat_minor": 5
}
