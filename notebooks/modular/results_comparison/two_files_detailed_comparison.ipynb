{
 "cells": [
  {
   "cell_type": "markdown",
   "id": "5b29b491",
   "metadata": {},
   "source": [
    "# 🔍 Two Submission Files Detailed Comparison\n",
    "\n",
    "**목적**: 두 개의 submission CSV 파일을 선택하여 상세하게 비교 분석합니다.\n",
    "\n",
    "## 📋 분석 내용\n",
    "1. **파일 선택**: 비교할 두 CSV 파일 지정\n",
    "2. **전체 데이터 비교**: 기본 통계 및 분포 비교\n",
    "3. **차이점 추출**: 예측이 다른 행들만 따로 추출\n",
    "4. **상세 분석**: 차이나는 샘플들의 패턴 분석\n",
    "5. **시각화**: 다양한 차트로 비교 결과 시각화\n",
    "6. **결과 내보내기**: 차이점 데이터를 CSV로 저장"
   ]
  },
  {
   "cell_type": "code",
   "execution_count": 1,
   "id": "1cc47497",
   "metadata": {},
   "outputs": [
    {
     "name": "stdout",
     "output_type": "stream",
     "text": [
      "현재 작업 디렉토리: /home/ieyeppo/AI_Lab/computer-vision-competition-1SEN\n"
     ]
    }
   ],
   "source": [
    "# [1] 프로젝트 루트 디렉토리로 이동\n",
    "# 노트북이 modular/results_comparison 폴더에 있으므로 3단계 상위로 이동\n",
    "import os\n",
    "import sys\n",
    "from pathlib import Path\n",
    "\n",
    "# 현재 작업 디렉토리를 프로젝트 루트로 변경 (submissions, src 폴더 접근을 위해)\n",
    "os.chdir(\"../../../\")\n",
    "print(\"현재 작업 디렉토리:\", os.getcwd())\n",
    "\n",
    "# NotebookLogger 관련 함수 import\n",
    "from src.logging.notebook_logger import create_notebook_logger"
   ]
  },
  {
   "cell_type": "code",
   "execution_count": 2,
   "id": "0dde22fb",
   "metadata": {},
   "outputs": [
    {
     "name": "stdout",
     "output_type": "stream",
     "text": [
      "✅ 나눔고딕 폰트 로드 성공\n"
     ]
    }
   ],
   "source": [
    "# [2] 폰트 설정 및 경고 억제\n",
    "# 경고 억제 설정\n",
    "import warnings\n",
    "warnings.filterwarnings('ignore')\n",
    "\n",
    "# 한글 폰트 적용 및 시각화 환경 설정\n",
    "import matplotlib.pyplot as plt\n",
    "import matplotlib.font_manager as fm\n",
    "\n",
    "# 나눔고딕 폰트 경로 및 설정\n",
    "font_path = './font/NanumGothic.ttf'\n",
    "fontprop = fm.FontProperties(fname=font_path)\n",
    "\n",
    "# 폰트 등록 및 설정 (한글 텍스트 표시를 위함)\n",
    "fe = fm.FontEntry(fname=font_path, name='NanumGothic')\n",
    "fm.fontManager.ttflist.insert(0, fe)\n",
    "plt.rcParams['font.family'] = 'NanumGothic'      # 기본 폰트를 나눔고딕으로 설정\n",
    "plt.rcParams['font.size'] = 10                   # 기본 글자 크기 설정\n",
    "plt.rcParams['axes.unicode_minus'] = False       # 마이너스 기호 깨짐 방지\n",
    "\n",
    "# 글자 겹침 방지를 위한 레이아웃 설정\n",
    "plt.rcParams['figure.autolayout'] = True         # 자동 레이아웃 조정\n",
    "plt.rcParams['axes.titlepad'] = 20               # 제목과 축 사이 여백\n",
    "\n",
    "# 폰트 로드 확인\n",
    "try:\n",
    "    test_font = fm.FontProperties(fname=font_path)\n",
    "    print(\"✅ 나눔고딕 폰트 로드 성공\")\n",
    "except Exception as e:\n",
    "    print(f\"❌ 폰트 로드 실패: {e}\")"
   ]
  },
  {
   "cell_type": "code",
   "execution_count": 3,
   "id": "94f521f8",
   "metadata": {},
   "outputs": [
    {
     "name": "stdout",
     "output_type": "stream",
     "text": [
      "✅ 라이브러리 로드 완료!\n"
     ]
    }
   ],
   "source": [
    "# [3] 필수 라이브러리 임포트\n",
    "# 데이터 분석을 위한 핵심 라이브러리들 로드\n",
    "import pandas as pd              # CSV 파일 로드 및 데이터프레임 조작\n",
    "import numpy as np               # 수치 계산 및 배열 처리\n",
    "import matplotlib.pyplot as plt  # 기본 그래프 생성\n",
    "import seaborn as sns           # 통계적 시각화\n",
    "import plotly.express as px     # 인터랙티브 차트 생성\n",
    "import plotly.graph_objects as go  # 커스텀 plotly 차트\n",
    "from plotly.subplots import make_subplots  # 서브플롯 생성\n",
    "from pathlib import Path        # 파일 경로 처리\n",
    "from datetime import datetime   # 날짜/시간 처리\n",
    "import ipywidgets as widgets    # 노트북 위젯 (향후 인터랙티브 기능용)\n",
    "from IPython.display import display, HTML  # 결과 표시\n",
    "\n",
    "# 시각화 스타일 설정\n",
    "sns.set_style(\"whitegrid\")      # seaborn 격자 스타일 적용\n",
    "plt.style.use('seaborn-v0_8')   # matplotlib seaborn 스타일 적용\n",
    "\n",
    "print(\"✅ 라이브러리 로드 완료!\")"
   ]
  },
  {
   "cell_type": "code",
   "execution_count": 4,
   "id": "15c8d7c6",
   "metadata": {},
   "outputs": [
    {
     "name": "stdout",
     "output_type": "stream",
     "text": [
      "🎯 비교 설정 완료!\n",
      "============================================================\n",
      "📄 File 1: ./submissions/20250907/swin-sighperf_ensemble_20250907_0035.csv\n",
      "📄 File 2: ./submissions/20250907/swin-sighperf_ensemble_20250907_0906.csv\n",
      "📁 결과 저장명: swin_vs_swin_advanced_augmentation\n"
     ]
    }
   ],
   "source": [
    "# [1] 📁 비교할 두 CSV 파일 경로 설정\n",
    "# ⚠️ 사용자 설정: 비교하고 싶은 두 CSV 파일의 절대 경로를 입력하세요\n",
    "\n",
    "# 첫 번째 파일 경로 (예: Swin 모델 결과)\n",
    "FILE_1_PATH = \"./submissions/20250907/swin-sighperf_ensemble_20250907_0035.csv\"\n",
    "\n",
    "# 두 번째 파일 경로 (예: EfficientNet 모델 결과)  \n",
    "FILE_2_PATH = \"./submissions/20250907/swin-sighperf_ensemble_20250907_0906.csv\"\n",
    "\n",
    "# 비교 분석 이름 (결과 폴더명에 사용)\n",
    "COMPARISON_NAME = \"swin_vs_swin_advanced_augmentation\"\n",
    "\n",
    "print(\"🎯 비교 설정 완료!\")\n",
    "print(\"=\" * 60)\n",
    "print(f\"📄 File 1: {FILE_1_PATH}\")\n",
    "print(f\"📄 File 2: {FILE_2_PATH}\")\n",
    "print(f\"📁 결과 저장명: {COMPARISON_NAME}\")"
   ]
  },
  {
   "cell_type": "code",
   "execution_count": 5,
   "id": "703a8a0b",
   "metadata": {},
   "outputs": [
    {
     "name": "stdout",
     "output_type": "stream",
     "text": [
      "📊 CSV 파일 로드 중...\n",
      "============================================================\n",
      "📄 swin-sighperf_ensemble_20250907_0035.csv:\n",
      "   📏 Shape: (3140, 2)\n",
      "   📋 Columns: ['ID', 'target']\n",
      "   🎯 Unique targets: 17\n",
      "   📈 Target range: 0 ~ 16\n",
      "   💾 File size: 0.07MB\n",
      "\\n📄 swin-sighperf_ensemble_20250907_0906.csv:\n",
      "   📏 Shape: (3140, 2)\n",
      "   📋 Columns: ['ID', 'target']\n",
      "   🎯 Unique targets: 17\n",
      "   📈 Target range: 0 ~ 16\n",
      "   💾 File size: 0.07MB\n",
      "\\n🔍 데이터 일관성 체크:\n",
      "   ✅ 샘플 수 일치: True\n",
      "   ✅ ID 순서 일치: True\n"
     ]
    }
   ],
   "source": [
    "# [4] 📊 파일 로드 및 기본 정보 확인\n",
    "def load_and_validate_files(file1_path, file2_path):\n",
    "    \"\"\"\n",
    "    지정된 경로의 두 CSV 파일을 로드하고 기본 정보를 확인\n",
    "    \n",
    "    Args:\n",
    "        file1_path (str): 첫 번째 파일 경로\n",
    "        file2_path (str): 두 번째 파일 경로\n",
    "        \n",
    "    Returns:\n",
    "        tuple: (df1, df2, file1_info, file2_info) 또는 (None, None, None, None)\n",
    "    \"\"\"\n",
    "    try:\n",
    "        # 파일 경로를 Path 객체로 변환\n",
    "        path1 = Path(file1_path)\n",
    "        path2 = Path(file2_path)\n",
    "        \n",
    "        # 파일 존재 여부 확인\n",
    "        if not path1.exists():\n",
    "            print(f\"❌ 파일을 찾을 수 없습니다: {file1_path}\")\n",
    "            return None, None, None, None\n",
    "            \n",
    "        if not path2.exists():\n",
    "            print(f\"❌ 파일을 찾을 수 없습니다: {file2_path}\")\n",
    "            return None, None, None, None\n",
    "        \n",
    "        print(\"📊 CSV 파일 로드 중...\")\n",
    "        print(\"=\" * 60)\n",
    "        \n",
    "        # CSV 파일을 pandas DataFrame으로 로드\n",
    "        df1 = pd.read_csv(path1)\n",
    "        df2 = pd.read_csv(path2)\n",
    "        \n",
    "        # 파일 정보 생성\n",
    "        file1_info = {\n",
    "            'filename': path1.name,\n",
    "            'path': str(path1),\n",
    "            'size_mb': path1.stat().st_size / (1024*1024)\n",
    "        }\n",
    "        \n",
    "        file2_info = {\n",
    "            'filename': path2.name,\n",
    "            'path': str(path2),\n",
    "            'size_mb': path2.stat().st_size / (1024*1024)\n",
    "        }\n",
    "        \n",
    "        # 첫 번째 파일의 기본 정보 출력\n",
    "        print(f\"📄 {file1_info['filename']}:\")\n",
    "        print(f\"   📏 Shape: {df1.shape}\")                           # 행, 열 개수\n",
    "        print(f\"   📋 Columns: {list(df1.columns)}\")                 # 컬럼명 리스트\n",
    "        print(f\"   🎯 Unique targets: {df1['target'].nunique()}\")    # 고유한 클래스 개수\n",
    "        print(f\"   📈 Target range: {df1['target'].min()} ~ {df1['target'].max()}\")  # 클래스 범위\n",
    "        print(f\"   💾 File size: {file1_info['size_mb']:.2f}MB\")\n",
    "        \n",
    "        # 두 번째 파일의 기본 정보 출력\n",
    "        print(f\"\\\\n📄 {file2_info['filename']}:\")\n",
    "        print(f\"   📏 Shape: {df2.shape}\")                           # 행, 열 개수\n",
    "        print(f\"   📋 Columns: {list(df2.columns)}\")                 # 컬럼명 리스트\n",
    "        print(f\"   🎯 Unique targets: {df2['target'].nunique()}\")    # 고유한 클래스 개수\n",
    "        print(f\"   📈 Target range: {df2['target'].min()} ~ {df2['target'].max()}\")  # 클래스 범위\n",
    "        print(f\"   💾 File size: {file2_info['size_mb']:.2f}MB\")\n",
    "        \n",
    "        # 데이터 일관성 확인 (두 파일이 비교 가능한지 검사)\n",
    "        print(f\"\\\\n🔍 데이터 일관성 체크:\")\n",
    "        print(f\"   ✅ 샘플 수 일치: {len(df1) == len(df2)}\")\n",
    "        \n",
    "        if 'ID' in df1.columns and 'ID' in df2.columns:\n",
    "            id_match = df1['ID'].equals(df2['ID'])\n",
    "            print(f\"   ✅ ID 순서 일치: {id_match}\")\n",
    "            if not id_match:\n",
    "                print(\"   ⚠️  ID 순서가 다릅니다. 병합을 통해 비교합니다.\")\n",
    "        \n",
    "        return df1, df2, file1_info, file2_info\n",
    "        \n",
    "    except Exception as e:\n",
    "        print(f\"❌ 파일 로드 중 오류 발생: {str(e)}\")\n",
    "        return None, None, None, None\n",
    "\n",
    "# 파일 로드 실행\n",
    "df1, df2, file1_info, file2_info = load_and_validate_files(FILE_1_PATH, FILE_2_PATH)"
   ]
  },
  {
   "cell_type": "code",
   "execution_count": 6,
   "id": "19ab79e8",
   "metadata": {},
   "outputs": [
    {
     "name": "stdout",
     "output_type": "stream",
     "text": [
      "📝 노트북 작업 시작: swin_vs_swin_advanced_augmentation\n",
      "📝 로그 디렉토리: notebooks/modular/results_comparison/swin_vs_swin_advanced_augmentation/20250907_093456\n",
      "📁 비교 분석 로거 설정 완료!\n",
      "============================================================\n",
      "🎯 분석 이름: swin_vs_swin_advanced_augmentation\n",
      "📂 기본 디렉터리: notebooks/modular/results_comparison/swin_vs_swin_advanced_augmentation/20250907_093456\n",
      "📝 로그 디렉터리: notebooks/modular/results_comparison/swin_vs_swin_advanced_augmentation/20250907_093456/logs\n",
      "🖼️ 이미지 디렉터리: notebooks/modular/results_comparison/swin_vs_swin_advanced_augmentation/20250907_093456/images\n",
      "💾 데이터 디렉터리: notebooks/modular/results_comparison/swin_vs_swin_advanced_augmentation/20250907_093456/data\n",
      "📊 결과 디렉터리: notebooks/modular/results_comparison/swin_vs_swin_advanced_augmentation/20250907_093456/results\n",
      "📝 두 파일 상세 비교 분석 시작\n",
      "📝 비교 대상 1: ./submissions/20250907/swin-sighperf_ensemble_20250907_0035.csv\n",
      "📝 비교 대상 2: ./submissions/20250907/swin-sighperf_ensemble_20250907_0906.csv\n",
      "\n",
      "✅ results_comparison 폴더 기반 저장 시스템 활용 완료!\n",
      "📋 저장 위치:\n",
      "   📂 기본 폴더: notebooks/modular/results_comparison/\n",
      "   📁 결과 폴더: swin_vs_swin_advanced_augmentation/{timestamp}/\n",
      "📋 장점:\n",
      "   - 체계적인 타임스탬프 기반 폴더 관리\n",
      "   - 자동 메타데이터 생성 및 저장\n",
      "   - 통합 로깅 시스템 (파일 + 콘솔)\n",
      "   - 다양한 파일 형식 지원 (CSV, Excel, JSON, PNG)\n",
      "   - 결과 요약 및 성능 메트릭 추적\n"
     ]
    }
   ],
   "source": [
    "# [5] 📁 results_comparison 폴더에 저장하는 로거 시스템\n",
    "# create_notebook_logger를 사용하여 results_comparison 폴더에 저장\n",
    "\n",
    "def setup_comparison_logger(comparison_name):\n",
    "    \"\"\"\n",
    "    results_comparison 폴더에 저장하는 로거 설정 함수\n",
    "    \n",
    "    Args:\n",
    "        comparison_name (str): 비교 분석 이름\n",
    "        \n",
    "    Returns:\n",
    "        NotebookLogger: 설정된 로거 인스턴스\n",
    "    \"\"\"\n",
    "    # create_notebook_logger를 사용하여 results_comparison 폴더에 저장\n",
    "    logger = create_notebook_logger(\n",
    "        base_log_dir=\"modular\",             # notebooks 폴더 내 기본 저장 경로\n",
    "        folder_name=\"results_comparison\",   # results_comparison 폴더 지정\n",
    "        file_name=comparison_name           # 파일명으로 폴더 생성됨\n",
    "    )\n",
    "    \n",
    "    print(\"📁 비교 분석 로거 설정 완료!\")\n",
    "    print(\"=\" * 60)\n",
    "    print(f\"🎯 분석 이름: {comparison_name}\")\n",
    "    print(f\"📂 기본 디렉터리: {logger.base_dir}\")\n",
    "    print(f\"📝 로그 디렉터리: {logger.log_dir}\")\n",
    "    print(f\"🖼️ 이미지 디렉터리: {logger.image_dir}\")\n",
    "    print(f\"💾 데이터 디렉터리: {logger.data_dir}\")\n",
    "    print(f\"📊 결과 디렉터리: {logger.results_dir}\")\n",
    "    \n",
    "    # 비교 분석 시작 로그\n",
    "    logger.log_info(\"두 파일 상세 비교 분석 시작\")\n",
    "    logger.log_info(f\"비교 대상 1: {FILE_1_PATH}\")\n",
    "    logger.log_info(f\"비교 대상 2: {FILE_2_PATH}\")\n",
    "    \n",
    "    return logger\n",
    "\n",
    "# 비교 분석용 로거 생성\n",
    "comparison_logger = setup_comparison_logger(COMPARISON_NAME)\n",
    "\n",
    "# 기존 output_folders 변수를 로거의 디렉터리 구조로 매핑\n",
    "# (기존 코드와의 호환성을 위해 output_folders 딕셔너리 유지)\n",
    "output_folders = {\n",
    "    'base': comparison_logger.base_dir,\n",
    "    'images': comparison_logger.image_dir,\n",
    "    'logs': comparison_logger.log_dir,\n",
    "    'results': comparison_logger.results_dir,\n",
    "    'data': comparison_logger.data_dir  # 추가: 데이터 저장용 폴더\n",
    "}\n",
    "\n",
    "print(\"\\n✅ results_comparison 폴더 기반 저장 시스템 활용 완료!\")\n",
    "print(\"📋 저장 위치:\")\n",
    "print(f\"   📂 기본 폴더: notebooks/modular/results_comparison/\")\n",
    "print(f\"   📁 결과 폴더: {COMPARISON_NAME}/{{timestamp}}/\")\n",
    "print(\"📋 장점:\")\n",
    "print(\"   - 체계적인 타임스탬프 기반 폴더 관리\")\n",
    "print(\"   - 자동 메타데이터 생성 및 저장\")\n",
    "print(\"   - 통합 로깅 시스템 (파일 + 콘솔)\")\n",
    "print(\"   - 다양한 파일 형식 지원 (CSV, Excel, JSON, PNG)\")\n",
    "print(\"   - 결과 요약 및 성능 메트릭 추적\")"
   ]
  },
  {
   "cell_type": "code",
   "execution_count": 7,
   "id": "124fd598",
   "metadata": {},
   "outputs": [
    {
     "name": "stdout",
     "output_type": "stream",
     "text": [
      "🔄 병합 및 차이점 분석 완료!\n",
      "============================================================\n",
      "📊 전체 샘플 수: 3,140\n",
      "✅ 동일한 예측: 2,992개 (95.3%)\n",
      "❌ 다른 예측: 148개 (4.7%)\n",
      "\\n🔍 차이점 샘플 미리보기 (처음 10개):\n",
      "                  ID  swin-sighperf_ensemb...  swin-sighperf_ensemb...\n",
      "0145dd3d1cd090ae.jpg                        7                        4\n",
      "03cb3f2e0962474e.jpg                        3                        7\n",
      "071a06f75055347b.jpg                        7                       14\n",
      "082e8c4d8d82eb01.jpg                        7                        3\n",
      "0b0e7e754b5a103c.jpg                        3                        7\n",
      "0c5b6caa96ec9882.jpg                        3                        7\n",
      "1027d7b85da774e4.jpg                        7                        4\n",
      "106e817be539b3e7.jpg                        7                        3\n",
      "15ca73556389df7e.jpg                        3                        7\n",
      "15d8e28fa134e037.jpg                       14                        4\n"
     ]
    }
   ],
   "source": [
    "# [6] 🔄 두 데이터프레임 병합 및 차이점 추출\n",
    "if df1 is not None and df2 is not None:\n",
    "    # ID 컬럼을 기준으로 두 DataFrame을 병합 (inner join)\n",
    "    # suffixes로 같은 컬럼명(target)을 구분하여 _file1, _file2로 구분\n",
    "    merged_df = pd.merge(df1, df2, on='ID', suffixes=('_file1', '_file2'))\n",
    "    \n",
    "    # 예측이 다른 행들과 같은 행들을 각각 추출\n",
    "    different_predictions = merged_df[merged_df['target_file1'] != merged_df['target_file2']].copy()\n",
    "    same_predictions = merged_df[merged_df['target_file1'] == merged_df['target_file2']].copy()\n",
    "    \n",
    "    print(\"🔄 병합 및 차이점 분석 완료!\")\n",
    "    print(\"=\" * 60)\n",
    "    print(f\"📊 전체 샘플 수: {len(merged_df):,}\")\n",
    "    print(f\"✅ 동일한 예측: {len(same_predictions):,}개 ({len(same_predictions)/len(merged_df)*100:.1f}%)\")\n",
    "    print(f\"❌ 다른 예측: {len(different_predictions):,}개 ({len(different_predictions)/len(merged_df)*100:.1f}%)\")\n",
    "    \n",
    "    # 차이점이 있는 경우 샘플 미리보기 출력\n",
    "    if len(different_predictions) > 0:\n",
    "        print(f\"\\\\n🔍 차이점 샘플 미리보기 (처음 10개):\")\n",
    "        # 컬럼명을 파일명으로 변경하여 가독성 향상\n",
    "        preview_df = different_predictions[['ID', 'target_file1', 'target_file2']].head(10)\n",
    "        preview_df.columns = ['ID', f'{file1_info[\"filename\"][:20]}...', f'{file2_info[\"filename\"][:20]}...']\n",
    "        print(preview_df.to_string(index=False))\n",
    "    else:\n",
    "        print(\"\\\\n🎉 두 파일의 모든 예측이 완전히 일치합니다!\")\n",
    "else:\n",
    "    print(\"❌ 데이터가 로드되지 않았습니다.\")"
   ]
  },
  {
   "cell_type": "code",
   "execution_count": 8,
   "id": "a5072f5c",
   "metadata": {},
   "outputs": [
    {
     "name": "stdout",
     "output_type": "stream",
     "text": [
      "🎨 전체 비교 차트 생성 중...\n"
     ]
    },
    {
     "data": {
      "image/png": "[encoded data removed]",
      "text/plain": [
       "<Figure size 1600x1200 with 5 Axes>"
      ]
     },
     "metadata": {},
     "output_type": "display_data"
    },
    {
     "name": "stdout",
     "output_type": "stream",
     "text": [
      "✅ 그림 저장: notebooks/modular/results_comparison/swin_vs_swin_advanced_augmentation/20250907_093456/images/overall_comparison.png\n",
      "💾 차트가 성공적으로 저장되었습니다!\n",
      "✅ 전체 비교 차트 생성 완료!\n"
     ]
    }
   ],
   "source": [
    "# [7] 📈 전체 데이터 분포 비교 시각화 (Chrome 의존성 제거)\n",
    "def plot_overall_comparison():\n",
    "    \"\"\"\n",
    "    두 파일의 전체적인 비교를 위한 4개 차트를 생성하는 함수\n",
    "    Chrome 의존성 없는 matplotlib 기반으로 최적화\n",
    "    \n",
    "    Returns:\n",
    "        matplotlib.figure.Figure: 2x2 서브플롯 차트\n",
    "    \"\"\"\n",
    "    if df1 is None or df2 is None:\n",
    "        return None\n",
    "    \n",
    "    # 한글 폰트 설정 재적용 (함수 내에서 명시적으로)\n",
    "    import matplotlib.pyplot as plt\n",
    "    import matplotlib.font_manager as fm\n",
    "    \n",
    "    font_path = './font/NanumGothic.ttf'\n",
    "    if os.path.exists(font_path):\n",
    "        fontprop = fm.FontProperties(fname=font_path)\n",
    "        plt.rcParams['font.family'] = 'NanumGothic'\n",
    "        plt.rcParams['font.size'] = 10\n",
    "        plt.rcParams['axes.unicode_minus'] = False\n",
    "    \n",
    "    # matplotlib 기반 2x2 서브플롯 생성\n",
    "    fig, ((ax1, ax2), (ax3, ax4)) = plt.subplots(2, 2, figsize=(16, 12))\n",
    "    \n",
    "    # 1. 클래스별 분포 비교 (막대 차트)\n",
    "    class_counts1 = df1['target'].value_counts().sort_index()\n",
    "    class_counts2 = df2['target'].value_counts().sort_index()\n",
    "    \n",
    "    # 모든 클래스 합집합\n",
    "    all_classes = sorted(set(class_counts1.index) | set(class_counts2.index))\n",
    "    counts1 = [class_counts1.get(cls, 0) for cls in all_classes]\n",
    "    counts2 = [class_counts2.get(cls, 0) for cls in all_classes]\n",
    "    \n",
    "    # 막대 차트 (상위 10개 클래스만 표시 - 성능 최적화)\n",
    "    display_classes = all_classes[:10] if len(all_classes) > 10 else all_classes\n",
    "    display_counts1 = counts1[:10] if len(counts1) > 10 else counts1\n",
    "    display_counts2 = counts2[:10] if len(counts2) > 10 else counts2\n",
    "    \n",
    "    x = range(len(display_classes))\n",
    "    width = 0.35\n",
    "    \n",
    "    ax1.bar([i - width/2 for i in x], display_counts1, width, label='파일 1', color='#FF6B6B', alpha=0.8)\n",
    "    ax1.bar([i + width/2 for i in x], display_counts2, width, label='파일 2', color='#4ECDC4', alpha=0.8)\n",
    "    ax1.set_title('📊 클래스별 예측 분포 비교 (상위 10개)', fontweight='bold', fontsize=12)\n",
    "    ax1.set_xlabel('클래스', fontsize=10)\n",
    "    ax1.set_ylabel('예측 수', fontsize=10)\n",
    "    ax1.set_xticks(x)\n",
    "    ax1.set_xticklabels(display_classes)\n",
    "    ax1.legend()\n",
    "    ax1.grid(True, alpha=0.3)\n",
    "    \n",
    "    # 2. 예측 차이 매트릭스 (히트맵) - 차이가 있는 경우만\n",
    "    if len(different_predictions) > 0:\n",
    "        confusion_matrix = pd.crosstab(\n",
    "            different_predictions['target_file1'],\n",
    "            different_predictions['target_file2']\n",
    "        )\n",
    "        \n",
    "        # 상위 5x5 매트릭스만 표시 (성능 최적화)\n",
    "        if confusion_matrix.shape[0] > 5 or confusion_matrix.shape[1] > 5:\n",
    "            top_rows = confusion_matrix.sum(axis=1).nlargest(5).index\n",
    "            top_cols = confusion_matrix.sum(axis=0).nlargest(5).index\n",
    "            confusion_matrix = confusion_matrix.loc[top_rows, top_cols]\n",
    "        \n",
    "        im = ax2.imshow(confusion_matrix.values, cmap='Reds', aspect='auto')\n",
    "        ax2.set_title('🔄 예측 차이 매트릭스 (상위 5×5)', fontweight='bold', fontsize=12)\n",
    "        ax2.set_xlabel('파일 2 예측', fontsize=10)\n",
    "        ax2.set_ylabel('파일 1 예측', fontsize=10)\n",
    "        ax2.set_xticks(range(len(confusion_matrix.columns)))\n",
    "        ax2.set_yticks(range(len(confusion_matrix.index)))\n",
    "        ax2.set_xticklabels(confusion_matrix.columns)\n",
    "        ax2.set_yticklabels(confusion_matrix.index)\n",
    "        \n",
    "        # 컬러바 추가\n",
    "        plt.colorbar(im, ax=ax2, shrink=0.8)\n",
    "    else:\n",
    "        ax2.text(0.5, 0.5, '차이점 없음', ha='center', va='center', fontsize=16, transform=ax2.transAxes)\n",
    "        ax2.set_title('🔄 예측 차이 매트릭스', fontweight='bold', fontsize=12)\n",
    "    \n",
    "    # 3. 클래스별 트렌드 (라인 차트)\n",
    "    ax3.plot(display_classes, display_counts1, 'o-', color='#FF6B6B', linewidth=3, markersize=6, label='파일 1')\n",
    "    ax3.plot(display_classes, display_counts2, 's-', color='#4ECDC4', linewidth=3, markersize=6, label='파일 2')\n",
    "    ax3.set_title('📈 클래스별 예측 트렌드 (상위 10개)', fontweight='bold', fontsize=12)\n",
    "    ax3.set_xlabel('클래스', fontsize=10)\n",
    "    ax3.set_ylabel('예측 수', fontsize=10)\n",
    "    ax3.legend()\n",
    "    ax3.grid(True, alpha=0.3)\n",
    "    \n",
    "    # 4. 일치/불일치 파이 차트\n",
    "    sizes = [len(same_predictions), len(different_predictions)]\n",
    "    labels = ['일치', '불일치']\n",
    "    colors = ['#96CEB4', '#FFEAA7']\n",
    "    \n",
    "    wedges, texts, autotexts = ax4.pie(sizes, labels=labels, autopct='%1.1f%%', \n",
    "                                       colors=colors, startangle=90)\n",
    "    ax4.set_title('🎯 일치/불일치 비율', fontweight='bold', fontsize=12)\n",
    "    \n",
    "    # 전체 제목\n",
    "    fig.suptitle('🔍 두 제출 파일 상세 비교 분석', fontsize=16, fontweight='bold', y=0.98)\n",
    "    plt.tight_layout()\n",
    "    plt.subplots_adjust(top=0.93)\n",
    "    \n",
    "    return fig\n",
    "\n",
    "# 전체 비교 차트 생성 및 표시\n",
    "if df1 is not None and df2 is not None:\n",
    "    print(\"🎨 전체 비교 차트 생성 중...\")\n",
    "    \n",
    "    try:\n",
    "        overall_fig = plot_overall_comparison()\n",
    "        if overall_fig:\n",
    "            plt.show()\n",
    "            \n",
    "            # NotebookLogger를 활용한 안전한 이미지 저장\n",
    "            if 'comparison_logger' in globals():\n",
    "                comparison_logger.save_figure(\n",
    "                    overall_fig, \n",
    "                    \"overall_comparison.png\",\n",
    "                    \"두 파일 전체 비교 시각화 - 클래스 분포, 차이 매트릭스, 트렌드, 일치율\"\n",
    "                )\n",
    "                print(\"💾 차트가 성공적으로 저장되었습니다!\")\n",
    "            else:\n",
    "                print(\"⚠️ 로거가 설정되지 않아 이미지 저장을 건너뜁니다.\")\n",
    "            \n",
    "            plt.close(overall_fig)  # 메모리 해제\n",
    "            print(\"✅ 전체 비교 차트 생성 완료!\")\n",
    "        else:\n",
    "            print(\"❌ 차트 생성에 실패했습니다.\")\n",
    "            \n",
    "    except Exception as e:\n",
    "        print(f\"❌ 차트 생성 중 오류 발생: {str(e)}\")\n",
    "        print(\"   데이터 상태를 확인해주세요.\")\n",
    "        \n",
    "else:\n",
    "    print(\"❌ 데이터가 준비되지 않았습니다. 이전 셀들을 먼저 실행해주세요.\")"
   ]
  },
  {
   "cell_type": "code",
   "execution_count": 9,
   "id": "2332d0c4",
   "metadata": {},
   "outputs": [
    {
     "name": "stdout",
     "output_type": "stream",
     "text": [
      "🔍 예측 차이 상세 분석\n",
      "============================================================\n",
      "📊 가장 빈번한 예측 차이 패턴 (Top 10):\n",
      "--------------------------------------------------\n",
      "   7 → 3: 33개 (22.3%)\n",
      "   3 → 7: 29개 (19.6%)\n",
      "   7 → 14: 19개 (12.8%)\n",
      "   7 → 4: 18개 (12.2%)\n",
      "   4 → 14: 12개 (8.1%)\n",
      "   14 → 4: 5개 (3.4%)\n",
      "   4 → 7: 4개 (2.7%)\n",
      "   14 → 7: 3개 (2.0%)\n",
      "   7 → 10: 2개 (1.4%)\n",
      "   7 → 1: 2개 (1.4%)\n",
      "\n",
      "📈 File 1에서 차이가 많은 클래스 (Top 5):\n",
      "   클래스 7: 77개 (52.0%)\n",
      "   클래스 3: 30개 (20.3%)\n",
      "   클래스 4: 19개 (12.8%)\n",
      "   클래스 14: 9개 (6.1%)\n",
      "   클래스 12: 6개 (4.1%)\n",
      "\n",
      "📉 File 2에서 차이가 많은 클래스 (Top 5):\n",
      "   클래스 7: 36개 (24.3%)\n",
      "   클래스 3: 35개 (23.6%)\n",
      "   클래스 14: 33개 (22.3%)\n",
      "   클래스 4: 25개 (16.9%)\n",
      "   클래스 10: 6개 (4.1%)\n",
      "\n",
      "📊 통계적 요약:\n",
      "   🎯 File 1 클래스 범위: 1 ~ 14\n",
      "   🎯 File 2 클래스 범위: 0 ~ 15\n",
      "   📈 File 1 고유 클래스 수: 9\n",
      "   📉 File 2 고유 클래스 수: 12\n"
     ]
    }
   ],
   "source": [
    "# 🔍 차이점 상세 분석\n",
    "if file1_info and file2_info and len(different_predictions) > 0:\n",
    "    print(\"🔍 예측 차이 상세 분석\")\n",
    "    print(\"=\" * 60)\n",
    "    \n",
    "    # 1. 가장 많이 다른 클래스 쌍 찾기\n",
    "    diff_patterns = different_predictions.groupby(['target_file1', 'target_file2']).size().reset_index(name='count')\n",
    "    diff_patterns = diff_patterns.sort_values('count', ascending=False)\n",
    "    \n",
    "    print(\"📊 가장 빈번한 예측 차이 패턴 (Top 10):\")\n",
    "    print(\"-\" * 50)\n",
    "    top_patterns = diff_patterns.head(10)\n",
    "    for _, row in top_patterns.iterrows():\n",
    "        percentage = (row['count'] / len(different_predictions)) * 100\n",
    "        print(f\"   {row['target_file1']} → {row['target_file2']}: {row['count']}개 ({percentage:.1f}%)\")\n",
    "    \n",
    "    # 2. 파일별 차이가 많은 클래스\n",
    "    file1_diff_classes = different_predictions['target_file1'].value_counts()\n",
    "    file2_diff_classes = different_predictions['target_file2'].value_counts()\n",
    "    \n",
    "    print(f\"\\n📈 File 1에서 차이가 많은 클래스 (Top 5):\")\n",
    "    for cls, count in file1_diff_classes.head(5).items():\n",
    "        percentage = (count / len(different_predictions)) * 100\n",
    "        print(f\"   클래스 {cls}: {count}개 ({percentage:.1f}%)\")\n",
    "    \n",
    "    print(f\"\\n📉 File 2에서 차이가 많은 클래스 (Top 5):\")\n",
    "    for cls, count in file2_diff_classes.head(5).items():\n",
    "        percentage = (count / len(different_predictions)) * 100\n",
    "        print(f\"   클래스 {cls}: {count}개 ({percentage:.1f}%)\")\n",
    "    \n",
    "    # 3. 통계적 요약\n",
    "    print(f\"\\n📊 통계적 요약:\")\n",
    "    print(f\"   🎯 File 1 클래스 범위: {different_predictions['target_file1'].min()} ~ {different_predictions['target_file1'].max()}\")\n",
    "    print(f\"   🎯 File 2 클래스 범위: {different_predictions['target_file2'].min()} ~ {different_predictions['target_file2'].max()}\")\n",
    "    print(f\"   📈 File 1 고유 클래스 수: {different_predictions['target_file1'].nunique()}\")\n",
    "    print(f\"   📉 File 2 고유 클래스 수: {different_predictions['target_file2'].nunique()}\")\n",
    "    \n",
    "elif file1_info and file2_info:\n",
    "    print(\"🎉 두 파일이 완전히 일치하여 차이점이 없습니다!\")\n",
    "else:\n",
    "    print(\"❌ 데이터가 준비되지 않았습니다.\")"
   ]
  },
  {
   "cell_type": "code",
   "execution_count": 10,
   "id": "19352f1b",
   "metadata": {},
   "outputs": [
    {
     "name": "stdout",
     "output_type": "stream",
     "text": [
      "📋 예측 차이점 상세 표\n",
      "============================================================\n",
      "📊 차이점 표 미리보기 (처음 20개):\n",
      "           Sample_ID  Prediction_File1  Prediction_File2  Class_Difference Direction\n",
      "0145dd3d1cd090ae.jpg                 7                 4                -3      📉 감소\n",
      "03cb3f2e0962474e.jpg                 3                 7                 4      📈 증가\n",
      "071a06f75055347b.jpg                 7                14                 7      📈 증가\n",
      "082e8c4d8d82eb01.jpg                 7                 3                -4      📉 감소\n",
      "0b0e7e754b5a103c.jpg                 3                 7                 4      📈 증가\n",
      "0c5b6caa96ec9882.jpg                 3                 7                 4      📈 증가\n",
      "1027d7b85da774e4.jpg                 7                 4                -3      📉 감소\n",
      "106e817be539b3e7.jpg                 7                 3                -4      📉 감소\n",
      "15ca73556389df7e.jpg                 3                 7                 4      📈 증가\n",
      "15d8e28fa134e037.jpg                14                 4               -10      📉 감소\n",
      "17ab20ba9372dfc0.jpg                 7                 3                -4      📉 감소\n",
      "18912bd404188282.jpg                 7                 4                -3      📉 감소\n",
      "19715393750c278b.jpg                 7                 3                -4      📉 감소\n",
      "1a0ba37806171e85.jpg                 7                 3                -4      📉 감소\n",
      "1b45268518d29b07.jpg                 3                 7                 4      📈 증가\n",
      "1b8e376917bc35ce.jpg                 7                 3                -4      📉 감소\n",
      "1c6ae69790e0b81e.jpg                12                 6                -6      📉 감소\n",
      "1f5f0b704c5daf78.jpg                 7                 4                -3      📉 감소\n",
      "1fbe8682aec6fe42.jpg                 4                14                10      📈 증가\n",
      "21b4bb9973d1a078.jpg                 4                 3                -1      📉 감소\n",
      "\n",
      "💾 전체 148개 차이점 데이터가 준비되었습니다.\n",
      "   (다음 셀에서 CSV로 저장할 수 있습니다)\n"
     ]
    }
   ],
   "source": [
    "# 📋 차이점 상세 표 생성 (인터랙티브)\n",
    "if file1_info and file2_info and len(different_predictions) > 0:\n",
    "    print(\"📋 예측 차이점 상세 표\")\n",
    "    print(\"=\" * 60)\n",
    "    \n",
    "    # 차이점 데이터 정리\n",
    "    detailed_diff = different_predictions[['ID', 'target_file1', 'target_file2']].copy()\n",
    "    detailed_diff.columns = ['Sample_ID', f'Prediction_File1', f'Prediction_File2']\n",
    "    \n",
    "    # 차이 방향 추가\n",
    "    detailed_diff['Class_Difference'] = detailed_diff['Prediction_File2'] - detailed_diff['Prediction_File1']\n",
    "    detailed_diff['Direction'] = detailed_diff['Class_Difference'].apply(\n",
    "        lambda x: '📈 증가' if x > 0 else '📉 감소'\n",
    "    )\n",
    "    \n",
    "    # 파일명 정보 추가\n",
    "    detailed_diff['File1_Name'] = file1_info['filename'][:30] + \"...\"\n",
    "    detailed_diff['File2_Name'] = file2_info['filename'][:30] + \"...\"\n",
    "    \n",
    "    print(f\"📊 차이점 표 미리보기 (처음 20개):\")\n",
    "    display_columns = ['Sample_ID', 'Prediction_File1', 'Prediction_File2', 'Class_Difference', 'Direction']\n",
    "    print(detailed_diff[display_columns].head(20).to_string(index=False))\n",
    "    \n",
    "    print(f\"\\n💾 전체 {len(detailed_diff)}개 차이점 데이터가 준비되었습니다.\")\n",
    "    print(\"   (다음 셀에서 CSV로 저장할 수 있습니다)\")\n",
    "    \n",
    "elif file1_info and file2_info:\n",
    "    print(\"🎉 차이점이 없어서 표시할 데이터가 없습니다!\")\n",
    "else:\n",
    "    print(\"❌ 데이터가 준비되지 않았습니다.\")"
   ]
  },
  {
   "cell_type": "code",
   "execution_count": 11,
   "id": "61412c92",
   "metadata": {},
   "outputs": [
    {
     "data": {
      "application/vnd.plotly.v1+json": {
       "config": {
        "plotlyServerURL": "https://plot.ly"
       },
       "data": [
        {
         "marker": {
          "color": "#FF6B6B"
         },
         "name": "패턴 빈도",
         "type": "bar",
         "x": [
          "7 → 3",
          "3 → 7",
          "7 → 14",
          "7 → 4",
          "4 → 14",
          "14 → 4",
          "4 → 7",
          "14 → 7",
          "7 → 10",
          "7 → 1",
          "4 → 3",
          "12 → 10",
          "1 → 11",
          "6 → 10",
          "7 → 0"
         ],
         "xaxis": "x",
         "y": {
          "bdata": "IR0TEgwFBAMCAgICAQEB",
          "dtype": "i1"
         },
         "yaxis": "y"
        },
        {
         "marker": {
          "color": "#4ECDC4",
          "opacity": 0.6,
          "size": 8
         },
         "mode": "markers",
         "name": "클래스 변화",
         "type": "scatter",
         "x": {
          "bdata": "BwMHBwMDBwcDDgcHBwcDBwwHBAQOBAcHBwMOBwMDAwMDBAcHBw4HBwcDAwoHBwMHBwwEBA4HBwMMDgcHDgcDBwcHAQcHBwMODAQHAwQNBwMHBwcDBAMDBwcDBwQBBwcOBAcHBwcHBwMHBwcMBwQHBwMDBwYHCgQHBwcEBwQHDAQHBwQEBwcBAwcHBAcHBwMHBwMHAw==",
          "dtype": "i1"
         },
         "xaxis": "x2",
         "y": {
          "bdata": "BAcOAwcHBAMHBAMEAwMHAwYEDgMEDg4EAwcHAwQHBwcHDg4DDgoOBAwHBw4EAwcDAwoHDgQEDgcLBw4OBAMHAw4EBAMODgcEDg4OBw4GAwcDCgMHDgcHAwMHBA4LBAMHAQMEAw0AAwcODgMPAwcDDgcHDgoBCwcEBAMOAQ4KCg4EAw4HBA4GBwQDAw4DAwcDDgcEBw==",
          "dtype": "i1"
         },
         "yaxis": "y2"
        },
        {
         "line": {
          "color": "red",
          "dash": "dash"
         },
         "mode": "lines",
         "name": "완전 일치선",
         "type": "scatter",
         "x": [
          0,
          15
         ],
         "xaxis": "x2",
         "y": [
          0,
          15
         ],
         "yaxis": "y2"
        },
        {
         "marker": {
          "color": "#FF6B6B",
          "size": 4
         },
         "mode": "markers",
         "name": "File 1 예측",
         "type": "scatter",
         "x": [
          0,
          1,
          2,
          3,
          4,
          5,
          6,
          7,
          8,
          9,
          10,
          11,
          12,
          13,
          14,
          15,
          16,
          17,
          18,
          19,
          20,
          21,
          22,
          23,
          24,
          25,
          26,
          27,
          28,
          29,
          30,
          31,
          32,
          33,
          34,
          35,
          36,
          37,
          38,
          39,
          40,
          41,
          42,
          43,
          44,
          45,
          46,
          47,
          48,
          49,
          50,
          51,
          52,
          53,
          54,
          55,
          56,
          57,
          58,
          59,
          60,
          61,
          62,
          63,
          64,
          65,
          66,
          67,
          68,
          69,
          70,
          71,
          72,
          73,
          74,
          75,
          76,
          77,
          78,
          79,
          80,
          81,
          82,
          83,
          84,
          85,
          86,
          87,
          88,
          89,
          90,
          91,
          92,
          93,
          94,
          95,
          96,
          97,
          98,
          99,
          100,
          101,
          102,
          103,
          104,
          105,
          106,
          107,
          108,
          109,
          110,
          111,
          112,
          113,
          114,
          115,
          116,
          117,
          118,
          119,
          120,
          121,
          122,
          123,
          124,
          125,
          126,
          127,
          128,
          129,
          130,
          131,
          132,
          133,
          134,
          135,
          136,
          137,
          138,
          139,
          140,
          141,
          142,
          143,
          144,
          145,
          146,
          147
         ],
         "xaxis": "x3",
         "y": {
          "bdata": "BwMHBwMDBwcDDgcHBwcDBwwHBAQOBAcHBwMOBwMDAwMDBAcHBw4HBwcDAwoHBwMHBwwEBA4HBwMMDgcHDgcDBwcHAQcHBwMODAQHAwQNBwMHBwcDBAMDBwcDBwQBBwcOBAcHBwcHBwMHBwcMBwQHBwMDBwYHCgQHBwcEBwQHDAQHBwQEBwcBAwcHBAcHBwMHBwMHAw==",
          "dtype": "i1"
         },
         "yaxis": "y3"
        },
        {
         "marker": {
          "color": "#4ECDC4",
          "size": 4
         },
         "mode": "markers",
         "name": "File 2 예측",
         "type": "scatter",
         "x": [
          0,
          1,
          2,
          3,
          4,
          5,
          6,
          7,
          8,
          9,
          10,
          11,
          12,
          13,
          14,
          15,
          16,
          17,
          18,
          19,
          20,
          21,
          22,
          23,
          24,
          25,
          26,
          27,
          28,
          29,
          30,
          31,
          32,
          33,
          34,
          35,
          36,
          37,
          38,
          39,
          40,
          41,
          42,
          43,
          44,
          45,
          46,
          47,
          48,
          49,
          50,
          51,
          52,
          53,
          54,
          55,
          56,
          57,
          58,
          59,
          60,
          61,
          62,
          63,
          64,
          65,
          66,
          67,
          68,
          69,
          70,
          71,
          72,
          73,
          74,
          75,
          76,
          77,
          78,
          79,
          80,
          81,
          82,
          83,
          84,
          85,
          86,
          87,
          88,
          89,
          90,
          91,
          92,
          93,
          94,
          95,
          96,
          97,
          98,
          99,
          100,
          101,
          102,
          103,
          104,
          105,
          106,
          107,
          108,
          109,
          110,
          111,
          112,
          113,
          114,
          115,
          116,
          117,
          118,
          119,
          120,
          121,
          122,
          123,
          124,
          125,
          126,
          127,
          128,
          129,
          130,
          131,
          132,
          133,
          134,
          135,
          136,
          137,
          138,
          139,
          140,
          141,
          142,
          143,
          144,
          145,
          146,
          147
         ],
         "xaxis": "x3",
         "y": {
          "bdata": "BAcOAwcHBAMHBAMEAwMHAwYEDgMEDg4EAwcHAwQHBwcHDg4DDgoOBAwHBw4EAwcDAwoHDgQEDgcLBw4OBAMHAw4EBAMODgcEDg4OBw4GAwcDCgMHDgcHAwMHBA4LBAMHAQMEAw0AAwcODgMPAwcDDgcHDgoBCwcEBAMOAQ4KCg4EAw4HBA4GBwQDAw4DAwcDDgcEBw==",
          "dtype": "i1"
         },
         "yaxis": "y3"
        },
        {
         "marker": {
          "color": "#96CEB4"
         },
         "name": "차이 분포",
         "nbinsx": 20,
         "type": "histogram",
         "x": {
          "bdata": "/QQH/AQE/fwE9vz9/PwE/Pr9Cv/2Cgf9/AT5/AEEBAQECgf8B/wH/QUEBAT9/AT8/P4DCvb9BwT/+QcH9vwE/Af9A/wHBwT2AgoHBAr5/AT8A/wECgQE/PwE/QoK/fz5/fz9/Ab5/AQHB/wD/AP8BwQEBwT6AQP9/fwK+goD/gr9/AoD/QcFBP38/wf8/AT8BwT9BA==",
          "dtype": "i1"
         },
         "xaxis": "x4",
         "yaxis": "y4"
        }
       ],
       "layout": {
        "annotations": [
         {
          "font": {
           "size": 16
          },
          "showarrow": false,
          "text": "🔥 차이 패턴 빈도 분석",
          "x": 0.225,
          "xanchor": "center",
          "xref": "paper",
          "y": 1,
          "yanchor": "bottom",
          "yref": "paper"
         },
         {
          "font": {
           "size": 16
          },
          "showarrow": false,
          "text": "📊 클래스 변화 분포",
          "x": 0.775,
          "xanchor": "center",
          "xref": "paper",
          "y": 1,
          "yanchor": "bottom",
          "yref": "paper"
         },
         {
          "font": {
           "size": 16
          },
          "showarrow": false,
          "text": "🎯 ID별 차이 분포",
          "x": 0.225,
          "xanchor": "center",
          "xref": "paper",
          "y": 0.375,
          "yanchor": "bottom",
          "yref": "paper"
         },
         {
          "font": {
           "size": 16
          },
          "showarrow": false,
          "text": "📈 차이 크기 히스토그램",
          "x": 0.775,
          "xanchor": "center",
          "xref": "paper",
          "y": 0.375,
          "yanchor": "bottom",
          "yref": "paper"
         }
        ],
        "height": 1000,
        "showlegend": true,
        "template": {
         "data": {
          "bar": [
           {
            "error_x": {
             "color": "#2a3f5f"
            },
            "error_y": {
             "color": "#2a3f5f"
            },
            "marker": {
             "line": {
              "color": "#E5ECF6",
              "width": 0.5
             },
             "pattern": {
              "fillmode": "overlay",
              "size": 10,
              "solidity": 0.2
             }
            },
            "type": "bar"
           }
          ],
          "barpolar": [
           {
            "marker": {
             "line": {
              "color": "#E5ECF6",
              "width": 0.5
             },
             "pattern": {
              "fillmode": "overlay",
              "size": 10,
              "solidity": 0.2
             }
            },
            "type": "barpolar"
           }
          ],
          "carpet": [
           {
            "aaxis": {
             "endlinecolor": "#2a3f5f",
             "gridcolor": "white",
             "linecolor": "white",
             "minorgridcolor": "white",
             "startlinecolor": "#2a3f5f"
            },
            "baxis": {
             "endlinecolor": "#2a3f5f",
             "gridcolor": "white",
             "linecolor": "white",
             "minorgridcolor": "white",
             "startlinecolor": "#2a3f5f"
            },
            "type": "carpet"
           }
          ],
          "choropleth": [
           {
            "colorbar": {
             "outlinewidth": 0,
             "ticks": ""
            },
            "type": "choropleth"
           }
          ],
          "contour": [
           {
            "colorbar": {
             "outlinewidth": 0,
             "ticks": ""
            },
            "colorscale": [
             [
              0,
              "#0d0887"
             ],
             [
              0.1111111111111111,
              "#46039f"
             ],
             [
              0.2222222222222222,
              "#7201a8"
             ],
             [
              0.3333333333333333,
              "#9c179e"
             ],
             [
              0.4444444444444444,
              "#bd3786"
             ],
             [
              0.5555555555555556,
              "#d8576b"
             ],
             [
              0.6666666666666666,
              "#ed7953"
             ],
             [
              0.7777777777777778,
              "#fb9f3a"
             ],
             [
              0.8888888888888888,
              "#fdca26"
             ],
             [
              1,
              "#f0f921"
             ]
            ],
            "type": "contour"
           }
          ],
          "contourcarpet": [
           {
            "colorbar": {
             "outlinewidth": 0,
             "ticks": ""
            },
            "type": "contourcarpet"
           }
          ],
          "heatmap": [
           {
            "colorbar": {
             "outlinewidth": 0,
             "ticks": ""
            },
            "colorscale": [
             [
              0,
              "#0d0887"
             ],
             [
              0.1111111111111111,
              "#46039f"
             ],
             [
              0.2222222222222222,
              "#7201a8"
             ],
             [
              0.3333333333333333,
              "#9c179e"
             ],
             [
              0.4444444444444444,
              "#bd3786"
             ],
             [
              0.5555555555555556,
              "#d8576b"
             ],
             [
              0.6666666666666666,
              "#ed7953"
             ],
             [
              0.7777777777777778,
              "#fb9f3a"
             ],
             [
              0.8888888888888888,
              "#fdca26"
             ],
             [
              1,
              "#f0f921"
             ]
            ],
            "type": "heatmap"
           }
          ],
          "histogram": [
           {
            "marker": {
             "pattern": {
              "fillmode": "overlay",
              "size": 10,
              "solidity": 0.2
             }
            },
            "type": "histogram"
           }
          ],
          "histogram2d": [
           {
            "colorbar": {
             "outlinewidth": 0,
             "ticks": ""
            },
            "colorscale": [
             [
              0,
              "#0d0887"
             ],
             [
              0.1111111111111111,
              "#46039f"
             ],
             [
              0.2222222222222222,
              "#7201a8"
             ],
             [
              0.3333333333333333,
              "#9c179e"
             ],
             [
              0.4444444444444444,
              "#bd3786"
             ],
             [
              0.5555555555555556,
              "#d8576b"
             ],
             [
              0.6666666666666666,
              "#ed7953"
             ],
             [
              0.7777777777777778,
              "#fb9f3a"
             ],
             [
              0.8888888888888888,
              "#fdca26"
             ],
             [
              1,
              "#f0f921"
             ]
            ],
            "type": "histogram2d"
           }
          ],
          "histogram2dcontour": [
           {
            "colorbar": {
             "outlinewidth": 0,
             "ticks": ""
            },
            "colorscale": [
             [
              0,
              "#0d0887"
             ],
             [
              0.1111111111111111,
              "#46039f"
             ],
             [
              0.2222222222222222,
              "#7201a8"
             ],
             [
              0.3333333333333333,
              "#9c179e"
             ],
             [
              0.4444444444444444,
              "#bd3786"
             ],
             [
              0.5555555555555556,
              "#d8576b"
             ],
             [
              0.6666666666666666,
              "#ed7953"
             ],
             [
              0.7777777777777778,
              "#fb9f3a"
             ],
             [
              0.8888888888888888,
              "#fdca26"
             ],
             [
              1,
              "#f0f921"
             ]
            ],
            "type": "histogram2dcontour"
           }
          ],
          "mesh3d": [
           {
            "colorbar": {
             "outlinewidth": 0,
             "ticks": ""
            },
            "type": "mesh3d"
           }
          ],
          "parcoords": [
           {
            "line": {
             "colorbar": {
              "outlinewidth": 0,
              "ticks": ""
             }
            },
            "type": "parcoords"
           }
          ],
          "pie": [
           {
            "automargin": true,
            "type": "pie"
           }
          ],
          "scatter": [
           {
            "fillpattern": {
             "fillmode": "overlay",
             "size": 10,
             "solidity": 0.2
            },
            "type": "scatter"
           }
          ],
          "scatter3d": [
           {
            "line": {
             "colorbar": {
              "outlinewidth": 0,
              "ticks": ""
             }
            },
            "marker": {
             "colorbar": {
              "outlinewidth": 0,
              "ticks": ""
             }
            },
            "type": "scatter3d"
           }
          ],
          "scattercarpet": [
           {
            "marker": {
             "colorbar": {
              "outlinewidth": 0,
              "ticks": ""
             }
            },
            "type": "scattercarpet"
           }
          ],
          "scattergeo": [
           {
            "marker": {
             "colorbar": {
              "outlinewidth": 0,
              "ticks": ""
             }
            },
            "type": "scattergeo"
           }
          ],
          "scattergl": [
           {
            "marker": {
             "colorbar": {
              "outlinewidth": 0,
              "ticks": ""
             }
            },
            "type": "scattergl"
           }
          ],
          "scattermap": [
           {
            "marker": {
             "colorbar": {
              "outlinewidth": 0,
              "ticks": ""
             }
            },
            "type": "scattermap"
           }
          ],
          "scattermapbox": [
           {
            "marker": {
             "colorbar": {
              "outlinewidth": 0,
              "ticks": ""
             }
            },
            "type": "scattermapbox"
           }
          ],
          "scatterpolar": [
           {
            "marker": {
             "colorbar": {
              "outlinewidth": 0,
              "ticks": ""
             }
            },
            "type": "scatterpolar"
           }
          ],
          "scatterpolargl": [
           {
            "marker": {
             "colorbar": {
              "outlinewidth": 0,
              "ticks": ""
             }
            },
            "type": "scatterpolargl"
           }
          ],
          "scatterternary": [
           {
            "marker": {
             "colorbar": {
              "outlinewidth": 0,
              "ticks": ""
             }
            },
            "type": "scatterternary"
           }
          ],
          "surface": [
           {
            "colorbar": {
             "outlinewidth": 0,
             "ticks": ""
            },
            "colorscale": [
             [
              0,
              "#0d0887"
             ],
             [
              0.1111111111111111,
              "#46039f"
             ],
             [
              0.2222222222222222,
              "#7201a8"
             ],
             [
              0.3333333333333333,
              "#9c179e"
             ],
             [
              0.4444444444444444,
              "#bd3786"
             ],
             [
              0.5555555555555556,
              "#d8576b"
             ],
             [
              0.6666666666666666,
              "#ed7953"
             ],
             [
              0.7777777777777778,
              "#fb9f3a"
             ],
             [
              0.8888888888888888,
              "#fdca26"
             ],
             [
              1,
              "#f0f921"
             ]
            ],
            "type": "surface"
           }
          ],
          "table": [
           {
            "cells": {
             "fill": {
              "color": "#EBF0F8"
             },
             "line": {
              "color": "white"
             }
            },
            "header": {
             "fill": {
              "color": "#C8D4E3"
             },
             "line": {
              "color": "white"
             }
            },
            "type": "table"
           }
          ]
         },
         "layout": {
          "annotationdefaults": {
           "arrowcolor": "#2a3f5f",
           "arrowhead": 0,
           "arrowwidth": 1
          },
          "autotypenumbers": "strict",
          "coloraxis": {
           "colorbar": {
            "outlinewidth": 0,
            "ticks": ""
           }
          },
          "colorscale": {
           "diverging": [
            [
             0,
             "#8e0152"
            ],
            [
             0.1,
             "#c51b7d"
            ],
            [
             0.2,
             "#de77ae"
            ],
            [
             0.3,
             "#f1b6da"
            ],
            [
             0.4,
             "#fde0ef"
            ],
            [
             0.5,
             "#f7f7f7"
            ],
            [
             0.6,
             "#e6f5d0"
            ],
            [
             0.7,
             "#b8e186"
            ],
            [
             0.8,
             "#7fbc41"
            ],
            [
             0.9,
             "#4d9221"
            ],
            [
             1,
             "#276419"
            ]
           ],
           "sequential": [
            [
             0,
             "#0d0887"
            ],
            [
             0.1111111111111111,
             "#46039f"
            ],
            [
             0.2222222222222222,
             "#7201a8"
            ],
            [
             0.3333333333333333,
             "#9c179e"
            ],
            [
             0.4444444444444444,
             "#bd3786"
            ],
            [
             0.5555555555555556,
             "#d8576b"
            ],
            [
             0.6666666666666666,
             "#ed7953"
            ],
            [
             0.7777777777777778,
             "#fb9f3a"
            ],
            [
             0.8888888888888888,
             "#fdca26"
            ],
            [
             1,
             "#f0f921"
            ]
           ],
           "sequentialminus": [
            [
             0,
             "#0d0887"
            ],
            [
             0.1111111111111111,
             "#46039f"
            ],
            [
             0.2222222222222222,
             "#7201a8"
            ],
            [
             0.3333333333333333,
             "#9c179e"
            ],
            [
             0.4444444444444444,
             "#bd3786"
            ],
            [
             0.5555555555555556,
             "#d8576b"
            ],
            [
             0.6666666666666666,
             "#ed7953"
            ],
            [
             0.7777777777777778,
             "#fb9f3a"
            ],
            [
             0.8888888888888888,
             "#fdca26"
            ],
            [
             1,
             "#f0f921"
            ]
           ]
          },
          "colorway": [
           "#636efa",
           "#EF553B",
           "#00cc96",
           "#ab63fa",
           "#FFA15A",
           "#19d3f3",
           "#FF6692",
           "#B6E880",
           "#FF97FF",
           "#FECB52"
          ],
          "font": {
           "color": "#2a3f5f"
          },
          "geo": {
           "bgcolor": "white",
           "lakecolor": "white",
           "landcolor": "#E5ECF6",
           "showlakes": true,
           "showland": true,
           "subunitcolor": "white"
          },
          "hoverlabel": {
           "align": "left"
          },
          "hovermode": "closest",
          "mapbox": {
           "style": "light"
          },
          "paper_bgcolor": "white",
          "plot_bgcolor": "#E5ECF6",
          "polar": {
           "angularaxis": {
            "gridcolor": "white",
            "linecolor": "white",
            "ticks": ""
           },
           "bgcolor": "#E5ECF6",
           "radialaxis": {
            "gridcolor": "white",
            "linecolor": "white",
            "ticks": ""
           }
          },
          "scene": {
           "xaxis": {
            "backgroundcolor": "#E5ECF6",
            "gridcolor": "white",
            "gridwidth": 2,
            "linecolor": "white",
            "showbackground": true,
            "ticks": "",
            "zerolinecolor": "white"
           },
           "yaxis": {
            "backgroundcolor": "#E5ECF6",
            "gridcolor": "white",
            "gridwidth": 2,
            "linecolor": "white",
            "showbackground": true,
            "ticks": "",
            "zerolinecolor": "white"
           },
           "zaxis": {
            "backgroundcolor": "#E5ECF6",
            "gridcolor": "white",
            "gridwidth": 2,
            "linecolor": "white",
            "showbackground": true,
            "ticks": "",
            "zerolinecolor": "white"
           }
          },
          "shapedefaults": {
           "line": {
            "color": "#2a3f5f"
           }
          },
          "ternary": {
           "aaxis": {
            "gridcolor": "white",
            "linecolor": "white",
            "ticks": ""
           },
           "baxis": {
            "gridcolor": "white",
            "linecolor": "white",
            "ticks": ""
           },
           "bgcolor": "#E5ECF6",
           "caxis": {
            "gridcolor": "white",
            "linecolor": "white",
            "ticks": ""
           }
          },
          "title": {
           "x": 0.05
          },
          "xaxis": {
           "automargin": true,
           "gridcolor": "white",
           "linecolor": "white",
           "ticks": "",
           "title": {
            "standoff": 15
           },
           "zerolinecolor": "white",
           "zerolinewidth": 2
          },
          "yaxis": {
           "automargin": true,
           "gridcolor": "white",
           "linecolor": "white",
           "ticks": "",
           "title": {
            "standoff": 15
           },
           "zerolinecolor": "white",
           "zerolinewidth": 2
          }
         }
        },
        "title": {
         "font": {
          "size": 20
         },
         "text": "🔍 예측 차이점 상세 분석"
        },
        "xaxis": {
         "anchor": "y",
         "domain": [
          0,
          0.45
         ],
         "tickangle": 45
        },
        "xaxis2": {
         "anchor": "y2",
         "domain": [
          0.55,
          1
         ]
        },
        "xaxis3": {
         "anchor": "y3",
         "domain": [
          0,
          0.45
         ]
        },
        "xaxis4": {
         "anchor": "y4",
         "domain": [
          0.55,
          1
         ]
        },
        "yaxis": {
         "anchor": "x",
         "domain": [
          0.625,
          1
         ]
        },
        "yaxis2": {
         "anchor": "x2",
         "domain": [
          0.625,
          1
         ]
        },
        "yaxis3": {
         "anchor": "x3",
         "domain": [
          0,
          0.375
         ]
        },
        "yaxis4": {
         "anchor": "x4",
         "domain": [
          0,
          0.375
         ]
        }
       }
      }
     },
     "metadata": {},
     "output_type": "display_data"
    },
    {
     "name": "stderr",
     "output_type": "stream",
     "text": [
      "INFO\tnotebook_swin_vs_swin_advanced_augmentation:notebook_logger.py:log_success()- SUCCESS: 그림 저장: notebooks/modular/results_comparison/swin_vs_swin_advanced_augmentation/20250907_093456/images/difference_analysis.png\n"
     ]
    },
    {
     "name": "stdout",
     "output_type": "stream",
     "text": [
      "✅ 그림 저장: notebooks/modular/results_comparison/swin_vs_swin_advanced_augmentation/20250907_093456/images/difference_analysis.png\n",
      "💾 차이점 분석 차트가 PNG로 저장되었습니다!\n",
      "✅ 차이점 시각화 차트가 성공적으로 생성되었습니다.\n"
     ]
    }
   ],
   "source": [
    "# 📊 차이점 시각화 (다양한 관점)\n",
    "def plot_difference_analysis():\n",
    "    \"\"\"\n",
    "    차이점 분석을 위한 4개 서브플롯 차트 생성\n",
    "    \n",
    "    Returns:\n",
    "        plotly.graph_objects.Figure or None: 생성된 차트 또는 None\n",
    "    \"\"\"\n",
    "    # 필요한 데이터가 있는지 확인\n",
    "    if not (file1_info and file2_info and len(different_predictions) > 0):\n",
    "        print(\"⚠️ 차이점 데이터가 없어 시각화를 생성할 수 없습니다.\")\n",
    "        return None\n",
    "    \n",
    "    # 서브플롯 생성\n",
    "    fig = make_subplots(\n",
    "        rows=2, cols=2,\n",
    "        subplot_titles=[\n",
    "            \"🔥 차이 패턴 빈도 분석\",\n",
    "            \"📊 클래스 변화 분포\",\n",
    "            \"🎯 ID별 차이 분포\",\n",
    "            \"📈 차이 크기 히스토그램\"\n",
    "        ]\n",
    "    )\n",
    "    \n",
    "    # 1. 차이 패턴 빈도 (막대 차트)\n",
    "    pattern_counts = different_predictions.groupby(['target_file1', 'target_file2']).size().reset_index(name='count')\n",
    "    pattern_counts['pattern'] = pattern_counts['target_file1'].astype(str) + ' → ' + pattern_counts['target_file2'].astype(str)\n",
    "    pattern_counts = pattern_counts.sort_values('count', ascending=False).head(15)\n",
    "    \n",
    "    fig.add_trace(\n",
    "        go.Bar(\n",
    "            x=pattern_counts['pattern'],\n",
    "            y=pattern_counts['count'],\n",
    "            marker_color='#FF6B6B',\n",
    "            name=\"패턴 빈도\"\n",
    "        ),\n",
    "        row=1, col=1\n",
    "    )\n",
    "    \n",
    "    # 2. 클래스 변화 분포 (산점도)\n",
    "    fig.add_trace(\n",
    "        go.Scatter(\n",
    "            x=different_predictions['target_file1'],\n",
    "            y=different_predictions['target_file2'],\n",
    "            mode='markers',\n",
    "            marker=dict(size=8, color='#4ECDC4', opacity=0.6),\n",
    "            name=\"클래스 변화\"\n",
    "        ),\n",
    "        row=1, col=2\n",
    "    )\n",
    "    \n",
    "    # 대각선 추가 (일치하는 경우)\n",
    "    max_class = max(different_predictions['target_file1'].max(), different_predictions['target_file2'].max())\n",
    "    fig.add_trace(\n",
    "        go.Scatter(\n",
    "            x=[0, max_class],\n",
    "            y=[0, max_class],\n",
    "            mode='lines',\n",
    "            line=dict(color='red', dash='dash'),\n",
    "            name=\"완전 일치선\"\n",
    "        ),\n",
    "        row=1, col=2\n",
    "    )\n",
    "    \n",
    "    # 3. ID별 차이 분포 (샘플 순서대로) - plotly는 range 객체를 받지 않으므로 리스트로 변환\n",
    "    sample_indices = list(range(len(different_predictions)))  # range를 list로 변환\n",
    "    fig.add_trace(\n",
    "        go.Scatter(\n",
    "            x=sample_indices,\n",
    "            y=different_predictions['target_file1'],\n",
    "            mode='markers',\n",
    "            marker=dict(color='#FF6B6B', size=4),\n",
    "            name=\"File 1 예측\"\n",
    "        ),\n",
    "        row=2, col=1\n",
    "    )\n",
    "    \n",
    "    fig.add_trace(\n",
    "        go.Scatter(\n",
    "            x=sample_indices,\n",
    "            y=different_predictions['target_file2'],\n",
    "            mode='markers',\n",
    "            marker=dict(color='#4ECDC4', size=4),\n",
    "            name=\"File 2 예측\"\n",
    "        ),\n",
    "        row=2, col=1\n",
    "    )\n",
    "    \n",
    "    # 4. 차이 크기 히스토그램\n",
    "    diff_values = different_predictions['target_file2'] - different_predictions['target_file1']\n",
    "    fig.add_trace(\n",
    "        go.Histogram(\n",
    "            x=diff_values,\n",
    "            nbinsx=20,\n",
    "            marker_color='#96CEB4',\n",
    "            name=\"차이 분포\"\n",
    "        ),\n",
    "        row=2, col=2\n",
    "    )\n",
    "    \n",
    "    # 레이아웃 업데이트\n",
    "    fig.update_layout(\n",
    "        height=1000,\n",
    "        title=\"🔍 예측 차이점 상세 분석\",\n",
    "        title_font_size=20,\n",
    "        showlegend=True\n",
    "    )\n",
    "    \n",
    "    # X축 라벨 회전 (패턴 차트)\n",
    "    fig.update_xaxes(tickangle=45, row=1, col=1)\n",
    "    \n",
    "    return fig\n",
    "\n",
    "# 차이점 분석 차트 생성 및 표시\n",
    "try:\n",
    "    # 필요한 변수들이 정의되어 있는지 확인\n",
    "    required_vars = ['file1_info', 'file2_info', 'different_predictions']\n",
    "    missing_vars = [var for var in required_vars if var not in globals()]\n",
    "    \n",
    "    if missing_vars:\n",
    "        print(f\"❌ 필요한 변수가 정의되지 않았습니다: {', '.join(missing_vars)}\")\n",
    "        print(\"   이전 셀들을 먼저 실행해주세요.\")\n",
    "    elif 'different_predictions' in globals() and len(different_predictions) > 0:\n",
    "        diff_fig = plot_difference_analysis()\n",
    "        if diff_fig is not None:\n",
    "            diff_fig.show()\n",
    "            \n",
    "            # plotly 차트를 PNG로 저장 (matplotlib 방식 사용)\n",
    "            try:\n",
    "                # kaleido 없이 matplotlib로 저장\n",
    "                if 'comparison_logger' in globals():\n",
    "                    # 한글 폰트 설정 재적용 (matplotlib 차트용)\n",
    "                    import matplotlib.pyplot as plt\n",
    "                    import matplotlib.font_manager as fm\n",
    "                    \n",
    "                    font_path = './font/NanumGothic.ttf'\n",
    "                    if os.path.exists(font_path):\n",
    "                        fontprop = fm.FontProperties(fname=font_path)\n",
    "                        plt.rcParams['font.family'] = 'NanumGothic'\n",
    "                        plt.rcParams['font.size'] = 10\n",
    "                        plt.rcParams['axes.unicode_minus'] = False\n",
    "                    \n",
    "                    # 간단한 matplotlib 기반 대체 차트 생성 (plotly 저장 실패 시)\n",
    "                    fig_alt, ((ax1, ax2), (ax3, ax4)) = plt.subplots(2, 2, figsize=(16, 12))\n",
    "                    \n",
    "                    # 1. 패턴 빈도 (간단화)\n",
    "                    pattern_counts = different_predictions.groupby(['target_file1', 'target_file2']).size().reset_index(name='count')\n",
    "                    top_patterns = pattern_counts.nlargest(10, 'count')\n",
    "                    pattern_labels = [f\"{row['target_file1']}→{row['target_file2']}\" for _, row in top_patterns.iterrows()]\n",
    "                    ax1.bar(range(len(top_patterns)), top_patterns['count'], color='#FF6B6B')\n",
    "                    ax1.set_title('차이 패턴 빈도 (상위 10개)', fontweight='bold', fontsize=12)\n",
    "                    ax1.set_xlabel('패턴', fontsize=10)\n",
    "                    ax1.set_ylabel('빈도', fontsize=10)\n",
    "                    ax1.set_xticks(range(len(top_patterns)))\n",
    "                    ax1.set_xticklabels(pattern_labels, rotation=45)\n",
    "                    \n",
    "                    # 2. 클래스 변화 산점도\n",
    "                    ax2.scatter(different_predictions['target_file1'], different_predictions['target_file2'], \n",
    "                               color='#4ECDC4', alpha=0.6)\n",
    "                    ax2.plot([0, 16], [0, 16], 'r--', label='완전 일치선')\n",
    "                    ax2.set_title('클래스 변화 분포', fontweight='bold', fontsize=12)\n",
    "                    ax2.set_xlabel('파일 1 예측', fontsize=10)\n",
    "                    ax2.set_ylabel('파일 2 예측', fontsize=10)\n",
    "                    ax2.legend()\n",
    "                    \n",
    "                    # 3. 차이 크기 히스토그램\n",
    "                    diff_values = different_predictions['target_file2'] - different_predictions['target_file1']\n",
    "                    ax3.hist(diff_values, bins=20, color='#96CEB4', alpha=0.7)\n",
    "                    ax3.set_title('차이 크기 분포', fontweight='bold', fontsize=12)\n",
    "                    ax3.set_xlabel('예측 차이', fontsize=10)\n",
    "                    ax3.set_ylabel('빈도', fontsize=10)\n",
    "                    \n",
    "                    # 4. 요약 통계\n",
    "                    ax4.text(0.1, 0.8, f'전체 차이점: {len(different_predictions)}개', fontsize=12, transform=ax4.transAxes)\n",
    "                    ax4.text(0.1, 0.6, f'가장 빈번한 변화: {pattern_labels[0]}', fontsize=12, transform=ax4.transAxes)\n",
    "                    ax4.text(0.1, 0.4, f'평균 차이: {diff_values.mean():.2f}', fontsize=12, transform=ax4.transAxes)\n",
    "                    ax4.text(0.1, 0.2, f'차이 표준편차: {diff_values.std():.2f}', fontsize=12, transform=ax4.transAxes)\n",
    "                    ax4.set_title('요약 통계', fontweight='bold', fontsize=12)\n",
    "                    ax4.axis('off')\n",
    "                    \n",
    "                    plt.suptitle('🔍 예측 차이점 상세 분석 (요약)', fontsize=16, fontweight='bold')\n",
    "                    plt.tight_layout()\n",
    "                    \n",
    "                    # matplotlib 차트 저장\n",
    "                    comparison_logger.save_figure(\n",
    "                        fig_alt, \n",
    "                        \"difference_analysis.png\",\n",
    "                        \"차이점 상세 분석 차트 - 패턴 빈도, 클래스 변화, 차이 분포, 요약 통계\"\n",
    "                    )\n",
    "                    \n",
    "                    plt.close(fig_alt)\n",
    "                    print(\"💾 차이점 분석 차트가 PNG로 저장되었습니다!\")\n",
    "                else:\n",
    "                    print(\"⚠️ 로거가 설정되지 않아 이미지 저장을 건너뜁니다.\")\n",
    "                    \n",
    "            except Exception as save_error:\n",
    "                print(f\"⚠️ 차트 저장 중 오류 (무시됨): {str(save_error)}\")\n",
    "                \n",
    "            print(\"✅ 차이점 시각화 차트가 성공적으로 생성되었습니다.\")\n",
    "        else:\n",
    "            print(\"⚠️ 차트를 생성할 수 없습니다.\")\n",
    "    else:\n",
    "        print(\"ℹ️ 차이점이 없거나 데이터가 준비되지 않았습니다.\")\n",
    "        print(\"   이전 셀들을 실행하여 데이터를 로드해주세요.\")\n",
    "        \n",
    "except NameError as e:\n",
    "    print(f\"❌ 변수 정의 오류: {str(e)}\")\n",
    "    print(\"   이전 셀들을 순서대로 실행해주세요.\")\n",
    "except Exception as e:\n",
    "    print(f\"❌ 차트 생성 중 오류 발생: {str(e)}\")\n",
    "    print(\"   데이터 상태를 확인해주세요.\")"
   ]
  },
  {
   "cell_type": "code",
   "execution_count": 12,
   "id": "36d2a433",
   "metadata": {},
   "outputs": [
    {
     "name": "stderr",
     "output_type": "stream",
     "text": [
      "INFO\tnotebook_swin_vs_swin_advanced_augmentation:notebook_logger.py:log_success()- SUCCESS: 데이터프레임 저장: notebooks/modular/results_comparison/swin_vs_swin_advanced_augmentation/20250907_093456/data/full_comparison.csv (3140 행)\n",
      "INFO\tnotebook_swin_vs_swin_advanced_augmentation:notebook_logger.py:log_success()- SUCCESS: 데이터프레임 저장: notebooks/modular/results_comparison/swin_vs_swin_advanced_augmentation/20250907_093456/data/differences.csv (148 행)\n",
      "INFO\tnotebook_swin_vs_swin_advanced_augmentation:notebook_logger.py:log_success()- SUCCESS: 성능 메트릭 저장: notebooks/modular/results_comparison/swin_vs_swin_advanced_augmentation/20250907_093456/results/basic_metrics_metrics.json\n",
      "INFO\tnotebook_swin_vs_swin_advanced_augmentation:notebook_logger.py:log_info()- 결과 저장: comparison\n",
      "INFO\tnotebook_swin_vs_swin_advanced_augmentation:notebook_logger.py:log_success()- SUCCESS: 작업 완료! 총 소요 시간: 2.27초\n",
      "INFO\tnotebook_swin_vs_swin_advanced_augmentation:notebook_logger.py:log_success()- SUCCESS: 결과 요약: notebooks/modular/results_comparison/swin_vs_swin_advanced_augmentation/20250907_093456/summary.json\n"
     ]
    },
    {
     "name": "stdout",
     "output_type": "stream",
     "text": [
      "🚀 결과 저장 시작...\n",
      "📂 CSV 저장 중...\n",
      "✅ 데이터프레임 저장: notebooks/modular/results_comparison/swin_vs_swin_advanced_augmentation/20250907_093456/data/full_comparison.csv (3140 행)\n",
      "✅ 전체 데이터 저장: 3,140개\n",
      "✅ 데이터프레임 저장: notebooks/modular/results_comparison/swin_vs_swin_advanced_augmentation/20250907_093456/data/differences.csv (148 행)\n",
      "✅ 차이점 저장: 148개\n",
      "📊 메트릭 저장 중...\n",
      "✅ 성능 메트릭 저장: notebooks/modular/results_comparison/swin_vs_swin_advanced_augmentation/20250907_093456/results/basic_metrics_metrics.json\n",
      "✅ 메트릭 저장 완료\n",
      "🏁 테스트 완료 처리...\n",
      "📝 결과 저장: comparison\n",
      "✅ 작업 완료! 총 소요 시간: 2.27초\n",
      "✅ 결과 요약: notebooks/modular/results_comparison/swin_vs_swin_advanced_augmentation/20250907_093456/summary.json\n",
      "\n",
      "==================================================\n",
      "🏁 노트북 작업 완료: swin_vs_swin_advanced_augmentation\n",
      "==================================================\n",
      "📁 결과 디렉토리: notebooks/modular/results_comparison/swin_vs_swin_advanced_augmentation/20250907_093456\n",
      "⏱️ 소요 시간: 2.27초\n",
      "📊 섹션 수: 1\n",
      "==================================================\n",
      "✅ 테스트 완료\n",
      "\n",
      "========================================\n",
      "🎉 저장 완료!\n",
      "📊 총 샘플: 3,140\n",
      "✅ 일치: 2,992 (95.29%)\n",
      "❌ 차이: 148\n",
      "📁 위치: notebooks/modular/results_comparison/swin_vs_swin_advanced_augmentation/20250907_093456\n",
      "========================================\n",
      "✨ 완료!\n"
     ]
    }
   ],
   "source": [
    "# 💾 최소한의 결과 저장 (무한 실행 해결)\n",
    "\n",
    "print(\"🚀 결과 저장 시작...\")\n",
    "\n",
    "try:\n",
    "    # 1. 필수 CSV 저장\n",
    "    print(\"📂 CSV 저장 중...\")\n",
    "    comparison_logger.save_dataframe(merged_df, \"full_comparison.csv\", \"전체 비교 데이터\")\n",
    "    print(f\"✅ 전체 데이터 저장: {len(merged_df):,}개\")\n",
    "    \n",
    "    if len(different_predictions) > 0:\n",
    "        comparison_logger.save_dataframe(different_predictions, \"differences.csv\", \"차이점 데이터\")\n",
    "        print(f\"✅ 차이점 저장: {len(different_predictions):,}개\")\n",
    "    \n",
    "    # 2. 간단한 메트릭 저장\n",
    "    print(\"📊 메트릭 저장 중...\")\n",
    "    metrics = {\n",
    "        \"total\": len(merged_df),\n",
    "        \"same\": len(same_predictions),\n",
    "        \"different\": len(different_predictions),\n",
    "        \"match_rate\": round((len(same_predictions) / len(merged_df)) * 100, 2)\n",
    "    }\n",
    "    comparison_logger.save_performance_metrics(metrics, \"basic_metrics\")\n",
    "    print(\"✅ 메트릭 저장 완료\")\n",
    "    \n",
    "    # 3. 테스트 완료\n",
    "    print(\"🏁 테스트 완료 처리...\")\n",
    "    comparison_logger.save_test_result(\"comparison\", {\"status\": \"completed\"})\n",
    "    comparison_logger.finalize_test()\n",
    "    print(\"✅ 테스트 완료\")\n",
    "    \n",
    "    # 4. 최종 결과\n",
    "    print(\"\\n\" + \"=\"*40)\n",
    "    print(\"🎉 저장 완료!\")\n",
    "    print(f\"📊 총 샘플: {len(merged_df):,}\")\n",
    "    print(f\"✅ 일치: {len(same_predictions):,} ({metrics['match_rate']}%)\")\n",
    "    print(f\"❌ 차이: {len(different_predictions):,}\")\n",
    "    print(f\"📁 위치: {comparison_logger.base_dir}\")\n",
    "    print(\"=\"*40)\n",
    "    \n",
    "except Exception as e:\n",
    "    print(f\"❌ 오류: {e}\")\n",
    "    \n",
    "print(\"✨ 완료!\")"
   ]
  },
  {
   "cell_type": "markdown",
   "id": "1919ab18",
   "metadata": {},
   "source": [
    "## 📝 사용법 가이드\n",
    "\n",
    "### 🎯 **빠른 시작**\n",
    "1. **파일 경로 설정**: 첫 번째 셀에서 `FILE_1_PATH`, `FILE_2_PATH`, `COMPARISON_NAME` 수정\n",
    "2. **분석 실행**: 모든 셀을 순차적으로 실행\n",
    "3. **결과 확인**: 시각화 차트와 표를 통해 차이점 분석\n",
    "4. **결과 저장**: 자동으로 logs, images, results 폴더에 모든 결과 저장\n",
    "\n",
    "### 📊 **제공되는 분석**\n",
    "- **전체 비교**: 클래스 분포, 예측 매트릭스, 일치율\n",
    "- **차이점 추출**: 예측이 다른 샘플들만 별도 분석\n",
    "- **패턴 분석**: 가장 빈번한 차이 패턴 및 클래스 변화\n",
    "- **상세 표**: 차이나는 모든 샘플의 ID와 예측값\n",
    "- **시각화**: 인터랙티브 차트로 다각도 분석\n",
    "\n",
    "### 💾 **저장 구조**\n",
    "```\n",
    "notebooks/modular/results_comparison/two_files_detailed_comparison/\n",
    "└── {COMPARISON_NAME}/\n",
    "    └── {YYYYMMDD}/\n",
    "        ├── images/\n",
    "        │   ├── overall_comparison.png\n",
    "        │   └── difference_analysis_{timestamp}.png\n",
    "        ├── logs/\n",
    "        │   └── comparison_log_{timestamp}.txt\n",
    "        └── results/\n",
    "            ├── full_comparison_{timestamp}.csv\n",
    "            ├── differences_only_{timestamp}.csv\n",
    "            ├── pattern_summary_{timestamp}.csv\n",
    "            └── comparison_report_{timestamp}.txt\n",
    "```\n",
    "\n",
    "### 📁 **파일 설명**\n",
    "- **images/**: 모든 시각화 차트 PNG 파일\n",
    "- **logs/**: 상세 실행 로그 및 분석 과정\n",
    "- **results/**: CSV 데이터 파일들과 종합 보고서\n",
    "\n",
    "### ⚡ **활용 예시**\n",
    "- **모델 성능 비교**: `EfficientNet vs Swin` 결과 비교\n",
    "- **버전 비교**: `동일 모델의 다른 하이퍼파라미터` 결과 비교\n",
    "- **앙상블 분석**: `개별 모델 vs 앙상블` 결과 비교\n",
    "- **날짜별 비교**: `같은 모델의 다른 날짜` 결과 비교\n",
    "\n",
    "### 🔧 **커스터마이징**\n",
    "- **경로 변경**: 첫 번째 셀의 `FILE_1_PATH`, `FILE_2_PATH` 수정\n",
    "- **비교명 변경**: `COMPARISON_NAME`으로 결과 폴더명 설정\n",
    "- **시각화 스타일**: 차트 색상 및 레이아웃 코드 수정 가능\n",
    "\n",
    "---\n",
    "**💡 참고**: \n",
    "- 파일 경로는 절대경로 또는 상대경로 모두 지원\n",
    "- CSV 파일은 반드시 'ID'와 'target' 컬럼이 있어야 함\n",
    "- 결과는 날짜별로 자동 정리되어 저장됨"
   ]
  }
 ],
 "metadata": {
  "kernelspec": {
   "display_name": "cv_py3_11_9",
   "language": "python",
   "name": "python3"
  },
  "language_info": {
   "codemirror_mode": {
    "name": "ipython",
    "version": 3
   },
   "file_extension": ".py",
   "mimetype": "text/x-python",
   "name": "python",
   "nbconvert_exporter": "python",
   "pygments_lexer": "ipython3",
   "version": "3.11.9"
  }
 },
 "nbformat": 4,
 "nbformat_minor": 5
}
