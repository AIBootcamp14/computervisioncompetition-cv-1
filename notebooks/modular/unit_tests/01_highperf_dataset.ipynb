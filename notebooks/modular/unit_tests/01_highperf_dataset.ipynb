{
 "cells": [
  {
   "cell_type": "markdown",
   "id": "0cf67a4a",
   "metadata": {},
   "source": [
    "# 🧪 고성능 데이터셋 단위 테스트\n",
    "\n",
    "이 노트북은 HighPerfDocClsDataset 클래스의 기능을 테스트합니다:\n",
    "- 데이터셋 생성 및 샘플 로드\n",
    "- 증강 동작 및 클래스 분포 확인\n",
    "- GPU 자동 체크"
   ]
  },
  {
   "cell_type": "code",
   "execution_count": 1,
   "id": "8d98c430",
   "metadata": {},
   "outputs": [],
   "source": [
    "import warnings  # 경고 메시지 억제용 모듈 임포트\n",
    "warnings.filterwarnings('ignore')  # 모든 경고 메시지 출력 억제"
   ]
  },
  {
   "cell_type": "code",
   "execution_count": 2,
   "id": "2e8cd76a",
   "metadata": {},
   "outputs": [
    {
     "name": "stdout",
     "output_type": "stream",
     "text": [
      "현재 작업 디렉토리: /home/ieyeppo/AI_Lab/computer-vision-competition-1SEN\n"
     ]
    }
   ],
   "source": [
    "import os  # OS 모듈 임포트\n",
    "os.chdir(\"../../../\")  # 프로젝트 루트로 이동\n",
    "print(\"현재 작업 디렉토리:\", os.getcwd())  # 현재 디렉토리 출력"
   ]
  },
  {
   "cell_type": "code",
   "execution_count": 3,
   "id": "5684caab",
   "metadata": {},
   "outputs": [
    {
     "name": "stdout",
     "output_type": "stream",
     "text": [
      "✅ GPU 사용 가능: NVIDIA GeForce RTX 4090\n"
     ]
    }
   ],
   "source": [
    "import torch  # 파이토치 임포트\n",
    "if torch.cuda.is_available():  # GPU 사용 가능 여부 확인\n",
    "    print(f'✅ GPU 사용 가능: {torch.cuda.get_device_name(0)}')  # GPU 이름 출력\n",
    "else:\n",
    "    print('⚠️ GPU 사용 불가, CPU로 실행됩니다')  # CPU 사용 안내"
   ]
  },
  {
   "cell_type": "code",
   "execution_count": 4,
   "id": "20587789",
   "metadata": {},
   "outputs": [
    {
     "name": "stdout",
     "output_type": "stream",
     "text": [
      "📝 단위 테스트 시작: highperf_dataset\n",
      "📝 로그 디렉토리: notebooks/modular/unit_tests/highperf_dataset/20250905_194002\n"
     ]
    }
   ],
   "source": [
    "import numpy as np  # 넘파이 임포트\n",
    "import pandas as pd  # 판다스 임포트\n",
    "import matplotlib.pyplot as plt  # 시각화 라이브러리 임포트\n",
    "from src.data.dataset import HighPerfDocClsDataset  # 데이터셋 클래스 임포트\n",
    "from src.utils.common import load_yaml  # 설정 로드 함수 임포트\n",
    "from src.utils.unit_test_logger import create_test_logger  # 단위 테스트 로거 생성 함수 임포트\n",
    "test_logger = create_test_logger(\"highperf_dataset\")  # 단위 테스트 로거 초기화"
   ]
  },
  {
   "cell_type": "code",
   "execution_count": 5,
   "id": "d53d5992",
   "metadata": {},
   "outputs": [
    {
     "name": "stdout",
     "output_type": "stream",
     "text": [
      "📋 설정 로드 완료\n",
      "🎯 모델: swin_base_384\n",
      "📏 이미지 크기: 384\n",
      "🔢 배치 크기: 32\n"
     ]
    }
   ],
   "source": [
    "# 설정 파일 로드 및 정보 출력\n",
    "try:  # 예외 처리 시작\n",
    "    cfg = load_yaml(\"configs/train_highperf.yaml\")  # 설정 파일 로드\n",
    "    print(\"📋 설정 로드 완료\")  # 설정 로드 성공 메시지\n",
    "    print(f\"🎯 모델: {cfg['model']['name']}\")  # 모델명 출력\n",
    "    print(f\"📏 이미지 크기: {cfg['train']['img_size']}\")  # 이미지 크기 출력\n",
    "    print(f\"🔢 배치 크기: {cfg['train']['batch_size']}\")  # 배치 크기 출력\n",
    "except Exception as e:  # 예외 발생 시\n",
    "    print(f\"⚠️ 설정 로드 실패: {e}\")  # 에러 메시지 출력"
   ]
  },
  {
   "cell_type": "code",
   "execution_count": 6,
   "id": "4d00d4cf",
   "metadata": {},
   "outputs": [
    {
     "name": "stdout",
     "output_type": "stream",
     "text": [
      "📊 전체 데이터 수: 1,570개\n",
      "️ 클래스 수: 17개\n",
      "📁 이미지 디렉토리: data/raw/train\n",
      "📈 클래스 분포:\n",
      "   Class 0: 100개 (6.4%)\n",
      "   Class 1: 46개 (2.9%)\n",
      "   Class 2: 100개 (6.4%)\n",
      "   Class 3: 100개 (6.4%)\n",
      "   Class 4: 100개 (6.4%)\n",
      "   Class 5: 100개 (6.4%)\n",
      "   Class 6: 100개 (6.4%)\n",
      "   Class 7: 100개 (6.4%)\n",
      "   Class 8: 100개 (6.4%)\n",
      "   Class 9: 100개 (6.4%)\n",
      "   ... 외 7개 클래스\n"
     ]
    }
   ],
   "source": [
    "# 학습 데이터 로드 및 정보 출력\n",
    "try:  # 예외 처리 시작\n",
    "    train_csv = \"data/raw/train.csv\"  # 학습 데이터 CSV 경로\n",
    "    image_dir = \"data/raw/train\"  # 이미지 디렉토리 경로\n",
    "    df = pd.read_csv(train_csv)  # CSV 파일 읽기\n",
    "    print(f\"📊 전체 데이터 수: {len(df):,}개\")  # 전체 샘플 수 출력\n",
    "    print(f\"️ 클래스 수: {df['target'].nunique()}개\")  # 클래스 수 출력\n",
    "    print(f\"📁 이미지 디렉토리: {image_dir}\")  # 이미지 디렉토리 출력\n",
    "    class_dist = df['target'].value_counts().sort_index()  # 클래스 분포 계산\n",
    "    print(f\"📈 클래스 분포:\")  # 클래스 분포 출력\n",
    "    for i, (class_id, count) in enumerate(class_dist.head(10).items()):  # 상위 10개 클래스 출력\n",
    "        print(f\"   Class {class_id}: {count:,}개 ({count/len(df)*100:.1f}%)\")  # 클래스별 샘플 수 및 비율 출력\n",
    "    if len(class_dist) > 10:  # 클래스가 10개 초과일 경우\n",
    "        print(f\"   ... 외 {len(class_dist)-10}개 클래스\")  # 나머지 클래스 개수 출력\n",
    "except Exception as e:  # 예외 발생 시\n",
    "    print(f\"⚠️ 데이터 로드 실패: {e}\")  # 에러 메시지 출력"
   ]
  },
  {
   "cell_type": "code",
   "execution_count": 7,
   "id": "1c4bbfb2",
   "metadata": {},
   "outputs": [
    {
     "name": "stdout",
     "output_type": "stream",
     "text": [
      "✅ 데이터셋 생성 완료\n",
      "📦 데이터셋 크기: 100\n",
      "🎲 Hard augmentation 확률 (epoch 0): 0.200\n",
      "🖼️ 이미지 형태: torch.Size([3, 384, 384])\n",
      "🏷️ 라벨: 16\n",
      "📊 이미지 값 범위: [-2.118, 0.862]\n"
     ]
    }
   ],
   "source": [
    "# 고성능 데이터셋 생성 및 샘플 로드 테스트\n",
    "try:  # 예외 처리 시작\n",
    "    test_ds_epoch0 = HighPerfDocClsDataset(  # 데이터셋 생성\n",
    "        df=df.head(100),  # 처음 100개 샘플만 사용\n",
    "        image_dir=image_dir,  # 이미지 디렉토리 경로\n",
    "        img_size=cfg['train']['img_size'],  # 이미지 크기\n",
    "        epoch=0,  # epoch 설정\n",
    "        total_epochs=cfg['train']['epochs'],  # 전체 epoch 수\n",
    "        is_train=True,  # 학습 모드\n",
    "        id_col=cfg['data']['id_col'],  # ID 컬럼명\n",
    "        target_col=cfg['data']['target_col']  # 타겟 컬럼명\n",
    "    )\n",
    "    print(f\"✅ 데이터셋 생성 완료\")  # 데이터셋 생성 성공 메시지\n",
    "    print(f\"📦 데이터셋 크기: {len(test_ds_epoch0)}\")  # 데이터셋 크기 출력\n",
    "    print(f\"🎲 Hard augmentation 확률 (epoch 0): {test_ds_epoch0.p_hard:.3f}\")  # Hard augmentation 확률 출력\n",
    "    img, label = test_ds_epoch0[0]  # 첫 샘플 로드\n",
    "    import matplotlib.pyplot as plt  # 시각화 라이브러리 임포트\n",
    "    plt.rc('font', family='DejaVu Sans')  # 한글 폰트 설정 (시스템 기본)\n",
    "    plt.rcParams['axes.unicode_minus'] = False  # 마이너스 기호 깨짐 방지\n",
    "    img_np = img.permute(1,2,0).numpy()\n",
    "    img_np = np.clip(img_np, 0, 1)  # [0, 1]로 제한\n",
    "    plt.imshow(img_np)  # 이미지 시각화\n",
    "    plt.title(f'고성능 샘플 / 라벨: {label}')  # 라벨 출력\n",
    "    plt.axis('off')  # 축 제거\n",
    "    plt.show()  # 이미지 출력\n",
    "    print(f\"🖼️ 이미지 형태: {img.shape}\")  # 이미지 shape 출력\n",
    "    print(f\"🏷️ 라벨: {label}\")  # 라벨 출력\n",
    "    print(f\"📊 이미지 값 범위: [{img.min():.3f}, {img.max():.3f}]\")  # 이미지 값 범위 출력\n",
    "except Exception as e:  # 예외 발생 시\n",
    "    print(f\"⚠️ 데이터셋 생성/샘플 로드 실패: {e}\")  # 에러 메시지 출력"
   ]
  },
  {
   "cell_type": "markdown",
   "id": "c096167a",
   "metadata": {},
   "source": [
    "## 🏆 테스트 결과 요약\n",
    "\n",
    "- 각 단계별 정상 동작 및 예외 처리 결과를 확인했습니다.\n",
    "- 데이터셋 생성, 증강, 샘플 로드, GPU 체크 등 주요 기능이 정상적으로 동작하면 ✅, 실패 시 ⚠️ 메시지로 확인 가능합니다.\n",
    "- 테스트 결과 및 로그는 코드 셀의 출력과 test_logger에 기록됩니다.\n",
    "- 추가 검증이 필요한 부분은 각 셀의 예외 메시지와 로그를 참고하세요."
   ]
  }
 ],
 "metadata": {
  "language_info": {
   "name": "python"
  }
 },
 "nbformat": 4,
 "nbformat_minor": 5
}
