{
 "cells": [
  {
   "cell_type": "markdown",
   "id": "f6b8d8f3",
   "metadata": {},
   "source": [
    "# 🧪 wandb 통합 테스트\n",
    "\n",
    "이 노트북은 wandb 로깅 및 추적 기능을 테스트합니다:\n",
    "- wandb 초기화 및 로그 기록\n",
    "- 주요 파라미터 및 결과 시각화"
   ]
  },
  {
   "cell_type": "code",
   "execution_count": 1,
   "id": "232603f2",
   "metadata": {},
   "outputs": [
    {
     "name": "stdout",
     "output_type": "stream",
     "text": [
      "현재 작업 디렉토리: /home/ieyeppo/AI_Lab/computer-vision-competition-1SEN\n"
     ]
    }
   ],
   "source": [
    "# [1] 프로젝트 루트 디렉토리로 이동\n",
    "import os                                                   # OS 모듈 임포트\n",
    "import sys                                                  # 시스템 모듈 임포트\n",
    "os.chdir(\"../../../\")                                       # 프로젝트 루트로 이동\n",
    "print(\"현재 작업 디렉토리:\", os.getcwd())                      # 현재 디렉토리 출력"
   ]
  },
  {
   "cell_type": "code",
   "execution_count": 2,
   "id": "2b70ef72",
   "metadata": {},
   "outputs": [],
   "source": [
    "# [2] 폰트 설정 및 경고 억제\n",
    "\n",
    "# 경고 메시지 억제용 모듈 임포트\n",
    "#!sudo apt -get install -y fonts-nanum  # 나눔폰트 설치 (필요시 주석 해제) 설치 후 vscode 재시작 필요\n",
    "import warnings\n",
    "warnings.filterwarnings('ignore')\n",
    "\n",
    "# 한글 폰트 적용 및 시각화 환경 설정\n",
    "import matplotlib.pyplot as plt\n",
    "import matplotlib.font_manager as fm\n",
    "\n",
    "# 나눔고딕 폰트 경로 및 설정\n",
    "font_path = '/usr/share/fonts/truetype/nanum/NanumGothic.ttf'\n",
    "fontprop = fm.FontProperties(fname=font_path)\n",
    "\n",
    "# 폰트 등록 및 설정\n",
    "fe = fm.FontEntry(fname=font_path, name='NanumGothic')\n",
    "fm.fontManager.ttflist.insert(0, fe)\n",
    "plt.rcParams['font.family'] = 'NanumGothic'\n",
    "plt.rcParams['font.size'] = 10\n",
    "plt.rcParams['axes.unicode_minus'] = False\n",
    "\n",
    "# 글자 겹침 방지를 위한 레이아웃 설정\n",
    "plt.rcParams['figure.autolayout'] = True\n",
    "plt.rcParams['axes.titlepad'] = 20"
   ]
  },
  {
   "cell_type": "code",
   "execution_count": 3,
   "id": "2475d51e",
   "metadata": {},
   "outputs": [
    {
     "name": "stdout",
     "output_type": "stream",
     "text": [
      "📝 단위 테스트 시작: wandb_integration\n",
      "📝 로그 디렉토리: notebooks/modular/unit_tests/wandb_integration/20250906_003155\n"
     ]
    }
   ],
   "source": [
    "# [3] 라이브러리 및 유틸리티 임포트\n",
    "# wandb, 로거, 설정 등 필요한 모듈 임포트\n",
    "import torch  # 파이토치 임포트\n",
    "import wandb  # wandb 라이브러리 임포트\n",
    "from src.logging.wandb_logger import WandbLogger  # wandb 로거 임포트\n",
    "from src.utils.common import load_yaml  # 설정 로드 함수 임포트\n",
    "from src.logging.unit_test_logger import create_test_logger  # 단위 테스트 로거 생성 함수 임포트\n",
    "test_logger = create_test_logger(\"wandb_integration\")  # 단위 테스트 로거 초기화"
   ]
  },
  {
   "cell_type": "code",
   "execution_count": 4,
   "id": "7c7b2d0c",
   "metadata": {},
   "outputs": [
    {
     "name": "stdout",
     "output_type": "stream",
     "text": [
      "✅ GPU 사용 가능: NVIDIA GeForce RTX 4090\n"
     ]
    }
   ],
   "source": [
    "# [4] GPU 자동 체크\n",
    "# GPU 사용 가능 여부 확인\n",
    "if torch.cuda.is_available():  # GPU 사용 가능 여부 확인\n",
    "    print(f'✅ GPU 사용 가능: {torch.cuda.get_device_name(0)}')  # GPU 이름 출력\n",
    "else:\n",
    "    print('⚠️ GPU 사용 불가, CPU로 실행됩니다')  # CPU 사용 안내"
   ]
  },
  {
   "cell_type": "code",
   "execution_count": 5,
   "id": "3fe937a0",
   "metadata": {},
   "outputs": [
    {
     "name": "stdout",
     "output_type": "stream",
     "text": [
      "WandB 로그인 상태: ieyeppo-job\n"
     ]
    },
    {
     "name": "stderr",
     "output_type": "stream",
     "text": [
      "\u001b[34m\u001b[1mwandb\u001b[0m: Currently logged in as: \u001b[33mieyeppo-job\u001b[0m (\u001b[33mkimsunmin0227-hufs\u001b[0m) to \u001b[32mhttps://api.wandb.ai\u001b[0m. Use \u001b[1m`wandb login --relogin`\u001b[0m to force relogin\n",
      "\u001b[34m\u001b[1mwandb\u001b[0m: \u001b[33mWARNING\u001b[0m Using a boolean value for 'reinit' is deprecated. Use 'return_previous' or 'finish_previous' instead.\n"
     ]
    },
    {
     "data": {
      "text/html": [
       "creating run (0.1s)"
      ],
      "text/plain": [
       "<IPython.core.display.HTML object>"
      ]
     },
     "metadata": {},
     "output_type": "display_data"
    },
    {
     "data": {
      "text/html": [
       "Tracking run with wandb version 0.21.3"
      ],
      "text/plain": [
       "<IPython.core.display.HTML object>"
      ]
     },
     "metadata": {},
     "output_type": "display_data"
    },
    {
     "data": {
      "text/html": [
       "Run data is saved locally in <code>/home/ieyeppo/AI_Lab/computer-vision-competition-1SEN/wandb/run-20250906_003218-75m2n2mx</code>"
      ],
      "text/plain": [
       "<IPython.core.display.HTML object>"
      ]
     },
     "metadata": {},
     "output_type": "display_data"
    },
    {
     "data": {
      "text/html": [
       "Syncing run <strong><a href='https://wandb.ai/kimsunmin0227-hufs/document-classification-team/runs/75m2n2mx' target=\"_blank\">v094-swin-highperf-0906-0032</a></strong> to <a href='https://wandb.ai/kimsunmin0227-hufs/document-classification-team' target=\"_blank\">Weights & Biases</a> (<a href='https://wandb.me/developer-guide' target=\"_blank\">docs</a>)<br>"
      ],
      "text/plain": [
       "<IPython.core.display.HTML object>"
      ]
     },
     "metadata": {},
     "output_type": "display_data"
    },
    {
     "data": {
      "text/html": [
       " View project at <a href='https://wandb.ai/kimsunmin0227-hufs/document-classification-team' target=\"_blank\">https://wandb.ai/kimsunmin0227-hufs/document-classification-team</a>"
      ],
      "text/plain": [
       "<IPython.core.display.HTML object>"
      ]
     },
     "metadata": {},
     "output_type": "display_data"
    },
    {
     "data": {
      "text/html": [
       " View run at <a href='https://wandb.ai/kimsunmin0227-hufs/document-classification-team/runs/75m2n2mx' target=\"_blank\">https://wandb.ai/kimsunmin0227-hufs/document-classification-team/runs/75m2n2mx</a>"
      ],
      "text/plain": [
       "<IPython.core.display.HTML object>"
      ]
     },
     "metadata": {},
     "output_type": "display_data"
    },
    {
     "name": "stdout",
     "output_type": "stream",
     "text": [
      "📋 실험명: v094-swin-highperf-0906-0032\n",
      "🔗 WandB URL: https://wandb.ai/kimsunmin0227-hufs/document-classification-team/runs/75m2n2mx\n"
     ]
    },
    {
     "data": {
      "text/html": [],
      "text/plain": [
       "<IPython.core.display.HTML object>"
      ]
     },
     "metadata": {},
     "output_type": "display_data"
    },
    {
     "data": {
      "text/html": [
       "<br>    <style><br>        .wandb-row {<br>            display: flex;<br>            flex-direction: row;<br>            flex-wrap: wrap;<br>            justify-content: flex-start;<br>            width: 100%;<br>        }<br>        .wandb-col {<br>            display: flex;<br>            flex-direction: column;<br>            flex-basis: 100%;<br>            flex: 1;<br>            padding: 10px;<br>        }<br>    </style><br><div class=\"wandb-row\"><div class=\"wandb-col\"><h3>Run history:</h3><br/><table class=\"wandb\"><tr><td>accuracy</td><td>▁</td></tr><tr><td>test_metric</td><td>▁</td></tr></table><br/></div><div class=\"wandb-col\"><h3>Run summary:</h3><br/><table class=\"wandb\"><tr><td>accuracy</td><td>0.87</td></tr><tr><td>test_metric</td><td>0.95</td></tr></table><br/></div></div>"
      ],
      "text/plain": [
       "<IPython.core.display.HTML object>"
      ]
     },
     "metadata": {},
     "output_type": "display_data"
    },
    {
     "data": {
      "text/html": [
       " View run <strong style=\"color:#cdcd00\">v094-swin-highperf-0906-0032</strong> at: <a href='https://wandb.ai/kimsunmin0227-hufs/document-classification-team/runs/75m2n2mx' target=\"_blank\">https://wandb.ai/kimsunmin0227-hufs/document-classification-team/runs/75m2n2mx</a><br> View project at: <a href='https://wandb.ai/kimsunmin0227-hufs/document-classification-team' target=\"_blank\">https://wandb.ai/kimsunmin0227-hufs/document-classification-team</a><br>Synced 5 W&B file(s), 0 media file(s), 0 artifact file(s) and 0 other file(s)"
      ],
      "text/plain": [
       "<IPython.core.display.HTML object>"
      ]
     },
     "metadata": {},
     "output_type": "display_data"
    },
    {
     "data": {
      "text/html": [
       "Find logs at: <code>./wandb/run-20250906_003218-75m2n2mx/logs</code>"
      ],
      "text/plain": [
       "<IPython.core.display.HTML object>"
      ]
     },
     "metadata": {},
     "output_type": "display_data"
    },
    {
     "name": "stdout",
     "output_type": "stream",
     "text": [
      "📝 테스트 결과 저장: wandb_integration_test\n",
      "✅ 테스트 완료! 총 소요 시간: 25.49초\n",
      "✅ 결과 요약: notebooks/modular/unit_tests/wandb_integration/20250906_003155/test_summary.json\n",
      "\n",
      "==================================================\n",
      "🏁 단위 테스트 완료: wandb_integration\n",
      "==================================================\n",
      "📁 결과 디렉토리: notebooks/modular/unit_tests/wandb_integration/20250906_003155\n",
      "⏱️ 소요 시간: 25.49초\n",
      "📊 테스트 섹션 수: 1\n",
      "==================================================\n",
      "✅ wandb 로깅 테스트 완료\n"
     ]
    }
   ],
   "source": [
    "# [5] wandb 로깅 테스트\n",
    "# wandb 초기화 및 로그 기록 테스트\n",
    "try:  # 예외 처리 시작\n",
    "    cfg = load_yaml(\"configs/train_highperf.yaml\")  # 설정 파일 로드\n",
    "    \n",
    "    # wandb 로거 초기화 (config에서 파라미터 추출)\n",
    "    project_name = cfg.get('wandb', {}).get('project_name', 'document-classification-team')\n",
    "    experiment_name = cfg['project']['run_name']\n",
    "    \n",
    "    wandb_logger = WandbLogger(\n",
    "        project_name=project_name,\n",
    "        experiment_name=experiment_name,\n",
    "        config=cfg\n",
    "    )  # wandb 로거 초기화\n",
    "    \n",
    "    # wandb 실행 초기화\n",
    "    wandb_logger.init_run()\n",
    "    \n",
    "    # 메트릭 로깅 테스트\n",
    "    test_metrics = {'test_metric': 0.95, 'accuracy': 0.87}\n",
    "    wandb_logger.log_metrics(test_metrics)  # 메트릭 로깅\n",
    "    \n",
    "    # wandb 종료\n",
    "    wandb_logger.finish()\n",
    "    \n",
    "    # 테스트 결과 저장\n",
    "    result = {\n",
    "        'wandb_status': 'success',\n",
    "        'test_metrics': test_metrics,\n",
    "        'project_name': project_name,\n",
    "        'experiment_name': experiment_name\n",
    "    }\n",
    "    test_logger.save_test_result('wandb_integration_test', result)\n",
    "    test_logger.finalize_test()\n",
    "    print('✅ wandb 로깅 테스트 완료')  # 테스트 완료 메시지\n",
    "except Exception as e:  # 예외 발생 시\n",
    "    print(f'⚠️ wandb 로깅 테스트 실패: {e}')  # 에러 메시지 출력\n",
    "    # 에러 발생 시에도 로거 정리\n",
    "    try:\n",
    "        test_logger.save_test_result('wandb_integration_test', {'status': 'failed', 'error': str(e)})\n",
    "        test_logger.finalize_test()\n",
    "    except:\n",
    "        pass"
   ]
  },
  {
   "cell_type": "markdown",
   "id": "f353e825",
   "metadata": {},
   "source": [
    "## 📊 WandB 통합 테스트 결과 요약\n",
    "\n",
    "### ✅ 테스트 성공 항목\n",
    "1. **WandB 로그인**: `ieyeppo-job` 계정으로 성공적 로그인\n",
    "2. **실험 초기화**: `v094-swin-highperf-0906-0024` 실험 생성\n",
    "3. **메트릭 로깅**: test_metric(0.95), accuracy(0.87) 기록 완료\n",
    "4. **프로젝트 연동**: `document-classification-team` 프로젝트 연결\n",
    "\n",
    "### 📈 성능 지표\n",
    "- **실행 시간**: 약 1분 14초 (73.82초)\n",
    "- **기록된 메트릭**: 2개 (test_metric, accuracy)\n",
    "- **WandB 파일**: 5개 파일 동기화 완료\n",
    "- **로그 저장 위치**: `./wandb/run-20250906_002500-mevvam1c/logs`\n",
    "\n",
    "### 📁 생성된 파일 구조\n",
    "```\n",
    "wandb/\n",
    "├── run-20250906_002500-mevvam1c/\n",
    "│   ├── logs/\n",
    "│   └── files/\n",
    "└── latest-run -> run-20250906_002500-mevvam1c\n",
    "\n",
    "notebooks/modular/unit_tests/wandb_integration/20250906_002349/\n",
    "├── test_summary.json\n",
    "└── test_results.json\n",
    "```\n",
    "\n",
    "### 🔗 WandB 대시보드 정보\n",
    "- **실험 URL**: [v094-swin-highperf-0906-0024](https://wandb.ai/kimsunmin0227-hufs/document-classification-team/runs/mevvam1c)\n",
    "- **프로젝트 URL**: [document-classification-team](https://wandb.ai/kimsunmin0227-hufs/document-classification-team)\n",
    "- **동기화 상태**: ✅ 완료 (5개 파일)\n",
    "- **계정**: kimsunmin0227-hufs 팀"
   ]
  },
  {
   "cell_type": "code",
   "execution_count": 6,
   "id": "2f12cf03",
   "metadata": {},
   "outputs": [
    {
     "name": "stdout",
     "output_type": "stream",
     "text": [
      "🔍 WandB 통합 테스트 결과 파일 확인\n",
      "\n",
      "📁 WandB 실행 디렉토리 (16개):\n",
      "   ├── run-20250905_173017-se816eog (생성: 2025-09-05 17:30:17)\n",
      "   │   ├── logs/ (3개 파일)\n",
      "   │   └── files/ (5개 파일)\n",
      "   ├── run-20250906_002500-mevvam1c (생성: 2025-09-06 00:25:01)\n",
      "   │   ├── logs/ (3개 파일)\n",
      "   │   └── files/ (5개 파일)\n",
      "   ├── run-20250906_003218-75m2n2mx (생성: 2025-09-06 00:32:19)\n",
      "   │   ├── logs/ (3개 파일)\n",
      "   │   └── files/ (5개 파일)\n",
      "\n",
      "🔗 최신 실행 링크: latest-run -> run-20250906_003218-75m2n2mx\n",
      "\n",
      "📊 단위 테스트 결과 디렉토리 (2개):\n",
      "   ├── 20250906_002349 (생성: 2025-09-06 00:25:03)\n",
      "   │   └── test_summary.json (0.6 KB)\n",
      "   ├── 20250906_003155 (생성: 2025-09-06 00:32:21)\n",
      "   │   └── test_summary.json (0.6 KB)\n",
      "\n",
      "🕒 최신 WandB 실행:\n",
      "   📁 디렉토리: run-20250906_003218-75m2n2mx\n",
      "   📅 생성 시간: 2025-09-06 00:32:19\n",
      "\n",
      "✅ WandB 통합 테스트 완료!\n",
      "📅 테스트 일시: 2025-09-06 00:32:31\n",
      "🎯 WandB 로깅, 메트릭 기록, 프로젝트 연동이 정상적으로 작동함을 확인했습니다.\n"
     ]
    }
   ],
   "source": [
    "# [6] 실제 생성된 파일 구조 확인\n",
    "import os\n",
    "import glob\n",
    "from datetime import datetime\n",
    "\n",
    "print(\"🔍 WandB 통합 테스트 결과 파일 확인\\n\")\n",
    "\n",
    "# 1. WandB 실행 디렉토리 확인\n",
    "wandb_runs = glob.glob(\"wandb/run-*\")\n",
    "print(f\"📁 WandB 실행 디렉토리 ({len(wandb_runs)}개):\")\n",
    "for run_dir in sorted(wandb_runs)[-3:]:  # 최근 3개만 표시\n",
    "    if os.path.exists(run_dir):\n",
    "        # 실행 ID 추출\n",
    "        run_id = os.path.basename(run_dir)\n",
    "        mtime = datetime.fromtimestamp(os.path.getmtime(run_dir))\n",
    "        \n",
    "        # 하위 파일들 확인\n",
    "        log_dir = os.path.join(run_dir, \"logs\")\n",
    "        files_dir = os.path.join(run_dir, \"files\")\n",
    "        \n",
    "        print(f\"   ├── {run_id} (생성: {mtime.strftime('%Y-%m-%d %H:%M:%S')})\")\n",
    "        \n",
    "        if os.path.exists(log_dir):\n",
    "            log_files = os.listdir(log_dir)\n",
    "            print(f\"   │   ├── logs/ ({len(log_files)}개 파일)\")\n",
    "            \n",
    "        if os.path.exists(files_dir):\n",
    "            config_files = os.listdir(files_dir)\n",
    "            print(f\"   │   └── files/ ({len(config_files)}개 파일)\")\n",
    "\n",
    "# 2. latest-run 심볼릭 링크 확인\n",
    "latest_run = \"wandb/latest-run\"\n",
    "if os.path.exists(latest_run):\n",
    "    target = os.readlink(latest_run) if os.path.islink(latest_run) else \"디렉토리\"\n",
    "    print(f\"\\n🔗 최신 실행 링크: latest-run -> {target}\")\n",
    "\n",
    "# 3. 테스트 결과 디렉토리 확인\n",
    "test_dirs = glob.glob(\"notebooks/modular/unit_tests/wandb_integration/202509*\")\n",
    "print(f\"\\n📊 단위 테스트 결과 디렉토리 ({len(test_dirs)}개):\")\n",
    "for test_dir in sorted(test_dirs)[-3:]:  # 최근 3개만 표시\n",
    "    mtime = datetime.fromtimestamp(os.path.getmtime(test_dir))\n",
    "    files = os.listdir(test_dir)\n",
    "    json_files = [f for f in files if f.endswith('.json')]\n",
    "    \n",
    "    print(f\"   ├── {os.path.basename(test_dir)} (생성: {mtime.strftime('%Y-%m-%d %H:%M:%S')})\")\n",
    "    for json_file in json_files:\n",
    "        file_path = os.path.join(test_dir, json_file)\n",
    "        size = os.path.getsize(file_path) / 1024  # KB\n",
    "        print(f\"   │   └── {json_file} ({size:.1f} KB)\")\n",
    "\n",
    "# 4. 방금 실행된 테스트의 상세 정보\n",
    "if wandb_runs:\n",
    "    latest_wandb_run = max(wandb_runs, key=os.path.getmtime)\n",
    "    mtime = datetime.fromtimestamp(os.path.getmtime(latest_wandb_run))\n",
    "    print(f\"\\n🕒 최신 WandB 실행:\")\n",
    "    print(f\"   📁 디렉토리: {os.path.basename(latest_wandb_run)}\")\n",
    "    print(f\"   📅 생성 시간: {mtime.strftime('%Y-%m-%d %H:%M:%S')}\")\n",
    "\n",
    "print(f\"\\n✅ WandB 통합 테스트 완료!\")\n",
    "print(f\"📅 테스트 일시: {datetime.now().strftime('%Y-%m-%d %H:%M:%S')}\")\n",
    "print(f\"🎯 WandB 로깅, 메트릭 기록, 프로젝트 연동이 정상적으로 작동함을 확인했습니다.\")"
   ]
  },
  {
   "cell_type": "markdown",
   "id": "fb14ada4",
   "metadata": {},
   "source": [
    "## 🛠️ WandB 통합 테스트 트러블슈팅 가이드\n",
    "\n",
    "### 🚨 자주 발생하는 문제들\n",
    "\n",
    "#### 1. **ImportError: cannot import name 'WandbLogger'**\n",
    "```python\n",
    "# ❌ 잘못된 임포트 (대소문자 혼동)\n",
    "from src.logging.wandb_logger import WandBLogger\n",
    "\n",
    "# ✅ 올바른 임포트\n",
    "from src.logging.wandb_logger import WandbLogger\n",
    "```\n",
    "\n",
    "#### 2. **WandB 로그인 문제**\n",
    "```bash\n",
    "# 터미널에서 수동 로그인\n",
    "wandb login\n",
    "\n",
    "# API 키가 필요한 경우\n",
    "wandb login --relogin\n",
    "```\n",
    "\n",
    "#### 3. **메서드 호출 오류**\n",
    "```python\n",
    "# ❌ 존재하지 않는 메서드\n",
    "wandb_logger.log_config(cfg)\n",
    "wandb_logger.log_metric('key', value)\n",
    "\n",
    "# ✅ 실제 사용 가능한 메서드\n",
    "wandb_logger.init_run()\n",
    "wandb_logger.log_metrics({'key': value})\n",
    "wandb_logger.finish()\n",
    "```\n",
    "\n",
    "#### 4. **Config 파일 경로 문제**\n",
    "- 작업 디렉토리가 프로젝트 루트인지 확인\n",
    "- `configs/train_highperf.yaml` 파일 존재 여부 확인\n",
    "\n",
    "### 📋 필수 확인 사항\n",
    "1. **WandB 계정**: 로그인 상태 확인\n",
    "2. **프로젝트 권한**: `document-classification-team` 프로젝트 접근 권한\n",
    "3. **네트워크 연결**: WandB 서버 연결 상태\n",
    "4. **Config 파일**: YAML 형식 및 필수 필드 존재\n",
    "\n",
    "### 🔧 수동 테스트 방법\n",
    "```python\n",
    "# 1. 기본 wandb 테스트\n",
    "import wandb\n",
    "wandb.init(project=\"test-project\", name=\"manual-test\")\n",
    "wandb.log({\"test\": 1})\n",
    "wandb.finish()\n",
    "\n",
    "# 2. WandbLogger 클래스 테스트\n",
    "from src.logging.wandb_logger import WandbLogger\n",
    "logger = WandbLogger(project_name=\"test\", experiment_name=\"manual\")\n",
    "logger.init_run()\n",
    "logger.log_metrics({\"manual_test\": 0.9})\n",
    "logger.finish()\n",
    "```"
   ]
  }
 ],
 "metadata": {
  "kernelspec": {
   "display_name": "cv_py3_11_9",
   "language": "python",
   "name": "python3"
  },
  "language_info": {
   "codemirror_mode": {
    "name": "ipython",
    "version": 3
   },
   "file_extension": ".py",
   "mimetype": "text/x-python",
   "name": "python",
   "nbconvert_exporter": "python",
   "pygments_lexer": "ipython3",
   "version": "3.11.9"
  }
 },
 "nbformat": 4,
 "nbformat_minor": 5
}
