{
 "cells": [
  {
   "cell_type": "code",
   "execution_count": null,
   "id": "602e3bdf",
   "metadata": {},
   "outputs": [],
   "source": [
    "import os\n",
    "import sys\n",
    "os.chdir(\"../../../\")\n",
    "print(\"현재 작업 디렉토리:\", os.getcwd())\n",
    "import matplotlib.pyplot as plt\n",
    "from matplotlib import font_manager\n",
    "font_path = 'font/NanumGothic.ttf'\n",
    "fontprop = font_manager.FontProperties(fname=font_path)\n",
    "plt.rc('font', family=fontprop.get_name())\n",
    "plt.rcParams['axes.unicode_minus'] = False\n",
    "import warnings\n",
    "warnings.filterwarnings('ignore')"
   ]
  },
  {
   "cell_type": "code",
   "execution_count": null,
   "id": "3d931662",
   "metadata": {},
   "outputs": [],
   "source": [
    "import matplotlib.pyplot as plt  # 시각화 라이브러리 임포트\n",
    "plt.rc('font', family='NanumGothic')  # 한글 폰트 설정 (나눔고딕, 시스템에 설치 필요)\n",
    "plt.rcParams['axes.unicode_minus'] = False  # 마이너스 기호 깨짐 방지"
   ]
  },
  {
   "cell_type": "code",
   "execution_count": null,
   "id": "1c71e1f9",
   "metadata": {},
   "outputs": [],
   "source": [
    "import warnings  # 경고 메시지 억제용 모듈 임포트\n",
    "warnings.filterwarnings('ignore')  # 모든 경고 메시지 출력 억제"
   ]
  },
  {
   "cell_type": "markdown",
   "id": "f34b0258",
   "metadata": {},
   "source": [
    "# 🧪 Swin 모델 단위 테스트\n",
    "\n",
    "이 노트북은 Swin 모델의 주요 기능을 테스트합니다:\n",
    "- 모델 구조 및 파라미터 확인\n",
    "- 샘플 추론 및 GPU 동작 확인"
   ]
  },
  {
   "cell_type": "code",
   "execution_count": null,
   "id": "c0daf2f5",
   "metadata": {},
   "outputs": [],
   "source": [
    "import os  # OS 모듈 임포트\n",
    "os.chdir(\"../../../\")  # 프로젝트 루트로 이동\n",
    "print(\"현재 작업 디렉토리:\", os.getcwd())  # 현재 디렉토리 출력"
   ]
  },
  {
   "cell_type": "code",
   "execution_count": null,
   "id": "09293cb3",
   "metadata": {},
   "outputs": [],
   "source": [
    "import torch  # 파이토치 임포트\n",
    "from src.models.build import build_model  # 모델 빌드 함수 임포트\n",
    "from src.utils.common import load_yaml  # 설정 로드 함수 임포트\n",
    "from src.utils.unit_test_logger import create_test_logger  # 단위 테스트 로거 생성 함수 임포트\n",
    "test_logger = create_test_logger(\"swin_model_test\")  # 단위 테스트 로거 초기화"
   ]
  },
  {
   "cell_type": "code",
   "execution_count": null,
   "id": "5391cff2",
   "metadata": {},
   "outputs": [],
   "source": [
    "# GPU 자동 체크 코드\n",
    "if torch.cuda.is_available():  # GPU 사용 가능 여부 확인\n",
    "    print(f'✅ GPU 사용 가능: {torch.cuda.get_device_name(0)}')  # GPU 이름 출력\n",
    "else:\n",
    "    print('⚠️ GPU 사용 불가, CPU로 실행됩니다')  # CPU 사용 안내"
   ]
  },
  {
   "cell_type": "code",
   "execution_count": null,
   "id": "03b73df3",
   "metadata": {},
   "outputs": [],
   "source": [
    "# Swin 모델 생성 및 샘플 추론 테스트\n",
    "try:  # 예외 처리 시작\n",
    "    cfg = load_yaml(\"configs/train_highperf.yaml\")  # 설정 파일 로드\n",
    "    model = build_model(cfg['model'])  # 모델 생성\n",
    "    print(model)  # 모델 구조 출력\n",
    "    dummy_input = torch.randn(1, 3, cfg['train']['img_size'], cfg['train']['img_size'])  # 더미 입력 생성\n",
    "    if torch.cuda.is_available():  # GPU 사용 가능 시\n",
    "        model = model.cuda()  # 모델을 GPU로 이동\n",
    "        dummy_input = dummy_input.cuda()  # 입력도 GPU로 이동\n",
    "    output = model(dummy_input)  # 샘플 추론 실행\n",
    "    print(f'✅ 샘플 추론 결과 shape: {output.shape}')  # 출력 shape 확인\n",
    "except Exception as e:  # 예외 발생 시\n",
    "    print(f'⚠️ Swin 모델 테스트 실패: {e}')  # 에러 메시지 출력"
   ]
  },
  {
   "cell_type": "markdown",
   "id": "00188722",
   "metadata": {},
   "source": [
    "## 🏆 테스트 결과 요약\n",
    "\n",
    "- Swin 모델 생성, 구조 확인, 샘플 추론이 정상적으로 동작하면 ✅, 실패 시 ⚠️ 메시지로 확인 가능합니다.\n",
    "- GPU 체크, 모델 빌드, 추론 결과 등 모든 단계의 결과를 코드 셀 출력과 test_logger에서 확인할 수 있습니다.\n",
    "- 추가 검증이 필요한 부분은 각 셀의 예외 메시지와 로그를 참고하세요."
   ]
  }
 ],
 "metadata": {
  "language_info": {
   "name": "python"
  }
 },
 "nbformat": 4,
 "nbformat_minor": 5
}
