{
 "cells": [
  {
   "cell_type": "markdown",
   "id": "cbfcb7cd",
   "metadata": {},
   "source": [
    "# 🧪 Swin Transformer 모델 단위 테스트\n",
    "\n",
    "이 노트북은 Swin Transformer 모델의 동작을 테스트합니다:\n",
    "- 모델 빌드 및 초기화 확인\n",
    "- 추천 모델 선택 기능 테스트\n",
    "- 샘플 데이터 추론 및 출력 검증\n",
    "- GPU/CPU 모드 자동 설정 확인\n",
    "\n",
    "**테스트 항목:**\n",
    "- 설정 파일 로드 및 모델 파라미터 확인\n",
    "- Swin 모델 생성 및 가중치 로딩\n",
    "- 더미 입력을 통한 추론 테스트\n",
    "- 출력 형태 및 값 범위 검증\n",
    "- 모델 파라미터 수 계산"
   ]
  },
  {
   "cell_type": "code",
   "execution_count": 1,
   "id": "01c6d992",
   "metadata": {},
   "outputs": [
    {
     "name": "stdout",
     "output_type": "stream",
     "text": [
      "현재 작업 디렉토리: /home/ieyeppo/AI_Lab/computer-vision-competition-1SEN\n"
     ]
    }
   ],
   "source": [
    "# [1] 프로젝트 루트 디렉토리로 이동\n",
    "import os                                                   # OS 모듈 임포트\n",
    "import sys                                                  # 시스템 모듈 임포트\n",
    "os.chdir(\"../../../\")                                       # 프로젝트 루트로 이동\n",
    "print(\"현재 작업 디렉토리:\", os.getcwd())                      # 현재 디렉토리 출력"
   ]
  },
  {
   "cell_type": "code",
   "execution_count": null,
   "id": "3d931662",
   "metadata": {},
   "outputs": [],
   "source": [
    "# [2] 폰트 설정 및 경고 억제\n",
    "# 경고 억제 설정\n",
    "import warnings\n",
    "warnings.filterwarnings('ignore')\n",
    "\n",
    "# 한글 폰트 적용 및 시각화 환경 설정\n",
    "import matplotlib.pyplot as plt\n",
    "import matplotlib.font_manager as fm\n",
    "\n",
    "# 나눔고딕 폰트 경로 및 설정\n",
    "font_path = './font/NanumGothic.ttf'\n",
    "fontprop = fm.FontProperties(fname=font_path)\n",
    "\n",
    "# 폰트 등록 및 설정 (한글 텍스트 표시를 위함)\n",
    "fe = fm.FontEntry(fname=font_path, name='NanumGothic')\n",
    "fm.fontManager.ttflist.insert(0, fe)\n",
    "plt.rcParams['font.family'] = 'NanumGothic'      # 기본 폰트를 나눔고딕으로 설정\n",
    "plt.rcParams['font.size'] = 10                   # 기본 글자 크기 설정\n",
    "plt.rcParams['axes.unicode_minus'] = False       # 마이너스 기호 깨짐 방지\n",
    "\n",
    "# 글자 겹침 방지를 위한 레이아웃 설정\n",
    "plt.rcParams['figure.autolayout'] = True         # 자동 레이아웃 조정\n",
    "plt.rcParams['axes.titlepad'] = 20               # 제목과 축 사이 여백\n",
    "\n",
    "# 폰트 로드 확인\n",
    "try:\n",
    "    test_font = fm.FontProperties(fname=font_path)\n",
    "    print(\"✅ 나눔고딕 폰트 로드 성공\")\n",
    "except Exception as e:\n",
    "    print(f\"❌ 폰트 로드 실패: {e}\")"
   ]
  },
  {
   "cell_type": "code",
   "execution_count": 3,
   "id": "09293cb3",
   "metadata": {},
   "outputs": [
    {
     "name": "stdout",
     "output_type": "stream",
     "text": [
      "📝 노트북 작업 시작: 03_swin_model_test\n",
      "📝 로그 디렉토리: notebooks/modular/unit_tests/03_swin_model_test/20250907_080613\n",
      "✅ 라이브러리 및 로거 설정 완료\n"
     ]
    }
   ],
   "source": [
    "# [3] 라이브러리 및 로거 설정\n",
    "# 필요한 라이브러리 및 유틸리티 모듈 임포트\n",
    "import torch                                                # PyTorch 딥러닝 프레임워크\n",
    "import numpy as np                                          # 수치 계산 라이브러리\n",
    "from src.models.build import build_model, get_recommended_model  # 모델 빌드 및 추천 함수\n",
    "from src.utils.common import load_yaml                      # 설정 로드 함수\n",
    "from src.logging.notebook_logger import create_notebook_logger   # 노트북 로거 생성 함수 임포트\n",
    "\n",
    "# 단위 테스트 로거 초기화\n",
    "logger = create_notebook_logger(\n",
    "    base_log_dir=\"modular\",\n",
    "    folder_name=\"unit_tests\",\n",
    "    file_name=\"03_swin_model_test\"\n",
    ")\n",
    "\n",
    "print('✅ 라이브러리 및 로거 설정 완료')"
   ]
  },
  {
   "cell_type": "code",
   "execution_count": 4,
   "id": "5391cff2",
   "metadata": {},
   "outputs": [
    {
     "name": "stdout",
     "output_type": "stream",
     "text": [
      "✅ GPU 사용 가능: NVIDIA GeForce RTX 4090\n"
     ]
    }
   ],
   "source": [
    "# [4] GPU 자동 체크\n",
    "# GPU 사용 가능 여부 확인\n",
    "if torch.cuda.is_available():  # GPU 사용 가능 여부 확인\n",
    "    print(f'✅ GPU 사용 가능: {torch.cuda.get_device_name(0)}')  # GPU 이름 출력\n",
    "else:\n",
    "    print('⚠️ GPU 사용 불가, CPU로 실행됩니다')  # CPU 사용 안내"
   ]
  },
  {
   "cell_type": "code",
   "execution_count": 5,
   "id": "132849d3",
   "metadata": {},
   "outputs": [
    {
     "name": "stdout",
     "output_type": "stream",
     "text": [
      "모델 이름: swin_base_384 -> swin_base_patch4_window12_384_in22k\n",
      "클래스 수: 17\n",
      "이미지 크기: 384\n",
      "✅ 설정 파일 로드 완료\n"
     ]
    }
   ],
   "source": [
    "# [5] 설정 파일 로드 및 모델 이름 확인\n",
    "# 설정 파일에서 모델 정보 불러오기\n",
    "try:\n",
    "    cfg = load_yaml(\"configs/train_highperf.yaml\")  # 설정 파일 로드\n",
    "    \n",
    "    # 추천 모델 이름 가져오기\n",
    "    model_name = get_recommended_model(cfg['model']['name'])\n",
    "    print(f'모델 이름: {cfg[\"model\"][\"name\"]} -> {model_name}')\n",
    "    print(f'클래스 수: {cfg[\"data\"][\"num_classes\"]}')\n",
    "    print(f'이미지 크기: {cfg[\"train\"][\"img_size\"]}')\n",
    "    print('✅ 설정 파일 로드 완료')\n",
    "except Exception as e:\n",
    "    print(f'⚠️ 설정 파일 로드 실패: {e}')"
   ]
  },
  {
   "cell_type": "code",
   "execution_count": 6,
   "id": "a054822a",
   "metadata": {},
   "outputs": [
    {
     "name": "stdout",
     "output_type": "stream",
     "text": [
      "✅ 모델 생성 완료: swin_base_patch4_window12_384_in22k\n",
      "모델 총 파라미터 수: 86,896,009\n",
      "✅ 모델을 GPU로 이동 완료\n"
     ]
    }
   ],
   "source": [
    "# [6] Swin 모델 생성\n",
    "# 설정에 따른 Swin 모델 빌드\n",
    "try:\n",
    "    model = build_model(\n",
    "        name=model_name,                        # 추천 모델 이름 사용\n",
    "        num_classes=cfg['data']['num_classes'], # 클래스 수\n",
    "        pretrained=cfg['model']['pretrained'],  # pretrained 가중치 사용\n",
    "        drop_rate=cfg['model']['drop_rate'],    # dropout 비율\n",
    "        drop_path_rate=cfg['model']['drop_path_rate']  # stochastic depth 비율\n",
    "    )\n",
    "    print(f'✅ 모델 생성 완료: {model_name}')\n",
    "    print(f'모델 총 파라미터 수: {sum(p.numel() for p in model.parameters()):,}')\n",
    "    \n",
    "    # GPU로 모델 이동\n",
    "    if torch.cuda.is_available():\n",
    "        model = model.cuda()\n",
    "        print('✅ 모델을 GPU로 이동 완료')\n",
    "    else:\n",
    "        print('ℹ️ CPU에서 모델 실행')\n",
    "        \n",
    "except Exception as e:\n",
    "    print(f'⚠️ 모델 생성 실패: {e}')"
   ]
  },
  {
   "cell_type": "code",
   "execution_count": 7,
   "id": "2f68125d",
   "metadata": {},
   "outputs": [
    {
     "name": "stdout",
     "output_type": "stream",
     "text": [
      "더미 입력 shape: torch.Size([1, 3, 384, 384])\n",
      "✅ 입력을 GPU로 이동 완료\n",
      "✅ 샘플 추론 결과 shape: torch.Size([1, 17])\n",
      "출력 값 범위: [-0.5979, 0.3639]\n",
      "✅ 샘플 추론 결과 shape: torch.Size([1, 17])\n",
      "출력 값 범위: [-0.5979, 0.3639]\n"
     ]
    }
   ],
   "source": [
    "# [7] 샘플 추론 테스트\n",
    "# 더미 입력으로 모델 추론 테스트\n",
    "try:\n",
    "    # 더미 입력 생성\n",
    "    dummy_input = torch.randn(1, 3, cfg['train']['img_size'], cfg['train']['img_size'])\n",
    "    print(f'더미 입력 shape: {dummy_input.shape}')\n",
    "    \n",
    "    # GPU 사용 시 입력도 GPU로 이동\n",
    "    if torch.cuda.is_available():\n",
    "        dummy_input = dummy_input.cuda()\n",
    "        print('✅ 입력을 GPU로 이동 완료')\n",
    "    \n",
    "    # 샘플 추론 실행\n",
    "    with torch.no_grad():  # 그래디언트 계산 비활성화\n",
    "        output = model(dummy_input)\n",
    "    \n",
    "    print(f'✅ 샘플 추론 결과 shape: {output.shape}')\n",
    "    print(f'출력 값 범위: [{output.min().item():.4f}, {output.max().item():.4f}]')\n",
    "    \n",
    "except Exception as e:\n",
    "    print(f'⚠️ 샘플 추론 실패: {e}')"
   ]
  },
  {
   "cell_type": "code",
   "execution_count": 8,
   "id": "6a17750b",
   "metadata": {},
   "outputs": [
    {
     "name": "stdout",
     "output_type": "stream",
     "text": [
      "📝 결과 저장: swin_model_test\n",
      "✅ 작업 완료! 총 소요 시간: 1.61초\n",
      "✅ 결과 요약: notebooks/modular/unit_tests/03_swin_model_test/20250907_080613/summary.json\n",
      "\n",
      "==================================================\n",
      "🏁 노트북 작업 완료: 03_swin_model_test\n",
      "==================================================\n",
      "📁 결과 디렉토리: notebooks/modular/unit_tests/03_swin_model_test/20250907_080613\n",
      "⏱️ 소요 시간: 1.61초\n",
      "📊 섹션 수: 1\n",
      "==================================================\n",
      "✅ 모든 테스트 완료!\n",
      "📁 결과 저장 위치: notebooks/modular/unit_tests/03_swin_model_test/20250907_080613\n",
      "✅ Swin 모델 테스트 성공적으로 완료\n"
     ]
    }
   ],
   "source": [
    "# [8] 테스트 결과 저장 및 완료\n",
    "# 모든 테스트 결과를 정리하여 저장\n",
    "try:\n",
    "    # 테스트 결과 딕셔너리 생성\n",
    "    result = {\n",
    "        'model_name': cfg['model']['name'],\n",
    "        'actual_model_name': model_name,\n",
    "        'num_classes': cfg['data']['num_classes'],\n",
    "        'input_shape': list(dummy_input.shape),\n",
    "        'output_shape': list(output.shape),\n",
    "        'total_params': sum(p.numel() for p in model.parameters()),\n",
    "        'device': 'cuda' if torch.cuda.is_available() else 'cpu',\n",
    "        'output_min': float(output.min().item()),\n",
    "        'output_max': float(output.max().item())\n",
    "    }\n",
    "    \n",
    "    # 테스트 결과 저장 (notebook_logger API 사용)\n",
    "    logger.save_results('swin_model_test_result', result)\n",
    "    logger.finalize()\n",
    "    \n",
    "    print('✅ 모든 테스트 완료!')\n",
    "    print(f'📁 결과 저장 위치: {logger.base_dir}')\n",
    "    print('✅ Swin 모델 테스트 성공적으로 완료')\n",
    "    \n",
    "except Exception as e:\n",
    "    print(f'⚠️ 결과 저장 실패: {e}')"
   ]
  },
  {
   "cell_type": "code",
   "execution_count": 9,
   "id": "3c2fe2d5",
   "metadata": {},
   "outputs": [
    {
     "name": "stdout",
     "output_type": "stream",
     "text": [
      "📁 결과 저장 디렉토리:\n",
      "   notebooks/modular/unit_tests/03_swin_model_test/20250907_080613\n",
      "\n",
      "📄 저장된 파일 목록:\n",
      "   📄 summary.json (835 bytes)\n",
      "   📄 results/swin_model_test_result.json (410 bytes)\n",
      "   📄 logs/03_swin_model_test_20250907_080613.log (627 bytes)\n",
      "\n",
      "📄 테스트 요약 내용:\n",
      "{\n",
      "  \"file_name\": \"03_swin_model_test\",\n",
      "  \"folder_name\": \"unit_tests\",\n",
      "  \"start_time\": \"2025-09-07T08:06:13.088090\",\n",
      "  \"end_time\": \"2025-09-07T08:06:14.697638\",\n",
      "  \"duration_seconds\": 1.609548,\n",
      "  \"total_sections\": 1,\n",
      "  \"results\": {\n",
      "    \"swin_model_test\": {\n",
      "      \"model_name\": \"swin_base_384\",\n",
      "      \"actual_model_name\": \"swin_base_patch4_window12_384_in22k\",\n",
      "      \"num_classes\": 17,\n",
      "      \"input_shape\": [\n",
      "        1,\n",
      "        3,\n",
      "        384,\n",
      "        384\n",
      "      ],\n",
      "      \"output_shape\": [\n",
      "        1,\n",
      "        17\n",
      "      ],\n",
      "      \"total_params\": 86896009,\n",
      "      \"device\": \"cuda\",\n",
      "      \"output_min\": -0.597861647605896,\n",
      "      \"output_max\": 0.36391207575798035,\n",
      "      \"timestamp\": \"2025-09-07T08:06:14.697138\",\n",
      "      \"section\": \"swin_model_test\"\n",
      "    }\n",
      "  },\n",
      "  \"log_directory\": \"notebooks/modular/unit_tests/03_swin_model_test/20250907_080613\"\n",
      "}\n"
     ]
    }
   ],
   "source": [
    "# [9] 저장된 테스트 결과 확인\n",
    "# summary.json 파일 내용 출력 및 디렉토리 구조 확인\n",
    "try:\n",
    "    from pathlib import Path\n",
    "    import json\n",
    "    \n",
    "    # summary.json 파일 경로 (notebook_logger는 summary.json 사용)\n",
    "    summary_path = Path(logger.base_dir) / 'summary.json'\n",
    "    \n",
    "    print(\"📁 결과 저장 디렉토리:\")\n",
    "    print(f\"   {logger.base_dir}\")\n",
    "    print()\n",
    "    \n",
    "    # 저장된 파일들 확인\n",
    "    if Path(logger.base_dir).exists():\n",
    "        print(\"📄 저장된 파일 목록:\")\n",
    "        for item in Path(logger.base_dir).rglob(\"*\"):\n",
    "            if item.is_file():\n",
    "                relative_path = item.relative_to(logger.base_dir)\n",
    "                file_size = item.stat().st_size\n",
    "                print(f\"   📄 {relative_path} ({file_size:,} bytes)\")\n",
    "        print()\n",
    "    \n",
    "    # summary.json 파일 내용 출력\n",
    "    if summary_path.exists():\n",
    "        with open(summary_path, 'r', encoding='utf-8') as f:\n",
    "            summary_data = json.load(f)\n",
    "        \n",
    "        print(\"📄 테스트 요약 내용:\")\n",
    "        print(json.dumps(summary_data, indent=2, ensure_ascii=False))\n",
    "    else:\n",
    "        print(f\"⚠️ 요약 파일을 찾을 수 없습니다: {summary_path}\")\n",
    "        \n",
    "except Exception as e:\n",
    "    print(f'⚠️ 결과 확인 실패: {e}')"
   ]
  },
  {
   "cell_type": "markdown",
   "id": "d4bb5df9",
   "metadata": {},
   "source": [
    "---\n",
    "\n",
    "## 📋 **테스트 결과 요약**\n",
    "\n",
    "### ✅ **검증된 기능**\n",
    "- **모델 빌드**: Swin Transformer 모델 생성 및 초기화\n",
    "- **설정 로드**: YAML 설정 파일에서 모델 파라미터 로딩\n",
    "- **추천 모델**: 설정에 따른 최적 모델 변형 자동 선택\n",
    "- **GPU 지원**: CUDA 사용 가능 시 GPU로 모델 자동 이동\n",
    "- **추론 테스트**: 더미 입력을 통한 순전파 검증\n",
    "\n",
    "### 📊 **주요 결과**\n",
    "- **모델 이름**: 설정된 모델과 실제 사용된 모델명\n",
    "- **파라미터 수**: 총 학습 가능한 파라미터 개수\n",
    "- **입출력 형태**: 입력 텐서와 출력 텐서의 shape\n",
    "- **출력 범위**: 모델 출력값의 최솟값과 최댓값\n",
    "- **디바이스**: GPU 또는 CPU 사용 여부\n",
    "\n",
    "### 🔍 **검증 방법**\n",
    "- **기능 테스트**: 각 단계별 정상 동작 여부 확인\n",
    "- **형태 검증**: 입출력 텐서 차원 및 크기 점검\n",
    "- **수치 안정성**: 출력값이 적절한 범위 내에 있는지 확인\n",
    "- **로그 분석**: summary.json에서 모델 정보 및 성능 지표 검토\n",
    "\n",
    "### 💡 **문제 해결 가이드**\n",
    "- **모델 로드 실패**: pretrained 가중치 다운로드 상태 확인\n",
    "- **CUDA 메모리 부족**: 배치 크기 축소 또는 모델 크기 조정\n",
    "- **설정 파일 오류**: YAML 파일 문법 및 경로 확인\n",
    "- **추론 실패**: 입력 데이터 형태 및 디바이스 일치 여부 점검\n",
    "- **성능 저하**: 모델 파라미터 및 하이퍼파라미터 조정\n",
    "\n",
    "### 📈 **성능 최적화 팁**\n",
    "- **모델 경량화**: 작은 변형 모델(Swin-T) 사용으로 속도 향상\n",
    "- **Mixed Precision**: AMP 사용으로 메모리 절약 및 가속화\n",
    "- **배치 최적화**: GPU 메모리에 맞는 최적 배치 크기 설정\n",
    "- **컴파일 최적화**: torch.compile() 사용으로 추론 속도 향상"
   ]
  }
 ],
 "metadata": {
  "kernelspec": {
   "display_name": "cv_py3_11_9",
   "language": "python",
   "name": "python3"
  },
  "language_info": {
   "codemirror_mode": {
    "name": "ipython",
    "version": 3
   },
   "file_extension": ".py",
   "mimetype": "text/x-python",
   "name": "python",
   "nbconvert_exporter": "python",
   "pygments_lexer": "ipython3",
   "version": "3.11.9"
  }
 },
 "nbformat": 4,
 "nbformat_minor": 5
}
