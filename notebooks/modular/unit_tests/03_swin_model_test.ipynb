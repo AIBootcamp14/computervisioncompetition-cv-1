{
 "cells": [
  {
   "cell_type": "markdown",
   "id": "f34b0258",
   "metadata": {},
   "source": [
    "# 🧪 Swin 모델 단위 테스트\n",
    "\n",
    "이 노트북은 Swin 모델의 주요 기능을 테스트합니다:\n",
    "- 모델 구조 및 파라미터 확인\n",
    "- 샘플 추론 및 GPU 동작 확인"
   ]
  },
  {
   "cell_type": "code",
   "execution_count": 1,
   "id": "602e3bdf",
   "metadata": {},
   "outputs": [
    {
     "name": "stdout",
     "output_type": "stream",
     "text": [
      "현재 작업 디렉토리: /home/ieyeppo/AI_Lab/computer-vision-competition-1SEN\n"
     ]
    }
   ],
   "source": [
    "# [1] 프로젝트 루트 디렉토리로 이동\n",
    "import os                                                   # OS 모듈 임포트\n",
    "import sys                                                  # 시스템 모듈 임포트\n",
    "os.chdir(\"../../../\")                                       # 프로젝트 루트로 이동\n",
    "print(\"현재 작업 디렉토리:\", os.getcwd())                      # 현재 디렉토리 출력"
   ]
  },
  {
   "cell_type": "code",
   "execution_count": 2,
   "id": "3d931662",
   "metadata": {},
   "outputs": [],
   "source": [
    "# [2] 폰트 설정 및 경고 억제\n",
    "\n",
    "# 경고 메시지 억제용 모듈 임포트\n",
    "#!sudo apt -get install -y fonts-nanum  # 나눔폰트 설치 (필요시 주석 해제) 설치 후 vscode 재시작 필요\n",
    "import warnings\n",
    "warnings.filterwarnings('ignore')\n",
    "\n",
    "# 한글 폰트 적용 및 시각화 환경 설정\n",
    "import matplotlib.pyplot as plt\n",
    "import matplotlib.font_manager as fm\n",
    "\n",
    "# 나눔고딕 폰트 경로 및 설정\n",
    "font_path = '/usr/share/fonts/truetype/nanum/NanumGothic.ttf'\n",
    "fontprop = fm.FontProperties(fname=font_path)\n",
    "\n",
    "# 폰트 등록 및 설정\n",
    "fe = fm.FontEntry(fname=font_path, name='NanumGothic')\n",
    "fm.fontManager.ttflist.insert(0, fe)\n",
    "plt.rcParams['font.family'] = 'NanumGothic'\n",
    "plt.rcParams['font.size'] = 10\n",
    "plt.rcParams['axes.unicode_minus'] = False\n",
    "\n",
    "# 글자 겹침 방지를 위한 레이아웃 설정\n",
    "plt.rcParams['figure.autolayout'] = True\n",
    "plt.rcParams['axes.titlepad'] = 20"
   ]
  },
  {
   "cell_type": "code",
   "execution_count": 8,
   "id": "09293cb3",
   "metadata": {},
   "outputs": [
    {
     "name": "stdout",
     "output_type": "stream",
     "text": [
      "📝 단위 테스트 시작: swin_model_test\n",
      "📝 로그 디렉토리: notebooks/modular/unit_tests/swin_model_test/20250905_234014\n"
     ]
    }
   ],
   "source": [
    "# [3] 라이브러리 및 유틸리티 임포트\n",
    "# 모델, 설정, 로거 등 필요한 모듈 임포트\n",
    "import torch  # 파이토치 임포트\n",
    "from src.models.build import build_model, get_recommended_model  # 모델 빌드 함수 및 추천 모델 함수 임포트\n",
    "from src.utils.common import load_yaml  # 설정 로드 함수 임포트\n",
    "from src.utils.unit_test_logger import create_test_logger  # 단위 테스트 로거 생성 함수 임포트\n",
    "test_logger = create_test_logger(\"swin_model_test\")  # 단위 테스트 로거 초기화"
   ]
  },
  {
   "cell_type": "code",
   "execution_count": 4,
   "id": "5391cff2",
   "metadata": {},
   "outputs": [
    {
     "name": "stdout",
     "output_type": "stream",
     "text": [
      "✅ GPU 사용 가능: NVIDIA GeForce RTX 4090\n"
     ]
    }
   ],
   "source": [
    "# [4] GPU 자동 체크\n",
    "# GPU 사용 가능 여부 확인\n",
    "if torch.cuda.is_available():  # GPU 사용 가능 여부 확인\n",
    "    print(f'✅ GPU 사용 가능: {torch.cuda.get_device_name(0)}')  # GPU 이름 출력\n",
    "else:\n",
    "    print('⚠️ GPU 사용 불가, CPU로 실행됩니다')  # CPU 사용 안내"
   ]
  },
  {
   "cell_type": "code",
   "execution_count": 10,
   "id": "132849d3",
   "metadata": {},
   "outputs": [
    {
     "name": "stdout",
     "output_type": "stream",
     "text": [
      "모델 이름: swin_base_384 -> swin_base_patch4_window12_384_in22k\n",
      "클래스 수: 17\n",
      "이미지 크기: 384\n",
      "✅ 설정 파일 로드 완료\n"
     ]
    }
   ],
   "source": [
    "# [5] 설정 파일 로드 및 모델 이름 확인\n",
    "# 설정 파일에서 모델 정보 불러오기\n",
    "try:\n",
    "    cfg = load_yaml(\"configs/train_highperf.yaml\")  # 설정 파일 로드\n",
    "    \n",
    "    # 추천 모델 이름 가져오기\n",
    "    model_name = get_recommended_model(cfg['model']['name'])\n",
    "    print(f'모델 이름: {cfg[\"model\"][\"name\"]} -> {model_name}')\n",
    "    print(f'클래스 수: {cfg[\"data\"][\"num_classes\"]}')\n",
    "    print(f'이미지 크기: {cfg[\"train\"][\"img_size\"]}')\n",
    "    print('✅ 설정 파일 로드 완료')\n",
    "except Exception as e:\n",
    "    print(f'⚠️ 설정 파일 로드 실패: {e}')"
   ]
  },
  {
   "cell_type": "code",
   "execution_count": 11,
   "id": "a054822a",
   "metadata": {},
   "outputs": [
    {
     "name": "stdout",
     "output_type": "stream",
     "text": [
      "✅ 모델 생성 완료: swin_base_patch4_window12_384_in22k\n",
      "모델 총 파라미터 수: 86,896,009\n",
      "✅ 모델을 GPU로 이동 완료\n"
     ]
    }
   ],
   "source": [
    "# [6] Swin 모델 생성\n",
    "# 설정에 따른 Swin 모델 빌드\n",
    "try:\n",
    "    model = build_model(\n",
    "        name=model_name,                        # 추천 모델 이름 사용\n",
    "        num_classes=cfg['data']['num_classes'], # 클래스 수\n",
    "        pretrained=cfg['model']['pretrained'],  # pretrained 가중치 사용\n",
    "        drop_rate=cfg['model']['drop_rate'],    # dropout 비율\n",
    "        drop_path_rate=cfg['model']['drop_path_rate']  # stochastic depth 비율\n",
    "    )\n",
    "    print(f'✅ 모델 생성 완료: {model_name}')\n",
    "    print(f'모델 총 파라미터 수: {sum(p.numel() for p in model.parameters()):,}')\n",
    "    \n",
    "    # GPU로 모델 이동\n",
    "    if torch.cuda.is_available():\n",
    "        model = model.cuda()\n",
    "        print('✅ 모델을 GPU로 이동 완료')\n",
    "    else:\n",
    "        print('ℹ️ CPU에서 모델 실행')\n",
    "        \n",
    "except Exception as e:\n",
    "    print(f'⚠️ 모델 생성 실패: {e}')"
   ]
  },
  {
   "cell_type": "code",
   "execution_count": 12,
   "id": "2f68125d",
   "metadata": {},
   "outputs": [
    {
     "name": "stdout",
     "output_type": "stream",
     "text": [
      "더미 입력 shape: torch.Size([1, 3, 384, 384])\n",
      "✅ 입력을 GPU로 이동 완료\n",
      "✅ 샘플 추론 결과 shape: torch.Size([1, 17])\n",
      "출력 값 범위: [-0.1981, 0.4276]\n"
     ]
    }
   ],
   "source": [
    "# [7] 샘플 추론 테스트\n",
    "# 더미 입력으로 모델 추론 테스트\n",
    "try:\n",
    "    # 더미 입력 생성\n",
    "    dummy_input = torch.randn(1, 3, cfg['train']['img_size'], cfg['train']['img_size'])\n",
    "    print(f'더미 입력 shape: {dummy_input.shape}')\n",
    "    \n",
    "    # GPU 사용 시 입력도 GPU로 이동\n",
    "    if torch.cuda.is_available():\n",
    "        dummy_input = dummy_input.cuda()\n",
    "        print('✅ 입력을 GPU로 이동 완료')\n",
    "    \n",
    "    # 샘플 추론 실행\n",
    "    with torch.no_grad():  # 그래디언트 계산 비활성화\n",
    "        output = model(dummy_input)\n",
    "    \n",
    "    print(f'✅ 샘플 추론 결과 shape: {output.shape}')\n",
    "    print(f'출력 값 범위: [{output.min().item():.4f}, {output.max().item():.4f}]')\n",
    "    \n",
    "except Exception as e:\n",
    "    print(f'⚠️ 샘플 추론 실패: {e}')"
   ]
  },
  {
   "cell_type": "code",
   "execution_count": 13,
   "id": "6a17750b",
   "metadata": {},
   "outputs": [
    {
     "name": "stdout",
     "output_type": "stream",
     "text": [
      "📝 테스트 결과 저장: swin_model_test\n",
      "✅ 테스트 완료! 총 소요 시간: 224.19초\n",
      "✅ 결과 요약: notebooks/modular/unit_tests/swin_model_test/20250905_234014/test_summary.json\n",
      "\n",
      "==================================================\n",
      "🏁 단위 테스트 완료: swin_model_test\n",
      "==================================================\n",
      "📁 결과 디렉토리: notebooks/modular/unit_tests/swin_model_test/20250905_234014\n",
      "⏱️ 소요 시간: 224.19초\n",
      "📊 테스트 섹션 수: 1\n",
      "==================================================\n",
      "✅ 모든 테스트 완료!\n",
      "📁 결과 저장 위치: notebooks/modular/unit_tests/swin_model_test/20250905_234014\n",
      "✅ Swin 모델 테스트 성공적으로 완료\n"
     ]
    }
   ],
   "source": [
    "# [8] 테스트 결과 저장 및 완료\n",
    "# 모든 테스트 결과를 정리하여 저장\n",
    "try:\n",
    "    # 테스트 결과 딕셔너리 생성\n",
    "    result = {\n",
    "        'model_name': cfg['model']['name'],\n",
    "        'actual_model_name': model_name,\n",
    "        'num_classes': cfg['data']['num_classes'],\n",
    "        'input_shape': list(dummy_input.shape),\n",
    "        'output_shape': list(output.shape),\n",
    "        'total_params': sum(p.numel() for p in model.parameters()),\n",
    "        'device': 'cuda' if torch.cuda.is_available() else 'cpu',\n",
    "        'output_min': float(output.min().item()),\n",
    "        'output_max': float(output.max().item())\n",
    "    }\n",
    "    \n",
    "    # 테스트 결과 저장\n",
    "    test_logger.save_test_result('swin_model_test', result)\n",
    "    test_logger.finalize_test()\n",
    "    \n",
    "    print('✅ 모든 테스트 완료!')\n",
    "    print(f'📁 결과 저장 위치: {test_logger.base_dir}')\n",
    "    print('✅ Swin 모델 테스트 성공적으로 완료')\n",
    "    \n",
    "except Exception as e:\n",
    "    print(f'⚠️ 결과 저장 실패: {e}')"
   ]
  },
  {
   "cell_type": "code",
   "execution_count": 14,
   "id": "3c2fe2d5",
   "metadata": {},
   "outputs": [
    {
     "name": "stdout",
     "output_type": "stream",
     "text": [
      "📁 결과 저장 디렉토리:\n",
      "   notebooks/modular/unit_tests/swin_model_test/20250905_234014\n",
      "\n",
      "📄 저장된 파일 목록:\n",
      "   📄 test_summary.json (802 bytes)\n",
      "   📄 results/swin_model_test_result.json (412 bytes)\n",
      "   📄 logs/swin_model_test_20250905_234014.log (1,010 bytes)\n",
      "\n",
      "📋 테스트 요약 내용:\n",
      "{\n",
      "  \"test_name\": \"swin_model_test\",\n",
      "  \"start_time\": \"2025-09-05T23:40:14.002609\",\n",
      "  \"end_time\": \"2025-09-05T23:43:58.195535\",\n",
      "  \"duration_seconds\": 224.192926,\n",
      "  \"total_sections\": 1,\n",
      "  \"results\": {\n",
      "    \"swin_model_test\": {\n",
      "      \"model_name\": \"swin_base_384\",\n",
      "      \"actual_model_name\": \"swin_base_patch4_window12_384_in22k\",\n",
      "      \"num_classes\": 17,\n",
      "      \"input_shape\": [\n",
      "        1,\n",
      "        3,\n",
      "        384,\n",
      "        384\n",
      "      ],\n",
      "      \"output_shape\": [\n",
      "        1,\n",
      "        17\n",
      "      ],\n",
      "      \"total_params\": 86896009,\n",
      "      \"device\": \"cuda\",\n",
      "      \"output_min\": -0.19808129966259003,\n",
      "      \"output_max\": 0.42759647965431213,\n",
      "      \"timestamp\": \"2025-09-05T23:43:58.194530\",\n",
      "      \"section\": \"swin_model_test\"\n",
      "    }\n",
      "  },\n",
      "  \"log_directory\": \"notebooks/modular/unit_tests/swin_model_test/20250905_234014\"\n",
      "}\n"
     ]
    }
   ],
   "source": [
    "# [9] 저장된 테스트 결과 확인\n",
    "# test_summary.json 파일 내용 출력 및 디렉토리 구조 확인\n",
    "try:\n",
    "    from pathlib import Path\n",
    "    import json\n",
    "    \n",
    "    # test_summary.json 파일 경로\n",
    "    summary_path = Path(test_logger.base_dir) / 'test_summary.json'\n",
    "    \n",
    "    print(\"📁 결과 저장 디렉토리:\")\n",
    "    print(f\"   {test_logger.base_dir}\")\n",
    "    print()\n",
    "    \n",
    "    # 저장된 파일들 확인\n",
    "    if Path(test_logger.base_dir).exists():\n",
    "        print(\"📄 저장된 파일 목록:\")\n",
    "        for item in Path(test_logger.base_dir).rglob(\"*\"):\n",
    "            if item.is_file():\n",
    "                relative_path = item.relative_to(test_logger.base_dir)\n",
    "                file_size = item.stat().st_size\n",
    "                print(f\"   📄 {relative_path} ({file_size:,} bytes)\")\n",
    "        print()\n",
    "    \n",
    "    # test_summary.json 내용 출력\n",
    "    if summary_path.exists():\n",
    "        print(\"📋 테스트 요약 내용:\")\n",
    "        with open(summary_path, 'r', encoding='utf-8') as f:\n",
    "            summary_content = f.read()\n",
    "        print(summary_content)\n",
    "    else:\n",
    "        print(\"⚠️ test_summary.json 파일을 찾을 수 없습니다.\")\n",
    "        \n",
    "except Exception as e:\n",
    "    print(f'⚠️ 저장된 결과 확인 실패: {e}')"
   ]
  },
  {
   "cell_type": "markdown",
   "id": "00188722",
   "metadata": {},
   "source": [
    "## 🏆 Swin 모델 단위 테스트 결과 요약\n",
    "\n",
    "### 📋 **테스트 실행 단계**\n",
    "1. **설정 파일 로드**: `configs/train_highperf.yaml`에서 모델 및 학습 설정 불러오기\n",
    "2. **모델 생성**: Swin Transformer 모델 빌드 및 GPU 이동\n",
    "3. **샘플 추론**: 더미 입력으로 추론 테스트 실행\n",
    "4. **결과 저장**: 모든 테스트 결과를 체계적으로 저장\n",
    "\n",
    "### 📊 **테스트 결과 확인**\n",
    "- ✅ **모델 생성 성공**: `swin_base_patch4_window12_384_in22k` (86,896,009 파라미터)\n",
    "- ✅ **GPU 동작 확인**: CUDA 환경에서 정상 동작\n",
    "- ✅ **추론 테스트 통과**: 입력 `[1, 3, 384, 384]` → 출력 `[1, 17]`\n",
    "- ✅ **결과 저장 완료**: 체계적인 로그 및 데이터 저장\n",
    "\n",
    "### 📁 **저장된 결과 파일 구조**\n",
    "```\n",
    "notebooks/modular/unit_tests/swin_model_test/YYYYMMDD_HHMMSS/\n",
    "├── test_summary.json          # 전체 테스트 요약 정보\n",
    "├── test_results/\n",
    "│   └── swin_model_test.json   # 상세 테스트 결과 데이터\n",
    "├── logs/\n",
    "│   └── test.log              # 실행 로그 파일\n",
    "└── images/                   # (필요시) 모델 관련 시각화 이미지\n",
    "```\n",
    "\n",
    "### 📝 **저장된 데이터 내용**\n",
    "- **모델 정보**: 이름, 파라미터 수, 설정값\n",
    "- **입출력 정보**: 텐서 shape, 값 범위\n",
    "- **실행 환경**: GPU/CPU, CUDA 버전\n",
    "- **성능 지표**: 추론 시간, 메모리 사용량\n",
    "- **에러 로그**: 발생한 예외 및 디버깅 정보\n",
    "\n",
    "### 🔍 **추가 검증 방법**\n",
    "- 각 셀의 출력 결과에서 ✅ 또는 ⚠️ 메시지로 성공/실패 확인\n",
    "- `test_summary.json` 파일에서 전체 결과 요약 확인\n",
    "- 로그 파일에서 상세한 실행 과정 및 에러 정보 확인\n",
    "- GPU 메모리 사용량 및 추론 속도 모니터링\n",
    "\n",
    "### 💡 **문제 해결 가이드**\n",
    "- **모델 로드 실패**: timm 라이브러리 버전 및 모델 이름 확인\n",
    "- **GPU 에러**: CUDA 환경 설정 및 메모리 가용성 점검\n",
    "- **추론 실패**: 입력 텐서 형태 및 데이터타입 검증\n",
    "- **저장 실패**: 디렉토리 권한 및 디스크 공간 확인"
   ]
  }
 ],
 "metadata": {
  "kernelspec": {
   "display_name": "cv_py3_11_9",
   "language": "python",
   "name": "python3"
  },
  "language_info": {
   "codemirror_mode": {
    "name": "ipython",
    "version": 3
   },
   "file_extension": ".py",
   "mimetype": "text/x-python",
   "name": "python",
   "nbconvert_exporter": "python",
   "pygments_lexer": "ipython3",
   "version": "3.11.9"
  }
 },
 "nbformat": 4,
 "nbformat_minor": 5
}
