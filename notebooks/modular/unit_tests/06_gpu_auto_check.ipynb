{
 "cells": [
  {
   "cell_type": "markdown",
   "id": "7aa33a4e",
   "metadata": {},
   "source": [
    "# 🧪 GPU 자동 체크 및 환경 테스트\n",
    "\n",
    "이 노트북은 GPU 환경 자동 체크 및 관련 설정을 테스트합니다:\n",
    "- GPU 사용 가능 여부 확인\n",
    "- CUDA/메모리 정보 출력"
   ]
  },
  {
   "cell_type": "code",
   "execution_count": null,
   "id": "862171b3",
   "metadata": {},
   "outputs": [],
   "source": [
    "# [1] 프로젝트 루트 디렉토리로 이동\n",
    "import os                                                   # OS 모듈 임포트\n",
    "import sys                                                  # 시스템 모듈 임포트\n",
    "os.chdir(\"../../../\")                                       # 프로젝트 루트로 이동\n",
    "print(\"현재 작업 디렉토리:\", os.getcwd())                      # 현재 디렉토리 출력"
   ]
  },
  {
   "cell_type": "code",
   "execution_count": null,
   "id": "7696a9ea",
   "metadata": {},
   "outputs": [],
   "source": [
    "# [2] 폰트 설정 및 경고 억제\n",
    "# 한글 폰트 적용 및 시각화 환경 설정\n",
    "import warnings\n",
    "warnings.filterwarnings('ignore')\n",
    "import matplotlib.pyplot as plt\n",
    "import matplotlib.font_manager as fm\n",
    "\n",
    "# 나눔고딕 폰트 경로 및 설정\n",
    "font_path = '/usr/share/fonts/truetype/nanum/NanumGothic.ttf'\n",
    "fontprop = fm.FontProperties(fname=font_path)\n",
    "\n",
    "# 폰트 등록 및 설정\n",
    "fe = fm.FontEntry(fname=font_path, name='NanumGothic')\n",
    "fm.fontManager.ttflist.insert(0, fe)\n",
    "plt.rcParams['font.family'] = 'NanumGothic'\n",
    "plt.rcParams['font.size'] = 10\n",
    "plt.rcParams['axes.unicode_minus'] = False\n",
    "\n",
    "# 글자 겹침 방지를 위한 레이아웃 설정\n",
    "plt.rcParams['figure.autolayout'] = True\n",
    "plt.rcParams['axes.titlepad'] = 20"
   ]
  },
  {
   "cell_type": "code",
   "execution_count": null,
   "id": "5a8a303d",
   "metadata": {},
   "outputs": [],
   "source": [
    "# [3] 라이브러리 및 유틸리티 임포트\n",
    "# GPU 체크 및 로거 등 필요한 모듈 임포트\n",
    "import torch  # 파이토치 임포트\n",
    "from src.utils.unit_test_logger import create_test_logger  # 단위 테스트 로거 생성 함수 임포트\n",
    "test_logger = create_test_logger(\"gpu_auto_check\")  # 단위 테스트 로거 초기화"
   ]
  },
  {
   "cell_type": "code",
   "execution_count": null,
   "id": "b4f2d07e",
   "metadata": {},
   "outputs": [],
   "source": [
    "# [4] GPU 자동 체크 및 정보 수집\n",
    "# GPU 환경 정보 확인 및 저장\n",
    "gpu_info = {}\n",
    "if torch.cuda.is_available():  # GPU 사용 가능 여부 확인\n",
    "    gpu_info = {\n",
    "        'gpu_available': True,\n",
    "        'gpu_name': torch.cuda.get_device_name(0),\n",
    "        'gpu_count': torch.cuda.device_count(),\n",
    "        'gpu_memory_mb': torch.cuda.get_device_properties(0).total_memory // (1024**2),\n",
    "        'cuda_version': torch.version.cuda\n",
    "    }\n",
    "    print(f'✅ GPU 사용 가능: {gpu_info[\"gpu_name\"]}')  # GPU 이름 출력\n",
    "    print(f'총 GPU 수: {gpu_info[\"gpu_count\"]}')  # GPU 개수 출력\n",
    "    print(f'GPU 메모리: {gpu_info[\"gpu_memory_mb\"]} MB')  # GPU 메모리 출력\n",
    "    print(f'CUDA 버전: {gpu_info[\"cuda_version\"]}')  # CUDA 버전 출력\n",
    "else:\n",
    "    gpu_info = {\n",
    "        'gpu_available': False,\n",
    "        'gpu_name': None,\n",
    "        'gpu_count': 0,\n",
    "        'gpu_memory_mb': 0,\n",
    "        'cuda_version': None\n",
    "    }\n",
    "    print('⚠️ GPU 사용 불가, CPU로 실행됩니다')  # CPU 사용 안내\n",
    "\n",
    "# 테스트 결과 저장\n",
    "test_logger.save_test_result('gpu_check_test', gpu_info)\n",
    "test_logger.finalize_test()\n",
    "print('✅ GPU 자동 체크 테스트 완료')"
   ]
  },
  {
   "cell_type": "markdown",
   "id": "c7a5aab8",
   "metadata": {},
   "source": [
    "## 🏆 테스트 결과 요약\n",
    "\n",
    "- GPU 자동 체크 및 환경 정보 출력이 정상적으로 동작하면 ✅, 실패 시 ⚠️ 메시지로 확인 가능합니다.\n",
    "- GPU 이름, 개수, 메모리, CUDA 버전 등 모든 정보는 코드 셀 출력에서 확인할 수 있습니다.\n",
    "- 추가 검증이 필요한 부분은 각 셀의 예외 메시지와 로그를 참고하세요."
   ]
  }
 ],
 "metadata": {
  "language_info": {
   "name": "python"
  }
 },
 "nbformat": 4,
 "nbformat_minor": 5
}
