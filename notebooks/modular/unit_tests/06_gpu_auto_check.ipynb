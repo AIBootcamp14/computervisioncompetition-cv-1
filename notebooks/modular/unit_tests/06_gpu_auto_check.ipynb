{
 "cells": [
  {
   "cell_type": "markdown",
   "id": "7aa33a4e",
   "metadata": {},
   "source": [
    "# 🧪 GPU 자동 체크 및 환경 테스트\n",
    "\n",
    "이 노트북은 GPU 환경 자동 체크 및 관련 설정을 테스트합니다:\n",
    "- GPU 사용 가능 여부 확인\n",
    "- CUDA/메모리 정보 출력"
   ]
  },
  {
   "cell_type": "code",
   "execution_count": null,
   "id": "862171b3",
   "metadata": {},
   "outputs": [],
   "source": [
    "import os\n",
    "import sys\n",
    "os.chdir(\"../../../\")\n",
    "print(\"현재 작업 디렉토리:\", os.getcwd())"
   ]
  },
  {
   "cell_type": "code",
   "execution_count": null,
   "id": "7696a9ea",
   "metadata": {},
   "outputs": [],
   "source": [
    "\n",
    "import warnings\n",
    "warnings.filterwarnings('ignore')"
   ]
  },
  {
   "cell_type": "code",
   "execution_count": null,
   "id": "669a1e93",
   "metadata": {},
   "outputs": [],
   "source": [
    "\n",
    "import matplotlib.pyplot as plt\n",
    "from matplotlib import font_manager\n",
    "font_path = 'font/NanumGothic.ttf'\n",
    "fontprop = font_manager.FontProperties(fname=font_path)\n",
    "plt.rc('font', family=fontprop.get_name())\n",
    "plt.rcParams['axes.unicode_minus'] = False"
   ]
  },
  {
   "cell_type": "code",
   "execution_count": null,
   "id": "5a8a303d",
   "metadata": {},
   "outputs": [],
   "source": [
    "import torch  # 파이토치 임포트\n",
    "if torch.cuda.is_available():  # GPU 사용 가능 여부 확인\n",
    "    print(f'✅ GPU 사용 가능: {torch.cuda.get_device_name(0)}')  # GPU 이름 출력\n",
    "    print(f'총 GPU 수: {torch.cuda.device_count()}')  # GPU 개수 출력\n",
    "    print(f'GPU 메모리: {torch.cuda.get_device_properties(0).total_memory // (1024**2)} MB')  # GPU 메모리 출력\n",
    "    print(f'CUDA 버전: {torch.version.cuda}')  # CUDA 버전 출력\n",
    "else:\n",
    "    print('⚠️ GPU 사용 불가, CPU로 실행됩니다')  # CPU 사용 안내"
   ]
  },
  {
   "cell_type": "markdown",
   "id": "c7a5aab8",
   "metadata": {},
   "source": [
    "## 🏆 테스트 결과 요약\n",
    "\n",
    "- GPU 자동 체크 및 환경 정보 출력이 정상적으로 동작하면 ✅, 실패 시 ⚠️ 메시지로 확인 가능합니다.\n",
    "- GPU 이름, 개수, 메모리, CUDA 버전 등 모든 정보는 코드 셀 출력에서 확인할 수 있습니다.\n",
    "- 추가 검증이 필요한 부분은 각 셀의 예외 메시지와 로그를 참고하세요."
   ]
  }
 ],
 "metadata": {
  "language_info": {
   "name": "python"
  }
 },
 "nbformat": 4,
 "nbformat_minor": 5
}
