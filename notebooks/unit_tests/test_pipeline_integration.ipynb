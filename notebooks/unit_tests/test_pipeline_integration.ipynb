{
 "cells": [
  {
   "cell_type": "markdown",
   "id": "0963be45",
   "metadata": {},
   "source": [
    "# 전체 파이프라인 통합 단위 테스트 노트북\n",
    "이 노트북은 src/pipeline/full_pipeline.py의 모듈화된 코드를 활용하여 학습, 추론, 결과 저장 등 주요 기능이 정상적으로 동작하는지 검증합니다.\n",
    "필요 라이브러리와 모듈을 임포트합니다."
   ]
  },
  {
   "cell_type": "code",
   "execution_count": null,
   "id": "9bdf0eb0",
   "metadata": {},
   "outputs": [],
   "source": [
    "# 라이브러리 및 파이프라인 모듈 임포트\n",
    "import os\n",
    "import sys\n",
    "import shutil\n",
    "sys.path.append(os.path.abspath('../../src/pipeline'))\n",
    "from full_pipeline import run_training, run_inference, save_results"
   ]
  },
  {
   "cell_type": "code",
   "execution_count": null,
   "id": "8bffb118",
   "metadata": {},
   "outputs": [],
   "source": [
    "# 파이프라인 주요 함수 테스트\n",
    "try:\n",
    "    print('학습 시작')\n",
    "    train_result = run_training(config_path='../../configs/train_highperf.yaml')\n",
    "    print('학습 결과:', train_result)\n",
    "    print('추론 시작')\n",
    "    infer_result = run_inference(config_path='../../configs/infer.yaml')\n",
    "    print('추론 결과:', infer_result)\n",
    "    print('결과 저장')\n",
    "    save_results(infer_result, output_path='../../submissions/test_pipeline_integration.csv')\n",
    "    print('테스트 성공')\n",
    "except Exception as e:\n",
    "    print('테스트 실패:', e)"
   ]
  },
  {
   "cell_type": "markdown",
   "id": "7564439d",
   "metadata": {},
   "source": [
    "## 테스트 결과 시각화 및 요약\n",
    "- 학습/추론/결과 저장이 정상적으로 동작하면 '테스트 성공' 메시지 출력\n",
    "- 에러 발생 시 '테스트 실패' 메시지와 예외 정보 출력\n",
    "- 추가적으로 결과 파일을 직접 확인하거나, 시각화 코드(예: pandas, matplotlib)로 분석 가능"
   ]
  }
 ],
 "metadata": {
  "language_info": {
   "name": "python"
  }
 },
 "nbformat": 4,
 "nbformat_minor": 5
}
