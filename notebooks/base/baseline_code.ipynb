{
 "cells": [
  {
   "attachments": {},
   "cell_type": "markdown",
   "metadata": {
    "id": "OliaDaX_lwou"
   },
   "source": [
    "# **📄 Document type classification baseline code**\n",
    "> 문서 타입 분류 대회에 오신 여러분 환영합니다! 🎉     \n",
    "> 아래 baseline에서는 ResNet 모델을 로드하여, 모델을 학습 및 예측 파일 생성하는 프로세스에 대해 알아보겠습니다.\n",
    "\n",
    "## Contents\n",
    "- Prepare Environments\n",
    "- Import Library & Define Functions\n",
    "- Hyper-parameters\n",
    "- Load Data\n",
    "- Train Model\n",
    "- Inference & Save File\n"
   ]
  },
  {
   "attachments": {},
   "cell_type": "markdown",
   "metadata": {
    "id": "zkH9T_86lDSS"
   },
   "source": [
    "## 1. Prepare Environments\n",
    "\n",
    "* 데이터 로드를 위한 구글 드라이브를 마운트합니다.\n",
    "* 필요한 라이브러리를 설치합니다."
   ]
  },
  {
   "cell_type": "code",
   "execution_count": 3,
   "metadata": {
    "colab": {
     "base_uri": "https://localhost:8080/"
    },
    "executionInfo": {
     "elapsed": 8489,
     "status": "ok",
     "timestamp": 1700314558888,
     "user": {
      "displayName": "Ynot(송원호)",
      "userId": "16271863862696372773"
     },
     "user_tz": -540
    },
    "id": "NC8V-D393wY4",
    "outputId": "e9927325-26c4-4b89-9c51-c1d6541388d6"
   },
   "outputs": [],
   "source": [
    "# 필요한 라이브러리를 설치합니다.\n",
    "#!pip install timm"
   ]
  },
  {
   "attachments": {},
   "cell_type": "markdown",
   "metadata": {
    "id": "PXa_FPM73R9f"
   },
   "source": [
    "## 2. Import Library & Define Functions\n",
    "* 학습 및 추론에 필요한 라이브러리를 로드합니다.\n",
    "* 학습 및 추론에 필요한 함수와 클래스를 정의합니다."
   ]
  },
  {
   "cell_type": "code",
   "execution_count": null,
   "metadata": {
    "executionInfo": {
     "elapsed": 9396,
     "status": "ok",
     "timestamp": 1700314592802,
     "user": {
      "displayName": "Ynot(송원호)",
      "userId": "16271863862696372773"
     },
     "user_tz": -540
    },
    "id": "3BaoIkv5Xwa0"
   },
   "outputs": [],
   "source": [
    "import os                                           # 경로·파일 처리, 환경 변수 접근\n",
    "import time                                         # 시간 측정·지연 제어\n",
    "import random                                       # 표준 난수 유틸리티\n",
    "\n",
    "import timm                                         # 사전학습 비전 모델/백본 로더\n",
    "import torch                                        # 텐서·자동미분·훈련 루프 핵심\n",
    "import albumentations as A                          # 고성능 이미지 증강 파이프라인\n",
    "import pandas as pd                                 # 표형 데이터 로드·전처리\n",
    "import numpy as np                                  # 수치 연산·배열 처리\n",
    "import torch.nn as nn                               # 신경망 계층·모듈 정의\n",
    "from albumentations.pytorch import ToTensorV2       # NumPy→Tensor 변환 어댑터\n",
    "from torch.optim import Adam                        # Adam 옵티마이저\n",
    "from torchvision import transforms                  # torchvision 기본 변환(보조/호환)\n",
    "from torch.utils.data import Dataset, DataLoader    # 커스텀 데이터셋·배치 로더\n",
    "from PIL import Image                               # 이미지 파일 로드·변환\n",
    "from tqdm import tqdm                               # 진행률 표시(progress bar)\n",
    "from sklearn.metrics import accuracy_score, f1_score# 정확도·F1 평가 지표\n"
   ]
  },
  {
   "cell_type": "code",
   "execution_count": null,
   "metadata": {},
   "outputs": [],
   "source": [
    "# 재현성 확보: 전역 시드 고정 및 CuDNN 설정\n",
    "SEED = 42                                           # 실험 전역 시드 값\n",
    "\n",
    "os.environ['PYTHONHASHSEED'] = str(SEED)            # 파이썬 해시 시드 고정 → dict/set 해시 일관성\n",
    "random.seed(SEED)                                   # 표준 random 모듈 시드 고정\n",
    "np.random.seed(SEED)                                # NumPy 시드 고정\n",
    "torch.manual_seed(SEED)                             # PyTorch CPU 시드 고정\n",
    "torch.cuda.manual_seed(SEED)                        # 단일 GPU 시드 고정\n",
    "torch.cuda.manual_seed_all(SEED)                    # 다중 GPU(모든 디바이스) 시드 고정\n",
    "\n",
    "torch.backends.cudnn.benchmark = True               # CuDNN 알고리즘 자동 선택(속도↑)\n"
   ]
  },
  {
   "cell_type": "code",
   "execution_count": null,
   "metadata": {
    "executionInfo": {
     "elapsed": 241,
     "status": "ok",
     "timestamp": 1700314772722,
     "user": {
      "displayName": "Ynot(송원호)",
      "userId": "16271863862696372773"
     },
     "user_tz": -540
    },
    "id": "Hyl8oAy6TZAu"
   },
   "outputs": [],
   "source": [
    "# 커스텀 이미지 데이터셋 정의: CSV 기반 로더\n",
    "class ImageDataset(Dataset):\n",
    "    # 초기화: CSV 경로, 이미지 루트, 변환 파이프라인 수신\n",
    "    def __init__(self, csv, path, transform=None):\n",
    "        self.df = pd.read_csv(csv).values               # CSV 로드 → (파일명, 라벨) 배열 확보\n",
    "        self.path = path                                # 이미지 루트 경로 저장\n",
    "        self.transform = transform                      # Albumentations 변환 파이프라인 저장\n",
    "\n",
    "    # 데이터셋 길이: 샘플 수 반환\n",
    "    def __len__(self):\n",
    "        return len(self.df) # 총 행 수 반환\n",
    "\n",
    "    # 샘플 접근: (이미지, 라벨) 튜플 반환\n",
    "    def __getitem__(self, idx):\n",
    "        name, target = self.df[idx]                     # 파일명, 라벨 분리\n",
    "        img = np.array(                                 # 이미지 파일 로드 후 배열 변환\n",
    "            Image.open(os.path.join(self.path, name))\n",
    "        )\n",
    "        if self.transform:                              # 변환 파이프라인 설정 시\n",
    "            img = self.transform(image=img)['image']    # 변환 적용 후 Tensor/배열 획득\n",
    "        return img, target                              # 모델 입력, 라벨 반환\n"
   ]
  },
  {
   "cell_type": "code",
   "execution_count": null,
   "metadata": {
    "executionInfo": {
     "elapsed": 255,
     "status": "ok",
     "timestamp": 1700315066028,
     "user": {
      "displayName": "Ynot(송원호)",
      "userId": "16271863862696372773"
     },
     "user_tz": -540
    },
    "id": "kTECBJfVTbdl"
   },
   "outputs": [],
   "source": [
    "# one epoch 학습 루프: 순전파→손실→역전파→최적화→지표 계산\n",
    "def train_one_epoch(loader, model, optimizer, loss_fn, device):\n",
    "    model.train()       # 학습 모드 전환\n",
    "    train_loss = 0      # 에폭 손실 누적 변수\n",
    "    preds_list = []     # 예측 레이블 누적 버퍼\n",
    "    targets_list = []   # 정답 레이블 누적 버퍼\n",
    "\n",
    "    pbar = tqdm(loader) # 진행률 표시 래퍼\n",
    "    \n",
    "    # 배치 단위 학습/추론/기록\n",
    "    for image, targets in pbar:\n",
    "        image = image.to(device)            # 입력 배치를 디바이스로 이동\n",
    "        targets = targets.to(device)        # 타깃을 디바이스로 이동\n",
    "\n",
    "        model.zero_grad(set_to_none=True)   # 그래디언트 초기화(메모리 효율)\n",
    "\n",
    "        preds = model(image)                # 순전파 수행\n",
    "        loss = loss_fn(preds, targets)      # 손실 계산\n",
    "        loss.backward()                     # 역전파로 기울기 계산\n",
    "        optimizer.step()                    # 파라미터 업데이트\n",
    "\n",
    "        train_loss += loss.item()           # 배치 손실 누적\n",
    "        \n",
    "        # 배치 예측 라벨 수집\n",
    "        preds_list.extend(\n",
    "            preds.argmax(dim=1).detach().cpu().numpy()\n",
    "        )\n",
    "        \n",
    "        # 배치 정답 라벨 수집\n",
    "        targets_list.extend(\n",
    "            targets.detach().cpu().numpy()\n",
    "        )\n",
    "\n",
    "        # 현재 배치 손실 표시\n",
    "        pbar.set_description(f\"Loss: {loss.item():.4f}\")\n",
    "\n",
    "    train_loss /= len(loader)                                       # 에폭 평균 손실 계산\n",
    "    train_acc = accuracy_score(targets_list, preds_list)            # 에폭 정확도 계산\n",
    "    train_f1 = f1_score(targets_list, preds_list, average='macro')  # 에폭 매크로 F1 계산\n",
    "\n",
    "    # 에폭 성능 요약 딕셔너리\n",
    "    ret = {\n",
    "        \"train_loss\": train_loss,\n",
    "        \"train_acc\": train_acc,\n",
    "        \"train_f1\": train_f1,\n",
    "    }\n",
    "\n",
    "    # 요약 결과 반환\n",
    "    return ret"
   ]
  },
  {
   "attachments": {},
   "cell_type": "markdown",
   "metadata": {
    "id": "Wjom43UvoXcx"
   },
   "source": [
    "## 3. Hyper-parameters\n",
    "* 학습 및 추론에 필요한 하이퍼파라미터들을 정의합니다."
   ]
  },
  {
   "cell_type": "code",
   "execution_count": null,
   "metadata": {
    "executionInfo": {
     "elapsed": 436,
     "status": "ok",
     "timestamp": 1700315112439,
     "user": {
      "displayName": "Ynot(송원호)",
      "userId": "16271863862696372773"
     },
     "user_tz": -540
    },
    "id": "KByfAeRmXwYk"
   },
   "outputs": [],
   "source": [
    "# 디바이스 선택: CUDA 가능 시 'cuda', 아니면 'cpu'\n",
    "device = torch.device('cuda' if torch.cuda.is_available() else 'cpu')  # 가속 장치 자동 선택\n",
    "\n",
    "# 데이터 경로 설정\n",
    "data_path = '../data/raw/'  # 원본 데이터 루트 경로\n",
    "\n",
    "# 모델 설정\n",
    "model_name = 'resnet34'     # 사용 백본 이름 예시: 'resnet50', 'efficientnet-b0' 등\n",
    "\n",
    "# 학습 하이퍼파라미터\n",
    "img_size    = 32            # 입력 이미지 한 변 픽셀 크기\n",
    "LR          = 1e-3          # 학습률\n",
    "EPOCHS      = 1             # 총 학습 에폭 수\n",
    "BATCH_SIZE  = 32            # 배치 크기\n",
    "num_workers = 0             # DataLoader 워커 수(0=메인 프로세스; OS/환경 이슈 회피)"
   ]
  },
  {
   "attachments": {},
   "cell_type": "markdown",
   "metadata": {
    "id": "amum-FlIojc6"
   },
   "source": [
    "## 4. Load Data\n",
    "* 학습, 테스트 데이터셋과 로더를 정의합니다."
   ]
  },
  {
   "cell_type": "code",
   "execution_count": null,
   "metadata": {
    "executionInfo": {
     "elapsed": 1,
     "status": "ok",
     "timestamp": 1700315112439,
     "user": {
      "displayName": "Ynot(송원호)",
      "userId": "16271863862696372773"
     },
     "user_tz": -540
    },
    "id": "llh5C7ZKoq2S"
   },
   "outputs": [],
   "source": [
    "# augmentation을 위한 transform 코드\n",
    "trn_transform = A.Compose([                         # 학습용 변환 파이프라인\n",
    "    A.Resize(height=img_size, width=img_size),      # 크기 조정\n",
    "    A.Normalize(mean=[0.485, 0.456, 0.406],         # 채널별 정규화(mean/std)\n",
    "                std=[0.229, 0.224, 0.225]),             \n",
    "    ToTensorV2(),                                   # NumPy/PIL → PyTorch Tensor 변환\n",
    "])\n",
    "\n",
    "# test image 변환을 위한 transform 코드\n",
    "tst_transform = A.Compose([                         # 평가/추론용 변환 파이프라인\n",
    "    A.Resize(height=img_size, width=img_size),      # 크기 조정\n",
    "    A.Normalize(mean=[0.485, 0.456, 0.406],         # 채널별 정규화(mean/std)\n",
    "                std=[0.229, 0.224, 0.225]),\n",
    "    ToTensorV2(),                                   # Tensor 변환\n",
    "])\n"
   ]
  },
  {
   "cell_type": "code",
   "execution_count": null,
   "metadata": {
    "colab": {
     "base_uri": "https://localhost:8080/"
    },
    "executionInfo": {
     "elapsed": 3,
     "status": "ok",
     "timestamp": 1700315112808,
     "user": {
      "displayName": "Ynot(송원호)",
      "userId": "16271863862696372773"
     },
     "user_tz": -540
    },
    "id": "INxdmsStop2L",
    "outputId": "49f0d412-8ce6-4d2f-ae78-d5cf3d056340"
   },
   "outputs": [],
   "source": [
    "# Dataset 정의\n",
    "# 학습용 데이터셋 인스턴스\n",
    "trn_dataset = ImageDataset(\n",
    "    \"../data/raw/train.csv\",                # 학습 CSV 경로\n",
    "    \"../data/raw/train/\",                   # 학습 이미지 루트\n",
    "    transform=trn_transform                 # 학습용 변환 파이프라인\n",
    ")\n",
    "\n",
    "# 평가/추론용 데이터셋 인스턴스\n",
    "tst_dataset = ImageDataset(\n",
    "    \"../data/raw/sample_submission.csv\",    # 제출 샘플 CSV 또는 테스트 ID 목록\n",
    "    \"../data/raw/test/\",                    # 테스트 이미지 루트\n",
    "    transform=tst_transform                 # 평가/추론용 변환 파이프라인\n",
    ")"
   ]
  },
  {
   "cell_type": "code",
   "execution_count": null,
   "metadata": {
    "executionInfo": {
     "elapsed": 1,
     "status": "ok",
     "timestamp": 1700315112808,
     "user": {
      "displayName": "Ynot(송원호)",
      "userId": "16271863862696372773"
     },
     "user_tz": -540
    },
    "id": "_sO03fWaQj1h"
   },
   "outputs": [],
   "source": [
    "# DataLoader 정의\n",
    "# 학습용 배치 로더\n",
    "trn_loader = DataLoader(\n",
    "    trn_dataset,            # 학습 데이터셋 객체\n",
    "    batch_size=BATCH_SIZE,  # 배치 크기\n",
    "    shuffle=True,           # 에폭마다 섞기\n",
    "    num_workers=num_workers,# 로딩 워커 수\n",
    "    pin_memory=True,        # 핀 메모리 사용(CUDA 전송 최적화)\n",
    "    drop_last=False         # 마지막 불완전 배치 유지\n",
    ")\n",
    "\n",
    "# 평가/추론용 배치 로더\n",
    "tst_loader = DataLoader(\n",
    "    tst_dataset,            # 평가/추론 데이터셋 객체\n",
    "    batch_size=BATCH_SIZE,  # 배치 크기\n",
    "    shuffle=False,          # 순서 유지(섞지 않음)\n",
    "    num_workers=0,          # 로딩 워커 수(평가 고정)\n",
    "    pin_memory=True         # 핀 메모리 사용\n",
    ")\n"
   ]
  },
  {
   "attachments": {},
   "cell_type": "markdown",
   "metadata": {
    "id": "Nmm5h3J-pXNV"
   },
   "source": [
    "## 5. Train Model\n",
    "* 모델을 로드하고, 학습을 진행합니다."
   ]
  },
  {
   "cell_type": "code",
   "execution_count": null,
   "metadata": {
    "executionInfo": {
     "elapsed": 870,
     "status": "ok",
     "timestamp": 1700315114067,
     "user": {
      "displayName": "Ynot(송원호)",
      "userId": "16271863862696372773"
     },
     "user_tz": -540
    },
    "id": "FbBgFPsLT-CO"
   },
   "outputs": [
    {
     "data": {
      "application/vnd.jupyter.widget-view+json": {
       "model_id": "5dab8276183340d98ddd29166f765811",
       "version_major": 2,
       "version_minor": 0
      },
      "text/plain": [
       "model.safetensors:   0%|          | 0.00/87.3M [00:00<?, ?B/s]"
      ]
     },
     "metadata": {},
     "output_type": "display_data"
    }
   ],
   "source": [
    "# load model\n",
    "# timm 라이브러리를 통해 사전학습 모델 로드\n",
    "model = timm.create_model(\n",
    "    model_name,        # 모델 이름 (예: resnet34)\n",
    "    pretrained=True,   # ImageNet 등으로 학습된 가중치 사용\n",
    "    num_classes=17     # 출력 클래스 수 지정\n",
    ").to(device)           # 지정된 디바이스(CPU/GPU)로 이동\n",
    "\n",
    "# 손실 함수 정의 (다중 클래스 분류용)\n",
    "loss_fn = nn.CrossEntropyLoss()\n",
    "\n",
    "# 최적화 알고리즘 정의 (Adam)\n",
    "optimizer = Adam(model.parameters(), lr=LR)  # 모델 파라미터와 학습률 설정"
   ]
  },
  {
   "cell_type": "code",
   "execution_count": null,
   "metadata": {
    "colab": {
     "base_uri": "https://localhost:8080/"
    },
    "executionInfo": {
     "elapsed": 8778,
     "status": "ok",
     "timestamp": 1700315122843,
     "user": {
      "displayName": "Ynot(송원호)",
      "userId": "16271863862696372773"
     },
     "user_tz": -540
    },
    "id": "OvIVcSRgUPtS",
    "outputId": "88230bf2-976f-45f6-b3b7-1a2d0ad00548"
   },
   "outputs": [
    {
     "name": "stderr",
     "output_type": "stream",
     "text": [
      "Loss: 2.2397: 100%|██████████| 50/50 [00:04<00:00, 11.58it/s]"
     ]
    },
    {
     "name": "stdout",
     "output_type": "stream",
     "text": [
      "train_loss: 2.4603\n",
      "train_acc: 0.2631\n",
      "train_f1: 0.2253\n",
      "epoch: 0.0000\n",
      "\n"
     ]
    },
    {
     "name": "stderr",
     "output_type": "stream",
     "text": [
      "\n"
     ]
    }
   ],
   "source": [
    "# 학습 루프 실행\n",
    "for epoch in range(EPOCHS):  \n",
    "    # 한 에폭 학습 수행\n",
    "    ret = train_one_epoch(trn_loader, model, optimizer, loss_fn, device=device)  \n",
    "    ret['epoch'] = epoch  # 현재 에폭 번호 기록\n",
    "\n",
    "    log = \"\"  # 로그 문자열 초기화\n",
    "    # 결과 딕셔너리 항목 순회\n",
    "    for k, v in ret.items():  \n",
    "        log += f\"{k}: {v:.4f}\\n\"  # key와 값을 문자열로 누적\n",
    "    print(log)  # 에폭 결과 출력"
   ]
  },
  {
   "attachments": {},
   "cell_type": "markdown",
   "metadata": {
    "id": "lkwxRXoBpbaX"
   },
   "source": [
    "# 6. Inference & Save File\n",
    "* 테스트 이미지에 대한 추론을 진행하고, 결과 파일을 저장합니다."
   ]
  },
  {
   "cell_type": "code",
   "execution_count": null,
   "metadata": {
    "colab": {
     "base_uri": "https://localhost:8080/"
    },
    "executionInfo": {
     "elapsed": 12776,
     "status": "ok",
     "timestamp": 1700315185336,
     "user": {
      "displayName": "Ynot(송원호)",
      "userId": "16271863862696372773"
     },
     "user_tz": -540
    },
    "id": "uRYe6jlPU_Om",
    "outputId": "2a08690c-9ffe-418d-8679-eb9280147110"
   },
   "outputs": [
    {
     "name": "stderr",
     "output_type": "stream",
     "text": [
      "100%|██████████| 99/99 [00:06<00:00, 15.71it/s]\n"
     ]
    }
   ],
   "source": [
    "# 예측 결과 저장 리스트 초기화\n",
    "preds_list = []\n",
    "\n",
    "# 모델 평가 모드 전환\n",
    "model.eval()\n",
    "# 테스트 로더 순회\n",
    "for image, _ in tqdm(tst_loader):\n",
    "    image = image.to(device)  # 입력 이미지를 디바이스로 이동\n",
    "\n",
    "    # 기울기 계산 비활성화(추론 전용)\n",
    "    with torch.no_grad():\n",
    "        preds = model(image)  # 모델 추론 수행\n",
    "    # 예측 라벨을 CPU NumPy 배열로 변환 후 저장\n",
    "    preds_list.extend(preds.argmax(dim=1).detach().cpu().numpy())"
   ]
  },
  {
   "cell_type": "code",
   "execution_count": null,
   "metadata": {
    "executionInfo": {
     "elapsed": 282,
     "status": "ok",
     "timestamp": 1700315216829,
     "user": {
      "displayName": "Ynot(송원호)",
      "userId": "16271863862696372773"
     },
     "user_tz": -540
    },
    "id": "aClN7Qi7VZoh"
   },
   "outputs": [],
   "source": [
    "# 예측 결과 DataFrame 생성\n",
    "pred_df = pd.DataFrame(                              # DataFrame 초기화\n",
    "    tst_dataset.df,                                  # 테스트 데이터셋 원본 ID/target\n",
    "    columns=['ID', 'target']                         # 컬럼명 지정\n",
    ")\n",
    "pred_df['target'] = preds_list                       # target 컬럼을 예측 결과로 갱신"
   ]
  },
  {
   "cell_type": "code",
   "execution_count": null,
   "metadata": {
    "executionInfo": {
     "elapsed": 1,
     "status": "ok",
     "timestamp": 1700315238836,
     "user": {
      "displayName": "Ynot(송원호)",
      "userId": "16271863862696372773"
     },
     "user_tz": -540
    },
    "id": "VDBXQqAzVvLY"
   },
   "outputs": [],
   "source": [
    "# 제출 샘플 CSV 로드\n",
    "sample_submission_df = pd.read_csv(\"../data/raw/sample_submission.csv\")\n",
    "\n",
    "# 예측 결과 ID와 제출 샘플 ID가 동일한지 검증\n",
    "assert (sample_submission_df['ID'] == pred_df['ID']).all()"
   ]
  },
  {
   "cell_type": "code",
   "execution_count": null,
   "metadata": {
    "executionInfo": {
     "elapsed": 317,
     "status": "ok",
     "timestamp": 1700315244710,
     "user": {
      "displayName": "Ynot(송원호)",
      "userId": "16271863862696372773"
     },
     "user_tz": -540
    },
    "id": "ePx2vCELVnuS"
   },
   "outputs": [],
   "source": [
    "# 예측 결과를 CSV로 저장\n",
    "pred_df.to_csv(\n",
    "    \"../submissions/20250903/baseline_code_pred.csv\",  # 저장 경로\n",
    "    index=False                                        # 인덱스 제외\n",
    ")"
   ]
  },
  {
   "cell_type": "code",
   "execution_count": null,
   "metadata": {
    "colab": {
     "base_uri": "https://localhost:8080/",
     "height": 206
    },
    "executionInfo": {
     "elapsed": 353,
     "status": "ok",
     "timestamp": 1700315247734,
     "user": {
      "displayName": "Ynot(송원호)",
      "userId": "16271863862696372773"
     },
     "user_tz": -540
    },
    "id": "9yMO8s6GqAwZ",
    "outputId": "9a30616f-f0ea-439f-a906-dd806737ce00"
   },
   "outputs": [
    {
     "data": {
      "application/vnd.microsoft.datawrangler.viewer.v0+json": {
       "columns": [
        {
         "name": "index",
         "rawType": "int64",
         "type": "integer"
        },
        {
         "name": "ID",
         "rawType": "object",
         "type": "string"
        },
        {
         "name": "target",
         "rawType": "int64",
         "type": "integer"
        }
       ],
       "ref": "dd7e5217-5fd3-4892-9eee-4a101bd2abc4",
       "rows": [
        [
         "0",
         "0008fdb22ddce0ce.jpg",
         "2"
        ],
        [
         "1",
         "00091bffdffd83de.jpg",
         "11"
        ],
        [
         "2",
         "00396fbc1f6cc21d.jpg",
         "5"
        ],
        [
         "3",
         "00471f8038d9c4b6.jpg",
         "10"
        ],
        [
         "4",
         "00901f504008d884.jpg",
         "16"
        ]
       ],
       "shape": {
        "columns": 2,
        "rows": 5
       }
      },
      "text/html": [
       "<div>\n",
       "<style scoped>\n",
       "    .dataframe tbody tr th:only-of-type {\n",
       "        vertical-align: middle;\n",
       "    }\n",
       "\n",
       "    .dataframe tbody tr th {\n",
       "        vertical-align: top;\n",
       "    }\n",
       "\n",
       "    .dataframe thead th {\n",
       "        text-align: right;\n",
       "    }\n",
       "</style>\n",
       "<table border=\"1\" class=\"dataframe\">\n",
       "  <thead>\n",
       "    <tr style=\"text-align: right;\">\n",
       "      <th></th>\n",
       "      <th>ID</th>\n",
       "      <th>target</th>\n",
       "    </tr>\n",
       "  </thead>\n",
       "  <tbody>\n",
       "    <tr>\n",
       "      <th>0</th>\n",
       "      <td>0008fdb22ddce0ce.jpg</td>\n",
       "      <td>2</td>\n",
       "    </tr>\n",
       "    <tr>\n",
       "      <th>1</th>\n",
       "      <td>00091bffdffd83de.jpg</td>\n",
       "      <td>11</td>\n",
       "    </tr>\n",
       "    <tr>\n",
       "      <th>2</th>\n",
       "      <td>00396fbc1f6cc21d.jpg</td>\n",
       "      <td>5</td>\n",
       "    </tr>\n",
       "    <tr>\n",
       "      <th>3</th>\n",
       "      <td>00471f8038d9c4b6.jpg</td>\n",
       "      <td>10</td>\n",
       "    </tr>\n",
       "    <tr>\n",
       "      <th>4</th>\n",
       "      <td>00901f504008d884.jpg</td>\n",
       "      <td>16</td>\n",
       "    </tr>\n",
       "  </tbody>\n",
       "</table>\n",
       "</div>"
      ],
      "text/plain": [
       "                     ID  target\n",
       "0  0008fdb22ddce0ce.jpg       2\n",
       "1  00091bffdffd83de.jpg      11\n",
       "2  00396fbc1f6cc21d.jpg       5\n",
       "3  00471f8038d9c4b6.jpg      10\n",
       "4  00901f504008d884.jpg      16"
      ]
     },
     "execution_count": 20,
     "metadata": {},
     "output_type": "execute_result"
    }
   ],
   "source": [
    "# 예측 결과 확인: 상위 5개 행 출력\n",
    "pred_df.head()"
   ]
  }
 ],
 "metadata": {
  "accelerator": "GPU",
  "colab": {
   "provenance": []
  },
  "kernelspec": {
   "display_name": "cv_py3_11_9",
   "language": "python",
   "name": "python3"
  },
  "language_info": {
   "codemirror_mode": {
    "name": "ipython",
    "version": 3
   },
   "file_extension": ".py",
   "mimetype": "text/x-python",
   "name": "python",
   "nbconvert_exporter": "python",
   "pygments_lexer": "ipython3",
   "version": "3.11.9"
  }
 },
 "nbformat": 4,
 "nbformat_minor": 0
}
