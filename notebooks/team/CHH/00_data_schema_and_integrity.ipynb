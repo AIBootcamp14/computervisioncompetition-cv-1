{
 "cells": [
  {
   "cell_type": "markdown",
   "id": "f4e7dc19",
   "metadata": {},
   "source": [
    "# 설정 로드 & 실행"
   ]
  },
  {
   "cell_type": "code",
   "execution_count": 1,
   "id": "862dca74",
   "metadata": {},
   "outputs": [
    {
     "name": "stdout",
     "output_type": "stream",
     "text": [
      "현재 작업 디렉토리: /home/ieyeppo/AI_Lab/computer-vision-competition-1SEN/notebooks/team/CHH\n",
      "변경 후 작업 디렉토리: /home/ieyeppo/AI_Lab/computer-vision-competition-1SEN/notebooks\n"
     ]
    }
   ],
   "source": [
    "import os\n",
    "\n",
    "# 현재 작업디렉토리 확인\n",
    "print(\"현재 작업 디렉토리:\", os.getcwd())\n",
    "\n",
    "# 노트북 위치에서 프로젝트 루트로 이동(필요시 경로 조정)\n",
    "os.chdir(\"../../\")\n",
    "\n",
    "# 작업 디렉토리 변경 후 다시 확인\n",
    "print(\"변경 후 작업 디렉토리:\", os.getcwd())"
   ]
  },
  {
   "cell_type": "code",
   "execution_count": 2,
   "id": "a8b7c656",
   "metadata": {},
   "outputs": [
    {
     "name": "stdout",
     "output_type": "stream",
     "text": [
      "📝 노트북 작업 시작: 00_data_schema_and_integrity\n",
      "📝 로그 디렉토리: /home/ieyeppo/notebooks/team/CHH/00_data_schema_and_integrity/20250912_014919\n",
      "✅ CHH 데이터 스키마 & 무결성 검증 노트북 로거 설정 완료!\n",
      "📁 로그 경로: /home/ieyeppo/notebooks/team/CHH/00_data_schema_and_integrity/20250912_014919/logs\n"
     ]
    }
   ],
   "source": [
    "# [추가] CHH 데이터 스키마 분석 노트북 로거 설정\n",
    "# 결과 저장을 위한 로거 초기화\n",
    "import sys\n",
    "import os\n",
    "sys.path.append('../../../')  # 프로젝트 루트로 경로 추가\n",
    "\n",
    "from src.logging.notebook_logger import create_notebook_logger\n",
    "\n",
    "# 프로젝트 루트 디렉토리 찾기\n",
    "current_dir = os.getcwd()\n",
    "if 'notebooks/team/CHH' in current_dir:\n",
    "    project_root = current_dir.replace('/notebooks/team/CHH', '')\n",
    "else:\n",
    "    project_root = os.path.abspath('../../../')\n",
    "\n",
    "# 절대 경로로 팀 노트북 로거 초기화\n",
    "base_log_path = os.path.join(project_root, \"notebooks/team\")\n",
    "logger = create_notebook_logger(\n",
    "    base_log_dir=base_log_path,\n",
    "    folder_name=\"CHH\", \n",
    "    file_name=\"00_data_schema_and_integrity\"\n",
    ")\n",
    "\n",
    "print(\"✅ CHH 데이터 스키마 & 무결성 검증 노트북 로거 설정 완료!\")\n",
    "print(f\"📁 로그 경로: {logger.log_dir}\")"
   ]
  },
  {
   "cell_type": "code",
   "execution_count": null,
   "id": "c795f0b3",
   "metadata": {},
   "outputs": [
    {
     "ename": "ModuleNotFoundError",
     "evalue": "No module named 'src.data_schema_integrity_check'",
     "output_type": "error",
     "traceback": [
      "\u001b[0;31m---------------------------------------------------------------------------\u001b[0m",
      "\u001b[0;31mModuleNotFoundError\u001b[0m                       Traceback (most recent call last)",
      "Cell \u001b[0;32mIn[3], line 3\u001b[0m\n\u001b[1;32m      1\u001b[0m \u001b[38;5;28;01mimport\u001b[39;00m\u001b[38;5;250m \u001b[39m\u001b[38;5;21;01mjson\u001b[39;00m\u001b[38;5;241m,\u001b[39m\u001b[38;5;250m \u001b[39m\u001b[38;5;21;01mos\u001b[39;00m\n\u001b[1;32m      2\u001b[0m \u001b[38;5;28;01mimport\u001b[39;00m\u001b[38;5;250m \u001b[39m\u001b[38;5;21;01mpandas\u001b[39;00m\u001b[38;5;250m \u001b[39m\u001b[38;5;28;01mas\u001b[39;00m\u001b[38;5;250m \u001b[39m\u001b[38;5;21;01mpd\u001b[39;00m\n\u001b[0;32m----> 3\u001b[0m \u001b[38;5;28;01mfrom\u001b[39;00m\u001b[38;5;250m \u001b[39m\u001b[38;5;21;01msrc\u001b[39;00m\u001b[38;5;21;01m.\u001b[39;00m\u001b[38;5;21;01mdata_schema_integrity_check\u001b[39;00m\u001b[38;5;250m \u001b[39m\u001b[38;5;28;01mimport\u001b[39;00m main \u001b[38;5;28;01mas\u001b[39;00m run_checks\n\u001b[1;32m      4\u001b[0m \u001b[38;5;28;01mfrom\u001b[39;00m\u001b[38;5;250m \u001b[39m\u001b[38;5;21;01mIPython\u001b[39;00m\u001b[38;5;21;01m.\u001b[39;00m\u001b[38;5;21;01mdisplay\u001b[39;00m\u001b[38;5;250m \u001b[39m\u001b[38;5;28;01mimport\u001b[39;00m display\n\u001b[1;32m      6\u001b[0m CFG \u001b[38;5;241m=\u001b[39m \u001b[38;5;124m'\u001b[39m\u001b[38;5;124mconfigs/data_config.json\u001b[39m\u001b[38;5;124m'\u001b[39m\n",
      "\u001b[0;31mModuleNotFoundError\u001b[0m: No module named 'src.data_schema_integrity_check'"
     ]
    }
   ],
   "source": [
    "import json, os\n",
    "import pandas as pd\n",
    "from notebooks.team.CHH.src.data_schema_integrity_check import main as run_checks\n",
    "from IPython.display import display\n",
    "\n",
    "CFG = 'configs/data_config.json'\n",
    "# 원래 셸 호출(!python -m ...) 대신 직접 함수 호출로 실행(더 안전하고 에러 핸들링 가능)\n",
    "try:\n",
    "    run_checks(CFG)\n",
    "except Exception as e:\n",
    "    print('Error running data_schema_integrity_check:', e)\n",
    "\n",
    "# 산출물 경로\n",
    "schema_path = 'data/processed/data_schema.json'\n",
    "weights_path = 'data/processed/class_weights.json'\n",
    "\n",
    "# 산출물 확인: JSON 파일이 있으면 내용 출력 또는 DataFrame으로 로드\n",
    "if os.path.exists(schema_path):\n",
    "    try:\n",
    "        with open(schema_path, 'r', encoding='utf-8') as f:\n",
    "            data = json.load(f)\n",
    "        print(json.dumps(data, ensure_ascii=False, indent=2))\n",
    "    except Exception as e:\n",
    "        print('Failed to read schema file:', e)\n",
    "else:\n",
    "    print(f'Not found: {schema_path}')\n",
    "\n",
    "if os.path.exists(weights_path):\n",
    "    try:\n",
    "        # class_weights.json은 JSON 포맷일 가능성이 높음. 먼저 시도해보고 DataFrame으로 변환\n",
    "        weights = pd.read_json(weights_path)\n",
    "        display(weights)\n",
    "    except ValueError:\n",
    "        # JSON이 dict 형태일 경우 그대로 프린트\n",
    "        try:\n",
    "            with open(weights_path, 'r', encoding='utf-8') as f:\n",
    "                w = json.load(f)\n",
    "            print(w)\n",
    "        except Exception as e:\n",
    "            print('Failed to read class_weights.json:', e)\n",
    "else:\n",
    "    print(f'Not found: {weights_path}')"
   ]
  },
  {
   "cell_type": "code",
   "execution_count": null,
   "id": "256473ad",
   "metadata": {},
   "outputs": [],
   "source": [
    "# [추가] CHH 데이터 스키마 분석 완료 요약\n",
    "print(\"\\n\" + \"=\"*60)\n",
    "print(\"🏁 CHH 데이터 스키마 & 무결성 검증 노트북 완료!\")\n",
    "print(\"=\"*60)\n",
    "\n",
    "# 로거 정보 출력\n",
    "logger.print_summary()\n",
    "\n",
    "print(\"\\n📄 분석 내용:\")\n",
    "print(\"   ✅ 데이터 스키마 검증\")\n",
    "print(\"   ✅ 데이터 무결성 체크\")\n",
    "\n",
    "print(f\"\\n💾 분석 결과는 다음 디렉토리에 저장되었습니다:\")\n",
    "print(f\"   📁 {logger.log_dir}\")\n",
    "\n",
    "print(\"\\n🎯 팀 노트북 통합 모듈화 프로젝트 - CHH 데이터 분석 시리즈\")"
   ]
  }
 ],
 "metadata": {
  "kernelspec": {
   "display_name": "cv_py3_11_9",
   "language": "python",
   "name": "python3"
  },
  "language_info": {
   "codemirror_mode": {
    "name": "ipython",
    "version": 3
   },
   "file_extension": ".py",
   "mimetype": "text/x-python",
   "name": "python",
   "nbconvert_exporter": "python",
   "pygments_lexer": "ipython3",
   "version": "3.11.9"
  }
 },
 "nbformat": 4,
 "nbformat_minor": 5
}
