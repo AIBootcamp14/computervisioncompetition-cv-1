{
 "cells": [
  {
   "cell_type": "markdown",
   "id": "f4e7dc19",
   "metadata": {},
   "source": [
    "# 설정 로드 & 실행"
   ]
  },
  {
   "cell_type": "code",
   "execution_count": 1,
   "id": "862dca74",
   "metadata": {},
   "outputs": [
    {
     "name": "stdout",
     "output_type": "stream",
     "text": [
      "현재 작업 디렉토리: /home/ieyeppo/AI_Lab/computer-vision-competition-1SEN/notebooks/EDA\n",
      "변경 후 작업 디렉토리: /home/ieyeppo/AI_Lab/computer-vision-competition-1SEN\n"
     ]
    }
   ],
   "source": [
    "import os\n",
    "\n",
    "# 현재 작업 디렉토리 확인\n",
    "print(\"현재 작업 디렉토리:\", os.getcwd())\n",
    "\n",
    "# 노트북이 위치한 디렉토리에서 프로젝트 루트 디렉토리로 이동\n",
    "# 'notebooks/EDA' 에서 'AI_Lab/computer-vision-competition-1SEN' 으로 이동\n",
    "os.chdir(\"../../\") \n",
    "\n",
    "# 작업 디렉토리 변경 후 다시 확인\n",
    "print(\"변경 후 작업 디렉토리:\", os.getcwd())"
   ]
  },
  {
   "cell_type": "code",
   "execution_count": 3,
   "id": "c795f0b3",
   "metadata": {},
   "outputs": [
    {
     "name": "stdout",
     "output_type": "stream",
     "text": [
      "{\n",
      "  \"train_rows\": 1570,\n",
      "  \"train_cols\": [\n",
      "    \"ID\",\n",
      "    \"target\"\n",
      "  ],\n",
      "  \"target_labels\": [\n",
      "    0,\n",
      "    1,\n",
      "    2,\n",
      "    3,\n",
      "    4,\n",
      "    5,\n",
      "    6,\n",
      "    7,\n",
      "    8,\n",
      "    9,\n",
      "    10,\n",
      "    11,\n",
      "    12,\n",
      "    13,\n",
      "    14,\n",
      "    15,\n",
      "    16\n",
      "  ],\n",
      "  \"submission_rows\": 3140,\n",
      "  \"submission_cols\": [\n",
      "    \"ID\",\n",
      "    \"target\"\n",
      "  ]\n",
      "}\n"
     ]
    },
    {
     "data": {
      "application/vnd.microsoft.datawrangler.viewer.v0+json": {
       "columns": [
        {
         "name": "index",
         "rawType": "object",
         "type": "string"
        },
        {
         "name": "{",
         "rawType": "float64",
         "type": "float"
        }
       ],
       "ref": "48863d62-cdf8-47a0-a2c9-f62e17caa361",
       "rows": [
        [
         "  \"0\": 1.0",
         null
        ],
        [
         "  \"1\": 2.1739130434782608",
         null
        ],
        [
         "  \"2\": 1.0",
         null
        ],
        [
         "  \"3\": 1.0",
         null
        ],
        [
         "  \"4\": 1.0",
         null
        ],
        [
         "  \"5\": 1.0",
         null
        ],
        [
         "  \"6\": 1.0",
         null
        ],
        [
         "  \"7\": 1.0",
         null
        ],
        [
         "  \"8\": 1.0",
         null
        ],
        [
         "  \"9\": 1.0",
         null
        ],
        [
         "  \"10\": 1.0",
         null
        ],
        [
         "  \"11\": 1.0",
         null
        ],
        [
         "  \"12\": 1.0",
         null
        ],
        [
         "  \"13\": 1.3513513513513513",
         null
        ],
        [
         "  \"14\": 2.0",
         null
        ],
        [
         "  \"15\": 1.0",
         null
        ],
        [
         "  \"16\": 1.0",
         null
        ],
        [
         "}",
         null
        ]
       ],
       "shape": {
        "columns": 1,
        "rows": 18
       }
      },
      "text/html": [
       "<div>\n",
       "<style scoped>\n",
       "    .dataframe tbody tr th:only-of-type {\n",
       "        vertical-align: middle;\n",
       "    }\n",
       "\n",
       "    .dataframe tbody tr th {\n",
       "        vertical-align: top;\n",
       "    }\n",
       "\n",
       "    .dataframe thead th {\n",
       "        text-align: right;\n",
       "    }\n",
       "</style>\n",
       "<table border=\"1\" class=\"dataframe\">\n",
       "  <thead>\n",
       "    <tr style=\"text-align: right;\">\n",
       "      <th></th>\n",
       "      <th>{</th>\n",
       "    </tr>\n",
       "  </thead>\n",
       "  <tbody>\n",
       "    <tr>\n",
       "      <th>\"0\": 1.0</th>\n",
       "      <td>NaN</td>\n",
       "    </tr>\n",
       "    <tr>\n",
       "      <th>\"1\": 2.1739130434782608</th>\n",
       "      <td>NaN</td>\n",
       "    </tr>\n",
       "    <tr>\n",
       "      <th>\"2\": 1.0</th>\n",
       "      <td>NaN</td>\n",
       "    </tr>\n",
       "    <tr>\n",
       "      <th>\"3\": 1.0</th>\n",
       "      <td>NaN</td>\n",
       "    </tr>\n",
       "    <tr>\n",
       "      <th>\"4\": 1.0</th>\n",
       "      <td>NaN</td>\n",
       "    </tr>\n",
       "    <tr>\n",
       "      <th>\"5\": 1.0</th>\n",
       "      <td>NaN</td>\n",
       "    </tr>\n",
       "    <tr>\n",
       "      <th>\"6\": 1.0</th>\n",
       "      <td>NaN</td>\n",
       "    </tr>\n",
       "    <tr>\n",
       "      <th>\"7\": 1.0</th>\n",
       "      <td>NaN</td>\n",
       "    </tr>\n",
       "    <tr>\n",
       "      <th>\"8\": 1.0</th>\n",
       "      <td>NaN</td>\n",
       "    </tr>\n",
       "    <tr>\n",
       "      <th>\"9\": 1.0</th>\n",
       "      <td>NaN</td>\n",
       "    </tr>\n",
       "    <tr>\n",
       "      <th>\"10\": 1.0</th>\n",
       "      <td>NaN</td>\n",
       "    </tr>\n",
       "    <tr>\n",
       "      <th>\"11\": 1.0</th>\n",
       "      <td>NaN</td>\n",
       "    </tr>\n",
       "    <tr>\n",
       "      <th>\"12\": 1.0</th>\n",
       "      <td>NaN</td>\n",
       "    </tr>\n",
       "    <tr>\n",
       "      <th>\"13\": 1.3513513513513513</th>\n",
       "      <td>NaN</td>\n",
       "    </tr>\n",
       "    <tr>\n",
       "      <th>\"14\": 2.0</th>\n",
       "      <td>NaN</td>\n",
       "    </tr>\n",
       "    <tr>\n",
       "      <th>\"15\": 1.0</th>\n",
       "      <td>NaN</td>\n",
       "    </tr>\n",
       "    <tr>\n",
       "      <th>\"16\": 1.0</th>\n",
       "      <td>NaN</td>\n",
       "    </tr>\n",
       "    <tr>\n",
       "      <th>}</th>\n",
       "      <td>NaN</td>\n",
       "    </tr>\n",
       "  </tbody>\n",
       "</table>\n",
       "</div>"
      ],
      "text/plain": [
       "                             {\n",
       "  \"0\": 1.0                 NaN\n",
       "  \"1\": 2.1739130434782608  NaN\n",
       "  \"2\": 1.0                 NaN\n",
       "  \"3\": 1.0                 NaN\n",
       "  \"4\": 1.0                 NaN\n",
       "  \"5\": 1.0                 NaN\n",
       "  \"6\": 1.0                 NaN\n",
       "  \"7\": 1.0                 NaN\n",
       "  \"8\": 1.0                 NaN\n",
       "  \"9\": 1.0                 NaN\n",
       "  \"10\": 1.0                NaN\n",
       "  \"11\": 1.0                NaN\n",
       "  \"12\": 1.0                NaN\n",
       "  \"13\": 1.3513513513513513 NaN\n",
       "  \"14\": 2.0                NaN\n",
       "  \"15\": 1.0                NaN\n",
       "  \"16\": 1.0                NaN\n",
       "}                          NaN"
      ]
     },
     "execution_count": 3,
     "metadata": {},
     "output_type": "execute_result"
    }
   ],
   "source": [
    "import json, os, pandas as pd\n",
    "from src.utils.checks import main as run_checks\n",
    "\n",
    "CFG = \"configs/data_config.json\"\n",
    "!python -m src.utils.checks --cfg {CFG}\n",
    "\n",
    "# 산출물 확인\n",
    "with open(\"data/processed/data_schema.json\",\"r\") as f:\n",
    "    print(f.read())\n",
    "pd.read_csv(\"data/processed/class_weights.json\")"
   ]
  }
 ],
 "metadata": {
  "kernelspec": {
   "display_name": "cv_py3_11_9",
   "language": "python",
   "name": "python3"
  },
  "language_info": {
   "codemirror_mode": {
    "name": "ipython",
    "version": 3
   },
   "file_extension": ".py",
   "mimetype": "text/x-python",
   "name": "python",
   "nbconvert_exporter": "python",
   "pygments_lexer": "ipython3",
   "version": "3.11.9"
  }
 },
 "nbformat": 4,
 "nbformat_minor": 5
}
