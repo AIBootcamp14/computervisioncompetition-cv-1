{
 "cells": [
  {
   "cell_type": "markdown",
   "id": "4e3a503e",
   "metadata": {},
   "source": [
    "# 10k 샘플 시뮬"
   ]
  },
  {
   "cell_type": "code",
   "execution_count": 1,
   "id": "0db83d1a",
   "metadata": {},
   "outputs": [
    {
     "name": "stdout",
     "output_type": "stream",
     "text": [
      "현재 작업 디렉토리: /home/ieyeppo/AI_Lab/computer-vision-competition-1SEN/notebooks/EDA\n",
      "변경 후 작업 디렉토리: /home/ieyeppo/AI_Lab/computer-vision-competition-1SEN\n"
     ]
    }
   ],
   "source": [
    "import os\n",
    "\n",
    "# 현재 작업 디렉토리 확인\n",
    "print(\"현재 작업 디렉토리:\", os.getcwd())\n",
    "\n",
    "# 노트북이 위치한 디렉토리에서 프로젝트 루트 디렉토리로 이동\n",
    "# 'notebooks/EDA' 에서 'AI_Lab/computer-vision-competition-1SEN' 으로 이동\n",
    "os.chdir(\"../../\") \n",
    "\n",
    "# 작업 디렉토리 변경 후 다시 확인\n",
    "print(\"변경 후 작업 디렉토리:\", os.getcwd())"
   ]
  },
  {
   "cell_type": "code",
   "execution_count": 2,
   "id": "57366e3c",
   "metadata": {},
   "outputs": [
    {
     "name": "stdout",
     "output_type": "stream",
     "text": [
      "Counter({10: 108, 11: 107, 12: 106, 14: 104, 13: 104, 3: 99, 16: 96, 6: 95, 15: 93, 0: 89, 1: 88, 4: 87, 5: 86, 8: 84, 9: 81, 2: 77, 7: 66})\n",
      "{3: 6.31, 16: 6.11, 11: 6.82, 8: 5.35, 2: 4.9, 5: 5.48, 14: 6.62, 7: 4.2, 4: 5.54, 0: 5.67, 12: 6.75, 9: 5.16, 10: 6.88, 6: 6.05, 15: 5.92, 1: 5.61, 13: 6.62}\n"
     ]
    }
   ],
   "source": [
    "import numpy as np, pandas as pd, collections        # 수치 연산, 데이터프레임 처리, 카운터\n",
    "import json                                          # JSON 파일 처리\n",
    "from torch.utils.data import DataLoader              # 데이터 배치 로더\n",
    "from src.data.samplers import make_weighted_sampler  # 클래스 불균형 보정 샘플러 생성 함수\n",
    "from src.data.dataset import DocTypeDataset          # 커스텀 데이터셋 클래스\n",
    "\n",
    "CFG = json.load(open(\"configs/data_config.json\"))    # 데이터 설정 JSON 로드\n",
    "\n",
    "# WeightedRandomSampler 생성\n",
    "sampler = make_weighted_sampler(\n",
    "    CFG[\"paths\"][\"train_csv\"],                       # 학습 CSV 경로\n",
    "    \"data/processed/class_weights.json\",             # 클래스 가중치 JSON 경로\n",
    "    CFG[\"sampler\"][\"clip_min\"],                      # 최소 클리핑 값\n",
    "    CFG[\"sampler\"][\"clip_max\"]                       # 최대 클리핑 값\n",
    ")\n",
    "\n",
    "# 학습 데이터셋 인스턴스 생성\n",
    "ds = DocTypeDataset(\n",
    "    CFG[\"paths\"][\"train_csv\"],                       # 학습 CSV 경로\n",
    "    CFG[\"paths\"][\"train_root\"],                      # 학습 이미지 루트\n",
    "    mode=\"train\"                                     # 모드(train)\n",
    ")\n",
    "\n",
    "# DataLoader 인스턴스 생성 (샘플러 적용)\n",
    "dl = DataLoader(\n",
    "    ds,                                              # 데이터셋 객체\n",
    "    batch_size=1,                                    # 배치 크기(1개 단위)\n",
    "    sampler=sampler                                  # WeightedRandomSampler 적용\n",
    ")\n",
    "\n",
    "cnt = collections.Counter()                          # 클래스 카운터 초기화\n",
    "\n",
    "# 10,000번 샘플링 반복\n",
    "for i, (x, y) in zip(range(10_000), dl):\n",
    "    cnt[int(y)] += 1                                 # 샘플 라벨 카운트\n",
    "\n",
    "print(cnt)                                           # 클래스별 샘플링 횟수 출력\n",
    "\n",
    "# 편차 계산\n",
    "total = sum(cnt.values())                            # 총 샘플링 수\n",
    "pct = {k: v/total*100 for k,v in cnt.items()}        # 클래스별 비율 계산\n",
    "print({k: round(v,2) for k,v in pct.items()})        # 소수점 둘째 자리까지 반올림해 출력"
   ]
  }
 ],
 "metadata": {
  "kernelspec": {
   "display_name": "cv_py3_11_9",
   "language": "python",
   "name": "python3"
  },
  "language_info": {
   "codemirror_mode": {
    "name": "ipython",
    "version": 3
   },
   "file_extension": ".py",
   "mimetype": "text/x-python",
   "name": "python",
   "nbconvert_exporter": "python",
   "pygments_lexer": "ipython3",
   "version": "3.11.9"
  }
 },
 "nbformat": 4,
 "nbformat_minor": 5
}
