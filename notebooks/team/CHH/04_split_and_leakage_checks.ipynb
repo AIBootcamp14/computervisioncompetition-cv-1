{
 "cells": [
  {
   "cell_type": "markdown",
   "id": "5adf0ced",
   "metadata": {},
   "source": [
    "# Folds 생성 & 분포 확인"
   ]
  },
  {
   "cell_type": "code",
   "execution_count": 1,
   "id": "4006cd19",
   "metadata": {},
   "outputs": [
    {
     "name": "stdout",
     "output_type": "stream",
     "text": [
      "현재 작업 디렉토리: /home/ieyeppo/AI_Lab/computer-vision-competition-1SEN/notebooks/EDA\n",
      "변경 후 작업 디렉토리: /home/ieyeppo/AI_Lab/computer-vision-competition-1SEN\n"
     ]
    }
   ],
   "source": [
    "import os\n",
    "\n",
    "# 현재 작업 디렉토리 확인\n",
    "print(\"현재 작업 디렉토리:\", os.getcwd())\n",
    "\n",
    "# 노트북이 위치한 디렉토리에서 프로젝트 루트 디렉토리로 이동\n",
    "# 'notebooks/EDA' 에서 'AI_Lab/computer-vision-competition-1SEN' 으로 이동\n",
    "os.chdir(\"../../\") \n",
    "\n",
    "# 작업 디렉토리 변경 후 다시 확인\n",
    "print(\"변경 후 작업 디렉토리:\", os.getcwd())"
   ]
  },
  {
   "cell_type": "code",
   "execution_count": 2,
   "id": "688dd1b3",
   "metadata": {},
   "outputs": [
    {
     "name": "stdout",
     "output_type": "stream",
     "text": [
      "target     0      1      2      3      4      5      6      7      8      9   \\\n",
      "fold                                                                           \n",
      "0       0.064  0.029  0.064  0.064  0.064  0.064  0.064  0.064  0.064  0.064   \n",
      "1       0.064  0.029  0.064  0.064  0.064  0.064  0.064  0.064  0.064  0.064   \n",
      "2       0.064  0.029  0.064  0.064  0.064  0.064  0.064  0.064  0.064  0.064   \n",
      "3       0.064  0.029  0.064  0.064  0.064  0.064  0.064  0.064  0.064  0.064   \n",
      "4       0.064  0.032  0.064  0.064  0.064  0.064  0.064  0.064  0.064  0.064   \n",
      "\n",
      "target     10     11     12     13     14     15     16  \n",
      "fold                                                     \n",
      "0       0.064  0.064  0.064  0.048  0.032  0.064  0.064  \n",
      "1       0.064  0.064  0.064  0.048  0.032  0.064  0.064  \n",
      "2       0.064  0.064  0.064  0.048  0.032  0.064  0.064  \n",
      "3       0.064  0.064  0.064  0.048  0.032  0.064  0.064  \n",
      "4       0.064  0.064  0.064  0.045  0.032  0.064  0.064  \n"
     ]
    }
   ],
   "source": [
    "import pandas as pd                                # CSV 로드 및 데이터프레임 처리\n",
    "import json                                        # JSON 파일 처리\n",
    "from src.utils.splits import make_stratified_folds # 계층적 K-Fold 분할 함수\n",
    "\n",
    "CFG = json.load(open(\"configs/data_config.json\"))  # 데이터 설정 JSON 로드\n",
    "out_csv = \"data/processed/folds_k5_seed42.csv\"     # 분할 결과 저장 경로\n",
    "\n",
    "# Stratified K-Fold 분할 실행 (5폴드, 시드 42)\n",
    "df = make_stratified_folds(\n",
    "    CFG[\"paths\"][\"train_csv\"],                     # 학습 CSV 경로\n",
    "    out_csv,                                       # 출력 CSV 경로\n",
    "    5,                                             # K-Fold 수\n",
    "    42                                             # 랜덤 시드\n",
    ")\n",
    "\n",
    "# 각 fold별 target 비율 확인 (정규화, 반올림 3자리)\n",
    "print(\n",
    "    df.groupby(\"fold\")[\"target\"]                   # fold 기준 그룹화\n",
    "      .value_counts(normalize=True)                # target 분포 비율 계산\n",
    "      .unstack()                                   # 테이블 형태로 변환\n",
    "      .round(3)                                    # 소수점 3자리까지 반올림\n",
    ")"
   ]
  }
 ],
 "metadata": {
  "kernelspec": {
   "display_name": "cv_py3_11_9",
   "language": "python",
   "name": "python3"
  },
  "language_info": {
   "codemirror_mode": {
    "name": "ipython",
    "version": 3
   },
   "file_extension": ".py",
   "mimetype": "text/x-python",
   "name": "python",
   "nbconvert_exporter": "python",
   "pygments_lexer": "ipython3",
   "version": "3.11.9"
  }
 },
 "nbformat": 4,
 "nbformat_minor": 5
}
