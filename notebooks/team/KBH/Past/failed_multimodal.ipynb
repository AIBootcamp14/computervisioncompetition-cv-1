{
 "cells": [
  {
   "attachments": {},
   "cell_type": "markdown",
   "metadata": {
    "id": "zkH9T_86lDSS"
   },
   "source": [
    "## 1. Prepare Environments\n",
    "\n",
    "* 데이터 로드를 위한 구글 드라이브를 마운트합니다.\n",
    "* 필요한 라이브러리를 설치합니다."
   ]
  },
  {
   "cell_type": "code",
   "execution_count": 1,
   "metadata": {
    "colab": {
     "base_uri": "https://localhost:8080/"
    },
    "executionInfo": {
     "elapsed": 8489,
     "status": "ok",
     "timestamp": 1700314558888,
     "user": {
      "displayName": "Ynot(송원호)",
      "userId": "16271863862696372773"
     },
     "user_tz": -540
    },
    "id": "NC8V-D393wY4",
    "outputId": "e9927325-26c4-4b89-9c51-c1d6541388d6"
   },
   "outputs": [],
   "source": [
    "# # 필요한 라이브러리를 설치합니다.\n",
    "# !pip install timm\n",
    "# !pip install matplotlib\n",
    "# !pip install seaborn\n",
    "# !pip install optuna\n",
    "# !pip install paddleocr\n",
    "# !pip install transformers\n",
    "# !pip install albumentations\n",
    "# !pip install torch\n",
    "# !pip install paddlepaddle"
   ]
  },
  {
   "attachments": {},
   "cell_type": "markdown",
   "metadata": {
    "id": "PXa_FPM73R9f"
   },
   "source": [
    "## 2. Import Library & Define Functions\n",
    "* 학습 및 추론에 필요한 라이브러리를 로드합니다.\n",
    "* 학습 및 추론에 필요한 함수와 클래스를 정의합니다."
   ]
  },
  {
   "cell_type": "code",
   "execution_count": 2,
   "metadata": {
    "executionInfo": {
     "elapsed": 9396,
     "status": "ok",
     "timestamp": 1700314592802,
     "user": {
      "displayName": "Ynot(송원호)",
      "userId": "16271863862696372773"
     },
     "user_tz": -540
    },
    "id": "3BaoIkv5Xwa0"
   },
   "outputs": [
    {
     "name": "stderr",
     "output_type": "stream",
     "text": [
      "/opt/conda/lib/python3.10/site-packages/torchvision/io/image.py:13: UserWarning: Failed to load image Python extension: '/opt/conda/lib/python3.10/site-packages/torchvision/image.so: undefined symbol: _ZN3c1017RegisterOperatorsD1Ev'If you don't plan on using image functionality from `torchvision.io`, you can ignore this warning. Otherwise, there might be something wrong with your environment. Did you have `libjpeg` or `libpng` installed before building `torchvision` from source?\n",
      "  warn(\n"
     ]
    }
   ],
   "source": [
    "import os\n",
    "import time\n",
    "import random\n",
    "import copy\n",
    "\n",
    "import optuna, math\n",
    "import timm\n",
    "import torch\n",
    "import albumentations as A\n",
    "import pandas as pd\n",
    "import numpy as np\n",
    "import torch.nn as nn\n",
    "import torch.nn.functional as F\n",
    "from albumentations.pytorch import ToTensorV2\n",
    "from torch.optim import Adam\n",
    "from torchvision import transforms\n",
    "from torch.utils.data import Dataset, DataLoader\n",
    "from torch.optim.lr_scheduler import CosineAnnealingLR\n",
    "from torch.cuda.amp import autocast, GradScaler  # Mixed Precision용\n",
    "\n",
    "from PIL import Image\n",
    "from tqdm import tqdm\n",
    "from sklearn.metrics import accuracy_score, f1_score, confusion_matrix, classification_report\n",
    "from sklearn.model_selection import train_test_split, StratifiedKFold\n",
    "\n",
    "from collections import Counter\n",
    "import warnings\n",
    "warnings.filterwarnings('ignore')\n",
    "\n",
    "import matplotlib.pyplot as plt\n",
    "import wandb\n",
    "from datetime import datetime\n",
    "\n",
    "# 한글 폰트 설정 (시각화용)\n",
    "plt.rcParams['font.family'] = ['DejaVu Sans']\n",
    "\n",
    "import cv2\n",
    "try:\n",
    "    import paddleocr\n",
    "    from transformers import AutoTokenizer, AutoModel\n",
    "    OCR_AVAILABLE = True\n",
    "except ImportError:\n",
    "    OCR_AVAILABLE = False\n",
    "    print(\"OCR libraries not installed. Install with: pip install paddleocr transformers\")"
   ]
  },
  {
   "cell_type": "code",
   "execution_count": 3,
   "metadata": {},
   "outputs": [],
   "source": [
    "# 시드를 고정합니다.\n",
    "SEED = 42\n",
    "os.environ['PYTHONHASHSEED'] = str(SEED)\n",
    "random.seed(SEED)\n",
    "np.random.seed(SEED)\n",
    "torch.manual_seed(SEED)\n",
    "torch.cuda.manual_seed(SEED)\n",
    "torch.cuda.manual_seed_all(SEED)\n",
    "torch.backends.cudnn.benchmark = True"
   ]
  },
  {
   "cell_type": "code",
   "execution_count": 4,
   "metadata": {},
   "outputs": [],
   "source": [
    "# OCR 텍스트 추출 및 임베딩 클래스\n",
    "class OCRTextExtractor:\n",
    "    def __init__(self, lang='en'):\n",
    "        \"\"\"OCR 텍스트 추출기 - 문서 상단 20% 영역 집중\"\"\"\n",
    "        if not OCR_AVAILABLE:\n",
    "            self.available = False\n",
    "            print(\"OCR not available - will use image-only mode\")\n",
    "            return\n",
    "        \n",
    "        try:\n",
    "            self.ocr = paddleocr.PaddleOCR(use_angle_cls=True, lang=lang)\n",
    "            self.tokenizer = AutoTokenizer.from_pretrained('klue/roberta-base')\n",
    "            self.text_model = AutoModel.from_pretrained('klue/roberta-base')\n",
    "            self.text_model.eval()\n",
    "            self.available = True\n",
    "            print(\"OCR system initialized successfully\")\n",
    "        except Exception as e:\n",
    "            self.available = False\n",
    "            print(f\"OCR initialization failed: {e}\")\n",
    "    \n",
    "    def extract_text_from_image(self, image_path):\n",
    "        \"\"\"이미지 상단 20%에서 텍스트 추출\"\"\"\n",
    "        if not self.available:\n",
    "            return \"\"\n",
    "        \n",
    "        try:\n",
    "            img = cv2.imread(image_path)\n",
    "            if img is None:\n",
    "                return \"\"\n",
    "            \n",
    "            # 상단 20% 영역만 추출 (제목/헤더 정보)\n",
    "            height = img.shape[0]\n",
    "            top_region = img[:int(height * 0.2), :]\n",
    "            \n",
    "            result = self.ocr.ocr(top_region, cls=True)\n",
    "            if result is None or len(result) == 0:\n",
    "                return \"\"\n",
    "            \n",
    "            text_lines = []\n",
    "            for line in result[0] if result[0] else []:\n",
    "                if len(line) >= 2:\n",
    "                    text_lines.append(line[1][0])\n",
    "            \n",
    "            return \" \".join(text_lines)\n",
    "        except:\n",
    "            return \"\"\n",
    "    \n",
    "    def get_text_embedding(self, text, max_length=64):\n",
    "        \"\"\"텍스트를 RoBERTa 임베딩으로 변환\"\"\"\n",
    "        if not self.available or not text.strip():\n",
    "            return torch.zeros(768)\n",
    "        \n",
    "        try:\n",
    "            inputs = self.tokenizer(\n",
    "                text, \n",
    "                truncation=True, \n",
    "                padding=True, \n",
    "                max_length=max_length,\n",
    "                return_tensors='pt'\n",
    "            )\n",
    "            \n",
    "            with torch.no_grad():\n",
    "                outputs = self.text_model(**inputs)\n",
    "                text_embedding = outputs.last_hidden_state[:, 0, :].squeeze()\n",
    "            \n",
    "            return text_embedding\n",
    "        except:\n",
    "            return torch.zeros(768)\n",
    "\n",
    "# 멀티모달 모델 정의\n",
    "class MultiModalModel(nn.Module):\n",
    "    def __init__(self, image_model_name, num_classes=17, text_dim=768):\n",
    "        \"\"\"이미지 + 텍스트 Late Fusion 모델\"\"\"\n",
    "        super().__init__()\n",
    "        \n",
    "        # 이미지 백본 (기존 ConvNeXt 유지)\n",
    "        self.image_model = timm.create_model(image_model_name, pretrained=True, num_classes=0)\n",
    "        image_features = self.image_model.num_features\n",
    "        \n",
    "        # 텍스트 프로젝션\n",
    "        self.text_projection = nn.Sequential(\n",
    "            nn.Linear(text_dim, 256),\n",
    "            nn.ReLU(),\n",
    "            nn.Dropout(0.1),\n",
    "            nn.Linear(256, 128)\n",
    "        )\n",
    "        \n",
    "        # Late Fusion\n",
    "        self.fusion = nn.Sequential(\n",
    "            nn.Linear(image_features + 128, 512),\n",
    "            nn.ReLU(),\n",
    "            nn.Dropout(0.2),\n",
    "            nn.Linear(512, 256),\n",
    "            nn.ReLU(),\n",
    "            nn.Dropout(0.1),\n",
    "            nn.Linear(256, num_classes)\n",
    "        )\n",
    "    \n",
    "    def forward(self, images, text_embeddings=None):\n",
    "        # 이미지 특징\n",
    "        image_features = self.image_model(images)\n",
    "        \n",
    "        if text_embeddings is not None:\n",
    "            # 텍스트 특징 변환\n",
    "            text_features = self.text_projection(text_embeddings)\n",
    "            # Late fusion\n",
    "            combined_features = torch.cat([image_features, text_features], dim=1)\n",
    "        else:\n",
    "            # 텍스트 없으면 제로 패딩\n",
    "            batch_size = image_features.size(0)\n",
    "            zero_text = torch.zeros(batch_size, 128, device=images.device)\n",
    "            combined_features = torch.cat([image_features, zero_text], dim=1)\n",
    "        \n",
    "        return self.fusion(combined_features)"
   ]
  },
  {
   "cell_type": "code",
   "execution_count": 5,
   "metadata": {
    "executionInfo": {
     "elapsed": 241,
     "status": "ok",
     "timestamp": 1700314772722,
     "user": {
      "displayName": "Ynot(송원호)",
      "userId": "16271863862696372773"
     },
     "user_tz": -540
    },
    "id": "Hyl8oAy6TZAu"
   },
   "outputs": [],
   "source": [
    "def mixup_data(x, y, alpha=1.0):\n",
    "    if alpha > 0:\n",
    "        lam = np.random.beta(alpha, alpha)\n",
    "    else:\n",
    "        lam = 1\n",
    "    batch_size = x.size()[0]\n",
    "    index = torch.randperm(batch_size).cuda()\n",
    "    mixed_x = lam * x + (1 - lam) * x[index, :]\n",
    "    y_a, y_b = y, y[index]\n",
    "    return mixed_x, y_a, y_b, lam\n",
    "\n",
    "# 데이터셋 클래스를 정의합니다. (Hard Augmentation 포함)\n",
    "class ImageDataset(Dataset):\n",
    "    def __init__(self, data, path, ocr_extractor=None, epoch=0, total_epochs=10, is_train=True):\n",
    "        if isinstance(data, str):\n",
    "            self.df = pd.read_csv(data).values\n",
    "        else:\n",
    "            self.df = data.values\n",
    "        self.path = path\n",
    "        self.ocr_extractor = ocr_extractor\n",
    "        self.epoch = epoch\n",
    "        self.total_epochs = total_epochs\n",
    "        self.is_train = is_train\n",
    "        \n",
    "        # 적응형 Hard augmentation 확률\n",
    "        self.p_hard = 0.2 + 0.3 * (epoch / total_epochs) if is_train else 0\n",
    "        \n",
    "        # Normal augmentation (기존과 동일)\n",
    "        self.normal_aug = A.Compose([\n",
    "            A.LongestMaxSize(max_size=img_size),\n",
    "            A.PadIfNeeded(min_height=img_size, min_width=img_size, border_mode=0, value=0),\n",
    "            A.OneOf([\n",
    "                A.Rotate(limit=[90,90], p=1.0),\n",
    "                A.Rotate(limit=[180,180], p=1.0),\n",
    "                A.Rotate(limit=[270,270], p=1.0),\n",
    "            ], p=0.6),\n",
    "            A.RandomBrightnessContrast(brightness_limit=0.3, contrast_limit=0.3, p=0.8),\n",
    "            A.GaussNoise(var_limit=(30.0, 100.0), p=0.7),\n",
    "            A.HorizontalFlip(p=0.5),\n",
    "            A.Normalize(mean=[0.485, 0.456, 0.406], std=[0.229, 0.224, 0.225]),\n",
    "            ToTensorV2(),\n",
    "        ])\n",
    "        \n",
    "        # Hard augmentation (기존과 동일)\n",
    "        self.hard_aug = A.Compose([\n",
    "            A.LongestMaxSize(max_size=img_size),\n",
    "            A.PadIfNeeded(min_height=img_size, min_width=img_size, border_mode=0, value=0),\n",
    "            A.OneOf([\n",
    "                A.Rotate(limit=[90,90], p=1.0),\n",
    "                A.Rotate(limit=[180,180], p=1.0),\n",
    "                A.Rotate(limit=[270,270], p=1.0),\n",
    "                A.Rotate(limit=[-15,15], p=1.0),\n",
    "            ], p=0.8),\n",
    "            A.OneOf([\n",
    "                A.MotionBlur(blur_limit=15, p=1.0),\n",
    "                A.GaussianBlur(blur_limit=15, p=1.0),\n",
    "            ], p=0.95),\n",
    "            A.RandomBrightnessContrast(brightness_limit=0.5, contrast_limit=0.5, p=0.9),\n",
    "            A.GaussNoise(var_limit=(50.0, 150.0), p=0.8),\n",
    "            A.JpegCompression(quality_lower=70, quality_upper=100, p=0.5),\n",
    "            A.HorizontalFlip(p=0.5),\n",
    "            A.Normalize(mean=[0.485, 0.456, 0.406], std=[0.229, 0.224, 0.225]),\n",
    "            ToTensorV2(),\n",
    "        ])\n",
    "    \n",
    "    def set_epoch(self, epoch):\n",
    "        \"\"\"에포크별 Hard augmentation 확률 업데이트\"\"\"\n",
    "        self.epoch = epoch\n",
    "        self.p_hard = 0.2 + 0.3 * (epoch / self.total_epochs) if self.is_train else 0\n",
    "\n",
    "    def __len__(self):\n",
    "        return len(self.df)\n",
    "\n",
    "    def __getitem__(self, idx):\n",
    "        name, target = self.df[idx]\n",
    "        img = np.array(Image.open(os.path.join(self.path, name)).convert('RGB'))\n",
    "        \n",
    "        # 이미지 augmentation\n",
    "        if self.is_train and random.random() < self.p_hard:\n",
    "            img = self.hard_aug(image=img)['image']\n",
    "        else:\n",
    "            img = self.normal_aug(image=img)['image']\n",
    "        \n",
    "        # 텍스트 추출 및 임베딩\n",
    "        text_embedding = torch.zeros(768)  # 기본값으로 영벡터 설정\n",
    "        if self.ocr_extractor is not None and self.ocr_extractor.available:\n",
    "            try:\n",
    "                img_path = os.path.join(self.path, name)  # img_path 정의\n",
    "                text = self.ocr_extractor.extract_text_from_image(img_path)\n",
    "                if text.strip():  # 텍스트가 있을 때만 임베딩 생성\n",
    "                    text_embedding = self.ocr_extractor.get_text_embedding(text)\n",
    "            except Exception as e:\n",
    "                # OCR 실패 시 영벡터 유지\n",
    "                pass\n",
    "    \n",
    "        return img, target, text_embedding  # 항상 3개 요소 반환"
   ]
  },
  {
   "cell_type": "code",
   "execution_count": 6,
   "metadata": {
    "executionInfo": {
     "elapsed": 255,
     "status": "ok",
     "timestamp": 1700315066028,
     "user": {
      "displayName": "Ynot(송원호)",
      "userId": "16271863862696372773"
     },
     "user_tz": -540
    },
    "id": "kTECBJfVTbdl"
   },
   "outputs": [],
   "source": [
    "# one epoch 학습을 위한 함수입니다.\n",
    "def train_one_epoch(loader, model, optimizer, loss_fn, device):\n",
    "    scaler = GradScaler()  # Mixed Precision용\n",
    "    model.train()\n",
    "    train_loss = 0\n",
    "    preds_list = []\n",
    "    targets_list = []\n",
    "\n",
    "    pbar = tqdm(loader)\n",
    "    for batch_data in pbar:\n",
    "        # 멀티모달 데이터 처리\n",
    "        if len(batch_data) == 3:  # 텍스트 포함\n",
    "            image, targets, text_embeddings = batch_data\n",
    "            text_embeddings = text_embeddings.to(device) if text_embeddings is not None else None\n",
    "        else:  # 이미지만\n",
    "            image, targets = batch_data\n",
    "            text_embeddings = None\n",
    "            \n",
    "        image = image.to(device)\n",
    "        targets = targets.to(device)\n",
    "        \n",
    "        # Mixup 적용 (30% 확률)\n",
    "        if random.random() < 0.3:\n",
    "            mixed_x, y_a, y_b, lam = mixup_data(image, targets, alpha=1.0)\n",
    "            with autocast(): \n",
    "                preds = model(mixed_x, text_embeddings)\n",
    "            loss = lam * loss_fn(preds, y_a) + (1 - lam) * loss_fn(preds, y_b)\n",
    "        else:\n",
    "            with autocast(): \n",
    "                preds = model(image, text_embeddings)\n",
    "            loss = loss_fn(preds, targets)\n",
    "\n",
    "        model.zero_grad(set_to_none=True)\n",
    "\n",
    "        scaler.scale(loss).backward()  # Mixed Precision용\n",
    "        torch.nn.utils.clip_grad_norm_(model.parameters(), 1.0)\n",
    "        scaler.step(optimizer); scaler.update()  # Mixed Precision용\n",
    "\n",
    "        train_loss += loss.item()\n",
    "        preds_list.extend(preds.argmax(dim=1).detach().cpu().numpy())\n",
    "        targets_list.extend(targets.detach().cpu().numpy())\n",
    "\n",
    "        pbar.set_description(f\"Loss: {loss.item():.4f}\")\n",
    "\n",
    "    train_loss /= len(loader)\n",
    "    train_acc = accuracy_score(targets_list, preds_list)\n",
    "    train_f1 = f1_score(targets_list, preds_list, average='macro')\n",
    "\n",
    "    ret = {\n",
    "        \"train_loss\": train_loss,\n",
    "        \"train_acc\": train_acc,\n",
    "        \"train_f1\": train_f1,\n",
    "    }\n",
    "\n",
    "    return ret"
   ]
  },
  {
   "cell_type": "code",
   "execution_count": 7,
   "metadata": {},
   "outputs": [],
   "source": [
    "# validation을 위한 함수 추가\n",
    "def validate_one_epoch(loader, model, loss_fn, device):\n",
    "    \"\"\"\n",
    "    한 에폭 검증을 수행하는 함수\n",
    "    - model.eval()로 모델을 평가 모드로 전환\n",
    "    - torch.no_grad()로 gradient 계산 비활성화하여 메모리 절약\n",
    "    - 검증 데이터에 대한 loss, accuracy, f1 score 계산\n",
    "    \"\"\"\n",
    "    model.eval()  # 모델을 평가 모드로 전환 (dropout, batchnorm 비활성화)\n",
    "    val_loss = 0\n",
    "    preds_list = []\n",
    "    targets_list = []\n",
    "    \n",
    "    with torch.no_grad():   # gradient 계산 비활성화 (메모리 절약)\n",
    "        pbar = tqdm(loader, desc=\"Validating\")\n",
    "        for batch_data in pbar:\n",
    "            # 멀티모달 데이터 처리\n",
    "            if len(batch_data) == 3:  # 텍스트 포함\n",
    "                image, targets, text_embeddings = batch_data\n",
    "                text_embeddings = text_embeddings.to(device) if text_embeddings is not None else None\n",
    "            else:  # 이미지만\n",
    "                image, targets = batch_data\n",
    "                text_embeddings = None\n",
    "                \n",
    "            image = image.to(device)\n",
    "            targets = targets.to(device)\n",
    "            \n",
    "            preds = model(image, text_embeddings)\n",
    "            loss = loss_fn(preds, targets)  # 손실 계산\n",
    "            \n",
    "            val_loss += loss.item()\n",
    "            preds_list.extend(preds.argmax(dim=1).detach().cpu().numpy())  # 예측 클래스 저장\n",
    "            targets_list.extend(targets.detach().cpu().numpy())  # 실제 클래스 저장\n",
    "            \n",
    "            pbar.set_description(f\"Val Loss: {loss.item():.4f}\")\n",
    "    \n",
    "    val_loss /= len(loader)  # 평균 손실 계산\n",
    "    val_acc = accuracy_score(targets_list, preds_list)  # 정확도 계산\n",
    "    val_f1 = f1_score(targets_list, preds_list, average='macro')  # Macro F1 계산 (대회 평가지표)\n",
    "    \n",
    "    ret = {\n",
    "        \"val_loss\": val_loss,\n",
    "        \"val_acc\": val_acc,\n",
    "        \"val_f1\": val_f1,\n",
    "    }\n",
    "    \n",
    "    return ret"
   ]
  },
  {
   "attachments": {},
   "cell_type": "markdown",
   "metadata": {
    "id": "Wjom43UvoXcx"
   },
   "source": [
    "## 3. Hyper-parameters\n",
    "* 학습 및 추론에 필요한 하이퍼파라미터들을 정의합니다."
   ]
  },
  {
   "cell_type": "code",
   "execution_count": 8,
   "metadata": {
    "executionInfo": {
     "elapsed": 436,
     "status": "ok",
     "timestamp": 1700315112439,
     "user": {
      "displayName": "Ynot(송원호)",
      "userId": "16271863862696372773"
     },
     "user_tz": -540
    },
    "id": "KByfAeRmXwYk"
   },
   "outputs": [],
   "source": [
    "# device\n",
    "device = torch.device('cuda' if torch.cuda.is_available() else 'cpu')\n",
    "\n",
    "# data config\n",
    "data_path = '../data/'\n",
    "\n",
    "# model config\n",
    "# model_name = 'tf_efficientnetv2_b3' # 'resnet50' 'efficientnet-b0', ...\n",
    "# model_name = 'swin_base_patch4_window12_384_in22k'\n",
    "model_name = 'convnext_base_384_in22ft1k'\n",
    "\n",
    "# training config\n",
    "img_size = 384\n",
    "LR = 2e-4\n",
    "EPOCHS = 50\n",
    "BATCH_SIZE = 32\n",
    "num_workers = 8\n",
    "EMA = True  # Exponential Moving Average 사용 여부"
   ]
  },
  {
   "cell_type": "code",
   "execution_count": 9,
   "metadata": {},
   "outputs": [],
   "source": [
    "# Optuna를 사용한 하이퍼파라미터 튜닝 (선택적 실행)\n",
    "USE_OPTUNA = False  # True로 바꾸면 튜닝 실행\n",
    "\n",
    "if USE_OPTUNA:\n",
    "    def objective(trial):\n",
    "        lr = trial.suggest_loguniform('lr', 1e-5, 1e-2)\n",
    "        batch_size = trial.suggest_categorical('batch_size', [32, 64, 128])\n",
    "        \n",
    "        # 간단한 3-fold CV로 빠른 평가\n",
    "        skf_simple = StratifiedKFold(n_splits=3, shuffle=True, random_state=42)\n",
    "        fold_scores = []\n",
    "        \n",
    "        for fold, (train_idx, val_idx) in enumerate(skf_simple.split(train_df, train_df['target'])):\n",
    "            # 모델 생성\n",
    "            model = timm.create_model(model_name, pretrained=True, num_classes=17).to(device)\n",
    "            optimizer = Adam(model.parameters(), lr=lr)\n",
    "            loss_fn = nn.CrossEntropyLoss()\n",
    "            \n",
    "            # 간단한 2 epoch 학습\n",
    "            for epoch in range(2):\n",
    "                train_ret = train_one_epoch(trn_loader, model, optimizer, loss_fn, device)\n",
    "            \n",
    "            val_ret = validate_one_epoch(val_loader, model, loss_fn, device)\n",
    "            fold_scores.append(val_ret['val_f1'])\n",
    "        \n",
    "        return np.mean(fold_scores)\n",
    "    \n",
    "    study = optuna.create_study(direction='maximize')\n",
    "    study.optimize(objective, n_trials=10)\n",
    "    \n",
    "    # 최적 파라미터 적용\n",
    "    LR = study.best_params['lr']\n",
    "    BATCH_SIZE = study.best_params['batch_size']\n",
    "    print(f\"Best params: {study.best_params}\")"
   ]
  },
  {
   "attachments": {},
   "cell_type": "markdown",
   "metadata": {
    "id": "amum-FlIojc6"
   },
   "source": [
    "## 4. Load Data\n",
    "* 학습, 테스트 데이터셋과 로더를 정의합니다."
   ]
  },
  {
   "cell_type": "code",
   "execution_count": 10,
   "metadata": {},
   "outputs": [],
   "source": [
    "# Optuna 튜닝 (선택적 실행)\n",
    "USE_OPTUNA = False  # True로 바꾸면 튜닝 실행\n",
    "\n",
    "if USE_OPTUNA:\n",
    "    # 위의 objective 함수와 study 코드\n",
    "    pass"
   ]
  },
  {
   "cell_type": "markdown",
   "metadata": {},
   "source": [
    "# K-Fold 적용"
   ]
  },
  {
   "cell_type": "code",
   "execution_count": 11,
   "metadata": {},
   "outputs": [
    {
     "name": "stdout",
     "output_type": "stream",
     "text": [
      "Initializing OCR system...\n"
     ]
    },
    {
     "name": "stderr",
     "output_type": "stream",
     "text": [
      "\u001b[32mCreating model: ('PP-LCNet_x1_0_doc_ori', None)\u001b[0m\n",
      "\u001b[32mModel files already exist. Using cached files. To redownload, please delete the directory manually: `/data/ephemeral/home/.paddlex/official_models/PP-LCNet_x1_0_doc_ori`.\u001b[0m\n",
      "\u001b[32mCreating model: ('UVDoc', None)\u001b[0m\n",
      "\u001b[32mModel files already exist. Using cached files. To redownload, please delete the directory manually: `/data/ephemeral/home/.paddlex/official_models/UVDoc`.\u001b[0m\n",
      "\u001b[32mCreating model: ('PP-LCNet_x1_0_textline_ori', None)\u001b[0m\n",
      "\u001b[32mModel files already exist. Using cached files. To redownload, please delete the directory manually: `/data/ephemeral/home/.paddlex/official_models/PP-LCNet_x1_0_textline_ori`.\u001b[0m\n",
      "\u001b[32mCreating model: ('PP-OCRv5_server_det', None)\u001b[0m\n",
      "\u001b[32mModel files already exist. Using cached files. To redownload, please delete the directory manually: `/data/ephemeral/home/.paddlex/official_models/PP-OCRv5_server_det`.\u001b[0m\n",
      "\u001b[32mCreating model: ('en_PP-OCRv5_mobile_rec', None)\u001b[0m\n",
      "\u001b[32mModel files already exist. Using cached files. To redownload, please delete the directory manually: `/data/ephemeral/home/.paddlex/official_models/en_PP-OCRv5_mobile_rec`.\u001b[0m\n",
      "Some weights of RobertaModel were not initialized from the model checkpoint at klue/roberta-base and are newly initialized: ['pooler.dense.bias', 'pooler.dense.weight']\n",
      "You should probably TRAIN this model on a down-stream task to be able to use it for predictions and inference.\n"
     ]
    },
    {
     "name": "stdout",
     "output_type": "stream",
     "text": [
      "OCR system initialized successfully\n",
      "Starting 5-Fold Cross Validation...\n",
      "\n",
      "==================================================\n",
      "FOLD 1/5\n",
      "==================================================\n",
      "Train samples: 1256, Validation samples: 314\n"
     ]
    },
    {
     "name": "stderr",
     "output_type": "stream",
     "text": [
      "Loss: 2.1641: 100%|██████████| 40/40 [00:32<00:00,  1.22it/s]\n",
      "Val Loss: 1.6750: 100%|██████████| 10/10 [00:08<00:00,  1.16it/s]\n"
     ]
    },
    {
     "name": "stdout",
     "output_type": "stream",
     "text": [
      "Epoch  1 | Train Loss: 2.4650 | Train F1: 0.3087 | Val Loss: 1.7187 | Val F1: 0.5207\n"
     ]
    },
    {
     "name": "stderr",
     "output_type": "stream",
     "text": [
      "Loss: 2.0723: 100%|██████████| 40/40 [00:15<00:00,  2.63it/s]\n",
      "Val Loss: 1.1325: 100%|██████████| 10/10 [00:05<00:00,  1.99it/s]\n"
     ]
    },
    {
     "name": "stdout",
     "output_type": "stream",
     "text": [
      "Epoch  2 | Train Loss: 1.7216 | Train F1: 0.4314 | Val Loss: 1.1424 | Val F1: 0.6161\n"
     ]
    },
    {
     "name": "stderr",
     "output_type": "stream",
     "text": [
      "Loss: 1.0352: 100%|██████████| 40/40 [00:15<00:00,  2.61it/s]\n",
      "Val Loss: 0.8736: 100%|██████████| 10/10 [00:04<00:00,  2.12it/s]\n"
     ]
    },
    {
     "name": "stdout",
     "output_type": "stream",
     "text": [
      "Epoch  3 | Train Loss: 1.3363 | Train F1: 0.5585 | Val Loss: 0.8884 | Val F1: 0.7386\n"
     ]
    },
    {
     "name": "stderr",
     "output_type": "stream",
     "text": [
      "Loss: 1.3203: 100%|██████████| 40/40 [00:15<00:00,  2.55it/s]\n",
      "Val Loss: 0.8178: 100%|██████████| 10/10 [00:04<00:00,  2.04it/s]\n"
     ]
    },
    {
     "name": "stdout",
     "output_type": "stream",
     "text": [
      "Epoch  4 | Train Loss: 1.1359 | Train F1: 0.6386 | Val Loss: 0.7964 | Val F1: 0.8006\n"
     ]
    },
    {
     "name": "stderr",
     "output_type": "stream",
     "text": [
      "Loss: 0.8115: 100%|██████████| 40/40 [00:15<00:00,  2.59it/s]\n",
      "Val Loss: 0.6912: 100%|██████████| 10/10 [00:04<00:00,  2.07it/s]\n"
     ]
    },
    {
     "name": "stdout",
     "output_type": "stream",
     "text": [
      "Epoch  5 | Train Loss: 1.0318 | Train F1: 0.6888 | Val Loss: 0.6629 | Val F1: 0.8242\n"
     ]
    },
    {
     "name": "stderr",
     "output_type": "stream",
     "text": [
      "Loss: 0.3647: 100%|██████████| 40/40 [00:15<00:00,  2.60it/s]\n",
      "Val Loss: 0.6794: 100%|██████████| 10/10 [00:05<00:00,  2.00it/s]\n"
     ]
    },
    {
     "name": "stdout",
     "output_type": "stream",
     "text": [
      "Epoch  6 | Train Loss: 0.9605 | Train F1: 0.7124 | Val Loss: 0.6169 | Val F1: 0.8576\n"
     ]
    },
    {
     "name": "stderr",
     "output_type": "stream",
     "text": [
      "Loss: 0.7080: 100%|██████████| 40/40 [00:16<00:00,  2.49it/s]\n",
      "Val Loss: 0.6410: 100%|██████████| 10/10 [00:04<00:00,  2.03it/s]\n"
     ]
    },
    {
     "name": "stdout",
     "output_type": "stream",
     "text": [
      "Epoch  7 | Train Loss: 0.9349 | Train F1: 0.7078 | Val Loss: 0.5870 | Val F1: 0.8866\n"
     ]
    },
    {
     "name": "stderr",
     "output_type": "stream",
     "text": [
      "Loss: 0.9033: 100%|██████████| 40/40 [00:15<00:00,  2.62it/s]\n",
      "Val Loss: 0.7326: 100%|██████████| 10/10 [00:04<00:00,  2.12it/s]\n"
     ]
    },
    {
     "name": "stdout",
     "output_type": "stream",
     "text": [
      "Epoch  8 | Train Loss: 0.8560 | Train F1: 0.7206 | Val Loss: 0.6225 | Val F1: 0.8302\n"
     ]
    },
    {
     "name": "stderr",
     "output_type": "stream",
     "text": [
      "Loss: 0.3757: 100%|██████████| 40/40 [00:15<00:00,  2.58it/s]\n",
      "Val Loss: 0.5447: 100%|██████████| 10/10 [00:05<00:00,  1.97it/s]"
     ]
    },
    {
     "name": "stdout",
     "output_type": "stream",
     "text": [
      "Epoch  9 | Train Loss: 0.7669 | Train F1: 0.7120 | Val Loss: 0.5657 | Val F1: 0.8929\n"
     ]
    },
    {
     "name": "stderr",
     "output_type": "stream",
     "text": [
      "\n",
      "Loss: 0.5947: 100%|██████████| 40/40 [00:15<00:00,  2.52it/s]\n",
      "Val Loss: 0.6074: 100%|██████████| 10/10 [00:04<00:00,  2.08it/s]\n"
     ]
    },
    {
     "name": "stdout",
     "output_type": "stream",
     "text": [
      "Epoch 10 | Train Loss: 0.6939 | Train F1: 0.8178 | Val Loss: 0.5525 | Val F1: 0.8784\n"
     ]
    },
    {
     "name": "stderr",
     "output_type": "stream",
     "text": [
      "Loss: 0.7324: 100%|██████████| 40/40 [00:15<00:00,  2.62it/s]\n",
      "Val Loss: 0.5710: 100%|██████████| 10/10 [00:04<00:00,  2.12it/s]\n"
     ]
    },
    {
     "name": "stdout",
     "output_type": "stream",
     "text": [
      "Epoch 11 | Train Loss: 0.9070 | Train F1: 0.7592 | Val Loss: 0.5551 | Val F1: 0.8703\n"
     ]
    },
    {
     "name": "stderr",
     "output_type": "stream",
     "text": [
      "Loss: 0.3296: 100%|██████████| 40/40 [00:15<00:00,  2.63it/s]\n",
      "Val Loss: 0.5183: 100%|██████████| 10/10 [00:04<00:00,  2.07it/s]\n"
     ]
    },
    {
     "name": "stdout",
     "output_type": "stream",
     "text": [
      "Epoch 12 | Train Loss: 0.7596 | Train F1: 0.8088 | Val Loss: 0.5230 | Val F1: 0.9285\n"
     ]
    },
    {
     "name": "stderr",
     "output_type": "stream",
     "text": [
      "Loss: 0.3689: 100%|██████████| 40/40 [00:15<00:00,  2.55it/s]\n",
      "Val Loss: 0.4567: 100%|██████████| 10/10 [00:05<00:00,  1.92it/s]\n"
     ]
    },
    {
     "name": "stdout",
     "output_type": "stream",
     "text": [
      "Epoch 13 | Train Loss: 0.7970 | Train F1: 0.7201 | Val Loss: 0.5056 | Val F1: 0.9289\n"
     ]
    },
    {
     "name": "stderr",
     "output_type": "stream",
     "text": [
      "Loss: 0.4131: 100%|██████████| 40/40 [00:15<00:00,  2.53it/s]\n",
      "Val Loss: 0.5253: 100%|██████████| 10/10 [00:05<00:00,  2.00it/s]\n"
     ]
    },
    {
     "name": "stdout",
     "output_type": "stream",
     "text": [
      "Epoch 14 | Train Loss: 0.7693 | Train F1: 0.7907 | Val Loss: 0.5113 | Val F1: 0.9061\n"
     ]
    },
    {
     "name": "stderr",
     "output_type": "stream",
     "text": [
      "Loss: 0.7217: 100%|██████████| 40/40 [00:15<00:00,  2.58it/s]\n",
      "Val Loss: 0.5623: 100%|██████████| 10/10 [00:04<00:00,  2.03it/s]\n"
     ]
    },
    {
     "name": "stdout",
     "output_type": "stream",
     "text": [
      "Epoch 15 | Train Loss: 0.7133 | Train F1: 0.7926 | Val Loss: 0.5520 | Val F1: 0.9066\n"
     ]
    },
    {
     "name": "stderr",
     "output_type": "stream",
     "text": [
      "Loss: 1.3398: 100%|██████████| 40/40 [00:16<00:00,  2.42it/s]\n",
      "Val Loss: 0.6319: 100%|██████████| 10/10 [00:04<00:00,  2.04it/s]\n"
     ]
    },
    {
     "name": "stdout",
     "output_type": "stream",
     "text": [
      "Epoch 16 | Train Loss: 0.8586 | Train F1: 0.6883 | Val Loss: 0.5155 | Val F1: 0.9222\n"
     ]
    },
    {
     "name": "stderr",
     "output_type": "stream",
     "text": [
      "Loss: 1.1221: 100%|██████████| 40/40 [00:15<00:00,  2.60it/s]\n",
      "Val Loss: 0.4789: 100%|██████████| 10/10 [00:04<00:00,  2.03it/s]\n"
     ]
    },
    {
     "name": "stdout",
     "output_type": "stream",
     "text": [
      "Epoch 17 | Train Loss: 0.6439 | Train F1: 0.8408 | Val Loss: 0.4817 | Val F1: 0.9339\n"
     ]
    },
    {
     "name": "stderr",
     "output_type": "stream",
     "text": [
      "Loss: 1.2129: 100%|██████████| 40/40 [00:15<00:00,  2.57it/s]\n",
      "Val Loss: 0.5368: 100%|██████████| 10/10 [00:04<00:00,  2.03it/s]\n"
     ]
    },
    {
     "name": "stdout",
     "output_type": "stream",
     "text": [
      "Epoch 18 | Train Loss: 0.7371 | Train F1: 0.7773 | Val Loss: 0.5153 | Val F1: 0.9184\n"
     ]
    },
    {
     "name": "stderr",
     "output_type": "stream",
     "text": [
      "Loss: 0.6133: 100%|██████████| 40/40 [00:15<00:00,  2.60it/s]\n",
      "Val Loss: 0.4509: 100%|██████████| 10/10 [00:04<00:00,  2.12it/s]\n"
     ]
    },
    {
     "name": "stdout",
     "output_type": "stream",
     "text": [
      "Epoch 19 | Train Loss: 0.6216 | Train F1: 0.8424 | Val Loss: 0.4658 | Val F1: 0.9575\n"
     ]
    },
    {
     "name": "stderr",
     "output_type": "stream",
     "text": [
      "Loss: 0.4390: 100%|██████████| 40/40 [00:15<00:00,  2.55it/s]\n",
      "Val Loss: 0.4612: 100%|██████████| 10/10 [00:04<00:00,  2.12it/s]\n"
     ]
    },
    {
     "name": "stdout",
     "output_type": "stream",
     "text": [
      "Epoch 20 | Train Loss: 0.6488 | Train F1: 0.8596 | Val Loss: 0.4716 | Val F1: 0.9448\n"
     ]
    },
    {
     "name": "stderr",
     "output_type": "stream",
     "text": [
      "Loss: 0.3325: 100%|██████████| 40/40 [00:15<00:00,  2.55it/s]\n",
      "Val Loss: 0.4085: 100%|██████████| 10/10 [00:05<00:00,  1.96it/s]\n"
     ]
    },
    {
     "name": "stdout",
     "output_type": "stream",
     "text": [
      "Epoch 21 | Train Loss: 0.5937 | Train F1: 0.8445 | Val Loss: 0.4428 | Val F1: 0.9541\n"
     ]
    },
    {
     "name": "stderr",
     "output_type": "stream",
     "text": [
      "Loss: 0.5166: 100%|██████████| 40/40 [00:15<00:00,  2.58it/s]\n",
      "Val Loss: 0.4594: 100%|██████████| 10/10 [00:04<00:00,  2.03it/s]\n"
     ]
    },
    {
     "name": "stdout",
     "output_type": "stream",
     "text": [
      "Epoch 22 | Train Loss: 0.6340 | Train F1: 0.8350 | Val Loss: 0.4634 | Val F1: 0.9332\n"
     ]
    },
    {
     "name": "stderr",
     "output_type": "stream",
     "text": [
      "Loss: 0.3389: 100%|██████████| 40/40 [00:15<00:00,  2.57it/s]\n",
      "Val Loss: 0.4223: 100%|██████████| 10/10 [00:05<00:00,  2.00it/s]\n"
     ]
    },
    {
     "name": "stdout",
     "output_type": "stream",
     "text": [
      "Epoch 23 | Train Loss: 0.6213 | Train F1: 0.8168 | Val Loss: 0.4548 | Val F1: 0.9375\n"
     ]
    },
    {
     "name": "stderr",
     "output_type": "stream",
     "text": [
      "Loss: 0.3389: 100%|██████████| 40/40 [00:15<00:00,  2.59it/s]\n",
      "Val Loss: 0.4364: 100%|██████████| 10/10 [00:04<00:00,  2.05it/s]\n"
     ]
    },
    {
     "name": "stdout",
     "output_type": "stream",
     "text": [
      "Epoch 24 | Train Loss: 0.6059 | Train F1: 0.9052 | Val Loss: 0.4527 | Val F1: 0.9488\n"
     ]
    },
    {
     "name": "stderr",
     "output_type": "stream",
     "text": [
      "Loss: 0.5283: 100%|██████████| 40/40 [00:15<00:00,  2.58it/s]\n",
      "Val Loss: 0.4115: 100%|██████████| 10/10 [00:04<00:00,  2.12it/s]\n"
     ]
    },
    {
     "name": "stdout",
     "output_type": "stream",
     "text": [
      "Epoch 25 | Train Loss: 0.6642 | Train F1: 0.8525 | Val Loss: 0.4533 | Val F1: 0.9569\n"
     ]
    },
    {
     "name": "stderr",
     "output_type": "stream",
     "text": [
      "Loss: 0.9551: 100%|██████████| 40/40 [00:15<00:00,  2.59it/s]\n",
      "Val Loss: 0.5071: 100%|██████████| 10/10 [00:05<00:00,  1.96it/s]\n"
     ]
    },
    {
     "name": "stdout",
     "output_type": "stream",
     "text": [
      "Epoch 26 | Train Loss: 0.7365 | Train F1: 0.7596 | Val Loss: 0.4861 | Val F1: 0.9153\n"
     ]
    },
    {
     "name": "stderr",
     "output_type": "stream",
     "text": [
      "Loss: 0.8750: 100%|██████████| 40/40 [00:15<00:00,  2.58it/s]\n",
      "Val Loss: 0.3994: 100%|██████████| 10/10 [00:05<00:00,  1.99it/s]\n"
     ]
    },
    {
     "name": "stdout",
     "output_type": "stream",
     "text": [
      "Epoch 27 | Train Loss: 0.6172 | Train F1: 0.8462 | Val Loss: 0.4597 | Val F1: 0.9462\n"
     ]
    },
    {
     "name": "stderr",
     "output_type": "stream",
     "text": [
      "Loss: 0.4253: 100%|██████████| 40/40 [00:15<00:00,  2.55it/s]\n",
      "Val Loss: 0.4656: 100%|██████████| 10/10 [00:04<00:00,  2.09it/s]\n"
     ]
    },
    {
     "name": "stdout",
     "output_type": "stream",
     "text": [
      "Epoch 28 | Train Loss: 0.5831 | Train F1: 0.8402 | Val Loss: 0.4502 | Val F1: 0.9523\n"
     ]
    },
    {
     "name": "stderr",
     "output_type": "stream",
     "text": [
      "Loss: 1.2598: 100%|██████████| 40/40 [00:15<00:00,  2.52it/s]\n",
      "Val Loss: 0.4215: 100%|██████████| 10/10 [00:05<00:00,  2.00it/s]\n"
     ]
    },
    {
     "name": "stdout",
     "output_type": "stream",
     "text": [
      "Epoch 29 | Train Loss: 0.6992 | Train F1: 0.8055 | Val Loss: 0.4714 | Val F1: 0.9537\n"
     ]
    },
    {
     "name": "stderr",
     "output_type": "stream",
     "text": [
      "Loss: 0.3628: 100%|██████████| 40/40 [00:15<00:00,  2.58it/s]\n",
      "Val Loss: 0.4340: 100%|██████████| 10/10 [00:04<00:00,  2.03it/s]\n"
     ]
    },
    {
     "name": "stdout",
     "output_type": "stream",
     "text": [
      "Epoch 30 | Train Loss: 0.6753 | Train F1: 0.8118 | Val Loss: 0.4829 | Val F1: 0.9411\n"
     ]
    },
    {
     "name": "stderr",
     "output_type": "stream",
     "text": [
      "Loss: 1.3789: 100%|██████████| 40/40 [00:15<00:00,  2.56it/s]\n",
      "Val Loss: 0.3545: 100%|██████████| 10/10 [00:05<00:00,  1.88it/s]\n"
     ]
    },
    {
     "name": "stdout",
     "output_type": "stream",
     "text": [
      "Epoch 31 | Train Loss: 0.5684 | Train F1: 0.8550 | Val Loss: 0.4360 | Val F1: 0.9384\n"
     ]
    },
    {
     "name": "stderr",
     "output_type": "stream",
     "text": [
      "Loss: 0.3872: 100%|██████████| 40/40 [00:15<00:00,  2.54it/s]\n",
      "Val Loss: 0.4626: 100%|██████████| 10/10 [00:04<00:00,  2.03it/s]\n"
     ]
    },
    {
     "name": "stdout",
     "output_type": "stream",
     "text": [
      "Epoch 32 | Train Loss: 0.5659 | Train F1: 0.8666 | Val Loss: 0.4850 | Val F1: 0.9369\n"
     ]
    },
    {
     "name": "stderr",
     "output_type": "stream",
     "text": [
      "Loss: 0.3345: 100%|██████████| 40/40 [00:15<00:00,  2.55it/s]\n",
      "Val Loss: 0.4196: 100%|██████████| 10/10 [00:05<00:00,  1.95it/s]\n"
     ]
    },
    {
     "name": "stdout",
     "output_type": "stream",
     "text": [
      "Epoch 33 | Train Loss: 0.6150 | Train F1: 0.8541 | Val Loss: 0.4545 | Val F1: 0.9409\n"
     ]
    },
    {
     "name": "stderr",
     "output_type": "stream",
     "text": [
      "Loss: 0.3484: 100%|██████████| 40/40 [00:15<00:00,  2.58it/s]\n",
      "Val Loss: 0.3711: 100%|██████████| 10/10 [00:04<00:00,  2.12it/s]\n"
     ]
    },
    {
     "name": "stdout",
     "output_type": "stream",
     "text": [
      "Epoch 34 | Train Loss: 0.5863 | Train F1: 0.8963 | Val Loss: 0.4460 | Val F1: 0.9516\n"
     ]
    },
    {
     "name": "stderr",
     "output_type": "stream",
     "text": [
      "Loss: 1.5586: 100%|██████████| 40/40 [00:15<00:00,  2.52it/s]\n",
      "Val Loss: 0.3928: 100%|██████████| 10/10 [00:04<00:00,  2.16it/s]\n"
     ]
    },
    {
     "name": "stdout",
     "output_type": "stream",
     "text": [
      "Epoch 35 | Train Loss: 0.7138 | Train F1: 0.6977 | Val Loss: 0.4373 | Val F1: 0.9544\n"
     ]
    },
    {
     "name": "stderr",
     "output_type": "stream",
     "text": [
      "Loss: 0.4512: 100%|██████████| 40/40 [00:15<00:00,  2.56it/s]\n",
      "Val Loss: 0.4017: 100%|██████████| 10/10 [00:05<00:00,  1.92it/s]\n"
     ]
    },
    {
     "name": "stdout",
     "output_type": "stream",
     "text": [
      "Epoch 36 | Train Loss: 0.6099 | Train F1: 0.8070 | Val Loss: 0.4658 | Val F1: 0.9506\n"
     ]
    },
    {
     "name": "stderr",
     "output_type": "stream",
     "text": [
      "Loss: 0.3291: 100%|██████████| 40/40 [00:16<00:00,  2.50it/s]\n",
      "Val Loss: 0.4524: 100%|██████████| 10/10 [00:04<00:00,  2.13it/s]\n"
     ]
    },
    {
     "name": "stdout",
     "output_type": "stream",
     "text": [
      "Epoch 37 | Train Loss: 0.5867 | Train F1: 0.8859 | Val Loss: 0.4597 | Val F1: 0.9452\n"
     ]
    },
    {
     "name": "stderr",
     "output_type": "stream",
     "text": [
      "Loss: 0.3406: 100%|██████████| 40/40 [00:15<00:00,  2.57it/s]\n",
      "Val Loss: 0.4026: 100%|██████████| 10/10 [00:05<00:00,  1.93it/s]\n"
     ]
    },
    {
     "name": "stdout",
     "output_type": "stream",
     "text": [
      "Epoch 38 | Train Loss: 0.5038 | Train F1: 0.8895 | Val Loss: 0.4588 | Val F1: 0.9506\n"
     ]
    },
    {
     "name": "stderr",
     "output_type": "stream",
     "text": [
      "Loss: 0.3398: 100%|██████████| 40/40 [00:15<00:00,  2.52it/s]\n",
      "Val Loss: 0.4332: 100%|██████████| 10/10 [00:04<00:00,  2.08it/s]\n"
     ]
    },
    {
     "name": "stdout",
     "output_type": "stream",
     "text": [
      "Epoch 39 | Train Loss: 0.6319 | Train F1: 0.8054 | Val Loss: 0.4684 | Val F1: 0.9422\n"
     ]
    },
    {
     "name": "stderr",
     "output_type": "stream",
     "text": [
      "Loss: 1.1016: 100%|██████████| 40/40 [00:15<00:00,  2.54it/s]\n",
      "Val Loss: 0.4207: 100%|██████████| 10/10 [00:04<00:00,  2.08it/s]\n"
     ]
    },
    {
     "name": "stdout",
     "output_type": "stream",
     "text": [
      "Epoch 40 | Train Loss: 0.6045 | Train F1: 0.8342 | Val Loss: 0.4509 | Val F1: 0.9449\n"
     ]
    },
    {
     "name": "stderr",
     "output_type": "stream",
     "text": [
      "Loss: 0.3337: 100%|██████████| 40/40 [00:15<00:00,  2.61it/s]\n",
      "Val Loss: 0.4259: 100%|██████████| 10/10 [00:04<00:00,  2.01it/s]\n"
     ]
    },
    {
     "name": "stdout",
     "output_type": "stream",
     "text": [
      "Epoch 41 | Train Loss: 0.4940 | Train F1: 0.9147 | Val Loss: 0.4552 | Val F1: 0.9508\n"
     ]
    },
    {
     "name": "stderr",
     "output_type": "stream",
     "text": [
      "Loss: 1.6855: 100%|██████████| 40/40 [00:15<00:00,  2.62it/s]\n",
      "Val Loss: 0.4003: 100%|██████████| 10/10 [00:04<00:00,  2.12it/s]\n"
     ]
    },
    {
     "name": "stdout",
     "output_type": "stream",
     "text": [
      "Epoch 42 | Train Loss: 0.6134 | Train F1: 0.8765 | Val Loss: 0.4427 | Val F1: 0.9463\n"
     ]
    },
    {
     "name": "stderr",
     "output_type": "stream",
     "text": [
      "Loss: 0.3328: 100%|██████████| 40/40 [00:15<00:00,  2.52it/s]\n",
      "Val Loss: 0.4378: 100%|██████████| 10/10 [00:04<00:00,  2.12it/s]\n"
     ]
    },
    {
     "name": "stdout",
     "output_type": "stream",
     "text": [
      "Epoch 43 | Train Loss: 0.5529 | Train F1: 0.8823 | Val Loss: 0.4300 | Val F1: 0.9597\n"
     ]
    },
    {
     "name": "stderr",
     "output_type": "stream",
     "text": [
      "Loss: 0.3572: 100%|██████████| 40/40 [00:15<00:00,  2.60it/s]\n",
      "Val Loss: 0.4800: 100%|██████████| 10/10 [00:04<00:00,  2.17it/s]\n"
     ]
    },
    {
     "name": "stdout",
     "output_type": "stream",
     "text": [
      "Epoch 44 | Train Loss: 0.5902 | Train F1: 0.8293 | Val Loss: 0.4379 | Val F1: 0.9634\n"
     ]
    },
    {
     "name": "stderr",
     "output_type": "stream",
     "text": [
      "Loss: 0.3730: 100%|██████████| 40/40 [00:15<00:00,  2.60it/s]\n",
      "Val Loss: 0.4031: 100%|██████████| 10/10 [00:05<00:00,  1.95it/s]\n"
     ]
    },
    {
     "name": "stdout",
     "output_type": "stream",
     "text": [
      "Epoch 45 | Train Loss: 0.6603 | Train F1: 0.7795 | Val Loss: 0.4457 | Val F1: 0.9536\n"
     ]
    },
    {
     "name": "stderr",
     "output_type": "stream",
     "text": [
      "Loss: 0.4207: 100%|██████████| 40/40 [00:15<00:00,  2.56it/s]\n",
      "Val Loss: 0.3497: 100%|██████████| 10/10 [00:05<00:00,  1.88it/s]\n"
     ]
    },
    {
     "name": "stdout",
     "output_type": "stream",
     "text": [
      "Epoch 46 | Train Loss: 0.5534 | Train F1: 0.8596 | Val Loss: 0.4319 | Val F1: 0.9593\n"
     ]
    },
    {
     "name": "stderr",
     "output_type": "stream",
     "text": [
      "Loss: 0.3306: 100%|██████████| 40/40 [00:16<00:00,  2.41it/s]\n",
      "Val Loss: 0.4566: 100%|██████████| 10/10 [00:04<00:00,  2.04it/s]\n"
     ]
    },
    {
     "name": "stdout",
     "output_type": "stream",
     "text": [
      "Epoch 47 | Train Loss: 0.6729 | Train F1: 0.7704 | Val Loss: 0.4374 | Val F1: 0.9588\n"
     ]
    },
    {
     "name": "stderr",
     "output_type": "stream",
     "text": [
      "Loss: 0.4995: 100%|██████████| 40/40 [00:15<00:00,  2.55it/s]\n",
      "Val Loss: 0.3739: 100%|██████████| 10/10 [00:04<00:00,  2.22it/s]\n"
     ]
    },
    {
     "name": "stdout",
     "output_type": "stream",
     "text": [
      "Epoch 48 | Train Loss: 0.6417 | Train F1: 0.8310 | Val Loss: 0.4367 | Val F1: 0.9577\n"
     ]
    },
    {
     "name": "stderr",
     "output_type": "stream",
     "text": [
      "Loss: 0.3259: 100%|██████████| 40/40 [00:15<00:00,  2.55it/s]\n",
      "Val Loss: 0.3856: 100%|██████████| 10/10 [00:04<00:00,  2.01it/s]\n"
     ]
    },
    {
     "name": "stdout",
     "output_type": "stream",
     "text": [
      "Epoch 49 | Train Loss: 0.5158 | Train F1: 0.9157 | Val Loss: 0.4527 | Val F1: 0.9539\n"
     ]
    },
    {
     "name": "stderr",
     "output_type": "stream",
     "text": [
      "Loss: 0.4976: 100%|██████████| 40/40 [00:15<00:00,  2.58it/s]\n",
      "Val Loss: 0.4319: 100%|██████████| 10/10 [00:04<00:00,  2.04it/s]\n"
     ]
    },
    {
     "name": "stdout",
     "output_type": "stream",
     "text": [
      "Epoch 50 | Train Loss: 0.6853 | Train F1: 0.8061 | Val Loss: 0.4344 | Val F1: 0.9559\n",
      "Fold 1 Best Validation F1: 0.9634\n",
      "\n",
      "==================================================\n",
      "FOLD 2/5\n",
      "==================================================\n",
      "Train samples: 1256, Validation samples: 314\n"
     ]
    },
    {
     "name": "stderr",
     "output_type": "stream",
     "text": [
      "Loss: 1.2793: 100%|██████████| 40/40 [00:16<00:00,  2.48it/s]\n",
      "Val Loss: 1.5779: 100%|██████████| 10/10 [00:04<00:00,  2.08it/s]"
     ]
    },
    {
     "name": "stdout",
     "output_type": "stream",
     "text": [
      "Epoch  1 | Train Loss: 2.3942 | Train F1: 0.3136 | Val Loss: 1.6596 | Val F1: 0.5423\n"
     ]
    },
    {
     "name": "stderr",
     "output_type": "stream",
     "text": [
      "\n",
      "Loss: 1.0615: 100%|██████████| 40/40 [00:15<00:00,  2.56it/s]\n",
      "Val Loss: 0.9461: 100%|██████████| 10/10 [00:04<00:00,  2.01it/s]"
     ]
    },
    {
     "name": "stdout",
     "output_type": "stream",
     "text": [
      "Epoch  2 | Train Loss: 1.5006 | Train F1: 0.5808 | Val Loss: 1.0269 | Val F1: 0.7188\n"
     ]
    },
    {
     "name": "stderr",
     "output_type": "stream",
     "text": [
      "\n",
      "Loss: 0.9888: 100%|██████████| 40/40 [00:15<00:00,  2.61it/s]\n",
      "Val Loss: 0.7310: 100%|██████████| 10/10 [00:05<00:00,  1.97it/s]"
     ]
    },
    {
     "name": "stdout",
     "output_type": "stream",
     "text": [
      "Epoch  3 | Train Loss: 1.1984 | Train F1: 0.6663 | Val Loss: 0.8700 | Val F1: 0.7236\n"
     ]
    },
    {
     "name": "stderr",
     "output_type": "stream",
     "text": [
      "\n",
      "Loss: 0.5752: 100%|██████████| 40/40 [00:15<00:00,  2.57it/s]\n",
      "Val Loss: 0.5867: 100%|██████████| 10/10 [00:05<00:00,  1.92it/s]"
     ]
    },
    {
     "name": "stdout",
     "output_type": "stream",
     "text": [
      "Epoch  4 | Train Loss: 1.1140 | Train F1: 0.6412 | Val Loss: 0.6574 | Val F1: 0.8574\n"
     ]
    },
    {
     "name": "stderr",
     "output_type": "stream",
     "text": [
      "\n",
      "Loss: 0.5337: 100%|██████████| 40/40 [00:15<00:00,  2.55it/s]\n",
      "Val Loss: 0.5496: 100%|██████████| 10/10 [00:05<00:00,  1.93it/s]\n"
     ]
    },
    {
     "name": "stdout",
     "output_type": "stream",
     "text": [
      "Epoch  5 | Train Loss: 0.9805 | Train F1: 0.6987 | Val Loss: 0.6103 | Val F1: 0.8599\n"
     ]
    },
    {
     "name": "stderr",
     "output_type": "stream",
     "text": [
      "Loss: 0.4531: 100%|██████████| 40/40 [00:15<00:00,  2.58it/s]\n",
      "Val Loss: 0.5107: 100%|██████████| 10/10 [00:05<00:00,  1.93it/s]"
     ]
    },
    {
     "name": "stdout",
     "output_type": "stream",
     "text": [
      "Epoch  6 | Train Loss: 0.9124 | Train F1: 0.6858 | Val Loss: 0.5522 | Val F1: 0.8676\n"
     ]
    },
    {
     "name": "stderr",
     "output_type": "stream",
     "text": [
      "\n",
      "Loss: 0.7642: 100%|██████████| 40/40 [00:15<00:00,  2.61it/s]\n",
      "Val Loss: 0.4963: 100%|██████████| 10/10 [00:04<00:00,  2.05it/s]"
     ]
    },
    {
     "name": "stdout",
     "output_type": "stream",
     "text": [
      "Epoch  7 | Train Loss: 0.8696 | Train F1: 0.7121 | Val Loss: 0.5450 | Val F1: 0.8903\n"
     ]
    },
    {
     "name": "stderr",
     "output_type": "stream",
     "text": [
      "\n",
      "Loss: 0.4604: 100%|██████████| 40/40 [00:15<00:00,  2.50it/s]\n",
      "Val Loss: 0.5048: 100%|██████████| 10/10 [00:05<00:00,  1.97it/s]\n"
     ]
    },
    {
     "name": "stdout",
     "output_type": "stream",
     "text": [
      "Epoch  8 | Train Loss: 0.6787 | Train F1: 0.8126 | Val Loss: 0.5898 | Val F1: 0.8657\n"
     ]
    },
    {
     "name": "stderr",
     "output_type": "stream",
     "text": [
      "Loss: 0.8647: 100%|██████████| 40/40 [00:15<00:00,  2.53it/s]\n",
      "Val Loss: 0.4411: 100%|██████████| 10/10 [00:05<00:00,  1.83it/s]"
     ]
    },
    {
     "name": "stdout",
     "output_type": "stream",
     "text": [
      "Epoch  9 | Train Loss: 0.7593 | Train F1: 0.7787 | Val Loss: 0.5240 | Val F1: 0.8939\n"
     ]
    },
    {
     "name": "stderr",
     "output_type": "stream",
     "text": [
      "\n",
      "Loss: 0.4146: 100%|██████████| 40/40 [00:16<00:00,  2.50it/s]\n",
      "Val Loss: 0.4170: 100%|██████████| 10/10 [00:05<00:00,  2.00it/s]"
     ]
    },
    {
     "name": "stdout",
     "output_type": "stream",
     "text": [
      "Epoch 10 | Train Loss: 0.7937 | Train F1: 0.8132 | Val Loss: 0.5032 | Val F1: 0.9073\n"
     ]
    },
    {
     "name": "stderr",
     "output_type": "stream",
     "text": [
      "\n",
      "Loss: 1.2900: 100%|██████████| 40/40 [00:15<00:00,  2.58it/s]\n",
      "Val Loss: 0.3822: 100%|██████████| 10/10 [00:05<00:00,  1.88it/s]"
     ]
    },
    {
     "name": "stdout",
     "output_type": "stream",
     "text": [
      "Epoch 11 | Train Loss: 0.7579 | Train F1: 0.7880 | Val Loss: 0.4848 | Val F1: 0.9318\n"
     ]
    },
    {
     "name": "stderr",
     "output_type": "stream",
     "text": [
      "\n",
      "Loss: 0.5093: 100%|██████████| 40/40 [00:15<00:00,  2.60it/s]\n",
      "Val Loss: 0.3726: 100%|██████████| 10/10 [00:05<00:00,  1.93it/s]\n"
     ]
    },
    {
     "name": "stdout",
     "output_type": "stream",
     "text": [
      "Epoch 12 | Train Loss: 0.8104 | Train F1: 0.8202 | Val Loss: 0.4843 | Val F1: 0.9162\n"
     ]
    },
    {
     "name": "stderr",
     "output_type": "stream",
     "text": [
      "Loss: 0.3589: 100%|██████████| 40/40 [00:15<00:00,  2.53it/s]\n",
      "Val Loss: 0.4978: 100%|██████████| 10/10 [00:05<00:00,  1.93it/s]\n"
     ]
    },
    {
     "name": "stdout",
     "output_type": "stream",
     "text": [
      "Epoch 13 | Train Loss: 0.6589 | Train F1: 0.8250 | Val Loss: 0.4905 | Val F1: 0.9175\n"
     ]
    },
    {
     "name": "stderr",
     "output_type": "stream",
     "text": [
      "Loss: 0.3525: 100%|██████████| 40/40 [00:15<00:00,  2.56it/s]\n",
      "Val Loss: 0.4334: 100%|██████████| 10/10 [00:05<00:00,  2.00it/s]"
     ]
    },
    {
     "name": "stdout",
     "output_type": "stream",
     "text": [
      "Epoch 14 | Train Loss: 0.7549 | Train F1: 0.7846 | Val Loss: 0.4655 | Val F1: 0.9371\n"
     ]
    },
    {
     "name": "stderr",
     "output_type": "stream",
     "text": [
      "\n",
      "Loss: 0.4905: 100%|██████████| 40/40 [00:15<00:00,  2.58it/s]\n",
      "Val Loss: 0.4023: 100%|██████████| 10/10 [00:05<00:00,  1.97it/s]\n"
     ]
    },
    {
     "name": "stdout",
     "output_type": "stream",
     "text": [
      "Epoch 15 | Train Loss: 0.8027 | Train F1: 0.7523 | Val Loss: 0.4705 | Val F1: 0.9113\n"
     ]
    },
    {
     "name": "stderr",
     "output_type": "stream",
     "text": [
      "Loss: 0.8389: 100%|██████████| 40/40 [00:15<00:00,  2.56it/s]\n",
      "Val Loss: 0.3826: 100%|██████████| 10/10 [00:05<00:00,  1.93it/s]"
     ]
    },
    {
     "name": "stdout",
     "output_type": "stream",
     "text": [
      "Epoch 16 | Train Loss: 0.6854 | Train F1: 0.8251 | Val Loss: 0.4750 | Val F1: 0.9392\n"
     ]
    },
    {
     "name": "stderr",
     "output_type": "stream",
     "text": [
      "\n",
      "Loss: 0.3779: 100%|██████████| 40/40 [00:15<00:00,  2.53it/s]\n",
      "Val Loss: 0.3855: 100%|██████████| 10/10 [00:04<00:00,  2.01it/s]\n"
     ]
    },
    {
     "name": "stdout",
     "output_type": "stream",
     "text": [
      "Epoch 17 | Train Loss: 0.6197 | Train F1: 0.8404 | Val Loss: 0.4920 | Val F1: 0.9133\n"
     ]
    },
    {
     "name": "stderr",
     "output_type": "stream",
     "text": [
      "Loss: 0.4126: 100%|██████████| 40/40 [00:15<00:00,  2.58it/s]\n",
      "Val Loss: 0.3553: 100%|██████████| 10/10 [00:05<00:00,  1.89it/s]\n"
     ]
    },
    {
     "name": "stdout",
     "output_type": "stream",
     "text": [
      "Epoch 18 | Train Loss: 0.7255 | Train F1: 0.8036 | Val Loss: 0.4699 | Val F1: 0.9320\n"
     ]
    },
    {
     "name": "stderr",
     "output_type": "stream",
     "text": [
      "Loss: 1.4766: 100%|██████████| 40/40 [00:15<00:00,  2.52it/s]\n",
      "Val Loss: 0.3685: 100%|██████████| 10/10 [00:04<00:00,  2.01it/s]\n"
     ]
    },
    {
     "name": "stdout",
     "output_type": "stream",
     "text": [
      "Epoch 19 | Train Loss: 0.7384 | Train F1: 0.8115 | Val Loss: 0.4729 | Val F1: 0.9362\n"
     ]
    },
    {
     "name": "stderr",
     "output_type": "stream",
     "text": [
      "Loss: 0.8887: 100%|██████████| 40/40 [00:15<00:00,  2.56it/s]\n",
      "Val Loss: 0.4562: 100%|██████████| 10/10 [00:05<00:00,  1.92it/s]"
     ]
    },
    {
     "name": "stdout",
     "output_type": "stream",
     "text": [
      "Epoch 20 | Train Loss: 0.7296 | Train F1: 0.8851 | Val Loss: 0.4609 | Val F1: 0.9470\n"
     ]
    },
    {
     "name": "stderr",
     "output_type": "stream",
     "text": [
      "\n",
      "Loss: 0.4629: 100%|██████████| 40/40 [00:15<00:00,  2.53it/s]\n",
      "Val Loss: 0.4451: 100%|██████████| 10/10 [00:04<00:00,  2.01it/s]\n"
     ]
    },
    {
     "name": "stdout",
     "output_type": "stream",
     "text": [
      "Epoch 21 | Train Loss: 0.7099 | Train F1: 0.8172 | Val Loss: 0.4999 | Val F1: 0.9213\n"
     ]
    },
    {
     "name": "stderr",
     "output_type": "stream",
     "text": [
      "Loss: 0.3723: 100%|██████████| 40/40 [00:15<00:00,  2.58it/s]\n",
      "Val Loss: 0.4014: 100%|██████████| 10/10 [00:05<00:00,  1.89it/s]\n"
     ]
    },
    {
     "name": "stdout",
     "output_type": "stream",
     "text": [
      "Epoch 22 | Train Loss: 0.7322 | Train F1: 0.7262 | Val Loss: 0.4600 | Val F1: 0.9441\n"
     ]
    },
    {
     "name": "stderr",
     "output_type": "stream",
     "text": [
      "Loss: 0.3291: 100%|██████████| 40/40 [00:15<00:00,  2.53it/s]\n",
      "Val Loss: 0.3543: 100%|██████████| 10/10 [00:05<00:00,  1.89it/s]\n"
     ]
    },
    {
     "name": "stdout",
     "output_type": "stream",
     "text": [
      "Epoch 23 | Train Loss: 0.6222 | Train F1: 0.8494 | Val Loss: 0.4469 | Val F1: 0.9487\n"
     ]
    },
    {
     "name": "stderr",
     "output_type": "stream",
     "text": [
      "Loss: 0.3770: 100%|██████████| 40/40 [00:15<00:00,  2.58it/s]\n",
      "Val Loss: 0.3580: 100%|██████████| 10/10 [00:05<00:00,  1.97it/s]\n"
     ]
    },
    {
     "name": "stdout",
     "output_type": "stream",
     "text": [
      "Epoch 24 | Train Loss: 0.6360 | Train F1: 0.8170 | Val Loss: 0.4487 | Val F1: 0.9468\n"
     ]
    },
    {
     "name": "stderr",
     "output_type": "stream",
     "text": [
      "Loss: 0.3501: 100%|██████████| 40/40 [00:15<00:00,  2.56it/s]\n",
      "Val Loss: 0.3342: 100%|██████████| 10/10 [00:04<00:00,  2.05it/s]"
     ]
    },
    {
     "name": "stdout",
     "output_type": "stream",
     "text": [
      "Epoch 25 | Train Loss: 0.7304 | Train F1: 0.7848 | Val Loss: 0.4608 | Val F1: 0.9504\n"
     ]
    },
    {
     "name": "stderr",
     "output_type": "stream",
     "text": [
      "\n",
      "Loss: 1.2090: 100%|██████████| 40/40 [00:15<00:00,  2.50it/s]\n",
      "Val Loss: 0.3837: 100%|██████████| 10/10 [00:05<00:00,  1.96it/s]\n"
     ]
    },
    {
     "name": "stdout",
     "output_type": "stream",
     "text": [
      "Epoch 26 | Train Loss: 0.7829 | Train F1: 0.7421 | Val Loss: 0.4380 | Val F1: 0.9469\n"
     ]
    },
    {
     "name": "stderr",
     "output_type": "stream",
     "text": [
      "Loss: 0.8291: 100%|██████████| 40/40 [00:15<00:00,  2.55it/s]\n",
      "Val Loss: 0.3331: 100%|██████████| 10/10 [00:04<00:00,  2.00it/s]"
     ]
    },
    {
     "name": "stdout",
     "output_type": "stream",
     "text": [
      "Epoch 27 | Train Loss: 0.6860 | Train F1: 0.8584 | Val Loss: 0.4606 | Val F1: 0.9508\n"
     ]
    },
    {
     "name": "stderr",
     "output_type": "stream",
     "text": [
      "\n",
      "Loss: 0.3325: 100%|██████████| 40/40 [00:15<00:00,  2.58it/s]\n",
      "Val Loss: 0.3613: 100%|██████████| 10/10 [00:05<00:00,  2.00it/s]\n"
     ]
    },
    {
     "name": "stdout",
     "output_type": "stream",
     "text": [
      "Epoch 28 | Train Loss: 0.5304 | Train F1: 0.9125 | Val Loss: 0.4668 | Val F1: 0.9471\n"
     ]
    },
    {
     "name": "stderr",
     "output_type": "stream",
     "text": [
      "Loss: 0.6396: 100%|██████████| 40/40 [00:15<00:00,  2.53it/s]\n",
      "Val Loss: 0.3409: 100%|██████████| 10/10 [00:05<00:00,  1.88it/s]"
     ]
    },
    {
     "name": "stdout",
     "output_type": "stream",
     "text": [
      "Epoch 29 | Train Loss: 0.6815 | Train F1: 0.7921 | Val Loss: 0.4572 | Val F1: 0.9563\n"
     ]
    },
    {
     "name": "stderr",
     "output_type": "stream",
     "text": [
      "\n",
      "Loss: 0.3584: 100%|██████████| 40/40 [00:15<00:00,  2.55it/s]\n",
      "Val Loss: 0.3581: 100%|██████████| 10/10 [00:04<00:00,  2.01it/s]\n"
     ]
    },
    {
     "name": "stdout",
     "output_type": "stream",
     "text": [
      "Epoch 30 | Train Loss: 0.6539 | Train F1: 0.8197 | Val Loss: 0.4496 | Val F1: 0.9520\n"
     ]
    },
    {
     "name": "stderr",
     "output_type": "stream",
     "text": [
      "Loss: 0.3643: 100%|██████████| 40/40 [00:15<00:00,  2.55it/s]\n",
      "Val Loss: 0.3388: 100%|██████████| 10/10 [00:04<00:00,  2.05it/s]\n"
     ]
    },
    {
     "name": "stdout",
     "output_type": "stream",
     "text": [
      "Epoch 31 | Train Loss: 0.6348 | Train F1: 0.8707 | Val Loss: 0.4594 | Val F1: 0.9562\n"
     ]
    },
    {
     "name": "stderr",
     "output_type": "stream",
     "text": [
      "Loss: 1.8076: 100%|██████████| 40/40 [00:15<00:00,  2.53it/s]\n",
      "Val Loss: 0.3717: 100%|██████████| 10/10 [00:05<00:00,  1.97it/s]\n"
     ]
    },
    {
     "name": "stdout",
     "output_type": "stream",
     "text": [
      "Epoch 32 | Train Loss: 0.6603 | Train F1: 0.8366 | Val Loss: 0.4459 | Val F1: 0.9469\n"
     ]
    },
    {
     "name": "stderr",
     "output_type": "stream",
     "text": [
      "Loss: 0.3391: 100%|██████████| 40/40 [00:15<00:00,  2.50it/s]\n",
      "Val Loss: 0.3643: 100%|██████████| 10/10 [00:05<00:00,  1.97it/s]"
     ]
    },
    {
     "name": "stdout",
     "output_type": "stream",
     "text": [
      "Epoch 33 | Train Loss: 0.5681 | Train F1: 0.8260 | Val Loss: 0.4431 | Val F1: 0.9631\n"
     ]
    },
    {
     "name": "stderr",
     "output_type": "stream",
     "text": [
      "\n",
      "Loss: 0.5293: 100%|██████████| 40/40 [00:16<00:00,  2.49it/s]\n",
      "Val Loss: 0.3576: 100%|██████████| 10/10 [00:05<00:00,  1.96it/s]\n"
     ]
    },
    {
     "name": "stdout",
     "output_type": "stream",
     "text": [
      "Epoch 34 | Train Loss: 0.6234 | Train F1: 0.7984 | Val Loss: 0.4390 | Val F1: 0.9594\n"
     ]
    },
    {
     "name": "stderr",
     "output_type": "stream",
     "text": [
      "Loss: 0.3430: 100%|██████████| 40/40 [00:15<00:00,  2.57it/s]\n",
      "Val Loss: 0.3547: 100%|██████████| 10/10 [00:05<00:00,  1.97it/s]\n"
     ]
    },
    {
     "name": "stdout",
     "output_type": "stream",
     "text": [
      "Epoch 35 | Train Loss: 0.7499 | Train F1: 0.8277 | Val Loss: 0.4546 | Val F1: 0.9570\n"
     ]
    },
    {
     "name": "stderr",
     "output_type": "stream",
     "text": [
      "Loss: 0.8418: 100%|██████████| 40/40 [00:16<00:00,  2.49it/s]\n",
      "Val Loss: 0.4181: 100%|██████████| 10/10 [00:04<00:00,  2.04it/s]\n"
     ]
    },
    {
     "name": "stdout",
     "output_type": "stream",
     "text": [
      "Epoch 36 | Train Loss: 0.7365 | Train F1: 0.8229 | Val Loss: 0.4666 | Val F1: 0.9504\n"
     ]
    },
    {
     "name": "stderr",
     "output_type": "stream",
     "text": [
      "Loss: 0.3315: 100%|██████████| 40/40 [00:15<00:00,  2.61it/s]\n",
      "Val Loss: 0.3767: 100%|██████████| 10/10 [00:05<00:00,  1.86it/s]\n"
     ]
    },
    {
     "name": "stdout",
     "output_type": "stream",
     "text": [
      "Epoch 37 | Train Loss: 0.5492 | Train F1: 0.8914 | Val Loss: 0.4592 | Val F1: 0.9532\n"
     ]
    },
    {
     "name": "stderr",
     "output_type": "stream",
     "text": [
      "Loss: 0.3293: 100%|██████████| 40/40 [00:15<00:00,  2.56it/s]\n",
      "Val Loss: 0.3571: 100%|██████████| 10/10 [00:05<00:00,  1.97it/s]"
     ]
    },
    {
     "name": "stdout",
     "output_type": "stream",
     "text": [
      "Epoch 38 | Train Loss: 0.6554 | Train F1: 0.8159 | Val Loss: 0.4423 | Val F1: 0.9676\n"
     ]
    },
    {
     "name": "stderr",
     "output_type": "stream",
     "text": [
      "\n",
      "Loss: 0.3328: 100%|██████████| 40/40 [00:15<00:00,  2.57it/s]\n",
      "Val Loss: 0.3399: 100%|██████████| 10/10 [00:04<00:00,  2.00it/s]\n"
     ]
    },
    {
     "name": "stdout",
     "output_type": "stream",
     "text": [
      "Epoch 39 | Train Loss: 0.5975 | Train F1: 0.8289 | Val Loss: 0.4429 | Val F1: 0.9566\n"
     ]
    },
    {
     "name": "stderr",
     "output_type": "stream",
     "text": [
      "Loss: 0.3586: 100%|██████████| 40/40 [00:15<00:00,  2.55it/s]\n",
      "Val Loss: 0.3798: 100%|██████████| 10/10 [00:04<00:00,  2.05it/s]\n"
     ]
    },
    {
     "name": "stdout",
     "output_type": "stream",
     "text": [
      "Epoch 40 | Train Loss: 0.5126 | Train F1: 0.8761 | Val Loss: 0.4458 | Val F1: 0.9618\n"
     ]
    },
    {
     "name": "stderr",
     "output_type": "stream",
     "text": [
      "Loss: 0.3599: 100%|██████████| 40/40 [00:15<00:00,  2.55it/s]\n",
      "Val Loss: 0.3556: 100%|██████████| 10/10 [00:05<00:00,  1.97it/s]\n"
     ]
    },
    {
     "name": "stdout",
     "output_type": "stream",
     "text": [
      "Epoch 41 | Train Loss: 0.6175 | Train F1: 0.8747 | Val Loss: 0.4369 | Val F1: 0.9606\n"
     ]
    },
    {
     "name": "stderr",
     "output_type": "stream",
     "text": [
      "Loss: 0.3296: 100%|██████████| 40/40 [00:16<00:00,  2.50it/s]\n",
      "Val Loss: 0.3670: 100%|██████████| 10/10 [00:05<00:00,  1.96it/s]\n"
     ]
    },
    {
     "name": "stdout",
     "output_type": "stream",
     "text": [
      "Epoch 42 | Train Loss: 0.5582 | Train F1: 0.8394 | Val Loss: 0.4370 | Val F1: 0.9582\n"
     ]
    },
    {
     "name": "stderr",
     "output_type": "stream",
     "text": [
      "Loss: 0.4082: 100%|██████████| 40/40 [00:15<00:00,  2.54it/s]\n",
      "Val Loss: 0.4372: 100%|██████████| 10/10 [00:05<00:00,  1.92it/s]\n"
     ]
    },
    {
     "name": "stdout",
     "output_type": "stream",
     "text": [
      "Epoch 43 | Train Loss: 0.6055 | Train F1: 0.8555 | Val Loss: 0.4463 | Val F1: 0.9584\n"
     ]
    },
    {
     "name": "stderr",
     "output_type": "stream",
     "text": [
      "Loss: 0.3403: 100%|██████████| 40/40 [00:16<00:00,  2.50it/s]\n",
      "Val Loss: 0.3318: 100%|██████████| 10/10 [00:04<00:00,  2.05it/s]\n"
     ]
    },
    {
     "name": "stdout",
     "output_type": "stream",
     "text": [
      "Epoch 44 | Train Loss: 0.6021 | Train F1: 0.8521 | Val Loss: 0.4378 | Val F1: 0.9606\n"
     ]
    },
    {
     "name": "stderr",
     "output_type": "stream",
     "text": [
      "Loss: 0.3313: 100%|██████████| 40/40 [00:15<00:00,  2.53it/s]\n",
      "Val Loss: 0.4070: 100%|██████████| 10/10 [00:04<00:00,  2.09it/s]\n"
     ]
    },
    {
     "name": "stdout",
     "output_type": "stream",
     "text": [
      "Epoch 45 | Train Loss: 0.5550 | Train F1: 0.8849 | Val Loss: 0.4480 | Val F1: 0.9540\n"
     ]
    },
    {
     "name": "stderr",
     "output_type": "stream",
     "text": [
      "Loss: 0.4121: 100%|██████████| 40/40 [00:15<00:00,  2.55it/s]\n",
      "Val Loss: 0.3300: 100%|██████████| 10/10 [00:05<00:00,  1.93it/s]"
     ]
    },
    {
     "name": "stdout",
     "output_type": "stream",
     "text": [
      "Epoch 46 | Train Loss: 0.5856 | Train F1: 0.8372 | Val Loss: 0.4275 | Val F1: 0.9691\n"
     ]
    },
    {
     "name": "stderr",
     "output_type": "stream",
     "text": [
      "\n",
      "Loss: 0.3818: 100%|██████████| 40/40 [00:15<00:00,  2.55it/s]\n",
      "Val Loss: 0.3423: 100%|██████████| 10/10 [00:04<00:00,  2.09it/s]\n"
     ]
    },
    {
     "name": "stdout",
     "output_type": "stream",
     "text": [
      "Epoch 47 | Train Loss: 0.5869 | Train F1: 0.8680 | Val Loss: 0.4483 | Val F1: 0.9527\n"
     ]
    },
    {
     "name": "stderr",
     "output_type": "stream",
     "text": [
      "Loss: 0.6875: 100%|██████████| 40/40 [00:15<00:00,  2.56it/s]\n",
      "Val Loss: 0.3665: 100%|██████████| 10/10 [00:05<00:00,  1.86it/s]\n"
     ]
    },
    {
     "name": "stdout",
     "output_type": "stream",
     "text": [
      "Epoch 48 | Train Loss: 0.5795 | Train F1: 0.8819 | Val Loss: 0.4403 | Val F1: 0.9557\n"
     ]
    },
    {
     "name": "stderr",
     "output_type": "stream",
     "text": [
      "Loss: 0.9023: 100%|██████████| 40/40 [00:15<00:00,  2.57it/s]\n",
      "Val Loss: 0.3399: 100%|██████████| 10/10 [00:04<00:00,  2.05it/s]\n"
     ]
    },
    {
     "name": "stdout",
     "output_type": "stream",
     "text": [
      "Epoch 49 | Train Loss: 0.6705 | Train F1: 0.8099 | Val Loss: 0.4404 | Val F1: 0.9601\n"
     ]
    },
    {
     "name": "stderr",
     "output_type": "stream",
     "text": [
      "Loss: 0.5063: 100%|██████████| 40/40 [00:16<00:00,  2.47it/s]\n",
      "Val Loss: 0.3501: 100%|██████████| 10/10 [00:04<00:00,  2.00it/s]\n"
     ]
    },
    {
     "name": "stdout",
     "output_type": "stream",
     "text": [
      "Epoch 50 | Train Loss: 0.6984 | Train F1: 0.8833 | Val Loss: 0.4345 | Val F1: 0.9556\n",
      "Fold 2 Best Validation F1: 0.9691\n",
      "\n",
      "==================================================\n",
      "FOLD 3/5\n",
      "==================================================\n",
      "Train samples: 1256, Validation samples: 314\n"
     ]
    },
    {
     "name": "stderr",
     "output_type": "stream",
     "text": [
      "Loss: 1.5205: 100%|██████████| 40/40 [00:15<00:00,  2.61it/s]\n",
      "Val Loss: 1.6240: 100%|██████████| 10/10 [00:04<00:00,  2.05it/s]"
     ]
    },
    {
     "name": "stdout",
     "output_type": "stream",
     "text": [
      "Epoch  1 | Train Loss: 2.3641 | Train F1: 0.2961 | Val Loss: 1.5683 | Val F1: 0.6211\n"
     ]
    },
    {
     "name": "stderr",
     "output_type": "stream",
     "text": [
      "\n",
      "Loss: 2.0391: 100%|██████████| 40/40 [00:15<00:00,  2.55it/s]\n",
      "Val Loss: 0.8966: 100%|██████████| 10/10 [00:05<00:00,  1.92it/s]"
     ]
    },
    {
     "name": "stdout",
     "output_type": "stream",
     "text": [
      "Epoch  2 | Train Loss: 1.5715 | Train F1: 0.4943 | Val Loss: 1.0249 | Val F1: 0.7235\n"
     ]
    },
    {
     "name": "stderr",
     "output_type": "stream",
     "text": [
      "\n",
      "Loss: 1.7715: 100%|██████████| 40/40 [00:15<00:00,  2.56it/s]\n",
      "Val Loss: 0.7613: 100%|██████████| 10/10 [00:04<00:00,  2.01it/s]"
     ]
    },
    {
     "name": "stdout",
     "output_type": "stream",
     "text": [
      "Epoch  3 | Train Loss: 1.2630 | Train F1: 0.6308 | Val Loss: 0.8232 | Val F1: 0.7969\n"
     ]
    },
    {
     "name": "stderr",
     "output_type": "stream",
     "text": [
      "\n",
      "Loss: 0.7251: 100%|██████████| 40/40 [00:15<00:00,  2.60it/s]\n",
      "Val Loss: 0.6353: 100%|██████████| 10/10 [00:04<00:00,  2.01it/s]"
     ]
    },
    {
     "name": "stdout",
     "output_type": "stream",
     "text": [
      "Epoch  4 | Train Loss: 1.0524 | Train F1: 0.6683 | Val Loss: 0.7131 | Val F1: 0.8233\n"
     ]
    },
    {
     "name": "stderr",
     "output_type": "stream",
     "text": [
      "\n",
      "Loss: 0.7607: 100%|██████████| 40/40 [00:15<00:00,  2.58it/s]\n",
      "Val Loss: 0.5739: 100%|██████████| 10/10 [00:04<00:00,  2.01it/s]"
     ]
    },
    {
     "name": "stdout",
     "output_type": "stream",
     "text": [
      "Epoch  5 | Train Loss: 1.0027 | Train F1: 0.7253 | Val Loss: 0.6424 | Val F1: 0.8668\n"
     ]
    },
    {
     "name": "stderr",
     "output_type": "stream",
     "text": [
      "\n",
      "Loss: 0.6162: 100%|██████████| 40/40 [00:15<00:00,  2.52it/s]\n",
      "Val Loss: 0.5740: 100%|██████████| 10/10 [00:04<00:00,  2.01it/s]\n"
     ]
    },
    {
     "name": "stdout",
     "output_type": "stream",
     "text": [
      "Epoch  6 | Train Loss: 0.9803 | Train F1: 0.6495 | Val Loss: 0.5837 | Val F1: 0.8494\n"
     ]
    },
    {
     "name": "stderr",
     "output_type": "stream",
     "text": [
      "Loss: 0.6387: 100%|██████████| 40/40 [00:15<00:00,  2.55it/s]\n",
      "Val Loss: 0.6102: 100%|██████████| 10/10 [00:05<00:00,  1.93it/s]\n"
     ]
    },
    {
     "name": "stdout",
     "output_type": "stream",
     "text": [
      "Epoch  7 | Train Loss: 0.8124 | Train F1: 0.7917 | Val Loss: 0.5804 | Val F1: 0.8569\n"
     ]
    },
    {
     "name": "stderr",
     "output_type": "stream",
     "text": [
      "Loss: 1.1387: 100%|██████████| 40/40 [00:15<00:00,  2.58it/s]\n",
      "Val Loss: 0.4644: 100%|██████████| 10/10 [00:05<00:00,  1.97it/s]"
     ]
    },
    {
     "name": "stdout",
     "output_type": "stream",
     "text": [
      "Epoch  8 | Train Loss: 0.9656 | Train F1: 0.7376 | Val Loss: 0.5644 | Val F1: 0.8849\n"
     ]
    },
    {
     "name": "stderr",
     "output_type": "stream",
     "text": [
      "\n",
      "Loss: 2.0742: 100%|██████████| 40/40 [00:15<00:00,  2.61it/s]\n",
      "Val Loss: 0.4748: 100%|██████████| 10/10 [00:04<00:00,  2.03it/s]"
     ]
    },
    {
     "name": "stdout",
     "output_type": "stream",
     "text": [
      "Epoch  9 | Train Loss: 0.7852 | Train F1: 0.8447 | Val Loss: 0.5125 | Val F1: 0.8967\n"
     ]
    },
    {
     "name": "stderr",
     "output_type": "stream",
     "text": [
      "\n",
      "Loss: 1.5703: 100%|██████████| 40/40 [00:15<00:00,  2.58it/s]\n",
      "Val Loss: 0.4919: 100%|██████████| 10/10 [00:05<00:00,  1.97it/s]\n"
     ]
    },
    {
     "name": "stdout",
     "output_type": "stream",
     "text": [
      "Epoch 10 | Train Loss: 0.8900 | Train F1: 0.7362 | Val Loss: 0.5399 | Val F1: 0.8774\n"
     ]
    },
    {
     "name": "stderr",
     "output_type": "stream",
     "text": [
      "Loss: 0.5693: 100%|██████████| 40/40 [00:15<00:00,  2.55it/s]\n",
      "Val Loss: 0.4950: 100%|██████████| 10/10 [00:04<00:00,  2.01it/s]\n"
     ]
    },
    {
     "name": "stdout",
     "output_type": "stream",
     "text": [
      "Epoch 11 | Train Loss: 0.7308 | Train F1: 0.8033 | Val Loss: 0.5286 | Val F1: 0.8641\n"
     ]
    },
    {
     "name": "stderr",
     "output_type": "stream",
     "text": [
      "Loss: 0.6777: 100%|██████████| 40/40 [00:15<00:00,  2.55it/s]\n",
      "Val Loss: 0.4503: 100%|██████████| 10/10 [00:04<00:00,  2.05it/s]\n"
     ]
    },
    {
     "name": "stdout",
     "output_type": "stream",
     "text": [
      "Epoch 12 | Train Loss: 0.8844 | Train F1: 0.7317 | Val Loss: 0.5211 | Val F1: 0.8912\n"
     ]
    },
    {
     "name": "stderr",
     "output_type": "stream",
     "text": [
      "Loss: 1.6699: 100%|██████████| 40/40 [00:15<00:00,  2.53it/s]\n",
      "Val Loss: 0.4292: 100%|██████████| 10/10 [00:05<00:00,  1.79it/s]"
     ]
    },
    {
     "name": "stdout",
     "output_type": "stream",
     "text": [
      "Epoch 13 | Train Loss: 0.8033 | Train F1: 0.7745 | Val Loss: 0.4971 | Val F1: 0.8983\n"
     ]
    },
    {
     "name": "stderr",
     "output_type": "stream",
     "text": [
      "\n",
      "Loss: 1.6992: 100%|██████████| 40/40 [00:15<00:00,  2.51it/s]\n",
      "Val Loss: 0.4745: 100%|██████████| 10/10 [00:05<00:00,  2.00it/s]\n"
     ]
    },
    {
     "name": "stdout",
     "output_type": "stream",
     "text": [
      "Epoch 14 | Train Loss: 0.7728 | Train F1: 0.8108 | Val Loss: 0.5248 | Val F1: 0.8907\n"
     ]
    },
    {
     "name": "stderr",
     "output_type": "stream",
     "text": [
      "Loss: 1.1504: 100%|██████████| 40/40 [00:15<00:00,  2.56it/s]\n",
      "Val Loss: 0.4374: 100%|██████████| 10/10 [00:05<00:00,  1.93it/s]"
     ]
    },
    {
     "name": "stdout",
     "output_type": "stream",
     "text": [
      "Epoch 15 | Train Loss: 0.6513 | Train F1: 0.8270 | Val Loss: 0.4773 | Val F1: 0.9273\n"
     ]
    },
    {
     "name": "stderr",
     "output_type": "stream",
     "text": [
      "\n",
      "Loss: 0.7598: 100%|██████████| 40/40 [00:15<00:00,  2.53it/s]\n",
      "Val Loss: 0.4771: 100%|██████████| 10/10 [00:04<00:00,  2.00it/s]\n"
     ]
    },
    {
     "name": "stdout",
     "output_type": "stream",
     "text": [
      "Epoch 16 | Train Loss: 0.7180 | Train F1: 0.8033 | Val Loss: 0.5084 | Val F1: 0.9108\n"
     ]
    },
    {
     "name": "stderr",
     "output_type": "stream",
     "text": [
      "Loss: 0.3589: 100%|██████████| 40/40 [00:16<00:00,  2.38it/s]\n",
      "Val Loss: 0.4917: 100%|██████████| 10/10 [00:05<00:00,  1.88it/s]\n"
     ]
    },
    {
     "name": "stdout",
     "output_type": "stream",
     "text": [
      "Epoch 17 | Train Loss: 0.7657 | Train F1: 0.8047 | Val Loss: 0.5086 | Val F1: 0.8861\n"
     ]
    },
    {
     "name": "stderr",
     "output_type": "stream",
     "text": [
      "Loss: 0.4175: 100%|██████████| 40/40 [00:15<00:00,  2.58it/s]\n",
      "Val Loss: 0.4429: 100%|██████████| 10/10 [00:04<00:00,  2.01it/s]\n"
     ]
    },
    {
     "name": "stdout",
     "output_type": "stream",
     "text": [
      "Epoch 18 | Train Loss: 0.7359 | Train F1: 0.7570 | Val Loss: 0.4939 | Val F1: 0.9165\n"
     ]
    },
    {
     "name": "stderr",
     "output_type": "stream",
     "text": [
      "Loss: 1.0195: 100%|██████████| 40/40 [00:16<00:00,  2.50it/s]\n",
      "Val Loss: 0.4184: 100%|██████████| 10/10 [00:04<00:00,  2.01it/s]\n"
     ]
    },
    {
     "name": "stdout",
     "output_type": "stream",
     "text": [
      "Epoch 19 | Train Loss: 0.7552 | Train F1: 0.8060 | Val Loss: 0.4622 | Val F1: 0.9253\n"
     ]
    },
    {
     "name": "stderr",
     "output_type": "stream",
     "text": [
      "Loss: 0.3499: 100%|██████████| 40/40 [00:15<00:00,  2.53it/s]\n",
      "Val Loss: 0.4068: 100%|██████████| 10/10 [00:05<00:00,  1.93it/s]\n"
     ]
    },
    {
     "name": "stdout",
     "output_type": "stream",
     "text": [
      "Epoch 20 | Train Loss: 0.7050 | Train F1: 0.8215 | Val Loss: 0.4820 | Val F1: 0.9198\n"
     ]
    },
    {
     "name": "stderr",
     "output_type": "stream",
     "text": [
      "Loss: 1.4121: 100%|██████████| 40/40 [00:15<00:00,  2.53it/s]\n",
      "Val Loss: 0.3737: 100%|██████████| 10/10 [00:05<00:00,  1.96it/s]\n"
     ]
    },
    {
     "name": "stdout",
     "output_type": "stream",
     "text": [
      "Epoch 21 | Train Loss: 0.6706 | Train F1: 0.8044 | Val Loss: 0.4709 | Val F1: 0.9127\n"
     ]
    },
    {
     "name": "stderr",
     "output_type": "stream",
     "text": [
      "Loss: 0.3318: 100%|██████████| 40/40 [00:15<00:00,  2.52it/s]\n",
      "Val Loss: 0.4827: 100%|██████████| 10/10 [00:05<00:00,  1.93it/s]"
     ]
    },
    {
     "name": "stdout",
     "output_type": "stream",
     "text": [
      "Epoch 22 | Train Loss: 0.5580 | Train F1: 0.8918 | Val Loss: 0.4771 | Val F1: 0.9288\n"
     ]
    },
    {
     "name": "stderr",
     "output_type": "stream",
     "text": [
      "\n",
      "Loss: 0.3667: 100%|██████████| 40/40 [00:15<00:00,  2.51it/s]\n",
      "Val Loss: 0.4469: 100%|██████████| 10/10 [00:04<00:00,  2.05it/s]\n"
     ]
    },
    {
     "name": "stdout",
     "output_type": "stream",
     "text": [
      "Epoch 23 | Train Loss: 0.6222 | Train F1: 0.8618 | Val Loss: 0.4699 | Val F1: 0.9231\n"
     ]
    },
    {
     "name": "stderr",
     "output_type": "stream",
     "text": [
      "Loss: 0.9609: 100%|██████████| 40/40 [00:15<00:00,  2.56it/s]\n",
      "Val Loss: 0.4885: 100%|██████████| 10/10 [00:05<00:00,  1.97it/s]\n"
     ]
    },
    {
     "name": "stdout",
     "output_type": "stream",
     "text": [
      "Epoch 24 | Train Loss: 0.7516 | Train F1: 0.7677 | Val Loss: 0.4869 | Val F1: 0.9091\n"
     ]
    },
    {
     "name": "stderr",
     "output_type": "stream",
     "text": [
      "Loss: 0.3833: 100%|██████████| 40/40 [00:15<00:00,  2.55it/s]\n",
      "Val Loss: 0.4225: 100%|██████████| 10/10 [00:04<00:00,  2.00it/s]"
     ]
    },
    {
     "name": "stdout",
     "output_type": "stream",
     "text": [
      "Epoch 25 | Train Loss: 0.6279 | Train F1: 0.8134 | Val Loss: 0.4588 | Val F1: 0.9361\n"
     ]
    },
    {
     "name": "stderr",
     "output_type": "stream",
     "text": [
      "\n",
      "Loss: 0.4976: 100%|██████████| 40/40 [00:16<00:00,  2.50it/s]\n",
      "Val Loss: 0.4485: 100%|██████████| 10/10 [00:05<00:00,  1.86it/s]\n"
     ]
    },
    {
     "name": "stdout",
     "output_type": "stream",
     "text": [
      "Epoch 26 | Train Loss: 0.5968 | Train F1: 0.8459 | Val Loss: 0.4607 | Val F1: 0.9298\n"
     ]
    },
    {
     "name": "stderr",
     "output_type": "stream",
     "text": [
      "Loss: 0.9961: 100%|██████████| 40/40 [00:16<00:00,  2.47it/s]\n",
      "Val Loss: 0.3864: 100%|██████████| 10/10 [00:05<00:00,  1.89it/s]\n"
     ]
    },
    {
     "name": "stdout",
     "output_type": "stream",
     "text": [
      "Epoch 27 | Train Loss: 0.5801 | Train F1: 0.9087 | Val Loss: 0.4322 | Val F1: 0.9281\n"
     ]
    },
    {
     "name": "stderr",
     "output_type": "stream",
     "text": [
      "Loss: 0.3669: 100%|██████████| 40/40 [00:16<00:00,  2.50it/s]\n",
      "Val Loss: 0.4993: 100%|██████████| 10/10 [00:05<00:00,  1.88it/s]\n"
     ]
    },
    {
     "name": "stdout",
     "output_type": "stream",
     "text": [
      "Epoch 28 | Train Loss: 0.6159 | Train F1: 0.8791 | Val Loss: 0.4743 | Val F1: 0.9222\n"
     ]
    },
    {
     "name": "stderr",
     "output_type": "stream",
     "text": [
      "Loss: 0.4138: 100%|██████████| 40/40 [00:15<00:00,  2.57it/s]\n",
      "Val Loss: 0.4145: 100%|██████████| 10/10 [00:05<00:00,  1.93it/s]\n"
     ]
    },
    {
     "name": "stdout",
     "output_type": "stream",
     "text": [
      "Epoch 29 | Train Loss: 0.6907 | Train F1: 0.8049 | Val Loss: 0.4772 | Val F1: 0.9241\n"
     ]
    },
    {
     "name": "stderr",
     "output_type": "stream",
     "text": [
      "Loss: 0.3374: 100%|██████████| 40/40 [00:15<00:00,  2.55it/s]\n",
      "Val Loss: 0.4142: 100%|██████████| 10/10 [00:04<00:00,  2.01it/s]\n"
     ]
    },
    {
     "name": "stdout",
     "output_type": "stream",
     "text": [
      "Epoch 30 | Train Loss: 0.5667 | Train F1: 0.8851 | Val Loss: 0.4624 | Val F1: 0.9356\n"
     ]
    },
    {
     "name": "stderr",
     "output_type": "stream",
     "text": [
      "Loss: 0.3601: 100%|██████████| 40/40 [00:15<00:00,  2.51it/s]\n",
      "Val Loss: 0.5007: 100%|██████████| 10/10 [00:05<00:00,  1.96it/s]\n"
     ]
    },
    {
     "name": "stdout",
     "output_type": "stream",
     "text": [
      "Epoch 31 | Train Loss: 0.5993 | Train F1: 0.8504 | Val Loss: 0.4769 | Val F1: 0.9320\n"
     ]
    },
    {
     "name": "stderr",
     "output_type": "stream",
     "text": [
      "Loss: 0.4260: 100%|██████████| 40/40 [00:15<00:00,  2.50it/s]\n",
      "Val Loss: 0.4003: 100%|██████████| 10/10 [00:04<00:00,  2.04it/s]\n"
     ]
    },
    {
     "name": "stdout",
     "output_type": "stream",
     "text": [
      "Epoch 32 | Train Loss: 0.5918 | Train F1: 0.8247 | Val Loss: 0.4840 | Val F1: 0.9251\n"
     ]
    },
    {
     "name": "stderr",
     "output_type": "stream",
     "text": [
      "Loss: 0.7007: 100%|██████████| 40/40 [00:16<00:00,  2.47it/s]\n",
      "Val Loss: 0.4732: 100%|██████████| 10/10 [00:05<00:00,  1.96it/s]\n"
     ]
    },
    {
     "name": "stdout",
     "output_type": "stream",
     "text": [
      "Epoch 33 | Train Loss: 0.5889 | Train F1: 0.8973 | Val Loss: 0.4811 | Val F1: 0.9244\n"
     ]
    },
    {
     "name": "stderr",
     "output_type": "stream",
     "text": [
      "Loss: 1.2227: 100%|██████████| 40/40 [00:15<00:00,  2.53it/s]\n",
      "Val Loss: 0.4342: 100%|██████████| 10/10 [00:05<00:00,  1.97it/s]\n"
     ]
    },
    {
     "name": "stdout",
     "output_type": "stream",
     "text": [
      "Epoch 34 | Train Loss: 0.7066 | Train F1: 0.7717 | Val Loss: 0.4726 | Val F1: 0.9336\n"
     ]
    },
    {
     "name": "stderr",
     "output_type": "stream",
     "text": [
      "Loss: 0.3796: 100%|██████████| 40/40 [00:15<00:00,  2.55it/s]\n",
      "Val Loss: 0.3884: 100%|██████████| 10/10 [00:04<00:00,  2.08it/s]\n"
     ]
    },
    {
     "name": "stdout",
     "output_type": "stream",
     "text": [
      "Epoch 35 | Train Loss: 0.5946 | Train F1: 0.8710 | Val Loss: 0.5027 | Val F1: 0.9279\n"
     ]
    },
    {
     "name": "stderr",
     "output_type": "stream",
     "text": [
      "Loss: 0.7139: 100%|██████████| 40/40 [00:16<00:00,  2.50it/s]\n",
      "Val Loss: 0.4678: 100%|██████████| 10/10 [00:04<00:00,  2.00it/s]\n"
     ]
    },
    {
     "name": "stdout",
     "output_type": "stream",
     "text": [
      "Epoch 36 | Train Loss: 0.6354 | Train F1: 0.7783 | Val Loss: 0.4706 | Val F1: 0.9292\n"
     ]
    },
    {
     "name": "stderr",
     "output_type": "stream",
     "text": [
      "Loss: 1.0811: 100%|██████████| 40/40 [00:15<00:00,  2.56it/s]\n",
      "Val Loss: 0.3886: 100%|██████████| 10/10 [00:05<00:00,  1.86it/s]"
     ]
    },
    {
     "name": "stdout",
     "output_type": "stream",
     "text": [
      "Epoch 37 | Train Loss: 0.5905 | Train F1: 0.8341 | Val Loss: 0.4862 | Val F1: 0.9382\n"
     ]
    },
    {
     "name": "stderr",
     "output_type": "stream",
     "text": [
      "\n",
      "Loss: 0.8755: 100%|██████████| 40/40 [00:16<00:00,  2.48it/s]\n",
      "Val Loss: 0.4365: 100%|██████████| 10/10 [00:05<00:00,  1.93it/s]\n"
     ]
    },
    {
     "name": "stdout",
     "output_type": "stream",
     "text": [
      "Epoch 38 | Train Loss: 0.5267 | Train F1: 0.9234 | Val Loss: 0.4664 | Val F1: 0.9351\n"
     ]
    },
    {
     "name": "stderr",
     "output_type": "stream",
     "text": [
      "Loss: 1.1279: 100%|██████████| 40/40 [00:15<00:00,  2.50it/s]\n",
      "Val Loss: 0.4609: 100%|██████████| 10/10 [00:05<00:00,  1.92it/s]\n"
     ]
    },
    {
     "name": "stdout",
     "output_type": "stream",
     "text": [
      "Epoch 39 | Train Loss: 0.5877 | Train F1: 0.8706 | Val Loss: 0.4836 | Val F1: 0.9329\n"
     ]
    },
    {
     "name": "stderr",
     "output_type": "stream",
     "text": [
      "Loss: 0.3701: 100%|██████████| 40/40 [00:15<00:00,  2.53it/s]\n",
      "Val Loss: 0.4276: 100%|██████████| 10/10 [00:05<00:00,  1.93it/s]"
     ]
    },
    {
     "name": "stdout",
     "output_type": "stream",
     "text": [
      "Epoch 40 | Train Loss: 0.5800 | Train F1: 0.8480 | Val Loss: 0.4526 | Val F1: 0.9414\n"
     ]
    },
    {
     "name": "stderr",
     "output_type": "stream",
     "text": [
      "\n",
      "Loss: 0.3521: 100%|██████████| 40/40 [00:15<00:00,  2.51it/s]\n",
      "Val Loss: 0.4195: 100%|██████████| 10/10 [00:05<00:00,  1.92it/s]\n"
     ]
    },
    {
     "name": "stdout",
     "output_type": "stream",
     "text": [
      "Epoch 41 | Train Loss: 0.6392 | Train F1: 0.7830 | Val Loss: 0.4643 | Val F1: 0.9308\n"
     ]
    },
    {
     "name": "stderr",
     "output_type": "stream",
     "text": [
      "Loss: 0.3435: 100%|██████████| 40/40 [00:16<00:00,  2.49it/s]\n",
      "Val Loss: 0.4520: 100%|██████████| 10/10 [00:05<00:00,  1.86it/s]"
     ]
    },
    {
     "name": "stdout",
     "output_type": "stream",
     "text": [
      "Epoch 42 | Train Loss: 0.6446 | Train F1: 0.8297 | Val Loss: 0.4514 | Val F1: 0.9461\n"
     ]
    },
    {
     "name": "stderr",
     "output_type": "stream",
     "text": [
      "\n",
      "Loss: 0.3333: 100%|██████████| 40/40 [00:15<00:00,  2.51it/s]\n",
      "Val Loss: 0.4352: 100%|██████████| 10/10 [00:05<00:00,  1.86it/s]\n"
     ]
    },
    {
     "name": "stdout",
     "output_type": "stream",
     "text": [
      "Epoch 43 | Train Loss: 0.6080 | Train F1: 0.8686 | Val Loss: 0.4612 | Val F1: 0.9412\n"
     ]
    },
    {
     "name": "stderr",
     "output_type": "stream",
     "text": [
      "Loss: 0.3289: 100%|██████████| 40/40 [00:16<00:00,  2.45it/s]\n",
      "Val Loss: 0.4646: 100%|██████████| 10/10 [00:05<00:00,  1.97it/s]"
     ]
    },
    {
     "name": "stdout",
     "output_type": "stream",
     "text": [
      "Epoch 44 | Train Loss: 0.5376 | Train F1: 0.8972 | Val Loss: 0.4573 | Val F1: 0.9463\n"
     ]
    },
    {
     "name": "stderr",
     "output_type": "stream",
     "text": [
      "\n",
      "Loss: 0.3784: 100%|██████████| 40/40 [00:16<00:00,  2.47it/s]\n",
      "Val Loss: 0.4168: 100%|██████████| 10/10 [00:05<00:00,  2.00it/s]\n"
     ]
    },
    {
     "name": "stdout",
     "output_type": "stream",
     "text": [
      "Epoch 45 | Train Loss: 0.6854 | Train F1: 0.7773 | Val Loss: 0.4438 | Val F1: 0.9448\n"
     ]
    },
    {
     "name": "stderr",
     "output_type": "stream",
     "text": [
      "Loss: 0.3323: 100%|██████████| 40/40 [00:15<00:00,  2.53it/s]\n",
      "Val Loss: 0.3948: 100%|██████████| 10/10 [00:05<00:00,  1.85it/s]\n"
     ]
    },
    {
     "name": "stdout",
     "output_type": "stream",
     "text": [
      "Epoch 46 | Train Loss: 0.5898 | Train F1: 0.8626 | Val Loss: 0.4476 | Val F1: 0.9459\n"
     ]
    },
    {
     "name": "stderr",
     "output_type": "stream",
     "text": [
      "Loss: 0.5889: 100%|██████████| 40/40 [00:15<00:00,  2.54it/s]\n",
      "Val Loss: 0.4483: 100%|██████████| 10/10 [00:05<00:00,  1.85it/s]\n"
     ]
    },
    {
     "name": "stdout",
     "output_type": "stream",
     "text": [
      "Epoch 47 | Train Loss: 0.7117 | Train F1: 0.8117 | Val Loss: 0.4702 | Val F1: 0.9232\n"
     ]
    },
    {
     "name": "stderr",
     "output_type": "stream",
     "text": [
      "Loss: 0.4570: 100%|██████████| 40/40 [00:15<00:00,  2.53it/s]\n",
      "Val Loss: 0.3563: 100%|██████████| 10/10 [00:04<00:00,  2.05it/s]\n"
     ]
    },
    {
     "name": "stdout",
     "output_type": "stream",
     "text": [
      "Epoch 48 | Train Loss: 0.5683 | Train F1: 0.9068 | Val Loss: 0.4651 | Val F1: 0.9417\n"
     ]
    },
    {
     "name": "stderr",
     "output_type": "stream",
     "text": [
      "Loss: 0.3320: 100%|██████████| 40/40 [00:16<00:00,  2.47it/s]\n",
      "Val Loss: 0.3881: 100%|██████████| 10/10 [00:05<00:00,  1.89it/s]\n"
     ]
    },
    {
     "name": "stdout",
     "output_type": "stream",
     "text": [
      "Epoch 49 | Train Loss: 0.6190 | Train F1: 0.8484 | Val Loss: 0.4486 | Val F1: 0.9463\n"
     ]
    },
    {
     "name": "stderr",
     "output_type": "stream",
     "text": [
      "Loss: 0.5605: 100%|██████████| 40/40 [00:15<00:00,  2.55it/s]\n",
      "Val Loss: 0.4519: 100%|██████████| 10/10 [00:05<00:00,  1.96it/s]"
     ]
    },
    {
     "name": "stdout",
     "output_type": "stream",
     "text": [
      "Epoch 50 | Train Loss: 0.6365 | Train F1: 0.8741 | Val Loss: 0.4481 | Val F1: 0.9466\n"
     ]
    },
    {
     "name": "stderr",
     "output_type": "stream",
     "text": [
      "\n"
     ]
    },
    {
     "name": "stdout",
     "output_type": "stream",
     "text": [
      "Fold 3 Best Validation F1: 0.9466\n",
      "\n",
      "==================================================\n",
      "FOLD 4/5\n",
      "==================================================\n",
      "Train samples: 1256, Validation samples: 314\n"
     ]
    },
    {
     "name": "stderr",
     "output_type": "stream",
     "text": [
      "Loss: 1.4551: 100%|██████████| 40/40 [00:15<00:00,  2.52it/s]\n",
      "Val Loss: 1.7239: 100%|██████████| 10/10 [00:05<00:00,  1.86it/s]"
     ]
    },
    {
     "name": "stdout",
     "output_type": "stream",
     "text": [
      "Epoch  1 | Train Loss: 2.4419 | Train F1: 0.3088 | Val Loss: 1.7361 | Val F1: 0.5364\n"
     ]
    },
    {
     "name": "stderr",
     "output_type": "stream",
     "text": [
      "\n",
      "Loss: 1.2168: 100%|██████████| 40/40 [00:15<00:00,  2.53it/s]\n",
      "Val Loss: 1.1354: 100%|██████████| 10/10 [00:05<00:00,  1.89it/s]"
     ]
    },
    {
     "name": "stdout",
     "output_type": "stream",
     "text": [
      "Epoch  2 | Train Loss: 1.6345 | Train F1: 0.4807 | Val Loss: 1.0748 | Val F1: 0.6313\n"
     ]
    },
    {
     "name": "stderr",
     "output_type": "stream",
     "text": [
      "\n",
      "Loss: 0.7168: 100%|██████████| 40/40 [00:16<00:00,  2.46it/s]\n",
      "Val Loss: 0.8867: 100%|██████████| 10/10 [00:05<00:00,  1.93it/s]"
     ]
    },
    {
     "name": "stdout",
     "output_type": "stream",
     "text": [
      "Epoch  3 | Train Loss: 1.3392 | Train F1: 0.5198 | Val Loss: 0.8381 | Val F1: 0.7913\n"
     ]
    },
    {
     "name": "stderr",
     "output_type": "stream",
     "text": [
      "\n",
      "Loss: 1.6875: 100%|██████████| 40/40 [00:15<00:00,  2.50it/s]\n",
      "Val Loss: 0.8371: 100%|██████████| 10/10 [00:04<00:00,  2.00it/s]\n"
     ]
    },
    {
     "name": "stdout",
     "output_type": "stream",
     "text": [
      "Epoch  4 | Train Loss: 1.0465 | Train F1: 0.6991 | Val Loss: 0.7239 | Val F1: 0.7854\n"
     ]
    },
    {
     "name": "stderr",
     "output_type": "stream",
     "text": [
      "Loss: 1.8047: 100%|██████████| 40/40 [00:15<00:00,  2.54it/s]\n",
      "Val Loss: 0.6034: 100%|██████████| 10/10 [00:05<00:00,  1.82it/s]"
     ]
    },
    {
     "name": "stdout",
     "output_type": "stream",
     "text": [
      "Epoch  5 | Train Loss: 0.9814 | Train F1: 0.6486 | Val Loss: 0.6345 | Val F1: 0.8347\n"
     ]
    },
    {
     "name": "stderr",
     "output_type": "stream",
     "text": [
      "\n",
      "Loss: 0.9736: 100%|██████████| 40/40 [00:15<00:00,  2.55it/s]\n",
      "Val Loss: 0.5478: 100%|██████████| 10/10 [00:05<00:00,  1.93it/s]"
     ]
    },
    {
     "name": "stdout",
     "output_type": "stream",
     "text": [
      "Epoch  6 | Train Loss: 0.8151 | Train F1: 0.7648 | Val Loss: 0.5974 | Val F1: 0.8411\n"
     ]
    },
    {
     "name": "stderr",
     "output_type": "stream",
     "text": [
      "\n",
      "Loss: 1.3145: 100%|██████████| 40/40 [00:16<00:00,  2.48it/s]\n",
      "Val Loss: 0.5040: 100%|██████████| 10/10 [00:05<00:00,  1.96it/s]\n"
     ]
    },
    {
     "name": "stdout",
     "output_type": "stream",
     "text": [
      "Epoch  7 | Train Loss: 0.7835 | Train F1: 0.8138 | Val Loss: 0.5783 | Val F1: 0.8333\n"
     ]
    },
    {
     "name": "stderr",
     "output_type": "stream",
     "text": [
      "Loss: 0.5547: 100%|██████████| 40/40 [00:15<00:00,  2.53it/s]\n",
      "Val Loss: 0.5293: 100%|██████████| 10/10 [00:05<00:00,  1.86it/s]"
     ]
    },
    {
     "name": "stdout",
     "output_type": "stream",
     "text": [
      "Epoch  8 | Train Loss: 0.8079 | Train F1: 0.7574 | Val Loss: 0.5518 | Val F1: 0.8695\n"
     ]
    },
    {
     "name": "stderr",
     "output_type": "stream",
     "text": [
      "\n",
      "Loss: 0.4185: 100%|██████████| 40/40 [00:16<00:00,  2.45it/s]\n",
      "Val Loss: 0.4790: 100%|██████████| 10/10 [00:05<00:00,  1.96it/s]"
     ]
    },
    {
     "name": "stdout",
     "output_type": "stream",
     "text": [
      "Epoch  9 | Train Loss: 0.9372 | Train F1: 0.7229 | Val Loss: 0.5405 | Val F1: 0.8756\n"
     ]
    },
    {
     "name": "stderr",
     "output_type": "stream",
     "text": [
      "\n",
      "Loss: 0.9224: 100%|██████████| 40/40 [00:15<00:00,  2.52it/s]\n",
      "Val Loss: 0.4633: 100%|██████████| 10/10 [00:05<00:00,  1.79it/s]"
     ]
    },
    {
     "name": "stdout",
     "output_type": "stream",
     "text": [
      "Epoch 10 | Train Loss: 0.7738 | Train F1: 0.8147 | Val Loss: 0.5445 | Val F1: 0.8942\n"
     ]
    },
    {
     "name": "stderr",
     "output_type": "stream",
     "text": [
      "\n",
      "Loss: 0.3828: 100%|██████████| 40/40 [00:15<00:00,  2.50it/s]\n",
      "Val Loss: 0.5581: 100%|██████████| 10/10 [00:05<00:00,  1.82it/s]\n"
     ]
    },
    {
     "name": "stdout",
     "output_type": "stream",
     "text": [
      "Epoch 11 | Train Loss: 0.6821 | Train F1: 0.8123 | Val Loss: 0.5317 | Val F1: 0.8935\n"
     ]
    },
    {
     "name": "stderr",
     "output_type": "stream",
     "text": [
      "Loss: 0.5625: 100%|██████████| 40/40 [00:16<00:00,  2.47it/s]\n",
      "Val Loss: 0.3807: 100%|██████████| 10/10 [00:05<00:00,  1.89it/s]"
     ]
    },
    {
     "name": "stdout",
     "output_type": "stream",
     "text": [
      "Epoch 12 | Train Loss: 0.7145 | Train F1: 0.8433 | Val Loss: 0.5422 | Val F1: 0.9072\n"
     ]
    },
    {
     "name": "stderr",
     "output_type": "stream",
     "text": [
      "\n",
      "Loss: 0.6387: 100%|██████████| 40/40 [00:16<00:00,  2.50it/s]\n",
      "Val Loss: 0.4802: 100%|██████████| 10/10 [00:05<00:00,  1.93it/s]\n"
     ]
    },
    {
     "name": "stdout",
     "output_type": "stream",
     "text": [
      "Epoch 13 | Train Loss: 0.6883 | Train F1: 0.8057 | Val Loss: 0.5252 | Val F1: 0.9006\n"
     ]
    },
    {
     "name": "stderr",
     "output_type": "stream",
     "text": [
      "Loss: 0.4961: 100%|██████████| 40/40 [00:15<00:00,  2.52it/s]\n",
      "Val Loss: 0.4806: 100%|██████████| 10/10 [00:05<00:00,  1.92it/s]"
     ]
    },
    {
     "name": "stdout",
     "output_type": "stream",
     "text": [
      "Epoch 14 | Train Loss: 0.7768 | Train F1: 0.7893 | Val Loss: 0.4852 | Val F1: 0.9323\n"
     ]
    },
    {
     "name": "stderr",
     "output_type": "stream",
     "text": [
      "\n",
      "Loss: 0.4324: 100%|██████████| 40/40 [00:15<00:00,  2.50it/s]\n",
      "Val Loss: 0.4775: 100%|██████████| 10/10 [00:05<00:00,  1.93it/s]\n"
     ]
    },
    {
     "name": "stdout",
     "output_type": "stream",
     "text": [
      "Epoch 15 | Train Loss: 0.7823 | Train F1: 0.7246 | Val Loss: 0.5028 | Val F1: 0.9072\n"
     ]
    },
    {
     "name": "stderr",
     "output_type": "stream",
     "text": [
      "Loss: 0.3748: 100%|██████████| 40/40 [00:15<00:00,  2.50it/s]\n",
      "Val Loss: 0.4060: 100%|██████████| 10/10 [00:05<00:00,  1.89it/s]\n"
     ]
    },
    {
     "name": "stdout",
     "output_type": "stream",
     "text": [
      "Epoch 16 | Train Loss: 0.6531 | Train F1: 0.7847 | Val Loss: 0.4873 | Val F1: 0.9168\n"
     ]
    },
    {
     "name": "stderr",
     "output_type": "stream",
     "text": [
      "Loss: 0.8369: 100%|██████████| 40/40 [00:15<00:00,  2.56it/s]\n",
      "Val Loss: 0.3829: 100%|██████████| 10/10 [00:05<00:00,  1.97it/s]\n"
     ]
    },
    {
     "name": "stdout",
     "output_type": "stream",
     "text": [
      "Epoch 17 | Train Loss: 0.6447 | Train F1: 0.8272 | Val Loss: 0.4965 | Val F1: 0.9168\n"
     ]
    },
    {
     "name": "stderr",
     "output_type": "stream",
     "text": [
      "Loss: 0.3433: 100%|██████████| 40/40 [00:15<00:00,  2.53it/s]\n",
      "Val Loss: 0.3941: 100%|██████████| 10/10 [00:05<00:00,  1.93it/s]\n"
     ]
    },
    {
     "name": "stdout",
     "output_type": "stream",
     "text": [
      "Epoch 18 | Train Loss: 0.8414 | Train F1: 0.7420 | Val Loss: 0.4797 | Val F1: 0.9127\n"
     ]
    },
    {
     "name": "stderr",
     "output_type": "stream",
     "text": [
      "Loss: 0.6562: 100%|██████████| 40/40 [00:15<00:00,  2.53it/s]\n",
      "Val Loss: 0.3548: 100%|██████████| 10/10 [00:05<00:00,  1.97it/s]"
     ]
    },
    {
     "name": "stdout",
     "output_type": "stream",
     "text": [
      "Epoch 19 | Train Loss: 0.6709 | Train F1: 0.7841 | Val Loss: 0.4581 | Val F1: 0.9474\n"
     ]
    },
    {
     "name": "stderr",
     "output_type": "stream",
     "text": [
      "\n",
      "Loss: 0.8174: 100%|██████████| 40/40 [00:16<00:00,  2.44it/s]\n",
      "Val Loss: 0.3687: 100%|██████████| 10/10 [00:05<00:00,  1.92it/s]\n"
     ]
    },
    {
     "name": "stdout",
     "output_type": "stream",
     "text": [
      "Epoch 20 | Train Loss: 0.6227 | Train F1: 0.8822 | Val Loss: 0.4613 | Val F1: 0.9400\n"
     ]
    },
    {
     "name": "stderr",
     "output_type": "stream",
     "text": [
      "Loss: 1.3018: 100%|██████████| 40/40 [00:16<00:00,  2.49it/s]\n",
      "Val Loss: 0.3746: 100%|██████████| 10/10 [00:05<00:00,  1.89it/s]"
     ]
    },
    {
     "name": "stdout",
     "output_type": "stream",
     "text": [
      "Epoch 21 | Train Loss: 0.6669 | Train F1: 0.8915 | Val Loss: 0.4683 | Val F1: 0.9488\n"
     ]
    },
    {
     "name": "stderr",
     "output_type": "stream",
     "text": [
      "\n",
      "Loss: 1.3281: 100%|██████████| 40/40 [00:15<00:00,  2.53it/s]\n",
      "Val Loss: 0.4979: 100%|██████████| 10/10 [00:05<00:00,  1.89it/s]\n"
     ]
    },
    {
     "name": "stdout",
     "output_type": "stream",
     "text": [
      "Epoch 22 | Train Loss: 0.7354 | Train F1: 0.8479 | Val Loss: 0.5303 | Val F1: 0.9165\n"
     ]
    },
    {
     "name": "stderr",
     "output_type": "stream",
     "text": [
      "Loss: 0.3792: 100%|██████████| 40/40 [00:15<00:00,  2.50it/s]\n",
      "Val Loss: 0.3359: 100%|██████████| 10/10 [00:05<00:00,  1.82it/s]"
     ]
    },
    {
     "name": "stdout",
     "output_type": "stream",
     "text": [
      "Epoch 23 | Train Loss: 0.6726 | Train F1: 0.8563 | Val Loss: 0.4587 | Val F1: 0.9525\n"
     ]
    },
    {
     "name": "stderr",
     "output_type": "stream",
     "text": [
      "\n",
      "Loss: 0.7686: 100%|██████████| 40/40 [00:16<00:00,  2.50it/s]\n",
      "Val Loss: 0.4820: 100%|██████████| 10/10 [00:05<00:00,  1.97it/s]\n"
     ]
    },
    {
     "name": "stdout",
     "output_type": "stream",
     "text": [
      "Epoch 24 | Train Loss: 0.6002 | Train F1: 0.8639 | Val Loss: 0.5225 | Val F1: 0.9274\n"
     ]
    },
    {
     "name": "stderr",
     "output_type": "stream",
     "text": [
      "Loss: 1.2949: 100%|██████████| 40/40 [00:15<00:00,  2.55it/s]\n",
      "Val Loss: 0.4168: 100%|██████████| 10/10 [00:05<00:00,  1.97it/s]\n"
     ]
    },
    {
     "name": "stdout",
     "output_type": "stream",
     "text": [
      "Epoch 25 | Train Loss: 0.6746 | Train F1: 0.8221 | Val Loss: 0.5209 | Val F1: 0.9287\n"
     ]
    },
    {
     "name": "stderr",
     "output_type": "stream",
     "text": [
      "Loss: 0.3647: 100%|██████████| 40/40 [00:15<00:00,  2.55it/s]\n",
      "Val Loss: 0.4575: 100%|██████████| 10/10 [00:05<00:00,  1.95it/s]"
     ]
    },
    {
     "name": "stdout",
     "output_type": "stream",
     "text": [
      "Epoch 26 | Train Loss: 0.5804 | Train F1: 0.8728 | Val Loss: 0.4523 | Val F1: 0.9622\n"
     ]
    },
    {
     "name": "stderr",
     "output_type": "stream",
     "text": [
      "\n",
      "Loss: 0.4248: 100%|██████████| 40/40 [00:15<00:00,  2.50it/s]\n",
      "Val Loss: 0.3695: 100%|██████████| 10/10 [00:04<00:00,  2.01it/s]\n"
     ]
    },
    {
     "name": "stdout",
     "output_type": "stream",
     "text": [
      "Epoch 27 | Train Loss: 0.5877 | Train F1: 0.8561 | Val Loss: 0.4702 | Val F1: 0.9390\n"
     ]
    },
    {
     "name": "stderr",
     "output_type": "stream",
     "text": [
      "Loss: 0.4951: 100%|██████████| 40/40 [00:16<00:00,  2.50it/s]\n",
      "Val Loss: 0.3847: 100%|██████████| 10/10 [00:05<00:00,  1.93it/s]\n"
     ]
    },
    {
     "name": "stdout",
     "output_type": "stream",
     "text": [
      "Epoch 28 | Train Loss: 0.5462 | Train F1: 0.8414 | Val Loss: 0.4565 | Val F1: 0.9427\n"
     ]
    },
    {
     "name": "stderr",
     "output_type": "stream",
     "text": [
      "Loss: 0.5254: 100%|██████████| 40/40 [00:16<00:00,  2.45it/s]\n",
      "Val Loss: 0.4482: 100%|██████████| 10/10 [00:05<00:00,  1.92it/s]\n"
     ]
    },
    {
     "name": "stdout",
     "output_type": "stream",
     "text": [
      "Epoch 29 | Train Loss: 0.6820 | Train F1: 0.7406 | Val Loss: 0.5217 | Val F1: 0.9144\n"
     ]
    },
    {
     "name": "stderr",
     "output_type": "stream",
     "text": [
      "Loss: 0.6494: 100%|██████████| 40/40 [00:16<00:00,  2.50it/s]\n",
      "Val Loss: 0.4377: 100%|██████████| 10/10 [00:05<00:00,  1.93it/s]\n"
     ]
    },
    {
     "name": "stdout",
     "output_type": "stream",
     "text": [
      "Epoch 30 | Train Loss: 0.6071 | Train F1: 0.8589 | Val Loss: 0.5187 | Val F1: 0.9238\n"
     ]
    },
    {
     "name": "stderr",
     "output_type": "stream",
     "text": [
      "Loss: 0.7119: 100%|██████████| 40/40 [00:16<00:00,  2.47it/s]\n",
      "Val Loss: 0.4289: 100%|██████████| 10/10 [00:05<00:00,  1.89it/s]\n"
     ]
    },
    {
     "name": "stdout",
     "output_type": "stream",
     "text": [
      "Epoch 31 | Train Loss: 0.5596 | Train F1: 0.9001 | Val Loss: 0.4939 | Val F1: 0.9413\n"
     ]
    },
    {
     "name": "stderr",
     "output_type": "stream",
     "text": [
      "Loss: 0.3359: 100%|██████████| 40/40 [00:15<00:00,  2.50it/s]\n",
      "Val Loss: 0.3289: 100%|██████████| 10/10 [00:05<00:00,  1.96it/s]\n"
     ]
    },
    {
     "name": "stdout",
     "output_type": "stream",
     "text": [
      "Epoch 32 | Train Loss: 0.6418 | Train F1: 0.8364 | Val Loss: 0.4648 | Val F1: 0.9411\n"
     ]
    },
    {
     "name": "stderr",
     "output_type": "stream",
     "text": [
      "Loss: 0.3391: 100%|██████████| 40/40 [00:15<00:00,  2.52it/s]\n",
      "Val Loss: 0.3344: 100%|██████████| 10/10 [00:05<00:00,  1.89it/s]\n"
     ]
    },
    {
     "name": "stdout",
     "output_type": "stream",
     "text": [
      "Epoch 33 | Train Loss: 0.6459 | Train F1: 0.7872 | Val Loss: 0.4521 | Val F1: 0.9438\n"
     ]
    },
    {
     "name": "stderr",
     "output_type": "stream",
     "text": [
      "Loss: 0.3335: 100%|██████████| 40/40 [00:16<00:00,  2.41it/s]\n",
      "Val Loss: 0.3339: 100%|██████████| 10/10 [00:05<00:00,  1.89it/s]\n"
     ]
    },
    {
     "name": "stdout",
     "output_type": "stream",
     "text": [
      "Epoch 34 | Train Loss: 0.6807 | Train F1: 0.8326 | Val Loss: 0.4351 | Val F1: 0.9605\n"
     ]
    },
    {
     "name": "stderr",
     "output_type": "stream",
     "text": [
      "Loss: 1.0840: 100%|██████████| 40/40 [00:15<00:00,  2.53it/s]\n",
      "Val Loss: 0.4016: 100%|██████████| 10/10 [00:05<00:00,  1.97it/s]\n"
     ]
    },
    {
     "name": "stdout",
     "output_type": "stream",
     "text": [
      "Epoch 35 | Train Loss: 0.5784 | Train F1: 0.8762 | Val Loss: 0.5027 | Val F1: 0.9305\n"
     ]
    },
    {
     "name": "stderr",
     "output_type": "stream",
     "text": [
      "Loss: 0.3821: 100%|██████████| 40/40 [00:15<00:00,  2.54it/s]\n",
      "Val Loss: 0.3805: 100%|██████████| 10/10 [00:05<00:00,  1.92it/s]\n"
     ]
    },
    {
     "name": "stdout",
     "output_type": "stream",
     "text": [
      "Epoch 36 | Train Loss: 0.7262 | Train F1: 0.7749 | Val Loss: 0.4485 | Val F1: 0.9549\n"
     ]
    },
    {
     "name": "stderr",
     "output_type": "stream",
     "text": [
      "Loss: 0.6152: 100%|██████████| 40/40 [00:15<00:00,  2.50it/s]\n",
      "Val Loss: 0.4094: 100%|██████████| 10/10 [00:04<00:00,  2.01it/s]\n"
     ]
    },
    {
     "name": "stdout",
     "output_type": "stream",
     "text": [
      "Epoch 37 | Train Loss: 0.6956 | Train F1: 0.8035 | Val Loss: 0.5020 | Val F1: 0.9258\n"
     ]
    },
    {
     "name": "stderr",
     "output_type": "stream",
     "text": [
      "Loss: 0.8965: 100%|██████████| 40/40 [00:15<00:00,  2.50it/s]\n",
      "Val Loss: 0.3733: 100%|██████████| 10/10 [00:04<00:00,  2.00it/s]\n"
     ]
    },
    {
     "name": "stdout",
     "output_type": "stream",
     "text": [
      "Epoch 38 | Train Loss: 0.5843 | Train F1: 0.8912 | Val Loss: 0.4548 | Val F1: 0.9392\n"
     ]
    },
    {
     "name": "stderr",
     "output_type": "stream",
     "text": [
      "Loss: 0.3574: 100%|██████████| 40/40 [00:15<00:00,  2.53it/s]\n",
      "Val Loss: 0.3578: 100%|██████████| 10/10 [00:04<00:00,  2.00it/s]\n"
     ]
    },
    {
     "name": "stdout",
     "output_type": "stream",
     "text": [
      "Epoch 39 | Train Loss: 0.5981 | Train F1: 0.8267 | Val Loss: 0.4645 | Val F1: 0.9372\n"
     ]
    },
    {
     "name": "stderr",
     "output_type": "stream",
     "text": [
      "Loss: 0.4331: 100%|██████████| 40/40 [00:15<00:00,  2.50it/s]\n",
      "Val Loss: 0.3432: 100%|██████████| 10/10 [00:04<00:00,  2.04it/s]\n"
     ]
    },
    {
     "name": "stdout",
     "output_type": "stream",
     "text": [
      "Epoch 40 | Train Loss: 0.5402 | Train F1: 0.8883 | Val Loss: 0.4535 | Val F1: 0.9527\n"
     ]
    },
    {
     "name": "stderr",
     "output_type": "stream",
     "text": [
      "Loss: 0.3423: 100%|██████████| 40/40 [00:15<00:00,  2.50it/s]\n",
      "Val Loss: 0.3486: 100%|██████████| 10/10 [00:05<00:00,  1.92it/s]\n"
     ]
    },
    {
     "name": "stdout",
     "output_type": "stream",
     "text": [
      "Epoch 41 | Train Loss: 0.6513 | Train F1: 0.8017 | Val Loss: 0.4640 | Val F1: 0.9599\n"
     ]
    },
    {
     "name": "stderr",
     "output_type": "stream",
     "text": [
      "Loss: 0.7363: 100%|██████████| 40/40 [00:15<00:00,  2.50it/s]\n",
      "Val Loss: 0.3783: 100%|██████████| 10/10 [00:05<00:00,  1.82it/s]\n"
     ]
    },
    {
     "name": "stdout",
     "output_type": "stream",
     "text": [
      "Epoch 42 | Train Loss: 0.5950 | Train F1: 0.8300 | Val Loss: 0.4517 | Val F1: 0.9531\n"
     ]
    },
    {
     "name": "stderr",
     "output_type": "stream",
     "text": [
      "Loss: 0.3501: 100%|██████████| 40/40 [00:16<00:00,  2.48it/s]\n",
      "Val Loss: 0.3655: 100%|██████████| 10/10 [00:05<00:00,  1.97it/s]\n"
     ]
    },
    {
     "name": "stdout",
     "output_type": "stream",
     "text": [
      "Epoch 43 | Train Loss: 0.5692 | Train F1: 0.8364 | Val Loss: 0.4544 | Val F1: 0.9481\n"
     ]
    },
    {
     "name": "stderr",
     "output_type": "stream",
     "text": [
      "Loss: 1.1250: 100%|██████████| 40/40 [00:15<00:00,  2.55it/s]\n",
      "Val Loss: 0.3346: 100%|██████████| 10/10 [00:05<00:00,  1.89it/s]\n"
     ]
    },
    {
     "name": "stdout",
     "output_type": "stream",
     "text": [
      "Epoch 44 | Train Loss: 0.7231 | Train F1: 0.7975 | Val Loss: 0.4503 | Val F1: 0.9531\n"
     ]
    },
    {
     "name": "stderr",
     "output_type": "stream",
     "text": [
      "Loss: 0.3311: 100%|██████████| 40/40 [00:16<00:00,  2.45it/s]\n",
      "Val Loss: 0.3419: 100%|██████████| 10/10 [00:05<00:00,  1.93it/s]\n"
     ]
    },
    {
     "name": "stdout",
     "output_type": "stream",
     "text": [
      "Epoch 45 | Train Loss: 0.6796 | Train F1: 0.8117 | Val Loss: 0.4697 | Val F1: 0.9423\n"
     ]
    },
    {
     "name": "stderr",
     "output_type": "stream",
     "text": [
      "Loss: 0.5620: 100%|██████████| 40/40 [00:15<00:00,  2.52it/s]\n",
      "Val Loss: 0.3409: 100%|██████████| 10/10 [00:05<00:00,  1.97it/s]\n"
     ]
    },
    {
     "name": "stdout",
     "output_type": "stream",
     "text": [
      "Epoch 46 | Train Loss: 0.5612 | Train F1: 0.8618 | Val Loss: 0.4868 | Val F1: 0.9479\n"
     ]
    },
    {
     "name": "stderr",
     "output_type": "stream",
     "text": [
      "Loss: 0.9287: 100%|██████████| 40/40 [00:16<00:00,  2.44it/s]\n",
      "Val Loss: 0.3362: 100%|██████████| 10/10 [00:05<00:00,  1.97it/s]\n"
     ]
    },
    {
     "name": "stdout",
     "output_type": "stream",
     "text": [
      "Epoch 47 | Train Loss: 0.6556 | Train F1: 0.8004 | Val Loss: 0.4601 | Val F1: 0.9543\n"
     ]
    },
    {
     "name": "stderr",
     "output_type": "stream",
     "text": [
      "Loss: 0.3425: 100%|██████████| 40/40 [00:15<00:00,  2.53it/s]\n",
      "Val Loss: 0.4456: 100%|██████████| 10/10 [00:05<00:00,  1.93it/s]\n"
     ]
    },
    {
     "name": "stdout",
     "output_type": "stream",
     "text": [
      "Epoch 48 | Train Loss: 0.6014 | Train F1: 0.8676 | Val Loss: 0.4715 | Val F1: 0.9358\n"
     ]
    },
    {
     "name": "stderr",
     "output_type": "stream",
     "text": [
      "Loss: 1.2559: 100%|██████████| 40/40 [00:16<00:00,  2.44it/s]\n",
      "Val Loss: 0.3341: 100%|██████████| 10/10 [00:05<00:00,  1.96it/s]\n"
     ]
    },
    {
     "name": "stdout",
     "output_type": "stream",
     "text": [
      "Epoch 49 | Train Loss: 0.5786 | Train F1: 0.8849 | Val Loss: 0.4768 | Val F1: 0.9572\n"
     ]
    },
    {
     "name": "stderr",
     "output_type": "stream",
     "text": [
      "Loss: 0.3408: 100%|██████████| 40/40 [00:15<00:00,  2.50it/s]\n",
      "Val Loss: 0.3394: 100%|██████████| 10/10 [00:05<00:00,  1.92it/s]\n"
     ]
    },
    {
     "name": "stdout",
     "output_type": "stream",
     "text": [
      "Epoch 50 | Train Loss: 0.6269 | Train F1: 0.8498 | Val Loss: 0.4602 | Val F1: 0.9541\n",
      "Fold 4 Best Validation F1: 0.9622\n",
      "\n",
      "==================================================\n",
      "FOLD 5/5\n",
      "==================================================\n",
      "Train samples: 1256, Validation samples: 314\n"
     ]
    },
    {
     "name": "stderr",
     "output_type": "stream",
     "text": [
      "Loss: 1.8389: 100%|██████████| 40/40 [00:15<00:00,  2.53it/s]\n",
      "Val Loss: 1.4479: 100%|██████████| 10/10 [00:05<00:00,  1.95it/s]"
     ]
    },
    {
     "name": "stdout",
     "output_type": "stream",
     "text": [
      "Epoch  1 | Train Loss: 2.3969 | Train F1: 0.2795 | Val Loss: 1.6826 | Val F1: 0.5414\n"
     ]
    },
    {
     "name": "stderr",
     "output_type": "stream",
     "text": [
      "\n",
      "Loss: 1.9385: 100%|██████████| 40/40 [00:15<00:00,  2.53it/s]\n",
      "Val Loss: 0.9974: 100%|██████████| 10/10 [00:05<00:00,  1.95it/s]"
     ]
    },
    {
     "name": "stdout",
     "output_type": "stream",
     "text": [
      "Epoch  2 | Train Loss: 1.6262 | Train F1: 0.4929 | Val Loss: 1.1584 | Val F1: 0.6537\n"
     ]
    },
    {
     "name": "stderr",
     "output_type": "stream",
     "text": [
      "\n",
      "Loss: 0.9062: 100%|██████████| 40/40 [00:15<00:00,  2.50it/s]\n",
      "Val Loss: 0.7795: 100%|██████████| 10/10 [00:05<00:00,  1.96it/s]"
     ]
    },
    {
     "name": "stdout",
     "output_type": "stream",
     "text": [
      "Epoch  3 | Train Loss: 1.3246 | Train F1: 0.5911 | Val Loss: 0.8955 | Val F1: 0.7332\n"
     ]
    },
    {
     "name": "stderr",
     "output_type": "stream",
     "text": [
      "\n",
      "Loss: 1.8447: 100%|██████████| 40/40 [00:15<00:00,  2.50it/s]\n",
      "Val Loss: 0.6677: 100%|██████████| 10/10 [00:04<00:00,  2.00it/s]"
     ]
    },
    {
     "name": "stdout",
     "output_type": "stream",
     "text": [
      "Epoch  4 | Train Loss: 1.0970 | Train F1: 0.6660 | Val Loss: 0.7640 | Val F1: 0.7630\n"
     ]
    },
    {
     "name": "stderr",
     "output_type": "stream",
     "text": [
      "\n",
      "Loss: 0.8789: 100%|██████████| 40/40 [00:15<00:00,  2.53it/s]\n",
      "Val Loss: 0.6421: 100%|██████████| 10/10 [00:05<00:00,  1.92it/s]"
     ]
    },
    {
     "name": "stdout",
     "output_type": "stream",
     "text": [
      "Epoch  5 | Train Loss: 0.8890 | Train F1: 0.7636 | Val Loss: 0.6935 | Val F1: 0.8236\n"
     ]
    },
    {
     "name": "stderr",
     "output_type": "stream",
     "text": [
      "\n",
      "Loss: 0.8647: 100%|██████████| 40/40 [00:16<00:00,  2.50it/s]\n",
      "Val Loss: 0.6397: 100%|██████████| 10/10 [00:05<00:00,  1.82it/s]\n"
     ]
    },
    {
     "name": "stdout",
     "output_type": "stream",
     "text": [
      "Epoch  6 | Train Loss: 0.9801 | Train F1: 0.7249 | Val Loss: 0.6266 | Val F1: 0.8206\n"
     ]
    },
    {
     "name": "stderr",
     "output_type": "stream",
     "text": [
      "Loss: 0.4253: 100%|██████████| 40/40 [00:16<00:00,  2.41it/s]\n",
      "Val Loss: 0.5718: 100%|██████████| 10/10 [00:04<00:00,  2.04it/s]"
     ]
    },
    {
     "name": "stdout",
     "output_type": "stream",
     "text": [
      "Epoch  7 | Train Loss: 0.9162 | Train F1: 0.6993 | Val Loss: 0.5847 | Val F1: 0.8568\n"
     ]
    },
    {
     "name": "stderr",
     "output_type": "stream",
     "text": [
      "\n",
      "Loss: 0.5654: 100%|██████████| 40/40 [00:15<00:00,  2.51it/s]\n",
      "Val Loss: 0.5362: 100%|██████████| 10/10 [00:05<00:00,  1.97it/s]"
     ]
    },
    {
     "name": "stdout",
     "output_type": "stream",
     "text": [
      "Epoch  8 | Train Loss: 0.8120 | Train F1: 0.7620 | Val Loss: 0.5934 | Val F1: 0.8750\n"
     ]
    },
    {
     "name": "stderr",
     "output_type": "stream",
     "text": [
      "\n",
      "Loss: 1.6016: 100%|██████████| 40/40 [00:15<00:00,  2.56it/s]\n",
      "Val Loss: 0.5164: 100%|██████████| 10/10 [00:05<00:00,  1.96it/s]\n"
     ]
    },
    {
     "name": "stdout",
     "output_type": "stream",
     "text": [
      "Epoch  9 | Train Loss: 0.9568 | Train F1: 0.7587 | Val Loss: 0.5976 | Val F1: 0.8505\n"
     ]
    },
    {
     "name": "stderr",
     "output_type": "stream",
     "text": [
      "Loss: 0.4414: 100%|██████████| 40/40 [00:15<00:00,  2.50it/s]\n",
      "Val Loss: 0.4907: 100%|██████████| 10/10 [00:05<00:00,  1.92it/s]\n"
     ]
    },
    {
     "name": "stdout",
     "output_type": "stream",
     "text": [
      "Epoch 10 | Train Loss: 0.8003 | Train F1: 0.7580 | Val Loss: 0.5784 | Val F1: 0.8630\n"
     ]
    },
    {
     "name": "stderr",
     "output_type": "stream",
     "text": [
      "Loss: 0.4697: 100%|██████████| 40/40 [00:15<00:00,  2.55it/s]\n",
      "Val Loss: 0.5073: 100%|██████████| 10/10 [00:05<00:00,  1.85it/s]"
     ]
    },
    {
     "name": "stdout",
     "output_type": "stream",
     "text": [
      "Epoch 11 | Train Loss: 0.7805 | Train F1: 0.7505 | Val Loss: 0.5504 | Val F1: 0.8870\n"
     ]
    },
    {
     "name": "stderr",
     "output_type": "stream",
     "text": [
      "\n",
      "Loss: 0.8149: 100%|██████████| 40/40 [00:15<00:00,  2.56it/s]\n",
      "Val Loss: 0.7054: 100%|██████████| 10/10 [00:05<00:00,  1.97it/s]"
     ]
    },
    {
     "name": "stdout",
     "output_type": "stream",
     "text": [
      "Epoch 12 | Train Loss: 0.7041 | Train F1: 0.8089 | Val Loss: 0.5864 | Val F1: 0.8916\n"
     ]
    },
    {
     "name": "stderr",
     "output_type": "stream",
     "text": [
      "\n",
      "Loss: 0.4932: 100%|██████████| 40/40 [00:15<00:00,  2.55it/s]\n",
      "Val Loss: 0.4267: 100%|██████████| 10/10 [00:05<00:00,  1.97it/s]"
     ]
    },
    {
     "name": "stdout",
     "output_type": "stream",
     "text": [
      "Epoch 13 | Train Loss: 0.7786 | Train F1: 0.7492 | Val Loss: 0.5426 | Val F1: 0.9013\n"
     ]
    },
    {
     "name": "stderr",
     "output_type": "stream",
     "text": [
      "\n",
      "Loss: 1.5908: 100%|██████████| 40/40 [00:16<00:00,  2.48it/s]\n",
      "Val Loss: 0.4368: 100%|██████████| 10/10 [00:05<00:00,  1.92it/s]"
     ]
    },
    {
     "name": "stdout",
     "output_type": "stream",
     "text": [
      "Epoch 14 | Train Loss: 0.7048 | Train F1: 0.8073 | Val Loss: 0.5219 | Val F1: 0.9131\n"
     ]
    },
    {
     "name": "stderr",
     "output_type": "stream",
     "text": [
      "\n",
      "Loss: 0.4644: 100%|██████████| 40/40 [00:15<00:00,  2.56it/s]\n",
      "Val Loss: 0.4478: 100%|██████████| 10/10 [00:05<00:00,  1.93it/s]"
     ]
    },
    {
     "name": "stdout",
     "output_type": "stream",
     "text": [
      "Epoch 15 | Train Loss: 0.7831 | Train F1: 0.8183 | Val Loss: 0.5383 | Val F1: 0.9208\n"
     ]
    },
    {
     "name": "stderr",
     "output_type": "stream",
     "text": [
      "\n",
      "Loss: 0.7207: 100%|██████████| 40/40 [00:15<00:00,  2.58it/s]\n",
      "Val Loss: 0.4382: 100%|██████████| 10/10 [00:05<00:00,  1.93it/s]"
     ]
    },
    {
     "name": "stdout",
     "output_type": "stream",
     "text": [
      "Epoch 16 | Train Loss: 0.7071 | Train F1: 0.7844 | Val Loss: 0.5015 | Val F1: 0.9364\n"
     ]
    },
    {
     "name": "stderr",
     "output_type": "stream",
     "text": [
      "\n",
      "Loss: 0.8877: 100%|██████████| 40/40 [00:16<00:00,  2.45it/s]\n",
      "Val Loss: 0.4743: 100%|██████████| 10/10 [00:05<00:00,  1.95it/s]\n"
     ]
    },
    {
     "name": "stdout",
     "output_type": "stream",
     "text": [
      "Epoch 17 | Train Loss: 0.6971 | Train F1: 0.8258 | Val Loss: 0.5141 | Val F1: 0.9207\n"
     ]
    },
    {
     "name": "stderr",
     "output_type": "stream",
     "text": [
      "Loss: 0.6523: 100%|██████████| 40/40 [00:15<00:00,  2.55it/s]\n",
      "Val Loss: 0.6245: 100%|██████████| 10/10 [00:05<00:00,  1.86it/s]\n"
     ]
    },
    {
     "name": "stdout",
     "output_type": "stream",
     "text": [
      "Epoch 18 | Train Loss: 0.7097 | Train F1: 0.7765 | Val Loss: 0.5380 | Val F1: 0.9058\n"
     ]
    },
    {
     "name": "stderr",
     "output_type": "stream",
     "text": [
      "Loss: 0.4478: 100%|██████████| 40/40 [00:16<00:00,  2.48it/s]\n",
      "Val Loss: 0.3834: 100%|██████████| 10/10 [00:05<00:00,  1.99it/s]\n"
     ]
    },
    {
     "name": "stdout",
     "output_type": "stream",
     "text": [
      "Epoch 19 | Train Loss: 0.8275 | Train F1: 0.7991 | Val Loss: 0.5067 | Val F1: 0.9214\n"
     ]
    },
    {
     "name": "stderr",
     "output_type": "stream",
     "text": [
      "Loss: 0.5869: 100%|██████████| 40/40 [00:15<00:00,  2.53it/s]\n",
      "Val Loss: 0.3523: 100%|██████████| 10/10 [00:05<00:00,  1.90it/s]\n"
     ]
    },
    {
     "name": "stdout",
     "output_type": "stream",
     "text": [
      "Epoch 20 | Train Loss: 0.7484 | Train F1: 0.7746 | Val Loss: 0.4973 | Val F1: 0.9270\n"
     ]
    },
    {
     "name": "stderr",
     "output_type": "stream",
     "text": [
      "Loss: 0.5615: 100%|██████████| 40/40 [00:16<00:00,  2.50it/s]\n",
      "Val Loss: 0.3524: 100%|██████████| 10/10 [00:05<00:00,  1.82it/s]\n"
     ]
    },
    {
     "name": "stdout",
     "output_type": "stream",
     "text": [
      "Epoch 21 | Train Loss: 0.7252 | Train F1: 0.8199 | Val Loss: 0.5400 | Val F1: 0.9166\n"
     ]
    },
    {
     "name": "stderr",
     "output_type": "stream",
     "text": [
      "Loss: 0.9419: 100%|██████████| 40/40 [00:15<00:00,  2.57it/s]\n",
      "Val Loss: 0.3752: 100%|██████████| 10/10 [00:05<00:00,  1.86it/s]\n"
     ]
    },
    {
     "name": "stdout",
     "output_type": "stream",
     "text": [
      "Epoch 22 | Train Loss: 0.6215 | Train F1: 0.8745 | Val Loss: 0.5034 | Val F1: 0.9317\n"
     ]
    },
    {
     "name": "stderr",
     "output_type": "stream",
     "text": [
      "Loss: 1.0508: 100%|██████████| 40/40 [00:15<00:00,  2.52it/s]\n",
      "Val Loss: 0.3758: 100%|██████████| 10/10 [00:04<00:00,  2.01it/s]"
     ]
    },
    {
     "name": "stdout",
     "output_type": "stream",
     "text": [
      "Epoch 23 | Train Loss: 0.6955 | Train F1: 0.7385 | Val Loss: 0.4696 | Val F1: 0.9497\n"
     ]
    },
    {
     "name": "stderr",
     "output_type": "stream",
     "text": [
      "\n",
      "Loss: 0.3879: 100%|██████████| 40/40 [00:15<00:00,  2.53it/s]\n",
      "Val Loss: 0.4408: 100%|██████████| 10/10 [00:05<00:00,  1.93it/s]\n"
     ]
    },
    {
     "name": "stdout",
     "output_type": "stream",
     "text": [
      "Epoch 24 | Train Loss: 0.6674 | Train F1: 0.8307 | Val Loss: 0.5753 | Val F1: 0.9085\n"
     ]
    },
    {
     "name": "stderr",
     "output_type": "stream",
     "text": [
      "Loss: 0.7227: 100%|██████████| 40/40 [00:15<00:00,  2.51it/s]\n",
      "Val Loss: 0.3459: 100%|██████████| 10/10 [00:04<00:00,  2.08it/s]\n"
     ]
    },
    {
     "name": "stdout",
     "output_type": "stream",
     "text": [
      "Epoch 25 | Train Loss: 0.6805 | Train F1: 0.8031 | Val Loss: 0.5131 | Val F1: 0.9376\n"
     ]
    },
    {
     "name": "stderr",
     "output_type": "stream",
     "text": [
      "Loss: 0.9717: 100%|██████████| 40/40 [00:15<00:00,  2.53it/s]\n",
      "Val Loss: 0.4391: 100%|██████████| 10/10 [00:05<00:00,  1.97it/s]\n"
     ]
    },
    {
     "name": "stdout",
     "output_type": "stream",
     "text": [
      "Epoch 26 | Train Loss: 0.6058 | Train F1: 0.8864 | Val Loss: 0.5174 | Val F1: 0.9226\n"
     ]
    },
    {
     "name": "stderr",
     "output_type": "stream",
     "text": [
      "Loss: 0.9927: 100%|██████████| 40/40 [00:15<00:00,  2.58it/s]\n",
      "Val Loss: 0.3375: 100%|██████████| 10/10 [00:05<00:00,  1.89it/s]\n"
     ]
    },
    {
     "name": "stdout",
     "output_type": "stream",
     "text": [
      "Epoch 27 | Train Loss: 0.7098 | Train F1: 0.7720 | Val Loss: 0.4956 | Val F1: 0.9354\n"
     ]
    },
    {
     "name": "stderr",
     "output_type": "stream",
     "text": [
      "Loss: 0.6392: 100%|██████████| 40/40 [00:15<00:00,  2.52it/s]\n",
      "Val Loss: 0.3564: 100%|██████████| 10/10 [00:05<00:00,  1.96it/s]\n"
     ]
    },
    {
     "name": "stdout",
     "output_type": "stream",
     "text": [
      "Epoch 28 | Train Loss: 0.6315 | Train F1: 0.8393 | Val Loss: 0.5009 | Val F1: 0.9344\n"
     ]
    },
    {
     "name": "stderr",
     "output_type": "stream",
     "text": [
      "Loss: 1.4512: 100%|██████████| 40/40 [00:15<00:00,  2.58it/s]\n",
      "Val Loss: 0.3661: 100%|██████████| 10/10 [00:04<00:00,  2.04it/s]\n"
     ]
    },
    {
     "name": "stdout",
     "output_type": "stream",
     "text": [
      "Epoch 29 | Train Loss: 0.6538 | Train F1: 0.8431 | Val Loss: 0.5040 | Val F1: 0.9231\n"
     ]
    },
    {
     "name": "stderr",
     "output_type": "stream",
     "text": [
      "Loss: 0.9253: 100%|██████████| 40/40 [00:15<00:00,  2.52it/s]\n",
      "Val Loss: 0.3470: 100%|██████████| 10/10 [00:04<00:00,  2.05it/s]\n"
     ]
    },
    {
     "name": "stdout",
     "output_type": "stream",
     "text": [
      "Epoch 30 | Train Loss: 0.6101 | Train F1: 0.8512 | Val Loss: 0.4966 | Val F1: 0.9375\n"
     ]
    },
    {
     "name": "stderr",
     "output_type": "stream",
     "text": [
      "Loss: 0.9150: 100%|██████████| 40/40 [00:16<00:00,  2.49it/s]\n",
      "Val Loss: 0.3554: 100%|██████████| 10/10 [00:05<00:00,  1.93it/s]\n"
     ]
    },
    {
     "name": "stdout",
     "output_type": "stream",
     "text": [
      "Epoch 31 | Train Loss: 0.5636 | Train F1: 0.9004 | Val Loss: 0.4975 | Val F1: 0.9345\n"
     ]
    },
    {
     "name": "stderr",
     "output_type": "stream",
     "text": [
      "Loss: 0.9341: 100%|██████████| 40/40 [00:16<00:00,  2.47it/s]\n",
      "Val Loss: 0.4027: 100%|██████████| 10/10 [00:05<00:00,  1.88it/s]\n"
     ]
    },
    {
     "name": "stdout",
     "output_type": "stream",
     "text": [
      "Epoch 32 | Train Loss: 0.6026 | Train F1: 0.8556 | Val Loss: 0.5422 | Val F1: 0.9178\n"
     ]
    },
    {
     "name": "stderr",
     "output_type": "stream",
     "text": [
      "Loss: 1.1377: 100%|██████████| 40/40 [00:15<00:00,  2.52it/s]\n",
      "Val Loss: 0.3606: 100%|██████████| 10/10 [00:04<00:00,  2.00it/s]\n"
     ]
    },
    {
     "name": "stdout",
     "output_type": "stream",
     "text": [
      "Epoch 33 | Train Loss: 0.6638 | Train F1: 0.8188 | Val Loss: 0.4879 | Val F1: 0.9308\n"
     ]
    },
    {
     "name": "stderr",
     "output_type": "stream",
     "text": [
      "Loss: 0.3425: 100%|██████████| 40/40 [00:16<00:00,  2.46it/s]\n",
      "Val Loss: 0.3560: 100%|██████████| 10/10 [00:05<00:00,  1.85it/s]\n"
     ]
    },
    {
     "name": "stdout",
     "output_type": "stream",
     "text": [
      "Epoch 34 | Train Loss: 0.6852 | Train F1: 0.8204 | Val Loss: 0.5109 | Val F1: 0.9430\n"
     ]
    },
    {
     "name": "stderr",
     "output_type": "stream",
     "text": [
      "Loss: 0.3730: 100%|██████████| 40/40 [00:15<00:00,  2.52it/s]\n",
      "Val Loss: 0.3604: 100%|██████████| 10/10 [00:04<00:00,  2.01it/s]\n"
     ]
    },
    {
     "name": "stdout",
     "output_type": "stream",
     "text": [
      "Epoch 35 | Train Loss: 0.5593 | Train F1: 0.8515 | Val Loss: 0.5067 | Val F1: 0.9426\n"
     ]
    },
    {
     "name": "stderr",
     "output_type": "stream",
     "text": [
      "Loss: 0.6953: 100%|██████████| 40/40 [00:15<00:00,  2.60it/s]\n",
      "Val Loss: 0.3465: 100%|██████████| 10/10 [00:04<00:00,  2.00it/s]\n"
     ]
    },
    {
     "name": "stdout",
     "output_type": "stream",
     "text": [
      "Epoch 36 | Train Loss: 0.5831 | Train F1: 0.8831 | Val Loss: 0.5333 | Val F1: 0.9320\n"
     ]
    },
    {
     "name": "stderr",
     "output_type": "stream",
     "text": [
      "Loss: 0.9868: 100%|██████████| 40/40 [00:16<00:00,  2.44it/s]\n",
      "Val Loss: 0.3372: 100%|██████████| 10/10 [00:04<00:00,  2.00it/s]\n"
     ]
    },
    {
     "name": "stdout",
     "output_type": "stream",
     "text": [
      "Epoch 37 | Train Loss: 0.6071 | Train F1: 0.7995 | Val Loss: 0.4914 | Val F1: 0.9469\n"
     ]
    },
    {
     "name": "stderr",
     "output_type": "stream",
     "text": [
      "Loss: 0.7100: 100%|██████████| 40/40 [00:15<00:00,  2.53it/s]\n",
      "Val Loss: 0.3306: 100%|██████████| 10/10 [00:04<00:00,  2.00it/s]\n"
     ]
    },
    {
     "name": "stdout",
     "output_type": "stream",
     "text": [
      "Epoch 38 | Train Loss: 0.6096 | Train F1: 0.8025 | Val Loss: 0.4904 | Val F1: 0.9453\n"
     ]
    },
    {
     "name": "stderr",
     "output_type": "stream",
     "text": [
      "Loss: 0.3298: 100%|██████████| 40/40 [00:15<00:00,  2.52it/s]\n",
      "Val Loss: 0.3382: 100%|██████████| 10/10 [00:05<00:00,  1.92it/s]\n"
     ]
    },
    {
     "name": "stdout",
     "output_type": "stream",
     "text": [
      "Epoch 39 | Train Loss: 0.7034 | Train F1: 0.7487 | Val Loss: 0.5055 | Val F1: 0.9476\n"
     ]
    },
    {
     "name": "stderr",
     "output_type": "stream",
     "text": [
      "Loss: 1.1807: 100%|██████████| 40/40 [00:15<00:00,  2.55it/s]\n",
      "Val Loss: 0.3354: 100%|██████████| 10/10 [00:05<00:00,  1.86it/s]\n"
     ]
    },
    {
     "name": "stdout",
     "output_type": "stream",
     "text": [
      "Epoch 40 | Train Loss: 0.7598 | Train F1: 0.7557 | Val Loss: 0.5102 | Val F1: 0.9418\n"
     ]
    },
    {
     "name": "stderr",
     "output_type": "stream",
     "text": [
      "Loss: 0.3289: 100%|██████████| 40/40 [00:15<00:00,  2.55it/s]\n",
      "Val Loss: 0.3469: 100%|██████████| 10/10 [00:05<00:00,  1.97it/s]\n"
     ]
    },
    {
     "name": "stdout",
     "output_type": "stream",
     "text": [
      "Epoch 41 | Train Loss: 0.6386 | Train F1: 0.8953 | Val Loss: 0.5290 | Val F1: 0.9293\n"
     ]
    },
    {
     "name": "stderr",
     "output_type": "stream",
     "text": [
      "Loss: 0.3342: 100%|██████████| 40/40 [00:15<00:00,  2.54it/s]\n",
      "Val Loss: 0.3492: 100%|██████████| 10/10 [00:05<00:00,  2.00it/s]\n"
     ]
    },
    {
     "name": "stdout",
     "output_type": "stream",
     "text": [
      "Epoch 42 | Train Loss: 0.5205 | Train F1: 0.8638 | Val Loss: 0.5188 | Val F1: 0.9300\n"
     ]
    },
    {
     "name": "stderr",
     "output_type": "stream",
     "text": [
      "Loss: 1.1504: 100%|██████████| 40/40 [00:15<00:00,  2.52it/s]\n",
      "Val Loss: 0.3377: 100%|██████████| 10/10 [00:05<00:00,  1.85it/s]\n"
     ]
    },
    {
     "name": "stdout",
     "output_type": "stream",
     "text": [
      "Epoch 43 | Train Loss: 0.6655 | Train F1: 0.7673 | Val Loss: 0.5220 | Val F1: 0.9258\n"
     ]
    },
    {
     "name": "stderr",
     "output_type": "stream",
     "text": [
      "Loss: 0.3857: 100%|██████████| 40/40 [00:15<00:00,  2.54it/s]\n",
      "Val Loss: 0.3348: 100%|██████████| 10/10 [00:05<00:00,  1.85it/s]\n"
     ]
    },
    {
     "name": "stdout",
     "output_type": "stream",
     "text": [
      "Epoch 44 | Train Loss: 0.5736 | Train F1: 0.8407 | Val Loss: 0.5165 | Val F1: 0.9328\n"
     ]
    },
    {
     "name": "stderr",
     "output_type": "stream",
     "text": [
      "Loss: 0.7588: 100%|██████████| 40/40 [00:16<00:00,  2.45it/s]\n",
      "Val Loss: 0.3421: 100%|██████████| 10/10 [00:05<00:00,  1.93it/s]\n"
     ]
    },
    {
     "name": "stdout",
     "output_type": "stream",
     "text": [
      "Epoch 45 | Train Loss: 0.6190 | Train F1: 0.8091 | Val Loss: 0.5107 | Val F1: 0.9430\n"
     ]
    },
    {
     "name": "stderr",
     "output_type": "stream",
     "text": [
      "Loss: 0.3606: 100%|██████████| 40/40 [00:16<00:00,  2.42it/s]\n",
      "Val Loss: 0.3425: 100%|██████████| 10/10 [00:05<00:00,  2.00it/s]\n"
     ]
    },
    {
     "name": "stdout",
     "output_type": "stream",
     "text": [
      "Epoch 46 | Train Loss: 0.5682 | Train F1: 0.8432 | Val Loss: 0.4937 | Val F1: 0.9344\n"
     ]
    },
    {
     "name": "stderr",
     "output_type": "stream",
     "text": [
      "Loss: 0.3574: 100%|██████████| 40/40 [00:16<00:00,  2.50it/s]\n",
      "Val Loss: 0.3340: 100%|██████████| 10/10 [00:04<00:00,  2.08it/s]\n"
     ]
    },
    {
     "name": "stdout",
     "output_type": "stream",
     "text": [
      "Epoch 47 | Train Loss: 0.5086 | Train F1: 0.8994 | Val Loss: 0.4979 | Val F1: 0.9360\n"
     ]
    },
    {
     "name": "stderr",
     "output_type": "stream",
     "text": [
      "Loss: 0.3669: 100%|██████████| 40/40 [00:15<00:00,  2.56it/s]\n",
      "Val Loss: 0.3459: 100%|██████████| 10/10 [00:05<00:00,  1.93it/s]\n"
     ]
    },
    {
     "name": "stdout",
     "output_type": "stream",
     "text": [
      "Epoch 48 | Train Loss: 0.5991 | Train F1: 0.8479 | Val Loss: 0.5133 | Val F1: 0.9358\n"
     ]
    },
    {
     "name": "stderr",
     "output_type": "stream",
     "text": [
      "Loss: 1.0039: 100%|██████████| 40/40 [00:16<00:00,  2.48it/s]\n",
      "Val Loss: 0.3333: 100%|██████████| 10/10 [00:05<00:00,  1.86it/s]\n"
     ]
    },
    {
     "name": "stdout",
     "output_type": "stream",
     "text": [
      "Epoch 49 | Train Loss: 0.6287 | Train F1: 0.8316 | Val Loss: 0.4880 | Val F1: 0.9487\n"
     ]
    },
    {
     "name": "stderr",
     "output_type": "stream",
     "text": [
      "Loss: 0.6548: 100%|██████████| 40/40 [00:16<00:00,  2.47it/s]\n",
      "Val Loss: 0.3318: 100%|██████████| 10/10 [00:05<00:00,  1.88it/s]"
     ]
    },
    {
     "name": "stdout",
     "output_type": "stream",
     "text": [
      "Epoch 50 | Train Loss: 0.7221 | Train F1: 0.7644 | Val Loss: 0.4915 | Val F1: 0.9368\n",
      "Fold 5 Best Validation F1: 0.9497\n",
      "\n",
      "============================================================\n",
      "K-FOLD CROSS VALIDATION RESULTS\n",
      "============================================================\n",
      "Fold 1: 0.9634\n",
      "Fold 2: 0.9691\n",
      "Fold 3: 0.9466\n",
      "Fold 4: 0.9622\n",
      "Fold 5: 0.9497\n",
      "\n",
      "Mean CV F1: 0.9582 ± 0.0086\n",
      "Best single fold: 0.9691\n"
     ]
    },
    {
     "name": "stderr",
     "output_type": "stream",
     "text": [
      "\n"
     ]
    }
   ],
   "source": [
    "# OCR 초기화\n",
    "print(\"Initializing OCR system...\")\n",
    "ocr_extractor = OCRTextExtractor(lang='en')\n",
    "\n",
    "# K-Fold 설정\n",
    "N_FOLDS = 5  # 5-fold로 설정 (데이터가 적으므로)\n",
    "skf = StratifiedKFold(n_splits=N_FOLDS, shuffle=True, random_state=42)\n",
    "\n",
    "# 클래스별 최소 샘플 보장 확인\n",
    "# for fold, (train_idx, val_idx) in enumerate(skf.split(train_df, train_df['target'])):\n",
    "#     assert len(np.unique(train_df.iloc[val_idx]['target'])) == 17\n",
    "\n",
    "# 전체 학습 데이터 로드\n",
    "train_df = pd.read_csv(\"../data/train.csv\")\n",
    "\n",
    "# K-Fold 결과를 저장할 리스트\n",
    "fold_results = []\n",
    "fold_models = []  # 각 fold의 최고 성능 모델을 저장\n",
    "fold_class_accuracies = [] # 각 fold의 클래스별 정확도 저장\n",
    "\n",
    "print(f\"Starting {N_FOLDS}-Fold Cross Validation...\")\n",
    "\n",
    "# LR = best_params['lr']\n",
    "# BATCH_SIZE = best_params['batch_size']\n",
    "\n",
    "# K-Fold Cross Validation 시작\n",
    "for fold, (train_idx, val_idx) in enumerate(skf.split(train_df, train_df['target'])):\n",
    "    print(f\"\\n{'='*50}\")\n",
    "    print(f\"FOLD {fold + 1}/{N_FOLDS}\")\n",
    "    print(f\"{'='*50}\")\n",
    "    \n",
    "    current_model = model_name\n",
    "    \n",
    "    # 현재 fold의 train/validation 데이터 분할\n",
    "    train_fold_df = train_df.iloc[train_idx].reset_index(drop=True)\n",
    "    val_fold_df = train_df.iloc[val_idx].reset_index(drop=True)\n",
    "    \n",
    "    # 현재 fold의 Dataset 생성\n",
    "    trn_dataset = ImageDataset(\n",
    "        train_fold_df,\n",
    "        \"../data/train/\",\n",
    "        # transform=trn_transform\n",
    "        ocr_extractor=ocr_extractor,  # OCR 추가\n",
    "        epoch=0,  # 현재 epoch 전달\n",
    "        total_epochs=EPOCHS,\n",
    "        is_train=True\n",
    "    )\n",
    "    \n",
    "    val_dataset = ImageDataset(\n",
    "        val_fold_df,\n",
    "        \"../data/train/\",\n",
    "        # transform=tst_transform  # 검증에는 증강 적용 안함\n",
    "        epoch=0,  # validation은 epoch 관계없음\n",
    "        total_epochs=EPOCHS,\n",
    "        is_train=False  # validation이므로 hard augmentation 비활성화\n",
    "    )\n",
    "    \n",
    "    # 현재 fold의 DataLoader 생성\n",
    "    trn_loader = DataLoader(\n",
    "        trn_dataset,\n",
    "        batch_size=BATCH_SIZE,\n",
    "        shuffle=True,\n",
    "        num_workers=num_workers,\n",
    "        pin_memory=True,\n",
    "        drop_last=False\n",
    "    )\n",
    "    \n",
    "    val_loader = DataLoader(\n",
    "        val_dataset,\n",
    "        batch_size=BATCH_SIZE,\n",
    "        shuffle=False,\n",
    "        num_workers=num_workers,\n",
    "        pin_memory=True\n",
    "    )\n",
    "    \n",
    "    print(f\"Train samples: {len(trn_dataset)}, Validation samples: {len(val_dataset)}\")\n",
    "    \n",
    "    # 모델 초기화 (각 fold마다 새로운 모델)\n",
    "    model = MultiModalModel(\n",
    "        current_model,\n",
    "        num_classes=17\n",
    "    ).to(device)\n",
    "    \n",
    "    loss_fn = nn.CrossEntropyLoss(label_smoothing=0.05)  # Label Smoothing 적용\n",
    "    optimizer = Adam(model.parameters(), lr=LR)\n",
    "    \n",
    "    # Learning Rate Scheduler 추가\n",
    "    scheduler = CosineAnnealingLR(optimizer, T_max=EPOCHS)\n",
    "    \n",
    "    # 현재 fold의 최고 성능 추적\n",
    "    best_val_f1 = 0.0\n",
    "    best_model = None\n",
    "    \n",
    "    # 현재 fold 학습\n",
    "    for epoch in range(EPOCHS):\n",
    "        # Dataset epoch 업데이트 (적응형 augmentation)\n",
    "        trn_dataset.set_epoch(epoch)\n",
    "        \n",
    "        # Training\n",
    "        train_ret = train_one_epoch(trn_loader, model, optimizer, loss_fn, device)\n",
    "        \n",
    "        # Validation\n",
    "        val_ret = validate_one_epoch(val_loader, model, loss_fn, device)\n",
    "        \n",
    "        # Scheduler step 추가\n",
    "        scheduler.step()\n",
    "        \n",
    "        print(f\"Epoch {epoch+1:2d} | \"\n",
    "              f\"Train Loss: {train_ret['train_loss']:.4f} | \"\n",
    "              f\"Train F1: {train_ret['train_f1']:.4f} | \"\n",
    "              f\"Val Loss: {val_ret['val_loss']:.4f} | \"\n",
    "              f\"Val F1: {val_ret['val_f1']:.4f}\")\n",
    "        \n",
    "        # 최고 성능 모델 저장\n",
    "        if val_ret['val_f1'] > best_val_f1:\n",
    "            best_val_f1 = val_ret['val_f1']\n",
    "            best_model = copy.deepcopy(model.state_dict())\n",
    "            \n",
    "            # Best 모델 분석\n",
    "            model.eval()\n",
    "            val_preds, val_targets = [], []\n",
    "            with torch.no_grad():\n",
    "                for image, targets, text_embeddings in val_loader:\n",
    "                    text_embeddings = text_embeddings.to(device) if text_embeddings is not None else None\n",
    "                    preds = model(image.to(device), text_embeddings).argmax(dim=1)  # 멀티모달 모델 호출\n",
    "                    val_preds.extend(preds.cpu().numpy())\n",
    "                    val_targets.extend(targets.numpy())\n",
    "            \n",
    "            # 클래스별 정확도\n",
    "            fold_class_acc = {}\n",
    "            for c in range(17):\n",
    "                mask = np.array(val_targets) == c\n",
    "                if mask.sum() > 0:\n",
    "                    fold_class_acc[c] = (np.array(val_preds)[mask] == c).mean()\n",
    "    \n",
    "    # 현재 fold 결과 저장\n",
    "    fold_results.append({\n",
    "        'fold': fold + 1,\n",
    "        'best_val_f1': best_val_f1,\n",
    "        'train_samples': len(trn_dataset),\n",
    "        'val_samples': len(val_dataset)\n",
    "    })\n",
    "    \n",
    "    fold_models.append(best_model)\n",
    "    \n",
    "    print(f\"Fold {fold + 1} Best Validation F1: {best_val_f1:.4f}\")\n",
    "    \n",
    "    fold_class_accuracies.append(fold_class_acc) # 각 fold의 클래스별 정확도 저장\n",
    "\n",
    "# K-Fold 결과 요약\n",
    "print(f\"\\n{'='*60}\")\n",
    "print(\"K-FOLD CROSS VALIDATION RESULTS\")\n",
    "print(f\"{'='*60}\")\n",
    "\n",
    "val_f1_scores = [result['best_val_f1'] for result in fold_results]\n",
    "mean_f1 = np.mean(val_f1_scores)\n",
    "std_f1 = np.std(val_f1_scores)\n",
    "\n",
    "for result in fold_results:\n",
    "    print(f\"Fold {result['fold']}: {result['best_val_f1']:.4f}\")\n",
    "\n",
    "print(f\"\\nMean CV F1: {mean_f1:.4f} ± {std_f1:.4f}\")\n",
    "print(f\"Best single fold: {max(val_f1_scores):.4f}\")"
   ]
  },
  {
   "cell_type": "code",
   "execution_count": 12,
   "metadata": {},
   "outputs": [
    {
     "data": {
      "image/png": "[encoded data removed]",
      "text/plain": [
       "<Figure size 1500x800 with 1 Axes>"
      ]
     },
     "metadata": {},
     "output_type": "display_data"
    },
    {
     "name": "stdout",
     "output_type": "stream",
     "text": [
      "Worst 3 classes:\n",
      "Class 7: 70.0%\n",
      "Class 14: 74.0%\n",
      "Class 3: 80.0%\n"
     ]
    }
   ],
   "source": [
    "# 클래스별 성능 시각화\n",
    "meta_df = pd.read_csv(\"../data/meta.csv\")\n",
    "avg_acc = {c: np.mean([f.get(c,0) for f in fold_class_accuracies]) for c in range(17)}\n",
    "\n",
    "plt.figure(figsize=(15, 8))\n",
    "classes = list(avg_acc.keys())\n",
    "accs = [avg_acc[c] * 100 for c in classes]\n",
    "names = [f\"C{c}\" for c in classes]\n",
    "\n",
    "plt.bar(range(17), accs)\n",
    "plt.xticks(range(17), names)\n",
    "plt.ylabel('Accuracy (%)')\n",
    "plt.title('Class-wise Prediction Accuracy')\n",
    "for i, acc in enumerate(accs):\n",
    "    plt.text(i, acc + 1, f'{acc:.1f}%', ha='center', fontsize=8)\n",
    "plt.tight_layout()\n",
    "plt.show()\n",
    "\n",
    "print(\"Worst 3 classes:\")\n",
    "worst = sorted(avg_acc.items(), key=lambda x: x[1])[:3]\n",
    "for c, acc in worst:\n",
    "    print(f\"Class {c}: {acc*100:.1f}%\")"
   ]
  },
  {
   "cell_type": "code",
   "execution_count": 13,
   "metadata": {},
   "outputs": [
    {
     "name": "stdout",
     "output_type": "stream",
     "text": [
      "Using ensemble of all 5 fold models for inference\n"
     ]
    }
   ],
   "source": [
    "# 5-Fold 앙상블 모델 준비\n",
    "ensemble_models = []\n",
    "for i, state_dict in enumerate(fold_models):\n",
    "    fold_model = MultiModalModel(model_name, num_classes=17).to(device)\n",
    "    fold_model.eval()\n",
    "    ensemble_models.append(fold_model)\n",
    "print(f\"Using ensemble of all {len(ensemble_models)} fold models for inference\")"
   ]
  },
  {
   "attachments": {},
   "cell_type": "markdown",
   "metadata": {
    "id": "Nmm5h3J-pXNV"
   },
   "source": [
    "## 5. Train Model\n",
    "* 모델을 로드하고, 학습을 진행합니다."
   ]
  },
  {
   "attachments": {},
   "cell_type": "markdown",
   "metadata": {
    "id": "lkwxRXoBpbaX"
   },
   "source": [
    "# 6. Inference & Save File\n",
    "* 테스트 이미지에 대한 추론을 진행하고, 결과 파일을 저장합니다."
   ]
  },
  {
   "cell_type": "code",
   "execution_count": 14,
   "metadata": {},
   "outputs": [],
   "source": [
    "# Temperature Scaling 클래스 정의\n",
    "class TemperatureScaling(nn.Module):\n",
    "    def __init__(self):\n",
    "        super().__init__()\n",
    "        self.temperature = nn.Parameter(torch.ones(1) * 1.5)\n",
    "    \n",
    "    def forward(self, logits):\n",
    "        return logits / self.temperature"
   ]
  },
  {
   "cell_type": "code",
   "execution_count": 15,
   "metadata": {},
   "outputs": [],
   "source": [
    "essential_tta_transforms = [\n",
    "    # 원본\n",
    "    A.Compose([\n",
    "        A.LongestMaxSize(max_size=img_size),\n",
    "        A.PadIfNeeded(min_height=img_size, min_width=img_size, border_mode=0, value=0),\n",
    "        A.Normalize(mean=[0.485, 0.456, 0.406], std=[0.229, 0.224, 0.225]),\n",
    "        ToTensorV2(),\n",
    "    ]),\n",
    "    # 90도 회전들\n",
    "    A.Compose([\n",
    "        A.LongestMaxSize(max_size=img_size),\n",
    "        A.PadIfNeeded(min_height=img_size, min_width=img_size, border_mode=0, value=0),\n",
    "        A.Rotate(limit=[90, 90], p=1.0),\n",
    "        A.Normalize(mean=[0.485, 0.456, 0.406], std=[0.229, 0.224, 0.225]),\n",
    "        ToTensorV2(),\n",
    "    ]),\n",
    "    A.Compose([\n",
    "        A.LongestMaxSize(max_size=img_size),\n",
    "        A.PadIfNeeded(min_height=img_size, min_width=img_size, border_mode=0, value=0),\n",
    "        A.Rotate(limit=[180, 180], p=1.0),\n",
    "        A.Normalize(mean=[0.485, 0.456, 0.406], std=[0.229, 0.224, 0.225]),\n",
    "        ToTensorV2(),\n",
    "    ]),\n",
    "    A.Compose([\n",
    "        A.LongestMaxSize(max_size=img_size),\n",
    "        A.PadIfNeeded(min_height=img_size, min_width=img_size, border_mode=0, value=0),\n",
    "        A.Rotate(limit=[-90, -90], p=1.0),\n",
    "        A.Normalize(mean=[0.485, 0.456, 0.406], std=[0.229, 0.224, 0.225]),\n",
    "        ToTensorV2(),\n",
    "    ]),\n",
    "    # 밝기 개선\n",
    "    A.Compose([\n",
    "        A.LongestMaxSize(max_size=img_size),\n",
    "        A.PadIfNeeded(min_height=img_size, min_width=img_size, border_mode=0, value=0),\n",
    "        A.RandomBrightnessContrast(brightness_limit=[0.3, 0.3], contrast_limit=[0.3, 0.3], p=1.0),\n",
    "        A.Normalize(mean=[0.485, 0.456, 0.406], std=[0.229, 0.224, 0.225]),\n",
    "        ToTensorV2(),\n",
    "    ]),\n",
    "]"
   ]
  },
  {
   "cell_type": "code",
   "execution_count": 16,
   "metadata": {},
   "outputs": [],
   "source": [
    "# TTA 추론을 위한 Dataset 클래스\n",
    "class TTAImageDataset(Dataset):\n",
    "    def __init__(self, data, path, transforms, ocr_extractor=None):\n",
    "        if isinstance(data, str):\n",
    "            self.df = pd.read_csv(data).values\n",
    "        else:\n",
    "            self.df = data.values\n",
    "        self.path = path\n",
    "        self.transforms = transforms  # 여러 transform을 리스트로 받음\n",
    "        self.ocr_extractor = ocr_extractor  # OCR 추출기\n",
    "\n",
    "    def __len__(self):\n",
    "        return len(self.df)\n",
    "\n",
    "    def __getitem__(self, idx):\n",
    "        name, target = self.df[idx]\n",
    "        img = np.array(Image.open(os.path.join(self.path, name)).convert('RGB'))\n",
    "        \n",
    "        # 모든 transform을 적용한 결과를 리스트로 반환\n",
    "        augmented_images = []\n",
    "        for transform in self.transforms:\n",
    "            aug_img = transform(image=img)['image']\n",
    "            augmented_images.append(aug_img)\n",
    "        \n",
    "        # 텍스트 임베딩 추출\n",
    "        text_embedding = torch.zeros(768)\n",
    "        if self.ocr_extractor is not None and self.ocr_extractor.available:\n",
    "            try:\n",
    "                img_path = os.path.join(self.path, name)\n",
    "                text = self.ocr_extractor.extract_text_from_image(img_path)\n",
    "                # 최소한의 텍스트라도 있으면 임베딩, 완전히 비어있으면 \"document image\"로 대체\n",
    "                if not text.strip():\n",
    "                    text = \"document image\"  # 기본 텍스트\n",
    "                text_embedding = self.ocr_extractor.get_text_embedding(text)\n",
    "            except:\n",
    "                # 실패 시 기본 텍스트로라도 임베딩 생성\n",
    "                try:\n",
    "                    text_embedding = self.ocr_extractor.get_text_embedding(\"document image\")\n",
    "                except:\n",
    "                    pass\n",
    "        # 각 TTA에 동일한 텍스트 임베딩 적용\n",
    "        text_embeddings = [text_embedding] * len(self.transforms)\n",
    "        \n",
    "        return augmented_images, target, text_embeddings"
   ]
  },
  {
   "cell_type": "code",
   "execution_count": 17,
   "metadata": {},
   "outputs": [
    {
     "name": "stdout",
     "output_type": "stream",
     "text": [
      "TTA Dataset size: 3140\n"
     ]
    }
   ],
   "source": [
    "# TTA Dataset 생성\n",
    "tta_dataset = TTAImageDataset(\n",
    "    \"../data/sample_submission.csv\",\n",
    "    \"../data/test/\",\n",
    "    essential_tta_transforms,\n",
    "    ocr_extractor=ocr_extractor  # OCR 추가\n",
    ")\n",
    "\n",
    "# TTA DataLoader (배치 크기를 줄여서 메모리 절약)\n",
    "tta_loader = DataLoader(\n",
    "    tta_dataset,\n",
    "    batch_size=64,  # TTA는 메모리를 많이 사용하므로 배치 크기 줄임\n",
    "    shuffle=False,\n",
    "    num_workers=num_workers,\n",
    "    pin_memory=True\n",
    ")\n",
    "\n",
    "print(f\"TTA Dataset size: {len(tta_dataset)}\")"
   ]
  },
  {
   "cell_type": "code",
   "execution_count": 18,
   "metadata": {},
   "outputs": [],
   "source": [
    "def ensemble_tta_inference(models, loader, transforms, ocr_extractor=None):\n",
    "    \"\"\"멀티모달 모델용 5-Fold 앙상블 + TTA 추론\"\"\"\n",
    "    all_predictions = []\n",
    "    \n",
    "    for batch_idx, batch_data in enumerate(tqdm(loader, desc=\"Multimodal Ensemble TTA\")):\n",
    "        if len(batch_data) == 3:  # OCR 포함\n",
    "            images_list, _, text_embeddings_list = batch_data\n",
    "        else:  # 이미지만\n",
    "            images_list, _ = batch_data\n",
    "            text_embeddings_list = [None] * len(images_list)\n",
    "        \n",
    "        batch_size = images_list[0].size(0)\n",
    "        ensemble_probs = torch.zeros(batch_size, 17).to(device)\n",
    "        \n",
    "        # 각 fold 모델별 예측\n",
    "        for model in models:\n",
    "            with torch.no_grad():\n",
    "                # 각 TTA 변형별 예측\n",
    "                for i, images in enumerate(images_list):\n",
    "                    images = images.to(device)\n",
    "                    text_emb = text_embeddings_list[i]\n",
    "                    if text_emb is not None:\n",
    "                        text_emb = text_emb.to(device)\n",
    "                    \n",
    "                    preds = model(images, text_emb)\n",
    "                    probs = torch.softmax(preds, dim=1)\n",
    "                    ensemble_probs += probs / (len(models) * len(images_list))\n",
    "        \n",
    "        final_preds = torch.argmax(ensemble_probs, dim=1)\n",
    "        all_predictions.extend(final_preds.cpu().numpy())\n",
    "    \n",
    "    return all_predictions"
   ]
  },
  {
   "cell_type": "code",
   "execution_count": 19,
   "metadata": {},
   "outputs": [
    {
     "name": "stdout",
     "output_type": "stream",
     "text": [
      "Starting Ensemble TTA inference...\n"
     ]
    },
    {
     "name": "stderr",
     "output_type": "stream",
     "text": [
      "Multimodal Ensemble TTA: 100%|██████████| 50/50 [09:58<00:00, 11.97s/it]\n"
     ]
    }
   ],
   "source": [
    "# 앙상블 TTA 실행\n",
    "print(\"Starting Ensemble TTA inference...\")\n",
    "tta_predictions = ensemble_tta_inference(\n",
    "    models=ensemble_models, \n",
    "    loader=tta_loader, \n",
    "    transforms=essential_tta_transforms,\n",
    "    #confidence_threshold=0.9,\n",
    "    ocr_extractor=ocr_extractor\n",
    ")"
   ]
  },
  {
   "cell_type": "code",
   "execution_count": 20,
   "metadata": {},
   "outputs": [],
   "source": [
    "# TTA 결과로 submission 파일 생성\n",
    "tta_pred_df = pd.DataFrame(tta_dataset.df, columns=['ID', 'target'])\n",
    "tta_pred_df['target'] = tta_predictions"
   ]
  },
  {
   "cell_type": "code",
   "execution_count": 21,
   "metadata": {},
   "outputs": [],
   "source": [
    "# 기존 submission과 동일한 순서인지 확인\n",
    "sample_submission_df = pd.read_csv(\"../data/sample_submission.csv\")\n",
    "assert (sample_submission_df['ID'] == tta_pred_df['ID']).all()"
   ]
  },
  {
   "cell_type": "code",
   "execution_count": 22,
   "metadata": {},
   "outputs": [
    {
     "name": "stdout",
     "output_type": "stream",
     "text": [
      "TTA predictions saved\n",
      "TTA Prediction sample:\n"
     ]
    }
   ],
   "source": [
    "# TTA 결과 저장\n",
    "tta_pred_df.to_csv(\"../submission/choice.csv\", index=False)\n",
    "print(\"TTA predictions saved\")\n",
    "\n",
    "print(\"TTA Prediction sample:\")"
   ]
  },
  {
   "cell_type": "code",
   "execution_count": 23,
   "metadata": {
    "colab": {
     "base_uri": "https://localhost:8080/",
     "height": 206
    },
    "executionInfo": {
     "elapsed": 353,
     "status": "ok",
     "timestamp": 1700315247734,
     "user": {
      "displayName": "Ynot(송원호)",
      "userId": "16271863862696372773"
     },
     "user_tz": -540
    },
    "id": "9yMO8s6GqAwZ",
    "outputId": "9a30616f-f0ea-439f-a906-dd806737ce00"
   },
   "outputs": [
    {
     "data": {
      "text/html": [
       "<div>\n",
       "<style scoped>\n",
       "    .dataframe tbody tr th:only-of-type {\n",
       "        vertical-align: middle;\n",
       "    }\n",
       "\n",
       "    .dataframe tbody tr th {\n",
       "        vertical-align: top;\n",
       "    }\n",
       "\n",
       "    .dataframe thead th {\n",
       "        text-align: right;\n",
       "    }\n",
       "</style>\n",
       "<table border=\"1\" class=\"dataframe\">\n",
       "  <thead>\n",
       "    <tr style=\"text-align: right;\">\n",
       "      <th></th>\n",
       "      <th>ID</th>\n",
       "      <th>target</th>\n",
       "    </tr>\n",
       "  </thead>\n",
       "  <tbody>\n",
       "    <tr>\n",
       "      <th>0</th>\n",
       "      <td>0008fdb22ddce0ce.jpg</td>\n",
       "      <td>10</td>\n",
       "    </tr>\n",
       "    <tr>\n",
       "      <th>1</th>\n",
       "      <td>00091bffdffd83de.jpg</td>\n",
       "      <td>7</td>\n",
       "    </tr>\n",
       "    <tr>\n",
       "      <th>2</th>\n",
       "      <td>00396fbc1f6cc21d.jpg</td>\n",
       "      <td>7</td>\n",
       "    </tr>\n",
       "    <tr>\n",
       "      <th>3</th>\n",
       "      <td>00471f8038d9c4b6.jpg</td>\n",
       "      <td>7</td>\n",
       "    </tr>\n",
       "    <tr>\n",
       "      <th>4</th>\n",
       "      <td>00901f504008d884.jpg</td>\n",
       "      <td>14</td>\n",
       "    </tr>\n",
       "  </tbody>\n",
       "</table>\n",
       "</div>"
      ],
      "text/plain": [
       "                     ID  target\n",
       "0  0008fdb22ddce0ce.jpg      10\n",
       "1  00091bffdffd83de.jpg       7\n",
       "2  00396fbc1f6cc21d.jpg       7\n",
       "3  00471f8038d9c4b6.jpg       7\n",
       "4  00901f504008d884.jpg      14"
      ]
     },
     "execution_count": 23,
     "metadata": {},
     "output_type": "execute_result"
    }
   ],
   "source": [
    "tta_pred_df.head()"
   ]
  }
 ],
 "metadata": {
  "accelerator": "GPU",
  "colab": {
   "provenance": []
  },
  "kernelspec": {
   "display_name": "base",
   "language": "python",
   "name": "python3"
  },
  "language_info": {
   "codemirror_mode": {
    "name": "ipython",
    "version": 3
   },
   "file_extension": ".py",
   "mimetype": "text/x-python",
   "name": "python",
   "nbconvert_exporter": "python",
   "pygments_lexer": "ipython3",
   "version": "3.10.13"
  }
 },
 "nbformat": 4,
 "nbformat_minor": 0
}
