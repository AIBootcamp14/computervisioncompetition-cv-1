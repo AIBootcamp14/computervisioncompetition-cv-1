{
 "cells": [
  {
   "attachments": {},
   "cell_type": "markdown",
   "metadata": {
    "id": "OliaDaX_lwou"
   },
   "source": [
    "# **📄 Document type classification baseline code**\n",
    "> 문서 타입 분류 대회에 오신 여러분 환영합니다! 🎉     \n",
    "> 아래 baseline에서는 ResNet 모델을 로드하여, 모델을 학습 및 예측 파일 생성하는 프로세스에 대해 알아보겠습니다.\n",
    "\n",
    "## Contents\n",
    "- Prepare Environments\n",
    "- Import Library & Define Functions\n",
    "- Hyper-parameters\n",
    "- Load Data\n",
    "- Train Model\n",
    "- Inference & Save File\n"
   ]
  },
  {
   "attachments": {},
   "cell_type": "markdown",
   "metadata": {
    "id": "zkH9T_86lDSS"
   },
   "source": [
    "## 1. Prepare Environments\n",
    "\n",
    "* 데이터 로드를 위한 구글 드라이브를 마운트합니다.\n",
    "* 필요한 라이브러리를 설치합니다."
   ]
  },
  {
   "cell_type": "code",
   "execution_count": 1,
   "metadata": {
    "colab": {
     "base_uri": "https://localhost:8080/"
    },
    "executionInfo": {
     "elapsed": 8489,
     "status": "ok",
     "timestamp": 1700314558888,
     "user": {
      "displayName": "Ynot(송원호)",
      "userId": "16271863862696372773"
     },
     "user_tz": -540
    },
    "id": "NC8V-D393wY4",
    "outputId": "e9927325-26c4-4b89-9c51-c1d6541388d6"
   },
   "outputs": [],
   "source": [
    "# 필요한 라이브러리를 설치합니다.\n",
    "# !pip install timm\n",
    "# !pip install matplotlib\n",
    "# !pip install seaborn\n",
    "# !pip install optuna"
   ]
  },
  {
   "attachments": {},
   "cell_type": "markdown",
   "metadata": {
    "id": "PXa_FPM73R9f"
   },
   "source": [
    "## 2. Import Library & Define Functions\n",
    "* 학습 및 추론에 필요한 라이브러리를 로드합니다.\n",
    "* 학습 및 추론에 필요한 함수와 클래스를 정의합니다."
   ]
  },
  {
   "cell_type": "code",
   "execution_count": 2,
   "metadata": {
    "executionInfo": {
     "elapsed": 9396,
     "status": "ok",
     "timestamp": 1700314592802,
     "user": {
      "displayName": "Ynot(송원호)",
      "userId": "16271863862696372773"
     },
     "user_tz": -540
    },
    "id": "3BaoIkv5Xwa0"
   },
   "outputs": [],
   "source": [
    "import os\n",
    "import time\n",
    "import random\n",
    "import copy\n",
    "\n",
    "import optuna, math\n",
    "import timm\n",
    "import torch\n",
    "import albumentations as A\n",
    "import pandas as pd\n",
    "import numpy as np\n",
    "import torch.nn as nn\n",
    "import torch.nn.functional as F\n",
    "from albumentations.pytorch import ToTensorV2\n",
    "from torch.optim import Adam\n",
    "from torchvision import transforms\n",
    "from torch.utils.data import Dataset, DataLoader\n",
    "from torch.optim.lr_scheduler import CosineAnnealingLR\n",
    "from torch.cuda.amp import autocast, GradScaler  # Mixed Precision용\n",
    "\n",
    "from PIL import Image\n",
    "from tqdm import tqdm\n",
    "from sklearn.metrics import accuracy_score, f1_score, confusion_matrix, classification_report\n",
    "from sklearn.model_selection import train_test_split, StratifiedKFold\n",
    "\n",
    "from collections import Counter\n",
    "import warnings\n",
    "warnings.filterwarnings('ignore')\n",
    "\n",
    "import matplotlib.pyplot as plt\n",
    "import wandb\n",
    "from datetime import datetime\n",
    "\n",
    "# 한글 폰트 설정 (시각화용)\n",
    "plt.rcParams['font.family'] = ['DejaVu Sans']"
   ]
  },
  {
   "cell_type": "code",
   "execution_count": 3,
   "metadata": {},
   "outputs": [],
   "source": [
    "# 시드를 고정합니다.\n",
    "SEED = 42\n",
    "os.environ['PYTHONHASHSEED'] = str(SEED)\n",
    "random.seed(SEED)\n",
    "np.random.seed(SEED)\n",
    "torch.manual_seed(SEED)\n",
    "torch.cuda.manual_seed(SEED)\n",
    "torch.cuda.manual_seed_all(SEED)\n",
    "torch.backends.cudnn.benchmark = True"
   ]
  },
  {
   "cell_type": "code",
   "execution_count": 4,
   "metadata": {},
   "outputs": [],
   "source": [
    "# #  WandB Login and Configuration\n",
    "# \"\"\"\n",
    "# 팀원 사용 가이드:\n",
    "\n",
    "# 1. WandB 계정 생성: https://wandb.ai/signup\n",
    "# 2. 이 셀 실행 시 로그인 프롬프트가 나타나면 개인 API 키 입력\n",
    "# 3. EXPERIMENT_NAME을 다음과 같이 변경:\n",
    "#    - \"member1-baseline\"\n",
    "#    - \"member2-augmentation-test\"  \n",
    "#    - \"member3-hyperparameter-tuning\"\n",
    "#    등등 각자 다른 이름 사용\n",
    "\n",
    "# 4. 팀 대시보드 URL: [여기에 당신의 프로젝트 URL 추가]\n",
    "\n",
    "# 주의사항:\n",
    "# - 절대 API 키를 코드에 하드코딩하지 마세요\n",
    "# - EXPERIMENT_NAME만 변경하고 PROJECT_NAME은 그대로 두세요\n",
    "# - 각자 개인 계정으로 로그인해서 실험을 추가하세요\n",
    "# \"\"\"\n",
    "\n",
    "# # WandB 로그인 (각자 실행)\n",
    "# try:\n",
    "#     if wandb.api.api_key is None:\n",
    "#         print(\"WandB에 로그인이 필요합니다.\")\n",
    "#         wandb.login()\n",
    "#     else:\n",
    "#         print(f\"WandB 로그인 상태: {wandb.api.viewer()['username']}\")\n",
    "# except:\n",
    "#     print(\"WandB 로그인을 진행합니다...\")\n",
    "#     wandb.login()\n",
    "\n",
    "# # 프로젝트 설정 (각자 수정할 부분)\n",
    "# PROJECT_NAME = \"document-classification-team\"  # 모든 팀원 동일\n",
    "# ENTITY = None  # 각자 개인 계정 사용\n",
    "# EXPERIMENT_NAME = \"efficientnet-b3-baseline\"  # 팀원별로 변경 (예: \"member1-hyperopt\", \"member2-augmentation\")\n",
    "\n",
    "# print(f\"프로젝트: {PROJECT_NAME}\")\n",
    "# print(f\"실험명: {EXPERIMENT_NAME}\")\n",
    "# print(\"팀원들은 EXPERIMENT_NAME을 각자 다르게 변경해주세요!\")"
   ]
  },
  {
   "cell_type": "code",
   "execution_count": 5,
   "metadata": {
    "executionInfo": {
     "elapsed": 241,
     "status": "ok",
     "timestamp": 1700314772722,
     "user": {
      "displayName": "Ynot(송원호)",
      "userId": "16271863862696372773"
     },
     "user_tz": -540
    },
    "id": "Hyl8oAy6TZAu"
   },
   "outputs": [],
   "source": [
    "def mixup_data(x, y, alpha=1.0):\n",
    "    if alpha > 0:\n",
    "        lam = np.random.beta(alpha, alpha)\n",
    "    else:\n",
    "        lam = 1\n",
    "    batch_size = x.size()[0]\n",
    "    index = torch.randperm(batch_size).cuda()\n",
    "    mixed_x = lam * x + (1 - lam) * x[index, :]\n",
    "    y_a, y_b = y, y[index]\n",
    "    return mixed_x, y_a, y_b, lam\n",
    "\n",
    "# 데이터셋 클래스를 정의합니다. (Hard Augmentation 포함)\n",
    "class ImageDataset(Dataset):\n",
    "    def __init__(self, data, path, epoch=0, total_epochs=10, is_train=True):\n",
    "        if isinstance(data, str):\n",
    "            self.df = pd.read_csv(data).values\n",
    "        else:\n",
    "            self.df = data.values\n",
    "        self.path = path\n",
    "        self.epoch = epoch\n",
    "        self.total_epochs = total_epochs\n",
    "        self.is_train = is_train\n",
    "        \n",
    "        # Hard augmentation 확률 계산\n",
    "        self.p_hard = 0.2 + 0.3 * (epoch / total_epochs) if is_train else 0\n",
    "        \n",
    "        # Normal augmentation\n",
    "        self.normal_aug = A.Compose([\n",
    "            A.LongestMaxSize(max_size=img_size),\n",
    "            A.PadIfNeeded(min_height=img_size, min_width=img_size, border_mode=0, value=0),\n",
    "            A.OneOf([\n",
    "                A.Rotate(limit=[90,90], p=1.0),\n",
    "                A.Rotate(limit=[180,180], p=1.0),\n",
    "                A.Rotate(limit=[270,270], p=1.0),\n",
    "            ], p=0.6),\n",
    "            A.RandomBrightnessContrast(brightness_limit=0.3, contrast_limit=0.3, p=0.8),\n",
    "            A.GaussNoise(var_limit=(30.0, 100.0), p=0.7),\n",
    "            A.HorizontalFlip(p=0.5),\n",
    "            A.Normalize(mean=[0.485, 0.456, 0.406], std=[0.229, 0.224, 0.225]),\n",
    "            ToTensorV2(),\n",
    "        ])\n",
    "        \n",
    "        # Hard augmentation\n",
    "        self.hard_aug = A.Compose([\n",
    "            A.LongestMaxSize(max_size=img_size),\n",
    "            A.PadIfNeeded(min_height=img_size, min_width=img_size, border_mode=0, value=0),\n",
    "            A.OneOf([\n",
    "                A.Rotate(limit=[90,90], p=1.0),\n",
    "                A.Rotate(limit=[180,180], p=1.0),\n",
    "                A.Rotate(limit=[270,270], p=1.0),\n",
    "                A.Rotate(limit=[-15,15], p=1.0),\n",
    "            ], p=0.8),\n",
    "            A.OneOf([\n",
    "                A.MotionBlur(blur_limit=15, p=1.0),\n",
    "                A.GaussianBlur(blur_limit=15, p=1.0),\n",
    "            ], p=0.95),\n",
    "            A.RandomBrightnessContrast(brightness_limit=0.5, contrast_limit=0.5, p=0.9),\n",
    "            A.GaussNoise(var_limit=(50.0, 150.0), p=0.8),\n",
    "            A.JpegCompression(quality_lower=70, quality_upper=100, p=0.5),\n",
    "            A.HorizontalFlip(p=0.5),\n",
    "            A.Normalize(mean=[0.485, 0.456, 0.406], std=[0.229, 0.224, 0.225]),\n",
    "            ToTensorV2(),\n",
    "        ])\n",
    "\n",
    "    def __len__(self):\n",
    "        return len(self.df)\n",
    "\n",
    "    def __getitem__(self, idx):\n",
    "        name, target = self.df[idx]\n",
    "        img = np.array(Image.open(os.path.join(self.path, name)))\n",
    "        \n",
    "        # 배치별 증강 선택\n",
    "        if self.is_train and random.random() < self.p_hard:\n",
    "            img = self.hard_aug(image=img)['image']\n",
    "        else:\n",
    "            img = self.normal_aug(image=img)['image']\n",
    "        \n",
    "        return img, target"
   ]
  },
  {
   "cell_type": "code",
   "execution_count": 6,
   "metadata": {
    "executionInfo": {
     "elapsed": 255,
     "status": "ok",
     "timestamp": 1700315066028,
     "user": {
      "displayName": "Ynot(송원호)",
      "userId": "16271863862696372773"
     },
     "user_tz": -540
    },
    "id": "kTECBJfVTbdl"
   },
   "outputs": [],
   "source": [
    "# one epoch 학습을 위한 함수입니다.\n",
    "def train_one_epoch(loader, model, optimizer, loss_fn, device):\n",
    "    scaler = GradScaler()  # Mixed Precision용\n",
    "    model.train()\n",
    "    train_loss = 0\n",
    "    preds_list = []\n",
    "    targets_list = []\n",
    "\n",
    "    pbar = tqdm(loader)\n",
    "    for image, targets in pbar:\n",
    "        image = image.to(device)\n",
    "        targets = targets.to(device)\n",
    "        \n",
    "        # Cutmix/Mixup 적용 (30% 확률)\n",
    "        if random.random() < 0.3:\n",
    "            mixed_x, y_a, y_b, lam = mixup_data(image, targets, alpha=1.0)\n",
    "            with autocast(): preds = model(mixed_x)\n",
    "            loss = lam * loss_fn(preds, y_a) + (1 - lam) * loss_fn(preds, y_b)\n",
    "        else:\n",
    "            with autocast(): preds = model(image)\n",
    "            loss = loss_fn(preds, targets)\n",
    "\n",
    "        model.zero_grad(set_to_none=True)\n",
    "\n",
    "        scaler.scale(loss).backward()  # Mixed Precision용\n",
    "        torch.nn.utils.clip_grad_norm_(model.parameters(), 1.0)\n",
    "        scaler.step(optimizer); scaler.update()  # Mixed Precision용\n",
    "\n",
    "        train_loss += loss.item()\n",
    "        preds_list.extend(preds.argmax(dim=1).detach().cpu().numpy())\n",
    "        targets_list.extend(targets.detach().cpu().numpy())\n",
    "\n",
    "        pbar.set_description(f\"Loss: {loss.item():.4f}\")\n",
    "\n",
    "    train_loss /= len(loader)\n",
    "    train_acc = accuracy_score(targets_list, preds_list)\n",
    "    train_f1 = f1_score(targets_list, preds_list, average='macro')\n",
    "\n",
    "    ret = {\n",
    "        \"train_loss\": train_loss,\n",
    "        \"train_acc\": train_acc,\n",
    "        \"train_f1\": train_f1,\n",
    "    }\n",
    "\n",
    "    return ret"
   ]
  },
  {
   "cell_type": "code",
   "execution_count": 7,
   "metadata": {},
   "outputs": [],
   "source": [
    "# validation을 위한 함수 추가\n",
    "def validate_one_epoch(loader, model, loss_fn, device):\n",
    "    \"\"\"\n",
    "    한 에폭 검증을 수행하는 함수\n",
    "    - model.eval()로 모델을 평가 모드로 전환\n",
    "    - torch.no_grad()로 gradient 계산 비활성화하여 메모리 절약\n",
    "    - 검증 데이터에 대한 loss, accuracy, f1 score 계산\n",
    "    \"\"\"\n",
    "    model.eval()  # 모델을 평가 모드로 전환 (dropout, batchnorm 비활성화)\n",
    "    val_loss = 0\n",
    "    preds_list = []\n",
    "    targets_list = []\n",
    "    \n",
    "    with torch.no_grad():  # gradient 계산 비활성화로 메모리 절약\n",
    "        pbar = tqdm(loader, desc=\"Validating\")\n",
    "        for image, targets in pbar:\n",
    "            image = image.to(device)\n",
    "            targets = targets.to(device)\n",
    "            \n",
    "            preds = model(image)  # 모델 예측\n",
    "            loss = loss_fn(preds, targets)  # 손실 계산\n",
    "            \n",
    "            val_loss += loss.item()\n",
    "            preds_list.extend(preds.argmax(dim=1).detach().cpu().numpy())  # 예측 클래스 저장\n",
    "            targets_list.extend(targets.detach().cpu().numpy())  # 실제 클래스 저장\n",
    "            \n",
    "            pbar.set_description(f\"Val Loss: {loss.item():.4f}\")\n",
    "    \n",
    "    val_loss /= len(loader)  # 평균 손실 계산\n",
    "    val_acc = accuracy_score(targets_list, preds_list)  # 정확도 계산\n",
    "    val_f1 = f1_score(targets_list, preds_list, average='macro')  # Macro F1 계산 (대회 평가지표)\n",
    "    \n",
    "    ret = {\n",
    "        \"val_loss\": val_loss,\n",
    "        \"val_acc\": val_acc,\n",
    "        \"val_f1\": val_f1,\n",
    "    }\n",
    "    \n",
    "    return ret"
   ]
  },
  {
   "attachments": {},
   "cell_type": "markdown",
   "metadata": {
    "id": "Wjom43UvoXcx"
   },
   "source": [
    "## 3. Hyper-parameters\n",
    "* 학습 및 추론에 필요한 하이퍼파라미터들을 정의합니다."
   ]
  },
  {
   "cell_type": "code",
   "execution_count": 8,
   "metadata": {
    "executionInfo": {
     "elapsed": 436,
     "status": "ok",
     "timestamp": 1700315112439,
     "user": {
      "displayName": "Ynot(송원호)",
      "userId": "16271863862696372773"
     },
     "user_tz": -540
    },
    "id": "KByfAeRmXwYk"
   },
   "outputs": [],
   "source": [
    "# device\n",
    "device = torch.device('cuda' if torch.cuda.is_available() else 'cpu')\n",
    "\n",
    "# data config\n",
    "data_path = '../data/'\n",
    "\n",
    "# model config\n",
    "# model_name = 'tf_efficientnetv2_b3' # 'resnet50' 'efficientnet-b0', ...\n",
    "# model_name = 'swin_base_patch4_window12_384_in22k'\n",
    "model_name = 'convnext_base_384_in22ft1k'\n",
    "\n",
    "# training config\n",
    "img_size = 384\n",
    "LR = 2e-4\n",
    "EPOCHS = 50\n",
    "BATCH_SIZE = 24\n",
    "num_workers = 8\n",
    "EMA = True  # Exponential Moving Average 사용 여부"
   ]
  },
  {
   "cell_type": "code",
   "execution_count": 9,
   "metadata": {},
   "outputs": [],
   "source": [
    "# Optuna를 사용한 하이퍼파라미터 튜닝 (선택적 실행)\n",
    "USE_OPTUNA = False  # True로 바꾸면 튜닝 실행\n",
    "\n",
    "if USE_OPTUNA:\n",
    "    def objective(trial):\n",
    "        lr = trial.suggest_loguniform('lr', 1e-5, 1e-2)\n",
    "        batch_size = trial.suggest_categorical('batch_size', [32, 64, 128])\n",
    "        \n",
    "        # 간단한 3-fold CV로 빠른 평가\n",
    "        skf_simple = StratifiedKFold(n_splits=3, shuffle=True, random_state=42)\n",
    "        fold_scores = []\n",
    "        \n",
    "        for fold, (train_idx, val_idx) in enumerate(skf_simple.split(train_df, train_df['target'])):\n",
    "            # 모델 생성\n",
    "            model = timm.create_model(model_name, pretrained=True, num_classes=17).to(device)\n",
    "            optimizer = Adam(model.parameters(), lr=lr)\n",
    "            loss_fn = nn.CrossEntropyLoss()\n",
    "            \n",
    "            # 간단한 2 epoch 학습\n",
    "            for epoch in range(2):\n",
    "                train_ret = train_one_epoch(trn_loader, model, optimizer, loss_fn, device)\n",
    "            \n",
    "            val_ret = validate_one_epoch(val_loader, model, loss_fn, device)\n",
    "            fold_scores.append(val_ret['val_f1'])\n",
    "        \n",
    "        return np.mean(fold_scores)\n",
    "    \n",
    "    study = optuna.create_study(direction='maximize')\n",
    "    study.optimize(objective, n_trials=10)\n",
    "    \n",
    "    # 최적 파라미터 적용\n",
    "    LR = study.best_params['lr']\n",
    "    BATCH_SIZE = study.best_params['batch_size']\n",
    "    print(f\"Best params: {study.best_params}\")"
   ]
  },
  {
   "attachments": {},
   "cell_type": "markdown",
   "metadata": {
    "id": "amum-FlIojc6"
   },
   "source": [
    "## 4. Load Data\n",
    "* 학습, 테스트 데이터셋과 로더를 정의합니다."
   ]
  },
  {
   "cell_type": "code",
   "execution_count": 10,
   "metadata": {
    "executionInfo": {
     "elapsed": 1,
     "status": "ok",
     "timestamp": 1700315112439,
     "user": {
      "displayName": "Ynot(송원호)",
      "userId": "16271863862696372773"
     },
     "user_tz": -540
    },
    "id": "llh5C7ZKoq2S"
   },
   "outputs": [],
   "source": [
    "# # augmentation을 위한 transform 코드\n",
    "# trn_transform = A.Compose([\n",
    "#     # 비율 보존 리사이징 (핵심 개선)\n",
    "#     A.LongestMaxSize(max_size=img_size),\n",
    "#     A.PadIfNeeded(min_height=img_size, min_width=img_size, \n",
    "#                   border_mode=0, value=0),\n",
    "    \n",
    "#     # 문서 특화 회전 (정확한 90도 배수)\n",
    "#     A.OneOf([\n",
    "#         A.Rotate(limit=[90,90], p=1.0),\n",
    "#         A.Rotate(limit=[180,180], p=1.0),\n",
    "#         A.Rotate(limit=[270,270], p=1.0),\n",
    "#     ], p=0.6),\n",
    "    \n",
    "#     # 테스트 특화 강화 증강\n",
    "#     A.OneOf([\n",
    "#         A.MotionBlur(blur_limit=7, p=1.0),\n",
    "#         A.GaussianBlur(blur_limit=7, p=1.0),\n",
    "#     ], p=0.9),\n",
    "    \n",
    "#     A.RandomBrightnessContrast(\n",
    "#         brightness_limit=0.3, \n",
    "#         contrast_limit=0.3, \n",
    "#         p=0.8\n",
    "#     ),\n",
    "#     A.GaussNoise(var_limit=(30.0, 100.0), p=0.7),\n",
    "#     A.HorizontalFlip(p=0.5),\n",
    "    \n",
    "#     A.Normalize(mean=[0.485, 0.456, 0.406], std=[0.229, 0.224, 0.225]),\n",
    "#     ToTensorV2(),\n",
    "# ])\n",
    "\n",
    "# # test image 변환을 위한 transform 코드\n",
    "# tst_transform = A.Compose([\n",
    "#     A.LongestMaxSize(max_size=img_size),\n",
    "#     A.PadIfNeeded(min_height=img_size, min_width=img_size, \n",
    "#                   border_mode=0, value=0),\n",
    "#     A.Normalize(mean=[0.485, 0.456, 0.406], std=[0.229, 0.224, 0.225]),\n",
    "#     ToTensorV2(),\n",
    "# ])"
   ]
  },
  {
   "cell_type": "code",
   "execution_count": 11,
   "metadata": {},
   "outputs": [],
   "source": [
    "# Optuna 튜닝 (선택적 실행)\n",
    "USE_OPTUNA = False  # True로 바꾸면 튜닝 실행\n",
    "\n",
    "if USE_OPTUNA:\n",
    "    # 위의 objective 함수와 study 코드\n",
    "    pass"
   ]
  },
  {
   "cell_type": "markdown",
   "metadata": {},
   "source": [
    "# K-Fold 적용"
   ]
  },
  {
   "cell_type": "code",
   "execution_count": 12,
   "metadata": {},
   "outputs": [
    {
     "name": "stdout",
     "output_type": "stream",
     "text": [
      "Starting 5-Fold Cross Validation...\n",
      "\n",
      "==================================================\n",
      "FOLD 1/5\n",
      "==================================================\n",
      "Train samples: 1256, Validation samples: 314\n"
     ]
    },
    {
     "name": "stderr",
     "output_type": "stream",
     "text": [
      "Loss: 1.4805: 100%|██████████| 53/53 [00:20<00:00,  2.64it/s]\n",
      "Val Loss: 1.1467: 100%|██████████| 14/14 [00:04<00:00,  3.43it/s]"
     ]
    },
    {
     "name": "stdout",
     "output_type": "stream",
     "text": [
      "Epoch  1 | Train Loss: 2.0279 | Train F1: 0.3637 | Val Loss: 1.0530 | Val F1: 0.7214\n"
     ]
    },
    {
     "name": "stderr",
     "output_type": "stream",
     "text": [
      "\n",
      "Loss: 0.5049: 100%|██████████| 53/53 [00:12<00:00,  4.13it/s]\n",
      "Val Loss: 1.2344: 100%|██████████| 14/14 [00:02<00:00,  4.87it/s]"
     ]
    },
    {
     "name": "stdout",
     "output_type": "stream",
     "text": [
      "Epoch  2 | Train Loss: 1.1149 | Train F1: 0.6772 | Val Loss: 0.7486 | Val F1: 0.8053\n"
     ]
    },
    {
     "name": "stderr",
     "output_type": "stream",
     "text": [
      "\n",
      "Loss: 1.7598: 100%|██████████| 53/53 [00:12<00:00,  4.09it/s]\n",
      "Val Loss: 1.2180: 100%|██████████| 14/14 [00:02<00:00,  4.81it/s]"
     ]
    },
    {
     "name": "stdout",
     "output_type": "stream",
     "text": [
      "Epoch  3 | Train Loss: 0.9278 | Train F1: 0.7103 | Val Loss: 0.6717 | Val F1: 0.8648\n"
     ]
    },
    {
     "name": "stderr",
     "output_type": "stream",
     "text": [
      "\n",
      "Loss: 0.8281: 100%|██████████| 53/53 [00:12<00:00,  4.09it/s]\n",
      "Val Loss: 1.6113: 100%|██████████| 14/14 [00:02<00:00,  4.76it/s]"
     ]
    },
    {
     "name": "stdout",
     "output_type": "stream",
     "text": [
      "Epoch  4 | Train Loss: 0.9049 | Train F1: 0.7174 | Val Loss: 0.6991 | Val F1: 0.8747\n"
     ]
    },
    {
     "name": "stderr",
     "output_type": "stream",
     "text": [
      "\n",
      "Loss: 0.9043: 100%|██████████| 53/53 [00:13<00:00,  4.07it/s]\n",
      "Val Loss: 0.8601: 100%|██████████| 14/14 [00:02<00:00,  4.74it/s]"
     ]
    },
    {
     "name": "stdout",
     "output_type": "stream",
     "text": [
      "Epoch  5 | Train Loss: 0.8590 | Train F1: 0.7630 | Val Loss: 0.6090 | Val F1: 0.8914\n"
     ]
    },
    {
     "name": "stderr",
     "output_type": "stream",
     "text": [
      "\n",
      "Loss: 0.6426: 100%|██████████| 53/53 [00:12<00:00,  4.09it/s]\n",
      "Val Loss: 0.9017: 100%|██████████| 14/14 [00:03<00:00,  4.65it/s]"
     ]
    },
    {
     "name": "stdout",
     "output_type": "stream",
     "text": [
      "Epoch  6 | Train Loss: 0.7858 | Train F1: 0.7548 | Val Loss: 0.5729 | Val F1: 0.9037\n"
     ]
    },
    {
     "name": "stderr",
     "output_type": "stream",
     "text": [
      "\n",
      "Loss: 0.4263: 100%|██████████| 53/53 [00:12<00:00,  4.09it/s]\n",
      "Val Loss: 1.0037: 100%|██████████| 14/14 [00:02<00:00,  4.76it/s]"
     ]
    },
    {
     "name": "stdout",
     "output_type": "stream",
     "text": [
      "Epoch  7 | Train Loss: 0.7080 | Train F1: 0.7498 | Val Loss: 0.5510 | Val F1: 0.9165\n"
     ]
    },
    {
     "name": "stderr",
     "output_type": "stream",
     "text": [
      "\n",
      "Loss: 0.3574: 100%|██████████| 53/53 [00:13<00:00,  4.06it/s]\n",
      "Val Loss: 1.2832: 100%|██████████| 14/14 [00:03<00:00,  4.64it/s]\n"
     ]
    },
    {
     "name": "stdout",
     "output_type": "stream",
     "text": [
      "Epoch  8 | Train Loss: 0.7452 | Train F1: 0.8336 | Val Loss: 0.6177 | Val F1: 0.8990\n"
     ]
    },
    {
     "name": "stderr",
     "output_type": "stream",
     "text": [
      "Loss: 1.1074: 100%|██████████| 53/53 [00:13<00:00,  4.07it/s]\n",
      "Val Loss: 1.5216: 100%|██████████| 14/14 [00:02<00:00,  4.69it/s]\n"
     ]
    },
    {
     "name": "stdout",
     "output_type": "stream",
     "text": [
      "Epoch  9 | Train Loss: 0.8166 | Train F1: 0.8053 | Val Loss: 0.6178 | Val F1: 0.8990\n"
     ]
    },
    {
     "name": "stderr",
     "output_type": "stream",
     "text": [
      "Loss: 1.1133: 100%|██████████| 53/53 [00:13<00:00,  4.06it/s]\n",
      "Val Loss: 0.9302: 100%|██████████| 14/14 [00:03<00:00,  4.60it/s]\n"
     ]
    },
    {
     "name": "stdout",
     "output_type": "stream",
     "text": [
      "Epoch 10 | Train Loss: 0.7578 | Train F1: 0.7581 | Val Loss: 0.5551 | Val F1: 0.9087\n"
     ]
    },
    {
     "name": "stderr",
     "output_type": "stream",
     "text": [
      "Loss: 0.3325: 100%|██████████| 53/53 [00:13<00:00,  4.07it/s]\n",
      "Val Loss: 0.7542: 100%|██████████| 14/14 [00:02<00:00,  4.77it/s]"
     ]
    },
    {
     "name": "stdout",
     "output_type": "stream",
     "text": [
      "Epoch 11 | Train Loss: 0.6796 | Train F1: 0.8258 | Val Loss: 0.5437 | Val F1: 0.9334\n"
     ]
    },
    {
     "name": "stderr",
     "output_type": "stream",
     "text": [
      "\n",
      "Loss: 0.8896: 100%|██████████| 53/53 [00:13<00:00,  4.06it/s]\n",
      "Val Loss: 0.6120: 100%|██████████| 14/14 [00:02<00:00,  4.84it/s]"
     ]
    },
    {
     "name": "stdout",
     "output_type": "stream",
     "text": [
      "Epoch 12 | Train Loss: 0.7766 | Train F1: 0.6998 | Val Loss: 0.5089 | Val F1: 0.9390\n"
     ]
    },
    {
     "name": "stderr",
     "output_type": "stream",
     "text": [
      "\n",
      "Loss: 1.3398: 100%|██████████| 53/53 [00:12<00:00,  4.11it/s]\n",
      "Val Loss: 1.0371: 100%|██████████| 14/14 [00:02<00:00,  4.80it/s]\n"
     ]
    },
    {
     "name": "stdout",
     "output_type": "stream",
     "text": [
      "Epoch 13 | Train Loss: 0.7291 | Train F1: 0.7673 | Val Loss: 0.5799 | Val F1: 0.9145\n"
     ]
    },
    {
     "name": "stderr",
     "output_type": "stream",
     "text": [
      "Loss: 0.5723: 100%|██████████| 53/53 [00:13<00:00,  4.07it/s]\n",
      "Val Loss: 0.9915: 100%|██████████| 14/14 [00:02<00:00,  4.83it/s]\n"
     ]
    },
    {
     "name": "stdout",
     "output_type": "stream",
     "text": [
      "Epoch 14 | Train Loss: 0.6247 | Train F1: 0.8344 | Val Loss: 0.5296 | Val F1: 0.9340\n"
     ]
    },
    {
     "name": "stderr",
     "output_type": "stream",
     "text": [
      "Loss: 1.2881: 100%|██████████| 53/53 [00:12<00:00,  4.10it/s]\n",
      "Val Loss: 1.3626: 100%|██████████| 14/14 [00:02<00:00,  4.76it/s]\n"
     ]
    },
    {
     "name": "stdout",
     "output_type": "stream",
     "text": [
      "Epoch 15 | Train Loss: 0.6007 | Train F1: 0.8829 | Val Loss: 0.5336 | Val F1: 0.9385\n"
     ]
    },
    {
     "name": "stderr",
     "output_type": "stream",
     "text": [
      "Loss: 0.3545: 100%|██████████| 53/53 [00:12<00:00,  4.08it/s]\n",
      "Val Loss: 0.7107: 100%|██████████| 14/14 [00:02<00:00,  4.82it/s]\n"
     ]
    },
    {
     "name": "stdout",
     "output_type": "stream",
     "text": [
      "Epoch 16 | Train Loss: 0.5215 | Train F1: 0.8854 | Val Loss: 0.5196 | Val F1: 0.9376\n"
     ]
    },
    {
     "name": "stderr",
     "output_type": "stream",
     "text": [
      "Loss: 0.5176: 100%|██████████| 53/53 [00:12<00:00,  4.08it/s]\n",
      "Val Loss: 0.9384: 100%|██████████| 14/14 [00:03<00:00,  4.58it/s]"
     ]
    },
    {
     "name": "stdout",
     "output_type": "stream",
     "text": [
      "Epoch 17 | Train Loss: 0.6369 | Train F1: 0.8232 | Val Loss: 0.5073 | Val F1: 0.9477\n"
     ]
    },
    {
     "name": "stderr",
     "output_type": "stream",
     "text": [
      "\n",
      "Loss: 0.3342: 100%|██████████| 53/53 [00:12<00:00,  4.10it/s]\n",
      "Val Loss: 0.4916: 100%|██████████| 14/14 [00:03<00:00,  4.56it/s]\n"
     ]
    },
    {
     "name": "stdout",
     "output_type": "stream",
     "text": [
      "Epoch 18 | Train Loss: 0.5459 | Train F1: 0.8856 | Val Loss: 0.4767 | Val F1: 0.9309\n"
     ]
    },
    {
     "name": "stderr",
     "output_type": "stream",
     "text": [
      "Loss: 0.9014: 100%|██████████| 53/53 [00:12<00:00,  4.08it/s]\n",
      "Val Loss: 0.4957: 100%|██████████| 14/14 [00:03<00:00,  4.45it/s]\n"
     ]
    },
    {
     "name": "stdout",
     "output_type": "stream",
     "text": [
      "Epoch 19 | Train Loss: 0.5896 | Train F1: 0.8738 | Val Loss: 0.5041 | Val F1: 0.9246\n"
     ]
    },
    {
     "name": "stderr",
     "output_type": "stream",
     "text": [
      "Loss: 0.4424: 100%|██████████| 53/53 [00:13<00:00,  4.05it/s]\n",
      "Val Loss: 0.3506: 100%|██████████| 14/14 [00:03<00:00,  4.60it/s]"
     ]
    },
    {
     "name": "stdout",
     "output_type": "stream",
     "text": [
      "Epoch 20 | Train Loss: 0.6448 | Train F1: 0.7945 | Val Loss: 0.4382 | Val F1: 0.9538\n"
     ]
    },
    {
     "name": "stderr",
     "output_type": "stream",
     "text": [
      "\n",
      "Loss: 0.3328: 100%|██████████| 53/53 [00:12<00:00,  4.10it/s]\n",
      "Val Loss: 0.3498: 100%|██████████| 14/14 [00:02<00:00,  4.71it/s]\n"
     ]
    },
    {
     "name": "stdout",
     "output_type": "stream",
     "text": [
      "Epoch 21 | Train Loss: 0.5698 | Train F1: 0.8543 | Val Loss: 0.5067 | Val F1: 0.9192\n"
     ]
    },
    {
     "name": "stderr",
     "output_type": "stream",
     "text": [
      "Loss: 1.1348: 100%|██████████| 53/53 [00:12<00:00,  4.11it/s]\n",
      "Val Loss: 1.4452: 100%|██████████| 14/14 [00:02<00:00,  4.69it/s]\n"
     ]
    },
    {
     "name": "stdout",
     "output_type": "stream",
     "text": [
      "Epoch 22 | Train Loss: 0.6427 | Train F1: 0.7889 | Val Loss: 0.5636 | Val F1: 0.9351\n"
     ]
    },
    {
     "name": "stderr",
     "output_type": "stream",
     "text": [
      "Loss: 1.1133: 100%|██████████| 53/53 [00:12<00:00,  4.08it/s]\n",
      "Val Loss: 0.6293: 100%|██████████| 14/14 [00:03<00:00,  4.62it/s]\n"
     ]
    },
    {
     "name": "stdout",
     "output_type": "stream",
     "text": [
      "Epoch 23 | Train Loss: 0.6066 | Train F1: 0.8093 | Val Loss: 0.4873 | Val F1: 0.9456\n"
     ]
    },
    {
     "name": "stderr",
     "output_type": "stream",
     "text": [
      "Loss: 0.3748: 100%|██████████| 53/53 [00:13<00:00,  4.06it/s]\n",
      "Val Loss: 0.3391: 100%|██████████| 14/14 [00:02<00:00,  4.72it/s]\n"
     ]
    },
    {
     "name": "stdout",
     "output_type": "stream",
     "text": [
      "Epoch 24 | Train Loss: 0.5380 | Train F1: 0.8813 | Val Loss: 0.4402 | Val F1: 0.9465\n"
     ]
    },
    {
     "name": "stderr",
     "output_type": "stream",
     "text": [
      "Loss: 0.3281: 100%|██████████| 53/53 [00:12<00:00,  4.10it/s]\n",
      "Val Loss: 0.3296: 100%|██████████| 14/14 [00:03<00:00,  4.62it/s]"
     ]
    },
    {
     "name": "stdout",
     "output_type": "stream",
     "text": [
      "Epoch 25 | Train Loss: 0.5388 | Train F1: 0.8721 | Val Loss: 0.4583 | Val F1: 0.9613\n"
     ]
    },
    {
     "name": "stderr",
     "output_type": "stream",
     "text": [
      "\n",
      "Loss: 0.3276: 100%|██████████| 53/53 [00:12<00:00,  4.11it/s]\n",
      "Val Loss: 1.8354: 100%|██████████| 14/14 [00:02<00:00,  4.78it/s]\n"
     ]
    },
    {
     "name": "stdout",
     "output_type": "stream",
     "text": [
      "Epoch 26 | Train Loss: 0.5766 | Train F1: 0.8543 | Val Loss: 0.6270 | Val F1: 0.9152\n"
     ]
    },
    {
     "name": "stderr",
     "output_type": "stream",
     "text": [
      "Loss: 0.3257: 100%|██████████| 53/53 [00:12<00:00,  4.08it/s]\n",
      "Val Loss: 0.3621: 100%|██████████| 14/14 [00:02<00:00,  4.87it/s]\n"
     ]
    },
    {
     "name": "stdout",
     "output_type": "stream",
     "text": [
      "Epoch 27 | Train Loss: 0.6207 | Train F1: 0.7504 | Val Loss: 0.4622 | Val F1: 0.9567\n"
     ]
    },
    {
     "name": "stderr",
     "output_type": "stream",
     "text": [
      "Loss: 0.6270: 100%|██████████| 53/53 [00:13<00:00,  4.07it/s]\n",
      "Val Loss: 0.3472: 100%|██████████| 14/14 [00:03<00:00,  4.63it/s]\n"
     ]
    },
    {
     "name": "stdout",
     "output_type": "stream",
     "text": [
      "Epoch 28 | Train Loss: 0.5323 | Train F1: 0.9158 | Val Loss: 0.4582 | Val F1: 0.9484\n"
     ]
    },
    {
     "name": "stderr",
     "output_type": "stream",
     "text": [
      "Loss: 0.3311: 100%|██████████| 53/53 [00:12<00:00,  4.09it/s]\n",
      "Val Loss: 0.3539: 100%|██████████| 14/14 [00:03<00:00,  4.66it/s]"
     ]
    },
    {
     "name": "stdout",
     "output_type": "stream",
     "text": [
      "Epoch 29 | Train Loss: 0.5027 | Train F1: 0.8322 | Val Loss: 0.4318 | Val F1: 0.9690\n"
     ]
    },
    {
     "name": "stderr",
     "output_type": "stream",
     "text": [
      "\n",
      "Loss: 0.3347: 100%|██████████| 53/53 [00:12<00:00,  4.11it/s]\n",
      "Val Loss: 0.3575: 100%|██████████| 14/14 [00:03<00:00,  4.60it/s]\n"
     ]
    },
    {
     "name": "stdout",
     "output_type": "stream",
     "text": [
      "Epoch 30 | Train Loss: 0.5284 | Train F1: 0.9005 | Val Loss: 0.4656 | Val F1: 0.9438\n"
     ]
    },
    {
     "name": "stderr",
     "output_type": "stream",
     "text": [
      "Loss: 0.6777: 100%|██████████| 53/53 [00:13<00:00,  4.06it/s]\n",
      "Val Loss: 0.4693: 100%|██████████| 14/14 [00:03<00:00,  4.52it/s]\n"
     ]
    },
    {
     "name": "stdout",
     "output_type": "stream",
     "text": [
      "Epoch 31 | Train Loss: 0.5084 | Train F1: 0.8896 | Val Loss: 0.4383 | Val F1: 0.9628\n"
     ]
    },
    {
     "name": "stderr",
     "output_type": "stream",
     "text": [
      "Loss: 0.8779: 100%|██████████| 53/53 [00:13<00:00,  4.07it/s]\n",
      "Val Loss: 0.4740: 100%|██████████| 14/14 [00:02<00:00,  4.74it/s]\n"
     ]
    },
    {
     "name": "stdout",
     "output_type": "stream",
     "text": [
      "Epoch 32 | Train Loss: 0.5097 | Train F1: 0.8719 | Val Loss: 0.4269 | Val F1: 0.9650\n"
     ]
    },
    {
     "name": "stderr",
     "output_type": "stream",
     "text": [
      "Loss: 1.0869: 100%|██████████| 53/53 [00:13<00:00,  4.07it/s]\n",
      "Val Loss: 0.3520: 100%|██████████| 14/14 [00:03<00:00,  4.66it/s]\n"
     ]
    },
    {
     "name": "stdout",
     "output_type": "stream",
     "text": [
      "Epoch 33 | Train Loss: 0.5162 | Train F1: 0.8947 | Val Loss: 0.4330 | Val F1: 0.9618\n"
     ]
    },
    {
     "name": "stderr",
     "output_type": "stream",
     "text": [
      "Loss: 0.3259: 100%|██████████| 53/53 [00:12<00:00,  4.08it/s]\n",
      "Val Loss: 0.4795: 100%|██████████| 14/14 [00:02<00:00,  4.73it/s]\n"
     ]
    },
    {
     "name": "stdout",
     "output_type": "stream",
     "text": [
      "Epoch 34 | Train Loss: 0.5678 | Train F1: 0.8210 | Val Loss: 0.4547 | Val F1: 0.9610\n"
     ]
    },
    {
     "name": "stderr",
     "output_type": "stream",
     "text": [
      "Loss: 0.3223: 100%|██████████| 53/53 [00:13<00:00,  4.07it/s]\n",
      "Val Loss: 0.3352: 100%|██████████| 14/14 [00:02<00:00,  4.76it/s]\n"
     ]
    },
    {
     "name": "stdout",
     "output_type": "stream",
     "text": [
      "Epoch 35 | Train Loss: 0.5374 | Train F1: 0.8561 | Val Loss: 0.4375 | Val F1: 0.9614\n"
     ]
    },
    {
     "name": "stderr",
     "output_type": "stream",
     "text": [
      "Loss: 0.3245: 100%|██████████| 53/53 [00:13<00:00,  4.05it/s]\n",
      "Val Loss: 0.3297: 100%|██████████| 14/14 [00:02<00:00,  4.72it/s]\n"
     ]
    },
    {
     "name": "stdout",
     "output_type": "stream",
     "text": [
      "Epoch 36 | Train Loss: 0.5671 | Train F1: 0.8123 | Val Loss: 0.4496 | Val F1: 0.9594\n"
     ]
    },
    {
     "name": "stderr",
     "output_type": "stream",
     "text": [
      "Loss: 1.2705: 100%|██████████| 53/53 [00:12<00:00,  4.09it/s]\n",
      "Val Loss: 0.3415: 100%|██████████| 14/14 [00:02<00:00,  4.74it/s]\n"
     ]
    },
    {
     "name": "stdout",
     "output_type": "stream",
     "text": [
      "Epoch 37 | Train Loss: 0.5161 | Train F1: 0.8848 | Val Loss: 0.4840 | Val F1: 0.9562\n"
     ]
    },
    {
     "name": "stderr",
     "output_type": "stream",
     "text": [
      "Loss: 0.4304: 100%|██████████| 53/53 [00:13<00:00,  4.06it/s]\n",
      "Val Loss: 0.3435: 100%|██████████| 14/14 [00:03<00:00,  4.55it/s]\n"
     ]
    },
    {
     "name": "stdout",
     "output_type": "stream",
     "text": [
      "Epoch 38 | Train Loss: 0.5418 | Train F1: 0.8571 | Val Loss: 0.4170 | Val F1: 0.9646\n"
     ]
    },
    {
     "name": "stderr",
     "output_type": "stream",
     "text": [
      "Loss: 0.3274: 100%|██████████| 53/53 [00:13<00:00,  4.07it/s]\n",
      "Val Loss: 0.3337: 100%|██████████| 14/14 [00:03<00:00,  4.43it/s]\n"
     ]
    },
    {
     "name": "stdout",
     "output_type": "stream",
     "text": [
      "Epoch 39 | Train Loss: 0.5276 | Train F1: 0.9125 | Val Loss: 0.4554 | Val F1: 0.9533\n"
     ]
    },
    {
     "name": "stderr",
     "output_type": "stream",
     "text": [
      "Loss: 0.3359: 100%|██████████| 53/53 [00:13<00:00,  4.01it/s]\n",
      "Val Loss: 0.4155: 100%|██████████| 14/14 [00:03<00:00,  4.49it/s]\n"
     ]
    },
    {
     "name": "stdout",
     "output_type": "stream",
     "text": [
      "Epoch 40 | Train Loss: 0.4933 | Train F1: 0.9300 | Val Loss: 0.4255 | Val F1: 0.9627\n"
     ]
    },
    {
     "name": "stderr",
     "output_type": "stream",
     "text": [
      "Loss: 0.8789: 100%|██████████| 53/53 [00:12<00:00,  4.08it/s]\n",
      "Val Loss: 0.5143: 100%|██████████| 14/14 [00:02<00:00,  4.79it/s]\n"
     ]
    },
    {
     "name": "stdout",
     "output_type": "stream",
     "text": [
      "Epoch 41 | Train Loss: 0.5731 | Train F1: 0.8349 | Val Loss: 0.4445 | Val F1: 0.9487\n"
     ]
    },
    {
     "name": "stderr",
     "output_type": "stream",
     "text": [
      "Loss: 0.9849: 100%|██████████| 53/53 [00:12<00:00,  4.09it/s]\n",
      "Val Loss: 1.1480: 100%|██████████| 14/14 [00:02<00:00,  4.80it/s]\n"
     ]
    },
    {
     "name": "stdout",
     "output_type": "stream",
     "text": [
      "Epoch 42 | Train Loss: 0.5396 | Train F1: 0.8393 | Val Loss: 0.4907 | Val F1: 0.9553\n"
     ]
    },
    {
     "name": "stderr",
     "output_type": "stream",
     "text": [
      "Loss: 0.3667: 100%|██████████| 53/53 [00:12<00:00,  4.08it/s]\n",
      "Val Loss: 0.4622: 100%|██████████| 14/14 [00:03<00:00,  4.59it/s]\n"
     ]
    },
    {
     "name": "stdout",
     "output_type": "stream",
     "text": [
      "Epoch 43 | Train Loss: 0.5327 | Train F1: 0.8422 | Val Loss: 0.4445 | Val F1: 0.9538\n"
     ]
    },
    {
     "name": "stderr",
     "output_type": "stream",
     "text": [
      "Loss: 0.4197: 100%|██████████| 53/53 [00:12<00:00,  4.08it/s]\n",
      "Val Loss: 0.5619: 100%|██████████| 14/14 [00:02<00:00,  4.71it/s]\n"
     ]
    },
    {
     "name": "stdout",
     "output_type": "stream",
     "text": [
      "Epoch 44 | Train Loss: 0.4415 | Train F1: 0.9024 | Val Loss: 0.4619 | Val F1: 0.9564\n"
     ]
    },
    {
     "name": "stderr",
     "output_type": "stream",
     "text": [
      "Loss: 0.5288: 100%|██████████| 53/53 [00:13<00:00,  4.03it/s]\n",
      "Val Loss: 0.5718: 100%|██████████| 14/14 [00:02<00:00,  4.69it/s]"
     ]
    },
    {
     "name": "stdout",
     "output_type": "stream",
     "text": [
      "Epoch 45 | Train Loss: 0.5313 | Train F1: 0.8714 | Val Loss: 0.4582 | Val F1: 0.9708\n"
     ]
    },
    {
     "name": "stderr",
     "output_type": "stream",
     "text": [
      "\n",
      "Loss: 0.6396: 100%|██████████| 53/53 [00:12<00:00,  4.08it/s]\n",
      "Val Loss: 0.3286: 100%|██████████| 14/14 [00:02<00:00,  4.77it/s]\n"
     ]
    },
    {
     "name": "stdout",
     "output_type": "stream",
     "text": [
      "Epoch 46 | Train Loss: 0.5245 | Train F1: 0.8602 | Val Loss: 0.4155 | Val F1: 0.9691\n"
     ]
    },
    {
     "name": "stderr",
     "output_type": "stream",
     "text": [
      "Loss: 0.3254: 100%|██████████| 53/53 [00:12<00:00,  4.09it/s]\n",
      "Val Loss: 0.5531: 100%|██████████| 14/14 [00:02<00:00,  4.75it/s]"
     ]
    },
    {
     "name": "stdout",
     "output_type": "stream",
     "text": [
      "Epoch 47 | Train Loss: 0.5956 | Train F1: 0.8601 | Val Loss: 0.4287 | Val F1: 0.9709\n"
     ]
    },
    {
     "name": "stderr",
     "output_type": "stream",
     "text": [
      "\n",
      "Loss: 1.0029: 100%|██████████| 53/53 [00:12<00:00,  4.09it/s]\n",
      "Val Loss: 0.3433: 100%|██████████| 14/14 [00:03<00:00,  4.59it/s]\n"
     ]
    },
    {
     "name": "stdout",
     "output_type": "stream",
     "text": [
      "Epoch 48 | Train Loss: 0.4881 | Train F1: 0.9138 | Val Loss: 0.4245 | Val F1: 0.9614\n"
     ]
    },
    {
     "name": "stderr",
     "output_type": "stream",
     "text": [
      "Loss: 1.2686: 100%|██████████| 53/53 [00:13<00:00,  4.07it/s]\n",
      "Val Loss: 0.3785: 100%|██████████| 14/14 [00:02<00:00,  4.79it/s]\n"
     ]
    },
    {
     "name": "stdout",
     "output_type": "stream",
     "text": [
      "Epoch 49 | Train Loss: 0.5829 | Train F1: 0.7884 | Val Loss: 0.4530 | Val F1: 0.9512\n"
     ]
    },
    {
     "name": "stderr",
     "output_type": "stream",
     "text": [
      "Loss: 0.3633: 100%|██████████| 53/53 [00:12<00:00,  4.10it/s]\n",
      "Val Loss: 0.4878: 100%|██████████| 14/14 [00:02<00:00,  4.77it/s]\n"
     ]
    },
    {
     "name": "stdout",
     "output_type": "stream",
     "text": [
      "Epoch 50 | Train Loss: 0.5181 | Train F1: 0.8653 | Val Loss: 0.4475 | Val F1: 0.9568\n",
      "Fold 1 Best Validation F1: 0.9709\n",
      "\n",
      "==================================================\n",
      "FOLD 2/5\n",
      "==================================================\n",
      "Train samples: 1256, Validation samples: 314\n"
     ]
    },
    {
     "name": "stderr",
     "output_type": "stream",
     "text": [
      "Loss: 1.1582: 100%|██████████| 53/53 [00:12<00:00,  4.08it/s]\n",
      "Val Loss: 1.2594: 100%|██████████| 14/14 [00:03<00:00,  4.65it/s]"
     ]
    },
    {
     "name": "stdout",
     "output_type": "stream",
     "text": [
      "Epoch  1 | Train Loss: 1.9678 | Train F1: 0.3893 | Val Loss: 1.0924 | Val F1: 0.6346\n"
     ]
    },
    {
     "name": "stderr",
     "output_type": "stream",
     "text": [
      "\n",
      "Loss: 1.8496: 100%|██████████| 53/53 [00:12<00:00,  4.08it/s]\n",
      "Val Loss: 1.0747: 100%|██████████| 14/14 [00:03<00:00,  4.64it/s]"
     ]
    },
    {
     "name": "stdout",
     "output_type": "stream",
     "text": [
      "Epoch  2 | Train Loss: 1.2244 | Train F1: 0.6331 | Val Loss: 0.7889 | Val F1: 0.7891\n"
     ]
    },
    {
     "name": "stderr",
     "output_type": "stream",
     "text": [
      "\n",
      "Loss: 0.5225: 100%|██████████| 53/53 [00:13<00:00,  4.06it/s]\n",
      "Val Loss: 1.0864: 100%|██████████| 14/14 [00:03<00:00,  4.55it/s]"
     ]
    },
    {
     "name": "stdout",
     "output_type": "stream",
     "text": [
      "Epoch  3 | Train Loss: 1.0553 | Train F1: 0.7333 | Val Loss: 0.7059 | Val F1: 0.8153\n"
     ]
    },
    {
     "name": "stderr",
     "output_type": "stream",
     "text": [
      "\n",
      "Loss: 0.4045: 100%|██████████| 53/53 [00:12<00:00,  4.10it/s]\n",
      "Val Loss: 0.7257: 100%|██████████| 14/14 [00:03<00:00,  4.40it/s]"
     ]
    },
    {
     "name": "stdout",
     "output_type": "stream",
     "text": [
      "Epoch  4 | Train Loss: 1.0404 | Train F1: 0.6874 | Val Loss: 0.6583 | Val F1: 0.8673\n"
     ]
    },
    {
     "name": "stderr",
     "output_type": "stream",
     "text": [
      "\n",
      "Loss: 2.0410: 100%|██████████| 53/53 [00:13<00:00,  4.07it/s]\n",
      "Val Loss: 0.8446: 100%|██████████| 14/14 [00:03<00:00,  4.66it/s]"
     ]
    },
    {
     "name": "stdout",
     "output_type": "stream",
     "text": [
      "Epoch  5 | Train Loss: 0.8037 | Train F1: 0.7572 | Val Loss: 0.5687 | Val F1: 0.9027\n"
     ]
    },
    {
     "name": "stderr",
     "output_type": "stream",
     "text": [
      "\n",
      "Loss: 1.5117: 100%|██████████| 53/53 [00:12<00:00,  4.08it/s]\n",
      "Val Loss: 0.8409: 100%|██████████| 14/14 [00:02<00:00,  4.68it/s]\n"
     ]
    },
    {
     "name": "stdout",
     "output_type": "stream",
     "text": [
      "Epoch  6 | Train Loss: 0.7777 | Train F1: 0.7715 | Val Loss: 0.5658 | Val F1: 0.8829\n"
     ]
    },
    {
     "name": "stderr",
     "output_type": "stream",
     "text": [
      "Loss: 0.3386: 100%|██████████| 53/53 [00:12<00:00,  4.08it/s]\n",
      "Val Loss: 0.7689: 100%|██████████| 14/14 [00:03<00:00,  4.64it/s]"
     ]
    },
    {
     "name": "stdout",
     "output_type": "stream",
     "text": [
      "Epoch  7 | Train Loss: 0.8964 | Train F1: 0.7166 | Val Loss: 0.5802 | Val F1: 0.9057\n"
     ]
    },
    {
     "name": "stderr",
     "output_type": "stream",
     "text": [
      "\n",
      "Loss: 0.6201: 100%|██████████| 53/53 [00:12<00:00,  4.08it/s]\n",
      "Val Loss: 0.7903: 100%|██████████| 14/14 [00:03<00:00,  4.34it/s]"
     ]
    },
    {
     "name": "stdout",
     "output_type": "stream",
     "text": [
      "Epoch  8 | Train Loss: 0.8850 | Train F1: 0.7502 | Val Loss: 0.5423 | Val F1: 0.9111\n"
     ]
    },
    {
     "name": "stderr",
     "output_type": "stream",
     "text": [
      "\n",
      "Loss: 0.7490: 100%|██████████| 53/53 [00:13<00:00,  4.03it/s]\n",
      "Val Loss: 0.9185: 100%|██████████| 14/14 [00:03<00:00,  4.33it/s]"
     ]
    },
    {
     "name": "stdout",
     "output_type": "stream",
     "text": [
      "Epoch  9 | Train Loss: 0.6349 | Train F1: 0.8755 | Val Loss: 0.5437 | Val F1: 0.9159\n"
     ]
    },
    {
     "name": "stderr",
     "output_type": "stream",
     "text": [
      "\n",
      "Loss: 0.3425: 100%|██████████| 53/53 [00:13<00:00,  4.03it/s]\n",
      "Val Loss: 0.7670: 100%|██████████| 14/14 [00:02<00:00,  4.70it/s]"
     ]
    },
    {
     "name": "stdout",
     "output_type": "stream",
     "text": [
      "Epoch 10 | Train Loss: 0.7788 | Train F1: 0.7829 | Val Loss: 0.4887 | Val F1: 0.9380\n"
     ]
    },
    {
     "name": "stderr",
     "output_type": "stream",
     "text": [
      "\n",
      "Loss: 1.4102: 100%|██████████| 53/53 [00:13<00:00,  4.07it/s]\n",
      "Val Loss: 0.7699: 100%|██████████| 14/14 [00:03<00:00,  4.57it/s]"
     ]
    },
    {
     "name": "stdout",
     "output_type": "stream",
     "text": [
      "Epoch 11 | Train Loss: 0.7125 | Train F1: 0.8392 | Val Loss: 0.5093 | Val F1: 0.9407\n"
     ]
    },
    {
     "name": "stderr",
     "output_type": "stream",
     "text": [
      "\n",
      "Loss: 1.2295: 100%|██████████| 53/53 [00:12<00:00,  4.10it/s]\n",
      "Val Loss: 0.5277: 100%|██████████| 14/14 [00:02<00:00,  4.67it/s]\n"
     ]
    },
    {
     "name": "stdout",
     "output_type": "stream",
     "text": [
      "Epoch 12 | Train Loss: 0.6856 | Train F1: 0.8368 | Val Loss: 0.4842 | Val F1: 0.9286\n"
     ]
    },
    {
     "name": "stderr",
     "output_type": "stream",
     "text": [
      "Loss: 1.7402: 100%|██████████| 53/53 [00:12<00:00,  4.10it/s]\n",
      "Val Loss: 0.3405: 100%|██████████| 14/14 [00:03<00:00,  4.67it/s]\n"
     ]
    },
    {
     "name": "stdout",
     "output_type": "stream",
     "text": [
      "Epoch 13 | Train Loss: 0.6840 | Train F1: 0.7893 | Val Loss: 0.4948 | Val F1: 0.9135\n"
     ]
    },
    {
     "name": "stderr",
     "output_type": "stream",
     "text": [
      "Loss: 1.3506: 100%|██████████| 53/53 [00:13<00:00,  4.06it/s]\n",
      "Val Loss: 0.6687: 100%|██████████| 14/14 [00:03<00:00,  4.59it/s]"
     ]
    },
    {
     "name": "stdout",
     "output_type": "stream",
     "text": [
      "Epoch 14 | Train Loss: 0.6907 | Train F1: 0.8196 | Val Loss: 0.4754 | Val F1: 0.9472\n"
     ]
    },
    {
     "name": "stderr",
     "output_type": "stream",
     "text": [
      "\n",
      "Loss: 0.4504: 100%|██████████| 53/53 [00:13<00:00,  4.05it/s]\n",
      "Val Loss: 1.0213: 100%|██████████| 14/14 [00:03<00:00,  4.65it/s]\n"
     ]
    },
    {
     "name": "stdout",
     "output_type": "stream",
     "text": [
      "Epoch 15 | Train Loss: 0.7927 | Train F1: 0.8035 | Val Loss: 0.5319 | Val F1: 0.9372\n"
     ]
    },
    {
     "name": "stderr",
     "output_type": "stream",
     "text": [
      "Loss: 1.2988: 100%|██████████| 53/53 [00:12<00:00,  4.10it/s]\n",
      "Val Loss: 0.4941: 100%|██████████| 14/14 [00:03<00:00,  4.59it/s]\n"
     ]
    },
    {
     "name": "stdout",
     "output_type": "stream",
     "text": [
      "Epoch 16 | Train Loss: 0.6078 | Train F1: 0.8941 | Val Loss: 0.4858 | Val F1: 0.9293\n"
     ]
    },
    {
     "name": "stderr",
     "output_type": "stream",
     "text": [
      "Loss: 0.3381: 100%|██████████| 53/53 [00:12<00:00,  4.08it/s]\n",
      "Val Loss: 0.3636: 100%|██████████| 14/14 [00:03<00:00,  4.62it/s]\n"
     ]
    },
    {
     "name": "stdout",
     "output_type": "stream",
     "text": [
      "Epoch 17 | Train Loss: 0.6605 | Train F1: 0.7835 | Val Loss: 0.4896 | Val F1: 0.9280\n"
     ]
    },
    {
     "name": "stderr",
     "output_type": "stream",
     "text": [
      "Loss: 1.2930: 100%|██████████| 53/53 [00:13<00:00,  4.06it/s]\n",
      "Val Loss: 0.6187: 100%|██████████| 14/14 [00:03<00:00,  4.50it/s]"
     ]
    },
    {
     "name": "stdout",
     "output_type": "stream",
     "text": [
      "Epoch 18 | Train Loss: 0.5713 | Train F1: 0.8597 | Val Loss: 0.4923 | Val F1: 0.9565\n"
     ]
    },
    {
     "name": "stderr",
     "output_type": "stream",
     "text": [
      "\n",
      "Loss: 0.7505: 100%|██████████| 53/53 [00:12<00:00,  4.09it/s]\n",
      "Val Loss: 0.4387: 100%|██████████| 14/14 [00:03<00:00,  4.61it/s]\n"
     ]
    },
    {
     "name": "stdout",
     "output_type": "stream",
     "text": [
      "Epoch 19 | Train Loss: 0.6197 | Train F1: 0.8674 | Val Loss: 0.4831 | Val F1: 0.9338\n"
     ]
    },
    {
     "name": "stderr",
     "output_type": "stream",
     "text": [
      "Loss: 0.3457: 100%|██████████| 53/53 [00:12<00:00,  4.08it/s]\n",
      "Val Loss: 0.4109: 100%|██████████| 14/14 [00:03<00:00,  4.57it/s]\n"
     ]
    },
    {
     "name": "stdout",
     "output_type": "stream",
     "text": [
      "Epoch 20 | Train Loss: 0.6464 | Train F1: 0.8099 | Val Loss: 0.4842 | Val F1: 0.9425\n"
     ]
    },
    {
     "name": "stderr",
     "output_type": "stream",
     "text": [
      "Loss: 0.9424: 100%|██████████| 53/53 [00:13<00:00,  4.04it/s]\n",
      "Val Loss: 0.3506: 100%|██████████| 14/14 [00:03<00:00,  4.51it/s]"
     ]
    },
    {
     "name": "stdout",
     "output_type": "stream",
     "text": [
      "Epoch 21 | Train Loss: 0.5567 | Train F1: 0.8799 | Val Loss: 0.4553 | Val F1: 0.9631\n"
     ]
    },
    {
     "name": "stderr",
     "output_type": "stream",
     "text": [
      "\n",
      "Loss: 1.0186: 100%|██████████| 53/53 [00:12<00:00,  4.10it/s]\n",
      "Val Loss: 0.6625: 100%|██████████| 14/14 [00:02<00:00,  4.72it/s]\n"
     ]
    },
    {
     "name": "stdout",
     "output_type": "stream",
     "text": [
      "Epoch 22 | Train Loss: 0.5374 | Train F1: 0.8662 | Val Loss: 0.4805 | Val F1: 0.9565\n"
     ]
    },
    {
     "name": "stderr",
     "output_type": "stream",
     "text": [
      "Loss: 0.3328: 100%|██████████| 53/53 [00:13<00:00,  4.06it/s]\n",
      "Val Loss: 1.0888: 100%|██████████| 14/14 [00:03<00:00,  4.65it/s]\n"
     ]
    },
    {
     "name": "stdout",
     "output_type": "stream",
     "text": [
      "Epoch 23 | Train Loss: 0.5808 | Train F1: 0.8472 | Val Loss: 0.5285 | Val F1: 0.9421\n"
     ]
    },
    {
     "name": "stderr",
     "output_type": "stream",
     "text": [
      "Loss: 1.3105: 100%|██████████| 53/53 [00:13<00:00,  4.08it/s]\n",
      "Val Loss: 0.4183: 100%|██████████| 14/14 [00:03<00:00,  4.56it/s]\n"
     ]
    },
    {
     "name": "stdout",
     "output_type": "stream",
     "text": [
      "Epoch 24 | Train Loss: 0.5540 | Train F1: 0.9127 | Val Loss: 0.4754 | Val F1: 0.9600\n"
     ]
    },
    {
     "name": "stderr",
     "output_type": "stream",
     "text": [
      "Loss: 1.1211: 100%|██████████| 53/53 [00:12<00:00,  4.10it/s]\n",
      "Val Loss: 0.4936: 100%|██████████| 14/14 [00:03<00:00,  4.64it/s]\n"
     ]
    },
    {
     "name": "stdout",
     "output_type": "stream",
     "text": [
      "Epoch 25 | Train Loss: 0.6663 | Train F1: 0.8220 | Val Loss: 0.4754 | Val F1: 0.9575\n"
     ]
    },
    {
     "name": "stderr",
     "output_type": "stream",
     "text": [
      "Loss: 0.3330: 100%|██████████| 53/53 [00:13<00:00,  4.07it/s]\n",
      "Val Loss: 1.0319: 100%|██████████| 14/14 [00:02<00:00,  4.76it/s]\n"
     ]
    },
    {
     "name": "stdout",
     "output_type": "stream",
     "text": [
      "Epoch 26 | Train Loss: 0.5602 | Train F1: 0.8955 | Val Loss: 0.5189 | Val F1: 0.9442\n"
     ]
    },
    {
     "name": "stderr",
     "output_type": "stream",
     "text": [
      "Loss: 0.3291: 100%|██████████| 53/53 [00:13<00:00,  4.08it/s]\n",
      "Val Loss: 1.0680: 100%|██████████| 14/14 [00:02<00:00,  4.72it/s]\n"
     ]
    },
    {
     "name": "stdout",
     "output_type": "stream",
     "text": [
      "Epoch 27 | Train Loss: 0.6193 | Train F1: 0.8089 | Val Loss: 0.5476 | Val F1: 0.9418\n"
     ]
    },
    {
     "name": "stderr",
     "output_type": "stream",
     "text": [
      "Loss: 0.3533: 100%|██████████| 53/53 [00:12<00:00,  4.10it/s]\n",
      "Val Loss: 0.3736: 100%|██████████| 14/14 [00:03<00:00,  4.65it/s]\n"
     ]
    },
    {
     "name": "stdout",
     "output_type": "stream",
     "text": [
      "Epoch 28 | Train Loss: 0.5887 | Train F1: 0.8318 | Val Loss: 0.4817 | Val F1: 0.9433\n"
     ]
    },
    {
     "name": "stderr",
     "output_type": "stream",
     "text": [
      "Loss: 0.3257: 100%|██████████| 53/53 [00:12<00:00,  4.08it/s]\n",
      "Val Loss: 1.0907: 100%|██████████| 14/14 [00:03<00:00,  4.59it/s]\n"
     ]
    },
    {
     "name": "stdout",
     "output_type": "stream",
     "text": [
      "Epoch 29 | Train Loss: 0.5841 | Train F1: 0.8464 | Val Loss: 0.5192 | Val F1: 0.9445\n"
     ]
    },
    {
     "name": "stderr",
     "output_type": "stream",
     "text": [
      "Loss: 0.3257: 100%|██████████| 53/53 [00:12<00:00,  4.10it/s]\n",
      "Val Loss: 0.3963: 100%|██████████| 14/14 [00:03<00:00,  4.36it/s]"
     ]
    },
    {
     "name": "stdout",
     "output_type": "stream",
     "text": [
      "Epoch 30 | Train Loss: 0.6103 | Train F1: 0.7981 | Val Loss: 0.4422 | Val F1: 0.9644\n"
     ]
    },
    {
     "name": "stderr",
     "output_type": "stream",
     "text": [
      "\n",
      "Loss: 0.3394: 100%|██████████| 53/53 [00:13<00:00,  4.07it/s]\n",
      "Val Loss: 0.6636: 100%|██████████| 14/14 [00:02<00:00,  4.78it/s]\n"
     ]
    },
    {
     "name": "stdout",
     "output_type": "stream",
     "text": [
      "Epoch 31 | Train Loss: 0.5712 | Train F1: 0.8826 | Val Loss: 0.4894 | Val F1: 0.9521\n"
     ]
    },
    {
     "name": "stderr",
     "output_type": "stream",
     "text": [
      "Loss: 0.3330: 100%|██████████| 53/53 [00:13<00:00,  4.07it/s]\n",
      "Val Loss: 0.8139: 100%|██████████| 14/14 [00:02<00:00,  4.74it/s]\n"
     ]
    },
    {
     "name": "stdout",
     "output_type": "stream",
     "text": [
      "Epoch 32 | Train Loss: 0.5601 | Train F1: 0.9072 | Val Loss: 0.4938 | Val F1: 0.9571\n"
     ]
    },
    {
     "name": "stderr",
     "output_type": "stream",
     "text": [
      "Loss: 0.3330: 100%|██████████| 53/53 [00:12<00:00,  4.08it/s]\n",
      "Val Loss: 0.9454: 100%|██████████| 14/14 [00:02<00:00,  4.72it/s]\n"
     ]
    },
    {
     "name": "stdout",
     "output_type": "stream",
     "text": [
      "Epoch 33 | Train Loss: 0.6070 | Train F1: 0.8316 | Val Loss: 0.4842 | Val F1: 0.9635\n"
     ]
    },
    {
     "name": "stderr",
     "output_type": "stream",
     "text": [
      "Loss: 1.0615: 100%|██████████| 53/53 [00:12<00:00,  4.08it/s]\n",
      "Val Loss: 0.3418: 100%|██████████| 14/14 [00:03<00:00,  4.63it/s]\n"
     ]
    },
    {
     "name": "stdout",
     "output_type": "stream",
     "text": [
      "Epoch 34 | Train Loss: 0.5810 | Train F1: 0.8791 | Val Loss: 0.4578 | Val F1: 0.9581\n"
     ]
    },
    {
     "name": "stderr",
     "output_type": "stream",
     "text": [
      "Loss: 0.4834: 100%|██████████| 53/53 [00:13<00:00,  4.07it/s]\n",
      "Val Loss: 0.3525: 100%|██████████| 14/14 [00:02<00:00,  4.71it/s]\n"
     ]
    },
    {
     "name": "stdout",
     "output_type": "stream",
     "text": [
      "Epoch 35 | Train Loss: 0.6283 | Train F1: 0.7985 | Val Loss: 0.4731 | Val F1: 0.9487\n"
     ]
    },
    {
     "name": "stderr",
     "output_type": "stream",
     "text": [
      "Loss: 0.9795: 100%|██████████| 53/53 [00:12<00:00,  4.08it/s]\n",
      "Val Loss: 0.5050: 100%|██████████| 14/14 [00:03<00:00,  4.62it/s]"
     ]
    },
    {
     "name": "stdout",
     "output_type": "stream",
     "text": [
      "Epoch 36 | Train Loss: 0.5373 | Train F1: 0.8578 | Val Loss: 0.4644 | Val F1: 0.9695\n"
     ]
    },
    {
     "name": "stderr",
     "output_type": "stream",
     "text": [
      "\n",
      "Loss: 0.3225: 100%|██████████| 53/53 [00:12<00:00,  4.09it/s]\n",
      "Val Loss: 0.4332: 100%|██████████| 14/14 [00:03<00:00,  4.62it/s]\n"
     ]
    },
    {
     "name": "stdout",
     "output_type": "stream",
     "text": [
      "Epoch 37 | Train Loss: 0.5139 | Train F1: 0.8457 | Val Loss: 0.4607 | Val F1: 0.9607\n"
     ]
    },
    {
     "name": "stderr",
     "output_type": "stream",
     "text": [
      "Loss: 0.8984: 100%|██████████| 53/53 [00:13<00:00,  4.05it/s]\n",
      "Val Loss: 0.3691: 100%|██████████| 14/14 [00:02<00:00,  4.69it/s]\n"
     ]
    },
    {
     "name": "stdout",
     "output_type": "stream",
     "text": [
      "Epoch 38 | Train Loss: 0.5530 | Train F1: 0.8859 | Val Loss: 0.4540 | Val F1: 0.9674\n"
     ]
    },
    {
     "name": "stderr",
     "output_type": "stream",
     "text": [
      "Loss: 0.3311: 100%|██████████| 53/53 [00:13<00:00,  4.07it/s]\n",
      "Val Loss: 0.4454: 100%|██████████| 14/14 [00:03<00:00,  4.57it/s]\n"
     ]
    },
    {
     "name": "stdout",
     "output_type": "stream",
     "text": [
      "Epoch 39 | Train Loss: 0.5834 | Train F1: 0.7986 | Val Loss: 0.4748 | Val F1: 0.9554\n"
     ]
    },
    {
     "name": "stderr",
     "output_type": "stream",
     "text": [
      "Loss: 0.5811: 100%|██████████| 53/53 [00:12<00:00,  4.09it/s]\n",
      "Val Loss: 1.0410: 100%|██████████| 14/14 [00:03<00:00,  4.65it/s]\n"
     ]
    },
    {
     "name": "stdout",
     "output_type": "stream",
     "text": [
      "Epoch 40 | Train Loss: 0.5632 | Train F1: 0.8687 | Val Loss: 0.5221 | Val F1: 0.9613\n"
     ]
    },
    {
     "name": "stderr",
     "output_type": "stream",
     "text": [
      "Loss: 0.7891: 100%|██████████| 53/53 [00:13<00:00,  4.06it/s]\n",
      "Val Loss: 0.3922: 100%|██████████| 14/14 [00:03<00:00,  4.56it/s]\n"
     ]
    },
    {
     "name": "stdout",
     "output_type": "stream",
     "text": [
      "Epoch 41 | Train Loss: 0.5591 | Train F1: 0.8592 | Val Loss: 0.4479 | Val F1: 0.9587\n"
     ]
    },
    {
     "name": "stderr",
     "output_type": "stream",
     "text": [
      "Loss: 0.9434: 100%|██████████| 53/53 [00:13<00:00,  4.08it/s]\n",
      "Val Loss: 0.4288: 100%|██████████| 14/14 [00:02<00:00,  4.71it/s]\n"
     ]
    },
    {
     "name": "stdout",
     "output_type": "stream",
     "text": [
      "Epoch 42 | Train Loss: 0.4865 | Train F1: 0.9018 | Val Loss: 0.4547 | Val F1: 0.9598\n"
     ]
    },
    {
     "name": "stderr",
     "output_type": "stream",
     "text": [
      "Loss: 0.3228: 100%|██████████| 53/53 [00:13<00:00,  4.07it/s]\n",
      "Val Loss: 0.3746: 100%|██████████| 14/14 [00:03<00:00,  4.65it/s]\n"
     ]
    },
    {
     "name": "stdout",
     "output_type": "stream",
     "text": [
      "Epoch 43 | Train Loss: 0.4847 | Train F1: 0.8804 | Val Loss: 0.4560 | Val F1: 0.9598\n"
     ]
    },
    {
     "name": "stderr",
     "output_type": "stream",
     "text": [
      "Loss: 0.4275: 100%|██████████| 53/53 [00:13<00:00,  4.07it/s]\n",
      "Val Loss: 0.4221: 100%|██████████| 14/14 [00:02<00:00,  4.69it/s]\n"
     ]
    },
    {
     "name": "stdout",
     "output_type": "stream",
     "text": [
      "Epoch 44 | Train Loss: 0.6288 | Train F1: 0.7999 | Val Loss: 0.4552 | Val F1: 0.9695\n"
     ]
    },
    {
     "name": "stderr",
     "output_type": "stream",
     "text": [
      "Loss: 0.3240: 100%|██████████| 53/53 [00:13<00:00,  4.07it/s]\n",
      "Val Loss: 0.6190: 100%|██████████| 14/14 [00:03<00:00,  4.60it/s]\n"
     ]
    },
    {
     "name": "stdout",
     "output_type": "stream",
     "text": [
      "Epoch 45 | Train Loss: 0.4658 | Train F1: 0.8977 | Val Loss: 0.4657 | Val F1: 0.9693\n"
     ]
    },
    {
     "name": "stderr",
     "output_type": "stream",
     "text": [
      "Loss: 0.6787: 100%|██████████| 53/53 [00:13<00:00,  4.06it/s]\n",
      "Val Loss: 0.8310: 100%|██████████| 14/14 [00:02<00:00,  4.68it/s]\n"
     ]
    },
    {
     "name": "stdout",
     "output_type": "stream",
     "text": [
      "Epoch 46 | Train Loss: 0.4687 | Train F1: 0.9483 | Val Loss: 0.4703 | Val F1: 0.9695\n"
     ]
    },
    {
     "name": "stderr",
     "output_type": "stream",
     "text": [
      "Loss: 1.0820: 100%|██████████| 53/53 [00:13<00:00,  4.08it/s]\n",
      "Val Loss: 0.6368: 100%|██████████| 14/14 [00:03<00:00,  4.63it/s]\n"
     ]
    },
    {
     "name": "stdout",
     "output_type": "stream",
     "text": [
      "Epoch 47 | Train Loss: 0.5701 | Train F1: 0.8661 | Val Loss: 0.4675 | Val F1: 0.9674\n"
     ]
    },
    {
     "name": "stderr",
     "output_type": "stream",
     "text": [
      "Loss: 0.3240: 100%|██████████| 53/53 [00:12<00:00,  4.12it/s]\n",
      "Val Loss: 0.4066: 100%|██████████| 14/14 [00:03<00:00,  4.62it/s]\n"
     ]
    },
    {
     "name": "stdout",
     "output_type": "stream",
     "text": [
      "Epoch 48 | Train Loss: 0.4597 | Train F1: 0.8792 | Val Loss: 0.4597 | Val F1: 0.9661\n"
     ]
    },
    {
     "name": "stderr",
     "output_type": "stream",
     "text": [
      "Loss: 0.3242: 100%|██████████| 53/53 [00:12<00:00,  4.09it/s]\n",
      "Val Loss: 0.4026: 100%|██████████| 14/14 [00:03<00:00,  4.65it/s]"
     ]
    },
    {
     "name": "stdout",
     "output_type": "stream",
     "text": [
      "Epoch 49 | Train Loss: 0.4929 | Train F1: 0.8685 | Val Loss: 0.4386 | Val F1: 0.9752\n"
     ]
    },
    {
     "name": "stderr",
     "output_type": "stream",
     "text": [
      "\n",
      "Loss: 0.3235: 100%|██████████| 53/53 [00:13<00:00,  4.05it/s]\n",
      "Val Loss: 0.8453: 100%|██████████| 14/14 [00:03<00:00,  4.49it/s]\n"
     ]
    },
    {
     "name": "stdout",
     "output_type": "stream",
     "text": [
      "Epoch 50 | Train Loss: 0.4896 | Train F1: 0.8866 | Val Loss: 0.4838 | Val F1: 0.9635\n",
      "Fold 2 Best Validation F1: 0.9752\n",
      "\n",
      "==================================================\n",
      "FOLD 3/5\n",
      "==================================================\n",
      "Train samples: 1256, Validation samples: 314\n"
     ]
    },
    {
     "name": "stderr",
     "output_type": "stream",
     "text": [
      "Loss: 1.9570: 100%|██████████| 53/53 [00:13<00:00,  4.05it/s]\n",
      "Val Loss: 0.4868: 100%|██████████| 14/14 [00:03<00:00,  4.48it/s]"
     ]
    },
    {
     "name": "stdout",
     "output_type": "stream",
     "text": [
      "Epoch  1 | Train Loss: 1.9830 | Train F1: 0.3859 | Val Loss: 1.0415 | Val F1: 0.6740\n"
     ]
    },
    {
     "name": "stderr",
     "output_type": "stream",
     "text": [
      "\n",
      "Loss: 1.0361: 100%|██████████| 53/53 [00:13<00:00,  4.06it/s]\n",
      "Val Loss: 0.3443: 100%|██████████| 14/14 [00:03<00:00,  4.62it/s]"
     ]
    },
    {
     "name": "stdout",
     "output_type": "stream",
     "text": [
      "Epoch  2 | Train Loss: 1.2272 | Train F1: 0.6204 | Val Loss: 0.7695 | Val F1: 0.7811\n"
     ]
    },
    {
     "name": "stderr",
     "output_type": "stream",
     "text": [
      "\n",
      "Loss: 1.2266: 100%|██████████| 53/53 [00:12<00:00,  4.08it/s]\n",
      "Val Loss: 0.3465: 100%|██████████| 14/14 [00:03<00:00,  4.62it/s]"
     ]
    },
    {
     "name": "stdout",
     "output_type": "stream",
     "text": [
      "Epoch  3 | Train Loss: 0.9790 | Train F1: 0.6616 | Val Loss: 0.6457 | Val F1: 0.8563\n"
     ]
    },
    {
     "name": "stderr",
     "output_type": "stream",
     "text": [
      "\n",
      "Loss: 0.9697: 100%|██████████| 53/53 [00:13<00:00,  4.07it/s]\n",
      "Val Loss: 0.3451: 100%|██████████| 14/14 [00:03<00:00,  4.61it/s]\n"
     ]
    },
    {
     "name": "stdout",
     "output_type": "stream",
     "text": [
      "Epoch  4 | Train Loss: 0.8338 | Train F1: 0.7863 | Val Loss: 0.6036 | Val F1: 0.8457\n"
     ]
    },
    {
     "name": "stderr",
     "output_type": "stream",
     "text": [
      "Loss: 0.4639: 100%|██████████| 53/53 [00:12<00:00,  4.08it/s]\n",
      "Val Loss: 0.3406: 100%|██████████| 14/14 [00:03<00:00,  4.62it/s]"
     ]
    },
    {
     "name": "stdout",
     "output_type": "stream",
     "text": [
      "Epoch  5 | Train Loss: 0.8463 | Train F1: 0.7508 | Val Loss: 0.5844 | Val F1: 0.8645\n"
     ]
    },
    {
     "name": "stderr",
     "output_type": "stream",
     "text": [
      "\n",
      "Loss: 1.4160: 100%|██████████| 53/53 [00:12<00:00,  4.08it/s]\n",
      "Val Loss: 0.3352: 100%|██████████| 14/14 [00:03<00:00,  4.48it/s]"
     ]
    },
    {
     "name": "stdout",
     "output_type": "stream",
     "text": [
      "Epoch  6 | Train Loss: 0.7667 | Train F1: 0.7906 | Val Loss: 0.5529 | Val F1: 0.8920\n"
     ]
    },
    {
     "name": "stderr",
     "output_type": "stream",
     "text": [
      "\n",
      "Loss: 2.8047: 100%|██████████| 53/53 [00:13<00:00,  4.04it/s]\n",
      "Val Loss: 0.3414: 100%|██████████| 14/14 [00:03<00:00,  4.56it/s]\n"
     ]
    },
    {
     "name": "stdout",
     "output_type": "stream",
     "text": [
      "Epoch  7 | Train Loss: 0.8598 | Train F1: 0.7577 | Val Loss: 0.5649 | Val F1: 0.8532\n"
     ]
    },
    {
     "name": "stderr",
     "output_type": "stream",
     "text": [
      "Loss: 0.3594: 100%|██████████| 53/53 [00:13<00:00,  4.05it/s]\n",
      "Val Loss: 0.3427: 100%|██████████| 14/14 [00:03<00:00,  4.48it/s]\n"
     ]
    },
    {
     "name": "stdout",
     "output_type": "stream",
     "text": [
      "Epoch  8 | Train Loss: 0.7861 | Train F1: 0.8217 | Val Loss: 0.5258 | Val F1: 0.8855\n"
     ]
    },
    {
     "name": "stderr",
     "output_type": "stream",
     "text": [
      "Loss: 0.5107: 100%|██████████| 53/53 [00:13<00:00,  4.07it/s]\n",
      "Val Loss: 0.3317: 100%|██████████| 14/14 [00:03<00:00,  4.63it/s]\n"
     ]
    },
    {
     "name": "stdout",
     "output_type": "stream",
     "text": [
      "Epoch  9 | Train Loss: 0.7401 | Train F1: 0.8135 | Val Loss: 0.5844 | Val F1: 0.8611\n"
     ]
    },
    {
     "name": "stderr",
     "output_type": "stream",
     "text": [
      "Loss: 0.4390: 100%|██████████| 53/53 [00:13<00:00,  4.03it/s]\n",
      "Val Loss: 0.3288: 100%|██████████| 14/14 [00:02<00:00,  4.72it/s]"
     ]
    },
    {
     "name": "stdout",
     "output_type": "stream",
     "text": [
      "Epoch 10 | Train Loss: 0.7701 | Train F1: 0.7726 | Val Loss: 0.4885 | Val F1: 0.9304\n"
     ]
    },
    {
     "name": "stderr",
     "output_type": "stream",
     "text": [
      "\n",
      "Loss: 0.4675: 100%|██████████| 53/53 [00:13<00:00,  4.07it/s]\n",
      "Val Loss: 0.3279: 100%|██████████| 14/14 [00:03<00:00,  4.52it/s]\n"
     ]
    },
    {
     "name": "stdout",
     "output_type": "stream",
     "text": [
      "Epoch 11 | Train Loss: 0.7282 | Train F1: 0.8278 | Val Loss: 0.4692 | Val F1: 0.9301\n"
     ]
    },
    {
     "name": "stderr",
     "output_type": "stream",
     "text": [
      "Loss: 0.4329: 100%|██████████| 53/53 [00:13<00:00,  4.07it/s]\n",
      "Val Loss: 0.3280: 100%|██████████| 14/14 [00:03<00:00,  4.62it/s]"
     ]
    },
    {
     "name": "stdout",
     "output_type": "stream",
     "text": [
      "Epoch 12 | Train Loss: 0.6452 | Train F1: 0.8621 | Val Loss: 0.4608 | Val F1: 0.9392\n"
     ]
    },
    {
     "name": "stderr",
     "output_type": "stream",
     "text": [
      "\n",
      "Loss: 0.7588: 100%|██████████| 53/53 [00:13<00:00,  4.07it/s]\n",
      "Val Loss: 0.3307: 100%|██████████| 14/14 [00:03<00:00,  4.66it/s]\n"
     ]
    },
    {
     "name": "stdout",
     "output_type": "stream",
     "text": [
      "Epoch 13 | Train Loss: 0.6982 | Train F1: 0.8462 | Val Loss: 0.4826 | Val F1: 0.9129\n"
     ]
    },
    {
     "name": "stderr",
     "output_type": "stream",
     "text": [
      "Loss: 0.3386: 100%|██████████| 53/53 [00:12<00:00,  4.09it/s]\n",
      "Val Loss: 0.3263: 100%|██████████| 14/14 [00:03<00:00,  4.42it/s]\n"
     ]
    },
    {
     "name": "stdout",
     "output_type": "stream",
     "text": [
      "Epoch 14 | Train Loss: 0.6529 | Train F1: 0.8509 | Val Loss: 0.5231 | Val F1: 0.8894\n"
     ]
    },
    {
     "name": "stderr",
     "output_type": "stream",
     "text": [
      "Loss: 1.0654: 100%|██████████| 53/53 [00:13<00:00,  4.04it/s]\n",
      "Val Loss: 0.3294: 100%|██████████| 14/14 [00:03<00:00,  4.32it/s]\n"
     ]
    },
    {
     "name": "stdout",
     "output_type": "stream",
     "text": [
      "Epoch 15 | Train Loss: 0.7424 | Train F1: 0.8075 | Val Loss: 0.4861 | Val F1: 0.9207\n"
     ]
    },
    {
     "name": "stderr",
     "output_type": "stream",
     "text": [
      "Loss: 0.3391: 100%|██████████| 53/53 [00:13<00:00,  4.01it/s]\n",
      "Val Loss: 0.3248: 100%|██████████| 14/14 [00:03<00:00,  4.56it/s]"
     ]
    },
    {
     "name": "stdout",
     "output_type": "stream",
     "text": [
      "Epoch 16 | Train Loss: 0.7245 | Train F1: 0.7845 | Val Loss: 0.4445 | Val F1: 0.9419\n"
     ]
    },
    {
     "name": "stderr",
     "output_type": "stream",
     "text": [
      "\n",
      "Loss: 0.3325: 100%|██████████| 53/53 [00:12<00:00,  4.10it/s]\n",
      "Val Loss: 0.3301: 100%|██████████| 14/14 [00:03<00:00,  4.65it/s]\n"
     ]
    },
    {
     "name": "stdout",
     "output_type": "stream",
     "text": [
      "Epoch 17 | Train Loss: 0.6622 | Train F1: 0.7788 | Val Loss: 0.4675 | Val F1: 0.9302\n"
     ]
    },
    {
     "name": "stderr",
     "output_type": "stream",
     "text": [
      "Loss: 0.5464: 100%|██████████| 53/53 [00:13<00:00,  4.04it/s]\n",
      "Val Loss: 0.3308: 100%|██████████| 14/14 [00:03<00:00,  4.59it/s]\n"
     ]
    },
    {
     "name": "stdout",
     "output_type": "stream",
     "text": [
      "Epoch 18 | Train Loss: 0.5658 | Train F1: 0.8840 | Val Loss: 0.4729 | Val F1: 0.9291\n"
     ]
    },
    {
     "name": "stderr",
     "output_type": "stream",
     "text": [
      "Loss: 0.3372: 100%|██████████| 53/53 [00:12<00:00,  4.08it/s]\n",
      "Val Loss: 0.3292: 100%|██████████| 14/14 [00:03<00:00,  4.61it/s]"
     ]
    },
    {
     "name": "stdout",
     "output_type": "stream",
     "text": [
      "Epoch 19 | Train Loss: 0.5811 | Train F1: 0.8727 | Val Loss: 0.4546 | Val F1: 0.9478\n"
     ]
    },
    {
     "name": "stderr",
     "output_type": "stream",
     "text": [
      "\n",
      "Loss: 0.5576: 100%|██████████| 53/53 [00:13<00:00,  4.06it/s]\n",
      "Val Loss: 0.3242: 100%|██████████| 14/14 [00:03<00:00,  4.41it/s]\n"
     ]
    },
    {
     "name": "stdout",
     "output_type": "stream",
     "text": [
      "Epoch 20 | Train Loss: 0.6574 | Train F1: 0.8246 | Val Loss: 0.4401 | Val F1: 0.9415\n"
     ]
    },
    {
     "name": "stderr",
     "output_type": "stream",
     "text": [
      "Loss: 0.3682: 100%|██████████| 53/53 [00:13<00:00,  3.99it/s]\n",
      "Val Loss: 0.3239: 100%|██████████| 14/14 [00:03<00:00,  4.54it/s]\n"
     ]
    },
    {
     "name": "stdout",
     "output_type": "stream",
     "text": [
      "Epoch 21 | Train Loss: 0.5621 | Train F1: 0.8875 | Val Loss: 0.4367 | Val F1: 0.9471\n"
     ]
    },
    {
     "name": "stderr",
     "output_type": "stream",
     "text": [
      "Loss: 0.3433: 100%|██████████| 53/53 [00:13<00:00,  4.08it/s]\n",
      "Val Loss: 0.3304: 100%|██████████| 14/14 [00:03<00:00,  4.64it/s]"
     ]
    },
    {
     "name": "stdout",
     "output_type": "stream",
     "text": [
      "Epoch 22 | Train Loss: 0.5646 | Train F1: 0.8707 | Val Loss: 0.4428 | Val F1: 0.9484\n"
     ]
    },
    {
     "name": "stderr",
     "output_type": "stream",
     "text": [
      "\n",
      "Loss: 0.3362: 100%|██████████| 53/53 [00:12<00:00,  4.08it/s]\n",
      "Val Loss: 0.3244: 100%|██████████| 14/14 [00:02<00:00,  4.68it/s]\n"
     ]
    },
    {
     "name": "stdout",
     "output_type": "stream",
     "text": [
      "Epoch 23 | Train Loss: 0.5445 | Train F1: 0.8609 | Val Loss: 0.5154 | Val F1: 0.9235\n"
     ]
    },
    {
     "name": "stderr",
     "output_type": "stream",
     "text": [
      "Loss: 0.3313: 100%|██████████| 53/53 [00:13<00:00,  4.06it/s]\n",
      "Val Loss: 0.3253: 100%|██████████| 14/14 [00:03<00:00,  4.54it/s]\n"
     ]
    },
    {
     "name": "stdout",
     "output_type": "stream",
     "text": [
      "Epoch 24 | Train Loss: 0.6225 | Train F1: 0.8054 | Val Loss: 0.4472 | Val F1: 0.9388\n"
     ]
    },
    {
     "name": "stderr",
     "output_type": "stream",
     "text": [
      "Loss: 0.3286: 100%|██████████| 53/53 [00:13<00:00,  4.05it/s]\n",
      "Val Loss: 0.3282: 100%|██████████| 14/14 [00:03<00:00,  4.60it/s]\n"
     ]
    },
    {
     "name": "stdout",
     "output_type": "stream",
     "text": [
      "Epoch 25 | Train Loss: 0.5596 | Train F1: 0.8022 | Val Loss: 0.4680 | Val F1: 0.9353\n"
     ]
    },
    {
     "name": "stderr",
     "output_type": "stream",
     "text": [
      "Loss: 0.3259: 100%|██████████| 53/53 [00:13<00:00,  4.07it/s]\n",
      "Val Loss: 0.3242: 100%|██████████| 14/14 [00:03<00:00,  4.46it/s]\n"
     ]
    },
    {
     "name": "stdout",
     "output_type": "stream",
     "text": [
      "Epoch 26 | Train Loss: 0.5296 | Train F1: 0.8529 | Val Loss: 0.4686 | Val F1: 0.9407\n"
     ]
    },
    {
     "name": "stderr",
     "output_type": "stream",
     "text": [
      "Loss: 0.3293: 100%|██████████| 53/53 [00:13<00:00,  4.05it/s]\n",
      "Val Loss: 0.3231: 100%|██████████| 14/14 [00:03<00:00,  4.53it/s]\n"
     ]
    },
    {
     "name": "stdout",
     "output_type": "stream",
     "text": [
      "Epoch 27 | Train Loss: 0.6714 | Train F1: 0.7962 | Val Loss: 0.4422 | Val F1: 0.9400\n"
     ]
    },
    {
     "name": "stderr",
     "output_type": "stream",
     "text": [
      "Loss: 0.4087: 100%|██████████| 53/53 [00:12<00:00,  4.09it/s]\n",
      "Val Loss: 0.3228: 100%|██████████| 14/14 [00:03<00:00,  4.63it/s]\n"
     ]
    },
    {
     "name": "stdout",
     "output_type": "stream",
     "text": [
      "Epoch 28 | Train Loss: 0.5652 | Train F1: 0.8407 | Val Loss: 0.4453 | Val F1: 0.9427\n"
     ]
    },
    {
     "name": "stderr",
     "output_type": "stream",
     "text": [
      "Loss: 0.3286: 100%|██████████| 53/53 [00:13<00:00,  4.06it/s]\n",
      "Val Loss: 0.3234: 100%|██████████| 14/14 [00:03<00:00,  4.59it/s]\n"
     ]
    },
    {
     "name": "stdout",
     "output_type": "stream",
     "text": [
      "Epoch 29 | Train Loss: 0.5499 | Train F1: 0.9247 | Val Loss: 0.4610 | Val F1: 0.9355\n"
     ]
    },
    {
     "name": "stderr",
     "output_type": "stream",
     "text": [
      "Loss: 0.6494: 100%|██████████| 53/53 [00:13<00:00,  4.05it/s]\n",
      "Val Loss: 0.3253: 100%|██████████| 14/14 [00:03<00:00,  4.49it/s]\n"
     ]
    },
    {
     "name": "stdout",
     "output_type": "stream",
     "text": [
      "Epoch 30 | Train Loss: 0.6321 | Train F1: 0.8522 | Val Loss: 0.4277 | Val F1: 0.9418\n"
     ]
    },
    {
     "name": "stderr",
     "output_type": "stream",
     "text": [
      "Loss: 0.4268: 100%|██████████| 53/53 [00:12<00:00,  4.09it/s]\n",
      "Val Loss: 0.3236: 100%|██████████| 14/14 [00:03<00:00,  4.54it/s]\n"
     ]
    },
    {
     "name": "stdout",
     "output_type": "stream",
     "text": [
      "Epoch 31 | Train Loss: 0.5337 | Train F1: 0.8698 | Val Loss: 0.4532 | Val F1: 0.9339\n"
     ]
    },
    {
     "name": "stderr",
     "output_type": "stream",
     "text": [
      "Loss: 0.4297: 100%|██████████| 53/53 [00:12<00:00,  4.10it/s]\n",
      "Val Loss: 0.3238: 100%|██████████| 14/14 [00:03<00:00,  4.56it/s]\n"
     ]
    },
    {
     "name": "stdout",
     "output_type": "stream",
     "text": [
      "Epoch 32 | Train Loss: 0.5561 | Train F1: 0.8569 | Val Loss: 0.4331 | Val F1: 0.9440\n"
     ]
    },
    {
     "name": "stderr",
     "output_type": "stream",
     "text": [
      "Loss: 0.3259: 100%|██████████| 53/53 [00:13<00:00,  4.07it/s]\n",
      "Val Loss: 0.3222: 100%|██████████| 14/14 [00:03<00:00,  4.61it/s]"
     ]
    },
    {
     "name": "stdout",
     "output_type": "stream",
     "text": [
      "Epoch 33 | Train Loss: 0.5230 | Train F1: 0.8869 | Val Loss: 0.4286 | Val F1: 0.9557\n"
     ]
    },
    {
     "name": "stderr",
     "output_type": "stream",
     "text": [
      "\n",
      "Loss: 0.4265: 100%|██████████| 53/53 [00:12<00:00,  4.09it/s]\n",
      "Val Loss: 0.3225: 100%|██████████| 14/14 [00:03<00:00,  4.60it/s]\n"
     ]
    },
    {
     "name": "stdout",
     "output_type": "stream",
     "text": [
      "Epoch 34 | Train Loss: 0.4706 | Train F1: 0.8735 | Val Loss: 0.4417 | Val F1: 0.9508\n"
     ]
    },
    {
     "name": "stderr",
     "output_type": "stream",
     "text": [
      "Loss: 0.3308: 100%|██████████| 53/53 [00:13<00:00,  4.07it/s]\n",
      "Val Loss: 0.3230: 100%|██████████| 14/14 [00:03<00:00,  4.54it/s]"
     ]
    },
    {
     "name": "stdout",
     "output_type": "stream",
     "text": [
      "Epoch 35 | Train Loss: 0.5633 | Train F1: 0.7831 | Val Loss: 0.4044 | Val F1: 0.9641\n"
     ]
    },
    {
     "name": "stderr",
     "output_type": "stream",
     "text": [
      "\n",
      "Loss: 0.7969: 100%|██████████| 53/53 [00:13<00:00,  4.03it/s]\n",
      "Val Loss: 0.3225: 100%|██████████| 14/14 [00:03<00:00,  4.66it/s]"
     ]
    },
    {
     "name": "stdout",
     "output_type": "stream",
     "text": [
      "Epoch 36 | Train Loss: 0.5246 | Train F1: 0.8879 | Val Loss: 0.4019 | Val F1: 0.9671\n"
     ]
    },
    {
     "name": "stderr",
     "output_type": "stream",
     "text": [
      "\n",
      "Loss: 0.3228: 100%|██████████| 53/53 [00:12<00:00,  4.09it/s]\n",
      "Val Loss: 0.3222: 100%|██████████| 14/14 [00:03<00:00,  4.58it/s]\n"
     ]
    },
    {
     "name": "stdout",
     "output_type": "stream",
     "text": [
      "Epoch 37 | Train Loss: 0.5382 | Train F1: 0.8930 | Val Loss: 0.4310 | Val F1: 0.9449\n"
     ]
    },
    {
     "name": "stderr",
     "output_type": "stream",
     "text": [
      "Loss: 0.3452: 100%|██████████| 53/53 [00:13<00:00,  4.00it/s]\n",
      "Val Loss: 0.3224: 100%|██████████| 14/14 [00:03<00:00,  4.65it/s]\n"
     ]
    },
    {
     "name": "stdout",
     "output_type": "stream",
     "text": [
      "Epoch 38 | Train Loss: 0.5564 | Train F1: 0.8138 | Val Loss: 0.4375 | Val F1: 0.9549\n"
     ]
    },
    {
     "name": "stderr",
     "output_type": "stream",
     "text": [
      "Loss: 0.6758: 100%|██████████| 53/53 [00:12<00:00,  4.08it/s]\n",
      "Val Loss: 0.3218: 100%|██████████| 14/14 [00:03<00:00,  4.44it/s]\n"
     ]
    },
    {
     "name": "stdout",
     "output_type": "stream",
     "text": [
      "Epoch 39 | Train Loss: 0.5351 | Train F1: 0.8730 | Val Loss: 0.4420 | Val F1: 0.9541\n"
     ]
    },
    {
     "name": "stderr",
     "output_type": "stream",
     "text": [
      "Loss: 1.0771: 100%|██████████| 53/53 [00:13<00:00,  4.07it/s]\n",
      "Val Loss: 0.3220: 100%|██████████| 14/14 [00:03<00:00,  4.35it/s]\n"
     ]
    },
    {
     "name": "stdout",
     "output_type": "stream",
     "text": [
      "Epoch 40 | Train Loss: 0.5528 | Train F1: 0.8646 | Val Loss: 0.4205 | Val F1: 0.9549\n"
     ]
    },
    {
     "name": "stderr",
     "output_type": "stream",
     "text": [
      "Loss: 0.3247: 100%|██████████| 53/53 [00:13<00:00,  4.06it/s]\n",
      "Val Loss: 0.3216: 100%|██████████| 14/14 [00:03<00:00,  4.56it/s]\n"
     ]
    },
    {
     "name": "stdout",
     "output_type": "stream",
     "text": [
      "Epoch 41 | Train Loss: 0.6132 | Train F1: 0.7931 | Val Loss: 0.4419 | Val F1: 0.9382\n"
     ]
    },
    {
     "name": "stderr",
     "output_type": "stream",
     "text": [
      "Loss: 0.4460: 100%|██████████| 53/53 [00:13<00:00,  4.03it/s]\n",
      "Val Loss: 0.3221: 100%|██████████| 14/14 [00:03<00:00,  4.59it/s]\n"
     ]
    },
    {
     "name": "stdout",
     "output_type": "stream",
     "text": [
      "Epoch 42 | Train Loss: 0.5191 | Train F1: 0.8739 | Val Loss: 0.4273 | Val F1: 0.9520\n"
     ]
    },
    {
     "name": "stderr",
     "output_type": "stream",
     "text": [
      "Loss: 0.3237: 100%|██████████| 53/53 [00:13<00:00,  4.06it/s]\n",
      "Val Loss: 0.3221: 100%|██████████| 14/14 [00:03<00:00,  4.51it/s]\n"
     ]
    },
    {
     "name": "stdout",
     "output_type": "stream",
     "text": [
      "Epoch 43 | Train Loss: 0.5204 | Train F1: 0.8519 | Val Loss: 0.4450 | Val F1: 0.9357\n"
     ]
    },
    {
     "name": "stderr",
     "output_type": "stream",
     "text": [
      "Loss: 0.9150: 100%|██████████| 53/53 [00:13<00:00,  4.08it/s]\n",
      "Val Loss: 0.3213: 100%|██████████| 14/14 [00:03<00:00,  4.53it/s]\n"
     ]
    },
    {
     "name": "stdout",
     "output_type": "stream",
     "text": [
      "Epoch 44 | Train Loss: 0.5359 | Train F1: 0.8832 | Val Loss: 0.4284 | Val F1: 0.9492\n"
     ]
    },
    {
     "name": "stderr",
     "output_type": "stream",
     "text": [
      "Loss: 1.2305: 100%|██████████| 53/53 [00:13<00:00,  4.07it/s]\n",
      "Val Loss: 0.3220: 100%|██████████| 14/14 [00:03<00:00,  4.63it/s]\n"
     ]
    },
    {
     "name": "stdout",
     "output_type": "stream",
     "text": [
      "Epoch 45 | Train Loss: 0.5478 | Train F1: 0.8270 | Val Loss: 0.4512 | Val F1: 0.9448\n"
     ]
    },
    {
     "name": "stderr",
     "output_type": "stream",
     "text": [
      "Loss: 0.6270: 100%|██████████| 53/53 [00:13<00:00,  4.06it/s]\n",
      "Val Loss: 0.3219: 100%|██████████| 14/14 [00:03<00:00,  4.58it/s]\n"
     ]
    },
    {
     "name": "stdout",
     "output_type": "stream",
     "text": [
      "Epoch 46 | Train Loss: 0.5760 | Train F1: 0.8235 | Val Loss: 0.4306 | Val F1: 0.9517\n"
     ]
    },
    {
     "name": "stderr",
     "output_type": "stream",
     "text": [
      "Loss: 0.3237: 100%|██████████| 53/53 [00:13<00:00,  4.06it/s]\n",
      "Val Loss: 0.3216: 100%|██████████| 14/14 [00:03<00:00,  4.63it/s]\n"
     ]
    },
    {
     "name": "stdout",
     "output_type": "stream",
     "text": [
      "Epoch 47 | Train Loss: 0.5888 | Train F1: 0.8348 | Val Loss: 0.4339 | Val F1: 0.9470\n"
     ]
    },
    {
     "name": "stderr",
     "output_type": "stream",
     "text": [
      "Loss: 0.8628: 100%|██████████| 53/53 [00:12<00:00,  4.08it/s]\n",
      "Val Loss: 0.3224: 100%|██████████| 14/14 [00:03<00:00,  4.41it/s]\n"
     ]
    },
    {
     "name": "stdout",
     "output_type": "stream",
     "text": [
      "Epoch 48 | Train Loss: 0.5055 | Train F1: 0.8951 | Val Loss: 0.4420 | Val F1: 0.9401\n"
     ]
    },
    {
     "name": "stderr",
     "output_type": "stream",
     "text": [
      "Loss: 0.3223: 100%|██████████| 53/53 [00:12<00:00,  4.08it/s]\n",
      "Val Loss: 0.3218: 100%|██████████| 14/14 [00:03<00:00,  4.66it/s]\n"
     ]
    },
    {
     "name": "stdout",
     "output_type": "stream",
     "text": [
      "Epoch 49 | Train Loss: 0.5303 | Train F1: 0.8491 | Val Loss: 0.4501 | Val F1: 0.9479\n"
     ]
    },
    {
     "name": "stderr",
     "output_type": "stream",
     "text": [
      "Loss: 0.5508: 100%|██████████| 53/53 [00:13<00:00,  4.07it/s]\n",
      "Val Loss: 0.3215: 100%|██████████| 14/14 [00:03<00:00,  4.66it/s]\n"
     ]
    },
    {
     "name": "stdout",
     "output_type": "stream",
     "text": [
      "Epoch 50 | Train Loss: 0.5439 | Train F1: 0.8603 | Val Loss: 0.4368 | Val F1: 0.9487\n",
      "Fold 3 Best Validation F1: 0.9671\n",
      "\n",
      "==================================================\n",
      "FOLD 4/5\n",
      "==================================================\n",
      "Train samples: 1256, Validation samples: 314\n"
     ]
    },
    {
     "name": "stderr",
     "output_type": "stream",
     "text": [
      "Loss: 1.0762: 100%|██████████| 53/53 [00:13<00:00,  4.05it/s]\n",
      "Val Loss: 0.3813: 100%|██████████| 14/14 [00:03<00:00,  4.63it/s]"
     ]
    },
    {
     "name": "stdout",
     "output_type": "stream",
     "text": [
      "Epoch  1 | Train Loss: 2.0336 | Train F1: 0.3547 | Val Loss: 1.0616 | Val F1: 0.6835\n"
     ]
    },
    {
     "name": "stderr",
     "output_type": "stream",
     "text": [
      "\n",
      "Loss: 0.5073: 100%|██████████| 53/53 [00:13<00:00,  4.07it/s]\n",
      "Val Loss: 0.3390: 100%|██████████| 14/14 [00:03<00:00,  4.66it/s]"
     ]
    },
    {
     "name": "stdout",
     "output_type": "stream",
     "text": [
      "Epoch  2 | Train Loss: 1.0577 | Train F1: 0.6834 | Val Loss: 0.6769 | Val F1: 0.8412\n"
     ]
    },
    {
     "name": "stderr",
     "output_type": "stream",
     "text": [
      "\n",
      "Loss: 0.8184: 100%|██████████| 53/53 [00:13<00:00,  4.05it/s]\n",
      "Val Loss: 0.3389: 100%|██████████| 14/14 [00:03<00:00,  4.65it/s]"
     ]
    },
    {
     "name": "stdout",
     "output_type": "stream",
     "text": [
      "Epoch  3 | Train Loss: 0.9729 | Train F1: 0.7422 | Val Loss: 0.6137 | Val F1: 0.8785\n"
     ]
    },
    {
     "name": "stderr",
     "output_type": "stream",
     "text": [
      "\n",
      "Loss: 2.1113: 100%|██████████| 53/53 [00:13<00:00,  4.05it/s]\n",
      "Val Loss: 0.3347: 100%|██████████| 14/14 [00:03<00:00,  4.62it/s]\n"
     ]
    },
    {
     "name": "stdout",
     "output_type": "stream",
     "text": [
      "Epoch  4 | Train Loss: 0.8662 | Train F1: 0.7659 | Val Loss: 0.5743 | Val F1: 0.8619\n"
     ]
    },
    {
     "name": "stderr",
     "output_type": "stream",
     "text": [
      "Loss: 1.6191: 100%|██████████| 53/53 [00:13<00:00,  4.06it/s]\n",
      "Val Loss: 0.3274: 100%|██████████| 14/14 [00:02<00:00,  4.71it/s]\n"
     ]
    },
    {
     "name": "stdout",
     "output_type": "stream",
     "text": [
      "Epoch  5 | Train Loss: 0.7402 | Train F1: 0.8187 | Val Loss: 0.5379 | Val F1: 0.8633\n"
     ]
    },
    {
     "name": "stderr",
     "output_type": "stream",
     "text": [
      "Loss: 0.5278: 100%|██████████| 53/53 [00:12<00:00,  4.10it/s]\n",
      "Val Loss: 0.3281: 100%|██████████| 14/14 [00:03<00:00,  4.62it/s]"
     ]
    },
    {
     "name": "stdout",
     "output_type": "stream",
     "text": [
      "Epoch  6 | Train Loss: 0.8032 | Train F1: 0.8005 | Val Loss: 0.5132 | Val F1: 0.8970\n"
     ]
    },
    {
     "name": "stderr",
     "output_type": "stream",
     "text": [
      "\n",
      "Loss: 0.4565: 100%|██████████| 53/53 [00:13<00:00,  4.03it/s]\n",
      "Val Loss: 0.3331: 100%|██████████| 14/14 [00:02<00:00,  4.69it/s]"
     ]
    },
    {
     "name": "stdout",
     "output_type": "stream",
     "text": [
      "Epoch  7 | Train Loss: 0.6904 | Train F1: 0.8228 | Val Loss: 0.5210 | Val F1: 0.9032\n"
     ]
    },
    {
     "name": "stderr",
     "output_type": "stream",
     "text": [
      "\n",
      "Loss: 0.4771: 100%|██████████| 53/53 [00:13<00:00,  4.04it/s]\n",
      "Val Loss: 0.3338: 100%|██████████| 14/14 [00:03<00:00,  4.62it/s]\n"
     ]
    },
    {
     "name": "stdout",
     "output_type": "stream",
     "text": [
      "Epoch  8 | Train Loss: 0.8517 | Train F1: 0.7760 | Val Loss: 0.6348 | Val F1: 0.8756\n"
     ]
    },
    {
     "name": "stderr",
     "output_type": "stream",
     "text": [
      "Loss: 1.7178: 100%|██████████| 53/53 [00:13<00:00,  4.07it/s]\n",
      "Val Loss: 0.3355: 100%|██████████| 14/14 [00:03<00:00,  4.53it/s]"
     ]
    },
    {
     "name": "stdout",
     "output_type": "stream",
     "text": [
      "Epoch  9 | Train Loss: 0.7114 | Train F1: 0.7933 | Val Loss: 0.5034 | Val F1: 0.9141\n"
     ]
    },
    {
     "name": "stderr",
     "output_type": "stream",
     "text": [
      "\n",
      "Loss: 0.8267: 100%|██████████| 53/53 [00:13<00:00,  4.03it/s]\n",
      "Val Loss: 0.3244: 100%|██████████| 14/14 [00:03<00:00,  4.64it/s]"
     ]
    },
    {
     "name": "stdout",
     "output_type": "stream",
     "text": [
      "Epoch 10 | Train Loss: 0.6125 | Train F1: 0.8555 | Val Loss: 0.5500 | Val F1: 0.9148\n"
     ]
    },
    {
     "name": "stderr",
     "output_type": "stream",
     "text": [
      "\n",
      "Loss: 1.0098: 100%|██████████| 53/53 [00:13<00:00,  4.03it/s]\n",
      "Val Loss: 0.3308: 100%|██████████| 14/14 [00:03<00:00,  4.41it/s]\n"
     ]
    },
    {
     "name": "stdout",
     "output_type": "stream",
     "text": [
      "Epoch 11 | Train Loss: 0.6933 | Train F1: 0.7934 | Val Loss: 0.5057 | Val F1: 0.9023\n"
     ]
    },
    {
     "name": "stderr",
     "output_type": "stream",
     "text": [
      "Loss: 1.0273: 100%|██████████| 53/53 [00:13<00:00,  4.05it/s]\n",
      "Val Loss: 0.3333: 100%|██████████| 14/14 [00:03<00:00,  4.59it/s]"
     ]
    },
    {
     "name": "stdout",
     "output_type": "stream",
     "text": [
      "Epoch 12 | Train Loss: 0.6701 | Train F1: 0.8449 | Val Loss: 0.4877 | Val F1: 0.9226\n"
     ]
    },
    {
     "name": "stderr",
     "output_type": "stream",
     "text": [
      "\n",
      "Loss: 0.3613: 100%|██████████| 53/53 [00:12<00:00,  4.10it/s]\n",
      "Val Loss: 0.3283: 100%|██████████| 14/14 [00:03<00:00,  4.59it/s]"
     ]
    },
    {
     "name": "stdout",
     "output_type": "stream",
     "text": [
      "Epoch 13 | Train Loss: 0.6394 | Train F1: 0.8208 | Val Loss: 0.4694 | Val F1: 0.9412\n"
     ]
    },
    {
     "name": "stderr",
     "output_type": "stream",
     "text": [
      "\n",
      "Loss: 1.3359: 100%|██████████| 53/53 [00:13<00:00,  4.06it/s]\n",
      "Val Loss: 0.3247: 100%|██████████| 14/14 [00:03<00:00,  4.37it/s]"
     ]
    },
    {
     "name": "stdout",
     "output_type": "stream",
     "text": [
      "Epoch 14 | Train Loss: 0.6472 | Train F1: 0.8522 | Val Loss: 0.4546 | Val F1: 0.9589\n"
     ]
    },
    {
     "name": "stderr",
     "output_type": "stream",
     "text": [
      "\n",
      "Loss: 1.2139: 100%|██████████| 53/53 [00:13<00:00,  4.05it/s]\n",
      "Val Loss: 0.3246: 100%|██████████| 14/14 [00:03<00:00,  4.57it/s]\n"
     ]
    },
    {
     "name": "stdout",
     "output_type": "stream",
     "text": [
      "Epoch 15 | Train Loss: 0.6581 | Train F1: 0.8185 | Val Loss: 0.4783 | Val F1: 0.9289\n"
     ]
    },
    {
     "name": "stderr",
     "output_type": "stream",
     "text": [
      "Loss: 0.3608: 100%|██████████| 53/53 [00:13<00:00,  4.06it/s]\n",
      "Val Loss: 0.3233: 100%|██████████| 14/14 [00:03<00:00,  4.56it/s]\n"
     ]
    },
    {
     "name": "stdout",
     "output_type": "stream",
     "text": [
      "Epoch 16 | Train Loss: 0.7450 | Train F1: 0.7840 | Val Loss: 0.4783 | Val F1: 0.9334\n"
     ]
    },
    {
     "name": "stderr",
     "output_type": "stream",
     "text": [
      "Loss: 1.5537: 100%|██████████| 53/53 [00:13<00:00,  4.02it/s]\n",
      "Val Loss: 0.3270: 100%|██████████| 14/14 [00:03<00:00,  4.51it/s]\n"
     ]
    },
    {
     "name": "stdout",
     "output_type": "stream",
     "text": [
      "Epoch 17 | Train Loss: 0.6594 | Train F1: 0.8690 | Val Loss: 0.4802 | Val F1: 0.9251\n"
     ]
    },
    {
     "name": "stderr",
     "output_type": "stream",
     "text": [
      "Loss: 0.3491: 100%|██████████| 53/53 [00:13<00:00,  4.04it/s]\n",
      "Val Loss: 0.3264: 100%|██████████| 14/14 [00:03<00:00,  4.62it/s]\n"
     ]
    },
    {
     "name": "stdout",
     "output_type": "stream",
     "text": [
      "Epoch 18 | Train Loss: 0.5530 | Train F1: 0.8247 | Val Loss: 0.4630 | Val F1: 0.9498\n"
     ]
    },
    {
     "name": "stderr",
     "output_type": "stream",
     "text": [
      "Loss: 0.3713: 100%|██████████| 53/53 [00:13<00:00,  4.03it/s]\n",
      "Val Loss: 0.3233: 100%|██████████| 14/14 [00:03<00:00,  4.57it/s]\n"
     ]
    },
    {
     "name": "stdout",
     "output_type": "stream",
     "text": [
      "Epoch 19 | Train Loss: 0.6383 | Train F1: 0.8185 | Val Loss: 0.4684 | Val F1: 0.9438\n"
     ]
    },
    {
     "name": "stderr",
     "output_type": "stream",
     "text": [
      "Loss: 0.3276: 100%|██████████| 53/53 [00:13<00:00,  4.04it/s]\n",
      "Val Loss: 0.3238: 100%|██████████| 14/14 [00:03<00:00,  4.63it/s]\n"
     ]
    },
    {
     "name": "stdout",
     "output_type": "stream",
     "text": [
      "Epoch 20 | Train Loss: 0.6537 | Train F1: 0.8248 | Val Loss: 0.5230 | Val F1: 0.9256\n"
     ]
    },
    {
     "name": "stderr",
     "output_type": "stream",
     "text": [
      "Loss: 1.0566: 100%|██████████| 53/53 [00:13<00:00,  4.05it/s]\n",
      "Val Loss: 0.3226: 100%|██████████| 14/14 [00:02<00:00,  4.68it/s]\n"
     ]
    },
    {
     "name": "stdout",
     "output_type": "stream",
     "text": [
      "Epoch 21 | Train Loss: 0.6130 | Train F1: 0.8135 | Val Loss: 0.4888 | Val F1: 0.9121\n"
     ]
    },
    {
     "name": "stderr",
     "output_type": "stream",
     "text": [
      "Loss: 0.4048: 100%|██████████| 53/53 [00:13<00:00,  4.07it/s]\n",
      "Val Loss: 0.3246: 100%|██████████| 14/14 [00:03<00:00,  4.57it/s]\n"
     ]
    },
    {
     "name": "stdout",
     "output_type": "stream",
     "text": [
      "Epoch 22 | Train Loss: 0.5975 | Train F1: 0.8597 | Val Loss: 0.4476 | Val F1: 0.9517\n"
     ]
    },
    {
     "name": "stderr",
     "output_type": "stream",
     "text": [
      "Loss: 0.8389: 100%|██████████| 53/53 [00:13<00:00,  4.06it/s]\n",
      "Val Loss: 0.3285: 100%|██████████| 14/14 [00:03<00:00,  4.55it/s]"
     ]
    },
    {
     "name": "stdout",
     "output_type": "stream",
     "text": [
      "Epoch 23 | Train Loss: 0.5604 | Train F1: 0.8626 | Val Loss: 0.4466 | Val F1: 0.9596\n"
     ]
    },
    {
     "name": "stderr",
     "output_type": "stream",
     "text": [
      "\n",
      "Loss: 0.3555: 100%|██████████| 53/53 [00:12<00:00,  4.09it/s]\n",
      "Val Loss: 0.3218: 100%|██████████| 14/14 [00:03<00:00,  4.51it/s]\n"
     ]
    },
    {
     "name": "stdout",
     "output_type": "stream",
     "text": [
      "Epoch 24 | Train Loss: 0.5312 | Train F1: 0.8570 | Val Loss: 0.4835 | Val F1: 0.9468\n"
     ]
    },
    {
     "name": "stderr",
     "output_type": "stream",
     "text": [
      "Loss: 0.3525: 100%|██████████| 53/53 [00:12<00:00,  4.09it/s]\n",
      "Val Loss: 0.3217: 100%|██████████| 14/14 [00:03<00:00,  4.48it/s]\n"
     ]
    },
    {
     "name": "stdout",
     "output_type": "stream",
     "text": [
      "Epoch 25 | Train Loss: 0.5638 | Train F1: 0.8931 | Val Loss: 0.4653 | Val F1: 0.9445\n"
     ]
    },
    {
     "name": "stderr",
     "output_type": "stream",
     "text": [
      "Loss: 0.3259: 100%|██████████| 53/53 [00:12<00:00,  4.08it/s]\n",
      "Val Loss: 0.3220: 100%|██████████| 14/14 [00:03<00:00,  4.48it/s]\n"
     ]
    },
    {
     "name": "stdout",
     "output_type": "stream",
     "text": [
      "Epoch 26 | Train Loss: 0.5724 | Train F1: 0.8612 | Val Loss: 0.4776 | Val F1: 0.9405\n"
     ]
    },
    {
     "name": "stderr",
     "output_type": "stream",
     "text": [
      "Loss: 0.4475: 100%|██████████| 53/53 [00:13<00:00,  4.06it/s]\n",
      "Val Loss: 0.3216: 100%|██████████| 14/14 [00:03<00:00,  4.62it/s]"
     ]
    },
    {
     "name": "stdout",
     "output_type": "stream",
     "text": [
      "Epoch 27 | Train Loss: 0.5863 | Train F1: 0.8383 | Val Loss: 0.4489 | Val F1: 0.9627\n"
     ]
    },
    {
     "name": "stderr",
     "output_type": "stream",
     "text": [
      "\n",
      "Loss: 0.3262: 100%|██████████| 53/53 [00:12<00:00,  4.08it/s]\n",
      "Val Loss: 0.3223: 100%|██████████| 14/14 [00:03<00:00,  4.25it/s]\n"
     ]
    },
    {
     "name": "stdout",
     "output_type": "stream",
     "text": [
      "Epoch 28 | Train Loss: 0.5190 | Train F1: 0.8875 | Val Loss: 0.4435 | Val F1: 0.9565\n"
     ]
    },
    {
     "name": "stderr",
     "output_type": "stream",
     "text": [
      "Loss: 0.9131: 100%|██████████| 53/53 [00:13<00:00,  4.07it/s]\n",
      "Val Loss: 0.3212: 100%|██████████| 14/14 [00:03<00:00,  4.55it/s]\n"
     ]
    },
    {
     "name": "stdout",
     "output_type": "stream",
     "text": [
      "Epoch 29 | Train Loss: 0.5508 | Train F1: 0.8348 | Val Loss: 0.4632 | Val F1: 0.9508\n"
     ]
    },
    {
     "name": "stderr",
     "output_type": "stream",
     "text": [
      "Loss: 1.1865: 100%|██████████| 53/53 [00:13<00:00,  4.05it/s]\n",
      "Val Loss: 0.3249: 100%|██████████| 14/14 [00:03<00:00,  4.51it/s]\n"
     ]
    },
    {
     "name": "stdout",
     "output_type": "stream",
     "text": [
      "Epoch 30 | Train Loss: 0.6281 | Train F1: 0.7762 | Val Loss: 0.4617 | Val F1: 0.9495\n"
     ]
    },
    {
     "name": "stderr",
     "output_type": "stream",
     "text": [
      "Loss: 0.8838: 100%|██████████| 53/53 [00:13<00:00,  4.05it/s]\n",
      "Val Loss: 0.3335: 100%|██████████| 14/14 [00:03<00:00,  4.23it/s]\n"
     ]
    },
    {
     "name": "stdout",
     "output_type": "stream",
     "text": [
      "Epoch 31 | Train Loss: 0.6440 | Train F1: 0.7508 | Val Loss: 0.4445 | Val F1: 0.9611\n"
     ]
    },
    {
     "name": "stderr",
     "output_type": "stream",
     "text": [
      "Loss: 0.3259: 100%|██████████| 53/53 [00:13<00:00,  4.06it/s]\n",
      "Val Loss: 0.3229: 100%|██████████| 14/14 [00:03<00:00,  4.62it/s]\n"
     ]
    },
    {
     "name": "stdout",
     "output_type": "stream",
     "text": [
      "Epoch 32 | Train Loss: 0.5784 | Train F1: 0.9046 | Val Loss: 0.4374 | Val F1: 0.9563\n"
     ]
    },
    {
     "name": "stderr",
     "output_type": "stream",
     "text": [
      "Loss: 0.3242: 100%|██████████| 53/53 [00:13<00:00,  4.04it/s]\n",
      "Val Loss: 0.3223: 100%|██████████| 14/14 [00:03<00:00,  4.59it/s]"
     ]
    },
    {
     "name": "stdout",
     "output_type": "stream",
     "text": [
      "Epoch 33 | Train Loss: 0.4704 | Train F1: 0.8801 | Val Loss: 0.4549 | Val F1: 0.9640\n"
     ]
    },
    {
     "name": "stderr",
     "output_type": "stream",
     "text": [
      "\n",
      "Loss: 0.3252: 100%|██████████| 53/53 [00:13<00:00,  4.07it/s]\n",
      "Val Loss: 0.3213: 100%|██████████| 14/14 [00:02<00:00,  4.69it/s]\n"
     ]
    },
    {
     "name": "stdout",
     "output_type": "stream",
     "text": [
      "Epoch 34 | Train Loss: 0.5853 | Train F1: 0.7698 | Val Loss: 0.4454 | Val F1: 0.9494\n"
     ]
    },
    {
     "name": "stderr",
     "output_type": "stream",
     "text": [
      "Loss: 0.3604: 100%|██████████| 53/53 [00:12<00:00,  4.09it/s]\n",
      "Val Loss: 0.3219: 100%|██████████| 14/14 [00:02<00:00,  4.76it/s]\n"
     ]
    },
    {
     "name": "stdout",
     "output_type": "stream",
     "text": [
      "Epoch 35 | Train Loss: 0.5437 | Train F1: 0.8505 | Val Loss: 0.4524 | Val F1: 0.9544\n"
     ]
    },
    {
     "name": "stderr",
     "output_type": "stream",
     "text": [
      "Loss: 0.3242: 100%|██████████| 53/53 [00:13<00:00,  4.06it/s]\n",
      "Val Loss: 0.3238: 100%|██████████| 14/14 [00:03<00:00,  4.65it/s]\n"
     ]
    },
    {
     "name": "stdout",
     "output_type": "stream",
     "text": [
      "Epoch 36 | Train Loss: 0.5242 | Train F1: 0.8447 | Val Loss: 0.4671 | Val F1: 0.9439\n"
     ]
    },
    {
     "name": "stderr",
     "output_type": "stream",
     "text": [
      "Loss: 0.3257: 100%|██████████| 53/53 [00:13<00:00,  4.04it/s]\n",
      "Val Loss: 0.3210: 100%|██████████| 14/14 [00:03<00:00,  4.56it/s]\n"
     ]
    },
    {
     "name": "stdout",
     "output_type": "stream",
     "text": [
      "Epoch 37 | Train Loss: 0.5003 | Train F1: 0.9042 | Val Loss: 0.4422 | Val F1: 0.9595\n"
     ]
    },
    {
     "name": "stderr",
     "output_type": "stream",
     "text": [
      "Loss: 0.8838: 100%|██████████| 53/53 [00:12<00:00,  4.09it/s]\n",
      "Val Loss: 0.3209: 100%|██████████| 14/14 [00:03<00:00,  4.56it/s]\n"
     ]
    },
    {
     "name": "stdout",
     "output_type": "stream",
     "text": [
      "Epoch 38 | Train Loss: 0.5664 | Train F1: 0.8183 | Val Loss: 0.4481 | Val F1: 0.9529\n"
     ]
    },
    {
     "name": "stderr",
     "output_type": "stream",
     "text": [
      "Loss: 0.3223: 100%|██████████| 53/53 [00:13<00:00,  4.04it/s]\n",
      "Val Loss: 0.3211: 100%|██████████| 14/14 [00:03<00:00,  4.66it/s]\n"
     ]
    },
    {
     "name": "stdout",
     "output_type": "stream",
     "text": [
      "Epoch 39 | Train Loss: 0.5776 | Train F1: 0.8392 | Val Loss: 0.4467 | Val F1: 0.9585\n"
     ]
    },
    {
     "name": "stderr",
     "output_type": "stream",
     "text": [
      "Loss: 0.3247: 100%|██████████| 53/53 [00:13<00:00,  4.05it/s]\n",
      "Val Loss: 0.3210: 100%|██████████| 14/14 [00:03<00:00,  4.41it/s]"
     ]
    },
    {
     "name": "stdout",
     "output_type": "stream",
     "text": [
      "Epoch 40 | Train Loss: 0.5756 | Train F1: 0.8244 | Val Loss: 0.4406 | Val F1: 0.9643\n"
     ]
    },
    {
     "name": "stderr",
     "output_type": "stream",
     "text": [
      "\n",
      "Loss: 0.3279: 100%|██████████| 53/53 [00:13<00:00,  4.04it/s]\n",
      "Val Loss: 0.3213: 100%|██████████| 14/14 [00:03<00:00,  4.52it/s]"
     ]
    },
    {
     "name": "stdout",
     "output_type": "stream",
     "text": [
      "Epoch 41 | Train Loss: 0.5397 | Train F1: 0.8846 | Val Loss: 0.4270 | Val F1: 0.9706\n"
     ]
    },
    {
     "name": "stderr",
     "output_type": "stream",
     "text": [
      "\n",
      "Loss: 0.4553: 100%|██████████| 53/53 [00:12<00:00,  4.08it/s]\n",
      "Val Loss: 0.3211: 100%|██████████| 14/14 [00:03<00:00,  4.57it/s]\n"
     ]
    },
    {
     "name": "stdout",
     "output_type": "stream",
     "text": [
      "Epoch 42 | Train Loss: 0.4847 | Train F1: 0.8893 | Val Loss: 0.4444 | Val F1: 0.9603\n"
     ]
    },
    {
     "name": "stderr",
     "output_type": "stream",
     "text": [
      "Loss: 0.8716: 100%|██████████| 53/53 [00:12<00:00,  4.09it/s]\n",
      "Val Loss: 0.3212: 100%|██████████| 14/14 [00:03<00:00,  4.58it/s]\n"
     ]
    },
    {
     "name": "stdout",
     "output_type": "stream",
     "text": [
      "Epoch 43 | Train Loss: 0.5806 | Train F1: 0.8910 | Val Loss: 0.4375 | Val F1: 0.9627\n"
     ]
    },
    {
     "name": "stderr",
     "output_type": "stream",
     "text": [
      "Loss: 0.3315: 100%|██████████| 53/53 [00:12<00:00,  4.09it/s]\n",
      "Val Loss: 0.3234: 100%|██████████| 14/14 [00:03<00:00,  4.63it/s]\n"
     ]
    },
    {
     "name": "stdout",
     "output_type": "stream",
     "text": [
      "Epoch 44 | Train Loss: 0.5079 | Train F1: 0.8345 | Val Loss: 0.4510 | Val F1: 0.9690\n"
     ]
    },
    {
     "name": "stderr",
     "output_type": "stream",
     "text": [
      "Loss: 1.5332: 100%|██████████| 53/53 [00:13<00:00,  4.02it/s]\n",
      "Val Loss: 0.3213: 100%|██████████| 14/14 [00:03<00:00,  4.54it/s]\n"
     ]
    },
    {
     "name": "stdout",
     "output_type": "stream",
     "text": [
      "Epoch 45 | Train Loss: 0.5527 | Train F1: 0.8719 | Val Loss: 0.4343 | Val F1: 0.9588\n"
     ]
    },
    {
     "name": "stderr",
     "output_type": "stream",
     "text": [
      "Loss: 0.3916: 100%|██████████| 53/53 [00:12<00:00,  4.08it/s]\n",
      "Val Loss: 0.3297: 100%|██████████| 14/14 [00:03<00:00,  4.33it/s]\n"
     ]
    },
    {
     "name": "stdout",
     "output_type": "stream",
     "text": [
      "Epoch 46 | Train Loss: 0.5437 | Train F1: 0.8541 | Val Loss: 0.4267 | Val F1: 0.9619\n"
     ]
    },
    {
     "name": "stderr",
     "output_type": "stream",
     "text": [
      "Loss: 0.8506: 100%|██████████| 53/53 [00:12<00:00,  4.08it/s]\n",
      "Val Loss: 0.3211: 100%|██████████| 14/14 [00:03<00:00,  4.47it/s]\n"
     ]
    },
    {
     "name": "stdout",
     "output_type": "stream",
     "text": [
      "Epoch 47 | Train Loss: 0.5506 | Train F1: 0.8698 | Val Loss: 0.4320 | Val F1: 0.9622\n"
     ]
    },
    {
     "name": "stderr",
     "output_type": "stream",
     "text": [
      "Loss: 1.7793: 100%|██████████| 53/53 [00:13<00:00,  4.04it/s]\n",
      "Val Loss: 0.3216: 100%|██████████| 14/14 [00:03<00:00,  4.56it/s]\n"
     ]
    },
    {
     "name": "stdout",
     "output_type": "stream",
     "text": [
      "Epoch 48 | Train Loss: 0.5865 | Train F1: 0.8270 | Val Loss: 0.4412 | Val F1: 0.9626\n"
     ]
    },
    {
     "name": "stderr",
     "output_type": "stream",
     "text": [
      "Loss: 1.1846: 100%|██████████| 53/53 [00:13<00:00,  4.07it/s]\n",
      "Val Loss: 0.3213: 100%|██████████| 14/14 [00:03<00:00,  4.55it/s]\n"
     ]
    },
    {
     "name": "stdout",
     "output_type": "stream",
     "text": [
      "Epoch 49 | Train Loss: 0.5362 | Train F1: 0.8620 | Val Loss: 0.4239 | Val F1: 0.9686\n"
     ]
    },
    {
     "name": "stderr",
     "output_type": "stream",
     "text": [
      "Loss: 0.8398: 100%|██████████| 53/53 [00:13<00:00,  4.06it/s]\n",
      "Val Loss: 0.3213: 100%|██████████| 14/14 [00:03<00:00,  4.53it/s]\n"
     ]
    },
    {
     "name": "stdout",
     "output_type": "stream",
     "text": [
      "Epoch 50 | Train Loss: 0.6088 | Train F1: 0.8484 | Val Loss: 0.4319 | Val F1: 0.9592\n",
      "Fold 4 Best Validation F1: 0.9706\n",
      "\n",
      "==================================================\n",
      "FOLD 5/5\n",
      "==================================================\n",
      "Train samples: 1256, Validation samples: 314\n"
     ]
    },
    {
     "name": "stderr",
     "output_type": "stream",
     "text": [
      "Loss: 1.1787: 100%|██████████| 53/53 [00:13<00:00,  4.06it/s]\n",
      "Val Loss: 0.4342: 100%|██████████| 14/14 [00:03<00:00,  4.62it/s]"
     ]
    },
    {
     "name": "stdout",
     "output_type": "stream",
     "text": [
      "Epoch  1 | Train Loss: 1.9462 | Train F1: 0.4027 | Val Loss: 1.0411 | Val F1: 0.6594\n"
     ]
    },
    {
     "name": "stderr",
     "output_type": "stream",
     "text": [
      "\n",
      "Loss: 1.4883: 100%|██████████| 53/53 [00:13<00:00,  3.97it/s]\n",
      "Val Loss: 0.3359: 100%|██████████| 14/14 [00:03<00:00,  4.58it/s]"
     ]
    },
    {
     "name": "stdout",
     "output_type": "stream",
     "text": [
      "Epoch  2 | Train Loss: 1.2350 | Train F1: 0.6313 | Val Loss: 0.7514 | Val F1: 0.8006\n"
     ]
    },
    {
     "name": "stderr",
     "output_type": "stream",
     "text": [
      "\n",
      "Loss: 0.4612: 100%|██████████| 53/53 [00:12<00:00,  4.09it/s]\n",
      "Val Loss: 0.3681: 100%|██████████| 14/14 [00:03<00:00,  4.62it/s]"
     ]
    },
    {
     "name": "stdout",
     "output_type": "stream",
     "text": [
      "Epoch  3 | Train Loss: 0.8689 | Train F1: 0.7893 | Val Loss: 0.6536 | Val F1: 0.8326\n"
     ]
    },
    {
     "name": "stderr",
     "output_type": "stream",
     "text": [
      "\n",
      "Loss: 0.6440: 100%|██████████| 53/53 [00:13<00:00,  4.02it/s]\n",
      "Val Loss: 0.4791: 100%|██████████| 14/14 [00:03<00:00,  4.58it/s]\n"
     ]
    },
    {
     "name": "stdout",
     "output_type": "stream",
     "text": [
      "Epoch  4 | Train Loss: 0.9607 | Train F1: 0.7365 | Val Loss: 0.6791 | Val F1: 0.8291\n"
     ]
    },
    {
     "name": "stderr",
     "output_type": "stream",
     "text": [
      "Loss: 1.3477: 100%|██████████| 53/53 [00:13<00:00,  4.06it/s]\n",
      "Val Loss: 0.3678: 100%|██████████| 14/14 [00:02<00:00,  4.67it/s]"
     ]
    },
    {
     "name": "stdout",
     "output_type": "stream",
     "text": [
      "Epoch  5 | Train Loss: 0.8861 | Train F1: 0.7307 | Val Loss: 0.6244 | Val F1: 0.8650\n"
     ]
    },
    {
     "name": "stderr",
     "output_type": "stream",
     "text": [
      "\n",
      "Loss: 0.6963: 100%|██████████| 53/53 [00:12<00:00,  4.08it/s]\n",
      "Val Loss: 0.3792: 100%|██████████| 14/14 [00:02<00:00,  4.69it/s]"
     ]
    },
    {
     "name": "stdout",
     "output_type": "stream",
     "text": [
      "Epoch  6 | Train Loss: 0.8693 | Train F1: 0.7584 | Val Loss: 0.5913 | Val F1: 0.8792\n"
     ]
    },
    {
     "name": "stderr",
     "output_type": "stream",
     "text": [
      "\n",
      "Loss: 0.9395: 100%|██████████| 53/53 [00:12<00:00,  4.09it/s]\n",
      "Val Loss: 0.3420: 100%|██████████| 14/14 [00:03<00:00,  4.60it/s]\n"
     ]
    },
    {
     "name": "stdout",
     "output_type": "stream",
     "text": [
      "Epoch  7 | Train Loss: 0.7502 | Train F1: 0.8241 | Val Loss: 0.5626 | Val F1: 0.8733\n"
     ]
    },
    {
     "name": "stderr",
     "output_type": "stream",
     "text": [
      "Loss: 0.4600: 100%|██████████| 53/53 [00:13<00:00,  4.06it/s]\n",
      "Val Loss: 0.3336: 100%|██████████| 14/14 [00:03<00:00,  4.60it/s]"
     ]
    },
    {
     "name": "stdout",
     "output_type": "stream",
     "text": [
      "Epoch  8 | Train Loss: 0.6755 | Train F1: 0.8318 | Val Loss: 0.5413 | Val F1: 0.9087\n"
     ]
    },
    {
     "name": "stderr",
     "output_type": "stream",
     "text": [
      "\n",
      "Loss: 0.4458: 100%|██████████| 53/53 [00:12<00:00,  4.08it/s]\n",
      "Val Loss: 0.3427: 100%|██████████| 14/14 [00:03<00:00,  4.50it/s]\n"
     ]
    },
    {
     "name": "stdout",
     "output_type": "stream",
     "text": [
      "Epoch  9 | Train Loss: 0.6343 | Train F1: 0.8466 | Val Loss: 0.5727 | Val F1: 0.8861\n"
     ]
    },
    {
     "name": "stderr",
     "output_type": "stream",
     "text": [
      "Loss: 0.4558: 100%|██████████| 53/53 [00:12<00:00,  4.10it/s]\n",
      "Val Loss: 0.3374: 100%|██████████| 14/14 [00:03<00:00,  4.48it/s]\n"
     ]
    },
    {
     "name": "stdout",
     "output_type": "stream",
     "text": [
      "Epoch 10 | Train Loss: 0.7192 | Train F1: 0.7979 | Val Loss: 0.5326 | Val F1: 0.8936\n"
     ]
    },
    {
     "name": "stderr",
     "output_type": "stream",
     "text": [
      "Loss: 0.9590: 100%|██████████| 53/53 [00:13<00:00,  4.07it/s]\n",
      "Val Loss: 0.3267: 100%|██████████| 14/14 [00:03<00:00,  4.49it/s]\n"
     ]
    },
    {
     "name": "stdout",
     "output_type": "stream",
     "text": [
      "Epoch 11 | Train Loss: 0.6767 | Train F1: 0.8197 | Val Loss: 0.5672 | Val F1: 0.8883\n"
     ]
    },
    {
     "name": "stderr",
     "output_type": "stream",
     "text": [
      "Loss: 0.4395: 100%|██████████| 53/53 [00:13<00:00,  4.05it/s]\n",
      "Val Loss: 0.3298: 100%|██████████| 14/14 [00:03<00:00,  4.48it/s]\n"
     ]
    },
    {
     "name": "stdout",
     "output_type": "stream",
     "text": [
      "Epoch 12 | Train Loss: 0.6493 | Train F1: 0.8573 | Val Loss: 0.5343 | Val F1: 0.8921\n"
     ]
    },
    {
     "name": "stderr",
     "output_type": "stream",
     "text": [
      "Loss: 1.6250: 100%|██████████| 53/53 [00:13<00:00,  4.07it/s]\n",
      "Val Loss: 0.3460: 100%|██████████| 14/14 [00:03<00:00,  4.58it/s]"
     ]
    },
    {
     "name": "stdout",
     "output_type": "stream",
     "text": [
      "Epoch 13 | Train Loss: 0.6713 | Train F1: 0.8093 | Val Loss: 0.4972 | Val F1: 0.9451\n"
     ]
    },
    {
     "name": "stderr",
     "output_type": "stream",
     "text": [
      "\n",
      "Loss: 1.5801: 100%|██████████| 53/53 [00:13<00:00,  4.04it/s]\n",
      "Val Loss: 0.3265: 100%|██████████| 14/14 [00:03<00:00,  4.56it/s]\n"
     ]
    },
    {
     "name": "stdout",
     "output_type": "stream",
     "text": [
      "Epoch 14 | Train Loss: 0.7513 | Train F1: 0.8136 | Val Loss: 0.5133 | Val F1: 0.9088\n"
     ]
    },
    {
     "name": "stderr",
     "output_type": "stream",
     "text": [
      "Loss: 0.3430: 100%|██████████| 53/53 [00:13<00:00,  4.04it/s]\n",
      "Val Loss: 0.3263: 100%|██████████| 14/14 [00:03<00:00,  4.55it/s]\n"
     ]
    },
    {
     "name": "stdout",
     "output_type": "stream",
     "text": [
      "Epoch 15 | Train Loss: 0.6580 | Train F1: 0.8147 | Val Loss: 0.5325 | Val F1: 0.9286\n"
     ]
    },
    {
     "name": "stderr",
     "output_type": "stream",
     "text": [
      "Loss: 0.4038: 100%|██████████| 53/53 [00:13<00:00,  4.02it/s]\n",
      "Val Loss: 0.3266: 100%|██████████| 14/14 [00:03<00:00,  4.58it/s]\n"
     ]
    },
    {
     "name": "stdout",
     "output_type": "stream",
     "text": [
      "Epoch 16 | Train Loss: 0.6823 | Train F1: 0.7873 | Val Loss: 0.5370 | Val F1: 0.9062\n"
     ]
    },
    {
     "name": "stderr",
     "output_type": "stream",
     "text": [
      "Loss: 0.3420: 100%|██████████| 53/53 [00:13<00:00,  4.07it/s]\n",
      "Val Loss: 0.3272: 100%|██████████| 14/14 [00:03<00:00,  4.59it/s]\n"
     ]
    },
    {
     "name": "stdout",
     "output_type": "stream",
     "text": [
      "Epoch 17 | Train Loss: 0.5898 | Train F1: 0.8468 | Val Loss: 0.5342 | Val F1: 0.9084\n"
     ]
    },
    {
     "name": "stderr",
     "output_type": "stream",
     "text": [
      "Loss: 0.3428: 100%|██████████| 53/53 [00:13<00:00,  4.07it/s]\n",
      "Val Loss: 0.3252: 100%|██████████| 14/14 [00:03<00:00,  4.66it/s]\n"
     ]
    },
    {
     "name": "stdout",
     "output_type": "stream",
     "text": [
      "Epoch 18 | Train Loss: 0.6217 | Train F1: 0.8064 | Val Loss: 0.5486 | Val F1: 0.9178\n"
     ]
    },
    {
     "name": "stderr",
     "output_type": "stream",
     "text": [
      "Loss: 0.5137: 100%|██████████| 53/53 [00:13<00:00,  4.06it/s]\n",
      "Val Loss: 0.3294: 100%|██████████| 14/14 [00:03<00:00,  4.42it/s]\n"
     ]
    },
    {
     "name": "stdout",
     "output_type": "stream",
     "text": [
      "Epoch 19 | Train Loss: 0.6698 | Train F1: 0.7951 | Val Loss: 0.5480 | Val F1: 0.9263\n"
     ]
    },
    {
     "name": "stderr",
     "output_type": "stream",
     "text": [
      "Loss: 0.9155: 100%|██████████| 53/53 [00:13<00:00,  4.05it/s]\n",
      "Val Loss: 0.3256: 100%|██████████| 14/14 [00:02<00:00,  4.68it/s]\n"
     ]
    },
    {
     "name": "stdout",
     "output_type": "stream",
     "text": [
      "Epoch 20 | Train Loss: 0.6048 | Train F1: 0.9158 | Val Loss: 0.4993 | Val F1: 0.9317\n"
     ]
    },
    {
     "name": "stderr",
     "output_type": "stream",
     "text": [
      "Loss: 0.3691: 100%|██████████| 53/53 [00:13<00:00,  4.07it/s]\n",
      "Val Loss: 0.3241: 100%|██████████| 14/14 [00:03<00:00,  4.42it/s]\n"
     ]
    },
    {
     "name": "stdout",
     "output_type": "stream",
     "text": [
      "Epoch 21 | Train Loss: 0.6016 | Train F1: 0.8686 | Val Loss: 0.5094 | Val F1: 0.9294\n"
     ]
    },
    {
     "name": "stderr",
     "output_type": "stream",
     "text": [
      "Loss: 0.4976: 100%|██████████| 53/53 [00:13<00:00,  3.97it/s]\n",
      "Val Loss: 0.3237: 100%|██████████| 14/14 [00:03<00:00,  4.49it/s]\n"
     ]
    },
    {
     "name": "stdout",
     "output_type": "stream",
     "text": [
      "Epoch 22 | Train Loss: 0.6163 | Train F1: 0.8768 | Val Loss: 0.4953 | Val F1: 0.9444\n"
     ]
    },
    {
     "name": "stderr",
     "output_type": "stream",
     "text": [
      "Loss: 0.3259: 100%|██████████| 53/53 [00:13<00:00,  4.03it/s]\n",
      "Val Loss: 0.3257: 100%|██████████| 14/14 [00:03<00:00,  4.50it/s]\n"
     ]
    },
    {
     "name": "stdout",
     "output_type": "stream",
     "text": [
      "Epoch 23 | Train Loss: 0.6288 | Train F1: 0.8428 | Val Loss: 0.5261 | Val F1: 0.9291\n"
     ]
    },
    {
     "name": "stderr",
     "output_type": "stream",
     "text": [
      "Loss: 0.8218: 100%|██████████| 53/53 [00:13<00:00,  4.03it/s]\n",
      "Val Loss: 0.3244: 100%|██████████| 14/14 [00:03<00:00,  4.58it/s]\n"
     ]
    },
    {
     "name": "stdout",
     "output_type": "stream",
     "text": [
      "Epoch 24 | Train Loss: 0.5875 | Train F1: 0.8823 | Val Loss: 0.5485 | Val F1: 0.9210\n"
     ]
    },
    {
     "name": "stderr",
     "output_type": "stream",
     "text": [
      "Loss: 1.2070: 100%|██████████| 53/53 [00:13<00:00,  4.06it/s]\n",
      "Val Loss: 0.3286: 100%|██████████| 14/14 [00:03<00:00,  4.55it/s]\n"
     ]
    },
    {
     "name": "stdout",
     "output_type": "stream",
     "text": [
      "Epoch 25 | Train Loss: 0.5918 | Train F1: 0.8221 | Val Loss: 0.5044 | Val F1: 0.9306\n"
     ]
    },
    {
     "name": "stderr",
     "output_type": "stream",
     "text": [
      "Loss: 0.7832: 100%|██████████| 53/53 [00:12<00:00,  4.08it/s]\n",
      "Val Loss: 0.3244: 100%|██████████| 14/14 [00:03<00:00,  4.49it/s]\n"
     ]
    },
    {
     "name": "stdout",
     "output_type": "stream",
     "text": [
      "Epoch 26 | Train Loss: 0.5730 | Train F1: 0.8631 | Val Loss: 0.5049 | Val F1: 0.9369\n"
     ]
    },
    {
     "name": "stderr",
     "output_type": "stream",
     "text": [
      "Loss: 0.3325: 100%|██████████| 53/53 [00:13<00:00,  4.05it/s]\n",
      "Val Loss: 0.3229: 100%|██████████| 14/14 [00:03<00:00,  4.64it/s]\n"
     ]
    },
    {
     "name": "stdout",
     "output_type": "stream",
     "text": [
      "Epoch 27 | Train Loss: 0.5023 | Train F1: 0.9126 | Val Loss: 0.5094 | Val F1: 0.9425\n"
     ]
    },
    {
     "name": "stderr",
     "output_type": "stream",
     "text": [
      "Loss: 0.6738: 100%|██████████| 53/53 [00:13<00:00,  4.07it/s]\n",
      "Val Loss: 0.3233: 100%|██████████| 14/14 [00:03<00:00,  4.56it/s]\n"
     ]
    },
    {
     "name": "stdout",
     "output_type": "stream",
     "text": [
      "Epoch 28 | Train Loss: 0.5137 | Train F1: 0.9242 | Val Loss: 0.4995 | Val F1: 0.9336\n"
     ]
    },
    {
     "name": "stderr",
     "output_type": "stream",
     "text": [
      "Loss: 0.3279: 100%|██████████| 53/53 [00:13<00:00,  4.03it/s]\n",
      "Val Loss: 0.3233: 100%|██████████| 14/14 [00:03<00:00,  4.57it/s]\n"
     ]
    },
    {
     "name": "stdout",
     "output_type": "stream",
     "text": [
      "Epoch 29 | Train Loss: 0.5687 | Train F1: 0.8548 | Val Loss: 0.5144 | Val F1: 0.9442\n"
     ]
    },
    {
     "name": "stderr",
     "output_type": "stream",
     "text": [
      "Loss: 0.3281: 100%|██████████| 53/53 [00:13<00:00,  4.07it/s]\n",
      "Val Loss: 0.3231: 100%|██████████| 14/14 [00:03<00:00,  4.54it/s]\n"
     ]
    },
    {
     "name": "stdout",
     "output_type": "stream",
     "text": [
      "Epoch 30 | Train Loss: 0.4488 | Train F1: 0.8982 | Val Loss: 0.5245 | Val F1: 0.9369\n"
     ]
    },
    {
     "name": "stderr",
     "output_type": "stream",
     "text": [
      "Loss: 0.3257: 100%|██████████| 53/53 [00:13<00:00,  4.03it/s]\n",
      "Val Loss: 0.3224: 100%|██████████| 14/14 [00:03<00:00,  4.58it/s]\n"
     ]
    },
    {
     "name": "stdout",
     "output_type": "stream",
     "text": [
      "Epoch 31 | Train Loss: 0.5918 | Train F1: 0.8660 | Val Loss: 0.4988 | Val F1: 0.9424\n"
     ]
    },
    {
     "name": "stderr",
     "output_type": "stream",
     "text": [
      "Loss: 0.3269: 100%|██████████| 53/53 [00:12<00:00,  4.08it/s]\n",
      "Val Loss: 0.3243: 100%|██████████| 14/14 [00:03<00:00,  4.60it/s]\n"
     ]
    },
    {
     "name": "stdout",
     "output_type": "stream",
     "text": [
      "Epoch 32 | Train Loss: 0.5231 | Train F1: 0.8817 | Val Loss: 0.4877 | Val F1: 0.9433\n"
     ]
    },
    {
     "name": "stderr",
     "output_type": "stream",
     "text": [
      "Loss: 0.5869: 100%|██████████| 53/53 [00:13<00:00,  4.06it/s]\n",
      "Val Loss: 0.3232: 100%|██████████| 14/14 [00:03<00:00,  4.58it/s]\n"
     ]
    },
    {
     "name": "stdout",
     "output_type": "stream",
     "text": [
      "Epoch 33 | Train Loss: 0.4892 | Train F1: 0.8589 | Val Loss: 0.4977 | Val F1: 0.9350\n"
     ]
    },
    {
     "name": "stderr",
     "output_type": "stream",
     "text": [
      "Loss: 0.6055: 100%|██████████| 53/53 [00:13<00:00,  4.05it/s]\n",
      "Val Loss: 0.3217: 100%|██████████| 14/14 [00:03<00:00,  4.63it/s]\n"
     ]
    },
    {
     "name": "stdout",
     "output_type": "stream",
     "text": [
      "Epoch 34 | Train Loss: 0.5487 | Train F1: 0.8666 | Val Loss: 0.5255 | Val F1: 0.9242\n"
     ]
    },
    {
     "name": "stderr",
     "output_type": "stream",
     "text": [
      "Loss: 0.3254: 100%|██████████| 53/53 [00:12<00:00,  4.08it/s]\n",
      "Val Loss: 0.3246: 100%|██████████| 14/14 [00:03<00:00,  4.45it/s]\n"
     ]
    },
    {
     "name": "stdout",
     "output_type": "stream",
     "text": [
      "Epoch 35 | Train Loss: 0.6190 | Train F1: 0.7793 | Val Loss: 0.5037 | Val F1: 0.9365\n"
     ]
    },
    {
     "name": "stderr",
     "output_type": "stream",
     "text": [
      "Loss: 0.3337: 100%|██████████| 53/53 [00:13<00:00,  4.05it/s]\n",
      "Val Loss: 0.3222: 100%|██████████| 14/14 [00:03<00:00,  4.61it/s]\n"
     ]
    },
    {
     "name": "stdout",
     "output_type": "stream",
     "text": [
      "Epoch 36 | Train Loss: 0.5427 | Train F1: 0.8895 | Val Loss: 0.4975 | Val F1: 0.9389\n"
     ]
    },
    {
     "name": "stderr",
     "output_type": "stream",
     "text": [
      "Loss: 0.3264: 100%|██████████| 53/53 [00:13<00:00,  4.08it/s]\n",
      "Val Loss: 0.3232: 100%|██████████| 14/14 [00:02<00:00,  4.71it/s]"
     ]
    },
    {
     "name": "stdout",
     "output_type": "stream",
     "text": [
      "Epoch 37 | Train Loss: 0.5511 | Train F1: 0.8602 | Val Loss: 0.4892 | Val F1: 0.9483\n"
     ]
    },
    {
     "name": "stderr",
     "output_type": "stream",
     "text": [
      "\n",
      "Loss: 0.3303: 100%|██████████| 53/53 [00:13<00:00,  4.07it/s]\n",
      "Val Loss: 0.3229: 100%|██████████| 14/14 [00:03<00:00,  4.49it/s]\n"
     ]
    },
    {
     "name": "stdout",
     "output_type": "stream",
     "text": [
      "Epoch 38 | Train Loss: 0.5316 | Train F1: 0.8800 | Val Loss: 0.5221 | Val F1: 0.9357\n"
     ]
    },
    {
     "name": "stderr",
     "output_type": "stream",
     "text": [
      "Loss: 0.3662: 100%|██████████| 53/53 [00:13<00:00,  4.06it/s]\n",
      "Val Loss: 0.3223: 100%|██████████| 14/14 [00:03<00:00,  4.49it/s]\n"
     ]
    },
    {
     "name": "stdout",
     "output_type": "stream",
     "text": [
      "Epoch 39 | Train Loss: 0.5388 | Train F1: 0.8825 | Val Loss: 0.5177 | Val F1: 0.9471\n"
     ]
    },
    {
     "name": "stderr",
     "output_type": "stream",
     "text": [
      "Loss: 0.3735: 100%|██████████| 53/53 [00:12<00:00,  4.08it/s]\n",
      "Val Loss: 0.3242: 100%|██████████| 14/14 [00:03<00:00,  4.65it/s]\n"
     ]
    },
    {
     "name": "stdout",
     "output_type": "stream",
     "text": [
      "Epoch 40 | Train Loss: 0.5676 | Train F1: 0.7983 | Val Loss: 0.5244 | Val F1: 0.9315\n"
     ]
    },
    {
     "name": "stderr",
     "output_type": "stream",
     "text": [
      "Loss: 1.6172: 100%|██████████| 53/53 [00:13<00:00,  4.05it/s]\n",
      "Val Loss: 0.3228: 100%|██████████| 14/14 [00:03<00:00,  4.49it/s]\n"
     ]
    },
    {
     "name": "stdout",
     "output_type": "stream",
     "text": [
      "Epoch 41 | Train Loss: 0.6432 | Train F1: 0.8079 | Val Loss: 0.5379 | Val F1: 0.9345\n"
     ]
    },
    {
     "name": "stderr",
     "output_type": "stream",
     "text": [
      "Loss: 0.5474: 100%|██████████| 53/53 [00:13<00:00,  4.05it/s]\n",
      "Val Loss: 0.3215: 100%|██████████| 14/14 [00:03<00:00,  4.25it/s]\n"
     ]
    },
    {
     "name": "stdout",
     "output_type": "stream",
     "text": [
      "Epoch 42 | Train Loss: 0.5438 | Train F1: 0.8475 | Val Loss: 0.5007 | Val F1: 0.9398\n"
     ]
    },
    {
     "name": "stderr",
     "output_type": "stream",
     "text": [
      "Loss: 0.3235: 100%|██████████| 53/53 [00:13<00:00,  4.01it/s]\n",
      "Val Loss: 0.3221: 100%|██████████| 14/14 [00:03<00:00,  4.48it/s]\n"
     ]
    },
    {
     "name": "stdout",
     "output_type": "stream",
     "text": [
      "Epoch 43 | Train Loss: 0.5366 | Train F1: 0.7928 | Val Loss: 0.5115 | Val F1: 0.9263\n"
     ]
    },
    {
     "name": "stderr",
     "output_type": "stream",
     "text": [
      "Loss: 1.2490: 100%|██████████| 53/53 [00:13<00:00,  4.07it/s]\n",
      "Val Loss: 0.3218: 100%|██████████| 14/14 [00:03<00:00,  4.61it/s]\n"
     ]
    },
    {
     "name": "stdout",
     "output_type": "stream",
     "text": [
      "Epoch 44 | Train Loss: 0.5568 | Train F1: 0.8440 | Val Loss: 0.4968 | Val F1: 0.9349\n"
     ]
    },
    {
     "name": "stderr",
     "output_type": "stream",
     "text": [
      "Loss: 1.1006: 100%|██████████| 53/53 [00:13<00:00,  4.05it/s]\n",
      "Val Loss: 0.3221: 100%|██████████| 14/14 [00:03<00:00,  4.57it/s]\n"
     ]
    },
    {
     "name": "stdout",
     "output_type": "stream",
     "text": [
      "Epoch 45 | Train Loss: 0.5867 | Train F1: 0.8448 | Val Loss: 0.5061 | Val F1: 0.9363\n"
     ]
    },
    {
     "name": "stderr",
     "output_type": "stream",
     "text": [
      "Loss: 0.5732: 100%|██████████| 53/53 [00:12<00:00,  4.08it/s]\n",
      "Val Loss: 0.3215: 100%|██████████| 14/14 [00:03<00:00,  4.53it/s]"
     ]
    },
    {
     "name": "stdout",
     "output_type": "stream",
     "text": [
      "Epoch 46 | Train Loss: 0.5772 | Train F1: 0.7842 | Val Loss: 0.4971 | Val F1: 0.9548\n"
     ]
    },
    {
     "name": "stderr",
     "output_type": "stream",
     "text": [
      "\n",
      "Loss: 0.3242: 100%|██████████| 53/53 [00:13<00:00,  4.05it/s]\n",
      "Val Loss: 0.3219: 100%|██████████| 14/14 [00:03<00:00,  4.52it/s]\n"
     ]
    },
    {
     "name": "stdout",
     "output_type": "stream",
     "text": [
      "Epoch 47 | Train Loss: 0.4958 | Train F1: 0.8187 | Val Loss: 0.4882 | Val F1: 0.9354\n"
     ]
    },
    {
     "name": "stderr",
     "output_type": "stream",
     "text": [
      "Loss: 0.3291: 100%|██████████| 53/53 [00:12<00:00,  4.09it/s]\n",
      "Val Loss: 0.3216: 100%|██████████| 14/14 [00:02<00:00,  4.71it/s]\n"
     ]
    },
    {
     "name": "stdout",
     "output_type": "stream",
     "text": [
      "Epoch 48 | Train Loss: 0.5248 | Train F1: 0.8681 | Val Loss: 0.4971 | Val F1: 0.9285\n"
     ]
    },
    {
     "name": "stderr",
     "output_type": "stream",
     "text": [
      "Loss: 0.3301: 100%|██████████| 53/53 [00:13<00:00,  4.06it/s]\n",
      "Val Loss: 0.3219: 100%|██████████| 14/14 [00:03<00:00,  4.55it/s]\n"
     ]
    },
    {
     "name": "stdout",
     "output_type": "stream",
     "text": [
      "Epoch 49 | Train Loss: 0.4034 | Train F1: 0.9327 | Val Loss: 0.4750 | Val F1: 0.9400\n"
     ]
    },
    {
     "name": "stderr",
     "output_type": "stream",
     "text": [
      "Loss: 0.3228: 100%|██████████| 53/53 [00:13<00:00,  4.05it/s]\n",
      "Val Loss: 0.3231: 100%|██████████| 14/14 [00:03<00:00,  4.49it/s]"
     ]
    },
    {
     "name": "stdout",
     "output_type": "stream",
     "text": [
      "Epoch 50 | Train Loss: 0.5537 | Train F1: 0.8605 | Val Loss: 0.4911 | Val F1: 0.9378\n",
      "Fold 5 Best Validation F1: 0.9548\n",
      "\n",
      "============================================================\n",
      "K-FOLD CROSS VALIDATION RESULTS\n",
      "============================================================\n",
      "Fold 1: 0.9709\n",
      "Fold 2: 0.9752\n",
      "Fold 3: 0.9671\n",
      "Fold 4: 0.9706\n",
      "Fold 5: 0.9548\n",
      "\n",
      "Mean CV F1: 0.9677 ± 0.0070\n",
      "Best single fold: 0.9752\n"
     ]
    },
    {
     "name": "stderr",
     "output_type": "stream",
     "text": [
      "\n"
     ]
    }
   ],
   "source": [
    "# K-Fold 설정\n",
    "N_FOLDS = 5  # 5-fold로 설정 (데이터가 적으므로)\n",
    "skf = StratifiedKFold(n_splits=N_FOLDS, shuffle=True, random_state=42)\n",
    "\n",
    "# 클래스별 최소 샘플 보장 확인\n",
    "# for fold, (train_idx, val_idx) in enumerate(skf.split(train_df, train_df['target'])):\n",
    "#     assert len(np.unique(train_df.iloc[val_idx]['target'])) == 17\n",
    "\n",
    "# 전체 학습 데이터 로드\n",
    "train_df = pd.read_csv(\"../data/train.csv\")\n",
    "\n",
    "# K-Fold 결과를 저장할 리스트\n",
    "fold_results = []\n",
    "fold_models = []  # 각 fold의 최고 성능 모델을 저장\n",
    "fold_class_accuracies = [] # 각 fold의 클래스별 정확도 저장\n",
    "\n",
    "print(f\"Starting {N_FOLDS}-Fold Cross Validation...\")\n",
    "\n",
    "# LR = best_params['lr']\n",
    "# BATCH_SIZE = best_params['batch_size']\n",
    "\n",
    "# K-Fold Cross Validation 시작\n",
    "for fold, (train_idx, val_idx) in enumerate(skf.split(train_df, train_df['target'])):\n",
    "    print(f\"\\n{'='*50}\")\n",
    "    print(f\"FOLD {fold + 1}/{N_FOLDS}\")\n",
    "    print(f\"{'='*50}\")\n",
    "    \n",
    "    current_model = model_name\n",
    "    \n",
    "    # 현재 fold의 train/validation 데이터 분할\n",
    "    train_fold_df = train_df.iloc[train_idx].reset_index(drop=True)\n",
    "    val_fold_df = train_df.iloc[val_idx].reset_index(drop=True)\n",
    "    \n",
    "    # 현재 fold의 Dataset 생성\n",
    "    trn_dataset = ImageDataset(\n",
    "        train_fold_df,\n",
    "        \"../data/train/\",\n",
    "        # transform=trn_transform\n",
    "        epoch=0,  # 현재 epoch 전달\n",
    "        total_epochs=EPOCHS,\n",
    "        is_train=True\n",
    "    )\n",
    "    \n",
    "    val_dataset = ImageDataset(\n",
    "        val_fold_df,\n",
    "        \"../data/train/\",\n",
    "        # transform=tst_transform  # 검증에는 증강 적용 안함\n",
    "        epoch=0,  # validation은 epoch 관계없음\n",
    "        total_epochs=EPOCHS,\n",
    "        is_train=False  # validation이므로 hard augmentation 비활성화\n",
    "    )\n",
    "    \n",
    "    # 현재 fold의 DataLoader 생성\n",
    "    trn_loader = DataLoader(\n",
    "        trn_dataset,\n",
    "        batch_size=BATCH_SIZE,\n",
    "        shuffle=True,\n",
    "        num_workers=num_workers,\n",
    "        pin_memory=True,\n",
    "        drop_last=False\n",
    "    )\n",
    "    \n",
    "    val_loader = DataLoader(\n",
    "        val_dataset,\n",
    "        batch_size=BATCH_SIZE,\n",
    "        shuffle=False,\n",
    "        num_workers=num_workers,\n",
    "        pin_memory=True\n",
    "    )\n",
    "    \n",
    "    print(f\"Train samples: {len(trn_dataset)}, Validation samples: {len(val_dataset)}\")\n",
    "    \n",
    "    # 모델 초기화 (각 fold마다 새로운 모델)\n",
    "    model = timm.create_model(\n",
    "        current_model,\n",
    "        pretrained=True,\n",
    "        num_classes=17\n",
    "    ).to(device)\n",
    "    \n",
    "    loss_fn = nn.CrossEntropyLoss(label_smoothing=0.05)  # Label Smoothing 적용\n",
    "    optimizer = Adam(model.parameters(), lr=LR)\n",
    "    \n",
    "    # Learning Rate Scheduler 추가\n",
    "    scheduler = CosineAnnealingLR(optimizer, T_max=EPOCHS)\n",
    "    \n",
    "    # 현재 fold의 최고 성능 추적\n",
    "    best_val_f1 = 0.0\n",
    "    best_model = None\n",
    "    \n",
    "    # 현재 fold 학습\n",
    "    for epoch in range(EPOCHS):\n",
    "        # Training\n",
    "        train_ret = train_one_epoch(trn_loader, model, optimizer, loss_fn, device)\n",
    "        \n",
    "        # Validation\n",
    "        val_ret = validate_one_epoch(val_loader, model, loss_fn, device)\n",
    "        \n",
    "        # Scheduler step 추가\n",
    "        scheduler.step()\n",
    "        \n",
    "        print(f\"Epoch {epoch+1:2d} | \"\n",
    "              f\"Train Loss: {train_ret['train_loss']:.4f} | \"\n",
    "              f\"Train F1: {train_ret['train_f1']:.4f} | \"\n",
    "              f\"Val Loss: {val_ret['val_loss']:.4f} | \"\n",
    "              f\"Val F1: {val_ret['val_f1']:.4f}\")\n",
    "        \n",
    "        # 최고 성능 모델 저장\n",
    "        if val_ret['val_f1'] > best_val_f1:\n",
    "            best_val_f1 = val_ret['val_f1']\n",
    "            best_model = copy.deepcopy(model.state_dict())\n",
    "            \n",
    "            # Best 모델 분석\n",
    "            model.eval()\n",
    "            val_preds, val_targets = [], []\n",
    "            with torch.no_grad():\n",
    "                for image, targets in val_loader:\n",
    "                    preds = model(image.to(device)).argmax(dim=1)\n",
    "                    val_preds.extend(preds.cpu().numpy())\n",
    "                    val_targets.extend(targets.numpy())\n",
    "            \n",
    "            # 클래스별 정확도\n",
    "            fold_class_acc = {}\n",
    "            for c in range(17):\n",
    "                mask = np.array(val_targets) == c\n",
    "                if mask.sum() > 0:\n",
    "                    fold_class_acc[c] = (np.array(val_preds)[mask] == c).mean()\n",
    "    \n",
    "    # 현재 fold 결과 저장\n",
    "    fold_results.append({\n",
    "        'fold': fold + 1,\n",
    "        'best_val_f1': best_val_f1,\n",
    "        'train_samples': len(trn_dataset),\n",
    "        'val_samples': len(val_dataset)\n",
    "    })\n",
    "    \n",
    "    fold_models.append(best_model)\n",
    "    \n",
    "    print(f\"Fold {fold + 1} Best Validation F1: {best_val_f1:.4f}\")\n",
    "    \n",
    "    fold_class_accuracies.append(fold_class_acc) # 각 fold의 클래스별 정확도 저장\n",
    "\n",
    "# K-Fold 결과 요약\n",
    "print(f\"\\n{'='*60}\")\n",
    "print(\"K-FOLD CROSS VALIDATION RESULTS\")\n",
    "print(f\"{'='*60}\")\n",
    "\n",
    "val_f1_scores = [result['best_val_f1'] for result in fold_results]\n",
    "mean_f1 = np.mean(val_f1_scores)\n",
    "std_f1 = np.std(val_f1_scores)\n",
    "\n",
    "for result in fold_results:\n",
    "    print(f\"Fold {result['fold']}: {result['best_val_f1']:.4f}\")\n",
    "\n",
    "print(f\"\\nMean CV F1: {mean_f1:.4f} ± {std_f1:.4f}\")\n",
    "print(f\"Best single fold: {max(val_f1_scores):.4f}\")"
   ]
  },
  {
   "cell_type": "code",
   "execution_count": 13,
   "metadata": {},
   "outputs": [
    {
     "data": {
      "image/png": "[encoded data removed]",
      "text/plain": [
       "<Figure size 1500x800 with 1 Axes>"
      ]
     },
     "metadata": {},
     "output_type": "display_data"
    },
    {
     "name": "stdout",
     "output_type": "stream",
     "text": [
      "Worst 3 classes:\n",
      "Class 3: 80.0%\n",
      "Class 7: 80.0%\n",
      "Class 14: 80.0%\n"
     ]
    }
   ],
   "source": [
    "# 클래스별 성능 시각화\n",
    "meta_df = pd.read_csv(\"../data/meta.csv\")\n",
    "avg_acc = {c: np.mean([f.get(c,0) for f in fold_class_accuracies]) for c in range(17)}\n",
    "\n",
    "plt.figure(figsize=(15, 8))\n",
    "classes = list(avg_acc.keys())\n",
    "accs = [avg_acc[c] * 100 for c in classes]\n",
    "names = [f\"C{c}\" for c in classes]\n",
    "\n",
    "plt.bar(range(17), accs)\n",
    "plt.xticks(range(17), names)\n",
    "plt.ylabel('Accuracy (%)')\n",
    "plt.title('Class-wise Prediction Accuracy')\n",
    "for i, acc in enumerate(accs):\n",
    "    plt.text(i, acc + 1, f'{acc:.1f}%', ha='center', fontsize=8)\n",
    "plt.tight_layout()\n",
    "plt.show()\n",
    "\n",
    "print(\"Worst 3 classes:\")\n",
    "worst = sorted(avg_acc.items(), key=lambda x: x[1])[:3]\n",
    "for c, acc in worst:\n",
    "    print(f\"Class {c}: {acc*100:.1f}%\")"
   ]
  },
  {
   "cell_type": "code",
   "execution_count": 14,
   "metadata": {},
   "outputs": [
    {
     "name": "stdout",
     "output_type": "stream",
     "text": [
      "Using ensemble of all 5 fold models for inference\n"
     ]
    }
   ],
   "source": [
    "# 5-Fold 앙상블 모델 준비\n",
    "ensemble_models = []\n",
    "for i, state_dict in enumerate(fold_models):\n",
    "    fold_model = timm.create_model(model_name, pretrained=True, num_classes=17).to(device)\n",
    "    fold_model.load_state_dict(state_dict)\n",
    "    fold_model.eval()\n",
    "    ensemble_models.append(fold_model)\n",
    "print(f\"Using ensemble of all {len(ensemble_models)} fold models for inference\")"
   ]
  },
  {
   "attachments": {},
   "cell_type": "markdown",
   "metadata": {
    "id": "Nmm5h3J-pXNV"
   },
   "source": [
    "## 5. Train Model\n",
    "* 모델을 로드하고, 학습을 진행합니다."
   ]
  },
  {
   "cell_type": "code",
   "execution_count": 15,
   "metadata": {
    "executionInfo": {
     "elapsed": 870,
     "status": "ok",
     "timestamp": 1700315114067,
     "user": {
      "displayName": "Ynot(송원호)",
      "userId": "16271863862696372773"
     },
     "user_tz": -540
    },
    "id": "FbBgFPsLT-CO"
   },
   "outputs": [],
   "source": [
    "# # load model\n",
    "# model = timm.create_model(\n",
    "#     model_name,\n",
    "#     pretrained=True,\n",
    "#     num_classes=17\n",
    "# ).to(device)\n",
    "# loss_fn = nn.CrossEntropyLoss()\n",
    "# optimizer = Adam(model.parameters(), lr=LR)"
   ]
  },
  {
   "cell_type": "code",
   "execution_count": 16,
   "metadata": {
    "colab": {
     "base_uri": "https://localhost:8080/"
    },
    "executionInfo": {
     "elapsed": 8778,
     "status": "ok",
     "timestamp": 1700315122843,
     "user": {
      "displayName": "Ynot(송원호)",
      "userId": "16271863862696372773"
     },
     "user_tz": -540
    },
    "id": "OvIVcSRgUPtS",
    "outputId": "88230bf2-976f-45f6-b3b7-1a2d0ad00548"
   },
   "outputs": [],
   "source": [
    "# for epoch in range(EPOCHS):\n",
    "#     ret = train_one_epoch(trn_loader, model, optimizer, loss_fn, device=device)\n",
    "#     ret['epoch'] = epoch\n",
    "\n",
    "#     log = \"\"\n",
    "#     for k, v in ret.items():\n",
    "#       log += f\"{k}: {v:.4f}\\n\"\n",
    "#     print(log)"
   ]
  },
  {
   "attachments": {},
   "cell_type": "markdown",
   "metadata": {
    "id": "lkwxRXoBpbaX"
   },
   "source": [
    "# 6. Inference & Save File\n",
    "* 테스트 이미지에 대한 추론을 진행하고, 결과 파일을 저장합니다."
   ]
  },
  {
   "cell_type": "code",
   "execution_count": 17,
   "metadata": {
    "colab": {
     "base_uri": "https://localhost:8080/"
    },
    "executionInfo": {
     "elapsed": 12776,
     "status": "ok",
     "timestamp": 1700315185336,
     "user": {
      "displayName": "Ynot(송원호)",
      "userId": "16271863862696372773"
     },
     "user_tz": -540
    },
    "id": "uRYe6jlPU_Om",
    "outputId": "2a08690c-9ffe-418d-8679-eb9280147110"
   },
   "outputs": [],
   "source": [
    "# preds_list = []\n",
    "\n",
    "# model.eval()\n",
    "# for image, _ in tqdm(tst_loader):\n",
    "#     image = image.to(device)\n",
    "\n",
    "#     with torch.no_grad():\n",
    "#         preds = model(image)\n",
    "#     preds_list.extend(preds.argmax(dim=1).detach().cpu().numpy())"
   ]
  },
  {
   "cell_type": "code",
   "execution_count": 18,
   "metadata": {
    "executionInfo": {
     "elapsed": 282,
     "status": "ok",
     "timestamp": 1700315216829,
     "user": {
      "displayName": "Ynot(송원호)",
      "userId": "16271863862696372773"
     },
     "user_tz": -540
    },
    "id": "aClN7Qi7VZoh"
   },
   "outputs": [],
   "source": [
    "# pred_df = pd.DataFrame(tst_dataset.df, columns=['ID', 'target'])\n",
    "# pred_df['target'] = preds_list"
   ]
  },
  {
   "cell_type": "code",
   "execution_count": 19,
   "metadata": {
    "executionInfo": {
     "elapsed": 1,
     "status": "ok",
     "timestamp": 1700315238836,
     "user": {
      "displayName": "Ynot(송원호)",
      "userId": "16271863862696372773"
     },
     "user_tz": -540
    },
    "id": "VDBXQqAzVvLY"
   },
   "outputs": [],
   "source": [
    "# sample_submission_df = pd.read_csv(\"../data/sample_submission.csv\")\n",
    "# assert (sample_submission_df['ID'] == pred_df['ID']).all()"
   ]
  },
  {
   "cell_type": "code",
   "execution_count": 20,
   "metadata": {
    "executionInfo": {
     "elapsed": 317,
     "status": "ok",
     "timestamp": 1700315244710,
     "user": {
      "displayName": "Ynot(송원호)",
      "userId": "16271863862696372773"
     },
     "user_tz": -540
    },
    "id": "ePx2vCELVnuS"
   },
   "outputs": [],
   "source": [
    "# pred_df.to_csv(\"pred.csv\", index=False)"
   ]
  },
  {
   "cell_type": "code",
   "execution_count": 21,
   "metadata": {},
   "outputs": [],
   "source": [
    "# Temperature Scaling 클래스 정의\n",
    "class TemperatureScaling(nn.Module):\n",
    "    def __init__(self):\n",
    "        super().__init__()\n",
    "        self.temperature = nn.Parameter(torch.ones(1) * 1.5)\n",
    "    \n",
    "    def forward(self, logits):\n",
    "        return logits / self.temperature"
   ]
  },
  {
   "cell_type": "code",
   "execution_count": 22,
   "metadata": {},
   "outputs": [],
   "source": [
    "essential_tta_transforms = [\n",
    "    # 원본\n",
    "    A.Compose([\n",
    "        A.LongestMaxSize(max_size=img_size),\n",
    "        A.PadIfNeeded(min_height=img_size, min_width=img_size, border_mode=0, value=0),\n",
    "        A.Normalize(mean=[0.485, 0.456, 0.406], std=[0.229, 0.224, 0.225]),\n",
    "        ToTensorV2(),\n",
    "    ]),\n",
    "    # 90도 회전들\n",
    "    A.Compose([\n",
    "        A.LongestMaxSize(max_size=img_size),\n",
    "        A.PadIfNeeded(min_height=img_size, min_width=img_size, border_mode=0, value=0),\n",
    "        A.Rotate(limit=[90, 90], p=1.0),\n",
    "        A.Normalize(mean=[0.485, 0.456, 0.406], std=[0.229, 0.224, 0.225]),\n",
    "        ToTensorV2(),\n",
    "    ]),\n",
    "    A.Compose([\n",
    "        A.LongestMaxSize(max_size=img_size),\n",
    "        A.PadIfNeeded(min_height=img_size, min_width=img_size, border_mode=0, value=0),\n",
    "        A.Rotate(limit=[180, 180], p=1.0),\n",
    "        A.Normalize(mean=[0.485, 0.456, 0.406], std=[0.229, 0.224, 0.225]),\n",
    "        ToTensorV2(),\n",
    "    ]),\n",
    "    A.Compose([\n",
    "        A.LongestMaxSize(max_size=img_size),\n",
    "        A.PadIfNeeded(min_height=img_size, min_width=img_size, border_mode=0, value=0),\n",
    "        A.Rotate(limit=[-90, -90], p=1.0),\n",
    "        A.Normalize(mean=[0.485, 0.456, 0.406], std=[0.229, 0.224, 0.225]),\n",
    "        ToTensorV2(),\n",
    "    ]),\n",
    "    # 밝기 개선\n",
    "    A.Compose([\n",
    "        A.LongestMaxSize(max_size=img_size),\n",
    "        A.PadIfNeeded(min_height=img_size, min_width=img_size, border_mode=0, value=0),\n",
    "        A.RandomBrightnessContrast(brightness_limit=[0.3, 0.3], contrast_limit=[0.3, 0.3], p=1.0),\n",
    "        A.Normalize(mean=[0.485, 0.456, 0.406], std=[0.229, 0.224, 0.225]),\n",
    "        ToTensorV2(),\n",
    "    ]),\n",
    "]"
   ]
  },
  {
   "cell_type": "code",
   "execution_count": 23,
   "metadata": {},
   "outputs": [],
   "source": [
    "# TTA 추론을 위한 Dataset 클래스\n",
    "class TTAImageDataset(Dataset):\n",
    "    def __init__(self, data, path, transforms):\n",
    "        if isinstance(data, str):\n",
    "            self.df = pd.read_csv(data).values\n",
    "        else:\n",
    "            self.df = data.values\n",
    "        self.path = path\n",
    "        self.transforms = transforms  # 여러 transform을 리스트로 받음\n",
    "\n",
    "    def __len__(self):\n",
    "        return len(self.df)\n",
    "\n",
    "    def __getitem__(self, idx):\n",
    "        name, target = self.df[idx]\n",
    "        img = np.array(Image.open(os.path.join(self.path, name)))\n",
    "        \n",
    "        # 모든 transform을 적용한 결과를 리스트로 반환\n",
    "        augmented_images = []\n",
    "        for transform in self.transforms:\n",
    "            aug_img = transform(image=img)['image']\n",
    "            augmented_images.append(aug_img)\n",
    "        \n",
    "        return augmented_images, target"
   ]
  },
  {
   "cell_type": "code",
   "execution_count": 24,
   "metadata": {},
   "outputs": [
    {
     "name": "stdout",
     "output_type": "stream",
     "text": [
      "TTA Dataset size: 3140\n"
     ]
    }
   ],
   "source": [
    "# TTA Dataset 생성\n",
    "tta_dataset = TTAImageDataset(\n",
    "    \"../data/sample_submission.csv\",\n",
    "    \"../data/test/\",\n",
    "    essential_tta_transforms\n",
    ")\n",
    "\n",
    "# TTA DataLoader (배치 크기를 줄여서 메모리 절약)\n",
    "tta_loader = DataLoader(\n",
    "    tta_dataset,\n",
    "    batch_size=64,  # TTA는 메모리를 많이 사용하므로 배치 크기 줄임\n",
    "    shuffle=False,\n",
    "    num_workers=num_workers,\n",
    "    pin_memory=True\n",
    ")\n",
    "\n",
    "print(f\"TTA Dataset size: {len(tta_dataset)}\")"
   ]
  },
  {
   "cell_type": "code",
   "execution_count": 25,
   "metadata": {},
   "outputs": [],
   "source": [
    "def ensemble_tta_inference(models, loader, transforms, confidence_threshold=0.9):\n",
    "    \"\"\"5-Fold 모델 앙상블 + TTA 추론\"\"\"\n",
    "    all_predictions = []\n",
    "    \n",
    "    for batch_idx, (images_list, _) in enumerate(tqdm(loader, desc=\"Ensemble TTA\")):\n",
    "        batch_size = images_list[0].size(0)\n",
    "        ensemble_probs = torch.zeros(batch_size, 17).to(device)\n",
    "        \n",
    "        # 각 fold 모델별 예측\n",
    "        for model in models:\n",
    "            with torch.no_grad():\n",
    "                # 각 TTA 변형별 예측\n",
    "                for images in images_list:\n",
    "                    images = images.to(device)\n",
    "                    preds = model(images)\n",
    "                    probs = torch.softmax(preds, dim=1)\n",
    "                    ensemble_probs += probs / (len(models) * len(images_list))\n",
    "        \n",
    "        final_preds = torch.argmax(ensemble_probs, dim=1)\n",
    "        all_predictions.extend(final_preds.cpu().numpy())\n",
    "    \n",
    "    return all_predictions"
   ]
  },
  {
   "cell_type": "code",
   "execution_count": 26,
   "metadata": {},
   "outputs": [
    {
     "name": "stdout",
     "output_type": "stream",
     "text": [
      "Starting Ensemble TTA inference...\n"
     ]
    },
    {
     "name": "stderr",
     "output_type": "stream",
     "text": [
      "Ensemble TTA:   0%|          | 0/50 [00:00<?, ?it/s]"
     ]
    },
    {
     "name": "stderr",
     "output_type": "stream",
     "text": [
      "Ensemble TTA: 100%|██████████| 50/50 [09:17<00:00, 11.15s/it]\n"
     ]
    }
   ],
   "source": [
    "# 앙상블 TTA 실행\n",
    "print(\"Starting Ensemble TTA inference...\")\n",
    "tta_predictions = ensemble_tta_inference(\n",
    "    models=ensemble_models, \n",
    "    loader=tta_loader, \n",
    "    transforms=essential_tta_transforms,\n",
    "    confidence_threshold=0.9\n",
    ")"
   ]
  },
  {
   "cell_type": "code",
   "execution_count": 27,
   "metadata": {},
   "outputs": [],
   "source": [
    "# TTA 결과로 submission 파일 생성\n",
    "tta_pred_df = pd.DataFrame(tta_dataset.df, columns=['ID', 'target'])\n",
    "tta_pred_df['target'] = tta_predictions"
   ]
  },
  {
   "cell_type": "code",
   "execution_count": 28,
   "metadata": {},
   "outputs": [],
   "source": [
    "# 기존 submission과 동일한 순서인지 확인\n",
    "sample_submission_df = pd.read_csv(\"../data/sample_submission.csv\")\n",
    "assert (sample_submission_df['ID'] == tta_pred_df['ID']).all()"
   ]
  },
  {
   "cell_type": "code",
   "execution_count": 29,
   "metadata": {},
   "outputs": [
    {
     "name": "stdout",
     "output_type": "stream",
     "text": [
      "TTA predictions saved\n",
      "TTA Prediction sample:\n"
     ]
    }
   ],
   "source": [
    "# TTA 결과 저장\n",
    "tta_pred_df.to_csv(\"../submission/choice.csv\", index=False)\n",
    "print(\"TTA predictions saved\")\n",
    "\n",
    "print(\"TTA Prediction sample:\")"
   ]
  },
  {
   "cell_type": "code",
   "execution_count": 30,
   "metadata": {
    "colab": {
     "base_uri": "https://localhost:8080/",
     "height": 206
    },
    "executionInfo": {
     "elapsed": 353,
     "status": "ok",
     "timestamp": 1700315247734,
     "user": {
      "displayName": "Ynot(송원호)",
      "userId": "16271863862696372773"
     },
     "user_tz": -540
    },
    "id": "9yMO8s6GqAwZ",
    "outputId": "9a30616f-f0ea-439f-a906-dd806737ce00"
   },
   "outputs": [
    {
     "data": {
      "text/html": [
       "<div>\n",
       "<style scoped>\n",
       "    .dataframe tbody tr th:only-of-type {\n",
       "        vertical-align: middle;\n",
       "    }\n",
       "\n",
       "    .dataframe tbody tr th {\n",
       "        vertical-align: top;\n",
       "    }\n",
       "\n",
       "    .dataframe thead th {\n",
       "        text-align: right;\n",
       "    }\n",
       "</style>\n",
       "<table border=\"1\" class=\"dataframe\">\n",
       "  <thead>\n",
       "    <tr style=\"text-align: right;\">\n",
       "      <th></th>\n",
       "      <th>ID</th>\n",
       "      <th>target</th>\n",
       "    </tr>\n",
       "  </thead>\n",
       "  <tbody>\n",
       "    <tr>\n",
       "      <th>0</th>\n",
       "      <td>0008fdb22ddce0ce.jpg</td>\n",
       "      <td>2</td>\n",
       "    </tr>\n",
       "    <tr>\n",
       "      <th>1</th>\n",
       "      <td>00091bffdffd83de.jpg</td>\n",
       "      <td>12</td>\n",
       "    </tr>\n",
       "    <tr>\n",
       "      <th>2</th>\n",
       "      <td>00396fbc1f6cc21d.jpg</td>\n",
       "      <td>5</td>\n",
       "    </tr>\n",
       "    <tr>\n",
       "      <th>3</th>\n",
       "      <td>00471f8038d9c4b6.jpg</td>\n",
       "      <td>12</td>\n",
       "    </tr>\n",
       "    <tr>\n",
       "      <th>4</th>\n",
       "      <td>00901f504008d884.jpg</td>\n",
       "      <td>2</td>\n",
       "    </tr>\n",
       "  </tbody>\n",
       "</table>\n",
       "</div>"
      ],
      "text/plain": [
       "                     ID  target\n",
       "0  0008fdb22ddce0ce.jpg       2\n",
       "1  00091bffdffd83de.jpg      12\n",
       "2  00396fbc1f6cc21d.jpg       5\n",
       "3  00471f8038d9c4b6.jpg      12\n",
       "4  00901f504008d884.jpg       2"
      ]
     },
     "execution_count": 30,
     "metadata": {},
     "output_type": "execute_result"
    }
   ],
   "source": [
    "tta_pred_df.head()"
   ]
  }
 ],
 "metadata": {
  "accelerator": "GPU",
  "colab": {
   "provenance": []
  },
  "kernelspec": {
   "display_name": "base",
   "language": "python",
   "name": "python3"
  },
  "language_info": {
   "codemirror_mode": {
    "name": "ipython",
    "version": 3
   },
   "file_extension": ".py",
   "mimetype": "text/x-python",
   "name": "python",
   "nbconvert_exporter": "python",
   "pygments_lexer": "ipython3",
   "version": "3.10.13"
  }
 },
 "nbformat": 4,
 "nbformat_minor": 0
}
