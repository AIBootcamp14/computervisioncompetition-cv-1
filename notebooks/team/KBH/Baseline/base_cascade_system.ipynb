{
  "cells": [
    {
      "cell_type": "markdown",
      "metadata": {},
      "source": [
        "# 2단계 캐스케이드 분류 시스템 구현\n",
        "\n",
        "## 목표\n",
        "- 분류기 A: 17개 클래스 전체 분류 (이미 완료)\n",
        "- 분류기 B: 취약 클래스 3,4,7,14만 분류 (새로 학습)\n",
        "- 캐스케이드: A가 취약 클래스로 예측하면 B로 재분류\n",
        "\n",
        "## 취약 클래스 분석\n",
        "- Class 3: 61.0% 정확도\n",
        "- Class 4: (분석 필요)\n",
        "- Class 7: 60.0% 정확도  \n",
        "- Class 14: 50.0% 정확도\n"
      ]
    },
    {
      "cell_type": "code",
      "execution_count": null,
      "metadata": {},
      "outputs": [],
      "source": [
        "# [1] 프로젝트 루트 디렉토리 이동 및 환경 설정\n",
        "import os\n",
        "os.chdir(\"../../../\")  # 프로젝트 루트로 이동\n",
        "print(\"현재 작업 디렉토리:\", os.getcwd())\n",
        "\n",
        "# GPU 체크\n",
        "import torch\n",
        "if torch.cuda.is_available():\n",
        "    print(f'✅ GPU 사용 가능: {torch.cuda.get_device_name(0)}')\n",
        "else:\n",
        "    print('⚠️ GPU 사용 불가, CPU로 실행됩니다')\n",
        "\n",
        "# 경고 억제 설정\n",
        "import warnings\n",
        "warnings.filterwarnings('ignore')\n",
        "\n",
        "# 한글 폰트 적용 및 시각화 환경 설정\n",
        "import matplotlib.pyplot as plt\n",
        "import matplotlib.font_manager as fm\n",
        "\n",
        "# 나눔고딕 폰트 경로 및 설정\n",
        "font_path = './font/NanumGothic.ttf'\n",
        "fontprop = fm.FontProperties(fname=font_path)\n",
        "\n",
        "# 폰트 등록 및 설정 (한글 텍스트 표시를 위함)\n",
        "fe = fm.FontEntry(fname=font_path, name='NanumGothic')\n",
        "fm.fontManager.ttflist.insert(0, fe)\n",
        "plt.rcParams['font.family'] = 'NanumGothic'      # 기본 폰트를 나눔고딕으로 설정\n",
        "plt.rcParams['font.size'] = 10                   # 기본 글자 크기 설정\n",
        "plt.rcParams['axes.unicode_minus'] = False       # 마이너스 기호 깨짐 방지\n",
        "\n",
        "# 글자 겹침 방지를 위한 레이아웃 설정\n",
        "plt.rcParams['figure.autolayout'] = True         # 자동 레이아웃 조정\n",
        "plt.rcParams['axes.titlepad'] = 20               # 제목과 축 사이 여백\n",
        "\n",
        "# 폰트 로드 확인\n",
        "try:\n",
        "    test_font = fm.FontProperties(fname=font_path)\n",
        "    print(\"✅ 나눔고딕 폰트 로드 성공\")\n",
        "except Exception as e:\n",
        "    print(f\"❌ 폰트 로드 실패: {e}\")\n",
        "\n",
        "# 노트북 로거 생성\n",
        "from src.logging.notebook_logger import create_notebook_logger\n",
        "\n",
        "logger = create_notebook_logger(\n",
        "    base_log_dir=\"team\",\n",
        "    folder_name=\"KBH/Baseline\",\n",
        "    file_name=\"base_cascade_system\"\n",
        ")\n",
        "\n",
        "print(\"✅ 환경 설정 및 로거 초기화 완료\")"
      ]
    },
    {
      "cell_type": "code",
      "execution_count": 18,
      "metadata": {},
      "outputs": [
        {
          "name": "stdout",
          "output_type": "stream",
          "text": [
            "Using device: cuda\n"
          ]
        }
      ],
      "source": [
        "# 필요한 라이브러리 import\n",
        "import os\n",
        "import time\n",
        "import random\n",
        "import copy\n",
        "import pandas as pd\n",
        "import numpy as np\n",
        "import torch\n",
        "import torch.nn as nn\n",
        "import torch.nn.functional as F\n",
        "from torch.optim import Adam\n",
        "from torch.utils.data import Dataset, DataLoader\n",
        "from torch.optim.lr_scheduler import CosineAnnealingLR\n",
        "from torch.cuda.amp import autocast, GradScaler\n",
        "from PIL import Image\n",
        "from tqdm import tqdm\n",
        "from sklearn.metrics import accuracy_score, f1_score, confusion_matrix, classification_report\n",
        "from sklearn.model_selection import StratifiedKFold\n",
        "import timm\n",
        "import albumentations as A\n",
        "from albumentations.pytorch import ToTensorV2\n",
        "import warnings\n",
        "warnings.filterwarnings('ignore')\n",
        "\n",
        "# 시드 고정\n",
        "SEED = 42\n",
        "random.seed(SEED)\n",
        "np.random.seed(SEED)\n",
        "torch.manual_seed(SEED)\n",
        "torch.cuda.manual_seed(SEED)\n",
        "torch.cuda.manual_seed_all(SEED)\n",
        "\n",
        "device = torch.device('cuda' if torch.cuda.is_available() else 'cpu')\n",
        "print(f\"Using device: {device}\")\n"
      ]
    },
    {
      "cell_type": "code",
      "execution_count": 19,
      "metadata": {},
      "outputs": [],
      "source": [
        "torch.cuda.empty_cache()"
      ]
    },
    {
      "cell_type": "code",
      "execution_count": null,
      "metadata": {},
      "outputs": [
        {
          "name": "stdout",
          "output_type": "stream",
          "text": [
            "Target vulnerable classes: [3, 4, 7, 14]\n"
          ]
        }
      ],
      "source": [
        "# 하이퍼파라미터 설정\n",
        "model_name = 'convnext_base_384_in22ft1k'  # 기존과 동일한 모델\n",
        "img_size = 448\n",
        "LR = 2e-4\n",
        "EPOCHS = 150  \n",
        "BATCH_SIZE = 32\n",
        "num_workers = 8\n",
        "\n",
        "# 취약 클래스 설정\n",
        "vulnerable_classes = [3, 4, 7, 14]\n",
        "print(f\"Target vulnerable classes: {vulnerable_classes}\")\n"
      ]
    },
    {
      "cell_type": "code",
      "execution_count": null,
      "metadata": {},
      "outputs": [],
      "source": [
        "# 데이터셋 클래스 정의 (기존과 동일, __init__만 수정)\n",
        "class ImageDataset(Dataset):\n",
        "    def __init__(self, data, path, epoch=0, total_epochs=10, is_train=True):\n",
        "        if isinstance(data, str):\n",
        "            df_temp = pd.read_csv(data)\n",
        "        else:\n",
        "            df_temp = data\n",
        "        \n",
        "        # 수정: 항상 ['ID', 'target'] 컬럼만 선택하여 self.df 초기화\n",
        "        self.df = df_temp[['ID', 'target']].values\n",
        "        self.path = path\n",
        "        self.epoch = epoch\n",
        "        self.total_epochs = total_epochs\n",
        "        self.is_train = is_train\n",
        "        \n",
        "        # Hard augmentation 확률 계산\n",
        "        self.p_hard = 0.2 + 0.3 * (epoch / total_epochs) if is_train else 0\n",
        "        \n",
        "        # Normal augmentation\n",
        "        self.normal_aug = A.Compose([\n",
        "            A.LongestMaxSize(max_size=img_size),\n",
        "            A.PadIfNeeded(min_height=img_size, min_width=img_size, border_mode=0, value=0),\n",
        "            A.OneOf([\n",
        "                A.Rotate(limit=[90, 90], p=1.0),\n",
        "                A.Rotate(limit=[180, 180], p=1.0),\n",
        "                A.Rotate(limit=[270, 270], p=1.0),\n",
        "            ], p=0.6),\n",
        "            A.RandomBrightnessContrast(brightness_limit=0.3, contrast_limit=0.3, p=0.8),\n",
        "            A.GaussNoise(var_limit=(30.0, 100.0), p=0.7),\n",
        "            A.HorizontalFlip(p=0.5),\n",
        "            A.Normalize(mean=[0.485, 0.456, 0.406], std=[0.229, 0.224, 0.225]),\n",
        "            ToTensorV2(),\n",
        "        ])\n",
        "        \n",
        "        # Hard augmentation\n",
        "        self.hard_aug = A.Compose([\n",
        "            A.LongestMaxSize(max_size=img_size),\n",
        "            A.PadIfNeeded(min_height=img_size, min_width=img_size, border_mode=0, value=0),\n",
        "            A.OneOf([\n",
        "                A.Rotate(limit=[90, 90], p=1.0),\n",
        "                A.Rotate(limit=[180, 180], p=1.0),\n",
        "                A.Rotate(limit=[270, 270], p=1.0),\n",
        "                A.Rotate(limit=[-15, 15], p=1.0),\n",
        "            ], p=0.8),\n",
        "            A.OneOf([\n",
        "                A.MotionBlur(blur_limit=15, p=1.0),\n",
        "                A.GaussianBlur(blur_limit=15, p=1.0),\n",
        "            ], p=0.95),\n",
        "            A.RandomBrightnessContrast(brightness_limit=0.5, contrast_limit=0.5, p=0.9),\n",
        "            A.GaussNoise(var_limit=(50.0, 150.0), p=0.8),\n",
        "            A.JpegCompression(quality_lower=70, quality_upper=100, p=0.5),\n",
        "            A.HorizontalFlip(p=0.5),\n",
        "            A.Normalize(mean=[0.485, 0.456, 0.406], std=[0.229, 0.224, 0.225]),\n",
        "            ToTensorV2(),\n",
        "        ])\n",
        "\n",
        "    def __len__(self):\n",
        "        return len(self.df)\n",
        "\n",
        "    def __getitem__(self, idx):\n",
        "        name, target = self.df[idx]\n",
        "        img = np.array(Image.open(os.path.join(self.path, name)).convert('RGB'))\n",
        "        \n",
        "        # 배치별 증강 선택\n",
        "        if self.is_train and random.random() < self.p_hard:\n",
        "            img = self.hard_aug(image=img)['image']\n",
        "        else:\n",
        "            img = self.normal_aug(image=img)['image']\n",
        "        \n",
        "        return img, target"
      ]
    },
    {
      "cell_type": "code",
      "execution_count": 22,
      "metadata": {},
      "outputs": [],
      "source": [
        "# Mixup 함수 정의\n",
        "def mixup_data(x, y, alpha=1.0):\n",
        "    if alpha > 0:\n",
        "        lam = np.random.beta(alpha, alpha)\n",
        "    else:\n",
        "        lam = 1\n",
        "    batch_size = x.size()[0]\n",
        "    index = torch.randperm(batch_size).cuda()\n",
        "    mixed_x = lam * x + (1 - lam) * x[index, :]\n",
        "    y_a, y_b = y, y[index]\n",
        "    return mixed_x, y_a, y_b, lam\n",
        "\n",
        "# 학습 함수\n",
        "def train_one_epoch(loader, model, optimizer, loss_fn, device):\n",
        "    scaler = GradScaler()\n",
        "    model.train()\n",
        "    train_loss = 0\n",
        "    preds_list = []\n",
        "    targets_list = []\n",
        "\n",
        "    pbar = tqdm(loader)\n",
        "    for image, targets in pbar:\n",
        "        image = image.to(device)\n",
        "        targets = targets.to(device)\n",
        "        \n",
        "        # Cutmix/Mixup 적용 (30% 확률)\n",
        "        if random.random() < 0.3:\n",
        "            mixed_x, y_a, y_b, lam = mixup_data(image, targets, alpha=1.0)\n",
        "            with autocast(): \n",
        "                preds = model(mixed_x)\n",
        "            loss = lam * loss_fn(preds, y_a) + (1 - lam) * loss_fn(preds, y_b)\n",
        "        else:\n",
        "            with autocast(): \n",
        "                preds = model(image)\n",
        "            loss = loss_fn(preds, targets)\n",
        "\n",
        "        model.zero_grad(set_to_none=True)\n",
        "        scaler.scale(loss).backward()\n",
        "        torch.nn.utils.clip_grad_norm_(model.parameters(), 1.0)\n",
        "        scaler.step(optimizer)\n",
        "        scaler.update()\n",
        "\n",
        "        train_loss += loss.item()\n",
        "        preds_list.extend(preds.argmax(dim=1).detach().cpu().numpy())\n",
        "        targets_list.extend(targets.detach().cpu().numpy())\n",
        "\n",
        "        pbar.set_description(f\"Loss: {loss.item():.4f}\")\n",
        "\n",
        "    train_loss /= len(loader)\n",
        "    train_acc = accuracy_score(targets_list, preds_list)\n",
        "    train_f1 = f1_score(targets_list, preds_list, average='macro')\n",
        "\n",
        "    return {\n",
        "        \"train_loss\": train_loss,\n",
        "        \"train_acc\": train_acc,\n",
        "        \"train_f1\": train_f1,\n",
        "    }\n",
        "\n",
        "# 검증 함수\n",
        "def validate_one_epoch(loader, model, loss_fn, device):\n",
        "    model.eval()\n",
        "    val_loss = 0\n",
        "    preds_list = []\n",
        "    targets_list = []\n",
        "    \n",
        "    with torch.no_grad():\n",
        "        pbar = tqdm(loader, desc=\"Validating\")\n",
        "        for image, targets in pbar:\n",
        "            image = image.to(device)\n",
        "            targets = targets.to(device)\n",
        "            \n",
        "            preds = model(image)\n",
        "            loss = loss_fn(preds, targets)\n",
        "            \n",
        "            val_loss += loss.item()\n",
        "            preds_list.extend(preds.argmax(dim=1).detach().cpu().numpy())\n",
        "            targets_list.extend(targets.detach().cpu().numpy())\n",
        "            \n",
        "            pbar.set_description(f\"Val Loss: {loss.item():.4f}\")\n",
        "    \n",
        "    val_loss /= len(loader)\n",
        "    val_acc = accuracy_score(targets_list, preds_list)\n",
        "    val_f1 = f1_score(targets_list, preds_list, average='macro')\n",
        "    \n",
        "    return {\n",
        "        \"val_loss\": val_loss,\n",
        "        \"val_acc\": val_acc,\n",
        "        \"val_f1\": val_f1,\n",
        "    }\n"
      ]
    },
    {
      "cell_type": "code",
      "execution_count": null,
      "metadata": {},
      "outputs": [
        {
          "name": "stdout",
          "output_type": "stream",
          "text": [
            "Original dataset size: 1570\n",
            "Filtered dataset size: 350\n",
            "\n",
            "Class distribution:\n",
            "Class 3: 100 samples\n",
            "Class 4: 100 samples\n",
            "Class 7: 100 samples\n",
            "Class 14: 50 samples\n",
            "\n",
            "Label mapping:\n",
            "Original class 3 -> New class 0\n",
            "Original class 4 -> New class 1\n",
            "Original class 7 -> New class 2\n",
            "Original class 14 -> New class 3\n",
            "\n",
            "New class distribution:\n",
            "New class 0: 100 samples\n",
            "New class 1: 100 samples\n",
            "New class 2: 100 samples\n",
            "New class 3: 50 samples\n"
          ]
        }
      ],
      "source": [
        "# ========================================\n",
        "# 1. 취약 클래스 데이터 준비\n",
        "# ========================================\n",
        "\n",
        "# 원본 데이터 로드\n",
        "train_df = pd.read_csv(\"./data/raw/train.csv\")\n",
        "print(f\"Original dataset size: {len(train_df)}\")\n",
        "\n",
        "# 취약 클래스만 필터링\n",
        "filtered_df = train_df[train_df['target'].isin(vulnerable_classes)].copy()\n",
        "print(f\"Filtered dataset size: {len(filtered_df)}\")\n",
        "\n",
        "# 클래스별 샘플 수 확인\n",
        "print(\"\\nClass distribution:\")\n",
        "for cls in vulnerable_classes:\n",
        "    count = len(filtered_df[filtered_df['target'] == cls])\n",
        "    print(f\"Class {cls}: {count} samples\")\n",
        "\n",
        "# 라벨 재매핑 (3->0, 4->1, 7->2, 14->3)\n",
        "label_mapping = {3: 0, 4: 1, 7: 2, 14: 3}\n",
        "filtered_df['original_target'] = filtered_df['target']  # 원본 라벨 보존\n",
        "filtered_df['target'] = filtered_df['target'].map(label_mapping)\n",
        "\n",
        "print(\"\\nLabel mapping:\")\n",
        "for orig, new in label_mapping.items():\n",
        "    print(f\"Original class {orig} -> New class {new}\")\n",
        "\n",
        "# 클래스 불균형 확인\n",
        "print(\"\\nNew class distribution:\")\n",
        "for new_cls in range(4):\n",
        "    count = len(filtered_df[filtered_df['target'] == new_cls])\n",
        "    print(f\"New class {new_cls}: {count} samples\")\n"
      ]
    },
    {
      "cell_type": "code",
      "execution_count": null,
      "metadata": {},
      "outputs": [
        {
          "name": "stdout",
          "output_type": "stream",
          "text": [
            "Starting 3-Fold Cross Validation for Subset Model...\n",
            "\n",
            "==================================================\n",
            "SUBSET FOLD 1/3\n",
            "==================================================\n",
            "Train samples: 233, Validation samples: 117\n"
          ]
        },
        {
          "name": "stderr",
          "output_type": "stream",
          "text": [
            "Loss: 1.2754: 100%|██████████| 8/8 [00:03<00:00,  2.56it/s]\n",
            "Val Loss: 1.3132: 100%|██████████| 4/4 [00:01<00:00,  2.52it/s]\n"
          ]
        },
        {
          "name": "stdout",
          "output_type": "stream",
          "text": [
            "Epoch  1 | Train Loss: 1.4312 | Train F1: 0.2236 | Val Loss: 1.4063 | Val F1: 0.1100\n"
          ]
        },
        {
          "name": "stderr",
          "output_type": "stream",
          "text": [
            "Loss: 1.5146: 100%|██████████| 8/8 [00:03<00:00,  2.65it/s]\n",
            "Val Loss: 1.4145: 100%|██████████| 4/4 [00:01<00:00,  2.54it/s]\n"
          ]
        },
        {
          "name": "stdout",
          "output_type": "stream",
          "text": [
            "Epoch  2 | Train Loss: 1.3702 | Train F1: 0.2492 | Val Loss: 1.3307 | Val F1: 0.1949\n"
          ]
        },
        {
          "name": "stderr",
          "output_type": "stream",
          "text": [
            "Loss: 1.3613: 100%|██████████| 8/8 [00:02<00:00,  2.71it/s]\n",
            "Val Loss: 1.2813: 100%|██████████| 4/4 [00:01<00:00,  2.54it/s]\n"
          ]
        },
        {
          "name": "stdout",
          "output_type": "stream",
          "text": [
            "Epoch  3 | Train Loss: 1.3489 | Train F1: 0.2921 | Val Loss: 1.3184 | Val F1: 0.2678\n"
          ]
        },
        {
          "name": "stderr",
          "output_type": "stream",
          "text": [
            "Loss: 1.2188: 100%|██████████| 8/8 [00:03<00:00,  2.66it/s]\n",
            "Val Loss: 1.3598: 100%|██████████| 4/4 [00:01<00:00,  2.49it/s]\n"
          ]
        },
        {
          "name": "stdout",
          "output_type": "stream",
          "text": [
            "Epoch  4 | Train Loss: 1.2885 | Train F1: 0.2949 | Val Loss: 1.2415 | Val F1: 0.3681\n"
          ]
        },
        {
          "name": "stderr",
          "output_type": "stream",
          "text": [
            "Loss: 1.4980: 100%|██████████| 8/8 [00:02<00:00,  2.72it/s]\n",
            "Val Loss: 1.2261: 100%|██████████| 4/4 [00:01<00:00,  2.56it/s]\n"
          ]
        },
        {
          "name": "stdout",
          "output_type": "stream",
          "text": [
            "Epoch  5 | Train Loss: 1.2068 | Train F1: 0.4293 | Val Loss: 1.2050 | Val F1: 0.3005\n"
          ]
        },
        {
          "name": "stderr",
          "output_type": "stream",
          "text": [
            "Loss: 1.2949: 100%|██████████| 8/8 [00:02<00:00,  2.68it/s]\n",
            "Val Loss: 1.2569: 100%|██████████| 4/4 [00:01<00:00,  2.58it/s]\n"
          ]
        },
        {
          "name": "stdout",
          "output_type": "stream",
          "text": [
            "Epoch  6 | Train Loss: 1.2894 | Train F1: 0.3075 | Val Loss: 1.4061 | Val F1: 0.2636\n"
          ]
        },
        {
          "name": "stderr",
          "output_type": "stream",
          "text": [
            "Loss: 1.0859: 100%|██████████| 8/8 [00:03<00:00,  2.64it/s]\n",
            "Val Loss: 1.2698: 100%|██████████| 4/4 [00:01<00:00,  2.43it/s]\n"
          ]
        },
        {
          "name": "stdout",
          "output_type": "stream",
          "text": [
            "Epoch  7 | Train Loss: 1.1949 | Train F1: 0.3433 | Val Loss: 1.1711 | Val F1: 0.4167\n"
          ]
        },
        {
          "name": "stderr",
          "output_type": "stream",
          "text": [
            "Loss: 0.9424: 100%|██████████| 8/8 [00:02<00:00,  2.73it/s]\n",
            "Val Loss: 1.0334: 100%|██████████| 4/4 [00:01<00:00,  2.56it/s]\n"
          ]
        },
        {
          "name": "stdout",
          "output_type": "stream",
          "text": [
            "Epoch  8 | Train Loss: 1.0618 | Train F1: 0.4246 | Val Loss: 1.0980 | Val F1: 0.4649\n"
          ]
        },
        {
          "name": "stderr",
          "output_type": "stream",
          "text": [
            "Loss: 1.2783: 100%|██████████| 8/8 [00:03<00:00,  2.66it/s]\n",
            "Val Loss: 1.4199: 100%|██████████| 4/4 [00:01<00:00,  2.25it/s]\n"
          ]
        },
        {
          "name": "stdout",
          "output_type": "stream",
          "text": [
            "Epoch  9 | Train Loss: 1.1470 | Train F1: 0.4491 | Val Loss: 1.3986 | Val F1: 0.3027\n"
          ]
        },
        {
          "name": "stderr",
          "output_type": "stream",
          "text": [
            "Loss: 1.2246: 100%|██████████| 8/8 [00:03<00:00,  2.59it/s]\n",
            "Val Loss: 1.2973: 100%|██████████| 4/4 [00:01<00:00,  2.52it/s]\n"
          ]
        },
        {
          "name": "stdout",
          "output_type": "stream",
          "text": [
            "Epoch 10 | Train Loss: 1.2289 | Train F1: 0.3527 | Val Loss: 1.1878 | Val F1: 0.3647\n"
          ]
        },
        {
          "name": "stderr",
          "output_type": "stream",
          "text": [
            "Loss: 1.2236: 100%|██████████| 8/8 [00:03<00:00,  2.65it/s]\n",
            "Val Loss: 1.1057: 100%|██████████| 4/4 [00:01<00:00,  2.37it/s]\n"
          ]
        },
        {
          "name": "stdout",
          "output_type": "stream",
          "text": [
            "Epoch 11 | Train Loss: 1.0613 | Train F1: 0.4613 | Val Loss: 1.0943 | Val F1: 0.4029\n"
          ]
        },
        {
          "name": "stderr",
          "output_type": "stream",
          "text": [
            "Loss: 0.8628: 100%|██████████| 8/8 [00:03<00:00,  2.64it/s]\n",
            "Val Loss: 1.0497: 100%|██████████| 4/4 [00:01<00:00,  2.54it/s]\n"
          ]
        },
        {
          "name": "stdout",
          "output_type": "stream",
          "text": [
            "Epoch 12 | Train Loss: 1.0461 | Train F1: 0.4776 | Val Loss: 1.0199 | Val F1: 0.5654\n"
          ]
        },
        {
          "name": "stderr",
          "output_type": "stream",
          "text": [
            "Loss: 0.9570: 100%|██████████| 8/8 [00:03<00:00,  2.64it/s]\n",
            "Val Loss: 1.0871: 100%|██████████| 4/4 [00:01<00:00,  2.48it/s]\n"
          ]
        },
        {
          "name": "stdout",
          "output_type": "stream",
          "text": [
            "Epoch 13 | Train Loss: 0.9261 | Train F1: 0.6250 | Val Loss: 0.9854 | Val F1: 0.5245\n"
          ]
        },
        {
          "name": "stderr",
          "output_type": "stream",
          "text": [
            "Loss: 1.1982: 100%|██████████| 8/8 [00:03<00:00,  2.59it/s]\n",
            "Val Loss: 1.1335: 100%|██████████| 4/4 [00:01<00:00,  2.46it/s]\n"
          ]
        },
        {
          "name": "stdout",
          "output_type": "stream",
          "text": [
            "Epoch 14 | Train Loss: 0.9855 | Train F1: 0.4830 | Val Loss: 1.0566 | Val F1: 0.5206\n"
          ]
        },
        {
          "name": "stderr",
          "output_type": "stream",
          "text": [
            "Loss: 1.1250: 100%|██████████| 8/8 [00:03<00:00,  2.64it/s]\n",
            "Val Loss: 1.0763: 100%|██████████| 4/4 [00:01<00:00,  2.47it/s]\n"
          ]
        },
        {
          "name": "stdout",
          "output_type": "stream",
          "text": [
            "Epoch 15 | Train Loss: 0.9984 | Train F1: 0.5694 | Val Loss: 1.0275 | Val F1: 0.5880\n"
          ]
        },
        {
          "name": "stderr",
          "output_type": "stream",
          "text": [
            "Loss: 0.5776: 100%|██████████| 8/8 [00:03<00:00,  2.65it/s]\n",
            "Val Loss: 0.8670: 100%|██████████| 4/4 [00:01<00:00,  2.49it/s]\n"
          ]
        },
        {
          "name": "stdout",
          "output_type": "stream",
          "text": [
            "Epoch 16 | Train Loss: 0.8766 | Train F1: 0.5102 | Val Loss: 0.9690 | Val F1: 0.6011\n"
          ]
        },
        {
          "name": "stderr",
          "output_type": "stream",
          "text": [
            "Loss: 0.7310: 100%|██████████| 8/8 [00:03<00:00,  2.67it/s]\n",
            "Val Loss: 0.8122: 100%|██████████| 4/4 [00:01<00:00,  2.60it/s]\n"
          ]
        },
        {
          "name": "stdout",
          "output_type": "stream",
          "text": [
            "Epoch 17 | Train Loss: 0.8499 | Train F1: 0.6028 | Val Loss: 0.9552 | Val F1: 0.6274\n"
          ]
        },
        {
          "name": "stderr",
          "output_type": "stream",
          "text": [
            "Loss: 0.7158: 100%|██████████| 8/8 [00:03<00:00,  2.60it/s]\n",
            "Val Loss: 0.7814: 100%|██████████| 4/4 [00:01<00:00,  2.57it/s]\n"
          ]
        },
        {
          "name": "stdout",
          "output_type": "stream",
          "text": [
            "Epoch 18 | Train Loss: 0.7943 | Train F1: 0.6434 | Val Loss: 0.9474 | Val F1: 0.5478\n"
          ]
        },
        {
          "name": "stderr",
          "output_type": "stream",
          "text": [
            "Loss: 0.3574: 100%|██████████| 8/8 [00:03<00:00,  2.65it/s]\n",
            "Val Loss: 1.0337: 100%|██████████| 4/4 [00:01<00:00,  2.47it/s]\n"
          ]
        },
        {
          "name": "stdout",
          "output_type": "stream",
          "text": [
            "Epoch 19 | Train Loss: 0.8004 | Train F1: 0.7100 | Val Loss: 1.0201 | Val F1: 0.5506\n"
          ]
        },
        {
          "name": "stderr",
          "output_type": "stream",
          "text": [
            "Loss: 0.8223: 100%|██████████| 8/8 [00:02<00:00,  2.70it/s]\n",
            "Val Loss: 0.9409: 100%|██████████| 4/4 [00:01<00:00,  2.49it/s]\n"
          ]
        },
        {
          "name": "stdout",
          "output_type": "stream",
          "text": [
            "Epoch 20 | Train Loss: 0.9410 | Train F1: 0.6351 | Val Loss: 0.9785 | Val F1: 0.6146\n"
          ]
        },
        {
          "name": "stderr",
          "output_type": "stream",
          "text": [
            "Loss: 0.7202: 100%|██████████| 8/8 [00:03<00:00,  2.61it/s]\n",
            "Val Loss: 0.9201: 100%|██████████| 4/4 [00:01<00:00,  2.44it/s]\n"
          ]
        },
        {
          "name": "stdout",
          "output_type": "stream",
          "text": [
            "Epoch 21 | Train Loss: 0.8337 | Train F1: 0.6703 | Val Loss: 0.9177 | Val F1: 0.6070\n"
          ]
        },
        {
          "name": "stderr",
          "output_type": "stream",
          "text": [
            "Loss: 1.0684: 100%|██████████| 8/8 [00:03<00:00,  2.66it/s]\n",
            "Val Loss: 0.7714: 100%|██████████| 4/4 [00:01<00:00,  2.52it/s]\n"
          ]
        },
        {
          "name": "stdout",
          "output_type": "stream",
          "text": [
            "Epoch 22 | Train Loss: 0.7931 | Train F1: 0.6746 | Val Loss: 0.8783 | Val F1: 0.6557\n"
          ]
        },
        {
          "name": "stderr",
          "output_type": "stream",
          "text": [
            "Loss: 1.3027: 100%|██████████| 8/8 [00:03<00:00,  2.63it/s]\n",
            "Val Loss: 0.7605: 100%|██████████| 4/4 [00:01<00:00,  2.57it/s]\n"
          ]
        },
        {
          "name": "stdout",
          "output_type": "stream",
          "text": [
            "Epoch 23 | Train Loss: 0.7698 | Train F1: 0.7467 | Val Loss: 0.8450 | Val F1: 0.6197\n"
          ]
        },
        {
          "name": "stderr",
          "output_type": "stream",
          "text": [
            "Loss: 0.7998: 100%|██████████| 8/8 [00:03<00:00,  2.62it/s]\n",
            "Val Loss: 0.7800: 100%|██████████| 4/4 [00:01<00:00,  2.53it/s]\n"
          ]
        },
        {
          "name": "stdout",
          "output_type": "stream",
          "text": [
            "Epoch 24 | Train Loss: 0.6995 | Train F1: 0.7599 | Val Loss: 0.8286 | Val F1: 0.6451\n"
          ]
        },
        {
          "name": "stderr",
          "output_type": "stream",
          "text": [
            "Loss: 0.7358: 100%|██████████| 8/8 [00:03<00:00,  2.65it/s]\n",
            "Val Loss: 0.7383: 100%|██████████| 4/4 [00:01<00:00,  2.56it/s]\n"
          ]
        },
        {
          "name": "stdout",
          "output_type": "stream",
          "text": [
            "Epoch 25 | Train Loss: 0.6661 | Train F1: 0.7327 | Val Loss: 0.8434 | Val F1: 0.6704\n"
          ]
        },
        {
          "name": "stderr",
          "output_type": "stream",
          "text": [
            "Loss: 0.6133: 100%|██████████| 8/8 [00:03<00:00,  2.63it/s]\n",
            "Val Loss: 0.6858: 100%|██████████| 4/4 [00:01<00:00,  2.42it/s]\n"
          ]
        },
        {
          "name": "stdout",
          "output_type": "stream",
          "text": [
            "Epoch 26 | Train Loss: 0.6582 | Train F1: 0.7438 | Val Loss: 0.8495 | Val F1: 0.6786\n"
          ]
        },
        {
          "name": "stderr",
          "output_type": "stream",
          "text": [
            "Loss: 0.3813: 100%|██████████| 8/8 [00:03<00:00,  2.61it/s]\n",
            "Val Loss: 0.7716: 100%|██████████| 4/4 [00:01<00:00,  2.48it/s]\n"
          ]
        },
        {
          "name": "stdout",
          "output_type": "stream",
          "text": [
            "Epoch 27 | Train Loss: 0.6301 | Train F1: 0.7990 | Val Loss: 0.8507 | Val F1: 0.7097\n"
          ]
        },
        {
          "name": "stderr",
          "output_type": "stream",
          "text": [
            "Loss: 0.5469: 100%|██████████| 8/8 [00:03<00:00,  2.61it/s]\n",
            "Val Loss: 0.7299: 100%|██████████| 4/4 [00:01<00:00,  2.45it/s]\n"
          ]
        },
        {
          "name": "stdout",
          "output_type": "stream",
          "text": [
            "Epoch 28 | Train Loss: 0.6386 | Train F1: 0.8173 | Val Loss: 0.8843 | Val F1: 0.6983\n"
          ]
        },
        {
          "name": "stderr",
          "output_type": "stream",
          "text": [
            "Loss: 1.4111: 100%|██████████| 8/8 [00:03<00:00,  2.63it/s]\n",
            "Val Loss: 0.8364: 100%|██████████| 4/4 [00:01<00:00,  2.43it/s]\n"
          ]
        },
        {
          "name": "stdout",
          "output_type": "stream",
          "text": [
            "Epoch 29 | Train Loss: 0.8406 | Train F1: 0.6872 | Val Loss: 0.8583 | Val F1: 0.6950\n"
          ]
        },
        {
          "name": "stderr",
          "output_type": "stream",
          "text": [
            "Loss: 0.3159: 100%|██████████| 8/8 [00:02<00:00,  2.69it/s]\n",
            "Val Loss: 0.7897: 100%|██████████| 4/4 [00:01<00:00,  2.56it/s]\n"
          ]
        },
        {
          "name": "stdout",
          "output_type": "stream",
          "text": [
            "Epoch 30 | Train Loss: 0.5732 | Train F1: 0.7894 | Val Loss: 0.8535 | Val F1: 0.6543\n"
          ]
        },
        {
          "name": "stderr",
          "output_type": "stream",
          "text": [
            "Loss: 0.5820: 100%|██████████| 8/8 [00:03<00:00,  2.65it/s]\n",
            "Val Loss: 0.6755: 100%|██████████| 4/4 [00:01<00:00,  2.56it/s]\n"
          ]
        },
        {
          "name": "stdout",
          "output_type": "stream",
          "text": [
            "Epoch 31 | Train Loss: 0.5778 | Train F1: 0.7997 | Val Loss: 0.7869 | Val F1: 0.7299\n"
          ]
        },
        {
          "name": "stderr",
          "output_type": "stream",
          "text": [
            "Loss: 0.4290: 100%|██████████| 8/8 [00:03<00:00,  2.66it/s]\n",
            "Val Loss: 0.6883: 100%|██████████| 4/4 [00:01<00:00,  2.53it/s]\n"
          ]
        },
        {
          "name": "stdout",
          "output_type": "stream",
          "text": [
            "Epoch 32 | Train Loss: 0.6245 | Train F1: 0.7680 | Val Loss: 0.8412 | Val F1: 0.6769\n"
          ]
        },
        {
          "name": "stderr",
          "output_type": "stream",
          "text": [
            "Loss: 1.5205: 100%|██████████| 8/8 [00:03<00:00,  2.61it/s]\n",
            "Val Loss: 0.6907: 100%|██████████| 4/4 [00:01<00:00,  2.55it/s]\n"
          ]
        },
        {
          "name": "stdout",
          "output_type": "stream",
          "text": [
            "Epoch 33 | Train Loss: 0.8217 | Train F1: 0.7007 | Val Loss: 0.8874 | Val F1: 0.6767\n"
          ]
        },
        {
          "name": "stderr",
          "output_type": "stream",
          "text": [
            "Loss: 1.5127: 100%|██████████| 8/8 [00:03<00:00,  2.64it/s]\n",
            "Val Loss: 0.7412: 100%|██████████| 4/4 [00:01<00:00,  2.47it/s]\n"
          ]
        },
        {
          "name": "stdout",
          "output_type": "stream",
          "text": [
            "Epoch 34 | Train Loss: 0.6442 | Train F1: 0.8890 | Val Loss: 0.8591 | Val F1: 0.6093\n"
          ]
        },
        {
          "name": "stderr",
          "output_type": "stream",
          "text": [
            "Loss: 0.3374: 100%|██████████| 8/8 [00:03<00:00,  2.64it/s]\n",
            "Val Loss: 0.6722: 100%|██████████| 4/4 [00:01<00:00,  2.50it/s]\n"
          ]
        },
        {
          "name": "stdout",
          "output_type": "stream",
          "text": [
            "Epoch 35 | Train Loss: 0.6197 | Train F1: 0.7030 | Val Loss: 0.8649 | Val F1: 0.6371\n"
          ]
        },
        {
          "name": "stderr",
          "output_type": "stream",
          "text": [
            "Loss: 0.7363: 100%|██████████| 8/8 [00:02<00:00,  2.67it/s]\n",
            "Val Loss: 0.7988: 100%|██████████| 4/4 [00:01<00:00,  2.43it/s]\n"
          ]
        },
        {
          "name": "stdout",
          "output_type": "stream",
          "text": [
            "Epoch 36 | Train Loss: 0.5742 | Train F1: 0.7994 | Val Loss: 0.8878 | Val F1: 0.6434\n"
          ]
        },
        {
          "name": "stderr",
          "output_type": "stream",
          "text": [
            "Loss: 0.6699: 100%|██████████| 8/8 [00:03<00:00,  2.65it/s]\n",
            "Val Loss: 0.6620: 100%|██████████| 4/4 [00:01<00:00,  2.50it/s]\n"
          ]
        },
        {
          "name": "stdout",
          "output_type": "stream",
          "text": [
            "Epoch 37 | Train Loss: 0.5805 | Train F1: 0.7407 | Val Loss: 0.8193 | Val F1: 0.6529\n"
          ]
        },
        {
          "name": "stderr",
          "output_type": "stream",
          "text": [
            "Loss: 0.4460: 100%|██████████| 8/8 [00:03<00:00,  2.63it/s]\n",
            "Val Loss: 0.7917: 100%|██████████| 4/4 [00:01<00:00,  2.49it/s]\n"
          ]
        },
        {
          "name": "stdout",
          "output_type": "stream",
          "text": [
            "Epoch 38 | Train Loss: 0.5852 | Train F1: 0.7675 | Val Loss: 0.8343 | Val F1: 0.6930\n"
          ]
        },
        {
          "name": "stderr",
          "output_type": "stream",
          "text": [
            "Loss: 0.8936: 100%|██████████| 8/8 [00:03<00:00,  2.66it/s]\n",
            "Val Loss: 0.8186: 100%|██████████| 4/4 [00:01<00:00,  2.50it/s]\n"
          ]
        },
        {
          "name": "stdout",
          "output_type": "stream",
          "text": [
            "Epoch 39 | Train Loss: 0.5336 | Train F1: 0.9072 | Val Loss: 0.8199 | Val F1: 0.6855\n"
          ]
        },
        {
          "name": "stderr",
          "output_type": "stream",
          "text": [
            "Loss: 0.3796: 100%|██████████| 8/8 [00:03<00:00,  2.59it/s]\n",
            "Val Loss: 0.6651: 100%|██████████| 4/4 [00:01<00:00,  2.48it/s]\n"
          ]
        },
        {
          "name": "stdout",
          "output_type": "stream",
          "text": [
            "Epoch 40 | Train Loss: 0.5971 | Train F1: 0.6863 | Val Loss: 0.8122 | Val F1: 0.7088\n"
          ]
        },
        {
          "name": "stderr",
          "output_type": "stream",
          "text": [
            "Loss: 0.3027: 100%|██████████| 8/8 [00:03<00:00,  2.60it/s]\n",
            "Val Loss: 0.7338: 100%|██████████| 4/4 [00:01<00:00,  2.34it/s]\n"
          ]
        },
        {
          "name": "stdout",
          "output_type": "stream",
          "text": [
            "Epoch 41 | Train Loss: 0.4496 | Train F1: 0.8417 | Val Loss: 0.8691 | Val F1: 0.6759\n"
          ]
        },
        {
          "name": "stderr",
          "output_type": "stream",
          "text": [
            "Loss: 0.3523: 100%|██████████| 8/8 [00:03<00:00,  2.57it/s]\n",
            "Val Loss: 0.6721: 100%|██████████| 4/4 [00:01<00:00,  2.45it/s]\n"
          ]
        },
        {
          "name": "stdout",
          "output_type": "stream",
          "text": [
            "Epoch 42 | Train Loss: 0.5096 | Train F1: 0.8141 | Val Loss: 0.8968 | Val F1: 0.6423\n"
          ]
        },
        {
          "name": "stderr",
          "output_type": "stream",
          "text": [
            "Loss: 0.7178: 100%|██████████| 8/8 [00:03<00:00,  2.64it/s]\n",
            "Val Loss: 0.8122: 100%|██████████| 4/4 [00:01<00:00,  2.44it/s]\n"
          ]
        },
        {
          "name": "stdout",
          "output_type": "stream",
          "text": [
            "Epoch 43 | Train Loss: 0.6183 | Train F1: 0.7686 | Val Loss: 0.8741 | Val F1: 0.6411\n"
          ]
        },
        {
          "name": "stderr",
          "output_type": "stream",
          "text": [
            "Loss: 0.3560: 100%|██████████| 8/8 [00:02<00:00,  2.68it/s]\n",
            "Val Loss: 0.7099: 100%|██████████| 4/4 [00:01<00:00,  2.50it/s]\n"
          ]
        },
        {
          "name": "stdout",
          "output_type": "stream",
          "text": [
            "Epoch 44 | Train Loss: 0.4617 | Train F1: 0.8504 | Val Loss: 0.8728 | Val F1: 0.7103\n"
          ]
        },
        {
          "name": "stderr",
          "output_type": "stream",
          "text": [
            "Loss: 0.3000: 100%|██████████| 8/8 [00:03<00:00,  2.66it/s]\n",
            "Val Loss: 0.8057: 100%|██████████| 4/4 [00:01<00:00,  2.44it/s]\n"
          ]
        },
        {
          "name": "stdout",
          "output_type": "stream",
          "text": [
            "Epoch 45 | Train Loss: 0.5246 | Train F1: 0.6115 | Val Loss: 0.9050 | Val F1: 0.6678\n"
          ]
        },
        {
          "name": "stderr",
          "output_type": "stream",
          "text": [
            "Loss: 0.4956: 100%|██████████| 8/8 [00:03<00:00,  2.64it/s]\n",
            "Val Loss: 0.6458: 100%|██████████| 4/4 [00:01<00:00,  2.47it/s]\n"
          ]
        },
        {
          "name": "stdout",
          "output_type": "stream",
          "text": [
            "Epoch 46 | Train Loss: 0.4547 | Train F1: 0.7968 | Val Loss: 0.8045 | Val F1: 0.7157\n"
          ]
        },
        {
          "name": "stderr",
          "output_type": "stream",
          "text": [
            "Loss: 0.6631: 100%|██████████| 8/8 [00:03<00:00,  2.63it/s]\n",
            "Val Loss: 0.6880: 100%|██████████| 4/4 [00:01<00:00,  2.51it/s]\n"
          ]
        },
        {
          "name": "stdout",
          "output_type": "stream",
          "text": [
            "Epoch 47 | Train Loss: 0.4828 | Train F1: 0.7919 | Val Loss: 0.7968 | Val F1: 0.6999\n"
          ]
        },
        {
          "name": "stderr",
          "output_type": "stream",
          "text": [
            "Loss: 0.3599: 100%|██████████| 8/8 [00:03<00:00,  2.62it/s]\n",
            "Val Loss: 0.7301: 100%|██████████| 4/4 [00:01<00:00,  2.47it/s]\n"
          ]
        },
        {
          "name": "stdout",
          "output_type": "stream",
          "text": [
            "Epoch 48 | Train Loss: 0.4482 | Train F1: 0.8920 | Val Loss: 0.8166 | Val F1: 0.6925\n"
          ]
        },
        {
          "name": "stderr",
          "output_type": "stream",
          "text": [
            "Loss: 0.2202: 100%|██████████| 8/8 [00:02<00:00,  2.67it/s]\n",
            "Val Loss: 0.6345: 100%|██████████| 4/4 [00:01<00:00,  2.52it/s]\n"
          ]
        },
        {
          "name": "stdout",
          "output_type": "stream",
          "text": [
            "Epoch 49 | Train Loss: 0.5504 | Train F1: 0.8652 | Val Loss: 0.8051 | Val F1: 0.7041\n"
          ]
        },
        {
          "name": "stderr",
          "output_type": "stream",
          "text": [
            "Loss: 0.3682: 100%|██████████| 8/8 [00:03<00:00,  2.61it/s]\n",
            "Val Loss: 0.8106: 100%|██████████| 4/4 [00:01<00:00,  2.49it/s]\n"
          ]
        },
        {
          "name": "stdout",
          "output_type": "stream",
          "text": [
            "Epoch 50 | Train Loss: 0.4969 | Train F1: 0.9267 | Val Loss: 0.8302 | Val F1: 0.6659\n",
            "Subset Fold 1 Best Validation F1: 0.7299\n",
            "\n",
            "==================================================\n",
            "SUBSET FOLD 2/3\n",
            "==================================================\n",
            "Train samples: 233, Validation samples: 117\n"
          ]
        },
        {
          "name": "stderr",
          "output_type": "stream",
          "text": [
            "Loss: 1.5000: 100%|██████████| 8/8 [00:02<00:00,  2.67it/s]\n",
            "Val Loss: 1.5000: 100%|██████████| 4/4 [00:01<00:00,  2.39it/s]\n"
          ]
        },
        {
          "name": "stdout",
          "output_type": "stream",
          "text": [
            "Epoch  1 | Train Loss: 1.4764 | Train F1: 0.2149 | Val Loss: 1.5097 | Val F1: 0.1952\n"
          ]
        },
        {
          "name": "stderr",
          "output_type": "stream",
          "text": [
            "Loss: 1.3047: 100%|██████████| 8/8 [00:02<00:00,  2.69it/s]\n",
            "Val Loss: 1.3262: 100%|██████████| 4/4 [00:01<00:00,  2.42it/s]\n"
          ]
        },
        {
          "name": "stdout",
          "output_type": "stream",
          "text": [
            "Epoch  2 | Train Loss: 1.5105 | Train F1: 0.1713 | Val Loss: 1.3371 | Val F1: 0.2763\n"
          ]
        },
        {
          "name": "stderr",
          "output_type": "stream",
          "text": [
            "Loss: 1.5107: 100%|██████████| 8/8 [00:03<00:00,  2.66it/s]\n",
            "Val Loss: 1.3654: 100%|██████████| 4/4 [00:01<00:00,  2.54it/s]\n"
          ]
        },
        {
          "name": "stdout",
          "output_type": "stream",
          "text": [
            "Epoch  3 | Train Loss: 1.3871 | Train F1: 0.2297 | Val Loss: 1.3363 | Val F1: 0.2925\n"
          ]
        },
        {
          "name": "stderr",
          "output_type": "stream",
          "text": [
            "Loss: 1.4385: 100%|██████████| 8/8 [00:03<00:00,  2.63it/s]\n",
            "Val Loss: 1.2454: 100%|██████████| 4/4 [00:01<00:00,  2.54it/s]\n"
          ]
        },
        {
          "name": "stdout",
          "output_type": "stream",
          "text": [
            "Epoch  4 | Train Loss: 1.3101 | Train F1: 0.3107 | Val Loss: 1.2859 | Val F1: 0.2599\n"
          ]
        },
        {
          "name": "stderr",
          "output_type": "stream",
          "text": [
            "Loss: 1.2109: 100%|██████████| 8/8 [00:03<00:00,  2.64it/s]\n",
            "Val Loss: 1.2697: 100%|██████████| 4/4 [00:01<00:00,  2.54it/s]\n"
          ]
        },
        {
          "name": "stdout",
          "output_type": "stream",
          "text": [
            "Epoch  5 | Train Loss: 1.2866 | Train F1: 0.3269 | Val Loss: 1.2421 | Val F1: 0.3894\n"
          ]
        },
        {
          "name": "stderr",
          "output_type": "stream",
          "text": [
            "Loss: 1.1270: 100%|██████████| 8/8 [00:03<00:00,  2.65it/s]\n",
            "Val Loss: 1.3230: 100%|██████████| 4/4 [00:01<00:00,  2.47it/s]\n"
          ]
        },
        {
          "name": "stdout",
          "output_type": "stream",
          "text": [
            "Epoch  6 | Train Loss: 1.1859 | Train F1: 0.3237 | Val Loss: 1.2568 | Val F1: 0.3365\n"
          ]
        },
        {
          "name": "stderr",
          "output_type": "stream",
          "text": [
            "Loss: 1.2197: 100%|██████████| 8/8 [00:03<00:00,  2.63it/s]\n",
            "Val Loss: 1.1664: 100%|██████████| 4/4 [00:01<00:00,  2.54it/s]\n"
          ]
        },
        {
          "name": "stdout",
          "output_type": "stream",
          "text": [
            "Epoch  7 | Train Loss: 1.2023 | Train F1: 0.3770 | Val Loss: 1.1636 | Val F1: 0.4444\n"
          ]
        },
        {
          "name": "stderr",
          "output_type": "stream",
          "text": [
            "Loss: 0.9697: 100%|██████████| 8/8 [00:03<00:00,  2.64it/s]\n",
            "Val Loss: 1.1563: 100%|██████████| 4/4 [00:01<00:00,  2.50it/s]\n"
          ]
        },
        {
          "name": "stdout",
          "output_type": "stream",
          "text": [
            "Epoch  8 | Train Loss: 1.1705 | Train F1: 0.4132 | Val Loss: 1.1736 | Val F1: 0.3909\n"
          ]
        },
        {
          "name": "stderr",
          "output_type": "stream",
          "text": [
            "Loss: 1.0439: 100%|██████████| 8/8 [00:03<00:00,  2.66it/s]\n",
            "Val Loss: 1.1989: 100%|██████████| 4/4 [00:01<00:00,  2.48it/s]\n"
          ]
        },
        {
          "name": "stdout",
          "output_type": "stream",
          "text": [
            "Epoch  9 | Train Loss: 1.1399 | Train F1: 0.4063 | Val Loss: 1.1221 | Val F1: 0.4158\n"
          ]
        },
        {
          "name": "stderr",
          "output_type": "stream",
          "text": [
            "Loss: 1.0518: 100%|██████████| 8/8 [00:03<00:00,  2.61it/s]\n",
            "Val Loss: 1.1698: 100%|██████████| 4/4 [00:01<00:00,  2.41it/s]\n"
          ]
        },
        {
          "name": "stdout",
          "output_type": "stream",
          "text": [
            "Epoch 10 | Train Loss: 1.0571 | Train F1: 0.5062 | Val Loss: 1.0900 | Val F1: 0.4248\n"
          ]
        },
        {
          "name": "stderr",
          "output_type": "stream",
          "text": [
            "Loss: 1.1279: 100%|██████████| 8/8 [00:02<00:00,  2.68it/s]\n",
            "Val Loss: 1.2278: 100%|██████████| 4/4 [00:01<00:00,  2.44it/s]\n"
          ]
        },
        {
          "name": "stdout",
          "output_type": "stream",
          "text": [
            "Epoch 11 | Train Loss: 1.0529 | Train F1: 0.5450 | Val Loss: 1.0817 | Val F1: 0.4566\n"
          ]
        },
        {
          "name": "stderr",
          "output_type": "stream",
          "text": [
            "Loss: 1.0791: 100%|██████████| 8/8 [00:03<00:00,  2.64it/s]\n",
            "Val Loss: 1.1685: 100%|██████████| 4/4 [00:01<00:00,  2.43it/s]\n"
          ]
        },
        {
          "name": "stdout",
          "output_type": "stream",
          "text": [
            "Epoch 12 | Train Loss: 1.0146 | Train F1: 0.4861 | Val Loss: 1.1588 | Val F1: 0.3944\n"
          ]
        },
        {
          "name": "stderr",
          "output_type": "stream",
          "text": [
            "Loss: 0.8662: 100%|██████████| 8/8 [00:03<00:00,  2.57it/s]\n",
            "Val Loss: 1.3067: 100%|██████████| 4/4 [00:01<00:00,  2.44it/s]\n"
          ]
        },
        {
          "name": "stdout",
          "output_type": "stream",
          "text": [
            "Epoch 13 | Train Loss: 1.0278 | Train F1: 0.5085 | Val Loss: 1.2021 | Val F1: 0.3866\n"
          ]
        },
        {
          "name": "stderr",
          "output_type": "stream",
          "text": [
            "Loss: 0.6948: 100%|██████████| 8/8 [00:03<00:00,  2.63it/s]\n",
            "Val Loss: 1.0426: 100%|██████████| 4/4 [00:01<00:00,  2.42it/s]\n"
          ]
        },
        {
          "name": "stdout",
          "output_type": "stream",
          "text": [
            "Epoch 14 | Train Loss: 1.0428 | Train F1: 0.4224 | Val Loss: 1.0578 | Val F1: 0.5650\n"
          ]
        },
        {
          "name": "stderr",
          "output_type": "stream",
          "text": [
            "Loss: 1.1133: 100%|██████████| 8/8 [00:03<00:00,  2.62it/s]\n",
            "Val Loss: 1.1964: 100%|██████████| 4/4 [00:01<00:00,  2.51it/s]\n"
          ]
        },
        {
          "name": "stdout",
          "output_type": "stream",
          "text": [
            "Epoch 15 | Train Loss: 1.0798 | Train F1: 0.4710 | Val Loss: 1.0834 | Val F1: 0.3924\n"
          ]
        },
        {
          "name": "stderr",
          "output_type": "stream",
          "text": [
            "Loss: 1.3379: 100%|██████████| 8/8 [00:03<00:00,  2.64it/s]\n",
            "Val Loss: 1.0419: 100%|██████████| 4/4 [00:01<00:00,  2.48it/s]\n"
          ]
        },
        {
          "name": "stdout",
          "output_type": "stream",
          "text": [
            "Epoch 16 | Train Loss: 0.9101 | Train F1: 0.6415 | Val Loss: 1.0521 | Val F1: 0.5116\n"
          ]
        },
        {
          "name": "stderr",
          "output_type": "stream",
          "text": [
            "Loss: 0.6729: 100%|██████████| 8/8 [00:03<00:00,  2.65it/s]\n",
            "Val Loss: 0.9581: 100%|██████████| 4/4 [00:01<00:00,  2.49it/s]\n"
          ]
        },
        {
          "name": "stdout",
          "output_type": "stream",
          "text": [
            "Epoch 17 | Train Loss: 0.9689 | Train F1: 0.6297 | Val Loss: 0.9635 | Val F1: 0.5270\n"
          ]
        },
        {
          "name": "stderr",
          "output_type": "stream",
          "text": [
            "Loss: 0.7778: 100%|██████████| 8/8 [00:03<00:00,  2.62it/s]\n",
            "Val Loss: 0.9106: 100%|██████████| 4/4 [00:01<00:00,  2.51it/s]\n"
          ]
        },
        {
          "name": "stdout",
          "output_type": "stream",
          "text": [
            "Epoch 18 | Train Loss: 0.8455 | Train F1: 0.5844 | Val Loss: 0.9479 | Val F1: 0.5374\n"
          ]
        },
        {
          "name": "stderr",
          "output_type": "stream",
          "text": [
            "Loss: 0.5908: 100%|██████████| 8/8 [00:03<00:00,  2.61it/s]\n",
            "Val Loss: 0.9694: 100%|██████████| 4/4 [00:01<00:00,  2.49it/s]\n"
          ]
        },
        {
          "name": "stdout",
          "output_type": "stream",
          "text": [
            "Epoch 19 | Train Loss: 0.7900 | Train F1: 0.7483 | Val Loss: 0.9911 | Val F1: 0.5044\n"
          ]
        },
        {
          "name": "stderr",
          "output_type": "stream",
          "text": [
            "Loss: 0.8130: 100%|██████████| 8/8 [00:03<00:00,  2.59it/s]\n",
            "Val Loss: 0.8820: 100%|██████████| 4/4 [00:01<00:00,  2.49it/s]\n"
          ]
        },
        {
          "name": "stdout",
          "output_type": "stream",
          "text": [
            "Epoch 20 | Train Loss: 0.8414 | Train F1: 0.6779 | Val Loss: 0.9245 | Val F1: 0.6210\n"
          ]
        },
        {
          "name": "stderr",
          "output_type": "stream",
          "text": [
            "Loss: 0.8721: 100%|██████████| 8/8 [00:03<00:00,  2.61it/s]\n",
            "Val Loss: 0.9993: 100%|██████████| 4/4 [00:01<00:00,  2.53it/s]\n"
          ]
        },
        {
          "name": "stdout",
          "output_type": "stream",
          "text": [
            "Epoch 21 | Train Loss: 0.7372 | Train F1: 0.7560 | Val Loss: 0.9348 | Val F1: 0.5653\n"
          ]
        },
        {
          "name": "stderr",
          "output_type": "stream",
          "text": [
            "Loss: 0.3271: 100%|██████████| 8/8 [00:03<00:00,  2.66it/s]\n",
            "Val Loss: 0.8787: 100%|██████████| 4/4 [00:01<00:00,  2.57it/s]\n"
          ]
        },
        {
          "name": "stdout",
          "output_type": "stream",
          "text": [
            "Epoch 22 | Train Loss: 0.7122 | Train F1: 0.6914 | Val Loss: 0.8981 | Val F1: 0.6343\n"
          ]
        },
        {
          "name": "stderr",
          "output_type": "stream",
          "text": [
            "Loss: 0.9482: 100%|██████████| 8/8 [00:03<00:00,  2.58it/s]\n",
            "Val Loss: 0.8669: 100%|██████████| 4/4 [00:01<00:00,  2.55it/s]\n"
          ]
        },
        {
          "name": "stdout",
          "output_type": "stream",
          "text": [
            "Epoch 23 | Train Loss: 0.7542 | Train F1: 0.6863 | Val Loss: 0.8939 | Val F1: 0.6432\n"
          ]
        },
        {
          "name": "stderr",
          "output_type": "stream",
          "text": [
            "Loss: 1.3652: 100%|██████████| 8/8 [00:03<00:00,  2.62it/s]\n",
            "Val Loss: 0.8409: 100%|██████████| 4/4 [00:01<00:00,  2.49it/s]\n"
          ]
        },
        {
          "name": "stdout",
          "output_type": "stream",
          "text": [
            "Epoch 24 | Train Loss: 0.7829 | Train F1: 0.8106 | Val Loss: 0.9502 | Val F1: 0.6179\n"
          ]
        },
        {
          "name": "stderr",
          "output_type": "stream",
          "text": [
            "Loss: 0.6494: 100%|██████████| 8/8 [00:03<00:00,  2.66it/s]\n",
            "Val Loss: 0.8175: 100%|██████████| 4/4 [00:01<00:00,  2.41it/s]\n"
          ]
        },
        {
          "name": "stdout",
          "output_type": "stream",
          "text": [
            "Epoch 25 | Train Loss: 0.7410 | Train F1: 0.6245 | Val Loss: 0.9006 | Val F1: 0.5938\n"
          ]
        },
        {
          "name": "stderr",
          "output_type": "stream",
          "text": [
            "Loss: 0.6450: 100%|██████████| 8/8 [00:02<00:00,  2.67it/s]\n",
            "Val Loss: 0.9346: 100%|██████████| 4/4 [00:01<00:00,  2.51it/s]\n"
          ]
        },
        {
          "name": "stdout",
          "output_type": "stream",
          "text": [
            "Epoch 26 | Train Loss: 0.6703 | Train F1: 0.7032 | Val Loss: 0.9325 | Val F1: 0.6421\n"
          ]
        },
        {
          "name": "stderr",
          "output_type": "stream",
          "text": [
            "Loss: 0.5566: 100%|██████████| 8/8 [00:03<00:00,  2.62it/s]\n",
            "Val Loss: 0.8932: 100%|██████████| 4/4 [00:01<00:00,  2.38it/s]\n"
          ]
        },
        {
          "name": "stdout",
          "output_type": "stream",
          "text": [
            "Epoch 27 | Train Loss: 0.6849 | Train F1: 0.6753 | Val Loss: 0.9303 | Val F1: 0.6328\n"
          ]
        },
        {
          "name": "stderr",
          "output_type": "stream",
          "text": [
            "Loss: 0.9043: 100%|██████████| 8/8 [00:03<00:00,  2.66it/s]\n",
            "Val Loss: 0.8718: 100%|██████████| 4/4 [00:01<00:00,  2.39it/s]\n"
          ]
        },
        {
          "name": "stdout",
          "output_type": "stream",
          "text": [
            "Epoch 28 | Train Loss: 0.9398 | Train F1: 0.6536 | Val Loss: 0.8954 | Val F1: 0.6140\n"
          ]
        },
        {
          "name": "stderr",
          "output_type": "stream",
          "text": [
            "Loss: 0.6162: 100%|██████████| 8/8 [00:03<00:00,  2.63it/s]\n",
            "Val Loss: 0.8175: 100%|██████████| 4/4 [00:01<00:00,  2.44it/s]\n"
          ]
        },
        {
          "name": "stdout",
          "output_type": "stream",
          "text": [
            "Epoch 29 | Train Loss: 0.7091 | Train F1: 0.6725 | Val Loss: 0.8854 | Val F1: 0.6485\n"
          ]
        },
        {
          "name": "stderr",
          "output_type": "stream",
          "text": [
            "Loss: 0.8770: 100%|██████████| 8/8 [00:03<00:00,  2.64it/s]\n",
            "Val Loss: 0.8973: 100%|██████████| 4/4 [00:01<00:00,  2.48it/s]\n"
          ]
        },
        {
          "name": "stdout",
          "output_type": "stream",
          "text": [
            "Epoch 30 | Train Loss: 0.8769 | Train F1: 0.4474 | Val Loss: 0.9276 | Val F1: 0.6171\n"
          ]
        },
        {
          "name": "stderr",
          "output_type": "stream",
          "text": [
            "Loss: 0.6743: 100%|██████████| 8/8 [00:03<00:00,  2.63it/s]\n",
            "Val Loss: 0.8856: 100%|██████████| 4/4 [00:01<00:00,  2.54it/s]\n"
          ]
        },
        {
          "name": "stdout",
          "output_type": "stream",
          "text": [
            "Epoch 31 | Train Loss: 0.6617 | Train F1: 0.7018 | Val Loss: 0.9115 | Val F1: 0.5700\n"
          ]
        },
        {
          "name": "stderr",
          "output_type": "stream",
          "text": [
            "Loss: 0.6792: 100%|██████████| 8/8 [00:02<00:00,  2.69it/s]\n",
            "Val Loss: 0.8792: 100%|██████████| 4/4 [00:01<00:00,  2.46it/s]\n"
          ]
        },
        {
          "name": "stdout",
          "output_type": "stream",
          "text": [
            "Epoch 32 | Train Loss: 0.5816 | Train F1: 0.7723 | Val Loss: 0.8955 | Val F1: 0.6475\n"
          ]
        },
        {
          "name": "stderr",
          "output_type": "stream",
          "text": [
            "Loss: 0.5020: 100%|██████████| 8/8 [00:02<00:00,  2.68it/s]\n",
            "Val Loss: 0.9105: 100%|██████████| 4/4 [00:01<00:00,  2.41it/s]\n"
          ]
        },
        {
          "name": "stdout",
          "output_type": "stream",
          "text": [
            "Epoch 33 | Train Loss: 0.6852 | Train F1: 0.7500 | Val Loss: 0.9457 | Val F1: 0.6431\n"
          ]
        },
        {
          "name": "stderr",
          "output_type": "stream",
          "text": [
            "Loss: 0.3389: 100%|██████████| 8/8 [00:03<00:00,  2.64it/s]\n",
            "Val Loss: 0.8287: 100%|██████████| 4/4 [00:01<00:00,  2.44it/s]\n"
          ]
        },
        {
          "name": "stdout",
          "output_type": "stream",
          "text": [
            "Epoch 34 | Train Loss: 0.5797 | Train F1: 0.8292 | Val Loss: 0.8644 | Val F1: 0.6851\n"
          ]
        },
        {
          "name": "stderr",
          "output_type": "stream",
          "text": [
            "Loss: 1.2783: 100%|██████████| 8/8 [00:03<00:00,  2.65it/s]\n",
            "Val Loss: 0.8350: 100%|██████████| 4/4 [00:01<00:00,  2.49it/s]\n"
          ]
        },
        {
          "name": "stdout",
          "output_type": "stream",
          "text": [
            "Epoch 35 | Train Loss: 0.6888 | Train F1: 0.7861 | Val Loss: 0.9041 | Val F1: 0.6367\n"
          ]
        },
        {
          "name": "stderr",
          "output_type": "stream",
          "text": [
            "Loss: 0.5464: 100%|██████████| 8/8 [00:02<00:00,  2.69it/s]\n",
            "Val Loss: 0.8785: 100%|██████████| 4/4 [00:01<00:00,  2.40it/s]\n"
          ]
        },
        {
          "name": "stdout",
          "output_type": "stream",
          "text": [
            "Epoch 36 | Train Loss: 0.7445 | Train F1: 0.5810 | Val Loss: 0.9119 | Val F1: 0.6063\n"
          ]
        },
        {
          "name": "stderr",
          "output_type": "stream",
          "text": [
            "Loss: 0.4751: 100%|██████████| 8/8 [00:03<00:00,  2.61it/s]\n",
            "Val Loss: 0.8996: 100%|██████████| 4/4 [00:01<00:00,  2.45it/s]\n"
          ]
        },
        {
          "name": "stdout",
          "output_type": "stream",
          "text": [
            "Epoch 37 | Train Loss: 0.5772 | Train F1: 0.8284 | Val Loss: 0.8794 | Val F1: 0.6579\n"
          ]
        },
        {
          "name": "stderr",
          "output_type": "stream",
          "text": [
            "Loss: 0.6328: 100%|██████████| 8/8 [00:03<00:00,  2.66it/s]\n",
            "Val Loss: 0.7711: 100%|██████████| 4/4 [00:01<00:00,  2.50it/s]\n"
          ]
        },
        {
          "name": "stdout",
          "output_type": "stream",
          "text": [
            "Epoch 38 | Train Loss: 0.4939 | Train F1: 0.8643 | Val Loss: 0.8855 | Val F1: 0.6433\n"
          ]
        },
        {
          "name": "stderr",
          "output_type": "stream",
          "text": [
            "Loss: 0.3118: 100%|██████████| 8/8 [00:03<00:00,  2.60it/s]\n",
            "Val Loss: 0.8342: 100%|██████████| 4/4 [00:01<00:00,  2.48it/s]\n"
          ]
        },
        {
          "name": "stdout",
          "output_type": "stream",
          "text": [
            "Epoch 39 | Train Loss: 0.6733 | Train F1: 0.7723 | Val Loss: 0.8604 | Val F1: 0.6317\n"
          ]
        },
        {
          "name": "stderr",
          "output_type": "stream",
          "text": [
            "Loss: 0.9048: 100%|██████████| 8/8 [00:03<00:00,  2.61it/s]\n",
            "Val Loss: 0.8147: 100%|██████████| 4/4 [00:01<00:00,  2.58it/s]\n"
          ]
        },
        {
          "name": "stdout",
          "output_type": "stream",
          "text": [
            "Epoch 40 | Train Loss: 0.7027 | Train F1: 0.7708 | Val Loss: 0.8710 | Val F1: 0.6323\n"
          ]
        },
        {
          "name": "stderr",
          "output_type": "stream",
          "text": [
            "Loss: 1.0859: 100%|██████████| 8/8 [00:03<00:00,  2.61it/s]\n",
            "Val Loss: 0.9265: 100%|██████████| 4/4 [00:01<00:00,  2.47it/s]\n"
          ]
        },
        {
          "name": "stdout",
          "output_type": "stream",
          "text": [
            "Epoch 41 | Train Loss: 0.5813 | Train F1: 0.8124 | Val Loss: 0.9123 | Val F1: 0.6823\n"
          ]
        },
        {
          "name": "stderr",
          "output_type": "stream",
          "text": [
            "Loss: 0.4314: 100%|██████████| 8/8 [00:03<00:00,  2.63it/s]\n",
            "Val Loss: 0.8832: 100%|██████████| 4/4 [00:01<00:00,  2.45it/s]\n"
          ]
        },
        {
          "name": "stdout",
          "output_type": "stream",
          "text": [
            "Epoch 42 | Train Loss: 0.5462 | Train F1: 0.8107 | Val Loss: 0.8725 | Val F1: 0.6868\n"
          ]
        },
        {
          "name": "stderr",
          "output_type": "stream",
          "text": [
            "Loss: 0.5894: 100%|██████████| 8/8 [00:02<00:00,  2.67it/s]\n",
            "Val Loss: 0.7973: 100%|██████████| 4/4 [00:01<00:00,  2.52it/s]\n"
          ]
        },
        {
          "name": "stdout",
          "output_type": "stream",
          "text": [
            "Epoch 43 | Train Loss: 0.5104 | Train F1: 0.9014 | Val Loss: 0.8598 | Val F1: 0.6750\n"
          ]
        },
        {
          "name": "stderr",
          "output_type": "stream",
          "text": [
            "Loss: 0.3096: 100%|██████████| 8/8 [00:03<00:00,  2.62it/s]\n",
            "Val Loss: 0.8018: 100%|██████████| 4/4 [00:01<00:00,  2.47it/s]\n"
          ]
        },
        {
          "name": "stdout",
          "output_type": "stream",
          "text": [
            "Epoch 44 | Train Loss: 0.4964 | Train F1: 0.8369 | Val Loss: 0.8482 | Val F1: 0.6620\n"
          ]
        },
        {
          "name": "stderr",
          "output_type": "stream",
          "text": [
            "Loss: 0.4829: 100%|██████████| 8/8 [00:03<00:00,  2.60it/s]\n",
            "Val Loss: 0.7815: 100%|██████████| 4/4 [00:01<00:00,  2.51it/s]\n"
          ]
        },
        {
          "name": "stdout",
          "output_type": "stream",
          "text": [
            "Epoch 45 | Train Loss: 0.5103 | Train F1: 0.9113 | Val Loss: 0.8164 | Val F1: 0.6736\n"
          ]
        },
        {
          "name": "stderr",
          "output_type": "stream",
          "text": [
            "Loss: 0.3506: 100%|██████████| 8/8 [00:03<00:00,  2.62it/s]\n",
            "Val Loss: 0.8613: 100%|██████████| 4/4 [00:01<00:00,  2.62it/s]\n"
          ]
        },
        {
          "name": "stdout",
          "output_type": "stream",
          "text": [
            "Epoch 46 | Train Loss: 0.4500 | Train F1: 0.8757 | Val Loss: 0.8989 | Val F1: 0.6669\n"
          ]
        },
        {
          "name": "stderr",
          "output_type": "stream",
          "text": [
            "Loss: 0.9053: 100%|██████████| 8/8 [00:03<00:00,  2.63it/s]\n",
            "Val Loss: 0.9559: 100%|██████████| 4/4 [00:01<00:00,  2.34it/s]\n"
          ]
        },
        {
          "name": "stdout",
          "output_type": "stream",
          "text": [
            "Epoch 47 | Train Loss: 0.6878 | Train F1: 0.7856 | Val Loss: 0.8986 | Val F1: 0.6335\n"
          ]
        },
        {
          "name": "stderr",
          "output_type": "stream",
          "text": [
            "Loss: 0.5488: 100%|██████████| 8/8 [00:02<00:00,  2.68it/s]\n",
            "Val Loss: 0.8908: 100%|██████████| 4/4 [00:01<00:00,  2.45it/s]\n"
          ]
        },
        {
          "name": "stdout",
          "output_type": "stream",
          "text": [
            "Epoch 48 | Train Loss: 0.5492 | Train F1: 0.8808 | Val Loss: 0.9060 | Val F1: 0.6209\n"
          ]
        },
        {
          "name": "stderr",
          "output_type": "stream",
          "text": [
            "Loss: 0.3633: 100%|██████████| 8/8 [00:03<00:00,  2.62it/s]\n",
            "Val Loss: 0.8464: 100%|██████████| 4/4 [00:01<00:00,  2.45it/s]\n"
          ]
        },
        {
          "name": "stdout",
          "output_type": "stream",
          "text": [
            "Epoch 49 | Train Loss: 0.5060 | Train F1: 0.9041 | Val Loss: 0.9141 | Val F1: 0.6568\n"
          ]
        },
        {
          "name": "stderr",
          "output_type": "stream",
          "text": [
            "Loss: 0.3159: 100%|██████████| 8/8 [00:03<00:00,  2.64it/s]\n",
            "Val Loss: 0.7774: 100%|██████████| 4/4 [00:01<00:00,  2.48it/s]\n"
          ]
        },
        {
          "name": "stdout",
          "output_type": "stream",
          "text": [
            "Epoch 50 | Train Loss: 0.5345 | Train F1: 0.8532 | Val Loss: 0.8987 | Val F1: 0.6542\n",
            "Subset Fold 2 Best Validation F1: 0.6868\n",
            "\n",
            "==================================================\n",
            "SUBSET FOLD 3/3\n",
            "==================================================\n",
            "Train samples: 234, Validation samples: 116\n"
          ]
        },
        {
          "name": "stderr",
          "output_type": "stream",
          "text": [
            "Loss: 1.6689: 100%|██████████| 8/8 [00:03<00:00,  2.66it/s]\n",
            "Val Loss: 1.7057: 100%|██████████| 4/4 [00:01<00:00,  2.49it/s]\n"
          ]
        },
        {
          "name": "stdout",
          "output_type": "stream",
          "text": [
            "Epoch  1 | Train Loss: 1.4543 | Train F1: 0.2481 | Val Loss: 1.5541 | Val F1: 0.1186\n"
          ]
        },
        {
          "name": "stderr",
          "output_type": "stream",
          "text": [
            "Loss: 1.3799: 100%|██████████| 8/8 [00:02<00:00,  2.67it/s]\n",
            "Val Loss: 1.1995: 100%|██████████| 4/4 [00:01<00:00,  2.43it/s]\n"
          ]
        },
        {
          "name": "stdout",
          "output_type": "stream",
          "text": [
            "Epoch  2 | Train Loss: 1.4165 | Train F1: 0.2363 | Val Loss: 1.3440 | Val F1: 0.2547\n"
          ]
        },
        {
          "name": "stderr",
          "output_type": "stream",
          "text": [
            "Loss: 1.1738: 100%|██████████| 8/8 [00:03<00:00,  2.64it/s]\n",
            "Val Loss: 1.4588: 100%|██████████| 4/4 [00:01<00:00,  2.39it/s]\n"
          ]
        },
        {
          "name": "stdout",
          "output_type": "stream",
          "text": [
            "Epoch  3 | Train Loss: 1.3260 | Train F1: 0.3017 | Val Loss: 1.3199 | Val F1: 0.2480\n"
          ]
        },
        {
          "name": "stderr",
          "output_type": "stream",
          "text": [
            "Loss: 1.0215: 100%|██████████| 8/8 [00:03<00:00,  2.60it/s]\n",
            "Val Loss: 1.0919: 100%|██████████| 4/4 [00:01<00:00,  2.57it/s]\n"
          ]
        },
        {
          "name": "stdout",
          "output_type": "stream",
          "text": [
            "Epoch  4 | Train Loss: 1.2456 | Train F1: 0.3565 | Val Loss: 1.2223 | Val F1: 0.3436\n"
          ]
        },
        {
          "name": "stderr",
          "output_type": "stream",
          "text": [
            "Loss: 1.7197: 100%|██████████| 8/8 [00:03<00:00,  2.56it/s]\n",
            "Val Loss: 1.4289: 100%|██████████| 4/4 [00:01<00:00,  2.49it/s]\n"
          ]
        },
        {
          "name": "stdout",
          "output_type": "stream",
          "text": [
            "Epoch  5 | Train Loss: 1.3574 | Train F1: 0.3054 | Val Loss: 1.2802 | Val F1: 0.3187\n"
          ]
        },
        {
          "name": "stderr",
          "output_type": "stream",
          "text": [
            "Loss: 1.2168: 100%|██████████| 8/8 [00:03<00:00,  2.63it/s]\n",
            "Val Loss: 1.1587: 100%|██████████| 4/4 [00:01<00:00,  2.51it/s]\n"
          ]
        },
        {
          "name": "stdout",
          "output_type": "stream",
          "text": [
            "Epoch  6 | Train Loss: 1.2429 | Train F1: 0.3772 | Val Loss: 1.1789 | Val F1: 0.3765\n"
          ]
        },
        {
          "name": "stderr",
          "output_type": "stream",
          "text": [
            "Loss: 1.0547: 100%|██████████| 8/8 [00:03<00:00,  2.61it/s]\n",
            "Val Loss: 0.9948: 100%|██████████| 4/4 [00:01<00:00,  2.42it/s]\n"
          ]
        },
        {
          "name": "stdout",
          "output_type": "stream",
          "text": [
            "Epoch  7 | Train Loss: 1.1948 | Train F1: 0.3632 | Val Loss: 1.0854 | Val F1: 0.4124\n"
          ]
        },
        {
          "name": "stderr",
          "output_type": "stream",
          "text": [
            "Loss: 1.0811: 100%|██████████| 8/8 [00:03<00:00,  2.63it/s]\n",
            "Val Loss: 1.2017: 100%|██████████| 4/4 [00:01<00:00,  2.47it/s]\n"
          ]
        },
        {
          "name": "stdout",
          "output_type": "stream",
          "text": [
            "Epoch  8 | Train Loss: 1.1145 | Train F1: 0.3962 | Val Loss: 1.1258 | Val F1: 0.4186\n"
          ]
        },
        {
          "name": "stderr",
          "output_type": "stream",
          "text": [
            "Loss: 0.9185: 100%|██████████| 8/8 [00:03<00:00,  2.61it/s]\n",
            "Val Loss: 1.0063: 100%|██████████| 4/4 [00:01<00:00,  2.52it/s]\n"
          ]
        },
        {
          "name": "stdout",
          "output_type": "stream",
          "text": [
            "Epoch  9 | Train Loss: 1.1268 | Train F1: 0.4429 | Val Loss: 1.1873 | Val F1: 0.4151\n"
          ]
        },
        {
          "name": "stderr",
          "output_type": "stream",
          "text": [
            "Loss: 1.0566: 100%|██████████| 8/8 [00:03<00:00,  2.62it/s]\n",
            "Val Loss: 1.1762: 100%|██████████| 4/4 [00:01<00:00,  2.50it/s]\n"
          ]
        },
        {
          "name": "stdout",
          "output_type": "stream",
          "text": [
            "Epoch 10 | Train Loss: 1.2123 | Train F1: 0.3772 | Val Loss: 1.1766 | Val F1: 0.4107\n"
          ]
        },
        {
          "name": "stderr",
          "output_type": "stream",
          "text": [
            "Loss: 1.0566: 100%|██████████| 8/8 [00:03<00:00,  2.64it/s]\n",
            "Val Loss: 0.9349: 100%|██████████| 4/4 [00:01<00:00,  2.44it/s]\n"
          ]
        },
        {
          "name": "stdout",
          "output_type": "stream",
          "text": [
            "Epoch 11 | Train Loss: 1.1326 | Train F1: 0.4411 | Val Loss: 1.0432 | Val F1: 0.4448\n"
          ]
        },
        {
          "name": "stderr",
          "output_type": "stream",
          "text": [
            "Loss: 1.0117: 100%|██████████| 8/8 [00:03<00:00,  2.63it/s]\n",
            "Val Loss: 0.9799: 100%|██████████| 4/4 [00:01<00:00,  2.47it/s]\n"
          ]
        },
        {
          "name": "stdout",
          "output_type": "stream",
          "text": [
            "Epoch 12 | Train Loss: 1.0359 | Train F1: 0.5313 | Val Loss: 0.9990 | Val F1: 0.5494\n"
          ]
        },
        {
          "name": "stderr",
          "output_type": "stream",
          "text": [
            "Loss: 0.8252: 100%|██████████| 8/8 [00:03<00:00,  2.59it/s]\n",
            "Val Loss: 0.9244: 100%|██████████| 4/4 [00:01<00:00,  2.46it/s]\n"
          ]
        },
        {
          "name": "stdout",
          "output_type": "stream",
          "text": [
            "Epoch 13 | Train Loss: 0.9932 | Train F1: 0.5229 | Val Loss: 1.0608 | Val F1: 0.4647\n"
          ]
        },
        {
          "name": "stderr",
          "output_type": "stream",
          "text": [
            "Loss: 0.8516: 100%|██████████| 8/8 [00:03<00:00,  2.64it/s]\n",
            "Val Loss: 0.9532: 100%|██████████| 4/4 [00:01<00:00,  2.37it/s]\n"
          ]
        },
        {
          "name": "stdout",
          "output_type": "stream",
          "text": [
            "Epoch 14 | Train Loss: 1.0530 | Train F1: 0.4518 | Val Loss: 0.9826 | Val F1: 0.4748\n"
          ]
        },
        {
          "name": "stderr",
          "output_type": "stream",
          "text": [
            "Loss: 0.9185: 100%|██████████| 8/8 [00:03<00:00,  2.48it/s]\n",
            "Val Loss: 0.7710: 100%|██████████| 4/4 [00:01<00:00,  2.30it/s]\n"
          ]
        },
        {
          "name": "stdout",
          "output_type": "stream",
          "text": [
            "Epoch 15 | Train Loss: 0.8398 | Train F1: 0.5998 | Val Loss: 0.9321 | Val F1: 0.5676\n"
          ]
        },
        {
          "name": "stderr",
          "output_type": "stream",
          "text": [
            "Loss: 0.7495: 100%|██████████| 8/8 [00:03<00:00,  2.58it/s]\n",
            "Val Loss: 0.7792: 100%|██████████| 4/4 [00:01<00:00,  2.48it/s]\n"
          ]
        },
        {
          "name": "stdout",
          "output_type": "stream",
          "text": [
            "Epoch 16 | Train Loss: 0.7608 | Train F1: 0.7299 | Val Loss: 0.8749 | Val F1: 0.6816\n"
          ]
        },
        {
          "name": "stderr",
          "output_type": "stream",
          "text": [
            "Loss: 0.8721: 100%|██████████| 8/8 [00:03<00:00,  2.54it/s]\n",
            "Val Loss: 0.7810: 100%|██████████| 4/4 [00:01<00:00,  2.47it/s]\n"
          ]
        },
        {
          "name": "stdout",
          "output_type": "stream",
          "text": [
            "Epoch 17 | Train Loss: 0.9053 | Train F1: 0.6375 | Val Loss: 0.8984 | Val F1: 0.5996\n"
          ]
        },
        {
          "name": "stderr",
          "output_type": "stream",
          "text": [
            "Loss: 0.9204: 100%|██████████| 8/8 [00:03<00:00,  2.53it/s]\n",
            "Val Loss: 0.6682: 100%|██████████| 4/4 [00:01<00:00,  2.47it/s]\n"
          ]
        },
        {
          "name": "stdout",
          "output_type": "stream",
          "text": [
            "Epoch 18 | Train Loss: 0.8343 | Train F1: 0.6961 | Val Loss: 0.8519 | Val F1: 0.6322\n"
          ]
        },
        {
          "name": "stderr",
          "output_type": "stream",
          "text": [
            "Loss: 0.9600: 100%|██████████| 8/8 [00:03<00:00,  2.60it/s]\n",
            "Val Loss: 0.6128: 100%|██████████| 4/4 [00:01<00:00,  2.50it/s]\n"
          ]
        },
        {
          "name": "stdout",
          "output_type": "stream",
          "text": [
            "Epoch 19 | Train Loss: 0.8505 | Train F1: 0.7037 | Val Loss: 0.8754 | Val F1: 0.6180\n"
          ]
        },
        {
          "name": "stderr",
          "output_type": "stream",
          "text": [
            "Loss: 0.6567: 100%|██████████| 8/8 [00:03<00:00,  2.63it/s]\n",
            "Val Loss: 0.6488: 100%|██████████| 4/4 [00:01<00:00,  2.47it/s]\n"
          ]
        },
        {
          "name": "stdout",
          "output_type": "stream",
          "text": [
            "Epoch 20 | Train Loss: 0.6848 | Train F1: 0.7995 | Val Loss: 0.8952 | Val F1: 0.6116\n"
          ]
        },
        {
          "name": "stderr",
          "output_type": "stream",
          "text": [
            "Loss: 0.6812: 100%|██████████| 8/8 [00:03<00:00,  2.64it/s]\n",
            "Val Loss: 0.6913: 100%|██████████| 4/4 [00:01<00:00,  2.50it/s]\n"
          ]
        },
        {
          "name": "stdout",
          "output_type": "stream",
          "text": [
            "Epoch 21 | Train Loss: 0.8315 | Train F1: 0.6852 | Val Loss: 0.9079 | Val F1: 0.6562\n"
          ]
        },
        {
          "name": "stderr",
          "output_type": "stream",
          "text": [
            "Loss: 0.9351: 100%|██████████| 8/8 [00:03<00:00,  2.65it/s]\n",
            "Val Loss: 0.5950: 100%|██████████| 4/4 [00:01<00:00,  2.49it/s]\n"
          ]
        },
        {
          "name": "stdout",
          "output_type": "stream",
          "text": [
            "Epoch 22 | Train Loss: 0.8257 | Train F1: 0.6607 | Val Loss: 0.9147 | Val F1: 0.5922\n"
          ]
        },
        {
          "name": "stderr",
          "output_type": "stream",
          "text": [
            "Loss: 0.5977: 100%|██████████| 8/8 [00:03<00:00,  2.63it/s]\n",
            "Val Loss: 0.6444: 100%|██████████| 4/4 [00:01<00:00,  2.45it/s]\n"
          ]
        },
        {
          "name": "stdout",
          "output_type": "stream",
          "text": [
            "Epoch 23 | Train Loss: 0.7593 | Train F1: 0.6492 | Val Loss: 0.8560 | Val F1: 0.6819\n"
          ]
        },
        {
          "name": "stderr",
          "output_type": "stream",
          "text": [
            "Loss: 1.3057: 100%|██████████| 8/8 [00:02<00:00,  2.69it/s]\n",
            "Val Loss: 0.6639: 100%|██████████| 4/4 [00:01<00:00,  2.48it/s]\n"
          ]
        },
        {
          "name": "stdout",
          "output_type": "stream",
          "text": [
            "Epoch 24 | Train Loss: 0.7453 | Train F1: 0.7757 | Val Loss: 0.8267 | Val F1: 0.6631\n"
          ]
        },
        {
          "name": "stderr",
          "output_type": "stream",
          "text": [
            "Loss: 0.6016: 100%|██████████| 8/8 [00:02<00:00,  2.67it/s]\n",
            "Val Loss: 0.5086: 100%|██████████| 4/4 [00:01<00:00,  2.40it/s]\n"
          ]
        },
        {
          "name": "stdout",
          "output_type": "stream",
          "text": [
            "Epoch 25 | Train Loss: 0.6160 | Train F1: 0.8123 | Val Loss: 0.8133 | Val F1: 0.6798\n"
          ]
        },
        {
          "name": "stderr",
          "output_type": "stream",
          "text": [
            "Loss: 0.8984: 100%|██████████| 8/8 [00:03<00:00,  2.67it/s]\n",
            "Val Loss: 0.5232: 100%|██████████| 4/4 [00:01<00:00,  2.49it/s]\n"
          ]
        },
        {
          "name": "stdout",
          "output_type": "stream",
          "text": [
            "Epoch 26 | Train Loss: 0.6335 | Train F1: 0.7864 | Val Loss: 0.7575 | Val F1: 0.6916\n"
          ]
        },
        {
          "name": "stderr",
          "output_type": "stream",
          "text": [
            "Loss: 0.8882: 100%|██████████| 8/8 [00:03<00:00,  2.66it/s]\n",
            "Val Loss: 0.6531: 100%|██████████| 4/4 [00:01<00:00,  2.52it/s]\n"
          ]
        },
        {
          "name": "stdout",
          "output_type": "stream",
          "text": [
            "Epoch 27 | Train Loss: 0.5904 | Train F1: 0.7583 | Val Loss: 0.7994 | Val F1: 0.6756\n"
          ]
        },
        {
          "name": "stderr",
          "output_type": "stream",
          "text": [
            "Loss: 0.5649: 100%|██████████| 8/8 [00:03<00:00,  2.67it/s]\n",
            "Val Loss: 0.5246: 100%|██████████| 4/4 [00:01<00:00,  2.49it/s]\n"
          ]
        },
        {
          "name": "stdout",
          "output_type": "stream",
          "text": [
            "Epoch 28 | Train Loss: 0.7122 | Train F1: 0.6921 | Val Loss: 0.8212 | Val F1: 0.6847\n"
          ]
        },
        {
          "name": "stderr",
          "output_type": "stream",
          "text": [
            "Loss: 1.0781: 100%|██████████| 8/8 [00:03<00:00,  2.62it/s]\n",
            "Val Loss: 0.5688: 100%|██████████| 4/4 [00:01<00:00,  2.56it/s]\n"
          ]
        },
        {
          "name": "stdout",
          "output_type": "stream",
          "text": [
            "Epoch 29 | Train Loss: 0.7376 | Train F1: 0.5826 | Val Loss: 0.7962 | Val F1: 0.6723\n"
          ]
        },
        {
          "name": "stderr",
          "output_type": "stream",
          "text": [
            "Loss: 0.6104: 100%|██████████| 8/8 [00:03<00:00,  2.65it/s]\n",
            "Val Loss: 0.4955: 100%|██████████| 4/4 [00:01<00:00,  2.46it/s]\n"
          ]
        },
        {
          "name": "stdout",
          "output_type": "stream",
          "text": [
            "Epoch 30 | Train Loss: 0.7357 | Train F1: 0.7271 | Val Loss: 0.8043 | Val F1: 0.6691\n"
          ]
        },
        {
          "name": "stderr",
          "output_type": "stream",
          "text": [
            "Loss: 0.6523: 100%|██████████| 8/8 [00:03<00:00,  2.64it/s]\n",
            "Val Loss: 0.5431: 100%|██████████| 4/4 [00:01<00:00,  2.54it/s]\n"
          ]
        },
        {
          "name": "stdout",
          "output_type": "stream",
          "text": [
            "Epoch 31 | Train Loss: 0.5548 | Train F1: 0.8923 | Val Loss: 0.8405 | Val F1: 0.6215\n"
          ]
        },
        {
          "name": "stderr",
          "output_type": "stream",
          "text": [
            "Loss: 0.8145: 100%|██████████| 8/8 [00:03<00:00,  2.55it/s]\n",
            "Val Loss: 0.4199: 100%|██████████| 4/4 [00:01<00:00,  2.45it/s]\n"
          ]
        },
        {
          "name": "stdout",
          "output_type": "stream",
          "text": [
            "Epoch 32 | Train Loss: 0.6708 | Train F1: 0.7720 | Val Loss: 0.7724 | Val F1: 0.6560\n"
          ]
        },
        {
          "name": "stderr",
          "output_type": "stream",
          "text": [
            "Loss: 0.3213: 100%|██████████| 8/8 [00:03<00:00,  2.64it/s]\n",
            "Val Loss: 0.4570: 100%|██████████| 4/4 [00:01<00:00,  2.47it/s]\n"
          ]
        },
        {
          "name": "stdout",
          "output_type": "stream",
          "text": [
            "Epoch 33 | Train Loss: 0.5864 | Train F1: 0.7182 | Val Loss: 0.8039 | Val F1: 0.6739\n"
          ]
        },
        {
          "name": "stderr",
          "output_type": "stream",
          "text": [
            "Loss: 0.6250: 100%|██████████| 8/8 [00:03<00:00,  2.63it/s]\n",
            "Val Loss: 0.5636: 100%|██████████| 4/4 [00:01<00:00,  2.44it/s]\n"
          ]
        },
        {
          "name": "stdout",
          "output_type": "stream",
          "text": [
            "Epoch 34 | Train Loss: 0.5887 | Train F1: 0.7525 | Val Loss: 0.8313 | Val F1: 0.6766\n"
          ]
        },
        {
          "name": "stderr",
          "output_type": "stream",
          "text": [
            "Loss: 0.6621: 100%|██████████| 8/8 [00:03<00:00,  2.63it/s]\n",
            "Val Loss: 0.4343: 100%|██████████| 4/4 [00:01<00:00,  2.44it/s]\n"
          ]
        },
        {
          "name": "stdout",
          "output_type": "stream",
          "text": [
            "Epoch 35 | Train Loss: 0.5939 | Train F1: 0.8507 | Val Loss: 0.7892 | Val F1: 0.6920\n"
          ]
        },
        {
          "name": "stderr",
          "output_type": "stream",
          "text": [
            "Loss: 0.4844: 100%|██████████| 8/8 [00:03<00:00,  2.66it/s]\n",
            "Val Loss: 0.4808: 100%|██████████| 4/4 [00:01<00:00,  2.55it/s]\n"
          ]
        },
        {
          "name": "stdout",
          "output_type": "stream",
          "text": [
            "Epoch 36 | Train Loss: 0.6131 | Train F1: 0.7848 | Val Loss: 0.7897 | Val F1: 0.6949\n"
          ]
        },
        {
          "name": "stderr",
          "output_type": "stream",
          "text": [
            "Loss: 0.3428: 100%|██████████| 8/8 [00:03<00:00,  2.64it/s]\n",
            "Val Loss: 0.4708: 100%|██████████| 4/4 [00:01<00:00,  2.51it/s]\n"
          ]
        },
        {
          "name": "stdout",
          "output_type": "stream",
          "text": [
            "Epoch 37 | Train Loss: 0.6404 | Train F1: 0.7067 | Val Loss: 0.7425 | Val F1: 0.6852\n"
          ]
        },
        {
          "name": "stderr",
          "output_type": "stream",
          "text": [
            "Loss: 0.4236: 100%|██████████| 8/8 [00:03<00:00,  2.63it/s]\n",
            "Val Loss: 0.4242: 100%|██████████| 4/4 [00:01<00:00,  2.43it/s]\n"
          ]
        },
        {
          "name": "stdout",
          "output_type": "stream",
          "text": [
            "Epoch 38 | Train Loss: 0.5134 | Train F1: 0.8738 | Val Loss: 0.7361 | Val F1: 0.6879\n"
          ]
        },
        {
          "name": "stderr",
          "output_type": "stream",
          "text": [
            "Loss: 1.0449: 100%|██████████| 8/8 [00:03<00:00,  2.58it/s]\n",
            "Val Loss: 0.4562: 100%|██████████| 4/4 [00:01<00:00,  2.54it/s]\n"
          ]
        },
        {
          "name": "stdout",
          "output_type": "stream",
          "text": [
            "Epoch 39 | Train Loss: 0.5253 | Train F1: 0.9017 | Val Loss: 0.7866 | Val F1: 0.6760\n"
          ]
        },
        {
          "name": "stderr",
          "output_type": "stream",
          "text": [
            "Loss: 0.4011: 100%|██████████| 8/8 [00:03<00:00,  2.63it/s]\n",
            "Val Loss: 0.5001: 100%|██████████| 4/4 [00:01<00:00,  2.48it/s]\n"
          ]
        },
        {
          "name": "stdout",
          "output_type": "stream",
          "text": [
            "Epoch 40 | Train Loss: 0.4324 | Train F1: 0.7487 | Val Loss: 0.7298 | Val F1: 0.7015\n"
          ]
        },
        {
          "name": "stderr",
          "output_type": "stream",
          "text": [
            "Loss: 0.4788: 100%|██████████| 8/8 [00:03<00:00,  2.60it/s]\n",
            "Val Loss: 0.4140: 100%|██████████| 4/4 [00:01<00:00,  2.45it/s]\n"
          ]
        },
        {
          "name": "stdout",
          "output_type": "stream",
          "text": [
            "Epoch 41 | Train Loss: 0.4266 | Train F1: 0.8737 | Val Loss: 0.7239 | Val F1: 0.6907\n"
          ]
        },
        {
          "name": "stderr",
          "output_type": "stream",
          "text": [
            "Loss: 0.3906: 100%|██████████| 8/8 [00:03<00:00,  2.62it/s]\n",
            "Val Loss: 0.4770: 100%|██████████| 4/4 [00:01<00:00,  2.45it/s]\n"
          ]
        },
        {
          "name": "stdout",
          "output_type": "stream",
          "text": [
            "Epoch 42 | Train Loss: 0.6698 | Train F1: 0.7623 | Val Loss: 0.7471 | Val F1: 0.7010\n"
          ]
        },
        {
          "name": "stderr",
          "output_type": "stream",
          "text": [
            "Loss: 0.4233: 100%|██████████| 8/8 [00:03<00:00,  2.59it/s]\n",
            "Val Loss: 0.4740: 100%|██████████| 4/4 [00:01<00:00,  2.49it/s]\n"
          ]
        },
        {
          "name": "stdout",
          "output_type": "stream",
          "text": [
            "Epoch 43 | Train Loss: 0.6827 | Train F1: 0.7199 | Val Loss: 0.7237 | Val F1: 0.7222\n"
          ]
        },
        {
          "name": "stderr",
          "output_type": "stream",
          "text": [
            "Loss: 0.4736: 100%|██████████| 8/8 [00:03<00:00,  2.58it/s]\n",
            "Val Loss: 0.4297: 100%|██████████| 4/4 [00:01<00:00,  2.52it/s]\n"
          ]
        },
        {
          "name": "stdout",
          "output_type": "stream",
          "text": [
            "Epoch 44 | Train Loss: 0.6741 | Train F1: 0.7696 | Val Loss: 0.6629 | Val F1: 0.7745\n"
          ]
        },
        {
          "name": "stderr",
          "output_type": "stream",
          "text": [
            "Loss: 1.0996: 100%|██████████| 8/8 [00:03<00:00,  2.57it/s]\n",
            "Val Loss: 0.4382: 100%|██████████| 4/4 [00:01<00:00,  2.45it/s]\n"
          ]
        },
        {
          "name": "stdout",
          "output_type": "stream",
          "text": [
            "Epoch 45 | Train Loss: 0.6981 | Train F1: 0.7417 | Val Loss: 0.7595 | Val F1: 0.7143\n"
          ]
        },
        {
          "name": "stderr",
          "output_type": "stream",
          "text": [
            "Loss: 0.4480: 100%|██████████| 8/8 [00:02<00:00,  2.71it/s]\n",
            "Val Loss: 0.4045: 100%|██████████| 4/4 [00:01<00:00,  2.49it/s]\n"
          ]
        },
        {
          "name": "stdout",
          "output_type": "stream",
          "text": [
            "Epoch 46 | Train Loss: 0.5970 | Train F1: 0.8081 | Val Loss: 0.7325 | Val F1: 0.7084\n"
          ]
        },
        {
          "name": "stderr",
          "output_type": "stream",
          "text": [
            "Loss: 0.3711: 100%|██████████| 8/8 [00:03<00:00,  2.61it/s]\n",
            "Val Loss: 0.4349: 100%|██████████| 4/4 [00:01<00:00,  2.50it/s]\n"
          ]
        },
        {
          "name": "stdout",
          "output_type": "stream",
          "text": [
            "Epoch 47 | Train Loss: 0.7481 | Train F1: 0.7410 | Val Loss: 0.7910 | Val F1: 0.6976\n"
          ]
        },
        {
          "name": "stderr",
          "output_type": "stream",
          "text": [
            "Loss: 0.6382: 100%|██████████| 8/8 [00:02<00:00,  2.68it/s]\n",
            "Val Loss: 0.4854: 100%|██████████| 4/4 [00:01<00:00,  2.48it/s]\n"
          ]
        },
        {
          "name": "stdout",
          "output_type": "stream",
          "text": [
            "Epoch 48 | Train Loss: 0.5377 | Train F1: 0.7901 | Val Loss: 0.7346 | Val F1: 0.7202\n"
          ]
        },
        {
          "name": "stderr",
          "output_type": "stream",
          "text": [
            "Loss: 0.3706: 100%|██████████| 8/8 [00:03<00:00,  2.63it/s]\n",
            "Val Loss: 0.4081: 100%|██████████| 4/4 [00:01<00:00,  2.45it/s]\n"
          ]
        },
        {
          "name": "stdout",
          "output_type": "stream",
          "text": [
            "Epoch 49 | Train Loss: 0.5585 | Train F1: 0.8201 | Val Loss: 0.7496 | Val F1: 0.7185\n"
          ]
        },
        {
          "name": "stderr",
          "output_type": "stream",
          "text": [
            "Loss: 0.5093: 100%|██████████| 8/8 [00:02<00:00,  2.69it/s]\n",
            "Val Loss: 0.4251: 100%|██████████| 4/4 [00:01<00:00,  2.49it/s]"
          ]
        },
        {
          "name": "stdout",
          "output_type": "stream",
          "text": [
            "Epoch 50 | Train Loss: 0.5736 | Train F1: 0.7716 | Val Loss: 0.7430 | Val F1: 0.7163\n",
            "Subset Fold 3 Best Validation F1: 0.7745\n",
            "\n",
            "============================================================\n",
            "SUBSET MODEL CROSS VALIDATION RESULTS\n",
            "============================================================\n",
            "Fold 1: 0.7299\n",
            "Fold 2: 0.6868\n",
            "Fold 3: 0.7745\n",
            "\n",
            "Mean CV F1: 0.7304 ± 0.0358\n",
            "Best single fold: 0.7745\n"
          ]
        },
        {
          "name": "stderr",
          "output_type": "stream",
          "text": [
            "\n"
          ]
        }
      ],
      "source": [
        "# ========================================\n",
        "# 2. 3-Fold Cross Validation으로 서브셋 모델 학습\n",
        "# ========================================\n",
        "\n",
        "# 3-Fold 설정\n",
        "N_FOLDS = 5\n",
        "skf = StratifiedKFold(n_splits=N_FOLDS, shuffle=True, random_state=42)\n",
        "\n",
        "# 결과 저장용 리스트\n",
        "fold_results = []\n",
        "fold_models = []\n",
        "\n",
        "print(f\"Starting {N_FOLDS}-Fold Cross Validation for Subset Model...\")\n",
        "\n",
        "for fold, (train_idx, val_idx) in enumerate(skf.split(filtered_df, filtered_df['target'])):\n",
        "    print(f\"\\n{'='*50}\")\n",
        "    print(f\"SUBSET FOLD {fold + 1}/{N_FOLDS}\")\n",
        "    print(f\"{'='*50}\")\n",
        "    \n",
        "    # 현재 fold의 train/validation 데이터 분할\n",
        "    train_fold_df = filtered_df.iloc[train_idx].reset_index(drop=True)\n",
        "    val_fold_df = filtered_df.iloc[val_idx].reset_index(drop=True)\n",
        "    \n",
        "    # 현재 fold의 Dataset 생성\n",
        "    trn_dataset = ImageDataset(\n",
        "        train_fold_df,\n",
        "        \"./data/raw/train/\",\n",
        "        epoch=0,\n",
        "        total_epochs=EPOCHS,\n",
        "        is_train=True\n",
        "    )\n",
        "    \n",
        "    val_dataset = ImageDataset(\n",
        "        val_fold_df,\n",
        "        \"./data/raw/train/\",\n",
        "        epoch=0,\n",
        "        total_epochs=EPOCHS,\n",
        "        is_train=False\n",
        "    )\n",
        "    \n",
        "    # 현재 fold의 DataLoader 생성\n",
        "    trn_loader = DataLoader(\n",
        "        trn_dataset,\n",
        "        batch_size=BATCH_SIZE,\n",
        "        shuffle=True,\n",
        "        num_workers=num_workers,\n",
        "        pin_memory=True,\n",
        "        drop_last=False\n",
        "    )\n",
        "    \n",
        "    val_loader = DataLoader(\n",
        "        val_dataset,\n",
        "        batch_size=BATCH_SIZE,\n",
        "        shuffle=False,\n",
        "        num_workers=num_workers,\n",
        "        pin_memory=True\n",
        "    )\n",
        "    \n",
        "    print(f\"Train samples: {len(trn_dataset)}, Validation samples: {len(val_dataset)}\")\n",
        "    \n",
        "    # 모델 초기화 (4개 클래스)\n",
        "    model = timm.create_model(\n",
        "        model_name,\n",
        "        pretrained=True,\n",
        "        num_classes=4  # 취약 클래스 4개\n",
        "    ).to(device)\n",
        "    \n",
        "    loss_fn = nn.CrossEntropyLoss(label_smoothing=0.05)\n",
        "    optimizer = Adam(model.parameters(), lr=LR)\n",
        "    scheduler = CosineAnnealingLR(optimizer, T_max=EPOCHS)\n",
        "    \n",
        "    # 현재 fold의 최고 성능 추적\n",
        "    best_val_f1 = 0.0\n",
        "    best_model = None\n",
        "    \n",
        "    # 현재 fold 학습\n",
        "    for epoch in range(EPOCHS):\n",
        "        # Training\n",
        "        train_ret = train_one_epoch(trn_loader, model, optimizer, loss_fn, device)\n",
        "        \n",
        "        # Validation\n",
        "        val_ret = validate_one_epoch(val_loader, model, loss_fn, device)\n",
        "        \n",
        "        # Scheduler step\n",
        "        scheduler.step()\n",
        "        \n",
        "        print(f\"Epoch {epoch+1:2d} | \"\n",
        "              f\"Train Loss: {train_ret['train_loss']:.4f} | \"\n",
        "              f\"Train F1: {train_ret['train_f1']:.4f} | \"\n",
        "              f\"Val Loss: {val_ret['val_loss']:.4f} | \"\n",
        "              f\"Val F1: {val_ret['val_f1']:.4f}\")\n",
        "        \n",
        "        # 최고 성능 모델 저장\n",
        "        if val_ret['val_f1'] > best_val_f1:\n",
        "            best_val_f1 = val_ret['val_f1']\n",
        "            best_model = copy.deepcopy(model.state_dict())\n",
        "    \n",
        "    # 현재 fold 결과 저장\n",
        "    fold_results.append({\n",
        "        'fold': fold + 1,\n",
        "        'best_val_f1': best_val_f1,\n",
        "        'train_samples': len(trn_dataset),\n",
        "        'val_samples': len(val_dataset)\n",
        "    })\n",
        "    \n",
        "    fold_models.append(best_model)\n",
        "    \n",
        "    print(f\"Subset Fold {fold + 1} Best Validation F1: {best_val_f1:.4f}\")\n",
        "\n",
        "# 결과 요약\n",
        "print(f\"\\n{'='*60}\")\n",
        "print(\"SUBSET MODEL CROSS VALIDATION RESULTS\")\n",
        "print(f\"{'='*60}\")\n",
        "\n",
        "val_f1_scores = [result['best_val_f1'] for result in fold_results]\n",
        "mean_f1 = np.mean(val_f1_scores)\n",
        "std_f1 = np.std(val_f1_scores)\n",
        "\n",
        "for result in fold_results:\n",
        "    print(f\"Fold {result['fold']}: {result['best_val_f1']:.4f}\")\n",
        "\n",
        "print(f\"\\nMean CV F1: {mean_f1:.4f} ± {std_f1:.4f}\")\n",
        "print(f\"Best single fold: {max(val_f1_scores):.4f}\")\n"
      ]
    },
    {
      "cell_type": "code",
      "execution_count": 25,
      "metadata": {},
      "outputs": [
        {
          "name": "stdout",
          "output_type": "stream",
          "text": [
            "\n",
            "Saving subset models to subset_models/\n",
            "✅ Fold 0 model saved: subset_models/subset_fold_0_model.pth\n",
            "✅ Fold 1 model saved: subset_models/subset_fold_1_model.pth\n",
            "✅ Fold 2 model saved: subset_models/subset_fold_2_model.pth\n",
            "\n",
            "🎉 4-Class subset training completed!\n",
            "📊 Final Results Summary:\n",
            "   - Target classes: [3, 4, 7, 14]\n",
            "   - Training samples: 350\n",
            "   - Mean CV F1: 0.7304 ± 0.0358\n",
            "   - Models saved in: subset_models/\n"
          ]
        }
      ],
      "source": [
        "# ========================================\n",
        "# 3. 서브셋 모델 저장\n",
        "# ========================================\n",
        "\n",
        "# 서브셋 모델들 저장\n",
        "save_dir = \"subset_models\"\n",
        "os.makedirs(save_dir, exist_ok=True)\n",
        "\n",
        "print(f\"\\nSaving subset models to {save_dir}/\")\n",
        "for fold, state_dict in enumerate(fold_models):\n",
        "    model_path = f\"{save_dir}/subset_fold_{fold}_model.pth\"\n",
        "    torch.save({\n",
        "        'model_state_dict': state_dict,\n",
        "        'fold': fold,\n",
        "        'classes': vulnerable_classes,\n",
        "        'label_mapping': label_mapping,\n",
        "        'model_name': model_name,\n",
        "        'img_size': img_size,\n",
        "        'num_classes': 4,\n",
        "        'best_f1': fold_results[fold]['best_val_f1']\n",
        "    }, model_path)\n",
        "    print(f\"✅ Fold {fold} model saved: {model_path}\")\n",
        "\n",
        "print(\"\\n🎉 4-Class subset training completed!\")\n",
        "print(f\"📊 Final Results Summary:\")\n",
        "print(f\"   - Target classes: {vulnerable_classes}\")\n",
        "print(f\"   - Training samples: {len(filtered_df)}\")\n",
        "print(f\"   - Mean CV F1: {mean_f1:.4f} ± {std_f1:.4f}\")\n",
        "print(f\"   - Models saved in: {save_dir}/\")\n"
      ]
    },
    {
      "cell_type": "code",
      "execution_count": null,
      "metadata": {},
      "outputs": [],
      "source": [
        "# ========================================\n",
        "# 4. 캐스케이드 분류 시스템 구현\n",
        "# ========================================\n",
        "\n",
        "class CascadeClassifier:\n",
        "    \"\"\"\n",
        "    2단계 캐스케이드 분류 시스템\n",
        "    \n",
        "    1단계: 분류기 A (17개 클래스 전체 분류)\n",
        "    2단계: 분류기 B (취약 클래스 3,4,7,14만 분류)\n",
        "    \"\"\"\n",
        "    \n",
        "    def __init__(self, main_models, subset_models, vulnerable_classes=[3,4,7,14], \n",
        "                 confidence_threshold=0.7):\n",
        "        \"\"\"\n",
        "        Args:\n",
        "            main_models: 분류기 A의 앙상블 모델들 (17개 클래스)\n",
        "            subset_models: 분류기 B의 앙상블 모델들 (4개 클래스)\n",
        "            vulnerable_classes: 취약 클래스 리스트\n",
        "            confidence_threshold: 2단계 분류기로 넘어갈 신뢰도 임계값\n",
        "        \"\"\"\n",
        "        self.main_models = main_models\n",
        "        self.subset_models = subset_models\n",
        "        self.vulnerable_classes = vulnerable_classes\n",
        "        self.confidence_threshold = confidence_threshold\n",
        "        \n",
        "        # 취약 클래스 매핑 (원본 클래스 -> 서브셋 클래스) / 결과: {3: 0, 4: 1, 7: 2, 14: 3}\n",
        "        self.class_mapping = {cls: idx for idx, cls in enumerate(vulnerable_classes)}\n",
        "        \n",
        "        print(f\"캐스케이드 분류기 초기화 완료\")\n",
        "        print(f\"- 취약 클래스: {vulnerable_classes}\")\n",
        "        print(f\"- 신뢰도 임계값: {confidence_threshold}\")\n",
        "        print(f\"- 메인 모델 수: {len(main_models)}\")\n",
        "        print(f\"- 서브셋 모델 수: {len(subset_models)}\")\n",
        "    \n",
        "    def predict_single(self, image, device):\n",
        "        \"\"\"\n",
        "        단일 이미지에 대한 캐스케이드 예측\n",
        "        \n",
        "        Args:\n",
        "            image: 전처리된 이미지 텐서 [C, H, W]\n",
        "            device: GPU/CPU 디바이스\n",
        "            \n",
        "        Returns:\n",
        "            final_prediction: 최종 예측 클래스\n",
        "            confidence: 예측 신뢰도\n",
        "            used_cascade: 사용된 분류기 ('main' 또는 'cascade')\n",
        "        \"\"\"\n",
        "        image = image.unsqueeze(0).to(device)  # 배치 차원 추가\n",
        "        \n",
        "        # 1단계: 메인 분류기로 예측\n",
        "        main_probs = self._predict_main_ensemble(image)\n",
        "        main_pred = torch.argmax(main_probs, dim=1).item()\n",
        "        main_confidence = torch.max(main_probs).item()\n",
        "        \n",
        "        # 1단계 예측이 취약 클래스이고 신뢰도가 낮으면 2단계로\n",
        "        if (main_pred in self.vulnerable_classes and \n",
        "            main_confidence < self.confidence_threshold):\n",
        "            \n",
        "            # 2단계: 서브셋 분류기로 재예측\n",
        "            subset_probs = self._predict_subset_ensemble(image)\n",
        "            subset_pred_idx = torch.argmax(subset_probs, dim=1).item()\n",
        "            subset_confidence = torch.max(subset_probs).item()\n",
        "            \n",
        "            # 서브셋 예측을 원본 클래스로 변환\n",
        "            final_prediction = self.vulnerable_classes[subset_pred_idx]\n",
        "            final_confidence = subset_confidence\n",
        "            used_cascade = 'cascade'\n",
        "            \n",
        "            print(f\"캐스케이드 사용: {main_pred}({main_confidence:.3f}) -> {final_prediction}({subset_confidence:.3f})\")\n",
        "            \n",
        "        else:\n",
        "            # 1단계 예측 그대로 사용\n",
        "            final_prediction = main_pred\n",
        "            final_confidence = main_confidence\n",
        "            used_cascade = 'main'\n",
        "        \n",
        "        return final_prediction, final_confidence, used_cascade\n",
        "    \n",
        "    def _predict_main_ensemble(self, image):\n",
        "        \"\"\"메인 분류기 앙상블 예측\"\"\"\n",
        "        ensemble_probs = torch.zeros(1, 17).to(image.device)\n",
        "        \n",
        "        with torch.no_grad():\n",
        "            for model in self.main_models:\n",
        "                model.eval()\n",
        "                preds = model(image)\n",
        "                probs = torch.softmax(preds, dim=1)\n",
        "                ensemble_probs += probs / len(self.main_models)\n",
        "        \n",
        "        return ensemble_probs\n",
        "    \n",
        "    def _predict_subset_ensemble(self, image):\n",
        "        \"\"\"서브셋 분류기 앙상블 예측\"\"\"\n",
        "        ensemble_probs = torch.zeros(1, 4).to(image.device)\n",
        "        \n",
        "        with torch.no_grad():\n",
        "            for model in self.subset_models:\n",
        "                model.eval()\n",
        "                preds = model(image)\n",
        "                probs = torch.softmax(preds, dim=1)\n",
        "                ensemble_probs += probs / len(self.subset_models)\n",
        "        \n",
        "        return ensemble_probs\n",
        "    \n",
        "    def predict_batch(self, dataloader, device):\n",
        "        \"\"\"\n",
        "        배치 데이터에 대한 캐스케이드 예측\n",
        "        \n",
        "        Args:\n",
        "            dataloader: 테스트 데이터로더\n",
        "            device: GPU/CPU 디바이스\n",
        "            \n",
        "        Returns:\n",
        "            predictions: 최종 예측 리스트\n",
        "            confidences: 예측 신뢰도 리스트\n",
        "            cascade_usage: 캐스케이드 사용 통계\n",
        "        \"\"\"\n",
        "        all_predictions = []\n",
        "        all_confidences = []\n",
        "        cascade_usage = {'main': 0, 'cascade': 0}\n",
        "        \n",
        "        for images, _ in tqdm(dataloader, desc=\"Cascade Prediction\"):\n",
        "            batch_predictions = []\n",
        "            batch_confidences = []\n",
        "            \n",
        "            for i in range(images.size(0)):\n",
        "                single_image = images[i]\n",
        "                pred, conf, used = self.predict_single(single_image, device)\n",
        "                \n",
        "                batch_predictions.append(pred)\n",
        "                batch_confidences.append(conf)\n",
        "                cascade_usage[used] += 1\n",
        "            \n",
        "            all_predictions.extend(batch_predictions)\n",
        "            all_confidences.extend(batch_confidences)\n",
        "        \n",
        "        return all_predictions, all_confidences, cascade_usage\n"
      ]
    },
    {
      "cell_type": "code",
      "execution_count": null,
      "metadata": {},
      "outputs": [
        {
          "name": "stdout",
          "output_type": "stream",
          "text": [
            "메인 모델들 로드 중...\n",
            "✅ 메인 모델 1 로드 완료\n",
            "✅ 메인 모델 2 로드 완료\n",
            "✅ 메인 모델 3 로드 완료\n",
            "✅ 메인 모델 4 로드 완료\n",
            "✅ 메인 모델 5 로드 완료\n",
            "총 5개의 메인 모델 로드 완료\n",
            "\n",
            "서브셋 모델들 로드 중...\n",
            "✅ 서브셋 모델 0 로드 완료 (F1: 0.7299)\n",
            "✅ 서브셋 모델 1 로드 완료 (F1: 0.6868)\n",
            "✅ 서브셋 모델 2 로드 완료 (F1: 0.7745)\n",
            "총 3개의 서브셋 모델 로드 완료\n"
          ]
        }
      ],
      "source": [
        "# ========================================\n",
        "# 5. 메인 모델과 서브셋 모델 로드\n",
        "# ========================================\n",
        "\n",
        "# 메인 모델들 로드 (17개 클래스)\n",
        "print(\"메인 모델들 로드 중...\")\n",
        "main_models = []\n",
        "for fold in range(5):\n",
        "\n",
        "    #model_path = f\"best_model_fold_{fold+1}.pth\"\n",
        "    model_path = f\"fold_{fold+1}_best.pth\"\n",
        "    \n",
        "    if os.path.exists(model_path):\n",
        "        # 메인 모델 생성 (17개 클래스)\n",
        "        main_model = timm.create_model(model_name, pretrained=True, num_classes=17).to(device)\n",
        "        main_model.load_state_dict(torch.load(model_path, map_location=device))\n",
        "        main_model.eval()\n",
        "        \n",
        "        main_models.append(main_model)\n",
        "        print(f\"✅ 메인 모델 {fold+1} 로드 완료\")\n",
        "    else:\n",
        "        print(f\"❌ 메인 모델 {fold+1} 파일을 찾을 수 없습니다: {model_path}\")\n",
        "\n",
        "print(f\"총 {len(main_models)}개의 메인 모델 로드 완료\")\n",
        "\n",
        "# 서브셋 모델들 로드 (4개 클래스)\n",
        "print(\"\\n서브셋 모델들 로드 중...\")\n",
        "subset_models = []\n",
        "for fold in range(3):\n",
        "    model_path = f\"{save_dir}/subset_fold_{fold}_model.pth\"\n",
        "    \n",
        "    if os.path.exists(model_path):\n",
        "        # 서브셋 모델 생성 (4개 클래스)\n",
        "        subset_model = timm.create_model(model_name, pretrained=True, num_classes=4).to(device)\n",
        "        checkpoint = torch.load(model_path, map_location=device)\n",
        "        subset_model.load_state_dict(checkpoint['model_state_dict'])\n",
        "        subset_model.eval()\n",
        "        \n",
        "        subset_models.append(subset_model)\n",
        "        print(f\"✅ 서브셋 모델 {fold} 로드 완료 (F1: {checkpoint['best_f1']:.4f})\")\n",
        "    else:\n",
        "        print(f\"❌ 서브셋 모델 {fold} 파일을 찾을 수 없습니다: {model_path}\")\n",
        "\n",
        "print(f\"총 {len(subset_models)}개의 서브셋 모델 로드 완료\")\n"
      ]
    },
    {
      "cell_type": "code",
      "execution_count": null,
      "metadata": {},
      "outputs": [
        {
          "name": "stdout",
          "output_type": "stream",
          "text": [
            "캐스케이드 분류기 초기화 완료\n",
            "- 취약 클래스: [3, 4, 7, 14]\n",
            "- 신뢰도 임계값: 0.7\n",
            "- 메인 모델 수: 5\n",
            "- 서브셋 모델 수: 3\n",
            "\n",
            "==================================================\n",
            "캐스케이드 분류기 테스트\n",
            "==================================================\n",
            "테스트 이미지: 009235e4c9c07af5.jpg\n",
            "실제 클래스: 4\n",
            "예측 결과: 4\n",
            "예측 신뢰도: 0.7997\n",
            "사용된 분류기: main\n",
            "정답 여부: ✅\n"
          ]
        }
      ],
      "source": [
        "# ========================================\n",
        "# 6. 캐스케이드 분류기 초기화 및 테스트\n",
        "# ========================================\n",
        "\n",
        "# 캐스케이드 분류기 초기화\n",
        "cascade_classifier = CascadeClassifier(\n",
        "    main_models=main_models,      # 분류기 A (17개 클래스)\n",
        "    subset_models=subset_models,  # 분류기 B (4개 클래스)\n",
        "    vulnerable_classes=vulnerable_classes, # 취약 클래스\n",
        "    confidence_threshold=0.7      # 신뢰도 임계값 (조정 가능)\n",
        ")\n",
        "\n",
        "# 간단한 테스트 (취약 클래스 샘플로)\n",
        "print(\"\\n\" + \"=\"*50)\n",
        "print(\"캐스케이드 분류기 테스트\")\n",
        "print(\"=\"*50)\n",
        "\n",
        "# 취약 클래스 샘플 하나 가져오기\n",
        "test_sample = filtered_df.iloc[0]\n",
        "test_image_path = f\"./data/raw/train/{test_sample['ID']}\"\n",
        "test_image = Image.open(test_image_path).convert('RGB')\n",
        "\n",
        "# 이미지 전처리\n",
        "transform = A.Compose([\n",
        "    A.LongestMaxSize(max_size=img_size),\n",
        "    A.PadIfNeeded(min_height=img_size, min_width=img_size, border_mode=0, value=0),\n",
        "    A.Normalize(mean=[0.485, 0.456, 0.406], std=[0.229, 0.224, 0.225]),\n",
        "    ToTensorV2(),\n",
        "])\n",
        "\n",
        "test_tensor = transform(image=np.array(test_image))['image']\n",
        "true_class = test_sample['original_target']  # 원본 클래스\n",
        "\n",
        "print(f\"테스트 이미지: {test_sample['ID']}\")\n",
        "print(f\"실제 클래스: {true_class}\")\n",
        "\n",
        "# 캐스케이드 예측\n",
        "pred, conf, used = cascade_classifier.predict_single(test_tensor, device)\n",
        "\n",
        "print(f\"예측 결과: {pred}\")\n",
        "print(f\"예측 신뢰도: {conf:.4f}\")\n",
        "print(f\"사용된 분류기: {used}\")\n",
        "print(f\"정답 여부: {'✅' if pred == true_class else '❌'}\")\n"
      ]
    },
    {
      "cell_type": "code",
      "execution_count": null,
      "metadata": {},
      "outputs": [
        {
          "name": "stdout",
          "output_type": "stream",
          "text": [
            "테스트 데이터 크기: 3140\n",
            "캐스케이드 시스템으로 테스트 데이터 예측 시작...\n"
          ]
        },
        {
          "name": "stderr",
          "output_type": "stream",
          "text": [
            "Cascade Prediction:   0%|          | 0/99 [00:00<?, ?it/s]"
          ]
        },
        {
          "name": "stdout",
          "output_type": "stream",
          "text": [
            "캐스케이드 사용: 7(0.377) -> 7(0.334)\n",
            "캐스케이드 사용: 3(0.195) -> 7(0.277)\n",
            "캐스케이드 사용: 3(0.331) -> 14(0.309)\n"
          ]
        },
        {
          "name": "stderr",
          "output_type": "stream",
          "text": [
            "Cascade Prediction:   1%|          | 1/99 [00:02<03:53,  2.39s/it]"
          ]
        },
        {
          "name": "stdout",
          "output_type": "stream",
          "text": [
            "캐스케이드 사용: 3(0.463) -> 3(0.493)\n",
            "캐스케이드 사용: 3(0.699) -> 3(0.667)\n",
            "캐스케이드 사용: 3(0.468) -> 3(0.715)\n",
            "캐스케이드 사용: 7(0.367) -> 7(0.391)\n",
            "캐스케이드 사용: 7(0.474) -> 7(0.460)\n"
          ]
        },
        {
          "name": "stderr",
          "output_type": "stream",
          "text": [
            "Cascade Prediction:   2%|▏         | 2/99 [00:03<03:06,  1.93s/it]"
          ]
        },
        {
          "name": "stdout",
          "output_type": "stream",
          "text": [
            "캐스케이드 사용: 4(0.330) -> 4(0.399)\n",
            "캐스케이드 사용: 7(0.557) -> 7(0.536)\n",
            "캐스케이드 사용: 7(0.311) -> 7(0.435)\n",
            "캐스케이드 사용: 7(0.239) -> 3(0.424)\n"
          ]
        },
        {
          "name": "stderr",
          "output_type": "stream",
          "text": [
            "Cascade Prediction:   3%|▎         | 3/99 [00:05<02:49,  1.76s/it]"
          ]
        },
        {
          "name": "stdout",
          "output_type": "stream",
          "text": [
            "캐스케이드 사용: 7(0.378) -> 7(0.344)\n",
            "캐스케이드 사용: 7(0.390) -> 14(0.528)\n",
            "캐스케이드 사용: 7(0.422) -> 14(0.512)\n",
            "캐스케이드 사용: 7(0.645) -> 7(0.680)\n",
            "캐스케이드 사용: 4(0.550) -> 4(0.510)\n",
            "캐스케이드 사용: 4(0.518) -> 4(0.415)\n"
          ]
        },
        {
          "name": "stderr",
          "output_type": "stream",
          "text": [
            "Cascade Prediction:   4%|▍         | 4/99 [00:07<02:41,  1.70s/it]"
          ]
        },
        {
          "name": "stdout",
          "output_type": "stream",
          "text": [
            "캐스케이드 사용: 7(0.378) -> 7(0.366)\n",
            "캐스케이드 사용: 4(0.384) -> 4(0.549)\n",
            "캐스케이드 사용: 3(0.563) -> 3(0.588)\n",
            "캐스케이드 사용: 4(0.468) -> 4(0.839)\n",
            "캐스케이드 사용: 7(0.326) -> 14(0.400)\n",
            "캐스케이드 사용: 3(0.576) -> 3(0.642)\n"
          ]
        },
        {
          "name": "stderr",
          "output_type": "stream",
          "text": [
            "Cascade Prediction:   5%|▌         | 5/99 [00:08<02:37,  1.67s/it]"
          ]
        },
        {
          "name": "stdout",
          "output_type": "stream",
          "text": [
            "캐스케이드 사용: 3(0.555) -> 3(0.631)\n",
            "캐스케이드 사용: 4(0.618) -> 4(0.804)\n",
            "캐스케이드 사용: 7(0.356) -> 4(0.541)\n"
          ]
        },
        {
          "name": "stderr",
          "output_type": "stream",
          "text": [
            "Cascade Prediction:   6%|▌         | 6/99 [00:10<02:32,  1.64s/it]"
          ]
        },
        {
          "name": "stdout",
          "output_type": "stream",
          "text": [
            "캐스케이드 사용: 4(0.581) -> 4(0.860)\n",
            "캐스케이드 사용: 4(0.486) -> 4(0.532)\n",
            "캐스케이드 사용: 14(0.465) -> 4(0.474)\n",
            "캐스케이드 사용: 7(0.406) -> 3(0.402)\n",
            "캐스케이드 사용: 7(0.420) -> 7(0.575)\n"
          ]
        },
        {
          "name": "stderr",
          "output_type": "stream",
          "text": [
            "Cascade Prediction:   7%|▋         | 7/99 [00:11<02:29,  1.63s/it]"
          ]
        },
        {
          "name": "stdout",
          "output_type": "stream",
          "text": [
            "캐스케이드 사용: 3(0.425) -> 3(0.364)\n",
            "캐스케이드 사용: 3(0.581) -> 3(0.615)\n",
            "캐스케이드 사용: 7(0.320) -> 14(0.645)\n",
            "캐스케이드 사용: 7(0.450) -> 14(0.347)\n",
            "캐스케이드 사용: 4(0.353) -> 14(0.618)\n",
            "캐스케이드 사용: 7(0.405) -> 14(0.355)\n",
            "캐스케이드 사용: 7(0.600) -> 3(0.424)\n",
            "캐스케이드 사용: 4(0.544) -> 14(0.569)\n"
          ]
        },
        {
          "name": "stderr",
          "output_type": "stream",
          "text": [
            "Cascade Prediction:   8%|▊         | 8/99 [00:13<02:30,  1.66s/it]"
          ]
        },
        {
          "name": "stdout",
          "output_type": "stream",
          "text": [
            "캐스케이드 사용: 7(0.573) -> 7(0.654)\n",
            "캐스케이드 사용: 4(0.492) -> 4(0.461)\n",
            "캐스케이드 사용: 7(0.285) -> 14(0.411)\n",
            "캐스케이드 사용: 7(0.299) -> 4(0.630)\n",
            "캐스케이드 사용: 3(0.384) -> 7(0.433)\n",
            "캐스케이드 사용: 3(0.364) -> 3(0.445)\n",
            "캐스케이드 사용: 4(0.550) -> 4(0.724)\n",
            "캐스케이드 사용: 4(0.485) -> 4(0.507)\n",
            "캐스케이드 사용: 7(0.350) -> 4(0.621)\n",
            "캐스케이드 사용: 7(0.504) -> 7(0.608)\n"
          ]
        },
        {
          "name": "stderr",
          "output_type": "stream",
          "text": [
            "Cascade Prediction:   9%|▉         | 9/99 [00:15<02:30,  1.68s/it]"
          ]
        },
        {
          "name": "stdout",
          "output_type": "stream",
          "text": [
            "캐스케이드 사용: 4(0.398) -> 4(0.657)\n",
            "캐스케이드 사용: 3(0.584) -> 7(0.522)\n",
            "캐스케이드 사용: 3(0.631) -> 3(0.425)\n",
            "캐스케이드 사용: 14(0.249) -> 14(0.629)\n",
            "캐스케이드 사용: 7(0.454) -> 7(0.580)\n",
            "캐스케이드 사용: 7(0.530) -> 7(0.363)\n",
            "캐스케이드 사용: 7(0.364) -> 4(0.444)\n",
            "캐스케이드 사용: 7(0.634) -> 7(0.928)\n"
          ]
        },
        {
          "name": "stderr",
          "output_type": "stream",
          "text": [
            "Cascade Prediction:  10%|█         | 10/99 [00:17<02:29,  1.67s/it]"
          ]
        },
        {
          "name": "stdout",
          "output_type": "stream",
          "text": [
            "캐스케이드 사용: 14(0.296) -> 14(0.318)\n",
            "캐스케이드 사용: 4(0.437) -> 4(0.435)\n",
            "캐스케이드 사용: 7(0.485) -> 3(0.733)\n"
          ]
        },
        {
          "name": "stderr",
          "output_type": "stream",
          "text": [
            "Cascade Prediction:  11%|█         | 11/99 [00:18<02:24,  1.64s/it]"
          ]
        },
        {
          "name": "stdout",
          "output_type": "stream",
          "text": [
            "캐스케이드 사용: 4(0.487) -> 4(0.720)\n",
            "캐스케이드 사용: 7(0.485) -> 7(0.615)\n",
            "캐스케이드 사용: 3(0.560) -> 3(0.505)\n",
            "캐스케이드 사용: 3(0.698) -> 3(0.637)\n",
            "캐스케이드 사용: 3(0.463) -> 3(0.429)\n",
            "캐스케이드 사용: 4(0.444) -> 4(0.605)\n",
            "캐스케이드 사용: 3(0.469) -> 3(0.734)\n",
            "캐스케이드 사용: 4(0.458) -> 4(0.725)\n",
            "캐스케이드 사용: 7(0.476) -> 7(0.647)\n",
            "캐스케이드 사용: 7(0.588) -> 7(0.534)\n",
            "캐스케이드 사용: 7(0.156) -> 7(0.379)\n",
            "캐스케이드 사용: 3(0.543) -> 3(0.701)\n",
            "캐스케이드 사용: 4(0.692) -> 4(0.949)\n"
          ]
        },
        {
          "name": "stderr",
          "output_type": "stream",
          "text": [
            "Cascade Prediction:  12%|█▏        | 12/99 [00:20<02:28,  1.71s/it]"
          ]
        },
        {
          "name": "stdout",
          "output_type": "stream",
          "text": [
            "캐스케이드 사용: 7(0.374) -> 4(0.349)\n",
            "캐스케이드 사용: 4(0.388) -> 4(0.537)\n",
            "캐스케이드 사용: 7(0.323) -> 7(0.491)\n",
            "캐스케이드 사용: 4(0.386) -> 4(0.742)\n"
          ]
        },
        {
          "name": "stderr",
          "output_type": "stream",
          "text": [
            "Cascade Prediction:  13%|█▎        | 13/99 [00:22<02:23,  1.67s/it]"
          ]
        },
        {
          "name": "stdout",
          "output_type": "stream",
          "text": [
            "캐스케이드 사용: 4(0.447) -> 14(0.489)\n",
            "캐스케이드 사용: 3(0.380) -> 3(0.560)\n",
            "캐스케이드 사용: 7(0.642) -> 7(0.850)\n",
            "캐스케이드 사용: 7(0.523) -> 7(0.887)\n",
            "캐스케이드 사용: 4(0.661) -> 4(0.869)\n",
            "캐스케이드 사용: 4(0.437) -> 4(0.418)\n",
            "캐스케이드 사용: 3(0.414) -> 3(0.338)\n",
            "캐스케이드 사용: 3(0.479) -> 7(0.335)\n",
            "캐스케이드 사용: 3(0.475) -> 3(0.590)\n"
          ]
        },
        {
          "name": "stderr",
          "output_type": "stream",
          "text": [
            "Cascade Prediction:  14%|█▍        | 14/99 [00:23<02:23,  1.69s/it]"
          ]
        },
        {
          "name": "stdout",
          "output_type": "stream",
          "text": [
            "캐스케이드 사용: 3(0.457) -> 3(0.516)\n",
            "캐스케이드 사용: 7(0.284) -> 14(0.451)\n",
            "캐스케이드 사용: 7(0.601) -> 7(0.715)\n",
            "캐스케이드 사용: 3(0.680) -> 3(0.719)\n",
            "캐스케이드 사용: 14(0.484) -> 4(0.610)\n",
            "캐스케이드 사용: 14(0.302) -> 14(0.471)\n"
          ]
        },
        {
          "name": "stderr",
          "output_type": "stream",
          "text": [
            "Cascade Prediction:  15%|█▌        | 15/99 [00:25<02:20,  1.68s/it]"
          ]
        },
        {
          "name": "stdout",
          "output_type": "stream",
          "text": [
            "캐스케이드 사용: 7(0.437) -> 7(0.468)\n",
            "캐스케이드 사용: 14(0.301) -> 7(0.473)\n",
            "캐스케이드 사용: 3(0.493) -> 7(0.565)\n",
            "캐스케이드 사용: 3(0.486) -> 3(0.886)\n",
            "캐스케이드 사용: 7(0.492) -> 7(0.428)\n",
            "캐스케이드 사용: 3(0.557) -> 7(0.549)\n",
            "캐스케이드 사용: 7(0.497) -> 7(0.474)\n"
          ]
        },
        {
          "name": "stderr",
          "output_type": "stream",
          "text": [
            "Cascade Prediction:  16%|█▌        | 16/99 [00:27<02:19,  1.68s/it]"
          ]
        },
        {
          "name": "stdout",
          "output_type": "stream",
          "text": [
            "캐스케이드 사용: 3(0.573) -> 3(0.780)\n",
            "캐스케이드 사용: 3(0.373) -> 3(0.420)\n",
            "캐스케이드 사용: 4(0.493) -> 4(0.909)\n",
            "캐스케이드 사용: 7(0.298) -> 4(0.525)\n",
            "캐스케이드 사용: 4(0.279) -> 4(0.542)\n",
            "캐스케이드 사용: 3(0.559) -> 7(0.396)\n",
            "캐스케이드 사용: 3(0.335) -> 14(0.470)\n"
          ]
        },
        {
          "name": "stderr",
          "output_type": "stream",
          "text": [
            "Cascade Prediction:  17%|█▋        | 17/99 [00:28<02:17,  1.67s/it]"
          ]
        },
        {
          "name": "stdout",
          "output_type": "stream",
          "text": [
            "캐스케이드 사용: 7(0.364) -> 3(0.458)\n",
            "캐스케이드 사용: 3(0.480) -> 3(0.502)\n",
            "캐스케이드 사용: 7(0.536) -> 3(0.457)\n",
            "캐스케이드 사용: 14(0.366) -> 14(0.426)\n",
            "캐스케이드 사용: 7(0.497) -> 7(0.801)\n"
          ]
        },
        {
          "name": "stderr",
          "output_type": "stream",
          "text": [
            "Cascade Prediction:  18%|█▊        | 18/99 [00:30<02:14,  1.66s/it]"
          ]
        },
        {
          "name": "stdout",
          "output_type": "stream",
          "text": [
            "캐스케이드 사용: 7(0.372) -> 14(0.354)\n",
            "캐스케이드 사용: 14(0.400) -> 14(0.749)\n",
            "캐스케이드 사용: 7(0.489) -> 7(0.694)\n",
            "캐스케이드 사용: 3(0.653) -> 3(0.585)\n",
            "캐스케이드 사용: 3(0.572) -> 3(0.521)\n",
            "캐스케이드 사용: 3(0.609) -> 3(0.643)\n",
            "캐스케이드 사용: 7(0.392) -> 7(0.458)\n",
            "캐스케이드 사용: 3(0.527) -> 3(0.518)\n",
            "캐스케이드 사용: 14(0.429) -> 14(0.516)\n",
            "캐스케이드 사용: 7(0.514) -> 7(0.831)\n",
            "캐스케이드 사용: 7(0.617) -> 7(0.946)\n",
            "캐스케이드 사용: 7(0.343) -> 7(0.507)\n"
          ]
        },
        {
          "name": "stderr",
          "output_type": "stream",
          "text": [
            "Cascade Prediction:  19%|█▉        | 19/99 [00:32<02:16,  1.71s/it]"
          ]
        },
        {
          "name": "stdout",
          "output_type": "stream",
          "text": [
            "캐스케이드 사용: 7(0.293) -> 4(0.311)\n",
            "캐스케이드 사용: 3(0.326) -> 14(0.459)\n",
            "캐스케이드 사용: 4(0.370) -> 7(0.552)\n",
            "캐스케이드 사용: 3(0.510) -> 3(0.755)\n",
            "캐스케이드 사용: 3(0.614) -> 3(0.726)\n",
            "캐스케이드 사용: 3(0.534) -> 3(0.408)\n",
            "캐스케이드 사용: 3(0.260) -> 3(0.431)\n"
          ]
        },
        {
          "name": "stderr",
          "output_type": "stream",
          "text": [
            "Cascade Prediction:  20%|██        | 20/99 [00:33<02:13,  1.70s/it]"
          ]
        },
        {
          "name": "stdout",
          "output_type": "stream",
          "text": [
            "캐스케이드 사용: 7(0.375) -> 3(0.519)\n",
            "캐스케이드 사용: 7(0.281) -> 14(0.382)\n",
            "캐스케이드 사용: 7(0.406) -> 14(0.398)\n",
            "캐스케이드 사용: 14(0.490) -> 14(0.761)\n",
            "캐스케이드 사용: 4(0.464) -> 4(0.533)\n"
          ]
        },
        {
          "name": "stderr",
          "output_type": "stream",
          "text": [
            "Cascade Prediction:  21%|██        | 21/99 [00:35<02:10,  1.68s/it]"
          ]
        },
        {
          "name": "stdout",
          "output_type": "stream",
          "text": [
            "캐스케이드 사용: 4(0.461) -> 4(0.354)\n",
            "캐스케이드 사용: 7(0.577) -> 14(0.414)\n",
            "캐스케이드 사용: 3(0.484) -> 3(0.735)\n",
            "캐스케이드 사용: 7(0.360) -> 3(0.550)\n",
            "캐스케이드 사용: 7(0.279) -> 3(0.321)\n",
            "캐스케이드 사용: 3(0.493) -> 3(0.676)\n",
            "캐스케이드 사용: 7(0.454) -> 7(0.721)\n"
          ]
        },
        {
          "name": "stderr",
          "output_type": "stream",
          "text": [
            "Cascade Prediction:  22%|██▏       | 22/99 [00:37<02:08,  1.68s/it]"
          ]
        },
        {
          "name": "stdout",
          "output_type": "stream",
          "text": [
            "캐스케이드 사용: 3(0.441) -> 7(0.396)\n",
            "캐스케이드 사용: 4(0.392) -> 4(0.606)\n",
            "캐스케이드 사용: 4(0.579) -> 4(0.646)\n",
            "캐스케이드 사용: 7(0.329) -> 14(0.525)\n",
            "캐스케이드 사용: 7(0.305) -> 14(0.333)\n",
            "캐스케이드 사용: 14(0.309) -> 14(0.430)\n",
            "캐스케이드 사용: 4(0.289) -> 14(0.376)\n",
            "캐스케이드 사용: 14(0.299) -> 14(0.672)\n"
          ]
        },
        {
          "name": "stderr",
          "output_type": "stream",
          "text": [
            "Cascade Prediction:  23%|██▎       | 23/99 [00:38<02:07,  1.68s/it]"
          ]
        },
        {
          "name": "stdout",
          "output_type": "stream",
          "text": [
            "캐스케이드 사용: 4(0.462) -> 4(0.790)\n",
            "캐스케이드 사용: 4(0.481) -> 4(0.591)\n",
            "캐스케이드 사용: 7(0.425) -> 4(0.465)\n",
            "캐스케이드 사용: 14(0.629) -> 14(0.821)\n",
            "캐스케이드 사용: 14(0.300) -> 4(0.619)\n",
            "캐스케이드 사용: 3(0.498) -> 7(0.531)\n",
            "캐스케이드 사용: 4(0.304) -> 3(0.468)\n",
            "캐스케이드 사용: 4(0.645) -> 4(0.954)\n"
          ]
        },
        {
          "name": "stderr",
          "output_type": "stream",
          "text": [
            "Cascade Prediction:  24%|██▍       | 24/99 [00:40<02:06,  1.69s/it]"
          ]
        },
        {
          "name": "stdout",
          "output_type": "stream",
          "text": [
            "캐스케이드 사용: 14(0.256) -> 14(0.364)\n",
            "캐스케이드 사용: 3(0.588) -> 3(0.691)\n",
            "캐스케이드 사용: 7(0.383) -> 3(0.509)\n",
            "캐스케이드 사용: 7(0.638) -> 7(0.600)\n",
            "캐스케이드 사용: 3(0.431) -> 3(0.667)\n",
            "캐스케이드 사용: 7(0.324) -> 14(0.423)\n",
            "캐스케이드 사용: 7(0.392) -> 14(0.417)\n"
          ]
        },
        {
          "name": "stderr",
          "output_type": "stream",
          "text": [
            "Cascade Prediction:  25%|██▌       | 25/99 [00:42<02:05,  1.70s/it]"
          ]
        },
        {
          "name": "stdout",
          "output_type": "stream",
          "text": [
            "캐스케이드 사용: 3(0.421) -> 7(0.387)\n",
            "캐스케이드 사용: 4(0.392) -> 4(0.708)\n",
            "캐스케이드 사용: 4(0.291) -> 7(0.635)\n",
            "캐스케이드 사용: 4(0.403) -> 4(0.677)\n",
            "캐스케이드 사용: 3(0.487) -> 3(0.662)\n",
            "캐스케이드 사용: 4(0.680) -> 4(0.921)\n"
          ]
        },
        {
          "name": "stderr",
          "output_type": "stream",
          "text": [
            "Cascade Prediction:  26%|██▋       | 26/99 [00:43<02:02,  1.68s/it]"
          ]
        },
        {
          "name": "stdout",
          "output_type": "stream",
          "text": [
            "캐스케이드 사용: 3(0.623) -> 3(0.829)\n",
            "캐스케이드 사용: 7(0.225) -> 7(0.302)\n",
            "캐스케이드 사용: 3(0.552) -> 3(0.637)\n",
            "캐스케이드 사용: 3(0.659) -> 3(0.607)\n",
            "캐스케이드 사용: 4(0.564) -> 4(0.840)\n",
            "캐스케이드 사용: 7(0.357) -> 4(0.507)\n",
            "캐스케이드 사용: 4(0.559) -> 4(0.972)\n"
          ]
        },
        {
          "name": "stderr",
          "output_type": "stream",
          "text": [
            "Cascade Prediction:  27%|██▋       | 27/99 [00:45<02:01,  1.68s/it]"
          ]
        },
        {
          "name": "stdout",
          "output_type": "stream",
          "text": [
            "캐스케이드 사용: 7(0.684) -> 7(0.794)\n",
            "캐스케이드 사용: 3(0.454) -> 7(0.513)\n",
            "캐스케이드 사용: 7(0.462) -> 7(0.698)\n",
            "캐스케이드 사용: 4(0.368) -> 4(0.648)\n"
          ]
        },
        {
          "name": "stderr",
          "output_type": "stream",
          "text": [
            "Cascade Prediction:  28%|██▊       | 28/99 [00:47<01:58,  1.67s/it]"
          ]
        },
        {
          "name": "stdout",
          "output_type": "stream",
          "text": [
            "캐스케이드 사용: 3(0.582) -> 3(0.461)\n",
            "캐스케이드 사용: 4(0.436) -> 4(0.467)\n",
            "캐스케이드 사용: 4(0.468) -> 4(0.580)\n"
          ]
        },
        {
          "name": "stderr",
          "output_type": "stream",
          "text": [
            "Cascade Prediction:  29%|██▉       | 29/99 [00:48<01:53,  1.63s/it]"
          ]
        },
        {
          "name": "stdout",
          "output_type": "stream",
          "text": [
            "캐스케이드 사용: 4(0.472) -> 14(0.716)\n",
            "캐스케이드 사용: 3(0.615) -> 3(0.465)\n",
            "캐스케이드 사용: 3(0.642) -> 3(0.603)\n",
            "캐스케이드 사용: 3(0.530) -> 3(0.313)\n",
            "캐스케이드 사용: 7(0.340) -> 3(0.442)\n",
            "캐스케이드 사용: 4(0.316) -> 3(0.678)\n",
            "캐스케이드 사용: 4(0.672) -> 4(0.957)\n",
            "캐스케이드 사용: 4(0.490) -> 4(0.904)\n",
            "캐스케이드 사용: 4(0.632) -> 4(0.862)\n",
            "캐스케이드 사용: 7(0.487) -> 7(0.591)\n",
            "캐스케이드 사용: 3(0.585) -> 3(0.541)\n"
          ]
        },
        {
          "name": "stderr",
          "output_type": "stream",
          "text": [
            "Cascade Prediction:  30%|███       | 30/99 [00:50<01:55,  1.68s/it]"
          ]
        },
        {
          "name": "stdout",
          "output_type": "stream",
          "text": [
            "캐스케이드 사용: 3(0.647) -> 7(0.456)\n",
            "캐스케이드 사용: 4(0.486) -> 4(0.826)\n",
            "캐스케이드 사용: 14(0.374) -> 14(0.748)\n",
            "캐스케이드 사용: 7(0.330) -> 4(0.361)\n",
            "캐스케이드 사용: 7(0.409) -> 4(0.369)\n"
          ]
        },
        {
          "name": "stderr",
          "output_type": "stream",
          "text": [
            "Cascade Prediction:  31%|███▏      | 31/99 [00:52<01:53,  1.67s/it]"
          ]
        },
        {
          "name": "stdout",
          "output_type": "stream",
          "text": [
            "캐스케이드 사용: 4(0.339) -> 4(0.578)\n",
            "캐스케이드 사용: 4(0.416) -> 4(0.435)\n",
            "캐스케이드 사용: 7(0.225) -> 4(0.513)\n",
            "캐스케이드 사용: 7(0.282) -> 7(0.584)\n",
            "캐스케이드 사용: 7(0.488) -> 7(0.803)\n",
            "캐스케이드 사용: 7(0.647) -> 7(0.898)\n"
          ]
        },
        {
          "name": "stderr",
          "output_type": "stream",
          "text": [
            "Cascade Prediction:  32%|███▏      | 32/99 [00:53<01:52,  1.67s/it]"
          ]
        },
        {
          "name": "stdout",
          "output_type": "stream",
          "text": [
            "캐스케이드 사용: 3(0.470) -> 14(0.656)\n",
            "캐스케이드 사용: 7(0.423) -> 7(0.447)\n",
            "캐스케이드 사용: 7(0.316) -> 3(0.312)\n",
            "캐스케이드 사용: 3(0.300) -> 7(0.339)\n",
            "캐스케이드 사용: 14(0.389) -> 4(0.947)\n",
            "캐스케이드 사용: 4(0.429) -> 14(0.545)\n"
          ]
        },
        {
          "name": "stderr",
          "output_type": "stream",
          "text": [
            "Cascade Prediction:  33%|███▎      | 33/99 [00:55<01:49,  1.66s/it]"
          ]
        },
        {
          "name": "stdout",
          "output_type": "stream",
          "text": [
            "캐스케이드 사용: 3(0.486) -> 7(0.555)\n",
            "캐스케이드 사용: 3(0.629) -> 3(0.657)\n",
            "캐스케이드 사용: 3(0.690) -> 3(0.728)\n",
            "캐스케이드 사용: 4(0.453) -> 4(0.794)\n",
            "캐스케이드 사용: 7(0.470) -> 4(0.476)\n",
            "캐스케이드 사용: 4(0.611) -> 4(0.927)\n"
          ]
        },
        {
          "name": "stderr",
          "output_type": "stream",
          "text": [
            "Cascade Prediction:  34%|███▍      | 34/99 [00:57<01:47,  1.66s/it]"
          ]
        },
        {
          "name": "stdout",
          "output_type": "stream",
          "text": [
            "캐스케이드 사용: 4(0.640) -> 4(0.866)\n",
            "캐스케이드 사용: 7(0.464) -> 7(0.740)\n",
            "캐스케이드 사용: 7(0.467) -> 3(0.409)\n",
            "캐스케이드 사용: 3(0.668) -> 3(0.720)\n",
            "캐스케이드 사용: 3(0.217) -> 3(0.619)\n"
          ]
        },
        {
          "name": "stderr",
          "output_type": "stream",
          "text": [
            "Cascade Prediction:  35%|███▌      | 35/99 [00:58<01:45,  1.65s/it]"
          ]
        },
        {
          "name": "stdout",
          "output_type": "stream",
          "text": [
            "캐스케이드 사용: 3(0.513) -> 7(0.534)\n",
            "캐스케이드 사용: 3(0.406) -> 7(0.570)\n",
            "캐스케이드 사용: 7(0.529) -> 7(0.678)\n",
            "캐스케이드 사용: 4(0.425) -> 4(0.534)\n",
            "캐스케이드 사용: 7(0.678) -> 7(0.832)\n",
            "캐스케이드 사용: 7(0.660) -> 7(0.976)\n"
          ]
        },
        {
          "name": "stderr",
          "output_type": "stream",
          "text": [
            "Cascade Prediction:  36%|███▋      | 36/99 [01:00<01:43,  1.65s/it]"
          ]
        },
        {
          "name": "stdout",
          "output_type": "stream",
          "text": [
            "캐스케이드 사용: 3(0.233) -> 14(0.355)\n",
            "캐스케이드 사용: 4(0.254) -> 4(0.724)\n"
          ]
        },
        {
          "name": "stderr",
          "output_type": "stream",
          "text": [
            "Cascade Prediction:  37%|███▋      | 37/99 [01:02<01:40,  1.63s/it]"
          ]
        },
        {
          "name": "stdout",
          "output_type": "stream",
          "text": [
            "캐스케이드 사용: 3(0.700) -> 3(0.625)\n",
            "캐스케이드 사용: 4(0.691) -> 4(0.877)\n",
            "캐스케이드 사용: 4(0.540) -> 4(0.893)\n",
            "캐스케이드 사용: 14(0.596) -> 14(0.619)\n",
            "캐스케이드 사용: 14(0.588) -> 14(0.843)\n",
            "캐스케이드 사용: 3(0.366) -> 3(0.398)\n",
            "캐스케이드 사용: 3(0.653) -> 3(0.652)\n"
          ]
        },
        {
          "name": "stderr",
          "output_type": "stream",
          "text": [
            "Cascade Prediction:  38%|███▊      | 38/99 [01:03<01:39,  1.64s/it]"
          ]
        },
        {
          "name": "stdout",
          "output_type": "stream",
          "text": [
            "캐스케이드 사용: 3(0.522) -> 7(0.612)\n",
            "캐스케이드 사용: 7(0.337) -> 7(0.536)\n",
            "캐스케이드 사용: 4(0.521) -> 4(0.898)\n",
            "캐스케이드 사용: 7(0.474) -> 7(0.415)\n",
            "캐스케이드 사용: 14(0.389) -> 14(0.407)\n",
            "캐스케이드 사용: 4(0.538) -> 4(0.811)\n"
          ]
        },
        {
          "name": "stderr",
          "output_type": "stream",
          "text": [
            "Cascade Prediction:  39%|███▉      | 39/99 [01:05<01:38,  1.64s/it]"
          ]
        },
        {
          "name": "stdout",
          "output_type": "stream",
          "text": [
            "캐스케이드 사용: 7(0.623) -> 7(0.810)\n",
            "캐스케이드 사용: 3(0.666) -> 7(0.523)\n",
            "캐스케이드 사용: 4(0.507) -> 4(0.575)\n",
            "캐스케이드 사용: 7(0.317) -> 7(0.498)\n",
            "캐스케이드 사용: 14(0.390) -> 14(0.485)\n",
            "캐스케이드 사용: 14(0.497) -> 14(0.525)\n",
            "캐스케이드 사용: 3(0.512) -> 7(0.622)\n",
            "캐스케이드 사용: 14(0.229) -> 14(0.472)\n"
          ]
        },
        {
          "name": "stderr",
          "output_type": "stream",
          "text": [
            "Cascade Prediction:  40%|████      | 40/99 [01:07<01:38,  1.67s/it]"
          ]
        },
        {
          "name": "stdout",
          "output_type": "stream",
          "text": [
            "캐스케이드 사용: 3(0.478) -> 7(0.647)\n",
            "캐스케이드 사용: 7(0.407) -> 7(0.589)\n",
            "캐스케이드 사용: 7(0.364) -> 3(0.394)\n",
            "캐스케이드 사용: 14(0.367) -> 14(0.473)\n",
            "캐스케이드 사용: 3(0.675) -> 7(0.521)\n"
          ]
        },
        {
          "name": "stderr",
          "output_type": "stream",
          "text": [
            "Cascade Prediction:  41%|████▏     | 41/99 [01:08<01:36,  1.66s/it]"
          ]
        },
        {
          "name": "stdout",
          "output_type": "stream",
          "text": [
            "캐스케이드 사용: 7(0.273) -> 3(0.630)\n",
            "캐스케이드 사용: 14(0.351) -> 3(0.361)\n",
            "캐스케이드 사용: 7(0.420) -> 3(0.385)\n",
            "캐스케이드 사용: 3(0.549) -> 3(0.719)\n",
            "캐스케이드 사용: 3(0.512) -> 3(0.688)\n",
            "캐스케이드 사용: 7(0.685) -> 7(0.558)\n"
          ]
        },
        {
          "name": "stderr",
          "output_type": "stream",
          "text": [
            "Cascade Prediction:  42%|████▏     | 42/99 [01:10<01:34,  1.66s/it]"
          ]
        },
        {
          "name": "stdout",
          "output_type": "stream",
          "text": [
            "캐스케이드 사용: 3(0.513) -> 3(0.544)\n",
            "캐스케이드 사용: 7(0.414) -> 7(0.629)\n",
            "캐스케이드 사용: 7(0.682) -> 7(0.706)\n",
            "캐스케이드 사용: 3(0.571) -> 3(0.455)\n",
            "캐스케이드 사용: 7(0.451) -> 7(0.385)\n",
            "캐스케이드 사용: 7(0.563) -> 7(0.811)\n"
          ]
        },
        {
          "name": "stderr",
          "output_type": "stream",
          "text": [
            "Cascade Prediction:  43%|████▎     | 43/99 [01:12<01:33,  1.67s/it]"
          ]
        },
        {
          "name": "stdout",
          "output_type": "stream",
          "text": [
            "캐스케이드 사용: 3(0.353) -> 7(0.607)\n",
            "캐스케이드 사용: 7(0.546) -> 7(0.485)\n",
            "캐스케이드 사용: 7(0.368) -> 3(0.331)\n",
            "캐스케이드 사용: 7(0.412) -> 3(0.626)\n",
            "캐스케이드 사용: 7(0.317) -> 14(0.428)\n",
            "캐스케이드 사용: 3(0.275) -> 7(0.310)\n",
            "캐스케이드 사용: 3(0.466) -> 7(0.390)\n",
            "캐스케이드 사용: 4(0.492) -> 4(0.364)\n"
          ]
        },
        {
          "name": "stderr",
          "output_type": "stream",
          "text": [
            "Cascade Prediction:  44%|████▍     | 44/99 [01:13<01:32,  1.68s/it]"
          ]
        },
        {
          "name": "stdout",
          "output_type": "stream",
          "text": [
            "캐스케이드 사용: 7(0.354) -> 3(0.449)\n",
            "캐스케이드 사용: 7(0.378) -> 3(0.520)\n",
            "캐스케이드 사용: 7(0.378) -> 7(0.506)\n",
            "캐스케이드 사용: 14(0.268) -> 4(0.462)\n",
            "캐스케이드 사용: 4(0.683) -> 4(0.769)\n",
            "캐스케이드 사용: 7(0.463) -> 7(0.440)\n"
          ]
        },
        {
          "name": "stderr",
          "output_type": "stream",
          "text": [
            "Cascade Prediction:  45%|████▌     | 45/99 [01:15<01:30,  1.69s/it]"
          ]
        },
        {
          "name": "stdout",
          "output_type": "stream",
          "text": [
            "캐스케이드 사용: 7(0.519) -> 3(0.560)\n",
            "캐스케이드 사용: 7(0.461) -> 14(0.601)\n",
            "캐스케이드 사용: 4(0.468) -> 4(0.703)\n",
            "캐스케이드 사용: 7(0.465) -> 7(0.493)\n",
            "캐스케이드 사용: 4(0.399) -> 4(0.904)\n",
            "캐스케이드 사용: 7(0.328) -> 7(0.379)\n"
          ]
        },
        {
          "name": "stderr",
          "output_type": "stream",
          "text": [
            "Cascade Prediction:  46%|████▋     | 46/99 [01:17<01:28,  1.66s/it]"
          ]
        },
        {
          "name": "stdout",
          "output_type": "stream",
          "text": [
            "캐스케이드 사용: 3(0.568) -> 7(0.459)\n",
            "캐스케이드 사용: 7(0.534) -> 7(0.555)\n",
            "캐스케이드 사용: 7(0.247) -> 4(0.412)\n",
            "캐스케이드 사용: 3(0.556) -> 3(0.380)\n"
          ]
        },
        {
          "name": "stderr",
          "output_type": "stream",
          "text": [
            "Cascade Prediction:  47%|████▋     | 47/99 [01:18<01:25,  1.64s/it]"
          ]
        },
        {
          "name": "stdout",
          "output_type": "stream",
          "text": [
            "캐스케이드 사용: 4(0.693) -> 4(0.719)\n",
            "캐스케이드 사용: 7(0.178) -> 14(0.371)\n",
            "캐스케이드 사용: 7(0.683) -> 7(0.849)\n",
            "캐스케이드 사용: 4(0.673) -> 4(0.821)\n",
            "캐스케이드 사용: 7(0.692) -> 7(0.635)\n",
            "캐스케이드 사용: 7(0.325) -> 7(0.355)\n"
          ]
        },
        {
          "name": "stderr",
          "output_type": "stream",
          "text": [
            "Cascade Prediction:  48%|████▊     | 48/99 [01:20<01:24,  1.65s/it]"
          ]
        },
        {
          "name": "stdout",
          "output_type": "stream",
          "text": [
            "캐스케이드 사용: 3(0.481) -> 4(0.452)\n",
            "캐스케이드 사용: 3(0.546) -> 3(0.498)\n",
            "캐스케이드 사용: 7(0.467) -> 7(0.478)\n",
            "캐스케이드 사용: 4(0.373) -> 4(0.785)\n",
            "캐스케이드 사용: 4(0.508) -> 4(0.461)\n",
            "캐스케이드 사용: 3(0.561) -> 3(0.490)\n",
            "캐스케이드 사용: 4(0.320) -> 4(0.461)\n"
          ]
        },
        {
          "name": "stderr",
          "output_type": "stream",
          "text": [
            "Cascade Prediction:  49%|████▉     | 49/99 [01:22<01:23,  1.66s/it]"
          ]
        },
        {
          "name": "stdout",
          "output_type": "stream",
          "text": [
            "캐스케이드 사용: 4(0.289) -> 4(0.554)\n",
            "캐스케이드 사용: 7(0.603) -> 7(0.742)\n",
            "캐스케이드 사용: 3(0.472) -> 3(0.569)\n",
            "캐스케이드 사용: 7(0.609) -> 7(0.666)\n",
            "캐스케이드 사용: 7(0.362) -> 3(0.512)\n",
            "캐스케이드 사용: 7(0.410) -> 14(0.566)\n",
            "캐스케이드 사용: 4(0.260) -> 4(0.540)\n"
          ]
        },
        {
          "name": "stderr",
          "output_type": "stream",
          "text": [
            "Cascade Prediction:  51%|█████     | 50/99 [01:23<01:22,  1.68s/it]"
          ]
        },
        {
          "name": "stdout",
          "output_type": "stream",
          "text": [
            "캐스케이드 사용: 7(0.443) -> 7(0.642)\n",
            "캐스케이드 사용: 14(0.271) -> 3(0.429)\n",
            "캐스케이드 사용: 7(0.393) -> 7(0.393)\n",
            "캐스케이드 사용: 3(0.656) -> 3(0.638)\n",
            "캐스케이드 사용: 7(0.376) -> 14(0.438)\n",
            "캐스케이드 사용: 3(0.432) -> 7(0.786)\n",
            "캐스케이드 사용: 3(0.557) -> 3(0.826)\n"
          ]
        },
        {
          "name": "stderr",
          "output_type": "stream",
          "text": [
            "Cascade Prediction:  52%|█████▏    | 51/99 [01:25<01:20,  1.68s/it]"
          ]
        },
        {
          "name": "stdout",
          "output_type": "stream",
          "text": [
            "캐스케이드 사용: 4(0.287) -> 4(0.716)\n",
            "캐스케이드 사용: 7(0.332) -> 3(0.339)\n",
            "캐스케이드 사용: 7(0.261) -> 7(0.385)\n",
            "캐스케이드 사용: 4(0.603) -> 4(0.838)\n",
            "캐스케이드 사용: 4(0.260) -> 7(0.373)\n",
            "캐스케이드 사용: 7(0.543) -> 3(0.430)\n"
          ]
        },
        {
          "name": "stderr",
          "output_type": "stream",
          "text": [
            "Cascade Prediction:  53%|█████▎    | 52/99 [01:27<01:18,  1.68s/it]"
          ]
        },
        {
          "name": "stdout",
          "output_type": "stream",
          "text": [
            "캐스케이드 사용: 14(0.653) -> 14(0.818)\n",
            "캐스케이드 사용: 3(0.490) -> 7(0.538)\n",
            "캐스케이드 사용: 3(0.647) -> 3(0.892)\n",
            "캐스케이드 사용: 7(0.416) -> 4(0.376)\n",
            "캐스케이드 사용: 7(0.277) -> 14(0.389)\n",
            "캐스케이드 사용: 7(0.501) -> 7(0.420)\n",
            "캐스케이드 사용: 7(0.608) -> 7(0.799)\n",
            "캐스케이드 사용: 3(0.591) -> 3(0.594)\n"
          ]
        },
        {
          "name": "stderr",
          "output_type": "stream",
          "text": [
            "Cascade Prediction:  54%|█████▎    | 53/99 [01:28<01:17,  1.68s/it]"
          ]
        },
        {
          "name": "stdout",
          "output_type": "stream",
          "text": [
            "캐스케이드 사용: 4(0.575) -> 4(0.716)\n",
            "캐스케이드 사용: 4(0.287) -> 4(0.559)\n",
            "캐스케이드 사용: 7(0.424) -> 7(0.774)\n",
            "캐스케이드 사용: 14(0.319) -> 14(0.673)\n",
            "캐스케이드 사용: 14(0.414) -> 14(0.490)\n"
          ]
        },
        {
          "name": "stderr",
          "output_type": "stream",
          "text": [
            "Cascade Prediction:  55%|█████▍    | 54/99 [01:30<01:15,  1.68s/it]"
          ]
        },
        {
          "name": "stdout",
          "output_type": "stream",
          "text": [
            "캐스케이드 사용: 14(0.321) -> 4(0.927)\n",
            "캐스케이드 사용: 3(0.348) -> 7(0.411)\n",
            "캐스케이드 사용: 14(0.182) -> 4(0.479)\n",
            "캐스케이드 사용: 7(0.352) -> 4(0.722)\n",
            "캐스케이드 사용: 7(0.507) -> 7(0.443)\n",
            "캐스케이드 사용: 4(0.303) -> 3(0.534)\n",
            "캐스케이드 사용: 4(0.596) -> 4(0.733)\n",
            "캐스케이드 사용: 3(0.303) -> 4(0.297)\n"
          ]
        },
        {
          "name": "stderr",
          "output_type": "stream",
          "text": [
            "Cascade Prediction:  56%|█████▌    | 55/99 [01:32<01:14,  1.70s/it]"
          ]
        },
        {
          "name": "stdout",
          "output_type": "stream",
          "text": [
            "캐스케이드 사용: 7(0.294) -> 7(0.320)\n",
            "캐스케이드 사용: 14(0.282) -> 14(0.524)\n",
            "캐스케이드 사용: 7(0.467) -> 3(0.456)\n",
            "캐스케이드 사용: 14(0.494) -> 14(0.584)\n",
            "캐스케이드 사용: 7(0.440) -> 3(0.536)\n",
            "캐스케이드 사용: 3(0.517) -> 3(0.477)\n"
          ]
        },
        {
          "name": "stderr",
          "output_type": "stream",
          "text": [
            "Cascade Prediction:  57%|█████▋    | 56/99 [01:33<01:13,  1.70s/it]"
          ]
        },
        {
          "name": "stdout",
          "output_type": "stream",
          "text": [
            "캐스케이드 사용: 14(0.318) -> 3(0.386)\n",
            "캐스케이드 사용: 7(0.543) -> 7(0.410)\n",
            "캐스케이드 사용: 3(0.572) -> 7(0.612)\n",
            "캐스케이드 사용: 7(0.493) -> 7(0.661)\n",
            "캐스케이드 사용: 3(0.634) -> 3(0.566)\n"
          ]
        },
        {
          "name": "stderr",
          "output_type": "stream",
          "text": [
            "Cascade Prediction:  58%|█████▊    | 57/99 [01:35<01:10,  1.68s/it]"
          ]
        },
        {
          "name": "stdout",
          "output_type": "stream",
          "text": [
            "캐스케이드 사용: 7(0.306) -> 7(0.427)\n",
            "캐스케이드 사용: 7(0.484) -> 4(0.307)\n",
            "캐스케이드 사용: 4(0.573) -> 4(0.501)\n",
            "캐스케이드 사용: 14(0.307) -> 14(0.410)\n",
            "캐스케이드 사용: 7(0.612) -> 7(0.871)\n"
          ]
        },
        {
          "name": "stderr",
          "output_type": "stream",
          "text": [
            "Cascade Prediction:  59%|█████▊    | 58/99 [01:37<01:08,  1.66s/it]"
          ]
        },
        {
          "name": "stdout",
          "output_type": "stream",
          "text": [
            "캐스케이드 사용: 7(0.266) -> 3(0.369)\n",
            "캐스케이드 사용: 4(0.424) -> 14(0.528)\n",
            "캐스케이드 사용: 7(0.323) -> 7(0.470)\n",
            "캐스케이드 사용: 3(0.521) -> 7(0.528)\n"
          ]
        },
        {
          "name": "stderr",
          "output_type": "stream",
          "text": [
            "Cascade Prediction:  60%|█████▉    | 59/99 [01:38<01:06,  1.65s/it]"
          ]
        },
        {
          "name": "stdout",
          "output_type": "stream",
          "text": [
            "캐스케이드 사용: 3(0.521) -> 3(0.651)\n",
            "캐스케이드 사용: 3(0.566) -> 3(0.557)\n",
            "캐스케이드 사용: 7(0.443) -> 3(0.415)\n",
            "캐스케이드 사용: 4(0.331) -> 4(0.452)\n",
            "캐스케이드 사용: 3(0.425) -> 3(0.326)\n",
            "캐스케이드 사용: 7(0.423) -> 7(0.429)\n",
            "캐스케이드 사용: 4(0.675) -> 4(0.853)\n",
            "캐스케이드 사용: 7(0.441) -> 7(0.525)\n"
          ]
        },
        {
          "name": "stderr",
          "output_type": "stream",
          "text": [
            "Cascade Prediction:  61%|██████    | 60/99 [01:40<01:04,  1.67s/it]"
          ]
        },
        {
          "name": "stdout",
          "output_type": "stream",
          "text": [
            "캐스케이드 사용: 4(0.486) -> 4(0.676)\n",
            "캐스케이드 사용: 7(0.544) -> 7(0.579)\n",
            "캐스케이드 사용: 14(0.268) -> 4(0.506)\n",
            "캐스케이드 사용: 3(0.618) -> 3(0.635)\n",
            "캐스케이드 사용: 7(0.343) -> 7(0.413)\n"
          ]
        },
        {
          "name": "stderr",
          "output_type": "stream",
          "text": [
            "Cascade Prediction:  62%|██████▏   | 61/99 [01:42<01:04,  1.69s/it]"
          ]
        },
        {
          "name": "stdout",
          "output_type": "stream",
          "text": [
            "캐스케이드 사용: 4(0.393) -> 14(0.362)\n",
            "캐스케이드 사용: 3(0.499) -> 3(0.350)\n",
            "캐스케이드 사용: 14(0.380) -> 14(0.459)\n",
            "캐스케이드 사용: 14(0.363) -> 14(0.377)\n",
            "캐스케이드 사용: 7(0.439) -> 7(0.555)\n",
            "캐스케이드 사용: 7(0.373) -> 14(0.283)\n",
            "캐스케이드 사용: 7(0.678) -> 7(0.655)\n",
            "캐스케이드 사용: 7(0.433) -> 3(0.454)\n"
          ]
        },
        {
          "name": "stderr",
          "output_type": "stream",
          "text": [
            "Cascade Prediction:  63%|██████▎   | 62/99 [01:44<01:02,  1.69s/it]"
          ]
        },
        {
          "name": "stdout",
          "output_type": "stream",
          "text": [
            "캐스케이드 사용: 3(0.410) -> 14(0.520)\n",
            "캐스케이드 사용: 7(0.448) -> 7(0.405)\n",
            "캐스케이드 사용: 3(0.473) -> 3(0.644)\n",
            "캐스케이드 사용: 7(0.689) -> 7(0.888)\n",
            "캐스케이드 사용: 3(0.633) -> 3(0.545)\n",
            "캐스케이드 사용: 3(0.550) -> 3(0.424)\n"
          ]
        },
        {
          "name": "stderr",
          "output_type": "stream",
          "text": [
            "Cascade Prediction:  64%|██████▎   | 63/99 [01:45<01:00,  1.69s/it]"
          ]
        },
        {
          "name": "stdout",
          "output_type": "stream",
          "text": [
            "캐스케이드 사용: 4(0.521) -> 4(0.824)\n",
            "캐스케이드 사용: 14(0.306) -> 3(0.413)\n",
            "캐스케이드 사용: 3(0.502) -> 3(0.435)\n",
            "캐스케이드 사용: 4(0.691) -> 4(0.912)\n",
            "캐스케이드 사용: 7(0.321) -> 7(0.376)\n",
            "캐스케이드 사용: 4(0.260) -> 7(0.473)\n"
          ]
        },
        {
          "name": "stderr",
          "output_type": "stream",
          "text": [
            "Cascade Prediction:  65%|██████▍   | 64/99 [01:47<00:59,  1.69s/it]"
          ]
        },
        {
          "name": "stdout",
          "output_type": "stream",
          "text": [
            "캐스케이드 사용: 7(0.276) -> 4(0.665)\n",
            "캐스케이드 사용: 14(0.231) -> 14(0.543)\n"
          ]
        },
        {
          "name": "stderr",
          "output_type": "stream",
          "text": [
            "Cascade Prediction:  66%|██████▌   | 65/99 [01:48<00:55,  1.64s/it]"
          ]
        },
        {
          "name": "stdout",
          "output_type": "stream",
          "text": [
            "캐스케이드 사용: 3(0.679) -> 3(0.780)\n",
            "캐스케이드 사용: 7(0.514) -> 3(0.526)\n",
            "캐스케이드 사용: 7(0.253) -> 7(0.492)\n",
            "캐스케이드 사용: 7(0.248) -> 7(0.339)\n",
            "캐스케이드 사용: 7(0.406) -> 7(0.529)\n"
          ]
        },
        {
          "name": "stderr",
          "output_type": "stream",
          "text": [
            "Cascade Prediction:  67%|██████▋   | 66/99 [01:50<00:54,  1.65s/it]"
          ]
        },
        {
          "name": "stdout",
          "output_type": "stream",
          "text": [
            "캐스케이드 사용: 7(0.350) -> 3(0.593)\n",
            "캐스케이드 사용: 4(0.681) -> 4(0.873)\n",
            "캐스케이드 사용: 4(0.383) -> 4(0.927)\n",
            "캐스케이드 사용: 7(0.564) -> 3(0.542)\n",
            "캐스케이드 사용: 4(0.491) -> 4(0.514)\n",
            "캐스케이드 사용: 3(0.515) -> 7(0.462)\n",
            "캐스케이드 사용: 7(0.520) -> 7(0.661)\n"
          ]
        },
        {
          "name": "stderr",
          "output_type": "stream",
          "text": [
            "Cascade Prediction:  68%|██████▊   | 67/99 [01:52<00:52,  1.65s/it]"
          ]
        },
        {
          "name": "stdout",
          "output_type": "stream",
          "text": [
            "캐스케이드 사용: 4(0.461) -> 4(0.711)\n",
            "캐스케이드 사용: 3(0.545) -> 3(0.464)\n",
            "캐스케이드 사용: 3(0.615) -> 3(0.579)\n",
            "캐스케이드 사용: 4(0.424) -> 4(0.866)\n",
            "캐스케이드 사용: 3(0.621) -> 3(0.637)\n",
            "캐스케이드 사용: 4(0.475) -> 4(0.851)\n"
          ]
        },
        {
          "name": "stderr",
          "output_type": "stream",
          "text": [
            "Cascade Prediction:  69%|██████▊   | 68/99 [01:53<00:51,  1.66s/it]"
          ]
        },
        {
          "name": "stdout",
          "output_type": "stream",
          "text": [
            "캐스케이드 사용: 4(0.386) -> 4(0.560)\n",
            "캐스케이드 사용: 3(0.567) -> 7(0.401)\n",
            "캐스케이드 사용: 7(0.302) -> 3(0.519)\n",
            "캐스케이드 사용: 3(0.392) -> 14(0.353)\n",
            "캐스케이드 사용: 14(0.333) -> 4(0.731)\n"
          ]
        },
        {
          "name": "stderr",
          "output_type": "stream",
          "text": [
            "Cascade Prediction:  70%|██████▉   | 69/99 [01:55<00:50,  1.67s/it]"
          ]
        },
        {
          "name": "stdout",
          "output_type": "stream",
          "text": [
            "캐스케이드 사용: 4(0.442) -> 4(0.792)\n",
            "캐스케이드 사용: 7(0.501) -> 3(0.445)\n",
            "캐스케이드 사용: 7(0.379) -> 7(0.631)\n",
            "캐스케이드 사용: 4(0.514) -> 4(0.815)\n",
            "캐스케이드 사용: 7(0.442) -> 3(0.395)\n",
            "캐스케이드 사용: 7(0.314) -> 7(0.519)\n",
            "캐스케이드 사용: 4(0.598) -> 4(0.708)\n"
          ]
        },
        {
          "name": "stderr",
          "output_type": "stream",
          "text": [
            "Cascade Prediction:  71%|███████   | 70/99 [01:57<00:48,  1.69s/it]"
          ]
        },
        {
          "name": "stdout",
          "output_type": "stream",
          "text": [
            "캐스케이드 사용: 3(0.398) -> 3(0.569)\n",
            "캐스케이드 사용: 4(0.499) -> 4(0.959)\n",
            "캐스케이드 사용: 4(0.495) -> 4(0.820)\n",
            "캐스케이드 사용: 3(0.633) -> 3(0.363)\n",
            "캐스케이드 사용: 4(0.371) -> 4(0.633)\n"
          ]
        },
        {
          "name": "stderr",
          "output_type": "stream",
          "text": [
            "Cascade Prediction:  72%|███████▏  | 71/99 [01:58<00:46,  1.67s/it]"
          ]
        },
        {
          "name": "stdout",
          "output_type": "stream",
          "text": [
            "캐스케이드 사용: 3(0.378) -> 3(0.737)\n",
            "캐스케이드 사용: 14(0.297) -> 14(0.641)\n",
            "캐스케이드 사용: 3(0.393) -> 3(0.571)\n",
            "캐스케이드 사용: 7(0.443) -> 14(0.482)\n"
          ]
        },
        {
          "name": "stderr",
          "output_type": "stream",
          "text": [
            "Cascade Prediction:  73%|███████▎  | 72/99 [02:00<00:44,  1.66s/it]"
          ]
        },
        {
          "name": "stdout",
          "output_type": "stream",
          "text": [
            "캐스케이드 사용: 4(0.561) -> 4(0.498)\n",
            "캐스케이드 사용: 7(0.201) -> 14(0.292)\n",
            "캐스케이드 사용: 7(0.383) -> 7(0.478)\n",
            "캐스케이드 사용: 7(0.674) -> 7(0.884)\n",
            "캐스케이드 사용: 7(0.569) -> 7(0.660)\n",
            "캐스케이드 사용: 3(0.351) -> 7(0.343)\n",
            "캐스케이드 사용: 14(0.236) -> 14(0.575)\n",
            "캐스케이드 사용: 7(0.389) -> 14(0.464)\n",
            "캐스케이드 사용: 3(0.382) -> 3(0.576)\n",
            "캐스케이드 사용: 4(0.489) -> 4(0.762)\n"
          ]
        },
        {
          "name": "stderr",
          "output_type": "stream",
          "text": [
            "Cascade Prediction:  74%|███████▎  | 73/99 [02:02<00:44,  1.70s/it]"
          ]
        },
        {
          "name": "stdout",
          "output_type": "stream",
          "text": [
            "캐스케이드 사용: 4(0.342) -> 14(0.345)\n",
            "캐스케이드 사용: 4(0.269) -> 4(0.454)\n",
            "캐스케이드 사용: 14(0.315) -> 4(0.473)\n",
            "캐스케이드 사용: 7(0.507) -> 7(0.579)\n"
          ]
        },
        {
          "name": "stderr",
          "output_type": "stream",
          "text": [
            "Cascade Prediction:  75%|███████▍  | 74/99 [02:04<00:41,  1.67s/it]"
          ]
        },
        {
          "name": "stdout",
          "output_type": "stream",
          "text": [
            "캐스케이드 사용: 3(0.414) -> 3(0.546)\n",
            "캐스케이드 사용: 3(0.506) -> 3(0.489)\n",
            "캐스케이드 사용: 4(0.556) -> 4(0.647)\n",
            "캐스케이드 사용: 14(0.605) -> 14(0.843)\n",
            "캐스케이드 사용: 3(0.485) -> 3(0.421)\n",
            "캐스케이드 사용: 14(0.399) -> 14(0.592)\n"
          ]
        },
        {
          "name": "stderr",
          "output_type": "stream",
          "text": [
            "Cascade Prediction:  76%|███████▌  | 75/99 [02:05<00:39,  1.66s/it]"
          ]
        },
        {
          "name": "stdout",
          "output_type": "stream",
          "text": [
            "캐스케이드 사용: 7(0.232) -> 7(0.522)\n",
            "캐스케이드 사용: 4(0.591) -> 4(0.944)\n",
            "캐스케이드 사용: 7(0.512) -> 7(0.483)\n",
            "캐스케이드 사용: 7(0.363) -> 3(0.405)\n",
            "캐스케이드 사용: 3(0.618) -> 3(0.778)\n",
            "캐스케이드 사용: 4(0.372) -> 4(0.772)\n",
            "캐스케이드 사용: 7(0.450) -> 7(0.555)\n"
          ]
        },
        {
          "name": "stderr",
          "output_type": "stream",
          "text": [
            "Cascade Prediction:  77%|███████▋  | 76/99 [02:07<00:38,  1.68s/it]"
          ]
        },
        {
          "name": "stdout",
          "output_type": "stream",
          "text": [
            "캐스케이드 사용: 7(0.681) -> 7(0.739)\n",
            "캐스케이드 사용: 4(0.353) -> 4(0.594)\n",
            "캐스케이드 사용: 3(0.432) -> 3(0.529)\n",
            "캐스케이드 사용: 3(0.411) -> 14(0.305)\n",
            "캐스케이드 사용: 3(0.372) -> 3(0.347)\n",
            "캐스케이드 사용: 7(0.421) -> 3(0.440)\n"
          ]
        },
        {
          "name": "stderr",
          "output_type": "stream",
          "text": [
            "Cascade Prediction:  78%|███████▊  | 77/99 [02:09<00:37,  1.68s/it]"
          ]
        },
        {
          "name": "stdout",
          "output_type": "stream",
          "text": [
            "캐스케이드 사용: 14(0.262) -> 14(0.614)\n",
            "캐스케이드 사용: 7(0.342) -> 3(0.722)\n",
            "캐스케이드 사용: 7(0.479) -> 7(0.519)\n",
            "캐스케이드 사용: 3(0.540) -> 3(0.573)\n",
            "캐스케이드 사용: 4(0.395) -> 4(0.534)\n",
            "캐스케이드 사용: 7(0.644) -> 7(0.845)\n",
            "캐스케이드 사용: 3(0.512) -> 7(0.478)\n",
            "캐스케이드 사용: 7(0.553) -> 7(0.677)\n",
            "캐스케이드 사용: 7(0.416) -> 3(0.483)\n",
            "캐스케이드 사용: 4(0.644) -> 4(0.708)\n",
            "캐스케이드 사용: 4(0.499) -> 4(0.695)\n"
          ]
        },
        {
          "name": "stderr",
          "output_type": "stream",
          "text": [
            "Cascade Prediction:  79%|███████▉  | 78/99 [02:10<00:36,  1.72s/it]"
          ]
        },
        {
          "name": "stdout",
          "output_type": "stream",
          "text": [
            "캐스케이드 사용: 3(0.623) -> 3(0.534)\n",
            "캐스케이드 사용: 4(0.608) -> 4(0.915)\n",
            "캐스케이드 사용: 7(0.330) -> 3(0.318)\n",
            "캐스케이드 사용: 3(0.393) -> 3(0.341)\n",
            "캐스케이드 사용: 7(0.576) -> 7(0.618)\n",
            "캐스케이드 사용: 7(0.243) -> 14(0.316)\n",
            "캐스케이드 사용: 7(0.554) -> 7(0.734)\n"
          ]
        },
        {
          "name": "stderr",
          "output_type": "stream",
          "text": [
            "Cascade Prediction:  80%|███████▉  | 79/99 [02:12<00:34,  1.71s/it]"
          ]
        },
        {
          "name": "stdout",
          "output_type": "stream",
          "text": [
            "캐스케이드 사용: 3(0.435) -> 3(0.467)\n",
            "캐스케이드 사용: 7(0.416) -> 7(0.569)\n",
            "캐스케이드 사용: 4(0.284) -> 14(0.300)\n",
            "캐스케이드 사용: 14(0.536) -> 14(0.819)\n",
            "캐스케이드 사용: 3(0.474) -> 7(0.440)\n",
            "캐스케이드 사용: 3(0.664) -> 3(0.880)\n",
            "캐스케이드 사용: 7(0.621) -> 7(0.655)\n"
          ]
        },
        {
          "name": "stderr",
          "output_type": "stream",
          "text": [
            "Cascade Prediction:  81%|████████  | 80/99 [02:14<00:32,  1.71s/it]"
          ]
        },
        {
          "name": "stdout",
          "output_type": "stream",
          "text": [
            "캐스케이드 사용: 14(0.274) -> 14(0.475)\n",
            "캐스케이드 사용: 4(0.444) -> 4(0.474)\n",
            "캐스케이드 사용: 3(0.443) -> 4(0.384)\n",
            "캐스케이드 사용: 3(0.463) -> 7(0.451)\n",
            "캐스케이드 사용: 7(0.298) -> 7(0.798)\n",
            "캐스케이드 사용: 7(0.452) -> 3(0.513)\n",
            "캐스케이드 사용: 3(0.302) -> 3(0.347)\n"
          ]
        },
        {
          "name": "stderr",
          "output_type": "stream",
          "text": [
            "Cascade Prediction:  82%|████████▏ | 81/99 [02:15<00:30,  1.71s/it]"
          ]
        },
        {
          "name": "stdout",
          "output_type": "stream",
          "text": [
            "캐스케이드 사용: 7(0.355) -> 14(0.322)\n",
            "캐스케이드 사용: 7(0.433) -> 4(0.429)\n"
          ]
        },
        {
          "name": "stderr",
          "output_type": "stream",
          "text": [
            "Cascade Prediction:  83%|████████▎ | 82/99 [02:17<00:28,  1.67s/it]"
          ]
        },
        {
          "name": "stdout",
          "output_type": "stream",
          "text": [
            "캐스케이드 사용: 3(0.355) -> 14(0.386)\n",
            "캐스케이드 사용: 14(0.387) -> 14(0.402)\n",
            "캐스케이드 사용: 14(0.372) -> 4(0.448)\n",
            "캐스케이드 사용: 7(0.423) -> 7(0.611)\n",
            "캐스케이드 사용: 7(0.555) -> 7(0.805)\n",
            "캐스케이드 사용: 14(0.306) -> 14(0.580)\n"
          ]
        },
        {
          "name": "stderr",
          "output_type": "stream",
          "text": [
            "Cascade Prediction:  84%|████████▍ | 83/99 [02:19<00:26,  1.68s/it]"
          ]
        },
        {
          "name": "stdout",
          "output_type": "stream",
          "text": [
            "캐스케이드 사용: 3(0.387) -> 3(0.419)\n",
            "캐스케이드 사용: 4(0.448) -> 4(0.744)\n",
            "캐스케이드 사용: 14(0.388) -> 14(0.726)\n",
            "캐스케이드 사용: 7(0.563) -> 4(0.427)\n",
            "캐스케이드 사용: 4(0.690) -> 4(0.971)\n",
            "캐스케이드 사용: 7(0.317) -> 3(0.352)\n",
            "캐스케이드 사용: 7(0.405) -> 3(0.376)\n"
          ]
        },
        {
          "name": "stderr",
          "output_type": "stream",
          "text": [
            "Cascade Prediction:  85%|████████▍ | 84/99 [02:20<00:25,  1.69s/it]"
          ]
        },
        {
          "name": "stdout",
          "output_type": "stream",
          "text": [
            "캐스케이드 사용: 4(0.694) -> 4(0.967)\n",
            "캐스케이드 사용: 7(0.340) -> 14(0.435)\n",
            "캐스케이드 사용: 7(0.492) -> 7(0.741)\n",
            "캐스케이드 사용: 3(0.341) -> 14(0.683)\n"
          ]
        },
        {
          "name": "stderr",
          "output_type": "stream",
          "text": [
            "Cascade Prediction:  86%|████████▌ | 85/99 [02:22<00:23,  1.66s/it]"
          ]
        },
        {
          "name": "stdout",
          "output_type": "stream",
          "text": [
            "캐스케이드 사용: 3(0.662) -> 3(0.743)\n"
          ]
        },
        {
          "name": "stderr",
          "output_type": "stream",
          "text": [
            "Cascade Prediction:  87%|████████▋ | 86/99 [02:24<00:21,  1.63s/it]"
          ]
        },
        {
          "name": "stdout",
          "output_type": "stream",
          "text": [
            "캐스케이드 사용: 3(0.319) -> 3(0.578)\n",
            "캐스케이드 사용: 7(0.280) -> 4(0.336)\n",
            "캐스케이드 사용: 4(0.485) -> 4(0.820)\n",
            "캐스케이드 사용: 7(0.401) -> 7(0.421)\n",
            "캐스케이드 사용: 7(0.483) -> 3(0.426)\n"
          ]
        },
        {
          "name": "stderr",
          "output_type": "stream",
          "text": [
            "Cascade Prediction:  88%|████████▊ | 87/99 [02:25<00:19,  1.63s/it]"
          ]
        },
        {
          "name": "stdout",
          "output_type": "stream",
          "text": [
            "캐스케이드 사용: 4(0.347) -> 7(0.534)\n",
            "캐스케이드 사용: 4(0.690) -> 4(0.831)\n",
            "캐스케이드 사용: 14(0.361) -> 4(0.487)\n",
            "캐스케이드 사용: 7(0.377) -> 7(0.371)\n",
            "캐스케이드 사용: 7(0.564) -> 3(0.468)\n",
            "캐스케이드 사용: 14(0.325) -> 4(0.466)\n"
          ]
        },
        {
          "name": "stderr",
          "output_type": "stream",
          "text": [
            "Cascade Prediction:  89%|████████▉ | 88/99 [02:27<00:18,  1.65s/it]"
          ]
        },
        {
          "name": "stdout",
          "output_type": "stream",
          "text": [
            "캐스케이드 사용: 4(0.424) -> 14(0.407)\n",
            "캐스케이드 사용: 7(0.556) -> 3(0.419)\n",
            "캐스케이드 사용: 7(0.424) -> 4(0.578)\n",
            "캐스케이드 사용: 4(0.382) -> 4(0.599)\n",
            "캐스케이드 사용: 14(0.340) -> 14(0.588)\n",
            "캐스케이드 사용: 3(0.453) -> 3(0.704)\n"
          ]
        },
        {
          "name": "stderr",
          "output_type": "stream",
          "text": [
            "Cascade Prediction:  90%|████████▉ | 89/99 [02:29<00:16,  1.65s/it]"
          ]
        },
        {
          "name": "stdout",
          "output_type": "stream",
          "text": [
            "캐스케이드 사용: 3(0.335) -> 4(0.299)\n",
            "캐스케이드 사용: 4(0.541) -> 4(0.932)\n",
            "캐스케이드 사용: 7(0.638) -> 7(0.863)\n",
            "캐스케이드 사용: 4(0.444) -> 14(0.607)\n",
            "캐스케이드 사용: 7(0.495) -> 7(0.525)\n",
            "캐스케이드 사용: 4(0.511) -> 4(0.746)\n"
          ]
        },
        {
          "name": "stderr",
          "output_type": "stream",
          "text": [
            "Cascade Prediction:  91%|█████████ | 90/99 [02:30<00:14,  1.67s/it]"
          ]
        },
        {
          "name": "stdout",
          "output_type": "stream",
          "text": [
            "캐스케이드 사용: 14(0.263) -> 7(0.327)\n",
            "캐스케이드 사용: 4(0.417) -> 4(0.821)\n",
            "캐스케이드 사용: 3(0.451) -> 7(0.517)\n",
            "캐스케이드 사용: 7(0.467) -> 7(0.569)\n",
            "캐스케이드 사용: 7(0.489) -> 7(0.516)\n"
          ]
        },
        {
          "name": "stderr",
          "output_type": "stream",
          "text": [
            "Cascade Prediction:  92%|█████████▏| 91/99 [02:32<00:13,  1.66s/it]"
          ]
        },
        {
          "name": "stdout",
          "output_type": "stream",
          "text": [
            "캐스케이드 사용: 14(0.421) -> 14(0.727)\n",
            "캐스케이드 사용: 4(0.600) -> 4(0.767)\n",
            "캐스케이드 사용: 14(0.380) -> 14(0.314)\n",
            "캐스케이드 사용: 14(0.253) -> 14(0.718)\n",
            "캐스케이드 사용: 4(0.592) -> 4(0.942)\n",
            "캐스케이드 사용: 7(0.528) -> 7(0.879)\n"
          ]
        },
        {
          "name": "stderr",
          "output_type": "stream",
          "text": [
            "Cascade Prediction:  93%|█████████▎| 92/99 [02:34<00:11,  1.69s/it]"
          ]
        },
        {
          "name": "stdout",
          "output_type": "stream",
          "text": [
            "캐스케이드 사용: 7(0.305) -> 14(0.441)\n",
            "캐스케이드 사용: 4(0.335) -> 4(0.811)\n",
            "캐스케이드 사용: 7(0.482) -> 3(0.487)\n",
            "캐스케이드 사용: 7(0.556) -> 7(0.686)\n",
            "캐스케이드 사용: 14(0.399) -> 7(0.640)\n",
            "캐스케이드 사용: 4(0.620) -> 4(0.854)\n",
            "캐스케이드 사용: 14(0.449) -> 14(0.308)\n",
            "캐스케이드 사용: 3(0.506) -> 3(0.508)\n"
          ]
        },
        {
          "name": "stderr",
          "output_type": "stream",
          "text": [
            "Cascade Prediction:  94%|█████████▍| 93/99 [02:35<00:10,  1.70s/it]"
          ]
        },
        {
          "name": "stdout",
          "output_type": "stream",
          "text": [
            "캐스케이드 사용: 14(0.290) -> 14(0.607)\n",
            "캐스케이드 사용: 7(0.398) -> 3(0.646)\n",
            "캐스케이드 사용: 7(0.456) -> 3(0.516)\n",
            "캐스케이드 사용: 3(0.315) -> 7(0.377)\n",
            "캐스케이드 사용: 4(0.335) -> 4(0.772)\n",
            "캐스케이드 사용: 4(0.355) -> 4(0.688)\n",
            "캐스케이드 사용: 4(0.514) -> 4(0.724)\n",
            "캐스케이드 사용: 7(0.303) -> 14(0.314)\n"
          ]
        },
        {
          "name": "stderr",
          "output_type": "stream",
          "text": [
            "Cascade Prediction:  95%|█████████▍| 94/99 [02:37<00:08,  1.71s/it]"
          ]
        },
        {
          "name": "stdout",
          "output_type": "stream",
          "text": [
            "캐스케이드 사용: 7(0.412) -> 7(0.667)\n",
            "캐스케이드 사용: 3(0.450) -> 3(0.512)\n",
            "캐스케이드 사용: 7(0.350) -> 3(0.429)\n",
            "캐스케이드 사용: 7(0.646) -> 7(0.796)\n",
            "캐스케이드 사용: 3(0.436) -> 3(0.568)\n",
            "캐스케이드 사용: 3(0.564) -> 3(0.604)\n"
          ]
        },
        {
          "name": "stderr",
          "output_type": "stream",
          "text": [
            "Cascade Prediction:  96%|█████████▌| 95/99 [02:39<00:06,  1.70s/it]"
          ]
        },
        {
          "name": "stdout",
          "output_type": "stream",
          "text": [
            "캐스케이드 사용: 3(0.528) -> 3(0.482)\n",
            "캐스케이드 사용: 7(0.450) -> 14(0.392)\n",
            "캐스케이드 사용: 14(0.379) -> 7(0.470)\n",
            "캐스케이드 사용: 7(0.425) -> 7(0.469)\n"
          ]
        },
        {
          "name": "stderr",
          "output_type": "stream",
          "text": [
            "Cascade Prediction:  97%|█████████▋| 96/99 [02:40<00:05,  1.68s/it]"
          ]
        },
        {
          "name": "stdout",
          "output_type": "stream",
          "text": [
            "캐스케이드 사용: 7(0.465) -> 7(0.589)\n",
            "캐스케이드 사용: 3(0.402) -> 7(0.458)\n",
            "캐스케이드 사용: 7(0.420) -> 14(0.314)\n",
            "캐스케이드 사용: 7(0.404) -> 3(0.614)\n",
            "캐스케이드 사용: 3(0.280) -> 3(0.302)\n",
            "캐스케이드 사용: 3(0.380) -> 3(0.602)\n",
            "캐스케이드 사용: 14(0.454) -> 7(0.351)\n",
            "캐스케이드 사용: 7(0.505) -> 7(0.629)\n",
            "캐스케이드 사용: 4(0.309) -> 3(0.494)\n",
            "캐스케이드 사용: 7(0.296) -> 14(0.342)\n"
          ]
        },
        {
          "name": "stderr",
          "output_type": "stream",
          "text": [
            "Cascade Prediction:  98%|█████████▊| 97/99 [02:42<00:03,  1.71s/it]"
          ]
        },
        {
          "name": "stdout",
          "output_type": "stream",
          "text": [
            "캐스케이드 사용: 14(0.407) -> 3(0.484)\n",
            "캐스케이드 사용: 7(0.550) -> 7(0.703)\n",
            "캐스케이드 사용: 14(0.456) -> 14(0.526)\n",
            "캐스케이드 사용: 3(0.354) -> 3(0.458)\n",
            "캐스케이드 사용: 4(0.481) -> 4(0.743)\n",
            "캐스케이드 사용: 7(0.286) -> 4(0.389)\n",
            "캐스케이드 사용: 14(0.261) -> 4(0.641)\n"
          ]
        },
        {
          "name": "stderr",
          "output_type": "stream",
          "text": [
            "Cascade Prediction:  99%|█████████▉| 98/99 [02:44<00:01,  1.72s/it]"
          ]
        },
        {
          "name": "stdout",
          "output_type": "stream",
          "text": [
            "캐스케이드 사용: 7(0.242) -> 4(0.407)\n"
          ]
        },
        {
          "name": "stderr",
          "output_type": "stream",
          "text": [
            "Cascade Prediction: 100%|██████████| 99/99 [02:44<00:00,  1.66s/it]"
          ]
        },
        {
          "name": "stdout",
          "output_type": "stream",
          "text": [
            "\n",
            "캐스케이드 사용 통계:\n",
            "- 메인 분류기만 사용: 2534개 (80.7%)\n",
            "- 캐스케이드 사용: 606개 (19.3%)\n",
            "\n",
            "✅ 캐스케이드 예측 완료!\n",
            "📁 결과 저장: ../data/output/cascade_submission.csv\n",
            "📊 예측 통계:\n",
            "   - 평균 신뢰도: 0.7145\n",
            "   - 최소 신뢰도: 0.1773\n",
            "   - 최대 신뢰도: 0.9760\n",
            "\n",
            "📈 클래스별 예측 분포:\n",
            "   Class 0: 200개 (6.4%)\n",
            "   Class 1: 91개 (2.9%)\n",
            "   Class 2: 200개 (6.4%)\n",
            "   Class 3: 199개 (6.3%)\n",
            "   Class 4: 201개 (6.4%)\n",
            "   Class 5: 200개 (6.4%)\n",
            "   Class 6: 206개 (6.6%)\n",
            "   Class 7: 190개 (6.1%)\n",
            "   Class 8: 200개 (6.4%)\n",
            "   Class 9: 200개 (6.4%)\n",
            "   Class 10: 216개 (6.9%)\n",
            "   Class 11: 181개 (5.8%)\n",
            "   Class 12: 196개 (6.2%)\n",
            "   Class 13: 156개 (5.0%)\n",
            "   Class 14: 103개 (3.3%)\n",
            "   Class 15: 201개 (6.4%)\n",
            "   Class 16: 200개 (6.4%)\n"
          ]
        },
        {
          "name": "stderr",
          "output_type": "stream",
          "text": [
            "\n"
          ]
        }
      ],
      "source": [
        "# ========================================\n",
        "# 7. 캐스케이드 시스템으로 테스트 데이터 예측\n",
        "# ========================================\n",
        "\n",
        "# 테스트 데이터 로드\n",
        "test_df = pd.read_csv(\"./data/raw/sample_submission.csv\")\n",
        "print(f\"테스트 데이터 크기: {len(test_df)}\")\n",
        "\n",
        "# 테스트 데이터셋 생성\n",
        "test_dataset = ImageDataset(\n",
        "    test_df,\n",
        "    \"./data/raw/test/\",\n",
        "    epoch=0,\n",
        "    total_epochs=EPOCHS,\n",
        "    is_train=False  # 테스트이므로 증강 없음\n",
        ")\n",
        "\n",
        "test_loader = DataLoader(\n",
        "    test_dataset,\n",
        "    batch_size=32,  # 배치 크기 줄임\n",
        "    shuffle=False,\n",
        "    num_workers=num_workers,\n",
        "    pin_memory=True\n",
        ")\n",
        "\n",
        "print(\"캐스케이드 시스템으로 테스트 데이터 예측 시작...\")\n",
        "\n",
        "# 캐스케이드 예측 실행\n",
        "test_predictions, test_confidences, cascade_usage = cascade_classifier.predict_batch(\n",
        "    test_loader, device\n",
        ")\n",
        "\n",
        "print(f\"\\n캐스케이드 사용 통계:\")\n",
        "print(f\"- 메인 분류기만 사용: {cascade_usage['main']}개 ({cascade_usage['main']/len(test_predictions)*100:.1f}%)\")\n",
        "print(f\"- 캐스케이드 사용: {cascade_usage['cascade']}개 ({cascade_usage['cascade']/len(test_predictions)*100:.1f}%)\")\n",
        "\n",
        "# 결과 저장\n",
        "result_df = test_df.copy()\n",
        "result_df['target'] = test_predictions\n",
        "result_df['confidence'] = test_confidences\n",
        "\n",
        "print(f\"\\n✅ 캐스케이드 예측 완료!\")\n",
        "print(f\"📁 결과 저장: {output_path}\")\n",
        "print(f\"📊 예측 통계:\")\n",
        "print(f\"   - 평균 신뢰도: {np.mean(test_confidences):.4f}\")\n",
        "print(f\"   - 최소 신뢰도: {np.min(test_confidences):.4f}\")\n",
        "print(f\"   - 최대 신뢰도: {np.max(test_confidences):.4f}\")\n",
        "\n",
        "# 클래스별 예측 분포\n",
        "print(f\"\\n📈 클래스별 예측 분포:\")\n",
        "for cls in range(17):\n",
        "    count = sum(1 for p in test_predictions if p == cls)\n",
        "    print(f\"   Class {cls}: {count}개 ({count/len(test_predictions)*100:.1f}%)\")\n"
      ]
    },
    {
      "cell_type": "code",
      "execution_count": null,
      "metadata": {},
      "outputs": [],
      "source": [
        "\n",
        "# submission 파일 저장\n",
        "output_path = \"./notebooks/team/KBH/submissions/cascade_submission1.csv\"\n",
        "result_df[['ID', 'target']].to_csv(output_path, index=False)\n"
      ]
    },
    {
      "cell_type": "code",
      "execution_count": null,
      "metadata": {},
      "outputs": [],
      "source": []
    }
  ],
  "metadata": {
    "kernelspec": {
      "display_name": "base",
      "language": "python",
      "name": "python3"
    },
    "language_info": {
      "codemirror_mode": {
        "name": "ipython",
        "version": 3
      },
      "file_extension": ".py",
      "mimetype": "text/x-python",
      "name": "python",
      "nbconvert_exporter": "python",
      "pygments_lexer": "ipython3",
      "version": "3.10.13"
    }
  },
  "nbformat": 4,
  "nbformat_minor": 2
}
