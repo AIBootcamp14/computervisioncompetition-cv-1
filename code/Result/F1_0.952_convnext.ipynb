{
 "cells": [
  {
   "attachments": {},
   "cell_type": "markdown",
   "metadata": {
    "id": "OliaDaX_lwou"
   },
   "source": [
    "# **📄 Document type classification baseline code**\n",
    "> 문서 타입 분류 대회에 오신 여러분 환영합니다! 🎉     \n",
    "> 아래 baseline에서는 ResNet 모델을 로드하여, 모델을 학습 및 예측 파일 생성하는 프로세스에 대해 알아보겠습니다.\n",
    "\n",
    "## Contents\n",
    "- Prepare Environments\n",
    "- Import Library & Define Functions\n",
    "- Hyper-parameters\n",
    "- Load Data\n",
    "- Train Model\n",
    "- Inference & Save File\n"
   ]
  },
  {
   "attachments": {},
   "cell_type": "markdown",
   "metadata": {
    "id": "zkH9T_86lDSS"
   },
   "source": [
    "## 1. Prepare Environments\n",
    "\n",
    "* 데이터 로드를 위한 구글 드라이브를 마운트합니다.\n",
    "* 필요한 라이브러리를 설치합니다."
   ]
  },
  {
   "cell_type": "code",
   "execution_count": 1,
   "metadata": {
    "colab": {
     "base_uri": "https://localhost:8080/"
    },
    "executionInfo": {
     "elapsed": 8489,
     "status": "ok",
     "timestamp": 1700314558888,
     "user": {
      "displayName": "Ynot(송원호)",
      "userId": "16271863862696372773"
     },
     "user_tz": -540
    },
    "id": "NC8V-D393wY4",
    "outputId": "e9927325-26c4-4b89-9c51-c1d6541388d6"
   },
   "outputs": [],
   "source": [
    "# 필요한 라이브러리를 설치합니다.\n",
    "# !pip install timm\n",
    "# !pip install matplotlib\n",
    "# !pip install seaborn\n",
    "# !pip install optuna"
   ]
  },
  {
   "attachments": {},
   "cell_type": "markdown",
   "metadata": {
    "id": "PXa_FPM73R9f"
   },
   "source": [
    "## 2. Import Library & Define Functions\n",
    "* 학습 및 추론에 필요한 라이브러리를 로드합니다.\n",
    "* 학습 및 추론에 필요한 함수와 클래스를 정의합니다."
   ]
  },
  {
   "cell_type": "code",
   "execution_count": 2,
   "metadata": {
    "executionInfo": {
     "elapsed": 9396,
     "status": "ok",
     "timestamp": 1700314592802,
     "user": {
      "displayName": "Ynot(송원호)",
      "userId": "16271863862696372773"
     },
     "user_tz": -540
    },
    "id": "3BaoIkv5Xwa0"
   },
   "outputs": [],
   "source": [
    "import os\n",
    "import time\n",
    "import random\n",
    "import copy\n",
    "\n",
    "import optuna, math\n",
    "import timm\n",
    "import torch\n",
    "import albumentations as A\n",
    "import pandas as pd\n",
    "import numpy as np\n",
    "import torch.nn as nn\n",
    "import torch.nn.functional as F\n",
    "from albumentations.pytorch import ToTensorV2\n",
    "from torch.optim import Adam\n",
    "from torchvision import transforms\n",
    "from torch.utils.data import Dataset, DataLoader\n",
    "from torch.optim.lr_scheduler import CosineAnnealingLR\n",
    "from torch.cuda.amp import autocast, GradScaler  # Mixed Precision용\n",
    "\n",
    "from PIL import Image\n",
    "from tqdm import tqdm\n",
    "from sklearn.metrics import accuracy_score, f1_score, confusion_matrix, classification_report\n",
    "from sklearn.model_selection import train_test_split, StratifiedKFold\n",
    "\n",
    "from collections import Counter\n",
    "import warnings\n",
    "warnings.filterwarnings('ignore')\n",
    "\n",
    "import matplotlib.pyplot as plt\n",
    "import wandb\n",
    "from datetime import datetime\n",
    "\n",
    "# 한글 폰트 설정 (시각화용)\n",
    "plt.rcParams['font.family'] = ['DejaVu Sans']"
   ]
  },
  {
   "cell_type": "code",
   "execution_count": 3,
   "metadata": {},
   "outputs": [],
   "source": [
    "# 시드를 고정합니다.\n",
    "SEED = 42\n",
    "os.environ['PYTHONHASHSEED'] = str(SEED)\n",
    "random.seed(SEED)\n",
    "np.random.seed(SEED)\n",
    "torch.manual_seed(SEED)\n",
    "torch.cuda.manual_seed(SEED)\n",
    "torch.cuda.manual_seed_all(SEED)\n",
    "torch.backends.cudnn.benchmark = True"
   ]
  },
  {
   "cell_type": "code",
   "execution_count": 4,
   "metadata": {},
   "outputs": [],
   "source": [
    "# #  WandB Login and Configuration\n",
    "# \"\"\"\n",
    "# 팀원 사용 가이드:\n",
    "\n",
    "# 1. WandB 계정 생성: https://wandb.ai/signup\n",
    "# 2. 이 셀 실행 시 로그인 프롬프트가 나타나면 개인 API 키 입력\n",
    "# 3. EXPERIMENT_NAME을 다음과 같이 변경:\n",
    "#    - \"member1-baseline\"\n",
    "#    - \"member2-augmentation-test\"  \n",
    "#    - \"member3-hyperparameter-tuning\"\n",
    "#    등등 각자 다른 이름 사용\n",
    "\n",
    "# 4. 팀 대시보드 URL: [여기에 당신의 프로젝트 URL 추가]\n",
    "\n",
    "# 주의사항:\n",
    "# - 절대 API 키를 코드에 하드코딩하지 마세요\n",
    "# - EXPERIMENT_NAME만 변경하고 PROJECT_NAME은 그대로 두세요\n",
    "# - 각자 개인 계정으로 로그인해서 실험을 추가하세요\n",
    "# \"\"\"\n",
    "\n",
    "# # WandB 로그인 (각자 실행)\n",
    "# try:\n",
    "#     if wandb.api.api_key is None:\n",
    "#         print(\"WandB에 로그인이 필요합니다.\")\n",
    "#         wandb.login()\n",
    "#     else:\n",
    "#         print(f\"WandB 로그인 상태: {wandb.api.viewer()['username']}\")\n",
    "# except:\n",
    "#     print(\"WandB 로그인을 진행합니다...\")\n",
    "#     wandb.login()\n",
    "\n",
    "# # 프로젝트 설정 (각자 수정할 부분)\n",
    "# PROJECT_NAME = \"document-classification-team\"  # 모든 팀원 동일\n",
    "# ENTITY = None  # 각자 개인 계정 사용\n",
    "# EXPERIMENT_NAME = \"efficientnet-b3-baseline\"  # 팀원별로 변경 (예: \"member1-hyperopt\", \"member2-augmentation\")\n",
    "\n",
    "# print(f\"프로젝트: {PROJECT_NAME}\")\n",
    "# print(f\"실험명: {EXPERIMENT_NAME}\")\n",
    "# print(\"팀원들은 EXPERIMENT_NAME을 각자 다르게 변경해주세요!\")"
   ]
  },
  {
   "cell_type": "code",
   "execution_count": null,
   "metadata": {
    "executionInfo": {
     "elapsed": 241,
     "status": "ok",
     "timestamp": 1700314772722,
     "user": {
      "displayName": "Ynot(송원호)",
      "userId": "16271863862696372773"
     },
     "user_tz": -540
    },
    "id": "Hyl8oAy6TZAu"
   },
   "outputs": [],
   "source": [
    "def mixup_data(x, y, alpha=1.0):\n",
    "    if alpha > 0:\n",
    "        lam = np.random.beta(alpha, alpha)\n",
    "    else:\n",
    "        lam = 1\n",
    "    batch_size = x.size()[0]\n",
    "    index = torch.randperm(batch_size).cuda()\n",
    "    mixed_x = lam * x + (1 - lam) * x[index, :]\n",
    "    y_a, y_b = y, y[index]\n",
    "    return mixed_x, y_a, y_b, lam\n",
    "\n",
    "# 데이터셋 클래스를 정의합니다. (Hard Augmentation 포함)\n",
    "class ImageDataset(Dataset):\n",
    "    def __init__(self, data, path, epoch=0, total_epochs=10, is_train=True):\n",
    "        if isinstance(data, str):\n",
    "            self.df = pd.read_csv(data).values\n",
    "        else:\n",
    "            self.df = data.values\n",
    "        self.path = path\n",
    "        self.epoch = epoch\n",
    "        self.total_epochs = total_epochs\n",
    "        self.is_train = is_train\n",
    "        \n",
    "        # Hard augmentation 확률 계산\n",
    "        self.p_hard = 0.2 + 0.3 * (epoch / total_epochs) if is_train else 0\n",
    "        \n",
    "        # Normal augmentation\n",
    "        self.normal_aug = A.Compose([\n",
    "            A.LongestMaxSize(max_size=img_size),\n",
    "            A.PadIfNeeded(min_height=img_size, min_width=img_size, border_mode=0, value=0),\n",
    "            A.OneOf([\n",
    "                A.Rotate(limit=[90,90], p=1.0),\n",
    "                A.Rotate(limit=[180,180], p=1.0),\n",
    "                A.Rotate(limit=[270,270], p=1.0),\n",
    "            ], p=0.6),\n",
    "            A.RandomBrightnessContrast(brightness_limit=0.3, contrast_limit=0.3, p=0.8),\n",
    "            A.GaussNoise(var_limit=(30.0, 100.0), p=0.7),\n",
    "            A.HorizontalFlip(p=0.5),\n",
    "            A.Normalize(mean=[0.485, 0.456, 0.406], std=[0.229, 0.224, 0.225]),\n",
    "            ToTensorV2(),\n",
    "        ])\n",
    "        \n",
    "        # Hard augmentation\n",
    "        self.hard_aug = A.Compose([\n",
    "            A.LongestMaxSize(max_size=img_size),\n",
    "            A.PadIfNeeded(min_height=img_size, min_width=img_size, border_mode=0, value=0),\n",
    "            A.OneOf([\n",
    "                A.Rotate(limit=[90,90], p=1.0),\n",
    "                A.Rotate(limit=[180,180], p=1.0),\n",
    "                A.Rotate(limit=[270,270], p=1.0),\n",
    "                A.Rotate(limit=[-15,15], p=1.0),\n",
    "            ], p=0.8),\n",
    "            A.OneOf([\n",
    "                A.MotionBlur(blur_limit=15, p=1.0),\n",
    "                A.GaussianBlur(blur_limit=15, p=1.0),\n",
    "            ], p=0.95),\n",
    "            A.RandomBrightnessContrast(brightness_limit=0.5, contrast_limit=0.5, p=0.9),\n",
    "            A.GaussNoise(var_limit=(50.0, 150.0), p=0.8),\n",
    "            A.JpegCompression(quality_lower=70, quality_upper=100, p=0.5),\n",
    "            A.HorizontalFlip(p=0.5),\n",
    "            A.Normalize(mean=[0.485, 0.456, 0.406], std=[0.229, 0.224, 0.225]),\n",
    "            ToTensorV2(),\n",
    "        ])\n",
    "\n",
    "    def __len__(self):\n",
    "        return len(self.df)\n",
    "\n",
    "    def __getitem__(self, idx):\n",
    "        name, target = self.df[idx]\n",
    "        img = np.array(Image.open(os.path.join(self.path, name)).convert('RGB'))\n",
    "        \n",
    "        # 배치별 증강 선택\n",
    "        if self.is_train and random.random() < self.p_hard:\n",
    "            img = self.hard_aug(image=img)['image']\n",
    "        else:\n",
    "            img = self.normal_aug(image=img)['image']\n",
    "        \n",
    "        return img, target"
   ]
  },
  {
   "cell_type": "code",
   "execution_count": 6,
   "metadata": {
    "executionInfo": {
     "elapsed": 255,
     "status": "ok",
     "timestamp": 1700315066028,
     "user": {
      "displayName": "Ynot(송원호)",
      "userId": "16271863862696372773"
     },
     "user_tz": -540
    },
    "id": "kTECBJfVTbdl"
   },
   "outputs": [],
   "source": [
    "# one epoch 학습을 위한 함수입니다.\n",
    "def train_one_epoch(loader, model, optimizer, loss_fn, device):\n",
    "    scaler = GradScaler()  # Mixed Precision용\n",
    "    model.train()\n",
    "    train_loss = 0\n",
    "    preds_list = []\n",
    "    targets_list = []\n",
    "\n",
    "    pbar = tqdm(loader)\n",
    "    for image, targets in pbar:\n",
    "        image = image.to(device)\n",
    "        targets = targets.to(device)\n",
    "        \n",
    "        # Cutmix/Mixup 적용 (30% 확률)\n",
    "        if random.random() < 0.3:\n",
    "            mixed_x, y_a, y_b, lam = mixup_data(image, targets, alpha=1.0)\n",
    "            with autocast(): preds = model(mixed_x)\n",
    "            loss = lam * loss_fn(preds, y_a) + (1 - lam) * loss_fn(preds, y_b)\n",
    "        else:\n",
    "            with autocast(): preds = model(image)\n",
    "            loss = loss_fn(preds, targets)\n",
    "\n",
    "        model.zero_grad(set_to_none=True)\n",
    "\n",
    "        scaler.scale(loss).backward()  # Mixed Precision용\n",
    "        torch.nn.utils.clip_grad_norm_(model.parameters(), 1.0)\n",
    "        scaler.step(optimizer); scaler.update()  # Mixed Precision용\n",
    "\n",
    "        train_loss += loss.item()\n",
    "        preds_list.extend(preds.argmax(dim=1).detach().cpu().numpy())\n",
    "        targets_list.extend(targets.detach().cpu().numpy())\n",
    "\n",
    "        pbar.set_description(f\"Loss: {loss.item():.4f}\")\n",
    "\n",
    "    train_loss /= len(loader)\n",
    "    train_acc = accuracy_score(targets_list, preds_list)\n",
    "    train_f1 = f1_score(targets_list, preds_list, average='macro')\n",
    "\n",
    "    ret = {\n",
    "        \"train_loss\": train_loss,\n",
    "        \"train_acc\": train_acc,\n",
    "        \"train_f1\": train_f1,\n",
    "    }\n",
    "\n",
    "    return ret"
   ]
  },
  {
   "cell_type": "code",
   "execution_count": 7,
   "metadata": {},
   "outputs": [],
   "source": [
    "# validation을 위한 함수 추가\n",
    "def validate_one_epoch(loader, model, loss_fn, device):\n",
    "    \"\"\"\n",
    "    한 에폭 검증을 수행하는 함수\n",
    "    - model.eval()로 모델을 평가 모드로 전환\n",
    "    - torch.no_grad()로 gradient 계산 비활성화하여 메모리 절약\n",
    "    - 검증 데이터에 대한 loss, accuracy, f1 score 계산\n",
    "    \"\"\"\n",
    "    model.eval()  # 모델을 평가 모드로 전환 (dropout, batchnorm 비활성화)\n",
    "    val_loss = 0\n",
    "    preds_list = []\n",
    "    targets_list = []\n",
    "    \n",
    "    with torch.no_grad():  # gradient 계산 비활성화로 메모리 절약\n",
    "        pbar = tqdm(loader, desc=\"Validating\")\n",
    "        for image, targets in pbar:\n",
    "            image = image.to(device)\n",
    "            targets = targets.to(device)\n",
    "            \n",
    "            preds = model(image)  # 모델 예측\n",
    "            loss = loss_fn(preds, targets)  # 손실 계산\n",
    "            \n",
    "            val_loss += loss.item()\n",
    "            preds_list.extend(preds.argmax(dim=1).detach().cpu().numpy())  # 예측 클래스 저장\n",
    "            targets_list.extend(targets.detach().cpu().numpy())  # 실제 클래스 저장\n",
    "            \n",
    "            pbar.set_description(f\"Val Loss: {loss.item():.4f}\")\n",
    "    \n",
    "    val_loss /= len(loader)  # 평균 손실 계산\n",
    "    val_acc = accuracy_score(targets_list, preds_list)  # 정확도 계산\n",
    "    val_f1 = f1_score(targets_list, preds_list, average='macro')  # Macro F1 계산 (대회 평가지표)\n",
    "    \n",
    "    ret = {\n",
    "        \"val_loss\": val_loss,\n",
    "        \"val_acc\": val_acc,\n",
    "        \"val_f1\": val_f1,\n",
    "    }\n",
    "    \n",
    "    return ret"
   ]
  },
  {
   "attachments": {},
   "cell_type": "markdown",
   "metadata": {
    "id": "Wjom43UvoXcx"
   },
   "source": [
    "## 3. Hyper-parameters\n",
    "* 학습 및 추론에 필요한 하이퍼파라미터들을 정의합니다."
   ]
  },
  {
   "cell_type": "code",
   "execution_count": 8,
   "metadata": {
    "executionInfo": {
     "elapsed": 436,
     "status": "ok",
     "timestamp": 1700315112439,
     "user": {
      "displayName": "Ynot(송원호)",
      "userId": "16271863862696372773"
     },
     "user_tz": -540
    },
    "id": "KByfAeRmXwYk"
   },
   "outputs": [],
   "source": [
    "# device\n",
    "device = torch.device('cuda' if torch.cuda.is_available() else 'cpu')\n",
    "\n",
    "# data config\n",
    "data_path = '../data/'\n",
    "\n",
    "# model config\n",
    "# model_name = 'tf_efficientnetv2_b3' # 'resnet50' 'efficientnet-b0', ...\n",
    "# model_name = 'swin_base_patch4_window12_384_in22k'\n",
    "model_name = 'convnext_base_384_in22ft1k'\n",
    "\n",
    "# training config\n",
    "img_size = 384\n",
    "LR = 2e-4\n",
    "EPOCHS = 100\n",
    "BATCH_SIZE = 24\n",
    "num_workers = 8\n",
    "EMA = True  # Exponential Moving Average 사용 여부"
   ]
  },
  {
   "cell_type": "code",
   "execution_count": 9,
   "metadata": {},
   "outputs": [],
   "source": [
    "# Optuna를 사용한 하이퍼파라미터 튜닝 (선택적 실행)\n",
    "USE_OPTUNA = False  # True로 바꾸면 튜닝 실행\n",
    "\n",
    "if USE_OPTUNA:\n",
    "    def objective(trial):\n",
    "        lr = trial.suggest_loguniform('lr', 1e-5, 1e-2)\n",
    "        batch_size = trial.suggest_categorical('batch_size', [32, 64, 128])\n",
    "        \n",
    "        # 간단한 3-fold CV로 빠른 평가\n",
    "        skf_simple = StratifiedKFold(n_splits=3, shuffle=True, random_state=42)\n",
    "        fold_scores = []\n",
    "        \n",
    "        for fold, (train_idx, val_idx) in enumerate(skf_simple.split(train_df, train_df['target'])):\n",
    "            # 모델 생성\n",
    "            model = timm.create_model(model_name, pretrained=True, num_classes=17).to(device)\n",
    "            optimizer = Adam(model.parameters(), lr=lr)\n",
    "            loss_fn = nn.CrossEntropyLoss()\n",
    "            \n",
    "            # 간단한 2 epoch 학습\n",
    "            for epoch in range(2):\n",
    "                train_ret = train_one_epoch(trn_loader, model, optimizer, loss_fn, device)\n",
    "            \n",
    "            val_ret = validate_one_epoch(val_loader, model, loss_fn, device)\n",
    "            fold_scores.append(val_ret['val_f1'])\n",
    "        \n",
    "        return np.mean(fold_scores)\n",
    "    \n",
    "    study = optuna.create_study(direction='maximize')\n",
    "    study.optimize(objective, n_trials=10)\n",
    "    \n",
    "    # 최적 파라미터 적용\n",
    "    LR = study.best_params['lr']\n",
    "    BATCH_SIZE = study.best_params['batch_size']\n",
    "    print(f\"Best params: {study.best_params}\")"
   ]
  },
  {
   "attachments": {},
   "cell_type": "markdown",
   "metadata": {
    "id": "amum-FlIojc6"
   },
   "source": [
    "## 4. Load Data\n",
    "* 학습, 테스트 데이터셋과 로더를 정의합니다."
   ]
  },
  {
   "cell_type": "code",
   "execution_count": 10,
   "metadata": {
    "executionInfo": {
     "elapsed": 1,
     "status": "ok",
     "timestamp": 1700315112439,
     "user": {
      "displayName": "Ynot(송원호)",
      "userId": "16271863862696372773"
     },
     "user_tz": -540
    },
    "id": "llh5C7ZKoq2S"
   },
   "outputs": [],
   "source": [
    "# # augmentation을 위한 transform 코드\n",
    "# trn_transform = A.Compose([\n",
    "#     # 비율 보존 리사이징 (핵심 개선)\n",
    "#     A.LongestMaxSize(max_size=img_size),\n",
    "#     A.PadIfNeeded(min_height=img_size, min_width=img_size, \n",
    "#                   border_mode=0, value=0),\n",
    "    \n",
    "#     # 문서 특화 회전 (정확한 90도 배수)\n",
    "#     A.OneOf([\n",
    "#         A.Rotate(limit=[90,90], p=1.0),\n",
    "#         A.Rotate(limit=[180,180], p=1.0),\n",
    "#         A.Rotate(limit=[270,270], p=1.0),\n",
    "#     ], p=0.6),\n",
    "    \n",
    "#     # 테스트 특화 강화 증강\n",
    "#     A.OneOf([\n",
    "#         A.MotionBlur(blur_limit=7, p=1.0),\n",
    "#         A.GaussianBlur(blur_limit=7, p=1.0),\n",
    "#     ], p=0.9),\n",
    "    \n",
    "#     A.RandomBrightnessContrast(\n",
    "#         brightness_limit=0.3, \n",
    "#         contrast_limit=0.3, \n",
    "#         p=0.8\n",
    "#     ),\n",
    "#     A.GaussNoise(var_limit=(30.0, 100.0), p=0.7),\n",
    "#     A.HorizontalFlip(p=0.5),\n",
    "    \n",
    "#     A.Normalize(mean=[0.485, 0.456, 0.406], std=[0.229, 0.224, 0.225]),\n",
    "#     ToTensorV2(),\n",
    "# ])\n",
    "\n",
    "# # test image 변환을 위한 transform 코드\n",
    "# tst_transform = A.Compose([\n",
    "#     A.LongestMaxSize(max_size=img_size),\n",
    "#     A.PadIfNeeded(min_height=img_size, min_width=img_size, \n",
    "#                   border_mode=0, value=0),\n",
    "#     A.Normalize(mean=[0.485, 0.456, 0.406], std=[0.229, 0.224, 0.225]),\n",
    "#     ToTensorV2(),\n",
    "# ])"
   ]
  },
  {
   "cell_type": "code",
   "execution_count": 11,
   "metadata": {},
   "outputs": [],
   "source": [
    "# Optuna 튜닝 (선택적 실행)\n",
    "USE_OPTUNA = False  # True로 바꾸면 튜닝 실행\n",
    "\n",
    "if USE_OPTUNA:\n",
    "    # 위의 objective 함수와 study 코드\n",
    "    pass"
   ]
  },
  {
   "cell_type": "markdown",
   "metadata": {},
   "source": [
    "# K-Fold 적용"
   ]
  },
  {
   "cell_type": "code",
   "execution_count": 12,
   "metadata": {},
   "outputs": [
    {
     "name": "stdout",
     "output_type": "stream",
     "text": [
      "Starting 5-Fold Cross Validation...\n",
      "\n",
      "==================================================\n",
      "FOLD 1/5\n",
      "==================================================\n",
      "Train samples: 1256, Validation samples: 314\n"
     ]
    },
    {
     "name": "stderr",
     "output_type": "stream",
     "text": [
      "Loss: 1.4805: 100%|██████████| 53/53 [00:19<00:00,  2.67it/s]\n",
      "Val Loss: 1.1467: 100%|██████████| 14/14 [00:04<00:00,  3.37it/s]"
     ]
    },
    {
     "name": "stdout",
     "output_type": "stream",
     "text": [
      "Epoch  1 | Train Loss: 2.0279 | Train F1: 0.3637 | Val Loss: 1.0530 | Val F1: 0.7214\n"
     ]
    },
    {
     "name": "stderr",
     "output_type": "stream",
     "text": [
      "\n",
      "Loss: 0.5020: 100%|██████████| 53/53 [00:13<00:00,  4.07it/s]\n",
      "Val Loss: 1.2502: 100%|██████████| 14/14 [00:02<00:00,  4.87it/s]"
     ]
    },
    {
     "name": "stdout",
     "output_type": "stream",
     "text": [
      "Epoch  2 | Train Loss: 1.1148 | Train F1: 0.6771 | Val Loss: 0.7502 | Val F1: 0.8053\n"
     ]
    },
    {
     "name": "stderr",
     "output_type": "stream",
     "text": [
      "\n",
      "Loss: 1.7725: 100%|██████████| 53/53 [00:12<00:00,  4.13it/s]\n",
      "Val Loss: 1.2779: 100%|██████████| 14/14 [00:02<00:00,  4.78it/s]"
     ]
    },
    {
     "name": "stdout",
     "output_type": "stream",
     "text": [
      "Epoch  3 | Train Loss: 0.9280 | Train F1: 0.7113 | Val Loss: 0.6686 | Val F1: 0.8565\n"
     ]
    },
    {
     "name": "stderr",
     "output_type": "stream",
     "text": [
      "\n",
      "Loss: 0.8027: 100%|██████████| 53/53 [00:13<00:00,  4.05it/s]\n",
      "Val Loss: 1.2349: 100%|██████████| 14/14 [00:02<00:00,  4.88it/s]\n"
     ]
    },
    {
     "name": "stdout",
     "output_type": "stream",
     "text": [
      "Epoch  4 | Train Loss: 0.9076 | Train F1: 0.7116 | Val Loss: 0.6577 | Val F1: 0.8561\n"
     ]
    },
    {
     "name": "stderr",
     "output_type": "stream",
     "text": [
      "Loss: 0.7773: 100%|██████████| 53/53 [00:12<00:00,  4.08it/s]\n",
      "Val Loss: 0.5682: 100%|██████████| 14/14 [00:02<00:00,  4.70it/s]"
     ]
    },
    {
     "name": "stdout",
     "output_type": "stream",
     "text": [
      "Epoch  5 | Train Loss: 0.8555 | Train F1: 0.7614 | Val Loss: 0.5640 | Val F1: 0.8866\n"
     ]
    },
    {
     "name": "stderr",
     "output_type": "stream",
     "text": [
      "\n",
      "Loss: 0.4463: 100%|██████████| 53/53 [00:13<00:00,  4.00it/s]\n",
      "Val Loss: 0.5584: 100%|██████████| 14/14 [00:02<00:00,  4.73it/s]\n"
     ]
    },
    {
     "name": "stdout",
     "output_type": "stream",
     "text": [
      "Epoch  6 | Train Loss: 0.7846 | Train F1: 0.7459 | Val Loss: 0.5833 | Val F1: 0.8549\n"
     ]
    },
    {
     "name": "stderr",
     "output_type": "stream",
     "text": [
      "Loss: 0.6592: 100%|██████████| 53/53 [00:13<00:00,  4.04it/s]\n",
      "Val Loss: 0.7450: 100%|██████████| 14/14 [00:02<00:00,  4.67it/s]"
     ]
    },
    {
     "name": "stdout",
     "output_type": "stream",
     "text": [
      "Epoch  7 | Train Loss: 0.6946 | Train F1: 0.7472 | Val Loss: 0.5119 | Val F1: 0.9416\n"
     ]
    },
    {
     "name": "stderr",
     "output_type": "stream",
     "text": [
      "\n",
      "Loss: 0.6025: 100%|██████████| 53/53 [00:12<00:00,  4.09it/s]\n",
      "Val Loss: 1.0459: 100%|██████████| 14/14 [00:02<00:00,  4.73it/s]\n"
     ]
    },
    {
     "name": "stdout",
     "output_type": "stream",
     "text": [
      "Epoch  8 | Train Loss: 0.7364 | Train F1: 0.8251 | Val Loss: 0.5888 | Val F1: 0.8782\n"
     ]
    },
    {
     "name": "stderr",
     "output_type": "stream",
     "text": [
      "Loss: 0.3564: 100%|██████████| 53/53 [00:13<00:00,  4.07it/s]\n",
      "Val Loss: 0.8679: 100%|██████████| 14/14 [00:02<00:00,  4.70it/s]\n"
     ]
    },
    {
     "name": "stdout",
     "output_type": "stream",
     "text": [
      "Epoch  9 | Train Loss: 0.7868 | Train F1: 0.7901 | Val Loss: 0.5341 | Val F1: 0.9228\n"
     ]
    },
    {
     "name": "stderr",
     "output_type": "stream",
     "text": [
      "Loss: 1.0381: 100%|██████████| 53/53 [00:12<00:00,  4.11it/s]\n",
      "Val Loss: 0.4064: 100%|██████████| 14/14 [00:02<00:00,  4.73it/s]\n"
     ]
    },
    {
     "name": "stdout",
     "output_type": "stream",
     "text": [
      "Epoch 10 | Train Loss: 0.7354 | Train F1: 0.7799 | Val Loss: 0.5692 | Val F1: 0.8824\n"
     ]
    },
    {
     "name": "stderr",
     "output_type": "stream",
     "text": [
      "Loss: 0.6260: 100%|██████████| 53/53 [00:12<00:00,  4.10it/s]\n",
      "Val Loss: 0.7799: 100%|██████████| 14/14 [00:03<00:00,  4.65it/s]\n"
     ]
    },
    {
     "name": "stdout",
     "output_type": "stream",
     "text": [
      "Epoch 11 | Train Loss: 0.6840 | Train F1: 0.8234 | Val Loss: 0.5669 | Val F1: 0.8917\n"
     ]
    },
    {
     "name": "stderr",
     "output_type": "stream",
     "text": [
      "Loss: 1.1514: 100%|██████████| 53/53 [00:12<00:00,  4.08it/s]\n",
      "Val Loss: 1.3555: 100%|██████████| 14/14 [00:02<00:00,  4.76it/s]\n"
     ]
    },
    {
     "name": "stdout",
     "output_type": "stream",
     "text": [
      "Epoch 12 | Train Loss: 0.7983 | Train F1: 0.7093 | Val Loss: 0.5651 | Val F1: 0.9204\n"
     ]
    },
    {
     "name": "stderr",
     "output_type": "stream",
     "text": [
      "Loss: 0.9834: 100%|██████████| 53/53 [00:12<00:00,  4.11it/s]\n",
      "Val Loss: 0.7150: 100%|██████████| 14/14 [00:02<00:00,  4.70it/s]"
     ]
    },
    {
     "name": "stdout",
     "output_type": "stream",
     "text": [
      "Epoch 13 | Train Loss: 0.7165 | Train F1: 0.7521 | Val Loss: 0.4997 | Val F1: 0.9425\n"
     ]
    },
    {
     "name": "stderr",
     "output_type": "stream",
     "text": [
      "\n",
      "Loss: 0.3860: 100%|██████████| 53/53 [00:12<00:00,  4.08it/s]\n",
      "Val Loss: 0.9020: 100%|██████████| 14/14 [00:02<00:00,  4.82it/s]\n"
     ]
    },
    {
     "name": "stdout",
     "output_type": "stream",
     "text": [
      "Epoch 14 | Train Loss: 0.6096 | Train F1: 0.8406 | Val Loss: 0.5240 | Val F1: 0.9214\n"
     ]
    },
    {
     "name": "stderr",
     "output_type": "stream",
     "text": [
      "Loss: 1.4844: 100%|██████████| 53/53 [00:12<00:00,  4.10it/s]\n",
      "Val Loss: 1.8105: 100%|██████████| 14/14 [00:02<00:00,  4.71it/s]"
     ]
    },
    {
     "name": "stdout",
     "output_type": "stream",
     "text": [
      "Epoch 15 | Train Loss: 0.6031 | Train F1: 0.8792 | Val Loss: 0.5783 | Val F1: 0.9426\n"
     ]
    },
    {
     "name": "stderr",
     "output_type": "stream",
     "text": [
      "\n",
      "Loss: 0.3350: 100%|██████████| 53/53 [00:13<00:00,  4.07it/s]\n",
      "Val Loss: 1.0713: 100%|██████████| 14/14 [00:03<00:00,  4.64it/s]\n"
     ]
    },
    {
     "name": "stdout",
     "output_type": "stream",
     "text": [
      "Epoch 16 | Train Loss: 0.5352 | Train F1: 0.8869 | Val Loss: 0.5229 | Val F1: 0.9326\n"
     ]
    },
    {
     "name": "stderr",
     "output_type": "stream",
     "text": [
      "Loss: 0.4160: 100%|██████████| 53/53 [00:12<00:00,  4.09it/s]\n",
      "Val Loss: 0.5542: 100%|██████████| 14/14 [00:03<00:00,  4.62it/s]\n"
     ]
    },
    {
     "name": "stdout",
     "output_type": "stream",
     "text": [
      "Epoch 17 | Train Loss: 0.6397 | Train F1: 0.8246 | Val Loss: 0.5104 | Val F1: 0.9223\n"
     ]
    },
    {
     "name": "stderr",
     "output_type": "stream",
     "text": [
      "Loss: 0.3518: 100%|██████████| 53/53 [00:12<00:00,  4.09it/s]\n",
      "Val Loss: 0.6697: 100%|██████████| 14/14 [00:02<00:00,  4.85it/s]\n"
     ]
    },
    {
     "name": "stdout",
     "output_type": "stream",
     "text": [
      "Epoch 18 | Train Loss: 0.5701 | Train F1: 0.8754 | Val Loss: 0.4800 | Val F1: 0.9391\n"
     ]
    },
    {
     "name": "stderr",
     "output_type": "stream",
     "text": [
      "Loss: 0.8193: 100%|██████████| 53/53 [00:12<00:00,  4.08it/s]\n",
      "Val Loss: 0.3406: 100%|██████████| 14/14 [00:03<00:00,  4.61it/s]\n"
     ]
    },
    {
     "name": "stdout",
     "output_type": "stream",
     "text": [
      "Epoch 19 | Train Loss: 0.5827 | Train F1: 0.8852 | Val Loss: 0.5064 | Val F1: 0.9208\n"
     ]
    },
    {
     "name": "stderr",
     "output_type": "stream",
     "text": [
      "Loss: 0.3372: 100%|██████████| 53/53 [00:12<00:00,  4.09it/s]\n",
      "Val Loss: 0.9279: 100%|██████████| 14/14 [00:02<00:00,  4.72it/s]\n"
     ]
    },
    {
     "name": "stdout",
     "output_type": "stream",
     "text": [
      "Epoch 20 | Train Loss: 0.6492 | Train F1: 0.7827 | Val Loss: 0.5167 | Val F1: 0.9336\n"
     ]
    },
    {
     "name": "stderr",
     "output_type": "stream",
     "text": [
      "Loss: 0.3403: 100%|██████████| 53/53 [00:12<00:00,  4.09it/s]\n",
      "Val Loss: 0.3371: 100%|██████████| 14/14 [00:02<00:00,  4.72it/s]\n"
     ]
    },
    {
     "name": "stdout",
     "output_type": "stream",
     "text": [
      "Epoch 21 | Train Loss: 0.6072 | Train F1: 0.8490 | Val Loss: 0.5149 | Val F1: 0.9180\n"
     ]
    },
    {
     "name": "stderr",
     "output_type": "stream",
     "text": [
      "Loss: 1.0410: 100%|██████████| 53/53 [00:12<00:00,  4.10it/s]\n",
      "Val Loss: 0.3365: 100%|██████████| 14/14 [00:02<00:00,  4.80it/s]\n"
     ]
    },
    {
     "name": "stdout",
     "output_type": "stream",
     "text": [
      "Epoch 22 | Train Loss: 0.6656 | Train F1: 0.7881 | Val Loss: 0.5438 | Val F1: 0.9182\n"
     ]
    },
    {
     "name": "stderr",
     "output_type": "stream",
     "text": [
      "Loss: 1.2988: 100%|██████████| 53/53 [00:12<00:00,  4.12it/s]\n",
      "Val Loss: 0.4731: 100%|██████████| 14/14 [00:02<00:00,  4.82it/s]\n"
     ]
    },
    {
     "name": "stdout",
     "output_type": "stream",
     "text": [
      "Epoch 23 | Train Loss: 0.6102 | Train F1: 0.8155 | Val Loss: 0.4796 | Val F1: 0.9402\n"
     ]
    },
    {
     "name": "stderr",
     "output_type": "stream",
     "text": [
      "Loss: 0.3560: 100%|██████████| 53/53 [00:12<00:00,  4.11it/s]\n",
      "Val Loss: 0.3332: 100%|██████████| 14/14 [00:02<00:00,  4.74it/s]"
     ]
    },
    {
     "name": "stdout",
     "output_type": "stream",
     "text": [
      "Epoch 24 | Train Loss: 0.5371 | Train F1: 0.8911 | Val Loss: 0.5026 | Val F1: 0.9428\n"
     ]
    },
    {
     "name": "stderr",
     "output_type": "stream",
     "text": [
      "\n",
      "Loss: 0.3242: 100%|██████████| 53/53 [00:13<00:00,  4.07it/s]\n",
      "Val Loss: 0.4391: 100%|██████████| 14/14 [00:02<00:00,  4.79it/s]"
     ]
    },
    {
     "name": "stdout",
     "output_type": "stream",
     "text": [
      "Epoch 25 | Train Loss: 0.5766 | Train F1: 0.8752 | Val Loss: 0.4667 | Val F1: 0.9429\n"
     ]
    },
    {
     "name": "stderr",
     "output_type": "stream",
     "text": [
      "\n",
      "Loss: 0.6846: 100%|██████████| 53/53 [00:12<00:00,  4.09it/s]\n",
      "Val Loss: 0.3293: 100%|██████████| 14/14 [00:03<00:00,  4.41it/s]\n"
     ]
    },
    {
     "name": "stdout",
     "output_type": "stream",
     "text": [
      "Epoch 26 | Train Loss: 0.6172 | Train F1: 0.8249 | Val Loss: 0.4928 | Val F1: 0.9291\n"
     ]
    },
    {
     "name": "stderr",
     "output_type": "stream",
     "text": [
      "Loss: 0.3303: 100%|██████████| 53/53 [00:13<00:00,  4.02it/s]\n",
      "Val Loss: 0.3360: 100%|██████████| 14/14 [00:02<00:00,  4.70it/s]\n"
     ]
    },
    {
     "name": "stdout",
     "output_type": "stream",
     "text": [
      "Epoch 27 | Train Loss: 0.6307 | Train F1: 0.7453 | Val Loss: 0.5149 | Val F1: 0.9348\n"
     ]
    },
    {
     "name": "stderr",
     "output_type": "stream",
     "text": [
      "Loss: 0.4224: 100%|██████████| 53/53 [00:12<00:00,  4.12it/s]\n",
      "Val Loss: 0.3395: 100%|██████████| 14/14 [00:02<00:00,  4.80it/s]"
     ]
    },
    {
     "name": "stdout",
     "output_type": "stream",
     "text": [
      "Epoch 28 | Train Loss: 0.5376 | Train F1: 0.9180 | Val Loss: 0.5011 | Val F1: 0.9431\n"
     ]
    },
    {
     "name": "stderr",
     "output_type": "stream",
     "text": [
      "\n",
      "Loss: 0.3330: 100%|██████████| 53/53 [00:12<00:00,  4.09it/s]\n",
      "Val Loss: 0.4297: 100%|██████████| 14/14 [00:02<00:00,  4.85it/s]"
     ]
    },
    {
     "name": "stdout",
     "output_type": "stream",
     "text": [
      "Epoch 29 | Train Loss: 0.5195 | Train F1: 0.8389 | Val Loss: 0.4447 | Val F1: 0.9602\n"
     ]
    },
    {
     "name": "stderr",
     "output_type": "stream",
     "text": [
      "\n",
      "Loss: 0.4336: 100%|██████████| 53/53 [00:12<00:00,  4.09it/s]\n",
      "Val Loss: 0.4049: 100%|██████████| 14/14 [00:03<00:00,  4.66it/s]\n"
     ]
    },
    {
     "name": "stdout",
     "output_type": "stream",
     "text": [
      "Epoch 30 | Train Loss: 0.5537 | Train F1: 0.8843 | Val Loss: 0.4676 | Val F1: 0.9391\n"
     ]
    },
    {
     "name": "stderr",
     "output_type": "stream",
     "text": [
      "Loss: 0.6240: 100%|██████████| 53/53 [00:12<00:00,  4.10it/s]\n",
      "Val Loss: 0.3361: 100%|██████████| 14/14 [00:03<00:00,  4.64it/s]\n"
     ]
    },
    {
     "name": "stdout",
     "output_type": "stream",
     "text": [
      "Epoch 31 | Train Loss: 0.5285 | Train F1: 0.8862 | Val Loss: 0.4925 | Val F1: 0.9462\n"
     ]
    },
    {
     "name": "stderr",
     "output_type": "stream",
     "text": [
      "Loss: 0.9902: 100%|██████████| 53/53 [00:12<00:00,  4.10it/s]\n",
      "Val Loss: 1.2712: 100%|██████████| 14/14 [00:02<00:00,  4.80it/s]\n"
     ]
    },
    {
     "name": "stdout",
     "output_type": "stream",
     "text": [
      "Epoch 32 | Train Loss: 0.5373 | Train F1: 0.8597 | Val Loss: 0.5389 | Val F1: 0.9492\n"
     ]
    },
    {
     "name": "stderr",
     "output_type": "stream",
     "text": [
      "Loss: 1.2305: 100%|██████████| 53/53 [00:12<00:00,  4.11it/s]\n",
      "Val Loss: 0.3261: 100%|██████████| 14/14 [00:03<00:00,  4.63it/s]\n"
     ]
    },
    {
     "name": "stdout",
     "output_type": "stream",
     "text": [
      "Epoch 33 | Train Loss: 0.5415 | Train F1: 0.8781 | Val Loss: 0.5192 | Val F1: 0.9221\n"
     ]
    },
    {
     "name": "stderr",
     "output_type": "stream",
     "text": [
      "Loss: 0.3245: 100%|██████████| 53/53 [00:12<00:00,  4.09it/s]\n",
      "Val Loss: 0.3276: 100%|██████████| 14/14 [00:02<00:00,  4.69it/s]\n"
     ]
    },
    {
     "name": "stdout",
     "output_type": "stream",
     "text": [
      "Epoch 34 | Train Loss: 0.6047 | Train F1: 0.8001 | Val Loss: 0.4921 | Val F1: 0.9334\n"
     ]
    },
    {
     "name": "stderr",
     "output_type": "stream",
     "text": [
      "Loss: 0.3242: 100%|██████████| 53/53 [00:12<00:00,  4.11it/s]\n",
      "Val Loss: 0.3252: 100%|██████████| 14/14 [00:02<00:00,  4.89it/s]\n"
     ]
    },
    {
     "name": "stdout",
     "output_type": "stream",
     "text": [
      "Epoch 35 | Train Loss: 0.5555 | Train F1: 0.8619 | Val Loss: 0.5031 | Val F1: 0.9256\n"
     ]
    },
    {
     "name": "stderr",
     "output_type": "stream",
     "text": [
      "Loss: 0.3457: 100%|██████████| 53/53 [00:12<00:00,  4.08it/s]\n",
      "Val Loss: 0.8064: 100%|██████████| 14/14 [00:02<00:00,  4.74it/s]\n"
     ]
    },
    {
     "name": "stdout",
     "output_type": "stream",
     "text": [
      "Epoch 36 | Train Loss: 0.5738 | Train F1: 0.7970 | Val Loss: 0.4497 | Val F1: 0.9503\n"
     ]
    },
    {
     "name": "stderr",
     "output_type": "stream",
     "text": [
      "Loss: 1.0234: 100%|██████████| 53/53 [00:13<00:00,  4.06it/s]\n",
      "Val Loss: 0.3250: 100%|██████████| 14/14 [00:02<00:00,  4.75it/s]\n"
     ]
    },
    {
     "name": "stdout",
     "output_type": "stream",
     "text": [
      "Epoch 37 | Train Loss: 0.5166 | Train F1: 0.9047 | Val Loss: 0.4914 | Val F1: 0.9363\n"
     ]
    },
    {
     "name": "stderr",
     "output_type": "stream",
     "text": [
      "Loss: 0.3240: 100%|██████████| 53/53 [00:12<00:00,  4.09it/s]\n",
      "Val Loss: 0.6306: 100%|██████████| 14/14 [00:02<00:00,  4.70it/s]"
     ]
    },
    {
     "name": "stdout",
     "output_type": "stream",
     "text": [
      "Epoch 38 | Train Loss: 0.5568 | Train F1: 0.8545 | Val Loss: 0.4472 | Val F1: 0.9620\n"
     ]
    },
    {
     "name": "stderr",
     "output_type": "stream",
     "text": [
      "\n",
      "Loss: 0.3252: 100%|██████████| 53/53 [00:13<00:00,  4.04it/s]\n",
      "Val Loss: 0.4192: 100%|██████████| 14/14 [00:02<00:00,  4.79it/s]\n"
     ]
    },
    {
     "name": "stdout",
     "output_type": "stream",
     "text": [
      "Epoch 39 | Train Loss: 0.5335 | Train F1: 0.9126 | Val Loss: 0.4866 | Val F1: 0.9569\n"
     ]
    },
    {
     "name": "stderr",
     "output_type": "stream",
     "text": [
      "Loss: 0.3254: 100%|██████████| 53/53 [00:12<00:00,  4.11it/s]\n",
      "Val Loss: 0.3405: 100%|██████████| 14/14 [00:03<00:00,  4.65it/s]\n"
     ]
    },
    {
     "name": "stdout",
     "output_type": "stream",
     "text": [
      "Epoch 40 | Train Loss: 0.5004 | Train F1: 0.9105 | Val Loss: 0.4500 | Val F1: 0.9472\n"
     ]
    },
    {
     "name": "stderr",
     "output_type": "stream",
     "text": [
      "Loss: 0.8633: 100%|██████████| 53/53 [00:13<00:00,  4.07it/s]\n",
      "Val Loss: 1.2780: 100%|██████████| 14/14 [00:02<00:00,  4.67it/s]\n"
     ]
    },
    {
     "name": "stdout",
     "output_type": "stream",
     "text": [
      "Epoch 41 | Train Loss: 0.5728 | Train F1: 0.8530 | Val Loss: 0.4901 | Val F1: 0.9517\n"
     ]
    },
    {
     "name": "stderr",
     "output_type": "stream",
     "text": [
      "Loss: 0.7578: 100%|██████████| 53/53 [00:13<00:00,  4.08it/s]\n",
      "Val Loss: 0.3255: 100%|██████████| 14/14 [00:02<00:00,  4.75it/s]\n"
     ]
    },
    {
     "name": "stdout",
     "output_type": "stream",
     "text": [
      "Epoch 42 | Train Loss: 0.5164 | Train F1: 0.8367 | Val Loss: 0.4913 | Val F1: 0.9388\n"
     ]
    },
    {
     "name": "stderr",
     "output_type": "stream",
     "text": [
      "Loss: 0.3240: 100%|██████████| 53/53 [00:13<00:00,  4.04it/s]\n",
      "Val Loss: 0.3236: 100%|██████████| 14/14 [00:02<00:00,  4.85it/s]\n"
     ]
    },
    {
     "name": "stdout",
     "output_type": "stream",
     "text": [
      "Epoch 43 | Train Loss: 0.5367 | Train F1: 0.8513 | Val Loss: 0.4424 | Val F1: 0.9517\n"
     ]
    },
    {
     "name": "stderr",
     "output_type": "stream",
     "text": [
      "Loss: 0.4226: 100%|██████████| 53/53 [00:12<00:00,  4.10it/s]\n",
      "Val Loss: 0.6729: 100%|██████████| 14/14 [00:03<00:00,  4.62it/s]\n"
     ]
    },
    {
     "name": "stdout",
     "output_type": "stream",
     "text": [
      "Epoch 44 | Train Loss: 0.4364 | Train F1: 0.9110 | Val Loss: 0.4461 | Val F1: 0.9535\n"
     ]
    },
    {
     "name": "stderr",
     "output_type": "stream",
     "text": [
      "Loss: 0.5078: 100%|██████████| 53/53 [00:13<00:00,  4.04it/s]\n",
      "Val Loss: 0.3288: 100%|██████████| 14/14 [00:02<00:00,  4.72it/s]\n"
     ]
    },
    {
     "name": "stdout",
     "output_type": "stream",
     "text": [
      "Epoch 45 | Train Loss: 0.5385 | Train F1: 0.8689 | Val Loss: 0.4762 | Val F1: 0.9474\n"
     ]
    },
    {
     "name": "stderr",
     "output_type": "stream",
     "text": [
      "Loss: 0.6113: 100%|██████████| 53/53 [00:12<00:00,  4.08it/s]\n",
      "Val Loss: 0.3539: 100%|██████████| 14/14 [00:03<00:00,  4.37it/s]"
     ]
    },
    {
     "name": "stdout",
     "output_type": "stream",
     "text": [
      "Epoch 46 | Train Loss: 0.5292 | Train F1: 0.8657 | Val Loss: 0.4447 | Val F1: 0.9642\n"
     ]
    },
    {
     "name": "stderr",
     "output_type": "stream",
     "text": [
      "\n",
      "Loss: 0.3259: 100%|██████████| 53/53 [00:13<00:00,  4.06it/s]\n",
      "Val Loss: 1.9935: 100%|██████████| 14/14 [00:03<00:00,  4.61it/s]\n"
     ]
    },
    {
     "name": "stdout",
     "output_type": "stream",
     "text": [
      "Epoch 47 | Train Loss: 0.5640 | Train F1: 0.8732 | Val Loss: 0.5668 | Val F1: 0.9510\n"
     ]
    },
    {
     "name": "stderr",
     "output_type": "stream",
     "text": [
      "Loss: 0.8633: 100%|██████████| 53/53 [00:13<00:00,  4.05it/s]\n",
      "Val Loss: 0.3918: 100%|██████████| 14/14 [00:02<00:00,  4.68it/s]"
     ]
    },
    {
     "name": "stdout",
     "output_type": "stream",
     "text": [
      "Epoch 48 | Train Loss: 0.4898 | Train F1: 0.9169 | Val Loss: 0.4154 | Val F1: 0.9675\n"
     ]
    },
    {
     "name": "stderr",
     "output_type": "stream",
     "text": [
      "\n",
      "Loss: 1.1240: 100%|██████████| 53/53 [00:13<00:00,  4.07it/s]\n",
      "Val Loss: 0.3246: 100%|██████████| 14/14 [00:02<00:00,  4.78it/s]\n"
     ]
    },
    {
     "name": "stdout",
     "output_type": "stream",
     "text": [
      "Epoch 49 | Train Loss: 0.5775 | Train F1: 0.7892 | Val Loss: 0.4480 | Val F1: 0.9505\n"
     ]
    },
    {
     "name": "stderr",
     "output_type": "stream",
     "text": [
      "Loss: 0.3252: 100%|██████████| 53/53 [00:12<00:00,  4.08it/s]\n",
      "Val Loss: 0.3251: 100%|██████████| 14/14 [00:02<00:00,  4.77it/s]\n"
     ]
    },
    {
     "name": "stdout",
     "output_type": "stream",
     "text": [
      "Epoch 50 | Train Loss: 0.5188 | Train F1: 0.8614 | Val Loss: 0.4336 | Val F1: 0.9478\n"
     ]
    },
    {
     "name": "stderr",
     "output_type": "stream",
     "text": [
      "Loss: 0.3228: 100%|██████████| 53/53 [00:13<00:00,  4.07it/s]\n",
      "Val Loss: 0.3805: 100%|██████████| 14/14 [00:02<00:00,  4.92it/s]\n"
     ]
    },
    {
     "name": "stdout",
     "output_type": "stream",
     "text": [
      "Epoch 51 | Train Loss: 0.5091 | Train F1: 0.8927 | Val Loss: 0.4454 | Val F1: 0.9620\n"
     ]
    },
    {
     "name": "stderr",
     "output_type": "stream",
     "text": [
      "Loss: 1.3975: 100%|██████████| 53/53 [00:12<00:00,  4.12it/s]\n",
      "Val Loss: 0.3255: 100%|██████████| 14/14 [00:02<00:00,  4.79it/s]\n"
     ]
    },
    {
     "name": "stdout",
     "output_type": "stream",
     "text": [
      "Epoch 52 | Train Loss: 0.5652 | Train F1: 0.8468 | Val Loss: 0.4626 | Val F1: 0.9505\n"
     ]
    },
    {
     "name": "stderr",
     "output_type": "stream",
     "text": [
      "Loss: 0.3218: 100%|██████████| 53/53 [00:12<00:00,  4.08it/s]\n",
      "Val Loss: 1.3923: 100%|██████████| 14/14 [00:02<00:00,  4.70it/s]\n"
     ]
    },
    {
     "name": "stdout",
     "output_type": "stream",
     "text": [
      "Epoch 53 | Train Loss: 0.5626 | Train F1: 0.9031 | Val Loss: 0.5155 | Val F1: 0.9569\n"
     ]
    },
    {
     "name": "stderr",
     "output_type": "stream",
     "text": [
      "Loss: 0.3237: 100%|██████████| 53/53 [00:13<00:00,  4.08it/s]\n",
      "Val Loss: 0.3310: 100%|██████████| 14/14 [00:02<00:00,  4.83it/s]\n"
     ]
    },
    {
     "name": "stdout",
     "output_type": "stream",
     "text": [
      "Epoch 54 | Train Loss: 0.6171 | Train F1: 0.8284 | Val Loss: 0.4394 | Val F1: 0.9596\n"
     ]
    },
    {
     "name": "stderr",
     "output_type": "stream",
     "text": [
      "Loss: 1.3711: 100%|██████████| 53/53 [00:13<00:00,  4.06it/s]\n",
      "Val Loss: 0.3244: 100%|██████████| 14/14 [00:03<00:00,  4.62it/s]\n"
     ]
    },
    {
     "name": "stdout",
     "output_type": "stream",
     "text": [
      "Epoch 55 | Train Loss: 0.4825 | Train F1: 0.8593 | Val Loss: 0.4438 | Val F1: 0.9532\n"
     ]
    },
    {
     "name": "stderr",
     "output_type": "stream",
     "text": [
      "Loss: 0.9209: 100%|██████████| 53/53 [00:12<00:00,  4.09it/s]\n",
      "Val Loss: 0.3242: 100%|██████████| 14/14 [00:03<00:00,  4.58it/s]\n"
     ]
    },
    {
     "name": "stdout",
     "output_type": "stream",
     "text": [
      "Epoch 56 | Train Loss: 0.4907 | Train F1: 0.8487 | Val Loss: 0.4578 | Val F1: 0.9582\n"
     ]
    },
    {
     "name": "stderr",
     "output_type": "stream",
     "text": [
      "Loss: 0.3223: 100%|██████████| 53/53 [00:13<00:00,  4.07it/s]\n",
      "Val Loss: 0.3212: 100%|██████████| 14/14 [00:02<00:00,  4.68it/s]\n"
     ]
    },
    {
     "name": "stdout",
     "output_type": "stream",
     "text": [
      "Epoch 57 | Train Loss: 0.5982 | Train F1: 0.7847 | Val Loss: 0.4464 | Val F1: 0.9589\n"
     ]
    },
    {
     "name": "stderr",
     "output_type": "stream",
     "text": [
      "Loss: 0.3237: 100%|██████████| 53/53 [00:12<00:00,  4.10it/s]\n",
      "Val Loss: 0.3277: 100%|██████████| 14/14 [00:03<00:00,  4.62it/s]\n"
     ]
    },
    {
     "name": "stdout",
     "output_type": "stream",
     "text": [
      "Epoch 58 | Train Loss: 0.6259 | Train F1: 0.8215 | Val Loss: 0.4656 | Val F1: 0.9431\n"
     ]
    },
    {
     "name": "stderr",
     "output_type": "stream",
     "text": [
      "Loss: 0.3218: 100%|██████████| 53/53 [00:12<00:00,  4.10it/s]\n",
      "Val Loss: 0.4053: 100%|██████████| 14/14 [00:02<00:00,  4.77it/s]"
     ]
    },
    {
     "name": "stdout",
     "output_type": "stream",
     "text": [
      "Epoch 59 | Train Loss: 0.4472 | Train F1: 0.9292 | Val Loss: 0.4151 | Val F1: 0.9704\n"
     ]
    },
    {
     "name": "stderr",
     "output_type": "stream",
     "text": [
      "\n",
      "Loss: 0.3223: 100%|██████████| 53/53 [00:12<00:00,  4.08it/s]\n",
      "Val Loss: 0.3211: 100%|██████████| 14/14 [00:03<00:00,  4.64it/s]\n"
     ]
    },
    {
     "name": "stdout",
     "output_type": "stream",
     "text": [
      "Epoch 60 | Train Loss: 0.5613 | Train F1: 0.8477 | Val Loss: 0.4289 | Val F1: 0.9574\n"
     ]
    },
    {
     "name": "stderr",
     "output_type": "stream",
     "text": [
      "Loss: 0.9111: 100%|██████████| 53/53 [00:13<00:00,  4.06it/s]\n",
      "Val Loss: 0.3239: 100%|██████████| 14/14 [00:02<00:00,  4.92it/s]\n"
     ]
    },
    {
     "name": "stdout",
     "output_type": "stream",
     "text": [
      "Epoch 61 | Train Loss: 0.5230 | Train F1: 0.8690 | Val Loss: 0.4365 | Val F1: 0.9528\n"
     ]
    },
    {
     "name": "stderr",
     "output_type": "stream",
     "text": [
      "Loss: 0.6729: 100%|██████████| 53/53 [00:13<00:00,  4.00it/s]\n",
      "Val Loss: 0.3222: 100%|██████████| 14/14 [00:02<00:00,  4.72it/s]\n"
     ]
    },
    {
     "name": "stdout",
     "output_type": "stream",
     "text": [
      "Epoch 62 | Train Loss: 0.5224 | Train F1: 0.8837 | Val Loss: 0.4470 | Val F1: 0.9558\n"
     ]
    },
    {
     "name": "stderr",
     "output_type": "stream",
     "text": [
      "Loss: 0.9795: 100%|██████████| 53/53 [00:12<00:00,  4.08it/s]\n",
      "Val Loss: 0.6437: 100%|██████████| 14/14 [00:02<00:00,  4.82it/s]\n"
     ]
    },
    {
     "name": "stdout",
     "output_type": "stream",
     "text": [
      "Epoch 63 | Train Loss: 0.5335 | Train F1: 0.8394 | Val Loss: 0.4683 | Val F1: 0.9629\n"
     ]
    },
    {
     "name": "stderr",
     "output_type": "stream",
     "text": [
      "Loss: 1.0254: 100%|██████████| 53/53 [00:12<00:00,  4.11it/s]\n",
      "Val Loss: 0.3400: 100%|██████████| 14/14 [00:02<00:00,  4.74it/s]\n"
     ]
    },
    {
     "name": "stdout",
     "output_type": "stream",
     "text": [
      "Epoch 64 | Train Loss: 0.5248 | Train F1: 0.8706 | Val Loss: 0.4290 | Val F1: 0.9674\n"
     ]
    },
    {
     "name": "stderr",
     "output_type": "stream",
     "text": [
      "Loss: 0.3218: 100%|██████████| 53/53 [00:12<00:00,  4.09it/s]\n",
      "Val Loss: 0.3227: 100%|██████████| 14/14 [00:02<00:00,  4.73it/s]\n"
     ]
    },
    {
     "name": "stdout",
     "output_type": "stream",
     "text": [
      "Epoch 65 | Train Loss: 0.6490 | Train F1: 0.8307 | Val Loss: 0.4233 | Val F1: 0.9670\n"
     ]
    },
    {
     "name": "stderr",
     "output_type": "stream",
     "text": [
      "Loss: 1.0010: 100%|██████████| 53/53 [00:13<00:00,  4.05it/s]\n",
      "Val Loss: 0.3211: 100%|██████████| 14/14 [00:02<00:00,  4.70it/s]\n"
     ]
    },
    {
     "name": "stdout",
     "output_type": "stream",
     "text": [
      "Epoch 66 | Train Loss: 0.4995 | Train F1: 0.9184 | Val Loss: 0.4536 | Val F1: 0.9565\n"
     ]
    },
    {
     "name": "stderr",
     "output_type": "stream",
     "text": [
      "Loss: 0.6982: 100%|██████████| 53/53 [00:12<00:00,  4.09it/s]\n",
      "Val Loss: 0.3212: 100%|██████████| 14/14 [00:03<00:00,  4.64it/s]\n"
     ]
    },
    {
     "name": "stdout",
     "output_type": "stream",
     "text": [
      "Epoch 67 | Train Loss: 0.5569 | Train F1: 0.7977 | Val Loss: 0.4393 | Val F1: 0.9621\n"
     ]
    },
    {
     "name": "stderr",
     "output_type": "stream",
     "text": [
      "Loss: 0.7500: 100%|██████████| 53/53 [00:13<00:00,  4.07it/s]\n",
      "Val Loss: 0.3208: 100%|██████████| 14/14 [00:03<00:00,  4.56it/s]\n"
     ]
    },
    {
     "name": "stdout",
     "output_type": "stream",
     "text": [
      "Epoch 68 | Train Loss: 0.4643 | Train F1: 0.8876 | Val Loss: 0.4331 | Val F1: 0.9559\n"
     ]
    },
    {
     "name": "stderr",
     "output_type": "stream",
     "text": [
      "Loss: 0.6826: 100%|██████████| 53/53 [00:13<00:00,  3.98it/s]\n",
      "Val Loss: 0.3220: 100%|██████████| 14/14 [00:03<00:00,  4.63it/s]\n"
     ]
    },
    {
     "name": "stdout",
     "output_type": "stream",
     "text": [
      "Epoch 69 | Train Loss: 0.4980 | Train F1: 0.9012 | Val Loss: 0.4272 | Val F1: 0.9473\n"
     ]
    },
    {
     "name": "stderr",
     "output_type": "stream",
     "text": [
      "Loss: 0.3210: 100%|██████████| 53/53 [00:12<00:00,  4.10it/s]\n",
      "Val Loss: 0.3208: 100%|██████████| 14/14 [00:03<00:00,  4.60it/s]\n"
     ]
    },
    {
     "name": "stdout",
     "output_type": "stream",
     "text": [
      "Epoch 70 | Train Loss: 0.5346 | Train F1: 0.8299 | Val Loss: 0.4151 | Val F1: 0.9620\n"
     ]
    },
    {
     "name": "stderr",
     "output_type": "stream",
     "text": [
      "Loss: 0.8071: 100%|██████████| 53/53 [00:12<00:00,  4.10it/s]\n",
      "Val Loss: 0.3211: 100%|██████████| 14/14 [00:02<00:00,  4.73it/s]\n"
     ]
    },
    {
     "name": "stdout",
     "output_type": "stream",
     "text": [
      "Epoch 71 | Train Loss: 0.4956 | Train F1: 0.8911 | Val Loss: 0.4177 | Val F1: 0.9575\n"
     ]
    },
    {
     "name": "stderr",
     "output_type": "stream",
     "text": [
      "Loss: 0.7607: 100%|██████████| 53/53 [00:12<00:00,  4.10it/s]\n",
      "Val Loss: 0.4835: 100%|██████████| 14/14 [00:03<00:00,  4.61it/s]\n"
     ]
    },
    {
     "name": "stdout",
     "output_type": "stream",
     "text": [
      "Epoch 72 | Train Loss: 0.4859 | Train F1: 0.8742 | Val Loss: 0.4334 | Val F1: 0.9612\n"
     ]
    },
    {
     "name": "stderr",
     "output_type": "stream",
     "text": [
      "Loss: 0.3230: 100%|██████████| 53/53 [00:13<00:00,  4.08it/s]\n",
      "Val Loss: 0.3235: 100%|██████████| 14/14 [00:03<00:00,  4.63it/s]\n"
     ]
    },
    {
     "name": "stdout",
     "output_type": "stream",
     "text": [
      "Epoch 73 | Train Loss: 0.4896 | Train F1: 0.8851 | Val Loss: 0.4270 | Val F1: 0.9676\n"
     ]
    },
    {
     "name": "stderr",
     "output_type": "stream",
     "text": [
      "Loss: 0.7734: 100%|██████████| 53/53 [00:13<00:00,  4.07it/s]\n",
      "Val Loss: 0.3212: 100%|██████████| 14/14 [00:03<00:00,  4.64it/s]\n"
     ]
    },
    {
     "name": "stdout",
     "output_type": "stream",
     "text": [
      "Epoch 74 | Train Loss: 0.4931 | Train F1: 0.9069 | Val Loss: 0.4249 | Val F1: 0.9613\n"
     ]
    },
    {
     "name": "stderr",
     "output_type": "stream",
     "text": [
      "Loss: 1.0273: 100%|██████████| 53/53 [00:12<00:00,  4.10it/s]\n",
      "Val Loss: 0.3464: 100%|██████████| 14/14 [00:03<00:00,  4.58it/s]\n"
     ]
    },
    {
     "name": "stdout",
     "output_type": "stream",
     "text": [
      "Epoch 75 | Train Loss: 0.5758 | Train F1: 0.8323 | Val Loss: 0.4770 | Val F1: 0.9531\n"
     ]
    },
    {
     "name": "stderr",
     "output_type": "stream",
     "text": [
      "Loss: 0.3213: 100%|██████████| 53/53 [00:12<00:00,  4.09it/s]\n",
      "Val Loss: 0.3206: 100%|██████████| 14/14 [00:02<00:00,  4.83it/s]\n"
     ]
    },
    {
     "name": "stdout",
     "output_type": "stream",
     "text": [
      "Epoch 76 | Train Loss: 0.4917 | Train F1: 0.9060 | Val Loss: 0.4097 | Val F1: 0.9698\n"
     ]
    },
    {
     "name": "stderr",
     "output_type": "stream",
     "text": [
      "Loss: 0.3213: 100%|██████████| 53/53 [00:12<00:00,  4.11it/s]\n",
      "Val Loss: 0.3230: 100%|██████████| 14/14 [00:02<00:00,  4.69it/s]"
     ]
    },
    {
     "name": "stdout",
     "output_type": "stream",
     "text": [
      "Epoch 77 | Train Loss: 0.5523 | Train F1: 0.8247 | Val Loss: 0.4070 | Val F1: 0.9747\n"
     ]
    },
    {
     "name": "stderr",
     "output_type": "stream",
     "text": [
      "\n",
      "Loss: 0.3206: 100%|██████████| 53/53 [00:12<00:00,  4.11it/s]\n",
      "Val Loss: 0.3236: 100%|██████████| 14/14 [00:03<00:00,  4.59it/s]\n"
     ]
    },
    {
     "name": "stdout",
     "output_type": "stream",
     "text": [
      "Epoch 78 | Train Loss: 0.5297 | Train F1: 0.8478 | Val Loss: 0.4113 | Val F1: 0.9727\n"
     ]
    },
    {
     "name": "stderr",
     "output_type": "stream",
     "text": [
      "Loss: 0.3206: 100%|██████████| 53/53 [00:12<00:00,  4.09it/s]\n",
      "Val Loss: 0.3225: 100%|██████████| 14/14 [00:03<00:00,  4.61it/s]\n"
     ]
    },
    {
     "name": "stdout",
     "output_type": "stream",
     "text": [
      "Epoch 79 | Train Loss: 0.5400 | Train F1: 0.8454 | Val Loss: 0.4194 | Val F1: 0.9662\n"
     ]
    },
    {
     "name": "stderr",
     "output_type": "stream",
     "text": [
      "Loss: 0.3303: 100%|██████████| 53/53 [00:12<00:00,  4.10it/s]\n",
      "Val Loss: 0.3220: 100%|██████████| 14/14 [00:03<00:00,  4.63it/s]\n"
     ]
    },
    {
     "name": "stdout",
     "output_type": "stream",
     "text": [
      "Epoch 80 | Train Loss: 0.5462 | Train F1: 0.8086 | Val Loss: 0.4143 | Val F1: 0.9632\n"
     ]
    },
    {
     "name": "stderr",
     "output_type": "stream",
     "text": [
      "Loss: 0.3206: 100%|██████████| 53/53 [00:13<00:00,  4.07it/s]\n",
      "Val Loss: 0.4100: 100%|██████████| 14/14 [00:02<00:00,  4.78it/s]\n"
     ]
    },
    {
     "name": "stdout",
     "output_type": "stream",
     "text": [
      "Epoch 81 | Train Loss: 0.5278 | Train F1: 0.9019 | Val Loss: 0.4187 | Val F1: 0.9630\n"
     ]
    },
    {
     "name": "stderr",
     "output_type": "stream",
     "text": [
      "Loss: 0.3203: 100%|██████████| 53/53 [00:12<00:00,  4.11it/s]\n",
      "Val Loss: 0.3216: 100%|██████████| 14/14 [00:02<00:00,  4.76it/s]\n"
     ]
    },
    {
     "name": "stdout",
     "output_type": "stream",
     "text": [
      "Epoch 82 | Train Loss: 0.5148 | Train F1: 0.9131 | Val Loss: 0.4140 | Val F1: 0.9698\n"
     ]
    },
    {
     "name": "stderr",
     "output_type": "stream",
     "text": [
      "Loss: 0.3208: 100%|██████████| 53/53 [00:12<00:00,  4.08it/s]\n",
      "Val Loss: 0.3228: 100%|██████████| 14/14 [00:03<00:00,  4.54it/s]\n"
     ]
    },
    {
     "name": "stdout",
     "output_type": "stream",
     "text": [
      "Epoch 83 | Train Loss: 0.5615 | Train F1: 0.8425 | Val Loss: 0.4202 | Val F1: 0.9659\n"
     ]
    },
    {
     "name": "stderr",
     "output_type": "stream",
     "text": [
      "Loss: 0.7793: 100%|██████████| 53/53 [00:13<00:00,  4.05it/s]\n",
      "Val Loss: 0.3209: 100%|██████████| 14/14 [00:02<00:00,  4.82it/s]\n"
     ]
    },
    {
     "name": "stdout",
     "output_type": "stream",
     "text": [
      "Epoch 84 | Train Loss: 0.5301 | Train F1: 0.8812 | Val Loss: 0.4272 | Val F1: 0.9661\n"
     ]
    },
    {
     "name": "stderr",
     "output_type": "stream",
     "text": [
      "Loss: 0.4966: 100%|██████████| 53/53 [00:12<00:00,  4.09it/s]\n",
      "Val Loss: 0.3209: 100%|██████████| 14/14 [00:02<00:00,  4.77it/s]\n"
     ]
    },
    {
     "name": "stdout",
     "output_type": "stream",
     "text": [
      "Epoch 85 | Train Loss: 0.5891 | Train F1: 0.8097 | Val Loss: 0.4392 | Val F1: 0.9533\n"
     ]
    },
    {
     "name": "stderr",
     "output_type": "stream",
     "text": [
      "Loss: 0.9204: 100%|██████████| 53/53 [00:12<00:00,  4.13it/s]\n",
      "Val Loss: 0.3214: 100%|██████████| 14/14 [00:02<00:00,  4.72it/s]\n"
     ]
    },
    {
     "name": "stdout",
     "output_type": "stream",
     "text": [
      "Epoch 86 | Train Loss: 0.5232 | Train F1: 0.8587 | Val Loss: 0.4307 | Val F1: 0.9642\n"
     ]
    },
    {
     "name": "stderr",
     "output_type": "stream",
     "text": [
      "Loss: 0.3210: 100%|██████████| 53/53 [00:12<00:00,  4.09it/s]\n",
      "Val Loss: 0.3250: 100%|██████████| 14/14 [00:02<00:00,  4.70it/s]\n"
     ]
    },
    {
     "name": "stdout",
     "output_type": "stream",
     "text": [
      "Epoch 87 | Train Loss: 0.4811 | Train F1: 0.8586 | Val Loss: 0.4196 | Val F1: 0.9647\n"
     ]
    },
    {
     "name": "stderr",
     "output_type": "stream",
     "text": [
      "Loss: 1.0117: 100%|██████████| 53/53 [00:13<00:00,  4.08it/s]\n",
      "Val Loss: 0.3235: 100%|██████████| 14/14 [00:03<00:00,  4.56it/s]\n"
     ]
    },
    {
     "name": "stdout",
     "output_type": "stream",
     "text": [
      "Epoch 88 | Train Loss: 0.5203 | Train F1: 0.8943 | Val Loss: 0.4305 | Val F1: 0.9618\n"
     ]
    },
    {
     "name": "stderr",
     "output_type": "stream",
     "text": [
      "Loss: 0.3208: 100%|██████████| 53/53 [00:12<00:00,  4.08it/s]\n",
      "Val Loss: 0.3310: 100%|██████████| 14/14 [00:03<00:00,  4.58it/s]\n"
     ]
    },
    {
     "name": "stdout",
     "output_type": "stream",
     "text": [
      "Epoch 89 | Train Loss: 0.5482 | Train F1: 0.7932 | Val Loss: 0.4127 | Val F1: 0.9695\n"
     ]
    },
    {
     "name": "stderr",
     "output_type": "stream",
     "text": [
      "Loss: 0.8389: 100%|██████████| 53/53 [00:13<00:00,  4.02it/s]\n",
      "Val Loss: 0.3486: 100%|██████████| 14/14 [00:02<00:00,  4.69it/s]\n"
     ]
    },
    {
     "name": "stdout",
     "output_type": "stream",
     "text": [
      "Epoch 90 | Train Loss: 0.5423 | Train F1: 0.8483 | Val Loss: 0.4103 | Val F1: 0.9700\n"
     ]
    },
    {
     "name": "stderr",
     "output_type": "stream",
     "text": [
      "Loss: 0.6768: 100%|██████████| 53/53 [00:12<00:00,  4.10it/s]\n",
      "Val Loss: 0.3498: 100%|██████████| 14/14 [00:02<00:00,  4.73it/s]\n"
     ]
    },
    {
     "name": "stdout",
     "output_type": "stream",
     "text": [
      "Epoch 91 | Train Loss: 0.4991 | Train F1: 0.8820 | Val Loss: 0.4308 | Val F1: 0.9622\n"
     ]
    },
    {
     "name": "stderr",
     "output_type": "stream",
     "text": [
      "Loss: 1.0840: 100%|██████████| 53/53 [00:12<00:00,  4.09it/s]\n",
      "Val Loss: 0.4730: 100%|██████████| 14/14 [00:02<00:00,  4.76it/s]\n"
     ]
    },
    {
     "name": "stdout",
     "output_type": "stream",
     "text": [
      "Epoch 92 | Train Loss: 0.4586 | Train F1: 0.9026 | Val Loss: 0.4229 | Val F1: 0.9727\n"
     ]
    },
    {
     "name": "stderr",
     "output_type": "stream",
     "text": [
      "Loss: 0.3206: 100%|██████████| 53/53 [00:12<00:00,  4.09it/s]\n",
      "Val Loss: 0.3215: 100%|██████████| 14/14 [00:02<00:00,  4.71it/s]\n"
     ]
    },
    {
     "name": "stdout",
     "output_type": "stream",
     "text": [
      "Epoch 93 | Train Loss: 0.4474 | Train F1: 0.8888 | Val Loss: 0.4207 | Val F1: 0.9664\n"
     ]
    },
    {
     "name": "stderr",
     "output_type": "stream",
     "text": [
      "Loss: 0.4395: 100%|██████████| 53/53 [00:12<00:00,  4.10it/s]\n",
      "Val Loss: 0.3248: 100%|██████████| 14/14 [00:02<00:00,  4.67it/s]\n"
     ]
    },
    {
     "name": "stdout",
     "output_type": "stream",
     "text": [
      "Epoch 94 | Train Loss: 0.5891 | Train F1: 0.7987 | Val Loss: 0.4184 | Val F1: 0.9700\n"
     ]
    },
    {
     "name": "stderr",
     "output_type": "stream",
     "text": [
      "Loss: 0.3206: 100%|██████████| 53/53 [00:13<00:00,  4.06it/s]\n",
      "Val Loss: 0.3421: 100%|██████████| 14/14 [00:02<00:00,  4.85it/s]\n"
     ]
    },
    {
     "name": "stdout",
     "output_type": "stream",
     "text": [
      "Epoch 95 | Train Loss: 0.4699 | Train F1: 0.8888 | Val Loss: 0.4267 | Val F1: 0.9624\n"
     ]
    },
    {
     "name": "stderr",
     "output_type": "stream",
     "text": [
      "Loss: 0.9385: 100%|██████████| 53/53 [00:12<00:00,  4.08it/s]\n",
      "Val Loss: 0.3218: 100%|██████████| 14/14 [00:03<00:00,  4.62it/s]\n"
     ]
    },
    {
     "name": "stdout",
     "output_type": "stream",
     "text": [
      "Epoch 96 | Train Loss: 0.4429 | Train F1: 0.9512 | Val Loss: 0.4278 | Val F1: 0.9648\n"
     ]
    },
    {
     "name": "stderr",
     "output_type": "stream",
     "text": [
      "Loss: 1.1611: 100%|██████████| 53/53 [00:12<00:00,  4.10it/s]\n",
      "Val Loss: 0.3686: 100%|██████████| 14/14 [00:02<00:00,  4.78it/s]\n"
     ]
    },
    {
     "name": "stdout",
     "output_type": "stream",
     "text": [
      "Epoch 97 | Train Loss: 0.5765 | Train F1: 0.8544 | Val Loss: 0.4328 | Val F1: 0.9586\n"
     ]
    },
    {
     "name": "stderr",
     "output_type": "stream",
     "text": [
      "Loss: 0.3206: 100%|██████████| 53/53 [00:12<00:00,  4.10it/s]\n",
      "Val Loss: 0.3284: 100%|██████████| 14/14 [00:02<00:00,  4.72it/s]\n"
     ]
    },
    {
     "name": "stdout",
     "output_type": "stream",
     "text": [
      "Epoch 98 | Train Loss: 0.4428 | Train F1: 0.8860 | Val Loss: 0.4363 | Val F1: 0.9607\n"
     ]
    },
    {
     "name": "stderr",
     "output_type": "stream",
     "text": [
      "Loss: 0.3206: 100%|██████████| 53/53 [00:12<00:00,  4.09it/s]\n",
      "Val Loss: 0.3207: 100%|██████████| 14/14 [00:02<00:00,  4.76it/s]\n"
     ]
    },
    {
     "name": "stdout",
     "output_type": "stream",
     "text": [
      "Epoch 99 | Train Loss: 0.4692 | Train F1: 0.8835 | Val Loss: 0.4379 | Val F1: 0.9642\n"
     ]
    },
    {
     "name": "stderr",
     "output_type": "stream",
     "text": [
      "Loss: 0.3206: 100%|██████████| 53/53 [00:12<00:00,  4.10it/s]\n",
      "Val Loss: 0.3230: 100%|██████████| 14/14 [00:02<00:00,  4.73it/s]\n"
     ]
    },
    {
     "name": "stdout",
     "output_type": "stream",
     "text": [
      "Epoch 100 | Train Loss: 0.4680 | Train F1: 0.8996 | Val Loss: 0.4216 | Val F1: 0.9677\n",
      "Fold 1 Best Validation F1: 0.9747\n",
      "\n",
      "==================================================\n",
      "FOLD 2/5\n",
      "==================================================\n",
      "Train samples: 1256, Validation samples: 314\n"
     ]
    },
    {
     "name": "stderr",
     "output_type": "stream",
     "text": [
      "Loss: 1.8008: 100%|██████████| 53/53 [00:12<00:00,  4.09it/s]\n",
      "Val Loss: 0.9751: 100%|██████████| 14/14 [00:02<00:00,  4.72it/s]"
     ]
    },
    {
     "name": "stdout",
     "output_type": "stream",
     "text": [
      "Epoch  1 | Train Loss: 2.0375 | Train F1: 0.3464 | Val Loss: 1.1016 | Val F1: 0.6300\n"
     ]
    },
    {
     "name": "stderr",
     "output_type": "stream",
     "text": [
      "\n",
      "Loss: 0.6538: 100%|██████████| 53/53 [00:12<00:00,  4.10it/s]\n",
      "Val Loss: 1.1135: 100%|██████████| 14/14 [00:02<00:00,  4.73it/s]"
     ]
    },
    {
     "name": "stdout",
     "output_type": "stream",
     "text": [
      "Epoch  2 | Train Loss: 1.2537 | Train F1: 0.6077 | Val Loss: 0.7713 | Val F1: 0.8122\n"
     ]
    },
    {
     "name": "stderr",
     "output_type": "stream",
     "text": [
      "\n",
      "Loss: 1.4570: 100%|██████████| 53/53 [00:12<00:00,  4.11it/s]\n",
      "Val Loss: 0.9911: 100%|██████████| 14/14 [00:03<00:00,  4.63it/s]"
     ]
    },
    {
     "name": "stdout",
     "output_type": "stream",
     "text": [
      "Epoch  3 | Train Loss: 1.0074 | Train F1: 0.6513 | Val Loss: 0.6993 | Val F1: 0.8310\n"
     ]
    },
    {
     "name": "stderr",
     "output_type": "stream",
     "text": [
      "\n",
      "Loss: 1.3516: 100%|██████████| 53/53 [00:12<00:00,  4.09it/s]\n",
      "Val Loss: 2.1420: 100%|██████████| 14/14 [00:03<00:00,  4.56it/s]"
     ]
    },
    {
     "name": "stdout",
     "output_type": "stream",
     "text": [
      "Epoch  4 | Train Loss: 0.8511 | Train F1: 0.7732 | Val Loss: 0.7149 | Val F1: 0.8762\n"
     ]
    },
    {
     "name": "stderr",
     "output_type": "stream",
     "text": [
      "\n",
      "Loss: 0.4038: 100%|██████████| 53/53 [00:13<00:00,  4.05it/s]\n",
      "Val Loss: 0.7496: 100%|██████████| 14/14 [00:03<00:00,  4.61it/s]\n"
     ]
    },
    {
     "name": "stdout",
     "output_type": "stream",
     "text": [
      "Epoch  5 | Train Loss: 0.8330 | Train F1: 0.7710 | Val Loss: 0.5625 | Val F1: 0.8619\n"
     ]
    },
    {
     "name": "stderr",
     "output_type": "stream",
     "text": [
      "Loss: 1.1035: 100%|██████████| 53/53 [00:12<00:00,  4.09it/s]\n",
      "Val Loss: 0.3544: 100%|██████████| 14/14 [00:03<00:00,  4.64it/s]"
     ]
    },
    {
     "name": "stdout",
     "output_type": "stream",
     "text": [
      "Epoch  6 | Train Loss: 0.7262 | Train F1: 0.7982 | Val Loss: 0.5508 | Val F1: 0.8964\n"
     ]
    },
    {
     "name": "stderr",
     "output_type": "stream",
     "text": [
      "\n",
      "Loss: 1.8594: 100%|██████████| 53/53 [00:13<00:00,  4.05it/s]\n",
      "Val Loss: 0.6350: 100%|██████████| 14/14 [00:03<00:00,  4.50it/s]\n"
     ]
    },
    {
     "name": "stdout",
     "output_type": "stream",
     "text": [
      "Epoch  7 | Train Loss: 0.8364 | Train F1: 0.7580 | Val Loss: 0.5511 | Val F1: 0.8842\n"
     ]
    },
    {
     "name": "stderr",
     "output_type": "stream",
     "text": [
      "Loss: 0.4604: 100%|██████████| 53/53 [00:12<00:00,  4.09it/s]\n",
      "Val Loss: 1.1819: 100%|██████████| 14/14 [00:02<00:00,  4.73it/s]\n"
     ]
    },
    {
     "name": "stdout",
     "output_type": "stream",
     "text": [
      "Epoch  8 | Train Loss: 0.7850 | Train F1: 0.8113 | Val Loss: 0.6390 | Val F1: 0.8892\n"
     ]
    },
    {
     "name": "stderr",
     "output_type": "stream",
     "text": [
      "Loss: 0.5723: 100%|██████████| 53/53 [00:12<00:00,  4.11it/s]\n",
      "Val Loss: 0.6330: 100%|██████████| 14/14 [00:02<00:00,  4.69it/s]"
     ]
    },
    {
     "name": "stdout",
     "output_type": "stream",
     "text": [
      "Epoch  9 | Train Loss: 0.7659 | Train F1: 0.7959 | Val Loss: 0.4816 | Val F1: 0.9377\n"
     ]
    },
    {
     "name": "stderr",
     "output_type": "stream",
     "text": [
      "\n",
      "Loss: 0.3877: 100%|██████████| 53/53 [00:13<00:00,  4.08it/s]\n",
      "Val Loss: 0.7501: 100%|██████████| 14/14 [00:03<00:00,  4.54it/s]\n"
     ]
    },
    {
     "name": "stdout",
     "output_type": "stream",
     "text": [
      "Epoch 10 | Train Loss: 0.7762 | Train F1: 0.7880 | Val Loss: 0.5162 | Val F1: 0.9249\n"
     ]
    },
    {
     "name": "stderr",
     "output_type": "stream",
     "text": [
      "Loss: 0.5859: 100%|██████████| 53/53 [00:12<00:00,  4.09it/s]\n",
      "Val Loss: 0.3885: 100%|██████████| 14/14 [00:03<00:00,  4.65it/s]\n"
     ]
    },
    {
     "name": "stdout",
     "output_type": "stream",
     "text": [
      "Epoch 11 | Train Loss: 0.7026 | Train F1: 0.8465 | Val Loss: 0.4945 | Val F1: 0.9356\n"
     ]
    },
    {
     "name": "stderr",
     "output_type": "stream",
     "text": [
      "Loss: 0.5273: 100%|██████████| 53/53 [00:12<00:00,  4.09it/s]\n",
      "Val Loss: 0.8700: 100%|██████████| 14/14 [00:03<00:00,  4.59it/s]\n"
     ]
    },
    {
     "name": "stdout",
     "output_type": "stream",
     "text": [
      "Epoch 12 | Train Loss: 0.6518 | Train F1: 0.8646 | Val Loss: 0.5088 | Val F1: 0.9160\n"
     ]
    },
    {
     "name": "stderr",
     "output_type": "stream",
     "text": [
      "Loss: 0.3467: 100%|██████████| 53/53 [00:12<00:00,  4.09it/s]\n",
      "Val Loss: 0.3540: 100%|██████████| 14/14 [00:03<00:00,  4.56it/s]\n"
     ]
    },
    {
     "name": "stdout",
     "output_type": "stream",
     "text": [
      "Epoch 13 | Train Loss: 0.6999 | Train F1: 0.8385 | Val Loss: 0.5167 | Val F1: 0.9185\n"
     ]
    },
    {
     "name": "stderr",
     "output_type": "stream",
     "text": [
      "Loss: 0.8027: 100%|██████████| 53/53 [00:13<00:00,  4.04it/s]\n",
      "Val Loss: 0.3676: 100%|██████████| 14/14 [00:03<00:00,  4.53it/s]"
     ]
    },
    {
     "name": "stdout",
     "output_type": "stream",
     "text": [
      "Epoch 14 | Train Loss: 0.6604 | Train F1: 0.8348 | Val Loss: 0.4530 | Val F1: 0.9422\n"
     ]
    },
    {
     "name": "stderr",
     "output_type": "stream",
     "text": [
      "\n",
      "Loss: 0.9316: 100%|██████████| 53/53 [00:13<00:00,  4.07it/s]\n",
      "Val Loss: 0.8614: 100%|██████████| 14/14 [00:03<00:00,  4.66it/s]"
     ]
    },
    {
     "name": "stdout",
     "output_type": "stream",
     "text": [
      "Epoch 15 | Train Loss: 0.7134 | Train F1: 0.8211 | Val Loss: 0.4752 | Val F1: 0.9437\n"
     ]
    },
    {
     "name": "stderr",
     "output_type": "stream",
     "text": [
      "\n",
      "Loss: 0.3337: 100%|██████████| 53/53 [00:12<00:00,  4.09it/s]\n",
      "Val Loss: 0.6275: 100%|██████████| 14/14 [00:02<00:00,  4.69it/s]"
     ]
    },
    {
     "name": "stdout",
     "output_type": "stream",
     "text": [
      "Epoch 16 | Train Loss: 0.7045 | Train F1: 0.7792 | Val Loss: 0.4642 | Val F1: 0.9614\n"
     ]
    },
    {
     "name": "stderr",
     "output_type": "stream",
     "text": [
      "\n",
      "Loss: 0.5801: 100%|██████████| 53/53 [00:12<00:00,  4.09it/s]\n",
      "Val Loss: 0.5497: 100%|██████████| 14/14 [00:03<00:00,  4.66it/s]\n"
     ]
    },
    {
     "name": "stdout",
     "output_type": "stream",
     "text": [
      "Epoch 17 | Train Loss: 0.6284 | Train F1: 0.7930 | Val Loss: 0.4949 | Val F1: 0.9427\n"
     ]
    },
    {
     "name": "stderr",
     "output_type": "stream",
     "text": [
      "Loss: 0.3342: 100%|██████████| 53/53 [00:12<00:00,  4.09it/s]\n",
      "Val Loss: 0.4408: 100%|██████████| 14/14 [00:02<00:00,  4.70it/s]\n"
     ]
    },
    {
     "name": "stdout",
     "output_type": "stream",
     "text": [
      "Epoch 18 | Train Loss: 0.5679 | Train F1: 0.8836 | Val Loss: 0.4547 | Val F1: 0.9565\n"
     ]
    },
    {
     "name": "stderr",
     "output_type": "stream",
     "text": [
      "Loss: 0.3582: 100%|██████████| 53/53 [00:13<00:00,  4.05it/s]\n",
      "Val Loss: 0.3603: 100%|██████████| 14/14 [00:03<00:00,  4.57it/s]\n"
     ]
    },
    {
     "name": "stdout",
     "output_type": "stream",
     "text": [
      "Epoch 19 | Train Loss: 0.5736 | Train F1: 0.8746 | Val Loss: 0.4948 | Val F1: 0.9388\n"
     ]
    },
    {
     "name": "stderr",
     "output_type": "stream",
     "text": [
      "Loss: 0.3286: 100%|██████████| 53/53 [00:12<00:00,  4.10it/s]\n",
      "Val Loss: 0.3575: 100%|██████████| 14/14 [00:03<00:00,  4.54it/s]\n"
     ]
    },
    {
     "name": "stdout",
     "output_type": "stream",
     "text": [
      "Epoch 20 | Train Loss: 0.6449 | Train F1: 0.8278 | Val Loss: 0.4780 | Val F1: 0.9418\n"
     ]
    },
    {
     "name": "stderr",
     "output_type": "stream",
     "text": [
      "Loss: 0.3623: 100%|██████████| 53/53 [00:13<00:00,  4.06it/s]\n",
      "Val Loss: 0.3347: 100%|██████████| 14/14 [00:03<00:00,  4.54it/s]\n"
     ]
    },
    {
     "name": "stdout",
     "output_type": "stream",
     "text": [
      "Epoch 21 | Train Loss: 0.5499 | Train F1: 0.8880 | Val Loss: 0.4682 | Val F1: 0.9400\n"
     ]
    },
    {
     "name": "stderr",
     "output_type": "stream",
     "text": [
      "Loss: 0.3274: 100%|██████████| 53/53 [00:12<00:00,  4.10it/s]\n",
      "Val Loss: 0.4571: 100%|██████████| 14/14 [00:03<00:00,  4.63it/s]"
     ]
    },
    {
     "name": "stdout",
     "output_type": "stream",
     "text": [
      "Epoch 22 | Train Loss: 0.5680 | Train F1: 0.8684 | Val Loss: 0.4441 | Val F1: 0.9690\n"
     ]
    },
    {
     "name": "stderr",
     "output_type": "stream",
     "text": [
      "\n",
      "Loss: 0.3379: 100%|██████████| 53/53 [00:13<00:00,  4.04it/s]\n",
      "Val Loss: 1.0913: 100%|██████████| 14/14 [00:02<00:00,  4.73it/s]\n"
     ]
    },
    {
     "name": "stdout",
     "output_type": "stream",
     "text": [
      "Epoch 23 | Train Loss: 0.5435 | Train F1: 0.8564 | Val Loss: 0.5086 | Val F1: 0.9483\n"
     ]
    },
    {
     "name": "stderr",
     "output_type": "stream",
     "text": [
      "Loss: 0.3530: 100%|██████████| 53/53 [00:12<00:00,  4.08it/s]\n",
      "Val Loss: 0.3712: 100%|██████████| 14/14 [00:03<00:00,  4.62it/s]\n"
     ]
    },
    {
     "name": "stdout",
     "output_type": "stream",
     "text": [
      "Epoch 24 | Train Loss: 0.6301 | Train F1: 0.8120 | Val Loss: 0.4995 | Val F1: 0.9345\n"
     ]
    },
    {
     "name": "stderr",
     "output_type": "stream",
     "text": [
      "Loss: 0.3298: 100%|██████████| 53/53 [00:12<00:00,  4.09it/s]\n",
      "Val Loss: 0.3431: 100%|██████████| 14/14 [00:03<00:00,  4.65it/s]\n"
     ]
    },
    {
     "name": "stdout",
     "output_type": "stream",
     "text": [
      "Epoch 25 | Train Loss: 0.5842 | Train F1: 0.8147 | Val Loss: 0.4481 | Val F1: 0.9511\n"
     ]
    },
    {
     "name": "stderr",
     "output_type": "stream",
     "text": [
      "Loss: 0.3262: 100%|██████████| 53/53 [00:13<00:00,  4.05it/s]\n",
      "Val Loss: 0.4863: 100%|██████████| 14/14 [00:02<00:00,  4.67it/s]\n"
     ]
    },
    {
     "name": "stdout",
     "output_type": "stream",
     "text": [
      "Epoch 26 | Train Loss: 0.5189 | Train F1: 0.8467 | Val Loss: 0.4569 | Val F1: 0.9575\n"
     ]
    },
    {
     "name": "stderr",
     "output_type": "stream",
     "text": [
      "Loss: 0.3479: 100%|██████████| 53/53 [00:12<00:00,  4.09it/s]\n",
      "Val Loss: 0.7666: 100%|██████████| 14/14 [00:03<00:00,  4.64it/s]\n"
     ]
    },
    {
     "name": "stdout",
     "output_type": "stream",
     "text": [
      "Epoch 27 | Train Loss: 0.6477 | Train F1: 0.8019 | Val Loss: 0.4789 | Val F1: 0.9523\n"
     ]
    },
    {
     "name": "stderr",
     "output_type": "stream",
     "text": [
      "Loss: 0.3330: 100%|██████████| 53/53 [00:12<00:00,  4.09it/s]\n",
      "Val Loss: 0.3373: 100%|██████████| 14/14 [00:03<00:00,  4.42it/s]\n"
     ]
    },
    {
     "name": "stdout",
     "output_type": "stream",
     "text": [
      "Epoch 28 | Train Loss: 0.5679 | Train F1: 0.8406 | Val Loss: 0.4355 | Val F1: 0.9599\n"
     ]
    },
    {
     "name": "stderr",
     "output_type": "stream",
     "text": [
      "Loss: 0.3293: 100%|██████████| 53/53 [00:12<00:00,  4.10it/s]\n",
      "Val Loss: 1.3053: 100%|██████████| 14/14 [00:03<00:00,  4.57it/s]\n"
     ]
    },
    {
     "name": "stdout",
     "output_type": "stream",
     "text": [
      "Epoch 29 | Train Loss: 0.5423 | Train F1: 0.9341 | Val Loss: 0.5286 | Val F1: 0.9401\n"
     ]
    },
    {
     "name": "stderr",
     "output_type": "stream",
     "text": [
      "Loss: 0.3320: 100%|██████████| 53/53 [00:12<00:00,  4.08it/s]\n",
      "Val Loss: 0.8836: 100%|██████████| 14/14 [00:03<00:00,  4.47it/s]\n"
     ]
    },
    {
     "name": "stdout",
     "output_type": "stream",
     "text": [
      "Epoch 30 | Train Loss: 0.6503 | Train F1: 0.8484 | Val Loss: 0.5294 | Val F1: 0.9363\n"
     ]
    },
    {
     "name": "stderr",
     "output_type": "stream",
     "text": [
      "Loss: 0.3293: 100%|██████████| 53/53 [00:13<00:00,  4.02it/s]\n",
      "Val Loss: 0.3387: 100%|██████████| 14/14 [00:03<00:00,  4.55it/s]\n"
     ]
    },
    {
     "name": "stdout",
     "output_type": "stream",
     "text": [
      "Epoch 31 | Train Loss: 0.5257 | Train F1: 0.8828 | Val Loss: 0.5143 | Val F1: 0.9563\n"
     ]
    },
    {
     "name": "stderr",
     "output_type": "stream",
     "text": [
      "Loss: 0.3235: 100%|██████████| 53/53 [00:12<00:00,  4.08it/s]\n",
      "Val Loss: 0.3514: 100%|██████████| 14/14 [00:03<00:00,  4.59it/s]\n"
     ]
    },
    {
     "name": "stdout",
     "output_type": "stream",
     "text": [
      "Epoch 32 | Train Loss: 0.5736 | Train F1: 0.8519 | Val Loss: 0.4478 | Val F1: 0.9490\n"
     ]
    },
    {
     "name": "stderr",
     "output_type": "stream",
     "text": [
      "Loss: 0.3257: 100%|██████████| 53/53 [00:13<00:00,  4.07it/s]\n",
      "Val Loss: 1.3781: 100%|██████████| 14/14 [00:03<00:00,  4.51it/s]\n"
     ]
    },
    {
     "name": "stdout",
     "output_type": "stream",
     "text": [
      "Epoch 33 | Train Loss: 0.5466 | Train F1: 0.8910 | Val Loss: 0.5137 | Val F1: 0.9574\n"
     ]
    },
    {
     "name": "stderr",
     "output_type": "stream",
     "text": [
      "Loss: 0.4600: 100%|██████████| 53/53 [00:13<00:00,  4.07it/s]\n",
      "Val Loss: 0.3349: 100%|██████████| 14/14 [00:02<00:00,  4.73it/s]\n"
     ]
    },
    {
     "name": "stdout",
     "output_type": "stream",
     "text": [
      "Epoch 34 | Train Loss: 0.4806 | Train F1: 0.8694 | Val Loss: 0.4578 | Val F1: 0.9654\n"
     ]
    },
    {
     "name": "stderr",
     "output_type": "stream",
     "text": [
      "Loss: 0.5439: 100%|██████████| 53/53 [00:12<00:00,  4.09it/s]\n",
      "Val Loss: 0.4155: 100%|██████████| 14/14 [00:03<00:00,  4.64it/s]\n"
     ]
    },
    {
     "name": "stdout",
     "output_type": "stream",
     "text": [
      "Epoch 35 | Train Loss: 0.5831 | Train F1: 0.7789 | Val Loss: 0.4623 | Val F1: 0.9606\n"
     ]
    },
    {
     "name": "stderr",
     "output_type": "stream",
     "text": [
      "Loss: 0.9541: 100%|██████████| 53/53 [00:12<00:00,  4.09it/s]\n",
      "Val Loss: 1.5035: 100%|██████████| 14/14 [00:02<00:00,  4.73it/s]\n"
     ]
    },
    {
     "name": "stdout",
     "output_type": "stream",
     "text": [
      "Epoch 36 | Train Loss: 0.5443 | Train F1: 0.8910 | Val Loss: 0.5336 | Val F1: 0.9520\n"
     ]
    },
    {
     "name": "stderr",
     "output_type": "stream",
     "text": [
      "Loss: 0.3381: 100%|██████████| 53/53 [00:12<00:00,  4.10it/s]\n",
      "Val Loss: 2.4306: 100%|██████████| 14/14 [00:03<00:00,  4.59it/s]\n"
     ]
    },
    {
     "name": "stdout",
     "output_type": "stream",
     "text": [
      "Epoch 37 | Train Loss: 0.5379 | Train F1: 0.8991 | Val Loss: 0.6208 | Val F1: 0.9529\n"
     ]
    },
    {
     "name": "stderr",
     "output_type": "stream",
     "text": [
      "Loss: 0.3230: 100%|██████████| 53/53 [00:13<00:00,  4.07it/s]\n",
      "Val Loss: 0.4060: 100%|██████████| 14/14 [00:03<00:00,  4.47it/s]\n"
     ]
    },
    {
     "name": "stdout",
     "output_type": "stream",
     "text": [
      "Epoch 38 | Train Loss: 0.5554 | Train F1: 0.8115 | Val Loss: 0.4601 | Val F1: 0.9520\n"
     ]
    },
    {
     "name": "stderr",
     "output_type": "stream",
     "text": [
      "Loss: 0.6616: 100%|██████████| 53/53 [00:12<00:00,  4.09it/s]\n",
      "Val Loss: 1.1961: 100%|██████████| 14/14 [00:03<00:00,  4.64it/s]\n"
     ]
    },
    {
     "name": "stdout",
     "output_type": "stream",
     "text": [
      "Epoch 39 | Train Loss: 0.5604 | Train F1: 0.8673 | Val Loss: 0.5275 | Val F1: 0.9471\n"
     ]
    },
    {
     "name": "stderr",
     "output_type": "stream",
     "text": [
      "Loss: 1.2832: 100%|██████████| 53/53 [00:13<00:00,  4.07it/s]\n",
      "Val Loss: 0.5145: 100%|██████████| 14/14 [00:03<00:00,  4.56it/s]\n"
     ]
    },
    {
     "name": "stdout",
     "output_type": "stream",
     "text": [
      "Epoch 40 | Train Loss: 0.5459 | Train F1: 0.8727 | Val Loss: 0.4717 | Val F1: 0.9659\n"
     ]
    },
    {
     "name": "stderr",
     "output_type": "stream",
     "text": [
      "Loss: 0.3223: 100%|██████████| 53/53 [00:12<00:00,  4.09it/s]\n",
      "Val Loss: 1.4025: 100%|██████████| 14/14 [00:03<00:00,  4.64it/s]\n"
     ]
    },
    {
     "name": "stdout",
     "output_type": "stream",
     "text": [
      "Epoch 41 | Train Loss: 0.6001 | Train F1: 0.8018 | Val Loss: 0.5296 | Val F1: 0.9661\n"
     ]
    },
    {
     "name": "stderr",
     "output_type": "stream",
     "text": [
      "Loss: 0.6909: 100%|██████████| 53/53 [00:13<00:00,  4.05it/s]\n",
      "Val Loss: 1.5908: 100%|██████████| 14/14 [00:03<00:00,  4.55it/s]\n"
     ]
    },
    {
     "name": "stdout",
     "output_type": "stream",
     "text": [
      "Epoch 42 | Train Loss: 0.5261 | Train F1: 0.8721 | Val Loss: 0.5452 | Val F1: 0.9631\n"
     ]
    },
    {
     "name": "stderr",
     "output_type": "stream",
     "text": [
      "Loss: 0.5850: 100%|██████████| 53/53 [00:12<00:00,  4.09it/s]\n",
      "Val Loss: 0.3480: 100%|██████████| 14/14 [00:02<00:00,  4.69it/s]\n"
     ]
    },
    {
     "name": "stdout",
     "output_type": "stream",
     "text": [
      "Epoch 43 | Train Loss: 0.5044 | Train F1: 0.8516 | Val Loss: 0.4724 | Val F1: 0.9604\n"
     ]
    },
    {
     "name": "stderr",
     "output_type": "stream",
     "text": [
      "Loss: 1.1016: 100%|██████████| 53/53 [00:13<00:00,  4.06it/s]\n",
      "Val Loss: 0.3271: 100%|██████████| 14/14 [00:03<00:00,  4.48it/s]\n"
     ]
    },
    {
     "name": "stdout",
     "output_type": "stream",
     "text": [
      "Epoch 44 | Train Loss: 0.5264 | Train F1: 0.8908 | Val Loss: 0.4357 | Val F1: 0.9618\n"
     ]
    },
    {
     "name": "stderr",
     "output_type": "stream",
     "text": [
      "Loss: 1.1416: 100%|██████████| 53/53 [00:12<00:00,  4.08it/s]\n",
      "Val Loss: 0.3247: 100%|██████████| 14/14 [00:02<00:00,  4.68it/s]\n"
     ]
    },
    {
     "name": "stdout",
     "output_type": "stream",
     "text": [
      "Epoch 45 | Train Loss: 0.5479 | Train F1: 0.8240 | Val Loss: 0.4855 | Val F1: 0.9522\n"
     ]
    },
    {
     "name": "stderr",
     "output_type": "stream",
     "text": [
      "Loss: 0.4937: 100%|██████████| 53/53 [00:12<00:00,  4.09it/s]\n",
      "Val Loss: 1.0805: 100%|██████████| 14/14 [00:03<00:00,  4.45it/s]\n"
     ]
    },
    {
     "name": "stdout",
     "output_type": "stream",
     "text": [
      "Epoch 46 | Train Loss: 0.6015 | Train F1: 0.8064 | Val Loss: 0.4998 | Val F1: 0.9661\n"
     ]
    },
    {
     "name": "stderr",
     "output_type": "stream",
     "text": [
      "Loss: 0.3220: 100%|██████████| 53/53 [00:13<00:00,  4.07it/s]\n",
      "Val Loss: 1.2910: 100%|██████████| 14/14 [00:02<00:00,  4.69it/s]\n"
     ]
    },
    {
     "name": "stdout",
     "output_type": "stream",
     "text": [
      "Epoch 47 | Train Loss: 0.5853 | Train F1: 0.8436 | Val Loss: 0.5475 | Val F1: 0.9577\n"
     ]
    },
    {
     "name": "stderr",
     "output_type": "stream",
     "text": [
      "Loss: 1.0654: 100%|██████████| 53/53 [00:12<00:00,  4.09it/s]\n",
      "Val Loss: 1.6034: 100%|██████████| 14/14 [00:03<00:00,  4.56it/s]\n"
     ]
    },
    {
     "name": "stdout",
     "output_type": "stream",
     "text": [
      "Epoch 48 | Train Loss: 0.5111 | Train F1: 0.8907 | Val Loss: 0.5368 | Val F1: 0.9534\n"
     ]
    },
    {
     "name": "stderr",
     "output_type": "stream",
     "text": [
      "Loss: 0.3215: 100%|██████████| 53/53 [00:12<00:00,  4.10it/s]\n",
      "Val Loss: 0.3336: 100%|██████████| 14/14 [00:03<00:00,  4.49it/s]\n"
     ]
    },
    {
     "name": "stdout",
     "output_type": "stream",
     "text": [
      "Epoch 49 | Train Loss: 0.5324 | Train F1: 0.8395 | Val Loss: 0.4459 | Val F1: 0.9607\n"
     ]
    },
    {
     "name": "stderr",
     "output_type": "stream",
     "text": [
      "Loss: 0.3245: 100%|██████████| 53/53 [00:13<00:00,  4.08it/s]\n",
      "Val Loss: 0.3220: 100%|██████████| 14/14 [00:02<00:00,  4.69it/s]\n"
     ]
    },
    {
     "name": "stdout",
     "output_type": "stream",
     "text": [
      "Epoch 50 | Train Loss: 0.5262 | Train F1: 0.8568 | Val Loss: 0.4608 | Val F1: 0.9553\n"
     ]
    },
    {
     "name": "stderr",
     "output_type": "stream",
     "text": [
      "Loss: 0.3208: 100%|██████████| 53/53 [00:13<00:00,  4.05it/s]\n",
      "Val Loss: 0.3245: 100%|██████████| 14/14 [00:03<00:00,  4.62it/s]\n"
     ]
    },
    {
     "name": "stdout",
     "output_type": "stream",
     "text": [
      "Epoch 51 | Train Loss: 0.5348 | Train F1: 0.8748 | Val Loss: 0.4373 | Val F1: 0.9641\n"
     ]
    },
    {
     "name": "stderr",
     "output_type": "stream",
     "text": [
      "Loss: 0.3223: 100%|██████████| 53/53 [00:12<00:00,  4.10it/s]\n",
      "Val Loss: 0.3237: 100%|██████████| 14/14 [00:03<00:00,  4.66it/s]\n"
     ]
    },
    {
     "name": "stdout",
     "output_type": "stream",
     "text": [
      "Epoch 52 | Train Loss: 0.4642 | Train F1: 0.8834 | Val Loss: 0.4469 | Val F1: 0.9656\n"
     ]
    },
    {
     "name": "stderr",
     "output_type": "stream",
     "text": [
      "Loss: 0.3218: 100%|██████████| 53/53 [00:13<00:00,  4.04it/s]\n",
      "Val Loss: 0.3251: 100%|██████████| 14/14 [00:03<00:00,  4.59it/s]"
     ]
    },
    {
     "name": "stdout",
     "output_type": "stream",
     "text": [
      "Epoch 53 | Train Loss: 0.5390 | Train F1: 0.8757 | Val Loss: 0.4082 | Val F1: 0.9762\n"
     ]
    },
    {
     "name": "stderr",
     "output_type": "stream",
     "text": [
      "\n",
      "Loss: 0.8599: 100%|██████████| 53/53 [00:13<00:00,  4.07it/s]\n",
      "Val Loss: 2.9233: 100%|██████████| 14/14 [00:03<00:00,  4.60it/s]\n"
     ]
    },
    {
     "name": "stdout",
     "output_type": "stream",
     "text": [
      "Epoch 54 | Train Loss: 0.4962 | Train F1: 0.8803 | Val Loss: 0.6444 | Val F1: 0.9521\n"
     ]
    },
    {
     "name": "stderr",
     "output_type": "stream",
     "text": [
      "Loss: 1.5430: 100%|██████████| 53/53 [00:12<00:00,  4.11it/s]\n",
      "Val Loss: 0.8037: 100%|██████████| 14/14 [00:02<00:00,  4.74it/s]\n"
     ]
    },
    {
     "name": "stdout",
     "output_type": "stream",
     "text": [
      "Epoch 55 | Train Loss: 0.4657 | Train F1: 0.9017 | Val Loss: 0.4650 | Val F1: 0.9661\n"
     ]
    },
    {
     "name": "stderr",
     "output_type": "stream",
     "text": [
      "Loss: 0.3228: 100%|██████████| 53/53 [00:12<00:00,  4.08it/s]\n",
      "Val Loss: 0.3637: 100%|██████████| 14/14 [00:03<00:00,  4.62it/s]\n"
     ]
    },
    {
     "name": "stdout",
     "output_type": "stream",
     "text": [
      "Epoch 56 | Train Loss: 0.5458 | Train F1: 0.8831 | Val Loss: 0.4626 | Val F1: 0.9515\n"
     ]
    },
    {
     "name": "stderr",
     "output_type": "stream",
     "text": [
      "Loss: 0.3213: 100%|██████████| 53/53 [00:12<00:00,  4.08it/s]\n",
      "Val Loss: 0.3260: 100%|██████████| 14/14 [00:03<00:00,  4.61it/s]"
     ]
    },
    {
     "name": "stdout",
     "output_type": "stream",
     "text": [
      "Epoch 57 | Train Loss: 0.4834 | Train F1: 0.8751 | Val Loss: 0.4213 | Val F1: 0.9773\n"
     ]
    },
    {
     "name": "stderr",
     "output_type": "stream",
     "text": [
      "\n",
      "Loss: 0.3210: 100%|██████████| 53/53 [00:13<00:00,  4.05it/s]\n",
      "Val Loss: 0.3225: 100%|██████████| 14/14 [00:03<00:00,  4.61it/s]\n"
     ]
    },
    {
     "name": "stdout",
     "output_type": "stream",
     "text": [
      "Epoch 58 | Train Loss: 0.6388 | Train F1: 0.8389 | Val Loss: 0.4454 | Val F1: 0.9681\n"
     ]
    },
    {
     "name": "stderr",
     "output_type": "stream",
     "text": [
      "Loss: 0.9829: 100%|██████████| 53/53 [00:12<00:00,  4.10it/s]\n",
      "Val Loss: 1.7683: 100%|██████████| 14/14 [00:02<00:00,  4.73it/s]\n"
     ]
    },
    {
     "name": "stdout",
     "output_type": "stream",
     "text": [
      "Epoch 59 | Train Loss: 0.4855 | Train F1: 0.8495 | Val Loss: 0.5332 | Val F1: 0.9664\n"
     ]
    },
    {
     "name": "stderr",
     "output_type": "stream",
     "text": [
      "Loss: 0.7607: 100%|██████████| 53/53 [00:12<00:00,  4.10it/s]\n",
      "Val Loss: 0.3211: 100%|██████████| 14/14 [00:03<00:00,  4.66it/s]\n"
     ]
    },
    {
     "name": "stdout",
     "output_type": "stream",
     "text": [
      "Epoch 60 | Train Loss: 0.4679 | Train F1: 0.8810 | Val Loss: 0.4336 | Val F1: 0.9685\n"
     ]
    },
    {
     "name": "stderr",
     "output_type": "stream",
     "text": [
      "Loss: 0.7046: 100%|██████████| 53/53 [00:13<00:00,  4.07it/s]\n",
      "Val Loss: 0.8651: 100%|██████████| 14/14 [00:03<00:00,  4.61it/s]\n"
     ]
    },
    {
     "name": "stdout",
     "output_type": "stream",
     "text": [
      "Epoch 61 | Train Loss: 0.5315 | Train F1: 0.8284 | Val Loss: 0.4870 | Val F1: 0.9631\n"
     ]
    },
    {
     "name": "stderr",
     "output_type": "stream",
     "text": [
      "Loss: 0.8599: 100%|██████████| 53/53 [00:12<00:00,  4.10it/s]\n",
      "Val Loss: 1.0132: 100%|██████████| 14/14 [00:03<00:00,  4.59it/s]\n"
     ]
    },
    {
     "name": "stdout",
     "output_type": "stream",
     "text": [
      "Epoch 62 | Train Loss: 0.5187 | Train F1: 0.8836 | Val Loss: 0.4797 | Val F1: 0.9675\n"
     ]
    },
    {
     "name": "stderr",
     "output_type": "stream",
     "text": [
      "Loss: 0.3250: 100%|██████████| 53/53 [00:12<00:00,  4.09it/s]\n",
      "Val Loss: 1.2604: 100%|██████████| 14/14 [00:03<00:00,  4.61it/s]\n"
     ]
    },
    {
     "name": "stdout",
     "output_type": "stream",
     "text": [
      "Epoch 63 | Train Loss: 0.5096 | Train F1: 0.8503 | Val Loss: 0.4877 | Val F1: 0.9724\n"
     ]
    },
    {
     "name": "stderr",
     "output_type": "stream",
     "text": [
      "Loss: 1.0664: 100%|██████████| 53/53 [00:12<00:00,  4.08it/s]\n",
      "Val Loss: 1.5283: 100%|██████████| 14/14 [00:02<00:00,  4.83it/s]\n"
     ]
    },
    {
     "name": "stdout",
     "output_type": "stream",
     "text": [
      "Epoch 64 | Train Loss: 0.5332 | Train F1: 0.8820 | Val Loss: 0.5210 | Val F1: 0.9647\n"
     ]
    },
    {
     "name": "stderr",
     "output_type": "stream",
     "text": [
      "Loss: 1.0127: 100%|██████████| 53/53 [00:13<00:00,  4.07it/s]\n",
      "Val Loss: 2.3557: 100%|██████████| 14/14 [00:03<00:00,  4.61it/s]\n"
     ]
    },
    {
     "name": "stdout",
     "output_type": "stream",
     "text": [
      "Epoch 65 | Train Loss: 0.5351 | Train F1: 0.8332 | Val Loss: 0.5489 | Val F1: 0.9706\n"
     ]
    },
    {
     "name": "stderr",
     "output_type": "stream",
     "text": [
      "Loss: 0.3252: 100%|██████████| 53/53 [00:12<00:00,  4.09it/s]\n",
      "Val Loss: 0.3217: 100%|██████████| 14/14 [00:03<00:00,  4.53it/s]\n"
     ]
    },
    {
     "name": "stdout",
     "output_type": "stream",
     "text": [
      "Epoch 66 | Train Loss: 0.5924 | Train F1: 0.7931 | Val Loss: 0.4264 | Val F1: 0.9690\n"
     ]
    },
    {
     "name": "stderr",
     "output_type": "stream",
     "text": [
      "Loss: 0.7827: 100%|██████████| 53/53 [00:13<00:00,  4.05it/s]\n",
      "Val Loss: 0.3221: 100%|██████████| 14/14 [00:03<00:00,  4.59it/s]\n"
     ]
    },
    {
     "name": "stdout",
     "output_type": "stream",
     "text": [
      "Epoch 67 | Train Loss: 0.5339 | Train F1: 0.8861 | Val Loss: 0.4263 | Val F1: 0.9706\n"
     ]
    },
    {
     "name": "stderr",
     "output_type": "stream",
     "text": [
      "Loss: 0.3208: 100%|██████████| 53/53 [00:12<00:00,  4.10it/s]\n",
      "Val Loss: 2.4252: 100%|██████████| 14/14 [00:02<00:00,  4.76it/s]\n"
     ]
    },
    {
     "name": "stdout",
     "output_type": "stream",
     "text": [
      "Epoch 68 | Train Loss: 0.4697 | Train F1: 0.8395 | Val Loss: 0.5747 | Val F1: 0.9658\n"
     ]
    },
    {
     "name": "stderr",
     "output_type": "stream",
     "text": [
      "Loss: 0.3210: 100%|██████████| 53/53 [00:12<00:00,  4.09it/s]\n",
      "Val Loss: 2.0367: 100%|██████████| 14/14 [00:02<00:00,  4.75it/s]\n"
     ]
    },
    {
     "name": "stdout",
     "output_type": "stream",
     "text": [
      "Epoch 69 | Train Loss: 0.5608 | Train F1: 0.8328 | Val Loss: 0.5517 | Val F1: 0.9613\n"
     ]
    },
    {
     "name": "stderr",
     "output_type": "stream",
     "text": [
      "Loss: 0.3208: 100%|██████████| 53/53 [00:12<00:00,  4.10it/s]\n",
      "Val Loss: 0.3209: 100%|██████████| 14/14 [00:03<00:00,  4.32it/s]\n"
     ]
    },
    {
     "name": "stdout",
     "output_type": "stream",
     "text": [
      "Epoch 70 | Train Loss: 0.5453 | Train F1: 0.8452 | Val Loss: 0.4413 | Val F1: 0.9629\n"
     ]
    },
    {
     "name": "stderr",
     "output_type": "stream",
     "text": [
      "Loss: 1.0723: 100%|██████████| 53/53 [00:12<00:00,  4.08it/s]\n",
      "Val Loss: 0.3288: 100%|██████████| 14/14 [00:03<00:00,  4.63it/s]\n"
     ]
    },
    {
     "name": "stdout",
     "output_type": "stream",
     "text": [
      "Epoch 71 | Train Loss: 0.5317 | Train F1: 0.8280 | Val Loss: 0.4450 | Val F1: 0.9622\n"
     ]
    },
    {
     "name": "stderr",
     "output_type": "stream",
     "text": [
      "Loss: 0.3843: 100%|██████████| 53/53 [00:12<00:00,  4.10it/s]\n",
      "Val Loss: 0.3208: 100%|██████████| 14/14 [00:03<00:00,  4.43it/s]\n"
     ]
    },
    {
     "name": "stdout",
     "output_type": "stream",
     "text": [
      "Epoch 72 | Train Loss: 0.5166 | Train F1: 0.8699 | Val Loss: 0.4323 | Val F1: 0.9662\n"
     ]
    },
    {
     "name": "stderr",
     "output_type": "stream",
     "text": [
      "Loss: 0.9595: 100%|██████████| 53/53 [00:13<00:00,  4.07it/s]\n",
      "Val Loss: 2.0205: 100%|██████████| 14/14 [00:03<00:00,  4.50it/s]\n"
     ]
    },
    {
     "name": "stdout",
     "output_type": "stream",
     "text": [
      "Epoch 73 | Train Loss: 0.4985 | Train F1: 0.8731 | Val Loss: 0.5661 | Val F1: 0.9633\n"
     ]
    },
    {
     "name": "stderr",
     "output_type": "stream",
     "text": [
      "Loss: 0.3208: 100%|██████████| 53/53 [00:13<00:00,  4.06it/s]\n",
      "Val Loss: 0.3233: 100%|██████████| 14/14 [00:02<00:00,  4.68it/s]\n"
     ]
    },
    {
     "name": "stdout",
     "output_type": "stream",
     "text": [
      "Epoch 74 | Train Loss: 0.4740 | Train F1: 0.8663 | Val Loss: 0.4648 | Val F1: 0.9576\n"
     ]
    },
    {
     "name": "stderr",
     "output_type": "stream",
     "text": [
      "Loss: 0.3210: 100%|██████████| 53/53 [00:13<00:00,  4.07it/s]\n",
      "Val Loss: 0.3207: 100%|██████████| 14/14 [00:03<00:00,  4.59it/s]\n"
     ]
    },
    {
     "name": "stdout",
     "output_type": "stream",
     "text": [
      "Epoch 75 | Train Loss: 0.5131 | Train F1: 0.9023 | Val Loss: 0.4550 | Val F1: 0.9651\n"
     ]
    },
    {
     "name": "stderr",
     "output_type": "stream",
     "text": [
      "Loss: 0.3213: 100%|██████████| 53/53 [00:13<00:00,  4.07it/s]\n",
      "Val Loss: 0.3214: 100%|██████████| 14/14 [00:03<00:00,  4.48it/s]\n"
     ]
    },
    {
     "name": "stdout",
     "output_type": "stream",
     "text": [
      "Epoch 76 | Train Loss: 0.5167 | Train F1: 0.8565 | Val Loss: 0.4195 | Val F1: 0.9704\n"
     ]
    },
    {
     "name": "stderr",
     "output_type": "stream",
     "text": [
      "Loss: 0.3206: 100%|██████████| 53/53 [00:13<00:00,  4.07it/s]\n",
      "Val Loss: 1.9159: 100%|██████████| 14/14 [00:03<00:00,  4.59it/s]\n"
     ]
    },
    {
     "name": "stdout",
     "output_type": "stream",
     "text": [
      "Epoch 77 | Train Loss: 0.5231 | Train F1: 0.8276 | Val Loss: 0.5404 | Val F1: 0.9648\n"
     ]
    },
    {
     "name": "stderr",
     "output_type": "stream",
     "text": [
      "Loss: 0.3228: 100%|██████████| 53/53 [00:12<00:00,  4.10it/s]\n",
      "Val Loss: 0.3207: 100%|██████████| 14/14 [00:03<00:00,  4.66it/s]\n"
     ]
    },
    {
     "name": "stdout",
     "output_type": "stream",
     "text": [
      "Epoch 78 | Train Loss: 0.4832 | Train F1: 0.9066 | Val Loss: 0.4414 | Val F1: 0.9660\n"
     ]
    },
    {
     "name": "stderr",
     "output_type": "stream",
     "text": [
      "Loss: 0.6401: 100%|██████████| 53/53 [00:12<00:00,  4.10it/s]\n",
      "Val Loss: 0.3261: 100%|██████████| 14/14 [00:03<00:00,  4.63it/s]\n"
     ]
    },
    {
     "name": "stdout",
     "output_type": "stream",
     "text": [
      "Epoch 79 | Train Loss: 0.5081 | Train F1: 0.8364 | Val Loss: 0.4254 | Val F1: 0.9751\n"
     ]
    },
    {
     "name": "stderr",
     "output_type": "stream",
     "text": [
      "Loss: 0.9390: 100%|██████████| 53/53 [00:13<00:00,  4.07it/s]\n",
      "Val Loss: 0.3220: 100%|██████████| 14/14 [00:03<00:00,  4.61it/s]\n"
     ]
    },
    {
     "name": "stdout",
     "output_type": "stream",
     "text": [
      "Epoch 80 | Train Loss: 0.5534 | Train F1: 0.7889 | Val Loss: 0.4157 | Val F1: 0.9719\n"
     ]
    },
    {
     "name": "stderr",
     "output_type": "stream",
     "text": [
      "Loss: 1.0918: 100%|██████████| 53/53 [00:12<00:00,  4.10it/s]\n",
      "Val Loss: 0.3215: 100%|██████████| 14/14 [00:02<00:00,  4.71it/s]\n"
     ]
    },
    {
     "name": "stdout",
     "output_type": "stream",
     "text": [
      "Epoch 81 | Train Loss: 0.6011 | Train F1: 0.7558 | Val Loss: 0.4314 | Val F1: 0.9667\n"
     ]
    },
    {
     "name": "stderr",
     "output_type": "stream",
     "text": [
      "Loss: 0.3208: 100%|██████████| 53/53 [00:12<00:00,  4.10it/s]\n",
      "Val Loss: 2.3934: 100%|██████████| 14/14 [00:03<00:00,  4.53it/s]\n"
     ]
    },
    {
     "name": "stdout",
     "output_type": "stream",
     "text": [
      "Epoch 82 | Train Loss: 0.5396 | Train F1: 0.9095 | Val Loss: 0.5552 | Val F1: 0.9719\n"
     ]
    },
    {
     "name": "stderr",
     "output_type": "stream",
     "text": [
      "Loss: 0.3472: 100%|██████████| 53/53 [00:12<00:00,  4.08it/s]\n",
      "Val Loss: 0.3210: 100%|██████████| 14/14 [00:02<00:00,  4.68it/s]\n"
     ]
    },
    {
     "name": "stdout",
     "output_type": "stream",
     "text": [
      "Epoch 83 | Train Loss: 0.4457 | Train F1: 0.8823 | Val Loss: 0.4172 | Val F1: 0.9754\n"
     ]
    },
    {
     "name": "stderr",
     "output_type": "stream",
     "text": [
      "Loss: 0.3208: 100%|██████████| 53/53 [00:12<00:00,  4.08it/s]\n",
      "Val Loss: 0.3492: 100%|██████████| 14/14 [00:03<00:00,  4.65it/s]\n"
     ]
    },
    {
     "name": "stdout",
     "output_type": "stream",
     "text": [
      "Epoch 84 | Train Loss: 0.5449 | Train F1: 0.7781 | Val Loss: 0.4152 | Val F1: 0.9763\n"
     ]
    },
    {
     "name": "stderr",
     "output_type": "stream",
     "text": [
      "Loss: 0.3208: 100%|██████████| 53/53 [00:12<00:00,  4.08it/s]\n",
      "Val Loss: 0.3220: 100%|██████████| 14/14 [00:03<00:00,  4.61it/s]\n"
     ]
    },
    {
     "name": "stdout",
     "output_type": "stream",
     "text": [
      "Epoch 85 | Train Loss: 0.4968 | Train F1: 0.8583 | Val Loss: 0.4601 | Val F1: 0.9603\n"
     ]
    },
    {
     "name": "stderr",
     "output_type": "stream",
     "text": [
      "Loss: 0.3926: 100%|██████████| 53/53 [00:12<00:00,  4.10it/s]\n",
      "Val Loss: 1.8123: 100%|██████████| 14/14 [00:03<00:00,  4.56it/s]\n"
     ]
    },
    {
     "name": "stdout",
     "output_type": "stream",
     "text": [
      "Epoch 86 | Train Loss: 0.4829 | Train F1: 0.8569 | Val Loss: 0.5490 | Val F1: 0.9589\n"
     ]
    },
    {
     "name": "stderr",
     "output_type": "stream",
     "text": [
      "Loss: 0.3225: 100%|██████████| 53/53 [00:12<00:00,  4.10it/s]\n",
      "Val Loss: 0.6222: 100%|██████████| 14/14 [00:02<00:00,  4.70it/s]\n"
     ]
    },
    {
     "name": "stdout",
     "output_type": "stream",
     "text": [
      "Epoch 87 | Train Loss: 0.4823 | Train F1: 0.9086 | Val Loss: 0.4645 | Val F1: 0.9661\n"
     ]
    },
    {
     "name": "stderr",
     "output_type": "stream",
     "text": [
      "Loss: 1.0332: 100%|██████████| 53/53 [00:12<00:00,  4.11it/s]\n",
      "Val Loss: 2.0319: 100%|██████████| 14/14 [00:02<00:00,  4.70it/s]\n"
     ]
    },
    {
     "name": "stdout",
     "output_type": "stream",
     "text": [
      "Epoch 88 | Train Loss: 0.5509 | Train F1: 0.8118 | Val Loss: 0.5483 | Val F1: 0.9617\n"
     ]
    },
    {
     "name": "stderr",
     "output_type": "stream",
     "text": [
      "Loss: 0.3206: 100%|██████████| 53/53 [00:13<00:00,  4.07it/s]\n",
      "Val Loss: 0.3207: 100%|██████████| 14/14 [00:03<00:00,  4.61it/s]\n"
     ]
    },
    {
     "name": "stdout",
     "output_type": "stream",
     "text": [
      "Epoch 89 | Train Loss: 0.5604 | Train F1: 0.8348 | Val Loss: 0.4262 | Val F1: 0.9705\n"
     ]
    },
    {
     "name": "stderr",
     "output_type": "stream",
     "text": [
      "Loss: 0.3206: 100%|██████████| 53/53 [00:12<00:00,  4.10it/s]\n",
      "Val Loss: 0.9970: 100%|██████████| 14/14 [00:02<00:00,  4.85it/s]\n"
     ]
    },
    {
     "name": "stdout",
     "output_type": "stream",
     "text": [
      "Epoch 90 | Train Loss: 0.5281 | Train F1: 0.8304 | Val Loss: 0.4542 | Val F1: 0.9754\n"
     ]
    },
    {
     "name": "stderr",
     "output_type": "stream",
     "text": [
      "Loss: 0.3206: 100%|██████████| 53/53 [00:12<00:00,  4.09it/s]\n",
      "Val Loss: 0.3207: 100%|██████████| 14/14 [00:03<00:00,  4.58it/s]\n"
     ]
    },
    {
     "name": "stdout",
     "output_type": "stream",
     "text": [
      "Epoch 91 | Train Loss: 0.5243 | Train F1: 0.8697 | Val Loss: 0.4301 | Val F1: 0.9747\n"
     ]
    },
    {
     "name": "stderr",
     "output_type": "stream",
     "text": [
      "Loss: 0.4409: 100%|██████████| 53/53 [00:13<00:00,  4.03it/s]\n",
      "Val Loss: 0.3213: 100%|██████████| 14/14 [00:03<00:00,  4.51it/s]\n"
     ]
    },
    {
     "name": "stdout",
     "output_type": "stream",
     "text": [
      "Epoch 92 | Train Loss: 0.4657 | Train F1: 0.9007 | Val Loss: 0.4419 | Val F1: 0.9604\n"
     ]
    },
    {
     "name": "stderr",
     "output_type": "stream",
     "text": [
      "Loss: 0.8682: 100%|██████████| 53/53 [00:13<00:00,  4.05it/s]\n",
      "Val Loss: 1.4243: 100%|██████████| 14/14 [00:02<00:00,  4.67it/s]\n"
     ]
    },
    {
     "name": "stdout",
     "output_type": "stream",
     "text": [
      "Epoch 93 | Train Loss: 0.5397 | Train F1: 0.9052 | Val Loss: 0.5149 | Val F1: 0.9612\n"
     ]
    },
    {
     "name": "stderr",
     "output_type": "stream",
     "text": [
      "Loss: 0.3206: 100%|██████████| 53/53 [00:12<00:00,  4.11it/s]\n",
      "Val Loss: 1.4434: 100%|██████████| 14/14 [00:03<00:00,  4.25it/s]\n"
     ]
    },
    {
     "name": "stdout",
     "output_type": "stream",
     "text": [
      "Epoch 94 | Train Loss: 0.4829 | Train F1: 0.8379 | Val Loss: 0.4866 | Val F1: 0.9691\n"
     ]
    },
    {
     "name": "stderr",
     "output_type": "stream",
     "text": [
      "Loss: 1.2129: 100%|██████████| 53/53 [00:13<00:00,  4.02it/s]\n",
      "Val Loss: 0.3212: 100%|██████████| 14/14 [00:03<00:00,  4.56it/s]\n"
     ]
    },
    {
     "name": "stdout",
     "output_type": "stream",
     "text": [
      "Epoch 95 | Train Loss: 0.5275 | Train F1: 0.8629 | Val Loss: 0.4327 | Val F1: 0.9662\n"
     ]
    },
    {
     "name": "stderr",
     "output_type": "stream",
     "text": [
      "Loss: 0.3203: 100%|██████████| 53/53 [00:13<00:00,  4.07it/s]\n",
      "Val Loss: 0.3212: 100%|██████████| 14/14 [00:03<00:00,  4.58it/s]\n"
     ]
    },
    {
     "name": "stdout",
     "output_type": "stream",
     "text": [
      "Epoch 96 | Train Loss: 0.5272 | Train F1: 0.8450 | Val Loss: 0.4457 | Val F1: 0.9690\n"
     ]
    },
    {
     "name": "stderr",
     "output_type": "stream",
     "text": [
      "Loss: 0.7241: 100%|██████████| 53/53 [00:13<00:00,  4.07it/s]\n",
      "Val Loss: 0.7060: 100%|██████████| 14/14 [00:03<00:00,  4.55it/s]\n"
     ]
    },
    {
     "name": "stdout",
     "output_type": "stream",
     "text": [
      "Epoch 97 | Train Loss: 0.5194 | Train F1: 0.8837 | Val Loss: 0.4676 | Val F1: 0.9584\n"
     ]
    },
    {
     "name": "stderr",
     "output_type": "stream",
     "text": [
      "Loss: 0.8037: 100%|██████████| 53/53 [00:12<00:00,  4.09it/s]\n",
      "Val Loss: 0.3215: 100%|██████████| 14/14 [00:03<00:00,  4.52it/s]\n"
     ]
    },
    {
     "name": "stdout",
     "output_type": "stream",
     "text": [
      "Epoch 98 | Train Loss: 0.5324 | Train F1: 0.8291 | Val Loss: 0.4164 | Val F1: 0.9699\n"
     ]
    },
    {
     "name": "stderr",
     "output_type": "stream",
     "text": [
      "Loss: 0.9038: 100%|██████████| 53/53 [00:13<00:00,  4.06it/s]\n",
      "Val Loss: 0.3207: 100%|██████████| 14/14 [00:03<00:00,  4.45it/s]\n"
     ]
    },
    {
     "name": "stdout",
     "output_type": "stream",
     "text": [
      "Epoch 99 | Train Loss: 0.5284 | Train F1: 0.8673 | Val Loss: 0.4206 | Val F1: 0.9747\n"
     ]
    },
    {
     "name": "stderr",
     "output_type": "stream",
     "text": [
      "Loss: 0.4812: 100%|██████████| 53/53 [00:13<00:00,  4.07it/s]\n",
      "Val Loss: 0.3801: 100%|██████████| 14/14 [00:03<00:00,  4.58it/s]\n"
     ]
    },
    {
     "name": "stdout",
     "output_type": "stream",
     "text": [
      "Epoch 100 | Train Loss: 0.5533 | Train F1: 0.8600 | Val Loss: 0.4500 | Val F1: 0.9674\n",
      "Fold 2 Best Validation F1: 0.9773\n",
      "\n",
      "==================================================\n",
      "FOLD 3/5\n",
      "==================================================\n",
      "Train samples: 1256, Validation samples: 314\n"
     ]
    },
    {
     "name": "stderr",
     "output_type": "stream",
     "text": [
      "Loss: 1.0889: 100%|██████████| 53/53 [00:13<00:00,  4.05it/s]\n",
      "Val Loss: 0.3545: 100%|██████████| 14/14 [00:03<00:00,  4.46it/s]"
     ]
    },
    {
     "name": "stdout",
     "output_type": "stream",
     "text": [
      "Epoch  1 | Train Loss: 1.9279 | Train F1: 0.3887 | Val Loss: 0.9482 | Val F1: 0.7624\n"
     ]
    },
    {
     "name": "stderr",
     "output_type": "stream",
     "text": [
      "\n",
      "Loss: 2.2754: 100%|██████████| 53/53 [00:12<00:00,  4.08it/s]\n",
      "Val Loss: 0.3408: 100%|██████████| 14/14 [00:03<00:00,  4.58it/s]"
     ]
    },
    {
     "name": "stdout",
     "output_type": "stream",
     "text": [
      "Epoch  2 | Train Loss: 1.2375 | Train F1: 0.6371 | Val Loss: 0.7483 | Val F1: 0.7995\n"
     ]
    },
    {
     "name": "stderr",
     "output_type": "stream",
     "text": [
      "\n",
      "Loss: 0.7773: 100%|██████████| 53/53 [00:13<00:00,  4.08it/s]\n",
      "Val Loss: 0.3419: 100%|██████████| 14/14 [00:02<00:00,  4.67it/s]"
     ]
    },
    {
     "name": "stdout",
     "output_type": "stream",
     "text": [
      "Epoch  3 | Train Loss: 0.8771 | Train F1: 0.7767 | Val Loss: 0.6214 | Val F1: 0.8452\n"
     ]
    },
    {
     "name": "stderr",
     "output_type": "stream",
     "text": [
      "\n",
      "Loss: 0.5796: 100%|██████████| 53/53 [00:13<00:00,  4.04it/s]\n",
      "Val Loss: 0.3484: 100%|██████████| 14/14 [00:03<00:00,  4.39it/s]"
     ]
    },
    {
     "name": "stdout",
     "output_type": "stream",
     "text": [
      "Epoch  4 | Train Loss: 0.9507 | Train F1: 0.7469 | Val Loss: 0.5592 | Val F1: 0.8620\n"
     ]
    },
    {
     "name": "stderr",
     "output_type": "stream",
     "text": [
      "\n",
      "Loss: 1.6523: 100%|██████████| 53/53 [00:12<00:00,  4.08it/s]\n",
      "Val Loss: 0.3316: 100%|██████████| 14/14 [00:02<00:00,  4.75it/s]\n"
     ]
    },
    {
     "name": "stdout",
     "output_type": "stream",
     "text": [
      "Epoch  5 | Train Loss: 0.8854 | Train F1: 0.7646 | Val Loss: 0.5535 | Val F1: 0.8475\n"
     ]
    },
    {
     "name": "stderr",
     "output_type": "stream",
     "text": [
      "Loss: 0.4517: 100%|██████████| 53/53 [00:13<00:00,  4.06it/s]\n",
      "Val Loss: 0.3289: 100%|██████████| 14/14 [00:03<00:00,  4.49it/s]"
     ]
    },
    {
     "name": "stdout",
     "output_type": "stream",
     "text": [
      "Epoch  6 | Train Loss: 0.8342 | Train F1: 0.7610 | Val Loss: 0.5382 | Val F1: 0.8710\n"
     ]
    },
    {
     "name": "stderr",
     "output_type": "stream",
     "text": [
      "\n",
      "Loss: 1.1885: 100%|██████████| 53/53 [00:12<00:00,  4.09it/s]\n",
      "Val Loss: 0.3305: 100%|██████████| 14/14 [00:03<00:00,  4.58it/s]"
     ]
    },
    {
     "name": "stdout",
     "output_type": "stream",
     "text": [
      "Epoch  7 | Train Loss: 0.7741 | Train F1: 0.8181 | Val Loss: 0.5368 | Val F1: 0.8806\n"
     ]
    },
    {
     "name": "stderr",
     "output_type": "stream",
     "text": [
      "\n",
      "Loss: 0.4519: 100%|██████████| 53/53 [00:13<00:00,  4.08it/s]\n",
      "Val Loss: 0.3262: 100%|██████████| 14/14 [00:03<00:00,  4.57it/s]"
     ]
    },
    {
     "name": "stdout",
     "output_type": "stream",
     "text": [
      "Epoch  8 | Train Loss: 0.6842 | Train F1: 0.8171 | Val Loss: 0.4955 | Val F1: 0.9125\n"
     ]
    },
    {
     "name": "stderr",
     "output_type": "stream",
     "text": [
      "\n",
      "Loss: 0.3350: 100%|██████████| 53/53 [00:12<00:00,  4.08it/s]\n",
      "Val Loss: 0.3325: 100%|██████████| 14/14 [00:03<00:00,  4.61it/s]\n"
     ]
    },
    {
     "name": "stdout",
     "output_type": "stream",
     "text": [
      "Epoch  9 | Train Loss: 0.6241 | Train F1: 0.8609 | Val Loss: 0.5172 | Val F1: 0.8884\n"
     ]
    },
    {
     "name": "stderr",
     "output_type": "stream",
     "text": [
      "Loss: 0.3496: 100%|██████████| 53/53 [00:12<00:00,  4.10it/s]\n",
      "Val Loss: 0.3444: 100%|██████████| 14/14 [00:02<00:00,  4.71it/s]"
     ]
    },
    {
     "name": "stdout",
     "output_type": "stream",
     "text": [
      "Epoch 10 | Train Loss: 0.7322 | Train F1: 0.8038 | Val Loss: 0.5060 | Val F1: 0.9215\n"
     ]
    },
    {
     "name": "stderr",
     "output_type": "stream",
     "text": [
      "\n",
      "Loss: 0.7812: 100%|██████████| 53/53 [00:13<00:00,  4.06it/s]\n",
      "Val Loss: 0.3391: 100%|██████████| 14/14 [00:03<00:00,  4.65it/s]"
     ]
    },
    {
     "name": "stdout",
     "output_type": "stream",
     "text": [
      "Epoch 11 | Train Loss: 0.6601 | Train F1: 0.8209 | Val Loss: 0.4509 | Val F1: 0.9295\n"
     ]
    },
    {
     "name": "stderr",
     "output_type": "stream",
     "text": [
      "\n",
      "Loss: 0.5405: 100%|██████████| 53/53 [00:13<00:00,  4.04it/s]\n",
      "Val Loss: 0.3284: 100%|██████████| 14/14 [00:03<00:00,  4.42it/s]"
     ]
    },
    {
     "name": "stdout",
     "output_type": "stream",
     "text": [
      "Epoch 12 | Train Loss: 0.6617 | Train F1: 0.8686 | Val Loss: 0.4750 | Val F1: 0.9438\n"
     ]
    },
    {
     "name": "stderr",
     "output_type": "stream",
     "text": [
      "\n",
      "Loss: 1.2930: 100%|██████████| 53/53 [00:13<00:00,  3.99it/s]\n",
      "Val Loss: 0.3258: 100%|██████████| 14/14 [00:03<00:00,  4.30it/s]\n"
     ]
    },
    {
     "name": "stdout",
     "output_type": "stream",
     "text": [
      "Epoch 13 | Train Loss: 0.6642 | Train F1: 0.8159 | Val Loss: 0.4848 | Val F1: 0.9292\n"
     ]
    },
    {
     "name": "stderr",
     "output_type": "stream",
     "text": [
      "Loss: 1.1816: 100%|██████████| 53/53 [00:13<00:00,  3.98it/s]\n",
      "Val Loss: 0.3292: 100%|██████████| 14/14 [00:03<00:00,  4.55it/s]\n"
     ]
    },
    {
     "name": "stdout",
     "output_type": "stream",
     "text": [
      "Epoch 14 | Train Loss: 0.6949 | Train F1: 0.8272 | Val Loss: 0.4904 | Val F1: 0.9267\n"
     ]
    },
    {
     "name": "stderr",
     "output_type": "stream",
     "text": [
      "Loss: 0.3442: 100%|██████████| 53/53 [00:13<00:00,  4.04it/s]\n",
      "Val Loss: 0.3272: 100%|██████████| 14/14 [00:03<00:00,  4.62it/s]"
     ]
    },
    {
     "name": "stdout",
     "output_type": "stream",
     "text": [
      "Epoch 15 | Train Loss: 0.6818 | Train F1: 0.7940 | Val Loss: 0.4415 | Val F1: 0.9491\n"
     ]
    },
    {
     "name": "stderr",
     "output_type": "stream",
     "text": [
      "\n",
      "Loss: 0.3445: 100%|██████████| 53/53 [00:13<00:00,  4.07it/s]\n",
      "Val Loss: 0.3277: 100%|██████████| 14/14 [00:03<00:00,  4.58it/s]\n"
     ]
    },
    {
     "name": "stdout",
     "output_type": "stream",
     "text": [
      "Epoch 16 | Train Loss: 0.6983 | Train F1: 0.7793 | Val Loss: 0.4590 | Val F1: 0.9445\n"
     ]
    },
    {
     "name": "stderr",
     "output_type": "stream",
     "text": [
      "Loss: 0.6245: 100%|██████████| 53/53 [00:13<00:00,  4.05it/s]\n",
      "Val Loss: 0.3364: 100%|██████████| 14/14 [00:03<00:00,  4.65it/s]\n"
     ]
    },
    {
     "name": "stdout",
     "output_type": "stream",
     "text": [
      "Epoch 17 | Train Loss: 0.5987 | Train F1: 0.8441 | Val Loss: 0.4576 | Val F1: 0.9382\n"
     ]
    },
    {
     "name": "stderr",
     "output_type": "stream",
     "text": [
      "Loss: 0.3418: 100%|██████████| 53/53 [00:12<00:00,  4.09it/s]\n",
      "Val Loss: 0.3257: 100%|██████████| 14/14 [00:02<00:00,  4.67it/s]"
     ]
    },
    {
     "name": "stdout",
     "output_type": "stream",
     "text": [
      "Epoch 18 | Train Loss: 0.6162 | Train F1: 0.8128 | Val Loss: 0.4232 | Val F1: 0.9650\n"
     ]
    },
    {
     "name": "stderr",
     "output_type": "stream",
     "text": [
      "\n",
      "Loss: 0.4304: 100%|██████████| 53/53 [00:13<00:00,  4.07it/s]\n",
      "Val Loss: 0.3364: 100%|██████████| 14/14 [00:03<00:00,  4.59it/s]\n"
     ]
    },
    {
     "name": "stdout",
     "output_type": "stream",
     "text": [
      "Epoch 19 | Train Loss: 0.6637 | Train F1: 0.7888 | Val Loss: 0.4867 | Val F1: 0.9209\n"
     ]
    },
    {
     "name": "stderr",
     "output_type": "stream",
     "text": [
      "Loss: 1.0400: 100%|██████████| 53/53 [00:13<00:00,  4.06it/s]\n",
      "Val Loss: 0.3280: 100%|██████████| 14/14 [00:03<00:00,  4.57it/s]\n"
     ]
    },
    {
     "name": "stdout",
     "output_type": "stream",
     "text": [
      "Epoch 20 | Train Loss: 0.5962 | Train F1: 0.9177 | Val Loss: 0.4318 | Val F1: 0.9573\n"
     ]
    },
    {
     "name": "stderr",
     "output_type": "stream",
     "text": [
      "Loss: 0.3342: 100%|██████████| 53/53 [00:13<00:00,  4.07it/s]\n",
      "Val Loss: 0.3244: 100%|██████████| 14/14 [00:03<00:00,  4.52it/s]\n"
     ]
    },
    {
     "name": "stdout",
     "output_type": "stream",
     "text": [
      "Epoch 21 | Train Loss: 0.6441 | Train F1: 0.8509 | Val Loss: 0.4897 | Val F1: 0.9330\n"
     ]
    },
    {
     "name": "stderr",
     "output_type": "stream",
     "text": [
      "Loss: 0.6372: 100%|██████████| 53/53 [00:13<00:00,  4.08it/s]\n",
      "Val Loss: 0.3259: 100%|██████████| 14/14 [00:03<00:00,  4.54it/s]\n"
     ]
    },
    {
     "name": "stdout",
     "output_type": "stream",
     "text": [
      "Epoch 22 | Train Loss: 0.6828 | Train F1: 0.8574 | Val Loss: 0.4617 | Val F1: 0.9351\n"
     ]
    },
    {
     "name": "stderr",
     "output_type": "stream",
     "text": [
      "Loss: 0.8501: 100%|██████████| 53/53 [00:13<00:00,  4.01it/s]\n",
      "Val Loss: 0.3257: 100%|██████████| 14/14 [00:03<00:00,  4.58it/s]\n"
     ]
    },
    {
     "name": "stdout",
     "output_type": "stream",
     "text": [
      "Epoch 23 | Train Loss: 0.6513 | Train F1: 0.8396 | Val Loss: 0.5068 | Val F1: 0.9318\n"
     ]
    },
    {
     "name": "stderr",
     "output_type": "stream",
     "text": [
      "Loss: 0.3374: 100%|██████████| 53/53 [00:12<00:00,  4.09it/s]\n",
      "Val Loss: 0.3260: 100%|██████████| 14/14 [00:03<00:00,  4.64it/s]\n"
     ]
    },
    {
     "name": "stdout",
     "output_type": "stream",
     "text": [
      "Epoch 24 | Train Loss: 0.5873 | Train F1: 0.8826 | Val Loss: 0.4437 | Val F1: 0.9526\n"
     ]
    },
    {
     "name": "stderr",
     "output_type": "stream",
     "text": [
      "Loss: 0.9980: 100%|██████████| 53/53 [00:13<00:00,  4.07it/s]\n",
      "Val Loss: 0.3230: 100%|██████████| 14/14 [00:03<00:00,  4.54it/s]\n"
     ]
    },
    {
     "name": "stdout",
     "output_type": "stream",
     "text": [
      "Epoch 25 | Train Loss: 0.6071 | Train F1: 0.8310 | Val Loss: 0.4900 | Val F1: 0.9394\n"
     ]
    },
    {
     "name": "stderr",
     "output_type": "stream",
     "text": [
      "Loss: 0.3337: 100%|██████████| 53/53 [00:12<00:00,  4.09it/s]\n",
      "Val Loss: 0.3222: 100%|██████████| 14/14 [00:03<00:00,  4.51it/s]\n"
     ]
    },
    {
     "name": "stdout",
     "output_type": "stream",
     "text": [
      "Epoch 26 | Train Loss: 0.5846 | Train F1: 0.8575 | Val Loss: 0.4972 | Val F1: 0.9322\n"
     ]
    },
    {
     "name": "stderr",
     "output_type": "stream",
     "text": [
      "Loss: 0.6836: 100%|██████████| 53/53 [00:13<00:00,  4.06it/s]\n",
      "Val Loss: 0.3242: 100%|██████████| 14/14 [00:03<00:00,  4.61it/s]\n"
     ]
    },
    {
     "name": "stdout",
     "output_type": "stream",
     "text": [
      "Epoch 27 | Train Loss: 0.5080 | Train F1: 0.9128 | Val Loss: 0.4803 | Val F1: 0.9290\n"
     ]
    },
    {
     "name": "stderr",
     "output_type": "stream",
     "text": [
      "Loss: 1.2959: 100%|██████████| 53/53 [00:13<00:00,  4.06it/s]\n",
      "Val Loss: 0.3226: 100%|██████████| 14/14 [00:03<00:00,  4.60it/s]\n"
     ]
    },
    {
     "name": "stdout",
     "output_type": "stream",
     "text": [
      "Epoch 28 | Train Loss: 0.5074 | Train F1: 0.9277 | Val Loss: 0.4674 | Val F1: 0.9383\n"
     ]
    },
    {
     "name": "stderr",
     "output_type": "stream",
     "text": [
      "Loss: 0.3274: 100%|██████████| 53/53 [00:13<00:00,  4.08it/s]\n",
      "Val Loss: 0.3255: 100%|██████████| 14/14 [00:03<00:00,  4.54it/s]\n"
     ]
    },
    {
     "name": "stdout",
     "output_type": "stream",
     "text": [
      "Epoch 29 | Train Loss: 0.5688 | Train F1: 0.8449 | Val Loss: 0.4621 | Val F1: 0.9464\n"
     ]
    },
    {
     "name": "stderr",
     "output_type": "stream",
     "text": [
      "Loss: 0.3499: 100%|██████████| 53/53 [00:13<00:00,  4.05it/s]\n",
      "Val Loss: 0.3216: 100%|██████████| 14/14 [00:03<00:00,  4.51it/s]\n"
     ]
    },
    {
     "name": "stdout",
     "output_type": "stream",
     "text": [
      "Epoch 30 | Train Loss: 0.4594 | Train F1: 0.8916 | Val Loss: 0.4225 | Val F1: 0.9563\n"
     ]
    },
    {
     "name": "stderr",
     "output_type": "stream",
     "text": [
      "Loss: 0.3237: 100%|██████████| 53/53 [00:13<00:00,  4.07it/s]\n",
      "Val Loss: 0.3217: 100%|██████████| 14/14 [00:03<00:00,  4.66it/s]\n"
     ]
    },
    {
     "name": "stdout",
     "output_type": "stream",
     "text": [
      "Epoch 31 | Train Loss: 0.5894 | Train F1: 0.8592 | Val Loss: 0.4334 | Val F1: 0.9589\n"
     ]
    },
    {
     "name": "stderr",
     "output_type": "stream",
     "text": [
      "Loss: 0.3257: 100%|██████████| 53/53 [00:13<00:00,  4.04it/s]\n",
      "Val Loss: 0.3217: 100%|██████████| 14/14 [00:03<00:00,  4.64it/s]"
     ]
    },
    {
     "name": "stdout",
     "output_type": "stream",
     "text": [
      "Epoch 32 | Train Loss: 0.5255 | Train F1: 0.8815 | Val Loss: 0.4024 | Val F1: 0.9716\n"
     ]
    },
    {
     "name": "stderr",
     "output_type": "stream",
     "text": [
      "\n",
      "Loss: 0.5493: 100%|██████████| 53/53 [00:12<00:00,  4.10it/s]\n",
      "Val Loss: 0.3241: 100%|██████████| 14/14 [00:03<00:00,  4.65it/s]"
     ]
    },
    {
     "name": "stdout",
     "output_type": "stream",
     "text": [
      "Epoch 33 | Train Loss: 0.5038 | Train F1: 0.8547 | Val Loss: 0.3929 | Val F1: 0.9730\n"
     ]
    },
    {
     "name": "stderr",
     "output_type": "stream",
     "text": [
      "\n",
      "Loss: 0.7080: 100%|██████████| 53/53 [00:13<00:00,  4.08it/s]\n",
      "Val Loss: 0.3214: 100%|██████████| 14/14 [00:03<00:00,  4.51it/s]\n"
     ]
    },
    {
     "name": "stdout",
     "output_type": "stream",
     "text": [
      "Epoch 34 | Train Loss: 0.5449 | Train F1: 0.8734 | Val Loss: 0.4368 | Val F1: 0.9570\n"
     ]
    },
    {
     "name": "stderr",
     "output_type": "stream",
     "text": [
      "Loss: 0.3245: 100%|██████████| 53/53 [00:13<00:00,  3.98it/s]\n",
      "Val Loss: 0.3222: 100%|██████████| 14/14 [00:03<00:00,  4.51it/s]\n"
     ]
    },
    {
     "name": "stdout",
     "output_type": "stream",
     "text": [
      "Epoch 35 | Train Loss: 0.6446 | Train F1: 0.7806 | Val Loss: 0.4784 | Val F1: 0.9469\n"
     ]
    },
    {
     "name": "stderr",
     "output_type": "stream",
     "text": [
      "Loss: 0.3267: 100%|██████████| 53/53 [00:12<00:00,  4.09it/s]\n",
      "Val Loss: 0.3221: 100%|██████████| 14/14 [00:03<00:00,  4.57it/s]\n"
     ]
    },
    {
     "name": "stdout",
     "output_type": "stream",
     "text": [
      "Epoch 36 | Train Loss: 0.5522 | Train F1: 0.8934 | Val Loss: 0.4804 | Val F1: 0.9464\n"
     ]
    },
    {
     "name": "stderr",
     "output_type": "stream",
     "text": [
      "Loss: 0.4592: 100%|██████████| 53/53 [00:12<00:00,  4.09it/s]\n",
      "Val Loss: 0.3224: 100%|██████████| 14/14 [00:03<00:00,  4.51it/s]\n"
     ]
    },
    {
     "name": "stdout",
     "output_type": "stream",
     "text": [
      "Epoch 37 | Train Loss: 0.5795 | Train F1: 0.8470 | Val Loss: 0.4678 | Val F1: 0.9469\n"
     ]
    },
    {
     "name": "stderr",
     "output_type": "stream",
     "text": [
      "Loss: 0.3276: 100%|██████████| 53/53 [00:12<00:00,  4.08it/s]\n",
      "Val Loss: 0.3213: 100%|██████████| 14/14 [00:03<00:00,  4.60it/s]\n"
     ]
    },
    {
     "name": "stdout",
     "output_type": "stream",
     "text": [
      "Epoch 38 | Train Loss: 0.5625 | Train F1: 0.8599 | Val Loss: 0.4471 | Val F1: 0.9477\n"
     ]
    },
    {
     "name": "stderr",
     "output_type": "stream",
     "text": [
      "Loss: 0.3743: 100%|██████████| 53/53 [00:12<00:00,  4.08it/s]\n",
      "Val Loss: 0.3212: 100%|██████████| 14/14 [00:02<00:00,  4.67it/s]\n"
     ]
    },
    {
     "name": "stdout",
     "output_type": "stream",
     "text": [
      "Epoch 39 | Train Loss: 0.5476 | Train F1: 0.8710 | Val Loss: 0.4418 | Val F1: 0.9562\n"
     ]
    },
    {
     "name": "stderr",
     "output_type": "stream",
     "text": [
      "Loss: 0.3235: 100%|██████████| 53/53 [00:13<00:00,  4.05it/s]\n",
      "Val Loss: 0.3215: 100%|██████████| 14/14 [00:02<00:00,  4.70it/s]\n"
     ]
    },
    {
     "name": "stdout",
     "output_type": "stream",
     "text": [
      "Epoch 40 | Train Loss: 0.5442 | Train F1: 0.8097 | Val Loss: 0.4482 | Val F1: 0.9531\n"
     ]
    },
    {
     "name": "stderr",
     "output_type": "stream",
     "text": [
      "Loss: 1.0303: 100%|██████████| 53/53 [00:13<00:00,  4.04it/s]\n",
      "Val Loss: 0.3210: 100%|██████████| 14/14 [00:03<00:00,  4.53it/s]\n"
     ]
    },
    {
     "name": "stdout",
     "output_type": "stream",
     "text": [
      "Epoch 41 | Train Loss: 0.6198 | Train F1: 0.8208 | Val Loss: 0.4204 | Val F1: 0.9532\n"
     ]
    },
    {
     "name": "stderr",
     "output_type": "stream",
     "text": [
      "Loss: 0.8955: 100%|██████████| 53/53 [00:13<00:00,  4.06it/s]\n",
      "Val Loss: 0.3215: 100%|██████████| 14/14 [00:03<00:00,  4.65it/s]\n"
     ]
    },
    {
     "name": "stdout",
     "output_type": "stream",
     "text": [
      "Epoch 42 | Train Loss: 0.5649 | Train F1: 0.8432 | Val Loss: 0.4698 | Val F1: 0.9422\n"
     ]
    },
    {
     "name": "stderr",
     "output_type": "stream",
     "text": [
      "Loss: 0.3262: 100%|██████████| 53/53 [00:13<00:00,  4.05it/s]\n",
      "Val Loss: 0.3213: 100%|██████████| 14/14 [00:03<00:00,  4.62it/s]\n"
     ]
    },
    {
     "name": "stdout",
     "output_type": "stream",
     "text": [
      "Epoch 43 | Train Loss: 0.5556 | Train F1: 0.7854 | Val Loss: 0.4413 | Val F1: 0.9520\n"
     ]
    },
    {
     "name": "stderr",
     "output_type": "stream",
     "text": [
      "Loss: 1.0371: 100%|██████████| 53/53 [00:13<00:00,  4.05it/s]\n",
      "Val Loss: 0.3230: 100%|██████████| 14/14 [00:03<00:00,  4.58it/s]\n"
     ]
    },
    {
     "name": "stdout",
     "output_type": "stream",
     "text": [
      "Epoch 44 | Train Loss: 0.5619 | Train F1: 0.8434 | Val Loss: 0.4192 | Val F1: 0.9701\n"
     ]
    },
    {
     "name": "stderr",
     "output_type": "stream",
     "text": [
      "Loss: 0.9976: 100%|██████████| 53/53 [00:13<00:00,  4.04it/s]\n",
      "Val Loss: 0.3231: 100%|██████████| 14/14 [00:03<00:00,  4.64it/s]\n"
     ]
    },
    {
     "name": "stdout",
     "output_type": "stream",
     "text": [
      "Epoch 45 | Train Loss: 0.5898 | Train F1: 0.8391 | Val Loss: 0.4242 | Val F1: 0.9638\n"
     ]
    },
    {
     "name": "stderr",
     "output_type": "stream",
     "text": [
      "Loss: 0.6162: 100%|██████████| 53/53 [00:12<00:00,  4.09it/s]\n",
      "Val Loss: 0.3214: 100%|██████████| 14/14 [00:03<00:00,  4.63it/s]\n"
     ]
    },
    {
     "name": "stdout",
     "output_type": "stream",
     "text": [
      "Epoch 46 | Train Loss: 0.5824 | Train F1: 0.8054 | Val Loss: 0.4491 | Val F1: 0.9428\n"
     ]
    },
    {
     "name": "stderr",
     "output_type": "stream",
     "text": [
      "Loss: 0.3237: 100%|██████████| 53/53 [00:13<00:00,  4.07it/s]\n",
      "Val Loss: 0.3226: 100%|██████████| 14/14 [00:03<00:00,  4.56it/s]\n"
     ]
    },
    {
     "name": "stdout",
     "output_type": "stream",
     "text": [
      "Epoch 47 | Train Loss: 0.5185 | Train F1: 0.8205 | Val Loss: 0.4681 | Val F1: 0.9418\n"
     ]
    },
    {
     "name": "stderr",
     "output_type": "stream",
     "text": [
      "Loss: 0.3237: 100%|██████████| 53/53 [00:13<00:00,  4.06it/s]\n",
      "Val Loss: 0.3211: 100%|██████████| 14/14 [00:03<00:00,  4.56it/s]\n"
     ]
    },
    {
     "name": "stdout",
     "output_type": "stream",
     "text": [
      "Epoch 48 | Train Loss: 0.5249 | Train F1: 0.8743 | Val Loss: 0.4726 | Val F1: 0.9485\n"
     ]
    },
    {
     "name": "stderr",
     "output_type": "stream",
     "text": [
      "Loss: 0.3342: 100%|██████████| 53/53 [00:12<00:00,  4.10it/s]\n",
      "Val Loss: 0.3208: 100%|██████████| 14/14 [00:02<00:00,  4.70it/s]\n"
     ]
    },
    {
     "name": "stdout",
     "output_type": "stream",
     "text": [
      "Epoch 49 | Train Loss: 0.4100 | Train F1: 0.9318 | Val Loss: 0.4297 | Val F1: 0.9584\n"
     ]
    },
    {
     "name": "stderr",
     "output_type": "stream",
     "text": [
      "Loss: 0.3223: 100%|██████████| 53/53 [00:12<00:00,  4.08it/s]\n",
      "Val Loss: 0.3217: 100%|██████████| 14/14 [00:03<00:00,  4.54it/s]\n"
     ]
    },
    {
     "name": "stdout",
     "output_type": "stream",
     "text": [
      "Epoch 50 | Train Loss: 0.5197 | Train F1: 0.8673 | Val Loss: 0.4324 | Val F1: 0.9549\n"
     ]
    },
    {
     "name": "stderr",
     "output_type": "stream",
     "text": [
      "Loss: 0.9795: 100%|██████████| 53/53 [00:13<00:00,  4.06it/s]\n",
      "Val Loss: 0.3209: 100%|██████████| 14/14 [00:03<00:00,  4.46it/s]\n"
     ]
    },
    {
     "name": "stdout",
     "output_type": "stream",
     "text": [
      "Epoch 51 | Train Loss: 0.5423 | Train F1: 0.8472 | Val Loss: 0.4257 | Val F1: 0.9640\n"
     ]
    },
    {
     "name": "stderr",
     "output_type": "stream",
     "text": [
      "Loss: 0.3228: 100%|██████████| 53/53 [00:13<00:00,  4.06it/s]\n",
      "Val Loss: 0.3209: 100%|██████████| 14/14 [00:02<00:00,  4.69it/s]\n"
     ]
    },
    {
     "name": "stdout",
     "output_type": "stream",
     "text": [
      "Epoch 52 | Train Loss: 0.5626 | Train F1: 0.8948 | Val Loss: 0.4298 | Val F1: 0.9611\n"
     ]
    },
    {
     "name": "stderr",
     "output_type": "stream",
     "text": [
      "Loss: 1.0547: 100%|██████████| 53/53 [00:12<00:00,  4.10it/s]\n",
      "Val Loss: 0.3208: 100%|██████████| 14/14 [00:03<00:00,  4.59it/s]\n"
     ]
    },
    {
     "name": "stdout",
     "output_type": "stream",
     "text": [
      "Epoch 53 | Train Loss: 0.5215 | Train F1: 0.8534 | Val Loss: 0.4378 | Val F1: 0.9496\n"
     ]
    },
    {
     "name": "stderr",
     "output_type": "stream",
     "text": [
      "Loss: 0.3242: 100%|██████████| 53/53 [00:13<00:00,  4.06it/s]\n",
      "Val Loss: 0.3206: 100%|██████████| 14/14 [00:03<00:00,  4.56it/s]\n"
     ]
    },
    {
     "name": "stdout",
     "output_type": "stream",
     "text": [
      "Epoch 54 | Train Loss: 0.5058 | Train F1: 0.8978 | Val Loss: 0.4617 | Val F1: 0.9545\n"
     ]
    },
    {
     "name": "stderr",
     "output_type": "stream",
     "text": [
      "Loss: 0.5098: 100%|██████████| 53/53 [00:13<00:00,  4.05it/s]\n",
      "Val Loss: 0.3208: 100%|██████████| 14/14 [00:03<00:00,  4.49it/s]\n"
     ]
    },
    {
     "name": "stdout",
     "output_type": "stream",
     "text": [
      "Epoch 55 | Train Loss: 0.5426 | Train F1: 0.8387 | Val Loss: 0.4188 | Val F1: 0.9586\n"
     ]
    },
    {
     "name": "stderr",
     "output_type": "stream",
     "text": [
      "Loss: 0.3230: 100%|██████████| 53/53 [00:13<00:00,  4.03it/s]\n",
      "Val Loss: 0.3218: 100%|██████████| 14/14 [00:03<00:00,  4.57it/s]\n"
     ]
    },
    {
     "name": "stdout",
     "output_type": "stream",
     "text": [
      "Epoch 56 | Train Loss: 0.5889 | Train F1: 0.7919 | Val Loss: 0.4044 | Val F1: 0.9674\n"
     ]
    },
    {
     "name": "stderr",
     "output_type": "stream",
     "text": [
      "Loss: 0.3499: 100%|██████████| 53/53 [00:13<00:00,  4.07it/s]\n",
      "Val Loss: 0.3215: 100%|██████████| 14/14 [00:03<00:00,  4.61it/s]\n"
     ]
    },
    {
     "name": "stdout",
     "output_type": "stream",
     "text": [
      "Epoch 57 | Train Loss: 0.4789 | Train F1: 0.9009 | Val Loss: 0.4144 | Val F1: 0.9673\n"
     ]
    },
    {
     "name": "stderr",
     "output_type": "stream",
     "text": [
      "Loss: 0.3213: 100%|██████████| 53/53 [00:13<00:00,  4.07it/s]\n",
      "Val Loss: 0.3208: 100%|██████████| 14/14 [00:03<00:00,  4.52it/s]\n"
     ]
    },
    {
     "name": "stdout",
     "output_type": "stream",
     "text": [
      "Epoch 58 | Train Loss: 0.5562 | Train F1: 0.8311 | Val Loss: 0.4175 | Val F1: 0.9680\n"
     ]
    },
    {
     "name": "stderr",
     "output_type": "stream",
     "text": [
      "Loss: 0.8936: 100%|██████████| 53/53 [00:13<00:00,  4.04it/s]\n",
      "Val Loss: 0.3207: 100%|██████████| 14/14 [00:02<00:00,  4.80it/s]\n"
     ]
    },
    {
     "name": "stdout",
     "output_type": "stream",
     "text": [
      "Epoch 59 | Train Loss: 0.5468 | Train F1: 0.8945 | Val Loss: 0.4296 | Val F1: 0.9593\n"
     ]
    },
    {
     "name": "stderr",
     "output_type": "stream",
     "text": [
      "Loss: 0.3218: 100%|██████████| 53/53 [00:13<00:00,  4.06it/s]\n",
      "Val Loss: 0.3210: 100%|██████████| 14/14 [00:03<00:00,  4.51it/s]\n"
     ]
    },
    {
     "name": "stdout",
     "output_type": "stream",
     "text": [
      "Epoch 60 | Train Loss: 0.5138 | Train F1: 0.8517 | Val Loss: 0.4197 | Val F1: 0.9644\n"
     ]
    },
    {
     "name": "stderr",
     "output_type": "stream",
     "text": [
      "Loss: 0.3225: 100%|██████████| 53/53 [00:12<00:00,  4.09it/s]\n",
      "Val Loss: 0.3211: 100%|██████████| 14/14 [00:03<00:00,  4.47it/s]\n"
     ]
    },
    {
     "name": "stdout",
     "output_type": "stream",
     "text": [
      "Epoch 61 | Train Loss: 0.5238 | Train F1: 0.8508 | Val Loss: 0.4332 | Val F1: 0.9563\n"
     ]
    },
    {
     "name": "stderr",
     "output_type": "stream",
     "text": [
      "Loss: 0.3210: 100%|██████████| 53/53 [00:13<00:00,  4.06it/s]\n",
      "Val Loss: 0.3206: 100%|██████████| 14/14 [00:03<00:00,  4.56it/s]\n"
     ]
    },
    {
     "name": "stdout",
     "output_type": "stream",
     "text": [
      "Epoch 62 | Train Loss: 0.5030 | Train F1: 0.8585 | Val Loss: 0.4278 | Val F1: 0.9639\n"
     ]
    },
    {
     "name": "stderr",
     "output_type": "stream",
     "text": [
      "Loss: 0.9941: 100%|██████████| 53/53 [00:13<00:00,  4.04it/s]\n",
      "Val Loss: 0.3206: 100%|██████████| 14/14 [00:03<00:00,  4.59it/s]\n"
     ]
    },
    {
     "name": "stdout",
     "output_type": "stream",
     "text": [
      "Epoch 63 | Train Loss: 0.5503 | Train F1: 0.7954 | Val Loss: 0.4167 | Val F1: 0.9565\n"
     ]
    },
    {
     "name": "stderr",
     "output_type": "stream",
     "text": [
      "Loss: 0.3213: 100%|██████████| 53/53 [00:12<00:00,  4.10it/s]\n",
      "Val Loss: 0.3206: 100%|██████████| 14/14 [00:03<00:00,  4.56it/s]\n"
     ]
    },
    {
     "name": "stdout",
     "output_type": "stream",
     "text": [
      "Epoch 64 | Train Loss: 0.5700 | Train F1: 0.7834 | Val Loss: 0.4483 | Val F1: 0.9499\n"
     ]
    },
    {
     "name": "stderr",
     "output_type": "stream",
     "text": [
      "Loss: 0.3208: 100%|██████████| 53/53 [00:12<00:00,  4.10it/s]\n",
      "Val Loss: 0.3206: 100%|██████████| 14/14 [00:03<00:00,  4.50it/s]\n"
     ]
    },
    {
     "name": "stdout",
     "output_type": "stream",
     "text": [
      "Epoch 65 | Train Loss: 0.4249 | Train F1: 0.9297 | Val Loss: 0.4659 | Val F1: 0.9528\n"
     ]
    },
    {
     "name": "stderr",
     "output_type": "stream",
     "text": [
      "Loss: 0.3210: 100%|██████████| 53/53 [00:13<00:00,  4.06it/s]\n",
      "Val Loss: 0.3207: 100%|██████████| 14/14 [00:03<00:00,  4.57it/s]\n"
     ]
    },
    {
     "name": "stdout",
     "output_type": "stream",
     "text": [
      "Epoch 66 | Train Loss: 0.5132 | Train F1: 0.8115 | Val Loss: 0.4123 | Val F1: 0.9607\n"
     ]
    },
    {
     "name": "stderr",
     "output_type": "stream",
     "text": [
      "Loss: 0.6650: 100%|██████████| 53/53 [00:13<00:00,  4.06it/s]\n",
      "Val Loss: 0.3205: 100%|██████████| 14/14 [00:02<00:00,  4.72it/s]\n"
     ]
    },
    {
     "name": "stdout",
     "output_type": "stream",
     "text": [
      "Epoch 67 | Train Loss: 0.5035 | Train F1: 0.8949 | Val Loss: 0.4292 | Val F1: 0.9543\n"
     ]
    },
    {
     "name": "stderr",
     "output_type": "stream",
     "text": [
      "Loss: 1.3711: 100%|██████████| 53/53 [00:12<00:00,  4.11it/s]\n",
      "Val Loss: 0.3205: 100%|██████████| 14/14 [00:03<00:00,  4.59it/s]\n"
     ]
    },
    {
     "name": "stdout",
     "output_type": "stream",
     "text": [
      "Epoch 68 | Train Loss: 0.5388 | Train F1: 0.8644 | Val Loss: 0.4372 | Val F1: 0.9524\n"
     ]
    },
    {
     "name": "stderr",
     "output_type": "stream",
     "text": [
      "Loss: 0.4375: 100%|██████████| 53/53 [00:13<00:00,  4.06it/s]\n",
      "Val Loss: 0.3204: 100%|██████████| 14/14 [00:03<00:00,  4.52it/s]\n"
     ]
    },
    {
     "name": "stdout",
     "output_type": "stream",
     "text": [
      "Epoch 69 | Train Loss: 0.5316 | Train F1: 0.8513 | Val Loss: 0.4238 | Val F1: 0.9569\n"
     ]
    },
    {
     "name": "stderr",
     "output_type": "stream",
     "text": [
      "Loss: 0.3228: 100%|██████████| 53/53 [00:13<00:00,  4.00it/s]\n",
      "Val Loss: 0.3205: 100%|██████████| 14/14 [00:03<00:00,  4.58it/s]\n"
     ]
    },
    {
     "name": "stdout",
     "output_type": "stream",
     "text": [
      "Epoch 70 | Train Loss: 0.5225 | Train F1: 0.8496 | Val Loss: 0.4122 | Val F1: 0.9673\n"
     ]
    },
    {
     "name": "stderr",
     "output_type": "stream",
     "text": [
      "Loss: 0.3208: 100%|██████████| 53/53 [00:13<00:00,  4.05it/s]\n",
      "Val Loss: 0.3206: 100%|██████████| 14/14 [00:03<00:00,  4.54it/s]\n"
     ]
    },
    {
     "name": "stdout",
     "output_type": "stream",
     "text": [
      "Epoch 71 | Train Loss: 0.5465 | Train F1: 0.8462 | Val Loss: 0.4303 | Val F1: 0.9548\n"
     ]
    },
    {
     "name": "stderr",
     "output_type": "stream",
     "text": [
      "Loss: 0.3215: 100%|██████████| 53/53 [00:12<00:00,  4.08it/s]\n",
      "Val Loss: 0.3206: 100%|██████████| 14/14 [00:03<00:00,  4.55it/s]\n"
     ]
    },
    {
     "name": "stdout",
     "output_type": "stream",
     "text": [
      "Epoch 72 | Train Loss: 0.5026 | Train F1: 0.8787 | Val Loss: 0.4280 | Val F1: 0.9541\n"
     ]
    },
    {
     "name": "stderr",
     "output_type": "stream",
     "text": [
      "Loss: 0.3208: 100%|██████████| 53/53 [00:12<00:00,  4.10it/s]\n",
      "Val Loss: 0.3204: 100%|██████████| 14/14 [00:03<00:00,  4.57it/s]\n"
     ]
    },
    {
     "name": "stdout",
     "output_type": "stream",
     "text": [
      "Epoch 73 | Train Loss: 0.4928 | Train F1: 0.9094 | Val Loss: 0.4419 | Val F1: 0.9577\n"
     ]
    },
    {
     "name": "stderr",
     "output_type": "stream",
     "text": [
      "Loss: 0.3438: 100%|██████████| 53/53 [00:12<00:00,  4.08it/s]\n",
      "Val Loss: 0.3207: 100%|██████████| 14/14 [00:03<00:00,  4.65it/s]\n"
     ]
    },
    {
     "name": "stdout",
     "output_type": "stream",
     "text": [
      "Epoch 74 | Train Loss: 0.5839 | Train F1: 0.8473 | Val Loss: 0.4264 | Val F1: 0.9595\n"
     ]
    },
    {
     "name": "stderr",
     "output_type": "stream",
     "text": [
      "Loss: 0.7310: 100%|██████████| 53/53 [00:13<00:00,  3.98it/s]\n",
      "Val Loss: 0.3204: 100%|██████████| 14/14 [00:03<00:00,  4.61it/s]\n"
     ]
    },
    {
     "name": "stdout",
     "output_type": "stream",
     "text": [
      "Epoch 75 | Train Loss: 0.5162 | Train F1: 0.8039 | Val Loss: 0.4096 | Val F1: 0.9698\n"
     ]
    },
    {
     "name": "stderr",
     "output_type": "stream",
     "text": [
      "Loss: 0.3232: 100%|██████████| 53/53 [00:13<00:00,  4.01it/s]\n",
      "Val Loss: 0.3204: 100%|██████████| 14/14 [00:02<00:00,  4.69it/s]\n"
     ]
    },
    {
     "name": "stdout",
     "output_type": "stream",
     "text": [
      "Epoch 76 | Train Loss: 0.5354 | Train F1: 0.8014 | Val Loss: 0.4326 | Val F1: 0.9476\n"
     ]
    },
    {
     "name": "stderr",
     "output_type": "stream",
     "text": [
      "Loss: 1.0957: 100%|██████████| 53/53 [00:13<00:00,  4.04it/s]\n",
      "Val Loss: 0.3205: 100%|██████████| 14/14 [00:03<00:00,  4.28it/s]\n"
     ]
    },
    {
     "name": "stdout",
     "output_type": "stream",
     "text": [
      "Epoch 77 | Train Loss: 0.5544 | Train F1: 0.8434 | Val Loss: 0.4408 | Val F1: 0.9590\n"
     ]
    },
    {
     "name": "stderr",
     "output_type": "stream",
     "text": [
      "Loss: 1.1191: 100%|██████████| 53/53 [00:13<00:00,  4.00it/s]\n",
      "Val Loss: 0.3208: 100%|██████████| 14/14 [00:03<00:00,  4.57it/s]\n"
     ]
    },
    {
     "name": "stdout",
     "output_type": "stream",
     "text": [
      "Epoch 78 | Train Loss: 0.5195 | Train F1: 0.8387 | Val Loss: 0.4215 | Val F1: 0.9651\n"
     ]
    },
    {
     "name": "stderr",
     "output_type": "stream",
     "text": [
      "Loss: 0.8242: 100%|██████████| 53/53 [00:13<00:00,  4.05it/s]\n",
      "Val Loss: 0.3205: 100%|██████████| 14/14 [00:03<00:00,  4.60it/s]\n"
     ]
    },
    {
     "name": "stdout",
     "output_type": "stream",
     "text": [
      "Epoch 79 | Train Loss: 0.4996 | Train F1: 0.8948 | Val Loss: 0.4130 | Val F1: 0.9578\n"
     ]
    },
    {
     "name": "stderr",
     "output_type": "stream",
     "text": [
      "Loss: 0.3228: 100%|██████████| 53/53 [00:13<00:00,  4.06it/s]\n",
      "Val Loss: 0.3204: 100%|██████████| 14/14 [00:03<00:00,  4.52it/s]\n"
     ]
    },
    {
     "name": "stdout",
     "output_type": "stream",
     "text": [
      "Epoch 80 | Train Loss: 0.5447 | Train F1: 0.8089 | Val Loss: 0.4539 | Val F1: 0.9451\n"
     ]
    },
    {
     "name": "stderr",
     "output_type": "stream",
     "text": [
      "Loss: 0.3364: 100%|██████████| 53/53 [00:12<00:00,  4.10it/s]\n",
      "Val Loss: 0.3205: 100%|██████████| 14/14 [00:03<00:00,  4.67it/s]\n"
     ]
    },
    {
     "name": "stdout",
     "output_type": "stream",
     "text": [
      "Epoch 81 | Train Loss: 0.5141 | Train F1: 0.8096 | Val Loss: 0.4245 | Val F1: 0.9567\n"
     ]
    },
    {
     "name": "stderr",
     "output_type": "stream",
     "text": [
      "Loss: 0.3228: 100%|██████████| 53/53 [00:13<00:00,  4.07it/s]\n",
      "Val Loss: 0.3204: 100%|██████████| 14/14 [00:03<00:00,  4.42it/s]\n"
     ]
    },
    {
     "name": "stdout",
     "output_type": "stream",
     "text": [
      "Epoch 82 | Train Loss: 0.4960 | Train F1: 0.8876 | Val Loss: 0.4289 | Val F1: 0.9583\n"
     ]
    },
    {
     "name": "stderr",
     "output_type": "stream",
     "text": [
      "Loss: 1.0342: 100%|██████████| 53/53 [00:13<00:00,  4.07it/s]\n",
      "Val Loss: 0.3204: 100%|██████████| 14/14 [00:03<00:00,  4.50it/s]\n"
     ]
    },
    {
     "name": "stdout",
     "output_type": "stream",
     "text": [
      "Epoch 83 | Train Loss: 0.4587 | Train F1: 0.9051 | Val Loss: 0.4231 | Val F1: 0.9612\n"
     ]
    },
    {
     "name": "stderr",
     "output_type": "stream",
     "text": [
      "Loss: 0.3206: 100%|██████████| 53/53 [00:12<00:00,  4.09it/s]\n",
      "Val Loss: 0.3204: 100%|██████████| 14/14 [00:03<00:00,  4.58it/s]\n"
     ]
    },
    {
     "name": "stdout",
     "output_type": "stream",
     "text": [
      "Epoch 84 | Train Loss: 0.4281 | Train F1: 0.8944 | Val Loss: 0.4418 | Val F1: 0.9544\n"
     ]
    },
    {
     "name": "stderr",
     "output_type": "stream",
     "text": [
      "Loss: 0.3213: 100%|██████████| 53/53 [00:13<00:00,  4.06it/s]\n",
      "Val Loss: 0.3204: 100%|██████████| 14/14 [00:02<00:00,  4.74it/s]\n"
     ]
    },
    {
     "name": "stdout",
     "output_type": "stream",
     "text": [
      "Epoch 85 | Train Loss: 0.5950 | Train F1: 0.7948 | Val Loss: 0.4353 | Val F1: 0.9508\n"
     ]
    },
    {
     "name": "stderr",
     "output_type": "stream",
     "text": [
      "Loss: 0.3208: 100%|██████████| 53/53 [00:13<00:00,  4.06it/s]\n",
      "Val Loss: 0.3204: 100%|██████████| 14/14 [00:03<00:00,  4.51it/s]\n"
     ]
    },
    {
     "name": "stdout",
     "output_type": "stream",
     "text": [
      "Epoch 86 | Train Loss: 0.4881 | Train F1: 0.8932 | Val Loss: 0.4293 | Val F1: 0.9614\n"
     ]
    },
    {
     "name": "stderr",
     "output_type": "stream",
     "text": [
      "Loss: 1.1035: 100%|██████████| 53/53 [00:13<00:00,  4.06it/s]\n",
      "Val Loss: 0.3205: 100%|██████████| 14/14 [00:03<00:00,  4.53it/s]\n"
     ]
    },
    {
     "name": "stdout",
     "output_type": "stream",
     "text": [
      "Epoch 87 | Train Loss: 0.4604 | Train F1: 0.9089 | Val Loss: 0.4320 | Val F1: 0.9590\n"
     ]
    },
    {
     "name": "stderr",
     "output_type": "stream",
     "text": [
      "Loss: 0.3220: 100%|██████████| 53/53 [00:12<00:00,  4.09it/s]\n",
      "Val Loss: 0.3204: 100%|██████████| 14/14 [00:03<00:00,  4.49it/s]\n"
     ]
    },
    {
     "name": "stdout",
     "output_type": "stream",
     "text": [
      "Epoch 88 | Train Loss: 0.4686 | Train F1: 0.8496 | Val Loss: 0.4229 | Val F1: 0.9673\n"
     ]
    },
    {
     "name": "stderr",
     "output_type": "stream",
     "text": [
      "Loss: 0.3223: 100%|██████████| 53/53 [00:12<00:00,  4.08it/s]\n",
      "Val Loss: 0.3204: 100%|██████████| 14/14 [00:02<00:00,  4.71it/s]\n"
     ]
    },
    {
     "name": "stdout",
     "output_type": "stream",
     "text": [
      "Epoch 89 | Train Loss: 0.4911 | Train F1: 0.8785 | Val Loss: 0.4456 | Val F1: 0.9595\n"
     ]
    },
    {
     "name": "stderr",
     "output_type": "stream",
     "text": [
      "Loss: 0.7017: 100%|██████████| 53/53 [00:12<00:00,  4.08it/s]\n",
      "Val Loss: 0.3204: 100%|██████████| 14/14 [00:03<00:00,  4.56it/s]\n"
     ]
    },
    {
     "name": "stdout",
     "output_type": "stream",
     "text": [
      "Epoch 90 | Train Loss: 0.4808 | Train F1: 0.9186 | Val Loss: 0.3845 | Val F1: 0.9701\n"
     ]
    },
    {
     "name": "stderr",
     "output_type": "stream",
     "text": [
      "Loss: 1.3330: 100%|██████████| 53/53 [00:13<00:00,  4.06it/s]\n",
      "Val Loss: 0.3204: 100%|██████████| 14/14 [00:03<00:00,  4.47it/s]\n"
     ]
    },
    {
     "name": "stdout",
     "output_type": "stream",
     "text": [
      "Epoch 91 | Train Loss: 0.5089 | Train F1: 0.8190 | Val Loss: 0.4517 | Val F1: 0.9504\n"
     ]
    },
    {
     "name": "stderr",
     "output_type": "stream",
     "text": [
      "Loss: 0.3203: 100%|██████████| 53/53 [00:13<00:00,  4.07it/s]\n",
      "Val Loss: 0.3205: 100%|██████████| 14/14 [00:03<00:00,  4.56it/s]\n"
     ]
    },
    {
     "name": "stdout",
     "output_type": "stream",
     "text": [
      "Epoch 92 | Train Loss: 0.5333 | Train F1: 0.7927 | Val Loss: 0.4121 | Val F1: 0.9596\n"
     ]
    },
    {
     "name": "stderr",
     "output_type": "stream",
     "text": [
      "Loss: 1.3262: 100%|██████████| 53/53 [00:13<00:00,  4.07it/s]\n",
      "Val Loss: 0.3205: 100%|██████████| 14/14 [00:03<00:00,  4.60it/s]\n"
     ]
    },
    {
     "name": "stdout",
     "output_type": "stream",
     "text": [
      "Epoch 93 | Train Loss: 0.4863 | Train F1: 0.9012 | Val Loss: 0.4342 | Val F1: 0.9673\n"
     ]
    },
    {
     "name": "stderr",
     "output_type": "stream",
     "text": [
      "Loss: 0.7783: 100%|██████████| 53/53 [00:12<00:00,  4.10it/s]\n",
      "Val Loss: 0.3204: 100%|██████████| 14/14 [00:03<00:00,  4.66it/s]\n"
     ]
    },
    {
     "name": "stdout",
     "output_type": "stream",
     "text": [
      "Epoch 94 | Train Loss: 0.5506 | Train F1: 0.8390 | Val Loss: 0.4313 | Val F1: 0.9508\n"
     ]
    },
    {
     "name": "stderr",
     "output_type": "stream",
     "text": [
      "Loss: 0.3208: 100%|██████████| 53/53 [00:12<00:00,  4.09it/s]\n",
      "Val Loss: 0.3204: 100%|██████████| 14/14 [00:03<00:00,  4.59it/s]\n"
     ]
    },
    {
     "name": "stdout",
     "output_type": "stream",
     "text": [
      "Epoch 95 | Train Loss: 0.4415 | Train F1: 0.9060 | Val Loss: 0.4254 | Val F1: 0.9701\n"
     ]
    },
    {
     "name": "stderr",
     "output_type": "stream",
     "text": [
      "Loss: 0.3208: 100%|██████████| 53/53 [00:13<00:00,  4.06it/s]\n",
      "Val Loss: 0.3204: 100%|██████████| 14/14 [00:03<00:00,  4.57it/s]\n"
     ]
    },
    {
     "name": "stdout",
     "output_type": "stream",
     "text": [
      "Epoch 96 | Train Loss: 0.5564 | Train F1: 0.8305 | Val Loss: 0.4370 | Val F1: 0.9671\n"
     ]
    },
    {
     "name": "stderr",
     "output_type": "stream",
     "text": [
      "Loss: 0.3206: 100%|██████████| 53/53 [00:13<00:00,  4.07it/s]\n",
      "Val Loss: 0.3204: 100%|██████████| 14/14 [00:03<00:00,  4.60it/s]\n"
     ]
    },
    {
     "name": "stdout",
     "output_type": "stream",
     "text": [
      "Epoch 97 | Train Loss: 0.4990 | Train F1: 0.8308 | Val Loss: 0.4466 | Val F1: 0.9518\n"
     ]
    },
    {
     "name": "stderr",
     "output_type": "stream",
     "text": [
      "Loss: 0.3206: 100%|██████████| 53/53 [00:13<00:00,  4.06it/s]\n",
      "Val Loss: 0.3204: 100%|██████████| 14/14 [00:03<00:00,  4.50it/s]\n"
     ]
    },
    {
     "name": "stdout",
     "output_type": "stream",
     "text": [
      "Epoch 98 | Train Loss: 0.5894 | Train F1: 0.7881 | Val Loss: 0.4262 | Val F1: 0.9620\n"
     ]
    },
    {
     "name": "stderr",
     "output_type": "stream",
     "text": [
      "Loss: 1.1406: 100%|██████████| 53/53 [00:13<00:00,  4.01it/s]\n",
      "Val Loss: 0.3204: 100%|██████████| 14/14 [00:02<00:00,  4.71it/s]\n"
     ]
    },
    {
     "name": "stdout",
     "output_type": "stream",
     "text": [
      "Epoch 99 | Train Loss: 0.5386 | Train F1: 0.7787 | Val Loss: 0.4300 | Val F1: 0.9563\n"
     ]
    },
    {
     "name": "stderr",
     "output_type": "stream",
     "text": [
      "Loss: 0.3210: 100%|██████████| 53/53 [00:13<00:00,  4.06it/s]\n",
      "Val Loss: 0.3204: 100%|██████████| 14/14 [00:03<00:00,  4.52it/s]\n"
     ]
    },
    {
     "name": "stdout",
     "output_type": "stream",
     "text": [
      "Epoch 100 | Train Loss: 0.5332 | Train F1: 0.8250 | Val Loss: 0.4363 | Val F1: 0.9560\n",
      "Fold 3 Best Validation F1: 0.9730\n",
      "\n",
      "==================================================\n",
      "FOLD 4/5\n",
      "==================================================\n",
      "Train samples: 1256, Validation samples: 314\n"
     ]
    },
    {
     "name": "stderr",
     "output_type": "stream",
     "text": [
      "Loss: 0.8359: 100%|██████████| 53/53 [00:13<00:00,  4.05it/s]\n",
      "Val Loss: 0.3755: 100%|██████████| 14/14 [00:03<00:00,  4.59it/s]"
     ]
    },
    {
     "name": "stdout",
     "output_type": "stream",
     "text": [
      "Epoch  1 | Train Loss: 1.8626 | Train F1: 0.4234 | Val Loss: 0.8664 | Val F1: 0.7692\n"
     ]
    },
    {
     "name": "stderr",
     "output_type": "stream",
     "text": [
      "\n",
      "Loss: 0.4519: 100%|██████████| 53/53 [00:12<00:00,  4.08it/s]\n",
      "Val Loss: 0.3365: 100%|██████████| 14/14 [00:03<00:00,  4.60it/s]"
     ]
    },
    {
     "name": "stdout",
     "output_type": "stream",
     "text": [
      "Epoch  2 | Train Loss: 1.0593 | Train F1: 0.6772 | Val Loss: 0.7395 | Val F1: 0.7922\n"
     ]
    },
    {
     "name": "stderr",
     "output_type": "stream",
     "text": [
      "\n",
      "Loss: 0.9971: 100%|██████████| 53/53 [00:13<00:00,  4.07it/s]\n",
      "Val Loss: 0.3328: 100%|██████████| 14/14 [00:03<00:00,  4.55it/s]"
     ]
    },
    {
     "name": "stdout",
     "output_type": "stream",
     "text": [
      "Epoch  3 | Train Loss: 0.9631 | Train F1: 0.7110 | Val Loss: 0.5785 | Val F1: 0.8962\n"
     ]
    },
    {
     "name": "stderr",
     "output_type": "stream",
     "text": [
      "\n",
      "Loss: 0.8960: 100%|██████████| 53/53 [00:13<00:00,  4.07it/s]\n",
      "Val Loss: 0.3317: 100%|██████████| 14/14 [00:02<00:00,  4.68it/s]\n"
     ]
    },
    {
     "name": "stdout",
     "output_type": "stream",
     "text": [
      "Epoch  4 | Train Loss: 0.8291 | Train F1: 0.7979 | Val Loss: 0.5843 | Val F1: 0.8460\n"
     ]
    },
    {
     "name": "stderr",
     "output_type": "stream",
     "text": [
      "Loss: 0.8892: 100%|██████████| 53/53 [00:13<00:00,  4.04it/s]\n",
      "Val Loss: 0.3331: 100%|██████████| 14/14 [00:03<00:00,  4.56it/s]\n"
     ]
    },
    {
     "name": "stdout",
     "output_type": "stream",
     "text": [
      "Epoch  5 | Train Loss: 0.7597 | Train F1: 0.7814 | Val Loss: 0.5469 | Val F1: 0.8816\n"
     ]
    },
    {
     "name": "stderr",
     "output_type": "stream",
     "text": [
      "Loss: 1.6465: 100%|██████████| 53/53 [00:12<00:00,  4.08it/s]\n",
      "Val Loss: 0.3314: 100%|██████████| 14/14 [00:03<00:00,  4.61it/s]\n"
     ]
    },
    {
     "name": "stdout",
     "output_type": "stream",
     "text": [
      "Epoch  6 | Train Loss: 0.7786 | Train F1: 0.8209 | Val Loss: 0.5553 | Val F1: 0.8886\n"
     ]
    },
    {
     "name": "stderr",
     "output_type": "stream",
     "text": [
      "Loss: 0.6270: 100%|██████████| 53/53 [00:13<00:00,  4.07it/s]\n",
      "Val Loss: 0.3277: 100%|██████████| 14/14 [00:03<00:00,  4.63it/s]\n"
     ]
    },
    {
     "name": "stdout",
     "output_type": "stream",
     "text": [
      "Epoch  7 | Train Loss: 0.8054 | Train F1: 0.6877 | Val Loss: 0.5551 | Val F1: 0.8806\n"
     ]
    },
    {
     "name": "stderr",
     "output_type": "stream",
     "text": [
      "Loss: 0.7764: 100%|██████████| 53/53 [00:13<00:00,  4.07it/s]\n",
      "Val Loss: 0.3319: 100%|██████████| 14/14 [00:03<00:00,  4.51it/s]\n"
     ]
    },
    {
     "name": "stdout",
     "output_type": "stream",
     "text": [
      "Epoch  8 | Train Loss: 0.7276 | Train F1: 0.8033 | Val Loss: 0.5868 | Val F1: 0.8816\n"
     ]
    },
    {
     "name": "stderr",
     "output_type": "stream",
     "text": [
      "Loss: 1.2432: 100%|██████████| 53/53 [00:13<00:00,  4.06it/s]\n",
      "Val Loss: 0.3273: 100%|██████████| 14/14 [00:03<00:00,  4.66it/s]"
     ]
    },
    {
     "name": "stdout",
     "output_type": "stream",
     "text": [
      "Epoch  9 | Train Loss: 0.7740 | Train F1: 0.8169 | Val Loss: 0.5176 | Val F1: 0.9202\n"
     ]
    },
    {
     "name": "stderr",
     "output_type": "stream",
     "text": [
      "\n",
      "Loss: 0.7383: 100%|██████████| 53/53 [00:13<00:00,  4.04it/s]\n",
      "Val Loss: 0.3305: 100%|██████████| 14/14 [00:03<00:00,  4.66it/s]"
     ]
    },
    {
     "name": "stdout",
     "output_type": "stream",
     "text": [
      "Epoch 10 | Train Loss: 0.6905 | Train F1: 0.8547 | Val Loss: 0.5236 | Val F1: 0.9211\n"
     ]
    },
    {
     "name": "stderr",
     "output_type": "stream",
     "text": [
      "\n",
      "Loss: 0.3293: 100%|██████████| 53/53 [00:13<00:00,  4.06it/s]\n",
      "Val Loss: 0.3675: 100%|██████████| 14/14 [00:02<00:00,  4.67it/s]\n"
     ]
    },
    {
     "name": "stdout",
     "output_type": "stream",
     "text": [
      "Epoch 11 | Train Loss: 0.6522 | Train F1: 0.8706 | Val Loss: 0.4918 | Val F1: 0.9080\n"
     ]
    },
    {
     "name": "stderr",
     "output_type": "stream",
     "text": [
      "Loss: 0.5732: 100%|██████████| 53/53 [00:13<00:00,  4.07it/s]\n",
      "Val Loss: 0.3269: 100%|██████████| 14/14 [00:03<00:00,  4.57it/s]\n"
     ]
    },
    {
     "name": "stdout",
     "output_type": "stream",
     "text": [
      "Epoch 12 | Train Loss: 0.6740 | Train F1: 0.8023 | Val Loss: 0.5203 | Val F1: 0.9069\n"
     ]
    },
    {
     "name": "stderr",
     "output_type": "stream",
     "text": [
      "Loss: 0.3350: 100%|██████████| 53/53 [00:13<00:00,  4.04it/s]\n",
      "Val Loss: 0.3342: 100%|██████████| 14/14 [00:03<00:00,  4.45it/s]\n"
     ]
    },
    {
     "name": "stdout",
     "output_type": "stream",
     "text": [
      "Epoch 13 | Train Loss: 0.6928 | Train F1: 0.8026 | Val Loss: 0.5119 | Val F1: 0.9127\n"
     ]
    },
    {
     "name": "stderr",
     "output_type": "stream",
     "text": [
      "Loss: 0.7773: 100%|██████████| 53/53 [00:13<00:00,  4.06it/s]\n",
      "Val Loss: 0.3332: 100%|██████████| 14/14 [00:03<00:00,  4.52it/s]"
     ]
    },
    {
     "name": "stdout",
     "output_type": "stream",
     "text": [
      "Epoch 14 | Train Loss: 0.7025 | Train F1: 0.8360 | Val Loss: 0.4674 | Val F1: 0.9312\n"
     ]
    },
    {
     "name": "stderr",
     "output_type": "stream",
     "text": [
      "\n",
      "Loss: 0.4502: 100%|██████████| 53/53 [00:13<00:00,  4.06it/s]\n",
      "Val Loss: 0.3311: 100%|██████████| 14/14 [00:03<00:00,  4.52it/s]\n"
     ]
    },
    {
     "name": "stdout",
     "output_type": "stream",
     "text": [
      "Epoch 15 | Train Loss: 0.6727 | Train F1: 0.8306 | Val Loss: 0.4884 | Val F1: 0.9311\n"
     ]
    },
    {
     "name": "stderr",
     "output_type": "stream",
     "text": [
      "Loss: 0.9824: 100%|██████████| 53/53 [00:13<00:00,  4.07it/s]\n",
      "Val Loss: 0.3245: 100%|██████████| 14/14 [00:03<00:00,  4.60it/s]\n"
     ]
    },
    {
     "name": "stdout",
     "output_type": "stream",
     "text": [
      "Epoch 16 | Train Loss: 0.6385 | Train F1: 0.8767 | Val Loss: 0.5445 | Val F1: 0.8865\n"
     ]
    },
    {
     "name": "stderr",
     "output_type": "stream",
     "text": [
      "Loss: 0.7847: 100%|██████████| 53/53 [00:13<00:00,  4.03it/s]\n",
      "Val Loss: 0.3244: 100%|██████████| 14/14 [00:03<00:00,  4.22it/s]"
     ]
    },
    {
     "name": "stdout",
     "output_type": "stream",
     "text": [
      "Epoch 17 | Train Loss: 0.6603 | Train F1: 0.8201 | Val Loss: 0.4933 | Val F1: 0.9349\n"
     ]
    },
    {
     "name": "stderr",
     "output_type": "stream",
     "text": [
      "\n",
      "Loss: 0.4556: 100%|██████████| 53/53 [00:13<00:00,  4.00it/s]\n",
      "Val Loss: 0.3229: 100%|██████████| 14/14 [00:03<00:00,  4.55it/s]\n"
     ]
    },
    {
     "name": "stdout",
     "output_type": "stream",
     "text": [
      "Epoch 18 | Train Loss: 0.6678 | Train F1: 0.8407 | Val Loss: 0.4905 | Val F1: 0.9210\n"
     ]
    },
    {
     "name": "stderr",
     "output_type": "stream",
     "text": [
      "Loss: 1.0176: 100%|██████████| 53/53 [00:13<00:00,  4.02it/s]\n",
      "Val Loss: 0.3284: 100%|██████████| 14/14 [00:03<00:00,  4.56it/s]\n"
     ]
    },
    {
     "name": "stdout",
     "output_type": "stream",
     "text": [
      "Epoch 19 | Train Loss: 0.6219 | Train F1: 0.8394 | Val Loss: 0.4876 | Val F1: 0.9345\n"
     ]
    },
    {
     "name": "stderr",
     "output_type": "stream",
     "text": [
      "Loss: 1.6211: 100%|██████████| 53/53 [00:13<00:00,  4.06it/s]\n",
      "Val Loss: 0.3256: 100%|██████████| 14/14 [00:03<00:00,  4.64it/s]"
     ]
    },
    {
     "name": "stdout",
     "output_type": "stream",
     "text": [
      "Epoch 20 | Train Loss: 0.6368 | Train F1: 0.8817 | Val Loss: 0.4819 | Val F1: 0.9396\n"
     ]
    },
    {
     "name": "stderr",
     "output_type": "stream",
     "text": [
      "\n",
      "Loss: 0.3276: 100%|██████████| 53/53 [00:13<00:00,  4.07it/s]\n",
      "Val Loss: 0.3274: 100%|██████████| 14/14 [00:03<00:00,  4.64it/s]"
     ]
    },
    {
     "name": "stdout",
     "output_type": "stream",
     "text": [
      "Epoch 21 | Train Loss: 0.6696 | Train F1: 0.8438 | Val Loss: 0.4833 | Val F1: 0.9412\n"
     ]
    },
    {
     "name": "stderr",
     "output_type": "stream",
     "text": [
      "\n",
      "Loss: 0.4048: 100%|██████████| 53/53 [00:13<00:00,  4.06it/s]\n",
      "Val Loss: 0.3250: 100%|██████████| 14/14 [00:03<00:00,  4.58it/s]\n"
     ]
    },
    {
     "name": "stdout",
     "output_type": "stream",
     "text": [
      "Epoch 22 | Train Loss: 0.5562 | Train F1: 0.9021 | Val Loss: 0.4854 | Val F1: 0.9351\n"
     ]
    },
    {
     "name": "stderr",
     "output_type": "stream",
     "text": [
      "Loss: 0.3315: 100%|██████████| 53/53 [00:13<00:00,  4.06it/s]\n",
      "Val Loss: 0.3316: 100%|██████████| 14/14 [00:03<00:00,  4.60it/s]\n"
     ]
    },
    {
     "name": "stdout",
     "output_type": "stream",
     "text": [
      "Epoch 23 | Train Loss: 0.6410 | Train F1: 0.8154 | Val Loss: 0.4855 | Val F1: 0.9311\n"
     ]
    },
    {
     "name": "stderr",
     "output_type": "stream",
     "text": [
      "Loss: 0.3535: 100%|██████████| 53/53 [00:13<00:00,  4.02it/s]\n",
      "Val Loss: 0.3231: 100%|██████████| 14/14 [00:03<00:00,  4.61it/s]\n"
     ]
    },
    {
     "name": "stdout",
     "output_type": "stream",
     "text": [
      "Epoch 24 | Train Loss: 0.6391 | Train F1: 0.8554 | Val Loss: 0.4723 | Val F1: 0.9368\n"
     ]
    },
    {
     "name": "stderr",
     "output_type": "stream",
     "text": [
      "Loss: 0.3896: 100%|██████████| 53/53 [00:13<00:00,  4.05it/s]\n",
      "Val Loss: 0.3228: 100%|██████████| 14/14 [00:03<00:00,  4.52it/s]"
     ]
    },
    {
     "name": "stdout",
     "output_type": "stream",
     "text": [
      "Epoch 25 | Train Loss: 0.5437 | Train F1: 0.8430 | Val Loss: 0.4902 | Val F1: 0.9458\n"
     ]
    },
    {
     "name": "stderr",
     "output_type": "stream",
     "text": [
      "\n",
      "Loss: 0.3728: 100%|██████████| 53/53 [00:12<00:00,  4.09it/s]\n",
      "Val Loss: 0.3253: 100%|██████████| 14/14 [00:03<00:00,  4.57it/s]"
     ]
    },
    {
     "name": "stdout",
     "output_type": "stream",
     "text": [
      "Epoch 26 | Train Loss: 0.7642 | Train F1: 0.7148 | Val Loss: 0.4806 | Val F1: 0.9475\n"
     ]
    },
    {
     "name": "stderr",
     "output_type": "stream",
     "text": [
      "\n",
      "Loss: 1.6133: 100%|██████████| 53/53 [00:13<00:00,  4.07it/s]\n",
      "Val Loss: 0.3232: 100%|██████████| 14/14 [00:03<00:00,  4.51it/s]\n"
     ]
    },
    {
     "name": "stdout",
     "output_type": "stream",
     "text": [
      "Epoch 27 | Train Loss: 0.5822 | Train F1: 0.8576 | Val Loss: 0.4528 | Val F1: 0.9387\n"
     ]
    },
    {
     "name": "stderr",
     "output_type": "stream",
     "text": [
      "Loss: 0.5605: 100%|██████████| 53/53 [00:13<00:00,  4.05it/s]\n",
      "Val Loss: 0.3237: 100%|██████████| 14/14 [00:03<00:00,  4.53it/s]\n"
     ]
    },
    {
     "name": "stdout",
     "output_type": "stream",
     "text": [
      "Epoch 28 | Train Loss: 0.6354 | Train F1: 0.8558 | Val Loss: 0.4971 | Val F1: 0.9345\n"
     ]
    },
    {
     "name": "stderr",
     "output_type": "stream",
     "text": [
      "Loss: 0.3550: 100%|██████████| 53/53 [00:12<00:00,  4.08it/s]\n",
      "Val Loss: 0.3235: 100%|██████████| 14/14 [00:03<00:00,  4.53it/s]"
     ]
    },
    {
     "name": "stdout",
     "output_type": "stream",
     "text": [
      "Epoch 29 | Train Loss: 0.5824 | Train F1: 0.8340 | Val Loss: 0.4432 | Val F1: 0.9582\n"
     ]
    },
    {
     "name": "stderr",
     "output_type": "stream",
     "text": [
      "\n",
      "Loss: 0.7754: 100%|██████████| 53/53 [00:12<00:00,  4.09it/s]\n",
      "Val Loss: 0.3287: 100%|██████████| 14/14 [00:03<00:00,  4.53it/s]\n"
     ]
    },
    {
     "name": "stdout",
     "output_type": "stream",
     "text": [
      "Epoch 30 | Train Loss: 0.5147 | Train F1: 0.9124 | Val Loss: 0.4976 | Val F1: 0.9356\n"
     ]
    },
    {
     "name": "stderr",
     "output_type": "stream",
     "text": [
      "Loss: 0.3325: 100%|██████████| 53/53 [00:13<00:00,  4.06it/s]\n",
      "Val Loss: 0.3285: 100%|██████████| 14/14 [00:03<00:00,  4.62it/s]\n"
     ]
    },
    {
     "name": "stdout",
     "output_type": "stream",
     "text": [
      "Epoch 31 | Train Loss: 0.5517 | Train F1: 0.8646 | Val Loss: 0.4670 | Val F1: 0.9359\n"
     ]
    },
    {
     "name": "stderr",
     "output_type": "stream",
     "text": [
      "Loss: 0.4219: 100%|██████████| 53/53 [00:13<00:00,  4.04it/s]\n",
      "Val Loss: 0.3227: 100%|██████████| 14/14 [00:03<00:00,  4.58it/s]\n"
     ]
    },
    {
     "name": "stdout",
     "output_type": "stream",
     "text": [
      "Epoch 32 | Train Loss: 0.6061 | Train F1: 0.8469 | Val Loss: 0.4723 | Val F1: 0.9452\n"
     ]
    },
    {
     "name": "stderr",
     "output_type": "stream",
     "text": [
      "Loss: 0.3252: 100%|██████████| 53/53 [00:12<00:00,  4.09it/s]\n",
      "Val Loss: 0.3226: 100%|██████████| 14/14 [00:03<00:00,  4.67it/s]\n"
     ]
    },
    {
     "name": "stdout",
     "output_type": "stream",
     "text": [
      "Epoch 33 | Train Loss: 0.5476 | Train F1: 0.8614 | Val Loss: 0.4241 | Val F1: 0.9556\n"
     ]
    },
    {
     "name": "stderr",
     "output_type": "stream",
     "text": [
      "Loss: 0.3828: 100%|██████████| 53/53 [00:13<00:00,  4.08it/s]\n",
      "Val Loss: 0.3214: 100%|██████████| 14/14 [00:03<00:00,  4.66it/s]\n"
     ]
    },
    {
     "name": "stdout",
     "output_type": "stream",
     "text": [
      "Epoch 34 | Train Loss: 0.5170 | Train F1: 0.8881 | Val Loss: 0.4636 | Val F1: 0.9509\n"
     ]
    },
    {
     "name": "stderr",
     "output_type": "stream",
     "text": [
      "Loss: 0.3269: 100%|██████████| 53/53 [00:12<00:00,  4.08it/s]\n",
      "Val Loss: 0.3216: 100%|██████████| 14/14 [00:03<00:00,  4.55it/s]\n"
     ]
    },
    {
     "name": "stdout",
     "output_type": "stream",
     "text": [
      "Epoch 35 | Train Loss: 0.5512 | Train F1: 0.8981 | Val Loss: 0.4695 | Val F1: 0.9481\n"
     ]
    },
    {
     "name": "stderr",
     "output_type": "stream",
     "text": [
      "Loss: 0.3384: 100%|██████████| 53/53 [00:13<00:00,  4.03it/s]\n",
      "Val Loss: 0.3226: 100%|██████████| 14/14 [00:03<00:00,  4.63it/s]\n"
     ]
    },
    {
     "name": "stdout",
     "output_type": "stream",
     "text": [
      "Epoch 36 | Train Loss: 0.5376 | Train F1: 0.8530 | Val Loss: 0.4319 | Val F1: 0.9410\n"
     ]
    },
    {
     "name": "stderr",
     "output_type": "stream",
     "text": [
      "Loss: 0.3457: 100%|██████████| 53/53 [00:12<00:00,  4.08it/s]\n",
      "Val Loss: 0.3236: 100%|██████████| 14/14 [00:03<00:00,  4.26it/s]\n"
     ]
    },
    {
     "name": "stdout",
     "output_type": "stream",
     "text": [
      "Epoch 37 | Train Loss: 0.5497 | Train F1: 0.8340 | Val Loss: 0.4576 | Val F1: 0.9405\n"
     ]
    },
    {
     "name": "stderr",
     "output_type": "stream",
     "text": [
      "Loss: 0.9790: 100%|██████████| 53/53 [00:13<00:00,  4.06it/s]\n",
      "Val Loss: 0.3230: 100%|██████████| 14/14 [00:03<00:00,  4.61it/s]\n"
     ]
    },
    {
     "name": "stdout",
     "output_type": "stream",
     "text": [
      "Epoch 38 | Train Loss: 0.5520 | Train F1: 0.8627 | Val Loss: 0.4854 | Val F1: 0.9427\n"
     ]
    },
    {
     "name": "stderr",
     "output_type": "stream",
     "text": [
      "Loss: 1.3945: 100%|██████████| 53/53 [00:13<00:00,  4.06it/s]\n",
      "Val Loss: 0.3239: 100%|██████████| 14/14 [00:03<00:00,  4.44it/s]\n"
     ]
    },
    {
     "name": "stdout",
     "output_type": "stream",
     "text": [
      "Epoch 39 | Train Loss: 0.5390 | Train F1: 0.8780 | Val Loss: 0.4688 | Val F1: 0.9369\n"
     ]
    },
    {
     "name": "stderr",
     "output_type": "stream",
     "text": [
      "Loss: 0.9297: 100%|██████████| 53/53 [00:13<00:00,  4.07it/s]\n",
      "Val Loss: 0.3218: 100%|██████████| 14/14 [00:03<00:00,  4.54it/s]\n"
     ]
    },
    {
     "name": "stdout",
     "output_type": "stream",
     "text": [
      "Epoch 40 | Train Loss: 0.5477 | Train F1: 0.8181 | Val Loss: 0.4526 | Val F1: 0.9432\n"
     ]
    },
    {
     "name": "stderr",
     "output_type": "stream",
     "text": [
      "Loss: 1.0234: 100%|██████████| 53/53 [00:13<00:00,  4.07it/s]\n",
      "Val Loss: 0.3249: 100%|██████████| 14/14 [00:03<00:00,  4.64it/s]\n"
     ]
    },
    {
     "name": "stdout",
     "output_type": "stream",
     "text": [
      "Epoch 41 | Train Loss: 0.5984 | Train F1: 0.8735 | Val Loss: 0.4691 | Val F1: 0.9486\n"
     ]
    },
    {
     "name": "stderr",
     "output_type": "stream",
     "text": [
      "Loss: 0.3325: 100%|██████████| 53/53 [00:12<00:00,  4.10it/s]\n",
      "Val Loss: 0.3245: 100%|██████████| 14/14 [00:03<00:00,  4.49it/s]\n"
     ]
    },
    {
     "name": "stdout",
     "output_type": "stream",
     "text": [
      "Epoch 42 | Train Loss: 0.5044 | Train F1: 0.8658 | Val Loss: 0.4713 | Val F1: 0.9478\n"
     ]
    },
    {
     "name": "stderr",
     "output_type": "stream",
     "text": [
      "Loss: 0.9365: 100%|██████████| 53/53 [00:13<00:00,  4.06it/s]\n",
      "Val Loss: 0.3214: 100%|██████████| 14/14 [00:03<00:00,  4.60it/s]\n"
     ]
    },
    {
     "name": "stdout",
     "output_type": "stream",
     "text": [
      "Epoch 43 | Train Loss: 0.5326 | Train F1: 0.8670 | Val Loss: 0.4395 | Val F1: 0.9514\n"
     ]
    },
    {
     "name": "stderr",
     "output_type": "stream",
     "text": [
      "Loss: 0.4321: 100%|██████████| 53/53 [00:12<00:00,  4.09it/s]\n",
      "Val Loss: 0.3227: 100%|██████████| 14/14 [00:03<00:00,  4.55it/s]\n"
     ]
    },
    {
     "name": "stdout",
     "output_type": "stream",
     "text": [
      "Epoch 44 | Train Loss: 0.5674 | Train F1: 0.8218 | Val Loss: 0.4728 | Val F1: 0.9409\n"
     ]
    },
    {
     "name": "stderr",
     "output_type": "stream",
     "text": [
      "Loss: 0.3411: 100%|██████████| 53/53 [00:13<00:00,  4.07it/s]\n",
      "Val Loss: 0.3240: 100%|██████████| 14/14 [00:03<00:00,  4.64it/s]\n"
     ]
    },
    {
     "name": "stdout",
     "output_type": "stream",
     "text": [
      "Epoch 45 | Train Loss: 0.5357 | Train F1: 0.8295 | Val Loss: 0.4744 | Val F1: 0.9495\n"
     ]
    },
    {
     "name": "stderr",
     "output_type": "stream",
     "text": [
      "Loss: 0.3850: 100%|██████████| 53/53 [00:12<00:00,  4.08it/s]\n",
      "Val Loss: 0.3208: 100%|██████████| 14/14 [00:03<00:00,  4.64it/s]\n"
     ]
    },
    {
     "name": "stdout",
     "output_type": "stream",
     "text": [
      "Epoch 46 | Train Loss: 0.5505 | Train F1: 0.8963 | Val Loss: 0.4737 | Val F1: 0.9411\n"
     ]
    },
    {
     "name": "stderr",
     "output_type": "stream",
     "text": [
      "Loss: 0.3267: 100%|██████████| 53/53 [00:13<00:00,  4.06it/s]\n",
      "Val Loss: 0.3214: 100%|██████████| 14/14 [00:03<00:00,  4.47it/s]\n"
     ]
    },
    {
     "name": "stdout",
     "output_type": "stream",
     "text": [
      "Epoch 47 | Train Loss: 0.5510 | Train F1: 0.8157 | Val Loss: 0.4777 | Val F1: 0.9412\n"
     ]
    },
    {
     "name": "stderr",
     "output_type": "stream",
     "text": [
      "Loss: 0.3237: 100%|██████████| 53/53 [00:13<00:00,  4.06it/s]\n",
      "Val Loss: 0.3269: 100%|██████████| 14/14 [00:02<00:00,  4.69it/s]\n"
     ]
    },
    {
     "name": "stdout",
     "output_type": "stream",
     "text": [
      "Epoch 48 | Train Loss: 0.5281 | Train F1: 0.9057 | Val Loss: 0.4679 | Val F1: 0.9521\n"
     ]
    },
    {
     "name": "stderr",
     "output_type": "stream",
     "text": [
      "Loss: 1.0811: 100%|██████████| 53/53 [00:12<00:00,  4.10it/s]\n",
      "Val Loss: 0.3205: 100%|██████████| 14/14 [00:03<00:00,  4.51it/s]\n"
     ]
    },
    {
     "name": "stdout",
     "output_type": "stream",
     "text": [
      "Epoch 49 | Train Loss: 0.4949 | Train F1: 0.8870 | Val Loss: 0.4813 | Val F1: 0.9472\n"
     ]
    },
    {
     "name": "stderr",
     "output_type": "stream",
     "text": [
      "Loss: 0.3228: 100%|██████████| 53/53 [00:13<00:00,  4.06it/s]\n",
      "Val Loss: 0.3208: 100%|██████████| 14/14 [00:03<00:00,  4.65it/s]\n"
     ]
    },
    {
     "name": "stdout",
     "output_type": "stream",
     "text": [
      "Epoch 50 | Train Loss: 0.5455 | Train F1: 0.8746 | Val Loss: 0.4792 | Val F1: 0.9478\n"
     ]
    },
    {
     "name": "stderr",
     "output_type": "stream",
     "text": [
      "Loss: 0.3220: 100%|██████████| 53/53 [00:12<00:00,  4.09it/s]\n",
      "Val Loss: 0.3216: 100%|██████████| 14/14 [00:03<00:00,  4.64it/s]\n"
     ]
    },
    {
     "name": "stdout",
     "output_type": "stream",
     "text": [
      "Epoch 51 | Train Loss: 0.5466 | Train F1: 0.8311 | Val Loss: 0.4958 | Val F1: 0.9457\n"
     ]
    },
    {
     "name": "stderr",
     "output_type": "stream",
     "text": [
      "Loss: 1.1523: 100%|██████████| 53/53 [00:13<00:00,  4.07it/s]\n",
      "Val Loss: 0.3207: 100%|██████████| 14/14 [00:02<00:00,  4.71it/s]\n"
     ]
    },
    {
     "name": "stdout",
     "output_type": "stream",
     "text": [
      "Epoch 52 | Train Loss: 0.5003 | Train F1: 0.9080 | Val Loss: 0.5183 | Val F1: 0.9335\n"
     ]
    },
    {
     "name": "stderr",
     "output_type": "stream",
     "text": [
      "Loss: 0.3674: 100%|██████████| 53/53 [00:13<00:00,  4.06it/s]\n",
      "Val Loss: 0.3215: 100%|██████████| 14/14 [00:03<00:00,  4.59it/s]"
     ]
    },
    {
     "name": "stdout",
     "output_type": "stream",
     "text": [
      "Epoch 53 | Train Loss: 0.4868 | Train F1: 0.8827 | Val Loss: 0.4499 | Val F1: 0.9593\n"
     ]
    },
    {
     "name": "stderr",
     "output_type": "stream",
     "text": [
      "\n",
      "Loss: 0.3210: 100%|██████████| 53/53 [00:12<00:00,  4.09it/s]\n",
      "Val Loss: 0.3212: 100%|██████████| 14/14 [00:02<00:00,  4.70it/s]\n"
     ]
    },
    {
     "name": "stdout",
     "output_type": "stream",
     "text": [
      "Epoch 54 | Train Loss: 0.5012 | Train F1: 0.8602 | Val Loss: 0.4695 | Val F1: 0.9547\n"
     ]
    },
    {
     "name": "stderr",
     "output_type": "stream",
     "text": [
      "Loss: 0.3218: 100%|██████████| 53/53 [00:13<00:00,  4.08it/s]\n",
      "Val Loss: 0.3208: 100%|██████████| 14/14 [00:03<00:00,  4.63it/s]\n"
     ]
    },
    {
     "name": "stdout",
     "output_type": "stream",
     "text": [
      "Epoch 55 | Train Loss: 0.5018 | Train F1: 0.8933 | Val Loss: 0.4461 | Val F1: 0.9515\n"
     ]
    },
    {
     "name": "stderr",
     "output_type": "stream",
     "text": [
      "Loss: 0.3213: 100%|██████████| 53/53 [00:13<00:00,  4.06it/s]\n",
      "Val Loss: 0.3208: 100%|██████████| 14/14 [00:03<00:00,  4.51it/s]"
     ]
    },
    {
     "name": "stdout",
     "output_type": "stream",
     "text": [
      "Epoch 56 | Train Loss: 0.4484 | Train F1: 0.9045 | Val Loss: 0.4489 | Val F1: 0.9629\n"
     ]
    },
    {
     "name": "stderr",
     "output_type": "stream",
     "text": [
      "\n",
      "Loss: 0.3704: 100%|██████████| 53/53 [00:12<00:00,  4.08it/s]\n",
      "Val Loss: 0.3209: 100%|██████████| 14/14 [00:02<00:00,  4.68it/s]\n"
     ]
    },
    {
     "name": "stdout",
     "output_type": "stream",
     "text": [
      "Epoch 57 | Train Loss: 0.5322 | Train F1: 0.8896 | Val Loss: 0.4719 | Val F1: 0.9614\n"
     ]
    },
    {
     "name": "stderr",
     "output_type": "stream",
     "text": [
      "Loss: 0.9624: 100%|██████████| 53/53 [00:13<00:00,  4.03it/s]\n",
      "Val Loss: 0.3208: 100%|██████████| 14/14 [00:03<00:00,  4.62it/s]\n"
     ]
    },
    {
     "name": "stdout",
     "output_type": "stream",
     "text": [
      "Epoch 58 | Train Loss: 0.5275 | Train F1: 0.8818 | Val Loss: 0.4811 | Val F1: 0.9430\n"
     ]
    },
    {
     "name": "stderr",
     "output_type": "stream",
     "text": [
      "Loss: 0.3213: 100%|██████████| 53/53 [00:13<00:00,  4.07it/s]\n",
      "Val Loss: 0.3216: 100%|██████████| 14/14 [00:03<00:00,  4.55it/s]\n"
     ]
    },
    {
     "name": "stdout",
     "output_type": "stream",
     "text": [
      "Epoch 59 | Train Loss: 0.5363 | Train F1: 0.8709 | Val Loss: 0.4897 | Val F1: 0.9308\n"
     ]
    },
    {
     "name": "stderr",
     "output_type": "stream",
     "text": [
      "Loss: 0.3242: 100%|██████████| 53/53 [00:13<00:00,  4.06it/s]\n",
      "Val Loss: 0.3209: 100%|██████████| 14/14 [00:03<00:00,  4.57it/s]\n"
     ]
    },
    {
     "name": "stdout",
     "output_type": "stream",
     "text": [
      "Epoch 60 | Train Loss: 0.5162 | Train F1: 0.8820 | Val Loss: 0.4878 | Val F1: 0.9472\n"
     ]
    },
    {
     "name": "stderr",
     "output_type": "stream",
     "text": [
      "Loss: 0.3223: 100%|██████████| 53/53 [00:13<00:00,  4.05it/s]\n",
      "Val Loss: 0.3210: 100%|██████████| 14/14 [00:03<00:00,  4.64it/s]\n"
     ]
    },
    {
     "name": "stdout",
     "output_type": "stream",
     "text": [
      "Epoch 61 | Train Loss: 0.5454 | Train F1: 0.8242 | Val Loss: 0.4479 | Val F1: 0.9618\n"
     ]
    },
    {
     "name": "stderr",
     "output_type": "stream",
     "text": [
      "Loss: 1.0762: 100%|██████████| 53/53 [00:13<00:00,  4.04it/s]\n",
      "Val Loss: 0.3221: 100%|██████████| 14/14 [00:03<00:00,  4.51it/s]\n"
     ]
    },
    {
     "name": "stdout",
     "output_type": "stream",
     "text": [
      "Epoch 62 | Train Loss: 0.5576 | Train F1: 0.8045 | Val Loss: 0.4512 | Val F1: 0.9547\n"
     ]
    },
    {
     "name": "stderr",
     "output_type": "stream",
     "text": [
      "Loss: 0.3213: 100%|██████████| 53/53 [00:12<00:00,  4.09it/s]\n",
      "Val Loss: 0.3205: 100%|██████████| 14/14 [00:03<00:00,  4.65it/s]\n"
     ]
    },
    {
     "name": "stdout",
     "output_type": "stream",
     "text": [
      "Epoch 63 | Train Loss: 0.5805 | Train F1: 0.8034 | Val Loss: 0.4661 | Val F1: 0.9488\n"
     ]
    },
    {
     "name": "stderr",
     "output_type": "stream",
     "text": [
      "Loss: 0.3213: 100%|██████████| 53/53 [00:13<00:00,  4.07it/s]\n",
      "Val Loss: 0.3218: 100%|██████████| 14/14 [00:03<00:00,  4.49it/s]\n"
     ]
    },
    {
     "name": "stdout",
     "output_type": "stream",
     "text": [
      "Epoch 64 | Train Loss: 0.5928 | Train F1: 0.8276 | Val Loss: 0.4684 | Val F1: 0.9539\n"
     ]
    },
    {
     "name": "stderr",
     "output_type": "stream",
     "text": [
      "Loss: 0.3215: 100%|██████████| 53/53 [00:12<00:00,  4.08it/s]\n",
      "Val Loss: 0.3211: 100%|██████████| 14/14 [00:03<00:00,  4.49it/s]\n"
     ]
    },
    {
     "name": "stdout",
     "output_type": "stream",
     "text": [
      "Epoch 65 | Train Loss: 0.5296 | Train F1: 0.8292 | Val Loss: 0.4541 | Val F1: 0.9591\n"
     ]
    },
    {
     "name": "stderr",
     "output_type": "stream",
     "text": [
      "Loss: 0.3215: 100%|██████████| 53/53 [00:12<00:00,  4.08it/s]\n",
      "Val Loss: 0.3240: 100%|██████████| 14/14 [00:02<00:00,  4.67it/s]\n"
     ]
    },
    {
     "name": "stdout",
     "output_type": "stream",
     "text": [
      "Epoch 66 | Train Loss: 0.6254 | Train F1: 0.8223 | Val Loss: 0.4375 | Val F1: 0.9544\n"
     ]
    },
    {
     "name": "stderr",
     "output_type": "stream",
     "text": [
      "Loss: 0.3225: 100%|██████████| 53/53 [00:13<00:00,  4.05it/s]\n",
      "Val Loss: 0.3207: 100%|██████████| 14/14 [00:03<00:00,  4.66it/s]\n"
     ]
    },
    {
     "name": "stdout",
     "output_type": "stream",
     "text": [
      "Epoch 67 | Train Loss: 0.5139 | Train F1: 0.8401 | Val Loss: 0.4638 | Val F1: 0.9521\n"
     ]
    },
    {
     "name": "stderr",
     "output_type": "stream",
     "text": [
      "Loss: 0.9111: 100%|██████████| 53/53 [00:13<00:00,  4.07it/s]\n",
      "Val Loss: 0.3206: 100%|██████████| 14/14 [00:03<00:00,  4.57it/s]\n"
     ]
    },
    {
     "name": "stdout",
     "output_type": "stream",
     "text": [
      "Epoch 68 | Train Loss: 0.5166 | Train F1: 0.8622 | Val Loss: 0.4561 | Val F1: 0.9532\n"
     ]
    },
    {
     "name": "stderr",
     "output_type": "stream",
     "text": [
      "Loss: 0.3208: 100%|██████████| 53/53 [00:13<00:00,  4.06it/s]\n",
      "Val Loss: 0.3205: 100%|██████████| 14/14 [00:02<00:00,  4.70it/s]\n"
     ]
    },
    {
     "name": "stdout",
     "output_type": "stream",
     "text": [
      "Epoch 69 | Train Loss: 0.5138 | Train F1: 0.8220 | Val Loss: 0.4421 | Val F1: 0.9592\n"
     ]
    },
    {
     "name": "stderr",
     "output_type": "stream",
     "text": [
      "Loss: 0.8848: 100%|██████████| 53/53 [00:12<00:00,  4.09it/s]\n",
      "Val Loss: 0.3207: 100%|██████████| 14/14 [00:03<00:00,  4.42it/s]\n"
     ]
    },
    {
     "name": "stdout",
     "output_type": "stream",
     "text": [
      "Epoch 70 | Train Loss: 0.4683 | Train F1: 0.8675 | Val Loss: 0.4669 | Val F1: 0.9506\n"
     ]
    },
    {
     "name": "stderr",
     "output_type": "stream",
     "text": [
      "Loss: 1.0107: 100%|██████████| 53/53 [00:13<00:00,  4.04it/s]\n",
      "Val Loss: 0.3207: 100%|██████████| 14/14 [00:03<00:00,  4.56it/s]\n"
     ]
    },
    {
     "name": "stdout",
     "output_type": "stream",
     "text": [
      "Epoch 71 | Train Loss: 0.5098 | Train F1: 0.8788 | Val Loss: 0.4497 | Val F1: 0.9561\n"
     ]
    },
    {
     "name": "stderr",
     "output_type": "stream",
     "text": [
      "Loss: 0.3223: 100%|██████████| 53/53 [00:12<00:00,  4.10it/s]\n",
      "Val Loss: 0.3213: 100%|██████████| 14/14 [00:03<00:00,  4.53it/s]\n"
     ]
    },
    {
     "name": "stdout",
     "output_type": "stream",
     "text": [
      "Epoch 72 | Train Loss: 0.5128 | Train F1: 0.8485 | Val Loss: 0.4468 | Val F1: 0.9594\n"
     ]
    },
    {
     "name": "stderr",
     "output_type": "stream",
     "text": [
      "Loss: 1.5391: 100%|██████████| 53/53 [00:13<00:00,  4.07it/s]\n",
      "Val Loss: 0.3212: 100%|██████████| 14/14 [00:03<00:00,  4.64it/s]\n"
     ]
    },
    {
     "name": "stdout",
     "output_type": "stream",
     "text": [
      "Epoch 73 | Train Loss: 0.5696 | Train F1: 0.8681 | Val Loss: 0.4627 | Val F1: 0.9557\n"
     ]
    },
    {
     "name": "stderr",
     "output_type": "stream",
     "text": [
      "Loss: 0.3208: 100%|██████████| 53/53 [00:13<00:00,  4.07it/s]\n",
      "Val Loss: 0.3204: 100%|██████████| 14/14 [00:03<00:00,  4.50it/s]\n"
     ]
    },
    {
     "name": "stdout",
     "output_type": "stream",
     "text": [
      "Epoch 74 | Train Loss: 0.4904 | Train F1: 0.8873 | Val Loss: 0.4364 | Val F1: 0.9527\n"
     ]
    },
    {
     "name": "stderr",
     "output_type": "stream",
     "text": [
      "Loss: 0.3220: 100%|██████████| 53/53 [00:13<00:00,  4.06it/s]\n",
      "Val Loss: 0.3213: 100%|██████████| 14/14 [00:03<00:00,  4.59it/s]\n"
     ]
    },
    {
     "name": "stdout",
     "output_type": "stream",
     "text": [
      "Epoch 75 | Train Loss: 0.4995 | Train F1: 0.8907 | Val Loss: 0.4499 | Val F1: 0.9489\n"
     ]
    },
    {
     "name": "stderr",
     "output_type": "stream",
     "text": [
      "Loss: 0.3218: 100%|██████████| 53/53 [00:13<00:00,  4.07it/s]\n",
      "Val Loss: 0.3204: 100%|██████████| 14/14 [00:03<00:00,  4.59it/s]\n"
     ]
    },
    {
     "name": "stdout",
     "output_type": "stream",
     "text": [
      "Epoch 76 | Train Loss: 0.4938 | Train F1: 0.8563 | Val Loss: 0.4318 | Val F1: 0.9599\n"
     ]
    },
    {
     "name": "stderr",
     "output_type": "stream",
     "text": [
      "Loss: 0.3208: 100%|██████████| 53/53 [00:13<00:00,  4.07it/s]\n",
      "Val Loss: 0.3207: 100%|██████████| 14/14 [00:03<00:00,  4.63it/s]\n"
     ]
    },
    {
     "name": "stdout",
     "output_type": "stream",
     "text": [
      "Epoch 77 | Train Loss: 0.5218 | Train F1: 0.8888 | Val Loss: 0.4329 | Val F1: 0.9533\n"
     ]
    },
    {
     "name": "stderr",
     "output_type": "stream",
     "text": [
      "Loss: 0.3210: 100%|██████████| 53/53 [00:13<00:00,  4.06it/s]\n",
      "Val Loss: 0.3206: 100%|██████████| 14/14 [00:03<00:00,  4.44it/s]\n"
     ]
    },
    {
     "name": "stdout",
     "output_type": "stream",
     "text": [
      "Epoch 78 | Train Loss: 0.5602 | Train F1: 0.8014 | Val Loss: 0.4547 | Val F1: 0.9514\n"
     ]
    },
    {
     "name": "stderr",
     "output_type": "stream",
     "text": [
      "Loss: 0.3208: 100%|██████████| 53/53 [00:12<00:00,  4.09it/s]\n",
      "Val Loss: 0.3208: 100%|██████████| 14/14 [00:02<00:00,  4.76it/s]"
     ]
    },
    {
     "name": "stdout",
     "output_type": "stream",
     "text": [
      "Epoch 79 | Train Loss: 0.5520 | Train F1: 0.8046 | Val Loss: 0.4369 | Val F1: 0.9642\n"
     ]
    },
    {
     "name": "stderr",
     "output_type": "stream",
     "text": [
      "\n",
      "Loss: 0.3206: 100%|██████████| 53/53 [00:12<00:00,  4.09it/s]\n",
      "Val Loss: 0.3204: 100%|██████████| 14/14 [00:03<00:00,  4.53it/s]"
     ]
    },
    {
     "name": "stdout",
     "output_type": "stream",
     "text": [
      "Epoch 80 | Train Loss: 0.4567 | Train F1: 0.9058 | Val Loss: 0.4292 | Val F1: 0.9669\n"
     ]
    },
    {
     "name": "stderr",
     "output_type": "stream",
     "text": [
      "\n",
      "Loss: 0.8901: 100%|██████████| 53/53 [00:13<00:00,  4.04it/s]\n",
      "Val Loss: 0.3204: 100%|██████████| 14/14 [00:03<00:00,  4.64it/s]\n"
     ]
    },
    {
     "name": "stdout",
     "output_type": "stream",
     "text": [
      "Epoch 81 | Train Loss: 0.5999 | Train F1: 0.8513 | Val Loss: 0.4403 | Val F1: 0.9547\n"
     ]
    },
    {
     "name": "stderr",
     "output_type": "stream",
     "text": [
      "Loss: 0.3223: 100%|██████████| 53/53 [00:13<00:00,  4.05it/s]\n",
      "Val Loss: 0.3205: 100%|██████████| 14/14 [00:03<00:00,  4.59it/s]\n"
     ]
    },
    {
     "name": "stdout",
     "output_type": "stream",
     "text": [
      "Epoch 82 | Train Loss: 0.5037 | Train F1: 0.8905 | Val Loss: 0.4332 | Val F1: 0.9606\n"
     ]
    },
    {
     "name": "stderr",
     "output_type": "stream",
     "text": [
      "Loss: 0.3203: 100%|██████████| 53/53 [00:13<00:00,  4.02it/s]\n",
      "Val Loss: 0.3204: 100%|██████████| 14/14 [00:03<00:00,  4.63it/s]\n"
     ]
    },
    {
     "name": "stdout",
     "output_type": "stream",
     "text": [
      "Epoch 83 | Train Loss: 0.4917 | Train F1: 0.8652 | Val Loss: 0.4607 | Val F1: 0.9575\n"
     ]
    },
    {
     "name": "stderr",
     "output_type": "stream",
     "text": [
      "Loss: 0.9570: 100%|██████████| 53/53 [00:13<00:00,  4.07it/s]\n",
      "Val Loss: 0.3205: 100%|██████████| 14/14 [00:03<00:00,  4.55it/s]\n"
     ]
    },
    {
     "name": "stdout",
     "output_type": "stream",
     "text": [
      "Epoch 84 | Train Loss: 0.4910 | Train F1: 0.8959 | Val Loss: 0.4429 | Val F1: 0.9588\n"
     ]
    },
    {
     "name": "stderr",
     "output_type": "stream",
     "text": [
      "Loss: 0.6924: 100%|██████████| 53/53 [00:12<00:00,  4.08it/s]\n",
      "Val Loss: 0.3209: 100%|██████████| 14/14 [00:03<00:00,  4.58it/s]\n"
     ]
    },
    {
     "name": "stdout",
     "output_type": "stream",
     "text": [
      "Epoch 85 | Train Loss: 0.5061 | Train F1: 0.8213 | Val Loss: 0.4451 | Val F1: 0.9565\n"
     ]
    },
    {
     "name": "stderr",
     "output_type": "stream",
     "text": [
      "Loss: 0.3215: 100%|██████████| 53/53 [00:13<00:00,  4.06it/s]\n",
      "Val Loss: 0.3207: 100%|██████████| 14/14 [00:02<00:00,  4.74it/s]\n"
     ]
    },
    {
     "name": "stdout",
     "output_type": "stream",
     "text": [
      "Epoch 86 | Train Loss: 0.5756 | Train F1: 0.8462 | Val Loss: 0.4391 | Val F1: 0.9630\n"
     ]
    },
    {
     "name": "stderr",
     "output_type": "stream",
     "text": [
      "Loss: 0.3206: 100%|██████████| 53/53 [00:13<00:00,  4.07it/s]\n",
      "Val Loss: 0.3206: 100%|██████████| 14/14 [00:03<00:00,  4.57it/s]\n"
     ]
    },
    {
     "name": "stdout",
     "output_type": "stream",
     "text": [
      "Epoch 87 | Train Loss: 0.5747 | Train F1: 0.8468 | Val Loss: 0.4365 | Val F1: 0.9619\n"
     ]
    },
    {
     "name": "stderr",
     "output_type": "stream",
     "text": [
      "Loss: 1.0293: 100%|██████████| 53/53 [00:13<00:00,  4.08it/s]\n",
      "Val Loss: 0.3205: 100%|██████████| 14/14 [00:03<00:00,  4.56it/s]\n"
     ]
    },
    {
     "name": "stdout",
     "output_type": "stream",
     "text": [
      "Epoch 88 | Train Loss: 0.4681 | Train F1: 0.9287 | Val Loss: 0.4626 | Val F1: 0.9488\n"
     ]
    },
    {
     "name": "stderr",
     "output_type": "stream",
     "text": [
      "Loss: 0.3208: 100%|██████████| 53/53 [00:12<00:00,  4.10it/s]\n",
      "Val Loss: 0.3204: 100%|██████████| 14/14 [00:03<00:00,  4.53it/s]\n"
     ]
    },
    {
     "name": "stdout",
     "output_type": "stream",
     "text": [
      "Epoch 89 | Train Loss: 0.5155 | Train F1: 0.8681 | Val Loss: 0.4544 | Val F1: 0.9514\n"
     ]
    },
    {
     "name": "stderr",
     "output_type": "stream",
     "text": [
      "Loss: 0.3208: 100%|██████████| 53/53 [00:13<00:00,  4.05it/s]\n",
      "Val Loss: 0.3204: 100%|██████████| 14/14 [00:03<00:00,  4.60it/s]\n"
     ]
    },
    {
     "name": "stdout",
     "output_type": "stream",
     "text": [
      "Epoch 90 | Train Loss: 0.4573 | Train F1: 0.8959 | Val Loss: 0.4440 | Val F1: 0.9555\n"
     ]
    },
    {
     "name": "stderr",
     "output_type": "stream",
     "text": [
      "Loss: 0.3208: 100%|██████████| 53/53 [00:12<00:00,  4.10it/s]\n",
      "Val Loss: 0.3204: 100%|██████████| 14/14 [00:03<00:00,  4.55it/s]\n"
     ]
    },
    {
     "name": "stdout",
     "output_type": "stream",
     "text": [
      "Epoch 91 | Train Loss: 0.4955 | Train F1: 0.8674 | Val Loss: 0.4348 | Val F1: 0.9621\n"
     ]
    },
    {
     "name": "stderr",
     "output_type": "stream",
     "text": [
      "Loss: 0.6489: 100%|██████████| 53/53 [00:13<00:00,  4.08it/s]\n",
      "Val Loss: 0.3207: 100%|██████████| 14/14 [00:03<00:00,  4.58it/s]\n"
     ]
    },
    {
     "name": "stdout",
     "output_type": "stream",
     "text": [
      "Epoch 92 | Train Loss: 0.5640 | Train F1: 0.8369 | Val Loss: 0.4339 | Val F1: 0.9546\n"
     ]
    },
    {
     "name": "stderr",
     "output_type": "stream",
     "text": [
      "Loss: 1.0615: 100%|██████████| 53/53 [00:13<00:00,  4.04it/s]\n",
      "Val Loss: 0.3204: 100%|██████████| 14/14 [00:03<00:00,  4.61it/s]\n"
     ]
    },
    {
     "name": "stdout",
     "output_type": "stream",
     "text": [
      "Epoch 93 | Train Loss: 0.5288 | Train F1: 0.8446 | Val Loss: 0.4400 | Val F1: 0.9562\n"
     ]
    },
    {
     "name": "stderr",
     "output_type": "stream",
     "text": [
      "Loss: 0.3210: 100%|██████████| 53/53 [00:13<00:00,  4.06it/s]\n",
      "Val Loss: 0.3204: 100%|██████████| 14/14 [00:03<00:00,  4.48it/s]"
     ]
    },
    {
     "name": "stdout",
     "output_type": "stream",
     "text": [
      "Epoch 94 | Train Loss: 0.4759 | Train F1: 0.8666 | Val Loss: 0.4355 | Val F1: 0.9673\n"
     ]
    },
    {
     "name": "stderr",
     "output_type": "stream",
     "text": [
      "\n",
      "Loss: 0.3206: 100%|██████████| 53/53 [00:12<00:00,  4.10it/s]\n",
      "Val Loss: 0.3214: 100%|██████████| 14/14 [00:03<00:00,  4.56it/s]\n"
     ]
    },
    {
     "name": "stdout",
     "output_type": "stream",
     "text": [
      "Epoch 95 | Train Loss: 0.4762 | Train F1: 0.8900 | Val Loss: 0.4453 | Val F1: 0.9582\n"
     ]
    },
    {
     "name": "stderr",
     "output_type": "stream",
     "text": [
      "Loss: 0.3203: 100%|██████████| 53/53 [00:12<00:00,  4.08it/s]\n",
      "Val Loss: 0.3205: 100%|██████████| 14/14 [00:03<00:00,  4.62it/s]"
     ]
    },
    {
     "name": "stdout",
     "output_type": "stream",
     "text": [
      "Epoch 96 | Train Loss: 0.5339 | Train F1: 0.8298 | Val Loss: 0.4293 | Val F1: 0.9686\n"
     ]
    },
    {
     "name": "stderr",
     "output_type": "stream",
     "text": [
      "\n",
      "Loss: 0.3206: 100%|██████████| 53/53 [00:12<00:00,  4.09it/s]\n",
      "Val Loss: 0.3206: 100%|██████████| 14/14 [00:03<00:00,  4.61it/s]\n"
     ]
    },
    {
     "name": "stdout",
     "output_type": "stream",
     "text": [
      "Epoch 97 | Train Loss: 0.5104 | Train F1: 0.8380 | Val Loss: 0.4665 | Val F1: 0.9493\n"
     ]
    },
    {
     "name": "stderr",
     "output_type": "stream",
     "text": [
      "Loss: 0.3206: 100%|██████████| 53/53 [00:13<00:00,  4.04it/s]\n",
      "Val Loss: 0.3213: 100%|██████████| 14/14 [00:02<00:00,  4.67it/s]\n"
     ]
    },
    {
     "name": "stdout",
     "output_type": "stream",
     "text": [
      "Epoch 98 | Train Loss: 0.5479 | Train F1: 0.8253 | Val Loss: 0.4322 | Val F1: 0.9606\n"
     ]
    },
    {
     "name": "stderr",
     "output_type": "stream",
     "text": [
      "Loss: 0.3208: 100%|██████████| 53/53 [00:13<00:00,  4.03it/s]\n",
      "Val Loss: 0.3204: 100%|██████████| 14/14 [00:02<00:00,  4.74it/s]\n"
     ]
    },
    {
     "name": "stdout",
     "output_type": "stream",
     "text": [
      "Epoch 99 | Train Loss: 0.5212 | Train F1: 0.8391 | Val Loss: 0.4514 | Val F1: 0.9510\n"
     ]
    },
    {
     "name": "stderr",
     "output_type": "stream",
     "text": [
      "Loss: 0.5791: 100%|██████████| 53/53 [00:13<00:00,  4.07it/s]\n",
      "Val Loss: 0.3204: 100%|██████████| 14/14 [00:02<00:00,  4.71it/s]\n"
     ]
    },
    {
     "name": "stdout",
     "output_type": "stream",
     "text": [
      "Epoch 100 | Train Loss: 0.5318 | Train F1: 0.8358 | Val Loss: 0.4505 | Val F1: 0.9627\n",
      "Fold 4 Best Validation F1: 0.9686\n",
      "\n",
      "==================================================\n",
      "FOLD 5/5\n",
      "==================================================\n",
      "Train samples: 1256, Validation samples: 314\n"
     ]
    },
    {
     "name": "stderr",
     "output_type": "stream",
     "text": [
      "Loss: 1.6084: 100%|██████████| 53/53 [00:13<00:00,  4.04it/s]\n",
      "Val Loss: 0.3971: 100%|██████████| 14/14 [00:03<00:00,  4.41it/s]"
     ]
    },
    {
     "name": "stdout",
     "output_type": "stream",
     "text": [
      "Epoch  1 | Train Loss: 1.9141 | Train F1: 0.4117 | Val Loss: 1.0173 | Val F1: 0.7174\n"
     ]
    },
    {
     "name": "stderr",
     "output_type": "stream",
     "text": [
      "\n",
      "Loss: 0.5605: 100%|██████████| 53/53 [00:13<00:00,  4.03it/s]\n",
      "Val Loss: 0.3872: 100%|██████████| 14/14 [00:03<00:00,  4.51it/s]"
     ]
    },
    {
     "name": "stdout",
     "output_type": "stream",
     "text": [
      "Epoch  2 | Train Loss: 1.1798 | Train F1: 0.6108 | Val Loss: 0.7439 | Val F1: 0.7945\n"
     ]
    },
    {
     "name": "stderr",
     "output_type": "stream",
     "text": [
      "\n",
      "Loss: 1.4902: 100%|██████████| 53/53 [00:13<00:00,  4.05it/s]\n",
      "Val Loss: 0.3433: 100%|██████████| 14/14 [00:02<00:00,  4.72it/s]"
     ]
    },
    {
     "name": "stdout",
     "output_type": "stream",
     "text": [
      "Epoch  3 | Train Loss: 0.9785 | Train F1: 0.7410 | Val Loss: 0.5973 | Val F1: 0.8681\n"
     ]
    },
    {
     "name": "stderr",
     "output_type": "stream",
     "text": [
      "\n",
      "Loss: 0.5186: 100%|██████████| 53/53 [00:13<00:00,  4.03it/s]\n",
      "Val Loss: 0.3374: 100%|██████████| 14/14 [00:03<00:00,  4.57it/s]"
     ]
    },
    {
     "name": "stdout",
     "output_type": "stream",
     "text": [
      "Epoch  4 | Train Loss: 0.9300 | Train F1: 0.7256 | Val Loss: 0.5978 | Val F1: 0.8689\n"
     ]
    },
    {
     "name": "stderr",
     "output_type": "stream",
     "text": [
      "\n",
      "Loss: 0.8804: 100%|██████████| 53/53 [00:12<00:00,  4.08it/s]\n",
      "Val Loss: 0.3549: 100%|██████████| 14/14 [00:03<00:00,  4.46it/s]\n"
     ]
    },
    {
     "name": "stdout",
     "output_type": "stream",
     "text": [
      "Epoch  5 | Train Loss: 0.8737 | Train F1: 0.7459 | Val Loss: 0.5990 | Val F1: 0.8545\n"
     ]
    },
    {
     "name": "stderr",
     "output_type": "stream",
     "text": [
      "Loss: 1.4082: 100%|██████████| 53/53 [00:13<00:00,  4.05it/s]\n",
      "Val Loss: 0.3401: 100%|██████████| 14/14 [00:03<00:00,  4.56it/s]"
     ]
    },
    {
     "name": "stdout",
     "output_type": "stream",
     "text": [
      "Epoch  6 | Train Loss: 0.7923 | Train F1: 0.7944 | Val Loss: 0.5622 | Val F1: 0.8835\n"
     ]
    },
    {
     "name": "stderr",
     "output_type": "stream",
     "text": [
      "\n",
      "Loss: 0.7188: 100%|██████████| 53/53 [00:12<00:00,  4.10it/s]\n",
      "Val Loss: 0.3476: 100%|██████████| 14/14 [00:03<00:00,  4.55it/s]"
     ]
    },
    {
     "name": "stdout",
     "output_type": "stream",
     "text": [
      "Epoch  7 | Train Loss: 0.7486 | Train F1: 0.7767 | Val Loss: 0.5355 | Val F1: 0.9160\n"
     ]
    },
    {
     "name": "stderr",
     "output_type": "stream",
     "text": [
      "\n",
      "Loss: 0.4194: 100%|██████████| 53/53 [00:13<00:00,  4.03it/s]\n",
      "Val Loss: 0.3861: 100%|██████████| 14/14 [00:02<00:00,  4.69it/s]\n"
     ]
    },
    {
     "name": "stdout",
     "output_type": "stream",
     "text": [
      "Epoch  8 | Train Loss: 0.7212 | Train F1: 0.7924 | Val Loss: 0.5669 | Val F1: 0.8896\n"
     ]
    },
    {
     "name": "stderr",
     "output_type": "stream",
     "text": [
      "Loss: 0.5698: 100%|██████████| 53/53 [00:13<00:00,  4.06it/s]\n",
      "Val Loss: 0.3417: 100%|██████████| 14/14 [00:03<00:00,  4.63it/s]"
     ]
    },
    {
     "name": "stdout",
     "output_type": "stream",
     "text": [
      "Epoch  9 | Train Loss: 0.7054 | Train F1: 0.8127 | Val Loss: 0.4986 | Val F1: 0.9317\n"
     ]
    },
    {
     "name": "stderr",
     "output_type": "stream",
     "text": [
      "\n",
      "Loss: 0.7061: 100%|██████████| 53/53 [00:12<00:00,  4.09it/s]\n",
      "Val Loss: 0.3506: 100%|██████████| 14/14 [00:03<00:00,  4.67it/s]\n"
     ]
    },
    {
     "name": "stdout",
     "output_type": "stream",
     "text": [
      "Epoch 10 | Train Loss: 0.6433 | Train F1: 0.8592 | Val Loss: 0.5478 | Val F1: 0.8967\n"
     ]
    },
    {
     "name": "stderr",
     "output_type": "stream",
     "text": [
      "Loss: 1.1504: 100%|██████████| 53/53 [00:13<00:00,  4.07it/s]\n",
      "Val Loss: 0.3424: 100%|██████████| 14/14 [00:03<00:00,  4.64it/s]\n"
     ]
    },
    {
     "name": "stdout",
     "output_type": "stream",
     "text": [
      "Epoch 11 | Train Loss: 0.7723 | Train F1: 0.8187 | Val Loss: 0.5486 | Val F1: 0.9046\n"
     ]
    },
    {
     "name": "stderr",
     "output_type": "stream",
     "text": [
      "Loss: 1.5635: 100%|██████████| 53/53 [00:12<00:00,  4.08it/s]\n",
      "Val Loss: 0.3796: 100%|██████████| 14/14 [00:03<00:00,  4.56it/s]\n"
     ]
    },
    {
     "name": "stdout",
     "output_type": "stream",
     "text": [
      "Epoch 12 | Train Loss: 0.6824 | Train F1: 0.7625 | Val Loss: 0.5035 | Val F1: 0.9160\n"
     ]
    },
    {
     "name": "stderr",
     "output_type": "stream",
     "text": [
      "Loss: 0.9238: 100%|██████████| 53/53 [00:13<00:00,  4.06it/s]\n",
      "Val Loss: 0.3282: 100%|██████████| 14/14 [00:03<00:00,  4.63it/s]\n"
     ]
    },
    {
     "name": "stdout",
     "output_type": "stream",
     "text": [
      "Epoch 13 | Train Loss: 0.6264 | Train F1: 0.8685 | Val Loss: 0.5255 | Val F1: 0.9105\n"
     ]
    },
    {
     "name": "stderr",
     "output_type": "stream",
     "text": [
      "Loss: 0.3682: 100%|██████████| 53/53 [00:12<00:00,  4.08it/s]\n",
      "Val Loss: 0.3589: 100%|██████████| 14/14 [00:03<00:00,  4.65it/s]\n"
     ]
    },
    {
     "name": "stdout",
     "output_type": "stream",
     "text": [
      "Epoch 14 | Train Loss: 0.6437 | Train F1: 0.8691 | Val Loss: 0.5528 | Val F1: 0.9083\n"
     ]
    },
    {
     "name": "stderr",
     "output_type": "stream",
     "text": [
      "Loss: 0.4355: 100%|██████████| 53/53 [00:12<00:00,  4.08it/s]\n",
      "Val Loss: 0.3285: 100%|██████████| 14/14 [00:03<00:00,  4.46it/s]"
     ]
    },
    {
     "name": "stdout",
     "output_type": "stream",
     "text": [
      "Epoch 15 | Train Loss: 0.6385 | Train F1: 0.8704 | Val Loss: 0.4809 | Val F1: 0.9320\n"
     ]
    },
    {
     "name": "stderr",
     "output_type": "stream",
     "text": [
      "\n",
      "Loss: 1.0664: 100%|██████████| 53/53 [00:12<00:00,  4.09it/s]\n",
      "Val Loss: 0.3289: 100%|██████████| 14/14 [00:03<00:00,  4.46it/s]"
     ]
    },
    {
     "name": "stdout",
     "output_type": "stream",
     "text": [
      "Epoch 16 | Train Loss: 0.5733 | Train F1: 0.8914 | Val Loss: 0.4811 | Val F1: 0.9396\n"
     ]
    },
    {
     "name": "stderr",
     "output_type": "stream",
     "text": [
      "\n",
      "Loss: 0.7920: 100%|██████████| 53/53 [00:12<00:00,  4.08it/s]\n",
      "Val Loss: 0.3305: 100%|██████████| 14/14 [00:03<00:00,  4.57it/s]\n"
     ]
    },
    {
     "name": "stdout",
     "output_type": "stream",
     "text": [
      "Epoch 17 | Train Loss: 0.6396 | Train F1: 0.8268 | Val Loss: 0.5014 | Val F1: 0.9284\n"
     ]
    },
    {
     "name": "stderr",
     "output_type": "stream",
     "text": [
      "Loss: 0.6191: 100%|██████████| 53/53 [00:13<00:00,  4.05it/s]\n",
      "Val Loss: 0.3366: 100%|██████████| 14/14 [00:03<00:00,  4.52it/s]\n"
     ]
    },
    {
     "name": "stdout",
     "output_type": "stream",
     "text": [
      "Epoch 18 | Train Loss: 0.6064 | Train F1: 0.8260 | Val Loss: 0.5323 | Val F1: 0.9254\n"
     ]
    },
    {
     "name": "stderr",
     "output_type": "stream",
     "text": [
      "Loss: 0.3281: 100%|██████████| 53/53 [00:13<00:00,  4.06it/s]\n",
      "Val Loss: 0.3274: 100%|██████████| 14/14 [00:03<00:00,  4.63it/s]\n"
     ]
    },
    {
     "name": "stdout",
     "output_type": "stream",
     "text": [
      "Epoch 19 | Train Loss: 0.5516 | Train F1: 0.9027 | Val Loss: 0.4851 | Val F1: 0.9292\n"
     ]
    },
    {
     "name": "stderr",
     "output_type": "stream",
     "text": [
      "Loss: 1.4424: 100%|██████████| 53/53 [00:13<00:00,  4.03it/s]\n",
      "Val Loss: 0.3297: 100%|██████████| 14/14 [00:03<00:00,  4.62it/s]\n"
     ]
    },
    {
     "name": "stdout",
     "output_type": "stream",
     "text": [
      "Epoch 20 | Train Loss: 0.6132 | Train F1: 0.8352 | Val Loss: 0.5021 | Val F1: 0.9285\n"
     ]
    },
    {
     "name": "stderr",
     "output_type": "stream",
     "text": [
      "Loss: 0.3630: 100%|██████████| 53/53 [00:13<00:00,  4.00it/s]\n",
      "Val Loss: 0.3619: 100%|██████████| 14/14 [00:03<00:00,  4.36it/s]\n"
     ]
    },
    {
     "name": "stdout",
     "output_type": "stream",
     "text": [
      "Epoch 21 | Train Loss: 0.7501 | Train F1: 0.7664 | Val Loss: 0.4973 | Val F1: 0.9392\n"
     ]
    },
    {
     "name": "stderr",
     "output_type": "stream",
     "text": [
      "Loss: 1.1875: 100%|██████████| 53/53 [00:12<00:00,  4.08it/s]\n",
      "Val Loss: 0.3337: 100%|██████████| 14/14 [00:03<00:00,  4.56it/s]"
     ]
    },
    {
     "name": "stdout",
     "output_type": "stream",
     "text": [
      "Epoch 22 | Train Loss: 0.6446 | Train F1: 0.8438 | Val Loss: 0.5076 | Val F1: 0.9408\n"
     ]
    },
    {
     "name": "stderr",
     "output_type": "stream",
     "text": [
      "\n",
      "Loss: 0.6978: 100%|██████████| 53/53 [00:13<00:00,  4.03it/s]\n",
      "Val Loss: 0.3280: 100%|██████████| 14/14 [00:02<00:00,  4.70it/s]\n"
     ]
    },
    {
     "name": "stdout",
     "output_type": "stream",
     "text": [
      "Epoch 23 | Train Loss: 0.7041 | Train F1: 0.7987 | Val Loss: 0.5523 | Val F1: 0.9284\n"
     ]
    },
    {
     "name": "stderr",
     "output_type": "stream",
     "text": [
      "Loss: 0.3354: 100%|██████████| 53/53 [00:12<00:00,  4.09it/s]\n",
      "Val Loss: 0.3287: 100%|██████████| 14/14 [00:03<00:00,  4.51it/s]"
     ]
    },
    {
     "name": "stdout",
     "output_type": "stream",
     "text": [
      "Epoch 24 | Train Loss: 0.5118 | Train F1: 0.8727 | Val Loss: 0.4720 | Val F1: 0.9509\n"
     ]
    },
    {
     "name": "stderr",
     "output_type": "stream",
     "text": [
      "\n",
      "Loss: 0.3320: 100%|██████████| 53/53 [00:13<00:00,  4.07it/s]\n",
      "Val Loss: 0.3284: 100%|██████████| 14/14 [00:03<00:00,  4.54it/s]\n"
     ]
    },
    {
     "name": "stdout",
     "output_type": "stream",
     "text": [
      "Epoch 25 | Train Loss: 0.5669 | Train F1: 0.8919 | Val Loss: 0.4827 | Val F1: 0.9468\n"
     ]
    },
    {
     "name": "stderr",
     "output_type": "stream",
     "text": [
      "Loss: 0.3247: 100%|██████████| 53/53 [00:12<00:00,  4.09it/s]\n",
      "Val Loss: 0.3286: 100%|██████████| 14/14 [00:03<00:00,  4.46it/s]\n"
     ]
    },
    {
     "name": "stdout",
     "output_type": "stream",
     "text": [
      "Epoch 26 | Train Loss: 0.5357 | Train F1: 0.8834 | Val Loss: 0.4898 | Val F1: 0.9356\n"
     ]
    },
    {
     "name": "stderr",
     "output_type": "stream",
     "text": [
      "Loss: 0.3367: 100%|██████████| 53/53 [00:13<00:00,  4.04it/s]\n",
      "Val Loss: 0.3306: 100%|██████████| 14/14 [00:03<00:00,  4.47it/s]"
     ]
    },
    {
     "name": "stdout",
     "output_type": "stream",
     "text": [
      "Epoch 27 | Train Loss: 0.6492 | Train F1: 0.7810 | Val Loss: 0.4688 | Val F1: 0.9530\n"
     ]
    },
    {
     "name": "stderr",
     "output_type": "stream",
     "text": [
      "\n",
      "Loss: 0.3357: 100%|██████████| 53/53 [00:12<00:00,  4.09it/s]\n",
      "Val Loss: 0.3265: 100%|██████████| 14/14 [00:03<00:00,  4.61it/s]\n"
     ]
    },
    {
     "name": "stdout",
     "output_type": "stream",
     "text": [
      "Epoch 28 | Train Loss: 0.6431 | Train F1: 0.7837 | Val Loss: 0.4743 | Val F1: 0.9424\n"
     ]
    },
    {
     "name": "stderr",
     "output_type": "stream",
     "text": [
      "Loss: 0.3401: 100%|██████████| 53/53 [00:13<00:00,  4.07it/s]\n",
      "Val Loss: 0.3265: 100%|██████████| 14/14 [00:02<00:00,  4.70it/s]"
     ]
    },
    {
     "name": "stdout",
     "output_type": "stream",
     "text": [
      "Epoch 29 | Train Loss: 0.5963 | Train F1: 0.8399 | Val Loss: 0.4793 | Val F1: 0.9544\n"
     ]
    },
    {
     "name": "stderr",
     "output_type": "stream",
     "text": [
      "\n",
      "Loss: 0.3311: 100%|██████████| 53/53 [00:13<00:00,  4.05it/s]\n",
      "Val Loss: 0.3252: 100%|██████████| 14/14 [00:02<00:00,  4.69it/s]\n"
     ]
    },
    {
     "name": "stdout",
     "output_type": "stream",
     "text": [
      "Epoch 30 | Train Loss: 0.5427 | Train F1: 0.8391 | Val Loss: 0.5057 | Val F1: 0.9220\n"
     ]
    },
    {
     "name": "stderr",
     "output_type": "stream",
     "text": [
      "Loss: 0.3303: 100%|██████████| 53/53 [00:12<00:00,  4.09it/s]\n",
      "Val Loss: 0.3230: 100%|██████████| 14/14 [00:03<00:00,  4.66it/s]\n"
     ]
    },
    {
     "name": "stdout",
     "output_type": "stream",
     "text": [
      "Epoch 31 | Train Loss: 0.5605 | Train F1: 0.8199 | Val Loss: 0.4996 | Val F1: 0.9378\n"
     ]
    },
    {
     "name": "stderr",
     "output_type": "stream",
     "text": [
      "Loss: 0.6489: 100%|██████████| 53/53 [00:13<00:00,  4.05it/s]\n",
      "Val Loss: 0.3262: 100%|██████████| 14/14 [00:03<00:00,  4.57it/s]\n"
     ]
    },
    {
     "name": "stdout",
     "output_type": "stream",
     "text": [
      "Epoch 32 | Train Loss: 0.5973 | Train F1: 0.7873 | Val Loss: 0.4943 | Val F1: 0.9430\n"
     ]
    },
    {
     "name": "stderr",
     "output_type": "stream",
     "text": [
      "Loss: 0.3333: 100%|██████████| 53/53 [00:13<00:00,  4.07it/s]\n",
      "Val Loss: 0.3251: 100%|██████████| 14/14 [00:02<00:00,  4.68it/s]\n"
     ]
    },
    {
     "name": "stdout",
     "output_type": "stream",
     "text": [
      "Epoch 33 | Train Loss: 0.5603 | Train F1: 0.8445 | Val Loss: 0.4515 | Val F1: 0.9510\n"
     ]
    },
    {
     "name": "stderr",
     "output_type": "stream",
     "text": [
      "Loss: 1.2363: 100%|██████████| 53/53 [00:12<00:00,  4.09it/s]\n",
      "Val Loss: 0.3232: 100%|██████████| 14/14 [00:02<00:00,  4.76it/s]\n"
     ]
    },
    {
     "name": "stdout",
     "output_type": "stream",
     "text": [
      "Epoch 34 | Train Loss: 0.6609 | Train F1: 0.7733 | Val Loss: 0.4975 | Val F1: 0.9352\n"
     ]
    },
    {
     "name": "stderr",
     "output_type": "stream",
     "text": [
      "Loss: 0.3926: 100%|██████████| 53/53 [00:13<00:00,  4.08it/s]\n",
      "Val Loss: 0.3220: 100%|██████████| 14/14 [00:02<00:00,  4.69it/s]\n"
     ]
    },
    {
     "name": "stdout",
     "output_type": "stream",
     "text": [
      "Epoch 35 | Train Loss: 0.5622 | Train F1: 0.8723 | Val Loss: 0.4776 | Val F1: 0.9474\n"
     ]
    },
    {
     "name": "stderr",
     "output_type": "stream",
     "text": [
      "Loss: 0.3479: 100%|██████████| 53/53 [00:13<00:00,  4.04it/s]\n",
      "Val Loss: 0.3232: 100%|██████████| 14/14 [00:03<00:00,  4.57it/s]\n"
     ]
    },
    {
     "name": "stdout",
     "output_type": "stream",
     "text": [
      "Epoch 36 | Train Loss: 0.5334 | Train F1: 0.8588 | Val Loss: 0.4774 | Val F1: 0.9448\n"
     ]
    },
    {
     "name": "stderr",
     "output_type": "stream",
     "text": [
      "Loss: 0.3274: 100%|██████████| 53/53 [00:13<00:00,  4.07it/s]\n",
      "Val Loss: 0.3237: 100%|██████████| 14/14 [00:03<00:00,  4.41it/s]\n"
     ]
    },
    {
     "name": "stdout",
     "output_type": "stream",
     "text": [
      "Epoch 37 | Train Loss: 0.6172 | Train F1: 0.7752 | Val Loss: 0.4777 | Val F1: 0.9455\n"
     ]
    },
    {
     "name": "stderr",
     "output_type": "stream",
     "text": [
      "Loss: 0.3340: 100%|██████████| 53/53 [00:12<00:00,  4.08it/s]\n",
      "Val Loss: 0.3230: 100%|██████████| 14/14 [00:03<00:00,  4.66it/s]\n"
     ]
    },
    {
     "name": "stdout",
     "output_type": "stream",
     "text": [
      "Epoch 38 | Train Loss: 0.5172 | Train F1: 0.8789 | Val Loss: 0.4618 | Val F1: 0.9439\n"
     ]
    },
    {
     "name": "stderr",
     "output_type": "stream",
     "text": [
      "Loss: 0.3264: 100%|██████████| 53/53 [00:12<00:00,  4.08it/s]\n",
      "Val Loss: 0.3216: 100%|██████████| 14/14 [00:03<00:00,  4.62it/s]"
     ]
    },
    {
     "name": "stdout",
     "output_type": "stream",
     "text": [
      "Epoch 39 | Train Loss: 0.5607 | Train F1: 0.8543 | Val Loss: 0.4673 | Val F1: 0.9615\n"
     ]
    },
    {
     "name": "stderr",
     "output_type": "stream",
     "text": [
      "\n",
      "Loss: 0.3220: 100%|██████████| 53/53 [00:13<00:00,  4.08it/s]\n",
      "Val Loss: 0.3220: 100%|██████████| 14/14 [00:03<00:00,  4.62it/s]\n"
     ]
    },
    {
     "name": "stdout",
     "output_type": "stream",
     "text": [
      "Epoch 40 | Train Loss: 0.5377 | Train F1: 0.8289 | Val Loss: 0.5048 | Val F1: 0.9394\n"
     ]
    },
    {
     "name": "stderr",
     "output_type": "stream",
     "text": [
      "Loss: 1.1152: 100%|██████████| 53/53 [00:13<00:00,  4.03it/s]\n",
      "Val Loss: 0.3219: 100%|██████████| 14/14 [00:03<00:00,  4.21it/s]\n"
     ]
    },
    {
     "name": "stdout",
     "output_type": "stream",
     "text": [
      "Epoch 41 | Train Loss: 0.6079 | Train F1: 0.8109 | Val Loss: 0.4563 | Val F1: 0.9446\n"
     ]
    },
    {
     "name": "stderr",
     "output_type": "stream",
     "text": [
      "Loss: 0.7500: 100%|██████████| 53/53 [00:13<00:00,  3.96it/s]\n",
      "Val Loss: 0.3230: 100%|██████████| 14/14 [00:02<00:00,  4.67it/s]\n"
     ]
    },
    {
     "name": "stdout",
     "output_type": "stream",
     "text": [
      "Epoch 42 | Train Loss: 0.5248 | Train F1: 0.8810 | Val Loss: 0.4979 | Val F1: 0.9459\n"
     ]
    },
    {
     "name": "stderr",
     "output_type": "stream",
     "text": [
      "Loss: 0.3240: 100%|██████████| 53/53 [00:13<00:00,  4.08it/s]\n",
      "Val Loss: 0.3218: 100%|██████████| 14/14 [00:03<00:00,  4.57it/s]\n"
     ]
    },
    {
     "name": "stdout",
     "output_type": "stream",
     "text": [
      "Epoch 43 | Train Loss: 0.5569 | Train F1: 0.8199 | Val Loss: 0.4857 | Val F1: 0.9372\n"
     ]
    },
    {
     "name": "stderr",
     "output_type": "stream",
     "text": [
      "Loss: 0.3242: 100%|██████████| 53/53 [00:13<00:00,  4.07it/s]\n",
      "Val Loss: 0.3220: 100%|██████████| 14/14 [00:03<00:00,  4.63it/s]"
     ]
    },
    {
     "name": "stdout",
     "output_type": "stream",
     "text": [
      "Epoch 44 | Train Loss: 0.5218 | Train F1: 0.9340 | Val Loss: 0.4607 | Val F1: 0.9616\n"
     ]
    },
    {
     "name": "stderr",
     "output_type": "stream",
     "text": [
      "\n",
      "Loss: 1.0869: 100%|██████████| 53/53 [00:12<00:00,  4.10it/s]\n",
      "Val Loss: 0.3213: 100%|██████████| 14/14 [00:03<00:00,  4.64it/s]"
     ]
    },
    {
     "name": "stdout",
     "output_type": "stream",
     "text": [
      "Epoch 45 | Train Loss: 0.5358 | Train F1: 0.8966 | Val Loss: 0.4600 | Val F1: 0.9621\n"
     ]
    },
    {
     "name": "stderr",
     "output_type": "stream",
     "text": [
      "\n",
      "Loss: 1.0703: 100%|██████████| 53/53 [00:13<00:00,  4.01it/s]\n",
      "Val Loss: 0.3219: 100%|██████████| 14/14 [00:03<00:00,  4.63it/s]\n"
     ]
    },
    {
     "name": "stdout",
     "output_type": "stream",
     "text": [
      "Epoch 46 | Train Loss: 0.5374 | Train F1: 0.8422 | Val Loss: 0.4568 | Val F1: 0.9565\n"
     ]
    },
    {
     "name": "stderr",
     "output_type": "stream",
     "text": [
      "Loss: 0.3218: 100%|██████████| 53/53 [00:13<00:00,  4.03it/s]\n",
      "Val Loss: 0.3219: 100%|██████████| 14/14 [00:03<00:00,  4.65it/s]"
     ]
    },
    {
     "name": "stdout",
     "output_type": "stream",
     "text": [
      "Epoch 47 | Train Loss: 0.5951 | Train F1: 0.8634 | Val Loss: 0.4597 | Val F1: 0.9629\n"
     ]
    },
    {
     "name": "stderr",
     "output_type": "stream",
     "text": [
      "\n",
      "Loss: 0.3240: 100%|██████████| 53/53 [00:13<00:00,  4.05it/s]\n",
      "Val Loss: 0.3233: 100%|██████████| 14/14 [00:03<00:00,  4.59it/s]\n"
     ]
    },
    {
     "name": "stdout",
     "output_type": "stream",
     "text": [
      "Epoch 48 | Train Loss: 0.5138 | Train F1: 0.9012 | Val Loss: 0.4950 | Val F1: 0.9477\n"
     ]
    },
    {
     "name": "stderr",
     "output_type": "stream",
     "text": [
      "Loss: 0.5190: 100%|██████████| 53/53 [00:13<00:00,  4.04it/s]\n",
      "Val Loss: 0.3209: 100%|██████████| 14/14 [00:03<00:00,  4.61it/s]\n"
     ]
    },
    {
     "name": "stdout",
     "output_type": "stream",
     "text": [
      "Epoch 49 | Train Loss: 0.5457 | Train F1: 0.8578 | Val Loss: 0.4860 | Val F1: 0.9562\n"
     ]
    },
    {
     "name": "stderr",
     "output_type": "stream",
     "text": [
      "Loss: 0.5186: 100%|██████████| 53/53 [00:12<00:00,  4.08it/s]\n",
      "Val Loss: 0.3213: 100%|██████████| 14/14 [00:03<00:00,  4.58it/s]\n"
     ]
    },
    {
     "name": "stdout",
     "output_type": "stream",
     "text": [
      "Epoch 50 | Train Loss: 0.5114 | Train F1: 0.8533 | Val Loss: 0.4843 | Val F1: 0.9514\n"
     ]
    },
    {
     "name": "stderr",
     "output_type": "stream",
     "text": [
      "Loss: 0.3245: 100%|██████████| 53/53 [00:13<00:00,  4.07it/s]\n",
      "Val Loss: 0.3213: 100%|██████████| 14/14 [00:03<00:00,  4.53it/s]\n"
     ]
    },
    {
     "name": "stdout",
     "output_type": "stream",
     "text": [
      "Epoch 51 | Train Loss: 0.5442 | Train F1: 0.8916 | Val Loss: 0.4779 | Val F1: 0.9613\n"
     ]
    },
    {
     "name": "stderr",
     "output_type": "stream",
     "text": [
      "Loss: 0.3240: 100%|██████████| 53/53 [00:13<00:00,  4.05it/s]\n",
      "Val Loss: 0.3215: 100%|██████████| 14/14 [00:03<00:00,  4.57it/s]\n"
     ]
    },
    {
     "name": "stdout",
     "output_type": "stream",
     "text": [
      "Epoch 52 | Train Loss: 0.5358 | Train F1: 0.8596 | Val Loss: 0.4672 | Val F1: 0.9623\n"
     ]
    },
    {
     "name": "stderr",
     "output_type": "stream",
     "text": [
      "Loss: 0.3213: 100%|██████████| 53/53 [00:13<00:00,  4.06it/s]\n",
      "Val Loss: 0.3211: 100%|██████████| 14/14 [00:03<00:00,  4.56it/s]\n"
     ]
    },
    {
     "name": "stdout",
     "output_type": "stream",
     "text": [
      "Epoch 53 | Train Loss: 0.5641 | Train F1: 0.8478 | Val Loss: 0.4998 | Val F1: 0.9478\n"
     ]
    },
    {
     "name": "stderr",
     "output_type": "stream",
     "text": [
      "Loss: 1.3330: 100%|██████████| 53/53 [00:12<00:00,  4.09it/s]\n",
      "Val Loss: 0.3213: 100%|██████████| 14/14 [00:03<00:00,  4.60it/s]\n"
     ]
    },
    {
     "name": "stdout",
     "output_type": "stream",
     "text": [
      "Epoch 54 | Train Loss: 0.5747 | Train F1: 0.8369 | Val Loss: 0.4955 | Val F1: 0.9469\n"
     ]
    },
    {
     "name": "stderr",
     "output_type": "stream",
     "text": [
      "Loss: 0.3428: 100%|██████████| 53/53 [00:13<00:00,  4.06it/s]\n",
      "Val Loss: 0.3221: 100%|██████████| 14/14 [00:03<00:00,  4.45it/s]\n"
     ]
    },
    {
     "name": "stdout",
     "output_type": "stream",
     "text": [
      "Epoch 55 | Train Loss: 0.5443 | Train F1: 0.8264 | Val Loss: 0.5092 | Val F1: 0.9365\n"
     ]
    },
    {
     "name": "stderr",
     "output_type": "stream",
     "text": [
      "Loss: 0.3215: 100%|██████████| 53/53 [00:13<00:00,  4.04it/s]\n",
      "Val Loss: 0.3207: 100%|██████████| 14/14 [00:03<00:00,  4.56it/s]\n"
     ]
    },
    {
     "name": "stdout",
     "output_type": "stream",
     "text": [
      "Epoch 56 | Train Loss: 0.5550 | Train F1: 0.8582 | Val Loss: 0.4693 | Val F1: 0.9545\n"
     ]
    },
    {
     "name": "stderr",
     "output_type": "stream",
     "text": [
      "Loss: 0.3435: 100%|██████████| 53/53 [00:12<00:00,  4.09it/s]\n",
      "Val Loss: 0.3220: 100%|██████████| 14/14 [00:03<00:00,  4.64it/s]\n"
     ]
    },
    {
     "name": "stdout",
     "output_type": "stream",
     "text": [
      "Epoch 57 | Train Loss: 0.6017 | Train F1: 0.8441 | Val Loss: 0.4613 | Val F1: 0.9541\n"
     ]
    },
    {
     "name": "stderr",
     "output_type": "stream",
     "text": [
      "Loss: 0.3225: 100%|██████████| 53/53 [00:13<00:00,  4.05it/s]\n",
      "Val Loss: 0.3209: 100%|██████████| 14/14 [00:03<00:00,  4.63it/s]\n"
     ]
    },
    {
     "name": "stdout",
     "output_type": "stream",
     "text": [
      "Epoch 58 | Train Loss: 0.5753 | Train F1: 0.7619 | Val Loss: 0.4919 | Val F1: 0.9493\n"
     ]
    },
    {
     "name": "stderr",
     "output_type": "stream",
     "text": [
      "Loss: 0.3215: 100%|██████████| 53/53 [00:12<00:00,  4.10it/s]\n",
      "Val Loss: 0.3208: 100%|██████████| 14/14 [00:02<00:00,  4.67it/s]\n"
     ]
    },
    {
     "name": "stdout",
     "output_type": "stream",
     "text": [
      "Epoch 59 | Train Loss: 0.4983 | Train F1: 0.8476 | Val Loss: 0.4695 | Val F1: 0.9558\n"
     ]
    },
    {
     "name": "stderr",
     "output_type": "stream",
     "text": [
      "Loss: 0.3208: 100%|██████████| 53/53 [00:13<00:00,  4.05it/s]\n",
      "Val Loss: 0.3210: 100%|██████████| 14/14 [00:03<00:00,  4.61it/s]\n"
     ]
    },
    {
     "name": "stdout",
     "output_type": "stream",
     "text": [
      "Epoch 60 | Train Loss: 0.5394 | Train F1: 0.8097 | Val Loss: 0.4961 | Val F1: 0.9439\n"
     ]
    },
    {
     "name": "stderr",
     "output_type": "stream",
     "text": [
      "Loss: 0.3213: 100%|██████████| 53/53 [00:13<00:00,  4.04it/s]\n",
      "Val Loss: 0.3215: 100%|██████████| 14/14 [00:03<00:00,  4.43it/s]\n"
     ]
    },
    {
     "name": "stdout",
     "output_type": "stream",
     "text": [
      "Epoch 61 | Train Loss: 0.5617 | Train F1: 0.8090 | Val Loss: 0.4512 | Val F1: 0.9602\n"
     ]
    },
    {
     "name": "stderr",
     "output_type": "stream",
     "text": [
      "Loss: 1.1621: 100%|██████████| 53/53 [00:13<00:00,  4.02it/s]\n",
      "Val Loss: 0.3206: 100%|██████████| 14/14 [00:03<00:00,  4.49it/s]\n"
     ]
    },
    {
     "name": "stdout",
     "output_type": "stream",
     "text": [
      "Epoch 62 | Train Loss: 0.4860 | Train F1: 0.8160 | Val Loss: 0.4670 | Val F1: 0.9448\n"
     ]
    },
    {
     "name": "stderr",
     "output_type": "stream",
     "text": [
      "Loss: 0.3208: 100%|██████████| 53/53 [00:13<00:00,  4.00it/s]\n",
      "Val Loss: 0.3211: 100%|██████████| 14/14 [00:03<00:00,  4.52it/s]\n"
     ]
    },
    {
     "name": "stdout",
     "output_type": "stream",
     "text": [
      "Epoch 63 | Train Loss: 0.5494 | Train F1: 0.8476 | Val Loss: 0.4391 | Val F1: 0.9619\n"
     ]
    },
    {
     "name": "stderr",
     "output_type": "stream",
     "text": [
      "Loss: 0.3206: 100%|██████████| 53/53 [00:12<00:00,  4.11it/s]\n",
      "Val Loss: 0.3212: 100%|██████████| 14/14 [00:03<00:00,  4.57it/s]\n"
     ]
    },
    {
     "name": "stdout",
     "output_type": "stream",
     "text": [
      "Epoch 64 | Train Loss: 0.4974 | Train F1: 0.8631 | Val Loss: 0.4511 | Val F1: 0.9613\n"
     ]
    },
    {
     "name": "stderr",
     "output_type": "stream",
     "text": [
      "Loss: 1.0439: 100%|██████████| 53/53 [00:13<00:00,  4.06it/s]\n",
      "Val Loss: 0.3205: 100%|██████████| 14/14 [00:03<00:00,  4.53it/s]"
     ]
    },
    {
     "name": "stdout",
     "output_type": "stream",
     "text": [
      "Epoch 65 | Train Loss: 0.5010 | Train F1: 0.9087 | Val Loss: 0.4451 | Val F1: 0.9642\n"
     ]
    },
    {
     "name": "stderr",
     "output_type": "stream",
     "text": [
      "\n",
      "Loss: 0.5938: 100%|██████████| 53/53 [00:12<00:00,  4.08it/s]\n",
      "Val Loss: 0.3211: 100%|██████████| 14/14 [00:03<00:00,  4.49it/s]\n"
     ]
    },
    {
     "name": "stdout",
     "output_type": "stream",
     "text": [
      "Epoch 66 | Train Loss: 0.5227 | Train F1: 0.8555 | Val Loss: 0.4457 | Val F1: 0.9622\n"
     ]
    },
    {
     "name": "stderr",
     "output_type": "stream",
     "text": [
      "Loss: 0.3208: 100%|██████████| 53/53 [00:13<00:00,  4.06it/s]\n",
      "Val Loss: 0.3219: 100%|██████████| 14/14 [00:03<00:00,  4.59it/s]\n"
     ]
    },
    {
     "name": "stdout",
     "output_type": "stream",
     "text": [
      "Epoch 67 | Train Loss: 0.5445 | Train F1: 0.8416 | Val Loss: 0.4518 | Val F1: 0.9561\n"
     ]
    },
    {
     "name": "stderr",
     "output_type": "stream",
     "text": [
      "Loss: 0.3210: 100%|██████████| 53/53 [00:12<00:00,  4.09it/s]\n",
      "Val Loss: 0.3214: 100%|██████████| 14/14 [00:03<00:00,  4.53it/s]\n"
     ]
    },
    {
     "name": "stdout",
     "output_type": "stream",
     "text": [
      "Epoch 68 | Train Loss: 0.4661 | Train F1: 0.9189 | Val Loss: 0.4440 | Val F1: 0.9558\n"
     ]
    },
    {
     "name": "stderr",
     "output_type": "stream",
     "text": [
      "Loss: 0.3420: 100%|██████████| 53/53 [00:13<00:00,  4.07it/s]\n",
      "Val Loss: 0.3211: 100%|██████████| 14/14 [00:03<00:00,  4.61it/s]\n"
     ]
    },
    {
     "name": "stdout",
     "output_type": "stream",
     "text": [
      "Epoch 69 | Train Loss: 0.4857 | Train F1: 0.8990 | Val Loss: 0.4394 | Val F1: 0.9580\n"
     ]
    },
    {
     "name": "stderr",
     "output_type": "stream",
     "text": [
      "Loss: 0.6885: 100%|██████████| 53/53 [00:13<00:00,  4.05it/s]\n",
      "Val Loss: 0.3206: 100%|██████████| 14/14 [00:03<00:00,  4.63it/s]\n"
     ]
    },
    {
     "name": "stdout",
     "output_type": "stream",
     "text": [
      "Epoch 70 | Train Loss: 0.5301 | Train F1: 0.8585 | Val Loss: 0.4554 | Val F1: 0.9618\n"
     ]
    },
    {
     "name": "stderr",
     "output_type": "stream",
     "text": [
      "Loss: 0.3206: 100%|██████████| 53/53 [00:12<00:00,  4.10it/s]\n",
      "Val Loss: 0.3205: 100%|██████████| 14/14 [00:03<00:00,  4.59it/s]\n"
     ]
    },
    {
     "name": "stdout",
     "output_type": "stream",
     "text": [
      "Epoch 71 | Train Loss: 0.4847 | Train F1: 0.8464 | Val Loss: 0.4554 | Val F1: 0.9543\n"
     ]
    },
    {
     "name": "stderr",
     "output_type": "stream",
     "text": [
      "Loss: 0.9600: 100%|██████████| 53/53 [00:12<00:00,  4.10it/s]\n",
      "Val Loss: 0.3211: 100%|██████████| 14/14 [00:03<00:00,  4.61it/s]"
     ]
    },
    {
     "name": "stdout",
     "output_type": "stream",
     "text": [
      "Epoch 72 | Train Loss: 0.5205 | Train F1: 0.8793 | Val Loss: 0.4595 | Val F1: 0.9657\n"
     ]
    },
    {
     "name": "stderr",
     "output_type": "stream",
     "text": [
      "\n",
      "Loss: 0.3208: 100%|██████████| 53/53 [00:12<00:00,  4.10it/s]\n",
      "Val Loss: 0.3205: 100%|██████████| 14/14 [00:03<00:00,  4.60it/s]\n"
     ]
    },
    {
     "name": "stdout",
     "output_type": "stream",
     "text": [
      "Epoch 73 | Train Loss: 0.4745 | Train F1: 0.9278 | Val Loss: 0.4760 | Val F1: 0.9531\n"
     ]
    },
    {
     "name": "stderr",
     "output_type": "stream",
     "text": [
      "Loss: 0.6865: 100%|██████████| 53/53 [00:13<00:00,  4.04it/s]\n",
      "Val Loss: 0.3205: 100%|██████████| 14/14 [00:02<00:00,  4.69it/s]\n"
     ]
    },
    {
     "name": "stdout",
     "output_type": "stream",
     "text": [
      "Epoch 74 | Train Loss: 0.5644 | Train F1: 0.8690 | Val Loss: 0.4508 | Val F1: 0.9626\n"
     ]
    },
    {
     "name": "stderr",
     "output_type": "stream",
     "text": [
      "Loss: 0.3474: 100%|██████████| 53/53 [00:12<00:00,  4.09it/s]\n",
      "Val Loss: 0.3205: 100%|██████████| 14/14 [00:03<00:00,  4.43it/s]\n"
     ]
    },
    {
     "name": "stdout",
     "output_type": "stream",
     "text": [
      "Epoch 75 | Train Loss: 0.4751 | Train F1: 0.8934 | Val Loss: 0.4555 | Val F1: 0.9573\n"
     ]
    },
    {
     "name": "stderr",
     "output_type": "stream",
     "text": [
      "Loss: 0.3206: 100%|██████████| 53/53 [00:13<00:00,  4.07it/s]\n",
      "Val Loss: 0.3207: 100%|██████████| 14/14 [00:03<00:00,  4.59it/s]"
     ]
    },
    {
     "name": "stdout",
     "output_type": "stream",
     "text": [
      "Epoch 76 | Train Loss: 0.5479 | Train F1: 0.8037 | Val Loss: 0.4161 | Val F1: 0.9680\n"
     ]
    },
    {
     "name": "stderr",
     "output_type": "stream",
     "text": [
      "\n",
      "Loss: 0.3208: 100%|██████████| 53/53 [00:12<00:00,  4.09it/s]\n",
      "Val Loss: 0.3208: 100%|██████████| 14/14 [00:03<00:00,  4.61it/s]\n"
     ]
    },
    {
     "name": "stdout",
     "output_type": "stream",
     "text": [
      "Epoch 77 | Train Loss: 0.4991 | Train F1: 0.8712 | Val Loss: 0.4463 | Val F1: 0.9600\n"
     ]
    },
    {
     "name": "stderr",
     "output_type": "stream",
     "text": [
      "Loss: 0.5713: 100%|██████████| 53/53 [00:12<00:00,  4.10it/s]\n",
      "Val Loss: 0.3204: 100%|██████████| 14/14 [00:03<00:00,  4.60it/s]\n"
     ]
    },
    {
     "name": "stdout",
     "output_type": "stream",
     "text": [
      "Epoch 78 | Train Loss: 0.4906 | Train F1: 0.8739 | Val Loss: 0.4828 | Val F1: 0.9557\n"
     ]
    },
    {
     "name": "stderr",
     "output_type": "stream",
     "text": [
      "Loss: 0.7319: 100%|██████████| 53/53 [00:13<00:00,  4.06it/s]\n",
      "Val Loss: 0.3205: 100%|██████████| 14/14 [00:03<00:00,  4.58it/s]\n"
     ]
    },
    {
     "name": "stdout",
     "output_type": "stream",
     "text": [
      "Epoch 79 | Train Loss: 0.4888 | Train F1: 0.8692 | Val Loss: 0.4595 | Val F1: 0.9628\n"
     ]
    },
    {
     "name": "stderr",
     "output_type": "stream",
     "text": [
      "Loss: 0.3208: 100%|██████████| 53/53 [00:13<00:00,  4.06it/s]\n",
      "Val Loss: 0.3205: 100%|██████████| 14/14 [00:03<00:00,  4.43it/s]\n"
     ]
    },
    {
     "name": "stdout",
     "output_type": "stream",
     "text": [
      "Epoch 80 | Train Loss: 0.4312 | Train F1: 0.8965 | Val Loss: 0.4579 | Val F1: 0.9628\n"
     ]
    },
    {
     "name": "stderr",
     "output_type": "stream",
     "text": [
      "Loss: 0.8530: 100%|██████████| 53/53 [00:13<00:00,  4.06it/s]\n",
      "Val Loss: 0.3207: 100%|██████████| 14/14 [00:03<00:00,  4.51it/s]\n"
     ]
    },
    {
     "name": "stdout",
     "output_type": "stream",
     "text": [
      "Epoch 81 | Train Loss: 0.4813 | Train F1: 0.8982 | Val Loss: 0.4520 | Val F1: 0.9560\n"
     ]
    },
    {
     "name": "stderr",
     "output_type": "stream",
     "text": [
      "Loss: 0.3215: 100%|██████████| 53/53 [00:13<00:00,  4.07it/s]\n",
      "Val Loss: 0.3205: 100%|██████████| 14/14 [00:03<00:00,  4.36it/s]\n"
     ]
    },
    {
     "name": "stdout",
     "output_type": "stream",
     "text": [
      "Epoch 82 | Train Loss: 0.4781 | Train F1: 0.9154 | Val Loss: 0.4506 | Val F1: 0.9628\n"
     ]
    },
    {
     "name": "stderr",
     "output_type": "stream",
     "text": [
      "Loss: 0.3206: 100%|██████████| 53/53 [00:13<00:00,  4.03it/s]\n",
      "Val Loss: 0.3205: 100%|██████████| 14/14 [00:03<00:00,  4.60it/s]\n"
     ]
    },
    {
     "name": "stdout",
     "output_type": "stream",
     "text": [
      "Epoch 83 | Train Loss: 0.5379 | Train F1: 0.8393 | Val Loss: 0.4577 | Val F1: 0.9636\n"
     ]
    },
    {
     "name": "stderr",
     "output_type": "stream",
     "text": [
      "Loss: 0.3213: 100%|██████████| 53/53 [00:13<00:00,  4.06it/s]\n",
      "Val Loss: 0.3204: 100%|██████████| 14/14 [00:03<00:00,  4.55it/s]\n"
     ]
    },
    {
     "name": "stdout",
     "output_type": "stream",
     "text": [
      "Epoch 84 | Train Loss: 0.5047 | Train F1: 0.8607 | Val Loss: 0.4570 | Val F1: 0.9615\n"
     ]
    },
    {
     "name": "stderr",
     "output_type": "stream",
     "text": [
      "Loss: 0.9028: 100%|██████████| 53/53 [00:13<00:00,  4.06it/s]\n",
      "Val Loss: 0.3207: 100%|██████████| 14/14 [00:03<00:00,  4.56it/s]\n"
     ]
    },
    {
     "name": "stdout",
     "output_type": "stream",
     "text": [
      "Epoch 85 | Train Loss: 0.3974 | Train F1: 0.9619 | Val Loss: 0.4564 | Val F1: 0.9584\n"
     ]
    },
    {
     "name": "stderr",
     "output_type": "stream",
     "text": [
      "Loss: 0.8384: 100%|██████████| 53/53 [00:12<00:00,  4.09it/s]\n",
      "Val Loss: 0.3204: 100%|██████████| 14/14 [00:03<00:00,  4.63it/s]\n"
     ]
    },
    {
     "name": "stdout",
     "output_type": "stream",
     "text": [
      "Epoch 86 | Train Loss: 0.4527 | Train F1: 0.8847 | Val Loss: 0.4441 | Val F1: 0.9623\n"
     ]
    },
    {
     "name": "stderr",
     "output_type": "stream",
     "text": [
      "Loss: 0.3213: 100%|██████████| 53/53 [00:12<00:00,  4.09it/s]\n",
      "Val Loss: 0.3206: 100%|██████████| 14/14 [00:03<00:00,  4.57it/s]"
     ]
    },
    {
     "name": "stdout",
     "output_type": "stream",
     "text": [
      "Epoch 87 | Train Loss: 0.5060 | Train F1: 0.8879 | Val Loss: 0.4223 | Val F1: 0.9763\n"
     ]
    },
    {
     "name": "stderr",
     "output_type": "stream",
     "text": [
      "\n",
      "Loss: 0.3206: 100%|██████████| 53/53 [00:12<00:00,  4.10it/s]\n",
      "Val Loss: 0.3205: 100%|██████████| 14/14 [00:03<00:00,  4.59it/s]\n"
     ]
    },
    {
     "name": "stdout",
     "output_type": "stream",
     "text": [
      "Epoch 88 | Train Loss: 0.4647 | Train F1: 0.9268 | Val Loss: 0.4409 | Val F1: 0.9607\n"
     ]
    },
    {
     "name": "stderr",
     "output_type": "stream",
     "text": [
      "Loss: 0.3206: 100%|██████████| 53/53 [00:12<00:00,  4.10it/s]\n",
      "Val Loss: 0.3204: 100%|██████████| 14/14 [00:03<00:00,  4.55it/s]\n"
     ]
    },
    {
     "name": "stdout",
     "output_type": "stream",
     "text": [
      "Epoch 89 | Train Loss: 0.4548 | Train F1: 0.8690 | Val Loss: 0.4607 | Val F1: 0.9605\n"
     ]
    },
    {
     "name": "stderr",
     "output_type": "stream",
     "text": [
      "Loss: 0.3208: 100%|██████████| 53/53 [00:13<00:00,  4.06it/s]\n",
      "Val Loss: 0.3205: 100%|██████████| 14/14 [00:03<00:00,  4.66it/s]\n"
     ]
    },
    {
     "name": "stdout",
     "output_type": "stream",
     "text": [
      "Epoch 90 | Train Loss: 0.5860 | Train F1: 0.8004 | Val Loss: 0.4716 | Val F1: 0.9587\n"
     ]
    },
    {
     "name": "stderr",
     "output_type": "stream",
     "text": [
      "Loss: 0.5176: 100%|██████████| 53/53 [00:13<00:00,  4.05it/s]\n",
      "Val Loss: 0.3204: 100%|██████████| 14/14 [00:03<00:00,  4.58it/s]\n"
     ]
    },
    {
     "name": "stdout",
     "output_type": "stream",
     "text": [
      "Epoch 91 | Train Loss: 0.5339 | Train F1: 0.8251 | Val Loss: 0.4429 | Val F1: 0.9655\n"
     ]
    },
    {
     "name": "stderr",
     "output_type": "stream",
     "text": [
      "Loss: 0.8115: 100%|██████████| 53/53 [00:12<00:00,  4.08it/s]\n",
      "Val Loss: 0.3204: 100%|██████████| 14/14 [00:02<00:00,  4.69it/s]\n"
     ]
    },
    {
     "name": "stdout",
     "output_type": "stream",
     "text": [
      "Epoch 92 | Train Loss: 0.5347 | Train F1: 0.8440 | Val Loss: 0.4361 | Val F1: 0.9579\n"
     ]
    },
    {
     "name": "stderr",
     "output_type": "stream",
     "text": [
      "Loss: 0.3203: 100%|██████████| 53/53 [00:13<00:00,  4.08it/s]\n",
      "Val Loss: 0.3204: 100%|██████████| 14/14 [00:03<00:00,  4.64it/s]\n"
     ]
    },
    {
     "name": "stdout",
     "output_type": "stream",
     "text": [
      "Epoch 93 | Train Loss: 0.4786 | Train F1: 0.9013 | Val Loss: 0.4485 | Val F1: 0.9602\n"
     ]
    },
    {
     "name": "stderr",
     "output_type": "stream",
     "text": [
      "Loss: 0.3206: 100%|██████████| 53/53 [00:12<00:00,  4.09it/s]\n",
      "Val Loss: 0.3207: 100%|██████████| 14/14 [00:03<00:00,  4.62it/s]\n"
     ]
    },
    {
     "name": "stdout",
     "output_type": "stream",
     "text": [
      "Epoch 94 | Train Loss: 0.4453 | Train F1: 0.9139 | Val Loss: 0.4314 | Val F1: 0.9616\n"
     ]
    },
    {
     "name": "stderr",
     "output_type": "stream",
     "text": [
      "Loss: 0.5312: 100%|██████████| 53/53 [00:13<00:00,  4.07it/s]\n",
      "Val Loss: 0.3204: 100%|██████████| 14/14 [00:03<00:00,  4.63it/s]\n"
     ]
    },
    {
     "name": "stdout",
     "output_type": "stream",
     "text": [
      "Epoch 95 | Train Loss: 0.4921 | Train F1: 0.8777 | Val Loss: 0.4501 | Val F1: 0.9580\n"
     ]
    },
    {
     "name": "stderr",
     "output_type": "stream",
     "text": [
      "Loss: 0.3203: 100%|██████████| 53/53 [00:13<00:00,  4.04it/s]\n",
      "Val Loss: 0.3206: 100%|██████████| 14/14 [00:03<00:00,  4.65it/s]\n"
     ]
    },
    {
     "name": "stdout",
     "output_type": "stream",
     "text": [
      "Epoch 96 | Train Loss: 0.5099 | Train F1: 0.8794 | Val Loss: 0.4546 | Val F1: 0.9579\n"
     ]
    },
    {
     "name": "stderr",
     "output_type": "stream",
     "text": [
      "Loss: 0.3206: 100%|██████████| 53/53 [00:12<00:00,  4.09it/s]\n",
      "Val Loss: 0.3205: 100%|██████████| 14/14 [00:03<00:00,  4.48it/s]\n"
     ]
    },
    {
     "name": "stdout",
     "output_type": "stream",
     "text": [
      "Epoch 97 | Train Loss: 0.4391 | Train F1: 0.9191 | Val Loss: 0.4559 | Val F1: 0.9646\n"
     ]
    },
    {
     "name": "stderr",
     "output_type": "stream",
     "text": [
      "Loss: 0.3210: 100%|██████████| 53/53 [00:12<00:00,  4.08it/s]\n",
      "Val Loss: 0.3206: 100%|██████████| 14/14 [00:03<00:00,  4.64it/s]\n"
     ]
    },
    {
     "name": "stdout",
     "output_type": "stream",
     "text": [
      "Epoch 98 | Train Loss: 0.5423 | Train F1: 0.8567 | Val Loss: 0.4416 | Val F1: 0.9629\n"
     ]
    },
    {
     "name": "stderr",
     "output_type": "stream",
     "text": [
      "Loss: 0.3213: 100%|██████████| 53/53 [00:13<00:00,  4.04it/s]\n",
      "Val Loss: 0.3206: 100%|██████████| 14/14 [00:03<00:00,  4.50it/s]\n"
     ]
    },
    {
     "name": "stdout",
     "output_type": "stream",
     "text": [
      "Epoch 99 | Train Loss: 0.5162 | Train F1: 0.8833 | Val Loss: 0.4518 | Val F1: 0.9590\n"
     ]
    },
    {
     "name": "stderr",
     "output_type": "stream",
     "text": [
      "Loss: 0.3203: 100%|██████████| 53/53 [00:13<00:00,  4.03it/s]\n",
      "Val Loss: 0.3205: 100%|██████████| 14/14 [00:03<00:00,  4.49it/s]"
     ]
    },
    {
     "name": "stdout",
     "output_type": "stream",
     "text": [
      "Epoch 100 | Train Loss: 0.4724 | Train F1: 0.8935 | Val Loss: 0.4290 | Val F1: 0.9666\n",
      "Fold 5 Best Validation F1: 0.9763\n",
      "\n",
      "============================================================\n",
      "K-FOLD CROSS VALIDATION RESULTS\n",
      "============================================================\n",
      "Fold 1: 0.9747\n",
      "Fold 2: 0.9773\n",
      "Fold 3: 0.9730\n",
      "Fold 4: 0.9686\n",
      "Fold 5: 0.9763\n",
      "\n",
      "Mean CV F1: 0.9740 ± 0.0031\n",
      "Best single fold: 0.9773\n"
     ]
    },
    {
     "name": "stderr",
     "output_type": "stream",
     "text": [
      "\n"
     ]
    }
   ],
   "source": [
    "# K-Fold 설정\n",
    "N_FOLDS = 5  # 5-fold로 설정 (데이터가 적으므로)\n",
    "skf = StratifiedKFold(n_splits=N_FOLDS, shuffle=True, random_state=42)\n",
    "\n",
    "# 클래스별 최소 샘플 보장 확인\n",
    "# for fold, (train_idx, val_idx) in enumerate(skf.split(train_df, train_df['target'])):\n",
    "#     assert len(np.unique(train_df.iloc[val_idx]['target'])) == 17\n",
    "\n",
    "# 전체 학습 데이터 로드\n",
    "train_df = pd.read_csv(\"../data/train.csv\")\n",
    "\n",
    "# K-Fold 결과를 저장할 리스트\n",
    "fold_results = []\n",
    "fold_models = []  # 각 fold의 최고 성능 모델을 저장\n",
    "fold_class_accuracies = [] # 각 fold의 클래스별 정확도 저장\n",
    "\n",
    "print(f\"Starting {N_FOLDS}-Fold Cross Validation...\")\n",
    "\n",
    "# LR = best_params['lr']\n",
    "# BATCH_SIZE = best_params['batch_size']\n",
    "\n",
    "# K-Fold Cross Validation 시작\n",
    "for fold, (train_idx, val_idx) in enumerate(skf.split(train_df, train_df['target'])):\n",
    "    print(f\"\\n{'='*50}\")\n",
    "    print(f\"FOLD {fold + 1}/{N_FOLDS}\")\n",
    "    print(f\"{'='*50}\")\n",
    "    \n",
    "    current_model = model_name\n",
    "    \n",
    "    # 현재 fold의 train/validation 데이터 분할\n",
    "    train_fold_df = train_df.iloc[train_idx].reset_index(drop=True)\n",
    "    val_fold_df = train_df.iloc[val_idx].reset_index(drop=True)\n",
    "    \n",
    "    # 현재 fold의 Dataset 생성\n",
    "    trn_dataset = ImageDataset(\n",
    "        train_fold_df,\n",
    "        \"../data/train/\",\n",
    "        # transform=trn_transform\n",
    "        epoch=0,  # 현재 epoch 전달\n",
    "        total_epochs=EPOCHS,\n",
    "        is_train=True\n",
    "    )\n",
    "    \n",
    "    val_dataset = ImageDataset(\n",
    "        val_fold_df,\n",
    "        \"../data/train/\",\n",
    "        # transform=tst_transform  # 검증에는 증강 적용 안함\n",
    "        epoch=0,  # validation은 epoch 관계없음\n",
    "        total_epochs=EPOCHS,\n",
    "        is_train=False  # validation이므로 hard augmentation 비활성화\n",
    "    )\n",
    "    \n",
    "    # 현재 fold의 DataLoader 생성\n",
    "    trn_loader = DataLoader(\n",
    "        trn_dataset,\n",
    "        batch_size=BATCH_SIZE,\n",
    "        shuffle=True,\n",
    "        num_workers=num_workers,\n",
    "        pin_memory=True,\n",
    "        drop_last=False\n",
    "    )\n",
    "    \n",
    "    val_loader = DataLoader(\n",
    "        val_dataset,\n",
    "        batch_size=BATCH_SIZE,\n",
    "        shuffle=False,\n",
    "        num_workers=num_workers,\n",
    "        pin_memory=True\n",
    "    )\n",
    "    \n",
    "    print(f\"Train samples: {len(trn_dataset)}, Validation samples: {len(val_dataset)}\")\n",
    "    \n",
    "    # 모델 초기화 (각 fold마다 새로운 모델)\n",
    "    model = timm.create_model(\n",
    "        current_model,\n",
    "        pretrained=True,\n",
    "        num_classes=17\n",
    "    ).to(device)\n",
    "    \n",
    "    loss_fn = nn.CrossEntropyLoss(label_smoothing=0.05)  # Label Smoothing 적용\n",
    "    optimizer = Adam(model.parameters(), lr=LR)\n",
    "    \n",
    "    # Learning Rate Scheduler 추가\n",
    "    scheduler = CosineAnnealingLR(optimizer, T_max=EPOCHS)\n",
    "    \n",
    "    # 현재 fold의 최고 성능 추적\n",
    "    best_val_f1 = 0.0\n",
    "    best_model = None\n",
    "    \n",
    "    # 현재 fold 학습\n",
    "    for epoch in range(EPOCHS):\n",
    "        # Training\n",
    "        train_ret = train_one_epoch(trn_loader, model, optimizer, loss_fn, device)\n",
    "        \n",
    "        # Validation\n",
    "        val_ret = validate_one_epoch(val_loader, model, loss_fn, device)\n",
    "        \n",
    "        # Scheduler step 추가\n",
    "        scheduler.step()\n",
    "        \n",
    "        print(f\"Epoch {epoch+1:2d} | \"\n",
    "              f\"Train Loss: {train_ret['train_loss']:.4f} | \"\n",
    "              f\"Train F1: {train_ret['train_f1']:.4f} | \"\n",
    "              f\"Val Loss: {val_ret['val_loss']:.4f} | \"\n",
    "              f\"Val F1: {val_ret['val_f1']:.4f}\")\n",
    "        \n",
    "        # 최고 성능 모델 저장\n",
    "        if val_ret['val_f1'] > best_val_f1:\n",
    "            best_val_f1 = val_ret['val_f1']\n",
    "            best_model = copy.deepcopy(model.state_dict())\n",
    "            \n",
    "            # Best 모델 분석\n",
    "            model.eval()\n",
    "            val_preds, val_targets = [], []\n",
    "            with torch.no_grad():\n",
    "                for image, targets in val_loader:\n",
    "                    preds = model(image.to(device)).argmax(dim=1)\n",
    "                    val_preds.extend(preds.cpu().numpy())\n",
    "                    val_targets.extend(targets.numpy())\n",
    "            \n",
    "            # 클래스별 정확도\n",
    "            fold_class_acc = {}\n",
    "            for c in range(17):\n",
    "                mask = np.array(val_targets) == c\n",
    "                if mask.sum() > 0:\n",
    "                    fold_class_acc[c] = (np.array(val_preds)[mask] == c).mean()\n",
    "    \n",
    "    # 현재 fold 결과 저장\n",
    "    fold_results.append({\n",
    "        'fold': fold + 1,\n",
    "        'best_val_f1': best_val_f1,\n",
    "        'train_samples': len(trn_dataset),\n",
    "        'val_samples': len(val_dataset)\n",
    "    })\n",
    "    \n",
    "    fold_models.append(best_model)\n",
    "    \n",
    "    print(f\"Fold {fold + 1} Best Validation F1: {best_val_f1:.4f}\")\n",
    "    \n",
    "    fold_class_accuracies.append(fold_class_acc) # 각 fold의 클래스별 정확도 저장\n",
    "\n",
    "# K-Fold 결과 요약\n",
    "print(f\"\\n{'='*60}\")\n",
    "print(\"K-FOLD CROSS VALIDATION RESULTS\")\n",
    "print(f\"{'='*60}\")\n",
    "\n",
    "val_f1_scores = [result['best_val_f1'] for result in fold_results]\n",
    "mean_f1 = np.mean(val_f1_scores)\n",
    "std_f1 = np.std(val_f1_scores)\n",
    "\n",
    "for result in fold_results:\n",
    "    print(f\"Fold {result['fold']}: {result['best_val_f1']:.4f}\")\n",
    "\n",
    "print(f\"\\nMean CV F1: {mean_f1:.4f} ± {std_f1:.4f}\")\n",
    "print(f\"Best single fold: {max(val_f1_scores):.4f}\")"
   ]
  },
  {
   "cell_type": "code",
   "execution_count": 13,
   "metadata": {},
   "outputs": [
    {
     "data": {
      "image/png": "[encoded data removed]",
      "text/plain": [
       "<Figure size 1500x800 with 1 Axes>"
      ]
     },
     "metadata": {},
     "output_type": "display_data"
    },
    {
     "name": "stdout",
     "output_type": "stream",
     "text": [
      "Worst 3 classes:\n",
      "Class 14: 80.0%\n",
      "Class 7: 81.0%\n",
      "Class 3: 87.0%\n"
     ]
    }
   ],
   "source": [
    "# 클래스별 성능 시각화\n",
    "meta_df = pd.read_csv(\"../data/meta.csv\")\n",
    "avg_acc = {c: np.mean([f.get(c,0) for f in fold_class_accuracies]) for c in range(17)}\n",
    "\n",
    "plt.figure(figsize=(15, 8))\n",
    "classes = list(avg_acc.keys())\n",
    "accs = [avg_acc[c] * 100 for c in classes]\n",
    "names = [f\"C{c}\" for c in classes]\n",
    "\n",
    "plt.bar(range(17), accs)\n",
    "plt.xticks(range(17), names)\n",
    "plt.ylabel('Accuracy (%)')\n",
    "plt.title('Class-wise Prediction Accuracy')\n",
    "for i, acc in enumerate(accs):\n",
    "    plt.text(i, acc + 1, f'{acc:.1f}%', ha='center', fontsize=8)\n",
    "plt.tight_layout()\n",
    "plt.show()\n",
    "\n",
    "print(\"Worst 3 classes:\")\n",
    "worst = sorted(avg_acc.items(), key=lambda x: x[1])[:3]\n",
    "for c, acc in worst:\n",
    "    print(f\"Class {c}: {acc*100:.1f}%\")"
   ]
  },
  {
   "cell_type": "code",
   "execution_count": 14,
   "metadata": {},
   "outputs": [
    {
     "name": "stdout",
     "output_type": "stream",
     "text": [
      "Using ensemble of all 5 fold models for inference\n"
     ]
    }
   ],
   "source": [
    "# 5-Fold 앙상블 모델 준비\n",
    "ensemble_models = []\n",
    "for i, state_dict in enumerate(fold_models):\n",
    "    fold_model = timm.create_model(model_name, pretrained=True, num_classes=17).to(device)\n",
    "    fold_model.load_state_dict(state_dict)\n",
    "    fold_model.eval()\n",
    "    ensemble_models.append(fold_model)\n",
    "print(f\"Using ensemble of all {len(ensemble_models)} fold models for inference\")"
   ]
  },
  {
   "attachments": {},
   "cell_type": "markdown",
   "metadata": {
    "id": "Nmm5h3J-pXNV"
   },
   "source": [
    "## 5. Train Model\n",
    "* 모델을 로드하고, 학습을 진행합니다."
   ]
  },
  {
   "cell_type": "code",
   "execution_count": 15,
   "metadata": {
    "executionInfo": {
     "elapsed": 870,
     "status": "ok",
     "timestamp": 1700315114067,
     "user": {
      "displayName": "Ynot(송원호)",
      "userId": "16271863862696372773"
     },
     "user_tz": -540
    },
    "id": "FbBgFPsLT-CO"
   },
   "outputs": [],
   "source": [
    "# # load model\n",
    "# model = timm.create_model(\n",
    "#     model_name,\n",
    "#     pretrained=True,\n",
    "#     num_classes=17\n",
    "# ).to(device)\n",
    "# loss_fn = nn.CrossEntropyLoss()\n",
    "# optimizer = Adam(model.parameters(), lr=LR)"
   ]
  },
  {
   "cell_type": "code",
   "execution_count": 16,
   "metadata": {
    "colab": {
     "base_uri": "https://localhost:8080/"
    },
    "executionInfo": {
     "elapsed": 8778,
     "status": "ok",
     "timestamp": 1700315122843,
     "user": {
      "displayName": "Ynot(송원호)",
      "userId": "16271863862696372773"
     },
     "user_tz": -540
    },
    "id": "OvIVcSRgUPtS",
    "outputId": "88230bf2-976f-45f6-b3b7-1a2d0ad00548"
   },
   "outputs": [],
   "source": [
    "# for epoch in range(EPOCHS):\n",
    "#     ret = train_one_epoch(trn_loader, model, optimizer, loss_fn, device=device)\n",
    "#     ret['epoch'] = epoch\n",
    "\n",
    "#     log = \"\"\n",
    "#     for k, v in ret.items():\n",
    "#       log += f\"{k}: {v:.4f}\\n\"\n",
    "#     print(log)"
   ]
  },
  {
   "attachments": {},
   "cell_type": "markdown",
   "metadata": {
    "id": "lkwxRXoBpbaX"
   },
   "source": [
    "# 6. Inference & Save File\n",
    "* 테스트 이미지에 대한 추론을 진행하고, 결과 파일을 저장합니다."
   ]
  },
  {
   "cell_type": "code",
   "execution_count": 17,
   "metadata": {
    "colab": {
     "base_uri": "https://localhost:8080/"
    },
    "executionInfo": {
     "elapsed": 12776,
     "status": "ok",
     "timestamp": 1700315185336,
     "user": {
      "displayName": "Ynot(송원호)",
      "userId": "16271863862696372773"
     },
     "user_tz": -540
    },
    "id": "uRYe6jlPU_Om",
    "outputId": "2a08690c-9ffe-418d-8679-eb9280147110"
   },
   "outputs": [],
   "source": [
    "# preds_list = []\n",
    "\n",
    "# model.eval()\n",
    "# for image, _ in tqdm(tst_loader):\n",
    "#     image = image.to(device)\n",
    "\n",
    "#     with torch.no_grad():\n",
    "#         preds = model(image)\n",
    "#     preds_list.extend(preds.argmax(dim=1).detach().cpu().numpy())"
   ]
  },
  {
   "cell_type": "code",
   "execution_count": 18,
   "metadata": {
    "executionInfo": {
     "elapsed": 282,
     "status": "ok",
     "timestamp": 1700315216829,
     "user": {
      "displayName": "Ynot(송원호)",
      "userId": "16271863862696372773"
     },
     "user_tz": -540
    },
    "id": "aClN7Qi7VZoh"
   },
   "outputs": [],
   "source": [
    "# pred_df = pd.DataFrame(tst_dataset.df, columns=['ID', 'target'])\n",
    "# pred_df['target'] = preds_list"
   ]
  },
  {
   "cell_type": "code",
   "execution_count": 19,
   "metadata": {
    "executionInfo": {
     "elapsed": 1,
     "status": "ok",
     "timestamp": 1700315238836,
     "user": {
      "displayName": "Ynot(송원호)",
      "userId": "16271863862696372773"
     },
     "user_tz": -540
    },
    "id": "VDBXQqAzVvLY"
   },
   "outputs": [],
   "source": [
    "# sample_submission_df = pd.read_csv(\"../data/sample_submission.csv\")\n",
    "# assert (sample_submission_df['ID'] == pred_df['ID']).all()"
   ]
  },
  {
   "cell_type": "code",
   "execution_count": 20,
   "metadata": {
    "executionInfo": {
     "elapsed": 317,
     "status": "ok",
     "timestamp": 1700315244710,
     "user": {
      "displayName": "Ynot(송원호)",
      "userId": "16271863862696372773"
     },
     "user_tz": -540
    },
    "id": "ePx2vCELVnuS"
   },
   "outputs": [],
   "source": [
    "# pred_df.to_csv(\"pred.csv\", index=False)"
   ]
  },
  {
   "cell_type": "code",
   "execution_count": 21,
   "metadata": {},
   "outputs": [],
   "source": [
    "# Temperature Scaling 클래스 정의\n",
    "class TemperatureScaling(nn.Module):\n",
    "    def __init__(self):\n",
    "        super().__init__()\n",
    "        self.temperature = nn.Parameter(torch.ones(1) * 1.5)\n",
    "    \n",
    "    def forward(self, logits):\n",
    "        return logits / self.temperature"
   ]
  },
  {
   "cell_type": "code",
   "execution_count": 22,
   "metadata": {},
   "outputs": [],
   "source": [
    "essential_tta_transforms = [\n",
    "    # 원본\n",
    "    A.Compose([\n",
    "        A.LongestMaxSize(max_size=img_size),\n",
    "        A.PadIfNeeded(min_height=img_size, min_width=img_size, border_mode=0, value=0),\n",
    "        A.Normalize(mean=[0.485, 0.456, 0.406], std=[0.229, 0.224, 0.225]),\n",
    "        ToTensorV2(),\n",
    "    ]),\n",
    "    # 90도 회전들\n",
    "    A.Compose([\n",
    "        A.LongestMaxSize(max_size=img_size),\n",
    "        A.PadIfNeeded(min_height=img_size, min_width=img_size, border_mode=0, value=0),\n",
    "        A.Rotate(limit=[90, 90], p=1.0),\n",
    "        A.Normalize(mean=[0.485, 0.456, 0.406], std=[0.229, 0.224, 0.225]),\n",
    "        ToTensorV2(),\n",
    "    ]),\n",
    "    A.Compose([\n",
    "        A.LongestMaxSize(max_size=img_size),\n",
    "        A.PadIfNeeded(min_height=img_size, min_width=img_size, border_mode=0, value=0),\n",
    "        A.Rotate(limit=[180, 180], p=1.0),\n",
    "        A.Normalize(mean=[0.485, 0.456, 0.406], std=[0.229, 0.224, 0.225]),\n",
    "        ToTensorV2(),\n",
    "    ]),\n",
    "    A.Compose([\n",
    "        A.LongestMaxSize(max_size=img_size),\n",
    "        A.PadIfNeeded(min_height=img_size, min_width=img_size, border_mode=0, value=0),\n",
    "        A.Rotate(limit=[-90, -90], p=1.0),\n",
    "        A.Normalize(mean=[0.485, 0.456, 0.406], std=[0.229, 0.224, 0.225]),\n",
    "        ToTensorV2(),\n",
    "    ]),\n",
    "    # 밝기 개선\n",
    "    A.Compose([\n",
    "        A.LongestMaxSize(max_size=img_size),\n",
    "        A.PadIfNeeded(min_height=img_size, min_width=img_size, border_mode=0, value=0),\n",
    "        A.RandomBrightnessContrast(brightness_limit=[0.3, 0.3], contrast_limit=[0.3, 0.3], p=1.0),\n",
    "        A.Normalize(mean=[0.485, 0.456, 0.406], std=[0.229, 0.224, 0.225]),\n",
    "        ToTensorV2(),\n",
    "    ]),\n",
    "]"
   ]
  },
  {
   "cell_type": "code",
   "execution_count": 23,
   "metadata": {},
   "outputs": [],
   "source": [
    "# TTA 추론을 위한 Dataset 클래스\n",
    "class TTAImageDataset(Dataset):\n",
    "    def __init__(self, data, path, transforms):\n",
    "        if isinstance(data, str):\n",
    "            self.df = pd.read_csv(data).values\n",
    "        else:\n",
    "            self.df = data.values\n",
    "        self.path = path\n",
    "        self.transforms = transforms  # 여러 transform을 리스트로 받음\n",
    "\n",
    "    def __len__(self):\n",
    "        return len(self.df)\n",
    "\n",
    "    def __getitem__(self, idx):\n",
    "        name, target = self.df[idx]\n",
    "        img = np.array(Image.open(os.path.join(self.path, name)))\n",
    "        \n",
    "        # 모든 transform을 적용한 결과를 리스트로 반환\n",
    "        augmented_images = []\n",
    "        for transform in self.transforms:\n",
    "            aug_img = transform(image=img)['image']\n",
    "            augmented_images.append(aug_img)\n",
    "        \n",
    "        return augmented_images, target"
   ]
  },
  {
   "cell_type": "code",
   "execution_count": 24,
   "metadata": {},
   "outputs": [
    {
     "name": "stdout",
     "output_type": "stream",
     "text": [
      "TTA Dataset size: 3140\n"
     ]
    }
   ],
   "source": [
    "# TTA Dataset 생성\n",
    "tta_dataset = TTAImageDataset(\n",
    "    \"../data/sample_submission.csv\",\n",
    "    \"../data/test/\",\n",
    "    essential_tta_transforms\n",
    ")\n",
    "\n",
    "# TTA DataLoader (배치 크기를 줄여서 메모리 절약)\n",
    "tta_loader = DataLoader(\n",
    "    tta_dataset,\n",
    "    batch_size=64,  # TTA는 메모리를 많이 사용하므로 배치 크기 줄임\n",
    "    shuffle=False,\n",
    "    num_workers=num_workers,\n",
    "    pin_memory=True\n",
    ")\n",
    "\n",
    "print(f\"TTA Dataset size: {len(tta_dataset)}\")"
   ]
  },
  {
   "cell_type": "code",
   "execution_count": 25,
   "metadata": {},
   "outputs": [],
   "source": [
    "def ensemble_tta_inference(models, loader, transforms, confidence_threshold=0.9):\n",
    "    \"\"\"5-Fold 모델 앙상블 + TTA 추론\"\"\"\n",
    "    all_predictions = []\n",
    "    \n",
    "    for batch_idx, (images_list, _) in enumerate(tqdm(loader, desc=\"Ensemble TTA\")):\n",
    "        batch_size = images_list[0].size(0)\n",
    "        ensemble_probs = torch.zeros(batch_size, 17).to(device)\n",
    "        \n",
    "        # 각 fold 모델별 예측\n",
    "        for model in models:\n",
    "            with torch.no_grad():\n",
    "                # 각 TTA 변형별 예측\n",
    "                for images in images_list:\n",
    "                    images = images.to(device)\n",
    "                    preds = model(images)\n",
    "                    probs = torch.softmax(preds, dim=1)\n",
    "                    ensemble_probs += probs / (len(models) * len(images_list))\n",
    "        \n",
    "        final_preds = torch.argmax(ensemble_probs, dim=1)\n",
    "        all_predictions.extend(final_preds.cpu().numpy())\n",
    "    \n",
    "    return all_predictions"
   ]
  },
  {
   "cell_type": "code",
   "execution_count": 26,
   "metadata": {},
   "outputs": [
    {
     "name": "stdout",
     "output_type": "stream",
     "text": [
      "Starting Ensemble TTA inference...\n"
     ]
    },
    {
     "name": "stderr",
     "output_type": "stream",
     "text": [
      "Ensemble TTA:   0%|          | 0/50 [00:00<?, ?it/s]"
     ]
    },
    {
     "name": "stderr",
     "output_type": "stream",
     "text": [
      "Ensemble TTA: 100%|██████████| 50/50 [09:17<00:00, 11.15s/it]\n"
     ]
    }
   ],
   "source": [
    "# 앙상블 TTA 실행\n",
    "print(\"Starting Ensemble TTA inference...\")\n",
    "tta_predictions = ensemble_tta_inference(\n",
    "    models=ensemble_models, \n",
    "    loader=tta_loader, \n",
    "    transforms=essential_tta_transforms,\n",
    "    confidence_threshold=0.9\n",
    ")"
   ]
  },
  {
   "cell_type": "code",
   "execution_count": 27,
   "metadata": {},
   "outputs": [],
   "source": [
    "# TTA 결과로 submission 파일 생성\n",
    "tta_pred_df = pd.DataFrame(tta_dataset.df, columns=['ID', 'target'])\n",
    "tta_pred_df['target'] = tta_predictions"
   ]
  },
  {
   "cell_type": "code",
   "execution_count": 28,
   "metadata": {},
   "outputs": [],
   "source": [
    "# 기존 submission과 동일한 순서인지 확인\n",
    "sample_submission_df = pd.read_csv(\"../data/sample_submission.csv\")\n",
    "assert (sample_submission_df['ID'] == tta_pred_df['ID']).all()"
   ]
  },
  {
   "cell_type": "code",
   "execution_count": 29,
   "metadata": {},
   "outputs": [
    {
     "name": "stdout",
     "output_type": "stream",
     "text": [
      "TTA predictions saved\n",
      "TTA Prediction sample:\n"
     ]
    }
   ],
   "source": [
    "# TTA 결과 저장\n",
    "tta_pred_df.to_csv(\"../submission/choice.csv\", index=False)\n",
    "print(\"TTA predictions saved\")\n",
    "\n",
    "print(\"TTA Prediction sample:\")"
   ]
  },
  {
   "cell_type": "code",
   "execution_count": 30,
   "metadata": {
    "colab": {
     "base_uri": "https://localhost:8080/",
     "height": 206
    },
    "executionInfo": {
     "elapsed": 353,
     "status": "ok",
     "timestamp": 1700315247734,
     "user": {
      "displayName": "Ynot(송원호)",
      "userId": "16271863862696372773"
     },
     "user_tz": -540
    },
    "id": "9yMO8s6GqAwZ",
    "outputId": "9a30616f-f0ea-439f-a906-dd806737ce00"
   },
   "outputs": [
    {
     "data": {
      "text/html": [
       "<div>\n",
       "<style scoped>\n",
       "    .dataframe tbody tr th:only-of-type {\n",
       "        vertical-align: middle;\n",
       "    }\n",
       "\n",
       "    .dataframe tbody tr th {\n",
       "        vertical-align: top;\n",
       "    }\n",
       "\n",
       "    .dataframe thead th {\n",
       "        text-align: right;\n",
       "    }\n",
       "</style>\n",
       "<table border=\"1\" class=\"dataframe\">\n",
       "  <thead>\n",
       "    <tr style=\"text-align: right;\">\n",
       "      <th></th>\n",
       "      <th>ID</th>\n",
       "      <th>target</th>\n",
       "    </tr>\n",
       "  </thead>\n",
       "  <tbody>\n",
       "    <tr>\n",
       "      <th>0</th>\n",
       "      <td>0008fdb22ddce0ce.jpg</td>\n",
       "      <td>2</td>\n",
       "    </tr>\n",
       "    <tr>\n",
       "      <th>1</th>\n",
       "      <td>00091bffdffd83de.jpg</td>\n",
       "      <td>12</td>\n",
       "    </tr>\n",
       "    <tr>\n",
       "      <th>2</th>\n",
       "      <td>00396fbc1f6cc21d.jpg</td>\n",
       "      <td>5</td>\n",
       "    </tr>\n",
       "    <tr>\n",
       "      <th>3</th>\n",
       "      <td>00471f8038d9c4b6.jpg</td>\n",
       "      <td>12</td>\n",
       "    </tr>\n",
       "    <tr>\n",
       "      <th>4</th>\n",
       "      <td>00901f504008d884.jpg</td>\n",
       "      <td>2</td>\n",
       "    </tr>\n",
       "  </tbody>\n",
       "</table>\n",
       "</div>"
      ],
      "text/plain": [
       "                     ID  target\n",
       "0  0008fdb22ddce0ce.jpg       2\n",
       "1  00091bffdffd83de.jpg      12\n",
       "2  00396fbc1f6cc21d.jpg       5\n",
       "3  00471f8038d9c4b6.jpg      12\n",
       "4  00901f504008d884.jpg       2"
      ]
     },
     "execution_count": 30,
     "metadata": {},
     "output_type": "execute_result"
    }
   ],
   "source": [
    "tta_pred_df.head()"
   ]
  }
 ],
 "metadata": {
  "accelerator": "GPU",
  "colab": {
   "provenance": []
  },
  "kernelspec": {
   "display_name": "base",
   "language": "python",
   "name": "python3"
  },
  "language_info": {
   "codemirror_mode": {
    "name": "ipython",
    "version": 3
   },
   "file_extension": ".py",
   "mimetype": "text/x-python",
   "name": "python",
   "nbconvert_exporter": "python",
   "pygments_lexer": "ipython3",
   "version": "3.10.13"
  }
 },
 "nbformat": 4,
 "nbformat_minor": 0
}
