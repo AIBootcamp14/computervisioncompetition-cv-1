{
 "cells": [
  {
   "attachments": {},
   "cell_type": "markdown",
   "metadata": {
    "id": "OliaDaX_lwou"
   },
   "source": [
    "# **📄 Document type classification baseline code**\n",
    "> 문서 타입 분류 대회에 오신 여러분 환영합니다! 🎉     \n",
    "> 아래 baseline에서는 ResNet 모델을 로드하여, 모델을 학습 및 예측 파일 생성하는 프로세스에 대해 알아보겠습니다.\n",
    "\n",
    "## Contents\n",
    "- Prepare Environments\n",
    "- Import Library & Define Functions\n",
    "- Hyper-parameters\n",
    "- Load Data\n",
    "- Train Model\n",
    "- Inference & Save File\n"
   ]
  },
  {
   "attachments": {},
   "cell_type": "markdown",
   "metadata": {
    "id": "zkH9T_86lDSS"
   },
   "source": [
    "## 1. Prepare Environments\n",
    "\n",
    "* 데이터 로드를 위한 구글 드라이브를 마운트합니다.\n",
    "* 필요한 라이브러리를 설치합니다."
   ]
  },
  {
   "cell_type": "code",
   "execution_count": 1,
   "metadata": {
    "colab": {
     "base_uri": "https://localhost:8080/"
    },
    "executionInfo": {
     "elapsed": 8489,
     "status": "ok",
     "timestamp": 1700314558888,
     "user": {
      "displayName": "Ynot(송원호)",
      "userId": "16271863862696372773"
     },
     "user_tz": -540
    },
    "id": "NC8V-D393wY4",
    "outputId": "e9927325-26c4-4b89-9c51-c1d6541388d6"
   },
   "outputs": [],
   "source": [
    "# 필요한 라이브러리를 설치합니다.\n",
    "# !pip install timm\n",
    "# !pip install matplotlib\n",
    "# !pip install seaborn\n",
    "# !pip install optuna"
   ]
  },
  {
   "attachments": {},
   "cell_type": "markdown",
   "metadata": {
    "id": "PXa_FPM73R9f"
   },
   "source": [
    "## 2. Import Library & Define Functions\n",
    "* 학습 및 추론에 필요한 라이브러리를 로드합니다.\n",
    "* 학습 및 추론에 필요한 함수와 클래스를 정의합니다."
   ]
  },
  {
   "cell_type": "code",
   "execution_count": null,
   "metadata": {
    "executionInfo": {
     "elapsed": 9396,
     "status": "ok",
     "timestamp": 1700314592802,
     "user": {
      "displayName": "Ynot(송원호)",
      "userId": "16271863862696372773"
     },
     "user_tz": -540
    },
    "id": "3BaoIkv5Xwa0"
   },
   "outputs": [],
   "source": [
    "import os\n",
    "import time\n",
    "import random\n",
    "import copy\n",
    "import gc\n",
    "\n",
    "import optuna, math\n",
    "import timm\n",
    "import torch\n",
    "import albumentations as A\n",
    "import pandas as pd\n",
    "import numpy as np\n",
    "import torch.nn as nn\n",
    "import torch.nn.functional as F\n",
    "from albumentations.pytorch import ToTensorV2\n",
    "from torch.optim import Adam\n",
    "from torchvision import transforms\n",
    "from torch.utils.data import Dataset, DataLoader\n",
    "from torch.optim.lr_scheduler import CosineAnnealingLR\n",
    "from torch.cuda.amp import autocast, GradScaler  # Mixed Precision용\n",
    "\n",
    "from PIL import Image\n",
    "from tqdm import tqdm\n",
    "from sklearn.metrics import accuracy_score, f1_score, confusion_matrix, classification_report\n",
    "from sklearn.model_selection import train_test_split, StratifiedKFold\n",
    "\n",
    "from collections import Counter\n",
    "import warnings\n",
    "warnings.filterwarnings('ignore')\n",
    "\n",
    "import matplotlib.pyplot as plt\n",
    "import wandb\n",
    "from datetime import datetime\n",
    "\n",
    "# 한글 폰트 설정 (시각화용)\n",
    "plt.rcParams['font.family'] = ['DejaVu Sans']"
   ]
  },
  {
   "cell_type": "code",
   "execution_count": 3,
   "metadata": {},
   "outputs": [],
   "source": [
    "# 시드를 고정합니다.\n",
    "SEED = 42\n",
    "os.environ['PYTHONHASHSEED'] = str(SEED)\n",
    "random.seed(SEED)\n",
    "np.random.seed(SEED)\n",
    "torch.manual_seed(SEED)\n",
    "torch.cuda.manual_seed(SEED)\n",
    "torch.cuda.manual_seed_all(SEED)\n",
    "torch.backends.cudnn.benchmark = True"
   ]
  },
  {
   "cell_type": "code",
   "execution_count": 4,
   "metadata": {
    "executionInfo": {
     "elapsed": 241,
     "status": "ok",
     "timestamp": 1700314772722,
     "user": {
      "displayName": "Ynot(송원호)",
      "userId": "16271863862696372773"
     },
     "user_tz": -540
    },
    "id": "Hyl8oAy6TZAu"
   },
   "outputs": [],
   "source": [
    "def mixup_data(x, y, alpha=1.0):\n",
    "    if alpha > 0:\n",
    "        lam = np.random.beta(alpha, alpha)\n",
    "    else:\n",
    "        lam = 1\n",
    "    batch_size = x.size()[0]\n",
    "    index = torch.randperm(batch_size).cuda()\n",
    "    mixed_x = lam * x + (1 - lam) * x[index, :]\n",
    "    y_a, y_b = y, y[index]\n",
    "    return mixed_x, y_a, y_b, lam\n",
    "\n",
    "# 데이터셋 클래스를 정의합니다. (Hard Augmentation 포함)\n",
    "class ImageDataset(Dataset):\n",
    "    def __init__(self, data, path, epoch=0, total_epochs=10, is_train=True):\n",
    "        if isinstance(data, str):\n",
    "            self.df = pd.read_csv(data).values\n",
    "        else:\n",
    "            self.df = data.values\n",
    "        self.path = path\n",
    "        self.epoch = epoch\n",
    "        self.total_epochs = total_epochs\n",
    "        self.is_train = is_train\n",
    "        \n",
    "        # Hard augmentation 확률 계산\n",
    "        self.p_hard = 0.2 + 0.3 * (epoch / total_epochs) if is_train else 0\n",
    "        \n",
    "        # Normal augmentation\n",
    "        self.normal_aug = A.Compose([\n",
    "            A.LongestMaxSize(max_size=img_size),\n",
    "            A.PadIfNeeded(min_height=img_size, min_width=img_size, border_mode=0, value=0),\n",
    "            A.OneOf([\n",
    "                A.Rotate(limit=[90,90], p=1.0),\n",
    "                A.Rotate(limit=[180,180], p=1.0),\n",
    "                A.Rotate(limit=[270,270], p=1.0),\n",
    "            ], p=0.6),\n",
    "            A.RandomBrightnessContrast(brightness_limit=0.3, contrast_limit=0.3, p=0.8),\n",
    "            A.GaussNoise(var_limit=(30.0, 100.0), p=0.7),\n",
    "            A.HorizontalFlip(p=0.5),\n",
    "            A.Normalize(mean=[0.485, 0.456, 0.406], std=[0.229, 0.224, 0.225]),\n",
    "            ToTensorV2(),\n",
    "        ])\n",
    "        \n",
    "        # Hard augmentation\n",
    "        self.hard_aug = A.Compose([\n",
    "            A.LongestMaxSize(max_size=img_size),\n",
    "            A.PadIfNeeded(min_height=img_size, min_width=img_size, border_mode=0, value=0),\n",
    "            A.OneOf([\n",
    "                A.Rotate(limit=[90,90], p=1.0),\n",
    "                A.Rotate(limit=[180,180], p=1.0),\n",
    "                A.Rotate(limit=[270,270], p=1.0),\n",
    "                A.Rotate(limit=[-15,15], p=1.0),\n",
    "            ], p=0.8),\n",
    "            A.OneOf([\n",
    "                A.MotionBlur(blur_limit=15, p=1.0),\n",
    "                A.GaussianBlur(blur_limit=15, p=1.0),\n",
    "            ], p=0.95),\n",
    "            A.RandomBrightnessContrast(brightness_limit=0.5, contrast_limit=0.5, p=0.9),\n",
    "            A.GaussNoise(var_limit=(50.0, 150.0), p=0.8),\n",
    "            A.JpegCompression(quality_lower=70, quality_upper=100, p=0.5),\n",
    "            A.HorizontalFlip(p=0.5),\n",
    "            A.Normalize(mean=[0.485, 0.456, 0.406], std=[0.229, 0.224, 0.225]),\n",
    "            ToTensorV2(),\n",
    "        ])\n",
    "\n",
    "    def __len__(self):\n",
    "        return len(self.df)\n",
    "\n",
    "    def __getitem__(self, idx):\n",
    "        name, target = self.df[idx]\n",
    "        img = np.array(Image.open(os.path.join(self.path, name)).convert('RGB'))\n",
    "        \n",
    "        # 배치별 증강 선택\n",
    "        if self.is_train and random.random() < self.p_hard:\n",
    "            img = self.hard_aug(image=img)['image']\n",
    "        else:\n",
    "            img = self.normal_aug(image=img)['image']\n",
    "        \n",
    "        return img, target"
   ]
  },
  {
   "cell_type": "code",
   "execution_count": 5,
   "metadata": {
    "executionInfo": {
     "elapsed": 255,
     "status": "ok",
     "timestamp": 1700315066028,
     "user": {
      "displayName": "Ynot(송원호)",
      "userId": "16271863862696372773"
     },
     "user_tz": -540
    },
    "id": "kTECBJfVTbdl"
   },
   "outputs": [],
   "source": [
    "# one epoch 학습을 위한 함수입니다.\n",
    "def train_one_epoch(loader, model, optimizer, loss_fn, device):\n",
    "    scaler = GradScaler()  # Mixed Precision용\n",
    "    model.train()\n",
    "    train_loss = 0\n",
    "    preds_list = []\n",
    "    targets_list = []\n",
    "\n",
    "    pbar = tqdm(loader)\n",
    "    for image, targets in pbar:\n",
    "        image = image.to(device)\n",
    "        targets = targets.to(device)\n",
    "        \n",
    "        # Cutmix/Mixup 적용 (30% 확률)\n",
    "        if random.random() < 0.3:\n",
    "            mixed_x, y_a, y_b, lam = mixup_data(image, targets, alpha=1.0)\n",
    "            with autocast(): preds = model(mixed_x)\n",
    "            loss = lam * loss_fn(preds, y_a) + (1 - lam) * loss_fn(preds, y_b)\n",
    "        else:\n",
    "            with autocast(): preds = model(image)\n",
    "            loss = loss_fn(preds, targets)\n",
    "\n",
    "        model.zero_grad(set_to_none=True)\n",
    "\n",
    "        scaler.scale(loss).backward()  # Mixed Precision용\n",
    "        torch.nn.utils.clip_grad_norm_(model.parameters(), 1.0)\n",
    "        scaler.step(optimizer); scaler.update()  # Mixed Precision용\n",
    "\n",
    "        train_loss += loss.item()\n",
    "        preds_list.extend(preds.argmax(dim=1).detach().cpu().numpy())\n",
    "        targets_list.extend(targets.detach().cpu().numpy())\n",
    "\n",
    "        pbar.set_description(f\"Loss: {loss.item():.4f}\")\n",
    "\n",
    "    train_loss /= len(loader)\n",
    "    train_acc = accuracy_score(targets_list, preds_list)\n",
    "    train_f1 = f1_score(targets_list, preds_list, average='macro')\n",
    "\n",
    "    ret = {\n",
    "        \"train_loss\": train_loss,\n",
    "        \"train_acc\": train_acc,\n",
    "        \"train_f1\": train_f1,\n",
    "    }\n",
    "\n",
    "    return ret"
   ]
  },
  {
   "cell_type": "code",
   "execution_count": 6,
   "metadata": {},
   "outputs": [],
   "source": [
    "# validation을 위한 함수 추가\n",
    "def validate_one_epoch(loader, model, loss_fn, device):\n",
    "    \"\"\"\n",
    "    한 에폭 검증을 수행하는 함수\n",
    "    - model.eval()로 모델을 평가 모드로 전환\n",
    "    - torch.no_grad()로 gradient 계산 비활성화하여 메모리 절약\n",
    "    - 검증 데이터에 대한 loss, accuracy, f1 score 계산\n",
    "    \"\"\"\n",
    "    model.eval()  # 모델을 평가 모드로 전환 (dropout, batchnorm 비활성화)\n",
    "    val_loss = 0\n",
    "    preds_list = []\n",
    "    targets_list = []\n",
    "    \n",
    "    with torch.no_grad():  # gradient 계산 비활성화로 메모리 절약\n",
    "        pbar = tqdm(loader, desc=\"Validating\")\n",
    "        for image, targets in pbar:\n",
    "            image = image.to(device)\n",
    "            targets = targets.to(device)\n",
    "            \n",
    "            preds = model(image)  # 모델 예측\n",
    "            loss = loss_fn(preds, targets)  # 손실 계산\n",
    "            \n",
    "            val_loss += loss.item()\n",
    "            preds_list.extend(preds.argmax(dim=1).detach().cpu().numpy())  # 예측 클래스 저장\n",
    "            targets_list.extend(targets.detach().cpu().numpy())  # 실제 클래스 저장\n",
    "            \n",
    "            pbar.set_description(f\"Val Loss: {loss.item():.4f}\")\n",
    "    \n",
    "    val_loss /= len(loader)  # 평균 손실 계산\n",
    "    val_acc = accuracy_score(targets_list, preds_list)  # 정확도 계산\n",
    "    val_f1 = f1_score(targets_list, preds_list, average='macro')  # Macro F1 계산 (대회 평가지표)\n",
    "    \n",
    "    ret = {\n",
    "        \"val_loss\": val_loss,\n",
    "        \"val_acc\": val_acc,\n",
    "        \"val_f1\": val_f1,\n",
    "    }\n",
    "    \n",
    "    return ret"
   ]
  },
  {
   "attachments": {},
   "cell_type": "markdown",
   "metadata": {
    "id": "Wjom43UvoXcx"
   },
   "source": [
    "## 3. Hyper-parameters\n",
    "* 학습 및 추론에 필요한 하이퍼파라미터들을 정의합니다."
   ]
  },
  {
   "cell_type": "code",
   "execution_count": 7,
   "metadata": {},
   "outputs": [
    {
     "name": "stdout",
     "output_type": "stream",
     "text": [
      "timm version: 0.9.12\n",
      "['convnext_large', 'convnext_large_mlp']\n"
     ]
    }
   ],
   "source": [
    "print(\"timm version:\", timm.__version__)  # 주석: timm 버전 확인\n",
    "print([m for m in timm.list_models('convnext_large*')])  # 주석: large 변형만 필터"
   ]
  },
  {
   "cell_type": "code",
   "execution_count": 8,
   "metadata": {
    "executionInfo": {
     "elapsed": 436,
     "status": "ok",
     "timestamp": 1700315112439,
     "user": {
      "displayName": "Ynot(송원호)",
      "userId": "16271863862696372773"
     },
     "user_tz": -540
    },
    "id": "KByfAeRmXwYk"
   },
   "outputs": [],
   "source": [
    "# device\n",
    "device = torch.device('cuda' if torch.cuda.is_available() else 'cpu')\n",
    "\n",
    "# data config\n",
    "data_path = '../data/'\n",
    "\n",
    "# model config\n",
    "# model_name = 'tf_efficientnetv2_b3' # 'resnet50' 'efficientnet-b0', ...\n",
    "# model_name = 'swin_base_patch4_window12_384_in22k'\n",
    "model_name = 'convnext_large_384_in22ft1k'\n",
    "\n",
    "# training config\n",
    "img_size = 512\n",
    "LR = 2e-4\n",
    "EPOCHS = 100\n",
    "BATCH_SIZE = 10\n",
    "num_workers = 8\n",
    "EMA = True  # Exponential Moving Average 사용 여부"
   ]
  },
  {
   "cell_type": "code",
   "execution_count": 9,
   "metadata": {},
   "outputs": [],
   "source": [
    "# Optuna를 사용한 하이퍼파라미터 튜닝 (선택적 실행)\n",
    "USE_OPTUNA = False  # True로 바꾸면 튜닝 실행\n",
    "\n",
    "if USE_OPTUNA:\n",
    "    def objective(trial):\n",
    "        lr = trial.suggest_loguniform('lr', 1e-5, 1e-2)\n",
    "        batch_size = trial.suggest_categorical('batch_size', [32, 64, 128])\n",
    "        \n",
    "        # 간단한 3-fold CV로 빠른 평가\n",
    "        skf_simple = StratifiedKFold(n_splits=3, shuffle=True, random_state=42)\n",
    "        fold_scores = []\n",
    "        \n",
    "        for fold, (train_idx, val_idx) in enumerate(skf_simple.split(train_df, train_df['target'])):\n",
    "            # 모델 생성\n",
    "            model = timm.create_model(model_name, pretrained=True, num_classes=17).to(device)\n",
    "            optimizer = Adam(model.parameters(), lr=lr)\n",
    "            loss_fn = nn.CrossEntropyLoss()\n",
    "            \n",
    "            # 간단한 2 epoch 학습\n",
    "            for epoch in range(2):\n",
    "                train_ret = train_one_epoch(trn_loader, model, optimizer, loss_fn, device)\n",
    "            \n",
    "            val_ret = validate_one_epoch(val_loader, model, loss_fn, device)\n",
    "            fold_scores.append(val_ret['val_f1'])\n",
    "        \n",
    "        return np.mean(fold_scores)\n",
    "    \n",
    "    study = optuna.create_study(direction='maximize')\n",
    "    study.optimize(objective, n_trials=10)\n",
    "    \n",
    "    # 최적 파라미터 적용\n",
    "    LR = study.best_params['lr']\n",
    "    BATCH_SIZE = study.best_params['batch_size']\n",
    "    print(f\"Best params: {study.best_params}\")"
   ]
  },
  {
   "attachments": {},
   "cell_type": "markdown",
   "metadata": {
    "id": "amum-FlIojc6"
   },
   "source": [
    "## 4. Load Data\n",
    "* 학습, 테스트 데이터셋과 로더를 정의합니다."
   ]
  },
  {
   "cell_type": "code",
   "execution_count": 10,
   "metadata": {},
   "outputs": [],
   "source": [
    "# Optuna 튜닝 (선택적 실행)\n",
    "USE_OPTUNA = False  # True로 바꾸면 튜닝 실행\n",
    "\n",
    "if USE_OPTUNA:\n",
    "    # 위의 objective 함수와 study 코드\n",
    "    pass"
   ]
  },
  {
   "cell_type": "markdown",
   "metadata": {},
   "source": [
    "# K-Fold 적용"
   ]
  },
  {
   "cell_type": "code",
   "execution_count": 11,
   "metadata": {},
   "outputs": [
    {
     "name": "stdout",
     "output_type": "stream",
     "text": [
      "Starting 5-Fold Cross Validation...\n",
      "\n",
      "==================================================\n",
      "FOLD 1/5\n",
      "==================================================\n",
      "Train samples: 1256, Validation samples: 314\n"
     ]
    },
    {
     "name": "stderr",
     "output_type": "stream",
     "text": [
      "Loss: 0.9160: 100%|██████████| 126/126 [00:49<00:00,  2.54it/s]\n",
      "Val Loss: 0.6707: 100%|██████████| 32/32 [00:10<00:00,  3.08it/s]"
     ]
    },
    {
     "name": "stdout",
     "output_type": "stream",
     "text": [
      "Epoch  1 | Train Loss: 1.4517 | Train F1: 0.5321 | Val Loss: 0.6011 | Val F1: 0.8103\n"
     ]
    },
    {
     "name": "stderr",
     "output_type": "stream",
     "text": [
      "\n",
      "Loss: 0.2925: 100%|██████████| 126/126 [00:39<00:00,  3.17it/s]\n",
      "Val Loss: 0.6406: 100%|██████████| 32/32 [00:08<00:00,  3.84it/s]"
     ]
    },
    {
     "name": "stdout",
     "output_type": "stream",
     "text": [
      "Epoch  2 | Train Loss: 0.7788 | Train F1: 0.7256 | Val Loss: 0.4102 | Val F1: 0.8663\n"
     ]
    },
    {
     "name": "stderr",
     "output_type": "stream",
     "text": [
      "\n",
      "Loss: 0.6689: 100%|██████████| 126/126 [00:39<00:00,  3.16it/s]\n",
      "Val Loss: 0.9507: 100%|██████████| 32/32 [00:08<00:00,  3.81it/s]\n"
     ]
    },
    {
     "name": "stdout",
     "output_type": "stream",
     "text": [
      "Epoch  3 | Train Loss: 0.6476 | Train F1: 0.7350 | Val Loss: 0.4583 | Val F1: 0.8553\n"
     ]
    },
    {
     "name": "stderr",
     "output_type": "stream",
     "text": [
      "Loss: 0.5649: 100%|██████████| 126/126 [00:39<00:00,  3.16it/s]\n",
      "Val Loss: 0.5462: 100%|██████████| 32/32 [00:08<00:00,  3.82it/s]"
     ]
    },
    {
     "name": "stdout",
     "output_type": "stream",
     "text": [
      "Epoch  4 | Train Loss: 0.6695 | Train F1: 0.7779 | Val Loss: 0.3739 | Val F1: 0.9246\n"
     ]
    },
    {
     "name": "stderr",
     "output_type": "stream",
     "text": [
      "\n",
      "Loss: 0.1904: 100%|██████████| 126/126 [00:39<00:00,  3.17it/s]\n",
      "Val Loss: 0.1727: 100%|██████████| 32/32 [00:08<00:00,  3.74it/s]\n"
     ]
    },
    {
     "name": "stdout",
     "output_type": "stream",
     "text": [
      "Epoch  5 | Train Loss: 0.6321 | Train F1: 0.7688 | Val Loss: 0.4006 | Val F1: 0.8923\n"
     ]
    },
    {
     "name": "stderr",
     "output_type": "stream",
     "text": [
      "Loss: 0.1785: 100%|██████████| 126/126 [00:39<00:00,  3.16it/s]\n",
      "Val Loss: 0.1744: 100%|██████████| 32/32 [00:08<00:00,  3.83it/s]\n"
     ]
    },
    {
     "name": "stdout",
     "output_type": "stream",
     "text": [
      "Epoch  6 | Train Loss: 0.5085 | Train F1: 0.7934 | Val Loss: 0.3666 | Val F1: 0.9098\n"
     ]
    },
    {
     "name": "stderr",
     "output_type": "stream",
     "text": [
      "Loss: 1.2129: 100%|██████████| 126/126 [00:40<00:00,  3.15it/s]\n",
      "Val Loss: 0.5101: 100%|██████████| 32/32 [00:08<00:00,  3.74it/s]\n"
     ]
    },
    {
     "name": "stdout",
     "output_type": "stream",
     "text": [
      "Epoch  7 | Train Loss: 0.5016 | Train F1: 0.8470 | Val Loss: 0.3873 | Val F1: 0.9110\n"
     ]
    },
    {
     "name": "stderr",
     "output_type": "stream",
     "text": [
      "Loss: 0.8662: 100%|██████████| 126/126 [00:39<00:00,  3.16it/s]\n",
      "Val Loss: 0.3104: 100%|██████████| 32/32 [00:08<00:00,  3.81it/s]\n"
     ]
    },
    {
     "name": "stdout",
     "output_type": "stream",
     "text": [
      "Epoch  8 | Train Loss: 0.4952 | Train F1: 0.8530 | Val Loss: 0.3933 | Val F1: 0.9214\n"
     ]
    },
    {
     "name": "stderr",
     "output_type": "stream",
     "text": [
      "Loss: 2.0137: 100%|██████████| 126/126 [00:39<00:00,  3.16it/s]\n",
      "Val Loss: 0.2279: 100%|██████████| 32/32 [00:08<00:00,  3.83it/s]\n"
     ]
    },
    {
     "name": "stdout",
     "output_type": "stream",
     "text": [
      "Epoch  9 | Train Loss: 0.5093 | Train F1: 0.8162 | Val Loss: 0.3526 | Val F1: 0.9217\n"
     ]
    },
    {
     "name": "stderr",
     "output_type": "stream",
     "text": [
      "Loss: 0.1528: 100%|██████████| 126/126 [00:39<00:00,  3.16it/s]\n",
      "Val Loss: 0.6353: 100%|██████████| 32/32 [00:08<00:00,  3.79it/s]"
     ]
    },
    {
     "name": "stdout",
     "output_type": "stream",
     "text": [
      "Epoch 10 | Train Loss: 0.5273 | Train F1: 0.8287 | Val Loss: 0.3510 | Val F1: 0.9479\n"
     ]
    },
    {
     "name": "stderr",
     "output_type": "stream",
     "text": [
      "\n",
      "Loss: 0.6455: 100%|██████████| 126/126 [00:39<00:00,  3.16it/s]\n",
      "Val Loss: 0.1605: 100%|██████████| 32/32 [00:08<00:00,  3.76it/s]"
     ]
    },
    {
     "name": "stdout",
     "output_type": "stream",
     "text": [
      "Epoch 11 | Train Loss: 0.4531 | Train F1: 0.8329 | Val Loss: 0.2924 | Val F1: 0.9571\n"
     ]
    },
    {
     "name": "stderr",
     "output_type": "stream",
     "text": [
      "\n",
      "Loss: 0.6270: 100%|██████████| 126/126 [00:39<00:00,  3.17it/s]\n",
      "Val Loss: 1.7122: 100%|██████████| 32/32 [00:08<00:00,  3.78it/s]\n"
     ]
    },
    {
     "name": "stdout",
     "output_type": "stream",
     "text": [
      "Epoch 12 | Train Loss: 0.4416 | Train F1: 0.8429 | Val Loss: 0.4966 | Val F1: 0.8962\n"
     ]
    },
    {
     "name": "stderr",
     "output_type": "stream",
     "text": [
      "Loss: 0.1733: 100%|██████████| 126/126 [00:39<00:00,  3.17it/s]\n",
      "Val Loss: 0.1667: 100%|██████████| 32/32 [00:08<00:00,  3.76it/s]\n"
     ]
    },
    {
     "name": "stdout",
     "output_type": "stream",
     "text": [
      "Epoch 13 | Train Loss: 0.4275 | Train F1: 0.8467 | Val Loss: 0.2959 | Val F1: 0.9540\n"
     ]
    },
    {
     "name": "stderr",
     "output_type": "stream",
     "text": [
      "Loss: 1.8086: 100%|██████████| 126/126 [00:39<00:00,  3.17it/s]\n",
      "Val Loss: 0.2515: 100%|██████████| 32/32 [00:08<00:00,  3.79it/s]\n"
     ]
    },
    {
     "name": "stdout",
     "output_type": "stream",
     "text": [
      "Epoch 14 | Train Loss: 0.4692 | Train F1: 0.8578 | Val Loss: 0.3201 | Val F1: 0.9387\n"
     ]
    },
    {
     "name": "stderr",
     "output_type": "stream",
     "text": [
      "Loss: 0.5864: 100%|██████████| 126/126 [00:39<00:00,  3.18it/s]\n",
      "Val Loss: 0.1521: 100%|██████████| 32/32 [00:08<00:00,  3.82it/s]\n"
     ]
    },
    {
     "name": "stdout",
     "output_type": "stream",
     "text": [
      "Epoch 15 | Train Loss: 0.4405 | Train F1: 0.8286 | Val Loss: 0.2521 | Val F1: 0.9418\n"
     ]
    },
    {
     "name": "stderr",
     "output_type": "stream",
     "text": [
      "Loss: 0.2354: 100%|██████████| 126/126 [00:39<00:00,  3.17it/s]\n",
      "Val Loss: 0.1813: 100%|██████████| 32/32 [00:08<00:00,  3.81it/s]\n"
     ]
    },
    {
     "name": "stdout",
     "output_type": "stream",
     "text": [
      "Epoch 16 | Train Loss: 0.4923 | Train F1: 0.8476 | Val Loss: 0.3314 | Val F1: 0.9398\n"
     ]
    },
    {
     "name": "stderr",
     "output_type": "stream",
     "text": [
      "Loss: 0.1512: 100%|██████████| 126/126 [00:39<00:00,  3.17it/s]\n",
      "Val Loss: 0.1567: 100%|██████████| 32/32 [00:08<00:00,  3.79it/s]"
     ]
    },
    {
     "name": "stdout",
     "output_type": "stream",
     "text": [
      "Epoch 17 | Train Loss: 0.4899 | Train F1: 0.8786 | Val Loss: 0.2499 | Val F1: 0.9699\n"
     ]
    },
    {
     "name": "stderr",
     "output_type": "stream",
     "text": [
      "\n",
      "Loss: 0.1610: 100%|██████████| 126/126 [00:39<00:00,  3.17it/s]\n",
      "Val Loss: 1.0930: 100%|██████████| 32/32 [00:08<00:00,  3.82it/s]\n"
     ]
    },
    {
     "name": "stdout",
     "output_type": "stream",
     "text": [
      "Epoch 18 | Train Loss: 0.4504 | Train F1: 0.8330 | Val Loss: 0.3231 | Val F1: 0.9535\n"
     ]
    },
    {
     "name": "stderr",
     "output_type": "stream",
     "text": [
      "Loss: 0.1492: 100%|██████████| 126/126 [00:39<00:00,  3.17it/s]\n",
      "Val Loss: 0.1502: 100%|██████████| 32/32 [00:08<00:00,  3.83it/s]\n"
     ]
    },
    {
     "name": "stdout",
     "output_type": "stream",
     "text": [
      "Epoch 19 | Train Loss: 0.3988 | Train F1: 0.8673 | Val Loss: 0.2607 | Val F1: 0.9659\n"
     ]
    },
    {
     "name": "stderr",
     "output_type": "stream",
     "text": [
      "Loss: 0.1469: 100%|██████████| 126/126 [00:39<00:00,  3.18it/s]\n",
      "Val Loss: 0.1500: 100%|██████████| 32/32 [00:08<00:00,  3.80it/s]\n"
     ]
    },
    {
     "name": "stdout",
     "output_type": "stream",
     "text": [
      "Epoch 20 | Train Loss: 0.3847 | Train F1: 0.8688 | Val Loss: 0.2627 | Val F1: 0.9639\n"
     ]
    },
    {
     "name": "stderr",
     "output_type": "stream",
     "text": [
      "Loss: 0.1469: 100%|██████████| 126/126 [00:39<00:00,  3.17it/s]\n",
      "Val Loss: 0.8562: 100%|██████████| 32/32 [00:08<00:00,  3.85it/s]\n"
     ]
    },
    {
     "name": "stdout",
     "output_type": "stream",
     "text": [
      "Epoch 21 | Train Loss: 0.4208 | Train F1: 0.8410 | Val Loss: 0.3209 | Val F1: 0.9564\n"
     ]
    },
    {
     "name": "stderr",
     "output_type": "stream",
     "text": [
      "Loss: 1.0957: 100%|██████████| 126/126 [00:39<00:00,  3.17it/s]\n",
      "Val Loss: 1.2167: 100%|██████████| 32/32 [00:08<00:00,  3.79it/s]\n"
     ]
    },
    {
     "name": "stdout",
     "output_type": "stream",
     "text": [
      "Epoch 22 | Train Loss: 0.4336 | Train F1: 0.8637 | Val Loss: 0.3900 | Val F1: 0.9299\n"
     ]
    },
    {
     "name": "stderr",
     "output_type": "stream",
     "text": [
      "Loss: 0.1495: 100%|██████████| 126/126 [00:39<00:00,  3.16it/s]\n",
      "Val Loss: 0.1650: 100%|██████████| 32/32 [00:08<00:00,  3.79it/s]\n"
     ]
    },
    {
     "name": "stdout",
     "output_type": "stream",
     "text": [
      "Epoch 23 | Train Loss: 0.4872 | Train F1: 0.8374 | Val Loss: 0.2734 | Val F1: 0.9551\n"
     ]
    },
    {
     "name": "stderr",
     "output_type": "stream",
     "text": [
      "Loss: 0.8965: 100%|██████████| 126/126 [00:39<00:00,  3.17it/s]\n",
      "Val Loss: 0.1499: 100%|██████████| 32/32 [00:08<00:00,  3.78it/s]\n"
     ]
    },
    {
     "name": "stdout",
     "output_type": "stream",
     "text": [
      "Epoch 24 | Train Loss: 0.4147 | Train F1: 0.8405 | Val Loss: 0.2440 | Val F1: 0.9688\n"
     ]
    },
    {
     "name": "stderr",
     "output_type": "stream",
     "text": [
      "Loss: 1.0840: 100%|██████████| 126/126 [00:39<00:00,  3.17it/s]\n",
      "Val Loss: 0.1473: 100%|██████████| 32/32 [00:08<00:00,  3.80it/s]\n"
     ]
    },
    {
     "name": "stdout",
     "output_type": "stream",
     "text": [
      "Epoch 25 | Train Loss: 0.4092 | Train F1: 0.8742 | Val Loss: 0.2974 | Val F1: 0.9602\n"
     ]
    },
    {
     "name": "stderr",
     "output_type": "stream",
     "text": [
      "Loss: 0.1500: 100%|██████████| 126/126 [00:39<00:00,  3.17it/s]\n",
      "Val Loss: 0.1530: 100%|██████████| 32/32 [00:08<00:00,  3.78it/s]\n"
     ]
    },
    {
     "name": "stdout",
     "output_type": "stream",
     "text": [
      "Epoch 26 | Train Loss: 0.4120 | Train F1: 0.8584 | Val Loss: 0.2787 | Val F1: 0.9607\n"
     ]
    },
    {
     "name": "stderr",
     "output_type": "stream",
     "text": [
      "Loss: 0.4331: 100%|██████████| 126/126 [00:39<00:00,  3.17it/s]\n",
      "Val Loss: 0.1493: 100%|██████████| 32/32 [00:08<00:00,  3.77it/s]\n"
     ]
    },
    {
     "name": "stdout",
     "output_type": "stream",
     "text": [
      "Epoch 27 | Train Loss: 0.4339 | Train F1: 0.8333 | Val Loss: 0.2445 | Val F1: 0.9688\n"
     ]
    },
    {
     "name": "stderr",
     "output_type": "stream",
     "text": [
      "Loss: 0.5732: 100%|██████████| 126/126 [00:39<00:00,  3.17it/s]\n",
      "Val Loss: 0.1498: 100%|██████████| 32/32 [00:08<00:00,  3.85it/s]\n"
     ]
    },
    {
     "name": "stdout",
     "output_type": "stream",
     "text": [
      "Epoch 28 | Train Loss: 0.4055 | Train F1: 0.8592 | Val Loss: 0.2798 | Val F1: 0.9656\n"
     ]
    },
    {
     "name": "stderr",
     "output_type": "stream",
     "text": [
      "Loss: 0.1556: 100%|██████████| 126/126 [00:39<00:00,  3.17it/s]\n",
      "Val Loss: 0.1471: 100%|██████████| 32/32 [00:08<00:00,  3.81it/s]\n"
     ]
    },
    {
     "name": "stdout",
     "output_type": "stream",
     "text": [
      "Epoch 29 | Train Loss: 0.3404 | Train F1: 0.8826 | Val Loss: 0.2643 | Val F1: 0.9690\n"
     ]
    },
    {
     "name": "stderr",
     "output_type": "stream",
     "text": [
      "Loss: 1.3799: 100%|██████████| 126/126 [00:39<00:00,  3.18it/s]\n",
      "Val Loss: 0.1576: 100%|██████████| 32/32 [00:08<00:00,  3.76it/s]\n"
     ]
    },
    {
     "name": "stdout",
     "output_type": "stream",
     "text": [
      "Epoch 30 | Train Loss: 0.4074 | Train F1: 0.8547 | Val Loss: 0.2621 | Val F1: 0.9688\n"
     ]
    },
    {
     "name": "stderr",
     "output_type": "stream",
     "text": [
      "Loss: 0.1511: 100%|██████████| 126/126 [00:39<00:00,  3.17it/s]\n",
      "Val Loss: 0.1465: 100%|██████████| 32/32 [00:08<00:00,  3.80it/s]\n"
     ]
    },
    {
     "name": "stdout",
     "output_type": "stream",
     "text": [
      "Epoch 31 | Train Loss: 0.3487 | Train F1: 0.8873 | Val Loss: 0.2943 | Val F1: 0.9660\n"
     ]
    },
    {
     "name": "stderr",
     "output_type": "stream",
     "text": [
      "Loss: 0.3364: 100%|██████████| 126/126 [00:39<00:00,  3.17it/s]\n",
      "Val Loss: 0.1473: 100%|██████████| 32/32 [00:08<00:00,  3.83it/s]\n"
     ]
    },
    {
     "name": "stdout",
     "output_type": "stream",
     "text": [
      "Epoch 32 | Train Loss: 0.4037 | Train F1: 0.8576 | Val Loss: 0.3136 | Val F1: 0.9555\n"
     ]
    },
    {
     "name": "stderr",
     "output_type": "stream",
     "text": [
      "Loss: 0.1477: 100%|██████████| 126/126 [00:39<00:00,  3.17it/s]\n",
      "Val Loss: 0.1514: 100%|██████████| 32/32 [00:08<00:00,  3.80it/s]\n"
     ]
    },
    {
     "name": "stdout",
     "output_type": "stream",
     "text": [
      "Epoch 33 | Train Loss: 0.4113 | Train F1: 0.8417 | Val Loss: 0.3695 | Val F1: 0.9535\n"
     ]
    },
    {
     "name": "stderr",
     "output_type": "stream",
     "text": [
      "Loss: 0.1462: 100%|██████████| 126/126 [00:39<00:00,  3.17it/s]\n",
      "Val Loss: 0.1465: 100%|██████████| 32/32 [00:08<00:00,  3.81it/s]\n"
     ]
    },
    {
     "name": "stdout",
     "output_type": "stream",
     "text": [
      "Epoch 34 | Train Loss: 0.4441 | Train F1: 0.8501 | Val Loss: 0.2901 | Val F1: 0.9666\n"
     ]
    },
    {
     "name": "stderr",
     "output_type": "stream",
     "text": [
      "Loss: 0.1458: 100%|██████████| 126/126 [00:39<00:00,  3.17it/s]\n",
      "Val Loss: 0.1463: 100%|██████████| 32/32 [00:08<00:00,  3.78it/s]"
     ]
    },
    {
     "name": "stdout",
     "output_type": "stream",
     "text": [
      "Epoch 35 | Train Loss: 0.3955 | Train F1: 0.8731 | Val Loss: 0.2734 | Val F1: 0.9713\n"
     ]
    },
    {
     "name": "stderr",
     "output_type": "stream",
     "text": [
      "\n",
      "Loss: 0.1466: 100%|██████████| 126/126 [00:39<00:00,  3.17it/s]\n",
      "Val Loss: 0.1484: 100%|██████████| 32/32 [00:08<00:00,  3.79it/s]\n"
     ]
    },
    {
     "name": "stdout",
     "output_type": "stream",
     "text": [
      "Epoch 36 | Train Loss: 0.4288 | Train F1: 0.8441 | Val Loss: 0.2688 | Val F1: 0.9715\n"
     ]
    },
    {
     "name": "stderr",
     "output_type": "stream",
     "text": [
      "Loss: 1.0908: 100%|██████████| 126/126 [00:39<00:00,  3.17it/s]\n",
      "Val Loss: 0.1461: 100%|██████████| 32/32 [00:08<00:00,  3.80it/s]"
     ]
    },
    {
     "name": "stdout",
     "output_type": "stream",
     "text": [
      "Epoch 37 | Train Loss: 0.3895 | Train F1: 0.8674 | Val Loss: 0.2484 | Val F1: 0.9716\n"
     ]
    },
    {
     "name": "stderr",
     "output_type": "stream",
     "text": [
      "\n",
      "Loss: 0.1460: 100%|██████████| 126/126 [00:39<00:00,  3.17it/s]\n",
      "Val Loss: 0.1483: 100%|██████████| 32/32 [00:08<00:00,  3.81it/s]\n"
     ]
    },
    {
     "name": "stdout",
     "output_type": "stream",
     "text": [
      "Epoch 38 | Train Loss: 0.4300 | Train F1: 0.8179 | Val Loss: 0.2983 | Val F1: 0.9655\n"
     ]
    },
    {
     "name": "stderr",
     "output_type": "stream",
     "text": [
      "Loss: 0.1465: 100%|██████████| 126/126 [00:39<00:00,  3.18it/s]\n",
      "Val Loss: 0.1738: 100%|██████████| 32/32 [00:08<00:00,  3.81it/s]"
     ]
    },
    {
     "name": "stdout",
     "output_type": "stream",
     "text": [
      "Epoch 39 | Train Loss: 0.3534 | Train F1: 0.8723 | Val Loss: 0.2567 | Val F1: 0.9746\n"
     ]
    },
    {
     "name": "stderr",
     "output_type": "stream",
     "text": [
      "\n",
      "Loss: 0.1471: 100%|██████████| 126/126 [00:39<00:00,  3.17it/s]\n",
      "Val Loss: 0.1462: 100%|██████████| 32/32 [00:08<00:00,  3.80it/s]\n"
     ]
    },
    {
     "name": "stdout",
     "output_type": "stream",
     "text": [
      "Epoch 40 | Train Loss: 0.3669 | Train F1: 0.8608 | Val Loss: 0.3130 | Val F1: 0.9599\n"
     ]
    },
    {
     "name": "stderr",
     "output_type": "stream",
     "text": [
      "Loss: 0.4795: 100%|██████████| 126/126 [00:39<00:00,  3.17it/s]\n",
      "Val Loss: 0.1458: 100%|██████████| 32/32 [00:08<00:00,  3.74it/s]\n"
     ]
    },
    {
     "name": "stdout",
     "output_type": "stream",
     "text": [
      "Epoch 41 | Train Loss: 0.3401 | Train F1: 0.9062 | Val Loss: 0.3320 | Val F1: 0.9630\n"
     ]
    },
    {
     "name": "stderr",
     "output_type": "stream",
     "text": [
      "Loss: 0.1470: 100%|██████████| 126/126 [00:39<00:00,  3.18it/s]\n",
      "Val Loss: 0.1461: 100%|██████████| 32/32 [00:08<00:00,  3.83it/s]\n"
     ]
    },
    {
     "name": "stdout",
     "output_type": "stream",
     "text": [
      "Epoch 42 | Train Loss: 0.3304 | Train F1: 0.8816 | Val Loss: 0.2975 | Val F1: 0.9706\n"
     ]
    },
    {
     "name": "stderr",
     "output_type": "stream",
     "text": [
      "Loss: 0.3555: 100%|██████████| 126/126 [00:39<00:00,  3.18it/s]\n",
      "Val Loss: 0.1459: 100%|██████████| 32/32 [00:08<00:00,  3.78it/s]\n"
     ]
    },
    {
     "name": "stdout",
     "output_type": "stream",
     "text": [
      "Epoch 43 | Train Loss: 0.3640 | Train F1: 0.8656 | Val Loss: 0.3290 | Val F1: 0.9602\n"
     ]
    },
    {
     "name": "stderr",
     "output_type": "stream",
     "text": [
      "Loss: 0.1458: 100%|██████████| 126/126 [00:39<00:00,  3.17it/s]\n",
      "Val Loss: 0.1459: 100%|██████████| 32/32 [00:08<00:00,  3.85it/s]\n"
     ]
    },
    {
     "name": "stdout",
     "output_type": "stream",
     "text": [
      "Epoch 44 | Train Loss: 0.3477 | Train F1: 0.8699 | Val Loss: 0.2943 | Val F1: 0.9660\n"
     ]
    },
    {
     "name": "stderr",
     "output_type": "stream",
     "text": [
      "Loss: 0.1459: 100%|██████████| 126/126 [00:39<00:00,  3.17it/s]\n",
      "Val Loss: 0.1708: 100%|██████████| 32/32 [00:08<00:00,  3.85it/s]\n"
     ]
    },
    {
     "name": "stdout",
     "output_type": "stream",
     "text": [
      "Epoch 45 | Train Loss: 0.3630 | Train F1: 0.8354 | Val Loss: 0.2786 | Val F1: 0.9704\n"
     ]
    },
    {
     "name": "stderr",
     "output_type": "stream",
     "text": [
      "Loss: 0.1470: 100%|██████████| 126/126 [00:39<00:00,  3.16it/s]\n",
      "Val Loss: 1.1000: 100%|██████████| 32/32 [00:08<00:00,  3.80it/s]\n"
     ]
    },
    {
     "name": "stdout",
     "output_type": "stream",
     "text": [
      "Epoch 46 | Train Loss: 0.4128 | Train F1: 0.8695 | Val Loss: 0.3260 | Val F1: 0.9646\n"
     ]
    },
    {
     "name": "stderr",
     "output_type": "stream",
     "text": [
      "Loss: 0.8965: 100%|██████████| 126/126 [00:39<00:00,  3.17it/s]\n",
      "Val Loss: 0.1465: 100%|██████████| 32/32 [00:08<00:00,  3.75it/s]\n"
     ]
    },
    {
     "name": "stdout",
     "output_type": "stream",
     "text": [
      "Epoch 47 | Train Loss: 0.3994 | Train F1: 0.8847 | Val Loss: 0.2553 | Val F1: 0.9699\n"
     ]
    },
    {
     "name": "stderr",
     "output_type": "stream",
     "text": [
      "Loss: 0.1458: 100%|██████████| 126/126 [00:39<00:00,  3.17it/s]\n",
      "Val Loss: 0.1457: 100%|██████████| 32/32 [00:08<00:00,  3.84it/s]\n"
     ]
    },
    {
     "name": "stdout",
     "output_type": "stream",
     "text": [
      "Epoch 48 | Train Loss: 0.3312 | Train F1: 0.8931 | Val Loss: 0.3146 | Val F1: 0.9671\n"
     ]
    },
    {
     "name": "stderr",
     "output_type": "stream",
     "text": [
      "Loss: 0.5737: 100%|██████████| 126/126 [00:39<00:00,  3.17it/s]\n",
      "Val Loss: 0.1460: 100%|██████████| 32/32 [00:08<00:00,  3.80it/s]\n"
     ]
    },
    {
     "name": "stdout",
     "output_type": "stream",
     "text": [
      "Epoch 49 | Train Loss: 0.4302 | Train F1: 0.8262 | Val Loss: 0.3215 | Val F1: 0.9629\n"
     ]
    },
    {
     "name": "stderr",
     "output_type": "stream",
     "text": [
      "Loss: 0.1465: 100%|██████████| 126/126 [00:39<00:00,  3.18it/s]\n",
      "Val Loss: 0.1457: 100%|██████████| 32/32 [00:08<00:00,  3.84it/s]\n"
     ]
    },
    {
     "name": "stdout",
     "output_type": "stream",
     "text": [
      "Epoch 50 | Train Loss: 0.3328 | Train F1: 0.8757 | Val Loss: 0.2856 | Val F1: 0.9735\n"
     ]
    },
    {
     "name": "stderr",
     "output_type": "stream",
     "text": [
      "Loss: 1.2227: 100%|██████████| 126/126 [00:39<00:00,  3.17it/s]\n",
      "Val Loss: 0.1458: 100%|██████████| 32/32 [00:08<00:00,  3.81it/s]\n"
     ]
    },
    {
     "name": "stdout",
     "output_type": "stream",
     "text": [
      "Epoch 51 | Train Loss: 0.3374 | Train F1: 0.8875 | Val Loss: 0.3143 | Val F1: 0.9659\n"
     ]
    },
    {
     "name": "stderr",
     "output_type": "stream",
     "text": [
      "Loss: 0.1460: 100%|██████████| 126/126 [00:39<00:00,  3.18it/s]\n",
      "Val Loss: 0.1458: 100%|██████████| 32/32 [00:08<00:00,  3.84it/s]\n"
     ]
    },
    {
     "name": "stdout",
     "output_type": "stream",
     "text": [
      "Epoch 52 | Train Loss: 0.3298 | Train F1: 0.8823 | Val Loss: 0.3014 | Val F1: 0.9596\n"
     ]
    },
    {
     "name": "stderr",
     "output_type": "stream",
     "text": [
      "Loss: 0.1458: 100%|██████████| 126/126 [00:39<00:00,  3.18it/s]\n",
      "Val Loss: 0.1457: 100%|██████████| 32/32 [00:08<00:00,  3.83it/s]\n"
     ]
    },
    {
     "name": "stdout",
     "output_type": "stream",
     "text": [
      "Epoch 53 | Train Loss: 0.3571 | Train F1: 0.8362 | Val Loss: 0.2662 | Val F1: 0.9730\n"
     ]
    },
    {
     "name": "stderr",
     "output_type": "stream",
     "text": [
      "Loss: 0.1464: 100%|██████████| 126/126 [00:39<00:00,  3.18it/s]\n",
      "Val Loss: 0.1461: 100%|██████████| 32/32 [00:08<00:00,  3.79it/s]\n"
     ]
    },
    {
     "name": "stdout",
     "output_type": "stream",
     "text": [
      "Epoch 54 | Train Loss: 0.3601 | Train F1: 0.8582 | Val Loss: 0.3366 | Val F1: 0.9633\n"
     ]
    },
    {
     "name": "stderr",
     "output_type": "stream",
     "text": [
      "Loss: 0.1460: 100%|██████████| 126/126 [00:39<00:00,  3.18it/s]\n",
      "Val Loss: 0.1458: 100%|██████████| 32/32 [00:08<00:00,  3.81it/s]\n"
     ]
    },
    {
     "name": "stdout",
     "output_type": "stream",
     "text": [
      "Epoch 55 | Train Loss: 0.3885 | Train F1: 0.8822 | Val Loss: 0.2987 | Val F1: 0.9642\n"
     ]
    },
    {
     "name": "stderr",
     "output_type": "stream",
     "text": [
      "Loss: 0.1458: 100%|██████████| 126/126 [00:39<00:00,  3.18it/s]\n",
      "Val Loss: 0.1457: 100%|██████████| 32/32 [00:08<00:00,  3.83it/s]\n"
     ]
    },
    {
     "name": "stdout",
     "output_type": "stream",
     "text": [
      "Epoch 56 | Train Loss: 0.3294 | Train F1: 0.8825 | Val Loss: 0.2889 | Val F1: 0.9687\n"
     ]
    },
    {
     "name": "stderr",
     "output_type": "stream",
     "text": [
      "Loss: 0.1458: 100%|██████████| 126/126 [00:39<00:00,  3.17it/s]\n",
      "Val Loss: 0.1459: 100%|██████████| 32/32 [00:08<00:00,  3.82it/s]"
     ]
    },
    {
     "name": "stdout",
     "output_type": "stream",
     "text": [
      "Epoch 57 | Train Loss: 0.3228 | Train F1: 0.8604 | Val Loss: 0.2805 | Val F1: 0.9747\n"
     ]
    },
    {
     "name": "stderr",
     "output_type": "stream",
     "text": [
      "\n",
      "Loss: 0.1459: 100%|██████████| 126/126 [00:39<00:00,  3.19it/s]\n",
      "Val Loss: 0.1458: 100%|██████████| 32/32 [00:08<00:00,  3.83it/s]\n"
     ]
    },
    {
     "name": "stdout",
     "output_type": "stream",
     "text": [
      "Epoch 58 | Train Loss: 0.3368 | Train F1: 0.8802 | Val Loss: 0.3377 | Val F1: 0.9602\n"
     ]
    },
    {
     "name": "stderr",
     "output_type": "stream",
     "text": [
      "Loss: 0.6973: 100%|██████████| 126/126 [00:39<00:00,  3.19it/s]\n",
      "Val Loss: 0.1470: 100%|██████████| 32/32 [00:08<00:00,  3.84it/s]\n"
     ]
    },
    {
     "name": "stdout",
     "output_type": "stream",
     "text": [
      "Epoch 59 | Train Loss: 0.3788 | Train F1: 0.8514 | Val Loss: 0.2933 | Val F1: 0.9659\n"
     ]
    },
    {
     "name": "stderr",
     "output_type": "stream",
     "text": [
      "Loss: 0.1458: 100%|██████████| 126/126 [00:39<00:00,  3.18it/s]\n",
      "Val Loss: 0.1457: 100%|██████████| 32/32 [00:08<00:00,  3.83it/s]\n"
     ]
    },
    {
     "name": "stdout",
     "output_type": "stream",
     "text": [
      "Epoch 60 | Train Loss: 0.3456 | Train F1: 0.8403 | Val Loss: 0.2938 | Val F1: 0.9736\n"
     ]
    },
    {
     "name": "stderr",
     "output_type": "stream",
     "text": [
      "Loss: 0.1465: 100%|██████████| 126/126 [00:39<00:00,  3.18it/s]\n",
      "Val Loss: 0.1456: 100%|██████████| 32/32 [00:08<00:00,  3.81it/s]\n"
     ]
    },
    {
     "name": "stdout",
     "output_type": "stream",
     "text": [
      "Epoch 61 | Train Loss: 0.3116 | Train F1: 0.8704 | Val Loss: 0.2979 | Val F1: 0.9653\n"
     ]
    },
    {
     "name": "stderr",
     "output_type": "stream",
     "text": [
      "Loss: 0.1458: 100%|██████████| 126/126 [00:39<00:00,  3.17it/s]\n",
      "Val Loss: 0.1457: 100%|██████████| 32/32 [00:08<00:00,  3.85it/s]\n"
     ]
    },
    {
     "name": "stdout",
     "output_type": "stream",
     "text": [
      "Epoch 62 | Train Loss: 0.3700 | Train F1: 0.8540 | Val Loss: 0.2765 | Val F1: 0.9711\n"
     ]
    },
    {
     "name": "stderr",
     "output_type": "stream",
     "text": [
      "Loss: 0.9238: 100%|██████████| 126/126 [00:39<00:00,  3.19it/s]\n",
      "Val Loss: 0.1457: 100%|██████████| 32/32 [00:08<00:00,  3.81it/s]\n"
     ]
    },
    {
     "name": "stdout",
     "output_type": "stream",
     "text": [
      "Epoch 63 | Train Loss: 0.3760 | Train F1: 0.8468 | Val Loss: 0.2917 | Val F1: 0.9690\n"
     ]
    },
    {
     "name": "stderr",
     "output_type": "stream",
     "text": [
      "Loss: 0.1459: 100%|██████████| 126/126 [00:39<00:00,  3.18it/s]\n",
      "Val Loss: 0.1458: 100%|██████████| 32/32 [00:08<00:00,  3.79it/s]\n"
     ]
    },
    {
     "name": "stdout",
     "output_type": "stream",
     "text": [
      "Epoch 64 | Train Loss: 0.3319 | Train F1: 0.8584 | Val Loss: 0.3162 | Val F1: 0.9659\n"
     ]
    },
    {
     "name": "stderr",
     "output_type": "stream",
     "text": [
      "Loss: 0.1456: 100%|██████████| 126/126 [00:39<00:00,  3.19it/s]\n",
      "Val Loss: 0.1457: 100%|██████████| 32/32 [00:08<00:00,  3.77it/s]\n"
     ]
    },
    {
     "name": "stdout",
     "output_type": "stream",
     "text": [
      "Epoch 65 | Train Loss: 0.3443 | Train F1: 0.8897 | Val Loss: 0.3135 | Val F1: 0.9683\n"
     ]
    },
    {
     "name": "stderr",
     "output_type": "stream",
     "text": [
      "Loss: 0.1458: 100%|██████████| 126/126 [00:39<00:00,  3.18it/s]\n",
      "Val Loss: 0.1458: 100%|██████████| 32/32 [00:08<00:00,  3.81it/s]\n"
     ]
    },
    {
     "name": "stdout",
     "output_type": "stream",
     "text": [
      "Epoch 66 | Train Loss: 0.3426 | Train F1: 0.8729 | Val Loss: 0.2703 | Val F1: 0.9704\n"
     ]
    },
    {
     "name": "stderr",
     "output_type": "stream",
     "text": [
      "Loss: 0.1458: 100%|██████████| 126/126 [00:39<00:00,  3.18it/s]\n",
      "Val Loss: 0.1457: 100%|██████████| 32/32 [00:08<00:00,  3.79it/s]\n"
     ]
    },
    {
     "name": "stdout",
     "output_type": "stream",
     "text": [
      "Epoch 67 | Train Loss: 0.3657 | Train F1: 0.8663 | Val Loss: 0.2988 | Val F1: 0.9690\n"
     ]
    },
    {
     "name": "stderr",
     "output_type": "stream",
     "text": [
      "Loss: 0.1458: 100%|██████████| 126/126 [00:39<00:00,  3.18it/s]\n",
      "Val Loss: 0.1457: 100%|██████████| 32/32 [00:08<00:00,  3.81it/s]\n"
     ]
    },
    {
     "name": "stdout",
     "output_type": "stream",
     "text": [
      "Epoch 68 | Train Loss: 0.3017 | Train F1: 0.8659 | Val Loss: 0.3024 | Val F1: 0.9682\n"
     ]
    },
    {
     "name": "stderr",
     "output_type": "stream",
     "text": [
      "Loss: 0.6514: 100%|██████████| 126/126 [00:39<00:00,  3.18it/s]\n",
      "Val Loss: 0.1457: 100%|██████████| 32/32 [00:08<00:00,  3.81it/s]\n"
     ]
    },
    {
     "name": "stdout",
     "output_type": "stream",
     "text": [
      "Epoch 69 | Train Loss: 0.3316 | Train F1: 0.8810 | Val Loss: 0.2980 | Val F1: 0.9655\n"
     ]
    },
    {
     "name": "stderr",
     "output_type": "stream",
     "text": [
      "Loss: 0.1458: 100%|██████████| 126/126 [00:39<00:00,  3.18it/s]\n",
      "Val Loss: 0.1457: 100%|██████████| 32/32 [00:08<00:00,  3.79it/s]\n"
     ]
    },
    {
     "name": "stdout",
     "output_type": "stream",
     "text": [
      "Epoch 70 | Train Loss: 0.3576 | Train F1: 0.8459 | Val Loss: 0.2721 | Val F1: 0.9735\n"
     ]
    },
    {
     "name": "stderr",
     "output_type": "stream",
     "text": [
      "Loss: 1.4932: 100%|██████████| 126/126 [00:39<00:00,  3.18it/s]\n",
      "Val Loss: 0.1457: 100%|██████████| 32/32 [00:08<00:00,  3.81it/s]"
     ]
    },
    {
     "name": "stdout",
     "output_type": "stream",
     "text": [
      "Epoch 71 | Train Loss: 0.3416 | Train F1: 0.8502 | Val Loss: 0.2660 | Val F1: 0.9765\n"
     ]
    },
    {
     "name": "stderr",
     "output_type": "stream",
     "text": [
      "\n",
      "Loss: 0.1458: 100%|██████████| 126/126 [00:39<00:00,  3.18it/s]\n",
      "Val Loss: 0.1457: 100%|██████████| 32/32 [00:08<00:00,  3.83it/s]\n"
     ]
    },
    {
     "name": "stdout",
     "output_type": "stream",
     "text": [
      "Epoch 72 | Train Loss: 0.3218 | Train F1: 0.8587 | Val Loss: 0.3016 | Val F1: 0.9600\n"
     ]
    },
    {
     "name": "stderr",
     "output_type": "stream",
     "text": [
      "Loss: 0.2964: 100%|██████████| 126/126 [00:39<00:00,  3.18it/s]\n",
      "Val Loss: 0.1456: 100%|██████████| 32/32 [00:08<00:00,  3.83it/s]\n"
     ]
    },
    {
     "name": "stdout",
     "output_type": "stream",
     "text": [
      "Epoch 73 | Train Loss: 0.3084 | Train F1: 0.8740 | Val Loss: 0.2885 | Val F1: 0.9715\n"
     ]
    },
    {
     "name": "stderr",
     "output_type": "stream",
     "text": [
      "Loss: 0.3823: 100%|██████████| 126/126 [00:39<00:00,  3.19it/s]\n",
      "Val Loss: 0.1457: 100%|██████████| 32/32 [00:08<00:00,  3.77it/s]\n"
     ]
    },
    {
     "name": "stdout",
     "output_type": "stream",
     "text": [
      "Epoch 74 | Train Loss: 0.3124 | Train F1: 0.8909 | Val Loss: 0.3024 | Val F1: 0.9690\n"
     ]
    },
    {
     "name": "stderr",
     "output_type": "stream",
     "text": [
      "Loss: 0.1458: 100%|██████████| 126/126 [00:39<00:00,  3.18it/s]\n",
      "Val Loss: 0.1457: 100%|██████████| 32/32 [00:08<00:00,  3.76it/s]\n"
     ]
    },
    {
     "name": "stdout",
     "output_type": "stream",
     "text": [
      "Epoch 75 | Train Loss: 0.3209 | Train F1: 0.8757 | Val Loss: 0.2912 | Val F1: 0.9736\n"
     ]
    },
    {
     "name": "stderr",
     "output_type": "stream",
     "text": [
      "Loss: 0.1458: 100%|██████████| 126/126 [00:39<00:00,  3.19it/s]\n",
      "Val Loss: 0.1457: 100%|██████████| 32/32 [00:08<00:00,  3.78it/s]\n"
     ]
    },
    {
     "name": "stdout",
     "output_type": "stream",
     "text": [
      "Epoch 76 | Train Loss: 0.3614 | Train F1: 0.7980 | Val Loss: 0.3178 | Val F1: 0.9671\n"
     ]
    },
    {
     "name": "stderr",
     "output_type": "stream",
     "text": [
      "Loss: 0.6514: 100%|██████████| 126/126 [00:39<00:00,  3.17it/s]\n",
      "Val Loss: 0.1457: 100%|██████████| 32/32 [00:08<00:00,  3.79it/s]\n"
     ]
    },
    {
     "name": "stdout",
     "output_type": "stream",
     "text": [
      "Epoch 77 | Train Loss: 0.3368 | Train F1: 0.8879 | Val Loss: 0.2758 | Val F1: 0.9717\n"
     ]
    },
    {
     "name": "stderr",
     "output_type": "stream",
     "text": [
      "Loss: 0.1456: 100%|██████████| 126/126 [00:39<00:00,  3.17it/s]\n",
      "Val Loss: 0.1456: 100%|██████████| 32/32 [00:08<00:00,  3.80it/s]\n"
     ]
    },
    {
     "name": "stdout",
     "output_type": "stream",
     "text": [
      "Epoch 78 | Train Loss: 0.3244 | Train F1: 0.8349 | Val Loss: 0.3115 | Val F1: 0.9655\n"
     ]
    },
    {
     "name": "stderr",
     "output_type": "stream",
     "text": [
      "Loss: 0.1456: 100%|██████████| 126/126 [00:39<00:00,  3.18it/s]\n",
      "Val Loss: 0.1456: 100%|██████████| 32/32 [00:08<00:00,  3.81it/s]\n"
     ]
    },
    {
     "name": "stdout",
     "output_type": "stream",
     "text": [
      "Epoch 79 | Train Loss: 0.3181 | Train F1: 0.8874 | Val Loss: 0.2981 | Val F1: 0.9682\n"
     ]
    },
    {
     "name": "stderr",
     "output_type": "stream",
     "text": [
      "Loss: 0.8916: 100%|██████████| 126/126 [00:39<00:00,  3.17it/s]\n",
      "Val Loss: 0.1456: 100%|██████████| 32/32 [00:08<00:00,  3.84it/s]\n"
     ]
    },
    {
     "name": "stdout",
     "output_type": "stream",
     "text": [
      "Epoch 80 | Train Loss: 0.3687 | Train F1: 0.8373 | Val Loss: 0.2962 | Val F1: 0.9687\n"
     ]
    },
    {
     "name": "stderr",
     "output_type": "stream",
     "text": [
      "Loss: 0.1455: 100%|██████████| 126/126 [00:39<00:00,  3.18it/s]\n",
      "Val Loss: 0.1456: 100%|██████████| 32/32 [00:08<00:00,  3.80it/s]\n"
     ]
    },
    {
     "name": "stdout",
     "output_type": "stream",
     "text": [
      "Epoch 81 | Train Loss: 0.3565 | Train F1: 0.8769 | Val Loss: 0.3068 | Val F1: 0.9690\n"
     ]
    },
    {
     "name": "stderr",
     "output_type": "stream",
     "text": [
      "Loss: 0.1455: 100%|██████████| 126/126 [00:39<00:00,  3.18it/s]\n",
      "Val Loss: 0.1456: 100%|██████████| 32/32 [00:08<00:00,  3.82it/s]\n"
     ]
    },
    {
     "name": "stdout",
     "output_type": "stream",
     "text": [
      "Epoch 82 | Train Loss: 0.3183 | Train F1: 0.8900 | Val Loss: 0.2870 | Val F1: 0.9690\n"
     ]
    },
    {
     "name": "stderr",
     "output_type": "stream",
     "text": [
      "Loss: 0.1456: 100%|██████████| 126/126 [00:39<00:00,  3.19it/s]\n",
      "Val Loss: 0.1456: 100%|██████████| 32/32 [00:08<00:00,  3.83it/s]\n"
     ]
    },
    {
     "name": "stdout",
     "output_type": "stream",
     "text": [
      "Epoch 83 | Train Loss: 0.3475 | Train F1: 0.8554 | Val Loss: 0.2757 | Val F1: 0.9760\n"
     ]
    },
    {
     "name": "stderr",
     "output_type": "stream",
     "text": [
      "Loss: 0.5166: 100%|██████████| 126/126 [00:39<00:00,  3.18it/s]\n",
      "Val Loss: 0.1456: 100%|██████████| 32/32 [00:08<00:00,  3.80it/s]\n"
     ]
    },
    {
     "name": "stdout",
     "output_type": "stream",
     "text": [
      "Epoch 84 | Train Loss: 0.3554 | Train F1: 0.8559 | Val Loss: 0.3117 | Val F1: 0.9687\n"
     ]
    },
    {
     "name": "stderr",
     "output_type": "stream",
     "text": [
      "Loss: 0.1459: 100%|██████████| 126/126 [00:39<00:00,  3.18it/s]\n",
      "Val Loss: 0.1456: 100%|██████████| 32/32 [00:08<00:00,  3.80it/s]\n"
     ]
    },
    {
     "name": "stdout",
     "output_type": "stream",
     "text": [
      "Epoch 85 | Train Loss: 0.3378 | Train F1: 0.8666 | Val Loss: 0.3092 | Val F1: 0.9653\n"
     ]
    },
    {
     "name": "stderr",
     "output_type": "stream",
     "text": [
      "Loss: 0.1456: 100%|██████████| 126/126 [00:39<00:00,  3.19it/s]\n",
      "Val Loss: 0.1456: 100%|██████████| 32/32 [00:08<00:00,  3.78it/s]\n"
     ]
    },
    {
     "name": "stdout",
     "output_type": "stream",
     "text": [
      "Epoch 86 | Train Loss: 0.3169 | Train F1: 0.8981 | Val Loss: 0.3061 | Val F1: 0.9736\n"
     ]
    },
    {
     "name": "stderr",
     "output_type": "stream",
     "text": [
      "Loss: 0.1949: 100%|██████████| 126/126 [00:39<00:00,  3.19it/s]\n",
      "Val Loss: 0.1456: 100%|██████████| 32/32 [00:08<00:00,  3.77it/s]\n"
     ]
    },
    {
     "name": "stdout",
     "output_type": "stream",
     "text": [
      "Epoch 87 | Train Loss: 0.3450 | Train F1: 0.8851 | Val Loss: 0.3070 | Val F1: 0.9733\n"
     ]
    },
    {
     "name": "stderr",
     "output_type": "stream",
     "text": [
      "Loss: 0.1455: 100%|██████████| 126/126 [00:39<00:00,  3.19it/s]\n",
      "Val Loss: 0.1457: 100%|██████████| 32/32 [00:08<00:00,  3.75it/s]\n"
     ]
    },
    {
     "name": "stdout",
     "output_type": "stream",
     "text": [
      "Epoch 88 | Train Loss: 0.3136 | Train F1: 0.8835 | Val Loss: 0.2800 | Val F1: 0.9760\n"
     ]
    },
    {
     "name": "stderr",
     "output_type": "stream",
     "text": [
      "Loss: 0.1455: 100%|██████████| 126/126 [00:39<00:00,  3.18it/s]\n",
      "Val Loss: 0.1456: 100%|██████████| 32/32 [00:08<00:00,  3.78it/s]\n"
     ]
    },
    {
     "name": "stdout",
     "output_type": "stream",
     "text": [
      "Epoch 89 | Train Loss: 0.3232 | Train F1: 0.8809 | Val Loss: 0.3089 | Val F1: 0.9659\n"
     ]
    },
    {
     "name": "stderr",
     "output_type": "stream",
     "text": [
      "Loss: 0.1456: 100%|██████████| 126/126 [00:39<00:00,  3.19it/s]\n",
      "Val Loss: 0.1456: 100%|██████████| 32/32 [00:08<00:00,  3.80it/s]\n"
     ]
    },
    {
     "name": "stdout",
     "output_type": "stream",
     "text": [
      "Epoch 90 | Train Loss: 0.3042 | Train F1: 0.8779 | Val Loss: 0.3179 | Val F1: 0.9687\n"
     ]
    },
    {
     "name": "stderr",
     "output_type": "stream",
     "text": [
      "Loss: 1.0391: 100%|██████████| 126/126 [00:39<00:00,  3.17it/s]\n",
      "Val Loss: 0.1456: 100%|██████████| 32/32 [00:08<00:00,  3.83it/s]\n"
     ]
    },
    {
     "name": "stdout",
     "output_type": "stream",
     "text": [
      "Epoch 91 | Train Loss: 0.3499 | Train F1: 0.8354 | Val Loss: 0.2918 | Val F1: 0.9733\n"
     ]
    },
    {
     "name": "stderr",
     "output_type": "stream",
     "text": [
      "Loss: 0.1456: 100%|██████████| 126/126 [00:39<00:00,  3.19it/s]\n",
      "Val Loss: 0.1457: 100%|██████████| 32/32 [00:08<00:00,  3.80it/s]\n"
     ]
    },
    {
     "name": "stdout",
     "output_type": "stream",
     "text": [
      "Epoch 92 | Train Loss: 0.3328 | Train F1: 0.8451 | Val Loss: 0.2951 | Val F1: 0.9715\n"
     ]
    },
    {
     "name": "stderr",
     "output_type": "stream",
     "text": [
      "Loss: 0.1456: 100%|██████████| 126/126 [00:39<00:00,  3.20it/s]\n",
      "Val Loss: 0.1456: 100%|██████████| 32/32 [00:08<00:00,  3.80it/s]\n"
     ]
    },
    {
     "name": "stdout",
     "output_type": "stream",
     "text": [
      "Epoch 93 | Train Loss: 0.3232 | Train F1: 0.9110 | Val Loss: 0.3105 | Val F1: 0.9690\n"
     ]
    },
    {
     "name": "stderr",
     "output_type": "stream",
     "text": [
      "Loss: 0.1455: 100%|██████████| 126/126 [00:39<00:00,  3.18it/s]\n",
      "Val Loss: 0.1456: 100%|██████████| 32/32 [00:08<00:00,  3.83it/s]\n"
     ]
    },
    {
     "name": "stdout",
     "output_type": "stream",
     "text": [
      "Epoch 94 | Train Loss: 0.3242 | Train F1: 0.9014 | Val Loss: 0.3055 | Val F1: 0.9681\n"
     ]
    },
    {
     "name": "stderr",
     "output_type": "stream",
     "text": [
      "Loss: 0.5806: 100%|██████████| 126/126 [00:39<00:00,  3.19it/s]\n",
      "Val Loss: 0.1456: 100%|██████████| 32/32 [00:08<00:00,  3.81it/s]\n"
     ]
    },
    {
     "name": "stdout",
     "output_type": "stream",
     "text": [
      "Epoch 95 | Train Loss: 0.3490 | Train F1: 0.8592 | Val Loss: 0.3352 | Val F1: 0.9640\n"
     ]
    },
    {
     "name": "stderr",
     "output_type": "stream",
     "text": [
      "Loss: 0.5991: 100%|██████████| 126/126 [00:39<00:00,  3.19it/s]\n",
      "Val Loss: 0.1456: 100%|██████████| 32/32 [00:08<00:00,  3.81it/s]\n"
     ]
    },
    {
     "name": "stdout",
     "output_type": "stream",
     "text": [
      "Epoch 96 | Train Loss: 0.3121 | Train F1: 0.9157 | Val Loss: 0.3146 | Val F1: 0.9665\n"
     ]
    },
    {
     "name": "stderr",
     "output_type": "stream",
     "text": [
      "Loss: 0.1456: 100%|██████████| 126/126 [00:39<00:00,  3.19it/s]\n",
      "Val Loss: 0.1456: 100%|██████████| 32/32 [00:08<00:00,  3.88it/s]\n"
     ]
    },
    {
     "name": "stdout",
     "output_type": "stream",
     "text": [
      "Epoch 97 | Train Loss: 0.2801 | Train F1: 0.9019 | Val Loss: 0.2929 | Val F1: 0.9687\n"
     ]
    },
    {
     "name": "stderr",
     "output_type": "stream",
     "text": [
      "Loss: 0.1456: 100%|██████████| 126/126 [00:39<00:00,  3.19it/s]\n",
      "Val Loss: 0.1457: 100%|██████████| 32/32 [00:08<00:00,  3.88it/s]\n"
     ]
    },
    {
     "name": "stdout",
     "output_type": "stream",
     "text": [
      "Epoch 98 | Train Loss: 0.3170 | Train F1: 0.8720 | Val Loss: 0.2742 | Val F1: 0.9760\n"
     ]
    },
    {
     "name": "stderr",
     "output_type": "stream",
     "text": [
      "Loss: 0.1458: 100%|██████████| 126/126 [00:39<00:00,  3.19it/s]\n",
      "Val Loss: 0.1456: 100%|██████████| 32/32 [00:08<00:00,  3.83it/s]\n"
     ]
    },
    {
     "name": "stdout",
     "output_type": "stream",
     "text": [
      "Epoch 99 | Train Loss: 0.3480 | Train F1: 0.8592 | Val Loss: 0.3156 | Val F1: 0.9690\n"
     ]
    },
    {
     "name": "stderr",
     "output_type": "stream",
     "text": [
      "Loss: 0.1456: 100%|██████████| 126/126 [00:39<00:00,  3.18it/s]\n",
      "Val Loss: 0.1456: 100%|██████████| 32/32 [00:08<00:00,  3.82it/s]\n"
     ]
    },
    {
     "name": "stdout",
     "output_type": "stream",
     "text": [
      "Epoch 100 | Train Loss: 0.2996 | Train F1: 0.8970 | Val Loss: 0.2911 | Val F1: 0.9729\n",
      "Fold 1 Best Validation F1: 0.9765\n",
      "\n",
      "==================================================\n",
      "FOLD 2/5\n",
      "==================================================\n",
      "Train samples: 1256, Validation samples: 314\n"
     ]
    },
    {
     "name": "stderr",
     "output_type": "stream",
     "text": [
      "Loss: 0.8438: 100%|██████████| 126/126 [00:39<00:00,  3.18it/s]\n",
      "Val Loss: 0.6472: 100%|██████████| 32/32 [00:08<00:00,  3.81it/s]"
     ]
    },
    {
     "name": "stdout",
     "output_type": "stream",
     "text": [
      "Epoch  1 | Train Loss: 1.5806 | Train F1: 0.4825 | Val Loss: 0.6435 | Val F1: 0.7793\n"
     ]
    },
    {
     "name": "stderr",
     "output_type": "stream",
     "text": [
      "\n",
      "Loss: 1.1387: 100%|██████████| 126/126 [00:39<00:00,  3.16it/s]\n",
      "Val Loss: 0.3868: 100%|██████████| 32/32 [00:08<00:00,  3.80it/s]"
     ]
    },
    {
     "name": "stdout",
     "output_type": "stream",
     "text": [
      "Epoch  2 | Train Loss: 0.8803 | Train F1: 0.6880 | Val Loss: 0.4619 | Val F1: 0.8325\n"
     ]
    },
    {
     "name": "stderr",
     "output_type": "stream",
     "text": [
      "\n",
      "Loss: 0.2786: 100%|██████████| 126/126 [00:39<00:00,  3.16it/s]\n",
      "Val Loss: 0.9284: 100%|██████████| 32/32 [00:08<00:00,  3.76it/s]\n"
     ]
    },
    {
     "name": "stdout",
     "output_type": "stream",
     "text": [
      "Epoch  3 | Train Loss: 0.7195 | Train F1: 0.7407 | Val Loss: 0.5002 | Val F1: 0.8562\n"
     ]
    },
    {
     "name": "stderr",
     "output_type": "stream",
     "text": [
      "Loss: 0.4443: 100%|██████████| 126/126 [00:39<00:00,  3.17it/s]\n",
      "Val Loss: 0.8271: 100%|██████████| 32/32 [00:08<00:00,  3.82it/s]"
     ]
    },
    {
     "name": "stdout",
     "output_type": "stream",
     "text": [
      "Epoch  4 | Train Loss: 0.6815 | Train F1: 0.7318 | Val Loss: 0.3895 | Val F1: 0.8900\n"
     ]
    },
    {
     "name": "stderr",
     "output_type": "stream",
     "text": [
      "\n",
      "Loss: 0.3467: 100%|██████████| 126/126 [00:39<00:00,  3.15it/s]\n",
      "Val Loss: 0.2563: 100%|██████████| 32/32 [00:08<00:00,  3.77it/s]"
     ]
    },
    {
     "name": "stdout",
     "output_type": "stream",
     "text": [
      "Epoch  5 | Train Loss: 0.5514 | Train F1: 0.8453 | Val Loss: 0.3049 | Val F1: 0.9427\n"
     ]
    },
    {
     "name": "stderr",
     "output_type": "stream",
     "text": [
      "\n",
      "Loss: 0.1659: 100%|██████████| 126/126 [00:39<00:00,  3.16it/s]\n",
      "Val Loss: 0.3342: 100%|██████████| 32/32 [00:08<00:00,  3.79it/s]\n"
     ]
    },
    {
     "name": "stdout",
     "output_type": "stream",
     "text": [
      "Epoch  6 | Train Loss: 0.6080 | Train F1: 0.8015 | Val Loss: 0.3446 | Val F1: 0.8901\n"
     ]
    },
    {
     "name": "stderr",
     "output_type": "stream",
     "text": [
      "Loss: 0.1736: 100%|██████████| 126/126 [00:39<00:00,  3.16it/s]\n",
      "Val Loss: 0.6357: 100%|██████████| 32/32 [00:08<00:00,  3.79it/s]\n"
     ]
    },
    {
     "name": "stdout",
     "output_type": "stream",
     "text": [
      "Epoch  7 | Train Loss: 0.5950 | Train F1: 0.8131 | Val Loss: 0.3485 | Val F1: 0.9045\n"
     ]
    },
    {
     "name": "stderr",
     "output_type": "stream",
     "text": [
      "Loss: 0.1506: 100%|██████████| 126/126 [00:39<00:00,  3.16it/s]\n",
      "Val Loss: 0.5158: 100%|██████████| 32/32 [00:08<00:00,  3.81it/s]\n"
     ]
    },
    {
     "name": "stdout",
     "output_type": "stream",
     "text": [
      "Epoch  8 | Train Loss: 0.5364 | Train F1: 0.8060 | Val Loss: 0.3042 | Val F1: 0.9354\n"
     ]
    },
    {
     "name": "stderr",
     "output_type": "stream",
     "text": [
      "Loss: 1.1729: 100%|██████████| 126/126 [00:39<00:00,  3.17it/s]\n",
      "Val Loss: 0.2209: 100%|██████████| 32/32 [00:08<00:00,  3.76it/s]\n"
     ]
    },
    {
     "name": "stdout",
     "output_type": "stream",
     "text": [
      "Epoch  9 | Train Loss: 0.5480 | Train F1: 0.8446 | Val Loss: 0.3328 | Val F1: 0.9322\n"
     ]
    },
    {
     "name": "stderr",
     "output_type": "stream",
     "text": [
      "Loss: 0.2720: 100%|██████████| 126/126 [00:39<00:00,  3.16it/s]\n",
      "Val Loss: 0.1649: 100%|██████████| 32/32 [00:08<00:00,  3.74it/s]\n"
     ]
    },
    {
     "name": "stdout",
     "output_type": "stream",
     "text": [
      "Epoch 10 | Train Loss: 0.4694 | Train F1: 0.8340 | Val Loss: 0.3412 | Val F1: 0.9414\n"
     ]
    },
    {
     "name": "stderr",
     "output_type": "stream",
     "text": [
      "Loss: 0.1492: 100%|██████████| 126/126 [00:39<00:00,  3.17it/s]\n",
      "Val Loss: 0.1834: 100%|██████████| 32/32 [00:08<00:00,  3.78it/s]\n"
     ]
    },
    {
     "name": "stdout",
     "output_type": "stream",
     "text": [
      "Epoch 11 | Train Loss: 0.5451 | Train F1: 0.7801 | Val Loss: 0.3086 | Val F1: 0.9414\n"
     ]
    },
    {
     "name": "stderr",
     "output_type": "stream",
     "text": [
      "Loss: 0.2302: 100%|██████████| 126/126 [00:39<00:00,  3.17it/s]\n",
      "Val Loss: 0.7982: 100%|██████████| 32/32 [00:08<00:00,  3.79it/s]\n"
     ]
    },
    {
     "name": "stdout",
     "output_type": "stream",
     "text": [
      "Epoch 12 | Train Loss: 0.4474 | Train F1: 0.8349 | Val Loss: 0.3628 | Val F1: 0.9294\n"
     ]
    },
    {
     "name": "stderr",
     "output_type": "stream",
     "text": [
      "Loss: 1.2451: 100%|██████████| 126/126 [00:39<00:00,  3.16it/s]\n",
      "Val Loss: 0.1508: 100%|██████████| 32/32 [00:08<00:00,  3.75it/s]"
     ]
    },
    {
     "name": "stdout",
     "output_type": "stream",
     "text": [
      "Epoch 13 | Train Loss: 0.4974 | Train F1: 0.8582 | Val Loss: 0.2980 | Val F1: 0.9586\n"
     ]
    },
    {
     "name": "stderr",
     "output_type": "stream",
     "text": [
      "\n",
      "Loss: 0.1503: 100%|██████████| 126/126 [00:39<00:00,  3.17it/s]\n",
      "Val Loss: 0.1550: 100%|██████████| 32/32 [00:08<00:00,  3.79it/s]\n"
     ]
    },
    {
     "name": "stdout",
     "output_type": "stream",
     "text": [
      "Epoch 14 | Train Loss: 0.4327 | Train F1: 0.8495 | Val Loss: 0.3271 | Val F1: 0.9478\n"
     ]
    },
    {
     "name": "stderr",
     "output_type": "stream",
     "text": [
      "Loss: 1.3398: 100%|██████████| 126/126 [00:39<00:00,  3.17it/s]\n",
      "Val Loss: 0.1912: 100%|██████████| 32/32 [00:08<00:00,  3.80it/s]\n"
     ]
    },
    {
     "name": "stdout",
     "output_type": "stream",
     "text": [
      "Epoch 15 | Train Loss: 0.4838 | Train F1: 0.8634 | Val Loss: 0.3709 | Val F1: 0.9125\n"
     ]
    },
    {
     "name": "stderr",
     "output_type": "stream",
     "text": [
      "Loss: 0.1514: 100%|██████████| 126/126 [00:39<00:00,  3.16it/s]\n",
      "Val Loss: 0.5927: 100%|██████████| 32/32 [00:08<00:00,  3.81it/s]"
     ]
    },
    {
     "name": "stdout",
     "output_type": "stream",
     "text": [
      "Epoch 16 | Train Loss: 0.4136 | Train F1: 0.8202 | Val Loss: 0.2933 | Val F1: 0.9638\n"
     ]
    },
    {
     "name": "stderr",
     "output_type": "stream",
     "text": [
      "\n",
      "Loss: 0.8232: 100%|██████████| 126/126 [00:39<00:00,  3.17it/s]\n",
      "Val Loss: 0.2091: 100%|██████████| 32/32 [00:08<00:00,  3.83it/s]\n"
     ]
    },
    {
     "name": "stdout",
     "output_type": "stream",
     "text": [
      "Epoch 17 | Train Loss: 0.5037 | Train F1: 0.8143 | Val Loss: 0.2733 | Val F1: 0.9632\n"
     ]
    },
    {
     "name": "stderr",
     "output_type": "stream",
     "text": [
      "Loss: 0.2007: 100%|██████████| 126/126 [00:39<00:00,  3.17it/s]\n",
      "Val Loss: 1.2701: 100%|██████████| 32/32 [00:08<00:00,  3.79it/s]"
     ]
    },
    {
     "name": "stdout",
     "output_type": "stream",
     "text": [
      "Epoch 18 | Train Loss: 0.4915 | Train F1: 0.8276 | Val Loss: 0.3024 | Val F1: 0.9648\n"
     ]
    },
    {
     "name": "stderr",
     "output_type": "stream",
     "text": [
      "\n",
      "Loss: 0.1580: 100%|██████████| 126/126 [00:39<00:00,  3.17it/s]\n",
      "Val Loss: 0.7866: 100%|██████████| 32/32 [00:08<00:00,  3.85it/s]\n"
     ]
    },
    {
     "name": "stdout",
     "output_type": "stream",
     "text": [
      "Epoch 19 | Train Loss: 0.4971 | Train F1: 0.8431 | Val Loss: 0.3588 | Val F1: 0.9437\n"
     ]
    },
    {
     "name": "stderr",
     "output_type": "stream",
     "text": [
      "Loss: 0.1476: 100%|██████████| 126/126 [00:39<00:00,  3.17it/s]\n",
      "Val Loss: 0.1482: 100%|██████████| 32/32 [00:08<00:00,  3.80it/s]\n"
     ]
    },
    {
     "name": "stdout",
     "output_type": "stream",
     "text": [
      "Epoch 20 | Train Loss: 0.4257 | Train F1: 0.8558 | Val Loss: 0.2666 | Val F1: 0.9636\n"
     ]
    },
    {
     "name": "stderr",
     "output_type": "stream",
     "text": [
      "Loss: 0.4924: 100%|██████████| 126/126 [00:39<00:00,  3.17it/s]\n",
      "Val Loss: 0.1566: 100%|██████████| 32/32 [00:08<00:00,  3.76it/s]\n"
     ]
    },
    {
     "name": "stdout",
     "output_type": "stream",
     "text": [
      "Epoch 21 | Train Loss: 0.3693 | Train F1: 0.8878 | Val Loss: 0.2740 | Val F1: 0.9599\n"
     ]
    },
    {
     "name": "stderr",
     "output_type": "stream",
     "text": [
      "Loss: 0.1497: 100%|██████████| 126/126 [00:39<00:00,  3.17it/s]\n",
      "Val Loss: 0.1519: 100%|██████████| 32/32 [00:08<00:00,  3.74it/s]\n"
     ]
    },
    {
     "name": "stdout",
     "output_type": "stream",
     "text": [
      "Epoch 22 | Train Loss: 0.3704 | Train F1: 0.8815 | Val Loss: 0.2726 | Val F1: 0.9626\n"
     ]
    },
    {
     "name": "stderr",
     "output_type": "stream",
     "text": [
      "Loss: 0.1533: 100%|██████████| 126/126 [00:39<00:00,  3.15it/s]\n",
      "Val Loss: 0.1596: 100%|██████████| 32/32 [00:08<00:00,  3.80it/s]"
     ]
    },
    {
     "name": "stdout",
     "output_type": "stream",
     "text": [
      "Epoch 23 | Train Loss: 0.3971 | Train F1: 0.8355 | Val Loss: 0.2407 | Val F1: 0.9755\n"
     ]
    },
    {
     "name": "stderr",
     "output_type": "stream",
     "text": [
      "\n",
      "Loss: 0.1470: 100%|██████████| 126/126 [00:39<00:00,  3.18it/s]\n",
      "Val Loss: 0.5236: 100%|██████████| 32/32 [00:08<00:00,  3.81it/s]\n"
     ]
    },
    {
     "name": "stdout",
     "output_type": "stream",
     "text": [
      "Epoch 24 | Train Loss: 0.4299 | Train F1: 0.8399 | Val Loss: 0.3251 | Val F1: 0.9598\n"
     ]
    },
    {
     "name": "stderr",
     "output_type": "stream",
     "text": [
      "Loss: 1.4512: 100%|██████████| 126/126 [00:39<00:00,  3.16it/s]\n",
      "Val Loss: 0.1471: 100%|██████████| 32/32 [00:08<00:00,  3.81it/s]\n"
     ]
    },
    {
     "name": "stdout",
     "output_type": "stream",
     "text": [
      "Epoch 25 | Train Loss: 0.4253 | Train F1: 0.8493 | Val Loss: 0.2928 | Val F1: 0.9647\n"
     ]
    },
    {
     "name": "stderr",
     "output_type": "stream",
     "text": [
      "Loss: 2.0859: 100%|██████████| 126/126 [00:39<00:00,  3.17it/s]\n",
      "Val Loss: 0.1570: 100%|██████████| 32/32 [00:08<00:00,  3.82it/s]\n"
     ]
    },
    {
     "name": "stdout",
     "output_type": "stream",
     "text": [
      "Epoch 26 | Train Loss: 0.4570 | Train F1: 0.7912 | Val Loss: 0.2279 | Val F1: 0.9719\n"
     ]
    },
    {
     "name": "stderr",
     "output_type": "stream",
     "text": [
      "Loss: 0.2656: 100%|██████████| 126/126 [00:39<00:00,  3.17it/s]\n",
      "Val Loss: 0.4935: 100%|██████████| 32/32 [00:08<00:00,  3.78it/s]\n"
     ]
    },
    {
     "name": "stdout",
     "output_type": "stream",
     "text": [
      "Epoch 27 | Train Loss: 0.3855 | Train F1: 0.8474 | Val Loss: 0.2406 | Val F1: 0.9714\n"
     ]
    },
    {
     "name": "stderr",
     "output_type": "stream",
     "text": [
      "Loss: 0.6426: 100%|██████████| 126/126 [00:39<00:00,  3.17it/s]\n",
      "Val Loss: 0.1481: 100%|██████████| 32/32 [00:08<00:00,  3.77it/s]\n"
     ]
    },
    {
     "name": "stdout",
     "output_type": "stream",
     "text": [
      "Epoch 28 | Train Loss: 0.3810 | Train F1: 0.8621 | Val Loss: 0.2641 | Val F1: 0.9744\n"
     ]
    },
    {
     "name": "stderr",
     "output_type": "stream",
     "text": [
      "Loss: 0.1487: 100%|██████████| 126/126 [00:40<00:00,  3.15it/s]\n",
      "Val Loss: 0.1492: 100%|██████████| 32/32 [00:08<00:00,  3.72it/s]\n"
     ]
    },
    {
     "name": "stdout",
     "output_type": "stream",
     "text": [
      "Epoch 29 | Train Loss: 0.4364 | Train F1: 0.8218 | Val Loss: 0.2895 | Val F1: 0.9585\n"
     ]
    },
    {
     "name": "stderr",
     "output_type": "stream",
     "text": [
      "Loss: 0.1472: 100%|██████████| 126/126 [00:39<00:00,  3.16it/s]\n",
      "Val Loss: 0.1643: 100%|██████████| 32/32 [00:08<00:00,  3.80it/s]\n"
     ]
    },
    {
     "name": "stdout",
     "output_type": "stream",
     "text": [
      "Epoch 30 | Train Loss: 0.3741 | Train F1: 0.8892 | Val Loss: 0.2947 | Val F1: 0.9644\n"
     ]
    },
    {
     "name": "stderr",
     "output_type": "stream",
     "text": [
      "Loss: 0.1460: 100%|██████████| 126/126 [00:39<00:00,  3.17it/s]\n",
      "Val Loss: 0.1700: 100%|██████████| 32/32 [00:08<00:00,  3.81it/s]\n"
     ]
    },
    {
     "name": "stdout",
     "output_type": "stream",
     "text": [
      "Epoch 31 | Train Loss: 0.3626 | Train F1: 0.8989 | Val Loss: 0.2466 | Val F1: 0.9666\n"
     ]
    },
    {
     "name": "stderr",
     "output_type": "stream",
     "text": [
      "Loss: 0.8379: 100%|██████████| 126/126 [00:39<00:00,  3.17it/s]\n",
      "Val Loss: 0.1712: 100%|██████████| 32/32 [00:08<00:00,  3.76it/s]\n"
     ]
    },
    {
     "name": "stdout",
     "output_type": "stream",
     "text": [
      "Epoch 32 | Train Loss: 0.4144 | Train F1: 0.8539 | Val Loss: 0.2566 | Val F1: 0.9752\n"
     ]
    },
    {
     "name": "stderr",
     "output_type": "stream",
     "text": [
      "Loss: 0.1471: 100%|██████████| 126/126 [00:39<00:00,  3.17it/s]\n",
      "Val Loss: 0.1523: 100%|██████████| 32/32 [00:08<00:00,  3.80it/s]\n"
     ]
    },
    {
     "name": "stdout",
     "output_type": "stream",
     "text": [
      "Epoch 33 | Train Loss: 0.3853 | Train F1: 0.8805 | Val Loss: 0.2382 | Val F1: 0.9749\n"
     ]
    },
    {
     "name": "stderr",
     "output_type": "stream",
     "text": [
      "Loss: 0.4700: 100%|██████████| 126/126 [00:39<00:00,  3.17it/s]\n",
      "Val Loss: 0.1462: 100%|██████████| 32/32 [00:08<00:00,  3.78it/s]"
     ]
    },
    {
     "name": "stdout",
     "output_type": "stream",
     "text": [
      "Epoch 34 | Train Loss: 0.4008 | Train F1: 0.8538 | Val Loss: 0.2286 | Val F1: 0.9761\n"
     ]
    },
    {
     "name": "stderr",
     "output_type": "stream",
     "text": [
      "\n",
      "Loss: 0.1465: 100%|██████████| 126/126 [00:39<00:00,  3.17it/s]\n",
      "Val Loss: 0.1482: 100%|██████████| 32/32 [00:08<00:00,  3.80it/s]\n"
     ]
    },
    {
     "name": "stdout",
     "output_type": "stream",
     "text": [
      "Epoch 35 | Train Loss: 0.4075 | Train F1: 0.8719 | Val Loss: 0.2719 | Val F1: 0.9695\n"
     ]
    },
    {
     "name": "stderr",
     "output_type": "stream",
     "text": [
      "Loss: 0.1943: 100%|██████████| 126/126 [00:39<00:00,  3.16it/s]\n",
      "Val Loss: 0.1460: 100%|██████████| 32/32 [00:08<00:00,  3.81it/s]"
     ]
    },
    {
     "name": "stdout",
     "output_type": "stream",
     "text": [
      "Epoch 36 | Train Loss: 0.3686 | Train F1: 0.8788 | Val Loss: 0.2503 | Val F1: 0.9794\n"
     ]
    },
    {
     "name": "stderr",
     "output_type": "stream",
     "text": [
      "\n",
      "Loss: 0.4219: 100%|██████████| 126/126 [00:39<00:00,  3.17it/s]\n",
      "Val Loss: 0.1472: 100%|██████████| 32/32 [00:08<00:00,  3.75it/s]"
     ]
    },
    {
     "name": "stdout",
     "output_type": "stream",
     "text": [
      "Epoch 37 | Train Loss: 0.4008 | Train F1: 0.8652 | Val Loss: 0.2190 | Val F1: 0.9824\n"
     ]
    },
    {
     "name": "stderr",
     "output_type": "stream",
     "text": [
      "\n",
      "Loss: 0.1464: 100%|██████████| 126/126 [00:39<00:00,  3.17it/s]\n",
      "Val Loss: 0.1474: 100%|██████████| 32/32 [00:08<00:00,  3.77it/s]\n"
     ]
    },
    {
     "name": "stdout",
     "output_type": "stream",
     "text": [
      "Epoch 38 | Train Loss: 0.4122 | Train F1: 0.8543 | Val Loss: 0.2951 | Val F1: 0.9629\n"
     ]
    },
    {
     "name": "stderr",
     "output_type": "stream",
     "text": [
      "Loss: 0.1466: 100%|██████████| 126/126 [00:39<00:00,  3.17it/s]\n",
      "Val Loss: 0.1462: 100%|██████████| 32/32 [00:08<00:00,  3.81it/s]\n"
     ]
    },
    {
     "name": "stdout",
     "output_type": "stream",
     "text": [
      "Epoch 39 | Train Loss: 0.3450 | Train F1: 0.8865 | Val Loss: 0.2259 | Val F1: 0.9794\n"
     ]
    },
    {
     "name": "stderr",
     "output_type": "stream",
     "text": [
      "Loss: 0.1476: 100%|██████████| 126/126 [00:39<00:00,  3.16it/s]\n",
      "Val Loss: 0.1463: 100%|██████████| 32/32 [00:08<00:00,  3.80it/s]\n"
     ]
    },
    {
     "name": "stdout",
     "output_type": "stream",
     "text": [
      "Epoch 40 | Train Loss: 0.3603 | Train F1: 0.8896 | Val Loss: 0.2534 | Val F1: 0.9684\n"
     ]
    },
    {
     "name": "stderr",
     "output_type": "stream",
     "text": [
      "Loss: 0.1462: 100%|██████████| 126/126 [00:39<00:00,  3.16it/s]\n",
      "Val Loss: 0.1461: 100%|██████████| 32/32 [00:08<00:00,  3.79it/s]\n"
     ]
    },
    {
     "name": "stdout",
     "output_type": "stream",
     "text": [
      "Epoch 41 | Train Loss: 0.3749 | Train F1: 0.8830 | Val Loss: 0.2784 | Val F1: 0.9692\n"
     ]
    },
    {
     "name": "stderr",
     "output_type": "stream",
     "text": [
      "Loss: 0.1565: 100%|██████████| 126/126 [00:39<00:00,  3.18it/s]\n",
      "Val Loss: 0.1458: 100%|██████████| 32/32 [00:08<00:00,  3.73it/s]\n"
     ]
    },
    {
     "name": "stdout",
     "output_type": "stream",
     "text": [
      "Epoch 42 | Train Loss: 0.3523 | Train F1: 0.8724 | Val Loss: 0.2677 | Val F1: 0.9648\n"
     ]
    },
    {
     "name": "stderr",
     "output_type": "stream",
     "text": [
      "Loss: 0.1458: 100%|██████████| 126/126 [00:39<00:00,  3.17it/s]\n",
      "Val Loss: 0.1459: 100%|██████████| 32/32 [00:08<00:00,  3.81it/s]\n"
     ]
    },
    {
     "name": "stdout",
     "output_type": "stream",
     "text": [
      "Epoch 43 | Train Loss: 0.3822 | Train F1: 0.8582 | Val Loss: 0.2394 | Val F1: 0.9761\n"
     ]
    },
    {
     "name": "stderr",
     "output_type": "stream",
     "text": [
      "Loss: 0.1461: 100%|██████████| 126/126 [00:39<00:00,  3.17it/s]\n",
      "Val Loss: 0.1461: 100%|██████████| 32/32 [00:08<00:00,  3.80it/s]\n"
     ]
    },
    {
     "name": "stdout",
     "output_type": "stream",
     "text": [
      "Epoch 44 | Train Loss: 0.3814 | Train F1: 0.8534 | Val Loss: 0.2479 | Val F1: 0.9716\n"
     ]
    },
    {
     "name": "stderr",
     "output_type": "stream",
     "text": [
      "Loss: 0.1462: 100%|██████████| 126/126 [00:39<00:00,  3.18it/s]\n",
      "Val Loss: 0.1459: 100%|██████████| 32/32 [00:08<00:00,  3.78it/s]\n"
     ]
    },
    {
     "name": "stdout",
     "output_type": "stream",
     "text": [
      "Epoch 45 | Train Loss: 0.3324 | Train F1: 0.8687 | Val Loss: 0.3105 | Val F1: 0.9513\n"
     ]
    },
    {
     "name": "stderr",
     "output_type": "stream",
     "text": [
      "Loss: 0.2261: 100%|██████████| 126/126 [00:39<00:00,  3.17it/s]\n",
      "Val Loss: 0.1459: 100%|██████████| 32/32 [00:08<00:00,  3.76it/s]\n"
     ]
    },
    {
     "name": "stdout",
     "output_type": "stream",
     "text": [
      "Epoch 46 | Train Loss: 0.4100 | Train F1: 0.8561 | Val Loss: 0.2606 | Val F1: 0.9766\n"
     ]
    },
    {
     "name": "stderr",
     "output_type": "stream",
     "text": [
      "Loss: 0.3208: 100%|██████████| 126/126 [00:39<00:00,  3.18it/s]\n",
      "Val Loss: 0.1462: 100%|██████████| 32/32 [00:08<00:00,  3.74it/s]\n"
     ]
    },
    {
     "name": "stdout",
     "output_type": "stream",
     "text": [
      "Epoch 47 | Train Loss: 0.3388 | Train F1: 0.9042 | Val Loss: 0.2380 | Val F1: 0.9764\n"
     ]
    },
    {
     "name": "stderr",
     "output_type": "stream",
     "text": [
      "Loss: 0.1459: 100%|██████████| 126/126 [00:39<00:00,  3.18it/s]\n",
      "Val Loss: 0.1506: 100%|██████████| 32/32 [00:08<00:00,  3.77it/s]\n"
     ]
    },
    {
     "name": "stdout",
     "output_type": "stream",
     "text": [
      "Epoch 48 | Train Loss: 0.3497 | Train F1: 0.8745 | Val Loss: 0.2501 | Val F1: 0.9765\n"
     ]
    },
    {
     "name": "stderr",
     "output_type": "stream",
     "text": [
      "Loss: 0.1462: 100%|██████████| 126/126 [00:39<00:00,  3.18it/s]\n",
      "Val Loss: 0.1529: 100%|██████████| 32/32 [00:08<00:00,  3.79it/s]\n"
     ]
    },
    {
     "name": "stdout",
     "output_type": "stream",
     "text": [
      "Epoch 49 | Train Loss: 0.3408 | Train F1: 0.8789 | Val Loss: 0.2432 | Val F1: 0.9763\n"
     ]
    },
    {
     "name": "stderr",
     "output_type": "stream",
     "text": [
      "Loss: 0.1460: 100%|██████████| 126/126 [00:39<00:00,  3.17it/s]\n",
      "Val Loss: 0.1459: 100%|██████████| 32/32 [00:08<00:00,  3.78it/s]\n"
     ]
    },
    {
     "name": "stdout",
     "output_type": "stream",
     "text": [
      "Epoch 50 | Train Loss: 0.3212 | Train F1: 0.9157 | Val Loss: 0.2315 | Val F1: 0.9767\n"
     ]
    },
    {
     "name": "stderr",
     "output_type": "stream",
     "text": [
      "Loss: 0.1461: 100%|██████████| 126/126 [00:39<00:00,  3.17it/s]\n",
      "Val Loss: 0.1475: 100%|██████████| 32/32 [00:08<00:00,  3.80it/s]\n"
     ]
    },
    {
     "name": "stdout",
     "output_type": "stream",
     "text": [
      "Epoch 51 | Train Loss: 0.3277 | Train F1: 0.8998 | Val Loss: 0.2615 | Val F1: 0.9733\n"
     ]
    },
    {
     "name": "stderr",
     "output_type": "stream",
     "text": [
      "Loss: 0.7695: 100%|██████████| 126/126 [00:39<00:00,  3.17it/s]\n",
      "Val Loss: 0.1478: 100%|██████████| 32/32 [00:08<00:00,  3.75it/s]\n"
     ]
    },
    {
     "name": "stdout",
     "output_type": "stream",
     "text": [
      "Epoch 52 | Train Loss: 0.3542 | Train F1: 0.8688 | Val Loss: 0.2537 | Val F1: 0.9701\n"
     ]
    },
    {
     "name": "stderr",
     "output_type": "stream",
     "text": [
      "Loss: 0.8525: 100%|██████████| 126/126 [00:39<00:00,  3.17it/s]\n",
      "Val Loss: 0.1458: 100%|██████████| 32/32 [00:08<00:00,  3.75it/s]\n"
     ]
    },
    {
     "name": "stdout",
     "output_type": "stream",
     "text": [
      "Epoch 53 | Train Loss: 0.4158 | Train F1: 0.8035 | Val Loss: 0.2379 | Val F1: 0.9794\n"
     ]
    },
    {
     "name": "stderr",
     "output_type": "stream",
     "text": [
      "Loss: 0.1459: 100%|██████████| 126/126 [00:39<00:00,  3.17it/s]\n",
      "Val Loss: 0.1462: 100%|██████████| 32/32 [00:08<00:00,  3.75it/s]\n"
     ]
    },
    {
     "name": "stdout",
     "output_type": "stream",
     "text": [
      "Epoch 54 | Train Loss: 0.4120 | Train F1: 0.8487 | Val Loss: 0.2448 | Val F1: 0.9780\n"
     ]
    },
    {
     "name": "stderr",
     "output_type": "stream",
     "text": [
      "Loss: 1.0938: 100%|██████████| 126/126 [00:39<00:00,  3.18it/s]\n",
      "Val Loss: 0.1457: 100%|██████████| 32/32 [00:08<00:00,  3.80it/s]\n"
     ]
    },
    {
     "name": "stdout",
     "output_type": "stream",
     "text": [
      "Epoch 55 | Train Loss: 0.3975 | Train F1: 0.8233 | Val Loss: 0.2508 | Val F1: 0.9759\n"
     ]
    },
    {
     "name": "stderr",
     "output_type": "stream",
     "text": [
      "Loss: 0.1458: 100%|██████████| 126/126 [00:39<00:00,  3.18it/s]\n",
      "Val Loss: 0.1457: 100%|██████████| 32/32 [00:08<00:00,  3.77it/s]\n"
     ]
    },
    {
     "name": "stdout",
     "output_type": "stream",
     "text": [
      "Epoch 56 | Train Loss: 0.3318 | Train F1: 0.8681 | Val Loss: 0.2454 | Val F1: 0.9780\n"
     ]
    },
    {
     "name": "stderr",
     "output_type": "stream",
     "text": [
      "Loss: 0.1464: 100%|██████████| 126/126 [00:39<00:00,  3.19it/s]\n",
      "Val Loss: 0.1457: 100%|██████████| 32/32 [00:08<00:00,  3.75it/s]\n"
     ]
    },
    {
     "name": "stdout",
     "output_type": "stream",
     "text": [
      "Epoch 57 | Train Loss: 0.3477 | Train F1: 0.8737 | Val Loss: 0.2382 | Val F1: 0.9766\n"
     ]
    },
    {
     "name": "stderr",
     "output_type": "stream",
     "text": [
      "Loss: 1.1553: 100%|██████████| 126/126 [00:39<00:00,  3.17it/s]\n",
      "Val Loss: 0.1459: 100%|██████████| 32/32 [00:08<00:00,  3.76it/s]\n"
     ]
    },
    {
     "name": "stdout",
     "output_type": "stream",
     "text": [
      "Epoch 58 | Train Loss: 0.3480 | Train F1: 0.8984 | Val Loss: 0.2586 | Val F1: 0.9734\n"
     ]
    },
    {
     "name": "stderr",
     "output_type": "stream",
     "text": [
      "Loss: 0.1460: 100%|██████████| 126/126 [00:39<00:00,  3.18it/s]\n",
      "Val Loss: 0.1461: 100%|██████████| 32/32 [00:08<00:00,  3.77it/s]\n"
     ]
    },
    {
     "name": "stdout",
     "output_type": "stream",
     "text": [
      "Epoch 59 | Train Loss: 0.3713 | Train F1: 0.8366 | Val Loss: 0.2491 | Val F1: 0.9760\n"
     ]
    },
    {
     "name": "stderr",
     "output_type": "stream",
     "text": [
      "Loss: 0.2323: 100%|██████████| 126/126 [00:39<00:00,  3.18it/s]\n",
      "Val Loss: 0.1460: 100%|██████████| 32/32 [00:08<00:00,  3.83it/s]\n"
     ]
    },
    {
     "name": "stdout",
     "output_type": "stream",
     "text": [
      "Epoch 60 | Train Loss: 0.3681 | Train F1: 0.8552 | Val Loss: 0.2391 | Val F1: 0.9783\n"
     ]
    },
    {
     "name": "stderr",
     "output_type": "stream",
     "text": [
      "Loss: 0.1458: 100%|██████████| 126/126 [00:39<00:00,  3.18it/s]\n",
      "Val Loss: 0.1457: 100%|██████████| 32/32 [00:08<00:00,  3.76it/s]\n"
     ]
    },
    {
     "name": "stdout",
     "output_type": "stream",
     "text": [
      "Epoch 61 | Train Loss: 0.3836 | Train F1: 0.8783 | Val Loss: 0.2399 | Val F1: 0.9783\n"
     ]
    },
    {
     "name": "stderr",
     "output_type": "stream",
     "text": [
      "Loss: 0.1458: 100%|██████████| 126/126 [00:39<00:00,  3.19it/s]\n",
      "Val Loss: 0.1458: 100%|██████████| 32/32 [00:08<00:00,  3.78it/s]\n"
     ]
    },
    {
     "name": "stdout",
     "output_type": "stream",
     "text": [
      "Epoch 62 | Train Loss: 0.3256 | Train F1: 0.8701 | Val Loss: 0.2622 | Val F1: 0.9699\n"
     ]
    },
    {
     "name": "stderr",
     "output_type": "stream",
     "text": [
      "Loss: 0.1458: 100%|██████████| 126/126 [00:39<00:00,  3.17it/s]\n",
      "Val Loss: 0.1457: 100%|██████████| 32/32 [00:08<00:00,  3.76it/s]\n"
     ]
    },
    {
     "name": "stdout",
     "output_type": "stream",
     "text": [
      "Epoch 63 | Train Loss: 0.3849 | Train F1: 0.8689 | Val Loss: 0.2327 | Val F1: 0.9779\n"
     ]
    },
    {
     "name": "stderr",
     "output_type": "stream",
     "text": [
      "Loss: 0.1458: 100%|██████████| 126/126 [00:39<00:00,  3.16it/s]\n",
      "Val Loss: 0.1457: 100%|██████████| 32/32 [00:08<00:00,  3.72it/s]\n"
     ]
    },
    {
     "name": "stdout",
     "output_type": "stream",
     "text": [
      "Epoch 64 | Train Loss: 0.3303 | Train F1: 0.8788 | Val Loss: 0.2449 | Val F1: 0.9721\n"
     ]
    },
    {
     "name": "stderr",
     "output_type": "stream",
     "text": [
      "Loss: 0.1458: 100%|██████████| 126/126 [00:39<00:00,  3.18it/s]\n",
      "Val Loss: 0.1457: 100%|██████████| 32/32 [00:08<00:00,  3.79it/s]\n"
     ]
    },
    {
     "name": "stdout",
     "output_type": "stream",
     "text": [
      "Epoch 65 | Train Loss: 0.3795 | Train F1: 0.8672 | Val Loss: 0.2829 | Val F1: 0.9679\n"
     ]
    },
    {
     "name": "stderr",
     "output_type": "stream",
     "text": [
      "Loss: 0.1459: 100%|██████████| 126/126 [00:39<00:00,  3.18it/s]\n",
      "Val Loss: 0.1457: 100%|██████████| 32/32 [00:08<00:00,  3.78it/s]\n"
     ]
    },
    {
     "name": "stdout",
     "output_type": "stream",
     "text": [
      "Epoch 66 | Train Loss: 0.3225 | Train F1: 0.8683 | Val Loss: 0.2378 | Val F1: 0.9748\n"
     ]
    },
    {
     "name": "stderr",
     "output_type": "stream",
     "text": [
      "Loss: 0.6045: 100%|██████████| 126/126 [00:39<00:00,  3.19it/s]\n",
      "Val Loss: 0.1457: 100%|██████████| 32/32 [00:08<00:00,  3.80it/s]\n"
     ]
    },
    {
     "name": "stdout",
     "output_type": "stream",
     "text": [
      "Epoch 67 | Train Loss: 0.3584 | Train F1: 0.8385 | Val Loss: 0.2382 | Val F1: 0.9780\n"
     ]
    },
    {
     "name": "stderr",
     "output_type": "stream",
     "text": [
      "Loss: 0.6064: 100%|██████████| 126/126 [00:39<00:00,  3.18it/s]\n",
      "Val Loss: 0.1457: 100%|██████████| 32/32 [00:08<00:00,  3.78it/s]\n"
     ]
    },
    {
     "name": "stdout",
     "output_type": "stream",
     "text": [
      "Epoch 68 | Train Loss: 0.3715 | Train F1: 0.8531 | Val Loss: 0.2321 | Val F1: 0.9810\n"
     ]
    },
    {
     "name": "stderr",
     "output_type": "stream",
     "text": [
      "Loss: 0.1458: 100%|██████████| 126/126 [00:39<00:00,  3.18it/s]\n",
      "Val Loss: 0.1456: 100%|██████████| 32/32 [00:08<00:00,  3.78it/s]\n"
     ]
    },
    {
     "name": "stdout",
     "output_type": "stream",
     "text": [
      "Epoch 69 | Train Loss: 0.3550 | Train F1: 0.8563 | Val Loss: 0.2480 | Val F1: 0.9730\n"
     ]
    },
    {
     "name": "stderr",
     "output_type": "stream",
     "text": [
      "Loss: 0.1458: 100%|██████████| 126/126 [00:39<00:00,  3.18it/s]\n",
      "Val Loss: 0.1456: 100%|██████████| 32/32 [00:08<00:00,  3.73it/s]\n"
     ]
    },
    {
     "name": "stdout",
     "output_type": "stream",
     "text": [
      "Epoch 70 | Train Loss: 0.3453 | Train F1: 0.8695 | Val Loss: 0.2199 | Val F1: 0.9824\n"
     ]
    },
    {
     "name": "stderr",
     "output_type": "stream",
     "text": [
      "Loss: 0.1458: 100%|██████████| 126/126 [00:39<00:00,  3.18it/s]\n",
      "Val Loss: 0.1456: 100%|██████████| 32/32 [00:08<00:00,  3.75it/s]\n"
     ]
    },
    {
     "name": "stdout",
     "output_type": "stream",
     "text": [
      "Epoch 71 | Train Loss: 0.3544 | Train F1: 0.8595 | Val Loss: 0.2340 | Val F1: 0.9809\n"
     ]
    },
    {
     "name": "stderr",
     "output_type": "stream",
     "text": [
      "Loss: 0.1459: 100%|██████████| 126/126 [00:39<00:00,  3.17it/s]\n",
      "Val Loss: 0.1456: 100%|██████████| 32/32 [00:08<00:00,  3.83it/s]"
     ]
    },
    {
     "name": "stdout",
     "output_type": "stream",
     "text": [
      "Epoch 72 | Train Loss: 0.3192 | Train F1: 0.8573 | Val Loss: 0.2202 | Val F1: 0.9838\n"
     ]
    },
    {
     "name": "stderr",
     "output_type": "stream",
     "text": [
      "\n",
      "Loss: 0.1456: 100%|██████████| 126/126 [00:39<00:00,  3.18it/s]\n",
      "Val Loss: 0.1457: 100%|██████████| 32/32 [00:08<00:00,  3.75it/s]\n"
     ]
    },
    {
     "name": "stdout",
     "output_type": "stream",
     "text": [
      "Epoch 73 | Train Loss: 0.3347 | Train F1: 0.8823 | Val Loss: 0.2336 | Val F1: 0.9794\n"
     ]
    },
    {
     "name": "stderr",
     "output_type": "stream",
     "text": [
      "Loss: 0.1458: 100%|██████████| 126/126 [00:39<00:00,  3.19it/s]\n",
      "Val Loss: 0.1458: 100%|██████████| 32/32 [00:08<00:00,  3.77it/s]\n"
     ]
    },
    {
     "name": "stdout",
     "output_type": "stream",
     "text": [
      "Epoch 74 | Train Loss: 0.3094 | Train F1: 0.8713 | Val Loss: 0.2297 | Val F1: 0.9806\n"
     ]
    },
    {
     "name": "stderr",
     "output_type": "stream",
     "text": [
      "Loss: 0.1942: 100%|██████████| 126/126 [00:39<00:00,  3.19it/s]\n",
      "Val Loss: 0.1457: 100%|██████████| 32/32 [00:08<00:00,  3.81it/s]\n"
     ]
    },
    {
     "name": "stdout",
     "output_type": "stream",
     "text": [
      "Epoch 75 | Train Loss: 0.2993 | Train F1: 0.9034 | Val Loss: 0.2555 | Val F1: 0.9764\n"
     ]
    },
    {
     "name": "stderr",
     "output_type": "stream",
     "text": [
      "Loss: 0.5264: 100%|██████████| 126/126 [00:39<00:00,  3.19it/s]\n",
      "Val Loss: 0.1456: 100%|██████████| 32/32 [00:08<00:00,  3.76it/s]\n"
     ]
    },
    {
     "name": "stdout",
     "output_type": "stream",
     "text": [
      "Epoch 76 | Train Loss: 0.3055 | Train F1: 0.8782 | Val Loss: 0.2226 | Val F1: 0.9794\n"
     ]
    },
    {
     "name": "stderr",
     "output_type": "stream",
     "text": [
      "Loss: 0.5771: 100%|██████████| 126/126 [00:39<00:00,  3.18it/s]\n",
      "Val Loss: 0.1456: 100%|██████████| 32/32 [00:08<00:00,  3.72it/s]\n"
     ]
    },
    {
     "name": "stdout",
     "output_type": "stream",
     "text": [
      "Epoch 77 | Train Loss: 0.3878 | Train F1: 0.8428 | Val Loss: 0.2244 | Val F1: 0.9789\n"
     ]
    },
    {
     "name": "stderr",
     "output_type": "stream",
     "text": [
      "Loss: 0.1456: 100%|██████████| 126/126 [00:39<00:00,  3.17it/s]\n",
      "Val Loss: 0.1457: 100%|██████████| 32/32 [00:08<00:00,  3.80it/s]\n"
     ]
    },
    {
     "name": "stdout",
     "output_type": "stream",
     "text": [
      "Epoch 78 | Train Loss: 0.3841 | Train F1: 0.8469 | Val Loss: 0.2211 | Val F1: 0.9804\n"
     ]
    },
    {
     "name": "stderr",
     "output_type": "stream",
     "text": [
      "Loss: 0.8535: 100%|██████████| 126/126 [00:39<00:00,  3.19it/s]\n",
      "Val Loss: 0.1456: 100%|██████████| 32/32 [00:08<00:00,  3.79it/s]\n"
     ]
    },
    {
     "name": "stdout",
     "output_type": "stream",
     "text": [
      "Epoch 79 | Train Loss: 0.3013 | Train F1: 0.8966 | Val Loss: 0.2100 | Val F1: 0.9834\n"
     ]
    },
    {
     "name": "stderr",
     "output_type": "stream",
     "text": [
      "Loss: 0.3735: 100%|██████████| 126/126 [00:39<00:00,  3.18it/s]\n",
      "Val Loss: 0.1456: 100%|██████████| 32/32 [00:08<00:00,  3.79it/s]\n"
     ]
    },
    {
     "name": "stdout",
     "output_type": "stream",
     "text": [
      "Epoch 80 | Train Loss: 0.3476 | Train F1: 0.8389 | Val Loss: 0.2401 | Val F1: 0.9777\n"
     ]
    },
    {
     "name": "stderr",
     "output_type": "stream",
     "text": [
      "Loss: 0.7744: 100%|██████████| 126/126 [00:39<00:00,  3.18it/s]\n",
      "Val Loss: 0.1460: 100%|██████████| 32/32 [00:08<00:00,  3.79it/s]\n"
     ]
    },
    {
     "name": "stdout",
     "output_type": "stream",
     "text": [
      "Epoch 81 | Train Loss: 0.3072 | Train F1: 0.8643 | Val Loss: 0.2241 | Val F1: 0.9794\n"
     ]
    },
    {
     "name": "stderr",
     "output_type": "stream",
     "text": [
      "Loss: 0.5381: 100%|██████████| 126/126 [00:39<00:00,  3.18it/s]\n",
      "Val Loss: 0.1457: 100%|██████████| 32/32 [00:08<00:00,  3.75it/s]\n"
     ]
    },
    {
     "name": "stdout",
     "output_type": "stream",
     "text": [
      "Epoch 82 | Train Loss: 0.3209 | Train F1: 0.8459 | Val Loss: 0.2343 | Val F1: 0.9810\n"
     ]
    },
    {
     "name": "stderr",
     "output_type": "stream",
     "text": [
      "Loss: 0.1456: 100%|██████████| 126/126 [00:39<00:00,  3.17it/s]\n",
      "Val Loss: 0.1456: 100%|██████████| 32/32 [00:08<00:00,  3.83it/s]\n"
     ]
    },
    {
     "name": "stdout",
     "output_type": "stream",
     "text": [
      "Epoch 83 | Train Loss: 0.3892 | Train F1: 0.8259 | Val Loss: 0.2400 | Val F1: 0.9774\n"
     ]
    },
    {
     "name": "stderr",
     "output_type": "stream",
     "text": [
      "Loss: 0.1455: 100%|██████████| 126/126 [00:39<00:00,  3.19it/s]\n",
      "Val Loss: 0.1456: 100%|██████████| 32/32 [00:08<00:00,  3.75it/s]\n"
     ]
    },
    {
     "name": "stdout",
     "output_type": "stream",
     "text": [
      "Epoch 84 | Train Loss: 0.3424 | Train F1: 0.8371 | Val Loss: 0.2328 | Val F1: 0.9810\n"
     ]
    },
    {
     "name": "stderr",
     "output_type": "stream",
     "text": [
      "Loss: 0.1456: 100%|██████████| 126/126 [00:39<00:00,  3.19it/s]\n",
      "Val Loss: 0.1456: 100%|██████████| 32/32 [00:08<00:00,  3.76it/s]\n"
     ]
    },
    {
     "name": "stdout",
     "output_type": "stream",
     "text": [
      "Epoch 85 | Train Loss: 0.3285 | Train F1: 0.8730 | Val Loss: 0.2150 | Val F1: 0.9838\n"
     ]
    },
    {
     "name": "stderr",
     "output_type": "stream",
     "text": [
      "Loss: 0.1458: 100%|██████████| 126/126 [00:39<00:00,  3.18it/s]\n",
      "Val Loss: 0.1456: 100%|██████████| 32/32 [00:08<00:00,  3.82it/s]\n"
     ]
    },
    {
     "name": "stdout",
     "output_type": "stream",
     "text": [
      "Epoch 86 | Train Loss: 0.3327 | Train F1: 0.8596 | Val Loss: 0.2408 | Val F1: 0.9809\n"
     ]
    },
    {
     "name": "stderr",
     "output_type": "stream",
     "text": [
      "Loss: 0.1456: 100%|██████████| 126/126 [00:39<00:00,  3.18it/s]\n",
      "Val Loss: 0.1456: 100%|██████████| 32/32 [00:08<00:00,  3.78it/s]\n"
     ]
    },
    {
     "name": "stdout",
     "output_type": "stream",
     "text": [
      "Epoch 87 | Train Loss: 0.3160 | Train F1: 0.9008 | Val Loss: 0.2171 | Val F1: 0.9838\n"
     ]
    },
    {
     "name": "stderr",
     "output_type": "stream",
     "text": [
      "Loss: 0.5312: 100%|██████████| 126/126 [00:39<00:00,  3.19it/s]\n",
      "Val Loss: 0.1456: 100%|██████████| 32/32 [00:08<00:00,  3.83it/s]\n"
     ]
    },
    {
     "name": "stdout",
     "output_type": "stream",
     "text": [
      "Epoch 88 | Train Loss: 0.3418 | Train F1: 0.8769 | Val Loss: 0.2342 | Val F1: 0.9809\n"
     ]
    },
    {
     "name": "stderr",
     "output_type": "stream",
     "text": [
      "Loss: 0.1455: 100%|██████████| 126/126 [00:39<00:00,  3.18it/s]\n",
      "Val Loss: 0.1456: 100%|██████████| 32/32 [00:08<00:00,  3.79it/s]\n"
     ]
    },
    {
     "name": "stdout",
     "output_type": "stream",
     "text": [
      "Epoch 89 | Train Loss: 0.3070 | Train F1: 0.9025 | Val Loss: 0.2166 | Val F1: 0.9824\n"
     ]
    },
    {
     "name": "stderr",
     "output_type": "stream",
     "text": [
      "Loss: 0.7095: 100%|██████████| 126/126 [00:39<00:00,  3.19it/s]\n",
      "Val Loss: 0.1457: 100%|██████████| 32/32 [00:08<00:00,  3.78it/s]\n"
     ]
    },
    {
     "name": "stdout",
     "output_type": "stream",
     "text": [
      "Epoch 90 | Train Loss: 0.3151 | Train F1: 0.8860 | Val Loss: 0.2366 | Val F1: 0.9838\n"
     ]
    },
    {
     "name": "stderr",
     "output_type": "stream",
     "text": [
      "Loss: 0.5630: 100%|██████████| 126/126 [00:39<00:00,  3.17it/s]\n",
      "Val Loss: 0.1456: 100%|██████████| 32/32 [00:08<00:00,  3.72it/s]\n"
     ]
    },
    {
     "name": "stdout",
     "output_type": "stream",
     "text": [
      "Epoch 91 | Train Loss: 0.3693 | Train F1: 0.8612 | Val Loss: 0.2258 | Val F1: 0.9809\n"
     ]
    },
    {
     "name": "stderr",
     "output_type": "stream",
     "text": [
      "Loss: 0.8687: 100%|██████████| 126/126 [00:39<00:00,  3.18it/s]\n",
      "Val Loss: 0.1456: 100%|██████████| 32/32 [00:08<00:00,  3.76it/s]\n"
     ]
    },
    {
     "name": "stdout",
     "output_type": "stream",
     "text": [
      "Epoch 92 | Train Loss: 0.3534 | Train F1: 0.8616 | Val Loss: 0.2151 | Val F1: 0.9838\n"
     ]
    },
    {
     "name": "stderr",
     "output_type": "stream",
     "text": [
      "Loss: 0.8984: 100%|██████████| 126/126 [00:39<00:00,  3.18it/s]\n",
      "Val Loss: 0.1456: 100%|██████████| 32/32 [00:08<00:00,  3.74it/s]\n"
     ]
    },
    {
     "name": "stdout",
     "output_type": "stream",
     "text": [
      "Epoch 93 | Train Loss: 0.3757 | Train F1: 0.8151 | Val Loss: 0.2218 | Val F1: 0.9838\n"
     ]
    },
    {
     "name": "stderr",
     "output_type": "stream",
     "text": [
      "Loss: 0.5376: 100%|██████████| 126/126 [00:39<00:00,  3.17it/s]\n",
      "Val Loss: 0.1456: 100%|██████████| 32/32 [00:08<00:00,  3.77it/s]\n"
     ]
    },
    {
     "name": "stdout",
     "output_type": "stream",
     "text": [
      "Epoch 94 | Train Loss: 0.3295 | Train F1: 0.8317 | Val Loss: 0.2064 | Val F1: 0.9838\n"
     ]
    },
    {
     "name": "stderr",
     "output_type": "stream",
     "text": [
      "Loss: 0.1456: 100%|██████████| 126/126 [00:39<00:00,  3.18it/s]\n",
      "Val Loss: 0.1456: 100%|██████████| 32/32 [00:08<00:00,  3.77it/s]\n"
     ]
    },
    {
     "name": "stdout",
     "output_type": "stream",
     "text": [
      "Epoch 95 | Train Loss: 0.3176 | Train F1: 0.8576 | Val Loss: 0.2469 | Val F1: 0.9810\n"
     ]
    },
    {
     "name": "stderr",
     "output_type": "stream",
     "text": [
      "Loss: 0.6250: 100%|██████████| 126/126 [00:39<00:00,  3.19it/s]\n",
      "Val Loss: 0.1456: 100%|██████████| 32/32 [00:08<00:00,  3.78it/s]\n"
     ]
    },
    {
     "name": "stdout",
     "output_type": "stream",
     "text": [
      "Epoch 96 | Train Loss: 0.3153 | Train F1: 0.8768 | Val Loss: 0.2136 | Val F1: 0.9803\n"
     ]
    },
    {
     "name": "stderr",
     "output_type": "stream",
     "text": [
      "Loss: 0.1456: 100%|██████████| 126/126 [00:39<00:00,  3.19it/s]\n",
      "Val Loss: 0.1456: 100%|██████████| 32/32 [00:08<00:00,  3.78it/s]\n"
     ]
    },
    {
     "name": "stdout",
     "output_type": "stream",
     "text": [
      "Epoch 97 | Train Loss: 0.2907 | Train F1: 0.9051 | Val Loss: 0.2140 | Val F1: 0.9824\n"
     ]
    },
    {
     "name": "stderr",
     "output_type": "stream",
     "text": [
      "Loss: 0.1456: 100%|██████████| 126/126 [00:39<00:00,  3.19it/s]\n",
      "Val Loss: 0.1456: 100%|██████████| 32/32 [00:08<00:00,  3.74it/s]\n"
     ]
    },
    {
     "name": "stdout",
     "output_type": "stream",
     "text": [
      "Epoch 98 | Train Loss: 0.3337 | Train F1: 0.8555 | Val Loss: 0.2280 | Val F1: 0.9838\n"
     ]
    },
    {
     "name": "stderr",
     "output_type": "stream",
     "text": [
      "Loss: 0.5078: 100%|██████████| 126/126 [00:39<00:00,  3.18it/s]\n",
      "Val Loss: 0.1456: 100%|██████████| 32/32 [00:08<00:00,  3.77it/s]\n"
     ]
    },
    {
     "name": "stdout",
     "output_type": "stream",
     "text": [
      "Epoch 99 | Train Loss: 0.3047 | Train F1: 0.9076 | Val Loss: 0.2234 | Val F1: 0.9838\n"
     ]
    },
    {
     "name": "stderr",
     "output_type": "stream",
     "text": [
      "Loss: 0.1458: 100%|██████████| 126/126 [00:39<00:00,  3.19it/s]\n",
      "Val Loss: 0.1456: 100%|██████████| 32/32 [00:08<00:00,  3.77it/s]\n"
     ]
    },
    {
     "name": "stdout",
     "output_type": "stream",
     "text": [
      "Epoch 100 | Train Loss: 0.3263 | Train F1: 0.8821 | Val Loss: 0.2108 | Val F1: 0.9810\n",
      "Fold 2 Best Validation F1: 0.9838\n",
      "\n",
      "==================================================\n",
      "FOLD 3/5\n",
      "==================================================\n",
      "Train samples: 1256, Validation samples: 314\n"
     ]
    },
    {
     "name": "stderr",
     "output_type": "stream",
     "text": [
      "Loss: 0.9980: 100%|██████████| 126/126 [00:39<00:00,  3.16it/s]\n",
      "Val Loss: 0.2674: 100%|██████████| 32/32 [00:08<00:00,  3.75it/s]"
     ]
    },
    {
     "name": "stdout",
     "output_type": "stream",
     "text": [
      "Epoch  1 | Train Loss: 1.5721 | Train F1: 0.4757 | Val Loss: 0.6099 | Val F1: 0.8175\n"
     ]
    },
    {
     "name": "stderr",
     "output_type": "stream",
     "text": [
      "\n",
      "Loss: 0.2502: 100%|██████████| 126/126 [00:39<00:00,  3.16it/s]\n",
      "Val Loss: 0.1551: 100%|██████████| 32/32 [00:08<00:00,  3.75it/s]"
     ]
    },
    {
     "name": "stdout",
     "output_type": "stream",
     "text": [
      "Epoch  2 | Train Loss: 0.7378 | Train F1: 0.7625 | Val Loss: 0.5092 | Val F1: 0.8221\n"
     ]
    },
    {
     "name": "stderr",
     "output_type": "stream",
     "text": [
      "\n",
      "Loss: 0.1595: 100%|██████████| 126/126 [00:39<00:00,  3.16it/s]\n",
      "Val Loss: 0.1614: 100%|██████████| 32/32 [00:08<00:00,  3.70it/s]"
     ]
    },
    {
     "name": "stdout",
     "output_type": "stream",
     "text": [
      "Epoch  3 | Train Loss: 0.7392 | Train F1: 0.7598 | Val Loss: 0.3593 | Val F1: 0.8957\n"
     ]
    },
    {
     "name": "stderr",
     "output_type": "stream",
     "text": [
      "\n",
      "Loss: 0.4585: 100%|██████████| 126/126 [00:39<00:00,  3.16it/s]\n",
      "Val Loss: 0.1633: 100%|██████████| 32/32 [00:08<00:00,  3.76it/s]\n"
     ]
    },
    {
     "name": "stdout",
     "output_type": "stream",
     "text": [
      "Epoch  4 | Train Loss: 0.5209 | Train F1: 0.8452 | Val Loss: 0.4747 | Val F1: 0.8784\n"
     ]
    },
    {
     "name": "stderr",
     "output_type": "stream",
     "text": [
      "Loss: 0.9053: 100%|██████████| 126/126 [00:39<00:00,  3.16it/s]\n",
      "Val Loss: 0.1817: 100%|██████████| 32/32 [00:08<00:00,  3.76it/s]"
     ]
    },
    {
     "name": "stdout",
     "output_type": "stream",
     "text": [
      "Epoch  5 | Train Loss: 0.5870 | Train F1: 0.8268 | Val Loss: 0.3558 | Val F1: 0.9189\n"
     ]
    },
    {
     "name": "stderr",
     "output_type": "stream",
     "text": [
      "\n",
      "Loss: 0.6694: 100%|██████████| 126/126 [00:39<00:00,  3.16it/s]\n",
      "Val Loss: 0.1779: 100%|██████████| 32/32 [00:08<00:00,  3.75it/s]\n"
     ]
    },
    {
     "name": "stdout",
     "output_type": "stream",
     "text": [
      "Epoch  6 | Train Loss: 0.5651 | Train F1: 0.8210 | Val Loss: 0.3029 | Val F1: 0.9250\n"
     ]
    },
    {
     "name": "stderr",
     "output_type": "stream",
     "text": [
      "Loss: 0.2778: 100%|██████████| 126/126 [00:39<00:00,  3.16it/s]\n",
      "Val Loss: 0.1546: 100%|██████████| 32/32 [00:08<00:00,  3.75it/s]"
     ]
    },
    {
     "name": "stdout",
     "output_type": "stream",
     "text": [
      "Epoch  7 | Train Loss: 0.5589 | Train F1: 0.8122 | Val Loss: 0.2915 | Val F1: 0.9454\n"
     ]
    },
    {
     "name": "stderr",
     "output_type": "stream",
     "text": [
      "\n",
      "Loss: 0.1531: 100%|██████████| 126/126 [00:39<00:00,  3.16it/s]\n",
      "Val Loss: 0.1529: 100%|██████████| 32/32 [00:08<00:00,  3.76it/s]\n"
     ]
    },
    {
     "name": "stdout",
     "output_type": "stream",
     "text": [
      "Epoch  8 | Train Loss: 0.4938 | Train F1: 0.8567 | Val Loss: 0.2999 | Val F1: 0.9393\n"
     ]
    },
    {
     "name": "stderr",
     "output_type": "stream",
     "text": [
      "Loss: 0.5234: 100%|██████████| 126/126 [00:39<00:00,  3.17it/s]\n",
      "Val Loss: 0.1503: 100%|██████████| 32/32 [00:08<00:00,  3.73it/s]\n"
     ]
    },
    {
     "name": "stdout",
     "output_type": "stream",
     "text": [
      "Epoch  9 | Train Loss: 0.4964 | Train F1: 0.8693 | Val Loss: 0.3211 | Val F1: 0.9186\n"
     ]
    },
    {
     "name": "stderr",
     "output_type": "stream",
     "text": [
      "Loss: 0.1918: 100%|██████████| 126/126 [00:39<00:00,  3.17it/s]\n",
      "Val Loss: 0.1504: 100%|██████████| 32/32 [00:08<00:00,  3.77it/s]\n"
     ]
    },
    {
     "name": "stdout",
     "output_type": "stream",
     "text": [
      "Epoch 10 | Train Loss: 0.5461 | Train F1: 0.8426 | Val Loss: 0.3790 | Val F1: 0.9331\n"
     ]
    },
    {
     "name": "stderr",
     "output_type": "stream",
     "text": [
      "Loss: 0.1495: 100%|██████████| 126/126 [00:39<00:00,  3.16it/s]\n",
      "Val Loss: 0.1650: 100%|██████████| 32/32 [00:08<00:00,  3.72it/s]"
     ]
    },
    {
     "name": "stdout",
     "output_type": "stream",
     "text": [
      "Epoch 11 | Train Loss: 0.4363 | Train F1: 0.8401 | Val Loss: 0.3136 | Val F1: 0.9500\n"
     ]
    },
    {
     "name": "stderr",
     "output_type": "stream",
     "text": [
      "\n",
      "Loss: 0.1559: 100%|██████████| 126/126 [00:39<00:00,  3.16it/s]\n",
      "Val Loss: 0.1497: 100%|██████████| 32/32 [00:08<00:00,  3.76it/s]"
     ]
    },
    {
     "name": "stdout",
     "output_type": "stream",
     "text": [
      "Epoch 12 | Train Loss: 0.5172 | Train F1: 0.8214 | Val Loss: 0.2650 | Val F1: 0.9520\n"
     ]
    },
    {
     "name": "stderr",
     "output_type": "stream",
     "text": [
      "\n",
      "Loss: 0.5474: 100%|██████████| 126/126 [00:39<00:00,  3.16it/s]\n",
      "Val Loss: 0.1509: 100%|██████████| 32/32 [00:08<00:00,  3.71it/s]"
     ]
    },
    {
     "name": "stdout",
     "output_type": "stream",
     "text": [
      "Epoch 13 | Train Loss: 0.4536 | Train F1: 0.8635 | Val Loss: 0.2590 | Val F1: 0.9619\n"
     ]
    },
    {
     "name": "stderr",
     "output_type": "stream",
     "text": [
      "\n",
      "Loss: 1.3057: 100%|██████████| 126/126 [00:39<00:00,  3.16it/s]\n",
      "Val Loss: 0.1487: 100%|██████████| 32/32 [00:08<00:00,  3.71it/s]\n"
     ]
    },
    {
     "name": "stdout",
     "output_type": "stream",
     "text": [
      "Epoch 14 | Train Loss: 0.4675 | Train F1: 0.8285 | Val Loss: 0.2582 | Val F1: 0.9472\n"
     ]
    },
    {
     "name": "stderr",
     "output_type": "stream",
     "text": [
      "Loss: 0.1475: 100%|██████████| 126/126 [00:39<00:00,  3.16it/s]\n",
      "Val Loss: 0.1488: 100%|██████████| 32/32 [00:08<00:00,  3.74it/s]\n"
     ]
    },
    {
     "name": "stdout",
     "output_type": "stream",
     "text": [
      "Epoch 15 | Train Loss: 0.4443 | Train F1: 0.8368 | Val Loss: 0.2540 | Val F1: 0.9624\n"
     ]
    },
    {
     "name": "stderr",
     "output_type": "stream",
     "text": [
      "Loss: 0.4573: 100%|██████████| 126/126 [00:39<00:00,  3.16it/s]\n",
      "Val Loss: 0.1481: 100%|██████████| 32/32 [00:08<00:00,  3.79it/s]\n"
     ]
    },
    {
     "name": "stdout",
     "output_type": "stream",
     "text": [
      "Epoch 16 | Train Loss: 0.4679 | Train F1: 0.8684 | Val Loss: 0.2898 | Val F1: 0.9557\n"
     ]
    },
    {
     "name": "stderr",
     "output_type": "stream",
     "text": [
      "Loss: 0.9478: 100%|██████████| 126/126 [00:39<00:00,  3.17it/s]\n",
      "Val Loss: 0.1497: 100%|██████████| 32/32 [00:08<00:00,  3.73it/s]\n"
     ]
    },
    {
     "name": "stdout",
     "output_type": "stream",
     "text": [
      "Epoch 17 | Train Loss: 0.4512 | Train F1: 0.8651 | Val Loss: 0.2925 | Val F1: 0.9503\n"
     ]
    },
    {
     "name": "stderr",
     "output_type": "stream",
     "text": [
      "Loss: 0.1475: 100%|██████████| 126/126 [00:39<00:00,  3.15it/s]\n",
      "Val Loss: 0.1474: 100%|██████████| 32/32 [00:08<00:00,  3.76it/s]"
     ]
    },
    {
     "name": "stdout",
     "output_type": "stream",
     "text": [
      "Epoch 18 | Train Loss: 0.4834 | Train F1: 0.7843 | Val Loss: 0.2295 | Val F1: 0.9675\n"
     ]
    },
    {
     "name": "stderr",
     "output_type": "stream",
     "text": [
      "\n",
      "Loss: 0.9619: 100%|██████████| 126/126 [00:39<00:00,  3.17it/s]\n",
      "Val Loss: 0.1527: 100%|██████████| 32/32 [00:08<00:00,  3.79it/s]\n"
     ]
    },
    {
     "name": "stdout",
     "output_type": "stream",
     "text": [
      "Epoch 19 | Train Loss: 0.4669 | Train F1: 0.8406 | Val Loss: 0.2594 | Val F1: 0.9672\n"
     ]
    },
    {
     "name": "stderr",
     "output_type": "stream",
     "text": [
      "Loss: 0.7744: 100%|██████████| 126/126 [00:39<00:00,  3.16it/s]\n",
      "Val Loss: 0.1476: 100%|██████████| 32/32 [00:08<00:00,  3.76it/s]\n"
     ]
    },
    {
     "name": "stdout",
     "output_type": "stream",
     "text": [
      "Epoch 20 | Train Loss: 0.4238 | Train F1: 0.8464 | Val Loss: 0.3367 | Val F1: 0.9462\n"
     ]
    },
    {
     "name": "stderr",
     "output_type": "stream",
     "text": [
      "Loss: 0.1580: 100%|██████████| 126/126 [00:39<00:00,  3.16it/s]\n",
      "Val Loss: 0.1469: 100%|██████████| 32/32 [00:08<00:00,  3.76it/s]\n"
     ]
    },
    {
     "name": "stdout",
     "output_type": "stream",
     "text": [
      "Epoch 21 | Train Loss: 0.3655 | Train F1: 0.8836 | Val Loss: 0.2571 | Val F1: 0.9568\n"
     ]
    },
    {
     "name": "stderr",
     "output_type": "stream",
     "text": [
      "Loss: 0.1752: 100%|██████████| 126/126 [00:39<00:00,  3.16it/s]\n",
      "Val Loss: 0.1468: 100%|██████████| 32/32 [00:08<00:00,  3.75it/s]"
     ]
    },
    {
     "name": "stdout",
     "output_type": "stream",
     "text": [
      "Epoch 22 | Train Loss: 0.4030 | Train F1: 0.8498 | Val Loss: 0.2400 | Val F1: 0.9724\n"
     ]
    },
    {
     "name": "stderr",
     "output_type": "stream",
     "text": [
      "\n",
      "Loss: 0.1466: 100%|██████████| 126/126 [00:39<00:00,  3.17it/s]\n",
      "Val Loss: 0.1461: 100%|██████████| 32/32 [00:08<00:00,  3.73it/s]\n"
     ]
    },
    {
     "name": "stdout",
     "output_type": "stream",
     "text": [
      "Epoch 23 | Train Loss: 0.4042 | Train F1: 0.8454 | Val Loss: 0.3043 | Val F1: 0.9523\n"
     ]
    },
    {
     "name": "stderr",
     "output_type": "stream",
     "text": [
      "Loss: 0.1477: 100%|██████████| 126/126 [00:39<00:00,  3.16it/s]\n",
      "Val Loss: 0.1470: 100%|██████████| 32/32 [00:08<00:00,  3.77it/s]\n"
     ]
    },
    {
     "name": "stdout",
     "output_type": "stream",
     "text": [
      "Epoch 24 | Train Loss: 0.4325 | Train F1: 0.8075 | Val Loss: 0.2432 | Val F1: 0.9679\n"
     ]
    },
    {
     "name": "stderr",
     "output_type": "stream",
     "text": [
      "Loss: 0.1504: 100%|██████████| 126/126 [00:39<00:00,  3.17it/s]\n",
      "Val Loss: 0.1462: 100%|██████████| 32/32 [00:08<00:00,  3.77it/s]\n"
     ]
    },
    {
     "name": "stdout",
     "output_type": "stream",
     "text": [
      "Epoch 25 | Train Loss: 0.4049 | Train F1: 0.8648 | Val Loss: 0.2571 | Val F1: 0.9684\n"
     ]
    },
    {
     "name": "stderr",
     "output_type": "stream",
     "text": [
      "Loss: 0.1501: 100%|██████████| 126/126 [00:39<00:00,  3.17it/s]\n",
      "Val Loss: 0.1475: 100%|██████████| 32/32 [00:08<00:00,  3.76it/s]\n"
     ]
    },
    {
     "name": "stdout",
     "output_type": "stream",
     "text": [
      "Epoch 26 | Train Loss: 0.4444 | Train F1: 0.8348 | Val Loss: 0.3188 | Val F1: 0.9584\n"
     ]
    },
    {
     "name": "stderr",
     "output_type": "stream",
     "text": [
      "Loss: 0.1492: 100%|██████████| 126/126 [00:39<00:00,  3.16it/s]\n",
      "Val Loss: 0.1476: 100%|██████████| 32/32 [00:08<00:00,  3.71it/s]\n"
     ]
    },
    {
     "name": "stdout",
     "output_type": "stream",
     "text": [
      "Epoch 27 | Train Loss: 0.4266 | Train F1: 0.8696 | Val Loss: 0.2098 | Val F1: 0.9765\n"
     ]
    },
    {
     "name": "stderr",
     "output_type": "stream",
     "text": [
      "Loss: 0.1467: 100%|██████████| 126/126 [00:39<00:00,  3.16it/s]\n",
      "Val Loss: 0.1460: 100%|██████████| 32/32 [00:08<00:00,  3.72it/s]\n"
     ]
    },
    {
     "name": "stdout",
     "output_type": "stream",
     "text": [
      "Epoch 28 | Train Loss: 0.3787 | Train F1: 0.8819 | Val Loss: 0.2260 | Val F1: 0.9765\n"
     ]
    },
    {
     "name": "stderr",
     "output_type": "stream",
     "text": [
      "Loss: 0.8799: 100%|██████████| 126/126 [00:39<00:00,  3.16it/s]\n",
      "Val Loss: 0.1464: 100%|██████████| 32/32 [00:08<00:00,  3.74it/s]\n"
     ]
    },
    {
     "name": "stdout",
     "output_type": "stream",
     "text": [
      "Epoch 29 | Train Loss: 0.4882 | Train F1: 0.7990 | Val Loss: 0.2168 | Val F1: 0.9759\n"
     ]
    },
    {
     "name": "stderr",
     "output_type": "stream",
     "text": [
      "Loss: 0.9746: 100%|██████████| 126/126 [00:39<00:00,  3.17it/s]\n",
      "Val Loss: 0.1474: 100%|██████████| 32/32 [00:08<00:00,  3.75it/s]\n"
     ]
    },
    {
     "name": "stdout",
     "output_type": "stream",
     "text": [
      "Epoch 30 | Train Loss: 0.4148 | Train F1: 0.8697 | Val Loss: 0.2546 | Val F1: 0.9699\n"
     ]
    },
    {
     "name": "stderr",
     "output_type": "stream",
     "text": [
      "Loss: 1.1855: 100%|██████████| 126/126 [00:39<00:00,  3.16it/s]\n",
      "Val Loss: 0.1467: 100%|██████████| 32/32 [00:08<00:00,  3.73it/s]\n"
     ]
    },
    {
     "name": "stdout",
     "output_type": "stream",
     "text": [
      "Epoch 31 | Train Loss: 0.3892 | Train F1: 0.8254 | Val Loss: 0.2140 | Val F1: 0.9823\n"
     ]
    },
    {
     "name": "stderr",
     "output_type": "stream",
     "text": [
      "Loss: 0.1570: 100%|██████████| 126/126 [00:39<00:00,  3.16it/s]\n",
      "Val Loss: 0.1462: 100%|██████████| 32/32 [00:08<00:00,  3.71it/s]\n"
     ]
    },
    {
     "name": "stdout",
     "output_type": "stream",
     "text": [
      "Epoch 32 | Train Loss: 0.4578 | Train F1: 0.8425 | Val Loss: 0.1972 | Val F1: 0.9819\n"
     ]
    },
    {
     "name": "stderr",
     "output_type": "stream",
     "text": [
      "Loss: 0.2656: 100%|██████████| 126/126 [00:39<00:00,  3.16it/s]\n",
      "Val Loss: 0.1460: 100%|██████████| 32/32 [00:08<00:00,  3.79it/s]\n"
     ]
    },
    {
     "name": "stdout",
     "output_type": "stream",
     "text": [
      "Epoch 33 | Train Loss: 0.3673 | Train F1: 0.8890 | Val Loss: 0.2055 | Val F1: 0.9708\n"
     ]
    },
    {
     "name": "stderr",
     "output_type": "stream",
     "text": [
      "Loss: 1.3818: 100%|██████████| 126/126 [00:39<00:00,  3.18it/s]\n",
      "Val Loss: 0.1477: 100%|██████████| 32/32 [00:08<00:00,  3.78it/s]\n"
     ]
    },
    {
     "name": "stdout",
     "output_type": "stream",
     "text": [
      "Epoch 34 | Train Loss: 0.4580 | Train F1: 0.8313 | Val Loss: 0.2715 | Val F1: 0.9629\n"
     ]
    },
    {
     "name": "stderr",
     "output_type": "stream",
     "text": [
      "Loss: 0.4790: 100%|██████████| 126/126 [00:39<00:00,  3.17it/s]\n",
      "Val Loss: 0.1508: 100%|██████████| 32/32 [00:08<00:00,  3.73it/s]\n"
     ]
    },
    {
     "name": "stdout",
     "output_type": "stream",
     "text": [
      "Epoch 35 | Train Loss: 0.4009 | Train F1: 0.8427 | Val Loss: 0.2905 | Val F1: 0.9525\n"
     ]
    },
    {
     "name": "stderr",
     "output_type": "stream",
     "text": [
      "Loss: 0.1469: 100%|██████████| 126/126 [00:39<00:00,  3.16it/s]\n",
      "Val Loss: 0.1463: 100%|██████████| 32/32 [00:08<00:00,  3.76it/s]\n"
     ]
    },
    {
     "name": "stdout",
     "output_type": "stream",
     "text": [
      "Epoch 36 | Train Loss: 0.4238 | Train F1: 0.8596 | Val Loss: 0.2136 | Val F1: 0.9794\n"
     ]
    },
    {
     "name": "stderr",
     "output_type": "stream",
     "text": [
      "Loss: 0.1471: 100%|██████████| 126/126 [00:39<00:00,  3.16it/s]\n",
      "Val Loss: 0.1460: 100%|██████████| 32/32 [00:08<00:00,  3.69it/s]\n"
     ]
    },
    {
     "name": "stdout",
     "output_type": "stream",
     "text": [
      "Epoch 37 | Train Loss: 0.4323 | Train F1: 0.8363 | Val Loss: 0.2454 | Val F1: 0.9564\n"
     ]
    },
    {
     "name": "stderr",
     "output_type": "stream",
     "text": [
      "Loss: 0.1471: 100%|██████████| 126/126 [00:40<00:00,  3.15it/s]\n",
      "Val Loss: 0.1467: 100%|██████████| 32/32 [00:08<00:00,  3.78it/s]"
     ]
    },
    {
     "name": "stdout",
     "output_type": "stream",
     "text": [
      "Epoch 38 | Train Loss: 0.3698 | Train F1: 0.8667 | Val Loss: 0.2114 | Val F1: 0.9882\n"
     ]
    },
    {
     "name": "stderr",
     "output_type": "stream",
     "text": [
      "\n",
      "Loss: 0.4507: 100%|██████████| 126/126 [00:39<00:00,  3.17it/s]\n",
      "Val Loss: 0.1459: 100%|██████████| 32/32 [00:08<00:00,  3.78it/s]\n"
     ]
    },
    {
     "name": "stdout",
     "output_type": "stream",
     "text": [
      "Epoch 39 | Train Loss: 0.3830 | Train F1: 0.8784 | Val Loss: 0.2032 | Val F1: 0.9823\n"
     ]
    },
    {
     "name": "stderr",
     "output_type": "stream",
     "text": [
      "Loss: 0.6382: 100%|██████████| 126/126 [00:39<00:00,  3.17it/s]\n",
      "Val Loss: 0.1458: 100%|██████████| 32/32 [00:08<00:00,  3.73it/s]\n"
     ]
    },
    {
     "name": "stdout",
     "output_type": "stream",
     "text": [
      "Epoch 40 | Train Loss: 0.3653 | Train F1: 0.8614 | Val Loss: 0.1960 | Val F1: 0.9819\n"
     ]
    },
    {
     "name": "stderr",
     "output_type": "stream",
     "text": [
      "Loss: 0.1461: 100%|██████████| 126/126 [00:39<00:00,  3.18it/s]\n",
      "Val Loss: 0.1459: 100%|██████████| 32/32 [00:08<00:00,  3.73it/s]\n"
     ]
    },
    {
     "name": "stdout",
     "output_type": "stream",
     "text": [
      "Epoch 41 | Train Loss: 0.4129 | Train F1: 0.8733 | Val Loss: 0.2529 | Val F1: 0.9623\n"
     ]
    },
    {
     "name": "stderr",
     "output_type": "stream",
     "text": [
      "Loss: 0.1465: 100%|██████████| 126/126 [00:39<00:00,  3.16it/s]\n",
      "Val Loss: 0.1465: 100%|██████████| 32/32 [00:08<00:00,  3.73it/s]\n"
     ]
    },
    {
     "name": "stdout",
     "output_type": "stream",
     "text": [
      "Epoch 42 | Train Loss: 0.4253 | Train F1: 0.8569 | Val Loss: 0.1935 | Val F1: 0.9708\n"
     ]
    },
    {
     "name": "stderr",
     "output_type": "stream",
     "text": [
      "Loss: 0.8135: 100%|██████████| 126/126 [00:39<00:00,  3.16it/s]\n",
      "Val Loss: 0.1459: 100%|██████████| 32/32 [00:08<00:00,  3.71it/s]\n"
     ]
    },
    {
     "name": "stdout",
     "output_type": "stream",
     "text": [
      "Epoch 43 | Train Loss: 0.3861 | Train F1: 0.8728 | Val Loss: 0.2343 | Val F1: 0.9778\n"
     ]
    },
    {
     "name": "stderr",
     "output_type": "stream",
     "text": [
      "Loss: 0.7065: 100%|██████████| 126/126 [00:39<00:00,  3.17it/s]\n",
      "Val Loss: 0.1459: 100%|██████████| 32/32 [00:08<00:00,  3.78it/s]\n"
     ]
    },
    {
     "name": "stdout",
     "output_type": "stream",
     "text": [
      "Epoch 44 | Train Loss: 0.4119 | Train F1: 0.8564 | Val Loss: 0.2171 | Val F1: 0.9742\n"
     ]
    },
    {
     "name": "stderr",
     "output_type": "stream",
     "text": [
      "Loss: 0.1470: 100%|██████████| 126/126 [00:39<00:00,  3.15it/s]\n",
      "Val Loss: 0.1458: 100%|██████████| 32/32 [00:08<00:00,  3.78it/s]\n"
     ]
    },
    {
     "name": "stdout",
     "output_type": "stream",
     "text": [
      "Epoch 45 | Train Loss: 0.3396 | Train F1: 0.8665 | Val Loss: 0.2002 | Val F1: 0.9853\n"
     ]
    },
    {
     "name": "stderr",
     "output_type": "stream",
     "text": [
      "Loss: 0.1459: 100%|██████████| 126/126 [00:39<00:00,  3.16it/s]\n",
      "Val Loss: 0.1459: 100%|██████████| 32/32 [00:08<00:00,  3.74it/s]\n"
     ]
    },
    {
     "name": "stdout",
     "output_type": "stream",
     "text": [
      "Epoch 46 | Train Loss: 0.2795 | Train F1: 0.9181 | Val Loss: 0.2200 | Val F1: 0.9794\n"
     ]
    },
    {
     "name": "stderr",
     "output_type": "stream",
     "text": [
      "Loss: 0.1467: 100%|██████████| 126/126 [00:39<00:00,  3.17it/s]\n",
      "Val Loss: 0.1458: 100%|██████████| 32/32 [00:08<00:00,  3.79it/s]\n"
     ]
    },
    {
     "name": "stdout",
     "output_type": "stream",
     "text": [
      "Epoch 47 | Train Loss: 0.3546 | Train F1: 0.8650 | Val Loss: 0.2320 | Val F1: 0.9678\n"
     ]
    },
    {
     "name": "stderr",
     "output_type": "stream",
     "text": [
      "Loss: 0.1460: 100%|██████████| 126/126 [00:39<00:00,  3.17it/s]\n",
      "Val Loss: 0.1461: 100%|██████████| 32/32 [00:08<00:00,  3.73it/s]\n"
     ]
    },
    {
     "name": "stdout",
     "output_type": "stream",
     "text": [
      "Epoch 48 | Train Loss: 0.3694 | Train F1: 0.8413 | Val Loss: 0.1923 | Val F1: 0.9852\n"
     ]
    },
    {
     "name": "stderr",
     "output_type": "stream",
     "text": [
      "Loss: 0.1479: 100%|██████████| 126/126 [00:39<00:00,  3.17it/s]\n",
      "Val Loss: 0.1460: 100%|██████████| 32/32 [00:08<00:00,  3.80it/s]\n"
     ]
    },
    {
     "name": "stdout",
     "output_type": "stream",
     "text": [
      "Epoch 49 | Train Loss: 0.3911 | Train F1: 0.8221 | Val Loss: 0.3067 | Val F1: 0.9632\n"
     ]
    },
    {
     "name": "stderr",
     "output_type": "stream",
     "text": [
      "Loss: 0.1458: 100%|██████████| 126/126 [00:39<00:00,  3.17it/s]\n",
      "Val Loss: 0.1458: 100%|██████████| 32/32 [00:08<00:00,  3.77it/s]\n"
     ]
    },
    {
     "name": "stdout",
     "output_type": "stream",
     "text": [
      "Epoch 50 | Train Loss: 0.3697 | Train F1: 0.8638 | Val Loss: 0.2535 | Val F1: 0.9625\n"
     ]
    },
    {
     "name": "stderr",
     "output_type": "stream",
     "text": [
      "Loss: 0.1465: 100%|██████████| 126/126 [00:39<00:00,  3.17it/s]\n",
      "Val Loss: 0.1459: 100%|██████████| 32/32 [00:08<00:00,  3.71it/s]\n"
     ]
    },
    {
     "name": "stdout",
     "output_type": "stream",
     "text": [
      "Epoch 51 | Train Loss: 0.3203 | Train F1: 0.8843 | Val Loss: 0.2383 | Val F1: 0.9774\n"
     ]
    },
    {
     "name": "stderr",
     "output_type": "stream",
     "text": [
      "Loss: 0.1460: 100%|██████████| 126/126 [00:39<00:00,  3.18it/s]\n",
      "Val Loss: 0.1458: 100%|██████████| 32/32 [00:08<00:00,  3.76it/s]\n"
     ]
    },
    {
     "name": "stdout",
     "output_type": "stream",
     "text": [
      "Epoch 52 | Train Loss: 0.3395 | Train F1: 0.8668 | Val Loss: 0.1994 | Val F1: 0.9833\n"
     ]
    },
    {
     "name": "stderr",
     "output_type": "stream",
     "text": [
      "Loss: 0.1460: 100%|██████████| 126/126 [00:39<00:00,  3.17it/s]\n",
      "Val Loss: 0.1459: 100%|██████████| 32/32 [00:08<00:00,  3.78it/s]\n"
     ]
    },
    {
     "name": "stdout",
     "output_type": "stream",
     "text": [
      "Epoch 53 | Train Loss: 0.3942 | Train F1: 0.8607 | Val Loss: 0.1874 | Val F1: 0.9912\n"
     ]
    },
    {
     "name": "stderr",
     "output_type": "stream",
     "text": [
      "Loss: 0.1460: 100%|██████████| 126/126 [00:39<00:00,  3.17it/s]\n",
      "Val Loss: 0.1458: 100%|██████████| 32/32 [00:08<00:00,  3.78it/s]\n"
     ]
    },
    {
     "name": "stdout",
     "output_type": "stream",
     "text": [
      "Epoch 54 | Train Loss: 0.3739 | Train F1: 0.8668 | Val Loss: 0.2139 | Val F1: 0.9804\n"
     ]
    },
    {
     "name": "stderr",
     "output_type": "stream",
     "text": [
      "Loss: 0.1874: 100%|██████████| 126/126 [00:39<00:00,  3.18it/s]\n",
      "Val Loss: 0.1457: 100%|██████████| 32/32 [00:08<00:00,  3.76it/s]\n"
     ]
    },
    {
     "name": "stdout",
     "output_type": "stream",
     "text": [
      "Epoch 55 | Train Loss: 0.3412 | Train F1: 0.8833 | Val Loss: 0.2534 | Val F1: 0.9695\n"
     ]
    },
    {
     "name": "stderr",
     "output_type": "stream",
     "text": [
      "Loss: 0.1460: 100%|██████████| 126/126 [00:39<00:00,  3.18it/s]\n",
      "Val Loss: 0.1477: 100%|██████████| 32/32 [00:08<00:00,  3.78it/s]\n"
     ]
    },
    {
     "name": "stdout",
     "output_type": "stream",
     "text": [
      "Epoch 56 | Train Loss: 0.3494 | Train F1: 0.8367 | Val Loss: 0.1979 | Val F1: 0.9834\n"
     ]
    },
    {
     "name": "stderr",
     "output_type": "stream",
     "text": [
      "Loss: 0.1458: 100%|██████████| 126/126 [00:39<00:00,  3.18it/s]\n",
      "Val Loss: 0.1456: 100%|██████████| 32/32 [00:08<00:00,  3.76it/s]\n"
     ]
    },
    {
     "name": "stdout",
     "output_type": "stream",
     "text": [
      "Epoch 57 | Train Loss: 0.3364 | Train F1: 0.8892 | Val Loss: 0.1985 | Val F1: 0.9761\n"
     ]
    },
    {
     "name": "stderr",
     "output_type": "stream",
     "text": [
      "Loss: 0.7100: 100%|██████████| 126/126 [00:39<00:00,  3.17it/s]\n",
      "Val Loss: 0.1457: 100%|██████████| 32/32 [00:08<00:00,  3.74it/s]\n"
     ]
    },
    {
     "name": "stdout",
     "output_type": "stream",
     "text": [
      "Epoch 58 | Train Loss: 0.3892 | Train F1: 0.8659 | Val Loss: 0.2169 | Val F1: 0.9853\n"
     ]
    },
    {
     "name": "stderr",
     "output_type": "stream",
     "text": [
      "Loss: 1.0498: 100%|██████████| 126/126 [00:39<00:00,  3.17it/s]\n",
      "Val Loss: 0.1458: 100%|██████████| 32/32 [00:08<00:00,  3.80it/s]\n"
     ]
    },
    {
     "name": "stdout",
     "output_type": "stream",
     "text": [
      "Epoch 59 | Train Loss: 0.3456 | Train F1: 0.8968 | Val Loss: 0.2408 | Val F1: 0.9779\n"
     ]
    },
    {
     "name": "stderr",
     "output_type": "stream",
     "text": [
      "Loss: 0.1465: 100%|██████████| 126/126 [00:39<00:00,  3.18it/s]\n",
      "Val Loss: 0.1459: 100%|██████████| 32/32 [00:08<00:00,  3.73it/s]\n"
     ]
    },
    {
     "name": "stdout",
     "output_type": "stream",
     "text": [
      "Epoch 60 | Train Loss: 0.3485 | Train F1: 0.8374 | Val Loss: 0.2615 | Val F1: 0.9596\n"
     ]
    },
    {
     "name": "stderr",
     "output_type": "stream",
     "text": [
      "Loss: 0.1456: 100%|██████████| 126/126 [00:39<00:00,  3.17it/s]\n",
      "Val Loss: 0.1457: 100%|██████████| 32/32 [00:08<00:00,  3.77it/s]\n"
     ]
    },
    {
     "name": "stdout",
     "output_type": "stream",
     "text": [
      "Epoch 61 | Train Loss: 0.3454 | Train F1: 0.8608 | Val Loss: 0.1983 | Val F1: 0.9738\n"
     ]
    },
    {
     "name": "stderr",
     "output_type": "stream",
     "text": [
      "Loss: 0.1458: 100%|██████████| 126/126 [00:39<00:00,  3.18it/s]\n",
      "Val Loss: 0.1457: 100%|██████████| 32/32 [00:08<00:00,  3.77it/s]\n"
     ]
    },
    {
     "name": "stdout",
     "output_type": "stream",
     "text": [
      "Epoch 62 | Train Loss: 0.3627 | Train F1: 0.8733 | Val Loss: 0.2206 | Val F1: 0.9773\n"
     ]
    },
    {
     "name": "stderr",
     "output_type": "stream",
     "text": [
      "Loss: 0.1458: 100%|██████████| 126/126 [00:39<00:00,  3.18it/s]\n",
      "Val Loss: 0.1457: 100%|██████████| 32/32 [00:08<00:00,  3.69it/s]\n"
     ]
    },
    {
     "name": "stdout",
     "output_type": "stream",
     "text": [
      "Epoch 63 | Train Loss: 0.3323 | Train F1: 0.8782 | Val Loss: 0.2157 | Val F1: 0.9851\n"
     ]
    },
    {
     "name": "stderr",
     "output_type": "stream",
     "text": [
      "Loss: 0.4480: 100%|██████████| 126/126 [00:39<00:00,  3.18it/s]\n",
      "Val Loss: 0.1456: 100%|██████████| 32/32 [00:08<00:00,  3.76it/s]\n"
     ]
    },
    {
     "name": "stdout",
     "output_type": "stream",
     "text": [
      "Epoch 64 | Train Loss: 0.3396 | Train F1: 0.8695 | Val Loss: 0.2209 | Val F1: 0.9852\n"
     ]
    },
    {
     "name": "stderr",
     "output_type": "stream",
     "text": [
      "Loss: 0.9053: 100%|██████████| 126/126 [00:39<00:00,  3.18it/s]\n",
      "Val Loss: 0.1456: 100%|██████████| 32/32 [00:08<00:00,  3.78it/s]\n"
     ]
    },
    {
     "name": "stdout",
     "output_type": "stream",
     "text": [
      "Epoch 65 | Train Loss: 0.3944 | Train F1: 0.8420 | Val Loss: 0.2159 | Val F1: 0.9853\n"
     ]
    },
    {
     "name": "stderr",
     "output_type": "stream",
     "text": [
      "Loss: 0.1458: 100%|██████████| 126/126 [00:39<00:00,  3.17it/s]\n",
      "Val Loss: 0.1456: 100%|██████████| 32/32 [00:08<00:00,  3.78it/s]\n"
     ]
    },
    {
     "name": "stdout",
     "output_type": "stream",
     "text": [
      "Epoch 66 | Train Loss: 0.3361 | Train F1: 0.8828 | Val Loss: 0.2087 | Val F1: 0.9834\n"
     ]
    },
    {
     "name": "stderr",
     "output_type": "stream",
     "text": [
      "Loss: 0.1460: 100%|██████████| 126/126 [00:39<00:00,  3.18it/s]\n",
      "Val Loss: 0.1456: 100%|██████████| 32/32 [00:08<00:00,  3.73it/s]\n"
     ]
    },
    {
     "name": "stdout",
     "output_type": "stream",
     "text": [
      "Epoch 67 | Train Loss: 0.3189 | Train F1: 0.8720 | Val Loss: 0.2196 | Val F1: 0.9837\n"
     ]
    },
    {
     "name": "stderr",
     "output_type": "stream",
     "text": [
      "Loss: 0.7305: 100%|██████████| 126/126 [00:39<00:00,  3.17it/s]\n",
      "Val Loss: 0.1456: 100%|██████████| 32/32 [00:08<00:00,  3.72it/s]\n"
     ]
    },
    {
     "name": "stdout",
     "output_type": "stream",
     "text": [
      "Epoch 68 | Train Loss: 0.3212 | Train F1: 0.8599 | Val Loss: 0.2113 | Val F1: 0.9774\n"
     ]
    },
    {
     "name": "stderr",
     "output_type": "stream",
     "text": [
      "Loss: 0.1456: 100%|██████████| 126/126 [00:39<00:00,  3.18it/s]\n",
      "Val Loss: 0.1456: 100%|██████████| 32/32 [00:08<00:00,  3.75it/s]\n"
     ]
    },
    {
     "name": "stdout",
     "output_type": "stream",
     "text": [
      "Epoch 69 | Train Loss: 0.3891 | Train F1: 0.8665 | Val Loss: 0.2226 | Val F1: 0.9788\n"
     ]
    },
    {
     "name": "stderr",
     "output_type": "stream",
     "text": [
      "Loss: 0.1458: 100%|██████████| 126/126 [00:39<00:00,  3.18it/s]\n",
      "Val Loss: 0.1457: 100%|██████████| 32/32 [00:08<00:00,  3.75it/s]\n"
     ]
    },
    {
     "name": "stdout",
     "output_type": "stream",
     "text": [
      "Epoch 70 | Train Loss: 0.3413 | Train F1: 0.8949 | Val Loss: 0.2015 | Val F1: 0.9868\n"
     ]
    },
    {
     "name": "stderr",
     "output_type": "stream",
     "text": [
      "Loss: 0.1458: 100%|██████████| 126/126 [00:39<00:00,  3.18it/s]\n",
      "Val Loss: 0.1457: 100%|██████████| 32/32 [00:08<00:00,  3.75it/s]\n"
     ]
    },
    {
     "name": "stdout",
     "output_type": "stream",
     "text": [
      "Epoch 71 | Train Loss: 0.4262 | Train F1: 0.8192 | Val Loss: 0.1890 | Val F1: 0.9867\n"
     ]
    },
    {
     "name": "stderr",
     "output_type": "stream",
     "text": [
      "Loss: 0.3535: 100%|██████████| 126/126 [00:39<00:00,  3.18it/s]\n",
      "Val Loss: 0.1456: 100%|██████████| 32/32 [00:08<00:00,  3.72it/s]\n"
     ]
    },
    {
     "name": "stdout",
     "output_type": "stream",
     "text": [
      "Epoch 72 | Train Loss: 0.3273 | Train F1: 0.8698 | Val Loss: 0.2162 | Val F1: 0.9805\n"
     ]
    },
    {
     "name": "stderr",
     "output_type": "stream",
     "text": [
      "Loss: 0.1539: 100%|██████████| 126/126 [00:39<00:00,  3.18it/s]\n",
      "Val Loss: 0.1457: 100%|██████████| 32/32 [00:08<00:00,  3.76it/s]\n"
     ]
    },
    {
     "name": "stdout",
     "output_type": "stream",
     "text": [
      "Epoch 73 | Train Loss: 0.3698 | Train F1: 0.8356 | Val Loss: 0.2586 | Val F1: 0.9652\n"
     ]
    },
    {
     "name": "stderr",
     "output_type": "stream",
     "text": [
      "Loss: 0.1456: 100%|██████████| 126/126 [00:39<00:00,  3.18it/s]\n",
      "Val Loss: 0.1456: 100%|██████████| 32/32 [00:08<00:00,  3.76it/s]\n"
     ]
    },
    {
     "name": "stdout",
     "output_type": "stream",
     "text": [
      "Epoch 74 | Train Loss: 0.3741 | Train F1: 0.8413 | Val Loss: 0.2190 | Val F1: 0.9821\n"
     ]
    },
    {
     "name": "stderr",
     "output_type": "stream",
     "text": [
      "Loss: 0.1456: 100%|██████████| 126/126 [00:39<00:00,  3.17it/s]\n",
      "Val Loss: 0.1456: 100%|██████████| 32/32 [00:08<00:00,  3.74it/s]\n"
     ]
    },
    {
     "name": "stdout",
     "output_type": "stream",
     "text": [
      "Epoch 75 | Train Loss: 0.3329 | Train F1: 0.8644 | Val Loss: 0.1991 | Val F1: 0.9834\n"
     ]
    },
    {
     "name": "stderr",
     "output_type": "stream",
     "text": [
      "Loss: 0.3235: 100%|██████████| 126/126 [00:39<00:00,  3.19it/s]\n",
      "Val Loss: 0.1458: 100%|██████████| 32/32 [00:08<00:00,  3.73it/s]\n"
     ]
    },
    {
     "name": "stdout",
     "output_type": "stream",
     "text": [
      "Epoch 76 | Train Loss: 0.3468 | Train F1: 0.8385 | Val Loss: 0.2428 | Val F1: 0.9805\n"
     ]
    },
    {
     "name": "stderr",
     "output_type": "stream",
     "text": [
      "Loss: 0.1458: 100%|██████████| 126/126 [00:39<00:00,  3.18it/s]\n",
      "Val Loss: 0.1456: 100%|██████████| 32/32 [00:08<00:00,  3.76it/s]\n"
     ]
    },
    {
     "name": "stdout",
     "output_type": "stream",
     "text": [
      "Epoch 77 | Train Loss: 0.2933 | Train F1: 0.8942 | Val Loss: 0.2388 | Val F1: 0.9794\n"
     ]
    },
    {
     "name": "stderr",
     "output_type": "stream",
     "text": [
      "Loss: 0.1458: 100%|██████████| 126/126 [00:39<00:00,  3.17it/s]\n",
      "Val Loss: 0.1457: 100%|██████████| 32/32 [00:08<00:00,  3.75it/s]\n"
     ]
    },
    {
     "name": "stdout",
     "output_type": "stream",
     "text": [
      "Epoch 78 | Train Loss: 0.3588 | Train F1: 0.8457 | Val Loss: 0.2029 | Val F1: 0.9823\n"
     ]
    },
    {
     "name": "stderr",
     "output_type": "stream",
     "text": [
      "Loss: 0.1456: 100%|██████████| 126/126 [00:39<00:00,  3.17it/s]\n",
      "Val Loss: 0.1456: 100%|██████████| 32/32 [00:08<00:00,  3.73it/s]\n"
     ]
    },
    {
     "name": "stdout",
     "output_type": "stream",
     "text": [
      "Epoch 79 | Train Loss: 0.2925 | Train F1: 0.8534 | Val Loss: 0.1901 | Val F1: 0.9882\n"
     ]
    },
    {
     "name": "stderr",
     "output_type": "stream",
     "text": [
      "Loss: 0.4580: 100%|██████████| 126/126 [00:39<00:00,  3.18it/s]\n",
      "Val Loss: 0.1456: 100%|██████████| 32/32 [00:08<00:00,  3.76it/s]\n"
     ]
    },
    {
     "name": "stdout",
     "output_type": "stream",
     "text": [
      "Epoch 80 | Train Loss: 0.3317 | Train F1: 0.8494 | Val Loss: 0.2374 | Val F1: 0.9762\n"
     ]
    },
    {
     "name": "stderr",
     "output_type": "stream",
     "text": [
      "Loss: 0.1455: 100%|██████████| 126/126 [00:39<00:00,  3.17it/s]\n",
      "Val Loss: 0.1456: 100%|██████████| 32/32 [00:08<00:00,  3.75it/s]\n"
     ]
    },
    {
     "name": "stdout",
     "output_type": "stream",
     "text": [
      "Epoch 81 | Train Loss: 0.3224 | Train F1: 0.8747 | Val Loss: 0.2108 | Val F1: 0.9822\n"
     ]
    },
    {
     "name": "stderr",
     "output_type": "stream",
     "text": [
      "Loss: 0.1455: 100%|██████████| 126/126 [00:39<00:00,  3.17it/s]\n",
      "Val Loss: 0.1456: 100%|██████████| 32/32 [00:08<00:00,  3.75it/s]\n"
     ]
    },
    {
     "name": "stdout",
     "output_type": "stream",
     "text": [
      "Epoch 82 | Train Loss: 0.3434 | Train F1: 0.8878 | Val Loss: 0.1768 | Val F1: 0.9868\n"
     ]
    },
    {
     "name": "stderr",
     "output_type": "stream",
     "text": [
      "Loss: 0.1456: 100%|██████████| 126/126 [00:39<00:00,  3.18it/s]\n",
      "Val Loss: 0.1457: 100%|██████████| 32/32 [00:08<00:00,  3.73it/s]\n"
     ]
    },
    {
     "name": "stdout",
     "output_type": "stream",
     "text": [
      "Epoch 83 | Train Loss: 0.3635 | Train F1: 0.8312 | Val Loss: 0.1961 | Val F1: 0.9820\n"
     ]
    },
    {
     "name": "stderr",
     "output_type": "stream",
     "text": [
      "Loss: 0.1467: 100%|██████████| 126/126 [00:39<00:00,  3.17it/s]\n",
      "Val Loss: 0.1456: 100%|██████████| 32/32 [00:08<00:00,  3.72it/s]\n"
     ]
    },
    {
     "name": "stdout",
     "output_type": "stream",
     "text": [
      "Epoch 84 | Train Loss: 0.2962 | Train F1: 0.8857 | Val Loss: 0.2432 | Val F1: 0.9759\n"
     ]
    },
    {
     "name": "stderr",
     "output_type": "stream",
     "text": [
      "Loss: 0.1456: 100%|██████████| 126/126 [00:39<00:00,  3.19it/s]\n",
      "Val Loss: 0.1456: 100%|██████████| 32/32 [00:08<00:00,  3.76it/s]\n"
     ]
    },
    {
     "name": "stdout",
     "output_type": "stream",
     "text": [
      "Epoch 85 | Train Loss: 0.3094 | Train F1: 0.9113 | Val Loss: 0.1830 | Val F1: 0.9912\n"
     ]
    },
    {
     "name": "stderr",
     "output_type": "stream",
     "text": [
      "Loss: 0.1456: 100%|██████████| 126/126 [00:39<00:00,  3.17it/s]\n",
      "Val Loss: 0.1456: 100%|██████████| 32/32 [00:08<00:00,  3.77it/s]\n"
     ]
    },
    {
     "name": "stdout",
     "output_type": "stream",
     "text": [
      "Epoch 86 | Train Loss: 0.3481 | Train F1: 0.8452 | Val Loss: 0.2246 | Val F1: 0.9853\n"
     ]
    },
    {
     "name": "stderr",
     "output_type": "stream",
     "text": [
      "Loss: 0.7266: 100%|██████████| 126/126 [00:39<00:00,  3.18it/s]\n",
      "Val Loss: 0.1456: 100%|██████████| 32/32 [00:08<00:00,  3.75it/s]\n"
     ]
    },
    {
     "name": "stdout",
     "output_type": "stream",
     "text": [
      "Epoch 87 | Train Loss: 0.3480 | Train F1: 0.8980 | Val Loss: 0.2068 | Val F1: 0.9882\n"
     ]
    },
    {
     "name": "stderr",
     "output_type": "stream",
     "text": [
      "Loss: 0.3223: 100%|██████████| 126/126 [00:39<00:00,  3.18it/s]\n",
      "Val Loss: 0.1456: 100%|██████████| 32/32 [00:08<00:00,  3.78it/s]\n"
     ]
    },
    {
     "name": "stdout",
     "output_type": "stream",
     "text": [
      "Epoch 88 | Train Loss: 0.3383 | Train F1: 0.8748 | Val Loss: 0.2061 | Val F1: 0.9882\n"
     ]
    },
    {
     "name": "stderr",
     "output_type": "stream",
     "text": [
      "Loss: 0.1455: 100%|██████████| 126/126 [00:39<00:00,  3.18it/s]\n",
      "Val Loss: 0.1456: 100%|██████████| 32/32 [00:08<00:00,  3.76it/s]\n"
     ]
    },
    {
     "name": "stdout",
     "output_type": "stream",
     "text": [
      "Epoch 89 | Train Loss: 0.2560 | Train F1: 0.9421 | Val Loss: 0.1764 | Val F1: 0.9879\n"
     ]
    },
    {
     "name": "stderr",
     "output_type": "stream",
     "text": [
      "Loss: 0.1458: 100%|██████████| 126/126 [00:39<00:00,  3.18it/s]\n",
      "Val Loss: 0.1456: 100%|██████████| 32/32 [00:08<00:00,  3.74it/s]\n"
     ]
    },
    {
     "name": "stdout",
     "output_type": "stream",
     "text": [
      "Epoch 90 | Train Loss: 0.3089 | Train F1: 0.8989 | Val Loss: 0.2060 | Val F1: 0.9837\n"
     ]
    },
    {
     "name": "stderr",
     "output_type": "stream",
     "text": [
      "Loss: 0.1456: 100%|██████████| 126/126 [00:39<00:00,  3.18it/s]\n",
      "Val Loss: 0.1456: 100%|██████████| 32/32 [00:08<00:00,  3.76it/s]\n"
     ]
    },
    {
     "name": "stdout",
     "output_type": "stream",
     "text": [
      "Epoch 91 | Train Loss: 0.2982 | Train F1: 0.8808 | Val Loss: 0.1925 | Val F1: 0.9882\n"
     ]
    },
    {
     "name": "stderr",
     "output_type": "stream",
     "text": [
      "Loss: 0.1456: 100%|██████████| 126/126 [00:39<00:00,  3.18it/s]\n",
      "Val Loss: 0.1456: 100%|██████████| 32/32 [00:08<00:00,  3.78it/s]\n"
     ]
    },
    {
     "name": "stdout",
     "output_type": "stream",
     "text": [
      "Epoch 92 | Train Loss: 0.2927 | Train F1: 0.8942 | Val Loss: 0.1797 | Val F1: 0.9911\n"
     ]
    },
    {
     "name": "stderr",
     "output_type": "stream",
     "text": [
      "Loss: 0.1456: 100%|██████████| 126/126 [00:39<00:00,  3.18it/s]\n",
      "Val Loss: 0.1456: 100%|██████████| 32/32 [00:08<00:00,  3.75it/s]\n"
     ]
    },
    {
     "name": "stdout",
     "output_type": "stream",
     "text": [
      "Epoch 93 | Train Loss: 0.3451 | Train F1: 0.8936 | Val Loss: 0.2296 | Val F1: 0.9731\n"
     ]
    },
    {
     "name": "stderr",
     "output_type": "stream",
     "text": [
      "Loss: 0.1456: 100%|██████████| 126/126 [00:39<00:00,  3.18it/s]\n",
      "Val Loss: 0.1456: 100%|██████████| 32/32 [00:08<00:00,  3.78it/s]\n"
     ]
    },
    {
     "name": "stdout",
     "output_type": "stream",
     "text": [
      "Epoch 94 | Train Loss: 0.3076 | Train F1: 0.8793 | Val Loss: 0.2077 | Val F1: 0.9838\n"
     ]
    },
    {
     "name": "stderr",
     "output_type": "stream",
     "text": [
      "Loss: 1.0713: 100%|██████████| 126/126 [00:39<00:00,  3.17it/s]\n",
      "Val Loss: 0.1456: 100%|██████████| 32/32 [00:08<00:00,  3.78it/s]\n"
     ]
    },
    {
     "name": "stdout",
     "output_type": "stream",
     "text": [
      "Epoch 95 | Train Loss: 0.3421 | Train F1: 0.8623 | Val Loss: 0.2115 | Val F1: 0.9807\n"
     ]
    },
    {
     "name": "stderr",
     "output_type": "stream",
     "text": [
      "Loss: 0.8184: 100%|██████████| 126/126 [00:39<00:00,  3.18it/s]\n",
      "Val Loss: 0.1456: 100%|██████████| 32/32 [00:08<00:00,  3.78it/s]\n"
     ]
    },
    {
     "name": "stdout",
     "output_type": "stream",
     "text": [
      "Epoch 96 | Train Loss: 0.3507 | Train F1: 0.8633 | Val Loss: 0.2218 | Val F1: 0.9882\n"
     ]
    },
    {
     "name": "stderr",
     "output_type": "stream",
     "text": [
      "Loss: 0.7705: 100%|██████████| 126/126 [00:39<00:00,  3.17it/s]\n",
      "Val Loss: 0.1456: 100%|██████████| 32/32 [00:08<00:00,  3.73it/s]\n"
     ]
    },
    {
     "name": "stdout",
     "output_type": "stream",
     "text": [
      "Epoch 97 | Train Loss: 0.3579 | Train F1: 0.8657 | Val Loss: 0.2426 | Val F1: 0.9819\n"
     ]
    },
    {
     "name": "stderr",
     "output_type": "stream",
     "text": [
      "Loss: 0.1456: 100%|██████████| 126/126 [00:39<00:00,  3.18it/s]\n",
      "Val Loss: 0.1456: 100%|██████████| 32/32 [00:08<00:00,  3.78it/s]\n"
     ]
    },
    {
     "name": "stdout",
     "output_type": "stream",
     "text": [
      "Epoch 98 | Train Loss: 0.3469 | Train F1: 0.8459 | Val Loss: 0.1976 | Val F1: 0.9863\n"
     ]
    },
    {
     "name": "stderr",
     "output_type": "stream",
     "text": [
      "Loss: 1.7168: 100%|██████████| 126/126 [00:39<00:00,  3.19it/s]\n",
      "Val Loss: 0.1456: 100%|██████████| 32/32 [00:08<00:00,  3.80it/s]\n"
     ]
    },
    {
     "name": "stdout",
     "output_type": "stream",
     "text": [
      "Epoch 99 | Train Loss: 0.3984 | Train F1: 0.8226 | Val Loss: 0.2141 | Val F1: 0.9838\n"
     ]
    },
    {
     "name": "stderr",
     "output_type": "stream",
     "text": [
      "Loss: 0.6719: 100%|██████████| 126/126 [00:39<00:00,  3.17it/s]\n",
      "Val Loss: 0.1456: 100%|██████████| 32/32 [00:08<00:00,  3.77it/s]\n"
     ]
    },
    {
     "name": "stdout",
     "output_type": "stream",
     "text": [
      "Epoch 100 | Train Loss: 0.3815 | Train F1: 0.8497 | Val Loss: 0.2062 | Val F1: 0.9808\n",
      "Fold 3 Best Validation F1: 0.9912\n",
      "\n",
      "==================================================\n",
      "FOLD 4/5\n",
      "==================================================\n",
      "Train samples: 1256, Validation samples: 314\n"
     ]
    },
    {
     "name": "stderr",
     "output_type": "stream",
     "text": [
      "Loss: 0.7119: 100%|██████████| 126/126 [00:39<00:00,  3.17it/s]\n",
      "Val Loss: 0.6524: 100%|██████████| 32/32 [00:08<00:00,  3.77it/s]"
     ]
    },
    {
     "name": "stdout",
     "output_type": "stream",
     "text": [
      "Epoch  1 | Train Loss: 1.4524 | Train F1: 0.5137 | Val Loss: 0.6457 | Val F1: 0.7767\n"
     ]
    },
    {
     "name": "stderr",
     "output_type": "stream",
     "text": [
      "\n",
      "Loss: 0.8086: 100%|██████████| 126/126 [00:39<00:00,  3.16it/s]\n",
      "Val Loss: 0.5249: 100%|██████████| 32/32 [00:08<00:00,  3.73it/s]\n"
     ]
    },
    {
     "name": "stdout",
     "output_type": "stream",
     "text": [
      "Epoch  2 | Train Loss: 0.7724 | Train F1: 0.7561 | Val Loss: 0.4625 | Val F1: 0.8616\n"
     ]
    },
    {
     "name": "stderr",
     "output_type": "stream",
     "text": [
      "Loss: 2.0117: 100%|██████████| 126/126 [00:39<00:00,  3.16it/s]\n",
      "Val Loss: 0.2663: 100%|██████████| 32/32 [00:08<00:00,  3.61it/s]\n"
     ]
    },
    {
     "name": "stdout",
     "output_type": "stream",
     "text": [
      "Epoch  3 | Train Loss: 0.6667 | Train F1: 0.7861 | Val Loss: 0.4179 | Val F1: 0.8631\n"
     ]
    },
    {
     "name": "stderr",
     "output_type": "stream",
     "text": [
      "Loss: 0.3831: 100%|██████████| 126/126 [00:39<00:00,  3.16it/s]\n",
      "Val Loss: 0.1955: 100%|██████████| 32/32 [00:08<00:00,  3.72it/s]\n"
     ]
    },
    {
     "name": "stdout",
     "output_type": "stream",
     "text": [
      "Epoch  4 | Train Loss: 0.6343 | Train F1: 0.7804 | Val Loss: 0.3931 | Val F1: 0.9028\n"
     ]
    },
    {
     "name": "stderr",
     "output_type": "stream",
     "text": [
      "Loss: 1.8066: 100%|██████████| 126/126 [00:39<00:00,  3.16it/s]\n",
      "Val Loss: 0.2192: 100%|██████████| 32/32 [00:08<00:00,  3.75it/s]\n"
     ]
    },
    {
     "name": "stdout",
     "output_type": "stream",
     "text": [
      "Epoch  5 | Train Loss: 0.5755 | Train F1: 0.8028 | Val Loss: 0.3574 | Val F1: 0.8870\n"
     ]
    },
    {
     "name": "stderr",
     "output_type": "stream",
     "text": [
      "Loss: 0.3582: 100%|██████████| 126/126 [00:39<00:00,  3.16it/s]\n",
      "Val Loss: 0.5494: 100%|██████████| 32/32 [00:08<00:00,  3.64it/s]\n"
     ]
    },
    {
     "name": "stdout",
     "output_type": "stream",
     "text": [
      "Epoch  6 | Train Loss: 0.4551 | Train F1: 0.8864 | Val Loss: 0.4674 | Val F1: 0.8657\n"
     ]
    },
    {
     "name": "stderr",
     "output_type": "stream",
     "text": [
      "Loss: 0.1899: 100%|██████████| 126/126 [00:39<00:00,  3.16it/s]\n",
      "Val Loss: 0.2039: 100%|██████████| 32/32 [00:08<00:00,  3.74it/s]\n"
     ]
    },
    {
     "name": "stdout",
     "output_type": "stream",
     "text": [
      "Epoch  7 | Train Loss: 0.5727 | Train F1: 0.7959 | Val Loss: 0.3039 | Val F1: 0.9289\n"
     ]
    },
    {
     "name": "stderr",
     "output_type": "stream",
     "text": [
      "Loss: 0.1592: 100%|██████████| 126/126 [00:39<00:00,  3.16it/s]\n",
      "Val Loss: 0.2683: 100%|██████████| 32/32 [00:08<00:00,  3.74it/s]\n"
     ]
    },
    {
     "name": "stdout",
     "output_type": "stream",
     "text": [
      "Epoch  8 | Train Loss: 0.5431 | Train F1: 0.8289 | Val Loss: 0.3963 | Val F1: 0.9182\n"
     ]
    },
    {
     "name": "stderr",
     "output_type": "stream",
     "text": [
      "Loss: 0.1697: 100%|██████████| 126/126 [00:39<00:00,  3.15it/s]\n",
      "Val Loss: 0.1605: 100%|██████████| 32/32 [00:08<00:00,  3.71it/s]"
     ]
    },
    {
     "name": "stdout",
     "output_type": "stream",
     "text": [
      "Epoch  9 | Train Loss: 0.5730 | Train F1: 0.8026 | Val Loss: 0.2905 | Val F1: 0.9551\n"
     ]
    },
    {
     "name": "stderr",
     "output_type": "stream",
     "text": [
      "\n",
      "Loss: 0.1495: 100%|██████████| 126/126 [00:39<00:00,  3.16it/s]\n",
      "Val Loss: 0.2002: 100%|██████████| 32/32 [00:08<00:00,  3.71it/s]\n"
     ]
    },
    {
     "name": "stdout",
     "output_type": "stream",
     "text": [
      "Epoch 10 | Train Loss: 0.4218 | Train F1: 0.8478 | Val Loss: 0.3262 | Val F1: 0.9356\n"
     ]
    },
    {
     "name": "stderr",
     "output_type": "stream",
     "text": [
      "Loss: 0.1554: 100%|██████████| 126/126 [00:39<00:00,  3.16it/s]\n",
      "Val Loss: 0.1588: 100%|██████████| 32/32 [00:08<00:00,  3.76it/s]\n"
     ]
    },
    {
     "name": "stdout",
     "output_type": "stream",
     "text": [
      "Epoch 11 | Train Loss: 0.4810 | Train F1: 0.8469 | Val Loss: 0.3252 | Val F1: 0.9509\n"
     ]
    },
    {
     "name": "stderr",
     "output_type": "stream",
     "text": [
      "Loss: 0.5371: 100%|██████████| 126/126 [00:39<00:00,  3.16it/s]\n",
      "Val Loss: 0.1601: 100%|██████████| 32/32 [00:08<00:00,  3.70it/s]\n"
     ]
    },
    {
     "name": "stdout",
     "output_type": "stream",
     "text": [
      "Epoch 12 | Train Loss: 0.4929 | Train F1: 0.8291 | Val Loss: 0.2861 | Val F1: 0.9490\n"
     ]
    },
    {
     "name": "stderr",
     "output_type": "stream",
     "text": [
      "Loss: 0.1494: 100%|██████████| 126/126 [00:39<00:00,  3.16it/s]\n",
      "Val Loss: 0.3666: 100%|██████████| 32/32 [00:08<00:00,  3.75it/s]\n"
     ]
    },
    {
     "name": "stdout",
     "output_type": "stream",
     "text": [
      "Epoch 13 | Train Loss: 0.4779 | Train F1: 0.8413 | Val Loss: 0.3324 | Val F1: 0.9482\n"
     ]
    },
    {
     "name": "stderr",
     "output_type": "stream",
     "text": [
      "Loss: 0.4995: 100%|██████████| 126/126 [00:39<00:00,  3.16it/s]\n",
      "Val Loss: 0.1676: 100%|██████████| 32/32 [00:08<00:00,  3.71it/s]"
     ]
    },
    {
     "name": "stdout",
     "output_type": "stream",
     "text": [
      "Epoch 14 | Train Loss: 0.4208 | Train F1: 0.8699 | Val Loss: 0.2747 | Val F1: 0.9607\n"
     ]
    },
    {
     "name": "stderr",
     "output_type": "stream",
     "text": [
      "\n",
      "Loss: 0.1498: 100%|██████████| 126/126 [00:39<00:00,  3.16it/s]\n",
      "Val Loss: 0.1551: 100%|██████████| 32/32 [00:08<00:00,  3.70it/s]"
     ]
    },
    {
     "name": "stdout",
     "output_type": "stream",
     "text": [
      "Epoch 15 | Train Loss: 0.4337 | Train F1: 0.8434 | Val Loss: 0.2921 | Val F1: 0.9685\n"
     ]
    },
    {
     "name": "stderr",
     "output_type": "stream",
     "text": [
      "\n",
      "Loss: 0.1654: 100%|██████████| 126/126 [00:39<00:00,  3.16it/s]\n",
      "Val Loss: 0.1478: 100%|██████████| 32/32 [00:08<00:00,  3.75it/s]\n"
     ]
    },
    {
     "name": "stdout",
     "output_type": "stream",
     "text": [
      "Epoch 16 | Train Loss: 0.4389 | Train F1: 0.7924 | Val Loss: 0.2167 | Val F1: 0.9789\n"
     ]
    },
    {
     "name": "stderr",
     "output_type": "stream",
     "text": [
      "Loss: 0.1614: 100%|██████████| 126/126 [00:40<00:00,  3.15it/s]\n",
      "Val Loss: 0.1494: 100%|██████████| 32/32 [00:08<00:00,  3.71it/s]\n"
     ]
    },
    {
     "name": "stdout",
     "output_type": "stream",
     "text": [
      "Epoch 17 | Train Loss: 0.3823 | Train F1: 0.8804 | Val Loss: 0.2650 | Val F1: 0.9624\n"
     ]
    },
    {
     "name": "stderr",
     "output_type": "stream",
     "text": [
      "Loss: 0.7949: 100%|██████████| 126/126 [00:39<00:00,  3.16it/s]\n",
      "Val Loss: 0.1483: 100%|██████████| 32/32 [00:08<00:00,  3.64it/s]\n"
     ]
    },
    {
     "name": "stdout",
     "output_type": "stream",
     "text": [
      "Epoch 18 | Train Loss: 0.3693 | Train F1: 0.8866 | Val Loss: 0.2663 | Val F1: 0.9701\n"
     ]
    },
    {
     "name": "stderr",
     "output_type": "stream",
     "text": [
      "Loss: 0.2297: 100%|██████████| 126/126 [00:39<00:00,  3.17it/s]\n",
      "Val Loss: 0.1497: 100%|██████████| 32/32 [00:08<00:00,  3.66it/s]\n"
     ]
    },
    {
     "name": "stdout",
     "output_type": "stream",
     "text": [
      "Epoch 19 | Train Loss: 0.4705 | Train F1: 0.8586 | Val Loss: 0.3184 | Val F1: 0.9396\n"
     ]
    },
    {
     "name": "stderr",
     "output_type": "stream",
     "text": [
      "Loss: 0.4414: 100%|██████████| 126/126 [00:39<00:00,  3.16it/s]\n",
      "Val Loss: 0.1691: 100%|██████████| 32/32 [00:08<00:00,  3.70it/s]\n"
     ]
    },
    {
     "name": "stdout",
     "output_type": "stream",
     "text": [
      "Epoch 20 | Train Loss: 0.4968 | Train F1: 0.8119 | Val Loss: 0.2515 | Val F1: 0.9735\n"
     ]
    },
    {
     "name": "stderr",
     "output_type": "stream",
     "text": [
      "Loss: 0.1493: 100%|██████████| 126/126 [00:39<00:00,  3.17it/s]\n",
      "Val Loss: 0.1507: 100%|██████████| 32/32 [00:08<00:00,  3.71it/s]\n"
     ]
    },
    {
     "name": "stdout",
     "output_type": "stream",
     "text": [
      "Epoch 21 | Train Loss: 0.4445 | Train F1: 0.8496 | Val Loss: 0.2198 | Val F1: 0.9823\n"
     ]
    },
    {
     "name": "stderr",
     "output_type": "stream",
     "text": [
      "Loss: 0.4946: 100%|██████████| 126/126 [00:39<00:00,  3.15it/s]\n",
      "Val Loss: 0.1512: 100%|██████████| 32/32 [00:08<00:00,  3.74it/s]\n"
     ]
    },
    {
     "name": "stdout",
     "output_type": "stream",
     "text": [
      "Epoch 22 | Train Loss: 0.4488 | Train F1: 0.8634 | Val Loss: 0.2643 | Val F1: 0.9557\n"
     ]
    },
    {
     "name": "stderr",
     "output_type": "stream",
     "text": [
      "Loss: 0.6548: 100%|██████████| 126/126 [00:39<00:00,  3.16it/s]\n",
      "Val Loss: 0.1562: 100%|██████████| 32/32 [00:08<00:00,  3.71it/s]\n"
     ]
    },
    {
     "name": "stdout",
     "output_type": "stream",
     "text": [
      "Epoch 23 | Train Loss: 0.4374 | Train F1: 0.8651 | Val Loss: 0.3448 | Val F1: 0.9461\n"
     ]
    },
    {
     "name": "stderr",
     "output_type": "stream",
     "text": [
      "Loss: 0.1481: 100%|██████████| 126/126 [00:39<00:00,  3.16it/s]\n",
      "Val Loss: 0.1473: 100%|██████████| 32/32 [00:08<00:00,  3.70it/s]\n"
     ]
    },
    {
     "name": "stdout",
     "output_type": "stream",
     "text": [
      "Epoch 24 | Train Loss: 0.4713 | Train F1: 0.8160 | Val Loss: 0.3231 | Val F1: 0.9559\n"
     ]
    },
    {
     "name": "stderr",
     "output_type": "stream",
     "text": [
      "Loss: 0.1482: 100%|██████████| 126/126 [00:39<00:00,  3.16it/s]\n",
      "Val Loss: 0.1461: 100%|██████████| 32/32 [00:08<00:00,  3.70it/s]\n"
     ]
    },
    {
     "name": "stdout",
     "output_type": "stream",
     "text": [
      "Epoch 25 | Train Loss: 0.3842 | Train F1: 0.8564 | Val Loss: 0.2577 | Val F1: 0.9754\n"
     ]
    },
    {
     "name": "stderr",
     "output_type": "stream",
     "text": [
      "Loss: 0.6309: 100%|██████████| 126/126 [00:39<00:00,  3.16it/s]\n",
      "Val Loss: 0.1521: 100%|██████████| 32/32 [00:08<00:00,  3.71it/s]\n"
     ]
    },
    {
     "name": "stdout",
     "output_type": "stream",
     "text": [
      "Epoch 26 | Train Loss: 0.4049 | Train F1: 0.8852 | Val Loss: 0.3425 | Val F1: 0.9541\n"
     ]
    },
    {
     "name": "stderr",
     "output_type": "stream",
     "text": [
      "Loss: 1.0664: 100%|██████████| 126/126 [00:39<00:00,  3.17it/s]\n",
      "Val Loss: 0.1510: 100%|██████████| 32/32 [00:08<00:00,  3.73it/s]\n"
     ]
    },
    {
     "name": "stdout",
     "output_type": "stream",
     "text": [
      "Epoch 27 | Train Loss: 0.4572 | Train F1: 0.8226 | Val Loss: 0.2971 | Val F1: 0.9499\n"
     ]
    },
    {
     "name": "stderr",
     "output_type": "stream",
     "text": [
      "Loss: 0.2454: 100%|██████████| 126/126 [00:39<00:00,  3.16it/s]\n",
      "Val Loss: 0.1476: 100%|██████████| 32/32 [00:08<00:00,  3.74it/s]\n"
     ]
    },
    {
     "name": "stdout",
     "output_type": "stream",
     "text": [
      "Epoch 28 | Train Loss: 0.4599 | Train F1: 0.8129 | Val Loss: 0.2276 | Val F1: 0.9768\n"
     ]
    },
    {
     "name": "stderr",
     "output_type": "stream",
     "text": [
      "Loss: 0.1464: 100%|██████████| 126/126 [00:39<00:00,  3.17it/s]\n",
      "Val Loss: 0.1471: 100%|██████████| 32/32 [00:08<00:00,  3.70it/s]\n"
     ]
    },
    {
     "name": "stdout",
     "output_type": "stream",
     "text": [
      "Epoch 29 | Train Loss: 0.3982 | Train F1: 0.8552 | Val Loss: 0.2623 | Val F1: 0.9642\n"
     ]
    },
    {
     "name": "stderr",
     "output_type": "stream",
     "text": [
      "Loss: 0.1487: 100%|██████████| 126/126 [00:39<00:00,  3.17it/s]\n",
      "Val Loss: 0.1480: 100%|██████████| 32/32 [00:08<00:00,  3.72it/s]\n"
     ]
    },
    {
     "name": "stdout",
     "output_type": "stream",
     "text": [
      "Epoch 30 | Train Loss: 0.3599 | Train F1: 0.9108 | Val Loss: 0.2502 | Val F1: 0.9715\n"
     ]
    },
    {
     "name": "stderr",
     "output_type": "stream",
     "text": [
      "Loss: 0.8115: 100%|██████████| 126/126 [00:39<00:00,  3.17it/s]\n",
      "Val Loss: 0.1508: 100%|██████████| 32/32 [00:08<00:00,  3.75it/s]\n"
     ]
    },
    {
     "name": "stdout",
     "output_type": "stream",
     "text": [
      "Epoch 31 | Train Loss: 0.3537 | Train F1: 0.8735 | Val Loss: 0.2498 | Val F1: 0.9763\n"
     ]
    },
    {
     "name": "stderr",
     "output_type": "stream",
     "text": [
      "Loss: 0.9028: 100%|██████████| 126/126 [00:39<00:00,  3.16it/s]\n",
      "Val Loss: 0.1479: 100%|██████████| 32/32 [00:08<00:00,  3.72it/s]\n"
     ]
    },
    {
     "name": "stdout",
     "output_type": "stream",
     "text": [
      "Epoch 32 | Train Loss: 0.3579 | Train F1: 0.8725 | Val Loss: 0.2322 | Val F1: 0.9816\n"
     ]
    },
    {
     "name": "stderr",
     "output_type": "stream",
     "text": [
      "Loss: 0.1498: 100%|██████████| 126/126 [00:39<00:00,  3.16it/s]\n",
      "Val Loss: 0.1511: 100%|██████████| 32/32 [00:08<00:00,  3.72it/s]\n"
     ]
    },
    {
     "name": "stdout",
     "output_type": "stream",
     "text": [
      "Epoch 33 | Train Loss: 0.3230 | Train F1: 0.8816 | Val Loss: 0.2159 | Val F1: 0.9807\n"
     ]
    },
    {
     "name": "stderr",
     "output_type": "stream",
     "text": [
      "Loss: 0.1464: 100%|██████████| 126/126 [00:39<00:00,  3.17it/s]\n",
      "Val Loss: 0.1459: 100%|██████████| 32/32 [00:08<00:00,  3.71it/s]\n"
     ]
    },
    {
     "name": "stdout",
     "output_type": "stream",
     "text": [
      "Epoch 34 | Train Loss: 0.4030 | Train F1: 0.8114 | Val Loss: 0.2114 | Val F1: 0.9848\n"
     ]
    },
    {
     "name": "stderr",
     "output_type": "stream",
     "text": [
      "Loss: 0.1460: 100%|██████████| 126/126 [00:39<00:00,  3.17it/s]\n",
      "Val Loss: 0.1465: 100%|██████████| 32/32 [00:08<00:00,  3.69it/s]\n"
     ]
    },
    {
     "name": "stdout",
     "output_type": "stream",
     "text": [
      "Epoch 35 | Train Loss: 0.3748 | Train F1: 0.8486 | Val Loss: 0.2653 | Val F1: 0.9710\n"
     ]
    },
    {
     "name": "stderr",
     "output_type": "stream",
     "text": [
      "Loss: 0.1459: 100%|██████████| 126/126 [00:39<00:00,  3.17it/s]\n",
      "Val Loss: 0.1458: 100%|██████████| 32/32 [00:08<00:00,  3.68it/s]\n"
     ]
    },
    {
     "name": "stdout",
     "output_type": "stream",
     "text": [
      "Epoch 36 | Train Loss: 0.3717 | Train F1: 0.8567 | Val Loss: 0.2402 | Val F1: 0.9809\n"
     ]
    },
    {
     "name": "stderr",
     "output_type": "stream",
     "text": [
      "Loss: 0.1477: 100%|██████████| 126/126 [00:39<00:00,  3.17it/s]\n",
      "Val Loss: 0.1468: 100%|██████████| 32/32 [00:08<00:00,  3.74it/s]\n"
     ]
    },
    {
     "name": "stdout",
     "output_type": "stream",
     "text": [
      "Epoch 37 | Train Loss: 0.3874 | Train F1: 0.8430 | Val Loss: 0.2152 | Val F1: 0.9817\n"
     ]
    },
    {
     "name": "stderr",
     "output_type": "stream",
     "text": [
      "Loss: 0.7109: 100%|██████████| 126/126 [00:39<00:00,  3.17it/s]\n",
      "Val Loss: 0.1475: 100%|██████████| 32/32 [00:08<00:00,  3.75it/s]\n"
     ]
    },
    {
     "name": "stdout",
     "output_type": "stream",
     "text": [
      "Epoch 38 | Train Loss: 0.3640 | Train F1: 0.8446 | Val Loss: 0.2478 | Val F1: 0.9749\n"
     ]
    },
    {
     "name": "stderr",
     "output_type": "stream",
     "text": [
      "Loss: 0.1592: 100%|██████████| 126/126 [00:39<00:00,  3.17it/s]\n",
      "Val Loss: 0.1482: 100%|██████████| 32/32 [00:08<00:00,  3.71it/s]\n"
     ]
    },
    {
     "name": "stdout",
     "output_type": "stream",
     "text": [
      "Epoch 39 | Train Loss: 0.3719 | Train F1: 0.8633 | Val Loss: 0.2518 | Val F1: 0.9738\n"
     ]
    },
    {
     "name": "stderr",
     "output_type": "stream",
     "text": [
      "Loss: 0.1461: 100%|██████████| 126/126 [00:39<00:00,  3.16it/s]\n",
      "Val Loss: 0.1459: 100%|██████████| 32/32 [00:08<00:00,  3.74it/s]\n"
     ]
    },
    {
     "name": "stdout",
     "output_type": "stream",
     "text": [
      "Epoch 40 | Train Loss: 0.3679 | Train F1: 0.8733 | Val Loss: 0.2895 | Val F1: 0.9651\n"
     ]
    },
    {
     "name": "stderr",
     "output_type": "stream",
     "text": [
      "Loss: 0.1465: 100%|██████████| 126/126 [00:39<00:00,  3.17it/s]\n",
      "Val Loss: 0.1471: 100%|██████████| 32/32 [00:08<00:00,  3.71it/s]\n"
     ]
    },
    {
     "name": "stdout",
     "output_type": "stream",
     "text": [
      "Epoch 41 | Train Loss: 0.3395 | Train F1: 0.9026 | Val Loss: 0.2703 | Val F1: 0.9699\n"
     ]
    },
    {
     "name": "stderr",
     "output_type": "stream",
     "text": [
      "Loss: 0.1458: 100%|██████████| 126/126 [00:39<00:00,  3.17it/s]\n",
      "Val Loss: 0.1462: 100%|██████████| 32/32 [00:08<00:00,  3.72it/s]\n"
     ]
    },
    {
     "name": "stdout",
     "output_type": "stream",
     "text": [
      "Epoch 42 | Train Loss: 0.3972 | Train F1: 0.8164 | Val Loss: 0.2407 | Val F1: 0.9808\n"
     ]
    },
    {
     "name": "stderr",
     "output_type": "stream",
     "text": [
      "Loss: 0.1461: 100%|██████████| 126/126 [00:39<00:00,  3.18it/s]\n",
      "Val Loss: 0.1474: 100%|██████████| 32/32 [00:08<00:00,  3.77it/s]\n"
     ]
    },
    {
     "name": "stdout",
     "output_type": "stream",
     "text": [
      "Epoch 43 | Train Loss: 0.3711 | Train F1: 0.8740 | Val Loss: 0.2316 | Val F1: 0.9744\n"
     ]
    },
    {
     "name": "stderr",
     "output_type": "stream",
     "text": [
      "Loss: 0.8159: 100%|██████████| 126/126 [00:39<00:00,  3.17it/s]\n",
      "Val Loss: 0.1468: 100%|██████████| 32/32 [00:08<00:00,  3.70it/s]\n"
     ]
    },
    {
     "name": "stdout",
     "output_type": "stream",
     "text": [
      "Epoch 44 | Train Loss: 0.3921 | Train F1: 0.8291 | Val Loss: 0.3472 | Val F1: 0.9621\n"
     ]
    },
    {
     "name": "stderr",
     "output_type": "stream",
     "text": [
      "Loss: 0.1460: 100%|██████████| 126/126 [00:39<00:00,  3.18it/s]\n",
      "Val Loss: 0.1467: 100%|██████████| 32/32 [00:08<00:00,  3.72it/s]\n"
     ]
    },
    {
     "name": "stdout",
     "output_type": "stream",
     "text": [
      "Epoch 45 | Train Loss: 0.4105 | Train F1: 0.8285 | Val Loss: 0.2472 | Val F1: 0.9748\n"
     ]
    },
    {
     "name": "stderr",
     "output_type": "stream",
     "text": [
      "Loss: 0.1456: 100%|██████████| 126/126 [00:39<00:00,  3.17it/s]\n",
      "Val Loss: 0.1459: 100%|██████████| 32/32 [00:08<00:00,  3.71it/s]\n"
     ]
    },
    {
     "name": "stdout",
     "output_type": "stream",
     "text": [
      "Epoch 46 | Train Loss: 0.3310 | Train F1: 0.9097 | Val Loss: 0.2495 | Val F1: 0.9777\n"
     ]
    },
    {
     "name": "stderr",
     "output_type": "stream",
     "text": [
      "Loss: 0.1459: 100%|██████████| 126/126 [00:39<00:00,  3.17it/s]\n",
      "Val Loss: 0.1458: 100%|██████████| 32/32 [00:08<00:00,  3.74it/s]\n"
     ]
    },
    {
     "name": "stdout",
     "output_type": "stream",
     "text": [
      "Epoch 47 | Train Loss: 0.4034 | Train F1: 0.8263 | Val Loss: 0.2311 | Val F1: 0.9778\n"
     ]
    },
    {
     "name": "stderr",
     "output_type": "stream",
     "text": [
      "Loss: 0.9473: 100%|██████████| 126/126 [00:39<00:00,  3.17it/s]\n",
      "Val Loss: 0.1457: 100%|██████████| 32/32 [00:08<00:00,  3.76it/s]\n"
     ]
    },
    {
     "name": "stdout",
     "output_type": "stream",
     "text": [
      "Epoch 48 | Train Loss: 0.3736 | Train F1: 0.8477 | Val Loss: 0.2191 | Val F1: 0.9807\n"
     ]
    },
    {
     "name": "stderr",
     "output_type": "stream",
     "text": [
      "Loss: 0.1459: 100%|██████████| 126/126 [00:39<00:00,  3.17it/s]\n",
      "Val Loss: 0.1466: 100%|██████████| 32/32 [00:08<00:00,  3.72it/s]\n"
     ]
    },
    {
     "name": "stdout",
     "output_type": "stream",
     "text": [
      "Epoch 49 | Train Loss: 0.3689 | Train F1: 0.8386 | Val Loss: 0.2250 | Val F1: 0.9832\n"
     ]
    },
    {
     "name": "stderr",
     "output_type": "stream",
     "text": [
      "Loss: 0.1459: 100%|██████████| 126/126 [00:39<00:00,  3.17it/s]\n",
      "Val Loss: 0.1457: 100%|██████████| 32/32 [00:08<00:00,  3.73it/s]\n"
     ]
    },
    {
     "name": "stdout",
     "output_type": "stream",
     "text": [
      "Epoch 50 | Train Loss: 0.3317 | Train F1: 0.8578 | Val Loss: 0.2337 | Val F1: 0.9709\n"
     ]
    },
    {
     "name": "stderr",
     "output_type": "stream",
     "text": [
      "Loss: 0.1458: 100%|██████████| 126/126 [00:39<00:00,  3.17it/s]\n",
      "Val Loss: 0.1458: 100%|██████████| 32/32 [00:08<00:00,  3.73it/s]\n"
     ]
    },
    {
     "name": "stdout",
     "output_type": "stream",
     "text": [
      "Epoch 51 | Train Loss: 0.3180 | Train F1: 0.8987 | Val Loss: 0.2238 | Val F1: 0.9778\n"
     ]
    },
    {
     "name": "stderr",
     "output_type": "stream",
     "text": [
      "Loss: 0.1476: 100%|██████████| 126/126 [00:39<00:00,  3.17it/s]\n",
      "Val Loss: 0.1463: 100%|██████████| 32/32 [00:08<00:00,  3.74it/s]\n"
     ]
    },
    {
     "name": "stdout",
     "output_type": "stream",
     "text": [
      "Epoch 52 | Train Loss: 0.3724 | Train F1: 0.8686 | Val Loss: 0.2583 | Val F1: 0.9769\n"
     ]
    },
    {
     "name": "stderr",
     "output_type": "stream",
     "text": [
      "Loss: 0.1458: 100%|██████████| 126/126 [00:39<00:00,  3.17it/s]\n",
      "Val Loss: 0.1457: 100%|██████████| 32/32 [00:08<00:00,  3.71it/s]\n"
     ]
    },
    {
     "name": "stdout",
     "output_type": "stream",
     "text": [
      "Epoch 53 | Train Loss: 0.3775 | Train F1: 0.8576 | Val Loss: 0.2301 | Val F1: 0.9773\n"
     ]
    },
    {
     "name": "stderr",
     "output_type": "stream",
     "text": [
      "Loss: 0.1461: 100%|██████████| 126/126 [00:39<00:00,  3.16it/s]\n",
      "Val Loss: 0.1457: 100%|██████████| 32/32 [00:08<00:00,  3.72it/s]\n"
     ]
    },
    {
     "name": "stdout",
     "output_type": "stream",
     "text": [
      "Epoch 54 | Train Loss: 0.3663 | Train F1: 0.8690 | Val Loss: 0.2399 | Val F1: 0.9773\n"
     ]
    },
    {
     "name": "stderr",
     "output_type": "stream",
     "text": [
      "Loss: 0.1458: 100%|██████████| 126/126 [00:39<00:00,  3.17it/s]\n",
      "Val Loss: 0.1457: 100%|██████████| 32/32 [00:08<00:00,  3.74it/s]\n"
     ]
    },
    {
     "name": "stdout",
     "output_type": "stream",
     "text": [
      "Epoch 55 | Train Loss: 0.3450 | Train F1: 0.8316 | Val Loss: 0.2502 | Val F1: 0.9729\n"
     ]
    },
    {
     "name": "stderr",
     "output_type": "stream",
     "text": [
      "Loss: 1.0176: 100%|██████████| 126/126 [00:39<00:00,  3.18it/s]\n",
      "Val Loss: 0.1457: 100%|██████████| 32/32 [00:08<00:00,  3.70it/s]\n"
     ]
    },
    {
     "name": "stdout",
     "output_type": "stream",
     "text": [
      "Epoch 56 | Train Loss: 0.3116 | Train F1: 0.9094 | Val Loss: 0.2454 | Val F1: 0.9772\n"
     ]
    },
    {
     "name": "stderr",
     "output_type": "stream",
     "text": [
      "Loss: 0.1459: 100%|██████████| 126/126 [00:39<00:00,  3.18it/s]\n",
      "Val Loss: 0.1461: 100%|██████████| 32/32 [00:08<00:00,  3.71it/s]\n"
     ]
    },
    {
     "name": "stdout",
     "output_type": "stream",
     "text": [
      "Epoch 57 | Train Loss: 0.3755 | Train F1: 0.8481 | Val Loss: 0.2435 | Val F1: 0.9801\n"
     ]
    },
    {
     "name": "stderr",
     "output_type": "stream",
     "text": [
      "Loss: 0.1460: 100%|██████████| 126/126 [00:39<00:00,  3.18it/s]\n",
      "Val Loss: 0.1458: 100%|██████████| 32/32 [00:08<00:00,  3.74it/s]\n"
     ]
    },
    {
     "name": "stdout",
     "output_type": "stream",
     "text": [
      "Epoch 58 | Train Loss: 0.3423 | Train F1: 0.8620 | Val Loss: 0.2598 | Val F1: 0.9774\n"
     ]
    },
    {
     "name": "stderr",
     "output_type": "stream",
     "text": [
      "Loss: 0.1458: 100%|██████████| 126/126 [00:39<00:00,  3.17it/s]\n",
      "Val Loss: 0.1460: 100%|██████████| 32/32 [00:08<00:00,  3.73it/s]\n"
     ]
    },
    {
     "name": "stdout",
     "output_type": "stream",
     "text": [
      "Epoch 59 | Train Loss: 0.3899 | Train F1: 0.8180 | Val Loss: 0.2450 | Val F1: 0.9769\n"
     ]
    },
    {
     "name": "stderr",
     "output_type": "stream",
     "text": [
      "Loss: 0.8188: 100%|██████████| 126/126 [00:39<00:00,  3.18it/s]\n",
      "Val Loss: 0.1459: 100%|██████████| 32/32 [00:08<00:00,  3.70it/s]\n"
     ]
    },
    {
     "name": "stdout",
     "output_type": "stream",
     "text": [
      "Epoch 60 | Train Loss: 0.3326 | Train F1: 0.8760 | Val Loss: 0.2221 | Val F1: 0.9769\n"
     ]
    },
    {
     "name": "stderr",
     "output_type": "stream",
     "text": [
      "Loss: 0.1458: 100%|██████████| 126/126 [00:39<00:00,  3.16it/s]\n",
      "Val Loss: 0.1457: 100%|██████████| 32/32 [00:08<00:00,  3.73it/s]\n"
     ]
    },
    {
     "name": "stdout",
     "output_type": "stream",
     "text": [
      "Epoch 61 | Train Loss: 0.3438 | Train F1: 0.8426 | Val Loss: 0.2364 | Val F1: 0.9769\n"
     ]
    },
    {
     "name": "stderr",
     "output_type": "stream",
     "text": [
      "Loss: 0.1980: 100%|██████████| 126/126 [00:39<00:00,  3.16it/s]\n",
      "Val Loss: 0.1458: 100%|██████████| 32/32 [00:08<00:00,  3.72it/s]\n"
     ]
    },
    {
     "name": "stdout",
     "output_type": "stream",
     "text": [
      "Epoch 62 | Train Loss: 0.3257 | Train F1: 0.8820 | Val Loss: 0.2349 | Val F1: 0.9837\n"
     ]
    },
    {
     "name": "stderr",
     "output_type": "stream",
     "text": [
      "Loss: 0.9619: 100%|██████████| 126/126 [00:39<00:00,  3.17it/s]\n",
      "Val Loss: 0.1457: 100%|██████████| 32/32 [00:08<00:00,  3.71it/s]\n"
     ]
    },
    {
     "name": "stdout",
     "output_type": "stream",
     "text": [
      "Epoch 63 | Train Loss: 0.4027 | Train F1: 0.8557 | Val Loss: 0.2882 | Val F1: 0.9669\n"
     ]
    },
    {
     "name": "stderr",
     "output_type": "stream",
     "text": [
      "Loss: 0.1976: 100%|██████████| 126/126 [00:39<00:00,  3.17it/s]\n",
      "Val Loss: 0.1457: 100%|██████████| 32/32 [00:08<00:00,  3.76it/s]\n"
     ]
    },
    {
     "name": "stdout",
     "output_type": "stream",
     "text": [
      "Epoch 64 | Train Loss: 0.3321 | Train F1: 0.8652 | Val Loss: 0.2241 | Val F1: 0.9802\n"
     ]
    },
    {
     "name": "stderr",
     "output_type": "stream",
     "text": [
      "Loss: 0.1458: 100%|██████████| 126/126 [00:39<00:00,  3.18it/s]\n",
      "Val Loss: 0.1458: 100%|██████████| 32/32 [00:08<00:00,  3.73it/s]\n"
     ]
    },
    {
     "name": "stdout",
     "output_type": "stream",
     "text": [
      "Epoch 65 | Train Loss: 0.3182 | Train F1: 0.8850 | Val Loss: 0.2454 | Val F1: 0.9802\n"
     ]
    },
    {
     "name": "stderr",
     "output_type": "stream",
     "text": [
      "Loss: 0.1456: 100%|██████████| 126/126 [00:39<00:00,  3.16it/s]\n",
      "Val Loss: 0.1456: 100%|██████████| 32/32 [00:08<00:00,  3.69it/s]\n"
     ]
    },
    {
     "name": "stdout",
     "output_type": "stream",
     "text": [
      "Epoch 66 | Train Loss: 0.3610 | Train F1: 0.8820 | Val Loss: 0.2419 | Val F1: 0.9802\n"
     ]
    },
    {
     "name": "stderr",
     "output_type": "stream",
     "text": [
      "Loss: 0.7749: 100%|██████████| 126/126 [00:39<00:00,  3.17it/s]\n",
      "Val Loss: 0.1457: 100%|██████████| 32/32 [00:08<00:00,  3.67it/s]\n"
     ]
    },
    {
     "name": "stdout",
     "output_type": "stream",
     "text": [
      "Epoch 67 | Train Loss: 0.3528 | Train F1: 0.8358 | Val Loss: 0.2217 | Val F1: 0.9773\n"
     ]
    },
    {
     "name": "stderr",
     "output_type": "stream",
     "text": [
      "Loss: 0.1456: 100%|██████████| 126/126 [00:39<00:00,  3.16it/s]\n",
      "Val Loss: 0.1456: 100%|██████████| 32/32 [00:08<00:00,  3.72it/s]\n"
     ]
    },
    {
     "name": "stdout",
     "output_type": "stream",
     "text": [
      "Epoch 68 | Train Loss: 0.3496 | Train F1: 0.8691 | Val Loss: 0.2503 | Val F1: 0.9798\n"
     ]
    },
    {
     "name": "stderr",
     "output_type": "stream",
     "text": [
      "Loss: 1.0186: 100%|██████████| 126/126 [00:39<00:00,  3.18it/s]\n",
      "Val Loss: 0.1457: 100%|██████████| 32/32 [00:08<00:00,  3.71it/s]\n"
     ]
    },
    {
     "name": "stdout",
     "output_type": "stream",
     "text": [
      "Epoch 69 | Train Loss: 0.3757 | Train F1: 0.8500 | Val Loss: 0.2475 | Val F1: 0.9802\n"
     ]
    },
    {
     "name": "stderr",
     "output_type": "stream",
     "text": [
      "Loss: 0.1458: 100%|██████████| 126/126 [00:39<00:00,  3.17it/s]\n",
      "Val Loss: 0.1456: 100%|██████████| 32/32 [00:08<00:00,  3.72it/s]\n"
     ]
    },
    {
     "name": "stdout",
     "output_type": "stream",
     "text": [
      "Epoch 70 | Train Loss: 0.3168 | Train F1: 0.8877 | Val Loss: 0.2562 | Val F1: 0.9773\n"
     ]
    },
    {
     "name": "stderr",
     "output_type": "stream",
     "text": [
      "Loss: 0.8936: 100%|██████████| 126/126 [00:39<00:00,  3.17it/s]\n",
      "Val Loss: 0.1458: 100%|██████████| 32/32 [00:08<00:00,  3.74it/s]\n"
     ]
    },
    {
     "name": "stdout",
     "output_type": "stream",
     "text": [
      "Epoch 71 | Train Loss: 0.3239 | Train F1: 0.8785 | Val Loss: 0.2501 | Val F1: 0.9772\n"
     ]
    },
    {
     "name": "stderr",
     "output_type": "stream",
     "text": [
      "Loss: 0.1456: 100%|██████████| 126/126 [00:39<00:00,  3.17it/s]\n",
      "Val Loss: 0.1457: 100%|██████████| 32/32 [00:08<00:00,  3.73it/s]\n"
     ]
    },
    {
     "name": "stdout",
     "output_type": "stream",
     "text": [
      "Epoch 72 | Train Loss: 0.3851 | Train F1: 0.8187 | Val Loss: 0.2612 | Val F1: 0.9739\n"
     ]
    },
    {
     "name": "stderr",
     "output_type": "stream",
     "text": [
      "Loss: 0.1456: 100%|██████████| 126/126 [00:39<00:00,  3.17it/s]\n",
      "Val Loss: 0.1456: 100%|██████████| 32/32 [00:08<00:00,  3.74it/s]\n"
     ]
    },
    {
     "name": "stdout",
     "output_type": "stream",
     "text": [
      "Epoch 73 | Train Loss: 0.3355 | Train F1: 0.8641 | Val Loss: 0.2620 | Val F1: 0.9769\n"
     ]
    },
    {
     "name": "stderr",
     "output_type": "stream",
     "text": [
      "Loss: 0.1455: 100%|██████████| 126/126 [00:39<00:00,  3.19it/s]\n",
      "Val Loss: 0.1457: 100%|██████████| 32/32 [00:08<00:00,  3.76it/s]\n"
     ]
    },
    {
     "name": "stdout",
     "output_type": "stream",
     "text": [
      "Epoch 74 | Train Loss: 0.3425 | Train F1: 0.8628 | Val Loss: 0.2580 | Val F1: 0.9773\n"
     ]
    },
    {
     "name": "stderr",
     "output_type": "stream",
     "text": [
      "Loss: 0.6240: 100%|██████████| 126/126 [00:39<00:00,  3.17it/s]\n",
      "Val Loss: 0.1457: 100%|██████████| 32/32 [00:08<00:00,  3.76it/s]\n"
     ]
    },
    {
     "name": "stdout",
     "output_type": "stream",
     "text": [
      "Epoch 75 | Train Loss: 0.2925 | Train F1: 0.8734 | Val Loss: 0.2521 | Val F1: 0.9773\n"
     ]
    },
    {
     "name": "stderr",
     "output_type": "stream",
     "text": [
      "Loss: 0.1458: 100%|██████████| 126/126 [00:39<00:00,  3.17it/s]\n",
      "Val Loss: 0.1456: 100%|██████████| 32/32 [00:08<00:00,  3.70it/s]\n"
     ]
    },
    {
     "name": "stdout",
     "output_type": "stream",
     "text": [
      "Epoch 76 | Train Loss: 0.3498 | Train F1: 0.8429 | Val Loss: 0.2577 | Val F1: 0.9773\n"
     ]
    },
    {
     "name": "stderr",
     "output_type": "stream",
     "text": [
      "Loss: 0.5762: 100%|██████████| 126/126 [00:39<00:00,  3.18it/s]\n",
      "Val Loss: 0.1459: 100%|██████████| 32/32 [00:08<00:00,  3.73it/s]\n"
     ]
    },
    {
     "name": "stdout",
     "output_type": "stream",
     "text": [
      "Epoch 77 | Train Loss: 0.3156 | Train F1: 0.8903 | Val Loss: 0.2617 | Val F1: 0.9759\n"
     ]
    },
    {
     "name": "stderr",
     "output_type": "stream",
     "text": [
      "Loss: 0.1456: 100%|██████████| 126/126 [00:39<00:00,  3.18it/s]\n",
      "Val Loss: 0.1456: 100%|██████████| 32/32 [00:08<00:00,  3.73it/s]\n"
     ]
    },
    {
     "name": "stdout",
     "output_type": "stream",
     "text": [
      "Epoch 78 | Train Loss: 0.3398 | Train F1: 0.8636 | Val Loss: 0.2743 | Val F1: 0.9729\n"
     ]
    },
    {
     "name": "stderr",
     "output_type": "stream",
     "text": [
      "Loss: 0.1458: 100%|██████████| 126/126 [00:39<00:00,  3.18it/s]\n",
      "Val Loss: 0.1456: 100%|██████████| 32/32 [00:08<00:00,  3.76it/s]\n"
     ]
    },
    {
     "name": "stdout",
     "output_type": "stream",
     "text": [
      "Epoch 79 | Train Loss: 0.3089 | Train F1: 0.8789 | Val Loss: 0.2349 | Val F1: 0.9802\n"
     ]
    },
    {
     "name": "stderr",
     "output_type": "stream",
     "text": [
      "Loss: 0.1456: 100%|██████████| 126/126 [00:39<00:00,  3.19it/s]\n",
      "Val Loss: 0.1457: 100%|██████████| 32/32 [00:08<00:00,  3.70it/s]\n"
     ]
    },
    {
     "name": "stdout",
     "output_type": "stream",
     "text": [
      "Epoch 80 | Train Loss: 0.3328 | Train F1: 0.8449 | Val Loss: 0.2457 | Val F1: 0.9798\n"
     ]
    },
    {
     "name": "stderr",
     "output_type": "stream",
     "text": [
      "Loss: 0.1458: 100%|██████████| 126/126 [00:39<00:00,  3.17it/s]\n",
      "Val Loss: 0.1456: 100%|██████████| 32/32 [00:08<00:00,  3.69it/s]\n"
     ]
    },
    {
     "name": "stdout",
     "output_type": "stream",
     "text": [
      "Epoch 81 | Train Loss: 0.3619 | Train F1: 0.8446 | Val Loss: 0.2443 | Val F1: 0.9802\n"
     ]
    },
    {
     "name": "stderr",
     "output_type": "stream",
     "text": [
      "Loss: 0.7314: 100%|██████████| 126/126 [00:39<00:00,  3.17it/s]\n",
      "Val Loss: 0.1456: 100%|██████████| 32/32 [00:08<00:00,  3.73it/s]\n"
     ]
    },
    {
     "name": "stdout",
     "output_type": "stream",
     "text": [
      "Epoch 82 | Train Loss: 0.3266 | Train F1: 0.8919 | Val Loss: 0.2695 | Val F1: 0.9773\n"
     ]
    },
    {
     "name": "stderr",
     "output_type": "stream",
     "text": [
      "Loss: 0.1455: 100%|██████████| 126/126 [00:39<00:00,  3.17it/s]\n",
      "Val Loss: 0.1456: 100%|██████████| 32/32 [00:08<00:00,  3.72it/s]\n"
     ]
    },
    {
     "name": "stdout",
     "output_type": "stream",
     "text": [
      "Epoch 83 | Train Loss: 0.3311 | Train F1: 0.8858 | Val Loss: 0.2495 | Val F1: 0.9773\n"
     ]
    },
    {
     "name": "stderr",
     "output_type": "stream",
     "text": [
      "Loss: 0.1455: 100%|██████████| 126/126 [00:39<00:00,  3.18it/s]\n",
      "Val Loss: 0.1456: 100%|██████████| 32/32 [00:08<00:00,  3.70it/s]\n"
     ]
    },
    {
     "name": "stdout",
     "output_type": "stream",
     "text": [
      "Epoch 84 | Train Loss: 0.3252 | Train F1: 0.8821 | Val Loss: 0.2509 | Val F1: 0.9802\n"
     ]
    },
    {
     "name": "stderr",
     "output_type": "stream",
     "text": [
      "Loss: 0.3506: 100%|██████████| 126/126 [00:39<00:00,  3.18it/s]\n",
      "Val Loss: 0.1456: 100%|██████████| 32/32 [00:08<00:00,  3.74it/s]\n"
     ]
    },
    {
     "name": "stdout",
     "output_type": "stream",
     "text": [
      "Epoch 85 | Train Loss: 0.2872 | Train F1: 0.8805 | Val Loss: 0.2441 | Val F1: 0.9802\n"
     ]
    },
    {
     "name": "stderr",
     "output_type": "stream",
     "text": [
      "Loss: 0.2588: 100%|██████████| 126/126 [00:39<00:00,  3.18it/s]\n",
      "Val Loss: 0.1456: 100%|██████████| 32/32 [00:08<00:00,  3.71it/s]\n"
     ]
    },
    {
     "name": "stdout",
     "output_type": "stream",
     "text": [
      "Epoch 86 | Train Loss: 0.3039 | Train F1: 0.8591 | Val Loss: 0.2386 | Val F1: 0.9802\n"
     ]
    },
    {
     "name": "stderr",
     "output_type": "stream",
     "text": [
      "Loss: 0.1456: 100%|██████████| 126/126 [00:39<00:00,  3.18it/s]\n",
      "Val Loss: 0.1456: 100%|██████████| 32/32 [00:08<00:00,  3.69it/s]\n"
     ]
    },
    {
     "name": "stdout",
     "output_type": "stream",
     "text": [
      "Epoch 87 | Train Loss: 0.3794 | Train F1: 0.8244 | Val Loss: 0.2573 | Val F1: 0.9773\n"
     ]
    },
    {
     "name": "stderr",
     "output_type": "stream",
     "text": [
      "Loss: 0.1456: 100%|██████████| 126/126 [00:39<00:00,  3.18it/s]\n",
      "Val Loss: 0.1457: 100%|██████████| 32/32 [00:08<00:00,  3.59it/s]\n"
     ]
    },
    {
     "name": "stdout",
     "output_type": "stream",
     "text": [
      "Epoch 88 | Train Loss: 0.3450 | Train F1: 0.8666 | Val Loss: 0.2745 | Val F1: 0.9743\n"
     ]
    },
    {
     "name": "stderr",
     "output_type": "stream",
     "text": [
      "Loss: 0.1456: 100%|██████████| 126/126 [00:39<00:00,  3.17it/s]\n",
      "Val Loss: 0.1456: 100%|██████████| 32/32 [00:08<00:00,  3.70it/s]\n"
     ]
    },
    {
     "name": "stdout",
     "output_type": "stream",
     "text": [
      "Epoch 89 | Train Loss: 0.3238 | Train F1: 0.8813 | Val Loss: 0.2624 | Val F1: 0.9743\n"
     ]
    },
    {
     "name": "stderr",
     "output_type": "stream",
     "text": [
      "Loss: 0.1456: 100%|██████████| 126/126 [00:39<00:00,  3.18it/s]\n",
      "Val Loss: 0.1456: 100%|██████████| 32/32 [00:08<00:00,  3.72it/s]\n"
     ]
    },
    {
     "name": "stdout",
     "output_type": "stream",
     "text": [
      "Epoch 90 | Train Loss: 0.3467 | Train F1: 0.8557 | Val Loss: 0.2527 | Val F1: 0.9772\n"
     ]
    },
    {
     "name": "stderr",
     "output_type": "stream",
     "text": [
      "Loss: 0.1458: 100%|██████████| 126/126 [00:39<00:00,  3.18it/s]\n",
      "Val Loss: 0.1456: 100%|██████████| 32/32 [00:08<00:00,  3.77it/s]\n"
     ]
    },
    {
     "name": "stdout",
     "output_type": "stream",
     "text": [
      "Epoch 91 | Train Loss: 0.3295 | Train F1: 0.8594 | Val Loss: 0.2557 | Val F1: 0.9773\n"
     ]
    },
    {
     "name": "stderr",
     "output_type": "stream",
     "text": [
      "Loss: 0.1456: 100%|██████████| 126/126 [00:39<00:00,  3.18it/s]\n",
      "Val Loss: 0.1456: 100%|██████████| 32/32 [00:08<00:00,  3.67it/s]\n"
     ]
    },
    {
     "name": "stdout",
     "output_type": "stream",
     "text": [
      "Epoch 92 | Train Loss: 0.2945 | Train F1: 0.8622 | Val Loss: 0.2463 | Val F1: 0.9802\n"
     ]
    },
    {
     "name": "stderr",
     "output_type": "stream",
     "text": [
      "Loss: 0.1456: 100%|██████████| 126/126 [00:39<00:00,  3.18it/s]\n",
      "Val Loss: 0.1456: 100%|██████████| 32/32 [00:08<00:00,  3.75it/s]\n"
     ]
    },
    {
     "name": "stdout",
     "output_type": "stream",
     "text": [
      "Epoch 93 | Train Loss: 0.3557 | Train F1: 0.8687 | Val Loss: 0.2563 | Val F1: 0.9772\n"
     ]
    },
    {
     "name": "stderr",
     "output_type": "stream",
     "text": [
      "Loss: 0.4854: 100%|██████████| 126/126 [00:39<00:00,  3.18it/s]\n",
      "Val Loss: 0.1456: 100%|██████████| 32/32 [00:08<00:00,  3.67it/s]\n"
     ]
    },
    {
     "name": "stdout",
     "output_type": "stream",
     "text": [
      "Epoch 94 | Train Loss: 0.3171 | Train F1: 0.8865 | Val Loss: 0.2495 | Val F1: 0.9801\n"
     ]
    },
    {
     "name": "stderr",
     "output_type": "stream",
     "text": [
      "Loss: 0.5366: 100%|██████████| 126/126 [00:39<00:00,  3.18it/s]\n",
      "Val Loss: 0.1456: 100%|██████████| 32/32 [00:08<00:00,  3.71it/s]\n"
     ]
    },
    {
     "name": "stdout",
     "output_type": "stream",
     "text": [
      "Epoch 95 | Train Loss: 0.3040 | Train F1: 0.9016 | Val Loss: 0.2461 | Val F1: 0.9772\n"
     ]
    },
    {
     "name": "stderr",
     "output_type": "stream",
     "text": [
      "Loss: 0.1458: 100%|██████████| 126/126 [00:39<00:00,  3.18it/s]\n",
      "Val Loss: 0.1456: 100%|██████████| 32/32 [00:08<00:00,  3.70it/s]\n"
     ]
    },
    {
     "name": "stdout",
     "output_type": "stream",
     "text": [
      "Epoch 96 | Train Loss: 0.3325 | Train F1: 0.8573 | Val Loss: 0.2521 | Val F1: 0.9772\n"
     ]
    },
    {
     "name": "stderr",
     "output_type": "stream",
     "text": [
      "Loss: 0.2910: 100%|██████████| 126/126 [00:39<00:00,  3.18it/s]\n",
      "Val Loss: 0.1456: 100%|██████████| 32/32 [00:08<00:00,  3.75it/s]\n"
     ]
    },
    {
     "name": "stdout",
     "output_type": "stream",
     "text": [
      "Epoch 97 | Train Loss: 0.3314 | Train F1: 0.8296 | Val Loss: 0.2459 | Val F1: 0.9771\n"
     ]
    },
    {
     "name": "stderr",
     "output_type": "stream",
     "text": [
      "Loss: 0.3413: 100%|██████████| 126/126 [00:39<00:00,  3.17it/s]\n",
      "Val Loss: 0.1456: 100%|██████████| 32/32 [00:08<00:00,  3.71it/s]\n"
     ]
    },
    {
     "name": "stdout",
     "output_type": "stream",
     "text": [
      "Epoch 98 | Train Loss: 0.3169 | Train F1: 0.8598 | Val Loss: 0.2363 | Val F1: 0.9801\n"
     ]
    },
    {
     "name": "stderr",
     "output_type": "stream",
     "text": [
      "Loss: 0.1455: 100%|██████████| 126/126 [00:39<00:00,  3.17it/s]\n",
      "Val Loss: 0.1456: 100%|██████████| 32/32 [00:08<00:00,  3.72it/s]\n"
     ]
    },
    {
     "name": "stdout",
     "output_type": "stream",
     "text": [
      "Epoch 99 | Train Loss: 0.3668 | Train F1: 0.8281 | Val Loss: 0.2565 | Val F1: 0.9769\n"
     ]
    },
    {
     "name": "stderr",
     "output_type": "stream",
     "text": [
      "Loss: 0.1456: 100%|██████████| 126/126 [00:39<00:00,  3.17it/s]\n",
      "Val Loss: 0.1456: 100%|██████████| 32/32 [00:08<00:00,  3.70it/s]\n"
     ]
    },
    {
     "name": "stdout",
     "output_type": "stream",
     "text": [
      "Epoch 100 | Train Loss: 0.2802 | Train F1: 0.9162 | Val Loss: 0.2447 | Val F1: 0.9832\n",
      "Fold 4 Best Validation F1: 0.9848\n",
      "\n",
      "==================================================\n",
      "FOLD 5/5\n",
      "==================================================\n",
      "Train samples: 1256, Validation samples: 314\n"
     ]
    },
    {
     "name": "stderr",
     "output_type": "stream",
     "text": [
      "Loss: 0.4028: 100%|██████████| 126/126 [00:39<00:00,  3.17it/s]\n",
      "Val Loss: 0.7225: 100%|██████████| 32/32 [00:08<00:00,  3.74it/s]"
     ]
    },
    {
     "name": "stdout",
     "output_type": "stream",
     "text": [
      "Epoch  1 | Train Loss: 1.5644 | Train F1: 0.5050 | Val Loss: 0.5860 | Val F1: 0.8041\n"
     ]
    },
    {
     "name": "stderr",
     "output_type": "stream",
     "text": [
      "\n",
      "Loss: 0.6777: 100%|██████████| 126/126 [00:39<00:00,  3.15it/s]\n",
      "Val Loss: 0.8201: 100%|██████████| 32/32 [00:08<00:00,  3.69it/s]\n"
     ]
    },
    {
     "name": "stdout",
     "output_type": "stream",
     "text": [
      "Epoch  2 | Train Loss: 0.7880 | Train F1: 0.7353 | Val Loss: 0.5213 | Val F1: 0.8491\n"
     ]
    },
    {
     "name": "stderr",
     "output_type": "stream",
     "text": [
      "Loss: 0.1958: 100%|██████████| 126/126 [00:39<00:00,  3.15it/s]\n",
      "Val Loss: 0.4955: 100%|██████████| 32/32 [00:08<00:00,  3.73it/s]\n"
     ]
    },
    {
     "name": "stdout",
     "output_type": "stream",
     "text": [
      "Epoch  3 | Train Loss: 0.6976 | Train F1: 0.7514 | Val Loss: 0.4057 | Val F1: 0.8995\n"
     ]
    },
    {
     "name": "stderr",
     "output_type": "stream",
     "text": [
      "Loss: 0.6104: 100%|██████████| 126/126 [00:39<00:00,  3.16it/s]\n",
      "Val Loss: 0.1811: 100%|██████████| 32/32 [00:08<00:00,  3.76it/s]"
     ]
    },
    {
     "name": "stdout",
     "output_type": "stream",
     "text": [
      "Epoch  4 | Train Loss: 0.5933 | Train F1: 0.7991 | Val Loss: 0.3536 | Val F1: 0.9279\n"
     ]
    },
    {
     "name": "stderr",
     "output_type": "stream",
     "text": [
      "\n",
      "Loss: 1.6475: 100%|██████████| 126/126 [00:39<00:00,  3.16it/s]\n",
      "Val Loss: 0.1745: 100%|██████████| 32/32 [00:08<00:00,  3.69it/s]\n"
     ]
    },
    {
     "name": "stdout",
     "output_type": "stream",
     "text": [
      "Epoch  5 | Train Loss: 0.5943 | Train F1: 0.8103 | Val Loss: 0.3675 | Val F1: 0.8976\n"
     ]
    },
    {
     "name": "stderr",
     "output_type": "stream",
     "text": [
      "Loss: 1.3477: 100%|██████████| 126/126 [00:39<00:00,  3.15it/s]\n",
      "Val Loss: 0.9136: 100%|██████████| 32/32 [00:08<00:00,  3.79it/s]\n"
     ]
    },
    {
     "name": "stdout",
     "output_type": "stream",
     "text": [
      "Epoch  6 | Train Loss: 0.5292 | Train F1: 0.8268 | Val Loss: 0.4290 | Val F1: 0.8900\n"
     ]
    },
    {
     "name": "stderr",
     "output_type": "stream",
     "text": [
      "Loss: 0.1534: 100%|██████████| 126/126 [00:39<00:00,  3.15it/s]\n",
      "Val Loss: 0.1566: 100%|██████████| 32/32 [00:08<00:00,  3.73it/s]\n"
     ]
    },
    {
     "name": "stdout",
     "output_type": "stream",
     "text": [
      "Epoch  7 | Train Loss: 0.5400 | Train F1: 0.8212 | Val Loss: 0.3644 | Val F1: 0.9336\n"
     ]
    },
    {
     "name": "stderr",
     "output_type": "stream",
     "text": [
      "Loss: 0.1622: 100%|██████████| 126/126 [00:39<00:00,  3.16it/s]\n",
      "Val Loss: 0.5244: 100%|██████████| 32/32 [00:08<00:00,  3.76it/s]\n"
     ]
    },
    {
     "name": "stdout",
     "output_type": "stream",
     "text": [
      "Epoch  8 | Train Loss: 0.5879 | Train F1: 0.7636 | Val Loss: 0.3382 | Val F1: 0.9210\n"
     ]
    },
    {
     "name": "stderr",
     "output_type": "stream",
     "text": [
      "Loss: 0.1621: 100%|██████████| 126/126 [00:39<00:00,  3.15it/s]\n",
      "Val Loss: 0.2431: 100%|██████████| 32/32 [00:08<00:00,  3.71it/s]"
     ]
    },
    {
     "name": "stdout",
     "output_type": "stream",
     "text": [
      "Epoch  9 | Train Loss: 0.5522 | Train F1: 0.8139 | Val Loss: 0.3317 | Val F1: 0.9364\n"
     ]
    },
    {
     "name": "stderr",
     "output_type": "stream",
     "text": [
      "\n",
      "Loss: 1.8789: 100%|██████████| 126/126 [00:39<00:00,  3.16it/s]\n",
      "Val Loss: 0.2066: 100%|██████████| 32/32 [00:08<00:00,  3.75it/s]"
     ]
    },
    {
     "name": "stdout",
     "output_type": "stream",
     "text": [
      "Epoch 10 | Train Loss: 0.4917 | Train F1: 0.8619 | Val Loss: 0.3339 | Val F1: 0.9368\n"
     ]
    },
    {
     "name": "stderr",
     "output_type": "stream",
     "text": [
      "\n",
      "Loss: 0.1530: 100%|██████████| 126/126 [00:39<00:00,  3.16it/s]\n",
      "Val Loss: 0.3054: 100%|██████████| 32/32 [00:08<00:00,  3.77it/s]"
     ]
    },
    {
     "name": "stdout",
     "output_type": "stream",
     "text": [
      "Epoch 11 | Train Loss: 0.4930 | Train F1: 0.8490 | Val Loss: 0.3393 | Val F1: 0.9442\n"
     ]
    },
    {
     "name": "stderr",
     "output_type": "stream",
     "text": [
      "\n",
      "Loss: 1.1426: 100%|██████████| 126/126 [00:39<00:00,  3.16it/s]\n",
      "Val Loss: 0.1753: 100%|██████████| 32/32 [00:08<00:00,  3.73it/s]\n"
     ]
    },
    {
     "name": "stdout",
     "output_type": "stream",
     "text": [
      "Epoch 12 | Train Loss: 0.4950 | Train F1: 0.8340 | Val Loss: 0.2915 | Val F1: 0.9642\n"
     ]
    },
    {
     "name": "stderr",
     "output_type": "stream",
     "text": [
      "Loss: 0.1552: 100%|██████████| 126/126 [00:39<00:00,  3.16it/s]\n",
      "Val Loss: 0.1500: 100%|██████████| 32/32 [00:08<00:00,  3.70it/s]\n"
     ]
    },
    {
     "name": "stdout",
     "output_type": "stream",
     "text": [
      "Epoch 13 | Train Loss: 0.4577 | Train F1: 0.8278 | Val Loss: 0.2651 | Val F1: 0.9687\n"
     ]
    },
    {
     "name": "stderr",
     "output_type": "stream",
     "text": [
      "Loss: 1.0664: 100%|██████████| 126/126 [00:39<00:00,  3.16it/s]\n",
      "Val Loss: 0.3455: 100%|██████████| 32/32 [00:08<00:00,  3.66it/s]\n"
     ]
    },
    {
     "name": "stdout",
     "output_type": "stream",
     "text": [
      "Epoch 14 | Train Loss: 0.4318 | Train F1: 0.8436 | Val Loss: 0.3025 | Val F1: 0.9608\n"
     ]
    },
    {
     "name": "stderr",
     "output_type": "stream",
     "text": [
      "Loss: 0.1575: 100%|██████████| 126/126 [00:39<00:00,  3.17it/s]\n",
      "Val Loss: 0.1695: 100%|██████████| 32/32 [00:08<00:00,  3.72it/s]\n"
     ]
    },
    {
     "name": "stdout",
     "output_type": "stream",
     "text": [
      "Epoch 15 | Train Loss: 0.5638 | Train F1: 0.8171 | Val Loss: 0.3937 | Val F1: 0.9046\n"
     ]
    },
    {
     "name": "stderr",
     "output_type": "stream",
     "text": [
      "Loss: 0.3665: 100%|██████████| 126/126 [00:39<00:00,  3.16it/s]\n",
      "Val Loss: 0.6987: 100%|██████████| 32/32 [00:08<00:00,  3.71it/s]\n"
     ]
    },
    {
     "name": "stdout",
     "output_type": "stream",
     "text": [
      "Epoch 16 | Train Loss: 0.4792 | Train F1: 0.8522 | Val Loss: 0.3763 | Val F1: 0.9277\n"
     ]
    },
    {
     "name": "stderr",
     "output_type": "stream",
     "text": [
      "Loss: 0.4531: 100%|██████████| 126/126 [00:39<00:00,  3.15it/s]\n",
      "Val Loss: 0.1489: 100%|██████████| 32/32 [00:08<00:00,  3.76it/s]\n"
     ]
    },
    {
     "name": "stdout",
     "output_type": "stream",
     "text": [
      "Epoch 17 | Train Loss: 0.4504 | Train F1: 0.8158 | Val Loss: 0.2919 | Val F1: 0.9595\n"
     ]
    },
    {
     "name": "stderr",
     "output_type": "stream",
     "text": [
      "Loss: 0.2339: 100%|██████████| 126/126 [00:39<00:00,  3.15it/s]\n",
      "Val Loss: 0.1881: 100%|██████████| 32/32 [00:08<00:00,  3.73it/s]\n"
     ]
    },
    {
     "name": "stdout",
     "output_type": "stream",
     "text": [
      "Epoch 18 | Train Loss: 0.3458 | Train F1: 0.8720 | Val Loss: 0.3097 | Val F1: 0.9503\n"
     ]
    },
    {
     "name": "stderr",
     "output_type": "stream",
     "text": [
      "Loss: 0.1487: 100%|██████████| 126/126 [00:39<00:00,  3.16it/s]\n",
      "Val Loss: 0.6869: 100%|██████████| 32/32 [00:08<00:00,  3.78it/s]\n"
     ]
    },
    {
     "name": "stdout",
     "output_type": "stream",
     "text": [
      "Epoch 19 | Train Loss: 0.4615 | Train F1: 0.8396 | Val Loss: 0.3310 | Val F1: 0.9516\n"
     ]
    },
    {
     "name": "stderr",
     "output_type": "stream",
     "text": [
      "Loss: 0.8452: 100%|██████████| 126/126 [00:39<00:00,  3.16it/s]\n",
      "Val Loss: 0.1501: 100%|██████████| 32/32 [00:08<00:00,  3.64it/s]\n"
     ]
    },
    {
     "name": "stdout",
     "output_type": "stream",
     "text": [
      "Epoch 20 | Train Loss: 0.4560 | Train F1: 0.8552 | Val Loss: 0.2958 | Val F1: 0.9632\n"
     ]
    },
    {
     "name": "stderr",
     "output_type": "stream",
     "text": [
      "Loss: 0.7925: 100%|██████████| 126/126 [00:39<00:00,  3.17it/s]\n",
      "Val Loss: 0.1473: 100%|██████████| 32/32 [00:08<00:00,  3.66it/s]"
     ]
    },
    {
     "name": "stdout",
     "output_type": "stream",
     "text": [
      "Epoch 21 | Train Loss: 0.4197 | Train F1: 0.8284 | Val Loss: 0.2567 | Val F1: 0.9706\n"
     ]
    },
    {
     "name": "stderr",
     "output_type": "stream",
     "text": [
      "\n",
      "Loss: 0.1550: 100%|██████████| 126/126 [00:39<00:00,  3.16it/s]\n",
      "Val Loss: 1.6905: 100%|██████████| 32/32 [00:08<00:00,  3.71it/s]\n"
     ]
    },
    {
     "name": "stdout",
     "output_type": "stream",
     "text": [
      "Epoch 22 | Train Loss: 0.4416 | Train F1: 0.8377 | Val Loss: 0.3930 | Val F1: 0.9409\n"
     ]
    },
    {
     "name": "stderr",
     "output_type": "stream",
     "text": [
      "Loss: 0.1472: 100%|██████████| 126/126 [00:39<00:00,  3.15it/s]\n",
      "Val Loss: 0.1590: 100%|██████████| 32/32 [00:08<00:00,  3.71it/s]\n"
     ]
    },
    {
     "name": "stdout",
     "output_type": "stream",
     "text": [
      "Epoch 23 | Train Loss: 0.3739 | Train F1: 0.8936 | Val Loss: 0.2972 | Val F1: 0.9630\n"
     ]
    },
    {
     "name": "stderr",
     "output_type": "stream",
     "text": [
      "Loss: 0.1471: 100%|██████████| 126/126 [00:39<00:00,  3.16it/s]\n",
      "Val Loss: 0.1514: 100%|██████████| 32/32 [00:08<00:00,  3.71it/s]\n"
     ]
    },
    {
     "name": "stdout",
     "output_type": "stream",
     "text": [
      "Epoch 24 | Train Loss: 0.3871 | Train F1: 0.8655 | Val Loss: 0.2954 | Val F1: 0.9637\n"
     ]
    },
    {
     "name": "stderr",
     "output_type": "stream",
     "text": [
      "Loss: 0.1479: 100%|██████████| 126/126 [00:39<00:00,  3.16it/s]\n",
      "Val Loss: 0.1750: 100%|██████████| 32/32 [00:08<00:00,  3.77it/s]\n"
     ]
    },
    {
     "name": "stdout",
     "output_type": "stream",
     "text": [
      "Epoch 25 | Train Loss: 0.4347 | Train F1: 0.8404 | Val Loss: 0.2648 | Val F1: 0.9735\n"
     ]
    },
    {
     "name": "stderr",
     "output_type": "stream",
     "text": [
      "Loss: 0.7090: 100%|██████████| 126/126 [00:39<00:00,  3.16it/s]\n",
      "Val Loss: 0.1503: 100%|██████████| 32/32 [00:08<00:00,  3.73it/s]\n"
     ]
    },
    {
     "name": "stdout",
     "output_type": "stream",
     "text": [
      "Epoch 26 | Train Loss: 0.3739 | Train F1: 0.8881 | Val Loss: 0.3293 | Val F1: 0.9514\n"
     ]
    },
    {
     "name": "stderr",
     "output_type": "stream",
     "text": [
      "Loss: 0.1487: 100%|██████████| 126/126 [00:39<00:00,  3.16it/s]\n",
      "Val Loss: 0.1756: 100%|██████████| 32/32 [00:08<00:00,  3.73it/s]\n"
     ]
    },
    {
     "name": "stdout",
     "output_type": "stream",
     "text": [
      "Epoch 27 | Train Loss: 0.3574 | Train F1: 0.8981 | Val Loss: 0.3136 | Val F1: 0.9606\n"
     ]
    },
    {
     "name": "stderr",
     "output_type": "stream",
     "text": [
      "Loss: 0.1483: 100%|██████████| 126/126 [00:39<00:00,  3.15it/s]\n",
      "Val Loss: 0.2295: 100%|██████████| 32/32 [00:08<00:00,  3.75it/s]\n"
     ]
    },
    {
     "name": "stdout",
     "output_type": "stream",
     "text": [
      "Epoch 28 | Train Loss: 0.3815 | Train F1: 0.8592 | Val Loss: 0.2929 | Val F1: 0.9687\n"
     ]
    },
    {
     "name": "stderr",
     "output_type": "stream",
     "text": [
      "Loss: 0.1477: 100%|██████████| 126/126 [00:39<00:00,  3.16it/s]\n",
      "Val Loss: 0.1513: 100%|██████████| 32/32 [00:08<00:00,  3.74it/s]\n"
     ]
    },
    {
     "name": "stdout",
     "output_type": "stream",
     "text": [
      "Epoch 29 | Train Loss: 0.3713 | Train F1: 0.8706 | Val Loss: 0.2941 | Val F1: 0.9621\n"
     ]
    },
    {
     "name": "stderr",
     "output_type": "stream",
     "text": [
      "Loss: 0.1467: 100%|██████████| 126/126 [00:39<00:00,  3.16it/s]\n",
      "Val Loss: 0.1810: 100%|██████████| 32/32 [00:08<00:00,  3.74it/s]\n"
     ]
    },
    {
     "name": "stdout",
     "output_type": "stream",
     "text": [
      "Epoch 30 | Train Loss: 0.3685 | Train F1: 0.8840 | Val Loss: 0.3172 | Val F1: 0.9541\n"
     ]
    },
    {
     "name": "stderr",
     "output_type": "stream",
     "text": [
      "Loss: 0.1460: 100%|██████████| 126/126 [00:39<00:00,  3.16it/s]\n",
      "Val Loss: 1.2122: 100%|██████████| 32/32 [00:08<00:00,  3.74it/s]\n"
     ]
    },
    {
     "name": "stdout",
     "output_type": "stream",
     "text": [
      "Epoch 31 | Train Loss: 0.3534 | Train F1: 0.8828 | Val Loss: 0.3246 | Val F1: 0.9643\n"
     ]
    },
    {
     "name": "stderr",
     "output_type": "stream",
     "text": [
      "Loss: 0.1509: 100%|██████████| 126/126 [00:39<00:00,  3.16it/s]\n",
      "Val Loss: 0.1476: 100%|██████████| 32/32 [00:08<00:00,  3.74it/s]\n"
     ]
    },
    {
     "name": "stdout",
     "output_type": "stream",
     "text": [
      "Epoch 32 | Train Loss: 0.3871 | Train F1: 0.8748 | Val Loss: 0.2980 | Val F1: 0.9622\n"
     ]
    },
    {
     "name": "stderr",
     "output_type": "stream",
     "text": [
      "Loss: 0.7383: 100%|██████████| 126/126 [00:39<00:00,  3.17it/s]\n",
      "Val Loss: 0.1618: 100%|██████████| 32/32 [00:08<00:00,  3.75it/s]\n"
     ]
    },
    {
     "name": "stdout",
     "output_type": "stream",
     "text": [
      "Epoch 33 | Train Loss: 0.4009 | Train F1: 0.8558 | Val Loss: 0.2710 | Val F1: 0.9683\n"
     ]
    },
    {
     "name": "stderr",
     "output_type": "stream",
     "text": [
      "Loss: 0.9102: 100%|██████████| 126/126 [00:39<00:00,  3.17it/s]\n",
      "Val Loss: 1.6299: 100%|██████████| 32/32 [00:08<00:00,  3.73it/s]\n"
     ]
    },
    {
     "name": "stdout",
     "output_type": "stream",
     "text": [
      "Epoch 34 | Train Loss: 0.3892 | Train F1: 0.9055 | Val Loss: 0.3676 | Val F1: 0.9542\n"
     ]
    },
    {
     "name": "stderr",
     "output_type": "stream",
     "text": [
      "Loss: 0.4629: 100%|██████████| 126/126 [00:40<00:00,  3.15it/s]\n",
      "Val Loss: 0.1469: 100%|██████████| 32/32 [00:08<00:00,  3.71it/s]\n"
     ]
    },
    {
     "name": "stdout",
     "output_type": "stream",
     "text": [
      "Epoch 35 | Train Loss: 0.3651 | Train F1: 0.8673 | Val Loss: 0.3070 | Val F1: 0.9628\n"
     ]
    },
    {
     "name": "stderr",
     "output_type": "stream",
     "text": [
      "Loss: 0.1459: 100%|██████████| 126/126 [00:39<00:00,  3.16it/s]\n",
      "Val Loss: 0.1462: 100%|██████████| 32/32 [00:08<00:00,  3.74it/s]\n"
     ]
    },
    {
     "name": "stdout",
     "output_type": "stream",
     "text": [
      "Epoch 36 | Train Loss: 0.4112 | Train F1: 0.8445 | Val Loss: 0.2982 | Val F1: 0.9644\n"
     ]
    },
    {
     "name": "stderr",
     "output_type": "stream",
     "text": [
      "Loss: 1.0586: 100%|██████████| 126/126 [00:39<00:00,  3.16it/s]\n",
      "Val Loss: 0.1464: 100%|██████████| 32/32 [00:08<00:00,  3.74it/s]\n"
     ]
    },
    {
     "name": "stdout",
     "output_type": "stream",
     "text": [
      "Epoch 37 | Train Loss: 0.3596 | Train F1: 0.8822 | Val Loss: 0.2728 | Val F1: 0.9692\n"
     ]
    },
    {
     "name": "stderr",
     "output_type": "stream",
     "text": [
      "Loss: 0.4097: 100%|██████████| 126/126 [00:39<00:00,  3.17it/s]\n",
      "Val Loss: 0.1589: 100%|██████████| 32/32 [00:08<00:00,  3.73it/s]\n"
     ]
    },
    {
     "name": "stdout",
     "output_type": "stream",
     "text": [
      "Epoch 38 | Train Loss: 0.3517 | Train F1: 0.8804 | Val Loss: 0.3002 | Val F1: 0.9620\n"
     ]
    },
    {
     "name": "stderr",
     "output_type": "stream",
     "text": [
      "Loss: 0.1476: 100%|██████████| 126/126 [00:39<00:00,  3.17it/s]\n",
      "Val Loss: 0.1477: 100%|██████████| 32/32 [00:08<00:00,  3.64it/s]\n"
     ]
    },
    {
     "name": "stdout",
     "output_type": "stream",
     "text": [
      "Epoch 39 | Train Loss: 0.4119 | Train F1: 0.8533 | Val Loss: 0.2934 | Val F1: 0.9641\n"
     ]
    },
    {
     "name": "stderr",
     "output_type": "stream",
     "text": [
      "Loss: 0.1477: 100%|██████████| 126/126 [00:39<00:00,  3.17it/s]\n",
      "Val Loss: 0.1467: 100%|██████████| 32/32 [00:08<00:00,  3.73it/s]"
     ]
    },
    {
     "name": "stdout",
     "output_type": "stream",
     "text": [
      "Epoch 40 | Train Loss: 0.4513 | Train F1: 0.8327 | Val Loss: 0.2677 | Val F1: 0.9765\n"
     ]
    },
    {
     "name": "stderr",
     "output_type": "stream",
     "text": [
      "\n",
      "Loss: 0.5439: 100%|██████████| 126/126 [00:39<00:00,  3.16it/s]\n",
      "Val Loss: 0.1465: 100%|██████████| 32/32 [00:08<00:00,  3.74it/s]\n"
     ]
    },
    {
     "name": "stdout",
     "output_type": "stream",
     "text": [
      "Epoch 41 | Train Loss: 0.3778 | Train F1: 0.8607 | Val Loss: 0.3127 | Val F1: 0.9622\n"
     ]
    },
    {
     "name": "stderr",
     "output_type": "stream",
     "text": [
      "Loss: 0.9302: 100%|██████████| 126/126 [00:39<00:00,  3.16it/s]\n",
      "Val Loss: 0.2265: 100%|██████████| 32/32 [00:08<00:00,  3.69it/s]\n"
     ]
    },
    {
     "name": "stdout",
     "output_type": "stream",
     "text": [
      "Epoch 42 | Train Loss: 0.3796 | Train F1: 0.8548 | Val Loss: 0.2706 | Val F1: 0.9670\n"
     ]
    },
    {
     "name": "stderr",
     "output_type": "stream",
     "text": [
      "Loss: 0.9170: 100%|██████████| 126/126 [00:39<00:00,  3.17it/s]\n",
      "Val Loss: 0.1469: 100%|██████████| 32/32 [00:08<00:00,  3.72it/s]\n"
     ]
    },
    {
     "name": "stdout",
     "output_type": "stream",
     "text": [
      "Epoch 43 | Train Loss: 0.4365 | Train F1: 0.8417 | Val Loss: 0.3169 | Val F1: 0.9634\n"
     ]
    },
    {
     "name": "stderr",
     "output_type": "stream",
     "text": [
      "Loss: 0.1464: 100%|██████████| 126/126 [00:39<00:00,  3.18it/s]\n",
      "Val Loss: 0.1481: 100%|██████████| 32/32 [00:08<00:00,  3.75it/s]\n"
     ]
    },
    {
     "name": "stdout",
     "output_type": "stream",
     "text": [
      "Epoch 44 | Train Loss: 0.3839 | Train F1: 0.8745 | Val Loss: 0.2831 | Val F1: 0.9722\n"
     ]
    },
    {
     "name": "stderr",
     "output_type": "stream",
     "text": [
      "Loss: 0.1461: 100%|██████████| 126/126 [00:39<00:00,  3.17it/s]\n",
      "Val Loss: 0.5257: 100%|██████████| 32/32 [00:08<00:00,  3.72it/s]\n"
     ]
    },
    {
     "name": "stdout",
     "output_type": "stream",
     "text": [
      "Epoch 45 | Train Loss: 0.3741 | Train F1: 0.8616 | Val Loss: 0.2806 | Val F1: 0.9649\n"
     ]
    },
    {
     "name": "stderr",
     "output_type": "stream",
     "text": [
      "Loss: 0.7598: 100%|██████████| 126/126 [00:39<00:00,  3.16it/s]\n",
      "Val Loss: 0.1547: 100%|██████████| 32/32 [00:08<00:00,  3.75it/s]\n"
     ]
    },
    {
     "name": "stdout",
     "output_type": "stream",
     "text": [
      "Epoch 46 | Train Loss: 0.3503 | Train F1: 0.8828 | Val Loss: 0.2718 | Val F1: 0.9688\n"
     ]
    },
    {
     "name": "stderr",
     "output_type": "stream",
     "text": [
      "Loss: 0.4580: 100%|██████████| 126/126 [00:39<00:00,  3.17it/s]\n",
      "Val Loss: 1.5885: 100%|██████████| 32/32 [00:08<00:00,  3.71it/s]\n"
     ]
    },
    {
     "name": "stdout",
     "output_type": "stream",
     "text": [
      "Epoch 47 | Train Loss: 0.3499 | Train F1: 0.8679 | Val Loss: 0.3916 | Val F1: 0.9531\n"
     ]
    },
    {
     "name": "stderr",
     "output_type": "stream",
     "text": [
      "Loss: 0.1461: 100%|██████████| 126/126 [00:39<00:00,  3.18it/s]\n",
      "Val Loss: 0.1480: 100%|██████████| 32/32 [00:08<00:00,  3.67it/s]\n"
     ]
    },
    {
     "name": "stdout",
     "output_type": "stream",
     "text": [
      "Epoch 48 | Train Loss: 0.3820 | Train F1: 0.8471 | Val Loss: 0.2587 | Val F1: 0.9780\n"
     ]
    },
    {
     "name": "stderr",
     "output_type": "stream",
     "text": [
      "Loss: 1.7930: 100%|██████████| 126/126 [00:39<00:00,  3.15it/s]\n",
      "Val Loss: 0.1460: 100%|██████████| 32/32 [00:08<00:00,  3.76it/s]\n"
     ]
    },
    {
     "name": "stdout",
     "output_type": "stream",
     "text": [
      "Epoch 49 | Train Loss: 0.4326 | Train F1: 0.8547 | Val Loss: 0.2983 | Val F1: 0.9670\n"
     ]
    },
    {
     "name": "stderr",
     "output_type": "stream",
     "text": [
      "Loss: 0.1460: 100%|██████████| 126/126 [00:39<00:00,  3.18it/s]\n",
      "Val Loss: 0.1462: 100%|██████████| 32/32 [00:08<00:00,  3.71it/s]\n"
     ]
    },
    {
     "name": "stdout",
     "output_type": "stream",
     "text": [
      "Epoch 50 | Train Loss: 0.3587 | Train F1: 0.8497 | Val Loss: 0.2801 | Val F1: 0.9690\n"
     ]
    },
    {
     "name": "stderr",
     "output_type": "stream",
     "text": [
      "Loss: 0.1456: 100%|██████████| 126/126 [00:39<00:00,  3.16it/s]\n",
      "Val Loss: 0.1460: 100%|██████████| 32/32 [00:08<00:00,  3.71it/s]\n"
     ]
    },
    {
     "name": "stdout",
     "output_type": "stream",
     "text": [
      "Epoch 51 | Train Loss: 0.3241 | Train F1: 0.8740 | Val Loss: 0.2833 | Val F1: 0.9708\n"
     ]
    },
    {
     "name": "stderr",
     "output_type": "stream",
     "text": [
      "Loss: 0.9004: 100%|██████████| 126/126 [00:39<00:00,  3.18it/s]\n",
      "Val Loss: 0.1459: 100%|██████████| 32/32 [00:08<00:00,  3.72it/s]\n"
     ]
    },
    {
     "name": "stdout",
     "output_type": "stream",
     "text": [
      "Epoch 52 | Train Loss: 0.3791 | Train F1: 0.8472 | Val Loss: 0.3303 | Val F1: 0.9632\n"
     ]
    },
    {
     "name": "stderr",
     "output_type": "stream",
     "text": [
      "Loss: 0.1456: 100%|██████████| 126/126 [00:39<00:00,  3.17it/s]\n",
      "Val Loss: 0.1459: 100%|██████████| 32/32 [00:08<00:00,  3.74it/s]\n"
     ]
    },
    {
     "name": "stdout",
     "output_type": "stream",
     "text": [
      "Epoch 53 | Train Loss: 0.3484 | Train F1: 0.8784 | Val Loss: 0.2888 | Val F1: 0.9706\n"
     ]
    },
    {
     "name": "stderr",
     "output_type": "stream",
     "text": [
      "Loss: 0.1565: 100%|██████████| 126/126 [00:39<00:00,  3.17it/s]\n",
      "Val Loss: 0.1459: 100%|██████████| 32/32 [00:08<00:00,  3.74it/s]\n"
     ]
    },
    {
     "name": "stdout",
     "output_type": "stream",
     "text": [
      "Epoch 54 | Train Loss: 0.3667 | Train F1: 0.8372 | Val Loss: 0.2715 | Val F1: 0.9766\n"
     ]
    },
    {
     "name": "stderr",
     "output_type": "stream",
     "text": [
      "Loss: 0.1460: 100%|██████████| 126/126 [00:39<00:00,  3.17it/s]\n",
      "Val Loss: 0.1458: 100%|██████████| 32/32 [00:08<00:00,  3.71it/s]\n"
     ]
    },
    {
     "name": "stdout",
     "output_type": "stream",
     "text": [
      "Epoch 55 | Train Loss: 0.3712 | Train F1: 0.8526 | Val Loss: 0.3271 | Val F1: 0.9593\n"
     ]
    },
    {
     "name": "stderr",
     "output_type": "stream",
     "text": [
      "Loss: 0.1459: 100%|██████████| 126/126 [00:39<00:00,  3.17it/s]\n",
      "Val Loss: 1.3984: 100%|██████████| 32/32 [00:08<00:00,  3.79it/s]\n"
     ]
    },
    {
     "name": "stdout",
     "output_type": "stream",
     "text": [
      "Epoch 56 | Train Loss: 0.3485 | Train F1: 0.8708 | Val Loss: 0.3268 | Val F1: 0.9626\n"
     ]
    },
    {
     "name": "stderr",
     "output_type": "stream",
     "text": [
      "Loss: 0.1460: 100%|██████████| 126/126 [00:39<00:00,  3.17it/s]\n",
      "Val Loss: 0.1458: 100%|██████████| 32/32 [00:08<00:00,  3.77it/s]\n"
     ]
    },
    {
     "name": "stdout",
     "output_type": "stream",
     "text": [
      "Epoch 57 | Train Loss: 0.2892 | Train F1: 0.8995 | Val Loss: 0.2775 | Val F1: 0.9722\n"
     ]
    },
    {
     "name": "stderr",
     "output_type": "stream",
     "text": [
      "Loss: 0.6616: 100%|██████████| 126/126 [00:39<00:00,  3.17it/s]\n",
      "Val Loss: 0.1458: 100%|██████████| 32/32 [00:08<00:00,  3.70it/s]\n"
     ]
    },
    {
     "name": "stdout",
     "output_type": "stream",
     "text": [
      "Epoch 58 | Train Loss: 0.3804 | Train F1: 0.8527 | Val Loss: 0.2505 | Val F1: 0.9722\n"
     ]
    },
    {
     "name": "stderr",
     "output_type": "stream",
     "text": [
      "Loss: 0.1459: 100%|██████████| 126/126 [00:39<00:00,  3.17it/s]\n",
      "Val Loss: 0.1504: 100%|██████████| 32/32 [00:08<00:00,  3.74it/s]\n"
     ]
    },
    {
     "name": "stdout",
     "output_type": "stream",
     "text": [
      "Epoch 59 | Train Loss: 0.3900 | Train F1: 0.8773 | Val Loss: 0.3088 | Val F1: 0.9618\n"
     ]
    },
    {
     "name": "stderr",
     "output_type": "stream",
     "text": [
      "Loss: 0.1464: 100%|██████████| 126/126 [00:39<00:00,  3.17it/s]\n",
      "Val Loss: 0.1458: 100%|██████████| 32/32 [00:08<00:00,  3.75it/s]\n"
     ]
    },
    {
     "name": "stdout",
     "output_type": "stream",
     "text": [
      "Epoch 60 | Train Loss: 0.3390 | Train F1: 0.8562 | Val Loss: 0.2598 | Val F1: 0.9780\n"
     ]
    },
    {
     "name": "stderr",
     "output_type": "stream",
     "text": [
      "Loss: 0.1456: 100%|██████████| 126/126 [00:39<00:00,  3.18it/s]\n",
      "Val Loss: 0.1554: 100%|██████████| 32/32 [00:08<00:00,  3.74it/s]\n"
     ]
    },
    {
     "name": "stdout",
     "output_type": "stream",
     "text": [
      "Epoch 61 | Train Loss: 0.3902 | Train F1: 0.8279 | Val Loss: 0.3114 | Val F1: 0.9692\n"
     ]
    },
    {
     "name": "stderr",
     "output_type": "stream",
     "text": [
      "Loss: 1.0088: 100%|██████████| 126/126 [00:39<00:00,  3.16it/s]\n",
      "Val Loss: 0.1458: 100%|██████████| 32/32 [00:08<00:00,  3.70it/s]\n"
     ]
    },
    {
     "name": "stdout",
     "output_type": "stream",
     "text": [
      "Epoch 62 | Train Loss: 0.3476 | Train F1: 0.8327 | Val Loss: 0.3350 | Val F1: 0.9648\n"
     ]
    },
    {
     "name": "stderr",
     "output_type": "stream",
     "text": [
      "Loss: 0.9136: 100%|██████████| 126/126 [00:39<00:00,  3.18it/s]\n",
      "Val Loss: 0.6538: 100%|██████████| 32/32 [00:08<00:00,  3.71it/s]\n"
     ]
    },
    {
     "name": "stdout",
     "output_type": "stream",
     "text": [
      "Epoch 63 | Train Loss: 0.2892 | Train F1: 0.9158 | Val Loss: 0.2931 | Val F1: 0.9722\n"
     ]
    },
    {
     "name": "stderr",
     "output_type": "stream",
     "text": [
      "Loss: 0.1459: 100%|██████████| 126/126 [00:39<00:00,  3.17it/s]\n",
      "Val Loss: 0.1457: 100%|██████████| 32/32 [00:08<00:00,  3.73it/s]\n"
     ]
    },
    {
     "name": "stdout",
     "output_type": "stream",
     "text": [
      "Epoch 64 | Train Loss: 0.3568 | Train F1: 0.8832 | Val Loss: 0.2668 | Val F1: 0.9780\n"
     ]
    },
    {
     "name": "stderr",
     "output_type": "stream",
     "text": [
      "Loss: 0.1642: 100%|██████████| 126/126 [00:39<00:00,  3.17it/s]\n",
      "Val Loss: 0.1457: 100%|██████████| 32/32 [00:08<00:00,  3.71it/s]\n"
     ]
    },
    {
     "name": "stdout",
     "output_type": "stream",
     "text": [
      "Epoch 65 | Train Loss: 0.3959 | Train F1: 0.8129 | Val Loss: 0.2939 | Val F1: 0.9721\n"
     ]
    },
    {
     "name": "stderr",
     "output_type": "stream",
     "text": [
      "Loss: 0.1455: 100%|██████████| 126/126 [00:39<00:00,  3.17it/s]\n",
      "Val Loss: 0.1457: 100%|██████████| 32/32 [00:08<00:00,  3.74it/s]\n"
     ]
    },
    {
     "name": "stdout",
     "output_type": "stream",
     "text": [
      "Epoch 66 | Train Loss: 0.3293 | Train F1: 0.8776 | Val Loss: 0.2965 | Val F1: 0.9708\n"
     ]
    },
    {
     "name": "stderr",
     "output_type": "stream",
     "text": [
      "Loss: 0.1456: 100%|██████████| 126/126 [00:39<00:00,  3.18it/s]\n",
      "Val Loss: 0.1457: 100%|██████████| 32/32 [00:08<00:00,  3.70it/s]\n"
     ]
    },
    {
     "name": "stdout",
     "output_type": "stream",
     "text": [
      "Epoch 67 | Train Loss: 0.3081 | Train F1: 0.8569 | Val Loss: 0.2992 | Val F1: 0.9691\n"
     ]
    },
    {
     "name": "stderr",
     "output_type": "stream",
     "text": [
      "Loss: 0.4207: 100%|██████████| 126/126 [00:39<00:00,  3.18it/s]\n",
      "Val Loss: 0.1466: 100%|██████████| 32/32 [00:08<00:00,  3.72it/s]\n"
     ]
    },
    {
     "name": "stdout",
     "output_type": "stream",
     "text": [
      "Epoch 68 | Train Loss: 0.3753 | Train F1: 0.8562 | Val Loss: 0.3292 | Val F1: 0.9625\n"
     ]
    },
    {
     "name": "stderr",
     "output_type": "stream",
     "text": [
      "Loss: 1.0410: 100%|██████████| 126/126 [00:39<00:00,  3.17it/s]\n",
      "Val Loss: 0.1510: 100%|██████████| 32/32 [00:08<00:00,  3.67it/s]\n"
     ]
    },
    {
     "name": "stdout",
     "output_type": "stream",
     "text": [
      "Epoch 69 | Train Loss: 0.3436 | Train F1: 0.8581 | Val Loss: 0.2510 | Val F1: 0.9738\n"
     ]
    },
    {
     "name": "stderr",
     "output_type": "stream",
     "text": [
      "Loss: 0.1458: 100%|██████████| 126/126 [00:39<00:00,  3.18it/s]\n",
      "Val Loss: 0.1459: 100%|██████████| 32/32 [00:08<00:00,  3.73it/s]\n"
     ]
    },
    {
     "name": "stdout",
     "output_type": "stream",
     "text": [
      "Epoch 70 | Train Loss: 0.3456 | Train F1: 0.8576 | Val Loss: 0.3061 | Val F1: 0.9599\n"
     ]
    },
    {
     "name": "stderr",
     "output_type": "stream",
     "text": [
      "Loss: 0.6768: 100%|██████████| 126/126 [00:39<00:00,  3.18it/s]\n",
      "Val Loss: 0.1457: 100%|██████████| 32/32 [00:08<00:00,  3.75it/s]\n"
     ]
    },
    {
     "name": "stdout",
     "output_type": "stream",
     "text": [
      "Epoch 71 | Train Loss: 0.3423 | Train F1: 0.8924 | Val Loss: 0.2583 | Val F1: 0.9780\n"
     ]
    },
    {
     "name": "stderr",
     "output_type": "stream",
     "text": [
      "Loss: 0.1456: 100%|██████████| 126/126 [00:39<00:00,  3.18it/s]\n",
      "Val Loss: 0.1457: 100%|██████████| 32/32 [00:08<00:00,  3.75it/s]\n"
     ]
    },
    {
     "name": "stdout",
     "output_type": "stream",
     "text": [
      "Epoch 72 | Train Loss: 0.3114 | Train F1: 0.8642 | Val Loss: 0.2750 | Val F1: 0.9751\n"
     ]
    },
    {
     "name": "stderr",
     "output_type": "stream",
     "text": [
      "Loss: 0.1460: 100%|██████████| 126/126 [00:39<00:00,  3.18it/s]\n",
      "Val Loss: 0.1460: 100%|██████████| 32/32 [00:08<00:00,  3.76it/s]\n"
     ]
    },
    {
     "name": "stdout",
     "output_type": "stream",
     "text": [
      "Epoch 73 | Train Loss: 0.3661 | Train F1: 0.8466 | Val Loss: 0.2678 | Val F1: 0.9710\n"
     ]
    },
    {
     "name": "stderr",
     "output_type": "stream",
     "text": [
      "Loss: 0.1458: 100%|██████████| 126/126 [00:39<00:00,  3.18it/s]\n",
      "Val Loss: 0.1458: 100%|██████████| 32/32 [00:08<00:00,  3.71it/s]\n"
     ]
    },
    {
     "name": "stdout",
     "output_type": "stream",
     "text": [
      "Epoch 74 | Train Loss: 0.3827 | Train F1: 0.8245 | Val Loss: 0.2719 | Val F1: 0.9702\n"
     ]
    },
    {
     "name": "stderr",
     "output_type": "stream",
     "text": [
      "Loss: 0.8872: 100%|██████████| 126/126 [00:39<00:00,  3.18it/s]\n",
      "Val Loss: 0.1457: 100%|██████████| 32/32 [00:08<00:00,  3.74it/s]\n"
     ]
    },
    {
     "name": "stdout",
     "output_type": "stream",
     "text": [
      "Epoch 75 | Train Loss: 0.3534 | Train F1: 0.8351 | Val Loss: 0.2749 | Val F1: 0.9708\n"
     ]
    },
    {
     "name": "stderr",
     "output_type": "stream",
     "text": [
      "Loss: 0.1456: 100%|██████████| 126/126 [00:39<00:00,  3.18it/s]\n",
      "Val Loss: 0.1457: 100%|██████████| 32/32 [00:08<00:00,  3.71it/s]\n"
     ]
    },
    {
     "name": "stdout",
     "output_type": "stream",
     "text": [
      "Epoch 76 | Train Loss: 0.3173 | Train F1: 0.9074 | Val Loss: 0.2993 | Val F1: 0.9679\n"
     ]
    },
    {
     "name": "stderr",
     "output_type": "stream",
     "text": [
      "Loss: 0.1456: 100%|██████████| 126/126 [00:39<00:00,  3.18it/s]\n",
      "Val Loss: 0.1457: 100%|██████████| 32/32 [00:08<00:00,  3.73it/s]\n"
     ]
    },
    {
     "name": "stdout",
     "output_type": "stream",
     "text": [
      "Epoch 77 | Train Loss: 0.3183 | Train F1: 0.9025 | Val Loss: 0.2886 | Val F1: 0.9708\n"
     ]
    },
    {
     "name": "stderr",
     "output_type": "stream",
     "text": [
      "Loss: 0.1455: 100%|██████████| 126/126 [00:39<00:00,  3.18it/s]\n",
      "Val Loss: 0.1457: 100%|██████████| 32/32 [00:08<00:00,  3.70it/s]\n"
     ]
    },
    {
     "name": "stdout",
     "output_type": "stream",
     "text": [
      "Epoch 78 | Train Loss: 0.3346 | Train F1: 0.8555 | Val Loss: 0.2933 | Val F1: 0.9669\n"
     ]
    },
    {
     "name": "stderr",
     "output_type": "stream",
     "text": [
      "Loss: 0.1456: 100%|██████████| 126/126 [00:39<00:00,  3.17it/s]\n",
      "Val Loss: 0.1457: 100%|██████████| 32/32 [00:08<00:00,  3.71it/s]\n"
     ]
    },
    {
     "name": "stdout",
     "output_type": "stream",
     "text": [
      "Epoch 79 | Train Loss: 0.3497 | Train F1: 0.8687 | Val Loss: 0.2693 | Val F1: 0.9750\n"
     ]
    },
    {
     "name": "stderr",
     "output_type": "stream",
     "text": [
      "Loss: 0.1456: 100%|██████████| 126/126 [00:39<00:00,  3.18it/s]\n",
      "Val Loss: 0.1457: 100%|██████████| 32/32 [00:08<00:00,  3.73it/s]\n"
     ]
    },
    {
     "name": "stdout",
     "output_type": "stream",
     "text": [
      "Epoch 80 | Train Loss: 0.3572 | Train F1: 0.8150 | Val Loss: 0.3296 | Val F1: 0.9606\n"
     ]
    },
    {
     "name": "stderr",
     "output_type": "stream",
     "text": [
      "Loss: 0.1456: 100%|██████████| 126/126 [00:39<00:00,  3.18it/s]\n",
      "Val Loss: 0.1459: 100%|██████████| 32/32 [00:08<00:00,  3.74it/s]\n"
     ]
    },
    {
     "name": "stdout",
     "output_type": "stream",
     "text": [
      "Epoch 81 | Train Loss: 0.3113 | Train F1: 0.8864 | Val Loss: 0.2841 | Val F1: 0.9737\n"
     ]
    },
    {
     "name": "stderr",
     "output_type": "stream",
     "text": [
      "Loss: 0.1456: 100%|██████████| 126/126 [00:39<00:00,  3.18it/s]\n",
      "Val Loss: 0.1457: 100%|██████████| 32/32 [00:08<00:00,  3.75it/s]\n"
     ]
    },
    {
     "name": "stdout",
     "output_type": "stream",
     "text": [
      "Epoch 82 | Train Loss: 0.3182 | Train F1: 0.8740 | Val Loss: 0.2977 | Val F1: 0.9692\n"
     ]
    },
    {
     "name": "stderr",
     "output_type": "stream",
     "text": [
      "Loss: 0.1458: 100%|██████████| 126/126 [00:39<00:00,  3.16it/s]\n",
      "Val Loss: 0.1457: 100%|██████████| 32/32 [00:08<00:00,  3.75it/s]\n"
     ]
    },
    {
     "name": "stdout",
     "output_type": "stream",
     "text": [
      "Epoch 83 | Train Loss: 0.3887 | Train F1: 0.8635 | Val Loss: 0.3301 | Val F1: 0.9634\n"
     ]
    },
    {
     "name": "stderr",
     "output_type": "stream",
     "text": [
      "Loss: 0.1456: 100%|██████████| 126/126 [00:39<00:00,  3.17it/s]\n",
      "Val Loss: 0.1456: 100%|██████████| 32/32 [00:08<00:00,  3.75it/s]\n"
     ]
    },
    {
     "name": "stdout",
     "output_type": "stream",
     "text": [
      "Epoch 84 | Train Loss: 0.3353 | Train F1: 0.8432 | Val Loss: 0.2878 | Val F1: 0.9705\n"
     ]
    },
    {
     "name": "stderr",
     "output_type": "stream",
     "text": [
      "Loss: 0.1456: 100%|██████████| 126/126 [00:39<00:00,  3.18it/s]\n",
      "Val Loss: 0.1457: 100%|██████████| 32/32 [00:08<00:00,  3.72it/s]\n"
     ]
    },
    {
     "name": "stdout",
     "output_type": "stream",
     "text": [
      "Epoch 85 | Train Loss: 0.3183 | Train F1: 0.9080 | Val Loss: 0.2845 | Val F1: 0.9678\n"
     ]
    },
    {
     "name": "stderr",
     "output_type": "stream",
     "text": [
      "Loss: 0.7031: 100%|██████████| 126/126 [00:39<00:00,  3.17it/s]\n",
      "Val Loss: 0.1456: 100%|██████████| 32/32 [00:08<00:00,  3.74it/s]\n"
     ]
    },
    {
     "name": "stdout",
     "output_type": "stream",
     "text": [
      "Epoch 86 | Train Loss: 0.3723 | Train F1: 0.8636 | Val Loss: 0.2980 | Val F1: 0.9678\n"
     ]
    },
    {
     "name": "stderr",
     "output_type": "stream",
     "text": [
      "Loss: 0.4697: 100%|██████████| 126/126 [00:39<00:00,  3.18it/s]\n",
      "Val Loss: 0.1456: 100%|██████████| 32/32 [00:08<00:00,  3.74it/s]\n"
     ]
    },
    {
     "name": "stdout",
     "output_type": "stream",
     "text": [
      "Epoch 87 | Train Loss: 0.3301 | Train F1: 0.8660 | Val Loss: 0.3468 | Val F1: 0.9603\n"
     ]
    },
    {
     "name": "stderr",
     "output_type": "stream",
     "text": [
      "Loss: 0.7163: 100%|██████████| 126/126 [00:39<00:00,  3.18it/s]\n",
      "Val Loss: 0.1456: 100%|██████████| 32/32 [00:08<00:00,  3.70it/s]\n"
     ]
    },
    {
     "name": "stdout",
     "output_type": "stream",
     "text": [
      "Epoch 88 | Train Loss: 0.3403 | Train F1: 0.8720 | Val Loss: 0.3039 | Val F1: 0.9663\n"
     ]
    },
    {
     "name": "stderr",
     "output_type": "stream",
     "text": [
      "Loss: 0.1458: 100%|██████████| 126/126 [00:39<00:00,  3.18it/s]\n",
      "Val Loss: 0.1457: 100%|██████████| 32/32 [00:08<00:00,  3.77it/s]\n"
     ]
    },
    {
     "name": "stdout",
     "output_type": "stream",
     "text": [
      "Epoch 89 | Train Loss: 0.3320 | Train F1: 0.8649 | Val Loss: 0.2787 | Val F1: 0.9708\n"
     ]
    },
    {
     "name": "stderr",
     "output_type": "stream",
     "text": [
      "Loss: 0.9492: 100%|██████████| 126/126 [00:39<00:00,  3.17it/s]\n",
      "Val Loss: 0.1457: 100%|██████████| 32/32 [00:08<00:00,  3.75it/s]\n"
     ]
    },
    {
     "name": "stdout",
     "output_type": "stream",
     "text": [
      "Epoch 90 | Train Loss: 0.3602 | Train F1: 0.8673 | Val Loss: 0.3254 | Val F1: 0.9679\n"
     ]
    },
    {
     "name": "stderr",
     "output_type": "stream",
     "text": [
      "Loss: 0.1455: 100%|██████████| 126/126 [00:39<00:00,  3.17it/s]\n",
      "Val Loss: 0.1456: 100%|██████████| 32/32 [00:08<00:00,  3.77it/s]\n"
     ]
    },
    {
     "name": "stdout",
     "output_type": "stream",
     "text": [
      "Epoch 91 | Train Loss: 0.3208 | Train F1: 0.8836 | Val Loss: 0.2926 | Val F1: 0.9737\n"
     ]
    },
    {
     "name": "stderr",
     "output_type": "stream",
     "text": [
      "Loss: 0.7061: 100%|██████████| 126/126 [00:39<00:00,  3.17it/s]\n",
      "Val Loss: 0.1457: 100%|██████████| 32/32 [00:08<00:00,  3.68it/s]\n"
     ]
    },
    {
     "name": "stdout",
     "output_type": "stream",
     "text": [
      "Epoch 92 | Train Loss: 0.3693 | Train F1: 0.8659 | Val Loss: 0.2802 | Val F1: 0.9708\n"
     ]
    },
    {
     "name": "stderr",
     "output_type": "stream",
     "text": [
      "Loss: 0.6426: 100%|██████████| 126/126 [00:39<00:00,  3.17it/s]\n",
      "Val Loss: 0.1456: 100%|██████████| 32/32 [00:08<00:00,  3.72it/s]\n"
     ]
    },
    {
     "name": "stdout",
     "output_type": "stream",
     "text": [
      "Epoch 93 | Train Loss: 0.3367 | Train F1: 0.8723 | Val Loss: 0.2830 | Val F1: 0.9721\n"
     ]
    },
    {
     "name": "stderr",
     "output_type": "stream",
     "text": [
      "Loss: 0.4775: 100%|██████████| 126/126 [00:39<00:00,  3.18it/s]\n",
      "Val Loss: 0.1456: 100%|██████████| 32/32 [00:08<00:00,  3.72it/s]\n"
     ]
    },
    {
     "name": "stdout",
     "output_type": "stream",
     "text": [
      "Epoch 94 | Train Loss: 0.3079 | Train F1: 0.8777 | Val Loss: 0.2930 | Val F1: 0.9668\n"
     ]
    },
    {
     "name": "stderr",
     "output_type": "stream",
     "text": [
      "Loss: 0.1456: 100%|██████████| 126/126 [00:39<00:00,  3.17it/s]\n",
      "Val Loss: 0.1456: 100%|██████████| 32/32 [00:08<00:00,  3.65it/s]\n"
     ]
    },
    {
     "name": "stdout",
     "output_type": "stream",
     "text": [
      "Epoch 95 | Train Loss: 0.3277 | Train F1: 0.8467 | Val Loss: 0.2737 | Val F1: 0.9751\n"
     ]
    },
    {
     "name": "stderr",
     "output_type": "stream",
     "text": [
      "Loss: 0.8364: 100%|██████████| 126/126 [00:39<00:00,  3.18it/s]\n",
      "Val Loss: 0.1456: 100%|██████████| 32/32 [00:08<00:00,  3.74it/s]\n"
     ]
    },
    {
     "name": "stdout",
     "output_type": "stream",
     "text": [
      "Epoch 96 | Train Loss: 0.3505 | Train F1: 0.8123 | Val Loss: 0.3044 | Val F1: 0.9721\n"
     ]
    },
    {
     "name": "stderr",
     "output_type": "stream",
     "text": [
      "Loss: 1.0527: 100%|██████████| 126/126 [00:39<00:00,  3.16it/s]\n",
      "Val Loss: 0.1456: 100%|██████████| 32/32 [00:08<00:00,  3.72it/s]\n"
     ]
    },
    {
     "name": "stdout",
     "output_type": "stream",
     "text": [
      "Epoch 97 | Train Loss: 0.3848 | Train F1: 0.8176 | Val Loss: 0.2989 | Val F1: 0.9679\n"
     ]
    },
    {
     "name": "stderr",
     "output_type": "stream",
     "text": [
      "Loss: 0.1456: 100%|██████████| 126/126 [00:39<00:00,  3.19it/s]\n",
      "Val Loss: 0.1457: 100%|██████████| 32/32 [00:08<00:00,  3.71it/s]\n"
     ]
    },
    {
     "name": "stdout",
     "output_type": "stream",
     "text": [
      "Epoch 98 | Train Loss: 0.3114 | Train F1: 0.8939 | Val Loss: 0.2909 | Val F1: 0.9692\n"
     ]
    },
    {
     "name": "stderr",
     "output_type": "stream",
     "text": [
      "Loss: 0.3665: 100%|██████████| 126/126 [00:39<00:00,  3.19it/s]\n",
      "Val Loss: 0.1456: 100%|██████████| 32/32 [00:08<00:00,  3.73it/s]\n"
     ]
    },
    {
     "name": "stdout",
     "output_type": "stream",
     "text": [
      "Epoch 99 | Train Loss: 0.3130 | Train F1: 0.8925 | Val Loss: 0.2986 | Val F1: 0.9708\n"
     ]
    },
    {
     "name": "stderr",
     "output_type": "stream",
     "text": [
      "Loss: 0.1455: 100%|██████████| 126/126 [00:39<00:00,  3.18it/s]\n",
      "Val Loss: 0.1456: 100%|██████████| 32/32 [00:08<00:00,  3.73it/s]"
     ]
    },
    {
     "name": "stdout",
     "output_type": "stream",
     "text": [
      "Epoch 100 | Train Loss: 0.3052 | Train F1: 0.8862 | Val Loss: 0.2937 | Val F1: 0.9721\n",
      "Fold 5 Best Validation F1: 0.9780\n",
      "\n",
      "============================================================\n",
      "K-FOLD CROSS VALIDATION RESULTS\n",
      "============================================================\n",
      "Fold 1: 0.9765\n",
      "Fold 2: 0.9838\n",
      "Fold 3: 0.9912\n",
      "Fold 4: 0.9848\n",
      "Fold 5: 0.9780\n",
      "\n",
      "Mean CV F1: 0.9829 ± 0.0052\n",
      "Best single fold: 0.9912\n"
     ]
    },
    {
     "name": "stderr",
     "output_type": "stream",
     "text": [
      "\n"
     ]
    }
   ],
   "source": [
    "# K-Fold 설정\n",
    "N_FOLDS = 5  # 5-fold로 설정 (데이터가 적으므로)\n",
    "skf = StratifiedKFold(n_splits=N_FOLDS, shuffle=True, random_state=42)\n",
    "\n",
    "# 클래스별 최소 샘플 보장 확인\n",
    "# for fold, (train_idx, val_idx) in enumerate(skf.split(train_df, train_df['target'])):\n",
    "#     assert len(np.unique(train_df.iloc[val_idx]['target'])) == 17\n",
    "\n",
    "# 전체 학습 데이터 로드\n",
    "train_df = pd.read_csv(\"../data/train.csv\")\n",
    "\n",
    "# K-Fold 결과를 저장할 리스트\n",
    "fold_results = []\n",
    "fold_models = []  # 각 fold의 최고 성능 모델을 저장\n",
    "fold_class_accuracies = [] # 각 fold의 클래스별 정확도 저장\n",
    "\n",
    "print(f\"Starting {N_FOLDS}-Fold Cross Validation...\")\n",
    "\n",
    "# LR = best_params['lr']\n",
    "# BATCH_SIZE = best_params['batch_size']\n",
    "\n",
    "# K-Fold Cross Validation 시작\n",
    "for fold, (train_idx, val_idx) in enumerate(skf.split(train_df, train_df['target'])):\n",
    "    print(f\"\\n{'='*50}\")\n",
    "    print(f\"FOLD {fold + 1}/{N_FOLDS}\")\n",
    "    print(f\"{'='*50}\")\n",
    "    \n",
    "    current_model = model_name\n",
    "    \n",
    "    # 현재 fold의 train/validation 데이터 분할\n",
    "    train_fold_df = train_df.iloc[train_idx].reset_index(drop=True)\n",
    "    val_fold_df = train_df.iloc[val_idx].reset_index(drop=True)\n",
    "    \n",
    "    # 현재 fold의 Dataset 생성\n",
    "    trn_dataset = ImageDataset(\n",
    "        train_fold_df,\n",
    "        \"../data/train/\",\n",
    "        # transform=trn_transform\n",
    "        epoch=0,  # 현재 epoch 전달\n",
    "        total_epochs=EPOCHS,\n",
    "        is_train=True\n",
    "    )\n",
    "    \n",
    "    val_dataset = ImageDataset(\n",
    "        val_fold_df,\n",
    "        \"../data/train/\",\n",
    "        # transform=tst_transform  # 검증에는 증강 적용 안함\n",
    "        epoch=0,  # validation은 epoch 관계없음\n",
    "        total_epochs=EPOCHS,\n",
    "        is_train=False  # validation이므로 hard augmentation 비활성화\n",
    "    )\n",
    "    \n",
    "    # 현재 fold의 DataLoader 생성\n",
    "    trn_loader = DataLoader(\n",
    "        trn_dataset,\n",
    "        batch_size=BATCH_SIZE,\n",
    "        shuffle=True,\n",
    "        num_workers=num_workers,\n",
    "        pin_memory=True,\n",
    "        drop_last=False\n",
    "    )\n",
    "    \n",
    "    val_loader = DataLoader(\n",
    "        val_dataset,\n",
    "        batch_size=BATCH_SIZE,\n",
    "        shuffle=False,\n",
    "        num_workers=num_workers,\n",
    "        pin_memory=True\n",
    "    )\n",
    "    \n",
    "    print(f\"Train samples: {len(trn_dataset)}, Validation samples: {len(val_dataset)}\")\n",
    "    \n",
    "    # 모델 초기화 (각 fold마다 새로운 모델)\n",
    "    model = timm.create_model(\n",
    "        current_model,\n",
    "        pretrained=True,\n",
    "        num_classes=17\n",
    "    ).to(device)\n",
    "    \n",
    "    loss_fn = nn.CrossEntropyLoss(label_smoothing=0.02)  # Label Smoothing 적용\n",
    "    optimizer = Adam(model.parameters(), lr=LR)\n",
    "    \n",
    "    # Learning Rate Scheduler 추가\n",
    "    scheduler = CosineAnnealingLR(optimizer, T_max=EPOCHS)\n",
    "    \n",
    "    # 현재 fold의 최고 성능 추적\n",
    "    best_val_f1 = 0.0\n",
    "    best_model = None\n",
    "    \n",
    "    # 현재 fold 학습\n",
    "    for epoch in range(EPOCHS):\n",
    "        # Training\n",
    "        train_ret = train_one_epoch(trn_loader, model, optimizer, loss_fn, device)\n",
    "        \n",
    "        # Validation\n",
    "        val_ret = validate_one_epoch(val_loader, model, loss_fn, device)\n",
    "        \n",
    "        # Scheduler step 추가\n",
    "        scheduler.step()\n",
    "        \n",
    "        print(f\"Epoch {epoch+1:2d} | \"\n",
    "              f\"Train Loss: {train_ret['train_loss']:.4f} | \"\n",
    "              f\"Train F1: {train_ret['train_f1']:.4f} | \"\n",
    "              f\"Val Loss: {val_ret['val_loss']:.4f} | \"\n",
    "              f\"Val F1: {val_ret['val_f1']:.4f}\")\n",
    "        \n",
    "        # 최고 성능 모델 저장\n",
    "        if val_ret['val_f1'] > best_val_f1:\n",
    "            best_val_f1 = val_ret['val_f1']\n",
    "            best_model = copy.deepcopy(model.state_dict())\n",
    "            \n",
    "            # Best 모델 분석\n",
    "            model.eval()\n",
    "            val_preds, val_targets = [], []\n",
    "            with torch.no_grad():\n",
    "                for image, targets in val_loader:\n",
    "                    preds = model(image.to(device)).argmax(dim=1)\n",
    "                    val_preds.extend(preds.cpu().numpy())\n",
    "                    val_targets.extend(targets.numpy())\n",
    "            \n",
    "            # 클래스별 정확도\n",
    "            fold_class_acc = {}\n",
    "            for c in range(17):\n",
    "                mask = np.array(val_targets) == c\n",
    "                if mask.sum() > 0:\n",
    "                    fold_class_acc[c] = (np.array(val_preds)[mask] == c).mean()\n",
    "    \n",
    "    # 현재 fold 결과 저장\n",
    "    fold_results.append({\n",
    "        'fold': fold + 1,\n",
    "        'best_val_f1': best_val_f1,\n",
    "        'train_samples': len(trn_dataset),\n",
    "        'val_samples': len(val_dataset)\n",
    "    })\n",
    "    \n",
    "    fold_models.append(best_model)\n",
    "    \n",
    "    print(f\"Fold {fold + 1} Best Validation F1: {best_val_f1:.4f}\")\n",
    "    \n",
    "    fold_class_accuracies.append(fold_class_acc) # 각 fold의 클래스별 정확도 저장\n",
    "\n",
    "# K-Fold 결과 요약\n",
    "print(f\"\\n{'='*60}\")\n",
    "print(\"K-FOLD CROSS VALIDATION RESULTS\")\n",
    "print(f\"{'='*60}\")\n",
    "\n",
    "val_f1_scores = [result['best_val_f1'] for result in fold_results]\n",
    "mean_f1 = np.mean(val_f1_scores)\n",
    "std_f1 = np.std(val_f1_scores)\n",
    "\n",
    "for result in fold_results:\n",
    "    print(f\"Fold {result['fold']}: {result['best_val_f1']:.4f}\")\n",
    "\n",
    "print(f\"\\nMean CV F1: {mean_f1:.4f} ± {std_f1:.4f}\")\n",
    "print(f\"Best single fold: {max(val_f1_scores):.4f}\")"
   ]
  },
  {
   "cell_type": "code",
   "execution_count": 12,
   "metadata": {},
   "outputs": [
    {
     "data": {
      "image/png": "[encoded data removed]",
      "text/plain": [
       "<Figure size 1500x800 with 1 Axes>"
      ]
     },
     "metadata": {},
     "output_type": "display_data"
    },
    {
     "name": "stdout",
     "output_type": "stream",
     "text": [
      "Worst 3 classes:\n",
      "Class 7: 89.0%\n",
      "Class 3: 90.0%\n",
      "Class 14: 92.0%\n"
     ]
    }
   ],
   "source": [
    "# 클래스별 성능 시각화\n",
    "meta_df = pd.read_csv(\"../data/meta.csv\")\n",
    "avg_acc = {c: np.mean([f.get(c,0) for f in fold_class_accuracies]) for c in range(17)}\n",
    "\n",
    "plt.figure(figsize=(15, 8))\n",
    "classes = list(avg_acc.keys())\n",
    "accs = [avg_acc[c] * 100 for c in classes]\n",
    "names = [f\"C{c}\" for c in classes]\n",
    "\n",
    "plt.bar(range(17), accs)\n",
    "plt.xticks(range(17), names)\n",
    "plt.ylabel('Accuracy (%)')\n",
    "plt.title('Class-wise Prediction Accuracy')\n",
    "for i, acc in enumerate(accs):\n",
    "    plt.text(i, acc + 1, f'{acc:.1f}%', ha='center', fontsize=8)\n",
    "plt.tight_layout()\n",
    "plt.show()\n",
    "\n",
    "print(\"Worst 3 classes:\")\n",
    "worst = sorted(avg_acc.items(), key=lambda x: x[1])[:3]\n",
    "for c, acc in worst:\n",
    "    print(f\"Class {c}: {acc*100:.1f}%\")"
   ]
  },
  {
   "cell_type": "code",
   "execution_count": 22,
   "metadata": {},
   "outputs": [],
   "source": [
    "# 긴급 모델 저장 - 현재 상태 그대로 저장\n",
    "def save_models():\n",
    "    \"\"\"학습한 모델들을 저장\"\"\"\n",
    "    \n",
    "    # 저장 디렉토리 생성\n",
    "    save_dir = \"models\"\n",
    "    os.makedirs(save_dir, exist_ok=True)\n",
    "    \n",
    "    timestamp = datetime.now().strftime(\"%Y%m%d_%H%M%S\")\n",
    "    \n",
    "    print(\"🚨 모델 저장 시작...\")\n",
    "    \n",
    "    # 각 fold별 모델 저장 (fold_models 리스트가 있다고 가정)\n",
    "    try:\n",
    "        for fold in range(5):  # 5-fold라고 가정\n",
    "            model_path = f\"{save_dir}/fold_{fold}_model_{timestamp}.pth\"\n",
    "            \n",
    "            # fold_models[fold]가 존재한다면 저장\n",
    "            if 'fold_models' in globals() and len(fold_models) > fold:\n",
    "                torch.save({\n",
    "                    'model_state_dict': fold_models[fold].state_dict(),\n",
    "                    'fold': fold,\n",
    "                    'timestamp': timestamp,\n",
    "                    'epoch': 'unknown',  # 에포크 정보 모르면 unknown\n",
    "                }, model_path)\n",
    "                print(f\"✅ Fold {fold} 모델 저장 완료: {model_path}\")\n",
    "            \n",
    "            # 또는 best_models 리스트가 있다면\n",
    "            elif 'best_models' in globals() and len(best_models) > fold:\n",
    "                torch.save({\n",
    "                    'model_state_dict': best_models[fold].state_dict(),\n",
    "                    'fold': fold,\n",
    "                    'timestamp': timestamp,\n",
    "                    'epoch': 'unknown',\n",
    "                }, model_path)\n",
    "                print(f\"✅ Fold {fold} best 모델 저장 완료: {model_path}\")\n",
    "                \n",
    "    except Exception as e:\n",
    "        print(f\"❌ Fold별 저장 실패: {e}\")\n",
    "    \n",
    "    # 전체 변수 상태 저장 (혹시 모르니까)\n",
    "    try:\n",
    "        state_path = f\"{save_dir}/full_state_{timestamp}.pth\"\n",
    "        \n",
    "        # 현재 글로벌 변수에서 모델 관련 객체들 찾아서 저장\n",
    "        save_dict = {}\n",
    "        \n",
    "        # 가능한 모델 변수명들 체크\n",
    "        possible_model_vars = ['model', 'models', 'fold_models', 'best_models', \n",
    "                              'tta_models', 'ensemble_models']\n",
    "        \n",
    "        for var_name in possible_model_vars:\n",
    "            if var_name in globals():\n",
    "                save_dict[var_name] = globals()[var_name]\n",
    "                print(f\"✅ {var_name} 변수 포함됨\")\n",
    "        \n",
    "        if save_dict:\n",
    "            torch.save(save_dict, state_path)\n",
    "            print(f\"✅ 전체 상태 저장 완료: {state_path}\")\n",
    "        \n",
    "    except Exception as e:\n",
    "        print(f\"❌ 전체 상태 저장 실패: {e}\")\n",
    "    \n",
    "    print(f\"🎉 저장 완료! 저장 위치: {save_dir}/\")\n",
    "    print(f\"📁 파일 목록:\")\n",
    "    for file in os.listdir(save_dir):\n",
    "        print(f\"   - {file}\")"
   ]
  },
  {
   "cell_type": "code",
   "execution_count": 23,
   "metadata": {},
   "outputs": [
    {
     "name": "stdout",
     "output_type": "stream",
     "text": [
      "🚨 긴급 모델 저장 시작...\n",
      "❌ Fold별 저장 실패: 'collections.OrderedDict' object has no attribute 'state_dict'\n",
      "✅ model 변수 포함됨\n",
      "✅ fold_models 변수 포함됨\n",
      "✅ ensemble_models 변수 포함됨\n",
      "✅ 전체 상태 저장 완료: emergency_models/full_state_20250907_092200.pth\n",
      "🎉 긴급 저장 완료! 저장 위치: emergency_models/\n",
      "📁 파일 목록:\n",
      "   - full_state_20250907_091916.pth\n",
      "   - full_state_20250907_092200.pth\n"
     ]
    }
   ],
   "source": [
    "emergency_save_models()"
   ]
  },
  {
   "cell_type": "code",
   "execution_count": null,
   "metadata": {},
   "outputs": [],
   "source": [
    "# # 저장된 모델 다시 불러오기\n",
    "# saved_state = torch.load(\"emergency_models/full_state_20250907_091916.pth\")\n",
    "\n",
    "# fold_models = saved_state['fold_models']\n",
    "# ensemble_models = saved_state['ensemble_models']\n",
    "# model = saved_state['model']"
   ]
  },
  {
   "cell_type": "code",
   "execution_count": null,
   "metadata": {},
   "outputs": [
    {
     "name": "stdout",
     "output_type": "stream",
     "text": [
      "🔍 현재 GPU 메모리: 8.34 GB\n",
      "🔍 예약된 메모리: 12.65 GB\n"
     ]
    }
   ],
   "source": []
  },
  {
   "cell_type": "code",
   "execution_count": 71,
   "metadata": {},
   "outputs": [
    {
     "ename": "OutOfMemoryError",
     "evalue": "CUDA out of memory. Tried to allocate 20.00 MiB. GPU 0 has a total capacty of 23.69 GiB of which 13.88 MiB is free. Process 660397 has 5.71 GiB memory in use. Process 2320209 has 17.91 GiB memory in use. Of the allocated memory 16.55 GiB is allocated by PyTorch, and 1.02 GiB is reserved by PyTorch but unallocated. If reserved but unallocated memory is large try setting max_split_size_mb to avoid fragmentation.  See documentation for Memory Management and PYTORCH_CUDA_ALLOC_CONF",
     "output_type": "error",
     "traceback": [
      "\u001b[0;31m---------------------------------------------------------------------------\u001b[0m",
      "\u001b[0;31mOutOfMemoryError\u001b[0m                          Traceback (most recent call last)",
      "Cell \u001b[0;32mIn[71], line 4\u001b[0m\n\u001b[1;32m      2\u001b[0m ensemble_models \u001b[38;5;241m=\u001b[39m []\n\u001b[1;32m      3\u001b[0m \u001b[38;5;28;01mfor\u001b[39;00m i, state_dict \u001b[38;5;129;01min\u001b[39;00m \u001b[38;5;28menumerate\u001b[39m(fold_models):\n\u001b[0;32m----> 4\u001b[0m     fold_model \u001b[38;5;241m=\u001b[39m \u001b[43mtimm\u001b[49m\u001b[38;5;241;43m.\u001b[39;49m\u001b[43mcreate_model\u001b[49m\u001b[43m(\u001b[49m\u001b[43mmodel_name\u001b[49m\u001b[43m,\u001b[49m\u001b[43m \u001b[49m\u001b[43mpretrained\u001b[49m\u001b[38;5;241;43m=\u001b[39;49m\u001b[38;5;28;43;01mTrue\u001b[39;49;00m\u001b[43m,\u001b[49m\u001b[43m \u001b[49m\u001b[43mnum_classes\u001b[49m\u001b[38;5;241;43m=\u001b[39;49m\u001b[38;5;241;43m17\u001b[39;49m\u001b[43m)\u001b[49m\u001b[38;5;241;43m.\u001b[39;49m\u001b[43mto\u001b[49m\u001b[43m(\u001b[49m\u001b[43mdevice\u001b[49m\u001b[43m)\u001b[49m\n\u001b[1;32m      5\u001b[0m     fold_model\u001b[38;5;241m.\u001b[39mload_state_dict(state_dict)\n\u001b[1;32m      6\u001b[0m     fold_model\u001b[38;5;241m.\u001b[39meval()\n",
      "File \u001b[0;32m/opt/conda/lib/python3.10/site-packages/torch/nn/modules/module.py:1160\u001b[0m, in \u001b[0;36mModule.to\u001b[0;34m(self, *args, **kwargs)\u001b[0m\n\u001b[1;32m   1156\u001b[0m         \u001b[38;5;28;01mreturn\u001b[39;00m t\u001b[38;5;241m.\u001b[39mto(device, dtype \u001b[38;5;28;01mif\u001b[39;00m t\u001b[38;5;241m.\u001b[39mis_floating_point() \u001b[38;5;129;01mor\u001b[39;00m t\u001b[38;5;241m.\u001b[39mis_complex() \u001b[38;5;28;01melse\u001b[39;00m \u001b[38;5;28;01mNone\u001b[39;00m,\n\u001b[1;32m   1157\u001b[0m                     non_blocking, memory_format\u001b[38;5;241m=\u001b[39mconvert_to_format)\n\u001b[1;32m   1158\u001b[0m     \u001b[38;5;28;01mreturn\u001b[39;00m t\u001b[38;5;241m.\u001b[39mto(device, dtype \u001b[38;5;28;01mif\u001b[39;00m t\u001b[38;5;241m.\u001b[39mis_floating_point() \u001b[38;5;129;01mor\u001b[39;00m t\u001b[38;5;241m.\u001b[39mis_complex() \u001b[38;5;28;01melse\u001b[39;00m \u001b[38;5;28;01mNone\u001b[39;00m, non_blocking)\n\u001b[0;32m-> 1160\u001b[0m \u001b[38;5;28;01mreturn\u001b[39;00m \u001b[38;5;28;43mself\u001b[39;49m\u001b[38;5;241;43m.\u001b[39;49m\u001b[43m_apply\u001b[49m\u001b[43m(\u001b[49m\u001b[43mconvert\u001b[49m\u001b[43m)\u001b[49m\n",
      "File \u001b[0;32m/opt/conda/lib/python3.10/site-packages/torch/nn/modules/module.py:810\u001b[0m, in \u001b[0;36mModule._apply\u001b[0;34m(self, fn, recurse)\u001b[0m\n\u001b[1;32m    808\u001b[0m \u001b[38;5;28;01mif\u001b[39;00m recurse:\n\u001b[1;32m    809\u001b[0m     \u001b[38;5;28;01mfor\u001b[39;00m module \u001b[38;5;129;01min\u001b[39;00m \u001b[38;5;28mself\u001b[39m\u001b[38;5;241m.\u001b[39mchildren():\n\u001b[0;32m--> 810\u001b[0m         \u001b[43mmodule\u001b[49m\u001b[38;5;241;43m.\u001b[39;49m\u001b[43m_apply\u001b[49m\u001b[43m(\u001b[49m\u001b[43mfn\u001b[49m\u001b[43m)\u001b[49m\n\u001b[1;32m    812\u001b[0m \u001b[38;5;28;01mdef\u001b[39;00m \u001b[38;5;21mcompute_should_use_set_data\u001b[39m(tensor, tensor_applied):\n\u001b[1;32m    813\u001b[0m     \u001b[38;5;28;01mif\u001b[39;00m torch\u001b[38;5;241m.\u001b[39m_has_compatible_shallow_copy_type(tensor, tensor_applied):\n\u001b[1;32m    814\u001b[0m         \u001b[38;5;66;03m# If the new tensor has compatible tensor type as the existing tensor,\u001b[39;00m\n\u001b[1;32m    815\u001b[0m         \u001b[38;5;66;03m# the current behavior is to change the tensor in-place using `.data =`,\u001b[39;00m\n\u001b[0;32m   (...)\u001b[0m\n\u001b[1;32m    820\u001b[0m         \u001b[38;5;66;03m# global flag to let the user control whether they want the future\u001b[39;00m\n\u001b[1;32m    821\u001b[0m         \u001b[38;5;66;03m# behavior of overwriting the existing tensor or not.\u001b[39;00m\n",
      "File \u001b[0;32m/opt/conda/lib/python3.10/site-packages/torch/nn/modules/module.py:810\u001b[0m, in \u001b[0;36mModule._apply\u001b[0;34m(self, fn, recurse)\u001b[0m\n\u001b[1;32m    808\u001b[0m \u001b[38;5;28;01mif\u001b[39;00m recurse:\n\u001b[1;32m    809\u001b[0m     \u001b[38;5;28;01mfor\u001b[39;00m module \u001b[38;5;129;01min\u001b[39;00m \u001b[38;5;28mself\u001b[39m\u001b[38;5;241m.\u001b[39mchildren():\n\u001b[0;32m--> 810\u001b[0m         \u001b[43mmodule\u001b[49m\u001b[38;5;241;43m.\u001b[39;49m\u001b[43m_apply\u001b[49m\u001b[43m(\u001b[49m\u001b[43mfn\u001b[49m\u001b[43m)\u001b[49m\n\u001b[1;32m    812\u001b[0m \u001b[38;5;28;01mdef\u001b[39;00m \u001b[38;5;21mcompute_should_use_set_data\u001b[39m(tensor, tensor_applied):\n\u001b[1;32m    813\u001b[0m     \u001b[38;5;28;01mif\u001b[39;00m torch\u001b[38;5;241m.\u001b[39m_has_compatible_shallow_copy_type(tensor, tensor_applied):\n\u001b[1;32m    814\u001b[0m         \u001b[38;5;66;03m# If the new tensor has compatible tensor type as the existing tensor,\u001b[39;00m\n\u001b[1;32m    815\u001b[0m         \u001b[38;5;66;03m# the current behavior is to change the tensor in-place using `.data =`,\u001b[39;00m\n\u001b[0;32m   (...)\u001b[0m\n\u001b[1;32m    820\u001b[0m         \u001b[38;5;66;03m# global flag to let the user control whether they want the future\u001b[39;00m\n\u001b[1;32m    821\u001b[0m         \u001b[38;5;66;03m# behavior of overwriting the existing tensor or not.\u001b[39;00m\n",
      "    \u001b[0;31m[... skipping similar frames: Module._apply at line 810 (3 times)]\u001b[0m\n",
      "File \u001b[0;32m/opt/conda/lib/python3.10/site-packages/torch/nn/modules/module.py:810\u001b[0m, in \u001b[0;36mModule._apply\u001b[0;34m(self, fn, recurse)\u001b[0m\n\u001b[1;32m    808\u001b[0m \u001b[38;5;28;01mif\u001b[39;00m recurse:\n\u001b[1;32m    809\u001b[0m     \u001b[38;5;28;01mfor\u001b[39;00m module \u001b[38;5;129;01min\u001b[39;00m \u001b[38;5;28mself\u001b[39m\u001b[38;5;241m.\u001b[39mchildren():\n\u001b[0;32m--> 810\u001b[0m         \u001b[43mmodule\u001b[49m\u001b[38;5;241;43m.\u001b[39;49m\u001b[43m_apply\u001b[49m\u001b[43m(\u001b[49m\u001b[43mfn\u001b[49m\u001b[43m)\u001b[49m\n\u001b[1;32m    812\u001b[0m \u001b[38;5;28;01mdef\u001b[39;00m \u001b[38;5;21mcompute_should_use_set_data\u001b[39m(tensor, tensor_applied):\n\u001b[1;32m    813\u001b[0m     \u001b[38;5;28;01mif\u001b[39;00m torch\u001b[38;5;241m.\u001b[39m_has_compatible_shallow_copy_type(tensor, tensor_applied):\n\u001b[1;32m    814\u001b[0m         \u001b[38;5;66;03m# If the new tensor has compatible tensor type as the existing tensor,\u001b[39;00m\n\u001b[1;32m    815\u001b[0m         \u001b[38;5;66;03m# the current behavior is to change the tensor in-place using `.data =`,\u001b[39;00m\n\u001b[0;32m   (...)\u001b[0m\n\u001b[1;32m    820\u001b[0m         \u001b[38;5;66;03m# global flag to let the user control whether they want the future\u001b[39;00m\n\u001b[1;32m    821\u001b[0m         \u001b[38;5;66;03m# behavior of overwriting the existing tensor or not.\u001b[39;00m\n",
      "File \u001b[0;32m/opt/conda/lib/python3.10/site-packages/torch/nn/modules/module.py:833\u001b[0m, in \u001b[0;36mModule._apply\u001b[0;34m(self, fn, recurse)\u001b[0m\n\u001b[1;32m    829\u001b[0m \u001b[38;5;66;03m# Tensors stored in modules are graph leaves, and we don't want to\u001b[39;00m\n\u001b[1;32m    830\u001b[0m \u001b[38;5;66;03m# track autograd history of `param_applied`, so we have to use\u001b[39;00m\n\u001b[1;32m    831\u001b[0m \u001b[38;5;66;03m# `with torch.no_grad():`\u001b[39;00m\n\u001b[1;32m    832\u001b[0m \u001b[38;5;28;01mwith\u001b[39;00m torch\u001b[38;5;241m.\u001b[39mno_grad():\n\u001b[0;32m--> 833\u001b[0m     param_applied \u001b[38;5;241m=\u001b[39m \u001b[43mfn\u001b[49m\u001b[43m(\u001b[49m\u001b[43mparam\u001b[49m\u001b[43m)\u001b[49m\n\u001b[1;32m    834\u001b[0m should_use_set_data \u001b[38;5;241m=\u001b[39m compute_should_use_set_data(param, param_applied)\n\u001b[1;32m    835\u001b[0m \u001b[38;5;28;01mif\u001b[39;00m should_use_set_data:\n",
      "File \u001b[0;32m/opt/conda/lib/python3.10/site-packages/torch/nn/modules/module.py:1158\u001b[0m, in \u001b[0;36mModule.to.<locals>.convert\u001b[0;34m(t)\u001b[0m\n\u001b[1;32m   1155\u001b[0m \u001b[38;5;28;01mif\u001b[39;00m convert_to_format \u001b[38;5;129;01mis\u001b[39;00m \u001b[38;5;129;01mnot\u001b[39;00m \u001b[38;5;28;01mNone\u001b[39;00m \u001b[38;5;129;01mand\u001b[39;00m t\u001b[38;5;241m.\u001b[39mdim() \u001b[38;5;129;01min\u001b[39;00m (\u001b[38;5;241m4\u001b[39m, \u001b[38;5;241m5\u001b[39m):\n\u001b[1;32m   1156\u001b[0m     \u001b[38;5;28;01mreturn\u001b[39;00m t\u001b[38;5;241m.\u001b[39mto(device, dtype \u001b[38;5;28;01mif\u001b[39;00m t\u001b[38;5;241m.\u001b[39mis_floating_point() \u001b[38;5;129;01mor\u001b[39;00m t\u001b[38;5;241m.\u001b[39mis_complex() \u001b[38;5;28;01melse\u001b[39;00m \u001b[38;5;28;01mNone\u001b[39;00m,\n\u001b[1;32m   1157\u001b[0m                 non_blocking, memory_format\u001b[38;5;241m=\u001b[39mconvert_to_format)\n\u001b[0;32m-> 1158\u001b[0m \u001b[38;5;28;01mreturn\u001b[39;00m \u001b[43mt\u001b[49m\u001b[38;5;241;43m.\u001b[39;49m\u001b[43mto\u001b[49m\u001b[43m(\u001b[49m\u001b[43mdevice\u001b[49m\u001b[43m,\u001b[49m\u001b[43m \u001b[49m\u001b[43mdtype\u001b[49m\u001b[43m \u001b[49m\u001b[38;5;28;43;01mif\u001b[39;49;00m\u001b[43m \u001b[49m\u001b[43mt\u001b[49m\u001b[38;5;241;43m.\u001b[39;49m\u001b[43mis_floating_point\u001b[49m\u001b[43m(\u001b[49m\u001b[43m)\u001b[49m\u001b[43m \u001b[49m\u001b[38;5;129;43;01mor\u001b[39;49;00m\u001b[43m \u001b[49m\u001b[43mt\u001b[49m\u001b[38;5;241;43m.\u001b[39;49m\u001b[43mis_complex\u001b[49m\u001b[43m(\u001b[49m\u001b[43m)\u001b[49m\u001b[43m \u001b[49m\u001b[38;5;28;43;01melse\u001b[39;49;00m\u001b[43m \u001b[49m\u001b[38;5;28;43;01mNone\u001b[39;49;00m\u001b[43m,\u001b[49m\u001b[43m \u001b[49m\u001b[43mnon_blocking\u001b[49m\u001b[43m)\u001b[49m\n",
      "\u001b[0;31mOutOfMemoryError\u001b[0m: CUDA out of memory. Tried to allocate 20.00 MiB. GPU 0 has a total capacty of 23.69 GiB of which 13.88 MiB is free. Process 660397 has 5.71 GiB memory in use. Process 2320209 has 17.91 GiB memory in use. Of the allocated memory 16.55 GiB is allocated by PyTorch, and 1.02 GiB is reserved by PyTorch but unallocated. If reserved but unallocated memory is large try setting max_split_size_mb to avoid fragmentation.  See documentation for Memory Management and PYTORCH_CUDA_ALLOC_CONF"
     ]
    }
   ],
   "source": [
    "# 5-Fold 앙상블 모델 준비\n",
    "ensemble_models = []\n",
    "for i, state_dict in enumerate(fold_models):\n",
    "    fold_model = timm.create_model(model_name, pretrained=True, num_classes=17).to(device)\n",
    "    fold_model.load_state_dict(state_dict)\n",
    "    fold_model.eval()\n",
    "    ensemble_models.append(fold_model)\n",
    "print(f\"Using ensemble of all {len(ensemble_models)} fold models for inference\")"
   ]
  },
  {
   "attachments": {},
   "cell_type": "markdown",
   "metadata": {
    "id": "Nmm5h3J-pXNV"
   },
   "source": [
    "## 5. Train Model\n",
    "* 모델을 로드하고, 학습을 진행합니다."
   ]
  },
  {
   "attachments": {},
   "cell_type": "markdown",
   "metadata": {
    "id": "lkwxRXoBpbaX"
   },
   "source": [
    "# 6. Inference & Save File\n",
    "* 테스트 이미지에 대한 추론을 진행하고, 결과 파일을 저장합니다."
   ]
  },
  {
   "cell_type": "code",
   "execution_count": null,
   "metadata": {},
   "outputs": [],
   "source": [
    "# Temperature Scaling 클래스 정의\n",
    "class TemperatureScaling(nn.Module):\n",
    "    def __init__(self):\n",
    "        super().__init__()\n",
    "        self.temperature = nn.Parameter(torch.ones(1) * 1.5)\n",
    "    \n",
    "    def forward(self, logits):\n",
    "        return logits / self.temperature"
   ]
  },
  {
   "cell_type": "code",
   "execution_count": null,
   "metadata": {},
   "outputs": [
    {
     "name": "stdout",
     "output_type": "stream",
     "text": [
      "🔍 현재 GPU 메모리: 8.34 GB\n",
      "🔍 예약된 메모리: 12.65 GB\n"
     ]
    }
   ],
   "source": [
    "# # 기존 변수들 정리 (모델 제외)\n",
    "# if 'tta_loader' in globals():\n",
    "#     del tta_loader\n",
    "# if 'essential_tta_transforms' in globals():\n",
    "#     del essential_tta_transforms\n",
    "    \n",
    "# # GPU 메모리 정리\n",
    "# torch.cuda.empty_cache()\n",
    "# gc.collect()\n",
    "\n",
    "# print(f\"🔍 현재 GPU 메모리: {torch.cuda.memory_allocated()/1024**3:.2f} GB\")\n",
    "# print(f\"🔍 예약된 메모리: {torch.cuda.memory_reserved()/1024**3:.2f} GB\")"
   ]
  },
  {
   "cell_type": "code",
   "execution_count": 75,
   "metadata": {},
   "outputs": [],
   "source": [
    "essential_tta_transforms = [\n",
    "    # 원본\n",
    "    A.Compose([\n",
    "        A.LongestMaxSize(max_size=img_size),\n",
    "        A.PadIfNeeded(min_height=img_size, min_width=img_size, border_mode=0, value=0),\n",
    "        A.Normalize(mean=[0.485, 0.456, 0.406], std=[0.229, 0.224, 0.225]),\n",
    "        ToTensorV2(),\n",
    "    ]),\n",
    "    # 90도 회전들\n",
    "    A.Compose([\n",
    "        A.LongestMaxSize(max_size=img_size),\n",
    "        A.PadIfNeeded(min_height=img_size, min_width=img_size, border_mode=0, value=0),\n",
    "        A.Rotate(limit=[90, 90], p=1.0),\n",
    "        A.Normalize(mean=[0.485, 0.456, 0.406], std=[0.229, 0.224, 0.225]),\n",
    "        ToTensorV2(),\n",
    "    ]),\n",
    "    A.Compose([\n",
    "        A.LongestMaxSize(max_size=img_size),\n",
    "        A.PadIfNeeded(min_height=img_size, min_width=img_size, border_mode=0, value=0),\n",
    "        A.Rotate(limit=[180, 180], p=1.0),\n",
    "        A.Normalize(mean=[0.485, 0.456, 0.406], std=[0.229, 0.224, 0.225]),\n",
    "        ToTensorV2(),\n",
    "    ]),\n",
    "    A.Compose([\n",
    "        A.LongestMaxSize(max_size=img_size),\n",
    "        A.PadIfNeeded(min_height=img_size, min_width=img_size, border_mode=0, value=0),\n",
    "        A.Rotate(limit=[-90, -90], p=1.0),\n",
    "        A.Normalize(mean=[0.485, 0.456, 0.406], std=[0.229, 0.224, 0.225]),\n",
    "        ToTensorV2(),\n",
    "    ]),\n",
    "    # 밝기 개선\n",
    "    A.Compose([\n",
    "        A.LongestMaxSize(max_size=img_size),\n",
    "        A.PadIfNeeded(min_height=img_size, min_width=img_size, border_mode=0, value=0),\n",
    "        A.RandomBrightnessContrast(brightness_limit=[0.3, 0.3], contrast_limit=[0.3, 0.3], p=1.0),\n",
    "        A.Normalize(mean=[0.485, 0.456, 0.406], std=[0.229, 0.224, 0.225]),\n",
    "        ToTensorV2(),\n",
    "    ]),\n",
    "]"
   ]
  },
  {
   "cell_type": "code",
   "execution_count": 76,
   "metadata": {},
   "outputs": [],
   "source": [
    "# TTA 추론을 위한 Dataset 클래스\n",
    "class TTAImageDataset(Dataset):\n",
    "    def __init__(self, data, path, transforms):\n",
    "        if isinstance(data, str):\n",
    "            self.df = pd.read_csv(data).values\n",
    "        else:\n",
    "            self.df = data.values\n",
    "        self.path = path\n",
    "        self.transforms = transforms  # 여러 transform을 리스트로 받음\n",
    "\n",
    "    def __len__(self):\n",
    "        return len(self.df)\n",
    "\n",
    "    def __getitem__(self, idx):\n",
    "        name, target = self.df[idx]\n",
    "        img = np.array(Image.open(os.path.join(self.path, name)).convert('RGB'))\n",
    "        \n",
    "        # 모든 transform을 적용한 결과를 리스트로 반환\n",
    "        augmented_images = []\n",
    "        for transform in self.transforms:\n",
    "            aug_img = transform(image=img)['image']\n",
    "            augmented_images.append(aug_img)\n",
    "        \n",
    "        return augmented_images, target"
   ]
  },
  {
   "cell_type": "code",
   "execution_count": 77,
   "metadata": {},
   "outputs": [
    {
     "name": "stdout",
     "output_type": "stream",
     "text": [
      "TTA Dataset size: 3140\n"
     ]
    }
   ],
   "source": [
    "# TTA Dataset 생성\n",
    "tta_dataset = TTAImageDataset(\n",
    "    \"../data/sample_submission.csv\",\n",
    "    \"../data/test/\",\n",
    "    essential_tta_transforms\n",
    ")\n",
    "\n",
    "# TTA DataLoader (배치 크기를 줄여서 메모리 절약)\n",
    "tta_loader = DataLoader(\n",
    "    tta_dataset,\n",
    "    batch_size=16,  # TTA는 메모리를 많이 사용하므로 배치 크기 줄임\n",
    "    shuffle=False,\n",
    "    num_workers=num_workers,\n",
    "    pin_memory=True\n",
    ")\n",
    "\n",
    "print(f\"TTA Dataset size: {len(tta_dataset)}\")"
   ]
  },
  {
   "cell_type": "code",
   "execution_count": 78,
   "metadata": {},
   "outputs": [],
   "source": [
    "def ensemble_tta_inference(models, loader, transforms, confidence_threshold=0.9):\n",
    "    \"\"\"5-Fold 모델 앙상블 + TTA 추론\"\"\"\n",
    "    all_predictions = []\n",
    "    \n",
    "    for batch_idx, (images_list, _) in enumerate(tqdm(loader, desc=\"Ensemble TTA\")):\n",
    "        batch_size = images_list[0].size(0)\n",
    "        ensemble_probs = torch.zeros(batch_size, 17).to(device)\n",
    "        \n",
    "        # 각 fold 모델별 예측\n",
    "        for model in models:\n",
    "            with torch.no_grad():\n",
    "                # 각 TTA 변형별 예측\n",
    "                for images in images_list:\n",
    "                    images = images.to(device)\n",
    "                    preds = model(images)\n",
    "                    probs = torch.softmax(preds, dim=1)\n",
    "                    ensemble_probs += probs / (len(models) * len(images_list))\n",
    "        \n",
    "        final_preds = torch.argmax(ensemble_probs, dim=1)\n",
    "        all_predictions.extend(final_preds.cpu().numpy())\n",
    "    \n",
    "    return all_predictions"
   ]
  },
  {
   "cell_type": "code",
   "execution_count": 79,
   "metadata": {},
   "outputs": [
    {
     "name": "stdout",
     "output_type": "stream",
     "text": [
      "Starting Ensemble TTA inference...\n"
     ]
    },
    {
     "name": "stderr",
     "output_type": "stream",
     "text": [
      "Ensemble TTA: 100%|██████████| 197/197 [13:02<00:00,  3.97s/it]\n"
     ]
    }
   ],
   "source": [
    "# 앙상블 TTA 실행\n",
    "print(\"Starting Ensemble TTA inference...\")\n",
    "tta_predictions = ensemble_tta_inference(\n",
    "    models=ensemble_models, \n",
    "    loader=tta_loader, \n",
    "    transforms=essential_tta_transforms,\n",
    "    confidence_threshold=0.9\n",
    ")"
   ]
  },
  {
   "cell_type": "code",
   "execution_count": 80,
   "metadata": {},
   "outputs": [],
   "source": [
    "# TTA 결과로 submission 파일 생성\n",
    "tta_pred_df = pd.DataFrame(tta_dataset.df, columns=['ID', 'target'])\n",
    "tta_pred_df['target'] = tta_predictions"
   ]
  },
  {
   "cell_type": "code",
   "execution_count": 81,
   "metadata": {},
   "outputs": [],
   "source": [
    "# 기존 submission과 동일한 순서인지 확인\n",
    "sample_submission_df = pd.read_csv(\"../data/sample_submission.csv\")\n",
    "assert (sample_submission_df['ID'] == tta_pred_df['ID']).all()"
   ]
  },
  {
   "cell_type": "code",
   "execution_count": 82,
   "metadata": {},
   "outputs": [
    {
     "name": "stdout",
     "output_type": "stream",
     "text": [
      "TTA predictions saved\n",
      "TTA Prediction sample:\n"
     ]
    }
   ],
   "source": [
    "# TTA 결과 저장\n",
    "tta_pred_df.to_csv(\"../submission/choice.csv\", index=False)\n",
    "print(\"TTA predictions saved\")\n",
    "\n",
    "print(\"TTA Prediction sample:\")"
   ]
  },
  {
   "cell_type": "code",
   "execution_count": 83,
   "metadata": {
    "colab": {
     "base_uri": "https://localhost:8080/",
     "height": 206
    },
    "executionInfo": {
     "elapsed": 353,
     "status": "ok",
     "timestamp": 1700315247734,
     "user": {
      "displayName": "Ynot(송원호)",
      "userId": "16271863862696372773"
     },
     "user_tz": -540
    },
    "id": "9yMO8s6GqAwZ",
    "outputId": "9a30616f-f0ea-439f-a906-dd806737ce00"
   },
   "outputs": [
    {
     "data": {
      "text/html": [
       "<div>\n",
       "<style scoped>\n",
       "    .dataframe tbody tr th:only-of-type {\n",
       "        vertical-align: middle;\n",
       "    }\n",
       "\n",
       "    .dataframe tbody tr th {\n",
       "        vertical-align: top;\n",
       "    }\n",
       "\n",
       "    .dataframe thead th {\n",
       "        text-align: right;\n",
       "    }\n",
       "</style>\n",
       "<table border=\"1\" class=\"dataframe\">\n",
       "  <thead>\n",
       "    <tr style=\"text-align: right;\">\n",
       "      <th></th>\n",
       "      <th>ID</th>\n",
       "      <th>target</th>\n",
       "    </tr>\n",
       "  </thead>\n",
       "  <tbody>\n",
       "    <tr>\n",
       "      <th>0</th>\n",
       "      <td>0008fdb22ddce0ce.jpg</td>\n",
       "      <td>2</td>\n",
       "    </tr>\n",
       "    <tr>\n",
       "      <th>1</th>\n",
       "      <td>00091bffdffd83de.jpg</td>\n",
       "      <td>12</td>\n",
       "    </tr>\n",
       "    <tr>\n",
       "      <th>2</th>\n",
       "      <td>00396fbc1f6cc21d.jpg</td>\n",
       "      <td>5</td>\n",
       "    </tr>\n",
       "    <tr>\n",
       "      <th>3</th>\n",
       "      <td>00471f8038d9c4b6.jpg</td>\n",
       "      <td>12</td>\n",
       "    </tr>\n",
       "    <tr>\n",
       "      <th>4</th>\n",
       "      <td>00901f504008d884.jpg</td>\n",
       "      <td>2</td>\n",
       "    </tr>\n",
       "  </tbody>\n",
       "</table>\n",
       "</div>"
      ],
      "text/plain": [
       "                     ID  target\n",
       "0  0008fdb22ddce0ce.jpg       2\n",
       "1  00091bffdffd83de.jpg      12\n",
       "2  00396fbc1f6cc21d.jpg       5\n",
       "3  00471f8038d9c4b6.jpg      12\n",
       "4  00901f504008d884.jpg       2"
      ]
     },
     "execution_count": 83,
     "metadata": {},
     "output_type": "execute_result"
    }
   ],
   "source": [
    "tta_pred_df.head()"
   ]
  }
 ],
 "metadata": {
  "accelerator": "GPU",
  "colab": {
   "provenance": []
  },
  "kernelspec": {
   "display_name": "base",
   "language": "python",
   "name": "python3"
  },
  "language_info": {
   "codemirror_mode": {
    "name": "ipython",
    "version": 3
   },
   "file_extension": ".py",
   "mimetype": "text/x-python",
   "name": "python",
   "nbconvert_exporter": "python",
   "pygments_lexer": "ipython3",
   "version": "3.10.13"
  }
 },
 "nbformat": 4,
 "nbformat_minor": 0
}
