{
  "cells": [
    {
      "cell_type": "markdown",
      "metadata": {},
      "source": [
        "# 2단계 캐스케이드 분류 시스템 구현\n",
        "\n",
        "## 목표\n",
        "- 분류기 A: 17개 클래스 전체 분류 (이미 완료)\n",
        "- 분류기 B: 취약 클래스 3,4,7,14만 분류 (새로 학습)\n",
        "- 캐스케이드: A가 취약 클래스로 예측하면 B로 재분류\n",
        "\n",
        "## 취약 클래스 분석\n",
        "- Class 3: 61.0% 정확도\n",
        "- Class 4: (분석 필요)\n",
        "- Class 7: 60.0% 정확도  \n",
        "- Class 14: 50.0% 정확도\n"
      ]
    },
    {
      "cell_type": "code",
      "execution_count": 11,
      "metadata": {},
      "outputs": [
        {
          "name": "stdout",
          "output_type": "stream",
          "text": [
            "Using device: cuda\n"
          ]
        }
      ],
      "source": [
        "# 필요한 라이브러리 import\n",
        "import os\n",
        "import time\n",
        "import random\n",
        "import copy\n",
        "import pandas as pd\n",
        "import numpy as np\n",
        "import torch\n",
        "import torch.nn as nn\n",
        "import torch.nn.functional as F\n",
        "from torch.optim import Adam\n",
        "from torch.utils.data import Dataset, DataLoader\n",
        "from torch.optim.lr_scheduler import CosineAnnealingLR\n",
        "from torch.cuda.amp import autocast, GradScaler\n",
        "from PIL import Image\n",
        "from tqdm import tqdm\n",
        "from sklearn.metrics import accuracy_score, f1_score, confusion_matrix, classification_report\n",
        "from sklearn.model_selection import StratifiedKFold\n",
        "import timm\n",
        "import albumentations as A\n",
        "from albumentations.pytorch import ToTensorV2\n",
        "import warnings\n",
        "warnings.filterwarnings('ignore')\n",
        "\n",
        "# 시드 고정\n",
        "SEED = 42\n",
        "random.seed(SEED)\n",
        "np.random.seed(SEED)\n",
        "torch.manual_seed(SEED)\n",
        "torch.cuda.manual_seed(SEED)\n",
        "torch.cuda.manual_seed_all(SEED)\n",
        "\n",
        "device = torch.device('cuda' if torch.cuda.is_available() else 'cpu')\n",
        "print(f\"Using device: {device}\")\n"
      ]
    },
    {
      "cell_type": "code",
      "execution_count": 12,
      "metadata": {},
      "outputs": [],
      "source": [
        "import torch, gc\n",
        "\n",
        "def free_cuda():\n",
        "    gc.collect()\n",
        "    torch.cuda.empty_cache()\n",
        "    torch.cuda.ipc_collect()"
      ]
    },
    {
      "cell_type": "code",
      "execution_count": 13,
      "metadata": {},
      "outputs": [],
      "source": [
        "free_cuda()"
      ]
    },
    {
      "cell_type": "code",
      "execution_count": 14,
      "metadata": {},
      "outputs": [
        {
          "name": "stdout",
          "output_type": "stream",
          "text": [
            "Target vulnerable classes: [3, 4, 7, 14]\n"
          ]
        }
      ],
      "source": [
        "# 하이퍼파라미터 설정\n",
        "model_name = 'convnext_base_384_in22ft1k'  # 기존과 동일한 모델\n",
        "img_size = 512\n",
        "LR = 2e-4\n",
        "EPOCHS = 100\n",
        "BATCH_SIZE = 10\n",
        "num_workers = 8\n",
        "\n",
        "# 취약 클래스 설정\n",
        "vulnerable_classes = [3, 4, 7, 14]\n",
        "print(f\"Target vulnerable classes: {vulnerable_classes}\")\n"
      ]
    },
    {
      "cell_type": "code",
      "execution_count": 15,
      "metadata": {},
      "outputs": [],
      "source": [
        "# 데이터셋 클래스 정의 (기존과 동일, __init__만 수정)\n",
        "class ImageDataset(Dataset):\n",
        "    def __init__(self, data, path, epoch=0, total_epochs=10, is_train=True):\n",
        "        if isinstance(data, str):\n",
        "            df_temp = pd.read_csv(data)\n",
        "        else:\n",
        "            df_temp = data\n",
        "        \n",
        "        # 수정: 항상 ['ID', 'target'] 컬럼만 선택하여 self.df 초기화\n",
        "        self.df = df_temp[['ID', 'target']].values\n",
        "        self.path = path\n",
        "        self.epoch = epoch\n",
        "        self.total_epochs = total_epochs\n",
        "        self.is_train = is_train\n",
        "        \n",
        "        # Hard augmentation 확률 계산\n",
        "        self.p_hard = 0.2 + 0.3 * (epoch / total_epochs) if is_train else 0\n",
        "        \n",
        "        # Normal augmentation\n",
        "        self.normal_aug = A.Compose([\n",
        "            A.LongestMaxSize(max_size=img_size),\n",
        "            A.PadIfNeeded(min_height=img_size, min_width=img_size, border_mode=0, value=0),\n",
        "            A.OneOf([\n",
        "                A.Rotate(limit=[90, 90], p=1.0),\n",
        "                A.Rotate(limit=[180, 180], p=1.0),\n",
        "                A.Rotate(limit=[270, 270], p=1.0),\n",
        "            ], p=0.6),\n",
        "            A.RandomBrightnessContrast(brightness_limit=0.3, contrast_limit=0.3, p=0.8),\n",
        "            A.GaussNoise(var_limit=(30.0, 100.0), p=0.7),\n",
        "            A.HorizontalFlip(p=0.5),\n",
        "            A.Normalize(mean=[0.485, 0.456, 0.406], std=[0.229, 0.224, 0.225]),\n",
        "            ToTensorV2(),\n",
        "        ])\n",
        "        \n",
        "        # Hard augmentation\n",
        "        self.hard_aug = A.Compose([\n",
        "            A.LongestMaxSize(max_size=img_size),\n",
        "            A.PadIfNeeded(min_height=img_size, min_width=img_size, border_mode=0, value=0),\n",
        "            A.OneOf([\n",
        "                A.Rotate(limit=[90, 90], p=1.0),\n",
        "                A.Rotate(limit=[180, 180], p=1.0),\n",
        "                A.Rotate(limit=[270, 270], p=1.0),\n",
        "                A.Rotate(limit=[-15, 15], p=1.0),\n",
        "            ], p=0.8),\n",
        "            A.OneOf([\n",
        "                A.MotionBlur(blur_limit=15, p=1.0),\n",
        "                A.GaussianBlur(blur_limit=15, p=1.0),\n",
        "            ], p=0.95),\n",
        "            A.RandomBrightnessContrast(brightness_limit=0.5, contrast_limit=0.5, p=0.9),\n",
        "            A.GaussNoise(var_limit=(50.0, 150.0), p=0.8),\n",
        "            A.JpegCompression(quality_lower=70, quality_upper=100, p=0.5),\n",
        "            A.HorizontalFlip(p=0.5),\n",
        "            A.Normalize(mean=[0.485, 0.456, 0.406], std=[0.229, 0.224, 0.225]),\n",
        "            ToTensorV2(),\n",
        "        ])\n",
        "\n",
        "    def __len__(self):\n",
        "        return len(self.df)\n",
        "\n",
        "    def __getitem__(self, idx):\n",
        "        name, target = self.df[idx]\n",
        "        img = np.array(Image.open(os.path.join(self.path, name)).convert('RGB'))\n",
        "        \n",
        "        # 배치별 증강 선택\n",
        "        if self.is_train and random.random() < self.p_hard:\n",
        "            img = self.hard_aug(image=img)['image']\n",
        "        else:\n",
        "            img = self.normal_aug(image=img)['image']\n",
        "        \n",
        "        return img, target"
      ]
    },
    {
      "cell_type": "code",
      "execution_count": 16,
      "metadata": {},
      "outputs": [],
      "source": [
        "# Mixup 함수 정의\n",
        "def mixup_data(x, y, alpha=1.0):\n",
        "    if alpha > 0:\n",
        "        lam = np.random.beta(alpha, alpha)\n",
        "    else:\n",
        "        lam = 1\n",
        "    batch_size = x.size()[0]\n",
        "    index = torch.randperm(batch_size).cuda()\n",
        "    mixed_x = lam * x + (1 - lam) * x[index, :]\n",
        "    y_a, y_b = y, y[index]\n",
        "    return mixed_x, y_a, y_b, lam\n",
        "\n",
        "# 학습 함수\n",
        "def train_one_epoch(loader, model, optimizer, loss_fn, device):\n",
        "    scaler = GradScaler()\n",
        "    model.train()\n",
        "    train_loss = 0\n",
        "    preds_list = []\n",
        "    targets_list = []\n",
        "\n",
        "    pbar = tqdm(loader)\n",
        "    for image, targets in pbar:\n",
        "        image = image.to(device)\n",
        "        targets = targets.to(device)\n",
        "        \n",
        "        # Cutmix/Mixup 적용 (30% 확률)\n",
        "        if random.random() < 0.3:\n",
        "            mixed_x, y_a, y_b, lam = mixup_data(image, targets, alpha=1.0)\n",
        "            with autocast(): \n",
        "                preds = model(mixed_x)\n",
        "            loss = lam * loss_fn(preds, y_a) + (1 - lam) * loss_fn(preds, y_b)\n",
        "        else:\n",
        "            with autocast(): \n",
        "                preds = model(image)\n",
        "            loss = loss_fn(preds, targets)\n",
        "\n",
        "        model.zero_grad(set_to_none=True)\n",
        "        scaler.scale(loss).backward()\n",
        "        torch.nn.utils.clip_grad_norm_(model.parameters(), 1.0)\n",
        "        scaler.step(optimizer)\n",
        "        scaler.update()\n",
        "\n",
        "        train_loss += loss.item()\n",
        "        preds_list.extend(preds.argmax(dim=1).detach().cpu().numpy())\n",
        "        targets_list.extend(targets.detach().cpu().numpy())\n",
        "\n",
        "        pbar.set_description(f\"Loss: {loss.item():.4f}\")\n",
        "\n",
        "    train_loss /= len(loader)\n",
        "    train_acc = accuracy_score(targets_list, preds_list)\n",
        "    train_f1 = f1_score(targets_list, preds_list, average='macro')\n",
        "\n",
        "    return {\n",
        "        \"train_loss\": train_loss,\n",
        "        \"train_acc\": train_acc,\n",
        "        \"train_f1\": train_f1,\n",
        "    }\n",
        "\n",
        "# 검증 함수\n",
        "def validate_one_epoch(loader, model, loss_fn, device):\n",
        "    model.eval()\n",
        "    val_loss = 0\n",
        "    preds_list = []\n",
        "    targets_list = []\n",
        "    \n",
        "    with torch.no_grad():\n",
        "        pbar = tqdm(loader, desc=\"Validating\")\n",
        "        for image, targets in pbar:\n",
        "            image = image.to(device)\n",
        "            targets = targets.to(device)\n",
        "            \n",
        "            preds = model(image)\n",
        "            loss = loss_fn(preds, targets)\n",
        "            \n",
        "            val_loss += loss.item()\n",
        "            preds_list.extend(preds.argmax(dim=1).detach().cpu().numpy())\n",
        "            targets_list.extend(targets.detach().cpu().numpy())\n",
        "            \n",
        "            pbar.set_description(f\"Val Loss: {loss.item():.4f}\")\n",
        "    \n",
        "    val_loss /= len(loader)\n",
        "    val_acc = accuracy_score(targets_list, preds_list)\n",
        "    val_f1 = f1_score(targets_list, preds_list, average='macro')\n",
        "    \n",
        "    return {\n",
        "        \"val_loss\": val_loss,\n",
        "        \"val_acc\": val_acc,\n",
        "        \"val_f1\": val_f1,\n",
        "    }\n"
      ]
    },
    {
      "cell_type": "code",
      "execution_count": 17,
      "metadata": {},
      "outputs": [
        {
          "name": "stdout",
          "output_type": "stream",
          "text": [
            "Original dataset size: 1570\n",
            "Filtered dataset size: 350\n",
            "\n",
            "Class distribution:\n",
            "Class 3: 100 samples\n",
            "Class 4: 100 samples\n",
            "Class 7: 100 samples\n",
            "Class 14: 50 samples\n",
            "\n",
            "Label mapping:\n",
            "Original class 3 -> New class 0\n",
            "Original class 4 -> New class 1\n",
            "Original class 7 -> New class 2\n",
            "Original class 14 -> New class 3\n",
            "\n",
            "New class distribution:\n",
            "New class 0: 100 samples\n",
            "New class 1: 100 samples\n",
            "New class 2: 100 samples\n",
            "New class 3: 50 samples\n"
          ]
        }
      ],
      "source": [
        "# ========================================\n",
        "# 1. 취약 클래스 데이터 준비\n",
        "# ========================================\n",
        "\n",
        "# 원본 데이터 로드\n",
        "train_df = pd.read_csv(\"../data/train.csv\")\n",
        "print(f\"Original dataset size: {len(train_df)}\")\n",
        "\n",
        "# 취약 클래스만 필터링\n",
        "filtered_df = train_df[train_df['target'].isin(vulnerable_classes)].copy()\n",
        "print(f\"Filtered dataset size: {len(filtered_df)}\")\n",
        "\n",
        "# 클래스별 샘플 수 확인\n",
        "print(\"\\nClass distribution:\")\n",
        "for cls in vulnerable_classes:\n",
        "    count = len(filtered_df[filtered_df['target'] == cls])\n",
        "    print(f\"Class {cls}: {count} samples\")\n",
        "\n",
        "# 라벨 재매핑 (3->0, 4->1, 7->2, 14->3)\n",
        "label_mapping = {3: 0, 4: 1, 7: 2, 14: 3}\n",
        "filtered_df['original_target'] = filtered_df['target']  # 원본 라벨 보존\n",
        "filtered_df['target'] = filtered_df['target'].map(label_mapping)\n",
        "\n",
        "print(\"\\nLabel mapping:\")\n",
        "for orig, new in label_mapping.items():\n",
        "    print(f\"Original class {orig} -> New class {new}\")\n",
        "\n",
        "# 클래스 불균형 확인\n",
        "print(\"\\nNew class distribution:\")\n",
        "for new_cls in range(4):\n",
        "    count = len(filtered_df[filtered_df['target'] == new_cls])\n",
        "    print(f\"New class {new_cls}: {count} samples\")\n"
      ]
    },
    {
      "cell_type": "code",
      "execution_count": null,
      "metadata": {},
      "outputs": [
        {
          "name": "stdout",
          "output_type": "stream",
          "text": [
            "Starting 5-Fold Cross Validation for Subset Model...\n",
            "\n",
            "==================================================\n",
            "SUBSET FOLD 1/5\n",
            "==================================================\n",
            "Train samples: 280, Validation samples: 70\n"
          ]
        },
        {
          "name": "stderr",
          "output_type": "stream",
          "text": [
            "Loss: 1.4434: 100%|██████████| 28/28 [00:06<00:00,  4.24it/s]\n",
            "Val Loss: 1.4162: 100%|██████████| 7/7 [00:01<00:00,  5.66it/s]\n"
          ]
        },
        {
          "name": "stdout",
          "output_type": "stream",
          "text": [
            "Epoch  1 | Train Loss: 1.3691 | Train F1: 0.2673 | Val Loss: 1.3603 | Val F1: 0.1527\n"
          ]
        },
        {
          "name": "stderr",
          "output_type": "stream",
          "text": [
            "Loss: 1.1211: 100%|██████████| 28/28 [00:05<00:00,  5.26it/s]\n",
            "Val Loss: 1.4015: 100%|██████████| 7/7 [00:01<00:00,  5.61it/s]\n"
          ]
        },
        {
          "name": "stdout",
          "output_type": "stream",
          "text": [
            "Epoch  2 | Train Loss: 1.3549 | Train F1: 0.2918 | Val Loss: 1.3768 | Val F1: 0.2190\n"
          ]
        },
        {
          "name": "stderr",
          "output_type": "stream",
          "text": [
            "Loss: 1.1953: 100%|██████████| 28/28 [00:05<00:00,  5.19it/s]\n",
            "Val Loss: 1.4638: 100%|██████████| 7/7 [00:01<00:00,  5.55it/s]\n"
          ]
        },
        {
          "name": "stdout",
          "output_type": "stream",
          "text": [
            "Epoch  3 | Train Loss: 1.3487 | Train F1: 0.3210 | Val Loss: 1.3080 | Val F1: 0.2959\n"
          ]
        },
        {
          "name": "stderr",
          "output_type": "stream",
          "text": [
            "Loss: 1.3906: 100%|██████████| 28/28 [00:05<00:00,  5.31it/s]\n",
            "Val Loss: 1.5468: 100%|██████████| 7/7 [00:01<00:00,  5.45it/s]\n"
          ]
        },
        {
          "name": "stdout",
          "output_type": "stream",
          "text": [
            "Epoch  4 | Train Loss: 1.2915 | Train F1: 0.3192 | Val Loss: 1.1662 | Val F1: 0.4464\n"
          ]
        },
        {
          "name": "stderr",
          "output_type": "stream",
          "text": [
            "Loss: 1.2422: 100%|██████████| 28/28 [00:05<00:00,  5.23it/s]\n",
            "Val Loss: 1.1210: 100%|██████████| 7/7 [00:01<00:00,  5.33it/s]\n"
          ]
        },
        {
          "name": "stdout",
          "output_type": "stream",
          "text": [
            "Epoch  5 | Train Loss: 1.1737 | Train F1: 0.3672 | Val Loss: 1.0775 | Val F1: 0.4100\n"
          ]
        },
        {
          "name": "stderr",
          "output_type": "stream",
          "text": [
            "Loss: 0.8213: 100%|██████████| 28/28 [00:05<00:00,  5.20it/s]\n",
            "Val Loss: 1.0878: 100%|██████████| 7/7 [00:01<00:00,  5.53it/s]\n"
          ]
        },
        {
          "name": "stdout",
          "output_type": "stream",
          "text": [
            "Epoch  6 | Train Loss: 1.1392 | Train F1: 0.4643 | Val Loss: 0.9867 | Val F1: 0.5286\n"
          ]
        },
        {
          "name": "stderr",
          "output_type": "stream",
          "text": [
            "Loss: 0.6445: 100%|██████████| 28/28 [00:05<00:00,  5.16it/s]\n",
            "Val Loss: 0.9342: 100%|██████████| 7/7 [00:01<00:00,  5.56it/s]\n"
          ]
        },
        {
          "name": "stdout",
          "output_type": "stream",
          "text": [
            "Epoch  7 | Train Loss: 0.9505 | Train F1: 0.5420 | Val Loss: 0.9075 | Val F1: 0.5372\n"
          ]
        },
        {
          "name": "stderr",
          "output_type": "stream",
          "text": [
            "Loss: 0.7026: 100%|██████████| 28/28 [00:05<00:00,  5.22it/s]\n",
            "Val Loss: 1.1322: 100%|██████████| 7/7 [00:01<00:00,  5.51it/s]\n"
          ]
        },
        {
          "name": "stdout",
          "output_type": "stream",
          "text": [
            "Epoch  8 | Train Loss: 0.9375 | Train F1: 0.5966 | Val Loss: 0.9096 | Val F1: 0.5401\n"
          ]
        },
        {
          "name": "stderr",
          "output_type": "stream",
          "text": [
            "Loss: 0.7725: 100%|██████████| 28/28 [00:05<00:00,  5.25it/s]\n",
            "Val Loss: 1.1627: 100%|██████████| 7/7 [00:01<00:00,  5.26it/s]\n"
          ]
        },
        {
          "name": "stdout",
          "output_type": "stream",
          "text": [
            "Epoch  9 | Train Loss: 0.8836 | Train F1: 0.6042 | Val Loss: 0.9993 | Val F1: 0.5189\n"
          ]
        },
        {
          "name": "stderr",
          "output_type": "stream",
          "text": [
            "Loss: 0.3833: 100%|██████████| 28/28 [00:05<00:00,  5.22it/s]\n",
            "Val Loss: 0.7973: 100%|██████████| 7/7 [00:01<00:00,  5.39it/s]\n"
          ]
        },
        {
          "name": "stdout",
          "output_type": "stream",
          "text": [
            "Epoch 10 | Train Loss: 0.8918 | Train F1: 0.5893 | Val Loss: 0.8772 | Val F1: 0.5369\n"
          ]
        },
        {
          "name": "stderr",
          "output_type": "stream",
          "text": [
            "Loss: 0.6411: 100%|██████████| 28/28 [00:05<00:00,  5.14it/s]\n",
            "Val Loss: 0.8986: 100%|██████████| 7/7 [00:01<00:00,  5.25it/s]\n"
          ]
        },
        {
          "name": "stdout",
          "output_type": "stream",
          "text": [
            "Epoch 11 | Train Loss: 0.8368 | Train F1: 0.6444 | Val Loss: 0.9032 | Val F1: 0.6341\n"
          ]
        },
        {
          "name": "stderr",
          "output_type": "stream",
          "text": [
            "Loss: 0.5850: 100%|██████████| 28/28 [00:05<00:00,  5.13it/s]\n",
            "Val Loss: 0.8383: 100%|██████████| 7/7 [00:01<00:00,  5.23it/s]\n"
          ]
        },
        {
          "name": "stdout",
          "output_type": "stream",
          "text": [
            "Epoch 12 | Train Loss: 0.7706 | Train F1: 0.6478 | Val Loss: 0.8026 | Val F1: 0.6197\n"
          ]
        },
        {
          "name": "stderr",
          "output_type": "stream",
          "text": [
            "Loss: 0.7954: 100%|██████████| 28/28 [00:05<00:00,  5.21it/s]\n",
            "Val Loss: 1.1219: 100%|██████████| 7/7 [00:01<00:00,  5.48it/s]\n"
          ]
        },
        {
          "name": "stdout",
          "output_type": "stream",
          "text": [
            "Epoch 13 | Train Loss: 0.6942 | Train F1: 0.6792 | Val Loss: 0.9156 | Val F1: 0.6366\n"
          ]
        },
        {
          "name": "stderr",
          "output_type": "stream",
          "text": [
            "Loss: 0.5640: 100%|██████████| 28/28 [00:05<00:00,  5.21it/s]\n",
            "Val Loss: 0.9112: 100%|██████████| 7/7 [00:01<00:00,  5.32it/s]\n"
          ]
        },
        {
          "name": "stdout",
          "output_type": "stream",
          "text": [
            "Epoch 14 | Train Loss: 0.6534 | Train F1: 0.7486 | Val Loss: 0.8067 | Val F1: 0.7396\n"
          ]
        },
        {
          "name": "stderr",
          "output_type": "stream",
          "text": [
            "Loss: 0.6445: 100%|██████████| 28/28 [00:05<00:00,  5.20it/s]\n",
            "Val Loss: 0.6539: 100%|██████████| 7/7 [00:01<00:00,  5.45it/s]\n"
          ]
        },
        {
          "name": "stdout",
          "output_type": "stream",
          "text": [
            "Epoch 15 | Train Loss: 0.7032 | Train F1: 0.7654 | Val Loss: 0.7853 | Val F1: 0.6828\n"
          ]
        },
        {
          "name": "stderr",
          "output_type": "stream",
          "text": [
            "Loss: 0.2529: 100%|██████████| 28/28 [00:05<00:00,  5.19it/s]\n",
            "Val Loss: 1.2131: 100%|██████████| 7/7 [00:01<00:00,  5.44it/s]\n"
          ]
        },
        {
          "name": "stdout",
          "output_type": "stream",
          "text": [
            "Epoch 16 | Train Loss: 0.6069 | Train F1: 0.8031 | Val Loss: 1.1696 | Val F1: 0.5263\n"
          ]
        },
        {
          "name": "stderr",
          "output_type": "stream",
          "text": [
            "Loss: 0.4834: 100%|██████████| 28/28 [00:05<00:00,  5.19it/s]\n",
            "Val Loss: 0.7098: 100%|██████████| 7/7 [00:01<00:00,  5.27it/s]\n"
          ]
        },
        {
          "name": "stdout",
          "output_type": "stream",
          "text": [
            "Epoch 17 | Train Loss: 0.8232 | Train F1: 0.6953 | Val Loss: 0.7605 | Val F1: 0.7625\n"
          ]
        },
        {
          "name": "stderr",
          "output_type": "stream",
          "text": [
            "Loss: 0.5083: 100%|██████████| 28/28 [00:05<00:00,  5.19it/s]\n",
            "Val Loss: 0.5409: 100%|██████████| 7/7 [00:01<00:00,  5.35it/s]\n"
          ]
        },
        {
          "name": "stdout",
          "output_type": "stream",
          "text": [
            "Epoch 18 | Train Loss: 0.5478 | Train F1: 0.7978 | Val Loss: 0.7506 | Val F1: 0.7956\n"
          ]
        },
        {
          "name": "stderr",
          "output_type": "stream",
          "text": [
            "Loss: 0.4702: 100%|██████████| 28/28 [00:05<00:00,  5.13it/s]\n",
            "Val Loss: 0.5542: 100%|██████████| 7/7 [00:01<00:00,  5.30it/s]\n"
          ]
        },
        {
          "name": "stdout",
          "output_type": "stream",
          "text": [
            "Epoch 19 | Train Loss: 0.6321 | Train F1: 0.7525 | Val Loss: 0.8444 | Val F1: 0.6975\n"
          ]
        },
        {
          "name": "stderr",
          "output_type": "stream",
          "text": [
            "Loss: 0.5176: 100%|██████████| 28/28 [00:05<00:00,  5.18it/s]\n",
            "Val Loss: 0.8333: 100%|██████████| 7/7 [00:01<00:00,  5.27it/s]\n"
          ]
        },
        {
          "name": "stdout",
          "output_type": "stream",
          "text": [
            "Epoch 20 | Train Loss: 0.5830 | Train F1: 0.7879 | Val Loss: 1.0698 | Val F1: 0.6406\n"
          ]
        },
        {
          "name": "stderr",
          "output_type": "stream",
          "text": [
            "Loss: 0.2812: 100%|██████████| 28/28 [00:05<00:00,  5.16it/s]\n",
            "Val Loss: 1.0069: 100%|██████████| 7/7 [00:01<00:00,  5.51it/s]\n"
          ]
        },
        {
          "name": "stdout",
          "output_type": "stream",
          "text": [
            "Epoch 21 | Train Loss: 0.5267 | Train F1: 0.8459 | Val Loss: 0.9597 | Val F1: 0.6676\n"
          ]
        },
        {
          "name": "stderr",
          "output_type": "stream",
          "text": [
            "Loss: 0.4731: 100%|██████████| 28/28 [00:05<00:00,  5.16it/s]\n",
            "Val Loss: 0.7371: 100%|██████████| 7/7 [00:01<00:00,  5.23it/s]\n"
          ]
        },
        {
          "name": "stdout",
          "output_type": "stream",
          "text": [
            "Epoch 22 | Train Loss: 0.5299 | Train F1: 0.7758 | Val Loss: 0.8484 | Val F1: 0.7421\n"
          ]
        },
        {
          "name": "stderr",
          "output_type": "stream",
          "text": [
            "Loss: 0.9482: 100%|██████████| 28/28 [00:05<00:00,  5.15it/s]\n",
            "Val Loss: 0.7732: 100%|██████████| 7/7 [00:01<00:00,  5.37it/s]\n"
          ]
        },
        {
          "name": "stdout",
          "output_type": "stream",
          "text": [
            "Epoch 23 | Train Loss: 0.7333 | Train F1: 0.6788 | Val Loss: 0.8972 | Val F1: 0.6836\n"
          ]
        },
        {
          "name": "stderr",
          "output_type": "stream",
          "text": [
            "Loss: 0.3853: 100%|██████████| 28/28 [00:05<00:00,  5.07it/s]\n",
            "Val Loss: 0.6615: 100%|██████████| 7/7 [00:01<00:00,  5.37it/s]\n"
          ]
        },
        {
          "name": "stdout",
          "output_type": "stream",
          "text": [
            "Epoch 24 | Train Loss: 0.4647 | Train F1: 0.8475 | Val Loss: 0.8957 | Val F1: 0.7625\n"
          ]
        },
        {
          "name": "stderr",
          "output_type": "stream",
          "text": [
            "Loss: 0.4238: 100%|██████████| 28/28 [00:05<00:00,  5.15it/s]\n",
            "Val Loss: 0.7507: 100%|██████████| 7/7 [00:01<00:00,  5.37it/s]\n"
          ]
        },
        {
          "name": "stdout",
          "output_type": "stream",
          "text": [
            "Epoch 25 | Train Loss: 0.5272 | Train F1: 0.8224 | Val Loss: 0.9896 | Val F1: 0.6898\n"
          ]
        },
        {
          "name": "stderr",
          "output_type": "stream",
          "text": [
            "Loss: 0.9189: 100%|██████████| 28/28 [00:05<00:00,  5.18it/s]\n",
            "Val Loss: 0.9094: 100%|██████████| 7/7 [00:01<00:00,  5.45it/s]\n"
          ]
        },
        {
          "name": "stdout",
          "output_type": "stream",
          "text": [
            "Epoch 26 | Train Loss: 0.5659 | Train F1: 0.7966 | Val Loss: 0.9098 | Val F1: 0.7657\n"
          ]
        },
        {
          "name": "stderr",
          "output_type": "stream",
          "text": [
            "Loss: 0.2581: 100%|██████████| 28/28 [00:05<00:00,  5.11it/s]\n",
            "Val Loss: 0.8844: 100%|██████████| 7/7 [00:01<00:00,  5.42it/s]\n"
          ]
        },
        {
          "name": "stdout",
          "output_type": "stream",
          "text": [
            "Epoch 27 | Train Loss: 0.4525 | Train F1: 0.8846 | Val Loss: 1.0685 | Val F1: 0.6416\n"
          ]
        },
        {
          "name": "stderr",
          "output_type": "stream",
          "text": [
            "Loss: 0.2213: 100%|██████████| 28/28 [00:05<00:00,  5.11it/s]\n",
            "Val Loss: 0.5286: 100%|██████████| 7/7 [00:01<00:00,  5.40it/s]\n"
          ]
        },
        {
          "name": "stdout",
          "output_type": "stream",
          "text": [
            "Epoch 28 | Train Loss: 0.4919 | Train F1: 0.8607 | Val Loss: 0.6820 | Val F1: 0.8281\n"
          ]
        },
        {
          "name": "stderr",
          "output_type": "stream",
          "text": [
            "Loss: 0.2561: 100%|██████████| 28/28 [00:05<00:00,  4.94it/s]\n",
            "Val Loss: 0.5823: 100%|██████████| 7/7 [00:01<00:00,  5.35it/s]\n"
          ]
        },
        {
          "name": "stdout",
          "output_type": "stream",
          "text": [
            "Epoch 29 | Train Loss: 0.4293 | Train F1: 0.8953 | Val Loss: 0.7572 | Val F1: 0.7802\n"
          ]
        },
        {
          "name": "stderr",
          "output_type": "stream",
          "text": [
            "Loss: 0.3608: 100%|██████████| 28/28 [00:05<00:00,  5.22it/s]\n",
            "Val Loss: 0.8014: 100%|██████████| 7/7 [00:01<00:00,  5.24it/s]\n"
          ]
        },
        {
          "name": "stdout",
          "output_type": "stream",
          "text": [
            "Epoch 30 | Train Loss: 0.3738 | Train F1: 0.9029 | Val Loss: 0.8156 | Val F1: 0.7448\n"
          ]
        },
        {
          "name": "stderr",
          "output_type": "stream",
          "text": [
            "Loss: 0.2561: 100%|██████████| 28/28 [00:05<00:00,  5.20it/s]\n",
            "Val Loss: 0.5897: 100%|██████████| 7/7 [00:01<00:00,  5.37it/s]\n"
          ]
        },
        {
          "name": "stdout",
          "output_type": "stream",
          "text": [
            "Epoch 31 | Train Loss: 0.4024 | Train F1: 0.8891 | Val Loss: 0.6263 | Val F1: 0.8257\n"
          ]
        },
        {
          "name": "stderr",
          "output_type": "stream",
          "text": [
            "Loss: 0.3354: 100%|██████████| 28/28 [00:05<00:00,  5.11it/s]\n",
            "Val Loss: 0.4911: 100%|██████████| 7/7 [00:01<00:00,  5.35it/s]\n"
          ]
        },
        {
          "name": "stdout",
          "output_type": "stream",
          "text": [
            "Epoch 32 | Train Loss: 0.5238 | Train F1: 0.8377 | Val Loss: 0.6154 | Val F1: 0.8089\n"
          ]
        },
        {
          "name": "stderr",
          "output_type": "stream",
          "text": [
            "Loss: 0.2852: 100%|██████████| 28/28 [00:05<00:00,  5.11it/s]\n",
            "Val Loss: 0.6001: 100%|██████████| 7/7 [00:01<00:00,  5.20it/s]\n"
          ]
        },
        {
          "name": "stdout",
          "output_type": "stream",
          "text": [
            "Epoch 33 | Train Loss: 0.3404 | Train F1: 0.8938 | Val Loss: 0.7013 | Val F1: 0.8059\n"
          ]
        },
        {
          "name": "stderr",
          "output_type": "stream",
          "text": [
            "Loss: 0.2307: 100%|██████████| 28/28 [00:05<00:00,  5.20it/s]\n",
            "Val Loss: 0.3928: 100%|██████████| 7/7 [00:01<00:00,  5.24it/s]\n"
          ]
        },
        {
          "name": "stdout",
          "output_type": "stream",
          "text": [
            "Epoch 34 | Train Loss: 0.4572 | Train F1: 0.9030 | Val Loss: 0.7081 | Val F1: 0.8271\n"
          ]
        },
        {
          "name": "stderr",
          "output_type": "stream",
          "text": [
            "Loss: 0.5054: 100%|██████████| 28/28 [00:05<00:00,  5.11it/s]\n",
            "Val Loss: 0.4614: 100%|██████████| 7/7 [00:01<00:00,  5.31it/s]\n"
          ]
        },
        {
          "name": "stdout",
          "output_type": "stream",
          "text": [
            "Epoch 35 | Train Loss: 0.4388 | Train F1: 0.8807 | Val Loss: 0.7031 | Val F1: 0.8276\n"
          ]
        },
        {
          "name": "stderr",
          "output_type": "stream",
          "text": [
            "Loss: 0.5479: 100%|██████████| 28/28 [00:05<00:00,  5.08it/s]\n",
            "Val Loss: 0.5931: 100%|██████████| 7/7 [00:01<00:00,  5.16it/s]\n"
          ]
        },
        {
          "name": "stdout",
          "output_type": "stream",
          "text": [
            "Epoch 36 | Train Loss: 0.4468 | Train F1: 0.8545 | Val Loss: 0.7139 | Val F1: 0.7764\n"
          ]
        },
        {
          "name": "stderr",
          "output_type": "stream",
          "text": [
            "Loss: 0.2229: 100%|██████████| 28/28 [00:05<00:00,  5.17it/s]\n",
            "Val Loss: 0.5241: 100%|██████████| 7/7 [00:01<00:00,  5.24it/s]\n"
          ]
        },
        {
          "name": "stdout",
          "output_type": "stream",
          "text": [
            "Epoch 37 | Train Loss: 0.4846 | Train F1: 0.7719 | Val Loss: 0.6657 | Val F1: 0.8428\n"
          ]
        },
        {
          "name": "stderr",
          "output_type": "stream",
          "text": [
            "Loss: 0.2393: 100%|██████████| 28/28 [00:05<00:00,  5.11it/s]\n",
            "Val Loss: 0.6832: 100%|██████████| 7/7 [00:01<00:00,  5.32it/s]\n"
          ]
        },
        {
          "name": "stdout",
          "output_type": "stream",
          "text": [
            "Epoch 38 | Train Loss: 0.4468 | Train F1: 0.8614 | Val Loss: 0.7428 | Val F1: 0.7999\n"
          ]
        },
        {
          "name": "stderr",
          "output_type": "stream",
          "text": [
            "Loss: 0.9561: 100%|██████████| 28/28 [00:05<00:00,  5.19it/s]\n",
            "Val Loss: 0.6255: 100%|██████████| 7/7 [00:01<00:00,  5.38it/s]\n"
          ]
        },
        {
          "name": "stdout",
          "output_type": "stream",
          "text": [
            "Epoch 39 | Train Loss: 0.4404 | Train F1: 0.8839 | Val Loss: 0.7580 | Val F1: 0.8073\n"
          ]
        },
        {
          "name": "stderr",
          "output_type": "stream",
          "text": [
            "Loss: 0.2485: 100%|██████████| 28/28 [00:05<00:00,  5.14it/s]\n",
            "Val Loss: 0.5266: 100%|██████████| 7/7 [00:01<00:00,  5.27it/s]\n"
          ]
        },
        {
          "name": "stdout",
          "output_type": "stream",
          "text": [
            "Epoch 40 | Train Loss: 0.4193 | Train F1: 0.8746 | Val Loss: 0.7663 | Val F1: 0.8245\n"
          ]
        },
        {
          "name": "stderr",
          "output_type": "stream",
          "text": [
            "Loss: 0.2805: 100%|██████████| 28/28 [00:05<00:00,  5.16it/s]\n",
            "Val Loss: 0.4224: 100%|██████████| 7/7 [00:01<00:00,  5.36it/s]\n"
          ]
        },
        {
          "name": "stdout",
          "output_type": "stream",
          "text": [
            "Epoch 41 | Train Loss: 0.4067 | Train F1: 0.8845 | Val Loss: 0.6986 | Val F1: 0.8083\n"
          ]
        },
        {
          "name": "stderr",
          "output_type": "stream",
          "text": [
            "Loss: 0.3215: 100%|██████████| 28/28 [00:05<00:00,  5.14it/s]\n",
            "Val Loss: 0.6791: 100%|██████████| 7/7 [00:01<00:00,  5.70it/s]\n"
          ]
        },
        {
          "name": "stdout",
          "output_type": "stream",
          "text": [
            "Epoch 42 | Train Loss: 0.5931 | Train F1: 0.7897 | Val Loss: 0.7711 | Val F1: 0.7853\n"
          ]
        },
        {
          "name": "stderr",
          "output_type": "stream",
          "text": [
            "Loss: 0.2231: 100%|██████████| 28/28 [00:05<00:00,  5.13it/s]\n",
            "Val Loss: 0.5774: 100%|██████████| 7/7 [00:01<00:00,  5.54it/s]\n"
          ]
        },
        {
          "name": "stdout",
          "output_type": "stream",
          "text": [
            "Epoch 43 | Train Loss: 0.4129 | Train F1: 0.8481 | Val Loss: 0.8431 | Val F1: 0.7558\n"
          ]
        },
        {
          "name": "stderr",
          "output_type": "stream",
          "text": [
            "Loss: 0.4673: 100%|██████████| 28/28 [00:05<00:00,  5.17it/s]\n",
            "Val Loss: 0.5293: 100%|██████████| 7/7 [00:01<00:00,  5.21it/s]\n"
          ]
        },
        {
          "name": "stdout",
          "output_type": "stream",
          "text": [
            "Epoch 44 | Train Loss: 0.3889 | Train F1: 0.8499 | Val Loss: 0.7126 | Val F1: 0.7652\n"
          ]
        },
        {
          "name": "stderr",
          "output_type": "stream",
          "text": [
            "Loss: 0.3381: 100%|██████████| 28/28 [00:05<00:00,  5.11it/s]\n",
            "Val Loss: 1.0062: 100%|██████████| 7/7 [00:01<00:00,  5.49it/s]\n"
          ]
        },
        {
          "name": "stdout",
          "output_type": "stream",
          "text": [
            "Epoch 45 | Train Loss: 0.3656 | Train F1: 0.9231 | Val Loss: 0.9072 | Val F1: 0.7678\n"
          ]
        },
        {
          "name": "stderr",
          "output_type": "stream",
          "text": [
            "Loss: 0.2646: 100%|██████████| 28/28 [00:05<00:00,  5.10it/s]\n",
            "Val Loss: 0.7634: 100%|██████████| 7/7 [00:01<00:00,  5.34it/s]\n"
          ]
        },
        {
          "name": "stdout",
          "output_type": "stream",
          "text": [
            "Epoch 46 | Train Loss: 0.4344 | Train F1: 0.8594 | Val Loss: 0.7544 | Val F1: 0.8205\n"
          ]
        },
        {
          "name": "stderr",
          "output_type": "stream",
          "text": [
            "Loss: 0.5845: 100%|██████████| 28/28 [00:05<00:00,  5.12it/s]\n",
            "Val Loss: 0.7681: 100%|██████████| 7/7 [00:01<00:00,  5.32it/s]\n"
          ]
        },
        {
          "name": "stdout",
          "output_type": "stream",
          "text": [
            "Epoch 47 | Train Loss: 0.3590 | Train F1: 0.9157 | Val Loss: 0.9153 | Val F1: 0.7374\n"
          ]
        },
        {
          "name": "stderr",
          "output_type": "stream",
          "text": [
            "Loss: 0.2135: 100%|██████████| 28/28 [00:05<00:00,  5.13it/s]\n",
            "Val Loss: 0.5720: 100%|██████████| 7/7 [00:01<00:00,  5.51it/s]\n"
          ]
        },
        {
          "name": "stdout",
          "output_type": "stream",
          "text": [
            "Epoch 48 | Train Loss: 0.4069 | Train F1: 0.8753 | Val Loss: 0.8009 | Val F1: 0.7386\n"
          ]
        },
        {
          "name": "stderr",
          "output_type": "stream",
          "text": [
            "Loss: 0.2366: 100%|██████████| 28/28 [00:05<00:00,  5.12it/s]\n",
            "Val Loss: 0.4112: 100%|██████████| 7/7 [00:01<00:00,  5.41it/s]\n"
          ]
        },
        {
          "name": "stdout",
          "output_type": "stream",
          "text": [
            "Epoch 49 | Train Loss: 0.4397 | Train F1: 0.8451 | Val Loss: 0.6838 | Val F1: 0.8005\n"
          ]
        },
        {
          "name": "stderr",
          "output_type": "stream",
          "text": [
            "Loss: 0.8438: 100%|██████████| 28/28 [00:05<00:00,  5.13it/s]\n",
            "Val Loss: 0.5579: 100%|██████████| 7/7 [00:01<00:00,  5.23it/s]\n"
          ]
        },
        {
          "name": "stdout",
          "output_type": "stream",
          "text": [
            "Epoch 50 | Train Loss: 0.4599 | Train F1: 0.7912 | Val Loss: 0.7508 | Val F1: 0.8206\n"
          ]
        },
        {
          "name": "stderr",
          "output_type": "stream",
          "text": [
            "Loss: 0.2050: 100%|██████████| 28/28 [00:05<00:00,  5.18it/s]\n",
            "Val Loss: 0.4720: 100%|██████████| 7/7 [00:01<00:00,  5.32it/s]\n"
          ]
        },
        {
          "name": "stdout",
          "output_type": "stream",
          "text": [
            "Epoch 51 | Train Loss: 0.3722 | Train F1: 0.8635 | Val Loss: 0.7520 | Val F1: 0.8118\n"
          ]
        },
        {
          "name": "stderr",
          "output_type": "stream",
          "text": [
            "Loss: 0.2078: 100%|██████████| 28/28 [00:05<00:00,  5.14it/s]\n",
            "Val Loss: 0.3080: 100%|██████████| 7/7 [00:01<00:00,  5.36it/s]\n"
          ]
        },
        {
          "name": "stdout",
          "output_type": "stream",
          "text": [
            "Epoch 52 | Train Loss: 0.3962 | Train F1: 0.8929 | Val Loss: 0.5989 | Val F1: 0.8496\n"
          ]
        },
        {
          "name": "stderr",
          "output_type": "stream",
          "text": [
            "Loss: 0.2725: 100%|██████████| 28/28 [00:05<00:00,  5.09it/s]\n",
            "Val Loss: 0.3982: 100%|██████████| 7/7 [00:01<00:00,  5.43it/s]\n"
          ]
        },
        {
          "name": "stdout",
          "output_type": "stream",
          "text": [
            "Epoch 53 | Train Loss: 0.3663 | Train F1: 0.9071 | Val Loss: 0.6061 | Val F1: 0.8504\n"
          ]
        },
        {
          "name": "stderr",
          "output_type": "stream",
          "text": [
            "Loss: 0.2111: 100%|██████████| 28/28 [00:05<00:00,  5.18it/s]\n",
            "Val Loss: 0.4246: 100%|██████████| 7/7 [00:01<00:00,  5.28it/s]\n"
          ]
        },
        {
          "name": "stdout",
          "output_type": "stream",
          "text": [
            "Epoch 54 | Train Loss: 0.3292 | Train F1: 0.8736 | Val Loss: 0.7122 | Val F1: 0.8175\n"
          ]
        },
        {
          "name": "stderr",
          "output_type": "stream",
          "text": [
            "Loss: 0.2039: 100%|██████████| 28/28 [00:05<00:00,  5.14it/s]\n",
            "Val Loss: 0.3262: 100%|██████████| 7/7 [00:01<00:00,  5.34it/s]\n"
          ]
        },
        {
          "name": "stdout",
          "output_type": "stream",
          "text": [
            "Epoch 55 | Train Loss: 0.3536 | Train F1: 0.8342 | Val Loss: 0.7373 | Val F1: 0.8222\n"
          ]
        },
        {
          "name": "stderr",
          "output_type": "stream",
          "text": [
            "Loss: 0.2057: 100%|██████████| 28/28 [00:05<00:00,  5.14it/s]\n",
            "Val Loss: 0.4208: 100%|██████████| 7/7 [00:01<00:00,  5.21it/s]\n"
          ]
        },
        {
          "name": "stdout",
          "output_type": "stream",
          "text": [
            "Epoch 56 | Train Loss: 0.3662 | Train F1: 0.9531 | Val Loss: 0.6860 | Val F1: 0.7908\n"
          ]
        },
        {
          "name": "stderr",
          "output_type": "stream",
          "text": [
            "Loss: 0.8735: 100%|██████████| 28/28 [00:05<00:00,  5.12it/s]\n",
            "Val Loss: 0.2902: 100%|██████████| 7/7 [00:01<00:00,  5.44it/s]\n"
          ]
        },
        {
          "name": "stdout",
          "output_type": "stream",
          "text": [
            "Epoch 57 | Train Loss: 0.4298 | Train F1: 0.8145 | Val Loss: 0.6384 | Val F1: 0.8095\n"
          ]
        },
        {
          "name": "stderr",
          "output_type": "stream",
          "text": [
            "Loss: 0.3455: 100%|██████████| 28/28 [00:05<00:00,  5.16it/s]\n",
            "Val Loss: 0.3414: 100%|██████████| 7/7 [00:01<00:00,  5.45it/s]\n"
          ]
        },
        {
          "name": "stdout",
          "output_type": "stream",
          "text": [
            "Epoch 58 | Train Loss: 0.3078 | Train F1: 0.8935 | Val Loss: 0.6700 | Val F1: 0.7894\n"
          ]
        },
        {
          "name": "stderr",
          "output_type": "stream",
          "text": [
            "Loss: 0.2197: 100%|██████████| 28/28 [00:05<00:00,  5.12it/s]\n",
            "Val Loss: 0.3094: 100%|██████████| 7/7 [00:01<00:00,  5.43it/s]\n"
          ]
        },
        {
          "name": "stdout",
          "output_type": "stream",
          "text": [
            "Epoch 59 | Train Loss: 0.3999 | Train F1: 0.9170 | Val Loss: 0.6041 | Val F1: 0.8744\n"
          ]
        },
        {
          "name": "stderr",
          "output_type": "stream",
          "text": [
            "Loss: 0.3481: 100%|██████████| 28/28 [00:05<00:00,  5.12it/s]\n",
            "Val Loss: 0.7587: 100%|██████████| 7/7 [00:01<00:00,  5.34it/s]\n"
          ]
        },
        {
          "name": "stdout",
          "output_type": "stream",
          "text": [
            "Epoch 60 | Train Loss: 0.3482 | Train F1: 0.9156 | Val Loss: 0.7973 | Val F1: 0.7844\n"
          ]
        },
        {
          "name": "stderr",
          "output_type": "stream",
          "text": [
            "Loss: 0.7334: 100%|██████████| 28/28 [00:05<00:00,  5.19it/s]\n",
            "Val Loss: 0.4907: 100%|██████████| 7/7 [00:01<00:00,  5.37it/s]\n"
          ]
        },
        {
          "name": "stdout",
          "output_type": "stream",
          "text": [
            "Epoch 61 | Train Loss: 0.3891 | Train F1: 0.8748 | Val Loss: 0.6600 | Val F1: 0.8364\n"
          ]
        },
        {
          "name": "stderr",
          "output_type": "stream",
          "text": [
            "Loss: 0.9141: 100%|██████████| 28/28 [00:05<00:00,  5.14it/s]\n",
            "Val Loss: 0.3560: 100%|██████████| 7/7 [00:01<00:00,  5.16it/s]\n"
          ]
        },
        {
          "name": "stdout",
          "output_type": "stream",
          "text": [
            "Epoch 62 | Train Loss: 0.3294 | Train F1: 0.9186 | Val Loss: 0.5891 | Val F1: 0.8741\n"
          ]
        },
        {
          "name": "stderr",
          "output_type": "stream",
          "text": [
            "Loss: 0.9150: 100%|██████████| 28/28 [00:05<00:00,  5.15it/s]\n",
            "Val Loss: 0.3815: 100%|██████████| 7/7 [00:01<00:00,  5.40it/s]\n"
          ]
        },
        {
          "name": "stdout",
          "output_type": "stream",
          "text": [
            "Epoch 63 | Train Loss: 0.3847 | Train F1: 0.8810 | Val Loss: 0.6377 | Val F1: 0.8218\n"
          ]
        },
        {
          "name": "stderr",
          "output_type": "stream",
          "text": [
            "Loss: 0.8594: 100%|██████████| 28/28 [00:05<00:00,  5.10it/s]\n",
            "Val Loss: 0.5138: 100%|██████████| 7/7 [00:01<00:00,  5.11it/s]\n"
          ]
        },
        {
          "name": "stdout",
          "output_type": "stream",
          "text": [
            "Epoch 64 | Train Loss: 0.4291 | Train F1: 0.7915 | Val Loss: 0.7061 | Val F1: 0.7958\n"
          ]
        },
        {
          "name": "stderr",
          "output_type": "stream",
          "text": [
            "Loss: 0.7246: 100%|██████████| 28/28 [00:05<00:00,  5.14it/s]\n",
            "Val Loss: 0.5922: 100%|██████████| 7/7 [00:01<00:00,  5.42it/s]\n"
          ]
        },
        {
          "name": "stdout",
          "output_type": "stream",
          "text": [
            "Epoch 65 | Train Loss: 0.3782 | Train F1: 0.8363 | Val Loss: 0.6333 | Val F1: 0.8477\n"
          ]
        },
        {
          "name": "stderr",
          "output_type": "stream",
          "text": [
            "Loss: 0.7642: 100%|██████████| 28/28 [00:05<00:00,  5.17it/s]\n",
            "Val Loss: 0.3827: 100%|██████████| 7/7 [00:01<00:00,  4.67it/s]\n"
          ]
        },
        {
          "name": "stdout",
          "output_type": "stream",
          "text": [
            "Epoch 66 | Train Loss: 0.3420 | Train F1: 0.9358 | Val Loss: 0.6496 | Val F1: 0.8271\n"
          ]
        },
        {
          "name": "stderr",
          "output_type": "stream",
          "text": [
            "Loss: 0.2106: 100%|██████████| 28/28 [00:05<00:00,  5.13it/s]\n",
            "Val Loss: 0.4969: 100%|██████████| 7/7 [00:01<00:00,  5.44it/s]\n"
          ]
        },
        {
          "name": "stdout",
          "output_type": "stream",
          "text": [
            "Epoch 67 | Train Loss: 0.4123 | Train F1: 0.8345 | Val Loss: 0.6161 | Val F1: 0.7919\n"
          ]
        },
        {
          "name": "stderr",
          "output_type": "stream",
          "text": [
            "Loss: 0.7822: 100%|██████████| 28/28 [00:05<00:00,  5.21it/s]\n",
            "Val Loss: 0.3455: 100%|██████████| 7/7 [00:01<00:00,  5.46it/s]\n"
          ]
        },
        {
          "name": "stdout",
          "output_type": "stream",
          "text": [
            "Epoch 68 | Train Loss: 0.3795 | Train F1: 0.8512 | Val Loss: 0.5731 | Val F1: 0.8740\n"
          ]
        },
        {
          "name": "stderr",
          "output_type": "stream",
          "text": [
            "Loss: 0.2035: 100%|██████████| 28/28 [00:05<00:00,  5.17it/s]\n",
            "Val Loss: 0.4307: 100%|██████████| 7/7 [00:01<00:00,  5.41it/s]\n"
          ]
        },
        {
          "name": "stdout",
          "output_type": "stream",
          "text": [
            "Epoch 69 | Train Loss: 0.3334 | Train F1: 0.9232 | Val Loss: 0.6609 | Val F1: 0.8450\n"
          ]
        },
        {
          "name": "stderr",
          "output_type": "stream",
          "text": [
            "Loss: 0.5894: 100%|██████████| 28/28 [00:05<00:00,  5.13it/s]\n",
            "Val Loss: 0.4504: 100%|██████████| 7/7 [00:01<00:00,  5.36it/s]\n"
          ]
        },
        {
          "name": "stdout",
          "output_type": "stream",
          "text": [
            "Epoch 70 | Train Loss: 0.3641 | Train F1: 0.8984 | Val Loss: 0.6255 | Val F1: 0.8749\n"
          ]
        },
        {
          "name": "stderr",
          "output_type": "stream",
          "text": [
            "Loss: 0.6108: 100%|██████████| 28/28 [00:05<00:00,  5.09it/s]\n",
            "Val Loss: 0.6578: 100%|██████████| 7/7 [00:01<00:00,  5.35it/s]\n"
          ]
        },
        {
          "name": "stdout",
          "output_type": "stream",
          "text": [
            "Epoch 71 | Train Loss: 0.4337 | Train F1: 0.8450 | Val Loss: 0.6785 | Val F1: 0.8392\n"
          ]
        },
        {
          "name": "stderr",
          "output_type": "stream",
          "text": [
            "Loss: 0.2793: 100%|██████████| 28/28 [00:05<00:00,  5.12it/s]\n",
            "Val Loss: 0.4495: 100%|██████████| 7/7 [00:01<00:00,  5.64it/s]\n"
          ]
        },
        {
          "name": "stdout",
          "output_type": "stream",
          "text": [
            "Epoch 72 | Train Loss: 0.2961 | Train F1: 0.9423 | Val Loss: 0.6575 | Val F1: 0.8287\n"
          ]
        },
        {
          "name": "stderr",
          "output_type": "stream",
          "text": [
            "Loss: 0.4651: 100%|██████████| 28/28 [00:05<00:00,  5.19it/s]\n",
            "Val Loss: 0.5224: 100%|██████████| 7/7 [00:01<00:00,  5.57it/s]\n"
          ]
        },
        {
          "name": "stdout",
          "output_type": "stream",
          "text": [
            "Epoch 73 | Train Loss: 0.3861 | Train F1: 0.8955 | Val Loss: 0.6123 | Val F1: 0.8497\n"
          ]
        },
        {
          "name": "stderr",
          "output_type": "stream",
          "text": [
            "Loss: 0.2058: 100%|██████████| 28/28 [00:05<00:00,  5.11it/s]\n",
            "Val Loss: 0.4885: 100%|██████████| 7/7 [00:01<00:00,  5.48it/s]\n"
          ]
        },
        {
          "name": "stdout",
          "output_type": "stream",
          "text": [
            "Epoch 74 | Train Loss: 0.3469 | Train F1: 0.9593 | Val Loss: 0.6253 | Val F1: 0.8364\n"
          ]
        },
        {
          "name": "stderr",
          "output_type": "stream",
          "text": [
            "Loss: 0.2095: 100%|██████████| 28/28 [00:05<00:00,  5.09it/s]\n",
            "Val Loss: 0.3052: 100%|██████████| 7/7 [00:01<00:00,  5.49it/s]\n"
          ]
        },
        {
          "name": "stdout",
          "output_type": "stream",
          "text": [
            "Epoch 75 | Train Loss: 0.3351 | Train F1: 0.9391 | Val Loss: 0.6278 | Val F1: 0.8820\n"
          ]
        },
        {
          "name": "stderr",
          "output_type": "stream",
          "text": [
            "Loss: 0.3213: 100%|██████████| 28/28 [00:05<00:00,  5.13it/s]\n",
            "Val Loss: 0.5579: 100%|██████████| 7/7 [00:01<00:00,  5.42it/s]\n"
          ]
        },
        {
          "name": "stdout",
          "output_type": "stream",
          "text": [
            "Epoch 76 | Train Loss: 0.3690 | Train F1: 0.8750 | Val Loss: 0.6362 | Val F1: 0.8368\n"
          ]
        },
        {
          "name": "stderr",
          "output_type": "stream",
          "text": [
            "Loss: 0.2710: 100%|██████████| 28/28 [00:05<00:00,  5.13it/s]\n",
            "Val Loss: 0.4215: 100%|██████████| 7/7 [00:01<00:00,  5.20it/s]\n"
          ]
        },
        {
          "name": "stdout",
          "output_type": "stream",
          "text": [
            "Epoch 77 | Train Loss: 0.4066 | Train F1: 0.8818 | Val Loss: 0.5757 | Val F1: 0.8737\n"
          ]
        },
        {
          "name": "stderr",
          "output_type": "stream",
          "text": [
            "Loss: 0.2068: 100%|██████████| 28/28 [00:05<00:00,  5.16it/s]\n",
            "Val Loss: 0.6112: 100%|██████████| 7/7 [00:01<00:00,  5.36it/s]\n"
          ]
        },
        {
          "name": "stdout",
          "output_type": "stream",
          "text": [
            "Epoch 78 | Train Loss: 0.3815 | Train F1: 0.8720 | Val Loss: 0.6735 | Val F1: 0.8173\n"
          ]
        },
        {
          "name": "stderr",
          "output_type": "stream",
          "text": [
            "Loss: 0.2026: 100%|██████████| 28/28 [00:05<00:00,  5.18it/s]\n",
            "Val Loss: 0.5040: 100%|██████████| 7/7 [00:01<00:00,  5.68it/s]\n"
          ]
        },
        {
          "name": "stdout",
          "output_type": "stream",
          "text": [
            "Epoch 79 | Train Loss: 0.3350 | Train F1: 0.8591 | Val Loss: 0.6288 | Val F1: 0.8246\n"
          ]
        },
        {
          "name": "stderr",
          "output_type": "stream",
          "text": [
            "Loss: 0.2040: 100%|██████████| 28/28 [00:05<00:00,  5.21it/s]\n",
            "Val Loss: 0.3490: 100%|██████████| 7/7 [00:01<00:00,  5.35it/s]\n"
          ]
        },
        {
          "name": "stdout",
          "output_type": "stream",
          "text": [
            "Epoch 80 | Train Loss: 0.3694 | Train F1: 0.8608 | Val Loss: 0.5974 | Val F1: 0.8273\n"
          ]
        },
        {
          "name": "stderr",
          "output_type": "stream",
          "text": [
            "Loss: 0.2029: 100%|██████████| 28/28 [00:05<00:00,  5.16it/s]\n",
            "Val Loss: 0.4697: 100%|██████████| 7/7 [00:01<00:00,  5.16it/s]\n"
          ]
        },
        {
          "name": "stdout",
          "output_type": "stream",
          "text": [
            "Epoch 81 | Train Loss: 0.3616 | Train F1: 0.8858 | Val Loss: 0.6535 | Val F1: 0.8437\n"
          ]
        },
        {
          "name": "stderr",
          "output_type": "stream",
          "text": [
            "Loss: 0.2017: 100%|██████████| 28/28 [00:05<00:00,  5.17it/s]\n",
            "Val Loss: 0.3238: 100%|██████████| 7/7 [00:01<00:00,  5.44it/s]\n"
          ]
        },
        {
          "name": "stdout",
          "output_type": "stream",
          "text": [
            "Epoch 82 | Train Loss: 0.3447 | Train F1: 0.9013 | Val Loss: 0.6480 | Val F1: 0.8372\n"
          ]
        },
        {
          "name": "stderr",
          "output_type": "stream",
          "text": [
            "Loss: 0.3931: 100%|██████████| 28/28 [00:05<00:00,  5.17it/s]\n",
            "Val Loss: 0.3442: 100%|██████████| 7/7 [00:01<00:00,  5.40it/s]\n"
          ]
        },
        {
          "name": "stdout",
          "output_type": "stream",
          "text": [
            "Epoch 83 | Train Loss: 0.2567 | Train F1: 0.9326 | Val Loss: 0.6076 | Val F1: 0.8437\n"
          ]
        },
        {
          "name": "stderr",
          "output_type": "stream",
          "text": [
            "Loss: 0.9521: 100%|██████████| 28/28 [00:05<00:00,  5.11it/s]\n",
            "Val Loss: 0.4842: 100%|██████████| 7/7 [00:01<00:00,  5.15it/s]\n"
          ]
        },
        {
          "name": "stdout",
          "output_type": "stream",
          "text": [
            "Epoch 84 | Train Loss: 0.3618 | Train F1: 0.8859 | Val Loss: 0.6625 | Val F1: 0.8491\n"
          ]
        },
        {
          "name": "stderr",
          "output_type": "stream",
          "text": [
            "Loss: 0.2018: 100%|██████████| 28/28 [00:05<00:00,  5.13it/s]\n",
            "Val Loss: 0.3708: 100%|██████████| 7/7 [00:01<00:00,  5.48it/s]\n"
          ]
        },
        {
          "name": "stdout",
          "output_type": "stream",
          "text": [
            "Epoch 85 | Train Loss: 0.3459 | Train F1: 0.9108 | Val Loss: 0.6198 | Val F1: 0.8277\n"
          ]
        },
        {
          "name": "stderr",
          "output_type": "stream",
          "text": [
            "Loss: 0.2377: 100%|██████████| 28/28 [00:05<00:00,  5.13it/s]\n",
            "Val Loss: 0.3995: 100%|██████████| 7/7 [00:01<00:00,  5.44it/s]\n"
          ]
        },
        {
          "name": "stdout",
          "output_type": "stream",
          "text": [
            "Epoch 86 | Train Loss: 0.3679 | Train F1: 0.8772 | Val Loss: 0.6302 | Val F1: 0.8635\n"
          ]
        },
        {
          "name": "stderr",
          "output_type": "stream",
          "text": [
            "Loss: 0.2031: 100%|██████████| 28/28 [00:05<00:00,  5.13it/s]\n",
            "Val Loss: 0.4416: 100%|██████████| 7/7 [00:01<00:00,  5.25it/s]\n"
          ]
        },
        {
          "name": "stdout",
          "output_type": "stream",
          "text": [
            "Epoch 87 | Train Loss: 0.3309 | Train F1: 0.9032 | Val Loss: 0.6683 | Val F1: 0.8161\n"
          ]
        },
        {
          "name": "stderr",
          "output_type": "stream",
          "text": [
            "Loss: 0.2017: 100%|██████████| 28/28 [00:05<00:00,  5.13it/s]\n",
            "Val Loss: 0.4280: 100%|██████████| 7/7 [00:01<00:00,  5.49it/s]\n"
          ]
        },
        {
          "name": "stdout",
          "output_type": "stream",
          "text": [
            "Epoch 88 | Train Loss: 0.3911 | Train F1: 0.8935 | Val Loss: 0.6314 | Val F1: 0.8505\n"
          ]
        },
        {
          "name": "stderr",
          "output_type": "stream",
          "text": [
            "Loss: 0.2023: 100%|██████████| 28/28 [00:05<00:00,  5.16it/s]\n",
            "Val Loss: 0.5378: 100%|██████████| 7/7 [00:01<00:00,  5.32it/s]\n"
          ]
        },
        {
          "name": "stdout",
          "output_type": "stream",
          "text": [
            "Epoch 89 | Train Loss: 0.3605 | Train F1: 0.8992 | Val Loss: 0.6442 | Val F1: 0.8364\n"
          ]
        },
        {
          "name": "stderr",
          "output_type": "stream",
          "text": [
            "Loss: 0.2024: 100%|██████████| 28/28 [00:05<00:00,  5.21it/s]\n",
            "Val Loss: 0.5733: 100%|██████████| 7/7 [00:01<00:00,  5.36it/s]\n"
          ]
        },
        {
          "name": "stdout",
          "output_type": "stream",
          "text": [
            "Epoch 90 | Train Loss: 0.2853 | Train F1: 0.9640 | Val Loss: 0.6463 | Val F1: 0.8561\n"
          ]
        },
        {
          "name": "stderr",
          "output_type": "stream",
          "text": [
            "Loss: 0.5474: 100%|██████████| 28/28 [00:05<00:00,  5.18it/s]\n",
            "Val Loss: 0.6582: 100%|██████████| 7/7 [00:01<00:00,  5.28it/s]\n"
          ]
        },
        {
          "name": "stdout",
          "output_type": "stream",
          "text": [
            "Epoch 91 | Train Loss: 0.3209 | Train F1: 0.8993 | Val Loss: 0.7048 | Val F1: 0.8264\n"
          ]
        },
        {
          "name": "stderr",
          "output_type": "stream",
          "text": [
            "Loss: 0.2035: 100%|██████████| 28/28 [00:05<00:00,  5.18it/s]\n",
            "Val Loss: 0.4461: 100%|██████████| 7/7 [00:01<00:00,  5.30it/s]\n"
          ]
        },
        {
          "name": "stdout",
          "output_type": "stream",
          "text": [
            "Epoch 92 | Train Loss: 0.4066 | Train F1: 0.8521 | Val Loss: 0.6459 | Val F1: 0.8150\n"
          ]
        },
        {
          "name": "stderr",
          "output_type": "stream",
          "text": [
            "Loss: 0.5459: 100%|██████████| 28/28 [00:05<00:00,  5.10it/s]\n",
            "Val Loss: 0.4360: 100%|██████████| 7/7 [00:01<00:00,  5.25it/s]\n"
          ]
        },
        {
          "name": "stdout",
          "output_type": "stream",
          "text": [
            "Epoch 93 | Train Loss: 0.3803 | Train F1: 0.8448 | Val Loss: 0.6873 | Val F1: 0.8118\n"
          ]
        },
        {
          "name": "stderr",
          "output_type": "stream",
          "text": [
            "Loss: 0.2328: 100%|██████████| 28/28 [00:05<00:00,  5.13it/s]\n",
            "Val Loss: 0.5861: 100%|██████████| 7/7 [00:01<00:00,  5.54it/s]\n"
          ]
        },
        {
          "name": "stdout",
          "output_type": "stream",
          "text": [
            "Epoch 94 | Train Loss: 0.3188 | Train F1: 0.9235 | Val Loss: 0.7091 | Val F1: 0.8179\n"
          ]
        },
        {
          "name": "stderr",
          "output_type": "stream",
          "text": [
            "Loss: 0.2196: 100%|██████████| 28/28 [00:05<00:00,  5.14it/s]\n",
            "Val Loss: 0.3547: 100%|██████████| 7/7 [00:01<00:00,  5.21it/s]\n"
          ]
        },
        {
          "name": "stdout",
          "output_type": "stream",
          "text": [
            "Epoch 95 | Train Loss: 0.3779 | Train F1: 0.8719 | Val Loss: 0.6041 | Val F1: 0.8402\n"
          ]
        },
        {
          "name": "stderr",
          "output_type": "stream",
          "text": [
            "Loss: 0.8633: 100%|██████████| 28/28 [00:05<00:00,  5.15it/s]\n",
            "Val Loss: 0.6822: 100%|██████████| 7/7 [00:01<00:00,  5.42it/s]\n"
          ]
        },
        {
          "name": "stdout",
          "output_type": "stream",
          "text": [
            "Epoch 96 | Train Loss: 0.3448 | Train F1: 0.8887 | Val Loss: 0.6757 | Val F1: 0.8106\n"
          ]
        },
        {
          "name": "stderr",
          "output_type": "stream",
          "text": [
            "Loss: 0.2023: 100%|██████████| 28/28 [00:05<00:00,  5.24it/s]\n",
            "Val Loss: 0.4320: 100%|██████████| 7/7 [00:01<00:00,  5.42it/s]\n"
          ]
        },
        {
          "name": "stdout",
          "output_type": "stream",
          "text": [
            "Epoch 97 | Train Loss: 0.3840 | Train F1: 0.8951 | Val Loss: 0.6408 | Val F1: 0.8256\n"
          ]
        },
        {
          "name": "stderr",
          "output_type": "stream",
          "text": [
            "Loss: 0.3018: 100%|██████████| 28/28 [00:05<00:00,  5.15it/s]\n",
            "Val Loss: 0.4156: 100%|██████████| 7/7 [00:01<00:00,  5.46it/s]\n"
          ]
        },
        {
          "name": "stdout",
          "output_type": "stream",
          "text": [
            "Epoch 98 | Train Loss: 0.3877 | Train F1: 0.8678 | Val Loss: 0.6601 | Val F1: 0.8368\n"
          ]
        },
        {
          "name": "stderr",
          "output_type": "stream",
          "text": [
            "Loss: 0.2024: 100%|██████████| 28/28 [00:05<00:00,  5.12it/s]\n",
            "Val Loss: 0.6562: 100%|██████████| 7/7 [00:01<00:00,  5.29it/s]\n"
          ]
        },
        {
          "name": "stdout",
          "output_type": "stream",
          "text": [
            "Epoch 99 | Train Loss: 0.4076 | Train F1: 0.9241 | Val Loss: 0.6932 | Val F1: 0.8154\n"
          ]
        },
        {
          "name": "stderr",
          "output_type": "stream",
          "text": [
            "Loss: 0.4805: 100%|██████████| 28/28 [00:05<00:00,  5.19it/s]\n",
            "Val Loss: 0.5475: 100%|██████████| 7/7 [00:01<00:00,  5.30it/s]\n"
          ]
        },
        {
          "name": "stdout",
          "output_type": "stream",
          "text": [
            "Epoch 100 | Train Loss: 0.4070 | Train F1: 0.9202 | Val Loss: 0.6623 | Val F1: 0.7900\n",
            "Subset Fold 1 Best Validation F1: 0.8820\n",
            "\n",
            "==================================================\n",
            "SUBSET FOLD 2/5\n",
            "==================================================\n",
            "Train samples: 280, Validation samples: 70\n"
          ]
        },
        {
          "name": "stderr",
          "output_type": "stream",
          "text": [
            "Loss: 1.4121: 100%|██████████| 28/28 [00:05<00:00,  4.92it/s]\n",
            "Val Loss: 1.3011: 100%|██████████| 7/7 [00:01<00:00,  5.15it/s]\n"
          ]
        },
        {
          "name": "stdout",
          "output_type": "stream",
          "text": [
            "Epoch  1 | Train Loss: 1.4372 | Train F1: 0.2642 | Val Loss: 1.3635 | Val F1: 0.1546\n"
          ]
        },
        {
          "name": "stderr",
          "output_type": "stream",
          "text": [
            "Loss: 1.4766: 100%|██████████| 28/28 [00:05<00:00,  5.10it/s]\n",
            "Val Loss: 1.2191: 100%|██████████| 7/7 [00:01<00:00,  5.07it/s]\n"
          ]
        },
        {
          "name": "stdout",
          "output_type": "stream",
          "text": [
            "Epoch  2 | Train Loss: 1.3764 | Train F1: 0.2495 | Val Loss: 1.3214 | Val F1: 0.2025\n"
          ]
        },
        {
          "name": "stderr",
          "output_type": "stream",
          "text": [
            "Loss: 1.2510: 100%|██████████| 28/28 [00:05<00:00,  5.10it/s]\n",
            "Val Loss: 1.0769: 100%|██████████| 7/7 [00:01<00:00,  5.12it/s]\n"
          ]
        },
        {
          "name": "stdout",
          "output_type": "stream",
          "text": [
            "Epoch  3 | Train Loss: 1.2540 | Train F1: 0.3350 | Val Loss: 1.1723 | Val F1: 0.4618\n"
          ]
        },
        {
          "name": "stderr",
          "output_type": "stream",
          "text": [
            "Loss: 1.2529: 100%|██████████| 28/28 [00:05<00:00,  5.10it/s]\n",
            "Val Loss: 1.2645: 100%|██████████| 7/7 [00:01<00:00,  5.30it/s]\n"
          ]
        },
        {
          "name": "stdout",
          "output_type": "stream",
          "text": [
            "Epoch  4 | Train Loss: 1.1603 | Train F1: 0.4707 | Val Loss: 1.1424 | Val F1: 0.4129\n"
          ]
        },
        {
          "name": "stderr",
          "output_type": "stream",
          "text": [
            "Loss: 1.0293: 100%|██████████| 28/28 [00:05<00:00,  5.03it/s]\n",
            "Val Loss: 1.2121: 100%|██████████| 7/7 [00:01<00:00,  5.17it/s]\n"
          ]
        },
        {
          "name": "stdout",
          "output_type": "stream",
          "text": [
            "Epoch  5 | Train Loss: 1.2107 | Train F1: 0.4249 | Val Loss: 1.1195 | Val F1: 0.4571\n"
          ]
        },
        {
          "name": "stderr",
          "output_type": "stream",
          "text": [
            "Loss: 1.0498: 100%|██████████| 28/28 [00:05<00:00,  5.10it/s]\n",
            "Val Loss: 1.0747: 100%|██████████| 7/7 [00:01<00:00,  5.20it/s]\n"
          ]
        },
        {
          "name": "stdout",
          "output_type": "stream",
          "text": [
            "Epoch  6 | Train Loss: 1.0933 | Train F1: 0.4496 | Val Loss: 1.1712 | Val F1: 0.4611\n"
          ]
        },
        {
          "name": "stderr",
          "output_type": "stream",
          "text": [
            "Loss: 0.7427: 100%|██████████| 28/28 [00:05<00:00,  5.12it/s]\n",
            "Val Loss: 0.9740: 100%|██████████| 7/7 [00:01<00:00,  5.03it/s]\n"
          ]
        },
        {
          "name": "stdout",
          "output_type": "stream",
          "text": [
            "Epoch  7 | Train Loss: 1.0723 | Train F1: 0.5484 | Val Loss: 1.0276 | Val F1: 0.5152\n"
          ]
        },
        {
          "name": "stderr",
          "output_type": "stream",
          "text": [
            "Loss: 0.7881: 100%|██████████| 28/28 [00:05<00:00,  5.10it/s]\n",
            "Val Loss: 1.2184: 100%|██████████| 7/7 [00:01<00:00,  5.06it/s]\n"
          ]
        },
        {
          "name": "stdout",
          "output_type": "stream",
          "text": [
            "Epoch  8 | Train Loss: 0.9944 | Train F1: 0.5220 | Val Loss: 0.9512 | Val F1: 0.5866\n"
          ]
        },
        {
          "name": "stderr",
          "output_type": "stream",
          "text": [
            "Loss: 1.0137: 100%|██████████| 28/28 [00:05<00:00,  5.06it/s]\n",
            "Val Loss: 0.8189: 100%|██████████| 7/7 [00:01<00:00,  5.05it/s]\n"
          ]
        },
        {
          "name": "stdout",
          "output_type": "stream",
          "text": [
            "Epoch  9 | Train Loss: 1.0398 | Train F1: 0.5312 | Val Loss: 1.0654 | Val F1: 0.5365\n"
          ]
        },
        {
          "name": "stderr",
          "output_type": "stream",
          "text": [
            "Loss: 0.8350: 100%|██████████| 28/28 [00:05<00:00,  5.06it/s]\n",
            "Val Loss: 0.6988: 100%|██████████| 7/7 [00:01<00:00,  5.12it/s]\n"
          ]
        },
        {
          "name": "stdout",
          "output_type": "stream",
          "text": [
            "Epoch 10 | Train Loss: 0.8801 | Train F1: 0.6553 | Val Loss: 0.7933 | Val F1: 0.6708\n"
          ]
        },
        {
          "name": "stderr",
          "output_type": "stream",
          "text": [
            "Loss: 0.7886: 100%|██████████| 28/28 [00:05<00:00,  5.13it/s]\n",
            "Val Loss: 0.7726: 100%|██████████| 7/7 [00:01<00:00,  4.94it/s]\n"
          ]
        },
        {
          "name": "stdout",
          "output_type": "stream",
          "text": [
            "Epoch 11 | Train Loss: 0.8513 | Train F1: 0.6520 | Val Loss: 0.7917 | Val F1: 0.7139\n"
          ]
        },
        {
          "name": "stderr",
          "output_type": "stream",
          "text": [
            "Loss: 0.5396: 100%|██████████| 28/28 [00:05<00:00,  5.14it/s]\n",
            "Val Loss: 0.6946: 100%|██████████| 7/7 [00:01<00:00,  5.10it/s]\n"
          ]
        },
        {
          "name": "stdout",
          "output_type": "stream",
          "text": [
            "Epoch 12 | Train Loss: 0.7832 | Train F1: 0.6729 | Val Loss: 0.8483 | Val F1: 0.6433\n"
          ]
        },
        {
          "name": "stderr",
          "output_type": "stream",
          "text": [
            "Loss: 0.6113: 100%|██████████| 28/28 [00:05<00:00,  5.12it/s]\n",
            "Val Loss: 0.8115: 100%|██████████| 7/7 [00:01<00:00,  5.05it/s]\n"
          ]
        },
        {
          "name": "stdout",
          "output_type": "stream",
          "text": [
            "Epoch 13 | Train Loss: 0.7593 | Train F1: 0.6940 | Val Loss: 0.7849 | Val F1: 0.6900\n"
          ]
        },
        {
          "name": "stderr",
          "output_type": "stream",
          "text": [
            "Loss: 0.8311: 100%|██████████| 28/28 [00:05<00:00,  5.08it/s]\n",
            "Val Loss: 0.7175: 100%|██████████| 7/7 [00:01<00:00,  5.28it/s]\n"
          ]
        },
        {
          "name": "stdout",
          "output_type": "stream",
          "text": [
            "Epoch 14 | Train Loss: 0.7603 | Train F1: 0.6985 | Val Loss: 0.6862 | Val F1: 0.7308\n"
          ]
        },
        {
          "name": "stderr",
          "output_type": "stream",
          "text": [
            "Loss: 0.8755: 100%|██████████| 28/28 [00:05<00:00,  5.06it/s]\n",
            "Val Loss: 0.7844: 100%|██████████| 7/7 [00:01<00:00,  5.02it/s]\n"
          ]
        },
        {
          "name": "stdout",
          "output_type": "stream",
          "text": [
            "Epoch 15 | Train Loss: 0.7499 | Train F1: 0.7252 | Val Loss: 0.8018 | Val F1: 0.6889\n"
          ]
        },
        {
          "name": "stderr",
          "output_type": "stream",
          "text": [
            "Loss: 0.4988: 100%|██████████| 28/28 [00:05<00:00,  5.09it/s]\n",
            "Val Loss: 0.9379: 100%|██████████| 7/7 [00:01<00:00,  5.30it/s]\n"
          ]
        },
        {
          "name": "stdout",
          "output_type": "stream",
          "text": [
            "Epoch 16 | Train Loss: 0.7560 | Train F1: 0.7341 | Val Loss: 0.7818 | Val F1: 0.6802\n"
          ]
        },
        {
          "name": "stderr",
          "output_type": "stream",
          "text": [
            "Loss: 0.6064: 100%|██████████| 28/28 [00:05<00:00,  5.13it/s]\n",
            "Val Loss: 0.9381: 100%|██████████| 7/7 [00:01<00:00,  5.03it/s]\n"
          ]
        },
        {
          "name": "stdout",
          "output_type": "stream",
          "text": [
            "Epoch 17 | Train Loss: 0.6653 | Train F1: 0.7665 | Val Loss: 0.9385 | Val F1: 0.7128\n"
          ]
        },
        {
          "name": "stderr",
          "output_type": "stream",
          "text": [
            "Loss: 0.5757: 100%|██████████| 28/28 [00:05<00:00,  5.13it/s]\n",
            "Val Loss: 0.7266: 100%|██████████| 7/7 [00:01<00:00,  4.95it/s]\n"
          ]
        },
        {
          "name": "stdout",
          "output_type": "stream",
          "text": [
            "Epoch 18 | Train Loss: 0.7022 | Train F1: 0.7049 | Val Loss: 0.6981 | Val F1: 0.7785\n"
          ]
        },
        {
          "name": "stderr",
          "output_type": "stream",
          "text": [
            "Loss: 0.6084: 100%|██████████| 28/28 [00:05<00:00,  5.16it/s]\n",
            "Val Loss: 0.6461: 100%|██████████| 7/7 [00:01<00:00,  5.04it/s]\n"
          ]
        },
        {
          "name": "stdout",
          "output_type": "stream",
          "text": [
            "Epoch 19 | Train Loss: 0.5751 | Train F1: 0.7855 | Val Loss: 0.6886 | Val F1: 0.7651\n"
          ]
        },
        {
          "name": "stderr",
          "output_type": "stream",
          "text": [
            "Loss: 0.4302: 100%|██████████| 28/28 [00:05<00:00,  5.17it/s]\n",
            "Val Loss: 0.7784: 100%|██████████| 7/7 [00:01<00:00,  5.06it/s]\n"
          ]
        },
        {
          "name": "stdout",
          "output_type": "stream",
          "text": [
            "Epoch 20 | Train Loss: 0.6558 | Train F1: 0.7644 | Val Loss: 0.7179 | Val F1: 0.7871\n"
          ]
        },
        {
          "name": "stderr",
          "output_type": "stream",
          "text": [
            "Loss: 0.8271: 100%|██████████| 28/28 [00:05<00:00,  5.11it/s]\n",
            "Val Loss: 0.8269: 100%|██████████| 7/7 [00:01<00:00,  5.13it/s]\n"
          ]
        },
        {
          "name": "stdout",
          "output_type": "stream",
          "text": [
            "Epoch 21 | Train Loss: 0.6566 | Train F1: 0.8188 | Val Loss: 0.7799 | Val F1: 0.7537\n"
          ]
        },
        {
          "name": "stderr",
          "output_type": "stream",
          "text": [
            "Loss: 1.0215: 100%|██████████| 28/28 [00:05<00:00,  5.11it/s]\n",
            "Val Loss: 0.8549: 100%|██████████| 7/7 [00:01<00:00,  5.21it/s]\n"
          ]
        },
        {
          "name": "stdout",
          "output_type": "stream",
          "text": [
            "Epoch 22 | Train Loss: 0.6778 | Train F1: 0.7986 | Val Loss: 0.7487 | Val F1: 0.7408\n"
          ]
        },
        {
          "name": "stderr",
          "output_type": "stream",
          "text": [
            "Loss: 0.4338: 100%|██████████| 28/28 [00:05<00:00,  5.07it/s]\n",
            "Val Loss: 0.9088: 100%|██████████| 7/7 [00:01<00:00,  5.31it/s]\n"
          ]
        },
        {
          "name": "stdout",
          "output_type": "stream",
          "text": [
            "Epoch 23 | Train Loss: 0.6393 | Train F1: 0.7732 | Val Loss: 0.7267 | Val F1: 0.7238\n"
          ]
        },
        {
          "name": "stderr",
          "output_type": "stream",
          "text": [
            "Loss: 0.3477: 100%|██████████| 28/28 [00:05<00:00,  5.18it/s]\n",
            "Val Loss: 0.7488: 100%|██████████| 7/7 [00:01<00:00,  5.31it/s]\n"
          ]
        },
        {
          "name": "stdout",
          "output_type": "stream",
          "text": [
            "Epoch 24 | Train Loss: 0.5218 | Train F1: 0.8299 | Val Loss: 0.8098 | Val F1: 0.7033\n"
          ]
        },
        {
          "name": "stderr",
          "output_type": "stream",
          "text": [
            "Loss: 0.6953: 100%|██████████| 28/28 [00:05<00:00,  5.11it/s]\n",
            "Val Loss: 0.7782: 100%|██████████| 7/7 [00:01<00:00,  5.07it/s]\n"
          ]
        },
        {
          "name": "stdout",
          "output_type": "stream",
          "text": [
            "Epoch 25 | Train Loss: 0.5901 | Train F1: 0.8581 | Val Loss: 0.9184 | Val F1: 0.7269\n"
          ]
        },
        {
          "name": "stderr",
          "output_type": "stream",
          "text": [
            "Loss: 1.1318: 100%|██████████| 28/28 [00:05<00:00,  5.20it/s]\n",
            "Val Loss: 0.5331: 100%|██████████| 7/7 [00:01<00:00,  5.12it/s]\n"
          ]
        },
        {
          "name": "stdout",
          "output_type": "stream",
          "text": [
            "Epoch 26 | Train Loss: 0.5223 | Train F1: 0.7954 | Val Loss: 0.8571 | Val F1: 0.7479\n"
          ]
        },
        {
          "name": "stderr",
          "output_type": "stream",
          "text": [
            "Loss: 0.3716: 100%|██████████| 28/28 [00:05<00:00,  5.15it/s]\n",
            "Val Loss: 0.7178: 100%|██████████| 7/7 [00:01<00:00,  5.13it/s]\n"
          ]
        },
        {
          "name": "stdout",
          "output_type": "stream",
          "text": [
            "Epoch 27 | Train Loss: 0.5355 | Train F1: 0.8087 | Val Loss: 0.6948 | Val F1: 0.7784\n"
          ]
        },
        {
          "name": "stderr",
          "output_type": "stream",
          "text": [
            "Loss: 0.3418: 100%|██████████| 28/28 [00:05<00:00,  5.13it/s]\n",
            "Val Loss: 0.6426: 100%|██████████| 7/7 [00:01<00:00,  5.19it/s]\n"
          ]
        },
        {
          "name": "stdout",
          "output_type": "stream",
          "text": [
            "Epoch 28 | Train Loss: 0.4620 | Train F1: 0.8839 | Val Loss: 0.7251 | Val F1: 0.7998\n"
          ]
        },
        {
          "name": "stderr",
          "output_type": "stream",
          "text": [
            "Loss: 0.2759: 100%|██████████| 28/28 [00:05<00:00,  5.11it/s]\n",
            "Val Loss: 0.7281: 100%|██████████| 7/7 [00:01<00:00,  4.99it/s]\n"
          ]
        },
        {
          "name": "stdout",
          "output_type": "stream",
          "text": [
            "Epoch 29 | Train Loss: 0.3963 | Train F1: 0.9149 | Val Loss: 0.6858 | Val F1: 0.8415\n"
          ]
        },
        {
          "name": "stderr",
          "output_type": "stream",
          "text": [
            "Loss: 0.2952: 100%|██████████| 28/28 [00:05<00:00,  5.14it/s]\n",
            "Val Loss: 0.6128: 100%|██████████| 7/7 [00:01<00:00,  5.37it/s]\n"
          ]
        },
        {
          "name": "stdout",
          "output_type": "stream",
          "text": [
            "Epoch 30 | Train Loss: 0.5194 | Train F1: 0.8732 | Val Loss: 0.7064 | Val F1: 0.7864\n"
          ]
        },
        {
          "name": "stderr",
          "output_type": "stream",
          "text": [
            "Loss: 0.2383: 100%|██████████| 28/28 [00:05<00:00,  5.14it/s]\n",
            "Val Loss: 0.9356: 100%|██████████| 7/7 [00:01<00:00,  5.18it/s]\n"
          ]
        },
        {
          "name": "stdout",
          "output_type": "stream",
          "text": [
            "Epoch 31 | Train Loss: 0.4738 | Train F1: 0.8608 | Val Loss: 0.7533 | Val F1: 0.7907\n"
          ]
        },
        {
          "name": "stderr",
          "output_type": "stream",
          "text": [
            "Loss: 0.6416: 100%|██████████| 28/28 [00:05<00:00,  5.14it/s]\n",
            "Val Loss: 1.0085: 100%|██████████| 7/7 [00:01<00:00,  5.30it/s]\n"
          ]
        },
        {
          "name": "stdout",
          "output_type": "stream",
          "text": [
            "Epoch 32 | Train Loss: 0.5579 | Train F1: 0.7860 | Val Loss: 0.7954 | Val F1: 0.7299\n"
          ]
        },
        {
          "name": "stderr",
          "output_type": "stream",
          "text": [
            "Loss: 0.2773: 100%|██████████| 28/28 [00:05<00:00,  5.05it/s]\n",
            "Val Loss: 0.7472: 100%|██████████| 7/7 [00:01<00:00,  5.09it/s]\n"
          ]
        },
        {
          "name": "stdout",
          "output_type": "stream",
          "text": [
            "Epoch 33 | Train Loss: 0.4601 | Train F1: 0.8934 | Val Loss: 0.7737 | Val F1: 0.7844\n"
          ]
        },
        {
          "name": "stderr",
          "output_type": "stream",
          "text": [
            "Loss: 0.2456: 100%|██████████| 28/28 [00:05<00:00,  5.09it/s]\n",
            "Val Loss: 0.5067: 100%|██████████| 7/7 [00:01<00:00,  5.18it/s]\n"
          ]
        },
        {
          "name": "stdout",
          "output_type": "stream",
          "text": [
            "Epoch 34 | Train Loss: 0.4688 | Train F1: 0.8634 | Val Loss: 0.6985 | Val F1: 0.7539\n"
          ]
        },
        {
          "name": "stderr",
          "output_type": "stream",
          "text": [
            "Loss: 0.8604: 100%|██████████| 28/28 [00:05<00:00,  5.06it/s]\n",
            "Val Loss: 0.3825: 100%|██████████| 7/7 [00:01<00:00,  5.26it/s]\n"
          ]
        },
        {
          "name": "stdout",
          "output_type": "stream",
          "text": [
            "Epoch 35 | Train Loss: 0.4955 | Train F1: 0.8745 | Val Loss: 0.6481 | Val F1: 0.8527\n"
          ]
        },
        {
          "name": "stderr",
          "output_type": "stream",
          "text": [
            "Loss: 0.3340: 100%|██████████| 28/28 [00:05<00:00,  5.07it/s]\n",
            "Val Loss: 0.8317: 100%|██████████| 7/7 [00:01<00:00,  5.01it/s]\n"
          ]
        },
        {
          "name": "stdout",
          "output_type": "stream",
          "text": [
            "Epoch 36 | Train Loss: 0.3875 | Train F1: 0.8593 | Val Loss: 0.7306 | Val F1: 0.8157\n"
          ]
        },
        {
          "name": "stderr",
          "output_type": "stream",
          "text": [
            "Loss: 0.4314: 100%|██████████| 28/28 [00:05<00:00,  5.08it/s]\n",
            "Val Loss: 0.3785: 100%|██████████| 7/7 [00:01<00:00,  5.15it/s]\n"
          ]
        },
        {
          "name": "stdout",
          "output_type": "stream",
          "text": [
            "Epoch 37 | Train Loss: 0.5304 | Train F1: 0.8292 | Val Loss: 0.5419 | Val F1: 0.8505\n"
          ]
        },
        {
          "name": "stderr",
          "output_type": "stream",
          "text": [
            "Loss: 0.9756: 100%|██████████| 28/28 [00:05<00:00,  5.06it/s]\n",
            "Val Loss: 0.8347: 100%|██████████| 7/7 [00:01<00:00,  5.16it/s]\n"
          ]
        },
        {
          "name": "stdout",
          "output_type": "stream",
          "text": [
            "Epoch 38 | Train Loss: 0.4348 | Train F1: 0.8875 | Val Loss: 0.7273 | Val F1: 0.8145\n"
          ]
        },
        {
          "name": "stderr",
          "output_type": "stream",
          "text": [
            "Loss: 0.4312: 100%|██████████| 28/28 [00:05<00:00,  5.08it/s]\n",
            "Val Loss: 0.4061: 100%|██████████| 7/7 [00:01<00:00,  5.11it/s]\n"
          ]
        },
        {
          "name": "stdout",
          "output_type": "stream",
          "text": [
            "Epoch 39 | Train Loss: 0.3583 | Train F1: 0.8828 | Val Loss: 0.5620 | Val F1: 0.8879\n"
          ]
        },
        {
          "name": "stderr",
          "output_type": "stream",
          "text": [
            "Loss: 0.6572: 100%|██████████| 28/28 [00:05<00:00,  5.11it/s]\n",
            "Val Loss: 0.5500: 100%|██████████| 7/7 [00:01<00:00,  5.16it/s]\n"
          ]
        },
        {
          "name": "stdout",
          "output_type": "stream",
          "text": [
            "Epoch 40 | Train Loss: 0.4302 | Train F1: 0.9262 | Val Loss: 0.6451 | Val F1: 0.8202\n"
          ]
        },
        {
          "name": "stderr",
          "output_type": "stream",
          "text": [
            "Loss: 0.2365: 100%|██████████| 28/28 [00:05<00:00,  5.14it/s]\n",
            "Val Loss: 0.5289: 100%|██████████| 7/7 [00:01<00:00,  5.17it/s]\n"
          ]
        },
        {
          "name": "stdout",
          "output_type": "stream",
          "text": [
            "Epoch 41 | Train Loss: 0.4493 | Train F1: 0.8931 | Val Loss: 0.5994 | Val F1: 0.8225\n"
          ]
        },
        {
          "name": "stderr",
          "output_type": "stream",
          "text": [
            "Loss: 0.2510: 100%|██████████| 28/28 [00:05<00:00,  5.08it/s]\n",
            "Val Loss: 0.4512: 100%|██████████| 7/7 [00:01<00:00,  5.09it/s]\n"
          ]
        },
        {
          "name": "stdout",
          "output_type": "stream",
          "text": [
            "Epoch 42 | Train Loss: 0.5362 | Train F1: 0.8147 | Val Loss: 0.5994 | Val F1: 0.8666\n"
          ]
        },
        {
          "name": "stderr",
          "output_type": "stream",
          "text": [
            "Loss: 0.2290: 100%|██████████| 28/28 [00:05<00:00,  5.15it/s]\n",
            "Val Loss: 0.6024: 100%|██████████| 7/7 [00:01<00:00,  5.19it/s]\n"
          ]
        },
        {
          "name": "stdout",
          "output_type": "stream",
          "text": [
            "Epoch 43 | Train Loss: 0.5005 | Train F1: 0.8765 | Val Loss: 0.5816 | Val F1: 0.8380\n"
          ]
        },
        {
          "name": "stderr",
          "output_type": "stream",
          "text": [
            "Loss: 0.2827: 100%|██████████| 28/28 [00:05<00:00,  5.12it/s]\n",
            "Val Loss: 0.9547: 100%|██████████| 7/7 [00:01<00:00,  5.05it/s]\n"
          ]
        },
        {
          "name": "stdout",
          "output_type": "stream",
          "text": [
            "Epoch 44 | Train Loss: 0.3736 | Train F1: 0.8832 | Val Loss: 0.7109 | Val F1: 0.8486\n"
          ]
        },
        {
          "name": "stderr",
          "output_type": "stream",
          "text": [
            "Loss: 0.3682: 100%|██████████| 28/28 [00:05<00:00,  5.05it/s]\n",
            "Val Loss: 0.7455: 100%|██████████| 7/7 [00:01<00:00,  5.05it/s]\n"
          ]
        },
        {
          "name": "stdout",
          "output_type": "stream",
          "text": [
            "Epoch 45 | Train Loss: 0.4117 | Train F1: 0.9149 | Val Loss: 0.6510 | Val F1: 0.8423\n"
          ]
        },
        {
          "name": "stderr",
          "output_type": "stream",
          "text": [
            "Loss: 0.3926: 100%|██████████| 28/28 [00:05<00:00,  5.10it/s]\n",
            "Val Loss: 0.4191: 100%|██████████| 7/7 [00:01<00:00,  5.25it/s]\n"
          ]
        },
        {
          "name": "stdout",
          "output_type": "stream",
          "text": [
            "Epoch 46 | Train Loss: 0.4457 | Train F1: 0.8405 | Val Loss: 0.6111 | Val F1: 0.8360\n"
          ]
        },
        {
          "name": "stderr",
          "output_type": "stream",
          "text": [
            "Loss: 0.5684: 100%|██████████| 28/28 [00:05<00:00,  5.14it/s]\n",
            "Val Loss: 0.6180: 100%|██████████| 7/7 [00:01<00:00,  5.08it/s]\n"
          ]
        },
        {
          "name": "stdout",
          "output_type": "stream",
          "text": [
            "Epoch 47 | Train Loss: 0.4934 | Train F1: 0.8463 | Val Loss: 0.5772 | Val F1: 0.8423\n"
          ]
        },
        {
          "name": "stderr",
          "output_type": "stream",
          "text": [
            "Loss: 0.9756: 100%|██████████| 28/28 [00:05<00:00,  5.11it/s]\n",
            "Val Loss: 0.5657: 100%|██████████| 7/7 [00:01<00:00,  5.08it/s]\n"
          ]
        },
        {
          "name": "stdout",
          "output_type": "stream",
          "text": [
            "Epoch 48 | Train Loss: 0.4067 | Train F1: 0.8872 | Val Loss: 0.5435 | Val F1: 0.8678\n"
          ]
        },
        {
          "name": "stderr",
          "output_type": "stream",
          "text": [
            "Loss: 1.1289: 100%|██████████| 28/28 [00:05<00:00,  5.05it/s]\n",
            "Val Loss: 0.7661: 100%|██████████| 7/7 [00:01<00:00,  5.24it/s]\n"
          ]
        },
        {
          "name": "stdout",
          "output_type": "stream",
          "text": [
            "Epoch 49 | Train Loss: 0.4141 | Train F1: 0.8781 | Val Loss: 0.6557 | Val F1: 0.8413\n"
          ]
        },
        {
          "name": "stderr",
          "output_type": "stream",
          "text": [
            "Loss: 0.2332: 100%|██████████| 28/28 [00:05<00:00,  5.13it/s]\n",
            "Val Loss: 0.6390: 100%|██████████| 7/7 [00:01<00:00,  5.32it/s]\n"
          ]
        },
        {
          "name": "stdout",
          "output_type": "stream",
          "text": [
            "Epoch 50 | Train Loss: 0.4657 | Train F1: 0.8874 | Val Loss: 0.6564 | Val F1: 0.8359\n"
          ]
        },
        {
          "name": "stderr",
          "output_type": "stream",
          "text": [
            "Loss: 0.3271: 100%|██████████| 28/28 [00:05<00:00,  5.12it/s]\n",
            "Val Loss: 0.4356: 100%|██████████| 7/7 [00:01<00:00,  5.25it/s]\n"
          ]
        },
        {
          "name": "stdout",
          "output_type": "stream",
          "text": [
            "Epoch 51 | Train Loss: 0.4064 | Train F1: 0.8466 | Val Loss: 0.6134 | Val F1: 0.8471\n"
          ]
        },
        {
          "name": "stderr",
          "output_type": "stream",
          "text": [
            "Loss: 0.2173: 100%|██████████| 28/28 [00:05<00:00,  5.12it/s]\n",
            "Val Loss: 0.3891: 100%|██████████| 7/7 [00:01<00:00,  5.30it/s]\n"
          ]
        },
        {
          "name": "stdout",
          "output_type": "stream",
          "text": [
            "Epoch 52 | Train Loss: 0.3850 | Train F1: 0.8455 | Val Loss: 0.4788 | Val F1: 0.8932\n"
          ]
        },
        {
          "name": "stderr",
          "output_type": "stream",
          "text": [
            "Loss: 0.2090: 100%|██████████| 28/28 [00:05<00:00,  5.11it/s]\n",
            "Val Loss: 0.5996: 100%|██████████| 7/7 [00:01<00:00,  4.99it/s]\n"
          ]
        },
        {
          "name": "stdout",
          "output_type": "stream",
          "text": [
            "Epoch 53 | Train Loss: 0.3875 | Train F1: 0.9213 | Val Loss: 0.5956 | Val F1: 0.8740\n"
          ]
        },
        {
          "name": "stderr",
          "output_type": "stream",
          "text": [
            "Loss: 0.2983: 100%|██████████| 28/28 [00:05<00:00,  5.12it/s]\n",
            "Val Loss: 0.5879: 100%|██████████| 7/7 [00:01<00:00,  5.09it/s]\n"
          ]
        },
        {
          "name": "stdout",
          "output_type": "stream",
          "text": [
            "Epoch 54 | Train Loss: 0.4584 | Train F1: 0.8686 | Val Loss: 0.5657 | Val F1: 0.8321\n"
          ]
        },
        {
          "name": "stderr",
          "output_type": "stream",
          "text": [
            "Loss: 0.3296: 100%|██████████| 28/28 [00:05<00:00,  5.06it/s]\n",
            "Val Loss: 0.4456: 100%|██████████| 7/7 [00:01<00:00,  5.03it/s]\n"
          ]
        },
        {
          "name": "stdout",
          "output_type": "stream",
          "text": [
            "Epoch 55 | Train Loss: 0.4263 | Train F1: 0.8952 | Val Loss: 0.5107 | Val F1: 0.8817\n"
          ]
        },
        {
          "name": "stderr",
          "output_type": "stream",
          "text": [
            "Loss: 0.3708: 100%|██████████| 28/28 [00:05<00:00,  5.10it/s]\n",
            "Val Loss: 0.4946: 100%|██████████| 7/7 [00:01<00:00,  5.29it/s]\n"
          ]
        },
        {
          "name": "stdout",
          "output_type": "stream",
          "text": [
            "Epoch 56 | Train Loss: 0.3736 | Train F1: 0.9233 | Val Loss: 0.5180 | Val F1: 0.8641\n"
          ]
        },
        {
          "name": "stderr",
          "output_type": "stream",
          "text": [
            "Loss: 0.3225: 100%|██████████| 28/28 [00:05<00:00,  5.08it/s]\n",
            "Val Loss: 0.4610: 100%|██████████| 7/7 [00:01<00:00,  5.12it/s]\n"
          ]
        },
        {
          "name": "stdout",
          "output_type": "stream",
          "text": [
            "Epoch 57 | Train Loss: 0.4551 | Train F1: 0.8504 | Val Loss: 0.5356 | Val F1: 0.8275\n"
          ]
        },
        {
          "name": "stderr",
          "output_type": "stream",
          "text": [
            "Loss: 0.2260: 100%|██████████| 28/28 [00:05<00:00,  5.11it/s]\n",
            "Val Loss: 0.9104: 100%|██████████| 7/7 [00:01<00:00,  5.13it/s]\n"
          ]
        },
        {
          "name": "stdout",
          "output_type": "stream",
          "text": [
            "Epoch 58 | Train Loss: 0.4181 | Train F1: 0.8987 | Val Loss: 0.7616 | Val F1: 0.7997\n"
          ]
        },
        {
          "name": "stderr",
          "output_type": "stream",
          "text": [
            "Loss: 0.9595: 100%|██████████| 28/28 [00:05<00:00,  5.12it/s]\n",
            "Val Loss: 0.3857: 100%|██████████| 7/7 [00:01<00:00,  5.05it/s]\n"
          ]
        },
        {
          "name": "stdout",
          "output_type": "stream",
          "text": [
            "Epoch 59 | Train Loss: 0.4333 | Train F1: 0.8668 | Val Loss: 0.4958 | Val F1: 0.8736\n"
          ]
        },
        {
          "name": "stderr",
          "output_type": "stream",
          "text": [
            "Loss: 0.2114: 100%|██████████| 28/28 [00:05<00:00,  5.08it/s]\n",
            "Val Loss: 0.4658: 100%|██████████| 7/7 [00:01<00:00,  5.26it/s]\n"
          ]
        },
        {
          "name": "stdout",
          "output_type": "stream",
          "text": [
            "Epoch 60 | Train Loss: 0.4609 | Train F1: 0.8366 | Val Loss: 0.4911 | Val F1: 0.9059\n"
          ]
        },
        {
          "name": "stderr",
          "output_type": "stream",
          "text": [
            "Loss: 0.2186: 100%|██████████| 28/28 [00:05<00:00,  5.11it/s]\n",
            "Val Loss: 0.7356: 100%|██████████| 7/7 [00:01<00:00,  4.89it/s]\n"
          ]
        },
        {
          "name": "stdout",
          "output_type": "stream",
          "text": [
            "Epoch 61 | Train Loss: 0.4763 | Train F1: 0.8586 | Val Loss: 0.6001 | Val F1: 0.8634\n"
          ]
        },
        {
          "name": "stderr",
          "output_type": "stream",
          "text": [
            "Loss: 0.3438: 100%|██████████| 28/28 [00:05<00:00,  5.10it/s]\n",
            "Val Loss: 0.5804: 100%|██████████| 7/7 [00:01<00:00,  5.16it/s]\n"
          ]
        },
        {
          "name": "stdout",
          "output_type": "stream",
          "text": [
            "Epoch 62 | Train Loss: 0.3698 | Train F1: 0.8861 | Val Loss: 0.5721 | Val F1: 0.8486\n"
          ]
        },
        {
          "name": "stderr",
          "output_type": "stream",
          "text": [
            "Loss: 0.3882: 100%|██████████| 28/28 [00:05<00:00,  5.13it/s]\n",
            "Val Loss: 0.6956: 100%|██████████| 7/7 [00:01<00:00,  5.07it/s]\n"
          ]
        },
        {
          "name": "stdout",
          "output_type": "stream",
          "text": [
            "Epoch 63 | Train Loss: 0.4347 | Train F1: 0.8562 | Val Loss: 0.5759 | Val F1: 0.8656\n"
          ]
        },
        {
          "name": "stderr",
          "output_type": "stream",
          "text": [
            "Loss: 0.4121: 100%|██████████| 28/28 [00:05<00:00,  5.09it/s]\n",
            "Val Loss: 0.4111: 100%|██████████| 7/7 [00:01<00:00,  4.96it/s]\n"
          ]
        },
        {
          "name": "stdout",
          "output_type": "stream",
          "text": [
            "Epoch 64 | Train Loss: 0.3460 | Train F1: 0.8826 | Val Loss: 0.5010 | Val F1: 0.8932\n"
          ]
        },
        {
          "name": "stderr",
          "output_type": "stream",
          "text": [
            "Loss: 0.3486: 100%|██████████| 28/28 [00:05<00:00,  5.11it/s]\n",
            "Val Loss: 0.5829: 100%|██████████| 7/7 [00:01<00:00,  5.11it/s]\n"
          ]
        },
        {
          "name": "stdout",
          "output_type": "stream",
          "text": [
            "Epoch 65 | Train Loss: 0.3914 | Train F1: 0.8776 | Val Loss: 0.5210 | Val F1: 0.9059\n"
          ]
        },
        {
          "name": "stderr",
          "output_type": "stream",
          "text": [
            "Loss: 0.3374: 100%|██████████| 28/28 [00:05<00:00,  5.09it/s]\n",
            "Val Loss: 0.6124: 100%|██████████| 7/7 [00:01<00:00,  5.18it/s]\n"
          ]
        },
        {
          "name": "stdout",
          "output_type": "stream",
          "text": [
            "Epoch 66 | Train Loss: 0.3444 | Train F1: 0.9013 | Val Loss: 0.5333 | Val F1: 0.8614\n"
          ]
        },
        {
          "name": "stderr",
          "output_type": "stream",
          "text": [
            "Loss: 0.2072: 100%|██████████| 28/28 [00:05<00:00,  5.14it/s]\n",
            "Val Loss: 0.4736: 100%|██████████| 7/7 [00:01<00:00,  5.06it/s]\n"
          ]
        },
        {
          "name": "stdout",
          "output_type": "stream",
          "text": [
            "Epoch 67 | Train Loss: 0.4711 | Train F1: 0.8376 | Val Loss: 0.4823 | Val F1: 0.8487\n"
          ]
        },
        {
          "name": "stderr",
          "output_type": "stream",
          "text": [
            "Loss: 0.2048: 100%|██████████| 28/28 [00:05<00:00,  5.11it/s]\n",
            "Val Loss: 0.6458: 100%|██████████| 7/7 [00:01<00:00,  5.07it/s]\n"
          ]
        },
        {
          "name": "stdout",
          "output_type": "stream",
          "text": [
            "Epoch 68 | Train Loss: 0.4161 | Train F1: 0.8677 | Val Loss: 0.4818 | Val F1: 0.8802\n"
          ]
        },
        {
          "name": "stderr",
          "output_type": "stream",
          "text": [
            "Loss: 0.2074: 100%|██████████| 28/28 [00:05<00:00,  5.08it/s]\n",
            "Val Loss: 0.7030: 100%|██████████| 7/7 [00:01<00:00,  5.38it/s]\n"
          ]
        },
        {
          "name": "stdout",
          "output_type": "stream",
          "text": [
            "Epoch 69 | Train Loss: 0.4242 | Train F1: 0.8344 | Val Loss: 0.5232 | Val F1: 0.8804\n"
          ]
        },
        {
          "name": "stderr",
          "output_type": "stream",
          "text": [
            "Loss: 0.9980: 100%|██████████| 28/28 [00:05<00:00,  5.11it/s]\n",
            "Val Loss: 0.5592: 100%|██████████| 7/7 [00:01<00:00,  4.93it/s]\n"
          ]
        },
        {
          "name": "stdout",
          "output_type": "stream",
          "text": [
            "Epoch 70 | Train Loss: 0.4057 | Train F1: 0.8825 | Val Loss: 0.5165 | Val F1: 0.8678\n"
          ]
        },
        {
          "name": "stderr",
          "output_type": "stream",
          "text": [
            "Loss: 0.2700: 100%|██████████| 28/28 [00:05<00:00,  5.03it/s]\n",
            "Val Loss: 0.6217: 100%|██████████| 7/7 [00:01<00:00,  5.10it/s]\n"
          ]
        },
        {
          "name": "stdout",
          "output_type": "stream",
          "text": [
            "Epoch 71 | Train Loss: 0.4082 | Train F1: 0.9017 | Val Loss: 0.4994 | Val F1: 0.8932\n"
          ]
        },
        {
          "name": "stderr",
          "output_type": "stream",
          "text": [
            "Loss: 0.2120: 100%|██████████| 28/28 [00:05<00:00,  5.14it/s]\n",
            "Val Loss: 0.3472: 100%|██████████| 7/7 [00:01<00:00,  5.01it/s]\n"
          ]
        },
        {
          "name": "stdout",
          "output_type": "stream",
          "text": [
            "Epoch 72 | Train Loss: 0.2998 | Train F1: 0.9344 | Val Loss: 0.4859 | Val F1: 0.8806\n"
          ]
        },
        {
          "name": "stderr",
          "output_type": "stream",
          "text": [
            "Loss: 0.2057: 100%|██████████| 28/28 [00:05<00:00,  5.15it/s]\n",
            "Val Loss: 0.7796: 100%|██████████| 7/7 [00:01<00:00,  5.01it/s]\n"
          ]
        },
        {
          "name": "stdout",
          "output_type": "stream",
          "text": [
            "Epoch 73 | Train Loss: 0.3998 | Train F1: 0.8623 | Val Loss: 0.5225 | Val F1: 0.8932\n"
          ]
        },
        {
          "name": "stderr",
          "output_type": "stream",
          "text": [
            "Loss: 0.3489: 100%|██████████| 28/28 [00:05<00:00,  5.08it/s]\n",
            "Val Loss: 0.7818: 100%|██████████| 7/7 [00:01<00:00,  4.58it/s]\n"
          ]
        },
        {
          "name": "stdout",
          "output_type": "stream",
          "text": [
            "Epoch 74 | Train Loss: 0.2990 | Train F1: 0.9374 | Val Loss: 0.5808 | Val F1: 0.8478\n"
          ]
        },
        {
          "name": "stderr",
          "output_type": "stream",
          "text": [
            "Loss: 0.2097: 100%|██████████| 28/28 [00:05<00:00,  5.11it/s]\n",
            "Val Loss: 0.5012: 100%|██████████| 7/7 [00:01<00:00,  4.92it/s]\n"
          ]
        },
        {
          "name": "stdout",
          "output_type": "stream",
          "text": [
            "Epoch 75 | Train Loss: 0.4106 | Train F1: 0.8832 | Val Loss: 0.4752 | Val F1: 0.8994\n"
          ]
        },
        {
          "name": "stderr",
          "output_type": "stream",
          "text": [
            "Loss: 0.2191: 100%|██████████| 28/28 [00:05<00:00,  5.13it/s]\n",
            "Val Loss: 0.4296: 100%|██████████| 7/7 [00:01<00:00,  5.02it/s]\n"
          ]
        },
        {
          "name": "stdout",
          "output_type": "stream",
          "text": [
            "Epoch 76 | Train Loss: 0.3059 | Train F1: 0.9235 | Val Loss: 0.5050 | Val F1: 0.8989\n"
          ]
        },
        {
          "name": "stderr",
          "output_type": "stream",
          "text": [
            "Loss: 0.2031: 100%|██████████| 28/28 [00:05<00:00,  5.12it/s]\n",
            "Val Loss: 0.5964: 100%|██████████| 7/7 [00:01<00:00,  4.96it/s]\n"
          ]
        },
        {
          "name": "stdout",
          "output_type": "stream",
          "text": [
            "Epoch 77 | Train Loss: 0.4040 | Train F1: 0.8582 | Val Loss: 0.5009 | Val F1: 0.8806\n"
          ]
        },
        {
          "name": "stderr",
          "output_type": "stream",
          "text": [
            "Loss: 0.2043: 100%|██████████| 28/28 [00:05<00:00,  5.13it/s]\n",
            "Val Loss: 0.5076: 100%|██████████| 7/7 [00:01<00:00,  5.05it/s]\n"
          ]
        },
        {
          "name": "stdout",
          "output_type": "stream",
          "text": [
            "Epoch 78 | Train Loss: 0.4035 | Train F1: 0.8408 | Val Loss: 0.4896 | Val F1: 0.8932\n"
          ]
        },
        {
          "name": "stderr",
          "output_type": "stream",
          "text": [
            "Loss: 0.2410: 100%|██████████| 28/28 [00:05<00:00,  5.09it/s]\n",
            "Val Loss: 0.6128: 100%|██████████| 7/7 [00:01<00:00,  5.05it/s]\n"
          ]
        },
        {
          "name": "stdout",
          "output_type": "stream",
          "text": [
            "Epoch 79 | Train Loss: 0.3229 | Train F1: 0.9338 | Val Loss: 0.4957 | Val F1: 0.8802\n"
          ]
        },
        {
          "name": "stderr",
          "output_type": "stream",
          "text": [
            "Loss: 0.2129: 100%|██████████| 28/28 [00:05<00:00,  5.11it/s]\n",
            "Val Loss: 0.7370: 100%|██████████| 7/7 [00:01<00:00,  5.10it/s]\n"
          ]
        },
        {
          "name": "stdout",
          "output_type": "stream",
          "text": [
            "Epoch 80 | Train Loss: 0.2959 | Train F1: 0.9172 | Val Loss: 0.5377 | Val F1: 0.8678\n"
          ]
        },
        {
          "name": "stderr",
          "output_type": "stream",
          "text": [
            "Loss: 0.2045: 100%|██████████| 28/28 [00:05<00:00,  5.13it/s]\n",
            "Val Loss: 0.6754: 100%|██████████| 7/7 [00:01<00:00,  5.29it/s]\n"
          ]
        },
        {
          "name": "stdout",
          "output_type": "stream",
          "text": [
            "Epoch 81 | Train Loss: 0.3083 | Train F1: 0.9370 | Val Loss: 0.5942 | Val F1: 0.8679\n"
          ]
        },
        {
          "name": "stderr",
          "output_type": "stream",
          "text": [
            "Loss: 0.2031: 100%|██████████| 28/28 [00:05<00:00,  5.06it/s]\n",
            "Val Loss: 0.7107: 100%|██████████| 7/7 [00:01<00:00,  5.21it/s]\n"
          ]
        },
        {
          "name": "stdout",
          "output_type": "stream",
          "text": [
            "Epoch 82 | Train Loss: 0.3632 | Train F1: 0.9106 | Val Loss: 0.5529 | Val F1: 0.8678\n"
          ]
        },
        {
          "name": "stderr",
          "output_type": "stream",
          "text": [
            "Loss: 0.5488: 100%|██████████| 28/28 [00:05<00:00,  5.15it/s]\n",
            "Val Loss: 0.7526: 100%|██████████| 7/7 [00:01<00:00,  5.03it/s]\n"
          ]
        },
        {
          "name": "stdout",
          "output_type": "stream",
          "text": [
            "Epoch 83 | Train Loss: 0.4739 | Train F1: 0.8467 | Val Loss: 0.5185 | Val F1: 0.8867\n"
          ]
        },
        {
          "name": "stderr",
          "output_type": "stream",
          "text": [
            "Loss: 0.2036: 100%|██████████| 28/28 [00:05<00:00,  5.06it/s]\n",
            "Val Loss: 0.5009: 100%|██████████| 7/7 [00:01<00:00,  5.26it/s]\n"
          ]
        },
        {
          "name": "stdout",
          "output_type": "stream",
          "text": [
            "Epoch 84 | Train Loss: 0.3915 | Train F1: 0.8481 | Val Loss: 0.4965 | Val F1: 0.8806\n"
          ]
        },
        {
          "name": "stderr",
          "output_type": "stream",
          "text": [
            "Loss: 0.3318: 100%|██████████| 28/28 [00:05<00:00,  5.15it/s]\n",
            "Val Loss: 0.4144: 100%|██████████| 7/7 [00:01<00:00,  4.86it/s]\n"
          ]
        },
        {
          "name": "stdout",
          "output_type": "stream",
          "text": [
            "Epoch 85 | Train Loss: 0.2896 | Train F1: 0.9376 | Val Loss: 0.5086 | Val F1: 0.9057\n"
          ]
        },
        {
          "name": "stderr",
          "output_type": "stream",
          "text": [
            "Loss: 0.2817: 100%|██████████| 28/28 [00:05<00:00,  5.15it/s]\n",
            "Val Loss: 0.5338: 100%|██████████| 7/7 [00:01<00:00,  5.17it/s]\n"
          ]
        },
        {
          "name": "stdout",
          "output_type": "stream",
          "text": [
            "Epoch 86 | Train Loss: 0.3057 | Train F1: 0.9230 | Val Loss: 0.4658 | Val F1: 0.8797\n"
          ]
        },
        {
          "name": "stderr",
          "output_type": "stream",
          "text": [
            "Loss: 0.2329: 100%|██████████| 28/28 [00:05<00:00,  5.15it/s]\n",
            "Val Loss: 0.5387: 100%|██████████| 7/7 [00:01<00:00,  5.25it/s]\n"
          ]
        },
        {
          "name": "stdout",
          "output_type": "stream",
          "text": [
            "Epoch 87 | Train Loss: 0.3947 | Train F1: 0.8621 | Val Loss: 0.5157 | Val F1: 0.8547\n"
          ]
        },
        {
          "name": "stderr",
          "output_type": "stream",
          "text": [
            "Loss: 0.2039: 100%|██████████| 28/28 [00:05<00:00,  5.16it/s]\n",
            "Val Loss: 0.5847: 100%|██████████| 7/7 [00:01<00:00,  5.19it/s]\n"
          ]
        },
        {
          "name": "stdout",
          "output_type": "stream",
          "text": [
            "Epoch 88 | Train Loss: 0.3092 | Train F1: 0.8829 | Val Loss: 0.5412 | Val F1: 0.8740\n"
          ]
        },
        {
          "name": "stderr",
          "output_type": "stream",
          "text": [
            "Loss: 0.2030: 100%|██████████| 28/28 [00:05<00:00,  5.14it/s]\n",
            "Val Loss: 0.4550: 100%|██████████| 7/7 [00:01<00:00,  5.32it/s]\n"
          ]
        },
        {
          "name": "stdout",
          "output_type": "stream",
          "text": [
            "Epoch 89 | Train Loss: 0.3676 | Train F1: 0.9057 | Val Loss: 0.5235 | Val F1: 0.8932\n"
          ]
        },
        {
          "name": "stderr",
          "output_type": "stream",
          "text": [
            "Loss: 0.2023: 100%|██████████| 28/28 [00:05<00:00,  5.13it/s]\n",
            "Val Loss: 0.6077: 100%|██████████| 7/7 [00:01<00:00,  5.02it/s]\n"
          ]
        },
        {
          "name": "stdout",
          "output_type": "stream",
          "text": [
            "Epoch 90 | Train Loss: 0.3284 | Train F1: 0.9407 | Val Loss: 0.5308 | Val F1: 0.8679\n"
          ]
        },
        {
          "name": "stderr",
          "output_type": "stream",
          "text": [
            "Loss: 0.5283: 100%|██████████| 28/28 [00:05<00:00,  5.13it/s]\n",
            "Val Loss: 0.6939: 100%|██████████| 7/7 [00:01<00:00,  5.21it/s]\n"
          ]
        },
        {
          "name": "stdout",
          "output_type": "stream",
          "text": [
            "Epoch 91 | Train Loss: 0.3338 | Train F1: 0.8964 | Val Loss: 0.5387 | Val F1: 0.8806\n"
          ]
        },
        {
          "name": "stderr",
          "output_type": "stream",
          "text": [
            "Loss: 0.6582: 100%|██████████| 28/28 [00:05<00:00,  5.13it/s]\n",
            "Val Loss: 0.5609: 100%|██████████| 7/7 [00:01<00:00,  5.06it/s]\n"
          ]
        },
        {
          "name": "stdout",
          "output_type": "stream",
          "text": [
            "Epoch 92 | Train Loss: 0.4823 | Train F1: 0.8250 | Val Loss: 0.4840 | Val F1: 0.8614\n"
          ]
        },
        {
          "name": "stderr",
          "output_type": "stream",
          "text": [
            "Loss: 0.2068: 100%|██████████| 28/28 [00:05<00:00,  5.09it/s]\n",
            "Val Loss: 0.4317: 100%|██████████| 7/7 [00:01<00:00,  5.14it/s]\n"
          ]
        },
        {
          "name": "stdout",
          "output_type": "stream",
          "text": [
            "Epoch 93 | Train Loss: 0.3077 | Train F1: 0.9113 | Val Loss: 0.5198 | Val F1: 0.8678\n"
          ]
        },
        {
          "name": "stderr",
          "output_type": "stream",
          "text": [
            "Loss: 0.7412: 100%|██████████| 28/28 [00:05<00:00,  5.08it/s]\n",
            "Val Loss: 0.4534: 100%|██████████| 7/7 [00:01<00:00,  5.27it/s]\n"
          ]
        },
        {
          "name": "stdout",
          "output_type": "stream",
          "text": [
            "Epoch 94 | Train Loss: 0.3925 | Train F1: 0.8116 | Val Loss: 0.4923 | Val F1: 0.9059\n"
          ]
        },
        {
          "name": "stderr",
          "output_type": "stream",
          "text": [
            "Loss: 0.8857: 100%|██████████| 28/28 [00:05<00:00,  5.13it/s]\n",
            "Val Loss: 0.5275: 100%|██████████| 7/7 [00:01<00:00,  5.23it/s]\n"
          ]
        },
        {
          "name": "stdout",
          "output_type": "stream",
          "text": [
            "Epoch 95 | Train Loss: 0.3598 | Train F1: 0.8767 | Val Loss: 0.5174 | Val F1: 0.8670\n"
          ]
        },
        {
          "name": "stderr",
          "output_type": "stream",
          "text": [
            "Loss: 0.2048: 100%|██████████| 28/28 [00:05<00:00,  5.13it/s]\n",
            "Val Loss: 0.6678: 100%|██████████| 7/7 [00:01<00:00,  5.43it/s]\n"
          ]
        },
        {
          "name": "stdout",
          "output_type": "stream",
          "text": [
            "Epoch 96 | Train Loss: 0.3468 | Train F1: 0.8605 | Val Loss: 0.5515 | Val F1: 0.8678\n"
          ]
        },
        {
          "name": "stderr",
          "output_type": "stream",
          "text": [
            "Loss: 0.2051: 100%|██████████| 28/28 [00:05<00:00,  5.11it/s]\n",
            "Val Loss: 0.5347: 100%|██████████| 7/7 [00:01<00:00,  5.17it/s]\n"
          ]
        },
        {
          "name": "stdout",
          "output_type": "stream",
          "text": [
            "Epoch 97 | Train Loss: 0.3057 | Train F1: 0.9597 | Val Loss: 0.5280 | Val F1: 0.8806\n"
          ]
        },
        {
          "name": "stderr",
          "output_type": "stream",
          "text": [
            "Loss: 0.5552: 100%|██████████| 28/28 [00:05<00:00,  5.19it/s]\n",
            "Val Loss: 0.5843: 100%|██████████| 7/7 [00:01<00:00,  5.20it/s]\n"
          ]
        },
        {
          "name": "stdout",
          "output_type": "stream",
          "text": [
            "Epoch 98 | Train Loss: 0.3398 | Train F1: 0.8966 | Val Loss: 0.4636 | Val F1: 0.8806\n"
          ]
        },
        {
          "name": "stderr",
          "output_type": "stream",
          "text": [
            "Loss: 0.2026: 100%|██████████| 28/28 [00:05<00:00,  5.05it/s]\n",
            "Val Loss: 0.5641: 100%|██████████| 7/7 [00:01<00:00,  5.23it/s]\n"
          ]
        },
        {
          "name": "stdout",
          "output_type": "stream",
          "text": [
            "Epoch 99 | Train Loss: 0.3761 | Train F1: 0.8530 | Val Loss: 0.5174 | Val F1: 0.8932\n"
          ]
        },
        {
          "name": "stderr",
          "output_type": "stream",
          "text": [
            "Loss: 0.2029: 100%|██████████| 28/28 [00:05<00:00,  5.07it/s]\n",
            "Val Loss: 0.4087: 100%|██████████| 7/7 [00:01<00:00,  5.08it/s]\n"
          ]
        },
        {
          "name": "stdout",
          "output_type": "stream",
          "text": [
            "Epoch 100 | Train Loss: 0.3260 | Train F1: 0.9048 | Val Loss: 0.4824 | Val F1: 0.8932\n",
            "Subset Fold 2 Best Validation F1: 0.9059\n",
            "\n",
            "==================================================\n",
            "SUBSET FOLD 3/5\n",
            "==================================================\n",
            "Train samples: 280, Validation samples: 70\n"
          ]
        },
        {
          "name": "stderr",
          "output_type": "stream",
          "text": [
            "Loss: 1.2881: 100%|██████████| 28/28 [00:05<00:00,  5.03it/s]\n",
            "Val Loss: 1.1802: 100%|██████████| 7/7 [00:01<00:00,  5.06it/s]\n"
          ]
        },
        {
          "name": "stdout",
          "output_type": "stream",
          "text": [
            "Epoch  1 | Train Loss: 1.4614 | Train F1: 0.2676 | Val Loss: 1.4520 | Val F1: 0.1111\n"
          ]
        },
        {
          "name": "stderr",
          "output_type": "stream",
          "text": [
            "Loss: 1.3760: 100%|██████████| 28/28 [00:05<00:00,  5.08it/s]\n",
            "Val Loss: 1.0465: 100%|██████████| 7/7 [00:01<00:00,  5.10it/s]\n"
          ]
        },
        {
          "name": "stdout",
          "output_type": "stream",
          "text": [
            "Epoch  2 | Train Loss: 1.4069 | Train F1: 0.2883 | Val Loss: 1.3344 | Val F1: 0.3062\n"
          ]
        },
        {
          "name": "stderr",
          "output_type": "stream",
          "text": [
            "Loss: 1.1133: 100%|██████████| 28/28 [00:05<00:00,  5.09it/s]\n",
            "Val Loss: 1.0652: 100%|██████████| 7/7 [00:01<00:00,  5.10it/s]\n"
          ]
        },
        {
          "name": "stdout",
          "output_type": "stream",
          "text": [
            "Epoch  3 | Train Loss: 1.2568 | Train F1: 0.3349 | Val Loss: 1.1120 | Val F1: 0.4506\n"
          ]
        },
        {
          "name": "stderr",
          "output_type": "stream",
          "text": [
            "Loss: 1.0137: 100%|██████████| 28/28 [00:05<00:00,  5.09it/s]\n",
            "Val Loss: 1.0759: 100%|██████████| 7/7 [00:01<00:00,  4.94it/s]\n"
          ]
        },
        {
          "name": "stdout",
          "output_type": "stream",
          "text": [
            "Epoch  4 | Train Loss: 1.2386 | Train F1: 0.4357 | Val Loss: 1.1983 | Val F1: 0.4328\n"
          ]
        },
        {
          "name": "stderr",
          "output_type": "stream",
          "text": [
            "Loss: 1.1924: 100%|██████████| 28/28 [00:05<00:00,  5.09it/s]\n",
            "Val Loss: 1.1213: 100%|██████████| 7/7 [00:01<00:00,  4.90it/s]\n"
          ]
        },
        {
          "name": "stdout",
          "output_type": "stream",
          "text": [
            "Epoch  5 | Train Loss: 1.1360 | Train F1: 0.4579 | Val Loss: 1.1228 | Val F1: 0.3720\n"
          ]
        },
        {
          "name": "stderr",
          "output_type": "stream",
          "text": [
            "Loss: 1.2930: 100%|██████████| 28/28 [00:05<00:00,  5.07it/s]\n",
            "Val Loss: 1.0969: 100%|██████████| 7/7 [00:01<00:00,  5.06it/s]\n"
          ]
        },
        {
          "name": "stdout",
          "output_type": "stream",
          "text": [
            "Epoch  6 | Train Loss: 1.0738 | Train F1: 0.5313 | Val Loss: 1.0905 | Val F1: 0.4200\n"
          ]
        },
        {
          "name": "stderr",
          "output_type": "stream",
          "text": [
            "Loss: 0.5498: 100%|██████████| 28/28 [00:05<00:00,  5.05it/s]\n",
            "Val Loss: 1.0630: 100%|██████████| 7/7 [00:01<00:00,  5.04it/s]\n"
          ]
        },
        {
          "name": "stdout",
          "output_type": "stream",
          "text": [
            "Epoch  7 | Train Loss: 1.0033 | Train F1: 0.5790 | Val Loss: 1.0970 | Val F1: 0.4857\n"
          ]
        },
        {
          "name": "stderr",
          "output_type": "stream",
          "text": [
            "Loss: 0.5723: 100%|██████████| 28/28 [00:05<00:00,  5.07it/s]\n",
            "Val Loss: 0.9458: 100%|██████████| 7/7 [00:01<00:00,  5.04it/s]\n"
          ]
        },
        {
          "name": "stdout",
          "output_type": "stream",
          "text": [
            "Epoch  8 | Train Loss: 0.9189 | Train F1: 0.5997 | Val Loss: 0.9542 | Val F1: 0.5492\n"
          ]
        },
        {
          "name": "stderr",
          "output_type": "stream",
          "text": [
            "Loss: 0.8965: 100%|██████████| 28/28 [00:05<00:00,  5.08it/s]\n",
            "Val Loss: 0.8411: 100%|██████████| 7/7 [00:01<00:00,  4.93it/s]\n"
          ]
        },
        {
          "name": "stdout",
          "output_type": "stream",
          "text": [
            "Epoch  9 | Train Loss: 0.9865 | Train F1: 0.6047 | Val Loss: 0.8702 | Val F1: 0.6049\n"
          ]
        },
        {
          "name": "stderr",
          "output_type": "stream",
          "text": [
            "Loss: 0.8906: 100%|██████████| 28/28 [00:05<00:00,  5.12it/s]\n",
            "Val Loss: 0.6581: 100%|██████████| 7/7 [00:01<00:00,  5.07it/s]\n"
          ]
        },
        {
          "name": "stdout",
          "output_type": "stream",
          "text": [
            "Epoch 10 | Train Loss: 0.9377 | Train F1: 0.6244 | Val Loss: 0.7713 | Val F1: 0.6050\n"
          ]
        },
        {
          "name": "stderr",
          "output_type": "stream",
          "text": [
            "Loss: 0.8467: 100%|██████████| 28/28 [00:05<00:00,  5.08it/s]\n",
            "Val Loss: 0.6433: 100%|██████████| 7/7 [00:01<00:00,  4.92it/s]\n"
          ]
        },
        {
          "name": "stdout",
          "output_type": "stream",
          "text": [
            "Epoch 11 | Train Loss: 0.7500 | Train F1: 0.7026 | Val Loss: 0.7229 | Val F1: 0.7047\n"
          ]
        },
        {
          "name": "stderr",
          "output_type": "stream",
          "text": [
            "Loss: 0.7100: 100%|██████████| 28/28 [00:05<00:00,  5.12it/s]\n",
            "Val Loss: 0.7112: 100%|██████████| 7/7 [00:01<00:00,  5.02it/s]\n"
          ]
        },
        {
          "name": "stdout",
          "output_type": "stream",
          "text": [
            "Epoch 12 | Train Loss: 0.8088 | Train F1: 0.6832 | Val Loss: 0.8443 | Val F1: 0.6075\n"
          ]
        },
        {
          "name": "stderr",
          "output_type": "stream",
          "text": [
            "Loss: 0.5757: 100%|██████████| 28/28 [00:05<00:00,  5.11it/s]\n",
            "Val Loss: 0.7228: 100%|██████████| 7/7 [00:01<00:00,  5.19it/s]\n"
          ]
        },
        {
          "name": "stdout",
          "output_type": "stream",
          "text": [
            "Epoch 13 | Train Loss: 0.7786 | Train F1: 0.7146 | Val Loss: 0.8997 | Val F1: 0.5677\n"
          ]
        },
        {
          "name": "stderr",
          "output_type": "stream",
          "text": [
            "Loss: 0.7676: 100%|██████████| 28/28 [00:05<00:00,  5.14it/s]\n",
            "Val Loss: 0.6313: 100%|██████████| 7/7 [00:01<00:00,  5.05it/s]\n"
          ]
        },
        {
          "name": "stdout",
          "output_type": "stream",
          "text": [
            "Epoch 14 | Train Loss: 0.7299 | Train F1: 0.7757 | Val Loss: 0.8136 | Val F1: 0.6369\n"
          ]
        },
        {
          "name": "stderr",
          "output_type": "stream",
          "text": [
            "Loss: 0.4036: 100%|██████████| 28/28 [00:05<00:00,  5.13it/s]\n",
            "Val Loss: 1.2409: 100%|██████████| 7/7 [00:01<00:00,  4.97it/s]\n"
          ]
        },
        {
          "name": "stdout",
          "output_type": "stream",
          "text": [
            "Epoch 15 | Train Loss: 0.7343 | Train F1: 0.7271 | Val Loss: 1.1449 | Val F1: 0.5195\n"
          ]
        },
        {
          "name": "stderr",
          "output_type": "stream",
          "text": [
            "Loss: 0.5669: 100%|██████████| 28/28 [00:05<00:00,  5.06it/s]\n",
            "Val Loss: 0.6996: 100%|██████████| 7/7 [00:01<00:00,  5.03it/s]\n"
          ]
        },
        {
          "name": "stdout",
          "output_type": "stream",
          "text": [
            "Epoch 16 | Train Loss: 0.6768 | Train F1: 0.7508 | Val Loss: 0.8412 | Val F1: 0.6461\n"
          ]
        },
        {
          "name": "stderr",
          "output_type": "stream",
          "text": [
            "Loss: 0.9312: 100%|██████████| 28/28 [00:05<00:00,  5.06it/s]\n",
            "Val Loss: 0.7277: 100%|██████████| 7/7 [00:01<00:00,  5.06it/s]\n"
          ]
        },
        {
          "name": "stdout",
          "output_type": "stream",
          "text": [
            "Epoch 17 | Train Loss: 0.7638 | Train F1: 0.7039 | Val Loss: 0.7740 | Val F1: 0.6967\n"
          ]
        },
        {
          "name": "stderr",
          "output_type": "stream",
          "text": [
            "Loss: 0.4255: 100%|██████████| 28/28 [00:05<00:00,  5.09it/s]\n",
            "Val Loss: 0.7790: 100%|██████████| 7/7 [00:01<00:00,  5.01it/s]\n"
          ]
        },
        {
          "name": "stdout",
          "output_type": "stream",
          "text": [
            "Epoch 18 | Train Loss: 0.7047 | Train F1: 0.7313 | Val Loss: 0.8094 | Val F1: 0.6555\n"
          ]
        },
        {
          "name": "stderr",
          "output_type": "stream",
          "text": [
            "Loss: 1.1582: 100%|██████████| 28/28 [00:05<00:00,  5.07it/s]\n",
            "Val Loss: 0.8745: 100%|██████████| 7/7 [00:01<00:00,  5.11it/s]\n"
          ]
        },
        {
          "name": "stdout",
          "output_type": "stream",
          "text": [
            "Epoch 19 | Train Loss: 0.6542 | Train F1: 0.7292 | Val Loss: 0.8510 | Val F1: 0.6497\n"
          ]
        },
        {
          "name": "stderr",
          "output_type": "stream",
          "text": [
            "Loss: 1.0605: 100%|██████████| 28/28 [00:05<00:00,  5.08it/s]\n",
            "Val Loss: 0.3894: 100%|██████████| 7/7 [00:01<00:00,  4.98it/s]\n"
          ]
        },
        {
          "name": "stdout",
          "output_type": "stream",
          "text": [
            "Epoch 20 | Train Loss: 0.6198 | Train F1: 0.7896 | Val Loss: 0.8293 | Val F1: 0.6011\n"
          ]
        },
        {
          "name": "stderr",
          "output_type": "stream",
          "text": [
            "Loss: 0.8613: 100%|██████████| 28/28 [00:05<00:00,  5.07it/s]\n",
            "Val Loss: 0.4730: 100%|██████████| 7/7 [00:01<00:00,  4.91it/s]\n"
          ]
        },
        {
          "name": "stdout",
          "output_type": "stream",
          "text": [
            "Epoch 21 | Train Loss: 0.6376 | Train F1: 0.7132 | Val Loss: 0.6861 | Val F1: 0.7929\n"
          ]
        },
        {
          "name": "stderr",
          "output_type": "stream",
          "text": [
            "Loss: 1.0820: 100%|██████████| 28/28 [00:05<00:00,  5.05it/s]\n",
            "Val Loss: 0.6804: 100%|██████████| 7/7 [00:01<00:00,  4.86it/s]\n"
          ]
        },
        {
          "name": "stdout",
          "output_type": "stream",
          "text": [
            "Epoch 22 | Train Loss: 0.5552 | Train F1: 0.7867 | Val Loss: 0.7900 | Val F1: 0.7055\n"
          ]
        },
        {
          "name": "stderr",
          "output_type": "stream",
          "text": [
            "Loss: 1.2285: 100%|██████████| 28/28 [00:05<00:00,  5.13it/s]\n",
            "Val Loss: 0.5373: 100%|██████████| 7/7 [00:01<00:00,  4.88it/s]\n"
          ]
        },
        {
          "name": "stdout",
          "output_type": "stream",
          "text": [
            "Epoch 23 | Train Loss: 0.5509 | Train F1: 0.8139 | Val Loss: 0.6738 | Val F1: 0.7485\n"
          ]
        },
        {
          "name": "stderr",
          "output_type": "stream",
          "text": [
            "Loss: 0.5371: 100%|██████████| 28/28 [00:05<00:00,  5.10it/s]\n",
            "Val Loss: 0.8069: 100%|██████████| 7/7 [00:01<00:00,  5.00it/s]\n"
          ]
        },
        {
          "name": "stdout",
          "output_type": "stream",
          "text": [
            "Epoch 24 | Train Loss: 0.4751 | Train F1: 0.8811 | Val Loss: 0.8205 | Val F1: 0.6627\n"
          ]
        },
        {
          "name": "stderr",
          "output_type": "stream",
          "text": [
            "Loss: 0.5547: 100%|██████████| 28/28 [00:05<00:00,  5.10it/s]\n",
            "Val Loss: 0.3390: 100%|██████████| 7/7 [00:01<00:00,  5.09it/s]\n"
          ]
        },
        {
          "name": "stdout",
          "output_type": "stream",
          "text": [
            "Epoch 25 | Train Loss: 0.5767 | Train F1: 0.8299 | Val Loss: 0.7962 | Val F1: 0.7625\n"
          ]
        },
        {
          "name": "stderr",
          "output_type": "stream",
          "text": [
            "Loss: 0.3447: 100%|██████████| 28/28 [00:05<00:00,  5.15it/s]\n",
            "Val Loss: 0.3806: 100%|██████████| 7/7 [00:01<00:00,  5.15it/s]\n"
          ]
        },
        {
          "name": "stdout",
          "output_type": "stream",
          "text": [
            "Epoch 26 | Train Loss: 0.4945 | Train F1: 0.8281 | Val Loss: 0.6372 | Val F1: 0.7675\n"
          ]
        },
        {
          "name": "stderr",
          "output_type": "stream",
          "text": [
            "Loss: 0.2529: 100%|██████████| 28/28 [00:05<00:00,  5.10it/s]\n",
            "Val Loss: 0.3860: 100%|██████████| 7/7 [00:01<00:00,  5.10it/s]\n"
          ]
        },
        {
          "name": "stdout",
          "output_type": "stream",
          "text": [
            "Epoch 27 | Train Loss: 0.5624 | Train F1: 0.7956 | Val Loss: 0.6290 | Val F1: 0.7454\n"
          ]
        },
        {
          "name": "stderr",
          "output_type": "stream",
          "text": [
            "Loss: 1.1514: 100%|██████████| 28/28 [00:05<00:00,  5.14it/s]\n",
            "Val Loss: 0.5193: 100%|██████████| 7/7 [00:01<00:00,  5.02it/s]\n"
          ]
        },
        {
          "name": "stdout",
          "output_type": "stream",
          "text": [
            "Epoch 28 | Train Loss: 0.5496 | Train F1: 0.8521 | Val Loss: 0.6817 | Val F1: 0.7892\n"
          ]
        },
        {
          "name": "stderr",
          "output_type": "stream",
          "text": [
            "Loss: 0.5171: 100%|██████████| 28/28 [00:05<00:00,  5.13it/s]\n",
            "Val Loss: 0.6264: 100%|██████████| 7/7 [00:01<00:00,  5.12it/s]\n"
          ]
        },
        {
          "name": "stdout",
          "output_type": "stream",
          "text": [
            "Epoch 29 | Train Loss: 0.4682 | Train F1: 0.8361 | Val Loss: 0.7640 | Val F1: 0.7273\n"
          ]
        },
        {
          "name": "stderr",
          "output_type": "stream",
          "text": [
            "Loss: 0.4287: 100%|██████████| 28/28 [00:05<00:00,  5.09it/s]\n",
            "Val Loss: 0.4453: 100%|██████████| 7/7 [00:01<00:00,  5.08it/s]\n"
          ]
        },
        {
          "name": "stdout",
          "output_type": "stream",
          "text": [
            "Epoch 30 | Train Loss: 0.5335 | Train F1: 0.8380 | Val Loss: 0.6916 | Val F1: 0.7781\n"
          ]
        },
        {
          "name": "stderr",
          "output_type": "stream",
          "text": [
            "Loss: 0.4756: 100%|██████████| 28/28 [00:05<00:00,  5.07it/s]\n",
            "Val Loss: 0.3560: 100%|██████████| 7/7 [00:01<00:00,  5.23it/s]\n"
          ]
        },
        {
          "name": "stdout",
          "output_type": "stream",
          "text": [
            "Epoch 31 | Train Loss: 0.4595 | Train F1: 0.8627 | Val Loss: 0.6999 | Val F1: 0.7549\n"
          ]
        },
        {
          "name": "stderr",
          "output_type": "stream",
          "text": [
            "Loss: 0.2271: 100%|██████████| 28/28 [00:05<00:00,  5.06it/s]\n",
            "Val Loss: 0.5003: 100%|██████████| 7/7 [00:01<00:00,  5.00it/s]\n"
          ]
        },
        {
          "name": "stdout",
          "output_type": "stream",
          "text": [
            "Epoch 32 | Train Loss: 0.4248 | Train F1: 0.9097 | Val Loss: 0.7725 | Val F1: 0.7548\n"
          ]
        },
        {
          "name": "stderr",
          "output_type": "stream",
          "text": [
            "Loss: 1.0928: 100%|██████████| 28/28 [00:05<00:00,  5.11it/s]\n",
            "Val Loss: 0.5105: 100%|██████████| 7/7 [00:01<00:00,  5.38it/s]\n"
          ]
        },
        {
          "name": "stdout",
          "output_type": "stream",
          "text": [
            "Epoch 33 | Train Loss: 0.5501 | Train F1: 0.7571 | Val Loss: 0.6295 | Val F1: 0.7650\n"
          ]
        },
        {
          "name": "stderr",
          "output_type": "stream",
          "text": [
            "Loss: 0.2708: 100%|██████████| 28/28 [00:05<00:00,  5.13it/s]\n",
            "Val Loss: 0.5888: 100%|██████████| 7/7 [00:01<00:00,  5.06it/s]\n"
          ]
        },
        {
          "name": "stdout",
          "output_type": "stream",
          "text": [
            "Epoch 34 | Train Loss: 0.5448 | Train F1: 0.8243 | Val Loss: 0.7729 | Val F1: 0.7892\n"
          ]
        },
        {
          "name": "stderr",
          "output_type": "stream",
          "text": [
            "Loss: 0.6206: 100%|██████████| 28/28 [00:05<00:00,  5.06it/s]\n",
            "Val Loss: 0.5269: 100%|██████████| 7/7 [00:01<00:00,  5.20it/s]\n"
          ]
        },
        {
          "name": "stdout",
          "output_type": "stream",
          "text": [
            "Epoch 35 | Train Loss: 0.4934 | Train F1: 0.8046 | Val Loss: 0.7586 | Val F1: 0.7240\n"
          ]
        },
        {
          "name": "stderr",
          "output_type": "stream",
          "text": [
            "Loss: 0.4192: 100%|██████████| 28/28 [00:05<00:00,  5.15it/s]\n",
            "Val Loss: 0.4531: 100%|██████████| 7/7 [00:01<00:00,  5.15it/s]\n"
          ]
        },
        {
          "name": "stdout",
          "output_type": "stream",
          "text": [
            "Epoch 36 | Train Loss: 0.4506 | Train F1: 0.7635 | Val Loss: 0.5976 | Val F1: 0.8576\n"
          ]
        },
        {
          "name": "stderr",
          "output_type": "stream",
          "text": [
            "Loss: 0.2307: 100%|██████████| 28/28 [00:05<00:00,  5.05it/s]\n",
            "Val Loss: 0.4619: 100%|██████████| 7/7 [00:01<00:00,  4.98it/s]\n"
          ]
        },
        {
          "name": "stdout",
          "output_type": "stream",
          "text": [
            "Epoch 37 | Train Loss: 0.4257 | Train F1: 0.8386 | Val Loss: 0.6465 | Val F1: 0.8109\n"
          ]
        },
        {
          "name": "stderr",
          "output_type": "stream",
          "text": [
            "Loss: 0.4053: 100%|██████████| 28/28 [00:05<00:00,  5.10it/s]\n",
            "Val Loss: 0.4167: 100%|██████████| 7/7 [00:01<00:00,  5.19it/s]\n"
          ]
        },
        {
          "name": "stdout",
          "output_type": "stream",
          "text": [
            "Epoch 38 | Train Loss: 0.4292 | Train F1: 0.8478 | Val Loss: 0.6944 | Val F1: 0.7349\n"
          ]
        },
        {
          "name": "stderr",
          "output_type": "stream",
          "text": [
            "Loss: 1.2051: 100%|██████████| 28/28 [00:05<00:00,  5.08it/s]\n",
            "Val Loss: 0.3082: 100%|██████████| 7/7 [00:01<00:00,  5.04it/s]\n"
          ]
        },
        {
          "name": "stdout",
          "output_type": "stream",
          "text": [
            "Epoch 39 | Train Loss: 0.3586 | Train F1: 0.9327 | Val Loss: 0.5913 | Val F1: 0.7924\n"
          ]
        },
        {
          "name": "stderr",
          "output_type": "stream",
          "text": [
            "Loss: 0.3062: 100%|██████████| 28/28 [00:05<00:00,  5.14it/s]\n",
            "Val Loss: 0.5012: 100%|██████████| 7/7 [00:01<00:00,  5.08it/s]\n"
          ]
        },
        {
          "name": "stdout",
          "output_type": "stream",
          "text": [
            "Epoch 40 | Train Loss: 0.5920 | Train F1: 0.7791 | Val Loss: 0.6904 | Val F1: 0.7892\n"
          ]
        },
        {
          "name": "stderr",
          "output_type": "stream",
          "text": [
            "Loss: 0.2247: 100%|██████████| 28/28 [00:05<00:00,  5.11it/s]\n",
            "Val Loss: 0.7565: 100%|██████████| 7/7 [00:01<00:00,  5.02it/s]\n"
          ]
        },
        {
          "name": "stdout",
          "output_type": "stream",
          "text": [
            "Epoch 41 | Train Loss: 0.3971 | Train F1: 0.8562 | Val Loss: 0.7325 | Val F1: 0.7909\n"
          ]
        },
        {
          "name": "stderr",
          "output_type": "stream",
          "text": [
            "Loss: 1.0371: 100%|██████████| 28/28 [00:05<00:00,  5.12it/s]\n",
            "Val Loss: 0.6753: 100%|██████████| 7/7 [00:01<00:00,  4.98it/s]\n"
          ]
        },
        {
          "name": "stdout",
          "output_type": "stream",
          "text": [
            "Epoch 42 | Train Loss: 0.4884 | Train F1: 0.8500 | Val Loss: 0.6993 | Val F1: 0.7892\n"
          ]
        },
        {
          "name": "stderr",
          "output_type": "stream",
          "text": [
            "Loss: 0.2196: 100%|██████████| 28/28 [00:05<00:00,  4.99it/s]\n",
            "Val Loss: 0.2645: 100%|██████████| 7/7 [00:01<00:00,  4.88it/s]\n"
          ]
        },
        {
          "name": "stdout",
          "output_type": "stream",
          "text": [
            "Epoch 43 | Train Loss: 0.3866 | Train F1: 0.9312 | Val Loss: 0.6347 | Val F1: 0.7492\n"
          ]
        },
        {
          "name": "stderr",
          "output_type": "stream",
          "text": [
            "Loss: 0.2175: 100%|██████████| 28/28 [00:05<00:00,  5.11it/s]\n",
            "Val Loss: 0.5446: 100%|██████████| 7/7 [00:01<00:00,  4.89it/s]\n"
          ]
        },
        {
          "name": "stdout",
          "output_type": "stream",
          "text": [
            "Epoch 44 | Train Loss: 0.4398 | Train F1: 0.9246 | Val Loss: 0.6690 | Val F1: 0.7572\n"
          ]
        },
        {
          "name": "stderr",
          "output_type": "stream",
          "text": [
            "Loss: 0.3364: 100%|██████████| 28/28 [00:05<00:00,  5.04it/s]\n",
            "Val Loss: 0.6228: 100%|██████████| 7/7 [00:01<00:00,  5.13it/s]\n"
          ]
        },
        {
          "name": "stdout",
          "output_type": "stream",
          "text": [
            "Epoch 45 | Train Loss: 0.5758 | Train F1: 0.8237 | Val Loss: 0.6687 | Val F1: 0.7853\n"
          ]
        },
        {
          "name": "stderr",
          "output_type": "stream",
          "text": [
            "Loss: 0.8320: 100%|██████████| 28/28 [00:05<00:00,  5.07it/s]\n",
            "Val Loss: 0.4777: 100%|██████████| 7/7 [00:01<00:00,  5.08it/s]\n"
          ]
        },
        {
          "name": "stdout",
          "output_type": "stream",
          "text": [
            "Epoch 46 | Train Loss: 0.4114 | Train F1: 0.9250 | Val Loss: 0.6051 | Val F1: 0.7867\n"
          ]
        },
        {
          "name": "stderr",
          "output_type": "stream",
          "text": [
            "Loss: 0.2432: 100%|██████████| 28/28 [00:05<00:00,  5.07it/s]\n",
            "Val Loss: 0.9348: 100%|██████████| 7/7 [00:01<00:00,  4.96it/s]\n"
          ]
        },
        {
          "name": "stdout",
          "output_type": "stream",
          "text": [
            "Epoch 47 | Train Loss: 0.3518 | Train F1: 0.9011 | Val Loss: 0.7632 | Val F1: 0.7389\n"
          ]
        },
        {
          "name": "stderr",
          "output_type": "stream",
          "text": [
            "Loss: 0.2178: 100%|██████████| 28/28 [00:05<00:00,  5.04it/s]\n",
            "Val Loss: 0.3849: 100%|██████████| 7/7 [00:01<00:00,  5.17it/s]\n"
          ]
        },
        {
          "name": "stdout",
          "output_type": "stream",
          "text": [
            "Epoch 48 | Train Loss: 0.3470 | Train F1: 0.8940 | Val Loss: 0.7082 | Val F1: 0.7994\n"
          ]
        },
        {
          "name": "stderr",
          "output_type": "stream",
          "text": [
            "Loss: 0.2087: 100%|██████████| 28/28 [00:05<00:00,  5.06it/s]\n",
            "Val Loss: 0.3156: 100%|██████████| 7/7 [00:01<00:00,  5.06it/s]\n"
          ]
        },
        {
          "name": "stdout",
          "output_type": "stream",
          "text": [
            "Epoch 49 | Train Loss: 0.4380 | Train F1: 0.8696 | Val Loss: 0.5888 | Val F1: 0.8239\n"
          ]
        },
        {
          "name": "stderr",
          "output_type": "stream",
          "text": [
            "Loss: 0.8125: 100%|██████████| 28/28 [00:05<00:00,  5.13it/s]\n",
            "Val Loss: 0.5964: 100%|██████████| 7/7 [00:01<00:00,  4.93it/s]\n"
          ]
        },
        {
          "name": "stdout",
          "output_type": "stream",
          "text": [
            "Epoch 50 | Train Loss: 0.4328 | Train F1: 0.8559 | Val Loss: 0.6418 | Val F1: 0.7946\n"
          ]
        },
        {
          "name": "stderr",
          "output_type": "stream",
          "text": [
            "Loss: 0.3127: 100%|██████████| 28/28 [00:05<00:00,  5.13it/s]\n",
            "Val Loss: 0.6950: 100%|██████████| 7/7 [00:01<00:00,  5.03it/s]\n"
          ]
        },
        {
          "name": "stdout",
          "output_type": "stream",
          "text": [
            "Epoch 51 | Train Loss: 0.3887 | Train F1: 0.9274 | Val Loss: 0.6324 | Val F1: 0.8304\n"
          ]
        },
        {
          "name": "stderr",
          "output_type": "stream",
          "text": [
            "Loss: 0.2074: 100%|██████████| 28/28 [00:05<00:00,  5.06it/s]\n",
            "Val Loss: 0.4149: 100%|██████████| 7/7 [00:01<00:00,  5.09it/s]\n"
          ]
        },
        {
          "name": "stdout",
          "output_type": "stream",
          "text": [
            "Epoch 52 | Train Loss: 0.4173 | Train F1: 0.8767 | Val Loss: 0.6391 | Val F1: 0.7957\n"
          ]
        },
        {
          "name": "stderr",
          "output_type": "stream",
          "text": [
            "Loss: 0.5239: 100%|██████████| 28/28 [00:05<00:00,  5.07it/s]\n",
            "Val Loss: 0.4316: 100%|██████████| 7/7 [00:01<00:00,  5.11it/s]\n"
          ]
        },
        {
          "name": "stdout",
          "output_type": "stream",
          "text": [
            "Epoch 53 | Train Loss: 0.3039 | Train F1: 0.9358 | Val Loss: 0.6091 | Val F1: 0.8513\n"
          ]
        },
        {
          "name": "stderr",
          "output_type": "stream",
          "text": [
            "Loss: 0.3501: 100%|██████████| 28/28 [00:05<00:00,  5.09it/s]\n",
            "Val Loss: 0.5021: 100%|██████████| 7/7 [00:01<00:00,  4.97it/s]\n"
          ]
        },
        {
          "name": "stdout",
          "output_type": "stream",
          "text": [
            "Epoch 54 | Train Loss: 0.3657 | Train F1: 0.8367 | Val Loss: 0.5923 | Val F1: 0.8199\n"
          ]
        },
        {
          "name": "stderr",
          "output_type": "stream",
          "text": [
            "Loss: 0.2200: 100%|██████████| 28/28 [00:05<00:00,  5.11it/s]\n",
            "Val Loss: 0.4067: 100%|██████████| 7/7 [00:01<00:00,  5.04it/s]\n"
          ]
        },
        {
          "name": "stdout",
          "output_type": "stream",
          "text": [
            "Epoch 55 | Train Loss: 0.3938 | Train F1: 0.8609 | Val Loss: 0.6566 | Val F1: 0.8298\n"
          ]
        },
        {
          "name": "stderr",
          "output_type": "stream",
          "text": [
            "Loss: 0.5474: 100%|██████████| 28/28 [00:05<00:00,  5.08it/s]\n",
            "Val Loss: 0.5892: 100%|██████████| 7/7 [00:01<00:00,  5.15it/s]\n"
          ]
        },
        {
          "name": "stdout",
          "output_type": "stream",
          "text": [
            "Epoch 56 | Train Loss: 0.4281 | Train F1: 0.8478 | Val Loss: 0.7054 | Val F1: 0.7764\n"
          ]
        },
        {
          "name": "stderr",
          "output_type": "stream",
          "text": [
            "Loss: 0.8477: 100%|██████████| 28/28 [00:05<00:00,  5.05it/s]\n",
            "Val Loss: 0.4980: 100%|██████████| 7/7 [00:01<00:00,  4.76it/s]\n"
          ]
        },
        {
          "name": "stdout",
          "output_type": "stream",
          "text": [
            "Epoch 57 | Train Loss: 0.3743 | Train F1: 0.8993 | Val Loss: 0.5634 | Val F1: 0.8569\n"
          ]
        },
        {
          "name": "stderr",
          "output_type": "stream",
          "text": [
            "Loss: 0.3362: 100%|██████████| 28/28 [00:05<00:00,  4.99it/s]\n",
            "Val Loss: 0.4993: 100%|██████████| 7/7 [00:01<00:00,  4.95it/s]\n"
          ]
        },
        {
          "name": "stdout",
          "output_type": "stream",
          "text": [
            "Epoch 58 | Train Loss: 0.3812 | Train F1: 0.9064 | Val Loss: 0.6162 | Val F1: 0.8482\n"
          ]
        },
        {
          "name": "stderr",
          "output_type": "stream",
          "text": [
            "Loss: 0.3652: 100%|██████████| 28/28 [00:05<00:00,  5.10it/s]\n",
            "Val Loss: 0.3955: 100%|██████████| 7/7 [00:01<00:00,  4.96it/s]\n"
          ]
        },
        {
          "name": "stdout",
          "output_type": "stream",
          "text": [
            "Epoch 59 | Train Loss: 0.4218 | Train F1: 0.9096 | Val Loss: 0.6101 | Val F1: 0.8249\n"
          ]
        },
        {
          "name": "stderr",
          "output_type": "stream",
          "text": [
            "Loss: 0.2632: 100%|██████████| 28/28 [00:05<00:00,  5.03it/s]\n",
            "Val Loss: 0.5355: 100%|██████████| 7/7 [00:01<00:00,  5.04it/s]\n"
          ]
        },
        {
          "name": "stdout",
          "output_type": "stream",
          "text": [
            "Epoch 60 | Train Loss: 0.3798 | Train F1: 0.8606 | Val Loss: 0.5871 | Val F1: 0.8392\n"
          ]
        },
        {
          "name": "stderr",
          "output_type": "stream",
          "text": [
            "Loss: 0.3811: 100%|██████████| 28/28 [00:05<00:00,  5.11it/s]\n",
            "Val Loss: 0.3898: 100%|██████████| 7/7 [00:01<00:00,  5.20it/s]\n"
          ]
        },
        {
          "name": "stdout",
          "output_type": "stream",
          "text": [
            "Epoch 61 | Train Loss: 0.4220 | Train F1: 0.8649 | Val Loss: 0.5797 | Val F1: 0.8428\n"
          ]
        },
        {
          "name": "stderr",
          "output_type": "stream",
          "text": [
            "Loss: 0.3054: 100%|██████████| 28/28 [00:05<00:00,  5.06it/s]\n",
            "Val Loss: 0.4435: 100%|██████████| 7/7 [00:01<00:00,  5.21it/s]\n"
          ]
        },
        {
          "name": "stdout",
          "output_type": "stream",
          "text": [
            "Epoch 62 | Train Loss: 0.4510 | Train F1: 0.8116 | Val Loss: 0.5570 | Val F1: 0.8606\n"
          ]
        },
        {
          "name": "stderr",
          "output_type": "stream",
          "text": [
            "Loss: 0.3384: 100%|██████████| 28/28 [00:05<00:00,  5.05it/s]\n",
            "Val Loss: 0.5620: 100%|██████████| 7/7 [00:01<00:00,  4.95it/s]\n"
          ]
        },
        {
          "name": "stdout",
          "output_type": "stream",
          "text": [
            "Epoch 63 | Train Loss: 0.3829 | Train F1: 0.9188 | Val Loss: 0.6403 | Val F1: 0.8505\n"
          ]
        },
        {
          "name": "stderr",
          "output_type": "stream",
          "text": [
            "Loss: 0.3359: 100%|██████████| 28/28 [00:05<00:00,  5.01it/s]\n",
            "Val Loss: 0.4311: 100%|██████████| 7/7 [00:01<00:00,  5.13it/s]\n"
          ]
        },
        {
          "name": "stdout",
          "output_type": "stream",
          "text": [
            "Epoch 64 | Train Loss: 0.3894 | Train F1: 0.9157 | Val Loss: 0.6486 | Val F1: 0.8086\n"
          ]
        },
        {
          "name": "stderr",
          "output_type": "stream",
          "text": [
            "Loss: 0.7988: 100%|██████████| 28/28 [00:05<00:00,  5.11it/s]\n",
            "Val Loss: 0.3962: 100%|██████████| 7/7 [00:01<00:00,  5.01it/s]\n"
          ]
        },
        {
          "name": "stdout",
          "output_type": "stream",
          "text": [
            "Epoch 65 | Train Loss: 0.4026 | Train F1: 0.8903 | Val Loss: 0.5650 | Val F1: 0.8535\n"
          ]
        },
        {
          "name": "stderr",
          "output_type": "stream",
          "text": [
            "Loss: 1.0703: 100%|██████████| 28/28 [00:05<00:00,  5.03it/s]\n",
            "Val Loss: 0.4411: 100%|██████████| 7/7 [00:01<00:00,  4.99it/s]\n"
          ]
        },
        {
          "name": "stdout",
          "output_type": "stream",
          "text": [
            "Epoch 66 | Train Loss: 0.4896 | Train F1: 0.7780 | Val Loss: 0.5600 | Val F1: 0.8384\n"
          ]
        },
        {
          "name": "stderr",
          "output_type": "stream",
          "text": [
            "Loss: 0.9868: 100%|██████████| 28/28 [00:05<00:00,  5.07it/s]\n",
            "Val Loss: 0.3405: 100%|██████████| 7/7 [00:01<00:00,  5.20it/s]\n"
          ]
        },
        {
          "name": "stdout",
          "output_type": "stream",
          "text": [
            "Epoch 67 | Train Loss: 0.3996 | Train F1: 0.8583 | Val Loss: 0.5422 | Val F1: 0.8755\n"
          ]
        },
        {
          "name": "stderr",
          "output_type": "stream",
          "text": [
            "Loss: 0.7939: 100%|██████████| 28/28 [00:05<00:00,  5.09it/s]\n",
            "Val Loss: 0.2522: 100%|██████████| 7/7 [00:01<00:00,  4.91it/s]\n"
          ]
        },
        {
          "name": "stdout",
          "output_type": "stream",
          "text": [
            "Epoch 68 | Train Loss: 0.3836 | Train F1: 0.9110 | Val Loss: 0.5172 | Val F1: 0.8883\n"
          ]
        },
        {
          "name": "stderr",
          "output_type": "stream",
          "text": [
            "Loss: 0.5918: 100%|██████████| 28/28 [00:05<00:00,  5.05it/s]\n",
            "Val Loss: 0.4212: 100%|██████████| 7/7 [00:01<00:00,  4.90it/s]\n"
          ]
        },
        {
          "name": "stdout",
          "output_type": "stream",
          "text": [
            "Epoch 69 | Train Loss: 0.3656 | Train F1: 0.8658 | Val Loss: 0.5165 | Val F1: 0.8883\n"
          ]
        },
        {
          "name": "stderr",
          "output_type": "stream",
          "text": [
            "Loss: 0.3376: 100%|██████████| 28/28 [00:05<00:00,  5.07it/s]\n",
            "Val Loss: 0.3420: 100%|██████████| 7/7 [00:01<00:00,  5.04it/s]\n"
          ]
        },
        {
          "name": "stdout",
          "output_type": "stream",
          "text": [
            "Epoch 70 | Train Loss: 0.4334 | Train F1: 0.8416 | Val Loss: 0.5145 | Val F1: 0.8755\n"
          ]
        },
        {
          "name": "stderr",
          "output_type": "stream",
          "text": [
            "Loss: 0.2029: 100%|██████████| 28/28 [00:05<00:00,  5.12it/s]\n",
            "Val Loss: 0.3400: 100%|██████████| 7/7 [00:01<00:00,  4.83it/s]\n"
          ]
        },
        {
          "name": "stdout",
          "output_type": "stream",
          "text": [
            "Epoch 71 | Train Loss: 0.3361 | Train F1: 0.8907 | Val Loss: 0.5572 | Val F1: 0.8502\n"
          ]
        },
        {
          "name": "stderr",
          "output_type": "stream",
          "text": [
            "Loss: 0.2800: 100%|██████████| 28/28 [00:05<00:00,  5.07it/s]\n",
            "Val Loss: 0.4922: 100%|██████████| 7/7 [00:01<00:00,  4.97it/s]\n"
          ]
        },
        {
          "name": "stdout",
          "output_type": "stream",
          "text": [
            "Epoch 72 | Train Loss: 0.3692 | Train F1: 0.9196 | Val Loss: 0.5659 | Val F1: 0.8510\n"
          ]
        },
        {
          "name": "stderr",
          "output_type": "stream",
          "text": [
            "Loss: 0.2688: 100%|██████████| 28/28 [00:05<00:00,  5.13it/s]\n",
            "Val Loss: 0.3803: 100%|██████████| 7/7 [00:01<00:00,  5.07it/s]\n"
          ]
        },
        {
          "name": "stdout",
          "output_type": "stream",
          "text": [
            "Epoch 73 | Train Loss: 0.4244 | Train F1: 0.8240 | Val Loss: 0.5632 | Val F1: 0.8500\n"
          ]
        },
        {
          "name": "stderr",
          "output_type": "stream",
          "text": [
            "Loss: 0.6543: 100%|██████████| 28/28 [00:05<00:00,  5.07it/s]\n",
            "Val Loss: 0.3557: 100%|██████████| 7/7 [00:01<00:00,  5.00it/s]\n"
          ]
        },
        {
          "name": "stdout",
          "output_type": "stream",
          "text": [
            "Epoch 74 | Train Loss: 0.3873 | Train F1: 0.8788 | Val Loss: 0.5321 | Val F1: 0.8374\n"
          ]
        },
        {
          "name": "stderr",
          "output_type": "stream",
          "text": [
            "Loss: 0.3586: 100%|██████████| 28/28 [00:05<00:00,  5.12it/s]\n",
            "Val Loss: 0.3070: 100%|██████████| 7/7 [00:01<00:00,  5.13it/s]\n"
          ]
        },
        {
          "name": "stdout",
          "output_type": "stream",
          "text": [
            "Epoch 75 | Train Loss: 0.3722 | Train F1: 0.8716 | Val Loss: 0.5462 | Val F1: 0.8634\n"
          ]
        },
        {
          "name": "stderr",
          "output_type": "stream",
          "text": [
            "Loss: 0.7598: 100%|██████████| 28/28 [00:05<00:00,  5.07it/s]\n",
            "Val Loss: 0.2761: 100%|██████████| 7/7 [00:01<00:00,  4.97it/s]\n"
          ]
        },
        {
          "name": "stdout",
          "output_type": "stream",
          "text": [
            "Epoch 76 | Train Loss: 0.4525 | Train F1: 0.8541 | Val Loss: 0.5267 | Val F1: 0.8886\n"
          ]
        },
        {
          "name": "stderr",
          "output_type": "stream",
          "text": [
            "Loss: 0.4346: 100%|██████████| 28/28 [00:05<00:00,  5.06it/s]\n",
            "Val Loss: 0.4054: 100%|██████████| 7/7 [00:01<00:00,  5.16it/s]\n"
          ]
        },
        {
          "name": "stdout",
          "output_type": "stream",
          "text": [
            "Epoch 77 | Train Loss: 0.3804 | Train F1: 0.9152 | Val Loss: 0.6033 | Val F1: 0.8461\n"
          ]
        },
        {
          "name": "stderr",
          "output_type": "stream",
          "text": [
            "Loss: 0.6914: 100%|██████████| 28/28 [00:05<00:00,  5.11it/s]\n",
            "Val Loss: 0.4544: 100%|██████████| 7/7 [00:01<00:00,  5.25it/s]\n"
          ]
        },
        {
          "name": "stdout",
          "output_type": "stream",
          "text": [
            "Epoch 78 | Train Loss: 0.4440 | Train F1: 0.8325 | Val Loss: 0.5721 | Val F1: 0.8634\n"
          ]
        },
        {
          "name": "stderr",
          "output_type": "stream",
          "text": [
            "Loss: 0.2180: 100%|██████████| 28/28 [00:05<00:00,  5.09it/s]\n",
            "Val Loss: 0.5078: 100%|██████████| 7/7 [00:01<00:00,  4.94it/s]\n"
          ]
        },
        {
          "name": "stdout",
          "output_type": "stream",
          "text": [
            "Epoch 79 | Train Loss: 0.3105 | Train F1: 0.9418 | Val Loss: 0.6043 | Val F1: 0.8510\n"
          ]
        },
        {
          "name": "stderr",
          "output_type": "stream",
          "text": [
            "Loss: 0.2104: 100%|██████████| 28/28 [00:05<00:00,  5.02it/s]\n",
            "Val Loss: 0.4097: 100%|██████████| 7/7 [00:01<00:00,  4.93it/s]\n"
          ]
        },
        {
          "name": "stdout",
          "output_type": "stream",
          "text": [
            "Epoch 80 | Train Loss: 0.3930 | Train F1: 0.8500 | Val Loss: 0.5798 | Val F1: 0.8239\n"
          ]
        },
        {
          "name": "stderr",
          "output_type": "stream",
          "text": [
            "Loss: 0.2070: 100%|██████████| 28/28 [00:05<00:00,  5.10it/s]\n",
            "Val Loss: 0.4617: 100%|██████████| 7/7 [00:01<00:00,  5.22it/s]\n"
          ]
        },
        {
          "name": "stdout",
          "output_type": "stream",
          "text": [
            "Epoch 81 | Train Loss: 0.4215 | Train F1: 0.8481 | Val Loss: 0.5412 | Val F1: 0.8206\n"
          ]
        },
        {
          "name": "stderr",
          "output_type": "stream",
          "text": [
            "Loss: 0.2202: 100%|██████████| 28/28 [00:05<00:00,  5.13it/s]\n",
            "Val Loss: 0.3423: 100%|██████████| 7/7 [00:01<00:00,  5.05it/s]\n"
          ]
        },
        {
          "name": "stdout",
          "output_type": "stream",
          "text": [
            "Epoch 82 | Train Loss: 0.3612 | Train F1: 0.8680 | Val Loss: 0.5104 | Val F1: 0.8642\n"
          ]
        },
        {
          "name": "stderr",
          "output_type": "stream",
          "text": [
            "Loss: 0.2031: 100%|██████████| 28/28 [00:05<00:00,  5.07it/s]\n",
            "Val Loss: 0.3475: 100%|██████████| 7/7 [00:01<00:00,  5.06it/s]\n"
          ]
        },
        {
          "name": "stdout",
          "output_type": "stream",
          "text": [
            "Epoch 83 | Train Loss: 0.3664 | Train F1: 0.9258 | Val Loss: 0.5716 | Val F1: 0.8318\n"
          ]
        },
        {
          "name": "stderr",
          "output_type": "stream",
          "text": [
            "Loss: 0.7876: 100%|██████████| 28/28 [00:05<00:00,  5.14it/s]\n",
            "Val Loss: 0.3395: 100%|██████████| 7/7 [00:01<00:00,  4.93it/s]\n"
          ]
        },
        {
          "name": "stdout",
          "output_type": "stream",
          "text": [
            "Epoch 84 | Train Loss: 0.3718 | Train F1: 0.8939 | Val Loss: 0.5578 | Val F1: 0.8510\n"
          ]
        },
        {
          "name": "stderr",
          "output_type": "stream",
          "text": [
            "Loss: 0.2981: 100%|██████████| 28/28 [00:05<00:00,  5.05it/s]\n",
            "Val Loss: 0.3762: 100%|██████████| 7/7 [00:01<00:00,  5.29it/s]\n"
          ]
        },
        {
          "name": "stdout",
          "output_type": "stream",
          "text": [
            "Epoch 85 | Train Loss: 0.2803 | Train F1: 0.9610 | Val Loss: 0.5394 | Val F1: 0.8755\n"
          ]
        },
        {
          "name": "stderr",
          "output_type": "stream",
          "text": [
            "Loss: 0.5342: 100%|██████████| 28/28 [00:05<00:00,  5.12it/s]\n",
            "Val Loss: 0.4822: 100%|██████████| 7/7 [00:01<00:00,  4.92it/s]\n"
          ]
        },
        {
          "name": "stdout",
          "output_type": "stream",
          "text": [
            "Epoch 86 | Train Loss: 0.4258 | Train F1: 0.8711 | Val Loss: 0.5686 | Val F1: 0.8576\n"
          ]
        },
        {
          "name": "stderr",
          "output_type": "stream",
          "text": [
            "Loss: 0.2030: 100%|██████████| 28/28 [00:05<00:00,  5.19it/s]\n",
            "Val Loss: 0.3716: 100%|██████████| 7/7 [00:01<00:00,  5.22it/s]\n"
          ]
        },
        {
          "name": "stdout",
          "output_type": "stream",
          "text": [
            "Epoch 87 | Train Loss: 0.3017 | Train F1: 0.8951 | Val Loss: 0.5478 | Val F1: 0.8367\n"
          ]
        },
        {
          "name": "stderr",
          "output_type": "stream",
          "text": [
            "Loss: 0.2034: 100%|██████████| 28/28 [00:05<00:00,  5.09it/s]\n",
            "Val Loss: 0.5658: 100%|██████████| 7/7 [00:01<00:00,  5.06it/s]\n"
          ]
        },
        {
          "name": "stdout",
          "output_type": "stream",
          "text": [
            "Epoch 88 | Train Loss: 0.3429 | Train F1: 0.8969 | Val Loss: 0.6037 | Val F1: 0.8510\n"
          ]
        },
        {
          "name": "stderr",
          "output_type": "stream",
          "text": [
            "Loss: 0.3645: 100%|██████████| 28/28 [00:05<00:00,  5.11it/s]\n",
            "Val Loss: 0.5470: 100%|██████████| 7/7 [00:01<00:00,  5.12it/s]\n"
          ]
        },
        {
          "name": "stdout",
          "output_type": "stream",
          "text": [
            "Epoch 89 | Train Loss: 0.3479 | Train F1: 0.9361 | Val Loss: 0.6074 | Val F1: 0.8755\n"
          ]
        },
        {
          "name": "stderr",
          "output_type": "stream",
          "text": [
            "Loss: 0.2109: 100%|██████████| 28/28 [00:05<00:00,  5.05it/s]\n",
            "Val Loss: 0.2896: 100%|██████████| 7/7 [00:01<00:00,  5.00it/s]\n"
          ]
        },
        {
          "name": "stdout",
          "output_type": "stream",
          "text": [
            "Epoch 90 | Train Loss: 0.4185 | Train F1: 0.8786 | Val Loss: 0.5498 | Val F1: 0.8883\n"
          ]
        },
        {
          "name": "stderr",
          "output_type": "stream",
          "text": [
            "Loss: 0.2100: 100%|██████████| 28/28 [00:05<00:00,  5.11it/s]\n",
            "Val Loss: 0.3336: 100%|██████████| 7/7 [00:01<00:00,  5.01it/s]\n"
          ]
        },
        {
          "name": "stdout",
          "output_type": "stream",
          "text": [
            "Epoch 91 | Train Loss: 0.3558 | Train F1: 0.9170 | Val Loss: 0.5493 | Val F1: 0.8365\n"
          ]
        },
        {
          "name": "stderr",
          "output_type": "stream",
          "text": [
            "Loss: 0.2026: 100%|██████████| 28/28 [00:05<00:00,  5.13it/s]\n",
            "Val Loss: 0.2979: 100%|██████████| 7/7 [00:01<00:00,  4.93it/s]\n"
          ]
        },
        {
          "name": "stdout",
          "output_type": "stream",
          "text": [
            "Epoch 92 | Train Loss: 0.2682 | Train F1: 0.9344 | Val Loss: 0.5254 | Val F1: 0.8642\n"
          ]
        },
        {
          "name": "stderr",
          "output_type": "stream",
          "text": [
            "Loss: 0.3574: 100%|██████████| 28/28 [00:05<00:00,  5.03it/s]\n",
            "Val Loss: 0.3863: 100%|██████████| 7/7 [00:01<00:00,  5.02it/s]\n"
          ]
        },
        {
          "name": "stdout",
          "output_type": "stream",
          "text": [
            "Epoch 93 | Train Loss: 0.3332 | Train F1: 0.9374 | Val Loss: 0.5324 | Val F1: 0.8505\n"
          ]
        },
        {
          "name": "stderr",
          "output_type": "stream",
          "text": [
            "Loss: 0.9028: 100%|██████████| 28/28 [00:05<00:00,  5.05it/s]\n",
            "Val Loss: 0.3767: 100%|██████████| 7/7 [00:01<00:00,  5.09it/s]\n"
          ]
        },
        {
          "name": "stdout",
          "output_type": "stream",
          "text": [
            "Epoch 94 | Train Loss: 0.3829 | Train F1: 0.8821 | Val Loss: 0.5941 | Val F1: 0.8510\n"
          ]
        },
        {
          "name": "stderr",
          "output_type": "stream",
          "text": [
            "Loss: 0.2026: 100%|██████████| 28/28 [00:05<00:00,  5.10it/s]\n",
            "Val Loss: 0.3522: 100%|██████████| 7/7 [00:01<00:00,  5.27it/s]\n"
          ]
        },
        {
          "name": "stdout",
          "output_type": "stream",
          "text": [
            "Epoch 95 | Train Loss: 0.3655 | Train F1: 0.8650 | Val Loss: 0.5267 | Val F1: 0.8616\n"
          ]
        },
        {
          "name": "stderr",
          "output_type": "stream",
          "text": [
            "Loss: 0.2172: 100%|██████████| 28/28 [00:05<00:00,  5.12it/s]\n",
            "Val Loss: 0.6924: 100%|██████████| 7/7 [00:01<00:00,  5.03it/s]\n"
          ]
        },
        {
          "name": "stdout",
          "output_type": "stream",
          "text": [
            "Epoch 96 | Train Loss: 0.3728 | Train F1: 0.8858 | Val Loss: 0.6036 | Val F1: 0.8612\n"
          ]
        },
        {
          "name": "stderr",
          "output_type": "stream",
          "text": [
            "Loss: 0.2156: 100%|██████████| 28/28 [00:05<00:00,  5.09it/s]\n",
            "Val Loss: 0.4077: 100%|██████████| 7/7 [00:01<00:00,  4.99it/s]\n"
          ]
        },
        {
          "name": "stdout",
          "output_type": "stream",
          "text": [
            "Epoch 97 | Train Loss: 0.3425 | Train F1: 0.9121 | Val Loss: 0.5620 | Val F1: 0.8331\n"
          ]
        },
        {
          "name": "stderr",
          "output_type": "stream",
          "text": [
            "Loss: 0.2252: 100%|██████████| 28/28 [00:05<00:00,  5.20it/s]\n",
            "Val Loss: 0.4342: 100%|██████████| 7/7 [00:01<00:00,  5.13it/s]\n"
          ]
        },
        {
          "name": "stdout",
          "output_type": "stream",
          "text": [
            "Epoch 98 | Train Loss: 0.4253 | Train F1: 0.8855 | Val Loss: 0.5577 | Val F1: 0.8505\n"
          ]
        },
        {
          "name": "stderr",
          "output_type": "stream",
          "text": [
            "Loss: 0.2031: 100%|██████████| 28/28 [00:05<00:00,  5.10it/s]\n",
            "Val Loss: 0.4538: 100%|██████████| 7/7 [00:01<00:00,  4.89it/s]\n"
          ]
        },
        {
          "name": "stdout",
          "output_type": "stream",
          "text": [
            "Epoch 99 | Train Loss: 0.4700 | Train F1: 0.8406 | Val Loss: 0.5555 | Val F1: 0.8398\n"
          ]
        },
        {
          "name": "stderr",
          "output_type": "stream",
          "text": [
            "Loss: 0.2030: 100%|██████████| 28/28 [00:05<00:00,  5.12it/s]\n",
            "Val Loss: 0.4000: 100%|██████████| 7/7 [00:01<00:00,  5.30it/s]\n"
          ]
        },
        {
          "name": "stdout",
          "output_type": "stream",
          "text": [
            "Epoch 100 | Train Loss: 0.3178 | Train F1: 0.9219 | Val Loss: 0.5558 | Val F1: 0.8755\n",
            "Subset Fold 3 Best Validation F1: 0.8886\n",
            "\n",
            "==================================================\n",
            "SUBSET FOLD 4/5\n",
            "==================================================\n",
            "Train samples: 280, Validation samples: 70\n"
          ]
        },
        {
          "name": "stderr",
          "output_type": "stream",
          "text": [
            "Loss: 1.3936: 100%|██████████| 28/28 [00:05<00:00,  5.02it/s]\n",
            "Val Loss: 1.4747: 100%|██████████| 7/7 [00:01<00:00,  4.97it/s]\n"
          ]
        },
        {
          "name": "stdout",
          "output_type": "stream",
          "text": [
            "Epoch  1 | Train Loss: 1.4836 | Train F1: 0.2289 | Val Loss: 1.3294 | Val F1: 0.2915\n"
          ]
        },
        {
          "name": "stderr",
          "output_type": "stream",
          "text": [
            "Loss: 1.3047: 100%|██████████| 28/28 [00:05<00:00,  5.16it/s]\n",
            "Val Loss: 1.3561: 100%|██████████| 7/7 [00:01<00:00,  5.00it/s]\n"
          ]
        },
        {
          "name": "stdout",
          "output_type": "stream",
          "text": [
            "Epoch  2 | Train Loss: 1.3437 | Train F1: 0.2809 | Val Loss: 1.3036 | Val F1: 0.3611\n"
          ]
        },
        {
          "name": "stderr",
          "output_type": "stream",
          "text": [
            "Loss: 1.4004: 100%|██████████| 28/28 [00:05<00:00,  5.04it/s]\n",
            "Val Loss: 1.8155: 100%|██████████| 7/7 [00:01<00:00,  5.12it/s]\n"
          ]
        },
        {
          "name": "stdout",
          "output_type": "stream",
          "text": [
            "Epoch  3 | Train Loss: 1.3101 | Train F1: 0.3522 | Val Loss: 1.4373 | Val F1: 0.2291\n"
          ]
        },
        {
          "name": "stderr",
          "output_type": "stream",
          "text": [
            "Loss: 1.1055: 100%|██████████| 28/28 [00:05<00:00,  5.02it/s]\n",
            "Val Loss: 1.1398: 100%|██████████| 7/7 [00:01<00:00,  5.17it/s]\n"
          ]
        },
        {
          "name": "stdout",
          "output_type": "stream",
          "text": [
            "Epoch  4 | Train Loss: 1.2420 | Train F1: 0.3970 | Val Loss: 1.2278 | Val F1: 0.4669\n"
          ]
        },
        {
          "name": "stderr",
          "output_type": "stream",
          "text": [
            "Loss: 0.9370: 100%|██████████| 28/28 [00:05<00:00,  5.07it/s]\n",
            "Val Loss: 1.0351: 100%|██████████| 7/7 [00:01<00:00,  4.87it/s]\n"
          ]
        },
        {
          "name": "stdout",
          "output_type": "stream",
          "text": [
            "Epoch  5 | Train Loss: 1.2112 | Train F1: 0.4085 | Val Loss: 1.0400 | Val F1: 0.5159\n"
          ]
        },
        {
          "name": "stderr",
          "output_type": "stream",
          "text": [
            "Loss: 1.1377: 100%|██████████| 28/28 [00:05<00:00,  5.05it/s]\n",
            "Val Loss: 1.1222: 100%|██████████| 7/7 [00:01<00:00,  5.14it/s]\n"
          ]
        },
        {
          "name": "stdout",
          "output_type": "stream",
          "text": [
            "Epoch  6 | Train Loss: 1.1034 | Train F1: 0.4456 | Val Loss: 0.9958 | Val F1: 0.5592\n"
          ]
        },
        {
          "name": "stderr",
          "output_type": "stream",
          "text": [
            "Loss: 1.1006: 100%|██████████| 28/28 [00:05<00:00,  5.10it/s]\n",
            "Val Loss: 0.9618: 100%|██████████| 7/7 [00:01<00:00,  4.94it/s]\n"
          ]
        },
        {
          "name": "stdout",
          "output_type": "stream",
          "text": [
            "Epoch  7 | Train Loss: 1.1212 | Train F1: 0.4781 | Val Loss: 0.9551 | Val F1: 0.5266\n"
          ]
        },
        {
          "name": "stderr",
          "output_type": "stream",
          "text": [
            "Loss: 0.8501: 100%|██████████| 28/28 [00:05<00:00,  5.08it/s]\n",
            "Val Loss: 1.1980: 100%|██████████| 7/7 [00:01<00:00,  5.02it/s]\n"
          ]
        },
        {
          "name": "stdout",
          "output_type": "stream",
          "text": [
            "Epoch  8 | Train Loss: 1.0735 | Train F1: 0.4459 | Val Loss: 1.0127 | Val F1: 0.5457\n"
          ]
        },
        {
          "name": "stderr",
          "output_type": "stream",
          "text": [
            "Loss: 0.7852: 100%|██████████| 28/28 [00:05<00:00,  5.11it/s]\n",
            "Val Loss: 0.8652: 100%|██████████| 7/7 [00:01<00:00,  5.05it/s]\n"
          ]
        },
        {
          "name": "stdout",
          "output_type": "stream",
          "text": [
            "Epoch  9 | Train Loss: 0.9355 | Train F1: 0.5825 | Val Loss: 0.8000 | Val F1: 0.5783\n"
          ]
        },
        {
          "name": "stderr",
          "output_type": "stream",
          "text": [
            "Loss: 0.8564: 100%|██████████| 28/28 [00:05<00:00,  5.13it/s]\n",
            "Val Loss: 0.7574: 100%|██████████| 7/7 [00:01<00:00,  5.03it/s]\n"
          ]
        },
        {
          "name": "stdout",
          "output_type": "stream",
          "text": [
            "Epoch 10 | Train Loss: 0.9051 | Train F1: 0.6298 | Val Loss: 0.7834 | Val F1: 0.6851\n"
          ]
        },
        {
          "name": "stderr",
          "output_type": "stream",
          "text": [
            "Loss: 1.4072: 100%|██████████| 28/28 [00:05<00:00,  5.05it/s]\n",
            "Val Loss: 0.5341: 100%|██████████| 7/7 [00:01<00:00,  4.97it/s]\n"
          ]
        },
        {
          "name": "stdout",
          "output_type": "stream",
          "text": [
            "Epoch 11 | Train Loss: 0.8597 | Train F1: 0.6048 | Val Loss: 0.9079 | Val F1: 0.5923\n"
          ]
        },
        {
          "name": "stderr",
          "output_type": "stream",
          "text": [
            "Loss: 0.7144: 100%|██████████| 28/28 [00:05<00:00,  5.11it/s]\n",
            "Val Loss: 0.5660: 100%|██████████| 7/7 [00:01<00:00,  4.94it/s]\n"
          ]
        },
        {
          "name": "stdout",
          "output_type": "stream",
          "text": [
            "Epoch 12 | Train Loss: 0.8013 | Train F1: 0.6600 | Val Loss: 0.7222 | Val F1: 0.7793\n"
          ]
        },
        {
          "name": "stderr",
          "output_type": "stream",
          "text": [
            "Loss: 0.7432: 100%|██████████| 28/28 [00:05<00:00,  5.04it/s]\n",
            "Val Loss: 0.4492: 100%|██████████| 7/7 [00:01<00:00,  5.09it/s]\n"
          ]
        },
        {
          "name": "stdout",
          "output_type": "stream",
          "text": [
            "Epoch 13 | Train Loss: 0.9435 | Train F1: 0.6051 | Val Loss: 0.7438 | Val F1: 0.7408\n"
          ]
        },
        {
          "name": "stderr",
          "output_type": "stream",
          "text": [
            "Loss: 0.6465: 100%|██████████| 28/28 [00:05<00:00,  5.08it/s]\n",
            "Val Loss: 0.4615: 100%|██████████| 7/7 [00:01<00:00,  5.09it/s]\n"
          ]
        },
        {
          "name": "stdout",
          "output_type": "stream",
          "text": [
            "Epoch 14 | Train Loss: 0.7741 | Train F1: 0.6631 | Val Loss: 0.9279 | Val F1: 0.7515\n"
          ]
        },
        {
          "name": "stderr",
          "output_type": "stream",
          "text": [
            "Loss: 0.6738: 100%|██████████| 28/28 [00:05<00:00,  5.10it/s]\n",
            "Val Loss: 0.5142: 100%|██████████| 7/7 [00:01<00:00,  5.02it/s]\n"
          ]
        },
        {
          "name": "stdout",
          "output_type": "stream",
          "text": [
            "Epoch 15 | Train Loss: 0.8533 | Train F1: 0.6702 | Val Loss: 0.7023 | Val F1: 0.7585\n"
          ]
        },
        {
          "name": "stderr",
          "output_type": "stream",
          "text": [
            "Loss: 1.1445: 100%|██████████| 28/28 [00:05<00:00,  5.09it/s]\n",
            "Val Loss: 0.4178: 100%|██████████| 7/7 [00:01<00:00,  4.98it/s]\n"
          ]
        },
        {
          "name": "stdout",
          "output_type": "stream",
          "text": [
            "Epoch 16 | Train Loss: 0.6602 | Train F1: 0.7703 | Val Loss: 0.6820 | Val F1: 0.7840\n"
          ]
        },
        {
          "name": "stderr",
          "output_type": "stream",
          "text": [
            "Loss: 0.8457: 100%|██████████| 28/28 [00:05<00:00,  5.12it/s]\n",
            "Val Loss: 0.4138: 100%|██████████| 7/7 [00:01<00:00,  5.09it/s]\n"
          ]
        },
        {
          "name": "stdout",
          "output_type": "stream",
          "text": [
            "Epoch 17 | Train Loss: 0.6208 | Train F1: 0.8252 | Val Loss: 0.6527 | Val F1: 0.8197\n"
          ]
        },
        {
          "name": "stderr",
          "output_type": "stream",
          "text": [
            "Loss: 0.4329: 100%|██████████| 28/28 [00:05<00:00,  5.05it/s]\n",
            "Val Loss: 0.4355: 100%|██████████| 7/7 [00:01<00:00,  4.92it/s]\n"
          ]
        },
        {
          "name": "stdout",
          "output_type": "stream",
          "text": [
            "Epoch 18 | Train Loss: 0.6762 | Train F1: 0.6829 | Val Loss: 0.5980 | Val F1: 0.8378\n"
          ]
        },
        {
          "name": "stderr",
          "output_type": "stream",
          "text": [
            "Loss: 0.5518: 100%|██████████| 28/28 [00:05<00:00,  5.10it/s]\n",
            "Val Loss: 0.3582: 100%|██████████| 7/7 [00:01<00:00,  5.09it/s]\n"
          ]
        },
        {
          "name": "stdout",
          "output_type": "stream",
          "text": [
            "Epoch 19 | Train Loss: 0.6317 | Train F1: 0.7686 | Val Loss: 0.6567 | Val F1: 0.7907\n"
          ]
        },
        {
          "name": "stderr",
          "output_type": "stream",
          "text": [
            "Loss: 0.2886: 100%|██████████| 28/28 [00:05<00:00,  5.08it/s]\n",
            "Val Loss: 0.3887: 100%|██████████| 7/7 [00:01<00:00,  5.04it/s]\n"
          ]
        },
        {
          "name": "stdout",
          "output_type": "stream",
          "text": [
            "Epoch 20 | Train Loss: 0.5616 | Train F1: 0.8334 | Val Loss: 0.7634 | Val F1: 0.7492\n"
          ]
        },
        {
          "name": "stderr",
          "output_type": "stream",
          "text": [
            "Loss: 0.5884: 100%|██████████| 28/28 [00:05<00:00,  5.11it/s]\n",
            "Val Loss: 0.3633: 100%|██████████| 7/7 [00:01<00:00,  5.06it/s]\n"
          ]
        },
        {
          "name": "stdout",
          "output_type": "stream",
          "text": [
            "Epoch 21 | Train Loss: 0.6392 | Train F1: 0.7386 | Val Loss: 0.5612 | Val F1: 0.8745\n"
          ]
        },
        {
          "name": "stderr",
          "output_type": "stream",
          "text": [
            "Loss: 0.4106: 100%|██████████| 28/28 [00:05<00:00,  5.10it/s]\n",
            "Val Loss: 0.4432: 100%|██████████| 7/7 [00:01<00:00,  4.99it/s]\n"
          ]
        },
        {
          "name": "stdout",
          "output_type": "stream",
          "text": [
            "Epoch 22 | Train Loss: 0.5393 | Train F1: 0.8470 | Val Loss: 0.6252 | Val F1: 0.7954\n"
          ]
        },
        {
          "name": "stderr",
          "output_type": "stream",
          "text": [
            "Loss: 0.8857: 100%|██████████| 28/28 [00:05<00:00,  5.10it/s]\n",
            "Val Loss: 0.3375: 100%|██████████| 7/7 [00:01<00:00,  5.19it/s]\n"
          ]
        },
        {
          "name": "stdout",
          "output_type": "stream",
          "text": [
            "Epoch 23 | Train Loss: 0.5093 | Train F1: 0.8656 | Val Loss: 0.6761 | Val F1: 0.8491\n"
          ]
        },
        {
          "name": "stderr",
          "output_type": "stream",
          "text": [
            "Loss: 0.3601: 100%|██████████| 28/28 [00:05<00:00,  5.06it/s]\n",
            "Val Loss: 0.4098: 100%|██████████| 7/7 [00:01<00:00,  5.19it/s]\n"
          ]
        },
        {
          "name": "stdout",
          "output_type": "stream",
          "text": [
            "Epoch 24 | Train Loss: 0.6109 | Train F1: 0.7567 | Val Loss: 0.5750 | Val F1: 0.8554\n"
          ]
        },
        {
          "name": "stderr",
          "output_type": "stream",
          "text": [
            "Loss: 0.3242: 100%|██████████| 28/28 [00:05<00:00,  5.14it/s]\n",
            "Val Loss: 0.2752: 100%|██████████| 7/7 [00:01<00:00,  5.00it/s]\n"
          ]
        },
        {
          "name": "stdout",
          "output_type": "stream",
          "text": [
            "Epoch 25 | Train Loss: 0.5900 | Train F1: 0.8385 | Val Loss: 0.5181 | Val F1: 0.8796\n"
          ]
        },
        {
          "name": "stderr",
          "output_type": "stream",
          "text": [
            "Loss: 0.4536: 100%|██████████| 28/28 [00:05<00:00,  5.11it/s]\n",
            "Val Loss: 0.3596: 100%|██████████| 7/7 [00:01<00:00,  5.20it/s]\n"
          ]
        },
        {
          "name": "stdout",
          "output_type": "stream",
          "text": [
            "Epoch 26 | Train Loss: 0.5129 | Train F1: 0.8157 | Val Loss: 0.5474 | Val F1: 0.8464\n"
          ]
        },
        {
          "name": "stderr",
          "output_type": "stream",
          "text": [
            "Loss: 0.6030: 100%|██████████| 28/28 [00:05<00:00,  5.05it/s]\n",
            "Val Loss: 0.3659: 100%|██████████| 7/7 [00:01<00:00,  5.16it/s]\n"
          ]
        },
        {
          "name": "stdout",
          "output_type": "stream",
          "text": [
            "Epoch 27 | Train Loss: 0.5027 | Train F1: 0.8434 | Val Loss: 0.5389 | Val F1: 0.8193\n"
          ]
        },
        {
          "name": "stderr",
          "output_type": "stream",
          "text": [
            "Loss: 0.2822: 100%|██████████| 28/28 [00:05<00:00,  5.10it/s]\n",
            "Val Loss: 0.3012: 100%|██████████| 7/7 [00:01<00:00,  4.98it/s]\n"
          ]
        },
        {
          "name": "stdout",
          "output_type": "stream",
          "text": [
            "Epoch 28 | Train Loss: 0.5025 | Train F1: 0.8512 | Val Loss: 0.6511 | Val F1: 0.7966\n"
          ]
        },
        {
          "name": "stderr",
          "output_type": "stream",
          "text": [
            "Loss: 0.3066: 100%|██████████| 28/28 [00:05<00:00,  5.09it/s]\n",
            "Val Loss: 0.3147: 100%|██████████| 7/7 [00:01<00:00,  4.91it/s]\n"
          ]
        },
        {
          "name": "stdout",
          "output_type": "stream",
          "text": [
            "Epoch 29 | Train Loss: 0.4157 | Train F1: 0.8992 | Val Loss: 0.6051 | Val F1: 0.8598\n"
          ]
        },
        {
          "name": "stderr",
          "output_type": "stream",
          "text": [
            "Loss: 0.5059: 100%|██████████| 28/28 [00:05<00:00,  5.04it/s]\n",
            "Val Loss: 0.2768: 100%|██████████| 7/7 [00:01<00:00,  5.07it/s]\n"
          ]
        },
        {
          "name": "stdout",
          "output_type": "stream",
          "text": [
            "Epoch 30 | Train Loss: 0.4880 | Train F1: 0.8759 | Val Loss: 0.4775 | Val F1: 0.8675\n"
          ]
        },
        {
          "name": "stderr",
          "output_type": "stream",
          "text": [
            "Loss: 0.2246: 100%|██████████| 28/28 [00:05<00:00,  5.04it/s]\n",
            "Val Loss: 0.3156: 100%|██████████| 7/7 [00:01<00:00,  4.87it/s]\n"
          ]
        },
        {
          "name": "stdout",
          "output_type": "stream",
          "text": [
            "Epoch 31 | Train Loss: 0.5104 | Train F1: 0.8110 | Val Loss: 0.4886 | Val F1: 0.8724\n"
          ]
        },
        {
          "name": "stderr",
          "output_type": "stream",
          "text": [
            "Loss: 0.2954: 100%|██████████| 28/28 [00:05<00:00,  5.01it/s]\n",
            "Val Loss: 0.2783: 100%|██████████| 7/7 [00:01<00:00,  4.98it/s]\n"
          ]
        },
        {
          "name": "stdout",
          "output_type": "stream",
          "text": [
            "Epoch 32 | Train Loss: 0.5073 | Train F1: 0.8464 | Val Loss: 0.5403 | Val F1: 0.8228\n"
          ]
        },
        {
          "name": "stderr",
          "output_type": "stream",
          "text": [
            "Loss: 0.4976: 100%|██████████| 28/28 [00:05<00:00,  5.17it/s]\n",
            "Val Loss: 0.2641: 100%|██████████| 7/7 [00:01<00:00,  4.99it/s]\n"
          ]
        },
        {
          "name": "stdout",
          "output_type": "stream",
          "text": [
            "Epoch 33 | Train Loss: 0.4627 | Train F1: 0.8199 | Val Loss: 0.5412 | Val F1: 0.8715\n"
          ]
        },
        {
          "name": "stderr",
          "output_type": "stream",
          "text": [
            "Loss: 0.2397: 100%|██████████| 28/28 [00:05<00:00,  5.06it/s]\n",
            "Val Loss: 0.3057: 100%|██████████| 7/7 [00:01<00:00,  5.17it/s]\n"
          ]
        },
        {
          "name": "stdout",
          "output_type": "stream",
          "text": [
            "Epoch 34 | Train Loss: 0.4995 | Train F1: 0.8220 | Val Loss: 0.6128 | Val F1: 0.8540\n"
          ]
        },
        {
          "name": "stderr",
          "output_type": "stream",
          "text": [
            "Loss: 0.2126: 100%|██████████| 28/28 [00:05<00:00,  5.10it/s]\n",
            "Val Loss: 0.2514: 100%|██████████| 7/7 [00:01<00:00,  4.94it/s]\n"
          ]
        },
        {
          "name": "stdout",
          "output_type": "stream",
          "text": [
            "Epoch 35 | Train Loss: 0.4869 | Train F1: 0.8130 | Val Loss: 0.3956 | Val F1: 0.9303\n"
          ]
        },
        {
          "name": "stderr",
          "output_type": "stream",
          "text": [
            "Loss: 0.3318: 100%|██████████| 28/28 [00:05<00:00,  5.04it/s]\n",
            "Val Loss: 0.2841: 100%|██████████| 7/7 [00:01<00:00,  4.86it/s]\n"
          ]
        },
        {
          "name": "stdout",
          "output_type": "stream",
          "text": [
            "Epoch 36 | Train Loss: 0.4435 | Train F1: 0.8813 | Val Loss: 0.7996 | Val F1: 0.7899\n"
          ]
        },
        {
          "name": "stderr",
          "output_type": "stream",
          "text": [
            "Loss: 0.4382: 100%|██████████| 28/28 [00:05<00:00,  5.06it/s]\n",
            "Val Loss: 0.2846: 100%|██████████| 7/7 [00:01<00:00,  5.05it/s]\n"
          ]
        },
        {
          "name": "stdout",
          "output_type": "stream",
          "text": [
            "Epoch 37 | Train Loss: 0.3754 | Train F1: 0.9064 | Val Loss: 0.4358 | Val F1: 0.8867\n"
          ]
        },
        {
          "name": "stderr",
          "output_type": "stream",
          "text": [
            "Loss: 0.3691: 100%|██████████| 28/28 [00:05<00:00,  5.06it/s]\n",
            "Val Loss: 0.3175: 100%|██████████| 7/7 [00:01<00:00,  5.06it/s]\n"
          ]
        },
        {
          "name": "stdout",
          "output_type": "stream",
          "text": [
            "Epoch 38 | Train Loss: 0.4676 | Train F1: 0.8262 | Val Loss: 0.5185 | Val F1: 0.8593\n"
          ]
        },
        {
          "name": "stderr",
          "output_type": "stream",
          "text": [
            "Loss: 0.4111: 100%|██████████| 28/28 [00:05<00:00,  5.14it/s]\n",
            "Val Loss: 0.2352: 100%|██████████| 7/7 [00:01<00:00,  5.01it/s]\n"
          ]
        },
        {
          "name": "stdout",
          "output_type": "stream",
          "text": [
            "Epoch 39 | Train Loss: 0.4817 | Train F1: 0.8494 | Val Loss: 0.4540 | Val F1: 0.8934\n"
          ]
        },
        {
          "name": "stderr",
          "output_type": "stream",
          "text": [
            "Loss: 0.3235: 100%|██████████| 28/28 [00:05<00:00,  5.11it/s]\n",
            "Val Loss: 0.2568: 100%|██████████| 7/7 [00:01<00:00,  5.07it/s]\n"
          ]
        },
        {
          "name": "stdout",
          "output_type": "stream",
          "text": [
            "Epoch 40 | Train Loss: 0.4386 | Train F1: 0.7918 | Val Loss: 0.4691 | Val F1: 0.8567\n"
          ]
        },
        {
          "name": "stderr",
          "output_type": "stream",
          "text": [
            "Loss: 0.5571: 100%|██████████| 28/28 [00:05<00:00,  5.13it/s]\n",
            "Val Loss: 0.2381: 100%|██████████| 7/7 [00:01<00:00,  5.17it/s]\n"
          ]
        },
        {
          "name": "stdout",
          "output_type": "stream",
          "text": [
            "Epoch 41 | Train Loss: 0.4912 | Train F1: 0.7769 | Val Loss: 0.4460 | Val F1: 0.9179\n"
          ]
        },
        {
          "name": "stderr",
          "output_type": "stream",
          "text": [
            "Loss: 0.2451: 100%|██████████| 28/28 [00:05<00:00,  5.06it/s]\n",
            "Val Loss: 0.2691: 100%|██████████| 7/7 [00:01<00:00,  5.04it/s]\n"
          ]
        },
        {
          "name": "stdout",
          "output_type": "stream",
          "text": [
            "Epoch 42 | Train Loss: 0.5283 | Train F1: 0.7673 | Val Loss: 0.4822 | Val F1: 0.8646\n"
          ]
        },
        {
          "name": "stderr",
          "output_type": "stream",
          "text": [
            "Loss: 0.2271: 100%|██████████| 28/28 [00:05<00:00,  5.03it/s]\n",
            "Val Loss: 0.2519: 100%|██████████| 7/7 [00:01<00:00,  4.94it/s]\n"
          ]
        },
        {
          "name": "stdout",
          "output_type": "stream",
          "text": [
            "Epoch 43 | Train Loss: 0.5474 | Train F1: 0.8447 | Val Loss: 0.4483 | Val F1: 0.8919\n"
          ]
        },
        {
          "name": "stderr",
          "output_type": "stream",
          "text": [
            "Loss: 0.2563: 100%|██████████| 28/28 [00:05<00:00,  5.03it/s]\n",
            "Val Loss: 0.2462: 100%|██████████| 7/7 [00:01<00:00,  5.00it/s]\n"
          ]
        },
        {
          "name": "stdout",
          "output_type": "stream",
          "text": [
            "Epoch 44 | Train Loss: 0.4481 | Train F1: 0.9028 | Val Loss: 0.3695 | Val F1: 0.9557\n"
          ]
        },
        {
          "name": "stderr",
          "output_type": "stream",
          "text": [
            "Loss: 0.7217: 100%|██████████| 28/28 [00:05<00:00,  5.01it/s]\n",
            "Val Loss: 0.2771: 100%|██████████| 7/7 [00:01<00:00,  4.86it/s]\n"
          ]
        },
        {
          "name": "stdout",
          "output_type": "stream",
          "text": [
            "Epoch 45 | Train Loss: 0.4132 | Train F1: 0.8758 | Val Loss: 0.4413 | Val F1: 0.9057\n"
          ]
        },
        {
          "name": "stderr",
          "output_type": "stream",
          "text": [
            "Loss: 0.3760: 100%|██████████| 28/28 [00:05<00:00,  5.05it/s]\n",
            "Val Loss: 0.2846: 100%|██████████| 7/7 [00:01<00:00,  5.02it/s]\n"
          ]
        },
        {
          "name": "stdout",
          "output_type": "stream",
          "text": [
            "Epoch 46 | Train Loss: 0.3757 | Train F1: 0.8590 | Val Loss: 0.3998 | Val F1: 0.9309\n"
          ]
        },
        {
          "name": "stderr",
          "output_type": "stream",
          "text": [
            "Loss: 0.2578: 100%|██████████| 28/28 [00:05<00:00,  5.09it/s]\n",
            "Val Loss: 0.3379: 100%|██████████| 7/7 [00:01<00:00,  5.06it/s]\n"
          ]
        },
        {
          "name": "stdout",
          "output_type": "stream",
          "text": [
            "Epoch 47 | Train Loss: 0.4190 | Train F1: 0.8390 | Val Loss: 0.4416 | Val F1: 0.9181\n"
          ]
        },
        {
          "name": "stderr",
          "output_type": "stream",
          "text": [
            "Loss: 0.2148: 100%|██████████| 28/28 [00:05<00:00,  5.08it/s]\n",
            "Val Loss: 0.3081: 100%|██████████| 7/7 [00:01<00:00,  5.20it/s]\n"
          ]
        },
        {
          "name": "stdout",
          "output_type": "stream",
          "text": [
            "Epoch 48 | Train Loss: 0.4739 | Train F1: 0.8071 | Val Loss: 0.4973 | Val F1: 0.8758\n"
          ]
        },
        {
          "name": "stderr",
          "output_type": "stream",
          "text": [
            "Loss: 0.2783: 100%|██████████| 28/28 [00:05<00:00,  5.13it/s]\n",
            "Val Loss: 0.4342: 100%|██████████| 7/7 [00:01<00:00,  4.96it/s]\n"
          ]
        },
        {
          "name": "stdout",
          "output_type": "stream",
          "text": [
            "Epoch 49 | Train Loss: 0.3776 | Train F1: 0.8887 | Val Loss: 0.4506 | Val F1: 0.8926\n"
          ]
        },
        {
          "name": "stderr",
          "output_type": "stream",
          "text": [
            "Loss: 0.8286: 100%|██████████| 28/28 [00:05<00:00,  5.05it/s]\n",
            "Val Loss: 0.2424: 100%|██████████| 7/7 [00:01<00:00,  5.02it/s]\n"
          ]
        },
        {
          "name": "stdout",
          "output_type": "stream",
          "text": [
            "Epoch 50 | Train Loss: 0.3954 | Train F1: 0.8743 | Val Loss: 0.4333 | Val F1: 0.9316\n"
          ]
        },
        {
          "name": "stderr",
          "output_type": "stream",
          "text": [
            "Loss: 0.4160: 100%|██████████| 28/28 [00:05<00:00,  5.05it/s]\n",
            "Val Loss: 0.2238: 100%|██████████| 7/7 [00:01<00:00,  4.91it/s]\n"
          ]
        },
        {
          "name": "stdout",
          "output_type": "stream",
          "text": [
            "Epoch 51 | Train Loss: 0.3957 | Train F1: 0.8682 | Val Loss: 0.4413 | Val F1: 0.8805\n"
          ]
        },
        {
          "name": "stderr",
          "output_type": "stream",
          "text": [
            "Loss: 0.5117: 100%|██████████| 28/28 [00:05<00:00,  5.15it/s]\n",
            "Val Loss: 0.2320: 100%|██████████| 7/7 [00:01<00:00,  4.87it/s]\n"
          ]
        },
        {
          "name": "stdout",
          "output_type": "stream",
          "text": [
            "Epoch 52 | Train Loss: 0.3263 | Train F1: 0.9004 | Val Loss: 0.4342 | Val F1: 0.9107\n"
          ]
        },
        {
          "name": "stderr",
          "output_type": "stream",
          "text": [
            "Loss: 0.4675: 100%|██████████| 28/28 [00:05<00:00,  5.10it/s]\n",
            "Val Loss: 0.2338: 100%|██████████| 7/7 [00:01<00:00,  4.95it/s]\n"
          ]
        },
        {
          "name": "stdout",
          "output_type": "stream",
          "text": [
            "Epoch 53 | Train Loss: 0.3342 | Train F1: 0.9434 | Val Loss: 0.4464 | Val F1: 0.8853\n"
          ]
        },
        {
          "name": "stderr",
          "output_type": "stream",
          "text": [
            "Loss: 0.7734: 100%|██████████| 28/28 [00:05<00:00,  5.09it/s]\n",
            "Val Loss: 0.2509: 100%|██████████| 7/7 [00:01<00:00,  5.08it/s]\n"
          ]
        },
        {
          "name": "stdout",
          "output_type": "stream",
          "text": [
            "Epoch 54 | Train Loss: 0.4109 | Train F1: 0.8686 | Val Loss: 0.3828 | Val F1: 0.9307\n"
          ]
        },
        {
          "name": "stderr",
          "output_type": "stream",
          "text": [
            "Loss: 0.2151: 100%|██████████| 28/28 [00:05<00:00,  5.05it/s]\n",
            "Val Loss: 0.3469: 100%|██████████| 7/7 [00:01<00:00,  5.06it/s]\n"
          ]
        },
        {
          "name": "stdout",
          "output_type": "stream",
          "text": [
            "Epoch 55 | Train Loss: 0.3986 | Train F1: 0.8875 | Val Loss: 0.4431 | Val F1: 0.8723\n"
          ]
        },
        {
          "name": "stderr",
          "output_type": "stream",
          "text": [
            "Loss: 1.0469: 100%|██████████| 28/28 [00:05<00:00,  5.03it/s]\n",
            "Val Loss: 0.2943: 100%|██████████| 7/7 [00:01<00:00,  5.01it/s]\n"
          ]
        },
        {
          "name": "stdout",
          "output_type": "stream",
          "text": [
            "Epoch 56 | Train Loss: 0.4751 | Train F1: 0.8283 | Val Loss: 0.4273 | Val F1: 0.8729\n"
          ]
        },
        {
          "name": "stderr",
          "output_type": "stream",
          "text": [
            "Loss: 0.2092: 100%|██████████| 28/28 [00:05<00:00,  5.10it/s]\n",
            "Val Loss: 0.2199: 100%|██████████| 7/7 [00:01<00:00,  5.00it/s]\n"
          ]
        },
        {
          "name": "stdout",
          "output_type": "stream",
          "text": [
            "Epoch 57 | Train Loss: 0.4198 | Train F1: 0.8687 | Val Loss: 0.4542 | Val F1: 0.8862\n"
          ]
        },
        {
          "name": "stderr",
          "output_type": "stream",
          "text": [
            "Loss: 0.2062: 100%|██████████| 28/28 [00:05<00:00,  5.11it/s]\n",
            "Val Loss: 0.2267: 100%|██████████| 7/7 [00:01<00:00,  4.86it/s]\n"
          ]
        },
        {
          "name": "stdout",
          "output_type": "stream",
          "text": [
            "Epoch 58 | Train Loss: 0.4245 | Train F1: 0.9012 | Val Loss: 0.4150 | Val F1: 0.8848\n"
          ]
        },
        {
          "name": "stderr",
          "output_type": "stream",
          "text": [
            "Loss: 0.7227: 100%|██████████| 28/28 [00:05<00:00,  5.01it/s]\n",
            "Val Loss: 0.2496: 100%|██████████| 7/7 [00:01<00:00,  4.84it/s]\n"
          ]
        },
        {
          "name": "stdout",
          "output_type": "stream",
          "text": [
            "Epoch 59 | Train Loss: 0.3597 | Train F1: 0.8750 | Val Loss: 0.4213 | Val F1: 0.9054\n"
          ]
        },
        {
          "name": "stderr",
          "output_type": "stream",
          "text": [
            "Loss: 0.7358: 100%|██████████| 28/28 [00:05<00:00,  5.10it/s]\n",
            "Val Loss: 0.2302: 100%|██████████| 7/7 [00:01<00:00,  5.03it/s]\n"
          ]
        },
        {
          "name": "stdout",
          "output_type": "stream",
          "text": [
            "Epoch 60 | Train Loss: 0.4950 | Train F1: 0.8184 | Val Loss: 0.3499 | Val F1: 0.9750\n"
          ]
        },
        {
          "name": "stderr",
          "output_type": "stream",
          "text": [
            "Loss: 0.9512: 100%|██████████| 28/28 [00:05<00:00,  5.10it/s]\n",
            "Val Loss: 0.2250: 100%|██████████| 7/7 [00:01<00:00,  5.14it/s]\n"
          ]
        },
        {
          "name": "stdout",
          "output_type": "stream",
          "text": [
            "Epoch 61 | Train Loss: 0.4256 | Train F1: 0.8923 | Val Loss: 0.4324 | Val F1: 0.8978\n"
          ]
        },
        {
          "name": "stderr",
          "output_type": "stream",
          "text": [
            "Loss: 0.6763: 100%|██████████| 28/28 [00:05<00:00,  5.08it/s]\n",
            "Val Loss: 0.2159: 100%|██████████| 7/7 [00:01<00:00,  4.92it/s]\n"
          ]
        },
        {
          "name": "stdout",
          "output_type": "stream",
          "text": [
            "Epoch 62 | Train Loss: 0.3411 | Train F1: 0.9054 | Val Loss: 0.3971 | Val F1: 0.9181\n"
          ]
        },
        {
          "name": "stderr",
          "output_type": "stream",
          "text": [
            "Loss: 0.2134: 100%|██████████| 28/28 [00:05<00:00,  5.12it/s]\n",
            "Val Loss: 0.2472: 100%|██████████| 7/7 [00:01<00:00,  5.22it/s]\n"
          ]
        },
        {
          "name": "stdout",
          "output_type": "stream",
          "text": [
            "Epoch 63 | Train Loss: 0.3430 | Train F1: 0.8966 | Val Loss: 0.3715 | Val F1: 0.9303\n"
          ]
        },
        {
          "name": "stderr",
          "output_type": "stream",
          "text": [
            "Loss: 0.6650: 100%|██████████| 28/28 [00:05<00:00,  5.04it/s]\n",
            "Val Loss: 0.2367: 100%|██████████| 7/7 [00:01<00:00,  5.10it/s]\n"
          ]
        },
        {
          "name": "stdout",
          "output_type": "stream",
          "text": [
            "Epoch 64 | Train Loss: 0.4011 | Train F1: 0.8887 | Val Loss: 0.3972 | Val F1: 0.9307\n"
          ]
        },
        {
          "name": "stderr",
          "output_type": "stream",
          "text": [
            "Loss: 0.2678: 100%|██████████| 28/28 [00:05<00:00,  5.08it/s]\n",
            "Val Loss: 0.2673: 100%|██████████| 7/7 [00:01<00:00,  5.07it/s]\n"
          ]
        },
        {
          "name": "stdout",
          "output_type": "stream",
          "text": [
            "Epoch 65 | Train Loss: 0.4170 | Train F1: 0.9215 | Val Loss: 0.4083 | Val F1: 0.9053\n"
          ]
        },
        {
          "name": "stderr",
          "output_type": "stream",
          "text": [
            "Loss: 0.2429: 100%|██████████| 28/28 [00:05<00:00,  5.10it/s]\n",
            "Val Loss: 0.2418: 100%|██████████| 7/7 [00:01<00:00,  5.19it/s]\n"
          ]
        },
        {
          "name": "stdout",
          "output_type": "stream",
          "text": [
            "Epoch 66 | Train Loss: 0.3800 | Train F1: 0.8514 | Val Loss: 0.3996 | Val F1: 0.9306\n"
          ]
        },
        {
          "name": "stderr",
          "output_type": "stream",
          "text": [
            "Loss: 0.3350: 100%|██████████| 28/28 [00:05<00:00,  5.06it/s]\n",
            "Val Loss: 0.2601: 100%|██████████| 7/7 [00:01<00:00,  4.93it/s]\n"
          ]
        },
        {
          "name": "stdout",
          "output_type": "stream",
          "text": [
            "Epoch 67 | Train Loss: 0.4078 | Train F1: 0.8441 | Val Loss: 0.3597 | Val F1: 0.9557\n"
          ]
        },
        {
          "name": "stderr",
          "output_type": "stream",
          "text": [
            "Loss: 0.2305: 100%|██████████| 28/28 [00:05<00:00,  5.12it/s]\n",
            "Val Loss: 0.2206: 100%|██████████| 7/7 [00:01<00:00,  5.03it/s]\n"
          ]
        },
        {
          "name": "stdout",
          "output_type": "stream",
          "text": [
            "Epoch 68 | Train Loss: 0.3975 | Train F1: 0.8906 | Val Loss: 0.3455 | Val F1: 0.9306\n"
          ]
        },
        {
          "name": "stderr",
          "output_type": "stream",
          "text": [
            "Loss: 0.2156: 100%|██████████| 28/28 [00:05<00:00,  5.10it/s]\n",
            "Val Loss: 0.2157: 100%|██████████| 7/7 [00:01<00:00,  4.92it/s]\n"
          ]
        },
        {
          "name": "stdout",
          "output_type": "stream",
          "text": [
            "Epoch 69 | Train Loss: 0.3486 | Train F1: 0.9212 | Val Loss: 0.3725 | Val F1: 0.9435\n"
          ]
        },
        {
          "name": "stderr",
          "output_type": "stream",
          "text": [
            "Loss: 0.9580: 100%|██████████| 28/28 [00:05<00:00,  5.13it/s]\n",
            "Val Loss: 0.2364: 100%|██████████| 7/7 [00:01<00:00,  5.11it/s]\n"
          ]
        },
        {
          "name": "stdout",
          "output_type": "stream",
          "text": [
            "Epoch 70 | Train Loss: 0.3535 | Train F1: 0.8807 | Val Loss: 0.3824 | Val F1: 0.9302\n"
          ]
        },
        {
          "name": "stderr",
          "output_type": "stream",
          "text": [
            "Loss: 0.3716: 100%|██████████| 28/28 [00:05<00:00,  5.07it/s]\n",
            "Val Loss: 0.2300: 100%|██████████| 7/7 [00:01<00:00,  5.02it/s]\n"
          ]
        },
        {
          "name": "stdout",
          "output_type": "stream",
          "text": [
            "Epoch 71 | Train Loss: 0.3919 | Train F1: 0.8889 | Val Loss: 0.3476 | Val F1: 0.9430\n"
          ]
        },
        {
          "name": "stderr",
          "output_type": "stream",
          "text": [
            "Loss: 0.4006: 100%|██████████| 28/28 [00:05<00:00,  5.08it/s]\n",
            "Val Loss: 0.2277: 100%|██████████| 7/7 [00:01<00:00,  4.98it/s]\n"
          ]
        },
        {
          "name": "stdout",
          "output_type": "stream",
          "text": [
            "Epoch 72 | Train Loss: 0.3946 | Train F1: 0.8794 | Val Loss: 0.3662 | Val F1: 0.9181\n"
          ]
        },
        {
          "name": "stderr",
          "output_type": "stream",
          "text": [
            "Loss: 0.2744: 100%|██████████| 28/28 [00:05<00:00,  5.13it/s]\n",
            "Val Loss: 0.2180: 100%|██████████| 7/7 [00:01<00:00,  5.14it/s]\n"
          ]
        },
        {
          "name": "stdout",
          "output_type": "stream",
          "text": [
            "Epoch 73 | Train Loss: 0.3491 | Train F1: 0.9030 | Val Loss: 0.3961 | Val F1: 0.9173\n"
          ]
        },
        {
          "name": "stderr",
          "output_type": "stream",
          "text": [
            "Loss: 0.4802: 100%|██████████| 28/28 [00:05<00:00,  5.17it/s]\n",
            "Val Loss: 0.2319: 100%|██████████| 7/7 [00:01<00:00,  4.91it/s]\n"
          ]
        },
        {
          "name": "stdout",
          "output_type": "stream",
          "text": [
            "Epoch 74 | Train Loss: 0.4075 | Train F1: 0.8557 | Val Loss: 0.3664 | Val F1: 0.9226\n"
          ]
        },
        {
          "name": "stderr",
          "output_type": "stream",
          "text": [
            "Loss: 0.6851: 100%|██████████| 28/28 [00:05<00:00,  5.03it/s]\n",
            "Val Loss: 0.2271: 100%|██████████| 7/7 [00:01<00:00,  4.96it/s]\n"
          ]
        },
        {
          "name": "stdout",
          "output_type": "stream",
          "text": [
            "Epoch 75 | Train Loss: 0.3976 | Train F1: 0.8933 | Val Loss: 0.3643 | Val F1: 0.9557\n"
          ]
        },
        {
          "name": "stderr",
          "output_type": "stream",
          "text": [
            "Loss: 0.2903: 100%|██████████| 28/28 [00:05<00:00,  5.02it/s]\n",
            "Val Loss: 0.2210: 100%|██████████| 7/7 [00:01<00:00,  5.05it/s]\n"
          ]
        },
        {
          "name": "stdout",
          "output_type": "stream",
          "text": [
            "Epoch 76 | Train Loss: 0.3475 | Train F1: 0.8725 | Val Loss: 0.3319 | Val F1: 0.9557\n"
          ]
        },
        {
          "name": "stderr",
          "output_type": "stream",
          "text": [
            "Loss: 0.2075: 100%|██████████| 28/28 [00:05<00:00,  5.09it/s]\n",
            "Val Loss: 0.2157: 100%|██████████| 7/7 [00:01<00:00,  4.95it/s]\n"
          ]
        },
        {
          "name": "stdout",
          "output_type": "stream",
          "text": [
            "Epoch 77 | Train Loss: 0.4525 | Train F1: 0.8023 | Val Loss: 0.3762 | Val F1: 0.9179\n"
          ]
        },
        {
          "name": "stderr",
          "output_type": "stream",
          "text": [
            "Loss: 0.4185: 100%|██████████| 28/28 [00:05<00:00,  5.12it/s]\n",
            "Val Loss: 0.2257: 100%|██████████| 7/7 [00:01<00:00,  5.08it/s]\n"
          ]
        },
        {
          "name": "stdout",
          "output_type": "stream",
          "text": [
            "Epoch 78 | Train Loss: 0.4979 | Train F1: 0.8453 | Val Loss: 0.3352 | Val F1: 0.9355\n"
          ]
        },
        {
          "name": "stderr",
          "output_type": "stream",
          "text": [
            "Loss: 0.6328: 100%|██████████| 28/28 [00:05<00:00,  5.08it/s]\n",
            "Val Loss: 0.2234: 100%|██████████| 7/7 [00:01<00:00,  4.99it/s]\n"
          ]
        },
        {
          "name": "stdout",
          "output_type": "stream",
          "text": [
            "Epoch 79 | Train Loss: 0.3351 | Train F1: 0.8733 | Val Loss: 0.3685 | Val F1: 0.9557\n"
          ]
        },
        {
          "name": "stderr",
          "output_type": "stream",
          "text": [
            "Loss: 0.2061: 100%|██████████| 28/28 [00:05<00:00,  5.12it/s]\n",
            "Val Loss: 0.2301: 100%|██████████| 7/7 [00:01<00:00,  4.99it/s]\n"
          ]
        },
        {
          "name": "stdout",
          "output_type": "stream",
          "text": [
            "Epoch 80 | Train Loss: 0.3423 | Train F1: 0.8952 | Val Loss: 0.3552 | Val F1: 0.9557\n"
          ]
        },
        {
          "name": "stderr",
          "output_type": "stream",
          "text": [
            "Loss: 0.2030: 100%|██████████| 28/28 [00:05<00:00,  5.09it/s]\n",
            "Val Loss: 0.2279: 100%|██████████| 7/7 [00:01<00:00,  5.01it/s]\n"
          ]
        },
        {
          "name": "stdout",
          "output_type": "stream",
          "text": [
            "Epoch 81 | Train Loss: 0.3549 | Train F1: 0.9184 | Val Loss: 0.3915 | Val F1: 0.9179\n"
          ]
        },
        {
          "name": "stderr",
          "output_type": "stream",
          "text": [
            "Loss: 0.3213: 100%|██████████| 28/28 [00:05<00:00,  5.09it/s]\n",
            "Val Loss: 0.2129: 100%|██████████| 7/7 [00:01<00:00,  5.10it/s]\n"
          ]
        },
        {
          "name": "stdout",
          "output_type": "stream",
          "text": [
            "Epoch 82 | Train Loss: 0.4298 | Train F1: 0.9046 | Val Loss: 0.3336 | Val F1: 0.9428\n"
          ]
        },
        {
          "name": "stderr",
          "output_type": "stream",
          "text": [
            "Loss: 0.4160: 100%|██████████| 28/28 [00:05<00:00,  5.08it/s]\n",
            "Val Loss: 0.2178: 100%|██████████| 7/7 [00:01<00:00,  5.01it/s]\n"
          ]
        },
        {
          "name": "stdout",
          "output_type": "stream",
          "text": [
            "Epoch 83 | Train Loss: 0.4014 | Train F1: 0.8844 | Val Loss: 0.3416 | Val F1: 0.9557\n"
          ]
        },
        {
          "name": "stderr",
          "output_type": "stream",
          "text": [
            "Loss: 0.2129: 100%|██████████| 28/28 [00:05<00:00,  5.13it/s]\n",
            "Val Loss: 0.2113: 100%|██████████| 7/7 [00:01<00:00,  5.01it/s]\n"
          ]
        },
        {
          "name": "stdout",
          "output_type": "stream",
          "text": [
            "Epoch 84 | Train Loss: 0.2776 | Train F1: 0.9518 | Val Loss: 0.3721 | Val F1: 0.9307\n"
          ]
        },
        {
          "name": "stderr",
          "output_type": "stream",
          "text": [
            "Loss: 0.2050: 100%|██████████| 28/28 [00:05<00:00,  5.10it/s]\n",
            "Val Loss: 0.2135: 100%|██████████| 7/7 [00:01<00:00,  5.03it/s]\n"
          ]
        },
        {
          "name": "stdout",
          "output_type": "stream",
          "text": [
            "Epoch 85 | Train Loss: 0.3685 | Train F1: 0.8999 | Val Loss: 0.4048 | Val F1: 0.9182\n"
          ]
        },
        {
          "name": "stderr",
          "output_type": "stream",
          "text": [
            "Loss: 0.8076: 100%|██████████| 28/28 [00:05<00:00,  5.10it/s]\n",
            "Val Loss: 0.2145: 100%|██████████| 7/7 [00:01<00:00,  5.21it/s]\n"
          ]
        },
        {
          "name": "stdout",
          "output_type": "stream",
          "text": [
            "Epoch 86 | Train Loss: 0.4015 | Train F1: 0.9044 | Val Loss: 0.3489 | Val F1: 0.9428\n"
          ]
        },
        {
          "name": "stderr",
          "output_type": "stream",
          "text": [
            "Loss: 0.2031: 100%|██████████| 28/28 [00:05<00:00,  5.07it/s]\n",
            "Val Loss: 0.2297: 100%|██████████| 7/7 [00:01<00:00,  4.89it/s]\n"
          ]
        },
        {
          "name": "stdout",
          "output_type": "stream",
          "text": [
            "Epoch 87 | Train Loss: 0.3620 | Train F1: 0.8922 | Val Loss: 0.3771 | Val F1: 0.9307\n"
          ]
        },
        {
          "name": "stderr",
          "output_type": "stream",
          "text": [
            "Loss: 0.3428: 100%|██████████| 28/28 [00:05<00:00,  5.11it/s]\n",
            "Val Loss: 0.2117: 100%|██████████| 7/7 [00:01<00:00,  5.02it/s]\n"
          ]
        },
        {
          "name": "stdout",
          "output_type": "stream",
          "text": [
            "Epoch 88 | Train Loss: 0.4110 | Train F1: 0.8741 | Val Loss: 0.3758 | Val F1: 0.9297\n"
          ]
        },
        {
          "name": "stderr",
          "output_type": "stream",
          "text": [
            "Loss: 0.2111: 100%|██████████| 28/28 [00:05<00:00,  5.07it/s]\n",
            "Val Loss: 0.2257: 100%|██████████| 7/7 [00:01<00:00,  4.86it/s]\n"
          ]
        },
        {
          "name": "stdout",
          "output_type": "stream",
          "text": [
            "Epoch 89 | Train Loss: 0.3877 | Train F1: 0.8495 | Val Loss: 0.3648 | Val F1: 0.9557\n"
          ]
        },
        {
          "name": "stderr",
          "output_type": "stream",
          "text": [
            "Loss: 0.2393: 100%|██████████| 28/28 [00:05<00:00,  5.09it/s]\n",
            "Val Loss: 0.2123: 100%|██████████| 7/7 [00:01<00:00,  5.12it/s]\n"
          ]
        },
        {
          "name": "stdout",
          "output_type": "stream",
          "text": [
            "Epoch 90 | Train Loss: 0.4413 | Train F1: 0.8712 | Val Loss: 0.3933 | Val F1: 0.9303\n"
          ]
        },
        {
          "name": "stderr",
          "output_type": "stream",
          "text": [
            "Loss: 0.2385: 100%|██████████| 28/28 [00:05<00:00,  5.06it/s]\n",
            "Val Loss: 0.2090: 100%|██████████| 7/7 [00:01<00:00,  5.07it/s]\n"
          ]
        },
        {
          "name": "stdout",
          "output_type": "stream",
          "text": [
            "Epoch 91 | Train Loss: 0.3194 | Train F1: 0.9765 | Val Loss: 0.4035 | Val F1: 0.9430\n"
          ]
        },
        {
          "name": "stderr",
          "output_type": "stream",
          "text": [
            "Loss: 0.2036: 100%|██████████| 28/28 [00:05<00:00,  5.09it/s]\n",
            "Val Loss: 0.2279: 100%|██████████| 7/7 [00:01<00:00,  5.07it/s]\n"
          ]
        },
        {
          "name": "stdout",
          "output_type": "stream",
          "text": [
            "Epoch 92 | Train Loss: 0.3577 | Train F1: 0.9067 | Val Loss: 0.3747 | Val F1: 0.9303\n"
          ]
        },
        {
          "name": "stderr",
          "output_type": "stream",
          "text": [
            "Loss: 0.2021: 100%|██████████| 28/28 [00:05<00:00,  5.08it/s]\n",
            "Val Loss: 0.2157: 100%|██████████| 7/7 [00:01<00:00,  4.93it/s]\n"
          ]
        },
        {
          "name": "stdout",
          "output_type": "stream",
          "text": [
            "Epoch 93 | Train Loss: 0.3281 | Train F1: 0.9171 | Val Loss: 0.3621 | Val F1: 0.9432\n"
          ]
        },
        {
          "name": "stderr",
          "output_type": "stream",
          "text": [
            "Loss: 0.2075: 100%|██████████| 28/28 [00:05<00:00,  5.08it/s]\n",
            "Val Loss: 0.2210: 100%|██████████| 7/7 [00:01<00:00,  4.88it/s]\n"
          ]
        },
        {
          "name": "stdout",
          "output_type": "stream",
          "text": [
            "Epoch 94 | Train Loss: 0.3504 | Train F1: 0.8651 | Val Loss: 0.3260 | Val F1: 0.9435\n"
          ]
        },
        {
          "name": "stderr",
          "output_type": "stream",
          "text": [
            "Loss: 0.3267: 100%|██████████| 28/28 [00:05<00:00,  5.09it/s]\n",
            "Val Loss: 0.2999: 100%|██████████| 7/7 [00:01<00:00,  4.94it/s]\n"
          ]
        },
        {
          "name": "stdout",
          "output_type": "stream",
          "text": [
            "Epoch 95 | Train Loss: 0.2591 | Train F1: 0.9639 | Val Loss: 0.3608 | Val F1: 0.9309\n"
          ]
        },
        {
          "name": "stderr",
          "output_type": "stream",
          "text": [
            "Loss: 0.2035: 100%|██████████| 28/28 [00:05<00:00,  5.07it/s]\n",
            "Val Loss: 0.2320: 100%|██████████| 7/7 [00:01<00:00,  5.26it/s]\n"
          ]
        },
        {
          "name": "stdout",
          "output_type": "stream",
          "text": [
            "Epoch 96 | Train Loss: 0.4004 | Train F1: 0.8695 | Val Loss: 0.3891 | Val F1: 0.9181\n"
          ]
        },
        {
          "name": "stderr",
          "output_type": "stream",
          "text": [
            "Loss: 0.2031: 100%|██████████| 28/28 [00:05<00:00,  5.04it/s]\n",
            "Val Loss: 0.2205: 100%|██████████| 7/7 [00:01<00:00,  5.03it/s]\n"
          ]
        },
        {
          "name": "stdout",
          "output_type": "stream",
          "text": [
            "Epoch 97 | Train Loss: 0.3315 | Train F1: 0.8820 | Val Loss: 0.3903 | Val F1: 0.9179\n"
          ]
        },
        {
          "name": "stderr",
          "output_type": "stream",
          "text": [
            "Loss: 0.2781: 100%|██████████| 28/28 [00:05<00:00,  5.07it/s]\n",
            "Val Loss: 0.2104: 100%|██████████| 7/7 [00:01<00:00,  4.92it/s]\n"
          ]
        },
        {
          "name": "stdout",
          "output_type": "stream",
          "text": [
            "Epoch 98 | Train Loss: 0.3676 | Train F1: 0.8584 | Val Loss: 0.3446 | Val F1: 0.9622\n"
          ]
        },
        {
          "name": "stderr",
          "output_type": "stream",
          "text": [
            "Loss: 0.2037: 100%|██████████| 28/28 [00:05<00:00,  5.10it/s]\n",
            "Val Loss: 0.2374: 100%|██████████| 7/7 [00:01<00:00,  4.91it/s]\n"
          ]
        },
        {
          "name": "stdout",
          "output_type": "stream",
          "text": [
            "Epoch 99 | Train Loss: 0.3437 | Train F1: 0.9219 | Val Loss: 0.3624 | Val F1: 0.9303\n"
          ]
        },
        {
          "name": "stderr",
          "output_type": "stream",
          "text": [
            "Loss: 0.5571: 100%|██████████| 28/28 [00:05<00:00,  5.07it/s]\n",
            "Val Loss: 0.2193: 100%|██████████| 7/7 [00:01<00:00,  5.19it/s]\n"
          ]
        },
        {
          "name": "stdout",
          "output_type": "stream",
          "text": [
            "Epoch 100 | Train Loss: 0.3979 | Train F1: 0.9145 | Val Loss: 0.4011 | Val F1: 0.9307\n",
            "Subset Fold 4 Best Validation F1: 0.9750\n",
            "\n",
            "==================================================\n",
            "SUBSET FOLD 5/5\n",
            "==================================================\n",
            "Train samples: 280, Validation samples: 70\n"
          ]
        },
        {
          "name": "stderr",
          "output_type": "stream",
          "text": [
            "Loss: 1.7041: 100%|██████████| 28/28 [00:05<00:00,  5.00it/s]\n",
            "Val Loss: 1.5287: 100%|██████████| 7/7 [00:01<00:00,  4.82it/s]\n"
          ]
        },
        {
          "name": "stdout",
          "output_type": "stream",
          "text": [
            "Epoch  1 | Train Loss: 1.4680 | Train F1: 0.2443 | Val Loss: 1.3943 | Val F1: 0.1141\n"
          ]
        },
        {
          "name": "stderr",
          "output_type": "stream",
          "text": [
            "Loss: 1.3066: 100%|██████████| 28/28 [00:05<00:00,  5.07it/s]\n",
            "Val Loss: 1.1411: 100%|██████████| 7/7 [00:01<00:00,  5.00it/s]\n"
          ]
        },
        {
          "name": "stdout",
          "output_type": "stream",
          "text": [
            "Epoch  2 | Train Loss: 1.3317 | Train F1: 0.2971 | Val Loss: 1.2250 | Val F1: 0.4198\n"
          ]
        },
        {
          "name": "stderr",
          "output_type": "stream",
          "text": [
            "Loss: 1.3906: 100%|██████████| 28/28 [00:05<00:00,  5.09it/s]\n",
            "Val Loss: 0.8135: 100%|██████████| 7/7 [00:01<00:00,  4.92it/s]\n"
          ]
        },
        {
          "name": "stdout",
          "output_type": "stream",
          "text": [
            "Epoch  3 | Train Loss: 1.2254 | Train F1: 0.3878 | Val Loss: 1.0884 | Val F1: 0.4084\n"
          ]
        },
        {
          "name": "stderr",
          "output_type": "stream",
          "text": [
            "Loss: 1.1660: 100%|██████████| 28/28 [00:05<00:00,  5.04it/s]\n",
            "Val Loss: 0.8137: 100%|██████████| 7/7 [00:01<00:00,  4.95it/s]\n"
          ]
        },
        {
          "name": "stdout",
          "output_type": "stream",
          "text": [
            "Epoch  4 | Train Loss: 1.1706 | Train F1: 0.3988 | Val Loss: 1.1091 | Val F1: 0.4488\n"
          ]
        },
        {
          "name": "stderr",
          "output_type": "stream",
          "text": [
            "Loss: 0.8369: 100%|██████████| 28/28 [00:05<00:00,  5.06it/s]\n",
            "Val Loss: 0.7744: 100%|██████████| 7/7 [00:01<00:00,  5.02it/s]\n"
          ]
        },
        {
          "name": "stdout",
          "output_type": "stream",
          "text": [
            "Epoch  5 | Train Loss: 1.1535 | Train F1: 0.4615 | Val Loss: 1.0845 | Val F1: 0.3987\n"
          ]
        },
        {
          "name": "stderr",
          "output_type": "stream",
          "text": [
            "Loss: 0.8154: 100%|██████████| 28/28 [00:05<00:00,  5.09it/s]\n",
            "Val Loss: 0.8869: 100%|██████████| 7/7 [00:01<00:00,  4.98it/s]\n"
          ]
        },
        {
          "name": "stdout",
          "output_type": "stream",
          "text": [
            "Epoch  6 | Train Loss: 1.1120 | Train F1: 0.4610 | Val Loss: 1.0593 | Val F1: 0.5377\n"
          ]
        },
        {
          "name": "stderr",
          "output_type": "stream",
          "text": [
            "Loss: 0.5825: 100%|██████████| 28/28 [00:05<00:00,  5.11it/s]\n",
            "Val Loss: 0.9275: 100%|██████████| 7/7 [00:01<00:00,  5.34it/s]\n"
          ]
        },
        {
          "name": "stdout",
          "output_type": "stream",
          "text": [
            "Epoch  7 | Train Loss: 1.0055 | Train F1: 0.5018 | Val Loss: 1.2000 | Val F1: 0.4938\n"
          ]
        },
        {
          "name": "stderr",
          "output_type": "stream",
          "text": [
            "Loss: 0.9541: 100%|██████████| 28/28 [00:05<00:00,  5.04it/s]\n",
            "Val Loss: 0.6269: 100%|██████████| 7/7 [00:01<00:00,  5.22it/s]\n"
          ]
        },
        {
          "name": "stdout",
          "output_type": "stream",
          "text": [
            "Epoch  8 | Train Loss: 1.1851 | Train F1: 0.4202 | Val Loss: 1.0222 | Val F1: 0.5133\n"
          ]
        },
        {
          "name": "stderr",
          "output_type": "stream",
          "text": [
            "Loss: 0.7100: 100%|██████████| 28/28 [00:05<00:00,  5.06it/s]\n",
            "Val Loss: 0.5478: 100%|██████████| 7/7 [00:01<00:00,  5.15it/s]\n"
          ]
        },
        {
          "name": "stdout",
          "output_type": "stream",
          "text": [
            "Epoch  9 | Train Loss: 0.9901 | Train F1: 0.5761 | Val Loss: 0.9890 | Val F1: 0.6464\n"
          ]
        },
        {
          "name": "stderr",
          "output_type": "stream",
          "text": [
            "Loss: 0.8335: 100%|██████████| 28/28 [00:05<00:00,  5.07it/s]\n",
            "Val Loss: 0.9676: 100%|██████████| 7/7 [00:01<00:00,  5.17it/s]\n"
          ]
        },
        {
          "name": "stdout",
          "output_type": "stream",
          "text": [
            "Epoch 10 | Train Loss: 0.9516 | Train F1: 0.5794 | Val Loss: 1.1856 | Val F1: 0.5118\n"
          ]
        },
        {
          "name": "stderr",
          "output_type": "stream",
          "text": [
            "Loss: 0.8569: 100%|██████████| 28/28 [00:05<00:00,  5.12it/s]\n",
            "Val Loss: 0.4675: 100%|██████████| 7/7 [00:01<00:00,  5.16it/s]\n"
          ]
        },
        {
          "name": "stdout",
          "output_type": "stream",
          "text": [
            "Epoch 11 | Train Loss: 0.9436 | Train F1: 0.6096 | Val Loss: 0.8991 | Val F1: 0.5665\n"
          ]
        },
        {
          "name": "stderr",
          "output_type": "stream",
          "text": [
            "Loss: 0.7168: 100%|██████████| 28/28 [00:05<00:00,  5.10it/s]\n",
            "Val Loss: 0.6150: 100%|██████████| 7/7 [00:01<00:00,  4.87it/s]\n"
          ]
        },
        {
          "name": "stdout",
          "output_type": "stream",
          "text": [
            "Epoch 12 | Train Loss: 0.7921 | Train F1: 0.6279 | Val Loss: 0.9649 | Val F1: 0.5578\n"
          ]
        },
        {
          "name": "stderr",
          "output_type": "stream",
          "text": [
            "Loss: 0.8652: 100%|██████████| 28/28 [00:05<00:00,  5.14it/s]\n",
            "Val Loss: 0.5153: 100%|██████████| 7/7 [00:01<00:00,  4.94it/s]\n"
          ]
        },
        {
          "name": "stdout",
          "output_type": "stream",
          "text": [
            "Epoch 13 | Train Loss: 0.8408 | Train F1: 0.5866 | Val Loss: 1.0041 | Val F1: 0.6583\n"
          ]
        },
        {
          "name": "stderr",
          "output_type": "stream",
          "text": [
            "Loss: 0.5342: 100%|██████████| 28/28 [00:05<00:00,  5.04it/s]\n",
            "Val Loss: 0.3308: 100%|██████████| 7/7 [00:01<00:00,  5.07it/s]\n"
          ]
        },
        {
          "name": "stdout",
          "output_type": "stream",
          "text": [
            "Epoch 14 | Train Loss: 0.8002 | Train F1: 0.6802 | Val Loss: 0.7869 | Val F1: 0.6915\n"
          ]
        },
        {
          "name": "stderr",
          "output_type": "stream",
          "text": [
            "Loss: 0.5947: 100%|██████████| 28/28 [00:05<00:00,  5.15it/s]\n",
            "Val Loss: 0.5634: 100%|██████████| 7/7 [00:01<00:00,  4.94it/s]\n"
          ]
        },
        {
          "name": "stdout",
          "output_type": "stream",
          "text": [
            "Epoch 15 | Train Loss: 0.6273 | Train F1: 0.7643 | Val Loss: 0.9535 | Val F1: 0.6617\n"
          ]
        },
        {
          "name": "stderr",
          "output_type": "stream",
          "text": [
            "Loss: 1.0498: 100%|██████████| 28/28 [00:05<00:00,  5.02it/s]\n",
            "Val Loss: 0.5745: 100%|██████████| 7/7 [00:01<00:00,  4.93it/s]\n"
          ]
        },
        {
          "name": "stdout",
          "output_type": "stream",
          "text": [
            "Epoch 16 | Train Loss: 0.6712 | Train F1: 0.7848 | Val Loss: 0.8180 | Val F1: 0.6875\n"
          ]
        },
        {
          "name": "stderr",
          "output_type": "stream",
          "text": [
            "Loss: 0.4307: 100%|██████████| 28/28 [00:05<00:00,  4.98it/s]\n",
            "Val Loss: 0.3506: 100%|██████████| 7/7 [00:01<00:00,  4.93it/s]\n"
          ]
        },
        {
          "name": "stdout",
          "output_type": "stream",
          "text": [
            "Epoch 17 | Train Loss: 0.6898 | Train F1: 0.8237 | Val Loss: 0.8764 | Val F1: 0.6885\n"
          ]
        },
        {
          "name": "stderr",
          "output_type": "stream",
          "text": [
            "Loss: 0.3521: 100%|██████████| 28/28 [00:05<00:00,  5.04it/s]\n",
            "Val Loss: 0.3334: 100%|██████████| 7/7 [00:01<00:00,  5.15it/s]\n"
          ]
        },
        {
          "name": "stdout",
          "output_type": "stream",
          "text": [
            "Epoch 18 | Train Loss: 0.7035 | Train F1: 0.7797 | Val Loss: 0.7673 | Val F1: 0.7255\n"
          ]
        },
        {
          "name": "stderr",
          "output_type": "stream",
          "text": [
            "Loss: 0.7612: 100%|██████████| 28/28 [00:05<00:00,  5.09it/s]\n",
            "Val Loss: 0.3703: 100%|██████████| 7/7 [00:01<00:00,  4.80it/s]\n"
          ]
        },
        {
          "name": "stdout",
          "output_type": "stream",
          "text": [
            "Epoch 19 | Train Loss: 0.6246 | Train F1: 0.8001 | Val Loss: 0.8124 | Val F1: 0.7252\n"
          ]
        },
        {
          "name": "stderr",
          "output_type": "stream",
          "text": [
            "Loss: 0.3906: 100%|██████████| 28/28 [00:05<00:00,  5.02it/s]\n",
            "Val Loss: 0.4449: 100%|██████████| 7/7 [00:01<00:00,  5.02it/s]\n"
          ]
        },
        {
          "name": "stdout",
          "output_type": "stream",
          "text": [
            "Epoch 20 | Train Loss: 0.6103 | Train F1: 0.8304 | Val Loss: 0.8058 | Val F1: 0.7184\n"
          ]
        },
        {
          "name": "stderr",
          "output_type": "stream",
          "text": [
            "Loss: 1.0771: 100%|██████████| 28/28 [00:05<00:00,  5.05it/s]\n",
            "Val Loss: 0.6959: 100%|██████████| 7/7 [00:01<00:00,  5.15it/s]\n"
          ]
        },
        {
          "name": "stdout",
          "output_type": "stream",
          "text": [
            "Epoch 21 | Train Loss: 0.6220 | Train F1: 0.7914 | Val Loss: 1.0248 | Val F1: 0.6281\n"
          ]
        },
        {
          "name": "stderr",
          "output_type": "stream",
          "text": [
            "Loss: 0.7422: 100%|██████████| 28/28 [00:05<00:00,  5.12it/s]\n",
            "Val Loss: 0.4490: 100%|██████████| 7/7 [00:01<00:00,  4.94it/s]\n"
          ]
        },
        {
          "name": "stdout",
          "output_type": "stream",
          "text": [
            "Epoch 22 | Train Loss: 0.6400 | Train F1: 0.7787 | Val Loss: 0.8426 | Val F1: 0.6514\n"
          ]
        },
        {
          "name": "stderr",
          "output_type": "stream",
          "text": [
            "Loss: 0.3748: 100%|██████████| 28/28 [00:05<00:00,  5.09it/s]\n",
            "Val Loss: 0.5020: 100%|██████████| 7/7 [00:01<00:00,  5.18it/s]\n"
          ]
        },
        {
          "name": "stdout",
          "output_type": "stream",
          "text": [
            "Epoch 23 | Train Loss: 0.5852 | Train F1: 0.8392 | Val Loss: 0.9379 | Val F1: 0.7207\n"
          ]
        },
        {
          "name": "stderr",
          "output_type": "stream",
          "text": [
            "Loss: 0.5625: 100%|██████████| 28/28 [00:05<00:00,  5.14it/s]\n",
            "Val Loss: 0.4619: 100%|██████████| 7/7 [00:01<00:00,  5.06it/s]\n"
          ]
        },
        {
          "name": "stdout",
          "output_type": "stream",
          "text": [
            "Epoch 24 | Train Loss: 0.6102 | Train F1: 0.7610 | Val Loss: 0.8642 | Val F1: 0.7402\n"
          ]
        },
        {
          "name": "stderr",
          "output_type": "stream",
          "text": [
            "Loss: 0.8105: 100%|██████████| 28/28 [00:05<00:00,  5.02it/s]\n",
            "Val Loss: 0.2891: 100%|██████████| 7/7 [00:01<00:00,  4.98it/s]\n"
          ]
        },
        {
          "name": "stdout",
          "output_type": "stream",
          "text": [
            "Epoch 25 | Train Loss: 0.4931 | Train F1: 0.8132 | Val Loss: 0.9591 | Val F1: 0.7431\n"
          ]
        },
        {
          "name": "stderr",
          "output_type": "stream",
          "text": [
            "Loss: 0.3782: 100%|██████████| 28/28 [00:05<00:00,  5.03it/s]\n",
            "Val Loss: 0.2703: 100%|██████████| 7/7 [00:01<00:00,  4.89it/s]\n"
          ]
        },
        {
          "name": "stdout",
          "output_type": "stream",
          "text": [
            "Epoch 26 | Train Loss: 0.5331 | Train F1: 0.8282 | Val Loss: 0.7939 | Val F1: 0.7797\n"
          ]
        },
        {
          "name": "stderr",
          "output_type": "stream",
          "text": [
            "Loss: 1.0947: 100%|██████████| 28/28 [00:05<00:00,  5.05it/s]\n",
            "Val Loss: 0.3436: 100%|██████████| 7/7 [00:01<00:00,  5.01it/s]\n"
          ]
        },
        {
          "name": "stdout",
          "output_type": "stream",
          "text": [
            "Epoch 27 | Train Loss: 0.5516 | Train F1: 0.8580 | Val Loss: 0.8364 | Val F1: 0.7593\n"
          ]
        },
        {
          "name": "stderr",
          "output_type": "stream",
          "text": [
            "Loss: 0.3003: 100%|██████████| 28/28 [00:05<00:00,  5.15it/s]\n",
            "Val Loss: 0.5351: 100%|██████████| 7/7 [00:01<00:00,  4.84it/s]\n"
          ]
        },
        {
          "name": "stdout",
          "output_type": "stream",
          "text": [
            "Epoch 28 | Train Loss: 0.4605 | Train F1: 0.8544 | Val Loss: 0.7981 | Val F1: 0.7908\n"
          ]
        },
        {
          "name": "stderr",
          "output_type": "stream",
          "text": [
            "Loss: 0.3535: 100%|██████████| 28/28 [00:05<00:00,  5.03it/s]\n",
            "Val Loss: 0.5618: 100%|██████████| 7/7 [00:01<00:00,  5.02it/s]\n"
          ]
        },
        {
          "name": "stdout",
          "output_type": "stream",
          "text": [
            "Epoch 29 | Train Loss: 0.4245 | Train F1: 0.8992 | Val Loss: 0.8688 | Val F1: 0.6838\n"
          ]
        },
        {
          "name": "stderr",
          "output_type": "stream",
          "text": [
            "Loss: 0.3044: 100%|██████████| 28/28 [00:05<00:00,  5.08it/s]\n",
            "Val Loss: 0.4306: 100%|██████████| 7/7 [00:01<00:00,  5.05it/s]\n"
          ]
        },
        {
          "name": "stdout",
          "output_type": "stream",
          "text": [
            "Epoch 30 | Train Loss: 0.5173 | Train F1: 0.8759 | Val Loss: 0.7950 | Val F1: 0.7391\n"
          ]
        },
        {
          "name": "stderr",
          "output_type": "stream",
          "text": [
            "Loss: 0.2273: 100%|██████████| 28/28 [00:05<00:00,  5.15it/s]\n",
            "Val Loss: 0.6237: 100%|██████████| 7/7 [00:01<00:00,  5.00it/s]\n"
          ]
        },
        {
          "name": "stdout",
          "output_type": "stream",
          "text": [
            "Epoch 31 | Train Loss: 0.5034 | Train F1: 0.8855 | Val Loss: 0.9760 | Val F1: 0.6810\n"
          ]
        },
        {
          "name": "stderr",
          "output_type": "stream",
          "text": [
            "Loss: 0.5928: 100%|██████████| 28/28 [00:05<00:00,  5.07it/s]\n",
            "Val Loss: 0.3934: 100%|██████████| 7/7 [00:01<00:00,  5.01it/s]\n"
          ]
        },
        {
          "name": "stdout",
          "output_type": "stream",
          "text": [
            "Epoch 32 | Train Loss: 0.4980 | Train F1: 0.8557 | Val Loss: 0.7985 | Val F1: 0.7958\n"
          ]
        },
        {
          "name": "stderr",
          "output_type": "stream",
          "text": [
            "Loss: 0.4221: 100%|██████████| 28/28 [00:05<00:00,  5.09it/s]\n",
            "Val Loss: 0.3811: 100%|██████████| 7/7 [00:01<00:00,  5.14it/s]\n"
          ]
        },
        {
          "name": "stdout",
          "output_type": "stream",
          "text": [
            "Epoch 33 | Train Loss: 0.4510 | Train F1: 0.8796 | Val Loss: 0.8384 | Val F1: 0.7811\n"
          ]
        },
        {
          "name": "stderr",
          "output_type": "stream",
          "text": [
            "Loss: 0.5493: 100%|██████████| 28/28 [00:05<00:00,  5.15it/s]\n",
            "Val Loss: 0.4328: 100%|██████████| 7/7 [00:01<00:00,  4.87it/s]\n"
          ]
        },
        {
          "name": "stdout",
          "output_type": "stream",
          "text": [
            "Epoch 34 | Train Loss: 0.3881 | Train F1: 0.9247 | Val Loss: 0.8339 | Val F1: 0.7969\n"
          ]
        },
        {
          "name": "stderr",
          "output_type": "stream",
          "text": [
            "Loss: 0.4150: 100%|██████████| 28/28 [00:05<00:00,  5.12it/s]\n",
            "Val Loss: 0.3072: 100%|██████████| 7/7 [00:01<00:00,  4.97it/s]\n"
          ]
        },
        {
          "name": "stdout",
          "output_type": "stream",
          "text": [
            "Epoch 35 | Train Loss: 0.3562 | Train F1: 0.8973 | Val Loss: 0.8310 | Val F1: 0.7936\n"
          ]
        },
        {
          "name": "stderr",
          "output_type": "stream",
          "text": [
            "Loss: 0.2549: 100%|██████████| 28/28 [00:05<00:00,  5.15it/s]\n",
            "Val Loss: 0.4211: 100%|██████████| 7/7 [00:01<00:00,  5.02it/s]\n"
          ]
        },
        {
          "name": "stdout",
          "output_type": "stream",
          "text": [
            "Epoch 36 | Train Loss: 0.4469 | Train F1: 0.8645 | Val Loss: 0.8739 | Val F1: 0.7509\n"
          ]
        },
        {
          "name": "stderr",
          "output_type": "stream",
          "text": [
            "Loss: 0.4810: 100%|██████████| 28/28 [00:05<00:00,  5.07it/s]\n",
            "Val Loss: 0.3027: 100%|██████████| 7/7 [00:01<00:00,  5.00it/s]\n"
          ]
        },
        {
          "name": "stdout",
          "output_type": "stream",
          "text": [
            "Epoch 37 | Train Loss: 0.4130 | Train F1: 0.8586 | Val Loss: 0.8637 | Val F1: 0.7721\n"
          ]
        },
        {
          "name": "stderr",
          "output_type": "stream",
          "text": [
            "Loss: 0.2208: 100%|██████████| 28/28 [00:05<00:00,  5.15it/s]\n",
            "Val Loss: 0.2798: 100%|██████████| 7/7 [00:01<00:00,  4.98it/s]\n"
          ]
        },
        {
          "name": "stdout",
          "output_type": "stream",
          "text": [
            "Epoch 38 | Train Loss: 0.4773 | Train F1: 0.8990 | Val Loss: 0.8347 | Val F1: 0.7893\n"
          ]
        },
        {
          "name": "stderr",
          "output_type": "stream",
          "text": [
            "Loss: 0.2147: 100%|██████████| 28/28 [00:05<00:00,  4.96it/s]\n",
            "Val Loss: 0.4276: 100%|██████████| 7/7 [00:01<00:00,  5.19it/s]\n"
          ]
        },
        {
          "name": "stdout",
          "output_type": "stream",
          "text": [
            "Epoch 39 | Train Loss: 0.4173 | Train F1: 0.8913 | Val Loss: 0.7774 | Val F1: 0.7893\n"
          ]
        },
        {
          "name": "stderr",
          "output_type": "stream",
          "text": [
            "Loss: 0.4775: 100%|██████████| 28/28 [00:05<00:00,  5.05it/s]\n",
            "Val Loss: 0.3615: 100%|██████████| 7/7 [00:01<00:00,  5.25it/s]\n"
          ]
        },
        {
          "name": "stdout",
          "output_type": "stream",
          "text": [
            "Epoch 40 | Train Loss: 0.3854 | Train F1: 0.8876 | Val Loss: 0.8027 | Val F1: 0.7725\n"
          ]
        },
        {
          "name": "stderr",
          "output_type": "stream",
          "text": [
            "Loss: 0.2085: 100%|██████████| 28/28 [00:05<00:00,  5.05it/s]\n",
            "Val Loss: 0.3050: 100%|██████████| 7/7 [00:01<00:00,  5.30it/s]\n"
          ]
        },
        {
          "name": "stdout",
          "output_type": "stream",
          "text": [
            "Epoch 41 | Train Loss: 0.3861 | Train F1: 0.8455 | Val Loss: 0.7108 | Val F1: 0.8390\n"
          ]
        },
        {
          "name": "stderr",
          "output_type": "stream",
          "text": [
            "Loss: 0.2305: 100%|██████████| 28/28 [00:05<00:00,  5.14it/s]\n",
            "Val Loss: 0.3228: 100%|██████████| 7/7 [00:01<00:00,  5.15it/s]\n"
          ]
        },
        {
          "name": "stdout",
          "output_type": "stream",
          "text": [
            "Epoch 42 | Train Loss: 0.4080 | Train F1: 0.8492 | Val Loss: 0.8299 | Val F1: 0.7925\n"
          ]
        },
        {
          "name": "stderr",
          "output_type": "stream",
          "text": [
            "Loss: 0.2183: 100%|██████████| 28/28 [00:05<00:00,  5.03it/s]\n",
            "Val Loss: 0.4045: 100%|██████████| 7/7 [00:01<00:00,  4.85it/s]\n"
          ]
        },
        {
          "name": "stdout",
          "output_type": "stream",
          "text": [
            "Epoch 43 | Train Loss: 0.4048 | Train F1: 0.8876 | Val Loss: 0.8589 | Val F1: 0.7599\n"
          ]
        },
        {
          "name": "stderr",
          "output_type": "stream",
          "text": [
            "Loss: 0.5381: 100%|██████████| 28/28 [00:05<00:00,  5.14it/s]\n",
            "Val Loss: 0.4024: 100%|██████████| 7/7 [00:01<00:00,  5.11it/s]\n"
          ]
        },
        {
          "name": "stdout",
          "output_type": "stream",
          "text": [
            "Epoch 44 | Train Loss: 0.4402 | Train F1: 0.8222 | Val Loss: 0.7835 | Val F1: 0.7488\n"
          ]
        },
        {
          "name": "stderr",
          "output_type": "stream",
          "text": [
            "Loss: 0.4189: 100%|██████████| 28/28 [00:05<00:00,  5.09it/s]\n",
            "Val Loss: 0.3146: 100%|██████████| 7/7 [00:01<00:00,  4.91it/s]\n"
          ]
        },
        {
          "name": "stdout",
          "output_type": "stream",
          "text": [
            "Epoch 45 | Train Loss: 0.5185 | Train F1: 0.8226 | Val Loss: 0.8466 | Val F1: 0.7493\n"
          ]
        },
        {
          "name": "stderr",
          "output_type": "stream",
          "text": [
            "Loss: 0.3386: 100%|██████████| 28/28 [00:05<00:00,  5.06it/s]\n",
            "Val Loss: 0.3920: 100%|██████████| 7/7 [00:01<00:00,  4.97it/s]\n"
          ]
        },
        {
          "name": "stdout",
          "output_type": "stream",
          "text": [
            "Epoch 46 | Train Loss: 0.4126 | Train F1: 0.9151 | Val Loss: 0.8485 | Val F1: 0.7761\n"
          ]
        },
        {
          "name": "stderr",
          "output_type": "stream",
          "text": [
            "Loss: 0.4553: 100%|██████████| 28/28 [00:05<00:00,  5.10it/s]\n",
            "Val Loss: 0.2658: 100%|██████████| 7/7 [00:01<00:00,  4.99it/s]\n"
          ]
        },
        {
          "name": "stdout",
          "output_type": "stream",
          "text": [
            "Epoch 47 | Train Loss: 0.4136 | Train F1: 0.9004 | Val Loss: 0.7922 | Val F1: 0.7698\n"
          ]
        },
        {
          "name": "stderr",
          "output_type": "stream",
          "text": [
            "Loss: 0.2214: 100%|██████████| 28/28 [00:05<00:00,  5.08it/s]\n",
            "Val Loss: 0.3244: 100%|██████████| 7/7 [00:01<00:00,  4.86it/s]\n"
          ]
        },
        {
          "name": "stdout",
          "output_type": "stream",
          "text": [
            "Epoch 48 | Train Loss: 0.3945 | Train F1: 0.8432 | Val Loss: 0.7511 | Val F1: 0.8112\n"
          ]
        },
        {
          "name": "stderr",
          "output_type": "stream",
          "text": [
            "Loss: 0.2949: 100%|██████████| 28/28 [00:05<00:00,  5.07it/s]\n",
            "Val Loss: 0.2952: 100%|██████████| 7/7 [00:01<00:00,  5.21it/s]\n"
          ]
        },
        {
          "name": "stdout",
          "output_type": "stream",
          "text": [
            "Epoch 49 | Train Loss: 0.3582 | Train F1: 0.9218 | Val Loss: 0.7396 | Val F1: 0.7523\n"
          ]
        },
        {
          "name": "stderr",
          "output_type": "stream",
          "text": [
            "Loss: 0.2429: 100%|██████████| 28/28 [00:05<00:00,  5.08it/s]\n",
            "Val Loss: 0.3945: 100%|██████████| 7/7 [00:01<00:00,  4.99it/s]\n"
          ]
        },
        {
          "name": "stdout",
          "output_type": "stream",
          "text": [
            "Epoch 50 | Train Loss: 0.3851 | Train F1: 0.9227 | Val Loss: 0.9284 | Val F1: 0.7463\n"
          ]
        },
        {
          "name": "stderr",
          "output_type": "stream",
          "text": [
            "Loss: 0.2109: 100%|██████████| 28/28 [00:05<00:00,  5.08it/s]\n",
            "Val Loss: 0.3342: 100%|██████████| 7/7 [00:01<00:00,  5.11it/s]\n"
          ]
        },
        {
          "name": "stdout",
          "output_type": "stream",
          "text": [
            "Epoch 51 | Train Loss: 0.3716 | Train F1: 0.8768 | Val Loss: 0.7119 | Val F1: 0.7913\n"
          ]
        },
        {
          "name": "stderr",
          "output_type": "stream",
          "text": [
            "Loss: 0.8525: 100%|██████████| 28/28 [00:05<00:00,  5.03it/s]\n",
            "Val Loss: 0.3858: 100%|██████████| 7/7 [00:01<00:00,  5.10it/s]\n"
          ]
        },
        {
          "name": "stdout",
          "output_type": "stream",
          "text": [
            "Epoch 52 | Train Loss: 0.4274 | Train F1: 0.8651 | Val Loss: 0.7870 | Val F1: 0.7645\n"
          ]
        },
        {
          "name": "stderr",
          "output_type": "stream",
          "text": [
            "Loss: 0.7520: 100%|██████████| 28/28 [00:05<00:00,  5.13it/s]\n",
            "Val Loss: 0.3625: 100%|██████████| 7/7 [00:01<00:00,  4.93it/s]\n"
          ]
        },
        {
          "name": "stdout",
          "output_type": "stream",
          "text": [
            "Epoch 53 | Train Loss: 0.3617 | Train F1: 0.9204 | Val Loss: 0.6816 | Val F1: 0.8360\n"
          ]
        },
        {
          "name": "stderr",
          "output_type": "stream",
          "text": [
            "Loss: 0.2141: 100%|██████████| 28/28 [00:05<00:00,  5.10it/s]\n",
            "Val Loss: 0.2847: 100%|██████████| 7/7 [00:01<00:00,  4.94it/s]\n"
          ]
        },
        {
          "name": "stdout",
          "output_type": "stream",
          "text": [
            "Epoch 54 | Train Loss: 0.4175 | Train F1: 0.8795 | Val Loss: 0.7621 | Val F1: 0.7806\n"
          ]
        },
        {
          "name": "stderr",
          "output_type": "stream",
          "text": [
            "Loss: 0.2178: 100%|██████████| 28/28 [00:05<00:00,  5.08it/s]\n",
            "Val Loss: 0.4942: 100%|██████████| 7/7 [00:01<00:00,  5.02it/s]\n"
          ]
        },
        {
          "name": "stdout",
          "output_type": "stream",
          "text": [
            "Epoch 55 | Train Loss: 0.5417 | Train F1: 0.7368 | Val Loss: 0.8124 | Val F1: 0.7753\n"
          ]
        },
        {
          "name": "stderr",
          "output_type": "stream",
          "text": [
            "Loss: 0.2119: 100%|██████████| 28/28 [00:05<00:00,  5.17it/s]\n",
            "Val Loss: 0.2702: 100%|██████████| 7/7 [00:01<00:00,  5.02it/s]\n"
          ]
        },
        {
          "name": "stdout",
          "output_type": "stream",
          "text": [
            "Epoch 56 | Train Loss: 0.3783 | Train F1: 0.8951 | Val Loss: 0.6710 | Val F1: 0.8253\n"
          ]
        },
        {
          "name": "stderr",
          "output_type": "stream",
          "text": [
            "Loss: 0.2065: 100%|██████████| 28/28 [00:05<00:00,  5.02it/s]\n",
            "Val Loss: 0.3375: 100%|██████████| 7/7 [00:01<00:00,  4.79it/s]\n"
          ]
        },
        {
          "name": "stdout",
          "output_type": "stream",
          "text": [
            "Epoch 57 | Train Loss: 0.3362 | Train F1: 0.9483 | Val Loss: 0.7168 | Val F1: 0.8266\n"
          ]
        },
        {
          "name": "stderr",
          "output_type": "stream",
          "text": [
            "Loss: 0.7720: 100%|██████████| 28/28 [00:05<00:00,  5.09it/s]\n",
            "Val Loss: 0.2459: 100%|██████████| 7/7 [00:01<00:00,  5.13it/s]\n"
          ]
        },
        {
          "name": "stdout",
          "output_type": "stream",
          "text": [
            "Epoch 58 | Train Loss: 0.4291 | Train F1: 0.8217 | Val Loss: 0.7147 | Val F1: 0.8141\n"
          ]
        },
        {
          "name": "stderr",
          "output_type": "stream",
          "text": [
            "Loss: 0.2573: 100%|██████████| 28/28 [00:05<00:00,  5.12it/s]\n",
            "Val Loss: 0.2971: 100%|██████████| 7/7 [00:01<00:00,  4.92it/s]\n"
          ]
        },
        {
          "name": "stdout",
          "output_type": "stream",
          "text": [
            "Epoch 59 | Train Loss: 0.4026 | Train F1: 0.8017 | Val Loss: 0.7485 | Val F1: 0.8193\n"
          ]
        },
        {
          "name": "stderr",
          "output_type": "stream",
          "text": [
            "Loss: 0.5513: 100%|██████████| 28/28 [00:05<00:00,  5.02it/s]\n",
            "Val Loss: 0.2713: 100%|██████████| 7/7 [00:01<00:00,  5.08it/s]\n"
          ]
        },
        {
          "name": "stdout",
          "output_type": "stream",
          "text": [
            "Epoch 60 | Train Loss: 0.3467 | Train F1: 0.8781 | Val Loss: 0.6889 | Val F1: 0.8380\n"
          ]
        },
        {
          "name": "stderr",
          "output_type": "stream",
          "text": [
            "Loss: 0.7427: 100%|██████████| 28/28 [00:05<00:00,  5.08it/s]\n",
            "Val Loss: 0.2285: 100%|██████████| 7/7 [00:01<00:00,  4.89it/s]\n"
          ]
        },
        {
          "name": "stdout",
          "output_type": "stream",
          "text": [
            "Epoch 61 | Train Loss: 0.3928 | Train F1: 0.8685 | Val Loss: 0.7211 | Val F1: 0.8266\n"
          ]
        },
        {
          "name": "stderr",
          "output_type": "stream",
          "text": [
            "Loss: 1.0049: 100%|██████████| 28/28 [00:05<00:00,  5.16it/s]\n",
            "Val Loss: 0.3384: 100%|██████████| 7/7 [00:01<00:00,  5.08it/s]\n"
          ]
        },
        {
          "name": "stdout",
          "output_type": "stream",
          "text": [
            "Epoch 62 | Train Loss: 0.3799 | Train F1: 0.8755 | Val Loss: 0.7876 | Val F1: 0.7645\n"
          ]
        },
        {
          "name": "stderr",
          "output_type": "stream",
          "text": [
            "Loss: 1.3320: 100%|██████████| 28/28 [00:05<00:00,  5.11it/s]\n",
            "Val Loss: 0.3502: 100%|██████████| 7/7 [00:01<00:00,  4.95it/s]\n"
          ]
        },
        {
          "name": "stdout",
          "output_type": "stream",
          "text": [
            "Epoch 63 | Train Loss: 0.4388 | Train F1: 0.8608 | Val Loss: 0.7204 | Val F1: 0.7913\n"
          ]
        },
        {
          "name": "stderr",
          "output_type": "stream",
          "text": [
            "Loss: 0.3862: 100%|██████████| 28/28 [00:05<00:00,  5.07it/s]\n",
            "Val Loss: 0.3453: 100%|██████████| 7/7 [00:01<00:00,  5.04it/s]\n"
          ]
        },
        {
          "name": "stdout",
          "output_type": "stream",
          "text": [
            "Epoch 64 | Train Loss: 0.4385 | Train F1: 0.8502 | Val Loss: 0.7041 | Val F1: 0.7854\n"
          ]
        },
        {
          "name": "stderr",
          "output_type": "stream",
          "text": [
            "Loss: 0.7139: 100%|██████████| 28/28 [00:05<00:00,  5.05it/s]\n",
            "Val Loss: 0.3398: 100%|██████████| 7/7 [00:01<00:00,  4.95it/s]\n"
          ]
        },
        {
          "name": "stdout",
          "output_type": "stream",
          "text": [
            "Epoch 65 | Train Loss: 0.3592 | Train F1: 0.8667 | Val Loss: 0.7469 | Val F1: 0.8203\n"
          ]
        },
        {
          "name": "stderr",
          "output_type": "stream",
          "text": [
            "Loss: 0.2209: 100%|██████████| 28/28 [00:05<00:00,  5.06it/s]\n",
            "Val Loss: 0.2739: 100%|██████████| 7/7 [00:01<00:00,  4.92it/s]\n"
          ]
        },
        {
          "name": "stdout",
          "output_type": "stream",
          "text": [
            "Epoch 66 | Train Loss: 0.3776 | Train F1: 0.8891 | Val Loss: 0.7258 | Val F1: 0.8261\n"
          ]
        },
        {
          "name": "stderr",
          "output_type": "stream",
          "text": [
            "Loss: 0.2057: 100%|██████████| 28/28 [00:05<00:00,  4.98it/s]\n",
            "Val Loss: 0.3517: 100%|██████████| 7/7 [00:01<00:00,  4.85it/s]\n"
          ]
        },
        {
          "name": "stdout",
          "output_type": "stream",
          "text": [
            "Epoch 67 | Train Loss: 0.3202 | Train F1: 0.8437 | Val Loss: 0.8161 | Val F1: 0.7698\n"
          ]
        },
        {
          "name": "stderr",
          "output_type": "stream",
          "text": [
            "Loss: 0.2101: 100%|██████████| 28/28 [00:05<00:00,  5.09it/s]\n",
            "Val Loss: 0.2799: 100%|██████████| 7/7 [00:01<00:00,  5.07it/s]\n"
          ]
        },
        {
          "name": "stdout",
          "output_type": "stream",
          "text": [
            "Epoch 68 | Train Loss: 0.3510 | Train F1: 0.8700 | Val Loss: 0.8307 | Val F1: 0.7911\n"
          ]
        },
        {
          "name": "stderr",
          "output_type": "stream",
          "text": [
            "Loss: 0.2102: 100%|██████████| 28/28 [00:05<00:00,  5.00it/s]\n",
            "Val Loss: 0.2524: 100%|██████████| 7/7 [00:01<00:00,  5.24it/s]\n"
          ]
        },
        {
          "name": "stdout",
          "output_type": "stream",
          "text": [
            "Epoch 69 | Train Loss: 0.4029 | Train F1: 0.8734 | Val Loss: 0.7445 | Val F1: 0.8261\n"
          ]
        },
        {
          "name": "stderr",
          "output_type": "stream",
          "text": [
            "Loss: 0.2178: 100%|██████████| 28/28 [00:05<00:00,  5.12it/s]\n",
            "Val Loss: 0.2491: 100%|██████████| 7/7 [00:01<00:00,  5.03it/s]\n"
          ]
        },
        {
          "name": "stdout",
          "output_type": "stream",
          "text": [
            "Epoch 70 | Train Loss: 0.3002 | Train F1: 0.9719 | Val Loss: 0.7323 | Val F1: 0.8130\n"
          ]
        },
        {
          "name": "stderr",
          "output_type": "stream",
          "text": [
            "Loss: 0.2034: 100%|██████████| 28/28 [00:05<00:00,  5.08it/s]\n",
            "Val Loss: 0.3517: 100%|██████████| 7/7 [00:01<00:00,  5.23it/s]\n"
          ]
        },
        {
          "name": "stdout",
          "output_type": "stream",
          "text": [
            "Epoch 71 | Train Loss: 0.3071 | Train F1: 0.9216 | Val Loss: 0.7327 | Val F1: 0.7772\n"
          ]
        },
        {
          "name": "stderr",
          "output_type": "stream",
          "text": [
            "Loss: 0.2086: 100%|██████████| 28/28 [00:05<00:00,  5.14it/s]\n",
            "Val Loss: 0.2626: 100%|██████████| 7/7 [00:01<00:00,  4.96it/s]\n"
          ]
        },
        {
          "name": "stdout",
          "output_type": "stream",
          "text": [
            "Epoch 72 | Train Loss: 0.3009 | Train F1: 0.9593 | Val Loss: 0.7433 | Val F1: 0.8012\n"
          ]
        },
        {
          "name": "stderr",
          "output_type": "stream",
          "text": [
            "Loss: 0.2037: 100%|██████████| 28/28 [00:05<00:00,  5.12it/s]\n",
            "Val Loss: 0.3091: 100%|██████████| 7/7 [00:01<00:00,  4.97it/s]\n"
          ]
        },
        {
          "name": "stdout",
          "output_type": "stream",
          "text": [
            "Epoch 73 | Train Loss: 0.4007 | Train F1: 0.8469 | Val Loss: 0.7163 | Val F1: 0.8377\n"
          ]
        },
        {
          "name": "stderr",
          "output_type": "stream",
          "text": [
            "Loss: 0.2056: 100%|██████████| 28/28 [00:05<00:00,  5.04it/s]\n",
            "Val Loss: 0.2626: 100%|██████████| 7/7 [00:01<00:00,  5.14it/s]\n"
          ]
        },
        {
          "name": "stdout",
          "output_type": "stream",
          "text": [
            "Epoch 74 | Train Loss: 0.3819 | Train F1: 0.8931 | Val Loss: 0.7626 | Val F1: 0.8266\n"
          ]
        },
        {
          "name": "stderr",
          "output_type": "stream",
          "text": [
            "Loss: 0.7598: 100%|██████████| 28/28 [00:05<00:00,  5.07it/s]\n",
            "Val Loss: 0.2807: 100%|██████████| 7/7 [00:01<00:00,  5.05it/s]\n"
          ]
        },
        {
          "name": "stdout",
          "output_type": "stream",
          "text": [
            "Epoch 75 | Train Loss: 0.3893 | Train F1: 0.8715 | Val Loss: 0.8385 | Val F1: 0.7794\n"
          ]
        },
        {
          "name": "stderr",
          "output_type": "stream",
          "text": [
            "Loss: 0.2051: 100%|██████████| 28/28 [00:05<00:00,  5.09it/s]\n",
            "Val Loss: 0.2929: 100%|██████████| 7/7 [00:01<00:00,  5.13it/s]\n"
          ]
        },
        {
          "name": "stdout",
          "output_type": "stream",
          "text": [
            "Epoch 76 | Train Loss: 0.4255 | Train F1: 0.8793 | Val Loss: 0.8228 | Val F1: 0.7996\n"
          ]
        },
        {
          "name": "stderr",
          "output_type": "stream",
          "text": [
            "Loss: 0.2317: 100%|██████████| 28/28 [00:05<00:00,  5.08it/s]\n",
            "Val Loss: 0.3548: 100%|██████████| 7/7 [00:01<00:00,  4.88it/s]\n"
          ]
        },
        {
          "name": "stdout",
          "output_type": "stream",
          "text": [
            "Epoch 77 | Train Loss: 0.3757 | Train F1: 0.9126 | Val Loss: 0.7269 | Val F1: 0.7928\n"
          ]
        },
        {
          "name": "stderr",
          "output_type": "stream",
          "text": [
            "Loss: 0.2703: 100%|██████████| 28/28 [00:05<00:00,  5.04it/s]\n",
            "Val Loss: 0.3296: 100%|██████████| 7/7 [00:01<00:00,  4.92it/s]\n"
          ]
        },
        {
          "name": "stdout",
          "output_type": "stream",
          "text": [
            "Epoch 78 | Train Loss: 0.3718 | Train F1: 0.8085 | Val Loss: 0.7518 | Val F1: 0.7788\n"
          ]
        },
        {
          "name": "stderr",
          "output_type": "stream",
          "text": [
            "Loss: 0.2167: 100%|██████████| 28/28 [00:05<00:00,  5.10it/s]\n",
            "Val Loss: 0.3759: 100%|██████████| 7/7 [00:01<00:00,  5.01it/s]\n"
          ]
        },
        {
          "name": "stdout",
          "output_type": "stream",
          "text": [
            "Epoch 79 | Train Loss: 0.3411 | Train F1: 0.9591 | Val Loss: 0.7586 | Val F1: 0.8044\n"
          ]
        },
        {
          "name": "stderr",
          "output_type": "stream",
          "text": [
            "Loss: 0.2190: 100%|██████████| 28/28 [00:05<00:00,  5.18it/s]\n",
            "Val Loss: 0.3043: 100%|██████████| 7/7 [00:01<00:00,  5.15it/s]\n"
          ]
        },
        {
          "name": "stdout",
          "output_type": "stream",
          "text": [
            "Epoch 80 | Train Loss: 0.3185 | Train F1: 0.9327 | Val Loss: 0.7679 | Val F1: 0.7945\n"
          ]
        },
        {
          "name": "stderr",
          "output_type": "stream",
          "text": [
            "Loss: 0.2030: 100%|██████████| 28/28 [00:05<00:00,  5.08it/s]\n",
            "Val Loss: 0.4201: 100%|██████████| 7/7 [00:01<00:00,  5.16it/s]\n"
          ]
        },
        {
          "name": "stdout",
          "output_type": "stream",
          "text": [
            "Epoch 81 | Train Loss: 0.3306 | Train F1: 0.9150 | Val Loss: 0.7248 | Val F1: 0.7945\n"
          ]
        },
        {
          "name": "stderr",
          "output_type": "stream",
          "text": [
            "Loss: 0.8560: 100%|██████████| 28/28 [00:05<00:00,  5.07it/s]\n",
            "Val Loss: 0.2576: 100%|██████████| 7/7 [00:01<00:00,  4.98it/s]\n"
          ]
        },
        {
          "name": "stdout",
          "output_type": "stream",
          "text": [
            "Epoch 82 | Train Loss: 0.4469 | Train F1: 0.8255 | Val Loss: 0.7107 | Val F1: 0.7859\n"
          ]
        },
        {
          "name": "stderr",
          "output_type": "stream",
          "text": [
            "Loss: 0.8369: 100%|██████████| 28/28 [00:05<00:00,  5.11it/s]\n",
            "Val Loss: 0.3775: 100%|██████████| 7/7 [00:01<00:00,  5.03it/s]\n"
          ]
        },
        {
          "name": "stdout",
          "output_type": "stream",
          "text": [
            "Epoch 83 | Train Loss: 0.3967 | Train F1: 0.8687 | Val Loss: 0.7361 | Val F1: 0.7811\n"
          ]
        },
        {
          "name": "stderr",
          "output_type": "stream",
          "text": [
            "Loss: 0.2026: 100%|██████████| 28/28 [00:05<00:00,  5.04it/s]\n",
            "Val Loss: 0.3479: 100%|██████████| 7/7 [00:01<00:00,  4.89it/s]\n"
          ]
        },
        {
          "name": "stdout",
          "output_type": "stream",
          "text": [
            "Epoch 84 | Train Loss: 0.3540 | Train F1: 0.8638 | Val Loss: 0.7152 | Val F1: 0.7902\n"
          ]
        },
        {
          "name": "stderr",
          "output_type": "stream",
          "text": [
            "Loss: 0.2261: 100%|██████████| 28/28 [00:05<00:00,  5.12it/s]\n",
            "Val Loss: 0.3434: 100%|██████████| 7/7 [00:01<00:00,  5.00it/s]\n"
          ]
        },
        {
          "name": "stdout",
          "output_type": "stream",
          "text": [
            "Epoch 85 | Train Loss: 0.4151 | Train F1: 0.8272 | Val Loss: 0.7534 | Val F1: 0.7674\n"
          ]
        },
        {
          "name": "stderr",
          "output_type": "stream",
          "text": [
            "Loss: 0.2107: 100%|██████████| 28/28 [00:05<00:00,  5.08it/s]\n",
            "Val Loss: 0.3833: 100%|██████████| 7/7 [00:01<00:00,  4.79it/s]\n"
          ]
        },
        {
          "name": "stdout",
          "output_type": "stream",
          "text": [
            "Epoch 86 | Train Loss: 0.3489 | Train F1: 0.9355 | Val Loss: 0.7791 | Val F1: 0.7811\n"
          ]
        },
        {
          "name": "stderr",
          "output_type": "stream",
          "text": [
            "Loss: 0.2095: 100%|██████████| 28/28 [00:05<00:00,  5.10it/s]\n",
            "Val Loss: 0.3975: 100%|██████████| 7/7 [00:01<00:00,  5.15it/s]\n"
          ]
        },
        {
          "name": "stdout",
          "output_type": "stream",
          "text": [
            "Epoch 87 | Train Loss: 0.3161 | Train F1: 0.9328 | Val Loss: 0.7766 | Val F1: 0.7902\n"
          ]
        },
        {
          "name": "stderr",
          "output_type": "stream",
          "text": [
            "Loss: 0.7402: 100%|██████████| 28/28 [00:05<00:00,  5.10it/s]\n",
            "Val Loss: 0.2790: 100%|██████████| 7/7 [00:01<00:00,  4.99it/s]\n"
          ]
        },
        {
          "name": "stdout",
          "output_type": "stream",
          "text": [
            "Epoch 88 | Train Loss: 0.4176 | Train F1: 0.8468 | Val Loss: 0.7167 | Val F1: 0.8266\n"
          ]
        },
        {
          "name": "stderr",
          "output_type": "stream",
          "text": [
            "Loss: 0.9502: 100%|██████████| 28/28 [00:05<00:00,  5.05it/s]\n",
            "Val Loss: 0.2353: 100%|██████████| 7/7 [00:01<00:00,  5.03it/s]\n"
          ]
        },
        {
          "name": "stdout",
          "output_type": "stream",
          "text": [
            "Epoch 89 | Train Loss: 0.4493 | Train F1: 0.8622 | Val Loss: 0.7353 | Val F1: 0.8093\n"
          ]
        },
        {
          "name": "stderr",
          "output_type": "stream",
          "text": [
            "Loss: 0.2083: 100%|██████████| 28/28 [00:05<00:00,  5.06it/s]\n",
            "Val Loss: 0.3926: 100%|██████████| 7/7 [00:01<00:00,  5.06it/s]\n"
          ]
        },
        {
          "name": "stdout",
          "output_type": "stream",
          "text": [
            "Epoch 90 | Train Loss: 0.2889 | Train F1: 0.9546 | Val Loss: 0.7550 | Val F1: 0.7811\n"
          ]
        },
        {
          "name": "stderr",
          "output_type": "stream",
          "text": [
            "Loss: 0.6211: 100%|██████████| 28/28 [00:05<00:00,  5.09it/s]\n",
            "Val Loss: 0.2415: 100%|██████████| 7/7 [00:01<00:00,  4.87it/s]\n"
          ]
        },
        {
          "name": "stdout",
          "output_type": "stream",
          "text": [
            "Epoch 91 | Train Loss: 0.4316 | Train F1: 0.8564 | Val Loss: 0.6493 | Val F1: 0.8371\n"
          ]
        },
        {
          "name": "stderr",
          "output_type": "stream",
          "text": [
            "Loss: 0.4214: 100%|██████████| 28/28 [00:05<00:00,  5.02it/s]\n",
            "Val Loss: 0.3597: 100%|██████████| 7/7 [00:01<00:00,  5.04it/s]\n"
          ]
        },
        {
          "name": "stdout",
          "output_type": "stream",
          "text": [
            "Epoch 92 | Train Loss: 0.3286 | Train F1: 0.8636 | Val Loss: 0.6599 | Val F1: 0.7928\n"
          ]
        },
        {
          "name": "stderr",
          "output_type": "stream",
          "text": [
            "Loss: 0.2052: 100%|██████████| 28/28 [00:05<00:00,  5.10it/s]\n",
            "Val Loss: 0.4607: 100%|██████████| 7/7 [00:01<00:00,  5.02it/s]\n"
          ]
        },
        {
          "name": "stdout",
          "output_type": "stream",
          "text": [
            "Epoch 93 | Train Loss: 0.3765 | Train F1: 0.8934 | Val Loss: 0.7813 | Val F1: 0.7945\n"
          ]
        },
        {
          "name": "stderr",
          "output_type": "stream",
          "text": [
            "Loss: 0.2032: 100%|██████████| 28/28 [00:05<00:00,  5.09it/s]\n",
            "Val Loss: 0.4274: 100%|██████████| 7/7 [00:01<00:00,  5.14it/s]\n"
          ]
        },
        {
          "name": "stdout",
          "output_type": "stream",
          "text": [
            "Epoch 94 | Train Loss: 0.3674 | Train F1: 0.8829 | Val Loss: 0.7116 | Val F1: 0.8064\n"
          ]
        },
        {
          "name": "stderr",
          "output_type": "stream",
          "text": [
            "Loss: 0.2903: 100%|██████████| 28/28 [00:05<00:00,  5.07it/s]\n",
            "Val Loss: 0.2931: 100%|██████████| 7/7 [00:01<00:00,  4.83it/s]\n"
          ]
        },
        {
          "name": "stdout",
          "output_type": "stream",
          "text": [
            "Epoch 95 | Train Loss: 0.3656 | Train F1: 0.8770 | Val Loss: 0.7066 | Val F1: 0.8130\n"
          ]
        },
        {
          "name": "stderr",
          "output_type": "stream",
          "text": [
            "Loss: 0.2029: 100%|██████████| 28/28 [00:05<00:00,  5.02it/s]\n",
            "Val Loss: 0.2704: 100%|██████████| 7/7 [00:01<00:00,  4.99it/s]\n"
          ]
        },
        {
          "name": "stdout",
          "output_type": "stream",
          "text": [
            "Epoch 96 | Train Loss: 0.3287 | Train F1: 0.8668 | Val Loss: 0.6982 | Val F1: 0.8380\n"
          ]
        },
        {
          "name": "stderr",
          "output_type": "stream",
          "text": [
            "Loss: 0.3813: 100%|██████████| 28/28 [00:05<00:00,  5.06it/s]\n",
            "Val Loss: 0.3161: 100%|██████████| 7/7 [00:01<00:00,  4.88it/s]\n"
          ]
        },
        {
          "name": "stdout",
          "output_type": "stream",
          "text": [
            "Epoch 97 | Train Loss: 0.3595 | Train F1: 0.8185 | Val Loss: 0.7817 | Val F1: 0.7788\n"
          ]
        },
        {
          "name": "stderr",
          "output_type": "stream",
          "text": [
            "Loss: 0.2028: 100%|██████████| 28/28 [00:05<00:00,  5.11it/s]\n",
            "Val Loss: 0.3600: 100%|██████████| 7/7 [00:01<00:00,  5.05it/s]\n"
          ]
        },
        {
          "name": "stdout",
          "output_type": "stream",
          "text": [
            "Epoch 98 | Train Loss: 0.3797 | Train F1: 0.8762 | Val Loss: 0.8097 | Val F1: 0.7811\n"
          ]
        },
        {
          "name": "stderr",
          "output_type": "stream",
          "text": [
            "Loss: 0.2021: 100%|██████████| 28/28 [00:05<00:00,  5.01it/s]\n",
            "Val Loss: 0.2795: 100%|██████████| 7/7 [00:01<00:00,  5.01it/s]\n"
          ]
        },
        {
          "name": "stdout",
          "output_type": "stream",
          "text": [
            "Epoch 99 | Train Loss: 0.4259 | Train F1: 0.8021 | Val Loss: 0.7548 | Val F1: 0.8130\n"
          ]
        },
        {
          "name": "stderr",
          "output_type": "stream",
          "text": [
            "Loss: 0.2034: 100%|██████████| 28/28 [00:05<00:00,  5.10it/s]\n",
            "Val Loss: 0.2545: 100%|██████████| 7/7 [00:01<00:00,  4.78it/s]"
          ]
        },
        {
          "name": "stdout",
          "output_type": "stream",
          "text": [
            "Epoch 100 | Train Loss: 0.3852 | Train F1: 0.8557 | Val Loss: 0.6911 | Val F1: 0.8141\n",
            "Subset Fold 5 Best Validation F1: 0.8390\n",
            "\n",
            "============================================================\n",
            "SUBSET MODEL CROSS VALIDATION RESULTS\n",
            "============================================================\n",
            "Fold 1: 0.8820\n",
            "Fold 2: 0.9059\n",
            "Fold 3: 0.8886\n",
            "Fold 4: 0.9750\n",
            "Fold 5: 0.8390\n",
            "\n",
            "Mean CV F1: 0.8981 ± 0.0443\n",
            "Best single fold: 0.9750\n"
          ]
        },
        {
          "name": "stderr",
          "output_type": "stream",
          "text": [
            "\n"
          ]
        }
      ],
      "source": [
        "# ========================================\n",
        "# 2. 3-Fold Cross Validation으로 서브셋 모델 B 모델 학습\n",
        "# ========================================\n",
        "\n",
        "# 3-Fold 설정\n",
        "N_FOLDS = 5\n",
        "skf = StratifiedKFold(n_splits=N_FOLDS, shuffle=True, random_state=42)\n",
        "\n",
        "# 결과 저장용 리스트\n",
        "fold_results = []\n",
        "fold_models = []\n",
        "\n",
        "print(f\"Starting {N_FOLDS}-Fold Cross Validation for Subset Model...\")\n",
        "\n",
        "for fold, (train_idx, val_idx) in enumerate(skf.split(filtered_df, filtered_df['target'])):\n",
        "    print(f\"\\n{'='*50}\")\n",
        "    print(f\"SUBSET FOLD {fold + 1}/{N_FOLDS}\")\n",
        "    print(f\"{'='*50}\")\n",
        "    \n",
        "    # 현재 fold의 train/validation 데이터 분할\n",
        "    train_fold_df = filtered_df.iloc[train_idx].reset_index(drop=True)\n",
        "    val_fold_df = filtered_df.iloc[val_idx].reset_index(drop=True)\n",
        "    \n",
        "    # 현재 fold의 Dataset 생성\n",
        "    trn_dataset = ImageDataset(\n",
        "        train_fold_df,\n",
        "        \"../data/train/\",\n",
        "        epoch=0,\n",
        "        total_epochs=EPOCHS,\n",
        "        is_train=True\n",
        "    )\n",
        "    \n",
        "    val_dataset = ImageDataset(\n",
        "        val_fold_df,\n",
        "        \"../data/train/\",\n",
        "        epoch=0,\n",
        "        total_epochs=EPOCHS,\n",
        "        is_train=False\n",
        "    )\n",
        "    \n",
        "    # 현재 fold의 DataLoader 생성\n",
        "    trn_loader = DataLoader(\n",
        "        trn_dataset,\n",
        "        batch_size=BATCH_SIZE,\n",
        "        shuffle=True,\n",
        "        num_workers=num_workers,\n",
        "        pin_memory=True,\n",
        "        drop_last=False\n",
        "    )\n",
        "    \n",
        "    val_loader = DataLoader(\n",
        "        val_dataset,\n",
        "        batch_size=BATCH_SIZE,\n",
        "        shuffle=False,\n",
        "        num_workers=num_workers,\n",
        "        pin_memory=True\n",
        "    )\n",
        "    \n",
        "    print(f\"Train samples: {len(trn_dataset)}, Validation samples: {len(val_dataset)}\")\n",
        "    \n",
        "    # 모델 초기화 (4개 클래스)\n",
        "    model = timm.create_model(\n",
        "        model_name,\n",
        "        pretrained=True,\n",
        "        num_classes=4  # 취약 클래스 4개\n",
        "    ).to(device)\n",
        "    \n",
        "    loss_fn = nn.CrossEntropyLoss(label_smoothing=0.05)\n",
        "    optimizer = Adam(model.parameters(), lr=LR)\n",
        "    scheduler = CosineAnnealingLR(optimizer, T_max=EPOCHS)\n",
        "    \n",
        "    # 현재 fold의 최고 성능 추적\n",
        "    best_val_f1 = 0.0\n",
        "    best_model = None\n",
        "    \n",
        "    # 현재 fold 학습\n",
        "    for epoch in range(EPOCHS):\n",
        "        # Training\n",
        "        train_ret = train_one_epoch(trn_loader, model, optimizer, loss_fn, device)\n",
        "        \n",
        "        # Validation\n",
        "        val_ret = validate_one_epoch(val_loader, model, loss_fn, device)\n",
        "        \n",
        "        # Scheduler step\n",
        "        scheduler.step()\n",
        "        \n",
        "        print(f\"Epoch {epoch+1:2d} | \"\n",
        "              f\"Train Loss: {train_ret['train_loss']:.4f} | \"\n",
        "              f\"Train F1: {train_ret['train_f1']:.4f} | \"\n",
        "              f\"Val Loss: {val_ret['val_loss']:.4f} | \"\n",
        "              f\"Val F1: {val_ret['val_f1']:.4f}\")\n",
        "        \n",
        "        # 최고 성능 모델 저장\n",
        "        if val_ret['val_f1'] > best_val_f1:\n",
        "            best_val_f1 = val_ret['val_f1']\n",
        "            best_model = copy.deepcopy(model.state_dict())\n",
        "    \n",
        "    # 현재 fold 결과 저장\n",
        "    fold_results.append({\n",
        "        'fold': fold + 1,\n",
        "        'best_val_f1': best_val_f1,\n",
        "        'train_samples': len(trn_dataset),\n",
        "        'val_samples': len(val_dataset)\n",
        "    })\n",
        "    \n",
        "    fold_models.append(best_model)\n",
        "    \n",
        "    print(f\"Subset Fold {fold + 1} Best Validation F1: {best_val_f1:.4f}\")\n",
        "\n",
        "# 결과 요약\n",
        "print(f\"\\n{'='*60}\")\n",
        "print(\"SUBSET MODEL CROSS VALIDATION RESULTS\")\n",
        "print(f\"{'='*60}\")\n",
        "\n",
        "val_f1_scores = [result['best_val_f1'] for result in fold_results]\n",
        "mean_f1 = np.mean(val_f1_scores)\n",
        "std_f1 = np.std(val_f1_scores)\n",
        "\n",
        "for result in fold_results:\n",
        "    print(f\"Fold {result['fold']}: {result['best_val_f1']:.4f}\")\n",
        "\n",
        "print(f\"\\nMean CV F1: {mean_f1:.4f} ± {std_f1:.4f}\")\n",
        "print(f\"Best single fold: {max(val_f1_scores):.4f}\")\n"
      ]
    },
    {
      "cell_type": "code",
      "execution_count": 8,
      "metadata": {},
      "outputs": [
        {
          "name": "stdout",
          "output_type": "stream",
          "text": [
            "\n",
            "Saving subset models to subset_models/\n"
          ]
        },
        {
          "ename": "NameError",
          "evalue": "name 'fold_models' is not defined",
          "output_type": "error",
          "traceback": [
            "\u001b[0;31m---------------------------------------------------------------------------\u001b[0m",
            "\u001b[0;31mNameError\u001b[0m                                 Traceback (most recent call last)",
            "Cell \u001b[0;32mIn[8], line 10\u001b[0m\n\u001b[1;32m      7\u001b[0m os\u001b[38;5;241m.\u001b[39mmakedirs(save_dir, exist_ok\u001b[38;5;241m=\u001b[39m\u001b[38;5;28;01mTrue\u001b[39;00m)\n\u001b[1;32m      9\u001b[0m \u001b[38;5;28mprint\u001b[39m(\u001b[38;5;124mf\u001b[39m\u001b[38;5;124m\"\u001b[39m\u001b[38;5;130;01m\\n\u001b[39;00m\u001b[38;5;124mSaving subset models to \u001b[39m\u001b[38;5;132;01m{\u001b[39;00msave_dir\u001b[38;5;132;01m}\u001b[39;00m\u001b[38;5;124m/\u001b[39m\u001b[38;5;124m\"\u001b[39m)\n\u001b[0;32m---> 10\u001b[0m \u001b[38;5;28;01mfor\u001b[39;00m fold, state_dict \u001b[38;5;129;01min\u001b[39;00m \u001b[38;5;28menumerate\u001b[39m(\u001b[43mfold_models\u001b[49m):\n\u001b[1;32m     11\u001b[0m     model_path \u001b[38;5;241m=\u001b[39m \u001b[38;5;124mf\u001b[39m\u001b[38;5;124m\"\u001b[39m\u001b[38;5;132;01m{\u001b[39;00msave_dir\u001b[38;5;132;01m}\u001b[39;00m\u001b[38;5;124m/subset_fold_\u001b[39m\u001b[38;5;132;01m{\u001b[39;00mfold\u001b[38;5;132;01m}\u001b[39;00m\u001b[38;5;124m_model.pth\u001b[39m\u001b[38;5;124m\"\u001b[39m\n\u001b[1;32m     12\u001b[0m     torch\u001b[38;5;241m.\u001b[39msave({\n\u001b[1;32m     13\u001b[0m         \u001b[38;5;124m'\u001b[39m\u001b[38;5;124mmodel_state_dict\u001b[39m\u001b[38;5;124m'\u001b[39m: state_dict,\n\u001b[1;32m     14\u001b[0m         \u001b[38;5;124m'\u001b[39m\u001b[38;5;124mfold\u001b[39m\u001b[38;5;124m'\u001b[39m: fold,\n\u001b[0;32m   (...)\u001b[0m\n\u001b[1;32m     20\u001b[0m         \u001b[38;5;124m'\u001b[39m\u001b[38;5;124mbest_f1\u001b[39m\u001b[38;5;124m'\u001b[39m: fold_results[fold][\u001b[38;5;124m'\u001b[39m\u001b[38;5;124mbest_val_f1\u001b[39m\u001b[38;5;124m'\u001b[39m]\n\u001b[1;32m     21\u001b[0m     }, model_path)\n",
            "\u001b[0;31mNameError\u001b[0m: name 'fold_models' is not defined"
          ]
        }
      ],
      "source": [
        "# ========================================\n",
        "# 3. 서브셋 모델 저장\n",
        "# ========================================\n",
        "\n",
        "# 서브셋 모델들 저장\n",
        "save_dir = \"subset_models\"\n",
        "os.makedirs(save_dir, exist_ok=True)\n",
        "\n",
        "print(f\"\\nSaving subset models to {save_dir}/\")\n",
        "for fold, state_dict in enumerate(fold_models):\n",
        "    model_path = f\"{save_dir}/subset_fold_{fold}_model.pth\"\n",
        "    torch.save({\n",
        "        'model_state_dict': state_dict,\n",
        "        'fold': fold,\n",
        "        'classes': vulnerable_classes,\n",
        "        'label_mapping': label_mapping,\n",
        "        'model_name': model_name,\n",
        "        'img_size': img_size,\n",
        "        'num_classes': 4,\n",
        "        'best_f1': fold_results[fold]['best_val_f1']\n",
        "    }, model_path)\n",
        "    print(f\"✅ Fold {fold} model saved: {model_path}\")\n",
        "\n",
        "print(\"\\n🎉 4-Class subset training completed!\")\n",
        "print(f\"📊 Final Results Summary:\")\n",
        "print(f\"   - Target classes: {vulnerable_classes}\")\n",
        "print(f\"   - Training samples: {len(filtered_df)}\")\n",
        "print(f\"   - Mean CV F1: {mean_f1:.4f} ± {std_f1:.4f}\")\n",
        "print(f\"   - Models saved in: {save_dir}/\")\n"
      ]
    },
    {
      "cell_type": "code",
      "execution_count": 18,
      "metadata": {},
      "outputs": [],
      "source": [
        "# ========================================\n",
        "# 4. 캐스케이드 분류 시스템 구현\n",
        "# ========================================\n",
        "\n",
        "class CascadeClassifier:\n",
        "    \"\"\"\n",
        "    2단계 캐스케이드 분류 시스템\n",
        "    \n",
        "    1단계: 분류기 A (17개 클래스 전체 분류)\n",
        "    2단계: 분류기 B (취약 클래스 3,4,7,14만 분류)\n",
        "    \"\"\"\n",
        "    \n",
        "    def __init__(self, main_models, subset_models, vulnerable_classes=[3,4,7,14], \n",
        "                 confidence_threshold=0.7):\n",
        "        \"\"\"\n",
        "        Args:\n",
        "            main_models: 분류기 A의 앙상블 모델들 (17개 클래스)\n",
        "            subset_models: 분류기 B의 앙상블 모델들 (4개 클래스)\n",
        "            vulnerable_classes: 취약 클래스 리스트\n",
        "            confidence_threshold: 2단계 분류기로 넘어갈 신뢰도 임계값\n",
        "        \"\"\"\n",
        "        self.main_models = main_models\n",
        "        self.subset_models = subset_models\n",
        "        self.vulnerable_classes = vulnerable_classes\n",
        "        self.confidence_threshold = confidence_threshold\n",
        "        \n",
        "        # 취약 클래스 매핑 (원본 클래스 -> 서브셋 클래스) / 결과: {3: 0, 4: 1, 7: 2, 14: 3}\n",
        "        self.class_mapping = {cls: idx for idx, cls in enumerate(vulnerable_classes)}\n",
        "        \n",
        "        print(f\"캐스케이드 분류기 초기화 완료\")\n",
        "        print(f\"- 취약 클래스: {vulnerable_classes}\")\n",
        "        print(f\"- 신뢰도 임계값: {confidence_threshold}\")\n",
        "        print(f\"- 메인 모델 수: {len(main_models)}\")\n",
        "        print(f\"- 서브셋 모델 수: {len(subset_models)}\")\n",
        "    \n",
        "    def predict_single(self, image, device):\n",
        "        \"\"\"\n",
        "        단일 이미지에 대한 캐스케이드 예측\n",
        "        \n",
        "        Args:\n",
        "            image: 전처리된 이미지 텐서 [C, H, W]\n",
        "            device: GPU/CPU 디바이스\n",
        "            \n",
        "        Returns:\n",
        "            final_prediction: 최종 예측 클래스\n",
        "            confidence: 예측 신뢰도\n",
        "            used_cascade: 사용된 분류기 ('main' 또는 'cascade')\n",
        "        \"\"\"\n",
        "        image = image.unsqueeze(0).to(device)  # 배치 차원 추가\n",
        "        \n",
        "        # 1단계: 메인 분류기로 예측\n",
        "        main_probs = self._predict_main_ensemble(image)\n",
        "        main_pred = torch.argmax(main_probs, dim=1).item()\n",
        "        main_confidence = torch.max(main_probs).item()\n",
        "        \n",
        "        # 1단계 예측이 취약 클래스이고 신뢰도가 낮으면 2단계로\n",
        "        if (main_pred in self.vulnerable_classes and \n",
        "            main_confidence < self.confidence_threshold):\n",
        "            \n",
        "            # 2단계: 서브셋 분류기로 재예측\n",
        "            subset_probs = self._predict_subset_ensemble(image)\n",
        "            subset_pred_idx = torch.argmax(subset_probs, dim=1).item()\n",
        "            subset_confidence = torch.max(subset_probs).item()\n",
        "            \n",
        "            # 서브셋 예측을 원본 클래스로 변환\n",
        "            final_prediction = self.vulnerable_classes[subset_pred_idx]\n",
        "            final_confidence = subset_confidence\n",
        "            used_cascade = 'cascade'\n",
        "            \n",
        "            print(f\"캐스케이드 사용: {main_pred}({main_confidence:.3f}) -> {final_prediction}({subset_confidence:.3f})\")\n",
        "            \n",
        "        else:\n",
        "            # 1단계 예측 그대로 사용\n",
        "            final_prediction = main_pred\n",
        "            final_confidence = main_confidence\n",
        "            used_cascade = 'main'\n",
        "        \n",
        "        return final_prediction, final_confidence, used_cascade\n",
        "    \n",
        "    def _predict_main_ensemble(self, image):\n",
        "        \"\"\"메인 분류기 앙상블 예측\"\"\"\n",
        "        ensemble_probs = torch.zeros(1, 17).to(image.device)\n",
        "        \n",
        "        with torch.no_grad():\n",
        "            for model in self.main_models:\n",
        "                model.eval()\n",
        "                preds = model(image)\n",
        "                probs = torch.softmax(preds, dim=1)\n",
        "                ensemble_probs += probs / len(self.main_models)\n",
        "        \n",
        "        return ensemble_probs\n",
        "    \n",
        "    def _predict_subset_ensemble(self, image):\n",
        "        \"\"\"서브셋 분류기 앙상블 예측\"\"\"\n",
        "        ensemble_probs = torch.zeros(1, 4).to(image.device)\n",
        "        \n",
        "        with torch.no_grad():\n",
        "            for model in self.subset_models:\n",
        "                model.eval()\n",
        "                preds = model(image)\n",
        "                probs = torch.softmax(preds, dim=1)\n",
        "                ensemble_probs += probs / len(self.subset_models)\n",
        "        \n",
        "        return ensemble_probs\n",
        "    \n",
        "    def predict_batch(self, dataloader, device):\n",
        "        \"\"\"\n",
        "        배치 데이터에 대한 캐스케이드 예측\n",
        "        \n",
        "        Args:\n",
        "            dataloader: 테스트 데이터로더\n",
        "            device: GPU/CPU 디바이스\n",
        "            \n",
        "        Returns:\n",
        "            predictions: 최종 예측 리스트\n",
        "            confidences: 예측 신뢰도 리스트\n",
        "            cascade_usage: 캐스케이드 사용 통계\n",
        "        \"\"\"\n",
        "        all_predictions = []\n",
        "        all_confidences = []\n",
        "        cascade_usage = {'main': 0, 'cascade': 0}\n",
        "        \n",
        "        for images, _ in tqdm(dataloader, desc=\"Cascade Prediction\"):\n",
        "            batch_predictions = []\n",
        "            batch_confidences = []\n",
        "            \n",
        "            for i in range(images.size(0)):\n",
        "                single_image = images[i]\n",
        "                pred, conf, used = self.predict_single(single_image, device)\n",
        "                \n",
        "                batch_predictions.append(pred)\n",
        "                batch_confidences.append(conf)\n",
        "                cascade_usage[used] += 1\n",
        "            \n",
        "            all_predictions.extend(batch_predictions)\n",
        "            all_confidences.extend(batch_confidences)\n",
        "        \n",
        "        return all_predictions, all_confidences, cascade_usage\n"
      ]
    },
    {
      "cell_type": "code",
      "execution_count": 19,
      "metadata": {},
      "outputs": [
        {
          "name": "stdout",
          "output_type": "stream",
          "text": [
            "메인 모델들 로드 중...\n",
            "✅ 메인 모델 1 로드 완료\n"
          ]
        },
        {
          "ename": "RuntimeError",
          "evalue": "PytorchStreamReader failed reading zip archive: failed finding central directory",
          "output_type": "error",
          "traceback": [
            "\u001b[0;31m---------------------------------------------------------------------------\u001b[0m",
            "\u001b[0;31mRuntimeError\u001b[0m                              Traceback (most recent call last)",
            "Cell \u001b[0;32mIn[19], line 17\u001b[0m\n\u001b[1;32m     14\u001b[0m \u001b[38;5;28;01mif\u001b[39;00m os\u001b[38;5;241m.\u001b[39mpath\u001b[38;5;241m.\u001b[39mexists(model_path):\n\u001b[1;32m     15\u001b[0m     \u001b[38;5;66;03m# 메인 모델 생성 (17개 클래스)\u001b[39;00m\n\u001b[1;32m     16\u001b[0m     main_model \u001b[38;5;241m=\u001b[39m timm\u001b[38;5;241m.\u001b[39mcreate_model(model_name, pretrained\u001b[38;5;241m=\u001b[39m\u001b[38;5;28;01mTrue\u001b[39;00m, num_classes\u001b[38;5;241m=\u001b[39m\u001b[38;5;241m17\u001b[39m)\u001b[38;5;241m.\u001b[39mto(device)\n\u001b[0;32m---> 17\u001b[0m     main_model\u001b[38;5;241m.\u001b[39mload_state_dict(\u001b[43mtorch\u001b[49m\u001b[38;5;241;43m.\u001b[39;49m\u001b[43mload\u001b[49m\u001b[43m(\u001b[49m\u001b[43mmodel_path\u001b[49m\u001b[43m,\u001b[49m\u001b[43m \u001b[49m\u001b[43mmap_location\u001b[49m\u001b[38;5;241;43m=\u001b[39;49m\u001b[43mdevice\u001b[49m\u001b[43m)\u001b[49m)\n\u001b[1;32m     18\u001b[0m     main_model\u001b[38;5;241m.\u001b[39meval()\n\u001b[1;32m     20\u001b[0m     main_models\u001b[38;5;241m.\u001b[39mappend(main_model)\n",
            "File \u001b[0;32m/opt/conda/lib/python3.10/site-packages/torch/serialization.py:993\u001b[0m, in \u001b[0;36mload\u001b[0;34m(f, map_location, pickle_module, weights_only, mmap, **pickle_load_args)\u001b[0m\n\u001b[1;32m    991\u001b[0m orig_position \u001b[38;5;241m=\u001b[39m opened_file\u001b[38;5;241m.\u001b[39mtell()\n\u001b[1;32m    992\u001b[0m overall_storage \u001b[38;5;241m=\u001b[39m \u001b[38;5;28;01mNone\u001b[39;00m\n\u001b[0;32m--> 993\u001b[0m \u001b[38;5;28;01mwith\u001b[39;00m \u001b[43m_open_zipfile_reader\u001b[49m\u001b[43m(\u001b[49m\u001b[43mopened_file\u001b[49m\u001b[43m)\u001b[49m \u001b[38;5;28;01mas\u001b[39;00m opened_zipfile:\n\u001b[1;32m    994\u001b[0m     \u001b[38;5;28;01mif\u001b[39;00m _is_torchscript_zip(opened_zipfile):\n\u001b[1;32m    995\u001b[0m         warnings\u001b[38;5;241m.\u001b[39mwarn(\u001b[38;5;124m\"\u001b[39m\u001b[38;5;124m'\u001b[39m\u001b[38;5;124mtorch.load\u001b[39m\u001b[38;5;124m'\u001b[39m\u001b[38;5;124m received a zip file that looks like a TorchScript archive\u001b[39m\u001b[38;5;124m\"\u001b[39m\n\u001b[1;32m    996\u001b[0m                       \u001b[38;5;124m\"\u001b[39m\u001b[38;5;124m dispatching to \u001b[39m\u001b[38;5;124m'\u001b[39m\u001b[38;5;124mtorch.jit.load\u001b[39m\u001b[38;5;124m'\u001b[39m\u001b[38;5;124m (call \u001b[39m\u001b[38;5;124m'\u001b[39m\u001b[38;5;124mtorch.jit.load\u001b[39m\u001b[38;5;124m'\u001b[39m\u001b[38;5;124m directly to\u001b[39m\u001b[38;5;124m\"\u001b[39m\n\u001b[1;32m    997\u001b[0m                       \u001b[38;5;124m\"\u001b[39m\u001b[38;5;124m silence this warning)\u001b[39m\u001b[38;5;124m\"\u001b[39m, \u001b[38;5;167;01mUserWarning\u001b[39;00m)\n",
            "File \u001b[0;32m/opt/conda/lib/python3.10/site-packages/torch/serialization.py:447\u001b[0m, in \u001b[0;36m_open_zipfile_reader.__init__\u001b[0;34m(self, name_or_buffer)\u001b[0m\n\u001b[1;32m    446\u001b[0m \u001b[38;5;28;01mdef\u001b[39;00m \u001b[38;5;21m__init__\u001b[39m(\u001b[38;5;28mself\u001b[39m, name_or_buffer) \u001b[38;5;241m-\u001b[39m\u001b[38;5;241m>\u001b[39m \u001b[38;5;28;01mNone\u001b[39;00m:\n\u001b[0;32m--> 447\u001b[0m     \u001b[38;5;28msuper\u001b[39m()\u001b[38;5;241m.\u001b[39m\u001b[38;5;21m__init__\u001b[39m(\u001b[43mtorch\u001b[49m\u001b[38;5;241;43m.\u001b[39;49m\u001b[43m_C\u001b[49m\u001b[38;5;241;43m.\u001b[39;49m\u001b[43mPyTorchFileReader\u001b[49m\u001b[43m(\u001b[49m\u001b[43mname_or_buffer\u001b[49m\u001b[43m)\u001b[49m)\n",
            "\u001b[0;31mRuntimeError\u001b[0m: PytorchStreamReader failed reading zip archive: failed finding central directory"
          ]
        }
      ],
      "source": [
        "# ========================================\n",
        "# 5. 메인 모델과 서브셋 모델 로드\n",
        "# ========================================\n",
        "\n",
        "# 메인 모델들 로드 (17개 클래스)\n",
        "print(\"메인 모델들 로드 중...\")\n",
        "main_models = []\n",
        "for fold in range(5):\n",
        "\n",
        "    #model_path = f\"best_model_fold_{fold+1}.pth\"\n",
        "    #model_path = f\"fold_{fold+1}_best.pth\"\n",
        "    model_path = f\"BH_512_base_best_model_fold_{fold+1}.pth\"\n",
        "    \n",
        "    if os.path.exists(model_path):\n",
        "        # 메인 모델 생성 (17개 클래스)\n",
        "        main_model = timm.create_model(model_name, pretrained=True, num_classes=17).to(device)\n",
        "        main_model.load_state_dict(torch.load(model_path, map_location=device))\n",
        "        main_model.eval()\n",
        "        \n",
        "        main_models.append(main_model)\n",
        "        print(f\"✅ 메인 모델 {fold+1} 로드 완료\")\n",
        "    else:\n",
        "        print(f\"❌ 메인 모델 {fold+1} 파일을 찾을 수 없습니다: {model_path}\")\n",
        "\n",
        "print(f\"총 {len(main_models)}개의 메인 모델 로드 완료\")\n",
        "\n",
        "# 서브셋 모델들 로드 (4개 클래스)\n",
        "print(\"\\n서브셋 모델들 로드 중...\")\n",
        "subset_models = []\n",
        "for fold in range(5):\n",
        "    model_path = f\"{save_dir}/subset_fold_{fold}_model.pth\"\n",
        "    \n",
        "    if os.path.exists(model_path):\n",
        "        # 서브셋 모델 생성 (4개 클래스)\n",
        "        subset_model = timm.create_model(model_name, pretrained=True, num_classes=4).to(device)\n",
        "        checkpoint = torch.load(model_path, map_location=device)\n",
        "        subset_model.load_state_dict(checkpoint['model_state_dict'])\n",
        "        subset_model.eval()\n",
        "        \n",
        "        subset_models.append(subset_model)\n",
        "        print(f\"✅ 서브셋 모델 {fold} 로드 완료 (F1: {checkpoint['best_f1']:.4f})\")\n",
        "    else:\n",
        "        print(f\"❌ 서브셋 모델 {fold} 파일을 찾을 수 없습니다: {model_path}\")\n",
        "\n",
        "print(f\"총 {len(subset_models)}개의 서브셋 모델 로드 완료\")\n"
      ]
    },
    {
      "cell_type": "code",
      "execution_count": 15,
      "metadata": {},
      "outputs": [
        {
          "name": "stdout",
          "output_type": "stream",
          "text": [
            "캐스케이드 분류기 초기화 완료\n",
            "- 취약 클래스: [3, 4, 7, 14]\n",
            "- 신뢰도 임계값: 0.7\n",
            "- 메인 모델 수: 5\n",
            "- 서브셋 모델 수: 5\n",
            "\n",
            "==================================================\n",
            "캐스케이드 분류기 테스트\n",
            "==================================================\n",
            "테스트 이미지: 009235e4c9c07af5.jpg\n",
            "실제 클래스: 4\n",
            "예측 결과: 4\n",
            "예측 신뢰도: 0.9531\n",
            "사용된 분류기: main\n",
            "정답 여부: ✅\n"
          ]
        }
      ],
      "source": [
        "# ========================================\n",
        "# 6. 캐스케이드 분류기 초기화 및 테스트\n",
        "# ========================================\n",
        "\n",
        "# 캐스케이드 분류기 초기화\n",
        "cascade_classifier = CascadeClassifier(\n",
        "    main_models=main_models,      # 분류기 A (17개 클래스)\n",
        "    subset_models=subset_models,  # 분류기 B (4개 클래스)\n",
        "    vulnerable_classes=vulnerable_classes, # 취약 클래스\n",
        "    confidence_threshold=0.7      # 신뢰도 임계값 (조정 가능)\n",
        ")\n",
        "\n",
        "# 간단한 테스트 (취약 클래스 샘플로)\n",
        "print(\"\\n\" + \"=\"*50)\n",
        "print(\"캐스케이드 분류기 테스트\")\n",
        "print(\"=\"*50)\n",
        "\n",
        "# 취약 클래스 샘플 하나 가져오기\n",
        "test_sample = filtered_df.iloc[0]\n",
        "test_image_path = f\"../data/train/{test_sample['ID']}\"\n",
        "test_image = Image.open(test_image_path).convert('RGB')\n",
        "\n",
        "# 이미지 전처리\n",
        "transform = A.Compose([\n",
        "    A.LongestMaxSize(max_size=img_size),\n",
        "    A.PadIfNeeded(min_height=img_size, min_width=img_size, border_mode=0, value=0),\n",
        "    A.Normalize(mean=[0.485, 0.456, 0.406], std=[0.229, 0.224, 0.225]),\n",
        "    ToTensorV2(),\n",
        "])\n",
        "\n",
        "test_tensor = transform(image=np.array(test_image))['image']\n",
        "true_class = test_sample['original_target']  # 원본 클래스\n",
        "\n",
        "print(f\"테스트 이미지: {test_sample['ID']}\")\n",
        "print(f\"실제 클래스: {true_class}\")\n",
        "\n",
        "# 캐스케이드 예측\n",
        "pred, conf, used = cascade_classifier.predict_single(test_tensor, device)\n",
        "\n",
        "print(f\"예측 결과: {pred}\")\n",
        "print(f\"예측 신뢰도: {conf:.4f}\")\n",
        "print(f\"사용된 분류기: {used}\")\n",
        "print(f\"정답 여부: {'✅' if pred == true_class else '❌'}\")\n"
      ]
    },
    {
      "cell_type": "code",
      "execution_count": 16,
      "metadata": {},
      "outputs": [
        {
          "name": "stdout",
          "output_type": "stream",
          "text": [
            "테스트 데이터 크기: 3140\n",
            "캐스케이드 시스템으로 테스트 데이터 예측 시작...\n"
          ]
        },
        {
          "name": "stderr",
          "output_type": "stream",
          "text": [
            "Cascade Prediction:   0%|          | 0/99 [00:00<?, ?it/s]"
          ]
        },
        {
          "name": "stdout",
          "output_type": "stream",
          "text": [
            "캐스케이드 사용: 4(0.190) -> 4(0.295)\n",
            "캐스케이드 사용: 7(0.397) -> 14(0.514)\n"
          ]
        },
        {
          "name": "stderr",
          "output_type": "stream",
          "text": [
            "Cascade Prediction:   1%|          | 1/99 [00:03<05:23,  3.30s/it]"
          ]
        },
        {
          "name": "stdout",
          "output_type": "stream",
          "text": [
            "캐스케이드 사용: 14(0.487) -> 14(0.710)\n",
            "캐스케이드 사용: 3(0.680) -> 3(0.857)\n",
            "캐스케이드 사용: 7(0.589) -> 7(0.383)\n"
          ]
        },
        {
          "name": "stderr",
          "output_type": "stream",
          "text": [
            "Cascade Prediction:   2%|▏         | 2/99 [00:05<04:14,  2.62s/it]"
          ]
        },
        {
          "name": "stdout",
          "output_type": "stream",
          "text": [
            "캐스케이드 사용: 7(0.526) -> 3(0.439)\n",
            "캐스케이드 사용: 14(0.627) -> 14(0.685)\n",
            "캐스케이드 사용: 7(0.560) -> 4(0.383)\n",
            "캐스케이드 사용: 14(0.259) -> 3(0.598)\n"
          ]
        },
        {
          "name": "stderr",
          "output_type": "stream",
          "text": [
            "Cascade Prediction:   3%|▎         | 3/99 [00:07<03:55,  2.46s/it]"
          ]
        },
        {
          "name": "stdout",
          "output_type": "stream",
          "text": [
            "캐스케이드 사용: 7(0.412) -> 7(0.402)\n",
            "캐스케이드 사용: 7(0.594) -> 7(0.577)\n",
            "캐스케이드 사용: 7(0.661) -> 7(0.736)\n"
          ]
        },
        {
          "name": "stderr",
          "output_type": "stream",
          "text": [
            "Cascade Prediction:   4%|▍         | 4/99 [00:09<03:39,  2.31s/it]"
          ]
        },
        {
          "name": "stdout",
          "output_type": "stream",
          "text": [
            "캐스케이드 사용: 3(0.638) -> 3(0.581)\n",
            "캐스케이드 사용: 4(0.606) -> 4(0.880)\n",
            "캐스케이드 사용: 7(0.236) -> 7(0.541)\n"
          ]
        },
        {
          "name": "stderr",
          "output_type": "stream",
          "text": [
            "Cascade Prediction:   5%|▌         | 5/99 [00:11<03:30,  2.24s/it]"
          ]
        },
        {
          "name": "stdout",
          "output_type": "stream",
          "text": [
            "캐스케이드 사용: 3(0.630) -> 3(0.593)\n",
            "캐스케이드 사용: 3(0.400) -> 3(0.406)\n"
          ]
        },
        {
          "name": "stderr",
          "output_type": "stream",
          "text": [
            "Cascade Prediction:   6%|▌         | 6/99 [00:13<03:22,  2.18s/it]"
          ]
        },
        {
          "name": "stdout",
          "output_type": "stream",
          "text": [
            "캐스케이드 사용: 7(0.290) -> 7(0.399)\n",
            "캐스케이드 사용: 14(0.591) -> 14(0.827)\n",
            "캐스케이드 사용: 3(0.649) -> 3(0.643)\n",
            "캐스케이드 사용: 3(0.640) -> 3(0.681)\n"
          ]
        },
        {
          "name": "stderr",
          "output_type": "stream",
          "text": [
            "Cascade Prediction:   7%|▋         | 7/99 [00:16<03:22,  2.20s/it]"
          ]
        },
        {
          "name": "stdout",
          "output_type": "stream",
          "text": [
            "캐스케이드 사용: 3(0.559) -> 3(0.523)\n",
            "캐스케이드 사용: 7(0.680) -> 7(0.499)\n",
            "캐스케이드 사용: 7(0.640) -> 7(0.554)\n",
            "캐스케이드 사용: 3(0.623) -> 3(0.711)\n"
          ]
        },
        {
          "name": "stderr",
          "output_type": "stream",
          "text": [
            "Cascade Prediction:   8%|▊         | 8/99 [00:18<03:20,  2.20s/it]"
          ]
        },
        {
          "name": "stdout",
          "output_type": "stream",
          "text": [
            "캐스케이드 사용: 7(0.472) -> 3(0.548)\n",
            "캐스케이드 사용: 4(0.612) -> 4(0.769)\n",
            "캐스케이드 사용: 7(0.383) -> 7(0.441)\n"
          ]
        },
        {
          "name": "stderr",
          "output_type": "stream",
          "text": [
            "Cascade Prediction:   9%|▉         | 9/99 [00:20<03:16,  2.18s/it]"
          ]
        },
        {
          "name": "stdout",
          "output_type": "stream",
          "text": [
            "캐스케이드 사용: 4(0.601) -> 4(0.874)\n",
            "캐스케이드 사용: 7(0.488) -> 7(0.519)\n",
            "캐스케이드 사용: 3(0.432) -> 3(0.521)\n",
            "캐스케이드 사용: 7(0.595) -> 7(0.685)\n",
            "캐스케이드 사용: 4(0.612) -> 4(0.688)\n"
          ]
        },
        {
          "name": "stderr",
          "output_type": "stream",
          "text": [
            "Cascade Prediction:  11%|█         | 11/99 [00:24<03:06,  2.11s/it]"
          ]
        },
        {
          "name": "stdout",
          "output_type": "stream",
          "text": [
            "캐스케이드 사용: 3(0.638) -> 3(0.523)\n",
            "캐스케이드 사용: 4(0.368) -> 4(0.569)\n",
            "캐스케이드 사용: 4(0.567) -> 4(0.594)\n",
            "캐스케이드 사용: 14(0.157) -> 4(0.421)\n"
          ]
        },
        {
          "name": "stderr",
          "output_type": "stream",
          "text": [
            "Cascade Prediction:  12%|█▏        | 12/99 [00:26<03:07,  2.16s/it]"
          ]
        },
        {
          "name": "stdout",
          "output_type": "stream",
          "text": [
            "캐스케이드 사용: 7(0.321) -> 7(0.470)\n",
            "캐스케이드 사용: 7(0.349) -> 7(0.517)\n",
            "캐스케이드 사용: 14(0.551) -> 14(0.838)\n"
          ]
        },
        {
          "name": "stderr",
          "output_type": "stream",
          "text": [
            "Cascade Prediction:  13%|█▎        | 13/99 [00:29<03:03,  2.14s/it]"
          ]
        },
        {
          "name": "stdout",
          "output_type": "stream",
          "text": [
            "캐스케이드 사용: 3(0.656) -> 3(0.716)\n",
            "캐스케이드 사용: 7(0.685) -> 7(0.938)\n",
            "캐스케이드 사용: 4(0.675) -> 4(0.702)\n",
            "캐스케이드 사용: 3(0.536) -> 3(0.605)\n"
          ]
        },
        {
          "name": "stderr",
          "output_type": "stream",
          "text": [
            "Cascade Prediction:  14%|█▍        | 14/99 [00:31<03:03,  2.16s/it]"
          ]
        },
        {
          "name": "stdout",
          "output_type": "stream",
          "text": [
            "캐스케이드 사용: 4(0.391) -> 4(0.528)\n",
            "캐스케이드 사용: 7(0.370) -> 4(0.477)\n",
            "캐스케이드 사용: 4(0.245) -> 14(0.403)\n"
          ]
        },
        {
          "name": "stderr",
          "output_type": "stream",
          "text": [
            "Cascade Prediction:  15%|█▌        | 15/99 [00:33<03:00,  2.15s/it]"
          ]
        },
        {
          "name": "stdout",
          "output_type": "stream",
          "text": [
            "캐스케이드 사용: 3(0.479) -> 3(0.638)\n",
            "캐스케이드 사용: 7(0.659) -> 7(0.667)\n",
            "캐스케이드 사용: 7(0.630) -> 7(0.583)\n"
          ]
        },
        {
          "name": "stderr",
          "output_type": "stream",
          "text": [
            "Cascade Prediction:  16%|█▌        | 16/99 [00:35<02:58,  2.15s/it]"
          ]
        },
        {
          "name": "stdout",
          "output_type": "stream",
          "text": [
            "캐스케이드 사용: 7(0.540) -> 7(0.440)\n",
            "캐스케이드 사용: 3(0.323) -> 3(0.450)\n",
            "캐스케이드 사용: 4(0.571) -> 4(0.487)\n",
            "캐스케이드 사용: 4(0.459) -> 4(0.438)\n"
          ]
        },
        {
          "name": "stderr",
          "output_type": "stream",
          "text": [
            "Cascade Prediction:  17%|█▋        | 17/99 [00:37<02:58,  2.17s/it]"
          ]
        },
        {
          "name": "stdout",
          "output_type": "stream",
          "text": [
            "캐스케이드 사용: 3(0.628) -> 3(0.774)\n",
            "캐스케이드 사용: 7(0.602) -> 7(0.541)\n",
            "캐스케이드 사용: 14(0.429) -> 14(0.440)\n"
          ]
        },
        {
          "name": "stderr",
          "output_type": "stream",
          "text": [
            "Cascade Prediction:  18%|█▊        | 18/99 [00:39<02:55,  2.17s/it]"
          ]
        },
        {
          "name": "stdout",
          "output_type": "stream",
          "text": [
            "캐스케이드 사용: 3(0.645) -> 3(0.654)\n",
            "캐스케이드 사용: 7(0.573) -> 7(0.454)\n",
            "캐스케이드 사용: 7(0.444) -> 3(0.518)\n"
          ]
        },
        {
          "name": "stderr",
          "output_type": "stream",
          "text": [
            "Cascade Prediction:  19%|█▉        | 19/99 [00:42<02:54,  2.18s/it]"
          ]
        },
        {
          "name": "stdout",
          "output_type": "stream",
          "text": [
            "캐스케이드 사용: 4(0.336) -> 4(0.498)\n",
            "캐스케이드 사용: 3(0.635) -> 3(0.668)\n",
            "캐스케이드 사용: 7(0.547) -> 7(0.552)\n",
            "캐스케이드 사용: 7(0.489) -> 3(0.629)\n",
            "캐스케이드 사용: 14(0.367) -> 14(0.572)\n",
            "캐스케이드 사용: 4(0.440) -> 3(0.354)\n"
          ]
        },
        {
          "name": "stderr",
          "output_type": "stream",
          "text": [
            "Cascade Prediction:  20%|██        | 20/99 [00:44<02:54,  2.21s/it]"
          ]
        },
        {
          "name": "stdout",
          "output_type": "stream",
          "text": [
            "캐스케이드 사용: 7(0.521) -> 7(0.641)\n",
            "캐스케이드 사용: 14(0.626) -> 14(0.720)\n",
            "캐스케이드 사용: 4(0.476) -> 14(0.781)\n"
          ]
        },
        {
          "name": "stderr",
          "output_type": "stream",
          "text": [
            "Cascade Prediction:  21%|██        | 21/99 [00:46<02:50,  2.19s/it]"
          ]
        },
        {
          "name": "stdout",
          "output_type": "stream",
          "text": [
            "캐스케이드 사용: 3(0.381) -> 3(0.363)\n",
            "캐스케이드 사용: 7(0.464) -> 3(0.580)\n",
            "캐스케이드 사용: 3(0.429) -> 3(0.647)\n",
            "캐스케이드 사용: 7(0.426) -> 3(0.647)\n"
          ]
        },
        {
          "name": "stderr",
          "output_type": "stream",
          "text": [
            "Cascade Prediction:  22%|██▏       | 22/99 [00:48<02:49,  2.20s/it]"
          ]
        },
        {
          "name": "stdout",
          "output_type": "stream",
          "text": [
            "캐스케이드 사용: 14(0.554) -> 14(0.720)\n",
            "캐스케이드 사용: 14(0.397) -> 14(0.915)\n",
            "캐스케이드 사용: 4(0.615) -> 4(0.511)\n",
            "캐스케이드 사용: 14(0.465) -> 14(0.520)\n"
          ]
        },
        {
          "name": "stderr",
          "output_type": "stream",
          "text": [
            "Cascade Prediction:  23%|██▎       | 23/99 [00:50<02:47,  2.20s/it]"
          ]
        },
        {
          "name": "stdout",
          "output_type": "stream",
          "text": [
            "캐스케이드 사용: 3(0.472) -> 3(0.716)\n"
          ]
        },
        {
          "name": "stderr",
          "output_type": "stream",
          "text": [
            "Cascade Prediction:  24%|██▍       | 24/99 [00:53<02:41,  2.15s/it]"
          ]
        },
        {
          "name": "stdout",
          "output_type": "stream",
          "text": [
            "캐스케이드 사용: 4(0.608) -> 14(0.546)\n",
            "캐스케이드 사용: 3(0.461) -> 3(0.800)\n",
            "캐스케이드 사용: 7(0.488) -> 4(0.379)\n"
          ]
        },
        {
          "name": "stderr",
          "output_type": "stream",
          "text": [
            "Cascade Prediction:  25%|██▌       | 25/99 [00:55<02:39,  2.15s/it]"
          ]
        },
        {
          "name": "stdout",
          "output_type": "stream",
          "text": [
            "캐스케이드 사용: 4(0.607) -> 4(0.800)\n",
            "캐스케이드 사용: 3(0.626) -> 3(0.869)\n"
          ]
        },
        {
          "name": "stderr",
          "output_type": "stream",
          "text": [
            "Cascade Prediction:  26%|██▋       | 26/99 [00:57<02:37,  2.15s/it]"
          ]
        },
        {
          "name": "stdout",
          "output_type": "stream",
          "text": [
            "캐스케이드 사용: 3(0.672) -> 3(0.740)\n",
            "캐스케이드 사용: 7(0.234) -> 4(0.410)\n",
            "캐스케이드 사용: 3(0.575) -> 3(0.648)\n",
            "캐스케이드 사용: 14(0.511) -> 14(0.509)\n"
          ]
        },
        {
          "name": "stderr",
          "output_type": "stream",
          "text": [
            "Cascade Prediction:  27%|██▋       | 27/99 [00:59<02:35,  2.16s/it]"
          ]
        },
        {
          "name": "stdout",
          "output_type": "stream",
          "text": [
            "캐스케이드 사용: 7(0.537) -> 3(0.645)\n"
          ]
        },
        {
          "name": "stderr",
          "output_type": "stream",
          "text": [
            "Cascade Prediction:  28%|██▊       | 28/99 [01:01<02:31,  2.14s/it]"
          ]
        },
        {
          "name": "stdout",
          "output_type": "stream",
          "text": [
            "캐스케이드 사용: 3(0.395) -> 3(0.523)\n"
          ]
        },
        {
          "name": "stderr",
          "output_type": "stream",
          "text": [
            "Cascade Prediction:  29%|██▉       | 29/99 [01:03<02:26,  2.09s/it]"
          ]
        },
        {
          "name": "stdout",
          "output_type": "stream",
          "text": [
            "캐스케이드 사용: 14(0.549) -> 14(0.684)\n",
            "캐스케이드 사용: 3(0.681) -> 3(0.718)\n",
            "캐스케이드 사용: 14(0.680) -> 14(0.573)\n",
            "캐스케이드 사용: 7(0.698) -> 7(0.526)\n",
            "캐스케이드 사용: 4(0.672) -> 4(0.877)\n",
            "캐스케이드 사용: 7(0.621) -> 7(0.597)\n"
          ]
        },
        {
          "name": "stderr",
          "output_type": "stream",
          "text": [
            "Cascade Prediction:  31%|███▏      | 31/99 [01:07<02:23,  2.11s/it]"
          ]
        },
        {
          "name": "stdout",
          "output_type": "stream",
          "text": [
            "캐스케이드 사용: 4(0.453) -> 4(0.348)\n",
            "캐스케이드 사용: 4(0.612) -> 4(0.659)\n",
            "캐스케이드 사용: 7(0.434) -> 7(0.675)\n"
          ]
        },
        {
          "name": "stderr",
          "output_type": "stream",
          "text": [
            "Cascade Prediction:  32%|███▏      | 32/99 [01:10<02:22,  2.13s/it]"
          ]
        },
        {
          "name": "stdout",
          "output_type": "stream",
          "text": [
            "캐스케이드 사용: 7(0.387) -> 7(0.338)\n"
          ]
        },
        {
          "name": "stderr",
          "output_type": "stream",
          "text": [
            "Cascade Prediction:  33%|███▎      | 33/99 [01:12<02:18,  2.10s/it]"
          ]
        },
        {
          "name": "stdout",
          "output_type": "stream",
          "text": [
            "캐스케이드 사용: 7(0.285) -> 4(0.349)\n"
          ]
        },
        {
          "name": "stderr",
          "output_type": "stream",
          "text": [
            "Cascade Prediction:  34%|███▍      | 34/99 [01:14<02:15,  2.08s/it]"
          ]
        },
        {
          "name": "stdout",
          "output_type": "stream",
          "text": [
            "캐스케이드 사용: 4(0.626) -> 4(0.906)\n",
            "캐스케이드 사용: 7(0.533) -> 7(0.638)\n",
            "캐스케이드 사용: 3(0.428) -> 3(0.496)\n"
          ]
        },
        {
          "name": "stderr",
          "output_type": "stream",
          "text": [
            "Cascade Prediction:  35%|███▌      | 35/99 [01:16<02:14,  2.11s/it]"
          ]
        },
        {
          "name": "stdout",
          "output_type": "stream",
          "text": [
            "캐스케이드 사용: 7(0.697) -> 7(0.660)\n",
            "캐스케이드 사용: 7(0.637) -> 7(0.583)\n"
          ]
        },
        {
          "name": "stderr",
          "output_type": "stream",
          "text": [
            "Cascade Prediction:  36%|███▋      | 36/99 [01:18<02:12,  2.11s/it]"
          ]
        },
        {
          "name": "stdout",
          "output_type": "stream",
          "text": [
            "캐스케이드 사용: 4(0.680) -> 4(0.779)\n"
          ]
        },
        {
          "name": "stderr",
          "output_type": "stream",
          "text": [
            "Cascade Prediction:  37%|███▋      | 37/99 [01:20<02:10,  2.11s/it]"
          ]
        },
        {
          "name": "stdout",
          "output_type": "stream",
          "text": [
            "캐스케이드 사용: 3(0.566) -> 3(0.494)\n",
            "캐스케이드 사용: 7(0.400) -> 7(0.492)\n"
          ]
        },
        {
          "name": "stderr",
          "output_type": "stream",
          "text": [
            "Cascade Prediction:  38%|███▊      | 38/99 [01:22<02:07,  2.09s/it]"
          ]
        },
        {
          "name": "stdout",
          "output_type": "stream",
          "text": [
            "캐스케이드 사용: 14(0.385) -> 14(0.493)\n"
          ]
        },
        {
          "name": "stderr",
          "output_type": "stream",
          "text": [
            "Cascade Prediction:  39%|███▉      | 39/99 [01:24<02:04,  2.08s/it]"
          ]
        },
        {
          "name": "stdout",
          "output_type": "stream",
          "text": [
            "캐스케이드 사용: 7(0.677) -> 7(0.746)\n",
            "캐스케이드 사용: 14(0.367) -> 14(0.630)\n",
            "캐스케이드 사용: 7(0.364) -> 7(0.533)\n"
          ]
        },
        {
          "name": "stderr",
          "output_type": "stream",
          "text": [
            "Cascade Prediction:  40%|████      | 40/99 [01:26<02:04,  2.11s/it]"
          ]
        },
        {
          "name": "stdout",
          "output_type": "stream",
          "text": [
            "캐스케이드 사용: 7(0.665) -> 7(0.813)\n"
          ]
        },
        {
          "name": "stderr",
          "output_type": "stream",
          "text": [
            "Cascade Prediction:  41%|████▏     | 41/99 [01:28<02:01,  2.09s/it]"
          ]
        },
        {
          "name": "stdout",
          "output_type": "stream",
          "text": [
            "캐스케이드 사용: 3(0.315) -> 3(0.724)\n",
            "캐스케이드 사용: 3(0.640) -> 3(0.656)\n"
          ]
        },
        {
          "name": "stderr",
          "output_type": "stream",
          "text": [
            "Cascade Prediction:  42%|████▏     | 42/99 [01:30<01:59,  2.09s/it]"
          ]
        },
        {
          "name": "stdout",
          "output_type": "stream",
          "text": [
            "캐스케이드 사용: 3(0.694) -> 7(0.465)\n",
            "캐스케이드 사용: 3(0.503) -> 3(0.725)\n",
            "캐스케이드 사용: 7(0.501) -> 7(0.662)\n",
            "캐스케이드 사용: 3(0.515) -> 3(0.402)\n",
            "캐스케이드 사용: 7(0.587) -> 7(0.723)\n"
          ]
        },
        {
          "name": "stderr",
          "output_type": "stream",
          "text": [
            "Cascade Prediction:  43%|████▎     | 43/99 [01:33<02:00,  2.15s/it]"
          ]
        },
        {
          "name": "stdout",
          "output_type": "stream",
          "text": [
            "캐스케이드 사용: 7(0.260) -> 3(0.487)\n",
            "캐스케이드 사용: 4(0.659) -> 4(0.916)\n",
            "캐스케이드 사용: 3(0.316) -> 3(0.448)\n"
          ]
        },
        {
          "name": "stderr",
          "output_type": "stream",
          "text": [
            "Cascade Prediction:  44%|████▍     | 44/99 [01:35<01:58,  2.16s/it]"
          ]
        },
        {
          "name": "stdout",
          "output_type": "stream",
          "text": [
            "캐스케이드 사용: 3(0.488) -> 3(0.569)\n",
            "캐스케이드 사용: 3(0.376) -> 7(0.492)\n",
            "캐스케이드 사용: 3(0.538) -> 3(0.464)\n",
            "캐스케이드 사용: 4(0.685) -> 4(0.761)\n"
          ]
        },
        {
          "name": "stderr",
          "output_type": "stream",
          "text": [
            "Cascade Prediction:  45%|████▌     | 45/99 [01:37<01:58,  2.20s/it]"
          ]
        },
        {
          "name": "stdout",
          "output_type": "stream",
          "text": [
            "캐스케이드 사용: 7(0.504) -> 7(0.627)\n",
            "캐스케이드 사용: 4(0.693) -> 4(0.841)\n",
            "캐스케이드 사용: 14(0.587) -> 14(0.665)\n"
          ]
        },
        {
          "name": "stderr",
          "output_type": "stream",
          "text": [
            "Cascade Prediction:  46%|████▋     | 46/99 [01:39<01:55,  2.17s/it]"
          ]
        },
        {
          "name": "stdout",
          "output_type": "stream",
          "text": [
            "캐스케이드 사용: 7(0.650) -> 7(0.719)\n",
            "캐스케이드 사용: 7(0.601) -> 7(0.799)\n"
          ]
        },
        {
          "name": "stderr",
          "output_type": "stream",
          "text": [
            "Cascade Prediction:  47%|████▋     | 47/99 [01:41<01:52,  2.16s/it]"
          ]
        },
        {
          "name": "stdout",
          "output_type": "stream",
          "text": [
            "캐스케이드 사용: 7(0.679) -> 7(0.485)\n",
            "캐스케이드 사용: 4(0.426) -> 4(0.688)\n"
          ]
        },
        {
          "name": "stderr",
          "output_type": "stream",
          "text": [
            "Cascade Prediction:  48%|████▊     | 48/99 [01:44<01:49,  2.14s/it]"
          ]
        },
        {
          "name": "stdout",
          "output_type": "stream",
          "text": [
            "캐스케이드 사용: 14(0.670) -> 14(0.444)\n",
            "캐스케이드 사용: 7(0.514) -> 3(0.413)\n",
            "캐스케이드 사용: 3(0.578) -> 3(0.663)\n"
          ]
        },
        {
          "name": "stderr",
          "output_type": "stream",
          "text": [
            "Cascade Prediction:  49%|████▉     | 49/99 [01:46<01:47,  2.15s/it]"
          ]
        },
        {
          "name": "stdout",
          "output_type": "stream",
          "text": [
            "캐스케이드 사용: 3(0.610) -> 3(0.546)\n",
            "캐스케이드 사용: 3(0.475) -> 14(0.412)\n",
            "캐스케이드 사용: 7(0.626) -> 7(0.666)\n",
            "캐스케이드 사용: 7(0.527) -> 3(0.661)\n",
            "캐스케이드 사용: 14(0.563) -> 14(0.584)\n"
          ]
        },
        {
          "name": "stderr",
          "output_type": "stream",
          "text": [
            "Cascade Prediction:  51%|█████     | 50/99 [01:48<01:47,  2.20s/it]"
          ]
        },
        {
          "name": "stdout",
          "output_type": "stream",
          "text": [
            "캐스케이드 사용: 3(0.354) -> 3(0.372)\n",
            "캐스케이드 사용: 3(0.630) -> 3(0.668)\n",
            "캐스케이드 사용: 14(0.692) -> 14(0.865)\n",
            "캐스케이드 사용: 7(0.440) -> 7(0.471)\n"
          ]
        },
        {
          "name": "stderr",
          "output_type": "stream",
          "text": [
            "Cascade Prediction:  52%|█████▏    | 51/99 [01:50<01:46,  2.21s/it]"
          ]
        },
        {
          "name": "stdout",
          "output_type": "stream",
          "text": [
            "캐스케이드 사용: 4(0.485) -> 4(0.651)\n",
            "캐스케이드 사용: 7(0.318) -> 14(0.400)\n",
            "캐스케이드 사용: 7(0.470) -> 7(0.356)\n",
            "캐스케이드 사용: 7(0.603) -> 7(0.581)\n"
          ]
        },
        {
          "name": "stderr",
          "output_type": "stream",
          "text": [
            "Cascade Prediction:  53%|█████▎    | 52/99 [01:53<01:45,  2.24s/it]"
          ]
        },
        {
          "name": "stdout",
          "output_type": "stream",
          "text": [
            "캐스케이드 사용: 14(0.653) -> 14(0.633)\n",
            "캐스케이드 사용: 7(0.618) -> 7(0.753)\n",
            "캐스케이드 사용: 7(0.492) -> 7(0.598)\n",
            "캐스케이드 사용: 14(0.451) -> 14(0.664)\n",
            "캐스케이드 사용: 3(0.554) -> 3(0.512)\n"
          ]
        },
        {
          "name": "stderr",
          "output_type": "stream",
          "text": [
            "Cascade Prediction:  54%|█████▎    | 53/99 [01:55<01:42,  2.24s/it]"
          ]
        },
        {
          "name": "stdout",
          "output_type": "stream",
          "text": [
            "캐스케이드 사용: 4(0.516) -> 4(0.748)\n",
            "캐스케이드 사용: 14(0.554) -> 14(0.609)\n",
            "캐스케이드 사용: 7(0.433) -> 14(0.346)\n"
          ]
        },
        {
          "name": "stderr",
          "output_type": "stream",
          "text": [
            "Cascade Prediction:  55%|█████▍    | 54/99 [01:57<01:39,  2.22s/it]"
          ]
        },
        {
          "name": "stdout",
          "output_type": "stream",
          "text": [
            "캐스케이드 사용: 4(0.481) -> 4(0.870)\n",
            "캐스케이드 사용: 4(0.595) -> 4(0.752)\n",
            "캐스케이드 사용: 7(0.551) -> 3(0.504)\n"
          ]
        },
        {
          "name": "stderr",
          "output_type": "stream",
          "text": [
            "Cascade Prediction:  56%|█████▌    | 55/99 [01:59<01:37,  2.21s/it]"
          ]
        },
        {
          "name": "stdout",
          "output_type": "stream",
          "text": [
            "캐스케이드 사용: 7(0.539) -> 7(0.460)\n",
            "캐스케이드 사용: 7(0.586) -> 7(0.619)\n",
            "캐스케이드 사용: 4(0.591) -> 4(0.551)\n",
            "캐스케이드 사용: 3(0.698) -> 3(0.538)\n",
            "캐스케이드 사용: 14(0.358) -> 14(0.441)\n"
          ]
        },
        {
          "name": "stderr",
          "output_type": "stream",
          "text": [
            "Cascade Prediction:  57%|█████▋    | 56/99 [02:01<01:36,  2.24s/it]"
          ]
        },
        {
          "name": "stdout",
          "output_type": "stream",
          "text": [
            "캐스케이드 사용: 3(0.646) -> 7(0.509)\n",
            "캐스케이드 사용: 7(0.652) -> 7(0.537)\n"
          ]
        },
        {
          "name": "stderr",
          "output_type": "stream",
          "text": [
            "Cascade Prediction:  58%|█████▊    | 57/99 [02:04<01:32,  2.20s/it]"
          ]
        },
        {
          "name": "stdout",
          "output_type": "stream",
          "text": [
            "캐스케이드 사용: 7(0.414) -> 3(0.493)\n",
            "캐스케이드 사용: 7(0.359) -> 7(0.592)\n",
            "캐스케이드 사용: 3(0.613) -> 3(0.771)\n"
          ]
        },
        {
          "name": "stderr",
          "output_type": "stream",
          "text": [
            "Cascade Prediction:  59%|█████▊    | 58/99 [02:06<01:30,  2.20s/it]"
          ]
        },
        {
          "name": "stdout",
          "output_type": "stream",
          "text": [
            "캐스케이드 사용: 7(0.296) -> 7(0.424)\n",
            "캐스케이드 사용: 3(0.675) -> 3(0.455)\n"
          ]
        },
        {
          "name": "stderr",
          "output_type": "stream",
          "text": [
            "Cascade Prediction:  60%|█████▉    | 59/99 [02:08<01:27,  2.20s/it]"
          ]
        },
        {
          "name": "stdout",
          "output_type": "stream",
          "text": [
            "캐스케이드 사용: 7(0.547) -> 3(0.484)\n",
            "캐스케이드 사용: 3(0.661) -> 3(0.638)\n",
            "캐스케이드 사용: 3(0.463) -> 3(0.500)\n",
            "캐스케이드 사용: 4(0.331) -> 7(0.624)\n",
            "캐스케이드 사용: 4(0.416) -> 4(0.543)\n",
            "캐스케이드 사용: 14(0.464) -> 14(0.508)\n"
          ]
        },
        {
          "name": "stderr",
          "output_type": "stream",
          "text": [
            "Cascade Prediction:  61%|██████    | 60/99 [02:10<01:26,  2.23s/it]"
          ]
        },
        {
          "name": "stdout",
          "output_type": "stream",
          "text": [
            "캐스케이드 사용: 7(0.606) -> 7(0.454)\n",
            "캐스케이드 사용: 7(0.414) -> 7(0.505)\n",
            "캐스케이드 사용: 7(0.612) -> 3(0.552)\n",
            "캐스케이드 사용: 4(0.503) -> 4(0.637)\n",
            "캐스케이드 사용: 4(0.340) -> 4(0.470)\n"
          ]
        },
        {
          "name": "stderr",
          "output_type": "stream",
          "text": [
            "Cascade Prediction:  62%|██████▏   | 61/99 [02:13<01:26,  2.28s/it]"
          ]
        },
        {
          "name": "stdout",
          "output_type": "stream",
          "text": [
            "캐스케이드 사용: 4(0.397) -> 3(0.416)\n",
            "캐스케이드 사용: 3(0.434) -> 3(0.600)\n",
            "캐스케이드 사용: 14(0.280) -> 7(0.397)\n",
            "캐스케이드 사용: 14(0.691) -> 14(0.839)\n",
            "캐스케이드 사용: 7(0.435) -> 3(0.555)\n",
            "캐스케이드 사용: 3(0.377) -> 3(0.385)\n"
          ]
        },
        {
          "name": "stderr",
          "output_type": "stream",
          "text": [
            "Cascade Prediction:  63%|██████▎   | 62/99 [02:15<01:24,  2.29s/it]"
          ]
        },
        {
          "name": "stdout",
          "output_type": "stream",
          "text": [
            "캐스케이드 사용: 3(0.479) -> 3(0.476)\n"
          ]
        },
        {
          "name": "stderr",
          "output_type": "stream",
          "text": [
            "Cascade Prediction:  64%|██████▎   | 63/99 [02:17<01:19,  2.22s/it]"
          ]
        },
        {
          "name": "stdout",
          "output_type": "stream",
          "text": [
            "캐스케이드 사용: 3(0.550) -> 3(0.756)\n",
            "캐스케이드 사용: 4(0.630) -> 14(0.492)\n",
            "캐스케이드 사용: 4(0.333) -> 3(0.298)\n"
          ]
        },
        {
          "name": "stderr",
          "output_type": "stream",
          "text": [
            "Cascade Prediction:  66%|██████▌   | 65/99 [02:21<01:12,  2.14s/it]"
          ]
        },
        {
          "name": "stdout",
          "output_type": "stream",
          "text": [
            "캐스케이드 사용: 3(0.639) -> 3(0.675)\n"
          ]
        },
        {
          "name": "stderr",
          "output_type": "stream",
          "text": [
            "Cascade Prediction:  67%|██████▋   | 66/99 [02:23<01:10,  2.14s/it]"
          ]
        },
        {
          "name": "stdout",
          "output_type": "stream",
          "text": [
            "캐스케이드 사용: 3(0.274) -> 3(0.606)\n",
            "캐스케이드 사용: 4(0.495) -> 4(0.491)\n"
          ]
        },
        {
          "name": "stderr",
          "output_type": "stream",
          "text": [
            "Cascade Prediction:  69%|██████▊   | 68/99 [02:27<01:04,  2.08s/it]"
          ]
        },
        {
          "name": "stdout",
          "output_type": "stream",
          "text": [
            "캐스케이드 사용: 7(0.489) -> 7(0.663)\n",
            "캐스케이드 사용: 14(0.449) -> 14(0.508)\n",
            "캐스케이드 사용: 4(0.589) -> 4(0.514)\n"
          ]
        },
        {
          "name": "stderr",
          "output_type": "stream",
          "text": [
            "Cascade Prediction:  70%|██████▉   | 69/99 [02:30<01:03,  2.11s/it]"
          ]
        },
        {
          "name": "stdout",
          "output_type": "stream",
          "text": [
            "캐스케이드 사용: 7(0.677) -> 7(0.532)\n",
            "캐스케이드 사용: 7(0.372) -> 7(0.657)\n",
            "캐스케이드 사용: 3(0.471) -> 3(0.719)\n",
            "캐스케이드 사용: 7(0.235) -> 3(0.403)\n"
          ]
        },
        {
          "name": "stderr",
          "output_type": "stream",
          "text": [
            "Cascade Prediction:  71%|███████   | 70/99 [02:32<01:03,  2.17s/it]"
          ]
        },
        {
          "name": "stdout",
          "output_type": "stream",
          "text": [
            "캐스케이드 사용: 7(0.698) -> 7(0.629)\n",
            "캐스케이드 사용: 3(0.516) -> 3(0.386)\n"
          ]
        },
        {
          "name": "stderr",
          "output_type": "stream",
          "text": [
            "Cascade Prediction:  72%|███████▏  | 71/99 [02:34<00:59,  2.14s/it]"
          ]
        },
        {
          "name": "stdout",
          "output_type": "stream",
          "text": [
            "캐스케이드 사용: 14(0.355) -> 7(0.542)\n"
          ]
        },
        {
          "name": "stderr",
          "output_type": "stream",
          "text": [
            "Cascade Prediction:  73%|███████▎  | 72/99 [02:36<00:57,  2.12s/it]"
          ]
        },
        {
          "name": "stdout",
          "output_type": "stream",
          "text": [
            "캐스케이드 사용: 3(0.419) -> 7(0.618)\n",
            "캐스케이드 사용: 3(0.645) -> 3(0.706)\n",
            "캐스케이드 사용: 3(0.432) -> 3(0.411)\n",
            "캐스케이드 사용: 4(0.686) -> 4(0.810)\n",
            "캐스케이드 사용: 14(0.537) -> 4(0.482)\n",
            "캐스케이드 사용: 3(0.688) -> 3(0.661)\n"
          ]
        },
        {
          "name": "stderr",
          "output_type": "stream",
          "text": [
            "Cascade Prediction:  74%|███████▎  | 73/99 [02:39<00:58,  2.23s/it]"
          ]
        },
        {
          "name": "stdout",
          "output_type": "stream",
          "text": [
            "캐스케이드 사용: 7(0.538) -> 4(0.469)\n",
            "캐스케이드 사용: 7(0.467) -> 7(0.423)\n",
            "캐스케이드 사용: 14(0.584) -> 14(0.549)\n",
            "캐스케이드 사용: 7(0.634) -> 7(0.745)\n"
          ]
        },
        {
          "name": "stderr",
          "output_type": "stream",
          "text": [
            "Cascade Prediction:  75%|███████▍  | 74/99 [02:41<00:55,  2.20s/it]"
          ]
        },
        {
          "name": "stdout",
          "output_type": "stream",
          "text": [
            "캐스케이드 사용: 7(0.661) -> 7(0.529)\n"
          ]
        },
        {
          "name": "stderr",
          "output_type": "stream",
          "text": [
            "Cascade Prediction:  76%|███████▌  | 75/99 [02:43<00:51,  2.16s/it]"
          ]
        },
        {
          "name": "stdout",
          "output_type": "stream",
          "text": [
            "캐스케이드 사용: 7(0.611) -> 7(0.572)\n",
            "캐스케이드 사용: 3(0.592) -> 3(0.705)\n"
          ]
        },
        {
          "name": "stderr",
          "output_type": "stream",
          "text": [
            "Cascade Prediction:  77%|███████▋  | 76/99 [02:45<00:49,  2.15s/it]"
          ]
        },
        {
          "name": "stdout",
          "output_type": "stream",
          "text": [
            "캐스케이드 사용: 4(0.683) -> 4(0.694)\n",
            "캐스케이드 사용: 4(0.366) -> 4(0.519)\n",
            "캐스케이드 사용: 7(0.508) -> 3(0.689)\n"
          ]
        },
        {
          "name": "stderr",
          "output_type": "stream",
          "text": [
            "Cascade Prediction:  78%|███████▊  | 77/99 [02:47<00:48,  2.18s/it]"
          ]
        },
        {
          "name": "stdout",
          "output_type": "stream",
          "text": [
            "캐스케이드 사용: 14(0.543) -> 14(0.687)\n",
            "캐스케이드 사용: 3(0.511) -> 3(0.583)\n",
            "캐스케이드 사용: 14(0.490) -> 4(0.483)\n",
            "캐스케이드 사용: 7(0.316) -> 7(0.660)\n",
            "캐스케이드 사용: 3(0.606) -> 3(0.823)\n"
          ]
        },
        {
          "name": "stderr",
          "output_type": "stream",
          "text": [
            "Cascade Prediction:  79%|███████▉  | 78/99 [02:49<00:46,  2.22s/it]"
          ]
        },
        {
          "name": "stdout",
          "output_type": "stream",
          "text": [
            "캐스케이드 사용: 3(0.554) -> 3(0.812)\n",
            "캐스케이드 사용: 7(0.424) -> 7(0.714)\n",
            "캐스케이드 사용: 3(0.628) -> 3(0.762)\n",
            "캐스케이드 사용: 7(0.545) -> 7(0.718)\n",
            "캐스케이드 사용: 3(0.419) -> 3(0.525)\n"
          ]
        },
        {
          "name": "stderr",
          "output_type": "stream",
          "text": [
            "Cascade Prediction:  80%|███████▉  | 79/99 [02:52<00:44,  2.23s/it]"
          ]
        },
        {
          "name": "stdout",
          "output_type": "stream",
          "text": [
            "캐스케이드 사용: 3(0.689) -> 3(0.478)\n",
            "캐스케이드 사용: 4(0.389) -> 4(0.312)\n",
            "캐스케이드 사용: 3(0.680) -> 3(0.671)\n"
          ]
        },
        {
          "name": "stderr",
          "output_type": "stream",
          "text": [
            "Cascade Prediction:  81%|████████  | 80/99 [02:54<00:42,  2.22s/it]"
          ]
        },
        {
          "name": "stdout",
          "output_type": "stream",
          "text": [
            "캐스케이드 사용: 14(0.153) -> 14(0.556)\n",
            "캐스케이드 사용: 7(0.696) -> 3(0.561)\n",
            "캐스케이드 사용: 3(0.402) -> 3(0.522)\n"
          ]
        },
        {
          "name": "stderr",
          "output_type": "stream",
          "text": [
            "Cascade Prediction:  82%|████████▏ | 81/99 [02:56<00:39,  2.22s/it]"
          ]
        },
        {
          "name": "stdout",
          "output_type": "stream",
          "text": [
            "캐스케이드 사용: 4(0.401) -> 7(0.305)\n"
          ]
        },
        {
          "name": "stderr",
          "output_type": "stream",
          "text": [
            "Cascade Prediction:  83%|████████▎ | 82/99 [02:58<00:36,  2.18s/it]"
          ]
        },
        {
          "name": "stdout",
          "output_type": "stream",
          "text": [
            "캐스케이드 사용: 7(0.695) -> 7(0.911)\n",
            "캐스케이드 사용: 7(0.260) -> 7(0.441)\n"
          ]
        },
        {
          "name": "stderr",
          "output_type": "stream",
          "text": [
            "Cascade Prediction:  84%|████████▍ | 83/99 [03:00<00:34,  2.16s/it]"
          ]
        },
        {
          "name": "stdout",
          "output_type": "stream",
          "text": [
            "캐스케이드 사용: 7(0.293) -> 3(0.504)\n"
          ]
        },
        {
          "name": "stderr",
          "output_type": "stream",
          "text": [
            "Cascade Prediction:  85%|████████▍ | 84/99 [03:02<00:32,  2.14s/it]"
          ]
        },
        {
          "name": "stdout",
          "output_type": "stream",
          "text": [
            "캐스케이드 사용: 4(0.237) -> 3(0.489)\n"
          ]
        },
        {
          "name": "stderr",
          "output_type": "stream",
          "text": [
            "Cascade Prediction:  87%|████████▋ | 86/99 [03:06<00:27,  2.09s/it]"
          ]
        },
        {
          "name": "stdout",
          "output_type": "stream",
          "text": [
            "캐스케이드 사용: 7(0.421) -> 14(0.363)\n",
            "캐스케이드 사용: 3(0.607) -> 3(0.390)\n"
          ]
        },
        {
          "name": "stderr",
          "output_type": "stream",
          "text": [
            "Cascade Prediction:  88%|████████▊ | 87/99 [03:09<00:25,  2.12s/it]"
          ]
        },
        {
          "name": "stdout",
          "output_type": "stream",
          "text": [
            "캐스케이드 사용: 7(0.439) -> 7(0.478)\n",
            "캐스케이드 사용: 14(0.447) -> 14(0.391)\n",
            "캐스케이드 사용: 4(0.657) -> 4(0.731)\n",
            "캐스케이드 사용: 14(0.600) -> 14(0.646)\n",
            "캐스케이드 사용: 4(0.522) -> 4(0.590)\n"
          ]
        },
        {
          "name": "stderr",
          "output_type": "stream",
          "text": [
            "Cascade Prediction:  89%|████████▉ | 88/99 [03:11<00:23,  2.16s/it]"
          ]
        },
        {
          "name": "stdout",
          "output_type": "stream",
          "text": [
            "캐스케이드 사용: 7(0.618) -> 7(0.554)\n",
            "캐스케이드 사용: 4(0.446) -> 4(0.580)\n",
            "캐스케이드 사용: 14(0.422) -> 14(0.707)\n"
          ]
        },
        {
          "name": "stderr",
          "output_type": "stream",
          "text": [
            "Cascade Prediction:  90%|████████▉ | 89/99 [03:13<00:21,  2.18s/it]"
          ]
        },
        {
          "name": "stdout",
          "output_type": "stream",
          "text": [
            "캐스케이드 사용: 4(0.398) -> 4(0.430)\n",
            "캐스케이드 사용: 4(0.557) -> 4(0.939)\n"
          ]
        },
        {
          "name": "stderr",
          "output_type": "stream",
          "text": [
            "Cascade Prediction:  91%|█████████ | 90/99 [03:15<00:19,  2.19s/it]"
          ]
        },
        {
          "name": "stdout",
          "output_type": "stream",
          "text": [
            "캐스케이드 사용: 3(0.433) -> 4(0.486)\n",
            "캐스케이드 사용: 3(0.534) -> 3(0.536)\n",
            "캐스케이드 사용: 7(0.644) -> 3(0.640)\n",
            "캐스케이드 사용: 7(0.399) -> 7(0.776)\n"
          ]
        },
        {
          "name": "stderr",
          "output_type": "stream",
          "text": [
            "Cascade Prediction:  92%|█████████▏| 91/99 [03:18<00:17,  2.22s/it]"
          ]
        },
        {
          "name": "stdout",
          "output_type": "stream",
          "text": [
            "캐스케이드 사용: 14(0.386) -> 14(0.503)\n",
            "캐스케이드 사용: 3(0.293) -> 3(0.483)\n"
          ]
        },
        {
          "name": "stderr",
          "output_type": "stream",
          "text": [
            "Cascade Prediction:  93%|█████████▎| 92/99 [03:20<00:15,  2.18s/it]"
          ]
        },
        {
          "name": "stdout",
          "output_type": "stream",
          "text": [
            "캐스케이드 사용: 7(0.451) -> 3(0.362)\n",
            "캐스케이드 사용: 7(0.578) -> 7(0.682)\n",
            "캐스케이드 사용: 14(0.502) -> 14(0.495)\n",
            "캐스케이드 사용: 4(0.441) -> 4(0.585)\n"
          ]
        },
        {
          "name": "stderr",
          "output_type": "stream",
          "text": [
            "Cascade Prediction:  94%|█████████▍| 93/99 [03:22<00:13,  2.21s/it]"
          ]
        },
        {
          "name": "stdout",
          "output_type": "stream",
          "text": [
            "캐스케이드 사용: 3(0.451) -> 3(0.371)\n",
            "캐스케이드 사용: 3(0.667) -> 3(0.704)\n",
            "캐스케이드 사용: 14(0.448) -> 14(0.675)\n"
          ]
        },
        {
          "name": "stderr",
          "output_type": "stream",
          "text": [
            "Cascade Prediction:  95%|█████████▍| 94/99 [03:24<00:11,  2.23s/it]"
          ]
        },
        {
          "name": "stdout",
          "output_type": "stream",
          "text": [
            "캐스케이드 사용: 7(0.695) -> 7(0.373)\n",
            "캐스케이드 사용: 7(0.420) -> 7(0.369)\n",
            "캐스케이드 사용: 4(0.297) -> 4(0.439)\n",
            "캐스케이드 사용: 7(0.680) -> 7(0.489)\n"
          ]
        },
        {
          "name": "stderr",
          "output_type": "stream",
          "text": [
            "Cascade Prediction:  96%|█████████▌| 95/99 [03:27<00:08,  2.25s/it]"
          ]
        },
        {
          "name": "stdout",
          "output_type": "stream",
          "text": [
            "캐스케이드 사용: 4(0.690) -> 4(0.411)\n"
          ]
        },
        {
          "name": "stderr",
          "output_type": "stream",
          "text": [
            "Cascade Prediction:  97%|█████████▋| 96/99 [03:29<00:06,  2.18s/it]"
          ]
        },
        {
          "name": "stdout",
          "output_type": "stream",
          "text": [
            "캐스케이드 사용: 4(0.465) -> 4(0.630)\n",
            "캐스케이드 사용: 3(0.508) -> 3(0.490)\n",
            "캐스케이드 사용: 7(0.355) -> 14(0.621)\n",
            "캐스케이드 사용: 3(0.662) -> 3(0.647)\n",
            "캐스케이드 사용: 3(0.546) -> 3(0.565)\n",
            "캐스케이드 사용: 7(0.337) -> 14(0.342)\n",
            "캐스케이드 사용: 3(0.467) -> 7(0.512)\n",
            "캐스케이드 사용: 7(0.448) -> 4(0.493)\n"
          ]
        },
        {
          "name": "stderr",
          "output_type": "stream",
          "text": [
            "Cascade Prediction:  98%|█████████▊| 97/99 [03:31<00:04,  2.31s/it]"
          ]
        },
        {
          "name": "stdout",
          "output_type": "stream",
          "text": [
            "캐스케이드 사용: 3(0.363) -> 3(0.422)\n",
            "캐스케이드 사용: 3(0.552) -> 3(0.380)\n",
            "캐스케이드 사용: 7(0.345) -> 7(0.430)\n"
          ]
        },
        {
          "name": "stderr",
          "output_type": "stream",
          "text": [
            "Cascade Prediction: 100%|██████████| 99/99 [03:34<00:00,  2.16s/it]"
          ]
        },
        {
          "name": "stdout",
          "output_type": "stream",
          "text": [
            "\n",
            "캐스케이드 사용 통계:\n",
            "- 메인 분류기만 사용: 2855개 (90.9%)\n",
            "- 캐스케이드 사용: 285개 (9.1%)\n",
            "\n",
            "✅ 캐스케이드 예측 완료!\n",
            "📊 예측 통계:\n",
            "   - 평균 신뢰도: 0.8765\n",
            "   - 최소 신뢰도: 0.1685\n",
            "   - 최대 신뢰도: 0.9747\n",
            "\n",
            "📈 클래스별 예측 분포:\n",
            "   Class 0: 200개 (6.4%)\n",
            "   Class 1: 87개 (2.8%)\n",
            "   Class 2: 199개 (6.3%)\n",
            "   Class 3: 203개 (6.5%)\n",
            "   Class 4: 217개 (6.9%)\n",
            "   Class 5: 200개 (6.4%)\n",
            "   Class 6: 203개 (6.5%)\n",
            "   Class 7: 173개 (5.5%)\n",
            "   Class 8: 200개 (6.4%)\n",
            "   Class 9: 200개 (6.4%)\n",
            "   Class 10: 205개 (6.5%)\n",
            "   Class 11: 192개 (6.1%)\n",
            "   Class 12: 211개 (6.7%)\n",
            "   Class 13: 154개 (4.9%)\n",
            "   Class 14: 94개 (3.0%)\n",
            "   Class 15: 201개 (6.4%)\n",
            "   Class 16: 201개 (6.4%)\n"
          ]
        },
        {
          "name": "stderr",
          "output_type": "stream",
          "text": [
            "\n"
          ]
        }
      ],
      "source": [
        "# ========================================\n",
        "# 7. 캐스케이드 시스템으로 테스트 데이터 예측\n",
        "# ========================================\n",
        "\n",
        "\n",
        "# 테스트 데이터 로드\n",
        "test_df = pd.read_csv(\"../data/sample_submission.csv\")\n",
        "print(f\"테스트 데이터 크기: {len(test_df)}\")\n",
        "\n",
        "# 테스트 데이터셋 생성\n",
        "test_dataset = ImageDataset(\n",
        "    test_df,\n",
        "    \"../data/test/\",\n",
        "    epoch=0,\n",
        "    total_epochs=EPOCHS,\n",
        "    is_train=False  # 테스트이므로 증강 없음\n",
        ")\n",
        "\n",
        "test_loader = DataLoader(\n",
        "    test_dataset,\n",
        "    batch_size=32,  # 배치 크기 줄임\n",
        "    shuffle=False,\n",
        "    num_workers=num_workers,\n",
        "    pin_memory=True\n",
        ")\n",
        "\n",
        "print(\"캐스케이드 시스템으로 테스트 데이터 예측 시작...\")\n",
        "\n",
        "# 캐스케이드 예측 실행\n",
        "test_predictions, test_confidences, cascade_usage = cascade_classifier.predict_batch(\n",
        "    test_loader, device\n",
        ")\n",
        "\n",
        "print(f\"\\n캐스케이드 사용 통계:\")\n",
        "print(f\"- 메인 분류기만 사용: {cascade_usage['main']}개 ({cascade_usage['main']/len(test_predictions)*100:.1f}%)\")\n",
        "print(f\"- 캐스케이드 사용: {cascade_usage['cascade']}개 ({cascade_usage['cascade']/len(test_predictions)*100:.1f}%)\")\n",
        "\n",
        "# 결과 저장\n",
        "result_df = test_df.copy()\n",
        "result_df['target'] = test_predictions\n",
        "result_df['confidence'] = test_confidences\n",
        "\n",
        "\n",
        "\n",
        "\n",
        "print(f\"\\n✅ 캐스케이드 예측 완료!\")\n",
        "\n",
        "print(f\"📊 예측 통계:\")\n",
        "print(f\"   - 평균 신뢰도: {np.mean(test_confidences):.4f}\")\n",
        "print(f\"   - 최소 신뢰도: {np.min(test_confidences):.4f}\")\n",
        "print(f\"   - 최대 신뢰도: {np.max(test_confidences):.4f}\")\n",
        "\n",
        "# 클래스별 예측 분포\n",
        "print(f\"\\n📈 클래스별 예측 분포:\")\n",
        "for cls in range(17):\n",
        "    count = sum(1 for p in test_predictions if p == cls)\n",
        "    print(f\"   Class {cls}: {count}개 ({count/len(test_predictions)*100:.1f}%)\")\n"
      ]
    },
    {
      "cell_type": "code",
      "execution_count": null,
      "metadata": {},
      "outputs": [],
      "source": [
        "\n",
        "# 결과 저장\n",
        "result_df = test_df.copy()\n",
        "result_df['target'] = test_predictions\n",
        "result_df['confidence'] = test_confidences\n",
        "\n",
        "# submission 파일 저장\n",
        "output_path = \"../data/output/cascade_submission3.csv\"\n",
        "print(f\"📁 결과 저장: {output_path}\")\n",
        "result_df[['ID', 'target']].to_csv(output_path, index=False)\n"
      ]
    },
    {
      "cell_type": "code",
      "execution_count": null,
      "metadata": {},
      "outputs": [],
      "source": []
    }
  ],
  "metadata": {
    "kernelspec": {
      "display_name": "base",
      "language": "python",
      "name": "python3"
    },
    "language_info": {
      "codemirror_mode": {
        "name": "ipython",
        "version": 3
      },
      "file_extension": ".py",
      "mimetype": "text/x-python",
      "name": "python",
      "nbconvert_exporter": "python",
      "pygments_lexer": "ipython3",
      "version": "3.10.13"
    }
  },
  "nbformat": 4,
  "nbformat_minor": 2
}
