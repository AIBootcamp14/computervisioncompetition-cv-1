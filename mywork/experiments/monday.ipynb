{
 "cells": [
  {
   "cell_type": "markdown",
   "id": "18bbe02e",
   "metadata": {},
   "source": [
    "# 📄 Document type classification baseline code with WandB Integration\n",
    "\n"
   ]
  },
  {
   "cell_type": "code",
   "execution_count": 12,
   "id": "92dc69ba",
   "metadata": {},
   "outputs": [
    {
     "name": "stdout",
     "output_type": "stream",
     "text": [
      "Requirement already satisfied: albumentations==1.3.1 in /opt/conda/lib/python3.10/site-packages (from -r ../requirements.txt (line 1)) (1.3.1)\n",
      "Requirement already satisfied: ipykernel==6.27.1 in /opt/conda/lib/python3.10/site-packages (from -r ../requirements.txt (line 2)) (6.27.1)\n",
      "Requirement already satisfied: ipython==8.15.0 in /opt/conda/lib/python3.10/site-packages (from -r ../requirements.txt (line 3)) (8.15.0)\n",
      "Requirement already satisfied: ipywidgets==8.1.1 in /opt/conda/lib/python3.10/site-packages (from -r ../requirements.txt (line 4)) (8.1.1)\n",
      "Requirement already satisfied: jupyter==1.0.0 in /opt/conda/lib/python3.10/site-packages (from -r ../requirements.txt (line 5)) (1.0.0)\n",
      "Requirement already satisfied: matplotlib-inline==0.1.6 in /opt/conda/lib/python3.10/site-packages (from -r ../requirements.txt (line 6)) (0.1.6)\n",
      "Requirement already satisfied: numpy in /opt/conda/lib/python3.10/site-packages (from -r ../requirements.txt (line 7)) (1.26.0)\n",
      "Requirement already satisfied: pandas in /opt/conda/lib/python3.10/site-packages (from -r ../requirements.txt (line 8)) (2.1.4)\n",
      "Requirement already satisfied: Pillow in /opt/conda/lib/python3.10/site-packages (from -r ../requirements.txt (line 9)) (9.4.0)\n",
      "Requirement already satisfied: seaborn in /opt/conda/lib/python3.10/site-packages (from -r ../requirements.txt (line 10)) (0.13.2)\n",
      "Requirement already satisfied: timm==0.9.12 in /opt/conda/lib/python3.10/site-packages (from -r ../requirements.txt (line 11)) (0.9.12)\n",
      "Requirement already satisfied: plotly in /opt/conda/lib/python3.10/site-packages (from -r ../requirements.txt (line 12)) (6.3.0)\n",
      "Requirement already satisfied: matplotlib in /opt/conda/lib/python3.10/site-packages (from -r ../requirements.txt (line 13)) (3.10.6)\n",
      "Requirement already satisfied: optuna in /opt/conda/lib/python3.10/site-packages (from -r ../requirements.txt (line 14)) (4.5.0)\n",
      "Requirement already satisfied: wandb in /opt/conda/lib/python3.10/site-packages (from -r ../requirements.txt (line 15)) (0.21.3)\n",
      "Requirement already satisfied: scipy>=1.1.0 in /opt/conda/lib/python3.10/site-packages (from albumentations==1.3.1->-r ../requirements.txt (line 1)) (1.11.4)\n",
      "Requirement already satisfied: scikit-image>=0.16.1 in /opt/conda/lib/python3.10/site-packages (from albumentations==1.3.1->-r ../requirements.txt (line 1)) (0.22.0)\n",
      "Requirement already satisfied: PyYAML in /opt/conda/lib/python3.10/site-packages (from albumentations==1.3.1->-r ../requirements.txt (line 1)) (6.0)\n",
      "Requirement already satisfied: qudida>=0.0.4 in /opt/conda/lib/python3.10/site-packages (from albumentations==1.3.1->-r ../requirements.txt (line 1)) (0.0.4)\n",
      "Requirement already satisfied: opencv-python-headless>=4.1.1 in /opt/conda/lib/python3.10/site-packages (from albumentations==1.3.1->-r ../requirements.txt (line 1)) (4.8.1.78)\n",
      "Requirement already satisfied: comm>=0.1.1 in /opt/conda/lib/python3.10/site-packages (from ipykernel==6.27.1->-r ../requirements.txt (line 2)) (0.2.0)\n",
      "Requirement already satisfied: debugpy>=1.6.5 in /opt/conda/lib/python3.10/site-packages (from ipykernel==6.27.1->-r ../requirements.txt (line 2)) (1.8.0)\n",
      "Requirement already satisfied: jupyter-client>=6.1.12 in /opt/conda/lib/python3.10/site-packages (from ipykernel==6.27.1->-r ../requirements.txt (line 2)) (8.6.0)\n",
      "Requirement already satisfied: jupyter-core!=5.0.*,>=4.12 in /opt/conda/lib/python3.10/site-packages (from ipykernel==6.27.1->-r ../requirements.txt (line 2)) (5.5.0)\n",
      "Requirement already satisfied: nest-asyncio in /opt/conda/lib/python3.10/site-packages (from ipykernel==6.27.1->-r ../requirements.txt (line 2)) (1.5.8)\n",
      "Requirement already satisfied: packaging in /opt/conda/lib/python3.10/site-packages (from ipykernel==6.27.1->-r ../requirements.txt (line 2)) (23.1)\n",
      "Requirement already satisfied: psutil in /opt/conda/lib/python3.10/site-packages (from ipykernel==6.27.1->-r ../requirements.txt (line 2)) (5.9.0)\n",
      "Requirement already satisfied: pyzmq>=20 in /opt/conda/lib/python3.10/site-packages (from ipykernel==6.27.1->-r ../requirements.txt (line 2)) (25.1.2)\n",
      "Requirement already satisfied: tornado>=6.1 in /opt/conda/lib/python3.10/site-packages (from ipykernel==6.27.1->-r ../requirements.txt (line 2)) (6.4)\n",
      "Requirement already satisfied: traitlets>=5.4.0 in /opt/conda/lib/python3.10/site-packages (from ipykernel==6.27.1->-r ../requirements.txt (line 2)) (5.7.1)\n",
      "Requirement already satisfied: backcall in /opt/conda/lib/python3.10/site-packages (from ipython==8.15.0->-r ../requirements.txt (line 3)) (0.2.0)\n",
      "Requirement already satisfied: decorator in /opt/conda/lib/python3.10/site-packages (from ipython==8.15.0->-r ../requirements.txt (line 3)) (5.1.1)\n",
      "Requirement already satisfied: jedi>=0.16 in /opt/conda/lib/python3.10/site-packages (from ipython==8.15.0->-r ../requirements.txt (line 3)) (0.18.1)\n",
      "Requirement already satisfied: pickleshare in /opt/conda/lib/python3.10/site-packages (from ipython==8.15.0->-r ../requirements.txt (line 3)) (0.7.5)\n",
      "Requirement already satisfied: prompt-toolkit!=3.0.37,<3.1.0,>=3.0.30 in /opt/conda/lib/python3.10/site-packages (from ipython==8.15.0->-r ../requirements.txt (line 3)) (3.0.36)\n",
      "Requirement already satisfied: pygments>=2.4.0 in /opt/conda/lib/python3.10/site-packages (from ipython==8.15.0->-r ../requirements.txt (line 3)) (2.15.1)\n",
      "Requirement already satisfied: stack-data in /opt/conda/lib/python3.10/site-packages (from ipython==8.15.0->-r ../requirements.txt (line 3)) (0.2.0)\n",
      "Requirement already satisfied: exceptiongroup in /opt/conda/lib/python3.10/site-packages (from ipython==8.15.0->-r ../requirements.txt (line 3)) (1.0.4)\n",
      "Requirement already satisfied: pexpect>4.3 in /opt/conda/lib/python3.10/site-packages (from ipython==8.15.0->-r ../requirements.txt (line 3)) (4.8.0)\n",
      "Requirement already satisfied: widgetsnbextension~=4.0.9 in /opt/conda/lib/python3.10/site-packages (from ipywidgets==8.1.1->-r ../requirements.txt (line 4)) (4.0.9)\n",
      "Requirement already satisfied: jupyterlab-widgets~=3.0.9 in /opt/conda/lib/python3.10/site-packages (from ipywidgets==8.1.1->-r ../requirements.txt (line 4)) (3.0.9)\n",
      "Requirement already satisfied: notebook in /opt/conda/lib/python3.10/site-packages (from jupyter==1.0.0->-r ../requirements.txt (line 5)) (7.0.6)\n",
      "Requirement already satisfied: qtconsole in /opt/conda/lib/python3.10/site-packages (from jupyter==1.0.0->-r ../requirements.txt (line 5)) (5.5.1)\n",
      "Requirement already satisfied: jupyter-console in /opt/conda/lib/python3.10/site-packages (from jupyter==1.0.0->-r ../requirements.txt (line 5)) (6.6.3)\n",
      "Requirement already satisfied: nbconvert in /opt/conda/lib/python3.10/site-packages (from jupyter==1.0.0->-r ../requirements.txt (line 5)) (7.12.0)\n",
      "Requirement already satisfied: torch>=1.7 in /opt/conda/lib/python3.10/site-packages (from timm==0.9.12->-r ../requirements.txt (line 11)) (2.1.0)\n",
      "Requirement already satisfied: torchvision in /opt/conda/lib/python3.10/site-packages (from timm==0.9.12->-r ../requirements.txt (line 11)) (0.16.0)\n",
      "Requirement already satisfied: huggingface-hub in /opt/conda/lib/python3.10/site-packages (from timm==0.9.12->-r ../requirements.txt (line 11)) (0.19.4)\n",
      "Requirement already satisfied: safetensors in /opt/conda/lib/python3.10/site-packages (from timm==0.9.12->-r ../requirements.txt (line 11)) (0.4.1)\n",
      "Requirement already satisfied: python-dateutil>=2.8.2 in /opt/conda/lib/python3.10/site-packages (from pandas->-r ../requirements.txt (line 8)) (2.8.2)\n",
      "Requirement already satisfied: pytz>=2020.1 in /opt/conda/lib/python3.10/site-packages (from pandas->-r ../requirements.txt (line 8)) (2023.3.post1)\n",
      "Requirement already satisfied: tzdata>=2022.1 in /opt/conda/lib/python3.10/site-packages (from pandas->-r ../requirements.txt (line 8)) (2023.3)\n",
      "Requirement already satisfied: narwhals>=1.15.1 in /opt/conda/lib/python3.10/site-packages (from plotly->-r ../requirements.txt (line 12)) (2.3.0)\n",
      "Requirement already satisfied: contourpy>=1.0.1 in /opt/conda/lib/python3.10/site-packages (from matplotlib->-r ../requirements.txt (line 13)) (1.3.2)\n",
      "Requirement already satisfied: cycler>=0.10 in /opt/conda/lib/python3.10/site-packages (from matplotlib->-r ../requirements.txt (line 13)) (0.12.1)\n",
      "Requirement already satisfied: fonttools>=4.22.0 in /opt/conda/lib/python3.10/site-packages (from matplotlib->-r ../requirements.txt (line 13)) (4.59.2)\n",
      "Requirement already satisfied: kiwisolver>=1.3.1 in /opt/conda/lib/python3.10/site-packages (from matplotlib->-r ../requirements.txt (line 13)) (1.4.9)\n",
      "Requirement already satisfied: pyparsing>=2.3.1 in /opt/conda/lib/python3.10/site-packages (from matplotlib->-r ../requirements.txt (line 13)) (3.2.3)\n",
      "Requirement already satisfied: alembic>=1.5.0 in /opt/conda/lib/python3.10/site-packages (from optuna->-r ../requirements.txt (line 14)) (1.16.5)\n",
      "Requirement already satisfied: colorlog in /opt/conda/lib/python3.10/site-packages (from optuna->-r ../requirements.txt (line 14)) (6.9.0)\n",
      "Requirement already satisfied: sqlalchemy>=1.4.2 in /opt/conda/lib/python3.10/site-packages (from optuna->-r ../requirements.txt (line 14)) (2.0.43)\n",
      "Requirement already satisfied: tqdm in /opt/conda/lib/python3.10/site-packages (from optuna->-r ../requirements.txt (line 14)) (4.65.0)\n",
      "Requirement already satisfied: click>=8.0.1 in /opt/conda/lib/python3.10/site-packages (from wandb->-r ../requirements.txt (line 15)) (8.0.4)\n",
      "Requirement already satisfied: gitpython!=3.1.29,>=1.0.0 in /opt/conda/lib/python3.10/site-packages (from wandb->-r ../requirements.txt (line 15)) (3.1.45)\n",
      "Requirement already satisfied: platformdirs in /opt/conda/lib/python3.10/site-packages (from wandb->-r ../requirements.txt (line 15)) (4.1.0)\n",
      "Requirement already satisfied: protobuf!=4.21.0,!=5.28.0,<7,>=3.19.0 in /opt/conda/lib/python3.10/site-packages (from wandb->-r ../requirements.txt (line 15)) (6.32.0)\n",
      "Requirement already satisfied: pydantic<3 in /opt/conda/lib/python3.10/site-packages (from wandb->-r ../requirements.txt (line 15)) (2.11.7)\n",
      "Requirement already satisfied: requests<3,>=2.0.0 in /opt/conda/lib/python3.10/site-packages (from wandb->-r ../requirements.txt (line 15)) (2.31.0)\n",
      "Requirement already satisfied: sentry-sdk>=2.0.0 in /opt/conda/lib/python3.10/site-packages (from wandb->-r ../requirements.txt (line 15)) (2.37.0)\n",
      "Requirement already satisfied: typing-extensions<5,>=4.8 in /opt/conda/lib/python3.10/site-packages (from wandb->-r ../requirements.txt (line 15)) (4.15.0)\n",
      "Requirement already satisfied: Mako in /opt/conda/lib/python3.10/site-packages (from alembic>=1.5.0->optuna->-r ../requirements.txt (line 14)) (1.3.10)\n",
      "Requirement already satisfied: tomli in /opt/conda/lib/python3.10/site-packages (from alembic>=1.5.0->optuna->-r ../requirements.txt (line 14)) (2.0.1)\n",
      "Requirement already satisfied: gitdb<5,>=4.0.1 in /opt/conda/lib/python3.10/site-packages (from gitpython!=3.1.29,>=1.0.0->wandb->-r ../requirements.txt (line 15)) (4.0.12)\n",
      "Requirement already satisfied: parso<0.9.0,>=0.8.0 in /opt/conda/lib/python3.10/site-packages (from jedi>=0.16->ipython==8.15.0->-r ../requirements.txt (line 3)) (0.8.3)\n",
      "Requirement already satisfied: ptyprocess>=0.5 in /opt/conda/lib/python3.10/site-packages (from pexpect>4.3->ipython==8.15.0->-r ../requirements.txt (line 3)) (0.7.0)\n",
      "Requirement already satisfied: wcwidth in /opt/conda/lib/python3.10/site-packages (from prompt-toolkit!=3.0.37,<3.1.0,>=3.0.30->ipython==8.15.0->-r ../requirements.txt (line 3)) (0.2.5)\n",
      "Requirement already satisfied: annotated-types>=0.6.0 in /opt/conda/lib/python3.10/site-packages (from pydantic<3->wandb->-r ../requirements.txt (line 15)) (0.7.0)\n",
      "Requirement already satisfied: pydantic-core==2.33.2 in /opt/conda/lib/python3.10/site-packages (from pydantic<3->wandb->-r ../requirements.txt (line 15)) (2.33.2)\n",
      "Requirement already satisfied: typing-inspection>=0.4.0 in /opt/conda/lib/python3.10/site-packages (from pydantic<3->wandb->-r ../requirements.txt (line 15)) (0.4.1)\n",
      "Requirement already satisfied: six>=1.5 in /opt/conda/lib/python3.10/site-packages (from python-dateutil>=2.8.2->pandas->-r ../requirements.txt (line 8)) (1.16.0)\n",
      "Requirement already satisfied: scikit-learn>=0.19.1 in /opt/conda/lib/python3.10/site-packages (from qudida>=0.0.4->albumentations==1.3.1->-r ../requirements.txt (line 1)) (1.3.2)\n",
      "Requirement already satisfied: charset-normalizer<4,>=2 in /opt/conda/lib/python3.10/site-packages (from requests<3,>=2.0.0->wandb->-r ../requirements.txt (line 15)) (2.0.4)\n",
      "Requirement already satisfied: idna<4,>=2.5 in /opt/conda/lib/python3.10/site-packages (from requests<3,>=2.0.0->wandb->-r ../requirements.txt (line 15)) (3.4)\n",
      "Requirement already satisfied: urllib3<3,>=1.21.1 in /opt/conda/lib/python3.10/site-packages (from requests<3,>=2.0.0->wandb->-r ../requirements.txt (line 15)) (1.26.16)\n",
      "Requirement already satisfied: certifi>=2017.4.17 in /opt/conda/lib/python3.10/site-packages (from requests<3,>=2.0.0->wandb->-r ../requirements.txt (line 15)) (2023.7.22)\n",
      "Requirement already satisfied: networkx>=2.8 in /opt/conda/lib/python3.10/site-packages (from scikit-image>=0.16.1->albumentations==1.3.1->-r ../requirements.txt (line 1)) (3.1)\n",
      "Requirement already satisfied: imageio>=2.27 in /opt/conda/lib/python3.10/site-packages (from scikit-image>=0.16.1->albumentations==1.3.1->-r ../requirements.txt (line 1)) (2.33.1)\n",
      "Requirement already satisfied: tifffile>=2022.8.12 in /opt/conda/lib/python3.10/site-packages (from scikit-image>=0.16.1->albumentations==1.3.1->-r ../requirements.txt (line 1)) (2023.12.9)\n",
      "Requirement already satisfied: lazy_loader>=0.3 in /opt/conda/lib/python3.10/site-packages (from scikit-image>=0.16.1->albumentations==1.3.1->-r ../requirements.txt (line 1)) (0.3)\n",
      "Requirement already satisfied: greenlet>=1 in /opt/conda/lib/python3.10/site-packages (from sqlalchemy>=1.4.2->optuna->-r ../requirements.txt (line 14)) (3.2.4)\n",
      "Requirement already satisfied: filelock in /opt/conda/lib/python3.10/site-packages (from torch>=1.7->timm==0.9.12->-r ../requirements.txt (line 11)) (3.9.0)\n",
      "Requirement already satisfied: sympy in /opt/conda/lib/python3.10/site-packages (from torch>=1.7->timm==0.9.12->-r ../requirements.txt (line 11)) (1.11.1)\n",
      "Requirement already satisfied: jinja2 in /opt/conda/lib/python3.10/site-packages (from torch>=1.7->timm==0.9.12->-r ../requirements.txt (line 11)) (3.1.2)\n",
      "Requirement already satisfied: fsspec in /opt/conda/lib/python3.10/site-packages (from torch>=1.7->timm==0.9.12->-r ../requirements.txt (line 11)) (2023.9.2)\n",
      "Requirement already satisfied: beautifulsoup4 in /opt/conda/lib/python3.10/site-packages (from nbconvert->jupyter==1.0.0->-r ../requirements.txt (line 5)) (4.12.2)\n",
      "Requirement already satisfied: bleach!=5.0.0 in /opt/conda/lib/python3.10/site-packages (from nbconvert->jupyter==1.0.0->-r ../requirements.txt (line 5)) (6.1.0)\n",
      "Requirement already satisfied: defusedxml in /opt/conda/lib/python3.10/site-packages (from nbconvert->jupyter==1.0.0->-r ../requirements.txt (line 5)) (0.7.1)\n",
      "Requirement already satisfied: jupyterlab-pygments in /opt/conda/lib/python3.10/site-packages (from nbconvert->jupyter==1.0.0->-r ../requirements.txt (line 5)) (0.3.0)\n",
      "Requirement already satisfied: markupsafe>=2.0 in /opt/conda/lib/python3.10/site-packages (from nbconvert->jupyter==1.0.0->-r ../requirements.txt (line 5)) (2.1.1)\n",
      "Requirement already satisfied: mistune<4,>=2.0.3 in /opt/conda/lib/python3.10/site-packages (from nbconvert->jupyter==1.0.0->-r ../requirements.txt (line 5)) (3.0.2)\n",
      "Requirement already satisfied: nbclient>=0.5.0 in /opt/conda/lib/python3.10/site-packages (from nbconvert->jupyter==1.0.0->-r ../requirements.txt (line 5)) (0.9.0)\n",
      "Requirement already satisfied: nbformat>=5.7 in /opt/conda/lib/python3.10/site-packages (from nbconvert->jupyter==1.0.0->-r ../requirements.txt (line 5)) (5.9.2)\n",
      "Requirement already satisfied: pandocfilters>=1.4.1 in /opt/conda/lib/python3.10/site-packages (from nbconvert->jupyter==1.0.0->-r ../requirements.txt (line 5)) (1.5.0)\n",
      "Requirement already satisfied: tinycss2 in /opt/conda/lib/python3.10/site-packages (from nbconvert->jupyter==1.0.0->-r ../requirements.txt (line 5)) (1.2.1)\n",
      "Requirement already satisfied: jupyter-server<3,>=2.4.0 in /opt/conda/lib/python3.10/site-packages (from notebook->jupyter==1.0.0->-r ../requirements.txt (line 5)) (2.12.1)\n",
      "Requirement already satisfied: jupyterlab-server<3,>=2.22.1 in /opt/conda/lib/python3.10/site-packages (from notebook->jupyter==1.0.0->-r ../requirements.txt (line 5)) (2.25.2)\n",
      "Requirement already satisfied: jupyterlab<5,>=4.0.2 in /opt/conda/lib/python3.10/site-packages (from notebook->jupyter==1.0.0->-r ../requirements.txt (line 5)) (4.0.9)\n",
      "Requirement already satisfied: notebook-shim<0.3,>=0.2 in /opt/conda/lib/python3.10/site-packages (from notebook->jupyter==1.0.0->-r ../requirements.txt (line 5)) (0.2.3)\n",
      "Requirement already satisfied: qtpy>=2.4.0 in /opt/conda/lib/python3.10/site-packages (from qtconsole->jupyter==1.0.0->-r ../requirements.txt (line 5)) (2.4.1)\n",
      "Requirement already satisfied: executing in /opt/conda/lib/python3.10/site-packages (from stack-data->ipython==8.15.0->-r ../requirements.txt (line 3)) (0.8.3)\n",
      "Requirement already satisfied: asttokens in /opt/conda/lib/python3.10/site-packages (from stack-data->ipython==8.15.0->-r ../requirements.txt (line 3)) (2.0.5)\n",
      "Requirement already satisfied: pure-eval in /opt/conda/lib/python3.10/site-packages (from stack-data->ipython==8.15.0->-r ../requirements.txt (line 3)) (0.2.2)\n",
      "Requirement already satisfied: webencodings in /opt/conda/lib/python3.10/site-packages (from bleach!=5.0.0->nbconvert->jupyter==1.0.0->-r ../requirements.txt (line 5)) (0.5.1)\n",
      "Requirement already satisfied: smmap<6,>=3.0.1 in /opt/conda/lib/python3.10/site-packages (from gitdb<5,>=4.0.1->gitpython!=3.1.29,>=1.0.0->wandb->-r ../requirements.txt (line 15)) (5.0.2)\n",
      "Requirement already satisfied: anyio>=3.1.0 in /opt/conda/lib/python3.10/site-packages (from jupyter-server<3,>=2.4.0->notebook->jupyter==1.0.0->-r ../requirements.txt (line 5)) (4.1.0)\n",
      "Requirement already satisfied: argon2-cffi in /opt/conda/lib/python3.10/site-packages (from jupyter-server<3,>=2.4.0->notebook->jupyter==1.0.0->-r ../requirements.txt (line 5)) (23.1.0)\n",
      "Requirement already satisfied: jupyter-events>=0.9.0 in /opt/conda/lib/python3.10/site-packages (from jupyter-server<3,>=2.4.0->notebook->jupyter==1.0.0->-r ../requirements.txt (line 5)) (0.9.0)\n",
      "Requirement already satisfied: jupyter-server-terminals in /opt/conda/lib/python3.10/site-packages (from jupyter-server<3,>=2.4.0->notebook->jupyter==1.0.0->-r ../requirements.txt (line 5)) (0.5.0)\n",
      "Requirement already satisfied: overrides in /opt/conda/lib/python3.10/site-packages (from jupyter-server<3,>=2.4.0->notebook->jupyter==1.0.0->-r ../requirements.txt (line 5)) (7.4.0)\n",
      "Requirement already satisfied: prometheus-client in /opt/conda/lib/python3.10/site-packages (from jupyter-server<3,>=2.4.0->notebook->jupyter==1.0.0->-r ../requirements.txt (line 5)) (0.19.0)\n",
      "Requirement already satisfied: send2trash>=1.8.2 in /opt/conda/lib/python3.10/site-packages (from jupyter-server<3,>=2.4.0->notebook->jupyter==1.0.0->-r ../requirements.txt (line 5)) (1.8.2)\n",
      "Requirement already satisfied: terminado>=0.8.3 in /opt/conda/lib/python3.10/site-packages (from jupyter-server<3,>=2.4.0->notebook->jupyter==1.0.0->-r ../requirements.txt (line 5)) (0.18.0)\n",
      "Requirement already satisfied: websocket-client in /opt/conda/lib/python3.10/site-packages (from jupyter-server<3,>=2.4.0->notebook->jupyter==1.0.0->-r ../requirements.txt (line 5)) (1.7.0)\n",
      "Requirement already satisfied: async-lru>=1.0.0 in /opt/conda/lib/python3.10/site-packages (from jupyterlab<5,>=4.0.2->notebook->jupyter==1.0.0->-r ../requirements.txt (line 5)) (2.0.4)\n",
      "Requirement already satisfied: jupyter-lsp>=2.0.0 in /opt/conda/lib/python3.10/site-packages (from jupyterlab<5,>=4.0.2->notebook->jupyter==1.0.0->-r ../requirements.txt (line 5)) (2.2.1)\n",
      "Requirement already satisfied: babel>=2.10 in /opt/conda/lib/python3.10/site-packages (from jupyterlab-server<3,>=2.22.1->notebook->jupyter==1.0.0->-r ../requirements.txt (line 5)) (2.13.1)\n",
      "Requirement already satisfied: json5>=0.9.0 in /opt/conda/lib/python3.10/site-packages (from jupyterlab-server<3,>=2.22.1->notebook->jupyter==1.0.0->-r ../requirements.txt (line 5)) (0.9.14)\n",
      "Requirement already satisfied: jsonschema>=4.18.0 in /opt/conda/lib/python3.10/site-packages (from jupyterlab-server<3,>=2.22.1->notebook->jupyter==1.0.0->-r ../requirements.txt (line 5)) (4.20.0)\n",
      "Requirement already satisfied: fastjsonschema in /opt/conda/lib/python3.10/site-packages (from nbformat>=5.7->nbconvert->jupyter==1.0.0->-r ../requirements.txt (line 5)) (2.19.0)\n",
      "Requirement already satisfied: joblib>=1.1.1 in /opt/conda/lib/python3.10/site-packages (from scikit-learn>=0.19.1->qudida>=0.0.4->albumentations==1.3.1->-r ../requirements.txt (line 1)) (1.3.2)\n",
      "Requirement already satisfied: threadpoolctl>=2.0.0 in /opt/conda/lib/python3.10/site-packages (from scikit-learn>=0.19.1->qudida>=0.0.4->albumentations==1.3.1->-r ../requirements.txt (line 1)) (3.2.0)\n",
      "Requirement already satisfied: soupsieve>1.2 in /opt/conda/lib/python3.10/site-packages (from beautifulsoup4->nbconvert->jupyter==1.0.0->-r ../requirements.txt (line 5)) (2.5)\n",
      "Requirement already satisfied: mpmath>=0.19 in /opt/conda/lib/python3.10/site-packages (from sympy->torch>=1.7->timm==0.9.12->-r ../requirements.txt (line 11)) (1.3.0)\n",
      "Requirement already satisfied: sniffio>=1.1 in /opt/conda/lib/python3.10/site-packages (from anyio>=3.1.0->jupyter-server<3,>=2.4.0->notebook->jupyter==1.0.0->-r ../requirements.txt (line 5)) (1.3.0)\n",
      "Requirement already satisfied: attrs>=22.2.0 in /opt/conda/lib/python3.10/site-packages (from jsonschema>=4.18.0->jupyterlab-server<3,>=2.22.1->notebook->jupyter==1.0.0->-r ../requirements.txt (line 5)) (23.1.0)\n",
      "Requirement already satisfied: jsonschema-specifications>=2023.03.6 in /opt/conda/lib/python3.10/site-packages (from jsonschema>=4.18.0->jupyterlab-server<3,>=2.22.1->notebook->jupyter==1.0.0->-r ../requirements.txt (line 5)) (2023.11.2)\n",
      "Requirement already satisfied: referencing>=0.28.4 in /opt/conda/lib/python3.10/site-packages (from jsonschema>=4.18.0->jupyterlab-server<3,>=2.22.1->notebook->jupyter==1.0.0->-r ../requirements.txt (line 5)) (0.32.0)\n",
      "Requirement already satisfied: rpds-py>=0.7.1 in /opt/conda/lib/python3.10/site-packages (from jsonschema>=4.18.0->jupyterlab-server<3,>=2.22.1->notebook->jupyter==1.0.0->-r ../requirements.txt (line 5)) (0.13.2)\n",
      "Requirement already satisfied: python-json-logger>=2.0.4 in /opt/conda/lib/python3.10/site-packages (from jupyter-events>=0.9.0->jupyter-server<3,>=2.4.0->notebook->jupyter==1.0.0->-r ../requirements.txt (line 5)) (2.0.7)\n",
      "Requirement already satisfied: rfc3339-validator in /opt/conda/lib/python3.10/site-packages (from jupyter-events>=0.9.0->jupyter-server<3,>=2.4.0->notebook->jupyter==1.0.0->-r ../requirements.txt (line 5)) (0.1.4)\n",
      "Requirement already satisfied: rfc3986-validator>=0.1.1 in /opt/conda/lib/python3.10/site-packages (from jupyter-events>=0.9.0->jupyter-server<3,>=2.4.0->notebook->jupyter==1.0.0->-r ../requirements.txt (line 5)) (0.1.1)\n",
      "Requirement already satisfied: argon2-cffi-bindings in /opt/conda/lib/python3.10/site-packages (from argon2-cffi->jupyter-server<3,>=2.4.0->notebook->jupyter==1.0.0->-r ../requirements.txt (line 5)) (21.2.0)\n",
      "Requirement already satisfied: fqdn in /opt/conda/lib/python3.10/site-packages (from jsonschema>=4.18.0->jupyterlab-server<3,>=2.22.1->notebook->jupyter==1.0.0->-r ../requirements.txt (line 5)) (1.5.1)\n",
      "Requirement already satisfied: isoduration in /opt/conda/lib/python3.10/site-packages (from jsonschema>=4.18.0->jupyterlab-server<3,>=2.22.1->notebook->jupyter==1.0.0->-r ../requirements.txt (line 5)) (20.11.0)\n",
      "Requirement already satisfied: jsonpointer>1.13 in /opt/conda/lib/python3.10/site-packages (from jsonschema>=4.18.0->jupyterlab-server<3,>=2.22.1->notebook->jupyter==1.0.0->-r ../requirements.txt (line 5)) (2.1)\n",
      "Requirement already satisfied: uri-template in /opt/conda/lib/python3.10/site-packages (from jsonschema>=4.18.0->jupyterlab-server<3,>=2.22.1->notebook->jupyter==1.0.0->-r ../requirements.txt (line 5)) (1.3.0)\n",
      "Requirement already satisfied: webcolors>=1.11 in /opt/conda/lib/python3.10/site-packages (from jsonschema>=4.18.0->jupyterlab-server<3,>=2.22.1->notebook->jupyter==1.0.0->-r ../requirements.txt (line 5)) (1.13)\n",
      "Requirement already satisfied: cffi>=1.0.1 in /opt/conda/lib/python3.10/site-packages (from argon2-cffi-bindings->argon2-cffi->jupyter-server<3,>=2.4.0->notebook->jupyter==1.0.0->-r ../requirements.txt (line 5)) (1.15.1)\n",
      "Requirement already satisfied: pycparser in /opt/conda/lib/python3.10/site-packages (from cffi>=1.0.1->argon2-cffi-bindings->argon2-cffi->jupyter-server<3,>=2.4.0->notebook->jupyter==1.0.0->-r ../requirements.txt (line 5)) (2.21)\n",
      "Requirement already satisfied: arrow>=0.15.0 in /opt/conda/lib/python3.10/site-packages (from isoduration->jsonschema>=4.18.0->jupyterlab-server<3,>=2.22.1->notebook->jupyter==1.0.0->-r ../requirements.txt (line 5)) (1.3.0)\n",
      "Requirement already satisfied: types-python-dateutil>=2.8.10 in /opt/conda/lib/python3.10/site-packages (from arrow>=0.15.0->isoduration->jsonschema>=4.18.0->jupyterlab-server<3,>=2.22.1->notebook->jupyter==1.0.0->-r ../requirements.txt (line 5)) (2.8.19.14)\n",
      "\u001b[33mWARNING: Running pip as the 'root' user can result in broken permissions and conflicting behaviour with the system package manager. It is recommended to use a virtual environment instead: https://pip.pypa.io/warnings/venv\u001b[0m\u001b[33m\n",
      "\u001b[0m"
     ]
    }
   ],
   "source": [
    "\n",
    "# =============================================================================\n",
    "# 0. Prepare Environments & Install Libraries\n",
    "# =============================================================================\n",
    "\n",
    "# 필요한 라이브러리를 설치합니다.\n",
    "!pip install -r ../requirements.txt"
   ]
  },
  {
   "cell_type": "code",
   "execution_count": 2,
   "id": "2a366485",
   "metadata": {},
   "outputs": [
    {
     "name": "stdout",
     "output_type": "stream",
     "text": [
      "메모리 정리 완료\n"
     ]
    }
   ],
   "source": [
    "# 현재 노트북에서 바로 실행하세요\n",
    "import torch\n",
    "import gc\n",
    "\n",
    "def quick_cleanup():\n",
    "    \"\"\"즉시 사용 가능한 빠른 메모리 정리\"\"\"\n",
    "    gc.collect()\n",
    "    if torch.cuda.is_available():\n",
    "        torch.cuda.empty_cache()\n",
    "        torch.cuda.synchronize()\n",
    "    print(\"메모리 정리 완료\")\n",
    "\n",
    "# 바로 실행\n",
    "quick_cleanup()"
   ]
  },
  {
   "cell_type": "code",
   "execution_count": 3,
   "id": "773408ea",
   "metadata": {},
   "outputs": [],
   "source": [
    "# =============================================================================\n",
    "# 1. Import Libraries & Define Functions\n",
    "# =============================================================================\n",
    "\n",
    "import os\n",
    "import time\n",
    "import random\n",
    "import copy\n",
    "\n",
    "import optuna, math\n",
    "import timm\n",
    "import torch\n",
    "import albumentations as A\n",
    "import pandas as pd\n",
    "import numpy as np\n",
    "import torch.nn as nn\n",
    "import torch.nn.functional as F\n",
    "from albumentations.pytorch import ToTensorV2\n",
    "from torch.optim import Adam\n",
    "from torchvision import transforms\n",
    "from torch.utils.data import Dataset, DataLoader\n",
    "from torch.optim.lr_scheduler import CosineAnnealingLR\n",
    "from torch.cuda.amp import autocast, GradScaler  # Mixed Precision용\n",
    "\n",
    "from PIL import Image\n",
    "from tqdm import tqdm\n",
    "from sklearn.metrics import accuracy_score, f1_score, confusion_matrix, classification_report\n",
    "from sklearn.model_selection import train_test_split, StratifiedKFold\n",
    "from collections import Counter\n",
    "import warnings\n",
    "warnings.filterwarnings('ignore')\n",
    "\n",
    "# WandB 관련 import 추가\n",
    "import wandb\n",
    "from datetime import datetime\n"
   ]
  },
  {
   "cell_type": "code",
   "execution_count": 4,
   "id": "3e142354",
   "metadata": {},
   "outputs": [
    {
     "name": "stdout",
     "output_type": "stream",
     "text": [
      "WandB 로그인 상태: kimsunmin0227\n",
      "프로젝트: document-classification-team-CV\n",
      "실험명: efficientnet-b3-baseline\n",
      "팀원들은 EXPERIMENT_NAME을 각자 다르게 변경해주세요!\n"
     ]
    }
   ],
   "source": [
    "# =============================================================================\n",
    "# 1-1. WandB Login and Configuration\n",
    "# =============================================================================\n",
    "\"\"\"\n",
    "🚀 팀원 사용 가이드:\n",
    "\n",
    "1. WandB 계정 생성: https://wandb.ai/signup\n",
    "2. 이 셀 실행 시 로그인 프롬프트가 나타나면 개인 API 키 입력\n",
    "3. EXPERIMENT_NAME을 다음과 같이 변경:\n",
    "   - \"member1-baseline\"\n",
    "   - \"member2-augmentation-test\"  \n",
    "   - \"member3-hyperparameter-tuning\"\n",
    "   등등 각자 다른 이름 사용\n",
    "\n",
    "4. 팀 대시보드 URL: [여기에 당신의 프로젝트 URL 추가]\n",
    "\n",
    "⚠️ 주의사항:\n",
    "- 절대 API 키를 코드에 하드코딩하지 마세요\n",
    "- EXPERIMENT_NAME만 변경하고 PROJECT_NAME은 그대로 두세요\n",
    "- 각자 개인 계정으로 로그인해서 실험을 추가하세요\n",
    "\"\"\"\n",
    "\n",
    "# WandB 로그인 (각자 실행)\n",
    "try:\n",
    "    if wandb.api.api_key is None:\n",
    "        print(\"WandB에 로그인이 필요합니다.\")\n",
    "        wandb.login()\n",
    "    else:\n",
    "        print(f\"WandB 로그인 상태: {wandb.api.viewer()['username']}\")\n",
    "except:\n",
    "    print(\"WandB 로그인을 진행합니다...\")\n",
    "    wandb.login()\n",
    "\n",
    "# 프로젝트 설정 (각자 수정할 부분)\n",
    "PROJECT_NAME = \"document-classification-team-CV\"  # 모든 팀원 동일\n",
    "ENTITY = None  # 각자 개인 계정 사용\n",
    "EXPERIMENT_NAME = \"efficientnet-b3-baseline\"  # 팀원별로 변경 (예: \"member1-hyperopt\", \"member2-augmentation\")\n",
    "\n",
    "print(f\"프로젝트: {PROJECT_NAME}\")\n",
    "print(f\"실험명: {EXPERIMENT_NAME}\")\n",
    "print(\"팀원들은 EXPERIMENT_NAME을 각자 다르게 변경해주세요!\")"
   ]
  },
  {
   "cell_type": "code",
   "execution_count": 18,
   "id": "448a2f52",
   "metadata": {},
   "outputs": [],
   "source": [
    "# =============================================================================\n",
    "# 3. Seed & basic augmentations (Mixup)\n",
    "# =============================================================================\n",
    "\n",
    "# 시드를 고정합니다.\n",
    "SEED = 42\n",
    "os.environ['PYTHONHASHSEED'] = str(SEED)\n",
    "random.seed(SEED)\n",
    "np.random.seed(SEED)\n",
    "torch.manual_seed(SEED)\n",
    "torch.cuda.manual_seed(SEED)\n",
    "torch.cuda.manual_seed_all(SEED)\n",
    "torch.backends.cudnn.benchmark = True\n"
   ]
  },
  {
   "cell_type": "code",
   "execution_count": 19,
   "id": "3f9d1a8f",
   "metadata": {},
   "outputs": [],
   "source": [
    "\n",
    "# =============================================================================\n",
    "# 4. Dataset Class\n",
    "# =============================================================================\n",
    "\n",
    "class ImageDataset(Dataset):\n",
    "    def __init__(self, data, path, transform=None, problem_class_transform=None):\n",
    "        # CSV 파일이면 읽고, DataFrame이면 그대로 사용\n",
    "        if isinstance(data, str):\n",
    "            self.df = pd.read_csv(data).values\n",
    "        else:\n",
    "            self.df = data.values  # DataFrame을 numpy array로 변환\n",
    "        self.path = path\n",
    "        self.transform = transform\n",
    "        self.problem_class_transform = problem_class_transform\n",
    "\n",
    "    def __len__(self):\n",
    "        return len(self.df)\n",
    "\n",
    "    def __getitem__(self, idx):\n",
    "        name, target = self.df[idx]\n",
    "        img = np.array(Image.open(os.path.join(self.path, name)))\n",
    "        \n",
    "        # 기본 transform 적용\n",
    "        if self.transform:\n",
    "            img = self.transform(image=img)['image']\n",
    "        \n",
    "        # 문제 클래스에 대해서만 추가 augmentation 적용\n",
    "        if self.problem_class_transform:\n",
    "            \n",
    "            # tensor를 다시 numpy로 변환 (추가 augmentation을 위해)\n",
    "            img_np = img.permute(1, 2, 0).cpu().numpy()\n",
    "            # 정규화 해제\n",
    "            mean = np.array([0.485, 0.456, 0.406])\n",
    "            std = np.array([0.229, 0.224, 0.225])\n",
    "            img_np = (img_np * std + mean) * 255\n",
    "            img_np = np.clip(img_np, 0, 255).astype(np.uint8)\n",
    "            \n",
    "            # 추가 augmentation 적용 (결과는 numpy array, H,W,C 형태)\n",
    "            extra_aug = self.problem_class_transform(image=img_np)['image']\n",
    "            \n",
    "            # numpy array를 torch tensor로 변환하고 차원 순서 변경 (H,W,C → C,H,W)\n",
    "            extra_aug = torch.from_numpy(extra_aug).float()\n",
    "            extra_aug = extra_aug.permute(2, 0, 1)  # (H,W,C) → (C,H,W)로 변경\n",
    "            \n",
    "            # 정규화 적용 (이제 차원이 맞음)\n",
    "            extra_aug = extra_aug / torch.tensor(255.0, dtype=torch.float32)  # float32 스칼라 사용\n",
    "            mean_tensor = torch.tensor(mean, dtype=torch.float32).view(3, 1, 1)\n",
    "            std_tensor = torch.tensor(std, dtype=torch.float32).view(3, 1, 1)\n",
    "            extra_aug = (extra_aug - mean_tensor) / std_tensor\n",
    "            img = extra_aug.float()\n",
    "            \n",
    "        return img, target\n",
    "\n"
   ]
  },
  {
   "cell_type": "code",
   "execution_count": 20,
   "id": "403c7204",
   "metadata": {},
   "outputs": [],
   "source": [
    "# Cutout (Random Erasing) 함수 정의\n",
    "def random_erasing(image, p=0.5, scale=(0.02, 0.33), ratio=(0.3, 3.3)):\n",
    "    if random.random() > p:\n",
    "        return image\n",
    "    img_c, img_h, img_w = image.shape[1], image.shape[2], image.shape[3]\n",
    "    area = img_h * img_w\n",
    "    \n",
    "    target_area = torch.tensor(random.uniform(scale[0], scale[1]), dtype=torch.float32) * area\n",
    "    aspect_ratio = torch.tensor(random.uniform(ratio[0], ratio[1]), dtype=torch.float32)\n",
    "    h = int(round(math.sqrt(target_area * aspect_ratio)))\n",
    "    w = int(round(math.sqrt(target_area / aspect_ratio)))\n",
    "    \n",
    "    # h, w가 이미지 크기 내에 있는지 확인\n",
    "    if w < img_w and h < img_h:\n",
    "        x = random.randint(0, img_w - w)\n",
    "        y = random.randint(0, img_h - h)\n",
    "        \n",
    "        # float32 마스크 생성\n",
    "        mask = torch.ones_like(image, dtype=torch.float32)\n",
    "        mask[:, y:y+h, x:x+w] = 0.0  # 또는 랜덤 값: torch.rand(3, h, w, dtype=torch.float32)\n",
    "        \n",
    "        # erasing 적용\n",
    "        erased = image * mask\n",
    "        return erased.float()  # float32 출력 보장\n",
    "    return image.float()\n",
    "\n",
    "# RandomCrop 함수 정의\n",
    "def random_crop(image, crop_size=0.8):\n",
    "    img_c, img_h, img_w = image.shape[1], image.shape[2], image.shape[3]\n",
    "    crop_h = int(img_h * crop_size)\n",
    "    crop_w = int(img_w * crop_size)\n",
    "    \n",
    "    if crop_h >= img_h or crop_w >= img_w:\n",
    "        return image\n",
    "    \n",
    "    x = random.randint(0, img_w - crop_w)\n",
    "    y = random.randint(0, img_h - crop_h)\n",
    "    cropped_image = image[:, :, y:y+crop_h, x:x+crop_w]\n",
    "    \n",
    "    # 패딩으로 원래 크기 복원\n",
    "    padded_image = torch.zeros_like(image)\n",
    "    padded_image[:, :, y:y+crop_h, x:x+crop_w] = cropped_image\n",
    "    return padded_image\n",
    "\n",
    "# Mixup 함수 정의\n",
    "def mixup_data(x, y, alpha=1.0):\n",
    "    if alpha > 0:\n",
    "        lam = np.random.beta(alpha, alpha)\n",
    "    else:\n",
    "        lam = 1\n",
    "    batch_size = x.size()[0]\n",
    "    index = torch.randperm(batch_size).cuda()\n",
    "    mixed_x = lam * x + (1 - lam) * x[index, :]\n",
    "    y_a, y_b = y, y[index]\n",
    "    return mixed_x, y_a, y_b, lam\n"
   ]
  },
  {
   "cell_type": "code",
   "execution_count": 21,
   "id": "0cacecd0",
   "metadata": {},
   "outputs": [],
   "source": [
    "\n",
    "# =============================================================================\n",
    "# 6. training and validation\n",
    "# =============================================================================\n",
    "\n",
    "def train_one_epoch(loader, model, optimizer, loss_fn, device, epoch=None, fold=None):\n",
    "    scaler = GradScaler()\n",
    "    model.train()\n",
    "    train_loss = 0\n",
    "    preds_list = []\n",
    "    targets_list = []\n",
    "\n",
    "    pbar = tqdm(loader, desc=f\"Training Epoch {epoch+1 if epoch else '?'}\")\n",
    "    batch_count = 0\n",
    "    \n",
    "    for image, targets in pbar:\n",
    "        image = image.to(device).float()\n",
    "        targets = targets.to(device)\n",
    "        \n",
    "         \n",
    "        aug_type = random.choices(['mixup', 'cutout', 'random_crop'], weights=[0.4, 0.3, 0.3])[0]\n",
    "        mixup_applied = False\n",
    "        cutout_applied = False\n",
    "        random_crop_applied = False\n",
    "        \n",
    "        if aug_type == 'mixup':\n",
    "            mixed_x, y_a, y_b, lam = mixup_data(image, targets, alpha=1.0)\n",
    "            with autocast(): \n",
    "                preds = model(mixed_x)\n",
    "            loss = lam * loss_fn(preds.float(), y_a) + (1 - lam) * loss_fn(preds.float(), y_b)\n",
    "            mixup_applied = True\n",
    "       \n",
    "        elif aug_type == 'cutout':\n",
    "            image = random_erasing(image, p=0.5, scale=(0.02, 0.33), ratio=(0.3, 3.3))\n",
    "            with autocast(): \n",
    "                preds = model(image)\n",
    "            loss = loss_fn(preds.float(), targets)  \n",
    "            cutout_applied = True\n",
    "       \n",
    "        elif aug_type == 'random_crop':\n",
    "            image = random_crop(image, crop_size=0.8)\n",
    "            with autocast(): \n",
    "                preds = model(image)\n",
    "            loss = loss_fn(preds.float(), targets)   \n",
    "            random_crop_applied = True\n",
    "       \n",
    "        else:\n",
    "            with autocast(): \n",
    "                preds = model(image)\n",
    "            loss = loss_fn(preds.float(), targets)  \n",
    "\n",
    "        model.zero_grad(set_to_none=True)\n",
    "        \n",
    "        scaler.scale(loss).backward()\n",
    "        torch.nn.utils.clip_grad_norm_(model.parameters(), 1.0)\n",
    "        \n",
    "        scaler.step(optimizer)\n",
    "        \n",
    "        scaler.update()\n",
    "\n",
    "        train_loss += loss.item()\n",
    "        preds_list.extend(preds.argmax(dim=1).detach().cpu().numpy())\n",
    "        targets_list.extend(targets.detach().cpu().numpy())\n",
    "\n",
    "        # 배치별 상세 로깅 (100 배치마다)\n",
    "        #if batch_count % 100 == 0 and wandb.run is not None:\n",
    "        #    step = epoch * len(loader) + batch_count if epoch is not None else batch_count\n",
    "        #    wandb.log({\n",
    "        #        f\"fold_{fold}/train_batch_loss\": loss.item(),\n",
    "        #        f\"fold_{fold}/mixup_applied\": int(mixup_applied),\n",
    "        #        f\"fold_{fold}/cutout_applied\": int(cutout_applied),\n",
    "        #        f\"fold_{fold}/random_crop_applied\": int(random_crop_applied),\n",
    "        #        f\"fold_{fold}/batch_step\": step\n",
    "        #    })\n",
    "        \n",
    "        batch_count += 1\n",
    "        pbar.set_description(f\"Loss: {loss.item():.4f}, Mixup: {mixup_applied}, Cutout: {cutout_applied}, RandomCrop: {random_crop_applied}\")\n",
    "\n",
    "    train_loss /= len(loader)\n",
    "    train_acc = accuracy_score(targets_list, preds_list)\n",
    "    train_f1 = f1_score(targets_list, preds_list, average='macro')\n",
    "\n",
    "    ret = {\n",
    "        \"train_loss\": train_loss,\n",
    "        \"train_acc\": train_acc,\n",
    "        \"train_f1\": train_f1,\n",
    "    }\n",
    "\n",
    "    return ret\n",
    "\n",
    "def validate_one_epoch(loader, model, loss_fn, device, epoch=None, fold=None, log_confusion=False):\n",
    "    model.eval()\n",
    "    val_loss = 0\n",
    "    preds_list = []\n",
    "    targets_list = []\n",
    "    \n",
    "    with torch.no_grad():\n",
    "        pbar = tqdm(loader, desc=f\"Validating Epoch {epoch+1 if epoch else '?'}\")\n",
    "        for image, targets in pbar:\n",
    "            image = image.to(device).float()\n",
    "            targets = targets.to(device)\n",
    "            \n",
    "            preds = model(image)\n",
    "            loss = loss_fn(preds, targets)\n",
    "            \n",
    "            val_loss += loss.item()\n",
    "            preds_list.extend(preds.argmax(dim=1).detach().cpu().numpy())\n",
    "            targets_list.extend(targets.detach().cpu().numpy())\n",
    "            \n",
    "            pbar.set_description(f\"Val Loss: {loss.item():.4f}\")\n",
    "    \n",
    "    val_loss /= len(loader)\n",
    "    val_acc = accuracy_score(targets_list, preds_list)\n",
    "    val_f1 = f1_score(targets_list, preds_list, average='macro')\n",
    "    \n",
    "    # 🎯 문제 클래스들의 성능 별도 계산 및 추적\n",
    "    target_classes = [3, 7, 14]\n",
    "    \n",
    "    # 전체 클래스별 F1 스코어 계산\n",
    "    class_f1_scores = f1_score(targets_list, preds_list, average=None, labels=list(range(17)), zero_division=0)\n",
    "    \n",
    "    # 문제 클래스들의 F1 스코어 추출\n",
    "    problem_class_f1 = {}\n",
    "    problem_class_performance = []\n",
    "    \n",
    "    for cls in target_classes:\n",
    "        if cls < len(class_f1_scores):\n",
    "            cls_f1 = class_f1_scores[cls]\n",
    "            problem_class_f1[f\"class_{cls}_f1\"] = cls_f1\n",
    "            problem_class_performance.append(cls_f1)\n",
    "            \n",
    "            # 콘솔에 출력\n",
    "            print(f\"  Class {cls} F1: {cls_f1:.4f}\")\n",
    "    \n",
    "    # 문제 클래스들의 평균 F1 계산\n",
    "    avg_problem_f1 = np.mean(problem_class_performance) if problem_class_performance else 0.0\n",
    "    print(f\"  Problem Classes Avg F1: {avg_problem_f1:.4f}\")\n",
    "    \n",
    "    # WandB 로깅 (문제 클래스 성능)\n",
    "    if wandb.run is not None:\n",
    "        log_dict = {\n",
    "            f\"fold_{fold}/val_loss\": val_loss,\n",
    "            f\"fold_{fold}/val_acc\": val_acc,\n",
    "            f\"fold_{fold}/val_f1\": val_f1,\n",
    "            f\"fold_{fold}/problem_classes_avg_f1\": avg_problem_f1,\n",
    "        }\n",
    "        \n",
    "        # 각 문제 클래스별 F1 스코어 로깅\n",
    "        for cls in target_classes:\n",
    "            if cls < len(class_f1_scores):\n",
    "                log_dict[f\"fold_{fold}/class_{cls}_f1\"] = class_f1_scores[cls]\n",
    "        \n",
    "        wandb.log(log_dict)\n",
    "    \n",
    "    # Confusion Matrix 로깅 (마지막 epoch에만)\n",
    "    if log_confusion and wandb.run is not None:\n",
    "        try:\n",
    "            wandb.log({\n",
    "                f\"fold_{fold}/confusion_matrix\": wandb.plot.confusion_matrix(\n",
    "                    probs=None,\n",
    "                    y_true=targets_list,\n",
    "                    preds=preds_list,\n",
    "                    class_names=[f\"Class_{i}\" for i in range(17)]\n",
    "                )\n",
    "            })\n",
    "            \n",
    "            # 전체 클래스별 F1 스코어 로깅\n",
    "            for i, class_f1 in enumerate(class_f1_scores):\n",
    "                wandb.log({f\"fold_{fold}/all_class_{i}_f1\": class_f1})\n",
    "                \n",
    "        except Exception as e:\n",
    "            print(f\" Confusion matrix 로깅 실패: {e}\")\n",
    "    \n",
    "    ret = {\n",
    "        \"val_loss\": val_loss,\n",
    "        \"val_acc\": val_acc,  \n",
    "        \"val_f1\": val_f1,\n",
    "        \"problem_class_f1\": problem_class_f1,  # 문제 클래스 F1 스코어 추가\n",
    "        \"avg_problem_f1\": avg_problem_f1,      # 문제 클래스 평균 F1 추가\n",
    "    }\n",
    "    \n",
    "    return ret"
   ]
  },
  {
   "cell_type": "code",
   "execution_count": 22,
   "id": "193dae06",
   "metadata": {},
   "outputs": [
    {
     "name": "stdout",
     "output_type": "stream",
     "text": [
      " Using device: cuda\n",
      " 하이퍼파라미터 설정 완료!\n",
      " 모델: efficientnet_b3\n",
      " 이미지 크기: 384x384\n",
      " 배치 크기: 32\n",
      " 학습률: 0.0005\n",
      " 에폭: 50\n"
     ]
    }
   ],
   "source": [
    "# =============================================================================\n",
    "# 7. Hyper-parameters with WandB Config\n",
    "# =============================================================================\n",
    "\n",
    "# device\n",
    "device = torch.device('cuda' if torch.cuda.is_available() else 'cpu')\n",
    "print(f\" Using device: {device}\")\n",
    "\n",
    "# data config\n",
    "data_path = '../data/'\n",
    "\n",
    "# model config\n",
    "model_name = 'efficientnet_b3' # 'resnet50' 'efficientnet-b0', ...\n",
    "\n",
    "# training config\n",
    "img_size = 384\n",
    "LR = 5e-4\n",
    "EPOCHS = 50\n",
    "BATCH_SIZE = 32\n",
    "num_workers = 30\n",
    "\n",
    "# K-Fold config\n",
    "N_FOLDS = 5  # 5-fold로 설정\n",
    "\n",
    "# WandB Config 설정\n",
    "config = {\n",
    "    # Model config\n",
    "    \"model_name\": model_name,\n",
    "    \"img_size\": img_size,\n",
    "    \"num_classes\": 17,\n",
    "    \"architecture\": \"EfficientNet-B3\",\n",
    "    \n",
    "    # Training config  \n",
    "    \"lr\": LR,\n",
    "    \"epochs\": EPOCHS,\n",
    "    \"batch_size\": BATCH_SIZE,\n",
    "    \"num_workers\": num_workers,\n",
    "    \"device\": str(device),\n",
    "    \n",
    "    # K-Fold config\n",
    "    \"n_folds\": N_FOLDS,\n",
    "    \"seed\": SEED,\n",
    "    \"cv_strategy\": \"StratifiedKFold\",\n",
    "    \n",
    "    # Augmentation & Training techniques\n",
    "    \"mixup_alpha\": 1.0,\n",
    "    \"mixup_prob\": 0.3,\n",
    "    \"label_smoothing\": 0.2,\n",
    "    \"gradient_clipping\": 1.0,\n",
    "    \"mixed_precision\": True,\n",
    "    \n",
    "    # Optimizer & Scheduler\n",
    "    \"optimizer\": \"Adam\",\n",
    "    \"scheduler\": \"CosineAnnealingLR\",\n",
    "    \n",
    "    # Data\n",
    "    \"data_path\": data_path,\n",
    "    \"train_transforms\": \"Advanced\",\n",
    "    \"test_transforms\": \"Basic\",\n",
    "}\n",
    "\n",
    "print(\" 하이퍼파라미터 설정 완료!\")\n",
    "print(f\" 모델: {model_name}\")\n",
    "print(f\" 이미지 크기: {img_size}x{img_size}\")\n",
    "print(f\" 배치 크기: {BATCH_SIZE}\")\n",
    "print(f\" 학습률: {LR}\")\n",
    "print(f\" 에폭: {EPOCHS}\")\n"
   ]
  },
  {
   "cell_type": "code",
   "execution_count": 23,
   "id": "36e4bab2",
   "metadata": {},
   "outputs": [
    {
     "name": "stdout",
     "output_type": "stream",
     "text": [
      "✅ 데이터 변환 설정 완료!\n"
     ]
    }
   ],
   "source": [
    "# =============================================================================\n",
    "# 8. Data Transforms\n",
    "# =============================================================================\n",
    "\n",
    "# augmentation을 위한 transform 코드\n",
    "trn_transform = A.Compose([\n",
    "    # 비율 보존 리사이징 (핵심 개선)\n",
    "    A.LongestMaxSize(max_size=img_size),\n",
    "    A.PadIfNeeded(min_height=img_size, min_width=img_size, \n",
    "                  border_mode=0, value=0),\n",
    "    \n",
    "    # 문서 특화 회전 + 미세 회전 추가\n",
    "    A.OneOf([\n",
    "        A.Rotate(limit=[90,90], p=1.0),\n",
    "        A.Rotate(limit=[180,180], p=1.0),\n",
    "        A.Rotate(limit=[270,270], p=1.0),\n",
    "        A.Rotate(limit=(-15, 15), p=1.0),  # 미세 회전 추가\n",
    "        A.Rotate(limit=(-30, 30), p=1.0), \n",
    "    ], p=0.7),\n",
    "    \n",
    "    # 기하학적 변환 강화\n",
    "    A.OneOf([\n",
    "        A.ShiftScaleRotate(shift_limit=0.1, scale_limit=0.2, rotate_limit=5, p=1.0),\n",
    "        A.ElasticTransform(alpha=50, sigma=5, p=1.0),\n",
    "        A.GridDistortion(num_steps=5, distort_limit=0.2, p=1.0),\n",
    "        A.OpticalDistortion(distort_limit=0.2, shift_limit=0.1, p=1.0),\n",
    "    ], p=0.6),\n",
    "    \n",
    "    # 색상 및 조명 변환 강화\n",
    "    A.OneOf([\n",
    "        A.ColorJitter(brightness=0.4, contrast=0.4, saturation=0.3, hue=0.1, p=1.0),\n",
    "        A.RandomBrightnessContrast(brightness_limit=0.4, contrast_limit=0.4, p=1.0),\n",
    "        A.CLAHE(clip_limit=4.0, tile_grid_size=(8, 8), p=1.0),\n",
    "        A.RandomGamma(gamma_limit=(70, 130), p=1.0),\n",
    "    ], p=0.9),\n",
    "    \n",
    "    # 블러 및 노이즈 강화\n",
    "    A.OneOf([\n",
    "        A.MotionBlur(blur_limit=(5, 15), p=1.0),\n",
    "        A.GaussianBlur(blur_limit=(3, 15), p=1.0),\n",
    "        A.MedianBlur(blur_limit=7, p=1.0),\n",
    "        A.Blur(blur_limit=7, p=1.0),\n",
    "    ], p=0.8),\n",
    "    \n",
    "    # 다양한 노이즈 추가\n",
    "    A.OneOf([\n",
    "        A.GaussNoise(var_limit=(10.0, 150.0), p=1.0),\n",
    "        A.ISONoise(color_shift=(0.01, 0.08), intensity=(0.1, 0.8), p=1.0),\n",
    "        A.MultiplicativeNoise(multiplier=(0.9, 1.1), p=1.0),\n",
    "    ], p=0.8),\n",
    "    \n",
    "    # 문서 품질 시뮬레이션 (스캔/복사 효과)\n",
    "    A.OneOf([\n",
    "        A.Downscale(scale_min=0.7, scale_max=0.9, p=1.0),\n",
    "        A.ImageCompression(quality_lower=60, quality_upper=95, p=1.0),\n",
    "        A.Posterize(num_bits=6, p=1.0),\n",
    "    ], p=0.5),\n",
    "    \n",
    "    # 픽셀 레벨 변환\n",
    "    A.OneOf([\n",
    "        A.ChannelShuffle(p=1.0),\n",
    "        A.InvertImg(p=1.0),\n",
    "        A.Solarize(threshold=128, p=1.0),\n",
    "        A.Equalize(p=1.0),\n",
    "    ], p=0.3),\n",
    "    \n",
    "    # 공간 변환\n",
    "    A.OneOf([\n",
    "        A.HorizontalFlip(p=1.0),\n",
    "        A.VerticalFlip(p=1.0),  # 문서에서도 유용할 수 있음\n",
    "        A.Transpose(p=1.0),\n",
    "    ], p=0.6),\n",
    "    \n",
    "    # 조각 제거 (Cutout 계열)\n",
    "    A.OneOf([\n",
    "        A.CoarseDropout(max_holes=8, max_height=32, max_width=32, \n",
    "                       min_holes=1, min_height=8, min_width=8, \n",
    "                       fill_value=0, p=1.0),\n",
    "        A.GridDropout(ratio=0.3, unit_size_min=8, unit_size_max=32, \n",
    "                     holes_number_x=5, holes_number_y=5, p=1.0),\n",
    "    ], p=0.4),\n",
    "    \n",
    "    # 최종 정규화\n",
    "    A.Normalize(mean=[0.485, 0.456, 0.406], std=[0.229, 0.224, 0.225]),\n",
    "    ToTensorV2(),\n",
    "])\n",
    "\n",
    "# 문제 클래스(3, 7, 14) 전용 추가 augmentation\n",
    "problem_class_extra_transform = A.Compose([\n",
    "    # 추가 회전 변형 (더 자주 적용)\n",
    "    A.OneOf([\n",
    "        A.Rotate(limit=(-20, 20), p=1.0),  # 더 넓은 범위\n",
    "        A.Rotate(limit=(-10, 10), p=1.0),\n",
    "    ], p=0.5),  # 50% 확률로 추가 회전\n",
    "    \n",
    "    # 추가 색상 변형\n",
    "    A.OneOf([\n",
    "        A.RandomBrightnessContrast(brightness_limit=0.2, contrast_limit=0.2, p=1.0),\n",
    "        A.HueSaturationValue(hue_shift_limit=10, sat_shift_limit=15, val_shift_limit=10, p=1.0),\n",
    "    ], p=0.4),\n",
    "    \n",
    "    # 추가 스케일 변형\n",
    "    A.OneOf([\n",
    "        A.RandomScale(scale_limit=0.1, p=1.0),\n",
    "        A.ShiftScaleRotate(shift_limit=0.05, scale_limit=0.1, rotate_limit=3, p=1.0),\n",
    "    ], p=0.3),\n",
    "\n",
    "    # 크기를 다시 맞춰주기 (중요!)\n",
    "    A.LongestMaxSize(max_size=img_size),\n",
    "    A.PadIfNeeded(min_height=img_size, min_width=img_size, \n",
    "                  border_mode=0, value=0),\n",
    "])\n",
    "\n",
    "# test image 변환을 위한 transform 코드\n",
    "tst_transform = A.Compose([\n",
    "    A.LongestMaxSize(max_size=img_size),\n",
    "    A.PadIfNeeded(min_height=img_size, min_width=img_size, \n",
    "                  border_mode=0, value=0),\n",
    "    A.Normalize(mean=[0.485, 0.456, 0.406], std=[0.229, 0.224, 0.225]),\n",
    "    ToTensorV2(),\n",
    "])\n",
    "\n",
    "print(\"✅ 데이터 변환 설정 완료!\")"
   ]
  },
  {
   "cell_type": "code",
   "execution_count": 24,
   "id": "4f420558",
   "metadata": {},
   "outputs": [
    {
     "name": "stdout",
     "output_type": "stream",
     "text": [
      "기존 WandB 런 종료 중...\n"
     ]
    },
    {
     "data": {
      "text/html": [],
      "text/plain": [
       "<IPython.core.display.HTML object>"
      ]
     },
     "metadata": {},
     "output_type": "display_data"
    },
    {
     "data": {
      "text/html": [
       "<br>    <style><br>        .wandb-row {<br>            display: flex;<br>            flex-direction: row;<br>            flex-wrap: wrap;<br>            justify-content: flex-start;<br>            width: 100%;<br>        }<br>        .wandb-col {<br>            display: flex;<br>            flex-direction: column;<br>            flex-basis: 100%;<br>            flex: 1;<br>            padding: 10px;<br>        }<br>    </style><br><div class=\"wandb-row\"><div class=\"wandb-col\"><h3>Run history:</h3><br/><table class=\"wandb\"><tr><td>tta/batch_size</td><td>▁</td></tr><tr><td>tta/num_transforms</td><td>▁</td></tr><tr><td>tta_progress/avg_confidence</td><td>▁▁▁</td></tr><tr><td>tta_progress/batch</td><td>▁▅█</td></tr><tr><td>tta_progress/elapsed_time_min</td><td>▁▆█</td></tr><tr><td>tta_progress/estimated_remaining_min</td><td>█▁▁</td></tr><tr><td>tta_progress/high_confidence_ratio</td><td>▁▁▁</td></tr><tr><td>tta_progress/low_confidence_count</td><td>▁▁▁</td></tr><tr><td>tta_progress/samples_processed</td><td>▁▅█</td></tr><tr><td>tta_results/confidence_std</td><td>▁</td></tr><tr><td>+6</td><td>...</td></tr></table><br/></div><div class=\"wandb-col\"><h3>Run summary:</h3><br/><table class=\"wandb\"><tr><td>tta/batch_size</td><td>64</td></tr><tr><td>tta/num_transforms</td><td>5</td></tr><tr><td>tta_progress/avg_confidence</td><td>0</td></tr><tr><td>tta_progress/batch</td><td>40</td></tr><tr><td>tta_progress/elapsed_time_min</td><td>0.45164</td></tr><tr><td>tta_progress/estimated_remaining_min</td><td>0.09914</td></tr><tr><td>tta_progress/high_confidence_ratio</td><td>0</td></tr><tr><td>tta_progress/low_confidence_count</td><td>64</td></tr><tr><td>tta_progress/samples_processed</td><td>2624</td></tr><tr><td>tta_results/confidence_std</td><td>0</td></tr><tr><td>+6</td><td>...</td></tr></table><br/></div></div>"
      ],
      "text/plain": [
       "<IPython.core.display.HTML object>"
      ]
     },
     "metadata": {},
     "output_type": "display_data"
    },
    {
     "data": {
      "text/html": [
       " View run <strong style=\"color:#cdcd00\">efficientnet-b3-baseline-0908-0809</strong> at: <a href='https://wandb.ai/kimsunmin0227-hufs/document-classification-team-CV/runs/us4nvosd' target=\"_blank\">https://wandb.ai/kimsunmin0227-hufs/document-classification-team-CV/runs/us4nvosd</a><br> View project at: <a href='https://wandb.ai/kimsunmin0227-hufs/document-classification-team-CV' target=\"_blank\">https://wandb.ai/kimsunmin0227-hufs/document-classification-team-CV</a><br>Synced 5 W&B file(s), 1 media file(s), 2 artifact file(s) and 0 other file(s)"
      ],
      "text/plain": [
       "<IPython.core.display.HTML object>"
      ]
     },
     "metadata": {},
     "output_type": "display_data"
    },
    {
     "data": {
      "text/html": [
       "Find logs at: <code>./wandb/run-20250908_080906-us4nvosd/logs</code>"
      ],
      "text/plain": [
       "<IPython.core.display.HTML object>"
      ]
     },
     "metadata": {},
     "output_type": "display_data"
    },
    {
     "name": "stdout",
     "output_type": "stream",
     "text": [
      "🔧 WandB 연결 문제 해결 중...\n",
      "WandB 초기화 시도 1/3...\n"
     ]
    },
    {
     "data": {
      "text/html": [
       "creating run (0.2s)"
      ],
      "text/plain": [
       "<IPython.core.display.HTML object>"
      ]
     },
     "metadata": {},
     "output_type": "display_data"
    },
    {
     "data": {
      "text/html": [
       "Tracking run with wandb version 0.21.3"
      ],
      "text/plain": [
       "<IPython.core.display.HTML object>"
      ]
     },
     "metadata": {},
     "output_type": "display_data"
    },
    {
     "data": {
      "text/html": [
       "Run data is saved locally in <code>/root/computervisioncompetition-cv-1/mywork/experiments/wandb/run-20250908_081746-g6f7ptq3</code>"
      ],
      "text/plain": [
       "<IPython.core.display.HTML object>"
      ]
     },
     "metadata": {},
     "output_type": "display_data"
    },
    {
     "data": {
      "text/html": [
       "Syncing run <strong><a href='https://wandb.ai/kimsunmin0227-hufs/document-classification-team-CV/runs/g6f7ptq3' target=\"_blank\">efficientnet-b3-baseline-0908-0817</a></strong> to <a href='https://wandb.ai/kimsunmin0227-hufs/document-classification-team-CV' target=\"_blank\">Weights & Biases</a> (<a href='https://wandb.me/developer-guide' target=\"_blank\">docs</a>)<br>"
      ],
      "text/plain": [
       "<IPython.core.display.HTML object>"
      ]
     },
     "metadata": {},
     "output_type": "display_data"
    },
    {
     "data": {
      "text/html": [
       " View project at <a href='https://wandb.ai/kimsunmin0227-hufs/document-classification-team-CV' target=\"_blank\">https://wandb.ai/kimsunmin0227-hufs/document-classification-team-CV</a>"
      ],
      "text/plain": [
       "<IPython.core.display.HTML object>"
      ]
     },
     "metadata": {},
     "output_type": "display_data"
    },
    {
     "data": {
      "text/html": [
       " View run at <a href='https://wandb.ai/kimsunmin0227-hufs/document-classification-team-CV/runs/g6f7ptq3' target=\"_blank\">https://wandb.ai/kimsunmin0227-hufs/document-classification-team-CV/runs/g6f7ptq3</a>"
      ],
      "text/plain": [
       "<IPython.core.display.HTML object>"
      ]
     },
     "metadata": {},
     "output_type": "display_data"
    },
    {
     "name": "stdout",
     "output_type": "stream",
     "text": [
      "✅ WandB 초기화 성공!\n",
      "\n",
      "🚀 WandB 실험 시작!\n",
      "📊 대시보드: https://wandb.ai/kimsunmin0227-hufs/document-classification-team-CV/runs/g6f7ptq3\n",
      "📋 실험명: efficientnet-b3-baseline-0908-0817\n"
     ]
    }
   ],
   "source": [
    "# wandb.finish()\n",
    "# =============================================================================\n",
    "# WandB MailboxClosedError 해결을 위한 정리 및 재시작\n",
    "# =============================================================================\n",
    " \n",
    "# 1. 기존 WandB 런 강제 종료\n",
    "try:\n",
    "    if wandb.run is not None:\n",
    "        print(\"기존 WandB 런 종료 중...\")\n",
    "        wandb.finish()\n",
    "        time.sleep(2)  # 종료 대기\n",
    "except Exception as e:\n",
    "    print(f\"기존 런 종료 중 에러 (무시 가능): {e}\")\n",
    "\n",
    "# 2. WandB 프로세스 정리\n",
    "try:\n",
    "    # WandB 내부 상태 초기화\n",
    "    wandb.teardown()\n",
    "    time.sleep(1)\n",
    "except Exception as e:\n",
    "    print(f\"WandB teardown 중 에러 (무시 가능): {e}\")\n",
    "\n",
    "# 3. 환경 변수 재설정 (선택사항)\n",
    "os.environ['WANDB_START_METHOD'] = 'thread'  # 프로세스 충돌 방지\n",
    "\n",
    "# 4. 안전한 WandB 초기화 함수\n",
    "def safe_wandb_init(project, name, config, **kwargs):\n",
    "    \"\"\"안전한 WandB 초기화\"\"\"\n",
    "    max_retries = 3\n",
    "    retry_delay = 5\n",
    "    \n",
    "    for attempt in range(max_retries):\n",
    "        try:\n",
    "            print(f\"WandB 초기화 시도 {attempt + 1}/{max_retries}...\")\n",
    "            \n",
    "            # 기존 런이 있다면 종료\n",
    "            if wandb.run is not None:\n",
    "                wandb.finish()\n",
    "                time.sleep(1)\n",
    "            \n",
    "            # 새로운 런 시작\n",
    "            run = wandb.init(\n",
    "                project=project,\n",
    "                name=name,\n",
    "                config=config,\n",
    "                **kwargs\n",
    "            )\n",
    "            \n",
    "            print(f\"✅ WandB 초기화 성공!\")\n",
    "            return run\n",
    "            \n",
    "        except Exception as e:\n",
    "            print(f\"❌ 시도 {attempt + 1} 실패: {e}\")\n",
    "            \n",
    "            if attempt < max_retries - 1:\n",
    "                print(f\"⏳ {retry_delay}초 후 재시도...\")\n",
    "                time.sleep(retry_delay)\n",
    "                \n",
    "                # WandB 프로세스 강제 정리\n",
    "                try:\n",
    "                    wandb.teardown()\n",
    "                    time.sleep(1)\n",
    "                except:\n",
    "                    pass\n",
    "            else:\n",
    "                print(\"❌ 모든 재시도 실패. WandB 없이 진행합니다.\")\n",
    "                return None\n",
    "    \n",
    "    return None\n",
    "\n",
    "# 5. 수정된 메인 초기화 코드\n",
    "print(\"🔧 WandB 연결 문제 해결 중...\")\n",
    "\n",
    "# 기존 코드 대체\n",
    "main_run = safe_wandb_init(\n",
    "    project=PROJECT_NAME,\n",
    "    name=f\"{EXPERIMENT_NAME}-{datetime.now().strftime('%m%d-%H%M')}\",\n",
    "    config=config,\n",
    "    entity=ENTITY,\n",
    "    tags=[\"k-fold-cv\", \"ensemble\", model_name, \"baseline\", \"main-experiment\"],\n",
    "    group=\"k-fold-experiment\", \n",
    "    job_type=\"cross-validation\",\n",
    "    notes=f\"{N_FOLDS}-Fold Cross Validation with {model_name}\"\n",
    ")\n",
    "\n",
    "if main_run is not None:\n",
    "    print(f\"\\n🚀 WandB 실험 시작!\")\n",
    "    print(f\"📊 대시보드: {main_run.url}\")\n",
    "    print(f\"📋 실험명: {main_run.name}\")\n",
    "else:\n",
    "    print(\"\\n⚠️ WandB 없이 실험을 진행합니다.\")\n",
    "    print(\"결과는 콘솔과 로컬 파일로만 저장됩니다.\")"
   ]
  },
  {
   "cell_type": "code",
   "execution_count": 27,
   "id": "6514acaf",
   "metadata": {},
   "outputs": [
    {
     "name": "stdout",
     "output_type": "stream",
     "text": [
      "학습 데이터: 1570개 샘플\n",
      " 클래스 분포: {0: 100, 1: 46, 2: 100, 3: 100, 4: 100, 5: 100, 6: 100, 7: 100, 8: 100, 9: 100, 10: 100, 11: 100, 12: 100, 13: 74, 14: 50, 15: 100, 16: 100}\n"
     ]
    },
    {
     "data": {
      "text/html": [
       "Finishing previous runs because reinit is set to True."
      ],
      "text/plain": [
       "<IPython.core.display.HTML object>"
      ]
     },
     "metadata": {},
     "output_type": "display_data"
    },
    {
     "data": {
      "text/html": [],
      "text/plain": [
       "<IPython.core.display.HTML object>"
      ]
     },
     "metadata": {},
     "output_type": "display_data"
    },
    {
     "data": {
      "text/html": [
       " View run <strong style=\"color:#cdcd00\">efficientnet-b3-baseline-0908-0817</strong> at: <a href='https://wandb.ai/kimsunmin0227-hufs/document-classification-team-CV/runs/g6f7ptq3' target=\"_blank\">https://wandb.ai/kimsunmin0227-hufs/document-classification-team-CV/runs/g6f7ptq3</a><br> View project at: <a href='https://wandb.ai/kimsunmin0227-hufs/document-classification-team-CV' target=\"_blank\">https://wandb.ai/kimsunmin0227-hufs/document-classification-team-CV</a><br>Synced 5 W&B file(s), 0 media file(s), 0 artifact file(s) and 0 other file(s)"
      ],
      "text/plain": [
       "<IPython.core.display.HTML object>"
      ]
     },
     "metadata": {},
     "output_type": "display_data"
    },
    {
     "data": {
      "text/html": [
       "Find logs at: <code>./wandb/run-20250908_081746-g6f7ptq3/logs</code>"
      ],
      "text/plain": [
       "<IPython.core.display.HTML object>"
      ]
     },
     "metadata": {},
     "output_type": "display_data"
    },
    {
     "name": "stderr",
     "output_type": "stream",
     "text": [
      "\u001b[34m\u001b[1mwandb\u001b[0m: \u001b[33mWARNING\u001b[0m Using a boolean value for 'reinit' is deprecated. Use 'return_previous' or 'finish_previous' instead.\n"
     ]
    },
    {
     "data": {
      "text/html": [
       "creating run (0.2s)"
      ],
      "text/plain": [
       "<IPython.core.display.HTML object>"
      ]
     },
     "metadata": {},
     "output_type": "display_data"
    },
    {
     "data": {
      "text/html": [
       "Tracking run with wandb version 0.21.3"
      ],
      "text/plain": [
       "<IPython.core.display.HTML object>"
      ]
     },
     "metadata": {},
     "output_type": "display_data"
    },
    {
     "data": {
      "text/html": [
       "Run data is saved locally in <code>/root/computervisioncompetition-cv-1/mywork/experiments/wandb/run-20250908_081807-1xxo6aw8</code>"
      ],
      "text/plain": [
       "<IPython.core.display.HTML object>"
      ]
     },
     "metadata": {},
     "output_type": "display_data"
    },
    {
     "data": {
      "text/html": [
       "Syncing run <strong><a href='https://wandb.ai/kimsunmin0227-hufs/document-classification-team-CV/runs/1xxo6aw8' target=\"_blank\">efficientnet-b3-baseline-0908-0818</a></strong> to <a href='https://wandb.ai/kimsunmin0227-hufs/document-classification-team-CV' target=\"_blank\">Weights & Biases</a> (<a href='https://wandb.me/developer-guide' target=\"_blank\">docs</a>)<br>"
      ],
      "text/plain": [
       "<IPython.core.display.HTML object>"
      ]
     },
     "metadata": {},
     "output_type": "display_data"
    },
    {
     "data": {
      "text/html": [
       " View project at <a href='https://wandb.ai/kimsunmin0227-hufs/document-classification-team-CV' target=\"_blank\">https://wandb.ai/kimsunmin0227-hufs/document-classification-team-CV</a>"
      ],
      "text/plain": [
       "<IPython.core.display.HTML object>"
      ]
     },
     "metadata": {},
     "output_type": "display_data"
    },
    {
     "data": {
      "text/html": [
       " View run at <a href='https://wandb.ai/kimsunmin0227-hufs/document-classification-team-CV/runs/1xxo6aw8' target=\"_blank\">https://wandb.ai/kimsunmin0227-hufs/document-classification-team-CV/runs/1xxo6aw8</a>"
      ],
      "text/plain": [
       "<IPython.core.display.HTML object>"
      ]
     },
     "metadata": {},
     "output_type": "display_data"
    },
    {
     "name": "stdout",
     "output_type": "stream",
     "text": [
      "\n",
      "🚀 WandB 실험 시작!\n",
      "📊 대시보드: https://wandb.ai/kimsunmin0227-hufs/document-classification-team-CV/runs/1xxo6aw8\n",
      "📋 실험명: efficientnet-b3-baseline-0908-0818\n"
     ]
    }
   ],
   "source": [
    "# =============================================================================\n",
    "# 9. Load Data & Start K-Fold Cross Validation with WandB\n",
    "# =============================================================================\n",
    "\n",
    "# 전체 학습 데이터 로드\n",
    "train_df = pd.read_csv(\"../data/train.csv\")\n",
    "print(f\"학습 데이터: {len(train_df)}개 샘플\")\n",
    "\n",
    "# 클래스 분포 확인\n",
    "class_counts = train_df['target'].value_counts().sort_index()\n",
    "print(f\" 클래스 분포: {dict(class_counts)}\")\n",
    "\n",
    "# K-Fold 설정\n",
    "skf = StratifiedKFold(n_splits=N_FOLDS, shuffle=True, random_state=SEED)\n",
    "\n",
    "# K-Fold 결과를 저장할 리스트\n",
    "fold_results = []\n",
    "fold_models = []  # 각 fold의 최고 성능 모델을 저장\n",
    "\n",
    "#  WandB 메인 실험 시작\n",
    "main_run = wandb.init(\n",
    "    project=PROJECT_NAME,\n",
    "    entity=ENTITY,\n",
    "    name=f\"{EXPERIMENT_NAME}-{datetime.now().strftime('%m%d-%H%M')}\",\n",
    "    config=config,\n",
    "    tags=[\"k-fold-cv\", \"ensemble\", model_name, \"baseline\", \"main-experiment\"],\n",
    "    group=\"k-fold-experiment\",\n",
    "    job_type=\"cross-validation\",\n",
    "    notes=f\"{N_FOLDS}-Fold Cross Validation with {model_name}\",\n",
    "    reinit=True,\n",
    ")\n",
    "\n",
    "print(f\"\\n🚀 WandB 실험 시작!\")\n",
    "print(f\"📊 대시보드: {main_run.url}\")\n",
    "print(f\"📋 실험명: {main_run.name}\")\n",
    "\n",
    "#  데이터셋 정보 로깅\n",
    "# wandb.log({\n",
    "#    \"dataset/total_samples\": len(train_df),\n",
    "#    \"dataset/num_classes\": 17,\n",
    "#   \"dataset/samples_per_fold\": len(train_df) // N_FOLDS,\n",
    "#})\n",
    "\n",
    "# 클래스 분포 시각화\n",
    "#class_dist_data = [[f\"Class_{i}\", count] for i, count in enumerate(class_counts)]\n",
    "#wandb.log({\n",
    "#    \"dataset/class_distribution\": wandb.plot.bar(\n",
    "#        wandb.Table(data=class_dist_data, columns=[\"Class\", \"Count\"]),\n",
    "#        \"Class\", \"Count\", \n",
    "#        title=\"Training Data Class Distribution\"\n",
    "#    )\n",
    "#})\n"
   ]
  },
  {
   "cell_type": "code",
   "execution_count": null,
   "id": "6c320bb7",
   "metadata": {},
   "outputs": [
    {
     "name": "stdout",
     "output_type": "stream",
     "text": [
      "\n",
      "==================================================\n",
      " FOLD 1/5\n",
      "==================================================\n"
     ]
    },
    {
     "data": {
      "text/html": [
       "Finishing previous runs because reinit is set to True."
      ],
      "text/plain": [
       "<IPython.core.display.HTML object>"
      ]
     },
     "metadata": {},
     "output_type": "display_data"
    },
    {
     "data": {
      "text/html": [],
      "text/plain": [
       "<IPython.core.display.HTML object>"
      ]
     },
     "metadata": {},
     "output_type": "display_data"
    },
    {
     "data": {
      "text/html": [
       " View run <strong style=\"color:#cdcd00\">efficientnet-b3-baseline-0908-0818</strong> at: <a href='https://wandb.ai/kimsunmin0227-hufs/document-classification-team-CV/runs/1xxo6aw8' target=\"_blank\">https://wandb.ai/kimsunmin0227-hufs/document-classification-team-CV/runs/1xxo6aw8</a><br> View project at: <a href='https://wandb.ai/kimsunmin0227-hufs/document-classification-team-CV' target=\"_blank\">https://wandb.ai/kimsunmin0227-hufs/document-classification-team-CV</a><br>Synced 5 W&B file(s), 0 media file(s), 0 artifact file(s) and 0 other file(s)"
      ],
      "text/plain": [
       "<IPython.core.display.HTML object>"
      ]
     },
     "metadata": {},
     "output_type": "display_data"
    },
    {
     "data": {
      "text/html": [
       "Find logs at: <code>./wandb/run-20250908_081807-1xxo6aw8/logs</code>"
      ],
      "text/plain": [
       "<IPython.core.display.HTML object>"
      ]
     },
     "metadata": {},
     "output_type": "display_data"
    },
    {
     "data": {
      "text/html": [
       "creating run (0.1s)"
      ],
      "text/plain": [
       "<IPython.core.display.HTML object>"
      ]
     },
     "metadata": {},
     "output_type": "display_data"
    },
    {
     "data": {
      "text/html": [
       "Tracking run with wandb version 0.21.3"
      ],
      "text/plain": [
       "<IPython.core.display.HTML object>"
      ]
     },
     "metadata": {},
     "output_type": "display_data"
    },
    {
     "data": {
      "text/html": [
       "Run data is saved locally in <code>/root/computervisioncompetition-cv-1/mywork/experiments/wandb/run-20250908_081809-ngw3vaek</code>"
      ],
      "text/plain": [
       "<IPython.core.display.HTML object>"
      ]
     },
     "metadata": {},
     "output_type": "display_data"
    },
    {
     "data": {
      "text/html": [
       "Syncing run <strong><a href='https://wandb.ai/kimsunmin0227-hufs/document-classification-team-CV/runs/ngw3vaek' target=\"_blank\">fold-1-efficientnet_b3-0818</a></strong> to <a href='https://wandb.ai/kimsunmin0227-hufs/document-classification-team-CV' target=\"_blank\">Weights & Biases</a> (<a href='https://wandb.me/developer-guide' target=\"_blank\">docs</a>)<br>"
      ],
      "text/plain": [
       "<IPython.core.display.HTML object>"
      ]
     },
     "metadata": {},
     "output_type": "display_data"
    },
    {
     "data": {
      "text/html": [
       " View project at <a href='https://wandb.ai/kimsunmin0227-hufs/document-classification-team-CV' target=\"_blank\">https://wandb.ai/kimsunmin0227-hufs/document-classification-team-CV</a>"
      ],
      "text/plain": [
       "<IPython.core.display.HTML object>"
      ]
     },
     "metadata": {},
     "output_type": "display_data"
    },
    {
     "data": {
      "text/html": [
       " View run at <a href='https://wandb.ai/kimsunmin0227-hufs/document-classification-team-CV/runs/ngw3vaek' target=\"_blank\">https://wandb.ai/kimsunmin0227-hufs/document-classification-team-CV/runs/ngw3vaek</a>"
      ],
      "text/plain": [
       "<IPython.core.display.HTML object>"
      ]
     },
     "metadata": {},
     "output_type": "display_data"
    },
    {
     "name": "stdout",
     "output_type": "stream",
     "text": [
      "📊 Fold 1 Dashboard: https://wandb.ai/kimsunmin0227-hufs/document-classification-team-CV/runs/ngw3vaek\n",
      "Train samples: 1256, Validation samples: 314\n",
      " 모델 학습 시작 - Fold 1\n",
      "\n",
      "📈 Epoch 1/50\n"
     ]
    },
    {
     "name": "stderr",
     "output_type": "stream",
     "text": [
      "Loss: 2.1713, Mixup: True, Cutout: False, RandomCrop: False: 100%|██████████| 40/40 [00:22<00:00,  1.79it/s]\n",
      "Val Loss: 1.9947: 100%|██████████| 10/10 [00:02<00:00,  4.78it/s]\n"
     ]
    },
    {
     "name": "stdout",
     "output_type": "stream",
     "text": [
      "  Class 3 F1: 0.3243\n",
      "  Class 7 F1: 0.1739\n",
      "  Class 14 F1: 0.0000\n",
      "  Problem Classes Avg F1: 0.1661\n",
      " Epoch  1 | Train Loss: 2.7488 | Train F1: 0.1846 | Val Loss: 1.7716 | Val F1: 0.5560 | LR: 5.00e-04\n",
      "         Problem Classes (3,7,14) Avg F1: 0.1661 | ✅ Problem classes performing well\n",
      "🎉 새로운 최고 성능! F1: 0.5560 (Problem Classes: 0.1661)\n",
      "\n",
      "📈 Epoch 2/50\n"
     ]
    },
    {
     "name": "stderr",
     "output_type": "stream",
     "text": [
      "Loss: 2.0289, Mixup: True, Cutout: False, RandomCrop: False: 100%|██████████| 40/40 [00:13<00:00,  2.89it/s]\n",
      "Val Loss: 1.7067: 100%|██████████| 10/10 [00:01<00:00,  6.80it/s]\n"
     ]
    },
    {
     "name": "stdout",
     "output_type": "stream",
     "text": [
      "  Class 3 F1: 0.3871\n",
      "  Class 7 F1: 0.0769\n",
      "  Class 14 F1: 0.1667\n",
      "  Problem Classes Avg F1: 0.2102\n",
      " Epoch  2 | Train Loss: 2.1038 | Train F1: 0.4155 | Val Loss: 1.5761 | Val F1: 0.7071 | LR: 5.00e-04\n",
      "         Problem Classes (3,7,14) Avg F1: 0.2102 | ⚠️ Problem classes need attention\n",
      "🎉 새로운 최고 성능! F1: 0.7071 (Problem Classes: 0.2102)\n",
      "\n",
      "📈 Epoch 3/50\n"
     ]
    },
    {
     "name": "stderr",
     "output_type": "stream",
     "text": [
      "Loss: 2.4588, Mixup: False, Cutout: True, RandomCrop: False: 100%|██████████| 40/40 [00:13<00:00,  2.94it/s]\n",
      "Val Loss: 1.5948: 100%|██████████| 10/10 [00:01<00:00,  6.78it/s]\n"
     ]
    },
    {
     "name": "stdout",
     "output_type": "stream",
     "text": [
      "  Class 3 F1: 0.4545\n",
      "  Class 7 F1: 0.3611\n",
      "  Class 14 F1: 0.0000\n",
      "  Problem Classes Avg F1: 0.2719\n",
      " Epoch  3 | Train Loss: 1.9748 | Train F1: 0.4418 | Val Loss: 1.4273 | Val F1: 0.7844 | LR: 4.98e-04\n",
      "         Problem Classes (3,7,14) Avg F1: 0.2719 | ⚠️ Problem classes need attention\n",
      "🎉 새로운 최고 성능! F1: 0.7844 (Problem Classes: 0.2719)\n",
      "\n",
      "📈 Epoch 4/50\n"
     ]
    },
    {
     "name": "stderr",
     "output_type": "stream",
     "text": [
      "Loss: 1.7073, Mixup: False, Cutout: True, RandomCrop: False: 100%|██████████| 40/40 [00:13<00:00,  2.88it/s]\n",
      "Val Loss: 1.6416: 100%|██████████| 10/10 [00:01<00:00,  6.43it/s]\n"
     ]
    },
    {
     "name": "stdout",
     "output_type": "stream",
     "text": [
      "  Class 3 F1: 0.5128\n",
      "  Class 7 F1: 0.1818\n",
      "  Class 14 F1: 0.5217\n",
      "  Problem Classes Avg F1: 0.4055\n",
      " Epoch  4 | Train Loss: 1.7645 | Train F1: 0.5307 | Val Loss: 1.4308 | Val F1: 0.8204 | LR: 4.96e-04\n",
      "         Problem Classes (3,7,14) Avg F1: 0.4055 | ⚠️ Problem classes need attention\n",
      "🎉 새로운 최고 성능! F1: 0.8204 (Problem Classes: 0.4055)\n",
      "\n",
      "📈 Epoch 5/50\n"
     ]
    },
    {
     "name": "stderr",
     "output_type": "stream",
     "text": [
      "Loss: 1.2360, Mixup: False, Cutout: False, RandomCrop: True: 100%|██████████| 40/40 [00:13<00:00,  2.98it/s]\n",
      "Val Loss: 1.3450: 100%|██████████| 10/10 [00:01<00:00,  6.82it/s]\n"
     ]
    },
    {
     "name": "stdout",
     "output_type": "stream",
     "text": [
      "  Class 3 F1: 0.2857\n",
      "  Class 7 F1: 0.3667\n",
      "  Class 14 F1: 0.5333\n",
      "  Problem Classes Avg F1: 0.3952\n",
      " Epoch  5 | Train Loss: 1.7514 | Train F1: 0.5806 | Val Loss: 1.3692 | Val F1: 0.8395 | LR: 4.92e-04\n",
      "         Problem Classes (3,7,14) Avg F1: 0.3952 | ⚠️ Problem classes need attention\n",
      "🎉 새로운 최고 성능! F1: 0.8395 (Problem Classes: 0.3952)\n",
      "\n",
      "📈 Epoch 6/50\n"
     ]
    },
    {
     "name": "stderr",
     "output_type": "stream",
     "text": [
      "Loss: 1.6729, Mixup: False, Cutout: False, RandomCrop: True: 100%|██████████| 40/40 [00:13<00:00,  2.94it/s]\n",
      "Val Loss: 1.3060: 100%|██████████| 10/10 [00:01<00:00,  6.68it/s]\n"
     ]
    },
    {
     "name": "stdout",
     "output_type": "stream",
     "text": [
      "  Class 3 F1: 0.4928\n",
      "  Class 7 F1: 0.2759\n",
      "  Class 14 F1: 0.6364\n",
      "  Problem Classes Avg F1: 0.4683\n",
      " Epoch  6 | Train Loss: 1.6480 | Train F1: 0.6464 | Val Loss: 1.2943 | Val F1: 0.8405 | LR: 4.88e-04\n",
      "         Problem Classes (3,7,14) Avg F1: 0.4683 | ⚠️ Problem classes need attention\n",
      "🎉 새로운 최고 성능! F1: 0.8405 (Problem Classes: 0.4683)\n",
      "\n",
      "📈 Epoch 7/50\n"
     ]
    },
    {
     "name": "stderr",
     "output_type": "stream",
     "text": [
      "Loss: 1.7131, Mixup: True, Cutout: False, RandomCrop: False: 100%|██████████| 40/40 [00:13<00:00,  2.93it/s]\n",
      "Val Loss: 1.3326: 100%|██████████| 10/10 [00:01<00:00,  6.85it/s]\n"
     ]
    },
    {
     "name": "stdout",
     "output_type": "stream",
     "text": [
      "  Class 3 F1: 0.4444\n",
      "  Class 7 F1: 0.5263\n",
      "  Class 14 F1: 0.5882\n",
      "  Problem Classes Avg F1: 0.5197\n",
      " Epoch  7 | Train Loss: 1.6134 | Train F1: 0.5573 | Val Loss: 1.2465 | Val F1: 0.8518 | LR: 4.82e-04\n",
      "         Problem Classes (3,7,14) Avg F1: 0.5197 | ⚠️ Problem classes need attention\n",
      "🎉 새로운 최고 성능! F1: 0.8518 (Problem Classes: 0.5197)\n",
      "\n",
      "📈 Epoch 8/50\n"
     ]
    },
    {
     "name": "stderr",
     "output_type": "stream",
     "text": [
      "Loss: 1.9727, Mixup: False, Cutout: True, RandomCrop: False: 100%|██████████| 40/40 [00:13<00:00,  2.96it/s]\n",
      "Val Loss: 1.2918: 100%|██████████| 10/10 [00:01<00:00,  6.44it/s]\n"
     ]
    },
    {
     "name": "stdout",
     "output_type": "stream",
     "text": [
      "  Class 3 F1: 0.6154\n",
      "  Class 7 F1: 0.3000\n",
      "  Class 14 F1: 0.5000\n",
      "  Problem Classes Avg F1: 0.4718\n",
      " Epoch  8 | Train Loss: 1.5532 | Train F1: 0.6374 | Val Loss: 1.2378 | Val F1: 0.8619 | LR: 4.76e-04\n",
      "         Problem Classes (3,7,14) Avg F1: 0.4718 | ⚠️ Problem classes need attention\n",
      "🎉 새로운 최고 성능! F1: 0.8619 (Problem Classes: 0.4718)\n",
      "\n",
      "📈 Epoch 9/50\n"
     ]
    },
    {
     "name": "stderr",
     "output_type": "stream",
     "text": [
      "Loss: 1.4885, Mixup: False, Cutout: True, RandomCrop: False: 100%|██████████| 40/40 [00:13<00:00,  2.94it/s]\n",
      "Val Loss: 1.2837: 100%|██████████| 10/10 [00:01<00:00,  6.74it/s]\n"
     ]
    },
    {
     "name": "stdout",
     "output_type": "stream",
     "text": [
      "  Class 3 F1: 0.5161\n",
      "  Class 7 F1: 0.5000\n",
      "  Class 14 F1: 0.5385\n",
      "  Problem Classes Avg F1: 0.5182\n",
      " Epoch  9 | Train Loss: 1.5291 | Train F1: 0.7108 | Val Loss: 1.2285 | Val F1: 0.8725 | LR: 4.69e-04\n",
      "         Problem Classes (3,7,14) Avg F1: 0.5182 | ⚠️ Problem classes need attention\n",
      "🎉 새로운 최고 성능! F1: 0.8725 (Problem Classes: 0.5182)\n",
      "\n",
      "📈 Epoch 10/50\n"
     ]
    },
    {
     "name": "stderr",
     "output_type": "stream",
     "text": [
      "Loss: 1.1660, Mixup: False, Cutout: False, RandomCrop: True: 100%|██████████| 40/40 [00:13<00:00,  2.95it/s]\n",
      "Val Loss: 1.2112: 100%|██████████| 10/10 [00:01<00:00,  6.73it/s]\n"
     ]
    },
    {
     "name": "stdout",
     "output_type": "stream",
     "text": [
      "  Class 3 F1: 0.6800\n",
      "  Class 7 F1: 0.3590\n",
      "  Class 14 F1: 0.6154\n",
      "  Problem Classes Avg F1: 0.5515\n",
      " Epoch 10 | Train Loss: 1.5514 | Train F1: 0.6000 | Val Loss: 1.1810 | Val F1: 0.8782 | LR: 4.61e-04\n",
      "         Problem Classes (3,7,14) Avg F1: 0.5515 | ⚠️ Problem classes need attention\n",
      "🎉 새로운 최고 성능! F1: 0.8782 (Problem Classes: 0.5515)\n",
      "\n",
      "📈 Epoch 11/50\n"
     ]
    },
    {
     "name": "stderr",
     "output_type": "stream",
     "text": [
      "Loss: 1.2953, Mixup: True, Cutout: False, RandomCrop: False: 100%|██████████| 40/40 [00:13<00:00,  2.97it/s]\n",
      "Val Loss: 1.2356: 100%|██████████| 10/10 [00:01<00:00,  6.81it/s]\n"
     ]
    },
    {
     "name": "stdout",
     "output_type": "stream",
     "text": [
      "  Class 3 F1: 0.4762\n",
      "  Class 7 F1: 0.3750\n",
      "  Class 14 F1: 0.6400\n",
      "  Problem Classes Avg F1: 0.4971\n",
      " Epoch 11 | Train Loss: 1.5313 | Train F1: 0.6500 | Val Loss: 1.2177 | Val F1: 0.8657 | LR: 4.52e-04\n",
      "         Problem Classes (3,7,14) Avg F1: 0.4971 | ⚠️ Problem classes need attention\n",
      "\n",
      "📈 Epoch 12/50\n"
     ]
    },
    {
     "name": "stderr",
     "output_type": "stream",
     "text": [
      "Loss: 2.0313, Mixup: True, Cutout: False, RandomCrop: False: 100%|██████████| 40/40 [00:13<00:00,  2.94it/s]\n",
      "Val Loss: 1.1411: 100%|██████████| 10/10 [00:01<00:00,  6.76it/s]\n"
     ]
    },
    {
     "name": "stdout",
     "output_type": "stream",
     "text": [
      "  Class 3 F1: 0.6182\n",
      "  Class 7 F1: 0.3636\n",
      "  Class 14 F1: 0.5926\n",
      "  Problem Classes Avg F1: 0.5248\n",
      " Epoch 12 | Train Loss: 1.5221 | Train F1: 0.6094 | Val Loss: 1.1744 | Val F1: 0.8760 | LR: 4.43e-04\n",
      "         Problem Classes (3,7,14) Avg F1: 0.5248 | ⚠️ Problem classes need attention\n",
      "\n",
      "📈 Epoch 13/50\n"
     ]
    },
    {
     "name": "stderr",
     "output_type": "stream",
     "text": [
      "Loss: 2.6780, Mixup: True, Cutout: False, RandomCrop: False: 100%|██████████| 40/40 [00:13<00:00,  2.94it/s]\n",
      "Val Loss: 1.2266: 100%|██████████| 10/10 [00:01<00:00,  6.67it/s]\n"
     ]
    },
    {
     "name": "stdout",
     "output_type": "stream",
     "text": [
      "  Class 3 F1: 0.6545\n",
      "  Class 7 F1: 0.2581\n",
      "  Class 14 F1: 0.5926\n",
      "  Problem Classes Avg F1: 0.5017\n",
      " Epoch 13 | Train Loss: 1.5684 | Train F1: 0.5840 | Val Loss: 1.2306 | Val F1: 0.8641 | LR: 4.32e-04\n",
      "         Problem Classes (3,7,14) Avg F1: 0.5017 | ⚠️ Problem classes need attention\n",
      "\n",
      "📈 Epoch 14/50\n"
     ]
    },
    {
     "name": "stderr",
     "output_type": "stream",
     "text": [
      "Loss: 2.1866, Mixup: True, Cutout: False, RandomCrop: False: 100%|██████████| 40/40 [00:13<00:00,  2.94it/s]\n",
      "Val Loss: 1.2011: 100%|██████████| 10/10 [00:01<00:00,  6.79it/s]\n"
     ]
    },
    {
     "name": "stdout",
     "output_type": "stream",
     "text": [
      "  Class 3 F1: 0.5143\n",
      "  Class 7 F1: 0.4348\n",
      "  Class 14 F1: 0.7368\n",
      "  Problem Classes Avg F1: 0.5620\n",
      " Epoch 14 | Train Loss: 1.4220 | Train F1: 0.7073 | Val Loss: 1.2402 | Val F1: 0.8968 | LR: 4.21e-04\n",
      "         Problem Classes (3,7,14) Avg F1: 0.5620 | ⚠️ Problem classes need attention\n",
      "🎉 새로운 최고 성능! F1: 0.8968 (Problem Classes: 0.5620)\n",
      "\n",
      "📈 Epoch 15/50\n"
     ]
    },
    {
     "name": "stderr",
     "output_type": "stream",
     "text": [
      "Loss: 1.1208, Mixup: False, Cutout: True, RandomCrop: False: 100%|██████████| 40/40 [00:13<00:00,  2.92it/s]\n",
      "Val Loss: 1.3772: 100%|██████████| 10/10 [00:01<00:00,  6.68it/s]\n"
     ]
    },
    {
     "name": "stdout",
     "output_type": "stream",
     "text": [
      "  Class 3 F1: 0.6500\n",
      "  Class 7 F1: 0.3125\n",
      "  Class 14 F1: 0.4082\n",
      "  Problem Classes Avg F1: 0.4569\n",
      " Epoch 15 | Train Loss: 1.4900 | Train F1: 0.6434 | Val Loss: 1.2995 | Val F1: 0.8481 | LR: 4.09e-04\n",
      "         Problem Classes (3,7,14) Avg F1: 0.4569 | ⚠️ Problem classes need attention\n",
      "\n",
      "📈 Epoch 16/50\n"
     ]
    },
    {
     "name": "stderr",
     "output_type": "stream",
     "text": [
      "Loss: 1.3678, Mixup: False, Cutout: True, RandomCrop: False: 100%|██████████| 40/40 [00:13<00:00,  2.97it/s]\n",
      "Val Loss: 1.3202: 100%|██████████| 10/10 [00:01<00:00,  6.72it/s]\n"
     ]
    },
    {
     "name": "stdout",
     "output_type": "stream",
     "text": [
      "  Class 3 F1: 0.5405\n",
      "  Class 7 F1: 0.5091\n",
      "  Class 14 F1: 0.4828\n",
      "  Problem Classes Avg F1: 0.5108\n",
      " Epoch 16 | Train Loss: 1.4787 | Train F1: 0.6587 | Val Loss: 1.1701 | Val F1: 0.8576 | LR: 3.97e-04\n",
      "         Problem Classes (3,7,14) Avg F1: 0.5108 | ⚠️ Problem classes need attention\n",
      "\n",
      "📈 Epoch 17/50\n"
     ]
    },
    {
     "name": "stderr",
     "output_type": "stream",
     "text": [
      "Loss: 1.1678, Mixup: False, Cutout: False, RandomCrop: True: 100%|██████████| 40/40 [00:13<00:00,  2.94it/s]\n",
      "Val Loss: 1.2712: 100%|██████████| 10/10 [00:01<00:00,  6.83it/s]\n"
     ]
    },
    {
     "name": "stdout",
     "output_type": "stream",
     "text": [
      "  Class 3 F1: 0.6800\n",
      "  Class 7 F1: 0.5333\n",
      "  Class 14 F1: 0.5455\n",
      "  Problem Classes Avg F1: 0.5863\n",
      " Epoch 17 | Train Loss: 1.4314 | Train F1: 0.7486 | Val Loss: 1.1501 | Val F1: 0.8850 | LR: 3.84e-04\n",
      "         Problem Classes (3,7,14) Avg F1: 0.5863 | ⚠️ Problem classes need attention\n",
      "\n",
      "📈 Epoch 18/50\n"
     ]
    },
    {
     "name": "stderr",
     "output_type": "stream",
     "text": [
      "Loss: 1.6966, Mixup: False, Cutout: True, RandomCrop: False: 100%|██████████| 40/40 [00:13<00:00,  2.92it/s]\n",
      "Val Loss: 1.2381: 100%|██████████| 10/10 [00:01<00:00,  6.77it/s]\n"
     ]
    },
    {
     "name": "stdout",
     "output_type": "stream",
     "text": [
      "  Class 3 F1: 0.6122\n",
      "  Class 7 F1: 0.3902\n",
      "  Class 14 F1: 0.5217\n",
      "  Problem Classes Avg F1: 0.5081\n",
      " Epoch 18 | Train Loss: 1.2839 | Train F1: 0.7398 | Val Loss: 1.1512 | Val F1: 0.8767 | LR: 3.70e-04\n",
      "         Problem Classes (3,7,14) Avg F1: 0.5081 | ⚠️ Problem classes need attention\n",
      "\n",
      "📈 Epoch 19/50\n"
     ]
    },
    {
     "name": "stderr",
     "output_type": "stream",
     "text": [
      "Loss: 0.8170, Mixup: False, Cutout: True, RandomCrop: False: 100%|██████████| 40/40 [00:13<00:00,  2.96it/s]\n",
      "Val Loss: 1.1845: 100%|██████████| 10/10 [00:01<00:00,  6.85it/s]\n"
     ]
    },
    {
     "name": "stdout",
     "output_type": "stream",
     "text": [
      "  Class 3 F1: 0.6531\n",
      "  Class 7 F1: 0.3784\n",
      "  Class 14 F1: 0.5517\n",
      "  Problem Classes Avg F1: 0.5277\n",
      " Epoch 19 | Train Loss: 1.3179 | Train F1: 0.7541 | Val Loss: 1.1521 | Val F1: 0.8806 | LR: 3.56e-04\n",
      "         Problem Classes (3,7,14) Avg F1: 0.5277 | ⚠️ Problem classes need attention\n",
      "\n",
      "📈 Epoch 20/50\n"
     ]
    },
    {
     "name": "stderr",
     "output_type": "stream",
     "text": [
      "Loss: 1.6118, Mixup: True, Cutout: False, RandomCrop: False: 100%|██████████| 40/40 [00:13<00:00,  2.87it/s]\n",
      "Val Loss: 1.2235: 100%|██████████| 10/10 [00:01<00:00,  6.82it/s]\n"
     ]
    },
    {
     "name": "stdout",
     "output_type": "stream",
     "text": [
      "  Class 3 F1: 0.5909\n",
      "  Class 7 F1: 0.4500\n",
      "  Class 14 F1: 0.5333\n",
      "  Problem Classes Avg F1: 0.5247\n",
      " Epoch 20 | Train Loss: 1.3624 | Train F1: 0.7031 | Val Loss: 1.1821 | Val F1: 0.8776 | LR: 3.42e-04\n",
      "         Problem Classes (3,7,14) Avg F1: 0.5247 | ⚠️ Problem classes need attention\n",
      "\n",
      "📈 Epoch 21/50\n"
     ]
    },
    {
     "name": "stderr",
     "output_type": "stream",
     "text": [
      "Loss: 1.0437, Mixup: False, Cutout: True, RandomCrop: False: 100%|██████████| 40/40 [00:13<00:00,  2.96it/s]\n",
      "Val Loss: 1.1276: 100%|██████████| 10/10 [00:01<00:00,  6.80it/s]\n"
     ]
    },
    {
     "name": "stdout",
     "output_type": "stream",
     "text": [
      "  Class 3 F1: 0.6452\n",
      "  Class 7 F1: 0.4375\n",
      "  Class 14 F1: 0.6667\n",
      "  Problem Classes Avg F1: 0.5831\n",
      " Epoch 21 | Train Loss: 1.3626 | Train F1: 0.7426 | Val Loss: 1.1398 | Val F1: 0.8991 | LR: 3.27e-04\n",
      "         Problem Classes (3,7,14) Avg F1: 0.5831 | ⚠️ Problem classes need attention\n",
      "🎉 새로운 최고 성능! F1: 0.8991 (Problem Classes: 0.5831)\n",
      "\n",
      "📈 Epoch 22/50\n"
     ]
    },
    {
     "name": "stderr",
     "output_type": "stream",
     "text": [
      "Loss: 1.0307, Mixup: False, Cutout: False, RandomCrop: True: 100%|██████████| 40/40 [00:13<00:00,  2.94it/s]\n",
      "Val Loss: 1.1935: 100%|██████████| 10/10 [00:01<00:00,  6.83it/s]\n"
     ]
    },
    {
     "name": "stdout",
     "output_type": "stream",
     "text": [
      "  Class 3 F1: 0.6250\n",
      "  Class 7 F1: 0.3448\n",
      "  Class 14 F1: 0.6000\n",
      "  Problem Classes Avg F1: 0.5233\n",
      " Epoch 22 | Train Loss: 1.2839 | Train F1: 0.6855 | Val Loss: 1.1793 | Val F1: 0.8822 | LR: 3.12e-04\n",
      "         Problem Classes (3,7,14) Avg F1: 0.5233 | ⚠️ Problem classes need attention\n",
      "\n",
      "📈 Epoch 23/50\n"
     ]
    },
    {
     "name": "stderr",
     "output_type": "stream",
     "text": [
      "Loss: 1.6299, Mixup: True, Cutout: False, RandomCrop: False: 100%|██████████| 40/40 [00:13<00:00,  2.96it/s]\n",
      "Val Loss: 1.3146: 100%|██████████| 10/10 [00:01<00:00,  6.71it/s]\n"
     ]
    },
    {
     "name": "stdout",
     "output_type": "stream",
     "text": [
      "  Class 3 F1: 0.6154\n",
      "  Class 7 F1: 0.3448\n",
      "  Class 14 F1: 0.6000\n",
      "  Problem Classes Avg F1: 0.5201\n",
      " Epoch 23 | Train Loss: 1.3594 | Train F1: 0.7446 | Val Loss: 1.2822 | Val F1: 0.8801 | LR: 2.97e-04\n",
      "         Problem Classes (3,7,14) Avg F1: 0.5201 | ⚠️ Problem classes need attention\n",
      "\n",
      "📈 Epoch 24/50\n"
     ]
    },
    {
     "name": "stderr",
     "output_type": "stream",
     "text": [
      "Loss: 1.4181, Mixup: False, Cutout: False, RandomCrop: True: 100%|██████████| 40/40 [00:13<00:00,  2.94it/s]\n",
      "Val Loss: 1.1681: 100%|██████████| 10/10 [00:01<00:00,  6.61it/s]\n"
     ]
    },
    {
     "name": "stdout",
     "output_type": "stream",
     "text": [
      "  Class 3 F1: 0.6349\n",
      "  Class 7 F1: 0.3571\n",
      "  Class 14 F1: 0.7000\n",
      "  Problem Classes Avg F1: 0.5640\n",
      " Epoch 24 | Train Loss: 1.3703 | Train F1: 0.6853 | Val Loss: 1.1459 | Val F1: 0.8950 | LR: 2.81e-04\n",
      "         Problem Classes (3,7,14) Avg F1: 0.5640 | ⚠️ Problem classes need attention\n",
      "\n",
      "📈 Epoch 25/50\n"
     ]
    },
    {
     "name": "stderr",
     "output_type": "stream",
     "text": [
      "Loss: 1.8185, Mixup: True, Cutout: False, RandomCrop: False: 100%|██████████| 40/40 [00:13<00:00,  2.97it/s]\n",
      "Val Loss: 1.1927: 100%|██████████| 10/10 [00:01<00:00,  6.78it/s]\n"
     ]
    },
    {
     "name": "stdout",
     "output_type": "stream",
     "text": [
      "  Class 3 F1: 0.6230\n",
      "  Class 7 F1: 0.4667\n",
      "  Class 14 F1: 0.7000\n",
      "  Problem Classes Avg F1: 0.5965\n",
      " Epoch 25 | Train Loss: 1.2373 | Train F1: 0.6973 | Val Loss: 1.1719 | Val F1: 0.9007 | LR: 2.66e-04\n",
      "         Problem Classes (3,7,14) Avg F1: 0.5965 | ⚠️ Problem classes need attention\n",
      "🎉 새로운 최고 성능! F1: 0.9007 (Problem Classes: 0.5965)\n",
      "\n",
      "📈 Epoch 26/50\n"
     ]
    },
    {
     "name": "stderr",
     "output_type": "stream",
     "text": [
      "Loss: 2.1661, Mixup: True, Cutout: False, RandomCrop: False: 100%|██████████| 40/40 [00:13<00:00,  2.98it/s]\n",
      "Val Loss: 1.1353: 100%|██████████| 10/10 [00:01<00:00,  6.64it/s]\n"
     ]
    },
    {
     "name": "stdout",
     "output_type": "stream",
     "text": [
      "  Class 3 F1: 0.6207\n",
      "  Class 7 F1: 0.5161\n",
      "  Class 14 F1: 0.7273\n",
      "  Problem Classes Avg F1: 0.6214\n",
      " Epoch 26 | Train Loss: 1.3183 | Train F1: 0.7954 | Val Loss: 1.1060 | Val F1: 0.9051 | LR: 2.50e-04\n",
      "         Problem Classes (3,7,14) Avg F1: 0.6214 | ⚠️ Problem classes need attention\n",
      "🎉 새로운 최고 성능! F1: 0.9051 (Problem Classes: 0.6214)\n",
      "\n",
      "📈 Epoch 27/50\n"
     ]
    },
    {
     "name": "stderr",
     "output_type": "stream",
     "text": [
      "Loss: 0.8846, Mixup: False, Cutout: True, RandomCrop: False: 100%|██████████| 40/40 [00:13<00:00,  2.98it/s]\n",
      "Val Loss: 1.1928: 100%|██████████| 10/10 [00:01<00:00,  6.78it/s]\n"
     ]
    },
    {
     "name": "stdout",
     "output_type": "stream",
     "text": [
      "  Class 3 F1: 0.6557\n",
      "  Class 7 F1: 0.3200\n",
      "  Class 14 F1: 0.6957\n",
      "  Problem Classes Avg F1: 0.5571\n",
      " Epoch 27 | Train Loss: 1.1963 | Train F1: 0.7139 | Val Loss: 1.1385 | Val F1: 0.8913 | LR: 2.34e-04\n",
      "         Problem Classes (3,7,14) Avg F1: 0.5571 | ⚠️ Problem classes need attention\n",
      "\n",
      "📈 Epoch 28/50\n"
     ]
    },
    {
     "name": "stderr",
     "output_type": "stream",
     "text": [
      "Loss: 1.0836, Mixup: False, Cutout: True, RandomCrop: False: 100%|██████████| 40/40 [00:13<00:00,  2.97it/s]\n",
      "Val Loss: 1.2829: 100%|██████████| 10/10 [00:01<00:00,  6.74it/s]\n"
     ]
    },
    {
     "name": "stdout",
     "output_type": "stream",
     "text": [
      "  Class 3 F1: 0.6250\n",
      "  Class 7 F1: 0.2400\n",
      "  Class 14 F1: 0.6364\n",
      "  Problem Classes Avg F1: 0.5005\n",
      " Epoch 28 | Train Loss: 1.3128 | Train F1: 0.7064 | Val Loss: 1.2145 | Val F1: 0.8799 | LR: 2.19e-04\n",
      "         Problem Classes (3,7,14) Avg F1: 0.5005 | ⚠️ Problem classes need attention\n",
      "\n",
      "📈 Epoch 29/50\n"
     ]
    },
    {
     "name": "stderr",
     "output_type": "stream",
     "text": [
      "Loss: 1.2479, Mixup: False, Cutout: False, RandomCrop: True: 100%|██████████| 40/40 [00:13<00:00,  2.96it/s]\n",
      "Val Loss: 1.2032: 100%|██████████| 10/10 [00:01<00:00,  6.77it/s]\n"
     ]
    },
    {
     "name": "stdout",
     "output_type": "stream",
     "text": [
      "  Class 3 F1: 0.6207\n",
      "  Class 7 F1: 0.4516\n",
      "  Class 14 F1: 0.6957\n",
      "  Problem Classes Avg F1: 0.5893\n",
      " Epoch 29 | Train Loss: 1.2479 | Train F1: 0.8222 | Val Loss: 1.1485 | Val F1: 0.8970 | LR: 2.03e-04\n",
      "         Problem Classes (3,7,14) Avg F1: 0.5893 | ⚠️ Problem classes need attention\n",
      "\n",
      "📈 Epoch 30/50\n"
     ]
    },
    {
     "name": "stderr",
     "output_type": "stream",
     "text": [
      "Loss: 1.5297, Mixup: True, Cutout: False, RandomCrop: False: 100%|██████████| 40/40 [00:13<00:00,  2.98it/s]\n",
      "Val Loss: 1.2677: 100%|██████████| 10/10 [00:01<00:00,  6.79it/s]\n"
     ]
    },
    {
     "name": "stdout",
     "output_type": "stream",
     "text": [
      "  Class 3 F1: 0.6557\n",
      "  Class 7 F1: 0.3846\n",
      "  Class 14 F1: 0.7826\n",
      "  Problem Classes Avg F1: 0.6077\n",
      " Epoch 30 | Train Loss: 1.3220 | Train F1: 0.6848 | Val Loss: 1.1790 | Val F1: 0.9005 | LR: 1.88e-04\n",
      "         Problem Classes (3,7,14) Avg F1: 0.6077 | ⚠️ Problem classes need attention\n",
      "\n",
      "📈 Epoch 31/50\n"
     ]
    },
    {
     "name": "stderr",
     "output_type": "stream",
     "text": [
      "Loss: 0.8511, Mixup: False, Cutout: True, RandomCrop: False: 100%|██████████| 40/40 [00:13<00:00,  2.89it/s]\n",
      "Val Loss: 1.2447: 100%|██████████| 10/10 [00:01<00:00,  6.79it/s]\n"
     ]
    },
    {
     "name": "stdout",
     "output_type": "stream",
     "text": [
      "  Class 3 F1: 0.6545\n",
      "  Class 7 F1: 0.4138\n",
      "  Class 14 F1: 0.8000\n",
      "  Problem Classes Avg F1: 0.6228\n",
      " Epoch 31 | Train Loss: 1.2263 | Train F1: 0.7580 | Val Loss: 1.1293 | Val F1: 0.9139 | LR: 1.73e-04\n",
      "         Problem Classes (3,7,14) Avg F1: 0.6228 | ⚠️ Problem classes need attention\n",
      "🎉 새로운 최고 성능! F1: 0.9139 (Problem Classes: 0.6228)\n",
      "\n",
      "📈 Epoch 32/50\n"
     ]
    },
    {
     "name": "stderr",
     "output_type": "stream",
     "text": [
      "Loss: 1.7449, Mixup: True, Cutout: False, RandomCrop: False: 100%|██████████| 40/40 [00:13<00:00,  2.94it/s]\n",
      "Val Loss: 1.2356: 100%|██████████| 10/10 [00:01<00:00,  6.83it/s]\n"
     ]
    },
    {
     "name": "stdout",
     "output_type": "stream",
     "text": [
      "  Class 3 F1: 0.6545\n",
      "  Class 7 F1: 0.5000\n",
      "  Class 14 F1: 0.7273\n",
      "  Problem Classes Avg F1: 0.6273\n",
      " Epoch 32 | Train Loss: 1.2940 | Train F1: 0.7248 | Val Loss: 1.1221 | Val F1: 0.9118 | LR: 1.58e-04\n",
      "         Problem Classes (3,7,14) Avg F1: 0.6273 | ⚠️ Problem classes need attention\n",
      "\n",
      "📈 Epoch 33/50\n"
     ]
    },
    {
     "name": "stderr",
     "output_type": "stream",
     "text": [
      "Loss: 0.9627, Mixup: False, Cutout: True, RandomCrop: False: 100%|██████████| 40/40 [00:13<00:00,  2.92it/s]\n",
      "Val Loss: 1.2062: 100%|██████████| 10/10 [00:01<00:00,  6.82it/s]\n"
     ]
    },
    {
     "name": "stdout",
     "output_type": "stream",
     "text": [
      "  Class 3 F1: 0.6545\n",
      "  Class 7 F1: 0.5000\n",
      "  Class 14 F1: 0.7273\n",
      "  Problem Classes Avg F1: 0.6273\n",
      " Epoch 33 | Train Loss: 1.2519 | Train F1: 0.7288 | Val Loss: 1.1076 | Val F1: 0.9111 | LR: 1.44e-04\n",
      "         Problem Classes (3,7,14) Avg F1: 0.6273 | ⚠️ Problem classes need attention\n",
      "\n",
      "📈 Epoch 34/50\n"
     ]
    },
    {
     "name": "stderr",
     "output_type": "stream",
     "text": [
      "Loss: 0.9627, Mixup: False, Cutout: False, RandomCrop: True: 100%|██████████| 40/40 [00:13<00:00,  2.94it/s]\n",
      "Val Loss: 1.1879: 100%|██████████| 10/10 [00:01<00:00,  6.42it/s]\n"
     ]
    },
    {
     "name": "stdout",
     "output_type": "stream",
     "text": [
      "  Class 3 F1: 0.6667\n",
      "  Class 7 F1: 0.4286\n",
      "  Class 14 F1: 0.7273\n",
      "  Problem Classes Avg F1: 0.6075\n",
      " Epoch 34 | Train Loss: 1.3042 | Train F1: 0.7398 | Val Loss: 1.1444 | Val F1: 0.9052 | LR: 1.30e-04\n",
      "         Problem Classes (3,7,14) Avg F1: 0.6075 | ⚠️ Problem classes need attention\n",
      "\n",
      "📈 Epoch 35/50\n"
     ]
    },
    {
     "name": "stderr",
     "output_type": "stream",
     "text": [
      "Loss: 0.7812, Mixup: False, Cutout: False, RandomCrop: True: 100%|██████████| 40/40 [00:13<00:00,  2.98it/s]\n",
      "Val Loss: 1.1864: 100%|██████████| 10/10 [00:01<00:00,  6.81it/s]\n"
     ]
    },
    {
     "name": "stdout",
     "output_type": "stream",
     "text": [
      "  Class 3 F1: 0.5714\n",
      "  Class 7 F1: 0.5000\n",
      "  Class 14 F1: 0.7619\n",
      "  Problem Classes Avg F1: 0.6111\n",
      " Epoch 35 | Train Loss: 1.1832 | Train F1: 0.8206 | Val Loss: 1.1050 | Val F1: 0.9058 | LR: 1.16e-04\n",
      "         Problem Classes (3,7,14) Avg F1: 0.6111 | ⚠️ Problem classes need attention\n",
      "\n",
      "📈 Epoch 36/50\n"
     ]
    },
    {
     "name": "stderr",
     "output_type": "stream",
     "text": [
      "Loss: 2.6070, Mixup: True, Cutout: False, RandomCrop: False: 100%|██████████| 40/40 [00:13<00:00,  2.92it/s]\n",
      "Val Loss: 1.1446: 100%|██████████| 10/10 [00:01<00:00,  6.72it/s]\n"
     ]
    },
    {
     "name": "stdout",
     "output_type": "stream",
     "text": [
      "  Class 3 F1: 0.5778\n",
      "  Class 7 F1: 0.5455\n",
      "  Class 14 F1: 0.8000\n",
      "  Problem Classes Avg F1: 0.6411\n",
      " Epoch 36 | Train Loss: 1.2622 | Train F1: 0.8290 | Val Loss: 1.0913 | Val F1: 0.9170 | LR: 1.03e-04\n",
      "         Problem Classes (3,7,14) Avg F1: 0.6411 | ⚠️ Problem classes need attention\n",
      "🎉 새로운 최고 성능! F1: 0.9170 (Problem Classes: 0.6411)\n",
      "\n",
      "📈 Epoch 37/50\n"
     ]
    },
    {
     "name": "stderr",
     "output_type": "stream",
     "text": [
      "Loss: 1.3619, Mixup: False, Cutout: False, RandomCrop: True: 100%|██████████| 40/40 [00:13<00:00,  2.99it/s]\n",
      "Val Loss: 1.1851: 100%|██████████| 10/10 [00:01<00:00,  6.77it/s]\n"
     ]
    },
    {
     "name": "stdout",
     "output_type": "stream",
     "text": [
      "  Class 3 F1: 0.6786\n",
      "  Class 7 F1: 0.5000\n",
      "  Class 14 F1: 0.7368\n",
      "  Problem Classes Avg F1: 0.6385\n",
      " Epoch 37 | Train Loss: 1.2366 | Train F1: 0.8022 | Val Loss: 1.1103 | Val F1: 0.9174 | LR: 9.06e-05\n",
      "         Problem Classes (3,7,14) Avg F1: 0.6385 | ⚠️ Problem classes need attention\n",
      "🎉 새로운 최고 성능! F1: 0.9174 (Problem Classes: 0.6385)\n",
      "\n",
      "📈 Epoch 38/50\n"
     ]
    },
    {
     "name": "stderr",
     "output_type": "stream",
     "text": [
      "Loss: 0.8662, Mixup: False, Cutout: True, RandomCrop: False: 100%|██████████| 40/40 [00:13<00:00,  2.90it/s]\n",
      "Val Loss: 1.1496: 100%|██████████| 10/10 [00:01<00:00,  6.80it/s]\n"
     ]
    },
    {
     "name": "stdout",
     "output_type": "stream",
     "text": [
      "  Class 3 F1: 0.5417\n",
      "  Class 7 F1: 0.4878\n",
      "  Class 14 F1: 0.7368\n",
      "  Problem Classes Avg F1: 0.5888\n",
      " Epoch 38 | Train Loss: 1.1818 | Train F1: 0.7865 | Val Loss: 1.1042 | Val F1: 0.9065 | LR: 7.89e-05\n",
      "         Problem Classes (3,7,14) Avg F1: 0.5888 | ⚠️ Problem classes need attention\n",
      "\n",
      "📈 Epoch 39/50\n"
     ]
    },
    {
     "name": "stderr",
     "output_type": "stream",
     "text": [
      "Loss: 1.0788, Mixup: False, Cutout: False, RandomCrop: True: 100%|██████████| 40/40 [00:13<00:00,  3.01it/s]\n",
      "Val Loss: 1.1431: 100%|██████████| 10/10 [00:01<00:00,  6.81it/s]\n"
     ]
    },
    {
     "name": "stdout",
     "output_type": "stream",
     "text": [
      "  Class 3 F1: 0.6122\n",
      "  Class 7 F1: 0.5128\n",
      "  Class 14 F1: 0.8000\n",
      "  Problem Classes Avg F1: 0.6417\n",
      " Epoch 39 | Train Loss: 1.2310 | Train F1: 0.7371 | Val Loss: 1.0860 | Val F1: 0.9158 | LR: 6.78e-05\n",
      "         Problem Classes (3,7,14) Avg F1: 0.6417 | ⚠️ Problem classes need attention\n",
      "\n",
      "📈 Epoch 40/50\n"
     ]
    },
    {
     "name": "stderr",
     "output_type": "stream",
     "text": [
      "Loss: 1.2817, Mixup: True, Cutout: False, RandomCrop: False: 100%|██████████| 40/40 [00:13<00:00,  2.94it/s]\n",
      "Val Loss: 1.1657: 100%|██████████| 10/10 [00:01<00:00,  6.83it/s]\n"
     ]
    },
    {
     "name": "stdout",
     "output_type": "stream",
     "text": [
      "  Class 3 F1: 0.6667\n",
      "  Class 7 F1: 0.5714\n",
      "  Class 14 F1: 0.7368\n",
      "  Problem Classes Avg F1: 0.6583\n",
      " Epoch 40 | Train Loss: 1.2086 | Train F1: 0.7625 | Val Loss: 1.1027 | Val F1: 0.9188 | LR: 5.74e-05\n",
      "         Problem Classes (3,7,14) Avg F1: 0.6583 | ⚠️ Problem classes need attention\n",
      "🎉 새로운 최고 성능! F1: 0.9188 (Problem Classes: 0.6583)\n",
      "\n",
      "📈 Epoch 41/50\n"
     ]
    },
    {
     "name": "stderr",
     "output_type": "stream",
     "text": [
      "Loss: 0.8844, Mixup: False, Cutout: True, RandomCrop: False: 100%|██████████| 40/40 [00:13<00:00,  2.94it/s]\n",
      "Val Loss: 1.1689: 100%|██████████| 10/10 [00:01<00:00,  6.85it/s]\n"
     ]
    },
    {
     "name": "stdout",
     "output_type": "stream",
     "text": [
      "  Class 3 F1: 0.5926\n",
      "  Class 7 F1: 0.4571\n",
      "  Class 14 F1: 0.7368\n",
      "  Problem Classes Avg F1: 0.5955\n",
      " Epoch 41 | Train Loss: 1.1270 | Train F1: 0.7997 | Val Loss: 1.1190 | Val F1: 0.9077 | LR: 4.77e-05\n",
      "         Problem Classes (3,7,14) Avg F1: 0.5955 | ⚠️ Problem classes need attention\n",
      "\n",
      "📈 Epoch 42/50\n"
     ]
    },
    {
     "name": "stderr",
     "output_type": "stream",
     "text": [
      "Loss: 1.2294, Mixup: False, Cutout: True, RandomCrop: False: 100%|██████████| 40/40 [00:13<00:00,  2.92it/s]\n",
      "Val Loss: 1.1476: 100%|██████████| 10/10 [00:01<00:00,  6.80it/s]\n"
     ]
    },
    {
     "name": "stdout",
     "output_type": "stream",
     "text": [
      "  Class 3 F1: 0.6250\n",
      "  Class 7 F1: 0.5128\n",
      "  Class 14 F1: 0.7368\n",
      "  Problem Classes Avg F1: 0.6249\n",
      " Epoch 42 | Train Loss: 1.1494 | Train F1: 0.8342 | Val Loss: 1.1026 | Val F1: 0.9136 | LR: 3.89e-05\n",
      "         Problem Classes (3,7,14) Avg F1: 0.6249 | ⚠️ Problem classes need attention\n",
      "\n",
      "📈 Epoch 43/50\n"
     ]
    },
    {
     "name": "stderr",
     "output_type": "stream",
     "text": [
      "Loss: 1.3574, Mixup: False, Cutout: False, RandomCrop: True: 100%|██████████| 40/40 [00:13<00:00,  2.90it/s]\n",
      "Val Loss: 1.1425: 100%|██████████| 10/10 [00:01<00:00,  6.77it/s]\n"
     ]
    },
    {
     "name": "stdout",
     "output_type": "stream",
     "text": [
      "  Class 3 F1: 0.5333\n",
      "  Class 7 F1: 0.5238\n",
      "  Class 14 F1: 0.7619\n",
      "  Problem Classes Avg F1: 0.6063\n",
      " Epoch 43 | Train Loss: 1.1492 | Train F1: 0.8302 | Val Loss: 1.1009 | Val F1: 0.9096 | LR: 3.09e-05\n",
      "         Problem Classes (3,7,14) Avg F1: 0.6063 | ⚠️ Problem classes need attention\n",
      "\n",
      "📈 Epoch 44/50\n"
     ]
    },
    {
     "name": "stderr",
     "output_type": "stream",
     "text": [
      "Loss: 1.1156, Mixup: False, Cutout: True, RandomCrop: False: 100%|██████████| 40/40 [00:13<00:00,  2.94it/s]\n",
      "Val Loss: 1.1462: 100%|██████████| 10/10 [00:01<00:00,  6.80it/s]\n"
     ]
    },
    {
     "name": "stdout",
     "output_type": "stream",
     "text": [
      "  Class 3 F1: 0.6538\n",
      "  Class 7 F1: 0.5143\n",
      "  Class 14 F1: 0.7619\n",
      "  Problem Classes Avg F1: 0.6433\n",
      " Epoch 44 | Train Loss: 1.1622 | Train F1: 0.8266 | Val Loss: 1.1042 | Val F1: 0.9161 | LR: 2.38e-05\n",
      "         Problem Classes (3,7,14) Avg F1: 0.6433 | ⚠️ Problem classes need attention\n",
      "\n",
      "📈 Epoch 45/50\n"
     ]
    },
    {
     "name": "stderr",
     "output_type": "stream",
     "text": [
      "Loss: 0.7610, Mixup: False, Cutout: True, RandomCrop: False: 100%|██████████| 40/40 [00:13<00:00,  2.88it/s]\n",
      "Val Loss: 1.1775: 100%|██████████| 10/10 [00:01<00:00,  6.78it/s]\n"
     ]
    },
    {
     "name": "stdout",
     "output_type": "stream",
     "text": [
      "  Class 3 F1: 0.6400\n",
      "  Class 7 F1: 0.5294\n",
      "  Class 14 F1: 0.7619\n",
      "  Problem Classes Avg F1: 0.6438\n",
      " Epoch 45 | Train Loss: 1.1785 | Train F1: 0.8259 | Val Loss: 1.1065 | Val F1: 0.9156 | LR: 1.76e-05\n",
      "         Problem Classes (3,7,14) Avg F1: 0.6438 | ⚠️ Problem classes need attention\n",
      "\n",
      "📈 Epoch 46/50\n"
     ]
    },
    {
     "name": "stderr",
     "output_type": "stream",
     "text": [
      "Loss: 1.0434, Mixup: True, Cutout: False, RandomCrop: False: 100%|██████████| 40/40 [00:13<00:00,  2.92it/s]\n",
      "Val Loss: 1.1726: 100%|██████████| 10/10 [00:01<00:00,  6.80it/s]\n"
     ]
    },
    {
     "name": "stdout",
     "output_type": "stream",
     "text": [
      "  Class 3 F1: 0.6415\n",
      "  Class 7 F1: 0.5000\n",
      "  Class 14 F1: 0.8182\n",
      "  Problem Classes Avg F1: 0.6532\n",
      " Epoch 46 | Train Loss: 1.2412 | Train F1: 0.7483 | Val Loss: 1.1220 | Val F1: 0.9200 | LR: 1.22e-05\n",
      "         Problem Classes (3,7,14) Avg F1: 0.6532 | ⚠️ Problem classes need attention\n",
      "🎉 새로운 최고 성능! F1: 0.9200 (Problem Classes: 0.6532)\n",
      "\n",
      "📈 Epoch 47/50\n"
     ]
    },
    {
     "name": "stderr",
     "output_type": "stream",
     "text": [
      "Loss: 1.1233, Mixup: True, Cutout: False, RandomCrop: False: 100%|██████████| 40/40 [00:13<00:00,  2.92it/s]\n",
      "Val Loss: 1.1618: 100%|██████████| 10/10 [00:01<00:00,  6.76it/s]\n"
     ]
    },
    {
     "name": "stdout",
     "output_type": "stream",
     "text": [
      "  Class 3 F1: 0.5532\n",
      "  Class 7 F1: 0.5128\n",
      "  Class 14 F1: 0.7273\n",
      "  Problem Classes Avg F1: 0.5978\n",
      " Epoch 47 | Train Loss: 1.2966 | Train F1: 0.6821 | Val Loss: 1.1170 | Val F1: 0.9081 | LR: 7.85e-06\n",
      "         Problem Classes (3,7,14) Avg F1: 0.5978 | ⚠️ Problem classes need attention\n",
      "\n",
      "📈 Epoch 48/50\n"
     ]
    },
    {
     "name": "stderr",
     "output_type": "stream",
     "text": [
      "Loss: 0.9099, Mixup: True, Cutout: False, RandomCrop: False: 100%|██████████| 40/40 [00:13<00:00,  2.92it/s]\n",
      "Val Loss: 1.1613: 100%|██████████| 10/10 [00:01<00:00,  6.72it/s]\n"
     ]
    },
    {
     "name": "stdout",
     "output_type": "stream",
     "text": [
      "  Class 3 F1: 0.6000\n",
      "  Class 7 F1: 0.5000\n",
      "  Class 14 F1: 0.7619\n",
      "  Problem Classes Avg F1: 0.6206\n",
      " Epoch 48 | Train Loss: 1.1571 | Train F1: 0.8295 | Val Loss: 1.1112 | Val F1: 0.9142 | LR: 4.43e-06\n",
      "         Problem Classes (3,7,14) Avg F1: 0.6206 | ⚠️ Problem classes need attention\n",
      "\n",
      "📈 Epoch 49/50\n"
     ]
    },
    {
     "name": "stderr",
     "output_type": "stream",
     "text": [
      "Loss: 0.9581, Mixup: False, Cutout: False, RandomCrop: True: 100%|██████████| 40/40 [00:13<00:00,  2.94it/s]\n",
      "Val Loss: 1.1356: 100%|██████████| 10/10 [00:01<00:00,  6.64it/s]\n"
     ]
    },
    {
     "name": "stdout",
     "output_type": "stream",
     "text": [
      "  Class 3 F1: 0.6531\n",
      "  Class 7 F1: 0.5789\n",
      "  Class 14 F1: 0.7619\n",
      "  Problem Classes Avg F1: 0.6646\n",
      " Epoch 49 | Train Loss: 1.2835 | Train F1: 0.7088 | Val Loss: 1.0862 | Val F1: 0.9199 | LR: 1.97e-06\n",
      "         Problem Classes (3,7,14) Avg F1: 0.6646 | ⚠️ Problem classes need attention\n",
      "\n",
      "📈 Epoch 50/50\n"
     ]
    },
    {
     "name": "stderr",
     "output_type": "stream",
     "text": [
      "Loss: 0.7989, Mixup: False, Cutout: True, RandomCrop: False: 100%|██████████| 40/40 [00:13<00:00,  2.96it/s]\n",
      "Val Loss: 1.1424: 100%|██████████| 10/10 [00:01<00:00,  6.78it/s]\n"
     ]
    },
    {
     "name": "stdout",
     "output_type": "stream",
     "text": [
      "  Class 3 F1: 0.5833\n",
      "  Class 7 F1: 0.5128\n",
      "  Class 14 F1: 0.7619\n",
      "  Problem Classes Avg F1: 0.6194\n",
      " Epoch 50 | Train Loss: 1.2007 | Train F1: 0.8730 | Val Loss: 1.0977 | Val F1: 0.9119 | LR: 4.93e-07\n",
      "         Problem Classes (3,7,14) Avg F1: 0.6194 | ⚠️ Problem classes need attention\n",
      "\n",
      " Fold 1 완료!\n",
      " 최고 Validation F1: 0.9200\n",
      " 학습된 에폭: 50/50\n"
     ]
    },
    {
     "data": {
      "text/html": [],
      "text/plain": [
       "<IPython.core.display.HTML object>"
      ]
     },
     "metadata": {},
     "output_type": "display_data"
    },
    {
     "data": {
      "text/html": [
       "<br>    <style><br>        .wandb-row {<br>            display: flex;<br>            flex-direction: row;<br>            flex-wrap: wrap;<br>            justify-content: flex-start;<br>            width: 100%;<br>        }<br>        .wandb-col {<br>            display: flex;<br>            flex-direction: column;<br>            flex-basis: 100%;<br>            flex: 1;<br>            padding: 10px;<br>        }<br>    </style><br><div class=\"wandb-row\"><div class=\"wandb-col\"><h3>Run history:</h3><br/><table class=\"wandb\"><tr><td>best_performance/epoch</td><td>▁▁▁▁▂▂▂▂▂▂▃▄▅▅▆▆▇▇█</td></tr><tr><td>best_performance/problem_classes_f1</td><td>▁▂▃▄▄▅▆▅▆▆▇▇▇▇▇████</td></tr><tr><td>best_performance/val_acc</td><td>▁▄▆▆▆▇▇▇▇▇█████████</td></tr><tr><td>best_performance/val_f1</td><td>▁▄▅▆▆▆▇▇▇▇█████████</td></tr><tr><td>best_performance/val_loss</td><td>█▆▄▄▄▃▃▃▂▂▃▁▂▁▁▁▁▁▁</td></tr><tr><td>fold_1/all_class_0_f1</td><td>▁</td></tr><tr><td>fold_1/all_class_10_f1</td><td>▁</td></tr><tr><td>fold_1/all_class_11_f1</td><td>▁</td></tr><tr><td>fold_1/all_class_12_f1</td><td>▁</td></tr><tr><td>fold_1/all_class_13_f1</td><td>▁</td></tr><tr><td>+23</td><td>...</td></tr></table><br/></div><div class=\"wandb-col\"><h3>Run summary:</h3><br/><table class=\"wandb\"><tr><td>best_performance/epoch</td><td>46</td></tr><tr><td>best_performance/problem_classes_f1</td><td>0.65323</td></tr><tr><td>best_performance/val_acc</td><td>0.92038</td></tr><tr><td>best_performance/val_f1</td><td>0.91997</td></tr><tr><td>best_performance/val_loss</td><td>1.12199</td></tr><tr><td>fold_1/all_class_0_f1</td><td>1</td></tr><tr><td>fold_1/all_class_10_f1</td><td>0.97561</td></tr><tr><td>fold_1/all_class_11_f1</td><td>0.94737</td></tr><tr><td>fold_1/all_class_12_f1</td><td>1</td></tr><tr><td>fold_1/all_class_13_f1</td><td>0.93333</td></tr><tr><td>+24</td><td>...</td></tr></table><br/></div></div>"
      ],
      "text/plain": [
       "<IPython.core.display.HTML object>"
      ]
     },
     "metadata": {},
     "output_type": "display_data"
    },
    {
     "data": {
      "text/html": [
       " View run <strong style=\"color:#cdcd00\">fold-1-efficientnet_b3-0818</strong> at: <a href='https://wandb.ai/kimsunmin0227-hufs/document-classification-team-CV/runs/ngw3vaek' target=\"_blank\">https://wandb.ai/kimsunmin0227-hufs/document-classification-team-CV/runs/ngw3vaek</a><br> View project at: <a href='https://wandb.ai/kimsunmin0227-hufs/document-classification-team-CV' target=\"_blank\">https://wandb.ai/kimsunmin0227-hufs/document-classification-team-CV</a><br>Synced 5 W&B file(s), 1 media file(s), 2 artifact file(s) and 1 other file(s)"
      ],
      "text/plain": [
       "<IPython.core.display.HTML object>"
      ]
     },
     "metadata": {},
     "output_type": "display_data"
    },
    {
     "data": {
      "text/html": [
       "Find logs at: <code>./wandb/run-20250908_081809-ngw3vaek/logs</code>"
      ],
      "text/plain": [
       "<IPython.core.display.HTML object>"
      ]
     },
     "metadata": {},
     "output_type": "display_data"
    },
    {
     "name": "stdout",
     "output_type": "stream",
     "text": [
      "\n",
      "==================================================\n",
      " FOLD 2/5\n",
      "==================================================\n"
     ]
    },
    {
     "data": {
      "text/html": [
       "creating run (0.2s)"
      ],
      "text/plain": [
       "<IPython.core.display.HTML object>"
      ]
     },
     "metadata": {},
     "output_type": "display_data"
    },
    {
     "data": {
      "text/html": [
       "Tracking run with wandb version 0.21.3"
      ],
      "text/plain": [
       "<IPython.core.display.HTML object>"
      ]
     },
     "metadata": {},
     "output_type": "display_data"
    },
    {
     "data": {
      "text/html": [
       "Run data is saved locally in <code>/root/computervisioncompetition-cv-1/mywork/experiments/wandb/run-20250908_083102-cca1333p</code>"
      ],
      "text/plain": [
       "<IPython.core.display.HTML object>"
      ]
     },
     "metadata": {},
     "output_type": "display_data"
    },
    {
     "data": {
      "text/html": [
       "Syncing run <strong><a href='https://wandb.ai/kimsunmin0227-hufs/document-classification-team-CV/runs/cca1333p' target=\"_blank\">fold-2-efficientnet_b3-0831</a></strong> to <a href='https://wandb.ai/kimsunmin0227-hufs/document-classification-team-CV' target=\"_blank\">Weights & Biases</a> (<a href='https://wandb.me/developer-guide' target=\"_blank\">docs</a>)<br>"
      ],
      "text/plain": [
       "<IPython.core.display.HTML object>"
      ]
     },
     "metadata": {},
     "output_type": "display_data"
    },
    {
     "data": {
      "text/html": [
       " View project at <a href='https://wandb.ai/kimsunmin0227-hufs/document-classification-team-CV' target=\"_blank\">https://wandb.ai/kimsunmin0227-hufs/document-classification-team-CV</a>"
      ],
      "text/plain": [
       "<IPython.core.display.HTML object>"
      ]
     },
     "metadata": {},
     "output_type": "display_data"
    },
    {
     "data": {
      "text/html": [
       " View run at <a href='https://wandb.ai/kimsunmin0227-hufs/document-classification-team-CV/runs/cca1333p' target=\"_blank\">https://wandb.ai/kimsunmin0227-hufs/document-classification-team-CV/runs/cca1333p</a>"
      ],
      "text/plain": [
       "<IPython.core.display.HTML object>"
      ]
     },
     "metadata": {},
     "output_type": "display_data"
    },
    {
     "name": "stdout",
     "output_type": "stream",
     "text": [
      "📊 Fold 2 Dashboard: https://wandb.ai/kimsunmin0227-hufs/document-classification-team-CV/runs/cca1333p\n",
      "Train samples: 1256, Validation samples: 314\n",
      " 모델 학습 시작 - Fold 2\n",
      "\n",
      "📈 Epoch 1/50\n"
     ]
    },
    {
     "name": "stderr",
     "output_type": "stream",
     "text": [
      "Loss: 2.9571, Mixup: True, Cutout: False, RandomCrop: False: 100%|██████████| 40/40 [00:13<00:00,  2.87it/s]\n",
      "Val Loss: 1.8545: 100%|██████████| 10/10 [00:01<00:00,  6.29it/s]\n"
     ]
    },
    {
     "name": "stdout",
     "output_type": "stream",
     "text": [
      "  Class 3 F1: 0.2927\n",
      "  Class 7 F1: 0.3590\n",
      "  Class 14 F1: 0.2500\n",
      "  Problem Classes Avg F1: 0.3006\n",
      " Epoch  1 | Train Loss: 2.7729 | Train F1: 0.1998 | Val Loss: 1.7513 | Val F1: 0.6334 | LR: 5.00e-04\n",
      "         Problem Classes (3,7,14) Avg F1: 0.3006 | ✅ Problem classes performing well\n",
      "🎉 새로운 최고 성능! F1: 0.6334 (Problem Classes: 0.3006)\n",
      "\n",
      "📈 Epoch 2/50\n"
     ]
    },
    {
     "name": "stderr",
     "output_type": "stream",
     "text": [
      "Loss: 2.2763, Mixup: True, Cutout: False, RandomCrop: False: 100%|██████████| 40/40 [00:13<00:00,  2.88it/s]\n",
      "Val Loss: 1.5298: 100%|██████████| 10/10 [00:01<00:00,  6.66it/s]\n"
     ]
    },
    {
     "name": "stdout",
     "output_type": "stream",
     "text": [
      "  Class 3 F1: 0.5000\n",
      "  Class 7 F1: 0.1304\n",
      "  Class 14 F1: 0.0952\n",
      "  Problem Classes Avg F1: 0.2419\n",
      " Epoch  2 | Train Loss: 2.0980 | Train F1: 0.4096 | Val Loss: 1.5216 | Val F1: 0.7094 | LR: 5.00e-04\n",
      "         Problem Classes (3,7,14) Avg F1: 0.2419 | ⚠️ Problem classes need attention\n",
      "🎉 새로운 최고 성능! F1: 0.7094 (Problem Classes: 0.2419)\n",
      "\n",
      "📈 Epoch 3/50\n"
     ]
    },
    {
     "name": "stderr",
     "output_type": "stream",
     "text": [
      "Loss: 1.5340, Mixup: True, Cutout: False, RandomCrop: False: 100%|██████████| 40/40 [00:13<00:00,  2.89it/s]\n",
      "Val Loss: 1.7867: 100%|██████████| 10/10 [00:01<00:00,  6.72it/s]\n"
     ]
    },
    {
     "name": "stdout",
     "output_type": "stream",
     "text": [
      "  Class 3 F1: 0.1429\n",
      "  Class 7 F1: 0.3953\n",
      "  Class 14 F1: 0.2500\n",
      "  Problem Classes Avg F1: 0.2627\n",
      " Epoch  3 | Train Loss: 1.9382 | Train F1: 0.4098 | Val Loss: 1.5093 | Val F1: 0.7202 | LR: 4.98e-04\n",
      "         Problem Classes (3,7,14) Avg F1: 0.2627 | ⚠️ Problem classes need attention\n",
      "🎉 새로운 최고 성능! F1: 0.7202 (Problem Classes: 0.2627)\n",
      "\n",
      "📈 Epoch 4/50\n"
     ]
    },
    {
     "name": "stderr",
     "output_type": "stream",
     "text": [
      "Loss: 1.9530, Mixup: True, Cutout: False, RandomCrop: False: 100%|██████████| 40/40 [00:13<00:00,  2.86it/s]\n",
      "Val Loss: 1.7010: 100%|██████████| 10/10 [00:01<00:00,  6.69it/s]\n"
     ]
    },
    {
     "name": "stdout",
     "output_type": "stream",
     "text": [
      "  Class 3 F1: 0.2400\n",
      "  Class 7 F1: 0.4045\n",
      "  Class 14 F1: 0.3810\n",
      "  Problem Classes Avg F1: 0.3418\n",
      " Epoch  4 | Train Loss: 1.8196 | Train F1: 0.5124 | Val Loss: 1.4310 | Val F1: 0.7365 | LR: 4.96e-04\n",
      "         Problem Classes (3,7,14) Avg F1: 0.3418 | ⚠️ Problem classes need attention\n",
      "🎉 새로운 최고 성능! F1: 0.7365 (Problem Classes: 0.3418)\n",
      "\n",
      "📈 Epoch 5/50\n"
     ]
    },
    {
     "name": "stderr",
     "output_type": "stream",
     "text": [
      "Loss: 2.1505, Mixup: True, Cutout: False, RandomCrop: False: 100%|██████████| 40/40 [00:13<00:00,  2.93it/s]\n",
      "Val Loss: 1.6092: 100%|██████████| 10/10 [00:01<00:00,  6.70it/s]\n"
     ]
    },
    {
     "name": "stdout",
     "output_type": "stream",
     "text": [
      "  Class 3 F1: 0.3571\n",
      "  Class 7 F1: 0.4286\n",
      "  Class 14 F1: 0.3478\n",
      "  Problem Classes Avg F1: 0.3778\n",
      " Epoch  5 | Train Loss: 1.8109 | Train F1: 0.5195 | Val Loss: 1.3638 | Val F1: 0.8107 | LR: 4.92e-04\n",
      "         Problem Classes (3,7,14) Avg F1: 0.3778 | ⚠️ Problem classes need attention\n",
      "🎉 새로운 최고 성능! F1: 0.8107 (Problem Classes: 0.3778)\n",
      "\n",
      "📈 Epoch 6/50\n"
     ]
    },
    {
     "name": "stderr",
     "output_type": "stream",
     "text": [
      "Loss: 2.1431, Mixup: True, Cutout: False, RandomCrop: False: 100%|██████████| 40/40 [00:13<00:00,  2.93it/s]\n",
      "Val Loss: 1.4172: 100%|██████████| 10/10 [00:01<00:00,  6.67it/s]\n"
     ]
    },
    {
     "name": "stdout",
     "output_type": "stream",
     "text": [
      "  Class 3 F1: 0.5714\n",
      "  Class 7 F1: 0.2069\n",
      "  Class 14 F1: 0.1538\n",
      "  Problem Classes Avg F1: 0.3107\n",
      " Epoch  6 | Train Loss: 1.6555 | Train F1: 0.6634 | Val Loss: 1.2939 | Val F1: 0.8514 | LR: 4.88e-04\n",
      "         Problem Classes (3,7,14) Avg F1: 0.3107 | ⚠️ Problem classes need attention\n",
      "🎉 새로운 최고 성능! F1: 0.8514 (Problem Classes: 0.3107)\n",
      "\n",
      "📈 Epoch 7/50\n"
     ]
    },
    {
     "name": "stderr",
     "output_type": "stream",
     "text": [
      "Loss: 1.1238, Mixup: False, Cutout: True, RandomCrop: False: 100%|██████████| 40/40 [00:13<00:00,  2.88it/s]\n",
      "Val Loss: 1.6274: 100%|██████████| 10/10 [00:01<00:00,  6.72it/s]\n"
     ]
    },
    {
     "name": "stdout",
     "output_type": "stream",
     "text": [
      "  Class 3 F1: 0.0909\n",
      "  Class 7 F1: 0.4524\n",
      "  Class 14 F1: 0.1667\n",
      "  Problem Classes Avg F1: 0.2367\n",
      " Epoch  7 | Train Loss: 1.5215 | Train F1: 0.7141 | Val Loss: 1.3253 | Val F1: 0.8152 | LR: 4.82e-04\n",
      "         Problem Classes (3,7,14) Avg F1: 0.2367 | ⚠️ Problem classes need attention\n",
      "\n",
      "📈 Epoch 8/50\n"
     ]
    },
    {
     "name": "stderr",
     "output_type": "stream",
     "text": [
      "Loss: 1.5401, Mixup: False, Cutout: True, RandomCrop: False: 100%|██████████| 40/40 [00:14<00:00,  2.84it/s]\n",
      "Val Loss: 1.5628: 100%|██████████| 10/10 [00:01<00:00,  6.29it/s]\n"
     ]
    },
    {
     "name": "stdout",
     "output_type": "stream",
     "text": [
      "  Class 3 F1: 0.0952\n",
      "  Class 7 F1: 0.5312\n",
      "  Class 14 F1: 0.4375\n",
      "  Problem Classes Avg F1: 0.3547\n",
      " Epoch  8 | Train Loss: 1.5794 | Train F1: 0.6529 | Val Loss: 1.3161 | Val F1: 0.8300 | LR: 4.76e-04\n",
      "         Problem Classes (3,7,14) Avg F1: 0.3547 | ⚠️ Problem classes need attention\n",
      "\n",
      "📈 Epoch 9/50\n"
     ]
    },
    {
     "name": "stderr",
     "output_type": "stream",
     "text": [
      "Loss: 2.1297, Mixup: True, Cutout: False, RandomCrop: False: 100%|██████████| 40/40 [00:14<00:00,  2.80it/s]\n",
      "Val Loss: 1.5911: 100%|██████████| 10/10 [00:01<00:00,  6.70it/s]\n"
     ]
    },
    {
     "name": "stdout",
     "output_type": "stream",
     "text": [
      "  Class 3 F1: 0.1739\n",
      "  Class 7 F1: 0.4819\n",
      "  Class 14 F1: 0.1818\n",
      "  Problem Classes Avg F1: 0.2792\n",
      " Epoch  9 | Train Loss: 1.6513 | Train F1: 0.6217 | Val Loss: 1.2933 | Val F1: 0.8192 | LR: 4.69e-04\n",
      "         Problem Classes (3,7,14) Avg F1: 0.2792 | ⚠️ Problem classes need attention\n",
      "\n",
      "📈 Epoch 10/50\n"
     ]
    },
    {
     "name": "stderr",
     "output_type": "stream",
     "text": [
      "Loss: 1.3822, Mixup: False, Cutout: False, RandomCrop: True: 100%|██████████| 40/40 [00:13<00:00,  2.88it/s]\n",
      "Val Loss: 1.5327: 100%|██████████| 10/10 [00:01<00:00,  6.30it/s]\n"
     ]
    },
    {
     "name": "stdout",
     "output_type": "stream",
     "text": [
      "  Class 3 F1: 0.5882\n",
      "  Class 7 F1: 0.4167\n",
      "  Class 14 F1: 0.1818\n",
      "  Problem Classes Avg F1: 0.3956\n",
      " Epoch 10 | Train Loss: 1.6097 | Train F1: 0.6535 | Val Loss: 1.2408 | Val F1: 0.8601 | LR: 4.61e-04\n",
      "         Problem Classes (3,7,14) Avg F1: 0.3956 | ⚠️ Problem classes need attention\n",
      "🎉 새로운 최고 성능! F1: 0.8601 (Problem Classes: 0.3956)\n",
      "\n",
      "📈 Epoch 11/50\n"
     ]
    },
    {
     "name": "stderr",
     "output_type": "stream",
     "text": [
      "Loss: 1.9822, Mixup: True, Cutout: False, RandomCrop: False: 100%|██████████| 40/40 [00:14<00:00,  2.84it/s]\n",
      "Val Loss: 1.4502: 100%|██████████| 10/10 [00:01<00:00,  6.30it/s]\n"
     ]
    },
    {
     "name": "stdout",
     "output_type": "stream",
     "text": [
      "  Class 3 F1: 0.6939\n",
      "  Class 7 F1: 0.5532\n",
      "  Class 14 F1: 0.4000\n",
      "  Problem Classes Avg F1: 0.5490\n",
      " Epoch 11 | Train Loss: 1.5100 | Train F1: 0.6444 | Val Loss: 1.1818 | Val F1: 0.8930 | LR: 4.52e-04\n",
      "         Problem Classes (3,7,14) Avg F1: 0.5490 | ⚠️ Problem classes need attention\n",
      "🎉 새로운 최고 성능! F1: 0.8930 (Problem Classes: 0.5490)\n",
      "\n",
      "📈 Epoch 12/50\n"
     ]
    },
    {
     "name": "stderr",
     "output_type": "stream",
     "text": [
      "Loss: 1.0613, Mixup: False, Cutout: True, RandomCrop: False: 100%|██████████| 40/40 [00:13<00:00,  2.86it/s]\n",
      "Val Loss: 1.5578: 100%|██████████| 10/10 [00:01<00:00,  6.72it/s]\n"
     ]
    },
    {
     "name": "stdout",
     "output_type": "stream",
     "text": [
      "  Class 3 F1: 0.7083\n",
      "  Class 7 F1: 0.5600\n",
      "  Class 14 F1: 0.3333\n",
      "  Problem Classes Avg F1: 0.5339\n",
      " Epoch 12 | Train Loss: 1.3916 | Train F1: 0.7342 | Val Loss: 1.2300 | Val F1: 0.8881 | LR: 4.43e-04\n",
      "         Problem Classes (3,7,14) Avg F1: 0.5339 | ⚠️ Problem classes need attention\n",
      "\n",
      "📈 Epoch 13/50\n"
     ]
    },
    {
     "name": "stderr",
     "output_type": "stream",
     "text": [
      "Loss: 1.3883, Mixup: False, Cutout: False, RandomCrop: True: 100%|██████████| 40/40 [00:13<00:00,  2.90it/s]\n",
      "Val Loss: 1.4344: 100%|██████████| 10/10 [00:01<00:00,  6.66it/s]\n"
     ]
    },
    {
     "name": "stdout",
     "output_type": "stream",
     "text": [
      "  Class 3 F1: 0.6296\n",
      "  Class 7 F1: 0.3684\n",
      "  Class 14 F1: 0.3077\n",
      "  Problem Classes Avg F1: 0.4352\n",
      " Epoch 13 | Train Loss: 1.4688 | Train F1: 0.7800 | Val Loss: 1.2190 | Val F1: 0.8799 | LR: 4.32e-04\n",
      "         Problem Classes (3,7,14) Avg F1: 0.4352 | ⚠️ Problem classes need attention\n",
      "\n",
      "📈 Epoch 14/50\n"
     ]
    },
    {
     "name": "stderr",
     "output_type": "stream",
     "text": [
      "Loss: 1.0447, Mixup: False, Cutout: True, RandomCrop: False: 100%|██████████| 40/40 [00:13<00:00,  2.88it/s]\n",
      "Val Loss: 1.4877: 100%|██████████| 10/10 [00:01<00:00,  6.75it/s]\n"
     ]
    },
    {
     "name": "stdout",
     "output_type": "stream",
     "text": [
      "  Class 3 F1: 0.6857\n",
      "  Class 7 F1: 0.6667\n",
      "  Class 14 F1: 0.3077\n",
      "  Problem Classes Avg F1: 0.5534\n",
      " Epoch 14 | Train Loss: 1.4297 | Train F1: 0.7261 | Val Loss: 1.2107 | Val F1: 0.9037 | LR: 4.21e-04\n",
      "         Problem Classes (3,7,14) Avg F1: 0.5534 | ⚠️ Problem classes need attention\n",
      "🎉 새로운 최고 성능! F1: 0.9037 (Problem Classes: 0.5534)\n",
      "\n",
      "📈 Epoch 15/50\n"
     ]
    },
    {
     "name": "stderr",
     "output_type": "stream",
     "text": [
      "Loss: 1.1020, Mixup: False, Cutout: False, RandomCrop: True: 100%|██████████| 40/40 [00:14<00:00,  2.82it/s]\n",
      "Val Loss: 1.2869: 100%|██████████| 10/10 [00:01<00:00,  6.69it/s]\n"
     ]
    },
    {
     "name": "stdout",
     "output_type": "stream",
     "text": [
      "  Class 3 F1: 0.6545\n",
      "  Class 7 F1: 0.4706\n",
      "  Class 14 F1: 0.4000\n",
      "  Problem Classes Avg F1: 0.5084\n",
      " Epoch 15 | Train Loss: 1.4840 | Train F1: 0.6454 | Val Loss: 1.2157 | Val F1: 0.9003 | LR: 4.09e-04\n",
      "         Problem Classes (3,7,14) Avg F1: 0.5084 | ⚠️ Problem classes need attention\n",
      "\n",
      "📈 Epoch 16/50\n"
     ]
    },
    {
     "name": "stderr",
     "output_type": "stream",
     "text": [
      "Loss: 1.4532, Mixup: True, Cutout: False, RandomCrop: False: 100%|██████████| 40/40 [00:13<00:00,  2.95it/s]\n",
      "Val Loss: 1.2239: 100%|██████████| 10/10 [00:01<00:00,  6.64it/s]\n"
     ]
    },
    {
     "name": "stdout",
     "output_type": "stream",
     "text": [
      "  Class 3 F1: 0.6441\n",
      "  Class 7 F1: 0.3448\n",
      "  Class 14 F1: 0.5000\n",
      "  Problem Classes Avg F1: 0.4963\n",
      " Epoch 16 | Train Loss: 1.4261 | Train F1: 0.6559 | Val Loss: 1.2155 | Val F1: 0.8947 | LR: 3.97e-04\n",
      "         Problem Classes (3,7,14) Avg F1: 0.4963 | ⚠️ Problem classes need attention\n",
      "\n",
      "📈 Epoch 17/50\n"
     ]
    },
    {
     "name": "stderr",
     "output_type": "stream",
     "text": [
      "Loss: 1.7652, Mixup: True, Cutout: False, RandomCrop: False: 100%|██████████| 40/40 [00:13<00:00,  2.86it/s]\n",
      "Val Loss: 1.2629: 100%|██████████| 10/10 [00:01<00:00,  6.70it/s]\n"
     ]
    },
    {
     "name": "stdout",
     "output_type": "stream",
     "text": [
      "  Class 3 F1: 0.6296\n",
      "  Class 7 F1: 0.4571\n",
      "  Class 14 F1: 0.4706\n",
      "  Problem Classes Avg F1: 0.5191\n",
      " Epoch 17 | Train Loss: 1.4183 | Train F1: 0.7108 | Val Loss: 1.1914 | Val F1: 0.8994 | LR: 3.84e-04\n",
      "         Problem Classes (3,7,14) Avg F1: 0.5191 | ⚠️ Problem classes need attention\n",
      "\n",
      "📈 Epoch 18/50\n"
     ]
    },
    {
     "name": "stderr",
     "output_type": "stream",
     "text": [
      "Loss: 1.7447, Mixup: True, Cutout: False, RandomCrop: False: 100%|██████████| 40/40 [00:13<00:00,  2.90it/s]\n",
      "Val Loss: 1.2492: 100%|██████████| 10/10 [00:01<00:00,  6.78it/s]\n"
     ]
    },
    {
     "name": "stdout",
     "output_type": "stream",
     "text": [
      "  Class 3 F1: 0.6545\n",
      "  Class 7 F1: 0.5000\n",
      "  Class 14 F1: 0.4706\n",
      "  Problem Classes Avg F1: 0.5417\n",
      " Epoch 18 | Train Loss: 1.4389 | Train F1: 0.6873 | Val Loss: 1.1961 | Val F1: 0.9095 | LR: 3.70e-04\n",
      "         Problem Classes (3,7,14) Avg F1: 0.5417 | ⚠️ Problem classes need attention\n",
      "🎉 새로운 최고 성능! F1: 0.9095 (Problem Classes: 0.5417)\n",
      "\n",
      "📈 Epoch 19/50\n"
     ]
    },
    {
     "name": "stderr",
     "output_type": "stream",
     "text": [
      "Loss: 0.9190, Mixup: False, Cutout: True, RandomCrop: False: 100%|██████████| 40/40 [00:13<00:00,  2.99it/s]\n",
      "Val Loss: 1.4560: 100%|██████████| 10/10 [00:01<00:00,  6.73it/s]\n"
     ]
    },
    {
     "name": "stdout",
     "output_type": "stream",
     "text": [
      "  Class 3 F1: 0.6047\n",
      "  Class 7 F1: 0.4000\n",
      "  Class 14 F1: 0.5263\n",
      "  Problem Classes Avg F1: 0.5103\n",
      " Epoch 19 | Train Loss: 1.3789 | Train F1: 0.6607 | Val Loss: 1.2072 | Val F1: 0.8910 | LR: 3.56e-04\n",
      "         Problem Classes (3,7,14) Avg F1: 0.5103 | ⚠️ Problem classes need attention\n",
      "\n",
      "📈 Epoch 20/50\n"
     ]
    },
    {
     "name": "stderr",
     "output_type": "stream",
     "text": [
      "Loss: 1.7759, Mixup: True, Cutout: False, RandomCrop: False: 100%|██████████| 40/40 [00:13<00:00,  2.92it/s]\n",
      "Val Loss: 1.3464: 100%|██████████| 10/10 [00:01<00:00,  6.36it/s]\n"
     ]
    },
    {
     "name": "stdout",
     "output_type": "stream",
     "text": [
      "  Class 3 F1: 0.6102\n",
      "  Class 7 F1: 0.2500\n",
      "  Class 14 F1: 0.5000\n",
      "  Problem Classes Avg F1: 0.4534\n",
      " Epoch 20 | Train Loss: 1.3828 | Train F1: 0.7591 | Val Loss: 1.2576 | Val F1: 0.8905 | LR: 3.42e-04\n",
      "         Problem Classes (3,7,14) Avg F1: 0.4534 | ⚠️ Problem classes need attention\n",
      "\n",
      "📈 Epoch 21/50\n"
     ]
    },
    {
     "name": "stderr",
     "output_type": "stream",
     "text": [
      "Loss: 2.1114, Mixup: True, Cutout: False, RandomCrop: False: 100%|██████████| 40/40 [00:13<00:00,  2.92it/s]\n",
      "Val Loss: 1.3313: 100%|██████████| 10/10 [00:01<00:00,  6.70it/s]\n"
     ]
    },
    {
     "name": "stdout",
     "output_type": "stream",
     "text": [
      "  Class 3 F1: 0.6429\n",
      "  Class 7 F1: 0.2963\n",
      "  Class 14 F1: 0.5714\n",
      "  Problem Classes Avg F1: 0.5035\n",
      " Epoch 21 | Train Loss: 1.3762 | Train F1: 0.7587 | Val Loss: 1.2162 | Val F1: 0.8936 | LR: 3.27e-04\n",
      "         Problem Classes (3,7,14) Avg F1: 0.5035 | ⚠️ Problem classes need attention\n",
      "\n",
      "📈 Epoch 22/50\n"
     ]
    },
    {
     "name": "stderr",
     "output_type": "stream",
     "text": [
      "Loss: 0.9999, Mixup: False, Cutout: True, RandomCrop: False: 100%|██████████| 40/40 [00:13<00:00,  2.88it/s]\n",
      "Val Loss: 1.1645: 100%|██████████| 10/10 [00:01<00:00,  6.70it/s]\n"
     ]
    },
    {
     "name": "stdout",
     "output_type": "stream",
     "text": [
      "  Class 3 F1: 0.6667\n",
      "  Class 7 F1: 0.3077\n",
      "  Class 14 F1: 0.5833\n",
      "  Problem Classes Avg F1: 0.5192\n",
      " Epoch 22 | Train Loss: 1.3413 | Train F1: 0.7530 | Val Loss: 1.2027 | Val F1: 0.8972 | LR: 3.12e-04\n",
      "         Problem Classes (3,7,14) Avg F1: 0.5192 | ⚠️ Problem classes need attention\n",
      "\n",
      "📈 Epoch 23/50\n"
     ]
    },
    {
     "name": "stderr",
     "output_type": "stream",
     "text": [
      "Loss: 1.3274, Mixup: False, Cutout: True, RandomCrop: False: 100%|██████████| 40/40 [00:13<00:00,  2.92it/s]\n",
      "Val Loss: 1.0880: 100%|██████████| 10/10 [00:01<00:00,  6.65it/s]\n"
     ]
    },
    {
     "name": "stdout",
     "output_type": "stream",
     "text": [
      "  Class 3 F1: 0.6333\n",
      "  Class 7 F1: 0.3077\n",
      "  Class 14 F1: 0.7000\n",
      "  Problem Classes Avg F1: 0.5470\n",
      " Epoch 23 | Train Loss: 1.3017 | Train F1: 0.8384 | Val Loss: 1.2142 | Val F1: 0.9074 | LR: 2.97e-04\n",
      "         Problem Classes (3,7,14) Avg F1: 0.5470 | ⚠️ Problem classes need attention\n",
      "\n",
      "📈 Epoch 24/50\n"
     ]
    },
    {
     "name": "stderr",
     "output_type": "stream",
     "text": [
      "Loss: 1.1867, Mixup: False, Cutout: True, RandomCrop: False: 100%|██████████| 40/40 [00:13<00:00,  2.97it/s]\n",
      "Val Loss: 1.2476: 100%|██████████| 10/10 [00:01<00:00,  6.71it/s]\n"
     ]
    },
    {
     "name": "stdout",
     "output_type": "stream",
     "text": [
      "  Class 3 F1: 0.6667\n",
      "  Class 7 F1: 0.5581\n",
      "  Class 14 F1: 0.6667\n",
      "  Problem Classes Avg F1: 0.6305\n",
      " Epoch 24 | Train Loss: 1.3452 | Train F1: 0.6878 | Val Loss: 1.1288 | Val F1: 0.9208 | LR: 2.81e-04\n",
      "         Problem Classes (3,7,14) Avg F1: 0.6305 | ⚠️ Problem classes need attention\n",
      "🎉 새로운 최고 성능! F1: 0.9208 (Problem Classes: 0.6305)\n",
      "\n",
      "📈 Epoch 25/50\n"
     ]
    },
    {
     "name": "stderr",
     "output_type": "stream",
     "text": [
      "Loss: 1.7961, Mixup: True, Cutout: False, RandomCrop: False: 100%|██████████| 40/40 [00:13<00:00,  2.92it/s]\n",
      "Val Loss: 1.5012: 100%|██████████| 10/10 [00:01<00:00,  6.74it/s]\n"
     ]
    },
    {
     "name": "stdout",
     "output_type": "stream",
     "text": [
      "  Class 3 F1: 0.4571\n",
      "  Class 7 F1: 0.5091\n",
      "  Class 14 F1: 0.5000\n",
      "  Problem Classes Avg F1: 0.4887\n",
      " Epoch 25 | Train Loss: 1.2973 | Train F1: 0.7873 | Val Loss: 1.2002 | Val F1: 0.8940 | LR: 2.66e-04\n",
      "         Problem Classes (3,7,14) Avg F1: 0.4887 | ⚠️ Problem classes need attention\n",
      "\n",
      "📈 Epoch 26/50\n"
     ]
    },
    {
     "name": "stderr",
     "output_type": "stream",
     "text": [
      "Loss: 0.9295, Mixup: False, Cutout: False, RandomCrop: True: 100%|██████████| 40/40 [00:13<00:00,  2.90it/s]\n",
      "Val Loss: 1.3594: 100%|██████████| 10/10 [00:01<00:00,  6.71it/s]\n"
     ]
    },
    {
     "name": "stdout",
     "output_type": "stream",
     "text": [
      "  Class 3 F1: 0.6333\n",
      "  Class 7 F1: 0.4138\n",
      "  Class 14 F1: 0.5000\n",
      "  Problem Classes Avg F1: 0.5157\n",
      " Epoch 26 | Train Loss: 1.3080 | Train F1: 0.7286 | Val Loss: 1.2167 | Val F1: 0.9004 | LR: 2.50e-04\n",
      "         Problem Classes (3,7,14) Avg F1: 0.5157 | ⚠️ Problem classes need attention\n",
      "\n",
      "📈 Epoch 27/50\n"
     ]
    },
    {
     "name": "stderr",
     "output_type": "stream",
     "text": [
      "Loss: 0.9393, Mixup: False, Cutout: False, RandomCrop: True: 100%|██████████| 40/40 [00:13<00:00,  2.92it/s]\n",
      "Val Loss: 1.3484: 100%|██████████| 10/10 [00:01<00:00,  6.74it/s]\n"
     ]
    },
    {
     "name": "stdout",
     "output_type": "stream",
     "text": [
      "  Class 3 F1: 0.6667\n",
      "  Class 7 F1: 0.4375\n",
      "  Class 14 F1: 0.4706\n",
      "  Problem Classes Avg F1: 0.5249\n",
      " Epoch 27 | Train Loss: 1.3325 | Train F1: 0.7268 | Val Loss: 1.1673 | Val F1: 0.9052 | LR: 2.34e-04\n",
      "         Problem Classes (3,7,14) Avg F1: 0.5249 | ⚠️ Problem classes need attention\n",
      "\n",
      "📈 Epoch 28/50\n"
     ]
    },
    {
     "name": "stderr",
     "output_type": "stream",
     "text": [
      "Loss: 1.1491, Mixup: False, Cutout: True, RandomCrop: False: 100%|██████████| 40/40 [00:13<00:00,  2.90it/s]\n",
      "Val Loss: 1.2637: 100%|██████████| 10/10 [00:01<00:00,  6.74it/s]\n"
     ]
    },
    {
     "name": "stdout",
     "output_type": "stream",
     "text": [
      "  Class 3 F1: 0.6207\n",
      "  Class 7 F1: 0.3571\n",
      "  Class 14 F1: 0.4706\n",
      "  Problem Classes Avg F1: 0.4828\n",
      " Epoch 28 | Train Loss: 1.3075 | Train F1: 0.7148 | Val Loss: 1.1984 | Val F1: 0.8977 | LR: 2.19e-04\n",
      "         Problem Classes (3,7,14) Avg F1: 0.4828 | ⚠️ Problem classes need attention\n",
      "\n",
      "📈 Epoch 29/50\n"
     ]
    },
    {
     "name": "stderr",
     "output_type": "stream",
     "text": [
      "Loss: 1.9578, Mixup: True, Cutout: False, RandomCrop: False: 100%|██████████| 40/40 [00:13<00:00,  2.95it/s]\n",
      "Val Loss: 1.2453: 100%|██████████| 10/10 [00:01<00:00,  6.70it/s]\n"
     ]
    },
    {
     "name": "stdout",
     "output_type": "stream",
     "text": [
      "  Class 3 F1: 0.6545\n",
      "  Class 7 F1: 0.3871\n",
      "  Class 14 F1: 0.4706\n",
      "  Problem Classes Avg F1: 0.5041\n",
      " Epoch 29 | Train Loss: 1.3606 | Train F1: 0.7843 | Val Loss: 1.1730 | Val F1: 0.8985 | LR: 2.03e-04\n",
      "         Problem Classes (3,7,14) Avg F1: 0.5041 | ⚠️ Problem classes need attention\n",
      "\n",
      "📈 Epoch 30/50\n"
     ]
    },
    {
     "name": "stderr",
     "output_type": "stream",
     "text": [
      "Loss: 1.3363, Mixup: True, Cutout: False, RandomCrop: False: 100%|██████████| 40/40 [00:13<00:00,  2.90it/s]\n",
      "Val Loss: 1.2172: 100%|██████████| 10/10 [00:01<00:00,  6.65it/s]\n"
     ]
    },
    {
     "name": "stdout",
     "output_type": "stream",
     "text": [
      "  Class 3 F1: 0.6400\n",
      "  Class 7 F1: 0.5263\n",
      "  Class 14 F1: 0.5000\n",
      "  Problem Classes Avg F1: 0.5554\n",
      " Epoch 30 | Train Loss: 1.2499 | Train F1: 0.8344 | Val Loss: 1.1577 | Val F1: 0.9090 | LR: 1.88e-04\n",
      "         Problem Classes (3,7,14) Avg F1: 0.5554 | ⚠️ Problem classes need attention\n",
      "\n",
      "📈 Epoch 31/50\n"
     ]
    },
    {
     "name": "stderr",
     "output_type": "stream",
     "text": [
      "Loss: 1.1743, Mixup: False, Cutout: False, RandomCrop: True: 100%|██████████| 40/40 [00:13<00:00,  2.91it/s]\n",
      "Val Loss: 1.1404: 100%|██████████| 10/10 [00:01<00:00,  6.70it/s]"
     ]
    },
    {
     "name": "stdout",
     "output_type": "stream",
     "text": [
      "  Class 3 F1: 0.6538\n",
      "  Class 7 F1: 0.5455\n",
      "  Class 14 F1: 0.5263\n",
      "  Problem Classes Avg F1: 0.5752\n",
      " Epoch 31 | Train Loss: 1.3329 | Train F1: 0.7074 | Val Loss: 1.1361 | Val F1: 0.9124 | LR: 1.73e-04\n",
      "         Problem Classes (3,7,14) Avg F1: 0.5752 | ⚠️ Problem classes need attention\n",
      "⏸️ Early stopping at epoch 31 (patience: 7)\n",
      "\n",
      " Fold 2 완료!\n",
      " 최고 Validation F1: 0.9208\n",
      " 학습된 에폭: 31/50\n"
     ]
    },
    {
     "name": "stderr",
     "output_type": "stream",
     "text": [
      "\n"
     ]
    },
    {
     "data": {
      "text/html": [],
      "text/plain": [
       "<IPython.core.display.HTML object>"
      ]
     },
     "metadata": {},
     "output_type": "display_data"
    },
    {
     "data": {
      "text/html": [
       "<br>    <style><br>        .wandb-row {<br>            display: flex;<br>            flex-direction: row;<br>            flex-wrap: wrap;<br>            justify-content: flex-start;<br>            width: 100%;<br>        }<br>        .wandb-col {<br>            display: flex;<br>            flex-direction: column;<br>            flex-basis: 100%;<br>            flex: 1;<br>            padding: 10px;<br>        }<br>    </style><br><div class=\"wandb-row\"><div class=\"wandb-col\"><h3>Run history:</h3><br/><table class=\"wandb\"><tr><td>best_performance/epoch</td><td>▁▁▂▂▂▃▄▄▅▆█</td></tr><tr><td>best_performance/problem_classes_f1</td><td>▂▁▁▃▃▂▄▇▇▆█</td></tr><tr><td>best_performance/val_acc</td><td>▁▃▃▄▅▇▇▇███</td></tr><tr><td>best_performance/val_f1</td><td>▁▃▃▄▅▆▇▇███</td></tr><tr><td>best_performance/val_loss</td><td>█▅▅▄▄▃▂▂▂▂▁</td></tr><tr><td>early_stopping/epoch</td><td>▁</td></tr><tr><td>fold_2/class_14_f1</td><td>▃▁▃▄▄▂▂▅▂▂▅▄▃▃▅▆▅▅▆▆▇▇██▆▆▅▅▅▆▆</td></tr><tr><td>fold_2/class_3_f1</td><td>▃▆▂▃▄▆▁▁▂▇██▇█▇▇▇▇▇▇▇█▇█▅▇█▇▇▇▇</td></tr><tr><td>fold_2/class_7_f1</td><td>▄▁▄▅▅▂▅▆▆▅▇▇▄█▅▄▅▆▅▃▃▃▃▇▆▅▅▄▄▆▆</td></tr><tr><td>fold_2/problem_classes_avg_f1</td><td>▂▁▁▃▄▂▁▃▂▄▇▆▅▇▆▆▆▆▆▅▆▆▇█▅▆▆▅▆▇▇</td></tr><tr><td>+7</td><td>...</td></tr></table><br/></div><div class=\"wandb-col\"><h3>Run summary:</h3><br/><table class=\"wandb\"><tr><td>best_performance/epoch</td><td>24</td></tr><tr><td>best_performance/problem_classes_f1</td><td>0.63049</td></tr><tr><td>best_performance/val_acc</td><td>0.92357</td></tr><tr><td>best_performance/val_f1</td><td>0.92077</td></tr><tr><td>best_performance/val_loss</td><td>1.12884</td></tr><tr><td>early_stopping/epoch</td><td>31</td></tr><tr><td>fold_2/class_14_f1</td><td>0.52632</td></tr><tr><td>fold_2/class_3_f1</td><td>0.65385</td></tr><tr><td>fold_2/class_7_f1</td><td>0.54545</td></tr><tr><td>fold_2/problem_classes_avg_f1</td><td>0.57521</td></tr><tr><td>+8</td><td>...</td></tr></table><br/></div></div>"
      ],
      "text/plain": [
       "<IPython.core.display.HTML object>"
      ]
     },
     "metadata": {},
     "output_type": "display_data"
    },
    {
     "data": {
      "text/html": [
       " View run <strong style=\"color:#cdcd00\">fold-2-efficientnet_b3-0831</strong> at: <a href='https://wandb.ai/kimsunmin0227-hufs/document-classification-team-CV/runs/cca1333p' target=\"_blank\">https://wandb.ai/kimsunmin0227-hufs/document-classification-team-CV/runs/cca1333p</a><br> View project at: <a href='https://wandb.ai/kimsunmin0227-hufs/document-classification-team-CV' target=\"_blank\">https://wandb.ai/kimsunmin0227-hufs/document-classification-team-CV</a><br>Synced 5 W&B file(s), 0 media file(s), 0 artifact file(s) and 1 other file(s)"
      ],
      "text/plain": [
       "<IPython.core.display.HTML object>"
      ]
     },
     "metadata": {},
     "output_type": "display_data"
    },
    {
     "data": {
      "text/html": [
       "Find logs at: <code>./wandb/run-20250908_083102-cca1333p/logs</code>"
      ],
      "text/plain": [
       "<IPython.core.display.HTML object>"
      ]
     },
     "metadata": {},
     "output_type": "display_data"
    },
    {
     "name": "stdout",
     "output_type": "stream",
     "text": [
      "\n",
      "==================================================\n",
      " FOLD 3/5\n",
      "==================================================\n"
     ]
    },
    {
     "data": {
      "text/html": [
       "creating run (0.2s)"
      ],
      "text/plain": [
       "<IPython.core.display.HTML object>"
      ]
     },
     "metadata": {},
     "output_type": "display_data"
    },
    {
     "data": {
      "text/html": [
       "Tracking run with wandb version 0.21.3"
      ],
      "text/plain": [
       "<IPython.core.display.HTML object>"
      ]
     },
     "metadata": {},
     "output_type": "display_data"
    },
    {
     "data": {
      "text/html": [
       "Run data is saved locally in <code>/root/computervisioncompetition-cv-1/mywork/experiments/wandb/run-20250908_083901-v887zt6s</code>"
      ],
      "text/plain": [
       "<IPython.core.display.HTML object>"
      ]
     },
     "metadata": {},
     "output_type": "display_data"
    },
    {
     "data": {
      "text/html": [
       "Syncing run <strong><a href='https://wandb.ai/kimsunmin0227-hufs/document-classification-team-CV/runs/v887zt6s' target=\"_blank\">fold-3-efficientnet_b3-0839</a></strong> to <a href='https://wandb.ai/kimsunmin0227-hufs/document-classification-team-CV' target=\"_blank\">Weights & Biases</a> (<a href='https://wandb.me/developer-guide' target=\"_blank\">docs</a>)<br>"
      ],
      "text/plain": [
       "<IPython.core.display.HTML object>"
      ]
     },
     "metadata": {},
     "output_type": "display_data"
    },
    {
     "data": {
      "text/html": [
       " View project at <a href='https://wandb.ai/kimsunmin0227-hufs/document-classification-team-CV' target=\"_blank\">https://wandb.ai/kimsunmin0227-hufs/document-classification-team-CV</a>"
      ],
      "text/plain": [
       "<IPython.core.display.HTML object>"
      ]
     },
     "metadata": {},
     "output_type": "display_data"
    },
    {
     "data": {
      "text/html": [
       " View run at <a href='https://wandb.ai/kimsunmin0227-hufs/document-classification-team-CV/runs/v887zt6s' target=\"_blank\">https://wandb.ai/kimsunmin0227-hufs/document-classification-team-CV/runs/v887zt6s</a>"
      ],
      "text/plain": [
       "<IPython.core.display.HTML object>"
      ]
     },
     "metadata": {},
     "output_type": "display_data"
    },
    {
     "name": "stdout",
     "output_type": "stream",
     "text": [
      "📊 Fold 3 Dashboard: https://wandb.ai/kimsunmin0227-hufs/document-classification-team-CV/runs/v887zt6s\n",
      "Train samples: 1256, Validation samples: 314\n",
      " 모델 학습 시작 - Fold 3\n",
      "\n",
      "📈 Epoch 1/50\n"
     ]
    },
    {
     "name": "stderr",
     "output_type": "stream",
     "text": [
      "Loss: 2.6816, Mixup: False, Cutout: False, RandomCrop: True: 100%|██████████| 40/40 [00:13<00:00,  2.86it/s]\n",
      "Val Loss: 1.8934: 100%|██████████| 10/10 [00:01<00:00,  6.59it/s]\n"
     ]
    },
    {
     "name": "stdout",
     "output_type": "stream",
     "text": [
      "  Class 3 F1: 0.1935\n",
      "  Class 7 F1: 0.3279\n",
      "  Class 14 F1: 0.1111\n",
      "  Problem Classes Avg F1: 0.2108\n",
      " Epoch  1 | Train Loss: 2.8453 | Train F1: 0.1553 | Val Loss: 1.9138 | Val F1: 0.4962 | LR: 5.00e-04\n",
      "         Problem Classes (3,7,14) Avg F1: 0.2108 | ✅ Problem classes performing well\n",
      "🎉 새로운 최고 성능! F1: 0.4962 (Problem Classes: 0.2108)\n",
      "\n",
      "📈 Epoch 2/50\n"
     ]
    },
    {
     "name": "stderr",
     "output_type": "stream",
     "text": [
      "Loss: 2.4225, Mixup: False, Cutout: True, RandomCrop: False: 100%|██████████| 40/40 [00:13<00:00,  2.93it/s]\n",
      "Val Loss: 1.8164: 100%|██████████| 10/10 [00:01<00:00,  6.61it/s]\n"
     ]
    },
    {
     "name": "stdout",
     "output_type": "stream",
     "text": [
      "  Class 3 F1: 0.3419\n",
      "  Class 7 F1: 0.0000\n",
      "  Class 14 F1: 0.0000\n",
      "  Problem Classes Avg F1: 0.1140\n",
      " Epoch  2 | Train Loss: 2.1823 | Train F1: 0.3777 | Val Loss: 1.7478 | Val F1: 0.6045 | LR: 5.00e-04\n",
      "         Problem Classes (3,7,14) Avg F1: 0.1140 | ⚠️ Problem classes need attention\n",
      "🎉 새로운 최고 성능! F1: 0.6045 (Problem Classes: 0.1140)\n",
      "\n",
      "📈 Epoch 3/50\n"
     ]
    },
    {
     "name": "stderr",
     "output_type": "stream",
     "text": [
      "Loss: 2.0452, Mixup: False, Cutout: False, RandomCrop: True: 100%|██████████| 40/40 [00:13<00:00,  2.93it/s]\n",
      "Val Loss: 1.6583: 100%|██████████| 10/10 [00:01<00:00,  6.60it/s]\n"
     ]
    },
    {
     "name": "stdout",
     "output_type": "stream",
     "text": [
      "  Class 3 F1: 0.2222\n",
      "  Class 7 F1: 0.3238\n",
      "  Class 14 F1: 0.0000\n",
      "  Problem Classes Avg F1: 0.1820\n",
      " Epoch  3 | Train Loss: 1.9772 | Train F1: 0.4493 | Val Loss: 1.5255 | Val F1: 0.6653 | LR: 4.98e-04\n",
      "         Problem Classes (3,7,14) Avg F1: 0.1820 | ⚠️ Problem classes need attention\n",
      "🎉 새로운 최고 성능! F1: 0.6653 (Problem Classes: 0.1820)\n",
      "\n",
      "📈 Epoch 4/50\n"
     ]
    },
    {
     "name": "stderr",
     "output_type": "stream",
     "text": [
      "Loss: 1.4409, Mixup: False, Cutout: True, RandomCrop: False: 100%|██████████| 40/40 [00:13<00:00,  2.87it/s]\n",
      "Val Loss: 1.5164: 100%|██████████| 10/10 [00:01<00:00,  6.32it/s]\n"
     ]
    },
    {
     "name": "stdout",
     "output_type": "stream",
     "text": [
      "  Class 3 F1: 0.4528\n",
      "  Class 7 F1: 0.5000\n",
      "  Class 14 F1: 0.2308\n",
      "  Problem Classes Avg F1: 0.3945\n",
      " Epoch  4 | Train Loss: 1.8512 | Train F1: 0.4776 | Val Loss: 1.3758 | Val F1: 0.7874 | LR: 4.96e-04\n",
      "         Problem Classes (3,7,14) Avg F1: 0.3945 | ⚠️ Problem classes need attention\n",
      "🎉 새로운 최고 성능! F1: 0.7874 (Problem Classes: 0.3945)\n",
      "\n",
      "📈 Epoch 5/50\n"
     ]
    },
    {
     "name": "stderr",
     "output_type": "stream",
     "text": [
      "Loss: 1.3539, Mixup: False, Cutout: False, RandomCrop: True: 100%|██████████| 40/40 [00:14<00:00,  2.84it/s]\n",
      "Val Loss: 1.6639: 100%|██████████| 10/10 [00:01<00:00,  6.57it/s]\n"
     ]
    },
    {
     "name": "stdout",
     "output_type": "stream",
     "text": [
      "  Class 3 F1: 0.5574\n",
      "  Class 7 F1: 0.4878\n",
      "  Class 14 F1: 0.1667\n",
      "  Problem Classes Avg F1: 0.4039\n",
      " Epoch  5 | Train Loss: 1.6797 | Train F1: 0.6307 | Val Loss: 1.3351 | Val F1: 0.8468 | LR: 4.92e-04\n",
      "         Problem Classes (3,7,14) Avg F1: 0.4039 | ⚠️ Problem classes need attention\n",
      "🎉 새로운 최고 성능! F1: 0.8468 (Problem Classes: 0.4039)\n",
      "\n",
      "📈 Epoch 6/50\n"
     ]
    },
    {
     "name": "stderr",
     "output_type": "stream",
     "text": [
      "Loss: 1.7363, Mixup: False, Cutout: True, RandomCrop: False: 100%|██████████| 40/40 [00:13<00:00,  2.86it/s]\n",
      "Val Loss: 1.3885: 100%|██████████| 10/10 [00:01<00:00,  6.63it/s]\n"
     ]
    },
    {
     "name": "stdout",
     "output_type": "stream",
     "text": [
      "  Class 3 F1: 0.5882\n",
      "  Class 7 F1: 0.5217\n",
      "  Class 14 F1: 0.4118\n",
      "  Problem Classes Avg F1: 0.5072\n",
      " Epoch  6 | Train Loss: 1.6707 | Train F1: 0.5555 | Val Loss: 1.2543 | Val F1: 0.8307 | LR: 4.88e-04\n",
      "         Problem Classes (3,7,14) Avg F1: 0.5072 | ⚠️ Problem classes need attention\n",
      "\n",
      "📈 Epoch 7/50\n"
     ]
    },
    {
     "name": "stderr",
     "output_type": "stream",
     "text": [
      "Loss: 1.6952, Mixup: False, Cutout: False, RandomCrop: True: 100%|██████████| 40/40 [00:13<00:00,  2.91it/s]\n",
      "Val Loss: 1.3842: 100%|██████████| 10/10 [00:01<00:00,  6.63it/s]\n"
     ]
    },
    {
     "name": "stdout",
     "output_type": "stream",
     "text": [
      "  Class 3 F1: 0.5000\n",
      "  Class 7 F1: 0.5517\n",
      "  Class 14 F1: 0.4286\n",
      "  Problem Classes Avg F1: 0.4934\n",
      " Epoch  7 | Train Loss: 1.5821 | Train F1: 0.6493 | Val Loss: 1.2278 | Val F1: 0.8762 | LR: 4.82e-04\n",
      "         Problem Classes (3,7,14) Avg F1: 0.4934 | ⚠️ Problem classes need attention\n",
      "🎉 새로운 최고 성능! F1: 0.8762 (Problem Classes: 0.4934)\n",
      "\n",
      "📈 Epoch 8/50\n"
     ]
    },
    {
     "name": "stderr",
     "output_type": "stream",
     "text": [
      "Loss: 1.9755, Mixup: True, Cutout: False, RandomCrop: False: 100%|██████████| 40/40 [00:13<00:00,  2.89it/s]\n",
      "Val Loss: 1.4226: 100%|██████████| 10/10 [00:01<00:00,  6.72it/s]\n"
     ]
    },
    {
     "name": "stdout",
     "output_type": "stream",
     "text": [
      "  Class 3 F1: 0.5195\n",
      "  Class 7 F1: 0.0000\n",
      "  Class 14 F1: 0.1739\n",
      "  Problem Classes Avg F1: 0.2311\n",
      " Epoch  8 | Train Loss: 1.6030 | Train F1: 0.6600 | Val Loss: 1.3004 | Val F1: 0.8097 | LR: 4.76e-04\n",
      "         Problem Classes (3,7,14) Avg F1: 0.2311 | ⚠️ Problem classes need attention\n",
      "\n",
      "📈 Epoch 9/50\n"
     ]
    },
    {
     "name": "stderr",
     "output_type": "stream",
     "text": [
      "Loss: 1.5701, Mixup: False, Cutout: False, RandomCrop: True: 100%|██████████| 40/40 [00:13<00:00,  2.92it/s]\n",
      "Val Loss: 1.1698: 100%|██████████| 10/10 [00:01<00:00,  6.67it/s]\n"
     ]
    },
    {
     "name": "stdout",
     "output_type": "stream",
     "text": [
      "  Class 3 F1: 0.4889\n",
      "  Class 7 F1: 0.4545\n",
      "  Class 14 F1: 0.4138\n",
      "  Problem Classes Avg F1: 0.4524\n",
      " Epoch  9 | Train Loss: 1.5809 | Train F1: 0.6332 | Val Loss: 1.1699 | Val F1: 0.8554 | LR: 4.69e-04\n",
      "         Problem Classes (3,7,14) Avg F1: 0.4524 | ⚠️ Problem classes need attention\n",
      "\n",
      "📈 Epoch 10/50\n"
     ]
    },
    {
     "name": "stderr",
     "output_type": "stream",
     "text": [
      "Loss: 2.4862, Mixup: True, Cutout: False, RandomCrop: False: 100%|██████████| 40/40 [00:13<00:00,  2.90it/s]\n",
      "Val Loss: 1.0180: 100%|██████████| 10/10 [00:01<00:00,  6.72it/s]\n"
     ]
    },
    {
     "name": "stdout",
     "output_type": "stream",
     "text": [
      "  Class 3 F1: 0.3571\n",
      "  Class 7 F1: 0.6939\n",
      "  Class 14 F1: 0.5128\n",
      "  Problem Classes Avg F1: 0.5213\n",
      " Epoch 10 | Train Loss: 1.4587 | Train F1: 0.7138 | Val Loss: 1.2121 | Val F1: 0.8724 | LR: 4.61e-04\n",
      "         Problem Classes (3,7,14) Avg F1: 0.5213 | ⚠️ Problem classes need attention\n",
      "\n",
      "📈 Epoch 11/50\n"
     ]
    },
    {
     "name": "stderr",
     "output_type": "stream",
     "text": [
      "Loss: 1.1437, Mixup: False, Cutout: False, RandomCrop: True: 100%|██████████| 40/40 [00:13<00:00,  2.90it/s]\n",
      "Val Loss: 1.4637: 100%|██████████| 10/10 [00:01<00:00,  6.71it/s]\n"
     ]
    },
    {
     "name": "stdout",
     "output_type": "stream",
     "text": [
      "  Class 3 F1: 0.5085\n",
      "  Class 7 F1: 0.2857\n",
      "  Class 14 F1: 0.1429\n",
      "  Problem Classes Avg F1: 0.3123\n",
      " Epoch 11 | Train Loss: 1.5444 | Train F1: 0.6357 | Val Loss: 1.2746 | Val F1: 0.8408 | LR: 4.52e-04\n",
      "         Problem Classes (3,7,14) Avg F1: 0.3123 | ⚠️ Problem classes need attention\n",
      "\n",
      "📈 Epoch 12/50\n"
     ]
    },
    {
     "name": "stderr",
     "output_type": "stream",
     "text": [
      "Loss: 1.4217, Mixup: False, Cutout: True, RandomCrop: False: 100%|██████████| 40/40 [00:13<00:00,  2.90it/s]\n",
      "Val Loss: 1.3865: 100%|██████████| 10/10 [00:01<00:00,  6.70it/s]\n"
     ]
    },
    {
     "name": "stdout",
     "output_type": "stream",
     "text": [
      "  Class 3 F1: 0.6230\n",
      "  Class 7 F1: 0.3448\n",
      "  Class 14 F1: 0.3636\n",
      "  Problem Classes Avg F1: 0.4438\n",
      " Epoch 12 | Train Loss: 1.4773 | Train F1: 0.7239 | Val Loss: 1.2327 | Val F1: 0.8666 | LR: 4.43e-04\n",
      "         Problem Classes (3,7,14) Avg F1: 0.4438 | ⚠️ Problem classes need attention\n",
      "\n",
      "📈 Epoch 13/50\n"
     ]
    },
    {
     "name": "stderr",
     "output_type": "stream",
     "text": [
      "Loss: 2.5185, Mixup: True, Cutout: False, RandomCrop: False: 100%|██████████| 40/40 [00:13<00:00,  2.88it/s]\n",
      "Val Loss: 1.4087: 100%|██████████| 10/10 [00:01<00:00,  6.69it/s]\n"
     ]
    },
    {
     "name": "stdout",
     "output_type": "stream",
     "text": [
      "  Class 3 F1: 0.6000\n",
      "  Class 7 F1: 0.3529\n",
      "  Class 14 F1: 0.2857\n",
      "  Problem Classes Avg F1: 0.4129\n",
      " Epoch 13 | Train Loss: 1.5468 | Train F1: 0.6728 | Val Loss: 1.1956 | Val F1: 0.8665 | LR: 4.32e-04\n",
      "         Problem Classes (3,7,14) Avg F1: 0.4129 | ⚠️ Problem classes need attention\n",
      "\n",
      "📈 Epoch 14/50\n"
     ]
    },
    {
     "name": "stderr",
     "output_type": "stream",
     "text": [
      "Loss: 1.3974, Mixup: True, Cutout: False, RandomCrop: False: 100%|██████████| 40/40 [00:13<00:00,  2.90it/s]\n",
      "Val Loss: 1.1110: 100%|██████████| 10/10 [00:01<00:00,  6.65it/s]\n"
     ]
    },
    {
     "name": "stdout",
     "output_type": "stream",
     "text": [
      "  Class 3 F1: 0.6809\n",
      "  Class 7 F1: 0.5294\n",
      "  Class 14 F1: 0.6000\n",
      "  Problem Classes Avg F1: 0.6034\n",
      " Epoch 14 | Train Loss: 1.4546 | Train F1: 0.6414 | Val Loss: 1.1778 | Val F1: 0.8986 | LR: 4.21e-04\n",
      "         Problem Classes (3,7,14) Avg F1: 0.6034 | ⚠️ Problem classes need attention\n",
      "🎉 새로운 최고 성능! F1: 0.8986 (Problem Classes: 0.6034)\n",
      "\n",
      "📈 Epoch 15/50\n"
     ]
    },
    {
     "name": "stderr",
     "output_type": "stream",
     "text": [
      "Loss: 1.4531, Mixup: False, Cutout: False, RandomCrop: True: 100%|██████████| 40/40 [00:13<00:00,  2.90it/s]\n",
      "Val Loss: 1.1122: 100%|██████████| 10/10 [00:01<00:00,  6.75it/s]\n"
     ]
    },
    {
     "name": "stdout",
     "output_type": "stream",
     "text": [
      "  Class 3 F1: 0.1739\n",
      "  Class 7 F1: 0.5143\n",
      "  Class 14 F1: 0.6000\n",
      "  Problem Classes Avg F1: 0.4294\n",
      " Epoch 15 | Train Loss: 1.4469 | Train F1: 0.7019 | Val Loss: 1.2204 | Val F1: 0.8692 | LR: 4.09e-04\n",
      "         Problem Classes (3,7,14) Avg F1: 0.4294 | ⚠️ Problem classes need attention\n",
      "\n",
      "📈 Epoch 16/50\n"
     ]
    },
    {
     "name": "stderr",
     "output_type": "stream",
     "text": [
      "Loss: 1.3723, Mixup: False, Cutout: False, RandomCrop: True: 100%|██████████| 40/40 [00:13<00:00,  2.97it/s]\n",
      "Val Loss: 1.2407: 100%|██████████| 10/10 [00:01<00:00,  6.66it/s]\n"
     ]
    },
    {
     "name": "stdout",
     "output_type": "stream",
     "text": [
      "  Class 3 F1: 0.6316\n",
      "  Class 7 F1: 0.2581\n",
      "  Class 14 F1: 0.5217\n",
      "  Problem Classes Avg F1: 0.4705\n",
      " Epoch 16 | Train Loss: 1.4296 | Train F1: 0.6670 | Val Loss: 1.1933 | Val F1: 0.8717 | LR: 3.97e-04\n",
      "         Problem Classes (3,7,14) Avg F1: 0.4705 | ⚠️ Problem classes need attention\n",
      "\n",
      "📈 Epoch 17/50\n"
     ]
    },
    {
     "name": "stderr",
     "output_type": "stream",
     "text": [
      "Loss: 2.6594, Mixup: True, Cutout: False, RandomCrop: False: 100%|██████████| 40/40 [00:13<00:00,  2.90it/s]\n",
      "Val Loss: 1.2175: 100%|██████████| 10/10 [00:01<00:00,  6.32it/s]\n"
     ]
    },
    {
     "name": "stdout",
     "output_type": "stream",
     "text": [
      "  Class 3 F1: 0.6190\n",
      "  Class 7 F1: 0.4651\n",
      "  Class 14 F1: 0.6087\n",
      "  Problem Classes Avg F1: 0.5643\n",
      " Epoch 17 | Train Loss: 1.4435 | Train F1: 0.6958 | Val Loss: 1.1584 | Val F1: 0.8959 | LR: 3.84e-04\n",
      "         Problem Classes (3,7,14) Avg F1: 0.5643 | ⚠️ Problem classes need attention\n",
      "\n",
      "📈 Epoch 18/50\n"
     ]
    },
    {
     "name": "stderr",
     "output_type": "stream",
     "text": [
      "Loss: 1.2819, Mixup: False, Cutout: False, RandomCrop: True: 100%|██████████| 40/40 [00:13<00:00,  2.92it/s]\n",
      "Val Loss: 1.2217: 100%|██████████| 10/10 [00:01<00:00,  6.38it/s]\n"
     ]
    },
    {
     "name": "stdout",
     "output_type": "stream",
     "text": [
      "  Class 3 F1: 0.5641\n",
      "  Class 7 F1: 0.5405\n",
      "  Class 14 F1: 0.6957\n",
      "  Problem Classes Avg F1: 0.6001\n",
      " Epoch 18 | Train Loss: 1.4507 | Train F1: 0.5829 | Val Loss: 1.1686 | Val F1: 0.9134 | LR: 3.70e-04\n",
      "         Problem Classes (3,7,14) Avg F1: 0.6001 | ⚠️ Problem classes need attention\n",
      "🎉 새로운 최고 성능! F1: 0.9134 (Problem Classes: 0.6001)\n",
      "\n",
      "📈 Epoch 19/50\n"
     ]
    },
    {
     "name": "stderr",
     "output_type": "stream",
     "text": [
      "Loss: 1.4727, Mixup: False, Cutout: False, RandomCrop: True: 100%|██████████| 40/40 [00:13<00:00,  2.90it/s]\n",
      "Val Loss: 1.4917: 100%|██████████| 10/10 [00:01<00:00,  6.68it/s]\n"
     ]
    },
    {
     "name": "stdout",
     "output_type": "stream",
     "text": [
      "  Class 3 F1: 0.6032\n",
      "  Class 7 F1: 0.0909\n",
      "  Class 14 F1: 0.4286\n",
      "  Problem Classes Avg F1: 0.3742\n",
      " Epoch 19 | Train Loss: 1.2834 | Train F1: 0.8647 | Val Loss: 1.2594 | Val F1: 0.8706 | LR: 3.56e-04\n",
      "         Problem Classes (3,7,14) Avg F1: 0.3742 | ⚠️ Problem classes need attention\n",
      "\n",
      "📈 Epoch 20/50\n"
     ]
    },
    {
     "name": "stderr",
     "output_type": "stream",
     "text": [
      "Loss: 1.1455, Mixup: True, Cutout: False, RandomCrop: False: 100%|██████████| 40/40 [00:13<00:00,  2.90it/s]\n",
      "Val Loss: 1.1833: 100%|██████████| 10/10 [00:01<00:00,  6.73it/s]\n"
     ]
    },
    {
     "name": "stdout",
     "output_type": "stream",
     "text": [
      "  Class 3 F1: 0.6939\n",
      "  Class 7 F1: 0.5263\n",
      "  Class 14 F1: 0.5556\n",
      "  Problem Classes Avg F1: 0.5919\n",
      " Epoch 20 | Train Loss: 1.3783 | Train F1: 0.6536 | Val Loss: 1.1486 | Val F1: 0.9074 | LR: 3.42e-04\n",
      "         Problem Classes (3,7,14) Avg F1: 0.5919 | ⚠️ Problem classes need attention\n",
      "\n",
      "📈 Epoch 21/50\n"
     ]
    },
    {
     "name": "stderr",
     "output_type": "stream",
     "text": [
      "Loss: 1.7550, Mixup: True, Cutout: False, RandomCrop: False: 100%|██████████| 40/40 [00:13<00:00,  2.97it/s]\n",
      "Val Loss: 1.1437: 100%|██████████| 10/10 [00:01<00:00,  6.69it/s]\n"
     ]
    },
    {
     "name": "stdout",
     "output_type": "stream",
     "text": [
      "  Class 3 F1: 0.7059\n",
      "  Class 7 F1: 0.4286\n",
      "  Class 14 F1: 0.6667\n",
      "  Problem Classes Avg F1: 0.6004\n",
      " Epoch 21 | Train Loss: 1.4235 | Train F1: 0.6834 | Val Loss: 1.1601 | Val F1: 0.9127 | LR: 3.27e-04\n",
      "         Problem Classes (3,7,14) Avg F1: 0.6004 | ⚠️ Problem classes need attention\n",
      "\n",
      "📈 Epoch 22/50\n"
     ]
    },
    {
     "name": "stderr",
     "output_type": "stream",
     "text": [
      "Loss: 1.3300, Mixup: True, Cutout: False, RandomCrop: False: 100%|██████████| 40/40 [00:13<00:00,  2.93it/s]\n",
      "Val Loss: 1.2491: 100%|██████████| 10/10 [00:01<00:00,  6.29it/s]\n"
     ]
    },
    {
     "name": "stdout",
     "output_type": "stream",
     "text": [
      "  Class 3 F1: 0.7200\n",
      "  Class 7 F1: 0.4138\n",
      "  Class 14 F1: 0.7368\n",
      "  Problem Classes Avg F1: 0.6235\n",
      " Epoch 22 | Train Loss: 1.3863 | Train F1: 0.7359 | Val Loss: 1.1610 | Val F1: 0.9191 | LR: 3.12e-04\n",
      "         Problem Classes (3,7,14) Avg F1: 0.6235 | ⚠️ Problem classes need attention\n",
      "🎉 새로운 최고 성능! F1: 0.9191 (Problem Classes: 0.6235)\n",
      "\n",
      "📈 Epoch 23/50\n"
     ]
    },
    {
     "name": "stderr",
     "output_type": "stream",
     "text": [
      "Loss: 1.1872, Mixup: False, Cutout: True, RandomCrop: False: 100%|██████████| 40/40 [00:13<00:00,  2.88it/s]\n",
      "Val Loss: 1.3118: 100%|██████████| 10/10 [00:01<00:00,  6.64it/s]\n"
     ]
    },
    {
     "name": "stdout",
     "output_type": "stream",
     "text": [
      "  Class 3 F1: 0.6441\n",
      "  Class 7 F1: 0.3871\n",
      "  Class 14 F1: 0.4706\n",
      "  Problem Classes Avg F1: 0.5006\n",
      " Epoch 23 | Train Loss: 1.3949 | Train F1: 0.7120 | Val Loss: 1.2149 | Val F1: 0.8906 | LR: 2.97e-04\n",
      "         Problem Classes (3,7,14) Avg F1: 0.5006 | ⚠️ Problem classes need attention\n",
      "\n",
      "📈 Epoch 24/50\n"
     ]
    },
    {
     "name": "stderr",
     "output_type": "stream",
     "text": [
      "Loss: 1.6041, Mixup: True, Cutout: False, RandomCrop: False: 100%|██████████| 40/40 [00:13<00:00,  2.95it/s]\n",
      "Val Loss: 1.3888: 100%|██████████| 10/10 [00:01<00:00,  6.70it/s]\n"
     ]
    },
    {
     "name": "stdout",
     "output_type": "stream",
     "text": [
      "  Class 3 F1: 0.4375\n",
      "  Class 7 F1: 0.4828\n",
      "  Class 14 F1: 0.5000\n",
      "  Problem Classes Avg F1: 0.4734\n",
      " Epoch 24 | Train Loss: 1.3933 | Train F1: 0.7157 | Val Loss: 1.1941 | Val F1: 0.8908 | LR: 2.81e-04\n",
      "         Problem Classes (3,7,14) Avg F1: 0.4734 | ⚠️ Problem classes need attention\n",
      "\n",
      "📈 Epoch 25/50\n"
     ]
    },
    {
     "name": "stderr",
     "output_type": "stream",
     "text": [
      "Loss: 1.4707, Mixup: False, Cutout: True, RandomCrop: False: 100%|██████████| 40/40 [00:13<00:00,  2.92it/s]\n",
      "Val Loss: 1.3688: 100%|██████████| 10/10 [00:01<00:00,  6.58it/s]\n"
     ]
    },
    {
     "name": "stdout",
     "output_type": "stream",
     "text": [
      "  Class 3 F1: 0.7347\n",
      "  Class 7 F1: 0.5000\n",
      "  Class 14 F1: 0.5882\n",
      "  Problem Classes Avg F1: 0.6076\n",
      " Epoch 25 | Train Loss: 1.3176 | Train F1: 0.7916 | Val Loss: 1.1527 | Val F1: 0.9135 | LR: 2.66e-04\n",
      "         Problem Classes (3,7,14) Avg F1: 0.6076 | ⚠️ Problem classes need attention\n",
      "\n",
      "📈 Epoch 26/50\n"
     ]
    },
    {
     "name": "stderr",
     "output_type": "stream",
     "text": [
      "Loss: 1.1932, Mixup: False, Cutout: True, RandomCrop: False: 100%|██████████| 40/40 [00:13<00:00,  2.88it/s]\n",
      "Val Loss: 1.2453: 100%|██████████| 10/10 [00:01<00:00,  6.65it/s]\n"
     ]
    },
    {
     "name": "stdout",
     "output_type": "stream",
     "text": [
      "  Class 3 F1: 0.6667\n",
      "  Class 7 F1: 0.5854\n",
      "  Class 14 F1: 0.7059\n",
      "  Problem Classes Avg F1: 0.6526\n",
      " Epoch 26 | Train Loss: 1.2583 | Train F1: 0.7639 | Val Loss: 1.1041 | Val F1: 0.9230 | LR: 2.50e-04\n",
      "         Problem Classes (3,7,14) Avg F1: 0.6526 | ⚠️ Problem classes need attention\n",
      "🎉 새로운 최고 성능! F1: 0.9230 (Problem Classes: 0.6526)\n",
      "\n",
      "📈 Epoch 27/50\n"
     ]
    },
    {
     "name": "stderr",
     "output_type": "stream",
     "text": [
      "Loss: 1.2252, Mixup: False, Cutout: True, RandomCrop: False: 100%|██████████| 40/40 [00:13<00:00,  2.95it/s]\n",
      "Val Loss: 1.3182: 100%|██████████| 10/10 [00:01<00:00,  6.71it/s]\n"
     ]
    },
    {
     "name": "stdout",
     "output_type": "stream",
     "text": [
      "  Class 3 F1: 0.3448\n",
      "  Class 7 F1: 0.6000\n",
      "  Class 14 F1: 0.5714\n",
      "  Problem Classes Avg F1: 0.5054\n",
      " Epoch 27 | Train Loss: 1.3113 | Train F1: 0.7869 | Val Loss: 1.2274 | Val F1: 0.8951 | LR: 2.34e-04\n",
      "         Problem Classes (3,7,14) Avg F1: 0.5054 | ⚠️ Problem classes need attention\n",
      "\n",
      "📈 Epoch 28/50\n"
     ]
    },
    {
     "name": "stderr",
     "output_type": "stream",
     "text": [
      "Loss: 1.7020, Mixup: True, Cutout: False, RandomCrop: False: 100%|██████████| 40/40 [00:13<00:00,  2.94it/s]\n",
      "Val Loss: 1.1664: 100%|██████████| 10/10 [00:01<00:00,  6.72it/s]\n"
     ]
    },
    {
     "name": "stdout",
     "output_type": "stream",
     "text": [
      "  Class 3 F1: 0.7234\n",
      "  Class 7 F1: 0.6316\n",
      "  Class 14 F1: 0.5833\n",
      "  Problem Classes Avg F1: 0.6461\n",
      " Epoch 28 | Train Loss: 1.2936 | Train F1: 0.7925 | Val Loss: 1.1053 | Val F1: 0.9146 | LR: 2.19e-04\n",
      "         Problem Classes (3,7,14) Avg F1: 0.6461 | ⚠️ Problem classes need attention\n",
      "\n",
      "📈 Epoch 29/50\n"
     ]
    },
    {
     "name": "stderr",
     "output_type": "stream",
     "text": [
      "Loss: 0.7766, Mixup: False, Cutout: True, RandomCrop: False: 100%|██████████| 40/40 [00:13<00:00,  2.94it/s]\n",
      "Val Loss: 1.2507: 100%|██████████| 10/10 [00:01<00:00,  6.70it/s]\n"
     ]
    },
    {
     "name": "stdout",
     "output_type": "stream",
     "text": [
      "  Class 3 F1: 0.7111\n",
      "  Class 7 F1: 0.6111\n",
      "  Class 14 F1: 0.7778\n",
      "  Problem Classes Avg F1: 0.7000\n",
      " Epoch 29 | Train Loss: 1.3177 | Train F1: 0.7292 | Val Loss: 1.0996 | Val F1: 0.9339 | LR: 2.03e-04\n",
      "         Problem Classes (3,7,14) Avg F1: 0.7000 | ⚠️ Problem classes need attention\n",
      "🎉 새로운 최고 성능! F1: 0.9339 (Problem Classes: 0.7000)\n",
      "\n",
      "📈 Epoch 30/50\n"
     ]
    },
    {
     "name": "stderr",
     "output_type": "stream",
     "text": [
      "Loss: 1.3206, Mixup: True, Cutout: False, RandomCrop: False: 100%|██████████| 40/40 [00:13<00:00,  2.92it/s]\n",
      "Val Loss: 1.2180: 100%|██████████| 10/10 [00:01<00:00,  6.67it/s]\n"
     ]
    },
    {
     "name": "stdout",
     "output_type": "stream",
     "text": [
      "  Class 3 F1: 0.6545\n",
      "  Class 7 F1: 0.4286\n",
      "  Class 14 F1: 0.7778\n",
      "  Problem Classes Avg F1: 0.6203\n",
      " Epoch 30 | Train Loss: 1.2453 | Train F1: 0.7421 | Val Loss: 1.1358 | Val F1: 0.9196 | LR: 1.88e-04\n",
      "         Problem Classes (3,7,14) Avg F1: 0.6203 | ⚠️ Problem classes need attention\n",
      "\n",
      "📈 Epoch 31/50\n"
     ]
    },
    {
     "name": "stderr",
     "output_type": "stream",
     "text": [
      "Loss: 1.3756, Mixup: True, Cutout: False, RandomCrop: False: 100%|██████████| 40/40 [00:13<00:00,  2.88it/s]\n",
      "Val Loss: 1.3230: 100%|██████████| 10/10 [00:01<00:00,  6.69it/s]\n"
     ]
    },
    {
     "name": "stdout",
     "output_type": "stream",
     "text": [
      "  Class 3 F1: 0.5965\n",
      "  Class 7 F1: 0.4138\n",
      "  Class 14 F1: 0.5714\n",
      "  Problem Classes Avg F1: 0.5272\n",
      " Epoch 31 | Train Loss: 1.2900 | Train F1: 0.7022 | Val Loss: 1.1320 | Val F1: 0.9048 | LR: 1.73e-04\n",
      "         Problem Classes (3,7,14) Avg F1: 0.5272 | ⚠️ Problem classes need attention\n",
      "\n",
      "📈 Epoch 32/50\n"
     ]
    },
    {
     "name": "stderr",
     "output_type": "stream",
     "text": [
      "Loss: 2.1651, Mixup: False, Cutout: True, RandomCrop: False: 100%|██████████| 40/40 [00:13<00:00,  2.90it/s]\n",
      "Val Loss: 1.1297: 100%|██████████| 10/10 [00:01<00:00,  6.70it/s]\n"
     ]
    },
    {
     "name": "stdout",
     "output_type": "stream",
     "text": [
      "  Class 3 F1: 0.5854\n",
      "  Class 7 F1: 0.5714\n",
      "  Class 14 F1: 0.7368\n",
      "  Problem Classes Avg F1: 0.6312\n",
      " Epoch 32 | Train Loss: 1.3146 | Train F1: 0.7819 | Val Loss: 1.0961 | Val F1: 0.9229 | LR: 1.58e-04\n",
      "         Problem Classes (3,7,14) Avg F1: 0.6312 | ⚠️ Problem classes need attention\n",
      "\n",
      "📈 Epoch 33/50\n"
     ]
    },
    {
     "name": "stderr",
     "output_type": "stream",
     "text": [
      "Loss: 1.0102, Mixup: False, Cutout: True, RandomCrop: False: 100%|██████████| 40/40 [00:13<00:00,  2.90it/s]\n",
      "Val Loss: 1.1203: 100%|██████████| 10/10 [00:01<00:00,  6.38it/s]\n"
     ]
    },
    {
     "name": "stdout",
     "output_type": "stream",
     "text": [
      "  Class 3 F1: 0.6400\n",
      "  Class 7 F1: 0.4848\n",
      "  Class 14 F1: 0.7368\n",
      "  Problem Classes Avg F1: 0.6206\n",
      " Epoch 33 | Train Loss: 1.2403 | Train F1: 0.7621 | Val Loss: 1.1024 | Val F1: 0.9212 | LR: 1.44e-04\n",
      "         Problem Classes (3,7,14) Avg F1: 0.6206 | ⚠️ Problem classes need attention\n",
      "\n",
      "📈 Epoch 34/50\n"
     ]
    },
    {
     "name": "stderr",
     "output_type": "stream",
     "text": [
      "Loss: 1.3996, Mixup: False, Cutout: True, RandomCrop: False: 100%|██████████| 40/40 [00:13<00:00,  2.92it/s]\n",
      "Val Loss: 1.0715: 100%|██████████| 10/10 [00:01<00:00,  6.66it/s]\n"
     ]
    },
    {
     "name": "stdout",
     "output_type": "stream",
     "text": [
      "  Class 3 F1: 0.5789\n",
      "  Class 7 F1: 0.5217\n",
      "  Class 14 F1: 0.7368\n",
      "  Problem Classes Avg F1: 0.6125\n",
      " Epoch 34 | Train Loss: 1.2829 | Train F1: 0.7764 | Val Loss: 1.1035 | Val F1: 0.9178 | LR: 1.30e-04\n",
      "         Problem Classes (3,7,14) Avg F1: 0.6125 | ⚠️ Problem classes need attention\n",
      "\n",
      "📈 Epoch 35/50\n"
     ]
    },
    {
     "name": "stderr",
     "output_type": "stream",
     "text": [
      "Loss: 1.9242, Mixup: True, Cutout: False, RandomCrop: False: 100%|██████████| 40/40 [00:13<00:00,  2.93it/s]\n",
      "Val Loss: 1.0937: 100%|██████████| 10/10 [00:01<00:00,  6.57it/s]\n"
     ]
    },
    {
     "name": "stdout",
     "output_type": "stream",
     "text": [
      "  Class 3 F1: 0.7111\n",
      "  Class 7 F1: 0.5789\n",
      "  Class 14 F1: 0.6667\n",
      "  Problem Classes Avg F1: 0.6522\n",
      " Epoch 35 | Train Loss: 1.2819 | Train F1: 0.7396 | Val Loss: 1.0973 | Val F1: 0.9283 | LR: 1.16e-04\n",
      "         Problem Classes (3,7,14) Avg F1: 0.6522 | ⚠️ Problem classes need attention\n",
      "\n",
      "📈 Epoch 36/50\n"
     ]
    },
    {
     "name": "stderr",
     "output_type": "stream",
     "text": [
      "Loss: 1.5233, Mixup: True, Cutout: False, RandomCrop: False: 100%|██████████| 40/40 [00:13<00:00,  2.91it/s]\n",
      "Val Loss: 1.1483: 100%|██████████| 10/10 [00:01<00:00,  6.75it/s]"
     ]
    },
    {
     "name": "stdout",
     "output_type": "stream",
     "text": [
      "  Class 3 F1: 0.6957\n",
      "  Class 7 F1: 0.5294\n",
      "  Class 14 F1: 0.7368\n",
      "  Problem Classes Avg F1: 0.6540\n",
      " Epoch 36 | Train Loss: 1.1743 | Train F1: 0.8107 | Val Loss: 1.0901 | Val F1: 0.9287 | LR: 1.03e-04\n",
      "         Problem Classes (3,7,14) Avg F1: 0.6540 | ⚠️ Problem classes need attention\n",
      "⏸️ Early stopping at epoch 36 (patience: 7)\n",
      "\n",
      " Fold 3 완료!\n",
      " 최고 Validation F1: 0.9339\n",
      " 학습된 에폭: 36/50\n"
     ]
    },
    {
     "name": "stderr",
     "output_type": "stream",
     "text": [
      "\n"
     ]
    },
    {
     "data": {
      "text/html": [],
      "text/plain": [
       "<IPython.core.display.HTML object>"
      ]
     },
     "metadata": {},
     "output_type": "display_data"
    },
    {
     "data": {
      "text/html": [
       "<br>    <style><br>        .wandb-row {<br>            display: flex;<br>            flex-direction: row;<br>            flex-wrap: wrap;<br>            justify-content: flex-start;<br>            width: 100%;<br>        }<br>        .wandb-col {<br>            display: flex;<br>            flex-direction: column;<br>            flex-basis: 100%;<br>            flex: 1;<br>            padding: 10px;<br>        }<br>    </style><br><div class=\"wandb-row\"><div class=\"wandb-col\"><h3>Run history:</h3><br/><table class=\"wandb\"><tr><td>best_performance/epoch</td><td>▁▁▁▂▂▃▄▅▆▇█</td></tr><tr><td>best_performance/problem_classes_f1</td><td>▂▁▂▄▄▆▇▇▇▇█</td></tr><tr><td>best_performance/val_acc</td><td>▁▃▄▆▇▇▇████</td></tr><tr><td>best_performance/val_f1</td><td>▁▃▄▆▇▇▇████</td></tr><tr><td>best_performance/val_loss</td><td>█▇▅▃▃▂▂▂▂▁▁</td></tr><tr><td>early_stopping/epoch</td><td>▁</td></tr><tr><td>fold_3/class_14_f1</td><td>▂▁▁▃▃▅▅▃▅▆▂▄▄▆▆▆▆▇▅▆▇█▅▅▆▇▆▆██▆███▇█</td></tr><tr><td>fold_3/class_3_f1</td><td>▁▃▂▄▆▆▅▅▅▃▅▇▆▇▁▇▇▆▆▇██▇▄█▇▃██▇▆▆▇▆██</td></tr><tr><td>fold_3/class_7_f1</td><td>▄▁▄▆▆▆▇▁▆█▄▄▅▆▆▄▆▆▂▆▅▅▅▆▆▇▇▇▇▅▅▇▆▆▇▆</td></tr><tr><td>fold_3/problem_classes_avg_f1</td><td>▂▁▂▄▄▆▆▂▅▆▃▅▅▇▅▅▆▇▄▇▇▇▆▅▇▇▆▇█▇▆▇▇▇▇▇</td></tr><tr><td>+7</td><td>...</td></tr></table><br/></div><div class=\"wandb-col\"><h3>Run summary:</h3><br/><table class=\"wandb\"><tr><td>best_performance/epoch</td><td>29</td></tr><tr><td>best_performance/problem_classes_f1</td><td>0.7</td></tr><tr><td>best_performance/val_acc</td><td>0.93631</td></tr><tr><td>best_performance/val_f1</td><td>0.93393</td></tr><tr><td>best_performance/val_loss</td><td>1.09962</td></tr><tr><td>early_stopping/epoch</td><td>36</td></tr><tr><td>fold_3/class_14_f1</td><td>0.73684</td></tr><tr><td>fold_3/class_3_f1</td><td>0.69565</td></tr><tr><td>fold_3/class_7_f1</td><td>0.52941</td></tr><tr><td>fold_3/problem_classes_avg_f1</td><td>0.65397</td></tr><tr><td>+8</td><td>...</td></tr></table><br/></div></div>"
      ],
      "text/plain": [
       "<IPython.core.display.HTML object>"
      ]
     },
     "metadata": {},
     "output_type": "display_data"
    },
    {
     "data": {
      "text/html": [
       " View run <strong style=\"color:#cdcd00\">fold-3-efficientnet_b3-0839</strong> at: <a href='https://wandb.ai/kimsunmin0227-hufs/document-classification-team-CV/runs/v887zt6s' target=\"_blank\">https://wandb.ai/kimsunmin0227-hufs/document-classification-team-CV/runs/v887zt6s</a><br> View project at: <a href='https://wandb.ai/kimsunmin0227-hufs/document-classification-team-CV' target=\"_blank\">https://wandb.ai/kimsunmin0227-hufs/document-classification-team-CV</a><br>Synced 5 W&B file(s), 0 media file(s), 0 artifact file(s) and 1 other file(s)"
      ],
      "text/plain": [
       "<IPython.core.display.HTML object>"
      ]
     },
     "metadata": {},
     "output_type": "display_data"
    },
    {
     "data": {
      "text/html": [
       "Find logs at: <code>./wandb/run-20250908_083901-v887zt6s/logs</code>"
      ],
      "text/plain": [
       "<IPython.core.display.HTML object>"
      ]
     },
     "metadata": {},
     "output_type": "display_data"
    },
    {
     "name": "stdout",
     "output_type": "stream",
     "text": [
      "\n",
      "==================================================\n",
      " FOLD 4/5\n",
      "==================================================\n"
     ]
    },
    {
     "data": {
      "text/html": [
       "creating run (0.2s)"
      ],
      "text/plain": [
       "<IPython.core.display.HTML object>"
      ]
     },
     "metadata": {},
     "output_type": "display_data"
    },
    {
     "data": {
      "text/html": [
       "Tracking run with wandb version 0.21.3"
      ],
      "text/plain": [
       "<IPython.core.display.HTML object>"
      ]
     },
     "metadata": {},
     "output_type": "display_data"
    },
    {
     "data": {
      "text/html": [
       "Run data is saved locally in <code>/root/computervisioncompetition-cv-1/mywork/experiments/wandb/run-20250908_084816-s2vpwa69</code>"
      ],
      "text/plain": [
       "<IPython.core.display.HTML object>"
      ]
     },
     "metadata": {},
     "output_type": "display_data"
    },
    {
     "data": {
      "text/html": [
       "Syncing run <strong><a href='https://wandb.ai/kimsunmin0227-hufs/document-classification-team-CV/runs/s2vpwa69' target=\"_blank\">fold-4-efficientnet_b3-0848</a></strong> to <a href='https://wandb.ai/kimsunmin0227-hufs/document-classification-team-CV' target=\"_blank\">Weights & Biases</a> (<a href='https://wandb.me/developer-guide' target=\"_blank\">docs</a>)<br>"
      ],
      "text/plain": [
       "<IPython.core.display.HTML object>"
      ]
     },
     "metadata": {},
     "output_type": "display_data"
    },
    {
     "data": {
      "text/html": [
       " View project at <a href='https://wandb.ai/kimsunmin0227-hufs/document-classification-team-CV' target=\"_blank\">https://wandb.ai/kimsunmin0227-hufs/document-classification-team-CV</a>"
      ],
      "text/plain": [
       "<IPython.core.display.HTML object>"
      ]
     },
     "metadata": {},
     "output_type": "display_data"
    },
    {
     "data": {
      "text/html": [
       " View run at <a href='https://wandb.ai/kimsunmin0227-hufs/document-classification-team-CV/runs/s2vpwa69' target=\"_blank\">https://wandb.ai/kimsunmin0227-hufs/document-classification-team-CV/runs/s2vpwa69</a>"
      ],
      "text/plain": [
       "<IPython.core.display.HTML object>"
      ]
     },
     "metadata": {},
     "output_type": "display_data"
    },
    {
     "name": "stdout",
     "output_type": "stream",
     "text": [
      "📊 Fold 4 Dashboard: https://wandb.ai/kimsunmin0227-hufs/document-classification-team-CV/runs/s2vpwa69\n",
      "Train samples: 1256, Validation samples: 314\n",
      " 모델 학습 시작 - Fold 4\n",
      "\n",
      "📈 Epoch 1/50\n"
     ]
    },
    {
     "name": "stderr",
     "output_type": "stream",
     "text": [
      "Loss: 2.4442, Mixup: False, Cutout: False, RandomCrop: True: 100%|██████████| 40/40 [00:13<00:00,  2.94it/s]\n",
      "Val Loss: 2.1215: 100%|██████████| 10/10 [00:01<00:00,  6.74it/s]\n"
     ]
    },
    {
     "name": "stdout",
     "output_type": "stream",
     "text": [
      "  Class 3 F1: 0.2797\n",
      "  Class 7 F1: 0.0909\n",
      "  Class 14 F1: 0.0000\n",
      "  Problem Classes Avg F1: 0.1235\n",
      " Epoch  1 | Train Loss: 2.8592 | Train F1: 0.1898 | Val Loss: 2.0879 | Val F1: 0.4998 | LR: 5.00e-04\n",
      "         Problem Classes (3,7,14) Avg F1: 0.1235 | ✅ Problem classes performing well\n",
      "🎉 새로운 최고 성능! F1: 0.4998 (Problem Classes: 0.1235)\n",
      "\n",
      "📈 Epoch 2/50\n"
     ]
    },
    {
     "name": "stderr",
     "output_type": "stream",
     "text": [
      "Loss: 2.2700, Mixup: True, Cutout: False, RandomCrop: False: 100%|██████████| 40/40 [00:13<00:00,  2.92it/s]\n",
      "Val Loss: 1.4657: 100%|██████████| 10/10 [00:01<00:00,  6.71it/s]\n"
     ]
    },
    {
     "name": "stdout",
     "output_type": "stream",
     "text": [
      "  Class 3 F1: 0.4923\n",
      "  Class 7 F1: 0.2353\n",
      "  Class 14 F1: 0.0000\n",
      "  Problem Classes Avg F1: 0.2425\n",
      " Epoch  2 | Train Loss: 2.1458 | Train F1: 0.3315 | Val Loss: 1.6065 | Val F1: 0.6543 | LR: 5.00e-04\n",
      "         Problem Classes (3,7,14) Avg F1: 0.2425 | ⚠️ Problem classes need attention\n",
      "🎉 새로운 최고 성능! F1: 0.6543 (Problem Classes: 0.2425)\n",
      "\n",
      "📈 Epoch 3/50\n"
     ]
    },
    {
     "name": "stderr",
     "output_type": "stream",
     "text": [
      "Loss: 1.8530, Mixup: True, Cutout: False, RandomCrop: False: 100%|██████████| 40/40 [00:13<00:00,  2.86it/s]\n",
      "Val Loss: 1.2202: 100%|██████████| 10/10 [00:01<00:00,  6.78it/s]\n"
     ]
    },
    {
     "name": "stdout",
     "output_type": "stream",
     "text": [
      "  Class 3 F1: 0.4878\n",
      "  Class 7 F1: 0.0769\n",
      "  Class 14 F1: 0.1724\n",
      "  Problem Classes Avg F1: 0.2457\n",
      " Epoch  3 | Train Loss: 1.8889 | Train F1: 0.4834 | Val Loss: 1.5100 | Val F1: 0.7196 | LR: 4.98e-04\n",
      "         Problem Classes (3,7,14) Avg F1: 0.2457 | ⚠️ Problem classes need attention\n",
      "🎉 새로운 최고 성능! F1: 0.7196 (Problem Classes: 0.2457)\n",
      "\n",
      "📈 Epoch 4/50\n"
     ]
    },
    {
     "name": "stderr",
     "output_type": "stream",
     "text": [
      "Loss: 2.0292, Mixup: True, Cutout: False, RandomCrop: False: 100%|██████████| 40/40 [00:13<00:00,  2.90it/s]\n",
      "Val Loss: 1.2650: 100%|██████████| 10/10 [00:01<00:00,  6.73it/s]\n"
     ]
    },
    {
     "name": "stdout",
     "output_type": "stream",
     "text": [
      "  Class 3 F1: 0.2857\n",
      "  Class 7 F1: 0.3492\n",
      "  Class 14 F1: 0.2857\n",
      "  Problem Classes Avg F1: 0.3069\n",
      " Epoch  4 | Train Loss: 1.8965 | Train F1: 0.4719 | Val Loss: 1.4411 | Val F1: 0.7709 | LR: 4.96e-04\n",
      "         Problem Classes (3,7,14) Avg F1: 0.3069 | ⚠️ Problem classes need attention\n",
      "🎉 새로운 최고 성능! F1: 0.7709 (Problem Classes: 0.3069)\n",
      "\n",
      "📈 Epoch 5/50\n"
     ]
    },
    {
     "name": "stderr",
     "output_type": "stream",
     "text": [
      "Loss: 1.1758, Mixup: False, Cutout: False, RandomCrop: True: 100%|██████████| 40/40 [00:13<00:00,  2.90it/s]\n",
      "Val Loss: 1.0776: 100%|██████████| 10/10 [00:01<00:00,  6.84it/s]\n"
     ]
    },
    {
     "name": "stdout",
     "output_type": "stream",
     "text": [
      "  Class 3 F1: 0.4211\n",
      "  Class 7 F1: 0.4074\n",
      "  Class 14 F1: 0.3846\n",
      "  Problem Classes Avg F1: 0.4044\n",
      " Epoch  5 | Train Loss: 1.7791 | Train F1: 0.5683 | Val Loss: 1.3158 | Val F1: 0.8338 | LR: 4.92e-04\n",
      "         Problem Classes (3,7,14) Avg F1: 0.4044 | ⚠️ Problem classes need attention\n",
      "🎉 새로운 최고 성능! F1: 0.8338 (Problem Classes: 0.4044)\n",
      "\n",
      "📈 Epoch 6/50\n"
     ]
    },
    {
     "name": "stderr",
     "output_type": "stream",
     "text": [
      "Loss: 1.9378, Mixup: True, Cutout: False, RandomCrop: False: 100%|██████████| 40/40 [00:13<00:00,  2.97it/s]\n",
      "Val Loss: 1.0880: 100%|██████████| 10/10 [00:01<00:00,  6.68it/s]\n"
     ]
    },
    {
     "name": "stdout",
     "output_type": "stream",
     "text": [
      "  Class 3 F1: 0.4762\n",
      "  Class 7 F1: 0.3784\n",
      "  Class 14 F1: 0.1600\n",
      "  Problem Classes Avg F1: 0.3382\n",
      " Epoch  6 | Train Loss: 1.6984 | Train F1: 0.6520 | Val Loss: 1.3123 | Val F1: 0.8124 | LR: 4.88e-04\n",
      "         Problem Classes (3,7,14) Avg F1: 0.3382 | ⚠️ Problem classes need attention\n",
      "\n",
      "📈 Epoch 7/50\n"
     ]
    },
    {
     "name": "stderr",
     "output_type": "stream",
     "text": [
      "Loss: 1.8431, Mixup: True, Cutout: False, RandomCrop: False: 100%|██████████| 40/40 [00:14<00:00,  2.69it/s]\n",
      "Val Loss: 1.0238: 100%|██████████| 10/10 [00:01<00:00,  6.68it/s]\n"
     ]
    },
    {
     "name": "stdout",
     "output_type": "stream",
     "text": [
      "  Class 3 F1: 0.5818\n",
      "  Class 7 F1: 0.5000\n",
      "  Class 14 F1: 0.3571\n",
      "  Problem Classes Avg F1: 0.4797\n",
      " Epoch  7 | Train Loss: 1.6424 | Train F1: 0.6550 | Val Loss: 1.2637 | Val F1: 0.8504 | LR: 4.82e-04\n",
      "         Problem Classes (3,7,14) Avg F1: 0.4797 | ⚠️ Problem classes need attention\n",
      "🎉 새로운 최고 성능! F1: 0.8504 (Problem Classes: 0.4797)\n",
      "\n",
      "📈 Epoch 8/50\n"
     ]
    },
    {
     "name": "stderr",
     "output_type": "stream",
     "text": [
      "Loss: 1.5291, Mixup: False, Cutout: True, RandomCrop: False: 100%|██████████| 40/40 [00:13<00:00,  2.91it/s]\n",
      "Val Loss: 1.0192: 100%|██████████| 10/10 [00:01<00:00,  6.79it/s]\n"
     ]
    },
    {
     "name": "stdout",
     "output_type": "stream",
     "text": [
      "  Class 3 F1: 0.6667\n",
      "  Class 7 F1: 0.5556\n",
      "  Class 14 F1: 0.3871\n",
      "  Problem Classes Avg F1: 0.5364\n",
      " Epoch  8 | Train Loss: 1.5538 | Train F1: 0.6713 | Val Loss: 1.2523 | Val F1: 0.8818 | LR: 4.76e-04\n",
      "         Problem Classes (3,7,14) Avg F1: 0.5364 | ⚠️ Problem classes need attention\n",
      "🎉 새로운 최고 성능! F1: 0.8818 (Problem Classes: 0.5364)\n",
      "\n",
      "📈 Epoch 9/50\n"
     ]
    },
    {
     "name": "stderr",
     "output_type": "stream",
     "text": [
      "Loss: 2.2212, Mixup: True, Cutout: False, RandomCrop: False: 100%|██████████| 40/40 [00:13<00:00,  2.88it/s]\n",
      "Val Loss: 1.2121: 100%|██████████| 10/10 [00:01<00:00,  6.74it/s]\n"
     ]
    },
    {
     "name": "stdout",
     "output_type": "stream",
     "text": [
      "  Class 3 F1: 0.1818\n",
      "  Class 7 F1: 0.4557\n",
      "  Class 14 F1: 0.2857\n",
      "  Problem Classes Avg F1: 0.3077\n",
      " Epoch  9 | Train Loss: 1.6243 | Train F1: 0.6488 | Val Loss: 1.3268 | Val F1: 0.8342 | LR: 4.69e-04\n",
      "         Problem Classes (3,7,14) Avg F1: 0.3077 | ⚠️ Problem classes need attention\n",
      "\n",
      "📈 Epoch 10/50\n"
     ]
    },
    {
     "name": "stderr",
     "output_type": "stream",
     "text": [
      "Loss: 1.2831, Mixup: False, Cutout: True, RandomCrop: False: 100%|██████████| 40/40 [00:13<00:00,  2.96it/s]\n",
      "Val Loss: 1.1133: 100%|██████████| 10/10 [00:01<00:00,  6.79it/s]\n"
     ]
    },
    {
     "name": "stdout",
     "output_type": "stream",
     "text": [
      "  Class 3 F1: 0.3846\n",
      "  Class 7 F1: 0.5373\n",
      "  Class 14 F1: 0.5263\n",
      "  Problem Classes Avg F1: 0.4827\n",
      " Epoch 10 | Train Loss: 1.4480 | Train F1: 0.6730 | Val Loss: 1.2526 | Val F1: 0.8709 | LR: 4.61e-04\n",
      "         Problem Classes (3,7,14) Avg F1: 0.4827 | ⚠️ Problem classes need attention\n",
      "\n",
      "📈 Epoch 11/50\n"
     ]
    },
    {
     "name": "stderr",
     "output_type": "stream",
     "text": [
      "Loss: 1.7434, Mixup: False, Cutout: False, RandomCrop: True: 100%|██████████| 40/40 [00:13<00:00,  2.94it/s]\n",
      "Val Loss: 1.0381: 100%|██████████| 10/10 [00:01<00:00,  6.42it/s]\n"
     ]
    },
    {
     "name": "stdout",
     "output_type": "stream",
     "text": [
      "  Class 3 F1: 0.4348\n",
      "  Class 7 F1: 0.5185\n",
      "  Class 14 F1: 0.5000\n",
      "  Problem Classes Avg F1: 0.4844\n",
      " Epoch 11 | Train Loss: 1.3923 | Train F1: 0.6967 | Val Loss: 1.2090 | Val F1: 0.8606 | LR: 4.52e-04\n",
      "         Problem Classes (3,7,14) Avg F1: 0.4844 | ⚠️ Problem classes need attention\n",
      "\n",
      "📈 Epoch 12/50\n"
     ]
    },
    {
     "name": "stderr",
     "output_type": "stream",
     "text": [
      "Loss: 2.5697, Mixup: True, Cutout: False, RandomCrop: False: 100%|██████████| 40/40 [00:13<00:00,  2.90it/s]\n",
      "Val Loss: 0.9344: 100%|██████████| 10/10 [00:01<00:00,  6.66it/s]\n"
     ]
    },
    {
     "name": "stdout",
     "output_type": "stream",
     "text": [
      "  Class 3 F1: 0.5500\n",
      "  Class 7 F1: 0.6071\n",
      "  Class 14 F1: 0.6316\n",
      "  Problem Classes Avg F1: 0.5962\n",
      " Epoch 12 | Train Loss: 1.4451 | Train F1: 0.7009 | Val Loss: 1.1716 | Val F1: 0.8883 | LR: 4.43e-04\n",
      "         Problem Classes (3,7,14) Avg F1: 0.5962 | ⚠️ Problem classes need attention\n",
      "🎉 새로운 최고 성능! F1: 0.8883 (Problem Classes: 0.5962)\n",
      "\n",
      "📈 Epoch 13/50\n"
     ]
    },
    {
     "name": "stderr",
     "output_type": "stream",
     "text": [
      "Loss: 1.1805, Mixup: False, Cutout: True, RandomCrop: False: 100%|██████████| 40/40 [00:13<00:00,  2.94it/s]\n",
      "Val Loss: 0.9678: 100%|██████████| 10/10 [00:01<00:00,  6.75it/s]\n"
     ]
    },
    {
     "name": "stdout",
     "output_type": "stream",
     "text": [
      "  Class 3 F1: 0.5652\n",
      "  Class 7 F1: 0.5909\n",
      "  Class 14 F1: 0.6667\n",
      "  Problem Classes Avg F1: 0.6076\n",
      " Epoch 13 | Train Loss: 1.4206 | Train F1: 0.7438 | Val Loss: 1.1535 | Val F1: 0.8991 | LR: 4.32e-04\n",
      "         Problem Classes (3,7,14) Avg F1: 0.6076 | ⚠️ Problem classes need attention\n",
      "🎉 새로운 최고 성능! F1: 0.8991 (Problem Classes: 0.6076)\n",
      "\n",
      "📈 Epoch 14/50\n"
     ]
    },
    {
     "name": "stderr",
     "output_type": "stream",
     "text": [
      "Loss: 2.1458, Mixup: True, Cutout: False, RandomCrop: False: 100%|██████████| 40/40 [00:13<00:00,  2.92it/s]\n",
      "Val Loss: 0.9140: 100%|██████████| 10/10 [00:01<00:00,  6.73it/s]\n"
     ]
    },
    {
     "name": "stdout",
     "output_type": "stream",
     "text": [
      "  Class 3 F1: 0.6400\n",
      "  Class 7 F1: 0.5333\n",
      "  Class 14 F1: 0.3871\n",
      "  Problem Classes Avg F1: 0.5201\n",
      " Epoch 14 | Train Loss: 1.3676 | Train F1: 0.7929 | Val Loss: 1.2569 | Val F1: 0.8762 | LR: 4.21e-04\n",
      "         Problem Classes (3,7,14) Avg F1: 0.5201 | ⚠️ Problem classes need attention\n",
      "\n",
      "📈 Epoch 15/50\n"
     ]
    },
    {
     "name": "stderr",
     "output_type": "stream",
     "text": [
      "Loss: 0.9002, Mixup: False, Cutout: True, RandomCrop: False: 100%|██████████| 40/40 [00:13<00:00,  2.94it/s]\n",
      "Val Loss: 0.9751: 100%|██████████| 10/10 [00:01<00:00,  6.76it/s]\n"
     ]
    },
    {
     "name": "stdout",
     "output_type": "stream",
     "text": [
      "  Class 3 F1: 0.5455\n",
      "  Class 7 F1: 0.5625\n",
      "  Class 14 F1: 0.4615\n",
      "  Problem Classes Avg F1: 0.5232\n",
      " Epoch 15 | Train Loss: 1.4315 | Train F1: 0.6886 | Val Loss: 1.2424 | Val F1: 0.8795 | LR: 4.09e-04\n",
      "         Problem Classes (3,7,14) Avg F1: 0.5232 | ⚠️ Problem classes need attention\n",
      "\n",
      "📈 Epoch 16/50\n"
     ]
    },
    {
     "name": "stderr",
     "output_type": "stream",
     "text": [
      "Loss: 1.4571, Mixup: False, Cutout: False, RandomCrop: True: 100%|██████████| 40/40 [00:13<00:00,  2.92it/s]\n",
      "Val Loss: 0.9484: 100%|██████████| 10/10 [00:01<00:00,  6.72it/s]\n"
     ]
    },
    {
     "name": "stdout",
     "output_type": "stream",
     "text": [
      "  Class 3 F1: 0.4400\n",
      "  Class 7 F1: 0.4878\n",
      "  Class 14 F1: 0.5217\n",
      "  Problem Classes Avg F1: 0.4832\n",
      " Epoch 16 | Train Loss: 1.4907 | Train F1: 0.6734 | Val Loss: 1.2424 | Val F1: 0.8603 | LR: 3.97e-04\n",
      "         Problem Classes (3,7,14) Avg F1: 0.4832 | ⚠️ Problem classes need attention\n",
      "\n",
      "📈 Epoch 17/50\n"
     ]
    },
    {
     "name": "stderr",
     "output_type": "stream",
     "text": [
      "Loss: 0.9646, Mixup: False, Cutout: True, RandomCrop: False: 100%|██████████| 40/40 [00:13<00:00,  2.92it/s]\n",
      "Val Loss: 0.9428: 100%|██████████| 10/10 [00:01<00:00,  6.79it/s]\n"
     ]
    },
    {
     "name": "stdout",
     "output_type": "stream",
     "text": [
      "  Class 3 F1: 0.4255\n",
      "  Class 7 F1: 0.5366\n",
      "  Class 14 F1: 0.5000\n",
      "  Problem Classes Avg F1: 0.4874\n",
      " Epoch 17 | Train Loss: 1.4588 | Train F1: 0.6563 | Val Loss: 1.2458 | Val F1: 0.8723 | LR: 3.84e-04\n",
      "         Problem Classes (3,7,14) Avg F1: 0.4874 | ⚠️ Problem classes need attention\n",
      "\n",
      "📈 Epoch 18/50\n"
     ]
    },
    {
     "name": "stderr",
     "output_type": "stream",
     "text": [
      "Loss: 1.6529, Mixup: True, Cutout: False, RandomCrop: False: 100%|██████████| 40/40 [00:13<00:00,  2.92it/s]\n",
      "Val Loss: 0.9896: 100%|██████████| 10/10 [00:01<00:00,  6.39it/s]\n"
     ]
    },
    {
     "name": "stdout",
     "output_type": "stream",
     "text": [
      "  Class 3 F1: 0.4500\n",
      "  Class 7 F1: 0.4898\n",
      "  Class 14 F1: 0.5217\n",
      "  Problem Classes Avg F1: 0.4872\n",
      " Epoch 18 | Train Loss: 1.4486 | Train F1: 0.6830 | Val Loss: 1.2113 | Val F1: 0.8785 | LR: 3.70e-04\n",
      "         Problem Classes (3,7,14) Avg F1: 0.4872 | ⚠️ Problem classes need attention\n",
      "\n",
      "📈 Epoch 19/50\n"
     ]
    },
    {
     "name": "stderr",
     "output_type": "stream",
     "text": [
      "Loss: 0.9048, Mixup: False, Cutout: True, RandomCrop: False: 100%|██████████| 40/40 [00:13<00:00,  2.92it/s]\n",
      "Val Loss: 1.0068: 100%|██████████| 10/10 [00:01<00:00,  6.54it/s]\n"
     ]
    },
    {
     "name": "stdout",
     "output_type": "stream",
     "text": [
      "  Class 3 F1: 0.4706\n",
      "  Class 7 F1: 0.5098\n",
      "  Class 14 F1: 0.5217\n",
      "  Problem Classes Avg F1: 0.5007\n",
      " Epoch 19 | Train Loss: 1.3854 | Train F1: 0.7080 | Val Loss: 1.2029 | Val F1: 0.8871 | LR: 3.56e-04\n",
      "         Problem Classes (3,7,14) Avg F1: 0.5007 | ⚠️ Problem classes need attention\n",
      "\n",
      "📈 Epoch 20/50\n"
     ]
    },
    {
     "name": "stderr",
     "output_type": "stream",
     "text": [
      "Loss: 1.2916, Mixup: False, Cutout: True, RandomCrop: False: 100%|██████████| 40/40 [00:13<00:00,  2.90it/s]\n",
      "Val Loss: 0.9740: 100%|██████████| 10/10 [00:01<00:00,  6.35it/s]\n"
     ]
    },
    {
     "name": "stdout",
     "output_type": "stream",
     "text": [
      "  Class 3 F1: 0.4571\n",
      "  Class 7 F1: 0.4681\n",
      "  Class 14 F1: 0.4615\n",
      "  Problem Classes Avg F1: 0.4623\n",
      " Epoch 20 | Train Loss: 1.3921 | Train F1: 0.7211 | Val Loss: 1.2235 | Val F1: 0.8759 | LR: 3.42e-04\n",
      "         Problem Classes (3,7,14) Avg F1: 0.4623 | ⚠️ Problem classes need attention\n",
      "\n",
      "📈 Epoch 21/50\n"
     ]
    },
    {
     "name": "stderr",
     "output_type": "stream",
     "text": [
      "Loss: 1.4197, Mixup: False, Cutout: True, RandomCrop: False: 100%|██████████| 40/40 [00:13<00:00,  2.96it/s]\n",
      "Val Loss: 0.9074: 100%|██████████| 10/10 [00:01<00:00,  6.43it/s]\n"
     ]
    },
    {
     "name": "stdout",
     "output_type": "stream",
     "text": [
      "  Class 3 F1: 0.6800\n",
      "  Class 7 F1: 0.5455\n",
      "  Class 14 F1: 0.5600\n",
      "  Problem Classes Avg F1: 0.5952\n",
      " Epoch 21 | Train Loss: 1.3251 | Train F1: 0.6929 | Val Loss: 1.1928 | Val F1: 0.8994 | LR: 3.27e-04\n",
      "         Problem Classes (3,7,14) Avg F1: 0.5952 | ⚠️ Problem classes need attention\n",
      "🎉 새로운 최고 성능! F1: 0.8994 (Problem Classes: 0.5952)\n",
      "\n",
      "📈 Epoch 22/50\n"
     ]
    },
    {
     "name": "stderr",
     "output_type": "stream",
     "text": [
      "Loss: 0.7608, Mixup: False, Cutout: True, RandomCrop: False: 100%|██████████| 40/40 [00:13<00:00,  2.96it/s]\n",
      "Val Loss: 0.9484: 100%|██████████| 10/10 [00:01<00:00,  6.39it/s]\n"
     ]
    },
    {
     "name": "stdout",
     "output_type": "stream",
     "text": [
      "  Class 3 F1: 0.5854\n",
      "  Class 7 F1: 0.6000\n",
      "  Class 14 F1: 0.5385\n",
      "  Problem Classes Avg F1: 0.5746\n",
      " Epoch 22 | Train Loss: 1.3578 | Train F1: 0.6926 | Val Loss: 1.2048 | Val F1: 0.8949 | LR: 3.12e-04\n",
      "         Problem Classes (3,7,14) Avg F1: 0.5746 | ⚠️ Problem classes need attention\n",
      "\n",
      "📈 Epoch 23/50\n"
     ]
    },
    {
     "name": "stderr",
     "output_type": "stream",
     "text": [
      "Loss: 1.4534, Mixup: False, Cutout: True, RandomCrop: False: 100%|██████████| 40/40 [00:13<00:00,  2.96it/s]\n",
      "Val Loss: 0.9191: 100%|██████████| 10/10 [00:01<00:00,  6.32it/s]\n"
     ]
    },
    {
     "name": "stdout",
     "output_type": "stream",
     "text": [
      "  Class 3 F1: 0.4889\n",
      "  Class 7 F1: 0.5238\n",
      "  Class 14 F1: 0.6000\n",
      "  Problem Classes Avg F1: 0.5376\n",
      " Epoch 23 | Train Loss: 1.2486 | Train F1: 0.7880 | Val Loss: 1.1960 | Val F1: 0.8945 | LR: 2.97e-04\n",
      "         Problem Classes (3,7,14) Avg F1: 0.5376 | ⚠️ Problem classes need attention\n",
      "\n",
      "📈 Epoch 24/50\n"
     ]
    },
    {
     "name": "stderr",
     "output_type": "stream",
     "text": [
      "Loss: 1.1857, Mixup: False, Cutout: False, RandomCrop: True: 100%|██████████| 40/40 [00:13<00:00,  2.89it/s]\n",
      "Val Loss: 0.9369: 100%|██████████| 10/10 [00:01<00:00,  6.33it/s]\n"
     ]
    },
    {
     "name": "stdout",
     "output_type": "stream",
     "text": [
      "  Class 3 F1: 0.6122\n",
      "  Class 7 F1: 0.5455\n",
      "  Class 14 F1: 0.5455\n",
      "  Problem Classes Avg F1: 0.5677\n",
      " Epoch 24 | Train Loss: 1.3227 | Train F1: 0.7225 | Val Loss: 1.2317 | Val F1: 0.8961 | LR: 2.81e-04\n",
      "         Problem Classes (3,7,14) Avg F1: 0.5677 | ⚠️ Problem classes need attention\n",
      "\n",
      "📈 Epoch 25/50\n"
     ]
    },
    {
     "name": "stderr",
     "output_type": "stream",
     "text": [
      "Loss: 1.2498, Mixup: False, Cutout: True, RandomCrop: False: 100%|██████████| 40/40 [00:13<00:00,  2.99it/s]\n",
      "Val Loss: 0.8923: 100%|██████████| 10/10 [00:01<00:00,  6.79it/s]\n"
     ]
    },
    {
     "name": "stdout",
     "output_type": "stream",
     "text": [
      "  Class 3 F1: 0.5714\n",
      "  Class 7 F1: 0.5714\n",
      "  Class 14 F1: 0.5000\n",
      "  Problem Classes Avg F1: 0.5476\n",
      " Epoch 25 | Train Loss: 1.4010 | Train F1: 0.6601 | Val Loss: 1.1670 | Val F1: 0.8914 | LR: 2.66e-04\n",
      "         Problem Classes (3,7,14) Avg F1: 0.5476 | ⚠️ Problem classes need attention\n",
      "\n",
      "📈 Epoch 26/50\n"
     ]
    },
    {
     "name": "stderr",
     "output_type": "stream",
     "text": [
      "Loss: 0.8931, Mixup: False, Cutout: True, RandomCrop: False: 100%|██████████| 40/40 [00:13<00:00,  2.96it/s]\n",
      "Val Loss: 1.0265: 100%|██████████| 10/10 [00:01<00:00,  6.32it/s]\n"
     ]
    },
    {
     "name": "stdout",
     "output_type": "stream",
     "text": [
      "  Class 3 F1: 0.2143\n",
      "  Class 7 F1: 0.5397\n",
      "  Class 14 F1: 0.5556\n",
      "  Problem Classes Avg F1: 0.4365\n",
      " Epoch 26 | Train Loss: 1.4461 | Train F1: 0.6377 | Val Loss: 1.2459 | Val F1: 0.8715 | LR: 2.50e-04\n",
      "         Problem Classes (3,7,14) Avg F1: 0.4365 | ⚠️ Problem classes need attention\n",
      "\n",
      "📈 Epoch 27/50\n"
     ]
    },
    {
     "name": "stderr",
     "output_type": "stream",
     "text": [
      "Loss: 0.7795, Mixup: False, Cutout: False, RandomCrop: True: 100%|██████████| 40/40 [00:13<00:00,  2.92it/s]\n",
      "Val Loss: 0.9264: 100%|██████████| 10/10 [00:01<00:00,  6.66it/s]\n"
     ]
    },
    {
     "name": "stdout",
     "output_type": "stream",
     "text": [
      "  Class 3 F1: 0.5000\n",
      "  Class 7 F1: 0.5417\n",
      "  Class 14 F1: 0.5714\n",
      "  Problem Classes Avg F1: 0.5377\n",
      " Epoch 27 | Train Loss: 1.2538 | Train F1: 0.7331 | Val Loss: 1.1735 | Val F1: 0.9000 | LR: 2.34e-04\n",
      "         Problem Classes (3,7,14) Avg F1: 0.5377 | ⚠️ Problem classes need attention\n",
      "🎉 새로운 최고 성능! F1: 0.9000 (Problem Classes: 0.5377)\n",
      "\n",
      "📈 Epoch 28/50\n"
     ]
    },
    {
     "name": "stderr",
     "output_type": "stream",
     "text": [
      "Loss: 1.1253, Mixup: False, Cutout: True, RandomCrop: False: 100%|██████████| 40/40 [00:13<00:00,  2.92it/s]\n",
      "Val Loss: 0.9588: 100%|██████████| 10/10 [00:01<00:00,  6.34it/s]\n"
     ]
    },
    {
     "name": "stdout",
     "output_type": "stream",
     "text": [
      "  Class 3 F1: 0.5143\n",
      "  Class 7 F1: 0.5000\n",
      "  Class 14 F1: 0.4615\n",
      "  Problem Classes Avg F1: 0.4919\n",
      " Epoch 28 | Train Loss: 1.2915 | Train F1: 0.7675 | Val Loss: 1.2078 | Val F1: 0.8960 | LR: 2.19e-04\n",
      "         Problem Classes (3,7,14) Avg F1: 0.4919 | ⚠️ Problem classes need attention\n",
      "\n",
      "📈 Epoch 29/50\n"
     ]
    },
    {
     "name": "stderr",
     "output_type": "stream",
     "text": [
      "Loss: 1.1108, Mixup: False, Cutout: True, RandomCrop: False: 100%|██████████| 40/40 [00:13<00:00,  2.98it/s]\n",
      "Val Loss: 0.9540: 100%|██████████| 10/10 [00:01<00:00,  6.71it/s]\n"
     ]
    },
    {
     "name": "stdout",
     "output_type": "stream",
     "text": [
      "  Class 3 F1: 0.5833\n",
      "  Class 7 F1: 0.4000\n",
      "  Class 14 F1: 0.4800\n",
      "  Problem Classes Avg F1: 0.4878\n",
      " Epoch 29 | Train Loss: 1.3583 | Train F1: 0.7110 | Val Loss: 1.2155 | Val F1: 0.8907 | LR: 2.03e-04\n",
      "         Problem Classes (3,7,14) Avg F1: 0.4878 | ⚠️ Problem classes need attention\n",
      "\n",
      "📈 Epoch 30/50\n"
     ]
    },
    {
     "name": "stderr",
     "output_type": "stream",
     "text": [
      "Loss: 0.9223, Mixup: False, Cutout: True, RandomCrop: False: 100%|██████████| 40/40 [00:13<00:00,  2.90it/s]\n",
      "Val Loss: 0.8935: 100%|██████████| 10/10 [00:01<00:00,  6.39it/s]\n"
     ]
    },
    {
     "name": "stdout",
     "output_type": "stream",
     "text": [
      "  Class 3 F1: 0.5238\n",
      "  Class 7 F1: 0.4878\n",
      "  Class 14 F1: 0.5217\n",
      "  Problem Classes Avg F1: 0.5111\n",
      " Epoch 30 | Train Loss: 1.2509 | Train F1: 0.7840 | Val Loss: 1.1880 | Val F1: 0.8941 | LR: 1.88e-04\n",
      "         Problem Classes (3,7,14) Avg F1: 0.5111 | ⚠️ Problem classes need attention\n",
      "\n",
      "📈 Epoch 31/50\n"
     ]
    },
    {
     "name": "stderr",
     "output_type": "stream",
     "text": [
      "Loss: 1.5854, Mixup: True, Cutout: False, RandomCrop: False: 100%|██████████| 40/40 [00:13<00:00,  2.94it/s]\n",
      "Val Loss: 0.8920: 100%|██████████| 10/10 [00:01<00:00,  6.69it/s]\n"
     ]
    },
    {
     "name": "stdout",
     "output_type": "stream",
     "text": [
      "  Class 3 F1: 0.6000\n",
      "  Class 7 F1: 0.5455\n",
      "  Class 14 F1: 0.5217\n",
      "  Problem Classes Avg F1: 0.5557\n",
      " Epoch 31 | Train Loss: 1.2289 | Train F1: 0.7817 | Val Loss: 1.1814 | Val F1: 0.8985 | LR: 1.73e-04\n",
      "         Problem Classes (3,7,14) Avg F1: 0.5557 | ⚠️ Problem classes need attention\n",
      "\n",
      "📈 Epoch 32/50\n"
     ]
    },
    {
     "name": "stderr",
     "output_type": "stream",
     "text": [
      "Loss: 1.4673, Mixup: False, Cutout: False, RandomCrop: True: 100%|██████████| 40/40 [00:13<00:00,  2.90it/s]\n",
      "Val Loss: 0.8834: 100%|██████████| 10/10 [00:01<00:00,  6.67it/s]\n"
     ]
    },
    {
     "name": "stdout",
     "output_type": "stream",
     "text": [
      "  Class 3 F1: 0.5116\n",
      "  Class 7 F1: 0.5366\n",
      "  Class 14 F1: 0.5714\n",
      "  Problem Classes Avg F1: 0.5399\n",
      " Epoch 32 | Train Loss: 1.3071 | Train F1: 0.7719 | Val Loss: 1.1873 | Val F1: 0.8932 | LR: 1.58e-04\n",
      "         Problem Classes (3,7,14) Avg F1: 0.5399 | ⚠️ Problem classes need attention\n",
      "\n",
      "📈 Epoch 33/50\n"
     ]
    },
    {
     "name": "stderr",
     "output_type": "stream",
     "text": [
      "Loss: 1.5204, Mixup: True, Cutout: False, RandomCrop: False: 100%|██████████| 40/40 [00:13<00:00,  2.94it/s]\n",
      "Val Loss: 0.9128: 100%|██████████| 10/10 [00:01<00:00,  6.78it/s]\n"
     ]
    },
    {
     "name": "stdout",
     "output_type": "stream",
     "text": [
      "  Class 3 F1: 0.5238\n",
      "  Class 7 F1: 0.5714\n",
      "  Class 14 F1: 0.6000\n",
      "  Problem Classes Avg F1: 0.5651\n",
      " Epoch 33 | Train Loss: 1.3172 | Train F1: 0.7025 | Val Loss: 1.2275 | Val F1: 0.8995 | LR: 1.44e-04\n",
      "         Problem Classes (3,7,14) Avg F1: 0.5651 | ⚠️ Problem classes need attention\n",
      "\n",
      "📈 Epoch 34/50\n"
     ]
    },
    {
     "name": "stderr",
     "output_type": "stream",
     "text": [
      "Loss: 1.1780, Mixup: False, Cutout: False, RandomCrop: True: 100%|██████████| 40/40 [00:13<00:00,  2.90it/s]\n",
      "Val Loss: 0.8912: 100%|██████████| 10/10 [00:01<00:00,  6.40it/s]"
     ]
    },
    {
     "name": "stdout",
     "output_type": "stream",
     "text": [
      "  Class 3 F1: 0.5161\n",
      "  Class 7 F1: 0.5652\n",
      "  Class 14 F1: 0.5455\n",
      "  Problem Classes Avg F1: 0.5423\n",
      " Epoch 34 | Train Loss: 1.2865 | Train F1: 0.6860 | Val Loss: 1.2190 | Val F1: 0.8999 | LR: 1.30e-04\n",
      "         Problem Classes (3,7,14) Avg F1: 0.5423 | ⚠️ Problem classes need attention\n",
      "⏸️ Early stopping at epoch 34 (patience: 7)\n",
      "\n",
      " Fold 4 완료!\n",
      " 최고 Validation F1: 0.9000\n",
      " 학습된 에폭: 34/50\n"
     ]
    },
    {
     "name": "stderr",
     "output_type": "stream",
     "text": [
      "\n"
     ]
    },
    {
     "data": {
      "text/html": [],
      "text/plain": [
       "<IPython.core.display.HTML object>"
      ]
     },
     "metadata": {},
     "output_type": "display_data"
    },
    {
     "data": {
      "text/html": [
       "<br>    <style><br>        .wandb-row {<br>            display: flex;<br>            flex-direction: row;<br>            flex-wrap: wrap;<br>            justify-content: flex-start;<br>            width: 100%;<br>        }<br>        .wandb-col {<br>            display: flex;<br>            flex-direction: column;<br>            flex-basis: 100%;<br>            flex: 1;<br>            padding: 10px;<br>        }<br>    </style><br><div class=\"wandb-row\"><div class=\"wandb-col\"><h3>Run history:</h3><br/><table class=\"wandb\"><tr><td>best_performance/epoch</td><td>▁▁▂▂▂▃▃▄▄▆█</td></tr><tr><td>best_performance/problem_classes_f1</td><td>▁▃▃▄▅▆▇███▇</td></tr><tr><td>best_performance/val_acc</td><td>▁▄▅▆▇▇█████</td></tr><tr><td>best_performance/val_f1</td><td>▁▄▅▆▇▇█████</td></tr><tr><td>best_performance/val_loss</td><td>█▄▄▃▂▂▂▁▁▁▁</td></tr><tr><td>early_stopping/epoch</td><td>▁</td></tr><tr><td>fold_4/class_14_f1</td><td>▁▁▃▄▅▃▅▅▄▇▆██▅▆▆▆▆▆▆▇▇▇▇▆▇▇▆▆▆▆▇▇▇</td></tr><tr><td>fold_4/class_3_f1</td><td>▂▅▅▂▄▅▇█▁▄▅▆▆▇▆▅▄▅▅▅█▇▅▇▆▁▅▆▇▆▇▆▆▆</td></tr><tr><td>fold_4/class_7_f1</td><td>▁▃▁▅▅▅▇▇▆▇▇██▇▇▆▇▆▇▆▇█▇▇█▇▇▇▅▆▇▇█▇</td></tr><tr><td>fold_4/problem_classes_avg_f1</td><td>▁▃▃▄▅▄▆▇▄▆▆██▇▇▆▆▆▆▆██▇▇▇▆▇▆▆▇▇▇▇▇</td></tr><tr><td>+7</td><td>...</td></tr></table><br/></div><div class=\"wandb-col\"><h3>Run summary:</h3><br/><table class=\"wandb\"><tr><td>best_performance/epoch</td><td>27</td></tr><tr><td>best_performance/problem_classes_f1</td><td>0.5377</td></tr><tr><td>best_performance/val_acc</td><td>0.90764</td></tr><tr><td>best_performance/val_f1</td><td>0.90002</td></tr><tr><td>best_performance/val_loss</td><td>1.17349</td></tr><tr><td>early_stopping/epoch</td><td>34</td></tr><tr><td>fold_4/class_14_f1</td><td>0.54545</td></tr><tr><td>fold_4/class_3_f1</td><td>0.51613</td></tr><tr><td>fold_4/class_7_f1</td><td>0.56522</td></tr><tr><td>fold_4/problem_classes_avg_f1</td><td>0.54227</td></tr><tr><td>+8</td><td>...</td></tr></table><br/></div></div>"
      ],
      "text/plain": [
       "<IPython.core.display.HTML object>"
      ]
     },
     "metadata": {},
     "output_type": "display_data"
    },
    {
     "data": {
      "text/html": [
       " View run <strong style=\"color:#cdcd00\">fold-4-efficientnet_b3-0848</strong> at: <a href='https://wandb.ai/kimsunmin0227-hufs/document-classification-team-CV/runs/s2vpwa69' target=\"_blank\">https://wandb.ai/kimsunmin0227-hufs/document-classification-team-CV/runs/s2vpwa69</a><br> View project at: <a href='https://wandb.ai/kimsunmin0227-hufs/document-classification-team-CV' target=\"_blank\">https://wandb.ai/kimsunmin0227-hufs/document-classification-team-CV</a><br>Synced 5 W&B file(s), 0 media file(s), 0 artifact file(s) and 1 other file(s)"
      ],
      "text/plain": [
       "<IPython.core.display.HTML object>"
      ]
     },
     "metadata": {},
     "output_type": "display_data"
    },
    {
     "data": {
      "text/html": [
       "Find logs at: <code>./wandb/run-20250908_084816-s2vpwa69/logs</code>"
      ],
      "text/plain": [
       "<IPython.core.display.HTML object>"
      ]
     },
     "metadata": {},
     "output_type": "display_data"
    },
    {
     "name": "stdout",
     "output_type": "stream",
     "text": [
      "\n",
      "==================================================\n",
      " FOLD 5/5\n",
      "==================================================\n"
     ]
    },
    {
     "data": {
      "text/html": [
       "creating run (0.2s)"
      ],
      "text/plain": [
       "<IPython.core.display.HTML object>"
      ]
     },
     "metadata": {},
     "output_type": "display_data"
    },
    {
     "data": {
      "text/html": [
       "Tracking run with wandb version 0.21.3"
      ],
      "text/plain": [
       "<IPython.core.display.HTML object>"
      ]
     },
     "metadata": {},
     "output_type": "display_data"
    },
    {
     "data": {
      "text/html": [
       "Run data is saved locally in <code>/root/computervisioncompetition-cv-1/mywork/experiments/wandb/run-20250908_085657-buu4g7zn</code>"
      ],
      "text/plain": [
       "<IPython.core.display.HTML object>"
      ]
     },
     "metadata": {},
     "output_type": "display_data"
    },
    {
     "data": {
      "text/html": [
       "Syncing run <strong><a href='https://wandb.ai/kimsunmin0227-hufs/document-classification-team-CV/runs/buu4g7zn' target=\"_blank\">fold-5-efficientnet_b3-0856</a></strong> to <a href='https://wandb.ai/kimsunmin0227-hufs/document-classification-team-CV' target=\"_blank\">Weights & Biases</a> (<a href='https://wandb.me/developer-guide' target=\"_blank\">docs</a>)<br>"
      ],
      "text/plain": [
       "<IPython.core.display.HTML object>"
      ]
     },
     "metadata": {},
     "output_type": "display_data"
    },
    {
     "data": {
      "text/html": [
       " View project at <a href='https://wandb.ai/kimsunmin0227-hufs/document-classification-team-CV' target=\"_blank\">https://wandb.ai/kimsunmin0227-hufs/document-classification-team-CV</a>"
      ],
      "text/plain": [
       "<IPython.core.display.HTML object>"
      ]
     },
     "metadata": {},
     "output_type": "display_data"
    },
    {
     "data": {
      "text/html": [
       " View run at <a href='https://wandb.ai/kimsunmin0227-hufs/document-classification-team-CV/runs/buu4g7zn' target=\"_blank\">https://wandb.ai/kimsunmin0227-hufs/document-classification-team-CV/runs/buu4g7zn</a>"
      ],
      "text/plain": [
       "<IPython.core.display.HTML object>"
      ]
     },
     "metadata": {},
     "output_type": "display_data"
    },
    {
     "name": "stdout",
     "output_type": "stream",
     "text": [
      "📊 Fold 5 Dashboard: https://wandb.ai/kimsunmin0227-hufs/document-classification-team-CV/runs/buu4g7zn\n",
      "Train samples: 1256, Validation samples: 314\n",
      " 모델 학습 시작 - Fold 5\n",
      "\n",
      "📈 Epoch 1/50\n"
     ]
    },
    {
     "name": "stderr",
     "output_type": "stream",
     "text": [
      "Loss: 2.2140, Mixup: False, Cutout: True, RandomCrop: False: 100%|██████████| 40/40 [00:13<00:00,  2.87it/s]\n",
      "Val Loss: 1.5988: 100%|██████████| 10/10 [00:01<00:00,  6.34it/s]\n"
     ]
    },
    {
     "name": "stdout",
     "output_type": "stream",
     "text": [
      "  Class 3 F1: 0.1951\n",
      "  Class 7 F1: 0.2936\n",
      "  Class 14 F1: 0.0870\n",
      "  Problem Classes Avg F1: 0.1919\n",
      " Epoch  1 | Train Loss: 2.8304 | Train F1: 0.1705 | Val Loss: 1.8950 | Val F1: 0.5262 | LR: 5.00e-04\n",
      "         Problem Classes (3,7,14) Avg F1: 0.1919 | ✅ Problem classes performing well\n",
      "🎉 새로운 최고 성능! F1: 0.5262 (Problem Classes: 0.1919)\n",
      "\n",
      "📈 Epoch 2/50\n"
     ]
    },
    {
     "name": "stderr",
     "output_type": "stream",
     "text": [
      "Loss: 1.9259, Mixup: False, Cutout: False, RandomCrop: True: 100%|██████████| 40/40 [00:13<00:00,  2.94it/s]\n",
      "Val Loss: 1.6371: 100%|██████████| 10/10 [00:01<00:00,  6.72it/s]\n"
     ]
    },
    {
     "name": "stdout",
     "output_type": "stream",
     "text": [
      "  Class 3 F1: 0.2254\n",
      "  Class 7 F1: 0.2791\n",
      "  Class 14 F1: 0.0000\n",
      "  Problem Classes Avg F1: 0.1681\n",
      " Epoch  2 | Train Loss: 2.1567 | Train F1: 0.3990 | Val Loss: 1.7728 | Val F1: 0.5801 | LR: 5.00e-04\n",
      "         Problem Classes (3,7,14) Avg F1: 0.1681 | ⚠️ Problem classes need attention\n",
      "🎉 새로운 최고 성능! F1: 0.5801 (Problem Classes: 0.1681)\n",
      "\n",
      "📈 Epoch 3/50\n"
     ]
    },
    {
     "name": "stderr",
     "output_type": "stream",
     "text": [
      "Loss: 1.7116, Mixup: False, Cutout: False, RandomCrop: True: 100%|██████████| 40/40 [00:13<00:00,  2.88it/s]\n",
      "Val Loss: 1.4988: 100%|██████████| 10/10 [00:01<00:00,  6.67it/s]\n"
     ]
    },
    {
     "name": "stdout",
     "output_type": "stream",
     "text": [
      "  Class 3 F1: 0.1304\n",
      "  Class 7 F1: 0.3297\n",
      "  Class 14 F1: 0.0000\n",
      "  Problem Classes Avg F1: 0.1534\n",
      " Epoch  3 | Train Loss: 2.0494 | Train F1: 0.3939 | Val Loss: 1.6646 | Val F1: 0.6148 | LR: 4.98e-04\n",
      "         Problem Classes (3,7,14) Avg F1: 0.1534 | ⚠️ Problem classes need attention\n",
      "🎉 새로운 최고 성능! F1: 0.6148 (Problem Classes: 0.1534)\n",
      "\n",
      "📈 Epoch 4/50\n"
     ]
    },
    {
     "name": "stderr",
     "output_type": "stream",
     "text": [
      "Loss: 2.2425, Mixup: True, Cutout: False, RandomCrop: False: 100%|██████████| 40/40 [00:13<00:00,  2.98it/s]\n",
      "Val Loss: 1.3866: 100%|██████████| 10/10 [00:01<00:00,  6.76it/s]\n"
     ]
    },
    {
     "name": "stdout",
     "output_type": "stream",
     "text": [
      "  Class 3 F1: 0.2807\n",
      "  Class 7 F1: 0.3582\n",
      "  Class 14 F1: 0.2500\n",
      "  Problem Classes Avg F1: 0.2963\n",
      " Epoch  4 | Train Loss: 1.8369 | Train F1: 0.5185 | Val Loss: 1.5104 | Val F1: 0.7168 | LR: 4.96e-04\n",
      "         Problem Classes (3,7,14) Avg F1: 0.2963 | ⚠️ Problem classes need attention\n",
      "🎉 새로운 최고 성능! F1: 0.7168 (Problem Classes: 0.2963)\n",
      "\n",
      "📈 Epoch 5/50\n"
     ]
    },
    {
     "name": "stderr",
     "output_type": "stream",
     "text": [
      "Loss: 1.3888, Mixup: False, Cutout: False, RandomCrop: True: 100%|██████████| 40/40 [00:13<00:00,  2.92it/s]\n",
      "Val Loss: 1.5122: 100%|██████████| 10/10 [00:01<00:00,  6.84it/s]\n"
     ]
    },
    {
     "name": "stdout",
     "output_type": "stream",
     "text": [
      "  Class 3 F1: 0.3768\n",
      "  Class 7 F1: 0.1364\n",
      "  Class 14 F1: 0.4444\n",
      "  Problem Classes Avg F1: 0.3192\n",
      " Epoch  5 | Train Loss: 1.7549 | Train F1: 0.5689 | Val Loss: 1.4247 | Val F1: 0.7654 | LR: 4.92e-04\n",
      "         Problem Classes (3,7,14) Avg F1: 0.3192 | ⚠️ Problem classes need attention\n",
      "🎉 새로운 최고 성능! F1: 0.7654 (Problem Classes: 0.3192)\n",
      "\n",
      "📈 Epoch 6/50\n"
     ]
    },
    {
     "name": "stderr",
     "output_type": "stream",
     "text": [
      "Loss: 1.9133, Mixup: True, Cutout: False, RandomCrop: False: 100%|██████████| 40/40 [00:13<00:00,  2.94it/s]\n",
      "Val Loss: 1.2256: 100%|██████████| 10/10 [00:01<00:00,  6.78it/s]\n"
     ]
    },
    {
     "name": "stdout",
     "output_type": "stream",
     "text": [
      "  Class 3 F1: 0.2105\n",
      "  Class 7 F1: 0.3797\n",
      "  Class 14 F1: 0.3636\n",
      "  Problem Classes Avg F1: 0.3180\n",
      " Epoch  6 | Train Loss: 1.8322 | Train F1: 0.5478 | Val Loss: 1.3799 | Val F1: 0.7649 | LR: 4.88e-04\n",
      "         Problem Classes (3,7,14) Avg F1: 0.3180 | ⚠️ Problem classes need attention\n",
      "\n",
      "📈 Epoch 7/50\n"
     ]
    },
    {
     "name": "stderr",
     "output_type": "stream",
     "text": [
      "Loss: 1.7686, Mixup: False, Cutout: True, RandomCrop: False: 100%|██████████| 40/40 [00:13<00:00,  2.92it/s]\n",
      "Val Loss: 1.1263: 100%|██████████| 10/10 [00:01<00:00,  6.37it/s]\n"
     ]
    },
    {
     "name": "stdout",
     "output_type": "stream",
     "text": [
      "  Class 3 F1: 0.2667\n",
      "  Class 7 F1: 0.4444\n",
      "  Class 14 F1: 0.5556\n",
      "  Problem Classes Avg F1: 0.4222\n",
      " Epoch  7 | Train Loss: 1.5993 | Train F1: 0.6532 | Val Loss: 1.3199 | Val F1: 0.8101 | LR: 4.82e-04\n",
      "         Problem Classes (3,7,14) Avg F1: 0.4222 | ⚠️ Problem classes need attention\n",
      "🎉 새로운 최고 성능! F1: 0.8101 (Problem Classes: 0.4222)\n",
      "\n",
      "📈 Epoch 8/50\n"
     ]
    },
    {
     "name": "stderr",
     "output_type": "stream",
     "text": [
      "Loss: 1.9202, Mixup: True, Cutout: False, RandomCrop: False: 100%|██████████| 40/40 [00:13<00:00,  2.94it/s]\n",
      "Val Loss: 1.1101: 100%|██████████| 10/10 [00:01<00:00,  6.69it/s]\n"
     ]
    },
    {
     "name": "stdout",
     "output_type": "stream",
     "text": [
      "  Class 3 F1: 0.0769\n",
      "  Class 7 F1: 0.4235\n",
      "  Class 14 F1: 0.4000\n",
      "  Problem Classes Avg F1: 0.3002\n",
      " Epoch  8 | Train Loss: 1.6348 | Train F1: 0.6391 | Val Loss: 1.3035 | Val F1: 0.7958 | LR: 4.76e-04\n",
      "         Problem Classes (3,7,14) Avg F1: 0.3002 | ⚠️ Problem classes need attention\n",
      "\n",
      "📈 Epoch 9/50\n"
     ]
    },
    {
     "name": "stderr",
     "output_type": "stream",
     "text": [
      "Loss: 2.1012, Mixup: True, Cutout: False, RandomCrop: False: 100%|██████████| 40/40 [00:13<00:00,  2.90it/s]\n",
      "Val Loss: 1.0707: 100%|██████████| 10/10 [00:01<00:00,  6.81it/s]\n"
     ]
    },
    {
     "name": "stdout",
     "output_type": "stream",
     "text": [
      "  Class 3 F1: 0.2424\n",
      "  Class 7 F1: 0.5574\n",
      "  Class 14 F1: 0.5714\n",
      "  Problem Classes Avg F1: 0.4571\n",
      " Epoch  9 | Train Loss: 1.6632 | Train F1: 0.5436 | Val Loss: 1.2785 | Val F1: 0.8652 | LR: 4.69e-04\n",
      "         Problem Classes (3,7,14) Avg F1: 0.4571 | ⚠️ Problem classes need attention\n",
      "🎉 새로운 최고 성능! F1: 0.8652 (Problem Classes: 0.4571)\n",
      "\n",
      "📈 Epoch 10/50\n"
     ]
    },
    {
     "name": "stderr",
     "output_type": "stream",
     "text": [
      "Loss: 1.9003, Mixup: False, Cutout: False, RandomCrop: True: 100%|██████████| 40/40 [00:13<00:00,  2.94it/s]\n",
      "Val Loss: 1.0972: 100%|██████████| 10/10 [00:01<00:00,  6.82it/s]\n"
     ]
    },
    {
     "name": "stdout",
     "output_type": "stream",
     "text": [
      "  Class 3 F1: 0.4500\n",
      "  Class 7 F1: 0.5000\n",
      "  Class 14 F1: 0.5714\n",
      "  Problem Classes Avg F1: 0.5071\n",
      " Epoch 10 | Train Loss: 1.5971 | Train F1: 0.6432 | Val Loss: 1.2428 | Val F1: 0.8620 | LR: 4.61e-04\n",
      "         Problem Classes (3,7,14) Avg F1: 0.5071 | ⚠️ Problem classes need attention\n",
      "\n",
      "📈 Epoch 11/50\n"
     ]
    },
    {
     "name": "stderr",
     "output_type": "stream",
     "text": [
      "Loss: 1.5311, Mixup: True, Cutout: False, RandomCrop: False: 100%|██████████| 40/40 [00:13<00:00,  2.88it/s]\n",
      "Val Loss: 1.2731: 100%|██████████| 10/10 [00:01<00:00,  6.78it/s]\n"
     ]
    },
    {
     "name": "stdout",
     "output_type": "stream",
     "text": [
      "  Class 3 F1: 0.2286\n",
      "  Class 7 F1: 0.4235\n",
      "  Class 14 F1: 0.0000\n",
      "  Problem Classes Avg F1: 0.2174\n",
      " Epoch 11 | Train Loss: 1.4517 | Train F1: 0.7365 | Val Loss: 1.3849 | Val F1: 0.7765 | LR: 4.52e-04\n",
      "         Problem Classes (3,7,14) Avg F1: 0.2174 | ⚠️ Problem classes need attention\n",
      "\n",
      "📈 Epoch 12/50\n"
     ]
    },
    {
     "name": "stderr",
     "output_type": "stream",
     "text": [
      "Loss: 2.2945, Mixup: True, Cutout: False, RandomCrop: False: 100%|██████████| 40/40 [00:13<00:00,  2.90it/s]\n",
      "Val Loss: 1.1246: 100%|██████████| 10/10 [00:01<00:00,  6.75it/s]\n"
     ]
    },
    {
     "name": "stdout",
     "output_type": "stream",
     "text": [
      "  Class 3 F1: 0.1935\n",
      "  Class 7 F1: 0.4615\n",
      "  Class 14 F1: 0.3333\n",
      "  Problem Classes Avg F1: 0.3295\n",
      " Epoch 12 | Train Loss: 1.5697 | Train F1: 0.6163 | Val Loss: 1.3080 | Val F1: 0.8327 | LR: 4.43e-04\n",
      "         Problem Classes (3,7,14) Avg F1: 0.3295 | ⚠️ Problem classes need attention\n",
      "\n",
      "📈 Epoch 13/50\n"
     ]
    },
    {
     "name": "stderr",
     "output_type": "stream",
     "text": [
      "Loss: 1.1098, Mixup: False, Cutout: False, RandomCrop: True: 100%|██████████| 40/40 [00:13<00:00,  2.92it/s]\n",
      "Val Loss: 1.1758: 100%|██████████| 10/10 [00:01<00:00,  6.72it/s]\n"
     ]
    },
    {
     "name": "stdout",
     "output_type": "stream",
     "text": [
      "  Class 3 F1: 0.5385\n",
      "  Class 7 F1: 0.5294\n",
      "  Class 14 F1: 0.5333\n",
      "  Problem Classes Avg F1: 0.5337\n",
      " Epoch 13 | Train Loss: 1.4707 | Train F1: 0.6861 | Val Loss: 1.1950 | Val F1: 0.8816 | LR: 4.32e-04\n",
      "         Problem Classes (3,7,14) Avg F1: 0.5337 | ⚠️ Problem classes need attention\n",
      "🎉 새로운 최고 성능! F1: 0.8816 (Problem Classes: 0.5337)\n",
      "\n",
      "📈 Epoch 14/50\n"
     ]
    },
    {
     "name": "stderr",
     "output_type": "stream",
     "text": [
      "Loss: 1.8909, Mixup: True, Cutout: False, RandomCrop: False: 100%|██████████| 40/40 [00:13<00:00,  2.89it/s]\n",
      "Val Loss: 1.1622: 100%|██████████| 10/10 [00:01<00:00,  6.61it/s]\n"
     ]
    },
    {
     "name": "stdout",
     "output_type": "stream",
     "text": [
      "  Class 3 F1: 0.4906\n",
      "  Class 7 F1: 0.5641\n",
      "  Class 14 F1: 0.5455\n",
      "  Problem Classes Avg F1: 0.5334\n",
      " Epoch 14 | Train Loss: 1.4321 | Train F1: 0.7373 | Val Loss: 1.2005 | Val F1: 0.8803 | LR: 4.21e-04\n",
      "         Problem Classes (3,7,14) Avg F1: 0.5334 | ⚠️ Problem classes need attention\n",
      "\n",
      "📈 Epoch 15/50\n"
     ]
    },
    {
     "name": "stderr",
     "output_type": "stream",
     "text": [
      "Loss: 1.7016, Mixup: True, Cutout: False, RandomCrop: False: 100%|██████████| 40/40 [00:13<00:00,  2.92it/s]\n",
      "Val Loss: 1.3100: 100%|██████████| 10/10 [00:01<00:00,  6.68it/s]\n"
     ]
    },
    {
     "name": "stdout",
     "output_type": "stream",
     "text": [
      "  Class 3 F1: 0.5000\n",
      "  Class 7 F1: 0.4286\n",
      "  Class 14 F1: 0.4255\n",
      "  Problem Classes Avg F1: 0.4514\n",
      " Epoch 15 | Train Loss: 1.3968 | Train F1: 0.7369 | Val Loss: 1.3321 | Val F1: 0.8704 | LR: 4.09e-04\n",
      "         Problem Classes (3,7,14) Avg F1: 0.4514 | ⚠️ Problem classes need attention\n",
      "\n",
      "📈 Epoch 16/50\n"
     ]
    },
    {
     "name": "stderr",
     "output_type": "stream",
     "text": [
      "Loss: 1.8072, Mixup: False, Cutout: False, RandomCrop: True: 100%|██████████| 40/40 [00:13<00:00,  2.95it/s]\n",
      "Val Loss: 1.2713: 100%|██████████| 10/10 [00:01<00:00,  6.64it/s]\n"
     ]
    },
    {
     "name": "stdout",
     "output_type": "stream",
     "text": [
      "  Class 3 F1: 0.5106\n",
      "  Class 7 F1: 0.5405\n",
      "  Class 14 F1: 0.5161\n",
      "  Problem Classes Avg F1: 0.5224\n",
      " Epoch 16 | Train Loss: 1.4291 | Train F1: 0.7391 | Val Loss: 1.1967 | Val F1: 0.8756 | LR: 3.97e-04\n",
      "         Problem Classes (3,7,14) Avg F1: 0.5224 | ⚠️ Problem classes need attention\n",
      "\n",
      "📈 Epoch 17/50\n"
     ]
    },
    {
     "name": "stderr",
     "output_type": "stream",
     "text": [
      "Loss: 1.2960, Mixup: False, Cutout: False, RandomCrop: True: 100%|██████████| 40/40 [00:13<00:00,  2.89it/s]\n",
      "Val Loss: 1.0296: 100%|██████████| 10/10 [00:01<00:00,  6.67it/s]\n"
     ]
    },
    {
     "name": "stdout",
     "output_type": "stream",
     "text": [
      "  Class 3 F1: 0.3200\n",
      "  Class 7 F1: 0.6400\n",
      "  Class 14 F1: 0.4500\n",
      "  Problem Classes Avg F1: 0.4700\n",
      " Epoch 17 | Train Loss: 1.3614 | Train F1: 0.7372 | Val Loss: 1.3101 | Val F1: 0.8716 | LR: 3.84e-04\n",
      "         Problem Classes (3,7,14) Avg F1: 0.4700 | ⚠️ Problem classes need attention\n",
      "\n",
      "📈 Epoch 18/50\n"
     ]
    },
    {
     "name": "stderr",
     "output_type": "stream",
     "text": [
      "Loss: 1.0785, Mixup: False, Cutout: True, RandomCrop: False: 100%|██████████| 40/40 [00:13<00:00,  2.90it/s]\n",
      "Val Loss: 1.2087: 100%|██████████| 10/10 [00:01<00:00,  6.70it/s]\n"
     ]
    },
    {
     "name": "stdout",
     "output_type": "stream",
     "text": [
      "  Class 3 F1: 0.4444\n",
      "  Class 7 F1: 0.5238\n",
      "  Class 14 F1: 0.6957\n",
      "  Problem Classes Avg F1: 0.5546\n",
      " Epoch 18 | Train Loss: 1.3697 | Train F1: 0.7308 | Val Loss: 1.1739 | Val F1: 0.8920 | LR: 3.70e-04\n",
      "         Problem Classes (3,7,14) Avg F1: 0.5546 | ⚠️ Problem classes need attention\n",
      "🎉 새로운 최고 성능! F1: 0.8920 (Problem Classes: 0.5546)\n",
      "\n",
      "📈 Epoch 19/50\n"
     ]
    },
    {
     "name": "stderr",
     "output_type": "stream",
     "text": [
      "Loss: 2.0414, Mixup: True, Cutout: False, RandomCrop: False: 100%|██████████| 40/40 [00:13<00:00,  2.93it/s]\n",
      "Val Loss: 1.0566: 100%|██████████| 10/10 [00:01<00:00,  6.65it/s]\n"
     ]
    },
    {
     "name": "stdout",
     "output_type": "stream",
     "text": [
      "  Class 3 F1: 0.2424\n",
      "  Class 7 F1: 0.5091\n",
      "  Class 14 F1: 0.6154\n",
      "  Problem Classes Avg F1: 0.4556\n",
      " Epoch 19 | Train Loss: 1.3821 | Train F1: 0.7473 | Val Loss: 1.2314 | Val F1: 0.8685 | LR: 3.56e-04\n",
      "         Problem Classes (3,7,14) Avg F1: 0.4556 | ⚠️ Problem classes need attention\n",
      "\n",
      "📈 Epoch 20/50\n"
     ]
    },
    {
     "name": "stderr",
     "output_type": "stream",
     "text": [
      "Loss: 1.3663, Mixup: False, Cutout: True, RandomCrop: False: 100%|██████████| 40/40 [00:13<00:00,  2.90it/s]\n",
      "Val Loss: 1.2554: 100%|██████████| 10/10 [00:01<00:00,  6.75it/s]\n"
     ]
    },
    {
     "name": "stdout",
     "output_type": "stream",
     "text": [
      "  Class 3 F1: 0.5641\n",
      "  Class 7 F1: 0.4138\n",
      "  Class 14 F1: 0.4390\n",
      "  Problem Classes Avg F1: 0.4723\n",
      " Epoch 20 | Train Loss: 1.2901 | Train F1: 0.7530 | Val Loss: 1.3351 | Val F1: 0.8709 | LR: 3.42e-04\n",
      "         Problem Classes (3,7,14) Avg F1: 0.4723 | ⚠️ Problem classes need attention\n",
      "\n",
      "📈 Epoch 21/50\n"
     ]
    },
    {
     "name": "stderr",
     "output_type": "stream",
     "text": [
      "Loss: 2.7378, Mixup: True, Cutout: False, RandomCrop: False: 100%|██████████| 40/40 [00:13<00:00,  2.94it/s]\n",
      "Val Loss: 0.9650: 100%|██████████| 10/10 [00:01<00:00,  6.38it/s]\n"
     ]
    },
    {
     "name": "stdout",
     "output_type": "stream",
     "text": [
      "  Class 3 F1: 0.1667\n",
      "  Class 7 F1: 0.5938\n",
      "  Class 14 F1: 0.5833\n",
      "  Problem Classes Avg F1: 0.4479\n",
      " Epoch 21 | Train Loss: 1.3991 | Train F1: 0.6732 | Val Loss: 1.2605 | Val F1: 0.8768 | LR: 3.27e-04\n",
      "         Problem Classes (3,7,14) Avg F1: 0.4479 | ⚠️ Problem classes need attention\n",
      "\n",
      "📈 Epoch 22/50\n"
     ]
    },
    {
     "name": "stderr",
     "output_type": "stream",
     "text": [
      "Loss: 1.3401, Mixup: False, Cutout: True, RandomCrop: False: 100%|██████████| 40/40 [00:13<00:00,  2.94it/s]\n",
      "Val Loss: 1.0017: 100%|██████████| 10/10 [00:01<00:00,  6.30it/s]\n"
     ]
    },
    {
     "name": "stdout",
     "output_type": "stream",
     "text": [
      "  Class 3 F1: 0.3226\n",
      "  Class 7 F1: 0.5000\n",
      "  Class 14 F1: 0.5000\n",
      "  Problem Classes Avg F1: 0.4409\n",
      " Epoch 22 | Train Loss: 1.3651 | Train F1: 0.6658 | Val Loss: 1.2365 | Val F1: 0.8719 | LR: 3.12e-04\n",
      "         Problem Classes (3,7,14) Avg F1: 0.4409 | ⚠️ Problem classes need attention\n",
      "\n",
      "📈 Epoch 23/50\n"
     ]
    },
    {
     "name": "stderr",
     "output_type": "stream",
     "text": [
      "Loss: 2.0089, Mixup: True, Cutout: False, RandomCrop: False: 100%|██████████| 40/40 [00:13<00:00,  2.97it/s]\n",
      "Val Loss: 1.0117: 100%|██████████| 10/10 [00:01<00:00,  6.75it/s]\n"
     ]
    },
    {
     "name": "stdout",
     "output_type": "stream",
     "text": [
      "  Class 3 F1: 0.3333\n",
      "  Class 7 F1: 0.6038\n",
      "  Class 14 F1: 0.5385\n",
      "  Problem Classes Avg F1: 0.4919\n",
      " Epoch 23 | Train Loss: 1.4099 | Train F1: 0.7442 | Val Loss: 1.2333 | Val F1: 0.8825 | LR: 2.97e-04\n",
      "         Problem Classes (3,7,14) Avg F1: 0.4919 | ⚠️ Problem classes need attention\n",
      "\n",
      "📈 Epoch 24/50\n"
     ]
    },
    {
     "name": "stderr",
     "output_type": "stream",
     "text": [
      "Loss: 0.8813, Mixup: False, Cutout: True, RandomCrop: False: 100%|██████████| 40/40 [00:13<00:00,  2.94it/s]\n",
      "Val Loss: 1.1150: 100%|██████████| 10/10 [00:01<00:00,  6.70it/s]\n"
     ]
    },
    {
     "name": "stdout",
     "output_type": "stream",
     "text": [
      "  Class 3 F1: 0.3810\n",
      "  Class 7 F1: 0.4651\n",
      "  Class 14 F1: 0.5385\n",
      "  Problem Classes Avg F1: 0.4615\n",
      " Epoch 24 | Train Loss: 1.3533 | Train F1: 0.7538 | Val Loss: 1.2137 | Val F1: 0.8815 | LR: 2.81e-04\n",
      "         Problem Classes (3,7,14) Avg F1: 0.4615 | ⚠️ Problem classes need attention\n",
      "\n",
      "📈 Epoch 25/50\n"
     ]
    },
    {
     "name": "stderr",
     "output_type": "stream",
     "text": [
      "Loss: 1.4872, Mixup: True, Cutout: False, RandomCrop: False: 100%|██████████| 40/40 [00:13<00:00,  2.91it/s]\n",
      "Val Loss: 0.9277: 100%|██████████| 10/10 [00:01<00:00,  6.70it/s]\n"
     ]
    },
    {
     "name": "stdout",
     "output_type": "stream",
     "text": [
      "  Class 3 F1: 0.2581\n",
      "  Class 7 F1: 0.5965\n",
      "  Class 14 F1: 0.6667\n",
      "  Problem Classes Avg F1: 0.5071\n",
      " Epoch 25 | Train Loss: 1.2771 | Train F1: 0.7647 | Val Loss: 1.2763 | Val F1: 0.8939 | LR: 2.66e-04\n",
      "         Problem Classes (3,7,14) Avg F1: 0.5071 | ⚠️ Problem classes need attention\n",
      "🎉 새로운 최고 성능! F1: 0.8939 (Problem Classes: 0.5071)\n",
      "\n",
      "📈 Epoch 26/50\n"
     ]
    },
    {
     "name": "stderr",
     "output_type": "stream",
     "text": [
      "Loss: 1.8083, Mixup: True, Cutout: False, RandomCrop: False: 100%|██████████| 40/40 [00:13<00:00,  2.86it/s]\n",
      "Val Loss: 1.0087: 100%|██████████| 10/10 [00:01<00:00,  6.68it/s]\n"
     ]
    },
    {
     "name": "stdout",
     "output_type": "stream",
     "text": [
      "  Class 3 F1: 0.3500\n",
      "  Class 7 F1: 0.4490\n",
      "  Class 14 F1: 0.7000\n",
      "  Problem Classes Avg F1: 0.4997\n",
      " Epoch 26 | Train Loss: 1.2169 | Train F1: 0.7649 | Val Loss: 1.2237 | Val F1: 0.8884 | LR: 2.50e-04\n",
      "         Problem Classes (3,7,14) Avg F1: 0.4997 | ⚠️ Problem classes need attention\n",
      "\n",
      "📈 Epoch 27/50\n"
     ]
    },
    {
     "name": "stderr",
     "output_type": "stream",
     "text": [
      "Loss: 0.8187, Mixup: False, Cutout: False, RandomCrop: True: 100%|██████████| 40/40 [00:13<00:00,  2.94it/s]\n",
      "Val Loss: 1.0975: 100%|██████████| 10/10 [00:01<00:00,  6.67it/s]\n"
     ]
    },
    {
     "name": "stdout",
     "output_type": "stream",
     "text": [
      "  Class 3 F1: 0.4545\n",
      "  Class 7 F1: 0.5000\n",
      "  Class 14 F1: 0.7368\n",
      "  Problem Classes Avg F1: 0.5638\n",
      " Epoch 27 | Train Loss: 1.2542 | Train F1: 0.7926 | Val Loss: 1.2022 | Val F1: 0.9054 | LR: 2.34e-04\n",
      "         Problem Classes (3,7,14) Avg F1: 0.5638 | ⚠️ Problem classes need attention\n",
      "🎉 새로운 최고 성능! F1: 0.9054 (Problem Classes: 0.5638)\n",
      "\n",
      "📈 Epoch 28/50\n"
     ]
    },
    {
     "name": "stderr",
     "output_type": "stream",
     "text": [
      "Loss: 1.1103, Mixup: False, Cutout: False, RandomCrop: True: 100%|██████████| 40/40 [00:13<00:00,  2.86it/s]\n",
      "Val Loss: 1.0657: 100%|██████████| 10/10 [00:01<00:00,  6.77it/s]\n"
     ]
    },
    {
     "name": "stdout",
     "output_type": "stream",
     "text": [
      "  Class 3 F1: 0.4500\n",
      "  Class 7 F1: 0.5714\n",
      "  Class 14 F1: 0.6087\n",
      "  Problem Classes Avg F1: 0.5434\n",
      " Epoch 28 | Train Loss: 1.3314 | Train F1: 0.6682 | Val Loss: 1.1995 | Val F1: 0.9005 | LR: 2.19e-04\n",
      "         Problem Classes (3,7,14) Avg F1: 0.5434 | ⚠️ Problem classes need attention\n",
      "\n",
      "📈 Epoch 29/50\n"
     ]
    },
    {
     "name": "stderr",
     "output_type": "stream",
     "text": [
      "Loss: 2.0247, Mixup: True, Cutout: False, RandomCrop: False: 100%|██████████| 40/40 [00:13<00:00,  2.96it/s]\n",
      "Val Loss: 0.9721: 100%|██████████| 10/10 [00:01<00:00,  6.78it/s]\n"
     ]
    },
    {
     "name": "stdout",
     "output_type": "stream",
     "text": [
      "  Class 3 F1: 0.4138\n",
      "  Class 7 F1: 0.5185\n",
      "  Class 14 F1: 0.5833\n",
      "  Problem Classes Avg F1: 0.5052\n",
      " Epoch 29 | Train Loss: 1.3947 | Train F1: 0.6777 | Val Loss: 1.2644 | Val F1: 0.8966 | LR: 2.03e-04\n",
      "         Problem Classes (3,7,14) Avg F1: 0.5052 | ⚠️ Problem classes need attention\n",
      "\n",
      "📈 Epoch 30/50\n"
     ]
    },
    {
     "name": "stderr",
     "output_type": "stream",
     "text": [
      "Loss: 1.9833, Mixup: True, Cutout: False, RandomCrop: False: 100%|██████████| 40/40 [00:13<00:00,  2.92it/s]\n",
      "Val Loss: 0.9878: 100%|██████████| 10/10 [00:01<00:00,  6.71it/s]\n"
     ]
    },
    {
     "name": "stdout",
     "output_type": "stream",
     "text": [
      "  Class 3 F1: 0.3636\n",
      "  Class 7 F1: 0.5714\n",
      "  Class 14 F1: 0.6087\n",
      "  Problem Classes Avg F1: 0.5146\n",
      " Epoch 30 | Train Loss: 1.2372 | Train F1: 0.7588 | Val Loss: 1.2205 | Val F1: 0.9023 | LR: 1.88e-04\n",
      "         Problem Classes (3,7,14) Avg F1: 0.5146 | ⚠️ Problem classes need attention\n",
      "\n",
      "📈 Epoch 31/50\n"
     ]
    },
    {
     "name": "stderr",
     "output_type": "stream",
     "text": [
      "Loss: 1.9221, Mixup: True, Cutout: False, RandomCrop: False: 100%|██████████| 40/40 [00:13<00:00,  2.95it/s]\n",
      "Val Loss: 1.0752: 100%|██████████| 10/10 [00:01<00:00,  6.76it/s]\n"
     ]
    },
    {
     "name": "stdout",
     "output_type": "stream",
     "text": [
      "  Class 3 F1: 0.4000\n",
      "  Class 7 F1: 0.5106\n",
      "  Class 14 F1: 0.6316\n",
      "  Problem Classes Avg F1: 0.5141\n",
      " Epoch 31 | Train Loss: 1.3523 | Train F1: 0.7204 | Val Loss: 1.1934 | Val F1: 0.8972 | LR: 1.73e-04\n",
      "         Problem Classes (3,7,14) Avg F1: 0.5141 | ⚠️ Problem classes need attention\n",
      "\n",
      "📈 Epoch 32/50\n"
     ]
    },
    {
     "name": "stderr",
     "output_type": "stream",
     "text": [
      "Loss: 2.3773, Mixup: True, Cutout: False, RandomCrop: False: 100%|██████████| 40/40 [00:13<00:00,  2.94it/s]\n",
      "Val Loss: 1.0211: 100%|██████████| 10/10 [00:01<00:00,  6.77it/s]\n"
     ]
    },
    {
     "name": "stdout",
     "output_type": "stream",
     "text": [
      "  Class 3 F1: 0.4103\n",
      "  Class 7 F1: 0.5000\n",
      "  Class 14 F1: 0.6087\n",
      "  Problem Classes Avg F1: 0.5063\n",
      " Epoch 32 | Train Loss: 1.2688 | Train F1: 0.7907 | Val Loss: 1.2078 | Val F1: 0.8957 | LR: 1.58e-04\n",
      "         Problem Classes (3,7,14) Avg F1: 0.5063 | ⚠️ Problem classes need attention\n",
      "\n",
      "📈 Epoch 33/50\n"
     ]
    },
    {
     "name": "stderr",
     "output_type": "stream",
     "text": [
      "Loss: 1.7207, Mixup: True, Cutout: False, RandomCrop: False: 100%|██████████| 40/40 [00:13<00:00,  2.92it/s]\n",
      "Val Loss: 1.0201: 100%|██████████| 10/10 [00:01<00:00,  6.72it/s]\n"
     ]
    },
    {
     "name": "stdout",
     "output_type": "stream",
     "text": [
      "  Class 3 F1: 0.4211\n",
      "  Class 7 F1: 0.5098\n",
      "  Class 14 F1: 0.6000\n",
      "  Problem Classes Avg F1: 0.5103\n",
      " Epoch 33 | Train Loss: 1.2086 | Train F1: 0.8134 | Val Loss: 1.2028 | Val F1: 0.8878 | LR: 1.44e-04\n",
      "         Problem Classes (3,7,14) Avg F1: 0.5103 | ⚠️ Problem classes need attention\n",
      "\n",
      "📈 Epoch 34/50\n"
     ]
    },
    {
     "name": "stderr",
     "output_type": "stream",
     "text": [
      "Loss: 1.6706, Mixup: True, Cutout: False, RandomCrop: False: 100%|██████████| 40/40 [00:13<00:00,  2.95it/s]\n",
      "Val Loss: 1.0073: 100%|██████████| 10/10 [00:01<00:00,  6.68it/s]"
     ]
    },
    {
     "name": "stdout",
     "output_type": "stream",
     "text": [
      "  Class 3 F1: 0.4444\n",
      "  Class 7 F1: 0.5581\n",
      "  Class 14 F1: 0.5000\n",
      "  Problem Classes Avg F1: 0.5009\n",
      " Epoch 34 | Train Loss: 1.2402 | Train F1: 0.8127 | Val Loss: 1.2642 | Val F1: 0.8966 | LR: 1.30e-04\n",
      "         Problem Classes (3,7,14) Avg F1: 0.5009 | ⚠️ Problem classes need attention\n",
      "⏸️ Early stopping at epoch 34 (patience: 7)\n",
      "\n",
      " Fold 5 완료!\n",
      " 최고 Validation F1: 0.9054\n",
      " 학습된 에폭: 34/50\n"
     ]
    },
    {
     "name": "stderr",
     "output_type": "stream",
     "text": [
      "\n"
     ]
    },
    {
     "data": {
      "text/html": [],
      "text/plain": [
       "<IPython.core.display.HTML object>"
      ]
     },
     "metadata": {},
     "output_type": "display_data"
    },
    {
     "data": {
      "text/html": [
       "<br>    <style><br>        .wandb-row {<br>            display: flex;<br>            flex-direction: row;<br>            flex-wrap: wrap;<br>            justify-content: flex-start;<br>            width: 100%;<br>        }<br>        .wandb-col {<br>            display: flex;<br>            flex-direction: column;<br>            flex-basis: 100%;<br>            flex: 1;<br>            padding: 10px;<br>        }<br>    </style><br><div class=\"wandb-row\"><div class=\"wandb-col\"><h3>Run history:</h3><br/><table class=\"wandb\"><tr><td>best_performance/epoch</td><td>▁▁▂▂▂▃▃▄▆▇█</td></tr><tr><td>best_performance/problem_classes_f1</td><td>▂▁▁▃▄▆▆▇█▇█</td></tr><tr><td>best_performance/val_acc</td><td>▁▂▃▄▅▆▇████</td></tr><tr><td>best_performance/val_f1</td><td>▁▂▃▅▅▆▇████</td></tr><tr><td>best_performance/val_loss</td><td>█▇▆▄▃▂▂▁▁▂▁</td></tr><tr><td>early_stopping/epoch</td><td>▁</td></tr><tr><td>fold_5/class_14_f1</td><td>▂▁▁▃▅▄▆▅▆▆▁▄▆▆▅▆▅█▇▅▇▆▆▆▇██▇▇▇▇▇▇▆</td></tr><tr><td>fold_5/class_3_f1</td><td>▃▃▂▄▅▃▄▁▃▆▃▃█▇▇▇▄▆▃█▂▅▅▅▄▅▆▆▆▅▆▆▆▆</td></tr><tr><td>fold_5/class_7_f1</td><td>▃▃▄▄▁▄▅▅▇▆▅▆▆▇▅▇█▆▆▅▇▆▇▆▇▅▆▇▆▇▆▆▆▇</td></tr><tr><td>fold_5/problem_classes_avg_f1</td><td>▂▁▁▃▄▄▆▄▆▇▂▄▇▇▆▇▆█▆▆▆▆▇▆▇▇██▇▇▇▇▇▇</td></tr><tr><td>+7</td><td>...</td></tr></table><br/></div><div class=\"wandb-col\"><h3>Run summary:</h3><br/><table class=\"wandb\"><tr><td>best_performance/epoch</td><td>27</td></tr><tr><td>best_performance/problem_classes_f1</td><td>0.5638</td></tr><tr><td>best_performance/val_acc</td><td>0.90446</td></tr><tr><td>best_performance/val_f1</td><td>0.90539</td></tr><tr><td>best_performance/val_loss</td><td>1.20219</td></tr><tr><td>early_stopping/epoch</td><td>34</td></tr><tr><td>fold_5/class_14_f1</td><td>0.5</td></tr><tr><td>fold_5/class_3_f1</td><td>0.44444</td></tr><tr><td>fold_5/class_7_f1</td><td>0.55814</td></tr><tr><td>fold_5/problem_classes_avg_f1</td><td>0.50086</td></tr><tr><td>+8</td><td>...</td></tr></table><br/></div></div>"
      ],
      "text/plain": [
       "<IPython.core.display.HTML object>"
      ]
     },
     "metadata": {},
     "output_type": "display_data"
    },
    {
     "data": {
      "text/html": [
       " View run <strong style=\"color:#cdcd00\">fold-5-efficientnet_b3-0856</strong> at: <a href='https://wandb.ai/kimsunmin0227-hufs/document-classification-team-CV/runs/buu4g7zn' target=\"_blank\">https://wandb.ai/kimsunmin0227-hufs/document-classification-team-CV/runs/buu4g7zn</a><br> View project at: <a href='https://wandb.ai/kimsunmin0227-hufs/document-classification-team-CV' target=\"_blank\">https://wandb.ai/kimsunmin0227-hufs/document-classification-team-CV</a><br>Synced 5 W&B file(s), 0 media file(s), 0 artifact file(s) and 1 other file(s)"
      ],
      "text/plain": [
       "<IPython.core.display.HTML object>"
      ]
     },
     "metadata": {},
     "output_type": "display_data"
    },
    {
     "data": {
      "text/html": [
       "Find logs at: <code>./wandb/run-20250908_085657-buu4g7zn/logs</code>"
      ],
      "text/plain": [
       "<IPython.core.display.HTML object>"
      ]
     },
     "metadata": {},
     "output_type": "display_data"
    }
   ],
   "source": [
    "\n",
    "# =============================================================================\n",
    "# 10. K-Fold Cross Validation Loop with WandB\n",
    "# =============================================================================\n",
    "\n",
    "for fold, (train_idx, val_idx) in enumerate(skf.split(train_df, train_df['target'])):\n",
    "    print(f\"\\n{'='*50}\")\n",
    "    print(f\" FOLD {fold + 1}/{N_FOLDS}\")\n",
    "    print(f\"{'='*50}\")\n",
    "    \n",
    "    # 각 fold별 child run 생성\n",
    "    fold_run = wandb.init(\n",
    "        project=PROJECT_NAME,\n",
    "        entity=ENTITY,\n",
    "        name=f\"fold-{fold+1}-{model_name}-{datetime.now().strftime('%H%M')}\",\n",
    "        config=config,\n",
    "        tags=[\"fold\", f\"fold-{fold+1}\", model_name, \"child-run\"],\n",
    "        group=\"k-fold-experiment\",\n",
    "        job_type=f\"fold-{fold+1}\",\n",
    "        reinit=True  # 새로운 run 시작 허용\n",
    "    )\n",
    "    \n",
    "    print(f\"📊 Fold {fold+1} Dashboard: {fold_run.url}\")\n",
    "    \n",
    "    # 현재 fold의 train/validation 데이터 분할\n",
    "    train_fold_df = train_df.iloc[train_idx].reset_index(drop=True)\n",
    "    val_fold_df = train_df.iloc[val_idx].reset_index(drop=True)\n",
    "    \n",
    "    # 데이터 분할 정보 로깅\n",
    "    #wandb.log({\n",
    "    #    \"fold_info/fold_number\": fold + 1,\n",
    "    #    \"fold_info/train_samples\": len(train_fold_df),\n",
    "    #    \"fold_info/val_samples\": len(val_fold_df),\n",
    "    #    \"fold_info/train_ratio\": len(train_fold_df) / len(train_df),\n",
    "    #    \"fold_info/val_ratio\": len(val_fold_df) / len(train_df)\n",
    "    #})\n",
    "    \n",
    "    # 현재 fold의 Dataset 생성\n",
    "    trn_dataset = ImageDataset(\n",
    "        train_fold_df,\n",
    "        \"../data/train/\",\n",
    "        transform=trn_transform,\n",
    "        problem_class_transform=problem_class_extra_transform\n",
    "    )\n",
    "    \n",
    "    val_dataset = ImageDataset(\n",
    "        val_fold_df,\n",
    "        \"../data/train/\",\n",
    "        transform=tst_transform  # 검증에는 증강 적용 안함\n",
    "    )\n",
    "    \n",
    "    # 현재 fold의 DataLoader 생성\n",
    "    trn_loader = DataLoader(\n",
    "        trn_dataset,\n",
    "        batch_size=BATCH_SIZE,\n",
    "        shuffle=True,\n",
    "        num_workers=num_workers,\n",
    "        pin_memory=True,\n",
    "        drop_last=False\n",
    "    )\n",
    "    \n",
    "    val_loader = DataLoader(\n",
    "        val_dataset,\n",
    "        batch_size=BATCH_SIZE,\n",
    "        shuffle=False,\n",
    "        num_workers=num_workers,\n",
    "        pin_memory=True\n",
    "    )\n",
    "    \n",
    "    print(f\"Train samples: {len(trn_dataset)}, Validation samples: {len(val_dataset)}\")\n",
    "    \n",
    "    # 모델 초기화 (각 fold마다 새로운 모델)\n",
    "    model = timm.create_model(\n",
    "        model_name,\n",
    "        pretrained=True,\n",
    "        num_classes=17\n",
    "    ).to(device)\n",
    "\n",
    "    model = model.float()\n",
    "    \n",
    "    class_weights = torch.FloatTensor([\n",
    "    4 if i in [3, 7, 14] else 1.0 for i in range(17)]).to(device)\n",
    "    loss_fn = nn.CrossEntropyLoss(weight=class_weights, label_smoothing=0.15)\n",
    "    optimizer = Adam(model.parameters(), lr=LR)\n",
    "    \n",
    "    # Learning Rate Scheduler 추가\n",
    "    scheduler = CosineAnnealingLR(optimizer, T_max=EPOCHS)\n",
    "    \n",
    "    # 현재 fold의 최고 성능 추적\n",
    "    best_val_f1 = 0.0\n",
    "    best_model = None\n",
    "    patience = 0\n",
    "    max_patience = 50\n",
    "    \n",
    "    print(f\" 모델 학습 시작 - Fold {fold+1}\")\n",
    "    \n",
    "    # =============================================================================\n",
    "    # 11. Training Loop for Current Fold\n",
    "    # =============================================================================\n",
    "    \n",
    "    for epoch in range(EPOCHS):\n",
    "        print(f\"\\n📈 Epoch {epoch+1}/{EPOCHS}\")\n",
    "        \n",
    "        # Training\n",
    "        train_ret = train_one_epoch(\n",
    "            trn_loader, model, optimizer, loss_fn, device, \n",
    "            epoch=epoch, fold=fold+1\n",
    "        )\n",
    "        \n",
    "        # Validation\n",
    "        val_ret = validate_one_epoch(\n",
    "            val_loader, model, loss_fn, device, \n",
    "            epoch=epoch, fold=fold+1,\n",
    "            log_confusion=(epoch == EPOCHS-1)  # 마지막 epoch에만 confusion matrix\n",
    "        )\n",
    "        \n",
    "        # Learning rate 로깅\n",
    "        current_lr = optimizer.param_groups[0]['lr']\n",
    "        \n",
    "        # 문제 클래스 성능 개선 여부 확인\n",
    "        problem_classes_improved = \"\"\n",
    "        if 'avg_problem_f1' in val_ret:\n",
    "            if val_ret['avg_problem_f1'] > best_val_f1 * 0.95:  # 전체 성능의 95% 이상이면 양호\n",
    "                problem_classes_improved = \"✅ Problem classes performing well\"\n",
    "            else:\n",
    "                problem_classes_improved = \"⚠️ Problem classes need attention\"\n",
    "\n",
    "\n",
    "        # WandB에 metrics 로깅\n",
    "        log_data = {\n",
    "            \"epoch\": epoch + 1,\n",
    "            \"fold\": fold + 1,\n",
    "            \"train/loss\": train_ret['train_loss'],\n",
    "            \"train/accuracy\": train_ret['train_acc'], \n",
    "            \"train/f1\": train_ret['train_f1'],\n",
    "            \"val/loss\": val_ret['val_loss'],\n",
    "            \"val/accuracy\": val_ret['val_acc'],\n",
    "            \"val/f1\": val_ret['val_f1'],\n",
    "            \"learning_rate\": current_lr,\n",
    "            \"optimizer/lr\": current_lr\n",
    "        }\n",
    "        \n",
    "        # GPU 메모리 사용량 로깅\n",
    "        if torch.cuda.is_available():\n",
    "            gpu_memory_used = torch.cuda.memory_allocated(0) / 1e9\n",
    "            gpu_memory_total = torch.cuda.get_device_properties(0).total_memory / 1e9\n",
    "            log_data.update({\n",
    "                \"system/gpu_memory_used_gb\": gpu_memory_used,\n",
    "                \"system/gpu_memory_total_gb\": gpu_memory_total,\n",
    "                \"system/gpu_utilization_pct\": (gpu_memory_used / gpu_memory_total) * 100\n",
    "            })\n",
    "\n",
    "        if 'avg_problem_f1' in val_ret:\n",
    "            log_data[\"val/problem_classes_avg_f1\"] = val_ret['avg_problem_f1']\n",
    "        \n",
    "        # 개별 문제 클래스 성능\n",
    "        for cls in [3, 7, 14]:\n",
    "            if f\"class_{cls}_f1\" in val_ret['problem_class_f1']:\n",
    "                log_data[f\"val/class_{cls}_f1\"] = val_ret['problem_class_f1'][f\"class_{cls}_f1\"]\n",
    "    \n",
    "        \n",
    "        #wandb.log(log_data)\n",
    "        \n",
    "        # Scheduler step\n",
    "        scheduler.step()\n",
    "        \n",
    "        print(f\" Epoch {epoch+1:2d} | \"\n",
    "              f\"Train Loss: {train_ret['train_loss']:.4f} | \"\n",
    "              f\"Train F1: {train_ret['train_f1']:.4f} | \"\n",
    "              f\"Val Loss: {val_ret['val_loss']:.4f} | \"\n",
    "              f\"Val F1: {val_ret['val_f1']:.4f} | \"\n",
    "              f\"LR: {current_lr:.2e}\")\n",
    "        \n",
    "        # 문제 클래스 성능 별도 출력\n",
    "        if 'avg_problem_f1' in val_ret:\n",
    "            print(f\"         Problem Classes (3,7,14) Avg F1: {val_ret['avg_problem_f1']:.4f} | {problem_classes_improved}\")\n",
    "\n",
    "        # 최고 성능 모델 저장 (전체 F1과 문제 클래스 성능 모두 고려)\n",
    "        current_val_f1 = val_ret['val_f1']\n",
    "        problem_class_bonus = 0\n",
    "    \n",
    "        # 문제 클래스 성능이 좋으면 보너스 점수 부여\n",
    "        if 'avg_problem_f1' in val_ret and val_ret['avg_problem_f1'] > 0.90:\n",
    "            problem_class_bonus = 0.001  # 작은 보너스로 동점일 때 문제 클래스 성능 우선\n",
    "        \n",
    "        adjusted_f1 = current_val_f1 + problem_class_bonus\n",
    "        \n",
    "        if adjusted_f1 > best_val_f1:\n",
    "            best_val_f1 = current_val_f1  # 실제 F1 스코어로 저장\n",
    "            best_model = copy.deepcopy(model.state_dict())\n",
    "            patience = 0\n",
    "            \n",
    "            # 최고 성능 모델 아티팩트로 저장\n",
    "            model_path = f'best_model_fold_{fold+1}.pth'\n",
    "            torch.save(best_model, model_path)\n",
    "            wandb.save(model_path, policy=\"now\")\n",
    "            \n",
    "            # 새로운 최고 성능 로깅\n",
    "            best_performance_log = {\n",
    "                f\"best_performance/epoch\": epoch + 1,\n",
    "                f\"best_performance/val_f1\": best_val_f1,\n",
    "                f\"best_performance/val_acc\": val_ret['val_acc'],\n",
    "                f\"best_performance/val_loss\": val_ret['val_loss'],\n",
    "            }\n",
    "            \n",
    "            # 문제 클래스 성능도 최고 성능에 포함\n",
    "            if 'avg_problem_f1' in val_ret:\n",
    "                best_performance_log[f\"best_performance/problem_classes_f1\"] = val_ret['avg_problem_f1']\n",
    "            \n",
    "            wandb.log(best_performance_log)\n",
    "            \n",
    "            improvement_msg = f\"🎉 새로운 최고 성능! F1: {best_val_f1:.4f}\"\n",
    "            if 'avg_problem_f1' in val_ret:\n",
    "                improvement_msg += f\" (Problem Classes: {val_ret['avg_problem_f1']:.4f})\"\n",
    "            print(improvement_msg)\n",
    "        else:\n",
    "            patience += 1\n",
    "            \n",
    "        # Early stopping\n",
    "        if patience >= max_patience and epoch > EPOCHS // 2:\n",
    "            print(f\"⏸️ Early stopping at epoch {epoch+1} (patience: {patience})\")\n",
    "            wandb.log({\"early_stopping/epoch\": epoch + 1})\n",
    "            break\n",
    "    \n",
    "    # =============================================================================\n",
    "    # 12. Fold Results Summary\n",
    "    # =============================================================================\n",
    "    \n",
    "    # 현재 fold 결과 저장\n",
    "    fold_result = {\n",
    "        'fold': fold + 1,\n",
    "        'best_val_f1': best_val_f1,\n",
    "        'final_train_f1': train_ret['train_f1'],\n",
    "        'train_samples': len(trn_dataset),\n",
    "        'val_samples': len(val_dataset),\n",
    "        'epochs_trained': epoch + 1,\n",
    "        'early_stopped': patience >= max_patience\n",
    "    }\n",
    "    \n",
    "    fold_results.append(fold_result)\n",
    "    fold_models.append(best_model)\n",
    "    \n",
    "    # Fold 최종 요약 로깅\n",
    "    wandb.log({\n",
    "        \"fold_summary/best_val_f1\": best_val_f1,\n",
    "        \"fold_summary/final_train_f1\": train_ret['train_f1'],\n",
    "        \"fold_summary/epochs_trained\": epoch + 1,\n",
    "        \"fold_summary/improvement\": best_val_f1 - val_ret['val_f1'],\n",
    "        \"fold_summary/early_stopped\": patience >= max_patience\n",
    "    })\n",
    "    \n",
    "    print(f\"\\n Fold {fold + 1} 완료!\")\n",
    "    print(f\" 최고 Validation F1: {best_val_f1:.4f}\")\n",
    "    print(f\" 학습된 에폭: {epoch + 1}/{EPOCHS}\")\n",
    "    \n",
    "    # Fold run 종료\n",
    "    wandb.finish()\n",
    "    \n",
    "    # 메모리 정리\n",
    "    del model, optimizer, scheduler, trn_loader, val_loader\n",
    "    torch.cuda.empty_cache()\n"
   ]
  },
  {
   "cell_type": "code",
   "execution_count": 29,
   "id": "1675898e",
   "metadata": {},
   "outputs": [
    {
     "name": "stdout",
     "output_type": "stream",
     "text": [
      "\n",
      "============================================================\n",
      " K-FOLD CROSS VALIDATION 최종 결과\n",
      "============================================================\n",
      " 활성화된 run이 없어 새로운 summary run을 생성합니다.\n"
     ]
    },
    {
     "data": {
      "text/html": [],
      "text/plain": [
       "<IPython.core.display.HTML object>"
      ]
     },
     "metadata": {},
     "output_type": "display_data"
    },
    {
     "data": {
      "text/html": [
       "Tracking run with wandb version 0.21.3"
      ],
      "text/plain": [
       "<IPython.core.display.HTML object>"
      ]
     },
     "metadata": {},
     "output_type": "display_data"
    },
    {
     "data": {
      "text/html": [
       "Run data is saved locally in <code>/root/computervisioncompetition-cv-1/mywork/experiments/wandb/run-20250908_090545-j5f65zaw</code>"
      ],
      "text/plain": [
       "<IPython.core.display.HTML object>"
      ]
     },
     "metadata": {},
     "output_type": "display_data"
    },
    {
     "data": {
      "text/html": [
       "Syncing run <strong><a href='https://wandb.ai/kimsunmin0227-hufs/document-classification-team-CV/runs/j5f65zaw' target=\"_blank\">SUMMARY-efficientnet-b3-baseline-0908-0905</a></strong> to <a href='https://wandb.ai/kimsunmin0227-hufs/document-classification-team-CV' target=\"_blank\">Weights & Biases</a> (<a href='https://wandb.me/developer-guide' target=\"_blank\">docs</a>)<br>"
      ],
      "text/plain": [
       "<IPython.core.display.HTML object>"
      ]
     },
     "metadata": {},
     "output_type": "display_data"
    },
    {
     "data": {
      "text/html": [
       " View project at <a href='https://wandb.ai/kimsunmin0227-hufs/document-classification-team-CV' target=\"_blank\">https://wandb.ai/kimsunmin0227-hufs/document-classification-team-CV</a>"
      ],
      "text/plain": [
       "<IPython.core.display.HTML object>"
      ]
     },
     "metadata": {},
     "output_type": "display_data"
    },
    {
     "data": {
      "text/html": [
       " View run at <a href='https://wandb.ai/kimsunmin0227-hufs/document-classification-team-CV/runs/j5f65zaw' target=\"_blank\">https://wandb.ai/kimsunmin0227-hufs/document-classification-team-CV/runs/j5f65zaw</a>"
      ],
      "text/plain": [
       "<IPython.core.display.HTML object>"
      ]
     },
     "metadata": {},
     "output_type": "display_data"
    },
    {
     "name": "stdout",
     "output_type": "stream",
     "text": [
      " CV 결과 로깅 완료!\n",
      "Fold 1: 0.9200 (50 epochs)  Completed\n",
      "Fold 2: 0.9208 (31 epochs)  Early Stopped\n",
      "Fold 3: 0.9339 (36 epochs)  Early Stopped\n",
      "Fold 4: 0.9000 (34 epochs)  Early Stopped\n",
      "Fold 5: 0.9054 (34 epochs)  Early Stopped\n",
      "\n",
      " 평균 CV F1: 0.9160 ± 0.0121\n",
      " 최고 Fold: 0.9339\n",
      " 최악 Fold: 0.9000\n",
      " 성능 범위: 0.0339\n"
     ]
    }
   ],
   "source": [
    "# =============================================================================\n",
    "# 13. K-Fold Cross Validation Results Summary\n",
    "# =============================================================================\n",
    "\n",
    "print(f\"\\n{'='*60}\")\n",
    "print(\" K-FOLD CROSS VALIDATION 최종 결과\")\n",
    "print(f\"{'='*60}\")\n",
    "\n",
    "val_f1_scores = [result['best_val_f1'] for result in fold_results]\n",
    "mean_f1 = np.mean(val_f1_scores)\n",
    "std_f1 = np.std(val_f1_scores)\n",
    "\n",
    "try:\n",
    "    # wandb.run이 현재 활성화된 run을 가리킴\n",
    "    if wandb.run is None:\n",
    "        print(\" 활성화된 run이 없어 새로운 summary run을 생성합니다.\")\n",
    "        active_run = wandb.init(\n",
    "            project=PROJECT_NAME,\n",
    "            name=f\"SUMMARY-{EXPERIMENT_NAME}-{datetime.now().strftime('%m%d-%H%M')}\",\n",
    "            config=config,\n",
    "            tags=[\"summary\", \"cv-results\", model_name],\n",
    "            group=\"k-fold-experiment\",\n",
    "            job_type=\"summary\",\n",
    "            reinit=True\n",
    "        )\n",
    "    else:\n",
    "        print(\" 기존 run을 사용합니다.\")\n",
    "        active_run = wandb.run\n",
    "        \n",
    "except Exception as e:\n",
    "    print(f\" Run 상태 확인 중 에러: {e}\")\n",
    "    # 새로운 run 생성\n",
    "    active_run = wandb.init(\n",
    "        project=PROJECT_NAME,\n",
    "        name=f\"SUMMARY-{EXPERIMENT_NAME}-{datetime.now().strftime('%m%d-%H%M')}\",\n",
    "        config=config,\n",
    "        tags=[\"summary\", \"cv-results\", model_name],\n",
    "        group=\"k-fold-experiment\",\n",
    "        job_type=\"summary\",\n",
    "        reinit=True\n",
    "    )\n",
    "\n",
    "# CV 요약 테이블 생성\n",
    "fold_table = wandb.Table(columns=[\n",
    "    \"Fold\", \"Best_Val_F1\", \"Final_Train_F1\", \"Train_Samples\", \n",
    "    \"Val_Samples\", \"Epochs_Trained\", \"Early_Stopped\"\n",
    "])\n",
    "\n",
    "for result in fold_results:\n",
    "    fold_table.add_data(\n",
    "        result['fold'], \n",
    "        result['best_val_f1'], \n",
    "        result['final_train_f1'],\n",
    "        result['train_samples'], \n",
    "        result['val_samples'],\n",
    "        result['epochs_trained'],\n",
    "        result['early_stopped']\n",
    "    )\n",
    "\n",
    "# 안전한 로깅\n",
    "try:\n",
    "    active_run.log({\n",
    "        \"cv_results/mean_f1\": mean_f1,\n",
    "        \"cv_results/std_f1\": std_f1,\n",
    "        \"cv_results/best_fold_f1\": max(val_f1_scores),\n",
    "        \"cv_results/worst_fold_f1\": min(val_f1_scores),\n",
    "        \"cv_results/f1_range\": max(val_f1_scores) - min(val_f1_scores),\n",
    "        \"cv_results/fold_results_table\": fold_table,\n",
    "        \"cv_results/n_folds\": N_FOLDS,\n",
    "        \"cv_results/total_epochs\": sum([r['epochs_trained'] for r in fold_results]),\n",
    "        \"cv_results/avg_epochs_per_fold\": np.mean([r['epochs_trained'] for r in fold_results]),\n",
    "        \"cv_results/early_stopped_folds\": sum([r['early_stopped'] for r in fold_results])\n",
    "    })\n",
    "    \n",
    "    # Fold별 성능 바차트 생성\n",
    "    fold_performance_data = [[f\"Fold {i+1}\", score] for i, score in enumerate(val_f1_scores)]\n",
    "    active_run.log({\n",
    "        \"cv_results/fold_performance_chart\": wandb.plot.bar(\n",
    "            wandb.Table(data=fold_performance_data, columns=[\"Fold\", \"F1_Score\"]),\n",
    "            \"Fold\", \"F1_Score\", \n",
    "            title=\"K-Fold Cross Validation Performance\"\n",
    "        )\n",
    "    })\n",
    "    \n",
    "    print(\" CV 결과 로깅 완료!\")\n",
    "    \n",
    "except Exception as e:\n",
    "    print(f\" WandB 로깅 중 에러: {e}\")\n",
    "    print(\" 결과를 콘솔에 출력합니다:\")\n",
    "\n",
    "# 어떤 경우든 콘솔에는 결과 출력\n",
    "for result in fold_results:\n",
    "    status = \" Early Stopped\" if result['early_stopped'] else \" Completed\"\n",
    "    print(f\"Fold {result['fold']}: {result['best_val_f1']:.4f} \"\n",
    "          f\"({result['epochs_trained']} epochs) {status}\")\n",
    "\n",
    "print(f\"\\n 평균 CV F1: {mean_f1:.4f} ± {std_f1:.4f}\")\n",
    "print(f\" 최고 Fold: {max(val_f1_scores):.4f}\")\n",
    "print(f\" 최악 Fold: {min(val_f1_scores):.4f}\")\n",
    "print(f\" 성능 범위: {max(val_f1_scores) - min(val_f1_scores):.4f}\")\n"
   ]
  },
  {
   "cell_type": "code",
   "execution_count": 30,
   "id": "bb258fe0",
   "metadata": {},
   "outputs": [
    {
     "name": "stdout",
     "output_type": "stream",
     "text": [
      "\n",
      "🔧 앙상블 모델 준비 중...\n",
      "Fold 1 모델 로드 완료\n",
      "Fold 2 모델 로드 완료\n",
      "Fold 3 모델 로드 완료\n",
      "Fold 4 모델 로드 완료\n",
      "Fold 5 모델 로드 완료\n",
      " 총 5개 모델로 앙상블 구성\n"
     ]
    }
   ],
   "source": [
    "\n",
    "# =============================================================================\n",
    "# 14. Ensemble Models Preparation\n",
    "# =============================================================================\n",
    "\n",
    "# 5-Fold 앙상블 모델 준비\n",
    "ensemble_models = []\n",
    "print(f\"\\n🔧 앙상블 모델 준비 중...\")\n",
    "\n",
    "for i, state_dict in enumerate(fold_models):\n",
    "    fold_model = timm.create_model(model_name, pretrained=True, num_classes=17).to(device)\n",
    "    fold_model.load_state_dict(state_dict)\n",
    "    fold_model.eval()\n",
    "    ensemble_models.append(fold_model)\n",
    "    print(f\"Fold {i+1} 모델 로드 완료\")\n",
    "\n",
    "print(f\" 총 {len(ensemble_models)}개 모델로 앙상블 구성\")\n",
    "\n",
    "try:\n",
    "    if wandb.run is not None:\n",
    "        wandb.run.log({\n",
    "            \"ensemble/num_models\": len(ensemble_models),\n",
    "            \"ensemble/model_architecture\": model_name,\n",
    "            \"ensemble/ensemble_type\": \"simple_average\"\n",
    "        })\n",
    "    else:\n",
    "        print(\"📊 앙상블 정보:\")\n",
    "        print(f\"  - 모델 개수: {len(ensemble_models)}\")\n",
    "        print(f\"  - 아키텍처: {model_name}\")\n",
    "        print(f\"  - 앙상블 타입: simple_average\")\n",
    "except Exception as e:\n",
    "    print(f\"⚠️ 앙상블 정보 로깅 실패: {e}\")\n"
   ]
  },
  {
   "cell_type": "code",
   "execution_count": 31,
   "id": "96bb2ab5",
   "metadata": {},
   "outputs": [
    {
     "name": "stdout",
     "output_type": "stream",
     "text": [
      "\n",
      " TTA (Test Time Augmentation) 설정...\n",
      "TTA 변환 5개 준비 완료\n"
     ]
    }
   ],
   "source": [
    "\n",
    "\n",
    "# =============================================================================\n",
    "# 15. TTA (Test Time Augmentation) Setup\n",
    "# =============================================================================\n",
    "\n",
    "# Temperature Scaling 클래스 정의\n",
    "class TemperatureScaling(nn.Module):\n",
    "    def __init__(self, temperature=1.5):\n",
    "        super().__init__()\n",
    "        self.temperature = nn.Parameter(torch.ones(1) * temperature)\n",
    "    \n",
    "    def forward(self, logits):\n",
    "        return logits / self.temperature\n",
    "\n",
    "print(f\"\\n TTA (Test Time Augmentation) 설정...\")\n",
    "\n",
    "# Essential TTA transforms\n",
    "essential_tta_transforms = [\n",
    "    # 원본\n",
    "    A.Compose([\n",
    "        A.LongestMaxSize(max_size=img_size),\n",
    "        A.PadIfNeeded(min_height=img_size, min_width=img_size, border_mode=0, value=0),\n",
    "        A.Normalize(mean=[0.485, 0.456, 0.406], std=[0.229, 0.224, 0.225]),\n",
    "        ToTensorV2(),\n",
    "    ]),\n",
    "    # 90도 회전들\n",
    "    A.Compose([\n",
    "        A.LongestMaxSize(max_size=img_size),\n",
    "        A.PadIfNeeded(min_height=img_size, min_width=img_size, border_mode=0, value=0),\n",
    "        A.Rotate(limit=[90, 90], p=1.0),\n",
    "        A.Normalize(mean=[0.485, 0.456, 0.406], std=[0.229, 0.224, 0.225]),\n",
    "        ToTensorV2(),\n",
    "    ]),\n",
    "    A.Compose([\n",
    "        A.LongestMaxSize(max_size=img_size),\n",
    "        A.PadIfNeeded(min_height=img_size, min_width=img_size, border_mode=0, value=0),\n",
    "        A.Rotate(limit=[180, 180], p=1.0),\n",
    "        A.Normalize(mean=[0.485, 0.456, 0.406], std=[0.229, 0.224, 0.225]),\n",
    "        ToTensorV2(),\n",
    "    ]),\n",
    "    A.Compose([\n",
    "        A.LongestMaxSize(max_size=img_size),\n",
    "        A.PadIfNeeded(min_height=img_size, min_width=img_size, border_mode=0, value=0),\n",
    "        A.Rotate(limit=[-90, -90], p=1.0),\n",
    "        A.Normalize(mean=[0.485, 0.456, 0.406], std=[0.229, 0.224, 0.225]),\n",
    "        ToTensorV2(),\n",
    "    ]),\n",
    "    # 밝기 개선\n",
    "    A.Compose([\n",
    "        A.LongestMaxSize(max_size=img_size),\n",
    "        A.PadIfNeeded(min_height=img_size, min_width=img_size, border_mode=0, value=0),\n",
    "        A.RandomBrightnessContrast(brightness_limit=[0.3, 0.3], contrast_limit=[0.3, 0.3], p=1.0),\n",
    "        A.Normalize(mean=[0.485, 0.456, 0.406], std=[0.229, 0.224, 0.225]),\n",
    "        ToTensorV2(),\n",
    "    ]),\n",
    "]\n",
    "\n",
    "print(f\"TTA 변환 {len(essential_tta_transforms)}개 준비 완료\")\n",
    "\n",
    "try:\n",
    "    if wandb.run is not None:\n",
    "        wandb.run.log({\n",
    "            \"tta/num_transforms\": len(essential_tta_transforms),\n",
    "            \"tta/transforms_used\": [\"original\", \"rot_90\", \"rot_180\", \"rot_270\", \"brightness\"],\n",
    "            \"tta/batch_size\": 64  # TTA용 배치 크기\n",
    "        })\n",
    "    else:\n",
    "        print(\"📊 TTA 설정 정보:\")\n",
    "        print(f\"  - 변형 개수: {len(essential_tta_transforms)}\")\n",
    "        print(f\"  - 변형 종류: original, rot_90, rot_180, rot_270, brightness\")\n",
    "        print(f\"  - 배치 크기: 64\")\n",
    "except Exception as e:\n",
    "    print(f\"⚠️ TTA 설정 로깅 실패: {e}\")\n",
    "    print(\"📊 TTA 설정 정보:\")\n",
    "    print(f\"  - 변형 개수: {len(essential_tta_transforms)}\")\n",
    "    print(f\"  - 배치 크기: 64\")"
   ]
  },
  {
   "cell_type": "code",
   "execution_count": 32,
   "id": "5545246d",
   "metadata": {},
   "outputs": [
    {
     "name": "stdout",
     "output_type": "stream",
     "text": [
      " TTA Dataset: 3140개 테스트 샘플\n"
     ]
    }
   ],
   "source": [
    "# =============================================================================\n",
    "# 16. TTA Dataset and DataLoader\n",
    "# =============================================================================\n",
    "\n",
    "class TTAImageDataset(Dataset):\n",
    "    def __init__(self, data, path, transforms):\n",
    "        if isinstance(data, str):\n",
    "            self.df = pd.read_csv(data).values\n",
    "        else:\n",
    "            self.df = data.values\n",
    "        self.path = path\n",
    "        self.transforms = transforms  # 여러 transform을 리스트로 받음\n",
    "\n",
    "    def __len__(self):\n",
    "        return len(self.df)\n",
    "\n",
    "    def __getitem__(self, idx):\n",
    "        name, target = self.df[idx]\n",
    "        img = np.array(Image.open(os.path.join(self.path, name)))\n",
    "        \n",
    "        # 모든 transform을 적용한 결과를 리스트로 반환\n",
    "        augmented_images = []\n",
    "        for transform in self.transforms:\n",
    "            aug_img = transform(image=img)['image']\n",
    "            augmented_images.append(aug_img)\n",
    "        \n",
    "        return augmented_images, target\n",
    "\n",
    "# TTA Dataset 생성\n",
    "tta_dataset = TTAImageDataset(\n",
    "    \"../data/sample_submission.csv\",\n",
    "    \"../data/test/\",\n",
    "    essential_tta_transforms\n",
    ")\n",
    "\n",
    "# TTA DataLoader (배치 크기를 줄여서 메모리 절약)\n",
    "tta_loader = DataLoader(\n",
    "    tta_dataset,\n",
    "    batch_size=64,  # TTA는 메모리를 많이 사용하므로 배치 크기 줄임\n",
    "    shuffle=False,\n",
    "    num_workers=num_workers,\n",
    "    pin_memory=True\n",
    ")\n",
    "\n",
    "print(f\" TTA Dataset: {len(tta_dataset)}개 테스트 샘플\")"
   ]
  },
  {
   "cell_type": "code",
   "execution_count": 33,
   "id": "a0c1ddb9",
   "metadata": {},
   "outputs": [
    {
     "name": "stdout",
     "output_type": "stream",
     "text": [
      "\n",
      "============================================================\n",
      " 최종 추론 - 앙상블 + TTA\n",
      "============================================================\n",
      "앙상블 TTA 추론 시작...\n",
      "5개 모델 × 5개 TTA 변형 = 25개 예측 평균\n"
     ]
    },
    {
     "name": "stderr",
     "output_type": "stream",
     "text": [
      "Ensemble TTA: 100%|██████████| 50/50 [02:45<00:00,  3.31s/it]\n"
     ]
    },
    {
     "name": "stdout",
     "output_type": "stream",
     "text": [
      "\n",
      " 앙상블 TTA 추론 완료!\n",
      "총 소요시간: 2.8분\n",
      " 평균 신뢰도: 0.4098 ± 0.0826\n",
      " 고신뢰도 샘플: 0/3140 (0.0%)\n"
     ]
    }
   ],
   "source": [
    "\n",
    "# =============================================================================\n",
    "# 17. Ensemble + TTA Inference with WandB Logging\n",
    "# =============================================================================\n",
    "\n",
    "def ensemble_tta_inference_with_logging(models, loader, transforms, confidence_threshold=0.9):\n",
    "    \"\"\"5-Fold 모델 앙상블 + TTA 추론 with WandB 로깅\"\"\"\n",
    "    all_predictions = []\n",
    "    all_confidences = []\n",
    "    \n",
    "    # TTA 진행상황 로깅을 위한 테이블\n",
    "    tta_progress = wandb.Table(columns=[\"Batch\", \"Avg_Confidence\", \"Low_Conf_Count\", \"High_Conf_Count\"])\n",
    "    \n",
    "    # Temperature scaling 초기화\n",
    "    temp_scaling = TemperatureScaling().to(device)\n",
    "    \n",
    "    print(f\"앙상블 TTA 추론 시작...\")\n",
    "    print(f\"{len(models)}개 모델 × {len(transforms)}개 TTA 변형 = {len(models) * len(transforms)}개 예측 평균\")\n",
    "    \n",
    "    start_time = time.time()\n",
    "    \n",
    "    for batch_idx, (images_list, _) in enumerate(tqdm(loader, desc=\"Ensemble TTA\")):\n",
    "        batch_size = images_list[0].size(0)\n",
    "        ensemble_probs = torch.zeros(batch_size, 17).to(device)\n",
    "        \n",
    "        # 각 fold 모델별 예측\n",
    "        for model_idx, model in enumerate(models):\n",
    "            model.eval()\n",
    "            with torch.no_grad():\n",
    "                # 각 TTA 변형별 예측\n",
    "                for tta_idx, images in enumerate(images_list):\n",
    "                    images = images.to(device)\n",
    "                    preds = model(images)\n",
    "                    \n",
    "                    # Temperature scaling 적용\n",
    "                    preds = temp_scaling(preds)\n",
    "                    probs = torch.softmax(preds, dim=1)\n",
    "                    \n",
    "                    # 앙상블 확률에 누적 (평균)\n",
    "                    ensemble_probs += probs / (len(models) * len(images_list))\n",
    "        \n",
    "        # 신뢰도 계산\n",
    "        max_probs = torch.max(ensemble_probs, dim=1)[0]\n",
    "        batch_confidences = max_probs.cpu().numpy()\n",
    "        all_confidences.extend(batch_confidences)\n",
    "        \n",
    "        final_preds = torch.argmax(ensemble_probs, dim=1)\n",
    "        all_predictions.extend(final_preds.cpu().numpy())\n",
    "        \n",
    "        # 배치별 신뢰도 분석\n",
    "        high_conf_count = np.sum(batch_confidences >= confidence_threshold)\n",
    "        low_conf_count = batch_size - high_conf_count\n",
    "        avg_confidence = np.mean(batch_confidences)\n",
    "        \n",
    "        # 진행상황 테이블에 추가\n",
    "        tta_progress.add_data(batch_idx, avg_confidence, low_conf_count, high_conf_count)\n",
    "        \n",
    "        # 배치별 상세 로깅 (20배치마다)\n",
    "        if batch_idx % 20 == 0:\n",
    "            elapsed_time = time.time() - start_time\n",
    "            estimated_total = elapsed_time * len(loader) / (batch_idx + 1)\n",
    "            remaining_time = estimated_total - elapsed_time\n",
    "            \n",
    "            wandb.log({\n",
    "                \"tta_progress/batch\": batch_idx,\n",
    "                \"tta_progress/avg_confidence\": avg_confidence,\n",
    "                \"tta_progress/high_confidence_ratio\": high_conf_count / batch_size,\n",
    "                \"tta_progress/low_confidence_count\": low_conf_count,\n",
    "                \"tta_progress/elapsed_time_min\": elapsed_time / 60,\n",
    "                \"tta_progress/estimated_remaining_min\": remaining_time / 60,\n",
    "                \"tta_progress/samples_processed\": (batch_idx + 1) * batch_size,\n",
    "            })\n",
    "    \n",
    "    total_time = time.time() - start_time\n",
    "    \n",
    "    # TTA 최종 결과 로깅\n",
    "    final_avg_confidence = np.mean(all_confidences)\n",
    "    confidence_std = np.std(all_confidences)\n",
    "    high_conf_samples = np.sum(np.array(all_confidences) >= confidence_threshold)\n",
    "    \n",
    "    wandb.log({\n",
    "        \"tta_results/total_time_min\": total_time / 60,\n",
    "        \"tta_results/samples_per_second\": len(all_predictions) / total_time,\n",
    "        \"tta_results/final_avg_confidence\": final_avg_confidence,\n",
    "        \"tta_results/confidence_std\": confidence_std,\n",
    "        \"tta_results/high_confidence_samples\": high_conf_samples,\n",
    "        \"tta_results/high_confidence_ratio\": high_conf_samples / len(all_predictions),\n",
    "        \"tta_results/total_predictions\": len(all_predictions),\n",
    "        \"tta_results/confidence_histogram\": wandb.Histogram(all_confidences),\n",
    "        \"tta_results/progress_table\": tta_progress\n",
    "    })\n",
    "    \n",
    "    print(f\"\\n 앙상블 TTA 추론 완료!\")\n",
    "    print(f\"총 소요시간: {total_time/60:.1f}분\")\n",
    "    print(f\" 평균 신뢰도: {final_avg_confidence:.4f} ± {confidence_std:.4f}\")\n",
    "    print(f\" 고신뢰도 샘플: {high_conf_samples}/{len(all_predictions)} ({high_conf_samples/len(all_predictions)*100:.1f}%)\")\n",
    "    \n",
    "    return all_predictions, all_confidences\n",
    "\n",
    "# 앙상블 TTA 실행\n",
    "print(f\"\\n{'='*60}\")\n",
    "print(\" 최종 추론 - 앙상블 + TTA\")\n",
    "print(f\"{'='*60}\")\n",
    "\n",
    "tta_predictions, confidences = ensemble_tta_inference_with_logging(\n",
    "    models=ensemble_models, \n",
    "    loader=tta_loader, \n",
    "    transforms=essential_tta_transforms,\n",
    "    confidence_threshold=0.9\n",
    ")\n"
   ]
  },
  {
   "cell_type": "code",
   "execution_count": 35,
   "id": "1c98e388",
   "metadata": {},
   "outputs": [
    {
     "name": "stdout",
     "output_type": "stream",
     "text": [
      "\n",
      " 최종 결과 정리 중...\n",
      "\n",
      "📊 예측 결과 분포:\n",
      "Class  0:  201 (  6.4%)\n",
      "Class  1:   86 (  2.7%)\n",
      "Class  2:  200 (  6.4%)\n",
      "Class  3:  305 (  9.7%)\n",
      "Class  4:  159 (  5.1%)\n",
      "Class  5:  199 (  6.3%)\n",
      "Class  6:  204 (  6.5%)\n",
      "Class  7:  142 (  4.5%)\n",
      "Class  8:  200 (  6.4%)\n",
      "Class  9:  200 (  6.4%)\n",
      "Class 10:  208 (  6.6%)\n",
      "Class 11:  188 (  6.0%)\n",
      "Class 12:  198 (  6.3%)\n",
      "Class 13:  153 (  4.9%)\n",
      "Class 14:   97 (  3.1%)\n",
      "Class 15:  200 (  6.4%)\n",
      "Class 16:  200 (  6.4%)\n",
      "최종 결과 WandB 로깅 완료!\n",
      "총 예측 수: 3140\n",
      "예측된 클래스 수: 17\n",
      "평균 신뢰도: 0.4098\n",
      "신뢰도 범위: 0.1326 ~ 0.7590\n",
      "예측 분포 차트 로깅 완료!\n",
      "실험 요약 로깅 완료!\n",
      "\n",
      " 최종 결과 저장 완료!\n",
      " 파일 위치: ../data/output/choice10.csv\n",
      " 총 예측 수: 3140\n"
     ]
    }
   ],
   "source": [
    "# =============================================================================\n",
    "# 18. Final Results and Submission\n",
    "# =============================================================================\n",
    "\n",
    "print(f\"\\n 최종 결과 정리 중...\")\n",
    "\n",
    "# TTA 결과로 submission 파일 생성\n",
    "tta_pred_df = pd.DataFrame(tta_dataset.df, columns=['ID', 'target'])\n",
    "tta_pred_df['target'] = tta_predictions\n",
    "\n",
    "# 기존 submission과 동일한 순서인지 확인\n",
    "sample_submission_df = pd.read_csv(\"../data/sample_submission.csv\")\n",
    "assert (sample_submission_df['ID'] == tta_pred_df['ID']).all(), \"ID 순서 불일치!\"\n",
    "\n",
    "# 예측 분포 분석\n",
    "pred_distribution = tta_pred_df['target'].value_counts().sort_index()\n",
    "pred_table = wandb.Table(columns=[\"Class\", \"Count\", \"Percentage\"])\n",
    "\n",
    "print(f\"\\n📊 예측 결과 분포:\")\n",
    "for class_id in range(17):\n",
    "    count = pred_distribution.get(class_id, 0)\n",
    "    percentage = count / len(tta_pred_df) * 100\n",
    "    pred_table.add_data(class_id, count, percentage)\n",
    "    print(f\"Class {class_id:2d}: {count:4d} ({percentage:5.1f}%)\")\n",
    "\n",
    "# 신뢰도 분석\n",
    "confidence_bins = [0.5, 0.7, 0.8, 0.9, 0.95, 1.0]\n",
    "confidence_analysis = {}\n",
    "for i, threshold in enumerate(confidence_bins):\n",
    "    if i == 0:\n",
    "        count = np.sum(np.array(confidences) >= threshold)\n",
    "    else:\n",
    "        prev_threshold = confidence_bins[i-1]\n",
    "        count = np.sum((np.array(confidences) >= prev_threshold) & (np.array(confidences) < threshold))\n",
    "    confidence_analysis[f\"conf_{threshold}\"] = count\n",
    "\n",
    "# 최종 결과 로깅\n",
    "try:\n",
    "    if wandb.run is not None:\n",
    "        wandb.run.log({\n",
    "            \"final_results/total_predictions\": len(tta_predictions),\n",
    "            \"final_results/unique_classes_predicted\": len(np.unique(tta_predictions)),\n",
    "            \"final_results/prediction_distribution_table\": pred_table,\n",
    "            \"final_results/avg_confidence\": np.mean(confidences),\n",
    "            \"final_results/median_confidence\": np.median(confidences),\n",
    "            \"final_results/min_confidence\": np.min(confidences),\n",
    "            \"final_results/max_confidence\": np.max(confidences),\n",
    "            \"final_results/confidence_distribution\": wandb.Histogram(confidences),\n",
    "            **confidence_analysis\n",
    "        })\n",
    "        print(\"최종 결과 WandB 로깅 완료!\")\n",
    "    else:\n",
    "        print(\"활성화된 run이 없어 로깅을 건너뜁니다.\")\n",
    "except Exception as e:\n",
    "    print(f\"WandB 로깅 중 에러: {e}\")\n",
    "\n",
    "# 콘솔 출력은 항상 실행\n",
    "print(f\"총 예측 수: {len(tta_predictions)}\")\n",
    "print(f\"예측된 클래스 수: {len(np.unique(tta_predictions))}\")\n",
    "print(f\"평균 신뢰도: {np.mean(confidences):.4f}\")\n",
    "print(f\"신뢰도 범위: {np.min(confidences):.4f} ~ {np.max(confidences):.4f}\")\n",
    "\n",
    "\n",
    "# 예측 분포 바차트\n",
    "try:\n",
    "    if wandb.run is not None:\n",
    "        pred_dist_data = [[f\"Class_{i}\", pred_distribution.get(i, 0)] for i in range(17)]\n",
    "        wandb.run.log({\n",
    "            \"final_results/prediction_distribution_chart\": wandb.plot.bar(\n",
    "                wandb.Table(data=pred_dist_data, columns=[\"Class\", \"Count\"]),\n",
    "                \"Class\", \"Count\", \n",
    "                title=\"Final Prediction Distribution\"\n",
    "            )\n",
    "        })\n",
    "        print(\"예측 분포 차트 로깅 완료!\")\n",
    "    else:\n",
    "        print(\"차트 로깅을 건너뜁니다.\")\n",
    "except Exception as e:\n",
    "    print(f\"차트 로깅 중 에러: {e}\")\n",
    "\n",
    "# 결과 저장\n",
    "output_path = \"../data/output/choice10.csv\"\n",
    "tta_pred_df.to_csv(output_path, index=False)\n",
    "\n",
    "# 결과 파일을 WandB 아티팩트로 저장\n",
    "artifact = wandb.Artifact(\n",
    "    name=\"final_predictions\",\n",
    "    type=\"predictions\",\n",
    "    description=f\"Final ensemble predictions with {N_FOLDS}-fold CV + TTA\"\n",
    ")\n",
    "artifact.add_file(output_path)\n",
    "\n",
    "try:\n",
    "    if wandb.run is not None:\n",
    "        wandb.run.log_artifact(artifact)\n",
    "        print(\"실험 요약 로깅 완료!\")\n",
    "    else:\n",
    "        print(\"활성화된 run이 없어 실험 요약 로깅을 건너뜁니다.\")\n",
    "except Exception as e:\n",
    "    print(f\"실험 요약 로깅 중 에러: {e}\")\n",
    "\n",
    "\n",
    "print(f\"\\n 최종 결과 저장 완료!\")\n",
    "print(f\" 파일 위치: {output_path}\")\n",
    "print(f\" 총 예측 수: {len(tta_predictions)}\")"
   ]
  },
  {
   "cell_type": "code",
   "execution_count": 36,
   "id": "b5f6fc07",
   "metadata": {},
   "outputs": [
    {
     "name": "stdout",
     "output_type": "stream",
     "text": [
      "실험 요약 로깅 완료!\n",
      "최종 상태 업데이트 완료!\n",
      "\n",
      "실험 완료 시간: 2025-09-08 09:10:35\n",
      "\n",
      "============================================================\n",
      "실험 완료!\n",
      "============================================================\n",
      " K-Fold CV 결과: 0.9160 ± 0.0121\n",
      " 최고 성능 Fold: 0.9339\n",
      " 앙상블 모델: 5개\n",
      " TTA 변형: 5개\n",
      " 평균 예측 신뢰도: 0.4098\n",
      " WandB 대시보드: https://wandb.ai/kimsunmin0227-hufs/document-classification-team-CV/runs/1xxo6aw8\n",
      "\n",
      " 예측 결과 샘플:\n",
      "                     ID  target\n",
      "0  0008fdb22ddce0ce.jpg       2\n",
      "1  00091bffdffd83de.jpg      12\n",
      "2  00396fbc1f6cc21d.jpg       5\n",
      "3  00471f8038d9c4b6.jpg      12\n",
      "4  00901f504008d884.jpg       2\n",
      "5  009b22decbc7220c.jpg      15\n",
      "6  00b33e0ee6d59427.jpg       0\n",
      "7  00bbdcfbbdb3e131.jpg       8\n",
      "8  00c03047e0fbef40.jpg      15\n",
      "9  00c0dabb63ca7a16.jpg      11\n",
      "\n",
      " 모든 작업 완료!\n",
      " 결과 파일: ../data/output/choice10.csv\n",
      " WandB에서 전체 실험 결과를 확인하세요!\n"
     ]
    }
   ],
   "source": [
    "# =============================================================================\n",
    "# 19. Experiment Summary and Cleanup\n",
    "# =============================================================================\n",
    "\n",
    "# 실험 요약 생성\n",
    "experiment_summary = {\n",
    "    \"experiment_name\": main_run.name,\n",
    "    \"model_architecture\": model_name,\n",
    "    \"image_size\": img_size,\n",
    "    \"cv_strategy\": f\"{N_FOLDS}-Fold StratifiedKFold\",\n",
    "    \"cv_mean_f1\": mean_f1,\n",
    "    \"cv_std_f1\": std_f1,\n",
    "    \"cv_best_fold\": max(val_f1_scores),\n",
    "    \"ensemble_models\": len(ensemble_models),\n",
    "    \"tta_transforms\": len(essential_tta_transforms),\n",
    "    \"total_training_time_min\": sum([r['epochs_trained'] for r in fold_results]) * 2,  # 추정치\n",
    "    \"avg_prediction_confidence\": np.mean(confidences),\n",
    "    \"high_confidence_predictions\": np.sum(np.array(confidences) >= 0.9),\n",
    "    \"experiment_tags\": [\"baseline\", \"efficientnet-b3\", \"k-fold-cv\", \"tta\", \"ensemble\"]\n",
    "}\n",
    "\n",
    "# 실험 요약\n",
    "try:\n",
    "    if wandb.run is not None:\n",
    "        wandb.run.log({\"experiment_summary\": experiment_summary})\n",
    "        print(\"실험 요약 로깅 완료!\")\n",
    "    else:\n",
    "        print(\"활성화된 run이 없어 실험 요약 로깅을 건너뜁니다.\")\n",
    "except Exception as e:\n",
    "    print(f\"실험 요약 로깅 중 에러: {e}\")\n",
    "\n",
    "\n",
    "# 마지막 상태 업데이트\n",
    "try:\n",
    "    if wandb.run is not None:\n",
    "        wandb.run.log({\n",
    "            \"status\": \"completed\",\n",
    "            \"completion_time\": datetime.now().strftime(\"%Y-%m-%d %H:%M:%S\"),\n",
    "            \"total_runtime_hours\": 0  # start_time 속성 문제로 일단 0으로 설정\n",
    "        })\n",
    "        print(\"최종 상태 업데이트 완료!\")\n",
    "    else:\n",
    "        print(\"활성화된 run이 없어 상태 업데이트를 건너뜁니다.\")\n",
    "except Exception as e:\n",
    "    print(f\"상태 업데이트 중 에러: {e}\")\n",
    "\n",
    "print(f\"\\n실험 완료 시간: {datetime.now().strftime('%Y-%m-%d %H:%M:%S')}\")\n",
    "\n",
    "print(f\"\\n{'='*60}\")\n",
    "print(\"실험 완료!\")\n",
    "print(f\"{'='*60}\")\n",
    "\n",
    "print(f\" K-Fold CV 결과: {mean_f1:.4f} ± {std_f1:.4f}\")\n",
    "print(f\" 최고 성능 Fold: {max(val_f1_scores):.4f}\")\n",
    "print(f\" 앙상블 모델: {len(ensemble_models)}개\")\n",
    "print(f\" TTA 변형: {len(essential_tta_transforms)}개\")\n",
    "print(f\" 평균 예측 신뢰도: {np.mean(confidences):.4f}\")\n",
    "print(f\" WandB 대시보드: {main_run.url}\")\n",
    "\n",
    "# Sample predictions 출력\n",
    "print(f\"\\n 예측 결과 샘플:\")\n",
    "print(tta_pred_df.head(10))\n",
    "\n",
    "# 메인 run 종료\n",
    "main_run.finish()\n",
    "\n",
    "print(f\"\\n 모든 작업 완료!\")\n",
    "print(f\" 결과 파일: {output_path}\")\n",
    "print(f\" WandB에서 전체 실험 결과를 확인하세요!\")\n",
    "\n",
    "# 메모리 정리\n",
    "del ensemble_models\n",
    "torch.cuda.empty_cache()"
   ]
  },
  {
   "cell_type": "code",
   "execution_count": null,
   "id": "1fcf1b24",
   "metadata": {},
   "outputs": [],
   "source": []
  }
 ],
 "metadata": {
  "kernelspec": {
   "display_name": "base",
   "language": "python",
   "name": "python3"
  },
  "language_info": {
   "codemirror_mode": {
    "name": "ipython",
    "version": 3
   },
   "file_extension": ".py",
   "mimetype": "text/x-python",
   "name": "python",
   "nbconvert_exporter": "python",
   "pygments_lexer": "ipython3",
   "version": "3.10.13"
  }
 },
 "nbformat": 4,
 "nbformat_minor": 5
}
