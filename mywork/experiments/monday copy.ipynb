{
 "cells": [
  {
   "cell_type": "markdown",
   "id": "18bbe02e",
   "metadata": {},
   "source": [
    "# 📄 Document type classification baseline code with WandB Integration\n",
    "\n"
   ]
  },
  {
   "cell_type": "code",
   "execution_count": 14,
   "id": "92dc69ba",
   "metadata": {},
   "outputs": [
    {
     "name": "stderr",
     "output_type": "stream",
     "text": [
      "socket.send() raised exception.\n",
      "socket.send() raised exception.\n",
      "socket.send() raised exception.\n",
      "socket.send() raised exception.\n",
      "socket.send() raised exception.\n",
      "socket.send() raised exception.\n",
      "socket.send() raised exception.\n",
      "socket.send() raised exception.\n",
      "socket.send() raised exception.\n",
      "socket.send() raised exception.\n",
      "socket.send() raised exception.\n",
      "socket.send() raised exception.\n",
      "socket.send() raised exception.\n",
      "socket.send() raised exception.\n",
      "socket.send() raised exception.\n",
      "socket.send() raised exception.\n",
      "socket.send() raised exception.\n",
      "socket.send() raised exception.\n",
      "socket.send() raised exception.\n",
      "socket.send() raised exception.\n",
      "socket.send() raised exception.\n",
      "socket.send() raised exception.\n",
      "socket.send() raised exception.\n",
      "socket.send() raised exception.\n",
      "socket.send() raised exception.\n",
      "socket.send() raised exception.\n",
      "socket.send() raised exception.\n",
      "socket.send() raised exception.\n"
     ]
    },
    {
     "name": "stdout",
     "output_type": "stream",
     "text": [
      "Requirement already satisfied: albumentations==1.3.1 in /opt/conda/lib/python3.10/site-packages (from -r ../requirements.txt (line 1)) (1.3.1)\n",
      "Requirement already satisfied: ipykernel==6.27.1 in /opt/conda/lib/python3.10/site-packages (from -r ../requirements.txt (line 2)) (6.27.1)\n",
      "Requirement already satisfied: ipython==8.15.0 in /opt/conda/lib/python3.10/site-packages (from -r ../requirements.txt (line 3)) (8.15.0)\n",
      "Requirement already satisfied: ipywidgets==8.1.1 in /opt/conda/lib/python3.10/site-packages (from -r ../requirements.txt (line 4)) (8.1.1)\n",
      "Requirement already satisfied: jupyter==1.0.0 in /opt/conda/lib/python3.10/site-packages (from -r ../requirements.txt (line 5)) (1.0.0)\n",
      "Requirement already satisfied: matplotlib-inline==0.1.6 in /opt/conda/lib/python3.10/site-packages (from -r ../requirements.txt (line 6)) (0.1.6)\n",
      "Requirement already satisfied: numpy in /opt/conda/lib/python3.10/site-packages (from -r ../requirements.txt (line 7)) (1.26.0)\n",
      "Requirement already satisfied: pandas in /opt/conda/lib/python3.10/site-packages (from -r ../requirements.txt (line 8)) (2.1.4)\n",
      "Requirement already satisfied: Pillow in /opt/conda/lib/python3.10/site-packages (from -r ../requirements.txt (line 9)) (9.4.0)\n",
      "Requirement already satisfied: seaborn in /opt/conda/lib/python3.10/site-packages (from -r ../requirements.txt (line 10)) (0.13.2)\n",
      "Requirement already satisfied: timm==0.9.12 in /opt/conda/lib/python3.10/site-packages (from -r ../requirements.txt (line 11)) (0.9.12)\n",
      "Requirement already satisfied: plotly in /opt/conda/lib/python3.10/site-packages (from -r ../requirements.txt (line 12)) (6.3.0)\n",
      "Requirement already satisfied: matplotlib in /opt/conda/lib/python3.10/site-packages (from -r ../requirements.txt (line 13)) (3.10.6)\n",
      "Requirement already satisfied: optuna in /opt/conda/lib/python3.10/site-packages (from -r ../requirements.txt (line 14)) (4.5.0)\n",
      "Requirement already satisfied: wandb in /opt/conda/lib/python3.10/site-packages (from -r ../requireme"
     ]
    },
    {
     "name": "stderr",
     "output_type": "stream",
     "text": [
      "socket.send() raised exception.\n",
      "socket.send() raised exception.\n",
      "socket.send() raised exception.\n",
      "socket.send() raised exception.\n"
     ]
    },
    {
     "name": "stdout",
     "output_type": "stream",
     "text": [
      "nts.txt (line 15)) (0.21.3)\n",
      "Requirement already satisfied: scipy>=1.1.0 in /opt/conda/lib/python3.10/site-packages (from albumentations==1.3.1->-r ../requirements.txt (line 1)) (1.11.4)\n",
      "Requirement already satisfied: scikit-image>=0.16.1 in /opt/conda/lib/python3.10/site-packages (from albumentations==1.3.1->-r ../requirements.txt (line 1)) (0.22.0)\n",
      "Requirement already satisfied: PyYAML in /opt/conda/lib/python3.10/site-packages (from albumentations==1.3.1->-r ../requirements.txt (line 1)) (6.0)\n",
      "Requirement already satisfied: qudida>=0.0.4 in /opt/conda/lib/python3.10/site-packages (from albumentations==1.3.1->-r ../requirements.txt (line 1)) (0.0.4)\n",
      "Requirement already satisfied: opencv-python-headless>=4.1.1 in /opt/conda/lib/python3.10/site-packages (from albumentations==1.3.1->-r ../requirements.txt (line 1)) (4.8.1.78)\n",
      "Requirement already satisfied: comm>=0.1.1 in /opt/conda/lib/python3.10/site-packages (from ipykernel==6.27.1->-r ../requirements.txt (line 2)) (0.2.0)\n",
      "Requirement already satisfied: debugpy>=1.6.5 in /opt/conda/lib/python3.10/site-packages (from ipykernel==6.27.1->-r ../requirements.txt (line 2)) (1.8.0)\n",
      "Requirement already satisfied: jupyter-client>=6.1.12 in /opt/conda/lib/python3.10/site-packages (from ipykernel==6.27.1->-r ../requirements.txt (line 2)) (8.6.0)\n",
      "Requirement already satisfied: jupyter-core!=5.0.*,>=4.12 in /opt/conda/lib/python3.10/site-packages (from ipykernel==6.27.1->-r ../requirements.txt (line 2)) (5.5.0)\n",
      "Requirement already satisfied: nest-asyncio in /opt/conda/lib/python3.10/site-packages (from ipykernel==6.27.1->-r ../requirements.txt (line 2)) (1.5.8)\n",
      "Requirement already satisfied: packaging in /opt/conda/lib/python3.10/site-packages (from ipykernel==6.27.1->-r ../requirements.txt (line 2)) (23.1)\n",
      "Requirement already satisfied: psutil in /opt/conda/lib/python3.10/site-packages (from ipykernel==6.27.1->-r ../requirements.txt (line 2)) (5.9.0)\n",
      "Requirement already satisfied: pyzmq>=20 in /opt/conda/lib/python3.10/site-packages (from ipykernel==6.27.1->-r ../requirements.txt (line 2)) (25.1.2)\n",
      "Requirement already satisfied: tornado>=6.1 in /opt/conda/lib/python3.10/site-packages (from ipykernel==6.27.1->-r ../requirements.txt (line 2)) (6.4)\n",
      "Requirement already satisfied: traitlets>=5.4.0 in /opt/conda/lib/python3.10/site-packages (from ipykernel==6.27.1->-r ../requirements.txt (line 2)) (5.7.1)\n",
      "Requirement already satisfied: backcall in /opt/conda/lib/python3.10/site-packages (from ipython==8.15.0->-r ../requirements.txt (line 3)) (0.2.0)\n",
      "Requirement already satisfied: decorator in /opt/conda/lib/python3.10/site-packages (from ipython==8.15.0->-r ../requirements.txt (line 3)) (5.1.1)\n",
      "Requirement already satisfied: jedi>=0.16 in /opt/conda/lib/python3.10/site-packages (from ipython==8.15.0->-r ../requirements.txt (line 3)) (0.18.1)\n",
      "Requirement already satisfied: pickleshare in /opt/conda/lib/python3.10/site-packages (from ipython==8.15.0->-r ../requirements.txt (line 3)) (0.7.5)\n",
      "Requirement already satisfied: prompt-toolkit!=3.0.37,<3.1.0,>=3.0.30 in /opt/conda/lib/python3.10/site-packages (from ipython==8.15.0->-r ../requirements.txt (line 3)) (3.0.36)\n",
      "Requirement already satisfied: pygments>=2.4.0 in /opt/conda/lib/python3.10/site-packages (from ipython==8.15.0->-r ../requirements.txt (line 3)) (2.15.1)\n",
      "Requirement already satisfied: stack-data in /opt/conda/lib/python3.10/site-packages (from ipython==8.15.0->-r ../requirements.txt (line 3)) (0.2.0)\n",
      "Requirement already satisfied: exceptiongroup in /opt/conda/lib/python3.10/site-packages (from ipython==8.15.0->-r ../requirements.txt (line 3)) (1.0.4)\n",
      "Requirement already satisfied: pexpect>4.3 in /opt/conda/lib/python3.10/site-packages (from ipython==8.15.0->-r ../requirements.txt (line 3)) (4.8.0)\n",
      "Requirement already satisfied: widgetsnbextension~=4.0.9 in /opt/conda/lib/python3.10/site-packages (from ipywidgets==8.1.1->-r ../requirements.txt (line 4)) (4.0.9)\n",
      "Requirement already satisfied: jupyterlab-widgets~=3.0.9 in /opt/conda/lib/python3.10/site-packages (from ipywidgets==8.1.1->-r ../requirements.txt (line 4)) (3.0.9)\n",
      "Requirement already satisfied: notebook in /opt/conda/lib/python3.10/site-packages (from jupyter==1.0.0->-r ../requirements.txt (line 5)) (7.0.6)\n",
      "Requirement already satisfied: qtconsole in /opt/conda/lib/python3.10/site-packages (from jupyter==1.0.0->-r ../requirements.txt (line 5)) (5.5.1)\n",
      "Requirement already satisfied: jupyter-console in /opt/conda/lib/python3.10/site-packages (from jupyter==1.0.0->-r ../requirements.txt (line 5)) (6.6.3)\n",
      "Requirement already satisfied: nbconvert in /opt/conda/lib/python3.10/site-packages (from jupyter==1.0.0->-r ../requirements.txt (line 5)) (7.12.0)\n",
      "Requirement already satisfied: torch>=1.7 in /opt/conda/lib/python3.10/site-packages (from timm==0.9.12->-r ../requirements.txt (line 11)) (2.1.0)\n",
      "Requirement already satisfied: torchvision in /opt/conda/lib/python3.10/site-packages (from timm==0.9.12->-r ../requirements.txt (line 11)) (0.16.0)\n",
      "Requirement already satisfied: huggingface-hub in /opt/conda/lib/python3.10/site-packages (from timm==0.9.12->-r ../requirements.txt (line 11)) (0.19.4)\n",
      "Requirement already satisfied: safetensors in /opt/conda/lib/python3.10/site-packages (from timm==0.9.12->-r ../requirements.txt (line 11)) (0.4.1)\n",
      "Requirement already satisfied: python-dateutil>=2.8.2 in /opt/conda/lib/python3.10/site-packages (from pandas->-r ../requirements.txt (line 8)) (2.8.2)\n",
      "Requirement already satisfied: pytz>=2020.1 in /opt/conda/lib/python3.10/site-packages (from pandas->-r ../requirements.txt (line 8)) (2023.3.post1)\n",
      "Requirement already satisfied: tzdata>=2022.1 in /opt/conda/lib/python3.10/site-packages (from pandas->-r ../requirements.txt (line 8)) (2023.3)\n"
     ]
    },
    {
     "name": "stderr",
     "output_type": "stream",
     "text": [
      "socket.send() raised exception.\n",
      "socket.send() raised exception.\n",
      "socket.send() raised exception.\n",
      "socket.send() raised exception.\n",
      "socket.send() raised exception.\n",
      "socket.send() raised exception.\n"
     ]
    },
    {
     "name": "stdout",
     "output_type": "stream",
     "text": [
      "Requirement already satisfied: narwhals>=1.15.1 in /opt/conda/lib/python3.10/site-packages (from plotly->-r ../requirements.txt (line 12)) (2.3.0)\n",
      "Requirement already satisfied: contourpy>=1.0.1 in /opt/conda/lib/python3.10/site-packages (from matplotlib->-r ../requirements.txt (line 13)) (1.3.2)\n",
      "Requirement already satisfied: cycler>=0.10 in /opt/conda/lib/python3.10/site-packages (from matplotlib->-r ../requirements.txt (line 13)) (0.12.1)\n",
      "Requirement already satisfied: fonttools>=4.22.0 in /opt/conda/lib/python3.10/site-packages (from matplotlib->-r ../requirements.txt (line 13)) (4.59.2)\n",
      "Requirement already satisfied: kiwisolver>=1.3.1 in /opt/conda/lib/python3.10/site-packages (from matplotlib->-r ../requirements.txt (line 13)) (1.4.9)\n",
      "Requirement already satisfied: pyparsing>=2.3.1 in /opt/conda/lib/python3.10/site-packages (from matplotlib->-r ../requirements.txt (line 13)) (3.2.3)\n"
     ]
    },
    {
     "name": "stderr",
     "output_type": "stream",
     "text": [
      "socket.send() raised exception.\n",
      "socket.send() raised exception.\n",
      "socket.send() raised exception.\n",
      "socket.send() raised exception.\n"
     ]
    },
    {
     "name": "stdout",
     "output_type": "stream",
     "text": [
      "Requirement already satisfied: alembic>=1.5.0 in /opt/conda/lib/python3.10/site-packages (from optuna->-r ../requirements.txt (line 14)) (1.16.5)\n",
      "Requirement already satisfied: colorlog in /opt/conda/lib/python3.10/site-packages (from optuna->-r ../requirements.txt (line 14)) (6.9.0)\n",
      "Requirement already satisfied: sqlalchemy>=1.4.2 in /opt/conda/lib/python3.10/site-packages (from optuna->-r ../requirements.txt (line 14)) (2.0.43)\n",
      "Requirement already satisfied: tqdm in /opt/conda/lib/python3.10/site-packages (from optuna->-r ../requirements.txt (line 14)) (4.65.0)\n"
     ]
    },
    {
     "name": "stderr",
     "output_type": "stream",
     "text": [
      "socket.send() raised exception.\n",
      "socket.send() raised exception.\n",
      "socket.send() raised exception.\n",
      "socket.send() raised exception.\n"
     ]
    },
    {
     "name": "stdout",
     "output_type": "stream",
     "text": [
      "Requirement already satisfied: click>=8.0.1 in /opt/conda/lib/python3.10/site-packages (from wandb->-r ../requirements.txt (line 15)) (8.0.4)\n",
      "Requirement already satisfied: gitpython!=3.1.29,>=1.0.0 in /opt/conda/lib/python3.10/site-packages (from wandb->-r ../requirements.txt (line 15)) (3.1.45)\n",
      "Requirement already satisfied: platformdirs in /opt/conda/lib/python3.10/site-packages (from wandb->-r ../requirements.txt (line 15)) (4.1.0)\n",
      "Requirement already satisfied: protobuf!=4.21.0,!=5.28.0,<7,>=3.19.0 in /opt/conda/lib/python3.10/site-packages (from wandb->-r ../requirements.txt (line 15)) (6.32.0)\n",
      "Requirement already satisfied: pydantic<3 in /opt/conda/lib/python3.10/site-packages (from wandb->-r ../requirements.txt (line 15)) (2.11.7)\n",
      "Requirement already satisfied: requests<3,>=2.0.0 in /opt/conda/lib/python3.10/site-packages (from wandb->-r ../requirements.txt (line 15)) (2.31.0)\n",
      "Requirement already satisfied: sentry-sdk>=2.0.0 in /opt/conda/lib/python3.10/site-packages (from wandb->-r ../requirements.txt (line 15)) (2.37.0)\n",
      "Requirement already satisfied: typing-extensions<5,>=4.8 in /opt/conda/lib/python3.10/site-packages (from wandb->-r ../requirements.txt (line 15)) (4.15.0)\n",
      "Requirement already satisfied: Mako in /opt/conda/lib/python3.10/site-packages (from alembic>=1.5.0->optuna->-r ../requirements.txt (line 14)) (1.3.10)\n",
      "Requirement already satisfied: tomli in /opt/conda/lib/python3.10/site-packages (from alembic>=1.5.0->optuna->-r ../requirements.txt (line 14)) (2.0.1)\n"
     ]
    },
    {
     "name": "stderr",
     "output_type": "stream",
     "text": [
      "socket.send() raised exception.\n",
      "socket.send() raised exception.\n",
      "socket.send() raised exception.\n",
      "socket.send() raised exception.\n",
      "socket.send() raised exception.\n"
     ]
    },
    {
     "name": "stdout",
     "output_type": "stream",
     "text": [
      "Requirement already satisfied: gitdb<5,>=4.0.1 in /opt/conda/lib/python3.10/site-packages (from gitpython!=3.1.29,>=1.0.0->wandb->-r ../requirements.txt (line 15)) (4.0.12)\n",
      "Requirement already satisfied: parso<0.9.0,>=0.8.0 in /opt/conda/lib/python3.10/site-packages (from jedi>=0.16->ipython==8.15.0->-r ../requirements.txt (line 3)) (0.8.3)\n"
     ]
    },
    {
     "name": "stderr",
     "output_type": "stream",
     "text": [
      "socket.send() raised exception.\n",
      "socket.send() raised exception.\n",
      "socket.send() raised exception.\n",
      "socket.send() raised exception.\n",
      "socket.send() raised exception.\n"
     ]
    },
    {
     "name": "stdout",
     "output_type": "stream",
     "text": [
      "Requirement already satisfied: ptyprocess>=0.5 in /opt/conda/lib/python3.10/site-packages (from pexpect>4.3->ipython==8.15.0->-r ../requirements.txt (line 3)) (0.7.0)\n"
     ]
    },
    {
     "name": "stderr",
     "output_type": "stream",
     "text": [
      "socket.send() raised exception.\n",
      "socket.send() raised exception.\n",
      "socket.send() raised exception.\n",
      "socket.send() raised exception.\n"
     ]
    },
    {
     "name": "stdout",
     "output_type": "stream",
     "text": [
      "Requirement already satisfied: wcwidth in /opt/conda/lib/python3.10/site-packages (from prompt-toolkit!=3.0.37,<3.1.0,>=3.0.30->ipython==8.15.0->-r ../requirements.txt (line 3)) (0.2.5)\n",
      "Requirement already satisfied: annotated-types>=0.6.0 in /opt/conda/lib/python3.10/site-packages (from pydantic<3->wandb->-r ../requirements.txt (line 15)) (0.7.0)\n",
      "Requirement already satisfied: pydantic-core==2.33.2 in /opt/conda/lib/python3.10/site-packages (from pydantic<3->wandb->-r ../requirements.txt (line 15)) (2.33.2)\n",
      "Requirement already satisfied: typing-inspection>=0.4.0 in /opt/conda/lib/python3.10/site-packages (from pydantic<3->wandb->-r ../requirements.txt (line 15)) (0.4.1)\n",
      "Requirement already satisfied: six>=1.5 in /opt/conda/lib/python3.10/site-packages (from python-dateutil>=2.8.2->pandas->-r ../requirements.txt (line 8)) (1.16.0)\n",
      "Requirement already satisfied: scikit-learn>=0.19.1 in /opt/conda/lib/python3.10/site-packages (from qudida>=0.0.4->albumentations==1.3.1->-r ../requirements.txt (line 1)) (1.3.2)\n",
      "Requirement already satisfied: charset-normalizer<4,>=2 in /opt/conda/lib/python3.10/site-packages (from requests<3,>=2.0.0->wandb->-r ../requirements.txt (line 15)) (2.0.4)\n",
      "Requirement already satisfied: idna<4,>=2.5 in /opt/conda/lib/python3.10/site-packages (from requests<3,>=2.0.0->wandb->-r ../requirements.txt (line 15)) (3.4)\n",
      "Requirement already satisfied: urllib3<3,>=1.21.1 in /opt/conda/lib/python3.10/site-packages (from requests<3,>=2.0.0->wandb->-r ../requirements.txt (line 15)) (1.26.16)\n",
      "Requirement already satisfied: certifi>=2017.4.17 in /opt/conda/lib/python3.10/site-packages (from requests<3,>=2.0.0->wandb->-r ../requirements.txt (line 15)) (2023.7.22)\n"
     ]
    },
    {
     "name": "stderr",
     "output_type": "stream",
     "text": [
      "socket.send() raised exception.\n",
      "socket.send() raised exception.\n",
      "socket.send() raised exception.\n",
      "socket.send() raised exception.\n",
      "socket.send() raised exception.\n",
      "socket.send() raised exception.\n"
     ]
    },
    {
     "name": "stdout",
     "output_type": "stream",
     "text": [
      "Requirement already satisfied: networkx>=2.8 in /opt/conda/lib/python3.10/site-packages (from scikit-image>=0.16.1->albumentations==1.3.1->-r ../requirements.txt (line 1)) (3.1)\n",
      "Requirement already satisfied: imageio>=2.27 in /opt/conda/lib/python3.10/site-packages (from scikit-image>=0.16.1->albumentations==1.3.1->-r ../requirements.txt (line 1)) (2.33.1)\n",
      "Requirement already satisfied: tifffile>=2022.8.12 in /opt/conda/lib/python3.10/site-packages (from scikit-image>=0.16.1->albumentations==1.3.1->-r ../requirements.txt (line 1)) (2023.12.9)\n",
      "Requirement already satisfied: lazy_loader>=0.3 in /opt/conda/lib/python3.10/site-packages (from scikit-image>=0.16.1->albumentations==1.3.1->-r ../requirements.txt (line 1)) (0.3)\n"
     ]
    },
    {
     "name": "stderr",
     "output_type": "stream",
     "text": [
      "socket.send() raised exception.\n",
      "socket.send() raised exception.\n",
      "socket.send() raised exception.\n",
      "socket.send() raised exception.\n",
      "socket.send() raised exception.\n",
      "socket.send() raised exception.\n"
     ]
    },
    {
     "name": "stdout",
     "output_type": "stream",
     "text": [
      "Requirement already satisfied: greenlet>=1 in /opt/conda/lib/python3.10/site-packages (from sqlalchemy>=1.4.2->optuna->-r ../requirements.txt (line 14)) (3.2.4)\n",
      "Requirement already satisfied: filelock in /opt/conda/lib/python3.10/site-packages (from torch>=1.7->timm==0.9.12->-r ../requirements.txt (line 11)) (3.9.0)\n",
      "Requirement already satisfied: sympy in /opt/conda/lib/python3.10/site-packages (from torch>=1.7->timm==0.9.12->-r ../requirements.txt (line 11)) (1.11.1)\n",
      "Requirement already satisfied: jinja2 in /opt/conda/lib/python3.10/site-packages (from torch>=1.7->timm==0.9.12->-r ../requirements.txt (line 11)) (3.1.2)\n",
      "Requirement already satisfied: fsspec in /opt/conda/lib/python3.10/site-packages (from torch>=1.7->timm==0.9.12->-r ../requirements.txt (line 11)) (2023.9.2)\n"
     ]
    },
    {
     "name": "stderr",
     "output_type": "stream",
     "text": [
      "socket.send() raised exception.\n",
      "socket.send() raised exception.\n",
      "socket.send() raised exception.\n",
      "socket.send() raised exception.\n",
      "socket.send() raised exception.\n",
      "socket.send() raised exception.\n",
      "socket.send() raised exception.\n",
      "socket.send() raised exception.\n",
      "socket.send() raised exception.\n",
      "socket.send() raised exception.\n",
      "socket.send() raised exception.\n",
      "socket.send() raised exception.\n",
      "socket.send() raised exception.\n",
      "socket.send() raised exception.\n"
     ]
    },
    {
     "name": "stdout",
     "output_type": "stream",
     "text": [
      "Requirement already satisfied: beautifulsoup4 in /opt/conda/lib/python3.10/site-packages (from nbconvert->jupyter==1.0.0->-r ../requirements.txt (line 5)) (4.12.2)\n",
      "Requirement already satisfied: bleach!=5.0.0 in /opt/conda/lib/python3.10/site-packages (from nbconvert->jupyter==1.0.0->-r ../requirements.txt (line 5)) (6.1.0)\n",
      "Requirement already satisfied: defusedxml in /opt/conda/lib/python3.10/site-packages (from nbconvert->jupyter==1.0.0->-r ../requirements.txt (line 5)) (0.7.1)\n",
      "Requirement already satisfied: jupyterlab-pygments in /opt/conda/lib/python3.10/site-packages (from nbconvert->jupyter==1.0.0->-r ../requirements.txt (line 5)) (0.3.0)\n",
      "Requirement already satisfied: markupsafe>=2.0 in /opt/conda/lib/python3.10/site-packages (from nbconvert->jupyter==1.0.0->-r ../requirements.txt (line 5)) (2.1.1)\n",
      "Requirement already satisfied: mistune<4,>=2.0.3 in /opt/conda/lib/python3.10/site-packages (from nbconvert->jupyter==1.0.0->-r ../requirements.txt (line 5)) (3.0.2)\n",
      "Requirement already satisfied: nbclient>=0.5.0 in /opt/conda/lib/python3.10/site-packages (from nbconvert->jupyter==1.0.0->-r ../requirements.txt (line 5)) (0.9.0)\n",
      "Requirement already satisfied: nbformat>=5.7 in /opt/conda/lib/python3.10/site-packages (from nbconvert->jupyter==1.0.0->-r ../requirements.txt (line 5)) (5.9.2)\n",
      "Requirement already satisfied: pandocfilters>=1.4.1 in /opt/conda/lib/python3.10/site-packages (from nbconvert->jupyter==1.0.0->-r ../requirements.txt (line 5)) (1.5.0)\n",
      "Requirement already satisfied: tinycss2 in /opt/conda/lib/python3.10/site-packages (from nbconvert->jupyter==1.0.0->-r ../requirements.txt (line 5)) (1.2.1)\n",
      "Requirement already satisfied: jupyter-server<3,>=2.4.0 in /opt/conda/lib/python3.10/site-packages (from notebook->jupyter==1.0.0->-r ../requirements.txt (line 5)) (2.12.1)\n",
      "Requirement already satisfied: jupyterlab-server<3,>=2.22.1 in /opt/conda/lib/python3.10/site-packages (from notebook->jupyter==1.0.0->-r ../requirements.txt (line 5)) (2.25.2)\n",
      "Requirement already satisfied: jupyterlab<5,>=4.0.2 in /opt/conda/lib/python3.10/site-packages (from notebook->jupyter==1.0.0->-r ../requirements.txt (line 5)) (4.0.9)\n",
      "Requirement already satisfied: notebook-shim<0.3,>=0.2 in /opt/conda/lib/python3.10/site-packages (from notebook->jupyter==1.0.0->-r ../requirements.txt (line 5)) (0.2.3)\n"
     ]
    },
    {
     "name": "stderr",
     "output_type": "stream",
     "text": [
      "socket.send() raised exception.\n",
      "socket.send() raised exception.\n"
     ]
    },
    {
     "name": "stdout",
     "output_type": "stream",
     "text": [
      "Requirement already satisfied: qtpy>=2.4.0 in /opt/conda/lib/python3.10/site-packages (from qtconsole->jupyter==1.0.0->-r ../requirements.txt (line 5)) (2.4.1)\n",
      "Requirement already satisfied: executing in /opt/conda/lib/python3.10/site-packages (from stack-data->ipython==8.15.0->-r ../requirements.txt (line 3)) (0.8.3)\n",
      "Requirement already satisfied: asttokens in /opt/conda/lib/python3.10/site-packages (from stack-data->ipython==8.15.0->-r ../requirements.txt (line 3)) (2.0.5)\n",
      "Requirement already satisfied: pure-eval in /opt/conda/lib/python3.10/site-packages (from stack-data->ipython==8.15.0->-r ../requirements.txt (line 3)) (0.2.2)\n"
     ]
    },
    {
     "name": "stderr",
     "output_type": "stream",
     "text": [
      "socket.send() raised exception.\n",
      "socket.send() raised exception.\n",
      "socket.send() raised exception.\n",
      "socket.send() raised exception.\n",
      "socket.send() raised exception.\n",
      "socket.send() raised exception.\n"
     ]
    },
    {
     "name": "stdout",
     "output_type": "stream",
     "text": [
      "Requirement already satisfied: webencodings in /opt/conda/lib/python3.10/site-packages (from bleach!=5.0.0->nbconvert->jupyter==1.0.0->-r ../requirements.txt (line 5)) (0.5.1)\n",
      "Requirement already satisfied: smmap<6,>=3.0.1 in /opt/conda/lib/python3.10/site-packages (from gitdb<5,>=4.0.1->gitpython!=3.1.29,>=1.0.0->wandb->-r ../requirements.txt (line 15)) (5.0.2)\n"
     ]
    },
    {
     "name": "stderr",
     "output_type": "stream",
     "text": [
      "socket.send() raised exception.\n",
      "socket.send() raised exception.\n",
      "socket.send() raised exception.\n",
      "socket.send() raised exception.\n"
     ]
    },
    {
     "name": "stdout",
     "output_type": "stream",
     "text": [
      "Requirement already satisfied: anyio>=3.1.0 in /opt/conda/lib/python3.10/site-packages (from jupyter-server<3,>=2.4.0->notebook->jupyter==1.0.0->-r ../requirements.txt (line 5)) (4.1.0)\n",
      "Requirement already satisfied: argon2-cffi in /opt/conda/lib/python3.10/site-packages (from jupyter-server<3,>=2.4.0->notebook->jupyter==1.0.0->-r ../requirements.txt (line 5)) (23.1.0)\n",
      "Requirement already satisfied: jupyter-events>=0.9.0 in /opt/conda/lib/python3.10/site-packages (from jupyter-server<3,>=2.4.0->notebook->jupyter==1.0.0->-r ../requirements.txt (line 5)) (0.9.0)\n",
      "Requirement already satisfied: jupyter-server-terminals in /opt/conda/lib/python3.10/site-packages (from jupyter-server<3,>=2.4.0->notebook->jupyter==1.0.0->-r ../requirements.txt (line 5)) (0.5.0)\n",
      "Requirement already satisfied: overrides in /opt/conda/lib/python3.10/site-packages (from jupyter-server<3,>=2.4.0->notebook->jupyter==1.0.0->-r ../requirements.txt (line 5)) (7.4.0)\n",
      "Requirement already satisfied: prometheus-client in /opt/conda/lib/python3.10/site-packages (from jupyter-server<3,>=2.4.0->notebook->jupyter==1.0.0->-r ../requirements.txt (line 5)) (0.19.0)\n",
      "Requirement already satisfied: send2trash>=1.8.2 in /opt/conda/lib/python3.10/site-packages (from jupyter-server<3,>=2.4.0->notebook->jupyter==1.0.0->-r ../requirements.txt (line 5)) (1.8.2)\n"
     ]
    },
    {
     "name": "stderr",
     "output_type": "stream",
     "text": [
      "socket.send() raised exception.\n",
      "socket.send() raised exception.\n",
      "socket.send() raised exception.\n",
      "socket.send() raised exception.\n",
      "socket.send() raised exception.\n"
     ]
    },
    {
     "name": "stdout",
     "output_type": "stream",
     "text": [
      "Requirement already satisfied: terminado>=0.8.3 in /opt/conda/lib/python3.10/site-packages (from jupyter-server<3,>=2.4.0->notebook->jupyter==1.0.0->-r ../requirements.txt (line 5)) (0.18.0)\n",
      "Requirement already satisfied: websocket-client in /opt/conda/lib/python3.10/site-packages (from jupyter-server<3,>=2.4.0->notebook->jupyter==1.0.0->-r ../requirements.txt (line 5)) (1.7.0)\n",
      "Requirement already satisfied: async-lru>=1.0.0 in /opt/conda/lib/python3.10/site-packages (from jupyterlab<5,>=4.0.2->notebook->jupyter==1.0.0->-r ../requirements.txt (line 5)) (2.0.4)\n",
      "Requirement already satisfied: jupyter-lsp>=2.0.0 in /opt/conda/lib/python3.10/site-packages (from jupyterlab<5,>=4.0.2->notebook->jupyter==1.0.0->-r ../requirements.txt (line 5)) (2.2.1)\n"
     ]
    },
    {
     "name": "stderr",
     "output_type": "stream",
     "text": [
      "socket.send() raised exception.\n",
      "socket.send() raised exception.\n",
      "socket.send() raised exception.\n"
     ]
    },
    {
     "name": "stdout",
     "output_type": "stream",
     "text": [
      "Requirement already satisfied: babel>=2.10 in /opt/conda/lib/python3.10/site-packages (from jupyterlab-server<3,>=2.22.1->notebook->jupyter==1.0.0->-r ../requirements.txt (line 5)) (2.13.1)\n",
      "Requirement already satisfied: json5>=0.9.0 in /opt/conda/lib/python3.10/site-packages (from jupyterlab-server<3,>=2.22.1->notebook->jupyter==1.0.0->-r ../requirements.txt (line 5)) (0.9.14)\n",
      "Requirement already satisfied: jsonschema>=4.18.0 in /opt/conda/lib/python3.10/site-packages (from jupyterlab-server<3,>=2.22.1->notebook->jupyter==1.0.0->-r ../requirements.txt (line 5)) (4.20.0)\n",
      "Requirement already satisfied: fastjsonschema in /opt/conda/lib/python3.10/site-packages (from nbformat>=5.7->nbconvert->jupyter==1.0.0->-r ../requirements.txt (line 5)) (2.19.0)\n"
     ]
    },
    {
     "name": "stderr",
     "output_type": "stream",
     "text": [
      "socket.send() raised exception.\n",
      "socket.send() raised exception.\n",
      "socket.send() raised exception.\n",
      "socket.send() raised exception.\n",
      "socket.send() raised exception.\n",
      "socket.send() raised exception.\n",
      "socket.send() raised exception.\n",
      "socket.send() raised exception.\n",
      "socket.send() raised exception.\n"
     ]
    },
    {
     "name": "stdout",
     "output_type": "stream",
     "text": [
      "Requirement already satisfied: joblib>=1.1.1 in /opt/conda/lib/python3.10/site-packages (from scikit-learn>=0.19.1->qudida>=0.0.4->albumentations==1.3.1->-r ../requirements.txt (line 1)) (1.3.2)\n",
      "Requirement already satisfied: threadpoolctl>=2.0.0 in /opt/conda/lib/python3.10/site-packages (from scikit-learn>=0.19.1->qudida>=0.0.4->albumentations==1.3.1->-r ../requirements.txt (line 1)) (3.2.0)\n"
     ]
    },
    {
     "name": "stderr",
     "output_type": "stream",
     "text": [
      "socket.send() raised exception.\n",
      "socket.send() raised exception.\n",
      "socket.send() raised exception.\n"
     ]
    },
    {
     "name": "stdout",
     "output_type": "stream",
     "text": [
      "Requirement already satisfied: soupsieve>1.2 in /opt/conda/lib/python3.10/site-packages (from beautifulsoup4->nbconvert->jupyter==1.0.0->-r ../requirements.txt (line 5)) (2.5)\n"
     ]
    },
    {
     "name": "stderr",
     "output_type": "stream",
     "text": [
      "socket.send() raised exception.\n",
      "socket.send() raised exception.\n",
      "socket.send() raised exception.\n",
      "socket.send() raised exception.\n",
      "socket.send() raised exception.\n",
      "socket.send() raised exception.\n"
     ]
    },
    {
     "name": "stdout",
     "output_type": "stream",
     "text": [
      "Requirement already satisfied: mpmath>=0.19 in /opt/conda/lib/python3.10/site-packages (from sympy->torch>=1.7->timm==0.9.12->-r ../requirements.txt (line 11)) (1.3.0)\n"
     ]
    },
    {
     "name": "stderr",
     "output_type": "stream",
     "text": [
      "socket.send() raised exception.\n",
      "socket.send() raised exception.\n",
      "socket.send() raised exception.\n",
      "socket.send() raised exception.\n"
     ]
    },
    {
     "name": "stdout",
     "output_type": "stream",
     "text": [
      "Requirement already satisfied: sniffio>=1.1 in /opt/conda/lib/python3.10/site-packages (from anyio>=3.1.0->jupyter-server<3,>=2.4.0->notebook->jupyter==1.0.0->-r ../requirements.txt (line 5)) (1.3.0)\n"
     ]
    },
    {
     "name": "stderr",
     "output_type": "stream",
     "text": [
      "socket.send() raised exception.\n",
      "socket.send() raised exception.\n",
      "socket.send() raised exception.\n",
      "socket.send() raised exception.\n"
     ]
    },
    {
     "name": "stdout",
     "output_type": "stream",
     "text": [
      "Requirement already satisfied: attrs>=22.2.0 in /opt/conda/lib/python3.10/site-packages (from jsonschema>=4.18.0->jupyterlab-server<3,>=2.22.1->notebook->jupyter==1.0.0->-r ../requirements.txt (line 5)) (23.1.0)\n",
      "Requirement already satisfied: jsonschema-specifications>=2023.03.6 in /opt/conda/lib/python3.10/site-packages (from jsonschema>=4.18.0->jupyterlab-server<3,>=2.22.1->notebook->jupyter==1.0.0->-r ../requirements.txt (line 5)) (2023.11.2)\n",
      "Requirement already satisfied: referencing>=0.28.4 in /opt/conda/lib/python3.10/site-packages (from jsonschema>=4.18.0->jupyterlab-server<3,>=2.22.1->notebook->jupyter==1.0.0->-r ../requirements.txt (line 5)) (0.32.0)\n",
      "Requirement already satisfied: rpds-py>=0.7.1 in /opt/conda/lib/python3.10/site-packages (from jsonschema>=4.18.0->jupyterlab-server<3,>=2.22.1->notebook->jupyter==1.0.0->-r ../requirements.txt (line 5)) (0.13.2)\n",
      "Requirement already satisfied: python-json-logger>=2.0.4 in /opt/conda/lib/python3.10/site-packages (from jupyter-events>=0.9.0->jupyter-server<3,>=2.4.0->notebook->jupyter==1.0.0->-r ../requirements.txt (line 5)) (2.0.7)\n",
      "Requirement already satisfied: rfc3339-validator in /opt/conda/lib/python3.10/site-packages (from jupyter-events>=0.9.0->jupyter-server<3,>=2.4.0->notebook->jupyter==1.0.0->-r ../requirements.txt (line 5)) (0.1.4)\n",
      "Requirement already satisfied: rfc3986-validator>=0.1.1 in /opt/conda/lib/python3.10/site-packages (from jupyter-events>=0.9.0->jupyter-server<3,>=2.4.0->notebook->jupyter==1.0.0->-r ../requirements.txt (line 5)) (0.1.1)\n"
     ]
    },
    {
     "name": "stderr",
     "output_type": "stream",
     "text": [
      "socket.send() raised exception.\n",
      "socket.send() raised exception.\n",
      "socket.send() raised exception.\n",
      "socket.send() raised exception.\n",
      "socket.send() raised exception.\n",
      "socket.send() raised exception.\n",
      "socket.send() raised exception.\n",
      "socket.send() raised exception.\n"
     ]
    },
    {
     "name": "stdout",
     "output_type": "stream",
     "text": [
      "Requirement already satisfied: argon2-cffi-bindings in /opt/conda/lib/python3.10/site-packages (from argon2-cffi->jupyter-server<3,>=2.4.0->notebook->jupyter==1.0.0->-r ../requirements.txt (line 5)) (21.2.0)\n",
      "Requirement already satisfied: fqdn in /opt/conda/lib/python3.10/site-packages (from jsonschema>=4.18.0->jupyterlab-server<3,>=2.22.1->notebook->jupyter==1.0.0->-r ../requirements.txt (line 5)) (1.5.1)\n",
      "Requirement already satisfied: isoduration in /opt/conda/lib/python3.10/site-packages (from jsonschema>=4.18.0->jupyterlab-server<3,>=2.22.1->notebook->jupyter==1.0.0->-r ../requirements.txt (line 5)) (20.11.0)\n",
      "Requirement already satisfied: jsonpointer>1.13 in /opt/conda/lib/python3.10/site-packages (from jsonschema>=4.18.0->jupyterlab-server<3,>=2.22.1->notebook->jupyter==1.0.0->-r ../requirements.txt (line 5)) (2.1)\n",
      "Requirement already satisfied: uri-template in /opt/conda/lib/python3.10/site-packages (from jsonschema>=4.18.0->jupyterlab-server<3,>=2.22.1->notebook->jupyter==1.0.0->-r ../requirements.txt (line 5)) (1.3.0)\n",
      "Requirement already satisfied: webcolors>=1.11 in /opt/conda/lib/python3.10/site-packages (from jsonschema>=4.18.0->jupyterlab-server<3,>=2.22.1->notebook->jupyter==1.0.0->-r ../requirements.txt (line 5)) (1.13)\n",
      "Requirement already satisfied: cffi>=1.0.1 in /opt/conda/lib/python3.10/site-packages (from argon2-cffi-bindings->argon2-cffi->jupyter-server<3,>=2.4.0->notebook->jupyter==1.0.0->-r ../requirements.txt (line 5)) (1.15.1)\n",
      "Requirement already satisfied: pycparser in /opt/conda/lib/python3.10/site-packages (from cffi>=1.0.1->argon2-cffi-bindings->argon2-cffi->jupyter-server<3,>=2.4.0->notebook->jupyter==1.0.0->-r ../requirements.txt (line 5)) (2.21)\n"
     ]
    },
    {
     "name": "stderr",
     "output_type": "stream",
     "text": [
      "socket.send() raised exception.\n",
      "socket.send() raised exception.\n",
      "socket.send() raised exception.\n",
      "socket.send() raised exception.\n",
      "socket.send() raised exception.\n",
      "socket.send() raised exception.\n"
     ]
    },
    {
     "name": "stdout",
     "output_type": "stream",
     "text": [
      "Requirement already satisfied: arrow>=0.15.0 in /opt/conda/lib/python3.10/site-packages (from isoduration->jsonschema>=4.18.0->jupyterlab-server<3,>=2.22.1->notebook->jupyter==1.0.0->-r ../requirements.txt (line 5)) (1.3.0)\n"
     ]
    },
    {
     "name": "stderr",
     "output_type": "stream",
     "text": [
      "socket.send() raised exception.\n",
      "socket.send() raised exception.\n",
      "socket.send() raised exception.\n",
      "socket.send() raised exception.\n"
     ]
    },
    {
     "name": "stdout",
     "output_type": "stream",
     "text": [
      "Requirement already satisfied: types-python-dateutil>=2.8.10 in /opt/conda/lib/python3.10/site-packages (from arrow>=0.15.0->isoduration->jsonschema>=4.18.0->jupyterlab-server<3,>=2.22.1->notebook->jupyter==1.0.0->-r ../requirements.txt (line 5)) (2.8.19.14)\n"
     ]
    },
    {
     "name": "stderr",
     "output_type": "stream",
     "text": [
      "socket.send() raised exception.\n",
      "socket.send() raised exception.\n",
      "socket.send() raised exception.\n",
      "socket.send() raised exception.\n",
      "socket.send() raised exception.\n",
      "socket.send() raised exception.\n",
      "socket.send() raised exception.\n",
      "socket.send() raised exception.\n",
      "socket.send() raised exception.\n",
      "socket.send() raised exception.\n",
      "socket.send() raised exception.\n",
      "socket.send() raised exception.\n",
      "socket.send() raised exception.\n",
      "socket.send() raised exception.\n"
     ]
    },
    {
     "name": "stdout",
     "output_type": "stream",
     "text": [
      "\u001b[33mWARNING: Running pip as the 'root' user can result in broken permissions and conflicting behaviour with the system package manager. It is recommended to use a virtual environment instead: https://pip.pypa.io/warnings/venv\u001b[0m\u001b[33m\n",
      "\u001b[0m"
     ]
    },
    {
     "name": "stderr",
     "output_type": "stream",
     "text": [
      "socket.send() raised exception.\n",
      "socket.send() raised exception.\n",
      "socket.send() raised exception.\n",
      "socket.send() raised exception.\n",
      "socket.send() raised exception.\n",
      "socket.send() raised exception.\n",
      "socket.send() raised exception.\n",
      "socket.send() raised exception.\n",
      "socket.send() raised exception.\n",
      "socket.send() raised exception.\n",
      "socket.send() raised exception.\n",
      "socket.send() raised exception.\n"
     ]
    },
    {
     "name": "stderr",
     "output_type": "stream",
     "text": [
      "socket.send() raised exception.\n",
      "socket.send() raised exception.\n"
     ]
    }
   ],
   "source": [
    "\n",
    "# =============================================================================\n",
    "# 0. Prepare Environments & Install Libraries\n",
    "# =============================================================================\n",
    "\n",
    "# 필요한 라이브러리를 설치합니다.\n",
    "!pip install -r ../requirements.txt"
   ]
  },
  {
   "cell_type": "code",
   "execution_count": 15,
   "id": "2a366485",
   "metadata": {},
   "outputs": [
    {
     "name": "stderr",
     "output_type": "stream",
     "text": [
      "socket.send() raised exception.\n",
      "socket.send() raised exception.\n"
     ]
    },
    {
     "name": "stdout",
     "output_type": "stream",
     "text": [
      "메모리 정리 완료\n"
     ]
    },
    {
     "name": "stderr",
     "output_type": "stream",
     "text": [
      "socket.send() raised exception.\n",
      "socket.send() raised exception.\n"
     ]
    }
   ],
   "source": [
    "# 현재 노트북에서 바로 실행하세요\n",
    "import torch\n",
    "import gc\n",
    "\n",
    "def quick_cleanup():\n",
    "    \"\"\"즉시 사용 가능한 빠른 메모리 정리\"\"\"\n",
    "    gc.collect()\n",
    "    if torch.cuda.is_available():\n",
    "        torch.cuda.empty_cache()\n",
    "        torch.cuda.synchronize()\n",
    "    print(\"메모리 정리 완료\")\n",
    "\n",
    "# 바로 실행\n",
    "quick_cleanup()"
   ]
  },
  {
   "cell_type": "code",
   "execution_count": 16,
   "id": "773408ea",
   "metadata": {},
   "outputs": [
    {
     "name": "stderr",
     "output_type": "stream",
     "text": [
      "socket.send() raised exception.\n",
      "socket.send() raised exception.\n"
     ]
    },
    {
     "name": "stderr",
     "output_type": "stream",
     "text": [
      "socket.send() raised exception.\n",
      "socket.send() raised exception.\n"
     ]
    }
   ],
   "source": [
    "# =============================================================================\n",
    "# 1. Import Libraries & Define Functions\n",
    "# =============================================================================\n",
    "\n",
    "import os\n",
    "import time\n",
    "import random\n",
    "import copy\n",
    "\n",
    "import optuna, math\n",
    "import timm\n",
    "import torch\n",
    "import albumentations as A\n",
    "import pandas as pd\n",
    "import numpy as np\n",
    "import torch.nn as nn\n",
    "import torch.nn.functional as F\n",
    "from albumentations.pytorch import ToTensorV2\n",
    "from torch.optim import Adam\n",
    "from torchvision import transforms\n",
    "from torch.utils.data import Dataset, DataLoader\n",
    "from torch.optim.lr_scheduler import CosineAnnealingLR\n",
    "from torch.cuda.amp import autocast, GradScaler  # Mixed Precision용\n",
    "\n",
    "from PIL import Image\n",
    "from tqdm import tqdm\n",
    "from sklearn.metrics import accuracy_score, f1_score, confusion_matrix, classification_report\n",
    "from sklearn.model_selection import train_test_split, StratifiedKFold\n",
    "from collections import Counter\n",
    "import warnings\n",
    "warnings.filterwarnings('ignore')\n",
    "\n",
    "# WandB 관련 import 추가\n",
    "import wandb\n",
    "from datetime import datetime\n"
   ]
  },
  {
   "cell_type": "code",
   "execution_count": 17,
   "id": "3e142354",
   "metadata": {},
   "outputs": [
    {
     "name": "stderr",
     "output_type": "stream",
     "text": [
      "socket.send() raised exception.\n",
      "socket.send() raised exception.\n",
      "socket.send() raised exception.\n",
      "socket.send() raised exception.\n",
      "socket.send() raised exception.\n",
      "socket.send() raised exception.\n",
      "socket.send() raised exception.\n",
      "socket.send() raised exception.\n",
      "socket.send() raised exception.\n",
      "socket.send() raised exception.\n",
      "socket.send() raised exception.\n",
      "socket.send() raised exception.\n",
      "socket.send() raised exception.\n",
      "socket.send() raised exception.\n",
      "socket.send() raised exception.\n",
      "socket.send() raised exception.\n",
      "socket.send() raised exception.\n",
      "socket.send() raised exception.\n",
      "socket.send() raised exception.\n",
      "socket.send() raised exception.\n",
      "socket.send() raised exception.\n",
      "socket.send() raised exception.\n",
      "socket.send() raised exception.\n",
      "socket.send() raised exception.\n"
     ]
    },
    {
     "name": "stdout",
     "output_type": "stream",
     "text": [
      "WandB 로그인 상태: kimsunmin0227\n",
      "프로젝트: document-classification-team-CV\n",
      "실험명: efficientnet-b3-baseline\n",
      "팀원들은 EXPERIMENT_NAME을 각자 다르게 변경해주세요!\n"
     ]
    },
    {
     "name": "stderr",
     "output_type": "stream",
     "text": [
      "socket.send() raised exception.\n",
      "socket.send() raised exception.\n"
     ]
    }
   ],
   "source": [
    "# =============================================================================\n",
    "# 1-1. WandB Login and Configuration\n",
    "# =============================================================================\n",
    "\"\"\"\n",
    "🚀 팀원 사용 가이드:\n",
    "\n",
    "1. WandB 계정 생성: https://wandb.ai/signup\n",
    "2. 이 셀 실행 시 로그인 프롬프트가 나타나면 개인 API 키 입력\n",
    "3. EXPERIMENT_NAME을 다음과 같이 변경:\n",
    "   - \"member1-baseline\"\n",
    "   - \"member2-augmentation-test\"  \n",
    "   - \"member3-hyperparameter-tuning\"\n",
    "   등등 각자 다른 이름 사용\n",
    "\n",
    "4. 팀 대시보드 URL: [여기에 당신의 프로젝트 URL 추가]\n",
    "\n",
    "⚠️ 주의사항:\n",
    "- 절대 API 키를 코드에 하드코딩하지 마세요\n",
    "- EXPERIMENT_NAME만 변경하고 PROJECT_NAME은 그대로 두세요\n",
    "- 각자 개인 계정으로 로그인해서 실험을 추가하세요\n",
    "\"\"\"\n",
    "\n",
    "# WandB 로그인 (각자 실행)\n",
    "try:\n",
    "    if wandb.api.api_key is None:\n",
    "        print(\"WandB에 로그인이 필요합니다.\")\n",
    "        wandb.login()\n",
    "    else:\n",
    "        print(f\"WandB 로그인 상태: {wandb.api.viewer()['username']}\")\n",
    "except:\n",
    "    print(\"WandB 로그인을 진행합니다...\")\n",
    "    wandb.login()\n",
    "\n",
    "# 프로젝트 설정 (각자 수정할 부분)\n",
    "PROJECT_NAME = \"document-classification-team-CV\"  # 모든 팀원 동일\n",
    "ENTITY = None  # 각자 개인 계정 사용\n",
    "EXPERIMENT_NAME = \"efficientnet-b3-baseline\"  # 팀원별로 변경 (예: \"member1-hyperopt\", \"member2-augmentation\")\n",
    "\n",
    "print(f\"프로젝트: {PROJECT_NAME}\")\n",
    "print(f\"실험명: {EXPERIMENT_NAME}\")\n",
    "print(\"팀원들은 EXPERIMENT_NAME을 각자 다르게 변경해주세요!\")"
   ]
  },
  {
   "cell_type": "code",
   "execution_count": 18,
   "id": "448a2f52",
   "metadata": {},
   "outputs": [
    {
     "name": "stderr",
     "output_type": "stream",
     "text": [
      "socket.send() raised exception.\n",
      "socket.send() raised exception.\n"
     ]
    },
    {
     "name": "stderr",
     "output_type": "stream",
     "text": [
      "socket.send() raised exception.\n",
      "socket.send() raised exception.\n"
     ]
    }
   ],
   "source": [
    "# =============================================================================\n",
    "# 3. Seed & basic augmentations (Mixup)\n",
    "# =============================================================================\n",
    "\n",
    "# 시드를 고정합니다.\n",
    "SEED = 42\n",
    "os.environ['PYTHONHASHSEED'] = str(SEED)\n",
    "random.seed(SEED)\n",
    "np.random.seed(SEED)\n",
    "torch.manual_seed(SEED)\n",
    "torch.cuda.manual_seed(SEED)\n",
    "torch.cuda.manual_seed_all(SEED)\n",
    "torch.backends.cudnn.benchmark = True\n"
   ]
  },
  {
   "cell_type": "code",
   "execution_count": 19,
   "id": "3f9d1a8f",
   "metadata": {},
   "outputs": [
    {
     "name": "stderr",
     "output_type": "stream",
     "text": [
      "socket.send() raised exception.\n",
      "socket.send() raised exception.\n"
     ]
    },
    {
     "name": "stderr",
     "output_type": "stream",
     "text": [
      "socket.send() raised exception.\n",
      "socket.send() raised exception.\n"
     ]
    }
   ],
   "source": [
    "\n",
    "# =============================================================================\n",
    "# 4. Dataset Class\n",
    "# =============================================================================\n",
    "\n",
    "class ImageDataset(Dataset):\n",
    "    def __init__(self, data, path, transform=None, problem_class_transform=None):\n",
    "        # CSV 파일이면 읽고, DataFrame이면 그대로 사용\n",
    "        if isinstance(data, str):\n",
    "            self.df = pd.read_csv(data).values\n",
    "        else:\n",
    "            self.df = data.values  # DataFrame을 numpy array로 변환\n",
    "        self.path = path\n",
    "        self.transform = transform\n",
    "        self.problem_class_transform = problem_class_transform\n",
    "\n",
    "    def __len__(self):\n",
    "        return len(self.df)\n",
    "\n",
    "    def __getitem__(self, idx):\n",
    "        name, target = self.df[idx]\n",
    "        img = np.array(Image.open(os.path.join(self.path, name)))\n",
    "        \n",
    "        # 기본 transform 적용\n",
    "        if self.transform:\n",
    "            img = self.transform(image=img)['image']\n",
    "        \n",
    "        # 문제 클래스에 대해서만 추가 augmentation 적용\n",
    "        if self.problem_class_transform:\n",
    "            \n",
    "            # tensor를 다시 numpy로 변환 (추가 augmentation을 위해)\n",
    "            img_np = img.permute(1, 2, 0).cpu().numpy()\n",
    "            # 정규화 해제\n",
    "            mean = np.array([0.485, 0.456, 0.406])\n",
    "            std = np.array([0.229, 0.224, 0.225])\n",
    "            img_np = (img_np * std + mean) * 255\n",
    "            img_np = np.clip(img_np, 0, 255).astype(np.uint8)\n",
    "            \n",
    "            # 추가 augmentation 적용 (결과는 numpy array, H,W,C 형태)\n",
    "            extra_aug = self.problem_class_transform(image=img_np)['image']\n",
    "            \n",
    "            # numpy array를 torch tensor로 변환하고 차원 순서 변경 (H,W,C → C,H,W)\n",
    "            extra_aug = torch.from_numpy(extra_aug).float()\n",
    "            extra_aug = extra_aug.permute(2, 0, 1)  # (H,W,C) → (C,H,W)로 변경\n",
    "            \n",
    "            # 정규화 적용 (이제 차원이 맞음)\n",
    "            extra_aug = extra_aug / torch.tensor(255.0, dtype=torch.float32)  # float32 스칼라 사용\n",
    "            mean_tensor = torch.tensor(mean, dtype=torch.float32).view(3, 1, 1)\n",
    "            std_tensor = torch.tensor(std, dtype=torch.float32).view(3, 1, 1)\n",
    "            extra_aug = (extra_aug - mean_tensor) / std_tensor\n",
    "            img = extra_aug.float()\n",
    "            \n",
    "        return img, target\n",
    "\n"
   ]
  },
  {
   "cell_type": "code",
   "execution_count": 20,
   "id": "403c7204",
   "metadata": {},
   "outputs": [
    {
     "name": "stderr",
     "output_type": "stream",
     "text": [
      "socket.send() raised exception.\n",
      "socket.send() raised exception.\n"
     ]
    },
    {
     "name": "stderr",
     "output_type": "stream",
     "text": [
      "socket.send() raised exception.\n",
      "socket.send() raised exception.\n"
     ]
    }
   ],
   "source": [
    "# Cutout (Random Erasing) 함수 정의\n",
    "def random_erasing(image, p=0.5, scale=(0.02, 0.33), ratio=(0.3, 3.3)):\n",
    "    if random.random() > p:\n",
    "        return image\n",
    "    img_c, img_h, img_w = image.shape[1], image.shape[2], image.shape[3]\n",
    "    area = img_h * img_w\n",
    "    \n",
    "    target_area = torch.tensor(random.uniform(scale[0], scale[1]), dtype=torch.float32) * area\n",
    "    aspect_ratio = torch.tensor(random.uniform(ratio[0], ratio[1]), dtype=torch.float32)\n",
    "    h = int(round(math.sqrt(target_area * aspect_ratio)))\n",
    "    w = int(round(math.sqrt(target_area / aspect_ratio)))\n",
    "    \n",
    "    # h, w가 이미지 크기 내에 있는지 확인\n",
    "    if w < img_w and h < img_h:\n",
    "        x = random.randint(0, img_w - w)\n",
    "        y = random.randint(0, img_h - h)\n",
    "        \n",
    "        # float32 마스크 생성\n",
    "        mask = torch.ones_like(image, dtype=torch.float32)\n",
    "        mask[:, y:y+h, x:x+w] = 0.0  # 또는 랜덤 값: torch.rand(3, h, w, dtype=torch.float32)\n",
    "        \n",
    "        # erasing 적용\n",
    "        erased = image * mask\n",
    "        return erased.float()  # float32 출력 보장\n",
    "    return image.float()\n",
    "\n",
    "# RandomCrop 함수 정의\n",
    "def random_crop(image, crop_size=0.7):\n",
    "    img_c, img_h, img_w = image.shape[1], image.shape[2], image.shape[3]\n",
    "    crop_h = int(img_h * crop_size)\n",
    "    crop_w = int(img_w * crop_size)\n",
    "    \n",
    "    if crop_h >= img_h or crop_w >= img_w:\n",
    "        return image\n",
    "    \n",
    "    x = random.randint(0, img_w - crop_w)\n",
    "    y = random.randint(0, img_h - crop_h)\n",
    "    cropped_image = image[:, :, y:y+crop_h, x:x+crop_w]\n",
    "    \n",
    "    # 패딩으로 원래 크기 복원\n",
    "    padded_image = torch.zeros_like(image)\n",
    "    padded_image[:, :, y:y+crop_h, x:x+crop_w] = cropped_image\n",
    "    return padded_image\n",
    "\n",
    "# Mixup 함수 정의\n",
    "def mixup_data(x, y, alpha=1.0):\n",
    "    if alpha > 0:\n",
    "        lam = np.random.beta(alpha, alpha)\n",
    "    else:\n",
    "        lam = 1\n",
    "    batch_size = x.size()[0]\n",
    "    index = torch.randperm(batch_size).cuda()\n",
    "    mixed_x = lam * x + (1 - lam) * x[index, :]\n",
    "    y_a, y_b = y, y[index]\n",
    "    return mixed_x, y_a, y_b, lam\n"
   ]
  },
  {
   "cell_type": "code",
   "execution_count": 21,
   "id": "0cacecd0",
   "metadata": {},
   "outputs": [
    {
     "name": "stderr",
     "output_type": "stream",
     "text": [
      "socket.send() raised exception.\n",
      "socket.send() raised exception.\n"
     ]
    },
    {
     "name": "stderr",
     "output_type": "stream",
     "text": [
      "socket.send() raised exception.\n",
      "socket.send() raised exception.\n"
     ]
    }
   ],
   "source": [
    "\n",
    "# =============================================================================\n",
    "# 6. training and validation\n",
    "# =============================================================================\n",
    "\n",
    "def train_one_epoch(loader, model, optimizer, loss_fn, device, epoch=None, fold=None):\n",
    "    scaler = GradScaler()\n",
    "    model.train()\n",
    "    train_loss = 0\n",
    "    preds_list = []\n",
    "    targets_list = []\n",
    "\n",
    "    pbar = tqdm(loader, desc=f\"Training Epoch {epoch+1 if epoch else '?'}\")\n",
    "    batch_count = 0\n",
    "    \n",
    "    for image, targets in pbar:\n",
    "        image = image.to(device).float()\n",
    "        targets = targets.to(device)\n",
    "        \n",
    "         \n",
    "        aug_type = random.choices(['mixup', 'cutout', 'random_crop'], weights=[0.4, 0.3, 0.3])[0]\n",
    "        mixup_applied = False\n",
    "        cutout_applied = False\n",
    "        random_crop_applied = False\n",
    "        \n",
    "        if aug_type == 'mixup':\n",
    "            mixed_x, y_a, y_b, lam = mixup_data(image, targets, alpha=1.0)\n",
    "            with autocast(): \n",
    "                preds = model(mixed_x)\n",
    "            loss = lam * loss_fn(preds.float(), y_a) + (1 - lam) * loss_fn(preds.float(), y_b)\n",
    "            mixup_applied = True\n",
    "       \n",
    "        elif aug_type == 'cutout':\n",
    "            image = random_erasing(image, p=0.5, scale=(0.02, 0.33), ratio=(0.3, 3.3))\n",
    "            with autocast(): \n",
    "                preds = model(image)\n",
    "            loss = loss_fn(preds.float(), targets)  \n",
    "            cutout_applied = True\n",
    "       \n",
    "        elif aug_type == 'random_crop':\n",
    "            image = random_crop(image, crop_size=0.8)\n",
    "            with autocast(): \n",
    "                preds = model(image)\n",
    "            loss = loss_fn(preds.float(), targets)   \n",
    "            random_crop_applied = True\n",
    "       \n",
    "        else:\n",
    "            with autocast(): \n",
    "                preds = model(image)\n",
    "            loss = loss_fn(preds.float(), targets)  \n",
    "\n",
    "        model.zero_grad(set_to_none=True)\n",
    "        \n",
    "        scaler.scale(loss).backward()\n",
    "        torch.nn.utils.clip_grad_norm_(model.parameters(), 1.0)\n",
    "        \n",
    "        scaler.step(optimizer)\n",
    "        \n",
    "        scaler.update()\n",
    "\n",
    "        train_loss += loss.item()\n",
    "        preds_list.extend(preds.argmax(dim=1).detach().cpu().numpy())\n",
    "        targets_list.extend(targets.detach().cpu().numpy())\n",
    "\n",
    "        # 배치별 상세 로깅 (100 배치마다)\n",
    "        #if batch_count % 100 == 0 and wandb.run is not None:\n",
    "        #    step = epoch * len(loader) + batch_count if epoch is not None else batch_count\n",
    "        #    wandb.log({\n",
    "        #        f\"fold_{fold}/train_batch_loss\": loss.item(),\n",
    "        #        f\"fold_{fold}/mixup_applied\": int(mixup_applied),\n",
    "        #        f\"fold_{fold}/cutout_applied\": int(cutout_applied),\n",
    "        #        f\"fold_{fold}/random_crop_applied\": int(random_crop_applied),\n",
    "        #        f\"fold_{fold}/batch_step\": step\n",
    "        #    })\n",
    "        \n",
    "        batch_count += 1\n",
    "        pbar.set_description(f\"Loss: {loss.item():.4f}, Mixup: {mixup_applied}, Cutout: {cutout_applied}, RandomCrop: {random_crop_applied}\")\n",
    "\n",
    "    train_loss /= len(loader)\n",
    "    train_acc = accuracy_score(targets_list, preds_list)\n",
    "    train_f1 = f1_score(targets_list, preds_list, average='macro')\n",
    "\n",
    "    ret = {\n",
    "        \"train_loss\": train_loss,\n",
    "        \"train_acc\": train_acc,\n",
    "        \"train_f1\": train_f1,\n",
    "    }\n",
    "\n",
    "    return ret\n",
    "\n",
    "def validate_one_epoch(loader, model, loss_fn, device, epoch=None, fold=None, log_confusion=False):\n",
    "    model.eval()\n",
    "    val_loss = 0\n",
    "    preds_list = []\n",
    "    targets_list = []\n",
    "    \n",
    "    with torch.no_grad():\n",
    "        pbar = tqdm(loader, desc=f\"Validating Epoch {epoch+1 if epoch else '?'}\")\n",
    "        for image, targets in pbar:\n",
    "            image = image.to(device).float()\n",
    "            targets = targets.to(device)\n",
    "            \n",
    "            preds = model(image)\n",
    "            loss = loss_fn(preds, targets)\n",
    "            \n",
    "            val_loss += loss.item()\n",
    "            preds_list.extend(preds.argmax(dim=1).detach().cpu().numpy())\n",
    "            targets_list.extend(targets.detach().cpu().numpy())\n",
    "            \n",
    "            pbar.set_description(f\"Val Loss: {loss.item():.4f}\")\n",
    "    \n",
    "    val_loss /= len(loader)\n",
    "    val_acc = accuracy_score(targets_list, preds_list)\n",
    "    val_f1 = f1_score(targets_list, preds_list, average='macro')\n",
    "    \n",
    "    # 🎯 문제 클래스들의 성능 별도 계산 및 추적\n",
    "    target_classes = [3, 7, 14]\n",
    "    \n",
    "    # 전체 클래스별 F1 스코어 계산\n",
    "    class_f1_scores = f1_score(targets_list, preds_list, average=None, labels=list(range(17)), zero_division=0)\n",
    "    \n",
    "    # 문제 클래스들의 F1 스코어 추출\n",
    "    problem_class_f1 = {}\n",
    "    problem_class_performance = []\n",
    "    \n",
    "    for cls in target_classes:\n",
    "        if cls < len(class_f1_scores):\n",
    "            cls_f1 = class_f1_scores[cls]\n",
    "            problem_class_f1[f\"class_{cls}_f1\"] = cls_f1\n",
    "            problem_class_performance.append(cls_f1)\n",
    "            \n",
    "            # 콘솔에 출력\n",
    "            print(f\"  Class {cls} F1: {cls_f1:.4f}\")\n",
    "    \n",
    "    # 문제 클래스들의 평균 F1 계산\n",
    "    avg_problem_f1 = np.mean(problem_class_performance) if problem_class_performance else 0.0\n",
    "    print(f\"  Problem Classes Avg F1: {avg_problem_f1:.4f}\")\n",
    "    \n",
    "    # WandB 로깅 (문제 클래스 성능)\n",
    "    if wandb.run is not None:\n",
    "        log_dict = {\n",
    "            f\"fold_{fold}/val_loss\": val_loss,\n",
    "            f\"fold_{fold}/val_acc\": val_acc,\n",
    "            f\"fold_{fold}/val_f1\": val_f1,\n",
    "            f\"fold_{fold}/problem_classes_avg_f1\": avg_problem_f1,\n",
    "        }\n",
    "        \n",
    "        # 각 문제 클래스별 F1 스코어 로깅\n",
    "        for cls in target_classes:\n",
    "            if cls < len(class_f1_scores):\n",
    "                log_dict[f\"fold_{fold}/class_{cls}_f1\"] = class_f1_scores[cls]\n",
    "        \n",
    "        wandb.log(log_dict)\n",
    "    \n",
    "    # Confusion Matrix 로깅 (마지막 epoch에만)\n",
    "    if log_confusion and wandb.run is not None:\n",
    "        try:\n",
    "            wandb.log({\n",
    "                f\"fold_{fold}/confusion_matrix\": wandb.plot.confusion_matrix(\n",
    "                    probs=None,\n",
    "                    y_true=targets_list,\n",
    "                    preds=preds_list,\n",
    "                    class_names=[f\"Class_{i}\" for i in range(17)]\n",
    "                )\n",
    "            })\n",
    "            \n",
    "            # 전체 클래스별 F1 스코어 로깅\n",
    "            for i, class_f1 in enumerate(class_f1_scores):\n",
    "                wandb.log({f\"fold_{fold}/all_class_{i}_f1\": class_f1})\n",
    "                \n",
    "        except Exception as e:\n",
    "            print(f\" Confusion matrix 로깅 실패: {e}\")\n",
    "    \n",
    "    ret = {\n",
    "        \"val_loss\": val_loss,\n",
    "        \"val_acc\": val_acc,  \n",
    "        \"val_f1\": val_f1,\n",
    "        \"problem_class_f1\": problem_class_f1,  # 문제 클래스 F1 스코어 추가\n",
    "        \"avg_problem_f1\": avg_problem_f1,      # 문제 클래스 평균 F1 추가\n",
    "    }\n",
    "    \n",
    "    return ret"
   ]
  },
  {
   "cell_type": "code",
   "execution_count": 22,
   "id": "193dae06",
   "metadata": {},
   "outputs": [
    {
     "name": "stderr",
     "output_type": "stream",
     "text": [
      "socket.send() raised exception.\n"
     ]
    },
    {
     "name": "stdout",
     "output_type": "stream",
     "text": [
      " Using device: cuda\n",
      " 하이퍼파라미터 설정 완료!\n",
      " 모델: efficientnet_b3\n",
      " 이미지 크기: 442x442\n",
      " 배치 크기: 10\n",
      " 학습률: 0.0003\n",
      " 에폭: 100\n"
     ]
    },
    {
     "name": "stderr",
     "output_type": "stream",
     "text": [
      "socket.send() raised exception.\n",
      "socket.send() raised exception.\n",
      "socket.send() raised exception.\n"
     ]
    },
    {
     "name": "stderr",
     "output_type": "stream",
     "text": [
      "socket.send() raised exception.\n",
      "socket.send() raised exception.\n"
     ]
    }
   ],
   "source": [
    "# =============================================================================\n",
    "# 7. Hyper-parameters with WandB Config\n",
    "# =============================================================================\n",
    "\n",
    "# device\n",
    "device = torch.device('cuda' if torch.cuda.is_available() else 'cpu')\n",
    "print(f\" Using device: {device}\")\n",
    "\n",
    "# data config\n",
    "data_path = '../data/'\n",
    "\n",
    "# model config\n",
    "model_name = 'efficientnet_b3' # 'resnet50' 'efficientnet-b0', ...\n",
    "\n",
    "# training config\n",
    "img_size = 442\n",
    "LR = 3e-4\n",
    "EPOCHS = 100\n",
    "BATCH_SIZE = 10\n",
    "num_workers = 15\n",
    "\n",
    "# K-Fold config\n",
    "N_FOLDS = 3  # 5-fold로 설정\n",
    "\n",
    "# WandB Config 설정\n",
    "config = {\n",
    "    # Model config\n",
    "    \"model_name\": model_name,\n",
    "    \"img_size\": img_size,\n",
    "    \"num_classes\": 17,\n",
    "    \"architecture\": \"EfficientNet-B3\",\n",
    "    \n",
    "    # Training config  \n",
    "    \"lr\": LR,\n",
    "    \"epochs\": EPOCHS,\n",
    "    \"batch_size\": BATCH_SIZE,\n",
    "    \"num_workers\": num_workers,\n",
    "    \"device\": str(device),\n",
    "    \n",
    "    # K-Fold config\n",
    "    \"n_folds\": N_FOLDS,\n",
    "    \"seed\": SEED,\n",
    "    \"cv_strategy\": \"StratifiedKFold\",\n",
    "    \n",
    "    # Augmentation & Training techniques\n",
    "    \"mixup_alpha\": 1.0,\n",
    "    \"mixup_prob\": 0.3,\n",
    "    \"label_smoothing\": 0.2,\n",
    "    \"gradient_clipping\": 1.0,\n",
    "    \"mixed_precision\": True,\n",
    "    \n",
    "    # Optimizer & Scheduler\n",
    "    \"optimizer\": \"Adam\",\n",
    "    \"scheduler\": \"CosineAnnealingLR\",\n",
    "    \n",
    "    # Data\n",
    "    \"data_path\": data_path,\n",
    "    \"train_transforms\": \"Advanced\",\n",
    "    \"test_transforms\": \"Basic\",\n",
    "}\n",
    "\n",
    "print(\" 하이퍼파라미터 설정 완료!\")\n",
    "print(f\" 모델: {model_name}\")\n",
    "print(f\" 이미지 크기: {img_size}x{img_size}\")\n",
    "print(f\" 배치 크기: {BATCH_SIZE}\")\n",
    "print(f\" 학습률: {LR}\")\n",
    "print(f\" 에폭: {EPOCHS}\")\n"
   ]
  },
  {
   "cell_type": "code",
   "execution_count": 23,
   "id": "36e4bab2",
   "metadata": {},
   "outputs": [
    {
     "name": "stderr",
     "output_type": "stream",
     "text": [
      "socket.send() raised exception.\n",
      "socket.send() raised exception.\n"
     ]
    },
    {
     "name": "stdout",
     "output_type": "stream",
     "text": [
      "✅ 데이터 변환 설정 완료!\n"
     ]
    },
    {
     "name": "stderr",
     "output_type": "stream",
     "text": [
      "socket.send() raised exception.\n",
      "socket.send() raised exception.\n"
     ]
    },
    {
     "name": "stderr",
     "output_type": "stream",
     "text": [
      "socket.send() raised exception.\n",
      "socket.send() raised exception.\n"
     ]
    }
   ],
   "source": [
    "# =============================================================================\n",
    "# 8. Data Transforms\n",
    "# =============================================================================\n",
    "\n",
    "# augmentation을 위한 transform 코드\n",
    "trn_transform = A.Compose([\n",
    "    # 비율 보존 리사이징 (핵심 개선)\n",
    "    A.LongestMaxSize(max_size=img_size),\n",
    "    A.PadIfNeeded(min_height=img_size, min_width=img_size, \n",
    "                  border_mode=0, value=0),\n",
    "    \n",
    "    # 문서 특화 회전 + 미세 회전 추가\n",
    "    A.OneOf([\n",
    "        A.Rotate(limit=[90,90], p=1.0),\n",
    "        A.Rotate(limit=[180,180], p=1.0),\n",
    "        A.Rotate(limit=[270,270], p=1.0),\n",
    "        A.Rotate(limit=(-15, 15), p=1.0),  # 미세 회전 추가\n",
    "        A.Rotate(limit=(-30, 30), p=1.0), \n",
    "    ], p=0.7),\n",
    "    \n",
    "    # 기하학적 변환 강화\n",
    "    A.OneOf([\n",
    "        A.ShiftScaleRotate(shift_limit=0.1, scale_limit=0.2, rotate_limit=5, p=1.0),\n",
    "        A.ElasticTransform(alpha=50, sigma=5, p=1.0),\n",
    "        A.GridDistortion(num_steps=5, distort_limit=0.2, p=1.0),\n",
    "        A.OpticalDistortion(distort_limit=0.2, shift_limit=0.1, p=1.0),\n",
    "    ], p=0.6),\n",
    "    \n",
    "    # 색상 및 조명 변환 강화\n",
    "    A.OneOf([\n",
    "        A.ColorJitter(brightness=0.4, contrast=0.4, saturation=0.3, hue=0.1, p=1.0),\n",
    "        A.RandomBrightnessContrast(brightness_limit=0.4, contrast_limit=0.4, p=1.0),\n",
    "        A.CLAHE(clip_limit=4.0, tile_grid_size=(8, 8), p=1.0),\n",
    "        A.RandomGamma(gamma_limit=(70, 130), p=1.0),\n",
    "    ], p=0.9),\n",
    "    \n",
    "    # 블러 및 노이즈 강화\n",
    "    A.OneOf([\n",
    "        A.MotionBlur(blur_limit=(5, 15), p=1.0),\n",
    "        A.GaussianBlur(blur_limit=(3, 15), p=1.0),\n",
    "        A.MedianBlur(blur_limit=7, p=1.0),\n",
    "        A.Blur(blur_limit=7, p=1.0),\n",
    "    ], p=0.8),\n",
    "    \n",
    "    # 다양한 노이즈 추가\n",
    "    A.OneOf([\n",
    "        A.GaussNoise(var_limit=(10.0, 150.0), p=1.0),\n",
    "        A.ISONoise(color_shift=(0.01, 0.08), intensity=(0.1, 0.8), p=1.0),\n",
    "        A.MultiplicativeNoise(multiplier=(0.9, 1.1), p=1.0),\n",
    "    ], p=0.8),\n",
    "    \n",
    "    # 문서 품질 시뮬레이션 (스캔/복사 효과)\n",
    "    A.OneOf([\n",
    "        A.Downscale(scale_min=0.7, scale_max=0.9, p=1.0),\n",
    "        A.ImageCompression(quality_lower=60, quality_upper=95, p=1.0),\n",
    "        A.Posterize(num_bits=6, p=1.0),\n",
    "    ], p=0.5),\n",
    "    \n",
    "    # 픽셀 레벨 변환\n",
    "    A.OneOf([\n",
    "        A.ChannelShuffle(p=1.0),\n",
    "        A.InvertImg(p=1.0),\n",
    "        A.Solarize(threshold=128, p=1.0),\n",
    "        A.Equalize(p=1.0),\n",
    "    ], p=0.3),\n",
    "    \n",
    "    # 공간 변환\n",
    "    A.OneOf([\n",
    "        A.HorizontalFlip(p=1.0),\n",
    "        A.VerticalFlip(p=1.0),  # 문서에서도 유용할 수 있음\n",
    "        A.Transpose(p=1.0),\n",
    "    ], p=0.6),\n",
    "    \n",
    "    # 조각 제거 (Cutout 계열)\n",
    "    A.OneOf([\n",
    "        A.CoarseDropout(max_holes=8, max_height=32, max_width=32, \n",
    "                       min_holes=1, min_height=8, min_width=8, \n",
    "                       fill_value=0, p=1.0),\n",
    "        A.GridDropout(ratio=0.3, unit_size_min=8, unit_size_max=32, \n",
    "                     holes_number_x=5, holes_number_y=5, p=1.0),\n",
    "    ], p=0.4),\n",
    "    \n",
    "    # 최종 정규화\n",
    "    A.Normalize(mean=[0.485, 0.456, 0.406], std=[0.229, 0.224, 0.225]),\n",
    "    ToTensorV2(),\n",
    "])\n",
    "\n",
    "# 문제 클래스(3, 7, 14) 전용 추가 augmentation\n",
    "problem_class_extra_transform = A.Compose([\n",
    "    # 추가 회전 변형 (더 자주 적용)\n",
    "    A.OneOf([\n",
    "        A.Rotate(limit=(-20, 20), p=1.0),  # 더 넓은 범위\n",
    "        A.Rotate(limit=(-10, 10), p=1.0),\n",
    "    ], p=0.5),  # 50% 확률로 추가 회전\n",
    "    \n",
    "    # 추가 색상 변형\n",
    "    A.OneOf([\n",
    "        A.RandomBrightnessContrast(brightness_limit=0.2, contrast_limit=0.2, p=1.0),\n",
    "        A.HueSaturationValue(hue_shift_limit=10, sat_shift_limit=15, val_shift_limit=10, p=1.0),\n",
    "    ], p=0.4),\n",
    "    \n",
    "    # 추가 스케일 변형\n",
    "    A.OneOf([\n",
    "        A.RandomScale(scale_limit=0.1, p=1.0),\n",
    "        A.ShiftScaleRotate(shift_limit=0.05, scale_limit=0.1, rotate_limit=3, p=1.0),\n",
    "    ], p=0.3),\n",
    "\n",
    "    # 크기를 다시 맞춰주기 (중요!)\n",
    "    A.LongestMaxSize(max_size=img_size),\n",
    "    A.PadIfNeeded(min_height=img_size, min_width=img_size, \n",
    "                  border_mode=0, value=0),\n",
    "])\n",
    "\n",
    "# test image 변환을 위한 transform 코드\n",
    "tst_transform = A.Compose([\n",
    "    A.LongestMaxSize(max_size=img_size),\n",
    "    A.PadIfNeeded(min_height=img_size, min_width=img_size, \n",
    "                  border_mode=0, value=0),\n",
    "    A.Normalize(mean=[0.485, 0.456, 0.406], std=[0.229, 0.224, 0.225]),\n",
    "    ToTensorV2(),\n",
    "])\n",
    "\n",
    "print(\"✅ 데이터 변환 설정 완료!\")"
   ]
  },
  {
   "cell_type": "code",
   "execution_count": null,
   "id": "4f420558",
   "metadata": {},
   "outputs": [
    {
     "name": "stderr",
     "output_type": "stream",
     "text": [
      "socket.send() raised exception.\n",
      "socket.send() raised exception.\n"
     ]
    },
    {
     "name": "stdout",
     "output_type": "stream",
     "text": [
      "기존 WandB 런 종료 중...\n"
     ]
    },
    {
     "name": "stderr",
     "output_type": "stream",
     "text": [
      "socket.send() raised exception.\n",
      "socket.send() raised exception.\n",
      "socket.send() raised exception.\n",
      "socket.send() raised exception.\n",
      "\u001b[34m\u001b[1mwandb\u001b[0m: \u001b[32m\u001b[41mERROR\u001b[0m Problem finishing run\n",
      "socket.send() raised exception.\n",
      "socket.send() raised exception.\n"
     ]
    },
    {
     "name": "stdout",
     "output_type": "stream",
     "text": [
      "기존 런 종료 중 에러 (무시 가능): \n"
     ]
    },
    {
     "name": "stderr",
     "output_type": "stream",
     "text": [
      "socket.send() raised exception.\n",
      "socket.send() raised exception.\n",
      "socket.send() raised exception.\n",
      "socket.send() raised exception.\n",
      "socket.send() raised exception.\n",
      "socket.send() raised exception.\n",
      "socket.send() raised exception.\n",
      "socket.send() raised exception.\n",
      "socket.send() raised exception.\n",
      "socket.send() raised exception.\n",
      "socket.send() raised exception.\n",
      "socket.send() raised exception.\n",
      "socket.send() raised exception.\n",
      "socket.send() raised exception.\n",
      "socket.send() raised exception.\n",
      "socket.send() raised exception.\n",
      "socket.send() raised exception.\n",
      "socket.send() raised exception.\n",
      "socket.send() raised exception.\n",
      "socket.send() raised exception.\n",
      "socket.send() raised exception.\n",
      "socket.send() raised exception.\n",
      "socket.send() raised exception.\n",
      "socket.send() raised exception.\n",
      "socket.send() raised exception.\n",
      "socket.send() raised exception.\n",
      "socket.send() raised exception.\n",
      "socket.send() raised exception.\n",
      "socket.send() raised exception.\n",
      "socket.send() raised exception.\n",
      "socket.send() raised exception.\n",
      "socket.send() raised exception.\n",
      "socket.send() raised exception.\n",
      "socket.send() raised exception.\n",
      "socket.send() raised exception.\n",
      "socket.send() raised exception.\n",
      "socket.send() raised exception.\n",
      "socket.send() raised exception.\n",
      "socket.send() raised exception.\n",
      "socket.send() raised exception.\n",
      "socket.send() raised exception.\n",
      "socket.send() raised exception.\n",
      "socket.send() raised exception.\n",
      "socket.send() raised exception.\n",
      "socket.send() raised exception.\n",
      "socket.send() raised exception.\n",
      "socket.send() raised exception.\n",
      "socket.send() raised exception.\n",
      "socket.send() raised exception.\n",
      "socket.send() raised exception.\n",
      "socket.send() raised exception.\n",
      "socket.send() raised exception.\n",
      "socket.send() raised exception.\n",
      "socket.send() raised exception.\n",
      "socket.send() raised exception.\n",
      "socket.send() raised exception.\n",
      "socket.send() raised exception.\n",
      "socket.send() raised exception.\n",
      "socket.send() raised exception.\n",
      "socket.send() raised exception.\n",
      "socket.send() raised exception.\n",
      "socket.send() raised exception.\n",
      "socket.send() raised exception.\n",
      "socket.send() raised exception.\n",
      "socket.send() raised exception.\n",
      "socket.send() raised exception.\n",
      "socket.send() raised exception.\n",
      "socket.send() raised exception.\n",
      "socket.send() raised exception.\n",
      "socket.send() raised exception.\n",
      "socket.send() raised exception.\n",
      "socket.send() raised exception.\n",
      "socket.send() raised exception.\n",
      "socket.send() raised exception.\n",
      "socket.send() raised exception.\n",
      "socket.send() raised exception.\n",
      "socket.send() raised exception.\n",
      "socket.send() raised exception.\n",
      "socket.send() raised exception.\n",
      "socket.send() raised exception.\n",
      "socket.send() raised exception.\n",
      "socket.send() raised exception.\n",
      "socket.send() raised exception.\n",
      "socket.send() raised exception.\n",
      "socket.send() raised exception.\n",
      "socket.send() raised exception.\n",
      "socket.send() raised exception.\n",
      "socket.send() raised exception.\n",
      "socket.send() raised exception.\n",
      "socket.send() raised exception.\n",
      "socket.send() raised exception.\n",
      "socket.send() raised exception.\n",
      "socket.send() raised exception.\n",
      "socket.send() raised exception.\n",
      "socket.send() raised exception.\n",
      "socket.send() raised exception.\n",
      "socket.send() raised exception.\n",
      "socket.send() raised exception.\n",
      "socket.send() raised exception.\n",
      "socket.send() raised exception.\n",
      "socket.send() raised exception.\n",
      "socket.send() raised exception.\n",
      "socket.send() raised exception.\n",
      "socket.send() raised exception.\n",
      "socket.send() raised exception.\n",
      "socket.send() raised exception.\n",
      "socket.send() raised exception.\n",
      "socket.send() raised exception.\n",
      "socket.send() raised exception.\n",
      "socket.send() raised exception.\n",
      "socket.send() raised exception.\n",
      "socket.send() raised exception.\n",
      "socket.send() raised exception.\n",
      "socket.send() raised exception.\n",
      "socket.send() raised exception.\n",
      "socket.send() raised exception.\n",
      "socket.send() raised exception.\n",
      "socket.send() raised exception.\n",
      "socket.send() raised exception.\n",
      "socket.send() raised exception.\n",
      "socket.send() raised exception.\n",
      "socket.send() raised exception.\n",
      "socket.send() raised exception.\n",
      "socket.send() raised exception.\n",
      "socket.send() raised exception.\n",
      "socket.send() raised exception.\n",
      "socket.send() raised exception.\n",
      "socket.send() raised exception.\n",
      "socket.send() raised exception.\n",
      "socket.send() raised exception.\n",
      "socket.send() raised exception.\n",
      "socket.send() raised exception.\n",
      "socket.send() raised exception.\n",
      "socket.send() raised exception.\n",
      "socket.send() raised exception.\n",
      "socket.send() raised exception.\n",
      "socket.send() raised exception.\n",
      "socket.send() raised exception.\n",
      "socket.send() raised exception.\n",
      "socket.send() raised exception.\n",
      "socket.send() raised exception.\n",
      "socket.send() raised exception.\n",
      "socket.send() raised exception.\n",
      "socket.send() raised exception.\n",
      "socket.send() raised exception.\n",
      "socket.send() raised exception.\n",
      "socket.send() raised exception.\n",
      "socket.send() raised exception.\n",
      "socket.send() raised exception.\n",
      "socket.send() raised exception.\n"
     ]
    },
    {
     "ename": "KeyboardInterrupt",
     "evalue": "",
     "output_type": "error",
     "traceback": [
      "\u001b[0;31m---------------------------------------------------------------------------\u001b[0m",
      "\u001b[0;31mKeyboardInterrupt\u001b[0m                         Traceback (most recent call last)",
      "Cell \u001b[0;32mIn[24], line 18\u001b[0m\n\u001b[1;32m     15\u001b[0m \u001b[38;5;66;03m# 2. WandB 프로세스 정리\u001b[39;00m\n\u001b[1;32m     16\u001b[0m \u001b[38;5;28;01mtry\u001b[39;00m:\n\u001b[1;32m     17\u001b[0m     \u001b[38;5;66;03m# WandB 내부 상태 초기화\u001b[39;00m\n\u001b[0;32m---> 18\u001b[0m     \u001b[43mwandb\u001b[49m\u001b[38;5;241;43m.\u001b[39;49m\u001b[43mteardown\u001b[49m\u001b[43m(\u001b[49m\u001b[43m)\u001b[49m\n\u001b[1;32m     19\u001b[0m     time\u001b[38;5;241m.\u001b[39msleep(\u001b[38;5;241m1\u001b[39m)\n\u001b[1;32m     20\u001b[0m \u001b[38;5;28;01mexcept\u001b[39;00m \u001b[38;5;167;01mException\u001b[39;00m \u001b[38;5;28;01mas\u001b[39;00m e:\n",
      "File \u001b[0;32m/opt/conda/lib/python3.10/contextlib.py:79\u001b[0m, in \u001b[0;36mContextDecorator.__call__.<locals>.inner\u001b[0;34m(*args, **kwds)\u001b[0m\n\u001b[1;32m     76\u001b[0m \u001b[38;5;129m@wraps\u001b[39m(func)\n\u001b[1;32m     77\u001b[0m \u001b[38;5;28;01mdef\u001b[39;00m \u001b[38;5;21minner\u001b[39m(\u001b[38;5;241m*\u001b[39margs, \u001b[38;5;241m*\u001b[39m\u001b[38;5;241m*\u001b[39mkwds):\n\u001b[1;32m     78\u001b[0m     \u001b[38;5;28;01mwith\u001b[39;00m \u001b[38;5;28mself\u001b[39m\u001b[38;5;241m.\u001b[39m_recreate_cm():\n\u001b[0;32m---> 79\u001b[0m         \u001b[38;5;28;01mreturn\u001b[39;00m \u001b[43mfunc\u001b[49m\u001b[43m(\u001b[49m\u001b[38;5;241;43m*\u001b[39;49m\u001b[43margs\u001b[49m\u001b[43m,\u001b[49m\u001b[43m \u001b[49m\u001b[38;5;241;43m*\u001b[39;49m\u001b[38;5;241;43m*\u001b[39;49m\u001b[43mkwds\u001b[49m\u001b[43m)\u001b[49m\n",
      "File \u001b[0;32m/opt/conda/lib/python3.10/site-packages/wandb/sdk/wandb_setup.py:560\u001b[0m, in \u001b[0;36mteardown\u001b[0;34m(exit_code)\u001b[0m\n\u001b[1;32m    557\u001b[0m _singleton \u001b[38;5;241m=\u001b[39m \u001b[38;5;28;01mNone\u001b[39;00m\n\u001b[1;32m    559\u001b[0m \u001b[38;5;28;01mif\u001b[39;00m orig_singleton:\n\u001b[0;32m--> 560\u001b[0m     \u001b[43morig_singleton\u001b[49m\u001b[38;5;241;43m.\u001b[39;49m\u001b[43m_teardown\u001b[49m\u001b[43m(\u001b[49m\u001b[43mexit_code\u001b[49m\u001b[38;5;241;43m=\u001b[39;49m\u001b[43mexit_code\u001b[49m\u001b[43m)\u001b[49m\n",
      "File \u001b[0;32m/opt/conda/lib/python3.10/site-packages/wandb/sdk/wandb_setup.py:389\u001b[0m, in \u001b[0;36m_WandbSetup._teardown\u001b[0;34m(self, exit_code)\u001b[0m\n\u001b[1;32m    386\u001b[0m \u001b[38;5;28;01melse\u001b[39;00m:\n\u001b[1;32m    387\u001b[0m     internal_exit_code \u001b[38;5;241m=\u001b[39m \u001b[38;5;28;01mNone\u001b[39;00m\n\u001b[0;32m--> 389\u001b[0m \u001b[38;5;28;43mself\u001b[39;49m\u001b[38;5;241;43m.\u001b[39;49m\u001b[43m_asyncer\u001b[49m\u001b[38;5;241;43m.\u001b[39;49m\u001b[43mjoin\u001b[49m\u001b[43m(\u001b[49m\u001b[43m)\u001b[49m\n\u001b[1;32m    391\u001b[0m \u001b[38;5;28;01mif\u001b[39;00m internal_exit_code \u001b[38;5;129;01mnot\u001b[39;00m \u001b[38;5;129;01min\u001b[39;00m (\u001b[38;5;28;01mNone\u001b[39;00m, \u001b[38;5;241m0\u001b[39m):\n\u001b[1;32m    392\u001b[0m     sys\u001b[38;5;241m.\u001b[39mexit(internal_exit_code)\n",
      "File \u001b[0;32m/opt/conda/lib/python3.10/site-packages/wandb/sdk/lib/asyncio_manager.py:99\u001b[0m, in \u001b[0;36mAsyncioManager.join\u001b[0;34m(self)\u001b[0m\n\u001b[1;32m     95\u001b[0m     \u001b[38;5;66;03m# Set the done event. The main function will exit once all\u001b[39;00m\n\u001b[1;32m     96\u001b[0m     \u001b[38;5;66;03m# tasks complete.\u001b[39;00m\n\u001b[1;32m     97\u001b[0m     \u001b[38;5;28mself\u001b[39m\u001b[38;5;241m.\u001b[39m_loop\u001b[38;5;241m.\u001b[39mcall_soon_threadsafe(\u001b[38;5;28mself\u001b[39m\u001b[38;5;241m.\u001b[39m_done_event\u001b[38;5;241m.\u001b[39mset)\n\u001b[0;32m---> 99\u001b[0m     \u001b[38;5;28;43mself\u001b[39;49m\u001b[38;5;241;43m.\u001b[39;49m\u001b[43m_thread\u001b[49m\u001b[38;5;241;43m.\u001b[39;49m\u001b[43mjoin\u001b[49m\u001b[43m(\u001b[49m\u001b[43m)\u001b[49m\n\u001b[1;32m    101\u001b[0m \u001b[38;5;28;01mfinally\u001b[39;00m:\n\u001b[1;32m    102\u001b[0m     \u001b[38;5;66;03m# Any of the above may get interrupted by Ctrl+C, in which case we\u001b[39;00m\n\u001b[1;32m    103\u001b[0m     \u001b[38;5;66;03m# should cancel all tasks, since join() can only be called once.\u001b[39;00m\n\u001b[1;32m    104\u001b[0m     \u001b[38;5;66;03m# This only matters if the KeyboardInterrupt is suppressed.\u001b[39;00m\n\u001b[1;32m    105\u001b[0m     \u001b[38;5;28mself\u001b[39m\u001b[38;5;241m.\u001b[39m_runner\u001b[38;5;241m.\u001b[39mcancel()\n",
      "File \u001b[0;32m/opt/conda/lib/python3.10/threading.py:1096\u001b[0m, in \u001b[0;36mThread.join\u001b[0;34m(self, timeout)\u001b[0m\n\u001b[1;32m   1093\u001b[0m     \u001b[38;5;28;01mraise\u001b[39;00m \u001b[38;5;167;01mRuntimeError\u001b[39;00m(\u001b[38;5;124m\"\u001b[39m\u001b[38;5;124mcannot join current thread\u001b[39m\u001b[38;5;124m\"\u001b[39m)\n\u001b[1;32m   1095\u001b[0m \u001b[38;5;28;01mif\u001b[39;00m timeout \u001b[38;5;129;01mis\u001b[39;00m \u001b[38;5;28;01mNone\u001b[39;00m:\n\u001b[0;32m-> 1096\u001b[0m     \u001b[38;5;28;43mself\u001b[39;49m\u001b[38;5;241;43m.\u001b[39;49m\u001b[43m_wait_for_tstate_lock\u001b[49m\u001b[43m(\u001b[49m\u001b[43m)\u001b[49m\n\u001b[1;32m   1097\u001b[0m \u001b[38;5;28;01melse\u001b[39;00m:\n\u001b[1;32m   1098\u001b[0m     \u001b[38;5;66;03m# the behavior of a negative timeout isn't documented, but\u001b[39;00m\n\u001b[1;32m   1099\u001b[0m     \u001b[38;5;66;03m# historically .join(timeout=x) for x<0 has acted as if timeout=0\u001b[39;00m\n\u001b[1;32m   1100\u001b[0m     \u001b[38;5;28mself\u001b[39m\u001b[38;5;241m.\u001b[39m_wait_for_tstate_lock(timeout\u001b[38;5;241m=\u001b[39m\u001b[38;5;28mmax\u001b[39m(timeout, \u001b[38;5;241m0\u001b[39m))\n",
      "File \u001b[0;32m/opt/conda/lib/python3.10/threading.py:1116\u001b[0m, in \u001b[0;36mThread._wait_for_tstate_lock\u001b[0;34m(self, block, timeout)\u001b[0m\n\u001b[1;32m   1113\u001b[0m     \u001b[38;5;28;01mreturn\u001b[39;00m\n\u001b[1;32m   1115\u001b[0m \u001b[38;5;28;01mtry\u001b[39;00m:\n\u001b[0;32m-> 1116\u001b[0m     \u001b[38;5;28;01mif\u001b[39;00m \u001b[43mlock\u001b[49m\u001b[38;5;241;43m.\u001b[39;49m\u001b[43macquire\u001b[49m\u001b[43m(\u001b[49m\u001b[43mblock\u001b[49m\u001b[43m,\u001b[49m\u001b[43m \u001b[49m\u001b[43mtimeout\u001b[49m\u001b[43m)\u001b[49m:\n\u001b[1;32m   1117\u001b[0m         lock\u001b[38;5;241m.\u001b[39mrelease()\n\u001b[1;32m   1118\u001b[0m         \u001b[38;5;28mself\u001b[39m\u001b[38;5;241m.\u001b[39m_stop()\n",
      "\u001b[0;31mKeyboardInterrupt\u001b[0m: "
     ]
    },
    {
     "name": "stderr",
     "output_type": "stream",
     "text": [
      "socket.send() raised exception.\n",
      "socket.send() raised exception.\n"
     ]
    },
    {
     "name": "stderr",
     "output_type": "stream",
     "text": [
      "socket.send() raised exception.\n",
      "socket.send() raised exception.\n",
      "socket.send() raised exception.\n",
      "socket.send() raised exception.\n",
      "socket.send() raised exception.\n",
      "socket.send() raised exception.\n",
      "socket.send() raised exception.\n",
      "socket.send() raised exception.\n",
      "socket.send() raised exception.\n",
      "socket.send() raised exception.\n",
      "socket.send() raised exception.\n",
      "socket.send() raised exception.\n",
      "socket.send() raised exception.\n",
      "socket.send() raised exception.\n",
      "socket.send() raised exception.\n",
      "socket.send() raised exception.\n",
      "socket.send() raised exception.\n",
      "socket.send() raised exception.\n",
      "socket.send() raised exception.\n",
      "socket.send() raised exception.\n",
      "socket.send() raised exception.\n",
      "socket.send() raised exception.\n",
      "socket.send() raised exception.\n",
      "socket.send() raised exception.\n",
      "socket.send() raised exception.\n",
      "socket.send() raised exception.\n",
      "socket.send() raised exception.\n",
      "socket.send() raised exception.\n",
      "socket.send() raised exception.\n",
      "socket.send() raised exception.\n",
      "socket.send() raised exception.\n",
      "socket.send() raised exception.\n",
      "socket.send() raised exception.\n",
      "socket.send() raised exception.\n",
      "socket.send() raised exception.\n",
      "socket.send() raised exception.\n",
      "socket.send() raised exception.\n",
      "socket.send() raised exception.\n",
      "socket.send() raised exception.\n",
      "socket.send() raised exception.\n",
      "socket.send() raised exception.\n",
      "socket.send() raised exception.\n",
      "socket.send() raised exception.\n",
      "socket.send() raised exception.\n",
      "socket.send() raised exception.\n",
      "socket.send() raised exception.\n",
      "socket.send() raised exception.\n",
      "socket.send() raised exception.\n",
      "socket.send() raised exception.\n",
      "socket.send() raised exception.\n",
      "socket.send() raised exception.\n",
      "socket.send() raised exception.\n",
      "socket.send() raised exception.\n",
      "socket.send() raised exception.\n",
      "socket.send() raised exception.\n",
      "socket.send() raised exception.\n",
      "socket.send() raised exception.\n",
      "socket.send() raised exception.\n",
      "socket.send() raised exception.\n",
      "socket.send() raised exception.\n",
      "socket.send() raised exception.\n",
      "socket.send() raised exception.\n",
      "socket.send() raised exception.\n",
      "socket.send() raised exception.\n",
      "socket.send() raised exception.\n",
      "socket.send() raised exception.\n",
      "socket.send() raised exception.\n",
      "socket.send() raised exception.\n",
      "socket.send() raised exception.\n",
      "socket.send() raised exception.\n",
      "socket.send() raised exception.\n",
      "socket.send() raised exception.\n",
      "socket.send() raised exception.\n",
      "socket.send() raised exception.\n",
      "socket.send() raised exception.\n",
      "socket.send() raised exception.\n",
      "socket.send() raised exception.\n",
      "socket.send() raised exception.\n",
      "socket.send() raised exception.\n",
      "socket.send() raised exception.\n",
      "socket.send() raised exception.\n",
      "socket.send() raised exception.\n",
      "socket.send() raised exception.\n",
      "socket.send() raised exception.\n",
      "socket.send() raised exception.\n",
      "socket.send() raised exception.\n",
      "socket.send() raised exception.\n",
      "socket.send() raised exception.\n",
      "socket.send() raised exception.\n",
      "socket.send() raised exception.\n",
      "socket.send() raised exception.\n",
      "socket.send() raised exception.\n",
      "socket.send() raised exception.\n",
      "socket.send() raised exception.\n",
      "socket.send() raised exception.\n",
      "socket.send() raised exception.\n",
      "socket.send() raised exception.\n",
      "socket.send() raised exception.\n",
      "socket.send() raised exception.\n",
      "socket.send() raised exception.\n",
      "socket.send() raised exception.\n",
      "socket.send() raised exception.\n",
      "socket.send() raised exception.\n",
      "socket.send() raised exception.\n",
      "socket.send() raised exception.\n",
      "socket.send() raised exception.\n",
      "socket.send() raised exception.\n",
      "socket.send() raised exception.\n",
      "socket.send() raised exception.\n",
      "socket.send() raised exception.\n",
      "socket.send() raised exception.\n",
      "socket.send() raised exception.\n",
      "socket.send() raised exception.\n",
      "socket.send() raised exception.\n",
      "socket.send() raised exception.\n",
      "socket.send() raised exception.\n",
      "socket.send() raised exception.\n",
      "socket.send() raised exception.\n",
      "socket.send() raised exception.\n",
      "socket.send() raised exception.\n",
      "socket.send() raised exception.\n",
      "socket.send() raised exception.\n",
      "socket.send() raised exception.\n",
      "socket.send() raised exception.\n",
      "socket.send() raised exception.\n",
      "socket.send() raised exception.\n",
      "socket.send() raised exception.\n",
      "socket.send() raised exception.\n",
      "socket.send() raised exception.\n",
      "socket.send() raised exception.\n",
      "socket.send() raised exception.\n",
      "socket.send() raised exception.\n",
      "socket.send() raised exception.\n",
      "socket.send() raised exception.\n",
      "socket.send() raised exception.\n",
      "socket.send() raised exception.\n",
      "socket.send() raised exception.\n",
      "socket.send() raised exception.\n",
      "socket.send() raised exception.\n",
      "socket.send() raised exception.\n",
      "socket.send() raised exception.\n",
      "socket.send() raised exception.\n",
      "socket.send() raised exception.\n",
      "socket.send() raised exception.\n",
      "socket.send() raised exception.\n",
      "socket.send() raised exception.\n",
      "socket.send() raised exception.\n",
      "socket.send() raised exception.\n",
      "socket.send() raised exception.\n",
      "socket.send() raised exception.\n",
      "socket.send() raised exception.\n",
      "socket.send() raised exception.\n",
      "socket.send() raised exception.\n",
      "socket.send() raised exception.\n",
      "socket.send() raised exception.\n",
      "socket.send() raised exception.\n",
      "socket.send() raised exception.\n",
      "socket.send() raised exception.\n",
      "socket.send() raised exception.\n",
      "socket.send() raised exception.\n",
      "socket.send() raised exception.\n",
      "socket.send() raised exception.\n",
      "socket.send() raised exception.\n",
      "socket.send() raised exception.\n",
      "socket.send() raised exception.\n",
      "socket.send() raised exception.\n",
      "socket.send() raised exception.\n",
      "socket.send() raised exception.\n",
      "socket.send() raised exception.\n",
      "socket.send() raised exception.\n",
      "socket.send() raised exception.\n",
      "socket.send() raised exception.\n",
      "socket.send() raised exception.\n",
      "socket.send() raised exception.\n",
      "socket.send() raised exception.\n",
      "socket.send() raised exception.\n",
      "socket.send() raised exception.\n",
      "socket.send() raised exception.\n",
      "socket.send() raised exception.\n",
      "socket.send() raised exception.\n",
      "socket.send() raised exception.\n",
      "socket.send() raised exception.\n",
      "socket.send() raised exception.\n",
      "socket.send() raised exception.\n",
      "socket.send() raised exception.\n",
      "socket.send() raised exception.\n",
      "socket.send() raised exception.\n",
      "socket.send() raised exception.\n",
      "socket.send() raised exception.\n",
      "socket.send() raised exception.\n",
      "socket.send() raised exception.\n",
      "socket.send() raised exception.\n",
      "socket.send() raised exception.\n",
      "socket.send() raised exception.\n",
      "socket.send() raised exception.\n",
      "socket.send() raised exception.\n",
      "socket.send() raised exception.\n",
      "socket.send() raised exception.\n",
      "socket.send() raised exception.\n",
      "socket.send() raised exception.\n",
      "socket.send() raised exception.\n",
      "socket.send() raised exception.\n",
      "socket.send() raised exception.\n",
      "socket.send() raised exception.\n",
      "socket.send() raised exception.\n",
      "socket.send() raised exception.\n",
      "socket.send() raised exception.\n",
      "socket.send() raised exception.\n",
      "socket.send() raised exception.\n",
      "socket.send() raised exception.\n",
      "socket.send() raised exception.\n",
      "socket.send() raised exception.\n",
      "socket.send() raised exception.\n",
      "socket.send() raised exception.\n",
      "socket.send() raised exception.\n",
      "socket.send() raised exception.\n",
      "socket.send() raised exception.\n",
      "socket.send() raised exception.\n",
      "socket.send() raised exception.\n",
      "socket.send() raised exception.\n",
      "socket.send() raised exception.\n",
      "socket.send() raised exception.\n",
      "socket.send() raised exception.\n",
      "socket.send() raised exception.\n",
      "socket.send() raised exception.\n",
      "socket.send() raised exception.\n",
      "socket.send() raised exception.\n",
      "socket.send() raised exception.\n",
      "socket.send() raised exception.\n",
      "socket.send() raised exception.\n",
      "socket.send() raised exception.\n",
      "socket.send() raised exception.\n",
      "socket.send() raised exception.\n",
      "socket.send() raised exception.\n",
      "socket.send() raised exception.\n",
      "socket.send() raised exception.\n",
      "socket.send() raised exception.\n",
      "socket.send() raised exception.\n",
      "socket.send() raised exception.\n",
      "socket.send() raised exception.\n",
      "socket.send() raised exception.\n",
      "socket.send() raised exception.\n",
      "socket.send() raised exception.\n",
      "socket.send() raised exception.\n",
      "socket.send() raised exception.\n",
      "socket.send() raised exception.\n",
      "socket.send() raised exception.\n",
      "socket.send() raised exception.\n",
      "socket.send() raised exception.\n",
      "socket.send() raised exception.\n",
      "socket.send() raised exception.\n",
      "socket.send() raised exception.\n",
      "socket.send() raised exception.\n",
      "socket.send() raised exception.\n",
      "socket.send() raised exception.\n",
      "socket.send() raised exception.\n",
      "socket.send() raised exception.\n",
      "socket.send() raised exception.\n",
      "socket.send() raised exception.\n",
      "socket.send() raised exception.\n",
      "socket.send() raised exception.\n",
      "socket.send() raised exception.\n",
      "socket.send() raised exception.\n",
      "socket.send() raised exception.\n",
      "socket.send() raised exception.\n",
      "socket.send() raised exception.\n",
      "socket.send() raised exception.\n",
      "socket.send() raised exception.\n",
      "socket.send() raised exception.\n",
      "socket.send() raised exception.\n",
      "socket.send() raised exception.\n",
      "socket.send() raised exception.\n",
      "socket.send() raised exception.\n",
      "socket.send() raised exception.\n",
      "socket.send() raised exception.\n",
      "socket.send() raised exception.\n",
      "socket.send() raised exception.\n",
      "socket.send() raised exception.\n",
      "socket.send() raised exception.\n",
      "socket.send() raised exception.\n",
      "socket.send() raised exception.\n",
      "socket.send() raised exception.\n",
      "socket.send() raised exception.\n",
      "socket.send() raised exception.\n",
      "socket.send() raised exception.\n",
      "socket.send() raised exception.\n",
      "socket.send() raised exception.\n",
      "socket.send() raised exception.\n",
      "socket.send() raised exception.\n",
      "socket.send() raised exception.\n",
      "socket.send() raised exception.\n",
      "socket.send() raised exception.\n",
      "socket.send() raised exception.\n",
      "socket.send() raised exception.\n",
      "socket.send() raised exception.\n",
      "socket.send() raised exception.\n",
      "socket.send() raised exception.\n",
      "socket.send() raised exception.\n",
      "socket.send() raised exception.\n",
      "socket.send() raised exception.\n",
      "socket.send() raised exception.\n",
      "socket.send() raised exception.\n",
      "socket.send() raised exception.\n",
      "socket.send() raised exception.\n",
      "socket.send() raised exception.\n",
      "socket.send() raised exception.\n",
      "socket.send() raised exception.\n",
      "socket.send() raised exception.\n",
      "socket.send() raised exception.\n",
      "socket.send() raised exception.\n",
      "socket.send() raised exception.\n",
      "socket.send() raised exception.\n",
      "socket.send() raised exception.\n",
      "socket.send() raised exception.\n",
      "socket.send() raised exception.\n",
      "socket.send() raised exception.\n",
      "socket.send() raised exception.\n",
      "socket.send() raised exception.\n",
      "socket.send() raised exception.\n",
      "socket.send() raised exception.\n",
      "socket.send() raised exception.\n",
      "socket.send() raised exception.\n",
      "socket.send() raised exception.\n",
      "socket.send() raised exception.\n",
      "socket.send() raised exception.\n",
      "socket.send() raised exception.\n",
      "socket.send() raised exception.\n",
      "socket.send() raised exception.\n",
      "socket.send() raised exception.\n",
      "socket.send() raised exception.\n",
      "socket.send() raised exception.\n",
      "socket.send() raised exception.\n",
      "socket.send() raised exception.\n",
      "socket.send() raised exception.\n",
      "socket.send() raised exception.\n",
      "socket.send() raised exception.\n",
      "socket.send() raised exception.\n",
      "socket.send() raised exception.\n",
      "socket.send() raised exception.\n",
      "socket.send() raised exception.\n",
      "socket.send() raised exception.\n",
      "socket.send() raised exception.\n",
      "socket.send() raised exception.\n",
      "socket.send() raised exception.\n",
      "socket.send() raised exception.\n",
      "socket.send() raised exception.\n",
      "socket.send() raised exception.\n",
      "socket.send() raised exception.\n",
      "socket.send() raised exception.\n",
      "socket.send() raised exception.\n",
      "socket.send() raised exception.\n",
      "socket.send() raised exception.\n",
      "socket.send() raised exception.\n",
      "socket.send() raised exception.\n",
      "socket.send() raised exception.\n",
      "socket.send() raised exception.\n",
      "socket.send() raised exception.\n",
      "socket.send() raised exception.\n",
      "socket.send() raised exception.\n",
      "socket.send() raised exception.\n",
      "socket.send() raised exception.\n",
      "socket.send() raised exception.\n",
      "socket.send() raised exception.\n",
      "socket.send() raised exception.\n",
      "socket.send() raised exception.\n",
      "socket.send() raised exception.\n",
      "socket.send() raised exception.\n",
      "socket.send() raised exception.\n",
      "socket.send() raised exception.\n",
      "socket.send() raised exception.\n",
      "socket.send() raised exception.\n",
      "socket.send() raised exception.\n",
      "socket.send() raised exception.\n",
      "socket.send() raised exception.\n",
      "socket.send() raised exception.\n",
      "socket.send() raised exception.\n",
      "socket.send() raised exception.\n",
      "socket.send() raised exception.\n",
      "socket.send() raised exception.\n",
      "socket.send() raised exception.\n",
      "socket.send() raised exception.\n",
      "socket.send() raised exception.\n",
      "socket.send() raised exception.\n",
      "socket.send() raised exception.\n",
      "socket.send() raised exception.\n",
      "socket.send() raised exception.\n",
      "socket.send() raised exception.\n",
      "socket.send() raised exception.\n",
      "socket.send() raised exception.\n",
      "socket.send() raised exception.\n",
      "socket.send() raised exception.\n",
      "socket.send() raised exception.\n",
      "socket.send() raised exception.\n",
      "socket.send() raised exception.\n",
      "socket.send() raised exception.\n",
      "socket.send() raised exception.\n",
      "socket.send() raised exception.\n",
      "socket.send() raised exception.\n",
      "socket.send() raised exception.\n",
      "socket.send() raised exception.\n",
      "socket.send() raised exception.\n",
      "socket.send() raised exception.\n",
      "socket.send() raised exception.\n",
      "socket.send() raised exception.\n",
      "socket.send() raised exception.\n",
      "socket.send() raised exception.\n",
      "socket.send() raised exception.\n",
      "socket.send() raised exception.\n",
      "socket.send() raised exception.\n",
      "socket.send() raised exception.\n",
      "socket.send() raised exception.\n",
      "socket.send() raised exception.\n",
      "socket.send() raised exception.\n",
      "socket.send() raised exception.\n",
      "socket.send() raised exception.\n",
      "socket.send() raised exception.\n",
      "socket.send() raised exception.\n",
      "socket.send() raised exception.\n",
      "socket.send() raised exception.\n",
      "socket.send() raised exception.\n",
      "socket.send() raised exception.\n",
      "socket.send() raised exception.\n",
      "socket.send() raised exception.\n",
      "socket.send() raised exception.\n",
      "socket.send() raised exception.\n",
      "socket.send() raised exception.\n",
      "socket.send() raised exception.\n",
      "socket.send() raised exception.\n",
      "socket.send() raised exception.\n",
      "socket.send() raised exception.\n",
      "socket.send() raised exception.\n",
      "socket.send() raised exception.\n",
      "socket.send() raised exception.\n",
      "socket.send() raised exception.\n"
     ]
    }
   ],
   "source": [
    "# wandb.finish()\n",
    "# =============================================================================\n",
    "# WandB MailboxClosedError 해결을 위한 정리 및 재시작\n",
    "# =============================================================================\n",
    " \n",
    "# 1. 기존 WandB 런 강제 종료\n",
    "try:\n",
    "    if wandb.run is not None:\n",
    "        print(\"기존 WandB 런 종료 중...\")\n",
    "        wandb.finish()\n",
    "        time.sleep(2)  # 종료 대기\n",
    "except Exception as e:\n",
    "    print(f\"기존 런 종료 중 에러 (무시 가능): {e}\")\n",
    "\n",
    "# 2. WandB 프로세스 정리\n",
    "try:\n",
    "    # WandB 내부 상태 초기화\n",
    "    wandb.teardown()\n",
    "    time.sleep(1)\n",
    "except Exception as e:\n",
    "    print(f\"WandB teardown 중 에러 (무시 가능): {e}\")\n",
    "\n",
    "# 3. 환경 변수 재설정 (선택사항)\n",
    "os.environ['WANDB_START_METHOD'] = 'thread'  # 프로세스 충돌 방지\n",
    "\n",
    "# 4. 안전한 WandB 초기화 함수\n",
    "def safe_wandb_init(project, name, config, **kwargs):\n",
    "    \"\"\"안전한 WandB 초기화\"\"\"\n",
    "    max_retries = 3\n",
    "    retry_delay = 5\n",
    "    \n",
    "    for attempt in range(max_retries):\n",
    "        try:\n",
    "            print(f\"WandB 초기화 시도 {attempt + 1}/{max_retries}...\")\n",
    "            \n",
    "            # 기존 런이 있다면 종료\n",
    "            if wandb.run is not None:\n",
    "                wandb.finish()\n",
    "                time.sleep(1)\n",
    "            \n",
    "            # 새로운 런 시작\n",
    "            run = wandb.init(\n",
    "                project=project,\n",
    "                name=name,\n",
    "                config=config,\n",
    "                **kwargs\n",
    "            )\n",
    "            \n",
    "            print(f\"✅ WandB 초기화 성공!\")\n",
    "            return run\n",
    "            \n",
    "        except Exception as e:\n",
    "            print(f\"❌ 시도 {attempt + 1} 실패: {e}\")\n",
    "            \n",
    "            if attempt < max_retries - 1:\n",
    "                print(f\"⏳ {retry_delay}초 후 재시도...\")\n",
    "                time.sleep(retry_delay)\n",
    "                \n",
    "                # WandB 프로세스 강제 정리\n",
    "                try:\n",
    "                    wandb.teardown()\n",
    "                    time.sleep(1)\n",
    "                except:\n",
    "                    pass\n",
    "            else:\n",
    "                print(\"❌ 모든 재시도 실패. WandB 없이 진행합니다.\")\n",
    "                return None\n",
    "    \n",
    "    return None\n",
    "\n",
    "# 5. 수정된 메인 초기화 코드\n",
    "print(\"🔧 WandB 연결 문제 해결 중...\")\n",
    "\n",
    "# 기존 코드 대체\n",
    "main_run = safe_wandb_init(\n",
    "    project=PROJECT_NAME,\n",
    "    name=f\"{EXPERIMENT_NAME}-{datetime.now().strftime('%m%d-%H%M')}\",\n",
    "    config=config,\n",
    "    entity=ENTITY,\n",
    "    tags=[\"k-fold-cv\", \"ensemble\", model_name, \"baseline\", \"main-experiment\"],\n",
    "    group=\"k-fold-experiment\", \n",
    "    job_type=\"cross-validation\",\n",
    "    notes=f\"{N_FOLDS}-Fold Cross Validation with {model_name}\"\n",
    ")\n",
    "\n",
    "if main_run is not None:\n",
    "    print(f\"\\n🚀 WandB 실험 시작!\")\n",
    "    print(f\"📊 대시보드: {main_run.url}\")\n",
    "    print(f\"📋 실험명: {main_run.name}\")\n",
    "else:\n",
    "    print(\"\\n⚠️ WandB 없이 실험을 진행합니다.\")\n",
    "    print(\"결과는 콘솔과 로컬 파일로만 저장됩니다.\")"
   ]
  },
  {
   "cell_type": "code",
   "execution_count": null,
   "id": "6514acaf",
   "metadata": {},
   "outputs": [
    {
     "name": "stdout",
     "output_type": "stream",
     "text": [
      "학습 데이터: 1570개 샘플\n",
      " 클래스 분포: {0: 100, 1: 46, 2: 100, 3: 100, 4: 100, 5: 100, 6: 100, 7: 100, 8: 100, 9: 100, 10: 100, 11: 100, 12: 100, 13: 74, 14: 50, 15: 100, 16: 100}\n"
     ]
    },
    {
     "data": {
      "text/html": [
       "Finishing previous runs because reinit is set to True."
      ],
      "text/plain": [
       "<IPython.core.display.HTML object>"
      ]
     },
     "metadata": {},
     "output_type": "display_data"
    },
    {
     "data": {
      "text/html": [],
      "text/plain": [
       "<IPython.core.display.HTML object>"
      ]
     },
     "metadata": {},
     "output_type": "display_data"
    },
    {
     "data": {
      "text/html": [
       " View run <strong style=\"color:#cdcd00\">efficientnet-b3-baseline-0908-1308</strong> at: <a href='https://wandb.ai/kimsunmin0227-hufs/document-classification-team-CV/runs/hgzotabu' target=\"_blank\">https://wandb.ai/kimsunmin0227-hufs/document-classification-team-CV/runs/hgzotabu</a><br> View project at: <a href='https://wandb.ai/kimsunmin0227-hufs/document-classification-team-CV' target=\"_blank\">https://wandb.ai/kimsunmin0227-hufs/document-classification-team-CV</a><br>Synced 5 W&B file(s), 0 media file(s), 0 artifact file(s) and 0 other file(s)"
      ],
      "text/plain": [
       "<IPython.core.display.HTML object>"
      ]
     },
     "metadata": {},
     "output_type": "display_data"
    },
    {
     "data": {
      "text/html": [
       "Find logs at: <code>./wandb/run-20250908_130804-hgzotabu/logs</code>"
      ],
      "text/plain": [
       "<IPython.core.display.HTML object>"
      ]
     },
     "metadata": {},
     "output_type": "display_data"
    },
    {
     "name": "stderr",
     "output_type": "stream",
     "text": [
      "\u001b[34m\u001b[1mwandb\u001b[0m: \u001b[33mWARNING\u001b[0m Using a boolean value for 'reinit' is deprecated. Use 'return_previous' or 'finish_previous' instead.\n"
     ]
    },
    {
     "data": {
      "text/html": [
       "creating run (0.2s)"
      ],
      "text/plain": [
       "<IPython.core.display.HTML object>"
      ]
     },
     "metadata": {},
     "output_type": "display_data"
    },
    {
     "data": {
      "text/html": [
       "Tracking run with wandb version 0.21.3"
      ],
      "text/plain": [
       "<IPython.core.display.HTML object>"
      ]
     },
     "metadata": {},
     "output_type": "display_data"
    },
    {
     "data": {
      "text/html": [
       "Run data is saved locally in <code>/root/computervisioncompetition-cv-1/mywork/experiments/wandb/run-20250908_130806-tdg8npcs</code>"
      ],
      "text/plain": [
       "<IPython.core.display.HTML object>"
      ]
     },
     "metadata": {},
     "output_type": "display_data"
    },
    {
     "data": {
      "text/html": [
       "Syncing run <strong><a href='https://wandb.ai/kimsunmin0227-hufs/document-classification-team-CV/runs/tdg8npcs' target=\"_blank\">efficientnet-b3-baseline-0908-1308</a></strong> to <a href='https://wandb.ai/kimsunmin0227-hufs/document-classification-team-CV' target=\"_blank\">Weights & Biases</a> (<a href='https://wandb.me/developer-guide' target=\"_blank\">docs</a>)<br>"
      ],
      "text/plain": [
       "<IPython.core.display.HTML object>"
      ]
     },
     "metadata": {},
     "output_type": "display_data"
    },
    {
     "data": {
      "text/html": [
       " View project at <a href='https://wandb.ai/kimsunmin0227-hufs/document-classification-team-CV' target=\"_blank\">https://wandb.ai/kimsunmin0227-hufs/document-classification-team-CV</a>"
      ],
      "text/plain": [
       "<IPython.core.display.HTML object>"
      ]
     },
     "metadata": {},
     "output_type": "display_data"
    },
    {
     "data": {
      "text/html": [
       " View run at <a href='https://wandb.ai/kimsunmin0227-hufs/document-classification-team-CV/runs/tdg8npcs' target=\"_blank\">https://wandb.ai/kimsunmin0227-hufs/document-classification-team-CV/runs/tdg8npcs</a>"
      ],
      "text/plain": [
       "<IPython.core.display.HTML object>"
      ]
     },
     "metadata": {},
     "output_type": "display_data"
    },
    {
     "name": "stdout",
     "output_type": "stream",
     "text": [
      "\n",
      "🚀 WandB 실험 시작!\n",
      "📊 대시보드: https://wandb.ai/kimsunmin0227-hufs/document-classification-team-CV/runs/tdg8npcs\n",
      "📋 실험명: efficientnet-b3-baseline-0908-1308\n"
     ]
    }
   ],
   "source": [
    "# =============================================================================\n",
    "# 9. Load Data & Start K-Fold Cross Validation with WandB\n",
    "# =============================================================================\n",
    "\n",
    "# 전체 학습 데이터 로드\n",
    "train_df = pd.read_csv(\"../data/train.csv\")\n",
    "print(f\"학습 데이터: {len(train_df)}개 샘플\")\n",
    "\n",
    "# 클래스 분포 확인\n",
    "class_counts = train_df['target'].value_counts().sort_index()\n",
    "print(f\" 클래스 분포: {dict(class_counts)}\")\n",
    "\n",
    "# K-Fold 설정\n",
    "skf = StratifiedKFold(n_splits=N_FOLDS, shuffle=True, random_state=SEED)\n",
    "\n",
    "# K-Fold 결과를 저장할 리스트\n",
    "fold_results = []\n",
    "fold_models = []  # 각 fold의 최고 성능 모델을 저장\n",
    "\n",
    "#  WandB 메인 실험 시작\n",
    "main_run = wandb.init(\n",
    "    project=PROJECT_NAME,\n",
    "    entity=ENTITY,\n",
    "    name=f\"{EXPERIMENT_NAME}-{datetime.now().strftime('%m%d-%H%M')}\",\n",
    "    config=config,\n",
    "    tags=[\"k-fold-cv\", \"ensemble\", model_name, \"baseline\", \"main-experiment\"],\n",
    "    group=\"k-fold-experiment\",\n",
    "    job_type=\"cross-validation\",\n",
    "    notes=f\"{N_FOLDS}-Fold Cross Validation with {model_name}\",\n",
    "    reinit=True,\n",
    ")\n",
    "\n",
    "print(f\"\\n🚀 WandB 실험 시작!\")\n",
    "print(f\"📊 대시보드: {main_run.url}\")\n",
    "print(f\"📋 실험명: {main_run.name}\")\n",
    "\n",
    "#  데이터셋 정보 로깅\n",
    "# wandb.log({\n",
    "#    \"dataset/total_samples\": len(train_df),\n",
    "#    \"dataset/num_classes\": 17,\n",
    "#   \"dataset/samples_per_fold\": len(train_df) // N_FOLDS,\n",
    "#})\n",
    "\n",
    "# 클래스 분포 시각화\n",
    "#class_dist_data = [[f\"Class_{i}\", count] for i, count in enumerate(class_counts)]\n",
    "#wandb.log({\n",
    "#    \"dataset/class_distribution\": wandb.plot.bar(\n",
    "#        wandb.Table(data=class_dist_data, columns=[\"Class\", \"Count\"]),\n",
    "#        \"Class\", \"Count\", \n",
    "#        title=\"Training Data Class Distribution\"\n",
    "#    )\n",
    "#})\n"
   ]
  },
  {
   "cell_type": "code",
   "execution_count": null,
   "id": "6c320bb7",
   "metadata": {},
   "outputs": [
    {
     "name": "stdout",
     "output_type": "stream",
     "text": [
      "\n",
      "==================================================\n",
      " FOLD 1/5\n",
      "==================================================\n"
     ]
    },
    {
     "data": {
      "text/html": [
       "Finishing previous runs because reinit is set to True."
      ],
      "text/plain": [
       "<IPython.core.display.HTML object>"
      ]
     },
     "metadata": {},
     "output_type": "display_data"
    },
    {
     "data": {
      "text/html": [],
      "text/plain": [
       "<IPython.core.display.HTML object>"
      ]
     },
     "metadata": {},
     "output_type": "display_data"
    },
    {
     "data": {
      "text/html": [
       " View run <strong style=\"color:#cdcd00\">efficientnet-b3-baseline-0908-1308</strong> at: <a href='https://wandb.ai/kimsunmin0227-hufs/document-classification-team-CV/runs/tdg8npcs' target=\"_blank\">https://wandb.ai/kimsunmin0227-hufs/document-classification-team-CV/runs/tdg8npcs</a><br> View project at: <a href='https://wandb.ai/kimsunmin0227-hufs/document-classification-team-CV' target=\"_blank\">https://wandb.ai/kimsunmin0227-hufs/document-classification-team-CV</a><br>Synced 5 W&B file(s), 0 media file(s), 0 artifact file(s) and 0 other file(s)"
      ],
      "text/plain": [
       "<IPython.core.display.HTML object>"
      ]
     },
     "metadata": {},
     "output_type": "display_data"
    },
    {
     "data": {
      "text/html": [
       "Find logs at: <code>./wandb/run-20250908_130806-tdg8npcs/logs</code>"
      ],
      "text/plain": [
       "<IPython.core.display.HTML object>"
      ]
     },
     "metadata": {},
     "output_type": "display_data"
    },
    {
     "data": {
      "text/html": [
       "creating run (0.2s)"
      ],
      "text/plain": [
       "<IPython.core.display.HTML object>"
      ]
     },
     "metadata": {},
     "output_type": "display_data"
    },
    {
     "data": {
      "text/html": [
       "Tracking run with wandb version 0.21.3"
      ],
      "text/plain": [
       "<IPython.core.display.HTML object>"
      ]
     },
     "metadata": {},
     "output_type": "display_data"
    },
    {
     "data": {
      "text/html": [
       "Run data is saved locally in <code>/root/computervisioncompetition-cv-1/mywork/experiments/wandb/run-20250908_130808-d5zo4qa1</code>"
      ],
      "text/plain": [
       "<IPython.core.display.HTML object>"
      ]
     },
     "metadata": {},
     "output_type": "display_data"
    },
    {
     "data": {
      "text/html": [
       "Syncing run <strong><a href='https://wandb.ai/kimsunmin0227-hufs/document-classification-team-CV/runs/d5zo4qa1' target=\"_blank\">fold-1-efficientnet_b3-1308</a></strong> to <a href='https://wandb.ai/kimsunmin0227-hufs/document-classification-team-CV' target=\"_blank\">Weights & Biases</a> (<a href='https://wandb.me/developer-guide' target=\"_blank\">docs</a>)<br>"
      ],
      "text/plain": [
       "<IPython.core.display.HTML object>"
      ]
     },
     "metadata": {},
     "output_type": "display_data"
    },
    {
     "data": {
      "text/html": [
       " View project at <a href='https://wandb.ai/kimsunmin0227-hufs/document-classification-team-CV' target=\"_blank\">https://wandb.ai/kimsunmin0227-hufs/document-classification-team-CV</a>"
      ],
      "text/plain": [
       "<IPython.core.display.HTML object>"
      ]
     },
     "metadata": {},
     "output_type": "display_data"
    },
    {
     "data": {
      "text/html": [
       " View run at <a href='https://wandb.ai/kimsunmin0227-hufs/document-classification-team-CV/runs/d5zo4qa1' target=\"_blank\">https://wandb.ai/kimsunmin0227-hufs/document-classification-team-CV/runs/d5zo4qa1</a>"
      ],
      "text/plain": [
       "<IPython.core.display.HTML object>"
      ]
     },
     "metadata": {},
     "output_type": "display_data"
    },
    {
     "name": "stdout",
     "output_type": "stream",
     "text": [
      "📊 Fold 1 Dashboard: https://wandb.ai/kimsunmin0227-hufs/document-classification-team-CV/runs/d5zo4qa1\n",
      "Train samples: 1256, Validation samples: 314\n",
      " 모델 학습 시작 - Fold 1\n",
      "\n",
      "📈 Epoch 1/100\n"
     ]
    },
    {
     "name": "stderr",
     "output_type": "stream",
     "text": [
      "Loss: 1.9526, Mixup: False, Cutout: False, RandomCrop: True: 100%|██████████| 126/126 [00:18<00:00,  6.68it/s]\n",
      "Val Loss: 1.7707: 100%|██████████| 32/32 [00:02<00:00, 14.59it/s]\n"
     ]
    },
    {
     "name": "stdout",
     "output_type": "stream",
     "text": [
      "  Class 3 F1: 0.3288\n",
      "  Class 7 F1: 0.2326\n",
      "  Class 14 F1: 0.1935\n",
      "  Problem Classes Avg F1: 0.2516\n",
      " Epoch  1 | Train Loss: 2.5895 | Train F1: 0.2567 | Val Loss: 1.7112 | Val F1: 0.6487 | LR: 3.00e-04\n",
      "         Problem Classes (3,7,14) Avg F1: 0.2516 | ✅ Problem classes performing well\n",
      "🎉 새로운 최고 성능! F1: 0.6487 (Problem Classes: 0.2516)\n",
      "\n",
      "📈 Epoch 2/100\n"
     ]
    },
    {
     "name": "stderr",
     "output_type": "stream",
     "text": [
      "Loss: 1.6843, Mixup: True, Cutout: False, RandomCrop: False: 100%|██████████| 126/126 [00:11<00:00, 11.26it/s]\n",
      "Val Loss: 2.2253: 100%|██████████| 32/32 [00:01<00:00, 20.49it/s]\n"
     ]
    },
    {
     "name": "stdout",
     "output_type": "stream",
     "text": [
      "  Class 3 F1: 0.4571\n",
      "  Class 7 F1: 0.3889\n",
      "  Class 14 F1: 0.4211\n",
      "  Problem Classes Avg F1: 0.4224\n",
      " Epoch  2 | Train Loss: 2.0138 | Train F1: 0.4755 | Val Loss: 1.5735 | Val F1: 0.7752 | LR: 3.00e-04\n",
      "         Problem Classes (3,7,14) Avg F1: 0.4224 | ⚠️ Problem classes need attention\n",
      "🎉 새로운 최고 성능! F1: 0.7752 (Problem Classes: 0.4224)\n",
      "\n",
      "📈 Epoch 3/100\n"
     ]
    },
    {
     "name": "stderr",
     "output_type": "stream",
     "text": [
      "Loss: 1.9239, Mixup: True, Cutout: False, RandomCrop: False: 100%|██████████| 126/126 [00:11<00:00, 11.06it/s]\n",
      "Val Loss: 2.3006: 100%|██████████| 32/32 [00:01<00:00, 20.87it/s]\n"
     ]
    },
    {
     "name": "stdout",
     "output_type": "stream",
     "text": [
      "  Class 3 F1: 0.3871\n",
      "  Class 7 F1: 0.3846\n",
      "  Class 14 F1: 0.3390\n",
      "  Problem Classes Avg F1: 0.3702\n",
      " Epoch  3 | Train Loss: 1.8274 | Train F1: 0.5630 | Val Loss: 1.4878 | Val F1: 0.8039 | LR: 3.00e-04\n",
      "         Problem Classes (3,7,14) Avg F1: 0.3702 | ⚠️ Problem classes need attention\n",
      "🎉 새로운 최고 성능! F1: 0.8039 (Problem Classes: 0.3702)\n",
      "\n",
      "📈 Epoch 4/100\n"
     ]
    },
    {
     "name": "stderr",
     "output_type": "stream",
     "text": [
      "Loss: 1.2912, Mixup: False, Cutout: False, RandomCrop: True: 100%|██████████| 126/126 [00:11<00:00, 11.03it/s]\n",
      "Val Loss: 1.5054: 100%|██████████| 32/32 [00:01<00:00, 20.27it/s]\n"
     ]
    },
    {
     "name": "stdout",
     "output_type": "stream",
     "text": [
      "  Class 3 F1: 0.5231\n",
      "  Class 7 F1: 0.2632\n",
      "  Class 14 F1: 0.4000\n",
      "  Problem Classes Avg F1: 0.3954\n",
      " Epoch  4 | Train Loss: 1.7148 | Train F1: 0.5759 | Val Loss: 1.3431 | Val F1: 0.8285 | LR: 2.99e-04\n",
      "         Problem Classes (3,7,14) Avg F1: 0.3954 | ⚠️ Problem classes need attention\n",
      "🎉 새로운 최고 성능! F1: 0.8285 (Problem Classes: 0.3954)\n",
      "\n",
      "📈 Epoch 5/100\n"
     ]
    },
    {
     "name": "stderr",
     "output_type": "stream",
     "text": [
      "Loss: 1.8089, Mixup: False, Cutout: False, RandomCrop: True: 100%|██████████| 126/126 [00:11<00:00, 11.08it/s]\n",
      "Val Loss: 1.7503: 100%|██████████| 32/32 [00:01<00:00, 20.66it/s]\n"
     ]
    },
    {
     "name": "stdout",
     "output_type": "stream",
     "text": [
      "  Class 3 F1: 0.6538\n",
      "  Class 7 F1: 0.3200\n",
      "  Class 14 F1: 0.4848\n",
      "  Problem Classes Avg F1: 0.4862\n",
      " Epoch  5 | Train Loss: 1.6377 | Train F1: 0.6096 | Val Loss: 1.3185 | Val F1: 0.8737 | LR: 2.99e-04\n",
      "         Problem Classes (3,7,14) Avg F1: 0.4862 | ⚠️ Problem classes need attention\n",
      "🎉 새로운 최고 성능! F1: 0.8737 (Problem Classes: 0.4862)\n",
      "\n",
      "📈 Epoch 6/100\n"
     ]
    },
    {
     "name": "stderr",
     "output_type": "stream",
     "text": [
      "Loss: 1.6529, Mixup: True, Cutout: False, RandomCrop: False: 100%|██████████| 126/126 [00:11<00:00, 11.12it/s]\n",
      "Val Loss: 1.2644: 100%|██████████| 32/32 [00:01<00:00, 20.27it/s]\n"
     ]
    },
    {
     "name": "stdout",
     "output_type": "stream",
     "text": [
      "  Class 3 F1: 0.6071\n",
      "  Class 7 F1: 0.1667\n",
      "  Class 14 F1: 0.1818\n",
      "  Problem Classes Avg F1: 0.3185\n",
      " Epoch  6 | Train Loss: 1.6177 | Train F1: 0.6698 | Val Loss: 1.3243 | Val F1: 0.8494 | LR: 2.98e-04\n",
      "         Problem Classes (3,7,14) Avg F1: 0.3185 | ⚠️ Problem classes need attention\n",
      "\n",
      "📈 Epoch 7/100\n"
     ]
    },
    {
     "name": "stderr",
     "output_type": "stream",
     "text": [
      "Loss: 1.4772, Mixup: False, Cutout: False, RandomCrop: True: 100%|██████████| 126/126 [00:11<00:00, 11.09it/s]\n",
      "Val Loss: 1.1105: 100%|██████████| 32/32 [00:01<00:00, 20.52it/s]\n"
     ]
    },
    {
     "name": "stdout",
     "output_type": "stream",
     "text": [
      "  Class 3 F1: 0.6102\n",
      "  Class 7 F1: 0.5000\n",
      "  Class 14 F1: 0.4000\n",
      "  Problem Classes Avg F1: 0.5034\n",
      " Epoch  7 | Train Loss: 1.6155 | Train F1: 0.6752 | Val Loss: 1.2407 | Val F1: 0.8779 | LR: 2.97e-04\n",
      "         Problem Classes (3,7,14) Avg F1: 0.5034 | ⚠️ Problem classes need attention\n",
      "🎉 새로운 최고 성능! F1: 0.8779 (Problem Classes: 0.5034)\n",
      "\n",
      "📈 Epoch 8/100\n"
     ]
    },
    {
     "name": "stderr",
     "output_type": "stream",
     "text": [
      "Loss: 0.8086, Mixup: False, Cutout: False, RandomCrop: True: 100%|██████████| 126/126 [00:11<00:00, 11.20it/s]\n",
      "Val Loss: 2.0349: 100%|██████████| 32/32 [00:01<00:00, 20.29it/s]\n"
     ]
    },
    {
     "name": "stdout",
     "output_type": "stream",
     "text": [
      "  Class 3 F1: 0.2609\n",
      "  Class 7 F1: 0.5818\n",
      "  Class 14 F1: 0.5000\n",
      "  Problem Classes Avg F1: 0.4476\n",
      " Epoch  8 | Train Loss: 1.5952 | Train F1: 0.6733 | Val Loss: 1.3053 | Val F1: 0.8737 | LR: 2.96e-04\n",
      "         Problem Classes (3,7,14) Avg F1: 0.4476 | ⚠️ Problem classes need attention\n",
      "\n",
      "📈 Epoch 9/100\n"
     ]
    },
    {
     "name": "stderr",
     "output_type": "stream",
     "text": [
      "Loss: 1.7720, Mixup: True, Cutout: False, RandomCrop: False: 100%|██████████| 126/126 [00:11<00:00, 10.98it/s]\n",
      "Val Loss: 1.4954: 100%|██████████| 32/32 [00:01<00:00, 20.70it/s]\n"
     ]
    },
    {
     "name": "stdout",
     "output_type": "stream",
     "text": [
      "  Class 3 F1: 0.7059\n",
      "  Class 7 F1: 0.3077\n",
      "  Class 14 F1: 0.5333\n",
      "  Problem Classes Avg F1: 0.5156\n",
      " Epoch  9 | Train Loss: 1.4927 | Train F1: 0.6822 | Val Loss: 1.2177 | Val F1: 0.8923 | LR: 2.95e-04\n",
      "         Problem Classes (3,7,14) Avg F1: 0.5156 | ⚠️ Problem classes need attention\n",
      "🎉 새로운 최고 성능! F1: 0.8923 (Problem Classes: 0.5156)\n",
      "\n",
      "📈 Epoch 10/100\n"
     ]
    },
    {
     "name": "stderr",
     "output_type": "stream",
     "text": [
      "Loss: 1.7016, Mixup: False, Cutout: True, RandomCrop: False: 100%|██████████| 126/126 [00:11<00:00, 11.17it/s]\n",
      "Val Loss: 0.7735: 100%|██████████| 32/32 [00:01<00:00, 20.63it/s]\n"
     ]
    },
    {
     "name": "stdout",
     "output_type": "stream",
     "text": [
      "  Class 3 F1: 0.5588\n",
      "  Class 7 F1: 0.0952\n",
      "  Class 14 F1: 0.6667\n",
      "  Problem Classes Avg F1: 0.4402\n",
      " Epoch 10 | Train Loss: 1.4791 | Train F1: 0.7030 | Val Loss: 1.2359 | Val F1: 0.8747 | LR: 2.94e-04\n",
      "         Problem Classes (3,7,14) Avg F1: 0.4402 | ⚠️ Problem classes need attention\n",
      "\n",
      "📈 Epoch 11/100\n"
     ]
    },
    {
     "name": "stderr",
     "output_type": "stream",
     "text": [
      "Loss: 1.3692, Mixup: False, Cutout: True, RandomCrop: False: 100%|██████████| 126/126 [00:11<00:00, 11.09it/s]\n",
      "Val Loss: 1.4142: 100%|██████████| 32/32 [00:01<00:00, 20.77it/s]\n"
     ]
    },
    {
     "name": "stdout",
     "output_type": "stream",
     "text": [
      "  Class 3 F1: 0.6500\n",
      "  Class 7 F1: 0.4000\n",
      "  Class 14 F1: 0.4103\n",
      "  Problem Classes Avg F1: 0.4868\n",
      " Epoch 11 | Train Loss: 1.5210 | Train F1: 0.6665 | Val Loss: 1.2138 | Val F1: 0.8787 | LR: 2.93e-04\n",
      "         Problem Classes (3,7,14) Avg F1: 0.4868 | ⚠️ Problem classes need attention\n",
      "\n",
      "📈 Epoch 12/100\n"
     ]
    },
    {
     "name": "stderr",
     "output_type": "stream",
     "text": [
      "Loss: 1.6421, Mixup: False, Cutout: False, RandomCrop: True: 100%|██████████| 126/126 [00:11<00:00, 10.95it/s]\n",
      "Val Loss: 0.7569: 100%|██████████| 32/32 [00:01<00:00, 20.51it/s]\n"
     ]
    },
    {
     "name": "stdout",
     "output_type": "stream",
     "text": [
      "  Class 3 F1: 0.6552\n",
      "  Class 7 F1: 0.3200\n",
      "  Class 14 F1: 0.6154\n",
      "  Problem Classes Avg F1: 0.5302\n",
      " Epoch 12 | Train Loss: 1.4153 | Train F1: 0.7568 | Val Loss: 1.2160 | Val F1: 0.8901 | LR: 2.91e-04\n",
      "         Problem Classes (3,7,14) Avg F1: 0.5302 | ⚠️ Problem classes need attention\n",
      "\n",
      "📈 Epoch 13/100\n"
     ]
    },
    {
     "name": "stderr",
     "output_type": "stream",
     "text": [
      "Loss: 1.5171, Mixup: True, Cutout: False, RandomCrop: False: 100%|██████████| 126/126 [00:11<00:00, 10.99it/s]\n",
      "Val Loss: 0.9800: 100%|██████████| 32/32 [00:01<00:00, 20.75it/s]\n"
     ]
    },
    {
     "name": "stdout",
     "output_type": "stream",
     "text": [
      "  Class 3 F1: 0.7111\n",
      "  Class 7 F1: 0.5000\n",
      "  Class 14 F1: 0.6400\n",
      "  Problem Classes Avg F1: 0.6170\n",
      " Epoch 13 | Train Loss: 1.3808 | Train F1: 0.7441 | Val Loss: 1.1523 | Val F1: 0.9123 | LR: 2.89e-04\n",
      "         Problem Classes (3,7,14) Avg F1: 0.6170 | ⚠️ Problem classes need attention\n",
      "🎉 새로운 최고 성능! F1: 0.9123 (Problem Classes: 0.6170)\n",
      "\n",
      "📈 Epoch 14/100\n"
     ]
    },
    {
     "name": "stderr",
     "output_type": "stream",
     "text": [
      "Loss: 1.3690, Mixup: False, Cutout: True, RandomCrop: False: 100%|██████████| 126/126 [00:11<00:00, 10.90it/s]\n",
      "Val Loss: 1.4828: 100%|██████████| 32/32 [00:01<00:00, 20.58it/s]\n"
     ]
    },
    {
     "name": "stdout",
     "output_type": "stream",
     "text": [
      "  Class 3 F1: 0.6222\n",
      "  Class 7 F1: 0.4000\n",
      "  Class 14 F1: 0.6250\n",
      "  Problem Classes Avg F1: 0.5491\n",
      " Epoch 14 | Train Loss: 1.3637 | Train F1: 0.7489 | Val Loss: 1.1853 | Val F1: 0.8985 | LR: 2.88e-04\n",
      "         Problem Classes (3,7,14) Avg F1: 0.5491 | ⚠️ Problem classes need attention\n",
      "\n",
      "📈 Epoch 15/100\n"
     ]
    },
    {
     "name": "stderr",
     "output_type": "stream",
     "text": [
      "Loss: 1.2134, Mixup: False, Cutout: False, RandomCrop: True: 100%|██████████| 126/126 [00:11<00:00, 11.13it/s]\n",
      "Val Loss: 1.4597: 100%|██████████| 32/32 [00:01<00:00, 21.43it/s]\n"
     ]
    },
    {
     "name": "stdout",
     "output_type": "stream",
     "text": [
      "  Class 3 F1: 0.6667\n",
      "  Class 7 F1: 0.5641\n",
      "  Class 14 F1: 0.7619\n",
      "  Problem Classes Avg F1: 0.6642\n",
      " Epoch 15 | Train Loss: 1.3504 | Train F1: 0.7646 | Val Loss: 1.1486 | Val F1: 0.9218 | LR: 2.86e-04\n",
      "         Problem Classes (3,7,14) Avg F1: 0.6642 | ⚠️ Problem classes need attention\n",
      "🎉 새로운 최고 성능! F1: 0.9218 (Problem Classes: 0.6642)\n",
      "\n",
      "📈 Epoch 16/100\n"
     ]
    },
    {
     "name": "stderr",
     "output_type": "stream",
     "text": [
      "Loss: 1.4637, Mixup: False, Cutout: False, RandomCrop: True: 100%|██████████| 126/126 [00:11<00:00, 11.12it/s]\n",
      "Val Loss: 1.1787: 100%|██████████| 32/32 [00:01<00:00, 20.50it/s]\n"
     ]
    },
    {
     "name": "stdout",
     "output_type": "stream",
     "text": [
      "  Class 3 F1: 0.6792\n",
      "  Class 7 F1: 0.4000\n",
      "  Class 14 F1: 0.7368\n",
      "  Problem Classes Avg F1: 0.6054\n",
      " Epoch 16 | Train Loss: 1.3896 | Train F1: 0.7203 | Val Loss: 1.1841 | Val F1: 0.9099 | LR: 2.84e-04\n",
      "         Problem Classes (3,7,14) Avg F1: 0.6054 | ⚠️ Problem classes need attention\n",
      "\n",
      "📈 Epoch 17/100\n"
     ]
    },
    {
     "name": "stderr",
     "output_type": "stream",
     "text": [
      "Loss: 1.0200, Mixup: False, Cutout: False, RandomCrop: True: 100%|██████████| 126/126 [00:11<00:00, 11.14it/s]\n",
      "Val Loss: 1.1434: 100%|██████████| 32/32 [00:01<00:00, 21.36it/s]\n"
     ]
    },
    {
     "name": "stdout",
     "output_type": "stream",
     "text": [
      "  Class 3 F1: 0.6667\n",
      "  Class 7 F1: 0.4516\n",
      "  Class 14 F1: 0.6667\n",
      "  Problem Classes Avg F1: 0.5950\n",
      " Epoch 17 | Train Loss: 1.4021 | Train F1: 0.7302 | Val Loss: 1.1348 | Val F1: 0.9084 | LR: 2.81e-04\n",
      "         Problem Classes (3,7,14) Avg F1: 0.5950 | ⚠️ Problem classes need attention\n",
      "\n",
      "📈 Epoch 18/100\n"
     ]
    },
    {
     "name": "stderr",
     "output_type": "stream",
     "text": [
      "Loss: 1.2509, Mixup: False, Cutout: True, RandomCrop: False: 100%|██████████| 126/126 [00:11<00:00, 11.25it/s]\n",
      "Val Loss: 1.3003: 100%|██████████| 32/32 [00:01<00:00, 20.28it/s]\n"
     ]
    },
    {
     "name": "stdout",
     "output_type": "stream",
     "text": [
      "  Class 3 F1: 0.6047\n",
      "  Class 7 F1: 0.4444\n",
      "  Class 14 F1: 0.5625\n",
      "  Problem Classes Avg F1: 0.5372\n",
      " Epoch 18 | Train Loss: 1.4720 | Train F1: 0.7230 | Val Loss: 1.2123 | Val F1: 0.8864 | LR: 2.79e-04\n",
      "         Problem Classes (3,7,14) Avg F1: 0.5372 | ⚠️ Problem classes need attention\n",
      "\n",
      "📈 Epoch 19/100\n"
     ]
    },
    {
     "name": "stderr",
     "output_type": "stream",
     "text": [
      "Loss: 1.7979, Mixup: False, Cutout: False, RandomCrop: True: 100%|██████████| 126/126 [00:11<00:00, 11.08it/s]\n",
      "Val Loss: 1.0190: 100%|██████████| 32/32 [00:01<00:00, 21.02it/s]\n"
     ]
    },
    {
     "name": "stdout",
     "output_type": "stream",
     "text": [
      "  Class 3 F1: 0.6800\n",
      "  Class 7 F1: 0.4828\n",
      "  Class 14 F1: 0.5714\n",
      "  Problem Classes Avg F1: 0.5781\n",
      " Epoch 19 | Train Loss: 1.4149 | Train F1: 0.7491 | Val Loss: 1.1739 | Val F1: 0.8990 | LR: 2.77e-04\n",
      "         Problem Classes (3,7,14) Avg F1: 0.5781 | ⚠️ Problem classes need attention\n",
      "\n",
      "📈 Epoch 20/100\n"
     ]
    },
    {
     "name": "stderr",
     "output_type": "stream",
     "text": [
      "Loss: 2.2703, Mixup: True, Cutout: False, RandomCrop: False: 100%|██████████| 126/126 [00:11<00:00, 11.13it/s]\n",
      "Val Loss: 1.1542: 100%|██████████| 32/32 [00:01<00:00, 20.24it/s]\n"
     ]
    },
    {
     "name": "stdout",
     "output_type": "stream",
     "text": [
      "  Class 3 F1: 0.7273\n",
      "  Class 7 F1: 0.6486\n",
      "  Class 14 F1: 0.6957\n",
      "  Problem Classes Avg F1: 0.6905\n",
      " Epoch 20 | Train Loss: 1.3904 | Train F1: 0.7404 | Val Loss: 1.1328 | Val F1: 0.9255 | LR: 2.74e-04\n",
      "         Problem Classes (3,7,14) Avg F1: 0.6905 | ⚠️ Problem classes need attention\n",
      "🎉 새로운 최고 성능! F1: 0.9255 (Problem Classes: 0.6905)\n",
      "\n",
      "📈 Epoch 21/100\n"
     ]
    },
    {
     "name": "stderr",
     "output_type": "stream",
     "text": [
      "Loss: 2.4971, Mixup: True, Cutout: False, RandomCrop: False: 100%|██████████| 126/126 [00:11<00:00, 11.15it/s]\n",
      "Val Loss: 0.8286: 100%|██████████| 32/32 [00:01<00:00, 20.35it/s]\n"
     ]
    },
    {
     "name": "stdout",
     "output_type": "stream",
     "text": [
      "  Class 3 F1: 0.6909\n",
      "  Class 7 F1: 0.4667\n",
      "  Class 14 F1: 0.6667\n",
      "  Problem Classes Avg F1: 0.6081\n",
      " Epoch 21 | Train Loss: 1.4064 | Train F1: 0.7759 | Val Loss: 1.1857 | Val F1: 0.9146 | LR: 2.71e-04\n",
      "         Problem Classes (3,7,14) Avg F1: 0.6081 | ⚠️ Problem classes need attention\n",
      "\n",
      "📈 Epoch 22/100\n"
     ]
    },
    {
     "name": "stderr",
     "output_type": "stream",
     "text": [
      "Loss: 1.7090, Mixup: True, Cutout: False, RandomCrop: False: 100%|██████████| 126/126 [00:11<00:00, 11.02it/s]\n",
      "Val Loss: 0.8559: 100%|██████████| 32/32 [00:01<00:00, 20.26it/s]\n"
     ]
    },
    {
     "name": "stdout",
     "output_type": "stream",
     "text": [
      "  Class 3 F1: 0.6923\n",
      "  Class 7 F1: 0.5455\n",
      "  Class 14 F1: 0.6667\n",
      "  Problem Classes Avg F1: 0.6348\n",
      " Epoch 22 | Train Loss: 1.3746 | Train F1: 0.7374 | Val Loss: 1.1465 | Val F1: 0.9188 | LR: 2.69e-04\n",
      "         Problem Classes (3,7,14) Avg F1: 0.6348 | ⚠️ Problem classes need attention\n",
      "\n",
      "📈 Epoch 23/100\n"
     ]
    },
    {
     "name": "stderr",
     "output_type": "stream",
     "text": [
      "Loss: 1.0024, Mixup: False, Cutout: True, RandomCrop: False: 100%|██████████| 126/126 [00:11<00:00, 11.03it/s]\n",
      "Val Loss: 1.3529: 100%|██████████| 32/32 [00:01<00:00, 20.43it/s]\n"
     ]
    },
    {
     "name": "stdout",
     "output_type": "stream",
     "text": [
      "  Class 3 F1: 0.6829\n",
      "  Class 7 F1: 0.7442\n",
      "  Class 14 F1: 0.7368\n",
      "  Problem Classes Avg F1: 0.7213\n",
      " Epoch 23 | Train Loss: 1.3313 | Train F1: 0.7646 | Val Loss: 1.1043 | Val F1: 0.9335 | LR: 2.66e-04\n",
      "         Problem Classes (3,7,14) Avg F1: 0.7213 | ⚠️ Problem classes need attention\n",
      "🎉 새로운 최고 성능! F1: 0.9335 (Problem Classes: 0.7213)\n",
      "\n",
      "📈 Epoch 24/100\n"
     ]
    },
    {
     "name": "stderr",
     "output_type": "stream",
     "text": [
      "Loss: 1.7677, Mixup: True, Cutout: False, RandomCrop: False: 100%|██████████| 126/126 [00:11<00:00, 11.25it/s]\n",
      "Val Loss: 0.9371: 100%|██████████| 32/32 [00:01<00:00, 20.73it/s]\n"
     ]
    },
    {
     "name": "stdout",
     "output_type": "stream",
     "text": [
      "  Class 3 F1: 0.6939\n",
      "  Class 7 F1: 0.6286\n",
      "  Class 14 F1: 0.7778\n",
      "  Problem Classes Avg F1: 0.7001\n",
      " Epoch 24 | Train Loss: 1.3021 | Train F1: 0.7778 | Val Loss: 1.0952 | Val F1: 0.9315 | LR: 2.63e-04\n",
      "         Problem Classes (3,7,14) Avg F1: 0.7001 | ⚠️ Problem classes need attention\n",
      "\n",
      "📈 Epoch 25/100\n"
     ]
    },
    {
     "name": "stderr",
     "output_type": "stream",
     "text": [
      "Loss: 1.0656, Mixup: False, Cutout: False, RandomCrop: True: 100%|██████████| 126/126 [00:11<00:00, 10.96it/s]\n",
      "Val Loss: 1.0219: 100%|██████████| 32/32 [00:01<00:00, 21.22it/s]\n"
     ]
    },
    {
     "name": "stdout",
     "output_type": "stream",
     "text": [
      "  Class 3 F1: 0.6545\n",
      "  Class 7 F1: 0.5882\n",
      "  Class 14 F1: 0.8235\n",
      "  Problem Classes Avg F1: 0.6888\n",
      " Epoch 25 | Train Loss: 1.2929 | Train F1: 0.7767 | Val Loss: 1.1492 | Val F1: 0.9250 | LR: 2.59e-04\n",
      "         Problem Classes (3,7,14) Avg F1: 0.6888 | ⚠️ Problem classes need attention\n",
      "\n",
      "📈 Epoch 26/100\n"
     ]
    },
    {
     "name": "stderr",
     "output_type": "stream",
     "text": [
      "Loss: 1.4929, Mixup: False, Cutout: True, RandomCrop: False: 100%|██████████| 126/126 [00:11<00:00, 11.17it/s]\n",
      "Val Loss: 1.9921: 100%|██████████| 32/32 [00:01<00:00, 21.12it/s]\n"
     ]
    },
    {
     "name": "stdout",
     "output_type": "stream",
     "text": [
      "  Class 3 F1: 0.5128\n",
      "  Class 7 F1: 0.5769\n",
      "  Class 14 F1: 0.7368\n",
      "  Problem Classes Avg F1: 0.6089\n",
      " Epoch 26 | Train Loss: 1.3144 | Train F1: 0.7969 | Val Loss: 1.1688 | Val F1: 0.9051 | LR: 2.56e-04\n",
      "         Problem Classes (3,7,14) Avg F1: 0.6089 | ⚠️ Problem classes need attention\n",
      "\n",
      "📈 Epoch 27/100\n"
     ]
    },
    {
     "name": "stderr",
     "output_type": "stream",
     "text": [
      "Loss: 2.2645, Mixup: True, Cutout: False, RandomCrop: False: 100%|██████████| 126/126 [00:11<00:00, 11.25it/s]\n",
      "Val Loss: 1.1058: 100%|██████████| 32/32 [00:01<00:00, 20.98it/s]\n"
     ]
    },
    {
     "name": "stdout",
     "output_type": "stream",
     "text": [
      "  Class 3 F1: 0.6250\n",
      "  Class 7 F1: 0.6500\n",
      "  Class 14 F1: 0.7778\n",
      "  Problem Classes Avg F1: 0.6843\n",
      " Epoch 27 | Train Loss: 1.3298 | Train F1: 0.7447 | Val Loss: 1.1166 | Val F1: 0.9236 | LR: 2.53e-04\n",
      "         Problem Classes (3,7,14) Avg F1: 0.6843 | ⚠️ Problem classes need attention\n",
      "\n",
      "📈 Epoch 28/100\n"
     ]
    },
    {
     "name": "stderr",
     "output_type": "stream",
     "text": [
      "Loss: 1.1648, Mixup: False, Cutout: False, RandomCrop: True: 100%|██████████| 126/126 [00:11<00:00, 11.13it/s]\n",
      "Val Loss: 0.9453: 100%|██████████| 32/32 [00:01<00:00, 20.89it/s]\n"
     ]
    },
    {
     "name": "stdout",
     "output_type": "stream",
     "text": [
      "  Class 3 F1: 0.6667\n",
      "  Class 7 F1: 0.4000\n",
      "  Class 14 F1: 0.4615\n",
      "  Problem Classes Avg F1: 0.5094\n",
      " Epoch 28 | Train Loss: 1.2970 | Train F1: 0.7587 | Val Loss: 1.3565 | Val F1: 0.8901 | LR: 2.49e-04\n",
      "         Problem Classes (3,7,14) Avg F1: 0.5094 | ⚠️ Problem classes need attention\n",
      "\n",
      "📈 Epoch 29/100\n"
     ]
    },
    {
     "name": "stderr",
     "output_type": "stream",
     "text": [
      "Loss: 0.8303, Mixup: False, Cutout: False, RandomCrop: True: 100%|██████████| 126/126 [00:11<00:00, 11.17it/s]\n",
      "Val Loss: 0.8995: 100%|██████████| 32/32 [00:01<00:00, 20.37it/s]\n"
     ]
    },
    {
     "name": "stdout",
     "output_type": "stream",
     "text": [
      "  Class 3 F1: 0.6441\n",
      "  Class 7 F1: 0.3846\n",
      "  Class 14 F1: 0.6400\n",
      "  Problem Classes Avg F1: 0.5562\n",
      " Epoch 29 | Train Loss: 1.3041 | Train F1: 0.7751 | Val Loss: 1.1988 | Val F1: 0.8996 | LR: 2.46e-04\n",
      "         Problem Classes (3,7,14) Avg F1: 0.5562 | ⚠️ Problem classes need attention\n",
      "\n",
      "📈 Epoch 30/100\n"
     ]
    },
    {
     "name": "stderr",
     "output_type": "stream",
     "text": [
      "Loss: 1.3601, Mixup: False, Cutout: False, RandomCrop: True: 100%|██████████| 126/126 [00:11<00:00, 11.24it/s]\n",
      "Val Loss: 1.3406: 100%|██████████| 32/32 [00:01<00:00, 20.78it/s]\n"
     ]
    },
    {
     "name": "stdout",
     "output_type": "stream",
     "text": [
      "  Class 3 F1: 0.7059\n",
      "  Class 7 F1: 0.5714\n",
      "  Class 14 F1: 0.6667\n",
      "  Problem Classes Avg F1: 0.6480\n",
      " Epoch 30 | Train Loss: 1.2784 | Train F1: 0.7648 | Val Loss: 1.1560 | Val F1: 0.9211 | LR: 2.42e-04\n",
      "         Problem Classes (3,7,14) Avg F1: 0.6480 | ⚠️ Problem classes need attention\n",
      "\n",
      "📈 Epoch 31/100\n"
     ]
    },
    {
     "name": "stderr",
     "output_type": "stream",
     "text": [
      "Loss: 1.1839, Mixup: False, Cutout: False, RandomCrop: True: 100%|██████████| 126/126 [00:11<00:00, 11.09it/s]\n",
      "Val Loss: 0.8712: 100%|██████████| 32/32 [00:01<00:00, 20.37it/s]\n"
     ]
    },
    {
     "name": "stdout",
     "output_type": "stream",
     "text": [
      "  Class 3 F1: 0.7037\n",
      "  Class 7 F1: 0.5517\n",
      "  Class 14 F1: 0.6667\n",
      "  Problem Classes Avg F1: 0.6407\n",
      " Epoch 31 | Train Loss: 1.2718 | Train F1: 0.7516 | Val Loss: 1.1028 | Val F1: 0.9212 | LR: 2.38e-04\n",
      "         Problem Classes (3,7,14) Avg F1: 0.6407 | ⚠️ Problem classes need attention\n",
      "\n",
      "📈 Epoch 32/100\n"
     ]
    },
    {
     "name": "stderr",
     "output_type": "stream",
     "text": [
      "Loss: 0.7909, Mixup: False, Cutout: True, RandomCrop: False: 100%|██████████| 126/126 [00:11<00:00, 11.01it/s]\n",
      "Val Loss: 1.2583: 100%|██████████| 32/32 [00:01<00:00, 20.78it/s]\n"
     ]
    },
    {
     "name": "stdout",
     "output_type": "stream",
     "text": [
      "  Class 3 F1: 0.6154\n",
      "  Class 7 F1: 0.7273\n",
      "  Class 14 F1: 0.6957\n",
      "  Problem Classes Avg F1: 0.6794\n",
      " Epoch 32 | Train Loss: 1.2426 | Train F1: 0.7515 | Val Loss: 1.0792 | Val F1: 0.9215 | LR: 2.34e-04\n",
      "         Problem Classes (3,7,14) Avg F1: 0.6794 | ⚠️ Problem classes need attention\n",
      "\n",
      "📈 Epoch 33/100\n"
     ]
    },
    {
     "name": "stderr",
     "output_type": "stream",
     "text": [
      "Loss: 1.6249, Mixup: True, Cutout: False, RandomCrop: False: 100%|██████████| 126/126 [00:11<00:00, 10.98it/s]\n",
      "Val Loss: 0.9535: 100%|██████████| 32/32 [00:01<00:00, 20.43it/s]\n"
     ]
    },
    {
     "name": "stdout",
     "output_type": "stream",
     "text": [
      "  Class 3 F1: 0.7234\n",
      "  Class 7 F1: 0.6471\n",
      "  Class 14 F1: 0.7500\n",
      "  Problem Classes Avg F1: 0.7068\n",
      " Epoch 33 | Train Loss: 1.2352 | Train F1: 0.7826 | Val Loss: 1.0886 | Val F1: 0.9357 | LR: 2.30e-04\n",
      "         Problem Classes (3,7,14) Avg F1: 0.7068 | ⚠️ Problem classes need attention\n",
      "🎉 새로운 최고 성능! F1: 0.9357 (Problem Classes: 0.7068)\n",
      "\n",
      "📈 Epoch 34/100\n"
     ]
    },
    {
     "name": "stderr",
     "output_type": "stream",
     "text": [
      "Loss: 1.2300, Mixup: True, Cutout: False, RandomCrop: False: 100%|██████████| 126/126 [00:11<00:00, 11.04it/s]\n",
      "Val Loss: 1.2853: 100%|██████████| 32/32 [00:01<00:00, 19.84it/s]\n"
     ]
    },
    {
     "name": "stdout",
     "output_type": "stream",
     "text": [
      "  Class 3 F1: 0.7111\n",
      "  Class 7 F1: 0.6857\n",
      "  Class 14 F1: 0.7368\n",
      "  Problem Classes Avg F1: 0.7112\n",
      " Epoch 34 | Train Loss: 1.2995 | Train F1: 0.7719 | Val Loss: 1.0947 | Val F1: 0.9357 | LR: 2.26e-04\n",
      "         Problem Classes (3,7,14) Avg F1: 0.7112 | ⚠️ Problem classes need attention\n",
      "\n",
      "📈 Epoch 35/100\n"
     ]
    },
    {
     "name": "stderr",
     "output_type": "stream",
     "text": [
      "Loss: 1.3381, Mixup: True, Cutout: False, RandomCrop: False: 100%|██████████| 126/126 [00:11<00:00, 11.15it/s]\n",
      "Val Loss: 0.8140: 100%|██████████| 32/32 [00:01<00:00, 20.97it/s]\n"
     ]
    },
    {
     "name": "stdout",
     "output_type": "stream",
     "text": [
      "  Class 3 F1: 0.7037\n",
      "  Class 7 F1: 0.6250\n",
      "  Class 14 F1: 0.7059\n",
      "  Problem Classes Avg F1: 0.6782\n",
      " Epoch 35 | Train Loss: 1.1827 | Train F1: 0.8365 | Val Loss: 1.1215 | Val F1: 0.9284 | LR: 2.22e-04\n",
      "         Problem Classes (3,7,14) Avg F1: 0.6782 | ⚠️ Problem classes need attention\n",
      "\n",
      "📈 Epoch 36/100\n"
     ]
    },
    {
     "name": "stderr",
     "output_type": "stream",
     "text": [
      "Loss: 1.4209, Mixup: False, Cutout: False, RandomCrop: True: 100%|██████████| 126/126 [00:11<00:00, 11.15it/s]\n",
      "Val Loss: 0.8448: 100%|██████████| 32/32 [00:01<00:00, 20.55it/s]\n"
     ]
    },
    {
     "name": "stdout",
     "output_type": "stream",
     "text": [
      "  Class 3 F1: 0.7200\n",
      "  Class 7 F1: 0.6250\n",
      "  Class 14 F1: 0.7500\n",
      "  Problem Classes Avg F1: 0.6983\n",
      " Epoch 36 | Train Loss: 1.2171 | Train F1: 0.8016 | Val Loss: 1.1377 | Val F1: 0.9315 | LR: 2.18e-04\n",
      "         Problem Classes (3,7,14) Avg F1: 0.6983 | ⚠️ Problem classes need attention\n",
      "\n",
      "📈 Epoch 37/100\n"
     ]
    },
    {
     "name": "stderr",
     "output_type": "stream",
     "text": [
      "Loss: 1.8785, Mixup: True, Cutout: False, RandomCrop: False: 100%|██████████| 126/126 [00:11<00:00, 11.23it/s]\n",
      "Val Loss: 1.1981: 100%|██████████| 32/32 [00:01<00:00, 20.38it/s]\n"
     ]
    },
    {
     "name": "stdout",
     "output_type": "stream",
     "text": [
      "  Class 3 F1: 0.6818\n",
      "  Class 7 F1: 0.7222\n",
      "  Class 14 F1: 0.8000\n",
      "  Problem Classes Avg F1: 0.7347\n",
      " Epoch 37 | Train Loss: 1.2638 | Train F1: 0.7661 | Val Loss: 1.1016 | Val F1: 0.9400 | LR: 2.14e-04\n",
      "         Problem Classes (3,7,14) Avg F1: 0.7347 | ⚠️ Problem classes need attention\n",
      "🎉 새로운 최고 성능! F1: 0.9400 (Problem Classes: 0.7347)\n",
      "\n",
      "📈 Epoch 38/100\n"
     ]
    },
    {
     "name": "stderr",
     "output_type": "stream",
     "text": [
      "Loss: 1.1652, Mixup: False, Cutout: False, RandomCrop: True: 100%|██████████| 126/126 [00:11<00:00, 11.05it/s]\n",
      "Val Loss: 1.1218: 100%|██████████| 32/32 [00:01<00:00, 20.74it/s]\n"
     ]
    },
    {
     "name": "stdout",
     "output_type": "stream",
     "text": [
      "  Class 3 F1: 0.6154\n",
      "  Class 7 F1: 0.7826\n",
      "  Class 14 F1: 0.8889\n",
      "  Problem Classes Avg F1: 0.7623\n",
      " Epoch 38 | Train Loss: 1.2199 | Train F1: 0.7857 | Val Loss: 1.1049 | Val F1: 0.9464 | LR: 2.10e-04\n",
      "         Problem Classes (3,7,14) Avg F1: 0.7623 | ⚠️ Problem classes need attention\n",
      "🎉 새로운 최고 성능! F1: 0.9464 (Problem Classes: 0.7623)\n",
      "\n",
      "📈 Epoch 39/100\n"
     ]
    },
    {
     "name": "stderr",
     "output_type": "stream",
     "text": [
      "Loss: 0.9176, Mixup: False, Cutout: False, RandomCrop: True: 100%|██████████| 126/126 [00:11<00:00, 11.04it/s]\n",
      "Val Loss: 0.9614: 100%|██████████| 32/32 [00:01<00:00, 20.57it/s]\n"
     ]
    },
    {
     "name": "stdout",
     "output_type": "stream",
     "text": [
      "  Class 3 F1: 0.7083\n",
      "  Class 7 F1: 0.6857\n",
      "  Class 14 F1: 0.8889\n",
      "  Problem Classes Avg F1: 0.7610\n",
      " Epoch 39 | Train Loss: 1.2099 | Train F1: 0.7620 | Val Loss: 1.1096 | Val F1: 0.9464 | LR: 2.05e-04\n",
      "         Problem Classes (3,7,14) Avg F1: 0.7610 | ⚠️ Problem classes need attention\n",
      "🎉 새로운 최고 성능! F1: 0.9464 (Problem Classes: 0.7610)\n",
      "\n",
      "📈 Epoch 40/100\n"
     ]
    },
    {
     "name": "stderr",
     "output_type": "stream",
     "text": [
      "Loss: 0.8089, Mixup: False, Cutout: True, RandomCrop: False: 100%|██████████| 126/126 [00:11<00:00, 11.14it/s]\n",
      "Val Loss: 1.5955: 100%|██████████| 32/32 [00:01<00:00, 20.79it/s]\n"
     ]
    },
    {
     "name": "stdout",
     "output_type": "stream",
     "text": [
      "  Class 3 F1: 0.6829\n",
      "  Class 7 F1: 0.7500\n",
      "  Class 14 F1: 0.8235\n",
      "  Problem Classes Avg F1: 0.7522\n",
      " Epoch 40 | Train Loss: 1.2111 | Train F1: 0.8193 | Val Loss: 1.1115 | Val F1: 0.9391 | LR: 2.01e-04\n",
      "         Problem Classes (3,7,14) Avg F1: 0.7522 | ⚠️ Problem classes need attention\n",
      "\n",
      "📈 Epoch 41/100\n"
     ]
    },
    {
     "name": "stderr",
     "output_type": "stream",
     "text": [
      "Loss: 1.0913, Mixup: False, Cutout: True, RandomCrop: False: 100%|██████████| 126/126 [00:11<00:00, 10.91it/s]\n",
      "Val Loss: 0.9899: 100%|██████████| 32/32 [00:01<00:00, 20.79it/s]\n"
     ]
    },
    {
     "name": "stdout",
     "output_type": "stream",
     "text": [
      "  Class 3 F1: 0.7234\n",
      "  Class 7 F1: 0.6061\n",
      "  Class 14 F1: 0.8235\n",
      "  Problem Classes Avg F1: 0.7177\n",
      " Epoch 41 | Train Loss: 1.2731 | Train F1: 0.7600 | Val Loss: 1.1445 | Val F1: 0.9364 | LR: 1.96e-04\n",
      "         Problem Classes (3,7,14) Avg F1: 0.7177 | ⚠️ Problem classes need attention\n",
      "\n",
      "📈 Epoch 42/100\n"
     ]
    },
    {
     "name": "stderr",
     "output_type": "stream",
     "text": [
      "Loss: 2.1811, Mixup: True, Cutout: False, RandomCrop: False: 100%|██████████| 126/126 [00:11<00:00, 11.02it/s]\n",
      "Val Loss: 1.2072: 100%|██████████| 32/32 [00:01<00:00, 20.32it/s]\n"
     ]
    },
    {
     "name": "stdout",
     "output_type": "stream",
     "text": [
      "  Class 3 F1: 0.7083\n",
      "  Class 7 F1: 0.5625\n",
      "  Class 14 F1: 0.8235\n",
      "  Problem Classes Avg F1: 0.6981\n",
      " Epoch 42 | Train Loss: 1.2510 | Train F1: 0.7546 | Val Loss: 1.1330 | Val F1: 0.9297 | LR: 1.92e-04\n",
      "         Problem Classes (3,7,14) Avg F1: 0.6981 | ⚠️ Problem classes need attention\n",
      "\n",
      "📈 Epoch 43/100\n"
     ]
    },
    {
     "name": "stderr",
     "output_type": "stream",
     "text": [
      "Loss: 0.8726, Mixup: False, Cutout: False, RandomCrop: True: 100%|██████████| 126/126 [00:11<00:00, 10.97it/s]\n",
      "Val Loss: 1.4061: 100%|██████████| 32/32 [00:01<00:00, 20.20it/s]\n"
     ]
    },
    {
     "name": "stdout",
     "output_type": "stream",
     "text": [
      "  Class 3 F1: 0.6667\n",
      "  Class 7 F1: 0.6842\n",
      "  Class 14 F1: 0.7619\n",
      "  Problem Classes Avg F1: 0.7043\n",
      " Epoch 43 | Train Loss: 1.1642 | Train F1: 0.8297 | Val Loss: 1.0800 | Val F1: 0.9332 | LR: 1.87e-04\n",
      "         Problem Classes (3,7,14) Avg F1: 0.7043 | ⚠️ Problem classes need attention\n",
      "\n",
      "📈 Epoch 44/100\n"
     ]
    },
    {
     "name": "stderr",
     "output_type": "stream",
     "text": [
      "Loss: 0.5472, Mixup: False, Cutout: True, RandomCrop: False: 100%|██████████| 126/126 [00:11<00:00, 11.09it/s]\n",
      "Val Loss: 1.3356: 100%|██████████| 32/32 [00:01<00:00, 20.40it/s]\n"
     ]
    },
    {
     "name": "stdout",
     "output_type": "stream",
     "text": [
      "  Class 3 F1: 0.5500\n",
      "  Class 7 F1: 0.6047\n",
      "  Class 14 F1: 0.8000\n",
      "  Problem Classes Avg F1: 0.6516\n",
      " Epoch 44 | Train Loss: 1.2091 | Train F1: 0.7702 | Val Loss: 1.1391 | Val F1: 0.9239 | LR: 1.83e-04\n",
      "         Problem Classes (3,7,14) Avg F1: 0.6516 | ⚠️ Problem classes need attention\n",
      "\n",
      "📈 Epoch 45/100\n"
     ]
    },
    {
     "name": "stderr",
     "output_type": "stream",
     "text": [
      "Loss: 0.9876, Mixup: True, Cutout: False, RandomCrop: False: 100%|██████████| 126/126 [00:11<00:00, 11.05it/s]\n",
      "Val Loss: 0.7615: 100%|██████████| 32/32 [00:01<00:00, 20.96it/s]\n"
     ]
    },
    {
     "name": "stdout",
     "output_type": "stream",
     "text": [
      "  Class 3 F1: 0.7170\n",
      "  Class 7 F1: 0.5333\n",
      "  Class 14 F1: 0.7778\n",
      "  Problem Classes Avg F1: 0.6760\n",
      " Epoch 45 | Train Loss: 1.2018 | Train F1: 0.7744 | Val Loss: 1.1026 | Val F1: 0.9290 | LR: 1.78e-04\n",
      "         Problem Classes (3,7,14) Avg F1: 0.6760 | ⚠️ Problem classes need attention\n",
      "\n",
      "📈 Epoch 46/100\n"
     ]
    },
    {
     "name": "stderr",
     "output_type": "stream",
     "text": [
      "Loss: 1.8348, Mixup: True, Cutout: False, RandomCrop: False: 100%|██████████| 126/126 [00:11<00:00, 11.06it/s]\n",
      "Val Loss: 1.2452: 100%|██████████| 32/32 [00:01<00:00, 21.36it/s]\n"
     ]
    },
    {
     "name": "stdout",
     "output_type": "stream",
     "text": [
      "  Class 3 F1: 0.6667\n",
      "  Class 7 F1: 0.6667\n",
      "  Class 14 F1: 0.7273\n",
      "  Problem Classes Avg F1: 0.6869\n",
      " Epoch 46 | Train Loss: 1.2216 | Train F1: 0.7698 | Val Loss: 1.1160 | Val F1: 0.9338 | LR: 1.73e-04\n",
      "         Problem Classes (3,7,14) Avg F1: 0.6869 | ⚠️ Problem classes need attention\n",
      "\n",
      "📈 Epoch 47/100\n"
     ]
    },
    {
     "name": "stderr",
     "output_type": "stream",
     "text": [
      "Loss: 1.2835, Mixup: False, Cutout: False, RandomCrop: True: 100%|██████████| 126/126 [00:11<00:00, 11.14it/s]\n",
      "Val Loss: 2.2322: 100%|██████████| 32/32 [00:01<00:00, 20.51it/s]\n"
     ]
    },
    {
     "name": "stdout",
     "output_type": "stream",
     "text": [
      "  Class 3 F1: 0.5294\n",
      "  Class 7 F1: 0.6531\n",
      "  Class 14 F1: 0.7778\n",
      "  Problem Classes Avg F1: 0.6534\n",
      " Epoch 47 | Train Loss: 1.1518 | Train F1: 0.8090 | Val Loss: 1.2159 | Val F1: 0.9266 | LR: 1.69e-04\n",
      "         Problem Classes (3,7,14) Avg F1: 0.6534 | ⚠️ Problem classes need attention\n",
      "\n",
      "📈 Epoch 48/100\n"
     ]
    },
    {
     "name": "stderr",
     "output_type": "stream",
     "text": [
      "Loss: 1.1417, Mixup: False, Cutout: True, RandomCrop: False: 100%|██████████| 126/126 [00:11<00:00, 11.20it/s]\n",
      "Val Loss: 1.9266: 100%|██████████| 32/32 [00:01<00:00, 20.02it/s]\n"
     ]
    },
    {
     "name": "stdout",
     "output_type": "stream",
     "text": [
      "  Class 3 F1: 0.6111\n",
      "  Class 7 F1: 0.6800\n",
      "  Class 14 F1: 0.7778\n",
      "  Problem Classes Avg F1: 0.6896\n",
      " Epoch 48 | Train Loss: 1.1612 | Train F1: 0.8246 | Val Loss: 1.1302 | Val F1: 0.9323 | LR: 1.64e-04\n",
      "         Problem Classes (3,7,14) Avg F1: 0.6896 | ⚠️ Problem classes need attention\n",
      "\n",
      "📈 Epoch 49/100\n"
     ]
    },
    {
     "name": "stderr",
     "output_type": "stream",
     "text": [
      "Loss: 0.8484, Mixup: False, Cutout: True, RandomCrop: False: 100%|██████████| 126/126 [00:11<00:00, 11.07it/s]\n",
      "Val Loss: 1.3379: 100%|██████████| 32/32 [00:01<00:00, 20.66it/s]\n"
     ]
    },
    {
     "name": "stdout",
     "output_type": "stream",
     "text": [
      "  Class 3 F1: 0.6000\n",
      "  Class 7 F1: 0.6383\n",
      "  Class 14 F1: 0.7500\n",
      "  Problem Classes Avg F1: 0.6628\n",
      " Epoch 49 | Train Loss: 1.1923 | Train F1: 0.7656 | Val Loss: 1.1523 | Val F1: 0.9262 | LR: 1.59e-04\n",
      "         Problem Classes (3,7,14) Avg F1: 0.6628 | ⚠️ Problem classes need attention\n",
      "\n",
      "📈 Epoch 50/100\n"
     ]
    },
    {
     "name": "stderr",
     "output_type": "stream",
     "text": [
      "Loss: 1.2058, Mixup: True, Cutout: False, RandomCrop: False: 100%|██████████| 126/126 [00:11<00:00, 11.10it/s]\n",
      "Val Loss: 1.9435: 100%|██████████| 32/32 [00:01<00:00, 19.87it/s]\n"
     ]
    },
    {
     "name": "stdout",
     "output_type": "stream",
     "text": [
      "  Class 3 F1: 0.6667\n",
      "  Class 7 F1: 0.6047\n",
      "  Class 14 F1: 0.8421\n",
      "  Problem Classes Avg F1: 0.7045\n",
      " Epoch 50 | Train Loss: 1.0941 | Train F1: 0.8461 | Val Loss: 1.1438 | Val F1: 0.9312 | LR: 1.55e-04\n",
      "         Problem Classes (3,7,14) Avg F1: 0.7045 | ⚠️ Problem classes need attention\n",
      "\n",
      "📈 Epoch 51/100\n"
     ]
    },
    {
     "name": "stderr",
     "output_type": "stream",
     "text": [
      "Loss: 0.9265, Mixup: True, Cutout: False, RandomCrop: False: 100%|██████████| 126/126 [00:11<00:00, 11.15it/s]\n",
      "Val Loss: 2.4598: 100%|██████████| 32/32 [00:01<00:00, 20.50it/s]\n"
     ]
    },
    {
     "name": "stdout",
     "output_type": "stream",
     "text": [
      "  Class 3 F1: 0.6364\n",
      "  Class 7 F1: 0.6190\n",
      "  Class 14 F1: 0.7500\n",
      "  Problem Classes Avg F1: 0.6685\n",
      " Epoch 51 | Train Loss: 1.1641 | Train F1: 0.8095 | Val Loss: 1.1492 | Val F1: 0.9284 | LR: 1.50e-04\n",
      "         Problem Classes (3,7,14) Avg F1: 0.6685 | ⚠️ Problem classes need attention\n",
      "\n",
      "📈 Epoch 52/100\n"
     ]
    },
    {
     "name": "stderr",
     "output_type": "stream",
     "text": [
      "Loss: 0.9876, Mixup: False, Cutout: True, RandomCrop: False: 100%|██████████| 126/126 [00:11<00:00, 10.91it/s]\n",
      "Val Loss: 1.8235: 100%|██████████| 32/32 [00:01<00:00, 20.70it/s]\n"
     ]
    },
    {
     "name": "stdout",
     "output_type": "stream",
     "text": [
      "  Class 3 F1: 0.6364\n",
      "  Class 7 F1: 0.6512\n",
      "  Class 14 F1: 0.8235\n",
      "  Problem Classes Avg F1: 0.7037\n",
      " Epoch 52 | Train Loss: 1.1717 | Train F1: 0.7885 | Val Loss: 1.1002 | Val F1: 0.9343 | LR: 1.45e-04\n",
      "         Problem Classes (3,7,14) Avg F1: 0.7037 | ⚠️ Problem classes need attention\n",
      "\n",
      "📈 Epoch 53/100\n"
     ]
    },
    {
     "name": "stderr",
     "output_type": "stream",
     "text": [
      "Loss: 0.7835, Mixup: False, Cutout: True, RandomCrop: False: 100%|██████████| 126/126 [00:11<00:00, 11.16it/s]\n",
      "Val Loss: 0.9874: 100%|██████████| 32/32 [00:01<00:00, 20.57it/s]\n"
     ]
    },
    {
     "name": "stdout",
     "output_type": "stream",
     "text": [
      "  Class 3 F1: 0.7407\n",
      "  Class 7 F1: 0.6857\n",
      "  Class 14 F1: 0.8235\n",
      "  Problem Classes Avg F1: 0.7500\n",
      " Epoch 53 | Train Loss: 1.1524 | Train F1: 0.8110 | Val Loss: 1.1142 | Val F1: 0.9425 | LR: 1.41e-04\n",
      "         Problem Classes (3,7,14) Avg F1: 0.7500 | ⚠️ Problem classes need attention\n",
      "\n",
      "📈 Epoch 54/100\n"
     ]
    },
    {
     "name": "stderr",
     "output_type": "stream",
     "text": [
      "Loss: 0.6604, Mixup: False, Cutout: False, RandomCrop: True: 100%|██████████| 126/126 [00:11<00:00, 11.15it/s]\n",
      "Val Loss: 1.1565: 100%|██████████| 32/32 [00:01<00:00, 20.19it/s]\n"
     ]
    },
    {
     "name": "stdout",
     "output_type": "stream",
     "text": [
      "  Class 3 F1: 0.8085\n",
      "  Class 7 F1: 0.8108\n",
      "  Class 14 F1: 0.8889\n",
      "  Problem Classes Avg F1: 0.8361\n",
      " Epoch 54 | Train Loss: 1.0657 | Train F1: 0.8611 | Val Loss: 1.0603 | Val F1: 0.9616 | LR: 1.36e-04\n",
      "         Problem Classes (3,7,14) Avg F1: 0.8361 | ⚠️ Problem classes need attention\n",
      "🎉 새로운 최고 성능! F1: 0.9616 (Problem Classes: 0.8361)\n",
      "\n",
      "📈 Epoch 55/100\n"
     ]
    },
    {
     "name": "stderr",
     "output_type": "stream",
     "text": [
      "Loss: 1.2791, Mixup: True, Cutout: False, RandomCrop: False: 100%|██████████| 126/126 [00:11<00:00, 11.01it/s]\n",
      "Val Loss: 0.9256: 100%|██████████| 32/32 [00:01<00:00, 20.57it/s]\n"
     ]
    },
    {
     "name": "stdout",
     "output_type": "stream",
     "text": [
      "  Class 3 F1: 0.6957\n",
      "  Class 7 F1: 0.7027\n",
      "  Class 14 F1: 0.8000\n",
      "  Problem Classes Avg F1: 0.7328\n",
      " Epoch 55 | Train Loss: 1.1368 | Train F1: 0.8022 | Val Loss: 1.0566 | Val F1: 0.9412 | LR: 1.31e-04\n",
      "         Problem Classes (3,7,14) Avg F1: 0.7328 | ⚠️ Problem classes need attention\n",
      "\n",
      "📈 Epoch 56/100\n"
     ]
    },
    {
     "name": "stderr",
     "output_type": "stream",
     "text": [
      "Loss: 2.1593, Mixup: True, Cutout: False, RandomCrop: False: 100%|██████████| 126/126 [00:11<00:00, 11.20it/s]\n",
      "Val Loss: 0.9272: 100%|██████████| 32/32 [00:01<00:00, 20.21it/s]\n"
     ]
    },
    {
     "name": "stdout",
     "output_type": "stream",
     "text": [
      "  Class 3 F1: 0.7347\n",
      "  Class 7 F1: 0.7429\n",
      "  Class 14 F1: 0.8889\n",
      "  Problem Classes Avg F1: 0.7888\n",
      " Epoch 56 | Train Loss: 1.1415 | Train F1: 0.7593 | Val Loss: 1.0867 | Val F1: 0.9528 | LR: 1.27e-04\n",
      "         Problem Classes (3,7,14) Avg F1: 0.7888 | ⚠️ Problem classes need attention\n",
      "\n",
      "📈 Epoch 57/100\n"
     ]
    },
    {
     "name": "stderr",
     "output_type": "stream",
     "text": [
      "Loss: 0.7585, Mixup: False, Cutout: True, RandomCrop: False: 100%|██████████| 126/126 [00:11<00:00, 11.23it/s]\n",
      "Val Loss: 0.7970: 100%|██████████| 32/32 [00:01<00:00, 20.09it/s]\n"
     ]
    },
    {
     "name": "stdout",
     "output_type": "stream",
     "text": [
      "  Class 3 F1: 0.7200\n",
      "  Class 7 F1: 0.7059\n",
      "  Class 14 F1: 0.8235\n",
      "  Problem Classes Avg F1: 0.7498\n",
      " Epoch 57 | Train Loss: 1.1234 | Train F1: 0.8090 | Val Loss: 1.0878 | Val F1: 0.9445 | LR: 1.22e-04\n",
      "         Problem Classes (3,7,14) Avg F1: 0.7498 | ⚠️ Problem classes need attention\n",
      "\n",
      "📈 Epoch 58/100\n"
     ]
    },
    {
     "name": "stderr",
     "output_type": "stream",
     "text": [
      "Loss: 1.7377, Mixup: True, Cutout: False, RandomCrop: False: 100%|██████████| 126/126 [00:11<00:00, 11.14it/s]\n",
      "Val Loss: 0.7764: 100%|██████████| 32/32 [00:01<00:00, 20.75it/s]\n"
     ]
    },
    {
     "name": "stdout",
     "output_type": "stream",
     "text": [
      "  Class 3 F1: 0.7170\n",
      "  Class 7 F1: 0.6452\n",
      "  Class 14 F1: 0.8235\n",
      "  Problem Classes Avg F1: 0.7286\n",
      " Epoch 58 | Train Loss: 1.0891 | Train F1: 0.8396 | Val Loss: 1.1034 | Val F1: 0.9407 | LR: 1.17e-04\n",
      "         Problem Classes (3,7,14) Avg F1: 0.7286 | ⚠️ Problem classes need attention\n",
      "\n",
      "📈 Epoch 59/100\n"
     ]
    },
    {
     "name": "stderr",
     "output_type": "stream",
     "text": [
      "Loss: 0.7736, Mixup: False, Cutout: True, RandomCrop: False: 100%|██████████| 126/126 [00:11<00:00, 10.93it/s]\n",
      "Val Loss: 1.0768: 100%|██████████| 32/32 [00:01<00:00, 20.54it/s]\n"
     ]
    },
    {
     "name": "stdout",
     "output_type": "stream",
     "text": [
      "  Class 3 F1: 0.7273\n",
      "  Class 7 F1: 0.7692\n",
      "  Class 14 F1: 0.8889\n",
      "  Problem Classes Avg F1: 0.7951\n",
      " Epoch 59 | Train Loss: 1.0893 | Train F1: 0.8196 | Val Loss: 1.0570 | Val F1: 0.9525 | LR: 1.13e-04\n",
      "         Problem Classes (3,7,14) Avg F1: 0.7951 | ⚠️ Problem classes need attention\n",
      "\n",
      "📈 Epoch 60/100\n"
     ]
    },
    {
     "name": "stderr",
     "output_type": "stream",
     "text": [
      "Loss: 0.7860, Mixup: False, Cutout: True, RandomCrop: False: 100%|██████████| 126/126 [00:11<00:00, 11.00it/s]\n",
      "Val Loss: 1.2465: 100%|██████████| 32/32 [00:01<00:00, 21.54it/s]\n"
     ]
    },
    {
     "name": "stdout",
     "output_type": "stream",
     "text": [
      "  Class 3 F1: 0.7111\n",
      "  Class 7 F1: 0.6486\n",
      "  Class 14 F1: 0.7500\n",
      "  Problem Classes Avg F1: 0.7033\n",
      " Epoch 60 | Train Loss: 1.0882 | Train F1: 0.8374 | Val Loss: 1.0928 | Val F1: 0.9356 | LR: 1.08e-04\n",
      "         Problem Classes (3,7,14) Avg F1: 0.7033 | ⚠️ Problem classes need attention\n",
      "\n",
      "📈 Epoch 61/100\n"
     ]
    },
    {
     "name": "stderr",
     "output_type": "stream",
     "text": [
      "Loss: 1.1951, Mixup: True, Cutout: False, RandomCrop: False: 100%|██████████| 126/126 [00:11<00:00, 11.14it/s]\n",
      "Val Loss: 0.7279: 100%|██████████| 32/32 [00:01<00:00, 19.80it/s]\n"
     ]
    },
    {
     "name": "stdout",
     "output_type": "stream",
     "text": [
      "  Class 3 F1: 0.7391\n",
      "  Class 7 F1: 0.6667\n",
      "  Class 14 F1: 0.8889\n",
      "  Problem Classes Avg F1: 0.7649\n",
      " Epoch 61 | Train Loss: 1.1450 | Train F1: 0.7968 | Val Loss: 1.0327 | Val F1: 0.9458 | LR: 1.04e-04\n",
      "         Problem Classes (3,7,14) Avg F1: 0.7649 | ⚠️ Problem classes need attention\n",
      "\n",
      "📈 Epoch 62/100\n"
     ]
    },
    {
     "name": "stderr",
     "output_type": "stream",
     "text": [
      "Loss: 0.8258, Mixup: True, Cutout: False, RandomCrop: False: 100%|██████████| 126/126 [00:11<00:00, 10.93it/s]\n",
      "Val Loss: 0.7782: 100%|██████████| 32/32 [00:01<00:00, 20.58it/s]\n"
     ]
    },
    {
     "name": "stdout",
     "output_type": "stream",
     "text": [
      "  Class 3 F1: 0.7500\n",
      "  Class 7 F1: 0.7059\n",
      "  Class 14 F1: 0.7500\n",
      "  Problem Classes Avg F1: 0.7353\n",
      " Epoch 62 | Train Loss: 1.1758 | Train F1: 0.7688 | Val Loss: 1.0552 | Val F1: 0.9380 | LR: 9.92e-05\n",
      "         Problem Classes (3,7,14) Avg F1: 0.7353 | ⚠️ Problem classes need attention\n",
      "\n",
      "📈 Epoch 63/100\n"
     ]
    },
    {
     "name": "stderr",
     "output_type": "stream",
     "text": [
      "Loss: 1.6086, Mixup: True, Cutout: False, RandomCrop: False: 100%|██████████| 126/126 [00:11<00:00, 11.04it/s]\n",
      "Val Loss: 0.9011: 100%|██████████| 32/32 [00:01<00:00, 20.34it/s]\n"
     ]
    },
    {
     "name": "stdout",
     "output_type": "stream",
     "text": [
      "  Class 3 F1: 0.7600\n",
      "  Class 7 F1: 0.7273\n",
      "  Class 14 F1: 0.8889\n",
      "  Problem Classes Avg F1: 0.7921\n",
      " Epoch 63 | Train Loss: 1.1125 | Train F1: 0.8217 | Val Loss: 1.0798 | Val F1: 0.9524 | LR: 9.48e-05\n",
      "         Problem Classes (3,7,14) Avg F1: 0.7921 | ⚠️ Problem classes need attention\n",
      "\n",
      "📈 Epoch 64/100\n"
     ]
    },
    {
     "name": "stderr",
     "output_type": "stream",
     "text": [
      "Loss: 0.7942, Mixup: False, Cutout: False, RandomCrop: True: 100%|██████████| 126/126 [00:11<00:00, 11.11it/s]\n",
      "Val Loss: 1.1366: 100%|██████████| 32/32 [00:01<00:00, 20.76it/s]\n"
     ]
    },
    {
     "name": "stdout",
     "output_type": "stream",
     "text": [
      "  Class 3 F1: 0.7391\n",
      "  Class 7 F1: 0.7222\n",
      "  Class 14 F1: 0.8235\n",
      "  Problem Classes Avg F1: 0.7616\n",
      " Epoch 64 | Train Loss: 1.1709 | Train F1: 0.7981 | Val Loss: 1.0705 | Val F1: 0.9439 | LR: 9.04e-05\n",
      "         Problem Classes (3,7,14) Avg F1: 0.7616 | ⚠️ Problem classes need attention\n",
      "\n",
      "📈 Epoch 65/100\n"
     ]
    },
    {
     "name": "stderr",
     "output_type": "stream",
     "text": [
      "Loss: 0.5945, Mixup: False, Cutout: True, RandomCrop: False: 100%|██████████| 126/126 [00:11<00:00, 11.15it/s]\n",
      "Val Loss: 0.9268: 100%|██████████| 32/32 [00:01<00:00, 20.21it/s]\n"
     ]
    },
    {
     "name": "stdout",
     "output_type": "stream",
     "text": [
      "  Class 3 F1: 0.7500\n",
      "  Class 7 F1: 0.7059\n",
      "  Class 14 F1: 0.8889\n",
      "  Problem Classes Avg F1: 0.7816\n",
      " Epoch 65 | Train Loss: 1.1085 | Train F1: 0.8207 | Val Loss: 1.0475 | Val F1: 0.9487 | LR: 8.61e-05\n",
      "         Problem Classes (3,7,14) Avg F1: 0.7816 | ⚠️ Problem classes need attention\n",
      "\n",
      "📈 Epoch 66/100\n"
     ]
    },
    {
     "name": "stderr",
     "output_type": "stream",
     "text": [
      "Loss: 0.7671, Mixup: False, Cutout: True, RandomCrop: False: 100%|██████████| 126/126 [00:11<00:00, 11.28it/s]\n",
      "Val Loss: 1.6006: 100%|██████████| 32/32 [00:01<00:00, 20.96it/s]\n"
     ]
    },
    {
     "name": "stdout",
     "output_type": "stream",
     "text": [
      "  Class 3 F1: 0.7442\n",
      "  Class 7 F1: 0.7692\n",
      "  Class 14 F1: 0.8235\n",
      "  Problem Classes Avg F1: 0.7790\n",
      " Epoch 66 | Train Loss: 1.0602 | Train F1: 0.8178 | Val Loss: 1.0689 | Val F1: 0.9470 | LR: 8.19e-05\n",
      "         Problem Classes (3,7,14) Avg F1: 0.7790 | ⚠️ Problem classes need attention\n",
      "\n",
      "📈 Epoch 67/100\n"
     ]
    },
    {
     "name": "stderr",
     "output_type": "stream",
     "text": [
      "Loss: 1.1273, Mixup: False, Cutout: False, RandomCrop: True: 100%|██████████| 126/126 [00:11<00:00, 11.11it/s]\n",
      "Val Loss: 1.7083: 100%|██████████| 32/32 [00:01<00:00, 20.03it/s]\n"
     ]
    },
    {
     "name": "stdout",
     "output_type": "stream",
     "text": [
      "  Class 3 F1: 0.7179\n",
      "  Class 7 F1: 0.6809\n",
      "  Class 14 F1: 0.7500\n",
      "  Problem Classes Avg F1: 0.7163\n",
      " Epoch 67 | Train Loss: 1.1667 | Train F1: 0.7566 | Val Loss: 1.0882 | Val F1: 0.9374 | LR: 7.77e-05\n",
      "         Problem Classes (3,7,14) Avg F1: 0.7163 | ⚠️ Problem classes need attention\n",
      "\n",
      "📈 Epoch 68/100\n"
     ]
    },
    {
     "name": "stderr",
     "output_type": "stream",
     "text": [
      "Loss: 0.5933, Mixup: False, Cutout: True, RandomCrop: False: 100%|██████████| 126/126 [00:11<00:00, 11.31it/s]\n",
      "Val Loss: 0.8152: 100%|██████████| 32/32 [00:01<00:00, 20.76it/s]\n"
     ]
    },
    {
     "name": "stdout",
     "output_type": "stream",
     "text": [
      "  Class 3 F1: 0.7308\n",
      "  Class 7 F1: 0.6250\n",
      "  Class 14 F1: 0.8235\n",
      "  Problem Classes Avg F1: 0.7264\n",
      " Epoch 68 | Train Loss: 1.0936 | Train F1: 0.8246 | Val Loss: 1.0599 | Val F1: 0.9409 | LR: 7.36e-05\n",
      "         Problem Classes (3,7,14) Avg F1: 0.7264 | ⚠️ Problem classes need attention\n",
      "\n",
      "📈 Epoch 69/100\n"
     ]
    },
    {
     "name": "stderr",
     "output_type": "stream",
     "text": [
      "Loss: 1.1222, Mixup: False, Cutout: True, RandomCrop: False: 100%|██████████| 126/126 [00:11<00:00, 10.96it/s]\n",
      "Val Loss: 1.0114: 100%|██████████| 32/32 [00:01<00:00, 20.66it/s]\n"
     ]
    },
    {
     "name": "stdout",
     "output_type": "stream",
     "text": [
      "  Class 3 F1: 0.7660\n",
      "  Class 7 F1: 0.7429\n",
      "  Class 14 F1: 0.8235\n",
      "  Problem Classes Avg F1: 0.7774\n",
      " Epoch 69 | Train Loss: 1.1540 | Train F1: 0.8432 | Val Loss: 1.0596 | Val F1: 0.9467 | LR: 6.96e-05\n",
      "         Problem Classes (3,7,14) Avg F1: 0.7774 | ⚠️ Problem classes need attention\n",
      "\n",
      "📈 Epoch 70/100\n"
     ]
    },
    {
     "name": "stderr",
     "output_type": "stream",
     "text": [
      "Loss: 1.4119, Mixup: True, Cutout: False, RandomCrop: False: 100%|██████████| 126/126 [00:11<00:00, 11.12it/s]\n",
      "Val Loss: 1.0389: 100%|██████████| 32/32 [00:01<00:00, 20.80it/s]\n"
     ]
    },
    {
     "name": "stdout",
     "output_type": "stream",
     "text": [
      "  Class 3 F1: 0.7826\n",
      "  Class 7 F1: 0.7778\n",
      "  Class 14 F1: 0.7500\n",
      "  Problem Classes Avg F1: 0.7701\n",
      " Epoch 70 | Train Loss: 1.1432 | Train F1: 0.8028 | Val Loss: 1.0628 | Val F1: 0.9430 | LR: 6.57e-05\n",
      "         Problem Classes (3,7,14) Avg F1: 0.7701 | ⚠️ Problem classes need attention\n",
      "\n",
      "📈 Epoch 71/100\n"
     ]
    },
    {
     "name": "stderr",
     "output_type": "stream",
     "text": [
      "Loss: 0.7710, Mixup: False, Cutout: False, RandomCrop: True: 100%|██████████| 126/126 [00:11<00:00, 11.05it/s]\n",
      "Val Loss: 1.0116: 100%|██████████| 32/32 [00:01<00:00, 20.04it/s]\n"
     ]
    },
    {
     "name": "stdout",
     "output_type": "stream",
     "text": [
      "  Class 3 F1: 0.7755\n",
      "  Class 7 F1: 0.6471\n",
      "  Class 14 F1: 0.8235\n",
      "  Problem Classes Avg F1: 0.7487\n",
      " Epoch 71 | Train Loss: 1.1020 | Train F1: 0.8212 | Val Loss: 1.0684 | Val F1: 0.9435 | LR: 6.18e-05\n",
      "         Problem Classes (3,7,14) Avg F1: 0.7487 | ⚠️ Problem classes need attention\n",
      "\n",
      "📈 Epoch 72/100\n"
     ]
    },
    {
     "name": "stderr",
     "output_type": "stream",
     "text": [
      "Loss: 1.1258, Mixup: False, Cutout: True, RandomCrop: False: 100%|██████████| 126/126 [00:11<00:00, 10.98it/s]\n",
      "Val Loss: 0.8590: 100%|██████████| 32/32 [00:01<00:00, 20.61it/s]\n"
     ]
    },
    {
     "name": "stdout",
     "output_type": "stream",
     "text": [
      "  Class 3 F1: 0.7347\n",
      "  Class 7 F1: 0.6667\n",
      "  Class 14 F1: 0.8235\n",
      "  Problem Classes Avg F1: 0.7416\n",
      " Epoch 72 | Train Loss: 1.1069 | Train F1: 0.7924 | Val Loss: 1.0658 | Val F1: 0.9404 | LR: 5.81e-05\n",
      "         Problem Classes (3,7,14) Avg F1: 0.7416 | ⚠️ Problem classes need attention\n",
      "\n",
      "📈 Epoch 73/100\n"
     ]
    },
    {
     "name": "stderr",
     "output_type": "stream",
     "text": [
      "Loss: 1.1177, Mixup: False, Cutout: True, RandomCrop: False: 100%|██████████| 126/126 [00:11<00:00, 11.23it/s]\n",
      "Val Loss: 1.0647: 100%|██████████| 32/32 [00:01<00:00, 20.30it/s]\n"
     ]
    },
    {
     "name": "stdout",
     "output_type": "stream",
     "text": [
      "  Class 3 F1: 0.7391\n",
      "  Class 7 F1: 0.7222\n",
      "  Class 14 F1: 0.8235\n",
      "  Problem Classes Avg F1: 0.7616\n",
      " Epoch 73 | Train Loss: 1.1621 | Train F1: 0.7868 | Val Loss: 1.0482 | Val F1: 0.9439 | LR: 5.44e-05\n",
      "         Problem Classes (3,7,14) Avg F1: 0.7616 | ⚠️ Problem classes need attention\n",
      "\n",
      "📈 Epoch 74/100\n"
     ]
    },
    {
     "name": "stderr",
     "output_type": "stream",
     "text": [
      "Loss: 2.2399, Mixup: True, Cutout: False, RandomCrop: False: 100%|██████████| 126/126 [00:11<00:00, 11.15it/s]\n",
      "Val Loss: 1.2165: 100%|██████████| 32/32 [00:01<00:00, 20.92it/s]\n"
     ]
    },
    {
     "name": "stdout",
     "output_type": "stream",
     "text": [
      "  Class 3 F1: 0.7083\n",
      "  Class 7 F1: 0.6471\n",
      "  Class 14 F1: 0.8889\n",
      "  Problem Classes Avg F1: 0.7481\n",
      " Epoch 74 | Train Loss: 1.0645 | Train F1: 0.8287 | Val Loss: 1.0443 | Val F1: 0.9428 | LR: 5.08e-05\n",
      "         Problem Classes (3,7,14) Avg F1: 0.7481 | ⚠️ Problem classes need attention\n",
      "\n",
      "📈 Epoch 75/100\n"
     ]
    },
    {
     "name": "stderr",
     "output_type": "stream",
     "text": [
      "Loss: 0.7961, Mixup: False, Cutout: True, RandomCrop: False: 100%|██████████| 126/126 [00:11<00:00, 11.00it/s]\n",
      "Val Loss: 1.3467: 100%|██████████| 32/32 [00:01<00:00, 20.89it/s]\n"
     ]
    },
    {
     "name": "stdout",
     "output_type": "stream",
     "text": [
      "  Class 3 F1: 0.6957\n",
      "  Class 7 F1: 0.6667\n",
      "  Class 14 F1: 0.8889\n",
      "  Problem Classes Avg F1: 0.7504\n",
      " Epoch 75 | Train Loss: 1.1384 | Train F1: 0.7381 | Val Loss: 1.0573 | Val F1: 0.9420 | LR: 4.73e-05\n",
      "         Problem Classes (3,7,14) Avg F1: 0.7504 | ⚠️ Problem classes need attention\n",
      "\n",
      "📈 Epoch 76/100\n"
     ]
    },
    {
     "name": "stderr",
     "output_type": "stream",
     "text": [
      "Loss: 1.3289, Mixup: False, Cutout: False, RandomCrop: True: 100%|██████████| 126/126 [00:11<00:00, 11.17it/s]\n",
      "Val Loss: 1.1288: 100%|██████████| 32/32 [00:01<00:00, 19.91it/s]\n"
     ]
    },
    {
     "name": "stdout",
     "output_type": "stream",
     "text": [
      "  Class 3 F1: 0.6957\n",
      "  Class 7 F1: 0.6111\n",
      "  Class 14 F1: 0.8889\n",
      "  Problem Classes Avg F1: 0.7319\n",
      " Epoch 76 | Train Loss: 1.0707 | Train F1: 0.7713 | Val Loss: 1.0609 | Val F1: 0.9399 | LR: 4.39e-05\n",
      "         Problem Classes (3,7,14) Avg F1: 0.7319 | ⚠️ Problem classes need attention\n",
      "\n",
      "📈 Epoch 77/100\n"
     ]
    },
    {
     "name": "stderr",
     "output_type": "stream",
     "text": [
      "Loss: 0.7180, Mixup: False, Cutout: False, RandomCrop: True: 100%|██████████| 126/126 [00:11<00:00, 11.22it/s]\n",
      "Val Loss: 1.2838: 100%|██████████| 32/32 [00:01<00:00, 21.50it/s]\n"
     ]
    },
    {
     "name": "stdout",
     "output_type": "stream",
     "text": [
      "  Class 3 F1: 0.7273\n",
      "  Class 7 F1: 0.7027\n",
      "  Class 14 F1: 0.8235\n",
      "  Problem Classes Avg F1: 0.7512\n",
      " Epoch 77 | Train Loss: 1.1019 | Train F1: 0.8205 | Val Loss: 1.0688 | Val F1: 0.9441 | LR: 4.07e-05\n",
      "         Problem Classes (3,7,14) Avg F1: 0.7512 | ⚠️ Problem classes need attention\n",
      "\n",
      "📈 Epoch 78/100\n"
     ]
    },
    {
     "name": "stderr",
     "output_type": "stream",
     "text": [
      "Loss: 0.6068, Mixup: False, Cutout: True, RandomCrop: False: 100%|██████████| 126/126 [00:11<00:00, 11.13it/s]\n",
      "Val Loss: 1.1613: 100%|██████████| 32/32 [00:01<00:00, 20.58it/s]\n"
     ]
    },
    {
     "name": "stdout",
     "output_type": "stream",
     "text": [
      "  Class 3 F1: 0.7805\n",
      "  Class 7 F1: 0.7500\n",
      "  Class 14 F1: 0.7500\n",
      "  Problem Classes Avg F1: 0.7602\n",
      " Epoch 78 | Train Loss: 1.1104 | Train F1: 0.8184 | Val Loss: 1.0619 | Val F1: 0.9440 | LR: 3.75e-05\n",
      "         Problem Classes (3,7,14) Avg F1: 0.7602 | ⚠️ Problem classes need attention\n",
      "\n",
      "📈 Epoch 79/100\n"
     ]
    },
    {
     "name": "stderr",
     "output_type": "stream",
     "text": [
      "Loss: 2.3371, Mixup: True, Cutout: False, RandomCrop: False: 100%|██████████| 126/126 [00:11<00:00, 11.11it/s]\n",
      "Val Loss: 1.2343: 100%|██████████| 32/32 [00:01<00:00, 20.09it/s]\n"
     ]
    },
    {
     "name": "stdout",
     "output_type": "stream",
     "text": [
      "  Class 3 F1: 0.7619\n",
      "  Class 7 F1: 0.7500\n",
      "  Class 14 F1: 0.8889\n",
      "  Problem Classes Avg F1: 0.8003\n",
      " Epoch 79 | Train Loss: 1.0736 | Train F1: 0.8499 | Val Loss: 1.0395 | Val F1: 0.9520 | LR: 3.44e-05\n",
      "         Problem Classes (3,7,14) Avg F1: 0.8003 | ⚠️ Problem classes need attention\n",
      "\n",
      "📈 Epoch 80/100\n"
     ]
    },
    {
     "name": "stderr",
     "output_type": "stream",
     "text": [
      "Loss: 1.5280, Mixup: True, Cutout: False, RandomCrop: False: 100%|██████████| 126/126 [00:11<00:00, 11.07it/s]\n",
      "Val Loss: 1.2281: 100%|██████████| 32/32 [00:01<00:00, 20.66it/s]\n"
     ]
    },
    {
     "name": "stdout",
     "output_type": "stream",
     "text": [
      "  Class 3 F1: 0.7317\n",
      "  Class 7 F1: 0.7500\n",
      "  Class 14 F1: 0.8889\n",
      "  Problem Classes Avg F1: 0.7902\n",
      " Epoch 80 | Train Loss: 1.0916 | Train F1: 0.8154 | Val Loss: 1.0373 | Val F1: 0.9523 | LR: 3.15e-05\n",
      "         Problem Classes (3,7,14) Avg F1: 0.7902 | ⚠️ Problem classes need attention\n",
      "\n",
      "📈 Epoch 81/100\n"
     ]
    },
    {
     "name": "stderr",
     "output_type": "stream",
     "text": [
      "Loss: 0.6312, Mixup: False, Cutout: True, RandomCrop: False: 100%|██████████| 126/126 [00:11<00:00, 11.11it/s]\n",
      "Val Loss: 1.2159: 100%|██████████| 32/32 [00:01<00:00, 19.86it/s]\n"
     ]
    },
    {
     "name": "stdout",
     "output_type": "stream",
     "text": [
      "  Class 3 F1: 0.7273\n",
      "  Class 7 F1: 0.7368\n",
      "  Class 14 F1: 0.8889\n",
      "  Problem Classes Avg F1: 0.7843\n",
      " Epoch 81 | Train Loss: 1.0725 | Train F1: 0.7952 | Val Loss: 1.0321 | Val F1: 0.9492 | LR: 2.86e-05\n",
      "         Problem Classes (3,7,14) Avg F1: 0.7843 | ⚠️ Problem classes need attention\n",
      "\n",
      "📈 Epoch 82/100\n"
     ]
    },
    {
     "name": "stderr",
     "output_type": "stream",
     "text": [
      "Loss: 0.4927, Mixup: False, Cutout: True, RandomCrop: False: 100%|██████████| 126/126 [00:11<00:00, 10.99it/s]\n",
      "Val Loss: 1.1227: 100%|██████████| 32/32 [00:01<00:00, 20.53it/s]\n"
     ]
    },
    {
     "name": "stdout",
     "output_type": "stream",
     "text": [
      "  Class 3 F1: 0.7273\n",
      "  Class 7 F1: 0.7027\n",
      "  Class 14 F1: 0.8421\n",
      "  Problem Classes Avg F1: 0.7574\n",
      " Epoch 82 | Train Loss: 1.1432 | Train F1: 0.7691 | Val Loss: 1.0326 | Val F1: 0.9448 | LR: 2.59e-05\n",
      "         Problem Classes (3,7,14) Avg F1: 0.7574 | ⚠️ Problem classes need attention\n",
      "\n",
      "📈 Epoch 83/100\n"
     ]
    },
    {
     "name": "stderr",
     "output_type": "stream",
     "text": [
      "Loss: 0.9569, Mixup: True, Cutout: False, RandomCrop: False: 100%|██████████| 126/126 [00:11<00:00, 10.83it/s]\n",
      "Val Loss: 1.0440: 100%|██████████| 32/32 [00:01<00:00, 20.95it/s]\n"
     ]
    },
    {
     "name": "stdout",
     "output_type": "stream",
     "text": [
      "  Class 3 F1: 0.7500\n",
      "  Class 7 F1: 0.7059\n",
      "  Class 14 F1: 0.8889\n",
      "  Problem Classes Avg F1: 0.7816\n",
      " Epoch 83 | Train Loss: 1.1017 | Train F1: 0.8092 | Val Loss: 1.0446 | Val F1: 0.9475 | LR: 2.34e-05\n",
      "         Problem Classes (3,7,14) Avg F1: 0.7816 | ⚠️ Problem classes need attention\n",
      "\n",
      "📈 Epoch 84/100\n"
     ]
    },
    {
     "name": "stderr",
     "output_type": "stream",
     "text": [
      "Loss: 1.2595, Mixup: True, Cutout: False, RandomCrop: False: 100%|██████████| 126/126 [00:11<00:00, 11.02it/s]\n",
      "Val Loss: 1.2392: 100%|██████████| 32/32 [00:01<00:00, 20.43it/s]\n"
     ]
    },
    {
     "name": "stdout",
     "output_type": "stream",
     "text": [
      "  Class 3 F1: 0.7273\n",
      "  Class 7 F1: 0.7368\n",
      "  Class 14 F1: 0.8889\n",
      "  Problem Classes Avg F1: 0.7843\n",
      " Epoch 84 | Train Loss: 1.0657 | Train F1: 0.8548 | Val Loss: 1.0331 | Val F1: 0.9492 | LR: 2.09e-05\n",
      "         Problem Classes (3,7,14) Avg F1: 0.7843 | ⚠️ Problem classes need attention\n",
      "\n",
      "📈 Epoch 85/100\n"
     ]
    },
    {
     "name": "stderr",
     "output_type": "stream",
     "text": [
      "Loss: 1.0765, Mixup: True, Cutout: False, RandomCrop: False: 100%|██████████| 126/126 [00:11<00:00, 10.97it/s]\n",
      "Val Loss: 1.1319: 100%|██████████| 32/32 [00:01<00:00, 20.87it/s]\n"
     ]
    },
    {
     "name": "stdout",
     "output_type": "stream",
     "text": [
      "  Class 3 F1: 0.7727\n",
      "  Class 7 F1: 0.7568\n",
      "  Class 14 F1: 0.8889\n",
      "  Problem Classes Avg F1: 0.8061\n",
      " Epoch 85 | Train Loss: 1.0437 | Train F1: 0.8093 | Val Loss: 1.0384 | Val F1: 0.9551 | LR: 1.86e-05\n",
      "         Problem Classes (3,7,14) Avg F1: 0.8061 | ⚠️ Problem classes need attention\n",
      "\n",
      "📈 Epoch 86/100\n"
     ]
    },
    {
     "name": "stderr",
     "output_type": "stream",
     "text": [
      "Loss: 1.1255, Mixup: False, Cutout: True, RandomCrop: False: 100%|██████████| 126/126 [00:11<00:00, 11.16it/s]\n",
      "Val Loss: 1.1655: 100%|██████████| 32/32 [00:01<00:00, 20.02it/s]\n"
     ]
    },
    {
     "name": "stdout",
     "output_type": "stream",
     "text": [
      "  Class 3 F1: 0.7556\n",
      "  Class 7 F1: 0.7368\n",
      "  Class 14 F1: 0.8889\n",
      "  Problem Classes Avg F1: 0.7938\n",
      " Epoch 86 | Train Loss: 1.0232 | Train F1: 0.8526 | Val Loss: 1.0322 | Val F1: 0.9528 | LR: 1.63e-05\n",
      "         Problem Classes (3,7,14) Avg F1: 0.7938 | ⚠️ Problem classes need attention\n",
      "\n",
      "📈 Epoch 87/100\n"
     ]
    },
    {
     "name": "stderr",
     "output_type": "stream",
     "text": [
      "Loss: 0.7656, Mixup: False, Cutout: False, RandomCrop: True: 100%|██████████| 126/126 [00:11<00:00, 11.01it/s]\n",
      "Val Loss: 0.9705: 100%|██████████| 32/32 [00:01<00:00, 20.91it/s]\n"
     ]
    },
    {
     "name": "stdout",
     "output_type": "stream",
     "text": [
      "  Class 3 F1: 0.7917\n",
      "  Class 7 F1: 0.7429\n",
      "  Class 14 F1: 0.8889\n",
      "  Problem Classes Avg F1: 0.8078\n",
      " Epoch 87 | Train Loss: 1.0347 | Train F1: 0.7982 | Val Loss: 1.0308 | Val F1: 0.9552 | LR: 1.43e-05\n",
      "         Problem Classes (3,7,14) Avg F1: 0.8078 | ⚠️ Problem classes need attention\n",
      "\n",
      "📈 Epoch 88/100\n"
     ]
    },
    {
     "name": "stderr",
     "output_type": "stream",
     "text": [
      "Loss: 0.9486, Mixup: False, Cutout: True, RandomCrop: False: 100%|██████████| 126/126 [00:11<00:00, 11.00it/s]\n",
      "Val Loss: 1.2198: 100%|██████████| 32/32 [00:01<00:00, 20.09it/s]\n"
     ]
    },
    {
     "name": "stdout",
     "output_type": "stream",
     "text": [
      "  Class 3 F1: 0.7442\n",
      "  Class 7 F1: 0.7368\n",
      "  Class 14 F1: 0.8889\n",
      "  Problem Classes Avg F1: 0.7900\n",
      " Epoch 88 | Train Loss: 1.1034 | Train F1: 0.7941 | Val Loss: 1.0468 | Val F1: 0.9522 | LR: 1.23e-05\n",
      "         Problem Classes (3,7,14) Avg F1: 0.7900 | ⚠️ Problem classes need attention\n",
      "\n",
      "📈 Epoch 89/100\n"
     ]
    },
    {
     "name": "stderr",
     "output_type": "stream",
     "text": [
      "Loss: 1.4915, Mixup: True, Cutout: False, RandomCrop: False: 100%|██████████| 126/126 [00:11<00:00, 11.21it/s]\n",
      "Val Loss: 1.0333: 100%|██████████| 32/32 [00:01<00:00, 21.75it/s]\n"
     ]
    },
    {
     "name": "stdout",
     "output_type": "stream",
     "text": [
      "  Class 3 F1: 0.7556\n",
      "  Class 7 F1: 0.7568\n",
      "  Class 14 F1: 0.8889\n",
      "  Problem Classes Avg F1: 0.8004\n",
      " Epoch 89 | Train Loss: 1.0314 | Train F1: 0.8617 | Val Loss: 1.0371 | Val F1: 0.9520 | LR: 1.05e-05\n",
      "         Problem Classes (3,7,14) Avg F1: 0.8004 | ⚠️ Problem classes need attention\n",
      "\n",
      "📈 Epoch 90/100\n"
     ]
    },
    {
     "name": "stderr",
     "output_type": "stream",
     "text": [
      "Loss: 0.7196, Mixup: False, Cutout: False, RandomCrop: True: 100%|██████████| 126/126 [00:11<00:00, 11.04it/s]\n",
      "Val Loss: 1.0314: 100%|██████████| 32/32 [00:01<00:00, 20.29it/s]\n"
     ]
    },
    {
     "name": "stdout",
     "output_type": "stream",
     "text": [
      "  Class 3 F1: 0.8000\n",
      "  Class 7 F1: 0.7778\n",
      "  Class 14 F1: 0.8889\n",
      "  Problem Classes Avg F1: 0.8222\n",
      " Epoch 90 | Train Loss: 1.0632 | Train F1: 0.8012 | Val Loss: 1.0408 | Val F1: 0.9579 | LR: 8.87e-06\n",
      "         Problem Classes (3,7,14) Avg F1: 0.8222 | ⚠️ Problem classes need attention\n",
      "\n",
      "📈 Epoch 91/100\n"
     ]
    },
    {
     "name": "stderr",
     "output_type": "stream",
     "text": [
      "Loss: 1.4181, Mixup: True, Cutout: False, RandomCrop: False: 100%|██████████| 126/126 [00:11<00:00, 11.11it/s]\n",
      "Val Loss: 1.0600: 100%|██████████| 32/32 [00:01<00:00, 20.99it/s]\n"
     ]
    },
    {
     "name": "stdout",
     "output_type": "stream",
     "text": [
      "  Class 3 F1: 0.7442\n",
      "  Class 7 F1: 0.7368\n",
      "  Class 14 F1: 0.8889\n",
      "  Problem Classes Avg F1: 0.7900\n",
      " Epoch 91 | Train Loss: 1.0396 | Train F1: 0.8357 | Val Loss: 1.0344 | Val F1: 0.9522 | LR: 7.34e-06\n",
      "         Problem Classes (3,7,14) Avg F1: 0.7900 | ⚠️ Problem classes need attention\n",
      "\n",
      "📈 Epoch 92/100\n"
     ]
    },
    {
     "name": "stderr",
     "output_type": "stream",
     "text": [
      "Loss: 0.7682, Mixup: False, Cutout: True, RandomCrop: False: 100%|██████████| 126/126 [00:11<00:00, 10.95it/s]\n",
      "Val Loss: 1.0277: 100%|██████████| 32/32 [00:01<00:00, 20.30it/s]\n"
     ]
    },
    {
     "name": "stdout",
     "output_type": "stream",
     "text": [
      "  Class 3 F1: 0.7391\n",
      "  Class 7 F1: 0.7222\n",
      "  Class 14 F1: 0.8889\n",
      "  Problem Classes Avg F1: 0.7834\n",
      " Epoch 92 | Train Loss: 1.1045 | Train F1: 0.7827 | Val Loss: 1.0405 | Val F1: 0.9490 | LR: 5.96e-06\n",
      "         Problem Classes (3,7,14) Avg F1: 0.7834 | ⚠️ Problem classes need attention\n",
      "\n",
      "📈 Epoch 93/100\n"
     ]
    },
    {
     "name": "stderr",
     "output_type": "stream",
     "text": [
      "Loss: 0.4969, Mixup: False, Cutout: True, RandomCrop: False: 100%|██████████| 126/126 [00:11<00:00, 10.85it/s]\n",
      "Val Loss: 1.2244: 100%|██████████| 32/32 [00:01<00:00, 20.45it/s]\n"
     ]
    },
    {
     "name": "stdout",
     "output_type": "stream",
     "text": [
      "  Class 3 F1: 0.7143\n",
      "  Class 7 F1: 0.7179\n",
      "  Class 14 F1: 0.8889\n",
      "  Problem Classes Avg F1: 0.7737\n",
      " Epoch 93 | Train Loss: 1.0731 | Train F1: 0.7798 | Val Loss: 1.0359 | Val F1: 0.9493 | LR: 4.71e-06\n",
      "         Problem Classes (3,7,14) Avg F1: 0.7737 | ⚠️ Problem classes need attention\n",
      "\n",
      "📈 Epoch 94/100\n"
     ]
    },
    {
     "name": "stderr",
     "output_type": "stream",
     "text": [
      "Loss: 1.2793, Mixup: True, Cutout: False, RandomCrop: False: 100%|██████████| 126/126 [00:11<00:00, 11.02it/s]\n",
      "Val Loss: 1.0110: 100%|██████████| 32/32 [00:01<00:00, 21.60it/s]\n"
     ]
    },
    {
     "name": "stdout",
     "output_type": "stream",
     "text": [
      "  Class 3 F1: 0.7727\n",
      "  Class 7 F1: 0.7568\n",
      "  Class 14 F1: 0.8889\n",
      "  Problem Classes Avg F1: 0.8061\n",
      " Epoch 94 | Train Loss: 1.1094 | Train F1: 0.7955 | Val Loss: 1.0361 | Val F1: 0.9551 | LR: 3.61e-06\n",
      "         Problem Classes (3,7,14) Avg F1: 0.8061 | ⚠️ Problem classes need attention\n",
      "\n",
      "📈 Epoch 95/100\n"
     ]
    },
    {
     "name": "stderr",
     "output_type": "stream",
     "text": [
      "Loss: 0.8125, Mixup: False, Cutout: False, RandomCrop: True: 100%|██████████| 126/126 [00:11<00:00, 11.13it/s]\n",
      "Val Loss: 0.9615: 100%|██████████| 32/32 [00:01<00:00, 20.70it/s]\n"
     ]
    },
    {
     "name": "stdout",
     "output_type": "stream",
     "text": [
      "  Class 3 F1: 0.7755\n",
      "  Class 7 F1: 0.7273\n",
      "  Class 14 F1: 0.8889\n",
      "  Problem Classes Avg F1: 0.7972\n",
      " Epoch 95 | Train Loss: 1.0445 | Train F1: 0.8106 | Val Loss: 1.0406 | Val F1: 0.9515 | LR: 2.66e-06\n",
      "         Problem Classes (3,7,14) Avg F1: 0.7972 | ⚠️ Problem classes need attention\n",
      "\n",
      "📈 Epoch 96/100\n"
     ]
    },
    {
     "name": "stderr",
     "output_type": "stream",
     "text": [
      "Loss: 0.7636, Mixup: False, Cutout: False, RandomCrop: True: 100%|██████████| 126/126 [00:11<00:00, 11.17it/s]\n",
      "Val Loss: 1.2914: 100%|██████████| 32/32 [00:01<00:00, 20.15it/s]\n"
     ]
    },
    {
     "name": "stdout",
     "output_type": "stream",
     "text": [
      "  Class 3 F1: 0.7727\n",
      "  Class 7 F1: 0.7568\n",
      "  Class 14 F1: 0.8889\n",
      "  Problem Classes Avg F1: 0.8061\n",
      " Epoch 96 | Train Loss: 1.1220 | Train F1: 0.8258 | Val Loss: 1.0573 | Val F1: 0.9551 | LR: 1.85e-06\n",
      "         Problem Classes (3,7,14) Avg F1: 0.8061 | ⚠️ Problem classes need attention\n",
      "\n",
      "📈 Epoch 97/100\n"
     ]
    },
    {
     "name": "stderr",
     "output_type": "stream",
     "text": [
      "Loss: 0.7771, Mixup: False, Cutout: True, RandomCrop: False: 100%|██████████| 126/126 [00:11<00:00, 11.15it/s]\n",
      "Val Loss: 1.0552: 100%|██████████| 32/32 [00:01<00:00, 20.65it/s]\n"
     ]
    },
    {
     "name": "stdout",
     "output_type": "stream",
     "text": [
      "  Class 3 F1: 0.7391\n",
      "  Class 7 F1: 0.7222\n",
      "  Class 14 F1: 0.8235\n",
      "  Problem Classes Avg F1: 0.7616\n",
      " Epoch 97 | Train Loss: 1.0823 | Train F1: 0.8054 | Val Loss: 1.0485 | Val F1: 0.9439 | LR: 1.18e-06\n",
      "         Problem Classes (3,7,14) Avg F1: 0.7616 | ⚠️ Problem classes need attention\n",
      "\n",
      "📈 Epoch 98/100\n"
     ]
    },
    {
     "name": "stderr",
     "output_type": "stream",
     "text": [
      "Loss: 1.1238, Mixup: False, Cutout: True, RandomCrop: False: 100%|██████████| 126/126 [00:11<00:00, 11.08it/s]\n",
      "Val Loss: 1.2797: 100%|██████████| 32/32 [00:01<00:00, 20.74it/s]\n"
     ]
    },
    {
     "name": "stdout",
     "output_type": "stream",
     "text": [
      "  Class 3 F1: 0.7442\n",
      "  Class 7 F1: 0.7368\n",
      "  Class 14 F1: 0.8889\n",
      "  Problem Classes Avg F1: 0.7900\n",
      " Epoch 98 | Train Loss: 1.1084 | Train F1: 0.8117 | Val Loss: 1.0492 | Val F1: 0.9522 | LR: 6.66e-07\n",
      "         Problem Classes (3,7,14) Avg F1: 0.7900 | ⚠️ Problem classes need attention\n",
      "\n",
      "📈 Epoch 99/100\n"
     ]
    },
    {
     "name": "stderr",
     "output_type": "stream",
     "text": [
      "Loss: 1.1212, Mixup: False, Cutout: False, RandomCrop: True: 100%|██████████| 126/126 [00:11<00:00, 11.14it/s]\n",
      "Val Loss: 1.0333: 100%|██████████| 32/32 [00:01<00:00, 20.85it/s]\n"
     ]
    },
    {
     "name": "stdout",
     "output_type": "stream",
     "text": [
      "  Class 3 F1: 0.7660\n",
      "  Class 7 F1: 0.7429\n",
      "  Class 14 F1: 0.8235\n",
      "  Problem Classes Avg F1: 0.7774\n",
      " Epoch 99 | Train Loss: 1.0506 | Train F1: 0.8800 | Val Loss: 1.0510 | Val F1: 0.9467 | LR: 2.96e-07\n",
      "         Problem Classes (3,7,14) Avg F1: 0.7774 | ⚠️ Problem classes need attention\n",
      "\n",
      "📈 Epoch 100/100\n"
     ]
    },
    {
     "name": "stderr",
     "output_type": "stream",
     "text": [
      "Loss: 0.5885, Mixup: False, Cutout: True, RandomCrop: False: 100%|██████████| 126/126 [00:11<00:00, 11.18it/s]\n",
      "Val Loss: 1.1514: 100%|██████████| 32/32 [00:01<00:00, 19.76it/s]\n"
     ]
    },
    {
     "name": "stdout",
     "output_type": "stream",
     "text": [
      "  Class 3 F1: 0.7556\n",
      "  Class 7 F1: 0.7568\n",
      "  Class 14 F1: 0.8889\n",
      "  Problem Classes Avg F1: 0.8004\n",
      " Epoch 100 | Train Loss: 1.0509 | Train F1: 0.8495 | Val Loss: 1.0405 | Val F1: 0.9520 | LR: 7.40e-08\n",
      "         Problem Classes (3,7,14) Avg F1: 0.8004 | ⚠️ Problem classes need attention\n",
      "\n",
      " Fold 1 완료!\n",
      " 최고 Validation F1: 0.9616\n",
      " 학습된 에폭: 100/100\n"
     ]
    },
    {
     "data": {
      "text/html": [],
      "text/plain": [
       "<IPython.core.display.HTML object>"
      ]
     },
     "metadata": {},
     "output_type": "display_data"
    },
    {
     "data": {
      "text/html": [
       "<br>    <style><br>        .wandb-row {<br>            display: flex;<br>            flex-direction: row;<br>            flex-wrap: wrap;<br>            justify-content: flex-start;<br>            width: 100%;<br>        }<br>        .wandb-col {<br>            display: flex;<br>            flex-direction: column;<br>            flex-basis: 100%;<br>            flex: 1;<br>            padding: 10px;<br>        }<br>    </style><br><div class=\"wandb-row\"><div class=\"wandb-col\"><h3>Run history:</h3><br/><table class=\"wandb\"><tr><td>best_performance/epoch</td><td>▁▁▁▁▂▂▂▃▃▄▄▅▆▆▆█</td></tr><tr><td>best_performance/problem_classes_f1</td><td>▁▃▂▃▄▄▄▅▆▆▇▆▇▇▇█</td></tr><tr><td>best_performance/val_acc</td><td>▁▄▅▅▆▆▇▇▇▇▇▇████</td></tr><tr><td>best_performance/val_f1</td><td>▁▄▄▅▆▆▆▇▇▇▇▇████</td></tr><tr><td>best_performance/val_loss</td><td>█▇▆▄▄▃▃▂▂▂▁▁▁▁▂▁</td></tr><tr><td>fold_1/all_class_0_f1</td><td>▁</td></tr><tr><td>fold_1/all_class_10_f1</td><td>▁</td></tr><tr><td>fold_1/all_class_11_f1</td><td>▁</td></tr><tr><td>fold_1/all_class_12_f1</td><td>▁</td></tr><tr><td>fold_1/all_class_13_f1</td><td>▁</td></tr><tr><td>+23</td><td>...</td></tr></table><br/></div><div class=\"wandb-col\"><h3>Run summary:</h3><br/><table class=\"wandb\"><tr><td>best_performance/epoch</td><td>54</td></tr><tr><td>best_performance/problem_classes_f1</td><td>0.83607</td></tr><tr><td>best_performance/val_acc</td><td>0.96178</td></tr><tr><td>best_performance/val_f1</td><td>0.96157</td></tr><tr><td>best_performance/val_loss</td><td>1.06025</td></tr><tr><td>fold_1/all_class_0_f1</td><td>1</td></tr><tr><td>fold_1/all_class_10_f1</td><td>0.97561</td></tr><tr><td>fold_1/all_class_11_f1</td><td>0.97436</td></tr><tr><td>fold_1/all_class_12_f1</td><td>1</td></tr><tr><td>fold_1/all_class_13_f1</td><td>0.93333</td></tr><tr><td>+24</td><td>...</td></tr></table><br/></div></div>"
      ],
      "text/plain": [
       "<IPython.core.display.HTML object>"
      ]
     },
     "metadata": {},
     "output_type": "display_data"
    },
    {
     "data": {
      "text/html": [
       " View run <strong style=\"color:#cdcd00\">fold-1-efficientnet_b3-1308</strong> at: <a href='https://wandb.ai/kimsunmin0227-hufs/document-classification-team-CV/runs/d5zo4qa1' target=\"_blank\">https://wandb.ai/kimsunmin0227-hufs/document-classification-team-CV/runs/d5zo4qa1</a><br> View project at: <a href='https://wandb.ai/kimsunmin0227-hufs/document-classification-team-CV' target=\"_blank\">https://wandb.ai/kimsunmin0227-hufs/document-classification-team-CV</a><br>Synced 5 W&B file(s), 1 media file(s), 2 artifact file(s) and 1 other file(s)"
      ],
      "text/plain": [
       "<IPython.core.display.HTML object>"
      ]
     },
     "metadata": {},
     "output_type": "display_data"
    },
    {
     "data": {
      "text/html": [
       "Find logs at: <code>./wandb/run-20250908_130808-d5zo4qa1/logs</code>"
      ],
      "text/plain": [
       "<IPython.core.display.HTML object>"
      ]
     },
     "metadata": {},
     "output_type": "display_data"
    },
    {
     "name": "stdout",
     "output_type": "stream",
     "text": [
      "\n",
      "==================================================\n",
      " FOLD 2/5\n",
      "==================================================\n"
     ]
    },
    {
     "data": {
      "text/html": [
       "creating run (0.2s)"
      ],
      "text/plain": [
       "<IPython.core.display.HTML object>"
      ]
     },
     "metadata": {},
     "output_type": "display_data"
    },
    {
     "data": {
      "text/html": [
       "Tracking run with wandb version 0.21.3"
      ],
      "text/plain": [
       "<IPython.core.display.HTML object>"
      ]
     },
     "metadata": {},
     "output_type": "display_data"
    },
    {
     "data": {
      "text/html": [
       "Run data is saved locally in <code>/root/computervisioncompetition-cv-1/mywork/experiments/wandb/run-20250908_132957-w31413kf</code>"
      ],
      "text/plain": [
       "<IPython.core.display.HTML object>"
      ]
     },
     "metadata": {},
     "output_type": "display_data"
    },
    {
     "data": {
      "text/html": [
       "Syncing run <strong><a href='https://wandb.ai/kimsunmin0227-hufs/document-classification-team-CV/runs/w31413kf' target=\"_blank\">fold-2-efficientnet_b3-1329</a></strong> to <a href='https://wandb.ai/kimsunmin0227-hufs/document-classification-team-CV' target=\"_blank\">Weights & Biases</a> (<a href='https://wandb.me/developer-guide' target=\"_blank\">docs</a>)<br>"
      ],
      "text/plain": [
       "<IPython.core.display.HTML object>"
      ]
     },
     "metadata": {},
     "output_type": "display_data"
    },
    {
     "data": {
      "text/html": [
       " View project at <a href='https://wandb.ai/kimsunmin0227-hufs/document-classification-team-CV' target=\"_blank\">https://wandb.ai/kimsunmin0227-hufs/document-classification-team-CV</a>"
      ],
      "text/plain": [
       "<IPython.core.display.HTML object>"
      ]
     },
     "metadata": {},
     "output_type": "display_data"
    },
    {
     "data": {
      "text/html": [
       " View run at <a href='https://wandb.ai/kimsunmin0227-hufs/document-classification-team-CV/runs/w31413kf' target=\"_blank\">https://wandb.ai/kimsunmin0227-hufs/document-classification-team-CV/runs/w31413kf</a>"
      ],
      "text/plain": [
       "<IPython.core.display.HTML object>"
      ]
     },
     "metadata": {},
     "output_type": "display_data"
    },
    {
     "name": "stdout",
     "output_type": "stream",
     "text": [
      "📊 Fold 2 Dashboard: https://wandb.ai/kimsunmin0227-hufs/document-classification-team-CV/runs/w31413kf\n",
      "Train samples: 1256, Validation samples: 314\n",
      " 모델 학습 시작 - Fold 2\n",
      "\n",
      "📈 Epoch 1/100\n"
     ]
    },
    {
     "name": "stderr",
     "output_type": "stream",
     "text": [
      "Loss: 2.4978, Mixup: True, Cutout: False, RandomCrop: False: 100%|██████████| 126/126 [00:11<00:00, 11.09it/s]\n",
      "Val Loss: 2.8784: 100%|██████████| 32/32 [00:01<00:00, 20.42it/s]\n"
     ]
    },
    {
     "name": "stdout",
     "output_type": "stream",
     "text": [
      "  Class 3 F1: 0.2308\n",
      "  Class 7 F1: 0.2192\n",
      "  Class 14 F1: 0.3529\n",
      "  Problem Classes Avg F1: 0.2676\n",
      " Epoch  1 | Train Loss: 2.5639 | Train F1: 0.2708 | Val Loss: 1.8629 | Val F1: 0.5691 | LR: 3.00e-04\n",
      "         Problem Classes (3,7,14) Avg F1: 0.2676 | ✅ Problem classes performing well\n",
      "🎉 새로운 최고 성능! F1: 0.5691 (Problem Classes: 0.2676)\n",
      "\n",
      "📈 Epoch 2/100\n"
     ]
    },
    {
     "name": "stderr",
     "output_type": "stream",
     "text": [
      "Loss: 2.1071, Mixup: False, Cutout: False, RandomCrop: True: 100%|██████████| 126/126 [00:11<00:00, 10.78it/s]\n",
      "Val Loss: 1.4435: 100%|██████████| 32/32 [00:01<00:00, 20.50it/s]\n"
     ]
    },
    {
     "name": "stdout",
     "output_type": "stream",
     "text": [
      "  Class 3 F1: 0.4000\n",
      "  Class 7 F1: 0.2581\n",
      "  Class 14 F1: 0.3462\n",
      "  Problem Classes Avg F1: 0.3347\n",
      " Epoch  2 | Train Loss: 2.0685 | Train F1: 0.4699 | Val Loss: 1.5243 | Val F1: 0.7382 | LR: 3.00e-04\n",
      "         Problem Classes (3,7,14) Avg F1: 0.3347 | ⚠️ Problem classes need attention\n",
      "🎉 새로운 최고 성능! F1: 0.7382 (Problem Classes: 0.3347)\n",
      "\n",
      "📈 Epoch 3/100\n"
     ]
    },
    {
     "name": "stderr",
     "output_type": "stream",
     "text": [
      "Loss: 2.7395, Mixup: True, Cutout: False, RandomCrop: False: 100%|██████████| 126/126 [00:11<00:00, 11.03it/s]\n",
      "Val Loss: 1.5087: 100%|██████████| 32/32 [00:01<00:00, 20.72it/s]\n"
     ]
    },
    {
     "name": "stdout",
     "output_type": "stream",
     "text": [
      "  Class 3 F1: 0.5652\n",
      "  Class 7 F1: 0.2143\n",
      "  Class 14 F1: 0.1667\n",
      "  Problem Classes Avg F1: 0.3154\n",
      " Epoch  3 | Train Loss: 1.7829 | Train F1: 0.5690 | Val Loss: 1.4439 | Val F1: 0.8082 | LR: 3.00e-04\n",
      "         Problem Classes (3,7,14) Avg F1: 0.3154 | ⚠️ Problem classes need attention\n",
      "🎉 새로운 최고 성능! F1: 0.8082 (Problem Classes: 0.3154)\n",
      "\n",
      "📈 Epoch 4/100\n"
     ]
    },
    {
     "name": "stderr",
     "output_type": "stream",
     "text": [
      "Loss: 2.5044, Mixup: False, Cutout: True, RandomCrop: False: 100%|██████████| 126/126 [00:11<00:00, 11.14it/s]\n",
      "Val Loss: 1.8225: 100%|██████████| 32/32 [00:01<00:00, 20.38it/s]\n"
     ]
    },
    {
     "name": "stdout",
     "output_type": "stream",
     "text": [
      "  Class 3 F1: 0.1600\n",
      "  Class 7 F1: 0.4578\n",
      "  Class 14 F1: 0.1333\n",
      "  Problem Classes Avg F1: 0.2504\n",
      " Epoch  4 | Train Loss: 1.6879 | Train F1: 0.6388 | Val Loss: 1.4800 | Val F1: 0.7714 | LR: 2.99e-04\n",
      "         Problem Classes (3,7,14) Avg F1: 0.2504 | ⚠️ Problem classes need attention\n",
      "\n",
      "📈 Epoch 5/100\n"
     ]
    },
    {
     "name": "stderr",
     "output_type": "stream",
     "text": [
      "Loss: 1.4004, Mixup: False, Cutout: True, RandomCrop: False: 100%|██████████| 126/126 [00:11<00:00, 11.05it/s]\n",
      "Val Loss: 1.5759: 100%|██████████| 32/32 [00:01<00:00, 19.76it/s]\n"
     ]
    },
    {
     "name": "stdout",
     "output_type": "stream",
     "text": [
      "  Class 3 F1: 0.4528\n",
      "  Class 7 F1: 0.3030\n",
      "  Class 14 F1: 0.3243\n",
      "  Problem Classes Avg F1: 0.3601\n",
      " Epoch  5 | Train Loss: 1.6088 | Train F1: 0.6854 | Val Loss: 1.3525 | Val F1: 0.7943 | LR: 2.99e-04\n",
      "         Problem Classes (3,7,14) Avg F1: 0.3601 | ⚠️ Problem classes need attention\n",
      "\n",
      "📈 Epoch 6/100\n"
     ]
    },
    {
     "name": "stderr",
     "output_type": "stream",
     "text": [
      "Loss: 1.4612, Mixup: False, Cutout: True, RandomCrop: False: 100%|██████████| 126/126 [00:11<00:00, 11.04it/s]\n",
      "Val Loss: 1.6253: 100%|██████████| 32/32 [00:01<00:00, 21.08it/s]\n"
     ]
    },
    {
     "name": "stdout",
     "output_type": "stream",
     "text": [
      "  Class 3 F1: 0.5714\n",
      "  Class 7 F1: 0.3077\n",
      "  Class 14 F1: 0.4348\n",
      "  Problem Classes Avg F1: 0.4380\n",
      " Epoch  6 | Train Loss: 1.5949 | Train F1: 0.6446 | Val Loss: 1.3403 | Val F1: 0.8463 | LR: 2.98e-04\n",
      "         Problem Classes (3,7,14) Avg F1: 0.4380 | ⚠️ Problem classes need attention\n",
      "🎉 새로운 최고 성능! F1: 0.8463 (Problem Classes: 0.4380)\n",
      "\n",
      "📈 Epoch 7/100\n"
     ]
    },
    {
     "name": "stderr",
     "output_type": "stream",
     "text": [
      "Loss: 1.4261, Mixup: True, Cutout: False, RandomCrop: False: 100%|██████████| 126/126 [00:11<00:00, 11.17it/s]\n",
      "Val Loss: 0.9758: 100%|██████████| 32/32 [00:01<00:00, 20.46it/s]\n"
     ]
    },
    {
     "name": "stdout",
     "output_type": "stream",
     "text": [
      "  Class 3 F1: 0.5507\n",
      "  Class 7 F1: 0.3333\n",
      "  Class 14 F1: 0.4444\n",
      "  Problem Classes Avg F1: 0.4428\n",
      " Epoch  7 | Train Loss: 1.5275 | Train F1: 0.7129 | Val Loss: 1.2912 | Val F1: 0.8548 | LR: 2.97e-04\n",
      "         Problem Classes (3,7,14) Avg F1: 0.4428 | ⚠️ Problem classes need attention\n",
      "🎉 새로운 최고 성능! F1: 0.8548 (Problem Classes: 0.4428)\n",
      "\n",
      "📈 Epoch 8/100\n"
     ]
    },
    {
     "name": "stderr",
     "output_type": "stream",
     "text": [
      "Loss: 2.5649, Mixup: True, Cutout: False, RandomCrop: False: 100%|██████████| 126/126 [00:11<00:00, 11.06it/s]\n",
      "Val Loss: 0.9620: 100%|██████████| 32/32 [00:01<00:00, 20.17it/s]\n"
     ]
    },
    {
     "name": "stdout",
     "output_type": "stream",
     "text": [
      "  Class 3 F1: 0.5938\n",
      "  Class 7 F1: 0.3704\n",
      "  Class 14 F1: 0.3077\n",
      "  Problem Classes Avg F1: 0.4239\n",
      " Epoch  8 | Train Loss: 1.4992 | Train F1: 0.7069 | Val Loss: 1.2895 | Val F1: 0.8497 | LR: 2.96e-04\n",
      "         Problem Classes (3,7,14) Avg F1: 0.4239 | ⚠️ Problem classes need attention\n",
      "\n",
      "📈 Epoch 9/100\n"
     ]
    },
    {
     "name": "stderr",
     "output_type": "stream",
     "text": [
      "Loss: 1.3201, Mixup: False, Cutout: False, RandomCrop: True: 100%|██████████| 126/126 [00:11<00:00, 11.04it/s]\n",
      "Val Loss: 0.8537: 100%|██████████| 32/32 [00:01<00:00, 19.85it/s]\n"
     ]
    },
    {
     "name": "stdout",
     "output_type": "stream",
     "text": [
      "  Class 3 F1: 0.6129\n",
      "  Class 7 F1: 0.5143\n",
      "  Class 14 F1: 0.3529\n",
      "  Problem Classes Avg F1: 0.4934\n",
      " Epoch  9 | Train Loss: 1.4812 | Train F1: 0.7311 | Val Loss: 1.2544 | Val F1: 0.8754 | LR: 2.95e-04\n",
      "         Problem Classes (3,7,14) Avg F1: 0.4934 | ⚠️ Problem classes need attention\n",
      "🎉 새로운 최고 성능! F1: 0.8754 (Problem Classes: 0.4934)\n",
      "\n",
      "📈 Epoch 10/100\n"
     ]
    },
    {
     "name": "stderr",
     "output_type": "stream",
     "text": [
      "Loss: 0.9386, Mixup: False, Cutout: False, RandomCrop: True: 100%|██████████| 126/126 [00:11<00:00, 11.03it/s]\n",
      "Val Loss: 0.7895: 100%|██████████| 32/32 [00:01<00:00, 20.61it/s]\n"
     ]
    },
    {
     "name": "stdout",
     "output_type": "stream",
     "text": [
      "  Class 3 F1: 0.6441\n",
      "  Class 7 F1: 0.4667\n",
      "  Class 14 F1: 0.5000\n",
      "  Problem Classes Avg F1: 0.5369\n",
      " Epoch 10 | Train Loss: 1.5259 | Train F1: 0.6884 | Val Loss: 1.2663 | Val F1: 0.9065 | LR: 2.94e-04\n",
      "         Problem Classes (3,7,14) Avg F1: 0.5369 | ⚠️ Problem classes need attention\n",
      "🎉 새로운 최고 성능! F1: 0.9065 (Problem Classes: 0.5369)\n",
      "\n",
      "📈 Epoch 11/100\n"
     ]
    },
    {
     "name": "stderr",
     "output_type": "stream",
     "text": [
      "Loss: 1.2456, Mixup: False, Cutout: True, RandomCrop: False: 100%|██████████| 126/126 [00:11<00:00, 10.81it/s]\n",
      "Val Loss: 1.1959: 100%|██████████| 32/32 [00:01<00:00, 20.67it/s]\n"
     ]
    },
    {
     "name": "stdout",
     "output_type": "stream",
     "text": [
      "  Class 3 F1: 0.5294\n",
      "  Class 7 F1: 0.5000\n",
      "  Class 14 F1: 0.4242\n",
      "  Problem Classes Avg F1: 0.4846\n",
      " Epoch 11 | Train Loss: 1.4153 | Train F1: 0.7546 | Val Loss: 1.2044 | Val F1: 0.8791 | LR: 2.93e-04\n",
      "         Problem Classes (3,7,14) Avg F1: 0.4846 | ⚠️ Problem classes need attention\n",
      "\n",
      "📈 Epoch 12/100\n"
     ]
    },
    {
     "name": "stderr",
     "output_type": "stream",
     "text": [
      "Loss: 1.1105, Mixup: False, Cutout: False, RandomCrop: True: 100%|██████████| 126/126 [00:11<00:00, 11.03it/s]\n",
      "Val Loss: 0.7871: 100%|██████████| 32/32 [00:01<00:00, 20.84it/s]\n"
     ]
    },
    {
     "name": "stdout",
     "output_type": "stream",
     "text": [
      "  Class 3 F1: 0.7059\n",
      "  Class 7 F1: 0.5000\n",
      "  Class 14 F1: 0.4211\n",
      "  Problem Classes Avg F1: 0.5423\n",
      " Epoch 12 | Train Loss: 1.3976 | Train F1: 0.7675 | Val Loss: 1.1454 | Val F1: 0.8978 | LR: 2.91e-04\n",
      "         Problem Classes (3,7,14) Avg F1: 0.5423 | ⚠️ Problem classes need attention\n",
      "\n",
      "📈 Epoch 13/100\n"
     ]
    },
    {
     "name": "stderr",
     "output_type": "stream",
     "text": [
      "Loss: 2.0993, Mixup: False, Cutout: True, RandomCrop: False: 100%|██████████| 126/126 [00:11<00:00, 11.16it/s]\n",
      "Val Loss: 0.7730: 100%|██████████| 32/32 [00:01<00:00, 20.90it/s]\n"
     ]
    },
    {
     "name": "stdout",
     "output_type": "stream",
     "text": [
      "  Class 3 F1: 0.7170\n",
      "  Class 7 F1: 0.3846\n",
      "  Class 14 F1: 0.5333\n",
      "  Problem Classes Avg F1: 0.5450\n",
      " Epoch 13 | Train Loss: 1.4808 | Train F1: 0.7092 | Val Loss: 1.3411 | Val F1: 0.8936 | LR: 2.89e-04\n",
      "         Problem Classes (3,7,14) Avg F1: 0.5450 | ⚠️ Problem classes need attention\n",
      "\n",
      "📈 Epoch 14/100\n"
     ]
    },
    {
     "name": "stderr",
     "output_type": "stream",
     "text": [
      "Loss: 2.0160, Mixup: False, Cutout: False, RandomCrop: True: 100%|██████████| 126/126 [00:11<00:00, 10.96it/s]\n",
      "Val Loss: 0.8743: 100%|██████████| 32/32 [00:01<00:00, 20.67it/s]\n"
     ]
    },
    {
     "name": "stdout",
     "output_type": "stream",
     "text": [
      "  Class 3 F1: 0.6792\n",
      "  Class 7 F1: 0.4000\n",
      "  Class 14 F1: 0.6400\n",
      "  Problem Classes Avg F1: 0.5731\n",
      " Epoch 14 | Train Loss: 1.4727 | Train F1: 0.6856 | Val Loss: 1.2068 | Val F1: 0.9167 | LR: 2.88e-04\n",
      "         Problem Classes (3,7,14) Avg F1: 0.5731 | ⚠️ Problem classes need attention\n",
      "🎉 새로운 최고 성능! F1: 0.9167 (Problem Classes: 0.5731)\n",
      "\n",
      "📈 Epoch 15/100\n"
     ]
    },
    {
     "name": "stderr",
     "output_type": "stream",
     "text": [
      "Loss: 1.5980, Mixup: True, Cutout: False, RandomCrop: False: 100%|██████████| 126/126 [00:11<00:00, 11.15it/s]\n",
      "Val Loss: 0.7256: 100%|██████████| 32/32 [00:01<00:00, 20.05it/s]\n"
     ]
    },
    {
     "name": "stdout",
     "output_type": "stream",
     "text": [
      "  Class 3 F1: 0.6441\n",
      "  Class 7 F1: 0.3871\n",
      "  Class 14 F1: 0.5000\n",
      "  Problem Classes Avg F1: 0.5104\n",
      " Epoch 15 | Train Loss: 1.4411 | Train F1: 0.7088 | Val Loss: 1.2034 | Val F1: 0.8894 | LR: 2.86e-04\n",
      "         Problem Classes (3,7,14) Avg F1: 0.5104 | ⚠️ Problem classes need attention\n",
      "\n",
      "📈 Epoch 16/100\n"
     ]
    },
    {
     "name": "stderr",
     "output_type": "stream",
     "text": [
      "Loss: 0.8645, Mixup: False, Cutout: True, RandomCrop: False: 100%|██████████| 126/126 [00:11<00:00, 11.05it/s]\n",
      "Val Loss: 0.7332: 100%|██████████| 32/32 [00:01<00:00, 20.59it/s]\n"
     ]
    },
    {
     "name": "stdout",
     "output_type": "stream",
     "text": [
      "  Class 3 F1: 0.6349\n",
      "  Class 7 F1: 0.3200\n",
      "  Class 14 F1: 0.4444\n",
      "  Problem Classes Avg F1: 0.4665\n",
      " Epoch 16 | Train Loss: 1.3274 | Train F1: 0.7742 | Val Loss: 1.3020 | Val F1: 0.8876 | LR: 2.84e-04\n",
      "         Problem Classes (3,7,14) Avg F1: 0.4665 | ⚠️ Problem classes need attention\n",
      "\n",
      "📈 Epoch 17/100\n"
     ]
    },
    {
     "name": "stderr",
     "output_type": "stream",
     "text": [
      "Loss: 0.9562, Mixup: False, Cutout: False, RandomCrop: True: 100%|██████████| 126/126 [00:11<00:00, 11.04it/s]\n",
      "Val Loss: 0.8193: 100%|██████████| 32/32 [00:01<00:00, 20.40it/s]\n"
     ]
    },
    {
     "name": "stdout",
     "output_type": "stream",
     "text": [
      "  Class 3 F1: 0.7037\n",
      "  Class 7 F1: 0.4444\n",
      "  Class 14 F1: 0.5217\n",
      "  Problem Classes Avg F1: 0.5566\n",
      " Epoch 17 | Train Loss: 1.4318 | Train F1: 0.7191 | Val Loss: 1.1774 | Val F1: 0.8987 | LR: 2.81e-04\n",
      "         Problem Classes (3,7,14) Avg F1: 0.5566 | ⚠️ Problem classes need attention\n",
      "\n",
      "📈 Epoch 18/100\n"
     ]
    },
    {
     "name": "stderr",
     "output_type": "stream",
     "text": [
      "Loss: 0.9191, Mixup: False, Cutout: True, RandomCrop: False: 100%|██████████| 126/126 [00:11<00:00, 11.09it/s]\n",
      "Val Loss: 0.6989: 100%|██████████| 32/32 [00:01<00:00, 20.17it/s]\n"
     ]
    },
    {
     "name": "stdout",
     "output_type": "stream",
     "text": [
      "  Class 3 F1: 0.7018\n",
      "  Class 7 F1: 0.4000\n",
      "  Class 14 F1: 0.6667\n",
      "  Problem Classes Avg F1: 0.5895\n",
      " Epoch 18 | Train Loss: 1.4531 | Train F1: 0.7194 | Val Loss: 1.2052 | Val F1: 0.9139 | LR: 2.79e-04\n",
      "         Problem Classes (3,7,14) Avg F1: 0.5895 | ⚠️ Problem classes need attention\n",
      "\n",
      "📈 Epoch 19/100\n"
     ]
    },
    {
     "name": "stderr",
     "output_type": "stream",
     "text": [
      "Loss: 1.7204, Mixup: True, Cutout: False, RandomCrop: False: 100%|██████████| 126/126 [00:11<00:00, 10.87it/s]\n",
      "Val Loss: 0.6850: 100%|██████████| 32/32 [00:01<00:00, 20.04it/s]\n"
     ]
    },
    {
     "name": "stdout",
     "output_type": "stream",
     "text": [
      "  Class 3 F1: 0.6667\n",
      "  Class 7 F1: 0.3333\n",
      "  Class 14 F1: 0.4103\n",
      "  Problem Classes Avg F1: 0.4701\n",
      " Epoch 19 | Train Loss: 1.3665 | Train F1: 0.7483 | Val Loss: 1.2790 | Val F1: 0.8664 | LR: 2.77e-04\n",
      "         Problem Classes (3,7,14) Avg F1: 0.4701 | ⚠️ Problem classes need attention\n",
      "\n",
      "📈 Epoch 20/100\n"
     ]
    },
    {
     "name": "stderr",
     "output_type": "stream",
     "text": [
      "Loss: 1.4973, Mixup: False, Cutout: True, RandomCrop: False: 100%|██████████| 126/126 [00:11<00:00, 10.98it/s]\n",
      "Val Loss: 0.7055: 100%|██████████| 32/32 [00:01<00:00, 20.28it/s]\n"
     ]
    },
    {
     "name": "stdout",
     "output_type": "stream",
     "text": [
      "  Class 3 F1: 0.6909\n",
      "  Class 7 F1: 0.5000\n",
      "  Class 14 F1: 0.6667\n",
      "  Problem Classes Avg F1: 0.6192\n",
      " Epoch 20 | Train Loss: 1.4400 | Train F1: 0.7442 | Val Loss: 1.1435 | Val F1: 0.9150 | LR: 2.74e-04\n",
      "         Problem Classes (3,7,14) Avg F1: 0.6192 | ⚠️ Problem classes need attention\n",
      "\n",
      "📈 Epoch 21/100\n"
     ]
    },
    {
     "name": "stderr",
     "output_type": "stream",
     "text": [
      "Loss: 1.9466, Mixup: False, Cutout: True, RandomCrop: False: 100%|██████████| 126/126 [00:11<00:00, 10.94it/s]\n",
      "Val Loss: 0.7539: 100%|██████████| 32/32 [00:01<00:00, 20.05it/s]\n"
     ]
    },
    {
     "name": "stdout",
     "output_type": "stream",
     "text": [
      "  Class 3 F1: 0.6552\n",
      "  Class 7 F1: 0.0952\n",
      "  Class 14 F1: 0.7500\n",
      "  Problem Classes Avg F1: 0.5001\n",
      " Epoch 21 | Train Loss: 1.3592 | Train F1: 0.7327 | Val Loss: 1.2980 | Val F1: 0.8989 | LR: 2.71e-04\n",
      "         Problem Classes (3,7,14) Avg F1: 0.5001 | ⚠️ Problem classes need attention\n",
      "\n",
      "📈 Epoch 22/100\n"
     ]
    },
    {
     "name": "stderr",
     "output_type": "stream",
     "text": [
      "Loss: 1.9045, Mixup: True, Cutout: False, RandomCrop: False: 100%|██████████| 126/126 [00:11<00:00, 11.04it/s]\n",
      "Val Loss: 0.6949: 100%|██████████| 32/32 [00:01<00:00, 21.38it/s]\n"
     ]
    },
    {
     "name": "stdout",
     "output_type": "stream",
     "text": [
      "  Class 3 F1: 0.6061\n",
      "  Class 7 F1: 0.4000\n",
      "  Class 14 F1: 0.5333\n",
      "  Problem Classes Avg F1: 0.5131\n",
      " Epoch 22 | Train Loss: 1.3116 | Train F1: 0.7951 | Val Loss: 1.2820 | Val F1: 0.8878 | LR: 2.69e-04\n",
      "         Problem Classes (3,7,14) Avg F1: 0.5131 | ⚠️ Problem classes need attention\n",
      "\n",
      "📈 Epoch 23/100\n"
     ]
    },
    {
     "name": "stderr",
     "output_type": "stream",
     "text": [
      "Loss: 1.2406, Mixup: False, Cutout: True, RandomCrop: False: 100%|██████████| 126/126 [00:11<00:00, 11.03it/s]\n",
      "Val Loss: 0.8628: 100%|██████████| 32/32 [00:01<00:00, 20.60it/s]\n"
     ]
    },
    {
     "name": "stdout",
     "output_type": "stream",
     "text": [
      "  Class 3 F1: 0.7692\n",
      "  Class 7 F1: 0.5294\n",
      "  Class 14 F1: 0.4545\n",
      "  Problem Classes Avg F1: 0.5844\n",
      " Epoch 23 | Train Loss: 1.3158 | Train F1: 0.7707 | Val Loss: 1.1786 | Val F1: 0.9008 | LR: 2.66e-04\n",
      "         Problem Classes (3,7,14) Avg F1: 0.5844 | ⚠️ Problem classes need attention\n",
      "\n",
      "📈 Epoch 24/100\n"
     ]
    },
    {
     "name": "stderr",
     "output_type": "stream",
     "text": [
      "Loss: 1.3179, Mixup: False, Cutout: False, RandomCrop: True: 100%|██████████| 126/126 [00:11<00:00, 10.99it/s]\n",
      "Val Loss: 1.6176: 100%|██████████| 32/32 [00:01<00:00, 20.41it/s]\n"
     ]
    },
    {
     "name": "stdout",
     "output_type": "stream",
     "text": [
      "  Class 3 F1: 0.6809\n",
      "  Class 7 F1: 0.4286\n",
      "  Class 14 F1: 0.4348\n",
      "  Problem Classes Avg F1: 0.5147\n",
      " Epoch 24 | Train Loss: 1.3262 | Train F1: 0.7842 | Val Loss: 1.3550 | Val F1: 0.8892 | LR: 2.63e-04\n",
      "         Problem Classes (3,7,14) Avg F1: 0.5147 | ⚠️ Problem classes need attention\n",
      "\n",
      "📈 Epoch 25/100\n"
     ]
    },
    {
     "name": "stderr",
     "output_type": "stream",
     "text": [
      "Loss: 1.5712, Mixup: True, Cutout: False, RandomCrop: False: 100%|██████████| 126/126 [00:11<00:00, 10.94it/s]\n",
      "Val Loss: 0.8039: 100%|██████████| 32/32 [00:01<00:00, 20.33it/s]\n"
     ]
    },
    {
     "name": "stdout",
     "output_type": "stream",
     "text": [
      "  Class 3 F1: 0.7200\n",
      "  Class 7 F1: 0.5000\n",
      "  Class 14 F1: 0.4545\n",
      "  Problem Classes Avg F1: 0.5582\n",
      " Epoch 25 | Train Loss: 1.4020 | Train F1: 0.7204 | Val Loss: 1.2141 | Val F1: 0.9035 | LR: 2.59e-04\n",
      "         Problem Classes (3,7,14) Avg F1: 0.5582 | ⚠️ Problem classes need attention\n",
      "\n",
      "📈 Epoch 26/100\n"
     ]
    },
    {
     "name": "stderr",
     "output_type": "stream",
     "text": [
      "Loss: 1.6258, Mixup: True, Cutout: False, RandomCrop: False: 100%|██████████| 126/126 [00:11<00:00, 11.07it/s]\n",
      "Val Loss: 0.7525: 100%|██████████| 32/32 [00:01<00:00, 20.41it/s]\n"
     ]
    },
    {
     "name": "stdout",
     "output_type": "stream",
     "text": [
      "  Class 3 F1: 0.6400\n",
      "  Class 7 F1: 0.4138\n",
      "  Class 14 F1: 0.5714\n",
      "  Problem Classes Avg F1: 0.5417\n",
      " Epoch 26 | Train Loss: 1.2968 | Train F1: 0.7632 | Val Loss: 1.1844 | Val F1: 0.9025 | LR: 2.56e-04\n",
      "         Problem Classes (3,7,14) Avg F1: 0.5417 | ⚠️ Problem classes need attention\n",
      "\n",
      "📈 Epoch 27/100\n"
     ]
    },
    {
     "name": "stderr",
     "output_type": "stream",
     "text": [
      "Loss: 2.0990, Mixup: True, Cutout: False, RandomCrop: False: 100%|██████████| 126/126 [00:11<00:00, 10.96it/s]\n",
      "Val Loss: 0.7337: 100%|██████████| 32/32 [00:01<00:00, 20.19it/s]\n"
     ]
    },
    {
     "name": "stdout",
     "output_type": "stream",
     "text": [
      "  Class 3 F1: 0.6667\n",
      "  Class 7 F1: 0.4667\n",
      "  Class 14 F1: 0.4545\n",
      "  Problem Classes Avg F1: 0.5293\n",
      " Epoch 27 | Train Loss: 1.3824 | Train F1: 0.7346 | Val Loss: 1.2303 | Val F1: 0.8926 | LR: 2.53e-04\n",
      "         Problem Classes (3,7,14) Avg F1: 0.5293 | ⚠️ Problem classes need attention\n",
      "\n",
      "📈 Epoch 28/100\n"
     ]
    },
    {
     "name": "stderr",
     "output_type": "stream",
     "text": [
      "Loss: 0.8287, Mixup: False, Cutout: True, RandomCrop: False: 100%|██████████| 126/126 [00:11<00:00, 11.04it/s]\n",
      "Val Loss: 0.7282: 100%|██████████| 32/32 [00:01<00:00, 20.86it/s]\n"
     ]
    },
    {
     "name": "stdout",
     "output_type": "stream",
     "text": [
      "  Class 3 F1: 0.7083\n",
      "  Class 7 F1: 0.5854\n",
      "  Class 14 F1: 0.5000\n",
      "  Problem Classes Avg F1: 0.5979\n",
      " Epoch 28 | Train Loss: 1.2538 | Train F1: 0.7996 | Val Loss: 1.1121 | Val F1: 0.9203 | LR: 2.49e-04\n",
      "         Problem Classes (3,7,14) Avg F1: 0.5979 | ⚠️ Problem classes need attention\n",
      "🎉 새로운 최고 성능! F1: 0.9203 (Problem Classes: 0.5979)\n",
      "\n",
      "📈 Epoch 29/100\n"
     ]
    },
    {
     "name": "stderr",
     "output_type": "stream",
     "text": [
      "Loss: 1.7789, Mixup: True, Cutout: False, RandomCrop: False: 100%|██████████| 126/126 [00:11<00:00, 11.00it/s]\n",
      "Val Loss: 0.9419: 100%|██████████| 32/32 [00:01<00:00, 20.75it/s]\n"
     ]
    },
    {
     "name": "stdout",
     "output_type": "stream",
     "text": [
      "  Class 3 F1: 0.7556\n",
      "  Class 7 F1: 0.5000\n",
      "  Class 14 F1: 0.7200\n",
      "  Problem Classes Avg F1: 0.6585\n",
      " Epoch 29 | Train Loss: 1.3001 | Train F1: 0.7662 | Val Loss: 1.2029 | Val F1: 0.9151 | LR: 2.46e-04\n",
      "         Problem Classes (3,7,14) Avg F1: 0.6585 | ⚠️ Problem classes need attention\n",
      "\n",
      "📈 Epoch 30/100\n"
     ]
    },
    {
     "name": "stderr",
     "output_type": "stream",
     "text": [
      "Loss: 0.9513, Mixup: False, Cutout: False, RandomCrop: True: 100%|██████████| 126/126 [00:11<00:00, 11.01it/s]\n",
      "Val Loss: 0.7457: 100%|██████████| 32/32 [00:01<00:00, 20.75it/s]\n"
     ]
    },
    {
     "name": "stdout",
     "output_type": "stream",
     "text": [
      "  Class 3 F1: 0.7170\n",
      "  Class 7 F1: 0.5882\n",
      "  Class 14 F1: 0.6667\n",
      "  Problem Classes Avg F1: 0.6573\n",
      " Epoch 30 | Train Loss: 1.2947 | Train F1: 0.7728 | Val Loss: 1.1362 | Val F1: 0.9242 | LR: 2.42e-04\n",
      "         Problem Classes (3,7,14) Avg F1: 0.6573 | ⚠️ Problem classes need attention\n",
      "🎉 새로운 최고 성능! F1: 0.9242 (Problem Classes: 0.6573)\n",
      "\n",
      "📈 Epoch 31/100\n"
     ]
    },
    {
     "name": "stderr",
     "output_type": "stream",
     "text": [
      "Loss: 1.4793, Mixup: True, Cutout: False, RandomCrop: False: 100%|██████████| 126/126 [00:11<00:00, 10.96it/s]\n",
      "Val Loss: 0.7450: 100%|██████████| 32/32 [00:01<00:00, 20.04it/s]\n"
     ]
    },
    {
     "name": "stdout",
     "output_type": "stream",
     "text": [
      "  Class 3 F1: 0.7143\n",
      "  Class 7 F1: 0.5143\n",
      "  Class 14 F1: 0.5625\n",
      "  Problem Classes Avg F1: 0.5970\n",
      " Epoch 31 | Train Loss: 1.3822 | Train F1: 0.7577 | Val Loss: 1.1137 | Val F1: 0.9012 | LR: 2.38e-04\n",
      "         Problem Classes (3,7,14) Avg F1: 0.5970 | ⚠️ Problem classes need attention\n",
      "\n",
      "📈 Epoch 32/100\n"
     ]
    },
    {
     "name": "stderr",
     "output_type": "stream",
     "text": [
      "Loss: 1.4071, Mixup: True, Cutout: False, RandomCrop: False: 100%|██████████| 126/126 [00:11<00:00, 10.95it/s]\n",
      "Val Loss: 1.1521: 100%|██████████| 32/32 [00:01<00:00, 20.29it/s]\n"
     ]
    },
    {
     "name": "stdout",
     "output_type": "stream",
     "text": [
      "  Class 3 F1: 0.5806\n",
      "  Class 7 F1: 0.6667\n",
      "  Class 14 F1: 0.6250\n",
      "  Problem Classes Avg F1: 0.6241\n",
      " Epoch 32 | Train Loss: 1.3312 | Train F1: 0.7554 | Val Loss: 1.1319 | Val F1: 0.9200 | LR: 2.34e-04\n",
      "         Problem Classes (3,7,14) Avg F1: 0.6241 | ⚠️ Problem classes need attention\n",
      "\n",
      "📈 Epoch 33/100\n"
     ]
    },
    {
     "name": "stderr",
     "output_type": "stream",
     "text": [
      "Loss: 1.8435, Mixup: True, Cutout: False, RandomCrop: False: 100%|██████████| 126/126 [00:11<00:00, 10.90it/s]\n",
      "Val Loss: 0.8116: 100%|██████████| 32/32 [00:01<00:00, 20.06it/s]\n"
     ]
    },
    {
     "name": "stdout",
     "output_type": "stream",
     "text": [
      "  Class 3 F1: 0.7556\n",
      "  Class 7 F1: 0.7317\n",
      "  Class 14 F1: 0.7059\n",
      "  Problem Classes Avg F1: 0.7310\n",
      " Epoch 33 | Train Loss: 1.2019 | Train F1: 0.8251 | Val Loss: 1.0978 | Val F1: 0.9379 | LR: 2.30e-04\n",
      "         Problem Classes (3,7,14) Avg F1: 0.7310 | ⚠️ Problem classes need attention\n",
      "🎉 새로운 최고 성능! F1: 0.9379 (Problem Classes: 0.7310)\n",
      "\n",
      "📈 Epoch 34/100\n"
     ]
    },
    {
     "name": "stderr",
     "output_type": "stream",
     "text": [
      "Loss: 1.2060, Mixup: False, Cutout: False, RandomCrop: True: 100%|██████████| 126/126 [00:11<00:00, 10.99it/s]\n",
      "Val Loss: 0.7562: 100%|██████████| 32/32 [00:01<00:00, 19.77it/s]\n"
     ]
    },
    {
     "name": "stdout",
     "output_type": "stream",
     "text": [
      "  Class 3 F1: 0.7660\n",
      "  Class 7 F1: 0.6667\n",
      "  Class 14 F1: 0.5882\n",
      "  Problem Classes Avg F1: 0.6736\n",
      " Epoch 34 | Train Loss: 1.2344 | Train F1: 0.7780 | Val Loss: 1.0814 | Val F1: 0.9308 | LR: 2.26e-04\n",
      "         Problem Classes (3,7,14) Avg F1: 0.6736 | ⚠️ Problem classes need attention\n",
      "\n",
      "📈 Epoch 35/100\n"
     ]
    },
    {
     "name": "stderr",
     "output_type": "stream",
     "text": [
      "Loss: 1.9196, Mixup: True, Cutout: False, RandomCrop: False: 100%|██████████| 126/126 [00:11<00:00, 11.00it/s]\n",
      "Val Loss: 0.8573: 100%|██████████| 32/32 [00:01<00:00, 20.45it/s]\n"
     ]
    },
    {
     "name": "stdout",
     "output_type": "stream",
     "text": [
      "  Class 3 F1: 0.7442\n",
      "  Class 7 F1: 0.6842\n",
      "  Class 14 F1: 0.5833\n",
      "  Problem Classes Avg F1: 0.6706\n",
      " Epoch 35 | Train Loss: 1.2204 | Train F1: 0.7663 | Val Loss: 1.0950 | Val F1: 0.9240 | LR: 2.22e-04\n",
      "         Problem Classes (3,7,14) Avg F1: 0.6706 | ⚠️ Problem classes need attention\n",
      "\n",
      "📈 Epoch 36/100\n"
     ]
    },
    {
     "name": "stderr",
     "output_type": "stream",
     "text": [
      "Loss: 1.1423, Mixup: False, Cutout: False, RandomCrop: True: 100%|██████████| 126/126 [00:11<00:00, 11.15it/s]\n",
      "Val Loss: 0.8237: 100%|██████████| 32/32 [00:01<00:00, 21.17it/s]\n"
     ]
    },
    {
     "name": "stdout",
     "output_type": "stream",
     "text": [
      "  Class 3 F1: 0.7556\n",
      "  Class 7 F1: 0.6500\n",
      "  Class 14 F1: 0.7778\n",
      "  Problem Classes Avg F1: 0.7278\n",
      " Epoch 36 | Train Loss: 1.1839 | Train F1: 0.7636 | Val Loss: 1.1200 | Val F1: 0.9370 | LR: 2.18e-04\n",
      "         Problem Classes (3,7,14) Avg F1: 0.7278 | ⚠️ Problem classes need attention\n",
      "\n",
      "📈 Epoch 37/100\n"
     ]
    },
    {
     "name": "stderr",
     "output_type": "stream",
     "text": [
      "Loss: 1.7896, Mixup: True, Cutout: False, RandomCrop: False: 100%|██████████| 126/126 [00:11<00:00, 11.06it/s]\n",
      "Val Loss: 0.7613: 100%|██████████| 32/32 [00:01<00:00, 20.43it/s]\n"
     ]
    },
    {
     "name": "stdout",
     "output_type": "stream",
     "text": [
      "  Class 3 F1: 0.7500\n",
      "  Class 7 F1: 0.5882\n",
      "  Class 14 F1: 0.5000\n",
      "  Problem Classes Avg F1: 0.6127\n",
      " Epoch 37 | Train Loss: 1.2701 | Train F1: 0.7401 | Val Loss: 1.1524 | Val F1: 0.9066 | LR: 2.14e-04\n",
      "         Problem Classes (3,7,14) Avg F1: 0.6127 | ⚠️ Problem classes need attention\n",
      "\n",
      "📈 Epoch 38/100\n"
     ]
    },
    {
     "name": "stderr",
     "output_type": "stream",
     "text": [
      "Loss: 0.8133, Mixup: False, Cutout: False, RandomCrop: True: 100%|██████████| 126/126 [00:11<00:00, 11.12it/s]\n",
      "Val Loss: 0.7007: 100%|██████████| 32/32 [00:01<00:00, 20.11it/s]\n"
     ]
    },
    {
     "name": "stdout",
     "output_type": "stream",
     "text": [
      "  Class 3 F1: 0.6957\n",
      "  Class 7 F1: 0.5946\n",
      "  Class 14 F1: 0.7059\n",
      "  Problem Classes Avg F1: 0.6654\n",
      " Epoch 38 | Train Loss: 1.2709 | Train F1: 0.7588 | Val Loss: 1.1088 | Val F1: 0.9311 | LR: 2.10e-04\n",
      "         Problem Classes (3,7,14) Avg F1: 0.6654 | ⚠️ Problem classes need attention\n",
      "\n",
      "📈 Epoch 39/100\n"
     ]
    },
    {
     "name": "stderr",
     "output_type": "stream",
     "text": [
      "Loss: 0.6034, Mixup: False, Cutout: True, RandomCrop: False: 100%|██████████| 126/126 [00:11<00:00, 11.08it/s]\n",
      "Val Loss: 0.6976: 100%|██████████| 32/32 [00:01<00:00, 20.01it/s]\n"
     ]
    },
    {
     "name": "stdout",
     "output_type": "stream",
     "text": [
      "  Class 3 F1: 0.6957\n",
      "  Class 7 F1: 0.5405\n",
      "  Class 14 F1: 0.8000\n",
      "  Problem Classes Avg F1: 0.6787\n",
      " Epoch 39 | Train Loss: 1.2463 | Train F1: 0.7691 | Val Loss: 1.0969 | Val F1: 0.9271 | LR: 2.05e-04\n",
      "         Problem Classes (3,7,14) Avg F1: 0.6787 | ⚠️ Problem classes need attention\n",
      "\n",
      "📈 Epoch 40/100\n"
     ]
    },
    {
     "name": "stderr",
     "output_type": "stream",
     "text": [
      "Loss: 1.1568, Mixup: False, Cutout: False, RandomCrop: True: 100%|██████████| 126/126 [00:11<00:00, 11.13it/s]\n",
      "Val Loss: 0.7243: 100%|██████████| 32/32 [00:01<00:00, 20.48it/s]\n"
     ]
    },
    {
     "name": "stdout",
     "output_type": "stream",
     "text": [
      "  Class 3 F1: 0.7556\n",
      "  Class 7 F1: 0.6667\n",
      "  Class 14 F1: 0.8421\n",
      "  Problem Classes Avg F1: 0.7548\n",
      " Epoch 40 | Train Loss: 1.2263 | Train F1: 0.7985 | Val Loss: 1.0712 | Val F1: 0.9457 | LR: 2.01e-04\n",
      "         Problem Classes (3,7,14) Avg F1: 0.7548 | ⚠️ Problem classes need attention\n",
      "🎉 새로운 최고 성능! F1: 0.9457 (Problem Classes: 0.7548)\n",
      "\n",
      "📈 Epoch 41/100\n"
     ]
    },
    {
     "name": "stderr",
     "output_type": "stream",
     "text": [
      "Loss: 2.2462, Mixup: True, Cutout: False, RandomCrop: False: 100%|██████████| 126/126 [00:11<00:00, 10.89it/s]\n",
      "Val Loss: 0.8302: 100%|██████████| 32/32 [00:01<00:00, 19.86it/s]\n"
     ]
    },
    {
     "name": "stdout",
     "output_type": "stream",
     "text": [
      "  Class 3 F1: 0.6857\n",
      "  Class 7 F1: 0.7111\n",
      "  Class 14 F1: 0.8000\n",
      "  Problem Classes Avg F1: 0.7323\n",
      " Epoch 41 | Train Loss: 1.2130 | Train F1: 0.8271 | Val Loss: 1.1231 | Val F1: 0.9348 | LR: 1.96e-04\n",
      "         Problem Classes (3,7,14) Avg F1: 0.7323 | ⚠️ Problem classes need attention\n",
      "\n",
      "📈 Epoch 42/100\n"
     ]
    },
    {
     "name": "stderr",
     "output_type": "stream",
     "text": [
      "Loss: 1.4900, Mixup: False, Cutout: False, RandomCrop: True: 100%|██████████| 126/126 [00:11<00:00, 10.93it/s]\n",
      "Val Loss: 0.7285: 100%|██████████| 32/32 [00:01<00:00, 21.50it/s]\n"
     ]
    },
    {
     "name": "stdout",
     "output_type": "stream",
     "text": [
      "  Class 3 F1: 0.7000\n",
      "  Class 7 F1: 0.6000\n",
      "  Class 14 F1: 0.7619\n",
      "  Problem Classes Avg F1: 0.6873\n",
      " Epoch 42 | Train Loss: 1.1773 | Train F1: 0.8272 | Val Loss: 1.1008 | Val F1: 0.9369 | LR: 1.92e-04\n",
      "         Problem Classes (3,7,14) Avg F1: 0.6873 | ⚠️ Problem classes need attention\n",
      "\n",
      "📈 Epoch 43/100\n"
     ]
    },
    {
     "name": "stderr",
     "output_type": "stream",
     "text": [
      "Loss: 1.2377, Mixup: False, Cutout: True, RandomCrop: False: 100%|██████████| 126/126 [00:11<00:00, 11.05it/s]\n",
      "Val Loss: 1.0645: 100%|██████████| 32/32 [00:01<00:00, 20.61it/s]\n"
     ]
    },
    {
     "name": "stdout",
     "output_type": "stream",
     "text": [
      "  Class 3 F1: 0.6486\n",
      "  Class 7 F1: 0.6364\n",
      "  Class 14 F1: 0.7273\n",
      "  Problem Classes Avg F1: 0.6708\n",
      " Epoch 43 | Train Loss: 1.2135 | Train F1: 0.8246 | Val Loss: 1.1262 | Val F1: 0.9339 | LR: 1.87e-04\n",
      "         Problem Classes (3,7,14) Avg F1: 0.6708 | ⚠️ Problem classes need attention\n",
      "\n",
      "📈 Epoch 44/100\n"
     ]
    },
    {
     "name": "stderr",
     "output_type": "stream",
     "text": [
      "Loss: 1.4272, Mixup: False, Cutout: False, RandomCrop: True: 100%|██████████| 126/126 [00:11<00:00, 11.00it/s]\n",
      "Val Loss: 0.7614: 100%|██████████| 32/32 [00:01<00:00, 20.10it/s]\n"
     ]
    },
    {
     "name": "stdout",
     "output_type": "stream",
     "text": [
      "  Class 3 F1: 0.6923\n",
      "  Class 7 F1: 0.5714\n",
      "  Class 14 F1: 0.7368\n",
      "  Problem Classes Avg F1: 0.6669\n",
      " Epoch 44 | Train Loss: 1.2507 | Train F1: 0.7575 | Val Loss: 1.1051 | Val F1: 0.9309 | LR: 1.83e-04\n",
      "         Problem Classes (3,7,14) Avg F1: 0.6669 | ⚠️ Problem classes need attention\n",
      "\n",
      "📈 Epoch 45/100\n"
     ]
    },
    {
     "name": "stderr",
     "output_type": "stream",
     "text": [
      "Loss: 1.2168, Mixup: True, Cutout: False, RandomCrop: False: 100%|██████████| 126/126 [00:11<00:00, 10.92it/s]\n",
      "Val Loss: 1.0418: 100%|██████████| 32/32 [00:01<00:00, 20.15it/s]\n"
     ]
    },
    {
     "name": "stdout",
     "output_type": "stream",
     "text": [
      "  Class 3 F1: 0.7059\n",
      "  Class 7 F1: 0.7500\n",
      "  Class 14 F1: 0.8182\n",
      "  Problem Classes Avg F1: 0.7580\n",
      " Epoch 45 | Train Loss: 1.1680 | Train F1: 0.7923 | Val Loss: 1.0845 | Val F1: 0.9501 | LR: 1.78e-04\n",
      "         Problem Classes (3,7,14) Avg F1: 0.7580 | ⚠️ Problem classes need attention\n",
      "🎉 새로운 최고 성능! F1: 0.9501 (Problem Classes: 0.7580)\n",
      "\n",
      "📈 Epoch 46/100\n"
     ]
    },
    {
     "name": "stderr",
     "output_type": "stream",
     "text": [
      "Loss: 1.1541, Mixup: False, Cutout: True, RandomCrop: False: 100%|██████████| 126/126 [00:11<00:00, 10.90it/s]\n",
      "Val Loss: 0.6946: 100%|██████████| 32/32 [00:01<00:00, 20.37it/s]\n"
     ]
    },
    {
     "name": "stdout",
     "output_type": "stream",
     "text": [
      "  Class 3 F1: 0.7234\n",
      "  Class 7 F1: 0.5455\n",
      "  Class 14 F1: 0.6957\n",
      "  Problem Classes Avg F1: 0.6548\n",
      " Epoch 46 | Train Loss: 1.1224 | Train F1: 0.7794 | Val Loss: 1.1125 | Val F1: 0.9246 | LR: 1.73e-04\n",
      "         Problem Classes (3,7,14) Avg F1: 0.6548 | ⚠️ Problem classes need attention\n",
      "\n",
      "📈 Epoch 47/100\n"
     ]
    },
    {
     "name": "stderr",
     "output_type": "stream",
     "text": [
      "Loss: 1.4702, Mixup: True, Cutout: False, RandomCrop: False: 100%|██████████| 126/126 [00:11<00:00, 11.10it/s]\n",
      "Val Loss: 0.7452: 100%|██████████| 32/32 [00:01<00:00, 20.73it/s]\n"
     ]
    },
    {
     "name": "stdout",
     "output_type": "stream",
     "text": [
      "  Class 3 F1: 0.7451\n",
      "  Class 7 F1: 0.5161\n",
      "  Class 14 F1: 0.7619\n",
      "  Problem Classes Avg F1: 0.6744\n",
      " Epoch 47 | Train Loss: 1.1460 | Train F1: 0.8034 | Val Loss: 1.1047 | Val F1: 0.9309 | LR: 1.69e-04\n",
      "         Problem Classes (3,7,14) Avg F1: 0.6744 | ⚠️ Problem classes need attention\n",
      "\n",
      "📈 Epoch 48/100\n"
     ]
    },
    {
     "name": "stderr",
     "output_type": "stream",
     "text": [
      "Loss: 1.6166, Mixup: True, Cutout: False, RandomCrop: False: 100%|██████████| 126/126 [00:11<00:00, 11.22it/s]\n",
      "Val Loss: 0.9967: 100%|██████████| 32/32 [00:01<00:00, 20.20it/s]\n"
     ]
    },
    {
     "name": "stdout",
     "output_type": "stream",
     "text": [
      "  Class 3 F1: 0.7568\n",
      "  Class 7 F1: 0.7556\n",
      "  Class 14 F1: 0.8571\n",
      "  Problem Classes Avg F1: 0.7898\n",
      " Epoch 48 | Train Loss: 1.1559 | Train F1: 0.8303 | Val Loss: 1.0413 | Val F1: 0.9543 | LR: 1.64e-04\n",
      "         Problem Classes (3,7,14) Avg F1: 0.7898 | ⚠️ Problem classes need attention\n",
      "🎉 새로운 최고 성능! F1: 0.9543 (Problem Classes: 0.7898)\n",
      "\n",
      "📈 Epoch 49/100\n"
     ]
    },
    {
     "name": "stderr",
     "output_type": "stream",
     "text": [
      "Loss: 1.2384, Mixup: False, Cutout: False, RandomCrop: True: 100%|██████████| 126/126 [00:11<00:00, 10.99it/s]\n",
      "Val Loss: 0.9847: 100%|██████████| 32/32 [00:01<00:00, 20.78it/s]\n"
     ]
    },
    {
     "name": "stdout",
     "output_type": "stream",
     "text": [
      "  Class 3 F1: 0.7826\n",
      "  Class 7 F1: 0.7568\n",
      "  Class 14 F1: 0.7059\n",
      "  Problem Classes Avg F1: 0.7484\n",
      " Epoch 49 | Train Loss: 1.1954 | Train F1: 0.7992 | Val Loss: 1.0789 | Val F1: 0.9497 | LR: 1.59e-04\n",
      "         Problem Classes (3,7,14) Avg F1: 0.7484 | ⚠️ Problem classes need attention\n",
      "\n",
      "📈 Epoch 50/100\n"
     ]
    },
    {
     "name": "stderr",
     "output_type": "stream",
     "text": [
      "Loss: 0.5342, Mixup: False, Cutout: True, RandomCrop: False: 100%|██████████| 126/126 [00:11<00:00, 11.03it/s]\n",
      "Val Loss: 0.8523: 100%|██████████| 32/32 [00:01<00:00, 20.61it/s]\n"
     ]
    },
    {
     "name": "stdout",
     "output_type": "stream",
     "text": [
      "  Class 3 F1: 0.7660\n",
      "  Class 7 F1: 0.7027\n",
      "  Class 14 F1: 0.7059\n",
      "  Problem Classes Avg F1: 0.7248\n",
      " Epoch 50 | Train Loss: 1.1746 | Train F1: 0.8179 | Val Loss: 1.0629 | Val F1: 0.9429 | LR: 1.55e-04\n",
      "         Problem Classes (3,7,14) Avg F1: 0.7248 | ⚠️ Problem classes need attention\n",
      "\n",
      "📈 Epoch 51/100\n"
     ]
    },
    {
     "name": "stderr",
     "output_type": "stream",
     "text": [
      "Loss: 1.6971, Mixup: True, Cutout: False, RandomCrop: False: 100%|██████████| 126/126 [00:11<00:00, 10.96it/s]\n",
      "Val Loss: 0.6862: 100%|██████████| 32/32 [00:01<00:00, 20.35it/s]\n"
     ]
    },
    {
     "name": "stdout",
     "output_type": "stream",
     "text": [
      "  Class 3 F1: 0.7660\n",
      "  Class 7 F1: 0.6471\n",
      "  Class 14 F1: 0.8571\n",
      "  Problem Classes Avg F1: 0.7567\n",
      " Epoch 51 | Train Loss: 1.1215 | Train F1: 0.8322 | Val Loss: 1.0502 | Val F1: 0.9476 | LR: 1.50e-04\n",
      "         Problem Classes (3,7,14) Avg F1: 0.7567 | ⚠️ Problem classes need attention\n",
      "\n",
      "📈 Epoch 52/100\n"
     ]
    },
    {
     "name": "stderr",
     "output_type": "stream",
     "text": [
      "Loss: 1.3751, Mixup: False, Cutout: False, RandomCrop: True: 100%|██████████| 126/126 [00:11<00:00, 10.97it/s]\n",
      "Val Loss: 0.8004: 100%|██████████| 32/32 [00:01<00:00, 20.14it/s]\n"
     ]
    },
    {
     "name": "stdout",
     "output_type": "stream",
     "text": [
      "  Class 3 F1: 0.7347\n",
      "  Class 7 F1: 0.6061\n",
      "  Class 14 F1: 0.7778\n",
      "  Problem Classes Avg F1: 0.7062\n",
      " Epoch 52 | Train Loss: 1.1565 | Train F1: 0.7755 | Val Loss: 1.1024 | Val F1: 0.9417 | LR: 1.45e-04\n",
      "         Problem Classes (3,7,14) Avg F1: 0.7062 | ⚠️ Problem classes need attention\n",
      "\n",
      "📈 Epoch 53/100\n"
     ]
    },
    {
     "name": "stderr",
     "output_type": "stream",
     "text": [
      "Loss: 1.6767, Mixup: True, Cutout: False, RandomCrop: False: 100%|██████████| 126/126 [00:11<00:00, 11.09it/s]\n",
      "Val Loss: 0.7415: 100%|██████████| 32/32 [00:01<00:00, 20.60it/s]\n"
     ]
    },
    {
     "name": "stdout",
     "output_type": "stream",
     "text": [
      "  Class 3 F1: 0.7111\n",
      "  Class 7 F1: 0.5946\n",
      "  Class 14 F1: 0.8889\n",
      "  Problem Classes Avg F1: 0.7315\n",
      " Epoch 53 | Train Loss: 1.1793 | Train F1: 0.7816 | Val Loss: 1.1291 | Val F1: 0.9422 | LR: 1.41e-04\n",
      "         Problem Classes (3,7,14) Avg F1: 0.7315 | ⚠️ Problem classes need attention\n",
      "\n",
      "📈 Epoch 54/100\n"
     ]
    },
    {
     "name": "stderr",
     "output_type": "stream",
     "text": [
      "Loss: 1.1467, Mixup: False, Cutout: True, RandomCrop: False: 100%|██████████| 126/126 [00:11<00:00, 10.94it/s]\n",
      "Val Loss: 0.7318: 100%|██████████| 32/32 [00:01<00:00, 20.41it/s]\n"
     ]
    },
    {
     "name": "stdout",
     "output_type": "stream",
     "text": [
      "  Class 3 F1: 0.8293\n",
      "  Class 7 F1: 0.7692\n",
      "  Class 14 F1: 0.7619\n",
      "  Problem Classes Avg F1: 0.7868\n",
      " Epoch 54 | Train Loss: 1.1790 | Train F1: 0.8167 | Val Loss: 1.0737 | Val F1: 0.9538 | LR: 1.36e-04\n",
      "         Problem Classes (3,7,14) Avg F1: 0.7868 | ⚠️ Problem classes need attention\n",
      "\n",
      "📈 Epoch 55/100\n"
     ]
    },
    {
     "name": "stderr",
     "output_type": "stream",
     "text": [
      "Loss: 1.3992, Mixup: True, Cutout: False, RandomCrop: False: 100%|██████████| 126/126 [00:11<00:00, 11.06it/s]\n",
      "Val Loss: 0.6742: 100%|██████████| 32/32 [00:01<00:00, 21.59it/s]\n"
     ]
    },
    {
     "name": "stdout",
     "output_type": "stream",
     "text": [
      "  Class 3 F1: 0.7391\n",
      "  Class 7 F1: 0.7222\n",
      "  Class 14 F1: 0.7000\n",
      "  Problem Classes Avg F1: 0.7205\n",
      " Epoch 55 | Train Loss: 1.0648 | Train F1: 0.8458 | Val Loss: 1.1287 | Val F1: 0.9412 | LR: 1.31e-04\n",
      "         Problem Classes (3,7,14) Avg F1: 0.7205 | ⚠️ Problem classes need attention\n",
      "\n",
      "📈 Epoch 56/100\n"
     ]
    },
    {
     "name": "stderr",
     "output_type": "stream",
     "text": [
      "Loss: 1.3794, Mixup: False, Cutout: False, RandomCrop: True: 100%|██████████| 126/126 [00:11<00:00, 11.07it/s]\n",
      "Val Loss: 0.6726: 100%|██████████| 32/32 [00:01<00:00, 19.81it/s]\n"
     ]
    },
    {
     "name": "stdout",
     "output_type": "stream",
     "text": [
      "  Class 3 F1: 0.6800\n",
      "  Class 7 F1: 0.5625\n",
      "  Class 14 F1: 0.7000\n",
      "  Problem Classes Avg F1: 0.6475\n",
      " Epoch 56 | Train Loss: 1.1685 | Train F1: 0.8197 | Val Loss: 1.1254 | Val F1: 0.9254 | LR: 1.27e-04\n",
      "         Problem Classes (3,7,14) Avg F1: 0.6475 | ⚠️ Problem classes need attention\n",
      "\n",
      "📈 Epoch 57/100\n"
     ]
    },
    {
     "name": "stderr",
     "output_type": "stream",
     "text": [
      "Loss: 0.9294, Mixup: False, Cutout: False, RandomCrop: True: 100%|██████████| 126/126 [00:11<00:00, 11.06it/s]\n",
      "Val Loss: 0.6750: 100%|██████████| 32/32 [00:01<00:00, 20.63it/s]\n"
     ]
    },
    {
     "name": "stdout",
     "output_type": "stream",
     "text": [
      "  Class 3 F1: 0.6923\n",
      "  Class 7 F1: 0.5000\n",
      "  Class 14 F1: 0.7059\n",
      "  Problem Classes Avg F1: 0.6327\n",
      " Epoch 57 | Train Loss: 1.0763 | Train F1: 0.8625 | Val Loss: 1.1289 | Val F1: 0.9209 | LR: 1.22e-04\n",
      "         Problem Classes (3,7,14) Avg F1: 0.6327 | ⚠️ Problem classes need attention\n",
      "\n",
      "📈 Epoch 58/100\n"
     ]
    },
    {
     "name": "stderr",
     "output_type": "stream",
     "text": [
      "Loss: 1.5671, Mixup: True, Cutout: False, RandomCrop: False: 100%|██████████| 126/126 [00:11<00:00, 11.03it/s]\n",
      "Val Loss: 0.7034: 100%|██████████| 32/32 [00:01<00:00, 20.78it/s]\n"
     ]
    },
    {
     "name": "stdout",
     "output_type": "stream",
     "text": [
      "  Class 3 F1: 0.7805\n",
      "  Class 7 F1: 0.7317\n",
      "  Class 14 F1: 0.8571\n",
      "  Problem Classes Avg F1: 0.7898\n",
      " Epoch 58 | Train Loss: 1.1064 | Train F1: 0.7831 | Val Loss: 1.0369 | Val F1: 0.9482 | LR: 1.17e-04\n",
      "         Problem Classes (3,7,14) Avg F1: 0.7898 | ⚠️ Problem classes need attention\n",
      "\n",
      "📈 Epoch 59/100\n"
     ]
    },
    {
     "name": "stderr",
     "output_type": "stream",
     "text": [
      "Loss: 1.2868, Mixup: False, Cutout: False, RandomCrop: True: 100%|██████████| 126/126 [00:11<00:00, 11.03it/s]\n",
      "Val Loss: 0.6737: 100%|██████████| 32/32 [00:01<00:00, 20.94it/s]\n"
     ]
    },
    {
     "name": "stdout",
     "output_type": "stream",
     "text": [
      "  Class 3 F1: 0.7826\n",
      "  Class 7 F1: 0.6857\n",
      "  Class 14 F1: 0.8571\n",
      "  Problem Classes Avg F1: 0.7752\n",
      " Epoch 59 | Train Loss: 1.1492 | Train F1: 0.7965 | Val Loss: 1.0563 | Val F1: 0.9473 | LR: 1.13e-04\n",
      "         Problem Classes (3,7,14) Avg F1: 0.7752 | ⚠️ Problem classes need attention\n",
      "\n",
      "📈 Epoch 60/100\n"
     ]
    },
    {
     "name": "stderr",
     "output_type": "stream",
     "text": [
      "Loss: 0.6062, Mixup: False, Cutout: True, RandomCrop: False: 100%|██████████| 126/126 [00:11<00:00, 10.94it/s]\n",
      "Val Loss: 0.6846: 100%|██████████| 32/32 [00:01<00:00, 20.30it/s]\n"
     ]
    },
    {
     "name": "stdout",
     "output_type": "stream",
     "text": [
      "  Class 3 F1: 0.7391\n",
      "  Class 7 F1: 0.5882\n",
      "  Class 14 F1: 0.7619\n",
      "  Problem Classes Avg F1: 0.6964\n",
      " Epoch 60 | Train Loss: 1.0797 | Train F1: 0.8296 | Val Loss: 1.0752 | Val F1: 0.9326 | LR: 1.08e-04\n",
      "         Problem Classes (3,7,14) Avg F1: 0.6964 | ⚠️ Problem classes need attention\n",
      "\n",
      "📈 Epoch 61/100\n"
     ]
    },
    {
     "name": "stderr",
     "output_type": "stream",
     "text": [
      "Loss: 1.0512, Mixup: False, Cutout: True, RandomCrop: False: 100%|██████████| 126/126 [00:11<00:00, 10.87it/s]\n",
      "Val Loss: 0.6661: 100%|██████████| 32/32 [00:01<00:00, 20.31it/s]\n"
     ]
    },
    {
     "name": "stdout",
     "output_type": "stream",
     "text": [
      "  Class 3 F1: 0.7619\n",
      "  Class 7 F1: 0.7000\n",
      "  Class 14 F1: 0.8421\n",
      "  Problem Classes Avg F1: 0.7680\n",
      " Epoch 61 | Train Loss: 1.0834 | Train F1: 0.8212 | Val Loss: 1.0480 | Val F1: 0.9506 | LR: 1.04e-04\n",
      "         Problem Classes (3,7,14) Avg F1: 0.7680 | ⚠️ Problem classes need attention\n",
      "\n",
      "📈 Epoch 62/100\n"
     ]
    },
    {
     "name": "stderr",
     "output_type": "stream",
     "text": [
      "Loss: 1.8153, Mixup: True, Cutout: False, RandomCrop: False: 100%|██████████| 126/126 [00:11<00:00, 10.95it/s]\n",
      "Val Loss: 0.6664: 100%|██████████| 32/32 [00:01<00:00, 20.30it/s]\n"
     ]
    },
    {
     "name": "stdout",
     "output_type": "stream",
     "text": [
      "  Class 3 F1: 0.7179\n",
      "  Class 7 F1: 0.6939\n",
      "  Class 14 F1: 0.7059\n",
      "  Problem Classes Avg F1: 0.7059\n",
      " Epoch 62 | Train Loss: 1.0915 | Train F1: 0.8386 | Val Loss: 1.0749 | Val F1: 0.9362 | LR: 9.92e-05\n",
      "         Problem Classes (3,7,14) Avg F1: 0.7059 | ⚠️ Problem classes need attention\n",
      "\n",
      "📈 Epoch 63/100\n"
     ]
    },
    {
     "name": "stderr",
     "output_type": "stream",
     "text": [
      "Loss: 1.2374, Mixup: True, Cutout: False, RandomCrop: False: 100%|██████████| 126/126 [00:11<00:00, 11.00it/s]\n",
      "Val Loss: 0.6886: 100%|██████████| 32/32 [00:01<00:00, 19.84it/s]\n"
     ]
    },
    {
     "name": "stdout",
     "output_type": "stream",
     "text": [
      "  Class 3 F1: 0.7727\n",
      "  Class 7 F1: 0.6842\n",
      "  Class 14 F1: 0.8421\n",
      "  Problem Classes Avg F1: 0.7663\n",
      " Epoch 63 | Train Loss: 1.0514 | Train F1: 0.8548 | Val Loss: 1.0467 | Val F1: 0.9473 | LR: 9.48e-05\n",
      "         Problem Classes (3,7,14) Avg F1: 0.7663 | ⚠️ Problem classes need attention\n",
      "\n",
      "📈 Epoch 64/100\n"
     ]
    },
    {
     "name": "stderr",
     "output_type": "stream",
     "text": [
      "Loss: 1.7017, Mixup: True, Cutout: False, RandomCrop: False: 100%|██████████| 126/126 [00:11<00:00, 11.05it/s]\n",
      "Val Loss: 0.6902: 100%|██████████| 32/32 [00:01<00:00, 19.98it/s]\n"
     ]
    },
    {
     "name": "stdout",
     "output_type": "stream",
     "text": [
      "  Class 3 F1: 0.7727\n",
      "  Class 7 F1: 0.7179\n",
      "  Class 14 F1: 0.8421\n",
      "  Problem Classes Avg F1: 0.7776\n",
      " Epoch 64 | Train Loss: 1.1449 | Train F1: 0.7664 | Val Loss: 1.0592 | Val F1: 0.9507 | LR: 9.04e-05\n",
      "         Problem Classes (3,7,14) Avg F1: 0.7776 | ⚠️ Problem classes need attention\n",
      "\n",
      "📈 Epoch 65/100\n"
     ]
    },
    {
     "name": "stderr",
     "output_type": "stream",
     "text": [
      "Loss: 0.9454, Mixup: True, Cutout: False, RandomCrop: False: 100%|██████████| 126/126 [00:11<00:00, 11.09it/s]\n",
      "Val Loss: 0.6697: 100%|██████████| 32/32 [00:01<00:00, 20.47it/s]\n"
     ]
    },
    {
     "name": "stdout",
     "output_type": "stream",
     "text": [
      "  Class 3 F1: 0.7500\n",
      "  Class 7 F1: 0.5625\n",
      "  Class 14 F1: 0.7826\n",
      "  Problem Classes Avg F1: 0.6984\n",
      " Epoch 65 | Train Loss: 1.1194 | Train F1: 0.7745 | Val Loss: 1.1118 | Val F1: 0.9387 | LR: 8.61e-05\n",
      "         Problem Classes (3,7,14) Avg F1: 0.6984 | ⚠️ Problem classes need attention\n",
      "\n",
      "📈 Epoch 66/100\n"
     ]
    },
    {
     "name": "stderr",
     "output_type": "stream",
     "text": [
      "Loss: 0.8407, Mixup: False, Cutout: True, RandomCrop: False: 100%|██████████| 126/126 [00:11<00:00, 11.12it/s]\n",
      "Val Loss: 0.6766: 100%|██████████| 32/32 [00:01<00:00, 19.77it/s]\n"
     ]
    },
    {
     "name": "stdout",
     "output_type": "stream",
     "text": [
      "  Class 3 F1: 0.7556\n",
      "  Class 7 F1: 0.6286\n",
      "  Class 14 F1: 0.8000\n",
      "  Problem Classes Avg F1: 0.7280\n",
      " Epoch 66 | Train Loss: 1.0844 | Train F1: 0.8259 | Val Loss: 1.0650 | Val F1: 0.9427 | LR: 8.19e-05\n",
      "         Problem Classes (3,7,14) Avg F1: 0.7280 | ⚠️ Problem classes need attention\n",
      "\n",
      "📈 Epoch 67/100\n"
     ]
    },
    {
     "name": "stderr",
     "output_type": "stream",
     "text": [
      "Loss: 1.0142, Mixup: True, Cutout: False, RandomCrop: False: 100%|██████████| 126/126 [00:11<00:00, 11.17it/s]\n",
      "Val Loss: 0.7060: 100%|██████████| 32/32 [00:01<00:00, 21.34it/s]\n"
     ]
    },
    {
     "name": "stdout",
     "output_type": "stream",
     "text": [
      "  Class 3 F1: 0.8000\n",
      "  Class 7 F1: 0.7222\n",
      "  Class 14 F1: 0.8421\n",
      "  Problem Classes Avg F1: 0.7881\n",
      " Epoch 67 | Train Loss: 1.0510 | Train F1: 0.8272 | Val Loss: 1.0462 | Val F1: 0.9533 | LR: 7.77e-05\n",
      "         Problem Classes (3,7,14) Avg F1: 0.7881 | ⚠️ Problem classes need attention\n",
      "\n",
      "📈 Epoch 68/100\n"
     ]
    },
    {
     "name": "stderr",
     "output_type": "stream",
     "text": [
      "Loss: 1.1776, Mixup: True, Cutout: False, RandomCrop: False: 100%|██████████| 126/126 [00:11<00:00, 11.05it/s]\n",
      "Val Loss: 0.6857: 100%|██████████| 32/32 [00:01<00:00, 20.52it/s]\n"
     ]
    },
    {
     "name": "stdout",
     "output_type": "stream",
     "text": [
      "  Class 3 F1: 0.8372\n",
      "  Class 7 F1: 0.7895\n",
      "  Class 14 F1: 0.8421\n",
      "  Problem Classes Avg F1: 0.8229\n",
      " Epoch 68 | Train Loss: 1.0859 | Train F1: 0.7915 | Val Loss: 1.0382 | Val F1: 0.9623 | LR: 7.36e-05\n",
      "         Problem Classes (3,7,14) Avg F1: 0.8229 | ⚠️ Problem classes need attention\n",
      "🎉 새로운 최고 성능! F1: 0.9623 (Problem Classes: 0.8229)\n",
      "\n",
      "📈 Epoch 69/100\n"
     ]
    },
    {
     "name": "stderr",
     "output_type": "stream",
     "text": [
      "Loss: 0.7793, Mixup: False, Cutout: False, RandomCrop: True: 100%|██████████| 126/126 [00:11<00:00, 11.10it/s]\n",
      "Val Loss: 0.7119: 100%|██████████| 32/32 [00:01<00:00, 20.01it/s]\n"
     ]
    },
    {
     "name": "stdout",
     "output_type": "stream",
     "text": [
      "  Class 3 F1: 0.7222\n",
      "  Class 7 F1: 0.7234\n",
      "  Class 14 F1: 0.7778\n",
      "  Problem Classes Avg F1: 0.7411\n",
      " Epoch 69 | Train Loss: 1.0820 | Train F1: 0.8017 | Val Loss: 1.0610 | Val F1: 0.9398 | LR: 6.96e-05\n",
      "         Problem Classes (3,7,14) Avg F1: 0.7411 | ⚠️ Problem classes need attention\n",
      "\n",
      "📈 Epoch 70/100\n"
     ]
    },
    {
     "name": "stderr",
     "output_type": "stream",
     "text": [
      "Loss: 0.6153, Mixup: False, Cutout: False, RandomCrop: True: 100%|██████████| 126/126 [00:11<00:00, 10.94it/s]\n",
      "Val Loss: 0.6916: 100%|██████████| 32/32 [00:01<00:00, 21.43it/s]\n"
     ]
    },
    {
     "name": "stdout",
     "output_type": "stream",
     "text": [
      "  Class 3 F1: 0.7727\n",
      "  Class 7 F1: 0.7027\n",
      "  Class 14 F1: 0.8000\n",
      "  Problem Classes Avg F1: 0.7585\n",
      " Epoch 70 | Train Loss: 1.0991 | Train F1: 0.8017 | Val Loss: 1.0414 | Val F1: 0.9464 | LR: 6.57e-05\n",
      "         Problem Classes (3,7,14) Avg F1: 0.7585 | ⚠️ Problem classes need attention\n",
      "\n",
      "📈 Epoch 71/100\n"
     ]
    },
    {
     "name": "stderr",
     "output_type": "stream",
     "text": [
      "Loss: 0.8570, Mixup: True, Cutout: False, RandomCrop: False: 100%|██████████| 126/126 [00:11<00:00, 11.03it/s]\n",
      "Val Loss: 0.6917: 100%|██████████| 32/32 [00:01<00:00, 20.08it/s]\n"
     ]
    },
    {
     "name": "stdout",
     "output_type": "stream",
     "text": [
      "  Class 3 F1: 0.8182\n",
      "  Class 7 F1: 0.7027\n",
      "  Class 14 F1: 0.7619\n",
      "  Problem Classes Avg F1: 0.7609\n",
      " Epoch 71 | Train Loss: 1.0968 | Train F1: 0.8223 | Val Loss: 1.0381 | Val F1: 0.9417 | LR: 6.18e-05\n",
      "         Problem Classes (3,7,14) Avg F1: 0.7609 | ⚠️ Problem classes need attention\n",
      "\n",
      "📈 Epoch 72/100\n"
     ]
    },
    {
     "name": "stderr",
     "output_type": "stream",
     "text": [
      "Loss: 1.9171, Mixup: True, Cutout: False, RandomCrop: False: 100%|██████████| 126/126 [00:12<00:00, 10.46it/s]\n",
      "Val Loss: 0.6715: 100%|██████████| 32/32 [00:01<00:00, 21.79it/s]\n"
     ]
    },
    {
     "name": "stdout",
     "output_type": "stream",
     "text": [
      "  Class 3 F1: 0.8000\n",
      "  Class 7 F1: 0.7222\n",
      "  Class 14 F1: 0.8000\n",
      "  Problem Classes Avg F1: 0.7741\n",
      " Epoch 72 | Train Loss: 1.1402 | Train F1: 0.7758 | Val Loss: 1.0399 | Val F1: 0.9527 | LR: 5.81e-05\n",
      "         Problem Classes (3,7,14) Avg F1: 0.7741 | ⚠️ Problem classes need attention\n",
      "\n",
      "📈 Epoch 73/100\n"
     ]
    },
    {
     "name": "stderr",
     "output_type": "stream",
     "text": [
      "Loss: 1.4869, Mixup: True, Cutout: False, RandomCrop: False: 100%|██████████| 126/126 [00:11<00:00, 11.03it/s]\n",
      "Val Loss: 0.6702: 100%|██████████| 32/32 [00:01<00:00, 20.26it/s]\n"
     ]
    },
    {
     "name": "stdout",
     "output_type": "stream",
     "text": [
      "  Class 3 F1: 0.8182\n",
      "  Class 7 F1: 0.7568\n",
      "  Class 14 F1: 0.8421\n",
      "  Problem Classes Avg F1: 0.8057\n",
      " Epoch 73 | Train Loss: 1.1051 | Train F1: 0.7899 | Val Loss: 1.0351 | Val F1: 0.9533 | LR: 5.44e-05\n",
      "         Problem Classes (3,7,14) Avg F1: 0.8057 | ⚠️ Problem classes need attention\n",
      "\n",
      "📈 Epoch 74/100\n"
     ]
    },
    {
     "name": "stderr",
     "output_type": "stream",
     "text": [
      "Loss: 1.6319, Mixup: True, Cutout: False, RandomCrop: False: 100%|██████████| 126/126 [00:11<00:00, 11.10it/s]\n",
      "Val Loss: 0.6644: 100%|██████████| 32/32 [00:01<00:00, 20.31it/s]\n"
     ]
    },
    {
     "name": "stdout",
     "output_type": "stream",
     "text": [
      "  Class 3 F1: 0.7907\n",
      "  Class 7 F1: 0.7368\n",
      "  Class 14 F1: 0.8421\n",
      "  Problem Classes Avg F1: 0.7899\n",
      " Epoch 74 | Train Loss: 1.1230 | Train F1: 0.7926 | Val Loss: 1.0406 | Val F1: 0.9536 | LR: 5.08e-05\n",
      "         Problem Classes (3,7,14) Avg F1: 0.7899 | ⚠️ Problem classes need attention\n",
      "\n",
      "📈 Epoch 75/100\n"
     ]
    },
    {
     "name": "stderr",
     "output_type": "stream",
     "text": [
      "Loss: 1.5751, Mixup: True, Cutout: False, RandomCrop: False: 100%|██████████| 126/126 [00:11<00:00, 10.96it/s]\n",
      "Val Loss: 0.6656: 100%|██████████| 32/32 [00:01<00:00, 21.06it/s]\n"
     ]
    },
    {
     "name": "stdout",
     "output_type": "stream",
     "text": [
      "  Class 3 F1: 0.8293\n",
      "  Class 7 F1: 0.8000\n",
      "  Class 14 F1: 0.8421\n",
      "  Problem Classes Avg F1: 0.8238\n",
      " Epoch 75 | Train Loss: 1.0849 | Train F1: 0.8431 | Val Loss: 1.0413 | Val F1: 0.9596 | LR: 4.73e-05\n",
      "         Problem Classes (3,7,14) Avg F1: 0.8238 | ⚠️ Problem classes need attention\n",
      "\n",
      "📈 Epoch 76/100\n"
     ]
    },
    {
     "name": "stderr",
     "output_type": "stream",
     "text": [
      "Loss: 1.1487, Mixup: True, Cutout: False, RandomCrop: False: 100%|██████████| 126/126 [00:11<00:00, 11.12it/s]\n",
      "Val Loss: 0.6689: 100%|██████████| 32/32 [00:01<00:00, 20.02it/s]\n"
     ]
    },
    {
     "name": "stdout",
     "output_type": "stream",
     "text": [
      "  Class 3 F1: 0.8095\n",
      "  Class 7 F1: 0.7500\n",
      "  Class 14 F1: 0.8421\n",
      "  Problem Classes Avg F1: 0.8005\n",
      " Epoch 76 | Train Loss: 1.0647 | Train F1: 0.7851 | Val Loss: 1.0462 | Val F1: 0.9533 | LR: 4.39e-05\n",
      "         Problem Classes (3,7,14) Avg F1: 0.8005 | ⚠️ Problem classes need attention\n",
      "\n",
      "📈 Epoch 77/100\n"
     ]
    },
    {
     "name": "stderr",
     "output_type": "stream",
     "text": [
      "Loss: 0.7667, Mixup: False, Cutout: True, RandomCrop: False: 100%|██████████| 126/126 [00:11<00:00, 10.96it/s]\n",
      "Val Loss: 0.6752: 100%|██████████| 32/32 [00:01<00:00, 20.10it/s]\n"
     ]
    },
    {
     "name": "stdout",
     "output_type": "stream",
     "text": [
      "  Class 3 F1: 0.8182\n",
      "  Class 7 F1: 0.7368\n",
      "  Class 14 F1: 0.8000\n",
      "  Problem Classes Avg F1: 0.7850\n",
      " Epoch 77 | Train Loss: 1.1065 | Train F1: 0.7974 | Val Loss: 1.0515 | Val F1: 0.9490 | LR: 4.07e-05\n",
      "         Problem Classes (3,7,14) Avg F1: 0.7850 | ⚠️ Problem classes need attention\n",
      "\n",
      "📈 Epoch 78/100\n"
     ]
    },
    {
     "name": "stderr",
     "output_type": "stream",
     "text": [
      "Loss: 1.6813, Mixup: True, Cutout: False, RandomCrop: False: 100%|██████████| 126/126 [00:11<00:00, 11.11it/s]\n",
      "Val Loss: 0.6803: 100%|██████████| 32/32 [00:01<00:00, 19.59it/s]\n"
     ]
    },
    {
     "name": "stdout",
     "output_type": "stream",
     "text": [
      "  Class 3 F1: 0.8182\n",
      "  Class 7 F1: 0.7568\n",
      "  Class 14 F1: 0.8000\n",
      "  Problem Classes Avg F1: 0.7916\n",
      " Epoch 78 | Train Loss: 1.1165 | Train F1: 0.8006 | Val Loss: 1.0588 | Val F1: 0.9523 | LR: 3.75e-05\n",
      "         Problem Classes (3,7,14) Avg F1: 0.7916 | ⚠️ Problem classes need attention\n",
      "\n",
      "📈 Epoch 79/100\n"
     ]
    },
    {
     "name": "stderr",
     "output_type": "stream",
     "text": [
      "Loss: 0.5911, Mixup: False, Cutout: True, RandomCrop: False: 100%|██████████| 126/126 [00:11<00:00, 11.16it/s]\n",
      "Val Loss: 0.6866: 100%|██████████| 32/32 [00:01<00:00, 20.18it/s]\n"
     ]
    },
    {
     "name": "stdout",
     "output_type": "stream",
     "text": [
      "  Class 3 F1: 0.8182\n",
      "  Class 7 F1: 0.7368\n",
      "  Class 14 F1: 0.7778\n",
      "  Problem Classes Avg F1: 0.7776\n",
      " Epoch 79 | Train Loss: 1.0431 | Train F1: 0.8453 | Val Loss: 1.0465 | Val F1: 0.9515 | LR: 3.44e-05\n",
      "         Problem Classes (3,7,14) Avg F1: 0.7776 | ⚠️ Problem classes need attention\n",
      "\n",
      "📈 Epoch 80/100\n"
     ]
    },
    {
     "name": "stderr",
     "output_type": "stream",
     "text": [
      "Loss: 0.5950, Mixup: False, Cutout: True, RandomCrop: False: 100%|██████████| 126/126 [00:11<00:00, 11.02it/s]\n",
      "Val Loss: 0.6651: 100%|██████████| 32/32 [00:01<00:00, 20.65it/s]\n"
     ]
    },
    {
     "name": "stdout",
     "output_type": "stream",
     "text": [
      "  Class 3 F1: 0.8182\n",
      "  Class 7 F1: 0.7568\n",
      "  Class 14 F1: 0.8000\n",
      "  Problem Classes Avg F1: 0.7916\n",
      " Epoch 80 | Train Loss: 1.0813 | Train F1: 0.8251 | Val Loss: 1.0480 | Val F1: 0.9488 | LR: 3.15e-05\n",
      "         Problem Classes (3,7,14) Avg F1: 0.7916 | ⚠️ Problem classes need attention\n",
      "\n",
      "📈 Epoch 81/100\n"
     ]
    },
    {
     "name": "stderr",
     "output_type": "stream",
     "text": [
      "Loss: 0.7818, Mixup: False, Cutout: False, RandomCrop: True: 100%|██████████| 126/126 [00:11<00:00, 11.11it/s]\n",
      "Val Loss: 0.6680: 100%|██████████| 32/32 [00:01<00:00, 20.45it/s]\n"
     ]
    },
    {
     "name": "stdout",
     "output_type": "stream",
     "text": [
      "  Class 3 F1: 0.7826\n",
      "  Class 7 F1: 0.6857\n",
      "  Class 14 F1: 0.8000\n",
      "  Problem Classes Avg F1: 0.7561\n",
      " Epoch 81 | Train Loss: 1.0658 | Train F1: 0.8296 | Val Loss: 1.0638 | Val F1: 0.9460 | LR: 2.86e-05\n",
      "         Problem Classes (3,7,14) Avg F1: 0.7561 | ⚠️ Problem classes need attention\n",
      "\n",
      "📈 Epoch 82/100\n"
     ]
    },
    {
     "name": "stderr",
     "output_type": "stream",
     "text": [
      "Loss: 1.1151, Mixup: False, Cutout: True, RandomCrop: False: 100%|██████████| 126/126 [00:11<00:00, 10.91it/s]\n",
      "Val Loss: 0.6740: 100%|██████████| 32/32 [00:01<00:00, 20.16it/s]\n"
     ]
    },
    {
     "name": "stdout",
     "output_type": "stream",
     "text": [
      "  Class 3 F1: 0.8000\n",
      "  Class 7 F1: 0.7027\n",
      "  Class 14 F1: 0.8000\n",
      "  Problem Classes Avg F1: 0.7676\n",
      " Epoch 82 | Train Loss: 1.1106 | Train F1: 0.8075 | Val Loss: 1.0634 | Val F1: 0.9459 | LR: 2.59e-05\n",
      "         Problem Classes (3,7,14) Avg F1: 0.7676 | ⚠️ Problem classes need attention\n",
      "\n",
      "📈 Epoch 83/100\n"
     ]
    },
    {
     "name": "stderr",
     "output_type": "stream",
     "text": [
      "Loss: 1.1477, Mixup: False, Cutout: False, RandomCrop: True: 100%|██████████| 126/126 [00:11<00:00, 11.08it/s]\n",
      "Val Loss: 0.6696: 100%|██████████| 32/32 [00:01<00:00, 20.49it/s]\n"
     ]
    },
    {
     "name": "stdout",
     "output_type": "stream",
     "text": [
      "  Class 3 F1: 0.8085\n",
      "  Class 7 F1: 0.6857\n",
      "  Class 14 F1: 0.8000\n",
      "  Problem Classes Avg F1: 0.7647\n",
      " Epoch 83 | Train Loss: 1.1027 | Train F1: 0.8236 | Val Loss: 1.0681 | Val F1: 0.9454 | LR: 2.34e-05\n",
      "         Problem Classes (3,7,14) Avg F1: 0.7647 | ⚠️ Problem classes need attention\n",
      "\n",
      "📈 Epoch 84/100\n"
     ]
    },
    {
     "name": "stderr",
     "output_type": "stream",
     "text": [
      "Loss: 0.7707, Mixup: False, Cutout: False, RandomCrop: True: 100%|██████████| 126/126 [00:11<00:00, 11.15it/s]\n",
      "Val Loss: 0.6763: 100%|██████████| 32/32 [00:01<00:00, 20.45it/s]\n"
     ]
    },
    {
     "name": "stdout",
     "output_type": "stream",
     "text": [
      "  Class 3 F1: 0.8000\n",
      "  Class 7 F1: 0.7222\n",
      "  Class 14 F1: 0.8421\n",
      "  Problem Classes Avg F1: 0.7881\n",
      " Epoch 84 | Train Loss: 1.1130 | Train F1: 0.7881 | Val Loss: 1.0680 | Val F1: 0.9498 | LR: 2.09e-05\n",
      "         Problem Classes (3,7,14) Avg F1: 0.7881 | ⚠️ Problem classes need attention\n",
      "\n",
      "📈 Epoch 85/100\n"
     ]
    },
    {
     "name": "stderr",
     "output_type": "stream",
     "text": [
      "Loss: 0.8258, Mixup: False, Cutout: True, RandomCrop: False: 100%|██████████| 126/126 [00:11<00:00, 11.03it/s]\n",
      "Val Loss: 0.6773: 100%|██████████| 32/32 [00:01<00:00, 20.63it/s]\n"
     ]
    },
    {
     "name": "stdout",
     "output_type": "stream",
     "text": [
      "  Class 3 F1: 0.7907\n",
      "  Class 7 F1: 0.7368\n",
      "  Class 14 F1: 0.8421\n",
      "  Problem Classes Avg F1: 0.7899\n",
      " Epoch 85 | Train Loss: 1.0645 | Train F1: 0.8411 | Val Loss: 1.0468 | Val F1: 0.9501 | LR: 1.86e-05\n",
      "         Problem Classes (3,7,14) Avg F1: 0.7899 | ⚠️ Problem classes need attention\n",
      "\n",
      "📈 Epoch 86/100\n"
     ]
    },
    {
     "name": "stderr",
     "output_type": "stream",
     "text": [
      "Loss: 1.4472, Mixup: True, Cutout: False, RandomCrop: False: 100%|██████████| 126/126 [00:11<00:00, 11.09it/s]\n",
      "Val Loss: 0.6804: 100%|██████████| 32/32 [00:01<00:00, 19.98it/s]\n"
     ]
    },
    {
     "name": "stdout",
     "output_type": "stream",
     "text": [
      "  Class 3 F1: 0.8000\n",
      "  Class 7 F1: 0.7027\n",
      "  Class 14 F1: 0.8421\n",
      "  Problem Classes Avg F1: 0.7816\n",
      " Epoch 86 | Train Loss: 1.0569 | Train F1: 0.8176 | Val Loss: 1.0513 | Val F1: 0.9499 | LR: 1.63e-05\n",
      "         Problem Classes (3,7,14) Avg F1: 0.7816 | ⚠️ Problem classes need attention\n",
      "\n",
      "📈 Epoch 87/100\n"
     ]
    },
    {
     "name": "stderr",
     "output_type": "stream",
     "text": [
      "Loss: 1.8075, Mixup: True, Cutout: False, RandomCrop: False: 100%|██████████| 126/126 [00:11<00:00, 10.95it/s]\n",
      "Val Loss: 0.6761: 100%|██████████| 32/32 [00:01<00:00, 19.97it/s]\n"
     ]
    },
    {
     "name": "stdout",
     "output_type": "stream",
     "text": [
      "  Class 3 F1: 0.7826\n",
      "  Class 7 F1: 0.6667\n",
      "  Class 14 F1: 0.8000\n",
      "  Problem Classes Avg F1: 0.7498\n",
      " Epoch 87 | Train Loss: 1.0829 | Train F1: 0.8044 | Val Loss: 1.0591 | Val F1: 0.9427 | LR: 1.43e-05\n",
      "         Problem Classes (3,7,14) Avg F1: 0.7498 | ⚠️ Problem classes need attention\n",
      "\n",
      "📈 Epoch 88/100\n"
     ]
    },
    {
     "name": "stderr",
     "output_type": "stream",
     "text": [
      "Loss: 0.7853, Mixup: False, Cutout: False, RandomCrop: True: 100%|██████████| 126/126 [00:11<00:00, 11.05it/s]\n",
      "Val Loss: 0.6653: 100%|██████████| 32/32 [00:01<00:00, 19.82it/s]\n"
     ]
    },
    {
     "name": "stdout",
     "output_type": "stream",
     "text": [
      "  Class 3 F1: 0.7826\n",
      "  Class 7 F1: 0.6667\n",
      "  Class 14 F1: 0.8000\n",
      "  Problem Classes Avg F1: 0.7498\n",
      " Epoch 88 | Train Loss: 1.0929 | Train F1: 0.7776 | Val Loss: 1.0533 | Val F1: 0.9393 | LR: 1.23e-05\n",
      "         Problem Classes (3,7,14) Avg F1: 0.7498 | ⚠️ Problem classes need attention\n",
      "\n",
      "📈 Epoch 89/100\n"
     ]
    },
    {
     "name": "stderr",
     "output_type": "stream",
     "text": [
      "Loss: 0.7614, Mixup: False, Cutout: False, RandomCrop: True: 100%|██████████| 126/126 [00:11<00:00, 10.99it/s]\n",
      "Val Loss: 0.6764: 100%|██████████| 32/32 [00:01<00:00, 20.03it/s]\n"
     ]
    },
    {
     "name": "stdout",
     "output_type": "stream",
     "text": [
      "  Class 3 F1: 0.7826\n",
      "  Class 7 F1: 0.7027\n",
      "  Class 14 F1: 0.8000\n",
      "  Problem Classes Avg F1: 0.7618\n",
      " Epoch 89 | Train Loss: 1.0846 | Train F1: 0.7986 | Val Loss: 1.0511 | Val F1: 0.9463 | LR: 1.05e-05\n",
      "         Problem Classes (3,7,14) Avg F1: 0.7618 | ⚠️ Problem classes need attention\n",
      "\n",
      "📈 Epoch 90/100\n"
     ]
    },
    {
     "name": "stderr",
     "output_type": "stream",
     "text": [
      "Loss: 1.1245, Mixup: False, Cutout: True, RandomCrop: False: 100%|██████████| 126/126 [00:11<00:00, 11.10it/s]\n",
      "Val Loss: 0.6730: 100%|██████████| 32/32 [00:01<00:00, 20.59it/s]\n"
     ]
    },
    {
     "name": "stdout",
     "output_type": "stream",
     "text": [
      "  Class 3 F1: 0.8182\n",
      "  Class 7 F1: 0.7368\n",
      "  Class 14 F1: 0.8421\n",
      "  Problem Classes Avg F1: 0.7990\n",
      " Epoch 90 | Train Loss: 1.0518 | Train F1: 0.8482 | Val Loss: 1.0504 | Val F1: 0.9530 | LR: 8.87e-06\n",
      "         Problem Classes (3,7,14) Avg F1: 0.7990 | ⚠️ Problem classes need attention\n",
      "\n",
      "📈 Epoch 91/100\n"
     ]
    },
    {
     "name": "stderr",
     "output_type": "stream",
     "text": [
      "Loss: 0.5154, Mixup: False, Cutout: True, RandomCrop: False: 100%|██████████| 126/126 [00:11<00:00, 10.92it/s]\n",
      "Val Loss: 0.6718: 100%|██████████| 32/32 [00:01<00:00, 20.63it/s]\n"
     ]
    },
    {
     "name": "stdout",
     "output_type": "stream",
     "text": [
      "  Class 3 F1: 0.8000\n",
      "  Class 7 F1: 0.7027\n",
      "  Class 14 F1: 0.8421\n",
      "  Problem Classes Avg F1: 0.7816\n",
      " Epoch 91 | Train Loss: 1.0807 | Train F1: 0.8164 | Val Loss: 1.0550 | Val F1: 0.9413 | LR: 7.34e-06\n",
      "         Problem Classes (3,7,14) Avg F1: 0.7816 | ⚠️ Problem classes need attention\n",
      "\n",
      "📈 Epoch 92/100\n"
     ]
    },
    {
     "name": "stderr",
     "output_type": "stream",
     "text": [
      "Loss: 0.4957, Mixup: False, Cutout: True, RandomCrop: False: 100%|██████████| 126/126 [00:11<00:00, 11.10it/s]\n",
      "Val Loss: 0.6739: 100%|██████████| 32/32 [00:01<00:00, 19.71it/s]\n"
     ]
    },
    {
     "name": "stdout",
     "output_type": "stream",
     "text": [
      "  Class 3 F1: 0.8000\n",
      "  Class 7 F1: 0.7222\n",
      "  Class 14 F1: 0.8421\n",
      "  Problem Classes Avg F1: 0.7881\n",
      " Epoch 92 | Train Loss: 1.0702 | Train F1: 0.8038 | Val Loss: 1.0509 | Val F1: 0.9498 | LR: 5.96e-06\n",
      "         Problem Classes (3,7,14) Avg F1: 0.7881 | ⚠️ Problem classes need attention\n",
      "\n",
      "📈 Epoch 93/100\n"
     ]
    },
    {
     "name": "stderr",
     "output_type": "stream",
     "text": [
      "Loss: 0.7725, Mixup: False, Cutout: False, RandomCrop: True: 100%|██████████| 126/126 [00:11<00:00, 11.14it/s]\n",
      "Val Loss: 0.6715: 100%|██████████| 32/32 [00:01<00:00, 20.68it/s]\n"
     ]
    },
    {
     "name": "stdout",
     "output_type": "stream",
     "text": [
      "  Class 3 F1: 0.8000\n",
      "  Class 7 F1: 0.7222\n",
      "  Class 14 F1: 0.8000\n",
      "  Problem Classes Avg F1: 0.7741\n",
      " Epoch 93 | Train Loss: 1.1285 | Train F1: 0.7995 | Val Loss: 1.0537 | Val F1: 0.9492 | LR: 4.71e-06\n",
      "         Problem Classes (3,7,14) Avg F1: 0.7741 | ⚠️ Problem classes need attention\n",
      "\n",
      "📈 Epoch 94/100\n"
     ]
    },
    {
     "name": "stderr",
     "output_type": "stream",
     "text": [
      "Loss: 0.7818, Mixup: True, Cutout: False, RandomCrop: False: 100%|██████████| 126/126 [00:11<00:00, 11.06it/s]\n",
      "Val Loss: 0.6671: 100%|██████████| 32/32 [00:01<00:00, 19.54it/s]\n"
     ]
    },
    {
     "name": "stdout",
     "output_type": "stream",
     "text": [
      "  Class 3 F1: 0.7826\n",
      "  Class 7 F1: 0.6857\n",
      "  Class 14 F1: 0.8000\n",
      "  Problem Classes Avg F1: 0.7561\n",
      " Epoch 94 | Train Loss: 1.1040 | Train F1: 0.8069 | Val Loss: 1.0578 | Val F1: 0.9460 | LR: 3.61e-06\n",
      "         Problem Classes (3,7,14) Avg F1: 0.7561 | ⚠️ Problem classes need attention\n",
      "\n",
      "📈 Epoch 95/100\n"
     ]
    },
    {
     "name": "stderr",
     "output_type": "stream",
     "text": [
      "Loss: 0.7653, Mixup: False, Cutout: True, RandomCrop: False: 100%|██████████| 126/126 [00:11<00:00, 11.03it/s]\n",
      "Val Loss: 0.6662: 100%|██████████| 32/32 [00:01<00:00, 20.62it/s]\n"
     ]
    },
    {
     "name": "stdout",
     "output_type": "stream",
     "text": [
      "  Class 3 F1: 0.8000\n",
      "  Class 7 F1: 0.6842\n",
      "  Class 14 F1: 0.7778\n",
      "  Problem Classes Avg F1: 0.7540\n",
      " Epoch 95 | Train Loss: 1.0522 | Train F1: 0.8075 | Val Loss: 1.0517 | Val F1: 0.9451 | LR: 2.66e-06\n",
      "         Problem Classes (3,7,14) Avg F1: 0.7540 | ⚠️ Problem classes need attention\n",
      "\n",
      "📈 Epoch 96/100\n"
     ]
    },
    {
     "name": "stderr",
     "output_type": "stream",
     "text": [
      "Loss: 0.9507, Mixup: True, Cutout: False, RandomCrop: False: 100%|██████████| 126/126 [00:11<00:00, 11.14it/s]\n",
      "Val Loss: 0.6687: 100%|██████████| 32/32 [00:01<00:00, 20.68it/s]\n"
     ]
    },
    {
     "name": "stdout",
     "output_type": "stream",
     "text": [
      "  Class 3 F1: 0.7826\n",
      "  Class 7 F1: 0.6857\n",
      "  Class 14 F1: 0.8421\n",
      "  Problem Classes Avg F1: 0.7701\n",
      " Epoch 96 | Train Loss: 1.0344 | Train F1: 0.8408 | Val Loss: 1.0589 | Val F1: 0.9501 | LR: 1.85e-06\n",
      "         Problem Classes (3,7,14) Avg F1: 0.7701 | ⚠️ Problem classes need attention\n",
      "\n",
      "📈 Epoch 97/100\n"
     ]
    },
    {
     "name": "stderr",
     "output_type": "stream",
     "text": [
      "Loss: 1.4891, Mixup: True, Cutout: False, RandomCrop: False: 100%|██████████| 126/126 [00:11<00:00, 11.01it/s]\n",
      "Val Loss: 0.6641: 100%|██████████| 32/32 [00:01<00:00, 20.77it/s]\n"
     ]
    },
    {
     "name": "stdout",
     "output_type": "stream",
     "text": [
      "  Class 3 F1: 0.7826\n",
      "  Class 7 F1: 0.6857\n",
      "  Class 14 F1: 0.8421\n",
      "  Problem Classes Avg F1: 0.7701\n",
      " Epoch 97 | Train Loss: 1.0679 | Train F1: 0.8145 | Val Loss: 1.0635 | Val F1: 0.9501 | LR: 1.18e-06\n",
      "         Problem Classes (3,7,14) Avg F1: 0.7701 | ⚠️ Problem classes need attention\n",
      "\n",
      "📈 Epoch 98/100\n"
     ]
    },
    {
     "name": "stderr",
     "output_type": "stream",
     "text": [
      "Loss: 1.2139, Mixup: False, Cutout: False, RandomCrop: True: 100%|██████████| 126/126 [00:11<00:00, 10.91it/s]\n",
      "Val Loss: 0.6676: 100%|██████████| 32/32 [00:01<00:00, 20.90it/s]\n"
     ]
    },
    {
     "name": "stdout",
     "output_type": "stream",
     "text": [
      "  Class 3 F1: 0.8000\n",
      "  Class 7 F1: 0.7027\n",
      "  Class 14 F1: 0.7778\n",
      "  Problem Classes Avg F1: 0.7602\n",
      " Epoch 98 | Train Loss: 1.0583 | Train F1: 0.8687 | Val Loss: 1.0565 | Val F1: 0.9483 | LR: 6.66e-07\n",
      "         Problem Classes (3,7,14) Avg F1: 0.7602 | ⚠️ Problem classes need attention\n",
      "\n",
      "📈 Epoch 99/100\n"
     ]
    },
    {
     "name": "stderr",
     "output_type": "stream",
     "text": [
      "Loss: 1.1399, Mixup: False, Cutout: False, RandomCrop: True: 100%|██████████| 126/126 [00:11<00:00, 11.06it/s]\n",
      "Val Loss: 0.6704: 100%|██████████| 32/32 [00:01<00:00, 20.26it/s]\n"
     ]
    },
    {
     "name": "stdout",
     "output_type": "stream",
     "text": [
      "  Class 3 F1: 0.8000\n",
      "  Class 7 F1: 0.7222\n",
      "  Class 14 F1: 0.8421\n",
      "  Problem Classes Avg F1: 0.7881\n",
      " Epoch 99 | Train Loss: 1.1008 | Train F1: 0.8025 | Val Loss: 1.0518 | Val F1: 0.9533 | LR: 2.96e-07\n",
      "         Problem Classes (3,7,14) Avg F1: 0.7881 | ⚠️ Problem classes need attention\n",
      "\n",
      "📈 Epoch 100/100\n"
     ]
    },
    {
     "name": "stderr",
     "output_type": "stream",
     "text": [
      "Loss: 2.4104, Mixup: True, Cutout: False, RandomCrop: False: 100%|██████████| 126/126 [00:11<00:00, 11.06it/s]\n",
      "Val Loss: 0.6766: 100%|██████████| 32/32 [00:01<00:00, 19.96it/s]\n"
     ]
    },
    {
     "name": "stdout",
     "output_type": "stream",
     "text": [
      "  Class 3 F1: 0.8000\n",
      "  Class 7 F1: 0.7027\n",
      "  Class 14 F1: 0.8000\n",
      "  Problem Classes Avg F1: 0.7676\n",
      " Epoch 100 | Train Loss: 1.1060 | Train F1: 0.7612 | Val Loss: 1.0603 | Val F1: 0.9405 | LR: 7.40e-08\n",
      "         Problem Classes (3,7,14) Avg F1: 0.7676 | ⚠️ Problem classes need attention\n",
      "\n",
      " Fold 2 완료!\n",
      " 최고 Validation F1: 0.9623\n",
      " 학습된 에폭: 100/100\n"
     ]
    },
    {
     "data": {
      "text/html": [],
      "text/plain": [
       "<IPython.core.display.HTML object>"
      ]
     },
     "metadata": {},
     "output_type": "display_data"
    },
    {
     "data": {
      "text/html": [
       "<br>    <style><br>        .wandb-row {<br>            display: flex;<br>            flex-direction: row;<br>            flex-wrap: wrap;<br>            justify-content: flex-start;<br>            width: 100%;<br>        }<br>        .wandb-col {<br>            display: flex;<br>            flex-direction: column;<br>            flex-basis: 100%;<br>            flex: 1;<br>            padding: 10px;<br>        }<br>    </style><br><div class=\"wandb-row\"><div class=\"wandb-col\"><h3>Run history:</h3><br/><table class=\"wandb\"><tr><td>best_performance/epoch</td><td>▁▁▁▂▂▂▂▂▄▄▄▅▆▆█</td></tr><tr><td>best_performance/problem_classes_f1</td><td>▁▂▂▃▃▄▄▅▅▆▇▇▇██</td></tr><tr><td>best_performance/val_acc</td><td>▁▄▆▆▆▇▇▇▇▇█████</td></tr><tr><td>best_performance/val_f1</td><td>▁▄▅▆▆▆▇▇▇▇█████</td></tr><tr><td>best_performance/val_loss</td><td>█▅▄▄▃▃▃▂▂▂▂▁▁▁▁</td></tr><tr><td>fold_2/all_class_0_f1</td><td>▁</td></tr><tr><td>fold_2/all_class_10_f1</td><td>▁</td></tr><tr><td>fold_2/all_class_11_f1</td><td>▁</td></tr><tr><td>fold_2/all_class_12_f1</td><td>▁</td></tr><tr><td>fold_2/all_class_13_f1</td><td>▁</td></tr><tr><td>+23</td><td>...</td></tr></table><br/></div><div class=\"wandb-col\"><h3>Run summary:</h3><br/><table class=\"wandb\"><tr><td>best_performance/epoch</td><td>68</td></tr><tr><td>best_performance/problem_classes_f1</td><td>0.82293</td></tr><tr><td>best_performance/val_acc</td><td>0.96497</td></tr><tr><td>best_performance/val_f1</td><td>0.96235</td></tr><tr><td>best_performance/val_loss</td><td>1.03816</td></tr><tr><td>fold_2/all_class_0_f1</td><td>0.97561</td></tr><tr><td>fold_2/all_class_10_f1</td><td>1</td></tr><tr><td>fold_2/all_class_11_f1</td><td>0.95</td></tr><tr><td>fold_2/all_class_12_f1</td><td>1</td></tr><tr><td>fold_2/all_class_13_f1</td><td>0.89655</td></tr><tr><td>+24</td><td>...</td></tr></table><br/></div></div>"
      ],
      "text/plain": [
       "<IPython.core.display.HTML object>"
      ]
     },
     "metadata": {},
     "output_type": "display_data"
    },
    {
     "data": {
      "text/html": [
       " View run <strong style=\"color:#cdcd00\">fold-2-efficientnet_b3-1329</strong> at: <a href='https://wandb.ai/kimsunmin0227-hufs/document-classification-team-CV/runs/w31413kf' target=\"_blank\">https://wandb.ai/kimsunmin0227-hufs/document-classification-team-CV/runs/w31413kf</a><br> View project at: <a href='https://wandb.ai/kimsunmin0227-hufs/document-classification-team-CV' target=\"_blank\">https://wandb.ai/kimsunmin0227-hufs/document-classification-team-CV</a><br>Synced 5 W&B file(s), 1 media file(s), 2 artifact file(s) and 1 other file(s)"
      ],
      "text/plain": [
       "<IPython.core.display.HTML object>"
      ]
     },
     "metadata": {},
     "output_type": "display_data"
    },
    {
     "data": {
      "text/html": [
       "Find logs at: <code>./wandb/run-20250908_132957-w31413kf/logs</code>"
      ],
      "text/plain": [
       "<IPython.core.display.HTML object>"
      ]
     },
     "metadata": {},
     "output_type": "display_data"
    },
    {
     "name": "stdout",
     "output_type": "stream",
     "text": [
      "\n",
      "==================================================\n",
      " FOLD 3/5\n",
      "==================================================\n"
     ]
    },
    {
     "data": {
      "text/html": [
       "creating run (0.2s)"
      ],
      "text/plain": [
       "<IPython.core.display.HTML object>"
      ]
     },
     "metadata": {},
     "output_type": "display_data"
    },
    {
     "data": {
      "text/html": [
       "Tracking run with wandb version 0.21.3"
      ],
      "text/plain": [
       "<IPython.core.display.HTML object>"
      ]
     },
     "metadata": {},
     "output_type": "display_data"
    },
    {
     "data": {
      "text/html": [
       "Run data is saved locally in <code>/root/computervisioncompetition-cv-1/mywork/experiments/wandb/run-20250908_135146-y0j6nlot</code>"
      ],
      "text/plain": [
       "<IPython.core.display.HTML object>"
      ]
     },
     "metadata": {},
     "output_type": "display_data"
    },
    {
     "data": {
      "text/html": [
       "Syncing run <strong><a href='https://wandb.ai/kimsunmin0227-hufs/document-classification-team-CV/runs/y0j6nlot' target=\"_blank\">fold-3-efficientnet_b3-1351</a></strong> to <a href='https://wandb.ai/kimsunmin0227-hufs/document-classification-team-CV' target=\"_blank\">Weights & Biases</a> (<a href='https://wandb.me/developer-guide' target=\"_blank\">docs</a>)<br>"
      ],
      "text/plain": [
       "<IPython.core.display.HTML object>"
      ]
     },
     "metadata": {},
     "output_type": "display_data"
    },
    {
     "data": {
      "text/html": [
       " View project at <a href='https://wandb.ai/kimsunmin0227-hufs/document-classification-team-CV' target=\"_blank\">https://wandb.ai/kimsunmin0227-hufs/document-classification-team-CV</a>"
      ],
      "text/plain": [
       "<IPython.core.display.HTML object>"
      ]
     },
     "metadata": {},
     "output_type": "display_data"
    },
    {
     "data": {
      "text/html": [
       " View run at <a href='https://wandb.ai/kimsunmin0227-hufs/document-classification-team-CV/runs/y0j6nlot' target=\"_blank\">https://wandb.ai/kimsunmin0227-hufs/document-classification-team-CV/runs/y0j6nlot</a>"
      ],
      "text/plain": [
       "<IPython.core.display.HTML object>"
      ]
     },
     "metadata": {},
     "output_type": "display_data"
    },
    {
     "name": "stdout",
     "output_type": "stream",
     "text": [
      "📊 Fold 3 Dashboard: https://wandb.ai/kimsunmin0227-hufs/document-classification-team-CV/runs/y0j6nlot\n",
      "Train samples: 1256, Validation samples: 314\n",
      " 모델 학습 시작 - Fold 3\n",
      "\n",
      "📈 Epoch 1/100\n"
     ]
    },
    {
     "name": "stderr",
     "output_type": "stream",
     "text": [
      "Loss: 1.4371, Mixup: False, Cutout: False, RandomCrop: True: 100%|██████████| 126/126 [00:11<00:00, 10.98it/s]\n",
      "Val Loss: 2.0285: 100%|██████████| 32/32 [00:01<00:00, 20.64it/s]\n"
     ]
    },
    {
     "name": "stdout",
     "output_type": "stream",
     "text": [
      "  Class 3 F1: 0.3333\n",
      "  Class 7 F1: 0.0000\n",
      "  Class 14 F1: 0.0000\n",
      "  Problem Classes Avg F1: 0.1111\n",
      " Epoch  1 | Train Loss: 2.6199 | Train F1: 0.2488 | Val Loss: 1.8263 | Val F1: 0.5363 | LR: 3.00e-04\n",
      "         Problem Classes (3,7,14) Avg F1: 0.1111 | ✅ Problem classes performing well\n",
      "🎉 새로운 최고 성능! F1: 0.5363 (Problem Classes: 0.1111)\n",
      "\n",
      "📈 Epoch 2/100\n"
     ]
    },
    {
     "name": "stderr",
     "output_type": "stream",
     "text": [
      "Loss: 3.1507, Mixup: True, Cutout: False, RandomCrop: False: 100%|██████████| 126/126 [00:11<00:00, 10.93it/s]\n",
      "Val Loss: 1.2891: 100%|██████████| 32/32 [00:01<00:00, 20.43it/s]\n"
     ]
    },
    {
     "name": "stdout",
     "output_type": "stream",
     "text": [
      "  Class 3 F1: 0.1429\n",
      "  Class 7 F1: 0.3908\n",
      "  Class 14 F1: 0.0000\n",
      "  Problem Classes Avg F1: 0.1779\n",
      " Epoch  2 | Train Loss: 2.0426 | Train F1: 0.4576 | Val Loss: 1.5374 | Val F1: 0.6906 | LR: 3.00e-04\n",
      "         Problem Classes (3,7,14) Avg F1: 0.1779 | ⚠️ Problem classes need attention\n",
      "🎉 새로운 최고 성능! F1: 0.6906 (Problem Classes: 0.1779)\n",
      "\n",
      "📈 Epoch 3/100\n"
     ]
    },
    {
     "name": "stderr",
     "output_type": "stream",
     "text": [
      "Loss: 1.2577, Mixup: False, Cutout: False, RandomCrop: True: 100%|██████████| 126/126 [00:11<00:00, 10.86it/s]\n",
      "Val Loss: 1.2967: 100%|██████████| 32/32 [00:01<00:00, 20.81it/s]\n"
     ]
    },
    {
     "name": "stdout",
     "output_type": "stream",
     "text": [
      "  Class 3 F1: 0.2143\n",
      "  Class 7 F1: 0.4235\n",
      "  Class 14 F1: 0.2105\n",
      "  Problem Classes Avg F1: 0.2828\n",
      " Epoch  3 | Train Loss: 1.9006 | Train F1: 0.5250 | Val Loss: 1.4838 | Val F1: 0.7574 | LR: 3.00e-04\n",
      "         Problem Classes (3,7,14) Avg F1: 0.2828 | ⚠️ Problem classes need attention\n",
      "🎉 새로운 최고 성능! F1: 0.7574 (Problem Classes: 0.2828)\n",
      "\n",
      "📈 Epoch 4/100\n"
     ]
    },
    {
     "name": "stderr",
     "output_type": "stream",
     "text": [
      "Loss: 2.0788, Mixup: True, Cutout: False, RandomCrop: False: 100%|██████████| 126/126 [00:11<00:00, 11.04it/s]\n",
      "Val Loss: 1.3138: 100%|██████████| 32/32 [00:01<00:00, 20.81it/s]\n"
     ]
    },
    {
     "name": "stdout",
     "output_type": "stream",
     "text": [
      "  Class 3 F1: 0.3704\n",
      "  Class 7 F1: 0.4583\n",
      "  Class 14 F1: 0.2500\n",
      "  Problem Classes Avg F1: 0.3596\n",
      " Epoch  4 | Train Loss: 1.8405 | Train F1: 0.5612 | Val Loss: 1.3546 | Val F1: 0.8284 | LR: 2.99e-04\n",
      "         Problem Classes (3,7,14) Avg F1: 0.3596 | ⚠️ Problem classes need attention\n",
      "🎉 새로운 최고 성능! F1: 0.8284 (Problem Classes: 0.3596)\n",
      "\n",
      "📈 Epoch 5/100\n"
     ]
    },
    {
     "name": "stderr",
     "output_type": "stream",
     "text": [
      "Loss: 1.9928, Mixup: True, Cutout: False, RandomCrop: False: 100%|██████████| 126/126 [00:11<00:00, 11.07it/s]\n",
      "Val Loss: 1.2865: 100%|██████████| 32/32 [00:01<00:00, 20.11it/s]\n"
     ]
    },
    {
     "name": "stdout",
     "output_type": "stream",
     "text": [
      "  Class 3 F1: 0.1818\n",
      "  Class 7 F1: 0.3951\n",
      "  Class 14 F1: 0.1818\n",
      "  Problem Classes Avg F1: 0.2529\n",
      " Epoch  5 | Train Loss: 1.8065 | Train F1: 0.5899 | Val Loss: 1.4119 | Val F1: 0.7610 | LR: 2.99e-04\n",
      "         Problem Classes (3,7,14) Avg F1: 0.2529 | ⚠️ Problem classes need attention\n",
      "\n",
      "📈 Epoch 6/100\n"
     ]
    },
    {
     "name": "stderr",
     "output_type": "stream",
     "text": [
      "Loss: 1.1758, Mixup: False, Cutout: True, RandomCrop: False: 100%|██████████| 126/126 [00:11<00:00, 10.99it/s]\n",
      "Val Loss: 1.2185: 100%|██████████| 32/32 [00:01<00:00, 20.40it/s]\n"
     ]
    },
    {
     "name": "stdout",
     "output_type": "stream",
     "text": [
      "  Class 3 F1: 0.3636\n",
      "  Class 7 F1: 0.4407\n",
      "  Class 14 F1: 0.4615\n",
      "  Problem Classes Avg F1: 0.4220\n",
      " Epoch  6 | Train Loss: 1.6519 | Train F1: 0.6103 | Val Loss: 1.2874 | Val F1: 0.8476 | LR: 2.98e-04\n",
      "         Problem Classes (3,7,14) Avg F1: 0.4220 | ⚠️ Problem classes need attention\n",
      "🎉 새로운 최고 성능! F1: 0.8476 (Problem Classes: 0.4220)\n",
      "\n",
      "📈 Epoch 7/100\n"
     ]
    },
    {
     "name": "stderr",
     "output_type": "stream",
     "text": [
      "Loss: 2.5381, Mixup: True, Cutout: False, RandomCrop: False: 100%|██████████| 126/126 [00:11<00:00, 10.93it/s]\n",
      "Val Loss: 1.2299: 100%|██████████| 32/32 [00:01<00:00, 19.86it/s]\n"
     ]
    },
    {
     "name": "stdout",
     "output_type": "stream",
     "text": [
      "  Class 3 F1: 0.4848\n",
      "  Class 7 F1: 0.5957\n",
      "  Class 14 F1: 0.4211\n",
      "  Problem Classes Avg F1: 0.5005\n",
      " Epoch  7 | Train Loss: 1.5697 | Train F1: 0.6400 | Val Loss: 1.2709 | Val F1: 0.8926 | LR: 2.97e-04\n",
      "         Problem Classes (3,7,14) Avg F1: 0.5005 | ⚠️ Problem classes need attention\n",
      "🎉 새로운 최고 성능! F1: 0.8926 (Problem Classes: 0.5005)\n",
      "\n",
      "📈 Epoch 8/100\n"
     ]
    },
    {
     "name": "stderr",
     "output_type": "stream",
     "text": [
      "Loss: 1.5330, Mixup: True, Cutout: False, RandomCrop: False: 100%|██████████| 126/126 [00:11<00:00, 11.00it/s]\n",
      "Val Loss: 1.1968: 100%|██████████| 32/32 [00:01<00:00, 20.20it/s]\n"
     ]
    },
    {
     "name": "stdout",
     "output_type": "stream",
     "text": [
      "  Class 3 F1: 0.6000\n",
      "  Class 7 F1: 0.4375\n",
      "  Class 14 F1: 0.5714\n",
      "  Problem Classes Avg F1: 0.5363\n",
      " Epoch  8 | Train Loss: 1.5110 | Train F1: 0.6530 | Val Loss: 1.2600 | Val F1: 0.8917 | LR: 2.96e-04\n",
      "         Problem Classes (3,7,14) Avg F1: 0.5363 | ⚠️ Problem classes need attention\n",
      "\n",
      "📈 Epoch 9/100\n"
     ]
    },
    {
     "name": "stderr",
     "output_type": "stream",
     "text": [
      "Loss: 1.0593, Mixup: False, Cutout: False, RandomCrop: True: 100%|██████████| 126/126 [00:11<00:00, 11.04it/s]\n",
      "Val Loss: 1.1744: 100%|██████████| 32/32 [00:01<00:00, 20.36it/s]\n"
     ]
    },
    {
     "name": "stdout",
     "output_type": "stream",
     "text": [
      "  Class 3 F1: 0.6111\n",
      "  Class 7 F1: 0.5641\n",
      "  Class 14 F1: 0.5455\n",
      "  Problem Classes Avg F1: 0.5736\n",
      " Epoch  9 | Train Loss: 1.4801 | Train F1: 0.6769 | Val Loss: 1.2193 | Val F1: 0.9043 | LR: 2.95e-04\n",
      "         Problem Classes (3,7,14) Avg F1: 0.5736 | ⚠️ Problem classes need attention\n",
      "🎉 새로운 최고 성능! F1: 0.9043 (Problem Classes: 0.5736)\n",
      "\n",
      "📈 Epoch 10/100\n"
     ]
    },
    {
     "name": "stderr",
     "output_type": "stream",
     "text": [
      "Loss: 1.1739, Mixup: False, Cutout: False, RandomCrop: True: 100%|██████████| 126/126 [00:11<00:00, 10.95it/s]\n",
      "Val Loss: 1.2193: 100%|██████████| 32/32 [00:01<00:00, 21.53it/s]\n"
     ]
    },
    {
     "name": "stdout",
     "output_type": "stream",
     "text": [
      "  Class 3 F1: 0.6486\n",
      "  Class 7 F1: 0.5581\n",
      "  Class 14 F1: 0.7273\n",
      "  Problem Classes Avg F1: 0.6447\n",
      " Epoch 10 | Train Loss: 1.4564 | Train F1: 0.7213 | Val Loss: 1.2298 | Val F1: 0.9221 | LR: 2.94e-04\n",
      "         Problem Classes (3,7,14) Avg F1: 0.6447 | ⚠️ Problem classes need attention\n",
      "🎉 새로운 최고 성능! F1: 0.9221 (Problem Classes: 0.6447)\n",
      "\n",
      "📈 Epoch 11/100\n"
     ]
    },
    {
     "name": "stderr",
     "output_type": "stream",
     "text": [
      "Loss: 1.2904, Mixup: False, Cutout: True, RandomCrop: False: 100%|██████████| 126/126 [00:11<00:00, 10.92it/s]\n",
      "Val Loss: 1.2197: 100%|██████████| 32/32 [00:01<00:00, 19.81it/s]\n"
     ]
    },
    {
     "name": "stdout",
     "output_type": "stream",
     "text": [
      "  Class 3 F1: 0.5660\n",
      "  Class 7 F1: 0.4516\n",
      "  Class 14 F1: 0.5000\n",
      "  Problem Classes Avg F1: 0.5059\n",
      " Epoch 11 | Train Loss: 1.4298 | Train F1: 0.7630 | Val Loss: 1.1979 | Val F1: 0.9001 | LR: 2.93e-04\n",
      "         Problem Classes (3,7,14) Avg F1: 0.5059 | ⚠️ Problem classes need attention\n",
      "\n",
      "📈 Epoch 12/100\n"
     ]
    },
    {
     "name": "stderr",
     "output_type": "stream",
     "text": [
      "Loss: 2.1616, Mixup: True, Cutout: False, RandomCrop: False: 100%|██████████| 126/126 [00:11<00:00, 10.94it/s]\n",
      "Val Loss: 1.1838: 100%|██████████| 32/32 [00:01<00:00, 20.57it/s]\n"
     ]
    },
    {
     "name": "stdout",
     "output_type": "stream",
     "text": [
      "  Class 3 F1: 0.7347\n",
      "  Class 7 F1: 0.5000\n",
      "  Class 14 F1: 0.4286\n",
      "  Problem Classes Avg F1: 0.5544\n",
      " Epoch 12 | Train Loss: 1.4384 | Train F1: 0.7059 | Val Loss: 1.1994 | Val F1: 0.9047 | LR: 2.91e-04\n",
      "         Problem Classes (3,7,14) Avg F1: 0.5544 | ⚠️ Problem classes need attention\n",
      "\n",
      "📈 Epoch 13/100\n"
     ]
    },
    {
     "name": "stderr",
     "output_type": "stream",
     "text": [
      "Loss: 2.1061, Mixup: True, Cutout: False, RandomCrop: False: 100%|██████████| 126/126 [00:11<00:00, 11.12it/s]\n",
      "Val Loss: 1.1571: 100%|██████████| 32/32 [00:01<00:00, 20.29it/s]\n"
     ]
    },
    {
     "name": "stdout",
     "output_type": "stream",
     "text": [
      "  Class 3 F1: 0.5556\n",
      "  Class 7 F1: 0.5000\n",
      "  Class 14 F1: 0.5714\n",
      "  Problem Classes Avg F1: 0.5423\n",
      " Epoch 13 | Train Loss: 1.4667 | Train F1: 0.7268 | Val Loss: 1.2104 | Val F1: 0.9016 | LR: 2.89e-04\n",
      "         Problem Classes (3,7,14) Avg F1: 0.5423 | ⚠️ Problem classes need attention\n",
      "\n",
      "📈 Epoch 14/100\n"
     ]
    },
    {
     "name": "stderr",
     "output_type": "stream",
     "text": [
      "Loss: 1.2668, Mixup: False, Cutout: False, RandomCrop: True: 100%|██████████| 126/126 [00:11<00:00, 11.09it/s]\n",
      "Val Loss: 1.2181: 100%|██████████| 32/32 [00:01<00:00, 20.54it/s]\n"
     ]
    },
    {
     "name": "stdout",
     "output_type": "stream",
     "text": [
      "  Class 3 F1: 0.5574\n",
      "  Class 7 F1: 0.3030\n",
      "  Class 14 F1: 0.2857\n",
      "  Problem Classes Avg F1: 0.3820\n",
      " Epoch 14 | Train Loss: 1.4275 | Train F1: 0.7386 | Val Loss: 1.2694 | Val F1: 0.8704 | LR: 2.88e-04\n",
      "         Problem Classes (3,7,14) Avg F1: 0.3820 | ⚠️ Problem classes need attention\n",
      "\n",
      "📈 Epoch 15/100\n"
     ]
    },
    {
     "name": "stderr",
     "output_type": "stream",
     "text": [
      "Loss: 2.0495, Mixup: False, Cutout: True, RandomCrop: False: 100%|██████████| 126/126 [00:11<00:00, 11.10it/s]\n",
      "Val Loss: 1.2505: 100%|██████████| 32/32 [00:01<00:00, 21.12it/s]\n"
     ]
    },
    {
     "name": "stdout",
     "output_type": "stream",
     "text": [
      "  Class 3 F1: 0.6286\n",
      "  Class 7 F1: 0.5246\n",
      "  Class 14 F1: 0.1667\n",
      "  Problem Classes Avg F1: 0.4399\n",
      " Epoch 15 | Train Loss: 1.4689 | Train F1: 0.7548 | Val Loss: 1.2509 | Val F1: 0.8799 | LR: 2.86e-04\n",
      "         Problem Classes (3,7,14) Avg F1: 0.4399 | ⚠️ Problem classes need attention\n",
      "\n",
      "📈 Epoch 16/100\n"
     ]
    },
    {
     "name": "stderr",
     "output_type": "stream",
     "text": [
      "Loss: 0.9540, Mixup: False, Cutout: True, RandomCrop: False: 100%|██████████| 126/126 [00:11<00:00, 11.05it/s]\n",
      "Val Loss: 1.3010: 100%|██████████| 32/32 [00:01<00:00, 20.14it/s]\n"
     ]
    },
    {
     "name": "stdout",
     "output_type": "stream",
     "text": [
      "  Class 3 F1: 0.5455\n",
      "  Class 7 F1: 0.5000\n",
      "  Class 14 F1: 0.5000\n",
      "  Problem Classes Avg F1: 0.5152\n",
      " Epoch 16 | Train Loss: 1.4261 | Train F1: 0.7446 | Val Loss: 1.2623 | Val F1: 0.8935 | LR: 2.84e-04\n",
      "         Problem Classes (3,7,14) Avg F1: 0.5152 | ⚠️ Problem classes need attention\n",
      "\n",
      "📈 Epoch 17/100\n"
     ]
    },
    {
     "name": "stderr",
     "output_type": "stream",
     "text": [
      "Loss: 1.0959, Mixup: False, Cutout: False, RandomCrop: True: 100%|██████████| 126/126 [00:11<00:00, 10.90it/s]\n",
      "Val Loss: 1.2316: 100%|██████████| 32/32 [00:01<00:00, 21.15it/s]\n"
     ]
    },
    {
     "name": "stdout",
     "output_type": "stream",
     "text": [
      "  Class 3 F1: 0.5634\n",
      "  Class 7 F1: 0.1818\n",
      "  Class 14 F1: 0.5333\n",
      "  Problem Classes Avg F1: 0.4262\n",
      " Epoch 17 | Train Loss: 1.3948 | Train F1: 0.7219 | Val Loss: 1.4003 | Val F1: 0.8775 | LR: 2.81e-04\n",
      "         Problem Classes (3,7,14) Avg F1: 0.4262 | ⚠️ Problem classes need attention\n",
      "\n",
      "📈 Epoch 18/100\n"
     ]
    },
    {
     "name": "stderr",
     "output_type": "stream",
     "text": [
      "Loss: 1.1738, Mixup: False, Cutout: False, RandomCrop: True: 100%|██████████| 126/126 [00:11<00:00, 11.05it/s]\n",
      "Val Loss: 1.1929: 100%|██████████| 32/32 [00:01<00:00, 20.69it/s]\n"
     ]
    },
    {
     "name": "stdout",
     "output_type": "stream",
     "text": [
      "  Class 3 F1: 0.4889\n",
      "  Class 7 F1: 0.4167\n",
      "  Class 14 F1: 0.5714\n",
      "  Problem Classes Avg F1: 0.4923\n",
      " Epoch 18 | Train Loss: 1.3629 | Train F1: 0.7529 | Val Loss: 1.2261 | Val F1: 0.8950 | LR: 2.79e-04\n",
      "         Problem Classes (3,7,14) Avg F1: 0.4923 | ⚠️ Problem classes need attention\n",
      "\n",
      "📈 Epoch 19/100\n"
     ]
    },
    {
     "name": "stderr",
     "output_type": "stream",
     "text": [
      "Loss: 0.9516, Mixup: False, Cutout: False, RandomCrop: True: 100%|██████████| 126/126 [00:11<00:00, 11.15it/s]\n",
      "Val Loss: 1.1947: 100%|██████████| 32/32 [00:01<00:00, 20.81it/s]\n"
     ]
    },
    {
     "name": "stdout",
     "output_type": "stream",
     "text": [
      "  Class 3 F1: 0.5833\n",
      "  Class 7 F1: 0.4324\n",
      "  Class 14 F1: 0.4615\n",
      "  Problem Classes Avg F1: 0.4924\n",
      " Epoch 19 | Train Loss: 1.3876 | Train F1: 0.7509 | Val Loss: 1.1923 | Val F1: 0.9019 | LR: 2.77e-04\n",
      "         Problem Classes (3,7,14) Avg F1: 0.4924 | ⚠️ Problem classes need attention\n",
      "\n",
      "📈 Epoch 20/100\n"
     ]
    },
    {
     "name": "stderr",
     "output_type": "stream",
     "text": [
      "Loss: 1.2799, Mixup: False, Cutout: True, RandomCrop: False: 100%|██████████| 126/126 [00:11<00:00, 11.04it/s]\n",
      "Val Loss: 1.2237: 100%|██████████| 32/32 [00:01<00:00, 20.56it/s]\n"
     ]
    },
    {
     "name": "stdout",
     "output_type": "stream",
     "text": [
      "  Class 3 F1: 0.5333\n",
      "  Class 7 F1: 0.6071\n",
      "  Class 14 F1: 0.4286\n",
      "  Problem Classes Avg F1: 0.5230\n",
      " Epoch 20 | Train Loss: 1.3648 | Train F1: 0.7614 | Val Loss: 1.2480 | Val F1: 0.9011 | LR: 2.74e-04\n",
      "         Problem Classes (3,7,14) Avg F1: 0.5230 | ⚠️ Problem classes need attention\n",
      "\n",
      "📈 Epoch 21/100\n"
     ]
    },
    {
     "name": "stderr",
     "output_type": "stream",
     "text": [
      "Loss: 1.4783, Mixup: True, Cutout: False, RandomCrop: False: 100%|██████████| 126/126 [00:11<00:00, 10.85it/s]\n",
      "Val Loss: 1.2691: 100%|██████████| 32/32 [00:01<00:00, 20.39it/s]\n"
     ]
    },
    {
     "name": "stdout",
     "output_type": "stream",
     "text": [
      "  Class 3 F1: 0.6250\n",
      "  Class 7 F1: 0.3077\n",
      "  Class 14 F1: 0.5333\n",
      "  Problem Classes Avg F1: 0.4887\n",
      " Epoch 21 | Train Loss: 1.3865 | Train F1: 0.7331 | Val Loss: 1.3174 | Val F1: 0.8953 | LR: 2.71e-04\n",
      "         Problem Classes (3,7,14) Avg F1: 0.4887 | ⚠️ Problem classes need attention\n",
      "\n",
      "📈 Epoch 22/100\n"
     ]
    },
    {
     "name": "stderr",
     "output_type": "stream",
     "text": [
      "Loss: 1.7137, Mixup: True, Cutout: False, RandomCrop: False: 100%|██████████| 126/126 [00:11<00:00, 11.00it/s]\n",
      "Val Loss: 1.1913: 100%|██████████| 32/32 [00:01<00:00, 20.37it/s]\n"
     ]
    },
    {
     "name": "stdout",
     "output_type": "stream",
     "text": [
      "  Class 3 F1: 0.7273\n",
      "  Class 7 F1: 0.4000\n",
      "  Class 14 F1: 0.8571\n",
      "  Problem Classes Avg F1: 0.6615\n",
      " Epoch 22 | Train Loss: 1.3030 | Train F1: 0.7964 | Val Loss: 1.2358 | Val F1: 0.9328 | LR: 2.69e-04\n",
      "         Problem Classes (3,7,14) Avg F1: 0.6615 | ⚠️ Problem classes need attention\n",
      "🎉 새로운 최고 성능! F1: 0.9328 (Problem Classes: 0.6615)\n",
      "\n",
      "📈 Epoch 23/100\n"
     ]
    },
    {
     "name": "stderr",
     "output_type": "stream",
     "text": [
      "Loss: 0.8454, Mixup: False, Cutout: True, RandomCrop: False: 100%|██████████| 126/126 [00:11<00:00, 11.29it/s]\n",
      "Val Loss: 1.1394: 100%|██████████| 32/32 [00:01<00:00, 21.57it/s]\n"
     ]
    },
    {
     "name": "stdout",
     "output_type": "stream",
     "text": [
      "  Class 3 F1: 0.6897\n",
      "  Class 7 F1: 0.4444\n",
      "  Class 14 F1: 0.6667\n",
      "  Problem Classes Avg F1: 0.6003\n",
      " Epoch 23 | Train Loss: 1.2893 | Train F1: 0.7584 | Val Loss: 1.2845 | Val F1: 0.9206 | LR: 2.66e-04\n",
      "         Problem Classes (3,7,14) Avg F1: 0.6003 | ⚠️ Problem classes need attention\n",
      "\n",
      "📈 Epoch 24/100\n"
     ]
    },
    {
     "name": "stderr",
     "output_type": "stream",
     "text": [
      "Loss: 1.8463, Mixup: True, Cutout: False, RandomCrop: False: 100%|██████████| 126/126 [00:11<00:00, 11.17it/s]\n",
      "Val Loss: 1.2009: 100%|██████████| 32/32 [00:01<00:00, 20.24it/s]\n"
     ]
    },
    {
     "name": "stdout",
     "output_type": "stream",
     "text": [
      "  Class 3 F1: 0.6557\n",
      "  Class 7 F1: 0.4000\n",
      "  Class 14 F1: 0.6667\n",
      "  Problem Classes Avg F1: 0.5741\n",
      " Epoch 24 | Train Loss: 1.3335 | Train F1: 0.7531 | Val Loss: 1.3287 | Val F1: 0.9116 | LR: 2.63e-04\n",
      "         Problem Classes (3,7,14) Avg F1: 0.5741 | ⚠️ Problem classes need attention\n",
      "\n",
      "📈 Epoch 25/100\n"
     ]
    },
    {
     "name": "stderr",
     "output_type": "stream",
     "text": [
      "Loss: 1.3589, Mixup: True, Cutout: False, RandomCrop: False: 100%|██████████| 126/126 [00:11<00:00, 11.20it/s]\n",
      "Val Loss: 1.1740: 100%|██████████| 32/32 [00:01<00:00, 19.65it/s]\n"
     ]
    },
    {
     "name": "stdout",
     "output_type": "stream",
     "text": [
      "  Class 3 F1: 0.6047\n",
      "  Class 7 F1: 0.5238\n",
      "  Class 14 F1: 0.6667\n",
      "  Problem Classes Avg F1: 0.5984\n",
      " Epoch 25 | Train Loss: 1.3622 | Train F1: 0.7711 | Val Loss: 1.1835 | Val F1: 0.9124 | LR: 2.59e-04\n",
      "         Problem Classes (3,7,14) Avg F1: 0.5984 | ⚠️ Problem classes need attention\n",
      "\n",
      "📈 Epoch 26/100\n"
     ]
    },
    {
     "name": "stderr",
     "output_type": "stream",
     "text": [
      "Loss: 0.7945, Mixup: False, Cutout: True, RandomCrop: False: 100%|██████████| 126/126 [00:11<00:00, 11.09it/s]\n",
      "Val Loss: 1.1433: 100%|██████████| 32/32 [00:01<00:00, 20.64it/s]\n"
     ]
    },
    {
     "name": "stdout",
     "output_type": "stream",
     "text": [
      "  Class 3 F1: 0.5854\n",
      "  Class 7 F1: 0.5500\n",
      "  Class 14 F1: 0.8421\n",
      "  Problem Classes Avg F1: 0.6592\n",
      " Epoch 26 | Train Loss: 1.3566 | Train F1: 0.7273 | Val Loss: 1.0961 | Val F1: 0.9310 | LR: 2.56e-04\n",
      "         Problem Classes (3,7,14) Avg F1: 0.6592 | ⚠️ Problem classes need attention\n",
      "\n",
      "📈 Epoch 27/100\n"
     ]
    },
    {
     "name": "stderr",
     "output_type": "stream",
     "text": [
      "Loss: 2.0648, Mixup: True, Cutout: False, RandomCrop: False: 100%|██████████| 126/126 [00:11<00:00, 11.14it/s]\n",
      "Val Loss: 1.2387: 100%|██████████| 32/32 [00:01<00:00, 19.56it/s]\n"
     ]
    },
    {
     "name": "stdout",
     "output_type": "stream",
     "text": [
      "  Class 3 F1: 0.6087\n",
      "  Class 7 F1: 0.5556\n",
      "  Class 14 F1: 0.8235\n",
      "  Problem Classes Avg F1: 0.6626\n",
      " Epoch 27 | Train Loss: 1.3125 | Train F1: 0.7734 | Val Loss: 1.1740 | Val F1: 0.9332 | LR: 2.53e-04\n",
      "         Problem Classes (3,7,14) Avg F1: 0.6626 | ⚠️ Problem classes need attention\n",
      "🎉 새로운 최고 성능! F1: 0.9332 (Problem Classes: 0.6626)\n",
      "\n",
      "📈 Epoch 28/100\n"
     ]
    },
    {
     "name": "stderr",
     "output_type": "stream",
     "text": [
      "Loss: 1.7729, Mixup: True, Cutout: False, RandomCrop: False: 100%|██████████| 126/126 [00:11<00:00, 11.04it/s]\n",
      "Val Loss: 1.2307: 100%|██████████| 32/32 [00:01<00:00, 20.69it/s]\n"
     ]
    },
    {
     "name": "stdout",
     "output_type": "stream",
     "text": [
      "  Class 3 F1: 0.6522\n",
      "  Class 7 F1: 0.5405\n",
      "  Class 14 F1: 0.7500\n",
      "  Problem Classes Avg F1: 0.6476\n",
      " Epoch 28 | Train Loss: 1.2134 | Train F1: 0.7769 | Val Loss: 1.1851 | Val F1: 0.9306 | LR: 2.49e-04\n",
      "         Problem Classes (3,7,14) Avg F1: 0.6476 | ⚠️ Problem classes need attention\n",
      "\n",
      "📈 Epoch 29/100\n"
     ]
    },
    {
     "name": "stderr",
     "output_type": "stream",
     "text": [
      "Loss: 1.1676, Mixup: False, Cutout: False, RandomCrop: True: 100%|██████████| 126/126 [00:11<00:00, 11.05it/s]\n",
      "Val Loss: 1.2030: 100%|██████████| 32/32 [00:01<00:00, 20.12it/s]\n"
     ]
    },
    {
     "name": "stdout",
     "output_type": "stream",
     "text": [
      "  Class 3 F1: 0.6809\n",
      "  Class 7 F1: 0.5455\n",
      "  Class 14 F1: 0.8421\n",
      "  Problem Classes Avg F1: 0.6895\n",
      " Epoch 29 | Train Loss: 1.2938 | Train F1: 0.7912 | Val Loss: 1.1690 | Val F1: 0.9380 | LR: 2.46e-04\n",
      "         Problem Classes (3,7,14) Avg F1: 0.6895 | ⚠️ Problem classes need attention\n",
      "🎉 새로운 최고 성능! F1: 0.9380 (Problem Classes: 0.6895)\n",
      "\n",
      "📈 Epoch 30/100\n"
     ]
    },
    {
     "name": "stderr",
     "output_type": "stream",
     "text": [
      "Loss: 0.9417, Mixup: False, Cutout: True, RandomCrop: False: 100%|██████████| 126/126 [00:11<00:00, 10.90it/s]\n",
      "Val Loss: 1.1593: 100%|██████████| 32/32 [00:01<00:00, 20.81it/s]\n"
     ]
    },
    {
     "name": "stdout",
     "output_type": "stream",
     "text": [
      "  Class 3 F1: 0.6818\n",
      "  Class 7 F1: 0.5500\n",
      "  Class 14 F1: 0.6667\n",
      "  Problem Classes Avg F1: 0.6328\n",
      " Epoch 30 | Train Loss: 1.2706 | Train F1: 0.7714 | Val Loss: 1.1613 | Val F1: 0.9251 | LR: 2.42e-04\n",
      "         Problem Classes (3,7,14) Avg F1: 0.6328 | ⚠️ Problem classes need attention\n",
      "\n",
      "📈 Epoch 31/100\n"
     ]
    },
    {
     "name": "stderr",
     "output_type": "stream",
     "text": [
      "Loss: 0.9557, Mixup: False, Cutout: True, RandomCrop: False: 100%|██████████| 126/126 [00:11<00:00, 11.11it/s]\n",
      "Val Loss: 1.1481: 100%|██████████| 32/32 [00:01<00:00, 20.26it/s]\n"
     ]
    },
    {
     "name": "stdout",
     "output_type": "stream",
     "text": [
      "  Class 3 F1: 0.6667\n",
      "  Class 7 F1: 0.5000\n",
      "  Class 14 F1: 0.8235\n",
      "  Problem Classes Avg F1: 0.6634\n",
      " Epoch 31 | Train Loss: 1.2773 | Train F1: 0.7851 | Val Loss: 1.1488 | Val F1: 0.9318 | LR: 2.38e-04\n",
      "         Problem Classes (3,7,14) Avg F1: 0.6634 | ⚠️ Problem classes need attention\n",
      "\n",
      "📈 Epoch 32/100\n"
     ]
    },
    {
     "name": "stderr",
     "output_type": "stream",
     "text": [
      "Loss: 1.2566, Mixup: False, Cutout: False, RandomCrop: True: 100%|██████████| 126/126 [00:11<00:00, 10.92it/s]\n",
      "Val Loss: 1.1698: 100%|██████████| 32/32 [00:01<00:00, 20.29it/s]\n"
     ]
    },
    {
     "name": "stdout",
     "output_type": "stream",
     "text": [
      "  Class 3 F1: 0.7692\n",
      "  Class 7 F1: 0.5517\n",
      "  Class 14 F1: 0.8235\n",
      "  Problem Classes Avg F1: 0.7148\n",
      " Epoch 32 | Train Loss: 1.3419 | Train F1: 0.6887 | Val Loss: 1.1857 | Val F1: 0.9411 | LR: 2.34e-04\n",
      "         Problem Classes (3,7,14) Avg F1: 0.7148 | ⚠️ Problem classes need attention\n",
      "🎉 새로운 최고 성능! F1: 0.9411 (Problem Classes: 0.7148)\n",
      "\n",
      "📈 Epoch 33/100\n"
     ]
    },
    {
     "name": "stderr",
     "output_type": "stream",
     "text": [
      "Loss: 1.3037, Mixup: False, Cutout: False, RandomCrop: True: 100%|██████████| 126/126 [00:11<00:00, 10.93it/s]\n",
      "Val Loss: 1.1372: 100%|██████████| 32/32 [00:01<00:00, 20.53it/s]\n"
     ]
    },
    {
     "name": "stdout",
     "output_type": "stream",
     "text": [
      "  Class 3 F1: 0.7273\n",
      "  Class 7 F1: 0.6111\n",
      "  Class 14 F1: 0.8421\n",
      "  Problem Classes Avg F1: 0.7268\n",
      " Epoch 33 | Train Loss: 1.2085 | Train F1: 0.8205 | Val Loss: 1.1064 | Val F1: 0.9445 | LR: 2.30e-04\n",
      "         Problem Classes (3,7,14) Avg F1: 0.7268 | ⚠️ Problem classes need attention\n",
      "🎉 새로운 최고 성능! F1: 0.9445 (Problem Classes: 0.7268)\n",
      "\n",
      "📈 Epoch 34/100\n"
     ]
    },
    {
     "name": "stderr",
     "output_type": "stream",
     "text": [
      "Loss: 1.5240, Mixup: True, Cutout: False, RandomCrop: False: 100%|██████████| 126/126 [00:11<00:00, 10.91it/s]\n",
      "Val Loss: 1.1954: 100%|██████████| 32/32 [00:01<00:00, 20.70it/s]\n"
     ]
    },
    {
     "name": "stdout",
     "output_type": "stream",
     "text": [
      "  Class 3 F1: 0.7234\n",
      "  Class 7 F1: 0.5455\n",
      "  Class 14 F1: 0.9000\n",
      "  Problem Classes Avg F1: 0.7230\n",
      " Epoch 34 | Train Loss: 1.2199 | Train F1: 0.7835 | Val Loss: 1.1525 | Val F1: 0.9423 | LR: 2.26e-04\n",
      "         Problem Classes (3,7,14) Avg F1: 0.7230 | ⚠️ Problem classes need attention\n",
      "\n",
      "📈 Epoch 35/100\n"
     ]
    },
    {
     "name": "stderr",
     "output_type": "stream",
     "text": [
      "Loss: 1.2699, Mixup: False, Cutout: False, RandomCrop: True: 100%|██████████| 126/126 [00:11<00:00, 10.99it/s]\n",
      "Val Loss: 1.1373: 100%|██████████| 32/32 [00:01<00:00, 21.32it/s]\n"
     ]
    },
    {
     "name": "stdout",
     "output_type": "stream",
     "text": [
      "  Class 3 F1: 0.6667\n",
      "  Class 7 F1: 0.5882\n",
      "  Class 14 F1: 0.8889\n",
      "  Problem Classes Avg F1: 0.7146\n",
      " Epoch 35 | Train Loss: 1.2174 | Train F1: 0.8089 | Val Loss: 1.1844 | Val F1: 0.9375 | LR: 2.22e-04\n",
      "         Problem Classes (3,7,14) Avg F1: 0.7146 | ⚠️ Problem classes need attention\n",
      "\n",
      "📈 Epoch 36/100\n"
     ]
    },
    {
     "name": "stderr",
     "output_type": "stream",
     "text": [
      "Loss: 0.8785, Mixup: True, Cutout: False, RandomCrop: False: 100%|██████████| 126/126 [00:11<00:00, 11.10it/s]\n",
      "Val Loss: 1.1259: 100%|██████████| 32/32 [00:01<00:00, 20.14it/s]\n"
     ]
    },
    {
     "name": "stdout",
     "output_type": "stream",
     "text": [
      "  Class 3 F1: 0.5909\n",
      "  Class 7 F1: 0.5405\n",
      "  Class 14 F1: 0.8889\n",
      "  Problem Classes Avg F1: 0.6734\n",
      " Epoch 36 | Train Loss: 1.1968 | Train F1: 0.7829 | Val Loss: 1.1469 | Val F1: 0.9323 | LR: 2.18e-04\n",
      "         Problem Classes (3,7,14) Avg F1: 0.6734 | ⚠️ Problem classes need attention\n",
      "\n",
      "📈 Epoch 37/100\n"
     ]
    },
    {
     "name": "stderr",
     "output_type": "stream",
     "text": [
      "Loss: 0.8452, Mixup: False, Cutout: True, RandomCrop: False: 100%|██████████| 126/126 [00:11<00:00, 11.01it/s]\n",
      "Val Loss: 1.1547: 100%|██████████| 32/32 [00:01<00:00, 20.71it/s]\n"
     ]
    },
    {
     "name": "stdout",
     "output_type": "stream",
     "text": [
      "  Class 3 F1: 0.4615\n",
      "  Class 7 F1: 0.4706\n",
      "  Class 14 F1: 0.3333\n",
      "  Problem Classes Avg F1: 0.4218\n",
      " Epoch 37 | Train Loss: 1.1839 | Train F1: 0.7796 | Val Loss: 1.2366 | Val F1: 0.8888 | LR: 2.14e-04\n",
      "         Problem Classes (3,7,14) Avg F1: 0.4218 | ⚠️ Problem classes need attention\n",
      "\n",
      "📈 Epoch 38/100\n"
     ]
    },
    {
     "name": "stderr",
     "output_type": "stream",
     "text": [
      "Loss: 1.5472, Mixup: True, Cutout: False, RandomCrop: False: 100%|██████████| 126/126 [00:11<00:00, 11.04it/s]\n",
      "Val Loss: 1.1216: 100%|██████████| 32/32 [00:01<00:00, 19.69it/s]\n"
     ]
    },
    {
     "name": "stdout",
     "output_type": "stream",
     "text": [
      "  Class 3 F1: 0.7018\n",
      "  Class 7 F1: 0.4444\n",
      "  Class 14 F1: 0.5714\n",
      "  Problem Classes Avg F1: 0.5725\n",
      " Epoch 38 | Train Loss: 1.1633 | Train F1: 0.8159 | Val Loss: 1.2640 | Val F1: 0.9160 | LR: 2.10e-04\n",
      "         Problem Classes (3,7,14) Avg F1: 0.5725 | ⚠️ Problem classes need attention\n",
      "\n",
      "📈 Epoch 39/100\n"
     ]
    },
    {
     "name": "stderr",
     "output_type": "stream",
     "text": [
      "Loss: 0.8128, Mixup: False, Cutout: False, RandomCrop: True: 100%|██████████| 126/126 [00:11<00:00, 10.98it/s]\n",
      "Val Loss: 1.1279: 100%|██████████| 32/32 [00:01<00:00, 19.69it/s]\n"
     ]
    },
    {
     "name": "stdout",
     "output_type": "stream",
     "text": [
      "  Class 3 F1: 0.6486\n",
      "  Class 7 F1: 0.6667\n",
      "  Class 14 F1: 0.8235\n",
      "  Problem Classes Avg F1: 0.7129\n",
      " Epoch 39 | Train Loss: 1.1872 | Train F1: 0.8013 | Val Loss: 1.1269 | Val F1: 0.9421 | LR: 2.05e-04\n",
      "         Problem Classes (3,7,14) Avg F1: 0.7129 | ⚠️ Problem classes need attention\n",
      "\n",
      "📈 Epoch 40/100\n"
     ]
    },
    {
     "name": "stderr",
     "output_type": "stream",
     "text": [
      "Loss: 0.5216, Mixup: False, Cutout: True, RandomCrop: False: 100%|██████████| 126/126 [00:11<00:00, 10.83it/s]\n",
      "Val Loss: 1.1335: 100%|██████████| 32/32 [00:01<00:00, 20.12it/s]\n"
     ]
    },
    {
     "name": "stdout",
     "output_type": "stream",
     "text": [
      "  Class 3 F1: 0.6957\n",
      "  Class 7 F1: 0.5882\n",
      "  Class 14 F1: 0.8421\n",
      "  Problem Classes Avg F1: 0.7087\n",
      " Epoch 40 | Train Loss: 1.1829 | Train F1: 0.7997 | Val Loss: 1.1298 | Val F1: 0.9385 | LR: 2.01e-04\n",
      "         Problem Classes (3,7,14) Avg F1: 0.7087 | ⚠️ Problem classes need attention\n",
      "\n",
      "📈 Epoch 41/100\n"
     ]
    },
    {
     "name": "stderr",
     "output_type": "stream",
     "text": [
      "Loss: 0.8314, Mixup: False, Cutout: False, RandomCrop: True: 100%|██████████| 126/126 [00:11<00:00, 10.92it/s]\n",
      "Val Loss: 1.1315: 100%|██████████| 32/32 [00:01<00:00, 19.83it/s]\n"
     ]
    },
    {
     "name": "stdout",
     "output_type": "stream",
     "text": [
      "  Class 3 F1: 0.7143\n",
      "  Class 7 F1: 0.6667\n",
      "  Class 14 F1: 0.8235\n",
      "  Problem Classes Avg F1: 0.7348\n",
      " Epoch 41 | Train Loss: 1.2239 | Train F1: 0.7769 | Val Loss: 1.1445 | Val F1: 0.9447 | LR: 1.96e-04\n",
      "         Problem Classes (3,7,14) Avg F1: 0.7348 | ⚠️ Problem classes need attention\n",
      "🎉 새로운 최고 성능! F1: 0.9447 (Problem Classes: 0.7348)\n",
      "\n",
      "📈 Epoch 42/100\n"
     ]
    },
    {
     "name": "stderr",
     "output_type": "stream",
     "text": [
      "Loss: 1.7403, Mixup: True, Cutout: False, RandomCrop: False: 100%|██████████| 126/126 [00:11<00:00, 10.97it/s]\n",
      "Val Loss: 1.1667: 100%|██████████| 32/32 [00:01<00:00, 20.26it/s]\n"
     ]
    },
    {
     "name": "stdout",
     "output_type": "stream",
     "text": [
      "  Class 3 F1: 0.7556\n",
      "  Class 7 F1: 0.6486\n",
      "  Class 14 F1: 0.7500\n",
      "  Problem Classes Avg F1: 0.7181\n",
      " Epoch 42 | Train Loss: 1.1766 | Train F1: 0.8107 | Val Loss: 1.1262 | Val F1: 0.9417 | LR: 1.92e-04\n",
      "         Problem Classes (3,7,14) Avg F1: 0.7181 | ⚠️ Problem classes need attention\n",
      "\n",
      "📈 Epoch 43/100\n"
     ]
    },
    {
     "name": "stderr",
     "output_type": "stream",
     "text": [
      "Loss: 1.0420, Mixup: True, Cutout: False, RandomCrop: False: 100%|██████████| 126/126 [00:11<00:00, 10.88it/s]\n",
      "Val Loss: 1.1563: 100%|██████████| 32/32 [00:01<00:00, 20.01it/s]\n"
     ]
    },
    {
     "name": "stdout",
     "output_type": "stream",
     "text": [
      "  Class 3 F1: 0.6923\n",
      "  Class 7 F1: 0.5161\n",
      "  Class 14 F1: 0.7500\n",
      "  Problem Classes Avg F1: 0.6528\n",
      " Epoch 43 | Train Loss: 1.2586 | Train F1: 0.7394 | Val Loss: 1.1739 | Val F1: 0.9286 | LR: 1.87e-04\n",
      "         Problem Classes (3,7,14) Avg F1: 0.6528 | ⚠️ Problem classes need attention\n",
      "\n",
      "📈 Epoch 44/100\n"
     ]
    },
    {
     "name": "stderr",
     "output_type": "stream",
     "text": [
      "Loss: 1.6720, Mixup: True, Cutout: False, RandomCrop: False: 100%|██████████| 126/126 [00:11<00:00, 11.02it/s]\n",
      "Val Loss: 1.1849: 100%|██████████| 32/32 [00:01<00:00, 19.56it/s]\n"
     ]
    },
    {
     "name": "stdout",
     "output_type": "stream",
     "text": [
      "  Class 3 F1: 0.6667\n",
      "  Class 7 F1: 0.6500\n",
      "  Class 14 F1: 0.8571\n",
      "  Problem Classes Avg F1: 0.7246\n",
      " Epoch 44 | Train Loss: 1.1760 | Train F1: 0.8111 | Val Loss: 1.1579 | Val F1: 0.9426 | LR: 1.83e-04\n",
      "         Problem Classes (3,7,14) Avg F1: 0.7246 | ⚠️ Problem classes need attention\n",
      "\n",
      "📈 Epoch 45/100\n"
     ]
    },
    {
     "name": "stderr",
     "output_type": "stream",
     "text": [
      "Loss: 1.0122, Mixup: False, Cutout: True, RandomCrop: False: 100%|██████████| 126/126 [00:11<00:00, 11.05it/s]\n",
      "Val Loss: 1.1557: 100%|██████████| 32/32 [00:01<00:00, 20.25it/s]\n"
     ]
    },
    {
     "name": "stdout",
     "output_type": "stream",
     "text": [
      "  Class 3 F1: 0.7347\n",
      "  Class 7 F1: 0.5806\n",
      "  Class 14 F1: 0.8421\n",
      "  Problem Classes Avg F1: 0.7191\n",
      " Epoch 45 | Train Loss: 1.1913 | Train F1: 0.7721 | Val Loss: 1.1600 | Val F1: 0.9403 | LR: 1.78e-04\n",
      "         Problem Classes (3,7,14) Avg F1: 0.7191 | ⚠️ Problem classes need attention\n",
      "\n",
      "📈 Epoch 46/100\n"
     ]
    },
    {
     "name": "stderr",
     "output_type": "stream",
     "text": [
      "Loss: 1.9623, Mixup: True, Cutout: False, RandomCrop: False: 100%|██████████| 126/126 [00:11<00:00, 10.96it/s]\n",
      "Val Loss: 1.1278: 100%|██████████| 32/32 [00:01<00:00, 20.45it/s]\n"
     ]
    },
    {
     "name": "stdout",
     "output_type": "stream",
     "text": [
      "  Class 3 F1: 0.6341\n",
      "  Class 7 F1: 0.6000\n",
      "  Class 14 F1: 0.9000\n",
      "  Problem Classes Avg F1: 0.7114\n",
      " Epoch 46 | Train Loss: 1.1266 | Train F1: 0.8058 | Val Loss: 1.1808 | Val F1: 0.9416 | LR: 1.73e-04\n",
      "         Problem Classes (3,7,14) Avg F1: 0.7114 | ⚠️ Problem classes need attention\n",
      "\n",
      "📈 Epoch 47/100\n"
     ]
    },
    {
     "name": "stderr",
     "output_type": "stream",
     "text": [
      "Loss: 0.8512, Mixup: False, Cutout: False, RandomCrop: True: 100%|██████████| 126/126 [00:11<00:00, 11.08it/s]\n",
      "Val Loss: 1.1242: 100%|██████████| 32/32 [00:01<00:00, 20.69it/s]\n"
     ]
    },
    {
     "name": "stdout",
     "output_type": "stream",
     "text": [
      "  Class 3 F1: 0.6667\n",
      "  Class 7 F1: 0.5714\n",
      "  Class 14 F1: 0.9000\n",
      "  Problem Classes Avg F1: 0.7127\n",
      " Epoch 47 | Train Loss: 1.1869 | Train F1: 0.8101 | Val Loss: 1.1251 | Val F1: 0.9405 | LR: 1.69e-04\n",
      "         Problem Classes (3,7,14) Avg F1: 0.7127 | ⚠️ Problem classes need attention\n",
      "\n",
      "📈 Epoch 48/100\n"
     ]
    },
    {
     "name": "stderr",
     "output_type": "stream",
     "text": [
      "Loss: 0.8910, Mixup: False, Cutout: False, RandomCrop: True: 100%|██████████| 126/126 [00:11<00:00, 11.19it/s]\n",
      "Val Loss: 1.1434: 100%|██████████| 32/32 [00:01<00:00, 21.37it/s]\n"
     ]
    },
    {
     "name": "stdout",
     "output_type": "stream",
     "text": [
      "  Class 3 F1: 0.6667\n",
      "  Class 7 F1: 0.5882\n",
      "  Class 14 F1: 0.9474\n",
      "  Problem Classes Avg F1: 0.7341\n",
      " Epoch 48 | Train Loss: 1.1715 | Train F1: 0.7921 | Val Loss: 1.1390 | Val F1: 0.9456 | LR: 1.64e-04\n",
      "         Problem Classes (3,7,14) Avg F1: 0.7341 | ⚠️ Problem classes need attention\n",
      "🎉 새로운 최고 성능! F1: 0.9456 (Problem Classes: 0.7341)\n",
      "\n",
      "📈 Epoch 49/100\n"
     ]
    },
    {
     "name": "stderr",
     "output_type": "stream",
     "text": [
      "Loss: 0.7787, Mixup: False, Cutout: False, RandomCrop: True: 100%|██████████| 126/126 [00:11<00:00, 11.10it/s]\n",
      "Val Loss: 1.1266: 100%|██████████| 32/32 [00:01<00:00, 19.59it/s]\n"
     ]
    },
    {
     "name": "stdout",
     "output_type": "stream",
     "text": [
      "  Class 3 F1: 0.7111\n",
      "  Class 7 F1: 0.5946\n",
      "  Class 14 F1: 0.7778\n",
      "  Problem Classes Avg F1: 0.6945\n",
      " Epoch 49 | Train Loss: 1.1107 | Train F1: 0.8072 | Val Loss: 1.1440 | Val F1: 0.9373 | LR: 1.59e-04\n",
      "         Problem Classes (3,7,14) Avg F1: 0.6945 | ⚠️ Problem classes need attention\n",
      "\n",
      "📈 Epoch 50/100\n"
     ]
    },
    {
     "name": "stderr",
     "output_type": "stream",
     "text": [
      "Loss: 2.1714, Mixup: True, Cutout: False, RandomCrop: False: 100%|██████████| 126/126 [00:11<00:00, 10.91it/s]\n",
      "Val Loss: 1.1233: 100%|██████████| 32/32 [00:01<00:00, 20.28it/s]\n"
     ]
    },
    {
     "name": "stdout",
     "output_type": "stream",
     "text": [
      "  Class 3 F1: 0.6275\n",
      "  Class 7 F1: 0.4000\n",
      "  Class 14 F1: 0.9524\n",
      "  Problem Classes Avg F1: 0.6599\n",
      " Epoch 50 | Train Loss: 1.1323 | Train F1: 0.7934 | Val Loss: 1.1470 | Val F1: 0.9340 | LR: 1.55e-04\n",
      "         Problem Classes (3,7,14) Avg F1: 0.6599 | ⚠️ Problem classes need attention\n",
      "\n",
      "📈 Epoch 51/100\n"
     ]
    },
    {
     "name": "stderr",
     "output_type": "stream",
     "text": [
      "Loss: 1.2068, Mixup: False, Cutout: False, RandomCrop: True: 100%|██████████| 126/126 [00:11<00:00, 11.04it/s]\n",
      "Val Loss: 1.1517: 100%|██████████| 32/32 [00:01<00:00, 19.93it/s]\n"
     ]
    },
    {
     "name": "stdout",
     "output_type": "stream",
     "text": [
      "  Class 3 F1: 0.6829\n",
      "  Class 7 F1: 0.6316\n",
      "  Class 14 F1: 0.8421\n",
      "  Problem Classes Avg F1: 0.7189\n",
      " Epoch 51 | Train Loss: 1.1657 | Train F1: 0.7699 | Val Loss: 1.1468 | Val F1: 0.9418 | LR: 1.50e-04\n",
      "         Problem Classes (3,7,14) Avg F1: 0.7189 | ⚠️ Problem classes need attention\n",
      "\n",
      "📈 Epoch 52/100\n"
     ]
    },
    {
     "name": "stderr",
     "output_type": "stream",
     "text": [
      "Loss: 0.7724, Mixup: False, Cutout: True, RandomCrop: False: 100%|██████████| 126/126 [00:11<00:00, 11.12it/s]\n",
      "Val Loss: 1.1268: 100%|██████████| 32/32 [00:01<00:00, 19.53it/s]\n"
     ]
    },
    {
     "name": "stdout",
     "output_type": "stream",
     "text": [
      "  Class 3 F1: 0.6364\n",
      "  Class 7 F1: 0.5143\n",
      "  Class 14 F1: 0.8421\n",
      "  Problem Classes Avg F1: 0.6643\n",
      " Epoch 52 | Train Loss: 1.1492 | Train F1: 0.8291 | Val Loss: 1.1651 | Val F1: 0.9322 | LR: 1.45e-04\n",
      "         Problem Classes (3,7,14) Avg F1: 0.6643 | ⚠️ Problem classes need attention\n",
      "\n",
      "📈 Epoch 53/100\n"
     ]
    },
    {
     "name": "stderr",
     "output_type": "stream",
     "text": [
      "Loss: 1.1780, Mixup: False, Cutout: False, RandomCrop: True: 100%|██████████| 126/126 [00:11<00:00, 11.02it/s]\n",
      "Val Loss: 1.1237: 100%|██████████| 32/32 [00:01<00:00, 20.21it/s]\n"
     ]
    },
    {
     "name": "stdout",
     "output_type": "stream",
     "text": [
      "  Class 3 F1: 0.6667\n",
      "  Class 7 F1: 0.5789\n",
      "  Class 14 F1: 0.7500\n",
      "  Problem Classes Avg F1: 0.6652\n",
      " Epoch 53 | Train Loss: 1.1523 | Train F1: 0.8051 | Val Loss: 1.1554 | Val F1: 0.9326 | LR: 1.41e-04\n",
      "         Problem Classes (3,7,14) Avg F1: 0.6652 | ⚠️ Problem classes need attention\n",
      "\n",
      "📈 Epoch 54/100\n"
     ]
    },
    {
     "name": "stderr",
     "output_type": "stream",
     "text": [
      "Loss: 1.1267, Mixup: False, Cutout: True, RandomCrop: False: 100%|██████████| 126/126 [00:11<00:00, 11.14it/s]\n",
      "Val Loss: 1.1252: 100%|██████████| 32/32 [00:01<00:00, 20.12it/s]\n"
     ]
    },
    {
     "name": "stdout",
     "output_type": "stream",
     "text": [
      "  Class 3 F1: 0.7143\n",
      "  Class 7 F1: 0.6667\n",
      "  Class 14 F1: 0.7778\n",
      "  Problem Classes Avg F1: 0.7196\n",
      " Epoch 54 | Train Loss: 1.1104 | Train F1: 0.8213 | Val Loss: 1.1055 | Val F1: 0.9433 | LR: 1.36e-04\n",
      "         Problem Classes (3,7,14) Avg F1: 0.7196 | ⚠️ Problem classes need attention\n",
      "\n",
      "📈 Epoch 55/100\n"
     ]
    },
    {
     "name": "stderr",
     "output_type": "stream",
     "text": [
      "Loss: 1.0132, Mixup: True, Cutout: False, RandomCrop: False: 100%|██████████| 126/126 [00:11<00:00, 10.90it/s]\n",
      "Val Loss: 1.1195: 100%|██████████| 32/32 [00:01<00:00, 20.46it/s]\n"
     ]
    },
    {
     "name": "stdout",
     "output_type": "stream",
     "text": [
      "  Class 3 F1: 0.7143\n",
      "  Class 7 F1: 0.6486\n",
      "  Class 14 F1: 0.8889\n",
      "  Problem Classes Avg F1: 0.7506\n",
      " Epoch 55 | Train Loss: 1.1267 | Train F1: 0.8012 | Val Loss: 1.1779 | Val F1: 0.9489 | LR: 1.31e-04\n",
      "         Problem Classes (3,7,14) Avg F1: 0.7506 | ⚠️ Problem classes need attention\n",
      "🎉 새로운 최고 성능! F1: 0.9489 (Problem Classes: 0.7506)\n",
      "\n",
      "📈 Epoch 56/100\n"
     ]
    },
    {
     "name": "stderr",
     "output_type": "stream",
     "text": [
      "Loss: 0.9300, Mixup: True, Cutout: False, RandomCrop: False: 100%|██████████| 126/126 [00:11<00:00, 10.98it/s]\n",
      "Val Loss: 1.1414: 100%|██████████| 32/32 [00:01<00:00, 20.45it/s]\n"
     ]
    },
    {
     "name": "stdout",
     "output_type": "stream",
     "text": [
      "  Class 3 F1: 0.6154\n",
      "  Class 7 F1: 0.5854\n",
      "  Class 14 F1: 0.7778\n",
      "  Problem Classes Avg F1: 0.6595\n",
      " Epoch 56 | Train Loss: 1.0923 | Train F1: 0.8188 | Val Loss: 1.1459 | Val F1: 0.9314 | LR: 1.27e-04\n",
      "         Problem Classes (3,7,14) Avg F1: 0.6595 | ⚠️ Problem classes need attention\n",
      "\n",
      "📈 Epoch 57/100\n"
     ]
    },
    {
     "name": "stderr",
     "output_type": "stream",
     "text": [
      "Loss: 1.1699, Mixup: False, Cutout: False, RandomCrop: True: 100%|██████████| 126/126 [00:11<00:00, 10.95it/s]\n",
      "Val Loss: 1.1238: 100%|██████████| 32/32 [00:01<00:00, 20.26it/s]\n"
     ]
    },
    {
     "name": "stdout",
     "output_type": "stream",
     "text": [
      "  Class 3 F1: 0.7111\n",
      "  Class 7 F1: 0.5882\n",
      "  Class 14 F1: 0.8421\n",
      "  Problem Classes Avg F1: 0.7138\n",
      " Epoch 57 | Train Loss: 1.1694 | Train F1: 0.7753 | Val Loss: 1.1638 | Val F1: 0.9410 | LR: 1.22e-04\n",
      "         Problem Classes (3,7,14) Avg F1: 0.7138 | ⚠️ Problem classes need attention\n",
      "\n",
      "📈 Epoch 58/100\n"
     ]
    },
    {
     "name": "stderr",
     "output_type": "stream",
     "text": [
      "Loss: 1.7424, Mixup: True, Cutout: False, RandomCrop: False: 100%|██████████| 126/126 [00:11<00:00, 11.08it/s]\n",
      "Val Loss: 1.1223: 100%|██████████| 32/32 [00:01<00:00, 19.76it/s]\n"
     ]
    },
    {
     "name": "stdout",
     "output_type": "stream",
     "text": [
      "  Class 3 F1: 0.6667\n",
      "  Class 7 F1: 0.5405\n",
      "  Class 14 F1: 0.7778\n",
      "  Problem Classes Avg F1: 0.6617\n",
      " Epoch 58 | Train Loss: 1.0901 | Train F1: 0.8059 | Val Loss: 1.1589 | Val F1: 0.9315 | LR: 1.17e-04\n",
      "         Problem Classes (3,7,14) Avg F1: 0.6617 | ⚠️ Problem classes need attention\n",
      "\n",
      "📈 Epoch 59/100\n"
     ]
    },
    {
     "name": "stderr",
     "output_type": "stream",
     "text": [
      "Loss: 1.2202, Mixup: True, Cutout: False, RandomCrop: False: 100%|██████████| 126/126 [00:11<00:00, 11.10it/s]\n",
      "Val Loss: 1.1281: 100%|██████████| 32/32 [00:01<00:00, 19.71it/s]\n"
     ]
    },
    {
     "name": "stdout",
     "output_type": "stream",
     "text": [
      "  Class 3 F1: 0.7111\n",
      "  Class 7 F1: 0.5882\n",
      "  Class 14 F1: 0.8571\n",
      "  Problem Classes Avg F1: 0.7188\n",
      " Epoch 59 | Train Loss: 1.1473 | Train F1: 0.8034 | Val Loss: 1.1615 | Val F1: 0.9416 | LR: 1.13e-04\n",
      "         Problem Classes (3,7,14) Avg F1: 0.7188 | ⚠️ Problem classes need attention\n",
      "\n",
      "📈 Epoch 60/100\n"
     ]
    },
    {
     "name": "stderr",
     "output_type": "stream",
     "text": [
      "Loss: 0.6110, Mixup: False, Cutout: True, RandomCrop: False: 100%|██████████| 126/126 [00:11<00:00, 10.94it/s]\n",
      "Val Loss: 1.1219: 100%|██████████| 32/32 [00:01<00:00, 20.74it/s]\n"
     ]
    },
    {
     "name": "stdout",
     "output_type": "stream",
     "text": [
      "  Class 3 F1: 0.6512\n",
      "  Class 7 F1: 0.5641\n",
      "  Class 14 F1: 0.7778\n",
      "  Problem Classes Avg F1: 0.6643\n",
      " Epoch 60 | Train Loss: 1.1501 | Train F1: 0.7901 | Val Loss: 1.1448 | Val F1: 0.9319 | LR: 1.08e-04\n",
      "         Problem Classes (3,7,14) Avg F1: 0.6643 | ⚠️ Problem classes need attention\n",
      "\n",
      "📈 Epoch 61/100\n"
     ]
    },
    {
     "name": "stderr",
     "output_type": "stream",
     "text": [
      "Loss: 1.1818, Mixup: False, Cutout: False, RandomCrop: True: 100%|██████████| 126/126 [00:11<00:00, 10.90it/s]\n",
      "Val Loss: 1.1301: 100%|██████████| 32/32 [00:01<00:00, 20.58it/s]\n"
     ]
    },
    {
     "name": "stdout",
     "output_type": "stream",
     "text": [
      "  Class 3 F1: 0.6154\n",
      "  Class 7 F1: 0.5909\n",
      "  Class 14 F1: 0.7500\n",
      "  Problem Classes Avg F1: 0.6521\n",
      " Epoch 61 | Train Loss: 1.1716 | Train F1: 0.7424 | Val Loss: 1.1926 | Val F1: 0.9314 | LR: 1.04e-04\n",
      "         Problem Classes (3,7,14) Avg F1: 0.6521 | ⚠️ Problem classes need attention\n",
      "\n",
      "📈 Epoch 62/100\n"
     ]
    },
    {
     "name": "stderr",
     "output_type": "stream",
     "text": [
      "Loss: 0.8307, Mixup: False, Cutout: True, RandomCrop: False: 100%|██████████| 126/126 [00:11<00:00, 10.95it/s]\n",
      "Val Loss: 1.1174: 100%|██████████| 32/32 [00:01<00:00, 20.44it/s]\n"
     ]
    },
    {
     "name": "stdout",
     "output_type": "stream",
     "text": [
      "  Class 3 F1: 0.6522\n",
      "  Class 7 F1: 0.5789\n",
      "  Class 14 F1: 0.8235\n",
      "  Problem Classes Avg F1: 0.6849\n",
      " Epoch 62 | Train Loss: 1.1532 | Train F1: 0.7741 | Val Loss: 1.1404 | Val F1: 0.9369 | LR: 9.92e-05\n",
      "         Problem Classes (3,7,14) Avg F1: 0.6849 | ⚠️ Problem classes need attention\n",
      "\n",
      "📈 Epoch 63/100\n"
     ]
    },
    {
     "name": "stderr",
     "output_type": "stream",
     "text": [
      "Loss: 1.0616, Mixup: False, Cutout: False, RandomCrop: True: 100%|██████████| 126/126 [00:11<00:00, 11.13it/s]\n",
      "Val Loss: 1.1274: 100%|██████████| 32/32 [00:01<00:00, 20.88it/s]\n"
     ]
    },
    {
     "name": "stdout",
     "output_type": "stream",
     "text": [
      "  Class 3 F1: 0.6512\n",
      "  Class 7 F1: 0.5641\n",
      "  Class 14 F1: 0.8235\n",
      "  Problem Classes Avg F1: 0.6796\n",
      " Epoch 63 | Train Loss: 1.1439 | Train F1: 0.8014 | Val Loss: 1.1672 | Val F1: 0.9362 | LR: 9.48e-05\n",
      "         Problem Classes (3,7,14) Avg F1: 0.6796 | ⚠️ Problem classes need attention\n",
      "\n",
      "📈 Epoch 64/100\n"
     ]
    },
    {
     "name": "stderr",
     "output_type": "stream",
     "text": [
      "Loss: 1.3963, Mixup: False, Cutout: True, RandomCrop: False: 100%|██████████| 126/126 [00:11<00:00, 11.09it/s]\n",
      "Val Loss: 1.1349: 100%|██████████| 32/32 [00:01<00:00, 20.26it/s]\n"
     ]
    },
    {
     "name": "stdout",
     "output_type": "stream",
     "text": [
      "  Class 3 F1: 0.6667\n",
      "  Class 7 F1: 0.5789\n",
      "  Class 14 F1: 0.7778\n",
      "  Problem Classes Avg F1: 0.6745\n",
      " Epoch 64 | Train Loss: 1.0916 | Train F1: 0.8120 | Val Loss: 1.1898 | Val F1: 0.9340 | LR: 9.04e-05\n",
      "         Problem Classes (3,7,14) Avg F1: 0.6745 | ⚠️ Problem classes need attention\n",
      "\n",
      "📈 Epoch 65/100\n"
     ]
    },
    {
     "name": "stderr",
     "output_type": "stream",
     "text": [
      "Loss: 0.8642, Mixup: True, Cutout: False, RandomCrop: False: 100%|██████████| 126/126 [00:11<00:00, 10.95it/s]\n",
      "Val Loss: 1.1162: 100%|██████████| 32/32 [00:01<00:00, 19.94it/s]\n"
     ]
    },
    {
     "name": "stdout",
     "output_type": "stream",
     "text": [
      "  Class 3 F1: 0.7111\n",
      "  Class 7 F1: 0.5714\n",
      "  Class 14 F1: 0.7778\n",
      "  Problem Classes Avg F1: 0.6868\n",
      " Epoch 65 | Train Loss: 1.0756 | Train F1: 0.8373 | Val Loss: 1.1760 | Val F1: 0.9362 | LR: 8.61e-05\n",
      "         Problem Classes (3,7,14) Avg F1: 0.6868 | ⚠️ Problem classes need attention\n",
      "\n",
      "📈 Epoch 66/100\n"
     ]
    },
    {
     "name": "stderr",
     "output_type": "stream",
     "text": [
      "Loss: 0.7685, Mixup: False, Cutout: True, RandomCrop: False: 100%|██████████| 126/126 [00:11<00:00, 10.96it/s]\n",
      "Val Loss: 1.1232: 100%|██████████| 32/32 [00:01<00:00, 19.43it/s]\n"
     ]
    },
    {
     "name": "stdout",
     "output_type": "stream",
     "text": [
      "  Class 3 F1: 0.7111\n",
      "  Class 7 F1: 0.5946\n",
      "  Class 14 F1: 0.7059\n",
      "  Problem Classes Avg F1: 0.6705\n",
      " Epoch 66 | Train Loss: 1.0880 | Train F1: 0.8205 | Val Loss: 1.1587 | Val F1: 0.9346 | LR: 8.19e-05\n",
      "         Problem Classes (3,7,14) Avg F1: 0.6705 | ⚠️ Problem classes need attention\n",
      "\n",
      "📈 Epoch 67/100\n"
     ]
    },
    {
     "name": "stderr",
     "output_type": "stream",
     "text": [
      "Loss: 0.7737, Mixup: False, Cutout: True, RandomCrop: False: 100%|██████████| 126/126 [00:11<00:00, 10.98it/s]\n",
      "Val Loss: 1.1179: 100%|██████████| 32/32 [00:01<00:00, 20.70it/s]\n"
     ]
    },
    {
     "name": "stdout",
     "output_type": "stream",
     "text": [
      "  Class 3 F1: 0.7111\n",
      "  Class 7 F1: 0.5789\n",
      "  Class 14 F1: 0.7500\n",
      "  Problem Classes Avg F1: 0.6800\n",
      " Epoch 67 | Train Loss: 1.0729 | Train F1: 0.8368 | Val Loss: 1.1596 | Val F1: 0.9363 | LR: 7.77e-05\n",
      "         Problem Classes (3,7,14) Avg F1: 0.6800 | ⚠️ Problem classes need attention\n",
      "\n",
      "📈 Epoch 68/100\n"
     ]
    },
    {
     "name": "stderr",
     "output_type": "stream",
     "text": [
      "Loss: 0.7752, Mixup: False, Cutout: True, RandomCrop: False: 100%|██████████| 126/126 [00:11<00:00, 11.05it/s]\n",
      "Val Loss: 1.1159: 100%|██████████| 32/32 [00:01<00:00, 21.28it/s]\n"
     ]
    },
    {
     "name": "stdout",
     "output_type": "stream",
     "text": [
      "  Class 3 F1: 0.7442\n",
      "  Class 7 F1: 0.6486\n",
      "  Class 14 F1: 0.7778\n",
      "  Problem Classes Avg F1: 0.7235\n",
      " Epoch 68 | Train Loss: 1.0997 | Train F1: 0.7781 | Val Loss: 1.1373 | Val F1: 0.9427 | LR: 7.36e-05\n",
      "         Problem Classes (3,7,14) Avg F1: 0.7235 | ⚠️ Problem classes need attention\n",
      "\n",
      "📈 Epoch 69/100\n"
     ]
    },
    {
     "name": "stderr",
     "output_type": "stream",
     "text": [
      "Loss: 1.2539, Mixup: False, Cutout: True, RandomCrop: False: 100%|██████████| 126/126 [00:11<00:00, 10.97it/s]\n",
      "Val Loss: 1.1187: 100%|██████████| 32/32 [00:01<00:00, 20.52it/s]\n"
     ]
    },
    {
     "name": "stdout",
     "output_type": "stream",
     "text": [
      "  Class 3 F1: 0.7273\n",
      "  Class 7 F1: 0.5946\n",
      "  Class 14 F1: 0.7778\n",
      "  Problem Classes Avg F1: 0.6999\n",
      " Epoch 69 | Train Loss: 1.0999 | Train F1: 0.7832 | Val Loss: 1.1451 | Val F1: 0.9398 | LR: 6.96e-05\n",
      "         Problem Classes (3,7,14) Avg F1: 0.6999 | ⚠️ Problem classes need attention\n",
      "\n",
      "📈 Epoch 70/100\n"
     ]
    },
    {
     "name": "stderr",
     "output_type": "stream",
     "text": [
      "Loss: 1.1468, Mixup: True, Cutout: False, RandomCrop: False: 100%|██████████| 126/126 [00:11<00:00, 11.02it/s]\n",
      "Val Loss: 1.1238: 100%|██████████| 32/32 [00:01<00:00, 20.70it/s]\n"
     ]
    },
    {
     "name": "stdout",
     "output_type": "stream",
     "text": [
      "  Class 3 F1: 0.7273\n",
      "  Class 7 F1: 0.6111\n",
      "  Class 14 F1: 0.7778\n",
      "  Problem Classes Avg F1: 0.7054\n",
      " Epoch 70 | Train Loss: 1.0999 | Train F1: 0.7899 | Val Loss: 1.1293 | Val F1: 0.9395 | LR: 6.57e-05\n",
      "         Problem Classes (3,7,14) Avg F1: 0.7054 | ⚠️ Problem classes need attention\n",
      "\n",
      "📈 Epoch 71/100\n"
     ]
    },
    {
     "name": "stderr",
     "output_type": "stream",
     "text": [
      "Loss: 0.4951, Mixup: False, Cutout: False, RandomCrop: True: 100%|██████████| 126/126 [00:11<00:00, 10.82it/s]\n",
      "Val Loss: 1.1162: 100%|██████████| 32/32 [00:01<00:00, 19.74it/s]\n"
     ]
    },
    {
     "name": "stdout",
     "output_type": "stream",
     "text": [
      "  Class 3 F1: 0.6977\n",
      "  Class 7 F1: 0.5789\n",
      "  Class 14 F1: 0.7778\n",
      "  Problem Classes Avg F1: 0.6848\n",
      " Epoch 71 | Train Loss: 1.0742 | Train F1: 0.8172 | Val Loss: 1.1327 | Val F1: 0.9371 | LR: 6.18e-05\n",
      "         Problem Classes (3,7,14) Avg F1: 0.6848 | ⚠️ Problem classes need attention\n",
      "\n",
      "📈 Epoch 72/100\n"
     ]
    },
    {
     "name": "stderr",
     "output_type": "stream",
     "text": [
      "Loss: 0.5350, Mixup: False, Cutout: True, RandomCrop: False: 100%|██████████| 126/126 [00:11<00:00, 11.05it/s]\n",
      "Val Loss: 1.1290: 100%|██████████| 32/32 [00:01<00:00, 19.66it/s]\n"
     ]
    },
    {
     "name": "stdout",
     "output_type": "stream",
     "text": [
      "  Class 3 F1: 0.7083\n",
      "  Class 7 F1: 0.5000\n",
      "  Class 14 F1: 0.7778\n",
      "  Problem Classes Avg F1: 0.6620\n",
      " Epoch 72 | Train Loss: 1.1343 | Train F1: 0.8083 | Val Loss: 1.1710 | Val F1: 0.9318 | LR: 5.81e-05\n",
      "         Problem Classes (3,7,14) Avg F1: 0.6620 | ⚠️ Problem classes need attention\n",
      "\n",
      "📈 Epoch 73/100\n"
     ]
    },
    {
     "name": "stderr",
     "output_type": "stream",
     "text": [
      "Loss: 1.1691, Mixup: False, Cutout: True, RandomCrop: False: 100%|██████████| 126/126 [00:11<00:00, 11.06it/s]\n",
      "Val Loss: 1.1221: 100%|██████████| 32/32 [00:01<00:00, 20.07it/s]\n"
     ]
    },
    {
     "name": "stdout",
     "output_type": "stream",
     "text": [
      "  Class 3 F1: 0.7273\n",
      "  Class 7 F1: 0.5946\n",
      "  Class 14 F1: 0.7778\n",
      "  Problem Classes Avg F1: 0.6999\n",
      " Epoch 73 | Train Loss: 1.0696 | Train F1: 0.7939 | Val Loss: 1.1350 | Val F1: 0.9398 | LR: 5.44e-05\n",
      "         Problem Classes (3,7,14) Avg F1: 0.6999 | ⚠️ Problem classes need attention\n",
      "\n",
      "📈 Epoch 74/100\n"
     ]
    },
    {
     "name": "stderr",
     "output_type": "stream",
     "text": [
      "Loss: 0.8103, Mixup: False, Cutout: False, RandomCrop: True: 100%|██████████| 126/126 [00:11<00:00, 11.06it/s]\n",
      "Val Loss: 1.1150: 100%|██████████| 32/32 [00:01<00:00, 20.65it/s]\n"
     ]
    },
    {
     "name": "stdout",
     "output_type": "stream",
     "text": [
      "  Class 3 F1: 0.7556\n",
      "  Class 7 F1: 0.6111\n",
      "  Class 14 F1: 0.7778\n",
      "  Problem Classes Avg F1: 0.7148\n",
      " Epoch 74 | Train Loss: 1.0947 | Train F1: 0.8367 | Val Loss: 1.1474 | Val F1: 0.9424 | LR: 5.08e-05\n",
      "         Problem Classes (3,7,14) Avg F1: 0.7148 | ⚠️ Problem classes need attention\n",
      "\n",
      "📈 Epoch 75/100\n"
     ]
    },
    {
     "name": "stderr",
     "output_type": "stream",
     "text": [
      "Loss: 0.8042, Mixup: False, Cutout: True, RandomCrop: False: 100%|██████████| 126/126 [00:11<00:00, 11.11it/s]\n",
      "Val Loss: 1.1229: 100%|██████████| 32/32 [00:01<00:00, 19.80it/s]\n"
     ]
    },
    {
     "name": "stdout",
     "output_type": "stream",
     "text": [
      "  Class 3 F1: 0.7273\n",
      "  Class 7 F1: 0.5946\n",
      "  Class 14 F1: 0.7778\n",
      "  Problem Classes Avg F1: 0.6999\n",
      " Epoch 75 | Train Loss: 1.1128 | Train F1: 0.8259 | Val Loss: 1.1402 | Val F1: 0.9398 | LR: 4.73e-05\n",
      "         Problem Classes (3,7,14) Avg F1: 0.6999 | ⚠️ Problem classes need attention\n",
      "\n",
      "📈 Epoch 76/100\n"
     ]
    },
    {
     "name": "stderr",
     "output_type": "stream",
     "text": [
      "Loss: 1.1869, Mixup: True, Cutout: False, RandomCrop: False: 100%|██████████| 126/126 [00:11<00:00, 10.99it/s]\n",
      "Val Loss: 1.1161: 100%|██████████| 32/32 [00:01<00:00, 19.81it/s]\n"
     ]
    },
    {
     "name": "stdout",
     "output_type": "stream",
     "text": [
      "  Class 3 F1: 0.7273\n",
      "  Class 7 F1: 0.5946\n",
      "  Class 14 F1: 0.7778\n",
      "  Problem Classes Avg F1: 0.6999\n",
      " Epoch 76 | Train Loss: 1.0957 | Train F1: 0.8131 | Val Loss: 1.1215 | Val F1: 0.9398 | LR: 4.39e-05\n",
      "         Problem Classes (3,7,14) Avg F1: 0.6999 | ⚠️ Problem classes need attention\n",
      "\n",
      "📈 Epoch 77/100\n"
     ]
    },
    {
     "name": "stderr",
     "output_type": "stream",
     "text": [
      "Loss: 0.6122, Mixup: False, Cutout: False, RandomCrop: True: 100%|██████████| 126/126 [00:11<00:00, 11.16it/s]\n",
      "Val Loss: 1.1216: 100%|██████████| 32/32 [00:01<00:00, 20.27it/s]\n"
     ]
    },
    {
     "name": "stdout",
     "output_type": "stream",
     "text": [
      "  Class 3 F1: 0.7273\n",
      "  Class 7 F1: 0.6111\n",
      "  Class 14 F1: 0.7778\n",
      "  Problem Classes Avg F1: 0.7054\n",
      " Epoch 77 | Train Loss: 1.0754 | Train F1: 0.8276 | Val Loss: 1.1258 | Val F1: 0.9395 | LR: 4.07e-05\n",
      "         Problem Classes (3,7,14) Avg F1: 0.7054 | ⚠️ Problem classes need attention\n",
      "\n",
      "📈 Epoch 78/100\n"
     ]
    },
    {
     "name": "stderr",
     "output_type": "stream",
     "text": [
      "Loss: 1.3629, Mixup: True, Cutout: False, RandomCrop: False: 100%|██████████| 126/126 [00:11<00:00, 10.83it/s]\n",
      "Val Loss: 1.1201: 100%|██████████| 32/32 [00:01<00:00, 20.59it/s]\n"
     ]
    },
    {
     "name": "stdout",
     "output_type": "stream",
     "text": [
      "  Class 3 F1: 0.7273\n",
      "  Class 7 F1: 0.5946\n",
      "  Class 14 F1: 0.7778\n",
      "  Problem Classes Avg F1: 0.6999\n",
      " Epoch 78 | Train Loss: 1.0171 | Train F1: 0.8559 | Val Loss: 1.1062 | Val F1: 0.9398 | LR: 3.75e-05\n",
      "         Problem Classes (3,7,14) Avg F1: 0.6999 | ⚠️ Problem classes need attention\n",
      "\n",
      "📈 Epoch 79/100\n"
     ]
    },
    {
     "name": "stderr",
     "output_type": "stream",
     "text": [
      "Loss: 1.1165, Mixup: False, Cutout: False, RandomCrop: True: 100%|██████████| 126/126 [00:11<00:00, 10.97it/s]\n",
      "Val Loss: 1.1359: 100%|██████████| 32/32 [00:01<00:00, 20.07it/s]\n"
     ]
    },
    {
     "name": "stdout",
     "output_type": "stream",
     "text": [
      "  Class 3 F1: 0.7273\n",
      "  Class 7 F1: 0.5946\n",
      "  Class 14 F1: 0.7778\n",
      "  Problem Classes Avg F1: 0.6999\n",
      " Epoch 79 | Train Loss: 1.1214 | Train F1: 0.7753 | Val Loss: 1.1050 | Val F1: 0.9398 | LR: 3.44e-05\n",
      "         Problem Classes (3,7,14) Avg F1: 0.6999 | ⚠️ Problem classes need attention\n",
      "\n",
      "📈 Epoch 80/100\n"
     ]
    },
    {
     "name": "stderr",
     "output_type": "stream",
     "text": [
      "Loss: 2.0109, Mixup: True, Cutout: False, RandomCrop: False: 100%|██████████| 126/126 [00:11<00:00, 11.09it/s]\n",
      "Val Loss: 1.1196: 100%|██████████| 32/32 [00:01<00:00, 20.28it/s]\n"
     ]
    },
    {
     "name": "stdout",
     "output_type": "stream",
     "text": [
      "  Class 3 F1: 0.7111\n",
      "  Class 7 F1: 0.5714\n",
      "  Class 14 F1: 0.7778\n",
      "  Problem Classes Avg F1: 0.6868\n",
      " Epoch 80 | Train Loss: 1.0761 | Train F1: 0.7863 | Val Loss: 1.1353 | Val F1: 0.9362 | LR: 3.15e-05\n",
      "         Problem Classes (3,7,14) Avg F1: 0.6868 | ⚠️ Problem classes need attention\n",
      "\n",
      "📈 Epoch 81/100\n"
     ]
    },
    {
     "name": "stderr",
     "output_type": "stream",
     "text": [
      "Loss: 1.1271, Mixup: False, Cutout: False, RandomCrop: True: 100%|██████████| 126/126 [00:11<00:00, 10.98it/s]\n",
      "Val Loss: 1.1202: 100%|██████████| 32/32 [00:01<00:00, 20.73it/s]\n"
     ]
    },
    {
     "name": "stdout",
     "output_type": "stream",
     "text": [
      "  Class 3 F1: 0.7273\n",
      "  Class 7 F1: 0.5946\n",
      "  Class 14 F1: 0.7778\n",
      "  Problem Classes Avg F1: 0.6999\n",
      " Epoch 81 | Train Loss: 1.0438 | Train F1: 0.8321 | Val Loss: 1.1201 | Val F1: 0.9398 | LR: 2.86e-05\n",
      "         Problem Classes (3,7,14) Avg F1: 0.6999 | ⚠️ Problem classes need attention\n",
      "\n",
      "📈 Epoch 82/100\n"
     ]
    },
    {
     "name": "stderr",
     "output_type": "stream",
     "text": [
      "Loss: 1.3728, Mixup: False, Cutout: False, RandomCrop: True: 100%|██████████| 126/126 [00:11<00:00, 10.98it/s]\n",
      "Val Loss: 1.1246: 100%|██████████| 32/32 [00:01<00:00, 20.36it/s]\n"
     ]
    },
    {
     "name": "stdout",
     "output_type": "stream",
     "text": [
      "  Class 3 F1: 0.7273\n",
      "  Class 7 F1: 0.5946\n",
      "  Class 14 F1: 0.7778\n",
      "  Problem Classes Avg F1: 0.6999\n",
      " Epoch 82 | Train Loss: 1.0631 | Train F1: 0.8291 | Val Loss: 1.1190 | Val F1: 0.9398 | LR: 2.59e-05\n",
      "         Problem Classes (3,7,14) Avg F1: 0.6999 | ⚠️ Problem classes need attention\n",
      "\n",
      "📈 Epoch 83/100\n"
     ]
    },
    {
     "name": "stderr",
     "output_type": "stream",
     "text": [
      "Loss: 1.6901, Mixup: True, Cutout: False, RandomCrop: False:  69%|██████▉   | 87/126 [00:08<00:03,  9.85it/s]\n",
      "socket.send() raised exception.\n",
      "socket.send() raised exception.\n",
      "socket.send() raised exception.\n",
      "socket.send() raised exception.\n",
      "socket.send() raised exception.\n",
      "socket.send() raised exception.\n",
      "socket.send() raised exception.\n",
      "socket.send() raised exception.\n",
      "socket.send() raised exception.\n",
      "socket.send() raised exception.\n",
      "socket.send() raised exception.\n",
      "socket.send() raised exception.\n",
      "socket.send() raised exception.\n",
      "socket.send() raised exception.\n",
      "socket.send() raised exception.\n",
      "socket.send() raised exception.\n",
      "socket.send() raised exception.\n",
      "socket.send() raised exception.\n",
      "socket.send() raised exception.\n",
      "socket.send() raised exception.\n",
      "socket.send() raised exception.\n",
      "socket.send() raised exception.\n",
      "socket.send() raised exception.\n",
      "socket.send() raised exception.\n",
      "socket.send() raised exception.\n",
      "socket.send() raised exception.\n",
      "socket.send() raised exception.\n",
      "socket.send() raised exception.\n",
      "socket.send() raised exception.\n",
      "socket.send() raised exception.\n",
      "socket.send() raised exception.\n",
      "socket.send() raised exception.\n",
      "socket.send() raised exception.\n",
      "socket.send() raised exception.\n",
      "socket.send() raised exception.\n",
      "socket.send() raised exception.\n",
      "socket.send() raised exception.\n",
      "socket.send() raised exception.\n",
      "socket.send() raised exception.\n",
      "socket.send() raised exception.\n",
      "socket.send() raised exception.\n",
      "socket.send() raised exception.\n",
      "socket.send() raised exception.\n",
      "socket.send() raised exception.\n",
      "socket.send() raised exception.\n",
      "socket.send() raised exception.\n",
      "socket.send() raised exception.\n",
      "socket.send() raised exception.\n",
      "socket.send() raised exception.\n",
      "socket.send() raised exception.\n",
      "socket.send() raised exception.\n",
      "socket.send() raised exception.\n",
      "socket.send() raised exception.\n",
      "socket.send() raised exception.\n",
      "socket.send() raised exception.\n",
      "socket.send() raised exception.\n",
      "socket.send() raised exception.\n",
      "socket.send() raised exception.\n",
      "socket.send() raised exception.\n",
      "socket.send() raised exception.\n",
      "socket.send() raised exception.\n",
      "socket.send() raised exception.\n",
      "socket.send() raised exception.\n",
      "socket.send() raised exception.\n",
      "socket.send() raised exception.\n",
      "socket.send() raised exception.\n",
      "socket.send() raised exception.\n",
      "socket.send() raised exception.\n",
      "socket.send() raised exception.\n",
      "socket.send() raised exception.\n",
      "socket.send() raised exception.\n",
      "socket.send() raised exception.\n",
      "socket.send() raised exception.\n",
      "socket.send() raised exception.\n",
      "socket.send() raised exception.\n",
      "socket.send() raised exception.\n",
      "socket.send() raised exception.\n",
      "socket.send() raised exception.\n",
      "socket.send() raised exception.\n",
      "socket.send() raised exception.\n",
      "socket.send() raised exception.\n",
      "socket.send() raised exception.\n",
      "socket.send() raised exception.\n",
      "socket.send() raised exception.\n",
      "socket.send() raised exception.\n",
      "socket.send() raised exception.\n",
      "socket.send() raised exception.\n",
      "socket.send() raised exception.\n",
      "socket.send() raised exception.\n",
      "socket.send() raised exception.\n",
      "socket.send() raised exception.\n",
      "socket.send() raised exception.\n",
      "socket.send() raised exception.\n",
      "socket.send() raised exception.\n",
      "socket.send() raised exception.\n",
      "socket.send() raised exception.\n",
      "socket.send() raised exception.\n",
      "socket.send() raised exception.\n",
      "socket.send() raised exception.\n",
      "socket.send() raised exception.\n",
      "socket.send() raised exception.\n",
      "socket.send() raised exception.\n",
      "socket.send() raised exception.\n",
      "socket.send() raised exception.\n",
      "socket.send() raised exception.\n",
      "socket.send() raised exception.\n",
      "socket.send() raised exception.\n",
      "socket.send() raised exception.\n",
      "socket.send() raised exception.\n",
      "socket.send() raised exception.\n",
      "socket.send() raised exception.\n",
      "socket.send() raised exception.\n",
      "socket.send() raised exception.\n",
      "socket.send() raised exception.\n",
      "socket.send() raised exception.\n",
      "socket.send() raised exception.\n",
      "socket.send() raised exception.\n",
      "socket.send() raised exception.\n",
      "socket.send() raised exception.\n",
      "socket.send() raised exception.\n",
      "socket.send() raised exception.\n",
      "socket.send() raised exception.\n",
      "socket.send() raised exception.\n",
      "socket.send() raised exception.\n",
      "socket.send() raised exception.\n",
      "socket.send() raised exception.\n",
      "socket.send() raised exception.\n",
      "socket.send() raised exception.\n",
      "socket.send() raised exception.\n",
      "socket.send() raised exception.\n",
      "socket.send() raised exception.\n",
      "socket.send() raised exception.\n",
      "socket.send() raised exception.\n",
      "socket.send() raised exception.\n",
      "socket.send() raised exception.\n",
      "socket.send() raised exception.\n",
      "socket.send() raised exception.\n",
      "socket.send() raised exception.\n",
      "socket.send() raised exception.\n",
      "socket.send() raised exception.\n",
      "socket.send() raised exception.\n",
      "socket.send() raised exception.\n",
      "socket.send() raised exception.\n",
      "socket.send() raised exception.\n",
      "socket.send() raised exception.\n",
      "socket.send() raised exception.\n",
      "socket.send() raised exception.\n",
      "socket.send() raised exception.\n",
      "socket.send() raised exception.\n",
      "socket.send() raised exception.\n",
      "socket.send() raised exception.\n",
      "socket.send() raised exception.\n",
      "socket.send() raised exception.\n",
      "socket.send() raised exception.\n",
      "socket.send() raised exception.\n",
      "socket.send() raised exception.\n",
      "socket.send() raised exception.\n",
      "socket.send() raised exception.\n",
      "socket.send() raised exception.\n",
      "socket.send() raised exception.\n",
      "socket.send() raised exception.\n",
      "socket.send() raised exception.\n",
      "socket.send() raised exception.\n",
      "socket.send() raised exception.\n",
      "socket.send() raised exception.\n",
      "socket.send() raised exception.\n",
      "socket.send() raised exception.\n",
      "socket.send() raised exception.\n",
      "socket.send() raised exception.\n",
      "socket.send() raised exception.\n",
      "socket.send() raised exception.\n",
      "socket.send() raised exception.\n",
      "socket.send() raised exception.\n",
      "socket.send() raised exception.\n",
      "socket.send() raised exception.\n",
      "socket.send() raised exception.\n",
      "socket.send() raised exception.\n",
      "socket.send() raised exception.\n",
      "socket.send() raised exception.\n",
      "socket.send() raised exception.\n",
      "socket.send() raised exception.\n",
      "socket.send() raised exception.\n"
     ]
    },
    {
     "ename": "KeyboardInterrupt",
     "evalue": "",
     "output_type": "error",
     "traceback": [
      "\u001b[0;31m---------------------------------------------------------------------------\u001b[0m",
      "\u001b[0;31mKeyboardInterrupt\u001b[0m                         Traceback (most recent call last)",
      "Cell \u001b[0;32mIn[13], line 104\u001b[0m\n\u001b[1;32m    101\u001b[0m \u001b[38;5;28mprint\u001b[39m(\u001b[38;5;124mf\u001b[39m\u001b[38;5;124m\"\u001b[39m\u001b[38;5;130;01m\\n\u001b[39;00m\u001b[38;5;124m📈 Epoch \u001b[39m\u001b[38;5;132;01m{\u001b[39;00mepoch\u001b[38;5;241m+\u001b[39m\u001b[38;5;241m1\u001b[39m\u001b[38;5;132;01m}\u001b[39;00m\u001b[38;5;124m/\u001b[39m\u001b[38;5;132;01m{\u001b[39;00mEPOCHS\u001b[38;5;132;01m}\u001b[39;00m\u001b[38;5;124m\"\u001b[39m)\n\u001b[1;32m    103\u001b[0m \u001b[38;5;66;03m# Training\u001b[39;00m\n\u001b[0;32m--> 104\u001b[0m train_ret \u001b[38;5;241m=\u001b[39m \u001b[43mtrain_one_epoch\u001b[49m\u001b[43m(\u001b[49m\n\u001b[1;32m    105\u001b[0m \u001b[43m    \u001b[49m\u001b[43mtrn_loader\u001b[49m\u001b[43m,\u001b[49m\u001b[43m \u001b[49m\u001b[43mmodel\u001b[49m\u001b[43m,\u001b[49m\u001b[43m \u001b[49m\u001b[43moptimizer\u001b[49m\u001b[43m,\u001b[49m\u001b[43m \u001b[49m\u001b[43mloss_fn\u001b[49m\u001b[43m,\u001b[49m\u001b[43m \u001b[49m\u001b[43mdevice\u001b[49m\u001b[43m,\u001b[49m\u001b[43m \u001b[49m\n\u001b[1;32m    106\u001b[0m \u001b[43m    \u001b[49m\u001b[43mepoch\u001b[49m\u001b[38;5;241;43m=\u001b[39;49m\u001b[43mepoch\u001b[49m\u001b[43m,\u001b[49m\u001b[43m \u001b[49m\u001b[43mfold\u001b[49m\u001b[38;5;241;43m=\u001b[39;49m\u001b[43mfold\u001b[49m\u001b[38;5;241;43m+\u001b[39;49m\u001b[38;5;241;43m1\u001b[39;49m\n\u001b[1;32m    107\u001b[0m \u001b[43m\u001b[49m\u001b[43m)\u001b[49m\n\u001b[1;32m    109\u001b[0m \u001b[38;5;66;03m# Validation\u001b[39;00m\n\u001b[1;32m    110\u001b[0m val_ret \u001b[38;5;241m=\u001b[39m validate_one_epoch(\n\u001b[1;32m    111\u001b[0m     val_loader, model, loss_fn, device, \n\u001b[1;32m    112\u001b[0m     epoch\u001b[38;5;241m=\u001b[39mepoch, fold\u001b[38;5;241m=\u001b[39mfold\u001b[38;5;241m+\u001b[39m\u001b[38;5;241m1\u001b[39m,\n\u001b[1;32m    113\u001b[0m     log_confusion\u001b[38;5;241m=\u001b[39m(epoch \u001b[38;5;241m==\u001b[39m EPOCHS\u001b[38;5;241m-\u001b[39m\u001b[38;5;241m1\u001b[39m)  \u001b[38;5;66;03m# 마지막 epoch에만 confusion matrix\u001b[39;00m\n\u001b[1;32m    114\u001b[0m )\n",
      "Cell \u001b[0;32mIn[8], line 54\u001b[0m, in \u001b[0;36mtrain_one_epoch\u001b[0;34m(loader, model, optimizer, loss_fn, device, epoch, fold)\u001b[0m\n\u001b[1;32m     51\u001b[0m model\u001b[38;5;241m.\u001b[39mzero_grad(set_to_none\u001b[38;5;241m=\u001b[39m\u001b[38;5;28;01mTrue\u001b[39;00m)\n\u001b[1;32m     53\u001b[0m scaler\u001b[38;5;241m.\u001b[39mscale(loss)\u001b[38;5;241m.\u001b[39mbackward()\n\u001b[0;32m---> 54\u001b[0m \u001b[43mtorch\u001b[49m\u001b[38;5;241;43m.\u001b[39;49m\u001b[43mnn\u001b[49m\u001b[38;5;241;43m.\u001b[39;49m\u001b[43mutils\u001b[49m\u001b[38;5;241;43m.\u001b[39;49m\u001b[43mclip_grad_norm_\u001b[49m\u001b[43m(\u001b[49m\u001b[43mmodel\u001b[49m\u001b[38;5;241;43m.\u001b[39;49m\u001b[43mparameters\u001b[49m\u001b[43m(\u001b[49m\u001b[43m)\u001b[49m\u001b[43m,\u001b[49m\u001b[43m \u001b[49m\u001b[38;5;241;43m1.0\u001b[39;49m\u001b[43m)\u001b[49m\n\u001b[1;32m     56\u001b[0m scaler\u001b[38;5;241m.\u001b[39mstep(optimizer)\n\u001b[1;32m     58\u001b[0m scaler\u001b[38;5;241m.\u001b[39mupdate()\n",
      "File \u001b[0;32m/opt/conda/lib/python3.10/site-packages/torch/nn/utils/clip_grad.py:39\u001b[0m, in \u001b[0;36mclip_grad_norm_\u001b[0;34m(parameters, max_norm, norm_type, error_if_nonfinite, foreach)\u001b[0m\n\u001b[1;32m     37\u001b[0m \u001b[38;5;28;01mif\u001b[39;00m \u001b[38;5;28misinstance\u001b[39m(parameters, torch\u001b[38;5;241m.\u001b[39mTensor):\n\u001b[1;32m     38\u001b[0m     parameters \u001b[38;5;241m=\u001b[39m [parameters]\n\u001b[0;32m---> 39\u001b[0m grads \u001b[38;5;241m=\u001b[39m [p\u001b[38;5;241m.\u001b[39mgrad \u001b[38;5;28;01mfor\u001b[39;00m p \u001b[38;5;129;01min\u001b[39;00m parameters \u001b[38;5;28;01mif\u001b[39;00m p\u001b[38;5;241m.\u001b[39mgrad \u001b[38;5;129;01mis\u001b[39;00m \u001b[38;5;129;01mnot\u001b[39;00m \u001b[38;5;28;01mNone\u001b[39;00m]\n\u001b[1;32m     40\u001b[0m max_norm \u001b[38;5;241m=\u001b[39m \u001b[38;5;28mfloat\u001b[39m(max_norm)\n\u001b[1;32m     41\u001b[0m norm_type \u001b[38;5;241m=\u001b[39m \u001b[38;5;28mfloat\u001b[39m(norm_type)\n",
      "File \u001b[0;32m/opt/conda/lib/python3.10/site-packages/torch/nn/utils/clip_grad.py:39\u001b[0m, in \u001b[0;36m<listcomp>\u001b[0;34m(.0)\u001b[0m\n\u001b[1;32m     37\u001b[0m \u001b[38;5;28;01mif\u001b[39;00m \u001b[38;5;28misinstance\u001b[39m(parameters, torch\u001b[38;5;241m.\u001b[39mTensor):\n\u001b[1;32m     38\u001b[0m     parameters \u001b[38;5;241m=\u001b[39m [parameters]\n\u001b[0;32m---> 39\u001b[0m grads \u001b[38;5;241m=\u001b[39m [p\u001b[38;5;241m.\u001b[39mgrad \u001b[38;5;28;01mfor\u001b[39;00m p \u001b[38;5;129;01min\u001b[39;00m parameters \u001b[38;5;28;01mif\u001b[39;00m p\u001b[38;5;241m.\u001b[39mgrad \u001b[38;5;129;01mis\u001b[39;00m \u001b[38;5;129;01mnot\u001b[39;00m \u001b[38;5;28;01mNone\u001b[39;00m]\n\u001b[1;32m     40\u001b[0m max_norm \u001b[38;5;241m=\u001b[39m \u001b[38;5;28mfloat\u001b[39m(max_norm)\n\u001b[1;32m     41\u001b[0m norm_type \u001b[38;5;241m=\u001b[39m \u001b[38;5;28mfloat\u001b[39m(norm_type)\n",
      "File \u001b[0;32m/opt/conda/lib/python3.10/site-packages/torch/nn/modules/module.py:2192\u001b[0m, in \u001b[0;36mModule.parameters\u001b[0;34m(self, recurse)\u001b[0m\n\u001b[1;32m   2170\u001b[0m \u001b[38;5;28;01mdef\u001b[39;00m \u001b[38;5;21mparameters\u001b[39m(\u001b[38;5;28mself\u001b[39m, recurse: \u001b[38;5;28mbool\u001b[39m \u001b[38;5;241m=\u001b[39m \u001b[38;5;28;01mTrue\u001b[39;00m) \u001b[38;5;241m-\u001b[39m\u001b[38;5;241m>\u001b[39m Iterator[Parameter]:\n\u001b[1;32m   2171\u001b[0m \u001b[38;5;250m    \u001b[39m\u001b[38;5;124mr\u001b[39m\u001b[38;5;124;03m\"\"\"Returns an iterator over module parameters.\u001b[39;00m\n\u001b[1;32m   2172\u001b[0m \n\u001b[1;32m   2173\u001b[0m \u001b[38;5;124;03m    This is typically passed to an optimizer.\u001b[39;00m\n\u001b[0;32m   (...)\u001b[0m\n\u001b[1;32m   2190\u001b[0m \n\u001b[1;32m   2191\u001b[0m \u001b[38;5;124;03m    \"\"\"\u001b[39;00m\n\u001b[0;32m-> 2192\u001b[0m     \u001b[38;5;28;01mfor\u001b[39;00m name, param \u001b[38;5;129;01min\u001b[39;00m \u001b[38;5;28mself\u001b[39m\u001b[38;5;241m.\u001b[39mnamed_parameters(recurse\u001b[38;5;241m=\u001b[39mrecurse):\n\u001b[1;32m   2193\u001b[0m         \u001b[38;5;28;01myield\u001b[39;00m param\n",
      "File \u001b[0;32m/opt/conda/lib/python3.10/site-packages/torch/nn/modules/module.py:2226\u001b[0m, in \u001b[0;36mModule.named_parameters\u001b[0;34m(self, prefix, recurse, remove_duplicate)\u001b[0m\n\u001b[1;32m   2201\u001b[0m \u001b[38;5;250m\u001b[39m\u001b[38;5;124mr\u001b[39m\u001b[38;5;124;03m\"\"\"Returns an iterator over module parameters, yielding both the\u001b[39;00m\n\u001b[1;32m   2202\u001b[0m \u001b[38;5;124;03mname of the parameter as well as the parameter itself.\u001b[39;00m\n\u001b[1;32m   2203\u001b[0m \n\u001b[0;32m   (...)\u001b[0m\n\u001b[1;32m   2221\u001b[0m \n\u001b[1;32m   2222\u001b[0m \u001b[38;5;124;03m\"\"\"\u001b[39;00m\n\u001b[1;32m   2223\u001b[0m gen \u001b[38;5;241m=\u001b[39m \u001b[38;5;28mself\u001b[39m\u001b[38;5;241m.\u001b[39m_named_members(\n\u001b[1;32m   2224\u001b[0m     \u001b[38;5;28;01mlambda\u001b[39;00m module: module\u001b[38;5;241m.\u001b[39m_parameters\u001b[38;5;241m.\u001b[39mitems(),\n\u001b[1;32m   2225\u001b[0m     prefix\u001b[38;5;241m=\u001b[39mprefix, recurse\u001b[38;5;241m=\u001b[39mrecurse, remove_duplicate\u001b[38;5;241m=\u001b[39mremove_duplicate)\n\u001b[0;32m-> 2226\u001b[0m \u001b[38;5;28;01myield from\u001b[39;00m gen\n",
      "File \u001b[0;32m/opt/conda/lib/python3.10/site-packages/torch/nn/modules/module.py:2160\u001b[0m, in \u001b[0;36mModule._named_members\u001b[0;34m(self, get_members_fn, prefix, recurse, remove_duplicate)\u001b[0m\n\u001b[1;32m   2158\u001b[0m memo \u001b[38;5;241m=\u001b[39m \u001b[38;5;28mset\u001b[39m()\n\u001b[1;32m   2159\u001b[0m modules \u001b[38;5;241m=\u001b[39m \u001b[38;5;28mself\u001b[39m\u001b[38;5;241m.\u001b[39mnamed_modules(prefix\u001b[38;5;241m=\u001b[39mprefix, remove_duplicate\u001b[38;5;241m=\u001b[39mremove_duplicate) \u001b[38;5;28;01mif\u001b[39;00m recurse \u001b[38;5;28;01melse\u001b[39;00m [(prefix, \u001b[38;5;28mself\u001b[39m)]\n\u001b[0;32m-> 2160\u001b[0m \u001b[38;5;28;01mfor\u001b[39;00m module_prefix, module \u001b[38;5;129;01min\u001b[39;00m modules:\n\u001b[1;32m   2161\u001b[0m     members \u001b[38;5;241m=\u001b[39m get_members_fn(module)\n\u001b[1;32m   2162\u001b[0m     \u001b[38;5;28;01mfor\u001b[39;00m k, v \u001b[38;5;129;01min\u001b[39;00m members:\n",
      "File \u001b[0;32m/opt/conda/lib/python3.10/site-packages/torch/nn/modules/module.py:2377\u001b[0m, in \u001b[0;36mModule.named_modules\u001b[0;34m(self, memo, prefix, remove_duplicate)\u001b[0m\n\u001b[1;32m   2375\u001b[0m     \u001b[38;5;28;01mcontinue\u001b[39;00m\n\u001b[1;32m   2376\u001b[0m submodule_prefix \u001b[38;5;241m=\u001b[39m prefix \u001b[38;5;241m+\u001b[39m (\u001b[38;5;124m'\u001b[39m\u001b[38;5;124m.\u001b[39m\u001b[38;5;124m'\u001b[39m \u001b[38;5;28;01mif\u001b[39;00m prefix \u001b[38;5;28;01melse\u001b[39;00m \u001b[38;5;124m'\u001b[39m\u001b[38;5;124m'\u001b[39m) \u001b[38;5;241m+\u001b[39m name\n\u001b[0;32m-> 2377\u001b[0m \u001b[38;5;28;01myield from\u001b[39;00m module\u001b[38;5;241m.\u001b[39mnamed_modules(memo, submodule_prefix, remove_duplicate)\n",
      "File \u001b[0;32m/opt/conda/lib/python3.10/site-packages/torch/nn/modules/module.py:2377\u001b[0m, in \u001b[0;36mModule.named_modules\u001b[0;34m(self, memo, prefix, remove_duplicate)\u001b[0m\n\u001b[1;32m   2375\u001b[0m     \u001b[38;5;28;01mcontinue\u001b[39;00m\n\u001b[1;32m   2376\u001b[0m submodule_prefix \u001b[38;5;241m=\u001b[39m prefix \u001b[38;5;241m+\u001b[39m (\u001b[38;5;124m'\u001b[39m\u001b[38;5;124m.\u001b[39m\u001b[38;5;124m'\u001b[39m \u001b[38;5;28;01mif\u001b[39;00m prefix \u001b[38;5;28;01melse\u001b[39;00m \u001b[38;5;124m'\u001b[39m\u001b[38;5;124m'\u001b[39m) \u001b[38;5;241m+\u001b[39m name\n\u001b[0;32m-> 2377\u001b[0m \u001b[38;5;28;01myield from\u001b[39;00m module\u001b[38;5;241m.\u001b[39mnamed_modules(memo, submodule_prefix, remove_duplicate)\n",
      "    \u001b[0;31m[... skipping similar frames: Module.named_modules at line 2377 (1 times)]\u001b[0m\n",
      "File \u001b[0;32m/opt/conda/lib/python3.10/site-packages/torch/nn/modules/module.py:2377\u001b[0m, in \u001b[0;36mModule.named_modules\u001b[0;34m(self, memo, prefix, remove_duplicate)\u001b[0m\n\u001b[1;32m   2375\u001b[0m     \u001b[38;5;28;01mcontinue\u001b[39;00m\n\u001b[1;32m   2376\u001b[0m submodule_prefix \u001b[38;5;241m=\u001b[39m prefix \u001b[38;5;241m+\u001b[39m (\u001b[38;5;124m'\u001b[39m\u001b[38;5;124m.\u001b[39m\u001b[38;5;124m'\u001b[39m \u001b[38;5;28;01mif\u001b[39;00m prefix \u001b[38;5;28;01melse\u001b[39;00m \u001b[38;5;124m'\u001b[39m\u001b[38;5;124m'\u001b[39m) \u001b[38;5;241m+\u001b[39m name\n\u001b[0;32m-> 2377\u001b[0m \u001b[38;5;28;01myield from\u001b[39;00m module\u001b[38;5;241m.\u001b[39mnamed_modules(memo, submodule_prefix, remove_duplicate)\n",
      "File \u001b[0;32m/opt/conda/lib/python3.10/site-packages/torch/nn/modules/module.py:2371\u001b[0m, in \u001b[0;36mModule.named_modules\u001b[0;34m(self, memo, prefix, remove_duplicate)\u001b[0m\n\u001b[1;32m   2369\u001b[0m \u001b[38;5;28;01mif\u001b[39;00m \u001b[38;5;28mself\u001b[39m \u001b[38;5;129;01mnot\u001b[39;00m \u001b[38;5;129;01min\u001b[39;00m memo:\n\u001b[1;32m   2370\u001b[0m     \u001b[38;5;28;01mif\u001b[39;00m remove_duplicate:\n\u001b[0;32m-> 2371\u001b[0m         \u001b[43mmemo\u001b[49m\u001b[38;5;241;43m.\u001b[39;49m\u001b[43madd\u001b[49m\u001b[43m(\u001b[49m\u001b[38;5;28;43mself\u001b[39;49m\u001b[43m)\u001b[49m\n\u001b[1;32m   2372\u001b[0m     \u001b[38;5;28;01myield\u001b[39;00m prefix, \u001b[38;5;28mself\u001b[39m\n\u001b[1;32m   2373\u001b[0m     \u001b[38;5;28;01mfor\u001b[39;00m name, module \u001b[38;5;129;01min\u001b[39;00m \u001b[38;5;28mself\u001b[39m\u001b[38;5;241m.\u001b[39m_modules\u001b[38;5;241m.\u001b[39mitems():\n",
      "\u001b[0;31mKeyboardInterrupt\u001b[0m: "
     ]
    },
    {
     "name": "stderr",
     "output_type": "stream",
     "text": [
      "socket.send() raised exception.\n",
      "socket.send() raised exception.\n",
      "socket.send() raised exception.\n"
     ]
    },
    {
     "name": "stderr",
     "output_type": "stream",
     "text": [
      "socket.send() raised exception.\n",
      "socket.send() raised exception.\n",
      "socket.send() raised exception.\n",
      "socket.send() raised exception.\n",
      "socket.send() raised exception.\n",
      "socket.send() raised exception.\n",
      "socket.send() raised exception.\n",
      "socket.send() raised exception.\n",
      "socket.send() raised exception.\n",
      "socket.send() raised exception.\n",
      "socket.send() raised exception.\n",
      "socket.send() raised exception.\n",
      "socket.send() raised exception.\n",
      "socket.send() raised exception.\n",
      "socket.send() raised exception.\n",
      "socket.send() raised exception.\n",
      "socket.send() raised exception.\n",
      "socket.send() raised exception.\n",
      "socket.send() raised exception.\n",
      "socket.send() raised exception.\n",
      "socket.send() raised exception.\n",
      "socket.send() raised exception.\n",
      "socket.send() raised exception.\n",
      "socket.send() raised exception.\n",
      "socket.send() raised exception.\n",
      "socket.send() raised exception.\n",
      "socket.send() raised exception.\n",
      "socket.send() raised exception.\n",
      "socket.send() raised exception.\n",
      "socket.send() raised exception.\n",
      "socket.send() raised exception.\n",
      "socket.send() raised exception.\n",
      "socket.send() raised exception.\n",
      "socket.send() raised exception.\n",
      "socket.send() raised exception.\n",
      "socket.send() raised exception.\n",
      "socket.send() raised exception.\n",
      "socket.send() raised exception.\n",
      "socket.send() raised exception.\n",
      "socket.send() raised exception.\n",
      "socket.send() raised exception.\n",
      "socket.send() raised exception.\n",
      "socket.send() raised exception.\n",
      "socket.send() raised exception.\n",
      "socket.send() raised exception.\n",
      "socket.send() raised exception.\n",
      "socket.send() raised exception.\n",
      "socket.send() raised exception.\n",
      "socket.send() raised exception.\n",
      "socket.send() raised exception.\n",
      "socket.send() raised exception.\n",
      "socket.send() raised exception.\n",
      "socket.send() raised exception.\n",
      "socket.send() raised exception.\n",
      "socket.send() raised exception.\n",
      "socket.send() raised exception.\n",
      "socket.send() raised exception.\n",
      "socket.send() raised exception.\n",
      "socket.send() raised exception.\n",
      "socket.send() raised exception.\n",
      "socket.send() raised exception.\n",
      "socket.send() raised exception.\n",
      "socket.send() raised exception.\n",
      "socket.send() raised exception.\n",
      "socket.send() raised exception.\n",
      "socket.send() raised exception.\n",
      "socket.send() raised exception.\n",
      "socket.send() raised exception.\n",
      "socket.send() raised exception.\n",
      "socket.send() raised exception.\n",
      "socket.send() raised exception.\n",
      "socket.send() raised exception.\n",
      "socket.send() raised exception.\n",
      "socket.send() raised exception.\n",
      "socket.send() raised exception.\n",
      "socket.send() raised exception.\n",
      "socket.send() raised exception.\n",
      "socket.send() raised exception.\n",
      "socket.send() raised exception.\n",
      "socket.send() raised exception.\n",
      "socket.send() raised exception.\n",
      "socket.send() raised exception.\n",
      "socket.send() raised exception.\n",
      "socket.send() raised exception.\n",
      "socket.send() raised exception.\n",
      "socket.send() raised exception.\n",
      "socket.send() raised exception.\n",
      "socket.send() raised exception.\n",
      "socket.send() raised exception.\n",
      "socket.send() raised exception.\n",
      "socket.send() raised exception.\n",
      "socket.send() raised exception.\n",
      "socket.send() raised exception.\n",
      "socket.send() raised exception.\n",
      "socket.send() raised exception.\n",
      "socket.send() raised exception.\n",
      "socket.send() raised exception.\n",
      "socket.send() raised exception.\n",
      "socket.send() raised exception.\n",
      "socket.send() raised exception.\n",
      "socket.send() raised exception.\n",
      "socket.send() raised exception.\n",
      "socket.send() raised exception.\n",
      "socket.send() raised exception.\n",
      "socket.send() raised exception.\n",
      "socket.send() raised exception.\n",
      "socket.send() raised exception.\n",
      "socket.send() raised exception.\n",
      "socket.send() raised exception.\n",
      "socket.send() raised exception.\n",
      "socket.send() raised exception.\n",
      "socket.send() raised exception.\n",
      "socket.send() raised exception.\n",
      "socket.send() raised exception.\n",
      "socket.send() raised exception.\n",
      "socket.send() raised exception.\n",
      "socket.send() raised exception.\n",
      "socket.send() raised exception.\n",
      "socket.send() raised exception.\n",
      "socket.send() raised exception.\n",
      "socket.send() raised exception.\n",
      "socket.send() raised exception.\n",
      "socket.send() raised exception.\n",
      "socket.send() raised exception.\n",
      "socket.send() raised exception.\n",
      "socket.send() raised exception.\n",
      "socket.send() raised exception.\n",
      "socket.send() raised exception.\n",
      "socket.send() raised exception.\n",
      "socket.send() raised exception.\n",
      "socket.send() raised exception.\n",
      "socket.send() raised exception.\n",
      "socket.send() raised exception.\n",
      "socket.send() raised exception.\n",
      "socket.send() raised exception.\n",
      "socket.send() raised exception.\n",
      "socket.send() raised exception.\n",
      "socket.send() raised exception.\n",
      "socket.send() raised exception.\n",
      "socket.send() raised exception.\n",
      "socket.send() raised exception.\n",
      "socket.send() raised exception.\n",
      "socket.send() raised exception.\n",
      "socket.send() raised exception.\n",
      "socket.send() raised exception.\n",
      "socket.send() raised exception.\n",
      "socket.send() raised exception.\n",
      "socket.send() raised exception.\n",
      "socket.send() raised exception.\n",
      "socket.send() raised exception.\n",
      "socket.send() raised exception.\n",
      "socket.send() raised exception.\n",
      "socket.send() raised exception.\n",
      "socket.send() raised exception.\n",
      "socket.send() raised exception.\n",
      "socket.send() raised exception.\n",
      "socket.send() raised exception.\n",
      "socket.send() raised exception.\n",
      "socket.send() raised exception.\n",
      "socket.send() raised exception.\n",
      "socket.send() raised exception.\n",
      "socket.send() raised exception.\n",
      "socket.send() raised exception.\n",
      "socket.send() raised exception.\n",
      "socket.send() raised exception.\n",
      "socket.send() raised exception.\n",
      "socket.send() raised exception.\n",
      "socket.send() raised exception.\n",
      "socket.send() raised exception.\n",
      "socket.send() raised exception.\n",
      "socket.send() raised exception.\n",
      "socket.send() raised exception.\n",
      "socket.send() raised exception.\n",
      "socket.send() raised exception.\n",
      "socket.send() raised exception.\n",
      "socket.send() raised exception.\n",
      "socket.send() raised exception.\n",
      "socket.send() raised exception.\n",
      "socket.send() raised exception.\n",
      "socket.send() raised exception.\n",
      "socket.send() raised exception.\n",
      "socket.send() raised exception.\n",
      "socket.send() raised exception.\n",
      "socket.send() raised exception.\n",
      "socket.send() raised exception.\n",
      "socket.send() raised exception.\n",
      "socket.send() raised exception.\n",
      "socket.send() raised exception.\n",
      "socket.send() raised exception.\n",
      "socket.send() raised exception.\n",
      "socket.send() raised exception.\n",
      "socket.send() raised exception.\n",
      "socket.send() raised exception.\n",
      "socket.send() raised exception.\n",
      "socket.send() raised exception.\n",
      "socket.send() raised exception.\n",
      "socket.send() raised exception.\n",
      "socket.send() raised exception.\n",
      "socket.send() raised exception.\n",
      "socket.send() raised exception.\n",
      "socket.send() raised exception.\n",
      "socket.send() raised exception.\n",
      "socket.send() raised exception.\n",
      "socket.send() raised exception.\n",
      "socket.send() raised exception.\n",
      "socket.send() raised exception.\n",
      "socket.send() raised exception.\n",
      "socket.send() raised exception.\n",
      "socket.send() raised exception.\n",
      "socket.send() raised exception.\n",
      "socket.send() raised exception.\n",
      "socket.send() raised exception.\n",
      "socket.send() raised exception.\n",
      "socket.send() raised exception.\n",
      "socket.send() raised exception.\n",
      "socket.send() raised exception.\n",
      "socket.send() raised exception.\n",
      "socket.send() raised exception.\n",
      "socket.send() raised exception.\n",
      "socket.send() raised exception.\n",
      "socket.send() raised exception.\n",
      "socket.send() raised exception.\n",
      "socket.send() raised exception.\n",
      "socket.send() raised exception.\n",
      "socket.send() raised exception.\n",
      "socket.send() raised exception.\n",
      "socket.send() raised exception.\n",
      "socket.send() raised exception.\n",
      "socket.send() raised exception.\n",
      "socket.send() raised exception.\n",
      "socket.send() raised exception.\n",
      "socket.send() raised exception.\n",
      "socket.send() raised exception.\n",
      "socket.send() raised exception.\n",
      "socket.send() raised exception.\n",
      "socket.send() raised exception.\n",
      "socket.send() raised exception.\n",
      "socket.send() raised exception.\n",
      "socket.send() raised exception.\n",
      "socket.send() raised exception.\n",
      "socket.send() raised exception.\n",
      "socket.send() raised exception.\n",
      "socket.send() raised exception.\n",
      "socket.send() raised exception.\n",
      "socket.send() raised exception.\n",
      "socket.send() raised exception.\n",
      "socket.send() raised exception.\n",
      "socket.send() raised exception.\n",
      "socket.send() raised exception.\n",
      "socket.send() raised exception.\n",
      "socket.send() raised exception.\n",
      "socket.send() raised exception.\n",
      "socket.send() raised exception.\n",
      "socket.send() raised exception.\n",
      "socket.send() raised exception.\n",
      "socket.send() raised exception.\n",
      "socket.send() raised exception.\n",
      "socket.send() raised exception.\n",
      "socket.send() raised exception.\n",
      "socket.send() raised exception.\n",
      "socket.send() raised exception.\n",
      "socket.send() raised exception.\n",
      "socket.send() raised exception.\n",
      "socket.send() raised exception.\n",
      "socket.send() raised exception.\n",
      "socket.send() raised exception.\n",
      "socket.send() raised exception.\n",
      "socket.send() raised exception.\n",
      "socket.send() raised exception.\n",
      "socket.send() raised exception.\n",
      "socket.send() raised exception.\n",
      "socket.send() raised exception.\n",
      "socket.send() raised exception.\n",
      "socket.send() raised exception.\n",
      "socket.send() raised exception.\n",
      "socket.send() raised exception.\n",
      "socket.send() raised exception.\n",
      "socket.send() raised exception.\n",
      "socket.send() raised exception.\n",
      "socket.send() raised exception.\n",
      "socket.send() raised exception.\n",
      "socket.send() raised exception.\n",
      "socket.send() raised exception.\n",
      "socket.send() raised exception.\n",
      "socket.send() raised exception.\n",
      "socket.send() raised exception.\n",
      "socket.send() raised exception.\n",
      "socket.send() raised exception.\n",
      "socket.send() raised exception.\n",
      "socket.send() raised exception.\n",
      "socket.send() raised exception.\n",
      "socket.send() raised exception.\n",
      "socket.send() raised exception.\n",
      "socket.send() raised exception.\n",
      "socket.send() raised exception.\n",
      "socket.send() raised exception.\n",
      "socket.send() raised exception.\n",
      "socket.send() raised exception.\n",
      "socket.send() raised exception.\n",
      "socket.send() raised exception.\n",
      "socket.send() raised exception.\n",
      "socket.send() raised exception.\n",
      "socket.send() raised exception.\n",
      "socket.send() raised exception.\n",
      "socket.send() raised exception.\n",
      "socket.send() raised exception.\n",
      "socket.send() raised exception.\n",
      "socket.send() raised exception.\n",
      "socket.send() raised exception.\n",
      "socket.send() raised exception.\n",
      "socket.send() raised exception.\n",
      "socket.send() raised exception.\n",
      "socket.send() raised exception.\n",
      "socket.send() raised exception.\n",
      "socket.send() raised exception.\n",
      "socket.send() raised exception.\n",
      "socket.send() raised exception.\n",
      "socket.send() raised exception.\n",
      "socket.send() raised exception.\n",
      "socket.send() raised exception.\n",
      "socket.send() raised exception.\n",
      "socket.send() raised exception.\n",
      "socket.send() raised exception.\n",
      "socket.send() raised exception.\n",
      "socket.send() raised exception.\n",
      "socket.send() raised exception.\n",
      "socket.send() raised exception.\n",
      "socket.send() raised exception.\n",
      "socket.send() raised exception.\n",
      "socket.send() raised exception.\n",
      "socket.send() raised exception.\n",
      "socket.send() raised exception.\n",
      "socket.send() raised exception.\n",
      "socket.send() raised exception.\n",
      "socket.send() raised exception.\n",
      "socket.send() raised exception.\n",
      "socket.send() raised exception.\n",
      "socket.send() raised exception.\n",
      "socket.send() raised exception.\n",
      "socket.send() raised exception.\n",
      "socket.send() raised exception.\n",
      "socket.send() raised exception.\n",
      "socket.send() raised exception.\n",
      "socket.send() raised exception.\n",
      "socket.send() raised exception.\n",
      "socket.send() raised exception.\n",
      "socket.send() raised exception.\n",
      "socket.send() raised exception.\n",
      "socket.send() raised exception.\n",
      "socket.send() raised exception.\n",
      "socket.send() raised exception.\n",
      "socket.send() raised exception.\n",
      "socket.send() raised exception.\n",
      "socket.send() raised exception.\n",
      "socket.send() raised exception.\n",
      "socket.send() raised exception.\n",
      "socket.send() raised exception.\n",
      "socket.send() raised exception.\n",
      "socket.send() raised exception.\n",
      "socket.send() raised exception.\n",
      "socket.send() raised exception.\n",
      "socket.send() raised exception.\n",
      "socket.send() raised exception.\n",
      "socket.send() raised exception.\n",
      "socket.send() raised exception.\n",
      "socket.send() raised exception.\n",
      "socket.send() raised exception.\n",
      "socket.send() raised exception.\n",
      "socket.send() raised exception.\n",
      "socket.send() raised exception.\n",
      "socket.send() raised exception.\n",
      "socket.send() raised exception.\n",
      "socket.send() raised exception.\n",
      "socket.send() raised exception.\n",
      "socket.send() raised exception.\n",
      "socket.send() raised exception.\n",
      "socket.send() raised exception.\n",
      "socket.send() raised exception.\n",
      "socket.send() raised exception.\n",
      "socket.send() raised exception.\n",
      "socket.send() raised exception.\n",
      "socket.send() raised exception.\n",
      "socket.send() raised exception.\n",
      "socket.send() raised exception.\n",
      "socket.send() raised exception.\n",
      "socket.send() raised exception.\n",
      "socket.send() raised exception.\n",
      "socket.send() raised exception.\n",
      "socket.send() raised exception.\n",
      "socket.send() raised exception.\n",
      "socket.send() raised exception.\n",
      "socket.send() raised exception.\n",
      "socket.send() raised exception.\n",
      "socket.send() raised exception.\n",
      "socket.send() raised exception.\n",
      "socket.send() raised exception.\n",
      "socket.send() raised exception.\n",
      "socket.send() raised exception.\n",
      "socket.send() raised exception.\n",
      "socket.send() raised exception.\n",
      "socket.send() raised exception.\n",
      "socket.send() raised exception.\n",
      "socket.send() raised exception.\n",
      "socket.send() raised exception.\n",
      "socket.send() raised exception.\n",
      "socket.send() raised exception.\n",
      "socket.send() raised exception.\n",
      "socket.send() raised exception.\n",
      "socket.send() raised exception.\n",
      "socket.send() raised exception.\n",
      "socket.send() raised exception.\n",
      "socket.send() raised exception.\n",
      "socket.send() raised exception.\n",
      "socket.send() raised exception.\n",
      "socket.send() raised exception.\n",
      "socket.send() raised exception.\n",
      "socket.send() raised exception.\n",
      "socket.send() raised exception.\n",
      "socket.send() raised exception.\n",
      "socket.send() raised exception.\n",
      "socket.send() raised exception.\n",
      "socket.send() raised exception.\n",
      "socket.send() raised exception.\n",
      "socket.send() raised exception.\n",
      "socket.send() raised exception.\n",
      "socket.send() raised exception.\n",
      "socket.send() raised exception.\n",
      "socket.send() raised exception.\n",
      "socket.send() raised exception.\n",
      "socket.send() raised exception.\n",
      "socket.send() raised exception.\n",
      "socket.send() raised exception.\n",
      "socket.send() raised exception.\n",
      "socket.send() raised exception.\n",
      "socket.send() raised exception.\n",
      "socket.send() raised exception.\n",
      "socket.send() raised exception.\n",
      "socket.send() raised exception.\n",
      "socket.send() raised exception.\n",
      "socket.send() raised exception.\n",
      "socket.send() raised exception.\n",
      "socket.send() raised exception.\n",
      "socket.send() raised exception.\n",
      "socket.send() raised exception.\n",
      "socket.send() raised exception.\n",
      "socket.send() raised exception.\n",
      "socket.send() raised exception.\n",
      "socket.send() raised exception.\n",
      "socket.send() raised exception.\n",
      "socket.send() raised exception.\n",
      "socket.send() raised exception.\n",
      "socket.send() raised exception.\n",
      "socket.send() raised exception.\n",
      "socket.send() raised exception.\n",
      "socket.send() raised exception.\n",
      "socket.send() raised exception.\n",
      "socket.send() raised exception.\n",
      "socket.send() raised exception.\n",
      "socket.send() raised exception.\n",
      "socket.send() raised exception.\n",
      "socket.send() raised exception.\n",
      "socket.send() raised exception.\n",
      "socket.send() raised exception.\n",
      "socket.send() raised exception.\n",
      "socket.send() raised exception.\n",
      "socket.send() raised exception.\n",
      "socket.send() raised exception.\n",
      "socket.send() raised exception.\n",
      "socket.send() raised exception.\n",
      "socket.send() raised exception.\n",
      "socket.send() raised exception.\n",
      "socket.send() raised exception.\n",
      "socket.send() raised exception.\n",
      "socket.send() raised exception.\n",
      "socket.send() raised exception.\n",
      "socket.send() raised exception.\n",
      "socket.send() raised exception.\n",
      "socket.send() raised exception.\n",
      "socket.send() raised exception.\n",
      "socket.send() raised exception.\n",
      "socket.send() raised exception.\n",
      "socket.send() raised exception.\n",
      "socket.send() raised exception.\n",
      "socket.send() raised exception.\n",
      "socket.send() raised exception.\n",
      "socket.send() raised exception.\n",
      "socket.send() raised exception.\n",
      "socket.send() raised exception.\n",
      "socket.send() raised exception.\n",
      "socket.send() raised exception.\n",
      "socket.send() raised exception.\n",
      "socket.send() raised exception.\n",
      "socket.send() raised exception.\n",
      "socket.send() raised exception.\n",
      "socket.send() raised exception.\n",
      "socket.send() raised exception.\n",
      "socket.send() raised exception.\n",
      "socket.send() raised exception.\n",
      "socket.send() raised exception.\n",
      "socket.send() raised exception.\n",
      "socket.send() raised exception.\n",
      "socket.send() raised exception.\n",
      "socket.send() raised exception.\n",
      "socket.send() raised exception.\n",
      "socket.send() raised exception.\n",
      "socket.send() raised exception.\n",
      "socket.send() raised exception.\n",
      "socket.send() raised exception.\n",
      "socket.send() raised exception.\n",
      "socket.send() raised exception.\n",
      "socket.send() raised exception.\n",
      "socket.send() raised exception.\n",
      "socket.send() raised exception.\n",
      "socket.send() raised exception.\n",
      "socket.send() raised exception.\n",
      "socket.send() raised exception.\n",
      "socket.send() raised exception.\n",
      "socket.send() raised exception.\n",
      "socket.send() raised exception.\n",
      "socket.send() raised exception.\n",
      "socket.send() raised exception.\n",
      "socket.send() raised exception.\n",
      "socket.send() raised exception.\n",
      "socket.send() raised exception.\n",
      "socket.send() raised exception.\n",
      "socket.send() raised exception.\n",
      "socket.send() raised exception.\n",
      "socket.send() raised exception.\n",
      "socket.send() raised exception.\n",
      "socket.send() raised exception.\n",
      "socket.send() raised exception.\n",
      "socket.send() raised exception.\n",
      "socket.send() raised exception.\n",
      "socket.send() raised exception.\n",
      "socket.send() raised exception.\n",
      "socket.send() raised exception.\n",
      "socket.send() raised exception.\n",
      "socket.send() raised exception.\n",
      "socket.send() raised exception.\n",
      "socket.send() raised exception.\n",
      "socket.send() raised exception.\n",
      "socket.send() raised exception.\n",
      "socket.send() raised exception.\n",
      "socket.send() raised exception.\n",
      "socket.send() raised exception.\n",
      "socket.send() raised exception.\n",
      "socket.send() raised exception.\n",
      "socket.send() raised exception.\n",
      "socket.send() raised exception.\n",
      "socket.send() raised exception.\n",
      "socket.send() raised exception.\n",
      "socket.send() raised exception.\n",
      "socket.send() raised exception.\n",
      "socket.send() raised exception.\n",
      "socket.send() raised exception.\n",
      "socket.send() raised exception.\n",
      "socket.send() raised exception.\n",
      "socket.send() raised exception.\n",
      "socket.send() raised exception.\n",
      "socket.send() raised exception.\n",
      "socket.send() raised exception.\n",
      "socket.send() raised exception.\n",
      "socket.send() raised exception.\n",
      "socket.send() raised exception.\n",
      "socket.send() raised exception.\n",
      "socket.send() raised exception.\n",
      "socket.send() raised exception.\n",
      "socket.send() raised exception.\n",
      "socket.send() raised exception.\n",
      "socket.send() raised exception.\n",
      "socket.send() raised exception.\n",
      "socket.send() raised exception.\n",
      "socket.send() raised exception.\n",
      "socket.send() raised exception.\n",
      "socket.send() raised exception.\n",
      "socket.send() raised exception.\n",
      "socket.send() raised exception.\n",
      "socket.send() raised exception.\n",
      "socket.send() raised exception.\n",
      "socket.send() raised exception.\n",
      "socket.send() raised exception.\n",
      "socket.send() raised exception.\n",
      "socket.send() raised exception.\n",
      "socket.send() raised exception.\n",
      "socket.send() raised exception.\n",
      "socket.send() raised exception.\n",
      "socket.send() raised exception.\n",
      "socket.send() raised exception.\n",
      "socket.send() raised exception.\n",
      "socket.send() raised exception.\n",
      "socket.send() raised exception.\n",
      "socket.send() raised exception.\n",
      "socket.send() raised exception.\n",
      "socket.send() raised exception.\n",
      "socket.send() raised exception.\n",
      "socket.send() raised exception.\n",
      "socket.send() raised exception.\n",
      "socket.send() raised exception.\n",
      "socket.send() raised exception.\n",
      "socket.send() raised exception.\n",
      "socket.send() raised exception.\n",
      "socket.send() raised exception.\n",
      "socket.send() raised exception.\n",
      "socket.send() raised exception.\n",
      "socket.send() raised exception.\n",
      "socket.send() raised exception.\n",
      "socket.send() raised exception.\n",
      "socket.send() raised exception.\n",
      "socket.send() raised exception.\n",
      "socket.send() raised exception.\n",
      "socket.send() raised exception.\n",
      "socket.send() raised exception.\n",
      "socket.send() raised exception.\n",
      "socket.send() raised exception.\n",
      "socket.send() raised exception.\n",
      "socket.send() raised exception.\n",
      "socket.send() raised exception.\n",
      "socket.send() raised exception.\n",
      "socket.send() raised exception.\n",
      "socket.send() raised exception.\n",
      "socket.send() raised exception.\n",
      "socket.send() raised exception.\n",
      "socket.send() raised exception.\n",
      "socket.send() raised exception.\n",
      "socket.send() raised exception.\n",
      "socket.send() raised exception.\n",
      "socket.send() raised exception.\n",
      "socket.send() raised exception.\n",
      "socket.send() raised exception.\n",
      "socket.send() raised exception.\n",
      "socket.send() raised exception.\n",
      "socket.send() raised exception.\n",
      "socket.send() raised exception.\n",
      "socket.send() raised exception.\n",
      "socket.send() raised exception.\n",
      "socket.send() raised exception.\n",
      "socket.send() raised exception.\n",
      "socket.send() raised exception.\n",
      "socket.send() raised exception.\n",
      "socket.send() raised exception.\n",
      "socket.send() raised exception.\n",
      "socket.send() raised exception.\n",
      "socket.send() raised exception.\n",
      "socket.send() raised exception.\n",
      "socket.send() raised exception.\n",
      "socket.send() raised exception.\n",
      "socket.send() raised exception.\n",
      "socket.send() raised exception.\n",
      "socket.send() raised exception.\n",
      "socket.send() raised exception.\n",
      "socket.send() raised exception.\n",
      "socket.send() raised exception.\n",
      "socket.send() raised exception.\n",
      "socket.send() raised exception.\n",
      "socket.send() raised exception.\n",
      "socket.send() raised exception.\n",
      "socket.send() raised exception.\n",
      "socket.send() raised exception.\n",
      "socket.send() raised exception.\n",
      "socket.send() raised exception.\n",
      "socket.send() raised exception.\n",
      "socket.send() raised exception.\n",
      "socket.send() raised exception.\n",
      "socket.send() raised exception.\n",
      "socket.send() raised exception.\n",
      "socket.send() raised exception.\n",
      "socket.send() raised exception.\n",
      "socket.send() raised exception.\n",
      "socket.send() raised exception.\n",
      "socket.send() raised exception.\n",
      "socket.send() raised exception.\n",
      "socket.send() raised exception.\n",
      "socket.send() raised exception.\n",
      "socket.send() raised exception.\n",
      "socket.send() raised exception.\n",
      "socket.send() raised exception.\n",
      "socket.send() raised exception.\n",
      "socket.send() raised exception.\n",
      "socket.send() raised exception.\n",
      "socket.send() raised exception.\n",
      "socket.send() raised exception.\n",
      "socket.send() raised exception.\n",
      "socket.send() raised exception.\n",
      "socket.send() raised exception.\n",
      "socket.send() raised exception.\n",
      "socket.send() raised exception.\n",
      "socket.send() raised exception.\n",
      "socket.send() raised exception.\n",
      "socket.send() raised exception.\n",
      "socket.send() raised exception.\n",
      "socket.send() raised exception.\n",
      "socket.send() raised exception.\n",
      "socket.send() raised exception.\n",
      "socket.send() raised exception.\n",
      "socket.send() raised exception.\n",
      "socket.send() raised exception.\n",
      "socket.send() raised exception.\n",
      "socket.send() raised exception.\n",
      "socket.send() raised exception.\n",
      "socket.send() raised exception.\n",
      "socket.send() raised exception.\n",
      "socket.send() raised exception.\n",
      "socket.send() raised exception.\n",
      "socket.send() raised exception.\n",
      "socket.send() raised exception.\n",
      "socket.send() raised exception.\n",
      "socket.send() raised exception.\n",
      "socket.send() raised exception.\n",
      "socket.send() raised exception.\n",
      "socket.send() raised exception.\n",
      "socket.send() raised exception.\n",
      "socket.send() raised exception.\n",
      "socket.send() raised exception.\n",
      "socket.send() raised exception.\n",
      "socket.send() raised exception.\n",
      "socket.send() raised exception.\n",
      "socket.send() raised exception.\n",
      "socket.send() raised exception.\n",
      "socket.send() raised exception.\n",
      "socket.send() raised exception.\n",
      "socket.send() raised exception.\n",
      "socket.send() raised exception.\n",
      "socket.send() raised exception.\n",
      "socket.send() raised exception.\n",
      "socket.send() raised exception.\n",
      "socket.send() raised exception.\n",
      "socket.send() raised exception.\n",
      "socket.send() raised exception.\n",
      "socket.send() raised exception.\n",
      "socket.send() raised exception.\n",
      "socket.send() raised exception.\n",
      "socket.send() raised exception.\n",
      "socket.send() raised exception.\n",
      "socket.send() raised exception.\n",
      "socket.send() raised exception.\n",
      "socket.send() raised exception.\n",
      "socket.send() raised exception.\n",
      "socket.send() raised exception.\n",
      "socket.send() raised exception.\n",
      "socket.send() raised exception.\n",
      "socket.send() raised exception.\n",
      "socket.send() raised exception.\n",
      "socket.send() raised exception.\n",
      "socket.send() raised exception.\n",
      "socket.send() raised exception.\n",
      "socket.send() raised exception.\n",
      "socket.send() raised exception.\n",
      "socket.send() raised exception.\n",
      "socket.send() raised exception.\n",
      "socket.send() raised exception.\n",
      "socket.send() raised exception.\n",
      "socket.send() raised exception.\n",
      "socket.send() raised exception.\n",
      "socket.send() raised exception.\n",
      "socket.send() raised exception.\n",
      "socket.send() raised exception.\n",
      "socket.send() raised exception.\n",
      "socket.send() raised exception.\n",
      "socket.send() raised exception.\n",
      "socket.send() raised exception.\n",
      "socket.send() raised exception.\n",
      "socket.send() raised exception.\n",
      "socket.send() raised exception.\n",
      "socket.send() raised exception.\n",
      "socket.send() raised exception.\n",
      "socket.send() raised exception.\n",
      "socket.send() raised exception.\n",
      "socket.send() raised exception.\n",
      "socket.send() raised exception.\n",
      "socket.send() raised exception.\n",
      "socket.send() raised exception.\n",
      "socket.send() raised exception.\n",
      "socket.send() raised exception.\n",
      "socket.send() raised exception.\n",
      "socket.send() raised exception.\n",
      "socket.send() raised exception.\n",
      "socket.send() raised exception.\n",
      "socket.send() raised exception.\n",
      "socket.send() raised exception.\n",
      "socket.send() raised exception.\n",
      "socket.send() raised exception.\n",
      "socket.send() raised exception.\n",
      "socket.send() raised exception.\n",
      "socket.send() raised exception.\n",
      "socket.send() raised exception.\n",
      "socket.send() raised exception.\n",
      "socket.send() raised exception.\n",
      "socket.send() raised exception.\n",
      "socket.send() raised exception.\n",
      "socket.send() raised exception.\n",
      "socket.send() raised exception.\n",
      "socket.send() raised exception.\n",
      "socket.send() raised exception.\n",
      "socket.send() raised exception.\n",
      "socket.send() raised exception.\n",
      "socket.send() raised exception.\n",
      "socket.send() raised exception.\n",
      "socket.send() raised exception.\n",
      "socket.send() raised exception.\n",
      "socket.send() raised exception.\n",
      "socket.send() raised exception.\n",
      "socket.send() raised exception.\n",
      "socket.send() raised exception.\n",
      "socket.send() raised exception.\n",
      "socket.send() raised exception.\n",
      "socket.send() raised exception.\n",
      "socket.send() raised exception.\n",
      "socket.send() raised exception.\n",
      "socket.send() raised exception.\n",
      "socket.send() raised exception.\n",
      "socket.send() raised exception.\n",
      "socket.send() raised exception.\n",
      "socket.send() raised exception.\n",
      "socket.send() raised exception.\n",
      "socket.send() raised exception.\n",
      "socket.send() raised exception.\n",
      "socket.send() raised exception.\n",
      "socket.send() raised exception.\n",
      "socket.send() raised exception.\n",
      "socket.send() raised exception.\n",
      "socket.send() raised exception.\n",
      "socket.send() raised exception.\n",
      "socket.send() raised exception.\n",
      "socket.send() raised exception.\n",
      "socket.send() raised exception.\n",
      "socket.send() raised exception.\n",
      "socket.send() raised exception.\n",
      "socket.send() raised exception.\n",
      "socket.send() raised exception.\n",
      "socket.send() raised exception.\n",
      "socket.send() raised exception.\n",
      "socket.send() raised exception.\n",
      "socket.send() raised exception.\n",
      "socket.send() raised exception.\n",
      "socket.send() raised exception.\n",
      "socket.send() raised exception.\n",
      "socket.send() raised exception.\n",
      "socket.send() raised exception.\n",
      "socket.send() raised exception.\n",
      "socket.send() raised exception.\n",
      "socket.send() raised exception.\n",
      "socket.send() raised exception.\n",
      "socket.send() raised exception.\n",
      "socket.send() raised exception.\n",
      "socket.send() raised exception.\n",
      "socket.send() raised exception.\n",
      "socket.send() raised exception.\n",
      "socket.send() raised exception.\n",
      "socket.send() raised exception.\n",
      "socket.send() raised exception.\n",
      "socket.send() raised exception.\n",
      "socket.send() raised exception.\n",
      "socket.send() raised exception.\n",
      "socket.send() raised exception.\n",
      "socket.send() raised exception.\n",
      "socket.send() raised exception.\n",
      "socket.send() raised exception.\n",
      "socket.send() raised exception.\n",
      "socket.send() raised exception.\n",
      "socket.send() raised exception.\n",
      "socket.send() raised exception.\n",
      "socket.send() raised exception.\n",
      "socket.send() raised exception.\n",
      "socket.send() raised exception.\n",
      "socket.send() raised exception.\n",
      "socket.send() raised exception.\n",
      "socket.send() raised exception.\n",
      "socket.send() raised exception.\n",
      "socket.send() raised exception.\n",
      "socket.send() raised exception.\n",
      "socket.send() raised exception.\n",
      "socket.send() raised exception.\n",
      "socket.send() raised exception.\n",
      "socket.send() raised exception.\n",
      "socket.send() raised exception.\n",
      "socket.send() raised exception.\n",
      "socket.send() raised exception.\n",
      "socket.send() raised exception.\n",
      "socket.send() raised exception.\n",
      "socket.send() raised exception.\n",
      "socket.send() raised exception.\n",
      "socket.send() raised exception.\n",
      "socket.send() raised exception.\n",
      "socket.send() raised exception.\n",
      "socket.send() raised exception.\n",
      "socket.send() raised exception.\n",
      "socket.send() raised exception.\n",
      "socket.send() raised exception.\n",
      "socket.send() raised exception.\n",
      "socket.send() raised exception.\n",
      "socket.send() raised exception.\n",
      "socket.send() raised exception.\n",
      "socket.send() raised exception.\n",
      "socket.send() raised exception.\n",
      "socket.send() raised exception.\n",
      "socket.send() raised exception.\n",
      "socket.send() raised exception.\n",
      "socket.send() raised exception.\n",
      "socket.send() raised exception.\n",
      "socket.send() raised exception.\n",
      "socket.send() raised exception.\n",
      "socket.send() raised exception.\n",
      "socket.send() raised exception.\n",
      "socket.send() raised exception.\n",
      "socket.send() raised exception.\n",
      "socket.send() raised exception.\n",
      "socket.send() raised exception.\n",
      "socket.send() raised exception.\n",
      "socket.send() raised exception.\n",
      "socket.send() raised exception.\n",
      "socket.send() raised exception.\n",
      "socket.send() raised exception.\n",
      "socket.send() raised exception.\n",
      "socket.send() raised exception.\n",
      "socket.send() raised exception.\n",
      "socket.send() raised exception.\n",
      "socket.send() raised exception.\n",
      "socket.send() raised exception.\n",
      "socket.send() raised exception.\n",
      "socket.send() raised exception.\n",
      "socket.send() raised exception.\n",
      "socket.send() raised exception.\n",
      "socket.send() raised exception.\n",
      "socket.send() raised exception.\n",
      "socket.send() raised exception.\n",
      "socket.send() raised exception.\n",
      "socket.send() raised exception.\n",
      "socket.send() raised exception.\n",
      "socket.send() raised exception.\n",
      "socket.send() raised exception.\n",
      "socket.send() raised exception.\n",
      "socket.send() raised exception.\n",
      "socket.send() raised exception.\n",
      "socket.send() raised exception.\n",
      "socket.send() raised exception.\n",
      "socket.send() raised exception.\n",
      "socket.send() raised exception.\n",
      "socket.send() raised exception.\n",
      "socket.send() raised exception.\n",
      "socket.send() raised exception.\n",
      "socket.send() raised exception.\n",
      "socket.send() raised exception.\n",
      "socket.send() raised exception.\n",
      "socket.send() raised exception.\n",
      "socket.send() raised exception.\n",
      "socket.send() raised exception.\n",
      "socket.send() raised exception.\n",
      "socket.send() raised exception.\n",
      "socket.send() raised exception.\n",
      "socket.send() raised exception.\n",
      "socket.send() raised exception.\n",
      "socket.send() raised exception.\n",
      "socket.send() raised exception.\n",
      "socket.send() raised exception.\n",
      "socket.send() raised exception.\n",
      "socket.send() raised exception.\n",
      "socket.send() raised exception.\n",
      "socket.send() raised exception.\n",
      "socket.send() raised exception.\n",
      "socket.send() raised exception.\n",
      "socket.send() raised exception.\n",
      "socket.send() raised exception.\n",
      "socket.send() raised exception.\n",
      "socket.send() raised exception.\n",
      "socket.send() raised exception.\n",
      "socket.send() raised exception.\n",
      "socket.send() raised exception.\n",
      "socket.send() raised exception.\n",
      "socket.send() raised exception.\n",
      "socket.send() raised exception.\n",
      "socket.send() raised exception.\n",
      "socket.send() raised exception.\n",
      "socket.send() raised exception.\n",
      "socket.send() raised exception.\n",
      "socket.send() raised exception.\n",
      "socket.send() raised exception.\n",
      "socket.send() raised exception.\n",
      "socket.send() raised exception.\n",
      "socket.send() raised exception.\n",
      "socket.send() raised exception.\n",
      "socket.send() raised exception.\n",
      "socket.send() raised exception.\n",
      "socket.send() raised exception.\n",
      "socket.send() raised exception.\n",
      "socket.send() raised exception.\n",
      "socket.send() raised exception.\n",
      "socket.send() raised exception.\n",
      "socket.send() raised exception.\n",
      "socket.send() raised exception.\n",
      "socket.send() raised exception.\n",
      "socket.send() raised exception.\n",
      "socket.send() raised exception.\n",
      "socket.send() raised exception.\n",
      "socket.send() raised exception.\n",
      "socket.send() raised exception.\n",
      "socket.send() raised exception.\n",
      "socket.send() raised exception.\n",
      "socket.send() raised exception.\n",
      "socket.send() raised exception.\n",
      "socket.send() raised exception.\n",
      "socket.send() raised exception.\n",
      "socket.send() raised exception.\n",
      "socket.send() raised exception.\n",
      "socket.send() raised exception.\n",
      "socket.send() raised exception.\n",
      "socket.send() raised exception.\n",
      "socket.send() raised exception.\n",
      "socket.send() raised exception.\n",
      "socket.send() raised exception.\n",
      "socket.send() raised exception.\n",
      "socket.send() raised exception.\n",
      "socket.send() raised exception.\n",
      "socket.send() raised exception.\n",
      "socket.send() raised exception.\n",
      "socket.send() raised exception.\n",
      "socket.send() raised exception.\n",
      "socket.send() raised exception.\n",
      "socket.send() raised exception.\n",
      "socket.send() raised exception.\n",
      "socket.send() raised exception.\n",
      "socket.send() raised exception.\n",
      "socket.send() raised exception.\n",
      "socket.send() raised exception.\n",
      "socket.send() raised exception.\n",
      "socket.send() raised exception.\n",
      "socket.send() raised exception.\n",
      "socket.send() raised exception.\n",
      "socket.send() raised exception.\n",
      "socket.send() raised exception.\n",
      "socket.send() raised exception.\n",
      "socket.send() raised exception.\n",
      "socket.send() raised exception.\n",
      "socket.send() raised exception.\n",
      "socket.send() raised exception.\n",
      "socket.send() raised exception.\n",
      "socket.send() raised exception.\n",
      "socket.send() raised exception.\n",
      "socket.send() raised exception.\n",
      "socket.send() raised exception.\n",
      "socket.send() raised exception.\n",
      "socket.send() raised exception.\n",
      "socket.send() raised exception.\n",
      "socket.send() raised exception.\n",
      "socket.send() raised exception.\n",
      "socket.send() raised exception.\n",
      "socket.send() raised exception.\n",
      "socket.send() raised exception.\n",
      "socket.send() raised exception.\n",
      "socket.send() raised exception.\n",
      "socket.send() raised exception.\n",
      "socket.send() raised exception.\n",
      "socket.send() raised exception.\n",
      "socket.send() raised exception.\n",
      "socket.send() raised exception.\n",
      "socket.send() raised exception.\n",
      "socket.send() raised exception.\n",
      "socket.send() raised exception.\n",
      "socket.send() raised exception.\n",
      "socket.send() raised exception.\n",
      "socket.send() raised exception.\n",
      "socket.send() raised exception.\n",
      "socket.send() raised exception.\n",
      "socket.send() raised exception.\n",
      "socket.send() raised exception.\n",
      "socket.send() raised exception.\n",
      "socket.send() raised exception.\n",
      "socket.send() raised exception.\n",
      "socket.send() raised exception.\n",
      "socket.send() raised exception.\n",
      "socket.send() raised exception.\n",
      "socket.send() raised exception.\n",
      "socket.send() raised exception.\n",
      "socket.send() raised exception.\n",
      "socket.send() raised exception.\n",
      "socket.send() raised exception.\n",
      "socket.send() raised exception.\n",
      "socket.send() raised exception.\n",
      "socket.send() raised exception.\n",
      "socket.send() raised exception.\n",
      "socket.send() raised exception.\n",
      "socket.send() raised exception.\n",
      "socket.send() raised exception.\n",
      "socket.send() raised exception.\n",
      "socket.send() raised exception.\n",
      "socket.send() raised exception.\n",
      "socket.send() raised exception.\n",
      "socket.send() raised exception.\n",
      "socket.send() raised exception.\n",
      "socket.send() raised exception.\n",
      "socket.send() raised exception.\n",
      "socket.send() raised exception.\n",
      "socket.send() raised exception.\n",
      "socket.send() raised exception.\n",
      "socket.send() raised exception.\n",
      "socket.send() raised exception.\n",
      "socket.send() raised exception.\n",
      "socket.send() raised exception.\n",
      "socket.send() raised exception.\n",
      "socket.send() raised exception.\n",
      "socket.send() raised exception.\n",
      "socket.send() raised exception.\n",
      "socket.send() raised exception.\n",
      "socket.send() raised exception.\n",
      "socket.send() raised exception.\n",
      "socket.send() raised exception.\n",
      "socket.send() raised exception.\n",
      "socket.send() raised exception.\n",
      "socket.send() raised exception.\n",
      "socket.send() raised exception.\n",
      "socket.send() raised exception.\n",
      "socket.send() raised exception.\n",
      "socket.send() raised exception.\n",
      "socket.send() raised exception.\n",
      "socket.send() raised exception.\n",
      "socket.send() raised exception.\n",
      "socket.send() raised exception.\n",
      "socket.send() raised exception.\n",
      "socket.send() raised exception.\n",
      "socket.send() raised exception.\n",
      "socket.send() raised exception.\n",
      "socket.send() raised exception.\n",
      "socket.send() raised exception.\n",
      "socket.send() raised exception.\n",
      "socket.send() raised exception.\n",
      "socket.send() raised exception.\n",
      "socket.send() raised exception.\n",
      "socket.send() raised exception.\n",
      "socket.send() raised exception.\n",
      "socket.send() raised exception.\n",
      "socket.send() raised exception.\n",
      "socket.send() raised exception.\n",
      "socket.send() raised exception.\n",
      "socket.send() raised exception.\n",
      "socket.send() raised exception.\n",
      "socket.send() raised exception.\n",
      "socket.send() raised exception.\n",
      "socket.send() raised exception.\n",
      "socket.send() raised exception.\n",
      "socket.send() raised exception.\n",
      "socket.send() raised exception.\n",
      "socket.send() raised exception.\n",
      "socket.send() raised exception.\n",
      "socket.send() raised exception.\n",
      "socket.send() raised exception.\n",
      "socket.send() raised exception.\n",
      "socket.send() raised exception.\n",
      "socket.send() raised exception.\n",
      "socket.send() raised exception.\n",
      "socket.send() raised exception.\n",
      "socket.send() raised exception.\n",
      "socket.send() raised exception.\n",
      "socket.send() raised exception.\n",
      "socket.send() raised exception.\n",
      "socket.send() raised exception.\n",
      "socket.send() raised exception.\n",
      "socket.send() raised exception.\n",
      "socket.send() raised exception.\n",
      "socket.send() raised exception.\n",
      "socket.send() raised exception.\n",
      "socket.send() raised exception.\n",
      "socket.send() raised exception.\n",
      "socket.send() raised exception.\n",
      "socket.send() raised exception.\n",
      "socket.send() raised exception.\n",
      "socket.send() raised exception.\n",
      "socket.send() raised exception.\n",
      "socket.send() raised exception.\n",
      "socket.send() raised exception.\n",
      "socket.send() raised exception.\n",
      "socket.send() raised exception.\n",
      "socket.send() raised exception.\n",
      "socket.send() raised exception.\n",
      "socket.send() raised exception.\n",
      "socket.send() raised exception.\n",
      "socket.send() raised exception.\n",
      "socket.send() raised exception.\n",
      "socket.send() raised exception.\n",
      "socket.send() raised exception.\n",
      "socket.send() raised exception.\n",
      "socket.send() raised exception.\n",
      "socket.send() raised exception.\n",
      "socket.send() raised exception.\n",
      "socket.send() raised exception.\n",
      "socket.send() raised exception.\n",
      "socket.send() raised exception.\n",
      "socket.send() raised exception.\n",
      "socket.send() raised exception.\n",
      "socket.send() raised exception.\n",
      "socket.send() raised exception.\n",
      "socket.send() raised exception.\n",
      "socket.send() raised exception.\n",
      "socket.send() raised exception.\n",
      "socket.send() raised exception.\n",
      "socket.send() raised exception.\n",
      "socket.send() raised exception.\n",
      "socket.send() raised exception.\n",
      "socket.send() raised exception.\n",
      "socket.send() raised exception.\n",
      "socket.send() raised exception.\n",
      "socket.send() raised exception.\n",
      "socket.send() raised exception.\n",
      "socket.send() raised exception.\n",
      "socket.send() raised exception.\n",
      "socket.send() raised exception.\n",
      "socket.send() raised exception.\n",
      "socket.send() raised exception.\n",
      "socket.send() raised exception.\n",
      "socket.send() raised exception.\n",
      "socket.send() raised exception.\n",
      "socket.send() raised exception.\n",
      "socket.send() raised exception.\n",
      "socket.send() raised exception.\n",
      "socket.send() raised exception.\n",
      "socket.send() raised exception.\n",
      "socket.send() raised exception.\n",
      "socket.send() raised exception.\n",
      "socket.send() raised exception.\n",
      "socket.send() raised exception.\n",
      "socket.send() raised exception.\n",
      "socket.send() raised exception.\n",
      "socket.send() raised exception.\n",
      "socket.send() raised exception.\n",
      "socket.send() raised exception.\n",
      "socket.send() raised exception.\n",
      "socket.send() raised exception.\n",
      "socket.send() raised exception.\n",
      "socket.send() raised exception.\n",
      "socket.send() raised exception.\n",
      "socket.send() raised exception.\n",
      "socket.send() raised exception.\n",
      "socket.send() raised exception.\n",
      "socket.send() raised exception.\n",
      "socket.send() raised exception.\n",
      "socket.send() raised exception.\n",
      "socket.send() raised exception.\n",
      "socket.send() raised exception.\n",
      "socket.send() raised exception.\n",
      "socket.send() raised exception.\n",
      "socket.send() raised exception.\n",
      "socket.send() raised exception.\n",
      "socket.send() raised exception.\n",
      "socket.send() raised exception.\n",
      "socket.send() raised exception.\n",
      "socket.send() raised exception.\n",
      "socket.send() raised exception.\n",
      "socket.send() raised exception.\n",
      "socket.send() raised exception.\n",
      "socket.send() raised exception.\n",
      "socket.send() raised exception.\n",
      "socket.send() raised exception.\n",
      "socket.send() raised exception.\n",
      "socket.send() raised exception.\n",
      "socket.send() raised exception.\n",
      "socket.send() raised exception.\n",
      "socket.send() raised exception.\n",
      "socket.send() raised exception.\n",
      "socket.send() raised exception.\n",
      "socket.send() raised exception.\n",
      "socket.send() raised exception.\n",
      "socket.send() raised exception.\n",
      "socket.send() raised exception.\n",
      "socket.send() raised exception.\n",
      "socket.send() raised exception.\n",
      "socket.send() raised exception.\n",
      "socket.send() raised exception.\n",
      "socket.send() raised exception.\n",
      "socket.send() raised exception.\n",
      "socket.send() raised exception.\n",
      "socket.send() raised exception.\n",
      "socket.send() raised exception.\n",
      "socket.send() raised exception.\n",
      "socket.send() raised exception.\n",
      "socket.send() raised exception.\n",
      "socket.send() raised exception.\n",
      "socket.send() raised exception.\n",
      "socket.send() raised exception.\n",
      "socket.send() raised exception.\n",
      "socket.send() raised exception.\n",
      "socket.send() raised exception.\n",
      "socket.send() raised exception.\n",
      "socket.send() raised exception.\n",
      "socket.send() raised exception.\n",
      "socket.send() raised exception.\n",
      "socket.send() raised exception.\n",
      "socket.send() raised exception.\n",
      "socket.send() raised exception.\n",
      "socket.send() raised exception.\n",
      "socket.send() raised exception.\n",
      "socket.send() raised exception.\n",
      "socket.send() raised exception.\n",
      "socket.send() raised exception.\n",
      "socket.send() raised exception.\n",
      "socket.send() raised exception.\n",
      "socket.send() raised exception.\n",
      "socket.send() raised exception.\n",
      "socket.send() raised exception.\n",
      "socket.send() raised exception.\n",
      "socket.send() raised exception.\n",
      "socket.send() raised exception.\n",
      "socket.send() raised exception.\n",
      "socket.send() raised exception.\n",
      "socket.send() raised exception.\n",
      "socket.send() raised exception.\n",
      "socket.send() raised exception.\n",
      "socket.send() raised exception.\n",
      "socket.send() raised exception.\n",
      "socket.send() raised exception.\n",
      "socket.send() raised exception.\n",
      "socket.send() raised exception.\n",
      "socket.send() raised exception.\n",
      "socket.send() raised exception.\n",
      "socket.send() raised exception.\n",
      "socket.send() raised exception.\n",
      "socket.send() raised exception.\n",
      "socket.send() raised exception.\n",
      "socket.send() raised exception.\n",
      "socket.send() raised exception.\n",
      "socket.send() raised exception.\n",
      "socket.send() raised exception.\n",
      "socket.send() raised exception.\n",
      "socket.send() raised exception.\n",
      "socket.send() raised exception.\n",
      "socket.send() raised exception.\n",
      "socket.send() raised exception.\n",
      "socket.send() raised exception.\n",
      "socket.send() raised exception.\n",
      "socket.send() raised exception.\n",
      "socket.send() raised exception.\n",
      "socket.send() raised exception.\n",
      "socket.send() raised exception.\n",
      "socket.send() raised exception.\n",
      "socket.send() raised exception.\n",
      "socket.send() raised exception.\n",
      "socket.send() raised exception.\n",
      "socket.send() raised exception.\n",
      "socket.send() raised exception.\n",
      "socket.send() raised exception.\n",
      "socket.send() raised exception.\n",
      "socket.send() raised exception.\n",
      "socket.send() raised exception.\n",
      "socket.send() raised exception.\n",
      "socket.send() raised exception.\n",
      "socket.send() raised exception.\n",
      "socket.send() raised exception.\n",
      "socket.send() raised exception.\n",
      "socket.send() raised exception.\n",
      "socket.send() raised exception.\n",
      "socket.send() raised exception.\n",
      "socket.send() raised exception.\n",
      "socket.send() raised exception.\n",
      "socket.send() raised exception.\n",
      "socket.send() raised exception.\n",
      "socket.send() raised exception.\n",
      "socket.send() raised exception.\n",
      "socket.send() raised exception.\n",
      "socket.send() raised exception.\n",
      "socket.send() raised exception.\n",
      "socket.send() raised exception.\n",
      "socket.send() raised exception.\n",
      "socket.send() raised exception.\n",
      "socket.send() raised exception.\n",
      "socket.send() raised exception.\n",
      "socket.send() raised exception.\n",
      "socket.send() raised exception.\n",
      "socket.send() raised exception.\n",
      "socket.send() raised exception.\n",
      "socket.send() raised exception.\n",
      "socket.send() raised exception.\n",
      "socket.send() raised exception.\n",
      "socket.send() raised exception.\n",
      "socket.send() raised exception.\n",
      "socket.send() raised exception.\n",
      "socket.send() raised exception.\n",
      "socket.send() raised exception.\n",
      "socket.send() raised exception.\n",
      "socket.send() raised exception.\n",
      "socket.send() raised exception.\n",
      "socket.send() raised exception.\n",
      "socket.send() raised exception.\n",
      "socket.send() raised exception.\n",
      "socket.send() raised exception.\n",
      "socket.send() raised exception.\n",
      "socket.send() raised exception.\n",
      "socket.send() raised exception.\n",
      "socket.send() raised exception.\n",
      "socket.send() raised exception.\n",
      "socket.send() raised exception.\n",
      "socket.send() raised exception.\n",
      "socket.send() raised exception.\n",
      "socket.send() raised exception.\n",
      "socket.send() raised exception.\n",
      "socket.send() raised exception.\n",
      "socket.send() raised exception.\n",
      "socket.send() raised exception.\n",
      "socket.send() raised exception.\n",
      "socket.send() raised exception.\n",
      "socket.send() raised exception.\n",
      "socket.send() raised exception.\n",
      "socket.send() raised exception.\n",
      "socket.send() raised exception.\n",
      "socket.send() raised exception.\n",
      "socket.send() raised exception.\n",
      "socket.send() raised exception.\n",
      "socket.send() raised exception.\n",
      "socket.send() raised exception.\n",
      "socket.send() raised exception.\n",
      "socket.send() raised exception.\n",
      "socket.send() raised exception.\n",
      "socket.send() raised exception.\n",
      "socket.send() raised exception.\n",
      "socket.send() raised exception.\n",
      "socket.send() raised exception.\n",
      "socket.send() raised exception.\n",
      "socket.send() raised exception.\n",
      "socket.send() raised exception.\n",
      "socket.send() raised exception.\n",
      "socket.send() raised exception.\n",
      "socket.send() raised exception.\n",
      "socket.send() raised exception.\n",
      "socket.send() raised exception.\n",
      "socket.send() raised exception.\n",
      "socket.send() raised exception.\n",
      "socket.send() raised exception.\n",
      "socket.send() raised exception.\n",
      "socket.send() raised exception.\n",
      "socket.send() raised exception.\n",
      "socket.send() raised exception.\n",
      "socket.send() raised exception.\n",
      "socket.send() raised exception.\n",
      "socket.send() raised exception.\n",
      "socket.send() raised exception.\n",
      "socket.send() raised exception.\n",
      "socket.send() raised exception.\n",
      "socket.send() raised exception.\n",
      "socket.send() raised exception.\n",
      "socket.send() raised exception.\n",
      "socket.send() raised exception.\n",
      "socket.send() raised exception.\n",
      "socket.send() raised exception.\n",
      "socket.send() raised exception.\n",
      "socket.send() raised exception.\n",
      "socket.send() raised exception.\n",
      "socket.send() raised exception.\n",
      "socket.send() raised exception.\n",
      "socket.send() raised exception.\n",
      "socket.send() raised exception.\n",
      "socket.send() raised exception.\n",
      "socket.send() raised exception.\n",
      "socket.send() raised exception.\n",
      "socket.send() raised exception.\n",
      "socket.send() raised exception.\n",
      "socket.send() raised exception.\n",
      "socket.send() raised exception.\n",
      "socket.send() raised exception.\n",
      "socket.send() raised exception.\n",
      "socket.send() raised exception.\n",
      "socket.send() raised exception.\n",
      "socket.send() raised exception.\n",
      "socket.send() raised exception.\n",
      "socket.send() raised exception.\n",
      "socket.send() raised exception.\n",
      "socket.send() raised exception.\n",
      "socket.send() raised exception.\n",
      "socket.send() raised exception.\n",
      "socket.send() raised exception.\n",
      "socket.send() raised exception.\n",
      "socket.send() raised exception.\n",
      "socket.send() raised exception.\n",
      "socket.send() raised exception.\n",
      "socket.send() raised exception.\n",
      "socket.send() raised exception.\n",
      "socket.send() raised exception.\n",
      "socket.send() raised exception.\n",
      "socket.send() raised exception.\n",
      "socket.send() raised exception.\n",
      "socket.send() raised exception.\n",
      "socket.send() raised exception.\n",
      "socket.send() raised exception.\n",
      "socket.send() raised exception.\n",
      "socket.send() raised exception.\n",
      "socket.send() raised exception.\n",
      "socket.send() raised exception.\n",
      "socket.send() raised exception.\n",
      "socket.send() raised exception.\n",
      "socket.send() raised exception.\n",
      "socket.send() raised exception.\n",
      "socket.send() raised exception.\n",
      "socket.send() raised exception.\n",
      "socket.send() raised exception.\n",
      "socket.send() raised exception.\n",
      "socket.send() raised exception.\n",
      "socket.send() raised exception.\n",
      "socket.send() raised exception.\n",
      "socket.send() raised exception.\n",
      "socket.send() raised exception.\n",
      "socket.send() raised exception.\n",
      "socket.send() raised exception.\n",
      "socket.send() raised exception.\n",
      "socket.send() raised exception.\n",
      "socket.send() raised exception.\n",
      "socket.send() raised exception.\n",
      "socket.send() raised exception.\n",
      "socket.send() raised exception.\n",
      "socket.send() raised exception.\n",
      "socket.send() raised exception.\n",
      "socket.send() raised exception.\n",
      "socket.send() raised exception.\n",
      "socket.send() raised exception.\n",
      "socket.send() raised exception.\n",
      "socket.send() raised exception.\n",
      "socket.send() raised exception.\n",
      "socket.send() raised exception.\n",
      "socket.send() raised exception.\n",
      "socket.send() raised exception.\n",
      "socket.send() raised exception.\n",
      "socket.send() raised exception.\n",
      "socket.send() raised exception.\n",
      "socket.send() raised exception.\n",
      "socket.send() raised exception.\n",
      "socket.send() raised exception.\n",
      "socket.send() raised exception.\n",
      "socket.send() raised exception.\n",
      "socket.send() raised exception.\n",
      "socket.send() raised exception.\n",
      "socket.send() raised exception.\n",
      "socket.send() raised exception.\n",
      "socket.send() raised exception.\n",
      "socket.send() raised exception.\n",
      "socket.send() raised exception.\n",
      "socket.send() raised exception.\n",
      "socket.send() raised exception.\n",
      "socket.send() raised exception.\n",
      "socket.send() raised exception.\n",
      "socket.send() raised exception.\n",
      "socket.send() raised exception.\n",
      "socket.send() raised exception.\n",
      "socket.send() raised exception.\n",
      "socket.send() raised exception.\n",
      "socket.send() raised exception.\n",
      "socket.send() raised exception.\n",
      "socket.send() raised exception.\n",
      "socket.send() raised exception.\n",
      "socket.send() raised exception.\n",
      "socket.send() raised exception.\n",
      "socket.send() raised exception.\n",
      "socket.send() raised exception.\n",
      "socket.send() raised exception.\n",
      "socket.send() raised exception.\n",
      "socket.send() raised exception.\n",
      "socket.send() raised exception.\n",
      "socket.send() raised exception.\n",
      "socket.send() raised exception.\n",
      "socket.send() raised exception.\n",
      "socket.send() raised exception.\n",
      "socket.send() raised exception.\n",
      "socket.send() raised exception.\n",
      "socket.send() raised exception.\n",
      "socket.send() raised exception.\n",
      "socket.send() raised exception.\n",
      "socket.send() raised exception.\n",
      "socket.send() raised exception.\n",
      "socket.send() raised exception.\n",
      "socket.send() raised exception.\n",
      "socket.send() raised exception.\n",
      "socket.send() raised exception.\n",
      "socket.send() raised exception.\n",
      "socket.send() raised exception.\n",
      "socket.send() raised exception.\n",
      "socket.send() raised exception.\n",
      "socket.send() raised exception.\n",
      "socket.send() raised exception.\n",
      "socket.send() raised exception.\n",
      "socket.send() raised exception.\n",
      "socket.send() raised exception.\n",
      "socket.send() raised exception.\n",
      "socket.send() raised exception.\n",
      "socket.send() raised exception.\n",
      "socket.send() raised exception.\n",
      "socket.send() raised exception.\n",
      "socket.send() raised exception.\n",
      "socket.send() raised exception.\n",
      "socket.send() raised exception.\n",
      "socket.send() raised exception.\n",
      "socket.send() raised exception.\n",
      "socket.send() raised exception.\n",
      "socket.send() raised exception.\n",
      "socket.send() raised exception.\n",
      "socket.send() raised exception.\n",
      "socket.send() raised exception.\n",
      "socket.send() raised exception.\n",
      "socket.send() raised exception.\n",
      "socket.send() raised exception.\n",
      "socket.send() raised exception.\n",
      "socket.send() raised exception.\n",
      "socket.send() raised exception.\n",
      "socket.send() raised exception.\n",
      "socket.send() raised exception.\n",
      "socket.send() raised exception.\n",
      "socket.send() raised exception.\n",
      "socket.send() raised exception.\n",
      "socket.send() raised exception.\n",
      "socket.send() raised exception.\n",
      "socket.send() raised exception.\n",
      "socket.send() raised exception.\n",
      "socket.send() raised exception.\n",
      "socket.send() raised exception.\n",
      "socket.send() raised exception.\n",
      "socket.send() raised exception.\n",
      "socket.send() raised exception.\n",
      "socket.send() raised exception.\n",
      "socket.send() raised exception.\n",
      "socket.send() raised exception.\n",
      "socket.send() raised exception.\n",
      "socket.send() raised exception.\n",
      "socket.send() raised exception.\n",
      "socket.send() raised exception.\n",
      "socket.send() raised exception.\n",
      "socket.send() raised exception.\n",
      "socket.send() raised exception.\n",
      "socket.send() raised exception.\n",
      "socket.send() raised exception.\n",
      "socket.send() raised exception.\n",
      "socket.send() raised exception.\n",
      "socket.send() raised exception.\n",
      "socket.send() raised exception.\n",
      "socket.send() raised exception.\n",
      "socket.send() raised exception.\n",
      "socket.send() raised exception.\n",
      "socket.send() raised exception.\n",
      "socket.send() raised exception.\n",
      "socket.send() raised exception.\n",
      "socket.send() raised exception.\n",
      "socket.send() raised exception.\n",
      "socket.send() raised exception.\n",
      "socket.send() raised exception.\n",
      "socket.send() raised exception.\n",
      "socket.send() raised exception.\n",
      "socket.send() raised exception.\n",
      "socket.send() raised exception.\n",
      "socket.send() raised exception.\n",
      "socket.send() raised exception.\n",
      "socket.send() raised exception.\n",
      "socket.send() raised exception.\n",
      "socket.send() raised exception.\n",
      "socket.send() raised exception.\n",
      "socket.send() raised exception.\n",
      "socket.send() raised exception.\n",
      "socket.send() raised exception.\n",
      "socket.send() raised exception.\n",
      "socket.send() raised exception.\n",
      "socket.send() raised exception.\n",
      "socket.send() raised exception.\n",
      "socket.send() raised exception.\n",
      "socket.send() raised exception.\n",
      "socket.send() raised exception.\n",
      "socket.send() raised exception.\n",
      "socket.send() raised exception.\n",
      "socket.send() raised exception.\n",
      "socket.send() raised exception.\n",
      "socket.send() raised exception.\n",
      "socket.send() raised exception.\n",
      "socket.send() raised exception.\n",
      "socket.send() raised exception.\n",
      "socket.send() raised exception.\n",
      "socket.send() raised exception.\n",
      "socket.send() raised exception.\n",
      "socket.send() raised exception.\n",
      "socket.send() raised exception.\n",
      "socket.send() raised exception.\n",
      "socket.send() raised exception.\n",
      "socket.send() raised exception.\n",
      "socket.send() raised exception.\n",
      "socket.send() raised exception.\n",
      "socket.send() raised exception.\n",
      "socket.send() raised exception.\n",
      "socket.send() raised exception.\n",
      "socket.send() raised exception.\n",
      "socket.send() raised exception.\n",
      "socket.send() raised exception.\n",
      "socket.send() raised exception.\n",
      "socket.send() raised exception.\n",
      "socket.send() raised exception.\n",
      "socket.send() raised exception.\n",
      "socket.send() raised exception.\n",
      "socket.send() raised exception.\n",
      "socket.send() raised exception.\n",
      "socket.send() raised exception.\n",
      "socket.send() raised exception.\n",
      "socket.send() raised exception.\n",
      "socket.send() raised exception.\n",
      "socket.send() raised exception.\n",
      "socket.send() raised exception.\n",
      "socket.send() raised exception.\n",
      "socket.send() raised exception.\n",
      "socket.send() raised exception.\n",
      "socket.send() raised exception.\n",
      "socket.send() raised exception.\n",
      "socket.send() raised exception.\n",
      "socket.send() raised exception.\n",
      "socket.send() raised exception.\n",
      "socket.send() raised exception.\n",
      "socket.send() raised exception.\n",
      "socket.send() raised exception.\n",
      "socket.send() raised exception.\n",
      "socket.send() raised exception.\n",
      "socket.send() raised exception.\n",
      "socket.send() raised exception.\n",
      "socket.send() raised exception.\n",
      "socket.send() raised exception.\n",
      "socket.send() raised exception.\n",
      "socket.send() raised exception.\n",
      "socket.send() raised exception.\n",
      "socket.send() raised exception.\n",
      "socket.send() raised exception.\n",
      "socket.send() raised exception.\n",
      "socket.send() raised exception.\n",
      "socket.send() raised exception.\n",
      "socket.send() raised exception.\n",
      "socket.send() raised exception.\n",
      "socket.send() raised exception.\n",
      "socket.send() raised exception.\n",
      "socket.send() raised exception.\n",
      "socket.send() raised exception.\n",
      "socket.send() raised exception.\n",
      "socket.send() raised exception.\n",
      "socket.send() raised exception.\n",
      "socket.send() raised exception.\n",
      "socket.send() raised exception.\n",
      "socket.send() raised exception.\n",
      "socket.send() raised exception.\n",
      "socket.send() raised exception.\n",
      "socket.send() raised exception.\n",
      "socket.send() raised exception.\n",
      "socket.send() raised exception.\n",
      "socket.send() raised exception.\n",
      "socket.send() raised exception.\n",
      "socket.send() raised exception.\n",
      "socket.send() raised exception.\n",
      "socket.send() raised exception.\n",
      "socket.send() raised exception.\n",
      "socket.send() raised exception.\n",
      "socket.send() raised exception.\n",
      "socket.send() raised exception.\n",
      "socket.send() raised exception.\n",
      "socket.send() raised exception.\n",
      "socket.send() raised exception.\n",
      "socket.send() raised exception.\n",
      "socket.send() raised exception.\n",
      "socket.send() raised exception.\n",
      "socket.send() raised exception.\n",
      "socket.send() raised exception.\n",
      "socket.send() raised exception.\n",
      "socket.send() raised exception.\n",
      "socket.send() raised exception.\n",
      "socket.send() raised exception.\n",
      "socket.send() raised exception.\n",
      "socket.send() raised exception.\n",
      "socket.send() raised exception.\n",
      "socket.send() raised exception.\n",
      "socket.send() raised exception.\n",
      "socket.send() raised exception.\n",
      "socket.send() raised exception.\n",
      "socket.send() raised exception.\n",
      "socket.send() raised exception.\n",
      "socket.send() raised exception.\n",
      "socket.send() raised exception.\n",
      "socket.send() raised exception.\n",
      "socket.send() raised exception.\n",
      "socket.send() raised exception.\n",
      "socket.send() raised exception.\n",
      "socket.send() raised exception.\n",
      "socket.send() raised exception.\n",
      "socket.send() raised exception.\n",
      "socket.send() raised exception.\n",
      "socket.send() raised exception.\n",
      "socket.send() raised exception.\n",
      "socket.send() raised exception.\n",
      "socket.send() raised exception.\n",
      "socket.send() raised exception.\n",
      "socket.send() raised exception.\n",
      "socket.send() raised exception.\n",
      "socket.send() raised exception.\n",
      "socket.send() raised exception.\n",
      "socket.send() raised exception.\n",
      "socket.send() raised exception.\n",
      "socket.send() raised exception.\n",
      "socket.send() raised exception.\n",
      "socket.send() raised exception.\n",
      "socket.send() raised exception.\n",
      "socket.send() raised exception.\n",
      "socket.send() raised exception.\n",
      "socket.send() raised exception.\n",
      "socket.send() raised exception.\n",
      "socket.send() raised exception.\n",
      "socket.send() raised exception.\n",
      "socket.send() raised exception.\n",
      "socket.send() raised exception.\n",
      "socket.send() raised exception.\n",
      "socket.send() raised exception.\n",
      "socket.send() raised exception.\n",
      "socket.send() raised exception.\n",
      "socket.send() raised exception.\n",
      "socket.send() raised exception.\n",
      "socket.send() raised exception.\n",
      "socket.send() raised exception.\n",
      "socket.send() raised exception.\n",
      "socket.send() raised exception.\n",
      "socket.send() raised exception.\n",
      "socket.send() raised exception.\n",
      "socket.send() raised exception.\n",
      "socket.send() raised exception.\n",
      "socket.send() raised exception.\n",
      "socket.send() raised exception.\n",
      "socket.send() raised exception.\n",
      "socket.send() raised exception.\n",
      "socket.send() raised exception.\n",
      "socket.send() raised exception.\n",
      "socket.send() raised exception.\n",
      "socket.send() raised exception.\n",
      "socket.send() raised exception.\n",
      "socket.send() raised exception.\n",
      "socket.send() raised exception.\n",
      "socket.send() raised exception.\n",
      "socket.send() raised exception.\n",
      "socket.send() raised exception.\n",
      "socket.send() raised exception.\n",
      "socket.send() raised exception.\n",
      "socket.send() raised exception.\n",
      "socket.send() raised exception.\n",
      "socket.send() raised exception.\n",
      "socket.send() raised exception.\n",
      "socket.send() raised exception.\n",
      "socket.send() raised exception.\n",
      "socket.send() raised exception.\n",
      "socket.send() raised exception.\n",
      "socket.send() raised exception.\n",
      "socket.send() raised exception.\n",
      "socket.send() raised exception.\n",
      "socket.send() raised exception.\n",
      "socket.send() raised exception.\n",
      "socket.send() raised exception.\n",
      "socket.send() raised exception.\n",
      "socket.send() raised exception.\n",
      "socket.send() raised exception.\n",
      "socket.send() raised exception.\n",
      "socket.send() raised exception.\n",
      "socket.send() raised exception.\n",
      "socket.send() raised exception.\n",
      "socket.send() raised exception.\n",
      "socket.send() raised exception.\n",
      "socket.send() raised exception.\n",
      "socket.send() raised exception.\n",
      "socket.send() raised exception.\n",
      "socket.send() raised exception.\n",
      "socket.send() raised exception.\n",
      "socket.send() raised exception.\n",
      "socket.send() raised exception.\n",
      "socket.send() raised exception.\n",
      "socket.send() raised exception.\n",
      "socket.send() raised exception.\n",
      "socket.send() raised exception.\n",
      "socket.send() raised exception.\n",
      "socket.send() raised exception.\n",
      "socket.send() raised exception.\n",
      "socket.send() raised exception.\n",
      "socket.send() raised exception.\n",
      "socket.send() raised exception.\n",
      "socket.send() raised exception.\n",
      "socket.send() raised exception.\n",
      "socket.send() raised exception.\n",
      "socket.send() raised exception.\n",
      "socket.send() raised exception.\n",
      "socket.send() raised exception.\n",
      "socket.send() raised exception.\n",
      "socket.send() raised exception.\n",
      "socket.send() raised exception.\n",
      "socket.send() raised exception.\n",
      "socket.send() raised exception.\n",
      "socket.send() raised exception.\n",
      "socket.send() raised exception.\n",
      "socket.send() raised exception.\n",
      "socket.send() raised exception.\n",
      "socket.send() raised exception.\n",
      "socket.send() raised exception.\n",
      "socket.send() raised exception.\n",
      "socket.send() raised exception.\n",
      "socket.send() raised exception.\n",
      "socket.send() raised exception.\n",
      "socket.send() raised exception.\n",
      "socket.send() raised exception.\n",
      "socket.send() raised exception.\n",
      "socket.send() raised exception.\n",
      "socket.send() raised exception.\n",
      "socket.send() raised exception.\n",
      "socket.send() raised exception.\n",
      "socket.send() raised exception.\n",
      "socket.send() raised exception.\n",
      "socket.send() raised exception.\n",
      "socket.send() raised exception.\n",
      "socket.send() raised exception.\n",
      "socket.send() raised exception.\n",
      "socket.send() raised exception.\n",
      "socket.send() raised exception.\n",
      "socket.send() raised exception.\n",
      "socket.send() raised exception.\n",
      "socket.send() raised exception.\n",
      "socket.send() raised exception.\n",
      "socket.send() raised exception.\n",
      "socket.send() raised exception.\n",
      "socket.send() raised exception.\n",
      "socket.send() raised exception.\n",
      "socket.send() raised exception.\n",
      "socket.send() raised exception.\n",
      "socket.send() raised exception.\n",
      "socket.send() raised exception.\n",
      "socket.send() raised exception.\n",
      "socket.send() raised exception.\n",
      "socket.send() raised exception.\n",
      "socket.send() raised exception.\n",
      "socket.send() raised exception.\n",
      "socket.send() raised exception.\n",
      "socket.send() raised exception.\n",
      "socket.send() raised exception.\n",
      "socket.send() raised exception.\n",
      "socket.send() raised exception.\n",
      "socket.send() raised exception.\n",
      "socket.send() raised exception.\n",
      "socket.send() raised exception.\n",
      "socket.send() raised exception.\n",
      "socket.send() raised exception.\n",
      "socket.send() raised exception.\n",
      "socket.send() raised exception.\n",
      "socket.send() raised exception.\n",
      "socket.send() raised exception.\n",
      "socket.send() raised exception.\n",
      "socket.send() raised exception.\n",
      "socket.send() raised exception.\n",
      "socket.send() raised exception.\n",
      "socket.send() raised exception.\n",
      "socket.send() raised exception.\n",
      "socket.send() raised exception.\n",
      "socket.send() raised exception.\n",
      "socket.send() raised exception.\n",
      "socket.send() raised exception.\n",
      "socket.send() raised exception.\n",
      "socket.send() raised exception.\n",
      "socket.send() raised exception.\n",
      "socket.send() raised exception.\n",
      "socket.send() raised exception.\n",
      "socket.send() raised exception.\n",
      "socket.send() raised exception.\n",
      "socket.send() raised exception.\n",
      "socket.send() raised exception.\n",
      "socket.send() raised exception.\n",
      "socket.send() raised exception.\n",
      "socket.send() raised exception.\n",
      "socket.send() raised exception.\n",
      "socket.send() raised exception.\n",
      "socket.send() raised exception.\n",
      "socket.send() raised exception.\n",
      "socket.send() raised exception.\n",
      "socket.send() raised exception.\n",
      "socket.send() raised exception.\n",
      "socket.send() raised exception.\n",
      "socket.send() raised exception.\n",
      "socket.send() raised exception.\n",
      "socket.send() raised exception.\n",
      "socket.send() raised exception.\n",
      "socket.send() raised exception.\n",
      "socket.send() raised exception.\n",
      "socket.send() raised exception.\n",
      "socket.send() raised exception.\n",
      "socket.send() raised exception.\n",
      "socket.send() raised exception.\n",
      "socket.send() raised exception.\n",
      "socket.send() raised exception.\n",
      "socket.send() raised exception.\n",
      "socket.send() raised exception.\n",
      "socket.send() raised exception.\n",
      "socket.send() raised exception.\n",
      "socket.send() raised exception.\n",
      "socket.send() raised exception.\n",
      "socket.send() raised exception.\n",
      "socket.send() raised exception.\n",
      "socket.send() raised exception.\n",
      "socket.send() raised exception.\n",
      "socket.send() raised exception.\n",
      "socket.send() raised exception.\n",
      "socket.send() raised exception.\n",
      "socket.send() raised exception.\n",
      "socket.send() raised exception.\n",
      "socket.send() raised exception.\n",
      "socket.send() raised exception.\n",
      "socket.send() raised exception.\n",
      "socket.send() raised exception.\n",
      "socket.send() raised exception.\n",
      "socket.send() raised exception.\n",
      "socket.send() raised exception.\n",
      "socket.send() raised exception.\n",
      "socket.send() raised exception.\n",
      "socket.send() raised exception.\n",
      "socket.send() raised exception.\n",
      "socket.send() raised exception.\n",
      "socket.send() raised exception.\n",
      "socket.send() raised exception.\n",
      "socket.send() raised exception.\n",
      "socket.send() raised exception.\n",
      "socket.send() raised exception.\n",
      "socket.send() raised exception.\n",
      "socket.send() raised exception.\n",
      "socket.send() raised exception.\n",
      "socket.send() raised exception.\n",
      "socket.send() raised exception.\n",
      "socket.send() raised exception.\n",
      "socket.send() raised exception.\n",
      "socket.send() raised exception.\n",
      "socket.send() raised exception.\n",
      "socket.send() raised exception.\n",
      "socket.send() raised exception.\n",
      "socket.send() raised exception.\n",
      "socket.send() raised exception.\n",
      "socket.send() raised exception.\n",
      "socket.send() raised exception.\n",
      "socket.send() raised exception.\n",
      "socket.send() raised exception.\n",
      "socket.send() raised exception.\n",
      "socket.send() raised exception.\n",
      "socket.send() raised exception.\n",
      "socket.send() raised exception.\n",
      "socket.send() raised exception.\n",
      "socket.send() raised exception.\n",
      "socket.send() raised exception.\n",
      "socket.send() raised exception.\n",
      "socket.send() raised exception.\n",
      "socket.send() raised exception.\n",
      "socket.send() raised exception.\n",
      "socket.send() raised exception.\n",
      "socket.send() raised exception.\n",
      "socket.send() raised exception.\n",
      "socket.send() raised exception.\n",
      "socket.send() raised exception.\n",
      "socket.send() raised exception.\n",
      "socket.send() raised exception.\n",
      "socket.send() raised exception.\n",
      "socket.send() raised exception.\n",
      "socket.send() raised exception.\n",
      "socket.send() raised exception.\n",
      "socket.send() raised exception.\n",
      "socket.send() raised exception.\n",
      "socket.send() raised exception.\n",
      "socket.send() raised exception.\n",
      "socket.send() raised exception.\n",
      "socket.send() raised exception.\n",
      "socket.send() raised exception.\n",
      "socket.send() raised exception.\n",
      "socket.send() raised exception.\n",
      "socket.send() raised exception.\n",
      "socket.send() raised exception.\n",
      "socket.send() raised exception.\n",
      "socket.send() raised exception.\n",
      "socket.send() raised exception.\n",
      "socket.send() raised exception.\n",
      "socket.send() raised exception.\n",
      "socket.send() raised exception.\n",
      "socket.send() raised exception.\n",
      "socket.send() raised exception.\n",
      "socket.send() raised exception.\n",
      "socket.send() raised exception.\n",
      "socket.send() raised exception.\n",
      "socket.send() raised exception.\n",
      "socket.send() raised exception.\n",
      "socket.send() raised exception.\n",
      "socket.send() raised exception.\n",
      "socket.send() raised exception.\n",
      "socket.send() raised exception.\n",
      "socket.send() raised exception.\n",
      "socket.send() raised exception.\n",
      "socket.send() raised exception.\n",
      "socket.send() raised exception.\n",
      "socket.send() raised exception.\n",
      "socket.send() raised exception.\n",
      "socket.send() raised exception.\n",
      "socket.send() raised exception.\n",
      "socket.send() raised exception.\n",
      "socket.send() raised exception.\n",
      "socket.send() raised exception.\n",
      "socket.send() raised exception.\n",
      "socket.send() raised exception.\n",
      "socket.send() raised exception.\n",
      "socket.send() raised exception.\n",
      "socket.send() raised exception.\n",
      "socket.send() raised exception.\n",
      "socket.send() raised exception.\n",
      "socket.send() raised exception.\n",
      "socket.send() raised exception.\n",
      "socket.send() raised exception.\n",
      "socket.send() raised exception.\n",
      "socket.send() raised exception.\n",
      "socket.send() raised exception.\n",
      "socket.send() raised exception.\n",
      "socket.send() raised exception.\n",
      "socket.send() raised exception.\n",
      "socket.send() raised exception.\n",
      "socket.send() raised exception.\n",
      "socket.send() raised exception.\n",
      "socket.send() raised exception.\n",
      "socket.send() raised exception.\n",
      "socket.send() raised exception.\n",
      "socket.send() raised exception.\n",
      "socket.send() raised exception.\n",
      "socket.send() raised exception.\n",
      "socket.send() raised exception.\n",
      "socket.send() raised exception.\n",
      "socket.send() raised exception.\n",
      "socket.send() raised exception.\n",
      "socket.send() raised exception.\n",
      "socket.send() raised exception.\n",
      "socket.send() raised exception.\n",
      "socket.send() raised exception.\n",
      "socket.send() raised exception.\n",
      "socket.send() raised exception.\n",
      "socket.send() raised exception.\n",
      "socket.send() raised exception.\n",
      "socket.send() raised exception.\n",
      "socket.send() raised exception.\n",
      "socket.send() raised exception.\n",
      "socket.send() raised exception.\n",
      "socket.send() raised exception.\n",
      "socket.send() raised exception.\n",
      "socket.send() raised exception.\n",
      "socket.send() raised exception.\n",
      "socket.send() raised exception.\n",
      "socket.send() raised exception.\n",
      "socket.send() raised exception.\n",
      "socket.send() raised exception.\n",
      "socket.send() raised exception.\n",
      "socket.send() raised exception.\n",
      "socket.send() raised exception.\n",
      "socket.send() raised exception.\n",
      "socket.send() raised exception.\n",
      "socket.send() raised exception.\n",
      "socket.send() raised exception.\n",
      "socket.send() raised exception.\n",
      "socket.send() raised exception.\n",
      "socket.send() raised exception.\n",
      "socket.send() raised exception.\n",
      "socket.send() raised exception.\n",
      "socket.send() raised exception.\n",
      "socket.send() raised exception.\n",
      "socket.send() raised exception.\n",
      "socket.send() raised exception.\n",
      "socket.send() raised exception.\n",
      "socket.send() raised exception.\n",
      "socket.send() raised exception.\n",
      "socket.send() raised exception.\n",
      "socket.send() raised exception.\n",
      "socket.send() raised exception.\n",
      "socket.send() raised exception.\n",
      "socket.send() raised exception.\n",
      "socket.send() raised exception.\n",
      "socket.send() raised exception.\n",
      "socket.send() raised exception.\n",
      "socket.send() raised exception.\n",
      "socket.send() raised exception.\n",
      "socket.send() raised exception.\n",
      "socket.send() raised exception.\n",
      "socket.send() raised exception.\n",
      "socket.send() raised exception.\n",
      "socket.send() raised exception.\n",
      "socket.send() raised exception.\n",
      "socket.send() raised exception.\n",
      "socket.send() raised exception.\n",
      "socket.send() raised exception.\n",
      "socket.send() raised exception.\n",
      "socket.send() raised exception.\n",
      "socket.send() raised exception.\n",
      "socket.send() raised exception.\n",
      "socket.send() raised exception.\n",
      "socket.send() raised exception.\n",
      "socket.send() raised exception.\n",
      "socket.send() raised exception.\n",
      "socket.send() raised exception.\n",
      "socket.send() raised exception.\n",
      "socket.send() raised exception.\n",
      "socket.send() raised exception.\n",
      "socket.send() raised exception.\n",
      "socket.send() raised exception.\n",
      "socket.send() raised exception.\n",
      "socket.send() raised exception.\n",
      "socket.send() raised exception.\n",
      "socket.send() raised exception.\n",
      "socket.send() raised exception.\n",
      "socket.send() raised exception.\n",
      "socket.send() raised exception.\n",
      "socket.send() raised exception.\n",
      "socket.send() raised exception.\n",
      "socket.send() raised exception.\n",
      "socket.send() raised exception.\n",
      "socket.send() raised exception.\n",
      "socket.send() raised exception.\n",
      "socket.send() raised exception.\n",
      "socket.send() raised exception.\n",
      "socket.send() raised exception.\n",
      "socket.send() raised exception.\n",
      "socket.send() raised exception.\n",
      "socket.send() raised exception.\n",
      "socket.send() raised exception.\n",
      "socket.send() raised exception.\n",
      "socket.send() raised exception.\n",
      "socket.send() raised exception.\n",
      "socket.send() raised exception.\n",
      "socket.send() raised exception.\n",
      "socket.send() raised exception.\n",
      "socket.send() raised exception.\n",
      "socket.send() raised exception.\n",
      "socket.send() raised exception.\n",
      "socket.send() raised exception.\n",
      "socket.send() raised exception.\n",
      "socket.send() raised exception.\n",
      "socket.send() raised exception.\n",
      "socket.send() raised exception.\n",
      "socket.send() raised exception.\n",
      "socket.send() raised exception.\n",
      "socket.send() raised exception.\n",
      "socket.send() raised exception.\n",
      "socket.send() raised exception.\n",
      "socket.send() raised exception.\n",
      "socket.send() raised exception.\n",
      "socket.send() raised exception.\n",
      "socket.send() raised exception.\n",
      "socket.send() raised exception.\n",
      "socket.send() raised exception.\n",
      "socket.send() raised exception.\n",
      "socket.send() raised exception.\n",
      "socket.send() raised exception.\n",
      "socket.send() raised exception.\n",
      "socket.send() raised exception.\n",
      "socket.send() raised exception.\n",
      "socket.send() raised exception.\n",
      "socket.send() raised exception.\n",
      "socket.send() raised exception.\n",
      "socket.send() raised exception.\n",
      "socket.send() raised exception.\n",
      "socket.send() raised exception.\n",
      "socket.send() raised exception.\n",
      "socket.send() raised exception.\n",
      "socket.send() raised exception.\n",
      "socket.send() raised exception.\n",
      "socket.send() raised exception.\n",
      "socket.send() raised exception.\n",
      "socket.send() raised exception.\n",
      "socket.send() raised exception.\n",
      "socket.send() raised exception.\n",
      "socket.send() raised exception.\n",
      "socket.send() raised exception.\n",
      "socket.send() raised exception.\n",
      "socket.send() raised exception.\n",
      "socket.send() raised exception.\n",
      "socket.send() raised exception.\n",
      "socket.send() raised exception.\n",
      "socket.send() raised exception.\n",
      "socket.send() raised exception.\n",
      "socket.send() raised exception.\n",
      "socket.send() raised exception.\n",
      "socket.send() raised exception.\n",
      "socket.send() raised exception.\n",
      "socket.send() raised exception.\n",
      "socket.send() raised exception.\n",
      "socket.send() raised exception.\n",
      "socket.send() raised exception.\n",
      "socket.send() raised exception.\n",
      "socket.send() raised exception.\n",
      "socket.send() raised exception.\n",
      "socket.send() raised exception.\n",
      "socket.send() raised exception.\n",
      "socket.send() raised exception.\n",
      "socket.send() raised exception.\n",
      "socket.send() raised exception.\n",
      "socket.send() raised exception.\n",
      "socket.send() raised exception.\n",
      "socket.send() raised exception.\n",
      "socket.send() raised exception.\n",
      "socket.send() raised exception.\n",
      "socket.send() raised exception.\n",
      "socket.send() raised exception.\n",
      "socket.send() raised exception.\n",
      "socket.send() raised exception.\n",
      "socket.send() raised exception.\n",
      "socket.send() raised exception.\n",
      "socket.send() raised exception.\n",
      "socket.send() raised exception.\n",
      "socket.send() raised exception.\n",
      "socket.send() raised exception.\n",
      "socket.send() raised exception.\n",
      "socket.send() raised exception.\n",
      "socket.send() raised exception.\n",
      "socket.send() raised exception.\n",
      "socket.send() raised exception.\n",
      "socket.send() raised exception.\n",
      "socket.send() raised exception.\n",
      "socket.send() raised exception.\n",
      "socket.send() raised exception.\n",
      "socket.send() raised exception.\n",
      "socket.send() raised exception.\n",
      "socket.send() raised exception.\n",
      "socket.send() raised exception.\n",
      "socket.send() raised exception.\n",
      "socket.send() raised exception.\n",
      "socket.send() raised exception.\n",
      "socket.send() raised exception.\n",
      "socket.send() raised exception.\n",
      "socket.send() raised exception.\n",
      "socket.send() raised exception.\n",
      "socket.send() raised exception.\n",
      "socket.send() raised exception.\n",
      "socket.send() raised exception.\n",
      "socket.send() raised exception.\n",
      "socket.send() raised exception.\n",
      "socket.send() raised exception.\n",
      "socket.send() raised exception.\n",
      "socket.send() raised exception.\n",
      "socket.send() raised exception.\n",
      "socket.send() raised exception.\n",
      "socket.send() raised exception.\n",
      "socket.send() raised exception.\n",
      "socket.send() raised exception.\n",
      "socket.send() raised exception.\n",
      "socket.send() raised exception.\n",
      "socket.send() raised exception.\n",
      "socket.send() raised exception.\n",
      "socket.send() raised exception.\n",
      "socket.send() raised exception.\n",
      "socket.send() raised exception.\n",
      "socket.send() raised exception.\n",
      "socket.send() raised exception.\n",
      "socket.send() raised exception.\n",
      "socket.send() raised exception.\n",
      "socket.send() raised exception.\n",
      "socket.send() raised exception.\n",
      "socket.send() raised exception.\n",
      "socket.send() raised exception.\n",
      "socket.send() raised exception.\n",
      "socket.send() raised exception.\n",
      "socket.send() raised exception.\n",
      "socket.send() raised exception.\n",
      "socket.send() raised exception.\n",
      "socket.send() raised exception.\n",
      "socket.send() raised exception.\n",
      "socket.send() raised exception.\n",
      "socket.send() raised exception.\n",
      "socket.send() raised exception.\n",
      "socket.send() raised exception.\n",
      "socket.send() raised exception.\n",
      "socket.send() raised exception.\n",
      "socket.send() raised exception.\n",
      "socket.send() raised exception.\n",
      "socket.send() raised exception.\n",
      "socket.send() raised exception.\n",
      "socket.send() raised exception.\n",
      "socket.send() raised exception.\n",
      "socket.send() raised exception.\n",
      "socket.send() raised exception.\n",
      "socket.send() raised exception.\n",
      "socket.send() raised exception.\n",
      "socket.send() raised exception.\n",
      "socket.send() raised exception.\n",
      "socket.send() raised exception.\n",
      "socket.send() raised exception.\n",
      "socket.send() raised exception.\n",
      "socket.send() raised exception.\n",
      "socket.send() raised exception.\n",
      "socket.send() raised exception.\n",
      "socket.send() raised exception.\n",
      "socket.send() raised exception.\n",
      "socket.send() raised exception.\n",
      "socket.send() raised exception.\n",
      "socket.send() raised exception.\n",
      "socket.send() raised exception.\n",
      "socket.send() raised exception.\n",
      "socket.send() raised exception.\n",
      "socket.send() raised exception.\n",
      "socket.send() raised exception.\n",
      "socket.send() raised exception.\n",
      "socket.send() raised exception.\n",
      "socket.send() raised exception.\n",
      "socket.send() raised exception.\n",
      "socket.send() raised exception.\n",
      "socket.send() raised exception.\n",
      "socket.send() raised exception.\n",
      "socket.send() raised exception.\n",
      "socket.send() raised exception.\n",
      "socket.send() raised exception.\n",
      "socket.send() raised exception.\n",
      "socket.send() raised exception.\n",
      "socket.send() raised exception.\n",
      "socket.send() raised exception.\n",
      "socket.send() raised exception.\n",
      "socket.send() raised exception.\n",
      "socket.send() raised exception.\n",
      "socket.send() raised exception.\n",
      "socket.send() raised exception.\n",
      "socket.send() raised exception.\n",
      "socket.send() raised exception.\n",
      "socket.send() raised exception.\n",
      "socket.send() raised exception.\n",
      "socket.send() raised exception.\n",
      "socket.send() raised exception.\n",
      "socket.send() raised exception.\n",
      "socket.send() raised exception.\n",
      "socket.send() raised exception.\n",
      "socket.send() raised exception.\n",
      "socket.send() raised exception.\n",
      "socket.send() raised exception.\n",
      "socket.send() raised exception.\n",
      "socket.send() raised exception.\n",
      "socket.send() raised exception.\n",
      "socket.send() raised exception.\n",
      "socket.send() raised exception.\n",
      "socket.send() raised exception.\n",
      "socket.send() raised exception.\n",
      "socket.send() raised exception.\n",
      "socket.send() raised exception.\n",
      "socket.send() raised exception.\n",
      "socket.send() raised exception.\n",
      "socket.send() raised exception.\n",
      "socket.send() raised exception.\n",
      "socket.send() raised exception.\n",
      "socket.send() raised exception.\n",
      "socket.send() raised exception.\n",
      "socket.send() raised exception.\n",
      "socket.send() raised exception.\n",
      "socket.send() raised exception.\n",
      "socket.send() raised exception.\n",
      "socket.send() raised exception.\n",
      "socket.send() raised exception.\n",
      "socket.send() raised exception.\n",
      "socket.send() raised exception.\n",
      "socket.send() raised exception.\n",
      "socket.send() raised exception.\n",
      "socket.send() raised exception.\n",
      "socket.send() raised exception.\n",
      "socket.send() raised exception.\n",
      "socket.send() raised exception.\n",
      "socket.send() raised exception.\n",
      "socket.send() raised exception.\n",
      "socket.send() raised exception.\n",
      "socket.send() raised exception.\n",
      "socket.send() raised exception.\n",
      "socket.send() raised exception.\n",
      "socket.send() raised exception.\n",
      "socket.send() raised exception.\n",
      "socket.send() raised exception.\n",
      "socket.send() raised exception.\n",
      "socket.send() raised exception.\n",
      "socket.send() raised exception.\n",
      "socket.send() raised exception.\n",
      "socket.send() raised exception.\n",
      "socket.send() raised exception.\n",
      "socket.send() raised exception.\n",
      "socket.send() raised exception.\n",
      "socket.send() raised exception.\n",
      "socket.send() raised exception.\n",
      "socket.send() raised exception.\n",
      "socket.send() raised exception.\n",
      "socket.send() raised exception.\n",
      "socket.send() raised exception.\n",
      "socket.send() raised exception.\n",
      "socket.send() raised exception.\n",
      "socket.send() raised exception.\n",
      "socket.send() raised exception.\n",
      "socket.send() raised exception.\n",
      "socket.send() raised exception.\n",
      "socket.send() raised exception.\n",
      "socket.send() raised exception.\n",
      "socket.send() raised exception.\n",
      "socket.send() raised exception.\n",
      "socket.send() raised exception.\n",
      "socket.send() raised exception.\n",
      "socket.send() raised exception.\n",
      "socket.send() raised exception.\n",
      "socket.send() raised exception.\n",
      "socket.send() raised exception.\n",
      "socket.send() raised exception.\n",
      "socket.send() raised exception.\n",
      "socket.send() raised exception.\n",
      "socket.send() raised exception.\n",
      "socket.send() raised exception.\n",
      "socket.send() raised exception.\n",
      "socket.send() raised exception.\n",
      "socket.send() raised exception.\n",
      "socket.send() raised exception.\n",
      "socket.send() raised exception.\n",
      "socket.send() raised exception.\n",
      "socket.send() raised exception.\n",
      "socket.send() raised exception.\n",
      "socket.send() raised exception.\n",
      "socket.send() raised exception.\n",
      "socket.send() raised exception.\n",
      "socket.send() raised exception.\n",
      "socket.send() raised exception.\n",
      "socket.send() raised exception.\n",
      "socket.send() raised exception.\n",
      "socket.send() raised exception.\n",
      "socket.send() raised exception.\n",
      "socket.send() raised exception.\n",
      "socket.send() raised exception.\n",
      "socket.send() raised exception.\n",
      "socket.send() raised exception.\n",
      "socket.send() raised exception.\n",
      "socket.send() raised exception.\n",
      "socket.send() raised exception.\n",
      "socket.send() raised exception.\n",
      "socket.send() raised exception.\n",
      "socket.send() raised exception.\n",
      "socket.send() raised exception.\n",
      "socket.send() raised exception.\n",
      "socket.send() raised exception.\n",
      "socket.send() raised exception.\n",
      "socket.send() raised exception.\n",
      "socket.send() raised exception.\n",
      "socket.send() raised exception.\n",
      "socket.send() raised exception.\n",
      "socket.send() raised exception.\n",
      "socket.send() raised exception.\n",
      "socket.send() raised exception.\n",
      "socket.send() raised exception.\n",
      "socket.send() raised exception.\n",
      "socket.send() raised exception.\n",
      "socket.send() raised exception.\n",
      "socket.send() raised exception.\n",
      "socket.send() raised exception.\n",
      "socket.send() raised exception.\n",
      "socket.send() raised exception.\n",
      "socket.send() raised exception.\n",
      "socket.send() raised exception.\n",
      "socket.send() raised exception.\n",
      "socket.send() raised exception.\n",
      "socket.send() raised exception.\n",
      "socket.send() raised exception.\n",
      "socket.send() raised exception.\n",
      "socket.send() raised exception.\n",
      "socket.send() raised exception.\n",
      "socket.send() raised exception.\n",
      "socket.send() raised exception.\n",
      "socket.send() raised exception.\n",
      "socket.send() raised exception.\n",
      "socket.send() raised exception.\n",
      "socket.send() raised exception.\n",
      "socket.send() raised exception.\n",
      "socket.send() raised exception.\n",
      "socket.send() raised exception.\n",
      "socket.send() raised exception.\n",
      "socket.send() raised exception.\n",
      "socket.send() raised exception.\n",
      "socket.send() raised exception.\n",
      "socket.send() raised exception.\n",
      "socket.send() raised exception.\n",
      "socket.send() raised exception.\n",
      "socket.send() raised exception.\n",
      "socket.send() raised exception.\n",
      "socket.send() raised exception.\n",
      "socket.send() raised exception.\n",
      "socket.send() raised exception.\n",
      "socket.send() raised exception.\n",
      "socket.send() raised exception.\n",
      "socket.send() raised exception.\n",
      "socket.send() raised exception.\n",
      "socket.send() raised exception.\n",
      "socket.send() raised exception.\n",
      "socket.send() raised exception.\n",
      "socket.send() raised exception.\n",
      "socket.send() raised exception.\n",
      "socket.send() raised exception.\n",
      "socket.send() raised exception.\n",
      "socket.send() raised exception.\n",
      "socket.send() raised exception.\n",
      "socket.send() raised exception.\n",
      "socket.send() raised exception.\n",
      "socket.send() raised exception.\n",
      "socket.send() raised exception.\n",
      "socket.send() raised exception.\n",
      "socket.send() raised exception.\n",
      "socket.send() raised exception.\n",
      "socket.send() raised exception.\n",
      "socket.send() raised exception.\n",
      "socket.send() raised exception.\n",
      "socket.send() raised exception.\n",
      "socket.send() raised exception.\n",
      "socket.send() raised exception.\n",
      "socket.send() raised exception.\n",
      "socket.send() raised exception.\n",
      "socket.send() raised exception.\n",
      "socket.send() raised exception.\n",
      "socket.send() raised exception.\n",
      "socket.send() raised exception.\n",
      "socket.send() raised exception.\n",
      "socket.send() raised exception.\n",
      "socket.send() raised exception.\n",
      "socket.send() raised exception.\n",
      "socket.send() raised exception.\n",
      "socket.send() raised exception.\n",
      "socket.send() raised exception.\n",
      "socket.send() raised exception.\n",
      "socket.send() raised exception.\n",
      "socket.send() raised exception.\n",
      "socket.send() raised exception.\n",
      "socket.send() raised exception.\n",
      "socket.send() raised exception.\n",
      "socket.send() raised exception.\n",
      "socket.send() raised exception.\n",
      "socket.send() raised exception.\n",
      "socket.send() raised exception.\n",
      "socket.send() raised exception.\n",
      "socket.send() raised exception.\n",
      "socket.send() raised exception.\n",
      "socket.send() raised exception.\n",
      "socket.send() raised exception.\n",
      "socket.send() raised exception.\n",
      "socket.send() raised exception.\n",
      "socket.send() raised exception.\n",
      "socket.send() raised exception.\n",
      "socket.send() raised exception.\n",
      "socket.send() raised exception.\n",
      "socket.send() raised exception.\n",
      "socket.send() raised exception.\n",
      "socket.send() raised exception.\n",
      "socket.send() raised exception.\n",
      "socket.send() raised exception.\n",
      "socket.send() raised exception.\n",
      "socket.send() raised exception.\n",
      "socket.send() raised exception.\n",
      "socket.send() raised exception.\n",
      "socket.send() raised exception.\n",
      "socket.send() raised exception.\n",
      "socket.send() raised exception.\n",
      "socket.send() raised exception.\n",
      "socket.send() raised exception.\n",
      "socket.send() raised exception.\n",
      "socket.send() raised exception.\n",
      "socket.send() raised exception.\n",
      "socket.send() raised exception.\n",
      "socket.send() raised exception.\n",
      "socket.send() raised exception.\n",
      "socket.send() raised exception.\n",
      "socket.send() raised exception.\n",
      "socket.send() raised exception.\n",
      "socket.send() raised exception.\n",
      "socket.send() raised exception.\n",
      "socket.send() raised exception.\n",
      "socket.send() raised exception.\n",
      "socket.send() raised exception.\n",
      "socket.send() raised exception.\n",
      "socket.send() raised exception.\n",
      "socket.send() raised exception.\n",
      "socket.send() raised exception.\n",
      "socket.send() raised exception.\n",
      "socket.send() raised exception.\n",
      "socket.send() raised exception.\n",
      "socket.send() raised exception.\n",
      "socket.send() raised exception.\n",
      "socket.send() raised exception.\n",
      "socket.send() raised exception.\n",
      "socket.send() raised exception.\n",
      "socket.send() raised exception.\n",
      "socket.send() raised exception.\n",
      "socket.send() raised exception.\n",
      "socket.send() raised exception.\n",
      "socket.send() raised exception.\n",
      "socket.send() raised exception.\n",
      "socket.send() raised exception.\n",
      "socket.send() raised exception.\n",
      "socket.send() raised exception.\n",
      "socket.send() raised exception.\n",
      "socket.send() raised exception.\n",
      "socket.send() raised exception.\n",
      "socket.send() raised exception.\n",
      "socket.send() raised exception.\n",
      "socket.send() raised exception.\n",
      "socket.send() raised exception.\n",
      "socket.send() raised exception.\n",
      "socket.send() raised exception.\n",
      "socket.send() raised exception.\n",
      "socket.send() raised exception.\n",
      "socket.send() raised exception.\n",
      "socket.send() raised exception.\n",
      "socket.send() raised exception.\n",
      "socket.send() raised exception.\n",
      "socket.send() raised exception.\n",
      "socket.send() raised exception.\n",
      "socket.send() raised exception.\n",
      "socket.send() raised exception.\n",
      "socket.send() raised exception.\n",
      "socket.send() raised exception.\n",
      "socket.send() raised exception.\n",
      "socket.send() raised exception.\n",
      "socket.send() raised exception.\n",
      "socket.send() raised exception.\n",
      "socket.send() raised exception.\n",
      "socket.send() raised exception.\n",
      "socket.send() raised exception.\n",
      "socket.send() raised exception.\n",
      "socket.send() raised exception.\n",
      "socket.send() raised exception.\n",
      "socket.send() raised exception.\n",
      "socket.send() raised exception.\n",
      "socket.send() raised exception.\n",
      "socket.send() raised exception.\n",
      "socket.send() raised exception.\n",
      "socket.send() raised exception.\n",
      "socket.send() raised exception.\n",
      "socket.send() raised exception.\n",
      "socket.send() raised exception.\n",
      "socket.send() raised exception.\n",
      "socket.send() raised exception.\n",
      "socket.send() raised exception.\n",
      "socket.send() raised exception.\n",
      "socket.send() raised exception.\n",
      "socket.send() raised exception.\n",
      "socket.send() raised exception.\n",
      "socket.send() raised exception.\n",
      "socket.send() raised exception.\n",
      "socket.send() raised exception.\n",
      "socket.send() raised exception.\n",
      "socket.send() raised exception.\n",
      "socket.send() raised exception.\n",
      "socket.send() raised exception.\n",
      "socket.send() raised exception.\n",
      "socket.send() raised exception.\n",
      "socket.send() raised exception.\n",
      "socket.send() raised exception.\n",
      "socket.send() raised exception.\n",
      "socket.send() raised exception.\n",
      "socket.send() raised exception.\n",
      "socket.send() raised exception.\n",
      "socket.send() raised exception.\n",
      "socket.send() raised exception.\n",
      "socket.send() raised exception.\n",
      "socket.send() raised exception.\n",
      "socket.send() raised exception.\n",
      "socket.send() raised exception.\n",
      "socket.send() raised exception.\n",
      "socket.send() raised exception.\n",
      "socket.send() raised exception.\n",
      "socket.send() raised exception.\n",
      "socket.send() raised exception.\n",
      "socket.send() raised exception.\n",
      "socket.send() raised exception.\n",
      "socket.send() raised exception.\n",
      "socket.send() raised exception.\n",
      "socket.send() raised exception.\n",
      "socket.send() raised exception.\n",
      "socket.send() raised exception.\n",
      "socket.send() raised exception.\n",
      "socket.send() raised exception.\n",
      "socket.send() raised exception.\n",
      "socket.send() raised exception.\n",
      "socket.send() raised exception.\n",
      "socket.send() raised exception.\n",
      "socket.send() raised exception.\n",
      "socket.send() raised exception.\n",
      "socket.send() raised exception.\n",
      "socket.send() raised exception.\n",
      "socket.send() raised exception.\n",
      "socket.send() raised exception.\n",
      "socket.send() raised exception.\n",
      "socket.send() raised exception.\n",
      "socket.send() raised exception.\n",
      "socket.send() raised exception.\n",
      "socket.send() raised exception.\n",
      "socket.send() raised exception.\n",
      "socket.send() raised exception.\n",
      "socket.send() raised exception.\n",
      "socket.send() raised exception.\n",
      "socket.send() raised exception.\n",
      "socket.send() raised exception.\n",
      "socket.send() raised exception.\n",
      "socket.send() raised exception.\n",
      "socket.send() raised exception.\n",
      "socket.send() raised exception.\n",
      "socket.send() raised exception.\n",
      "socket.send() raised exception.\n",
      "socket.send() raised exception.\n",
      "socket.send() raised exception.\n",
      "socket.send() raised exception.\n",
      "socket.send() raised exception.\n",
      "socket.send() raised exception.\n",
      "socket.send() raised exception.\n",
      "socket.send() raised exception.\n",
      "socket.send() raised exception.\n",
      "socket.send() raised exception.\n",
      "socket.send() raised exception.\n",
      "socket.send() raised exception.\n",
      "socket.send() raised exception.\n",
      "socket.send() raised exception.\n",
      "socket.send() raised exception.\n",
      "socket.send() raised exception.\n",
      "socket.send() raised exception.\n",
      "socket.send() raised exception.\n",
      "socket.send() raised exception.\n",
      "socket.send() raised exception.\n",
      "socket.send() raised exception.\n",
      "socket.send() raised exception.\n",
      "socket.send() raised exception.\n",
      "socket.send() raised exception.\n",
      "socket.send() raised exception.\n",
      "socket.send() raised exception.\n",
      "socket.send() raised exception.\n",
      "socket.send() raised exception.\n",
      "socket.send() raised exception.\n",
      "socket.send() raised exception.\n",
      "socket.send() raised exception.\n",
      "socket.send() raised exception.\n",
      "socket.send() raised exception.\n",
      "socket.send() raised exception.\n",
      "socket.send() raised exception.\n",
      "socket.send() raised exception.\n",
      "socket.send() raised exception.\n",
      "socket.send() raised exception.\n",
      "socket.send() raised exception.\n",
      "socket.send() raised exception.\n",
      "socket.send() raised exception.\n",
      "socket.send() raised exception.\n",
      "socket.send() raised exception.\n",
      "socket.send() raised exception.\n",
      "socket.send() raised exception.\n",
      "socket.send() raised exception.\n",
      "socket.send() raised exception.\n",
      "socket.send() raised exception.\n",
      "socket.send() raised exception.\n",
      "socket.send() raised exception.\n",
      "socket.send() raised exception.\n",
      "socket.send() raised exception.\n",
      "socket.send() raised exception.\n",
      "socket.send() raised exception.\n",
      "socket.send() raised exception.\n",
      "socket.send() raised exception.\n",
      "socket.send() raised exception.\n",
      "socket.send() raised exception.\n",
      "socket.send() raised exception.\n",
      "socket.send() raised exception.\n",
      "socket.send() raised exception.\n",
      "socket.send() raised exception.\n",
      "socket.send() raised exception.\n",
      "socket.send() raised exception.\n",
      "socket.send() raised exception.\n",
      "socket.send() raised exception.\n",
      "socket.send() raised exception.\n",
      "socket.send() raised exception.\n",
      "socket.send() raised exception.\n",
      "socket.send() raised exception.\n",
      "socket.send() raised exception.\n",
      "socket.send() raised exception.\n",
      "socket.send() raised exception.\n",
      "socket.send() raised exception.\n",
      "socket.send() raised exception.\n",
      "socket.send() raised exception.\n",
      "socket.send() raised exception.\n",
      "socket.send() raised exception.\n",
      "socket.send() raised exception.\n",
      "socket.send() raised exception.\n",
      "socket.send() raised exception.\n",
      "socket.send() raised exception.\n",
      "socket.send() raised exception.\n",
      "socket.send() raised exception.\n",
      "socket.send() raised exception.\n",
      "socket.send() raised exception.\n",
      "socket.send() raised exception.\n",
      "socket.send() raised exception.\n",
      "socket.send() raised exception.\n",
      "socket.send() raised exception.\n",
      "socket.send() raised exception.\n",
      "socket.send() raised exception.\n",
      "socket.send() raised exception.\n",
      "socket.send() raised exception.\n",
      "socket.send() raised exception.\n",
      "socket.send() raised exception.\n",
      "socket.send() raised exception.\n",
      "socket.send() raised exception.\n",
      "socket.send() raised exception.\n",
      "socket.send() raised exception.\n",
      "socket.send() raised exception.\n",
      "socket.send() raised exception.\n",
      "socket.send() raised exception.\n",
      "socket.send() raised exception.\n",
      "socket.send() raised exception.\n",
      "socket.send() raised exception.\n",
      "socket.send() raised exception.\n",
      "socket.send() raised exception.\n",
      "socket.send() raised exception.\n",
      "socket.send() raised exception.\n",
      "socket.send() raised exception.\n",
      "socket.send() raised exception.\n",
      "socket.send() raised exception.\n",
      "socket.send() raised exception.\n",
      "socket.send() raised exception.\n",
      "socket.send() raised exception.\n",
      "socket.send() raised exception.\n",
      "socket.send() raised exception.\n",
      "socket.send() raised exception.\n",
      "socket.send() raised exception.\n",
      "socket.send() raised exception.\n",
      "socket.send() raised exception.\n",
      "socket.send() raised exception.\n",
      "socket.send() raised exception.\n",
      "socket.send() raised exception.\n",
      "socket.send() raised exception.\n",
      "socket.send() raised exception.\n",
      "socket.send() raised exception.\n",
      "socket.send() raised exception.\n",
      "socket.send() raised exception.\n",
      "socket.send() raised exception.\n",
      "socket.send() raised exception.\n",
      "socket.send() raised exception.\n",
      "socket.send() raised exception.\n",
      "socket.send() raised exception.\n",
      "socket.send() raised exception.\n",
      "socket.send() raised exception.\n",
      "socket.send() raised exception.\n",
      "socket.send() raised exception.\n",
      "socket.send() raised exception.\n",
      "socket.send() raised exception.\n",
      "socket.send() raised exception.\n",
      "socket.send() raised exception.\n",
      "socket.send() raised exception.\n",
      "socket.send() raised exception.\n",
      "socket.send() raised exception.\n",
      "socket.send() raised exception.\n",
      "socket.send() raised exception.\n",
      "socket.send() raised exception.\n",
      "socket.send() raised exception.\n",
      "socket.send() raised exception.\n",
      "socket.send() raised exception.\n",
      "socket.send() raised exception.\n",
      "socket.send() raised exception.\n",
      "socket.send() raised exception.\n",
      "socket.send() raised exception.\n",
      "socket.send() raised exception.\n",
      "socket.send() raised exception.\n",
      "socket.send() raised exception.\n",
      "socket.send() raised exception.\n",
      "socket.send() raised exception.\n",
      "socket.send() raised exception.\n",
      "socket.send() raised exception.\n",
      "socket.send() raised exception.\n",
      "socket.send() raised exception.\n",
      "socket.send() raised exception.\n",
      "socket.send() raised exception.\n",
      "socket.send() raised exception.\n",
      "socket.send() raised exception.\n",
      "socket.send() raised exception.\n",
      "socket.send() raised exception.\n",
      "socket.send() raised exception.\n",
      "socket.send() raised exception.\n",
      "socket.send() raised exception.\n",
      "socket.send() raised exception.\n",
      "socket.send() raised exception.\n",
      "socket.send() raised exception.\n",
      "socket.send() raised exception.\n",
      "socket.send() raised exception.\n",
      "socket.send() raised exception.\n",
      "socket.send() raised exception.\n",
      "socket.send() raised exception.\n",
      "socket.send() raised exception.\n",
      "socket.send() raised exception.\n",
      "socket.send() raised exception.\n",
      "socket.send() raised exception.\n",
      "socket.send() raised exception.\n",
      "socket.send() raised exception.\n",
      "socket.send() raised exception.\n",
      "socket.send() raised exception.\n",
      "socket.send() raised exception.\n",
      "socket.send() raised exception.\n",
      "socket.send() raised exception.\n",
      "socket.send() raised exception.\n",
      "socket.send() raised exception.\n",
      "socket.send() raised exception.\n",
      "socket.send() raised exception.\n",
      "socket.send() raised exception.\n",
      "socket.send() raised exception.\n",
      "socket.send() raised exception.\n",
      "socket.send() raised exception.\n",
      "socket.send() raised exception.\n",
      "socket.send() raised exception.\n",
      "socket.send() raised exception.\n",
      "socket.send() raised exception.\n",
      "socket.send() raised exception.\n",
      "socket.send() raised exception.\n",
      "socket.send() raised exception.\n",
      "socket.send() raised exception.\n",
      "socket.send() raised exception.\n",
      "socket.send() raised exception.\n",
      "socket.send() raised exception.\n",
      "socket.send() raised exception.\n",
      "socket.send() raised exception.\n",
      "socket.send() raised exception.\n",
      "socket.send() raised exception.\n",
      "socket.send() raised exception.\n",
      "socket.send() raised exception.\n",
      "socket.send() raised exception.\n",
      "socket.send() raised exception.\n",
      "socket.send() raised exception.\n",
      "socket.send() raised exception.\n",
      "socket.send() raised exception.\n",
      "socket.send() raised exception.\n",
      "socket.send() raised exception.\n",
      "socket.send() raised exception.\n",
      "socket.send() raised exception.\n",
      "socket.send() raised exception.\n",
      "socket.send() raised exception.\n",
      "socket.send() raised exception.\n",
      "socket.send() raised exception.\n",
      "socket.send() raised exception.\n",
      "socket.send() raised exception.\n",
      "socket.send() raised exception.\n",
      "socket.send() raised exception.\n",
      "socket.send() raised exception.\n",
      "socket.send() raised exception.\n",
      "socket.send() raised exception.\n",
      "socket.send() raised exception.\n",
      "socket.send() raised exception.\n",
      "socket.send() raised exception.\n",
      "socket.send() raised exception.\n",
      "socket.send() raised exception.\n",
      "socket.send() raised exception.\n",
      "socket.send() raised exception.\n",
      "socket.send() raised exception.\n",
      "socket.send() raised exception.\n",
      "socket.send() raised exception.\n",
      "socket.send() raised exception.\n",
      "socket.send() raised exception.\n",
      "socket.send() raised exception.\n",
      "socket.send() raised exception.\n",
      "socket.send() raised exception.\n",
      "socket.send() raised exception.\n",
      "socket.send() raised exception.\n",
      "socket.send() raised exception.\n",
      "socket.send() raised exception.\n",
      "socket.send() raised exception.\n",
      "socket.send() raised exception.\n",
      "socket.send() raised exception.\n",
      "socket.send() raised exception.\n",
      "socket.send() raised exception.\n",
      "socket.send() raised exception.\n",
      "socket.send() raised exception.\n",
      "socket.send() raised exception.\n",
      "socket.send() raised exception.\n",
      "socket.send() raised exception.\n",
      "socket.send() raised exception.\n",
      "socket.send() raised exception.\n",
      "socket.send() raised exception.\n",
      "socket.send() raised exception.\n",
      "socket.send() raised exception.\n",
      "socket.send() raised exception.\n",
      "socket.send() raised exception.\n",
      "socket.send() raised exception.\n",
      "socket.send() raised exception.\n",
      "socket.send() raised exception.\n",
      "socket.send() raised exception.\n",
      "socket.send() raised exception.\n",
      "socket.send() raised exception.\n",
      "socket.send() raised exception.\n",
      "socket.send() raised exception.\n",
      "socket.send() raised exception.\n",
      "socket.send() raised exception.\n",
      "socket.send() raised exception.\n",
      "socket.send() raised exception.\n",
      "socket.send() raised exception.\n",
      "socket.send() raised exception.\n",
      "socket.send() raised exception.\n",
      "socket.send() raised exception.\n",
      "socket.send() raised exception.\n",
      "socket.send() raised exception.\n",
      "socket.send() raised exception.\n",
      "socket.send() raised exception.\n",
      "socket.send() raised exception.\n",
      "socket.send() raised exception.\n",
      "socket.send() raised exception.\n",
      "socket.send() raised exception.\n",
      "socket.send() raised exception.\n",
      "socket.send() raised exception.\n",
      "socket.send() raised exception.\n",
      "socket.send() raised exception.\n",
      "socket.send() raised exception.\n",
      "socket.send() raised exception.\n",
      "socket.send() raised exception.\n",
      "socket.send() raised exception.\n",
      "socket.send() raised exception.\n",
      "socket.send() raised exception.\n",
      "socket.send() raised exception.\n",
      "socket.send() raised exception.\n",
      "socket.send() raised exception.\n",
      "socket.send() raised exception.\n",
      "socket.send() raised exception.\n",
      "socket.send() raised exception.\n",
      "socket.send() raised exception.\n",
      "socket.send() raised exception.\n",
      "socket.send() raised exception.\n",
      "socket.send() raised exception.\n",
      "socket.send() raised exception.\n",
      "socket.send() raised exception.\n",
      "socket.send() raised exception.\n",
      "socket.send() raised exception.\n",
      "socket.send() raised exception.\n",
      "socket.send() raised exception.\n",
      "socket.send() raised exception.\n",
      "socket.send() raised exception.\n",
      "socket.send() raised exception.\n",
      "socket.send() raised exception.\n",
      "socket.send() raised exception.\n",
      "socket.send() raised exception.\n",
      "socket.send() raised exception.\n",
      "socket.send() raised exception.\n",
      "socket.send() raised exception.\n",
      "socket.send() raised exception.\n",
      "socket.send() raised exception.\n",
      "socket.send() raised exception.\n",
      "socket.send() raised exception.\n",
      "socket.send() raised exception.\n",
      "socket.send() raised exception.\n",
      "socket.send() raised exception.\n",
      "socket.send() raised exception.\n",
      "socket.send() raised exception.\n",
      "socket.send() raised exception.\n",
      "socket.send() raised exception.\n",
      "socket.send() raised exception.\n",
      "socket.send() raised exception.\n",
      "socket.send() raised exception.\n",
      "socket.send() raised exception.\n",
      "socket.send() raised exception.\n",
      "socket.send() raised exception.\n",
      "socket.send() raised exception.\n",
      "socket.send() raised exception.\n",
      "socket.send() raised exception.\n",
      "socket.send() raised exception.\n",
      "socket.send() raised exception.\n",
      "socket.send() raised exception.\n",
      "socket.send() raised exception.\n",
      "socket.send() raised exception.\n",
      "socket.send() raised exception.\n",
      "socket.send() raised exception.\n",
      "socket.send() raised exception.\n",
      "socket.send() raised exception.\n",
      "socket.send() raised exception.\n",
      "socket.send() raised exception.\n",
      "socket.send() raised exception.\n",
      "socket.send() raised exception.\n",
      "socket.send() raised exception.\n",
      "socket.send() raised exception.\n",
      "socket.send() raised exception.\n",
      "socket.send() raised exception.\n",
      "socket.send() raised exception.\n",
      "socket.send() raised exception.\n",
      "socket.send() raised exception.\n",
      "socket.send() raised exception.\n",
      "socket.send() raised exception.\n",
      "socket.send() raised exception.\n",
      "socket.send() raised exception.\n",
      "socket.send() raised exception.\n",
      "socket.send() raised exception.\n",
      "socket.send() raised exception.\n",
      "socket.send() raised exception.\n",
      "socket.send() raised exception.\n",
      "socket.send() raised exception.\n",
      "socket.send() raised exception.\n",
      "socket.send() raised exception.\n",
      "socket.send() raised exception.\n",
      "socket.send() raised exception.\n",
      "socket.send() raised exception.\n",
      "socket.send() raised exception.\n",
      "socket.send() raised exception.\n",
      "socket.send() raised exception.\n",
      "socket.send() raised exception.\n",
      "socket.send() raised exception.\n",
      "socket.send() raised exception.\n",
      "socket.send() raised exception.\n",
      "socket.send() raised exception.\n",
      "socket.send() raised exception.\n",
      "socket.send() raised exception.\n",
      "socket.send() raised exception.\n",
      "socket.send() raised exception.\n",
      "socket.send() raised exception.\n",
      "socket.send() raised exception.\n",
      "socket.send() raised exception.\n",
      "socket.send() raised exception.\n",
      "socket.send() raised exception.\n",
      "socket.send() raised exception.\n",
      "socket.send() raised exception.\n",
      "socket.send() raised exception.\n",
      "socket.send() raised exception.\n",
      "socket.send() raised exception.\n",
      "socket.send() raised exception.\n",
      "socket.send() raised exception.\n",
      "socket.send() raised exception.\n",
      "socket.send() raised exception.\n",
      "socket.send() raised exception.\n",
      "socket.send() raised exception.\n",
      "socket.send() raised exception.\n",
      "socket.send() raised exception.\n",
      "socket.send() raised exception.\n",
      "socket.send() raised exception.\n",
      "socket.send() raised exception.\n",
      "socket.send() raised exception.\n",
      "socket.send() raised exception.\n",
      "socket.send() raised exception.\n",
      "socket.send() raised exception.\n",
      "socket.send() raised exception.\n",
      "socket.send() raised exception.\n",
      "socket.send() raised exception.\n",
      "socket.send() raised exception.\n",
      "socket.send() raised exception.\n",
      "socket.send() raised exception.\n",
      "socket.send() raised exception.\n",
      "socket.send() raised exception.\n",
      "socket.send() raised exception.\n",
      "socket.send() raised exception.\n",
      "socket.send() raised exception.\n",
      "socket.send() raised exception.\n",
      "socket.send() raised exception.\n",
      "socket.send() raised exception.\n",
      "socket.send() raised exception.\n",
      "socket.send() raised exception.\n",
      "socket.send() raised exception.\n",
      "socket.send() raised exception.\n",
      "socket.send() raised exception.\n",
      "socket.send() raised exception.\n",
      "socket.send() raised exception.\n",
      "socket.send() raised exception.\n",
      "socket.send() raised exception.\n",
      "socket.send() raised exception.\n",
      "socket.send() raised exception.\n",
      "socket.send() raised exception.\n",
      "socket.send() raised exception.\n",
      "socket.send() raised exception.\n",
      "socket.send() raised exception.\n",
      "socket.send() raised exception.\n",
      "socket.send() raised exception.\n",
      "socket.send() raised exception.\n",
      "socket.send() raised exception.\n",
      "socket.send() raised exception.\n",
      "socket.send() raised exception.\n",
      "socket.send() raised exception.\n",
      "socket.send() raised exception.\n",
      "socket.send() raised exception.\n",
      "socket.send() raised exception.\n",
      "socket.send() raised exception.\n",
      "socket.send() raised exception.\n",
      "socket.send() raised exception.\n",
      "socket.send() raised exception.\n",
      "socket.send() raised exception.\n",
      "socket.send() raised exception.\n",
      "socket.send() raised exception.\n",
      "socket.send() raised exception.\n",
      "socket.send() raised exception.\n",
      "socket.send() raised exception.\n",
      "socket.send() raised exception.\n",
      "socket.send() raised exception.\n",
      "socket.send() raised exception.\n",
      "socket.send() raised exception.\n",
      "socket.send() raised exception.\n",
      "socket.send() raised exception.\n",
      "socket.send() raised exception.\n",
      "socket.send() raised exception.\n",
      "socket.send() raised exception.\n",
      "socket.send() raised exception.\n",
      "socket.send() raised exception.\n",
      "socket.send() raised exception.\n",
      "socket.send() raised exception.\n",
      "socket.send() raised exception.\n",
      "socket.send() raised exception.\n",
      "socket.send() raised exception.\n",
      "socket.send() raised exception.\n",
      "socket.send() raised exception.\n",
      "socket.send() raised exception.\n",
      "socket.send() raised exception.\n",
      "socket.send() raised exception.\n",
      "socket.send() raised exception.\n",
      "socket.send() raised exception.\n",
      "socket.send() raised exception.\n",
      "socket.send() raised exception.\n",
      "socket.send() raised exception.\n",
      "socket.send() raised exception.\n",
      "socket.send() raised exception.\n",
      "socket.send() raised exception.\n",
      "socket.send() raised exception.\n",
      "socket.send() raised exception.\n",
      "socket.send() raised exception.\n",
      "socket.send() raised exception.\n",
      "socket.send() raised exception.\n",
      "socket.send() raised exception.\n",
      "socket.send() raised exception.\n",
      "socket.send() raised exception.\n",
      "socket.send() raised exception.\n",
      "socket.send() raised exception.\n",
      "socket.send() raised exception.\n",
      "socket.send() raised exception.\n",
      "socket.send() raised exception.\n",
      "socket.send() raised exception.\n",
      "socket.send() raised exception.\n",
      "socket.send() raised exception.\n",
      "socket.send() raised exception.\n",
      "socket.send() raised exception.\n",
      "socket.send() raised exception.\n",
      "socket.send() raised exception.\n",
      "socket.send() raised exception.\n",
      "socket.send() raised exception.\n",
      "socket.send() raised exception.\n",
      "socket.send() raised exception.\n",
      "socket.send() raised exception.\n",
      "socket.send() raised exception.\n",
      "socket.send() raised exception.\n",
      "socket.send() raised exception.\n",
      "socket.send() raised exception.\n",
      "socket.send() raised exception.\n",
      "socket.send() raised exception.\n",
      "socket.send() raised exception.\n",
      "socket.send() raised exception.\n",
      "socket.send() raised exception.\n",
      "socket.send() raised exception.\n",
      "socket.send() raised exception.\n",
      "socket.send() raised exception.\n",
      "socket.send() raised exception.\n",
      "socket.send() raised exception.\n",
      "socket.send() raised exception.\n",
      "socket.send() raised exception.\n",
      "socket.send() raised exception.\n",
      "socket.send() raised exception.\n",
      "socket.send() raised exception.\n",
      "socket.send() raised exception.\n",
      "socket.send() raised exception.\n",
      "socket.send() raised exception.\n",
      "socket.send() raised exception.\n",
      "socket.send() raised exception.\n",
      "socket.send() raised exception.\n",
      "socket.send() raised exception.\n",
      "socket.send() raised exception.\n",
      "socket.send() raised exception.\n",
      "socket.send() raised exception.\n",
      "socket.send() raised exception.\n",
      "socket.send() raised exception.\n",
      "socket.send() raised exception.\n",
      "socket.send() raised exception.\n",
      "socket.send() raised exception.\n",
      "socket.send() raised exception.\n",
      "socket.send() raised exception.\n",
      "socket.send() raised exception.\n",
      "socket.send() raised exception.\n",
      "socket.send() raised exception.\n",
      "socket.send() raised exception.\n",
      "socket.send() raised exception.\n",
      "socket.send() raised exception.\n",
      "socket.send() raised exception.\n",
      "socket.send() raised exception.\n",
      "socket.send() raised exception.\n",
      "socket.send() raised exception.\n",
      "socket.send() raised exception.\n",
      "socket.send() raised exception.\n",
      "socket.send() raised exception.\n",
      "socket.send() raised exception.\n",
      "socket.send() raised exception.\n",
      "socket.send() raised exception.\n",
      "socket.send() raised exception.\n",
      "socket.send() raised exception.\n",
      "socket.send() raised exception.\n",
      "socket.send() raised exception.\n",
      "socket.send() raised exception.\n",
      "socket.send() raised exception.\n",
      "socket.send() raised exception.\n",
      "socket.send() raised exception.\n",
      "socket.send() raised exception.\n",
      "socket.send() raised exception.\n",
      "socket.send() raised exception.\n",
      "socket.send() raised exception.\n",
      "socket.send() raised exception.\n",
      "socket.send() raised exception.\n",
      "socket.send() raised exception.\n",
      "socket.send() raised exception.\n",
      "socket.send() raised exception.\n",
      "socket.send() raised exception.\n",
      "socket.send() raised exception.\n",
      "socket.send() raised exception.\n",
      "socket.send() raised exception.\n",
      "socket.send() raised exception.\n",
      "socket.send() raised exception.\n",
      "socket.send() raised exception.\n",
      "socket.send() raised exception.\n",
      "socket.send() raised exception.\n",
      "socket.send() raised exception.\n",
      "socket.send() raised exception.\n",
      "socket.send() raised exception.\n",
      "socket.send() raised exception.\n",
      "socket.send() raised exception.\n",
      "socket.send() raised exception.\n",
      "socket.send() raised exception.\n",
      "socket.send() raised exception.\n",
      "socket.send() raised exception.\n",
      "socket.send() raised exception.\n",
      "socket.send() raised exception.\n",
      "socket.send() raised exception.\n",
      "socket.send() raised exception.\n",
      "socket.send() raised exception.\n",
      "socket.send() raised exception.\n",
      "socket.send() raised exception.\n",
      "socket.send() raised exception.\n",
      "socket.send() raised exception.\n",
      "socket.send() raised exception.\n",
      "socket.send() raised exception.\n",
      "socket.send() raised exception.\n",
      "socket.send() raised exception.\n",
      "socket.send() raised exception.\n",
      "socket.send() raised exception.\n",
      "socket.send() raised exception.\n",
      "socket.send() raised exception.\n",
      "socket.send() raised exception.\n",
      "socket.send() raised exception.\n",
      "socket.send() raised exception.\n",
      "socket.send() raised exception.\n",
      "socket.send() raised exception.\n",
      "socket.send() raised exception.\n",
      "socket.send() raised exception.\n",
      "socket.send() raised exception.\n",
      "socket.send() raised exception.\n",
      "socket.send() raised exception.\n",
      "socket.send() raised exception.\n",
      "socket.send() raised exception.\n",
      "socket.send() raised exception.\n",
      "socket.send() raised exception.\n",
      "socket.send() raised exception.\n",
      "socket.send() raised exception.\n",
      "socket.send() raised exception.\n",
      "socket.send() raised exception.\n",
      "socket.send() raised exception.\n",
      "socket.send() raised exception.\n",
      "socket.send() raised exception.\n",
      "socket.send() raised exception.\n",
      "socket.send() raised exception.\n",
      "socket.send() raised exception.\n",
      "socket.send() raised exception.\n",
      "socket.send() raised exception.\n",
      "socket.send() raised exception.\n",
      "socket.send() raised exception.\n",
      "socket.send() raised exception.\n",
      "socket.send() raised exception.\n",
      "socket.send() raised exception.\n",
      "socket.send() raised exception.\n",
      "socket.send() raised exception.\n",
      "socket.send() raised exception.\n",
      "socket.send() raised exception.\n",
      "socket.send() raised exception.\n",
      "socket.send() raised exception.\n",
      "socket.send() raised exception.\n",
      "socket.send() raised exception.\n",
      "socket.send() raised exception.\n",
      "socket.send() raised exception.\n",
      "socket.send() raised exception.\n",
      "socket.send() raised exception.\n",
      "socket.send() raised exception.\n",
      "socket.send() raised exception.\n",
      "socket.send() raised exception.\n",
      "socket.send() raised exception.\n",
      "socket.send() raised exception.\n",
      "socket.send() raised exception.\n",
      "socket.send() raised exception.\n",
      "socket.send() raised exception.\n",
      "socket.send() raised exception.\n",
      "socket.send() raised exception.\n",
      "socket.send() raised exception.\n",
      "socket.send() raised exception.\n",
      "socket.send() raised exception.\n",
      "socket.send() raised exception.\n",
      "socket.send() raised exception.\n",
      "socket.send() raised exception.\n",
      "socket.send() raised exception.\n",
      "socket.send() raised exception.\n",
      "socket.send() raised exception.\n",
      "socket.send() raised exception.\n",
      "socket.send() raised exception.\n",
      "socket.send() raised exception.\n",
      "socket.send() raised exception.\n",
      "socket.send() raised exception.\n",
      "socket.send() raised exception.\n",
      "socket.send() raised exception.\n",
      "socket.send() raised exception.\n",
      "socket.send() raised exception.\n",
      "socket.send() raised exception.\n",
      "socket.send() raised exception.\n",
      "socket.send() raised exception.\n",
      "socket.send() raised exception.\n",
      "socket.send() raised exception.\n",
      "socket.send() raised exception.\n",
      "socket.send() raised exception.\n",
      "socket.send() raised exception.\n",
      "socket.send() raised exception.\n",
      "socket.send() raised exception.\n",
      "socket.send() raised exception.\n",
      "socket.send() raised exception.\n",
      "socket.send() raised exception.\n",
      "socket.send() raised exception.\n",
      "socket.send() raised exception.\n",
      "socket.send() raised exception.\n",
      "socket.send() raised exception.\n",
      "socket.send() raised exception.\n",
      "socket.send() raised exception.\n",
      "socket.send() raised exception.\n",
      "socket.send() raised exception.\n",
      "socket.send() raised exception.\n",
      "socket.send() raised exception.\n",
      "socket.send() raised exception.\n",
      "socket.send() raised exception.\n",
      "socket.send() raised exception.\n",
      "socket.send() raised exception.\n",
      "socket.send() raised exception.\n",
      "socket.send() raised exception.\n",
      "socket.send() raised exception.\n",
      "socket.send() raised exception.\n",
      "socket.send() raised exception.\n",
      "socket.send() raised exception.\n",
      "socket.send() raised exception.\n",
      "socket.send() raised exception.\n",
      "socket.send() raised exception.\n",
      "socket.send() raised exception.\n",
      "socket.send() raised exception.\n",
      "socket.send() raised exception.\n",
      "socket.send() raised exception.\n",
      "socket.send() raised exception.\n",
      "socket.send() raised exception.\n",
      "socket.send() raised exception.\n",
      "socket.send() raised exception.\n",
      "socket.send() raised exception.\n",
      "socket.send() raised exception.\n",
      "socket.send() raised exception.\n",
      "socket.send() raised exception.\n",
      "socket.send() raised exception.\n",
      "socket.send() raised exception.\n",
      "socket.send() raised exception.\n",
      "socket.send() raised exception.\n",
      "socket.send() raised exception.\n",
      "socket.send() raised exception.\n",
      "socket.send() raised exception.\n",
      "socket.send() raised exception.\n",
      "socket.send() raised exception.\n",
      "socket.send() raised exception.\n",
      "socket.send() raised exception.\n",
      "socket.send() raised exception.\n",
      "socket.send() raised exception.\n",
      "socket.send() raised exception.\n",
      "socket.send() raised exception.\n",
      "socket.send() raised exception.\n",
      "socket.send() raised exception.\n",
      "socket.send() raised exception.\n",
      "socket.send() raised exception.\n",
      "socket.send() raised exception.\n",
      "socket.send() raised exception.\n",
      "socket.send() raised exception.\n",
      "socket.send() raised exception.\n",
      "socket.send() raised exception.\n",
      "socket.send() raised exception.\n",
      "socket.send() raised exception.\n",
      "socket.send() raised exception.\n",
      "socket.send() raised exception.\n",
      "socket.send() raised exception.\n",
      "socket.send() raised exception.\n",
      "socket.send() raised exception.\n",
      "socket.send() raised exception.\n",
      "socket.send() raised exception.\n",
      "socket.send() raised exception.\n",
      "socket.send() raised exception.\n",
      "socket.send() raised exception.\n",
      "socket.send() raised exception.\n",
      "socket.send() raised exception.\n",
      "socket.send() raised exception.\n",
      "socket.send() raised exception.\n",
      "socket.send() raised exception.\n",
      "socket.send() raised exception.\n",
      "socket.send() raised exception.\n",
      "socket.send() raised exception.\n",
      "socket.send() raised exception.\n",
      "socket.send() raised exception.\n",
      "socket.send() raised exception.\n",
      "socket.send() raised exception.\n",
      "socket.send() raised exception.\n",
      "socket.send() raised exception.\n",
      "socket.send() raised exception.\n",
      "socket.send() raised exception.\n",
      "socket.send() raised exception.\n",
      "socket.send() raised exception.\n",
      "socket.send() raised exception.\n",
      "socket.send() raised exception.\n",
      "socket.send() raised exception.\n",
      "socket.send() raised exception.\n",
      "socket.send() raised exception.\n",
      "socket.send() raised exception.\n",
      "socket.send() raised exception.\n",
      "socket.send() raised exception.\n",
      "socket.send() raised exception.\n",
      "socket.send() raised exception.\n",
      "socket.send() raised exception.\n",
      "socket.send() raised exception.\n",
      "socket.send() raised exception.\n",
      "socket.send() raised exception.\n",
      "socket.send() raised exception.\n",
      "socket.send() raised exception.\n",
      "socket.send() raised exception.\n",
      "socket.send() raised exception.\n",
      "socket.send() raised exception.\n",
      "socket.send() raised exception.\n",
      "socket.send() raised exception.\n",
      "socket.send() raised exception.\n",
      "socket.send() raised exception.\n",
      "socket.send() raised exception.\n",
      "socket.send() raised exception.\n",
      "socket.send() raised exception.\n",
      "socket.send() raised exception.\n",
      "socket.send() raised exception.\n",
      "socket.send() raised exception.\n",
      "socket.send() raised exception.\n",
      "socket.send() raised exception.\n",
      "socket.send() raised exception.\n",
      "socket.send() raised exception.\n",
      "socket.send() raised exception.\n",
      "socket.send() raised exception.\n",
      "socket.send() raised exception.\n",
      "socket.send() raised exception.\n",
      "socket.send() raised exception.\n",
      "socket.send() raised exception.\n",
      "socket.send() raised exception.\n",
      "socket.send() raised exception.\n",
      "socket.send() raised exception.\n",
      "socket.send() raised exception.\n",
      "socket.send() raised exception.\n",
      "socket.send() raised exception.\n",
      "socket.send() raised exception.\n",
      "socket.send() raised exception.\n",
      "socket.send() raised exception.\n",
      "socket.send() raised exception.\n",
      "socket.send() raised exception.\n",
      "socket.send() raised exception.\n",
      "socket.send() raised exception.\n",
      "socket.send() raised exception.\n",
      "socket.send() raised exception.\n",
      "socket.send() raised exception.\n",
      "socket.send() raised exception.\n",
      "socket.send() raised exception.\n",
      "socket.send() raised exception.\n",
      "socket.send() raised exception.\n",
      "socket.send() raised exception.\n",
      "socket.send() raised exception.\n",
      "socket.send() raised exception.\n",
      "socket.send() raised exception.\n",
      "socket.send() raised exception.\n",
      "socket.send() raised exception.\n",
      "socket.send() raised exception.\n",
      "socket.send() raised exception.\n",
      "socket.send() raised exception.\n",
      "socket.send() raised exception.\n",
      "socket.send() raised exception.\n",
      "socket.send() raised exception.\n",
      "socket.send() raised exception.\n",
      "socket.send() raised exception.\n",
      "socket.send() raised exception.\n",
      "socket.send() raised exception.\n",
      "socket.send() raised exception.\n",
      "socket.send() raised exception.\n",
      "socket.send() raised exception.\n",
      "socket.send() raised exception.\n",
      "socket.send() raised exception.\n",
      "socket.send() raised exception.\n",
      "socket.send() raised exception.\n",
      "socket.send() raised exception.\n",
      "socket.send() raised exception.\n",
      "socket.send() raised exception.\n",
      "socket.send() raised exception.\n",
      "socket.send() raised exception.\n",
      "socket.send() raised exception.\n",
      "socket.send() raised exception.\n",
      "socket.send() raised exception.\n",
      "socket.send() raised exception.\n",
      "socket.send() raised exception.\n",
      "socket.send() raised exception.\n",
      "socket.send() raised exception.\n",
      "socket.send() raised exception.\n",
      "socket.send() raised exception.\n",
      "socket.send() raised exception.\n",
      "socket.send() raised exception.\n",
      "socket.send() raised exception.\n",
      "socket.send() raised exception.\n",
      "socket.send() raised exception.\n",
      "socket.send() raised exception.\n",
      "socket.send() raised exception.\n",
      "socket.send() raised exception.\n",
      "socket.send() raised exception.\n",
      "socket.send() raised exception.\n",
      "socket.send() raised exception.\n",
      "socket.send() raised exception.\n",
      "socket.send() raised exception.\n",
      "socket.send() raised exception.\n",
      "socket.send() raised exception.\n",
      "socket.send() raised exception.\n",
      "socket.send() raised exception.\n",
      "socket.send() raised exception.\n",
      "socket.send() raised exception.\n",
      "socket.send() raised exception.\n",
      "socket.send() raised exception.\n",
      "socket.send() raised exception.\n",
      "socket.send() raised exception.\n",
      "socket.send() raised exception.\n",
      "socket.send() raised exception.\n",
      "socket.send() raised exception.\n",
      "socket.send() raised exception.\n",
      "socket.send() raised exception.\n",
      "socket.send() raised exception.\n",
      "socket.send() raised exception.\n",
      "socket.send() raised exception.\n",
      "socket.send() raised exception.\n",
      "socket.send() raised exception.\n",
      "socket.send() raised exception.\n",
      "socket.send() raised exception.\n",
      "socket.send() raised exception.\n",
      "socket.send() raised exception.\n",
      "socket.send() raised exception.\n",
      "socket.send() raised exception.\n",
      "socket.send() raised exception.\n",
      "socket.send() raised exception.\n",
      "socket.send() raised exception.\n",
      "socket.send() raised exception.\n",
      "socket.send() raised exception.\n",
      "socket.send() raised exception.\n",
      "socket.send() raised exception.\n",
      "socket.send() raised exception.\n",
      "socket.send() raised exception.\n",
      "socket.send() raised exception.\n",
      "socket.send() raised exception.\n",
      "socket.send() raised exception.\n",
      "socket.send() raised exception.\n",
      "socket.send() raised exception.\n",
      "socket.send() raised exception.\n",
      "socket.send() raised exception.\n",
      "socket.send() raised exception.\n",
      "socket.send() raised exception.\n",
      "socket.send() raised exception.\n",
      "socket.send() raised exception.\n",
      "socket.send() raised exception.\n",
      "socket.send() raised exception.\n",
      "socket.send() raised exception.\n",
      "socket.send() raised exception.\n",
      "socket.send() raised exception.\n",
      "socket.send() raised exception.\n",
      "socket.send() raised exception.\n",
      "socket.send() raised exception.\n",
      "socket.send() raised exception.\n",
      "socket.send() raised exception.\n",
      "socket.send() raised exception.\n",
      "socket.send() raised exception.\n",
      "socket.send() raised exception.\n",
      "socket.send() raised exception.\n",
      "socket.send() raised exception.\n",
      "socket.send() raised exception.\n",
      "socket.send() raised exception.\n",
      "socket.send() raised exception.\n",
      "socket.send() raised exception.\n",
      "socket.send() raised exception.\n",
      "socket.send() raised exception.\n",
      "socket.send() raised exception.\n",
      "socket.send() raised exception.\n",
      "socket.send() raised exception.\n",
      "socket.send() raised exception.\n",
      "socket.send() raised exception.\n",
      "socket.send() raised exception.\n",
      "socket.send() raised exception.\n",
      "socket.send() raised exception.\n",
      "socket.send() raised exception.\n",
      "socket.send() raised exception.\n",
      "socket.send() raised exception.\n",
      "socket.send() raised exception.\n",
      "socket.send() raised exception.\n",
      "socket.send() raised exception.\n",
      "socket.send() raised exception.\n",
      "socket.send() raised exception.\n",
      "socket.send() raised exception.\n",
      "socket.send() raised exception.\n",
      "socket.send() raised exception.\n",
      "socket.send() raised exception.\n",
      "socket.send() raised exception.\n",
      "socket.send() raised exception.\n",
      "socket.send() raised exception.\n",
      "socket.send() raised exception.\n",
      "socket.send() raised exception.\n",
      "socket.send() raised exception.\n",
      "socket.send() raised exception.\n",
      "socket.send() raised exception.\n",
      "socket.send() raised exception.\n",
      "socket.send() raised exception.\n",
      "socket.send() raised exception.\n",
      "socket.send() raised exception.\n",
      "socket.send() raised exception.\n",
      "socket.send() raised exception.\n",
      "socket.send() raised exception.\n",
      "socket.send() raised exception.\n",
      "socket.send() raised exception.\n",
      "socket.send() raised exception.\n",
      "socket.send() raised exception.\n",
      "socket.send() raised exception.\n",
      "socket.send() raised exception.\n",
      "socket.send() raised exception.\n",
      "socket.send() raised exception.\n",
      "socket.send() raised exception.\n",
      "socket.send() raised exception.\n",
      "socket.send() raised exception.\n",
      "socket.send() raised exception.\n",
      "socket.send() raised exception.\n",
      "socket.send() raised exception.\n",
      "socket.send() raised exception.\n",
      "socket.send() raised exception.\n",
      "socket.send() raised exception.\n",
      "socket.send() raised exception.\n",
      "socket.send() raised exception.\n",
      "socket.send() raised exception.\n",
      "socket.send() raised exception.\n",
      "socket.send() raised exception.\n",
      "socket.send() raised exception.\n",
      "socket.send() raised exception.\n",
      "socket.send() raised exception.\n",
      "socket.send() raised exception.\n",
      "socket.send() raised exception.\n",
      "socket.send() raised exception.\n",
      "socket.send() raised exception.\n",
      "socket.send() raised exception.\n",
      "socket.send() raised exception.\n",
      "socket.send() raised exception.\n",
      "socket.send() raised exception.\n",
      "socket.send() raised exception.\n",
      "socket.send() raised exception.\n",
      "socket.send() raised exception.\n",
      "socket.send() raised exception.\n",
      "socket.send() raised exception.\n",
      "socket.send() raised exception.\n",
      "socket.send() raised exception.\n",
      "socket.send() raised exception.\n",
      "socket.send() raised exception.\n",
      "socket.send() raised exception.\n",
      "socket.send() raised exception.\n",
      "socket.send() raised exception.\n",
      "socket.send() raised exception.\n",
      "socket.send() raised exception.\n",
      "socket.send() raised exception.\n",
      "socket.send() raised exception.\n",
      "socket.send() raised exception.\n",
      "socket.send() raised exception.\n",
      "socket.send() raised exception.\n",
      "socket.send() raised exception.\n",
      "socket.send() raised exception.\n",
      "socket.send() raised exception.\n",
      "socket.send() raised exception.\n",
      "socket.send() raised exception.\n",
      "socket.send() raised exception.\n",
      "socket.send() raised exception.\n",
      "socket.send() raised exception.\n",
      "socket.send() raised exception.\n",
      "socket.send() raised exception.\n",
      "socket.send() raised exception.\n",
      "socket.send() raised exception.\n",
      "socket.send() raised exception.\n",
      "socket.send() raised exception.\n",
      "socket.send() raised exception.\n",
      "socket.send() raised exception.\n",
      "socket.send() raised exception.\n",
      "socket.send() raised exception.\n",
      "socket.send() raised exception.\n",
      "socket.send() raised exception.\n",
      "socket.send() raised exception.\n",
      "socket.send() raised exception.\n",
      "socket.send() raised exception.\n",
      "socket.send() raised exception.\n",
      "socket.send() raised exception.\n",
      "socket.send() raised exception.\n",
      "socket.send() raised exception.\n",
      "socket.send() raised exception.\n",
      "socket.send() raised exception.\n",
      "socket.send() raised exception.\n",
      "socket.send() raised exception.\n",
      "socket.send() raised exception.\n",
      "socket.send() raised exception.\n",
      "socket.send() raised exception.\n",
      "socket.send() raised exception.\n",
      "socket.send() raised exception.\n",
      "socket.send() raised exception.\n",
      "socket.send() raised exception.\n",
      "socket.send() raised exception.\n",
      "socket.send() raised exception.\n",
      "socket.send() raised exception.\n",
      "socket.send() raised exception.\n",
      "socket.send() raised exception.\n",
      "socket.send() raised exception.\n",
      "socket.send() raised exception.\n",
      "socket.send() raised exception.\n",
      "socket.send() raised exception.\n",
      "socket.send() raised exception.\n",
      "socket.send() raised exception.\n",
      "socket.send() raised exception.\n",
      "socket.send() raised exception.\n",
      "socket.send() raised exception.\n",
      "socket.send() raised exception.\n",
      "socket.send() raised exception.\n",
      "socket.send() raised exception.\n",
      "socket.send() raised exception.\n",
      "socket.send() raised exception.\n",
      "socket.send() raised exception.\n",
      "socket.send() raised exception.\n",
      "socket.send() raised exception.\n",
      "socket.send() raised exception.\n",
      "socket.send() raised exception.\n",
      "socket.send() raised exception.\n",
      "socket.send() raised exception.\n",
      "socket.send() raised exception.\n",
      "socket.send() raised exception.\n",
      "socket.send() raised exception.\n",
      "socket.send() raised exception.\n",
      "socket.send() raised exception.\n",
      "socket.send() raised exception.\n",
      "socket.send() raised exception.\n",
      "socket.send() raised exception.\n",
      "socket.send() raised exception.\n",
      "socket.send() raised exception.\n",
      "socket.send() raised exception.\n",
      "socket.send() raised exception.\n",
      "socket.send() raised exception.\n",
      "socket.send() raised exception.\n",
      "socket.send() raised exception.\n",
      "socket.send() raised exception.\n",
      "socket.send() raised exception.\n",
      "socket.send() raised exception.\n",
      "socket.send() raised exception.\n",
      "socket.send() raised exception.\n",
      "socket.send() raised exception.\n",
      "socket.send() raised exception.\n",
      "socket.send() raised exception.\n",
      "socket.send() raised exception.\n",
      "socket.send() raised exception.\n",
      "socket.send() raised exception.\n",
      "socket.send() raised exception.\n",
      "socket.send() raised exception.\n",
      "socket.send() raised exception.\n",
      "socket.send() raised exception.\n",
      "socket.send() raised exception.\n",
      "socket.send() raised exception.\n",
      "socket.send() raised exception.\n",
      "socket.send() raised exception.\n",
      "socket.send() raised exception.\n",
      "socket.send() raised exception.\n",
      "socket.send() raised exception.\n",
      "socket.send() raised exception.\n",
      "socket.send() raised exception.\n",
      "socket.send() raised exception.\n",
      "socket.send() raised exception.\n",
      "socket.send() raised exception.\n",
      "socket.send() raised exception.\n",
      "socket.send() raised exception.\n",
      "socket.send() raised exception.\n",
      "socket.send() raised exception.\n",
      "socket.send() raised exception.\n",
      "socket.send() raised exception.\n",
      "socket.send() raised exception.\n",
      "socket.send() raised exception.\n",
      "socket.send() raised exception.\n",
      "socket.send() raised exception.\n",
      "socket.send() raised exception.\n",
      "socket.send() raised exception.\n",
      "socket.send() raised exception.\n",
      "socket.send() raised exception.\n",
      "socket.send() raised exception.\n",
      "socket.send() raised exception.\n",
      "socket.send() raised exception.\n",
      "socket.send() raised exception.\n",
      "socket.send() raised exception.\n",
      "socket.send() raised exception.\n",
      "socket.send() raised exception.\n",
      "socket.send() raised exception.\n",
      "socket.send() raised exception.\n",
      "socket.send() raised exception.\n",
      "socket.send() raised exception.\n",
      "socket.send() raised exception.\n",
      "socket.send() raised exception.\n",
      "socket.send() raised exception.\n",
      "socket.send() raised exception.\n",
      "socket.send() raised exception.\n",
      "socket.send() raised exception.\n",
      "socket.send() raised exception.\n",
      "socket.send() raised exception.\n",
      "socket.send() raised exception.\n",
      "socket.send() raised exception.\n",
      "socket.send() raised exception.\n",
      "socket.send() raised exception.\n",
      "socket.send() raised exception.\n",
      "socket.send() raised exception.\n",
      "socket.send() raised exception.\n",
      "socket.send() raised exception.\n",
      "socket.send() raised exception.\n",
      "socket.send() raised exception.\n",
      "socket.send() raised exception.\n",
      "socket.send() raised exception.\n",
      "socket.send() raised exception.\n",
      "socket.send() raised exception.\n",
      "socket.send() raised exception.\n",
      "socket.send() raised exception.\n",
      "socket.send() raised exception.\n",
      "socket.send() raised exception.\n",
      "socket.send() raised exception.\n",
      "socket.send() raised exception.\n",
      "socket.send() raised exception.\n",
      "socket.send() raised exception.\n",
      "socket.send() raised exception.\n",
      "socket.send() raised exception.\n",
      "socket.send() raised exception.\n",
      "socket.send() raised exception.\n",
      "socket.send() raised exception.\n",
      "socket.send() raised exception.\n",
      "socket.send() raised exception.\n",
      "socket.send() raised exception.\n",
      "socket.send() raised exception.\n",
      "socket.send() raised exception.\n",
      "socket.send() raised exception.\n",
      "socket.send() raised exception.\n",
      "socket.send() raised exception.\n",
      "socket.send() raised exception.\n",
      "socket.send() raised exception.\n",
      "socket.send() raised exception.\n",
      "socket.send() raised exception.\n",
      "socket.send() raised exception.\n",
      "socket.send() raised exception.\n",
      "socket.send() raised exception.\n",
      "socket.send() raised exception.\n",
      "socket.send() raised exception.\n",
      "socket.send() raised exception.\n",
      "socket.send() raised exception.\n",
      "socket.send() raised exception.\n",
      "socket.send() raised exception.\n",
      "socket.send() raised exception.\n",
      "socket.send() raised exception.\n",
      "socket.send() raised exception.\n",
      "socket.send() raised exception.\n",
      "socket.send() raised exception.\n",
      "socket.send() raised exception.\n",
      "socket.send() raised exception.\n",
      "socket.send() raised exception.\n",
      "socket.send() raised exception.\n",
      "socket.send() raised exception.\n",
      "socket.send() raised exception.\n",
      "socket.send() raised exception.\n",
      "socket.send() raised exception.\n",
      "socket.send() raised exception.\n",
      "socket.send() raised exception.\n",
      "socket.send() raised exception.\n",
      "socket.send() raised exception.\n"
     ]
    }
   ],
   "source": [
    "\n",
    "# =============================================================================\n",
    "# 10. K-Fold Cross Validation Loop with WandB\n",
    "# =============================================================================\n",
    "\n",
    "for fold, (train_idx, val_idx) in enumerate(skf.split(train_df, train_df['target'])):\n",
    "    print(f\"\\n{'='*50}\")\n",
    "    print(f\" FOLD {fold + 1}/{N_FOLDS}\")\n",
    "    print(f\"{'='*50}\")\n",
    "    \n",
    "    # 각 fold별 child run 생성\n",
    "    fold_run = wandb.init(\n",
    "        project=PROJECT_NAME,\n",
    "        entity=ENTITY,\n",
    "        name=f\"fold-{fold+1}-{model_name}-{datetime.now().strftime('%H%M')}\",\n",
    "        config=config,\n",
    "        tags=[\"fold\", f\"fold-{fold+1}\", model_name, \"child-run\"],\n",
    "        group=\"k-fold-experiment\",\n",
    "        job_type=f\"fold-{fold+1}\",\n",
    "        reinit=True  # 새로운 run 시작 허용\n",
    "    )\n",
    "    \n",
    "    print(f\"📊 Fold {fold+1} Dashboard: {fold_run.url}\")\n",
    "    \n",
    "    # 현재 fold의 train/validation 데이터 분할\n",
    "    train_fold_df = train_df.iloc[train_idx].reset_index(drop=True)\n",
    "    val_fold_df = train_df.iloc[val_idx].reset_index(drop=True)\n",
    "    \n",
    "    # 데이터 분할 정보 로깅\n",
    "    #wandb.log({\n",
    "    #    \"fold_info/fold_number\": fold + 1,\n",
    "    #    \"fold_info/train_samples\": len(train_fold_df),\n",
    "    #    \"fold_info/val_samples\": len(val_fold_df),\n",
    "    #    \"fold_info/train_ratio\": len(train_fold_df) / len(train_df),\n",
    "    #    \"fold_info/val_ratio\": len(val_fold_df) / len(train_df)\n",
    "    #})\n",
    "    \n",
    "    # 현재 fold의 Dataset 생성\n",
    "    trn_dataset = ImageDataset(\n",
    "        train_fold_df,\n",
    "        \"../data/train/\",\n",
    "        transform=trn_transform,\n",
    "        problem_class_transform=problem_class_extra_transform\n",
    "    )\n",
    "    \n",
    "    val_dataset = ImageDataset(\n",
    "        val_fold_df,\n",
    "        \"../data/train/\",\n",
    "        transform=tst_transform  # 검증에는 증강 적용 안함\n",
    "    )\n",
    "    \n",
    "    # 현재 fold의 DataLoader 생성\n",
    "    trn_loader = DataLoader(\n",
    "        trn_dataset,\n",
    "        batch_size=BATCH_SIZE,\n",
    "        shuffle=True,\n",
    "        num_workers=num_workers,\n",
    "        pin_memory=True,\n",
    "        drop_last=False\n",
    "    )\n",
    "    \n",
    "    val_loader = DataLoader(\n",
    "        val_dataset,\n",
    "        batch_size=BATCH_SIZE,\n",
    "        shuffle=False,\n",
    "        num_workers=num_workers,\n",
    "        pin_memory=True\n",
    "    )\n",
    "    \n",
    "    print(f\"Train samples: {len(trn_dataset)}, Validation samples: {len(val_dataset)}\")\n",
    "    \n",
    "    # 모델 초기화 (각 fold마다 새로운 모델)\n",
    "    model = timm.create_model(\n",
    "        model_name,\n",
    "        pretrained=True,\n",
    "        num_classes=17\n",
    "    ).to(device)\n",
    "\n",
    "    model = model.float()\n",
    "    \n",
    "    class_weights = torch.FloatTensor([\n",
    "    4 if i in [3, 7, 14] else 1.0 for i in range(17)]).to(device)\n",
    "    loss_fn = nn.CrossEntropyLoss(weight=class_weights, label_smoothing=0.15)\n",
    "    optimizer = Adam(model.parameters(), lr=LR)\n",
    "    \n",
    "    # Learning Rate Scheduler 추가\n",
    "    scheduler = CosineAnnealingLR(optimizer, T_max=EPOCHS)\n",
    "    \n",
    "    # 현재 fold의 최고 성능 추적\n",
    "    best_val_f1 = 0.0\n",
    "    best_model = None\n",
    "    patience = 0\n",
    "    max_patience = 50\n",
    "    \n",
    "    print(f\" 모델 학습 시작 - Fold {fold+1}\")\n",
    "    \n",
    "    # =============================================================================\n",
    "    # 11. Training Loop for Current Fold\n",
    "    # =============================================================================\n",
    "    \n",
    "    for epoch in range(EPOCHS):\n",
    "        print(f\"\\n📈 Epoch {epoch+1}/{EPOCHS}\")\n",
    "        \n",
    "        # Training\n",
    "        train_ret = train_one_epoch(\n",
    "            trn_loader, model, optimizer, loss_fn, device, \n",
    "            epoch=epoch, fold=fold+1\n",
    "        )\n",
    "        \n",
    "        # Validation\n",
    "        val_ret = validate_one_epoch(\n",
    "            val_loader, model, loss_fn, device, \n",
    "            epoch=epoch, fold=fold+1,\n",
    "            log_confusion=(epoch == EPOCHS-1)  # 마지막 epoch에만 confusion matrix\n",
    "        )\n",
    "        \n",
    "        # Learning rate 로깅\n",
    "        current_lr = optimizer.param_groups[0]['lr']\n",
    "        \n",
    "        # 문제 클래스 성능 개선 여부 확인\n",
    "        problem_classes_improved = \"\"\n",
    "        if 'avg_problem_f1' in val_ret:\n",
    "            if val_ret['avg_problem_f1'] > best_val_f1 * 0.95:  # 전체 성능의 95% 이상이면 양호\n",
    "                problem_classes_improved = \"✅ Problem classes performing well\"\n",
    "            else:\n",
    "                problem_classes_improved = \"⚠️ Problem classes need attention\"\n",
    "\n",
    "\n",
    "        # WandB에 metrics 로깅\n",
    "        log_data = {\n",
    "            \"epoch\": epoch + 1,\n",
    "            \"fold\": fold + 1,\n",
    "            \"train/loss\": train_ret['train_loss'],\n",
    "            \"train/accuracy\": train_ret['train_acc'], \n",
    "            \"train/f1\": train_ret['train_f1'],\n",
    "            \"val/loss\": val_ret['val_loss'],\n",
    "            \"val/accuracy\": val_ret['val_acc'],\n",
    "            \"val/f1\": val_ret['val_f1'],\n",
    "            \"learning_rate\": current_lr,\n",
    "            \"optimizer/lr\": current_lr\n",
    "        }\n",
    "        \n",
    "        # GPU 메모리 사용량 로깅\n",
    "        if torch.cuda.is_available():\n",
    "            gpu_memory_used = torch.cuda.memory_allocated(0) / 1e9\n",
    "            gpu_memory_total = torch.cuda.get_device_properties(0).total_memory / 1e9\n",
    "            log_data.update({\n",
    "                \"system/gpu_memory_used_gb\": gpu_memory_used,\n",
    "                \"system/gpu_memory_total_gb\": gpu_memory_total,\n",
    "                \"system/gpu_utilization_pct\": (gpu_memory_used / gpu_memory_total) * 100\n",
    "            })\n",
    "\n",
    "        if 'avg_problem_f1' in val_ret:\n",
    "            log_data[\"val/problem_classes_avg_f1\"] = val_ret['avg_problem_f1']\n",
    "        \n",
    "        # 개별 문제 클래스 성능\n",
    "        for cls in [3, 7, 14]:\n",
    "            if f\"class_{cls}_f1\" in val_ret['problem_class_f1']:\n",
    "                log_data[f\"val/class_{cls}_f1\"] = val_ret['problem_class_f1'][f\"class_{cls}_f1\"]\n",
    "    \n",
    "        \n",
    "        #wandb.log(log_data)\n",
    "        \n",
    "        # Scheduler step\n",
    "        scheduler.step()\n",
    "        \n",
    "        print(f\" Epoch {epoch+1:2d} | \"\n",
    "              f\"Train Loss: {train_ret['train_loss']:.4f} | \"\n",
    "              f\"Train F1: {train_ret['train_f1']:.4f} | \"\n",
    "              f\"Val Loss: {val_ret['val_loss']:.4f} | \"\n",
    "              f\"Val F1: {val_ret['val_f1']:.4f} | \"\n",
    "              f\"LR: {current_lr:.2e}\")\n",
    "        \n",
    "        # 문제 클래스 성능 별도 출력\n",
    "        if 'avg_problem_f1' in val_ret:\n",
    "            print(f\"         Problem Classes (3,7,14) Avg F1: {val_ret['avg_problem_f1']:.4f} | {problem_classes_improved}\")\n",
    "\n",
    "        # 최고 성능 모델 저장 (전체 F1과 문제 클래스 성능 모두 고려)\n",
    "        current_val_f1 = val_ret['val_f1']\n",
    "        problem_class_bonus = 0\n",
    "    \n",
    "        # 문제 클래스 성능이 좋으면 보너스 점수 부여\n",
    "        if 'avg_problem_f1' in val_ret and val_ret['avg_problem_f1'] > 0.90:\n",
    "            problem_class_bonus = 0.001  # 작은 보너스로 동점일 때 문제 클래스 성능 우선\n",
    "        \n",
    "        adjusted_f1 = current_val_f1 + problem_class_bonus\n",
    "        \n",
    "        if adjusted_f1 > best_val_f1:\n",
    "            best_val_f1 = current_val_f1  # 실제 F1 스코어로 저장\n",
    "            best_model = copy.deepcopy(model.state_dict())\n",
    "            patience = 0\n",
    "            \n",
    "            # 최고 성능 모델 아티팩트로 저장\n",
    "            model_path = f'best_model_fold_{fold+1}.pth'\n",
    "            torch.save(best_model, model_path)\n",
    "            wandb.save(model_path, policy=\"now\")\n",
    "            \n",
    "            # 새로운 최고 성능 로깅\n",
    "            best_performance_log = {\n",
    "                f\"best_performance/epoch\": epoch + 1,\n",
    "                f\"best_performance/val_f1\": best_val_f1,\n",
    "                f\"best_performance/val_acc\": val_ret['val_acc'],\n",
    "                f\"best_performance/val_loss\": val_ret['val_loss'],\n",
    "            }\n",
    "            \n",
    "            # 문제 클래스 성능도 최고 성능에 포함\n",
    "            if 'avg_problem_f1' in val_ret:\n",
    "                best_performance_log[f\"best_performance/problem_classes_f1\"] = val_ret['avg_problem_f1']\n",
    "            \n",
    "            wandb.log(best_performance_log)\n",
    "            \n",
    "            improvement_msg = f\"🎉 새로운 최고 성능! F1: {best_val_f1:.4f}\"\n",
    "            if 'avg_problem_f1' in val_ret:\n",
    "                improvement_msg += f\" (Problem Classes: {val_ret['avg_problem_f1']:.4f})\"\n",
    "            print(improvement_msg)\n",
    "        else:\n",
    "            patience += 1\n",
    "            \n",
    "        # Early stopping\n",
    "        if patience >= max_patience and epoch > EPOCHS // 2:\n",
    "            print(f\"⏸️ Early stopping at epoch {epoch+1} (patience: {patience})\")\n",
    "            wandb.log({\"early_stopping/epoch\": epoch + 1})\n",
    "            break\n",
    "    \n",
    "    # =============================================================================\n",
    "    # 12. Fold Results Summary\n",
    "    # =============================================================================\n",
    "    \n",
    "    # 현재 fold 결과 저장\n",
    "    fold_result = {\n",
    "        'fold': fold + 1,\n",
    "        'best_val_f1': best_val_f1,\n",
    "        'final_train_f1': train_ret['train_f1'],\n",
    "        'train_samples': len(trn_dataset),\n",
    "        'val_samples': len(val_dataset),\n",
    "        'epochs_trained': epoch + 1,\n",
    "        'early_stopped': patience >= max_patience\n",
    "    }\n",
    "    \n",
    "    fold_results.append(fold_result)\n",
    "    fold_models.append(best_model)\n",
    "    \n",
    "    # Fold 최종 요약 로깅\n",
    "    wandb.log({\n",
    "        \"fold_summary/best_val_f1\": best_val_f1,\n",
    "        \"fold_summary/final_train_f1\": train_ret['train_f1'],\n",
    "        \"fold_summary/epochs_trained\": epoch + 1,\n",
    "        \"fold_summary/improvement\": best_val_f1 - val_ret['val_f1'],\n",
    "        \"fold_summary/early_stopped\": patience >= max_patience\n",
    "    })\n",
    "    \n",
    "    print(f\"\\n Fold {fold + 1} 완료!\")\n",
    "    print(f\" 최고 Validation F1: {best_val_f1:.4f}\")\n",
    "    print(f\" 학습된 에폭: {epoch + 1}/{EPOCHS}\")\n",
    "    \n",
    "    # Fold run 종료\n",
    "    wandb.finish()\n",
    "    \n",
    "    # 메모리 정리\n",
    "    del model, optimizer, scheduler, trn_loader, val_loader\n",
    "    torch.cuda.empty_cache()\n"
   ]
  },
  {
   "cell_type": "code",
   "execution_count": null,
   "id": "1675898e",
   "metadata": {},
   "outputs": [
    {
     "name": "stdout",
     "output_type": "stream",
     "text": [
      "\n",
      "============================================================\n",
      " K-FOLD CROSS VALIDATION 최종 결과\n",
      "============================================================\n",
      " 활성화된 run이 없어 새로운 summary run을 생성합니다.\n"
     ]
    },
    {
     "data": {
      "text/html": [
       "creating run (0.2s)"
      ],
      "text/plain": [
       "<IPython.core.display.HTML object>"
      ]
     },
     "metadata": {},
     "output_type": "display_data"
    },
    {
     "data": {
      "text/html": [
       "Tracking run with wandb version 0.21.3"
      ],
      "text/plain": [
       "<IPython.core.display.HTML object>"
      ]
     },
     "metadata": {},
     "output_type": "display_data"
    },
    {
     "data": {
      "text/html": [
       "Run data is saved locally in <code>/root/computervisioncompetition-cv-1/mywork/experiments/wandb/run-20250908_122112-zwe1bemo</code>"
      ],
      "text/plain": [
       "<IPython.core.display.HTML object>"
      ]
     },
     "metadata": {},
     "output_type": "display_data"
    },
    {
     "data": {
      "text/html": [
       "Syncing run <strong><a href='https://wandb.ai/kimsunmin0227-hufs/document-classification-team-CV/runs/zwe1bemo' target=\"_blank\">SUMMARY-efficientnet-b3-baseline-0908-1221</a></strong> to <a href='https://wandb.ai/kimsunmin0227-hufs/document-classification-team-CV' target=\"_blank\">Weights & Biases</a> (<a href='https://wandb.me/developer-guide' target=\"_blank\">docs</a>)<br>"
      ],
      "text/plain": [
       "<IPython.core.display.HTML object>"
      ]
     },
     "metadata": {},
     "output_type": "display_data"
    },
    {
     "data": {
      "text/html": [
       " View project at <a href='https://wandb.ai/kimsunmin0227-hufs/document-classification-team-CV' target=\"_blank\">https://wandb.ai/kimsunmin0227-hufs/document-classification-team-CV</a>"
      ],
      "text/plain": [
       "<IPython.core.display.HTML object>"
      ]
     },
     "metadata": {},
     "output_type": "display_data"
    },
    {
     "data": {
      "text/html": [
       " View run at <a href='https://wandb.ai/kimsunmin0227-hufs/document-classification-team-CV/runs/zwe1bemo' target=\"_blank\">https://wandb.ai/kimsunmin0227-hufs/document-classification-team-CV/runs/zwe1bemo</a>"
      ],
      "text/plain": [
       "<IPython.core.display.HTML object>"
      ]
     },
     "metadata": {},
     "output_type": "display_data"
    },
    {
     "name": "stdout",
     "output_type": "stream",
     "text": [
      " CV 결과 로깅 완료!\n",
      "Fold 1: 0.9560 (100 epochs)  Completed\n",
      "Fold 2: 0.9530 (80 epochs)  Early Stopped\n",
      "Fold 3: 0.9498 (100 epochs)  Completed\n",
      "Fold 4: 0.9490 (100 epochs)  Completed\n",
      "Fold 5: 0.9388 (100 epochs)  Completed\n",
      "\n",
      " 평균 CV F1: 0.9493 ± 0.0058\n",
      " 최고 Fold: 0.9560\n",
      " 최악 Fold: 0.9388\n",
      " 성능 범위: 0.0172\n"
     ]
    }
   ],
   "source": [
    "# =============================================================================\n",
    "# 13. K-Fold Cross Validation Results Summary\n",
    "# =============================================================================\n",
    "\n",
    "print(f\"\\n{'='*60}\")\n",
    "print(\" K-FOLD CROSS VALIDATION 최종 결과\")\n",
    "print(f\"{'='*60}\")\n",
    "\n",
    "val_f1_scores = [result['best_val_f1'] for result in fold_results]\n",
    "mean_f1 = np.mean(val_f1_scores)\n",
    "std_f1 = np.std(val_f1_scores)\n",
    "\n",
    "try:\n",
    "    # wandb.run이 현재 활성화된 run을 가리킴\n",
    "    if wandb.run is None:\n",
    "        print(\" 활성화된 run이 없어 새로운 summary run을 생성합니다.\")\n",
    "        active_run = wandb.init(\n",
    "            project=PROJECT_NAME,\n",
    "            name=f\"SUMMARY-{EXPERIMENT_NAME}-{datetime.now().strftime('%m%d-%H%M')}\",\n",
    "            config=config,\n",
    "            tags=[\"summary\", \"cv-results\", model_name],\n",
    "            group=\"k-fold-experiment\",\n",
    "            job_type=\"summary\",\n",
    "            reinit=True\n",
    "        )\n",
    "    else:\n",
    "        print(\" 기존 run을 사용합니다.\")\n",
    "        active_run = wandb.run\n",
    "        \n",
    "except Exception as e:\n",
    "    print(f\" Run 상태 확인 중 에러: {e}\")\n",
    "    # 새로운 run 생성\n",
    "    active_run = wandb.init(\n",
    "        project=PROJECT_NAME,\n",
    "        name=f\"SUMMARY-{EXPERIMENT_NAME}-{datetime.now().strftime('%m%d-%H%M')}\",\n",
    "        config=config,\n",
    "        tags=[\"summary\", \"cv-results\", model_name],\n",
    "        group=\"k-fold-experiment\",\n",
    "        job_type=\"summary\",\n",
    "        reinit=True\n",
    "    )\n",
    "\n",
    "# CV 요약 테이블 생성\n",
    "fold_table = wandb.Table(columns=[\n",
    "    \"Fold\", \"Best_Val_F1\", \"Final_Train_F1\", \"Train_Samples\", \n",
    "    \"Val_Samples\", \"Epochs_Trained\", \"Early_Stopped\"\n",
    "])\n",
    "\n",
    "for result in fold_results:\n",
    "    fold_table.add_data(\n",
    "        result['fold'], \n",
    "        result['best_val_f1'], \n",
    "        result['final_train_f1'],\n",
    "        result['train_samples'], \n",
    "        result['val_samples'],\n",
    "        result['epochs_trained'],\n",
    "        result['early_stopped']\n",
    "    )\n",
    "\n",
    "# 안전한 로깅\n",
    "try:\n",
    "    active_run.log({\n",
    "        \"cv_results/mean_f1\": mean_f1,\n",
    "        \"cv_results/std_f1\": std_f1,\n",
    "        \"cv_results/best_fold_f1\": max(val_f1_scores),\n",
    "        \"cv_results/worst_fold_f1\": min(val_f1_scores),\n",
    "        \"cv_results/f1_range\": max(val_f1_scores) - min(val_f1_scores),\n",
    "        \"cv_results/fold_results_table\": fold_table,\n",
    "        \"cv_results/n_folds\": N_FOLDS,\n",
    "        \"cv_results/total_epochs\": sum([r['epochs_trained'] for r in fold_results]),\n",
    "        \"cv_results/avg_epochs_per_fold\": np.mean([r['epochs_trained'] for r in fold_results]),\n",
    "        \"cv_results/early_stopped_folds\": sum([r['early_stopped'] for r in fold_results])\n",
    "    })\n",
    "    \n",
    "    # Fold별 성능 바차트 생성\n",
    "    fold_performance_data = [[f\"Fold {i+1}\", score] for i, score in enumerate(val_f1_scores)]\n",
    "    active_run.log({\n",
    "        \"cv_results/fold_performance_chart\": wandb.plot.bar(\n",
    "            wandb.Table(data=fold_performance_data, columns=[\"Fold\", \"F1_Score\"]),\n",
    "            \"Fold\", \"F1_Score\", \n",
    "            title=\"K-Fold Cross Validation Performance\"\n",
    "        )\n",
    "    })\n",
    "    \n",
    "    print(\" CV 결과 로깅 완료!\")\n",
    "    \n",
    "except Exception as e:\n",
    "    print(f\" WandB 로깅 중 에러: {e}\")\n",
    "    print(\" 결과를 콘솔에 출력합니다:\")\n",
    "\n",
    "# 어떤 경우든 콘솔에는 결과 출력\n",
    "for result in fold_results:\n",
    "    status = \" Early Stopped\" if result['early_stopped'] else \" Completed\"\n",
    "    print(f\"Fold {result['fold']}: {result['best_val_f1']:.4f} \"\n",
    "          f\"({result['epochs_trained']} epochs) {status}\")\n",
    "\n",
    "print(f\"\\n 평균 CV F1: {mean_f1:.4f} ± {std_f1:.4f}\")\n",
    "print(f\" 최고 Fold: {max(val_f1_scores):.4f}\")\n",
    "print(f\" 최악 Fold: {min(val_f1_scores):.4f}\")\n",
    "print(f\" 성능 범위: {max(val_f1_scores) - min(val_f1_scores):.4f}\")\n"
   ]
  },
  {
   "cell_type": "code",
   "execution_count": null,
   "id": "bb258fe0",
   "metadata": {},
   "outputs": [
    {
     "name": "stdout",
     "output_type": "stream",
     "text": [
      "\n",
      "🔧 앙상블 모델 준비 중...\n",
      "Fold 1 모델 로드 완료\n",
      "Fold 2 모델 로드 완료\n",
      "Fold 3 모델 로드 완료\n",
      "Fold 4 모델 로드 완료\n",
      "Fold 5 모델 로드 완료\n",
      " 총 5개 모델로 앙상블 구성\n"
     ]
    }
   ],
   "source": [
    "\n",
    "# =============================================================================\n",
    "# 14. Ensemble Models Preparation\n",
    "# =============================================================================\n",
    "\n",
    "# 5-Fold 앙상블 모델 준비\n",
    "ensemble_models = []\n",
    "print(f\"\\n🔧 앙상블 모델 준비 중...\")\n",
    "\n",
    "for i, state_dict in enumerate(fold_models):\n",
    "    fold_model = timm.create_model(model_name, pretrained=True, num_classes=17).to(device)\n",
    "    fold_model.load_state_dict(state_dict)\n",
    "    fold_model.eval()\n",
    "    ensemble_models.append(fold_model)\n",
    "    print(f\"Fold {i+1} 모델 로드 완료\")\n",
    "\n",
    "print(f\" 총 {len(ensemble_models)}개 모델로 앙상블 구성\")\n",
    "\n",
    "try:\n",
    "    if wandb.run is not None:\n",
    "        wandb.run.log({\n",
    "            \"ensemble/num_models\": len(ensemble_models),\n",
    "            \"ensemble/model_architecture\": model_name,\n",
    "            \"ensemble/ensemble_type\": \"simple_average\"\n",
    "        })\n",
    "    else:\n",
    "        print(\"📊 앙상블 정보:\")\n",
    "        print(f\"  - 모델 개수: {len(ensemble_models)}\")\n",
    "        print(f\"  - 아키텍처: {model_name}\")\n",
    "        print(f\"  - 앙상블 타입: simple_average\")\n",
    "except Exception as e:\n",
    "    print(f\"⚠️ 앙상블 정보 로깅 실패: {e}\")\n"
   ]
  },
  {
   "cell_type": "code",
   "execution_count": null,
   "id": "96bb2ab5",
   "metadata": {},
   "outputs": [
    {
     "name": "stdout",
     "output_type": "stream",
     "text": [
      "\n",
      " TTA (Test Time Augmentation) 설정...\n",
      "TTA 변환 5개 준비 완료\n"
     ]
    }
   ],
   "source": [
    "\n",
    "\n",
    "# =============================================================================\n",
    "# 15. TTA (Test Time Augmentation) Setup\n",
    "# =============================================================================\n",
    "\n",
    "# Temperature Scaling 클래스 정의\n",
    "class TemperatureScaling(nn.Module):\n",
    "    def __init__(self, temperature=1.5):\n",
    "        super().__init__()\n",
    "        self.temperature = nn.Parameter(torch.ones(1) * temperature)\n",
    "    \n",
    "    def forward(self, logits):\n",
    "        return logits / self.temperature\n",
    "\n",
    "print(f\"\\n TTA (Test Time Augmentation) 설정...\")\n",
    "\n",
    "# Essential TTA transforms\n",
    "essential_tta_transforms = [\n",
    "    # 원본\n",
    "    A.Compose([\n",
    "        A.LongestMaxSize(max_size=img_size),\n",
    "        A.PadIfNeeded(min_height=img_size, min_width=img_size, border_mode=0, value=0),\n",
    "        A.Normalize(mean=[0.485, 0.456, 0.406], std=[0.229, 0.224, 0.225]),\n",
    "        ToTensorV2(),\n",
    "    ]),\n",
    "    # 90도 회전들\n",
    "    A.Compose([\n",
    "        A.LongestMaxSize(max_size=img_size),\n",
    "        A.PadIfNeeded(min_height=img_size, min_width=img_size, border_mode=0, value=0),\n",
    "        A.Rotate(limit=[90, 90], p=1.0),\n",
    "        A.Normalize(mean=[0.485, 0.456, 0.406], std=[0.229, 0.224, 0.225]),\n",
    "        ToTensorV2(),\n",
    "    ]),\n",
    "    A.Compose([\n",
    "        A.LongestMaxSize(max_size=img_size),\n",
    "        A.PadIfNeeded(min_height=img_size, min_width=img_size, border_mode=0, value=0),\n",
    "        A.Rotate(limit=[180, 180], p=1.0),\n",
    "        A.Normalize(mean=[0.485, 0.456, 0.406], std=[0.229, 0.224, 0.225]),\n",
    "        ToTensorV2(),\n",
    "    ]),\n",
    "    A.Compose([\n",
    "        A.LongestMaxSize(max_size=img_size),\n",
    "        A.PadIfNeeded(min_height=img_size, min_width=img_size, border_mode=0, value=0),\n",
    "        A.Rotate(limit=[-90, -90], p=1.0),\n",
    "        A.Normalize(mean=[0.485, 0.456, 0.406], std=[0.229, 0.224, 0.225]),\n",
    "        ToTensorV2(),\n",
    "    ]),\n",
    "    # 밝기 개선\n",
    "    A.Compose([\n",
    "        A.LongestMaxSize(max_size=img_size),\n",
    "        A.PadIfNeeded(min_height=img_size, min_width=img_size, border_mode=0, value=0),\n",
    "        A.RandomBrightnessContrast(brightness_limit=[0.3, 0.3], contrast_limit=[0.3, 0.3], p=1.0),\n",
    "        A.Normalize(mean=[0.485, 0.456, 0.406], std=[0.229, 0.224, 0.225]),\n",
    "        ToTensorV2(),\n",
    "    ]),\n",
    "]\n",
    "\n",
    "print(f\"TTA 변환 {len(essential_tta_transforms)}개 준비 완료\")\n",
    "\n",
    "try:\n",
    "    if wandb.run is not None:\n",
    "        wandb.run.log({\n",
    "            \"tta/num_transforms\": len(essential_tta_transforms),\n",
    "            \"tta/transforms_used\": [\"original\", \"rot_90\", \"rot_180\", \"rot_270\", \"brightness\"],\n",
    "            \"tta/batch_size\": 64  # TTA용 배치 크기\n",
    "        })\n",
    "    else:\n",
    "        print(\"📊 TTA 설정 정보:\")\n",
    "        print(f\"  - 변형 개수: {len(essential_tta_transforms)}\")\n",
    "        print(f\"  - 변형 종류: original, rot_90, rot_180, rot_270, brightness\")\n",
    "        print(f\"  - 배치 크기: 64\")\n",
    "except Exception as e:\n",
    "    print(f\"⚠️ TTA 설정 로깅 실패: {e}\")\n",
    "    print(\"📊 TTA 설정 정보:\")\n",
    "    print(f\"  - 변형 개수: {len(essential_tta_transforms)}\")\n",
    "    print(f\"  - 배치 크기: 64\")"
   ]
  },
  {
   "cell_type": "code",
   "execution_count": null,
   "id": "5545246d",
   "metadata": {},
   "outputs": [
    {
     "name": "stdout",
     "output_type": "stream",
     "text": [
      " TTA Dataset: 3140개 테스트 샘플\n"
     ]
    },
    {
     "ename": "",
     "evalue": "",
     "output_type": "error",
     "traceback": [
      "\u001b[1;31mThe Kernel crashed while executing code in the current cell or a previous cell. \n",
      "\u001b[1;31mPlease review the code in the cell(s) to identify a possible cause of the failure. \n",
      "\u001b[1;31mClick <a href='https://aka.ms/vscodeJupyterKernelCrash'>here</a> for more info. \n",
      "\u001b[1;31mView Jupyter <a href='command:jupyter.viewOutput'>log</a> for further details."
     ]
    }
   ],
   "source": [
    "# =============================================================================\n",
    "# 16. TTA Dataset and DataLoader\n",
    "# =============================================================================\n",
    "\n",
    "class TTAImageDataset(Dataset):\n",
    "    def __init__(self, data, path, transforms):\n",
    "        if isinstance(data, str):\n",
    "            self.df = pd.read_csv(data).values\n",
    "        else:\n",
    "            self.df = data.values\n",
    "        self.path = path\n",
    "        self.transforms = transforms  # 여러 transform을 리스트로 받음\n",
    "\n",
    "    def __len__(self):\n",
    "        return len(self.df)\n",
    "\n",
    "    def __getitem__(self, idx):\n",
    "        name, target = self.df[idx]\n",
    "        img = np.array(Image.open(os.path.join(self.path, name)))\n",
    "        \n",
    "        # 모든 transform을 적용한 결과를 리스트로 반환\n",
    "        augmented_images = []\n",
    "        for transform in self.transforms:\n",
    "            aug_img = transform(image=img)['image']\n",
    "            augmented_images.append(aug_img)\n",
    "        \n",
    "        return augmented_images, target\n",
    "\n",
    "# TTA Dataset 생성\n",
    "tta_dataset = TTAImageDataset(\n",
    "    \"../data/sample_submission.csv\",\n",
    "    \"../data/test/\",\n",
    "    essential_tta_transforms\n",
    ")\n",
    "\n",
    "# TTA DataLoader (배치 크기를 줄여서 메모리 절약)\n",
    "tta_loader = DataLoader(\n",
    "    tta_dataset,\n",
    "    batch_size=64,  # TTA는 메모리를 많이 사용하므로 배치 크기 줄임\n",
    "    shuffle=False,\n",
    "    num_workers=num_workers,\n",
    "    pin_memory=True\n",
    ")\n",
    "\n",
    "print(f\" TTA Dataset: {len(tta_dataset)}개 테스트 샘플\")"
   ]
  },
  {
   "cell_type": "code",
   "execution_count": null,
   "id": "a0c1ddb9",
   "metadata": {},
   "outputs": [
    {
     "name": "stdout",
     "output_type": "stream",
     "text": [
      "\n",
      "============================================================\n",
      " 최종 추론 - 앙상블 + TTA\n",
      "============================================================\n",
      "앙상블 TTA 추론 시작...\n",
      "5개 모델 × 5개 TTA 변형 = 25개 예측 평균\n"
     ]
    },
    {
     "name": "stderr",
     "output_type": "stream",
     "text": [
      "Ensemble TTA:   0%|          | 0/50 [00:00<?, ?it/s]"
     ]
    }
   ],
   "source": [
    "\n",
    "# =============================================================================\n",
    "# 17. Ensemble + TTA Inference with WandB Logging\n",
    "# =============================================================================\n",
    "\n",
    "def ensemble_tta_inference_with_logging(models, loader, transforms, confidence_threshold=0.9):\n",
    "    \"\"\"5-Fold 모델 앙상블 + TTA 추론 with WandB 로깅\"\"\"\n",
    "    all_predictions = []\n",
    "    all_confidences = []\n",
    "    \n",
    "    # TTA 진행상황 로깅을 위한 테이블\n",
    "    tta_progress = wandb.Table(columns=[\"Batch\", \"Avg_Confidence\", \"Low_Conf_Count\", \"High_Conf_Count\"])\n",
    "    \n",
    "    # Temperature scaling 초기화\n",
    "    temp_scaling = TemperatureScaling().to(device)\n",
    "    \n",
    "    print(f\"앙상블 TTA 추론 시작...\")\n",
    "    print(f\"{len(models)}개 모델 × {len(transforms)}개 TTA 변형 = {len(models) * len(transforms)}개 예측 평균\")\n",
    "    \n",
    "    start_time = time.time()\n",
    "    \n",
    "    for batch_idx, (images_list, _) in enumerate(tqdm(loader, desc=\"Ensemble TTA\")):\n",
    "        batch_size = images_list[0].size(0)\n",
    "        ensemble_probs = torch.zeros(batch_size, 17).to(device)\n",
    "        \n",
    "        # 각 fold 모델별 예측\n",
    "        for model_idx, model in enumerate(models):\n",
    "            model.eval()\n",
    "            with torch.no_grad():\n",
    "                # 각 TTA 변형별 예측\n",
    "                for tta_idx, images in enumerate(images_list):\n",
    "                    images = images.to(device)\n",
    "                    preds = model(images)\n",
    "                    \n",
    "                    # Temperature scaling 적용\n",
    "                    preds = temp_scaling(preds)\n",
    "                    probs = torch.softmax(preds, dim=1)\n",
    "                    \n",
    "                    # 앙상블 확률에 누적 (평균)\n",
    "                    ensemble_probs += probs / (len(models) * len(images_list))\n",
    "        \n",
    "        # 신뢰도 계산\n",
    "        max_probs = torch.max(ensemble_probs, dim=1)[0]\n",
    "        batch_confidences = max_probs.cpu().numpy()\n",
    "        all_confidences.extend(batch_confidences)\n",
    "        \n",
    "        final_preds = torch.argmax(ensemble_probs, dim=1)\n",
    "        all_predictions.extend(final_preds.cpu().numpy())\n",
    "        \n",
    "        # 배치별 신뢰도 분석\n",
    "        high_conf_count = np.sum(batch_confidences >= confidence_threshold)\n",
    "        low_conf_count = batch_size - high_conf_count\n",
    "        avg_confidence = np.mean(batch_confidences)\n",
    "        \n",
    "        # 진행상황 테이블에 추가\n",
    "        tta_progress.add_data(batch_idx, avg_confidence, low_conf_count, high_conf_count)\n",
    "        \n",
    "        # 배치별 상세 로깅 (20배치마다)\n",
    "        if batch_idx % 20 == 0:\n",
    "            elapsed_time = time.time() - start_time\n",
    "            estimated_total = elapsed_time * len(loader) / (batch_idx + 1)\n",
    "            remaining_time = estimated_total - elapsed_time\n",
    "            \n",
    "            wandb.log({\n",
    "                \"tta_progress/batch\": batch_idx,\n",
    "                \"tta_progress/avg_confidence\": avg_confidence,\n",
    "                \"tta_progress/high_confidence_ratio\": high_conf_count / batch_size,\n",
    "                \"tta_progress/low_confidence_count\": low_conf_count,\n",
    "                \"tta_progress/elapsed_time_min\": elapsed_time / 60,\n",
    "                \"tta_progress/estimated_remaining_min\": remaining_time / 60,\n",
    "                \"tta_progress/samples_processed\": (batch_idx + 1) * batch_size,\n",
    "            })\n",
    "    \n",
    "    total_time = time.time() - start_time\n",
    "    \n",
    "    # TTA 최종 결과 로깅\n",
    "    final_avg_confidence = np.mean(all_confidences)\n",
    "    confidence_std = np.std(all_confidences)\n",
    "    high_conf_samples = np.sum(np.array(all_confidences) >= confidence_threshold)\n",
    "    \n",
    "    wandb.log({\n",
    "        \"tta_results/total_time_min\": total_time / 60,\n",
    "        \"tta_results/samples_per_second\": len(all_predictions) / total_time,\n",
    "        \"tta_results/final_avg_confidence\": final_avg_confidence,\n",
    "        \"tta_results/confidence_std\": confidence_std,\n",
    "        \"tta_results/high_confidence_samples\": high_conf_samples,\n",
    "        \"tta_results/high_confidence_ratio\": high_conf_samples / len(all_predictions),\n",
    "        \"tta_results/total_predictions\": len(all_predictions),\n",
    "        \"tta_results/confidence_histogram\": wandb.Histogram(all_confidences),\n",
    "        \"tta_results/progress_table\": tta_progress\n",
    "    })\n",
    "    \n",
    "    print(f\"\\n 앙상블 TTA 추론 완료!\")\n",
    "    print(f\"총 소요시간: {total_time/60:.1f}분\")\n",
    "    print(f\" 평균 신뢰도: {final_avg_confidence:.4f} ± {confidence_std:.4f}\")\n",
    "    print(f\" 고신뢰도 샘플: {high_conf_samples}/{len(all_predictions)} ({high_conf_samples/len(all_predictions)*100:.1f}%)\")\n",
    "    \n",
    "    return all_predictions, all_confidences\n",
    "\n",
    "# 앙상블 TTA 실행\n",
    "print(f\"\\n{'='*60}\")\n",
    "print(\" 최종 추론 - 앙상블 + TTA\")\n",
    "print(f\"{'='*60}\")\n",
    "\n",
    "tta_predictions, confidences = ensemble_tta_inference_with_logging(\n",
    "    models=ensemble_models, \n",
    "    loader=tta_loader, \n",
    "    transforms=essential_tta_transforms,\n",
    "    confidence_threshold=0.9\n",
    ")\n"
   ]
  },
  {
   "cell_type": "code",
   "execution_count": null,
   "id": "1c98e388",
   "metadata": {},
   "outputs": [
    {
     "name": "stdout",
     "output_type": "stream",
     "text": [
      "\n",
      " 최종 결과 정리 중...\n",
      "\n",
      "📊 예측 결과 분포:\n",
      "Class  0:  201 (  6.4%)\n",
      "Class  1:   86 (  2.7%)\n",
      "Class  2:  200 (  6.4%)\n",
      "Class  3:  305 (  9.7%)\n",
      "Class  4:  159 (  5.1%)\n",
      "Class  5:  199 (  6.3%)\n",
      "Class  6:  204 (  6.5%)\n",
      "Class  7:  142 (  4.5%)\n",
      "Class  8:  200 (  6.4%)\n",
      "Class  9:  200 (  6.4%)\n",
      "Class 10:  208 (  6.6%)\n",
      "Class 11:  188 (  6.0%)\n",
      "Class 12:  198 (  6.3%)\n",
      "Class 13:  153 (  4.9%)\n",
      "Class 14:   97 (  3.1%)\n",
      "Class 15:  200 (  6.4%)\n",
      "Class 16:  200 (  6.4%)\n",
      "최종 결과 WandB 로깅 완료!\n",
      "총 예측 수: 3140\n",
      "예측된 클래스 수: 17\n",
      "평균 신뢰도: 0.4098\n",
      "신뢰도 범위: 0.1326 ~ 0.7590\n",
      "예측 분포 차트 로깅 완료!\n",
      "실험 요약 로깅 완료!\n",
      "\n",
      " 최종 결과 저장 완료!\n",
      " 파일 위치: ../data/output/choice10.csv\n",
      " 총 예측 수: 3140\n"
     ]
    }
   ],
   "source": [
    "# =============================================================================\n",
    "# 18. Final Results and Submission\n",
    "# =============================================================================\n",
    "\n",
    "print(f\"\\n 최종 결과 정리 중...\")\n",
    "\n",
    "# TTA 결과로 submission 파일 생성\n",
    "tta_pred_df = pd.DataFrame(tta_dataset.df, columns=['ID', 'target'])\n",
    "tta_pred_df['target'] = tta_predictions\n",
    "\n",
    "# 기존 submission과 동일한 순서인지 확인\n",
    "sample_submission_df = pd.read_csv(\"../data/sample_submission.csv\")\n",
    "assert (sample_submission_df['ID'] == tta_pred_df['ID']).all(), \"ID 순서 불일치!\"\n",
    "\n",
    "# 예측 분포 분석\n",
    "pred_distribution = tta_pred_df['target'].value_counts().sort_index()\n",
    "pred_table = wandb.Table(columns=[\"Class\", \"Count\", \"Percentage\"])\n",
    "\n",
    "print(f\"\\n📊 예측 결과 분포:\")\n",
    "for class_id in range(17):\n",
    "    count = pred_distribution.get(class_id, 0)\n",
    "    percentage = count / len(tta_pred_df) * 100\n",
    "    pred_table.add_data(class_id, count, percentage)\n",
    "    print(f\"Class {class_id:2d}: {count:4d} ({percentage:5.1f}%)\")\n",
    "\n",
    "# 신뢰도 분석\n",
    "confidence_bins = [0.5, 0.7, 0.8, 0.9, 0.95, 1.0]\n",
    "confidence_analysis = {}\n",
    "for i, threshold in enumerate(confidence_bins):\n",
    "    if i == 0:\n",
    "        count = np.sum(np.array(confidences) >= threshold)\n",
    "    else:\n",
    "        prev_threshold = confidence_bins[i-1]\n",
    "        count = np.sum((np.array(confidences) >= prev_threshold) & (np.array(confidences) < threshold))\n",
    "    confidence_analysis[f\"conf_{threshold}\"] = count\n",
    "\n",
    "# 최종 결과 로깅\n",
    "try:\n",
    "    if wandb.run is not None:\n",
    "        wandb.run.log({\n",
    "            \"final_results/total_predictions\": len(tta_predictions),\n",
    "            \"final_results/unique_classes_predicted\": len(np.unique(tta_predictions)),\n",
    "            \"final_results/prediction_distribution_table\": pred_table,\n",
    "            \"final_results/avg_confidence\": np.mean(confidences),\n",
    "            \"final_results/median_confidence\": np.median(confidences),\n",
    "            \"final_results/min_confidence\": np.min(confidences),\n",
    "            \"final_results/max_confidence\": np.max(confidences),\n",
    "            \"final_results/confidence_distribution\": wandb.Histogram(confidences),\n",
    "            **confidence_analysis\n",
    "        })\n",
    "        print(\"최종 결과 WandB 로깅 완료!\")\n",
    "    else:\n",
    "        print(\"활성화된 run이 없어 로깅을 건너뜁니다.\")\n",
    "except Exception as e:\n",
    "    print(f\"WandB 로깅 중 에러: {e}\")\n",
    "\n",
    "# 콘솔 출력은 항상 실행\n",
    "print(f\"총 예측 수: {len(tta_predictions)}\")\n",
    "print(f\"예측된 클래스 수: {len(np.unique(tta_predictions))}\")\n",
    "print(f\"평균 신뢰도: {np.mean(confidences):.4f}\")\n",
    "print(f\"신뢰도 범위: {np.min(confidences):.4f} ~ {np.max(confidences):.4f}\")\n",
    "\n",
    "\n",
    "# 예측 분포 바차트\n",
    "try:\n",
    "    if wandb.run is not None:\n",
    "        pred_dist_data = [[f\"Class_{i}\", pred_distribution.get(i, 0)] for i in range(17)]\n",
    "        wandb.run.log({\n",
    "            \"final_results/prediction_distribution_chart\": wandb.plot.bar(\n",
    "                wandb.Table(data=pred_dist_data, columns=[\"Class\", \"Count\"]),\n",
    "                \"Class\", \"Count\", \n",
    "                title=\"Final Prediction Distribution\"\n",
    "            )\n",
    "        })\n",
    "        print(\"예측 분포 차트 로깅 완료!\")\n",
    "    else:\n",
    "        print(\"차트 로깅을 건너뜁니다.\")\n",
    "except Exception as e:\n",
    "    print(f\"차트 로깅 중 에러: {e}\")\n",
    "\n",
    "# 결과 저장\n",
    "output_path = \"../data/output/choice12.csv\"\n",
    "tta_pred_df.to_csv(output_path, index=False)\n",
    "\n",
    "# 결과 파일을 WandB 아티팩트로 저장\n",
    "artifact = wandb.Artifact(\n",
    "    name=\"final_predictions\",\n",
    "    type=\"predictions\",\n",
    "    description=f\"Final ensemble predictions with {N_FOLDS}-fold CV + TTA\"\n",
    ")\n",
    "artifact.add_file(output_path)\n",
    "\n",
    "try:\n",
    "    if wandb.run is not None:\n",
    "        wandb.run.log_artifact(artifact)\n",
    "        print(\"실험 요약 로깅 완료!\")\n",
    "    else:\n",
    "        print(\"활성화된 run이 없어 실험 요약 로깅을 건너뜁니다.\")\n",
    "except Exception as e:\n",
    "    print(f\"실험 요약 로깅 중 에러: {e}\")\n",
    "\n",
    "\n",
    "print(f\"\\n 최종 결과 저장 완료!\")\n",
    "print(f\" 파일 위치: {output_path}\")\n",
    "print(f\" 총 예측 수: {len(tta_predictions)}\")"
   ]
  },
  {
   "cell_type": "code",
   "execution_count": null,
   "id": "b5f6fc07",
   "metadata": {},
   "outputs": [
    {
     "name": "stdout",
     "output_type": "stream",
     "text": [
      "실험 요약 로깅 완료!\n",
      "최종 상태 업데이트 완료!\n",
      "\n",
      "실험 완료 시간: 2025-09-08 09:10:35\n",
      "\n",
      "============================================================\n",
      "실험 완료!\n",
      "============================================================\n",
      " K-Fold CV 결과: 0.9160 ± 0.0121\n",
      " 최고 성능 Fold: 0.9339\n",
      " 앙상블 모델: 5개\n",
      " TTA 변형: 5개\n",
      " 평균 예측 신뢰도: 0.4098\n",
      " WandB 대시보드: https://wandb.ai/kimsunmin0227-hufs/document-classification-team-CV/runs/1xxo6aw8\n",
      "\n",
      " 예측 결과 샘플:\n",
      "                     ID  target\n",
      "0  0008fdb22ddce0ce.jpg       2\n",
      "1  00091bffdffd83de.jpg      12\n",
      "2  00396fbc1f6cc21d.jpg       5\n",
      "3  00471f8038d9c4b6.jpg      12\n",
      "4  00901f504008d884.jpg       2\n",
      "5  009b22decbc7220c.jpg      15\n",
      "6  00b33e0ee6d59427.jpg       0\n",
      "7  00bbdcfbbdb3e131.jpg       8\n",
      "8  00c03047e0fbef40.jpg      15\n",
      "9  00c0dabb63ca7a16.jpg      11\n",
      "\n",
      " 모든 작업 완료!\n",
      " 결과 파일: ../data/output/choice10.csv\n",
      " WandB에서 전체 실험 결과를 확인하세요!\n"
     ]
    }
   ],
   "source": [
    "# =============================================================================\n",
    "# 19. Experiment Summary and Cleanup\n",
    "# =============================================================================\n",
    "\n",
    "# 실험 요약 생성\n",
    "experiment_summary = {\n",
    "    \"experiment_name\": main_run.name,\n",
    "    \"model_architecture\": model_name,\n",
    "    \"image_size\": img_size,\n",
    "    \"cv_strategy\": f\"{N_FOLDS}-Fold StratifiedKFold\",\n",
    "    \"cv_mean_f1\": mean_f1,\n",
    "    \"cv_std_f1\": std_f1,\n",
    "    \"cv_best_fold\": max(val_f1_scores),\n",
    "    \"ensemble_models\": len(ensemble_models),\n",
    "    \"tta_transforms\": len(essential_tta_transforms),\n",
    "    \"total_training_time_min\": sum([r['epochs_trained'] for r in fold_results]) * 2,  # 추정치\n",
    "    \"avg_prediction_confidence\": np.mean(confidences),\n",
    "    \"high_confidence_predictions\": np.sum(np.array(confidences) >= 0.9),\n",
    "    \"experiment_tags\": [\"baseline\", \"efficientnet-b3\", \"k-fold-cv\", \"tta\", \"ensemble\"]\n",
    "}\n",
    "\n",
    "# 실험 요약\n",
    "try:\n",
    "    if wandb.run is not None:\n",
    "        wandb.run.log({\"experiment_summary\": experiment_summary})\n",
    "        print(\"실험 요약 로깅 완료!\")\n",
    "    else:\n",
    "        print(\"활성화된 run이 없어 실험 요약 로깅을 건너뜁니다.\")\n",
    "except Exception as e:\n",
    "    print(f\"실험 요약 로깅 중 에러: {e}\")\n",
    "\n",
    "\n",
    "# 마지막 상태 업데이트\n",
    "try:\n",
    "    if wandb.run is not None:\n",
    "        wandb.run.log({\n",
    "            \"status\": \"completed\",\n",
    "            \"completion_time\": datetime.now().strftime(\"%Y-%m-%d %H:%M:%S\"),\n",
    "            \"total_runtime_hours\": 0  # start_time 속성 문제로 일단 0으로 설정\n",
    "        })\n",
    "        print(\"최종 상태 업데이트 완료!\")\n",
    "    else:\n",
    "        print(\"활성화된 run이 없어 상태 업데이트를 건너뜁니다.\")\n",
    "except Exception as e:\n",
    "    print(f\"상태 업데이트 중 에러: {e}\")\n",
    "\n",
    "print(f\"\\n실험 완료 시간: {datetime.now().strftime('%Y-%m-%d %H:%M:%S')}\")\n",
    "\n",
    "print(f\"\\n{'='*60}\")\n",
    "print(\"실험 완료!\")\n",
    "print(f\"{'='*60}\")\n",
    "\n",
    "print(f\" K-Fold CV 결과: {mean_f1:.4f} ± {std_f1:.4f}\")\n",
    "print(f\" 최고 성능 Fold: {max(val_f1_scores):.4f}\")\n",
    "print(f\" 앙상블 모델: {len(ensemble_models)}개\")\n",
    "print(f\" TTA 변형: {len(essential_tta_transforms)}개\")\n",
    "print(f\" 평균 예측 신뢰도: {np.mean(confidences):.4f}\")\n",
    "print(f\" WandB 대시보드: {main_run.url}\")\n",
    "\n",
    "# Sample predictions 출력\n",
    "print(f\"\\n 예측 결과 샘플:\")\n",
    "print(tta_pred_df.head(10))\n",
    "\n",
    "# 메인 run 종료\n",
    "main_run.finish()\n",
    "\n",
    "print(f\"\\n 모든 작업 완료!\")\n",
    "print(f\" 결과 파일: {output_path}\")\n",
    "print(f\" WandB에서 전체 실험 결과를 확인하세요!\")\n",
    "\n",
    "# 메모리 정리\n",
    "del ensemble_models\n",
    "torch.cuda.empty_cache()"
   ]
  },
  {
   "cell_type": "code",
   "execution_count": null,
   "id": "1fcf1b24",
   "metadata": {},
   "outputs": [],
   "source": []
  }
 ],
 "metadata": {
  "kernelspec": {
   "display_name": "base",
   "language": "python",
   "name": "python3"
  },
  "language_info": {
   "codemirror_mode": {
    "name": "ipython",
    "version": 3
   },
   "file_extension": ".py",
   "mimetype": "text/x-python",
   "name": "python",
   "nbconvert_exporter": "python",
   "pygments_lexer": "ipython3",
   "version": "3.10.13"
  }
 },
 "nbformat": 4,
 "nbformat_minor": 5
}
